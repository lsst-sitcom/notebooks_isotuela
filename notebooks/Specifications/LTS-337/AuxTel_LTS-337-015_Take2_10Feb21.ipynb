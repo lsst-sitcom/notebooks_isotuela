{
 "cells": [
  {
   "cell_type": "markdown",
   "metadata": {},
   "source": [
    "## AuxTel test LTS-337-015 (Small Slew and Settle)\n",
    "\n",
    "In this notebook, we check the speed and accuracy of the slew and settle of the telescope with a\n",
    "change of 10 degrees.  Desired specs:\n",
    "\n",
    "| Description | Value       | Unit          |   Name     |\n",
    "| :---        |    :----:   |       :----:  |       ---: |\n",
    "|The pointing accuracy requirement for small slews is:    | 2.5       | Arcsec RMS   |Aux_Tel_Sm_Slew_Abs_Pointing|\n",
    "The small elevation slew requirement for the Auxiliary Telescope used to define the Aux_Tel_Sm_Slew_Abs_Pointing requirement| 10| Degrees |Aux_Tel_Sm_Elev_Slew|\n",
    "|The small azimuth slew requirement for the Auxiliary Telescope used to define the Aux_Tel_Sm_Slew_Abs_Pointing requirement.  |10       | Degrees     |Aux_Tel_Sm_Az_Slew|\n",
    "|The allotted time to perform a slew and settle by Aux_Tel_Sm_Elev_Slew and Aux_Tel_Sm_Az_Slew by the Auxiliary Telescope and meet the Aux_Tel_Sm_Slew_Abs_Pointing pointing requirement.      | 10|Seconds|Aux_Tel_Smslew_AcqTime|"
   ]
  },
  {
   "cell_type": "code",
   "execution_count": 1,
   "metadata": {},
   "outputs": [
    {
     "name": "stderr",
     "output_type": "stream",
     "text": [
      "\n",
      "Bad key \"text.kerning_factor\" on line 4 in\n",
      "/opt/lsst/software/stack/conda/miniconda3-py37_4.8.2/envs/lsst-scipipe-cb4e2dc/lib/python3.7/site-packages/matplotlib/mpl-data/stylelib/_classic_test_patch.mplstyle.\n",
      "You probably need to get an updated matplotlibrc file from\n",
      "http://github.com/matplotlib/matplotlib/blob/master/matplotlibrc.template\n",
      "or from the matplotlib source distribution\n"
     ]
    }
   ],
   "source": [
    "import sys, time, os, asyncio\n",
    "\n",
    "from datetime import datetime\n",
    "import numpy as np\n",
    "import matplotlib.pyplot as plt\n",
    "import pandas as pd\n",
    "\n",
    "from lsst.ts import salobj\n",
    "from lsst.ts.observatory.control.auxtel.atcs import ATCS\n",
    "from lsst.ts.observatory.control.auxtel.latiss import LATISS\n",
    "from astropy.time import Time, TimeDelta\n",
    "from astropy.coordinates import AltAz, ICRS, EarthLocation, Angle, FK5\n",
    "import astropy.units as u\n",
    "from lsst_efd_client import EfdClient"
   ]
  },
  {
   "cell_type": "code",
   "execution_count": 2,
   "metadata": {},
   "outputs": [],
   "source": [
    "# Set Cerro Pachon location\n",
    "location = EarthLocation.from_geodetic(lon=-70.747698*u.deg,\n",
    "                                       lat=-30.244728*u.deg,\n",
    "                                       height=2663.0*u.m)"
   ]
  },
  {
   "cell_type": "code",
   "execution_count": 3,
   "metadata": {},
   "outputs": [],
   "source": [
    "# for tab completion to work in current notebook instance\n",
    "%config IPCompleter.use_jedi = False"
   ]
  },
  {
   "cell_type": "code",
   "execution_count": 4,
   "metadata": {},
   "outputs": [],
   "source": [
    "import logging\n",
    "stream_handler = logging.StreamHandler(sys.stdout)\n",
    "logger = logging.getLogger()\n",
    "logger.addHandler(stream_handler)\n",
    "logger.level = logging.DEBUG"
   ]
  },
  {
   "cell_type": "code",
   "execution_count": 6,
   "metadata": {},
   "outputs": [
    {
     "name": "stdout",
     "output_type": "stream",
     "text": [
      "Starting new HTTPS connection (1): roundtable.lsst.codes:443\n",
      "https://roundtable.lsst.codes:443 \"GET /segwarides/ HTTP/1.1\" 200 253\n",
      "Starting new HTTPS connection (1): roundtable.lsst.codes:443\n",
      "https://roundtable.lsst.codes:443 \"GET /segwarides/creds/summit_efd HTTP/1.1\" 200 92\n"
     ]
    }
   ],
   "source": [
    "# Get EFD client and bring in Lupton's unpacking code\n",
    "client = EfdClient('summit_efd')\n",
    "\n",
    "def merge_packed_time_series(packed_dataframe, base_field, stride=1, \n",
    "                             ref_timestamp_col=\"cRIO_timestamp\", internal_time_scale=\"tai\"):\n",
    "    \"\"\"Select fields that are time samples and unpack them into a dataframe.\n",
    "            Parameters\n",
    "            ----------\n",
    "            packedDF : `pandas.DataFrame`\n",
    "                packed data frame containing the desired data\n",
    "            base_field :  `str`\n",
    "                Base field name that will be expanded to query all\n",
    "                vector entries.\n",
    "            stride : `int`, optional\n",
    "                Only use every stride value when unpacking.  Must be a factor\n",
    "                of the number of packed values.\n",
    "                (1 by default)\n",
    "            ref_timestamp_col : `str`, optional\n",
    "                Name of the field name to use to assign timestamps to unpacked\n",
    "                vector fields (default is 'cRIO_timestamp').\n",
    "            internal_time_scale : `str`, optional\n",
    "                Time scale to use when converting times to internal formats\n",
    "                ('tai' by default). Equivalent to EfdClient.internal_scale\n",
    "        Returns\n",
    "            -------\n",
    "            result : `pandas.DataFrame`\n",
    "                A `pandas.DataFrame` containing the results of the query.\n",
    "            \"\"\"\n",
    "    \n",
    "    packed_fields = [k for k in packed_dataframe.keys() if k.startswith(base_field)]\n",
    "    packed_fields = sorted(packed_fields, key=lambda k: int(k[len(base_field):]))  # sort by pack ID\n",
    "    npack = len(packed_fields)\n",
    "    if npack%stride != 0:\n",
    "        raise RuntimeError(f\"Stride must be a factor of the number of packed fields: {stride} v. {npack}\")\n",
    "    packed_len = len(packed_dataframe)\n",
    "    n_used = npack//stride   # number of raw fields being used\n",
    "    output = np.empty(n_used*packed_len)\n",
    "    times = np.empty_like(output, dtype=packed_dataframe[ref_timestamp_col][0])\n",
    "    \n",
    "    if packed_len == 1:\n",
    "        dt = 0\n",
    "    else:\n",
    "        dt = (packed_dataframe[ref_timestamp_col][1] - packed_dataframe[ref_timestamp_col][0])/npack\n",
    "    for i in range(0, npack, stride):\n",
    "        i0 = i//stride\n",
    "        output[i0::n_used] = packed_dataframe[f\"{base_field}{i}\"]\n",
    "        times[i0::n_used] = packed_dataframe[ref_timestamp_col] + i*dt\n",
    "     \n",
    "    timestamps = Time(times, format='unix', scale=internal_time_scale).datetime64\n",
    "    return pd.DataFrame({base_field:output, \"times\":times}, index=timestamps)"
   ]
  },
  {
   "cell_type": "code",
   "execution_count": 8,
   "metadata": {
    "collapsed": true,
    "jupyter": {
     "outputs_hidden": true
    }
   },
   "outputs": [
    {
     "name": "stdout",
     "output_type": "stream",
     "text": [
      "atmcs: Adding all resources.\n",
      "atptg: Adding all resources.\n",
      "ataos: Adding all resources.\n",
      "atpneumatics: Adding all resources.\n",
      "athexapod: Adding all resources.\n",
      "atdome: Adding all resources.\n",
      "atdometrajectory: Adding all resources.\n",
      "atcamera: Adding all resources.\n",
      "atspectrograph: Adding all resources.\n",
      "atheaderservice: Adding all resources.\n",
      "atarchiver: Adding all resources.\n",
      "Read historical data in 0.00 sec\n",
      "Read 1 history items for RemoteEvent(ATHeaderService, 0, authList)\n",
      "Read 100 history items for RemoteEvent(ATHeaderService, 0, heartbeat)\n",
      "Read 9 history items for RemoteEvent(ATHeaderService, 0, largeFileObjectAvailable)\n",
      "Read 1 history items for RemoteEvent(ATHeaderService, 0, logLevel)\n",
      "Read 100 history items for RemoteEvent(ATHeaderService, 0, logMessage)\n",
      "Read 1 history items for RemoteEvent(ATHeaderService, 0, simulationMode)\n",
      "Read 1 history items for RemoteEvent(ATHeaderService, 0, softwareVersions)\n",
      "Read 21 history items for RemoteEvent(ATHeaderService, 0, summaryState)\n",
      "Read historical data in 0.03 sec\n",
      "Read 10 history items for RemoteEvent(ATSpectrograph, 0, appliedSettingsMatchStart)\n",
      "Read 1 history items for RemoteEvent(ATSpectrograph, 0, authList)\n",
      "Read 26 history items for RemoteEvent(ATSpectrograph, 0, disperserInPosition)\n",
      "Read 26 history items for RemoteEvent(ATSpectrograph, 0, filterInPosition)\n",
      "Read 11 history items for RemoteEvent(ATSpectrograph, 0, fwState)\n",
      "Read 15 history items for RemoteEvent(ATSpectrograph, 0, gwState)\n",
      "Read 100 history items for RemoteEvent(ATSpectrograph, 0, heartbeat)\n",
      "Read 1 history items for RemoteEvent(ATSpectrograph, 0, logLevel)\n",
      "Read 1 history items for RemoteEvent(ATSpectrograph, 0, logMessage)\n",
      "Read 14 history items for RemoteEvent(ATSpectrograph, 0, reportedDisperserPosition)\n",
      "Read 14 history items for RemoteEvent(ATSpectrograph, 0, reportedFilterPosition)\n",
      "Read 1 history items for RemoteEvent(ATSpectrograph, 0, reportedLinearStagePosition)\n",
      "Read 1 history items for RemoteEvent(ATSpectrograph, 0, settingVersions)\n",
      "Read 1 history items for RemoteEvent(ATSpectrograph, 0, settingsApplied)\n",
      "Read 1 history items for RemoteEvent(ATSpectrograph, 0, settingsAppliedValues)\n",
      "Read 1 history items for RemoteEvent(ATSpectrograph, 0, simulationMode)\n",
      "Read 1 history items for RemoteEvent(ATSpectrograph, 0, softwareVersions)\n",
      "Read 41 history items for RemoteEvent(ATSpectrograph, 0, summaryState)\n",
      "Read historical data in 0.08 sec\n",
      "Read 5 history items for RemoteEvent(ATPtg, 0, airmassWarning)\n",
      "Read 1 history items for RemoteEvent(ATPtg, 0, azWrapWarning)\n",
      "Read 3 history items for RemoteEvent(ATPtg, 0, currentDebugLevel)\n",
      "Read 10 history items for RemoteEvent(ATPtg, 0, currentTarget)\n",
      "Read 10 history items for RemoteEvent(ATPtg, 0, detailedState)\n",
      "Read 1 history items for RemoteEvent(ATPtg, 0, elLimitWarning)\n",
      "Read 3 history items for RemoteEvent(ATPtg, 0, errorCode)\n",
      "Read 1 history items for RemoteEvent(ATPtg, 0, focusNameInconsistentWarning)\n",
      "Read 4 history items for RemoteEvent(ATPtg, 0, focusNameSelected)\n",
      "Read 100 history items for RemoteEvent(ATPtg, 0, heartbeat)\n",
      "Read 4 history items for RemoteEvent(ATPtg, 0, iers)\n",
      "Read 3 history items for RemoteEvent(ATPtg, 0, iersOutOfDate)\n",
      "Read 1 history items for RemoteEvent(ATPtg, 0, moonProximityWarning)\n",
      "Read 2 history items for RemoteEvent(ATPtg, 0, mountDataWarning)\n",
      "Read 1 history items for RemoteEvent(ATPtg, 0, objectSetWarning)\n",
      "Read 2 history items for RemoteEvent(ATPtg, 0, pointingModel)\n",
      "Read 1 history items for RemoteEvent(ATPtg, 0, pointing_file)\n",
      "Read 1 history items for RemoteEvent(ATPtg, 0, ptgAzCurrentWrap)\n",
      "Read 1 history items for RemoteEvent(ATPtg, 0, ptgRotCurrentWrap)\n",
      "Read 1 history items for RemoteEvent(ATPtg, 0, rotWrapWarning)\n",
      "Read 9 history items for RemoteEvent(ATPtg, 0, summaryState)\n",
      "Read 5 history items for RemoteEvent(ATPtg, 0, sunProximityWarning)\n",
      "Read 12 history items for RemoteEvent(ATPtg, 0, timesOfLimits)\n",
      "Read 9 history items for RemoteEvent(ATPtg, 0, trackPosting)\n",
      "Read 2 history items for RemoteEvent(ATPtg, 0, wavelength)\n",
      "Read 100 history items for RemoteEvent(ATPtg, 0, weatherDataApplied)\n",
      "Read 100 history items for RemoteEvent(ATPtg, 0, weatherDataInvalid)\n",
      "timeAndDate DDS read queue is full (100 elements); data may be lost\n",
      "Read historical data in 0.24 sec\n",
      "Read 1 history items for RemoteEvent(ATArchiver, 0, authList)\n",
      "Read 1 history items for RemoteEvent(ATArchiver, 0, errorCode)\n",
      "Read 100 history items for RemoteEvent(ATArchiver, 0, heartbeat)\n",
      "Read 48 history items for RemoteEvent(ATArchiver, 0, imageInOODS)\n",
      "Read 48 history items for RemoteEvent(ATArchiver, 0, imageRetrievalForArchiving)\n",
      "Read 1 history items for RemoteEvent(ATArchiver, 0, logLevel)\n",
      "Read 1 history items for RemoteEvent(ATArchiver, 0, logMessage)\n",
      "Read 1 history items for RemoteEvent(ATArchiver, 0, simulationMode)\n",
      "Read 1 history items for RemoteEvent(ATArchiver, 0, softwareVersions)\n",
      "Read 45 history items for RemoteEvent(ATArchiver, 0, summaryState)\n",
      "Read historical data in 0.29 sec\n",
      "Read 16 history items for RemoteEvent(ATPneumatics, 0, appliedSettingsMatchStart)\n",
      "Read 18 history items for RemoteEvent(ATPneumatics, 0, cellVentsState)\n",
      "Read 1 history items for RemoteEvent(ATPneumatics, 0, eStop)\n",
      "Read 100 history items for RemoteEvent(ATPneumatics, 0, heartbeat)\n",
      "Read 24 history items for RemoteEvent(ATPneumatics, 0, instrumentState)\n",
      "Read 24 history items for RemoteEvent(ATPneumatics, 0, m1CoverLimitSwitches)\n",
      "Read 29 history items for RemoteEvent(ATPneumatics, 0, m1CoverState)\n",
      "Read 100 history items for RemoteEvent(ATPneumatics, 0, m1SetPressure)\n",
      "Read 39 history items for RemoteEvent(ATPneumatics, 0, m1State)\n",
      "Read 1 history items for RemoteEvent(ATPneumatics, 0, m1VentsPosition)\n",
      "Read 33 history items for RemoteEvent(ATPneumatics, 0, m2State)\n",
      "Read 24 history items for RemoteEvent(ATPneumatics, 0, mainValveState)\n",
      "Read 1 history items for RemoteEvent(ATPneumatics, 0, powerStatus)\n",
      "Read 16 history items for RemoteEvent(ATPneumatics, 0, settingVersions)\n",
      "Read 66 history items for RemoteEvent(ATPneumatics, 0, summaryState)\n",
      "Read historical data in 0.33 sec\n",
      "Read 1 history items for RemoteEvent(ATDomeTrajectory, 0, algorithm)\n",
      "Read 17 history items for RemoteEvent(ATDomeTrajectory, 0, appliedSettingsMatchStart)\n",
      "Read 1 history items for RemoteEvent(ATDomeTrajectory, 0, authList)\n",
      "Read 100 history items for RemoteEvent(ATDomeTrajectory, 0, heartbeat)\n",
      "Read 1 history items for RemoteEvent(ATDomeTrajectory, 0, logLevel)\n",
      "Read 31 history items for RemoteEvent(ATDomeTrajectory, 0, logMessage)\n",
      "Read 1 history items for RemoteEvent(ATDomeTrajectory, 0, settingVersions)\n",
      "Read 1 history items for RemoteEvent(ATDomeTrajectory, 0, settingsApplied)\n",
      "Read 1 history items for RemoteEvent(ATDomeTrajectory, 0, simulationMode)\n",
      "Read 1 history items for RemoteEvent(ATDomeTrajectory, 0, softwareVersions)\n",
      "Read 65 history items for RemoteEvent(ATDomeTrajectory, 0, summaryState)\n",
      "Read historical data in 0.35 sec\n",
      "Read 10 history items for RemoteEvent(ATCamera, 0, appliedSettingsMatchStart)\n",
      "Read 100 history items for RemoteEvent(ATCamera, 0, ccsCommandState)\n",
      "Read 48 history items for RemoteEvent(ATCamera, 0, endOfImageTelemetry)\n",
      "Read 48 history items for RemoteEvent(ATCamera, 0, endReadout)\n",
      "Read 27 history items for RemoteEvent(ATCamera, 0, endShutterClose)\n",
      "Read 26 history items for RemoteEvent(ATCamera, 0, endShutterOpen)\n",
      "Read 11 history items for RemoteEvent(ATCamera, 0, focalPlaneHardwareIdSettingsApplied)\n",
      "Read 11 history items for RemoteEvent(ATCamera, 0, focalPlaneSummaryInfo)\n",
      "Read 100 history items for RemoteEvent(ATCamera, 0, heartbeat)\n",
      "Read 100 history items for RemoteEvent(ATCamera, 0, imageReadinessDetailedState)\n",
      "Read 48 history items for RemoteEvent(ATCamera, 0, imageReadoutParameters)\n",
      "Read 4 history items for RemoteEvent(ATCamera, 0, offlineDetailedState)\n",
      "Read 100 history items for RemoteEvent(ATCamera, 0, raftsDetailedState)\n",
      "Read 12 history items for RemoteEvent(ATCamera, 0, settingVersions)\n",
      "Read 54 history items for RemoteEvent(ATCamera, 0, shutterDetailedState)\n",
      "Read 27 history items for RemoteEvent(ATCamera, 0, shutterMotionProfile)\n",
      "Read 12 history items for RemoteEvent(ATCamera, 0, softwareVersions)\n",
      "Read 48 history items for RemoteEvent(ATCamera, 0, startIntegration)\n",
      "Read 48 history items for RemoteEvent(ATCamera, 0, startReadout)\n",
      "Read 44 history items for RemoteEvent(ATCamera, 0, summaryState)\n",
      "Read historical data in 0.43 sec\n",
      "Read 14 history items for RemoteEvent(ATHexapod, 0, appliedSettingsMatchStart)\n",
      "Read 1 history items for RemoteEvent(ATHexapod, 0, authList)\n",
      "Read 100 history items for RemoteEvent(ATHexapod, 0, detailedState)\n",
      "Read 1 history items for RemoteEvent(ATHexapod, 0, errorCode)\n",
      "Read 100 history items for RemoteEvent(ATHexapod, 0, heartbeat)\n",
      "Read 100 history items for RemoteEvent(ATHexapod, 0, inPosition)\n",
      "Read 1 history items for RemoteEvent(ATHexapod, 0, logLevel)\n",
      "Read 11 history items for RemoteEvent(ATHexapod, 0, logMessage)\n",
      "Read 100 history items for RemoteEvent(ATHexapod, 0, positionUpdate)\n",
      "Read 1 history items for RemoteEvent(ATHexapod, 0, readyForCommand)\n",
      "Read 1 history items for RemoteEvent(ATHexapod, 0, settingVersions)\n",
      "Read 1 history items for RemoteEvent(ATHexapod, 0, settingsApplied)\n",
      "Read 1 history items for RemoteEvent(ATHexapod, 0, settingsAppliedPivot)\n",
      "Read 1 history items for RemoteEvent(ATHexapod, 0, settingsAppliedPositionLimits)\n",
      "Read 1 history items for RemoteEvent(ATHexapod, 0, settingsAppliedTcp)\n",
      "Read 1 history items for RemoteEvent(ATHexapod, 0, settingsAppliedVelocities)\n",
      "Read 1 history items for RemoteEvent(ATHexapod, 0, simulationMode)\n",
      "Read 1 history items for RemoteEvent(ATHexapod, 0, softwareVersions)\n",
      "Read 56 history items for RemoteEvent(ATHexapod, 0, summaryState)\n",
      "Read historical data in 0.46 sec\n",
      "Read 15 history items for RemoteEvent(ATAOS, 0, appliedSettingsMatchStart)\n",
      "Read 23 history items for RemoteEvent(ATAOS, 0, atspectrographCorrectionCompleted)\n",
      "Read 23 history items for RemoteEvent(ATAOS, 0, atspectrographCorrectionStarted)\n",
      "Read 1 history items for RemoteEvent(ATAOS, 0, authList)\n",
      "Read 22 history items for RemoteEvent(ATAOS, 0, correctionEnabled)\n",
      "Read 27 history items for RemoteEvent(ATAOS, 0, correctionOffsets)\n",
      "Read 100 history items for RemoteEvent(ATAOS, 0, detailedState)\n",
      "Read 27 history items for RemoteEvent(ATAOS, 0, focusOffsetSummary)\n",
      "Read 100 history items for RemoteEvent(ATAOS, 0, heartbeat)\n",
      "Read 100 history items for RemoteEvent(ATAOS, 0, hexapodCorrectionCompleted)\n",
      "Read 100 history items for RemoteEvent(ATAOS, 0, hexapodCorrectionStarted)\n",
      "Read 1 history items for RemoteEvent(ATAOS, 0, logLevel)\n",
      "Read 100 history items for RemoteEvent(ATAOS, 0, logMessage)\n",
      "Read 100 history items for RemoteEvent(ATAOS, 0, m1CorrectionCompleted)\n",
      "Read 100 history items for RemoteEvent(ATAOS, 0, m1CorrectionStarted)\n",
      "Read 7 history items for RemoteEvent(ATAOS, 0, pointingOffsetSummary)\n",
      "Read 1 history items for RemoteEvent(ATAOS, 0, settingVersions)\n",
      "Read 3 history items for RemoteEvent(ATAOS, 0, settingsApplied)\n",
      "Read 1 history items for RemoteEvent(ATAOS, 0, simulationMode)\n",
      "Read 1 history items for RemoteEvent(ATAOS, 0, softwareVersions)\n",
      "Read 61 history items for RemoteEvent(ATAOS, 0, summaryState)\n",
      "Read historical data in 0.52 sec\n",
      "Read 100 history items for RemoteEvent(ATMCS, 0, allAxesInPosition)\n",
      "Read 26 history items for RemoteEvent(ATMCS, 0, appliedSettingsMatchStart)\n",
      "Read 100 history items for RemoteEvent(ATMCS, 0, atMountState)\n",
      "Read 52 history items for RemoteEvent(ATMCS, 0, azimuthBrake1)\n",
      "Read 52 history items for RemoteEvent(ATMCS, 0, azimuthBrake2)\n",
      "Read 52 history items for RemoteEvent(ATMCS, 0, azimuthDrive1Status)\n",
      "Read 52 history items for RemoteEvent(ATMCS, 0, azimuthDrive2Status)\n",
      "Read 100 history items for RemoteEvent(ATMCS, 0, azimuthInPosition)\n",
      "Read 52 history items for RemoteEvent(ATMCS, 0, elevationBrake)\n",
      "Read 52 history items for RemoteEvent(ATMCS, 0, elevationDriveStatus)\n",
      "Read 87 history items for RemoteEvent(ATMCS, 0, elevationInPosition)\n",
      "Read 4 history items for RemoteEvent(ATMCS, 0, elevationLimitSwitchLower)\n",
      "Read 1 history items for RemoteEvent(ATMCS, 0, errorCode)\n",
      "Read 100 history items for RemoteEvent(ATMCS, 0, heartbeat)\n",
      "Read 52 history items for RemoteEvent(ATMCS, 0, m3State)\n",
      "Read 52 history items for RemoteEvent(ATMCS, 0, nasmyth1Brake)\n",
      "Read 52 history items for RemoteEvent(ATMCS, 0, nasmyth1DriveStatus)\n",
      "Read 30 history items for RemoteEvent(ATMCS, 0, nasmyth1RotatorInPosition)\n",
      "Read 52 history items for RemoteEvent(ATMCS, 0, nasmyth2Brake)\n",
      "Read 52 history items for RemoteEvent(ATMCS, 0, nasmyth2DriveStatus)\n",
      "Read 100 history items for RemoteEvent(ATMCS, 0, nasmyth2RotatorInPosition)\n",
      "Read 26 history items for RemoteEvent(ATMCS, 0, positionLimits)\n",
      "Read 26 history items for RemoteEvent(ATMCS, 0, settingVersions)\n",
      "Read 100 history items for RemoteEvent(ATMCS, 0, summaryState)\n",
      "Read 100 history items for RemoteEvent(ATMCS, 0, target)\n",
      "Read historical data in 0.60 sec\n",
      "Read 25 history items for RemoteEvent(ATDome, 0, allAxesInPosition)\n",
      "Read 16 history items for RemoteEvent(ATDome, 0, appliedSettingsMatchStart)\n",
      "Read 1 history items for RemoteEvent(ATDome, 0, authList)\n",
      "Read 22 history items for RemoteEvent(ATDome, 0, azimuthCommandedState)\n",
      "Read 27 history items for RemoteEvent(ATDome, 0, azimuthInPosition)\n",
      "Read 23 history items for RemoteEvent(ATDome, 0, azimuthState)\n",
      "Read 100 history items for RemoteEvent(ATDome, 0, doorEncoderExtremes)\n",
      "Read 9 history items for RemoteEvent(ATDome, 0, dropoutDoorCommandedState)\n",
      "Read 1 history items for RemoteEvent(ATDome, 0, dropoutDoorState)\n",
      "Read 1 history items for RemoteEvent(ATDome, 0, emergencyStop)\n",
      "Read 100 history items for RemoteEvent(ATDome, 0, heartbeat)\n",
      "Read 11 history items for RemoteEvent(ATDome, 0, lastAzimuthGoTo)\n",
      "Read 1 history items for RemoteEvent(ATDome, 0, logLevel)\n",
      "Read 46 history items for RemoteEvent(ATDome, 0, logMessage)\n",
      "Read 9 history items for RemoteEvent(ATDome, 0, mainDoorCommandedState)\n",
      "Read 1 history items for RemoteEvent(ATDome, 0, mainDoorState)\n",
      "Read 26 history items for RemoteEvent(ATDome, 0, scbLink)\n",
      "Read 1 history items for RemoteEvent(ATDome, 0, settingVersions)\n",
      "Read 1 history items for RemoteEvent(ATDome, 0, settingsApplied)\n",
      "Read 24 history items for RemoteEvent(ATDome, 0, settingsAppliedDomeController)\n",
      "Read 16 history items for RemoteEvent(ATDome, 0, settingsAppliedDomeTcp)\n",
      "Read 2 history items for RemoteEvent(ATDome, 0, shutterInPosition)\n",
      "Read 1 history items for RemoteEvent(ATDome, 0, simulationMode)\n",
      "Read 1 history items for RemoteEvent(ATDome, 0, softwareVersions)\n",
      "Read 35 history items for RemoteEvent(ATDome, 0, summaryState)\n"
     ]
    },
    {
     "data": {
      "text/plain": [
       "[[None, None, None, None, None, None, None], [None, None, None, None]]"
      ]
     },
     "execution_count": 8,
     "metadata": {},
     "output_type": "execute_result"
    }
   ],
   "source": [
    "#get classes and start them\n",
    "domain = salobj.Domain()\n",
    "await asyncio.sleep(10) # This can be removed in the future...\n",
    "atcs = ATCS(domain)\n",
    "latiss = LATISS(domain)\n",
    "await asyncio.gather(atcs.start_task, latiss.start_task)"
   ]
  },
  {
   "cell_type": "code",
   "execution_count": 97,
   "metadata": {
    "collapsed": true,
    "jupyter": {
     "outputs_hidden": true
    }
   },
   "outputs": [
    {
     "name": "stdout",
     "output_type": "stream",
     "text": [
      "Enabling all components\n",
      "Gathering settings.\n",
      "atdome check is disabled, skipping.\n",
      "atdometrajectory check is disabled, skipping.\n",
      "Couldn't get settingVersions event. Using empty settings.\n",
      "Complete settings for atmcs.\n",
      "Complete settings for atptg.\n",
      "Complete settings for ataos.\n",
      "Complete settings for atpneumatics.\n",
      "Complete settings for athexapod.\n",
      "Settings versions: {'atmcs': '                                                                                                                               ', 'atptg': '', 'ataos': 'current', 'atpneumatics': '                                                                                                                               ', 'athexapod': 'summit'}\n",
      "[atmcs]::[<State.STANDBY: 5>, <State.DISABLED: 1>, <State.ENABLED: 2>]\n",
      "[atptg]::[<State.STANDBY: 5>, <State.DISABLED: 1>, <State.ENABLED: 2>]\n",
      "[ataos]::[<State.STANDBY: 5>, <State.DISABLED: 1>, <State.ENABLED: 2>]\n",
      "[atpneumatics]::[<State.STANDBY: 5>, <State.DISABLED: 1>, <State.ENABLED: 2>]\n",
      "[athexapod]::[<State.STANDBY: 5>, <State.DISABLED: 1>, <State.ENABLED: 2>]\n",
      "[atdome]::<State.STANDBY: 5>\n",
      "[atdometrajectory]::<State.STANDBY: 5>\n",
      "All components in <State.ENABLED: 2>.\n",
      "Enabling all components\n",
      "Gathering settings.\n",
      "Couldn't get settingVersions event. Using empty settings.\n",
      "Couldn't get settingVersions event. Using empty settings.\n",
      "Complete settings for atcamera.\n",
      "Complete settings for atspectrograph.\n",
      "Complete settings for atheaderservice.\n",
      "Complete settings for atarchiver.\n",
      "Settings versions: {'atcamera': '', 'atspectrograph': 'current', 'atheaderservice': '', 'atarchiver': ''}\n",
      "[atcamera]::[<State.STANDBY: 5>, <State.DISABLED: 1>, <State.ENABLED: 2>]\n",
      "[atspectrograph]::[<State.STANDBY: 5>, <State.DISABLED: 1>, <State.ENABLED: 2>]\n",
      "[atheaderservice]::[<State.STANDBY: 5>, <State.DISABLED: 1>, <State.ENABLED: 2>]\n",
      "[atarchiver]::[<State.STANDBY: 5>, <State.DISABLED: 1>, <State.ENABLED: 2>]\n",
      "All components in <State.ENABLED: 2>.\n"
     ]
    }
   ],
   "source": [
    "# enable components if required\n",
    "await atcs.enable()\n",
    "await latiss.enable()"
   ]
  },
  {
   "cell_type": "code",
   "execution_count": 98,
   "metadata": {},
   "outputs": [],
   "source": [
    "# take event checking out the slew commands to test telescope only\n",
    "# otherwise it'll wait for the dome before completing slew command\n",
    "atcs.check.atdome = False\n",
    "atcs.check.atdometrajectory = False"
   ]
  },
  {
   "cell_type": "code",
   "execution_count": 99,
   "metadata": {},
   "outputs": [],
   "source": [
    "# turn on ATAOS corrections just to make sure the mirror is under air\n",
    "tmp = await atcs.rem.ataos.cmd_enableCorrection.set_start(m1=True, hexapod=True, atspectrograph=False)"
   ]
  },
  {
   "cell_type": "code",
   "execution_count": 100,
   "metadata": {},
   "outputs": [
    {
     "data": {
      "text/plain": [
       "<ddsutil.ATPtg_ackcmd_8110c0a5 at 0x7fe5f2272a50>"
      ]
     },
     "execution_count": 100,
     "metadata": {},
     "output_type": "execute_result"
    }
   ],
   "source": [
    "# Ensure we're using Nasmyth 2\n",
    "await atcs.rem.atptg.cmd_focusName.set_start(focus=3)"
   ]
  },
  {
   "cell_type": "code",
   "execution_count": 91,
   "metadata": {},
   "outputs": [
    {
     "name": "stdout",
     "output_type": "stream",
     "text": [
      "Sending command\n",
      "Stop tracking.\n",
      "Unknown tracking state: 10\n",
      "Scheduling check coroutines\n",
      "process as completed...\n",
      "atmcs: <State.ENABLED: 2>\n",
      "atptg: <State.ENABLED: 2>\n",
      "ataos: <State.ENABLED: 2>\n",
      "atpneumatics: <State.ENABLED: 2>\n",
      "athexapod: <State.ENABLED: 2>\n",
      "Got False\n",
      "Telescope not in position\n",
      "[Telescope] delta Alt = +012.623 deg; delta Az= +057.662 deg; delta N1 = +000.000 deg; delta N2 = -105.242 deg \n",
      "[Telescope] delta Alt = +012.497 deg; delta Az= +056.025 deg; delta N1 = +000.000 deg; delta N2 = -102.610 deg \n",
      "[Telescope] delta Alt = +009.423 deg; delta Az= +050.054 deg; delta N1 = +000.000 deg; delta N2 = -096.609 deg \n",
      "[Telescope] delta Alt = +003.694 deg; delta Az= +044.055 deg; delta N1 = +000.000 deg; delta N2 = -090.607 deg \n",
      "[Telescope] delta Alt = +000.239 deg; delta Az= +038.054 deg; delta N1 = +000.000 deg; delta N2 = -086.615 deg \n",
      "[Telescope] delta Alt = -000.000 deg; delta Az= +034.055 deg; delta N1 = +000.000 deg; delta N2 = -082.609 deg \n",
      "[Telescope] delta Alt = -000.000 deg; delta Az= +030.053 deg; delta N1 = +000.000 deg; delta N2 = -076.612 deg \n",
      "[Telescope] delta Alt = -000.000 deg; delta Az= +024.063 deg; delta N1 = +000.000 deg; delta N2 = -070.610 deg \n",
      "[Telescope] delta Alt = +000.000 deg; delta Az= +018.217 deg; delta N1 = +000.000 deg; delta N2 = -064.604 deg \n",
      "[Telescope] delta Alt = +000.000 deg; delta Az= +014.525 deg; delta N1 = +000.000 deg; delta N2 = -062.606 deg \n",
      "[Telescope] delta Alt = +000.000 deg; delta Az= +011.104 deg; delta N1 = -000.000 deg; delta N2 = -056.615 deg \n",
      "[Telescope] delta Alt = +000.000 deg; delta Az= +006.683 deg; delta N1 = -000.000 deg; delta N2 = -050.606 deg \n",
      "[Telescope] delta Alt = +000.000 deg; delta Az= +003.337 deg; delta N1 = -000.000 deg; delta N2 = -044.614 deg \n",
      "[Telescope] delta Alt = +000.000 deg; delta Az= +001.778 deg; delta N1 = -000.000 deg; delta N2 = -040.608 deg \n",
      "[Telescope] delta Alt = +000.000 deg; delta Az= +000.425 deg; delta N1 = -000.000 deg; delta N2 = -034.611 deg \n",
      "[Telescope] delta Alt = -000.000 deg; delta Az= +000.016 deg; delta N1 = -000.000 deg; delta N2 = -030.615 deg \n",
      "[Telescope] delta Alt = -000.000 deg; delta Az= -000.000 deg; delta N1 = -000.000 deg; delta N2 = -024.610 deg \n",
      "[Telescope] delta Alt = +000.000 deg; delta Az= -000.000 deg; delta N1 = -000.000 deg; delta N2 = -018.744 deg \n",
      "[Telescope] delta Alt = -000.000 deg; delta Az= -000.000 deg; delta N1 = -000.000 deg; delta N2 = -013.254 deg \n",
      "[Telescope] delta Alt = -000.000 deg; delta Az= -000.000 deg; delta N1 = -000.000 deg; delta N2 = -008.449 deg \n",
      "[Telescope] delta Alt = -000.000 deg; delta Az= -000.000 deg; delta N1 = +000.000 deg; delta N2 = -004.619 deg \n",
      "[Telescope] delta Alt = -000.000 deg; delta Az= +000.000 deg; delta N1 = -000.000 deg; delta N2 = -001.960 deg \n",
      "[Telescope] delta Alt = -000.000 deg; delta Az= +000.000 deg; delta N1 = -000.000 deg; delta N2 = -000.503 deg \n",
      "[Telescope] delta Alt = -000.000 deg; delta Az= +000.000 deg; delta N1 = -000.000 deg; delta N2 = -000.026 deg \n",
      "Got True\n",
      "Waiting for telescope to settle.\n",
      "[Telescope] delta Alt = -000.000 deg; delta Az= +000.000 deg; delta N1 = +000.000 deg; delta N2 = +000.000 deg \n",
      "Axes in position.\n"
     ]
    }
   ],
   "source": [
    "# point telescope to desired starting position\n",
    "start_az=0\n",
    "start_el=70\n",
    "start_rot_pa=0\n",
    "await atcs.point_azel(start_az, start_el, rot_tel=start_rot_pa, wait_dome=False)"
   ]
  },
  {
   "cell_type": "code",
   "execution_count": 101,
   "metadata": {},
   "outputs": [
    {
     "data": {
      "text/plain": [
       "'\\n# For large slew and settle\\nd_az= 90 # degrees\\nd_el = 60 # degrees\\nd_rot= 0 # degrees\\n\\n# What we actually care about for the survey! So measure this too\\nd_az= 3.5 # degrees\\nd_el = 3.5 # degrees\\nd_rot= 0 # degrees\\n'"
      ]
     },
     "execution_count": 101,
     "metadata": {},
     "output_type": "execute_result"
    }
   ],
   "source": [
    "#declare offset sizes for tests\n",
    "\n",
    "# For small slew and settle\n",
    "d_az= 10 # degrees\n",
    "d_el = 10 # degrees\n",
    "d_rot= 0 # degrees\n",
    "\n",
    "\"\"\"\n",
    "# For large slew and settle\n",
    "d_az= 90 # degrees\n",
    "d_el = 60 # degrees\n",
    "d_rot= 0 # degrees\n",
    "\n",
    "# What we actually care about for the survey! So measure this too\n",
    "d_az= 3.5 # degrees\n",
    "d_el = 3.5 # degrees\n",
    "d_rot= 0 # degrees\n",
    "\"\"\""
   ]
  },
  {
   "cell_type": "code",
   "execution_count": 102,
   "metadata": {},
   "outputs": [
    {
     "name": "stdout",
     "output_type": "stream",
     "text": [
      "orig az 0.0 deg and el 70.0 deg\n",
      "Current Position is: \n",
      " <AltAz Coordinate (obstime=59256.783597232876, location=(1819093.56876225, -5208411.6827961, -3195180.61110659) m, pressure=0.0 hPa, temperature=0.0 deg_C, relative_humidity=0.0, obswl=1.0 micron): (az, alt) in deg\n",
      "    (0., 70.)>\n",
      "Current Position is: \n",
      " <ICRS Coordinate: (ra, dec) in deg\n",
      "    (353.13069919, -10.3573162)>\n",
      "target az 10.0 deg and el 80.0 deg\n",
      "Target Position is: \n",
      " <AltAz Coordinate (obstime=59256.783597232876, location=(1819093.56876225, -5208411.6827961, -3195180.61110659) m, pressure=0.0 hPa, temperature=0.0 deg_C, relative_humidity=0.0, obswl=1.0 micron): (az, alt) in deg\n",
      "    (10., 80.)>\n",
      "Target Position is: \n",
      " <ICRS Coordinate: (ra, dec) in deg\n",
      "    (354.9728901, -20.49647723)>\n"
     ]
    }
   ],
   "source": [
    "# get RA/DEC of current telescope Alt/Az position\n",
    "az = Angle(start_az, unit=u.deg)\n",
    "el = Angle(start_el, unit=u.deg)\n",
    "print(f'orig az {az} and el {el}')\n",
    "time_data = await atcs.rem.atptg.tel_timeAndDate.next(flush=True, timeout=2)\n",
    "# This should be TAI and not UTC... so will be 37s off system clock seconds ??\n",
    "curr_time_atptg = Time(time_data.mjd, format=\"mjd\")\n",
    "\n",
    "coord_frame_AltAz = AltAz(location=location, obstime=curr_time_atptg)\n",
    "coord_frame_radec = ICRS()\n",
    "coord_azel = AltAz(az=az, alt=el, location=location, obstime=curr_time_atptg)\n",
    "ra_dec = coord_azel.transform_to(coord_frame_radec)\n",
    "print('Current Position is: \\n {}'.format(coord_azel))\n",
    "print('Current Position is: \\n {}'.format(ra_dec))\n",
    "\n",
    "# get RA/DEC of target position\n",
    "az = Angle(start_az+d_az, unit=u.deg)\n",
    "el = Angle(start_el+d_el, unit=u.deg)\n",
    "print(f'target az {az} and el {el}')\n",
    "coord_azel_target = AltAz(az=az, alt=el, location=location, obstime=curr_time_atptg)\n",
    "ra_dec_target = coord_azel_target.transform_to(coord_frame_radec)\n",
    "print('Target Position is: \\n {}'.format(coord_azel_target))\n",
    "print('Target Position is: \\n {}'.format(ra_dec_target))"
   ]
  },
  {
   "cell_type": "code",
   "execution_count": 103,
   "metadata": {},
   "outputs": [
    {
     "name": "stdout",
     "output_type": "stream",
     "text": [
      "Auto sky angle: 0.0 deg\n",
      "Sending command\n",
      "Scheduling check coroutines\n",
      "process as completed...\n",
      "atmcs: <State.ENABLED: 2>\n",
      "atptg: <State.ENABLED: 2>\n",
      "ataos: <State.ENABLED: 2>\n",
      "atpneumatics: <State.ENABLED: 2>\n",
      "athexapod: <State.ENABLED: 2>\n",
      "[Telescope] delta Alt = -009.904 deg; delta Az= +000.234 deg; delta N1 = +000.000 deg; delta N2 = +068.764 deg \n",
      "[Telescope] delta Alt = -008.538 deg; delta Az= +000.004 deg; delta N1 = +000.000 deg; delta N2 = +064.008 deg \n",
      "[Telescope] delta Alt = -003.112 deg; delta Az= +000.008 deg; delta N1 = +000.000 deg; delta N2 = +058.036 deg \n",
      "[Telescope] delta Alt = -000.042 deg; delta Az= +000.008 deg; delta N1 = +000.000 deg; delta N2 = +052.073 deg \n",
      "[Telescope] delta Alt = +000.000 deg; delta Az= +000.007 deg; delta N1 = +000.000 deg; delta N2 = +046.102 deg \n",
      "[Telescope] delta Alt = +000.000 deg; delta Az= +000.007 deg; delta N1 = +000.000 deg; delta N2 = +040.133 deg \n",
      "[Telescope] delta Alt = -000.000 deg; delta Az= +000.008 deg; delta N1 = +000.000 deg; delta N2 = +034.171 deg \n",
      "[Telescope] delta Alt = -000.000 deg; delta Az= +000.008 deg; delta N1 = +000.000 deg; delta N2 = +028.193 deg \n",
      "[Telescope] delta Alt = +000.000 deg; delta Az= +000.008 deg; delta N1 = +000.000 deg; delta N2 = +022.252 deg \n",
      "[Telescope] delta Alt = -000.000 deg; delta Az= +000.008 deg; delta N1 = -000.000 deg; delta N2 = +016.519 deg \n",
      "[Telescope] delta Alt = -000.000 deg; delta Az= +000.008 deg; delta N1 = +000.000 deg; delta N2 = +011.269 deg \n",
      "[Telescope] delta Alt = -000.000 deg; delta Az= +000.008 deg; delta N1 = -000.000 deg; delta N2 = +006.814 deg \n",
      "[Telescope] delta Alt = -000.000 deg; delta Az= +000.007 deg; delta N1 = -000.000 deg; delta N2 = +003.428 deg \n",
      "[Telescope] delta Alt = -000.000 deg; delta Az= +000.008 deg; delta N1 = -000.000 deg; delta N2 = +001.246 deg \n",
      "[Telescope] delta Alt = -000.000 deg; delta Az= +000.007 deg; delta N1 = -000.000 deg; delta N2 = +000.212 deg \n",
      "[Telescope] delta Alt = -000.000 deg; delta Az= -000.004 deg; delta N1 = -000.000 deg; delta N2 = +000.018 deg \n",
      "Got True\n",
      "Telescope in position.\n",
      "track for 2s\n",
      "Generating group_id\n",
      "ENGTEST 0001 - 0001\n"
     ]
    },
    {
     "data": {
      "text/plain": [
       "array([2021021100003])"
      ]
     },
     "execution_count": 103,
     "metadata": {},
     "output_type": "execute_result"
    }
   ],
   "source": [
    "# Slew to starting position and take an image to check headers\n",
    "await atcs.slew_icrs(ra=str(ra_dec.ra), dec=str(ra_dec.dec), rot=0.0,\n",
    "                      slew_timeout=240., stop_before_slew=False, wait_settle=False)\n",
    "\n",
    "\n",
    "print('track for 2s')\n",
    "await asyncio.sleep(2)\n",
    "# take a quick image to get some header data\n",
    "await latiss.take_engtest(exptime=1)\n"
   ]
  },
  {
   "cell_type": "code",
   "execution_count": 7,
   "metadata": {},
   "outputs": [
    {
     "name": "stdout",
     "output_type": "stream",
     "text": [
      "200: SELECT * FROM \"efd\".\"autogen\".\"lsst.sal.ATPtg.mount_positions\" WHERE time >= '2021-02-11T18:49:30.484Z' AND time <= '2021-02-11T18:49:32.484Z'\n",
      "Note: NumExpr detected 32 cores but \"NUMEXPR_MAX_THREADS\" not set, so enforcing safe limit of 8.\n",
      "NumExpr defaulting to 8 threads.\n"
     ]
    }
   ],
   "source": [
    "# Check tracking\n",
    "end_time = Time('2021-02-11T18:49:30.484', format='fits', scale='tai')\n",
    "t_end = end_time + TimeDelta(2, format='sec')\n",
    "nsec = 2\n",
    "await asyncio.sleep(6)\n",
    "mount_position = await client.select_time_series(\"lsst.sal.ATPtg.mount_positions\", ['*'],\n",
    "                                          t_end - TimeDelta(nsec, format='sec'), t_end)\n",
    "ra = merge_packed_time_series(mount_position, 'ra', stride=1)\n",
    "dec = merge_packed_time_series(mount_position, 'declination', stride=1)\n",
    "ra_vals = np.array(ra.values.tolist())[:,0]\n",
    "dec_vals = np.array(dec.values.tolist())[:,0]"
   ]
  },
  {
   "cell_type": "code",
   "execution_count": null,
   "metadata": {},
   "outputs": [],
   "source": [
    "# Errors in arcsec\n",
    "ra_rms = np.sqrt(np.mean((ra_vals - ra_dec_target.ra.value)**2)) * 3600.0 \n",
    "dec_rms = np.sqrt(np.mean((dec_vals - ra_dec_target.dec.value)**2)) * 3600.0 \n",
    "ra_accuracies.append(ra_rms)\n",
    "dec_accuracies.append(dec_rms)\n",
    "print(f\"RA rms = {ra_rms}. Dec rms = {dec_rms}.\")\n"
   ]
  },
  {
   "cell_type": "code",
   "execution_count": 105,
   "metadata": {},
   "outputs": [
    {
     "name": "stdout",
     "output_type": "stream",
     "text": [
      "update_title_pos\n",
      "Assigning font /b'F1' = '/opt/lsst/software/stack/conda/miniconda3-py37_4.8.2/envs/lsst-scipipe-cb4e2dc/lib/python3.7/site-packages/matplotlib/mpl-data/fonts/ttf/DejaVuSans.ttf'\n",
      "update_title_pos\n",
      "Embedding font /opt/lsst/software/stack/conda/miniconda3-py37_4.8.2/envs/lsst-scipipe-cb4e2dc/lib/python3.7/site-packages/matplotlib/mpl-data/fonts/ttf/DejaVuSans.ttf.\n",
      "Writing TrueType font.\n",
      "update_title_pos\n",
      "update_title_pos\n",
      "update_title_pos\n",
      "update_title_pos\n",
      "update_title_pos\n",
      "update_title_pos\n",
      "update_title_pos\n",
      "update_title_pos\n",
      "update_title_pos\n",
      "update_title_pos\n"
     ]
    },
    {
     "data": {
      "image/png": "[encoded data removed]",
      "text/plain": [
       "<Figure size 432x288 with 2 Axes>"
      ]
     },
     "metadata": {
      "needs_background": "light"
     },
     "output_type": "display_data"
    }
   ],
   "source": [
    "dec['declination'].plot(legend=True)\n",
    "ra['ra'].plot(legend=True, secondary_y=True)\n",
    "plt.savefig(\"/home/craiglagegit/DATA/RA_Dec_Trends_Take2_11Feb21.pdf\")"
   ]
  },
  {
   "cell_type": "code",
   "execution_count": 28,
   "metadata": {},
   "outputs": [],
   "source": [
    "az = merge_packed_time_series(mount_position, 'azimuthCalculatedAngle', stride=1)\n",
    "el = merge_packed_time_series(mount_position, 'elevationCalculatedAngle', stride=1)"
   ]
  },
  {
   "cell_type": "code",
   "execution_count": 29,
   "metadata": {},
   "outputs": [
    {
     "name": "stdout",
     "output_type": "stream",
     "text": [
      "update_title_pos\n",
      "Assigning font /b'F1' = '/opt/lsst/software/stack/conda/miniconda3-py37_4.8.2/envs/lsst-scipipe-cb4e2dc/lib/python3.7/site-packages/matplotlib/mpl-data/fonts/ttf/DejaVuSans.ttf'\n",
      "update_title_pos\n",
      "Embedding font /opt/lsst/software/stack/conda/miniconda3-py37_4.8.2/envs/lsst-scipipe-cb4e2dc/lib/python3.7/site-packages/matplotlib/mpl-data/fonts/ttf/DejaVuSans.ttf.\n",
      "Writing TrueType font.\n",
      "update_title_pos\n",
      "update_title_pos\n",
      "update_title_pos\n",
      "update_title_pos\n",
      "update_title_pos\n",
      "update_title_pos\n",
      "update_title_pos\n",
      "update_title_pos\n",
      "update_title_pos\n",
      "update_title_pos\n"
     ]
    },
    {
     "data": {
      "image/png": "[encoded data removed]",
      "text/plain": [
       "<Figure size 432x288 with 2 Axes>"
      ]
     },
     "metadata": {
      "needs_background": "light"
     },
     "output_type": "display_data"
    },
    {
     "name": "stdout",
     "output_type": "stream",
     "text": [
      "target python read queue is filling: 11 of 100 elements\n"
     ]
    }
   ],
   "source": [
    "az['azimuthCalculatedAngle'].plot(legend=True)\n",
    "el['elevationCalculatedAngle'].plot(legend=True, secondary_y=True)\n",
    "plt.savefig(\"/home/craiglagegit/DATA/Az_El_Trends_11Feb21.pdf\")"
   ]
  },
  {
   "cell_type": "code",
   "execution_count": 33,
   "metadata": {},
   "outputs": [
    {
     "data": {
      "text/plain": [
       "500"
      ]
     },
     "execution_count": 33,
     "metadata": {},
     "output_type": "execute_result"
    }
   ],
   "source": [
    "len(dec_vals)"
   ]
  },
  {
   "cell_type": "code",
   "execution_count": 52,
   "metadata": {},
   "outputs": [],
   "source": [
    "dec_time_vals = np.array(dec.values.tolist())[:,1]\n",
    "ra_time_vals = np.array(ra.values.tolist())[:,1]"
   ]
  },
  {
   "cell_type": "code",
   "execution_count": 36,
   "metadata": {},
   "outputs": [
    {
     "data": {
      "text/plain": [
       "[<matplotlib.lines.Line2D at 0x7fe5e0cdb490>]"
      ]
     },
     "execution_count": 36,
     "metadata": {},
     "output_type": "execute_result"
    },
    {
     "name": "stdout",
     "output_type": "stream",
     "text": [
      "update_title_pos\n",
      "update_title_pos\n",
      "update_title_pos\n",
      "update_title_pos\n"
     ]
    },
    {
     "data": {
      "image/png": "[encoded data removed]",
      "text/plain": [
       "<Figure size 432x288 with 1 Axes>"
      ]
     },
     "metadata": {
      "needs_background": "light"
     },
     "output_type": "display_data"
    }
   ],
   "source": [
    "plt.plot(dec_time_vals, dec_vals)"
   ]
  },
  {
   "cell_type": "code",
   "execution_count": 53,
   "metadata": {},
   "outputs": [
    {
     "data": {
      "text/plain": [
       "[<matplotlib.lines.Line2D at 0x7fe5f235c8d0>]"
      ]
     },
     "execution_count": 53,
     "metadata": {},
     "output_type": "execute_result"
    },
    {
     "name": "stdout",
     "output_type": "stream",
     "text": [
      "update_title_pos\n",
      "update_title_pos\n",
      "update_title_pos\n",
      "update_title_pos\n"
     ]
    },
    {
     "data": {
      "image/png": "[encoded data removed]",
      "text/plain": [
       "<Figure size 432x288 with 1 Axes>"
      ]
     },
     "metadata": {
      "needs_background": "light"
     },
     "output_type": "display_data"
    }
   ],
   "source": [
    "plt.plot(ra_time_vals[98:103], ra_vals[98:103], marker='x')"
   ]
  },
  {
   "cell_type": "code",
   "execution_count": 54,
   "metadata": {},
   "outputs": [
    {
     "data": {
      "text/plain": [
       "array([308.13499934, 308.13491427, 308.14318803, 308.14310433,\n",
       "       308.14302026])"
      ]
     },
     "execution_count": 54,
     "metadata": {},
     "output_type": "execute_result"
    }
   ],
   "source": [
    "ra_vals[98:103]"
   ]
  },
  {
   "cell_type": "code",
   "execution_count": 50,
   "metadata": {},
   "outputs": [],
   "source": [
    "new_dec_vals = np.zeros([500])\n",
    "new_ra_vals = np.zeros([500])\n",
    "for i in range(5):\n",
    "    for j in range(100):\n",
    "        index = i * 100 + j\n",
    "        new_index = i * 100 + (99 - j)\n",
    "        if i % 2 == 0:\n",
    "            new_dec_vals[index] = dec_vals[new_index]\n",
    "            new_ra_vals[index] = ra_vals[new_index]\n",
    "        else:\n",
    "            new_dec_vals[index] = dec_vals[index]\n",
    "            new_ra_vals[index] = ra_vals[index]\n",
    "\n",
    "    "
   ]
  },
  {
   "cell_type": "code",
   "execution_count": 65,
   "metadata": {},
   "outputs": [
    {
     "name": "stdout",
     "output_type": "stream",
     "text": [
      "update_title_pos\n",
      "Assigning font /b'F1' = '/opt/lsst/software/stack/conda/miniconda3-py37_4.8.2/envs/lsst-scipipe-cb4e2dc/lib/python3.7/site-packages/matplotlib/mpl-data/fonts/ttf/DejaVuSans.ttf'\n",
      "update_title_pos\n",
      "Embedding font /opt/lsst/software/stack/conda/miniconda3-py37_4.8.2/envs/lsst-scipipe-cb4e2dc/lib/python3.7/site-packages/matplotlib/mpl-data/fonts/ttf/DejaVuSans.ttf.\n",
      "Writing TrueType font.\n",
      "update_title_pos\n",
      "update_title_pos\n",
      "update_title_pos\n",
      "update_title_pos\n",
      "update_title_pos\n",
      "update_title_pos\n",
      "update_title_pos\n",
      "update_title_pos\n",
      "update_title_pos\n",
      "update_title_pos\n"
     ]
    },
    {
     "data": {
      "image/png": "[encoded data removed]",
      "text/plain": [
       "<Figure size 432x288 with 2 Axes>"
      ]
     },
     "metadata": {
      "needs_background": "light"
     },
     "output_type": "display_data"
    },
    {
     "name": "stdout",
     "output_type": "stream",
     "text": [
      "target python read queue is filling: 10 of 100 elements\n"
     ]
    }
   ],
   "source": [
    "plt.subplot(2,1,1)\n",
    "plt.subplots_adjust(hspace=0.7)\n",
    "plt.title(\"Dec Values\")\n",
    "plt.plot(dec_time_vals, dec_vals)\n",
    "plt.subplot(2,1,2)\n",
    "plt.title(\"Dec Values with order of even seconds reversed\")\n",
    "plt.plot(dec_time_vals, new_dec_vals)\n",
    "plt.savefig(\"/home/craiglagegit/DATA/Dec_Reversal_11Feb21.pdf\")"
   ]
  },
  {
   "cell_type": "code",
   "execution_count": 51,
   "metadata": {},
   "outputs": [
    {
     "data": {
      "text/plain": [
       "[<matplotlib.lines.Line2D at 0x7fe5e96ac450>]"
      ]
     },
     "execution_count": 51,
     "metadata": {},
     "output_type": "execute_result"
    },
    {
     "name": "stdout",
     "output_type": "stream",
     "text": [
      "update_title_pos\n",
      "update_title_pos\n",
      "update_title_pos\n",
      "update_title_pos\n"
     ]
    },
    {
     "data": {
      "image/png": "[encoded data removed]",
      "text/plain": [
       "<Figure size 432x288 with 1 Axes>"
      ]
     },
     "metadata": {
      "needs_background": "light"
     },
     "output_type": "display_data"
    }
   ],
   "source": [
    "plt.plot(dec_time_vals, new_ra_vals)"
   ]
  },
  {
   "cell_type": "code",
   "execution_count": 56,
   "metadata": {},
   "outputs": [
    {
     "name": "stdout",
     "output_type": "stream",
     "text": [
      "200: SELECT * FROM \"efd\".\"autogen\".\"lsst.sal.ATPtg.mount_positions\" WHERE time >= '2021-02-11T15:58:18.533Z' AND time <= '2021-02-11T15:58:19.533Z'\n"
     ]
    }
   ],
   "source": [
    "t1 = Time('2021-02-11T15:58:18.533', scale='tai')\n",
    "t2 = t1 + TimeDelta(1, format='sec', scale='tai')\n",
    "df = await client.select_time_series('lsst.sal.ATPtg.mount_positions', '*', t1, t2)\n"
   ]
  },
  {
   "cell_type": "code",
   "execution_count": 61,
   "metadata": {},
   "outputs": [
    {
     "name": "stdout",
     "output_type": "stream",
     "text": [
      "2021-02-11 15:58:18.587000+00:00    308.134914\n",
      "Name: ra99, dtype: float64 2021-02-11 15:58:18.587000+00:00    308.143204\n",
      "Name: ra0, dtype: float64\n"
     ]
    }
   ],
   "source": [
    "print(df['ra99'],df['ra0'])"
   ]
  },
  {
   "cell_type": "code",
   "execution_count": null,
   "metadata": {},
   "outputs": [],
   "source": [
    "# This is where the tests are carried out.\n",
    "times = []\n",
    "ra_accuracies = []\n",
    "dec_accuracies = []\n",
    "\n",
    "# Slew to starting position\n",
    "await atcs.slew_icrs(ra=str(ra_dec.ra), dec=str(ra_dec.dec), rot=0.0,\n",
    "                      slew_timeout=240., stop_before_slew=False, wait_settle=False)\n",
    "\n",
    "\n",
    "print('track for 2s')\n",
    "await asyncio.sleep(2)\n",
    "# take a quick image to get some header data\n",
    "await latiss.take_engtest(exptime=1)\n",
    "\n",
    "# Now slew to new target\n",
    "print('Starting to Slew to target')\n",
    "start_time = Time(Time.now(), format='fits', scale='tai')\n",
    "await atcs.slew_icrs(ra=str(ra_dec_target.ra), dec=str(ra_dec_target.dec),\n",
    "                      rot=d_rot, slew_timeout=240., \n",
    "                      stop_before_slew=False, wait_settle=False)\n",
    "end_time = Time(Time.now(), format='fits', scale='tai')\n",
    "slew_time = TimeDelta(end_time - start_time, format='sec').value\n",
    "print(f'Time to slew is {slew_time} seconds')\n",
    "times.append(slew_time)\n",
    "await latiss.take_engtest(exptime=1)\n",
    "\n",
    "t_end = end_time + TimeDelta(2, format='sec')\n",
    "nsec = 2\n",
    "mount_position = await client.select_time_series(\"lsst.sal.ATPtg.mount_positions\", ['*'],\n",
    "                                          t_end - TimeDelta(nsec, format='sec'), t_end)\n",
    "ra = merge_packed_time_series(mount_position, 'ra', stride=1)\n",
    "dec = merge_packed_time_series(mount_position, 'declination', stride=1)\n",
    "ra_vals = np.array(ra.values.tolist())[:,0]\n",
    "dec_vals = np.array(dec.values.tolist())[:,0]\n",
    "# Errors in arcsec\n",
    "ra_rms = np.sqrt(np.mean((ra_vals*15.0 - ra_dec_target.ra.value)**2)) * 3600.0 \n",
    "dec_rms = np.sqrt(np.mean((dec_vals - ra_dec_target.dec.value)**2)) * 3600.0 \n",
    "ra_accuracies.append(ra_rms)\n",
    "dec_accuracies.append(dec_rms)\n",
    "print(f\"RA rms = {ra_rms}. Dec rms = {dec_rms}.\")\n",
    "\n",
    "# Repeat this going back to origin\n",
    "\n",
    "print('Starting to Slew to target')\n",
    "start_time = Time(Time.now(), format='fits', scale='tai')\n",
    "await atcs.slew_icrs(ra=str(ra_dec.ra), dec=str(ra_dec.dec), rot=0.0,\n",
    "                      slew_timeout=240., stop_before_slew=False, wait_settle=False)\n",
    "\n",
    "end_time = Time(Time.now(), format='fits', scale='tai')\n",
    "slew_time = TimeDelta(end_time - start_time, format='sec').value\n",
    "print(f'Time to slew is {slew_time} seconds')\n",
    "times.append(slew_time)\n",
    "await latiss.take_engtest(exptime=1)\n",
    "\n",
    "t_end = end_time + TimeDelta(2, format='sec')\n",
    "nsec = 2\n",
    "mount_position = await client.select_time_series(\"lsst.sal.ATPtg.mount_positions\", ['*'],\n",
    "                                          t_end - TimeDelta(nsec, format='sec'), t_end)\n",
    "ra = merge_packed_time_series(mount_position, 'ra', stride=1)\n",
    "dec = merge_packed_time_series(mount_position, 'declination', stride=1)\n",
    "ra_vals = np.array(ra.values.tolist())[:,0]\n",
    "dec_vals = np.array(dec.values.tolist())[:,0]\n",
    "# Errors in arcsec\n",
    "ra_rms = np.sqrt(np.mean((ra_vals*15.0 - ra_dec.ra.value)**2)) * 3600.0 \n",
    "dec_rms = np.sqrt(np.mean((dec_vals - ra_dec.dec.value)**2)) * 3600.0 \n",
    "ra_accuracies.append(ra_rms)\n",
    "dec_accuracies.append(dec_rms)\n",
    "print(f\"RA rms = {ra_rms}. Dec rms = {dec_rms}.\")\n",
    "\n"
   ]
  },
  {
   "cell_type": "code",
   "execution_count": null,
   "metadata": {},
   "outputs": [],
   "source": []
  },
  {
   "cell_type": "code",
   "execution_count": null,
   "metadata": {},
   "outputs": [],
   "source": []
  },
  {
   "cell_type": "code",
   "execution_count": null,
   "metadata": {},
   "outputs": [],
   "source": [
    "# Now check to see if the specs are met:\n",
    "Aux_Tel_Smslew_AcqTime = 10.0\n",
    "if max(times) < Aux_Tel_Smslew_AcqTime:\n",
    "    print(f\"Aux_Tel_Smslew_AcqTime passed.  Spec = {Aux_Tel_Smslew_AcqTime}.\\\n",
    "    Measured = {max(times)} \")\n",
    "else:\n",
    "    print(f\"Aux_Tel_Smslew_AcqTime failed!  Spec = {Aux_Tel_Smslew_AcqTime}.\\\n",
    "    Measured = {max(times)} \")\n",
    "\n",
    "Aux_Tel_Sm_Slew_Abs_Pointing = 2.5\n",
    "worst_case = max(ra_accuracies + dec_accuracies)\n",
    "if worst_case < Aux_Tel_Sm_Slew_Abs_Pointing:\n",
    "    print(f\"Aux_Tel_Sm_Slew_Abs_Pointing passed.  Spec = {Aux_Tel_Sm_Slew_Abs_Pointing}. \\\n",
    "    Measured = {worst_case} \")\n",
    "else:\n",
    "    print(f\"Aux_Tel_Sm_Slew_Abs_Pointing failed!  Spec = {Aux_Tel_Sm_Slew_Abs_Pointing}. \\\n",
    "    Measured = {worst_case} \")\n"
   ]
  },
  {
   "cell_type": "code",
   "execution_count": 67,
   "metadata": {},
   "outputs": [
    {
     "data": {
      "text/plain": [
       "[<State.FAULT: 3>, <State.STANDBY: 5>]"
      ]
     },
     "execution_count": 67,
     "metadata": {},
     "output_type": "execute_result"
    }
   ],
   "source": [
    "#await salobj.set_summary_state(atcs.rem.atptg, salobj.State.STANDBY)"
   ]
  },
  {
   "cell_type": "code",
   "execution_count": 68,
   "metadata": {},
   "outputs": [
    {
     "data": {
      "text/plain": [
       "[<State.FAULT: 3>, <State.STANDBY: 5>]"
      ]
     },
     "execution_count": 68,
     "metadata": {},
     "output_type": "execute_result"
    }
   ],
   "source": [
    "#await salobj.set_summary_state(atcs.rem.atmcs, salobj.State.STANDBY)"
   ]
  },
  {
   "cell_type": "code",
   "execution_count": 106,
   "metadata": {},
   "outputs": [
    {
     "name": "stdout",
     "output_type": "stream",
     "text": [
      "Stop tracking.\n",
      "Unknown tracking state: 9\n",
      "Unknown tracking state: 10\n",
      "In Position: True.\n"
     ]
    }
   ],
   "source": [
    "# For shutdown of system\n",
    "await atcs.stop_tracking()"
   ]
  },
  {
   "cell_type": "code",
   "execution_count": 107,
   "metadata": {},
   "outputs": [],
   "source": [
    "# turn off corrections\n",
    "tmp = await atcs.rem.ataos.cmd_disableCorrection.set_start(m1=True, hexapod=True, atspectrograph=True)"
   ]
  },
  {
   "cell_type": "code",
   "execution_count": 108,
   "metadata": {
    "collapsed": true,
    "jupyter": {
     "outputs_hidden": true
    }
   },
   "outputs": [
    {
     "name": "stdout",
     "output_type": "stream",
     "text": [
      "Disabling ATAOS corrections\n",
      "Disabling ATAOS corrections.\n",
      "Closing M1 cover vent gates.\n",
      "Cover state <MirrorCoverState.CLOSED: 6>\n",
      "M1 cover already closed.\n",
      "M1 vent state <VentsPosition.CLOSED: 1>\n",
      "M1 vents already closed.\n",
      "Skipping closing dome shutter and slewing dome to park position.\n",
      "Disable ATDomeTrajectory\n",
      "Slew telescope to Park position.\n",
      "Sending command\n",
      "Stop tracking.\n",
      "Scheduling check coroutines\n",
      "process as completed...\n",
      "atmcs: <State.ENABLED: 2>\n",
      "atptg: <State.ENABLED: 2>\n",
      "ataos: <State.ENABLED: 2>\n",
      "atpneumatics: <State.ENABLED: 2>\n",
      "athexapod: <State.ENABLED: 2>\n",
      "[Telescope] delta Alt = +010.200 deg; delta Az= +010.780 deg; delta N1 = -000.000 deg; delta N2 = -079.113 deg \n",
      "[Telescope] delta Alt = +010.067 deg; delta Az= +010.446 deg; delta N1 = -000.000 deg; delta N2 = -076.983 deg \n",
      "[Telescope] delta Alt = +006.391 deg; delta Az= +006.228 deg; delta N1 = +000.000 deg; delta N2 = -070.992 deg \n",
      "[Telescope] delta Alt = +001.119 deg; delta Az= +001.058 deg; delta N1 = +000.000 deg; delta N2 = -064.986 deg \n",
      "[Telescope] delta Alt = -000.000 deg; delta Az= +000.001 deg; delta N1 = -000.000 deg; delta N2 = -058.992 deg \n",
      "[Telescope] delta Alt = -000.000 deg; delta Az= -000.000 deg; delta N1 = -000.000 deg; delta N2 = -054.987 deg \n",
      "[Telescope] delta Alt = -000.000 deg; delta Az= -000.000 deg; delta N1 = +000.000 deg; delta N2 = -048.989 deg \n",
      "[Telescope] delta Alt = +000.000 deg; delta Az= -000.000 deg; delta N1 = +000.000 deg; delta N2 = -042.989 deg \n",
      "[Telescope] delta Alt = +000.000 deg; delta Az= -000.000 deg; delta N1 = -000.000 deg; delta N2 = -036.984 deg \n",
      "[Telescope] delta Alt = +000.000 deg; delta Az= -000.000 deg; delta N1 = +000.000 deg; delta N2 = -030.990 deg \n",
      "[Telescope] delta Alt = +000.000 deg; delta Az= -000.000 deg; delta N1 = +000.000 deg; delta N2 = -024.988 deg \n",
      "[Telescope] delta Alt = +000.000 deg; delta Az= -000.000 deg; delta N1 = -000.000 deg; delta N2 = -019.101 deg \n",
      "[Telescope] delta Alt = +000.000 deg; delta Az= +000.000 deg; delta N1 = +000.000 deg; delta N2 = -013.578 deg \n",
      "[Telescope] delta Alt = +000.000 deg; delta Az= -000.000 deg; delta N1 = -000.000 deg; delta N2 = -008.722 deg \n",
      "[Telescope] delta Alt = +000.000 deg; delta Az= -000.000 deg; delta N1 = +000.000 deg; delta N2 = -006.000 deg \n",
      "[Telescope] delta Alt = -000.000 deg; delta Az= +000.000 deg; delta N1 = -000.000 deg; delta N2 = -002.861 deg \n",
      "[Telescope] delta Alt = +000.000 deg; delta Az= -000.000 deg; delta N1 = +000.000 deg; delta N2 = -000.941 deg \n",
      "[Telescope] delta Alt = -000.000 deg; delta Az= +000.000 deg; delta N1 = +000.000 deg; delta N2 = -000.124 deg \n",
      "[Telescope] delta Alt = -000.000 deg; delta Az= +000.000 deg; delta N1 = +000.000 deg; delta N2 = -000.003 deg \n",
      "Got True\n",
      "Waiting for telescope to settle.\n",
      "Axes in position.\n",
      "Stop tracking.\n",
      "Unknown tracking state: 9\n",
      "Unknown tracking state: 10\n",
      "In Position: True.\n",
      "Put CSCs in standby\n",
      "[atmcs]::[<State.ENABLED: 2>, <State.DISABLED: 1>, <State.STANDBY: 5>]\n",
      "[atptg]::[<State.ENABLED: 2>, <State.DISABLED: 1>, <State.STANDBY: 5>]\n",
      "[ataos]::[<State.ENABLED: 2>, <State.DISABLED: 1>, <State.STANDBY: 5>]\n",
      "[atpneumatics]::[<State.ENABLED: 2>, <State.DISABLED: 1>, <State.STANDBY: 5>]\n",
      "[athexapod]::[<State.ENABLED: 2>, <State.DISABLED: 1>, <State.STANDBY: 5>]\n",
      "[atdome]::<State.STANDBY: 5>\n",
      "[atdometrajectory]::<State.DISABLED: 1>\n",
      "All components in <State.STANDBY: 5>.\n"
     ]
    }
   ],
   "source": [
    "# Putting everything back in standby.\n",
    "await atcs.shutdown()"
   ]
  },
  {
   "cell_type": "code",
   "execution_count": 109,
   "metadata": {},
   "outputs": [],
   "source": [
    "# take event checking out the slew commands to test telescope only\n",
    "# otherwise it'll wait for the dome before completing slew command\n",
    "atcs.check.atdome = False\n",
    "atcs.check.atdometrajectory = False"
   ]
  },
  {
   "cell_type": "code",
   "execution_count": 110,
   "metadata": {},
   "outputs": [
    {
     "data": {
      "text/plain": [
       "<ddsutil.ATDome_ackcmd_ec56b694 at 0x7fe5f1dbb190>"
      ]
     },
     "execution_count": 110,
     "metadata": {},
     "output_type": "execute_result"
    }
   ],
   "source": [
    "await atcs.rem.atdome.cmd_start.set_start(settingsToApply=\"test\", timeout=30)"
   ]
  },
  {
   "cell_type": "code",
   "execution_count": 111,
   "metadata": {},
   "outputs": [
    {
     "data": {
      "text/plain": [
       "[<State.DISABLED: 1>, <State.STANDBY: 5>]"
      ]
     },
     "execution_count": 111,
     "metadata": {},
     "output_type": "execute_result"
    }
   ],
   "source": [
    "await salobj.set_summary_state(atcs.rem.atdome, salobj.State.STANDBY, settingsToApply=\"test\")"
   ]
  },
  {
   "cell_type": "code",
   "execution_count": 112,
   "metadata": {},
   "outputs": [
    {
     "data": {
      "text/plain": [
       "[<State.DISABLED: 1>, <State.STANDBY: 5>]"
      ]
     },
     "execution_count": 112,
     "metadata": {},
     "output_type": "execute_result"
    }
   ],
   "source": [
    "await salobj.set_summary_state(atcs.rem.atdometrajectory, salobj.State.STANDBY)"
   ]
  },
  {
   "cell_type": "code",
   "execution_count": 113,
   "metadata": {},
   "outputs": [
    {
     "data": {
      "text/plain": [
       "[<State.ENABLED: 2>, <State.DISABLED: 1>, <State.STANDBY: 5>]"
      ]
     },
     "execution_count": 113,
     "metadata": {},
     "output_type": "execute_result"
    }
   ],
   "source": [
    "await salobj.set_summary_state(latiss.rem.atspectrograph, salobj.State.STANDBY)\n",
    "await salobj.set_summary_state(latiss.rem.atcamera, salobj.State.STANDBY)\n",
    "await salobj.set_summary_state(latiss.rem.atheaderservice, salobj.State.STANDBY)\n",
    "await salobj.set_summary_state(latiss.rem.atarchiver, salobj.State.STANDBY)"
   ]
  },
  {
   "cell_type": "code",
   "execution_count": null,
   "metadata": {},
   "outputs": [],
   "source": []
  }
 ],
 "metadata": {
  "kernelspec": {
   "display_name": "LSST",
   "language": "python",
   "name": "lsst"
  },
  "language_info": {
   "codemirror_mode": {
    "name": "ipython",
    "version": 3
   },
   "file_extension": ".py",
   "mimetype": "text/x-python",
   "name": "python",
   "nbconvert_exporter": "python",
   "pygments_lexer": "ipython3",
   "version": "3.8.12"
  }
 },
 "nbformat": 4,
 "nbformat_minor": 4
}
