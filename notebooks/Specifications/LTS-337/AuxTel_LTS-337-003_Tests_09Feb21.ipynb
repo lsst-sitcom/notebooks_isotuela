{
 "cells": [
  {
   "cell_type": "markdown",
   "metadata": {},
   "source": [
    "## AuxTel test LTS-337-003 (Nasmyth rotator)\n",
    "\n",
    "In this notebook, I slew the Nasmyth2 rotator through it's range of travel, and evaluate range, max slew speed, and accuracy of position.  Desired specs:\n",
    "\n",
    "| Description | Value       | Unit          |   Name     |\n",
    "| :---        |    :----:   |       :----:  |       ---: |\n",
    "|The rotator shall have a minimum range of rotation of:    | ±120       | Degrees   |Aux_Tel_Field_Rotation_Range|\n",
    "|The rotator shall be able to achieve or surpass this velocity during slews of the telescope.  |3.5       | Degrees/Second      |Aux_Tel_Inst_Rot_Max_Vel|\n",
    "|The rotator shall have at maximum this absolute angle error.      | 0.01|Degrees|Aux_Tel_Inst_Rot_Abs_Error|"
   ]
  },
  {
   "cell_type": "code",
   "execution_count": 1,
   "metadata": {},
   "outputs": [
    {
     "name": "stderr",
     "output_type": "stream",
     "text": [
      "\n",
      "Bad key \"text.kerning_factor\" on line 4 in\n",
      "/opt/lsst/software/stack/conda/miniconda3-py37_4.8.2/envs/lsst-scipipe-cb4e2dc/lib/python3.7/site-packages/matplotlib/mpl-data/stylelib/_classic_test_patch.mplstyle.\n",
      "You probably need to get an updated matplotlibrc file from\n",
      "http://github.com/matplotlib/matplotlib/blob/master/matplotlibrc.template\n",
      "or from the matplotlib source distribution\n"
     ]
    }
   ],
   "source": [
    "import sys, time, os, asyncio\n",
    "\n",
    "from datetime import datetime\n",
    "import numpy as np\n",
    "import matplotlib.pyplot as plt\n",
    "import pandas as pd\n",
    "\n",
    "from lsst.ts import salobj\n",
    "from lsst.ts.observatory.control.auxtel.atcs import ATCS\n",
    "from lsst.ts.observatory.control.auxtel.latiss import LATISS\n",
    "from astropy.time import Time, TimeDelta\n",
    "from lsst_efd_client import EfdClient"
   ]
  },
  {
   "cell_type": "code",
   "execution_count": 2,
   "metadata": {},
   "outputs": [],
   "source": [
    "# for tab completion to work in current notebook instance\n",
    "%config IPCompleter.use_jedi = False"
   ]
  },
  {
   "cell_type": "code",
   "execution_count": 3,
   "metadata": {},
   "outputs": [],
   "source": [
    "import logging\n",
    "stream_handler = logging.StreamHandler(sys.stdout)\n",
    "logger = logging.getLogger()\n",
    "logger.addHandler(stream_handler)\n",
    "logger.level = logging.DEBUG"
   ]
  },
  {
   "cell_type": "code",
   "execution_count": null,
   "metadata": {},
   "outputs": [],
   "source": [
    "# Get EFD client and bring in Lupton's unpacking code\n",
    "client = EfdClient('summit_efd')\n",
    "\n",
    "def merge_packed_time_series(packed_dataframe, base_field, stride=1, \n",
    "                             ref_timestamp_col=\"cRIO_timestamp\", internal_time_scale=\"tai\"):\n",
    "    \"\"\"Select fields that are time samples and unpack them into a dataframe.\n",
    "            Parameters\n",
    "            ----------\n",
    "            packedDF : `pandas.DataFrame`\n",
    "                packed data frame containing the desired data\n",
    "            base_field :  `str`\n",
    "                Base field name that will be expanded to query all\n",
    "                vector entries.\n",
    "            stride : `int`, optional\n",
    "                Only use every stride value when unpacking.  Must be a factor\n",
    "                of the number of packed values.\n",
    "                (1 by default)\n",
    "            ref_timestamp_col : `str`, optional\n",
    "                Name of the field name to use to assign timestamps to unpacked\n",
    "                vector fields (default is 'cRIO_timestamp').\n",
    "            internal_time_scale : `str`, optional\n",
    "                Time scale to use when converting times to internal formats\n",
    "                ('tai' by default). Equivalent to EfdClient.internal_scale\n",
    "        Returns\n",
    "            -------\n",
    "            result : `pandas.DataFrame`\n",
    "                A `pandas.DataFrame` containing the results of the query.\n",
    "            \"\"\"\n",
    "    \n",
    "    packed_fields = [k for k in packed_dataframe.keys() if k.startswith(base_field)]\n",
    "    packed_fields = sorted(packed_fields, key=lambda k: int(k[len(base_field):]))  # sort by pack ID\n",
    "    npack = len(packed_fields)\n",
    "    if npack%stride != 0:\n",
    "        raise RuntimeError(f\"Stride must be a factor of the number of packed fields: {stride} v. {npack}\")\n",
    "    packed_len = len(packed_dataframe)\n",
    "    n_used = npack//stride   # number of raw fields being used\n",
    "    output = np.empty(n_used*packed_len)\n",
    "    times = np.empty_like(output, dtype=packed_dataframe[ref_timestamp_col][0])\n",
    "    \n",
    "    if packed_len == 1:\n",
    "        dt = 0\n",
    "    else:\n",
    "        dt = (packed_dataframe[ref_timestamp_col][1] - packed_dataframe[ref_timestamp_col][0])/npack\n",
    "    for i in range(0, npack, stride):\n",
    "        i0 = i//stride\n",
    "        output[i0::n_used] = packed_dataframe[f\"{base_field}{i}\"]\n",
    "        times[i0::n_used] = packed_dataframe[ref_timestamp_col] + i*dt\n",
    "     \n",
    "    timestamps = Time(times, format='unix', scale=internal_time_scale).datetime64\n",
    "    return pd.DataFrame({base_field:output, \"times\":times}, index=timestamps)"
   ]
  },
  {
   "cell_type": "code",
   "execution_count": 4,
   "metadata": {
    "collapsed": true,
    "jupyter": {
     "outputs_hidden": true
    }
   },
   "outputs": [
    {
     "name": "stdout",
     "output_type": "stream",
     "text": [
      "atmcs: Adding all resources.\n",
      "atptg: Adding all resources.\n",
      "ataos: Adding all resources.\n",
      "atpneumatics: Adding all resources.\n",
      "athexapod: Adding all resources.\n",
      "atdome: Adding all resources.\n",
      "atdometrajectory: Adding all resources.\n",
      "atcamera: Adding all resources.\n",
      "atspectrograph: Adding all resources.\n",
      "atheaderservice: Adding all resources.\n",
      "atarchiver: Adding all resources.\n",
      "Read historical data in 0.15 sec\n",
      "Read 6 history items for RemoteEvent(ATAOS, 0, appliedSettingsMatchStart)\n",
      "Read 19 history items for RemoteEvent(ATAOS, 0, atspectrographCorrectionCompleted)\n",
      "Read 19 history items for RemoteEvent(ATAOS, 0, atspectrographCorrectionStarted)\n",
      "Read 1 history items for RemoteEvent(ATAOS, 0, authList)\n",
      "Read 7 history items for RemoteEvent(ATAOS, 0, correctionEnabled)\n",
      "Read 16 history items for RemoteEvent(ATAOS, 0, correctionOffsets)\n",
      "Read 100 history items for RemoteEvent(ATAOS, 0, detailedState)\n",
      "Read 16 history items for RemoteEvent(ATAOS, 0, focusOffsetSummary)\n",
      "Read 100 history items for RemoteEvent(ATAOS, 0, heartbeat)\n",
      "Read 43 history items for RemoteEvent(ATAOS, 0, hexapodCorrectionCompleted)\n",
      "Read 43 history items for RemoteEvent(ATAOS, 0, hexapodCorrectionStarted)\n",
      "Read 1 history items for RemoteEvent(ATAOS, 0, logLevel)\n",
      "Read 61 history items for RemoteEvent(ATAOS, 0, logMessage)\n",
      "Read 100 history items for RemoteEvent(ATAOS, 0, m1CorrectionCompleted)\n",
      "Read 100 history items for RemoteEvent(ATAOS, 0, m1CorrectionStarted)\n",
      "Read 6 history items for RemoteEvent(ATAOS, 0, pointingOffsetSummary)\n",
      "Read 1 history items for RemoteEvent(ATAOS, 0, settingVersions)\n",
      "Read 1 history items for RemoteEvent(ATAOS, 0, settingsApplied)\n",
      "Read 1 history items for RemoteEvent(ATAOS, 0, simulationMode)\n",
      "Read 1 history items for RemoteEvent(ATAOS, 0, softwareVersions)\n",
      "Read 25 history items for RemoteEvent(ATAOS, 0, summaryState)\n",
      "Read historical data in 0.22 sec\n",
      "Read 1 history items for RemoteEvent(ATArchiver, 0, authList)\n",
      "Read 1 history items for RemoteEvent(ATArchiver, 0, errorCode)\n",
      "Read 100 history items for RemoteEvent(ATArchiver, 0, heartbeat)\n",
      "Read 21 history items for RemoteEvent(ATArchiver, 0, imageInOODS)\n",
      "Read 21 history items for RemoteEvent(ATArchiver, 0, imageRetrievalForArchiving)\n",
      "Read 1 history items for RemoteEvent(ATArchiver, 0, logLevel)\n",
      "Read 1 history items for RemoteEvent(ATArchiver, 0, logMessage)\n",
      "Read 1 history items for RemoteEvent(ATArchiver, 0, simulationMode)\n",
      "Read 1 history items for RemoteEvent(ATArchiver, 0, softwareVersions)\n",
      "Read 17 history items for RemoteEvent(ATArchiver, 0, summaryState)\n",
      "Read historical data in 0.24 sec\n",
      "Read 1 history items for RemoteEvent(ATDomeTrajectory, 0, algorithm)\n",
      "Read 9 history items for RemoteEvent(ATDomeTrajectory, 0, appliedSettingsMatchStart)\n",
      "Read 1 history items for RemoteEvent(ATDomeTrajectory, 0, authList)\n",
      "Read 100 history items for RemoteEvent(ATDomeTrajectory, 0, heartbeat)\n",
      "Read 1 history items for RemoteEvent(ATDomeTrajectory, 0, logLevel)\n",
      "Read 12 history items for RemoteEvent(ATDomeTrajectory, 0, logMessage)\n",
      "Read 1 history items for RemoteEvent(ATDomeTrajectory, 0, settingVersions)\n",
      "Read 1 history items for RemoteEvent(ATDomeTrajectory, 0, settingsApplied)\n",
      "Read 1 history items for RemoteEvent(ATDomeTrajectory, 0, simulationMode)\n",
      "Read 1 history items for RemoteEvent(ATDomeTrajectory, 0, softwareVersions)\n",
      "Read 37 history items for RemoteEvent(ATDomeTrajectory, 0, summaryState)\n",
      "Read historical data in 0.25 sec\n",
      "Read 1 history items for RemoteEvent(ATHeaderService, 0, authList)\n",
      "Read 100 history items for RemoteEvent(ATHeaderService, 0, heartbeat)\n",
      "Read 21 history items for RemoteEvent(ATHeaderService, 0, largeFileObjectAvailable)\n",
      "Read 1 history items for RemoteEvent(ATHeaderService, 0, logLevel)\n",
      "Read 100 history items for RemoteEvent(ATHeaderService, 0, logMessage)\n",
      "Read 1 history items for RemoteEvent(ATHeaderService, 0, simulationMode)\n",
      "Read 1 history items for RemoteEvent(ATHeaderService, 0, softwareVersions)\n",
      "Read 13 history items for RemoteEvent(ATHeaderService, 0, summaryState)\n",
      "Read historical data in 0.26 sec\n",
      "Read 6 history items for RemoteEvent(ATHexapod, 0, appliedSettingsMatchStart)\n",
      "Read 1 history items for RemoteEvent(ATHexapod, 0, authList)\n",
      "Read 87 history items for RemoteEvent(ATHexapod, 0, detailedState)\n",
      "Read 1 history items for RemoteEvent(ATHexapod, 0, errorCode)\n",
      "Read 100 history items for RemoteEvent(ATHexapod, 0, heartbeat)\n",
      "Read 86 history items for RemoteEvent(ATHexapod, 0, inPosition)\n",
      "Read 1 history items for RemoteEvent(ATHexapod, 0, logLevel)\n",
      "Read 3 history items for RemoteEvent(ATHexapod, 0, logMessage)\n",
      "Read 46 history items for RemoteEvent(ATHexapod, 0, positionUpdate)\n",
      "Read 1 history items for RemoteEvent(ATHexapod, 0, readyForCommand)\n",
      "Read 1 history items for RemoteEvent(ATHexapod, 0, settingVersions)\n",
      "Read 1 history items for RemoteEvent(ATHexapod, 0, settingsApplied)\n",
      "Read 1 history items for RemoteEvent(ATHexapod, 0, settingsAppliedPivot)\n",
      "Read 1 history items for RemoteEvent(ATHexapod, 0, settingsAppliedPositionLimits)\n",
      "Read 1 history items for RemoteEvent(ATHexapod, 0, settingsAppliedTcp)\n",
      "Read 1 history items for RemoteEvent(ATHexapod, 0, settingsAppliedVelocities)\n",
      "Read 1 history items for RemoteEvent(ATHexapod, 0, simulationMode)\n",
      "Read 1 history items for RemoteEvent(ATHexapod, 0, softwareVersions)\n",
      "Read 24 history items for RemoteEvent(ATHexapod, 0, summaryState)\n",
      "Read historical data in 0.29 sec\n",
      "Read 6 history items for RemoteEvent(ATPneumatics, 0, appliedSettingsMatchStart)\n",
      "Read 8 history items for RemoteEvent(ATPneumatics, 0, cellVentsState)\n",
      "Read 1 history items for RemoteEvent(ATPneumatics, 0, eStop)\n",
      "Read 100 history items for RemoteEvent(ATPneumatics, 0, heartbeat)\n",
      "Read 10 history items for RemoteEvent(ATPneumatics, 0, instrumentState)\n",
      "Read 12 history items for RemoteEvent(ATPneumatics, 0, m1CoverLimitSwitches)\n",
      "Read 13 history items for RemoteEvent(ATPneumatics, 0, m1CoverState)\n",
      "Read 100 history items for RemoteEvent(ATPneumatics, 0, m1SetPressure)\n",
      "Read 14 history items for RemoteEvent(ATPneumatics, 0, m1State)\n",
      "Read 1 history items for RemoteEvent(ATPneumatics, 0, m1VentsPosition)\n",
      "Read 13 history items for RemoteEvent(ATPneumatics, 0, m2State)\n",
      "Read 10 history items for RemoteEvent(ATPneumatics, 0, mainValveState)\n",
      "Read 1 history items for RemoteEvent(ATPneumatics, 0, powerStatus)\n",
      "Read 6 history items for RemoteEvent(ATPneumatics, 0, settingVersions)\n",
      "Read 26 history items for RemoteEvent(ATPneumatics, 0, summaryState)\n",
      "Read historical data in 0.30 sec\n",
      "Read 3 history items for RemoteEvent(ATSpectrograph, 0, appliedSettingsMatchStart)\n",
      "Read 1 history items for RemoteEvent(ATSpectrograph, 0, authList)\n",
      "Read 12 history items for RemoteEvent(ATSpectrograph, 0, disperserInPosition)\n",
      "Read 12 history items for RemoteEvent(ATSpectrograph, 0, filterInPosition)\n",
      "Read 9 history items for RemoteEvent(ATSpectrograph, 0, fwState)\n",
      "Read 12 history items for RemoteEvent(ATSpectrograph, 0, gwState)\n",
      "Read 100 history items for RemoteEvent(ATSpectrograph, 0, heartbeat)\n",
      "Read 1 history items for RemoteEvent(ATSpectrograph, 0, logLevel)\n",
      "Read 1 history items for RemoteEvent(ATSpectrograph, 0, logMessage)\n",
      "Read 7 history items for RemoteEvent(ATSpectrograph, 0, reportedDisperserPosition)\n",
      "Read 7 history items for RemoteEvent(ATSpectrograph, 0, reportedFilterPosition)\n",
      "Read 1 history items for RemoteEvent(ATSpectrograph, 0, reportedLinearStagePosition)\n",
      "Read 1 history items for RemoteEvent(ATSpectrograph, 0, settingVersions)\n",
      "Read 1 history items for RemoteEvent(ATSpectrograph, 0, settingsApplied)\n",
      "Read 1 history items for RemoteEvent(ATSpectrograph, 0, settingsAppliedValues)\n",
      "Read 1 history items for RemoteEvent(ATSpectrograph, 0, simulationMode)\n",
      "Read 1 history items for RemoteEvent(ATSpectrograph, 0, softwareVersions)\n",
      "Read 13 history items for RemoteEvent(ATSpectrograph, 0, summaryState)\n",
      "Read historical data in 0.33 sec\n",
      "Read 1 history items for RemoteEvent(ATDome, 0, allAxesInPosition)\n",
      "Read 1 history items for RemoteEvent(ATDome, 0, appliedSettingsMatchStart)\n",
      "Read 1 history items for RemoteEvent(ATDome, 0, authList)\n",
      "Read 3 history items for RemoteEvent(ATDome, 0, azimuthCommandedState)\n",
      "Read 3 history items for RemoteEvent(ATDome, 0, azimuthInPosition)\n",
      "Read 3 history items for RemoteEvent(ATDome, 0, azimuthState)\n",
      "Read 100 history items for RemoteEvent(ATDome, 0, doorEncoderExtremes)\n",
      "Read 2 history items for RemoteEvent(ATDome, 0, dropoutDoorCommandedState)\n",
      "Read 1 history items for RemoteEvent(ATDome, 0, dropoutDoorState)\n",
      "Read 1 history items for RemoteEvent(ATDome, 0, emergencyStop)\n",
      "Read 100 history items for RemoteEvent(ATDome, 0, heartbeat)\n",
      "Read 2 history items for RemoteEvent(ATDome, 0, lastAzimuthGoTo)\n",
      "Read 1 history items for RemoteEvent(ATDome, 0, logLevel)\n",
      "Read 6 history items for RemoteEvent(ATDome, 0, logMessage)\n",
      "Read 2 history items for RemoteEvent(ATDome, 0, mainDoorCommandedState)\n",
      "Read 1 history items for RemoteEvent(ATDome, 0, mainDoorState)\n",
      "Read 2 history items for RemoteEvent(ATDome, 0, scbLink)\n",
      "Read 1 history items for RemoteEvent(ATDome, 0, settingVersions)\n",
      "Read 1 history items for RemoteEvent(ATDome, 0, settingsApplied)\n",
      "Read 2 history items for RemoteEvent(ATDome, 0, settingsAppliedDomeController)\n",
      "Read 1 history items for RemoteEvent(ATDome, 0, settingsAppliedDomeTcp)\n",
      "Read 1 history items for RemoteEvent(ATDome, 0, shutterInPosition)\n",
      "Read 1 history items for RemoteEvent(ATDome, 0, simulationMode)\n",
      "Read 1 history items for RemoteEvent(ATDome, 0, softwareVersions)\n",
      "Read 4 history items for RemoteEvent(ATDome, 0, summaryState)\n",
      "Read historical data in 0.35 sec\n",
      "Read 100 history items for RemoteEvent(ATMCS, 0, allAxesInPosition)\n",
      "Read 15 history items for RemoteEvent(ATMCS, 0, appliedSettingsMatchStart)\n",
      "Read 100 history items for RemoteEvent(ATMCS, 0, atMountState)\n",
      "Read 30 history items for RemoteEvent(ATMCS, 0, azimuthBrake1)\n",
      "Read 30 history items for RemoteEvent(ATMCS, 0, azimuthBrake2)\n",
      "Read 30 history items for RemoteEvent(ATMCS, 0, azimuthDrive1Status)\n",
      "Read 30 history items for RemoteEvent(ATMCS, 0, azimuthDrive2Status)\n",
      "Read 41 history items for RemoteEvent(ATMCS, 0, azimuthInPosition)\n",
      "Read 30 history items for RemoteEvent(ATMCS, 0, elevationBrake)\n",
      "Read 30 history items for RemoteEvent(ATMCS, 0, elevationDriveStatus)\n",
      "Read 27 history items for RemoteEvent(ATMCS, 0, elevationInPosition)\n",
      "Read 2 history items for RemoteEvent(ATMCS, 0, elevationLimitSwitchLower)\n",
      "Read 100 history items for RemoteEvent(ATMCS, 0, heartbeat)\n",
      "Read 30 history items for RemoteEvent(ATMCS, 0, m3State)\n",
      "Read 30 history items for RemoteEvent(ATMCS, 0, nasmyth1Brake)\n",
      "Read 30 history items for RemoteEvent(ATMCS, 0, nasmyth1DriveStatus)\n",
      "Read 14 history items for RemoteEvent(ATMCS, 0, nasmyth1RotatorInPosition)\n",
      "Read 30 history items for RemoteEvent(ATMCS, 0, nasmyth2Brake)\n",
      "Read 30 history items for RemoteEvent(ATMCS, 0, nasmyth2DriveStatus)\n",
      "Read 100 history items for RemoteEvent(ATMCS, 0, nasmyth2RotatorInPosition)\n",
      "Read 15 history items for RemoteEvent(ATMCS, 0, positionLimits)\n",
      "Read 15 history items for RemoteEvent(ATMCS, 0, settingVersions)\n",
      "Read 60 history items for RemoteEvent(ATMCS, 0, summaryState)\n",
      "Read 100 history items for RemoteEvent(ATMCS, 0, target)\n",
      "Read historical data in 0.40 sec\n",
      "Read 3 history items for RemoteEvent(ATCamera, 0, appliedSettingsMatchStart)\n",
      "Read 73 history items for RemoteEvent(ATCamera, 0, ccsCommandState)\n",
      "Read 21 history items for RemoteEvent(ATCamera, 0, endOfImageTelemetry)\n",
      "Read 21 history items for RemoteEvent(ATCamera, 0, endReadout)\n",
      "Read 4 history items for RemoteEvent(ATCamera, 0, focalPlaneHardwareIdSettingsApplied)\n",
      "Read 4 history items for RemoteEvent(ATCamera, 0, focalPlaneSummaryInfo)\n",
      "Read 100 history items for RemoteEvent(ATCamera, 0, heartbeat)\n",
      "Read 44 history items for RemoteEvent(ATCamera, 0, imageReadinessDetailedState)\n",
      "Read 21 history items for RemoteEvent(ATCamera, 0, imageReadoutParameters)\n",
      "Read 4 history items for RemoteEvent(ATCamera, 0, offlineDetailedState)\n",
      "Read 85 history items for RemoteEvent(ATCamera, 0, raftsDetailedState)\n",
      "Read 5 history items for RemoteEvent(ATCamera, 0, settingVersions)\n",
      "Read 5 history items for RemoteEvent(ATCamera, 0, softwareVersions)\n",
      "Read 21 history items for RemoteEvent(ATCamera, 0, startIntegration)\n",
      "Read 21 history items for RemoteEvent(ATCamera, 0, startReadout)\n",
      "Read 16 history items for RemoteEvent(ATCamera, 0, summaryState)\n",
      "Read historical data in 0.43 sec\n",
      "Read 1 history items for RemoteEvent(ATPtg, 0, airmassWarning)\n",
      "Read 1 history items for RemoteEvent(ATPtg, 0, azWrapWarning)\n",
      "Read 7 history items for RemoteEvent(ATPtg, 0, currentDebugLevel)\n",
      "Read 76 history items for RemoteEvent(ATPtg, 0, currentTarget)\n",
      "Read 100 history items for RemoteEvent(ATPtg, 0, detailedState)\n",
      "Read 1 history items for RemoteEvent(ATPtg, 0, elLimitWarning)\n",
      "Read 7 history items for RemoteEvent(ATPtg, 0, errorCode)\n",
      "Read 1 history items for RemoteEvent(ATPtg, 0, focusNameInconsistentWarning)\n",
      "Read 11 history items for RemoteEvent(ATPtg, 0, focusNameSelected)\n",
      "Read 100 history items for RemoteEvent(ATPtg, 0, heartbeat)\n",
      "Read 12 history items for RemoteEvent(ATPtg, 0, iers)\n",
      "Read 3 history items for RemoteEvent(ATPtg, 0, iersOutOfDate)\n",
      "Read 1 history items for RemoteEvent(ATPtg, 0, moonProximityWarning)\n",
      "Read 2 history items for RemoteEvent(ATPtg, 0, mountDataWarning)\n",
      "Read 1 history items for RemoteEvent(ATPtg, 0, objectSetWarning)\n",
      "Read 6 history items for RemoteEvent(ATPtg, 0, pointingModel)\n",
      "Read 1 history items for RemoteEvent(ATPtg, 0, pointing_file)\n",
      "Read 1 history items for RemoteEvent(ATPtg, 0, ptgAzCurrentWrap)\n",
      "Read 1 history items for RemoteEvent(ATPtg, 0, ptgRotCurrentWrap)\n",
      "Read 1 history items for RemoteEvent(ATPtg, 0, rotWrapWarning)\n",
      "Read 25 history items for RemoteEvent(ATPtg, 0, summaryState)\n",
      "Read 1 history items for RemoteEvent(ATPtg, 0, sunProximityWarning)\n",
      "Read 82 history items for RemoteEvent(ATPtg, 0, timesOfLimits)\n",
      "Read 100 history items for RemoteEvent(ATPtg, 0, trackPosting)\n",
      "Read 6 history items for RemoteEvent(ATPtg, 0, wavelength)\n",
      "Read 100 history items for RemoteEvent(ATPtg, 0, weatherDataApplied)\n",
      "Read 100 history items for RemoteEvent(ATPtg, 0, weatherDataInvalid)\n"
     ]
    },
    {
     "data": {
      "text/plain": [
       "[[None, None, None, None, None, None, None], [None, None, None, None]]"
      ]
     },
     "execution_count": 4,
     "metadata": {},
     "output_type": "execute_result"
    },
    {
     "name": "stdout",
     "output_type": "stream",
     "text": [
      "timeAndDate DDS read queue is filling: 95 of 100 elements\n"
     ]
    }
   ],
   "source": [
    "#get classes and start them\n",
    "domain = salobj.Domain()\n",
    "await asyncio.sleep(10) # This can be removed in the future...\n",
    "atcs = ATCS(domain)\n",
    "latiss = LATISS(domain)\n",
    "await asyncio.gather(atcs.start_task, latiss.start_task)"
   ]
  },
  {
   "cell_type": "code",
   "execution_count": 5,
   "metadata": {},
   "outputs": [],
   "source": [
    "atcs.check.atdome = True"
   ]
  },
  {
   "cell_type": "code",
   "execution_count": 6,
   "metadata": {},
   "outputs": [
    {
     "ename": "RuntimeError",
     "evalue": "Error on cmd=cmd_enable, initial_state=1: msg='Command failed', ackcmd=(ackcmd private_seqNum=502243990, ack=<SalRetCode.CMD_FAILED: -302>, error=1, result='Failed: enable not allowed in state <State.STANDBY: 5>')",
     "output_type": "error",
     "traceback": [
      "\u001b[0;31m---------------------------------------------------------------------------\u001b[0m",
      "\u001b[0;31mAckError\u001b[0m                                  Traceback (most recent call last)",
      "\u001b[0;32m/opt/lsst/src/ts_salobj/python/lsst/ts/salobj/csc_utils.py\u001b[0m in \u001b[0;36mset_summary_state\u001b[0;34m(remote, state, settingsToApply, timeout)\u001b[0m\n\u001b[1;32m    147\u001b[0m             \u001b[0;32mtry\u001b[0m\u001b[0;34m:\u001b[0m\u001b[0;34m\u001b[0m\u001b[0;34m\u001b[0m\u001b[0m\n\u001b[0;32m--> 148\u001b[0;31m                 \u001b[0;32mawait\u001b[0m \u001b[0mcmd\u001b[0m\u001b[0;34m.\u001b[0m\u001b[0mstart\u001b[0m\u001b[0;34m(\u001b[0m\u001b[0mtimeout\u001b[0m\u001b[0;34m=\u001b[0m\u001b[0mtimeout\u001b[0m\u001b[0;34m)\u001b[0m\u001b[0;34m\u001b[0m\u001b[0;34m\u001b[0m\u001b[0m\n\u001b[0m\u001b[1;32m    149\u001b[0m             \u001b[0;32mexcept\u001b[0m \u001b[0mException\u001b[0m \u001b[0;32mas\u001b[0m \u001b[0me\u001b[0m\u001b[0;34m:\u001b[0m\u001b[0;34m\u001b[0m\u001b[0;34m\u001b[0m\u001b[0m\n",
      "\u001b[0;32m/opt/lsst/src/ts_salobj/python/lsst/ts/salobj/topics/remote_command.py\u001b[0m in \u001b[0;36mstart\u001b[0;34m(self, data, timeout, wait_done)\u001b[0m\n\u001b[1;32m    445\u001b[0m         \u001b[0mself\u001b[0m\u001b[0;34m.\u001b[0m\u001b[0msalinfo\u001b[0m\u001b[0;34m.\u001b[0m\u001b[0m_running_cmds\u001b[0m\u001b[0;34m[\u001b[0m\u001b[0mseq_num\u001b[0m\u001b[0;34m]\u001b[0m \u001b[0;34m=\u001b[0m \u001b[0mcmd_info\u001b[0m\u001b[0;34m\u001b[0m\u001b[0;34m\u001b[0m\u001b[0m\n\u001b[0;32m--> 446\u001b[0;31m         \u001b[0;32mreturn\u001b[0m \u001b[0;32mawait\u001b[0m \u001b[0mcmd_info\u001b[0m\u001b[0;34m.\u001b[0m\u001b[0mnext_ackcmd\u001b[0m\u001b[0;34m(\u001b[0m\u001b[0mtimeout\u001b[0m\u001b[0;34m=\u001b[0m\u001b[0mtimeout\u001b[0m\u001b[0;34m)\u001b[0m\u001b[0;34m\u001b[0m\u001b[0;34m\u001b[0m\u001b[0m\n\u001b[0m",
      "\u001b[0;32m/opt/lsst/src/ts_salobj/python/lsst/ts/salobj/topics/remote_command.py\u001b[0m in \u001b[0;36mnext_ackcmd\u001b[0;34m(self, timeout)\u001b[0m\n\u001b[1;32m    182\u001b[0m             \u001b[0;32mif\u001b[0m \u001b[0mackcmd\u001b[0m\u001b[0;34m.\u001b[0m\u001b[0mack\u001b[0m \u001b[0;32min\u001b[0m \u001b[0mself\u001b[0m\u001b[0;34m.\u001b[0m\u001b[0mfailed_ack_codes\u001b[0m\u001b[0;34m:\u001b[0m\u001b[0;34m\u001b[0m\u001b[0;34m\u001b[0m\u001b[0m\n\u001b[0;32m--> 183\u001b[0;31m                 \u001b[0;32mraise\u001b[0m \u001b[0mbase\u001b[0m\u001b[0;34m.\u001b[0m\u001b[0mAckError\u001b[0m\u001b[0;34m(\u001b[0m\u001b[0mmsg\u001b[0m\u001b[0;34m=\u001b[0m\u001b[0;34m\"Command failed\"\u001b[0m\u001b[0;34m,\u001b[0m \u001b[0mackcmd\u001b[0m\u001b[0;34m=\u001b[0m\u001b[0mackcmd\u001b[0m\u001b[0;34m)\u001b[0m\u001b[0;34m\u001b[0m\u001b[0;34m\u001b[0m\u001b[0m\n\u001b[0m\u001b[1;32m    184\u001b[0m             \u001b[0;32mreturn\u001b[0m \u001b[0mackcmd\u001b[0m\u001b[0;34m\u001b[0m\u001b[0;34m\u001b[0m\u001b[0m\n",
      "\u001b[0;31mAckError\u001b[0m: msg='Command failed', ackcmd=(ackcmd private_seqNum=502243990, ack=<SalRetCode.CMD_FAILED: -302>, error=1, result='Failed: enable not allowed in state <State.STANDBY: 5>')",
      "\nThe above exception was the direct cause of the following exception:\n",
      "\u001b[0;31mRuntimeError\u001b[0m                              Traceback (most recent call last)",
      "\u001b[0;32m<ipython-input-6-6ed9ac356d0d>\u001b[0m in \u001b[0;36masync-def-wrapper\u001b[0;34m()\u001b[0m\n",
      "\u001b[0;32m/opt/lsst/src/ts_salobj/python/lsst/ts/salobj/csc_utils.py\u001b[0m in \u001b[0;36mset_summary_state\u001b[0;34m(remote, state, settingsToApply, timeout)\u001b[0m\n\u001b[1;32m    150\u001b[0m                 raise RuntimeError(\n\u001b[1;32m    151\u001b[0m                     \u001b[0;34mf\"Error on cmd=cmd_{command}, initial_state={current_state}: {e}\"\u001b[0m\u001b[0;34m\u001b[0m\u001b[0;34m\u001b[0m\u001b[0m\n\u001b[0;32m--> 152\u001b[0;31m                 ) from e\n\u001b[0m\u001b[1;32m    153\u001b[0m             \u001b[0mstates\u001b[0m\u001b[0;34m.\u001b[0m\u001b[0mappend\u001b[0m\u001b[0;34m(\u001b[0m\u001b[0mstate\u001b[0m\u001b[0;34m)\u001b[0m\u001b[0;34m\u001b[0m\u001b[0;34m\u001b[0m\u001b[0m\n\u001b[1;32m    154\u001b[0m     \u001b[0;32mfinally\u001b[0m\u001b[0;34m:\u001b[0m\u001b[0;34m\u001b[0m\u001b[0;34m\u001b[0m\u001b[0m\n",
      "\u001b[0;31mRuntimeError\u001b[0m: Error on cmd=cmd_enable, initial_state=1: msg='Command failed', ackcmd=(ackcmd private_seqNum=502243990, ack=<SalRetCode.CMD_FAILED: -302>, error=1, result='Failed: enable not allowed in state <State.STANDBY: 5>')"
     ]
    }
   ],
   "source": [
    "await salobj.set_summary_state(atcs.rem.atdome, salobj.State.ENABLED)"
   ]
  },
  {
   "cell_type": "code",
   "execution_count": null,
   "metadata": {},
   "outputs": [],
   "source": [
    "await atcs.rem.atdome.cmd_start.set_start(settingsToApply=\"test\", timeout=30)"
   ]
  },
  {
   "cell_type": "code",
   "execution_count": 10,
   "metadata": {},
   "outputs": [
    {
     "data": {
      "text/plain": [
       "[<State.DISABLED: 1>, <State.ENABLED: 2>]"
      ]
     },
     "execution_count": 10,
     "metadata": {},
     "output_type": "execute_result"
    }
   ],
   "source": [
    "await salobj.set_summary_state(atcs.rem.atdome, salobj.State.ENABLED, settingsToApply=\"test\")"
   ]
  },
  {
   "cell_type": "code",
   "execution_count": 11,
   "metadata": {
    "jupyter": {
     "source_hidden": true
    }
   },
   "outputs": [
    {
     "ename": "RuntimeError",
     "evalue": "Error on cmd=cmd_standby, initial_state=2: msg='Command failed', ackcmd=(ackcmd private_seqNum=1831841208, ack=<SalRetCode.CMD_TIMEOUT: -304>, error=1, result='Timeout')",
     "output_type": "error",
     "traceback": [
      "\u001b[0;31m---------------------------------------------------------------------------\u001b[0m",
      "\u001b[0;31mAckError\u001b[0m                                  Traceback (most recent call last)",
      "\u001b[0;32m/opt/lsst/src/ts_salobj/python/lsst/ts/salobj/csc_utils.py\u001b[0m in \u001b[0;36mset_summary_state\u001b[0;34m(remote, state, settingsToApply, timeout)\u001b[0m\n\u001b[1;32m    147\u001b[0m             \u001b[0;32mtry\u001b[0m\u001b[0;34m:\u001b[0m\u001b[0;34m\u001b[0m\u001b[0;34m\u001b[0m\u001b[0m\n\u001b[0;32m--> 148\u001b[0;31m                 \u001b[0;32mawait\u001b[0m \u001b[0mcmd\u001b[0m\u001b[0;34m.\u001b[0m\u001b[0mstart\u001b[0m\u001b[0;34m(\u001b[0m\u001b[0mtimeout\u001b[0m\u001b[0;34m=\u001b[0m\u001b[0mtimeout\u001b[0m\u001b[0;34m)\u001b[0m\u001b[0;34m\u001b[0m\u001b[0;34m\u001b[0m\u001b[0m\n\u001b[0m\u001b[1;32m    149\u001b[0m             \u001b[0;32mexcept\u001b[0m \u001b[0mException\u001b[0m \u001b[0;32mas\u001b[0m \u001b[0me\u001b[0m\u001b[0;34m:\u001b[0m\u001b[0;34m\u001b[0m\u001b[0;34m\u001b[0m\u001b[0m\n",
      "\u001b[0;32m/opt/lsst/src/ts_salobj/python/lsst/ts/salobj/topics/remote_command.py\u001b[0m in \u001b[0;36mstart\u001b[0;34m(self, data, timeout, wait_done)\u001b[0m\n\u001b[1;32m    445\u001b[0m         \u001b[0mself\u001b[0m\u001b[0;34m.\u001b[0m\u001b[0msalinfo\u001b[0m\u001b[0;34m.\u001b[0m\u001b[0m_running_cmds\u001b[0m\u001b[0;34m[\u001b[0m\u001b[0mseq_num\u001b[0m\u001b[0;34m]\u001b[0m \u001b[0;34m=\u001b[0m \u001b[0mcmd_info\u001b[0m\u001b[0;34m\u001b[0m\u001b[0;34m\u001b[0m\u001b[0m\n\u001b[0;32m--> 446\u001b[0;31m         \u001b[0;32mreturn\u001b[0m \u001b[0;32mawait\u001b[0m \u001b[0mcmd_info\u001b[0m\u001b[0;34m.\u001b[0m\u001b[0mnext_ackcmd\u001b[0m\u001b[0;34m(\u001b[0m\u001b[0mtimeout\u001b[0m\u001b[0;34m=\u001b[0m\u001b[0mtimeout\u001b[0m\u001b[0;34m)\u001b[0m\u001b[0;34m\u001b[0m\u001b[0;34m\u001b[0m\u001b[0m\n\u001b[0m",
      "\u001b[0;32m/opt/lsst/src/ts_salobj/python/lsst/ts/salobj/topics/remote_command.py\u001b[0m in \u001b[0;36mnext_ackcmd\u001b[0;34m(self, timeout)\u001b[0m\n\u001b[1;32m    182\u001b[0m             \u001b[0;32mif\u001b[0m \u001b[0mackcmd\u001b[0m\u001b[0;34m.\u001b[0m\u001b[0mack\u001b[0m \u001b[0;32min\u001b[0m \u001b[0mself\u001b[0m\u001b[0;34m.\u001b[0m\u001b[0mfailed_ack_codes\u001b[0m\u001b[0;34m:\u001b[0m\u001b[0;34m\u001b[0m\u001b[0;34m\u001b[0m\u001b[0m\n\u001b[0;32m--> 183\u001b[0;31m                 \u001b[0;32mraise\u001b[0m \u001b[0mbase\u001b[0m\u001b[0;34m.\u001b[0m\u001b[0mAckError\u001b[0m\u001b[0;34m(\u001b[0m\u001b[0mmsg\u001b[0m\u001b[0;34m=\u001b[0m\u001b[0;34m\"Command failed\"\u001b[0m\u001b[0;34m,\u001b[0m \u001b[0mackcmd\u001b[0m\u001b[0;34m=\u001b[0m\u001b[0mackcmd\u001b[0m\u001b[0;34m)\u001b[0m\u001b[0;34m\u001b[0m\u001b[0;34m\u001b[0m\u001b[0m\n\u001b[0m\u001b[1;32m    184\u001b[0m             \u001b[0;32mreturn\u001b[0m \u001b[0mackcmd\u001b[0m\u001b[0;34m\u001b[0m\u001b[0;34m\u001b[0m\u001b[0m\n",
      "\u001b[0;31mAckError\u001b[0m: msg='Command failed', ackcmd=(ackcmd private_seqNum=1831841208, ack=<SalRetCode.CMD_TIMEOUT: -304>, error=1, result='Timeout')",
      "\nThe above exception was the direct cause of the following exception:\n",
      "\u001b[0;31mRuntimeError\u001b[0m                              Traceback (most recent call last)",
      "\u001b[0;32m<ipython-input-11-70cb56ce9dcc>\u001b[0m in \u001b[0;36masync-def-wrapper\u001b[0;34m()\u001b[0m\n",
      "\u001b[0;32m/opt/lsst/src/ts_salobj/python/lsst/ts/salobj/csc_utils.py\u001b[0m in \u001b[0;36mset_summary_state\u001b[0;34m(remote, state, settingsToApply, timeout)\u001b[0m\n\u001b[1;32m    150\u001b[0m                 raise RuntimeError(\n\u001b[1;32m    151\u001b[0m                     \u001b[0;34mf\"Error on cmd=cmd_{command}, initial_state={current_state}: {e}\"\u001b[0m\u001b[0;34m\u001b[0m\u001b[0;34m\u001b[0m\u001b[0m\n\u001b[0;32m--> 152\u001b[0;31m                 ) from e\n\u001b[0m\u001b[1;32m    153\u001b[0m             \u001b[0mstates\u001b[0m\u001b[0;34m.\u001b[0m\u001b[0mappend\u001b[0m\u001b[0;34m(\u001b[0m\u001b[0mstate\u001b[0m\u001b[0;34m)\u001b[0m\u001b[0;34m\u001b[0m\u001b[0;34m\u001b[0m\u001b[0m\n\u001b[1;32m    154\u001b[0m     \u001b[0;32mfinally\u001b[0m\u001b[0;34m:\u001b[0m\u001b[0;34m\u001b[0m\u001b[0;34m\u001b[0m\u001b[0m\n",
      "\u001b[0;31mRuntimeError\u001b[0m: Error on cmd=cmd_standby, initial_state=2: msg='Command failed', ackcmd=(ackcmd private_seqNum=1831841208, ack=<SalRetCode.CMD_TIMEOUT: -304>, error=1, result='Timeout')"
     ]
    }
   ],
   "source": [
    "await salobj.set_summary_state(atcs.rem.atdome, salobj.State.STANDBY, settingsToApply=\"test\")"
   ]
  },
  {
   "cell_type": "code",
   "execution_count": null,
   "metadata": {},
   "outputs": [],
   "source": [
    "# take event checking out of the slew commands to test telescope only\n",
    "atcs.check.atdome = True\n",
    "atcs.check.atdometrajectory = True"
   ]
  },
  {
   "cell_type": "code",
   "execution_count": null,
   "metadata": {},
   "outputs": [],
   "source": [
    "atcs.shutdown?"
   ]
  },
  {
   "cell_type": "code",
   "execution_count": null,
   "metadata": {},
   "outputs": [],
   "source": [
    "# Now shut down\n",
    "await atcs.shutdown()"
   ]
  },
  {
   "cell_type": "code",
   "execution_count": null,
   "metadata": {},
   "outputs": [],
   "source": [
    "await salobj.set_summary_state(atcs.rem.atdometrajectory, salobj.State.ENABLED)"
   ]
  },
  {
   "cell_type": "code",
   "execution_count": null,
   "metadata": {},
   "outputs": [],
   "source": [
    "tmp = atcs.rem.atdome.evt_summaryState.get()\n",
    "print(salobj.State(tmp.summaryState))"
   ]
  },
  {
   "cell_type": "code",
   "execution_count": null,
   "metadata": {},
   "outputs": [],
   "source": [
    "await salobj.set_summary_state(atcs.rem.atdome, salobj.State.OFFLINE)"
   ]
  },
  {
   "cell_type": "code",
   "execution_count": null,
   "metadata": {},
   "outputs": [],
   "source": [
    "await atcs.stop_tracking()"
   ]
  },
  {
   "cell_type": "code",
   "execution_count": null,
   "metadata": {},
   "outputs": [],
   "source": [
    "await salobj.set_summary_state(atcs.rem.atmcs, salobj.State.STANDBY)"
   ]
  },
  {
   "cell_type": "code",
   "execution_count": null,
   "metadata": {},
   "outputs": [],
   "source": [
    "await salobj.set_summary_state(atcs.rem.ataos, salobj.State.STANDBY)"
   ]
  },
  {
   "cell_type": "code",
   "execution_count": null,
   "metadata": {},
   "outputs": [],
   "source": [
    "await salobj.set_summary_state(atcs.rem.atdometrajectory, salobj.State.STANDBY)"
   ]
  },
  {
   "cell_type": "code",
   "execution_count": null,
   "metadata": {},
   "outputs": [],
   "source": [
    "await salobj.set_summary_state(atcs.rem.atpneumatics, salobj.State.STANDBY)"
   ]
  },
  {
   "cell_type": "code",
   "execution_count": null,
   "metadata": {},
   "outputs": [],
   "source": [
    "await salobj.set_summary_state(atcs.rem.atptg, salobj.State.STANDBY)"
   ]
  },
  {
   "cell_type": "code",
   "execution_count": null,
   "metadata": {},
   "outputs": [],
   "source": [
    "await salobj.set_summary_state(atcs.rem.athexapod, salobj.State.STANDBY)"
   ]
  },
  {
   "cell_type": "code",
   "execution_count": null,
   "metadata": {},
   "outputs": [],
   "source": [
    "# Check time synchronization\n",
    "! zdump /etc/localtime ; date"
   ]
  },
  {
   "cell_type": "code",
   "execution_count": null,
   "metadata": {},
   "outputs": [],
   "source": [
    "await atcs.enable()"
   ]
  },
  {
   "cell_type": "code",
   "execution_count": null,
   "metadata": {},
   "outputs": [],
   "source": [
    "# Putting everything back in standby.\n",
    "# Need to do it one at a time, since ATDome fails with check=False.\n",
    "#await atcs.stop_tracking()\n",
    "await salobj.set_summary_state(atcs.rem.atmcs, salobj.State.STANDBY)\n",
    "await salobj.set_summary_state(atcs.rem.ataos, salobj.State.STANDBY)\n",
    "await salobj.set_summary_state(atcs.rem.atdometrajectory, salobj.State.STANDBY)\n",
    "await salobj.set_summary_state(atcs.rem.atpneumatics, salobj.State.STANDBY)\n",
    "await salobj.set_summary_state(atcs.rem.atptg, salobj.State.STANDBY)\n",
    "await salobj.set_summary_state(atcs.rem.athexapod, salobj.State.STANDBY)"
   ]
  },
  {
   "cell_type": "code",
   "execution_count": null,
   "metadata": {},
   "outputs": [],
   "source": [
    "await salobj.set_summary_state(atcs.rem.atmcs, salobj.State.ENABLED)\n",
    "current_time = Time(Time.now(), format='fits', scale='tai')\n",
    "print(f\"Current time = {current_time}\")\n",
    "t1 = current_time + TimeDelta(-30, format='sec', scale='tai')\n",
    "t2 = t1 + TimeDelta(60, format='sec')\n",
    "df = await client.select_time_series('lsst.sal.ATMCS.logevent_summaryState', '*', t1, t2)\n",
    "print(df['summaryState'])"
   ]
  },
  {
   "cell_type": "code",
   "execution_count": null,
   "metadata": {},
   "outputs": [],
   "source": [
    "# Time problem seems fixed!"
   ]
  },
  {
   "cell_type": "code",
   "execution_count": null,
   "metadata": {},
   "outputs": [],
   "source": [
    "# enable components if required\n",
    "await atcs.enable()\n",
    "#await latiss.enable()"
   ]
  },
  {
   "cell_type": "code",
   "execution_count": null,
   "metadata": {},
   "outputs": [],
   "source": [
    "# take event checking out the slew commands to test telescope only\n",
    "# otherwise it'll wait for the dome before completing slew command\n",
    "atcs.check.atdome = False\n",
    "atcs.check.atdometrajectory = False"
   ]
  },
  {
   "cell_type": "code",
   "execution_count": null,
   "metadata": {},
   "outputs": [],
   "source": [
    "# turn on ATAOS corrections just to make sure the mirror is under air\n",
    "tmp = await atcs.rem.ataos.cmd_enableCorrection.set_start(m1=True, hexapod=True, atspectrograph=False)"
   ]
  },
  {
   "cell_type": "code",
   "execution_count": null,
   "metadata": {},
   "outputs": [],
   "source": [
    "# Ensure we're using Nasmyth 2\n",
    "await atcs.rem.atptg.cmd_focusName.set_start(focus=3)"
   ]
  },
  {
   "cell_type": "code",
   "execution_count": null,
   "metadata": {},
   "outputs": [],
   "source": [
    "# slew telescope to desired starting position\n",
    "# rotator does not move for this test as it's part of a different\n",
    "# requirement/verification\n",
    "start_az=0\n",
    "start_el=80\n",
    "start_rot_pa=0.0\n",
    "await atcs.point_azel(start_az, start_el, rot_tel=start_rot_pa, wait_dome=False)"
   ]
  },
  {
   "cell_type": "code",
   "execution_count": null,
   "metadata": {},
   "outputs": [],
   "source": [
    "# Here is where the tests are carried out.\n",
    "max_rot = 10.0 # Maximum +/- 130 degrees\n",
    "rot_step = 10.0 # 10 degree steps\n",
    "n_steps = int(max_rot / rot_step)\n",
    "maxes = []\n",
    "errors = []\n",
    "speeds = []\n",
    "signs = [-1.0, 1.0] # Repeat tests in both directions\n",
    "\n",
    "for sign in signs:\n",
    "    await atcs.point_azel(start_az, start_el, rot_tel=start_rot_pa, wait_dome=False)\n",
    "    # Move to max_rot\n",
    "    current_rot = start_rot_pa + sign * max_rot\n",
    "    await atcs.point_azel(start_az, start_el, rot_tel=current_rot, wait_dome=False)\n",
    "    current_time = Time(datetime.now().strftime(\"%Y-%m-%dT%H:%M:%-S\"), scale='tai')\n",
    "    # Back up 10 seconds and get angle data for 10 seconds before that\n",
    "    t_end = current_time + TimeDelta(-10.0, format='sec', scale='tai')\n",
    "    nsec = 10\n",
    "    nasmyth_angle = await client.select_time_series(\"lsst.sal.ATMCS.mount_Nasmyth_Encoders\", ['*'],\n",
    "                                              t_end - TimeDelta(nsec, format='sec'), t_end)\n",
    "    angle = merge_packed_time_series(nasmyth_angle, 'nasmyth2CalculatedAngle', stride=1)\n",
    "    angleList = angle.values.tolist()\n",
    "    velocity = (angleList[-1][0] - angleList[0][0]) / (angleList[-1][1] - angleList[0][1])\n",
    "    print(f\"Measured velocity = {velocity}\")\n",
    "    speeds.append(abs(velocity))\n",
    "    # Get current position to verify it is beyond the max\n",
    "    await asyncio.sleep(3)\n",
    "    current_time = Time(datetime.now().strftime(\"%Y-%m-%dT%H:%M:%-S\"), scale='tai')\n",
    "    t_end = current_time\n",
    "    nsec = 2\n",
    "    nasmyth_angle = await client.select_time_series(\"lsst.sal.ATMCS.mount_Nasmyth_Encoders\", ['*'],\n",
    "                                              t_end - TimeDelta(nsec, format='sec'), t_end)\n",
    "    angle = merge_packed_time_series(nasmyth_angle, 'nasmyth2CalculatedAngle', stride=1)\n",
    "    angleList = angle.values.tolist()\n",
    "    current_angle = angleList[-1][0]\n",
    "    print(f\"Current rotator angle = {current_angle}\")\n",
    "    maxes.append(abs(current_angle))\n",
    "    # Now slew through a range of angles and evaluate the error\n",
    "    for n in range(n_steps):\n",
    "        current_rot = current_rot - sign * rot_step\n",
    "        await atcs.point_azel(start_az, start_el, rot_tel=current_rot, wait_dome=False)\n",
    "        # Get current position and compare to set point\n",
    "        await asyncio.sleep(3)\n",
    "        current_time = Time(datetime.now().strftime(\"%Y-%m-%dT%H:%M:%-S\"), scale='tai')\n",
    "        t_end = current_time\n",
    "        nsec = 2\n",
    "        nasmyth_angle = await client.select_time_series(\"lsst.sal.ATMCS.mount_Nasmyth_Encoders\", ['*'],\n",
    "                                                  t_end - TimeDelta(nsec, format='sec'), t_end)\n",
    "        angle = merge_packed_time_series(nasmyth_angle, 'nasmyth2CalculatedAngle', stride=1)\n",
    "        angleList = angle.values.tolist()\n",
    "        current_angle = angleList[-1][0]\n",
    "        error = current_angle - current_rot\n",
    "        print(f\"Current rotator angle = {current_angle}. Set point = {current_rot}.  Error = {error}\")\n",
    "        errors.append(abs(error))\n"
   ]
  },
  {
   "cell_type": "code",
   "execution_count": null,
   "metadata": {},
   "outputs": [],
   "source": [
    "current_time = Time(datetime.now().strftime(\"%Y-%m-%dT%H:%M:%-S\"), scale='tai')\n",
    "print(current_time)\n",
    "t_end = current_time\n",
    "nsec = 2\n",
    "nasmyth_angle = await client.select_time_series(\"lsst.sal.ATMCS.mount_Nasmyth_Encoders\", ['*'],\n",
    "                                          t_end - TimeDelta(nsec, format='sec'), t_end)\n",
    "angle = merge_packed_time_series(nasmyth_angle, 'nasmyth2CalculatedAngle', stride=1)\n",
    "angleList = angle.values.tolist()\n",
    "current_angle = angleList[-1][0]\n",
    "print(current_angle)"
   ]
  },
  {
   "cell_type": "code",
   "execution_count": null,
   "metadata": {},
   "outputs": [],
   "source": [
    "start_az=0\n",
    "start_el=80\n",
    "start_rot_pa=0.0\n",
    "max_rot = 30.0\n",
    "sign = -1.0\n",
    "current_time = Time(Time.now(), format='fits', scale='tai')\n",
    "print(f\"Before first move (tai) = {current_time}\")\n",
    "print(f\"Before first move (utc) = {Time(Time.now(), format='fits', scale='utc')}\")\n",
    "await atcs.point_azel(start_az, start_el, rot_tel=start_rot_pa, wait_dome=False)\n",
    "current_time = Time(Time.now(), format='fits', scale='tai')\n",
    "print(f\"After first move = {current_time}\")\n",
    "print(f\"After first move (utc) = {Time(Time.now(), format='fits', scale='utc')}\")\n",
    "# Move to max_rot\n",
    "current_rot = start_rot_pa + sign * max_rot\n",
    "await atcs.point_azel(start_az, start_el, rot_tel=current_rot, wait_dome=False)\n",
    "current_time = Time(Time.now(), format='fits', scale='tai')\n",
    "print(f\"After second move = {current_time}\")\n",
    "print(f\"After second move (utc) = {Time(Time.now(), format='fits', scale='utc')}\")\n",
    "\n",
    "# Back up 30 seconds and get angle data for 5 seconds before that\n",
    "t_end = current_time + TimeDelta(-30.0, format='sec', scale='tai')\n",
    "print(f\"t_end = {t_end}\")\n",
    "nsec = 5\n",
    "nasmyth_angle = await client.select_time_series(\"lsst.sal.ATMCS.mount_Nasmyth_Encoders\", ['*'],\n",
    "                                          t_end - TimeDelta(nsec, format='sec'), t_end)\n",
    "angle = merge_packed_time_series(nasmyth_angle, 'nasmyth2CalculatedAngle', stride=1)\n",
    "angleList = angle.values.tolist()\n",
    "velocity = (angleList[-1][0] - angleList[0][0]) / (angleList[-1][1] - angleList[0][1])\n",
    "print(f\"Measured velocity = {velocity}\")\n",
    "\n",
    "current_time = Time(Time.now(), format='fits', scale='tai')\n",
    "t_end = current_time\n",
    "nsec = 2\n",
    "nasmyth_angle = await client.select_time_series(\"lsst.sal.ATMCS.mount_Nasmyth_Encoders\", ['*'],\n",
    "                                          t_end - TimeDelta(nsec, format='sec'), t_end)\n",
    "angle = merge_packed_time_series(nasmyth_angle, 'nasmyth2CalculatedAngle', stride=1)\n",
    "angleList = angle.values.tolist()\n",
    "print(f\"Current angle = {angleList[-1][0]}\")"
   ]
  },
  {
   "cell_type": "code",
   "execution_count": null,
   "metadata": {},
   "outputs": [],
   "source": [
    "current_time = Time(Time.now(), format='fits', scale='tai')\n",
    "t_end = current_time\n",
    "nsec = 2\n",
    "nasmyth_angle = await client.select_time_series(\"lsst.sal.ATMCS.mount_Nasmyth_Encoders\", ['*'],\n",
    "                                          t_end - TimeDelta(nsec, format='sec'), t_end)\n",
    "angle = merge_packed_time_series(nasmyth_angle, 'nasmyth2CalculatedAngle', stride=1)\n",
    "angleList = angle.values.tolist()\n",
    "print(f\"Current angle = {angleList[-1][0]}\")"
   ]
  },
  {
   "cell_type": "code",
   "execution_count": null,
   "metadata": {},
   "outputs": [],
   "source": [
    "t_end = Time(\"2021-02-09T11:50:18.796\", scale='tai')   # timestamp at end of desired data \n",
    "nsec = 90 # how many seconds of data to retrieve\n",
    "nasmyth_angle = await client.select_time_series(\"lsst.sal.ATMCS.mount_Nasmyth_Encoders\", ['*'],\n",
    "                                          t_end - TimeDelta(nsec, format='sec'), t_end)\n",
    "angle = merge_packed_time_series(nasmyth_angle, 'nasmyth2CalculatedAngle', stride=1)\n",
    "\n",
    "\n"
   ]
  },
  {
   "cell_type": "code",
   "execution_count": null,
   "metadata": {},
   "outputs": [],
   "source": [
    "fig = angle['nasmyth2CalculatedAngle'].plot(legend=True)\n",
    "plt.axvline(pd.to_datetime('2021-02-09T11:50:18.796'), color='r', linestyle='--', lw=2)\n",
    "plt.text(pd.to_datetime('2021-02-09T11:50:18.796'), -15, \"Move finished (tai)\", color='r')\n",
    "#plt.axvline(pd.to_datetime('2021-02-08T18:45:28.436'), color='g', linestyle='--', lw=2)\n",
    "#plt.text(pd.to_datetime('2021-02-08T18:45:28.436'), -15, \"Move finished (utc)\", color='g')\n",
    "plt.title(\"Move from 0.0 to -30.0 degrees\")\n",
    "#plt.savefig(\"/home/craiglagegit/DATA/Rotator_Test_08Feb21.pdf\")"
   ]
  },
  {
   "cell_type": "code",
   "execution_count": null,
   "metadata": {},
   "outputs": [],
   "source": []
  },
  {
   "cell_type": "code",
   "execution_count": null,
   "metadata": {},
   "outputs": [],
   "source": [
    "nasmyth_velocity = await client.select_time_series(\"lsst.sal.ATMCS.measuredMotorVelocity\", ['*'],\n",
    "                                              t_end - TimeDelta(nsec, format='sec'), t_end)\n",
    "velocity = merge_packed_time_series(nasmyth_velocity, 'nasmyth2MotorVelocity', stride=1)\n",
    "velocity['nasmyth2MotorVelocity'].plot(legend=True)\n",
    "velArray = np.array(angle.values.tolist())[:,0]\n",
    "sorted_index_array = np.argsort(arr) \n",
    "  \n",
    "# sorted array \n",
    "sorted_array = arr[sorted_index_array] \n",
    "  \n",
    "print(\"Sorted array:\", sorted_array) \n",
    "  \n",
    "# we want 1 largest value \n",
    "n = 1\n",
    "  \n",
    "# we are using negative \n",
    "# indexing concept \n",
    "  \n",
    "# take n largest value \n",
    "rslt = sorted_array[-n : ] \n"
   ]
  },
  {
   "cell_type": "code",
   "execution_count": null,
   "metadata": {},
   "outputs": [],
   "source": [
    "velArray = np.array(velocity.values.tolist())[:,0]\n",
    "sortedVelArray = velArray[np.argsort(velArray)]\n",
    "print(np.median(sortedVelArray[0:100]))"
   ]
  },
  {
   "cell_type": "code",
   "execution_count": null,
   "metadata": {},
   "outputs": [],
   "source": []
  },
  {
   "cell_type": "code",
   "execution_count": null,
   "metadata": {},
   "outputs": [],
   "source": [
    "t1 = Time('2021-02-08T18:45:30', scale='tai')\n",
    "t2 = t1 + TimeDelta(120, format='sec', scale='tai')\n",
    "df = await client.select_time_series('lsst.sal.ATMCS.logevent_nasmyth2RotatorInPosition', '*', t1, t2)\n",
    "print(df)"
   ]
  },
  {
   "cell_type": "code",
   "execution_count": null,
   "metadata": {},
   "outputs": [],
   "source": [
    "df = await client.select_time_series('lsst.sal.ATMCS.logevent_nasmyth2RotatorInPosition', '*', t1, t2)\n",
    "print(df)"
   ]
  },
  {
   "cell_type": "code",
   "execution_count": null,
   "metadata": {},
   "outputs": [],
   "source": [
    "df = await client.select_time_series('lsst.sal.ATMCS.logevent_nasmyth2RotatorInPosition.private_sndStamp', '*', t1, t2)\n",
    "print(df)"
   ]
  },
  {
   "cell_type": "code",
   "execution_count": null,
   "metadata": {},
   "outputs": [],
   "source": [
    "angleList = angle.values.tolist()\n",
    "print(f\"Current angle = {angleList[-1][0]}\")"
   ]
  },
  {
   "cell_type": "code",
   "execution_count": null,
   "metadata": {},
   "outputs": [],
   "source": [
    "current_time = Time(Time.now(), format='fits', scale='tai')\n",
    "print(f\"Current time = {current_time}\")\n",
    "\n",
    "\n",
    "# Back up 30 seconds and get angle data for 5 seconds before that\n",
    "t_end = current_time + TimeDelta(-30.0, format='sec', scale='tai')\n",
    "print(f\"t_end = {t_end}\")"
   ]
  },
  {
   "cell_type": "code",
   "execution_count": null,
   "metadata": {},
   "outputs": [],
   "source": [
    "current_time = Time(Time.now(), format='fits', scale='tai')\n",
    "print(f\"Current time = {current_time}\")\n",
    "current_time = Time(Time.now(), format='fits', scale='utc')\n",
    "print(f\"Current time = {current_time}\")\n"
   ]
  },
  {
   "cell_type": "code",
   "execution_count": null,
   "metadata": {},
   "outputs": [],
   "source": [
    "len(angleList)\n",
    "angleList"
   ]
  },
  {
   "cell_type": "code",
   "execution_count": null,
   "metadata": {},
   "outputs": [],
   "source": [
    "print(Time(datetime.now(), scale='utc'))\n",
    "print(Time(datetime.now(), scale='tai'))"
   ]
  },
  {
   "cell_type": "code",
   "execution_count": null,
   "metadata": {},
   "outputs": [],
   "source": [
    "print(Time(Time.now(), format='fits', scale='utc'))\n",
    "print(Time(Time.now(), format='fits', scale='tai'))"
   ]
  },
  {
   "cell_type": "code",
   "execution_count": null,
   "metadata": {},
   "outputs": [],
   "source": [
    "# Now check to see if the specs are met:\n",
    "Aux_Tel_Field_Rotation_Range = 120.0\n",
    "if min(maxes) > Aux_Tel_Field_Rotation_Range:\n",
    "    print(f\"Aux_Tel_Field_Rotation_Range passed.  Spec = {Aux_Tel_Field_Rotation_Range}. Measured = {min(maxes)} \")\n",
    "else:\n",
    "    print(f\"Aux_Tel_Field_Rotation_Range failed!  Spec = {Aux_Tel_Field_Rotation_Range}. Measured = {min(maxes)} \")\n",
    "\n",
    "Aux_Tel_Inst_Rot_Max_Vel = 3.5\n",
    "if min(speeds) > Aux_Tel_Inst_Rot_Max_Vel:\n",
    "    print(f\"Aux_Tel_Inst_Rot_Max_Vel passed.  Spec = {Aux_Tel_Inst_Rot_Max_Vel}. Measured = {min(speeds)} \")\n",
    "else:\n",
    "    print(f\"Aux_Tel_Inst_Rot_Max_Vel failed!  Spec = {Aux_Tel_Inst_Rot_Max_Vel}. Measured = {min(speeds)} \")\n",
    "\n",
    "Aux_Tel_Inst_Rot_Abs_Error = 0.01\n",
    "if max(errors) < Aux_Tel_Inst_Rot_Abs_Error:\n",
    "    print(f\"Aux_Tel_Inst_Rot_Abs_Error passed.  Spec = {Aux_Tel_Inst_Rot_Abs_Error}. Worst case error = {max(errors)} \")\n",
    "else:\n",
    "    print(f\"Aux_Tel_Inst_Rot_Abs_Error failed!  Spec = {Aux_Tel_Inst_Rot_Abs_Error}. Worst case error = {max(errors)} \")\n"
   ]
  },
  {
   "cell_type": "code",
   "execution_count": null,
   "metadata": {},
   "outputs": [],
   "source": [
    "# take event checking out of the slew commands to test telescope only\n",
    "atcs.check.atdome = True\n",
    "atcs.check.atdometrajectory = True"
   ]
  },
  {
   "cell_type": "code",
   "execution_count": null,
   "metadata": {},
   "outputs": [],
   "source": [
    "# Now shut down\n",
    "await atcs.shutdown()"
   ]
  },
  {
   "cell_type": "code",
   "execution_count": null,
   "metadata": {},
   "outputs": [],
   "source": [
    "atcs.check.atdome = False\n",
    "await salobj.set_summary_state(atcs.rem.atdome, salobj.State.STANDBY)"
   ]
  },
  {
   "cell_type": "code",
   "execution_count": null,
   "metadata": {},
   "outputs": [],
   "source": [
    "await salobj.set_summary_state(atcs.rem.atmcs, salobj.State.ENABLED)\n",
    "current_time = Time(Time.now(), format='fits', scale='tai')\n",
    "print(f\"Current time = {current_time}\")"
   ]
  },
  {
   "cell_type": "code",
   "execution_count": null,
   "metadata": {},
   "outputs": [],
   "source": [
    "await salobj.set_summary_state(atcs.rem.atmcs, salobj.State.STANDBY)\n",
    "current_time = Time(Time.now(), format='fits', scale='tai')\n",
    "print(f\"Current time = {current_time}\")\n",
    "t1 = current_time + TimeDelta(-30, format='sec', scale='tai')\n",
    "t2 = t1 + TimeDelta(60, format='sec')\n",
    "df = await client.select_time_series('lsst.sal.ATMCS.logevent_summaryState', '*', t1, t2)\n",
    "print(df['summaryState'])"
   ]
  },
  {
   "cell_type": "code",
   "execution_count": null,
   "metadata": {},
   "outputs": [],
   "source": [
    "await salobj.set_summary_state(atcs.rem.atmcs, salobj.State.ENABLED)\n",
    "current_time = Time(Time.now(), format='fits', scale='utc')\n",
    "print(f\"Current time = {current_time}\")\n",
    "t1 = current_time + TimeDelta(-30, format='sec')\n",
    "t2 = t1 + TimeDelta(60, format='sec')\n",
    "df = await client.select_time_series('lsst.sal.ATMCS.logevent_summaryState', '*', t1, t2)\n",
    "print(df['summaryState'])"
   ]
  },
  {
   "cell_type": "code",
   "execution_count": null,
   "metadata": {},
   "outputs": [],
   "source": [
    "await salobj.set_summary_state(atcs.rem.atdometrajectory, salobj.State.ENABLED)\n",
    "current_time = Time(Time.now(), format='fits', scale='tai')\n",
    "print(f\"Current time = {current_time}\")\n",
    "t1 = current_time + TimeDelta(-30, format='sec', scale='tai')\n",
    "t2 = t1 + TimeDelta(60, format='sec', scale='tai')\n",
    "df = await client.select_time_series('lsst.sal.ATDomeTrajectory.logevent_summaryState', '*', t1, t2)\n",
    "print(df['summaryState'])"
   ]
  },
  {
   "cell_type": "code",
   "execution_count": null,
   "metadata": {},
   "outputs": [],
   "source": []
  },
  {
   "cell_type": "code",
   "execution_count": null,
   "metadata": {},
   "outputs": [],
   "source": []
  }
 ],
 "metadata": {
  "kernelspec": {
   "display_name": "LSST",
   "language": "python",
   "name": "lsst"
  },
  "language_info": {
   "codemirror_mode": {
    "name": "ipython",
    "version": 3
   },
   "file_extension": ".py",
   "mimetype": "text/x-python",
   "name": "python",
   "nbconvert_exporter": "python",
   "pygments_lexer": "ipython3",
   "version": "3.8.6"
  }
 },
 "nbformat": 4,
 "nbformat_minor": 4
}
