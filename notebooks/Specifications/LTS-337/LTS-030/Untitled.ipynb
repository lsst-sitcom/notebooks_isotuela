{
 "cells": [
  {
   "cell_type": "code",
   "execution_count": 80,
   "id": "f47a8fda-1f47-4a41-9440-77cf9d28d8e4",
   "metadata": {},
   "outputs": [
    {
     "data": {
      "text/plain": [
       "3"
      ]
     },
     "execution_count": 80,
     "metadata": {},
     "output_type": "execute_result"
    }
   ],
   "source": [
    "from pexpect import pxssh\n",
    "\n",
    "s = pxssh.pxssh()\n",
    "hostname = ('139.229.191.103')\n",
    "username = ('dimm')\n",
    "password = ('12345678')\n",
    "s.login(hostname,username,password)\n",
    "\n",
    "# child = pxssh.spawn('pwd')\n",
    "# #child.expect(pexpect.EOF)\n",
    "# print(p.before)\n",
    "\n",
    "s.sendline('ls')\n",
    "#s.sendline('telnet 127.0.0.1 16301')\n",
    "#s.sendline('1 get sky.temp')\n",
    "#s.sendline('show interface description\\n')"
   ]
  },
  {
   "cell_type": "code",
   "execution_count": 6,
   "id": "f97e0a89-fd29-4321-bae3-4c6f749b02fc",
   "metadata": {},
   "outputs": [
    {
     "name": "stdout",
     "output_type": "stream",
     "text": [
      "<ipykernel.iostream.OutStream object at 0x7f0c052ab670> ERROR: [b'Permission denied, please try again.\\r\\n', b'Permission denied, please try again.\\r\\n', b'Permission denied (publickey,password).\\r\\n']\n"
     ]
    }
   ],
   "source": [
    "import subprocess\n",
    "import sys\n",
    "HOST=\"dimm@139.229.191.103\"\n",
    "COMMAND= \"ls\"\n",
    "\n",
    "ssh_obj = subprocess.Popen([\"ssh\", \"%s\" % HOST, COMMAND],\n",
    "shell=False,\n",
    "stdout=subprocess.PIPE,\n",
    "stderr=subprocess.PIPE)\n",
    "\n",
    "result = ssh_obj.stdout.readlines()\n",
    "if result == []:\n",
    "    err = ssh_obj.stderr.readlines()\n",
    "    print(sys.stderr, \"ERROR: %s\" % err)\n",
    "else:\n",
    "    print(result)"
   ]
  },
  {
   "cell_type": "code",
   "execution_count": 76,
   "id": "4219594f-f2fd-44ab-b172-658950a4cf46",
   "metadata": {},
   "outputs": [
    {
     "name": "stdout",
     "output_type": "stream",
     "text": [
      "b' \\r\\n'\n",
      "b' ' b'\\r\\n'\n"
     ]
    }
   ],
   "source": [
    "##first install pexpect .. pip install pexpect\n",
    " \n",
    "import pexpect\n",
    "import getpass\n",
    "import time\n",
    "import sys\n",
    "import subprocess\n",
    " \n",
    "try:\n",
    "    s = pxssh.pxssh()\n",
    "    hostname = '139.229.191.103'\n",
    "    username = 'dimm'\n",
    "    password = '12345678'\n",
    "    s.login(hostname, username, password)\n",
    "#just to prove we are logged into ssh tunnel\n",
    "    #p = s.spawn('more /mnt/dimm/log/ameba/ameba.log')\n",
    "    #p.expect(pexpect.EOF)\n",
    "    #print(p.readline())\n",
    "    #s.sendline('more /mnt/dimm/log/ameba/ameba.log')\n",
    "    # s.prompt()\n",
    "    #print(s.before, s.after)\n",
    "    #     #print(line)\n",
    "\n",
    "    child = pexpect.spawn('ssh dimm@139.229.191.103 pwd')\n",
    "\n",
    "    child.expect('password:', timeout=10)\n",
    "    #child = pexpect.spawn('more /mnt/dimm/log/ameba/ameba.log')\n",
    "\n",
    "    child.sendline('12345678')\n",
    "    # child.expect('$ ')\n",
    "    # child.sendline('pwd')\n",
    "    print(child.readline())\n",
    "    print(child.before, child.after)\n",
    "    \n",
    "# # telnet into the switch    \n",
    " #   s.sendline('telnet 127.0.0.1 16301')\n",
    "#    time.sleep(.5) # just wait a bit\n",
    "#    print(sys.stdout)\n",
    "# #does not work\n",
    "# #    for line in sys.stdout:\n",
    "# #       print(line)\n",
    " \n",
    " #this is the command to get temperature and other data    \n",
    "#     s.sendline('1 get sky.temp\\n')\n",
    "#     s.prompt()\n",
    "#     print(s.before)\n",
    "    \n",
    "    #s.logout()\n",
    "except pxssh.ExceptionPxssh as e:\n",
    "     print(\"pxssh failed on login.\")\n",
    "     print(e)"
   ]
  },
  {
   "cell_type": "markdown",
   "id": "399256ee-ce19-4573-9364-ef10c3733494",
   "metadata": {},
   "source": [
    "Another try"
   ]
  },
  {
   "cell_type": "code",
   "execution_count": 89,
   "id": "c01b7604-9b35-477e-9044-c2d6420e235b",
   "metadata": {},
   "outputs": [
    {
     "ename": "ModuleNotFoundError",
     "evalue": "No module named 'sshtunnel'",
     "output_type": "error",
     "traceback": [
      "\u001b[0;31m---------------------------------------------------------------------------\u001b[0m",
      "\u001b[0;31mModuleNotFoundError\u001b[0m                       Traceback (most recent call last)",
      "Input \u001b[0;32mIn [89]\u001b[0m, in \u001b[0;36m<module>\u001b[0;34m\u001b[0m\n\u001b[0;32m----> 1\u001b[0m \u001b[38;5;28;01mfrom\u001b[39;00m \u001b[38;5;21;01msshtunnel\u001b[39;00m \u001b[38;5;28;01mimport\u001b[39;00m SSHTunnelForwarder\n\u001b[1;32m      2\u001b[0m \u001b[38;5;28;01mwith\u001b[39;00m SSHTunnelForwarder(\n\u001b[1;32m      3\u001b[0m     (hostname, \u001b[38;5;241m22\u001b[39m),\n\u001b[1;32m      4\u001b[0m     ssh_username\u001b[38;5;241m=\u001b[39m\u001b[38;5;124m\"\u001b[39m\u001b[38;5;124mdimm\u001b[39m\u001b[38;5;124m\"\u001b[39m,\n\u001b[0;32m   (...)\u001b[0m\n\u001b[1;32m      7\u001b[0m     local_bind_address\u001b[38;5;241m=\u001b[39m(\u001b[38;5;124m'\u001b[39m\u001b[38;5;124m0.0.0.0\u001b[39m\u001b[38;5;124m'\u001b[39m, \u001b[38;5;241m10022\u001b[39m),\n\u001b[1;32m      8\u001b[0m ) \u001b[38;5;28;01mas\u001b[39;00m tunnel:\n\u001b[1;32m      9\u001b[0m     telnet \u001b[38;5;241m=\u001b[39m Telnet()\n",
      "\u001b[0;31mModuleNotFoundError\u001b[0m: No module named 'sshtunnel'"
     ]
    }
   ],
   "source": [
    "from sshtunnel import SSHTunnelForwarder\n",
    "with SSHTunnelForwarder(\n",
    "    (hostname, 22),\n",
    "    ssh_username=\"dimm\",\n",
    "    ssh_password=\"12345678\",\n",
    "    remote_bind_address=('127.0.0.1', 16301),\n",
    "    local_bind_address=('0.0.0.0', 10022),\n",
    ") as tunnel:\n",
    "    telnet = Telnet()\n",
    "    telnet.open('127.0.0.1', 10022)\n",
    "    telnet.close()"
   ]
  },
  {
   "cell_type": "code",
   "execution_count": 86,
   "id": "86676967-9145-4ffd-89d7-8e149ae1baec",
   "metadata": {},
   "outputs": [
    {
     "ename": "TIMEOUT",
     "evalue": "Timeout exceeded.\n<pexpect.pty_spawn.spawn object at 0x7f0bcb01f100>\ncommand: /usr/bin/ssh\nargs: ['/usr/bin/ssh', 'dimm@139.229.191.103']\nbuffer (last 100 chars): b' Feb 17 01:36:35 2022 from 139.229.160.64\\r\\r\\n\\x1b]0;dimm@dimm: ~\\x07\\x1b[01;32mdimm@dimm\\x1b[00m:\\x1b[01;34m~\\x1b[00m$ '\nbefore (last 100 chars): b' Feb 17 01:36:35 2022 from 139.229.160.64\\r\\r\\n\\x1b]0;dimm@dimm: ~\\x07\\x1b[01;32mdimm@dimm\\x1b[00m:\\x1b[01;34m~\\x1b[00m$ '\nafter: <class 'pexpect.exceptions.TIMEOUT'>\nmatch: None\nmatch_index: None\nexitstatus: None\nflag_eof: False\npid: 30471\nchild_fd: 71\nclosed: False\ntimeout: 30\ndelimiter: <class 'pexpect.exceptions.EOF'>\nlogfile: None\nlogfile_read: None\nlogfile_send: None\nmaxread: 2000\nignorecase: False\nsearchwindowsize: None\ndelaybeforesend: 0.05\ndelayafterclose: 0.1\ndelayafterterminate: 0.1\nsearcher: searcher_re:\n    0: re.compile(b'#')",
     "output_type": "error",
     "traceback": [
      "\u001b[0;31m---------------------------------------------------------------------------\u001b[0m",
      "\u001b[0;31mTIMEOUT\u001b[0m                                   Traceback (most recent call last)",
      "Input \u001b[0;32mIn [86]\u001b[0m, in \u001b[0;36m<module>\u001b[0;34m\u001b[0m\n\u001b[0;32m----> 1\u001b[0m session \u001b[38;5;241m=\u001b[39m \u001b[43mssh_login\u001b[49m\u001b[43m(\u001b[49m\u001b[43m)\u001b[49m\n",
      "Input \u001b[0;32mIn [85]\u001b[0m, in \u001b[0;36mssh_login\u001b[0;34m()\u001b[0m\n\u001b[1;32m      5\u001b[0m child\u001b[38;5;241m.\u001b[39mexpect(\u001b[38;5;124m\"\u001b[39m\u001b[38;5;124mpassword:\u001b[39m\u001b[38;5;124m\"\u001b[39m)\n\u001b[1;32m      6\u001b[0m child\u001b[38;5;241m.\u001b[39msendline(password)\n\u001b[0;32m----> 7\u001b[0m \u001b[43mchild\u001b[49m\u001b[38;5;241;43m.\u001b[39;49m\u001b[43mexpect\u001b[49m\u001b[43m(\u001b[49m\u001b[38;5;124;43m\"\u001b[39;49m\u001b[38;5;124;43m#\u001b[39;49m\u001b[38;5;124;43m\"\u001b[39;49m\u001b[43m)\u001b[49m\n\u001b[1;32m      8\u001b[0m \u001b[38;5;28;01mreturn\u001b[39;00m child\n",
      "File \u001b[0;32m/opt/lsst/software/stack/conda/miniconda3-py38_4.9.2/envs/lsst-scipipe-1.0.0/lib/python3.8/site-packages/pexpect/spawnbase.py:343\u001b[0m, in \u001b[0;36mSpawnBase.expect\u001b[0;34m(self, pattern, timeout, searchwindowsize, async_, **kw)\u001b[0m\n\u001b[1;32m    340\u001b[0m     \u001b[38;5;28;01mraise\u001b[39;00m \u001b[38;5;167;01mTypeError\u001b[39;00m(\u001b[38;5;124m\"\u001b[39m\u001b[38;5;124mUnknown keyword arguments: \u001b[39m\u001b[38;5;132;01m{}\u001b[39;00m\u001b[38;5;124m\"\u001b[39m\u001b[38;5;241m.\u001b[39mformat(kw))\n\u001b[1;32m    342\u001b[0m compiled_pattern_list \u001b[38;5;241m=\u001b[39m \u001b[38;5;28mself\u001b[39m\u001b[38;5;241m.\u001b[39mcompile_pattern_list(pattern)\n\u001b[0;32m--> 343\u001b[0m \u001b[38;5;28;01mreturn\u001b[39;00m \u001b[38;5;28;43mself\u001b[39;49m\u001b[38;5;241;43m.\u001b[39;49m\u001b[43mexpect_list\u001b[49m\u001b[43m(\u001b[49m\u001b[43mcompiled_pattern_list\u001b[49m\u001b[43m,\u001b[49m\n\u001b[1;32m    344\u001b[0m \u001b[43m        \u001b[49m\u001b[43mtimeout\u001b[49m\u001b[43m,\u001b[49m\u001b[43m \u001b[49m\u001b[43msearchwindowsize\u001b[49m\u001b[43m,\u001b[49m\u001b[43m \u001b[49m\u001b[43masync_\u001b[49m\u001b[43m)\u001b[49m\n",
      "File \u001b[0;32m/opt/lsst/software/stack/conda/miniconda3-py38_4.9.2/envs/lsst-scipipe-1.0.0/lib/python3.8/site-packages/pexpect/spawnbase.py:372\u001b[0m, in \u001b[0;36mSpawnBase.expect_list\u001b[0;34m(self, pattern_list, timeout, searchwindowsize, async_, **kw)\u001b[0m\n\u001b[1;32m    370\u001b[0m     \u001b[38;5;28;01mreturn\u001b[39;00m expect_async(exp, timeout)\n\u001b[1;32m    371\u001b[0m \u001b[38;5;28;01melse\u001b[39;00m:\n\u001b[0;32m--> 372\u001b[0m     \u001b[38;5;28;01mreturn\u001b[39;00m \u001b[43mexp\u001b[49m\u001b[38;5;241;43m.\u001b[39;49m\u001b[43mexpect_loop\u001b[49m\u001b[43m(\u001b[49m\u001b[43mtimeout\u001b[49m\u001b[43m)\u001b[49m\n",
      "File \u001b[0;32m/opt/lsst/software/stack/conda/miniconda3-py38_4.9.2/envs/lsst-scipipe-1.0.0/lib/python3.8/site-packages/pexpect/expect.py:181\u001b[0m, in \u001b[0;36mExpecter.expect_loop\u001b[0;34m(self, timeout)\u001b[0m\n\u001b[1;32m    179\u001b[0m     \u001b[38;5;28;01mreturn\u001b[39;00m \u001b[38;5;28mself\u001b[39m\u001b[38;5;241m.\u001b[39meof(e)\n\u001b[1;32m    180\u001b[0m \u001b[38;5;28;01mexcept\u001b[39;00m TIMEOUT \u001b[38;5;28;01mas\u001b[39;00m e:\n\u001b[0;32m--> 181\u001b[0m     \u001b[38;5;28;01mreturn\u001b[39;00m \u001b[38;5;28;43mself\u001b[39;49m\u001b[38;5;241;43m.\u001b[39;49m\u001b[43mtimeout\u001b[49m\u001b[43m(\u001b[49m\u001b[43me\u001b[49m\u001b[43m)\u001b[49m\n\u001b[1;32m    182\u001b[0m \u001b[38;5;28;01mexcept\u001b[39;00m:\n\u001b[1;32m    183\u001b[0m     \u001b[38;5;28mself\u001b[39m\u001b[38;5;241m.\u001b[39merrored()\n",
      "File \u001b[0;32m/opt/lsst/software/stack/conda/miniconda3-py38_4.9.2/envs/lsst-scipipe-1.0.0/lib/python3.8/site-packages/pexpect/expect.py:144\u001b[0m, in \u001b[0;36mExpecter.timeout\u001b[0;34m(self, err)\u001b[0m\n\u001b[1;32m    142\u001b[0m exc \u001b[38;5;241m=\u001b[39m TIMEOUT(msg)\n\u001b[1;32m    143\u001b[0m exc\u001b[38;5;241m.\u001b[39m__cause__ \u001b[38;5;241m=\u001b[39m \u001b[38;5;28;01mNone\u001b[39;00m    \u001b[38;5;66;03m# in Python 3.x we can use \"raise exc from None\"\u001b[39;00m\n\u001b[0;32m--> 144\u001b[0m \u001b[38;5;28;01mraise\u001b[39;00m exc\n",
      "\u001b[0;31mTIMEOUT\u001b[0m: Timeout exceeded.\n<pexpect.pty_spawn.spawn object at 0x7f0bcb01f100>\ncommand: /usr/bin/ssh\nargs: ['/usr/bin/ssh', 'dimm@139.229.191.103']\nbuffer (last 100 chars): b' Feb 17 01:36:35 2022 from 139.229.160.64\\r\\r\\n\\x1b]0;dimm@dimm: ~\\x07\\x1b[01;32mdimm@dimm\\x1b[00m:\\x1b[01;34m~\\x1b[00m$ '\nbefore (last 100 chars): b' Feb 17 01:36:35 2022 from 139.229.160.64\\r\\r\\n\\x1b]0;dimm@dimm: ~\\x07\\x1b[01;32mdimm@dimm\\x1b[00m:\\x1b[01;34m~\\x1b[00m$ '\nafter: <class 'pexpect.exceptions.TIMEOUT'>\nmatch: None\nmatch_index: None\nexitstatus: None\nflag_eof: False\npid: 30471\nchild_fd: 71\nclosed: False\ntimeout: 30\ndelimiter: <class 'pexpect.exceptions.EOF'>\nlogfile: None\nlogfile_read: None\nlogfile_send: None\nmaxread: 2000\nignorecase: False\nsearchwindowsize: None\ndelaybeforesend: 0.05\ndelayafterclose: 0.1\ndelayafterterminate: 0.1\nsearcher: searcher_re:\n    0: re.compile(b'#')"
     ]
    }
   ],
   "source": [
    "session = ssh_login()"
   ]
  },
  {
   "cell_type": "code",
   "execution_count": null,
   "id": "0e79200b-eb2f-4609-bc72-fd24c4f2387e",
   "metadata": {},
   "outputs": [],
   "source": []
  }
 ],
 "metadata": {
  "kernelspec": {
   "display_name": "LSST",
   "language": "python",
   "name": "lsst"
  },
  "language_info": {
   "codemirror_mode": {
    "name": "ipython",
    "version": 3
   },
   "file_extension": ".py",
   "mimetype": "text/x-python",
   "name": "python",
   "nbconvert_exporter": "python",
   "pygments_lexer": "ipython3",
   "version": "3.8.12"
  }
 },
 "nbformat": 4,
 "nbformat_minor": 5
}
