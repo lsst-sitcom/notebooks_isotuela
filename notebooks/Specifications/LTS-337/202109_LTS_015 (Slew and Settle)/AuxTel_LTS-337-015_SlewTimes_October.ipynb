{
 "cells": [
  {
   "cell_type": "markdown",
   "metadata": {
    "tags": []
   },
   "source": [
    "## AuxTel LTS-337-015 (Small Slew and Settle)\n",
    "\n",
    "In this notebook, we check the speed of the telescope slew and settle with a change of 10 degrees.  Desired specs:\n",
    "\n",
    "| Description | Value       | Unit          |   Name     |\n",
    "| :---        |    :----:   |       :----:  |       ---: |\n",
    "|The pointing accuracy requirement for small slews is:    | 2.5       | Arcsec RMS   |Aux_Tel_Sm_Slew_Abs_Pointing|\n",
    "|The small elevation slew requirement for the Auxiliary Telescope used to define the Aux_Tel_Sm_Slew_Abs_Pointing requirement| 10| Degrees |Aux_Tel_Sm_Elev_Slew|\n",
    "|The small azimuth slew requirement for the Auxiliary Telescope used to define the Aux_Tel_Sm_Slew_Abs_Pointing requirement.  |10       | Degrees     |Aux_Tel_Sm_Az_Slew|\n",
    "|The allotted time to perform a slew and settle by Aux_Tel_Sm_Elev_Slew and Aux_Tel_Sm_Az_Slew by the Auxiliary Telescope and meet the Aux_Tel_Sm_Slew_Abs_Pointing pointing requirement.      | 10|Seconds|Aux_Tel_Smslew_AcqTime|"
   ]
  },
  {
   "cell_type": "markdown",
   "metadata": {},
   "source": [
    "This notebook contains a closed-dome test to check AuxTel slew acquisition time for a 'small slew and settle' \n",
    "(10 degrees slew in azimuth and elevation) performed on the night of October 7th, 2021. The slews originated from 3 different \n",
    "positions in the pointing range. Results were saved in the file attached SmallSlewandSettleTime.txt and printed in the Results \n",
    "section below. \n",
    "\n",
    "The pointing accuracy requirement was not evaluated here and will be included in the complete upcoming AuxTel LTS-337-015 \n",
    "test artifact. \n",
    "\n",
    "This notebook is divided into 5 sections:\n",
    "1. Notebook and System Setup \n",
    "2. Small Slew and Settle Time Test \n",
    "3. System Shutdown \n",
    "4. Results  \n",
    "5. Conclusion "
   ]
  },
  {
   "cell_type": "markdown",
   "metadata": {},
   "source": [
    "# Notebook and System Setup"
   ]
  },
  {
   "cell_type": "code",
   "execution_count": 1,
   "metadata": {},
   "outputs": [
    {
     "name": "stderr",
     "output_type": "stream",
     "text": [
      "INFO:lsst.ts.utils.tai:Update leap second table\n",
      "INFO:lsst.ts.utils.tai:current_tai uses the system TAI clock\n"
     ]
    }
   ],
   "source": [
    "import sys, time, os, asyncio\n",
    "\n",
    "from datetime import datetime\n",
    "import numpy as np\n",
    "import matplotlib.pyplot as plt\n",
    "import pandas as pd\n",
    "\n",
    "from lsst.ts import salobj\n",
    "from lsst.ts.observatory.control.auxtel.atcs import ATCS\n",
    "from lsst.ts.observatory.control.auxtel.latiss import LATISS\n",
    "from astropy.time import Time, TimeDelta\n",
    "from astropy.coordinates import AltAz, ICRS, EarthLocation, Angle, FK5\n",
    "import astropy.units as u"
   ]
  },
  {
   "cell_type": "code",
   "execution_count": 2,
   "metadata": {},
   "outputs": [],
   "source": [
    "# for tab completion to work in current notebook instance\n",
    "%config IPCompleter.use_jedi = False"
   ]
  },
  {
   "cell_type": "code",
   "execution_count": 3,
   "metadata": {},
   "outputs": [],
   "source": [
    "import logging\n",
    "stream_handler = logging.StreamHandler(sys.stdout)\n",
    "logger = logging.getLogger()\n",
    "logger.addHandler(stream_handler)\n",
    "logger.level = logging.DEBUG"
   ]
  },
  {
   "cell_type": "code",
   "execution_count": 4,
   "metadata": {},
   "outputs": [
    {
     "name": "stderr",
     "output_type": "stream",
     "text": [
      "DEBUG:ATCS:atmcs: Adding all resources.\n"
     ]
    },
    {
     "name": "stdout",
     "output_type": "stream",
     "text": [
      "atmcs: Adding all resources.\n"
     ]
    },
    {
     "name": "stderr",
     "output_type": "stream",
     "text": [
      "DEBUG:ATCS:atptg: Adding all resources.\n"
     ]
    },
    {
     "name": "stdout",
     "output_type": "stream",
     "text": [
      "atptg: Adding all resources.\n"
     ]
    },
    {
     "name": "stderr",
     "output_type": "stream",
     "text": [
      "DEBUG:ATCS:ataos: Adding all resources.\n"
     ]
    },
    {
     "name": "stdout",
     "output_type": "stream",
     "text": [
      "ataos: Adding all resources.\n"
     ]
    },
    {
     "name": "stderr",
     "output_type": "stream",
     "text": [
      "DEBUG:ATCS:atpneumatics: Adding all resources.\n"
     ]
    },
    {
     "name": "stdout",
     "output_type": "stream",
     "text": [
      "atpneumatics: Adding all resources.\n"
     ]
    },
    {
     "name": "stderr",
     "output_type": "stream",
     "text": [
      "DEBUG:ATCS:athexapod: Adding all resources.\n"
     ]
    },
    {
     "name": "stdout",
     "output_type": "stream",
     "text": [
      "athexapod: Adding all resources.\n"
     ]
    },
    {
     "name": "stderr",
     "output_type": "stream",
     "text": [
      "DEBUG:ATCS:atdome: Adding all resources.\n"
     ]
    },
    {
     "name": "stdout",
     "output_type": "stream",
     "text": [
      "atdome: Adding all resources.\n"
     ]
    },
    {
     "name": "stderr",
     "output_type": "stream",
     "text": [
      "DEBUG:ATCS:atdometrajectory: Adding all resources.\n"
     ]
    },
    {
     "name": "stdout",
     "output_type": "stream",
     "text": [
      "atdometrajectory: Adding all resources.\n"
     ]
    },
    {
     "name": "stderr",
     "output_type": "stream",
     "text": [
      "DEBUG:LATISS:atcamera: Adding all resources.\n"
     ]
    },
    {
     "name": "stdout",
     "output_type": "stream",
     "text": [
      "atcamera: Adding all resources.\n"
     ]
    },
    {
     "name": "stderr",
     "output_type": "stream",
     "text": [
      "DEBUG:LATISS:atspectrograph: Adding all resources.\n"
     ]
    },
    {
     "name": "stdout",
     "output_type": "stream",
     "text": [
      "atspectrograph: Adding all resources.\n"
     ]
    },
    {
     "name": "stderr",
     "output_type": "stream",
     "text": [
      "DEBUG:LATISS:atheaderservice: Adding all resources.\n"
     ]
    },
    {
     "name": "stdout",
     "output_type": "stream",
     "text": [
      "atheaderservice: Adding all resources.\n"
     ]
    },
    {
     "name": "stderr",
     "output_type": "stream",
     "text": [
      "DEBUG:LATISS:atarchiver: Adding all resources.\n"
     ]
    },
    {
     "name": "stdout",
     "output_type": "stream",
     "text": [
      "atarchiver: Adding all resources.\n"
     ]
    },
    {
     "name": "stderr",
     "output_type": "stream",
     "text": [
      "INFO:ATHexapod:Read historical data in 0.01 sec\n"
     ]
    },
    {
     "name": "stdout",
     "output_type": "stream",
     "text": [
      "Read historical data in 0.01 sec\n"
     ]
    },
    {
     "name": "stderr",
     "output_type": "stream",
     "text": [
      "DEBUG:ATHexapod:Read 17 history items for RemoteEvent(ATHexapod, 0, appliedSettingsMatchStart)\n"
     ]
    },
    {
     "name": "stdout",
     "output_type": "stream",
     "text": [
      "Read 17 history items for RemoteEvent(ATHexapod, 0, appliedSettingsMatchStart)\n"
     ]
    },
    {
     "name": "stderr",
     "output_type": "stream",
     "text": [
      "DEBUG:ATHexapod:Read 1 history items for RemoteEvent(ATHexapod, 0, authList)\n"
     ]
    },
    {
     "name": "stdout",
     "output_type": "stream",
     "text": [
      "Read 1 history items for RemoteEvent(ATHexapod, 0, authList)\n"
     ]
    },
    {
     "name": "stderr",
     "output_type": "stream",
     "text": [
      "DEBUG:ATHexapod:Read 100 history items for RemoteEvent(ATHexapod, 0, detailedState)\n"
     ]
    },
    {
     "name": "stdout",
     "output_type": "stream",
     "text": [
      "Read 100 history items for RemoteEvent(ATHexapod, 0, detailedState)\n"
     ]
    },
    {
     "name": "stderr",
     "output_type": "stream",
     "text": [
      "DEBUG:ATHexapod:Read 100 history items for RemoteEvent(ATHexapod, 0, heartbeat)\n"
     ]
    },
    {
     "name": "stdout",
     "output_type": "stream",
     "text": [
      "Read 100 history items for RemoteEvent(ATHexapod, 0, heartbeat)\n"
     ]
    },
    {
     "name": "stderr",
     "output_type": "stream",
     "text": [
      "DEBUG:ATHexapod:Read 100 history items for RemoteEvent(ATHexapod, 0, inPosition)\n"
     ]
    },
    {
     "name": "stdout",
     "output_type": "stream",
     "text": [
      "Read 100 history items for RemoteEvent(ATHexapod, 0, inPosition)\n"
     ]
    },
    {
     "name": "stderr",
     "output_type": "stream",
     "text": [
      "DEBUG:ATHexapod:Read 1 history items for RemoteEvent(ATHexapod, 0, logLevel)\n"
     ]
    },
    {
     "name": "stdout",
     "output_type": "stream",
     "text": [
      "Read 1 history items for RemoteEvent(ATHexapod, 0, logLevel)\n"
     ]
    },
    {
     "name": "stderr",
     "output_type": "stream",
     "text": [
      "DEBUG:ATHexapod:Read 100 history items for RemoteEvent(ATHexapod, 0, logMessage)\n"
     ]
    },
    {
     "name": "stdout",
     "output_type": "stream",
     "text": [
      "Read 100 history items for RemoteEvent(ATHexapod, 0, logMessage)\n"
     ]
    },
    {
     "name": "stderr",
     "output_type": "stream",
     "text": [
      "DEBUG:ATHexapod:Read 100 history items for RemoteEvent(ATHexapod, 0, positionUpdate)\n"
     ]
    },
    {
     "name": "stdout",
     "output_type": "stream",
     "text": [
      "Read 100 history items for RemoteEvent(ATHexapod, 0, positionUpdate)\n"
     ]
    },
    {
     "name": "stderr",
     "output_type": "stream",
     "text": [
      "DEBUG:ATHexapod:Read 1 history items for RemoteEvent(ATHexapod, 0, readyForCommand)\n"
     ]
    },
    {
     "name": "stdout",
     "output_type": "stream",
     "text": [
      "Read 1 history items for RemoteEvent(ATHexapod, 0, readyForCommand)\n"
     ]
    },
    {
     "name": "stderr",
     "output_type": "stream",
     "text": [
      "DEBUG:ATHexapod:Read 1 history items for RemoteEvent(ATHexapod, 0, settingVersions)\n"
     ]
    },
    {
     "name": "stdout",
     "output_type": "stream",
     "text": [
      "Read 1 history items for RemoteEvent(ATHexapod, 0, settingVersions)\n"
     ]
    },
    {
     "name": "stderr",
     "output_type": "stream",
     "text": [
      "DEBUG:ATHexapod:Read 3 history items for RemoteEvent(ATHexapod, 0, settingsApplied)\n"
     ]
    },
    {
     "name": "stdout",
     "output_type": "stream",
     "text": [
      "Read 3 history items for RemoteEvent(ATHexapod, 0, settingsApplied)\n"
     ]
    },
    {
     "name": "stderr",
     "output_type": "stream",
     "text": [
      "DEBUG:ATHexapod:Read 1 history items for RemoteEvent(ATHexapod, 0, settingsAppliedPivot)\n"
     ]
    },
    {
     "name": "stdout",
     "output_type": "stream",
     "text": [
      "Read 1 history items for RemoteEvent(ATHexapod, 0, settingsAppliedPivot)\n"
     ]
    },
    {
     "name": "stderr",
     "output_type": "stream",
     "text": [
      "DEBUG:ATHexapod:Read 1 history items for RemoteEvent(ATHexapod, 0, settingsAppliedPositionLimits)\n"
     ]
    },
    {
     "name": "stdout",
     "output_type": "stream",
     "text": [
      "Read 1 history items for RemoteEvent(ATHexapod, 0, settingsAppliedPositionLimits)\n"
     ]
    },
    {
     "name": "stderr",
     "output_type": "stream",
     "text": [
      "DEBUG:ATHexapod:Read 3 history items for RemoteEvent(ATHexapod, 0, settingsAppliedTcp)\n"
     ]
    },
    {
     "name": "stdout",
     "output_type": "stream",
     "text": [
      "Read 3 history items for RemoteEvent(ATHexapod, 0, settingsAppliedTcp)\n"
     ]
    },
    {
     "name": "stderr",
     "output_type": "stream",
     "text": [
      "DEBUG:ATHexapod:Read 1 history items for RemoteEvent(ATHexapod, 0, settingsAppliedVelocities)\n"
     ]
    },
    {
     "name": "stdout",
     "output_type": "stream",
     "text": [
      "Read 1 history items for RemoteEvent(ATHexapod, 0, settingsAppliedVelocities)\n"
     ]
    },
    {
     "name": "stderr",
     "output_type": "stream",
     "text": [
      "DEBUG:ATHexapod:Read 1 history items for RemoteEvent(ATHexapod, 0, simulationMode)\n"
     ]
    },
    {
     "name": "stdout",
     "output_type": "stream",
     "text": [
      "Read 1 history items for RemoteEvent(ATHexapod, 0, simulationMode)\n"
     ]
    },
    {
     "name": "stderr",
     "output_type": "stream",
     "text": [
      "DEBUG:ATHexapod:Read 1 history items for RemoteEvent(ATHexapod, 0, softwareVersions)\n"
     ]
    },
    {
     "name": "stdout",
     "output_type": "stream",
     "text": [
      "Read 1 history items for RemoteEvent(ATHexapod, 0, softwareVersions)\n"
     ]
    },
    {
     "name": "stderr",
     "output_type": "stream",
     "text": [
      "DEBUG:ATHexapod:Read 65 history items for RemoteEvent(ATHexapod, 0, summaryState)\n"
     ]
    },
    {
     "name": "stdout",
     "output_type": "stream",
     "text": [
      "Read 65 history items for RemoteEvent(ATHexapod, 0, summaryState)\n"
     ]
    },
    {
     "name": "stderr",
     "output_type": "stream",
     "text": [
      "INFO:ATAOS:Read historical data in 0.09 sec\n"
     ]
    },
    {
     "name": "stdout",
     "output_type": "stream",
     "text": [
      "Read historical data in 0.09 sec\n"
     ]
    },
    {
     "name": "stderr",
     "output_type": "stream",
     "text": [
      "DEBUG:ATAOS:Read 7 history items for RemoteEvent(ATAOS, 0, appliedSettingsMatchStart)\n"
     ]
    },
    {
     "name": "stdout",
     "output_type": "stream",
     "text": [
      "Read 7 history items for RemoteEvent(ATAOS, 0, appliedSettingsMatchStart)\n"
     ]
    },
    {
     "name": "stderr",
     "output_type": "stream",
     "text": [
      "DEBUG:ATAOS:Read 100 history items for RemoteEvent(ATAOS, 0, atspectrographCorrectionCompleted)\n"
     ]
    },
    {
     "name": "stdout",
     "output_type": "stream",
     "text": [
      "Read 100 history items for RemoteEvent(ATAOS, 0, atspectrographCorrectionCompleted)\n"
     ]
    },
    {
     "name": "stderr",
     "output_type": "stream",
     "text": [
      "DEBUG:ATAOS:Read 100 history items for RemoteEvent(ATAOS, 0, atspectrographCorrectionStarted)\n"
     ]
    },
    {
     "name": "stdout",
     "output_type": "stream",
     "text": [
      "Read 100 history items for RemoteEvent(ATAOS, 0, atspectrographCorrectionStarted)\n"
     ]
    },
    {
     "name": "stderr",
     "output_type": "stream",
     "text": [
      "DEBUG:ATAOS:Read 1 history items for RemoteEvent(ATAOS, 0, authList)\n"
     ]
    },
    {
     "name": "stdout",
     "output_type": "stream",
     "text": [
      "Read 1 history items for RemoteEvent(ATAOS, 0, authList)\n"
     ]
    },
    {
     "name": "stderr",
     "output_type": "stream",
     "text": [
      "DEBUG:ATAOS:Read 24 history items for RemoteEvent(ATAOS, 0, correctionEnabled)\n"
     ]
    },
    {
     "name": "stdout",
     "output_type": "stream",
     "text": [
      "Read 24 history items for RemoteEvent(ATAOS, 0, correctionEnabled)\n"
     ]
    },
    {
     "name": "stderr",
     "output_type": "stream",
     "text": [
      "DEBUG:ATAOS:Read 100 history items for RemoteEvent(ATAOS, 0, correctionOffsets)\n"
     ]
    },
    {
     "name": "stdout",
     "output_type": "stream",
     "text": [
      "Read 100 history items for RemoteEvent(ATAOS, 0, correctionOffsets)\n"
     ]
    },
    {
     "name": "stderr",
     "output_type": "stream",
     "text": [
      "DEBUG:ATAOS:Read 100 history items for RemoteEvent(ATAOS, 0, detailedState)\n"
     ]
    },
    {
     "name": "stdout",
     "output_type": "stream",
     "text": [
      "Read 100 history items for RemoteEvent(ATAOS, 0, detailedState)\n"
     ]
    },
    {
     "name": "stderr",
     "output_type": "stream",
     "text": [
      "DEBUG:ATAOS:Read 1 history items for RemoteEvent(ATAOS, 0, errorCode)\n"
     ]
    },
    {
     "name": "stdout",
     "output_type": "stream",
     "text": [
      "Read 1 history items for RemoteEvent(ATAOS, 0, errorCode)\n"
     ]
    },
    {
     "name": "stderr",
     "output_type": "stream",
     "text": [
      "DEBUG:ATAOS:Read 100 history items for RemoteEvent(ATAOS, 0, focusOffsetSummary)\n"
     ]
    },
    {
     "name": "stdout",
     "output_type": "stream",
     "text": [
      "Read 100 history items for RemoteEvent(ATAOS, 0, focusOffsetSummary)\n"
     ]
    },
    {
     "name": "stderr",
     "output_type": "stream",
     "text": [
      "DEBUG:ATAOS:Read 100 history items for RemoteEvent(ATAOS, 0, heartbeat)\n"
     ]
    },
    {
     "name": "stdout",
     "output_type": "stream",
     "text": [
      "Read 100 history items for RemoteEvent(ATAOS, 0, heartbeat)\n"
     ]
    },
    {
     "name": "stderr",
     "output_type": "stream",
     "text": [
      "DEBUG:ATAOS:Read 100 history items for RemoteEvent(ATAOS, 0, hexapodCorrectionCompleted)\n"
     ]
    },
    {
     "name": "stdout",
     "output_type": "stream",
     "text": [
      "Read 100 history items for RemoteEvent(ATAOS, 0, hexapodCorrectionCompleted)\n"
     ]
    },
    {
     "name": "stderr",
     "output_type": "stream",
     "text": [
      "DEBUG:ATAOS:Read 100 history items for RemoteEvent(ATAOS, 0, hexapodCorrectionStarted)\n"
     ]
    },
    {
     "name": "stdout",
     "output_type": "stream",
     "text": [
      "Read 100 history items for RemoteEvent(ATAOS, 0, hexapodCorrectionStarted)\n"
     ]
    },
    {
     "name": "stderr",
     "output_type": "stream",
     "text": [
      "DEBUG:ATAOS:Read 1 history items for RemoteEvent(ATAOS, 0, logLevel)\n"
     ]
    },
    {
     "name": "stdout",
     "output_type": "stream",
     "text": [
      "Read 1 history items for RemoteEvent(ATAOS, 0, logLevel)\n"
     ]
    },
    {
     "name": "stderr",
     "output_type": "stream",
     "text": [
      "DEBUG:ATAOS:Read 100 history items for RemoteEvent(ATAOS, 0, logMessage)\n"
     ]
    },
    {
     "name": "stdout",
     "output_type": "stream",
     "text": [
      "Read 100 history items for RemoteEvent(ATAOS, 0, logMessage)\n"
     ]
    },
    {
     "name": "stderr",
     "output_type": "stream",
     "text": [
      "DEBUG:ATAOS:Read 100 history items for RemoteEvent(ATAOS, 0, m1CorrectionCompleted)\n"
     ]
    },
    {
     "name": "stdout",
     "output_type": "stream",
     "text": [
      "Read 100 history items for RemoteEvent(ATAOS, 0, m1CorrectionCompleted)\n"
     ]
    },
    {
     "name": "stderr",
     "output_type": "stream",
     "text": [
      "DEBUG:ATAOS:Read 100 history items for RemoteEvent(ATAOS, 0, m1CorrectionStarted)\n"
     ]
    },
    {
     "name": "stdout",
     "output_type": "stream",
     "text": [
      "Read 100 history items for RemoteEvent(ATAOS, 0, m1CorrectionStarted)\n"
     ]
    },
    {
     "name": "stderr",
     "output_type": "stream",
     "text": [
      "DEBUG:ATAOS:Read 100 history items for RemoteEvent(ATAOS, 0, pointingOffsetSummary)\n"
     ]
    },
    {
     "name": "stdout",
     "output_type": "stream",
     "text": [
      "Read 100 history items for RemoteEvent(ATAOS, 0, pointingOffsetSummary)\n"
     ]
    },
    {
     "name": "stderr",
     "output_type": "stream",
     "text": [
      "DEBUG:ATAOS:Read 1 history items for RemoteEvent(ATAOS, 0, settingVersions)\n"
     ]
    },
    {
     "name": "stdout",
     "output_type": "stream",
     "text": [
      "Read 1 history items for RemoteEvent(ATAOS, 0, settingVersions)\n"
     ]
    },
    {
     "name": "stderr",
     "output_type": "stream",
     "text": [
      "DEBUG:ATAOS:Read 1 history items for RemoteEvent(ATAOS, 0, settingsApplied)\n"
     ]
    },
    {
     "name": "stdout",
     "output_type": "stream",
     "text": [
      "Read 1 history items for RemoteEvent(ATAOS, 0, settingsApplied)\n"
     ]
    },
    {
     "name": "stderr",
     "output_type": "stream",
     "text": [
      "DEBUG:ATAOS:Read 1 history items for RemoteEvent(ATAOS, 0, simulationMode)\n"
     ]
    },
    {
     "name": "stdout",
     "output_type": "stream",
     "text": [
      "Read 1 history items for RemoteEvent(ATAOS, 0, simulationMode)\n"
     ]
    },
    {
     "name": "stderr",
     "output_type": "stream",
     "text": [
      "DEBUG:ATAOS:Read 1 history items for RemoteEvent(ATAOS, 0, softwareVersions)\n"
     ]
    },
    {
     "name": "stdout",
     "output_type": "stream",
     "text": [
      "Read 1 history items for RemoteEvent(ATAOS, 0, softwareVersions)\n"
     ]
    },
    {
     "name": "stderr",
     "output_type": "stream",
     "text": [
      "DEBUG:ATAOS:Read 29 history items for RemoteEvent(ATAOS, 0, summaryState)\n"
     ]
    },
    {
     "name": "stdout",
     "output_type": "stream",
     "text": [
      "Read 29 history items for RemoteEvent(ATAOS, 0, summaryState)\n"
     ]
    },
    {
     "name": "stderr",
     "output_type": "stream",
     "text": [
      "INFO:ATPneumatics:Read historical data in 0.19 sec\n"
     ]
    },
    {
     "name": "stdout",
     "output_type": "stream",
     "text": [
      "Read historical data in 0.19 sec\n"
     ]
    },
    {
     "name": "stderr",
     "output_type": "stream",
     "text": [
      "DEBUG:ATPneumatics:Read 7 history items for RemoteEvent(ATPneumatics, 0, appliedSettingsMatchStart)\n"
     ]
    },
    {
     "name": "stdout",
     "output_type": "stream",
     "text": [
      "Read 7 history items for RemoteEvent(ATPneumatics, 0, appliedSettingsMatchStart)\n"
     ]
    },
    {
     "name": "stderr",
     "output_type": "stream",
     "text": [
      "DEBUG:ATPneumatics:Read 27 history items for RemoteEvent(ATPneumatics, 0, cellVentsState)\n"
     ]
    },
    {
     "name": "stdout",
     "output_type": "stream",
     "text": [
      "Read 27 history items for RemoteEvent(ATPneumatics, 0, cellVentsState)\n"
     ]
    },
    {
     "name": "stderr",
     "output_type": "stream",
     "text": [
      "DEBUG:ATPneumatics:Read 1 history items for RemoteEvent(ATPneumatics, 0, eStop)\n"
     ]
    },
    {
     "name": "stdout",
     "output_type": "stream",
     "text": [
      "Read 1 history items for RemoteEvent(ATPneumatics, 0, eStop)\n"
     ]
    },
    {
     "name": "stderr",
     "output_type": "stream",
     "text": [
      "DEBUG:ATPneumatics:Read 100 history items for RemoteEvent(ATPneumatics, 0, heartbeat)\n"
     ]
    },
    {
     "name": "stdout",
     "output_type": "stream",
     "text": [
      "Read 100 history items for RemoteEvent(ATPneumatics, 0, heartbeat)\n"
     ]
    },
    {
     "name": "stderr",
     "output_type": "stream",
     "text": [
      "DEBUG:ATPneumatics:Read 20 history items for RemoteEvent(ATPneumatics, 0, instrumentState)\n"
     ]
    },
    {
     "name": "stdout",
     "output_type": "stream",
     "text": [
      "Read 20 history items for RemoteEvent(ATPneumatics, 0, instrumentState)\n"
     ]
    },
    {
     "name": "stderr",
     "output_type": "stream",
     "text": [
      "DEBUG:ATPneumatics:Read 100 history items for RemoteEvent(ATPneumatics, 0, m1CoverLimitSwitches)\n"
     ]
    },
    {
     "name": "stdout",
     "output_type": "stream",
     "text": [
      "Read 100 history items for RemoteEvent(ATPneumatics, 0, m1CoverLimitSwitches)\n"
     ]
    },
    {
     "name": "stderr",
     "output_type": "stream",
     "text": [
      "DEBUG:ATPneumatics:Read 49 history items for RemoteEvent(ATPneumatics, 0, m1CoverState)\n"
     ]
    },
    {
     "name": "stdout",
     "output_type": "stream",
     "text": [
      "Read 49 history items for RemoteEvent(ATPneumatics, 0, m1CoverState)\n"
     ]
    },
    {
     "name": "stderr",
     "output_type": "stream",
     "text": [
      "DEBUG:ATPneumatics:Read 100 history items for RemoteEvent(ATPneumatics, 0, m1SetPressure)\n"
     ]
    },
    {
     "name": "stdout",
     "output_type": "stream",
     "text": [
      "Read 100 history items for RemoteEvent(ATPneumatics, 0, m1SetPressure)\n"
     ]
    },
    {
     "name": "stderr",
     "output_type": "stream",
     "text": [
      "DEBUG:ATPneumatics:Read 16 history items for RemoteEvent(ATPneumatics, 0, m1State)\n"
     ]
    },
    {
     "name": "stdout",
     "output_type": "stream",
     "text": [
      "Read 16 history items for RemoteEvent(ATPneumatics, 0, m1State)\n"
     ]
    },
    {
     "name": "stderr",
     "output_type": "stream",
     "text": [
      "DEBUG:ATPneumatics:Read 11 history items for RemoteEvent(ATPneumatics, 0, m1VentsLimitSwitches)\n"
     ]
    },
    {
     "name": "stdout",
     "output_type": "stream",
     "text": [
      "Read 11 history items for RemoteEvent(ATPneumatics, 0, m1VentsLimitSwitches)\n"
     ]
    },
    {
     "name": "stderr",
     "output_type": "stream",
     "text": [
      "DEBUG:ATPneumatics:Read 22 history items for RemoteEvent(ATPneumatics, 0, m1VentsPosition)\n"
     ]
    },
    {
     "name": "stdout",
     "output_type": "stream",
     "text": [
      "Read 22 history items for RemoteEvent(ATPneumatics, 0, m1VentsPosition)\n"
     ]
    },
    {
     "name": "stderr",
     "output_type": "stream",
     "text": [
      "DEBUG:ATPneumatics:Read 14 history items for RemoteEvent(ATPneumatics, 0, m2State)\n"
     ]
    },
    {
     "name": "stdout",
     "output_type": "stream",
     "text": [
      "Read 14 history items for RemoteEvent(ATPneumatics, 0, m2State)\n"
     ]
    },
    {
     "name": "stderr",
     "output_type": "stream",
     "text": [
      "DEBUG:ATPneumatics:Read 20 history items for RemoteEvent(ATPneumatics, 0, mainValveState)\n"
     ]
    },
    {
     "name": "stdout",
     "output_type": "stream",
     "text": [
      "Read 20 history items for RemoteEvent(ATPneumatics, 0, mainValveState)\n"
     ]
    },
    {
     "name": "stderr",
     "output_type": "stream",
     "text": [
      "DEBUG:ATPneumatics:Read 1 history items for RemoteEvent(ATPneumatics, 0, powerStatus)\n"
     ]
    },
    {
     "name": "stdout",
     "output_type": "stream",
     "text": [
      "Read 1 history items for RemoteEvent(ATPneumatics, 0, powerStatus)\n"
     ]
    },
    {
     "name": "stderr",
     "output_type": "stream",
     "text": [
      "DEBUG:ATPneumatics:Read 7 history items for RemoteEvent(ATPneumatics, 0, settingVersions)\n"
     ]
    },
    {
     "name": "stdout",
     "output_type": "stream",
     "text": [
      "Read 7 history items for RemoteEvent(ATPneumatics, 0, settingVersions)\n"
     ]
    },
    {
     "name": "stderr",
     "output_type": "stream",
     "text": [
      "DEBUG:ATPneumatics:Read 1 history items for RemoteEvent(ATPneumatics, 0, softwareVersions)\n"
     ]
    },
    {
     "name": "stdout",
     "output_type": "stream",
     "text": [
      "Read 1 history items for RemoteEvent(ATPneumatics, 0, softwareVersions)\n"
     ]
    },
    {
     "name": "stderr",
     "output_type": "stream",
     "text": [
      "DEBUG:ATPneumatics:Read 55 history items for RemoteEvent(ATPneumatics, 0, summaryState)\n"
     ]
    },
    {
     "name": "stdout",
     "output_type": "stream",
     "text": [
      "Read 55 history items for RemoteEvent(ATPneumatics, 0, summaryState)\n"
     ]
    },
    {
     "name": "stderr",
     "output_type": "stream",
     "text": [
      "INFO:ATHeaderService:Read historical data in 0.24 sec\n"
     ]
    },
    {
     "name": "stdout",
     "output_type": "stream",
     "text": [
      "Read historical data in 0.24 sec\n"
     ]
    },
    {
     "name": "stderr",
     "output_type": "stream",
     "text": [
      "DEBUG:ATHeaderService:Read 1 history items for RemoteEvent(ATHeaderService, 0, authList)\n"
     ]
    },
    {
     "name": "stdout",
     "output_type": "stream",
     "text": [
      "Read 1 history items for RemoteEvent(ATHeaderService, 0, authList)\n"
     ]
    },
    {
     "name": "stderr",
     "output_type": "stream",
     "text": [
      "DEBUG:ATHeaderService:Read 100 history items for RemoteEvent(ATHeaderService, 0, heartbeat)\n"
     ]
    },
    {
     "name": "stdout",
     "output_type": "stream",
     "text": [
      "Read 100 history items for RemoteEvent(ATHeaderService, 0, heartbeat)\n"
     ]
    },
    {
     "name": "stderr",
     "output_type": "stream",
     "text": [
      "DEBUG:ATHeaderService:Read 100 history items for RemoteEvent(ATHeaderService, 0, largeFileObjectAvailable)\n"
     ]
    },
    {
     "name": "stdout",
     "output_type": "stream",
     "text": [
      "Read 100 history items for RemoteEvent(ATHeaderService, 0, largeFileObjectAvailable)\n"
     ]
    },
    {
     "name": "stderr",
     "output_type": "stream",
     "text": [
      "DEBUG:ATHeaderService:Read 1 history items for RemoteEvent(ATHeaderService, 0, logLevel)\n"
     ]
    },
    {
     "name": "stdout",
     "output_type": "stream",
     "text": [
      "Read 1 history items for RemoteEvent(ATHeaderService, 0, logLevel)\n"
     ]
    },
    {
     "name": "stderr",
     "output_type": "stream",
     "text": [
      "DEBUG:ATHeaderService:Read 100 history items for RemoteEvent(ATHeaderService, 0, logMessage)\n"
     ]
    },
    {
     "name": "stdout",
     "output_type": "stream",
     "text": [
      "Read 100 history items for RemoteEvent(ATHeaderService, 0, logMessage)\n"
     ]
    },
    {
     "name": "stderr",
     "output_type": "stream",
     "text": [
      "DEBUG:ATHeaderService:Read 1 history items for RemoteEvent(ATHeaderService, 0, simulationMode)\n"
     ]
    },
    {
     "name": "stdout",
     "output_type": "stream",
     "text": [
      "Read 1 history items for RemoteEvent(ATHeaderService, 0, simulationMode)\n"
     ]
    },
    {
     "name": "stderr",
     "output_type": "stream",
     "text": [
      "DEBUG:ATHeaderService:Read 1 history items for RemoteEvent(ATHeaderService, 0, softwareVersions)\n"
     ]
    },
    {
     "name": "stdout",
     "output_type": "stream",
     "text": [
      "Read 1 history items for RemoteEvent(ATHeaderService, 0, softwareVersions)\n"
     ]
    },
    {
     "name": "stderr",
     "output_type": "stream",
     "text": [
      "DEBUG:ATHeaderService:Read 43 history items for RemoteEvent(ATHeaderService, 0, summaryState)\n"
     ]
    },
    {
     "name": "stdout",
     "output_type": "stream",
     "text": [
      "Read 43 history items for RemoteEvent(ATHeaderService, 0, summaryState)\n"
     ]
    },
    {
     "name": "stderr",
     "output_type": "stream",
     "text": [
      "INFO:ATArchiver:Read historical data in 0.26 sec\n"
     ]
    },
    {
     "name": "stdout",
     "output_type": "stream",
     "text": [
      "Read historical data in 0.26 sec\n"
     ]
    },
    {
     "name": "stderr",
     "output_type": "stream",
     "text": [
      "DEBUG:ATArchiver:Read 100 history items for RemoteEvent(ATArchiver, 0, heartbeat)\n"
     ]
    },
    {
     "name": "stdout",
     "output_type": "stream",
     "text": [
      "Read 100 history items for RemoteEvent(ATArchiver, 0, heartbeat)\n"
     ]
    },
    {
     "name": "stderr",
     "output_type": "stream",
     "text": [
      "DEBUG:ATArchiver:Read 100 history items for RemoteEvent(ATArchiver, 0, imageInOODS)\n"
     ]
    },
    {
     "name": "stdout",
     "output_type": "stream",
     "text": [
      "Read 100 history items for RemoteEvent(ATArchiver, 0, imageInOODS)\n"
     ]
    },
    {
     "name": "stderr",
     "output_type": "stream",
     "text": [
      "DEBUG:ATArchiver:Read 100 history items for RemoteEvent(ATArchiver, 0, imageRetrievalForArchiving)\n"
     ]
    },
    {
     "name": "stdout",
     "output_type": "stream",
     "text": [
      "Read 100 history items for RemoteEvent(ATArchiver, 0, imageRetrievalForArchiving)\n"
     ]
    },
    {
     "name": "stderr",
     "output_type": "stream",
     "text": [
      "DEBUG:ATArchiver:Read 10 history items for RemoteEvent(ATArchiver, 0, summaryState)\n"
     ]
    },
    {
     "name": "stdout",
     "output_type": "stream",
     "text": [
      "Read 10 history items for RemoteEvent(ATArchiver, 0, summaryState)\n"
     ]
    },
    {
     "name": "stderr",
     "output_type": "stream",
     "text": [
      "INFO:ATMCS:Read historical data in 0.29 sec\n"
     ]
    },
    {
     "name": "stdout",
     "output_type": "stream",
     "text": [
      "Read historical data in 0.29 sec\n"
     ]
    },
    {
     "name": "stderr",
     "output_type": "stream",
     "text": [
      "DEBUG:ATMCS:Read 100 history items for RemoteEvent(ATMCS, 0, allAxesInPosition)\n"
     ]
    },
    {
     "name": "stdout",
     "output_type": "stream",
     "text": [
      "Read 100 history items for RemoteEvent(ATMCS, 0, allAxesInPosition)\n"
     ]
    },
    {
     "name": "stderr",
     "output_type": "stream",
     "text": [
      "DEBUG:ATMCS:Read 13 history items for RemoteEvent(ATMCS, 0, appliedSettingsMatchStart)\n"
     ]
    },
    {
     "name": "stdout",
     "output_type": "stream",
     "text": [
      "Read 13 history items for RemoteEvent(ATMCS, 0, appliedSettingsMatchStart)\n"
     ]
    },
    {
     "name": "stderr",
     "output_type": "stream",
     "text": [
      "DEBUG:ATMCS:Read 100 history items for RemoteEvent(ATMCS, 0, atMountState)\n"
     ]
    },
    {
     "name": "stdout",
     "output_type": "stream",
     "text": [
      "Read 100 history items for RemoteEvent(ATMCS, 0, atMountState)\n"
     ]
    },
    {
     "name": "stderr",
     "output_type": "stream",
     "text": [
      "DEBUG:ATMCS:Read 28 history items for RemoteEvent(ATMCS, 0, azimuthBrake1)\n"
     ]
    },
    {
     "name": "stdout",
     "output_type": "stream",
     "text": [
      "Read 28 history items for RemoteEvent(ATMCS, 0, azimuthBrake1)\n"
     ]
    },
    {
     "name": "stderr",
     "output_type": "stream",
     "text": [
      "DEBUG:ATMCS:Read 28 history items for RemoteEvent(ATMCS, 0, azimuthBrake2)\n"
     ]
    },
    {
     "name": "stdout",
     "output_type": "stream",
     "text": [
      "Read 28 history items for RemoteEvent(ATMCS, 0, azimuthBrake2)\n"
     ]
    },
    {
     "name": "stderr",
     "output_type": "stream",
     "text": [
      "DEBUG:ATMCS:Read 28 history items for RemoteEvent(ATMCS, 0, azimuthDrive1Status)\n"
     ]
    },
    {
     "name": "stdout",
     "output_type": "stream",
     "text": [
      "Read 28 history items for RemoteEvent(ATMCS, 0, azimuthDrive1Status)\n"
     ]
    },
    {
     "name": "stderr",
     "output_type": "stream",
     "text": [
      "DEBUG:ATMCS:Read 28 history items for RemoteEvent(ATMCS, 0, azimuthDrive2Status)\n"
     ]
    },
    {
     "name": "stdout",
     "output_type": "stream",
     "text": [
      "Read 28 history items for RemoteEvent(ATMCS, 0, azimuthDrive2Status)\n"
     ]
    },
    {
     "name": "stderr",
     "output_type": "stream",
     "text": [
      "DEBUG:ATMCS:Read 100 history items for RemoteEvent(ATMCS, 0, azimuthInPosition)\n"
     ]
    },
    {
     "name": "stdout",
     "output_type": "stream",
     "text": [
      "Read 100 history items for RemoteEvent(ATMCS, 0, azimuthInPosition)\n"
     ]
    },
    {
     "name": "stderr",
     "output_type": "stream",
     "text": [
      "DEBUG:ATMCS:Read 1 history items for RemoteEvent(ATMCS, 0, azimuthLimitSwitchCCW)\n"
     ]
    },
    {
     "name": "stdout",
     "output_type": "stream",
     "text": [
      "Read 1 history items for RemoteEvent(ATMCS, 0, azimuthLimitSwitchCCW)\n"
     ]
    },
    {
     "name": "stderr",
     "output_type": "stream",
     "text": [
      "DEBUG:ATMCS:Read 1 history items for RemoteEvent(ATMCS, 0, azimuthLimitSwitchCW)\n"
     ]
    },
    {
     "name": "stdout",
     "output_type": "stream",
     "text": [
      "Read 1 history items for RemoteEvent(ATMCS, 0, azimuthLimitSwitchCW)\n"
     ]
    },
    {
     "name": "stderr",
     "output_type": "stream",
     "text": [
      "DEBUG:ATMCS:Read 7 history items for RemoteEvent(ATMCS, 0, azimuthToppleBlockCCW)\n"
     ]
    },
    {
     "name": "stdout",
     "output_type": "stream",
     "text": [
      "Read 7 history items for RemoteEvent(ATMCS, 0, azimuthToppleBlockCCW)\n"
     ]
    },
    {
     "name": "stderr",
     "output_type": "stream",
     "text": [
      "DEBUG:ATMCS:Read 8 history items for RemoteEvent(ATMCS, 0, azimuthToppleBlockCW)\n"
     ]
    },
    {
     "name": "stdout",
     "output_type": "stream",
     "text": [
      "Read 8 history items for RemoteEvent(ATMCS, 0, azimuthToppleBlockCW)\n"
     ]
    },
    {
     "name": "stderr",
     "output_type": "stream",
     "text": [
      "DEBUG:ATMCS:Read 27 history items for RemoteEvent(ATMCS, 0, elevationBrake)\n"
     ]
    },
    {
     "name": "stdout",
     "output_type": "stream",
     "text": [
      "Read 27 history items for RemoteEvent(ATMCS, 0, elevationBrake)\n"
     ]
    },
    {
     "name": "stderr",
     "output_type": "stream",
     "text": [
      "DEBUG:ATMCS:Read 27 history items for RemoteEvent(ATMCS, 0, elevationDriveStatus)\n"
     ]
    },
    {
     "name": "stdout",
     "output_type": "stream",
     "text": [
      "Read 27 history items for RemoteEvent(ATMCS, 0, elevationDriveStatus)\n"
     ]
    },
    {
     "name": "stderr",
     "output_type": "stream",
     "text": [
      "DEBUG:ATMCS:Read 100 history items for RemoteEvent(ATMCS, 0, elevationInPosition)\n"
     ]
    },
    {
     "name": "stdout",
     "output_type": "stream",
     "text": [
      "Read 100 history items for RemoteEvent(ATMCS, 0, elevationInPosition)\n"
     ]
    },
    {
     "name": "stderr",
     "output_type": "stream",
     "text": [
      "DEBUG:ATMCS:Read 3 history items for RemoteEvent(ATMCS, 0, elevationLimitSwitchLower)\n"
     ]
    },
    {
     "name": "stdout",
     "output_type": "stream",
     "text": [
      "Read 3 history items for RemoteEvent(ATMCS, 0, elevationLimitSwitchLower)\n"
     ]
    },
    {
     "name": "stderr",
     "output_type": "stream",
     "text": [
      "DEBUG:ATMCS:Read 1 history items for RemoteEvent(ATMCS, 0, elevationLimitSwitchUpper)\n"
     ]
    },
    {
     "name": "stdout",
     "output_type": "stream",
     "text": [
      "Read 1 history items for RemoteEvent(ATMCS, 0, elevationLimitSwitchUpper)\n"
     ]
    },
    {
     "name": "stderr",
     "output_type": "stream",
     "text": [
      "DEBUG:ATMCS:Read 4 history items for RemoteEvent(ATMCS, 0, errorCode)\n"
     ]
    },
    {
     "name": "stdout",
     "output_type": "stream",
     "text": [
      "Read 4 history items for RemoteEvent(ATMCS, 0, errorCode)\n"
     ]
    },
    {
     "name": "stderr",
     "output_type": "stream",
     "text": [
      "DEBUG:ATMCS:Read 100 history items for RemoteEvent(ATMCS, 0, heartbeat)\n"
     ]
    },
    {
     "name": "stdout",
     "output_type": "stream",
     "text": [
      "Read 100 history items for RemoteEvent(ATMCS, 0, heartbeat)\n"
     ]
    },
    {
     "name": "stderr",
     "output_type": "stream",
     "text": [
      "DEBUG:ATMCS:Read 13 history items for RemoteEvent(ATMCS, 0, m3DriveStatus)\n"
     ]
    },
    {
     "name": "stdout",
     "output_type": "stream",
     "text": [
      "Read 13 history items for RemoteEvent(ATMCS, 0, m3DriveStatus)\n"
     ]
    },
    {
     "name": "stderr",
     "output_type": "stream",
     "text": [
      "DEBUG:ATMCS:Read 4 history items for RemoteEvent(ATMCS, 0, m3InPosition)\n"
     ]
    },
    {
     "name": "stdout",
     "output_type": "stream",
     "text": [
      "Read 4 history items for RemoteEvent(ATMCS, 0, m3InPosition)\n"
     ]
    },
    {
     "name": "stderr",
     "output_type": "stream",
     "text": [
      "DEBUG:ATMCS:Read 2 history items for RemoteEvent(ATMCS, 0, m3PortSelected)\n"
     ]
    },
    {
     "name": "stdout",
     "output_type": "stream",
     "text": [
      "Read 2 history items for RemoteEvent(ATMCS, 0, m3PortSelected)\n"
     ]
    },
    {
     "name": "stderr",
     "output_type": "stream",
     "text": [
      "DEBUG:ATMCS:Read 11 history items for RemoteEvent(ATMCS, 0, m3RotatorDetentSwitches)\n"
     ]
    },
    {
     "name": "stdout",
     "output_type": "stream",
     "text": [
      "Read 11 history items for RemoteEvent(ATMCS, 0, m3RotatorDetentSwitches)\n"
     ]
    },
    {
     "name": "stderr",
     "output_type": "stream",
     "text": [
      "DEBUG:ATMCS:Read 3 history items for RemoteEvent(ATMCS, 0, m3RotatorLimitSwitchCCW)\n"
     ]
    },
    {
     "name": "stdout",
     "output_type": "stream",
     "text": [
      "Read 3 history items for RemoteEvent(ATMCS, 0, m3RotatorLimitSwitchCCW)\n"
     ]
    },
    {
     "name": "stderr",
     "output_type": "stream",
     "text": [
      "DEBUG:ATMCS:Read 5 history items for RemoteEvent(ATMCS, 0, m3RotatorLimitSwitchCW)\n"
     ]
    },
    {
     "name": "stdout",
     "output_type": "stream",
     "text": [
      "Read 5 history items for RemoteEvent(ATMCS, 0, m3RotatorLimitSwitchCW)\n"
     ]
    },
    {
     "name": "stderr",
     "output_type": "stream",
     "text": [
      "DEBUG:ATMCS:Read 31 history items for RemoteEvent(ATMCS, 0, m3State)\n"
     ]
    },
    {
     "name": "stdout",
     "output_type": "stream",
     "text": [
      "Read 31 history items for RemoteEvent(ATMCS, 0, m3State)\n"
     ]
    },
    {
     "name": "stderr",
     "output_type": "stream",
     "text": [
      "DEBUG:ATMCS:Read 27 history items for RemoteEvent(ATMCS, 0, nasmyth1Brake)\n"
     ]
    },
    {
     "name": "stdout",
     "output_type": "stream",
     "text": [
      "Read 27 history items for RemoteEvent(ATMCS, 0, nasmyth1Brake)\n"
     ]
    },
    {
     "name": "stderr",
     "output_type": "stream",
     "text": [
      "DEBUG:ATMCS:Read 27 history items for RemoteEvent(ATMCS, 0, nasmyth1DriveStatus)\n"
     ]
    },
    {
     "name": "stdout",
     "output_type": "stream",
     "text": [
      "Read 27 history items for RemoteEvent(ATMCS, 0, nasmyth1DriveStatus)\n"
     ]
    },
    {
     "name": "stderr",
     "output_type": "stream",
     "text": [
      "DEBUG:ATMCS:Read 1 history items for RemoteEvent(ATMCS, 0, nasmyth1LimitSwitchCCW)\n"
     ]
    },
    {
     "name": "stdout",
     "output_type": "stream",
     "text": [
      "Read 1 history items for RemoteEvent(ATMCS, 0, nasmyth1LimitSwitchCCW)\n"
     ]
    },
    {
     "name": "stderr",
     "output_type": "stream",
     "text": [
      "DEBUG:ATMCS:Read 1 history items for RemoteEvent(ATMCS, 0, nasmyth1LimitSwitchCW)\n"
     ]
    },
    {
     "name": "stdout",
     "output_type": "stream",
     "text": [
      "Read 1 history items for RemoteEvent(ATMCS, 0, nasmyth1LimitSwitchCW)\n"
     ]
    },
    {
     "name": "stderr",
     "output_type": "stream",
     "text": [
      "DEBUG:ATMCS:Read 100 history items for RemoteEvent(ATMCS, 0, nasmyth1RotatorInPosition)\n"
     ]
    },
    {
     "name": "stdout",
     "output_type": "stream",
     "text": [
      "Read 100 history items for RemoteEvent(ATMCS, 0, nasmyth1RotatorInPosition)\n"
     ]
    },
    {
     "name": "stderr",
     "output_type": "stream",
     "text": [
      "DEBUG:ATMCS:Read 27 history items for RemoteEvent(ATMCS, 0, nasmyth2Brake)\n"
     ]
    },
    {
     "name": "stdout",
     "output_type": "stream",
     "text": [
      "Read 27 history items for RemoteEvent(ATMCS, 0, nasmyth2Brake)\n"
     ]
    },
    {
     "name": "stderr",
     "output_type": "stream",
     "text": [
      "DEBUG:ATMCS:Read 27 history items for RemoteEvent(ATMCS, 0, nasmyth2DriveStatus)\n"
     ]
    },
    {
     "name": "stdout",
     "output_type": "stream",
     "text": [
      "Read 27 history items for RemoteEvent(ATMCS, 0, nasmyth2DriveStatus)\n"
     ]
    },
    {
     "name": "stderr",
     "output_type": "stream",
     "text": [
      "DEBUG:ATMCS:Read 1 history items for RemoteEvent(ATMCS, 0, nasmyth2LimitSwitchCCW)\n"
     ]
    },
    {
     "name": "stdout",
     "output_type": "stream",
     "text": [
      "Read 1 history items for RemoteEvent(ATMCS, 0, nasmyth2LimitSwitchCCW)\n"
     ]
    },
    {
     "name": "stderr",
     "output_type": "stream",
     "text": [
      "DEBUG:ATMCS:Read 1 history items for RemoteEvent(ATMCS, 0, nasmyth2LimitSwitchCW)\n"
     ]
    },
    {
     "name": "stdout",
     "output_type": "stream",
     "text": [
      "Read 1 history items for RemoteEvent(ATMCS, 0, nasmyth2LimitSwitchCW)\n"
     ]
    },
    {
     "name": "stderr",
     "output_type": "stream",
     "text": [
      "DEBUG:ATMCS:Read 100 history items for RemoteEvent(ATMCS, 0, nasmyth2RotatorInPosition)\n"
     ]
    },
    {
     "name": "stdout",
     "output_type": "stream",
     "text": [
      "Read 100 history items for RemoteEvent(ATMCS, 0, nasmyth2RotatorInPosition)\n"
     ]
    },
    {
     "name": "stderr",
     "output_type": "stream",
     "text": [
      "DEBUG:ATMCS:Read 12 history items for RemoteEvent(ATMCS, 0, positionLimits)\n"
     ]
    },
    {
     "name": "stdout",
     "output_type": "stream",
     "text": [
      "Read 12 history items for RemoteEvent(ATMCS, 0, positionLimits)\n"
     ]
    },
    {
     "name": "stderr",
     "output_type": "stream",
     "text": [
      "DEBUG:ATMCS:Read 13 history items for RemoteEvent(ATMCS, 0, settingVersions)\n"
     ]
    },
    {
     "name": "stdout",
     "output_type": "stream",
     "text": [
      "Read 13 history items for RemoteEvent(ATMCS, 0, settingVersions)\n"
     ]
    },
    {
     "name": "stderr",
     "output_type": "stream",
     "text": [
      "DEBUG:ATMCS:Read 1 history items for RemoteEvent(ATMCS, 0, softwareVersions)\n"
     ]
    },
    {
     "name": "stdout",
     "output_type": "stream",
     "text": [
      "Read 1 history items for RemoteEvent(ATMCS, 0, softwareVersions)\n"
     ]
    },
    {
     "name": "stderr",
     "output_type": "stream",
     "text": [
      "DEBUG:ATMCS:Read 52 history items for RemoteEvent(ATMCS, 0, summaryState)\n"
     ]
    },
    {
     "name": "stdout",
     "output_type": "stream",
     "text": [
      "Read 52 history items for RemoteEvent(ATMCS, 0, summaryState)\n"
     ]
    },
    {
     "name": "stderr",
     "output_type": "stream",
     "text": [
      "DEBUG:ATMCS:Read 100 history items for RemoteEvent(ATMCS, 0, target)\n"
     ]
    },
    {
     "name": "stdout",
     "output_type": "stream",
     "text": [
      "Read 100 history items for RemoteEvent(ATMCS, 0, target)\n"
     ]
    },
    {
     "name": "stderr",
     "output_type": "stream",
     "text": [
      "INFO:ATDomeTrajectory:Read historical data in 0.41 sec\n"
     ]
    },
    {
     "name": "stdout",
     "output_type": "stream",
     "text": [
      "Read historical data in 0.41 sec\n"
     ]
    },
    {
     "name": "stderr",
     "output_type": "stream",
     "text": [
      "DEBUG:ATDomeTrajectory:Read 1 history items for RemoteEvent(ATDomeTrajectory, 0, algorithm)\n"
     ]
    },
    {
     "name": "stdout",
     "output_type": "stream",
     "text": [
      "Read 1 history items for RemoteEvent(ATDomeTrajectory, 0, algorithm)\n"
     ]
    },
    {
     "name": "stderr",
     "output_type": "stream",
     "text": [
      "DEBUG:ATDomeTrajectory:Read 11 history items for RemoteEvent(ATDomeTrajectory, 0, appliedSettingsMatchStart)\n"
     ]
    },
    {
     "name": "stdout",
     "output_type": "stream",
     "text": [
      "Read 11 history items for RemoteEvent(ATDomeTrajectory, 0, appliedSettingsMatchStart)\n"
     ]
    },
    {
     "name": "stderr",
     "output_type": "stream",
     "text": [
      "DEBUG:ATDomeTrajectory:Read 1 history items for RemoteEvent(ATDomeTrajectory, 0, authList)\n"
     ]
    },
    {
     "name": "stdout",
     "output_type": "stream",
     "text": [
      "Read 1 history items for RemoteEvent(ATDomeTrajectory, 0, authList)\n"
     ]
    },
    {
     "name": "stderr",
     "output_type": "stream",
     "text": [
      "DEBUG:ATDomeTrajectory:Read 11 history items for RemoteEvent(ATDomeTrajectory, 0, followingMode)\n"
     ]
    },
    {
     "name": "stdout",
     "output_type": "stream",
     "text": [
      "Read 11 history items for RemoteEvent(ATDomeTrajectory, 0, followingMode)\n"
     ]
    },
    {
     "name": "stderr",
     "output_type": "stream",
     "text": [
      "DEBUG:ATDomeTrajectory:Read 100 history items for RemoteEvent(ATDomeTrajectory, 0, heartbeat)\n"
     ]
    },
    {
     "name": "stdout",
     "output_type": "stream",
     "text": [
      "Read 100 history items for RemoteEvent(ATDomeTrajectory, 0, heartbeat)\n"
     ]
    },
    {
     "name": "stderr",
     "output_type": "stream",
     "text": [
      "DEBUG:ATDomeTrajectory:Read 1 history items for RemoteEvent(ATDomeTrajectory, 0, logLevel)\n"
     ]
    },
    {
     "name": "stdout",
     "output_type": "stream",
     "text": [
      "Read 1 history items for RemoteEvent(ATDomeTrajectory, 0, logLevel)\n"
     ]
    },
    {
     "name": "stderr",
     "output_type": "stream",
     "text": [
      "DEBUG:ATDomeTrajectory:Read 91 history items for RemoteEvent(ATDomeTrajectory, 0, logMessage)\n"
     ]
    },
    {
     "name": "stdout",
     "output_type": "stream",
     "text": [
      "Read 91 history items for RemoteEvent(ATDomeTrajectory, 0, logMessage)\n"
     ]
    },
    {
     "name": "stderr",
     "output_type": "stream",
     "text": [
      "DEBUG:ATDomeTrajectory:Read 1 history items for RemoteEvent(ATDomeTrajectory, 0, settingVersions)\n"
     ]
    },
    {
     "name": "stdout",
     "output_type": "stream",
     "text": [
      "Read 1 history items for RemoteEvent(ATDomeTrajectory, 0, settingVersions)\n"
     ]
    },
    {
     "name": "stderr",
     "output_type": "stream",
     "text": [
      "DEBUG:ATDomeTrajectory:Read 1 history items for RemoteEvent(ATDomeTrajectory, 0, settingsApplied)\n"
     ]
    },
    {
     "name": "stdout",
     "output_type": "stream",
     "text": [
      "Read 1 history items for RemoteEvent(ATDomeTrajectory, 0, settingsApplied)\n"
     ]
    },
    {
     "name": "stderr",
     "output_type": "stream",
     "text": [
      "DEBUG:ATDomeTrajectory:Read 1 history items for RemoteEvent(ATDomeTrajectory, 0, simulationMode)\n"
     ]
    },
    {
     "name": "stdout",
     "output_type": "stream",
     "text": [
      "Read 1 history items for RemoteEvent(ATDomeTrajectory, 0, simulationMode)\n"
     ]
    },
    {
     "name": "stderr",
     "output_type": "stream",
     "text": [
      "DEBUG:ATDomeTrajectory:Read 1 history items for RemoteEvent(ATDomeTrajectory, 0, softwareVersions)\n"
     ]
    },
    {
     "name": "stdout",
     "output_type": "stream",
     "text": [
      "Read 1 history items for RemoteEvent(ATDomeTrajectory, 0, softwareVersions)\n"
     ]
    },
    {
     "name": "stderr",
     "output_type": "stream",
     "text": [
      "DEBUG:ATDomeTrajectory:Read 45 history items for RemoteEvent(ATDomeTrajectory, 0, summaryState)\n"
     ]
    },
    {
     "name": "stdout",
     "output_type": "stream",
     "text": [
      "Read 45 history items for RemoteEvent(ATDomeTrajectory, 0, summaryState)\n"
     ]
    },
    {
     "name": "stderr",
     "output_type": "stream",
     "text": [
      "INFO:ATPtg:Read historical data in 0.45 sec\n"
     ]
    },
    {
     "name": "stdout",
     "output_type": "stream",
     "text": [
      "Read historical data in 0.45 sec\n"
     ]
    },
    {
     "name": "stderr",
     "output_type": "stream",
     "text": [
      "DEBUG:ATPtg:Read 21 history items for RemoteEvent(ATPtg, 0, airmassWarning)\n"
     ]
    },
    {
     "name": "stdout",
     "output_type": "stream",
     "text": [
      "Read 21 history items for RemoteEvent(ATPtg, 0, airmassWarning)\n"
     ]
    },
    {
     "name": "stderr",
     "output_type": "stream",
     "text": [
      "DEBUG:ATPtg:Read 1 history items for RemoteEvent(ATPtg, 0, azWrapWarning)\n"
     ]
    },
    {
     "name": "stdout",
     "output_type": "stream",
     "text": [
      "Read 1 history items for RemoteEvent(ATPtg, 0, azWrapWarning)\n"
     ]
    },
    {
     "name": "stderr",
     "output_type": "stream",
     "text": [
      "DEBUG:ATPtg:Read 16 history items for RemoteEvent(ATPtg, 0, currentDebugLevel)\n"
     ]
    },
    {
     "name": "stdout",
     "output_type": "stream",
     "text": [
      "Read 16 history items for RemoteEvent(ATPtg, 0, currentDebugLevel)\n"
     ]
    },
    {
     "name": "stderr",
     "output_type": "stream",
     "text": [
      "DEBUG:ATPtg:Read 100 history items for RemoteEvent(ATPtg, 0, currentTarget)\n"
     ]
    },
    {
     "name": "stdout",
     "output_type": "stream",
     "text": [
      "Read 100 history items for RemoteEvent(ATPtg, 0, currentTarget)\n"
     ]
    },
    {
     "name": "stderr",
     "output_type": "stream",
     "text": [
      "DEBUG:ATPtg:Read 100 history items for RemoteEvent(ATPtg, 0, detailedState)\n"
     ]
    },
    {
     "name": "stdout",
     "output_type": "stream",
     "text": [
      "Read 100 history items for RemoteEvent(ATPtg, 0, detailedState)\n"
     ]
    },
    {
     "name": "stderr",
     "output_type": "stream",
     "text": [
      "DEBUG:ATPtg:Read 4 history items for RemoteEvent(ATPtg, 0, elLimitWarning)\n"
     ]
    },
    {
     "name": "stdout",
     "output_type": "stream",
     "text": [
      "Read 4 history items for RemoteEvent(ATPtg, 0, elLimitWarning)\n"
     ]
    },
    {
     "name": "stderr",
     "output_type": "stream",
     "text": [
      "DEBUG:ATPtg:Read 19 history items for RemoteEvent(ATPtg, 0, errorCode)\n"
     ]
    },
    {
     "name": "stdout",
     "output_type": "stream",
     "text": [
      "Read 19 history items for RemoteEvent(ATPtg, 0, errorCode)\n"
     ]
    },
    {
     "name": "stderr",
     "output_type": "stream",
     "text": [
      "DEBUG:ATPtg:Read 3 history items for RemoteEvent(ATPtg, 0, focusNameInconsistentWarning)\n"
     ]
    },
    {
     "name": "stdout",
     "output_type": "stream",
     "text": [
      "Read 3 history items for RemoteEvent(ATPtg, 0, focusNameInconsistentWarning)\n"
     ]
    },
    {
     "name": "stderr",
     "output_type": "stream",
     "text": [
      "DEBUG:ATPtg:Read 17 history items for RemoteEvent(ATPtg, 0, focusNameSelected)\n"
     ]
    },
    {
     "name": "stdout",
     "output_type": "stream",
     "text": [
      "Read 17 history items for RemoteEvent(ATPtg, 0, focusNameSelected)\n"
     ]
    },
    {
     "name": "stderr",
     "output_type": "stream",
     "text": [
      "DEBUG:ATPtg:Read 100 history items for RemoteEvent(ATPtg, 0, heartbeat)\n"
     ]
    },
    {
     "name": "stdout",
     "output_type": "stream",
     "text": [
      "Read 100 history items for RemoteEvent(ATPtg, 0, heartbeat)\n"
     ]
    },
    {
     "name": "stderr",
     "output_type": "stream",
     "text": [
      "DEBUG:ATPtg:Read 30 history items for RemoteEvent(ATPtg, 0, iers)\n"
     ]
    },
    {
     "name": "stdout",
     "output_type": "stream",
     "text": [
      "Read 30 history items for RemoteEvent(ATPtg, 0, iers)\n"
     ]
    },
    {
     "name": "stderr",
     "output_type": "stream",
     "text": [
      "DEBUG:ATPtg:Read 3 history items for RemoteEvent(ATPtg, 0, iersOutOfDate)\n"
     ]
    },
    {
     "name": "stdout",
     "output_type": "stream",
     "text": [
      "Read 3 history items for RemoteEvent(ATPtg, 0, iersOutOfDate)\n"
     ]
    },
    {
     "name": "stderr",
     "output_type": "stream",
     "text": [
      "DEBUG:ATPtg:Read 1 history items for RemoteEvent(ATPtg, 0, moonProximityWarning)\n"
     ]
    },
    {
     "name": "stdout",
     "output_type": "stream",
     "text": [
      "Read 1 history items for RemoteEvent(ATPtg, 0, moonProximityWarning)\n"
     ]
    },
    {
     "name": "stderr",
     "output_type": "stream",
     "text": [
      "DEBUG:ATPtg:Read 100 history items for RemoteEvent(ATPtg, 0, mountDataWarning)\n"
     ]
    },
    {
     "name": "stdout",
     "output_type": "stream",
     "text": [
      "Read 100 history items for RemoteEvent(ATPtg, 0, mountDataWarning)\n"
     ]
    },
    {
     "name": "stderr",
     "output_type": "stream",
     "text": [
      "DEBUG:ATPtg:Read 1 history items for RemoteEvent(ATPtg, 0, objectSetWarning)\n"
     ]
    },
    {
     "name": "stdout",
     "output_type": "stream",
     "text": [
      "Read 1 history items for RemoteEvent(ATPtg, 0, objectSetWarning)\n"
     ]
    },
    {
     "name": "stderr",
     "output_type": "stream",
     "text": [
      "DEBUG:ATPtg:Read 100 history items for RemoteEvent(ATPtg, 0, offsetSummary)\n"
     ]
    },
    {
     "name": "stdout",
     "output_type": "stream",
     "text": [
      "Read 100 history items for RemoteEvent(ATPtg, 0, offsetSummary)\n"
     ]
    },
    {
     "name": "stderr",
     "output_type": "stream",
     "text": [
      "DEBUG:ATPtg:Read 24 history items for RemoteEvent(ATPtg, 0, pointData)\n"
     ]
    },
    {
     "name": "stdout",
     "output_type": "stream",
     "text": [
      "Read 24 history items for RemoteEvent(ATPtg, 0, pointData)\n"
     ]
    },
    {
     "name": "stderr",
     "output_type": "stream",
     "text": [
      "DEBUG:ATPtg:Read 6 history items for RemoteEvent(ATPtg, 0, pointingFile)\n"
     ]
    },
    {
     "name": "stdout",
     "output_type": "stream",
     "text": [
      "Read 6 history items for RemoteEvent(ATPtg, 0, pointingFile)\n"
     ]
    },
    {
     "name": "stderr",
     "output_type": "stream",
     "text": [
      "DEBUG:ATPtg:Read 15 history items for RemoteEvent(ATPtg, 0, pointingModel)\n"
     ]
    },
    {
     "name": "stdout",
     "output_type": "stream",
     "text": [
      "Read 15 history items for RemoteEvent(ATPtg, 0, pointingModel)\n"
     ]
    },
    {
     "name": "stderr",
     "output_type": "stream",
     "text": [
      "DEBUG:ATPtg:Read 19 history items for RemoteEvent(ATPtg, 0, ptgAzCurrentWrap)\n"
     ]
    },
    {
     "name": "stdout",
     "output_type": "stream",
     "text": [
      "Read 19 history items for RemoteEvent(ATPtg, 0, ptgAzCurrentWrap)\n"
     ]
    },
    {
     "name": "stderr",
     "output_type": "stream",
     "text": [
      "DEBUG:ATPtg:Read 1 history items for RemoteEvent(ATPtg, 0, ptgRotCurrentWrap)\n"
     ]
    },
    {
     "name": "stdout",
     "output_type": "stream",
     "text": [
      "Read 1 history items for RemoteEvent(ATPtg, 0, ptgRotCurrentWrap)\n"
     ]
    },
    {
     "name": "stderr",
     "output_type": "stream",
     "text": [
      "DEBUG:ATPtg:Read 3 history items for RemoteEvent(ATPtg, 0, rotWrapWarning)\n"
     ]
    },
    {
     "name": "stdout",
     "output_type": "stream",
     "text": [
      "Read 3 history items for RemoteEvent(ATPtg, 0, rotWrapWarning)\n"
     ]
    },
    {
     "name": "stderr",
     "output_type": "stream",
     "text": [
      "DEBUG:ATPtg:Read 61 history items for RemoteEvent(ATPtg, 0, summaryState)\n"
     ]
    },
    {
     "name": "stdout",
     "output_type": "stream",
     "text": [
      "Read 61 history items for RemoteEvent(ATPtg, 0, summaryState)\n"
     ]
    },
    {
     "name": "stderr",
     "output_type": "stream",
     "text": [
      "DEBUG:ATPtg:Read 3 history items for RemoteEvent(ATPtg, 0, sunProximityWarning)\n"
     ]
    },
    {
     "name": "stdout",
     "output_type": "stream",
     "text": [
      "Read 3 history items for RemoteEvent(ATPtg, 0, sunProximityWarning)\n"
     ]
    },
    {
     "name": "stderr",
     "output_type": "stream",
     "text": [
      "DEBUG:ATPtg:Read 100 history items for RemoteEvent(ATPtg, 0, timesOfLimits)\n"
     ]
    },
    {
     "name": "stdout",
     "output_type": "stream",
     "text": [
      "Read 100 history items for RemoteEvent(ATPtg, 0, timesOfLimits)\n"
     ]
    },
    {
     "name": "stderr",
     "output_type": "stream",
     "text": [
      "DEBUG:ATPtg:Read 100 history items for RemoteEvent(ATPtg, 0, trackPosting)\n"
     ]
    },
    {
     "name": "stdout",
     "output_type": "stream",
     "text": [
      "Read 100 history items for RemoteEvent(ATPtg, 0, trackPosting)\n"
     ]
    },
    {
     "name": "stderr",
     "output_type": "stream",
     "text": [
      "DEBUG:ATPtg:Read 15 history items for RemoteEvent(ATPtg, 0, wavelength)\n"
     ]
    },
    {
     "name": "stdout",
     "output_type": "stream",
     "text": [
      "Read 15 history items for RemoteEvent(ATPtg, 0, wavelength)\n"
     ]
    },
    {
     "name": "stderr",
     "output_type": "stream",
     "text": [
      "DEBUG:ATPtg:Read 100 history items for RemoteEvent(ATPtg, 0, weatherDataApplied)\n"
     ]
    },
    {
     "name": "stdout",
     "output_type": "stream",
     "text": [
      "Read 100 history items for RemoteEvent(ATPtg, 0, weatherDataApplied)\n"
     ]
    },
    {
     "name": "stderr",
     "output_type": "stream",
     "text": [
      "DEBUG:ATPtg:Read 100 history items for RemoteEvent(ATPtg, 0, weatherDataInvalid)\n"
     ]
    },
    {
     "name": "stdout",
     "output_type": "stream",
     "text": [
      "Read 100 history items for RemoteEvent(ATPtg, 0, weatherDataInvalid)\n"
     ]
    },
    {
     "name": "stderr",
     "output_type": "stream",
     "text": [
      "INFO:ATDome:Read historical data in 0.55 sec\n"
     ]
    },
    {
     "name": "stdout",
     "output_type": "stream",
     "text": [
      "Read historical data in 0.55 sec\n"
     ]
    },
    {
     "name": "stderr",
     "output_type": "stream",
     "text": [
      "DEBUG:ATDome:Read 100 history items for RemoteEvent(ATDome, 0, allAxesInPosition)\n"
     ]
    },
    {
     "name": "stdout",
     "output_type": "stream",
     "text": [
      "Read 100 history items for RemoteEvent(ATDome, 0, allAxesInPosition)\n"
     ]
    },
    {
     "name": "stderr",
     "output_type": "stream",
     "text": [
      "DEBUG:ATDome:Read 11 history items for RemoteEvent(ATDome, 0, appliedSettingsMatchStart)\n"
     ]
    },
    {
     "name": "stdout",
     "output_type": "stream",
     "text": [
      "Read 11 history items for RemoteEvent(ATDome, 0, appliedSettingsMatchStart)\n"
     ]
    },
    {
     "name": "stderr",
     "output_type": "stream",
     "text": [
      "DEBUG:ATDome:Read 1 history items for RemoteEvent(ATDome, 0, authList)\n"
     ]
    },
    {
     "name": "stdout",
     "output_type": "stream",
     "text": [
      "Read 1 history items for RemoteEvent(ATDome, 0, authList)\n"
     ]
    },
    {
     "name": "stderr",
     "output_type": "stream",
     "text": [
      "DEBUG:ATDome:Read 90 history items for RemoteEvent(ATDome, 0, azimuthCommandedState)\n"
     ]
    },
    {
     "name": "stdout",
     "output_type": "stream",
     "text": [
      "Read 90 history items for RemoteEvent(ATDome, 0, azimuthCommandedState)\n"
     ]
    },
    {
     "name": "stderr",
     "output_type": "stream",
     "text": [
      "DEBUG:ATDome:Read 100 history items for RemoteEvent(ATDome, 0, azimuthInPosition)\n"
     ]
    },
    {
     "name": "stdout",
     "output_type": "stream",
     "text": [
      "Read 100 history items for RemoteEvent(ATDome, 0, azimuthInPosition)\n"
     ]
    },
    {
     "name": "stderr",
     "output_type": "stream",
     "text": [
      "DEBUG:ATDome:Read 100 history items for RemoteEvent(ATDome, 0, azimuthState)\n"
     ]
    },
    {
     "name": "stdout",
     "output_type": "stream",
     "text": [
      "Read 100 history items for RemoteEvent(ATDome, 0, azimuthState)\n"
     ]
    },
    {
     "name": "stderr",
     "output_type": "stream",
     "text": [
      "DEBUG:ATDome:Read 100 history items for RemoteEvent(ATDome, 0, doorEncoderExtremes)\n"
     ]
    },
    {
     "name": "stdout",
     "output_type": "stream",
     "text": [
      "Read 100 history items for RemoteEvent(ATDome, 0, doorEncoderExtremes)\n"
     ]
    },
    {
     "name": "stderr",
     "output_type": "stream",
     "text": [
      "DEBUG:ATDome:Read 15 history items for RemoteEvent(ATDome, 0, dropoutDoorCommandedState)\n"
     ]
    },
    {
     "name": "stdout",
     "output_type": "stream",
     "text": [
      "Read 15 history items for RemoteEvent(ATDome, 0, dropoutDoorCommandedState)\n"
     ]
    },
    {
     "name": "stderr",
     "output_type": "stream",
     "text": [
      "DEBUG:ATDome:Read 100 history items for RemoteEvent(ATDome, 0, dropoutDoorState)\n"
     ]
    },
    {
     "name": "stdout",
     "output_type": "stream",
     "text": [
      "Read 100 history items for RemoteEvent(ATDome, 0, dropoutDoorState)\n"
     ]
    },
    {
     "name": "stderr",
     "output_type": "stream",
     "text": [
      "DEBUG:ATDome:Read 1 history items for RemoteEvent(ATDome, 0, emergencyStop)\n"
     ]
    },
    {
     "name": "stdout",
     "output_type": "stream",
     "text": [
      "Read 1 history items for RemoteEvent(ATDome, 0, emergencyStop)\n"
     ]
    },
    {
     "name": "stderr",
     "output_type": "stream",
     "text": [
      "DEBUG:ATDome:Read 100 history items for RemoteEvent(ATDome, 0, heartbeat)\n"
     ]
    },
    {
     "name": "stdout",
     "output_type": "stream",
     "text": [
      "Read 100 history items for RemoteEvent(ATDome, 0, heartbeat)\n"
     ]
    },
    {
     "name": "stderr",
     "output_type": "stream",
     "text": [
      "DEBUG:ATDome:Read 75 history items for RemoteEvent(ATDome, 0, lastAzimuthGoTo)\n"
     ]
    },
    {
     "name": "stdout",
     "output_type": "stream",
     "text": [
      "Read 75 history items for RemoteEvent(ATDome, 0, lastAzimuthGoTo)\n"
     ]
    },
    {
     "name": "stderr",
     "output_type": "stream",
     "text": [
      "DEBUG:ATDome:Read 1 history items for RemoteEvent(ATDome, 0, logLevel)\n"
     ]
    },
    {
     "name": "stdout",
     "output_type": "stream",
     "text": [
      "Read 1 history items for RemoteEvent(ATDome, 0, logLevel)\n"
     ]
    },
    {
     "name": "stderr",
     "output_type": "stream",
     "text": [
      "DEBUG:ATDome:Read 28 history items for RemoteEvent(ATDome, 0, logMessage)\n"
     ]
    },
    {
     "name": "stdout",
     "output_type": "stream",
     "text": [
      "Read 28 history items for RemoteEvent(ATDome, 0, logMessage)\n"
     ]
    },
    {
     "name": "stderr",
     "output_type": "stream",
     "text": [
      "DEBUG:ATDome:Read 16 history items for RemoteEvent(ATDome, 0, mainDoorCommandedState)\n"
     ]
    },
    {
     "name": "stdout",
     "output_type": "stream",
     "text": [
      "Read 16 history items for RemoteEvent(ATDome, 0, mainDoorCommandedState)\n"
     ]
    },
    {
     "name": "stderr",
     "output_type": "stream",
     "text": [
      "DEBUG:ATDome:Read 11 history items for RemoteEvent(ATDome, 0, mainDoorState)\n"
     ]
    },
    {
     "name": "stdout",
     "output_type": "stream",
     "text": [
      "Read 11 history items for RemoteEvent(ATDome, 0, mainDoorState)\n"
     ]
    },
    {
     "name": "stderr",
     "output_type": "stream",
     "text": [
      "DEBUG:ATDome:Read 100 history items for RemoteEvent(ATDome, 0, moveCode)\n"
     ]
    },
    {
     "name": "stdout",
     "output_type": "stream",
     "text": [
      "Read 100 history items for RemoteEvent(ATDome, 0, moveCode)\n"
     ]
    },
    {
     "name": "stderr",
     "output_type": "stream",
     "text": [
      "DEBUG:ATDome:Read 26 history items for RemoteEvent(ATDome, 0, scbLink)\n"
     ]
    },
    {
     "name": "stdout",
     "output_type": "stream",
     "text": [
      "Read 26 history items for RemoteEvent(ATDome, 0, scbLink)\n"
     ]
    },
    {
     "name": "stderr",
     "output_type": "stream",
     "text": [
      "DEBUG:ATDome:Read 1 history items for RemoteEvent(ATDome, 0, settingVersions)\n"
     ]
    },
    {
     "name": "stdout",
     "output_type": "stream",
     "text": [
      "Read 1 history items for RemoteEvent(ATDome, 0, settingVersions)\n"
     ]
    },
    {
     "name": "stderr",
     "output_type": "stream",
     "text": [
      "DEBUG:ATDome:Read 1 history items for RemoteEvent(ATDome, 0, settingsApplied)\n"
     ]
    },
    {
     "name": "stdout",
     "output_type": "stream",
     "text": [
      "Read 1 history items for RemoteEvent(ATDome, 0, settingsApplied)\n"
     ]
    },
    {
     "name": "stderr",
     "output_type": "stream",
     "text": [
      "DEBUG:ATDome:Read 28 history items for RemoteEvent(ATDome, 0, settingsAppliedDomeController)\n"
     ]
    },
    {
     "name": "stdout",
     "output_type": "stream",
     "text": [
      "Read 28 history items for RemoteEvent(ATDome, 0, settingsAppliedDomeController)\n"
     ]
    },
    {
     "name": "stderr",
     "output_type": "stream",
     "text": [
      "DEBUG:ATDome:Read 11 history items for RemoteEvent(ATDome, 0, settingsAppliedDomeTcp)\n"
     ]
    },
    {
     "name": "stdout",
     "output_type": "stream",
     "text": [
      "Read 11 history items for RemoteEvent(ATDome, 0, settingsAppliedDomeTcp)\n"
     ]
    },
    {
     "name": "stderr",
     "output_type": "stream",
     "text": [
      "DEBUG:ATDome:Read 100 history items for RemoteEvent(ATDome, 0, shutterInPosition)\n"
     ]
    },
    {
     "name": "stdout",
     "output_type": "stream",
     "text": [
      "Read 100 history items for RemoteEvent(ATDome, 0, shutterInPosition)\n"
     ]
    },
    {
     "name": "stderr",
     "output_type": "stream",
     "text": [
      "DEBUG:ATDome:Read 1 history items for RemoteEvent(ATDome, 0, simulationMode)\n"
     ]
    },
    {
     "name": "stdout",
     "output_type": "stream",
     "text": [
      "Read 1 history items for RemoteEvent(ATDome, 0, simulationMode)\n"
     ]
    },
    {
     "name": "stderr",
     "output_type": "stream",
     "text": [
      "DEBUG:ATDome:Read 1 history items for RemoteEvent(ATDome, 0, softwareVersions)\n"
     ]
    },
    {
     "name": "stdout",
     "output_type": "stream",
     "text": [
      "Read 1 history items for RemoteEvent(ATDome, 0, softwareVersions)\n"
     ]
    },
    {
     "name": "stderr",
     "output_type": "stream",
     "text": [
      "DEBUG:ATDome:Read 45 history items for RemoteEvent(ATDome, 0, summaryState)\n"
     ]
    },
    {
     "name": "stdout",
     "output_type": "stream",
     "text": [
      "Read 45 history items for RemoteEvent(ATDome, 0, summaryState)\n"
     ]
    },
    {
     "name": "stderr",
     "output_type": "stream",
     "text": [
      "INFO:ATSpectrograph:Read historical data in 0.61 sec\n"
     ]
    },
    {
     "name": "stdout",
     "output_type": "stream",
     "text": [
      "Read historical data in 0.61 sec\n"
     ]
    },
    {
     "name": "stderr",
     "output_type": "stream",
     "text": [
      "DEBUG:ATSpectrograph:Read 11 history items for RemoteEvent(ATSpectrograph, 0, appliedSettingsMatchStart)\n"
     ]
    },
    {
     "name": "stdout",
     "output_type": "stream",
     "text": [
      "Read 11 history items for RemoteEvent(ATSpectrograph, 0, appliedSettingsMatchStart)\n"
     ]
    },
    {
     "name": "stderr",
     "output_type": "stream",
     "text": [
      "DEBUG:ATSpectrograph:Read 1 history items for RemoteEvent(ATSpectrograph, 0, authList)\n"
     ]
    },
    {
     "name": "stdout",
     "output_type": "stream",
     "text": [
      "Read 1 history items for RemoteEvent(ATSpectrograph, 0, authList)\n"
     ]
    },
    {
     "name": "stderr",
     "output_type": "stream",
     "text": [
      "DEBUG:ATSpectrograph:Read 100 history items for RemoteEvent(ATSpectrograph, 0, disperserInPosition)\n"
     ]
    },
    {
     "name": "stdout",
     "output_type": "stream",
     "text": [
      "Read 100 history items for RemoteEvent(ATSpectrograph, 0, disperserInPosition)\n"
     ]
    },
    {
     "name": "stderr",
     "output_type": "stream",
     "text": [
      "DEBUG:ATSpectrograph:Read 100 history items for RemoteEvent(ATSpectrograph, 0, filterInPosition)\n"
     ]
    },
    {
     "name": "stdout",
     "output_type": "stream",
     "text": [
      "Read 100 history items for RemoteEvent(ATSpectrograph, 0, filterInPosition)\n"
     ]
    },
    {
     "name": "stderr",
     "output_type": "stream",
     "text": [
      "DEBUG:ATSpectrograph:Read 100 history items for RemoteEvent(ATSpectrograph, 0, fwState)\n"
     ]
    },
    {
     "name": "stdout",
     "output_type": "stream",
     "text": [
      "Read 100 history items for RemoteEvent(ATSpectrograph, 0, fwState)\n"
     ]
    },
    {
     "name": "stderr",
     "output_type": "stream",
     "text": [
      "DEBUG:ATSpectrograph:Read 100 history items for RemoteEvent(ATSpectrograph, 0, gwState)\n"
     ]
    },
    {
     "name": "stdout",
     "output_type": "stream",
     "text": [
      "Read 100 history items for RemoteEvent(ATSpectrograph, 0, gwState)\n"
     ]
    },
    {
     "name": "stderr",
     "output_type": "stream",
     "text": [
      "DEBUG:ATSpectrograph:Read 100 history items for RemoteEvent(ATSpectrograph, 0, heartbeat)\n"
     ]
    },
    {
     "name": "stdout",
     "output_type": "stream",
     "text": [
      "Read 100 history items for RemoteEvent(ATSpectrograph, 0, heartbeat)\n"
     ]
    },
    {
     "name": "stderr",
     "output_type": "stream",
     "text": [
      "DEBUG:ATSpectrograph:Read 1 history items for RemoteEvent(ATSpectrograph, 0, logLevel)\n"
     ]
    },
    {
     "name": "stdout",
     "output_type": "stream",
     "text": [
      "Read 1 history items for RemoteEvent(ATSpectrograph, 0, logLevel)\n"
     ]
    },
    {
     "name": "stderr",
     "output_type": "stream",
     "text": [
      "DEBUG:ATSpectrograph:Read 1 history items for RemoteEvent(ATSpectrograph, 0, logMessage)\n"
     ]
    },
    {
     "name": "stdout",
     "output_type": "stream",
     "text": [
      "Read 1 history items for RemoteEvent(ATSpectrograph, 0, logMessage)\n"
     ]
    },
    {
     "name": "stderr",
     "output_type": "stream",
     "text": [
      "DEBUG:ATSpectrograph:Read 11 history items for RemoteEvent(ATSpectrograph, 0, lsState)\n"
     ]
    },
    {
     "name": "stdout",
     "output_type": "stream",
     "text": [
      "Read 11 history items for RemoteEvent(ATSpectrograph, 0, lsState)\n"
     ]
    },
    {
     "name": "stderr",
     "output_type": "stream",
     "text": [
      "DEBUG:ATSpectrograph:Read 100 history items for RemoteEvent(ATSpectrograph, 0, reportedDisperserPosition)\n"
     ]
    },
    {
     "name": "stdout",
     "output_type": "stream",
     "text": [
      "Read 100 history items for RemoteEvent(ATSpectrograph, 0, reportedDisperserPosition)\n"
     ]
    },
    {
     "name": "stderr",
     "output_type": "stream",
     "text": [
      "DEBUG:ATSpectrograph:Read 100 history items for RemoteEvent(ATSpectrograph, 0, reportedFilterPosition)\n"
     ]
    },
    {
     "name": "stdout",
     "output_type": "stream",
     "text": [
      "Read 100 history items for RemoteEvent(ATSpectrograph, 0, reportedFilterPosition)\n"
     ]
    },
    {
     "name": "stderr",
     "output_type": "stream",
     "text": [
      "DEBUG:ATSpectrograph:Read 1 history items for RemoteEvent(ATSpectrograph, 0, reportedLinearStagePosition)\n"
     ]
    },
    {
     "name": "stdout",
     "output_type": "stream",
     "text": [
      "Read 1 history items for RemoteEvent(ATSpectrograph, 0, reportedLinearStagePosition)\n"
     ]
    },
    {
     "name": "stderr",
     "output_type": "stream",
     "text": [
      "DEBUG:ATSpectrograph:Read 4 history items for RemoteEvent(ATSpectrograph, 0, settingVersions)\n"
     ]
    },
    {
     "name": "stdout",
     "output_type": "stream",
     "text": [
      "Read 4 history items for RemoteEvent(ATSpectrograph, 0, settingVersions)\n"
     ]
    },
    {
     "name": "stderr",
     "output_type": "stream",
     "text": [
      "DEBUG:ATSpectrograph:Read 3 history items for RemoteEvent(ATSpectrograph, 0, settingsApplied)\n"
     ]
    },
    {
     "name": "stdout",
     "output_type": "stream",
     "text": [
      "Read 3 history items for RemoteEvent(ATSpectrograph, 0, settingsApplied)\n"
     ]
    },
    {
     "name": "stderr",
     "output_type": "stream",
     "text": [
      "DEBUG:ATSpectrograph:Read 3 history items for RemoteEvent(ATSpectrograph, 0, settingsAppliedValues)\n"
     ]
    },
    {
     "name": "stdout",
     "output_type": "stream",
     "text": [
      "Read 3 history items for RemoteEvent(ATSpectrograph, 0, settingsAppliedValues)\n"
     ]
    },
    {
     "name": "stderr",
     "output_type": "stream",
     "text": [
      "DEBUG:ATSpectrograph:Read 1 history items for RemoteEvent(ATSpectrograph, 0, simulationMode)\n"
     ]
    },
    {
     "name": "stdout",
     "output_type": "stream",
     "text": [
      "Read 1 history items for RemoteEvent(ATSpectrograph, 0, simulationMode)\n"
     ]
    },
    {
     "name": "stderr",
     "output_type": "stream",
     "text": [
      "DEBUG:ATSpectrograph:Read 1 history items for RemoteEvent(ATSpectrograph, 0, softwareVersions)\n"
     ]
    },
    {
     "name": "stdout",
     "output_type": "stream",
     "text": [
      "Read 1 history items for RemoteEvent(ATSpectrograph, 0, softwareVersions)\n"
     ]
    },
    {
     "name": "stderr",
     "output_type": "stream",
     "text": [
      "DEBUG:ATSpectrograph:Read 43 history items for RemoteEvent(ATSpectrograph, 0, summaryState)\n"
     ]
    },
    {
     "name": "stdout",
     "output_type": "stream",
     "text": [
      "Read 43 history items for RemoteEvent(ATSpectrograph, 0, summaryState)\n"
     ]
    },
    {
     "name": "stderr",
     "output_type": "stream",
     "text": [
      "INFO:ATCamera:Read historical data in 0.67 sec\n"
     ]
    },
    {
     "name": "stdout",
     "output_type": "stream",
     "text": [
      "Read historical data in 0.67 sec\n"
     ]
    },
    {
     "name": "stderr",
     "output_type": "stream",
     "text": [
      "DEBUG:ATCamera:Read 3 history items for RemoteEvent(ATCamera, 0, appliedSettingsMatchStart)\n"
     ]
    },
    {
     "name": "stdout",
     "output_type": "stream",
     "text": [
      "Read 3 history items for RemoteEvent(ATCamera, 0, appliedSettingsMatchStart)\n"
     ]
    },
    {
     "name": "stderr",
     "output_type": "stream",
     "text": [
      "DEBUG:ATCamera:Read 24 history items for RemoteEvent(ATCamera, 0, calibrationDetailedState)\n"
     ]
    },
    {
     "name": "stdout",
     "output_type": "stream",
     "text": [
      "Read 24 history items for RemoteEvent(ATCamera, 0, calibrationDetailedState)\n"
     ]
    },
    {
     "name": "stderr",
     "output_type": "stream",
     "text": [
      "DEBUG:ATCamera:Read 100 history items for RemoteEvent(ATCamera, 0, ccsCommandState)\n"
     ]
    },
    {
     "name": "stdout",
     "output_type": "stream",
     "text": [
      "Read 100 history items for RemoteEvent(ATCamera, 0, ccsCommandState)\n"
     ]
    },
    {
     "name": "stderr",
     "output_type": "stream",
     "text": [
      "DEBUG:ATCamera:Read 100 history items for RemoteEvent(ATCamera, 0, endOfImageTelemetry)\n"
     ]
    },
    {
     "name": "stdout",
     "output_type": "stream",
     "text": [
      "Read 100 history items for RemoteEvent(ATCamera, 0, endOfImageTelemetry)\n"
     ]
    },
    {
     "name": "stderr",
     "output_type": "stream",
     "text": [
      "DEBUG:ATCamera:Read 100 history items for RemoteEvent(ATCamera, 0, endReadout)\n"
     ]
    },
    {
     "name": "stdout",
     "output_type": "stream",
     "text": [
      "Read 100 history items for RemoteEvent(ATCamera, 0, endReadout)\n"
     ]
    },
    {
     "name": "stderr",
     "output_type": "stream",
     "text": [
      "DEBUG:ATCamera:Read 100 history items for RemoteEvent(ATCamera, 0, endShutterClose)\n"
     ]
    },
    {
     "name": "stdout",
     "output_type": "stream",
     "text": [
      "Read 100 history items for RemoteEvent(ATCamera, 0, endShutterClose)\n"
     ]
    },
    {
     "name": "stderr",
     "output_type": "stream",
     "text": [
      "DEBUG:ATCamera:Read 100 history items for RemoteEvent(ATCamera, 0, endShutterOpen)\n"
     ]
    },
    {
     "name": "stdout",
     "output_type": "stream",
     "text": [
      "Read 100 history items for RemoteEvent(ATCamera, 0, endShutterOpen)\n"
     ]
    },
    {
     "name": "stderr",
     "output_type": "stream",
     "text": [
      "DEBUG:ATCamera:Read 3 history items for RemoteEvent(ATCamera, 0, focalPlaneHardwareIdSettingsApplied)\n"
     ]
    },
    {
     "name": "stdout",
     "output_type": "stream",
     "text": [
      "Read 3 history items for RemoteEvent(ATCamera, 0, focalPlaneHardwareIdSettingsApplied)\n"
     ]
    },
    {
     "name": "stderr",
     "output_type": "stream",
     "text": [
      "DEBUG:ATCamera:Read 3 history items for RemoteEvent(ATCamera, 0, focalPlaneSummaryInfo)\n"
     ]
    },
    {
     "name": "stdout",
     "output_type": "stream",
     "text": [
      "Read 3 history items for RemoteEvent(ATCamera, 0, focalPlaneSummaryInfo)\n"
     ]
    },
    {
     "name": "stderr",
     "output_type": "stream",
     "text": [
      "DEBUG:ATCamera:Read 100 history items for RemoteEvent(ATCamera, 0, heartbeat)\n"
     ]
    },
    {
     "name": "stdout",
     "output_type": "stream",
     "text": [
      "Read 100 history items for RemoteEvent(ATCamera, 0, heartbeat)\n"
     ]
    },
    {
     "name": "stderr",
     "output_type": "stream",
     "text": [
      "DEBUG:ATCamera:Read 100 history items for RemoteEvent(ATCamera, 0, imageReadinessDetailedState)\n"
     ]
    },
    {
     "name": "stdout",
     "output_type": "stream",
     "text": [
      "Read 100 history items for RemoteEvent(ATCamera, 0, imageReadinessDetailedState)\n"
     ]
    },
    {
     "name": "stderr",
     "output_type": "stream",
     "text": [
      "DEBUG:ATCamera:Read 100 history items for RemoteEvent(ATCamera, 0, imageReadoutParameters)\n"
     ]
    },
    {
     "name": "stdout",
     "output_type": "stream",
     "text": [
      "Read 100 history items for RemoteEvent(ATCamera, 0, imageReadoutParameters)\n"
     ]
    },
    {
     "name": "stderr",
     "output_type": "stream",
     "text": [
      "DEBUG:ATCamera:Read 100 history items for RemoteEvent(ATCamera, 0, raftsDetailedState)\n"
     ]
    },
    {
     "name": "stdout",
     "output_type": "stream",
     "text": [
      "Read 100 history items for RemoteEvent(ATCamera, 0, raftsDetailedState)\n"
     ]
    },
    {
     "name": "stderr",
     "output_type": "stream",
     "text": [
      "DEBUG:ATCamera:Read 2 history items for RemoteEvent(ATCamera, 0, settingVersions)\n"
     ]
    },
    {
     "name": "stdout",
     "output_type": "stream",
     "text": [
      "Read 2 history items for RemoteEvent(ATCamera, 0, settingVersions)\n"
     ]
    },
    {
     "name": "stderr",
     "output_type": "stream",
     "text": [
      "DEBUG:ATCamera:Read 100 history items for RemoteEvent(ATCamera, 0, shutterDetailedState)\n"
     ]
    },
    {
     "name": "stdout",
     "output_type": "stream",
     "text": [
      "Read 100 history items for RemoteEvent(ATCamera, 0, shutterDetailedState)\n"
     ]
    },
    {
     "name": "stderr",
     "output_type": "stream",
     "text": [
      "DEBUG:ATCamera:Read 100 history items for RemoteEvent(ATCamera, 0, shutterMotionProfile)\n"
     ]
    },
    {
     "name": "stdout",
     "output_type": "stream",
     "text": [
      "Read 100 history items for RemoteEvent(ATCamera, 0, shutterMotionProfile)\n"
     ]
    },
    {
     "name": "stderr",
     "output_type": "stream",
     "text": [
      "DEBUG:ATCamera:Read 100 history items for RemoteEvent(ATCamera, 0, startIntegration)\n"
     ]
    },
    {
     "name": "stdout",
     "output_type": "stream",
     "text": [
      "Read 100 history items for RemoteEvent(ATCamera, 0, startIntegration)\n"
     ]
    },
    {
     "name": "stderr",
     "output_type": "stream",
     "text": [
      "DEBUG:ATCamera:Read 100 history items for RemoteEvent(ATCamera, 0, startReadout)\n"
     ]
    },
    {
     "name": "stdout",
     "output_type": "stream",
     "text": [
      "Read 100 history items for RemoteEvent(ATCamera, 0, startReadout)\n"
     ]
    },
    {
     "name": "stderr",
     "output_type": "stream",
     "text": [
      "DEBUG:ATCamera:Read 10 history items for RemoteEvent(ATCamera, 0, summaryState)\n"
     ]
    },
    {
     "name": "stdout",
     "output_type": "stream",
     "text": [
      "Read 10 history items for RemoteEvent(ATCamera, 0, summaryState)\n"
     ]
    },
    {
     "name": "stderr",
     "output_type": "stream",
     "text": [
      "ERROR:ATPtg.timeAndDate:timeAndDate DDS read queue is full (100 elements); data may be lost\n"
     ]
    },
    {
     "data": {
      "text/plain": [
       "[[None, None, None, None, None, None, None], [None, None, None, None]]"
      ]
     },
     "execution_count": 4,
     "metadata": {},
     "output_type": "execute_result"
    },
    {
     "name": "stdout",
     "output_type": "stream",
     "text": [
      "timeAndDate DDS read queue is full (100 elements); data may be lost\n"
     ]
    },
    {
     "name": "stderr",
     "output_type": "stream",
     "text": [
      "WARNING:ATPtg.mountPositions:mountPositions DDS read queue is filling: 26 of 100 elements\n"
     ]
    },
    {
     "name": "stdout",
     "output_type": "stream",
     "text": [
      "mountPositions DDS read queue is filling: 26 of 100 elements\n"
     ]
    }
   ],
   "source": [
    "#get classes and start them\n",
    "domain = salobj.Domain()\n",
    "\n",
    "atcs = ATCS(domain)\n",
    "latiss = LATISS(domain)\n",
    "await asyncio.gather(atcs.start_task, latiss.start_task)"
   ]
  },
  {
   "cell_type": "code",
   "execution_count": 27,
   "metadata": {},
   "outputs": [
    {
     "name": "stderr",
     "output_type": "stream",
     "text": [
      "INFO:ATCS:Enabling all components\n"
     ]
    },
    {
     "name": "stdout",
     "output_type": "stream",
     "text": [
      "Enabling all components\n"
     ]
    },
    {
     "name": "stderr",
     "output_type": "stream",
     "text": [
      "DEBUG:ATCS:Gathering settings.\n"
     ]
    },
    {
     "name": "stdout",
     "output_type": "stream",
     "text": [
      "Gathering settings.\n"
     ]
    },
    {
     "name": "stderr",
     "output_type": "stream",
     "text": [
      "INFO:ATCS:atdome check is disabled, skipping.\n"
     ]
    },
    {
     "name": "stdout",
     "output_type": "stream",
     "text": [
      "atdome check is disabled, skipping.\n"
     ]
    },
    {
     "name": "stderr",
     "output_type": "stream",
     "text": [
      "INFO:ATCS:atdometrajectory check is disabled, skipping.\n"
     ]
    },
    {
     "name": "stdout",
     "output_type": "stream",
     "text": [
      "atdometrajectory check is disabled, skipping.\n"
     ]
    },
    {
     "name": "stderr",
     "output_type": "stream",
     "text": [
      "DEBUG:ATCS:Couldn't get settingVersions event. Using empty settings.\n"
     ]
    },
    {
     "name": "stdout",
     "output_type": "stream",
     "text": [
      "Couldn't get settingVersions event. Using empty settings.\n"
     ]
    },
    {
     "name": "stderr",
     "output_type": "stream",
     "text": [
      "DEBUG:ATCS:Complete settings for atmcs.\n"
     ]
    },
    {
     "name": "stdout",
     "output_type": "stream",
     "text": [
      "Complete settings for atmcs.\n"
     ]
    },
    {
     "name": "stderr",
     "output_type": "stream",
     "text": [
      "DEBUG:ATCS:Complete settings for atptg.\n"
     ]
    },
    {
     "name": "stdout",
     "output_type": "stream",
     "text": [
      "Complete settings for atptg.\n"
     ]
    },
    {
     "name": "stderr",
     "output_type": "stream",
     "text": [
      "DEBUG:ATCS:Complete settings for ataos.\n"
     ]
    },
    {
     "name": "stdout",
     "output_type": "stream",
     "text": [
      "Complete settings for ataos.\n"
     ]
    },
    {
     "name": "stderr",
     "output_type": "stream",
     "text": [
      "DEBUG:ATCS:Complete settings for atpneumatics.\n"
     ]
    },
    {
     "name": "stdout",
     "output_type": "stream",
     "text": [
      "Complete settings for atpneumatics.\n"
     ]
    },
    {
     "name": "stderr",
     "output_type": "stream",
     "text": [
      "DEBUG:ATCS:Complete settings for athexapod.\n"
     ]
    },
    {
     "name": "stdout",
     "output_type": "stream",
     "text": [
      "Complete settings for athexapod.\n"
     ]
    },
    {
     "name": "stderr",
     "output_type": "stream",
     "text": [
      "DEBUG:ATCS:Settings versions: {'atmcs': '                                                                                                                                                                                                                                                                ', 'atptg': '', 'ataos': 'current', 'atpneumatics': '                                                                                                                                                                                                                                                                ', 'athexapod': 'current'}\n"
     ]
    },
    {
     "name": "stdout",
     "output_type": "stream",
     "text": [
      "Settings versions: {'atmcs': '                                                                                                                                                                                                                                                                ', 'atptg': '', 'ataos': 'current', 'atpneumatics': '                                                                                                                                                                                                                                                                ', 'athexapod': 'current'}\n"
     ]
    },
    {
     "name": "stderr",
     "output_type": "stream",
     "text": [
      "DEBUG:ATCS:[atmcs]::[<State.STANDBY: 5>, <State.DISABLED: 1>, <State.ENABLED: 2>]\n"
     ]
    },
    {
     "name": "stdout",
     "output_type": "stream",
     "text": [
      "[atmcs]::[<State.STANDBY: 5>, <State.DISABLED: 1>, <State.ENABLED: 2>]\n"
     ]
    },
    {
     "name": "stderr",
     "output_type": "stream",
     "text": [
      "DEBUG:ATCS:[atptg]::[<State.STANDBY: 5>, <State.DISABLED: 1>, <State.ENABLED: 2>]\n"
     ]
    },
    {
     "name": "stdout",
     "output_type": "stream",
     "text": [
      "[atptg]::[<State.STANDBY: 5>, <State.DISABLED: 1>, <State.ENABLED: 2>]\n"
     ]
    },
    {
     "name": "stderr",
     "output_type": "stream",
     "text": [
      "DEBUG:ATCS:[ataos]::[<State.STANDBY: 5>, <State.DISABLED: 1>, <State.ENABLED: 2>]\n"
     ]
    },
    {
     "name": "stdout",
     "output_type": "stream",
     "text": [
      "[ataos]::[<State.STANDBY: 5>, <State.DISABLED: 1>, <State.ENABLED: 2>]\n"
     ]
    },
    {
     "name": "stderr",
     "output_type": "stream",
     "text": [
      "DEBUG:ATCS:[atpneumatics]::[<State.STANDBY: 5>, <State.DISABLED: 1>, <State.ENABLED: 2>]\n"
     ]
    },
    {
     "name": "stdout",
     "output_type": "stream",
     "text": [
      "[atpneumatics]::[<State.STANDBY: 5>, <State.DISABLED: 1>, <State.ENABLED: 2>]\n"
     ]
    },
    {
     "name": "stderr",
     "output_type": "stream",
     "text": [
      "DEBUG:ATCS:[athexapod]::[<State.STANDBY: 5>, <State.DISABLED: 1>, <State.ENABLED: 2>]\n"
     ]
    },
    {
     "name": "stdout",
     "output_type": "stream",
     "text": [
      "[athexapod]::[<State.STANDBY: 5>, <State.DISABLED: 1>, <State.ENABLED: 2>]\n"
     ]
    },
    {
     "name": "stderr",
     "output_type": "stream",
     "text": [
      "DEBUG:ATCS:[atdome]::<State.STANDBY: 5>\n"
     ]
    },
    {
     "name": "stdout",
     "output_type": "stream",
     "text": [
      "[atdome]::<State.STANDBY: 5>\n"
     ]
    },
    {
     "name": "stderr",
     "output_type": "stream",
     "text": [
      "DEBUG:ATCS:[atdometrajectory]::<State.STANDBY: 5>\n"
     ]
    },
    {
     "name": "stdout",
     "output_type": "stream",
     "text": [
      "[atdometrajectory]::<State.STANDBY: 5>\n"
     ]
    },
    {
     "name": "stderr",
     "output_type": "stream",
     "text": [
      "INFO:ATCS:All components in <State.ENABLED: 2>.\n"
     ]
    },
    {
     "name": "stdout",
     "output_type": "stream",
     "text": [
      "All components in <State.ENABLED: 2>.\n"
     ]
    },
    {
     "name": "stderr",
     "output_type": "stream",
     "text": [
      "INFO:LATISS:Enabling all components\n"
     ]
    },
    {
     "name": "stdout",
     "output_type": "stream",
     "text": [
      "Enabling all components\n"
     ]
    },
    {
     "name": "stderr",
     "output_type": "stream",
     "text": [
      "DEBUG:LATISS:Gathering settings.\n"
     ]
    },
    {
     "name": "stdout",
     "output_type": "stream",
     "text": [
      "Gathering settings.\n"
     ]
    },
    {
     "name": "stderr",
     "output_type": "stream",
     "text": [
      "DEBUG:LATISS:Couldn't get settingVersions event. Using empty settings.\n"
     ]
    },
    {
     "name": "stdout",
     "output_type": "stream",
     "text": [
      "Couldn't get settingVersions event. Using empty settings.\n"
     ]
    },
    {
     "name": "stderr",
     "output_type": "stream",
     "text": [
      "DEBUG:LATISS:Couldn't get settingVersions event. Using empty settings.\n"
     ]
    },
    {
     "name": "stdout",
     "output_type": "stream",
     "text": [
      "Couldn't get settingVersions event. Using empty settings.\n"
     ]
    },
    {
     "name": "stderr",
     "output_type": "stream",
     "text": [
      "DEBUG:LATISS:Complete settings for atcamera.\n"
     ]
    },
    {
     "name": "stdout",
     "output_type": "stream",
     "text": [
      "Complete settings for atcamera.\n"
     ]
    },
    {
     "name": "stderr",
     "output_type": "stream",
     "text": [
      "DEBUG:LATISS:Complete settings for atspectrograph.\n"
     ]
    },
    {
     "name": "stdout",
     "output_type": "stream",
     "text": [
      "Complete settings for atspectrograph.\n"
     ]
    },
    {
     "name": "stderr",
     "output_type": "stream",
     "text": [
      "DEBUG:LATISS:Complete settings for atheaderservice.\n"
     ]
    },
    {
     "name": "stdout",
     "output_type": "stream",
     "text": [
      "Complete settings for atheaderservice.\n"
     ]
    },
    {
     "name": "stderr",
     "output_type": "stream",
     "text": [
      "DEBUG:LATISS:Complete settings for atarchiver.\n"
     ]
    },
    {
     "name": "stdout",
     "output_type": "stream",
     "text": [
      "Complete settings for atarchiver.\n"
     ]
    },
    {
     "name": "stderr",
     "output_type": "stream",
     "text": [
      "DEBUG:LATISS:Settings versions: {'atcamera': '', 'atspectrograph': 'current', 'atheaderservice': '', 'atarchiver': ''}\n"
     ]
    },
    {
     "name": "stdout",
     "output_type": "stream",
     "text": [
      "Settings versions: {'atcamera': '', 'atspectrograph': 'current', 'atheaderservice': '', 'atarchiver': ''}\n"
     ]
    },
    {
     "name": "stderr",
     "output_type": "stream",
     "text": [
      "DEBUG:LATISS:[atcamera]::[<State.ENABLED: 2>]\n"
     ]
    },
    {
     "name": "stdout",
     "output_type": "stream",
     "text": [
      "[atcamera]::[<State.ENABLED: 2>]\n"
     ]
    },
    {
     "name": "stderr",
     "output_type": "stream",
     "text": [
      "DEBUG:LATISS:[atspectrograph]::[<State.ENABLED: 2>]\n"
     ]
    },
    {
     "name": "stdout",
     "output_type": "stream",
     "text": [
      "[atspectrograph]::[<State.ENABLED: 2>]\n"
     ]
    },
    {
     "name": "stderr",
     "output_type": "stream",
     "text": [
      "DEBUG:LATISS:[atheaderservice]::[<State.ENABLED: 2>]\n"
     ]
    },
    {
     "name": "stdout",
     "output_type": "stream",
     "text": [
      "[atheaderservice]::[<State.ENABLED: 2>]\n"
     ]
    },
    {
     "name": "stderr",
     "output_type": "stream",
     "text": [
      "DEBUG:LATISS:[atarchiver]::[<State.ENABLED: 2>]\n"
     ]
    },
    {
     "name": "stdout",
     "output_type": "stream",
     "text": [
      "[atarchiver]::[<State.ENABLED: 2>]\n"
     ]
    },
    {
     "name": "stderr",
     "output_type": "stream",
     "text": [
      "INFO:LATISS:All components in <State.ENABLED: 2>.\n"
     ]
    },
    {
     "name": "stdout",
     "output_type": "stream",
     "text": [
      "All components in <State.ENABLED: 2>.\n"
     ]
    }
   ],
   "source": [
    "# enable components\n",
    "await atcs.enable()\n",
    "await latiss.enable()"
   ]
  },
  {
   "cell_type": "code",
   "execution_count": 28,
   "metadata": {},
   "outputs": [],
   "source": [
    "# Take event checking out the slew commands to test telescope only\n",
    "atcs.check.atdome = False\n",
    "atcs.check.atdometrajectory = False"
   ]
  },
  {
   "cell_type": "code",
   "execution_count": 29,
   "metadata": {},
   "outputs": [],
   "source": [
    "# turn on ATAOS corrections just to make sure the mirror is under air\n",
    "tmp = await atcs.rem.ataos.cmd_enableCorrection.set_start(m1=True, hexapod=True, \n",
    "                                                          atspectrograph=False)"
   ]
  },
  {
   "cell_type": "markdown",
   "metadata": {
    "tags": []
   },
   "source": [
    "# Small Slew and Settle Time Test \n"
   ]
  },
  {
   "cell_type": "code",
   "execution_count": 48,
   "metadata": {},
   "outputs": [],
   "source": [
    "# Define Test name and starting position. \n",
    "test_name = 'Small Slew and Settle 7'\n",
    "number_of_iterations = 2\n",
    "\n",
    "origin_az=0\n",
    "origin_el=70\n",
    "origin_rot_pa=0"
   ]
  },
  {
   "cell_type": "code",
   "execution_count": null,
   "metadata": {},
   "outputs": [],
   "source": [
    "# point telescope to starting position\n",
    "\n",
    "await atcs.point_azel(origin_az, origin_el, rot_tel=origin_rot_pa, wait_dome=False)"
   ]
  },
  {
   "cell_type": "code",
   "execution_count": 44,
   "metadata": {},
   "outputs": [],
   "source": [
    "#declare offset sizes for tests\n",
    "\n",
    "# For small slew and settle\n",
    "delta_az= 10 # degrees\n",
    "delta_el = 10 # degrees\n",
    "delta_rot= 0 # degrees"
   ]
  },
  {
   "cell_type": "code",
   "execution_count": 50,
   "metadata": {},
   "outputs": [
    {
     "name": "stderr",
     "output_type": "stream",
     "text": [
      "DEBUG:ATCS:Stop tracking.\n"
     ]
    },
    {
     "name": "stdout",
     "output_type": "stream",
     "text": [
      "Origin Position is AZ 0 and EL 70 which is <ICRS Coordinate: (ra, dec) in deg\n",
      "    (355.39656305, -10.36533687)>\n",
      "Target Position is AZ 10 and EL 80 which is <ICRS Coordinate: (ra, dec) in deg\n",
      "    (357.23912533, -20.50447449)>\n",
      "Starting Test\n",
      "Stop tracking.\n"
     ]
    },
    {
     "name": "stderr",
     "output_type": "stream",
     "text": [
      "DEBUG:ATCS:Tracking state: <AtMountState.TRACKINGENABLED: 9>\n"
     ]
    },
    {
     "name": "stdout",
     "output_type": "stream",
     "text": [
      "Tracking state: <AtMountState.TRACKINGENABLED: 9>\n"
     ]
    },
    {
     "name": "stderr",
     "output_type": "stream",
     "text": [
      "DEBUG:ATCS:Tracking state: <AtMountState.STOPPING: 10>\n"
     ]
    },
    {
     "name": "stdout",
     "output_type": "stream",
     "text": [
      "Tracking state: <AtMountState.STOPPING: 10>\n"
     ]
    },
    {
     "name": "stderr",
     "output_type": "stream",
     "text": [
      "DEBUG:ATCS:In Position: True.\n"
     ]
    },
    {
     "name": "stdout",
     "output_type": "stream",
     "text": [
      "In Position: True.\n"
     ]
    },
    {
     "name": "stderr",
     "output_type": "stream",
     "text": [
      "INFO:Test:Starting Small Slew & Settle Test 4. Wait_settle = False at Fri Oct  8 03:17:47 2021\n"
     ]
    },
    {
     "name": "stdout",
     "output_type": "stream",
     "text": [
      "Starting Small Slew & Settle Test 4. Wait_settle = False at Fri Oct  8 03:17:47 2021\n"
     ]
    },
    {
     "name": "stderr",
     "output_type": "stream",
     "text": [
      "INFO:Test:Slew to origin position RA 355.397 deg and DEC -10.365 deg\n"
     ]
    },
    {
     "name": "stdout",
     "output_type": "stream",
     "text": [
      "Slew to origin position RA 355.397 deg and DEC -10.365 deg\n",
      "Slew to origin position RA 355.397 deg and DEC -10.365 deg\n"
     ]
    },
    {
     "name": "stderr",
     "output_type": "stream",
     "text": [
      "DEBUG:ATCS:Auto sky angle: 0.0 deg\n"
     ]
    },
    {
     "name": "stdout",
     "output_type": "stream",
     "text": [
      "Auto sky angle: 0.0 deg\n"
     ]
    },
    {
     "name": "stderr",
     "output_type": "stream",
     "text": [
      "DEBUG:ATCS:Sending command\n"
     ]
    },
    {
     "name": "stdout",
     "output_type": "stream",
     "text": [
      "Sending command\n"
     ]
    },
    {
     "name": "stderr",
     "output_type": "stream",
     "text": [
      "DEBUG:ATCS:Scheduling check coroutines\n"
     ]
    },
    {
     "name": "stdout",
     "output_type": "stream",
     "text": [
      "Scheduling check coroutines\n"
     ]
    },
    {
     "name": "stderr",
     "output_type": "stream",
     "text": [
      "DEBUG:ATCS:process as completed...\n"
     ]
    },
    {
     "name": "stdout",
     "output_type": "stream",
     "text": [
      "process as completed...\n"
     ]
    },
    {
     "name": "stderr",
     "output_type": "stream",
     "text": [
      "DEBUG:ATCS:atmcs: <State.ENABLED: 2>\n"
     ]
    },
    {
     "name": "stdout",
     "output_type": "stream",
     "text": [
      "atmcs: <State.ENABLED: 2>\n"
     ]
    },
    {
     "name": "stderr",
     "output_type": "stream",
     "text": [
      "DEBUG:ATCS:atptg: <State.ENABLED: 2>\n"
     ]
    },
    {
     "name": "stdout",
     "output_type": "stream",
     "text": [
      "atptg: <State.ENABLED: 2>\n"
     ]
    },
    {
     "name": "stderr",
     "output_type": "stream",
     "text": [
      "DEBUG:ATCS:ataos: <State.ENABLED: 2>\n"
     ]
    },
    {
     "name": "stdout",
     "output_type": "stream",
     "text": [
      "ataos: <State.ENABLED: 2>\n"
     ]
    },
    {
     "name": "stderr",
     "output_type": "stream",
     "text": [
      "DEBUG:ATCS:atpneumatics: <State.ENABLED: 2>\n"
     ]
    },
    {
     "name": "stdout",
     "output_type": "stream",
     "text": [
      "atpneumatics: <State.ENABLED: 2>\n"
     ]
    },
    {
     "name": "stderr",
     "output_type": "stream",
     "text": [
      "DEBUG:ATCS:athexapod: <State.ENABLED: 2>\n"
     ]
    },
    {
     "name": "stdout",
     "output_type": "stream",
     "text": [
      "athexapod: <State.ENABLED: 2>\n"
     ]
    },
    {
     "name": "stderr",
     "output_type": "stream",
     "text": [
      "INFO:ATCS:[Telescope] delta Alt = +000.003 deg; delta Az= +001.870 deg; delta N1 = -000.000 deg; delta N2 = -001.062 deg \n"
     ]
    },
    {
     "name": "stdout",
     "output_type": "stream",
     "text": [
      "[Telescope] delta Alt = +000.003 deg; delta Az= +001.870 deg; delta N1 = -000.000 deg; delta N2 = -001.062 deg \n"
     ]
    },
    {
     "name": "stderr",
     "output_type": "stream",
     "text": [
      "INFO:ATCS:[Telescope] delta Alt = -000.000 deg; delta Az= +000.022 deg; delta N1 = +000.000 deg; delta N2 = -000.016 deg \n"
     ]
    },
    {
     "name": "stdout",
     "output_type": "stream",
     "text": [
      "[Telescope] delta Alt = -000.000 deg; delta Az= +000.022 deg; delta N1 = +000.000 deg; delta N2 = -000.016 deg \n"
     ]
    },
    {
     "name": "stderr",
     "output_type": "stream",
     "text": [
      "INFO:ATCS:Got True\n"
     ]
    },
    {
     "name": "stdout",
     "output_type": "stream",
     "text": [
      "Got True\n"
     ]
    },
    {
     "name": "stderr",
     "output_type": "stream",
     "text": [
      "INFO:ATCS:Waiting for telescope to settle.\n"
     ]
    },
    {
     "name": "stdout",
     "output_type": "stream",
     "text": [
      "Waiting for telescope to settle.\n"
     ]
    },
    {
     "name": "stderr",
     "output_type": "stream",
     "text": [
      "INFO:ATCS:[Telescope] delta Alt = -000.000 deg; delta Az= +000.007 deg; delta N1 = -000.000 deg; delta N2 = -000.018 deg \n"
     ]
    },
    {
     "name": "stdout",
     "output_type": "stream",
     "text": [
      "[Telescope] delta Alt = -000.000 deg; delta Az= +000.007 deg; delta N1 = -000.000 deg; delta N2 = -000.018 deg \n"
     ]
    },
    {
     "name": "stderr",
     "output_type": "stream",
     "text": [
      "INFO:ATCS:Telescope in position.\n"
     ]
    },
    {
     "name": "stdout",
     "output_type": "stream",
     "text": [
      "Telescope in position.\n",
      "track for 2s\n"
     ]
    },
    {
     "name": "stderr",
     "output_type": "stream",
     "text": [
      "INFO:Test:Slew to target with coordinates 357.239 deg and -20.504 deg\n"
     ]
    },
    {
     "name": "stdout",
     "output_type": "stream",
     "text": [
      "Slew to target with coordinates 357.239 deg and -20.504 deg\n",
      "Slew to target with coordinates 357.239 deg and -20.504 deg\n"
     ]
    },
    {
     "name": "stderr",
     "output_type": "stream",
     "text": [
      "INFO:Test:Slew Start Time at Fri Oct  8 03:18:02 2021\n"
     ]
    },
    {
     "name": "stdout",
     "output_type": "stream",
     "text": [
      "Slew Start Time at Fri Oct  8 03:18:02 2021\n"
     ]
    },
    {
     "name": "stderr",
     "output_type": "stream",
     "text": [
      "DEBUG:ATCS:Auto sky angle: 0.0 deg\n"
     ]
    },
    {
     "name": "stdout",
     "output_type": "stream",
     "text": [
      "Auto sky angle: 0.0 deg\n"
     ]
    },
    {
     "name": "stderr",
     "output_type": "stream",
     "text": [
      "DEBUG:ATCS:Sending command\n"
     ]
    },
    {
     "name": "stdout",
     "output_type": "stream",
     "text": [
      "Sending command\n"
     ]
    },
    {
     "name": "stderr",
     "output_type": "stream",
     "text": [
      "DEBUG:ATCS:Scheduling check coroutines\n"
     ]
    },
    {
     "name": "stdout",
     "output_type": "stream",
     "text": [
      "Scheduling check coroutines\n"
     ]
    },
    {
     "name": "stderr",
     "output_type": "stream",
     "text": [
      "DEBUG:ATCS:process as completed...\n"
     ]
    },
    {
     "name": "stdout",
     "output_type": "stream",
     "text": [
      "process as completed...\n"
     ]
    },
    {
     "name": "stderr",
     "output_type": "stream",
     "text": [
      "DEBUG:ATCS:atmcs: <State.ENABLED: 2>\n"
     ]
    },
    {
     "name": "stdout",
     "output_type": "stream",
     "text": [
      "atmcs: <State.ENABLED: 2>\n"
     ]
    },
    {
     "name": "stderr",
     "output_type": "stream",
     "text": [
      "DEBUG:ATCS:atptg: <State.ENABLED: 2>\n"
     ]
    },
    {
     "name": "stdout",
     "output_type": "stream",
     "text": [
      "atptg: <State.ENABLED: 2>\n"
     ]
    },
    {
     "name": "stderr",
     "output_type": "stream",
     "text": [
      "DEBUG:ATCS:ataos: <State.ENABLED: 2>\n"
     ]
    },
    {
     "name": "stdout",
     "output_type": "stream",
     "text": [
      "ataos: <State.ENABLED: 2>\n"
     ]
    },
    {
     "name": "stderr",
     "output_type": "stream",
     "text": [
      "DEBUG:ATCS:atpneumatics: <State.ENABLED: 2>\n"
     ]
    },
    {
     "name": "stdout",
     "output_type": "stream",
     "text": [
      "atpneumatics: <State.ENABLED: 2>\n"
     ]
    },
    {
     "name": "stderr",
     "output_type": "stream",
     "text": [
      "DEBUG:ATCS:athexapod: <State.ENABLED: 2>\n"
     ]
    },
    {
     "name": "stdout",
     "output_type": "stream",
     "text": [
      "athexapod: <State.ENABLED: 2>\n"
     ]
    },
    {
     "name": "stderr",
     "output_type": "stream",
     "text": [
      "INFO:ATCS:Got False\n"
     ]
    },
    {
     "name": "stdout",
     "output_type": "stream",
     "text": [
      "Got False\n"
     ]
    },
    {
     "name": "stderr",
     "output_type": "stream",
     "text": [
      "DEBUG:ATCS:Telescope not in position\n"
     ]
    },
    {
     "name": "stdout",
     "output_type": "stream",
     "text": [
      "Telescope not in position\n"
     ]
    },
    {
     "name": "stderr",
     "output_type": "stream",
     "text": [
      "INFO:ATCS:[Telescope] delta Alt = +009.987 deg; delta Az= +009.976 deg; delta N1 = +000.000 deg; delta N2 = +000.286 deg \n"
     ]
    },
    {
     "name": "stdout",
     "output_type": "stream",
     "text": [
      "[Telescope] delta Alt = +009.987 deg; delta Az= +009.976 deg; delta N1 = +000.000 deg; delta N2 = +000.286 deg \n"
     ]
    },
    {
     "name": "stderr",
     "output_type": "stream",
     "text": [
      "INFO:ATCS:[Telescope] delta Alt = +007.143 deg; delta Az= +006.994 deg; delta N1 = +000.000 deg; delta N2 = -000.034 deg \n"
     ]
    },
    {
     "name": "stdout",
     "output_type": "stream",
     "text": [
      "[Telescope] delta Alt = +007.143 deg; delta Az= +006.994 deg; delta N1 = +000.000 deg; delta N2 = -000.034 deg \n"
     ]
    },
    {
     "name": "stderr",
     "output_type": "stream",
     "text": [
      "INFO:ATCS:[Telescope] delta Alt = +001.622 deg; delta Az= +001.463 deg; delta N1 = +000.000 deg; delta N2 = -000.034 deg \n"
     ]
    },
    {
     "name": "stdout",
     "output_type": "stream",
     "text": [
      "[Telescope] delta Alt = +001.622 deg; delta Az= +001.463 deg; delta N1 = +000.000 deg; delta N2 = -000.034 deg \n"
     ]
    },
    {
     "name": "stderr",
     "output_type": "stream",
     "text": [
      "INFO:ATCS:Got True\n"
     ]
    },
    {
     "name": "stdout",
     "output_type": "stream",
     "text": [
      "Got True\n"
     ]
    },
    {
     "name": "stderr",
     "output_type": "stream",
     "text": [
      "INFO:ATCS:Waiting for telescope to settle.\n"
     ]
    },
    {
     "name": "stdout",
     "output_type": "stream",
     "text": [
      "Waiting for telescope to settle.\n"
     ]
    },
    {
     "name": "stderr",
     "output_type": "stream",
     "text": [
      "INFO:ATCS:[Telescope] delta Alt = -000.000 deg; delta Az= +000.006 deg; delta N1 = +000.000 deg; delta N2 = -000.035 deg \n"
     ]
    },
    {
     "name": "stdout",
     "output_type": "stream",
     "text": [
      "[Telescope] delta Alt = -000.000 deg; delta Az= +000.006 deg; delta N1 = +000.000 deg; delta N2 = -000.035 deg \n"
     ]
    },
    {
     "name": "stderr",
     "output_type": "stream",
     "text": [
      "INFO:ATCS:Telescope in position.\n"
     ]
    },
    {
     "name": "stdout",
     "output_type": "stream",
     "text": [
      "Telescope in position.\n"
     ]
    },
    {
     "name": "stderr",
     "output_type": "stream",
     "text": [
      "INFO:Test:Slew End Time at Fri Oct  8 03:18:15 2021\n"
     ]
    },
    {
     "name": "stdout",
     "output_type": "stream",
     "text": [
      "Slew End Time at Fri Oct  8 03:18:15 2021\n"
     ]
    },
    {
     "name": "stderr",
     "output_type": "stream",
     "text": [
      "INFO:Test:Slew Start Time at Fri Oct  8 03:18:16 2021\n"
     ]
    },
    {
     "name": "stdout",
     "output_type": "stream",
     "text": [
      "Time to slew is 13.348570000005111 seconds\n",
      "Slew back to origin\n",
      "Slew Start Time at Fri Oct  8 03:18:16 2021\n"
     ]
    },
    {
     "name": "stderr",
     "output_type": "stream",
     "text": [
      "DEBUG:ATCS:Auto sky angle: 0.0 deg\n"
     ]
    },
    {
     "name": "stdout",
     "output_type": "stream",
     "text": [
      "Auto sky angle: 0.0 deg\n"
     ]
    },
    {
     "name": "stderr",
     "output_type": "stream",
     "text": [
      "DEBUG:ATCS:Sending command\n"
     ]
    },
    {
     "name": "stdout",
     "output_type": "stream",
     "text": [
      "Sending command\n"
     ]
    },
    {
     "name": "stderr",
     "output_type": "stream",
     "text": [
      "DEBUG:ATCS:Scheduling check coroutines\n"
     ]
    },
    {
     "name": "stdout",
     "output_type": "stream",
     "text": [
      "Scheduling check coroutines\n"
     ]
    },
    {
     "name": "stderr",
     "output_type": "stream",
     "text": [
      "DEBUG:ATCS:process as completed...\n"
     ]
    },
    {
     "name": "stdout",
     "output_type": "stream",
     "text": [
      "process as completed...\n"
     ]
    },
    {
     "name": "stderr",
     "output_type": "stream",
     "text": [
      "DEBUG:ATCS:atmcs: <State.ENABLED: 2>\n"
     ]
    },
    {
     "name": "stdout",
     "output_type": "stream",
     "text": [
      "atmcs: <State.ENABLED: 2>\n"
     ]
    },
    {
     "name": "stderr",
     "output_type": "stream",
     "text": [
      "DEBUG:ATCS:atptg: <State.ENABLED: 2>\n"
     ]
    },
    {
     "name": "stdout",
     "output_type": "stream",
     "text": [
      "atptg: <State.ENABLED: 2>\n"
     ]
    },
    {
     "name": "stderr",
     "output_type": "stream",
     "text": [
      "DEBUG:ATCS:ataos: <State.ENABLED: 2>\n"
     ]
    },
    {
     "name": "stdout",
     "output_type": "stream",
     "text": [
      "ataos: <State.ENABLED: 2>\n"
     ]
    },
    {
     "name": "stderr",
     "output_type": "stream",
     "text": [
      "DEBUG:ATCS:atpneumatics: <State.ENABLED: 2>\n"
     ]
    },
    {
     "name": "stdout",
     "output_type": "stream",
     "text": [
      "atpneumatics: <State.ENABLED: 2>\n"
     ]
    },
    {
     "name": "stderr",
     "output_type": "stream",
     "text": [
      "DEBUG:ATCS:athexapod: <State.ENABLED: 2>\n"
     ]
    },
    {
     "name": "stdout",
     "output_type": "stream",
     "text": [
      "athexapod: <State.ENABLED: 2>\n"
     ]
    },
    {
     "name": "stderr",
     "output_type": "stream",
     "text": [
      "INFO:ATCS:Got False\n"
     ]
    },
    {
     "name": "stdout",
     "output_type": "stream",
     "text": [
      "Got False\n"
     ]
    },
    {
     "name": "stderr",
     "output_type": "stream",
     "text": [
      "DEBUG:ATCS:Telescope not in position\n"
     ]
    },
    {
     "name": "stdout",
     "output_type": "stream",
     "text": [
      "Telescope not in position\n"
     ]
    },
    {
     "name": "stderr",
     "output_type": "stream",
     "text": [
      "INFO:ATCS:[Telescope] delta Alt = -010.013 deg; delta Az= -009.840 deg; delta N1 = +000.000 deg; delta N2 = -000.956 deg \n"
     ]
    },
    {
     "name": "stdout",
     "output_type": "stream",
     "text": [
      "[Telescope] delta Alt = -010.013 deg; delta Az= -009.840 deg; delta N1 = +000.000 deg; delta N2 = -000.956 deg \n"
     ]
    },
    {
     "name": "stderr",
     "output_type": "stream",
     "text": [
      "INFO:ATCS:[Telescope] delta Alt = -009.153 deg; delta Az= -008.937 deg; delta N1 = -000.000 deg; delta N2 = -000.014 deg \n"
     ]
    },
    {
     "name": "stdout",
     "output_type": "stream",
     "text": [
      "[Telescope] delta Alt = -009.153 deg; delta Az= -008.937 deg; delta N1 = -000.000 deg; delta N2 = -000.014 deg \n"
     ]
    },
    {
     "name": "stderr",
     "output_type": "stream",
     "text": [
      "INFO:ATCS:[Telescope] delta Alt = -004.043 deg; delta Az= -003.821 deg; delta N1 = -000.000 deg; delta N2 = -000.017 deg \n"
     ]
    },
    {
     "name": "stdout",
     "output_type": "stream",
     "text": [
      "[Telescope] delta Alt = -004.043 deg; delta Az= -003.821 deg; delta N1 = -000.000 deg; delta N2 = -000.017 deg \n"
     ]
    },
    {
     "name": "stderr",
     "output_type": "stream",
     "text": [
      "INFO:ATCS:[Telescope] delta Alt = -000.173 deg; delta Az= -000.127 deg; delta N1 = +000.000 deg; delta N2 = -000.017 deg \n"
     ]
    },
    {
     "name": "stdout",
     "output_type": "stream",
     "text": [
      "[Telescope] delta Alt = -000.173 deg; delta Az= -000.127 deg; delta N1 = +000.000 deg; delta N2 = -000.017 deg \n"
     ]
    },
    {
     "name": "stderr",
     "output_type": "stream",
     "text": [
      "INFO:ATCS:Got True\n"
     ]
    },
    {
     "name": "stdout",
     "output_type": "stream",
     "text": [
      "Got True\n"
     ]
    },
    {
     "name": "stderr",
     "output_type": "stream",
     "text": [
      "INFO:ATCS:Waiting for telescope to settle.\n"
     ]
    },
    {
     "name": "stdout",
     "output_type": "stream",
     "text": [
      "Waiting for telescope to settle.\n"
     ]
    },
    {
     "name": "stderr",
     "output_type": "stream",
     "text": [
      "INFO:ATCS:[Telescope] delta Alt = +000.000 deg; delta Az= +000.007 deg; delta N1 = +000.000 deg; delta N2 = -000.017 deg \n"
     ]
    },
    {
     "name": "stdout",
     "output_type": "stream",
     "text": [
      "[Telescope] delta Alt = +000.000 deg; delta Az= +000.007 deg; delta N1 = +000.000 deg; delta N2 = -000.017 deg \n"
     ]
    },
    {
     "name": "stderr",
     "output_type": "stream",
     "text": [
      "INFO:ATCS:Telescope in position.\n"
     ]
    },
    {
     "name": "stdout",
     "output_type": "stream",
     "text": [
      "Telescope in position.\n"
     ]
    },
    {
     "name": "stderr",
     "output_type": "stream",
     "text": [
      "INFO:Test:Slew End Time at Fri Oct  8 03:18:29 2021\n"
     ]
    },
    {
     "name": "stdout",
     "output_type": "stream",
     "text": [
      "Slew End Time at Fri Oct  8 03:18:29 2021\n"
     ]
    },
    {
     "name": "stderr",
     "output_type": "stream",
     "text": [
      "DEBUG:ATCS:Stop tracking.\n"
     ]
    },
    {
     "name": "stdout",
     "output_type": "stream",
     "text": [
      "Time to slew is 13.406545999996311 seconds\n",
      "Start and end slew times are recorded in results.txt\n",
      "Stop tracking.\n"
     ]
    },
    {
     "name": "stderr",
     "output_type": "stream",
     "text": [
      "DEBUG:ATCS:Tracking state: <AtMountState.TRACKINGENABLED: 9>\n"
     ]
    },
    {
     "name": "stdout",
     "output_type": "stream",
     "text": [
      "Tracking state: <AtMountState.TRACKINGENABLED: 9>\n"
     ]
    },
    {
     "name": "stderr",
     "output_type": "stream",
     "text": [
      "DEBUG:ATCS:Tracking state: <AtMountState.STOPPING: 10>\n"
     ]
    },
    {
     "name": "stdout",
     "output_type": "stream",
     "text": [
      "Tracking state: <AtMountState.STOPPING: 10>\n"
     ]
    },
    {
     "name": "stderr",
     "output_type": "stream",
     "text": [
      "DEBUG:ATCS:In Position: True.\n"
     ]
    },
    {
     "name": "stdout",
     "output_type": "stream",
     "text": [
      "In Position: True.\n"
     ]
    },
    {
     "name": "stderr",
     "output_type": "stream",
     "text": [
      "INFO:Test:Starting Small Slew & Settle Test 4. Wait_settle = False at Fri Oct  8 03:18:29 2021\n"
     ]
    },
    {
     "name": "stdout",
     "output_type": "stream",
     "text": [
      "Starting Small Slew & Settle Test 4. Wait_settle = False at Fri Oct  8 03:18:29 2021\n"
     ]
    },
    {
     "name": "stderr",
     "output_type": "stream",
     "text": [
      "INFO:Test:Slew to origin position RA 355.397 deg and DEC -10.365 deg\n"
     ]
    },
    {
     "name": "stdout",
     "output_type": "stream",
     "text": [
      "Slew to origin position RA 355.397 deg and DEC -10.365 deg\n",
      "Slew to origin position RA 355.397 deg and DEC -10.365 deg\n"
     ]
    },
    {
     "name": "stderr",
     "output_type": "stream",
     "text": [
      "DEBUG:ATCS:Auto sky angle: 0.0 deg\n"
     ]
    },
    {
     "name": "stdout",
     "output_type": "stream",
     "text": [
      "Auto sky angle: 0.0 deg\n"
     ]
    },
    {
     "name": "stderr",
     "output_type": "stream",
     "text": [
      "DEBUG:ATCS:Sending command\n"
     ]
    },
    {
     "name": "stdout",
     "output_type": "stream",
     "text": [
      "Sending command\n"
     ]
    },
    {
     "name": "stderr",
     "output_type": "stream",
     "text": [
      "DEBUG:ATCS:Scheduling check coroutines\n"
     ]
    },
    {
     "name": "stdout",
     "output_type": "stream",
     "text": [
      "Scheduling check coroutines\n"
     ]
    },
    {
     "name": "stderr",
     "output_type": "stream",
     "text": [
      "DEBUG:ATCS:process as completed...\n"
     ]
    },
    {
     "name": "stdout",
     "output_type": "stream",
     "text": [
      "process as completed...\n"
     ]
    },
    {
     "name": "stderr",
     "output_type": "stream",
     "text": [
      "DEBUG:ATCS:atmcs: <State.ENABLED: 2>\n"
     ]
    },
    {
     "name": "stdout",
     "output_type": "stream",
     "text": [
      "atmcs: <State.ENABLED: 2>\n"
     ]
    },
    {
     "name": "stderr",
     "output_type": "stream",
     "text": [
      "DEBUG:ATCS:atptg: <State.ENABLED: 2>\n"
     ]
    },
    {
     "name": "stdout",
     "output_type": "stream",
     "text": [
      "atptg: <State.ENABLED: 2>\n"
     ]
    },
    {
     "name": "stderr",
     "output_type": "stream",
     "text": [
      "DEBUG:ATCS:ataos: <State.ENABLED: 2>\n"
     ]
    },
    {
     "name": "stdout",
     "output_type": "stream",
     "text": [
      "ataos: <State.ENABLED: 2>\n"
     ]
    },
    {
     "name": "stderr",
     "output_type": "stream",
     "text": [
      "DEBUG:ATCS:atpneumatics: <State.ENABLED: 2>\n"
     ]
    },
    {
     "name": "stdout",
     "output_type": "stream",
     "text": [
      "atpneumatics: <State.ENABLED: 2>\n"
     ]
    },
    {
     "name": "stderr",
     "output_type": "stream",
     "text": [
      "DEBUG:ATCS:athexapod: <State.ENABLED: 2>\n"
     ]
    },
    {
     "name": "stdout",
     "output_type": "stream",
     "text": [
      "athexapod: <State.ENABLED: 2>\n"
     ]
    },
    {
     "name": "stderr",
     "output_type": "stream",
     "text": [
      "INFO:ATCS:[Telescope] delta Alt = -000.001 deg; delta Az= -000.072 deg; delta N1 = +000.000 deg; delta N2 = +000.057 deg \n"
     ]
    },
    {
     "name": "stdout",
     "output_type": "stream",
     "text": [
      "[Telescope] delta Alt = -000.001 deg; delta Az= -000.072 deg; delta N1 = +000.000 deg; delta N2 = +000.057 deg \n"
     ]
    },
    {
     "name": "stderr",
     "output_type": "stream",
     "text": [
      "INFO:ATCS:Got True\n"
     ]
    },
    {
     "name": "stdout",
     "output_type": "stream",
     "text": [
      "Got True\n"
     ]
    },
    {
     "name": "stderr",
     "output_type": "stream",
     "text": [
      "INFO:ATCS:Waiting for telescope to settle.\n"
     ]
    },
    {
     "name": "stdout",
     "output_type": "stream",
     "text": [
      "Waiting for telescope to settle.\n"
     ]
    },
    {
     "name": "stderr",
     "output_type": "stream",
     "text": [
      "INFO:ATCS:[Telescope] delta Alt = -000.000 deg; delta Az= +000.006 deg; delta N1 = +000.000 deg; delta N2 = -000.006 deg \n"
     ]
    },
    {
     "name": "stdout",
     "output_type": "stream",
     "text": [
      "[Telescope] delta Alt = -000.000 deg; delta Az= +000.006 deg; delta N1 = +000.000 deg; delta N2 = -000.006 deg \n"
     ]
    },
    {
     "name": "stderr",
     "output_type": "stream",
     "text": [
      "INFO:ATCS:Telescope in position.\n"
     ]
    },
    {
     "name": "stdout",
     "output_type": "stream",
     "text": [
      "Telescope in position.\n",
      "track for 2s\n"
     ]
    },
    {
     "name": "stderr",
     "output_type": "stream",
     "text": [
      "INFO:Test:Slew to target with coordinates 357.239 deg and -20.504 deg\n"
     ]
    },
    {
     "name": "stdout",
     "output_type": "stream",
     "text": [
      "Slew to target with coordinates 357.239 deg and -20.504 deg\n",
      "Slew to target with coordinates 357.239 deg and -20.504 deg\n"
     ]
    },
    {
     "name": "stderr",
     "output_type": "stream",
     "text": [
      "INFO:Test:Slew Start Time at Fri Oct  8 03:18:42 2021\n"
     ]
    },
    {
     "name": "stdout",
     "output_type": "stream",
     "text": [
      "Slew Start Time at Fri Oct  8 03:18:42 2021\n"
     ]
    },
    {
     "name": "stderr",
     "output_type": "stream",
     "text": [
      "DEBUG:ATCS:Auto sky angle: 0.0 deg\n"
     ]
    },
    {
     "name": "stdout",
     "output_type": "stream",
     "text": [
      "Auto sky angle: 0.0 deg\n"
     ]
    },
    {
     "name": "stderr",
     "output_type": "stream",
     "text": [
      "DEBUG:ATCS:Sending command\n"
     ]
    },
    {
     "name": "stdout",
     "output_type": "stream",
     "text": [
      "Sending command\n"
     ]
    },
    {
     "name": "stderr",
     "output_type": "stream",
     "text": [
      "DEBUG:ATCS:Scheduling check coroutines\n"
     ]
    },
    {
     "name": "stdout",
     "output_type": "stream",
     "text": [
      "Scheduling check coroutines\n"
     ]
    },
    {
     "name": "stderr",
     "output_type": "stream",
     "text": [
      "DEBUG:ATCS:process as completed...\n"
     ]
    },
    {
     "name": "stdout",
     "output_type": "stream",
     "text": [
      "process as completed...\n"
     ]
    },
    {
     "name": "stderr",
     "output_type": "stream",
     "text": [
      "DEBUG:ATCS:atmcs: <State.ENABLED: 2>\n"
     ]
    },
    {
     "name": "stdout",
     "output_type": "stream",
     "text": [
      "atmcs: <State.ENABLED: 2>\n"
     ]
    },
    {
     "name": "stderr",
     "output_type": "stream",
     "text": [
      "DEBUG:ATCS:atptg: <State.ENABLED: 2>\n"
     ]
    },
    {
     "name": "stdout",
     "output_type": "stream",
     "text": [
      "atptg: <State.ENABLED: 2>\n"
     ]
    },
    {
     "name": "stderr",
     "output_type": "stream",
     "text": [
      "DEBUG:ATCS:ataos: <State.ENABLED: 2>\n"
     ]
    },
    {
     "name": "stdout",
     "output_type": "stream",
     "text": [
      "ataos: <State.ENABLED: 2>\n"
     ]
    },
    {
     "name": "stderr",
     "output_type": "stream",
     "text": [
      "DEBUG:ATCS:atpneumatics: <State.ENABLED: 2>\n"
     ]
    },
    {
     "name": "stdout",
     "output_type": "stream",
     "text": [
      "atpneumatics: <State.ENABLED: 2>\n"
     ]
    },
    {
     "name": "stderr",
     "output_type": "stream",
     "text": [
      "DEBUG:ATCS:athexapod: <State.ENABLED: 2>\n"
     ]
    },
    {
     "name": "stdout",
     "output_type": "stream",
     "text": [
      "athexapod: <State.ENABLED: 2>\n"
     ]
    },
    {
     "name": "stderr",
     "output_type": "stream",
     "text": [
      "INFO:ATCS:Got False\n"
     ]
    },
    {
     "name": "stdout",
     "output_type": "stream",
     "text": [
      "Got False\n"
     ]
    },
    {
     "name": "stderr",
     "output_type": "stream",
     "text": [
      "DEBUG:ATCS:Telescope not in position\n"
     ]
    },
    {
     "name": "stdout",
     "output_type": "stream",
     "text": [
      "Telescope not in position\n"
     ]
    },
    {
     "name": "stderr",
     "output_type": "stream",
     "text": [
      "INFO:ATCS:[Telescope] delta Alt = +009.989 deg; delta Az= +009.548 deg; delta N1 = +000.000 deg; delta N2 = +000.495 deg \n"
     ]
    },
    {
     "name": "stdout",
     "output_type": "stream",
     "text": [
      "[Telescope] delta Alt = +009.989 deg; delta Az= +009.548 deg; delta N1 = +000.000 deg; delta N2 = +000.495 deg \n"
     ]
    },
    {
     "name": "stderr",
     "output_type": "stream",
     "text": [
      "INFO:ATCS:[Telescope] delta Alt = +006.890 deg; delta Az= +006.131 deg; delta N1 = -000.000 deg; delta N2 = -000.014 deg \n"
     ]
    },
    {
     "name": "stdout",
     "output_type": "stream",
     "text": [
      "[Telescope] delta Alt = +006.890 deg; delta Az= +006.131 deg; delta N1 = -000.000 deg; delta N2 = -000.014 deg \n"
     ]
    },
    {
     "name": "stderr",
     "output_type": "stream",
     "text": [
      "INFO:ATCS:[Telescope] delta Alt = +003.006 deg; delta Az= +002.260 deg; delta N1 = +000.000 deg; delta N2 = -000.014 deg \n"
     ]
    },
    {
     "name": "stdout",
     "output_type": "stream",
     "text": [
      "[Telescope] delta Alt = +003.006 deg; delta Az= +002.260 deg; delta N1 = +000.000 deg; delta N2 = -000.014 deg \n"
     ]
    },
    {
     "name": "stderr",
     "output_type": "stream",
     "text": [
      "INFO:ATCS:[Telescope] delta Alt = +000.420 deg; delta Az= +000.164 deg; delta N1 = -000.000 deg; delta N2 = -000.034 deg \n"
     ]
    },
    {
     "name": "stdout",
     "output_type": "stream",
     "text": [
      "[Telescope] delta Alt = +000.420 deg; delta Az= +000.164 deg; delta N1 = -000.000 deg; delta N2 = -000.034 deg \n"
     ]
    },
    {
     "name": "stderr",
     "output_type": "stream",
     "text": [
      "INFO:ATCS:Got True\n"
     ]
    },
    {
     "name": "stdout",
     "output_type": "stream",
     "text": [
      "Got True\n"
     ]
    },
    {
     "name": "stderr",
     "output_type": "stream",
     "text": [
      "INFO:ATCS:Waiting for telescope to settle.\n"
     ]
    },
    {
     "name": "stdout",
     "output_type": "stream",
     "text": [
      "Waiting for telescope to settle.\n"
     ]
    },
    {
     "name": "stderr",
     "output_type": "stream",
     "text": [
      "INFO:ATCS:[Telescope] delta Alt = -000.000 deg; delta Az= +000.012 deg; delta N1 = +000.000 deg; delta N2 = -000.035 deg \n"
     ]
    },
    {
     "name": "stdout",
     "output_type": "stream",
     "text": [
      "[Telescope] delta Alt = -000.000 deg; delta Az= +000.012 deg; delta N1 = +000.000 deg; delta N2 = -000.035 deg \n"
     ]
    },
    {
     "name": "stderr",
     "output_type": "stream",
     "text": [
      "INFO:ATCS:Telescope in position.\n"
     ]
    },
    {
     "name": "stdout",
     "output_type": "stream",
     "text": [
      "Telescope in position.\n"
     ]
    },
    {
     "name": "stderr",
     "output_type": "stream",
     "text": [
      "INFO:Test:Slew End Time at Fri Oct  8 03:18:55 2021\n"
     ]
    },
    {
     "name": "stdout",
     "output_type": "stream",
     "text": [
      "Slew End Time at Fri Oct  8 03:18:55 2021\n"
     ]
    },
    {
     "name": "stderr",
     "output_type": "stream",
     "text": [
      "INFO:Test:Slew Start Time at Fri Oct  8 03:18:55 2021\n"
     ]
    },
    {
     "name": "stdout",
     "output_type": "stream",
     "text": [
      "Time to slew is 13.344979999995843 seconds\n",
      "Slew back to origin\n",
      "Slew Start Time at Fri Oct  8 03:18:55 2021\n"
     ]
    },
    {
     "name": "stderr",
     "output_type": "stream",
     "text": [
      "DEBUG:ATCS:Auto sky angle: 0.0 deg\n"
     ]
    },
    {
     "name": "stdout",
     "output_type": "stream",
     "text": [
      "Auto sky angle: 0.0 deg\n"
     ]
    },
    {
     "name": "stderr",
     "output_type": "stream",
     "text": [
      "DEBUG:ATCS:Sending command\n"
     ]
    },
    {
     "name": "stdout",
     "output_type": "stream",
     "text": [
      "Sending command\n"
     ]
    },
    {
     "name": "stderr",
     "output_type": "stream",
     "text": [
      "DEBUG:ATCS:Scheduling check coroutines\n"
     ]
    },
    {
     "name": "stdout",
     "output_type": "stream",
     "text": [
      "Scheduling check coroutines\n"
     ]
    },
    {
     "name": "stderr",
     "output_type": "stream",
     "text": [
      "DEBUG:ATCS:process as completed...\n"
     ]
    },
    {
     "name": "stdout",
     "output_type": "stream",
     "text": [
      "process as completed...\n"
     ]
    },
    {
     "name": "stderr",
     "output_type": "stream",
     "text": [
      "DEBUG:ATCS:atmcs: <State.ENABLED: 2>\n"
     ]
    },
    {
     "name": "stdout",
     "output_type": "stream",
     "text": [
      "atmcs: <State.ENABLED: 2>\n"
     ]
    },
    {
     "name": "stderr",
     "output_type": "stream",
     "text": [
      "DEBUG:ATCS:atptg: <State.ENABLED: 2>\n"
     ]
    },
    {
     "name": "stdout",
     "output_type": "stream",
     "text": [
      "atptg: <State.ENABLED: 2>\n"
     ]
    },
    {
     "name": "stderr",
     "output_type": "stream",
     "text": [
      "DEBUG:ATCS:ataos: <State.ENABLED: 2>\n"
     ]
    },
    {
     "name": "stdout",
     "output_type": "stream",
     "text": [
      "ataos: <State.ENABLED: 2>\n"
     ]
    },
    {
     "name": "stderr",
     "output_type": "stream",
     "text": [
      "DEBUG:ATCS:atpneumatics: <State.ENABLED: 2>\n"
     ]
    },
    {
     "name": "stdout",
     "output_type": "stream",
     "text": [
      "atpneumatics: <State.ENABLED: 2>\n"
     ]
    },
    {
     "name": "stderr",
     "output_type": "stream",
     "text": [
      "DEBUG:ATCS:athexapod: <State.ENABLED: 2>\n"
     ]
    },
    {
     "name": "stdout",
     "output_type": "stream",
     "text": [
      "athexapod: <State.ENABLED: 2>\n"
     ]
    },
    {
     "name": "stderr",
     "output_type": "stream",
     "text": [
      "INFO:ATCS:Got False\n"
     ]
    },
    {
     "name": "stdout",
     "output_type": "stream",
     "text": [
      "Got False\n"
     ]
    },
    {
     "name": "stderr",
     "output_type": "stream",
     "text": [
      "DEBUG:ATCS:Telescope not in position\n"
     ]
    },
    {
     "name": "stdout",
     "output_type": "stream",
     "text": [
      "Telescope not in position\n"
     ]
    },
    {
     "name": "stderr",
     "output_type": "stream",
     "text": [
      "INFO:ATCS:[Telescope] delta Alt = -010.037 deg; delta Az= -009.420 deg; delta N1 = +000.000 deg; delta N2 = -000.957 deg \n"
     ]
    },
    {
     "name": "stdout",
     "output_type": "stream",
     "text": [
      "[Telescope] delta Alt = -010.037 deg; delta Az= -009.420 deg; delta N1 = +000.000 deg; delta N2 = -000.957 deg \n"
     ]
    },
    {
     "name": "stderr",
     "output_type": "stream",
     "text": [
      "INFO:ATCS:[Telescope] delta Alt = -007.630 deg; delta Az= -006.789 deg; delta N1 = +000.000 deg; delta N2 = -000.015 deg \n"
     ]
    },
    {
     "name": "stdout",
     "output_type": "stream",
     "text": [
      "[Telescope] delta Alt = -007.630 deg; delta Az= -006.789 deg; delta N1 = +000.000 deg; delta N2 = -000.015 deg \n"
     ]
    },
    {
     "name": "stderr",
     "output_type": "stream",
     "text": [
      "INFO:ATCS:[Telescope] delta Alt = -002.047 deg; delta Az= -001.364 deg; delta N1 = -000.000 deg; delta N2 = -000.017 deg \n"
     ]
    },
    {
     "name": "stdout",
     "output_type": "stream",
     "text": [
      "[Telescope] delta Alt = -002.047 deg; delta Az= -001.364 deg; delta N1 = -000.000 deg; delta N2 = -000.017 deg \n"
     ]
    },
    {
     "name": "stderr",
     "output_type": "stream",
     "text": [
      "INFO:ATCS:[Telescope] delta Alt = -000.138 deg; delta Az= -000.028 deg; delta N1 = -000.000 deg; delta N2 = -000.007 deg \n"
     ]
    },
    {
     "name": "stdout",
     "output_type": "stream",
     "text": [
      "[Telescope] delta Alt = -000.138 deg; delta Az= -000.028 deg; delta N1 = -000.000 deg; delta N2 = -000.007 deg \n"
     ]
    },
    {
     "name": "stderr",
     "output_type": "stream",
     "text": [
      "INFO:ATCS:Got True\n"
     ]
    },
    {
     "name": "stdout",
     "output_type": "stream",
     "text": [
      "Got True\n"
     ]
    },
    {
     "name": "stderr",
     "output_type": "stream",
     "text": [
      "INFO:ATCS:Waiting for telescope to settle.\n"
     ]
    },
    {
     "name": "stdout",
     "output_type": "stream",
     "text": [
      "Waiting for telescope to settle.\n"
     ]
    },
    {
     "name": "stderr",
     "output_type": "stream",
     "text": [
      "INFO:ATCS:[Telescope] delta Alt = +000.000 deg; delta Az= +000.007 deg; delta N1 = -000.000 deg; delta N2 = -000.017 deg \n"
     ]
    },
    {
     "name": "stdout",
     "output_type": "stream",
     "text": [
      "[Telescope] delta Alt = +000.000 deg; delta Az= +000.007 deg; delta N1 = -000.000 deg; delta N2 = -000.017 deg \n"
     ]
    },
    {
     "name": "stderr",
     "output_type": "stream",
     "text": [
      "INFO:ATCS:Telescope in position.\n"
     ]
    },
    {
     "name": "stdout",
     "output_type": "stream",
     "text": [
      "Telescope in position.\n"
     ]
    },
    {
     "name": "stderr",
     "output_type": "stream",
     "text": [
      "INFO:Test:Slew End Time at Fri Oct  8 03:19:09 2021\n"
     ]
    },
    {
     "name": "stdout",
     "output_type": "stream",
     "text": [
      "Slew End Time at Fri Oct  8 03:19:09 2021\n",
      "Time to slew is 13.440745000005805 seconds\n",
      "Start and end slew times are recorded in results.txt\n"
     ]
    }
   ],
   "source": [
    "#Convert AZ/EL coordinates to RA/DEC\n",
    "## Of the origin position\n",
    "ra_dec_origin = atcs.radec_from_azel(az = origin_az, el=origin_el)\n",
    "print('Origin Position is AZ {} and EL {} which is {}'.format(origin_az, origin_el,\n",
    "                                                              ra_dec_origin))\n",
    "\n",
    "## Of the target\n",
    "target_az = origin_az + delta_az\n",
    "target_el = origin_el + delta_el\n",
    "ra_dec_target = atcs.radec_from_azel(az = target_az, el=target_el)\n",
    "print('Target Position is AZ {} and EL {} which is {}'.format(target_az, target_el,\n",
    "                                                              ra_dec_target))\n",
    "\n",
    "print('Starting Test')\n",
    "\n",
    "# Starting test\n",
    "start_end_pairs = []\n",
    "\n",
    "n = 0\n",
    "while n < number_of_iterations: \n",
    "    \n",
    "    await atcs.stop_tracking()\n",
    "\n",
    "    # Slew to starting position\n",
    "    print(f'Slew to origin position RA {ra_dec_origin.ra:0.3f} and '\n",
    "          f'DEC {ra_dec_origin.dec:0.3f}')\n",
    "\n",
    "    await atcs.slew_icrs(ra=str(ra_dec_origin.ra), dec=str(ra_dec_origin.dec), \n",
    "                         rot=0.0,slew_timeout=240., stop_before_slew=False, \n",
    "                         wait_settle=True)\n",
    "\n",
    "\n",
    "    print('track for 2s')\n",
    "    await asyncio.sleep(2)\n",
    "    \n",
    "    # A quick image to check pointing\n",
    "    #await latiss.take_engtest(exptime=20, n=1)\n",
    "\n",
    "    # Now slew to target\n",
    "    print(f'Slew to target with coordinates {ra_dec_target.ra:0.3f} and '\n",
    "          f'{ra_dec_target.dec:0.3f}')\n",
    "\n",
    "    start_time_target = Time(Time.now(), format='fits', scale='tai')\n",
    "\n",
    "    await atcs.slew_icrs(ra=str(ra_dec_target.ra), dec=str(ra_dec_target.dec),\n",
    "                         rot=delta_rot, slew_timeout=240., stop_before_slew=False, \n",
    "                         wait_settle=True)\n",
    "    end_time_target = Time(Time.now(), format='fits', scale='tai')\n",
    "    slew_time_target = TimeDelta(end_time_target - start_time_target, format='sec').value\n",
    "    print(f'Time to slew is {slew_time_target} seconds')\n",
    "    pair_target = [start_time_target, end_time_target, slew_time_target]\n",
    "    start_end_pairs.append(pair_target)\n",
    "    \n",
    "    #await latiss.take_engtest(exptime=20, n=1)\n",
    "\n",
    "    # Repeat the slew test going back to origin position\n",
    "\n",
    "    print('Slew back to origin')\n",
    "    start_time_origin = Time(Time.now(), format='fits', scale='tai')\n",
    "    await atcs.slew_icrs(ra=str(ra_dec_origin.ra), dec=str(ra_dec_origin.dec), \n",
    "                         rot=0.0,slew_timeout=240., stop_before_slew=False, \n",
    "                         wait_settle=True)\n",
    "\n",
    "    end_time_origin = Time(Time.now(), format='fits', scale='tai')\n",
    "    slew_time_origin = TimeDelta(end_time_origin - start_time_origin, format='sec').value\n",
    "    print(f'Time to slew is {slew_time_origin} seconds')\n",
    "    pair_origin = [start_time_origin, end_time_origin, slew_time_origin]\n",
    "    start_end_pairs.append(pair_origin)\n",
    "\n",
    "    #await latiss.take_engtest(exptime=20, n=1)\n",
    "    \n",
    "    n=n+1\n",
    "    \n",
    "# Save results           \n",
    "with open('SmallSlewandSettleTime.txt', 'a') as f:\n",
    "    f.write('{}. Origin position is AZ {} and EL {} at {}\\n'.\n",
    "            format(test_name, origin_az, origin_el, time.asctime()))\n",
    "    for item in start_end_pairs:\n",
    "        f.write(\"{}\\n\".format(item))\n",
    "f.close()\n",
    "print('Start and end slew times are saved')\n"
   ]
  },
  {
   "cell_type": "markdown",
   "metadata": {},
   "source": [
    "# System Shutdown"
   ]
  },
  {
   "cell_type": "code",
   "execution_count": 51,
   "metadata": {},
   "outputs": [
    {
     "name": "stderr",
     "output_type": "stream",
     "text": [
      "DEBUG:ATCS:Stop tracking.\n"
     ]
    },
    {
     "name": "stdout",
     "output_type": "stream",
     "text": [
      "Stop tracking.\n"
     ]
    },
    {
     "name": "stderr",
     "output_type": "stream",
     "text": [
      "DEBUG:ATCS:Tracking state: <AtMountState.TRACKINGENABLED: 9>\n"
     ]
    },
    {
     "name": "stdout",
     "output_type": "stream",
     "text": [
      "Tracking state: <AtMountState.TRACKINGENABLED: 9>\n"
     ]
    },
    {
     "name": "stderr",
     "output_type": "stream",
     "text": [
      "DEBUG:ATCS:Tracking state: <AtMountState.STOPPING: 10>\n"
     ]
    },
    {
     "name": "stdout",
     "output_type": "stream",
     "text": [
      "Tracking state: <AtMountState.STOPPING: 10>\n"
     ]
    },
    {
     "name": "stderr",
     "output_type": "stream",
     "text": [
      "DEBUG:ATCS:In Position: True.\n"
     ]
    },
    {
     "name": "stdout",
     "output_type": "stream",
     "text": [
      "In Position: True.\n"
     ]
    }
   ],
   "source": [
    "# For shutdown of system\n",
    "await atcs.stop_tracking()"
   ]
  },
  {
   "cell_type": "code",
   "execution_count": 52,
   "metadata": {},
   "outputs": [],
   "source": [
    "# turn off corrections\n",
    "tmp = await atcs.rem.ataos.cmd_disableCorrection.set_start(m1=True, hexapod=True, atspectrograph=True)"
   ]
  },
  {
   "cell_type": "code",
   "execution_count": 53,
   "metadata": {},
   "outputs": [
    {
     "name": "stderr",
     "output_type": "stream",
     "text": [
      "INFO:ATCS:Disabling ATAOS corrections\n"
     ]
    },
    {
     "name": "stdout",
     "output_type": "stream",
     "text": [
      "Disabling ATAOS corrections\n"
     ]
    },
    {
     "name": "stderr",
     "output_type": "stream",
     "text": [
      "DEBUG:ATCS:Disabling ATAOS corrections.\n"
     ]
    },
    {
     "name": "stdout",
     "output_type": "stream",
     "text": [
      "Disabling ATAOS corrections.\n"
     ]
    },
    {
     "name": "stderr",
     "output_type": "stream",
     "text": [
      "DEBUG:ATCS:Closing M1 cover vent gates.\n"
     ]
    },
    {
     "name": "stdout",
     "output_type": "stream",
     "text": [
      "Closing M1 cover vent gates.\n"
     ]
    },
    {
     "name": "stderr",
     "output_type": "stream",
     "text": [
      "DEBUG:ATCS:Cover state <MirrorCoverState.CLOSED: 6>\n"
     ]
    },
    {
     "name": "stdout",
     "output_type": "stream",
     "text": [
      "Cover state <MirrorCoverState.CLOSED: 6>\n"
     ]
    },
    {
     "name": "stderr",
     "output_type": "stream",
     "text": [
      "INFO:ATCS:M1 cover already closed.\n"
     ]
    },
    {
     "name": "stdout",
     "output_type": "stream",
     "text": [
      "M1 cover already closed.\n"
     ]
    },
    {
     "name": "stderr",
     "output_type": "stream",
     "text": [
      "DEBUG:ATCS:M1 vent state <VentsPosition.CLOSED: 1>\n"
     ]
    },
    {
     "name": "stdout",
     "output_type": "stream",
     "text": [
      "M1 vent state <VentsPosition.CLOSED: 1>\n"
     ]
    },
    {
     "name": "stderr",
     "output_type": "stream",
     "text": [
      "INFO:ATCS:M1 vents already closed.\n"
     ]
    },
    {
     "name": "stdout",
     "output_type": "stream",
     "text": [
      "M1 vents already closed.\n"
     ]
    },
    {
     "name": "stderr",
     "output_type": "stream",
     "text": [
      "WARNING:ATCS:Skipping closing dome shutter and slewing dome to park position.\n"
     ]
    },
    {
     "name": "stdout",
     "output_type": "stream",
     "text": [
      "Skipping closing dome shutter and slewing dome to park position.\n"
     ]
    },
    {
     "name": "stderr",
     "output_type": "stream",
     "text": [
      "WARNING:ATCS:Dome trajectory check disable. Will not disable following.\n"
     ]
    },
    {
     "name": "stdout",
     "output_type": "stream",
     "text": [
      "Dome trajectory check disable. Will not disable following.\n"
     ]
    },
    {
     "name": "stderr",
     "output_type": "stream",
     "text": [
      "DEBUG:ATCS:Slew telescope to Park position.\n"
     ]
    },
    {
     "name": "stdout",
     "output_type": "stream",
     "text": [
      "Slew telescope to Park position.\n"
     ]
    },
    {
     "name": "stderr",
     "output_type": "stream",
     "text": [
      "DEBUG:ATCS:Sending command\n"
     ]
    },
    {
     "name": "stdout",
     "output_type": "stream",
     "text": [
      "Sending command\n"
     ]
    },
    {
     "name": "stderr",
     "output_type": "stream",
     "text": [
      "DEBUG:ATCS:Stop tracking.\n"
     ]
    },
    {
     "name": "stdout",
     "output_type": "stream",
     "text": [
      "Stop tracking.\n"
     ]
    },
    {
     "name": "stderr",
     "output_type": "stream",
     "text": [
      "DEBUG:ATCS:Scheduling check coroutines\n"
     ]
    },
    {
     "name": "stdout",
     "output_type": "stream",
     "text": [
      "Scheduling check coroutines\n"
     ]
    },
    {
     "name": "stderr",
     "output_type": "stream",
     "text": [
      "DEBUG:ATCS:process as completed...\n"
     ]
    },
    {
     "name": "stdout",
     "output_type": "stream",
     "text": [
      "process as completed...\n"
     ]
    },
    {
     "name": "stderr",
     "output_type": "stream",
     "text": [
      "DEBUG:ATCS:atmcs: <State.ENABLED: 2>\n"
     ]
    },
    {
     "name": "stdout",
     "output_type": "stream",
     "text": [
      "atmcs: <State.ENABLED: 2>\n"
     ]
    },
    {
     "name": "stderr",
     "output_type": "stream",
     "text": [
      "DEBUG:ATCS:atptg: <State.ENABLED: 2>\n"
     ]
    },
    {
     "name": "stdout",
     "output_type": "stream",
     "text": [
      "atptg: <State.ENABLED: 2>\n"
     ]
    },
    {
     "name": "stderr",
     "output_type": "stream",
     "text": [
      "DEBUG:ATCS:ataos: <State.ENABLED: 2>\n"
     ]
    },
    {
     "name": "stdout",
     "output_type": "stream",
     "text": [
      "ataos: <State.ENABLED: 2>\n"
     ]
    },
    {
     "name": "stderr",
     "output_type": "stream",
     "text": [
      "DEBUG:ATCS:atpneumatics: <State.ENABLED: 2>\n"
     ]
    },
    {
     "name": "stdout",
     "output_type": "stream",
     "text": [
      "atpneumatics: <State.ENABLED: 2>\n"
     ]
    },
    {
     "name": "stderr",
     "output_type": "stream",
     "text": [
      "DEBUG:ATCS:athexapod: <State.ENABLED: 2>\n"
     ]
    },
    {
     "name": "stdout",
     "output_type": "stream",
     "text": [
      "athexapod: <State.ENABLED: 2>\n"
     ]
    },
    {
     "name": "stderr",
     "output_type": "stream",
     "text": [
      "INFO:ATCS:[Telescope] delta Alt = +009.926 deg; delta Az= +001.745 deg; delta N1 = +000.000 deg; delta N2 = -070.581 deg \n"
     ]
    },
    {
     "name": "stdout",
     "output_type": "stream",
     "text": [
      "[Telescope] delta Alt = +009.926 deg; delta Az= +001.745 deg; delta N1 = +000.000 deg; delta N2 = -070.581 deg \n"
     ]
    },
    {
     "name": "stderr",
     "output_type": "stream",
     "text": [
      "INFO:ATCS:[Telescope] delta Alt = +007.236 deg; delta Az= +000.013 deg; delta N1 = -000.000 deg; delta N2 = -064.768 deg \n"
     ]
    },
    {
     "name": "stdout",
     "output_type": "stream",
     "text": [
      "[Telescope] delta Alt = +007.236 deg; delta Az= +000.013 deg; delta N1 = -000.000 deg; delta N2 = -064.768 deg \n"
     ]
    },
    {
     "name": "stderr",
     "output_type": "stream",
     "text": [
      "INFO:ATCS:[Telescope] delta Alt = +003.384 deg; delta Az= -000.000 deg; delta N1 = -000.000 deg; delta N2 = -060.774 deg \n"
     ]
    },
    {
     "name": "stdout",
     "output_type": "stream",
     "text": [
      "[Telescope] delta Alt = +003.384 deg; delta Az= -000.000 deg; delta N1 = -000.000 deg; delta N2 = -060.774 deg \n"
     ]
    },
    {
     "name": "stderr",
     "output_type": "stream",
     "text": [
      "INFO:ATCS:[Telescope] delta Alt = +000.066 deg; delta Az= -000.000 deg; delta N1 = -000.000 deg; delta N2 = -054.770 deg \n"
     ]
    },
    {
     "name": "stdout",
     "output_type": "stream",
     "text": [
      "[Telescope] delta Alt = +000.066 deg; delta Az= -000.000 deg; delta N1 = -000.000 deg; delta N2 = -054.770 deg \n"
     ]
    },
    {
     "name": "stderr",
     "output_type": "stream",
     "text": [
      "INFO:ATCS:[Telescope] delta Alt = -000.000 deg; delta Az= -000.000 deg; delta N1 = -000.000 deg; delta N2 = -048.766 deg \n"
     ]
    },
    {
     "name": "stdout",
     "output_type": "stream",
     "text": [
      "[Telescope] delta Alt = -000.000 deg; delta Az= -000.000 deg; delta N1 = -000.000 deg; delta N2 = -048.766 deg \n"
     ]
    },
    {
     "name": "stderr",
     "output_type": "stream",
     "text": [
      "INFO:ATCS:[Telescope] delta Alt = -000.000 deg; delta Az= -000.000 deg; delta N1 = +000.000 deg; delta N2 = -042.777 deg \n"
     ]
    },
    {
     "name": "stdout",
     "output_type": "stream",
     "text": [
      "[Telescope] delta Alt = -000.000 deg; delta Az= -000.000 deg; delta N1 = +000.000 deg; delta N2 = -042.777 deg \n"
     ]
    },
    {
     "name": "stderr",
     "output_type": "stream",
     "text": [
      "INFO:ATCS:[Telescope] delta Alt = +000.000 deg; delta Az= -000.000 deg; delta N1 = +000.000 deg; delta N2 = -036.759 deg \n"
     ]
    },
    {
     "name": "stdout",
     "output_type": "stream",
     "text": [
      "[Telescope] delta Alt = +000.000 deg; delta Az= -000.000 deg; delta N1 = +000.000 deg; delta N2 = -036.759 deg \n"
     ]
    },
    {
     "name": "stderr",
     "output_type": "stream",
     "text": [
      "INFO:ATCS:[Telescope] delta Alt = +000.000 deg; delta Az= -000.000 deg; delta N1 = +000.000 deg; delta N2 = -030.770 deg \n"
     ]
    },
    {
     "name": "stdout",
     "output_type": "stream",
     "text": [
      "[Telescope] delta Alt = +000.000 deg; delta Az= -000.000 deg; delta N1 = +000.000 deg; delta N2 = -030.770 deg \n"
     ]
    },
    {
     "name": "stderr",
     "output_type": "stream",
     "text": [
      "INFO:ATCS:[Telescope] delta Alt = +000.000 deg; delta Az= -000.000 deg; delta N1 = -000.000 deg; delta N2 = -024.780 deg \n"
     ]
    },
    {
     "name": "stdout",
     "output_type": "stream",
     "text": [
      "[Telescope] delta Alt = +000.000 deg; delta Az= -000.000 deg; delta N1 = -000.000 deg; delta N2 = -024.780 deg \n"
     ]
    },
    {
     "name": "stderr",
     "output_type": "stream",
     "text": [
      "INFO:ATCS:[Telescope] delta Alt = +000.000 deg; delta Az= -000.000 deg; delta N1 = -000.000 deg; delta N2 = -020.824 deg \n"
     ]
    },
    {
     "name": "stdout",
     "output_type": "stream",
     "text": [
      "[Telescope] delta Alt = +000.000 deg; delta Az= -000.000 deg; delta N1 = -000.000 deg; delta N2 = -020.824 deg \n"
     ]
    },
    {
     "name": "stderr",
     "output_type": "stream",
     "text": [
      "INFO:ATCS:[Telescope] delta Alt = -000.000 deg; delta Az= -000.000 deg; delta N1 = -000.000 deg; delta N2 = -017.005 deg \n"
     ]
    },
    {
     "name": "stdout",
     "output_type": "stream",
     "text": [
      "[Telescope] delta Alt = -000.000 deg; delta Az= -000.000 deg; delta N1 = -000.000 deg; delta N2 = -017.005 deg \n"
     ]
    },
    {
     "name": "stderr",
     "output_type": "stream",
     "text": [
      "INFO:ATCS:[Telescope] delta Alt = -000.000 deg; delta Az= -000.000 deg; delta N1 = +000.000 deg; delta N2 = -011.680 deg \n"
     ]
    },
    {
     "name": "stdout",
     "output_type": "stream",
     "text": [
      "[Telescope] delta Alt = -000.000 deg; delta Az= -000.000 deg; delta N1 = +000.000 deg; delta N2 = -011.680 deg \n"
     ]
    },
    {
     "name": "stderr",
     "output_type": "stream",
     "text": [
      "INFO:ATCS:[Telescope] delta Alt = -000.000 deg; delta Az= -000.000 deg; delta N1 = +000.000 deg; delta N2 = -007.145 deg \n"
     ]
    },
    {
     "name": "stdout",
     "output_type": "stream",
     "text": [
      "[Telescope] delta Alt = -000.000 deg; delta Az= -000.000 deg; delta N1 = +000.000 deg; delta N2 = -007.145 deg \n"
     ]
    },
    {
     "name": "stderr",
     "output_type": "stream",
     "text": [
      "INFO:ATCS:[Telescope] delta Alt = -000.000 deg; delta Az= -000.000 deg; delta N1 = -000.000 deg; delta N2 = -004.700 deg \n"
     ]
    },
    {
     "name": "stdout",
     "output_type": "stream",
     "text": [
      "[Telescope] delta Alt = -000.000 deg; delta Az= -000.000 deg; delta N1 = -000.000 deg; delta N2 = -004.700 deg \n"
     ]
    },
    {
     "name": "stderr",
     "output_type": "stream",
     "text": [
      "INFO:ATCS:[Telescope] delta Alt = -000.000 deg; delta Az= +000.000 deg; delta N1 = +000.000 deg; delta N2 = -002.012 deg \n"
     ]
    },
    {
     "name": "stdout",
     "output_type": "stream",
     "text": [
      "[Telescope] delta Alt = -000.000 deg; delta Az= +000.000 deg; delta N1 = +000.000 deg; delta N2 = -002.012 deg \n"
     ]
    },
    {
     "name": "stderr",
     "output_type": "stream",
     "text": [
      "INFO:ATCS:[Telescope] delta Alt = +000.000 deg; delta Az= -000.000 deg; delta N1 = +000.000 deg; delta N2 = -000.895 deg \n"
     ]
    },
    {
     "name": "stdout",
     "output_type": "stream",
     "text": [
      "[Telescope] delta Alt = +000.000 deg; delta Az= -000.000 deg; delta N1 = +000.000 deg; delta N2 = -000.895 deg \n"
     ]
    },
    {
     "name": "stderr",
     "output_type": "stream",
     "text": [
      "INFO:ATCS:[Telescope] delta Alt = +000.000 deg; delta Az= +000.000 deg; delta N1 = -000.000 deg; delta N2 = -000.110 deg \n"
     ]
    },
    {
     "name": "stdout",
     "output_type": "stream",
     "text": [
      "[Telescope] delta Alt = +000.000 deg; delta Az= +000.000 deg; delta N1 = -000.000 deg; delta N2 = -000.110 deg \n"
     ]
    },
    {
     "name": "stderr",
     "output_type": "stream",
     "text": [
      "INFO:ATCS:[Telescope] delta Alt = -000.000 deg; delta Az= -000.000 deg; delta N1 = +000.000 deg; delta N2 = +000.001 deg \n"
     ]
    },
    {
     "name": "stdout",
     "output_type": "stream",
     "text": [
      "[Telescope] delta Alt = -000.000 deg; delta Az= -000.000 deg; delta N1 = +000.000 deg; delta N2 = +000.001 deg \n"
     ]
    },
    {
     "name": "stderr",
     "output_type": "stream",
     "text": [
      "INFO:ATCS:Got True\n"
     ]
    },
    {
     "name": "stdout",
     "output_type": "stream",
     "text": [
      "Got True\n"
     ]
    },
    {
     "name": "stderr",
     "output_type": "stream",
     "text": [
      "INFO:ATCS:Waiting for telescope to settle.\n"
     ]
    },
    {
     "name": "stdout",
     "output_type": "stream",
     "text": [
      "Waiting for telescope to settle.\n"
     ]
    },
    {
     "name": "stderr",
     "output_type": "stream",
     "text": [
      "DEBUG:ATCS:Axes in position.\n"
     ]
    },
    {
     "name": "stdout",
     "output_type": "stream",
     "text": [
      "Axes in position.\n"
     ]
    },
    {
     "name": "stderr",
     "output_type": "stream",
     "text": [
      "DEBUG:ATCS:Stop tracking.\n"
     ]
    },
    {
     "name": "stdout",
     "output_type": "stream",
     "text": [
      "Stop tracking.\n"
     ]
    },
    {
     "name": "stderr",
     "output_type": "stream",
     "text": [
      "DEBUG:ATCS:Tracking state: <AtMountState.TRACKINGENABLED: 9>\n"
     ]
    },
    {
     "name": "stdout",
     "output_type": "stream",
     "text": [
      "Tracking state: <AtMountState.TRACKINGENABLED: 9>\n"
     ]
    },
    {
     "name": "stderr",
     "output_type": "stream",
     "text": [
      "DEBUG:ATCS:Tracking state: <AtMountState.STOPPING: 10>\n"
     ]
    },
    {
     "name": "stdout",
     "output_type": "stream",
     "text": [
      "Tracking state: <AtMountState.STOPPING: 10>\n"
     ]
    },
    {
     "name": "stderr",
     "output_type": "stream",
     "text": [
      "DEBUG:ATCS:In Position: True.\n"
     ]
    },
    {
     "name": "stdout",
     "output_type": "stream",
     "text": [
      "In Position: True.\n"
     ]
    },
    {
     "name": "stderr",
     "output_type": "stream",
     "text": [
      "INFO:ATCS:Put CSCs in standby\n"
     ]
    },
    {
     "name": "stdout",
     "output_type": "stream",
     "text": [
      "Put CSCs in standby\n"
     ]
    },
    {
     "name": "stderr",
     "output_type": "stream",
     "text": [
      "DEBUG:ATCS:[atmcs]::[<State.ENABLED: 2>, <State.DISABLED: 1>, <State.STANDBY: 5>]\n"
     ]
    },
    {
     "name": "stdout",
     "output_type": "stream",
     "text": [
      "[atmcs]::[<State.ENABLED: 2>, <State.DISABLED: 1>, <State.STANDBY: 5>]\n"
     ]
    },
    {
     "name": "stderr",
     "output_type": "stream",
     "text": [
      "DEBUG:ATCS:[atptg]::[<State.ENABLED: 2>, <State.DISABLED: 1>, <State.STANDBY: 5>]\n"
     ]
    },
    {
     "name": "stdout",
     "output_type": "stream",
     "text": [
      "[atptg]::[<State.ENABLED: 2>, <State.DISABLED: 1>, <State.STANDBY: 5>]\n"
     ]
    },
    {
     "name": "stderr",
     "output_type": "stream",
     "text": [
      "DEBUG:ATCS:[ataos]::[<State.ENABLED: 2>, <State.DISABLED: 1>, <State.STANDBY: 5>]\n"
     ]
    },
    {
     "name": "stdout",
     "output_type": "stream",
     "text": [
      "[ataos]::[<State.ENABLED: 2>, <State.DISABLED: 1>, <State.STANDBY: 5>]\n"
     ]
    },
    {
     "name": "stderr",
     "output_type": "stream",
     "text": [
      "DEBUG:ATCS:[atpneumatics]::[<State.ENABLED: 2>, <State.DISABLED: 1>, <State.STANDBY: 5>]\n"
     ]
    },
    {
     "name": "stdout",
     "output_type": "stream",
     "text": [
      "[atpneumatics]::[<State.ENABLED: 2>, <State.DISABLED: 1>, <State.STANDBY: 5>]\n"
     ]
    },
    {
     "name": "stderr",
     "output_type": "stream",
     "text": [
      "DEBUG:ATCS:[athexapod]::[<State.ENABLED: 2>, <State.DISABLED: 1>, <State.STANDBY: 5>]\n"
     ]
    },
    {
     "name": "stdout",
     "output_type": "stream",
     "text": [
      "[athexapod]::[<State.ENABLED: 2>, <State.DISABLED: 1>, <State.STANDBY: 5>]\n"
     ]
    },
    {
     "name": "stderr",
     "output_type": "stream",
     "text": [
      "DEBUG:ATCS:[atdome]::<State.STANDBY: 5>\n"
     ]
    },
    {
     "name": "stdout",
     "output_type": "stream",
     "text": [
      "[atdome]::<State.STANDBY: 5>\n"
     ]
    },
    {
     "name": "stderr",
     "output_type": "stream",
     "text": [
      "DEBUG:ATCS:[atdometrajectory]::<State.STANDBY: 5>\n"
     ]
    },
    {
     "name": "stdout",
     "output_type": "stream",
     "text": [
      "[atdometrajectory]::<State.STANDBY: 5>\n"
     ]
    },
    {
     "name": "stderr",
     "output_type": "stream",
     "text": [
      "INFO:ATCS:All components in <State.STANDBY: 5>.\n"
     ]
    },
    {
     "name": "stdout",
     "output_type": "stream",
     "text": [
      "All components in <State.STANDBY: 5>.\n"
     ]
    }
   ],
   "source": [
    "# Putting everything back in standby.\n",
    "await atcs.shutdown()"
   ]
  },
  {
   "cell_type": "markdown",
   "metadata": {},
   "source": [
    "# Results  \n"
   ]
  },
  {
   "cell_type": "markdown",
   "metadata": {},
   "source": [
    "Results from the different tests will be printed below.\n",
    "Each test contains the slew start, end times and duration, with the first column representing the slew start time, the second the\n",
    "slew end time and the third column the duration in seconds. "
   ]
  },
  {
   "cell_type": "code",
   "execution_count": 45,
   "metadata": {},
   "outputs": [
    {
     "name": "stdout",
     "output_type": "stream",
     "text": [
      "Start of slew, End of Slew, Slew (+ Settle) duration (seconds) \n",
      "\n",
      "Small Slew and Settle 1. Origin position is AZ 45 and EL 60 at Fri Oct  8 02:45:44 2021\n",
      "[<Time object: scale='tai' format='fits' value=2021-10-08T02:44:35.216>, <Time object: scale='tai' format='fits' value=2021-10-08T02:44:48.607>, 13.391593999996587]\n",
      "[<Time object: scale='tai' format='fits' value=2021-10-08T02:44:48.611>, <Time object: scale='tai' format='fits' value=2021-10-08T02:45:02.008>, 13.397243000003556]\n",
      "[<Time object: scale='tai' format='fits' value=2021-10-08T02:45:14.758>, <Time object: scale='tai' format='fits' value=2021-10-08T02:45:28.152>, 13.393906999996119]\n",
      "[<Time object: scale='tai' format='fits' value=2021-10-08T02:45:28.155>, <Time object: scale='tai' format='fits' value=2021-10-08T02:45:41.548>, 13.39312399999848]\n",
      "[<Time object: scale='tai' format='fits' value=2021-10-08T02:45:54.414>, <Time object: scale='tai' format='fits' value=2021-10-08T02:46:07.848>, 13.434100999993248]\n",
      "[<Time object: scale='tai' format='fits' value=2021-10-08T02:46:07.851>, <Time object: scale='tai' format='fits' value=2021-10-08T02:46:21.239>, 13.388140999998654]\n",
      "\n",
      "Small Slew and Settle 2. Origin position is AZ 230 and EL 45 at Fri Oct  8 02:54:52 2021\n",
      "[<Time object: scale='tai' format='fits' value=2021-10-08T02:54:17.663>, <Time object: scale='tai' format='fits' value=2021-10-08T02:54:32.657>, 14.993215999987797]\n",
      "[<Time object: scale='tai' format='fits' value=2021-10-08T02:54:32.660>, <Time object: scale='tai' format='fits' value=2021-10-08T02:54:47.747>, 15.08704499999105]\n",
      "[<Time object: scale='tai' format='fits' value=2021-10-08T02:55:00.460>, <Time object: scale='tai' format='fits' value=2021-10-08T02:55:14.234>, 13.77344600000363]\n",
      "[<Time object: scale='tai' format='fits' value=2021-10-08T02:55:14.236>, <Time object: scale='tai' format='fits' value=2021-10-08T02:55:29.350>, 15.113274000002974]\n",
      "\n",
      "Small Slew and Settle 3. Origin position is AZ 0 and EL 70 at Fri Oct  8 03:19:09 2021\n",
      "[<Time object: scale='tai' format='fits' value=2021-10-08T03:18:39.652>, <Time object: scale='tai' format='fits' value=2021-10-08T03:18:53.001>, 13.348570000005111]\n",
      "[<Time object: scale='tai' format='fits' value=2021-10-08T03:18:53.003>, <Time object: scale='tai' format='fits' value=2021-10-08T03:19:06.410>, 13.406545999996311]\n",
      "[<Time object: scale='tai' format='fits' value=2021-10-08T03:19:19.507>, <Time object: scale='tai' format='fits' value=2021-10-08T03:19:32.852>, 13.344979999995843]\n",
      "[<Time object: scale='tai' format='fits' value=2021-10-08T03:19:32.856>, <Time object: scale='tai' format='fits' value=2021-10-08T03:19:46.296>, 13.440745000005805]\n"
     ]
    }
   ],
   "source": [
    "with open('SmallSlewandSettleTime.txt', 'r') as f:\n",
    "    print(f.read())\n"
   ]
  },
  {
   "cell_type": "markdown",
   "metadata": {},
   "source": [
    "# Conclusion"
   ]
  },
  {
   "cell_type": "markdown",
   "metadata": {},
   "source": [
    "***\n",
    "The time spent in a small slew and settle (10 degrees change in azimuth and elevation) has been examined with slews originating\n",
    "in three different points in the pointing range: azimuth and elevation (45, 60), (230, 45) and (0, 70) degrees. \n",
    "\n",
    "None of these slew tests have met the maximum alloted 10 seconds requirement specified in AuxTel LTS-337-015 (Small Slew and Settle).\n",
    "AuxTel devoted at least 13 seconds to perform a slew and settle of 10 degrees in azimuth and elevation. "
   ]
  }
 ],
 "metadata": {
  "kernelspec": {
   "display_name": "LSST",
   "language": "python",
   "name": "lsst"
  },
  "language_info": {
   "codemirror_mode": {
    "name": "ipython",
    "version": 3
   },
   "file_extension": ".py",
   "mimetype": "text/x-python",
   "name": "python",
   "nbconvert_exporter": "python",
   "pygments_lexer": "ipython3",
   "version": "3.8.12"
  },
  "toc-autonumbering": true,
  "toc-showmarkdowntxt": false
 },
 "nbformat": 4,
 "nbformat_minor": 4
}
