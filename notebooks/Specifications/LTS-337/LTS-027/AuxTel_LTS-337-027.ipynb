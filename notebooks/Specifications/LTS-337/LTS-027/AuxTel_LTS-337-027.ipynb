{
 "cells": [
  {
   "cell_type": "markdown",
   "metadata": {
    "tags": []
   },
   "source": [
    "AuxTel test LTS-337-027 (Auxiliary Telescope Dome Rotation Requirement)\n",
    "\n",
    "Specification: None of the upgrades or modifications of the Auxiliary telescope shall degrade its total image quality. The total telescope image quality degradation shall not exceed the existing telescope system image quality value Aux_Tel_Tel_IQ at any point in the central 5 by 5 arcminutes of the field of view. The image quality shall be measured over a 5 minute guided exposure.\n",
    "\n",
    "Discussion: The overall image quality budget 0.35\"FWHM to the Auxiliary Telescope median delivered PSF. \n",
    "\n",
    "| Description | Value       | Unit          |   Name     |\n",
    "| :---        |    :----:   |       :----:  |       ---: |\n",
    "|The Auxiliary Telescope shall deliver this image quality contribution to the median delivered PSF: | 0.35       | ArcsecFWHM   |Aux_Tel_Tel_IQ|\n",
    "\n",
    "\n",
    "This notebook is divided into 6 sections:\n",
    "1. Notebook setup\n",
    "2. 75 degree elevation IQ\n",
    "3. 35 degree elevation IQ\n",
    "7. Conclusion. "
   ]
  },
  {
   "cell_type": "markdown",
   "metadata": {
    "tags": []
   },
   "source": [
    "# Notebook setup "
   ]
  },
  {
   "cell_type": "code",
   "execution_count": 16,
   "metadata": {},
   "outputs": [
    {
     "name": "stderr",
     "output_type": "stream",
     "text": [
      "\n",
      "WARNING: version mismatch between CFITSIO header (v4.000999999999999) and linked library (v4.01).\n",
      "\n",
      "\n",
      "WARNING: version mismatch between CFITSIO header (v4.000999999999999) and linked library (v4.01).\n",
      "\n",
      "\n",
      "WARNING: version mismatch between CFITSIO header (v4.000999999999999) and linked library (v4.01).\n",
      "\n"
     ]
    },
    {
     "data": {
      "text/html": [
       "<pre style=\"margin: 0.1em;\n",
       "padding-left: 0.25em;\n",
       "border-left-style: solid;\n",
       "font-family: var(--jp-code-font-family);\n",
       "font-size: var(--jp-code-font-size);\n",
       "line-height: var(--jp-code-line-height);\n",
       "\"><span style=\"color: var(--jp-warn-color2)\">lsst.daf.butler.core.config</span> <span style=\"color: var(--jp-success-color0)\">DEBUG</span>: Opening YAML config file: resource://lsst.daf.butler/configs/storageClasses.yaml</pre>"
      ],
      "text/plain": [
       "<IPython.core.display.HTML object>"
      ]
     },
     "metadata": {},
     "output_type": "display_data"
    },
    {
     "data": {
      "text/html": [
       "<pre style=\"margin: 0.1em;\n",
       "padding-left: 0.25em;\n",
       "border-left-style: solid;\n",
       "font-family: var(--jp-code-font-family);\n",
       "font-size: var(--jp-code-font-size);\n",
       "line-height: var(--jp-code-line-height);\n",
       "\"><span style=\"color: var(--jp-warn-color2)\">lsst.daf.butler.core.config</span> <span style=\"color: var(--jp-success-color0)\">DEBUG</span>: Opening YAML config file: resource://lsst.daf.butler/configs/storageClasses.yaml</pre>"
      ],
      "text/plain": [
       "<IPython.core.display.HTML object>"
      ]
     },
     "metadata": {},
     "output_type": "display_data"
    },
    {
     "data": {
      "text/html": [
       "<pre style=\"margin: 0.1em;\n",
       "padding-left: 0.25em;\n",
       "border-left-style: solid;\n",
       "font-family: var(--jp-code-font-family);\n",
       "font-size: var(--jp-code-font-size);\n",
       "line-height: var(--jp-code-line-height);\n",
       "\"><span style=\"color: var(--jp-warn-color2)\">matplotlib.pyplot</span> <span style=\"color: var(--jp-success-color0)\">DEBUG</span>: Loaded backend agg version unknown.</pre>"
      ],
      "text/plain": [
       "<IPython.core.display.HTML object>"
      ]
     },
     "metadata": {},
     "output_type": "display_data"
    }
   ],
   "source": [
    "import numpy as np\n",
    "from astropy import units as u\n",
    "from matplotlib import pyplot as plt\n",
    "from datetime import datetime, date\n",
    "from astropy.time import Time, TimeDelta\n",
    "\n",
    "import lsst.daf.butler as dafButler\n",
    "from lsst.summit.utils import BestEffortIsr\n",
    "from lsst.pipe.tasks.quickFrameMeasurement import QuickFrameMeasurementTask\n",
    "from lsst.pipe.tasks.characterizeImage import CharacterizeImageTask\n",
    "from lsst.meas.algorithms.installGaussianPsf import InstallGaussianPsfConfig\n",
    "from lsst.pex.exceptions import InvalidParameterError\n",
    "from lsst.ts.observatory.control.constants import latiss_constants\n",
    "from lsst.geom import PointD\n",
    "# below is an unused import, but is required to use the `psfex` fitter\n",
    "import lsst.meas.extensions.psfex.psfexPsfDeterminer # noqa: F401\n",
    "\n",
    "%matplotlib inline"
   ]
  },
  {
   "cell_type": "code",
   "execution_count": 17,
   "metadata": {},
   "outputs": [
    {
     "name": "stdout",
     "output_type": "stream",
     "text": [
      "AuxTel_LTS-337-014_220608.txt\n"
     ]
    }
   ],
   "source": [
    "# Enter the filename where to save the results.\n",
    "filename = 'AuxTel_LTS-337-014_' + date.today().strftime(\"%y%m%d\") + '.txt'\n",
    "print(filename)"
   ]
  },
  {
   "cell_type": "markdown",
   "metadata": {},
   "source": [
    "#### Declare butler repo parameters"
   ]
  },
  {
   "cell_type": "code",
   "execution_count": 18,
   "metadata": {},
   "outputs": [
    {
     "data": {
      "text/html": [
       "<pre style=\"margin: 0.1em;\n",
       "padding-left: 0.25em;\n",
       "border-left-style: solid;\n",
       "font-family: var(--jp-code-font-family);\n",
       "font-size: var(--jp-code-font-size);\n",
       "line-height: var(--jp-code-line-height);\n",
       "\"><span style=\"color: var(--jp-warn-color2)\">lsst.daf.butler.core.config</span> <span style=\"color: var(--jp-success-color0)\">DEBUG</span>: Opening YAML config file: file:///project/data-repos.yaml</pre>"
      ],
      "text/plain": [
       "<IPython.core.display.HTML object>"
      ]
     },
     "metadata": {},
     "output_type": "display_data"
    },
    {
     "data": {
      "text/html": [
       "<pre style=\"margin: 0.1em;\n",
       "padding-left: 0.25em;\n",
       "border-left-style: solid;\n",
       "font-family: var(--jp-code-font-family);\n",
       "font-size: var(--jp-code-font-size);\n",
       "line-height: var(--jp-code-line-height);\n",
       "\"><span style=\"color: var(--jp-warn-color2)\">lsst.daf.butler.core.config</span> <span style=\"color: var(--jp-success-color0)\">DEBUG</span>: Opening YAML config file: file:///repo/LATISS/butler.yaml</pre>"
      ],
      "text/plain": [
       "<IPython.core.display.HTML object>"
      ]
     },
     "metadata": {},
     "output_type": "display_data"
    },
    {
     "data": {
      "text/html": [
       "<pre style=\"margin: 0.1em;\n",
       "padding-left: 0.25em;\n",
       "border-left-style: solid;\n",
       "font-family: var(--jp-code-font-family);\n",
       "font-size: var(--jp-code-font-size);\n",
       "line-height: var(--jp-code-line-height);\n",
       "\"><span style=\"color: var(--jp-warn-color2)\">lsst.daf.butler.core.config</span> <span style=\"color: var(--jp-success-color0)\">DEBUG</span>: Opening YAML config file: resource://lsst.daf.butler/configs/registry.yaml</pre>"
      ],
      "text/plain": [
       "<IPython.core.display.HTML object>"
      ]
     },
     "metadata": {},
     "output_type": "display_data"
    },
    {
     "data": {
      "text/html": [
       "<pre style=\"margin: 0.1em;\n",
       "padding-left: 0.25em;\n",
       "border-left-style: solid;\n",
       "font-family: var(--jp-code-font-family);\n",
       "font-size: var(--jp-code-font-size);\n",
       "line-height: var(--jp-code-line-height);\n",
       "\"><span style=\"color: var(--jp-warn-color2)\">lsst.daf.butler.core.config</span> <span style=\"color: var(--jp-success-color0)\">DEBUG</span>: Opening YAML config file: resource://lsst.daf.butler/configs/storageClasses.yaml</pre>"
      ],
      "text/plain": [
       "<IPython.core.display.HTML object>"
      ]
     },
     "metadata": {},
     "output_type": "display_data"
    },
    {
     "data": {
      "text/html": [
       "<pre style=\"margin: 0.1em;\n",
       "padding-left: 0.25em;\n",
       "border-left-style: solid;\n",
       "font-family: var(--jp-code-font-family);\n",
       "font-size: var(--jp-code-font-size);\n",
       "line-height: var(--jp-code-line-height);\n",
       "\"><span style=\"color: var(--jp-warn-color2)\">lsst.daf.butler.core.config</span> <span style=\"color: var(--jp-success-color0)\">DEBUG</span>: Opening YAML config file: resource://lsst.daf.butler/configs/datastore.yaml</pre>"
      ],
      "text/plain": [
       "<IPython.core.display.HTML object>"
      ]
     },
     "metadata": {},
     "output_type": "display_data"
    },
    {
     "data": {
      "text/html": [
       "<pre style=\"margin: 0.1em;\n",
       "padding-left: 0.25em;\n",
       "border-left-style: solid;\n",
       "font-family: var(--jp-code-font-family);\n",
       "font-size: var(--jp-code-font-size);\n",
       "line-height: var(--jp-code-line-height);\n",
       "\"><span style=\"color: var(--jp-warn-color2)\">lsst.daf.butler.core.config</span> <span style=\"color: var(--jp-success-color0)\">DEBUG</span>: Opening YAML config file: resource://lsst.daf.butler/configs/datastores/fileDatastore.yaml</pre>"
      ],
      "text/plain": [
       "<IPython.core.display.HTML object>"
      ]
     },
     "metadata": {},
     "output_type": "display_data"
    },
    {
     "data": {
      "text/html": [
       "<pre style=\"margin: 0.1em;\n",
       "padding-left: 0.25em;\n",
       "border-left-style: solid;\n",
       "font-family: var(--jp-code-font-family);\n",
       "font-size: var(--jp-code-font-size);\n",
       "line-height: var(--jp-code-line-height);\n",
       "\"><span style=\"color: var(--jp-warn-color2)\">lsst.daf.butler.core.config</span> <span style=\"color: var(--jp-success-color0)\">DEBUG</span>: Opening YAML file via !include: resource://lsst.daf.butler/configs/datastores/formatters.yaml</pre>"
      ],
      "text/plain": [
       "<IPython.core.display.HTML object>"
      ]
     },
     "metadata": {},
     "output_type": "display_data"
    },
    {
     "data": {
      "text/html": [
       "<pre style=\"margin: 0.1em;\n",
       "padding-left: 0.25em;\n",
       "border-left-style: solid;\n",
       "font-family: var(--jp-code-font-family);\n",
       "font-size: var(--jp-code-font-size);\n",
       "line-height: var(--jp-code-line-height);\n",
       "\"><span style=\"color: var(--jp-warn-color2)\">lsst.daf.butler.core.config</span> <span style=\"color: var(--jp-success-color0)\">DEBUG</span>: Opening YAML file via !include: resource://lsst.daf.butler/configs/datastores/writeRecipes.yaml</pre>"
      ],
      "text/plain": [
       "<IPython.core.display.HTML object>"
      ]
     },
     "metadata": {},
     "output_type": "display_data"
    },
    {
     "data": {
      "text/html": [
       "<pre style=\"margin: 0.1em;\n",
       "padding-left: 0.25em;\n",
       "border-left-style: solid;\n",
       "font-family: var(--jp-code-font-family);\n",
       "font-size: var(--jp-code-font-size);\n",
       "line-height: var(--jp-code-line-height);\n",
       "\"><span style=\"color: var(--jp-warn-color2)\">lsst.daf.butler.core.config</span> <span style=\"color: var(--jp-success-color0)\">DEBUG</span>: Opening YAML file via !include: resource://lsst.daf.butler/configs/datastores/composites.yaml</pre>"
      ],
      "text/plain": [
       "<IPython.core.display.HTML object>"
      ]
     },
     "metadata": {},
     "output_type": "display_data"
    },
    {
     "data": {
      "text/html": [
       "<pre style=\"margin: 0.1em;\n",
       "padding-left: 0.25em;\n",
       "border-left-style: solid;\n",
       "font-family: var(--jp-code-font-family);\n",
       "font-size: var(--jp-code-font-size);\n",
       "line-height: var(--jp-code-line-height);\n",
       "\"><span style=\"color: var(--jp-warn-color2)\">lsst.daf.butler.core.config</span> <span style=\"color: var(--jp-success-color0)\">DEBUG</span>: Opening YAML config file: resource://lsst.daf.butler/configs/repo_transfer_formats.yaml</pre>"
      ],
      "text/plain": [
       "<IPython.core.display.HTML object>"
      ]
     },
     "metadata": {},
     "output_type": "display_data"
    },
    {
     "data": {
      "text/html": [
       "<pre style=\"margin: 0.1em;\n",
       "padding-left: 0.25em;\n",
       "border-left-style: solid;\n",
       "font-family: var(--jp-code-font-family);\n",
       "font-size: var(--jp-code-font-size);\n",
       "line-height: var(--jp-code-line-height);\n",
       "\"><span style=\"color: var(--jp-warn-color2)\">lsst.daf.butler.core.config</span> <span style=\"color: var(--jp-success-color0)\">DEBUG</span>: Opening YAML config file: file:///repo/LATISS/butler.yaml</pre>"
      ],
      "text/plain": [
       "<IPython.core.display.HTML object>"
      ]
     },
     "metadata": {},
     "output_type": "display_data"
    },
    {
     "data": {
      "text/html": [
       "<pre style=\"margin: 0.1em;\n",
       "padding-left: 0.25em;\n",
       "border-left-style: solid;\n",
       "font-family: var(--jp-code-font-family);\n",
       "font-size: var(--jp-code-font-size);\n",
       "line-height: var(--jp-code-line-height);\n",
       "\"><span style=\"color: var(--jp-warn-color2)\">lsst.daf.butler.core.config</span> <span style=\"color: var(--jp-success-color0)\">DEBUG</span>: Opening YAML config file: resource://lsst.daf.butler/configs/registry.yaml</pre>"
      ],
      "text/plain": [
       "<IPython.core.display.HTML object>"
      ]
     },
     "metadata": {},
     "output_type": "display_data"
    },
    {
     "data": {
      "text/html": [
       "<pre style=\"margin: 0.1em;\n",
       "padding-left: 0.25em;\n",
       "border-left-style: solid;\n",
       "font-family: var(--jp-code-font-family);\n",
       "font-size: var(--jp-code-font-size);\n",
       "line-height: var(--jp-code-line-height);\n",
       "\"><span style=\"color: var(--jp-warn-color2)\">lsst.daf.butler.core.config</span> <span style=\"color: var(--jp-success-color0)\">DEBUG</span>: Opening YAML config file: resource://lsst.daf.butler/configs/storageClasses.yaml</pre>"
      ],
      "text/plain": [
       "<IPython.core.display.HTML object>"
      ]
     },
     "metadata": {},
     "output_type": "display_data"
    },
    {
     "data": {
      "text/html": [
       "<pre style=\"margin: 0.1em;\n",
       "padding-left: 0.25em;\n",
       "border-left-style: solid;\n",
       "font-family: var(--jp-code-font-family);\n",
       "font-size: var(--jp-code-font-size);\n",
       "line-height: var(--jp-code-line-height);\n",
       "\"><span style=\"color: var(--jp-warn-color2)\">lsst.daf.butler.core.config</span> <span style=\"color: var(--jp-success-color0)\">DEBUG</span>: Opening YAML config file: resource://lsst.daf.butler/configs/datastore.yaml</pre>"
      ],
      "text/plain": [
       "<IPython.core.display.HTML object>"
      ]
     },
     "metadata": {},
     "output_type": "display_data"
    },
    {
     "data": {
      "text/html": [
       "<pre style=\"margin: 0.1em;\n",
       "padding-left: 0.25em;\n",
       "border-left-style: solid;\n",
       "font-family: var(--jp-code-font-family);\n",
       "font-size: var(--jp-code-font-size);\n",
       "line-height: var(--jp-code-line-height);\n",
       "\"><span style=\"color: var(--jp-warn-color2)\">lsst.daf.butler.core.config</span> <span style=\"color: var(--jp-success-color0)\">DEBUG</span>: Opening YAML config file: resource://lsst.daf.butler/configs/datastores/fileDatastore.yaml</pre>"
      ],
      "text/plain": [
       "<IPython.core.display.HTML object>"
      ]
     },
     "metadata": {},
     "output_type": "display_data"
    },
    {
     "data": {
      "text/html": [
       "<pre style=\"margin: 0.1em;\n",
       "padding-left: 0.25em;\n",
       "border-left-style: solid;\n",
       "font-family: var(--jp-code-font-family);\n",
       "font-size: var(--jp-code-font-size);\n",
       "line-height: var(--jp-code-line-height);\n",
       "\"><span style=\"color: var(--jp-warn-color2)\">lsst.daf.butler.core.config</span> <span style=\"color: var(--jp-success-color0)\">DEBUG</span>: Opening YAML file via !include: resource://lsst.daf.butler/configs/datastores/formatters.yaml</pre>"
      ],
      "text/plain": [
       "<IPython.core.display.HTML object>"
      ]
     },
     "metadata": {},
     "output_type": "display_data"
    },
    {
     "data": {
      "text/html": [
       "<pre style=\"margin: 0.1em;\n",
       "padding-left: 0.25em;\n",
       "border-left-style: solid;\n",
       "font-family: var(--jp-code-font-family);\n",
       "font-size: var(--jp-code-font-size);\n",
       "line-height: var(--jp-code-line-height);\n",
       "\"><span style=\"color: var(--jp-warn-color2)\">lsst.daf.butler.core.config</span> <span style=\"color: var(--jp-success-color0)\">DEBUG</span>: Opening YAML file via !include: resource://lsst.daf.butler/configs/datastores/writeRecipes.yaml</pre>"
      ],
      "text/plain": [
       "<IPython.core.display.HTML object>"
      ]
     },
     "metadata": {},
     "output_type": "display_data"
    },
    {
     "data": {
      "text/html": [
       "<pre style=\"margin: 0.1em;\n",
       "padding-left: 0.25em;\n",
       "border-left-style: solid;\n",
       "font-family: var(--jp-code-font-family);\n",
       "font-size: var(--jp-code-font-size);\n",
       "line-height: var(--jp-code-line-height);\n",
       "\"><span style=\"color: var(--jp-warn-color2)\">lsst.daf.butler.core.config</span> <span style=\"color: var(--jp-success-color0)\">DEBUG</span>: Opening YAML file via !include: resource://lsst.daf.butler/configs/datastores/composites.yaml</pre>"
      ],
      "text/plain": [
       "<IPython.core.display.HTML object>"
      ]
     },
     "metadata": {},
     "output_type": "display_data"
    },
    {
     "data": {
      "text/html": [
       "<pre style=\"margin: 0.1em;\n",
       "padding-left: 0.25em;\n",
       "border-left-style: solid;\n",
       "font-family: var(--jp-code-font-family);\n",
       "font-size: var(--jp-code-font-size);\n",
       "line-height: var(--jp-code-line-height);\n",
       "\"><span style=\"color: var(--jp-warn-color2)\">lsst.daf.butler.core.config</span> <span style=\"color: var(--jp-success-color0)\">DEBUG</span>: Opening YAML config file: resource://lsst.daf.butler/configs/repo_transfer_formats.yaml</pre>"
      ],
      "text/plain": [
       "<IPython.core.display.HTML object>"
      ]
     },
     "metadata": {},
     "output_type": "display_data"
    },
    {
     "data": {
      "text/html": [
       "<pre style=\"margin: 0.1em;\n",
       "padding-left: 0.25em;\n",
       "border-left-style: solid;\n",
       "font-family: var(--jp-code-font-family);\n",
       "font-size: var(--jp-code-font-size);\n",
       "line-height: var(--jp-code-line-height);\n",
       "\"><span style=\"color: var(--jp-warn-color2)\">lsst.daf.butler.core.config</span> <span style=\"color: var(--jp-success-color0)\">DEBUG</span>: Opening YAML config file: resource://lsst.daf.butler/configs/registry.yaml</pre>"
      ],
      "text/plain": [
       "<IPython.core.display.HTML object>"
      ]
     },
     "metadata": {},
     "output_type": "display_data"
    },
    {
     "data": {
      "text/html": [
       "<pre style=\"margin: 0.1em;\n",
       "padding-left: 0.25em;\n",
       "border-left-style: solid;\n",
       "font-family: var(--jp-code-font-family);\n",
       "font-size: var(--jp-code-font-size);\n",
       "line-height: var(--jp-code-line-height);\n",
       "\"><span style=\"color: var(--jp-warn-color2)\">lsst.daf.butler.core.config</span> <span style=\"color: var(--jp-success-color0)\">DEBUG</span>: Opening YAML config file: resource://lsst.daf.butler/configs/registry.yaml</pre>"
      ],
      "text/plain": [
       "<IPython.core.display.HTML object>"
      ]
     },
     "metadata": {},
     "output_type": "display_data"
    },
    {
     "data": {
      "text/html": [
       "<pre style=\"margin: 0.1em;\n",
       "padding-left: 0.25em;\n",
       "border-left-style: solid;\n",
       "font-family: var(--jp-code-font-family);\n",
       "font-size: var(--jp-code-font-size);\n",
       "line-height: var(--jp-code-line-height);\n",
       "\"><span style=\"color: var(--jp-warn-color2)\">lsst.daf.butler.core.config</span> <span style=\"color: var(--jp-success-color0)\">DEBUG</span>: Opening YAML config file: resource://lsst.daf.butler/configs/registry.yaml</pre>"
      ],
      "text/plain": [
       "<IPython.core.display.HTML object>"
      ]
     },
     "metadata": {},
     "output_type": "display_data"
    },
    {
     "data": {
      "text/html": [
       "<pre style=\"margin: 0.1em;\n",
       "padding-left: 0.25em;\n",
       "border-left-style: solid;\n",
       "font-family: var(--jp-code-font-family);\n",
       "font-size: var(--jp-code-font-size);\n",
       "line-height: var(--jp-code-line-height);\n",
       "\"><span style=\"color: var(--jp-warn-color2)\">lsst.daf.butler.core.config</span> <span style=\"color: var(--jp-success-color0)\">DEBUG</span>: Opening YAML config file: resource://lsst.daf.butler/configs/registry.yaml</pre>"
      ],
      "text/plain": [
       "<IPython.core.display.HTML object>"
      ]
     },
     "metadata": {},
     "output_type": "display_data"
    },
    {
     "data": {
      "text/html": [
       "<pre style=\"margin: 0.1em;\n",
       "padding-left: 0.25em;\n",
       "border-left-style: solid;\n",
       "font-family: var(--jp-code-font-family);\n",
       "font-size: var(--jp-code-font-size);\n",
       "line-height: var(--jp-code-line-height);\n",
       "\"><span style=\"color: var(--jp-warn-color2)\">lsst.daf.butler.registry.versions</span> <span style=\"color: var(--jp-success-color0)\">DEBUG</span>: found manager config config:registry.managers.attributes=lsst.daf.butler.registry.attributes.DefaultButlerAttributeManager</pre>"
      ],
      "text/plain": [
       "<IPython.core.display.HTML object>"
      ]
     },
     "metadata": {},
     "output_type": "display_data"
    },
    {
     "data": {
      "text/html": [
       "<pre style=\"margin: 0.1em;\n",
       "padding-left: 0.25em;\n",
       "border-left-style: solid;\n",
       "font-family: var(--jp-code-font-family);\n",
       "font-size: var(--jp-code-font-size);\n",
       "line-height: var(--jp-code-line-height);\n",
       "\"><span style=\"color: var(--jp-warn-color2)\">lsst.daf.butler.registry.versions</span> <span style=\"color: var(--jp-success-color0)\">DEBUG</span>: found manager version version:lsst.daf.butler.registry.attributes.DefaultButlerAttributeManager=1.0.0, current version 1.0.0</pre>"
      ],
      "text/plain": [
       "<IPython.core.display.HTML object>"
      ]
     },
     "metadata": {},
     "output_type": "display_data"
    },
    {
     "data": {
      "text/html": [
       "<pre style=\"margin: 0.1em;\n",
       "padding-left: 0.25em;\n",
       "border-left-style: solid;\n",
       "font-family: var(--jp-code-font-family);\n",
       "font-size: var(--jp-code-font-size);\n",
       "line-height: var(--jp-code-line-height);\n",
       "\"><span style=\"color: var(--jp-warn-color2)\">lsst.daf.butler.registry.versions</span> <span style=\"color: var(--jp-success-color0)\">DEBUG</span>: found manager config config:registry.managers.attributes=lsst.daf.butler.registry.attributes.DefaultButlerAttributeManager</pre>"
      ],
      "text/plain": [
       "<IPython.core.display.HTML object>"
      ]
     },
     "metadata": {},
     "output_type": "display_data"
    },
    {
     "data": {
      "text/html": [
       "<pre style=\"margin: 0.1em;\n",
       "padding-left: 0.25em;\n",
       "border-left-style: solid;\n",
       "font-family: var(--jp-code-font-family);\n",
       "font-size: var(--jp-code-font-size);\n",
       "line-height: var(--jp-code-line-height);\n",
       "\"><span style=\"color: var(--jp-warn-color2)\">lsst.daf.butler.registry.versions</span> <span style=\"color: var(--jp-success-color0)\">DEBUG</span>: found manager config config:registry.managers.dimensions=lsst.daf.butler.registry.dimensions.static.StaticDimensionRecordStorageManager</pre>"
      ],
      "text/plain": [
       "<IPython.core.display.HTML object>"
      ]
     },
     "metadata": {},
     "output_type": "display_data"
    },
    {
     "data": {
      "text/html": [
       "<pre style=\"margin: 0.1em;\n",
       "padding-left: 0.25em;\n",
       "border-left-style: solid;\n",
       "font-family: var(--jp-code-font-family);\n",
       "font-size: var(--jp-code-font-size);\n",
       "line-height: var(--jp-code-line-height);\n",
       "\"><span style=\"color: var(--jp-warn-color2)\">lsst.daf.butler.registry.versions</span> <span style=\"color: var(--jp-success-color0)\">DEBUG</span>: found manager config config:registry.managers.collections=lsst.daf.butler.registry.collections.synthIntKey.SynthIntKeyCollectionManager</pre>"
      ],
      "text/plain": [
       "<IPython.core.display.HTML object>"
      ]
     },
     "metadata": {},
     "output_type": "display_data"
    },
    {
     "data": {
      "text/html": [
       "<pre style=\"margin: 0.1em;\n",
       "padding-left: 0.25em;\n",
       "border-left-style: solid;\n",
       "font-family: var(--jp-code-font-family);\n",
       "font-size: var(--jp-code-font-size);\n",
       "line-height: var(--jp-code-line-height);\n",
       "\"><span style=\"color: var(--jp-warn-color2)\">lsst.daf.butler.registry.versions</span> <span style=\"color: var(--jp-success-color0)\">DEBUG</span>: found manager config config:registry.managers.datasets=lsst.daf.butler.registry.datasets.byDimensions._manager.ByDimensionsDatasetRecordStorageManagerUUID</pre>"
      ],
      "text/plain": [
       "<IPython.core.display.HTML object>"
      ]
     },
     "metadata": {},
     "output_type": "display_data"
    },
    {
     "data": {
      "text/html": [
       "<pre style=\"margin: 0.1em;\n",
       "padding-left: 0.25em;\n",
       "border-left-style: solid;\n",
       "font-family: var(--jp-code-font-family);\n",
       "font-size: var(--jp-code-font-size);\n",
       "line-height: var(--jp-code-line-height);\n",
       "\"><span style=\"color: var(--jp-warn-color2)\">lsst.daf.butler.registry.versions</span> <span style=\"color: var(--jp-success-color0)\">DEBUG</span>: found manager config config:registry.managers.opaque=lsst.daf.butler.registry.opaque.ByNameOpaqueTableStorageManager</pre>"
      ],
      "text/plain": [
       "<IPython.core.display.HTML object>"
      ]
     },
     "metadata": {},
     "output_type": "display_data"
    },
    {
     "data": {
      "text/html": [
       "<pre style=\"margin: 0.1em;\n",
       "padding-left: 0.25em;\n",
       "border-left-style: solid;\n",
       "font-family: var(--jp-code-font-family);\n",
       "font-size: var(--jp-code-font-size);\n",
       "line-height: var(--jp-code-line-height);\n",
       "\"><span style=\"color: var(--jp-warn-color2)\">lsst.daf.butler.registry.versions</span> <span style=\"color: var(--jp-success-color0)\">DEBUG</span>: found manager config config:registry.managers.datastores=lsst.daf.butler.registry.bridge.monolithic.MonolithicDatastoreRegistryBridgeManager</pre>"
      ],
      "text/plain": [
       "<IPython.core.display.HTML object>"
      ]
     },
     "metadata": {},
     "output_type": "display_data"
    },
    {
     "data": {
      "text/html": [
       "<pre style=\"margin: 0.1em;\n",
       "padding-left: 0.25em;\n",
       "border-left-style: solid;\n",
       "font-family: var(--jp-code-font-family);\n",
       "font-size: var(--jp-code-font-size);\n",
       "line-height: var(--jp-code-line-height);\n",
       "\"><span style=\"color: var(--jp-warn-color2)\">lsst.daf.butler.registry.versions</span> <span style=\"color: var(--jp-success-color0)\">DEBUG</span>: found manager version version:lsst.daf.butler.registry.attributes.DefaultButlerAttributeManager=1.0.0, current version 1.0.0</pre>"
      ],
      "text/plain": [
       "<IPython.core.display.HTML object>"
      ]
     },
     "metadata": {},
     "output_type": "display_data"
    },
    {
     "data": {
      "text/html": [
       "<pre style=\"margin: 0.1em;\n",
       "padding-left: 0.25em;\n",
       "border-left-style: solid;\n",
       "font-family: var(--jp-code-font-family);\n",
       "font-size: var(--jp-code-font-size);\n",
       "line-height: var(--jp-code-line-height);\n",
       "\"><span style=\"color: var(--jp-warn-color2)\">lsst.daf.butler.registry.versions</span> <span style=\"color: var(--jp-success-color0)\">DEBUG</span>: found manager version version:lsst.daf.butler.registry.dimensions.static.StaticDimensionRecordStorageManager=6.0.0, current version 6.0.1</pre>"
      ],
      "text/plain": [
       "<IPython.core.display.HTML object>"
      ]
     },
     "metadata": {},
     "output_type": "display_data"
    },
    {
     "data": {
      "text/html": [
       "<pre style=\"margin: 0.1em;\n",
       "padding-left: 0.25em;\n",
       "border-left-style: solid;\n",
       "font-family: var(--jp-code-font-family);\n",
       "font-size: var(--jp-code-font-size);\n",
       "line-height: var(--jp-code-line-height);\n",
       "\"><span style=\"color: var(--jp-warn-color2)\">lsst.daf.butler.registry.versions</span> <span style=\"color: var(--jp-success-color0)\">DEBUG</span>: found manager version version:lsst.daf.butler.registry.collections.synthIntKey.SynthIntKeyCollectionManager=2.0.0, current version 2.0.0</pre>"
      ],
      "text/plain": [
       "<IPython.core.display.HTML object>"
      ]
     },
     "metadata": {},
     "output_type": "display_data"
    },
    {
     "data": {
      "text/html": [
       "<pre style=\"margin: 0.1em;\n",
       "padding-left: 0.25em;\n",
       "border-left-style: solid;\n",
       "font-family: var(--jp-code-font-family);\n",
       "font-size: var(--jp-code-font-size);\n",
       "line-height: var(--jp-code-line-height);\n",
       "\"><span style=\"color: var(--jp-warn-color2)\">lsst.daf.butler.registry.versions</span> <span style=\"color: var(--jp-success-color0)\">DEBUG</span>: found manager version version:lsst.daf.butler.registry.datasets.byDimensions._manager.ByDimensionsDatasetRecordStorageManagerUUID=1.0.0, current version 1.0.0</pre>"
      ],
      "text/plain": [
       "<IPython.core.display.HTML object>"
      ]
     },
     "metadata": {},
     "output_type": "display_data"
    },
    {
     "data": {
      "text/html": [
       "<pre style=\"margin: 0.1em;\n",
       "padding-left: 0.25em;\n",
       "border-left-style: solid;\n",
       "font-family: var(--jp-code-font-family);\n",
       "font-size: var(--jp-code-font-size);\n",
       "line-height: var(--jp-code-line-height);\n",
       "\"><span style=\"color: var(--jp-warn-color2)\">lsst.daf.butler.registry.versions</span> <span style=\"color: var(--jp-success-color0)\">DEBUG</span>: found manager version version:lsst.daf.butler.registry.opaque.ByNameOpaqueTableStorageManager=0.2.0, current version 0.2.0</pre>"
      ],
      "text/plain": [
       "<IPython.core.display.HTML object>"
      ]
     },
     "metadata": {},
     "output_type": "display_data"
    },
    {
     "data": {
      "text/html": [
       "<pre style=\"margin: 0.1em;\n",
       "padding-left: 0.25em;\n",
       "border-left-style: solid;\n",
       "font-family: var(--jp-code-font-family);\n",
       "font-size: var(--jp-code-font-size);\n",
       "line-height: var(--jp-code-line-height);\n",
       "\"><span style=\"color: var(--jp-warn-color2)\">lsst.daf.butler.registry.versions</span> <span style=\"color: var(--jp-success-color0)\">DEBUG</span>: found manager version version:lsst.daf.butler.registry.bridge.monolithic.MonolithicDatastoreRegistryBridgeManager=0.2.0, current version 0.2.0</pre>"
      ],
      "text/plain": [
       "<IPython.core.display.HTML object>"
      ]
     },
     "metadata": {},
     "output_type": "display_data"
    },
    {
     "data": {
      "text/html": [
       "<pre style=\"margin: 0.1em;\n",
       "padding-left: 0.25em;\n",
       "border-left-style: solid;\n",
       "font-family: var(--jp-code-font-family);\n",
       "font-size: var(--jp-code-font-size);\n",
       "line-height: var(--jp-code-line-height);\n",
       "\"><span style=\"color: var(--jp-warn-color2)\">lsst.daf.butler.registry.versions</span> <span style=\"color: var(--jp-success-color0)\">DEBUG</span>: found manager schema digest schema_digest:lsst.daf.butler.registry.attributes.DefaultButlerAttributeManager=664d6a56d87b5ac890308a91a06cd145, current digest 664d6a56d87b5ac890308a91a06cd145</pre>"
      ],
      "text/plain": [
       "<IPython.core.display.HTML object>"
      ]
     },
     "metadata": {},
     "output_type": "display_data"
    },
    {
     "data": {
      "text/html": [
       "<pre style=\"margin: 0.1em;\n",
       "padding-left: 0.25em;\n",
       "border-left-style: solid;\n",
       "font-family: var(--jp-code-font-family);\n",
       "font-size: var(--jp-code-font-size);\n",
       "line-height: var(--jp-code-line-height);\n",
       "\"><span style=\"color: var(--jp-warn-color2)\">lsst.daf.butler.registry.versions</span> <span style=\"color: var(--jp-success-color0)\">DEBUG</span>: found manager schema digest schema_digest:lsst.daf.butler.registry.dimensions.static.StaticDimensionRecordStorageManager=83022175a1fbb71edd4f5243a1775146, current digest 83022175a1fbb71edd4f5243a1775146</pre>"
      ],
      "text/plain": [
       "<IPython.core.display.HTML object>"
      ]
     },
     "metadata": {},
     "output_type": "display_data"
    },
    {
     "data": {
      "text/html": [
       "<pre style=\"margin: 0.1em;\n",
       "padding-left: 0.25em;\n",
       "border-left-style: solid;\n",
       "font-family: var(--jp-code-font-family);\n",
       "font-size: var(--jp-code-font-size);\n",
       "line-height: var(--jp-code-line-height);\n",
       "\"><span style=\"color: var(--jp-warn-color2)\">lsst.daf.butler.registry.versions</span> <span style=\"color: var(--jp-success-color0)\">DEBUG</span>: found manager schema digest schema_digest:lsst.daf.butler.registry.collections.synthIntKey.SynthIntKeyCollectionManager=1d45208fb4ad1b51bed29321deb787de, current digest 1d45208fb4ad1b51bed29321deb787de</pre>"
      ],
      "text/plain": [
       "<IPython.core.display.HTML object>"
      ]
     },
     "metadata": {},
     "output_type": "display_data"
    },
    {
     "data": {
      "text/html": [
       "<pre style=\"margin: 0.1em;\n",
       "padding-left: 0.25em;\n",
       "border-left-style: solid;\n",
       "font-family: var(--jp-code-font-family);\n",
       "font-size: var(--jp-code-font-size);\n",
       "line-height: var(--jp-code-line-height);\n",
       "\"><span style=\"color: var(--jp-warn-color2)\">lsst.daf.butler.registry.versions</span> <span style=\"color: var(--jp-success-color0)\">DEBUG</span>: found manager schema digest schema_digest:lsst.daf.butler.registry.datasets.byDimensions._manager.ByDimensionsDatasetRecordStorageManagerUUID=338aa9bda15c2dc82ad04ac55e1b56bc, current digest 338aa9bda15c2dc82ad04ac55e1b56bc</pre>"
      ],
      "text/plain": [
       "<IPython.core.display.HTML object>"
      ]
     },
     "metadata": {},
     "output_type": "display_data"
    },
    {
     "data": {
      "text/html": [
       "<pre style=\"margin: 0.1em;\n",
       "padding-left: 0.25em;\n",
       "border-left-style: solid;\n",
       "font-family: var(--jp-code-font-family);\n",
       "font-size: var(--jp-code-font-size);\n",
       "line-height: var(--jp-code-line-height);\n",
       "\"><span style=\"color: var(--jp-warn-color2)\">lsst.daf.butler.registry.versions</span> <span style=\"color: var(--jp-success-color0)\">DEBUG</span>: found manager schema digest schema_digest:lsst.daf.butler.registry.opaque.ByNameOpaqueTableStorageManager=79a657af5cf15550e6d1f455ad4dd8c2, current digest 79a657af5cf15550e6d1f455ad4dd8c2</pre>"
      ],
      "text/plain": [
       "<IPython.core.display.HTML object>"
      ]
     },
     "metadata": {},
     "output_type": "display_data"
    },
    {
     "data": {
      "text/html": [
       "<pre style=\"margin: 0.1em;\n",
       "padding-left: 0.25em;\n",
       "border-left-style: solid;\n",
       "font-family: var(--jp-code-font-family);\n",
       "font-size: var(--jp-code-font-size);\n",
       "line-height: var(--jp-code-line-height);\n",
       "\"><span style=\"color: var(--jp-warn-color2)\">lsst.daf.butler.registry.versions</span> <span style=\"color: var(--jp-success-color0)\">DEBUG</span>: found manager schema digest schema_digest:lsst.daf.butler.registry.bridge.monolithic.MonolithicDatastoreRegistryBridgeManager=3558b84d12fa04082ffd6935e0488922, current digest 3558b84d12fa04082ffd6935e0488922</pre>"
      ],
      "text/plain": [
       "<IPython.core.display.HTML object>"
      ]
     },
     "metadata": {},
     "output_type": "display_data"
    },
    {
     "data": {
      "text/html": [
       "<pre style=\"margin: 0.1em;\n",
       "padding-left: 0.25em;\n",
       "border-left-style: solid;\n",
       "font-family: var(--jp-code-font-family);\n",
       "font-size: var(--jp-code-font-size);\n",
       "line-height: var(--jp-code-line-height);\n",
       "\"><span style=\"color: var(--jp-warn-color2)\">lsst.daf.butler.core.config</span> <span style=\"color: var(--jp-success-color0)\">DEBUG</span>: Opening YAML config file: resource://lsst.daf.butler/configs/datastore.yaml</pre>"
      ],
      "text/plain": [
       "<IPython.core.display.HTML object>"
      ]
     },
     "metadata": {},
     "output_type": "display_data"
    },
    {
     "data": {
      "text/html": [
       "<pre style=\"margin: 0.1em;\n",
       "padding-left: 0.25em;\n",
       "border-left-style: solid;\n",
       "font-family: var(--jp-code-font-family);\n",
       "font-size: var(--jp-code-font-size);\n",
       "line-height: var(--jp-code-line-height);\n",
       "\"><span style=\"color: var(--jp-warn-color2)\">lsst.daf.butler.core.config</span> <span style=\"color: var(--jp-success-color0)\">DEBUG</span>: Opening YAML config file: resource://lsst.daf.butler/configs/datastores/fileDatastore.yaml</pre>"
      ],
      "text/plain": [
       "<IPython.core.display.HTML object>"
      ]
     },
     "metadata": {},
     "output_type": "display_data"
    },
    {
     "data": {
      "text/html": [
       "<pre style=\"margin: 0.1em;\n",
       "padding-left: 0.25em;\n",
       "border-left-style: solid;\n",
       "font-family: var(--jp-code-font-family);\n",
       "font-size: var(--jp-code-font-size);\n",
       "line-height: var(--jp-code-line-height);\n",
       "\"><span style=\"color: var(--jp-warn-color2)\">lsst.daf.butler.core.config</span> <span style=\"color: var(--jp-success-color0)\">DEBUG</span>: Opening YAML file via !include: resource://lsst.daf.butler/configs/datastores/formatters.yaml</pre>"
      ],
      "text/plain": [
       "<IPython.core.display.HTML object>"
      ]
     },
     "metadata": {},
     "output_type": "display_data"
    },
    {
     "data": {
      "text/html": [
       "<pre style=\"margin: 0.1em;\n",
       "padding-left: 0.25em;\n",
       "border-left-style: solid;\n",
       "font-family: var(--jp-code-font-family);\n",
       "font-size: var(--jp-code-font-size);\n",
       "line-height: var(--jp-code-line-height);\n",
       "\"><span style=\"color: var(--jp-warn-color2)\">lsst.daf.butler.core.config</span> <span style=\"color: var(--jp-success-color0)\">DEBUG</span>: Opening YAML file via !include: resource://lsst.daf.butler/configs/datastores/writeRecipes.yaml</pre>"
      ],
      "text/plain": [
       "<IPython.core.display.HTML object>"
      ]
     },
     "metadata": {},
     "output_type": "display_data"
    },
    {
     "data": {
      "text/html": [
       "<pre style=\"margin: 0.1em;\n",
       "padding-left: 0.25em;\n",
       "border-left-style: solid;\n",
       "font-family: var(--jp-code-font-family);\n",
       "font-size: var(--jp-code-font-size);\n",
       "line-height: var(--jp-code-line-height);\n",
       "\"><span style=\"color: var(--jp-warn-color2)\">lsst.daf.butler.core.config</span> <span style=\"color: var(--jp-success-color0)\">DEBUG</span>: Opening YAML file via !include: resource://lsst.daf.butler/configs/datastores/composites.yaml</pre>"
      ],
      "text/plain": [
       "<IPython.core.display.HTML object>"
      ]
     },
     "metadata": {},
     "output_type": "display_data"
    },
    {
     "data": {
      "text/html": [
       "<pre style=\"margin: 0.1em;\n",
       "padding-left: 0.25em;\n",
       "border-left-style: solid;\n",
       "font-family: var(--jp-code-font-family);\n",
       "font-size: var(--jp-code-font-size);\n",
       "line-height: var(--jp-code-line-height);\n",
       "\"><span style=\"color: var(--jp-warn-color2)\">lsst.daf.butler.core.config</span> <span style=\"color: var(--jp-success-color0)\">DEBUG</span>: Opening YAML config file: resource://lsst.daf.butler/configs/datastores/composites.yaml</pre>"
      ],
      "text/plain": [
       "<IPython.core.display.HTML object>"
      ]
     },
     "metadata": {},
     "output_type": "display_data"
    },
    {
     "data": {
      "text/html": [
       "<pre style=\"margin: 0.1em;\n",
       "padding-left: 0.25em;\n",
       "border-left-style: solid;\n",
       "font-family: var(--jp-code-font-family);\n",
       "font-size: var(--jp-code-font-size);\n",
       "line-height: var(--jp-code-line-height);\n",
       "\"><span style=\"color: var(--jp-warn-color2)\">lsst.daf.butler.core.datastoreCacheManager</span> <span style=\"color: var(--jp-success-color0)\">DEBUG</span>: Cache configuration:\n",
       "- root: tmpdir\n",
       "- expiration mode: datasets=4</pre>"
      ],
      "text/plain": [
       "<IPython.core.display.HTML object>"
      ]
     },
     "metadata": {},
     "output_type": "display_data"
    },
    {
     "data": {
      "text/html": [
       "<pre style=\"margin: 0.1em;\n",
       "padding-left: 0.25em;\n",
       "border-left-style: solid;\n",
       "font-family: var(--jp-code-font-family);\n",
       "font-size: var(--jp-code-font-size);\n",
       "line-height: var(--jp-code-line-height);\n",
       "\"><span style=\"color: var(--jp-warn-color2)\">lsst.daf.butler.core.config</span> <span style=\"color: var(--jp-success-color0)\">DEBUG</span>: Opening YAML config file: resource://lsst.daf.butler/configs/storageClasses.yaml</pre>"
      ],
      "text/plain": [
       "<IPython.core.display.HTML object>"
      ]
     },
     "metadata": {},
     "output_type": "display_data"
    },
    {
     "data": {
      "text/html": [
       "<pre style=\"margin: 0.1em;\n",
       "padding-left: 0.25em;\n",
       "border-left-style: solid;\n",
       "font-family: var(--jp-code-font-family);\n",
       "font-size: var(--jp-code-font-size);\n",
       "line-height: var(--jp-code-line-height);\n",
       "\"><span style=\"color: var(--jp-warn-color2)\">lsst.summit.utils.bestEffort</span> <span style=\"color: var(--jp-info-color0)\">INFO</span>: Instantiating butler with collections=[&#x27;LATISS/raw/all&#x27;, &#x27;LATISS/calib&#x27;, &#x27;LATISS/runs/quickLook&#x27;, &#x27;LATISS_test_data&#x27;]</pre>"
      ],
      "text/plain": [
       "<IPython.core.display.HTML object>"
      ]
     },
     "metadata": {},
     "output_type": "display_data"
    },
    {
     "data": {
      "text/html": [
       "<pre style=\"margin: 0.1em;\n",
       "padding-left: 0.25em;\n",
       "border-left-style: solid;\n",
       "font-family: var(--jp-code-font-family);\n",
       "font-size: var(--jp-code-font-size);\n",
       "line-height: var(--jp-code-line-height);\n",
       "\"><span style=\"color: var(--jp-warn-color2)\">lsst.daf.butler.core.config</span> <span style=\"color: var(--jp-success-color0)\">DEBUG</span>: Opening YAML config file: file:///repo/LATISS/butler.yaml</pre>"
      ],
      "text/plain": [
       "<IPython.core.display.HTML object>"
      ]
     },
     "metadata": {},
     "output_type": "display_data"
    },
    {
     "data": {
      "text/html": [
       "<pre style=\"margin: 0.1em;\n",
       "padding-left: 0.25em;\n",
       "border-left-style: solid;\n",
       "font-family: var(--jp-code-font-family);\n",
       "font-size: var(--jp-code-font-size);\n",
       "line-height: var(--jp-code-line-height);\n",
       "\"><span style=\"color: var(--jp-warn-color2)\">lsst.daf.butler.core.config</span> <span style=\"color: var(--jp-success-color0)\">DEBUG</span>: Opening YAML config file: resource://lsst.daf.butler/configs/registry.yaml</pre>"
      ],
      "text/plain": [
       "<IPython.core.display.HTML object>"
      ]
     },
     "metadata": {},
     "output_type": "display_data"
    },
    {
     "data": {
      "text/html": [
       "<pre style=\"margin: 0.1em;\n",
       "padding-left: 0.25em;\n",
       "border-left-style: solid;\n",
       "font-family: var(--jp-code-font-family);\n",
       "font-size: var(--jp-code-font-size);\n",
       "line-height: var(--jp-code-line-height);\n",
       "\"><span style=\"color: var(--jp-warn-color2)\">lsst.daf.butler.core.config</span> <span style=\"color: var(--jp-success-color0)\">DEBUG</span>: Opening YAML config file: resource://lsst.daf.butler/configs/storageClasses.yaml</pre>"
      ],
      "text/plain": [
       "<IPython.core.display.HTML object>"
      ]
     },
     "metadata": {},
     "output_type": "display_data"
    },
    {
     "data": {
      "text/html": [
       "<pre style=\"margin: 0.1em;\n",
       "padding-left: 0.25em;\n",
       "border-left-style: solid;\n",
       "font-family: var(--jp-code-font-family);\n",
       "font-size: var(--jp-code-font-size);\n",
       "line-height: var(--jp-code-line-height);\n",
       "\"><span style=\"color: var(--jp-warn-color2)\">lsst.daf.butler.core.config</span> <span style=\"color: var(--jp-success-color0)\">DEBUG</span>: Opening YAML config file: resource://lsst.daf.butler/configs/datastore.yaml</pre>"
      ],
      "text/plain": [
       "<IPython.core.display.HTML object>"
      ]
     },
     "metadata": {},
     "output_type": "display_data"
    },
    {
     "data": {
      "text/html": [
       "<pre style=\"margin: 0.1em;\n",
       "padding-left: 0.25em;\n",
       "border-left-style: solid;\n",
       "font-family: var(--jp-code-font-family);\n",
       "font-size: var(--jp-code-font-size);\n",
       "line-height: var(--jp-code-line-height);\n",
       "\"><span style=\"color: var(--jp-warn-color2)\">lsst.daf.butler.core.config</span> <span style=\"color: var(--jp-success-color0)\">DEBUG</span>: Opening YAML config file: resource://lsst.daf.butler/configs/datastores/fileDatastore.yaml</pre>"
      ],
      "text/plain": [
       "<IPython.core.display.HTML object>"
      ]
     },
     "metadata": {},
     "output_type": "display_data"
    },
    {
     "data": {
      "text/html": [
       "<pre style=\"margin: 0.1em;\n",
       "padding-left: 0.25em;\n",
       "border-left-style: solid;\n",
       "font-family: var(--jp-code-font-family);\n",
       "font-size: var(--jp-code-font-size);\n",
       "line-height: var(--jp-code-line-height);\n",
       "\"><span style=\"color: var(--jp-warn-color2)\">lsst.daf.butler.core.config</span> <span style=\"color: var(--jp-success-color0)\">DEBUG</span>: Opening YAML file via !include: resource://lsst.daf.butler/configs/datastores/formatters.yaml</pre>"
      ],
      "text/plain": [
       "<IPython.core.display.HTML object>"
      ]
     },
     "metadata": {},
     "output_type": "display_data"
    },
    {
     "data": {
      "text/html": [
       "<pre style=\"margin: 0.1em;\n",
       "padding-left: 0.25em;\n",
       "border-left-style: solid;\n",
       "font-family: var(--jp-code-font-family);\n",
       "font-size: var(--jp-code-font-size);\n",
       "line-height: var(--jp-code-line-height);\n",
       "\"><span style=\"color: var(--jp-warn-color2)\">lsst.daf.butler.core.config</span> <span style=\"color: var(--jp-success-color0)\">DEBUG</span>: Opening YAML file via !include: resource://lsst.daf.butler/configs/datastores/writeRecipes.yaml</pre>"
      ],
      "text/plain": [
       "<IPython.core.display.HTML object>"
      ]
     },
     "metadata": {},
     "output_type": "display_data"
    },
    {
     "data": {
      "text/html": [
       "<pre style=\"margin: 0.1em;\n",
       "padding-left: 0.25em;\n",
       "border-left-style: solid;\n",
       "font-family: var(--jp-code-font-family);\n",
       "font-size: var(--jp-code-font-size);\n",
       "line-height: var(--jp-code-line-height);\n",
       "\"><span style=\"color: var(--jp-warn-color2)\">lsst.daf.butler.core.config</span> <span style=\"color: var(--jp-success-color0)\">DEBUG</span>: Opening YAML file via !include: resource://lsst.daf.butler/configs/datastores/composites.yaml</pre>"
      ],
      "text/plain": [
       "<IPython.core.display.HTML object>"
      ]
     },
     "metadata": {},
     "output_type": "display_data"
    },
    {
     "data": {
      "text/html": [
       "<pre style=\"margin: 0.1em;\n",
       "padding-left: 0.25em;\n",
       "border-left-style: solid;\n",
       "font-family: var(--jp-code-font-family);\n",
       "font-size: var(--jp-code-font-size);\n",
       "line-height: var(--jp-code-line-height);\n",
       "\"><span style=\"color: var(--jp-warn-color2)\">lsst.daf.butler.core.config</span> <span style=\"color: var(--jp-success-color0)\">DEBUG</span>: Opening YAML config file: resource://lsst.daf.butler/configs/repo_transfer_formats.yaml</pre>"
      ],
      "text/plain": [
       "<IPython.core.display.HTML object>"
      ]
     },
     "metadata": {},
     "output_type": "display_data"
    },
    {
     "data": {
      "text/html": [
       "<pre style=\"margin: 0.1em;\n",
       "padding-left: 0.25em;\n",
       "border-left-style: solid;\n",
       "font-family: var(--jp-code-font-family);\n",
       "font-size: var(--jp-code-font-size);\n",
       "line-height: var(--jp-code-line-height);\n",
       "\"><span style=\"color: var(--jp-warn-color2)\">lsst.daf.butler.core.config</span> <span style=\"color: var(--jp-success-color0)\">DEBUG</span>: Opening YAML config file: file:///repo/LATISS/butler.yaml</pre>"
      ],
      "text/plain": [
       "<IPython.core.display.HTML object>"
      ]
     },
     "metadata": {},
     "output_type": "display_data"
    },
    {
     "data": {
      "text/html": [
       "<pre style=\"margin: 0.1em;\n",
       "padding-left: 0.25em;\n",
       "border-left-style: solid;\n",
       "font-family: var(--jp-code-font-family);\n",
       "font-size: var(--jp-code-font-size);\n",
       "line-height: var(--jp-code-line-height);\n",
       "\"><span style=\"color: var(--jp-warn-color2)\">lsst.daf.butler.core.config</span> <span style=\"color: var(--jp-success-color0)\">DEBUG</span>: Opening YAML config file: resource://lsst.daf.butler/configs/registry.yaml</pre>"
      ],
      "text/plain": [
       "<IPython.core.display.HTML object>"
      ]
     },
     "metadata": {},
     "output_type": "display_data"
    },
    {
     "data": {
      "text/html": [
       "<pre style=\"margin: 0.1em;\n",
       "padding-left: 0.25em;\n",
       "border-left-style: solid;\n",
       "font-family: var(--jp-code-font-family);\n",
       "font-size: var(--jp-code-font-size);\n",
       "line-height: var(--jp-code-line-height);\n",
       "\"><span style=\"color: var(--jp-warn-color2)\">lsst.daf.butler.core.config</span> <span style=\"color: var(--jp-success-color0)\">DEBUG</span>: Opening YAML config file: resource://lsst.daf.butler/configs/storageClasses.yaml</pre>"
      ],
      "text/plain": [
       "<IPython.core.display.HTML object>"
      ]
     },
     "metadata": {},
     "output_type": "display_data"
    },
    {
     "data": {
      "text/html": [
       "<pre style=\"margin: 0.1em;\n",
       "padding-left: 0.25em;\n",
       "border-left-style: solid;\n",
       "font-family: var(--jp-code-font-family);\n",
       "font-size: var(--jp-code-font-size);\n",
       "line-height: var(--jp-code-line-height);\n",
       "\"><span style=\"color: var(--jp-warn-color2)\">lsst.daf.butler.core.config</span> <span style=\"color: var(--jp-success-color0)\">DEBUG</span>: Opening YAML config file: resource://lsst.daf.butler/configs/datastore.yaml</pre>"
      ],
      "text/plain": [
       "<IPython.core.display.HTML object>"
      ]
     },
     "metadata": {},
     "output_type": "display_data"
    },
    {
     "data": {
      "text/html": [
       "<pre style=\"margin: 0.1em;\n",
       "padding-left: 0.25em;\n",
       "border-left-style: solid;\n",
       "font-family: var(--jp-code-font-family);\n",
       "font-size: var(--jp-code-font-size);\n",
       "line-height: var(--jp-code-line-height);\n",
       "\"><span style=\"color: var(--jp-warn-color2)\">lsst.daf.butler.core.config</span> <span style=\"color: var(--jp-success-color0)\">DEBUG</span>: Opening YAML config file: resource://lsst.daf.butler/configs/datastores/fileDatastore.yaml</pre>"
      ],
      "text/plain": [
       "<IPython.core.display.HTML object>"
      ]
     },
     "metadata": {},
     "output_type": "display_data"
    },
    {
     "data": {
      "text/html": [
       "<pre style=\"margin: 0.1em;\n",
       "padding-left: 0.25em;\n",
       "border-left-style: solid;\n",
       "font-family: var(--jp-code-font-family);\n",
       "font-size: var(--jp-code-font-size);\n",
       "line-height: var(--jp-code-line-height);\n",
       "\"><span style=\"color: var(--jp-warn-color2)\">lsst.daf.butler.core.config</span> <span style=\"color: var(--jp-success-color0)\">DEBUG</span>: Opening YAML file via !include: resource://lsst.daf.butler/configs/datastores/formatters.yaml</pre>"
      ],
      "text/plain": [
       "<IPython.core.display.HTML object>"
      ]
     },
     "metadata": {},
     "output_type": "display_data"
    },
    {
     "data": {
      "text/html": [
       "<pre style=\"margin: 0.1em;\n",
       "padding-left: 0.25em;\n",
       "border-left-style: solid;\n",
       "font-family: var(--jp-code-font-family);\n",
       "font-size: var(--jp-code-font-size);\n",
       "line-height: var(--jp-code-line-height);\n",
       "\"><span style=\"color: var(--jp-warn-color2)\">lsst.daf.butler.core.config</span> <span style=\"color: var(--jp-success-color0)\">DEBUG</span>: Opening YAML file via !include: resource://lsst.daf.butler/configs/datastores/writeRecipes.yaml</pre>"
      ],
      "text/plain": [
       "<IPython.core.display.HTML object>"
      ]
     },
     "metadata": {},
     "output_type": "display_data"
    },
    {
     "data": {
      "text/html": [
       "<pre style=\"margin: 0.1em;\n",
       "padding-left: 0.25em;\n",
       "border-left-style: solid;\n",
       "font-family: var(--jp-code-font-family);\n",
       "font-size: var(--jp-code-font-size);\n",
       "line-height: var(--jp-code-line-height);\n",
       "\"><span style=\"color: var(--jp-warn-color2)\">lsst.daf.butler.core.config</span> <span style=\"color: var(--jp-success-color0)\">DEBUG</span>: Opening YAML file via !include: resource://lsst.daf.butler/configs/datastores/composites.yaml</pre>"
      ],
      "text/plain": [
       "<IPython.core.display.HTML object>"
      ]
     },
     "metadata": {},
     "output_type": "display_data"
    },
    {
     "data": {
      "text/html": [
       "<pre style=\"margin: 0.1em;\n",
       "padding-left: 0.25em;\n",
       "border-left-style: solid;\n",
       "font-family: var(--jp-code-font-family);\n",
       "font-size: var(--jp-code-font-size);\n",
       "line-height: var(--jp-code-line-height);\n",
       "\"><span style=\"color: var(--jp-warn-color2)\">lsst.daf.butler.core.config</span> <span style=\"color: var(--jp-success-color0)\">DEBUG</span>: Opening YAML config file: resource://lsst.daf.butler/configs/repo_transfer_formats.yaml</pre>"
      ],
      "text/plain": [
       "<IPython.core.display.HTML object>"
      ]
     },
     "metadata": {},
     "output_type": "display_data"
    },
    {
     "data": {
      "text/html": [
       "<pre style=\"margin: 0.1em;\n",
       "padding-left: 0.25em;\n",
       "border-left-style: solid;\n",
       "font-family: var(--jp-code-font-family);\n",
       "font-size: var(--jp-code-font-size);\n",
       "line-height: var(--jp-code-line-height);\n",
       "\"><span style=\"color: var(--jp-warn-color2)\">lsst.daf.butler.core.config</span> <span style=\"color: var(--jp-success-color0)\">DEBUG</span>: Opening YAML config file: resource://lsst.daf.butler/configs/registry.yaml</pre>"
      ],
      "text/plain": [
       "<IPython.core.display.HTML object>"
      ]
     },
     "metadata": {},
     "output_type": "display_data"
    },
    {
     "data": {
      "text/html": [
       "<pre style=\"margin: 0.1em;\n",
       "padding-left: 0.25em;\n",
       "border-left-style: solid;\n",
       "font-family: var(--jp-code-font-family);\n",
       "font-size: var(--jp-code-font-size);\n",
       "line-height: var(--jp-code-line-height);\n",
       "\"><span style=\"color: var(--jp-warn-color2)\">lsst.daf.butler.core.config</span> <span style=\"color: var(--jp-success-color0)\">DEBUG</span>: Opening YAML config file: resource://lsst.daf.butler/configs/registry.yaml</pre>"
      ],
      "text/plain": [
       "<IPython.core.display.HTML object>"
      ]
     },
     "metadata": {},
     "output_type": "display_data"
    },
    {
     "data": {
      "text/html": [
       "<pre style=\"margin: 0.1em;\n",
       "padding-left: 0.25em;\n",
       "border-left-style: solid;\n",
       "font-family: var(--jp-code-font-family);\n",
       "font-size: var(--jp-code-font-size);\n",
       "line-height: var(--jp-code-line-height);\n",
       "\"><span style=\"color: var(--jp-warn-color2)\">lsst.daf.butler.core.config</span> <span style=\"color: var(--jp-success-color0)\">DEBUG</span>: Opening YAML config file: resource://lsst.daf.butler/configs/registry.yaml</pre>"
      ],
      "text/plain": [
       "<IPython.core.display.HTML object>"
      ]
     },
     "metadata": {},
     "output_type": "display_data"
    },
    {
     "data": {
      "text/html": [
       "<pre style=\"margin: 0.1em;\n",
       "padding-left: 0.25em;\n",
       "border-left-style: solid;\n",
       "font-family: var(--jp-code-font-family);\n",
       "font-size: var(--jp-code-font-size);\n",
       "line-height: var(--jp-code-line-height);\n",
       "\"><span style=\"color: var(--jp-warn-color2)\">lsst.daf.butler.core.config</span> <span style=\"color: var(--jp-success-color0)\">DEBUG</span>: Opening YAML config file: resource://lsst.daf.butler/configs/registry.yaml</pre>"
      ],
      "text/plain": [
       "<IPython.core.display.HTML object>"
      ]
     },
     "metadata": {},
     "output_type": "display_data"
    },
    {
     "data": {
      "text/html": [
       "<pre style=\"margin: 0.1em;\n",
       "padding-left: 0.25em;\n",
       "border-left-style: solid;\n",
       "font-family: var(--jp-code-font-family);\n",
       "font-size: var(--jp-code-font-size);\n",
       "line-height: var(--jp-code-line-height);\n",
       "\"><span style=\"color: var(--jp-warn-color2)\">lsst.daf.butler.registry.versions</span> <span style=\"color: var(--jp-success-color0)\">DEBUG</span>: found manager config config:registry.managers.attributes=lsst.daf.butler.registry.attributes.DefaultButlerAttributeManager</pre>"
      ],
      "text/plain": [
       "<IPython.core.display.HTML object>"
      ]
     },
     "metadata": {},
     "output_type": "display_data"
    },
    {
     "data": {
      "text/html": [
       "<pre style=\"margin: 0.1em;\n",
       "padding-left: 0.25em;\n",
       "border-left-style: solid;\n",
       "font-family: var(--jp-code-font-family);\n",
       "font-size: var(--jp-code-font-size);\n",
       "line-height: var(--jp-code-line-height);\n",
       "\"><span style=\"color: var(--jp-warn-color2)\">lsst.daf.butler.registry.versions</span> <span style=\"color: var(--jp-success-color0)\">DEBUG</span>: found manager version version:lsst.daf.butler.registry.attributes.DefaultButlerAttributeManager=1.0.0, current version 1.0.0</pre>"
      ],
      "text/plain": [
       "<IPython.core.display.HTML object>"
      ]
     },
     "metadata": {},
     "output_type": "display_data"
    },
    {
     "data": {
      "text/html": [
       "<pre style=\"margin: 0.1em;\n",
       "padding-left: 0.25em;\n",
       "border-left-style: solid;\n",
       "font-family: var(--jp-code-font-family);\n",
       "font-size: var(--jp-code-font-size);\n",
       "line-height: var(--jp-code-line-height);\n",
       "\"><span style=\"color: var(--jp-warn-color2)\">lsst.daf.butler.registry.versions</span> <span style=\"color: var(--jp-success-color0)\">DEBUG</span>: found manager config config:registry.managers.attributes=lsst.daf.butler.registry.attributes.DefaultButlerAttributeManager</pre>"
      ],
      "text/plain": [
       "<IPython.core.display.HTML object>"
      ]
     },
     "metadata": {},
     "output_type": "display_data"
    },
    {
     "data": {
      "text/html": [
       "<pre style=\"margin: 0.1em;\n",
       "padding-left: 0.25em;\n",
       "border-left-style: solid;\n",
       "font-family: var(--jp-code-font-family);\n",
       "font-size: var(--jp-code-font-size);\n",
       "line-height: var(--jp-code-line-height);\n",
       "\"><span style=\"color: var(--jp-warn-color2)\">lsst.daf.butler.registry.versions</span> <span style=\"color: var(--jp-success-color0)\">DEBUG</span>: found manager config config:registry.managers.dimensions=lsst.daf.butler.registry.dimensions.static.StaticDimensionRecordStorageManager</pre>"
      ],
      "text/plain": [
       "<IPython.core.display.HTML object>"
      ]
     },
     "metadata": {},
     "output_type": "display_data"
    },
    {
     "data": {
      "text/html": [
       "<pre style=\"margin: 0.1em;\n",
       "padding-left: 0.25em;\n",
       "border-left-style: solid;\n",
       "font-family: var(--jp-code-font-family);\n",
       "font-size: var(--jp-code-font-size);\n",
       "line-height: var(--jp-code-line-height);\n",
       "\"><span style=\"color: var(--jp-warn-color2)\">lsst.daf.butler.registry.versions</span> <span style=\"color: var(--jp-success-color0)\">DEBUG</span>: found manager config config:registry.managers.collections=lsst.daf.butler.registry.collections.synthIntKey.SynthIntKeyCollectionManager</pre>"
      ],
      "text/plain": [
       "<IPython.core.display.HTML object>"
      ]
     },
     "metadata": {},
     "output_type": "display_data"
    },
    {
     "data": {
      "text/html": [
       "<pre style=\"margin: 0.1em;\n",
       "padding-left: 0.25em;\n",
       "border-left-style: solid;\n",
       "font-family: var(--jp-code-font-family);\n",
       "font-size: var(--jp-code-font-size);\n",
       "line-height: var(--jp-code-line-height);\n",
       "\"><span style=\"color: var(--jp-warn-color2)\">lsst.daf.butler.registry.versions</span> <span style=\"color: var(--jp-success-color0)\">DEBUG</span>: found manager config config:registry.managers.datasets=lsst.daf.butler.registry.datasets.byDimensions._manager.ByDimensionsDatasetRecordStorageManagerUUID</pre>"
      ],
      "text/plain": [
       "<IPython.core.display.HTML object>"
      ]
     },
     "metadata": {},
     "output_type": "display_data"
    },
    {
     "data": {
      "text/html": [
       "<pre style=\"margin: 0.1em;\n",
       "padding-left: 0.25em;\n",
       "border-left-style: solid;\n",
       "font-family: var(--jp-code-font-family);\n",
       "font-size: var(--jp-code-font-size);\n",
       "line-height: var(--jp-code-line-height);\n",
       "\"><span style=\"color: var(--jp-warn-color2)\">lsst.daf.butler.registry.versions</span> <span style=\"color: var(--jp-success-color0)\">DEBUG</span>: found manager config config:registry.managers.opaque=lsst.daf.butler.registry.opaque.ByNameOpaqueTableStorageManager</pre>"
      ],
      "text/plain": [
       "<IPython.core.display.HTML object>"
      ]
     },
     "metadata": {},
     "output_type": "display_data"
    },
    {
     "data": {
      "text/html": [
       "<pre style=\"margin: 0.1em;\n",
       "padding-left: 0.25em;\n",
       "border-left-style: solid;\n",
       "font-family: var(--jp-code-font-family);\n",
       "font-size: var(--jp-code-font-size);\n",
       "line-height: var(--jp-code-line-height);\n",
       "\"><span style=\"color: var(--jp-warn-color2)\">lsst.daf.butler.registry.versions</span> <span style=\"color: var(--jp-success-color0)\">DEBUG</span>: found manager config config:registry.managers.datastores=lsst.daf.butler.registry.bridge.monolithic.MonolithicDatastoreRegistryBridgeManager</pre>"
      ],
      "text/plain": [
       "<IPython.core.display.HTML object>"
      ]
     },
     "metadata": {},
     "output_type": "display_data"
    },
    {
     "data": {
      "text/html": [
       "<pre style=\"margin: 0.1em;\n",
       "padding-left: 0.25em;\n",
       "border-left-style: solid;\n",
       "font-family: var(--jp-code-font-family);\n",
       "font-size: var(--jp-code-font-size);\n",
       "line-height: var(--jp-code-line-height);\n",
       "\"><span style=\"color: var(--jp-warn-color2)\">lsst.daf.butler.registry.versions</span> <span style=\"color: var(--jp-success-color0)\">DEBUG</span>: found manager version version:lsst.daf.butler.registry.attributes.DefaultButlerAttributeManager=1.0.0, current version 1.0.0</pre>"
      ],
      "text/plain": [
       "<IPython.core.display.HTML object>"
      ]
     },
     "metadata": {},
     "output_type": "display_data"
    },
    {
     "data": {
      "text/html": [
       "<pre style=\"margin: 0.1em;\n",
       "padding-left: 0.25em;\n",
       "border-left-style: solid;\n",
       "font-family: var(--jp-code-font-family);\n",
       "font-size: var(--jp-code-font-size);\n",
       "line-height: var(--jp-code-line-height);\n",
       "\"><span style=\"color: var(--jp-warn-color2)\">lsst.daf.butler.registry.versions</span> <span style=\"color: var(--jp-success-color0)\">DEBUG</span>: found manager version version:lsst.daf.butler.registry.dimensions.static.StaticDimensionRecordStorageManager=6.0.0, current version 6.0.1</pre>"
      ],
      "text/plain": [
       "<IPython.core.display.HTML object>"
      ]
     },
     "metadata": {},
     "output_type": "display_data"
    },
    {
     "data": {
      "text/html": [
       "<pre style=\"margin: 0.1em;\n",
       "padding-left: 0.25em;\n",
       "border-left-style: solid;\n",
       "font-family: var(--jp-code-font-family);\n",
       "font-size: var(--jp-code-font-size);\n",
       "line-height: var(--jp-code-line-height);\n",
       "\"><span style=\"color: var(--jp-warn-color2)\">lsst.daf.butler.registry.versions</span> <span style=\"color: var(--jp-success-color0)\">DEBUG</span>: found manager version version:lsst.daf.butler.registry.collections.synthIntKey.SynthIntKeyCollectionManager=2.0.0, current version 2.0.0</pre>"
      ],
      "text/plain": [
       "<IPython.core.display.HTML object>"
      ]
     },
     "metadata": {},
     "output_type": "display_data"
    },
    {
     "data": {
      "text/html": [
       "<pre style=\"margin: 0.1em;\n",
       "padding-left: 0.25em;\n",
       "border-left-style: solid;\n",
       "font-family: var(--jp-code-font-family);\n",
       "font-size: var(--jp-code-font-size);\n",
       "line-height: var(--jp-code-line-height);\n",
       "\"><span style=\"color: var(--jp-warn-color2)\">lsst.daf.butler.registry.versions</span> <span style=\"color: var(--jp-success-color0)\">DEBUG</span>: found manager version version:lsst.daf.butler.registry.datasets.byDimensions._manager.ByDimensionsDatasetRecordStorageManagerUUID=1.0.0, current version 1.0.0</pre>"
      ],
      "text/plain": [
       "<IPython.core.display.HTML object>"
      ]
     },
     "metadata": {},
     "output_type": "display_data"
    },
    {
     "data": {
      "text/html": [
       "<pre style=\"margin: 0.1em;\n",
       "padding-left: 0.25em;\n",
       "border-left-style: solid;\n",
       "font-family: var(--jp-code-font-family);\n",
       "font-size: var(--jp-code-font-size);\n",
       "line-height: var(--jp-code-line-height);\n",
       "\"><span style=\"color: var(--jp-warn-color2)\">lsst.daf.butler.registry.versions</span> <span style=\"color: var(--jp-success-color0)\">DEBUG</span>: found manager version version:lsst.daf.butler.registry.opaque.ByNameOpaqueTableStorageManager=0.2.0, current version 0.2.0</pre>"
      ],
      "text/plain": [
       "<IPython.core.display.HTML object>"
      ]
     },
     "metadata": {},
     "output_type": "display_data"
    },
    {
     "data": {
      "text/html": [
       "<pre style=\"margin: 0.1em;\n",
       "padding-left: 0.25em;\n",
       "border-left-style: solid;\n",
       "font-family: var(--jp-code-font-family);\n",
       "font-size: var(--jp-code-font-size);\n",
       "line-height: var(--jp-code-line-height);\n",
       "\"><span style=\"color: var(--jp-warn-color2)\">lsst.daf.butler.registry.versions</span> <span style=\"color: var(--jp-success-color0)\">DEBUG</span>: found manager version version:lsst.daf.butler.registry.bridge.monolithic.MonolithicDatastoreRegistryBridgeManager=0.2.0, current version 0.2.0</pre>"
      ],
      "text/plain": [
       "<IPython.core.display.HTML object>"
      ]
     },
     "metadata": {},
     "output_type": "display_data"
    },
    {
     "data": {
      "text/html": [
       "<pre style=\"margin: 0.1em;\n",
       "padding-left: 0.25em;\n",
       "border-left-style: solid;\n",
       "font-family: var(--jp-code-font-family);\n",
       "font-size: var(--jp-code-font-size);\n",
       "line-height: var(--jp-code-line-height);\n",
       "\"><span style=\"color: var(--jp-warn-color2)\">lsst.daf.butler.registry.versions</span> <span style=\"color: var(--jp-success-color0)\">DEBUG</span>: found manager schema digest schema_digest:lsst.daf.butler.registry.attributes.DefaultButlerAttributeManager=664d6a56d87b5ac890308a91a06cd145, current digest 664d6a56d87b5ac890308a91a06cd145</pre>"
      ],
      "text/plain": [
       "<IPython.core.display.HTML object>"
      ]
     },
     "metadata": {},
     "output_type": "display_data"
    },
    {
     "data": {
      "text/html": [
       "<pre style=\"margin: 0.1em;\n",
       "padding-left: 0.25em;\n",
       "border-left-style: solid;\n",
       "font-family: var(--jp-code-font-family);\n",
       "font-size: var(--jp-code-font-size);\n",
       "line-height: var(--jp-code-line-height);\n",
       "\"><span style=\"color: var(--jp-warn-color2)\">lsst.daf.butler.registry.versions</span> <span style=\"color: var(--jp-success-color0)\">DEBUG</span>: found manager schema digest schema_digest:lsst.daf.butler.registry.dimensions.static.StaticDimensionRecordStorageManager=83022175a1fbb71edd4f5243a1775146, current digest 83022175a1fbb71edd4f5243a1775146</pre>"
      ],
      "text/plain": [
       "<IPython.core.display.HTML object>"
      ]
     },
     "metadata": {},
     "output_type": "display_data"
    },
    {
     "data": {
      "text/html": [
       "<pre style=\"margin: 0.1em;\n",
       "padding-left: 0.25em;\n",
       "border-left-style: solid;\n",
       "font-family: var(--jp-code-font-family);\n",
       "font-size: var(--jp-code-font-size);\n",
       "line-height: var(--jp-code-line-height);\n",
       "\"><span style=\"color: var(--jp-warn-color2)\">lsst.daf.butler.registry.versions</span> <span style=\"color: var(--jp-success-color0)\">DEBUG</span>: found manager schema digest schema_digest:lsst.daf.butler.registry.collections.synthIntKey.SynthIntKeyCollectionManager=1d45208fb4ad1b51bed29321deb787de, current digest 1d45208fb4ad1b51bed29321deb787de</pre>"
      ],
      "text/plain": [
       "<IPython.core.display.HTML object>"
      ]
     },
     "metadata": {},
     "output_type": "display_data"
    },
    {
     "data": {
      "text/html": [
       "<pre style=\"margin: 0.1em;\n",
       "padding-left: 0.25em;\n",
       "border-left-style: solid;\n",
       "font-family: var(--jp-code-font-family);\n",
       "font-size: var(--jp-code-font-size);\n",
       "line-height: var(--jp-code-line-height);\n",
       "\"><span style=\"color: var(--jp-warn-color2)\">lsst.daf.butler.registry.versions</span> <span style=\"color: var(--jp-success-color0)\">DEBUG</span>: found manager schema digest schema_digest:lsst.daf.butler.registry.datasets.byDimensions._manager.ByDimensionsDatasetRecordStorageManagerUUID=338aa9bda15c2dc82ad04ac55e1b56bc, current digest 338aa9bda15c2dc82ad04ac55e1b56bc</pre>"
      ],
      "text/plain": [
       "<IPython.core.display.HTML object>"
      ]
     },
     "metadata": {},
     "output_type": "display_data"
    },
    {
     "data": {
      "text/html": [
       "<pre style=\"margin: 0.1em;\n",
       "padding-left: 0.25em;\n",
       "border-left-style: solid;\n",
       "font-family: var(--jp-code-font-family);\n",
       "font-size: var(--jp-code-font-size);\n",
       "line-height: var(--jp-code-line-height);\n",
       "\"><span style=\"color: var(--jp-warn-color2)\">lsst.daf.butler.registry.versions</span> <span style=\"color: var(--jp-success-color0)\">DEBUG</span>: found manager schema digest schema_digest:lsst.daf.butler.registry.opaque.ByNameOpaqueTableStorageManager=79a657af5cf15550e6d1f455ad4dd8c2, current digest 79a657af5cf15550e6d1f455ad4dd8c2</pre>"
      ],
      "text/plain": [
       "<IPython.core.display.HTML object>"
      ]
     },
     "metadata": {},
     "output_type": "display_data"
    },
    {
     "data": {
      "text/html": [
       "<pre style=\"margin: 0.1em;\n",
       "padding-left: 0.25em;\n",
       "border-left-style: solid;\n",
       "font-family: var(--jp-code-font-family);\n",
       "font-size: var(--jp-code-font-size);\n",
       "line-height: var(--jp-code-line-height);\n",
       "\"><span style=\"color: var(--jp-warn-color2)\">lsst.daf.butler.registry.versions</span> <span style=\"color: var(--jp-success-color0)\">DEBUG</span>: found manager schema digest schema_digest:lsst.daf.butler.registry.bridge.monolithic.MonolithicDatastoreRegistryBridgeManager=3558b84d12fa04082ffd6935e0488922, current digest 3558b84d12fa04082ffd6935e0488922</pre>"
      ],
      "text/plain": [
       "<IPython.core.display.HTML object>"
      ]
     },
     "metadata": {},
     "output_type": "display_data"
    },
    {
     "data": {
      "text/html": [
       "<pre style=\"margin: 0.1em;\n",
       "padding-left: 0.25em;\n",
       "border-left-style: solid;\n",
       "font-family: var(--jp-code-font-family);\n",
       "font-size: var(--jp-code-font-size);\n",
       "line-height: var(--jp-code-line-height);\n",
       "\"><span style=\"color: var(--jp-warn-color2)\">lsst.daf.butler.core.config</span> <span style=\"color: var(--jp-success-color0)\">DEBUG</span>: Opening YAML config file: resource://lsst.daf.butler/configs/datastore.yaml</pre>"
      ],
      "text/plain": [
       "<IPython.core.display.HTML object>"
      ]
     },
     "metadata": {},
     "output_type": "display_data"
    },
    {
     "data": {
      "text/html": [
       "<pre style=\"margin: 0.1em;\n",
       "padding-left: 0.25em;\n",
       "border-left-style: solid;\n",
       "font-family: var(--jp-code-font-family);\n",
       "font-size: var(--jp-code-font-size);\n",
       "line-height: var(--jp-code-line-height);\n",
       "\"><span style=\"color: var(--jp-warn-color2)\">lsst.daf.butler.core.config</span> <span style=\"color: var(--jp-success-color0)\">DEBUG</span>: Opening YAML config file: resource://lsst.daf.butler/configs/datastores/fileDatastore.yaml</pre>"
      ],
      "text/plain": [
       "<IPython.core.display.HTML object>"
      ]
     },
     "metadata": {},
     "output_type": "display_data"
    },
    {
     "data": {
      "text/html": [
       "<pre style=\"margin: 0.1em;\n",
       "padding-left: 0.25em;\n",
       "border-left-style: solid;\n",
       "font-family: var(--jp-code-font-family);\n",
       "font-size: var(--jp-code-font-size);\n",
       "line-height: var(--jp-code-line-height);\n",
       "\"><span style=\"color: var(--jp-warn-color2)\">lsst.daf.butler.core.config</span> <span style=\"color: var(--jp-success-color0)\">DEBUG</span>: Opening YAML file via !include: resource://lsst.daf.butler/configs/datastores/formatters.yaml</pre>"
      ],
      "text/plain": [
       "<IPython.core.display.HTML object>"
      ]
     },
     "metadata": {},
     "output_type": "display_data"
    },
    {
     "data": {
      "text/html": [
       "<pre style=\"margin: 0.1em;\n",
       "padding-left: 0.25em;\n",
       "border-left-style: solid;\n",
       "font-family: var(--jp-code-font-family);\n",
       "font-size: var(--jp-code-font-size);\n",
       "line-height: var(--jp-code-line-height);\n",
       "\"><span style=\"color: var(--jp-warn-color2)\">lsst.daf.butler.core.config</span> <span style=\"color: var(--jp-success-color0)\">DEBUG</span>: Opening YAML file via !include: resource://lsst.daf.butler/configs/datastores/writeRecipes.yaml</pre>"
      ],
      "text/plain": [
       "<IPython.core.display.HTML object>"
      ]
     },
     "metadata": {},
     "output_type": "display_data"
    },
    {
     "data": {
      "text/html": [
       "<pre style=\"margin: 0.1em;\n",
       "padding-left: 0.25em;\n",
       "border-left-style: solid;\n",
       "font-family: var(--jp-code-font-family);\n",
       "font-size: var(--jp-code-font-size);\n",
       "line-height: var(--jp-code-line-height);\n",
       "\"><span style=\"color: var(--jp-warn-color2)\">lsst.daf.butler.core.config</span> <span style=\"color: var(--jp-success-color0)\">DEBUG</span>: Opening YAML file via !include: resource://lsst.daf.butler/configs/datastores/composites.yaml</pre>"
      ],
      "text/plain": [
       "<IPython.core.display.HTML object>"
      ]
     },
     "metadata": {},
     "output_type": "display_data"
    },
    {
     "data": {
      "text/html": [
       "<pre style=\"margin: 0.1em;\n",
       "padding-left: 0.25em;\n",
       "border-left-style: solid;\n",
       "font-family: var(--jp-code-font-family);\n",
       "font-size: var(--jp-code-font-size);\n",
       "line-height: var(--jp-code-line-height);\n",
       "\"><span style=\"color: var(--jp-warn-color2)\">lsst.daf.butler.core.config</span> <span style=\"color: var(--jp-success-color0)\">DEBUG</span>: Opening YAML config file: resource://lsst.daf.butler/configs/datastores/composites.yaml</pre>"
      ],
      "text/plain": [
       "<IPython.core.display.HTML object>"
      ]
     },
     "metadata": {},
     "output_type": "display_data"
    },
    {
     "data": {
      "text/html": [
       "<pre style=\"margin: 0.1em;\n",
       "padding-left: 0.25em;\n",
       "border-left-style: solid;\n",
       "font-family: var(--jp-code-font-family);\n",
       "font-size: var(--jp-code-font-size);\n",
       "line-height: var(--jp-code-line-height);\n",
       "\"><span style=\"color: var(--jp-warn-color2)\">lsst.daf.butler.core.datastoreCacheManager</span> <span style=\"color: var(--jp-success-color0)\">DEBUG</span>: Cache configuration:\n",
       "- root: tmpdir\n",
       "- expiration mode: datasets=4</pre>"
      ],
      "text/plain": [
       "<IPython.core.display.HTML object>"
      ]
     },
     "metadata": {},
     "output_type": "display_data"
    },
    {
     "data": {
      "text/html": [
       "<pre style=\"margin: 0.1em;\n",
       "padding-left: 0.25em;\n",
       "border-left-style: solid;\n",
       "font-family: var(--jp-code-font-family);\n",
       "font-size: var(--jp-code-font-size);\n",
       "line-height: var(--jp-code-line-height);\n",
       "\"><span style=\"color: var(--jp-warn-color2)\">lsst.daf.butler.core.config</span> <span style=\"color: var(--jp-success-color0)\">DEBUG</span>: Opening YAML config file: resource://lsst.daf.butler/configs/storageClasses.yaml</pre>"
      ],
      "text/plain": [
       "<IPython.core.display.HTML object>"
      ]
     },
     "metadata": {},
     "output_type": "display_data"
    }
   ],
   "source": [
    "datapath='/repo/LATISS'\n",
    "butler = dafButler.Butler(datapath, instrument='LATISS', collections=['LATISS/raw/all','LATISS_test_data'])\n",
    "dataset='raw'\n",
    "best_effort_isr = BestEffortIsr()"
   ]
  },
  {
   "cell_type": "markdown",
   "metadata": {},
   "source": [
    "# Calculate Stellar PSF Information"
   ]
  },
  {
   "cell_type": "markdown",
   "metadata": {},
   "source": [
    "### Declare the function that does the heavy lifting using DM tools\n",
    "Note that this is very sensitive to the number of sources in the field. <br>\n",
    "If there are not enough sources this will fail."
   ]
  },
  {
   "cell_type": "code",
   "execution_count": 19,
   "metadata": {},
   "outputs": [],
   "source": [
    "def measurePsf(exp):\n",
    "    platescale = latiss_constants.pixel_scale\n",
    "\n",
    "    imCharConfig = CharacterizeImageTask.ConfigClass()\n",
    "    imCharConfig.doMeasurePsf = True\n",
    "    imCharConfig.useSimplePsf = True\n",
    "    \n",
    "    imCharConfig.doApCorr = False\n",
    "    imCharConfig.doDeblend = False\n",
    "    \n",
    "    installConfig = InstallGaussianPsfConfig()\n",
    "    exp.setPsf(None)  # if not set to none, fwhm max para is ignored\n",
    "    installConfig.fwhm = 15\n",
    "    installConfig.width = 61\n",
    "    \n",
    "    imCharConfig.installSimplePsf = installConfig    \n",
    "    \n",
    "    imCharConfig.detection.includeThresholdMultiplier = 5\n",
    "    imCharConfig.measurePsf.starSelector['objectSize'].doFluxLimit = True\n",
    "    imCharConfig.measurePsf.starSelector['objectSize'].fluxMin = 12500.0\n",
    "    imCharConfig.measurePsf.starSelector['objectSize'].fluxMax = 0.0\n",
    "    imCharConfig.measurePsf.starSelector['objectSize'].doSignalToNoiseLimit = False\n",
    "    imCharConfig.measurePsf.starSelector['objectSize'].signalToNoiseMin = 20.0\n",
    "    imCharConfig.measurePsf.starSelector['objectSize'].signalToNoiseMax = 0.0\n",
    "    imCharConfig.measurePsf.starSelector['objectSize'].widthMin = 0.0\n",
    "    imCharConfig.measurePsf.starSelector['objectSize'].widthMax = 80.0  # default 10\n",
    "    imCharConfig.measurePsf.starSelector['objectSize'].sourceFluxField = \"base_GaussianFlux_instFlux\"\n",
    "    imCharConfig.measurePsf.starSelector['objectSize'].widthStdAllowed = 0.15 # 0.15 default\n",
    "    imCharConfig.measurePsf.starSelector['objectSize'].nSigmaClip = 2.0\n",
    "    \n",
    "    imCharConfig.measurePsf.psfDeterminer.name = 'psfex'\n",
    "    imCharConfig.measurePsf.psfDeterminer['psfex'].spatialOrder = 1\n",
    "    imCharConfig.psfIterations=1\n",
    "    \n",
    "    imCharConfig.background.binSize = 2000\n",
    "    imCharConfig.background.approxOrderX = 2\n",
    "\n",
    "    imCharConfig.detection.background = imCharConfig.background\n",
    "    \n",
    "    imCharTask = CharacterizeImageTask(config=imCharConfig)\n",
    "\n",
    "    result = imCharTask.run(exp)\n",
    "\n",
    "    psf = exp.getPsf()\n",
    "    ixx = psf.computeShape(exp.getBBox().getCenter()).getIxx()\n",
    "    iyy = psf.computeShape(exp.getBBox().getCenter()).getIyy()\n",
    "    psfShape = psf.computeShape(exp.getBBox().getCenter()).getDeterminantRadius()\n",
    "    \n",
    "    fwhmX = np.sqrt(ixx)*2.355*platescale\n",
    "    fwhmY = np.sqrt(iyy)*2.355*platescale\n",
    "    \n",
    "    overallFwhm = psfShape * 2.355 * platescale\n",
    "    print(f\"Psf shape from imChar task (x,y) = ({fwhmX:.3f}, {fwhmY:.3f}) FWHM arcsec\")\n",
    "    return fwhmX, fwhmY, overallFwhm, psf"
   ]
  },
  {
   "cell_type": "markdown",
   "metadata": {},
   "source": [
    "### Declare QuickFrameMeasurement tasks\n",
    "These are run if the measurePsf method fails. It provides a reasonable yet less-accurate representation."
   ]
  },
  {
   "cell_type": "code",
   "execution_count": 20,
   "metadata": {},
   "outputs": [],
   "source": [
    "qm_config = QuickFrameMeasurementTask.ConfigClass()\n",
    "qm = QuickFrameMeasurementTask(config=qm_config)"
   ]
  },
  {
   "cell_type": "markdown",
   "metadata": {},
   "source": [
    "### Select the data ID of choice"
   ]
  },
  {
   "cell_type": "code",
   "execution_count": 42,
   "metadata": {
    "collapsed": true,
    "jupyter": {
     "outputs_hidden": true
    },
    "tags": []
   },
   "outputs": [
    {
     "name": "stdout",
     "output_type": "stream",
     "text": [
      "{'day_obs': 20220526, 'seq_num': 135, 'detector': 0, 'instrument': 'LATISS'}\n"
     ]
    },
    {
     "data": {
      "text/html": [
       "<pre style=\"margin: 0.1em;\n",
       "padding-left: 0.25em;\n",
       "border-left-style: solid;\n",
       "font-family: var(--jp-code-font-family);\n",
       "font-size: var(--jp-code-font-size);\n",
       "line-height: var(--jp-code-line-height);\n",
       "\"><span style=\"color: var(--jp-warn-color2)\">lsst.daf.butler._butler</span> <span style=\"color: var(--jp-success-color0)\">DEBUG</span>: Butler get: quickLookExp, dataId={&#x27;day_obs&#x27;: 20220526, &#x27;seq_num&#x27;: 135, &#x27;detector&#x27;: 0, &#x27;instrument&#x27;: &#x27;LATISS&#x27;}, parameters=None</pre>"
      ],
      "text/plain": [
       "<IPython.core.display.HTML object>"
      ]
     },
     "metadata": {},
     "output_type": "display_data"
    },
    {
     "data": {
      "text/html": [
       "<pre style=\"margin: 0.1em;\n",
       "padding-left: 0.25em;\n",
       "border-left-style: solid;\n",
       "font-family: var(--jp-code-font-family);\n",
       "font-size: var(--jp-code-font-size);\n",
       "line-height: var(--jp-code-line-height);\n",
       "\"><span style=\"color: var(--jp-warn-color2)\">lsst.daf.butler._butler</span> <span style=\"color: var(--jp-success-color0)\">DEBUG</span>: Assigned non-dimension dataId keys to dimension exposure: {&#x27;day_obs&#x27;: 20220526, &#x27;seq_num&#x27;: 135}</pre>"
      ],
      "text/plain": [
       "<IPython.core.display.HTML object>"
      ]
     },
     "metadata": {},
     "output_type": "display_data"
    },
    {
     "data": {
      "text/html": [
       "<pre style=\"margin: 0.1em;\n",
       "padding-left: 0.25em;\n",
       "border-left-style: solid;\n",
       "font-family: var(--jp-code-font-family);\n",
       "font-size: var(--jp-code-font-size);\n",
       "line-height: var(--jp-code-line-height);\n",
       "\"><span style=\"color: var(--jp-warn-color2)\">lsst.daf.butler.datastores.fileDatastore</span> <span style=\"color: var(--jp-success-color0)\">DEBUG</span>: Retrieve quickLookExp@{instrument: &#x27;LATISS&#x27;, detector: 0, exposure: 2022052600135}, sc=ExposureF] (id=9a2004ea-7060-45e4-8fe0-08b3f7f122b2) from FileDatastore@&lt;butlerRoot&gt; with parameters None</pre>"
      ],
      "text/plain": [
       "<IPython.core.display.HTML object>"
      ]
     },
     "metadata": {},
     "output_type": "display_data"
    },
    {
     "data": {
      "text/html": [
       "<pre style=\"margin: 0.1em;\n",
       "padding-left: 0.25em;\n",
       "border-left-style: solid;\n",
       "font-family: var(--jp-code-font-family);\n",
       "font-size: var(--jp-code-font-size);\n",
       "line-height: var(--jp-code-line-height);\n",
       "\"><span style=\"color: var(--jp-warn-color2)\">lsst.daf.butler.datastores.fileDatastore</span> <span style=\"color: var(--jp-success-color0)\">DEBUG</span>: Accessing data from file:///repo/LATISS/LATISS/runs/quickLook/1/quickLookExp/20220526/AT_O_20220526_000135/quickLookExp_LATISS_SDSSr~empty_AT_O_20220526_000135_RXX_S00_LATISS_runs_quickLook_1.fits</pre>"
      ],
      "text/plain": [
       "<IPython.core.display.HTML object>"
      ]
     },
     "metadata": {},
     "output_type": "display_data"
    },
    {
     "data": {
      "text/html": [
       "<pre style=\"margin: 0.1em;\n",
       "padding-left: 0.25em;\n",
       "border-left-style: solid;\n",
       "font-family: var(--jp-code-font-family);\n",
       "font-size: var(--jp-code-font-size);\n",
       "line-height: var(--jp-code-line-height);\n",
       "\"><span style=\"color: var(--jp-warn-color2)\">lsst.daf.butler.datastores.fileDatastore</span> <span style=\"color: var(--jp-success-color0)\">DEBUG</span>: Reading from location file:///repo/LATISS/LATISS/runs/quickLook/1/quickLookExp/20220526/AT_O_20220526_000135/quickLookExp_LATISS_SDSSr~empty_AT_O_20220526_000135_RXX_S00_LATISS_runs_quickLook_1.fits  with formatter lsst.obs.base.formatters.fitsExposure.FitsExposureFormatter</pre>"
      ],
      "text/plain": [
       "<IPython.core.display.HTML object>"
      ]
     },
     "metadata": {},
     "output_type": "display_data"
    },
    {
     "data": {
      "text/html": [
       "<pre style=\"margin: 0.1em;\n",
       "padding-left: 0.25em;\n",
       "border-left-style: solid;\n",
       "font-family: var(--jp-code-font-family);\n",
       "font-size: var(--jp-code-font-size);\n",
       "line-height: var(--jp-code-line-height);\n",
       "\"><span style=\"color: var(--jp-warn-color2)\">timer.lsst.daf.butler.datastores.fileDatastore</span> <span style=\"color: var(--jp-success-color0)\">DEBUG</span>: Reading from location file:///repo/LATISS/LATISS/runs/quickLook/1/quickLookExp/20220526/AT_O_20220526_000135/quickLookExp_LATISS_SDSSr~empty_AT_O_20220526_000135_RXX_S00_LATISS_runs_quickLook_1.fits  with formatter lsst.obs.base.formatters.fitsExposure.FitsExposureFormatter: Took 0.9522 seconds</pre>"
      ],
      "text/plain": [
       "<IPython.core.display.HTML object>"
      ]
     },
     "metadata": {},
     "output_type": "display_data"
    },
    {
     "data": {
      "text/html": [
       "<pre style=\"margin: 0.1em;\n",
       "padding-left: 0.25em;\n",
       "border-left-style: solid;\n",
       "font-family: var(--jp-code-font-family);\n",
       "font-size: var(--jp-code-font-size);\n",
       "line-height: var(--jp-code-line-height);\n",
       "\"><span style=\"color: var(--jp-warn-color2)\">lsst.summit.utils.bestEffort</span> <span style=\"color: var(--jp-info-color0)\">INFO</span>: Found a ready-made quickLookExp in the repo. Returning that.</pre>"
      ],
      "text/plain": [
       "<IPython.core.display.HTML object>"
      ]
     },
     "metadata": {},
     "output_type": "display_data"
    },
    {
     "data": {
      "text/html": [
       "<pre style=\"margin: 0.1em;\n",
       "padding-left: 0.25em;\n",
       "border-left-style: solid;\n",
       "font-family: var(--jp-code-font-family);\n",
       "font-size: var(--jp-code-font-size);\n",
       "line-height: var(--jp-code-line-height);\n",
       "\"><span style=\"color: var(--jp-warn-color2)\">timer.lsst.characterizeImage</span> <span style=\"color: var(--jp-success-color0)\">DEBUG</span>: runStartCpuTime=127.988249244; runStartUserTime=116.51762; runStartSystemTime=11.470599; runStartMaxResidentSetSize=1125367808; runStartMinorPageFaults=6170166; runStartMajorPageFaults=14; runStartBlockInputs=3262304; runStartBlockOutputs=2936; runStartVoluntaryContextSwitches=114144; runStartInvoluntaryContextSwitches=58860</pre>"
      ],
      "text/plain": [
       "<IPython.core.display.HTML object>"
      ]
     },
     "metadata": {},
     "output_type": "display_data"
    },
    {
     "data": {
      "text/html": [
       "<pre style=\"margin: 0.1em;\n",
       "padding-left: 0.25em;\n",
       "border-left-style: solid;\n",
       "font-family: var(--jp-code-font-family);\n",
       "font-size: var(--jp-code-font-size);\n",
       "line-height: var(--jp-code-line-height);\n",
       "\"><span style=\"color: var(--jp-warn-color2)\">lsst.characterizeImage.background</span> <span style=\"color: var(--jp-success-color0)\">DEBUG</span>: Ignoring mask planes: BAD, EDGE, DETECTED, DETECTED_NEGATIVE, NO_DATA</pre>"
      ],
      "text/plain": [
       "<IPython.core.display.HTML object>"
      ]
     },
     "metadata": {},
     "output_type": "display_data"
    },
    {
     "data": {
      "text/html": [
       "<pre style=\"margin: 0.1em;\n",
       "padding-left: 0.25em;\n",
       "border-left-style: solid;\n",
       "font-family: var(--jp-code-font-family);\n",
       "font-size: var(--jp-code-font-size);\n",
       "line-height: var(--jp-code-line-height);\n",
       "\"><span style=\"color: var(--jp-warn-color2)\">timer.lsst.characterizeImage</span> <span style=\"color: var(--jp-success-color0)\">DEBUG</span>: detectMeasureAndEstimatePsfStartCpuTime=128.677757398; detectMeasureAndEstimatePsfStartUserTime=117.124327; detectMeasureAndEstimatePsfStartSystemTime=11.553406; detectMeasureAndEstimatePsfStartMaxResidentSetSize=1125367808; detectMeasureAndEstimatePsfStartMinorPageFaults=6217891; detectMeasureAndEstimatePsfStartMajorPageFaults=14; detectMeasureAndEstimatePsfStartBlockInputs=3262304; detectMeasureAndEstimatePsfStartBlockOutputs=2936; detectMeasureAndEstimatePsfStartVoluntaryContextSwitches=114183; detectMeasureAndEstimatePsfStartInvoluntaryContextSwitches=59718</pre>"
      ],
      "text/plain": [
       "<IPython.core.display.HTML object>"
      ]
     },
     "metadata": {},
     "output_type": "display_data"
    },
    {
     "data": {
      "text/html": [
       "<pre style=\"margin: 0.1em;\n",
       "padding-left: 0.25em;\n",
       "border-left-style: solid;\n",
       "font-family: var(--jp-code-font-family);\n",
       "font-size: var(--jp-code-font-size);\n",
       "line-height: var(--jp-code-line-height);\n",
       "\"><span style=\"color: var(--jp-warn-color2)\">lsst.characterizeImage</span> <span style=\"color: var(--jp-info-color0)\">INFO</span>: PSF estimation initialized with &#x27;simple&#x27; PSF</pre>"
      ],
      "text/plain": [
       "<IPython.core.display.HTML object>"
      ]
     },
     "metadata": {},
     "output_type": "display_data"
    },
    {
     "data": {
      "text/html": [
       "<pre style=\"margin: 0.1em;\n",
       "padding-left: 0.25em;\n",
       "border-left-style: solid;\n",
       "font-family: var(--jp-code-font-family);\n",
       "font-size: var(--jp-code-font-size);\n",
       "line-height: var(--jp-code-line-height);\n",
       "\"><span style=\"color: var(--jp-warn-color2)\">lsst.characterizeImage.installSimplePsf</span> <span style=\"color: var(--jp-success-color0)\">DEBUG</span>: installing a simple Gaussian PSF model with width=61, height=61, FWHM=15.000</pre>"
      ],
      "text/plain": [
       "<IPython.core.display.HTML object>"
      ]
     },
     "metadata": {},
     "output_type": "display_data"
    },
    {
     "data": {
      "text/html": [
       "<pre style=\"margin: 0.1em;\n",
       "padding-left: 0.25em;\n",
       "border-left-style: solid;\n",
       "font-family: var(--jp-code-font-family);\n",
       "font-size: var(--jp-code-font-size);\n",
       "line-height: var(--jp-code-line-height);\n",
       "\"><span style=\"color: var(--jp-warn-color2)\">timer.lsst.characterizeImage.repair</span> <span style=\"color: var(--jp-success-color0)\">DEBUG</span>: runStartCpuTime=128.680853703; runStartUserTime=117.12743; runStartSystemTime=11.553416; runStartMaxResidentSetSize=1125367808; runStartMinorPageFaults=6217891; runStartMajorPageFaults=14; runStartBlockInputs=3262304; runStartBlockOutputs=2936; runStartVoluntaryContextSwitches=114230; runStartInvoluntaryContextSwitches=59718</pre>"
      ],
      "text/plain": [
       "<IPython.core.display.HTML object>"
      ]
     },
     "metadata": {},
     "output_type": "display_data"
    },
    {
     "data": {
      "text/html": [
       "<pre style=\"margin: 0.1em;\n",
       "padding-left: 0.25em;\n",
       "border-left-style: solid;\n",
       "font-family: var(--jp-code-font-family);\n",
       "font-size: var(--jp-code-font-size);\n",
       "line-height: var(--jp-code-line-height);\n",
       "\"><span style=\"color: var(--jp-warn-color2)\">lsst.characterizeImage.repair</span> <span style=\"color: var(--jp-info-color0)\">INFO</span>: Identified 3 cosmic rays.</pre>"
      ],
      "text/plain": [
       "<IPython.core.display.HTML object>"
      ]
     },
     "metadata": {},
     "output_type": "display_data"
    },
    {
     "data": {
      "text/html": [
       "<pre style=\"margin: 0.1em;\n",
       "padding-left: 0.25em;\n",
       "border-left-style: solid;\n",
       "font-family: var(--jp-code-font-family);\n",
       "font-size: var(--jp-code-font-size);\n",
       "line-height: var(--jp-code-line-height);\n",
       "\"><span style=\"color: var(--jp-warn-color2)\">timer.lsst.characterizeImage.repair</span> <span style=\"color: var(--jp-success-color0)\">DEBUG</span>: runEndCpuTime=129.204005543; runEndUserTime=117.611745; runEndSystemTime=11.592237; runEndMaxResidentSetSize=1125367808; runEndMinorPageFaults=6241992; runEndMajorPageFaults=14; runEndBlockInputs=3262304; runEndBlockOutputs=2936; runEndVoluntaryContextSwitches=114380; runEndInvoluntaryContextSwitches=60316</pre>"
      ],
      "text/plain": [
       "<IPython.core.display.HTML object>"
      ]
     },
     "metadata": {},
     "output_type": "display_data"
    },
    {
     "data": {
      "text/html": [
       "<pre style=\"margin: 0.1em;\n",
       "padding-left: 0.25em;\n",
       "border-left-style: solid;\n",
       "font-family: var(--jp-code-font-family);\n",
       "font-size: var(--jp-code-font-size);\n",
       "line-height: var(--jp-code-line-height);\n",
       "\"><span style=\"color: var(--jp-warn-color2)\">timer.lsst.characterizeImage.detection</span> <span style=\"color: var(--jp-success-color0)\">DEBUG</span>: runStartCpuTime=129.205830944; runStartUserTime=117.612674; runStartSystemTime=11.593133; runStartMaxResidentSetSize=1125367808; runStartMinorPageFaults=6241993; runStartMajorPageFaults=14; runStartBlockInputs=3262304; runStartBlockOutputs=2936; runStartVoluntaryContextSwitches=114394; runStartInvoluntaryContextSwitches=60317</pre>"
      ],
      "text/plain": [
       "<IPython.core.display.HTML object>"
      ]
     },
     "metadata": {},
     "output_type": "display_data"
    },
    {
     "data": {
      "text/html": [
       "<pre style=\"margin: 0.1em;\n",
       "padding-left: 0.25em;\n",
       "border-left-style: solid;\n",
       "font-family: var(--jp-code-font-family);\n",
       "font-size: var(--jp-code-font-size);\n",
       "line-height: var(--jp-code-line-height);\n",
       "\"><span style=\"color: var(--jp-warn-color2)\">timer.lsst.characterizeImage.detection</span> <span style=\"color: var(--jp-success-color0)\">DEBUG</span>: detectFootprintsStartCpuTime=129.207001775; detectFootprintsStartUserTime=117.612934; detectFootprintsStartSystemTime=11.594061; detectFootprintsStartMaxResidentSetSize=1125367808; detectFootprintsStartMinorPageFaults=6241994; detectFootprintsStartMajorPageFaults=14; detectFootprintsStartBlockInputs=3262304; detectFootprintsStartBlockOutputs=2936; detectFootprintsStartVoluntaryContextSwitches=114409; detectFootprintsStartInvoluntaryContextSwitches=60317</pre>"
      ],
      "text/plain": [
       "<IPython.core.display.HTML object>"
      ]
     },
     "metadata": {},
     "output_type": "display_data"
    },
    {
     "data": {
      "text/html": [
       "<pre style=\"margin: 0.1em;\n",
       "padding-left: 0.25em;\n",
       "border-left-style: solid;\n",
       "font-family: var(--jp-code-font-family);\n",
       "font-size: var(--jp-code-font-size);\n",
       "line-height: var(--jp-code-line-height);\n",
       "\"><span style=\"color: var(--jp-warn-color2)\">lsst.characterizeImage.detection</span> <span style=\"color: var(--jp-success-color0)\">DEBUG</span>: Detection threshold: VALUE value=3.1416368 (positive) multiplier=5</pre>"
      ],
      "text/plain": [
       "<IPython.core.display.HTML object>"
      ]
     },
     "metadata": {},
     "output_type": "display_data"
    },
    {
     "data": {
      "text/html": [
       "<pre style=\"margin: 0.1em;\n",
       "padding-left: 0.25em;\n",
       "border-left-style: solid;\n",
       "font-family: var(--jp-code-font-family);\n",
       "font-size: var(--jp-code-font-size);\n",
       "line-height: var(--jp-code-line-height);\n",
       "\"><span style=\"color: var(--jp-warn-color2)\">lsst.characterizeImage.detection</span> <span style=\"color: var(--jp-success-color0)\">DEBUG</span>: Detection threshold: VALUE value=3.1416368 (negative) multiplier=5</pre>"
      ],
      "text/plain": [
       "<IPython.core.display.HTML object>"
      ]
     },
     "metadata": {},
     "output_type": "display_data"
    },
    {
     "data": {
      "text/html": [
       "<pre style=\"margin: 0.1em;\n",
       "padding-left: 0.25em;\n",
       "border-left-style: solid;\n",
       "font-family: var(--jp-code-font-family);\n",
       "font-size: var(--jp-code-font-size);\n",
       "line-height: var(--jp-code-line-height);\n",
       "\"><span style=\"color: var(--jp-warn-color2)\">lsst.characterizeImage.detection</span> <span style=\"color: var(--jp-info-color0)\">INFO</span>: Detected 95 positive peaks in 81 footprints and 4 negative peaks in 4 footprints to 25 sigma</pre>"
      ],
      "text/plain": [
       "<IPython.core.display.HTML object>"
      ]
     },
     "metadata": {},
     "output_type": "display_data"
    },
    {
     "data": {
      "text/html": [
       "<pre style=\"margin: 0.1em;\n",
       "padding-left: 0.25em;\n",
       "border-left-style: solid;\n",
       "font-family: var(--jp-code-font-family);\n",
       "font-size: var(--jp-code-font-size);\n",
       "line-height: var(--jp-code-line-height);\n",
       "\"><span style=\"color: var(--jp-warn-color2)\">lsst.characterizeImage.detection.background</span> <span style=\"color: var(--jp-success-color0)\">DEBUG</span>: Ignoring mask planes: BAD, EDGE, DETECTED, DETECTED_NEGATIVE, NO_DATA</pre>"
      ],
      "text/plain": [
       "<IPython.core.display.HTML object>"
      ]
     },
     "metadata": {},
     "output_type": "display_data"
    },
    {
     "data": {
      "text/html": [
       "<pre style=\"margin: 0.1em;\n",
       "padding-left: 0.25em;\n",
       "border-left-style: solid;\n",
       "font-family: var(--jp-code-font-family);\n",
       "font-size: var(--jp-code-font-size);\n",
       "line-height: var(--jp-code-line-height);\n",
       "\"><span style=\"color: var(--jp-warn-color2)\">lsst.characterizeImage.detection</span> <span style=\"color: var(--jp-info-color0)\">INFO</span>: Resubtracting the background after object detection</pre>"
      ],
      "text/plain": [
       "<IPython.core.display.HTML object>"
      ]
     },
     "metadata": {},
     "output_type": "display_data"
    },
    {
     "data": {
      "text/html": [
       "<pre style=\"margin: 0.1em;\n",
       "padding-left: 0.25em;\n",
       "border-left-style: solid;\n",
       "font-family: var(--jp-code-font-family);\n",
       "font-size: var(--jp-code-font-size);\n",
       "line-height: var(--jp-code-line-height);\n",
       "\"><span style=\"color: var(--jp-warn-color2)\">timer.lsst.characterizeImage.detection</span> <span style=\"color: var(--jp-success-color0)\">DEBUG</span>: detectFootprintsEndCpuTime=132.656480928; detectFootprintsEndUserTime=120.859231; detectFootprintsEndSystemTime=11.797226; detectFootprintsEndMaxResidentSetSize=1127788544; detectFootprintsEndMinorPageFaults=6432162; detectFootprintsEndMajorPageFaults=14; detectFootprintsEndBlockInputs=3262304; detectFootprintsEndBlockOutputs=2936; detectFootprintsEndVoluntaryContextSwitches=115160; detectFootprintsEndInvoluntaryContextSwitches=60458</pre>"
      ],
      "text/plain": [
       "<IPython.core.display.HTML object>"
      ]
     },
     "metadata": {},
     "output_type": "display_data"
    },
    {
     "data": {
      "text/html": [
       "<pre style=\"margin: 0.1em;\n",
       "padding-left: 0.25em;\n",
       "border-left-style: solid;\n",
       "font-family: var(--jp-code-font-family);\n",
       "font-size: var(--jp-code-font-size);\n",
       "line-height: var(--jp-code-line-height);\n",
       "\"><span style=\"color: var(--jp-warn-color2)\">timer.lsst.characterizeImage.detection</span> <span style=\"color: var(--jp-success-color0)\">DEBUG</span>: runEndCpuTime=132.657874616; runEndUserTime=120.860605; runEndSystemTime=11.797262; runEndMaxResidentSetSize=1127788544; runEndMinorPageFaults=6432162; runEndMajorPageFaults=14; runEndBlockInputs=3262304; runEndBlockOutputs=2936; runEndVoluntaryContextSwitches=115176; runEndInvoluntaryContextSwitches=60458</pre>"
      ],
      "text/plain": [
       "<IPython.core.display.HTML object>"
      ]
     },
     "metadata": {},
     "output_type": "display_data"
    },
    {
     "data": {
      "text/html": [
       "<pre style=\"margin: 0.1em;\n",
       "padding-left: 0.25em;\n",
       "border-left-style: solid;\n",
       "font-family: var(--jp-code-font-family);\n",
       "font-size: var(--jp-code-font-size);\n",
       "line-height: var(--jp-code-line-height);\n",
       "\"><span style=\"color: var(--jp-warn-color2)\">timer.lsst.characterizeImage.measurement</span> <span style=\"color: var(--jp-success-color0)\">DEBUG</span>: runStartCpuTime=132.658772148; runStartUserTime=120.861504; runStartSystemTime=11.797262; runStartMaxResidentSetSize=1127788544; runStartMinorPageFaults=6432163; runStartMajorPageFaults=14; runStartBlockInputs=3262304; runStartBlockOutputs=2936; runStartVoluntaryContextSwitches=115195; runStartInvoluntaryContextSwitches=60458</pre>"
      ],
      "text/plain": [
       "<IPython.core.display.HTML object>"
      ]
     },
     "metadata": {},
     "output_type": "display_data"
    },
    {
     "data": {
      "text/html": [
       "<pre style=\"margin: 0.1em;\n",
       "padding-left: 0.25em;\n",
       "border-left-style: solid;\n",
       "font-family: var(--jp-code-font-family);\n",
       "font-size: var(--jp-code-font-size);\n",
       "line-height: var(--jp-code-line-height);\n",
       "\"><span style=\"color: var(--jp-warn-color2)\">lsst.characterizeImage.measurement</span> <span style=\"color: var(--jp-success-color0)\">DEBUG</span>: Mask plane &quot;THISDET&quot;: plane 10, bitmask 1024 = 0x400</pre>"
      ],
      "text/plain": [
       "<IPython.core.display.HTML object>"
      ]
     },
     "metadata": {},
     "output_type": "display_data"
    },
    {
     "data": {
      "text/html": [
       "<pre style=\"margin: 0.1em;\n",
       "padding-left: 0.25em;\n",
       "border-left-style: solid;\n",
       "font-family: var(--jp-code-font-family);\n",
       "font-size: var(--jp-code-font-size);\n",
       "line-height: var(--jp-code-line-height);\n",
       "\"><span style=\"color: var(--jp-warn-color2)\">lsst.characterizeImage.measurement</span> <span style=\"color: var(--jp-success-color0)\">DEBUG</span>: Mask plane &quot;OTHERDET&quot;: plane 11, bitmask 2048 = 0x800</pre>"
      ],
      "text/plain": [
       "<IPython.core.display.HTML object>"
      ]
     },
     "metadata": {},
     "output_type": "display_data"
    },
    {
     "data": {
      "text/html": [
       "<pre style=\"margin: 0.1em;\n",
       "padding-left: 0.25em;\n",
       "border-left-style: solid;\n",
       "font-family: var(--jp-code-font-family);\n",
       "font-size: var(--jp-code-font-size);\n",
       "line-height: var(--jp-code-line-height);\n",
       "\"><span style=\"color: var(--jp-warn-color2)\">lsst.characterizeImage.measurement</span> <span style=\"color: var(--jp-success-color0)\">DEBUG</span>: Measured from image: clipped mean = 0.1068, stdev = 9.35591</pre>"
      ],
      "text/plain": [
       "<IPython.core.display.HTML object>"
      ]
     },
     "metadata": {},
     "output_type": "display_data"
    },
    {
     "data": {
      "text/html": [
       "<pre style=\"margin: 0.1em;\n",
       "padding-left: 0.25em;\n",
       "border-left-style: solid;\n",
       "font-family: var(--jp-code-font-family);\n",
       "font-size: var(--jp-code-font-size);\n",
       "line-height: var(--jp-code-line-height);\n",
       "\"><span style=\"color: var(--jp-warn-color2)\">lsst.characterizeImage.measurement</span> <span style=\"color: var(--jp-success-color0)\">DEBUG</span>: Using noise generator: FixedGaussianNoiseGenerator: mean=0.1068, std=9.35591</pre>"
      ],
      "text/plain": [
       "<IPython.core.display.HTML object>"
      ]
     },
     "metadata": {},
     "output_type": "display_data"
    },
    {
     "data": {
      "text/html": [
       "<pre style=\"margin: 0.1em;\n",
       "padding-left: 0.25em;\n",
       "border-left-style: solid;\n",
       "font-family: var(--jp-code-font-family);\n",
       "font-size: var(--jp-code-font-size);\n",
       "line-height: var(--jp-code-line-height);\n",
       "\"><span style=\"color: var(--jp-warn-color2)\">lsst.characterizeImage.measurement</span> <span style=\"color: var(--jp-info-color0)\">INFO</span>: Measuring 81 sources (81 parents, 0 children) </pre>"
      ],
      "text/plain": [
       "<IPython.core.display.HTML object>"
      ]
     },
     "metadata": {},
     "output_type": "display_data"
    },
    {
     "data": {
      "text/html": [
       "<pre style=\"margin: 0.1em;\n",
       "padding-left: 0.25em;\n",
       "border-left-style: solid;\n",
       "font-family: var(--jp-code-font-family);\n",
       "font-size: var(--jp-code-font-size);\n",
       "line-height: var(--jp-code-line-height);\n",
       "\"><span style=\"color: var(--jp-warn-color2)\">lsst.characterizeImage.measurement.base_SdssCentroid</span> <span style=\"color: var(--jp-success-color0)\">DEBUG</span>: MeasurementError in base_SdssCentroid.measure on record 81: \n",
       "  File &quot;src/SdssCentroid.cc&quot;, line 384, in std::pair&lt;MaskedImageT, double&gt; lsst::meas::base::{anonymous}::smoothAndBinImage(std::shared_ptr&lt;const lsst::afw::detection::Psf&gt;, int, int, const MaskedImageT&amp;, int, int, lsst::meas::base::FlagHandler) [with MaskedImageT = lsst::afw::image::MaskedImage&lt;float&gt;]\n",
       "    Object too close to edge {0}\n",
       "lsst::meas::base::MeasurementError: &#x27;Object too close to edge&#x27;\n",
       "</pre>"
      ],
      "text/plain": [
       "<IPython.core.display.HTML object>"
      ]
     },
     "metadata": {},
     "output_type": "display_data"
    },
    {
     "data": {
      "text/html": [
       "<pre style=\"margin: 0.1em;\n",
       "padding-left: 0.25em;\n",
       "border-left-style: solid;\n",
       "font-family: var(--jp-code-font-family);\n",
       "font-size: var(--jp-code-font-size);\n",
       "line-height: var(--jp-code-line-height);\n",
       "\"><span style=\"color: var(--jp-warn-color2)\">timer.lsst.characterizeImage.measurement</span> <span style=\"color: var(--jp-success-color0)\">DEBUG</span>: runEndCpuTime=133.388070702; runEndUserTime=121.554722; runEndSystemTime=11.833327; runEndMaxResidentSetSize=1127788544; runEndMinorPageFaults=6456266; runEndMajorPageFaults=14; runEndBlockInputs=3262304; runEndBlockOutputs=2936; runEndVoluntaryContextSwitches=115499; runEndInvoluntaryContextSwitches=60468</pre>"
      ],
      "text/plain": [
       "<IPython.core.display.HTML object>"
      ]
     },
     "metadata": {},
     "output_type": "display_data"
    },
    {
     "data": {
      "text/html": [
       "<pre style=\"margin: 0.1em;\n",
       "padding-left: 0.25em;\n",
       "border-left-style: solid;\n",
       "font-family: var(--jp-code-font-family);\n",
       "font-size: var(--jp-code-font-size);\n",
       "line-height: var(--jp-code-line-height);\n",
       "\"><span style=\"color: var(--jp-warn-color2)\">timer.lsst.characterizeImage.measurePsf</span> <span style=\"color: var(--jp-success-color0)\">DEBUG</span>: runStartCpuTime=133.389325535; runStartUserTime=121.555056; runStartSystemTime=11.834264; runStartMaxResidentSetSize=1127788544; runStartMinorPageFaults=6456268; runStartMajorPageFaults=14; runStartBlockInputs=3262304; runStartBlockOutputs=2936; runStartVoluntaryContextSwitches=115518; runStartInvoluntaryContextSwitches=60468</pre>"
      ],
      "text/plain": [
       "<IPython.core.display.HTML object>"
      ]
     },
     "metadata": {},
     "output_type": "display_data"
    },
    {
     "data": {
      "text/html": [
       "<pre style=\"margin: 0.1em;\n",
       "padding-left: 0.25em;\n",
       "border-left-style: solid;\n",
       "font-family: var(--jp-code-font-family);\n",
       "font-size: var(--jp-code-font-size);\n",
       "line-height: var(--jp-code-line-height);\n",
       "\"><span style=\"color: var(--jp-warn-color2)\">lsst.characterizeImage.measurePsf</span> <span style=\"color: var(--jp-info-color0)\">INFO</span>: Measuring PSF</pre>"
      ],
      "text/plain": [
       "<IPython.core.display.HTML object>"
      ]
     },
     "metadata": {},
     "output_type": "display_data"
    },
    {
     "data": {
      "text/html": [
       "<pre style=\"margin: 0.1em;\n",
       "padding-left: 0.25em;\n",
       "border-left-style: solid;\n",
       "font-family: var(--jp-code-font-family);\n",
       "font-size: var(--jp-code-font-size);\n",
       "line-height: var(--jp-code-line-height);\n",
       "\"><span style=\"color: var(--jp-warn-color2)\">lsst.characterizeImage.measurePsf</span> <span style=\"color: var(--jp-info-color0)\">INFO</span>: PSF star selector found 36 candidates</pre>"
      ],
      "text/plain": [
       "<IPython.core.display.HTML object>"
      ]
     },
     "metadata": {},
     "output_type": "display_data"
    },
    {
     "data": {
      "text/html": [
       "<pre style=\"margin: 0.1em;\n",
       "padding-left: 0.25em;\n",
       "border-left-style: solid;\n",
       "font-family: var(--jp-code-font-family);\n",
       "font-size: var(--jp-code-font-size);\n",
       "line-height: var(--jp-code-line-height);\n",
       "\"><span style=\"color: var(--jp-warn-color2)\">lsst.characterizeImage.measurePsf.reserve</span> <span style=\"color: var(--jp-info-color0)\">INFO</span>: Reserved 0/36 sources</pre>"
      ],
      "text/plain": [
       "<IPython.core.display.HTML object>"
      ]
     },
     "metadata": {},
     "output_type": "display_data"
    },
    {
     "data": {
      "text/html": [
       "<pre style=\"margin: 0.1em;\n",
       "padding-left: 0.25em;\n",
       "border-left-style: solid;\n",
       "font-family: var(--jp-code-font-family);\n",
       "font-size: var(--jp-code-font-size);\n",
       "line-height: var(--jp-code-line-height);\n",
       "\"><span style=\"color: var(--jp-warn-color2)\">lsst.characterizeImage.measurePsf</span> <span style=\"color: var(--jp-info-color0)\">INFO</span>: Sending 36 candidates to PSF determiner</pre>"
      ],
      "text/plain": [
       "<IPython.core.display.HTML object>"
      ]
     },
     "metadata": {},
     "output_type": "display_data"
    },
    {
     "data": {
      "text/html": [
       "<pre style=\"margin: 0.1em;\n",
       "padding-left: 0.25em;\n",
       "border-left-style: solid;\n",
       "font-family: var(--jp-code-font-family);\n",
       "font-size: var(--jp-code-font-size);\n",
       "line-height: var(--jp-code-line-height);\n",
       "\"><span style=\"color: var(--jp-warn-color2)\">lsst.characterizeImage.measurePsf.psfDeterminer</span> <span style=\"color: var(--jp-warn-color0)\">WARNING</span>: NOT scaling kernelSize by stellar quadrupole moment, but using absolute value</pre>"
      ],
      "text/plain": [
       "<IPython.core.display.HTML object>"
      ]
     },
     "metadata": {},
     "output_type": "display_data"
    },
    {
     "data": {
      "text/html": [
       "<pre style=\"margin: 0.1em;\n",
       "padding-left: 0.25em;\n",
       "border-left-style: solid;\n",
       "font-family: var(--jp-code-font-family);\n",
       "font-size: var(--jp-code-font-size);\n",
       "line-height: var(--jp-code-line-height);\n",
       "\"><span style=\"color: var(--jp-warn-color2)\">lsst.characterizeImage.measurePsf</span> <span style=\"color: var(--jp-info-color0)\">INFO</span>: PSF determination using 24/36 stars.</pre>"
      ],
      "text/plain": [
       "<IPython.core.display.HTML object>"
      ]
     },
     "metadata": {},
     "output_type": "display_data"
    },
    {
     "data": {
      "text/html": [
       "<pre style=\"margin: 0.1em;\n",
       "padding-left: 0.25em;\n",
       "border-left-style: solid;\n",
       "font-family: var(--jp-code-font-family);\n",
       "font-size: var(--jp-code-font-size);\n",
       "line-height: var(--jp-code-line-height);\n",
       "\"><span style=\"color: var(--jp-warn-color2)\">timer.lsst.characterizeImage.measurePsf</span> <span style=\"color: var(--jp-success-color0)\">DEBUG</span>: runEndCpuTime=134.061778395; runEndUserTime=122.18748; runEndSystemTime=11.874275; runEndMaxResidentSetSize=1127788544; runEndMinorPageFaults=6480370; runEndMajorPageFaults=14; runEndBlockInputs=3262304; runEndBlockOutputs=2936; runEndVoluntaryContextSwitches=115792; runEndInvoluntaryContextSwitches=60469</pre>"
      ],
      "text/plain": [
       "<IPython.core.display.HTML object>"
      ]
     },
     "metadata": {},
     "output_type": "display_data"
    },
    {
     "data": {
      "text/html": [
       "<pre style=\"margin: 0.1em;\n",
       "padding-left: 0.25em;\n",
       "border-left-style: solid;\n",
       "font-family: var(--jp-code-font-family);\n",
       "font-size: var(--jp-code-font-size);\n",
       "line-height: var(--jp-code-line-height);\n",
       "\"><span style=\"color: var(--jp-warn-color2)\">timer.lsst.characterizeImage</span> <span style=\"color: var(--jp-success-color0)\">DEBUG</span>: detectMeasureAndEstimatePsfEndCpuTime=134.062700878; detectMeasureAndEstimatePsfEndUserTime=122.188419; detectMeasureAndEstimatePsfEndSystemTime=11.874275; detectMeasureAndEstimatePsfEndMaxResidentSetSize=1127788544; detectMeasureAndEstimatePsfEndMinorPageFaults=6480370; detectMeasureAndEstimatePsfEndMajorPageFaults=14; detectMeasureAndEstimatePsfEndBlockInputs=3262304; detectMeasureAndEstimatePsfEndBlockOutputs=2936; detectMeasureAndEstimatePsfEndVoluntaryContextSwitches=115811; detectMeasureAndEstimatePsfEndInvoluntaryContextSwitches=60469</pre>"
      ],
      "text/plain": [
       "<IPython.core.display.HTML object>"
      ]
     },
     "metadata": {},
     "output_type": "display_data"
    },
    {
     "data": {
      "text/html": [
       "<pre style=\"margin: 0.1em;\n",
       "padding-left: 0.25em;\n",
       "border-left-style: solid;\n",
       "font-family: var(--jp-code-font-family);\n",
       "font-size: var(--jp-code-font-size);\n",
       "line-height: var(--jp-code-line-height);\n",
       "\"><span style=\"color: var(--jp-warn-color2)\">lsst.characterizeImage</span> <span style=\"color: var(--jp-info-color0)\">INFO</span>: iter 1; PSF sigma=6.45, dimensions=(41, 41); median background=6.08</pre>"
      ],
      "text/plain": [
       "<IPython.core.display.HTML object>"
      ]
     },
     "metadata": {},
     "output_type": "display_data"
    },
    {
     "data": {
      "text/html": [
       "<pre style=\"margin: 0.1em;\n",
       "padding-left: 0.25em;\n",
       "border-left-style: solid;\n",
       "font-family: var(--jp-code-font-family);\n",
       "font-size: var(--jp-code-font-size);\n",
       "line-height: var(--jp-code-line-height);\n",
       "\"><span style=\"color: var(--jp-warn-color2)\">timer.lsst.characterizeImage.repair</span> <span style=\"color: var(--jp-success-color0)\">DEBUG</span>: runStartCpuTime=134.291847263; runStartUserTime=122.349657; runStartSystemTime=11.942169; runStartMaxResidentSetSize=1127788544; runStartMinorPageFaults=6528091; runStartMajorPageFaults=14; runStartBlockInputs=3262304; runStartBlockOutputs=2936; runStartVoluntaryContextSwitches=115894; runStartInvoluntaryContextSwitches=60469</pre>"
      ],
      "text/plain": [
       "<IPython.core.display.HTML object>"
      ]
     },
     "metadata": {},
     "output_type": "display_data"
    },
    {
     "data": {
      "text/html": [
       "<pre style=\"margin: 0.1em;\n",
       "padding-left: 0.25em;\n",
       "border-left-style: solid;\n",
       "font-family: var(--jp-code-font-family);\n",
       "font-size: var(--jp-code-font-size);\n",
       "line-height: var(--jp-code-line-height);\n",
       "\"><span style=\"color: var(--jp-warn-color2)\">lsst.characterizeImage.repair</span> <span style=\"color: var(--jp-info-color0)\">INFO</span>: Identified 3 cosmic rays.</pre>"
      ],
      "text/plain": [
       "<IPython.core.display.HTML object>"
      ]
     },
     "metadata": {},
     "output_type": "display_data"
    },
    {
     "data": {
      "text/html": [
       "<pre style=\"margin: 0.1em;\n",
       "padding-left: 0.25em;\n",
       "border-left-style: solid;\n",
       "font-family: var(--jp-code-font-family);\n",
       "font-size: var(--jp-code-font-size);\n",
       "line-height: var(--jp-code-line-height);\n",
       "\"><span style=\"color: var(--jp-warn-color2)\">timer.lsst.characterizeImage.repair</span> <span style=\"color: var(--jp-success-color0)\">DEBUG</span>: runEndCpuTime=134.81883394; runEndUserTime=122.839657; runEndSystemTime=11.979154; runEndMaxResidentSetSize=1127788544; runEndMinorPageFaults=6552191; runEndMajorPageFaults=14; runEndBlockInputs=3262304; runEndBlockOutputs=2936; runEndVoluntaryContextSwitches=116042; runEndInvoluntaryContextSwitches=60469</pre>"
      ],
      "text/plain": [
       "<IPython.core.display.HTML object>"
      ]
     },
     "metadata": {},
     "output_type": "display_data"
    },
    {
     "data": {
      "text/html": [
       "<pre style=\"margin: 0.1em;\n",
       "padding-left: 0.25em;\n",
       "border-left-style: solid;\n",
       "font-family: var(--jp-code-font-family);\n",
       "font-size: var(--jp-code-font-size);\n",
       "line-height: var(--jp-code-line-height);\n",
       "\"><span style=\"color: var(--jp-warn-color2)\">timer.lsst.characterizeImage.measurement</span> <span style=\"color: var(--jp-success-color0)\">DEBUG</span>: runStartCpuTime=134.819697849; runStartUserTime=122.840538; runStartSystemTime=11.979154; runStartMaxResidentSetSize=1127788544; runStartMinorPageFaults=6552192; runStartMajorPageFaults=14; runStartBlockInputs=3262304; runStartBlockOutputs=2936; runStartVoluntaryContextSwitches=116061; runStartInvoluntaryContextSwitches=60469</pre>"
      ],
      "text/plain": [
       "<IPython.core.display.HTML object>"
      ]
     },
     "metadata": {},
     "output_type": "display_data"
    },
    {
     "data": {
      "text/html": [
       "<pre style=\"margin: 0.1em;\n",
       "padding-left: 0.25em;\n",
       "border-left-style: solid;\n",
       "font-family: var(--jp-code-font-family);\n",
       "font-size: var(--jp-code-font-size);\n",
       "line-height: var(--jp-code-line-height);\n",
       "\"><span style=\"color: var(--jp-warn-color2)\">lsst.characterizeImage.measurement</span> <span style=\"color: var(--jp-success-color0)\">DEBUG</span>: Mask plane &quot;THISDET&quot;: plane 10, bitmask 1024 = 0x400</pre>"
      ],
      "text/plain": [
       "<IPython.core.display.HTML object>"
      ]
     },
     "metadata": {},
     "output_type": "display_data"
    },
    {
     "data": {
      "text/html": [
       "<pre style=\"margin: 0.1em;\n",
       "padding-left: 0.25em;\n",
       "border-left-style: solid;\n",
       "font-family: var(--jp-code-font-family);\n",
       "font-size: var(--jp-code-font-size);\n",
       "line-height: var(--jp-code-line-height);\n",
       "\"><span style=\"color: var(--jp-warn-color2)\">lsst.characterizeImage.measurement</span> <span style=\"color: var(--jp-success-color0)\">DEBUG</span>: Mask plane &quot;OTHERDET&quot;: plane 11, bitmask 2048 = 0x800</pre>"
      ],
      "text/plain": [
       "<IPython.core.display.HTML object>"
      ]
     },
     "metadata": {},
     "output_type": "display_data"
    },
    {
     "data": {
      "text/html": [
       "<pre style=\"margin: 0.1em;\n",
       "padding-left: 0.25em;\n",
       "border-left-style: solid;\n",
       "font-family: var(--jp-code-font-family);\n",
       "font-size: var(--jp-code-font-size);\n",
       "line-height: var(--jp-code-line-height);\n",
       "\"><span style=\"color: var(--jp-warn-color2)\">lsst.characterizeImage.measurement</span> <span style=\"color: var(--jp-success-color0)\">DEBUG</span>: Measured from image: clipped mean = 0.106789, stdev = 9.35592</pre>"
      ],
      "text/plain": [
       "<IPython.core.display.HTML object>"
      ]
     },
     "metadata": {},
     "output_type": "display_data"
    },
    {
     "data": {
      "text/html": [
       "<pre style=\"margin: 0.1em;\n",
       "padding-left: 0.25em;\n",
       "border-left-style: solid;\n",
       "font-family: var(--jp-code-font-family);\n",
       "font-size: var(--jp-code-font-size);\n",
       "line-height: var(--jp-code-line-height);\n",
       "\"><span style=\"color: var(--jp-warn-color2)\">lsst.characterizeImage.measurement</span> <span style=\"color: var(--jp-success-color0)\">DEBUG</span>: Using noise generator: FixedGaussianNoiseGenerator: mean=0.106789, std=9.35592</pre>"
      ],
      "text/plain": [
       "<IPython.core.display.HTML object>"
      ]
     },
     "metadata": {},
     "output_type": "display_data"
    },
    {
     "data": {
      "text/html": [
       "<pre style=\"margin: 0.1em;\n",
       "padding-left: 0.25em;\n",
       "border-left-style: solid;\n",
       "font-family: var(--jp-code-font-family);\n",
       "font-size: var(--jp-code-font-size);\n",
       "line-height: var(--jp-code-line-height);\n",
       "\"><span style=\"color: var(--jp-warn-color2)\">lsst.characterizeImage.measurement</span> <span style=\"color: var(--jp-info-color0)\">INFO</span>: Measuring 81 sources (81 parents, 0 children) </pre>"
      ],
      "text/plain": [
       "<IPython.core.display.HTML object>"
      ]
     },
     "metadata": {},
     "output_type": "display_data"
    },
    {
     "data": {
      "text/html": [
       "<pre style=\"margin: 0.1em;\n",
       "padding-left: 0.25em;\n",
       "border-left-style: solid;\n",
       "font-family: var(--jp-code-font-family);\n",
       "font-size: var(--jp-code-font-size);\n",
       "line-height: var(--jp-code-line-height);\n",
       "\"><span style=\"color: var(--jp-warn-color2)\">timer.lsst.characterizeImage.measurement</span> <span style=\"color: var(--jp-success-color0)\">DEBUG</span>: runEndCpuTime=135.569142774; runEndUserTime=123.556984; runEndSystemTime=12.012136; runEndMaxResidentSetSize=1127788544; runEndMinorPageFaults=6576293; runEndMajorPageFaults=14; runEndBlockInputs=3262304; runEndBlockOutputs=2936; runEndVoluntaryContextSwitches=116351; runEndInvoluntaryContextSwitches=60470</pre>"
      ],
      "text/plain": [
       "<IPython.core.display.HTML object>"
      ]
     },
     "metadata": {},
     "output_type": "display_data"
    },
    {
     "data": {
      "text/html": [
       "<pre style=\"margin: 0.1em;\n",
       "padding-left: 0.25em;\n",
       "border-left-style: solid;\n",
       "font-family: var(--jp-code-font-family);\n",
       "font-size: var(--jp-code-font-size);\n",
       "line-height: var(--jp-code-line-height);\n",
       "\"><span style=\"color: var(--jp-warn-color2)\">timer.lsst.characterizeImage.catalogCalculation</span> <span style=\"color: var(--jp-success-color0)\">DEBUG</span>: runStartCpuTime=135.570314644; runStartUserTime=123.558156; runStartSystemTime=12.012153; runStartMaxResidentSetSize=1127788544; runStartMinorPageFaults=6576293; runStartMajorPageFaults=14; runStartBlockInputs=3262304; runStartBlockOutputs=2936; runStartVoluntaryContextSwitches=116366; runStartInvoluntaryContextSwitches=60470</pre>"
      ],
      "text/plain": [
       "<IPython.core.display.HTML object>"
      ]
     },
     "metadata": {},
     "output_type": "display_data"
    },
    {
     "data": {
      "text/html": [
       "<pre style=\"margin: 0.1em;\n",
       "padding-left: 0.25em;\n",
       "border-left-style: solid;\n",
       "font-family: var(--jp-code-font-family);\n",
       "font-size: var(--jp-code-font-size);\n",
       "line-height: var(--jp-code-line-height);\n",
       "\"><span style=\"color: var(--jp-warn-color2)\">timer.lsst.characterizeImage.catalogCalculation</span> <span style=\"color: var(--jp-success-color0)\">DEBUG</span>: runEndCpuTime=135.572877862; runEndUserTime=123.560669; runEndSystemTime=12.012203; runEndMaxResidentSetSize=1127788544; runEndMinorPageFaults=6576293; runEndMajorPageFaults=14; runEndBlockInputs=3262304; runEndBlockOutputs=2936; runEndVoluntaryContextSwitches=116385; runEndInvoluntaryContextSwitches=60470</pre>"
      ],
      "text/plain": [
       "<IPython.core.display.HTML object>"
      ]
     },
     "metadata": {},
     "output_type": "display_data"
    },
    {
     "data": {
      "text/html": [
       "<pre style=\"margin: 0.1em;\n",
       "padding-left: 0.25em;\n",
       "border-left-style: solid;\n",
       "font-family: var(--jp-code-font-family);\n",
       "font-size: var(--jp-code-font-size);\n",
       "line-height: var(--jp-code-line-height);\n",
       "\"><span style=\"color: var(--jp-warn-color2)\">timer.lsst.characterizeImage</span> <span style=\"color: var(--jp-success-color0)\">DEBUG</span>: runEndCpuTime=135.573759342; runEndUserTime=123.561551; runEndSystemTime=12.012203; runEndMaxResidentSetSize=1127788544; runEndMinorPageFaults=6576293; runEndMajorPageFaults=14; runEndBlockInputs=3262304; runEndBlockOutputs=2936; runEndVoluntaryContextSwitches=116404; runEndInvoluntaryContextSwitches=60470</pre>"
      ],
      "text/plain": [
       "<IPython.core.display.HTML object>"
      ]
     },
     "metadata": {},
     "output_type": "display_data"
    },
    {
     "name": "stdout",
     "output_type": "stream",
     "text": [
      "Psf shape from imChar task (x,y) = (1.432, 1.481) FWHM arcsec\n",
      "{'day_obs': 20220526, 'seq_num': 136, 'detector': 0, 'instrument': 'LATISS'}\n"
     ]
    },
    {
     "data": {
      "text/html": [
       "<pre style=\"margin: 0.1em;\n",
       "padding-left: 0.25em;\n",
       "border-left-style: solid;\n",
       "font-family: var(--jp-code-font-family);\n",
       "font-size: var(--jp-code-font-size);\n",
       "line-height: var(--jp-code-line-height);\n",
       "\"><span style=\"color: var(--jp-warn-color2)\">lsst.daf.butler._butler</span> <span style=\"color: var(--jp-success-color0)\">DEBUG</span>: Butler get: quickLookExp, dataId={&#x27;day_obs&#x27;: 20220526, &#x27;seq_num&#x27;: 136, &#x27;detector&#x27;: 0, &#x27;instrument&#x27;: &#x27;LATISS&#x27;}, parameters=None</pre>"
      ],
      "text/plain": [
       "<IPython.core.display.HTML object>"
      ]
     },
     "metadata": {},
     "output_type": "display_data"
    },
    {
     "data": {
      "text/html": [
       "<pre style=\"margin: 0.1em;\n",
       "padding-left: 0.25em;\n",
       "border-left-style: solid;\n",
       "font-family: var(--jp-code-font-family);\n",
       "font-size: var(--jp-code-font-size);\n",
       "line-height: var(--jp-code-line-height);\n",
       "\"><span style=\"color: var(--jp-warn-color2)\">lsst.daf.butler._butler</span> <span style=\"color: var(--jp-success-color0)\">DEBUG</span>: Assigned non-dimension dataId keys to dimension exposure: {&#x27;day_obs&#x27;: 20220526, &#x27;seq_num&#x27;: 136}</pre>"
      ],
      "text/plain": [
       "<IPython.core.display.HTML object>"
      ]
     },
     "metadata": {},
     "output_type": "display_data"
    },
    {
     "data": {
      "text/html": [
       "<pre style=\"margin: 0.1em;\n",
       "padding-left: 0.25em;\n",
       "border-left-style: solid;\n",
       "font-family: var(--jp-code-font-family);\n",
       "font-size: var(--jp-code-font-size);\n",
       "line-height: var(--jp-code-line-height);\n",
       "\"><span style=\"color: var(--jp-warn-color2)\">lsst.daf.butler.datastores.fileDatastore</span> <span style=\"color: var(--jp-success-color0)\">DEBUG</span>: Retrieve quickLookExp@{instrument: &#x27;LATISS&#x27;, detector: 0, exposure: 2022052600136}, sc=ExposureF] (id=445ff070-6da9-4483-a194-7b426018748e) from FileDatastore@&lt;butlerRoot&gt; with parameters None</pre>"
      ],
      "text/plain": [
       "<IPython.core.display.HTML object>"
      ]
     },
     "metadata": {},
     "output_type": "display_data"
    },
    {
     "data": {
      "text/html": [
       "<pre style=\"margin: 0.1em;\n",
       "padding-left: 0.25em;\n",
       "border-left-style: solid;\n",
       "font-family: var(--jp-code-font-family);\n",
       "font-size: var(--jp-code-font-size);\n",
       "line-height: var(--jp-code-line-height);\n",
       "\"><span style=\"color: var(--jp-warn-color2)\">lsst.daf.butler.datastores.fileDatastore</span> <span style=\"color: var(--jp-success-color0)\">DEBUG</span>: Accessing data from file:///repo/LATISS/LATISS/runs/quickLook/1/quickLookExp/20220526/AT_O_20220526_000136/quickLookExp_LATISS_SDSSr~empty_AT_O_20220526_000136_RXX_S00_LATISS_runs_quickLook_1.fits</pre>"
      ],
      "text/plain": [
       "<IPython.core.display.HTML object>"
      ]
     },
     "metadata": {},
     "output_type": "display_data"
    },
    {
     "data": {
      "text/html": [
       "<pre style=\"margin: 0.1em;\n",
       "padding-left: 0.25em;\n",
       "border-left-style: solid;\n",
       "font-family: var(--jp-code-font-family);\n",
       "font-size: var(--jp-code-font-size);\n",
       "line-height: var(--jp-code-line-height);\n",
       "\"><span style=\"color: var(--jp-warn-color2)\">lsst.daf.butler.datastores.fileDatastore</span> <span style=\"color: var(--jp-success-color0)\">DEBUG</span>: Reading from location file:///repo/LATISS/LATISS/runs/quickLook/1/quickLookExp/20220526/AT_O_20220526_000136/quickLookExp_LATISS_SDSSr~empty_AT_O_20220526_000136_RXX_S00_LATISS_runs_quickLook_1.fits  with formatter lsst.obs.base.formatters.fitsExposure.FitsExposureFormatter</pre>"
      ],
      "text/plain": [
       "<IPython.core.display.HTML object>"
      ]
     },
     "metadata": {},
     "output_type": "display_data"
    },
    {
     "data": {
      "text/html": [
       "<pre style=\"margin: 0.1em;\n",
       "padding-left: 0.25em;\n",
       "border-left-style: solid;\n",
       "font-family: var(--jp-code-font-family);\n",
       "font-size: var(--jp-code-font-size);\n",
       "line-height: var(--jp-code-line-height);\n",
       "\"><span style=\"color: var(--jp-warn-color2)\">timer.lsst.daf.butler.datastores.fileDatastore</span> <span style=\"color: var(--jp-success-color0)\">DEBUG</span>: Reading from location file:///repo/LATISS/LATISS/runs/quickLook/1/quickLookExp/20220526/AT_O_20220526_000136/quickLookExp_LATISS_SDSSr~empty_AT_O_20220526_000136_RXX_S00_LATISS_runs_quickLook_1.fits  with formatter lsst.obs.base.formatters.fitsExposure.FitsExposureFormatter: Took 1.2249 seconds</pre>"
      ],
      "text/plain": [
       "<IPython.core.display.HTML object>"
      ]
     },
     "metadata": {},
     "output_type": "display_data"
    },
    {
     "data": {
      "text/html": [
       "<pre style=\"margin: 0.1em;\n",
       "padding-left: 0.25em;\n",
       "border-left-style: solid;\n",
       "font-family: var(--jp-code-font-family);\n",
       "font-size: var(--jp-code-font-size);\n",
       "line-height: var(--jp-code-line-height);\n",
       "\"><span style=\"color: var(--jp-warn-color2)\">lsst.summit.utils.bestEffort</span> <span style=\"color: var(--jp-info-color0)\">INFO</span>: Found a ready-made quickLookExp in the repo. Returning that.</pre>"
      ],
      "text/plain": [
       "<IPython.core.display.HTML object>"
      ]
     },
     "metadata": {},
     "output_type": "display_data"
    },
    {
     "data": {
      "text/html": [
       "<pre style=\"margin: 0.1em;\n",
       "padding-left: 0.25em;\n",
       "border-left-style: solid;\n",
       "font-family: var(--jp-code-font-family);\n",
       "font-size: var(--jp-code-font-size);\n",
       "line-height: var(--jp-code-line-height);\n",
       "\"><span style=\"color: var(--jp-warn-color2)\">timer.lsst.characterizeImage</span> <span style=\"color: var(--jp-success-color0)\">DEBUG</span>: runStartCpuTime=136.559714992; runStartUserTime=124.438589; runStartSystemTime=12.121103; runStartMaxResidentSetSize=1127788544; runStartMinorPageFaults=6624356; runStartMajorPageFaults=14; runStartBlockInputs=3515552; runStartBlockOutputs=2936; runStartVoluntaryContextSwitches=117849; runStartInvoluntaryContextSwitches=60861</pre>"
      ],
      "text/plain": [
       "<IPython.core.display.HTML object>"
      ]
     },
     "metadata": {},
     "output_type": "display_data"
    },
    {
     "data": {
      "text/html": [
       "<pre style=\"margin: 0.1em;\n",
       "padding-left: 0.25em;\n",
       "border-left-style: solid;\n",
       "font-family: var(--jp-code-font-family);\n",
       "font-size: var(--jp-code-font-size);\n",
       "line-height: var(--jp-code-line-height);\n",
       "\"><span style=\"color: var(--jp-warn-color2)\">lsst.characterizeImage.background</span> <span style=\"color: var(--jp-success-color0)\">DEBUG</span>: Ignoring mask planes: BAD, EDGE, DETECTED, DETECTED_NEGATIVE, NO_DATA</pre>"
      ],
      "text/plain": [
       "<IPython.core.display.HTML object>"
      ]
     },
     "metadata": {},
     "output_type": "display_data"
    },
    {
     "data": {
      "text/html": [
       "<pre style=\"margin: 0.1em;\n",
       "padding-left: 0.25em;\n",
       "border-left-style: solid;\n",
       "font-family: var(--jp-code-font-family);\n",
       "font-size: var(--jp-code-font-size);\n",
       "line-height: var(--jp-code-line-height);\n",
       "\"><span style=\"color: var(--jp-warn-color2)\">timer.lsst.characterizeImage</span> <span style=\"color: var(--jp-success-color0)\">DEBUG</span>: detectMeasureAndEstimatePsfStartCpuTime=137.233358521; detectMeasureAndEstimatePsfStartUserTime=125.057626; detectMeasureAndEstimatePsfStartSystemTime=12.175709; detectMeasureAndEstimatePsfStartMaxResidentSetSize=1127788544; detectMeasureAndEstimatePsfStartMinorPageFaults=6672077; detectMeasureAndEstimatePsfStartMajorPageFaults=14; detectMeasureAndEstimatePsfStartBlockInputs=3515552; detectMeasureAndEstimatePsfStartBlockOutputs=2936; detectMeasureAndEstimatePsfStartVoluntaryContextSwitches=117885; detectMeasureAndEstimatePsfStartInvoluntaryContextSwitches=61618</pre>"
      ],
      "text/plain": [
       "<IPython.core.display.HTML object>"
      ]
     },
     "metadata": {},
     "output_type": "display_data"
    },
    {
     "data": {
      "text/html": [
       "<pre style=\"margin: 0.1em;\n",
       "padding-left: 0.25em;\n",
       "border-left-style: solid;\n",
       "font-family: var(--jp-code-font-family);\n",
       "font-size: var(--jp-code-font-size);\n",
       "line-height: var(--jp-code-line-height);\n",
       "\"><span style=\"color: var(--jp-warn-color2)\">lsst.characterizeImage</span> <span style=\"color: var(--jp-info-color0)\">INFO</span>: PSF estimation initialized with &#x27;simple&#x27; PSF</pre>"
      ],
      "text/plain": [
       "<IPython.core.display.HTML object>"
      ]
     },
     "metadata": {},
     "output_type": "display_data"
    },
    {
     "data": {
      "text/html": [
       "<pre style=\"margin: 0.1em;\n",
       "padding-left: 0.25em;\n",
       "border-left-style: solid;\n",
       "font-family: var(--jp-code-font-family);\n",
       "font-size: var(--jp-code-font-size);\n",
       "line-height: var(--jp-code-line-height);\n",
       "\"><span style=\"color: var(--jp-warn-color2)\">lsst.characterizeImage.installSimplePsf</span> <span style=\"color: var(--jp-success-color0)\">DEBUG</span>: installing a simple Gaussian PSF model with width=61, height=61, FWHM=15.000</pre>"
      ],
      "text/plain": [
       "<IPython.core.display.HTML object>"
      ]
     },
     "metadata": {},
     "output_type": "display_data"
    },
    {
     "data": {
      "text/html": [
       "<pre style=\"margin: 0.1em;\n",
       "padding-left: 0.25em;\n",
       "border-left-style: solid;\n",
       "font-family: var(--jp-code-font-family);\n",
       "font-size: var(--jp-code-font-size);\n",
       "line-height: var(--jp-code-line-height);\n",
       "\"><span style=\"color: var(--jp-warn-color2)\">timer.lsst.characterizeImage.repair</span> <span style=\"color: var(--jp-success-color0)\">DEBUG</span>: runStartCpuTime=137.236624274; runStartUserTime=125.059971; runStartSystemTime=12.176646; runStartMaxResidentSetSize=1127788544; runStartMinorPageFaults=6672077; runStartMajorPageFaults=14; runStartBlockInputs=3515552; runStartBlockOutputs=2936; runStartVoluntaryContextSwitches=117934; runStartInvoluntaryContextSwitches=61618</pre>"
      ],
      "text/plain": [
       "<IPython.core.display.HTML object>"
      ]
     },
     "metadata": {},
     "output_type": "display_data"
    },
    {
     "data": {
      "text/html": [
       "<pre style=\"margin: 0.1em;\n",
       "padding-left: 0.25em;\n",
       "border-left-style: solid;\n",
       "font-family: var(--jp-code-font-family);\n",
       "font-size: var(--jp-code-font-size);\n",
       "line-height: var(--jp-code-line-height);\n",
       "\"><span style=\"color: var(--jp-warn-color2)\">lsst.characterizeImage.repair</span> <span style=\"color: var(--jp-info-color0)\">INFO</span>: Identified 5 cosmic rays.</pre>"
      ],
      "text/plain": [
       "<IPython.core.display.HTML object>"
      ]
     },
     "metadata": {},
     "output_type": "display_data"
    },
    {
     "data": {
      "text/html": [
       "<pre style=\"margin: 0.1em;\n",
       "padding-left: 0.25em;\n",
       "border-left-style: solid;\n",
       "font-family: var(--jp-code-font-family);\n",
       "font-size: var(--jp-code-font-size);\n",
       "line-height: var(--jp-code-line-height);\n",
       "\"><span style=\"color: var(--jp-warn-color2)\">timer.lsst.characterizeImage.repair</span> <span style=\"color: var(--jp-success-color0)\">DEBUG</span>: runEndCpuTime=137.710978609; runEndUserTime=125.502204; runEndSystemTime=12.208751; runEndMaxResidentSetSize=1127788544; runEndMinorPageFaults=6696177; runEndMajorPageFaults=14; runEndBlockInputs=3515552; runEndBlockOutputs=2936; runEndVoluntaryContextSwitches=118041; runEndInvoluntaryContextSwitches=61618</pre>"
      ],
      "text/plain": [
       "<IPython.core.display.HTML object>"
      ]
     },
     "metadata": {},
     "output_type": "display_data"
    },
    {
     "data": {
      "text/html": [
       "<pre style=\"margin: 0.1em;\n",
       "padding-left: 0.25em;\n",
       "border-left-style: solid;\n",
       "font-family: var(--jp-code-font-family);\n",
       "font-size: var(--jp-code-font-size);\n",
       "line-height: var(--jp-code-line-height);\n",
       "\"><span style=\"color: var(--jp-warn-color2)\">timer.lsst.characterizeImage.detection</span> <span style=\"color: var(--jp-success-color0)\">DEBUG</span>: runStartCpuTime=137.712307394; runStartUserTime=125.503518; runStartSystemTime=12.208782; runStartMaxResidentSetSize=1127788544; runStartMinorPageFaults=6696177; runStartMajorPageFaults=14; runStartBlockInputs=3515552; runStartBlockOutputs=2936; runStartVoluntaryContextSwitches=118059; runStartInvoluntaryContextSwitches=61618</pre>"
      ],
      "text/plain": [
       "<IPython.core.display.HTML object>"
      ]
     },
     "metadata": {},
     "output_type": "display_data"
    },
    {
     "data": {
      "text/html": [
       "<pre style=\"margin: 0.1em;\n",
       "padding-left: 0.25em;\n",
       "border-left-style: solid;\n",
       "font-family: var(--jp-code-font-family);\n",
       "font-size: var(--jp-code-font-size);\n",
       "line-height: var(--jp-code-line-height);\n",
       "\"><span style=\"color: var(--jp-warn-color2)\">timer.lsst.characterizeImage.detection</span> <span style=\"color: var(--jp-success-color0)\">DEBUG</span>: detectFootprintsStartCpuTime=137.713274657; detectFootprintsStartUserTime=125.504486; detectFootprintsStartSystemTime=12.208782; detectFootprintsStartMaxResidentSetSize=1127788544; detectFootprintsStartMinorPageFaults=6696177; detectFootprintsStartMajorPageFaults=14; detectFootprintsStartBlockInputs=3515552; detectFootprintsStartBlockOutputs=2936; detectFootprintsStartVoluntaryContextSwitches=118076; detectFootprintsStartInvoluntaryContextSwitches=61618</pre>"
      ],
      "text/plain": [
       "<IPython.core.display.HTML object>"
      ]
     },
     "metadata": {},
     "output_type": "display_data"
    },
    {
     "data": {
      "text/html": [
       "<pre style=\"margin: 0.1em;\n",
       "padding-left: 0.25em;\n",
       "border-left-style: solid;\n",
       "font-family: var(--jp-code-font-family);\n",
       "font-size: var(--jp-code-font-size);\n",
       "line-height: var(--jp-code-line-height);\n",
       "\"><span style=\"color: var(--jp-warn-color2)\">lsst.characterizeImage.detection</span> <span style=\"color: var(--jp-success-color0)\">DEBUG</span>: Detection threshold: VALUE value=3.167187 (positive) multiplier=5</pre>"
      ],
      "text/plain": [
       "<IPython.core.display.HTML object>"
      ]
     },
     "metadata": {},
     "output_type": "display_data"
    },
    {
     "data": {
      "text/html": [
       "<pre style=\"margin: 0.1em;\n",
       "padding-left: 0.25em;\n",
       "border-left-style: solid;\n",
       "font-family: var(--jp-code-font-family);\n",
       "font-size: var(--jp-code-font-size);\n",
       "line-height: var(--jp-code-line-height);\n",
       "\"><span style=\"color: var(--jp-warn-color2)\">lsst.characterizeImage.detection</span> <span style=\"color: var(--jp-success-color0)\">DEBUG</span>: Detection threshold: VALUE value=3.167187 (negative) multiplier=5</pre>"
      ],
      "text/plain": [
       "<IPython.core.display.HTML object>"
      ]
     },
     "metadata": {},
     "output_type": "display_data"
    },
    {
     "data": {
      "text/html": [
       "<pre style=\"margin: 0.1em;\n",
       "padding-left: 0.25em;\n",
       "border-left-style: solid;\n",
       "font-family: var(--jp-code-font-family);\n",
       "font-size: var(--jp-code-font-size);\n",
       "line-height: var(--jp-code-line-height);\n",
       "\"><span style=\"color: var(--jp-warn-color2)\">lsst.characterizeImage.detection</span> <span style=\"color: var(--jp-info-color0)\">INFO</span>: Detected 101 positive peaks in 85 footprints and 5 negative peaks in 4 footprints to 25 sigma</pre>"
      ],
      "text/plain": [
       "<IPython.core.display.HTML object>"
      ]
     },
     "metadata": {},
     "output_type": "display_data"
    },
    {
     "data": {
      "text/html": [
       "<pre style=\"margin: 0.1em;\n",
       "padding-left: 0.25em;\n",
       "border-left-style: solid;\n",
       "font-family: var(--jp-code-font-family);\n",
       "font-size: var(--jp-code-font-size);\n",
       "line-height: var(--jp-code-line-height);\n",
       "\"><span style=\"color: var(--jp-warn-color2)\">lsst.characterizeImage.detection.background</span> <span style=\"color: var(--jp-success-color0)\">DEBUG</span>: Ignoring mask planes: BAD, EDGE, DETECTED, DETECTED_NEGATIVE, NO_DATA</pre>"
      ],
      "text/plain": [
       "<IPython.core.display.HTML object>"
      ]
     },
     "metadata": {},
     "output_type": "display_data"
    },
    {
     "data": {
      "text/html": [
       "<pre style=\"margin: 0.1em;\n",
       "padding-left: 0.25em;\n",
       "border-left-style: solid;\n",
       "font-family: var(--jp-code-font-family);\n",
       "font-size: var(--jp-code-font-size);\n",
       "line-height: var(--jp-code-line-height);\n",
       "\"><span style=\"color: var(--jp-warn-color2)\">lsst.characterizeImage.detection</span> <span style=\"color: var(--jp-info-color0)\">INFO</span>: Resubtracting the background after object detection</pre>"
      ],
      "text/plain": [
       "<IPython.core.display.HTML object>"
      ]
     },
     "metadata": {},
     "output_type": "display_data"
    },
    {
     "data": {
      "text/html": [
       "<pre style=\"margin: 0.1em;\n",
       "padding-left: 0.25em;\n",
       "border-left-style: solid;\n",
       "font-family: var(--jp-code-font-family);\n",
       "font-size: var(--jp-code-font-size);\n",
       "line-height: var(--jp-code-line-height);\n",
       "\"><span style=\"color: var(--jp-warn-color2)\">timer.lsst.characterizeImage.detection</span> <span style=\"color: var(--jp-success-color0)\">DEBUG</span>: detectFootprintsEndCpuTime=141.191052643; detectFootprintsEndUserTime=128.78795; detectFootprintsEndSystemTime=12.403078; detectFootprintsEndMaxResidentSetSize=1129213952; detectFootprintsEndMinorPageFaults=6886338; detectFootprintsEndMajorPageFaults=14; detectFootprintsEndBlockInputs=3515552; detectFootprintsEndBlockOutputs=2936; detectFootprintsEndVoluntaryContextSwitches=118362; detectFootprintsEndInvoluntaryContextSwitches=62887</pre>"
      ],
      "text/plain": [
       "<IPython.core.display.HTML object>"
      ]
     },
     "metadata": {},
     "output_type": "display_data"
    },
    {
     "data": {
      "text/html": [
       "<pre style=\"margin: 0.1em;\n",
       "padding-left: 0.25em;\n",
       "border-left-style: solid;\n",
       "font-family: var(--jp-code-font-family);\n",
       "font-size: var(--jp-code-font-size);\n",
       "line-height: var(--jp-code-line-height);\n",
       "\"><span style=\"color: var(--jp-warn-color2)\">timer.lsst.characterizeImage.detection</span> <span style=\"color: var(--jp-success-color0)\">DEBUG</span>: runEndCpuTime=141.192448071; runEndUserTime=128.789327; runEndSystemTime=12.403114; runEndMaxResidentSetSize=1129213952; runEndMinorPageFaults=6886338; runEndMajorPageFaults=14; runEndBlockInputs=3515552; runEndBlockOutputs=2936; runEndVoluntaryContextSwitches=118384; runEndInvoluntaryContextSwitches=62887</pre>"
      ],
      "text/plain": [
       "<IPython.core.display.HTML object>"
      ]
     },
     "metadata": {},
     "output_type": "display_data"
    },
    {
     "data": {
      "text/html": [
       "<pre style=\"margin: 0.1em;\n",
       "padding-left: 0.25em;\n",
       "border-left-style: solid;\n",
       "font-family: var(--jp-code-font-family);\n",
       "font-size: var(--jp-code-font-size);\n",
       "line-height: var(--jp-code-line-height);\n",
       "\"><span style=\"color: var(--jp-warn-color2)\">timer.lsst.characterizeImage.measurement</span> <span style=\"color: var(--jp-success-color0)\">DEBUG</span>: runStartCpuTime=141.193317059; runStartUserTime=128.790197; runStartSystemTime=12.403114; runStartMaxResidentSetSize=1129213952; runStartMinorPageFaults=6886338; runStartMajorPageFaults=14; runStartBlockInputs=3515552; runStartBlockOutputs=2936; runStartVoluntaryContextSwitches=118403; runStartInvoluntaryContextSwitches=62887</pre>"
      ],
      "text/plain": [
       "<IPython.core.display.HTML object>"
      ]
     },
     "metadata": {},
     "output_type": "display_data"
    },
    {
     "data": {
      "text/html": [
       "<pre style=\"margin: 0.1em;\n",
       "padding-left: 0.25em;\n",
       "border-left-style: solid;\n",
       "font-family: var(--jp-code-font-family);\n",
       "font-size: var(--jp-code-font-size);\n",
       "line-height: var(--jp-code-line-height);\n",
       "\"><span style=\"color: var(--jp-warn-color2)\">lsst.characterizeImage.measurement</span> <span style=\"color: var(--jp-success-color0)\">DEBUG</span>: Mask plane &quot;THISDET&quot;: plane 10, bitmask 1024 = 0x400</pre>"
      ],
      "text/plain": [
       "<IPython.core.display.HTML object>"
      ]
     },
     "metadata": {},
     "output_type": "display_data"
    },
    {
     "data": {
      "text/html": [
       "<pre style=\"margin: 0.1em;\n",
       "padding-left: 0.25em;\n",
       "border-left-style: solid;\n",
       "font-family: var(--jp-code-font-family);\n",
       "font-size: var(--jp-code-font-size);\n",
       "line-height: var(--jp-code-line-height);\n",
       "\"><span style=\"color: var(--jp-warn-color2)\">lsst.characterizeImage.measurement</span> <span style=\"color: var(--jp-success-color0)\">DEBUG</span>: Mask plane &quot;OTHERDET&quot;: plane 11, bitmask 2048 = 0x800</pre>"
      ],
      "text/plain": [
       "<IPython.core.display.HTML object>"
      ]
     },
     "metadata": {},
     "output_type": "display_data"
    },
    {
     "data": {
      "text/html": [
       "<pre style=\"margin: 0.1em;\n",
       "padding-left: 0.25em;\n",
       "border-left-style: solid;\n",
       "font-family: var(--jp-code-font-family);\n",
       "font-size: var(--jp-code-font-size);\n",
       "line-height: var(--jp-code-line-height);\n",
       "\"><span style=\"color: var(--jp-warn-color2)\">lsst.characterizeImage.measurement</span> <span style=\"color: var(--jp-success-color0)\">DEBUG</span>: Measured from image: clipped mean = 0.105529, stdev = 9.3611</pre>"
      ],
      "text/plain": [
       "<IPython.core.display.HTML object>"
      ]
     },
     "metadata": {},
     "output_type": "display_data"
    },
    {
     "data": {
      "text/html": [
       "<pre style=\"margin: 0.1em;\n",
       "padding-left: 0.25em;\n",
       "border-left-style: solid;\n",
       "font-family: var(--jp-code-font-family);\n",
       "font-size: var(--jp-code-font-size);\n",
       "line-height: var(--jp-code-line-height);\n",
       "\"><span style=\"color: var(--jp-warn-color2)\">lsst.characterizeImage.measurement</span> <span style=\"color: var(--jp-success-color0)\">DEBUG</span>: Using noise generator: FixedGaussianNoiseGenerator: mean=0.105529, std=9.3611</pre>"
      ],
      "text/plain": [
       "<IPython.core.display.HTML object>"
      ]
     },
     "metadata": {},
     "output_type": "display_data"
    },
    {
     "data": {
      "text/html": [
       "<pre style=\"margin: 0.1em;\n",
       "padding-left: 0.25em;\n",
       "border-left-style: solid;\n",
       "font-family: var(--jp-code-font-family);\n",
       "font-size: var(--jp-code-font-size);\n",
       "line-height: var(--jp-code-line-height);\n",
       "\"><span style=\"color: var(--jp-warn-color2)\">lsst.characterizeImage.measurement</span> <span style=\"color: var(--jp-info-color0)\">INFO</span>: Measuring 85 sources (85 parents, 0 children) </pre>"
      ],
      "text/plain": [
       "<IPython.core.display.HTML object>"
      ]
     },
     "metadata": {},
     "output_type": "display_data"
    },
    {
     "data": {
      "text/html": [
       "<pre style=\"margin: 0.1em;\n",
       "padding-left: 0.25em;\n",
       "border-left-style: solid;\n",
       "font-family: var(--jp-code-font-family);\n",
       "font-size: var(--jp-code-font-size);\n",
       "line-height: var(--jp-code-line-height);\n",
       "\"><span style=\"color: var(--jp-warn-color2)\">lsst.characterizeImage.measurement.base_GaussianFlux</span> <span style=\"color: var(--jp-success-color0)\">DEBUG</span>: MeasurementError in base_GaussianFlux.measure on record 84: \n",
       "  File &quot;src/InputUtilities.cc&quot;, line 179, in lsst::afw::geom::ellipses::Quadrupole lsst::meas::base::SafeShapeExtractor::operator()(lsst::afw::table::SourceRecord&amp;, const lsst::meas::base::FlagHandler&amp;) const\n",
       "    base_GaussianFlux: Shape needed, and Shape slot measurement failed. {0}\n",
       "lsst::meas::base::MeasurementError: &#x27;base_GaussianFlux: Shape needed, and Shape slot measurement failed.&#x27;\n",
       "</pre>"
      ],
      "text/plain": [
       "<IPython.core.display.HTML object>"
      ]
     },
     "metadata": {},
     "output_type": "display_data"
    },
    {
     "data": {
      "text/html": [
       "<pre style=\"margin: 0.1em;\n",
       "padding-left: 0.25em;\n",
       "border-left-style: solid;\n",
       "font-family: var(--jp-code-font-family);\n",
       "font-size: var(--jp-code-font-size);\n",
       "line-height: var(--jp-code-line-height);\n",
       "\"><span style=\"color: var(--jp-warn-color2)\">lsst.characterizeImage.measurement.base_SdssCentroid</span> <span style=\"color: var(--jp-success-color0)\">DEBUG</span>: MeasurementError in base_SdssCentroid.measure on record 85: \n",
       "  File &quot;src/SdssCentroid.cc&quot;, line 384, in std::pair&lt;MaskedImageT, double&gt; lsst::meas::base::{anonymous}::smoothAndBinImage(std::shared_ptr&lt;const lsst::afw::detection::Psf&gt;, int, int, const MaskedImageT&amp;, int, int, lsst::meas::base::FlagHandler) [with MaskedImageT = lsst::afw::image::MaskedImage&lt;float&gt;]\n",
       "    Object too close to edge {0}\n",
       "lsst::meas::base::MeasurementError: &#x27;Object too close to edge&#x27;\n",
       "</pre>"
      ],
      "text/plain": [
       "<IPython.core.display.HTML object>"
      ]
     },
     "metadata": {},
     "output_type": "display_data"
    },
    {
     "data": {
      "text/html": [
       "<pre style=\"margin: 0.1em;\n",
       "padding-left: 0.25em;\n",
       "border-left-style: solid;\n",
       "font-family: var(--jp-code-font-family);\n",
       "font-size: var(--jp-code-font-size);\n",
       "line-height: var(--jp-code-line-height);\n",
       "\"><span style=\"color: var(--jp-warn-color2)\">timer.lsst.characterizeImage.measurement</span> <span style=\"color: var(--jp-success-color0)\">DEBUG</span>: runEndCpuTime=141.871799303; runEndUserTime=129.432574; runEndSystemTime=12.4392; runEndMaxResidentSetSize=1129213952; runEndMinorPageFaults=6910438; runEndMajorPageFaults=14; runEndBlockInputs=3515552; runEndBlockOutputs=2936; runEndVoluntaryContextSwitches=118741; runEndInvoluntaryContextSwitches=62888</pre>"
      ],
      "text/plain": [
       "<IPython.core.display.HTML object>"
      ]
     },
     "metadata": {},
     "output_type": "display_data"
    },
    {
     "data": {
      "text/html": [
       "<pre style=\"margin: 0.1em;\n",
       "padding-left: 0.25em;\n",
       "border-left-style: solid;\n",
       "font-family: var(--jp-code-font-family);\n",
       "font-size: var(--jp-code-font-size);\n",
       "line-height: var(--jp-code-line-height);\n",
       "\"><span style=\"color: var(--jp-warn-color2)\">timer.lsst.characterizeImage.measurePsf</span> <span style=\"color: var(--jp-success-color0)\">DEBUG</span>: runStartCpuTime=141.873096337; runStartUserTime=129.433863; runStartSystemTime=12.439228; runStartMaxResidentSetSize=1129213952; runStartMinorPageFaults=6910438; runStartMajorPageFaults=14; runStartBlockInputs=3515552; runStartBlockOutputs=2936; runStartVoluntaryContextSwitches=118759; runStartInvoluntaryContextSwitches=62888</pre>"
      ],
      "text/plain": [
       "<IPython.core.display.HTML object>"
      ]
     },
     "metadata": {},
     "output_type": "display_data"
    },
    {
     "data": {
      "text/html": [
       "<pre style=\"margin: 0.1em;\n",
       "padding-left: 0.25em;\n",
       "border-left-style: solid;\n",
       "font-family: var(--jp-code-font-family);\n",
       "font-size: var(--jp-code-font-size);\n",
       "line-height: var(--jp-code-line-height);\n",
       "\"><span style=\"color: var(--jp-warn-color2)\">lsst.characterizeImage.measurePsf</span> <span style=\"color: var(--jp-info-color0)\">INFO</span>: Measuring PSF</pre>"
      ],
      "text/plain": [
       "<IPython.core.display.HTML object>"
      ]
     },
     "metadata": {},
     "output_type": "display_data"
    },
    {
     "data": {
      "text/html": [
       "<pre style=\"margin: 0.1em;\n",
       "padding-left: 0.25em;\n",
       "border-left-style: solid;\n",
       "font-family: var(--jp-code-font-family);\n",
       "font-size: var(--jp-code-font-size);\n",
       "line-height: var(--jp-code-line-height);\n",
       "\"><span style=\"color: var(--jp-warn-color2)\">lsst.characterizeImage.measurePsf</span> <span style=\"color: var(--jp-info-color0)\">INFO</span>: PSF star selector found 41 candidates</pre>"
      ],
      "text/plain": [
       "<IPython.core.display.HTML object>"
      ]
     },
     "metadata": {},
     "output_type": "display_data"
    },
    {
     "data": {
      "text/html": [
       "<pre style=\"margin: 0.1em;\n",
       "padding-left: 0.25em;\n",
       "border-left-style: solid;\n",
       "font-family: var(--jp-code-font-family);\n",
       "font-size: var(--jp-code-font-size);\n",
       "line-height: var(--jp-code-line-height);\n",
       "\"><span style=\"color: var(--jp-warn-color2)\">lsst.characterizeImage.measurePsf.reserve</span> <span style=\"color: var(--jp-info-color0)\">INFO</span>: Reserved 0/41 sources</pre>"
      ],
      "text/plain": [
       "<IPython.core.display.HTML object>"
      ]
     },
     "metadata": {},
     "output_type": "display_data"
    },
    {
     "data": {
      "text/html": [
       "<pre style=\"margin: 0.1em;\n",
       "padding-left: 0.25em;\n",
       "border-left-style: solid;\n",
       "font-family: var(--jp-code-font-family);\n",
       "font-size: var(--jp-code-font-size);\n",
       "line-height: var(--jp-code-line-height);\n",
       "\"><span style=\"color: var(--jp-warn-color2)\">lsst.characterizeImage.measurePsf</span> <span style=\"color: var(--jp-info-color0)\">INFO</span>: Sending 41 candidates to PSF determiner</pre>"
      ],
      "text/plain": [
       "<IPython.core.display.HTML object>"
      ]
     },
     "metadata": {},
     "output_type": "display_data"
    },
    {
     "data": {
      "text/html": [
       "<pre style=\"margin: 0.1em;\n",
       "padding-left: 0.25em;\n",
       "border-left-style: solid;\n",
       "font-family: var(--jp-code-font-family);\n",
       "font-size: var(--jp-code-font-size);\n",
       "line-height: var(--jp-code-line-height);\n",
       "\"><span style=\"color: var(--jp-warn-color2)\">lsst.characterizeImage.measurePsf.psfDeterminer</span> <span style=\"color: var(--jp-warn-color0)\">WARNING</span>: NOT scaling kernelSize by stellar quadrupole moment, but using absolute value</pre>"
      ],
      "text/plain": [
       "<IPython.core.display.HTML object>"
      ]
     },
     "metadata": {},
     "output_type": "display_data"
    },
    {
     "data": {
      "text/html": [
       "<pre style=\"margin: 0.1em;\n",
       "padding-left: 0.25em;\n",
       "border-left-style: solid;\n",
       "font-family: var(--jp-code-font-family);\n",
       "font-size: var(--jp-code-font-size);\n",
       "line-height: var(--jp-code-line-height);\n",
       "\"><span style=\"color: var(--jp-warn-color2)\">lsst.characterizeImage.measurePsf</span> <span style=\"color: var(--jp-info-color0)\">INFO</span>: PSF determination using 32/41 stars.</pre>"
      ],
      "text/plain": [
       "<IPython.core.display.HTML object>"
      ]
     },
     "metadata": {},
     "output_type": "display_data"
    },
    {
     "data": {
      "text/html": [
       "<pre style=\"margin: 0.1em;\n",
       "padding-left: 0.25em;\n",
       "border-left-style: solid;\n",
       "font-family: var(--jp-code-font-family);\n",
       "font-size: var(--jp-code-font-size);\n",
       "line-height: var(--jp-code-line-height);\n",
       "\"><span style=\"color: var(--jp-warn-color2)\">timer.lsst.characterizeImage.measurePsf</span> <span style=\"color: var(--jp-success-color0)\">DEBUG</span>: runEndCpuTime=142.528511633; runEndUserTime=130.052164; runEndSystemTime=12.476324; runEndMaxResidentSetSize=1129213952; runEndMinorPageFaults=6934539; runEndMajorPageFaults=14; runEndBlockInputs=3515552; runEndBlockOutputs=2936; runEndVoluntaryContextSwitches=119031; runEndInvoluntaryContextSwitches=62892</pre>"
      ],
      "text/plain": [
       "<IPython.core.display.HTML object>"
      ]
     },
     "metadata": {},
     "output_type": "display_data"
    },
    {
     "data": {
      "text/html": [
       "<pre style=\"margin: 0.1em;\n",
       "padding-left: 0.25em;\n",
       "border-left-style: solid;\n",
       "font-family: var(--jp-code-font-family);\n",
       "font-size: var(--jp-code-font-size);\n",
       "line-height: var(--jp-code-line-height);\n",
       "\"><span style=\"color: var(--jp-warn-color2)\">timer.lsst.characterizeImage</span> <span style=\"color: var(--jp-success-color0)\">DEBUG</span>: detectMeasureAndEstimatePsfEndCpuTime=142.529444834; detectMeasureAndEstimatePsfEndUserTime=130.053115; detectMeasureAndEstimatePsfEndSystemTime=12.476324; detectMeasureAndEstimatePsfEndMaxResidentSetSize=1129213952; detectMeasureAndEstimatePsfEndMinorPageFaults=6934539; detectMeasureAndEstimatePsfEndMajorPageFaults=14; detectMeasureAndEstimatePsfEndBlockInputs=3515552; detectMeasureAndEstimatePsfEndBlockOutputs=2936; detectMeasureAndEstimatePsfEndVoluntaryContextSwitches=119050; detectMeasureAndEstimatePsfEndInvoluntaryContextSwitches=62892</pre>"
      ],
      "text/plain": [
       "<IPython.core.display.HTML object>"
      ]
     },
     "metadata": {},
     "output_type": "display_data"
    },
    {
     "data": {
      "text/html": [
       "<pre style=\"margin: 0.1em;\n",
       "padding-left: 0.25em;\n",
       "border-left-style: solid;\n",
       "font-family: var(--jp-code-font-family);\n",
       "font-size: var(--jp-code-font-size);\n",
       "line-height: var(--jp-code-line-height);\n",
       "\"><span style=\"color: var(--jp-warn-color2)\">lsst.characterizeImage</span> <span style=\"color: var(--jp-info-color0)\">INFO</span>: iter 1; PSF sigma=6.22, dimensions=(41, 41); median background=6.08</pre>"
      ],
      "text/plain": [
       "<IPython.core.display.HTML object>"
      ]
     },
     "metadata": {},
     "output_type": "display_data"
    },
    {
     "data": {
      "text/html": [
       "<pre style=\"margin: 0.1em;\n",
       "padding-left: 0.25em;\n",
       "border-left-style: solid;\n",
       "font-family: var(--jp-code-font-family);\n",
       "font-size: var(--jp-code-font-size);\n",
       "line-height: var(--jp-code-line-height);\n",
       "\"><span style=\"color: var(--jp-warn-color2)\">timer.lsst.characterizeImage.repair</span> <span style=\"color: var(--jp-success-color0)\">DEBUG</span>: runStartCpuTime=142.750810029; runStartUserTime=130.225399; runStartSystemTime=12.525389; runStartMaxResidentSetSize=1129213952; runStartMinorPageFaults=6982260; runStartMajorPageFaults=14; runStartBlockInputs=3515552; runStartBlockOutputs=2936; runStartVoluntaryContextSwitches=119128; runStartInvoluntaryContextSwitches=62892</pre>"
      ],
      "text/plain": [
       "<IPython.core.display.HTML object>"
      ]
     },
     "metadata": {},
     "output_type": "display_data"
    },
    {
     "data": {
      "text/html": [
       "<pre style=\"margin: 0.1em;\n",
       "padding-left: 0.25em;\n",
       "border-left-style: solid;\n",
       "font-family: var(--jp-code-font-family);\n",
       "font-size: var(--jp-code-font-size);\n",
       "line-height: var(--jp-code-line-height);\n",
       "\"><span style=\"color: var(--jp-warn-color2)\">lsst.characterizeImage.repair</span> <span style=\"color: var(--jp-info-color0)\">INFO</span>: Identified 4 cosmic rays.</pre>"
      ],
      "text/plain": [
       "<IPython.core.display.HTML object>"
      ]
     },
     "metadata": {},
     "output_type": "display_data"
    },
    {
     "data": {
      "text/html": [
       "<pre style=\"margin: 0.1em;\n",
       "padding-left: 0.25em;\n",
       "border-left-style: solid;\n",
       "font-family: var(--jp-code-font-family);\n",
       "font-size: var(--jp-code-font-size);\n",
       "line-height: var(--jp-code-line-height);\n",
       "\"><span style=\"color: var(--jp-warn-color2)\">timer.lsst.characterizeImage.repair</span> <span style=\"color: var(--jp-success-color0)\">DEBUG</span>: runEndCpuTime=143.202217176; runEndUserTime=130.646694; runEndSystemTime=12.5555; runEndMaxResidentSetSize=1129213952; runEndMinorPageFaults=7006360; runEndMajorPageFaults=14; runEndBlockInputs=3515552; runEndBlockOutputs=2936; runEndVoluntaryContextSwitches=119262; runEndInvoluntaryContextSwitches=62892</pre>"
      ],
      "text/plain": [
       "<IPython.core.display.HTML object>"
      ]
     },
     "metadata": {},
     "output_type": "display_data"
    },
    {
     "data": {
      "text/html": [
       "<pre style=\"margin: 0.1em;\n",
       "padding-left: 0.25em;\n",
       "border-left-style: solid;\n",
       "font-family: var(--jp-code-font-family);\n",
       "font-size: var(--jp-code-font-size);\n",
       "line-height: var(--jp-code-line-height);\n",
       "\"><span style=\"color: var(--jp-warn-color2)\">timer.lsst.characterizeImage.measurement</span> <span style=\"color: var(--jp-success-color0)\">DEBUG</span>: runStartCpuTime=143.203074154; runStartUserTime=130.647568; runStartSystemTime=12.5555; runStartMaxResidentSetSize=1129213952; runStartMinorPageFaults=7006360; runStartMajorPageFaults=14; runStartBlockInputs=3515552; runStartBlockOutputs=2936; runStartVoluntaryContextSwitches=119281; runStartInvoluntaryContextSwitches=62892</pre>"
      ],
      "text/plain": [
       "<IPython.core.display.HTML object>"
      ]
     },
     "metadata": {},
     "output_type": "display_data"
    },
    {
     "data": {
      "text/html": [
       "<pre style=\"margin: 0.1em;\n",
       "padding-left: 0.25em;\n",
       "border-left-style: solid;\n",
       "font-family: var(--jp-code-font-family);\n",
       "font-size: var(--jp-code-font-size);\n",
       "line-height: var(--jp-code-line-height);\n",
       "\"><span style=\"color: var(--jp-warn-color2)\">lsst.characterizeImage.measurement</span> <span style=\"color: var(--jp-success-color0)\">DEBUG</span>: Mask plane &quot;THISDET&quot;: plane 10, bitmask 1024 = 0x400</pre>"
      ],
      "text/plain": [
       "<IPython.core.display.HTML object>"
      ]
     },
     "metadata": {},
     "output_type": "display_data"
    },
    {
     "data": {
      "text/html": [
       "<pre style=\"margin: 0.1em;\n",
       "padding-left: 0.25em;\n",
       "border-left-style: solid;\n",
       "font-family: var(--jp-code-font-family);\n",
       "font-size: var(--jp-code-font-size);\n",
       "line-height: var(--jp-code-line-height);\n",
       "\"><span style=\"color: var(--jp-warn-color2)\">lsst.characterizeImage.measurement</span> <span style=\"color: var(--jp-success-color0)\">DEBUG</span>: Mask plane &quot;OTHERDET&quot;: plane 11, bitmask 2048 = 0x800</pre>"
      ],
      "text/plain": [
       "<IPython.core.display.HTML object>"
      ]
     },
     "metadata": {},
     "output_type": "display_data"
    },
    {
     "data": {
      "text/html": [
       "<pre style=\"margin: 0.1em;\n",
       "padding-left: 0.25em;\n",
       "border-left-style: solid;\n",
       "font-family: var(--jp-code-font-family);\n",
       "font-size: var(--jp-code-font-size);\n",
       "line-height: var(--jp-code-line-height);\n",
       "\"><span style=\"color: var(--jp-warn-color2)\">lsst.characterizeImage.measurement</span> <span style=\"color: var(--jp-success-color0)\">DEBUG</span>: Measured from image: clipped mean = 0.105536, stdev = 9.36111</pre>"
      ],
      "text/plain": [
       "<IPython.core.display.HTML object>"
      ]
     },
     "metadata": {},
     "output_type": "display_data"
    },
    {
     "data": {
      "text/html": [
       "<pre style=\"margin: 0.1em;\n",
       "padding-left: 0.25em;\n",
       "border-left-style: solid;\n",
       "font-family: var(--jp-code-font-family);\n",
       "font-size: var(--jp-code-font-size);\n",
       "line-height: var(--jp-code-line-height);\n",
       "\"><span style=\"color: var(--jp-warn-color2)\">lsst.characterizeImage.measurement</span> <span style=\"color: var(--jp-success-color0)\">DEBUG</span>: Using noise generator: FixedGaussianNoiseGenerator: mean=0.105536, std=9.36111</pre>"
      ],
      "text/plain": [
       "<IPython.core.display.HTML object>"
      ]
     },
     "metadata": {},
     "output_type": "display_data"
    },
    {
     "data": {
      "text/html": [
       "<pre style=\"margin: 0.1em;\n",
       "padding-left: 0.25em;\n",
       "border-left-style: solid;\n",
       "font-family: var(--jp-code-font-family);\n",
       "font-size: var(--jp-code-font-size);\n",
       "line-height: var(--jp-code-line-height);\n",
       "\"><span style=\"color: var(--jp-warn-color2)\">lsst.characterizeImage.measurement</span> <span style=\"color: var(--jp-info-color0)\">INFO</span>: Measuring 85 sources (85 parents, 0 children) </pre>"
      ],
      "text/plain": [
       "<IPython.core.display.HTML object>"
      ]
     },
     "metadata": {},
     "output_type": "display_data"
    },
    {
     "data": {
      "text/html": [
       "<pre style=\"margin: 0.1em;\n",
       "padding-left: 0.25em;\n",
       "border-left-style: solid;\n",
       "font-family: var(--jp-code-font-family);\n",
       "font-size: var(--jp-code-font-size);\n",
       "line-height: var(--jp-code-line-height);\n",
       "\"><span style=\"color: var(--jp-warn-color2)\">lsst.characterizeImage.measurement.base_GaussianFlux</span> <span style=\"color: var(--jp-success-color0)\">DEBUG</span>: MeasurementError in base_GaussianFlux.measure on record 84: \n",
       "  File &quot;src/InputUtilities.cc&quot;, line 179, in lsst::afw::geom::ellipses::Quadrupole lsst::meas::base::SafeShapeExtractor::operator()(lsst::afw::table::SourceRecord&amp;, const lsst::meas::base::FlagHandler&amp;) const\n",
       "    base_GaussianFlux: Shape needed, and Shape slot measurement failed. {0}\n",
       "lsst::meas::base::MeasurementError: &#x27;base_GaussianFlux: Shape needed, and Shape slot measurement failed.&#x27;\n",
       "</pre>"
      ],
      "text/plain": [
       "<IPython.core.display.HTML object>"
      ]
     },
     "metadata": {},
     "output_type": "display_data"
    },
    {
     "data": {
      "text/html": [
       "<pre style=\"margin: 0.1em;\n",
       "padding-left: 0.25em;\n",
       "border-left-style: solid;\n",
       "font-family: var(--jp-code-font-family);\n",
       "font-size: var(--jp-code-font-size);\n",
       "line-height: var(--jp-code-line-height);\n",
       "\"><span style=\"color: var(--jp-warn-color2)\">lsst.characterizeImage.measurement.base_SdssCentroid</span> <span style=\"color: var(--jp-success-color0)\">DEBUG</span>: MeasurementError in base_SdssCentroid.measure on record 85: \n",
       "  File &quot;src/SdssCentroid.cc&quot;, line 384, in std::pair&lt;MaskedImageT, double&gt; lsst::meas::base::{anonymous}::smoothAndBinImage(std::shared_ptr&lt;const lsst::afw::detection::Psf&gt;, int, int, const MaskedImageT&amp;, int, int, lsst::meas::base::FlagHandler) [with MaskedImageT = lsst::afw::image::MaskedImage&lt;float&gt;]\n",
       "    Object too close to edge {0}\n",
       "lsst::meas::base::MeasurementError: &#x27;Object too close to edge&#x27;\n",
       "</pre>"
      ],
      "text/plain": [
       "<IPython.core.display.HTML object>"
      ]
     },
     "metadata": {},
     "output_type": "display_data"
    },
    {
     "data": {
      "text/html": [
       "<pre style=\"margin: 0.1em;\n",
       "padding-left: 0.25em;\n",
       "border-left-style: solid;\n",
       "font-family: var(--jp-code-font-family);\n",
       "font-size: var(--jp-code-font-size);\n",
       "line-height: var(--jp-code-line-height);\n",
       "\"><span style=\"color: var(--jp-warn-color2)\">timer.lsst.characterizeImage.measurement</span> <span style=\"color: var(--jp-success-color0)\">DEBUG</span>: runEndCpuTime=144.01502988; runEndUserTime=131.424657; runEndSystemTime=12.590348; runEndMaxResidentSetSize=1129213952; runEndMinorPageFaults=7030460; runEndMajorPageFaults=14; runEndBlockInputs=3515552; runEndBlockOutputs=2936; runEndVoluntaryContextSwitches=119617; runEndInvoluntaryContextSwitches=62894</pre>"
      ],
      "text/plain": [
       "<IPython.core.display.HTML object>"
      ]
     },
     "metadata": {},
     "output_type": "display_data"
    },
    {
     "data": {
      "text/html": [
       "<pre style=\"margin: 0.1em;\n",
       "padding-left: 0.25em;\n",
       "border-left-style: solid;\n",
       "font-family: var(--jp-code-font-family);\n",
       "font-size: var(--jp-code-font-size);\n",
       "line-height: var(--jp-code-line-height);\n",
       "\"><span style=\"color: var(--jp-warn-color2)\">timer.lsst.characterizeImage.catalogCalculation</span> <span style=\"color: var(--jp-success-color0)\">DEBUG</span>: runStartCpuTime=144.016169838; runStartUserTime=131.425802; runStartSystemTime=12.590362; runStartMaxResidentSetSize=1129213952; runStartMinorPageFaults=7030460; runStartMajorPageFaults=14; runStartBlockInputs=3515552; runStartBlockOutputs=2936; runStartVoluntaryContextSwitches=119634; runStartInvoluntaryContextSwitches=62894</pre>"
      ],
      "text/plain": [
       "<IPython.core.display.HTML object>"
      ]
     },
     "metadata": {},
     "output_type": "display_data"
    },
    {
     "data": {
      "text/html": [
       "<pre style=\"margin: 0.1em;\n",
       "padding-left: 0.25em;\n",
       "border-left-style: solid;\n",
       "font-family: var(--jp-code-font-family);\n",
       "font-size: var(--jp-code-font-size);\n",
       "line-height: var(--jp-code-line-height);\n",
       "\"><span style=\"color: var(--jp-warn-color2)\">timer.lsst.characterizeImage.catalogCalculation</span> <span style=\"color: var(--jp-success-color0)\">DEBUG</span>: runEndCpuTime=144.018710264; runEndUserTime=131.428295; runEndSystemTime=12.590409; runEndMaxResidentSetSize=1129213952; runEndMinorPageFaults=7030460; runEndMajorPageFaults=14; runEndBlockInputs=3515552; runEndBlockOutputs=2936; runEndVoluntaryContextSwitches=119653; runEndInvoluntaryContextSwitches=62894</pre>"
      ],
      "text/plain": [
       "<IPython.core.display.HTML object>"
      ]
     },
     "metadata": {},
     "output_type": "display_data"
    },
    {
     "data": {
      "text/html": [
       "<pre style=\"margin: 0.1em;\n",
       "padding-left: 0.25em;\n",
       "border-left-style: solid;\n",
       "font-family: var(--jp-code-font-family);\n",
       "font-size: var(--jp-code-font-size);\n",
       "line-height: var(--jp-code-line-height);\n",
       "\"><span style=\"color: var(--jp-warn-color2)\">timer.lsst.characterizeImage</span> <span style=\"color: var(--jp-success-color0)\">DEBUG</span>: runEndCpuTime=144.019592472; runEndUserTime=131.428295; runEndSystemTime=12.591292; runEndMaxResidentSetSize=1129213952; runEndMinorPageFaults=7030460; runEndMajorPageFaults=14; runEndBlockInputs=3515552; runEndBlockOutputs=2936; runEndVoluntaryContextSwitches=119675; runEndInvoluntaryContextSwitches=62894</pre>"
      ],
      "text/plain": [
       "<IPython.core.display.HTML object>"
      ]
     },
     "metadata": {},
     "output_type": "display_data"
    },
    {
     "name": "stdout",
     "output_type": "stream",
     "text": [
      "Psf shape from imChar task (x,y) = (1.360, 1.443) FWHM arcsec\n",
      "{'day_obs': 20220526, 'seq_num': 137, 'detector': 0, 'instrument': 'LATISS'}\n"
     ]
    },
    {
     "data": {
      "text/html": [
       "<pre style=\"margin: 0.1em;\n",
       "padding-left: 0.25em;\n",
       "border-left-style: solid;\n",
       "font-family: var(--jp-code-font-family);\n",
       "font-size: var(--jp-code-font-size);\n",
       "line-height: var(--jp-code-line-height);\n",
       "\"><span style=\"color: var(--jp-warn-color2)\">lsst.daf.butler._butler</span> <span style=\"color: var(--jp-success-color0)\">DEBUG</span>: Butler get: quickLookExp, dataId={&#x27;day_obs&#x27;: 20220526, &#x27;seq_num&#x27;: 137, &#x27;detector&#x27;: 0, &#x27;instrument&#x27;: &#x27;LATISS&#x27;}, parameters=None</pre>"
      ],
      "text/plain": [
       "<IPython.core.display.HTML object>"
      ]
     },
     "metadata": {},
     "output_type": "display_data"
    },
    {
     "data": {
      "text/html": [
       "<pre style=\"margin: 0.1em;\n",
       "padding-left: 0.25em;\n",
       "border-left-style: solid;\n",
       "font-family: var(--jp-code-font-family);\n",
       "font-size: var(--jp-code-font-size);\n",
       "line-height: var(--jp-code-line-height);\n",
       "\"><span style=\"color: var(--jp-warn-color2)\">lsst.daf.butler._butler</span> <span style=\"color: var(--jp-success-color0)\">DEBUG</span>: Assigned non-dimension dataId keys to dimension exposure: {&#x27;day_obs&#x27;: 20220526, &#x27;seq_num&#x27;: 137}</pre>"
      ],
      "text/plain": [
       "<IPython.core.display.HTML object>"
      ]
     },
     "metadata": {},
     "output_type": "display_data"
    },
    {
     "data": {
      "text/html": [
       "<pre style=\"margin: 0.1em;\n",
       "padding-left: 0.25em;\n",
       "border-left-style: solid;\n",
       "font-family: var(--jp-code-font-family);\n",
       "font-size: var(--jp-code-font-size);\n",
       "line-height: var(--jp-code-line-height);\n",
       "\"><span style=\"color: var(--jp-warn-color2)\">lsst.daf.butler.datastores.fileDatastore</span> <span style=\"color: var(--jp-success-color0)\">DEBUG</span>: Retrieve quickLookExp@{instrument: &#x27;LATISS&#x27;, detector: 0, exposure: 2022052600137}, sc=ExposureF] (id=d1e64e99-ede0-4704-9017-5fe5ef4dcde0) from FileDatastore@&lt;butlerRoot&gt; with parameters None</pre>"
      ],
      "text/plain": [
       "<IPython.core.display.HTML object>"
      ]
     },
     "metadata": {},
     "output_type": "display_data"
    },
    {
     "data": {
      "text/html": [
       "<pre style=\"margin: 0.1em;\n",
       "padding-left: 0.25em;\n",
       "border-left-style: solid;\n",
       "font-family: var(--jp-code-font-family);\n",
       "font-size: var(--jp-code-font-size);\n",
       "line-height: var(--jp-code-line-height);\n",
       "\"><span style=\"color: var(--jp-warn-color2)\">lsst.daf.butler.datastores.fileDatastore</span> <span style=\"color: var(--jp-success-color0)\">DEBUG</span>: Accessing data from file:///repo/LATISS/LATISS/runs/quickLook/1/quickLookExp/20220526/AT_O_20220526_000137/quickLookExp_LATISS_SDSSr~empty_AT_O_20220526_000137_RXX_S00_LATISS_runs_quickLook_1.fits</pre>"
      ],
      "text/plain": [
       "<IPython.core.display.HTML object>"
      ]
     },
     "metadata": {},
     "output_type": "display_data"
    },
    {
     "data": {
      "text/html": [
       "<pre style=\"margin: 0.1em;\n",
       "padding-left: 0.25em;\n",
       "border-left-style: solid;\n",
       "font-family: var(--jp-code-font-family);\n",
       "font-size: var(--jp-code-font-size);\n",
       "line-height: var(--jp-code-line-height);\n",
       "\"><span style=\"color: var(--jp-warn-color2)\">lsst.daf.butler.datastores.fileDatastore</span> <span style=\"color: var(--jp-success-color0)\">DEBUG</span>: Reading from location file:///repo/LATISS/LATISS/runs/quickLook/1/quickLookExp/20220526/AT_O_20220526_000137/quickLookExp_LATISS_SDSSr~empty_AT_O_20220526_000137_RXX_S00_LATISS_runs_quickLook_1.fits  with formatter lsst.obs.base.formatters.fitsExposure.FitsExposureFormatter</pre>"
      ],
      "text/plain": [
       "<IPython.core.display.HTML object>"
      ]
     },
     "metadata": {},
     "output_type": "display_data"
    },
    {
     "data": {
      "text/html": [
       "<pre style=\"margin: 0.1em;\n",
       "padding-left: 0.25em;\n",
       "border-left-style: solid;\n",
       "font-family: var(--jp-code-font-family);\n",
       "font-size: var(--jp-code-font-size);\n",
       "line-height: var(--jp-code-line-height);\n",
       "\"><span style=\"color: var(--jp-warn-color2)\">timer.lsst.daf.butler.datastores.fileDatastore</span> <span style=\"color: var(--jp-success-color0)\">DEBUG</span>: Reading from location file:///repo/LATISS/LATISS/runs/quickLook/1/quickLookExp/20220526/AT_O_20220526_000137/quickLookExp_LATISS_SDSSr~empty_AT_O_20220526_000137_RXX_S00_LATISS_runs_quickLook_1.fits  with formatter lsst.obs.base.formatters.fitsExposure.FitsExposureFormatter: Took 1.0603 seconds</pre>"
      ],
      "text/plain": [
       "<IPython.core.display.HTML object>"
      ]
     },
     "metadata": {},
     "output_type": "display_data"
    },
    {
     "data": {
      "text/html": [
       "<pre style=\"margin: 0.1em;\n",
       "padding-left: 0.25em;\n",
       "border-left-style: solid;\n",
       "font-family: var(--jp-code-font-family);\n",
       "font-size: var(--jp-code-font-size);\n",
       "line-height: var(--jp-code-line-height);\n",
       "\"><span style=\"color: var(--jp-warn-color2)\">lsst.summit.utils.bestEffort</span> <span style=\"color: var(--jp-info-color0)\">INFO</span>: Found a ready-made quickLookExp in the repo. Returning that.</pre>"
      ],
      "text/plain": [
       "<IPython.core.display.HTML object>"
      ]
     },
     "metadata": {},
     "output_type": "display_data"
    },
    {
     "data": {
      "text/html": [
       "<pre style=\"margin: 0.1em;\n",
       "padding-left: 0.25em;\n",
       "border-left-style: solid;\n",
       "font-family: var(--jp-code-font-family);\n",
       "font-size: var(--jp-code-font-size);\n",
       "line-height: var(--jp-code-line-height);\n",
       "\"><span style=\"color: var(--jp-warn-color2)\">timer.lsst.characterizeImage</span> <span style=\"color: var(--jp-success-color0)\">DEBUG</span>: runStartCpuTime=144.99403527; runStartUserTime=132.305118; runStartSystemTime=12.68889; runStartMaxResidentSetSize=1129213952; runStartMinorPageFaults=7078512; runStartMajorPageFaults=14; runStartBlockInputs=3781872; runStartBlockOutputs=2936; runStartVoluntaryContextSwitches=121530; runStartInvoluntaryContextSwitches=62907</pre>"
      ],
      "text/plain": [
       "<IPython.core.display.HTML object>"
      ]
     },
     "metadata": {},
     "output_type": "display_data"
    },
    {
     "data": {
      "text/html": [
       "<pre style=\"margin: 0.1em;\n",
       "padding-left: 0.25em;\n",
       "border-left-style: solid;\n",
       "font-family: var(--jp-code-font-family);\n",
       "font-size: var(--jp-code-font-size);\n",
       "line-height: var(--jp-code-line-height);\n",
       "\"><span style=\"color: var(--jp-warn-color2)\">lsst.characterizeImage.background</span> <span style=\"color: var(--jp-success-color0)\">DEBUG</span>: Ignoring mask planes: BAD, EDGE, DETECTED, DETECTED_NEGATIVE, NO_DATA</pre>"
      ],
      "text/plain": [
       "<IPython.core.display.HTML object>"
      ]
     },
     "metadata": {},
     "output_type": "display_data"
    },
    {
     "data": {
      "text/html": [
       "<pre style=\"margin: 0.1em;\n",
       "padding-left: 0.25em;\n",
       "border-left-style: solid;\n",
       "font-family: var(--jp-code-font-family);\n",
       "font-size: var(--jp-code-font-size);\n",
       "line-height: var(--jp-code-line-height);\n",
       "\"><span style=\"color: var(--jp-warn-color2)\">timer.lsst.characterizeImage</span> <span style=\"color: var(--jp-success-color0)\">DEBUG</span>: detectMeasureAndEstimatePsfStartCpuTime=145.685999056; detectMeasureAndEstimatePsfStartUserTime=132.933995; detectMeasureAndEstimatePsfStartSystemTime=12.751978; detectMeasureAndEstimatePsfStartMaxResidentSetSize=1129213952; detectMeasureAndEstimatePsfStartMinorPageFaults=7126233; detectMeasureAndEstimatePsfStartMajorPageFaults=14; detectMeasureAndEstimatePsfStartBlockInputs=3781872; detectMeasureAndEstimatePsfStartBlockOutputs=2936; detectMeasureAndEstimatePsfStartVoluntaryContextSwitches=121569; detectMeasureAndEstimatePsfStartInvoluntaryContextSwitches=63026</pre>"
      ],
      "text/plain": [
       "<IPython.core.display.HTML object>"
      ]
     },
     "metadata": {},
     "output_type": "display_data"
    },
    {
     "data": {
      "text/html": [
       "<pre style=\"margin: 0.1em;\n",
       "padding-left: 0.25em;\n",
       "border-left-style: solid;\n",
       "font-family: var(--jp-code-font-family);\n",
       "font-size: var(--jp-code-font-size);\n",
       "line-height: var(--jp-code-line-height);\n",
       "\"><span style=\"color: var(--jp-warn-color2)\">lsst.characterizeImage</span> <span style=\"color: var(--jp-info-color0)\">INFO</span>: PSF estimation initialized with &#x27;simple&#x27; PSF</pre>"
      ],
      "text/plain": [
       "<IPython.core.display.HTML object>"
      ]
     },
     "metadata": {},
     "output_type": "display_data"
    },
    {
     "data": {
      "text/html": [
       "<pre style=\"margin: 0.1em;\n",
       "padding-left: 0.25em;\n",
       "border-left-style: solid;\n",
       "font-family: var(--jp-code-font-family);\n",
       "font-size: var(--jp-code-font-size);\n",
       "line-height: var(--jp-code-line-height);\n",
       "\"><span style=\"color: var(--jp-warn-color2)\">lsst.characterizeImage.installSimplePsf</span> <span style=\"color: var(--jp-success-color0)\">DEBUG</span>: installing a simple Gaussian PSF model with width=61, height=61, FWHM=15.000</pre>"
      ],
      "text/plain": [
       "<IPython.core.display.HTML object>"
      ]
     },
     "metadata": {},
     "output_type": "display_data"
    },
    {
     "data": {
      "text/html": [
       "<pre style=\"margin: 0.1em;\n",
       "padding-left: 0.25em;\n",
       "border-left-style: solid;\n",
       "font-family: var(--jp-code-font-family);\n",
       "font-size: var(--jp-code-font-size);\n",
       "line-height: var(--jp-code-line-height);\n",
       "\"><span style=\"color: var(--jp-warn-color2)\">timer.lsst.characterizeImage.repair</span> <span style=\"color: var(--jp-success-color0)\">DEBUG</span>: runStartCpuTime=145.68905479; runStartUserTime=132.937062; runStartSystemTime=12.751984; runStartMaxResidentSetSize=1129213952; runStartMinorPageFaults=7126233; runStartMajorPageFaults=14; runStartBlockInputs=3781872; runStartBlockOutputs=2936; runStartVoluntaryContextSwitches=121627; runStartInvoluntaryContextSwitches=63026</pre>"
      ],
      "text/plain": [
       "<IPython.core.display.HTML object>"
      ]
     },
     "metadata": {},
     "output_type": "display_data"
    },
    {
     "data": {
      "text/html": [
       "<pre style=\"margin: 0.1em;\n",
       "padding-left: 0.25em;\n",
       "border-left-style: solid;\n",
       "font-family: var(--jp-code-font-family);\n",
       "font-size: var(--jp-code-font-size);\n",
       "line-height: var(--jp-code-line-height);\n",
       "\"><span style=\"color: var(--jp-warn-color2)\">lsst.characterizeImage.repair</span> <span style=\"color: var(--jp-info-color0)\">INFO</span>: Identified 4 cosmic rays.</pre>"
      ],
      "text/plain": [
       "<IPython.core.display.HTML object>"
      ]
     },
     "metadata": {},
     "output_type": "display_data"
    },
    {
     "data": {
      "text/html": [
       "<pre style=\"margin: 0.1em;\n",
       "padding-left: 0.25em;\n",
       "border-left-style: solid;\n",
       "font-family: var(--jp-code-font-family);\n",
       "font-size: var(--jp-code-font-size);\n",
       "line-height: var(--jp-code-line-height);\n",
       "\"><span style=\"color: var(--jp-warn-color2)\">timer.lsst.characterizeImage.repair</span> <span style=\"color: var(--jp-success-color0)\">DEBUG</span>: runEndCpuTime=146.170696656; runEndUserTime=133.376724; runEndSystemTime=12.793952; runEndMaxResidentSetSize=1129213952; runEndMinorPageFaults=7150333; runEndMajorPageFaults=14; runEndBlockInputs=3781872; runEndBlockOutputs=2936; runEndVoluntaryContextSwitches=121772; runEndInvoluntaryContextSwitches=63051</pre>"
      ],
      "text/plain": [
       "<IPython.core.display.HTML object>"
      ]
     },
     "metadata": {},
     "output_type": "display_data"
    },
    {
     "data": {
      "text/html": [
       "<pre style=\"margin: 0.1em;\n",
       "padding-left: 0.25em;\n",
       "border-left-style: solid;\n",
       "font-family: var(--jp-code-font-family);\n",
       "font-size: var(--jp-code-font-size);\n",
       "line-height: var(--jp-code-line-height);\n",
       "\"><span style=\"color: var(--jp-warn-color2)\">timer.lsst.characterizeImage.detection</span> <span style=\"color: var(--jp-success-color0)\">DEBUG</span>: runStartCpuTime=146.171801372; runStartUserTime=133.377833; runStartSystemTime=12.793962; runStartMaxResidentSetSize=1129213952; runStartMinorPageFaults=7150333; runStartMajorPageFaults=14; runStartBlockInputs=3781872; runStartBlockOutputs=2936; runStartVoluntaryContextSwitches=121791; runStartInvoluntaryContextSwitches=63051</pre>"
      ],
      "text/plain": [
       "<IPython.core.display.HTML object>"
      ]
     },
     "metadata": {},
     "output_type": "display_data"
    },
    {
     "data": {
      "text/html": [
       "<pre style=\"margin: 0.1em;\n",
       "padding-left: 0.25em;\n",
       "border-left-style: solid;\n",
       "font-family: var(--jp-code-font-family);\n",
       "font-size: var(--jp-code-font-size);\n",
       "line-height: var(--jp-code-line-height);\n",
       "\"><span style=\"color: var(--jp-warn-color2)\">timer.lsst.characterizeImage.detection</span> <span style=\"color: var(--jp-success-color0)\">DEBUG</span>: detectFootprintsStartCpuTime=146.172627761; detectFootprintsStartUserTime=133.37866; detectFootprintsStartSystemTime=12.793962; detectFootprintsStartMaxResidentSetSize=1129213952; detectFootprintsStartMinorPageFaults=7150333; detectFootprintsStartMajorPageFaults=14; detectFootprintsStartBlockInputs=3781872; detectFootprintsStartBlockOutputs=2936; detectFootprintsStartVoluntaryContextSwitches=121815; detectFootprintsStartInvoluntaryContextSwitches=63051</pre>"
      ],
      "text/plain": [
       "<IPython.core.display.HTML object>"
      ]
     },
     "metadata": {},
     "output_type": "display_data"
    },
    {
     "data": {
      "text/html": [
       "<pre style=\"margin: 0.1em;\n",
       "padding-left: 0.25em;\n",
       "border-left-style: solid;\n",
       "font-family: var(--jp-code-font-family);\n",
       "font-size: var(--jp-code-font-size);\n",
       "line-height: var(--jp-code-line-height);\n",
       "\"><span style=\"color: var(--jp-warn-color2)\">lsst.characterizeImage.detection</span> <span style=\"color: var(--jp-success-color0)\">DEBUG</span>: Detection threshold: VALUE value=3.1642234 (positive) multiplier=5</pre>"
      ],
      "text/plain": [
       "<IPython.core.display.HTML object>"
      ]
     },
     "metadata": {},
     "output_type": "display_data"
    },
    {
     "data": {
      "text/html": [
       "<pre style=\"margin: 0.1em;\n",
       "padding-left: 0.25em;\n",
       "border-left-style: solid;\n",
       "font-family: var(--jp-code-font-family);\n",
       "font-size: var(--jp-code-font-size);\n",
       "line-height: var(--jp-code-line-height);\n",
       "\"><span style=\"color: var(--jp-warn-color2)\">lsst.characterizeImage.detection</span> <span style=\"color: var(--jp-success-color0)\">DEBUG</span>: Detection threshold: VALUE value=3.1642234 (negative) multiplier=5</pre>"
      ],
      "text/plain": [
       "<IPython.core.display.HTML object>"
      ]
     },
     "metadata": {},
     "output_type": "display_data"
    },
    {
     "data": {
      "text/html": [
       "<pre style=\"margin: 0.1em;\n",
       "padding-left: 0.25em;\n",
       "border-left-style: solid;\n",
       "font-family: var(--jp-code-font-family);\n",
       "font-size: var(--jp-code-font-size);\n",
       "line-height: var(--jp-code-line-height);\n",
       "\"><span style=\"color: var(--jp-warn-color2)\">lsst.characterizeImage.detection</span> <span style=\"color: var(--jp-info-color0)\">INFO</span>: Detected 111 positive peaks in 93 footprints and 4 negative peaks in 4 footprints to 25 sigma</pre>"
      ],
      "text/plain": [
       "<IPython.core.display.HTML object>"
      ]
     },
     "metadata": {},
     "output_type": "display_data"
    },
    {
     "data": {
      "text/html": [
       "<pre style=\"margin: 0.1em;\n",
       "padding-left: 0.25em;\n",
       "border-left-style: solid;\n",
       "font-family: var(--jp-code-font-family);\n",
       "font-size: var(--jp-code-font-size);\n",
       "line-height: var(--jp-code-line-height);\n",
       "\"><span style=\"color: var(--jp-warn-color2)\">lsst.characterizeImage.detection.background</span> <span style=\"color: var(--jp-success-color0)\">DEBUG</span>: Ignoring mask planes: BAD, EDGE, DETECTED, DETECTED_NEGATIVE, NO_DATA</pre>"
      ],
      "text/plain": [
       "<IPython.core.display.HTML object>"
      ]
     },
     "metadata": {},
     "output_type": "display_data"
    },
    {
     "data": {
      "text/html": [
       "<pre style=\"margin: 0.1em;\n",
       "padding-left: 0.25em;\n",
       "border-left-style: solid;\n",
       "font-family: var(--jp-code-font-family);\n",
       "font-size: var(--jp-code-font-size);\n",
       "line-height: var(--jp-code-line-height);\n",
       "\"><span style=\"color: var(--jp-warn-color2)\">lsst.characterizeImage.detection</span> <span style=\"color: var(--jp-info-color0)\">INFO</span>: Resubtracting the background after object detection</pre>"
      ],
      "text/plain": [
       "<IPython.core.display.HTML object>"
      ]
     },
     "metadata": {},
     "output_type": "display_data"
    },
    {
     "data": {
      "text/html": [
       "<pre style=\"margin: 0.1em;\n",
       "padding-left: 0.25em;\n",
       "border-left-style: solid;\n",
       "font-family: var(--jp-code-font-family);\n",
       "font-size: var(--jp-code-font-size);\n",
       "line-height: var(--jp-code-line-height);\n",
       "\"><span style=\"color: var(--jp-warn-color2)\">timer.lsst.characterizeImage.detection</span> <span style=\"color: var(--jp-success-color0)\">DEBUG</span>: detectFootprintsEndCpuTime=149.60700533; detectFootprintsEndUserTime=136.635423; detectFootprintsEndSystemTime=12.971559; detectFootprintsEndMaxResidentSetSize=1130549248; detectFootprintsEndMinorPageFaults=7340494; detectFootprintsEndMajorPageFaults=14; detectFootprintsEndBlockInputs=3781872; detectFootprintsEndBlockOutputs=2936; detectFootprintsEndVoluntaryContextSwitches=122563; detectFootprintsEndInvoluntaryContextSwitches=63251</pre>"
      ],
      "text/plain": [
       "<IPython.core.display.HTML object>"
      ]
     },
     "metadata": {},
     "output_type": "display_data"
    },
    {
     "data": {
      "text/html": [
       "<pre style=\"margin: 0.1em;\n",
       "padding-left: 0.25em;\n",
       "border-left-style: solid;\n",
       "font-family: var(--jp-code-font-family);\n",
       "font-size: var(--jp-code-font-size);\n",
       "line-height: var(--jp-code-line-height);\n",
       "\"><span style=\"color: var(--jp-warn-color2)\">timer.lsst.characterizeImage.detection</span> <span style=\"color: var(--jp-success-color0)\">DEBUG</span>: runEndCpuTime=149.608405796; runEndUserTime=136.636805; runEndSystemTime=12.971595; runEndMaxResidentSetSize=1130549248; runEndMinorPageFaults=7340494; runEndMajorPageFaults=14; runEndBlockInputs=3781872; runEndBlockOutputs=2936; runEndVoluntaryContextSwitches=122581; runEndInvoluntaryContextSwitches=63251</pre>"
      ],
      "text/plain": [
       "<IPython.core.display.HTML object>"
      ]
     },
     "metadata": {},
     "output_type": "display_data"
    },
    {
     "data": {
      "text/html": [
       "<pre style=\"margin: 0.1em;\n",
       "padding-left: 0.25em;\n",
       "border-left-style: solid;\n",
       "font-family: var(--jp-code-font-family);\n",
       "font-size: var(--jp-code-font-size);\n",
       "line-height: var(--jp-code-line-height);\n",
       "\"><span style=\"color: var(--jp-warn-color2)\">timer.lsst.characterizeImage.measurement</span> <span style=\"color: var(--jp-success-color0)\">DEBUG</span>: runStartCpuTime=149.609264927; runStartUserTime=136.637664; runStartSystemTime=12.971595; runStartMaxResidentSetSize=1130549248; runStartMinorPageFaults=7340494; runStartMajorPageFaults=14; runStartBlockInputs=3781872; runStartBlockOutputs=2936; runStartVoluntaryContextSwitches=122600; runStartInvoluntaryContextSwitches=63251</pre>"
      ],
      "text/plain": [
       "<IPython.core.display.HTML object>"
      ]
     },
     "metadata": {},
     "output_type": "display_data"
    },
    {
     "data": {
      "text/html": [
       "<pre style=\"margin: 0.1em;\n",
       "padding-left: 0.25em;\n",
       "border-left-style: solid;\n",
       "font-family: var(--jp-code-font-family);\n",
       "font-size: var(--jp-code-font-size);\n",
       "line-height: var(--jp-code-line-height);\n",
       "\"><span style=\"color: var(--jp-warn-color2)\">lsst.characterizeImage.measurement</span> <span style=\"color: var(--jp-success-color0)\">DEBUG</span>: Mask plane &quot;THISDET&quot;: plane 10, bitmask 1024 = 0x400</pre>"
      ],
      "text/plain": [
       "<IPython.core.display.HTML object>"
      ]
     },
     "metadata": {},
     "output_type": "display_data"
    },
    {
     "data": {
      "text/html": [
       "<pre style=\"margin: 0.1em;\n",
       "padding-left: 0.25em;\n",
       "border-left-style: solid;\n",
       "font-family: var(--jp-code-font-family);\n",
       "font-size: var(--jp-code-font-size);\n",
       "line-height: var(--jp-code-line-height);\n",
       "\"><span style=\"color: var(--jp-warn-color2)\">lsst.characterizeImage.measurement</span> <span style=\"color: var(--jp-success-color0)\">DEBUG</span>: Mask plane &quot;OTHERDET&quot;: plane 11, bitmask 2048 = 0x800</pre>"
      ],
      "text/plain": [
       "<IPython.core.display.HTML object>"
      ]
     },
     "metadata": {},
     "output_type": "display_data"
    },
    {
     "data": {
      "text/html": [
       "<pre style=\"margin: 0.1em;\n",
       "padding-left: 0.25em;\n",
       "border-left-style: solid;\n",
       "font-family: var(--jp-code-font-family);\n",
       "font-size: var(--jp-code-font-size);\n",
       "line-height: var(--jp-code-line-height);\n",
       "\"><span style=\"color: var(--jp-warn-color2)\">lsst.characterizeImage.measurement</span> <span style=\"color: var(--jp-success-color0)\">DEBUG</span>: Measured from image: clipped mean = 0.0953131, stdev = 9.34126</pre>"
      ],
      "text/plain": [
       "<IPython.core.display.HTML object>"
      ]
     },
     "metadata": {},
     "output_type": "display_data"
    },
    {
     "data": {
      "text/html": [
       "<pre style=\"margin: 0.1em;\n",
       "padding-left: 0.25em;\n",
       "border-left-style: solid;\n",
       "font-family: var(--jp-code-font-family);\n",
       "font-size: var(--jp-code-font-size);\n",
       "line-height: var(--jp-code-line-height);\n",
       "\"><span style=\"color: var(--jp-warn-color2)\">lsst.characterizeImage.measurement</span> <span style=\"color: var(--jp-success-color0)\">DEBUG</span>: Using noise generator: FixedGaussianNoiseGenerator: mean=0.0953131, std=9.34126</pre>"
      ],
      "text/plain": [
       "<IPython.core.display.HTML object>"
      ]
     },
     "metadata": {},
     "output_type": "display_data"
    },
    {
     "data": {
      "text/html": [
       "<pre style=\"margin: 0.1em;\n",
       "padding-left: 0.25em;\n",
       "border-left-style: solid;\n",
       "font-family: var(--jp-code-font-family);\n",
       "font-size: var(--jp-code-font-size);\n",
       "line-height: var(--jp-code-line-height);\n",
       "\"><span style=\"color: var(--jp-warn-color2)\">lsst.characterizeImage.measurement</span> <span style=\"color: var(--jp-info-color0)\">INFO</span>: Measuring 93 sources (93 parents, 0 children) </pre>"
      ],
      "text/plain": [
       "<IPython.core.display.HTML object>"
      ]
     },
     "metadata": {},
     "output_type": "display_data"
    },
    {
     "data": {
      "text/html": [
       "<pre style=\"margin: 0.1em;\n",
       "padding-left: 0.25em;\n",
       "border-left-style: solid;\n",
       "font-family: var(--jp-code-font-family);\n",
       "font-size: var(--jp-code-font-size);\n",
       "line-height: var(--jp-code-line-height);\n",
       "\"><span style=\"color: var(--jp-warn-color2)\">lsst.characterizeImage.measurement.base_GaussianFlux</span> <span style=\"color: var(--jp-success-color0)\">DEBUG</span>: MeasurementError in base_GaussianFlux.measure on record 92: \n",
       "  File &quot;src/InputUtilities.cc&quot;, line 179, in lsst::afw::geom::ellipses::Quadrupole lsst::meas::base::SafeShapeExtractor::operator()(lsst::afw::table::SourceRecord&amp;, const lsst::meas::base::FlagHandler&amp;) const\n",
       "    base_GaussianFlux: Shape needed, and Shape slot measurement failed. {0}\n",
       "lsst::meas::base::MeasurementError: &#x27;base_GaussianFlux: Shape needed, and Shape slot measurement failed.&#x27;\n",
       "</pre>"
      ],
      "text/plain": [
       "<IPython.core.display.HTML object>"
      ]
     },
     "metadata": {},
     "output_type": "display_data"
    },
    {
     "data": {
      "text/html": [
       "<pre style=\"margin: 0.1em;\n",
       "padding-left: 0.25em;\n",
       "border-left-style: solid;\n",
       "font-family: var(--jp-code-font-family);\n",
       "font-size: var(--jp-code-font-size);\n",
       "line-height: var(--jp-code-line-height);\n",
       "\"><span style=\"color: var(--jp-warn-color2)\">lsst.characterizeImage.measurement.base_SdssCentroid</span> <span style=\"color: var(--jp-success-color0)\">DEBUG</span>: MeasurementError in base_SdssCentroid.measure on record 93: \n",
       "  File &quot;src/SdssCentroid.cc&quot;, line 384, in std::pair&lt;MaskedImageT, double&gt; lsst::meas::base::{anonymous}::smoothAndBinImage(std::shared_ptr&lt;const lsst::afw::detection::Psf&gt;, int, int, const MaskedImageT&amp;, int, int, lsst::meas::base::FlagHandler) [with MaskedImageT = lsst::afw::image::MaskedImage&lt;float&gt;]\n",
       "    Object too close to edge {0}\n",
       "lsst::meas::base::MeasurementError: &#x27;Object too close to edge&#x27;\n",
       "</pre>"
      ],
      "text/plain": [
       "<IPython.core.display.HTML object>"
      ]
     },
     "metadata": {},
     "output_type": "display_data"
    },
    {
     "data": {
      "text/html": [
       "<pre style=\"margin: 0.1em;\n",
       "padding-left: 0.25em;\n",
       "border-left-style: solid;\n",
       "font-family: var(--jp-code-font-family);\n",
       "font-size: var(--jp-code-font-size);\n",
       "line-height: var(--jp-code-line-height);\n",
       "\"><span style=\"color: var(--jp-warn-color2)\">timer.lsst.characterizeImage.measurement</span> <span style=\"color: var(--jp-success-color0)\">DEBUG</span>: runEndCpuTime=150.337786158; runEndUserTime=137.331261; runEndSystemTime=13.006504; runEndMaxResidentSetSize=1130549248; runEndMinorPageFaults=7364594; runEndMajorPageFaults=14; runEndBlockInputs=3781872; runEndBlockOutputs=2936; runEndVoluntaryContextSwitches=122939; runEndInvoluntaryContextSwitches=63285</pre>"
      ],
      "text/plain": [
       "<IPython.core.display.HTML object>"
      ]
     },
     "metadata": {},
     "output_type": "display_data"
    },
    {
     "data": {
      "text/html": [
       "<pre style=\"margin: 0.1em;\n",
       "padding-left: 0.25em;\n",
       "border-left-style: solid;\n",
       "font-family: var(--jp-code-font-family);\n",
       "font-size: var(--jp-code-font-size);\n",
       "line-height: var(--jp-code-line-height);\n",
       "\"><span style=\"color: var(--jp-warn-color2)\">timer.lsst.characterizeImage.measurePsf</span> <span style=\"color: var(--jp-success-color0)\">DEBUG</span>: runStartCpuTime=150.338859924; runStartUserTime=137.332342; runStartSystemTime=13.006511; runStartMaxResidentSetSize=1130549248; runStartMinorPageFaults=7364594; runStartMajorPageFaults=14; runStartBlockInputs=3781872; runStartBlockOutputs=2936; runStartVoluntaryContextSwitches=122956; runStartInvoluntaryContextSwitches=63285</pre>"
      ],
      "text/plain": [
       "<IPython.core.display.HTML object>"
      ]
     },
     "metadata": {},
     "output_type": "display_data"
    },
    {
     "data": {
      "text/html": [
       "<pre style=\"margin: 0.1em;\n",
       "padding-left: 0.25em;\n",
       "border-left-style: solid;\n",
       "font-family: var(--jp-code-font-family);\n",
       "font-size: var(--jp-code-font-size);\n",
       "line-height: var(--jp-code-line-height);\n",
       "\"><span style=\"color: var(--jp-warn-color2)\">lsst.characterizeImage.measurePsf</span> <span style=\"color: var(--jp-info-color0)\">INFO</span>: Measuring PSF</pre>"
      ],
      "text/plain": [
       "<IPython.core.display.HTML object>"
      ]
     },
     "metadata": {},
     "output_type": "display_data"
    },
    {
     "data": {
      "text/html": [
       "<pre style=\"margin: 0.1em;\n",
       "padding-left: 0.25em;\n",
       "border-left-style: solid;\n",
       "font-family: var(--jp-code-font-family);\n",
       "font-size: var(--jp-code-font-size);\n",
       "line-height: var(--jp-code-line-height);\n",
       "\"><span style=\"color: var(--jp-warn-color2)\">lsst.characterizeImage.measurePsf</span> <span style=\"color: var(--jp-info-color0)\">INFO</span>: PSF star selector found 52 candidates</pre>"
      ],
      "text/plain": [
       "<IPython.core.display.HTML object>"
      ]
     },
     "metadata": {},
     "output_type": "display_data"
    },
    {
     "data": {
      "text/html": [
       "<pre style=\"margin: 0.1em;\n",
       "padding-left: 0.25em;\n",
       "border-left-style: solid;\n",
       "font-family: var(--jp-code-font-family);\n",
       "font-size: var(--jp-code-font-size);\n",
       "line-height: var(--jp-code-line-height);\n",
       "\"><span style=\"color: var(--jp-warn-color2)\">lsst.characterizeImage.measurePsf.reserve</span> <span style=\"color: var(--jp-info-color0)\">INFO</span>: Reserved 0/52 sources</pre>"
      ],
      "text/plain": [
       "<IPython.core.display.HTML object>"
      ]
     },
     "metadata": {},
     "output_type": "display_data"
    },
    {
     "data": {
      "text/html": [
       "<pre style=\"margin: 0.1em;\n",
       "padding-left: 0.25em;\n",
       "border-left-style: solid;\n",
       "font-family: var(--jp-code-font-family);\n",
       "font-size: var(--jp-code-font-size);\n",
       "line-height: var(--jp-code-line-height);\n",
       "\"><span style=\"color: var(--jp-warn-color2)\">lsst.characterizeImage.measurePsf</span> <span style=\"color: var(--jp-info-color0)\">INFO</span>: Sending 52 candidates to PSF determiner</pre>"
      ],
      "text/plain": [
       "<IPython.core.display.HTML object>"
      ]
     },
     "metadata": {},
     "output_type": "display_data"
    },
    {
     "data": {
      "text/html": [
       "<pre style=\"margin: 0.1em;\n",
       "padding-left: 0.25em;\n",
       "border-left-style: solid;\n",
       "font-family: var(--jp-code-font-family);\n",
       "font-size: var(--jp-code-font-size);\n",
       "line-height: var(--jp-code-line-height);\n",
       "\"><span style=\"color: var(--jp-warn-color2)\">lsst.characterizeImage.measurePsf.psfDeterminer</span> <span style=\"color: var(--jp-warn-color0)\">WARNING</span>: NOT scaling kernelSize by stellar quadrupole moment, but using absolute value</pre>"
      ],
      "text/plain": [
       "<IPython.core.display.HTML object>"
      ]
     },
     "metadata": {},
     "output_type": "display_data"
    },
    {
     "data": {
      "text/html": [
       "<pre style=\"margin: 0.1em;\n",
       "padding-left: 0.25em;\n",
       "border-left-style: solid;\n",
       "font-family: var(--jp-code-font-family);\n",
       "font-size: var(--jp-code-font-size);\n",
       "line-height: var(--jp-code-line-height);\n",
       "\"><span style=\"color: var(--jp-warn-color2)\">lsst.characterizeImage.measurePsf</span> <span style=\"color: var(--jp-info-color0)\">INFO</span>: PSF determination using 41/52 stars.</pre>"
      ],
      "text/plain": [
       "<IPython.core.display.HTML object>"
      ]
     },
     "metadata": {},
     "output_type": "display_data"
    },
    {
     "data": {
      "text/html": [
       "<pre style=\"margin: 0.1em;\n",
       "padding-left: 0.25em;\n",
       "border-left-style: solid;\n",
       "font-family: var(--jp-code-font-family);\n",
       "font-size: var(--jp-code-font-size);\n",
       "line-height: var(--jp-code-line-height);\n",
       "\"><span style=\"color: var(--jp-warn-color2)\">timer.lsst.characterizeImage.measurePsf</span> <span style=\"color: var(--jp-success-color0)\">DEBUG</span>: runEndCpuTime=151.074015638; runEndUserTime=138.027413; runEndSystemTime=13.04658; runEndMaxResidentSetSize=1130549248; runEndMinorPageFaults=7388695; runEndMajorPageFaults=14; runEndBlockInputs=3781872; runEndBlockOutputs=2936; runEndVoluntaryContextSwitches=123249; runEndInvoluntaryContextSwitches=63290</pre>"
      ],
      "text/plain": [
       "<IPython.core.display.HTML object>"
      ]
     },
     "metadata": {},
     "output_type": "display_data"
    },
    {
     "data": {
      "text/html": [
       "<pre style=\"margin: 0.1em;\n",
       "padding-left: 0.25em;\n",
       "border-left-style: solid;\n",
       "font-family: var(--jp-code-font-family);\n",
       "font-size: var(--jp-code-font-size);\n",
       "line-height: var(--jp-code-line-height);\n",
       "\"><span style=\"color: var(--jp-warn-color2)\">timer.lsst.characterizeImage</span> <span style=\"color: var(--jp-success-color0)\">DEBUG</span>: detectMeasureAndEstimatePsfEndCpuTime=151.07497219; detectMeasureAndEstimatePsfEndUserTime=138.028385; detectMeasureAndEstimatePsfEndSystemTime=13.04658; detectMeasureAndEstimatePsfEndMaxResidentSetSize=1130549248; detectMeasureAndEstimatePsfEndMinorPageFaults=7388695; detectMeasureAndEstimatePsfEndMajorPageFaults=14; detectMeasureAndEstimatePsfEndBlockInputs=3781872; detectMeasureAndEstimatePsfEndBlockOutputs=2936; detectMeasureAndEstimatePsfEndVoluntaryContextSwitches=123269; detectMeasureAndEstimatePsfEndInvoluntaryContextSwitches=63290</pre>"
      ],
      "text/plain": [
       "<IPython.core.display.HTML object>"
      ]
     },
     "metadata": {},
     "output_type": "display_data"
    },
    {
     "data": {
      "text/html": [
       "<pre style=\"margin: 0.1em;\n",
       "padding-left: 0.25em;\n",
       "border-left-style: solid;\n",
       "font-family: var(--jp-code-font-family);\n",
       "font-size: var(--jp-code-font-size);\n",
       "line-height: var(--jp-code-line-height);\n",
       "\"><span style=\"color: var(--jp-warn-color2)\">lsst.characterizeImage</span> <span style=\"color: var(--jp-info-color0)\">INFO</span>: iter 1; PSF sigma=5.76, dimensions=(41, 41); median background=6.01</pre>"
      ],
      "text/plain": [
       "<IPython.core.display.HTML object>"
      ]
     },
     "metadata": {},
     "output_type": "display_data"
    },
    {
     "data": {
      "text/html": [
       "<pre style=\"margin: 0.1em;\n",
       "padding-left: 0.25em;\n",
       "border-left-style: solid;\n",
       "font-family: var(--jp-code-font-family);\n",
       "font-size: var(--jp-code-font-size);\n",
       "line-height: var(--jp-code-line-height);\n",
       "\"><span style=\"color: var(--jp-warn-color2)\">timer.lsst.characterizeImage.repair</span> <span style=\"color: var(--jp-success-color0)\">DEBUG</span>: runStartCpuTime=151.303409354; runStartUserTime=138.196723; runStartSystemTime=13.106665; runStartMaxResidentSetSize=1130549248; runStartMinorPageFaults=7436416; runStartMajorPageFaults=14; runStartBlockInputs=3781872; runStartBlockOutputs=2936; runStartVoluntaryContextSwitches=123347; runStartInvoluntaryContextSwitches=63291</pre>"
      ],
      "text/plain": [
       "<IPython.core.display.HTML object>"
      ]
     },
     "metadata": {},
     "output_type": "display_data"
    },
    {
     "data": {
      "text/html": [
       "<pre style=\"margin: 0.1em;\n",
       "padding-left: 0.25em;\n",
       "border-left-style: solid;\n",
       "font-family: var(--jp-code-font-family);\n",
       "font-size: var(--jp-code-font-size);\n",
       "line-height: var(--jp-code-line-height);\n",
       "\"><span style=\"color: var(--jp-warn-color2)\">lsst.characterizeImage.repair</span> <span style=\"color: var(--jp-info-color0)\">INFO</span>: Identified 4 cosmic rays.</pre>"
      ],
      "text/plain": [
       "<IPython.core.display.HTML object>"
      ]
     },
     "metadata": {},
     "output_type": "display_data"
    },
    {
     "data": {
      "text/html": [
       "<pre style=\"margin: 0.1em;\n",
       "padding-left: 0.25em;\n",
       "border-left-style: solid;\n",
       "font-family: var(--jp-code-font-family);\n",
       "font-size: var(--jp-code-font-size);\n",
       "line-height: var(--jp-code-line-height);\n",
       "\"><span style=\"color: var(--jp-warn-color2)\">timer.lsst.characterizeImage.repair</span> <span style=\"color: var(--jp-success-color0)\">DEBUG</span>: runEndCpuTime=151.804294093; runEndUserTime=138.660625; runEndSystemTime=13.143647; runEndMaxResidentSetSize=1130549248; runEndMinorPageFaults=7460516; runEndMajorPageFaults=14; runEndBlockInputs=3781872; runEndBlockOutputs=2936; runEndVoluntaryContextSwitches=123492; runEndInvoluntaryContextSwitches=63293</pre>"
      ],
      "text/plain": [
       "<IPython.core.display.HTML object>"
      ]
     },
     "metadata": {},
     "output_type": "display_data"
    },
    {
     "data": {
      "text/html": [
       "<pre style=\"margin: 0.1em;\n",
       "padding-left: 0.25em;\n",
       "border-left-style: solid;\n",
       "font-family: var(--jp-code-font-family);\n",
       "font-size: var(--jp-code-font-size);\n",
       "line-height: var(--jp-code-line-height);\n",
       "\"><span style=\"color: var(--jp-warn-color2)\">timer.lsst.characterizeImage.measurement</span> <span style=\"color: var(--jp-success-color0)\">DEBUG</span>: runStartCpuTime=151.805329988; runStartUserTime=138.661672; runStartSystemTime=13.143651; runStartMaxResidentSetSize=1130549248; runStartMinorPageFaults=7460516; runStartMajorPageFaults=14; runStartBlockInputs=3781872; runStartBlockOutputs=2936; runStartVoluntaryContextSwitches=123511; runStartInvoluntaryContextSwitches=63293</pre>"
      ],
      "text/plain": [
       "<IPython.core.display.HTML object>"
      ]
     },
     "metadata": {},
     "output_type": "display_data"
    },
    {
     "data": {
      "text/html": [
       "<pre style=\"margin: 0.1em;\n",
       "padding-left: 0.25em;\n",
       "border-left-style: solid;\n",
       "font-family: var(--jp-code-font-family);\n",
       "font-size: var(--jp-code-font-size);\n",
       "line-height: var(--jp-code-line-height);\n",
       "\"><span style=\"color: var(--jp-warn-color2)\">lsst.characterizeImage.measurement</span> <span style=\"color: var(--jp-success-color0)\">DEBUG</span>: Mask plane &quot;THISDET&quot;: plane 10, bitmask 1024 = 0x400</pre>"
      ],
      "text/plain": [
       "<IPython.core.display.HTML object>"
      ]
     },
     "metadata": {},
     "output_type": "display_data"
    },
    {
     "data": {
      "text/html": [
       "<pre style=\"margin: 0.1em;\n",
       "padding-left: 0.25em;\n",
       "border-left-style: solid;\n",
       "font-family: var(--jp-code-font-family);\n",
       "font-size: var(--jp-code-font-size);\n",
       "line-height: var(--jp-code-line-height);\n",
       "\"><span style=\"color: var(--jp-warn-color2)\">lsst.characterizeImage.measurement</span> <span style=\"color: var(--jp-success-color0)\">DEBUG</span>: Mask plane &quot;OTHERDET&quot;: plane 11, bitmask 2048 = 0x800</pre>"
      ],
      "text/plain": [
       "<IPython.core.display.HTML object>"
      ]
     },
     "metadata": {},
     "output_type": "display_data"
    },
    {
     "data": {
      "text/html": [
       "<pre style=\"margin: 0.1em;\n",
       "padding-left: 0.25em;\n",
       "border-left-style: solid;\n",
       "font-family: var(--jp-code-font-family);\n",
       "font-size: var(--jp-code-font-size);\n",
       "line-height: var(--jp-code-line-height);\n",
       "\"><span style=\"color: var(--jp-warn-color2)\">lsst.characterizeImage.measurement</span> <span style=\"color: var(--jp-success-color0)\">DEBUG</span>: Measured from image: clipped mean = 0.0953126, stdev = 9.34126</pre>"
      ],
      "text/plain": [
       "<IPython.core.display.HTML object>"
      ]
     },
     "metadata": {},
     "output_type": "display_data"
    },
    {
     "data": {
      "text/html": [
       "<pre style=\"margin: 0.1em;\n",
       "padding-left: 0.25em;\n",
       "border-left-style: solid;\n",
       "font-family: var(--jp-code-font-family);\n",
       "font-size: var(--jp-code-font-size);\n",
       "line-height: var(--jp-code-line-height);\n",
       "\"><span style=\"color: var(--jp-warn-color2)\">lsst.characterizeImage.measurement</span> <span style=\"color: var(--jp-success-color0)\">DEBUG</span>: Using noise generator: FixedGaussianNoiseGenerator: mean=0.0953126, std=9.34126</pre>"
      ],
      "text/plain": [
       "<IPython.core.display.HTML object>"
      ]
     },
     "metadata": {},
     "output_type": "display_data"
    },
    {
     "data": {
      "text/html": [
       "<pre style=\"margin: 0.1em;\n",
       "padding-left: 0.25em;\n",
       "border-left-style: solid;\n",
       "font-family: var(--jp-code-font-family);\n",
       "font-size: var(--jp-code-font-size);\n",
       "line-height: var(--jp-code-line-height);\n",
       "\"><span style=\"color: var(--jp-warn-color2)\">lsst.characterizeImage.measurement</span> <span style=\"color: var(--jp-info-color0)\">INFO</span>: Measuring 93 sources (93 parents, 0 children) </pre>"
      ],
      "text/plain": [
       "<IPython.core.display.HTML object>"
      ]
     },
     "metadata": {},
     "output_type": "display_data"
    },
    {
     "data": {
      "text/html": [
       "<pre style=\"margin: 0.1em;\n",
       "padding-left: 0.25em;\n",
       "border-left-style: solid;\n",
       "font-family: var(--jp-code-font-family);\n",
       "font-size: var(--jp-code-font-size);\n",
       "line-height: var(--jp-code-line-height);\n",
       "\"><span style=\"color: var(--jp-warn-color2)\">lsst.characterizeImage.measurement.base_GaussianFlux</span> <span style=\"color: var(--jp-success-color0)\">DEBUG</span>: MeasurementError in base_GaussianFlux.measure on record 20: \n",
       "  File &quot;src/InputUtilities.cc&quot;, line 179, in lsst::afw::geom::ellipses::Quadrupole lsst::meas::base::SafeShapeExtractor::operator()(lsst::afw::table::SourceRecord&amp;, const lsst::meas::base::FlagHandler&amp;) const\n",
       "    base_GaussianFlux: Shape needed, and Shape slot measurement failed. {0}\n",
       "lsst::meas::base::MeasurementError: &#x27;base_GaussianFlux: Shape needed, and Shape slot measurement failed.&#x27;\n",
       "</pre>"
      ],
      "text/plain": [
       "<IPython.core.display.HTML object>"
      ]
     },
     "metadata": {},
     "output_type": "display_data"
    },
    {
     "data": {
      "text/html": [
       "<pre style=\"margin: 0.1em;\n",
       "padding-left: 0.25em;\n",
       "border-left-style: solid;\n",
       "font-family: var(--jp-code-font-family);\n",
       "font-size: var(--jp-code-font-size);\n",
       "line-height: var(--jp-code-line-height);\n",
       "\"><span style=\"color: var(--jp-warn-color2)\">lsst.characterizeImage.measurement.base_GaussianFlux</span> <span style=\"color: var(--jp-success-color0)\">DEBUG</span>: MeasurementError in base_GaussianFlux.measure on record 92: \n",
       "  File &quot;src/InputUtilities.cc&quot;, line 179, in lsst::afw::geom::ellipses::Quadrupole lsst::meas::base::SafeShapeExtractor::operator()(lsst::afw::table::SourceRecord&amp;, const lsst::meas::base::FlagHandler&amp;) const\n",
       "    base_GaussianFlux: Shape needed, and Shape slot measurement failed. {0}\n",
       "lsst::meas::base::MeasurementError: &#x27;base_GaussianFlux: Shape needed, and Shape slot measurement failed.&#x27;\n",
       "</pre>"
      ],
      "text/plain": [
       "<IPython.core.display.HTML object>"
      ]
     },
     "metadata": {},
     "output_type": "display_data"
    },
    {
     "data": {
      "text/html": [
       "<pre style=\"margin: 0.1em;\n",
       "padding-left: 0.25em;\n",
       "border-left-style: solid;\n",
       "font-family: var(--jp-code-font-family);\n",
       "font-size: var(--jp-code-font-size);\n",
       "line-height: var(--jp-code-line-height);\n",
       "\"><span style=\"color: var(--jp-warn-color2)\">timer.lsst.characterizeImage.measurement</span> <span style=\"color: var(--jp-success-color0)\">DEBUG</span>: runEndCpuTime=152.588186491; runEndUserTime=139.4134; runEndSystemTime=13.174764; runEndMaxResidentSetSize=1130549248; runEndMinorPageFaults=7484616; runEndMajorPageFaults=14; runEndBlockInputs=3781872; runEndBlockOutputs=2936; runEndVoluntaryContextSwitches=123863; runEndInvoluntaryContextSwitches=63295</pre>"
      ],
      "text/plain": [
       "<IPython.core.display.HTML object>"
      ]
     },
     "metadata": {},
     "output_type": "display_data"
    },
    {
     "data": {
      "text/html": [
       "<pre style=\"margin: 0.1em;\n",
       "padding-left: 0.25em;\n",
       "border-left-style: solid;\n",
       "font-family: var(--jp-code-font-family);\n",
       "font-size: var(--jp-code-font-size);\n",
       "line-height: var(--jp-code-line-height);\n",
       "\"><span style=\"color: var(--jp-warn-color2)\">timer.lsst.characterizeImage.catalogCalculation</span> <span style=\"color: var(--jp-success-color0)\">DEBUG</span>: runStartCpuTime=152.589394541; runStartUserTime=139.414623; runStartSystemTime=13.174764; runStartMaxResidentSetSize=1130549248; runStartMinorPageFaults=7484616; runStartMajorPageFaults=14; runStartBlockInputs=3781872; runStartBlockOutputs=2936; runStartVoluntaryContextSwitches=123884; runStartInvoluntaryContextSwitches=63295</pre>"
      ],
      "text/plain": [
       "<IPython.core.display.HTML object>"
      ]
     },
     "metadata": {},
     "output_type": "display_data"
    },
    {
     "data": {
      "text/html": [
       "<pre style=\"margin: 0.1em;\n",
       "padding-left: 0.25em;\n",
       "border-left-style: solid;\n",
       "font-family: var(--jp-code-font-family);\n",
       "font-size: var(--jp-code-font-size);\n",
       "line-height: var(--jp-code-line-height);\n",
       "\"><span style=\"color: var(--jp-warn-color2)\">timer.lsst.characterizeImage.catalogCalculation</span> <span style=\"color: var(--jp-success-color0)\">DEBUG</span>: runEndCpuTime=152.592181223; runEndUserTime=139.41741; runEndSystemTime=13.174765; runEndMaxResidentSetSize=1130549248; runEndMinorPageFaults=7484616; runEndMajorPageFaults=14; runEndBlockInputs=3781872; runEndBlockOutputs=2936; runEndVoluntaryContextSwitches=123903; runEndInvoluntaryContextSwitches=63295</pre>"
      ],
      "text/plain": [
       "<IPython.core.display.HTML object>"
      ]
     },
     "metadata": {},
     "output_type": "display_data"
    },
    {
     "data": {
      "text/html": [
       "<pre style=\"margin: 0.1em;\n",
       "padding-left: 0.25em;\n",
       "border-left-style: solid;\n",
       "font-family: var(--jp-code-font-family);\n",
       "font-size: var(--jp-code-font-size);\n",
       "line-height: var(--jp-code-line-height);\n",
       "\"><span style=\"color: var(--jp-warn-color2)\">timer.lsst.characterizeImage</span> <span style=\"color: var(--jp-success-color0)\">DEBUG</span>: runEndCpuTime=152.593053253; runEndUserTime=139.418283; runEndSystemTime=13.174765; runEndMaxResidentSetSize=1130549248; runEndMinorPageFaults=7484616; runEndMajorPageFaults=14; runEndBlockInputs=3781872; runEndBlockOutputs=2936; runEndVoluntaryContextSwitches=123922; runEndInvoluntaryContextSwitches=63295</pre>"
      ],
      "text/plain": [
       "<IPython.core.display.HTML object>"
      ]
     },
     "metadata": {},
     "output_type": "display_data"
    },
    {
     "name": "stdout",
     "output_type": "stream",
     "text": [
      "Psf shape from imChar task (x,y) = (1.274, 1.325) FWHM arcsec\n",
      "{'day_obs': 20220526, 'seq_num': 138, 'detector': 0, 'instrument': 'LATISS'}\n"
     ]
    },
    {
     "data": {
      "text/html": [
       "<pre style=\"margin: 0.1em;\n",
       "padding-left: 0.25em;\n",
       "border-left-style: solid;\n",
       "font-family: var(--jp-code-font-family);\n",
       "font-size: var(--jp-code-font-size);\n",
       "line-height: var(--jp-code-line-height);\n",
       "\"><span style=\"color: var(--jp-warn-color2)\">lsst.daf.butler._butler</span> <span style=\"color: var(--jp-success-color0)\">DEBUG</span>: Butler get: quickLookExp, dataId={&#x27;day_obs&#x27;: 20220526, &#x27;seq_num&#x27;: 138, &#x27;detector&#x27;: 0, &#x27;instrument&#x27;: &#x27;LATISS&#x27;}, parameters=None</pre>"
      ],
      "text/plain": [
       "<IPython.core.display.HTML object>"
      ]
     },
     "metadata": {},
     "output_type": "display_data"
    },
    {
     "data": {
      "text/html": [
       "<pre style=\"margin: 0.1em;\n",
       "padding-left: 0.25em;\n",
       "border-left-style: solid;\n",
       "font-family: var(--jp-code-font-family);\n",
       "font-size: var(--jp-code-font-size);\n",
       "line-height: var(--jp-code-line-height);\n",
       "\"><span style=\"color: var(--jp-warn-color2)\">lsst.daf.butler._butler</span> <span style=\"color: var(--jp-success-color0)\">DEBUG</span>: Assigned non-dimension dataId keys to dimension exposure: {&#x27;day_obs&#x27;: 20220526, &#x27;seq_num&#x27;: 138}</pre>"
      ],
      "text/plain": [
       "<IPython.core.display.HTML object>"
      ]
     },
     "metadata": {},
     "output_type": "display_data"
    },
    {
     "data": {
      "text/html": [
       "<pre style=\"margin: 0.1em;\n",
       "padding-left: 0.25em;\n",
       "border-left-style: solid;\n",
       "font-family: var(--jp-code-font-family);\n",
       "font-size: var(--jp-code-font-size);\n",
       "line-height: var(--jp-code-line-height);\n",
       "\"><span style=\"color: var(--jp-warn-color2)\">lsst.daf.butler.datastores.fileDatastore</span> <span style=\"color: var(--jp-success-color0)\">DEBUG</span>: Retrieve quickLookExp@{instrument: &#x27;LATISS&#x27;, detector: 0, exposure: 2022052600138}, sc=ExposureF] (id=1a824782-e787-4228-b380-8c903cd70c84) from FileDatastore@&lt;butlerRoot&gt; with parameters None</pre>"
      ],
      "text/plain": [
       "<IPython.core.display.HTML object>"
      ]
     },
     "metadata": {},
     "output_type": "display_data"
    },
    {
     "data": {
      "text/html": [
       "<pre style=\"margin: 0.1em;\n",
       "padding-left: 0.25em;\n",
       "border-left-style: solid;\n",
       "font-family: var(--jp-code-font-family);\n",
       "font-size: var(--jp-code-font-size);\n",
       "line-height: var(--jp-code-line-height);\n",
       "\"><span style=\"color: var(--jp-warn-color2)\">lsst.daf.butler.datastores.fileDatastore</span> <span style=\"color: var(--jp-success-color0)\">DEBUG</span>: Accessing data from file:///repo/LATISS/LATISS/runs/quickLook/1/quickLookExp/20220526/AT_O_20220526_000138/quickLookExp_LATISS_SDSSr~empty_AT_O_20220526_000138_RXX_S00_LATISS_runs_quickLook_1.fits</pre>"
      ],
      "text/plain": [
       "<IPython.core.display.HTML object>"
      ]
     },
     "metadata": {},
     "output_type": "display_data"
    },
    {
     "data": {
      "text/html": [
       "<pre style=\"margin: 0.1em;\n",
       "padding-left: 0.25em;\n",
       "border-left-style: solid;\n",
       "font-family: var(--jp-code-font-family);\n",
       "font-size: var(--jp-code-font-size);\n",
       "line-height: var(--jp-code-line-height);\n",
       "\"><span style=\"color: var(--jp-warn-color2)\">lsst.daf.butler.datastores.fileDatastore</span> <span style=\"color: var(--jp-success-color0)\">DEBUG</span>: Reading from location file:///repo/LATISS/LATISS/runs/quickLook/1/quickLookExp/20220526/AT_O_20220526_000138/quickLookExp_LATISS_SDSSr~empty_AT_O_20220526_000138_RXX_S00_LATISS_runs_quickLook_1.fits  with formatter lsst.obs.base.formatters.fitsExposure.FitsExposureFormatter</pre>"
      ],
      "text/plain": [
       "<IPython.core.display.HTML object>"
      ]
     },
     "metadata": {},
     "output_type": "display_data"
    },
    {
     "data": {
      "text/html": [
       "<pre style=\"margin: 0.1em;\n",
       "padding-left: 0.25em;\n",
       "border-left-style: solid;\n",
       "font-family: var(--jp-code-font-family);\n",
       "font-size: var(--jp-code-font-size);\n",
       "line-height: var(--jp-code-line-height);\n",
       "\"><span style=\"color: var(--jp-warn-color2)\">timer.lsst.daf.butler.datastores.fileDatastore</span> <span style=\"color: var(--jp-success-color0)\">DEBUG</span>: Reading from location file:///repo/LATISS/LATISS/runs/quickLook/1/quickLookExp/20220526/AT_O_20220526_000138/quickLookExp_LATISS_SDSSr~empty_AT_O_20220526_000138_RXX_S00_LATISS_runs_quickLook_1.fits  with formatter lsst.obs.base.formatters.fitsExposure.FitsExposureFormatter: Took 0.9468 seconds</pre>"
      ],
      "text/plain": [
       "<IPython.core.display.HTML object>"
      ]
     },
     "metadata": {},
     "output_type": "display_data"
    },
    {
     "data": {
      "text/html": [
       "<pre style=\"margin: 0.1em;\n",
       "padding-left: 0.25em;\n",
       "border-left-style: solid;\n",
       "font-family: var(--jp-code-font-family);\n",
       "font-size: var(--jp-code-font-size);\n",
       "line-height: var(--jp-code-line-height);\n",
       "\"><span style=\"color: var(--jp-warn-color2)\">lsst.summit.utils.bestEffort</span> <span style=\"color: var(--jp-info-color0)\">INFO</span>: Found a ready-made quickLookExp in the repo. Returning that.</pre>"
      ],
      "text/plain": [
       "<IPython.core.display.HTML object>"
      ]
     },
     "metadata": {},
     "output_type": "display_data"
    },
    {
     "data": {
      "text/html": [
       "<pre style=\"margin: 0.1em;\n",
       "padding-left: 0.25em;\n",
       "border-left-style: solid;\n",
       "font-family: var(--jp-code-font-family);\n",
       "font-size: var(--jp-code-font-size);\n",
       "line-height: var(--jp-code-line-height);\n",
       "\"><span style=\"color: var(--jp-warn-color2)\">timer.lsst.characterizeImage</span> <span style=\"color: var(--jp-success-color0)\">DEBUG</span>: runStartCpuTime=153.582785217; runStartUserTime=140.303747; runStartSystemTime=13.279012; runStartMaxResidentSetSize=1130549248; runStartMinorPageFaults=7532696; runStartMajorPageFaults=14; runStartBlockInputs=4042816; runStartBlockOutputs=2936; runStartVoluntaryContextSwitches=125750; runStartInvoluntaryContextSwitches=63312</pre>"
      ],
      "text/plain": [
       "<IPython.core.display.HTML object>"
      ]
     },
     "metadata": {},
     "output_type": "display_data"
    },
    {
     "data": {
      "text/html": [
       "<pre style=\"margin: 0.1em;\n",
       "padding-left: 0.25em;\n",
       "border-left-style: solid;\n",
       "font-family: var(--jp-code-font-family);\n",
       "font-size: var(--jp-code-font-size);\n",
       "line-height: var(--jp-code-line-height);\n",
       "\"><span style=\"color: var(--jp-warn-color2)\">lsst.characterizeImage.background</span> <span style=\"color: var(--jp-success-color0)\">DEBUG</span>: Ignoring mask planes: BAD, EDGE, DETECTED, DETECTED_NEGATIVE, NO_DATA</pre>"
      ],
      "text/plain": [
       "<IPython.core.display.HTML object>"
      ]
     },
     "metadata": {},
     "output_type": "display_data"
    },
    {
     "data": {
      "text/html": [
       "<pre style=\"margin: 0.1em;\n",
       "padding-left: 0.25em;\n",
       "border-left-style: solid;\n",
       "font-family: var(--jp-code-font-family);\n",
       "font-size: var(--jp-code-font-size);\n",
       "line-height: var(--jp-code-line-height);\n",
       "\"><span style=\"color: var(--jp-warn-color2)\">timer.lsst.characterizeImage</span> <span style=\"color: var(--jp-success-color0)\">DEBUG</span>: detectMeasureAndEstimatePsfStartCpuTime=154.259880898; detectMeasureAndEstimatePsfStartUserTime=140.928932; detectMeasureAndEstimatePsfStartSystemTime=13.330925; detectMeasureAndEstimatePsfStartMaxResidentSetSize=1130549248; detectMeasureAndEstimatePsfStartMinorPageFaults=7580420; detectMeasureAndEstimatePsfStartMajorPageFaults=14; detectMeasureAndEstimatePsfStartBlockInputs=4042816; detectMeasureAndEstimatePsfStartBlockOutputs=2936; detectMeasureAndEstimatePsfStartVoluntaryContextSwitches=125790; detectMeasureAndEstimatePsfStartInvoluntaryContextSwitches=63321</pre>"
      ],
      "text/plain": [
       "<IPython.core.display.HTML object>"
      ]
     },
     "metadata": {},
     "output_type": "display_data"
    },
    {
     "data": {
      "text/html": [
       "<pre style=\"margin: 0.1em;\n",
       "padding-left: 0.25em;\n",
       "border-left-style: solid;\n",
       "font-family: var(--jp-code-font-family);\n",
       "font-size: var(--jp-code-font-size);\n",
       "line-height: var(--jp-code-line-height);\n",
       "\"><span style=\"color: var(--jp-warn-color2)\">lsst.characterizeImage</span> <span style=\"color: var(--jp-info-color0)\">INFO</span>: PSF estimation initialized with &#x27;simple&#x27; PSF</pre>"
      ],
      "text/plain": [
       "<IPython.core.display.HTML object>"
      ]
     },
     "metadata": {},
     "output_type": "display_data"
    },
    {
     "data": {
      "text/html": [
       "<pre style=\"margin: 0.1em;\n",
       "padding-left: 0.25em;\n",
       "border-left-style: solid;\n",
       "font-family: var(--jp-code-font-family);\n",
       "font-size: var(--jp-code-font-size);\n",
       "line-height: var(--jp-code-line-height);\n",
       "\"><span style=\"color: var(--jp-warn-color2)\">lsst.characterizeImage.installSimplePsf</span> <span style=\"color: var(--jp-success-color0)\">DEBUG</span>: installing a simple Gaussian PSF model with width=61, height=61, FWHM=15.000</pre>"
      ],
      "text/plain": [
       "<IPython.core.display.HTML object>"
      ]
     },
     "metadata": {},
     "output_type": "display_data"
    },
    {
     "data": {
      "text/html": [
       "<pre style=\"margin: 0.1em;\n",
       "padding-left: 0.25em;\n",
       "border-left-style: solid;\n",
       "font-family: var(--jp-code-font-family);\n",
       "font-size: var(--jp-code-font-size);\n",
       "line-height: var(--jp-code-line-height);\n",
       "\"><span style=\"color: var(--jp-warn-color2)\">timer.lsst.characterizeImage.repair</span> <span style=\"color: var(--jp-success-color0)\">DEBUG</span>: runStartCpuTime=154.263246461; runStartUserTime=140.93228; runStartSystemTime=13.330958; runStartMaxResidentSetSize=1130549248; runStartMinorPageFaults=7580422; runStartMajorPageFaults=14; runStartBlockInputs=4042816; runStartBlockOutputs=2936; runStartVoluntaryContextSwitches=125836; runStartInvoluntaryContextSwitches=63321</pre>"
      ],
      "text/plain": [
       "<IPython.core.display.HTML object>"
      ]
     },
     "metadata": {},
     "output_type": "display_data"
    },
    {
     "data": {
      "text/html": [
       "<pre style=\"margin: 0.1em;\n",
       "padding-left: 0.25em;\n",
       "border-left-style: solid;\n",
       "font-family: var(--jp-code-font-family);\n",
       "font-size: var(--jp-code-font-size);\n",
       "line-height: var(--jp-code-line-height);\n",
       "\"><span style=\"color: var(--jp-warn-color2)\">lsst.characterizeImage.repair</span> <span style=\"color: var(--jp-info-color0)\">INFO</span>: Identified 4 cosmic rays.</pre>"
      ],
      "text/plain": [
       "<IPython.core.display.HTML object>"
      ]
     },
     "metadata": {},
     "output_type": "display_data"
    },
    {
     "data": {
      "text/html": [
       "<pre style=\"margin: 0.1em;\n",
       "padding-left: 0.25em;\n",
       "border-left-style: solid;\n",
       "font-family: var(--jp-code-font-family);\n",
       "font-size: var(--jp-code-font-size);\n",
       "line-height: var(--jp-code-line-height);\n",
       "\"><span style=\"color: var(--jp-warn-color2)\">timer.lsst.characterizeImage.repair</span> <span style=\"color: var(--jp-success-color0)\">DEBUG</span>: runEndCpuTime=154.729657205; runEndUserTime=141.376493; runEndSystemTime=13.353142; runEndMaxResidentSetSize=1130549248; runEndMinorPageFaults=7604522; runEndMajorPageFaults=14; runEndBlockInputs=4042816; runEndBlockOutputs=2936; runEndVoluntaryContextSwitches=125976; runEndInvoluntaryContextSwitches=63326</pre>"
      ],
      "text/plain": [
       "<IPython.core.display.HTML object>"
      ]
     },
     "metadata": {},
     "output_type": "display_data"
    },
    {
     "data": {
      "text/html": [
       "<pre style=\"margin: 0.1em;\n",
       "padding-left: 0.25em;\n",
       "border-left-style: solid;\n",
       "font-family: var(--jp-code-font-family);\n",
       "font-size: var(--jp-code-font-size);\n",
       "line-height: var(--jp-code-line-height);\n",
       "\"><span style=\"color: var(--jp-warn-color2)\">timer.lsst.characterizeImage.detection</span> <span style=\"color: var(--jp-success-color0)\">DEBUG</span>: runStartCpuTime=154.730948029; runStartUserTime=141.377772; runStartSystemTime=13.353168; runStartMaxResidentSetSize=1130549248; runStartMinorPageFaults=7604522; runStartMajorPageFaults=14; runStartBlockInputs=4042816; runStartBlockOutputs=2936; runStartVoluntaryContextSwitches=125998; runStartInvoluntaryContextSwitches=63326</pre>"
      ],
      "text/plain": [
       "<IPython.core.display.HTML object>"
      ]
     },
     "metadata": {},
     "output_type": "display_data"
    },
    {
     "data": {
      "text/html": [
       "<pre style=\"margin: 0.1em;\n",
       "padding-left: 0.25em;\n",
       "border-left-style: solid;\n",
       "font-family: var(--jp-code-font-family);\n",
       "font-size: var(--jp-code-font-size);\n",
       "line-height: var(--jp-code-line-height);\n",
       "\"><span style=\"color: var(--jp-warn-color2)\">timer.lsst.characterizeImage.detection</span> <span style=\"color: var(--jp-success-color0)\">DEBUG</span>: detectFootprintsStartCpuTime=154.731941623; detectFootprintsStartUserTime=141.378767; detectFootprintsStartSystemTime=13.353168; detectFootprintsStartMaxResidentSetSize=1130549248; detectFootprintsStartMinorPageFaults=7604523; detectFootprintsStartMajorPageFaults=14; detectFootprintsStartBlockInputs=4042816; detectFootprintsStartBlockOutputs=2936; detectFootprintsStartVoluntaryContextSwitches=126017; detectFootprintsStartInvoluntaryContextSwitches=63326</pre>"
      ],
      "text/plain": [
       "<IPython.core.display.HTML object>"
      ]
     },
     "metadata": {},
     "output_type": "display_data"
    },
    {
     "data": {
      "text/html": [
       "<pre style=\"margin: 0.1em;\n",
       "padding-left: 0.25em;\n",
       "border-left-style: solid;\n",
       "font-family: var(--jp-code-font-family);\n",
       "font-size: var(--jp-code-font-size);\n",
       "line-height: var(--jp-code-line-height);\n",
       "\"><span style=\"color: var(--jp-warn-color2)\">lsst.characterizeImage.detection</span> <span style=\"color: var(--jp-success-color0)\">DEBUG</span>: Detection threshold: VALUE value=3.174148 (positive) multiplier=5</pre>"
      ],
      "text/plain": [
       "<IPython.core.display.HTML object>"
      ]
     },
     "metadata": {},
     "output_type": "display_data"
    },
    {
     "data": {
      "text/html": [
       "<pre style=\"margin: 0.1em;\n",
       "padding-left: 0.25em;\n",
       "border-left-style: solid;\n",
       "font-family: var(--jp-code-font-family);\n",
       "font-size: var(--jp-code-font-size);\n",
       "line-height: var(--jp-code-line-height);\n",
       "\"><span style=\"color: var(--jp-warn-color2)\">lsst.characterizeImage.detection</span> <span style=\"color: var(--jp-success-color0)\">DEBUG</span>: Detection threshold: VALUE value=3.174148 (negative) multiplier=5</pre>"
      ],
      "text/plain": [
       "<IPython.core.display.HTML object>"
      ]
     },
     "metadata": {},
     "output_type": "display_data"
    },
    {
     "data": {
      "text/html": [
       "<pre style=\"margin: 0.1em;\n",
       "padding-left: 0.25em;\n",
       "border-left-style: solid;\n",
       "font-family: var(--jp-code-font-family);\n",
       "font-size: var(--jp-code-font-size);\n",
       "line-height: var(--jp-code-line-height);\n",
       "\"><span style=\"color: var(--jp-warn-color2)\">lsst.characterizeImage.detection</span> <span style=\"color: var(--jp-info-color0)\">INFO</span>: Detected 98 positive peaks in 85 footprints and 4 negative peaks in 4 footprints to 25 sigma</pre>"
      ],
      "text/plain": [
       "<IPython.core.display.HTML object>"
      ]
     },
     "metadata": {},
     "output_type": "display_data"
    },
    {
     "data": {
      "text/html": [
       "<pre style=\"margin: 0.1em;\n",
       "padding-left: 0.25em;\n",
       "border-left-style: solid;\n",
       "font-family: var(--jp-code-font-family);\n",
       "font-size: var(--jp-code-font-size);\n",
       "line-height: var(--jp-code-line-height);\n",
       "\"><span style=\"color: var(--jp-warn-color2)\">lsst.characterizeImage.detection.background</span> <span style=\"color: var(--jp-success-color0)\">DEBUG</span>: Ignoring mask planes: BAD, EDGE, DETECTED, DETECTED_NEGATIVE, NO_DATA</pre>"
      ],
      "text/plain": [
       "<IPython.core.display.HTML object>"
      ]
     },
     "metadata": {},
     "output_type": "display_data"
    },
    {
     "data": {
      "text/html": [
       "<pre style=\"margin: 0.1em;\n",
       "padding-left: 0.25em;\n",
       "border-left-style: solid;\n",
       "font-family: var(--jp-code-font-family);\n",
       "font-size: var(--jp-code-font-size);\n",
       "line-height: var(--jp-code-line-height);\n",
       "\"><span style=\"color: var(--jp-warn-color2)\">lsst.characterizeImage.detection</span> <span style=\"color: var(--jp-info-color0)\">INFO</span>: Resubtracting the background after object detection</pre>"
      ],
      "text/plain": [
       "<IPython.core.display.HTML object>"
      ]
     },
     "metadata": {},
     "output_type": "display_data"
    },
    {
     "data": {
      "text/html": [
       "<pre style=\"margin: 0.1em;\n",
       "padding-left: 0.25em;\n",
       "border-left-style: solid;\n",
       "font-family: var(--jp-code-font-family);\n",
       "font-size: var(--jp-code-font-size);\n",
       "line-height: var(--jp-code-line-height);\n",
       "\"><span style=\"color: var(--jp-warn-color2)\">timer.lsst.characterizeImage.detection</span> <span style=\"color: var(--jp-success-color0)\">DEBUG</span>: detectFootprintsEndCpuTime=158.186346132; detectFootprintsEndUserTime=144.653095; detectFootprintsEndSystemTime=13.533223; detectFootprintsEndMaxResidentSetSize=1131905024; detectFootprintsEndMinorPageFaults=7794685; detectFootprintsEndMajorPageFaults=14; detectFootprintsEndBlockInputs=4042816; detectFootprintsEndBlockOutputs=2936; detectFootprintsEndVoluntaryContextSwitches=126301; detectFootprintsEndInvoluntaryContextSwitches=63359</pre>"
      ],
      "text/plain": [
       "<IPython.core.display.HTML object>"
      ]
     },
     "metadata": {},
     "output_type": "display_data"
    },
    {
     "data": {
      "text/html": [
       "<pre style=\"margin: 0.1em;\n",
       "padding-left: 0.25em;\n",
       "border-left-style: solid;\n",
       "font-family: var(--jp-code-font-family);\n",
       "font-size: var(--jp-code-font-size);\n",
       "line-height: var(--jp-code-line-height);\n",
       "\"><span style=\"color: var(--jp-warn-color2)\">timer.lsst.characterizeImage.detection</span> <span style=\"color: var(--jp-success-color0)\">DEBUG</span>: runEndCpuTime=158.187701876; runEndUserTime=144.653439; runEndSystemTime=13.534256; runEndMaxResidentSetSize=1131905024; runEndMinorPageFaults=7794685; runEndMajorPageFaults=14; runEndBlockInputs=4042816; runEndBlockOutputs=2936; runEndVoluntaryContextSwitches=126317; runEndInvoluntaryContextSwitches=63359</pre>"
      ],
      "text/plain": [
       "<IPython.core.display.HTML object>"
      ]
     },
     "metadata": {},
     "output_type": "display_data"
    },
    {
     "data": {
      "text/html": [
       "<pre style=\"margin: 0.1em;\n",
       "padding-left: 0.25em;\n",
       "border-left-style: solid;\n",
       "font-family: var(--jp-code-font-family);\n",
       "font-size: var(--jp-code-font-size);\n",
       "line-height: var(--jp-code-line-height);\n",
       "\"><span style=\"color: var(--jp-warn-color2)\">timer.lsst.characterizeImage.measurement</span> <span style=\"color: var(--jp-success-color0)\">DEBUG</span>: runStartCpuTime=158.188724199; runStartUserTime=144.654459; runStartSystemTime=13.534258; runStartMaxResidentSetSize=1131905024; runStartMinorPageFaults=7794687; runStartMajorPageFaults=14; runStartBlockInputs=4042816; runStartBlockOutputs=2936; runStartVoluntaryContextSwitches=126335; runStartInvoluntaryContextSwitches=63359</pre>"
      ],
      "text/plain": [
       "<IPython.core.display.HTML object>"
      ]
     },
     "metadata": {},
     "output_type": "display_data"
    },
    {
     "data": {
      "text/html": [
       "<pre style=\"margin: 0.1em;\n",
       "padding-left: 0.25em;\n",
       "border-left-style: solid;\n",
       "font-family: var(--jp-code-font-family);\n",
       "font-size: var(--jp-code-font-size);\n",
       "line-height: var(--jp-code-line-height);\n",
       "\"><span style=\"color: var(--jp-warn-color2)\">lsst.characterizeImage.measurement</span> <span style=\"color: var(--jp-success-color0)\">DEBUG</span>: Mask plane &quot;THISDET&quot;: plane 10, bitmask 1024 = 0x400</pre>"
      ],
      "text/plain": [
       "<IPython.core.display.HTML object>"
      ]
     },
     "metadata": {},
     "output_type": "display_data"
    },
    {
     "data": {
      "text/html": [
       "<pre style=\"margin: 0.1em;\n",
       "padding-left: 0.25em;\n",
       "border-left-style: solid;\n",
       "font-family: var(--jp-code-font-family);\n",
       "font-size: var(--jp-code-font-size);\n",
       "line-height: var(--jp-code-line-height);\n",
       "\"><span style=\"color: var(--jp-warn-color2)\">lsst.characterizeImage.measurement</span> <span style=\"color: var(--jp-success-color0)\">DEBUG</span>: Mask plane &quot;OTHERDET&quot;: plane 11, bitmask 2048 = 0x800</pre>"
      ],
      "text/plain": [
       "<IPython.core.display.HTML object>"
      ]
     },
     "metadata": {},
     "output_type": "display_data"
    },
    {
     "data": {
      "text/html": [
       "<pre style=\"margin: 0.1em;\n",
       "padding-left: 0.25em;\n",
       "border-left-style: solid;\n",
       "font-family: var(--jp-code-font-family);\n",
       "font-size: var(--jp-code-font-size);\n",
       "line-height: var(--jp-code-line-height);\n",
       "\"><span style=\"color: var(--jp-warn-color2)\">lsst.characterizeImage.measurement</span> <span style=\"color: var(--jp-success-color0)\">DEBUG</span>: Measured from image: clipped mean = 0.10335, stdev = 9.33692</pre>"
      ],
      "text/plain": [
       "<IPython.core.display.HTML object>"
      ]
     },
     "metadata": {},
     "output_type": "display_data"
    },
    {
     "data": {
      "text/html": [
       "<pre style=\"margin: 0.1em;\n",
       "padding-left: 0.25em;\n",
       "border-left-style: solid;\n",
       "font-family: var(--jp-code-font-family);\n",
       "font-size: var(--jp-code-font-size);\n",
       "line-height: var(--jp-code-line-height);\n",
       "\"><span style=\"color: var(--jp-warn-color2)\">lsst.characterizeImage.measurement</span> <span style=\"color: var(--jp-success-color0)\">DEBUG</span>: Using noise generator: FixedGaussianNoiseGenerator: mean=0.10335, std=9.33692</pre>"
      ],
      "text/plain": [
       "<IPython.core.display.HTML object>"
      ]
     },
     "metadata": {},
     "output_type": "display_data"
    },
    {
     "data": {
      "text/html": [
       "<pre style=\"margin: 0.1em;\n",
       "padding-left: 0.25em;\n",
       "border-left-style: solid;\n",
       "font-family: var(--jp-code-font-family);\n",
       "font-size: var(--jp-code-font-size);\n",
       "line-height: var(--jp-code-line-height);\n",
       "\"><span style=\"color: var(--jp-warn-color2)\">lsst.characterizeImage.measurement</span> <span style=\"color: var(--jp-info-color0)\">INFO</span>: Measuring 85 sources (85 parents, 0 children) </pre>"
      ],
      "text/plain": [
       "<IPython.core.display.HTML object>"
      ]
     },
     "metadata": {},
     "output_type": "display_data"
    },
    {
     "data": {
      "text/html": [
       "<pre style=\"margin: 0.1em;\n",
       "padding-left: 0.25em;\n",
       "border-left-style: solid;\n",
       "font-family: var(--jp-code-font-family);\n",
       "font-size: var(--jp-code-font-size);\n",
       "line-height: var(--jp-code-line-height);\n",
       "\"><span style=\"color: var(--jp-warn-color2)\">lsst.characterizeImage.measurement.base_GaussianFlux</span> <span style=\"color: var(--jp-success-color0)\">DEBUG</span>: MeasurementError in base_GaussianFlux.measure on record 84: \n",
       "  File &quot;src/InputUtilities.cc&quot;, line 179, in lsst::afw::geom::ellipses::Quadrupole lsst::meas::base::SafeShapeExtractor::operator()(lsst::afw::table::SourceRecord&amp;, const lsst::meas::base::FlagHandler&amp;) const\n",
       "    base_GaussianFlux: Shape needed, and Shape slot measurement failed. {0}\n",
       "lsst::meas::base::MeasurementError: &#x27;base_GaussianFlux: Shape needed, and Shape slot measurement failed.&#x27;\n",
       "</pre>"
      ],
      "text/plain": [
       "<IPython.core.display.HTML object>"
      ]
     },
     "metadata": {},
     "output_type": "display_data"
    },
    {
     "data": {
      "text/html": [
       "<pre style=\"margin: 0.1em;\n",
       "padding-left: 0.25em;\n",
       "border-left-style: solid;\n",
       "font-family: var(--jp-code-font-family);\n",
       "font-size: var(--jp-code-font-size);\n",
       "line-height: var(--jp-code-line-height);\n",
       "\"><span style=\"color: var(--jp-warn-color2)\">lsst.characterizeImage.measurement.base_SdssCentroid</span> <span style=\"color: var(--jp-success-color0)\">DEBUG</span>: MeasurementError in base_SdssCentroid.measure on record 85: \n",
       "  File &quot;src/SdssCentroid.cc&quot;, line 384, in std::pair&lt;MaskedImageT, double&gt; lsst::meas::base::{anonymous}::smoothAndBinImage(std::shared_ptr&lt;const lsst::afw::detection::Psf&gt;, int, int, const MaskedImageT&amp;, int, int, lsst::meas::base::FlagHandler) [with MaskedImageT = lsst::afw::image::MaskedImage&lt;float&gt;]\n",
       "    Object too close to edge {0}\n",
       "lsst::meas::base::MeasurementError: &#x27;Object too close to edge&#x27;\n",
       "</pre>"
      ],
      "text/plain": [
       "<IPython.core.display.HTML object>"
      ]
     },
     "metadata": {},
     "output_type": "display_data"
    },
    {
     "data": {
      "text/html": [
       "<pre style=\"margin: 0.1em;\n",
       "padding-left: 0.25em;\n",
       "border-left-style: solid;\n",
       "font-family: var(--jp-code-font-family);\n",
       "font-size: var(--jp-code-font-size);\n",
       "line-height: var(--jp-code-line-height);\n",
       "\"><span style=\"color: var(--jp-warn-color2)\">timer.lsst.characterizeImage.measurement</span> <span style=\"color: var(--jp-success-color0)\">DEBUG</span>: runEndCpuTime=158.899454412; runEndUserTime=145.337155; runEndSystemTime=13.562277; runEndMaxResidentSetSize=1131905024; runEndMinorPageFaults=7818791; runEndMajorPageFaults=14; runEndBlockInputs=4042816; runEndBlockOutputs=2936; runEndVoluntaryContextSwitches=126640; runEndInvoluntaryContextSwitches=63367</pre>"
      ],
      "text/plain": [
       "<IPython.core.display.HTML object>"
      ]
     },
     "metadata": {},
     "output_type": "display_data"
    },
    {
     "data": {
      "text/html": [
       "<pre style=\"margin: 0.1em;\n",
       "padding-left: 0.25em;\n",
       "border-left-style: solid;\n",
       "font-family: var(--jp-code-font-family);\n",
       "font-size: var(--jp-code-font-size);\n",
       "line-height: var(--jp-code-line-height);\n",
       "\"><span style=\"color: var(--jp-warn-color2)\">timer.lsst.characterizeImage.measurePsf</span> <span style=\"color: var(--jp-success-color0)\">DEBUG</span>: runStartCpuTime=158.90055317; runStartUserTime=145.338259; runStartSystemTime=13.562287; runStartMaxResidentSetSize=1131905024; runStartMinorPageFaults=7818791; runStartMajorPageFaults=14; runStartBlockInputs=4042816; runStartBlockOutputs=2936; runStartVoluntaryContextSwitches=126654; runStartInvoluntaryContextSwitches=63367</pre>"
      ],
      "text/plain": [
       "<IPython.core.display.HTML object>"
      ]
     },
     "metadata": {},
     "output_type": "display_data"
    },
    {
     "data": {
      "text/html": [
       "<pre style=\"margin: 0.1em;\n",
       "padding-left: 0.25em;\n",
       "border-left-style: solid;\n",
       "font-family: var(--jp-code-font-family);\n",
       "font-size: var(--jp-code-font-size);\n",
       "line-height: var(--jp-code-line-height);\n",
       "\"><span style=\"color: var(--jp-warn-color2)\">lsst.characterizeImage.measurePsf</span> <span style=\"color: var(--jp-info-color0)\">INFO</span>: Measuring PSF</pre>"
      ],
      "text/plain": [
       "<IPython.core.display.HTML object>"
      ]
     },
     "metadata": {},
     "output_type": "display_data"
    },
    {
     "data": {
      "text/html": [
       "<pre style=\"margin: 0.1em;\n",
       "padding-left: 0.25em;\n",
       "border-left-style: solid;\n",
       "font-family: var(--jp-code-font-family);\n",
       "font-size: var(--jp-code-font-size);\n",
       "line-height: var(--jp-code-line-height);\n",
       "\"><span style=\"color: var(--jp-warn-color2)\">lsst.characterizeImage.measurePsf</span> <span style=\"color: var(--jp-info-color0)\">INFO</span>: PSF star selector found 45 candidates</pre>"
      ],
      "text/plain": [
       "<IPython.core.display.HTML object>"
      ]
     },
     "metadata": {},
     "output_type": "display_data"
    },
    {
     "data": {
      "text/html": [
       "<pre style=\"margin: 0.1em;\n",
       "padding-left: 0.25em;\n",
       "border-left-style: solid;\n",
       "font-family: var(--jp-code-font-family);\n",
       "font-size: var(--jp-code-font-size);\n",
       "line-height: var(--jp-code-line-height);\n",
       "\"><span style=\"color: var(--jp-warn-color2)\">lsst.characterizeImage.measurePsf.reserve</span> <span style=\"color: var(--jp-info-color0)\">INFO</span>: Reserved 0/45 sources</pre>"
      ],
      "text/plain": [
       "<IPython.core.display.HTML object>"
      ]
     },
     "metadata": {},
     "output_type": "display_data"
    },
    {
     "data": {
      "text/html": [
       "<pre style=\"margin: 0.1em;\n",
       "padding-left: 0.25em;\n",
       "border-left-style: solid;\n",
       "font-family: var(--jp-code-font-family);\n",
       "font-size: var(--jp-code-font-size);\n",
       "line-height: var(--jp-code-line-height);\n",
       "\"><span style=\"color: var(--jp-warn-color2)\">lsst.characterizeImage.measurePsf</span> <span style=\"color: var(--jp-info-color0)\">INFO</span>: Sending 45 candidates to PSF determiner</pre>"
      ],
      "text/plain": [
       "<IPython.core.display.HTML object>"
      ]
     },
     "metadata": {},
     "output_type": "display_data"
    },
    {
     "data": {
      "text/html": [
       "<pre style=\"margin: 0.1em;\n",
       "padding-left: 0.25em;\n",
       "border-left-style: solid;\n",
       "font-family: var(--jp-code-font-family);\n",
       "font-size: var(--jp-code-font-size);\n",
       "line-height: var(--jp-code-line-height);\n",
       "\"><span style=\"color: var(--jp-warn-color2)\">lsst.characterizeImage.measurePsf.psfDeterminer</span> <span style=\"color: var(--jp-warn-color0)\">WARNING</span>: NOT scaling kernelSize by stellar quadrupole moment, but using absolute value</pre>"
      ],
      "text/plain": [
       "<IPython.core.display.HTML object>"
      ]
     },
     "metadata": {},
     "output_type": "display_data"
    },
    {
     "data": {
      "text/html": [
       "<pre style=\"margin: 0.1em;\n",
       "padding-left: 0.25em;\n",
       "border-left-style: solid;\n",
       "font-family: var(--jp-code-font-family);\n",
       "font-size: var(--jp-code-font-size);\n",
       "line-height: var(--jp-code-line-height);\n",
       "\"><span style=\"color: var(--jp-warn-color2)\">lsst.characterizeImage.measurePsf</span> <span style=\"color: var(--jp-info-color0)\">INFO</span>: PSF determination using 34/45 stars.</pre>"
      ],
      "text/plain": [
       "<IPython.core.display.HTML object>"
      ]
     },
     "metadata": {},
     "output_type": "display_data"
    },
    {
     "data": {
      "text/html": [
       "<pre style=\"margin: 0.1em;\n",
       "padding-left: 0.25em;\n",
       "border-left-style: solid;\n",
       "font-family: var(--jp-code-font-family);\n",
       "font-size: var(--jp-code-font-size);\n",
       "line-height: var(--jp-code-line-height);\n",
       "\"><span style=\"color: var(--jp-warn-color2)\">timer.lsst.characterizeImage.measurePsf</span> <span style=\"color: var(--jp-success-color0)\">DEBUG</span>: runEndCpuTime=159.607577428; runEndUserTime=146.019226; runEndSystemTime=13.588329; runEndMaxResidentSetSize=1131905024; runEndMinorPageFaults=7842893; runEndMajorPageFaults=14; runEndBlockInputs=4042816; runEndBlockOutputs=2936; runEndVoluntaryContextSwitches=126801; runEndInvoluntaryContextSwitches=63375</pre>"
      ],
      "text/plain": [
       "<IPython.core.display.HTML object>"
      ]
     },
     "metadata": {},
     "output_type": "display_data"
    },
    {
     "data": {
      "text/html": [
       "<pre style=\"margin: 0.1em;\n",
       "padding-left: 0.25em;\n",
       "border-left-style: solid;\n",
       "font-family: var(--jp-code-font-family);\n",
       "font-size: var(--jp-code-font-size);\n",
       "line-height: var(--jp-code-line-height);\n",
       "\"><span style=\"color: var(--jp-warn-color2)\">timer.lsst.characterizeImage</span> <span style=\"color: var(--jp-success-color0)\">DEBUG</span>: detectMeasureAndEstimatePsfEndCpuTime=159.608637503; detectMeasureAndEstimatePsfEndUserTime=146.020295; detectMeasureAndEstimatePsfEndSystemTime=13.588336; detectMeasureAndEstimatePsfEndMaxResidentSetSize=1131905024; detectMeasureAndEstimatePsfEndMinorPageFaults=7842893; detectMeasureAndEstimatePsfEndMajorPageFaults=14; detectMeasureAndEstimatePsfEndBlockInputs=4042816; detectMeasureAndEstimatePsfEndBlockOutputs=2936; detectMeasureAndEstimatePsfEndVoluntaryContextSwitches=126818; detectMeasureAndEstimatePsfEndInvoluntaryContextSwitches=63375</pre>"
      ],
      "text/plain": [
       "<IPython.core.display.HTML object>"
      ]
     },
     "metadata": {},
     "output_type": "display_data"
    },
    {
     "data": {
      "text/html": [
       "<pre style=\"margin: 0.1em;\n",
       "padding-left: 0.25em;\n",
       "border-left-style: solid;\n",
       "font-family: var(--jp-code-font-family);\n",
       "font-size: var(--jp-code-font-size);\n",
       "line-height: var(--jp-code-line-height);\n",
       "\"><span style=\"color: var(--jp-warn-color2)\">lsst.characterizeImage</span> <span style=\"color: var(--jp-info-color0)\">INFO</span>: iter 1; PSF sigma=6.02, dimensions=(41, 41); median background=5.93</pre>"
      ],
      "text/plain": [
       "<IPython.core.display.HTML object>"
      ]
     },
     "metadata": {},
     "output_type": "display_data"
    },
    {
     "data": {
      "text/html": [
       "<pre style=\"margin: 0.1em;\n",
       "padding-left: 0.25em;\n",
       "border-left-style: solid;\n",
       "font-family: var(--jp-code-font-family);\n",
       "font-size: var(--jp-code-font-size);\n",
       "line-height: var(--jp-code-line-height);\n",
       "\"><span style=\"color: var(--jp-warn-color2)\">timer.lsst.characterizeImage.repair</span> <span style=\"color: var(--jp-success-color0)\">DEBUG</span>: runStartCpuTime=159.825087949; runStartUserTime=146.184649; runStartSystemTime=13.640416; runStartMaxResidentSetSize=1131905024; runStartMinorPageFaults=7890615; runStartMajorPageFaults=14; runStartBlockInputs=4042816; runStartBlockOutputs=2936; runStartVoluntaryContextSwitches=126897; runStartInvoluntaryContextSwitches=63377</pre>"
      ],
      "text/plain": [
       "<IPython.core.display.HTML object>"
      ]
     },
     "metadata": {},
     "output_type": "display_data"
    },
    {
     "data": {
      "text/html": [
       "<pre style=\"margin: 0.1em;\n",
       "padding-left: 0.25em;\n",
       "border-left-style: solid;\n",
       "font-family: var(--jp-code-font-family);\n",
       "font-size: var(--jp-code-font-size);\n",
       "line-height: var(--jp-code-line-height);\n",
       "\"><span style=\"color: var(--jp-warn-color2)\">lsst.characterizeImage.repair</span> <span style=\"color: var(--jp-info-color0)\">INFO</span>: Identified 4 cosmic rays.</pre>"
      ],
      "text/plain": [
       "<IPython.core.display.HTML object>"
      ]
     },
     "metadata": {},
     "output_type": "display_data"
    },
    {
     "data": {
      "text/html": [
       "<pre style=\"margin: 0.1em;\n",
       "padding-left: 0.25em;\n",
       "border-left-style: solid;\n",
       "font-family: var(--jp-code-font-family);\n",
       "font-size: var(--jp-code-font-size);\n",
       "line-height: var(--jp-code-line-height);\n",
       "\"><span style=\"color: var(--jp-warn-color2)\">timer.lsst.characterizeImage.repair</span> <span style=\"color: var(--jp-success-color0)\">DEBUG</span>: runEndCpuTime=160.317207578; runEndUserTime=146.64852; runEndSystemTime=13.668664; runEndMaxResidentSetSize=1131905024; runEndMinorPageFaults=7914715; runEndMajorPageFaults=14; runEndBlockInputs=4042816; runEndBlockOutputs=2936; runEndVoluntaryContextSwitches=127037; runEndInvoluntaryContextSwitches=63384</pre>"
      ],
      "text/plain": [
       "<IPython.core.display.HTML object>"
      ]
     },
     "metadata": {},
     "output_type": "display_data"
    },
    {
     "data": {
      "text/html": [
       "<pre style=\"margin: 0.1em;\n",
       "padding-left: 0.25em;\n",
       "border-left-style: solid;\n",
       "font-family: var(--jp-code-font-family);\n",
       "font-size: var(--jp-code-font-size);\n",
       "line-height: var(--jp-code-line-height);\n",
       "\"><span style=\"color: var(--jp-warn-color2)\">timer.lsst.characterizeImage.measurement</span> <span style=\"color: var(--jp-success-color0)\">DEBUG</span>: runStartCpuTime=160.318236782; runStartUserTime=146.649562; runStartSystemTime=13.668668; runStartMaxResidentSetSize=1131905024; runStartMinorPageFaults=7914715; runStartMajorPageFaults=14; runStartBlockInputs=4042816; runStartBlockOutputs=2936; runStartVoluntaryContextSwitches=127057; runStartInvoluntaryContextSwitches=63384</pre>"
      ],
      "text/plain": [
       "<IPython.core.display.HTML object>"
      ]
     },
     "metadata": {},
     "output_type": "display_data"
    },
    {
     "data": {
      "text/html": [
       "<pre style=\"margin: 0.1em;\n",
       "padding-left: 0.25em;\n",
       "border-left-style: solid;\n",
       "font-family: var(--jp-code-font-family);\n",
       "font-size: var(--jp-code-font-size);\n",
       "line-height: var(--jp-code-line-height);\n",
       "\"><span style=\"color: var(--jp-warn-color2)\">lsst.characterizeImage.measurement</span> <span style=\"color: var(--jp-success-color0)\">DEBUG</span>: Mask plane &quot;THISDET&quot;: plane 10, bitmask 1024 = 0x400</pre>"
      ],
      "text/plain": [
       "<IPython.core.display.HTML object>"
      ]
     },
     "metadata": {},
     "output_type": "display_data"
    },
    {
     "data": {
      "text/html": [
       "<pre style=\"margin: 0.1em;\n",
       "padding-left: 0.25em;\n",
       "border-left-style: solid;\n",
       "font-family: var(--jp-code-font-family);\n",
       "font-size: var(--jp-code-font-size);\n",
       "line-height: var(--jp-code-line-height);\n",
       "\"><span style=\"color: var(--jp-warn-color2)\">lsst.characterizeImage.measurement</span> <span style=\"color: var(--jp-success-color0)\">DEBUG</span>: Mask plane &quot;OTHERDET&quot;: plane 11, bitmask 2048 = 0x800</pre>"
      ],
      "text/plain": [
       "<IPython.core.display.HTML object>"
      ]
     },
     "metadata": {},
     "output_type": "display_data"
    },
    {
     "data": {
      "text/html": [
       "<pre style=\"margin: 0.1em;\n",
       "padding-left: 0.25em;\n",
       "border-left-style: solid;\n",
       "font-family: var(--jp-code-font-family);\n",
       "font-size: var(--jp-code-font-size);\n",
       "line-height: var(--jp-code-line-height);\n",
       "\"><span style=\"color: var(--jp-warn-color2)\">lsst.characterizeImage.measurement</span> <span style=\"color: var(--jp-success-color0)\">DEBUG</span>: Measured from image: clipped mean = 0.10335, stdev = 9.33692</pre>"
      ],
      "text/plain": [
       "<IPython.core.display.HTML object>"
      ]
     },
     "metadata": {},
     "output_type": "display_data"
    },
    {
     "data": {
      "text/html": [
       "<pre style=\"margin: 0.1em;\n",
       "padding-left: 0.25em;\n",
       "border-left-style: solid;\n",
       "font-family: var(--jp-code-font-family);\n",
       "font-size: var(--jp-code-font-size);\n",
       "line-height: var(--jp-code-line-height);\n",
       "\"><span style=\"color: var(--jp-warn-color2)\">lsst.characterizeImage.measurement</span> <span style=\"color: var(--jp-success-color0)\">DEBUG</span>: Using noise generator: FixedGaussianNoiseGenerator: mean=0.10335, std=9.33692</pre>"
      ],
      "text/plain": [
       "<IPython.core.display.HTML object>"
      ]
     },
     "metadata": {},
     "output_type": "display_data"
    },
    {
     "data": {
      "text/html": [
       "<pre style=\"margin: 0.1em;\n",
       "padding-left: 0.25em;\n",
       "border-left-style: solid;\n",
       "font-family: var(--jp-code-font-family);\n",
       "font-size: var(--jp-code-font-size);\n",
       "line-height: var(--jp-code-line-height);\n",
       "\"><span style=\"color: var(--jp-warn-color2)\">lsst.characterizeImage.measurement</span> <span style=\"color: var(--jp-info-color0)\">INFO</span>: Measuring 85 sources (85 parents, 0 children) </pre>"
      ],
      "text/plain": [
       "<IPython.core.display.HTML object>"
      ]
     },
     "metadata": {},
     "output_type": "display_data"
    },
    {
     "data": {
      "text/html": [
       "<pre style=\"margin: 0.1em;\n",
       "padding-left: 0.25em;\n",
       "border-left-style: solid;\n",
       "font-family: var(--jp-code-font-family);\n",
       "font-size: var(--jp-code-font-size);\n",
       "line-height: var(--jp-code-line-height);\n",
       "\"><span style=\"color: var(--jp-warn-color2)\">lsst.characterizeImage.measurement.base_SdssCentroid</span> <span style=\"color: var(--jp-success-color0)\">DEBUG</span>: MeasurementError in base_SdssCentroid.measure on record 42: \n",
       "  File &quot;src/SdssCentroid.cc&quot;, line 276, in void lsst::meas::base::{anonymous}::doMeasureCentroidImpl(double*, double*, double*, double*, double*, double*, double*, MaskedImageXy_locatorT, double, bool, lsst::meas::base::FlagHandler) [with MaskedImageXy_locatorT = lsst::afw::image::MaskedImage&lt;float&gt;::MaskedImageLocator&lt;boost::gil::memory_based_2d_locator&lt;boost::gil::memory_based_step_iterator&lt;boost::gil::pixel&lt;float, boost::gil::layout&lt;boost::mp11::mp_list&lt;boost::gil::gray_color_t&gt; &gt; &gt;*&gt; &gt;, boost::gil::memory_based_2d_locator&lt;boost::gil::memory_based_step_iterator&lt;boost::gil::pixel&lt;int, boost::gil::layout&lt;boost::mp11::mp_list&lt;boost::gil::gray_color_t&gt; &gt; &gt;*&gt; &gt;, boost::gil::memory_based_2d_locator&lt;boost::gil::memory_based_step_iterator&lt;boost::gil::pixel&lt;float, boost::gil::layout&lt;boost::mp11::mp_list&lt;boost::gil::gray_color_t&gt; &gt; &gt;*&gt; &gt; &gt;]\n",
       "    Vanishing second derivative: sx, d2x, sy, d2y = 0.335437 0.284088 -1.285222 0.122310 {0}\n",
       "lsst::meas::base::MeasurementError: &#x27;Vanishing second derivative: sx, d2x, sy, d2y = 0.335437 0.284088 -1.285222 0.122310&#x27;\n",
       "</pre>"
      ],
      "text/plain": [
       "<IPython.core.display.HTML object>"
      ]
     },
     "metadata": {},
     "output_type": "display_data"
    },
    {
     "data": {
      "text/html": [
       "<pre style=\"margin: 0.1em;\n",
       "padding-left: 0.25em;\n",
       "border-left-style: solid;\n",
       "font-family: var(--jp-code-font-family);\n",
       "font-size: var(--jp-code-font-size);\n",
       "line-height: var(--jp-code-line-height);\n",
       "\"><span style=\"color: var(--jp-warn-color2)\">timer.lsst.characterizeImage.measurement</span> <span style=\"color: var(--jp-success-color0)\">DEBUG</span>: runEndCpuTime=161.110669323; runEndUserTime=147.414995; runEndSystemTime=13.695651; runEndMaxResidentSetSize=1131905024; runEndMinorPageFaults=7938817; runEndMajorPageFaults=14; runEndBlockInputs=4042816; runEndBlockOutputs=2936; runEndVoluntaryContextSwitches=127342; runEndInvoluntaryContextSwitches=63405</pre>"
      ],
      "text/plain": [
       "<IPython.core.display.HTML object>"
      ]
     },
     "metadata": {},
     "output_type": "display_data"
    },
    {
     "data": {
      "text/html": [
       "<pre style=\"margin: 0.1em;\n",
       "padding-left: 0.25em;\n",
       "border-left-style: solid;\n",
       "font-family: var(--jp-code-font-family);\n",
       "font-size: var(--jp-code-font-size);\n",
       "line-height: var(--jp-code-line-height);\n",
       "\"><span style=\"color: var(--jp-warn-color2)\">timer.lsst.characterizeImage.catalogCalculation</span> <span style=\"color: var(--jp-success-color0)\">DEBUG</span>: runStartCpuTime=161.111945974; runStartUserTime=147.416263; runStartSystemTime=13.695676; runStartMaxResidentSetSize=1131905024; runStartMinorPageFaults=7938817; runStartMajorPageFaults=14; runStartBlockInputs=4042816; runStartBlockOutputs=2936; runStartVoluntaryContextSwitches=127356; runStartInvoluntaryContextSwitches=63405</pre>"
      ],
      "text/plain": [
       "<IPython.core.display.HTML object>"
      ]
     },
     "metadata": {},
     "output_type": "display_data"
    },
    {
     "data": {
      "text/html": [
       "<pre style=\"margin: 0.1em;\n",
       "padding-left: 0.25em;\n",
       "border-left-style: solid;\n",
       "font-family: var(--jp-code-font-family);\n",
       "font-size: var(--jp-code-font-size);\n",
       "line-height: var(--jp-code-line-height);\n",
       "\"><span style=\"color: var(--jp-warn-color2)\">timer.lsst.characterizeImage.catalogCalculation</span> <span style=\"color: var(--jp-success-color0)\">DEBUG</span>: runEndCpuTime=161.114635707; runEndUserTime=147.418952; runEndSystemTime=13.695676; runEndMaxResidentSetSize=1131905024; runEndMinorPageFaults=7938817; runEndMajorPageFaults=14; runEndBlockInputs=4042816; runEndBlockOutputs=2936; runEndVoluntaryContextSwitches=127373; runEndInvoluntaryContextSwitches=63405</pre>"
      ],
      "text/plain": [
       "<IPython.core.display.HTML object>"
      ]
     },
     "metadata": {},
     "output_type": "display_data"
    },
    {
     "data": {
      "text/html": [
       "<pre style=\"margin: 0.1em;\n",
       "padding-left: 0.25em;\n",
       "border-left-style: solid;\n",
       "font-family: var(--jp-code-font-family);\n",
       "font-size: var(--jp-code-font-size);\n",
       "line-height: var(--jp-code-line-height);\n",
       "\"><span style=\"color: var(--jp-warn-color2)\">timer.lsst.characterizeImage</span> <span style=\"color: var(--jp-success-color0)\">DEBUG</span>: runEndCpuTime=161.115578759; runEndUserTime=147.419896; runEndSystemTime=13.695676; runEndMaxResidentSetSize=1131905024; runEndMinorPageFaults=7938817; runEndMajorPageFaults=14; runEndBlockInputs=4042816; runEndBlockOutputs=2936; runEndVoluntaryContextSwitches=127392; runEndInvoluntaryContextSwitches=63405</pre>"
      ],
      "text/plain": [
       "<IPython.core.display.HTML object>"
      ]
     },
     "metadata": {},
     "output_type": "display_data"
    },
    {
     "name": "stdout",
     "output_type": "stream",
     "text": [
      "Psf shape from imChar task (x,y) = (1.337, 1.393) FWHM arcsec\n",
      "{'day_obs': 20220526, 'seq_num': 139, 'detector': 0, 'instrument': 'LATISS'}\n"
     ]
    },
    {
     "data": {
      "text/html": [
       "<pre style=\"margin: 0.1em;\n",
       "padding-left: 0.25em;\n",
       "border-left-style: solid;\n",
       "font-family: var(--jp-code-font-family);\n",
       "font-size: var(--jp-code-font-size);\n",
       "line-height: var(--jp-code-line-height);\n",
       "\"><span style=\"color: var(--jp-warn-color2)\">lsst.daf.butler._butler</span> <span style=\"color: var(--jp-success-color0)\">DEBUG</span>: Butler get: quickLookExp, dataId={&#x27;day_obs&#x27;: 20220526, &#x27;seq_num&#x27;: 139, &#x27;detector&#x27;: 0, &#x27;instrument&#x27;: &#x27;LATISS&#x27;}, parameters=None</pre>"
      ],
      "text/plain": [
       "<IPython.core.display.HTML object>"
      ]
     },
     "metadata": {},
     "output_type": "display_data"
    },
    {
     "data": {
      "text/html": [
       "<pre style=\"margin: 0.1em;\n",
       "padding-left: 0.25em;\n",
       "border-left-style: solid;\n",
       "font-family: var(--jp-code-font-family);\n",
       "font-size: var(--jp-code-font-size);\n",
       "line-height: var(--jp-code-line-height);\n",
       "\"><span style=\"color: var(--jp-warn-color2)\">lsst.daf.butler._butler</span> <span style=\"color: var(--jp-success-color0)\">DEBUG</span>: Assigned non-dimension dataId keys to dimension exposure: {&#x27;day_obs&#x27;: 20220526, &#x27;seq_num&#x27;: 139}</pre>"
      ],
      "text/plain": [
       "<IPython.core.display.HTML object>"
      ]
     },
     "metadata": {},
     "output_type": "display_data"
    },
    {
     "data": {
      "text/html": [
       "<pre style=\"margin: 0.1em;\n",
       "padding-left: 0.25em;\n",
       "border-left-style: solid;\n",
       "font-family: var(--jp-code-font-family);\n",
       "font-size: var(--jp-code-font-size);\n",
       "line-height: var(--jp-code-line-height);\n",
       "\"><span style=\"color: var(--jp-warn-color2)\">lsst.daf.butler.datastores.fileDatastore</span> <span style=\"color: var(--jp-success-color0)\">DEBUG</span>: Retrieve quickLookExp@{instrument: &#x27;LATISS&#x27;, detector: 0, exposure: 2022052600139}, sc=ExposureF] (id=a72e7c30-f5e8-4794-870f-0121f9f78dc4) from FileDatastore@&lt;butlerRoot&gt; with parameters None</pre>"
      ],
      "text/plain": [
       "<IPython.core.display.HTML object>"
      ]
     },
     "metadata": {},
     "output_type": "display_data"
    },
    {
     "data": {
      "text/html": [
       "<pre style=\"margin: 0.1em;\n",
       "padding-left: 0.25em;\n",
       "border-left-style: solid;\n",
       "font-family: var(--jp-code-font-family);\n",
       "font-size: var(--jp-code-font-size);\n",
       "line-height: var(--jp-code-line-height);\n",
       "\"><span style=\"color: var(--jp-warn-color2)\">lsst.daf.butler.datastores.fileDatastore</span> <span style=\"color: var(--jp-success-color0)\">DEBUG</span>: Accessing data from file:///repo/LATISS/LATISS/runs/quickLook/1/quickLookExp/20220526/AT_O_20220526_000139/quickLookExp_LATISS_SDSSr~empty_AT_O_20220526_000139_RXX_S00_LATISS_runs_quickLook_1.fits</pre>"
      ],
      "text/plain": [
       "<IPython.core.display.HTML object>"
      ]
     },
     "metadata": {},
     "output_type": "display_data"
    },
    {
     "data": {
      "text/html": [
       "<pre style=\"margin: 0.1em;\n",
       "padding-left: 0.25em;\n",
       "border-left-style: solid;\n",
       "font-family: var(--jp-code-font-family);\n",
       "font-size: var(--jp-code-font-size);\n",
       "line-height: var(--jp-code-line-height);\n",
       "\"><span style=\"color: var(--jp-warn-color2)\">lsst.daf.butler.datastores.fileDatastore</span> <span style=\"color: var(--jp-success-color0)\">DEBUG</span>: Reading from location file:///repo/LATISS/LATISS/runs/quickLook/1/quickLookExp/20220526/AT_O_20220526_000139/quickLookExp_LATISS_SDSSr~empty_AT_O_20220526_000139_RXX_S00_LATISS_runs_quickLook_1.fits  with formatter lsst.obs.base.formatters.fitsExposure.FitsExposureFormatter</pre>"
      ],
      "text/plain": [
       "<IPython.core.display.HTML object>"
      ]
     },
     "metadata": {},
     "output_type": "display_data"
    },
    {
     "data": {
      "text/html": [
       "<pre style=\"margin: 0.1em;\n",
       "padding-left: 0.25em;\n",
       "border-left-style: solid;\n",
       "font-family: var(--jp-code-font-family);\n",
       "font-size: var(--jp-code-font-size);\n",
       "line-height: var(--jp-code-line-height);\n",
       "\"><span style=\"color: var(--jp-warn-color2)\">timer.lsst.daf.butler.datastores.fileDatastore</span> <span style=\"color: var(--jp-success-color0)\">DEBUG</span>: Reading from location file:///repo/LATISS/LATISS/runs/quickLook/1/quickLookExp/20220526/AT_O_20220526_000139/quickLookExp_LATISS_SDSSr~empty_AT_O_20220526_000139_RXX_S00_LATISS_runs_quickLook_1.fits  with formatter lsst.obs.base.formatters.fitsExposure.FitsExposureFormatter: Took 0.9540 seconds</pre>"
      ],
      "text/plain": [
       "<IPython.core.display.HTML object>"
      ]
     },
     "metadata": {},
     "output_type": "display_data"
    },
    {
     "data": {
      "text/html": [
       "<pre style=\"margin: 0.1em;\n",
       "padding-left: 0.25em;\n",
       "border-left-style: solid;\n",
       "font-family: var(--jp-code-font-family);\n",
       "font-size: var(--jp-code-font-size);\n",
       "line-height: var(--jp-code-line-height);\n",
       "\"><span style=\"color: var(--jp-warn-color2)\">lsst.summit.utils.bestEffort</span> <span style=\"color: var(--jp-info-color0)\">INFO</span>: Found a ready-made quickLookExp in the repo. Returning that.</pre>"
      ],
      "text/plain": [
       "<IPython.core.display.HTML object>"
      ]
     },
     "metadata": {},
     "output_type": "display_data"
    },
    {
     "data": {
      "text/html": [
       "<pre style=\"margin: 0.1em;\n",
       "padding-left: 0.25em;\n",
       "border-left-style: solid;\n",
       "font-family: var(--jp-code-font-family);\n",
       "font-size: var(--jp-code-font-size);\n",
       "line-height: var(--jp-code-line-height);\n",
       "\"><span style=\"color: var(--jp-warn-color2)\">timer.lsst.characterizeImage</span> <span style=\"color: var(--jp-success-color0)\">DEBUG</span>: runStartCpuTime=162.098833629; runStartUserTime=148.31746; runStartSystemTime=13.781347; runStartMaxResidentSetSize=1131905024; runStartMinorPageFaults=7986888; runStartMajorPageFaults=14; runStartBlockInputs=4300944; runStartBlockOutputs=2936; runStartVoluntaryContextSwitches=129151; runStartInvoluntaryContextSwitches=63424</pre>"
      ],
      "text/plain": [
       "<IPython.core.display.HTML object>"
      ]
     },
     "metadata": {},
     "output_type": "display_data"
    },
    {
     "data": {
      "text/html": [
       "<pre style=\"margin: 0.1em;\n",
       "padding-left: 0.25em;\n",
       "border-left-style: solid;\n",
       "font-family: var(--jp-code-font-family);\n",
       "font-size: var(--jp-code-font-size);\n",
       "line-height: var(--jp-code-line-height);\n",
       "\"><span style=\"color: var(--jp-warn-color2)\">lsst.characterizeImage.background</span> <span style=\"color: var(--jp-success-color0)\">DEBUG</span>: Ignoring mask planes: BAD, EDGE, DETECTED, DETECTED_NEGATIVE, NO_DATA</pre>"
      ],
      "text/plain": [
       "<IPython.core.display.HTML object>"
      ]
     },
     "metadata": {},
     "output_type": "display_data"
    },
    {
     "data": {
      "text/html": [
       "<pre style=\"margin: 0.1em;\n",
       "padding-left: 0.25em;\n",
       "border-left-style: solid;\n",
       "font-family: var(--jp-code-font-family);\n",
       "font-size: var(--jp-code-font-size);\n",
       "line-height: var(--jp-code-line-height);\n",
       "\"><span style=\"color: var(--jp-warn-color2)\">timer.lsst.characterizeImage</span> <span style=\"color: var(--jp-success-color0)\">DEBUG</span>: detectMeasureAndEstimatePsfStartCpuTime=162.779836278; detectMeasureAndEstimatePsfStartUserTime=148.945385; detectMeasureAndEstimatePsfStartSystemTime=13.834426; detectMeasureAndEstimatePsfStartMaxResidentSetSize=1131905024; detectMeasureAndEstimatePsfStartMinorPageFaults=8034615; detectMeasureAndEstimatePsfStartMajorPageFaults=14; detectMeasureAndEstimatePsfStartBlockInputs=4300944; detectMeasureAndEstimatePsfStartBlockOutputs=2936; detectMeasureAndEstimatePsfStartVoluntaryContextSwitches=129191; detectMeasureAndEstimatePsfStartInvoluntaryContextSwitches=63425</pre>"
      ],
      "text/plain": [
       "<IPython.core.display.HTML object>"
      ]
     },
     "metadata": {},
     "output_type": "display_data"
    },
    {
     "data": {
      "text/html": [
       "<pre style=\"margin: 0.1em;\n",
       "padding-left: 0.25em;\n",
       "border-left-style: solid;\n",
       "font-family: var(--jp-code-font-family);\n",
       "font-size: var(--jp-code-font-size);\n",
       "line-height: var(--jp-code-line-height);\n",
       "\"><span style=\"color: var(--jp-warn-color2)\">lsst.characterizeImage</span> <span style=\"color: var(--jp-info-color0)\">INFO</span>: PSF estimation initialized with &#x27;simple&#x27; PSF</pre>"
      ],
      "text/plain": [
       "<IPython.core.display.HTML object>"
      ]
     },
     "metadata": {},
     "output_type": "display_data"
    },
    {
     "data": {
      "text/html": [
       "<pre style=\"margin: 0.1em;\n",
       "padding-left: 0.25em;\n",
       "border-left-style: solid;\n",
       "font-family: var(--jp-code-font-family);\n",
       "font-size: var(--jp-code-font-size);\n",
       "line-height: var(--jp-code-line-height);\n",
       "\"><span style=\"color: var(--jp-warn-color2)\">lsst.characterizeImage.installSimplePsf</span> <span style=\"color: var(--jp-success-color0)\">DEBUG</span>: installing a simple Gaussian PSF model with width=61, height=61, FWHM=15.000</pre>"
      ],
      "text/plain": [
       "<IPython.core.display.HTML object>"
      ]
     },
     "metadata": {},
     "output_type": "display_data"
    },
    {
     "data": {
      "text/html": [
       "<pre style=\"margin: 0.1em;\n",
       "padding-left: 0.25em;\n",
       "border-left-style: solid;\n",
       "font-family: var(--jp-code-font-family);\n",
       "font-size: var(--jp-code-font-size);\n",
       "line-height: var(--jp-code-line-height);\n",
       "\"><span style=\"color: var(--jp-warn-color2)\">timer.lsst.characterizeImage.repair</span> <span style=\"color: var(--jp-success-color0)\">DEBUG</span>: runStartCpuTime=162.782742045; runStartUserTime=148.94831; runStartSystemTime=13.834426; runStartMaxResidentSetSize=1131905024; runStartMinorPageFaults=8034619; runStartMajorPageFaults=14; runStartBlockInputs=4300944; runStartBlockOutputs=2936; runStartVoluntaryContextSwitches=129249; runStartInvoluntaryContextSwitches=63425</pre>"
      ],
      "text/plain": [
       "<IPython.core.display.HTML object>"
      ]
     },
     "metadata": {},
     "output_type": "display_data"
    },
    {
     "data": {
      "text/html": [
       "<pre style=\"margin: 0.1em;\n",
       "padding-left: 0.25em;\n",
       "border-left-style: solid;\n",
       "font-family: var(--jp-code-font-family);\n",
       "font-size: var(--jp-code-font-size);\n",
       "line-height: var(--jp-code-line-height);\n",
       "\"><span style=\"color: var(--jp-warn-color2)\">lsst.characterizeImage.repair</span> <span style=\"color: var(--jp-info-color0)\">INFO</span>: Identified 6 cosmic rays.</pre>"
      ],
      "text/plain": [
       "<IPython.core.display.HTML object>"
      ]
     },
     "metadata": {},
     "output_type": "display_data"
    },
    {
     "data": {
      "text/html": [
       "<pre style=\"margin: 0.1em;\n",
       "padding-left: 0.25em;\n",
       "border-left-style: solid;\n",
       "font-family: var(--jp-code-font-family);\n",
       "font-size: var(--jp-code-font-size);\n",
       "line-height: var(--jp-code-line-height);\n",
       "\"><span style=\"color: var(--jp-warn-color2)\">timer.lsst.characterizeImage.repair</span> <span style=\"color: var(--jp-success-color0)\">DEBUG</span>: runEndCpuTime=163.293257422; runEndUserTime=149.429707; runEndSystemTime=13.863528; runEndMaxResidentSetSize=1131905024; runEndMinorPageFaults=8058722; runEndMajorPageFaults=14; runEndBlockInputs=4300944; runEndBlockOutputs=2936; runEndVoluntaryContextSwitches=129398; runEndInvoluntaryContextSwitches=63427</pre>"
      ],
      "text/plain": [
       "<IPython.core.display.HTML object>"
      ]
     },
     "metadata": {},
     "output_type": "display_data"
    },
    {
     "data": {
      "text/html": [
       "<pre style=\"margin: 0.1em;\n",
       "padding-left: 0.25em;\n",
       "border-left-style: solid;\n",
       "font-family: var(--jp-code-font-family);\n",
       "font-size: var(--jp-code-font-size);\n",
       "line-height: var(--jp-code-line-height);\n",
       "\"><span style=\"color: var(--jp-warn-color2)\">timer.lsst.characterizeImage.detection</span> <span style=\"color: var(--jp-success-color0)\">DEBUG</span>: runStartCpuTime=163.294472992; runStartUserTime=149.430939; runStartSystemTime=13.863528; runStartMaxResidentSetSize=1131905024; runStartMinorPageFaults=8058729; runStartMajorPageFaults=14; runStartBlockInputs=4300944; runStartBlockOutputs=2936; runStartVoluntaryContextSwitches=129422; runStartInvoluntaryContextSwitches=63427</pre>"
      ],
      "text/plain": [
       "<IPython.core.display.HTML object>"
      ]
     },
     "metadata": {},
     "output_type": "display_data"
    },
    {
     "data": {
      "text/html": [
       "<pre style=\"margin: 0.1em;\n",
       "padding-left: 0.25em;\n",
       "border-left-style: solid;\n",
       "font-family: var(--jp-code-font-family);\n",
       "font-size: var(--jp-code-font-size);\n",
       "line-height: var(--jp-code-line-height);\n",
       "\"><span style=\"color: var(--jp-warn-color2)\">timer.lsst.characterizeImage.detection</span> <span style=\"color: var(--jp-success-color0)\">DEBUG</span>: detectFootprintsStartCpuTime=163.29535485; detectFootprintsStartUserTime=149.431812; detectFootprintsStartSystemTime=13.863537; detectFootprintsStartMaxResidentSetSize=1131905024; detectFootprintsStartMinorPageFaults=8058731; detectFootprintsStartMajorPageFaults=14; detectFootprintsStartBlockInputs=4300944; detectFootprintsStartBlockOutputs=2936; detectFootprintsStartVoluntaryContextSwitches=129446; detectFootprintsStartInvoluntaryContextSwitches=63427</pre>"
      ],
      "text/plain": [
       "<IPython.core.display.HTML object>"
      ]
     },
     "metadata": {},
     "output_type": "display_data"
    },
    {
     "data": {
      "text/html": [
       "<pre style=\"margin: 0.1em;\n",
       "padding-left: 0.25em;\n",
       "border-left-style: solid;\n",
       "font-family: var(--jp-code-font-family);\n",
       "font-size: var(--jp-code-font-size);\n",
       "line-height: var(--jp-code-line-height);\n",
       "\"><span style=\"color: var(--jp-warn-color2)\">lsst.characterizeImage.detection</span> <span style=\"color: var(--jp-success-color0)\">DEBUG</span>: Detection threshold: VALUE value=3.1404323 (positive) multiplier=5</pre>"
      ],
      "text/plain": [
       "<IPython.core.display.HTML object>"
      ]
     },
     "metadata": {},
     "output_type": "display_data"
    },
    {
     "data": {
      "text/html": [
       "<pre style=\"margin: 0.1em;\n",
       "padding-left: 0.25em;\n",
       "border-left-style: solid;\n",
       "font-family: var(--jp-code-font-family);\n",
       "font-size: var(--jp-code-font-size);\n",
       "line-height: var(--jp-code-line-height);\n",
       "\"><span style=\"color: var(--jp-warn-color2)\">lsst.characterizeImage.detection</span> <span style=\"color: var(--jp-success-color0)\">DEBUG</span>: Detection threshold: VALUE value=3.1404323 (negative) multiplier=5</pre>"
      ],
      "text/plain": [
       "<IPython.core.display.HTML object>"
      ]
     },
     "metadata": {},
     "output_type": "display_data"
    },
    {
     "data": {
      "text/html": [
       "<pre style=\"margin: 0.1em;\n",
       "padding-left: 0.25em;\n",
       "border-left-style: solid;\n",
       "font-family: var(--jp-code-font-family);\n",
       "font-size: var(--jp-code-font-size);\n",
       "line-height: var(--jp-code-line-height);\n",
       "\"><span style=\"color: var(--jp-warn-color2)\">lsst.characterizeImage.detection</span> <span style=\"color: var(--jp-info-color0)\">INFO</span>: Detected 106 positive peaks in 88 footprints and 4 negative peaks in 4 footprints to 25 sigma</pre>"
      ],
      "text/plain": [
       "<IPython.core.display.HTML object>"
      ]
     },
     "metadata": {},
     "output_type": "display_data"
    },
    {
     "data": {
      "text/html": [
       "<pre style=\"margin: 0.1em;\n",
       "padding-left: 0.25em;\n",
       "border-left-style: solid;\n",
       "font-family: var(--jp-code-font-family);\n",
       "font-size: var(--jp-code-font-size);\n",
       "line-height: var(--jp-code-line-height);\n",
       "\"><span style=\"color: var(--jp-warn-color2)\">lsst.characterizeImage.detection.background</span> <span style=\"color: var(--jp-success-color0)\">DEBUG</span>: Ignoring mask planes: BAD, EDGE, DETECTED, DETECTED_NEGATIVE, NO_DATA</pre>"
      ],
      "text/plain": [
       "<IPython.core.display.HTML object>"
      ]
     },
     "metadata": {},
     "output_type": "display_data"
    },
    {
     "data": {
      "text/html": [
       "<pre style=\"margin: 0.1em;\n",
       "padding-left: 0.25em;\n",
       "border-left-style: solid;\n",
       "font-family: var(--jp-code-font-family);\n",
       "font-size: var(--jp-code-font-size);\n",
       "line-height: var(--jp-code-line-height);\n",
       "\"><span style=\"color: var(--jp-warn-color2)\">lsst.characterizeImage.detection</span> <span style=\"color: var(--jp-info-color0)\">INFO</span>: Resubtracting the background after object detection</pre>"
      ],
      "text/plain": [
       "<IPython.core.display.HTML object>"
      ]
     },
     "metadata": {},
     "output_type": "display_data"
    },
    {
     "data": {
      "text/html": [
       "<pre style=\"margin: 0.1em;\n",
       "padding-left: 0.25em;\n",
       "border-left-style: solid;\n",
       "font-family: var(--jp-code-font-family);\n",
       "font-size: var(--jp-code-font-size);\n",
       "line-height: var(--jp-code-line-height);\n",
       "\"><span style=\"color: var(--jp-warn-color2)\">timer.lsst.characterizeImage.detection</span> <span style=\"color: var(--jp-success-color0)\">DEBUG</span>: detectFootprintsEndCpuTime=166.716931541; detectFootprintsEndUserTime=152.653698; detectFootprintsEndSystemTime=14.063212; detectFootprintsEndMaxResidentSetSize=1133412352; detectFootprintsEndMinorPageFaults=8248892; detectFootprintsEndMajorPageFaults=14; detectFootprintsEndBlockInputs=4300944; detectFootprintsEndBlockOutputs=2936; detectFootprintsEndVoluntaryContextSwitches=130212; detectFootprintsEndInvoluntaryContextSwitches=63453</pre>"
      ],
      "text/plain": [
       "<IPython.core.display.HTML object>"
      ]
     },
     "metadata": {},
     "output_type": "display_data"
    },
    {
     "data": {
      "text/html": [
       "<pre style=\"margin: 0.1em;\n",
       "padding-left: 0.25em;\n",
       "border-left-style: solid;\n",
       "font-family: var(--jp-code-font-family);\n",
       "font-size: var(--jp-code-font-size);\n",
       "line-height: var(--jp-code-line-height);\n",
       "\"><span style=\"color: var(--jp-warn-color2)\">timer.lsst.characterizeImage.detection</span> <span style=\"color: var(--jp-success-color0)\">DEBUG</span>: runEndCpuTime=166.718216822; runEndUserTime=152.654056; runEndSystemTime=14.064154; runEndMaxResidentSetSize=1133412352; runEndMinorPageFaults=8248893; runEndMajorPageFaults=14; runEndBlockInputs=4300944; runEndBlockOutputs=2936; runEndVoluntaryContextSwitches=130227; runEndInvoluntaryContextSwitches=63458</pre>"
      ],
      "text/plain": [
       "<IPython.core.display.HTML object>"
      ]
     },
     "metadata": {},
     "output_type": "display_data"
    },
    {
     "data": {
      "text/html": [
       "<pre style=\"margin: 0.1em;\n",
       "padding-left: 0.25em;\n",
       "border-left-style: solid;\n",
       "font-family: var(--jp-code-font-family);\n",
       "font-size: var(--jp-code-font-size);\n",
       "line-height: var(--jp-code-line-height);\n",
       "\"><span style=\"color: var(--jp-warn-color2)\">timer.lsst.characterizeImage.measurement</span> <span style=\"color: var(--jp-success-color0)\">DEBUG</span>: runStartCpuTime=166.719134302; runStartUserTime=152.654974; runStartSystemTime=14.064154; runStartMaxResidentSetSize=1133412352; runStartMinorPageFaults=8248894; runStartMajorPageFaults=14; runStartBlockInputs=4300944; runStartBlockOutputs=2936; runStartVoluntaryContextSwitches=130246; runStartInvoluntaryContextSwitches=63461</pre>"
      ],
      "text/plain": [
       "<IPython.core.display.HTML object>"
      ]
     },
     "metadata": {},
     "output_type": "display_data"
    },
    {
     "data": {
      "text/html": [
       "<pre style=\"margin: 0.1em;\n",
       "padding-left: 0.25em;\n",
       "border-left-style: solid;\n",
       "font-family: var(--jp-code-font-family);\n",
       "font-size: var(--jp-code-font-size);\n",
       "line-height: var(--jp-code-line-height);\n",
       "\"><span style=\"color: var(--jp-warn-color2)\">lsst.characterizeImage.measurement</span> <span style=\"color: var(--jp-success-color0)\">DEBUG</span>: Mask plane &quot;THISDET&quot;: plane 10, bitmask 1024 = 0x400</pre>"
      ],
      "text/plain": [
       "<IPython.core.display.HTML object>"
      ]
     },
     "metadata": {},
     "output_type": "display_data"
    },
    {
     "data": {
      "text/html": [
       "<pre style=\"margin: 0.1em;\n",
       "padding-left: 0.25em;\n",
       "border-left-style: solid;\n",
       "font-family: var(--jp-code-font-family);\n",
       "font-size: var(--jp-code-font-size);\n",
       "line-height: var(--jp-code-line-height);\n",
       "\"><span style=\"color: var(--jp-warn-color2)\">lsst.characterizeImage.measurement</span> <span style=\"color: var(--jp-success-color0)\">DEBUG</span>: Mask plane &quot;OTHERDET&quot;: plane 11, bitmask 2048 = 0x800</pre>"
      ],
      "text/plain": [
       "<IPython.core.display.HTML object>"
      ]
     },
     "metadata": {},
     "output_type": "display_data"
    },
    {
     "data": {
      "text/html": [
       "<pre style=\"margin: 0.1em;\n",
       "padding-left: 0.25em;\n",
       "border-left-style: solid;\n",
       "font-family: var(--jp-code-font-family);\n",
       "font-size: var(--jp-code-font-size);\n",
       "line-height: var(--jp-code-line-height);\n",
       "\"><span style=\"color: var(--jp-warn-color2)\">lsst.characterizeImage.measurement</span> <span style=\"color: var(--jp-success-color0)\">DEBUG</span>: Measured from image: clipped mean = 0.101321, stdev = 9.33528</pre>"
      ],
      "text/plain": [
       "<IPython.core.display.HTML object>"
      ]
     },
     "metadata": {},
     "output_type": "display_data"
    },
    {
     "data": {
      "text/html": [
       "<pre style=\"margin: 0.1em;\n",
       "padding-left: 0.25em;\n",
       "border-left-style: solid;\n",
       "font-family: var(--jp-code-font-family);\n",
       "font-size: var(--jp-code-font-size);\n",
       "line-height: var(--jp-code-line-height);\n",
       "\"><span style=\"color: var(--jp-warn-color2)\">lsst.characterizeImage.measurement</span> <span style=\"color: var(--jp-success-color0)\">DEBUG</span>: Using noise generator: FixedGaussianNoiseGenerator: mean=0.101321, std=9.33528</pre>"
      ],
      "text/plain": [
       "<IPython.core.display.HTML object>"
      ]
     },
     "metadata": {},
     "output_type": "display_data"
    },
    {
     "data": {
      "text/html": [
       "<pre style=\"margin: 0.1em;\n",
       "padding-left: 0.25em;\n",
       "border-left-style: solid;\n",
       "font-family: var(--jp-code-font-family);\n",
       "font-size: var(--jp-code-font-size);\n",
       "line-height: var(--jp-code-line-height);\n",
       "\"><span style=\"color: var(--jp-warn-color2)\">lsst.characterizeImage.measurement</span> <span style=\"color: var(--jp-info-color0)\">INFO</span>: Measuring 88 sources (88 parents, 0 children) </pre>"
      ],
      "text/plain": [
       "<IPython.core.display.HTML object>"
      ]
     },
     "metadata": {},
     "output_type": "display_data"
    },
    {
     "data": {
      "text/html": [
       "<pre style=\"margin: 0.1em;\n",
       "padding-left: 0.25em;\n",
       "border-left-style: solid;\n",
       "font-family: var(--jp-code-font-family);\n",
       "font-size: var(--jp-code-font-size);\n",
       "line-height: var(--jp-code-line-height);\n",
       "\"><span style=\"color: var(--jp-warn-color2)\">lsst.characterizeImage.measurement.base_GaussianFlux</span> <span style=\"color: var(--jp-success-color0)\">DEBUG</span>: MeasurementError in base_GaussianFlux.measure on record 61: \n",
       "  File &quot;src/InputUtilities.cc&quot;, line 179, in lsst::afw::geom::ellipses::Quadrupole lsst::meas::base::SafeShapeExtractor::operator()(lsst::afw::table::SourceRecord&amp;, const lsst::meas::base::FlagHandler&amp;) const\n",
       "    base_GaussianFlux: Shape needed, and Shape slot measurement failed. {0}\n",
       "lsst::meas::base::MeasurementError: &#x27;base_GaussianFlux: Shape needed, and Shape slot measurement failed.&#x27;\n",
       "</pre>"
      ],
      "text/plain": [
       "<IPython.core.display.HTML object>"
      ]
     },
     "metadata": {},
     "output_type": "display_data"
    },
    {
     "data": {
      "text/html": [
       "<pre style=\"margin: 0.1em;\n",
       "padding-left: 0.25em;\n",
       "border-left-style: solid;\n",
       "font-family: var(--jp-code-font-family);\n",
       "font-size: var(--jp-code-font-size);\n",
       "line-height: var(--jp-code-line-height);\n",
       "\"><span style=\"color: var(--jp-warn-color2)\">lsst.characterizeImage.measurement.base_GaussianFlux</span> <span style=\"color: var(--jp-success-color0)\">DEBUG</span>: MeasurementError in base_GaussianFlux.measure on record 87: \n",
       "  File &quot;src/InputUtilities.cc&quot;, line 179, in lsst::afw::geom::ellipses::Quadrupole lsst::meas::base::SafeShapeExtractor::operator()(lsst::afw::table::SourceRecord&amp;, const lsst::meas::base::FlagHandler&amp;) const\n",
       "    base_GaussianFlux: Shape needed, and Shape slot measurement failed. {0}\n",
       "lsst::meas::base::MeasurementError: &#x27;base_GaussianFlux: Shape needed, and Shape slot measurement failed.&#x27;\n",
       "</pre>"
      ],
      "text/plain": [
       "<IPython.core.display.HTML object>"
      ]
     },
     "metadata": {},
     "output_type": "display_data"
    },
    {
     "data": {
      "text/html": [
       "<pre style=\"margin: 0.1em;\n",
       "padding-left: 0.25em;\n",
       "border-left-style: solid;\n",
       "font-family: var(--jp-code-font-family);\n",
       "font-size: var(--jp-code-font-size);\n",
       "line-height: var(--jp-code-line-height);\n",
       "\"><span style=\"color: var(--jp-warn-color2)\">lsst.characterizeImage.measurement.base_SdssCentroid</span> <span style=\"color: var(--jp-success-color0)\">DEBUG</span>: MeasurementError in base_SdssCentroid.measure on record 88: \n",
       "  File &quot;src/SdssCentroid.cc&quot;, line 384, in std::pair&lt;MaskedImageT, double&gt; lsst::meas::base::{anonymous}::smoothAndBinImage(std::shared_ptr&lt;const lsst::afw::detection::Psf&gt;, int, int, const MaskedImageT&amp;, int, int, lsst::meas::base::FlagHandler) [with MaskedImageT = lsst::afw::image::MaskedImage&lt;float&gt;]\n",
       "    Object too close to edge {0}\n",
       "lsst::meas::base::MeasurementError: &#x27;Object too close to edge&#x27;\n",
       "</pre>"
      ],
      "text/plain": [
       "<IPython.core.display.HTML object>"
      ]
     },
     "metadata": {},
     "output_type": "display_data"
    },
    {
     "data": {
      "text/html": [
       "<pre style=\"margin: 0.1em;\n",
       "padding-left: 0.25em;\n",
       "border-left-style: solid;\n",
       "font-family: var(--jp-code-font-family);\n",
       "font-size: var(--jp-code-font-size);\n",
       "line-height: var(--jp-code-line-height);\n",
       "\"><span style=\"color: var(--jp-warn-color2)\">timer.lsst.characterizeImage.measurement</span> <span style=\"color: var(--jp-success-color0)\">DEBUG</span>: runEndCpuTime=167.413188016; runEndUserTime=153.319136; runEndSystemTime=14.09403; runEndMaxResidentSetSize=1133412352; runEndMinorPageFaults=8272999; runEndMajorPageFaults=14; runEndBlockInputs=4300944; runEndBlockOutputs=2936; runEndVoluntaryContextSwitches=130600; runEndInvoluntaryContextSwitches=63682</pre>"
      ],
      "text/plain": [
       "<IPython.core.display.HTML object>"
      ]
     },
     "metadata": {},
     "output_type": "display_data"
    },
    {
     "data": {
      "text/html": [
       "<pre style=\"margin: 0.1em;\n",
       "padding-left: 0.25em;\n",
       "border-left-style: solid;\n",
       "font-family: var(--jp-code-font-family);\n",
       "font-size: var(--jp-code-font-size);\n",
       "line-height: var(--jp-code-line-height);\n",
       "\"><span style=\"color: var(--jp-warn-color2)\">timer.lsst.characterizeImage.measurePsf</span> <span style=\"color: var(--jp-success-color0)\">DEBUG</span>: runStartCpuTime=167.414374517; runStartUserTime=153.320322; runStartSystemTime=14.094047; runStartMaxResidentSetSize=1133412352; runStartMinorPageFaults=8272999; runStartMajorPageFaults=14; runStartBlockInputs=4300944; runStartBlockOutputs=2936; runStartVoluntaryContextSwitches=130620; runStartInvoluntaryContextSwitches=63682</pre>"
      ],
      "text/plain": [
       "<IPython.core.display.HTML object>"
      ]
     },
     "metadata": {},
     "output_type": "display_data"
    },
    {
     "data": {
      "text/html": [
       "<pre style=\"margin: 0.1em;\n",
       "padding-left: 0.25em;\n",
       "border-left-style: solid;\n",
       "font-family: var(--jp-code-font-family);\n",
       "font-size: var(--jp-code-font-size);\n",
       "line-height: var(--jp-code-line-height);\n",
       "\"><span style=\"color: var(--jp-warn-color2)\">lsst.characterizeImage.measurePsf</span> <span style=\"color: var(--jp-info-color0)\">INFO</span>: Measuring PSF</pre>"
      ],
      "text/plain": [
       "<IPython.core.display.HTML object>"
      ]
     },
     "metadata": {},
     "output_type": "display_data"
    },
    {
     "data": {
      "text/html": [
       "<pre style=\"margin: 0.1em;\n",
       "padding-left: 0.25em;\n",
       "border-left-style: solid;\n",
       "font-family: var(--jp-code-font-family);\n",
       "font-size: var(--jp-code-font-size);\n",
       "line-height: var(--jp-code-line-height);\n",
       "\"><span style=\"color: var(--jp-warn-color2)\">lsst.characterizeImage.measurePsf</span> <span style=\"color: var(--jp-info-color0)\">INFO</span>: PSF star selector found 47 candidates</pre>"
      ],
      "text/plain": [
       "<IPython.core.display.HTML object>"
      ]
     },
     "metadata": {},
     "output_type": "display_data"
    },
    {
     "data": {
      "text/html": [
       "<pre style=\"margin: 0.1em;\n",
       "padding-left: 0.25em;\n",
       "border-left-style: solid;\n",
       "font-family: var(--jp-code-font-family);\n",
       "font-size: var(--jp-code-font-size);\n",
       "line-height: var(--jp-code-line-height);\n",
       "\"><span style=\"color: var(--jp-warn-color2)\">lsst.characterizeImage.measurePsf.reserve</span> <span style=\"color: var(--jp-info-color0)\">INFO</span>: Reserved 0/47 sources</pre>"
      ],
      "text/plain": [
       "<IPython.core.display.HTML object>"
      ]
     },
     "metadata": {},
     "output_type": "display_data"
    },
    {
     "data": {
      "text/html": [
       "<pre style=\"margin: 0.1em;\n",
       "padding-left: 0.25em;\n",
       "border-left-style: solid;\n",
       "font-family: var(--jp-code-font-family);\n",
       "font-size: var(--jp-code-font-size);\n",
       "line-height: var(--jp-code-line-height);\n",
       "\"><span style=\"color: var(--jp-warn-color2)\">lsst.characterizeImage.measurePsf</span> <span style=\"color: var(--jp-info-color0)\">INFO</span>: Sending 47 candidates to PSF determiner</pre>"
      ],
      "text/plain": [
       "<IPython.core.display.HTML object>"
      ]
     },
     "metadata": {},
     "output_type": "display_data"
    },
    {
     "data": {
      "text/html": [
       "<pre style=\"margin: 0.1em;\n",
       "padding-left: 0.25em;\n",
       "border-left-style: solid;\n",
       "font-family: var(--jp-code-font-family);\n",
       "font-size: var(--jp-code-font-size);\n",
       "line-height: var(--jp-code-line-height);\n",
       "\"><span style=\"color: var(--jp-warn-color2)\">lsst.characterizeImage.measurePsf.psfDeterminer</span> <span style=\"color: var(--jp-warn-color0)\">WARNING</span>: NOT scaling kernelSize by stellar quadrupole moment, but using absolute value</pre>"
      ],
      "text/plain": [
       "<IPython.core.display.HTML object>"
      ]
     },
     "metadata": {},
     "output_type": "display_data"
    },
    {
     "data": {
      "text/html": [
       "<pre style=\"margin: 0.1em;\n",
       "padding-left: 0.25em;\n",
       "border-left-style: solid;\n",
       "font-family: var(--jp-code-font-family);\n",
       "font-size: var(--jp-code-font-size);\n",
       "line-height: var(--jp-code-line-height);\n",
       "\"><span style=\"color: var(--jp-warn-color2)\">lsst.characterizeImage.measurePsf</span> <span style=\"color: var(--jp-info-color0)\">INFO</span>: PSF determination using 37/47 stars.</pre>"
      ],
      "text/plain": [
       "<IPython.core.display.HTML object>"
      ]
     },
     "metadata": {},
     "output_type": "display_data"
    },
    {
     "data": {
      "text/html": [
       "<pre style=\"margin: 0.1em;\n",
       "padding-left: 0.25em;\n",
       "border-left-style: solid;\n",
       "font-family: var(--jp-code-font-family);\n",
       "font-size: var(--jp-code-font-size);\n",
       "line-height: var(--jp-code-line-height);\n",
       "\"><span style=\"color: var(--jp-warn-color2)\">timer.lsst.characterizeImage.measurePsf</span> <span style=\"color: var(--jp-success-color0)\">DEBUG</span>: runEndCpuTime=168.0972611; runEndUserTime=153.970235; runEndSystemTime=14.127004; runEndMaxResidentSetSize=1133412352; runEndMinorPageFaults=8297101; runEndMajorPageFaults=14; runEndBlockInputs=4300944; runEndBlockOutputs=2936; runEndVoluntaryContextSwitches=130896; runEndInvoluntaryContextSwitches=63917</pre>"
      ],
      "text/plain": [
       "<IPython.core.display.HTML object>"
      ]
     },
     "metadata": {},
     "output_type": "display_data"
    },
    {
     "data": {
      "text/html": [
       "<pre style=\"margin: 0.1em;\n",
       "padding-left: 0.25em;\n",
       "border-left-style: solid;\n",
       "font-family: var(--jp-code-font-family);\n",
       "font-size: var(--jp-code-font-size);\n",
       "line-height: var(--jp-code-line-height);\n",
       "\"><span style=\"color: var(--jp-warn-color2)\">timer.lsst.characterizeImage</span> <span style=\"color: var(--jp-success-color0)\">DEBUG</span>: detectMeasureAndEstimatePsfEndCpuTime=168.098199581; detectMeasureAndEstimatePsfEndUserTime=153.971189; detectMeasureAndEstimatePsfEndSystemTime=14.127004; detectMeasureAndEstimatePsfEndMaxResidentSetSize=1133412352; detectMeasureAndEstimatePsfEndMinorPageFaults=8297102; detectMeasureAndEstimatePsfEndMajorPageFaults=14; detectMeasureAndEstimatePsfEndBlockInputs=4300944; detectMeasureAndEstimatePsfEndBlockOutputs=2936; detectMeasureAndEstimatePsfEndVoluntaryContextSwitches=130915; detectMeasureAndEstimatePsfEndInvoluntaryContextSwitches=63918</pre>"
      ],
      "text/plain": [
       "<IPython.core.display.HTML object>"
      ]
     },
     "metadata": {},
     "output_type": "display_data"
    },
    {
     "data": {
      "text/html": [
       "<pre style=\"margin: 0.1em;\n",
       "padding-left: 0.25em;\n",
       "border-left-style: solid;\n",
       "font-family: var(--jp-code-font-family);\n",
       "font-size: var(--jp-code-font-size);\n",
       "line-height: var(--jp-code-line-height);\n",
       "\"><span style=\"color: var(--jp-warn-color2)\">lsst.characterizeImage</span> <span style=\"color: var(--jp-info-color0)\">INFO</span>: iter 1; PSF sigma=5.92, dimensions=(41, 41); median background=5.93</pre>"
      ],
      "text/plain": [
       "<IPython.core.display.HTML object>"
      ]
     },
     "metadata": {},
     "output_type": "display_data"
    },
    {
     "data": {
      "text/html": [
       "<pre style=\"margin: 0.1em;\n",
       "padding-left: 0.25em;\n",
       "border-left-style: solid;\n",
       "font-family: var(--jp-code-font-family);\n",
       "font-size: var(--jp-code-font-size);\n",
       "line-height: var(--jp-code-line-height);\n",
       "\"><span style=\"color: var(--jp-warn-color2)\">timer.lsst.characterizeImage.repair</span> <span style=\"color: var(--jp-success-color0)\">DEBUG</span>: runStartCpuTime=168.317696797; runStartUserTime=154.13759; runStartSystemTime=14.180085; runStartMaxResidentSetSize=1133412352; runStartMinorPageFaults=8344823; runStartMajorPageFaults=14; runStartBlockInputs=4300944; runStartBlockOutputs=2936; runStartVoluntaryContextSwitches=130993; runStartInvoluntaryContextSwitches=63921</pre>"
      ],
      "text/plain": [
       "<IPython.core.display.HTML object>"
      ]
     },
     "metadata": {},
     "output_type": "display_data"
    },
    {
     "data": {
      "text/html": [
       "<pre style=\"margin: 0.1em;\n",
       "padding-left: 0.25em;\n",
       "border-left-style: solid;\n",
       "font-family: var(--jp-code-font-family);\n",
       "font-size: var(--jp-code-font-size);\n",
       "line-height: var(--jp-code-line-height);\n",
       "\"><span style=\"color: var(--jp-warn-color2)\">lsst.characterizeImage.repair</span> <span style=\"color: var(--jp-info-color0)\">INFO</span>: Identified 6 cosmic rays.</pre>"
      ],
      "text/plain": [
       "<IPython.core.display.HTML object>"
      ]
     },
     "metadata": {},
     "output_type": "display_data"
    },
    {
     "data": {
      "text/html": [
       "<pre style=\"margin: 0.1em;\n",
       "padding-left: 0.25em;\n",
       "border-left-style: solid;\n",
       "font-family: var(--jp-code-font-family);\n",
       "font-size: var(--jp-code-font-size);\n",
       "line-height: var(--jp-code-line-height);\n",
       "\"><span style=\"color: var(--jp-warn-color2)\">timer.lsst.characterizeImage.repair</span> <span style=\"color: var(--jp-success-color0)\">DEBUG</span>: runEndCpuTime=168.803556046; runEndUserTime=154.595477; runEndSystemTime=14.208057; runEndMaxResidentSetSize=1133412352; runEndMinorPageFaults=8368923; runEndMajorPageFaults=14; runEndBlockInputs=4300944; runEndBlockOutputs=2936; runEndVoluntaryContextSwitches=131139; runEndInvoluntaryContextSwitches=64131</pre>"
      ],
      "text/plain": [
       "<IPython.core.display.HTML object>"
      ]
     },
     "metadata": {},
     "output_type": "display_data"
    },
    {
     "data": {
      "text/html": [
       "<pre style=\"margin: 0.1em;\n",
       "padding-left: 0.25em;\n",
       "border-left-style: solid;\n",
       "font-family: var(--jp-code-font-family);\n",
       "font-size: var(--jp-code-font-size);\n",
       "line-height: var(--jp-code-line-height);\n",
       "\"><span style=\"color: var(--jp-warn-color2)\">timer.lsst.characterizeImage.measurement</span> <span style=\"color: var(--jp-success-color0)\">DEBUG</span>: runStartCpuTime=168.804476507; runStartUserTime=154.596413; runStartSystemTime=14.208057; runStartMaxResidentSetSize=1133412352; runStartMinorPageFaults=8368923; runStartMajorPageFaults=14; runStartBlockInputs=4300944; runStartBlockOutputs=2936; runStartVoluntaryContextSwitches=131158; runStartInvoluntaryContextSwitches=64131</pre>"
      ],
      "text/plain": [
       "<IPython.core.display.HTML object>"
      ]
     },
     "metadata": {},
     "output_type": "display_data"
    },
    {
     "data": {
      "text/html": [
       "<pre style=\"margin: 0.1em;\n",
       "padding-left: 0.25em;\n",
       "border-left-style: solid;\n",
       "font-family: var(--jp-code-font-family);\n",
       "font-size: var(--jp-code-font-size);\n",
       "line-height: var(--jp-code-line-height);\n",
       "\"><span style=\"color: var(--jp-warn-color2)\">lsst.characterizeImage.measurement</span> <span style=\"color: var(--jp-success-color0)\">DEBUG</span>: Mask plane &quot;THISDET&quot;: plane 10, bitmask 1024 = 0x400</pre>"
      ],
      "text/plain": [
       "<IPython.core.display.HTML object>"
      ]
     },
     "metadata": {},
     "output_type": "display_data"
    },
    {
     "data": {
      "text/html": [
       "<pre style=\"margin: 0.1em;\n",
       "padding-left: 0.25em;\n",
       "border-left-style: solid;\n",
       "font-family: var(--jp-code-font-family);\n",
       "font-size: var(--jp-code-font-size);\n",
       "line-height: var(--jp-code-line-height);\n",
       "\"><span style=\"color: var(--jp-warn-color2)\">lsst.characterizeImage.measurement</span> <span style=\"color: var(--jp-success-color0)\">DEBUG</span>: Mask plane &quot;OTHERDET&quot;: plane 11, bitmask 2048 = 0x800</pre>"
      ],
      "text/plain": [
       "<IPython.core.display.HTML object>"
      ]
     },
     "metadata": {},
     "output_type": "display_data"
    },
    {
     "data": {
      "text/html": [
       "<pre style=\"margin: 0.1em;\n",
       "padding-left: 0.25em;\n",
       "border-left-style: solid;\n",
       "font-family: var(--jp-code-font-family);\n",
       "font-size: var(--jp-code-font-size);\n",
       "line-height: var(--jp-code-line-height);\n",
       "\"><span style=\"color: var(--jp-warn-color2)\">lsst.characterizeImage.measurement</span> <span style=\"color: var(--jp-success-color0)\">DEBUG</span>: Measured from image: clipped mean = 0.101313, stdev = 9.3353</pre>"
      ],
      "text/plain": [
       "<IPython.core.display.HTML object>"
      ]
     },
     "metadata": {},
     "output_type": "display_data"
    },
    {
     "data": {
      "text/html": [
       "<pre style=\"margin: 0.1em;\n",
       "padding-left: 0.25em;\n",
       "border-left-style: solid;\n",
       "font-family: var(--jp-code-font-family);\n",
       "font-size: var(--jp-code-font-size);\n",
       "line-height: var(--jp-code-line-height);\n",
       "\"><span style=\"color: var(--jp-warn-color2)\">lsst.characterizeImage.measurement</span> <span style=\"color: var(--jp-success-color0)\">DEBUG</span>: Using noise generator: FixedGaussianNoiseGenerator: mean=0.101313, std=9.3353</pre>"
      ],
      "text/plain": [
       "<IPython.core.display.HTML object>"
      ]
     },
     "metadata": {},
     "output_type": "display_data"
    },
    {
     "data": {
      "text/html": [
       "<pre style=\"margin: 0.1em;\n",
       "padding-left: 0.25em;\n",
       "border-left-style: solid;\n",
       "font-family: var(--jp-code-font-family);\n",
       "font-size: var(--jp-code-font-size);\n",
       "line-height: var(--jp-code-line-height);\n",
       "\"><span style=\"color: var(--jp-warn-color2)\">lsst.characterizeImage.measurement</span> <span style=\"color: var(--jp-info-color0)\">INFO</span>: Measuring 88 sources (88 parents, 0 children) </pre>"
      ],
      "text/plain": [
       "<IPython.core.display.HTML object>"
      ]
     },
     "metadata": {},
     "output_type": "display_data"
    },
    {
     "data": {
      "text/html": [
       "<pre style=\"margin: 0.1em;\n",
       "padding-left: 0.25em;\n",
       "border-left-style: solid;\n",
       "font-family: var(--jp-code-font-family);\n",
       "font-size: var(--jp-code-font-size);\n",
       "line-height: var(--jp-code-line-height);\n",
       "\"><span style=\"color: var(--jp-warn-color2)\">lsst.characterizeImage.measurement.base_GaussianFlux</span> <span style=\"color: var(--jp-success-color0)\">DEBUG</span>: MeasurementError in base_GaussianFlux.measure on record 87: \n",
       "  File &quot;src/InputUtilities.cc&quot;, line 179, in lsst::afw::geom::ellipses::Quadrupole lsst::meas::base::SafeShapeExtractor::operator()(lsst::afw::table::SourceRecord&amp;, const lsst::meas::base::FlagHandler&amp;) const\n",
       "    base_GaussianFlux: Shape needed, and Shape slot measurement failed. {0}\n",
       "lsst::meas::base::MeasurementError: &#x27;base_GaussianFlux: Shape needed, and Shape slot measurement failed.&#x27;\n",
       "</pre>"
      ],
      "text/plain": [
       "<IPython.core.display.HTML object>"
      ]
     },
     "metadata": {},
     "output_type": "display_data"
    },
    {
     "data": {
      "text/html": [
       "<pre style=\"margin: 0.1em;\n",
       "padding-left: 0.25em;\n",
       "border-left-style: solid;\n",
       "font-family: var(--jp-code-font-family);\n",
       "font-size: var(--jp-code-font-size);\n",
       "line-height: var(--jp-code-line-height);\n",
       "\"><span style=\"color: var(--jp-warn-color2)\">timer.lsst.characterizeImage.measurement</span> <span style=\"color: var(--jp-success-color0)\">DEBUG</span>: runEndCpuTime=169.562675741; runEndUserTime=155.318622; runEndSystemTime=14.244031; runEndMaxResidentSetSize=1133412352; runEndMinorPageFaults=8393024; runEndMajorPageFaults=14; runEndBlockInputs=4300944; runEndBlockOutputs=2936; runEndVoluntaryContextSwitches=131469; runEndInvoluntaryContextSwitches=64217</pre>"
      ],
      "text/plain": [
       "<IPython.core.display.HTML object>"
      ]
     },
     "metadata": {},
     "output_type": "display_data"
    },
    {
     "data": {
      "text/html": [
       "<pre style=\"margin: 0.1em;\n",
       "padding-left: 0.25em;\n",
       "border-left-style: solid;\n",
       "font-family: var(--jp-code-font-family);\n",
       "font-size: var(--jp-code-font-size);\n",
       "line-height: var(--jp-code-line-height);\n",
       "\"><span style=\"color: var(--jp-warn-color2)\">timer.lsst.characterizeImage.catalogCalculation</span> <span style=\"color: var(--jp-success-color0)\">DEBUG</span>: runStartCpuTime=169.564045265; runStartUserTime=155.319975; runStartSystemTime=14.244064; runStartMaxResidentSetSize=1133412352; runStartMinorPageFaults=8393024; runStartMajorPageFaults=14; runStartBlockInputs=4300944; runStartBlockOutputs=2936; runStartVoluntaryContextSwitches=131487; runStartInvoluntaryContextSwitches=64217</pre>"
      ],
      "text/plain": [
       "<IPython.core.display.HTML object>"
      ]
     },
     "metadata": {},
     "output_type": "display_data"
    },
    {
     "data": {
      "text/html": [
       "<pre style=\"margin: 0.1em;\n",
       "padding-left: 0.25em;\n",
       "border-left-style: solid;\n",
       "font-family: var(--jp-code-font-family);\n",
       "font-size: var(--jp-code-font-size);\n",
       "line-height: var(--jp-code-line-height);\n",
       "\"><span style=\"color: var(--jp-warn-color2)\">timer.lsst.characterizeImage.catalogCalculation</span> <span style=\"color: var(--jp-success-color0)\">DEBUG</span>: runEndCpuTime=169.566754716; runEndUserTime=155.322625; runEndSystemTime=14.244123; runEndMaxResidentSetSize=1133412352; runEndMinorPageFaults=8393024; runEndMajorPageFaults=14; runEndBlockInputs=4300944; runEndBlockOutputs=2936; runEndVoluntaryContextSwitches=131505; runEndInvoluntaryContextSwitches=64217</pre>"
      ],
      "text/plain": [
       "<IPython.core.display.HTML object>"
      ]
     },
     "metadata": {},
     "output_type": "display_data"
    },
    {
     "data": {
      "text/html": [
       "<pre style=\"margin: 0.1em;\n",
       "padding-left: 0.25em;\n",
       "border-left-style: solid;\n",
       "font-family: var(--jp-code-font-family);\n",
       "font-size: var(--jp-code-font-size);\n",
       "line-height: var(--jp-code-line-height);\n",
       "\"><span style=\"color: var(--jp-warn-color2)\">timer.lsst.characterizeImage</span> <span style=\"color: var(--jp-success-color0)\">DEBUG</span>: runEndCpuTime=169.567744428; runEndUserTime=155.323615; runEndSystemTime=14.244123; runEndMaxResidentSetSize=1133412352; runEndMinorPageFaults=8393024; runEndMajorPageFaults=14; runEndBlockInputs=4300944; runEndBlockOutputs=2936; runEndVoluntaryContextSwitches=131523; runEndInvoluntaryContextSwitches=64217</pre>"
      ],
      "text/plain": [
       "<IPython.core.display.HTML object>"
      ]
     },
     "metadata": {},
     "output_type": "display_data"
    },
    {
     "name": "stdout",
     "output_type": "stream",
     "text": [
      "Psf shape from imChar task (x,y) = (1.320, 1.348) FWHM arcsec\n",
      "{'day_obs': 20220526, 'seq_num': 140, 'detector': 0, 'instrument': 'LATISS'}\n"
     ]
    },
    {
     "data": {
      "text/html": [
       "<pre style=\"margin: 0.1em;\n",
       "padding-left: 0.25em;\n",
       "border-left-style: solid;\n",
       "font-family: var(--jp-code-font-family);\n",
       "font-size: var(--jp-code-font-size);\n",
       "line-height: var(--jp-code-line-height);\n",
       "\"><span style=\"color: var(--jp-warn-color2)\">lsst.daf.butler._butler</span> <span style=\"color: var(--jp-success-color0)\">DEBUG</span>: Butler get: quickLookExp, dataId={&#x27;day_obs&#x27;: 20220526, &#x27;seq_num&#x27;: 140, &#x27;detector&#x27;: 0, &#x27;instrument&#x27;: &#x27;LATISS&#x27;}, parameters=None</pre>"
      ],
      "text/plain": [
       "<IPython.core.display.HTML object>"
      ]
     },
     "metadata": {},
     "output_type": "display_data"
    },
    {
     "data": {
      "text/html": [
       "<pre style=\"margin: 0.1em;\n",
       "padding-left: 0.25em;\n",
       "border-left-style: solid;\n",
       "font-family: var(--jp-code-font-family);\n",
       "font-size: var(--jp-code-font-size);\n",
       "line-height: var(--jp-code-line-height);\n",
       "\"><span style=\"color: var(--jp-warn-color2)\">lsst.daf.butler._butler</span> <span style=\"color: var(--jp-success-color0)\">DEBUG</span>: Assigned non-dimension dataId keys to dimension exposure: {&#x27;day_obs&#x27;: 20220526, &#x27;seq_num&#x27;: 140}</pre>"
      ],
      "text/plain": [
       "<IPython.core.display.HTML object>"
      ]
     },
     "metadata": {},
     "output_type": "display_data"
    },
    {
     "data": {
      "text/html": [
       "<pre style=\"margin: 0.1em;\n",
       "padding-left: 0.25em;\n",
       "border-left-style: solid;\n",
       "font-family: var(--jp-code-font-family);\n",
       "font-size: var(--jp-code-font-size);\n",
       "line-height: var(--jp-code-line-height);\n",
       "\"><span style=\"color: var(--jp-warn-color2)\">lsst.daf.butler.datastores.fileDatastore</span> <span style=\"color: var(--jp-success-color0)\">DEBUG</span>: Retrieve quickLookExp@{instrument: &#x27;LATISS&#x27;, detector: 0, exposure: 2022052600140}, sc=ExposureF] (id=7fc53fa2-eb28-4a16-8d02-c1e17336f9f7) from FileDatastore@&lt;butlerRoot&gt; with parameters None</pre>"
      ],
      "text/plain": [
       "<IPython.core.display.HTML object>"
      ]
     },
     "metadata": {},
     "output_type": "display_data"
    },
    {
     "data": {
      "text/html": [
       "<pre style=\"margin: 0.1em;\n",
       "padding-left: 0.25em;\n",
       "border-left-style: solid;\n",
       "font-family: var(--jp-code-font-family);\n",
       "font-size: var(--jp-code-font-size);\n",
       "line-height: var(--jp-code-line-height);\n",
       "\"><span style=\"color: var(--jp-warn-color2)\">lsst.daf.butler.datastores.fileDatastore</span> <span style=\"color: var(--jp-success-color0)\">DEBUG</span>: Accessing data from file:///repo/LATISS/LATISS/runs/quickLook/1/quickLookExp/20220526/AT_O_20220526_000140/quickLookExp_LATISS_SDSSr~empty_AT_O_20220526_000140_RXX_S00_LATISS_runs_quickLook_1.fits</pre>"
      ],
      "text/plain": [
       "<IPython.core.display.HTML object>"
      ]
     },
     "metadata": {},
     "output_type": "display_data"
    },
    {
     "data": {
      "text/html": [
       "<pre style=\"margin: 0.1em;\n",
       "padding-left: 0.25em;\n",
       "border-left-style: solid;\n",
       "font-family: var(--jp-code-font-family);\n",
       "font-size: var(--jp-code-font-size);\n",
       "line-height: var(--jp-code-line-height);\n",
       "\"><span style=\"color: var(--jp-warn-color2)\">lsst.daf.butler.datastores.fileDatastore</span> <span style=\"color: var(--jp-success-color0)\">DEBUG</span>: Reading from location file:///repo/LATISS/LATISS/runs/quickLook/1/quickLookExp/20220526/AT_O_20220526_000140/quickLookExp_LATISS_SDSSr~empty_AT_O_20220526_000140_RXX_S00_LATISS_runs_quickLook_1.fits  with formatter lsst.obs.base.formatters.fitsExposure.FitsExposureFormatter</pre>"
      ],
      "text/plain": [
       "<IPython.core.display.HTML object>"
      ]
     },
     "metadata": {},
     "output_type": "display_data"
    },
    {
     "data": {
      "text/html": [
       "<pre style=\"margin: 0.1em;\n",
       "padding-left: 0.25em;\n",
       "border-left-style: solid;\n",
       "font-family: var(--jp-code-font-family);\n",
       "font-size: var(--jp-code-font-size);\n",
       "line-height: var(--jp-code-line-height);\n",
       "\"><span style=\"color: var(--jp-warn-color2)\">timer.lsst.daf.butler.datastores.fileDatastore</span> <span style=\"color: var(--jp-success-color0)\">DEBUG</span>: Reading from location file:///repo/LATISS/LATISS/runs/quickLook/1/quickLookExp/20220526/AT_O_20220526_000140/quickLookExp_LATISS_SDSSr~empty_AT_O_20220526_000140_RXX_S00_LATISS_runs_quickLook_1.fits  with formatter lsst.obs.base.formatters.fitsExposure.FitsExposureFormatter: Took 0.9382 seconds</pre>"
      ],
      "text/plain": [
       "<IPython.core.display.HTML object>"
      ]
     },
     "metadata": {},
     "output_type": "display_data"
    },
    {
     "data": {
      "text/html": [
       "<pre style=\"margin: 0.1em;\n",
       "padding-left: 0.25em;\n",
       "border-left-style: solid;\n",
       "font-family: var(--jp-code-font-family);\n",
       "font-size: var(--jp-code-font-size);\n",
       "line-height: var(--jp-code-line-height);\n",
       "\"><span style=\"color: var(--jp-warn-color2)\">lsst.summit.utils.bestEffort</span> <span style=\"color: var(--jp-info-color0)\">INFO</span>: Found a ready-made quickLookExp in the repo. Returning that.</pre>"
      ],
      "text/plain": [
       "<IPython.core.display.HTML object>"
      ]
     },
     "metadata": {},
     "output_type": "display_data"
    },
    {
     "data": {
      "text/html": [
       "<pre style=\"margin: 0.1em;\n",
       "padding-left: 0.25em;\n",
       "border-left-style: solid;\n",
       "font-family: var(--jp-code-font-family);\n",
       "font-size: var(--jp-code-font-size);\n",
       "line-height: var(--jp-code-line-height);\n",
       "\"><span style=\"color: var(--jp-warn-color2)\">timer.lsst.characterizeImage</span> <span style=\"color: var(--jp-success-color0)\">DEBUG</span>: runStartCpuTime=170.539242162; runStartUserTime=156.182268; runStartSystemTime=14.356949; runStartMaxResidentSetSize=1133412352; runStartMinorPageFaults=8441155; runStartMajorPageFaults=14; runStartBlockInputs=4543808; runStartBlockOutputs=2936; runStartVoluntaryContextSwitches=133396; runStartInvoluntaryContextSwitches=64279</pre>"
      ],
      "text/plain": [
       "<IPython.core.display.HTML object>"
      ]
     },
     "metadata": {},
     "output_type": "display_data"
    },
    {
     "data": {
      "text/html": [
       "<pre style=\"margin: 0.1em;\n",
       "padding-left: 0.25em;\n",
       "border-left-style: solid;\n",
       "font-family: var(--jp-code-font-family);\n",
       "font-size: var(--jp-code-font-size);\n",
       "line-height: var(--jp-code-line-height);\n",
       "\"><span style=\"color: var(--jp-warn-color2)\">lsst.characterizeImage.background</span> <span style=\"color: var(--jp-success-color0)\">DEBUG</span>: Ignoring mask planes: BAD, EDGE, DETECTED, DETECTED_NEGATIVE, NO_DATA</pre>"
      ],
      "text/plain": [
       "<IPython.core.display.HTML object>"
      ]
     },
     "metadata": {},
     "output_type": "display_data"
    },
    {
     "data": {
      "text/html": [
       "<pre style=\"margin: 0.1em;\n",
       "padding-left: 0.25em;\n",
       "border-left-style: solid;\n",
       "font-family: var(--jp-code-font-family);\n",
       "font-size: var(--jp-code-font-size);\n",
       "line-height: var(--jp-code-line-height);\n",
       "\"><span style=\"color: var(--jp-warn-color2)\">timer.lsst.characterizeImage</span> <span style=\"color: var(--jp-success-color0)\">DEBUG</span>: detectMeasureAndEstimatePsfStartCpuTime=171.203053974; detectMeasureAndEstimatePsfStartUserTime=156.801193; detectMeasureAndEstimatePsfStartSystemTime=14.401836; detectMeasureAndEstimatePsfStartMaxResidentSetSize=1133412352; detectMeasureAndEstimatePsfStartMinorPageFaults=8488876; detectMeasureAndEstimatePsfStartMajorPageFaults=14; detectMeasureAndEstimatePsfStartBlockInputs=4543808; detectMeasureAndEstimatePsfStartBlockOutputs=2936; detectMeasureAndEstimatePsfStartVoluntaryContextSwitches=133436; detectMeasureAndEstimatePsfStartInvoluntaryContextSwitches=64407</pre>"
      ],
      "text/plain": [
       "<IPython.core.display.HTML object>"
      ]
     },
     "metadata": {},
     "output_type": "display_data"
    },
    {
     "data": {
      "text/html": [
       "<pre style=\"margin: 0.1em;\n",
       "padding-left: 0.25em;\n",
       "border-left-style: solid;\n",
       "font-family: var(--jp-code-font-family);\n",
       "font-size: var(--jp-code-font-size);\n",
       "line-height: var(--jp-code-line-height);\n",
       "\"><span style=\"color: var(--jp-warn-color2)\">lsst.characterizeImage</span> <span style=\"color: var(--jp-info-color0)\">INFO</span>: PSF estimation initialized with &#x27;simple&#x27; PSF</pre>"
      ],
      "text/plain": [
       "<IPython.core.display.HTML object>"
      ]
     },
     "metadata": {},
     "output_type": "display_data"
    },
    {
     "data": {
      "text/html": [
       "<pre style=\"margin: 0.1em;\n",
       "padding-left: 0.25em;\n",
       "border-left-style: solid;\n",
       "font-family: var(--jp-code-font-family);\n",
       "font-size: var(--jp-code-font-size);\n",
       "line-height: var(--jp-code-line-height);\n",
       "\"><span style=\"color: var(--jp-warn-color2)\">lsst.characterizeImage.installSimplePsf</span> <span style=\"color: var(--jp-success-color0)\">DEBUG</span>: installing a simple Gaussian PSF model with width=61, height=61, FWHM=15.000</pre>"
      ],
      "text/plain": [
       "<IPython.core.display.HTML object>"
      ]
     },
     "metadata": {},
     "output_type": "display_data"
    },
    {
     "data": {
      "text/html": [
       "<pre style=\"margin: 0.1em;\n",
       "padding-left: 0.25em;\n",
       "border-left-style: solid;\n",
       "font-family: var(--jp-code-font-family);\n",
       "font-size: var(--jp-code-font-size);\n",
       "line-height: var(--jp-code-line-height);\n",
       "\"><span style=\"color: var(--jp-warn-color2)\">timer.lsst.characterizeImage.repair</span> <span style=\"color: var(--jp-success-color0)\">DEBUG</span>: runStartCpuTime=171.206213939; runStartUserTime=156.803439; runStartSystemTime=14.402767; runStartMaxResidentSetSize=1133412352; runStartMinorPageFaults=8488881; runStartMajorPageFaults=14; runStartBlockInputs=4543808; runStartBlockOutputs=2936; runStartVoluntaryContextSwitches=133485; runStartInvoluntaryContextSwitches=64407</pre>"
      ],
      "text/plain": [
       "<IPython.core.display.HTML object>"
      ]
     },
     "metadata": {},
     "output_type": "display_data"
    },
    {
     "data": {
      "text/html": [
       "<pre style=\"margin: 0.1em;\n",
       "padding-left: 0.25em;\n",
       "border-left-style: solid;\n",
       "font-family: var(--jp-code-font-family);\n",
       "font-size: var(--jp-code-font-size);\n",
       "line-height: var(--jp-code-line-height);\n",
       "\"><span style=\"color: var(--jp-warn-color2)\">lsst.characterizeImage.repair</span> <span style=\"color: var(--jp-info-color0)\">INFO</span>: Identified 4 cosmic rays.</pre>"
      ],
      "text/plain": [
       "<IPython.core.display.HTML object>"
      ]
     },
     "metadata": {},
     "output_type": "display_data"
    },
    {
     "data": {
      "text/html": [
       "<pre style=\"margin: 0.1em;\n",
       "padding-left: 0.25em;\n",
       "border-left-style: solid;\n",
       "font-family: var(--jp-code-font-family);\n",
       "font-size: var(--jp-code-font-size);\n",
       "line-height: var(--jp-code-line-height);\n",
       "\"><span style=\"color: var(--jp-warn-color2)\">timer.lsst.characterizeImage.repair</span> <span style=\"color: var(--jp-success-color0)\">DEBUG</span>: runEndCpuTime=171.700080437; runEndUserTime=157.268403; runEndSystemTime=14.431655; runEndMaxResidentSetSize=1133412352; runEndMinorPageFaults=8512981; runEndMajorPageFaults=14; runEndBlockInputs=4543808; runEndBlockOutputs=2936; runEndVoluntaryContextSwitches=133628; runEndInvoluntaryContextSwitches=64407</pre>"
      ],
      "text/plain": [
       "<IPython.core.display.HTML object>"
      ]
     },
     "metadata": {},
     "output_type": "display_data"
    },
    {
     "data": {
      "text/html": [
       "<pre style=\"margin: 0.1em;\n",
       "padding-left: 0.25em;\n",
       "border-left-style: solid;\n",
       "font-family: var(--jp-code-font-family);\n",
       "font-size: var(--jp-code-font-size);\n",
       "line-height: var(--jp-code-line-height);\n",
       "\"><span style=\"color: var(--jp-warn-color2)\">timer.lsst.characterizeImage.detection</span> <span style=\"color: var(--jp-success-color0)\">DEBUG</span>: runStartCpuTime=171.70135417; runStartUserTime=157.26875; runStartSystemTime=14.432597; runStartMaxResidentSetSize=1133412352; runStartMinorPageFaults=8512981; runStartMajorPageFaults=14; runStartBlockInputs=4543808; runStartBlockOutputs=2936; runStartVoluntaryContextSwitches=133649; runStartInvoluntaryContextSwitches=64407</pre>"
      ],
      "text/plain": [
       "<IPython.core.display.HTML object>"
      ]
     },
     "metadata": {},
     "output_type": "display_data"
    },
    {
     "data": {
      "text/html": [
       "<pre style=\"margin: 0.1em;\n",
       "padding-left: 0.25em;\n",
       "border-left-style: solid;\n",
       "font-family: var(--jp-code-font-family);\n",
       "font-size: var(--jp-code-font-size);\n",
       "line-height: var(--jp-code-line-height);\n",
       "\"><span style=\"color: var(--jp-warn-color2)\">timer.lsst.characterizeImage.detection</span> <span style=\"color: var(--jp-success-color0)\">DEBUG</span>: detectFootprintsStartCpuTime=171.702295631; detectFootprintsStartUserTime=157.269692; detectFootprintsStartSystemTime=14.432597; detectFootprintsStartMaxResidentSetSize=1133412352; detectFootprintsStartMinorPageFaults=8512981; detectFootprintsStartMajorPageFaults=14; detectFootprintsStartBlockInputs=4543808; detectFootprintsStartBlockOutputs=2936; detectFootprintsStartVoluntaryContextSwitches=133666; detectFootprintsStartInvoluntaryContextSwitches=64407</pre>"
      ],
      "text/plain": [
       "<IPython.core.display.HTML object>"
      ]
     },
     "metadata": {},
     "output_type": "display_data"
    },
    {
     "data": {
      "text/html": [
       "<pre style=\"margin: 0.1em;\n",
       "padding-left: 0.25em;\n",
       "border-left-style: solid;\n",
       "font-family: var(--jp-code-font-family);\n",
       "font-size: var(--jp-code-font-size);\n",
       "line-height: var(--jp-code-line-height);\n",
       "\"><span style=\"color: var(--jp-warn-color2)\">lsst.characterizeImage.detection</span> <span style=\"color: var(--jp-success-color0)\">DEBUG</span>: Detection threshold: VALUE value=3.2015082 (positive) multiplier=5</pre>"
      ],
      "text/plain": [
       "<IPython.core.display.HTML object>"
      ]
     },
     "metadata": {},
     "output_type": "display_data"
    },
    {
     "data": {
      "text/html": [
       "<pre style=\"margin: 0.1em;\n",
       "padding-left: 0.25em;\n",
       "border-left-style: solid;\n",
       "font-family: var(--jp-code-font-family);\n",
       "font-size: var(--jp-code-font-size);\n",
       "line-height: var(--jp-code-line-height);\n",
       "\"><span style=\"color: var(--jp-warn-color2)\">lsst.characterizeImage.detection</span> <span style=\"color: var(--jp-success-color0)\">DEBUG</span>: Detection threshold: VALUE value=3.2015082 (negative) multiplier=5</pre>"
      ],
      "text/plain": [
       "<IPython.core.display.HTML object>"
      ]
     },
     "metadata": {},
     "output_type": "display_data"
    },
    {
     "data": {
      "text/html": [
       "<pre style=\"margin: 0.1em;\n",
       "padding-left: 0.25em;\n",
       "border-left-style: solid;\n",
       "font-family: var(--jp-code-font-family);\n",
       "font-size: var(--jp-code-font-size);\n",
       "line-height: var(--jp-code-line-height);\n",
       "\"><span style=\"color: var(--jp-warn-color2)\">lsst.characterizeImage.detection</span> <span style=\"color: var(--jp-info-color0)\">INFO</span>: Detected 91 positive peaks in 79 footprints and 4 negative peaks in 4 footprints to 25 sigma</pre>"
      ],
      "text/plain": [
       "<IPython.core.display.HTML object>"
      ]
     },
     "metadata": {},
     "output_type": "display_data"
    },
    {
     "data": {
      "text/html": [
       "<pre style=\"margin: 0.1em;\n",
       "padding-left: 0.25em;\n",
       "border-left-style: solid;\n",
       "font-family: var(--jp-code-font-family);\n",
       "font-size: var(--jp-code-font-size);\n",
       "line-height: var(--jp-code-line-height);\n",
       "\"><span style=\"color: var(--jp-warn-color2)\">lsst.characterizeImage.detection.background</span> <span style=\"color: var(--jp-success-color0)\">DEBUG</span>: Ignoring mask planes: BAD, EDGE, DETECTED, DETECTED_NEGATIVE, NO_DATA</pre>"
      ],
      "text/plain": [
       "<IPython.core.display.HTML object>"
      ]
     },
     "metadata": {},
     "output_type": "display_data"
    },
    {
     "data": {
      "text/html": [
       "<pre style=\"margin: 0.1em;\n",
       "padding-left: 0.25em;\n",
       "border-left-style: solid;\n",
       "font-family: var(--jp-code-font-family);\n",
       "font-size: var(--jp-code-font-size);\n",
       "line-height: var(--jp-code-line-height);\n",
       "\"><span style=\"color: var(--jp-warn-color2)\">lsst.characterizeImage.detection</span> <span style=\"color: var(--jp-info-color0)\">INFO</span>: Resubtracting the background after object detection</pre>"
      ],
      "text/plain": [
       "<IPython.core.display.HTML object>"
      ]
     },
     "metadata": {},
     "output_type": "display_data"
    },
    {
     "data": {
      "text/html": [
       "<pre style=\"margin: 0.1em;\n",
       "padding-left: 0.25em;\n",
       "border-left-style: solid;\n",
       "font-family: var(--jp-code-font-family);\n",
       "font-size: var(--jp-code-font-size);\n",
       "line-height: var(--jp-code-line-height);\n",
       "\"><span style=\"color: var(--jp-warn-color2)\">timer.lsst.characterizeImage.detection</span> <span style=\"color: var(--jp-success-color0)\">DEBUG</span>: detectFootprintsEndCpuTime=175.112311826; detectFootprintsEndUserTime=160.480718; detectFootprintsEndSystemTime=14.63157; detectFootprintsEndMaxResidentSetSize=1135128576; detectFootprintsEndMinorPageFaults=8703146; detectFootprintsEndMajorPageFaults=14; detectFootprintsEndBlockInputs=4543808; detectFootprintsEndBlockOutputs=2936; detectFootprintsEndVoluntaryContextSwitches=134335; detectFootprintsEndInvoluntaryContextSwitches=64411</pre>"
      ],
      "text/plain": [
       "<IPython.core.display.HTML object>"
      ]
     },
     "metadata": {},
     "output_type": "display_data"
    },
    {
     "data": {
      "text/html": [
       "<pre style=\"margin: 0.1em;\n",
       "padding-left: 0.25em;\n",
       "border-left-style: solid;\n",
       "font-family: var(--jp-code-font-family);\n",
       "font-size: var(--jp-code-font-size);\n",
       "line-height: var(--jp-code-line-height);\n",
       "\"><span style=\"color: var(--jp-warn-color2)\">timer.lsst.characterizeImage.detection</span> <span style=\"color: var(--jp-success-color0)\">DEBUG</span>: runEndCpuTime=175.113698121; runEndUserTime=160.482121; runEndSystemTime=14.63157; runEndMaxResidentSetSize=1135128576; runEndMinorPageFaults=8703146; runEndMajorPageFaults=14; runEndBlockInputs=4543808; runEndBlockOutputs=2936; runEndVoluntaryContextSwitches=134349; runEndInvoluntaryContextSwitches=64411</pre>"
      ],
      "text/plain": [
       "<IPython.core.display.HTML object>"
      ]
     },
     "metadata": {},
     "output_type": "display_data"
    },
    {
     "data": {
      "text/html": [
       "<pre style=\"margin: 0.1em;\n",
       "padding-left: 0.25em;\n",
       "border-left-style: solid;\n",
       "font-family: var(--jp-code-font-family);\n",
       "font-size: var(--jp-code-font-size);\n",
       "line-height: var(--jp-code-line-height);\n",
       "\"><span style=\"color: var(--jp-warn-color2)\">timer.lsst.characterizeImage.measurement</span> <span style=\"color: var(--jp-success-color0)\">DEBUG</span>: runStartCpuTime=175.114651974; runStartUserTime=160.483045; runStartSystemTime=14.6316; runStartMaxResidentSetSize=1135128576; runStartMinorPageFaults=8703146; runStartMajorPageFaults=14; runStartBlockInputs=4543808; runStartBlockOutputs=2936; runStartVoluntaryContextSwitches=134369; runStartInvoluntaryContextSwitches=64411</pre>"
      ],
      "text/plain": [
       "<IPython.core.display.HTML object>"
      ]
     },
     "metadata": {},
     "output_type": "display_data"
    },
    {
     "data": {
      "text/html": [
       "<pre style=\"margin: 0.1em;\n",
       "padding-left: 0.25em;\n",
       "border-left-style: solid;\n",
       "font-family: var(--jp-code-font-family);\n",
       "font-size: var(--jp-code-font-size);\n",
       "line-height: var(--jp-code-line-height);\n",
       "\"><span style=\"color: var(--jp-warn-color2)\">lsst.characterizeImage.measurement</span> <span style=\"color: var(--jp-success-color0)\">DEBUG</span>: Mask plane &quot;THISDET&quot;: plane 10, bitmask 1024 = 0x400</pre>"
      ],
      "text/plain": [
       "<IPython.core.display.HTML object>"
      ]
     },
     "metadata": {},
     "output_type": "display_data"
    },
    {
     "data": {
      "text/html": [
       "<pre style=\"margin: 0.1em;\n",
       "padding-left: 0.25em;\n",
       "border-left-style: solid;\n",
       "font-family: var(--jp-code-font-family);\n",
       "font-size: var(--jp-code-font-size);\n",
       "line-height: var(--jp-code-line-height);\n",
       "\"><span style=\"color: var(--jp-warn-color2)\">lsst.characterizeImage.measurement</span> <span style=\"color: var(--jp-success-color0)\">DEBUG</span>: Mask plane &quot;OTHERDET&quot;: plane 11, bitmask 2048 = 0x800</pre>"
      ],
      "text/plain": [
       "<IPython.core.display.HTML object>"
      ]
     },
     "metadata": {},
     "output_type": "display_data"
    },
    {
     "data": {
      "text/html": [
       "<pre style=\"margin: 0.1em;\n",
       "padding-left: 0.25em;\n",
       "border-left-style: solid;\n",
       "font-family: var(--jp-code-font-family);\n",
       "font-size: var(--jp-code-font-size);\n",
       "line-height: var(--jp-code-line-height);\n",
       "\"><span style=\"color: var(--jp-warn-color2)\">lsst.characterizeImage.measurement</span> <span style=\"color: var(--jp-success-color0)\">DEBUG</span>: Measured from image: clipped mean = 0.112227, stdev = 9.34573</pre>"
      ],
      "text/plain": [
       "<IPython.core.display.HTML object>"
      ]
     },
     "metadata": {},
     "output_type": "display_data"
    },
    {
     "data": {
      "text/html": [
       "<pre style=\"margin: 0.1em;\n",
       "padding-left: 0.25em;\n",
       "border-left-style: solid;\n",
       "font-family: var(--jp-code-font-family);\n",
       "font-size: var(--jp-code-font-size);\n",
       "line-height: var(--jp-code-line-height);\n",
       "\"><span style=\"color: var(--jp-warn-color2)\">lsst.characterizeImage.measurement</span> <span style=\"color: var(--jp-success-color0)\">DEBUG</span>: Using noise generator: FixedGaussianNoiseGenerator: mean=0.112227, std=9.34573</pre>"
      ],
      "text/plain": [
       "<IPython.core.display.HTML object>"
      ]
     },
     "metadata": {},
     "output_type": "display_data"
    },
    {
     "data": {
      "text/html": [
       "<pre style=\"margin: 0.1em;\n",
       "padding-left: 0.25em;\n",
       "border-left-style: solid;\n",
       "font-family: var(--jp-code-font-family);\n",
       "font-size: var(--jp-code-font-size);\n",
       "line-height: var(--jp-code-line-height);\n",
       "\"><span style=\"color: var(--jp-warn-color2)\">lsst.characterizeImage.measurement</span> <span style=\"color: var(--jp-info-color0)\">INFO</span>: Measuring 79 sources (79 parents, 0 children) </pre>"
      ],
      "text/plain": [
       "<IPython.core.display.HTML object>"
      ]
     },
     "metadata": {},
     "output_type": "display_data"
    },
    {
     "data": {
      "text/html": [
       "<pre style=\"margin: 0.1em;\n",
       "padding-left: 0.25em;\n",
       "border-left-style: solid;\n",
       "font-family: var(--jp-code-font-family);\n",
       "font-size: var(--jp-code-font-size);\n",
       "line-height: var(--jp-code-line-height);\n",
       "\"><span style=\"color: var(--jp-warn-color2)\">lsst.characterizeImage.measurement.base_GaussianFlux</span> <span style=\"color: var(--jp-success-color0)\">DEBUG</span>: MeasurementError in base_GaussianFlux.measure on record 40: \n",
       "  File &quot;src/InputUtilities.cc&quot;, line 179, in lsst::afw::geom::ellipses::Quadrupole lsst::meas::base::SafeShapeExtractor::operator()(lsst::afw::table::SourceRecord&amp;, const lsst::meas::base::FlagHandler&amp;) const\n",
       "    base_GaussianFlux: Shape needed, and Shape slot measurement failed. {0}\n",
       "lsst::meas::base::MeasurementError: &#x27;base_GaussianFlux: Shape needed, and Shape slot measurement failed.&#x27;\n",
       "</pre>"
      ],
      "text/plain": [
       "<IPython.core.display.HTML object>"
      ]
     },
     "metadata": {},
     "output_type": "display_data"
    },
    {
     "data": {
      "text/html": [
       "<pre style=\"margin: 0.1em;\n",
       "padding-left: 0.25em;\n",
       "border-left-style: solid;\n",
       "font-family: var(--jp-code-font-family);\n",
       "font-size: var(--jp-code-font-size);\n",
       "line-height: var(--jp-code-line-height);\n",
       "\"><span style=\"color: var(--jp-warn-color2)\">lsst.characterizeImage.measurement.base_GaussianFlux</span> <span style=\"color: var(--jp-success-color0)\">DEBUG</span>: MeasurementError in base_GaussianFlux.measure on record 78: \n",
       "  File &quot;src/InputUtilities.cc&quot;, line 179, in lsst::afw::geom::ellipses::Quadrupole lsst::meas::base::SafeShapeExtractor::operator()(lsst::afw::table::SourceRecord&amp;, const lsst::meas::base::FlagHandler&amp;) const\n",
       "    base_GaussianFlux: Shape needed, and Shape slot measurement failed. {0}\n",
       "lsst::meas::base::MeasurementError: &#x27;base_GaussianFlux: Shape needed, and Shape slot measurement failed.&#x27;\n",
       "</pre>"
      ],
      "text/plain": [
       "<IPython.core.display.HTML object>"
      ]
     },
     "metadata": {},
     "output_type": "display_data"
    },
    {
     "data": {
      "text/html": [
       "<pre style=\"margin: 0.1em;\n",
       "padding-left: 0.25em;\n",
       "border-left-style: solid;\n",
       "font-family: var(--jp-code-font-family);\n",
       "font-size: var(--jp-code-font-size);\n",
       "line-height: var(--jp-code-line-height);\n",
       "\"><span style=\"color: var(--jp-warn-color2)\">lsst.characterizeImage.measurement.base_SdssCentroid</span> <span style=\"color: var(--jp-success-color0)\">DEBUG</span>: MeasurementError in base_SdssCentroid.measure on record 79: \n",
       "  File &quot;src/SdssCentroid.cc&quot;, line 384, in std::pair&lt;MaskedImageT, double&gt; lsst::meas::base::{anonymous}::smoothAndBinImage(std::shared_ptr&lt;const lsst::afw::detection::Psf&gt;, int, int, const MaskedImageT&amp;, int, int, lsst::meas::base::FlagHandler) [with MaskedImageT = lsst::afw::image::MaskedImage&lt;float&gt;]\n",
       "    Object too close to edge {0}\n",
       "lsst::meas::base::MeasurementError: &#x27;Object too close to edge&#x27;\n",
       "</pre>"
      ],
      "text/plain": [
       "<IPython.core.display.HTML object>"
      ]
     },
     "metadata": {},
     "output_type": "display_data"
    },
    {
     "data": {
      "text/html": [
       "<pre style=\"margin: 0.1em;\n",
       "padding-left: 0.25em;\n",
       "border-left-style: solid;\n",
       "font-family: var(--jp-code-font-family);\n",
       "font-size: var(--jp-code-font-size);\n",
       "line-height: var(--jp-code-line-height);\n",
       "\"><span style=\"color: var(--jp-warn-color2)\">timer.lsst.characterizeImage.measurement</span> <span style=\"color: var(--jp-success-color0)\">DEBUG</span>: runEndCpuTime=175.836553109; runEndUserTime=161.172807; runEndSystemTime=14.663723; runEndMaxResidentSetSize=1135128576; runEndMinorPageFaults=8727246; runEndMajorPageFaults=14; runEndBlockInputs=4543808; runEndBlockOutputs=2936; runEndVoluntaryContextSwitches=134721; runEndInvoluntaryContextSwitches=64412</pre>"
      ],
      "text/plain": [
       "<IPython.core.display.HTML object>"
      ]
     },
     "metadata": {},
     "output_type": "display_data"
    },
    {
     "data": {
      "text/html": [
       "<pre style=\"margin: 0.1em;\n",
       "padding-left: 0.25em;\n",
       "border-left-style: solid;\n",
       "font-family: var(--jp-code-font-family);\n",
       "font-size: var(--jp-code-font-size);\n",
       "line-height: var(--jp-code-line-height);\n",
       "\"><span style=\"color: var(--jp-warn-color2)\">timer.lsst.characterizeImage.measurePsf</span> <span style=\"color: var(--jp-success-color0)\">DEBUG</span>: runStartCpuTime=175.837765381; runStartUserTime=161.174016; runStartSystemTime=14.663742; runStartMaxResidentSetSize=1135128576; runStartMinorPageFaults=8727246; runStartMajorPageFaults=14; runStartBlockInputs=4543808; runStartBlockOutputs=2936; runStartVoluntaryContextSwitches=134738; runStartInvoluntaryContextSwitches=64412</pre>"
      ],
      "text/plain": [
       "<IPython.core.display.HTML object>"
      ]
     },
     "metadata": {},
     "output_type": "display_data"
    },
    {
     "data": {
      "text/html": [
       "<pre style=\"margin: 0.1em;\n",
       "padding-left: 0.25em;\n",
       "border-left-style: solid;\n",
       "font-family: var(--jp-code-font-family);\n",
       "font-size: var(--jp-code-font-size);\n",
       "line-height: var(--jp-code-line-height);\n",
       "\"><span style=\"color: var(--jp-warn-color2)\">lsst.characterizeImage.measurePsf</span> <span style=\"color: var(--jp-info-color0)\">INFO</span>: Measuring PSF</pre>"
      ],
      "text/plain": [
       "<IPython.core.display.HTML object>"
      ]
     },
     "metadata": {},
     "output_type": "display_data"
    },
    {
     "data": {
      "text/html": [
       "<pre style=\"margin: 0.1em;\n",
       "padding-left: 0.25em;\n",
       "border-left-style: solid;\n",
       "font-family: var(--jp-code-font-family);\n",
       "font-size: var(--jp-code-font-size);\n",
       "line-height: var(--jp-code-line-height);\n",
       "\"><span style=\"color: var(--jp-warn-color2)\">lsst.characterizeImage.measurePsf</span> <span style=\"color: var(--jp-info-color0)\">INFO</span>: PSF star selector found 38 candidates</pre>"
      ],
      "text/plain": [
       "<IPython.core.display.HTML object>"
      ]
     },
     "metadata": {},
     "output_type": "display_data"
    },
    {
     "data": {
      "text/html": [
       "<pre style=\"margin: 0.1em;\n",
       "padding-left: 0.25em;\n",
       "border-left-style: solid;\n",
       "font-family: var(--jp-code-font-family);\n",
       "font-size: var(--jp-code-font-size);\n",
       "line-height: var(--jp-code-line-height);\n",
       "\"><span style=\"color: var(--jp-warn-color2)\">lsst.characterizeImage.measurePsf.reserve</span> <span style=\"color: var(--jp-info-color0)\">INFO</span>: Reserved 0/38 sources</pre>"
      ],
      "text/plain": [
       "<IPython.core.display.HTML object>"
      ]
     },
     "metadata": {},
     "output_type": "display_data"
    },
    {
     "data": {
      "text/html": [
       "<pre style=\"margin: 0.1em;\n",
       "padding-left: 0.25em;\n",
       "border-left-style: solid;\n",
       "font-family: var(--jp-code-font-family);\n",
       "font-size: var(--jp-code-font-size);\n",
       "line-height: var(--jp-code-line-height);\n",
       "\"><span style=\"color: var(--jp-warn-color2)\">lsst.characterizeImage.measurePsf</span> <span style=\"color: var(--jp-info-color0)\">INFO</span>: Sending 38 candidates to PSF determiner</pre>"
      ],
      "text/plain": [
       "<IPython.core.display.HTML object>"
      ]
     },
     "metadata": {},
     "output_type": "display_data"
    },
    {
     "data": {
      "text/html": [
       "<pre style=\"margin: 0.1em;\n",
       "padding-left: 0.25em;\n",
       "border-left-style: solid;\n",
       "font-family: var(--jp-code-font-family);\n",
       "font-size: var(--jp-code-font-size);\n",
       "line-height: var(--jp-code-line-height);\n",
       "\"><span style=\"color: var(--jp-warn-color2)\">lsst.characterizeImage.measurePsf.psfDeterminer</span> <span style=\"color: var(--jp-warn-color0)\">WARNING</span>: NOT scaling kernelSize by stellar quadrupole moment, but using absolute value</pre>"
      ],
      "text/plain": [
       "<IPython.core.display.HTML object>"
      ]
     },
     "metadata": {},
     "output_type": "display_data"
    },
    {
     "data": {
      "text/html": [
       "<pre style=\"margin: 0.1em;\n",
       "padding-left: 0.25em;\n",
       "border-left-style: solid;\n",
       "font-family: var(--jp-code-font-family);\n",
       "font-size: var(--jp-code-font-size);\n",
       "line-height: var(--jp-code-line-height);\n",
       "\"><span style=\"color: var(--jp-warn-color2)\">lsst.characterizeImage.measurePsf</span> <span style=\"color: var(--jp-info-color0)\">INFO</span>: PSF determination using 27/38 stars.</pre>"
      ],
      "text/plain": [
       "<IPython.core.display.HTML object>"
      ]
     },
     "metadata": {},
     "output_type": "display_data"
    },
    {
     "data": {
      "text/html": [
       "<pre style=\"margin: 0.1em;\n",
       "padding-left: 0.25em;\n",
       "border-left-style: solid;\n",
       "font-family: var(--jp-code-font-family);\n",
       "font-size: var(--jp-code-font-size);\n",
       "line-height: var(--jp-code-line-height);\n",
       "\"><span style=\"color: var(--jp-warn-color2)\">timer.lsst.characterizeImage.measurePsf</span> <span style=\"color: var(--jp-success-color0)\">DEBUG</span>: runEndCpuTime=176.517640157; runEndUserTime=161.815827; runEndSystemTime=14.701791; runEndMaxResidentSetSize=1135128576; runEndMinorPageFaults=8751347; runEndMajorPageFaults=14; runEndBlockInputs=4543808; runEndBlockOutputs=2936; runEndVoluntaryContextSwitches=135019; runEndInvoluntaryContextSwitches=64413</pre>"
      ],
      "text/plain": [
       "<IPython.core.display.HTML object>"
      ]
     },
     "metadata": {},
     "output_type": "display_data"
    },
    {
     "data": {
      "text/html": [
       "<pre style=\"margin: 0.1em;\n",
       "padding-left: 0.25em;\n",
       "border-left-style: solid;\n",
       "font-family: var(--jp-code-font-family);\n",
       "font-size: var(--jp-code-font-size);\n",
       "line-height: var(--jp-code-line-height);\n",
       "\"><span style=\"color: var(--jp-warn-color2)\">timer.lsst.characterizeImage</span> <span style=\"color: var(--jp-success-color0)\">DEBUG</span>: detectMeasureAndEstimatePsfEndCpuTime=176.51861692; detectMeasureAndEstimatePsfEndUserTime=161.816819; detectMeasureAndEstimatePsfEndSystemTime=14.701791; detectMeasureAndEstimatePsfEndMaxResidentSetSize=1135128576; detectMeasureAndEstimatePsfEndMinorPageFaults=8751347; detectMeasureAndEstimatePsfEndMajorPageFaults=14; detectMeasureAndEstimatePsfEndBlockInputs=4543808; detectMeasureAndEstimatePsfEndBlockOutputs=2936; detectMeasureAndEstimatePsfEndVoluntaryContextSwitches=135038; detectMeasureAndEstimatePsfEndInvoluntaryContextSwitches=64413</pre>"
      ],
      "text/plain": [
       "<IPython.core.display.HTML object>"
      ]
     },
     "metadata": {},
     "output_type": "display_data"
    },
    {
     "data": {
      "text/html": [
       "<pre style=\"margin: 0.1em;\n",
       "padding-left: 0.25em;\n",
       "border-left-style: solid;\n",
       "font-family: var(--jp-code-font-family);\n",
       "font-size: var(--jp-code-font-size);\n",
       "line-height: var(--jp-code-line-height);\n",
       "\"><span style=\"color: var(--jp-warn-color2)\">lsst.characterizeImage</span> <span style=\"color: var(--jp-info-color0)\">INFO</span>: iter 1; PSF sigma=6.47, dimensions=(41, 41); median background=6.04</pre>"
      ],
      "text/plain": [
       "<IPython.core.display.HTML object>"
      ]
     },
     "metadata": {},
     "output_type": "display_data"
    },
    {
     "data": {
      "text/html": [
       "<pre style=\"margin: 0.1em;\n",
       "padding-left: 0.25em;\n",
       "border-left-style: solid;\n",
       "font-family: var(--jp-code-font-family);\n",
       "font-size: var(--jp-code-font-size);\n",
       "line-height: var(--jp-code-line-height);\n",
       "\"><span style=\"color: var(--jp-warn-color2)\">timer.lsst.characterizeImage.repair</span> <span style=\"color: var(--jp-success-color0)\">DEBUG</span>: runStartCpuTime=176.75004902; runStartUserTime=161.99633; runStartSystemTime=14.753698; runStartMaxResidentSetSize=1135128576; runStartMinorPageFaults=8799068; runStartMajorPageFaults=14; runStartBlockInputs=4543808; runStartBlockOutputs=2936; runStartVoluntaryContextSwitches=135116; runStartInvoluntaryContextSwitches=64413</pre>"
      ],
      "text/plain": [
       "<IPython.core.display.HTML object>"
      ]
     },
     "metadata": {},
     "output_type": "display_data"
    },
    {
     "data": {
      "text/html": [
       "<pre style=\"margin: 0.1em;\n",
       "padding-left: 0.25em;\n",
       "border-left-style: solid;\n",
       "font-family: var(--jp-code-font-family);\n",
       "font-size: var(--jp-code-font-size);\n",
       "line-height: var(--jp-code-line-height);\n",
       "\"><span style=\"color: var(--jp-warn-color2)\">lsst.characterizeImage.repair</span> <span style=\"color: var(--jp-info-color0)\">INFO</span>: Identified 4 cosmic rays.</pre>"
      ],
      "text/plain": [
       "<IPython.core.display.HTML object>"
      ]
     },
     "metadata": {},
     "output_type": "display_data"
    },
    {
     "data": {
      "text/html": [
       "<pre style=\"margin: 0.1em;\n",
       "padding-left: 0.25em;\n",
       "border-left-style: solid;\n",
       "font-family: var(--jp-code-font-family);\n",
       "font-size: var(--jp-code-font-size);\n",
       "line-height: var(--jp-code-line-height);\n",
       "\"><span style=\"color: var(--jp-warn-color2)\">timer.lsst.characterizeImage.repair</span> <span style=\"color: var(--jp-success-color0)\">DEBUG</span>: runEndCpuTime=177.265196755; runEndUserTime=162.473387; runEndSystemTime=14.791788; runEndMaxResidentSetSize=1135128576; runEndMinorPageFaults=8823168; runEndMajorPageFaults=14; runEndBlockInputs=4543808; runEndBlockOutputs=2936; runEndVoluntaryContextSwitches=135266; runEndInvoluntaryContextSwitches=64414</pre>"
      ],
      "text/plain": [
       "<IPython.core.display.HTML object>"
      ]
     },
     "metadata": {},
     "output_type": "display_data"
    },
    {
     "data": {
      "text/html": [
       "<pre style=\"margin: 0.1em;\n",
       "padding-left: 0.25em;\n",
       "border-left-style: solid;\n",
       "font-family: var(--jp-code-font-family);\n",
       "font-size: var(--jp-code-font-size);\n",
       "line-height: var(--jp-code-line-height);\n",
       "\"><span style=\"color: var(--jp-warn-color2)\">timer.lsst.characterizeImage.measurement</span> <span style=\"color: var(--jp-success-color0)\">DEBUG</span>: runStartCpuTime=177.266262801; runStartUserTime=162.473461; runStartSystemTime=14.792796; runStartMaxResidentSetSize=1135128576; runStartMinorPageFaults=8823168; runStartMajorPageFaults=14; runStartBlockInputs=4543808; runStartBlockOutputs=2936; runStartVoluntaryContextSwitches=135293; runStartInvoluntaryContextSwitches=64414</pre>"
      ],
      "text/plain": [
       "<IPython.core.display.HTML object>"
      ]
     },
     "metadata": {},
     "output_type": "display_data"
    },
    {
     "data": {
      "text/html": [
       "<pre style=\"margin: 0.1em;\n",
       "padding-left: 0.25em;\n",
       "border-left-style: solid;\n",
       "font-family: var(--jp-code-font-family);\n",
       "font-size: var(--jp-code-font-size);\n",
       "line-height: var(--jp-code-line-height);\n",
       "\"><span style=\"color: var(--jp-warn-color2)\">lsst.characterizeImage.measurement</span> <span style=\"color: var(--jp-success-color0)\">DEBUG</span>: Mask plane &quot;THISDET&quot;: plane 10, bitmask 1024 = 0x400</pre>"
      ],
      "text/plain": [
       "<IPython.core.display.HTML object>"
      ]
     },
     "metadata": {},
     "output_type": "display_data"
    },
    {
     "data": {
      "text/html": [
       "<pre style=\"margin: 0.1em;\n",
       "padding-left: 0.25em;\n",
       "border-left-style: solid;\n",
       "font-family: var(--jp-code-font-family);\n",
       "font-size: var(--jp-code-font-size);\n",
       "line-height: var(--jp-code-line-height);\n",
       "\"><span style=\"color: var(--jp-warn-color2)\">lsst.characterizeImage.measurement</span> <span style=\"color: var(--jp-success-color0)\">DEBUG</span>: Mask plane &quot;OTHERDET&quot;: plane 11, bitmask 2048 = 0x800</pre>"
      ],
      "text/plain": [
       "<IPython.core.display.HTML object>"
      ]
     },
     "metadata": {},
     "output_type": "display_data"
    },
    {
     "data": {
      "text/html": [
       "<pre style=\"margin: 0.1em;\n",
       "padding-left: 0.25em;\n",
       "border-left-style: solid;\n",
       "font-family: var(--jp-code-font-family);\n",
       "font-size: var(--jp-code-font-size);\n",
       "line-height: var(--jp-code-line-height);\n",
       "\"><span style=\"color: var(--jp-warn-color2)\">lsst.characterizeImage.measurement</span> <span style=\"color: var(--jp-success-color0)\">DEBUG</span>: Measured from image: clipped mean = 0.11222, stdev = 9.34573</pre>"
      ],
      "text/plain": [
       "<IPython.core.display.HTML object>"
      ]
     },
     "metadata": {},
     "output_type": "display_data"
    },
    {
     "data": {
      "text/html": [
       "<pre style=\"margin: 0.1em;\n",
       "padding-left: 0.25em;\n",
       "border-left-style: solid;\n",
       "font-family: var(--jp-code-font-family);\n",
       "font-size: var(--jp-code-font-size);\n",
       "line-height: var(--jp-code-line-height);\n",
       "\"><span style=\"color: var(--jp-warn-color2)\">lsst.characterizeImage.measurement</span> <span style=\"color: var(--jp-success-color0)\">DEBUG</span>: Using noise generator: FixedGaussianNoiseGenerator: mean=0.11222, std=9.34573</pre>"
      ],
      "text/plain": [
       "<IPython.core.display.HTML object>"
      ]
     },
     "metadata": {},
     "output_type": "display_data"
    },
    {
     "data": {
      "text/html": [
       "<pre style=\"margin: 0.1em;\n",
       "padding-left: 0.25em;\n",
       "border-left-style: solid;\n",
       "font-family: var(--jp-code-font-family);\n",
       "font-size: var(--jp-code-font-size);\n",
       "line-height: var(--jp-code-line-height);\n",
       "\"><span style=\"color: var(--jp-warn-color2)\">lsst.characterizeImage.measurement</span> <span style=\"color: var(--jp-info-color0)\">INFO</span>: Measuring 79 sources (79 parents, 0 children) </pre>"
      ],
      "text/plain": [
       "<IPython.core.display.HTML object>"
      ]
     },
     "metadata": {},
     "output_type": "display_data"
    },
    {
     "data": {
      "text/html": [
       "<pre style=\"margin: 0.1em;\n",
       "padding-left: 0.25em;\n",
       "border-left-style: solid;\n",
       "font-family: var(--jp-code-font-family);\n",
       "font-size: var(--jp-code-font-size);\n",
       "line-height: var(--jp-code-line-height);\n",
       "\"><span style=\"color: var(--jp-warn-color2)\">lsst.characterizeImage.measurement.base_SdssCentroid</span> <span style=\"color: var(--jp-success-color0)\">DEBUG</span>: MeasurementError in base_SdssCentroid.measure on record 79: \n",
       "  File &quot;src/SdssCentroid.cc&quot;, line 384, in std::pair&lt;MaskedImageT, double&gt; lsst::meas::base::{anonymous}::smoothAndBinImage(std::shared_ptr&lt;const lsst::afw::detection::Psf&gt;, int, int, const MaskedImageT&amp;, int, int, lsst::meas::base::FlagHandler) [with MaskedImageT = lsst::afw::image::MaskedImage&lt;float&gt;]\n",
       "    Object too close to edge {0}\n",
       "lsst::meas::base::MeasurementError: &#x27;Object too close to edge&#x27;\n",
       "</pre>"
      ],
      "text/plain": [
       "<IPython.core.display.HTML object>"
      ]
     },
     "metadata": {},
     "output_type": "display_data"
    },
    {
     "data": {
      "text/html": [
       "<pre style=\"margin: 0.1em;\n",
       "padding-left: 0.25em;\n",
       "border-left-style: solid;\n",
       "font-family: var(--jp-code-font-family);\n",
       "font-size: var(--jp-code-font-size);\n",
       "line-height: var(--jp-code-line-height);\n",
       "\"><span style=\"color: var(--jp-warn-color2)\">timer.lsst.characterizeImage.measurement</span> <span style=\"color: var(--jp-success-color0)\">DEBUG</span>: runEndCpuTime=178.037064827; runEndUserTime=163.210969; runEndSystemTime=14.826074; runEndMaxResidentSetSize=1135128576; runEndMinorPageFaults=8847270; runEndMajorPageFaults=14; runEndBlockInputs=4543808; runEndBlockOutputs=2936; runEndVoluntaryContextSwitches=135594; runEndInvoluntaryContextSwitches=64418</pre>"
      ],
      "text/plain": [
       "<IPython.core.display.HTML object>"
      ]
     },
     "metadata": {},
     "output_type": "display_data"
    },
    {
     "data": {
      "text/html": [
       "<pre style=\"margin: 0.1em;\n",
       "padding-left: 0.25em;\n",
       "border-left-style: solid;\n",
       "font-family: var(--jp-code-font-family);\n",
       "font-size: var(--jp-code-font-size);\n",
       "line-height: var(--jp-code-line-height);\n",
       "\"><span style=\"color: var(--jp-warn-color2)\">timer.lsst.characterizeImage.catalogCalculation</span> <span style=\"color: var(--jp-success-color0)\">DEBUG</span>: runStartCpuTime=178.038195376; runStartUserTime=163.212103; runStartSystemTime=14.826086; runStartMaxResidentSetSize=1135128576; runStartMinorPageFaults=8847270; runStartMajorPageFaults=14; runStartBlockInputs=4543808; runStartBlockOutputs=2936; runStartVoluntaryContextSwitches=135611; runStartInvoluntaryContextSwitches=64418</pre>"
      ],
      "text/plain": [
       "<IPython.core.display.HTML object>"
      ]
     },
     "metadata": {},
     "output_type": "display_data"
    },
    {
     "data": {
      "text/html": [
       "<pre style=\"margin: 0.1em;\n",
       "padding-left: 0.25em;\n",
       "border-left-style: solid;\n",
       "font-family: var(--jp-code-font-family);\n",
       "font-size: var(--jp-code-font-size);\n",
       "line-height: var(--jp-code-line-height);\n",
       "\"><span style=\"color: var(--jp-warn-color2)\">timer.lsst.characterizeImage.catalogCalculation</span> <span style=\"color: var(--jp-success-color0)\">DEBUG</span>: runEndCpuTime=178.040645857; runEndUserTime=163.214516; runEndSystemTime=14.826122999999999; runEndMaxResidentSetSize=1135128576; runEndMinorPageFaults=8847270; runEndMajorPageFaults=14; runEndBlockInputs=4543808; runEndBlockOutputs=2936; runEndVoluntaryContextSwitches=135630; runEndInvoluntaryContextSwitches=64418</pre>"
      ],
      "text/plain": [
       "<IPython.core.display.HTML object>"
      ]
     },
     "metadata": {},
     "output_type": "display_data"
    },
    {
     "data": {
      "text/html": [
       "<pre style=\"margin: 0.1em;\n",
       "padding-left: 0.25em;\n",
       "border-left-style: solid;\n",
       "font-family: var(--jp-code-font-family);\n",
       "font-size: var(--jp-code-font-size);\n",
       "line-height: var(--jp-code-line-height);\n",
       "\"><span style=\"color: var(--jp-warn-color2)\">timer.lsst.characterizeImage</span> <span style=\"color: var(--jp-success-color0)\">DEBUG</span>: runEndCpuTime=178.041502886; runEndUserTime=163.215374; runEndSystemTime=14.826122999999999; runEndMaxResidentSetSize=1135128576; runEndMinorPageFaults=8847270; runEndMajorPageFaults=14; runEndBlockInputs=4543808; runEndBlockOutputs=2936; runEndVoluntaryContextSwitches=135654; runEndInvoluntaryContextSwitches=64418</pre>"
      ],
      "text/plain": [
       "<IPython.core.display.HTML object>"
      ]
     },
     "metadata": {},
     "output_type": "display_data"
    },
    {
     "name": "stdout",
     "output_type": "stream",
     "text": [
      "Psf shape from imChar task (x,y) = (1.417, 1.499) FWHM arcsec\n",
      "{'day_obs': 20220526, 'seq_num': 141, 'detector': 0, 'instrument': 'LATISS'}\n"
     ]
    },
    {
     "data": {
      "text/html": [
       "<pre style=\"margin: 0.1em;\n",
       "padding-left: 0.25em;\n",
       "border-left-style: solid;\n",
       "font-family: var(--jp-code-font-family);\n",
       "font-size: var(--jp-code-font-size);\n",
       "line-height: var(--jp-code-line-height);\n",
       "\"><span style=\"color: var(--jp-warn-color2)\">lsst.daf.butler._butler</span> <span style=\"color: var(--jp-success-color0)\">DEBUG</span>: Butler get: quickLookExp, dataId={&#x27;day_obs&#x27;: 20220526, &#x27;seq_num&#x27;: 141, &#x27;detector&#x27;: 0, &#x27;instrument&#x27;: &#x27;LATISS&#x27;}, parameters=None</pre>"
      ],
      "text/plain": [
       "<IPython.core.display.HTML object>"
      ]
     },
     "metadata": {},
     "output_type": "display_data"
    },
    {
     "data": {
      "text/html": [
       "<pre style=\"margin: 0.1em;\n",
       "padding-left: 0.25em;\n",
       "border-left-style: solid;\n",
       "font-family: var(--jp-code-font-family);\n",
       "font-size: var(--jp-code-font-size);\n",
       "line-height: var(--jp-code-line-height);\n",
       "\"><span style=\"color: var(--jp-warn-color2)\">lsst.daf.butler._butler</span> <span style=\"color: var(--jp-success-color0)\">DEBUG</span>: Assigned non-dimension dataId keys to dimension exposure: {&#x27;day_obs&#x27;: 20220526, &#x27;seq_num&#x27;: 141}</pre>"
      ],
      "text/plain": [
       "<IPython.core.display.HTML object>"
      ]
     },
     "metadata": {},
     "output_type": "display_data"
    },
    {
     "data": {
      "text/html": [
       "<pre style=\"margin: 0.1em;\n",
       "padding-left: 0.25em;\n",
       "border-left-style: solid;\n",
       "font-family: var(--jp-code-font-family);\n",
       "font-size: var(--jp-code-font-size);\n",
       "line-height: var(--jp-code-line-height);\n",
       "\"><span style=\"color: var(--jp-warn-color2)\">lsst.daf.butler.datastores.fileDatastore</span> <span style=\"color: var(--jp-success-color0)\">DEBUG</span>: Retrieve quickLookExp@{instrument: &#x27;LATISS&#x27;, detector: 0, exposure: 2022052600141}, sc=ExposureF] (id=b30ddb93-ea8f-49c7-861e-aff1d1c783c1) from FileDatastore@&lt;butlerRoot&gt; with parameters None</pre>"
      ],
      "text/plain": [
       "<IPython.core.display.HTML object>"
      ]
     },
     "metadata": {},
     "output_type": "display_data"
    },
    {
     "data": {
      "text/html": [
       "<pre style=\"margin: 0.1em;\n",
       "padding-left: 0.25em;\n",
       "border-left-style: solid;\n",
       "font-family: var(--jp-code-font-family);\n",
       "font-size: var(--jp-code-font-size);\n",
       "line-height: var(--jp-code-line-height);\n",
       "\"><span style=\"color: var(--jp-warn-color2)\">lsst.daf.butler.datastores.fileDatastore</span> <span style=\"color: var(--jp-success-color0)\">DEBUG</span>: Accessing data from file:///repo/LATISS/LATISS/runs/quickLook/1/quickLookExp/20220526/AT_O_20220526_000141/quickLookExp_LATISS_SDSSr~empty_AT_O_20220526_000141_RXX_S00_LATISS_runs_quickLook_1.fits</pre>"
      ],
      "text/plain": [
       "<IPython.core.display.HTML object>"
      ]
     },
     "metadata": {},
     "output_type": "display_data"
    },
    {
     "data": {
      "text/html": [
       "<pre style=\"margin: 0.1em;\n",
       "padding-left: 0.25em;\n",
       "border-left-style: solid;\n",
       "font-family: var(--jp-code-font-family);\n",
       "font-size: var(--jp-code-font-size);\n",
       "line-height: var(--jp-code-line-height);\n",
       "\"><span style=\"color: var(--jp-warn-color2)\">lsst.daf.butler.datastores.fileDatastore</span> <span style=\"color: var(--jp-success-color0)\">DEBUG</span>: Reading from location file:///repo/LATISS/LATISS/runs/quickLook/1/quickLookExp/20220526/AT_O_20220526_000141/quickLookExp_LATISS_SDSSr~empty_AT_O_20220526_000141_RXX_S00_LATISS_runs_quickLook_1.fits  with formatter lsst.obs.base.formatters.fitsExposure.FitsExposureFormatter</pre>"
      ],
      "text/plain": [
       "<IPython.core.display.HTML object>"
      ]
     },
     "metadata": {},
     "output_type": "display_data"
    },
    {
     "data": {
      "text/html": [
       "<pre style=\"margin: 0.1em;\n",
       "padding-left: 0.25em;\n",
       "border-left-style: solid;\n",
       "font-family: var(--jp-code-font-family);\n",
       "font-size: var(--jp-code-font-size);\n",
       "line-height: var(--jp-code-line-height);\n",
       "\"><span style=\"color: var(--jp-warn-color2)\">timer.lsst.daf.butler.datastores.fileDatastore</span> <span style=\"color: var(--jp-success-color0)\">DEBUG</span>: Reading from location file:///repo/LATISS/LATISS/runs/quickLook/1/quickLookExp/20220526/AT_O_20220526_000141/quickLookExp_LATISS_SDSSr~empty_AT_O_20220526_000141_RXX_S00_LATISS_runs_quickLook_1.fits  with formatter lsst.obs.base.formatters.fitsExposure.FitsExposureFormatter: Took 0.9512 seconds</pre>"
      ],
      "text/plain": [
       "<IPython.core.display.HTML object>"
      ]
     },
     "metadata": {},
     "output_type": "display_data"
    },
    {
     "data": {
      "text/html": [
       "<pre style=\"margin: 0.1em;\n",
       "padding-left: 0.25em;\n",
       "border-left-style: solid;\n",
       "font-family: var(--jp-code-font-family);\n",
       "font-size: var(--jp-code-font-size);\n",
       "line-height: var(--jp-code-line-height);\n",
       "\"><span style=\"color: var(--jp-warn-color2)\">lsst.summit.utils.bestEffort</span> <span style=\"color: var(--jp-info-color0)\">INFO</span>: Found a ready-made quickLookExp in the repo. Returning that.</pre>"
      ],
      "text/plain": [
       "<IPython.core.display.HTML object>"
      ]
     },
     "metadata": {},
     "output_type": "display_data"
    },
    {
     "data": {
      "text/html": [
       "<pre style=\"margin: 0.1em;\n",
       "padding-left: 0.25em;\n",
       "border-left-style: solid;\n",
       "font-family: var(--jp-code-font-family);\n",
       "font-size: var(--jp-code-font-size);\n",
       "line-height: var(--jp-code-line-height);\n",
       "\"><span style=\"color: var(--jp-warn-color2)\">timer.lsst.characterizeImage</span> <span style=\"color: var(--jp-success-color0)\">DEBUG</span>: runStartCpuTime=179.023941313; runStartUserTime=164.086403; runStartSystemTime=14.937516; runStartMaxResidentSetSize=1135128576; runStartMinorPageFaults=8895352; runStartMajorPageFaults=14; runStartBlockInputs=4805240; runStartBlockOutputs=2936; runStartVoluntaryContextSwitches=137560; runStartInvoluntaryContextSwitches=64430</pre>"
      ],
      "text/plain": [
       "<IPython.core.display.HTML object>"
      ]
     },
     "metadata": {},
     "output_type": "display_data"
    },
    {
     "data": {
      "text/html": [
       "<pre style=\"margin: 0.1em;\n",
       "padding-left: 0.25em;\n",
       "border-left-style: solid;\n",
       "font-family: var(--jp-code-font-family);\n",
       "font-size: var(--jp-code-font-size);\n",
       "line-height: var(--jp-code-line-height);\n",
       "\"><span style=\"color: var(--jp-warn-color2)\">lsst.characterizeImage.background</span> <span style=\"color: var(--jp-success-color0)\">DEBUG</span>: Ignoring mask planes: BAD, EDGE, DETECTED, DETECTED_NEGATIVE, NO_DATA</pre>"
      ],
      "text/plain": [
       "<IPython.core.display.HTML object>"
      ]
     },
     "metadata": {},
     "output_type": "display_data"
    },
    {
     "data": {
      "text/html": [
       "<pre style=\"margin: 0.1em;\n",
       "padding-left: 0.25em;\n",
       "border-left-style: solid;\n",
       "font-family: var(--jp-code-font-family);\n",
       "font-size: var(--jp-code-font-size);\n",
       "line-height: var(--jp-code-line-height);\n",
       "\"><span style=\"color: var(--jp-warn-color2)\">timer.lsst.characterizeImage</span> <span style=\"color: var(--jp-success-color0)\">DEBUG</span>: detectMeasureAndEstimatePsfStartCpuTime=179.701609485; detectMeasureAndEstimatePsfStartUserTime=164.712018; detectMeasureAndEstimatePsfStartSystemTime=14.989566; detectMeasureAndEstimatePsfStartMaxResidentSetSize=1135128576; detectMeasureAndEstimatePsfStartMinorPageFaults=8943073; detectMeasureAndEstimatePsfStartMajorPageFaults=14; detectMeasureAndEstimatePsfStartBlockInputs=4805240; detectMeasureAndEstimatePsfStartBlockOutputs=2936; detectMeasureAndEstimatePsfStartVoluntaryContextSwitches=137596; detectMeasureAndEstimatePsfStartInvoluntaryContextSwitches=64434</pre>"
      ],
      "text/plain": [
       "<IPython.core.display.HTML object>"
      ]
     },
     "metadata": {},
     "output_type": "display_data"
    },
    {
     "data": {
      "text/html": [
       "<pre style=\"margin: 0.1em;\n",
       "padding-left: 0.25em;\n",
       "border-left-style: solid;\n",
       "font-family: var(--jp-code-font-family);\n",
       "font-size: var(--jp-code-font-size);\n",
       "line-height: var(--jp-code-line-height);\n",
       "\"><span style=\"color: var(--jp-warn-color2)\">lsst.characterizeImage</span> <span style=\"color: var(--jp-info-color0)\">INFO</span>: PSF estimation initialized with &#x27;simple&#x27; PSF</pre>"
      ],
      "text/plain": [
       "<IPython.core.display.HTML object>"
      ]
     },
     "metadata": {},
     "output_type": "display_data"
    },
    {
     "data": {
      "text/html": [
       "<pre style=\"margin: 0.1em;\n",
       "padding-left: 0.25em;\n",
       "border-left-style: solid;\n",
       "font-family: var(--jp-code-font-family);\n",
       "font-size: var(--jp-code-font-size);\n",
       "line-height: var(--jp-code-line-height);\n",
       "\"><span style=\"color: var(--jp-warn-color2)\">lsst.characterizeImage.installSimplePsf</span> <span style=\"color: var(--jp-success-color0)\">DEBUG</span>: installing a simple Gaussian PSF model with width=61, height=61, FWHM=15.000</pre>"
      ],
      "text/plain": [
       "<IPython.core.display.HTML object>"
      ]
     },
     "metadata": {},
     "output_type": "display_data"
    },
    {
     "data": {
      "text/html": [
       "<pre style=\"margin: 0.1em;\n",
       "padding-left: 0.25em;\n",
       "border-left-style: solid;\n",
       "font-family: var(--jp-code-font-family);\n",
       "font-size: var(--jp-code-font-size);\n",
       "line-height: var(--jp-code-line-height);\n",
       "\"><span style=\"color: var(--jp-warn-color2)\">timer.lsst.characterizeImage.repair</span> <span style=\"color: var(--jp-success-color0)\">DEBUG</span>: runStartCpuTime=179.70439989; runStartUserTime=164.713758; runStartSystemTime=14.990635; runStartMaxResidentSetSize=1135128576; runStartMinorPageFaults=8943073; runStartMajorPageFaults=14; runStartBlockInputs=4805240; runStartBlockOutputs=2936; runStartVoluntaryContextSwitches=137655; runStartInvoluntaryContextSwitches=64434</pre>"
      ],
      "text/plain": [
       "<IPython.core.display.HTML object>"
      ]
     },
     "metadata": {},
     "output_type": "display_data"
    },
    {
     "data": {
      "text/html": [
       "<pre style=\"margin: 0.1em;\n",
       "padding-left: 0.25em;\n",
       "border-left-style: solid;\n",
       "font-family: var(--jp-code-font-family);\n",
       "font-size: var(--jp-code-font-size);\n",
       "line-height: var(--jp-code-line-height);\n",
       "\"><span style=\"color: var(--jp-warn-color2)\">lsst.characterizeImage.repair</span> <span style=\"color: var(--jp-info-color0)\">INFO</span>: Identified 3 cosmic rays.</pre>"
      ],
      "text/plain": [
       "<IPython.core.display.HTML object>"
      ]
     },
     "metadata": {},
     "output_type": "display_data"
    },
    {
     "data": {
      "text/html": [
       "<pre style=\"margin: 0.1em;\n",
       "padding-left: 0.25em;\n",
       "border-left-style: solid;\n",
       "font-family: var(--jp-code-font-family);\n",
       "font-size: var(--jp-code-font-size);\n",
       "line-height: var(--jp-code-line-height);\n",
       "\"><span style=\"color: var(--jp-warn-color2)\">timer.lsst.characterizeImage.repair</span> <span style=\"color: var(--jp-success-color0)\">DEBUG</span>: runEndCpuTime=180.204769106; runEndUserTime=165.183263; runEndSystemTime=15.021484; runEndMaxResidentSetSize=1135128576; runEndMinorPageFaults=8967173; runEndMajorPageFaults=14; runEndBlockInputs=4805240; runEndBlockOutputs=2936; runEndVoluntaryContextSwitches=137808; runEndInvoluntaryContextSwitches=64437</pre>"
      ],
      "text/plain": [
       "<IPython.core.display.HTML object>"
      ]
     },
     "metadata": {},
     "output_type": "display_data"
    },
    {
     "data": {
      "text/html": [
       "<pre style=\"margin: 0.1em;\n",
       "padding-left: 0.25em;\n",
       "border-left-style: solid;\n",
       "font-family: var(--jp-code-font-family);\n",
       "font-size: var(--jp-code-font-size);\n",
       "line-height: var(--jp-code-line-height);\n",
       "\"><span style=\"color: var(--jp-warn-color2)\">timer.lsst.characterizeImage.detection</span> <span style=\"color: var(--jp-success-color0)\">DEBUG</span>: runStartCpuTime=180.205881774; runStartUserTime=165.184381; runStartSystemTime=15.021495; runStartMaxResidentSetSize=1135128576; runStartMinorPageFaults=8967173; runStartMajorPageFaults=14; runStartBlockInputs=4805240; runStartBlockOutputs=2936; runStartVoluntaryContextSwitches=137827; runStartInvoluntaryContextSwitches=64437</pre>"
      ],
      "text/plain": [
       "<IPython.core.display.HTML object>"
      ]
     },
     "metadata": {},
     "output_type": "display_data"
    },
    {
     "data": {
      "text/html": [
       "<pre style=\"margin: 0.1em;\n",
       "padding-left: 0.25em;\n",
       "border-left-style: solid;\n",
       "font-family: var(--jp-code-font-family);\n",
       "font-size: var(--jp-code-font-size);\n",
       "line-height: var(--jp-code-line-height);\n",
       "\"><span style=\"color: var(--jp-warn-color2)\">timer.lsst.characterizeImage.detection</span> <span style=\"color: var(--jp-success-color0)\">DEBUG</span>: detectFootprintsStartCpuTime=180.206698792; detectFootprintsStartUserTime=165.18513; detectFootprintsStartSystemTime=15.021563; detectFootprintsStartMaxResidentSetSize=1135128576; detectFootprintsStartMinorPageFaults=8967173; detectFootprintsStartMajorPageFaults=14; detectFootprintsStartBlockInputs=4805240; detectFootprintsStartBlockOutputs=2936; detectFootprintsStartVoluntaryContextSwitches=137851; detectFootprintsStartInvoluntaryContextSwitches=64437</pre>"
      ],
      "text/plain": [
       "<IPython.core.display.HTML object>"
      ]
     },
     "metadata": {},
     "output_type": "display_data"
    },
    {
     "data": {
      "text/html": [
       "<pre style=\"margin: 0.1em;\n",
       "padding-left: 0.25em;\n",
       "border-left-style: solid;\n",
       "font-family: var(--jp-code-font-family);\n",
       "font-size: var(--jp-code-font-size);\n",
       "line-height: var(--jp-code-line-height);\n",
       "\"><span style=\"color: var(--jp-warn-color2)\">lsst.characterizeImage.detection</span> <span style=\"color: var(--jp-success-color0)\">DEBUG</span>: Detection threshold: VALUE value=3.1328869 (positive) multiplier=5</pre>"
      ],
      "text/plain": [
       "<IPython.core.display.HTML object>"
      ]
     },
     "metadata": {},
     "output_type": "display_data"
    },
    {
     "data": {
      "text/html": [
       "<pre style=\"margin: 0.1em;\n",
       "padding-left: 0.25em;\n",
       "border-left-style: solid;\n",
       "font-family: var(--jp-code-font-family);\n",
       "font-size: var(--jp-code-font-size);\n",
       "line-height: var(--jp-code-line-height);\n",
       "\"><span style=\"color: var(--jp-warn-color2)\">lsst.characterizeImage.detection</span> <span style=\"color: var(--jp-success-color0)\">DEBUG</span>: Detection threshold: VALUE value=3.1328869 (negative) multiplier=5</pre>"
      ],
      "text/plain": [
       "<IPython.core.display.HTML object>"
      ]
     },
     "metadata": {},
     "output_type": "display_data"
    },
    {
     "data": {
      "text/html": [
       "<pre style=\"margin: 0.1em;\n",
       "padding-left: 0.25em;\n",
       "border-left-style: solid;\n",
       "font-family: var(--jp-code-font-family);\n",
       "font-size: var(--jp-code-font-size);\n",
       "line-height: var(--jp-code-line-height);\n",
       "\"><span style=\"color: var(--jp-warn-color2)\">lsst.characterizeImage.detection</span> <span style=\"color: var(--jp-info-color0)\">INFO</span>: Detected 103 positive peaks in 83 footprints and 4 negative peaks in 4 footprints to 25 sigma</pre>"
      ],
      "text/plain": [
       "<IPython.core.display.HTML object>"
      ]
     },
     "metadata": {},
     "output_type": "display_data"
    },
    {
     "data": {
      "text/html": [
       "<pre style=\"margin: 0.1em;\n",
       "padding-left: 0.25em;\n",
       "border-left-style: solid;\n",
       "font-family: var(--jp-code-font-family);\n",
       "font-size: var(--jp-code-font-size);\n",
       "line-height: var(--jp-code-line-height);\n",
       "\"><span style=\"color: var(--jp-warn-color2)\">lsst.characterizeImage.detection.background</span> <span style=\"color: var(--jp-success-color0)\">DEBUG</span>: Ignoring mask planes: BAD, EDGE, DETECTED, DETECTED_NEGATIVE, NO_DATA</pre>"
      ],
      "text/plain": [
       "<IPython.core.display.HTML object>"
      ]
     },
     "metadata": {},
     "output_type": "display_data"
    },
    {
     "data": {
      "text/html": [
       "<pre style=\"margin: 0.1em;\n",
       "padding-left: 0.25em;\n",
       "border-left-style: solid;\n",
       "font-family: var(--jp-code-font-family);\n",
       "font-size: var(--jp-code-font-size);\n",
       "line-height: var(--jp-code-line-height);\n",
       "\"><span style=\"color: var(--jp-warn-color2)\">lsst.characterizeImage.detection</span> <span style=\"color: var(--jp-info-color0)\">INFO</span>: Resubtracting the background after object detection</pre>"
      ],
      "text/plain": [
       "<IPython.core.display.HTML object>"
      ]
     },
     "metadata": {},
     "output_type": "display_data"
    },
    {
     "data": {
      "text/html": [
       "<pre style=\"margin: 0.1em;\n",
       "padding-left: 0.25em;\n",
       "border-left-style: solid;\n",
       "font-family: var(--jp-code-font-family);\n",
       "font-size: var(--jp-code-font-size);\n",
       "line-height: var(--jp-code-line-height);\n",
       "\"><span style=\"color: var(--jp-warn-color2)\">timer.lsst.characterizeImage.detection</span> <span style=\"color: var(--jp-success-color0)\">DEBUG</span>: detectFootprintsEndCpuTime=183.705988533; detectFootprintsEndUserTime=168.506352; detectFootprintsEndSystemTime=15.199613; detectFootprintsEndMaxResidentSetSize=1136570368; detectFootprintsEndMinorPageFaults=9157338; detectFootprintsEndMajorPageFaults=14; detectFootprintsEndBlockInputs=4805240; detectFootprintsEndBlockOutputs=2936; detectFootprintsEndVoluntaryContextSwitches=138619; detectFootprintsEndInvoluntaryContextSwitches=64441</pre>"
      ],
      "text/plain": [
       "<IPython.core.display.HTML object>"
      ]
     },
     "metadata": {},
     "output_type": "display_data"
    },
    {
     "data": {
      "text/html": [
       "<pre style=\"margin: 0.1em;\n",
       "padding-left: 0.25em;\n",
       "border-left-style: solid;\n",
       "font-family: var(--jp-code-font-family);\n",
       "font-size: var(--jp-code-font-size);\n",
       "line-height: var(--jp-code-line-height);\n",
       "\"><span style=\"color: var(--jp-warn-color2)\">timer.lsst.characterizeImage.detection</span> <span style=\"color: var(--jp-success-color0)\">DEBUG</span>: runEndCpuTime=183.707346947; runEndUserTime=168.507697; runEndSystemTime=15.199644; runEndMaxResidentSetSize=1136570368; runEndMinorPageFaults=9157338; runEndMajorPageFaults=14; runEndBlockInputs=4805240; runEndBlockOutputs=2936; runEndVoluntaryContextSwitches=138638; runEndInvoluntaryContextSwitches=64441</pre>"
      ],
      "text/plain": [
       "<IPython.core.display.HTML object>"
      ]
     },
     "metadata": {},
     "output_type": "display_data"
    },
    {
     "data": {
      "text/html": [
       "<pre style=\"margin: 0.1em;\n",
       "padding-left: 0.25em;\n",
       "border-left-style: solid;\n",
       "font-family: var(--jp-code-font-family);\n",
       "font-size: var(--jp-code-font-size);\n",
       "line-height: var(--jp-code-line-height);\n",
       "\"><span style=\"color: var(--jp-warn-color2)\">timer.lsst.characterizeImage.measurement</span> <span style=\"color: var(--jp-success-color0)\">DEBUG</span>: runStartCpuTime=183.708183918; runStartUserTime=168.508534; runStartSystemTime=15.199644; runStartMaxResidentSetSize=1136570368; runStartMinorPageFaults=9157338; runStartMajorPageFaults=14; runStartBlockInputs=4805240; runStartBlockOutputs=2936; runStartVoluntaryContextSwitches=138657; runStartInvoluntaryContextSwitches=64441</pre>"
      ],
      "text/plain": [
       "<IPython.core.display.HTML object>"
      ]
     },
     "metadata": {},
     "output_type": "display_data"
    },
    {
     "data": {
      "text/html": [
       "<pre style=\"margin: 0.1em;\n",
       "padding-left: 0.25em;\n",
       "border-left-style: solid;\n",
       "font-family: var(--jp-code-font-family);\n",
       "font-size: var(--jp-code-font-size);\n",
       "line-height: var(--jp-code-line-height);\n",
       "\"><span style=\"color: var(--jp-warn-color2)\">lsst.characterizeImage.measurement</span> <span style=\"color: var(--jp-success-color0)\">DEBUG</span>: Mask plane &quot;THISDET&quot;: plane 10, bitmask 1024 = 0x400</pre>"
      ],
      "text/plain": [
       "<IPython.core.display.HTML object>"
      ]
     },
     "metadata": {},
     "output_type": "display_data"
    },
    {
     "data": {
      "text/html": [
       "<pre style=\"margin: 0.1em;\n",
       "padding-left: 0.25em;\n",
       "border-left-style: solid;\n",
       "font-family: var(--jp-code-font-family);\n",
       "font-size: var(--jp-code-font-size);\n",
       "line-height: var(--jp-code-line-height);\n",
       "\"><span style=\"color: var(--jp-warn-color2)\">lsst.characterizeImage.measurement</span> <span style=\"color: var(--jp-success-color0)\">DEBUG</span>: Mask plane &quot;OTHERDET&quot;: plane 11, bitmask 2048 = 0x800</pre>"
      ],
      "text/plain": [
       "<IPython.core.display.HTML object>"
      ]
     },
     "metadata": {},
     "output_type": "display_data"
    },
    {
     "data": {
      "text/html": [
       "<pre style=\"margin: 0.1em;\n",
       "padding-left: 0.25em;\n",
       "border-left-style: solid;\n",
       "font-family: var(--jp-code-font-family);\n",
       "font-size: var(--jp-code-font-size);\n",
       "line-height: var(--jp-code-line-height);\n",
       "\"><span style=\"color: var(--jp-warn-color2)\">lsst.characterizeImage.measurement</span> <span style=\"color: var(--jp-success-color0)\">DEBUG</span>: Measured from image: clipped mean = 0.108555, stdev = 9.34939</pre>"
      ],
      "text/plain": [
       "<IPython.core.display.HTML object>"
      ]
     },
     "metadata": {},
     "output_type": "display_data"
    },
    {
     "data": {
      "text/html": [
       "<pre style=\"margin: 0.1em;\n",
       "padding-left: 0.25em;\n",
       "border-left-style: solid;\n",
       "font-family: var(--jp-code-font-family);\n",
       "font-size: var(--jp-code-font-size);\n",
       "line-height: var(--jp-code-line-height);\n",
       "\"><span style=\"color: var(--jp-warn-color2)\">lsst.characterizeImage.measurement</span> <span style=\"color: var(--jp-success-color0)\">DEBUG</span>: Using noise generator: FixedGaussianNoiseGenerator: mean=0.108555, std=9.34939</pre>"
      ],
      "text/plain": [
       "<IPython.core.display.HTML object>"
      ]
     },
     "metadata": {},
     "output_type": "display_data"
    },
    {
     "data": {
      "text/html": [
       "<pre style=\"margin: 0.1em;\n",
       "padding-left: 0.25em;\n",
       "border-left-style: solid;\n",
       "font-family: var(--jp-code-font-family);\n",
       "font-size: var(--jp-code-font-size);\n",
       "line-height: var(--jp-code-line-height);\n",
       "\"><span style=\"color: var(--jp-warn-color2)\">lsst.characterizeImage.measurement</span> <span style=\"color: var(--jp-info-color0)\">INFO</span>: Measuring 83 sources (83 parents, 0 children) </pre>"
      ],
      "text/plain": [
       "<IPython.core.display.HTML object>"
      ]
     },
     "metadata": {},
     "output_type": "display_data"
    },
    {
     "data": {
      "text/html": [
       "<pre style=\"margin: 0.1em;\n",
       "padding-left: 0.25em;\n",
       "border-left-style: solid;\n",
       "font-family: var(--jp-code-font-family);\n",
       "font-size: var(--jp-code-font-size);\n",
       "line-height: var(--jp-code-line-height);\n",
       "\"><span style=\"color: var(--jp-warn-color2)\">lsst.characterizeImage.measurement.base_GaussianFlux</span> <span style=\"color: var(--jp-success-color0)\">DEBUG</span>: MeasurementError in base_GaussianFlux.measure on record 18: \n",
       "  File &quot;src/InputUtilities.cc&quot;, line 179, in lsst::afw::geom::ellipses::Quadrupole lsst::meas::base::SafeShapeExtractor::operator()(lsst::afw::table::SourceRecord&amp;, const lsst::meas::base::FlagHandler&amp;) const\n",
       "    base_GaussianFlux: Shape needed, and Shape slot measurement failed. {0}\n",
       "lsst::meas::base::MeasurementError: &#x27;base_GaussianFlux: Shape needed, and Shape slot measurement failed.&#x27;\n",
       "</pre>"
      ],
      "text/plain": [
       "<IPython.core.display.HTML object>"
      ]
     },
     "metadata": {},
     "output_type": "display_data"
    },
    {
     "data": {
      "text/html": [
       "<pre style=\"margin: 0.1em;\n",
       "padding-left: 0.25em;\n",
       "border-left-style: solid;\n",
       "font-family: var(--jp-code-font-family);\n",
       "font-size: var(--jp-code-font-size);\n",
       "line-height: var(--jp-code-line-height);\n",
       "\"><span style=\"color: var(--jp-warn-color2)\">lsst.characterizeImage.measurement.base_GaussianFlux</span> <span style=\"color: var(--jp-success-color0)\">DEBUG</span>: MeasurementError in base_GaussianFlux.measure on record 82: \n",
       "  File &quot;src/InputUtilities.cc&quot;, line 179, in lsst::afw::geom::ellipses::Quadrupole lsst::meas::base::SafeShapeExtractor::operator()(lsst::afw::table::SourceRecord&amp;, const lsst::meas::base::FlagHandler&amp;) const\n",
       "    base_GaussianFlux: Shape needed, and Shape slot measurement failed. {0}\n",
       "lsst::meas::base::MeasurementError: &#x27;base_GaussianFlux: Shape needed, and Shape slot measurement failed.&#x27;\n",
       "</pre>"
      ],
      "text/plain": [
       "<IPython.core.display.HTML object>"
      ]
     },
     "metadata": {},
     "output_type": "display_data"
    },
    {
     "data": {
      "text/html": [
       "<pre style=\"margin: 0.1em;\n",
       "padding-left: 0.25em;\n",
       "border-left-style: solid;\n",
       "font-family: var(--jp-code-font-family);\n",
       "font-size: var(--jp-code-font-size);\n",
       "line-height: var(--jp-code-line-height);\n",
       "\"><span style=\"color: var(--jp-warn-color2)\">lsst.characterizeImage.measurement.base_SdssCentroid</span> <span style=\"color: var(--jp-success-color0)\">DEBUG</span>: MeasurementError in base_SdssCentroid.measure on record 83: \n",
       "  File &quot;src/SdssCentroid.cc&quot;, line 384, in std::pair&lt;MaskedImageT, double&gt; lsst::meas::base::{anonymous}::smoothAndBinImage(std::shared_ptr&lt;const lsst::afw::detection::Psf&gt;, int, int, const MaskedImageT&amp;, int, int, lsst::meas::base::FlagHandler) [with MaskedImageT = lsst::afw::image::MaskedImage&lt;float&gt;]\n",
       "    Object too close to edge {0}\n",
       "lsst::meas::base::MeasurementError: &#x27;Object too close to edge&#x27;\n",
       "</pre>"
      ],
      "text/plain": [
       "<IPython.core.display.HTML object>"
      ]
     },
     "metadata": {},
     "output_type": "display_data"
    },
    {
     "data": {
      "text/html": [
       "<pre style=\"margin: 0.1em;\n",
       "padding-left: 0.25em;\n",
       "border-left-style: solid;\n",
       "font-family: var(--jp-code-font-family);\n",
       "font-size: var(--jp-code-font-size);\n",
       "line-height: var(--jp-code-line-height);\n",
       "\"><span style=\"color: var(--jp-warn-color2)\">timer.lsst.characterizeImage.measurement</span> <span style=\"color: var(--jp-success-color0)\">DEBUG</span>: runEndCpuTime=184.40570629; runEndUserTime=169.176965; runEndSystemTime=15.22872; runEndMaxResidentSetSize=1136570368; runEndMinorPageFaults=9181438; runEndMajorPageFaults=14; runEndBlockInputs=4805240; runEndBlockOutputs=2936; runEndVoluntaryContextSwitches=139010; runEndInvoluntaryContextSwitches=64441</pre>"
      ],
      "text/plain": [
       "<IPython.core.display.HTML object>"
      ]
     },
     "metadata": {},
     "output_type": "display_data"
    },
    {
     "data": {
      "text/html": [
       "<pre style=\"margin: 0.1em;\n",
       "padding-left: 0.25em;\n",
       "border-left-style: solid;\n",
       "font-family: var(--jp-code-font-family);\n",
       "font-size: var(--jp-code-font-size);\n",
       "line-height: var(--jp-code-line-height);\n",
       "\"><span style=\"color: var(--jp-warn-color2)\">timer.lsst.characterizeImage.measurePsf</span> <span style=\"color: var(--jp-success-color0)\">DEBUG</span>: runStartCpuTime=184.406863588; runStartUserTime=169.177205; runStartSystemTime=15.229653; runStartMaxResidentSetSize=1136570368; runStartMinorPageFaults=9181438; runStartMajorPageFaults=14; runStartBlockInputs=4805240; runStartBlockOutputs=2936; runStartVoluntaryContextSwitches=139031; runStartInvoluntaryContextSwitches=64441</pre>"
      ],
      "text/plain": [
       "<IPython.core.display.HTML object>"
      ]
     },
     "metadata": {},
     "output_type": "display_data"
    },
    {
     "data": {
      "text/html": [
       "<pre style=\"margin: 0.1em;\n",
       "padding-left: 0.25em;\n",
       "border-left-style: solid;\n",
       "font-family: var(--jp-code-font-family);\n",
       "font-size: var(--jp-code-font-size);\n",
       "line-height: var(--jp-code-line-height);\n",
       "\"><span style=\"color: var(--jp-warn-color2)\">lsst.characterizeImage.measurePsf</span> <span style=\"color: var(--jp-info-color0)\">INFO</span>: Measuring PSF</pre>"
      ],
      "text/plain": [
       "<IPython.core.display.HTML object>"
      ]
     },
     "metadata": {},
     "output_type": "display_data"
    },
    {
     "data": {
      "text/html": [
       "<pre style=\"margin: 0.1em;\n",
       "padding-left: 0.25em;\n",
       "border-left-style: solid;\n",
       "font-family: var(--jp-code-font-family);\n",
       "font-size: var(--jp-code-font-size);\n",
       "line-height: var(--jp-code-line-height);\n",
       "\"><span style=\"color: var(--jp-warn-color2)\">lsst.characterizeImage.measurePsf</span> <span style=\"color: var(--jp-info-color0)\">INFO</span>: PSF star selector found 39 candidates</pre>"
      ],
      "text/plain": [
       "<IPython.core.display.HTML object>"
      ]
     },
     "metadata": {},
     "output_type": "display_data"
    },
    {
     "data": {
      "text/html": [
       "<pre style=\"margin: 0.1em;\n",
       "padding-left: 0.25em;\n",
       "border-left-style: solid;\n",
       "font-family: var(--jp-code-font-family);\n",
       "font-size: var(--jp-code-font-size);\n",
       "line-height: var(--jp-code-line-height);\n",
       "\"><span style=\"color: var(--jp-warn-color2)\">lsst.characterizeImage.measurePsf.reserve</span> <span style=\"color: var(--jp-info-color0)\">INFO</span>: Reserved 0/39 sources</pre>"
      ],
      "text/plain": [
       "<IPython.core.display.HTML object>"
      ]
     },
     "metadata": {},
     "output_type": "display_data"
    },
    {
     "data": {
      "text/html": [
       "<pre style=\"margin: 0.1em;\n",
       "padding-left: 0.25em;\n",
       "border-left-style: solid;\n",
       "font-family: var(--jp-code-font-family);\n",
       "font-size: var(--jp-code-font-size);\n",
       "line-height: var(--jp-code-line-height);\n",
       "\"><span style=\"color: var(--jp-warn-color2)\">lsst.characterizeImage.measurePsf</span> <span style=\"color: var(--jp-info-color0)\">INFO</span>: Sending 39 candidates to PSF determiner</pre>"
      ],
      "text/plain": [
       "<IPython.core.display.HTML object>"
      ]
     },
     "metadata": {},
     "output_type": "display_data"
    },
    {
     "data": {
      "text/html": [
       "<pre style=\"margin: 0.1em;\n",
       "padding-left: 0.25em;\n",
       "border-left-style: solid;\n",
       "font-family: var(--jp-code-font-family);\n",
       "font-size: var(--jp-code-font-size);\n",
       "line-height: var(--jp-code-line-height);\n",
       "\"><span style=\"color: var(--jp-warn-color2)\">lsst.characterizeImage.measurePsf.psfDeterminer</span> <span style=\"color: var(--jp-warn-color0)\">WARNING</span>: NOT scaling kernelSize by stellar quadrupole moment, but using absolute value</pre>"
      ],
      "text/plain": [
       "<IPython.core.display.HTML object>"
      ]
     },
     "metadata": {},
     "output_type": "display_data"
    },
    {
     "data": {
      "text/html": [
       "<pre style=\"margin: 0.1em;\n",
       "padding-left: 0.25em;\n",
       "border-left-style: solid;\n",
       "font-family: var(--jp-code-font-family);\n",
       "font-size: var(--jp-code-font-size);\n",
       "line-height: var(--jp-code-line-height);\n",
       "\"><span style=\"color: var(--jp-warn-color2)\">lsst.characterizeImage.measurePsf</span> <span style=\"color: var(--jp-info-color0)\">INFO</span>: PSF determination using 28/39 stars.</pre>"
      ],
      "text/plain": [
       "<IPython.core.display.HTML object>"
      ]
     },
     "metadata": {},
     "output_type": "display_data"
    },
    {
     "data": {
      "text/html": [
       "<pre style=\"margin: 0.1em;\n",
       "padding-left: 0.25em;\n",
       "border-left-style: solid;\n",
       "font-family: var(--jp-code-font-family);\n",
       "font-size: var(--jp-code-font-size);\n",
       "line-height: var(--jp-code-line-height);\n",
       "\"><span style=\"color: var(--jp-warn-color2)\">timer.lsst.characterizeImage.measurePsf</span> <span style=\"color: var(--jp-success-color0)\">DEBUG</span>: runEndCpuTime=185.060199473; runEndUserTime=169.80153; runEndSystemTime=15.258649; runEndMaxResidentSetSize=1136570368; runEndMinorPageFaults=9205539; runEndMajorPageFaults=14; runEndBlockInputs=4805240; runEndBlockOutputs=2936; runEndVoluntaryContextSwitches=139312; runEndInvoluntaryContextSwitches=64442</pre>"
      ],
      "text/plain": [
       "<IPython.core.display.HTML object>"
      ]
     },
     "metadata": {},
     "output_type": "display_data"
    },
    {
     "data": {
      "text/html": [
       "<pre style=\"margin: 0.1em;\n",
       "padding-left: 0.25em;\n",
       "border-left-style: solid;\n",
       "font-family: var(--jp-code-font-family);\n",
       "font-size: var(--jp-code-font-size);\n",
       "line-height: var(--jp-code-line-height);\n",
       "\"><span style=\"color: var(--jp-warn-color2)\">timer.lsst.characterizeImage</span> <span style=\"color: var(--jp-success-color0)\">DEBUG</span>: detectMeasureAndEstimatePsfEndCpuTime=185.061147264; detectMeasureAndEstimatePsfEndUserTime=169.802493; detectMeasureAndEstimatePsfEndSystemTime=15.258649; detectMeasureAndEstimatePsfEndMaxResidentSetSize=1136570368; detectMeasureAndEstimatePsfEndMinorPageFaults=9205539; detectMeasureAndEstimatePsfEndMajorPageFaults=14; detectMeasureAndEstimatePsfEndBlockInputs=4805240; detectMeasureAndEstimatePsfEndBlockOutputs=2936; detectMeasureAndEstimatePsfEndVoluntaryContextSwitches=139331; detectMeasureAndEstimatePsfEndInvoluntaryContextSwitches=64442</pre>"
      ],
      "text/plain": [
       "<IPython.core.display.HTML object>"
      ]
     },
     "metadata": {},
     "output_type": "display_data"
    },
    {
     "data": {
      "text/html": [
       "<pre style=\"margin: 0.1em;\n",
       "padding-left: 0.25em;\n",
       "border-left-style: solid;\n",
       "font-family: var(--jp-code-font-family);\n",
       "font-size: var(--jp-code-font-size);\n",
       "line-height: var(--jp-code-line-height);\n",
       "\"><span style=\"color: var(--jp-warn-color2)\">lsst.characterizeImage</span> <span style=\"color: var(--jp-info-color0)\">INFO</span>: iter 1; PSF sigma=6.31, dimensions=(41, 41); median background=6.04</pre>"
      ],
      "text/plain": [
       "<IPython.core.display.HTML object>"
      ]
     },
     "metadata": {},
     "output_type": "display_data"
    },
    {
     "data": {
      "text/html": [
       "<pre style=\"margin: 0.1em;\n",
       "padding-left: 0.25em;\n",
       "border-left-style: solid;\n",
       "font-family: var(--jp-code-font-family);\n",
       "font-size: var(--jp-code-font-size);\n",
       "line-height: var(--jp-code-line-height);\n",
       "\"><span style=\"color: var(--jp-warn-color2)\">timer.lsst.characterizeImage.repair</span> <span style=\"color: var(--jp-success-color0)\">DEBUG</span>: runStartCpuTime=185.272605299; runStartUserTime=169.967867; runStartSystemTime=15.304717; runStartMaxResidentSetSize=1136570368; runStartMinorPageFaults=9253260; runStartMajorPageFaults=14; runStartBlockInputs=4805240; runStartBlockOutputs=2936; runStartVoluntaryContextSwitches=139409; runStartInvoluntaryContextSwitches=64442</pre>"
      ],
      "text/plain": [
       "<IPython.core.display.HTML object>"
      ]
     },
     "metadata": {},
     "output_type": "display_data"
    },
    {
     "data": {
      "text/html": [
       "<pre style=\"margin: 0.1em;\n",
       "padding-left: 0.25em;\n",
       "border-left-style: solid;\n",
       "font-family: var(--jp-code-font-family);\n",
       "font-size: var(--jp-code-font-size);\n",
       "line-height: var(--jp-code-line-height);\n",
       "\"><span style=\"color: var(--jp-warn-color2)\">lsst.characterizeImage.repair</span> <span style=\"color: var(--jp-info-color0)\">INFO</span>: Identified 3 cosmic rays.</pre>"
      ],
      "text/plain": [
       "<IPython.core.display.HTML object>"
      ]
     },
     "metadata": {},
     "output_type": "display_data"
    },
    {
     "data": {
      "text/html": [
       "<pre style=\"margin: 0.1em;\n",
       "padding-left: 0.25em;\n",
       "border-left-style: solid;\n",
       "font-family: var(--jp-code-font-family);\n",
       "font-size: var(--jp-code-font-size);\n",
       "line-height: var(--jp-code-line-height);\n",
       "\"><span style=\"color: var(--jp-warn-color2)\">timer.lsst.characterizeImage.repair</span> <span style=\"color: var(--jp-success-color0)\">DEBUG</span>: runEndCpuTime=185.76745089; runEndUserTime=170.437826; runEndSystemTime=15.329602; runEndMaxResidentSetSize=1136570368; runEndMinorPageFaults=9277360; runEndMajorPageFaults=14; runEndBlockInputs=4805240; runEndBlockOutputs=2936; runEndVoluntaryContextSwitches=139548; runEndInvoluntaryContextSwitches=64444</pre>"
      ],
      "text/plain": [
       "<IPython.core.display.HTML object>"
      ]
     },
     "metadata": {},
     "output_type": "display_data"
    },
    {
     "data": {
      "text/html": [
       "<pre style=\"margin: 0.1em;\n",
       "padding-left: 0.25em;\n",
       "border-left-style: solid;\n",
       "font-family: var(--jp-code-font-family);\n",
       "font-size: var(--jp-code-font-size);\n",
       "line-height: var(--jp-code-line-height);\n",
       "\"><span style=\"color: var(--jp-warn-color2)\">timer.lsst.characterizeImage.measurement</span> <span style=\"color: var(--jp-success-color0)\">DEBUG</span>: runStartCpuTime=185.76830367; runStartUserTime=170.438696; runStartSystemTime=15.329602; runStartMaxResidentSetSize=1136570368; runStartMinorPageFaults=9277360; runStartMajorPageFaults=14; runStartBlockInputs=4805240; runStartBlockOutputs=2936; runStartVoluntaryContextSwitches=139567; runStartInvoluntaryContextSwitches=64444</pre>"
      ],
      "text/plain": [
       "<IPython.core.display.HTML object>"
      ]
     },
     "metadata": {},
     "output_type": "display_data"
    },
    {
     "data": {
      "text/html": [
       "<pre style=\"margin: 0.1em;\n",
       "padding-left: 0.25em;\n",
       "border-left-style: solid;\n",
       "font-family: var(--jp-code-font-family);\n",
       "font-size: var(--jp-code-font-size);\n",
       "line-height: var(--jp-code-line-height);\n",
       "\"><span style=\"color: var(--jp-warn-color2)\">lsst.characterizeImage.measurement</span> <span style=\"color: var(--jp-success-color0)\">DEBUG</span>: Mask plane &quot;THISDET&quot;: plane 10, bitmask 1024 = 0x400</pre>"
      ],
      "text/plain": [
       "<IPython.core.display.HTML object>"
      ]
     },
     "metadata": {},
     "output_type": "display_data"
    },
    {
     "data": {
      "text/html": [
       "<pre style=\"margin: 0.1em;\n",
       "padding-left: 0.25em;\n",
       "border-left-style: solid;\n",
       "font-family: var(--jp-code-font-family);\n",
       "font-size: var(--jp-code-font-size);\n",
       "line-height: var(--jp-code-line-height);\n",
       "\"><span style=\"color: var(--jp-warn-color2)\">lsst.characterizeImage.measurement</span> <span style=\"color: var(--jp-success-color0)\">DEBUG</span>: Mask plane &quot;OTHERDET&quot;: plane 11, bitmask 2048 = 0x800</pre>"
      ],
      "text/plain": [
       "<IPython.core.display.HTML object>"
      ]
     },
     "metadata": {},
     "output_type": "display_data"
    },
    {
     "data": {
      "text/html": [
       "<pre style=\"margin: 0.1em;\n",
       "padding-left: 0.25em;\n",
       "border-left-style: solid;\n",
       "font-family: var(--jp-code-font-family);\n",
       "font-size: var(--jp-code-font-size);\n",
       "line-height: var(--jp-code-line-height);\n",
       "\"><span style=\"color: var(--jp-warn-color2)\">lsst.characterizeImage.measurement</span> <span style=\"color: var(--jp-success-color0)\">DEBUG</span>: Measured from image: clipped mean = 0.108554, stdev = 9.34939</pre>"
      ],
      "text/plain": [
       "<IPython.core.display.HTML object>"
      ]
     },
     "metadata": {},
     "output_type": "display_data"
    },
    {
     "data": {
      "text/html": [
       "<pre style=\"margin: 0.1em;\n",
       "padding-left: 0.25em;\n",
       "border-left-style: solid;\n",
       "font-family: var(--jp-code-font-family);\n",
       "font-size: var(--jp-code-font-size);\n",
       "line-height: var(--jp-code-line-height);\n",
       "\"><span style=\"color: var(--jp-warn-color2)\">lsst.characterizeImage.measurement</span> <span style=\"color: var(--jp-success-color0)\">DEBUG</span>: Using noise generator: FixedGaussianNoiseGenerator: mean=0.108554, std=9.34939</pre>"
      ],
      "text/plain": [
       "<IPython.core.display.HTML object>"
      ]
     },
     "metadata": {},
     "output_type": "display_data"
    },
    {
     "data": {
      "text/html": [
       "<pre style=\"margin: 0.1em;\n",
       "padding-left: 0.25em;\n",
       "border-left-style: solid;\n",
       "font-family: var(--jp-code-font-family);\n",
       "font-size: var(--jp-code-font-size);\n",
       "line-height: var(--jp-code-line-height);\n",
       "\"><span style=\"color: var(--jp-warn-color2)\">lsst.characterizeImage.measurement</span> <span style=\"color: var(--jp-info-color0)\">INFO</span>: Measuring 83 sources (83 parents, 0 children) </pre>"
      ],
      "text/plain": [
       "<IPython.core.display.HTML object>"
      ]
     },
     "metadata": {},
     "output_type": "display_data"
    },
    {
     "data": {
      "text/html": [
       "<pre style=\"margin: 0.1em;\n",
       "padding-left: 0.25em;\n",
       "border-left-style: solid;\n",
       "font-family: var(--jp-code-font-family);\n",
       "font-size: var(--jp-code-font-size);\n",
       "line-height: var(--jp-code-line-height);\n",
       "\"><span style=\"color: var(--jp-warn-color2)\">lsst.characterizeImage.measurement.base_SdssCentroid</span> <span style=\"color: var(--jp-success-color0)\">DEBUG</span>: MeasurementError in base_SdssCentroid.measure on record 41: \n",
       "  File &quot;src/SdssCentroid.cc&quot;, line 276, in void lsst::meas::base::{anonymous}::doMeasureCentroidImpl(double*, double*, double*, double*, double*, double*, double*, MaskedImageXy_locatorT, double, bool, lsst::meas::base::FlagHandler) [with MaskedImageXy_locatorT = lsst::afw::image::MaskedImage&lt;float&gt;::MaskedImageLocator&lt;boost::gil::memory_based_2d_locator&lt;boost::gil::memory_based_step_iterator&lt;boost::gil::pixel&lt;float, boost::gil::layout&lt;boost::mp11::mp_list&lt;boost::gil::gray_color_t&gt; &gt; &gt;*&gt; &gt;, boost::gil::memory_based_2d_locator&lt;boost::gil::memory_based_step_iterator&lt;boost::gil::pixel&lt;int, boost::gil::layout&lt;boost::mp11::mp_list&lt;boost::gil::gray_color_t&gt; &gt; &gt;*&gt; &gt;, boost::gil::memory_based_2d_locator&lt;boost::gil::memory_based_step_iterator&lt;boost::gil::pixel&lt;float, boost::gil::layout&lt;boost::mp11::mp_list&lt;boost::gil::gray_color_t&gt; &gt; &gt;*&gt; &gt; &gt;]\n",
       "    Vanishing second derivative: sx, d2x, sy, d2y = 0.018905 0.194413 -1.092947 0.092919 {0}\n",
       "lsst::meas::base::MeasurementError: &#x27;Vanishing second derivative: sx, d2x, sy, d2y = 0.018905 0.194413 -1.092947 0.092919&#x27;\n",
       "</pre>"
      ],
      "text/plain": [
       "<IPython.core.display.HTML object>"
      ]
     },
     "metadata": {},
     "output_type": "display_data"
    },
    {
     "data": {
      "text/html": [
       "<pre style=\"margin: 0.1em;\n",
       "padding-left: 0.25em;\n",
       "border-left-style: solid;\n",
       "font-family: var(--jp-code-font-family);\n",
       "font-size: var(--jp-code-font-size);\n",
       "line-height: var(--jp-code-line-height);\n",
       "\"><span style=\"color: var(--jp-warn-color2)\">lsst.characterizeImage.measurement.base_GaussianFlux</span> <span style=\"color: var(--jp-success-color0)\">DEBUG</span>: MeasurementError in base_GaussianFlux.measure on record 82: \n",
       "  File &quot;src/InputUtilities.cc&quot;, line 179, in lsst::afw::geom::ellipses::Quadrupole lsst::meas::base::SafeShapeExtractor::operator()(lsst::afw::table::SourceRecord&amp;, const lsst::meas::base::FlagHandler&amp;) const\n",
       "    base_GaussianFlux: Shape needed, and Shape slot measurement failed. {0}\n",
       "lsst::meas::base::MeasurementError: &#x27;base_GaussianFlux: Shape needed, and Shape slot measurement failed.&#x27;\n",
       "</pre>"
      ],
      "text/plain": [
       "<IPython.core.display.HTML object>"
      ]
     },
     "metadata": {},
     "output_type": "display_data"
    },
    {
     "data": {
      "text/html": [
       "<pre style=\"margin: 0.1em;\n",
       "padding-left: 0.25em;\n",
       "border-left-style: solid;\n",
       "font-family: var(--jp-code-font-family);\n",
       "font-size: var(--jp-code-font-size);\n",
       "line-height: var(--jp-code-line-height);\n",
       "\"><span style=\"color: var(--jp-warn-color2)\">lsst.characterizeImage.measurement.base_SdssCentroid</span> <span style=\"color: var(--jp-success-color0)\">DEBUG</span>: MeasurementError in base_SdssCentroid.measure on record 83: \n",
       "  File &quot;src/SdssCentroid.cc&quot;, line 384, in std::pair&lt;MaskedImageT, double&gt; lsst::meas::base::{anonymous}::smoothAndBinImage(std::shared_ptr&lt;const lsst::afw::detection::Psf&gt;, int, int, const MaskedImageT&amp;, int, int, lsst::meas::base::FlagHandler) [with MaskedImageT = lsst::afw::image::MaskedImage&lt;float&gt;]\n",
       "    Object too close to edge {0}\n",
       "lsst::meas::base::MeasurementError: &#x27;Object too close to edge&#x27;\n",
       "</pre>"
      ],
      "text/plain": [
       "<IPython.core.display.HTML object>"
      ]
     },
     "metadata": {},
     "output_type": "display_data"
    },
    {
     "data": {
      "text/html": [
       "<pre style=\"margin: 0.1em;\n",
       "padding-left: 0.25em;\n",
       "border-left-style: solid;\n",
       "font-family: var(--jp-code-font-family);\n",
       "font-size: var(--jp-code-font-size);\n",
       "line-height: var(--jp-code-line-height);\n",
       "\"><span style=\"color: var(--jp-warn-color2)\">timer.lsst.characterizeImage.measurement</span> <span style=\"color: var(--jp-success-color0)\">DEBUG</span>: runEndCpuTime=186.566864241; runEndUserTime=171.209169; runEndSystemTime=15.357673; runEndMaxResidentSetSize=1136570368; runEndMinorPageFaults=9301460; runEndMajorPageFaults=14; runEndBlockInputs=4805240; runEndBlockOutputs=2936; runEndVoluntaryContextSwitches=139959; runEndInvoluntaryContextSwitches=64445</pre>"
      ],
      "text/plain": [
       "<IPython.core.display.HTML object>"
      ]
     },
     "metadata": {},
     "output_type": "display_data"
    },
    {
     "data": {
      "text/html": [
       "<pre style=\"margin: 0.1em;\n",
       "padding-left: 0.25em;\n",
       "border-left-style: solid;\n",
       "font-family: var(--jp-code-font-family);\n",
       "font-size: var(--jp-code-font-size);\n",
       "line-height: var(--jp-code-line-height);\n",
       "\"><span style=\"color: var(--jp-warn-color2)\">timer.lsst.characterizeImage.catalogCalculation</span> <span style=\"color: var(--jp-success-color0)\">DEBUG</span>: runStartCpuTime=186.568075151; runStartUserTime=171.210378; runStartSystemTime=15.357690999999999; runStartMaxResidentSetSize=1136570368; runStartMinorPageFaults=9301460; runStartMajorPageFaults=14; runStartBlockInputs=4805240; runStartBlockOutputs=2936; runStartVoluntaryContextSwitches=139982; runStartInvoluntaryContextSwitches=64445</pre>"
      ],
      "text/plain": [
       "<IPython.core.display.HTML object>"
      ]
     },
     "metadata": {},
     "output_type": "display_data"
    },
    {
     "data": {
      "text/html": [
       "<pre style=\"margin: 0.1em;\n",
       "padding-left: 0.25em;\n",
       "border-left-style: solid;\n",
       "font-family: var(--jp-code-font-family);\n",
       "font-size: var(--jp-code-font-size);\n",
       "line-height: var(--jp-code-line-height);\n",
       "\"><span style=\"color: var(--jp-warn-color2)\">timer.lsst.characterizeImage.catalogCalculation</span> <span style=\"color: var(--jp-success-color0)\">DEBUG</span>: runEndCpuTime=186.570598619; runEndUserTime=171.211939; runEndSystemTime=15.358653; runEndMaxResidentSetSize=1136570368; runEndMinorPageFaults=9301460; runEndMajorPageFaults=14; runEndBlockInputs=4805240; runEndBlockOutputs=2936; runEndVoluntaryContextSwitches=140002; runEndInvoluntaryContextSwitches=64445</pre>"
      ],
      "text/plain": [
       "<IPython.core.display.HTML object>"
      ]
     },
     "metadata": {},
     "output_type": "display_data"
    },
    {
     "data": {
      "text/html": [
       "<pre style=\"margin: 0.1em;\n",
       "padding-left: 0.25em;\n",
       "border-left-style: solid;\n",
       "font-family: var(--jp-code-font-family);\n",
       "font-size: var(--jp-code-font-size);\n",
       "line-height: var(--jp-code-line-height);\n",
       "\"><span style=\"color: var(--jp-warn-color2)\">timer.lsst.characterizeImage</span> <span style=\"color: var(--jp-success-color0)\">DEBUG</span>: runEndCpuTime=186.571440387; runEndUserTime=171.212782; runEndSystemTime=15.358653; runEndMaxResidentSetSize=1136570368; runEndMinorPageFaults=9301460; runEndMajorPageFaults=14; runEndBlockInputs=4805240; runEndBlockOutputs=2936; runEndVoluntaryContextSwitches=140028; runEndInvoluntaryContextSwitches=64445</pre>"
      ],
      "text/plain": [
       "<IPython.core.display.HTML object>"
      ]
     },
     "metadata": {},
     "output_type": "display_data"
    },
    {
     "name": "stdout",
     "output_type": "stream",
     "text": [
      "Psf shape from imChar task (x,y) = (1.394, 1.454) FWHM arcsec\n",
      "{'day_obs': 20220526, 'seq_num': 142, 'detector': 0, 'instrument': 'LATISS'}\n"
     ]
    },
    {
     "data": {
      "text/html": [
       "<pre style=\"margin: 0.1em;\n",
       "padding-left: 0.25em;\n",
       "border-left-style: solid;\n",
       "font-family: var(--jp-code-font-family);\n",
       "font-size: var(--jp-code-font-size);\n",
       "line-height: var(--jp-code-line-height);\n",
       "\"><span style=\"color: var(--jp-warn-color2)\">lsst.daf.butler._butler</span> <span style=\"color: var(--jp-success-color0)\">DEBUG</span>: Butler get: quickLookExp, dataId={&#x27;day_obs&#x27;: 20220526, &#x27;seq_num&#x27;: 142, &#x27;detector&#x27;: 0, &#x27;instrument&#x27;: &#x27;LATISS&#x27;}, parameters=None</pre>"
      ],
      "text/plain": [
       "<IPython.core.display.HTML object>"
      ]
     },
     "metadata": {},
     "output_type": "display_data"
    },
    {
     "data": {
      "text/html": [
       "<pre style=\"margin: 0.1em;\n",
       "padding-left: 0.25em;\n",
       "border-left-style: solid;\n",
       "font-family: var(--jp-code-font-family);\n",
       "font-size: var(--jp-code-font-size);\n",
       "line-height: var(--jp-code-line-height);\n",
       "\"><span style=\"color: var(--jp-warn-color2)\">lsst.daf.butler._butler</span> <span style=\"color: var(--jp-success-color0)\">DEBUG</span>: Assigned non-dimension dataId keys to dimension exposure: {&#x27;day_obs&#x27;: 20220526, &#x27;seq_num&#x27;: 142}</pre>"
      ],
      "text/plain": [
       "<IPython.core.display.HTML object>"
      ]
     },
     "metadata": {},
     "output_type": "display_data"
    },
    {
     "data": {
      "text/html": [
       "<pre style=\"margin: 0.1em;\n",
       "padding-left: 0.25em;\n",
       "border-left-style: solid;\n",
       "font-family: var(--jp-code-font-family);\n",
       "font-size: var(--jp-code-font-size);\n",
       "line-height: var(--jp-code-line-height);\n",
       "\"><span style=\"color: var(--jp-warn-color2)\">lsst.daf.butler.datastores.fileDatastore</span> <span style=\"color: var(--jp-success-color0)\">DEBUG</span>: Retrieve quickLookExp@{instrument: &#x27;LATISS&#x27;, detector: 0, exposure: 2022052600142}, sc=ExposureF] (id=fbb438cf-2eae-476b-b601-0443a7b43b44) from FileDatastore@&lt;butlerRoot&gt; with parameters None</pre>"
      ],
      "text/plain": [
       "<IPython.core.display.HTML object>"
      ]
     },
     "metadata": {},
     "output_type": "display_data"
    },
    {
     "data": {
      "text/html": [
       "<pre style=\"margin: 0.1em;\n",
       "padding-left: 0.25em;\n",
       "border-left-style: solid;\n",
       "font-family: var(--jp-code-font-family);\n",
       "font-size: var(--jp-code-font-size);\n",
       "line-height: var(--jp-code-line-height);\n",
       "\"><span style=\"color: var(--jp-warn-color2)\">lsst.daf.butler.datastores.fileDatastore</span> <span style=\"color: var(--jp-success-color0)\">DEBUG</span>: Accessing data from file:///repo/LATISS/LATISS/runs/quickLook/1/quickLookExp/20220526/AT_O_20220526_000142/quickLookExp_LATISS_SDSSr~empty_AT_O_20220526_000142_RXX_S00_LATISS_runs_quickLook_1.fits</pre>"
      ],
      "text/plain": [
       "<IPython.core.display.HTML object>"
      ]
     },
     "metadata": {},
     "output_type": "display_data"
    },
    {
     "data": {
      "text/html": [
       "<pre style=\"margin: 0.1em;\n",
       "padding-left: 0.25em;\n",
       "border-left-style: solid;\n",
       "font-family: var(--jp-code-font-family);\n",
       "font-size: var(--jp-code-font-size);\n",
       "line-height: var(--jp-code-line-height);\n",
       "\"><span style=\"color: var(--jp-warn-color2)\">lsst.daf.butler.datastores.fileDatastore</span> <span style=\"color: var(--jp-success-color0)\">DEBUG</span>: Reading from location file:///repo/LATISS/LATISS/runs/quickLook/1/quickLookExp/20220526/AT_O_20220526_000142/quickLookExp_LATISS_SDSSr~empty_AT_O_20220526_000142_RXX_S00_LATISS_runs_quickLook_1.fits  with formatter lsst.obs.base.formatters.fitsExposure.FitsExposureFormatter</pre>"
      ],
      "text/plain": [
       "<IPython.core.display.HTML object>"
      ]
     },
     "metadata": {},
     "output_type": "display_data"
    },
    {
     "data": {
      "text/html": [
       "<pre style=\"margin: 0.1em;\n",
       "padding-left: 0.25em;\n",
       "border-left-style: solid;\n",
       "font-family: var(--jp-code-font-family);\n",
       "font-size: var(--jp-code-font-size);\n",
       "line-height: var(--jp-code-line-height);\n",
       "\"><span style=\"color: var(--jp-warn-color2)\">timer.lsst.daf.butler.datastores.fileDatastore</span> <span style=\"color: var(--jp-success-color0)\">DEBUG</span>: Reading from location file:///repo/LATISS/LATISS/runs/quickLook/1/quickLookExp/20220526/AT_O_20220526_000142/quickLookExp_LATISS_SDSSr~empty_AT_O_20220526_000142_RXX_S00_LATISS_runs_quickLook_1.fits  with formatter lsst.obs.base.formatters.fitsExposure.FitsExposureFormatter: Took 0.9108 seconds</pre>"
      ],
      "text/plain": [
       "<IPython.core.display.HTML object>"
      ]
     },
     "metadata": {},
     "output_type": "display_data"
    },
    {
     "data": {
      "text/html": [
       "<pre style=\"margin: 0.1em;\n",
       "padding-left: 0.25em;\n",
       "border-left-style: solid;\n",
       "font-family: var(--jp-code-font-family);\n",
       "font-size: var(--jp-code-font-size);\n",
       "line-height: var(--jp-code-line-height);\n",
       "\"><span style=\"color: var(--jp-warn-color2)\">lsst.summit.utils.bestEffort</span> <span style=\"color: var(--jp-info-color0)\">INFO</span>: Found a ready-made quickLookExp in the repo. Returning that.</pre>"
      ],
      "text/plain": [
       "<IPython.core.display.HTML object>"
      ]
     },
     "metadata": {},
     "output_type": "display_data"
    },
    {
     "data": {
      "text/html": [
       "<pre style=\"margin: 0.1em;\n",
       "padding-left: 0.25em;\n",
       "border-left-style: solid;\n",
       "font-family: var(--jp-code-font-family);\n",
       "font-size: var(--jp-code-font-size);\n",
       "line-height: var(--jp-code-line-height);\n",
       "\"><span style=\"color: var(--jp-warn-color2)\">timer.lsst.characterizeImage</span> <span style=\"color: var(--jp-success-color0)\">DEBUG</span>: runStartCpuTime=187.545858894; runStartUserTime=172.108836; runStartSystemTime=15.437; runStartMaxResidentSetSize=1136570368; runStartMinorPageFaults=9349537; runStartMajorPageFaults=14; runStartBlockInputs=5059800; runStartBlockOutputs=2936; runStartVoluntaryContextSwitches=141847; runStartInvoluntaryContextSwitches=64464</pre>"
      ],
      "text/plain": [
       "<IPython.core.display.HTML object>"
      ]
     },
     "metadata": {},
     "output_type": "display_data"
    },
    {
     "data": {
      "text/html": [
       "<pre style=\"margin: 0.1em;\n",
       "padding-left: 0.25em;\n",
       "border-left-style: solid;\n",
       "font-family: var(--jp-code-font-family);\n",
       "font-size: var(--jp-code-font-size);\n",
       "line-height: var(--jp-code-line-height);\n",
       "\"><span style=\"color: var(--jp-warn-color2)\">lsst.characterizeImage.background</span> <span style=\"color: var(--jp-success-color0)\">DEBUG</span>: Ignoring mask planes: BAD, EDGE, DETECTED, DETECTED_NEGATIVE, NO_DATA</pre>"
      ],
      "text/plain": [
       "<IPython.core.display.HTML object>"
      ]
     },
     "metadata": {},
     "output_type": "display_data"
    },
    {
     "data": {
      "text/html": [
       "<pre style=\"margin: 0.1em;\n",
       "padding-left: 0.25em;\n",
       "border-left-style: solid;\n",
       "font-family: var(--jp-code-font-family);\n",
       "font-size: var(--jp-code-font-size);\n",
       "line-height: var(--jp-code-line-height);\n",
       "\"><span style=\"color: var(--jp-warn-color2)\">timer.lsst.characterizeImage</span> <span style=\"color: var(--jp-success-color0)\">DEBUG</span>: detectMeasureAndEstimatePsfStartCpuTime=188.223880545; detectMeasureAndEstimatePsfStartUserTime=172.73586; detectMeasureAndEstimatePsfStartSystemTime=15.487996; detectMeasureAndEstimatePsfStartMaxResidentSetSize=1136570368; detectMeasureAndEstimatePsfStartMinorPageFaults=9397258; detectMeasureAndEstimatePsfStartMajorPageFaults=14; detectMeasureAndEstimatePsfStartBlockInputs=5059800; detectMeasureAndEstimatePsfStartBlockOutputs=2936; detectMeasureAndEstimatePsfStartVoluntaryContextSwitches=141883; detectMeasureAndEstimatePsfStartInvoluntaryContextSwitches=64465</pre>"
      ],
      "text/plain": [
       "<IPython.core.display.HTML object>"
      ]
     },
     "metadata": {},
     "output_type": "display_data"
    },
    {
     "data": {
      "text/html": [
       "<pre style=\"margin: 0.1em;\n",
       "padding-left: 0.25em;\n",
       "border-left-style: solid;\n",
       "font-family: var(--jp-code-font-family);\n",
       "font-size: var(--jp-code-font-size);\n",
       "line-height: var(--jp-code-line-height);\n",
       "\"><span style=\"color: var(--jp-warn-color2)\">lsst.characterizeImage</span> <span style=\"color: var(--jp-info-color0)\">INFO</span>: PSF estimation initialized with &#x27;simple&#x27; PSF</pre>"
      ],
      "text/plain": [
       "<IPython.core.display.HTML object>"
      ]
     },
     "metadata": {},
     "output_type": "display_data"
    },
    {
     "data": {
      "text/html": [
       "<pre style=\"margin: 0.1em;\n",
       "padding-left: 0.25em;\n",
       "border-left-style: solid;\n",
       "font-family: var(--jp-code-font-family);\n",
       "font-size: var(--jp-code-font-size);\n",
       "line-height: var(--jp-code-line-height);\n",
       "\"><span style=\"color: var(--jp-warn-color2)\">lsst.characterizeImage.installSimplePsf</span> <span style=\"color: var(--jp-success-color0)\">DEBUG</span>: installing a simple Gaussian PSF model with width=61, height=61, FWHM=15.000</pre>"
      ],
      "text/plain": [
       "<IPython.core.display.HTML object>"
      ]
     },
     "metadata": {},
     "output_type": "display_data"
    },
    {
     "data": {
      "text/html": [
       "<pre style=\"margin: 0.1em;\n",
       "padding-left: 0.25em;\n",
       "border-left-style: solid;\n",
       "font-family: var(--jp-code-font-family);\n",
       "font-size: var(--jp-code-font-size);\n",
       "line-height: var(--jp-code-line-height);\n",
       "\"><span style=\"color: var(--jp-warn-color2)\">timer.lsst.characterizeImage.repair</span> <span style=\"color: var(--jp-success-color0)\">DEBUG</span>: runStartCpuTime=188.22671029; runStartUserTime=172.738708; runStartSystemTime=15.487996; runStartMaxResidentSetSize=1136570368; runStartMinorPageFaults=9397258; runStartMajorPageFaults=14; runStartBlockInputs=5059800; runStartBlockOutputs=2936; runStartVoluntaryContextSwitches=141941; runStartInvoluntaryContextSwitches=64465</pre>"
      ],
      "text/plain": [
       "<IPython.core.display.HTML object>"
      ]
     },
     "metadata": {},
     "output_type": "display_data"
    },
    {
     "data": {
      "text/html": [
       "<pre style=\"margin: 0.1em;\n",
       "padding-left: 0.25em;\n",
       "border-left-style: solid;\n",
       "font-family: var(--jp-code-font-family);\n",
       "font-size: var(--jp-code-font-size);\n",
       "line-height: var(--jp-code-line-height);\n",
       "\"><span style=\"color: var(--jp-warn-color2)\">lsst.characterizeImage.repair</span> <span style=\"color: var(--jp-info-color0)\">INFO</span>: Identified 5 cosmic rays.</pre>"
      ],
      "text/plain": [
       "<IPython.core.display.HTML object>"
      ]
     },
     "metadata": {},
     "output_type": "display_data"
    },
    {
     "data": {
      "text/html": [
       "<pre style=\"margin: 0.1em;\n",
       "padding-left: 0.25em;\n",
       "border-left-style: solid;\n",
       "font-family: var(--jp-code-font-family);\n",
       "font-size: var(--jp-code-font-size);\n",
       "line-height: var(--jp-code-line-height);\n",
       "\"><span style=\"color: var(--jp-warn-color2)\">timer.lsst.characterizeImage.repair</span> <span style=\"color: var(--jp-success-color0)\">DEBUG</span>: runEndCpuTime=188.708906111; runEndUserTime=173.192902; runEndSystemTime=15.515983; runEndMaxResidentSetSize=1136570368; runEndMinorPageFaults=9421358; runEndMajorPageFaults=14; runEndBlockInputs=5059800; runEndBlockOutputs=2936; runEndVoluntaryContextSwitches=142091; runEndInvoluntaryContextSwitches=64466</pre>"
      ],
      "text/plain": [
       "<IPython.core.display.HTML object>"
      ]
     },
     "metadata": {},
     "output_type": "display_data"
    },
    {
     "data": {
      "text/html": [
       "<pre style=\"margin: 0.1em;\n",
       "padding-left: 0.25em;\n",
       "border-left-style: solid;\n",
       "font-family: var(--jp-code-font-family);\n",
       "font-size: var(--jp-code-font-size);\n",
       "line-height: var(--jp-code-line-height);\n",
       "\"><span style=\"color: var(--jp-warn-color2)\">timer.lsst.characterizeImage.detection</span> <span style=\"color: var(--jp-success-color0)\">DEBUG</span>: runStartCpuTime=188.710062011; runStartUserTime=173.194058; runStartSystemTime=15.515997; runStartMaxResidentSetSize=1136570368; runStartMinorPageFaults=9421358; runStartMajorPageFaults=14; runStartBlockInputs=5059800; runStartBlockOutputs=2936; runStartVoluntaryContextSwitches=142110; runStartInvoluntaryContextSwitches=64466</pre>"
      ],
      "text/plain": [
       "<IPython.core.display.HTML object>"
      ]
     },
     "metadata": {},
     "output_type": "display_data"
    },
    {
     "data": {
      "text/html": [
       "<pre style=\"margin: 0.1em;\n",
       "padding-left: 0.25em;\n",
       "border-left-style: solid;\n",
       "font-family: var(--jp-code-font-family);\n",
       "font-size: var(--jp-code-font-size);\n",
       "line-height: var(--jp-code-line-height);\n",
       "\"><span style=\"color: var(--jp-warn-color2)\">timer.lsst.characterizeImage.detection</span> <span style=\"color: var(--jp-success-color0)\">DEBUG</span>: detectFootprintsStartCpuTime=188.710939169; detectFootprintsStartUserTime=173.194058; detectFootprintsStartSystemTime=15.516874; detectFootprintsStartMaxResidentSetSize=1136570368; detectFootprintsStartMinorPageFaults=9421358; detectFootprintsStartMajorPageFaults=14; detectFootprintsStartBlockInputs=5059800; detectFootprintsStartBlockOutputs=2936; detectFootprintsStartVoluntaryContextSwitches=142134; detectFootprintsStartInvoluntaryContextSwitches=64466</pre>"
      ],
      "text/plain": [
       "<IPython.core.display.HTML object>"
      ]
     },
     "metadata": {},
     "output_type": "display_data"
    },
    {
     "data": {
      "text/html": [
       "<pre style=\"margin: 0.1em;\n",
       "padding-left: 0.25em;\n",
       "border-left-style: solid;\n",
       "font-family: var(--jp-code-font-family);\n",
       "font-size: var(--jp-code-font-size);\n",
       "line-height: var(--jp-code-line-height);\n",
       "\"><span style=\"color: var(--jp-warn-color2)\">lsst.characterizeImage.detection</span> <span style=\"color: var(--jp-success-color0)\">DEBUG</span>: Detection threshold: VALUE value=3.2259847 (positive) multiplier=5</pre>"
      ],
      "text/plain": [
       "<IPython.core.display.HTML object>"
      ]
     },
     "metadata": {},
     "output_type": "display_data"
    },
    {
     "data": {
      "text/html": [
       "<pre style=\"margin: 0.1em;\n",
       "padding-left: 0.25em;\n",
       "border-left-style: solid;\n",
       "font-family: var(--jp-code-font-family);\n",
       "font-size: var(--jp-code-font-size);\n",
       "line-height: var(--jp-code-line-height);\n",
       "\"><span style=\"color: var(--jp-warn-color2)\">lsst.characterizeImage.detection</span> <span style=\"color: var(--jp-success-color0)\">DEBUG</span>: Detection threshold: VALUE value=3.2259847 (negative) multiplier=5</pre>"
      ],
      "text/plain": [
       "<IPython.core.display.HTML object>"
      ]
     },
     "metadata": {},
     "output_type": "display_data"
    },
    {
     "data": {
      "text/html": [
       "<pre style=\"margin: 0.1em;\n",
       "padding-left: 0.25em;\n",
       "border-left-style: solid;\n",
       "font-family: var(--jp-code-font-family);\n",
       "font-size: var(--jp-code-font-size);\n",
       "line-height: var(--jp-code-line-height);\n",
       "\"><span style=\"color: var(--jp-warn-color2)\">lsst.characterizeImage.detection</span> <span style=\"color: var(--jp-info-color0)\">INFO</span>: Detected 92 positive peaks in 80 footprints and 4 negative peaks in 4 footprints to 25 sigma</pre>"
      ],
      "text/plain": [
       "<IPython.core.display.HTML object>"
      ]
     },
     "metadata": {},
     "output_type": "display_data"
    },
    {
     "data": {
      "text/html": [
       "<pre style=\"margin: 0.1em;\n",
       "padding-left: 0.25em;\n",
       "border-left-style: solid;\n",
       "font-family: var(--jp-code-font-family);\n",
       "font-size: var(--jp-code-font-size);\n",
       "line-height: var(--jp-code-line-height);\n",
       "\"><span style=\"color: var(--jp-warn-color2)\">lsst.characterizeImage.detection.background</span> <span style=\"color: var(--jp-success-color0)\">DEBUG</span>: Ignoring mask planes: BAD, EDGE, DETECTED, DETECTED_NEGATIVE, NO_DATA</pre>"
      ],
      "text/plain": [
       "<IPython.core.display.HTML object>"
      ]
     },
     "metadata": {},
     "output_type": "display_data"
    },
    {
     "data": {
      "text/html": [
       "<pre style=\"margin: 0.1em;\n",
       "padding-left: 0.25em;\n",
       "border-left-style: solid;\n",
       "font-family: var(--jp-code-font-family);\n",
       "font-size: var(--jp-code-font-size);\n",
       "line-height: var(--jp-code-line-height);\n",
       "\"><span style=\"color: var(--jp-warn-color2)\">lsst.characterizeImage.detection</span> <span style=\"color: var(--jp-info-color0)\">INFO</span>: Resubtracting the background after object detection</pre>"
      ],
      "text/plain": [
       "<IPython.core.display.HTML object>"
      ]
     },
     "metadata": {},
     "output_type": "display_data"
    },
    {
     "data": {
      "text/html": [
       "<pre style=\"margin: 0.1em;\n",
       "padding-left: 0.25em;\n",
       "border-left-style: solid;\n",
       "font-family: var(--jp-code-font-family);\n",
       "font-size: var(--jp-code-font-size);\n",
       "line-height: var(--jp-code-line-height);\n",
       "\"><span style=\"color: var(--jp-warn-color2)\">timer.lsst.characterizeImage.detection</span> <span style=\"color: var(--jp-success-color0)\">DEBUG</span>: detectFootprintsEndCpuTime=192.10156079; detectFootprintsEndUserTime=176.400532; detectFootprintsEndSystemTime=15.701006; detectFootprintsEndMaxResidentSetSize=1137893376; detectFootprintsEndMinorPageFaults=9611523; detectFootprintsEndMajorPageFaults=14; detectFootprintsEndBlockInputs=5059800; detectFootprintsEndBlockOutputs=2936; detectFootprintsEndVoluntaryContextSwitches=142869; detectFootprintsEndInvoluntaryContextSwitches=64482</pre>"
      ],
      "text/plain": [
       "<IPython.core.display.HTML object>"
      ]
     },
     "metadata": {},
     "output_type": "display_data"
    },
    {
     "data": {
      "text/html": [
       "<pre style=\"margin: 0.1em;\n",
       "padding-left: 0.25em;\n",
       "border-left-style: solid;\n",
       "font-family: var(--jp-code-font-family);\n",
       "font-size: var(--jp-code-font-size);\n",
       "line-height: var(--jp-code-line-height);\n",
       "\"><span style=\"color: var(--jp-warn-color2)\">timer.lsst.characterizeImage.detection</span> <span style=\"color: var(--jp-success-color0)\">DEBUG</span>: runEndCpuTime=192.1030122; runEndUserTime=176.401961; runEndSystemTime=15.701044; runEndMaxResidentSetSize=1137893376; runEndMinorPageFaults=9611523; runEndMajorPageFaults=14; runEndBlockInputs=5059800; runEndBlockOutputs=2936; runEndVoluntaryContextSwitches=142891; runEndInvoluntaryContextSwitches=64482</pre>"
      ],
      "text/plain": [
       "<IPython.core.display.HTML object>"
      ]
     },
     "metadata": {},
     "output_type": "display_data"
    },
    {
     "data": {
      "text/html": [
       "<pre style=\"margin: 0.1em;\n",
       "padding-left: 0.25em;\n",
       "border-left-style: solid;\n",
       "font-family: var(--jp-code-font-family);\n",
       "font-size: var(--jp-code-font-size);\n",
       "line-height: var(--jp-code-line-height);\n",
       "\"><span style=\"color: var(--jp-warn-color2)\">timer.lsst.characterizeImage.measurement</span> <span style=\"color: var(--jp-success-color0)\">DEBUG</span>: runStartCpuTime=192.103902649; runStartUserTime=176.402853; runStartSystemTime=15.701044; runStartMaxResidentSetSize=1137893376; runStartMinorPageFaults=9611523; runStartMajorPageFaults=14; runStartBlockInputs=5059800; runStartBlockOutputs=2936; runStartVoluntaryContextSwitches=142910; runStartInvoluntaryContextSwitches=64482</pre>"
      ],
      "text/plain": [
       "<IPython.core.display.HTML object>"
      ]
     },
     "metadata": {},
     "output_type": "display_data"
    },
    {
     "data": {
      "text/html": [
       "<pre style=\"margin: 0.1em;\n",
       "padding-left: 0.25em;\n",
       "border-left-style: solid;\n",
       "font-family: var(--jp-code-font-family);\n",
       "font-size: var(--jp-code-font-size);\n",
       "line-height: var(--jp-code-line-height);\n",
       "\"><span style=\"color: var(--jp-warn-color2)\">lsst.characterizeImage.measurement</span> <span style=\"color: var(--jp-success-color0)\">DEBUG</span>: Mask plane &quot;THISDET&quot;: plane 10, bitmask 1024 = 0x400</pre>"
      ],
      "text/plain": [
       "<IPython.core.display.HTML object>"
      ]
     },
     "metadata": {},
     "output_type": "display_data"
    },
    {
     "data": {
      "text/html": [
       "<pre style=\"margin: 0.1em;\n",
       "padding-left: 0.25em;\n",
       "border-left-style: solid;\n",
       "font-family: var(--jp-code-font-family);\n",
       "font-size: var(--jp-code-font-size);\n",
       "line-height: var(--jp-code-line-height);\n",
       "\"><span style=\"color: var(--jp-warn-color2)\">lsst.characterizeImage.measurement</span> <span style=\"color: var(--jp-success-color0)\">DEBUG</span>: Mask plane &quot;OTHERDET&quot;: plane 11, bitmask 2048 = 0x800</pre>"
      ],
      "text/plain": [
       "<IPython.core.display.HTML object>"
      ]
     },
     "metadata": {},
     "output_type": "display_data"
    },
    {
     "data": {
      "text/html": [
       "<pre style=\"margin: 0.1em;\n",
       "padding-left: 0.25em;\n",
       "border-left-style: solid;\n",
       "font-family: var(--jp-code-font-family);\n",
       "font-size: var(--jp-code-font-size);\n",
       "line-height: var(--jp-code-line-height);\n",
       "\"><span style=\"color: var(--jp-warn-color2)\">lsst.characterizeImage.measurement</span> <span style=\"color: var(--jp-success-color0)\">DEBUG</span>: Measured from image: clipped mean = 0.106511, stdev = 9.35409</pre>"
      ],
      "text/plain": [
       "<IPython.core.display.HTML object>"
      ]
     },
     "metadata": {},
     "output_type": "display_data"
    },
    {
     "data": {
      "text/html": [
       "<pre style=\"margin: 0.1em;\n",
       "padding-left: 0.25em;\n",
       "border-left-style: solid;\n",
       "font-family: var(--jp-code-font-family);\n",
       "font-size: var(--jp-code-font-size);\n",
       "line-height: var(--jp-code-line-height);\n",
       "\"><span style=\"color: var(--jp-warn-color2)\">lsst.characterizeImage.measurement</span> <span style=\"color: var(--jp-success-color0)\">DEBUG</span>: Using noise generator: FixedGaussianNoiseGenerator: mean=0.106511, std=9.35409</pre>"
      ],
      "text/plain": [
       "<IPython.core.display.HTML object>"
      ]
     },
     "metadata": {},
     "output_type": "display_data"
    },
    {
     "data": {
      "text/html": [
       "<pre style=\"margin: 0.1em;\n",
       "padding-left: 0.25em;\n",
       "border-left-style: solid;\n",
       "font-family: var(--jp-code-font-family);\n",
       "font-size: var(--jp-code-font-size);\n",
       "line-height: var(--jp-code-line-height);\n",
       "\"><span style=\"color: var(--jp-warn-color2)\">lsst.characterizeImage.measurement</span> <span style=\"color: var(--jp-info-color0)\">INFO</span>: Measuring 80 sources (80 parents, 0 children) </pre>"
      ],
      "text/plain": [
       "<IPython.core.display.HTML object>"
      ]
     },
     "metadata": {},
     "output_type": "display_data"
    },
    {
     "data": {
      "text/html": [
       "<pre style=\"margin: 0.1em;\n",
       "padding-left: 0.25em;\n",
       "border-left-style: solid;\n",
       "font-family: var(--jp-code-font-family);\n",
       "font-size: var(--jp-code-font-size);\n",
       "line-height: var(--jp-code-line-height);\n",
       "\"><span style=\"color: var(--jp-warn-color2)\">lsst.characterizeImage.measurement.base_GaussianFlux</span> <span style=\"color: var(--jp-success-color0)\">DEBUG</span>: MeasurementError in base_GaussianFlux.measure on record 79: \n",
       "  File &quot;src/InputUtilities.cc&quot;, line 179, in lsst::afw::geom::ellipses::Quadrupole lsst::meas::base::SafeShapeExtractor::operator()(lsst::afw::table::SourceRecord&amp;, const lsst::meas::base::FlagHandler&amp;) const\n",
       "    base_GaussianFlux: Shape needed, and Shape slot measurement failed. {0}\n",
       "lsst::meas::base::MeasurementError: &#x27;base_GaussianFlux: Shape needed, and Shape slot measurement failed.&#x27;\n",
       "</pre>"
      ],
      "text/plain": [
       "<IPython.core.display.HTML object>"
      ]
     },
     "metadata": {},
     "output_type": "display_data"
    },
    {
     "data": {
      "text/html": [
       "<pre style=\"margin: 0.1em;\n",
       "padding-left: 0.25em;\n",
       "border-left-style: solid;\n",
       "font-family: var(--jp-code-font-family);\n",
       "font-size: var(--jp-code-font-size);\n",
       "line-height: var(--jp-code-line-height);\n",
       "\"><span style=\"color: var(--jp-warn-color2)\">lsst.characterizeImage.measurement.base_SdssCentroid</span> <span style=\"color: var(--jp-success-color0)\">DEBUG</span>: MeasurementError in base_SdssCentroid.measure on record 80: \n",
       "  File &quot;src/SdssCentroid.cc&quot;, line 384, in std::pair&lt;MaskedImageT, double&gt; lsst::meas::base::{anonymous}::smoothAndBinImage(std::shared_ptr&lt;const lsst::afw::detection::Psf&gt;, int, int, const MaskedImageT&amp;, int, int, lsst::meas::base::FlagHandler) [with MaskedImageT = lsst::afw::image::MaskedImage&lt;float&gt;]\n",
       "    Object too close to edge {0}\n",
       "lsst::meas::base::MeasurementError: &#x27;Object too close to edge&#x27;\n",
       "</pre>"
      ],
      "text/plain": [
       "<IPython.core.display.HTML object>"
      ]
     },
     "metadata": {},
     "output_type": "display_data"
    },
    {
     "data": {
      "text/html": [
       "<pre style=\"margin: 0.1em;\n",
       "padding-left: 0.25em;\n",
       "border-left-style: solid;\n",
       "font-family: var(--jp-code-font-family);\n",
       "font-size: var(--jp-code-font-size);\n",
       "line-height: var(--jp-code-line-height);\n",
       "\"><span style=\"color: var(--jp-warn-color2)\">timer.lsst.characterizeImage.measurement</span> <span style=\"color: var(--jp-success-color0)\">DEBUG</span>: runEndCpuTime=192.800371081; runEndUserTime=177.065305; runEndSystemTime=15.735044; runEndMaxResidentSetSize=1137893376; runEndMinorPageFaults=9635623; runEndMajorPageFaults=14; runEndBlockInputs=5059800; runEndBlockOutputs=2936; runEndVoluntaryContextSwitches=143264; runEndInvoluntaryContextSwitches=64483</pre>"
      ],
      "text/plain": [
       "<IPython.core.display.HTML object>"
      ]
     },
     "metadata": {},
     "output_type": "display_data"
    },
    {
     "data": {
      "text/html": [
       "<pre style=\"margin: 0.1em;\n",
       "padding-left: 0.25em;\n",
       "border-left-style: solid;\n",
       "font-family: var(--jp-code-font-family);\n",
       "font-size: var(--jp-code-font-size);\n",
       "line-height: var(--jp-code-line-height);\n",
       "\"><span style=\"color: var(--jp-warn-color2)\">timer.lsst.characterizeImage.measurePsf</span> <span style=\"color: var(--jp-success-color0)\">DEBUG</span>: runStartCpuTime=192.801452288; runStartUserTime=177.066401; runStartSystemTime=15.735044; runStartMaxResidentSetSize=1137893376; runStartMinorPageFaults=9635623; runStartMajorPageFaults=14; runStartBlockInputs=5059800; runStartBlockOutputs=2936; runStartVoluntaryContextSwitches=143281; runStartInvoluntaryContextSwitches=64483</pre>"
      ],
      "text/plain": [
       "<IPython.core.display.HTML object>"
      ]
     },
     "metadata": {},
     "output_type": "display_data"
    },
    {
     "data": {
      "text/html": [
       "<pre style=\"margin: 0.1em;\n",
       "padding-left: 0.25em;\n",
       "border-left-style: solid;\n",
       "font-family: var(--jp-code-font-family);\n",
       "font-size: var(--jp-code-font-size);\n",
       "line-height: var(--jp-code-line-height);\n",
       "\"><span style=\"color: var(--jp-warn-color2)\">lsst.characterizeImage.measurePsf</span> <span style=\"color: var(--jp-info-color0)\">INFO</span>: Measuring PSF</pre>"
      ],
      "text/plain": [
       "<IPython.core.display.HTML object>"
      ]
     },
     "metadata": {},
     "output_type": "display_data"
    },
    {
     "data": {
      "text/html": [
       "<pre style=\"margin: 0.1em;\n",
       "padding-left: 0.25em;\n",
       "border-left-style: solid;\n",
       "font-family: var(--jp-code-font-family);\n",
       "font-size: var(--jp-code-font-size);\n",
       "line-height: var(--jp-code-line-height);\n",
       "\"><span style=\"color: var(--jp-warn-color2)\">lsst.characterizeImage.measurePsf</span> <span style=\"color: var(--jp-info-color0)\">INFO</span>: PSF star selector found 39 candidates</pre>"
      ],
      "text/plain": [
       "<IPython.core.display.HTML object>"
      ]
     },
     "metadata": {},
     "output_type": "display_data"
    },
    {
     "data": {
      "text/html": [
       "<pre style=\"margin: 0.1em;\n",
       "padding-left: 0.25em;\n",
       "border-left-style: solid;\n",
       "font-family: var(--jp-code-font-family);\n",
       "font-size: var(--jp-code-font-size);\n",
       "line-height: var(--jp-code-line-height);\n",
       "\"><span style=\"color: var(--jp-warn-color2)\">lsst.characterizeImage.measurePsf.reserve</span> <span style=\"color: var(--jp-info-color0)\">INFO</span>: Reserved 0/39 sources</pre>"
      ],
      "text/plain": [
       "<IPython.core.display.HTML object>"
      ]
     },
     "metadata": {},
     "output_type": "display_data"
    },
    {
     "data": {
      "text/html": [
       "<pre style=\"margin: 0.1em;\n",
       "padding-left: 0.25em;\n",
       "border-left-style: solid;\n",
       "font-family: var(--jp-code-font-family);\n",
       "font-size: var(--jp-code-font-size);\n",
       "line-height: var(--jp-code-line-height);\n",
       "\"><span style=\"color: var(--jp-warn-color2)\">lsst.characterizeImage.measurePsf</span> <span style=\"color: var(--jp-info-color0)\">INFO</span>: Sending 39 candidates to PSF determiner</pre>"
      ],
      "text/plain": [
       "<IPython.core.display.HTML object>"
      ]
     },
     "metadata": {},
     "output_type": "display_data"
    },
    {
     "data": {
      "text/html": [
       "<pre style=\"margin: 0.1em;\n",
       "padding-left: 0.25em;\n",
       "border-left-style: solid;\n",
       "font-family: var(--jp-code-font-family);\n",
       "font-size: var(--jp-code-font-size);\n",
       "line-height: var(--jp-code-line-height);\n",
       "\"><span style=\"color: var(--jp-warn-color2)\">lsst.characterizeImage.measurePsf.psfDeterminer</span> <span style=\"color: var(--jp-warn-color0)\">WARNING</span>: NOT scaling kernelSize by stellar quadrupole moment, but using absolute value</pre>"
      ],
      "text/plain": [
       "<IPython.core.display.HTML object>"
      ]
     },
     "metadata": {},
     "output_type": "display_data"
    },
    {
     "data": {
      "text/html": [
       "<pre style=\"margin: 0.1em;\n",
       "padding-left: 0.25em;\n",
       "border-left-style: solid;\n",
       "font-family: var(--jp-code-font-family);\n",
       "font-size: var(--jp-code-font-size);\n",
       "line-height: var(--jp-code-line-height);\n",
       "\"><span style=\"color: var(--jp-warn-color2)\">lsst.characterizeImage.measurePsf</span> <span style=\"color: var(--jp-info-color0)\">INFO</span>: PSF determination using 28/39 stars.</pre>"
      ],
      "text/plain": [
       "<IPython.core.display.HTML object>"
      ]
     },
     "metadata": {},
     "output_type": "display_data"
    },
    {
     "data": {
      "text/html": [
       "<pre style=\"margin: 0.1em;\n",
       "padding-left: 0.25em;\n",
       "border-left-style: solid;\n",
       "font-family: var(--jp-code-font-family);\n",
       "font-size: var(--jp-code-font-size);\n",
       "line-height: var(--jp-code-line-height);\n",
       "\"><span style=\"color: var(--jp-warn-color2)\">timer.lsst.characterizeImage.measurePsf</span> <span style=\"color: var(--jp-success-color0)\">DEBUG</span>: runEndCpuTime=193.466215685; runEndUserTime=177.704115; runEndSystemTime=15.76208; runEndMaxResidentSetSize=1137893376; runEndMinorPageFaults=9659724; runEndMajorPageFaults=14; runEndBlockInputs=5059800; runEndBlockOutputs=2936; runEndVoluntaryContextSwitches=143543; runEndInvoluntaryContextSwitches=64513</pre>"
      ],
      "text/plain": [
       "<IPython.core.display.HTML object>"
      ]
     },
     "metadata": {},
     "output_type": "display_data"
    },
    {
     "data": {
      "text/html": [
       "<pre style=\"margin: 0.1em;\n",
       "padding-left: 0.25em;\n",
       "border-left-style: solid;\n",
       "font-family: var(--jp-code-font-family);\n",
       "font-size: var(--jp-code-font-size);\n",
       "line-height: var(--jp-code-line-height);\n",
       "\"><span style=\"color: var(--jp-warn-color2)\">timer.lsst.characterizeImage</span> <span style=\"color: var(--jp-success-color0)\">DEBUG</span>: detectMeasureAndEstimatePsfEndCpuTime=193.4672444; detectMeasureAndEstimatePsfEndUserTime=177.705155; detectMeasureAndEstimatePsfEndSystemTime=15.762083; detectMeasureAndEstimatePsfEndMaxResidentSetSize=1137893376; detectMeasureAndEstimatePsfEndMinorPageFaults=9659724; detectMeasureAndEstimatePsfEndMajorPageFaults=14; detectMeasureAndEstimatePsfEndBlockInputs=5059800; detectMeasureAndEstimatePsfEndBlockOutputs=2936; detectMeasureAndEstimatePsfEndVoluntaryContextSwitches=143562; detectMeasureAndEstimatePsfEndInvoluntaryContextSwitches=64513</pre>"
      ],
      "text/plain": [
       "<IPython.core.display.HTML object>"
      ]
     },
     "metadata": {},
     "output_type": "display_data"
    },
    {
     "data": {
      "text/html": [
       "<pre style=\"margin: 0.1em;\n",
       "padding-left: 0.25em;\n",
       "border-left-style: solid;\n",
       "font-family: var(--jp-code-font-family);\n",
       "font-size: var(--jp-code-font-size);\n",
       "line-height: var(--jp-code-line-height);\n",
       "\"><span style=\"color: var(--jp-warn-color2)\">lsst.characterizeImage</span> <span style=\"color: var(--jp-info-color0)\">INFO</span>: iter 1; PSF sigma=6.34, dimensions=(41, 41); median background=5.99</pre>"
      ],
      "text/plain": [
       "<IPython.core.display.HTML object>"
      ]
     },
     "metadata": {},
     "output_type": "display_data"
    },
    {
     "data": {
      "text/html": [
       "<pre style=\"margin: 0.1em;\n",
       "padding-left: 0.25em;\n",
       "border-left-style: solid;\n",
       "font-family: var(--jp-code-font-family);\n",
       "font-size: var(--jp-code-font-size);\n",
       "line-height: var(--jp-code-line-height);\n",
       "\"><span style=\"color: var(--jp-warn-color2)\">timer.lsst.characterizeImage.repair</span> <span style=\"color: var(--jp-success-color0)\">DEBUG</span>: runStartCpuTime=193.69694691; runStartUserTime=177.886832; runStartSystemTime=15.810093; runStartMaxResidentSetSize=1137893376; runStartMinorPageFaults=9707445; runStartMajorPageFaults=14; runStartBlockInputs=5059800; runStartBlockOutputs=2936; runStartVoluntaryContextSwitches=143639; runStartInvoluntaryContextSwitches=64513</pre>"
      ],
      "text/plain": [
       "<IPython.core.display.HTML object>"
      ]
     },
     "metadata": {},
     "output_type": "display_data"
    },
    {
     "data": {
      "text/html": [
       "<pre style=\"margin: 0.1em;\n",
       "padding-left: 0.25em;\n",
       "border-left-style: solid;\n",
       "font-family: var(--jp-code-font-family);\n",
       "font-size: var(--jp-code-font-size);\n",
       "line-height: var(--jp-code-line-height);\n",
       "\"><span style=\"color: var(--jp-warn-color2)\">lsst.characterizeImage.repair</span> <span style=\"color: var(--jp-info-color0)\">INFO</span>: Identified 5 cosmic rays.</pre>"
      ],
      "text/plain": [
       "<IPython.core.display.HTML object>"
      ]
     },
     "metadata": {},
     "output_type": "display_data"
    },
    {
     "data": {
      "text/html": [
       "<pre style=\"margin: 0.1em;\n",
       "padding-left: 0.25em;\n",
       "border-left-style: solid;\n",
       "font-family: var(--jp-code-font-family);\n",
       "font-size: var(--jp-code-font-size);\n",
       "line-height: var(--jp-code-line-height);\n",
       "\"><span style=\"color: var(--jp-warn-color2)\">timer.lsst.characterizeImage.repair</span> <span style=\"color: var(--jp-success-color0)\">DEBUG</span>: runEndCpuTime=194.210287768; runEndUserTime=178.367233; runEndSystemTime=15.843028; runEndMaxResidentSetSize=1137893376; runEndMinorPageFaults=9731545; runEndMajorPageFaults=14; runEndBlockInputs=5059800; runEndBlockOutputs=2936; runEndVoluntaryContextSwitches=143785; runEndInvoluntaryContextSwitches=64570</pre>"
      ],
      "text/plain": [
       "<IPython.core.display.HTML object>"
      ]
     },
     "metadata": {},
     "output_type": "display_data"
    },
    {
     "data": {
      "text/html": [
       "<pre style=\"margin: 0.1em;\n",
       "padding-left: 0.25em;\n",
       "border-left-style: solid;\n",
       "font-family: var(--jp-code-font-family);\n",
       "font-size: var(--jp-code-font-size);\n",
       "line-height: var(--jp-code-line-height);\n",
       "\"><span style=\"color: var(--jp-warn-color2)\">timer.lsst.characterizeImage.measurement</span> <span style=\"color: var(--jp-success-color0)\">DEBUG</span>: runStartCpuTime=194.211353643; runStartUserTime=178.368311; runStartSystemTime=15.843035; runStartMaxResidentSetSize=1137893376; runStartMinorPageFaults=9731545; runStartMajorPageFaults=14; runStartBlockInputs=5059800; runStartBlockOutputs=2936; runStartVoluntaryContextSwitches=143804; runStartInvoluntaryContextSwitches=64570</pre>"
      ],
      "text/plain": [
       "<IPython.core.display.HTML object>"
      ]
     },
     "metadata": {},
     "output_type": "display_data"
    },
    {
     "data": {
      "text/html": [
       "<pre style=\"margin: 0.1em;\n",
       "padding-left: 0.25em;\n",
       "border-left-style: solid;\n",
       "font-family: var(--jp-code-font-family);\n",
       "font-size: var(--jp-code-font-size);\n",
       "line-height: var(--jp-code-line-height);\n",
       "\"><span style=\"color: var(--jp-warn-color2)\">lsst.characterizeImage.measurement</span> <span style=\"color: var(--jp-success-color0)\">DEBUG</span>: Mask plane &quot;THISDET&quot;: plane 10, bitmask 1024 = 0x400</pre>"
      ],
      "text/plain": [
       "<IPython.core.display.HTML object>"
      ]
     },
     "metadata": {},
     "output_type": "display_data"
    },
    {
     "data": {
      "text/html": [
       "<pre style=\"margin: 0.1em;\n",
       "padding-left: 0.25em;\n",
       "border-left-style: solid;\n",
       "font-family: var(--jp-code-font-family);\n",
       "font-size: var(--jp-code-font-size);\n",
       "line-height: var(--jp-code-line-height);\n",
       "\"><span style=\"color: var(--jp-warn-color2)\">lsst.characterizeImage.measurement</span> <span style=\"color: var(--jp-success-color0)\">DEBUG</span>: Mask plane &quot;OTHERDET&quot;: plane 11, bitmask 2048 = 0x800</pre>"
      ],
      "text/plain": [
       "<IPython.core.display.HTML object>"
      ]
     },
     "metadata": {},
     "output_type": "display_data"
    },
    {
     "data": {
      "text/html": [
       "<pre style=\"margin: 0.1em;\n",
       "padding-left: 0.25em;\n",
       "border-left-style: solid;\n",
       "font-family: var(--jp-code-font-family);\n",
       "font-size: var(--jp-code-font-size);\n",
       "line-height: var(--jp-code-line-height);\n",
       "\"><span style=\"color: var(--jp-warn-color2)\">lsst.characterizeImage.measurement</span> <span style=\"color: var(--jp-success-color0)\">DEBUG</span>: Measured from image: clipped mean = 0.106503, stdev = 9.35409</pre>"
      ],
      "text/plain": [
       "<IPython.core.display.HTML object>"
      ]
     },
     "metadata": {},
     "output_type": "display_data"
    },
    {
     "data": {
      "text/html": [
       "<pre style=\"margin: 0.1em;\n",
       "padding-left: 0.25em;\n",
       "border-left-style: solid;\n",
       "font-family: var(--jp-code-font-family);\n",
       "font-size: var(--jp-code-font-size);\n",
       "line-height: var(--jp-code-line-height);\n",
       "\"><span style=\"color: var(--jp-warn-color2)\">lsst.characterizeImage.measurement</span> <span style=\"color: var(--jp-success-color0)\">DEBUG</span>: Using noise generator: FixedGaussianNoiseGenerator: mean=0.106503, std=9.35409</pre>"
      ],
      "text/plain": [
       "<IPython.core.display.HTML object>"
      ]
     },
     "metadata": {},
     "output_type": "display_data"
    },
    {
     "data": {
      "text/html": [
       "<pre style=\"margin: 0.1em;\n",
       "padding-left: 0.25em;\n",
       "border-left-style: solid;\n",
       "font-family: var(--jp-code-font-family);\n",
       "font-size: var(--jp-code-font-size);\n",
       "line-height: var(--jp-code-line-height);\n",
       "\"><span style=\"color: var(--jp-warn-color2)\">lsst.characterizeImage.measurement</span> <span style=\"color: var(--jp-info-color0)\">INFO</span>: Measuring 80 sources (80 parents, 0 children) </pre>"
      ],
      "text/plain": [
       "<IPython.core.display.HTML object>"
      ]
     },
     "metadata": {},
     "output_type": "display_data"
    },
    {
     "data": {
      "text/html": [
       "<pre style=\"margin: 0.1em;\n",
       "padding-left: 0.25em;\n",
       "border-left-style: solid;\n",
       "font-family: var(--jp-code-font-family);\n",
       "font-size: var(--jp-code-font-size);\n",
       "line-height: var(--jp-code-line-height);\n",
       "\"><span style=\"color: var(--jp-warn-color2)\">lsst.characterizeImage.measurement.base_SdssCentroid</span> <span style=\"color: var(--jp-success-color0)\">DEBUG</span>: MeasurementError in base_SdssCentroid.measure on record 80: \n",
       "  File &quot;src/SdssCentroid.cc&quot;, line 384, in std::pair&lt;MaskedImageT, double&gt; lsst::meas::base::{anonymous}::smoothAndBinImage(std::shared_ptr&lt;const lsst::afw::detection::Psf&gt;, int, int, const MaskedImageT&amp;, int, int, lsst::meas::base::FlagHandler) [with MaskedImageT = lsst::afw::image::MaskedImage&lt;float&gt;]\n",
       "    Object too close to edge {0}\n",
       "lsst::meas::base::MeasurementError: &#x27;Object too close to edge&#x27;\n",
       "</pre>"
      ],
      "text/plain": [
       "<IPython.core.display.HTML object>"
      ]
     },
     "metadata": {},
     "output_type": "display_data"
    },
    {
     "data": {
      "text/html": [
       "<pre style=\"margin: 0.1em;\n",
       "padding-left: 0.25em;\n",
       "border-left-style: solid;\n",
       "font-family: var(--jp-code-font-family);\n",
       "font-size: var(--jp-code-font-size);\n",
       "line-height: var(--jp-code-line-height);\n",
       "\"><span style=\"color: var(--jp-warn-color2)\">timer.lsst.characterizeImage.measurement</span> <span style=\"color: var(--jp-success-color0)\">DEBUG</span>: runEndCpuTime=194.995538491; runEndUserTime=179.118421; runEndSystemTime=15.877095; runEndMaxResidentSetSize=1137893376; runEndMinorPageFaults=9755645; runEndMajorPageFaults=14; runEndBlockInputs=5059800; runEndBlockOutputs=2936; runEndVoluntaryContextSwitches=144116; runEndInvoluntaryContextSwitches=64743</pre>"
      ],
      "text/plain": [
       "<IPython.core.display.HTML object>"
      ]
     },
     "metadata": {},
     "output_type": "display_data"
    },
    {
     "data": {
      "text/html": [
       "<pre style=\"margin: 0.1em;\n",
       "padding-left: 0.25em;\n",
       "border-left-style: solid;\n",
       "font-family: var(--jp-code-font-family);\n",
       "font-size: var(--jp-code-font-size);\n",
       "line-height: var(--jp-code-line-height);\n",
       "\"><span style=\"color: var(--jp-warn-color2)\">timer.lsst.characterizeImage.catalogCalculation</span> <span style=\"color: var(--jp-success-color0)\">DEBUG</span>: runStartCpuTime=194.99668714; runStartUserTime=179.119572; runStartSystemTime=15.877108; runStartMaxResidentSetSize=1137893376; runStartMinorPageFaults=9755645; runStartMajorPageFaults=14; runStartBlockInputs=5059800; runStartBlockOutputs=2936; runStartVoluntaryContextSwitches=144133; runStartInvoluntaryContextSwitches=64743</pre>"
      ],
      "text/plain": [
       "<IPython.core.display.HTML object>"
      ]
     },
     "metadata": {},
     "output_type": "display_data"
    },
    {
     "data": {
      "text/html": [
       "<pre style=\"margin: 0.1em;\n",
       "padding-left: 0.25em;\n",
       "border-left-style: solid;\n",
       "font-family: var(--jp-code-font-family);\n",
       "font-size: var(--jp-code-font-size);\n",
       "line-height: var(--jp-code-line-height);\n",
       "\"><span style=\"color: var(--jp-warn-color2)\">timer.lsst.characterizeImage.catalogCalculation</span> <span style=\"color: var(--jp-success-color0)\">DEBUG</span>: runEndCpuTime=194.999346289; runEndUserTime=179.122232; runEndSystemTime=15.877108; runEndMaxResidentSetSize=1137893376; runEndMinorPageFaults=9755645; runEndMajorPageFaults=14; runEndBlockInputs=5059800; runEndBlockOutputs=2936; runEndVoluntaryContextSwitches=144152; runEndInvoluntaryContextSwitches=64743</pre>"
      ],
      "text/plain": [
       "<IPython.core.display.HTML object>"
      ]
     },
     "metadata": {},
     "output_type": "display_data"
    },
    {
     "data": {
      "text/html": [
       "<pre style=\"margin: 0.1em;\n",
       "padding-left: 0.25em;\n",
       "border-left-style: solid;\n",
       "font-family: var(--jp-code-font-family);\n",
       "font-size: var(--jp-code-font-size);\n",
       "line-height: var(--jp-code-line-height);\n",
       "\"><span style=\"color: var(--jp-warn-color2)\">timer.lsst.characterizeImage</span> <span style=\"color: var(--jp-success-color0)\">DEBUG</span>: runEndCpuTime=195.000359953; runEndUserTime=179.123246; runEndSystemTime=15.877108; runEndMaxResidentSetSize=1137893376; runEndMinorPageFaults=9755645; runEndMajorPageFaults=14; runEndBlockInputs=5059800; runEndBlockOutputs=2936; runEndVoluntaryContextSwitches=144171; runEndInvoluntaryContextSwitches=64743</pre>"
      ],
      "text/plain": [
       "<IPython.core.display.HTML object>"
      ]
     },
     "metadata": {},
     "output_type": "display_data"
    },
    {
     "name": "stdout",
     "output_type": "stream",
     "text": [
      "Psf shape from imChar task (x,y) = (1.410, 1.447) FWHM arcsec\n",
      "{'day_obs': 20220526, 'seq_num': 143, 'detector': 0, 'instrument': 'LATISS'}\n"
     ]
    },
    {
     "data": {
      "text/html": [
       "<pre style=\"margin: 0.1em;\n",
       "padding-left: 0.25em;\n",
       "border-left-style: solid;\n",
       "font-family: var(--jp-code-font-family);\n",
       "font-size: var(--jp-code-font-size);\n",
       "line-height: var(--jp-code-line-height);\n",
       "\"><span style=\"color: var(--jp-warn-color2)\">lsst.daf.butler._butler</span> <span style=\"color: var(--jp-success-color0)\">DEBUG</span>: Butler get: quickLookExp, dataId={&#x27;day_obs&#x27;: 20220526, &#x27;seq_num&#x27;: 143, &#x27;detector&#x27;: 0, &#x27;instrument&#x27;: &#x27;LATISS&#x27;}, parameters=None</pre>"
      ],
      "text/plain": [
       "<IPython.core.display.HTML object>"
      ]
     },
     "metadata": {},
     "output_type": "display_data"
    },
    {
     "data": {
      "text/html": [
       "<pre style=\"margin: 0.1em;\n",
       "padding-left: 0.25em;\n",
       "border-left-style: solid;\n",
       "font-family: var(--jp-code-font-family);\n",
       "font-size: var(--jp-code-font-size);\n",
       "line-height: var(--jp-code-line-height);\n",
       "\"><span style=\"color: var(--jp-warn-color2)\">lsst.daf.butler._butler</span> <span style=\"color: var(--jp-success-color0)\">DEBUG</span>: Assigned non-dimension dataId keys to dimension exposure: {&#x27;day_obs&#x27;: 20220526, &#x27;seq_num&#x27;: 143}</pre>"
      ],
      "text/plain": [
       "<IPython.core.display.HTML object>"
      ]
     },
     "metadata": {},
     "output_type": "display_data"
    },
    {
     "data": {
      "text/html": [
       "<pre style=\"margin: 0.1em;\n",
       "padding-left: 0.25em;\n",
       "border-left-style: solid;\n",
       "font-family: var(--jp-code-font-family);\n",
       "font-size: var(--jp-code-font-size);\n",
       "line-height: var(--jp-code-line-height);\n",
       "\"><span style=\"color: var(--jp-warn-color2)\">lsst.daf.butler.datastores.fileDatastore</span> <span style=\"color: var(--jp-success-color0)\">DEBUG</span>: Retrieve quickLookExp@{instrument: &#x27;LATISS&#x27;, detector: 0, exposure: 2022052600143}, sc=ExposureF] (id=4621214b-81f3-4e8b-8eba-575244e94785) from FileDatastore@&lt;butlerRoot&gt; with parameters None</pre>"
      ],
      "text/plain": [
       "<IPython.core.display.HTML object>"
      ]
     },
     "metadata": {},
     "output_type": "display_data"
    },
    {
     "data": {
      "text/html": [
       "<pre style=\"margin: 0.1em;\n",
       "padding-left: 0.25em;\n",
       "border-left-style: solid;\n",
       "font-family: var(--jp-code-font-family);\n",
       "font-size: var(--jp-code-font-size);\n",
       "line-height: var(--jp-code-line-height);\n",
       "\"><span style=\"color: var(--jp-warn-color2)\">lsst.daf.butler.datastores.fileDatastore</span> <span style=\"color: var(--jp-success-color0)\">DEBUG</span>: Accessing data from file:///repo/LATISS/LATISS/runs/quickLook/1/quickLookExp/20220526/AT_O_20220526_000143/quickLookExp_LATISS_SDSSr~empty_AT_O_20220526_000143_RXX_S00_LATISS_runs_quickLook_1.fits</pre>"
      ],
      "text/plain": [
       "<IPython.core.display.HTML object>"
      ]
     },
     "metadata": {},
     "output_type": "display_data"
    },
    {
     "data": {
      "text/html": [
       "<pre style=\"margin: 0.1em;\n",
       "padding-left: 0.25em;\n",
       "border-left-style: solid;\n",
       "font-family: var(--jp-code-font-family);\n",
       "font-size: var(--jp-code-font-size);\n",
       "line-height: var(--jp-code-line-height);\n",
       "\"><span style=\"color: var(--jp-warn-color2)\">lsst.daf.butler.datastores.fileDatastore</span> <span style=\"color: var(--jp-success-color0)\">DEBUG</span>: Reading from location file:///repo/LATISS/LATISS/runs/quickLook/1/quickLookExp/20220526/AT_O_20220526_000143/quickLookExp_LATISS_SDSSr~empty_AT_O_20220526_000143_RXX_S00_LATISS_runs_quickLook_1.fits  with formatter lsst.obs.base.formatters.fitsExposure.FitsExposureFormatter</pre>"
      ],
      "text/plain": [
       "<IPython.core.display.HTML object>"
      ]
     },
     "metadata": {},
     "output_type": "display_data"
    },
    {
     "data": {
      "text/html": [
       "<pre style=\"margin: 0.1em;\n",
       "padding-left: 0.25em;\n",
       "border-left-style: solid;\n",
       "font-family: var(--jp-code-font-family);\n",
       "font-size: var(--jp-code-font-size);\n",
       "line-height: var(--jp-code-line-height);\n",
       "\"><span style=\"color: var(--jp-warn-color2)\">timer.lsst.daf.butler.datastores.fileDatastore</span> <span style=\"color: var(--jp-success-color0)\">DEBUG</span>: Reading from location file:///repo/LATISS/LATISS/runs/quickLook/1/quickLookExp/20220526/AT_O_20220526_000143/quickLookExp_LATISS_SDSSr~empty_AT_O_20220526_000143_RXX_S00_LATISS_runs_quickLook_1.fits  with formatter lsst.obs.base.formatters.fitsExposure.FitsExposureFormatter: Took 1.0535 seconds</pre>"
      ],
      "text/plain": [
       "<IPython.core.display.HTML object>"
      ]
     },
     "metadata": {},
     "output_type": "display_data"
    },
    {
     "data": {
      "text/html": [
       "<pre style=\"margin: 0.1em;\n",
       "padding-left: 0.25em;\n",
       "border-left-style: solid;\n",
       "font-family: var(--jp-code-font-family);\n",
       "font-size: var(--jp-code-font-size);\n",
       "line-height: var(--jp-code-line-height);\n",
       "\"><span style=\"color: var(--jp-warn-color2)\">lsst.summit.utils.bestEffort</span> <span style=\"color: var(--jp-info-color0)\">INFO</span>: Found a ready-made quickLookExp in the repo. Returning that.</pre>"
      ],
      "text/plain": [
       "<IPython.core.display.HTML object>"
      ]
     },
     "metadata": {},
     "output_type": "display_data"
    },
    {
     "data": {
      "text/html": [
       "<pre style=\"margin: 0.1em;\n",
       "padding-left: 0.25em;\n",
       "border-left-style: solid;\n",
       "font-family: var(--jp-code-font-family);\n",
       "font-size: var(--jp-code-font-size);\n",
       "line-height: var(--jp-code-line-height);\n",
       "\"><span style=\"color: var(--jp-warn-color2)\">timer.lsst.characterizeImage</span> <span style=\"color: var(--jp-success-color0)\">DEBUG</span>: runStartCpuTime=195.972231842; runStartUserTime=179.996813; runStartSystemTime=15.975396; runStartMaxResidentSetSize=1137893376; runStartMinorPageFaults=9803714; runStartMajorPageFaults=14; runStartBlockInputs=5311784; runStartBlockOutputs=2936; runStartVoluntaryContextSwitches=146170; runStartInvoluntaryContextSwitches=64929</pre>"
      ],
      "text/plain": [
       "<IPython.core.display.HTML object>"
      ]
     },
     "metadata": {},
     "output_type": "display_data"
    },
    {
     "data": {
      "text/html": [
       "<pre style=\"margin: 0.1em;\n",
       "padding-left: 0.25em;\n",
       "border-left-style: solid;\n",
       "font-family: var(--jp-code-font-family);\n",
       "font-size: var(--jp-code-font-size);\n",
       "line-height: var(--jp-code-line-height);\n",
       "\"><span style=\"color: var(--jp-warn-color2)\">lsst.characterizeImage.background</span> <span style=\"color: var(--jp-success-color0)\">DEBUG</span>: Ignoring mask planes: BAD, EDGE, DETECTED, DETECTED_NEGATIVE, NO_DATA</pre>"
      ],
      "text/plain": [
       "<IPython.core.display.HTML object>"
      ]
     },
     "metadata": {},
     "output_type": "display_data"
    },
    {
     "data": {
      "text/html": [
       "<pre style=\"margin: 0.1em;\n",
       "padding-left: 0.25em;\n",
       "border-left-style: solid;\n",
       "font-family: var(--jp-code-font-family);\n",
       "font-size: var(--jp-code-font-size);\n",
       "line-height: var(--jp-code-line-height);\n",
       "\"><span style=\"color: var(--jp-warn-color2)\">timer.lsst.characterizeImage</span> <span style=\"color: var(--jp-success-color0)\">DEBUG</span>: detectMeasureAndEstimatePsfStartCpuTime=196.641366316; detectMeasureAndEstimatePsfStartUserTime=180.617943; detectMeasureAndEstimatePsfStartSystemTime=16.023399; detectMeasureAndEstimatePsfStartMaxResidentSetSize=1137893376; detectMeasureAndEstimatePsfStartMinorPageFaults=9851437; detectMeasureAndEstimatePsfStartMajorPageFaults=14; detectMeasureAndEstimatePsfStartBlockInputs=5311784; detectMeasureAndEstimatePsfStartBlockOutputs=2936; detectMeasureAndEstimatePsfStartVoluntaryContextSwitches=146210; detectMeasureAndEstimatePsfStartInvoluntaryContextSwitches=65185</pre>"
      ],
      "text/plain": [
       "<IPython.core.display.HTML object>"
      ]
     },
     "metadata": {},
     "output_type": "display_data"
    },
    {
     "data": {
      "text/html": [
       "<pre style=\"margin: 0.1em;\n",
       "padding-left: 0.25em;\n",
       "border-left-style: solid;\n",
       "font-family: var(--jp-code-font-family);\n",
       "font-size: var(--jp-code-font-size);\n",
       "line-height: var(--jp-code-line-height);\n",
       "\"><span style=\"color: var(--jp-warn-color2)\">lsst.characterizeImage</span> <span style=\"color: var(--jp-info-color0)\">INFO</span>: PSF estimation initialized with &#x27;simple&#x27; PSF</pre>"
      ],
      "text/plain": [
       "<IPython.core.display.HTML object>"
      ]
     },
     "metadata": {},
     "output_type": "display_data"
    },
    {
     "data": {
      "text/html": [
       "<pre style=\"margin: 0.1em;\n",
       "padding-left: 0.25em;\n",
       "border-left-style: solid;\n",
       "font-family: var(--jp-code-font-family);\n",
       "font-size: var(--jp-code-font-size);\n",
       "line-height: var(--jp-code-line-height);\n",
       "\"><span style=\"color: var(--jp-warn-color2)\">lsst.characterizeImage.installSimplePsf</span> <span style=\"color: var(--jp-success-color0)\">DEBUG</span>: installing a simple Gaussian PSF model with width=61, height=61, FWHM=15.000</pre>"
      ],
      "text/plain": [
       "<IPython.core.display.HTML object>"
      ]
     },
     "metadata": {},
     "output_type": "display_data"
    },
    {
     "data": {
      "text/html": [
       "<pre style=\"margin: 0.1em;\n",
       "padding-left: 0.25em;\n",
       "border-left-style: solid;\n",
       "font-family: var(--jp-code-font-family);\n",
       "font-size: var(--jp-code-font-size);\n",
       "line-height: var(--jp-code-line-height);\n",
       "\"><span style=\"color: var(--jp-warn-color2)\">timer.lsst.characterizeImage.repair</span> <span style=\"color: var(--jp-success-color0)\">DEBUG</span>: runStartCpuTime=196.644209734; runStartUserTime=180.620802; runStartSystemTime=16.023399; runStartMaxResidentSetSize=1137893376; runStartMinorPageFaults=9851441; runStartMajorPageFaults=14; runStartBlockInputs=5311784; runStartBlockOutputs=2936; runStartVoluntaryContextSwitches=146268; runStartInvoluntaryContextSwitches=65185</pre>"
      ],
      "text/plain": [
       "<IPython.core.display.HTML object>"
      ]
     },
     "metadata": {},
     "output_type": "display_data"
    },
    {
     "data": {
      "text/html": [
       "<pre style=\"margin: 0.1em;\n",
       "padding-left: 0.25em;\n",
       "border-left-style: solid;\n",
       "font-family: var(--jp-code-font-family);\n",
       "font-size: var(--jp-code-font-size);\n",
       "line-height: var(--jp-code-line-height);\n",
       "\"><span style=\"color: var(--jp-warn-color2)\">lsst.characterizeImage.repair</span> <span style=\"color: var(--jp-info-color0)\">INFO</span>: Identified 5 cosmic rays.</pre>"
      ],
      "text/plain": [
       "<IPython.core.display.HTML object>"
      ]
     },
     "metadata": {},
     "output_type": "display_data"
    },
    {
     "data": {
      "text/html": [
       "<pre style=\"margin: 0.1em;\n",
       "padding-left: 0.25em;\n",
       "border-left-style: solid;\n",
       "font-family: var(--jp-code-font-family);\n",
       "font-size: var(--jp-code-font-size);\n",
       "line-height: var(--jp-code-line-height);\n",
       "\"><span style=\"color: var(--jp-warn-color2)\">timer.lsst.characterizeImage.repair</span> <span style=\"color: var(--jp-success-color0)\">DEBUG</span>: runEndCpuTime=197.160898933; runEndUserTime=181.10036; runEndSystemTime=16.060517; runEndMaxResidentSetSize=1137893376; runEndMinorPageFaults=9875541; runEndMajorPageFaults=14; runEndBlockInputs=5311784; runEndBlockOutputs=2936; runEndVoluntaryContextSwitches=146421; runEndInvoluntaryContextSwitches=65357</pre>"
      ],
      "text/plain": [
       "<IPython.core.display.HTML object>"
      ]
     },
     "metadata": {},
     "output_type": "display_data"
    },
    {
     "data": {
      "text/html": [
       "<pre style=\"margin: 0.1em;\n",
       "padding-left: 0.25em;\n",
       "border-left-style: solid;\n",
       "font-family: var(--jp-code-font-family);\n",
       "font-size: var(--jp-code-font-size);\n",
       "line-height: var(--jp-code-line-height);\n",
       "\"><span style=\"color: var(--jp-warn-color2)\">timer.lsst.characterizeImage.detection</span> <span style=\"color: var(--jp-success-color0)\">DEBUG</span>: runStartCpuTime=197.162110905; runStartUserTime=181.101587; runStartSystemTime=16.060517; runStartMaxResidentSetSize=1137893376; runStartMinorPageFaults=9875541; runStartMajorPageFaults=14; runStartBlockInputs=5311784; runStartBlockOutputs=2936; runStartVoluntaryContextSwitches=146440; runStartInvoluntaryContextSwitches=65361</pre>"
      ],
      "text/plain": [
       "<IPython.core.display.HTML object>"
      ]
     },
     "metadata": {},
     "output_type": "display_data"
    },
    {
     "data": {
      "text/html": [
       "<pre style=\"margin: 0.1em;\n",
       "padding-left: 0.25em;\n",
       "border-left-style: solid;\n",
       "font-family: var(--jp-code-font-family);\n",
       "font-size: var(--jp-code-font-size);\n",
       "line-height: var(--jp-code-line-height);\n",
       "\"><span style=\"color: var(--jp-warn-color2)\">timer.lsst.characterizeImage.detection</span> <span style=\"color: var(--jp-success-color0)\">DEBUG</span>: detectFootprintsStartCpuTime=197.162965033; detectFootprintsStartUserTime=181.102435; detectFootprintsStartSystemTime=16.060524; detectFootprintsStartMaxResidentSetSize=1137893376; detectFootprintsStartMinorPageFaults=9875541; detectFootprintsStartMajorPageFaults=14; detectFootprintsStartBlockInputs=5311784; detectFootprintsStartBlockOutputs=2936; detectFootprintsStartVoluntaryContextSwitches=146458; detectFootprintsStartInvoluntaryContextSwitches=65363</pre>"
      ],
      "text/plain": [
       "<IPython.core.display.HTML object>"
      ]
     },
     "metadata": {},
     "output_type": "display_data"
    },
    {
     "data": {
      "text/html": [
       "<pre style=\"margin: 0.1em;\n",
       "padding-left: 0.25em;\n",
       "border-left-style: solid;\n",
       "font-family: var(--jp-code-font-family);\n",
       "font-size: var(--jp-code-font-size);\n",
       "line-height: var(--jp-code-line-height);\n",
       "\"><span style=\"color: var(--jp-warn-color2)\">lsst.characterizeImage.detection</span> <span style=\"color: var(--jp-success-color0)\">DEBUG</span>: Detection threshold: VALUE value=3.1832579 (positive) multiplier=5</pre>"
      ],
      "text/plain": [
       "<IPython.core.display.HTML object>"
      ]
     },
     "metadata": {},
     "output_type": "display_data"
    },
    {
     "data": {
      "text/html": [
       "<pre style=\"margin: 0.1em;\n",
       "padding-left: 0.25em;\n",
       "border-left-style: solid;\n",
       "font-family: var(--jp-code-font-family);\n",
       "font-size: var(--jp-code-font-size);\n",
       "line-height: var(--jp-code-line-height);\n",
       "\"><span style=\"color: var(--jp-warn-color2)\">lsst.characterizeImage.detection</span> <span style=\"color: var(--jp-success-color0)\">DEBUG</span>: Detection threshold: VALUE value=3.1832579 (negative) multiplier=5</pre>"
      ],
      "text/plain": [
       "<IPython.core.display.HTML object>"
      ]
     },
     "metadata": {},
     "output_type": "display_data"
    },
    {
     "data": {
      "text/html": [
       "<pre style=\"margin: 0.1em;\n",
       "padding-left: 0.25em;\n",
       "border-left-style: solid;\n",
       "font-family: var(--jp-code-font-family);\n",
       "font-size: var(--jp-code-font-size);\n",
       "line-height: var(--jp-code-line-height);\n",
       "\"><span style=\"color: var(--jp-warn-color2)\">lsst.characterizeImage.detection</span> <span style=\"color: var(--jp-info-color0)\">INFO</span>: Detected 88 positive peaks in 76 footprints and 4 negative peaks in 4 footprints to 25 sigma</pre>"
      ],
      "text/plain": [
       "<IPython.core.display.HTML object>"
      ]
     },
     "metadata": {},
     "output_type": "display_data"
    },
    {
     "data": {
      "text/html": [
       "<pre style=\"margin: 0.1em;\n",
       "padding-left: 0.25em;\n",
       "border-left-style: solid;\n",
       "font-family: var(--jp-code-font-family);\n",
       "font-size: var(--jp-code-font-size);\n",
       "line-height: var(--jp-code-line-height);\n",
       "\"><span style=\"color: var(--jp-warn-color2)\">lsst.characterizeImage.detection.background</span> <span style=\"color: var(--jp-success-color0)\">DEBUG</span>: Ignoring mask planes: BAD, EDGE, DETECTED, DETECTED_NEGATIVE, NO_DATA</pre>"
      ],
      "text/plain": [
       "<IPython.core.display.HTML object>"
      ]
     },
     "metadata": {},
     "output_type": "display_data"
    },
    {
     "data": {
      "text/html": [
       "<pre style=\"margin: 0.1em;\n",
       "padding-left: 0.25em;\n",
       "border-left-style: solid;\n",
       "font-family: var(--jp-code-font-family);\n",
       "font-size: var(--jp-code-font-size);\n",
       "line-height: var(--jp-code-line-height);\n",
       "\"><span style=\"color: var(--jp-warn-color2)\">lsst.characterizeImage.detection</span> <span style=\"color: var(--jp-info-color0)\">INFO</span>: Resubtracting the background after object detection</pre>"
      ],
      "text/plain": [
       "<IPython.core.display.HTML object>"
      ]
     },
     "metadata": {},
     "output_type": "display_data"
    },
    {
     "data": {
      "text/html": [
       "<pre style=\"margin: 0.1em;\n",
       "padding-left: 0.25em;\n",
       "border-left-style: solid;\n",
       "font-family: var(--jp-code-font-family);\n",
       "font-size: var(--jp-code-font-size);\n",
       "line-height: var(--jp-code-line-height);\n",
       "\"><span style=\"color: var(--jp-warn-color2)\">timer.lsst.characterizeImage.detection</span> <span style=\"color: var(--jp-success-color0)\">DEBUG</span>: detectFootprintsEndCpuTime=200.542738683; detectFootprintsEndUserTime=184.2924; detectFootprintsEndSystemTime=16.250315; detectFootprintsEndMaxResidentSetSize=1139245056; detectFootprintsEndMinorPageFaults=10065667; detectFootprintsEndMajorPageFaults=14; detectFootprintsEndBlockInputs=5311784; detectFootprintsEndBlockOutputs=2936; detectFootprintsEndVoluntaryContextSwitches=147194; detectFootprintsEndInvoluntaryContextSwitches=65616</pre>"
      ],
      "text/plain": [
       "<IPython.core.display.HTML object>"
      ]
     },
     "metadata": {},
     "output_type": "display_data"
    },
    {
     "data": {
      "text/html": [
       "<pre style=\"margin: 0.1em;\n",
       "padding-left: 0.25em;\n",
       "border-left-style: solid;\n",
       "font-family: var(--jp-code-font-family);\n",
       "font-size: var(--jp-code-font-size);\n",
       "line-height: var(--jp-code-line-height);\n",
       "\"><span style=\"color: var(--jp-warn-color2)\">timer.lsst.characterizeImage.detection</span> <span style=\"color: var(--jp-success-color0)\">DEBUG</span>: runEndCpuTime=200.544109449; runEndUserTime=184.293756; runEndSystemTime=16.250347; runEndMaxResidentSetSize=1139245056; runEndMinorPageFaults=10065667; runEndMajorPageFaults=14; runEndBlockInputs=5311784; runEndBlockOutputs=2936; runEndVoluntaryContextSwitches=147212; runEndInvoluntaryContextSwitches=65616</pre>"
      ],
      "text/plain": [
       "<IPython.core.display.HTML object>"
      ]
     },
     "metadata": {},
     "output_type": "display_data"
    },
    {
     "data": {
      "text/html": [
       "<pre style=\"margin: 0.1em;\n",
       "padding-left: 0.25em;\n",
       "border-left-style: solid;\n",
       "font-family: var(--jp-code-font-family);\n",
       "font-size: var(--jp-code-font-size);\n",
       "line-height: var(--jp-code-line-height);\n",
       "\"><span style=\"color: var(--jp-warn-color2)\">timer.lsst.characterizeImage.measurement</span> <span style=\"color: var(--jp-success-color0)\">DEBUG</span>: runStartCpuTime=200.544942069; runStartUserTime=184.294588; runStartSystemTime=16.250347; runStartMaxResidentSetSize=1139245056; runStartMinorPageFaults=10065667; runStartMajorPageFaults=14; runStartBlockInputs=5311784; runStartBlockOutputs=2936; runStartVoluntaryContextSwitches=147231; runStartInvoluntaryContextSwitches=65616</pre>"
      ],
      "text/plain": [
       "<IPython.core.display.HTML object>"
      ]
     },
     "metadata": {},
     "output_type": "display_data"
    },
    {
     "data": {
      "text/html": [
       "<pre style=\"margin: 0.1em;\n",
       "padding-left: 0.25em;\n",
       "border-left-style: solid;\n",
       "font-family: var(--jp-code-font-family);\n",
       "font-size: var(--jp-code-font-size);\n",
       "line-height: var(--jp-code-line-height);\n",
       "\"><span style=\"color: var(--jp-warn-color2)\">lsst.characterizeImage.measurement</span> <span style=\"color: var(--jp-success-color0)\">DEBUG</span>: Mask plane &quot;THISDET&quot;: plane 10, bitmask 1024 = 0x400</pre>"
      ],
      "text/plain": [
       "<IPython.core.display.HTML object>"
      ]
     },
     "metadata": {},
     "output_type": "display_data"
    },
    {
     "data": {
      "text/html": [
       "<pre style=\"margin: 0.1em;\n",
       "padding-left: 0.25em;\n",
       "border-left-style: solid;\n",
       "font-family: var(--jp-code-font-family);\n",
       "font-size: var(--jp-code-font-size);\n",
       "line-height: var(--jp-code-line-height);\n",
       "\"><span style=\"color: var(--jp-warn-color2)\">lsst.characterizeImage.measurement</span> <span style=\"color: var(--jp-success-color0)\">DEBUG</span>: Mask plane &quot;OTHERDET&quot;: plane 11, bitmask 2048 = 0x800</pre>"
      ],
      "text/plain": [
       "<IPython.core.display.HTML object>"
      ]
     },
     "metadata": {},
     "output_type": "display_data"
    },
    {
     "data": {
      "text/html": [
       "<pre style=\"margin: 0.1em;\n",
       "padding-left: 0.25em;\n",
       "border-left-style: solid;\n",
       "font-family: var(--jp-code-font-family);\n",
       "font-size: var(--jp-code-font-size);\n",
       "line-height: var(--jp-code-line-height);\n",
       "\"><span style=\"color: var(--jp-warn-color2)\">lsst.characterizeImage.measurement</span> <span style=\"color: var(--jp-success-color0)\">DEBUG</span>: Measured from image: clipped mean = 0.117997, stdev = 9.33451</pre>"
      ],
      "text/plain": [
       "<IPython.core.display.HTML object>"
      ]
     },
     "metadata": {},
     "output_type": "display_data"
    },
    {
     "data": {
      "text/html": [
       "<pre style=\"margin: 0.1em;\n",
       "padding-left: 0.25em;\n",
       "border-left-style: solid;\n",
       "font-family: var(--jp-code-font-family);\n",
       "font-size: var(--jp-code-font-size);\n",
       "line-height: var(--jp-code-line-height);\n",
       "\"><span style=\"color: var(--jp-warn-color2)\">lsst.characterizeImage.measurement</span> <span style=\"color: var(--jp-success-color0)\">DEBUG</span>: Using noise generator: FixedGaussianNoiseGenerator: mean=0.117997, std=9.33451</pre>"
      ],
      "text/plain": [
       "<IPython.core.display.HTML object>"
      ]
     },
     "metadata": {},
     "output_type": "display_data"
    },
    {
     "data": {
      "text/html": [
       "<pre style=\"margin: 0.1em;\n",
       "padding-left: 0.25em;\n",
       "border-left-style: solid;\n",
       "font-family: var(--jp-code-font-family);\n",
       "font-size: var(--jp-code-font-size);\n",
       "line-height: var(--jp-code-line-height);\n",
       "\"><span style=\"color: var(--jp-warn-color2)\">lsst.characterizeImage.measurement</span> <span style=\"color: var(--jp-info-color0)\">INFO</span>: Measuring 76 sources (76 parents, 0 children) </pre>"
      ],
      "text/plain": [
       "<IPython.core.display.HTML object>"
      ]
     },
     "metadata": {},
     "output_type": "display_data"
    },
    {
     "data": {
      "text/html": [
       "<pre style=\"margin: 0.1em;\n",
       "padding-left: 0.25em;\n",
       "border-left-style: solid;\n",
       "font-family: var(--jp-code-font-family);\n",
       "font-size: var(--jp-code-font-size);\n",
       "line-height: var(--jp-code-line-height);\n",
       "\"><span style=\"color: var(--jp-warn-color2)\">lsst.characterizeImage.measurement.base_GaussianFlux</span> <span style=\"color: var(--jp-success-color0)\">DEBUG</span>: MeasurementError in base_GaussianFlux.measure on record 75: \n",
       "  File &quot;src/InputUtilities.cc&quot;, line 179, in lsst::afw::geom::ellipses::Quadrupole lsst::meas::base::SafeShapeExtractor::operator()(lsst::afw::table::SourceRecord&amp;, const lsst::meas::base::FlagHandler&amp;) const\n",
       "    base_GaussianFlux: Shape needed, and Shape slot measurement failed. {0}\n",
       "lsst::meas::base::MeasurementError: &#x27;base_GaussianFlux: Shape needed, and Shape slot measurement failed.&#x27;\n",
       "</pre>"
      ],
      "text/plain": [
       "<IPython.core.display.HTML object>"
      ]
     },
     "metadata": {},
     "output_type": "display_data"
    },
    {
     "data": {
      "text/html": [
       "<pre style=\"margin: 0.1em;\n",
       "padding-left: 0.25em;\n",
       "border-left-style: solid;\n",
       "font-family: var(--jp-code-font-family);\n",
       "font-size: var(--jp-code-font-size);\n",
       "line-height: var(--jp-code-line-height);\n",
       "\"><span style=\"color: var(--jp-warn-color2)\">lsst.characterizeImage.measurement.base_SdssCentroid</span> <span style=\"color: var(--jp-success-color0)\">DEBUG</span>: MeasurementError in base_SdssCentroid.measure on record 76: \n",
       "  File &quot;src/SdssCentroid.cc&quot;, line 384, in std::pair&lt;MaskedImageT, double&gt; lsst::meas::base::{anonymous}::smoothAndBinImage(std::shared_ptr&lt;const lsst::afw::detection::Psf&gt;, int, int, const MaskedImageT&amp;, int, int, lsst::meas::base::FlagHandler) [with MaskedImageT = lsst::afw::image::MaskedImage&lt;float&gt;]\n",
       "    Object too close to edge {0}\n",
       "lsst::meas::base::MeasurementError: &#x27;Object too close to edge&#x27;\n",
       "</pre>"
      ],
      "text/plain": [
       "<IPython.core.display.HTML object>"
      ]
     },
     "metadata": {},
     "output_type": "display_data"
    },
    {
     "data": {
      "text/html": [
       "<pre style=\"margin: 0.1em;\n",
       "padding-left: 0.25em;\n",
       "border-left-style: solid;\n",
       "font-family: var(--jp-code-font-family);\n",
       "font-size: var(--jp-code-font-size);\n",
       "line-height: var(--jp-code-line-height);\n",
       "\"><span style=\"color: var(--jp-warn-color2)\">timer.lsst.characterizeImage.measurement</span> <span style=\"color: var(--jp-success-color0)\">DEBUG</span>: runEndCpuTime=201.272148161; runEndUserTime=184.983804; runEndSystemTime=16.288322; runEndMaxResidentSetSize=1139245056; runEndMinorPageFaults=10089773; runEndMajorPageFaults=14; runEndBlockInputs=5311784; runEndBlockOutputs=2936; runEndVoluntaryContextSwitches=147576; runEndInvoluntaryContextSwitches=65818</pre>"
      ],
      "text/plain": [
       "<IPython.core.display.HTML object>"
      ]
     },
     "metadata": {},
     "output_type": "display_data"
    },
    {
     "data": {
      "text/html": [
       "<pre style=\"margin: 0.1em;\n",
       "padding-left: 0.25em;\n",
       "border-left-style: solid;\n",
       "font-family: var(--jp-code-font-family);\n",
       "font-size: var(--jp-code-font-size);\n",
       "line-height: var(--jp-code-line-height);\n",
       "\"><span style=\"color: var(--jp-warn-color2)\">timer.lsst.characterizeImage.measurePsf</span> <span style=\"color: var(--jp-success-color0)\">DEBUG</span>: runStartCpuTime=201.273330551; runStartUserTime=184.984986; runStartSystemTime=16.288338; runStartMaxResidentSetSize=1139245056; runStartMinorPageFaults=10089773; runStartMajorPageFaults=14; runStartBlockInputs=5311784; runStartBlockOutputs=2936; runStartVoluntaryContextSwitches=147600; runStartInvoluntaryContextSwitches=65818</pre>"
      ],
      "text/plain": [
       "<IPython.core.display.HTML object>"
      ]
     },
     "metadata": {},
     "output_type": "display_data"
    },
    {
     "data": {
      "text/html": [
       "<pre style=\"margin: 0.1em;\n",
       "padding-left: 0.25em;\n",
       "border-left-style: solid;\n",
       "font-family: var(--jp-code-font-family);\n",
       "font-size: var(--jp-code-font-size);\n",
       "line-height: var(--jp-code-line-height);\n",
       "\"><span style=\"color: var(--jp-warn-color2)\">lsst.characterizeImage.measurePsf</span> <span style=\"color: var(--jp-info-color0)\">INFO</span>: Measuring PSF</pre>"
      ],
      "text/plain": [
       "<IPython.core.display.HTML object>"
      ]
     },
     "metadata": {},
     "output_type": "display_data"
    },
    {
     "data": {
      "text/html": [
       "<pre style=\"margin: 0.1em;\n",
       "padding-left: 0.25em;\n",
       "border-left-style: solid;\n",
       "font-family: var(--jp-code-font-family);\n",
       "font-size: var(--jp-code-font-size);\n",
       "line-height: var(--jp-code-line-height);\n",
       "\"><span style=\"color: var(--jp-warn-color2)\">lsst.characterizeImage.measurePsf</span> <span style=\"color: var(--jp-info-color0)\">INFO</span>: PSF star selector found 30 candidates</pre>"
      ],
      "text/plain": [
       "<IPython.core.display.HTML object>"
      ]
     },
     "metadata": {},
     "output_type": "display_data"
    },
    {
     "data": {
      "text/html": [
       "<pre style=\"margin: 0.1em;\n",
       "padding-left: 0.25em;\n",
       "border-left-style: solid;\n",
       "font-family: var(--jp-code-font-family);\n",
       "font-size: var(--jp-code-font-size);\n",
       "line-height: var(--jp-code-line-height);\n",
       "\"><span style=\"color: var(--jp-warn-color2)\">lsst.characterizeImage.measurePsf.reserve</span> <span style=\"color: var(--jp-info-color0)\">INFO</span>: Reserved 0/30 sources</pre>"
      ],
      "text/plain": [
       "<IPython.core.display.HTML object>"
      ]
     },
     "metadata": {},
     "output_type": "display_data"
    },
    {
     "data": {
      "text/html": [
       "<pre style=\"margin: 0.1em;\n",
       "padding-left: 0.25em;\n",
       "border-left-style: solid;\n",
       "font-family: var(--jp-code-font-family);\n",
       "font-size: var(--jp-code-font-size);\n",
       "line-height: var(--jp-code-line-height);\n",
       "\"><span style=\"color: var(--jp-warn-color2)\">lsst.characterizeImage.measurePsf</span> <span style=\"color: var(--jp-info-color0)\">INFO</span>: Sending 30 candidates to PSF determiner</pre>"
      ],
      "text/plain": [
       "<IPython.core.display.HTML object>"
      ]
     },
     "metadata": {},
     "output_type": "display_data"
    },
    {
     "data": {
      "text/html": [
       "<pre style=\"margin: 0.1em;\n",
       "padding-left: 0.25em;\n",
       "border-left-style: solid;\n",
       "font-family: var(--jp-code-font-family);\n",
       "font-size: var(--jp-code-font-size);\n",
       "line-height: var(--jp-code-line-height);\n",
       "\"><span style=\"color: var(--jp-warn-color2)\">lsst.characterizeImage.measurePsf.psfDeterminer</span> <span style=\"color: var(--jp-warn-color0)\">WARNING</span>: NOT scaling kernelSize by stellar quadrupole moment, but using absolute value</pre>"
      ],
      "text/plain": [
       "<IPython.core.display.HTML object>"
      ]
     },
     "metadata": {},
     "output_type": "display_data"
    },
    {
     "data": {
      "text/html": [
       "<pre style=\"margin: 0.1em;\n",
       "padding-left: 0.25em;\n",
       "border-left-style: solid;\n",
       "font-family: var(--jp-code-font-family);\n",
       "font-size: var(--jp-code-font-size);\n",
       "line-height: var(--jp-code-line-height);\n",
       "\"><span style=\"color: var(--jp-warn-color2)\">lsst.characterizeImage.measurePsf</span> <span style=\"color: var(--jp-info-color0)\">INFO</span>: PSF determination using 19/30 stars.</pre>"
      ],
      "text/plain": [
       "<IPython.core.display.HTML object>"
      ]
     },
     "metadata": {},
     "output_type": "display_data"
    },
    {
     "data": {
      "text/html": [
       "<pre style=\"margin: 0.1em;\n",
       "padding-left: 0.25em;\n",
       "border-left-style: solid;\n",
       "font-family: var(--jp-code-font-family);\n",
       "font-size: var(--jp-code-font-size);\n",
       "line-height: var(--jp-code-line-height);\n",
       "\"><span style=\"color: var(--jp-warn-color2)\">timer.lsst.characterizeImage.measurePsf</span> <span style=\"color: var(--jp-success-color0)\">DEBUG</span>: runEndCpuTime=201.930973498; runEndUserTime=185.620599; runEndSystemTime=16.31035; runEndMaxResidentSetSize=1139245056; runEndMinorPageFaults=10113874; runEndMajorPageFaults=14; runEndBlockInputs=5311784; runEndBlockOutputs=2936; runEndVoluntaryContextSwitches=147880; runEndInvoluntaryContextSwitches=65880</pre>"
      ],
      "text/plain": [
       "<IPython.core.display.HTML object>"
      ]
     },
     "metadata": {},
     "output_type": "display_data"
    },
    {
     "data": {
      "text/html": [
       "<pre style=\"margin: 0.1em;\n",
       "padding-left: 0.25em;\n",
       "border-left-style: solid;\n",
       "font-family: var(--jp-code-font-family);\n",
       "font-size: var(--jp-code-font-size);\n",
       "line-height: var(--jp-code-line-height);\n",
       "\"><span style=\"color: var(--jp-warn-color2)\">timer.lsst.characterizeImage</span> <span style=\"color: var(--jp-success-color0)\">DEBUG</span>: detectMeasureAndEstimatePsfEndCpuTime=201.931980173; detectMeasureAndEstimatePsfEndUserTime=185.621621; detectMeasureAndEstimatePsfEndSystemTime=16.310352; detectMeasureAndEstimatePsfEndMaxResidentSetSize=1139245056; detectMeasureAndEstimatePsfEndMinorPageFaults=10113874; detectMeasureAndEstimatePsfEndMajorPageFaults=14; detectMeasureAndEstimatePsfEndBlockInputs=5311784; detectMeasureAndEstimatePsfEndBlockOutputs=2936; detectMeasureAndEstimatePsfEndVoluntaryContextSwitches=147899; detectMeasureAndEstimatePsfEndInvoluntaryContextSwitches=65880</pre>"
      ],
      "text/plain": [
       "<IPython.core.display.HTML object>"
      ]
     },
     "metadata": {},
     "output_type": "display_data"
    },
    {
     "data": {
      "text/html": [
       "<pre style=\"margin: 0.1em;\n",
       "padding-left: 0.25em;\n",
       "border-left-style: solid;\n",
       "font-family: var(--jp-code-font-family);\n",
       "font-size: var(--jp-code-font-size);\n",
       "line-height: var(--jp-code-line-height);\n",
       "\"><span style=\"color: var(--jp-warn-color2)\">lsst.characterizeImage</span> <span style=\"color: var(--jp-info-color0)\">INFO</span>: iter 1; PSF sigma=7.41, dimensions=(41, 41); median background=5.97</pre>"
      ],
      "text/plain": [
       "<IPython.core.display.HTML object>"
      ]
     },
     "metadata": {},
     "output_type": "display_data"
    },
    {
     "data": {
      "text/html": [
       "<pre style=\"margin: 0.1em;\n",
       "padding-left: 0.25em;\n",
       "border-left-style: solid;\n",
       "font-family: var(--jp-code-font-family);\n",
       "font-size: var(--jp-code-font-size);\n",
       "line-height: var(--jp-code-line-height);\n",
       "\"><span style=\"color: var(--jp-warn-color2)\">timer.lsst.characterizeImage.repair</span> <span style=\"color: var(--jp-success-color0)\">DEBUG</span>: runStartCpuTime=202.162550417; runStartUserTime=185.798249; runStartSystemTime=16.364279; runStartMaxResidentSetSize=1139245056; runStartMinorPageFaults=10161595; runStartMajorPageFaults=14; runStartBlockInputs=5311784; runStartBlockOutputs=2936; runStartVoluntaryContextSwitches=147982; runStartInvoluntaryContextSwitches=65880</pre>"
      ],
      "text/plain": [
       "<IPython.core.display.HTML object>"
      ]
     },
     "metadata": {},
     "output_type": "display_data"
    },
    {
     "data": {
      "text/html": [
       "<pre style=\"margin: 0.1em;\n",
       "padding-left: 0.25em;\n",
       "border-left-style: solid;\n",
       "font-family: var(--jp-code-font-family);\n",
       "font-size: var(--jp-code-font-size);\n",
       "line-height: var(--jp-code-line-height);\n",
       "\"><span style=\"color: var(--jp-warn-color2)\">lsst.characterizeImage.repair</span> <span style=\"color: var(--jp-info-color0)\">INFO</span>: Identified 5 cosmic rays.</pre>"
      ],
      "text/plain": [
       "<IPython.core.display.HTML object>"
      ]
     },
     "metadata": {},
     "output_type": "display_data"
    },
    {
     "data": {
      "text/html": [
       "<pre style=\"margin: 0.1em;\n",
       "padding-left: 0.25em;\n",
       "border-left-style: solid;\n",
       "font-family: var(--jp-code-font-family);\n",
       "font-size: var(--jp-code-font-size);\n",
       "line-height: var(--jp-code-line-height);\n",
       "\"><span style=\"color: var(--jp-warn-color2)\">timer.lsst.characterizeImage.repair</span> <span style=\"color: var(--jp-success-color0)\">DEBUG</span>: runEndCpuTime=202.627144427; runEndUserTime=186.2288; runEndSystemTime=16.398323; runEndMaxResidentSetSize=1139245056; runEndMinorPageFaults=10185696; runEndMajorPageFaults=14; runEndBlockInputs=5311784; runEndBlockOutputs=2936; runEndVoluntaryContextSwitches=148116; runEndInvoluntaryContextSwitches=65944</pre>"
      ],
      "text/plain": [
       "<IPython.core.display.HTML object>"
      ]
     },
     "metadata": {},
     "output_type": "display_data"
    },
    {
     "data": {
      "text/html": [
       "<pre style=\"margin: 0.1em;\n",
       "padding-left: 0.25em;\n",
       "border-left-style: solid;\n",
       "font-family: var(--jp-code-font-family);\n",
       "font-size: var(--jp-code-font-size);\n",
       "line-height: var(--jp-code-line-height);\n",
       "\"><span style=\"color: var(--jp-warn-color2)\">timer.lsst.characterizeImage.measurement</span> <span style=\"color: var(--jp-success-color0)\">DEBUG</span>: runStartCpuTime=202.628016487; runStartUserTime=186.229687; runStartSystemTime=16.398323; runStartMaxResidentSetSize=1139245056; runStartMinorPageFaults=10185696; runStartMajorPageFaults=14; runStartBlockInputs=5311784; runStartBlockOutputs=2936; runStartVoluntaryContextSwitches=148134; runStartInvoluntaryContextSwitches=65944</pre>"
      ],
      "text/plain": [
       "<IPython.core.display.HTML object>"
      ]
     },
     "metadata": {},
     "output_type": "display_data"
    },
    {
     "data": {
      "text/html": [
       "<pre style=\"margin: 0.1em;\n",
       "padding-left: 0.25em;\n",
       "border-left-style: solid;\n",
       "font-family: var(--jp-code-font-family);\n",
       "font-size: var(--jp-code-font-size);\n",
       "line-height: var(--jp-code-line-height);\n",
       "\"><span style=\"color: var(--jp-warn-color2)\">lsst.characterizeImage.measurement</span> <span style=\"color: var(--jp-success-color0)\">DEBUG</span>: Mask plane &quot;THISDET&quot;: plane 10, bitmask 1024 = 0x400</pre>"
      ],
      "text/plain": [
       "<IPython.core.display.HTML object>"
      ]
     },
     "metadata": {},
     "output_type": "display_data"
    },
    {
     "data": {
      "text/html": [
       "<pre style=\"margin: 0.1em;\n",
       "padding-left: 0.25em;\n",
       "border-left-style: solid;\n",
       "font-family: var(--jp-code-font-family);\n",
       "font-size: var(--jp-code-font-size);\n",
       "line-height: var(--jp-code-line-height);\n",
       "\"><span style=\"color: var(--jp-warn-color2)\">lsst.characterizeImage.measurement</span> <span style=\"color: var(--jp-success-color0)\">DEBUG</span>: Mask plane &quot;OTHERDET&quot;: plane 11, bitmask 2048 = 0x800</pre>"
      ],
      "text/plain": [
       "<IPython.core.display.HTML object>"
      ]
     },
     "metadata": {},
     "output_type": "display_data"
    },
    {
     "data": {
      "text/html": [
       "<pre style=\"margin: 0.1em;\n",
       "padding-left: 0.25em;\n",
       "border-left-style: solid;\n",
       "font-family: var(--jp-code-font-family);\n",
       "font-size: var(--jp-code-font-size);\n",
       "line-height: var(--jp-code-line-height);\n",
       "\"><span style=\"color: var(--jp-warn-color2)\">lsst.characterizeImage.measurement</span> <span style=\"color: var(--jp-success-color0)\">DEBUG</span>: Measured from image: clipped mean = 0.117997, stdev = 9.33452</pre>"
      ],
      "text/plain": [
       "<IPython.core.display.HTML object>"
      ]
     },
     "metadata": {},
     "output_type": "display_data"
    },
    {
     "data": {
      "text/html": [
       "<pre style=\"margin: 0.1em;\n",
       "padding-left: 0.25em;\n",
       "border-left-style: solid;\n",
       "font-family: var(--jp-code-font-family);\n",
       "font-size: var(--jp-code-font-size);\n",
       "line-height: var(--jp-code-line-height);\n",
       "\"><span style=\"color: var(--jp-warn-color2)\">lsst.characterizeImage.measurement</span> <span style=\"color: var(--jp-success-color0)\">DEBUG</span>: Using noise generator: FixedGaussianNoiseGenerator: mean=0.117997, std=9.33452</pre>"
      ],
      "text/plain": [
       "<IPython.core.display.HTML object>"
      ]
     },
     "metadata": {},
     "output_type": "display_data"
    },
    {
     "data": {
      "text/html": [
       "<pre style=\"margin: 0.1em;\n",
       "padding-left: 0.25em;\n",
       "border-left-style: solid;\n",
       "font-family: var(--jp-code-font-family);\n",
       "font-size: var(--jp-code-font-size);\n",
       "line-height: var(--jp-code-line-height);\n",
       "\"><span style=\"color: var(--jp-warn-color2)\">lsst.characterizeImage.measurement</span> <span style=\"color: var(--jp-info-color0)\">INFO</span>: Measuring 76 sources (76 parents, 0 children) </pre>"
      ],
      "text/plain": [
       "<IPython.core.display.HTML object>"
      ]
     },
     "metadata": {},
     "output_type": "display_data"
    },
    {
     "data": {
      "text/html": [
       "<pre style=\"margin: 0.1em;\n",
       "padding-left: 0.25em;\n",
       "border-left-style: solid;\n",
       "font-family: var(--jp-code-font-family);\n",
       "font-size: var(--jp-code-font-size);\n",
       "line-height: var(--jp-code-line-height);\n",
       "\"><span style=\"color: var(--jp-warn-color2)\">lsst.characterizeImage.measurement.base_GaussianFlux</span> <span style=\"color: var(--jp-success-color0)\">DEBUG</span>: MeasurementError in base_GaussianFlux.measure on record 75: \n",
       "  File &quot;src/InputUtilities.cc&quot;, line 179, in lsst::afw::geom::ellipses::Quadrupole lsst::meas::base::SafeShapeExtractor::operator()(lsst::afw::table::SourceRecord&amp;, const lsst::meas::base::FlagHandler&amp;) const\n",
       "    base_GaussianFlux: Shape needed, and Shape slot measurement failed. {0}\n",
       "lsst::meas::base::MeasurementError: &#x27;base_GaussianFlux: Shape needed, and Shape slot measurement failed.&#x27;\n",
       "</pre>"
      ],
      "text/plain": [
       "<IPython.core.display.HTML object>"
      ]
     },
     "metadata": {},
     "output_type": "display_data"
    },
    {
     "data": {
      "text/html": [
       "<pre style=\"margin: 0.1em;\n",
       "padding-left: 0.25em;\n",
       "border-left-style: solid;\n",
       "font-family: var(--jp-code-font-family);\n",
       "font-size: var(--jp-code-font-size);\n",
       "line-height: var(--jp-code-line-height);\n",
       "\"><span style=\"color: var(--jp-warn-color2)\">lsst.characterizeImage.measurement.base_SdssCentroid</span> <span style=\"color: var(--jp-success-color0)\">DEBUG</span>: MeasurementError in base_SdssCentroid.measure on record 76: \n",
       "  File &quot;src/SdssCentroid.cc&quot;, line 384, in std::pair&lt;MaskedImageT, double&gt; lsst::meas::base::{anonymous}::smoothAndBinImage(std::shared_ptr&lt;const lsst::afw::detection::Psf&gt;, int, int, const MaskedImageT&amp;, int, int, lsst::meas::base::FlagHandler) [with MaskedImageT = lsst::afw::image::MaskedImage&lt;float&gt;]\n",
       "    Object too close to edge {0}\n",
       "lsst::meas::base::MeasurementError: &#x27;Object too close to edge&#x27;\n",
       "</pre>"
      ],
      "text/plain": [
       "<IPython.core.display.HTML object>"
      ]
     },
     "metadata": {},
     "output_type": "display_data"
    },
    {
     "data": {
      "text/html": [
       "<pre style=\"margin: 0.1em;\n",
       "padding-left: 0.25em;\n",
       "border-left-style: solid;\n",
       "font-family: var(--jp-code-font-family);\n",
       "font-size: var(--jp-code-font-size);\n",
       "line-height: var(--jp-code-line-height);\n",
       "\"><span style=\"color: var(--jp-warn-color2)\">timer.lsst.characterizeImage.measurement</span> <span style=\"color: var(--jp-success-color0)\">DEBUG</span>: runEndCpuTime=203.401734407; runEndUserTime=186.974545; runEndSystemTime=16.427167; runEndMaxResidentSetSize=1139245056; runEndMinorPageFaults=10209799; runEndMajorPageFaults=14; runEndBlockInputs=5311784; runEndBlockOutputs=2936; runEndVoluntaryContextSwitches=148475; runEndInvoluntaryContextSwitches=66118</pre>"
      ],
      "text/plain": [
       "<IPython.core.display.HTML object>"
      ]
     },
     "metadata": {},
     "output_type": "display_data"
    },
    {
     "data": {
      "text/html": [
       "<pre style=\"margin: 0.1em;\n",
       "padding-left: 0.25em;\n",
       "border-left-style: solid;\n",
       "font-family: var(--jp-code-font-family);\n",
       "font-size: var(--jp-code-font-size);\n",
       "line-height: var(--jp-code-line-height);\n",
       "\"><span style=\"color: var(--jp-warn-color2)\">timer.lsst.characterizeImage.catalogCalculation</span> <span style=\"color: var(--jp-success-color0)\">DEBUG</span>: runStartCpuTime=203.402869604; runStartUserTime=186.975684; runStartSystemTime=16.427179; runStartMaxResidentSetSize=1139245056; runStartMinorPageFaults=10209799; runStartMajorPageFaults=14; runStartBlockInputs=5311784; runStartBlockOutputs=2936; runStartVoluntaryContextSwitches=148496; runStartInvoluntaryContextSwitches=66118</pre>"
      ],
      "text/plain": [
       "<IPython.core.display.HTML object>"
      ]
     },
     "metadata": {},
     "output_type": "display_data"
    },
    {
     "data": {
      "text/html": [
       "<pre style=\"margin: 0.1em;\n",
       "padding-left: 0.25em;\n",
       "border-left-style: solid;\n",
       "font-family: var(--jp-code-font-family);\n",
       "font-size: var(--jp-code-font-size);\n",
       "line-height: var(--jp-code-line-height);\n",
       "\"><span style=\"color: var(--jp-warn-color2)\">timer.lsst.characterizeImage.catalogCalculation</span> <span style=\"color: var(--jp-success-color0)\">DEBUG</span>: runEndCpuTime=203.405264063; runEndUserTime=186.978047; runEndSystemTime=16.427211; runEndMaxResidentSetSize=1139245056; runEndMinorPageFaults=10209799; runEndMajorPageFaults=14; runEndBlockInputs=5311784; runEndBlockOutputs=2936; runEndVoluntaryContextSwitches=148515; runEndInvoluntaryContextSwitches=66118</pre>"
      ],
      "text/plain": [
       "<IPython.core.display.HTML object>"
      ]
     },
     "metadata": {},
     "output_type": "display_data"
    },
    {
     "data": {
      "text/html": [
       "<pre style=\"margin: 0.1em;\n",
       "padding-left: 0.25em;\n",
       "border-left-style: solid;\n",
       "font-family: var(--jp-code-font-family);\n",
       "font-size: var(--jp-code-font-size);\n",
       "line-height: var(--jp-code-line-height);\n",
       "\"><span style=\"color: var(--jp-warn-color2)\">timer.lsst.characterizeImage</span> <span style=\"color: var(--jp-success-color0)\">DEBUG</span>: runEndCpuTime=203.406129624; runEndUserTime=186.978913; runEndSystemTime=16.427211; runEndMaxResidentSetSize=1139245056; runEndMinorPageFaults=10209799; runEndMajorPageFaults=14; runEndBlockInputs=5311784; runEndBlockOutputs=2936; runEndVoluntaryContextSwitches=148539; runEndInvoluntaryContextSwitches=66118</pre>"
      ],
      "text/plain": [
       "<IPython.core.display.HTML object>"
      ]
     },
     "metadata": {},
     "output_type": "display_data"
    },
    {
     "name": "stdout",
     "output_type": "stream",
     "text": [
      "Psf shape from imChar task (x,y) = (1.681, 1.659) FWHM arcsec\n",
      "{'day_obs': 20220526, 'seq_num': 144, 'detector': 0, 'instrument': 'LATISS'}\n"
     ]
    },
    {
     "data": {
      "text/html": [
       "<pre style=\"margin: 0.1em;\n",
       "padding-left: 0.25em;\n",
       "border-left-style: solid;\n",
       "font-family: var(--jp-code-font-family);\n",
       "font-size: var(--jp-code-font-size);\n",
       "line-height: var(--jp-code-line-height);\n",
       "\"><span style=\"color: var(--jp-warn-color2)\">lsst.daf.butler._butler</span> <span style=\"color: var(--jp-success-color0)\">DEBUG</span>: Butler get: quickLookExp, dataId={&#x27;day_obs&#x27;: 20220526, &#x27;seq_num&#x27;: 144, &#x27;detector&#x27;: 0, &#x27;instrument&#x27;: &#x27;LATISS&#x27;}, parameters=None</pre>"
      ],
      "text/plain": [
       "<IPython.core.display.HTML object>"
      ]
     },
     "metadata": {},
     "output_type": "display_data"
    },
    {
     "data": {
      "text/html": [
       "<pre style=\"margin: 0.1em;\n",
       "padding-left: 0.25em;\n",
       "border-left-style: solid;\n",
       "font-family: var(--jp-code-font-family);\n",
       "font-size: var(--jp-code-font-size);\n",
       "line-height: var(--jp-code-line-height);\n",
       "\"><span style=\"color: var(--jp-warn-color2)\">lsst.daf.butler._butler</span> <span style=\"color: var(--jp-success-color0)\">DEBUG</span>: Assigned non-dimension dataId keys to dimension exposure: {&#x27;day_obs&#x27;: 20220526, &#x27;seq_num&#x27;: 144}</pre>"
      ],
      "text/plain": [
       "<IPython.core.display.HTML object>"
      ]
     },
     "metadata": {},
     "output_type": "display_data"
    },
    {
     "data": {
      "text/html": [
       "<pre style=\"margin: 0.1em;\n",
       "padding-left: 0.25em;\n",
       "border-left-style: solid;\n",
       "font-family: var(--jp-code-font-family);\n",
       "font-size: var(--jp-code-font-size);\n",
       "line-height: var(--jp-code-line-height);\n",
       "\"><span style=\"color: var(--jp-warn-color2)\">lsst.daf.butler.datastores.fileDatastore</span> <span style=\"color: var(--jp-success-color0)\">DEBUG</span>: Retrieve quickLookExp@{instrument: &#x27;LATISS&#x27;, detector: 0, exposure: 2022052600144}, sc=ExposureF] (id=8861f0a6-5bbf-4a77-b6b4-5db094b461ec) from FileDatastore@&lt;butlerRoot&gt; with parameters None</pre>"
      ],
      "text/plain": [
       "<IPython.core.display.HTML object>"
      ]
     },
     "metadata": {},
     "output_type": "display_data"
    },
    {
     "data": {
      "text/html": [
       "<pre style=\"margin: 0.1em;\n",
       "padding-left: 0.25em;\n",
       "border-left-style: solid;\n",
       "font-family: var(--jp-code-font-family);\n",
       "font-size: var(--jp-code-font-size);\n",
       "line-height: var(--jp-code-line-height);\n",
       "\"><span style=\"color: var(--jp-warn-color2)\">lsst.daf.butler.datastores.fileDatastore</span> <span style=\"color: var(--jp-success-color0)\">DEBUG</span>: Accessing data from file:///repo/LATISS/LATISS/runs/quickLook/1/quickLookExp/20220526/AT_O_20220526_000144/quickLookExp_LATISS_SDSSr~empty_AT_O_20220526_000144_RXX_S00_LATISS_runs_quickLook_1.fits</pre>"
      ],
      "text/plain": [
       "<IPython.core.display.HTML object>"
      ]
     },
     "metadata": {},
     "output_type": "display_data"
    },
    {
     "data": {
      "text/html": [
       "<pre style=\"margin: 0.1em;\n",
       "padding-left: 0.25em;\n",
       "border-left-style: solid;\n",
       "font-family: var(--jp-code-font-family);\n",
       "font-size: var(--jp-code-font-size);\n",
       "line-height: var(--jp-code-line-height);\n",
       "\"><span style=\"color: var(--jp-warn-color2)\">lsst.daf.butler.datastores.fileDatastore</span> <span style=\"color: var(--jp-success-color0)\">DEBUG</span>: Reading from location file:///repo/LATISS/LATISS/runs/quickLook/1/quickLookExp/20220526/AT_O_20220526_000144/quickLookExp_LATISS_SDSSr~empty_AT_O_20220526_000144_RXX_S00_LATISS_runs_quickLook_1.fits  with formatter lsst.obs.base.formatters.fitsExposure.FitsExposureFormatter</pre>"
      ],
      "text/plain": [
       "<IPython.core.display.HTML object>"
      ]
     },
     "metadata": {},
     "output_type": "display_data"
    },
    {
     "data": {
      "text/html": [
       "<pre style=\"margin: 0.1em;\n",
       "padding-left: 0.25em;\n",
       "border-left-style: solid;\n",
       "font-family: var(--jp-code-font-family);\n",
       "font-size: var(--jp-code-font-size);\n",
       "line-height: var(--jp-code-line-height);\n",
       "\"><span style=\"color: var(--jp-warn-color2)\">timer.lsst.daf.butler.datastores.fileDatastore</span> <span style=\"color: var(--jp-success-color0)\">DEBUG</span>: Reading from location file:///repo/LATISS/LATISS/runs/quickLook/1/quickLookExp/20220526/AT_O_20220526_000144/quickLookExp_LATISS_SDSSr~empty_AT_O_20220526_000144_RXX_S00_LATISS_runs_quickLook_1.fits  with formatter lsst.obs.base.formatters.fitsExposure.FitsExposureFormatter: Took 1.0317 seconds</pre>"
      ],
      "text/plain": [
       "<IPython.core.display.HTML object>"
      ]
     },
     "metadata": {},
     "output_type": "display_data"
    },
    {
     "data": {
      "text/html": [
       "<pre style=\"margin: 0.1em;\n",
       "padding-left: 0.25em;\n",
       "border-left-style: solid;\n",
       "font-family: var(--jp-code-font-family);\n",
       "font-size: var(--jp-code-font-size);\n",
       "line-height: var(--jp-code-line-height);\n",
       "\"><span style=\"color: var(--jp-warn-color2)\">lsst.summit.utils.bestEffort</span> <span style=\"color: var(--jp-info-color0)\">INFO</span>: Found a ready-made quickLookExp in the repo. Returning that.</pre>"
      ],
      "text/plain": [
       "<IPython.core.display.HTML object>"
      ]
     },
     "metadata": {},
     "output_type": "display_data"
    },
    {
     "data": {
      "text/html": [
       "<pre style=\"margin: 0.1em;\n",
       "padding-left: 0.25em;\n",
       "border-left-style: solid;\n",
       "font-family: var(--jp-code-font-family);\n",
       "font-size: var(--jp-code-font-size);\n",
       "line-height: var(--jp-code-line-height);\n",
       "\"><span style=\"color: var(--jp-warn-color2)\">timer.lsst.characterizeImage</span> <span style=\"color: var(--jp-success-color0)\">DEBUG</span>: runStartCpuTime=204.376730455; runStartUserTime=187.859122; runStartSystemTime=16.517585; runStartMaxResidentSetSize=1139245056; runStartMinorPageFaults=10257880; runStartMajorPageFaults=14; runStartBlockInputs=5570008; runStartBlockOutputs=2936; runStartVoluntaryContextSwitches=150200; runStartInvoluntaryContextSwitches=66145</pre>"
      ],
      "text/plain": [
       "<IPython.core.display.HTML object>"
      ]
     },
     "metadata": {},
     "output_type": "display_data"
    },
    {
     "data": {
      "text/html": [
       "<pre style=\"margin: 0.1em;\n",
       "padding-left: 0.25em;\n",
       "border-left-style: solid;\n",
       "font-family: var(--jp-code-font-family);\n",
       "font-size: var(--jp-code-font-size);\n",
       "line-height: var(--jp-code-line-height);\n",
       "\"><span style=\"color: var(--jp-warn-color2)\">lsst.characterizeImage.background</span> <span style=\"color: var(--jp-success-color0)\">DEBUG</span>: Ignoring mask planes: BAD, EDGE, DETECTED, DETECTED_NEGATIVE, NO_DATA</pre>"
      ],
      "text/plain": [
       "<IPython.core.display.HTML object>"
      ]
     },
     "metadata": {},
     "output_type": "display_data"
    },
    {
     "data": {
      "text/html": [
       "<pre style=\"margin: 0.1em;\n",
       "padding-left: 0.25em;\n",
       "border-left-style: solid;\n",
       "font-family: var(--jp-code-font-family);\n",
       "font-size: var(--jp-code-font-size);\n",
       "line-height: var(--jp-code-line-height);\n",
       "\"><span style=\"color: var(--jp-warn-color2)\">timer.lsst.characterizeImage</span> <span style=\"color: var(--jp-success-color0)\">DEBUG</span>: detectMeasureAndEstimatePsfStartCpuTime=205.055070899; detectMeasureAndEstimatePsfStartUserTime=188.491445; detectMeasureAndEstimatePsfStartSystemTime=16.563601; detectMeasureAndEstimatePsfStartMaxResidentSetSize=1139245056; detectMeasureAndEstimatePsfStartMinorPageFaults=10305618; detectMeasureAndEstimatePsfStartMajorPageFaults=14; detectMeasureAndEstimatePsfStartBlockInputs=5570008; detectMeasureAndEstimatePsfStartBlockOutputs=2936; detectMeasureAndEstimatePsfStartVoluntaryContextSwitches=150241; detectMeasureAndEstimatePsfStartInvoluntaryContextSwitches=66156</pre>"
      ],
      "text/plain": [
       "<IPython.core.display.HTML object>"
      ]
     },
     "metadata": {},
     "output_type": "display_data"
    },
    {
     "data": {
      "text/html": [
       "<pre style=\"margin: 0.1em;\n",
       "padding-left: 0.25em;\n",
       "border-left-style: solid;\n",
       "font-family: var(--jp-code-font-family);\n",
       "font-size: var(--jp-code-font-size);\n",
       "line-height: var(--jp-code-line-height);\n",
       "\"><span style=\"color: var(--jp-warn-color2)\">lsst.characterizeImage</span> <span style=\"color: var(--jp-info-color0)\">INFO</span>: PSF estimation initialized with &#x27;simple&#x27; PSF</pre>"
      ],
      "text/plain": [
       "<IPython.core.display.HTML object>"
      ]
     },
     "metadata": {},
     "output_type": "display_data"
    },
    {
     "data": {
      "text/html": [
       "<pre style=\"margin: 0.1em;\n",
       "padding-left: 0.25em;\n",
       "border-left-style: solid;\n",
       "font-family: var(--jp-code-font-family);\n",
       "font-size: var(--jp-code-font-size);\n",
       "line-height: var(--jp-code-line-height);\n",
       "\"><span style=\"color: var(--jp-warn-color2)\">lsst.characterizeImage.installSimplePsf</span> <span style=\"color: var(--jp-success-color0)\">DEBUG</span>: installing a simple Gaussian PSF model with width=61, height=61, FWHM=15.000</pre>"
      ],
      "text/plain": [
       "<IPython.core.display.HTML object>"
      ]
     },
     "metadata": {},
     "output_type": "display_data"
    },
    {
     "data": {
      "text/html": [
       "<pre style=\"margin: 0.1em;\n",
       "padding-left: 0.25em;\n",
       "border-left-style: solid;\n",
       "font-family: var(--jp-code-font-family);\n",
       "font-size: var(--jp-code-font-size);\n",
       "line-height: var(--jp-code-line-height);\n",
       "\"><span style=\"color: var(--jp-warn-color2)\">timer.lsst.characterizeImage.repair</span> <span style=\"color: var(--jp-success-color0)\">DEBUG</span>: runStartCpuTime=205.058421989; runStartUserTime=188.493944; runStartSystemTime=16.56447; runStartMaxResidentSetSize=1139245056; runStartMinorPageFaults=10305621; runStartMajorPageFaults=14; runStartBlockInputs=5570008; runStartBlockOutputs=2936; runStartVoluntaryContextSwitches=150289; runStartInvoluntaryContextSwitches=66156</pre>"
      ],
      "text/plain": [
       "<IPython.core.display.HTML object>"
      ]
     },
     "metadata": {},
     "output_type": "display_data"
    },
    {
     "data": {
      "text/html": [
       "<pre style=\"margin: 0.1em;\n",
       "padding-left: 0.25em;\n",
       "border-left-style: solid;\n",
       "font-family: var(--jp-code-font-family);\n",
       "font-size: var(--jp-code-font-size);\n",
       "line-height: var(--jp-code-line-height);\n",
       "\"><span style=\"color: var(--jp-warn-color2)\">lsst.characterizeImage.repair</span> <span style=\"color: var(--jp-info-color0)\">INFO</span>: Identified 4 cosmic rays.</pre>"
      ],
      "text/plain": [
       "<IPython.core.display.HTML object>"
      ]
     },
     "metadata": {},
     "output_type": "display_data"
    },
    {
     "data": {
      "text/html": [
       "<pre style=\"margin: 0.1em;\n",
       "padding-left: 0.25em;\n",
       "border-left-style: solid;\n",
       "font-family: var(--jp-code-font-family);\n",
       "font-size: var(--jp-code-font-size);\n",
       "line-height: var(--jp-code-line-height);\n",
       "\"><span style=\"color: var(--jp-warn-color2)\">timer.lsst.characterizeImage.repair</span> <span style=\"color: var(--jp-success-color0)\">DEBUG</span>: runEndCpuTime=205.527598949; runEndUserTime=188.936024; runEndSystemTime=16.591551; runEndMaxResidentSetSize=1139245056; runEndMinorPageFaults=10329721; runEndMajorPageFaults=14; runEndBlockInputs=5570008; runEndBlockOutputs=2936; runEndVoluntaryContextSwitches=150428; runEndInvoluntaryContextSwitches=66157</pre>"
      ],
      "text/plain": [
       "<IPython.core.display.HTML object>"
      ]
     },
     "metadata": {},
     "output_type": "display_data"
    },
    {
     "data": {
      "text/html": [
       "<pre style=\"margin: 0.1em;\n",
       "padding-left: 0.25em;\n",
       "border-left-style: solid;\n",
       "font-family: var(--jp-code-font-family);\n",
       "font-size: var(--jp-code-font-size);\n",
       "line-height: var(--jp-code-line-height);\n",
       "\"><span style=\"color: var(--jp-warn-color2)\">timer.lsst.characterizeImage.detection</span> <span style=\"color: var(--jp-success-color0)\">DEBUG</span>: runStartCpuTime=205.528754656; runStartUserTime=188.936182; runStartSystemTime=16.592566; runStartMaxResidentSetSize=1139245056; runStartMinorPageFaults=10329723; runStartMajorPageFaults=14; runStartBlockInputs=5570008; runStartBlockOutputs=2936; runStartVoluntaryContextSwitches=150447; runStartInvoluntaryContextSwitches=66157</pre>"
      ],
      "text/plain": [
       "<IPython.core.display.HTML object>"
      ]
     },
     "metadata": {},
     "output_type": "display_data"
    },
    {
     "data": {
      "text/html": [
       "<pre style=\"margin: 0.1em;\n",
       "padding-left: 0.25em;\n",
       "border-left-style: solid;\n",
       "font-family: var(--jp-code-font-family);\n",
       "font-size: var(--jp-code-font-size);\n",
       "line-height: var(--jp-code-line-height);\n",
       "\"><span style=\"color: var(--jp-warn-color2)\">timer.lsst.characterizeImage.detection</span> <span style=\"color: var(--jp-success-color0)\">DEBUG</span>: detectFootprintsStartCpuTime=205.529623063; detectFootprintsStartUserTime=188.937051; detectFootprintsStartSystemTime=16.592566; detectFootprintsStartMaxResidentSetSize=1139245056; detectFootprintsStartMinorPageFaults=10329723; detectFootprintsStartMajorPageFaults=14; detectFootprintsStartBlockInputs=5570008; detectFootprintsStartBlockOutputs=2936; detectFootprintsStartVoluntaryContextSwitches=150471; detectFootprintsStartInvoluntaryContextSwitches=66157</pre>"
      ],
      "text/plain": [
       "<IPython.core.display.HTML object>"
      ]
     },
     "metadata": {},
     "output_type": "display_data"
    },
    {
     "data": {
      "text/html": [
       "<pre style=\"margin: 0.1em;\n",
       "padding-left: 0.25em;\n",
       "border-left-style: solid;\n",
       "font-family: var(--jp-code-font-family);\n",
       "font-size: var(--jp-code-font-size);\n",
       "line-height: var(--jp-code-line-height);\n",
       "\"><span style=\"color: var(--jp-warn-color2)\">lsst.characterizeImage.detection</span> <span style=\"color: var(--jp-success-color0)\">DEBUG</span>: Detection threshold: VALUE value=3.1309626 (positive) multiplier=5</pre>"
      ],
      "text/plain": [
       "<IPython.core.display.HTML object>"
      ]
     },
     "metadata": {},
     "output_type": "display_data"
    },
    {
     "data": {
      "text/html": [
       "<pre style=\"margin: 0.1em;\n",
       "padding-left: 0.25em;\n",
       "border-left-style: solid;\n",
       "font-family: var(--jp-code-font-family);\n",
       "font-size: var(--jp-code-font-size);\n",
       "line-height: var(--jp-code-line-height);\n",
       "\"><span style=\"color: var(--jp-warn-color2)\">lsst.characterizeImage.detection</span> <span style=\"color: var(--jp-success-color0)\">DEBUG</span>: Detection threshold: VALUE value=3.1309626 (negative) multiplier=5</pre>"
      ],
      "text/plain": [
       "<IPython.core.display.HTML object>"
      ]
     },
     "metadata": {},
     "output_type": "display_data"
    },
    {
     "data": {
      "text/html": [
       "<pre style=\"margin: 0.1em;\n",
       "padding-left: 0.25em;\n",
       "border-left-style: solid;\n",
       "font-family: var(--jp-code-font-family);\n",
       "font-size: var(--jp-code-font-size);\n",
       "line-height: var(--jp-code-line-height);\n",
       "\"><span style=\"color: var(--jp-warn-color2)\">lsst.characterizeImage.detection</span> <span style=\"color: var(--jp-info-color0)\">INFO</span>: Detected 103 positive peaks in 80 footprints and 4 negative peaks in 4 footprints to 25 sigma</pre>"
      ],
      "text/plain": [
       "<IPython.core.display.HTML object>"
      ]
     },
     "metadata": {},
     "output_type": "display_data"
    },
    {
     "data": {
      "text/html": [
       "<pre style=\"margin: 0.1em;\n",
       "padding-left: 0.25em;\n",
       "border-left-style: solid;\n",
       "font-family: var(--jp-code-font-family);\n",
       "font-size: var(--jp-code-font-size);\n",
       "line-height: var(--jp-code-line-height);\n",
       "\"><span style=\"color: var(--jp-warn-color2)\">lsst.characterizeImage.detection.background</span> <span style=\"color: var(--jp-success-color0)\">DEBUG</span>: Ignoring mask planes: BAD, EDGE, DETECTED, DETECTED_NEGATIVE, NO_DATA</pre>"
      ],
      "text/plain": [
       "<IPython.core.display.HTML object>"
      ]
     },
     "metadata": {},
     "output_type": "display_data"
    },
    {
     "data": {
      "text/html": [
       "<pre style=\"margin: 0.1em;\n",
       "padding-left: 0.25em;\n",
       "border-left-style: solid;\n",
       "font-family: var(--jp-code-font-family);\n",
       "font-size: var(--jp-code-font-size);\n",
       "line-height: var(--jp-code-line-height);\n",
       "\"><span style=\"color: var(--jp-warn-color2)\">lsst.characterizeImage.detection</span> <span style=\"color: var(--jp-info-color0)\">INFO</span>: Resubtracting the background after object detection</pre>"
      ],
      "text/plain": [
       "<IPython.core.display.HTML object>"
      ]
     },
     "metadata": {},
     "output_type": "display_data"
    },
    {
     "data": {
      "text/html": [
       "<pre style=\"margin: 0.1em;\n",
       "padding-left: 0.25em;\n",
       "border-left-style: solid;\n",
       "font-family: var(--jp-code-font-family);\n",
       "font-size: var(--jp-code-font-size);\n",
       "line-height: var(--jp-code-line-height);\n",
       "\"><span style=\"color: var(--jp-warn-color2)\">timer.lsst.characterizeImage.detection</span> <span style=\"color: var(--jp-success-color0)\">DEBUG</span>: detectFootprintsEndCpuTime=208.93733438; detectFootprintsEndUserTime=192.151799; detectFootprintsEndSystemTime=16.785511; detectFootprintsEndMaxResidentSetSize=1140772864; detectFootprintsEndMinorPageFaults=10519884; detectFootprintsEndMajorPageFaults=14; detectFootprintsEndBlockInputs=5570008; detectFootprintsEndBlockOutputs=2936; detectFootprintsEndVoluntaryContextSwitches=151233; detectFootprintsEndInvoluntaryContextSwitches=66348</pre>"
      ],
      "text/plain": [
       "<IPython.core.display.HTML object>"
      ]
     },
     "metadata": {},
     "output_type": "display_data"
    },
    {
     "data": {
      "text/html": [
       "<pre style=\"margin: 0.1em;\n",
       "padding-left: 0.25em;\n",
       "border-left-style: solid;\n",
       "font-family: var(--jp-code-font-family);\n",
       "font-size: var(--jp-code-font-size);\n",
       "line-height: var(--jp-code-line-height);\n",
       "\"><span style=\"color: var(--jp-warn-color2)\">timer.lsst.characterizeImage.detection</span> <span style=\"color: var(--jp-success-color0)\">DEBUG</span>: runEndCpuTime=208.938733786; runEndUserTime=192.153182; runEndSystemTime=16.785544; runEndMaxResidentSetSize=1140772864; runEndMinorPageFaults=10519885; runEndMajorPageFaults=14; runEndBlockInputs=5570008; runEndBlockOutputs=2936; runEndVoluntaryContextSwitches=151254; runEndInvoluntaryContextSwitches=66348</pre>"
      ],
      "text/plain": [
       "<IPython.core.display.HTML object>"
      ]
     },
     "metadata": {},
     "output_type": "display_data"
    },
    {
     "data": {
      "text/html": [
       "<pre style=\"margin: 0.1em;\n",
       "padding-left: 0.25em;\n",
       "border-left-style: solid;\n",
       "font-family: var(--jp-code-font-family);\n",
       "font-size: var(--jp-code-font-size);\n",
       "line-height: var(--jp-code-line-height);\n",
       "\"><span style=\"color: var(--jp-warn-color2)\">timer.lsst.characterizeImage.measurement</span> <span style=\"color: var(--jp-success-color0)\">DEBUG</span>: runStartCpuTime=208.939637657; runStartUserTime=192.154087; runStartSystemTime=16.785544; runStartMaxResidentSetSize=1140772864; runStartMinorPageFaults=10519886; runStartMajorPageFaults=14; runStartBlockInputs=5570008; runStartBlockOutputs=2936; runStartVoluntaryContextSwitches=151273; runStartInvoluntaryContextSwitches=66348</pre>"
      ],
      "text/plain": [
       "<IPython.core.display.HTML object>"
      ]
     },
     "metadata": {},
     "output_type": "display_data"
    },
    {
     "data": {
      "text/html": [
       "<pre style=\"margin: 0.1em;\n",
       "padding-left: 0.25em;\n",
       "border-left-style: solid;\n",
       "font-family: var(--jp-code-font-family);\n",
       "font-size: var(--jp-code-font-size);\n",
       "line-height: var(--jp-code-line-height);\n",
       "\"><span style=\"color: var(--jp-warn-color2)\">lsst.characterizeImage.measurement</span> <span style=\"color: var(--jp-success-color0)\">DEBUG</span>: Mask plane &quot;THISDET&quot;: plane 10, bitmask 1024 = 0x400</pre>"
      ],
      "text/plain": [
       "<IPython.core.display.HTML object>"
      ]
     },
     "metadata": {},
     "output_type": "display_data"
    },
    {
     "data": {
      "text/html": [
       "<pre style=\"margin: 0.1em;\n",
       "padding-left: 0.25em;\n",
       "border-left-style: solid;\n",
       "font-family: var(--jp-code-font-family);\n",
       "font-size: var(--jp-code-font-size);\n",
       "line-height: var(--jp-code-line-height);\n",
       "\"><span style=\"color: var(--jp-warn-color2)\">lsst.characterizeImage.measurement</span> <span style=\"color: var(--jp-success-color0)\">DEBUG</span>: Mask plane &quot;OTHERDET&quot;: plane 11, bitmask 2048 = 0x800</pre>"
      ],
      "text/plain": [
       "<IPython.core.display.HTML object>"
      ]
     },
     "metadata": {},
     "output_type": "display_data"
    },
    {
     "data": {
      "text/html": [
       "<pre style=\"margin: 0.1em;\n",
       "padding-left: 0.25em;\n",
       "border-left-style: solid;\n",
       "font-family: var(--jp-code-font-family);\n",
       "font-size: var(--jp-code-font-size);\n",
       "line-height: var(--jp-code-line-height);\n",
       "\"><span style=\"color: var(--jp-warn-color2)\">lsst.characterizeImage.measurement</span> <span style=\"color: var(--jp-success-color0)\">DEBUG</span>: Measured from image: clipped mean = 0.111401, stdev = 9.34055</pre>"
      ],
      "text/plain": [
       "<IPython.core.display.HTML object>"
      ]
     },
     "metadata": {},
     "output_type": "display_data"
    },
    {
     "data": {
      "text/html": [
       "<pre style=\"margin: 0.1em;\n",
       "padding-left: 0.25em;\n",
       "border-left-style: solid;\n",
       "font-family: var(--jp-code-font-family);\n",
       "font-size: var(--jp-code-font-size);\n",
       "line-height: var(--jp-code-line-height);\n",
       "\"><span style=\"color: var(--jp-warn-color2)\">lsst.characterizeImage.measurement</span> <span style=\"color: var(--jp-success-color0)\">DEBUG</span>: Using noise generator: FixedGaussianNoiseGenerator: mean=0.111401, std=9.34055</pre>"
      ],
      "text/plain": [
       "<IPython.core.display.HTML object>"
      ]
     },
     "metadata": {},
     "output_type": "display_data"
    },
    {
     "data": {
      "text/html": [
       "<pre style=\"margin: 0.1em;\n",
       "padding-left: 0.25em;\n",
       "border-left-style: solid;\n",
       "font-family: var(--jp-code-font-family);\n",
       "font-size: var(--jp-code-font-size);\n",
       "line-height: var(--jp-code-line-height);\n",
       "\"><span style=\"color: var(--jp-warn-color2)\">lsst.characterizeImage.measurement</span> <span style=\"color: var(--jp-info-color0)\">INFO</span>: Measuring 80 sources (80 parents, 0 children) </pre>"
      ],
      "text/plain": [
       "<IPython.core.display.HTML object>"
      ]
     },
     "metadata": {},
     "output_type": "display_data"
    },
    {
     "data": {
      "text/html": [
       "<pre style=\"margin: 0.1em;\n",
       "padding-left: 0.25em;\n",
       "border-left-style: solid;\n",
       "font-family: var(--jp-code-font-family);\n",
       "font-size: var(--jp-code-font-size);\n",
       "line-height: var(--jp-code-line-height);\n",
       "\"><span style=\"color: var(--jp-warn-color2)\">lsst.characterizeImage.measurement.base_GaussianFlux</span> <span style=\"color: var(--jp-success-color0)\">DEBUG</span>: MeasurementError in base_GaussianFlux.measure on record 15: \n",
       "  File &quot;src/InputUtilities.cc&quot;, line 179, in lsst::afw::geom::ellipses::Quadrupole lsst::meas::base::SafeShapeExtractor::operator()(lsst::afw::table::SourceRecord&amp;, const lsst::meas::base::FlagHandler&amp;) const\n",
       "    base_GaussianFlux: Shape needed, and Shape slot measurement failed. {0}\n",
       "lsst::meas::base::MeasurementError: &#x27;base_GaussianFlux: Shape needed, and Shape slot measurement failed.&#x27;\n",
       "</pre>"
      ],
      "text/plain": [
       "<IPython.core.display.HTML object>"
      ]
     },
     "metadata": {},
     "output_type": "display_data"
    },
    {
     "data": {
      "text/html": [
       "<pre style=\"margin: 0.1em;\n",
       "padding-left: 0.25em;\n",
       "border-left-style: solid;\n",
       "font-family: var(--jp-code-font-family);\n",
       "font-size: var(--jp-code-font-size);\n",
       "line-height: var(--jp-code-line-height);\n",
       "\"><span style=\"color: var(--jp-warn-color2)\">lsst.characterizeImage.measurement.base_GaussianFlux</span> <span style=\"color: var(--jp-success-color0)\">DEBUG</span>: MeasurementError in base_GaussianFlux.measure on record 57: \n",
       "  File &quot;src/InputUtilities.cc&quot;, line 179, in lsst::afw::geom::ellipses::Quadrupole lsst::meas::base::SafeShapeExtractor::operator()(lsst::afw::table::SourceRecord&amp;, const lsst::meas::base::FlagHandler&amp;) const\n",
       "    base_GaussianFlux: Shape needed, and Shape slot measurement failed. {0}\n",
       "lsst::meas::base::MeasurementError: &#x27;base_GaussianFlux: Shape needed, and Shape slot measurement failed.&#x27;\n",
       "</pre>"
      ],
      "text/plain": [
       "<IPython.core.display.HTML object>"
      ]
     },
     "metadata": {},
     "output_type": "display_data"
    },
    {
     "data": {
      "text/html": [
       "<pre style=\"margin: 0.1em;\n",
       "padding-left: 0.25em;\n",
       "border-left-style: solid;\n",
       "font-family: var(--jp-code-font-family);\n",
       "font-size: var(--jp-code-font-size);\n",
       "line-height: var(--jp-code-line-height);\n",
       "\"><span style=\"color: var(--jp-warn-color2)\">lsst.characterizeImage.measurement.base_SdssCentroid</span> <span style=\"color: var(--jp-success-color0)\">DEBUG</span>: MeasurementError in base_SdssCentroid.measure on record 80: \n",
       "  File &quot;src/SdssCentroid.cc&quot;, line 384, in std::pair&lt;MaskedImageT, double&gt; lsst::meas::base::{anonymous}::smoothAndBinImage(std::shared_ptr&lt;const lsst::afw::detection::Psf&gt;, int, int, const MaskedImageT&amp;, int, int, lsst::meas::base::FlagHandler) [with MaskedImageT = lsst::afw::image::MaskedImage&lt;float&gt;]\n",
       "    Object too close to edge {0}\n",
       "lsst::meas::base::MeasurementError: &#x27;Object too close to edge&#x27;\n",
       "</pre>"
      ],
      "text/plain": [
       "<IPython.core.display.HTML object>"
      ]
     },
     "metadata": {},
     "output_type": "display_data"
    },
    {
     "data": {
      "text/html": [
       "<pre style=\"margin: 0.1em;\n",
       "padding-left: 0.25em;\n",
       "border-left-style: solid;\n",
       "font-family: var(--jp-code-font-family);\n",
       "font-size: var(--jp-code-font-size);\n",
       "line-height: var(--jp-code-line-height);\n",
       "\"><span style=\"color: var(--jp-warn-color2)\">timer.lsst.characterizeImage.measurement</span> <span style=\"color: var(--jp-success-color0)\">DEBUG</span>: runEndCpuTime=209.681151402; runEndUserTime=192.86759; runEndSystemTime=16.813538; runEndMaxResidentSetSize=1140772864; runEndMinorPageFaults=10543990; runEndMajorPageFaults=14; runEndBlockInputs=5570008; runEndBlockOutputs=2936; runEndVoluntaryContextSwitches=151668; runEndInvoluntaryContextSwitches=66589</pre>"
      ],
      "text/plain": [
       "<IPython.core.display.HTML object>"
      ]
     },
     "metadata": {},
     "output_type": "display_data"
    },
    {
     "data": {
      "text/html": [
       "<pre style=\"margin: 0.1em;\n",
       "padding-left: 0.25em;\n",
       "border-left-style: solid;\n",
       "font-family: var(--jp-code-font-family);\n",
       "font-size: var(--jp-code-font-size);\n",
       "line-height: var(--jp-code-line-height);\n",
       "\"><span style=\"color: var(--jp-warn-color2)\">timer.lsst.characterizeImage.measurePsf</span> <span style=\"color: var(--jp-success-color0)\">DEBUG</span>: runStartCpuTime=209.682438794; runStartUserTime=192.868895; runStartSystemTime=16.813538; runStartMaxResidentSetSize=1140772864; runStartMinorPageFaults=10543990; runStartMajorPageFaults=14; runStartBlockInputs=5570008; runStartBlockOutputs=2936; runStartVoluntaryContextSwitches=151685; runStartInvoluntaryContextSwitches=66589</pre>"
      ],
      "text/plain": [
       "<IPython.core.display.HTML object>"
      ]
     },
     "metadata": {},
     "output_type": "display_data"
    },
    {
     "data": {
      "text/html": [
       "<pre style=\"margin: 0.1em;\n",
       "padding-left: 0.25em;\n",
       "border-left-style: solid;\n",
       "font-family: var(--jp-code-font-family);\n",
       "font-size: var(--jp-code-font-size);\n",
       "line-height: var(--jp-code-line-height);\n",
       "\"><span style=\"color: var(--jp-warn-color2)\">lsst.characterizeImage.measurePsf</span> <span style=\"color: var(--jp-info-color0)\">INFO</span>: Measuring PSF</pre>"
      ],
      "text/plain": [
       "<IPython.core.display.HTML object>"
      ]
     },
     "metadata": {},
     "output_type": "display_data"
    },
    {
     "data": {
      "text/html": [
       "<pre style=\"margin: 0.1em;\n",
       "padding-left: 0.25em;\n",
       "border-left-style: solid;\n",
       "font-family: var(--jp-code-font-family);\n",
       "font-size: var(--jp-code-font-size);\n",
       "line-height: var(--jp-code-line-height);\n",
       "\"><span style=\"color: var(--jp-warn-color2)\">lsst.characterizeImage.measurePsf</span> <span style=\"color: var(--jp-info-color0)\">INFO</span>: PSF star selector found 36 candidates</pre>"
      ],
      "text/plain": [
       "<IPython.core.display.HTML object>"
      ]
     },
     "metadata": {},
     "output_type": "display_data"
    },
    {
     "data": {
      "text/html": [
       "<pre style=\"margin: 0.1em;\n",
       "padding-left: 0.25em;\n",
       "border-left-style: solid;\n",
       "font-family: var(--jp-code-font-family);\n",
       "font-size: var(--jp-code-font-size);\n",
       "line-height: var(--jp-code-line-height);\n",
       "\"><span style=\"color: var(--jp-warn-color2)\">lsst.characterizeImage.measurePsf.reserve</span> <span style=\"color: var(--jp-info-color0)\">INFO</span>: Reserved 0/36 sources</pre>"
      ],
      "text/plain": [
       "<IPython.core.display.HTML object>"
      ]
     },
     "metadata": {},
     "output_type": "display_data"
    },
    {
     "data": {
      "text/html": [
       "<pre style=\"margin: 0.1em;\n",
       "padding-left: 0.25em;\n",
       "border-left-style: solid;\n",
       "font-family: var(--jp-code-font-family);\n",
       "font-size: var(--jp-code-font-size);\n",
       "line-height: var(--jp-code-line-height);\n",
       "\"><span style=\"color: var(--jp-warn-color2)\">lsst.characterizeImage.measurePsf</span> <span style=\"color: var(--jp-info-color0)\">INFO</span>: Sending 36 candidates to PSF determiner</pre>"
      ],
      "text/plain": [
       "<IPython.core.display.HTML object>"
      ]
     },
     "metadata": {},
     "output_type": "display_data"
    },
    {
     "data": {
      "text/html": [
       "<pre style=\"margin: 0.1em;\n",
       "padding-left: 0.25em;\n",
       "border-left-style: solid;\n",
       "font-family: var(--jp-code-font-family);\n",
       "font-size: var(--jp-code-font-size);\n",
       "line-height: var(--jp-code-line-height);\n",
       "\"><span style=\"color: var(--jp-warn-color2)\">lsst.characterizeImage.measurePsf.psfDeterminer</span> <span style=\"color: var(--jp-warn-color0)\">WARNING</span>: NOT scaling kernelSize by stellar quadrupole moment, but using absolute value</pre>"
      ],
      "text/plain": [
       "<IPython.core.display.HTML object>"
      ]
     },
     "metadata": {},
     "output_type": "display_data"
    },
    {
     "data": {
      "text/html": [
       "<pre style=\"margin: 0.1em;\n",
       "padding-left: 0.25em;\n",
       "border-left-style: solid;\n",
       "font-family: var(--jp-code-font-family);\n",
       "font-size: var(--jp-code-font-size);\n",
       "line-height: var(--jp-code-line-height);\n",
       "\"><span style=\"color: var(--jp-warn-color2)\">lsst.characterizeImage.measurePsf</span> <span style=\"color: var(--jp-info-color0)\">INFO</span>: PSF determination using 26/36 stars.</pre>"
      ],
      "text/plain": [
       "<IPython.core.display.HTML object>"
      ]
     },
     "metadata": {},
     "output_type": "display_data"
    },
    {
     "data": {
      "text/html": [
       "<pre style=\"margin: 0.1em;\n",
       "padding-left: 0.25em;\n",
       "border-left-style: solid;\n",
       "font-family: var(--jp-code-font-family);\n",
       "font-size: var(--jp-code-font-size);\n",
       "line-height: var(--jp-code-line-height);\n",
       "\"><span style=\"color: var(--jp-warn-color2)\">timer.lsst.characterizeImage.measurePsf</span> <span style=\"color: var(--jp-success-color0)\">DEBUG</span>: runEndCpuTime=210.344781156; runEndUserTime=193.505203; runEndSystemTime=16.839555; runEndMaxResidentSetSize=1140772864; runEndMinorPageFaults=10568092; runEndMajorPageFaults=14; runEndBlockInputs=5570008; runEndBlockOutputs=2936; runEndVoluntaryContextSwitches=151976; runEndInvoluntaryContextSwitches=66637</pre>"
      ],
      "text/plain": [
       "<IPython.core.display.HTML object>"
      ]
     },
     "metadata": {},
     "output_type": "display_data"
    },
    {
     "data": {
      "text/html": [
       "<pre style=\"margin: 0.1em;\n",
       "padding-left: 0.25em;\n",
       "border-left-style: solid;\n",
       "font-family: var(--jp-code-font-family);\n",
       "font-size: var(--jp-code-font-size);\n",
       "line-height: var(--jp-code-line-height);\n",
       "\"><span style=\"color: var(--jp-warn-color2)\">timer.lsst.characterizeImage</span> <span style=\"color: var(--jp-success-color0)\">DEBUG</span>: detectMeasureAndEstimatePsfEndCpuTime=210.345731427; detectMeasureAndEstimatePsfEndUserTime=193.506169; detectMeasureAndEstimatePsfEndSystemTime=16.839555; detectMeasureAndEstimatePsfEndMaxResidentSetSize=1140772864; detectMeasureAndEstimatePsfEndMinorPageFaults=10568092; detectMeasureAndEstimatePsfEndMajorPageFaults=14; detectMeasureAndEstimatePsfEndBlockInputs=5570008; detectMeasureAndEstimatePsfEndBlockOutputs=2936; detectMeasureAndEstimatePsfEndVoluntaryContextSwitches=151995; detectMeasureAndEstimatePsfEndInvoluntaryContextSwitches=66637</pre>"
      ],
      "text/plain": [
       "<IPython.core.display.HTML object>"
      ]
     },
     "metadata": {},
     "output_type": "display_data"
    },
    {
     "data": {
      "text/html": [
       "<pre style=\"margin: 0.1em;\n",
       "padding-left: 0.25em;\n",
       "border-left-style: solid;\n",
       "font-family: var(--jp-code-font-family);\n",
       "font-size: var(--jp-code-font-size);\n",
       "line-height: var(--jp-code-line-height);\n",
       "\"><span style=\"color: var(--jp-warn-color2)\">lsst.characterizeImage</span> <span style=\"color: var(--jp-info-color0)\">INFO</span>: iter 1; PSF sigma=6.66, dimensions=(41, 41); median background=5.89</pre>"
      ],
      "text/plain": [
       "<IPython.core.display.HTML object>"
      ]
     },
     "metadata": {},
     "output_type": "display_data"
    },
    {
     "data": {
      "text/html": [
       "<pre style=\"margin: 0.1em;\n",
       "padding-left: 0.25em;\n",
       "border-left-style: solid;\n",
       "font-family: var(--jp-code-font-family);\n",
       "font-size: var(--jp-code-font-size);\n",
       "line-height: var(--jp-code-line-height);\n",
       "\"><span style=\"color: var(--jp-warn-color2)\">timer.lsst.characterizeImage.repair</span> <span style=\"color: var(--jp-success-color0)\">DEBUG</span>: runStartCpuTime=210.564119099; runStartUserTime=193.680563; runStartSystemTime=16.883534; runStartMaxResidentSetSize=1140772864; runStartMinorPageFaults=10615813; runStartMajorPageFaults=14; runStartBlockInputs=5570008; runStartBlockOutputs=2936; runStartVoluntaryContextSwitches=152073; runStartInvoluntaryContextSwitches=66718</pre>"
      ],
      "text/plain": [
       "<IPython.core.display.HTML object>"
      ]
     },
     "metadata": {},
     "output_type": "display_data"
    },
    {
     "data": {
      "text/html": [
       "<pre style=\"margin: 0.1em;\n",
       "padding-left: 0.25em;\n",
       "border-left-style: solid;\n",
       "font-family: var(--jp-code-font-family);\n",
       "font-size: var(--jp-code-font-size);\n",
       "line-height: var(--jp-code-line-height);\n",
       "\"><span style=\"color: var(--jp-warn-color2)\">lsst.characterizeImage.repair</span> <span style=\"color: var(--jp-info-color0)\">INFO</span>: Identified 4 cosmic rays.</pre>"
      ],
      "text/plain": [
       "<IPython.core.display.HTML object>"
      ]
     },
     "metadata": {},
     "output_type": "display_data"
    },
    {
     "data": {
      "text/html": [
       "<pre style=\"margin: 0.1em;\n",
       "padding-left: 0.25em;\n",
       "border-left-style: solid;\n",
       "font-family: var(--jp-code-font-family);\n",
       "font-size: var(--jp-code-font-size);\n",
       "line-height: var(--jp-code-line-height);\n",
       "\"><span style=\"color: var(--jp-warn-color2)\">timer.lsst.characterizeImage.repair</span> <span style=\"color: var(--jp-success-color0)\">DEBUG</span>: runEndCpuTime=211.031933152; runEndUserTime=194.115396; runEndSystemTime=16.916514; runEndMaxResidentSetSize=1140772864; runEndMinorPageFaults=10639913; runEndMajorPageFaults=14; runEndBlockInputs=5570008; runEndBlockOutputs=2936; runEndVoluntaryContextSwitches=152217; runEndInvoluntaryContextSwitches=66953</pre>"
      ],
      "text/plain": [
       "<IPython.core.display.HTML object>"
      ]
     },
     "metadata": {},
     "output_type": "display_data"
    },
    {
     "data": {
      "text/html": [
       "<pre style=\"margin: 0.1em;\n",
       "padding-left: 0.25em;\n",
       "border-left-style: solid;\n",
       "font-family: var(--jp-code-font-family);\n",
       "font-size: var(--jp-code-font-size);\n",
       "line-height: var(--jp-code-line-height);\n",
       "\"><span style=\"color: var(--jp-warn-color2)\">timer.lsst.characterizeImage.measurement</span> <span style=\"color: var(--jp-success-color0)\">DEBUG</span>: runStartCpuTime=211.03280495; runStartUserTime=194.116209; runStartSystemTime=16.916584; runStartMaxResidentSetSize=1140772864; runStartMinorPageFaults=10639913; runStartMajorPageFaults=14; runStartBlockInputs=5570008; runStartBlockOutputs=2936; runStartVoluntaryContextSwitches=152236; runStartInvoluntaryContextSwitches=66953</pre>"
      ],
      "text/plain": [
       "<IPython.core.display.HTML object>"
      ]
     },
     "metadata": {},
     "output_type": "display_data"
    },
    {
     "data": {
      "text/html": [
       "<pre style=\"margin: 0.1em;\n",
       "padding-left: 0.25em;\n",
       "border-left-style: solid;\n",
       "font-family: var(--jp-code-font-family);\n",
       "font-size: var(--jp-code-font-size);\n",
       "line-height: var(--jp-code-line-height);\n",
       "\"><span style=\"color: var(--jp-warn-color2)\">lsst.characterizeImage.measurement</span> <span style=\"color: var(--jp-success-color0)\">DEBUG</span>: Mask plane &quot;THISDET&quot;: plane 10, bitmask 1024 = 0x400</pre>"
      ],
      "text/plain": [
       "<IPython.core.display.HTML object>"
      ]
     },
     "metadata": {},
     "output_type": "display_data"
    },
    {
     "data": {
      "text/html": [
       "<pre style=\"margin: 0.1em;\n",
       "padding-left: 0.25em;\n",
       "border-left-style: solid;\n",
       "font-family: var(--jp-code-font-family);\n",
       "font-size: var(--jp-code-font-size);\n",
       "line-height: var(--jp-code-line-height);\n",
       "\"><span style=\"color: var(--jp-warn-color2)\">lsst.characterizeImage.measurement</span> <span style=\"color: var(--jp-success-color0)\">DEBUG</span>: Mask plane &quot;OTHERDET&quot;: plane 11, bitmask 2048 = 0x800</pre>"
      ],
      "text/plain": [
       "<IPython.core.display.HTML object>"
      ]
     },
     "metadata": {},
     "output_type": "display_data"
    },
    {
     "data": {
      "text/html": [
       "<pre style=\"margin: 0.1em;\n",
       "padding-left: 0.25em;\n",
       "border-left-style: solid;\n",
       "font-family: var(--jp-code-font-family);\n",
       "font-size: var(--jp-code-font-size);\n",
       "line-height: var(--jp-code-line-height);\n",
       "\"><span style=\"color: var(--jp-warn-color2)\">lsst.characterizeImage.measurement</span> <span style=\"color: var(--jp-success-color0)\">DEBUG</span>: Measured from image: clipped mean = 0.111397, stdev = 9.34055</pre>"
      ],
      "text/plain": [
       "<IPython.core.display.HTML object>"
      ]
     },
     "metadata": {},
     "output_type": "display_data"
    },
    {
     "data": {
      "text/html": [
       "<pre style=\"margin: 0.1em;\n",
       "padding-left: 0.25em;\n",
       "border-left-style: solid;\n",
       "font-family: var(--jp-code-font-family);\n",
       "font-size: var(--jp-code-font-size);\n",
       "line-height: var(--jp-code-line-height);\n",
       "\"><span style=\"color: var(--jp-warn-color2)\">lsst.characterizeImage.measurement</span> <span style=\"color: var(--jp-success-color0)\">DEBUG</span>: Using noise generator: FixedGaussianNoiseGenerator: mean=0.111397, std=9.34055</pre>"
      ],
      "text/plain": [
       "<IPython.core.display.HTML object>"
      ]
     },
     "metadata": {},
     "output_type": "display_data"
    },
    {
     "data": {
      "text/html": [
       "<pre style=\"margin: 0.1em;\n",
       "padding-left: 0.25em;\n",
       "border-left-style: solid;\n",
       "font-family: var(--jp-code-font-family);\n",
       "font-size: var(--jp-code-font-size);\n",
       "line-height: var(--jp-code-line-height);\n",
       "\"><span style=\"color: var(--jp-warn-color2)\">lsst.characterizeImage.measurement</span> <span style=\"color: var(--jp-info-color0)\">INFO</span>: Measuring 80 sources (80 parents, 0 children) </pre>"
      ],
      "text/plain": [
       "<IPython.core.display.HTML object>"
      ]
     },
     "metadata": {},
     "output_type": "display_data"
    },
    {
     "data": {
      "text/html": [
       "<pre style=\"margin: 0.1em;\n",
       "padding-left: 0.25em;\n",
       "border-left-style: solid;\n",
       "font-family: var(--jp-code-font-family);\n",
       "font-size: var(--jp-code-font-size);\n",
       "line-height: var(--jp-code-line-height);\n",
       "\"><span style=\"color: var(--jp-warn-color2)\">lsst.characterizeImage.measurement.base_GaussianFlux</span> <span style=\"color: var(--jp-success-color0)\">DEBUG</span>: MeasurementError in base_GaussianFlux.measure on record 79: \n",
       "  File &quot;src/InputUtilities.cc&quot;, line 179, in lsst::afw::geom::ellipses::Quadrupole lsst::meas::base::SafeShapeExtractor::operator()(lsst::afw::table::SourceRecord&amp;, const lsst::meas::base::FlagHandler&amp;) const\n",
       "    base_GaussianFlux: Shape needed, and Shape slot measurement failed. {0}\n",
       "lsst::meas::base::MeasurementError: &#x27;base_GaussianFlux: Shape needed, and Shape slot measurement failed.&#x27;\n",
       "</pre>"
      ],
      "text/plain": [
       "<IPython.core.display.HTML object>"
      ]
     },
     "metadata": {},
     "output_type": "display_data"
    },
    {
     "data": {
      "text/html": [
       "<pre style=\"margin: 0.1em;\n",
       "padding-left: 0.25em;\n",
       "border-left-style: solid;\n",
       "font-family: var(--jp-code-font-family);\n",
       "font-size: var(--jp-code-font-size);\n",
       "line-height: var(--jp-code-line-height);\n",
       "\"><span style=\"color: var(--jp-warn-color2)\">lsst.characterizeImage.measurement.base_SdssCentroid</span> <span style=\"color: var(--jp-success-color0)\">DEBUG</span>: MeasurementError in base_SdssCentroid.measure on record 80: \n",
       "  File &quot;src/SdssCentroid.cc&quot;, line 384, in std::pair&lt;MaskedImageT, double&gt; lsst::meas::base::{anonymous}::smoothAndBinImage(std::shared_ptr&lt;const lsst::afw::detection::Psf&gt;, int, int, const MaskedImageT&amp;, int, int, lsst::meas::base::FlagHandler) [with MaskedImageT = lsst::afw::image::MaskedImage&lt;float&gt;]\n",
       "    Object too close to edge {0}\n",
       "lsst::meas::base::MeasurementError: &#x27;Object too close to edge&#x27;\n",
       "</pre>"
      ],
      "text/plain": [
       "<IPython.core.display.HTML object>"
      ]
     },
     "metadata": {},
     "output_type": "display_data"
    },
    {
     "data": {
      "text/html": [
       "<pre style=\"margin: 0.1em;\n",
       "padding-left: 0.25em;\n",
       "border-left-style: solid;\n",
       "font-family: var(--jp-code-font-family);\n",
       "font-size: var(--jp-code-font-size);\n",
       "line-height: var(--jp-code-line-height);\n",
       "\"><span style=\"color: var(--jp-warn-color2)\">timer.lsst.characterizeImage.measurement</span> <span style=\"color: var(--jp-success-color0)\">DEBUG</span>: runEndCpuTime=211.821108893; runEndUserTime=194.863425; runEndSystemTime=16.957661; runEndMaxResidentSetSize=1140772864; runEndMinorPageFaults=10664015; runEndMajorPageFaults=14; runEndBlockInputs=5570008; runEndBlockOutputs=2936; runEndVoluntaryContextSwitches=152586; runEndInvoluntaryContextSwitches=67197</pre>"
      ],
      "text/plain": [
       "<IPython.core.display.HTML object>"
      ]
     },
     "metadata": {},
     "output_type": "display_data"
    },
    {
     "data": {
      "text/html": [
       "<pre style=\"margin: 0.1em;\n",
       "padding-left: 0.25em;\n",
       "border-left-style: solid;\n",
       "font-family: var(--jp-code-font-family);\n",
       "font-size: var(--jp-code-font-size);\n",
       "line-height: var(--jp-code-line-height);\n",
       "\"><span style=\"color: var(--jp-warn-color2)\">timer.lsst.characterizeImage.catalogCalculation</span> <span style=\"color: var(--jp-success-color0)\">DEBUG</span>: runStartCpuTime=211.822404156; runStartUserTime=194.864712; runStartSystemTime=16.957686; runStartMaxResidentSetSize=1140772864; runStartMinorPageFaults=10664015; runStartMajorPageFaults=14; runStartBlockInputs=5570008; runStartBlockOutputs=2936; runStartVoluntaryContextSwitches=152605; runStartInvoluntaryContextSwitches=67202</pre>"
      ],
      "text/plain": [
       "<IPython.core.display.HTML object>"
      ]
     },
     "metadata": {},
     "output_type": "display_data"
    },
    {
     "data": {
      "text/html": [
       "<pre style=\"margin: 0.1em;\n",
       "padding-left: 0.25em;\n",
       "border-left-style: solid;\n",
       "font-family: var(--jp-code-font-family);\n",
       "font-size: var(--jp-code-font-size);\n",
       "line-height: var(--jp-code-line-height);\n",
       "\"><span style=\"color: var(--jp-warn-color2)\">timer.lsst.characterizeImage.catalogCalculation</span> <span style=\"color: var(--jp-success-color0)\">DEBUG</span>: runEndCpuTime=211.824957526; runEndUserTime=194.867264; runEndSystemTime=16.957686; runEndMaxResidentSetSize=1140772864; runEndMinorPageFaults=10664015; runEndMajorPageFaults=14; runEndBlockInputs=5570008; runEndBlockOutputs=2936; runEndVoluntaryContextSwitches=152624; runEndInvoluntaryContextSwitches=67204</pre>"
      ],
      "text/plain": [
       "<IPython.core.display.HTML object>"
      ]
     },
     "metadata": {},
     "output_type": "display_data"
    },
    {
     "data": {
      "text/html": [
       "<pre style=\"margin: 0.1em;\n",
       "padding-left: 0.25em;\n",
       "border-left-style: solid;\n",
       "font-family: var(--jp-code-font-family);\n",
       "font-size: var(--jp-code-font-size);\n",
       "line-height: var(--jp-code-line-height);\n",
       "\"><span style=\"color: var(--jp-warn-color2)\">timer.lsst.characterizeImage</span> <span style=\"color: var(--jp-success-color0)\">DEBUG</span>: runEndCpuTime=211.825880169; runEndUserTime=194.868187; runEndSystemTime=16.957686; runEndMaxResidentSetSize=1140772864; runEndMinorPageFaults=10664015; runEndMajorPageFaults=14; runEndBlockInputs=5570008; runEndBlockOutputs=2936; runEndVoluntaryContextSwitches=152648; runEndInvoluntaryContextSwitches=67204</pre>"
      ],
      "text/plain": [
       "<IPython.core.display.HTML object>"
      ]
     },
     "metadata": {},
     "output_type": "display_data"
    },
    {
     "name": "stdout",
     "output_type": "stream",
     "text": [
      "Psf shape from imChar task (x,y) = (1.441, 1.566) FWHM arcsec\n",
      "{'day_obs': 20220526, 'seq_num': 145, 'detector': 0, 'instrument': 'LATISS'}\n"
     ]
    },
    {
     "data": {
      "text/html": [
       "<pre style=\"margin: 0.1em;\n",
       "padding-left: 0.25em;\n",
       "border-left-style: solid;\n",
       "font-family: var(--jp-code-font-family);\n",
       "font-size: var(--jp-code-font-size);\n",
       "line-height: var(--jp-code-line-height);\n",
       "\"><span style=\"color: var(--jp-warn-color2)\">lsst.daf.butler._butler</span> <span style=\"color: var(--jp-success-color0)\">DEBUG</span>: Butler get: quickLookExp, dataId={&#x27;day_obs&#x27;: 20220526, &#x27;seq_num&#x27;: 145, &#x27;detector&#x27;: 0, &#x27;instrument&#x27;: &#x27;LATISS&#x27;}, parameters=None</pre>"
      ],
      "text/plain": [
       "<IPython.core.display.HTML object>"
      ]
     },
     "metadata": {},
     "output_type": "display_data"
    },
    {
     "data": {
      "text/html": [
       "<pre style=\"margin: 0.1em;\n",
       "padding-left: 0.25em;\n",
       "border-left-style: solid;\n",
       "font-family: var(--jp-code-font-family);\n",
       "font-size: var(--jp-code-font-size);\n",
       "line-height: var(--jp-code-line-height);\n",
       "\"><span style=\"color: var(--jp-warn-color2)\">lsst.daf.butler._butler</span> <span style=\"color: var(--jp-success-color0)\">DEBUG</span>: Assigned non-dimension dataId keys to dimension exposure: {&#x27;day_obs&#x27;: 20220526, &#x27;seq_num&#x27;: 145}</pre>"
      ],
      "text/plain": [
       "<IPython.core.display.HTML object>"
      ]
     },
     "metadata": {},
     "output_type": "display_data"
    },
    {
     "data": {
      "text/html": [
       "<pre style=\"margin: 0.1em;\n",
       "padding-left: 0.25em;\n",
       "border-left-style: solid;\n",
       "font-family: var(--jp-code-font-family);\n",
       "font-size: var(--jp-code-font-size);\n",
       "line-height: var(--jp-code-line-height);\n",
       "\"><span style=\"color: var(--jp-warn-color2)\">lsst.daf.butler.datastores.fileDatastore</span> <span style=\"color: var(--jp-success-color0)\">DEBUG</span>: Retrieve quickLookExp@{instrument: &#x27;LATISS&#x27;, detector: 0, exposure: 2022052600145}, sc=ExposureF] (id=fdca869a-fc70-4430-b158-391f0d49c7f1) from FileDatastore@&lt;butlerRoot&gt; with parameters None</pre>"
      ],
      "text/plain": [
       "<IPython.core.display.HTML object>"
      ]
     },
     "metadata": {},
     "output_type": "display_data"
    },
    {
     "data": {
      "text/html": [
       "<pre style=\"margin: 0.1em;\n",
       "padding-left: 0.25em;\n",
       "border-left-style: solid;\n",
       "font-family: var(--jp-code-font-family);\n",
       "font-size: var(--jp-code-font-size);\n",
       "line-height: var(--jp-code-line-height);\n",
       "\"><span style=\"color: var(--jp-warn-color2)\">lsst.daf.butler.datastores.fileDatastore</span> <span style=\"color: var(--jp-success-color0)\">DEBUG</span>: Accessing data from file:///repo/LATISS/LATISS/runs/quickLook/1/quickLookExp/20220526/AT_O_20220526_000145/quickLookExp_LATISS_SDSSr~empty_AT_O_20220526_000145_RXX_S00_LATISS_runs_quickLook_1.fits</pre>"
      ],
      "text/plain": [
       "<IPython.core.display.HTML object>"
      ]
     },
     "metadata": {},
     "output_type": "display_data"
    },
    {
     "data": {
      "text/html": [
       "<pre style=\"margin: 0.1em;\n",
       "padding-left: 0.25em;\n",
       "border-left-style: solid;\n",
       "font-family: var(--jp-code-font-family);\n",
       "font-size: var(--jp-code-font-size);\n",
       "line-height: var(--jp-code-line-height);\n",
       "\"><span style=\"color: var(--jp-warn-color2)\">lsst.daf.butler.datastores.fileDatastore</span> <span style=\"color: var(--jp-success-color0)\">DEBUG</span>: Reading from location file:///repo/LATISS/LATISS/runs/quickLook/1/quickLookExp/20220526/AT_O_20220526_000145/quickLookExp_LATISS_SDSSr~empty_AT_O_20220526_000145_RXX_S00_LATISS_runs_quickLook_1.fits  with formatter lsst.obs.base.formatters.fitsExposure.FitsExposureFormatter</pre>"
      ],
      "text/plain": [
       "<IPython.core.display.HTML object>"
      ]
     },
     "metadata": {},
     "output_type": "display_data"
    },
    {
     "data": {
      "text/html": [
       "<pre style=\"margin: 0.1em;\n",
       "padding-left: 0.25em;\n",
       "border-left-style: solid;\n",
       "font-family: var(--jp-code-font-family);\n",
       "font-size: var(--jp-code-font-size);\n",
       "line-height: var(--jp-code-line-height);\n",
       "\"><span style=\"color: var(--jp-warn-color2)\">timer.lsst.daf.butler.datastores.fileDatastore</span> <span style=\"color: var(--jp-success-color0)\">DEBUG</span>: Reading from location file:///repo/LATISS/LATISS/runs/quickLook/1/quickLookExp/20220526/AT_O_20220526_000145/quickLookExp_LATISS_SDSSr~empty_AT_O_20220526_000145_RXX_S00_LATISS_runs_quickLook_1.fits  with formatter lsst.obs.base.formatters.fitsExposure.FitsExposureFormatter: Took 0.9514 seconds</pre>"
      ],
      "text/plain": [
       "<IPython.core.display.HTML object>"
      ]
     },
     "metadata": {},
     "output_type": "display_data"
    },
    {
     "data": {
      "text/html": [
       "<pre style=\"margin: 0.1em;\n",
       "padding-left: 0.25em;\n",
       "border-left-style: solid;\n",
       "font-family: var(--jp-code-font-family);\n",
       "font-size: var(--jp-code-font-size);\n",
       "line-height: var(--jp-code-line-height);\n",
       "\"><span style=\"color: var(--jp-warn-color2)\">lsst.summit.utils.bestEffort</span> <span style=\"color: var(--jp-info-color0)\">INFO</span>: Found a ready-made quickLookExp in the repo. Returning that.</pre>"
      ],
      "text/plain": [
       "<IPython.core.display.HTML object>"
      ]
     },
     "metadata": {},
     "output_type": "display_data"
    },
    {
     "data": {
      "text/html": [
       "<pre style=\"margin: 0.1em;\n",
       "padding-left: 0.25em;\n",
       "border-left-style: solid;\n",
       "font-family: var(--jp-code-font-family);\n",
       "font-size: var(--jp-code-font-size);\n",
       "line-height: var(--jp-code-line-height);\n",
       "\"><span style=\"color: var(--jp-warn-color2)\">timer.lsst.characterizeImage</span> <span style=\"color: var(--jp-success-color0)\">DEBUG</span>: runStartCpuTime=213.14483782; runStartUserTime=196.082935; runStartSystemTime=17.061877; runStartMaxResidentSetSize=1140772864; runStartMinorPageFaults=10711813; runStartMajorPageFaults=14; runStartBlockInputs=5835096; runStartBlockOutputs=2936; runStartVoluntaryContextSwitches=154348; runStartInvoluntaryContextSwitches=67220</pre>"
      ],
      "text/plain": [
       "<IPython.core.display.HTML object>"
      ]
     },
     "metadata": {},
     "output_type": "display_data"
    },
    {
     "data": {
      "text/html": [
       "<pre style=\"margin: 0.1em;\n",
       "padding-left: 0.25em;\n",
       "border-left-style: solid;\n",
       "font-family: var(--jp-code-font-family);\n",
       "font-size: var(--jp-code-font-size);\n",
       "line-height: var(--jp-code-line-height);\n",
       "\"><span style=\"color: var(--jp-warn-color2)\">lsst.characterizeImage.background</span> <span style=\"color: var(--jp-success-color0)\">DEBUG</span>: Ignoring mask planes: BAD, EDGE, DETECTED, DETECTED_NEGATIVE, NO_DATA</pre>"
      ],
      "text/plain": [
       "<IPython.core.display.HTML object>"
      ]
     },
     "metadata": {},
     "output_type": "display_data"
    },
    {
     "data": {
      "text/html": [
       "<pre style=\"margin: 0.1em;\n",
       "padding-left: 0.25em;\n",
       "border-left-style: solid;\n",
       "font-family: var(--jp-code-font-family);\n",
       "font-size: var(--jp-code-font-size);\n",
       "line-height: var(--jp-code-line-height);\n",
       "\"><span style=\"color: var(--jp-warn-color2)\">timer.lsst.characterizeImage</span> <span style=\"color: var(--jp-success-color0)\">DEBUG</span>: detectMeasureAndEstimatePsfStartCpuTime=213.828899001; detectMeasureAndEstimatePsfStartUserTime=196.708909; detectMeasureAndEstimatePsfStartSystemTime=17.119966; detectMeasureAndEstimatePsfStartMaxResidentSetSize=1140772864; detectMeasureAndEstimatePsfStartMinorPageFaults=10762804; detectMeasureAndEstimatePsfStartMajorPageFaults=14; detectMeasureAndEstimatePsfStartBlockInputs=5835096; detectMeasureAndEstimatePsfStartBlockOutputs=2936; detectMeasureAndEstimatePsfStartVoluntaryContextSwitches=154389; detectMeasureAndEstimatePsfStartInvoluntaryContextSwitches=67220</pre>"
      ],
      "text/plain": [
       "<IPython.core.display.HTML object>"
      ]
     },
     "metadata": {},
     "output_type": "display_data"
    },
    {
     "data": {
      "text/html": [
       "<pre style=\"margin: 0.1em;\n",
       "padding-left: 0.25em;\n",
       "border-left-style: solid;\n",
       "font-family: var(--jp-code-font-family);\n",
       "font-size: var(--jp-code-font-size);\n",
       "line-height: var(--jp-code-line-height);\n",
       "\"><span style=\"color: var(--jp-warn-color2)\">lsst.characterizeImage</span> <span style=\"color: var(--jp-info-color0)\">INFO</span>: PSF estimation initialized with &#x27;simple&#x27; PSF</pre>"
      ],
      "text/plain": [
       "<IPython.core.display.HTML object>"
      ]
     },
     "metadata": {},
     "output_type": "display_data"
    },
    {
     "data": {
      "text/html": [
       "<pre style=\"margin: 0.1em;\n",
       "padding-left: 0.25em;\n",
       "border-left-style: solid;\n",
       "font-family: var(--jp-code-font-family);\n",
       "font-size: var(--jp-code-font-size);\n",
       "line-height: var(--jp-code-line-height);\n",
       "\"><span style=\"color: var(--jp-warn-color2)\">lsst.characterizeImage.installSimplePsf</span> <span style=\"color: var(--jp-success-color0)\">DEBUG</span>: installing a simple Gaussian PSF model with width=61, height=61, FWHM=15.000</pre>"
      ],
      "text/plain": [
       "<IPython.core.display.HTML object>"
      ]
     },
     "metadata": {},
     "output_type": "display_data"
    },
    {
     "data": {
      "text/html": [
       "<pre style=\"margin: 0.1em;\n",
       "padding-left: 0.25em;\n",
       "border-left-style: solid;\n",
       "font-family: var(--jp-code-font-family);\n",
       "font-size: var(--jp-code-font-size);\n",
       "line-height: var(--jp-code-line-height);\n",
       "\"><span style=\"color: var(--jp-warn-color2)\">timer.lsst.characterizeImage.repair</span> <span style=\"color: var(--jp-success-color0)\">DEBUG</span>: runStartCpuTime=213.831658627; runStartUserTime=196.711686; runStartSystemTime=17.119966; runStartMaxResidentSetSize=1140772864; runStartMinorPageFaults=10762804; runStartMajorPageFaults=14; runStartBlockInputs=5835096; runStartBlockOutputs=2936; runStartVoluntaryContextSwitches=154447; runStartInvoluntaryContextSwitches=67220</pre>"
      ],
      "text/plain": [
       "<IPython.core.display.HTML object>"
      ]
     },
     "metadata": {},
     "output_type": "display_data"
    },
    {
     "data": {
      "text/html": [
       "<pre style=\"margin: 0.1em;\n",
       "padding-left: 0.25em;\n",
       "border-left-style: solid;\n",
       "font-family: var(--jp-code-font-family);\n",
       "font-size: var(--jp-code-font-size);\n",
       "line-height: var(--jp-code-line-height);\n",
       "\"><span style=\"color: var(--jp-warn-color2)\">lsst.characterizeImage.repair</span> <span style=\"color: var(--jp-info-color0)\">INFO</span>: Identified 2 cosmic rays.</pre>"
      ],
      "text/plain": [
       "<IPython.core.display.HTML object>"
      ]
     },
     "metadata": {},
     "output_type": "display_data"
    },
    {
     "data": {
      "text/html": [
       "<pre style=\"margin: 0.1em;\n",
       "padding-left: 0.25em;\n",
       "border-left-style: solid;\n",
       "font-family: var(--jp-code-font-family);\n",
       "font-size: var(--jp-code-font-size);\n",
       "line-height: var(--jp-code-line-height);\n",
       "\"><span style=\"color: var(--jp-warn-color2)\">timer.lsst.characterizeImage.repair</span> <span style=\"color: var(--jp-success-color0)\">DEBUG</span>: runEndCpuTime=214.281411966; runEndUserTime=197.127465; runEndSystemTime=17.153925; runEndMaxResidentSetSize=1140772864; runEndMinorPageFaults=10791278; runEndMajorPageFaults=14; runEndBlockInputs=5835096; runEndBlockOutputs=2936; runEndVoluntaryContextSwitches=154579; runEndInvoluntaryContextSwitches=67221</pre>"
      ],
      "text/plain": [
       "<IPython.core.display.HTML object>"
      ]
     },
     "metadata": {},
     "output_type": "display_data"
    },
    {
     "data": {
      "text/html": [
       "<pre style=\"margin: 0.1em;\n",
       "padding-left: 0.25em;\n",
       "border-left-style: solid;\n",
       "font-family: var(--jp-code-font-family);\n",
       "font-size: var(--jp-code-font-size);\n",
       "line-height: var(--jp-code-line-height);\n",
       "\"><span style=\"color: var(--jp-warn-color2)\">timer.lsst.characterizeImage.detection</span> <span style=\"color: var(--jp-success-color0)\">DEBUG</span>: runStartCpuTime=214.282537212; runStartUserTime=197.127594; runStartSystemTime=17.154937; runStartMaxResidentSetSize=1140772864; runStartMinorPageFaults=10791278; runStartMajorPageFaults=14; runStartBlockInputs=5835096; runStartBlockOutputs=2936; runStartVoluntaryContextSwitches=154598; runStartInvoluntaryContextSwitches=67221</pre>"
      ],
      "text/plain": [
       "<IPython.core.display.HTML object>"
      ]
     },
     "metadata": {},
     "output_type": "display_data"
    },
    {
     "data": {
      "text/html": [
       "<pre style=\"margin: 0.1em;\n",
       "padding-left: 0.25em;\n",
       "border-left-style: solid;\n",
       "font-family: var(--jp-code-font-family);\n",
       "font-size: var(--jp-code-font-size);\n",
       "line-height: var(--jp-code-line-height);\n",
       "\"><span style=\"color: var(--jp-warn-color2)\">timer.lsst.characterizeImage.detection</span> <span style=\"color: var(--jp-success-color0)\">DEBUG</span>: detectFootprintsStartCpuTime=214.283372941; detectFootprintsStartUserTime=197.128429; detectFootprintsStartSystemTime=17.154937; detectFootprintsStartMaxResidentSetSize=1140772864; detectFootprintsStartMinorPageFaults=10791278; detectFootprintsStartMajorPageFaults=14; detectFootprintsStartBlockInputs=5835096; detectFootprintsStartBlockOutputs=2936; detectFootprintsStartVoluntaryContextSwitches=154623; detectFootprintsStartInvoluntaryContextSwitches=67221</pre>"
      ],
      "text/plain": [
       "<IPython.core.display.HTML object>"
      ]
     },
     "metadata": {},
     "output_type": "display_data"
    },
    {
     "data": {
      "text/html": [
       "<pre style=\"margin: 0.1em;\n",
       "padding-left: 0.25em;\n",
       "border-left-style: solid;\n",
       "font-family: var(--jp-code-font-family);\n",
       "font-size: var(--jp-code-font-size);\n",
       "line-height: var(--jp-code-line-height);\n",
       "\"><span style=\"color: var(--jp-warn-color2)\">lsst.characterizeImage.detection</span> <span style=\"color: var(--jp-success-color0)\">DEBUG</span>: Detection threshold: VALUE value=3.1779599 (positive) multiplier=5</pre>"
      ],
      "text/plain": [
       "<IPython.core.display.HTML object>"
      ]
     },
     "metadata": {},
     "output_type": "display_data"
    },
    {
     "data": {
      "text/html": [
       "<pre style=\"margin: 0.1em;\n",
       "padding-left: 0.25em;\n",
       "border-left-style: solid;\n",
       "font-family: var(--jp-code-font-family);\n",
       "font-size: var(--jp-code-font-size);\n",
       "line-height: var(--jp-code-line-height);\n",
       "\"><span style=\"color: var(--jp-warn-color2)\">lsst.characterizeImage.detection</span> <span style=\"color: var(--jp-success-color0)\">DEBUG</span>: Detection threshold: VALUE value=3.1779599 (negative) multiplier=5</pre>"
      ],
      "text/plain": [
       "<IPython.core.display.HTML object>"
      ]
     },
     "metadata": {},
     "output_type": "display_data"
    },
    {
     "data": {
      "text/html": [
       "<pre style=\"margin: 0.1em;\n",
       "padding-left: 0.25em;\n",
       "border-left-style: solid;\n",
       "font-family: var(--jp-code-font-family);\n",
       "font-size: var(--jp-code-font-size);\n",
       "line-height: var(--jp-code-line-height);\n",
       "\"><span style=\"color: var(--jp-warn-color2)\">lsst.characterizeImage.detection</span> <span style=\"color: var(--jp-info-color0)\">INFO</span>: Detected 91 positive peaks in 81 footprints and 4 negative peaks in 4 footprints to 25 sigma</pre>"
      ],
      "text/plain": [
       "<IPython.core.display.HTML object>"
      ]
     },
     "metadata": {},
     "output_type": "display_data"
    },
    {
     "data": {
      "text/html": [
       "<pre style=\"margin: 0.1em;\n",
       "padding-left: 0.25em;\n",
       "border-left-style: solid;\n",
       "font-family: var(--jp-code-font-family);\n",
       "font-size: var(--jp-code-font-size);\n",
       "line-height: var(--jp-code-line-height);\n",
       "\"><span style=\"color: var(--jp-warn-color2)\">lsst.characterizeImage.detection.background</span> <span style=\"color: var(--jp-success-color0)\">DEBUG</span>: Ignoring mask planes: BAD, EDGE, DETECTED, DETECTED_NEGATIVE, NO_DATA</pre>"
      ],
      "text/plain": [
       "<IPython.core.display.HTML object>"
      ]
     },
     "metadata": {},
     "output_type": "display_data"
    },
    {
     "data": {
      "text/html": [
       "<pre style=\"margin: 0.1em;\n",
       "padding-left: 0.25em;\n",
       "border-left-style: solid;\n",
       "font-family: var(--jp-code-font-family);\n",
       "font-size: var(--jp-code-font-size);\n",
       "line-height: var(--jp-code-line-height);\n",
       "\"><span style=\"color: var(--jp-warn-color2)\">lsst.characterizeImage.detection</span> <span style=\"color: var(--jp-info-color0)\">INFO</span>: Resubtracting the background after object detection</pre>"
      ],
      "text/plain": [
       "<IPython.core.display.HTML object>"
      ]
     },
     "metadata": {},
     "output_type": "display_data"
    },
    {
     "data": {
      "text/html": [
       "<pre style=\"margin: 0.1em;\n",
       "padding-left: 0.25em;\n",
       "border-left-style: solid;\n",
       "font-family: var(--jp-code-font-family);\n",
       "font-size: var(--jp-code-font-size);\n",
       "line-height: var(--jp-code-line-height);\n",
       "\"><span style=\"color: var(--jp-warn-color2)\">timer.lsst.characterizeImage.detection</span> <span style=\"color: var(--jp-success-color0)\">DEBUG</span>: detectFootprintsEndCpuTime=217.673218748; detectFootprintsEndUserTime=200.343322; detectFootprintsEndSystemTime=17.329874; detectFootprintsEndMaxResidentSetSize=1140772864; detectFootprintsEndMinorPageFaults=10981411; detectFootprintsEndMajorPageFaults=14; detectFootprintsEndBlockInputs=5835096; detectFootprintsEndBlockOutputs=2936; detectFootprintsEndVoluntaryContextSwitches=155372; detectFootprintsEndInvoluntaryContextSwitches=67226</pre>"
      ],
      "text/plain": [
       "<IPython.core.display.HTML object>"
      ]
     },
     "metadata": {},
     "output_type": "display_data"
    },
    {
     "data": {
      "text/html": [
       "<pre style=\"margin: 0.1em;\n",
       "padding-left: 0.25em;\n",
       "border-left-style: solid;\n",
       "font-family: var(--jp-code-font-family);\n",
       "font-size: var(--jp-code-font-size);\n",
       "line-height: var(--jp-code-line-height);\n",
       "\"><span style=\"color: var(--jp-warn-color2)\">timer.lsst.characterizeImage.detection</span> <span style=\"color: var(--jp-success-color0)\">DEBUG</span>: runEndCpuTime=217.674561534; runEndUserTime=200.343652; runEndSystemTime=17.330904; runEndMaxResidentSetSize=1140772864; runEndMinorPageFaults=10981411; runEndMajorPageFaults=14; runEndBlockInputs=5835096; runEndBlockOutputs=2936; runEndVoluntaryContextSwitches=155390; runEndInvoluntaryContextSwitches=67226</pre>"
      ],
      "text/plain": [
       "<IPython.core.display.HTML object>"
      ]
     },
     "metadata": {},
     "output_type": "display_data"
    },
    {
     "data": {
      "text/html": [
       "<pre style=\"margin: 0.1em;\n",
       "padding-left: 0.25em;\n",
       "border-left-style: solid;\n",
       "font-family: var(--jp-code-font-family);\n",
       "font-size: var(--jp-code-font-size);\n",
       "line-height: var(--jp-code-line-height);\n",
       "\"><span style=\"color: var(--jp-warn-color2)\">timer.lsst.characterizeImage.measurement</span> <span style=\"color: var(--jp-success-color0)\">DEBUG</span>: runStartCpuTime=217.675415593; runStartUserTime=200.344505; runStartSystemTime=17.330904; runStartMaxResidentSetSize=1140772864; runStartMinorPageFaults=10981411; runStartMajorPageFaults=14; runStartBlockInputs=5835096; runStartBlockOutputs=2936; runStartVoluntaryContextSwitches=155409; runStartInvoluntaryContextSwitches=67226</pre>"
      ],
      "text/plain": [
       "<IPython.core.display.HTML object>"
      ]
     },
     "metadata": {},
     "output_type": "display_data"
    },
    {
     "data": {
      "text/html": [
       "<pre style=\"margin: 0.1em;\n",
       "padding-left: 0.25em;\n",
       "border-left-style: solid;\n",
       "font-family: var(--jp-code-font-family);\n",
       "font-size: var(--jp-code-font-size);\n",
       "line-height: var(--jp-code-line-height);\n",
       "\"><span style=\"color: var(--jp-warn-color2)\">lsst.characterizeImage.measurement</span> <span style=\"color: var(--jp-success-color0)\">DEBUG</span>: Mask plane &quot;THISDET&quot;: plane 10, bitmask 1024 = 0x400</pre>"
      ],
      "text/plain": [
       "<IPython.core.display.HTML object>"
      ]
     },
     "metadata": {},
     "output_type": "display_data"
    },
    {
     "data": {
      "text/html": [
       "<pre style=\"margin: 0.1em;\n",
       "padding-left: 0.25em;\n",
       "border-left-style: solid;\n",
       "font-family: var(--jp-code-font-family);\n",
       "font-size: var(--jp-code-font-size);\n",
       "line-height: var(--jp-code-line-height);\n",
       "\"><span style=\"color: var(--jp-warn-color2)\">lsst.characterizeImage.measurement</span> <span style=\"color: var(--jp-success-color0)\">DEBUG</span>: Mask plane &quot;OTHERDET&quot;: plane 11, bitmask 2048 = 0x800</pre>"
      ],
      "text/plain": [
       "<IPython.core.display.HTML object>"
      ]
     },
     "metadata": {},
     "output_type": "display_data"
    },
    {
     "data": {
      "text/html": [
       "<pre style=\"margin: 0.1em;\n",
       "padding-left: 0.25em;\n",
       "border-left-style: solid;\n",
       "font-family: var(--jp-code-font-family);\n",
       "font-size: var(--jp-code-font-size);\n",
       "line-height: var(--jp-code-line-height);\n",
       "\"><span style=\"color: var(--jp-warn-color2)\">lsst.characterizeImage.measurement</span> <span style=\"color: var(--jp-success-color0)\">DEBUG</span>: Measured from image: clipped mean = 0.114012, stdev = 9.33618</pre>"
      ],
      "text/plain": [
       "<IPython.core.display.HTML object>"
      ]
     },
     "metadata": {},
     "output_type": "display_data"
    },
    {
     "data": {
      "text/html": [
       "<pre style=\"margin: 0.1em;\n",
       "padding-left: 0.25em;\n",
       "border-left-style: solid;\n",
       "font-family: var(--jp-code-font-family);\n",
       "font-size: var(--jp-code-font-size);\n",
       "line-height: var(--jp-code-line-height);\n",
       "\"><span style=\"color: var(--jp-warn-color2)\">lsst.characterizeImage.measurement</span> <span style=\"color: var(--jp-success-color0)\">DEBUG</span>: Using noise generator: FixedGaussianNoiseGenerator: mean=0.114012, std=9.33618</pre>"
      ],
      "text/plain": [
       "<IPython.core.display.HTML object>"
      ]
     },
     "metadata": {},
     "output_type": "display_data"
    },
    {
     "data": {
      "text/html": [
       "<pre style=\"margin: 0.1em;\n",
       "padding-left: 0.25em;\n",
       "border-left-style: solid;\n",
       "font-family: var(--jp-code-font-family);\n",
       "font-size: var(--jp-code-font-size);\n",
       "line-height: var(--jp-code-line-height);\n",
       "\"><span style=\"color: var(--jp-warn-color2)\">lsst.characterizeImage.measurement</span> <span style=\"color: var(--jp-info-color0)\">INFO</span>: Measuring 81 sources (81 parents, 0 children) </pre>"
      ],
      "text/plain": [
       "<IPython.core.display.HTML object>"
      ]
     },
     "metadata": {},
     "output_type": "display_data"
    },
    {
     "data": {
      "text/html": [
       "<pre style=\"margin: 0.1em;\n",
       "padding-left: 0.25em;\n",
       "border-left-style: solid;\n",
       "font-family: var(--jp-code-font-family);\n",
       "font-size: var(--jp-code-font-size);\n",
       "line-height: var(--jp-code-line-height);\n",
       "\"><span style=\"color: var(--jp-warn-color2)\">lsst.characterizeImage.measurement.base_GaussianFlux</span> <span style=\"color: var(--jp-success-color0)\">DEBUG</span>: MeasurementError in base_GaussianFlux.measure on record 12: \n",
       "  File &quot;src/InputUtilities.cc&quot;, line 179, in lsst::afw::geom::ellipses::Quadrupole lsst::meas::base::SafeShapeExtractor::operator()(lsst::afw::table::SourceRecord&amp;, const lsst::meas::base::FlagHandler&amp;) const\n",
       "    base_GaussianFlux: Shape needed, and Shape slot measurement failed. {0}\n",
       "lsst::meas::base::MeasurementError: &#x27;base_GaussianFlux: Shape needed, and Shape slot measurement failed.&#x27;\n",
       "</pre>"
      ],
      "text/plain": [
       "<IPython.core.display.HTML object>"
      ]
     },
     "metadata": {},
     "output_type": "display_data"
    },
    {
     "data": {
      "text/html": [
       "<pre style=\"margin: 0.1em;\n",
       "padding-left: 0.25em;\n",
       "border-left-style: solid;\n",
       "font-family: var(--jp-code-font-family);\n",
       "font-size: var(--jp-code-font-size);\n",
       "line-height: var(--jp-code-line-height);\n",
       "\"><span style=\"color: var(--jp-warn-color2)\">lsst.characterizeImage.measurement.base_GaussianFlux</span> <span style=\"color: var(--jp-success-color0)\">DEBUG</span>: MeasurementError in base_GaussianFlux.measure on record 80: \n",
       "  File &quot;src/InputUtilities.cc&quot;, line 179, in lsst::afw::geom::ellipses::Quadrupole lsst::meas::base::SafeShapeExtractor::operator()(lsst::afw::table::SourceRecord&amp;, const lsst::meas::base::FlagHandler&amp;) const\n",
       "    base_GaussianFlux: Shape needed, and Shape slot measurement failed. {0}\n",
       "lsst::meas::base::MeasurementError: &#x27;base_GaussianFlux: Shape needed, and Shape slot measurement failed.&#x27;\n",
       "</pre>"
      ],
      "text/plain": [
       "<IPython.core.display.HTML object>"
      ]
     },
     "metadata": {},
     "output_type": "display_data"
    },
    {
     "data": {
      "text/html": [
       "<pre style=\"margin: 0.1em;\n",
       "padding-left: 0.25em;\n",
       "border-left-style: solid;\n",
       "font-family: var(--jp-code-font-family);\n",
       "font-size: var(--jp-code-font-size);\n",
       "line-height: var(--jp-code-line-height);\n",
       "\"><span style=\"color: var(--jp-warn-color2)\">lsst.characterizeImage.measurement.base_SdssCentroid</span> <span style=\"color: var(--jp-success-color0)\">DEBUG</span>: MeasurementError in base_SdssCentroid.measure on record 81: \n",
       "  File &quot;src/SdssCentroid.cc&quot;, line 384, in std::pair&lt;MaskedImageT, double&gt; lsst::meas::base::{anonymous}::smoothAndBinImage(std::shared_ptr&lt;const lsst::afw::detection::Psf&gt;, int, int, const MaskedImageT&amp;, int, int, lsst::meas::base::FlagHandler) [with MaskedImageT = lsst::afw::image::MaskedImage&lt;float&gt;]\n",
       "    Object too close to edge {0}\n",
       "lsst::meas::base::MeasurementError: &#x27;Object too close to edge&#x27;\n",
       "</pre>"
      ],
      "text/plain": [
       "<IPython.core.display.HTML object>"
      ]
     },
     "metadata": {},
     "output_type": "display_data"
    },
    {
     "data": {
      "text/html": [
       "<pre style=\"margin: 0.1em;\n",
       "padding-left: 0.25em;\n",
       "border-left-style: solid;\n",
       "font-family: var(--jp-code-font-family);\n",
       "font-size: var(--jp-code-font-size);\n",
       "line-height: var(--jp-code-line-height);\n",
       "\"><span style=\"color: var(--jp-warn-color2)\">timer.lsst.characterizeImage.measurement</span> <span style=\"color: var(--jp-success-color0)\">DEBUG</span>: runEndCpuTime=218.365246199; runEndUserTime=201.004138; runEndSystemTime=17.361086; runEndMaxResidentSetSize=1140772864; runEndMinorPageFaults=11005511; runEndMajorPageFaults=14; runEndBlockInputs=5835096; runEndBlockOutputs=2936; runEndVoluntaryContextSwitches=155776; runEndInvoluntaryContextSwitches=67227</pre>"
      ],
      "text/plain": [
       "<IPython.core.display.HTML object>"
      ]
     },
     "metadata": {},
     "output_type": "display_data"
    },
    {
     "data": {
      "text/html": [
       "<pre style=\"margin: 0.1em;\n",
       "padding-left: 0.25em;\n",
       "border-left-style: solid;\n",
       "font-family: var(--jp-code-font-family);\n",
       "font-size: var(--jp-code-font-size);\n",
       "line-height: var(--jp-code-line-height);\n",
       "\"><span style=\"color: var(--jp-warn-color2)\">timer.lsst.characterizeImage.measurePsf</span> <span style=\"color: var(--jp-success-color0)\">DEBUG</span>: runStartCpuTime=218.366499083; runStartUserTime=201.005407; runStartSystemTime=17.361086; runStartMaxResidentSetSize=1140772864; runStartMinorPageFaults=11005511; runStartMajorPageFaults=14; runStartBlockInputs=5835096; runStartBlockOutputs=2936; runStartVoluntaryContextSwitches=155797; runStartInvoluntaryContextSwitches=67227</pre>"
      ],
      "text/plain": [
       "<IPython.core.display.HTML object>"
      ]
     },
     "metadata": {},
     "output_type": "display_data"
    },
    {
     "data": {
      "text/html": [
       "<pre style=\"margin: 0.1em;\n",
       "padding-left: 0.25em;\n",
       "border-left-style: solid;\n",
       "font-family: var(--jp-code-font-family);\n",
       "font-size: var(--jp-code-font-size);\n",
       "line-height: var(--jp-code-line-height);\n",
       "\"><span style=\"color: var(--jp-warn-color2)\">lsst.characterizeImage.measurePsf</span> <span style=\"color: var(--jp-info-color0)\">INFO</span>: Measuring PSF</pre>"
      ],
      "text/plain": [
       "<IPython.core.display.HTML object>"
      ]
     },
     "metadata": {},
     "output_type": "display_data"
    },
    {
     "data": {
      "text/html": [
       "<pre style=\"margin: 0.1em;\n",
       "padding-left: 0.25em;\n",
       "border-left-style: solid;\n",
       "font-family: var(--jp-code-font-family);\n",
       "font-size: var(--jp-code-font-size);\n",
       "line-height: var(--jp-code-line-height);\n",
       "\"><span style=\"color: var(--jp-warn-color2)\">lsst.characterizeImage.measurePsf</span> <span style=\"color: var(--jp-info-color0)\">INFO</span>: PSF star selector found 34 candidates</pre>"
      ],
      "text/plain": [
       "<IPython.core.display.HTML object>"
      ]
     },
     "metadata": {},
     "output_type": "display_data"
    },
    {
     "data": {
      "text/html": [
       "<pre style=\"margin: 0.1em;\n",
       "padding-left: 0.25em;\n",
       "border-left-style: solid;\n",
       "font-family: var(--jp-code-font-family);\n",
       "font-size: var(--jp-code-font-size);\n",
       "line-height: var(--jp-code-line-height);\n",
       "\"><span style=\"color: var(--jp-warn-color2)\">lsst.characterizeImage.measurePsf.reserve</span> <span style=\"color: var(--jp-info-color0)\">INFO</span>: Reserved 0/34 sources</pre>"
      ],
      "text/plain": [
       "<IPython.core.display.HTML object>"
      ]
     },
     "metadata": {},
     "output_type": "display_data"
    },
    {
     "data": {
      "text/html": [
       "<pre style=\"margin: 0.1em;\n",
       "padding-left: 0.25em;\n",
       "border-left-style: solid;\n",
       "font-family: var(--jp-code-font-family);\n",
       "font-size: var(--jp-code-font-size);\n",
       "line-height: var(--jp-code-line-height);\n",
       "\"><span style=\"color: var(--jp-warn-color2)\">lsst.characterizeImage.measurePsf</span> <span style=\"color: var(--jp-info-color0)\">INFO</span>: Sending 34 candidates to PSF determiner</pre>"
      ],
      "text/plain": [
       "<IPython.core.display.HTML object>"
      ]
     },
     "metadata": {},
     "output_type": "display_data"
    },
    {
     "data": {
      "text/html": [
       "<pre style=\"margin: 0.1em;\n",
       "padding-left: 0.25em;\n",
       "border-left-style: solid;\n",
       "font-family: var(--jp-code-font-family);\n",
       "font-size: var(--jp-code-font-size);\n",
       "line-height: var(--jp-code-line-height);\n",
       "\"><span style=\"color: var(--jp-warn-color2)\">lsst.characterizeImage.measurePsf.psfDeterminer</span> <span style=\"color: var(--jp-warn-color0)\">WARNING</span>: NOT scaling kernelSize by stellar quadrupole moment, but using absolute value</pre>"
      ],
      "text/plain": [
       "<IPython.core.display.HTML object>"
      ]
     },
     "metadata": {},
     "output_type": "display_data"
    },
    {
     "data": {
      "text/html": [
       "<pre style=\"margin: 0.1em;\n",
       "padding-left: 0.25em;\n",
       "border-left-style: solid;\n",
       "font-family: var(--jp-code-font-family);\n",
       "font-size: var(--jp-code-font-size);\n",
       "line-height: var(--jp-code-line-height);\n",
       "\"><span style=\"color: var(--jp-warn-color2)\">lsst.characterizeImage.measurePsf</span> <span style=\"color: var(--jp-info-color0)\">INFO</span>: PSF determination using 24/34 stars.</pre>"
      ],
      "text/plain": [
       "<IPython.core.display.HTML object>"
      ]
     },
     "metadata": {},
     "output_type": "display_data"
    },
    {
     "data": {
      "text/html": [
       "<pre style=\"margin: 0.1em;\n",
       "padding-left: 0.25em;\n",
       "border-left-style: solid;\n",
       "font-family: var(--jp-code-font-family);\n",
       "font-size: var(--jp-code-font-size);\n",
       "line-height: var(--jp-code-line-height);\n",
       "\"><span style=\"color: var(--jp-warn-color2)\">timer.lsst.characterizeImage.measurePsf</span> <span style=\"color: var(--jp-success-color0)\">DEBUG</span>: runEndCpuTime=218.992417415; runEndUserTime=201.600316; runEndSystemTime=17.392077; runEndMaxResidentSetSize=1140772864; runEndMinorPageFaults=11029612; runEndMajorPageFaults=14; runEndBlockInputs=5835096; runEndBlockOutputs=2936; runEndVoluntaryContextSwitches=156064; runEndInvoluntaryContextSwitches=67227</pre>"
      ],
      "text/plain": [
       "<IPython.core.display.HTML object>"
      ]
     },
     "metadata": {},
     "output_type": "display_data"
    },
    {
     "data": {
      "text/html": [
       "<pre style=\"margin: 0.1em;\n",
       "padding-left: 0.25em;\n",
       "border-left-style: solid;\n",
       "font-family: var(--jp-code-font-family);\n",
       "font-size: var(--jp-code-font-size);\n",
       "line-height: var(--jp-code-line-height);\n",
       "\"><span style=\"color: var(--jp-warn-color2)\">timer.lsst.characterizeImage</span> <span style=\"color: var(--jp-success-color0)\">DEBUG</span>: detectMeasureAndEstimatePsfEndCpuTime=218.993334587; detectMeasureAndEstimatePsfEndUserTime=201.600335; detectMeasureAndEstimatePsfEndSystemTime=17.392993; detectMeasureAndEstimatePsfEndMaxResidentSetSize=1140772864; detectMeasureAndEstimatePsfEndMinorPageFaults=11029612; detectMeasureAndEstimatePsfEndMajorPageFaults=14; detectMeasureAndEstimatePsfEndBlockInputs=5835096; detectMeasureAndEstimatePsfEndBlockOutputs=2936; detectMeasureAndEstimatePsfEndVoluntaryContextSwitches=156083; detectMeasureAndEstimatePsfEndInvoluntaryContextSwitches=67227</pre>"
      ],
      "text/plain": [
       "<IPython.core.display.HTML object>"
      ]
     },
     "metadata": {},
     "output_type": "display_data"
    },
    {
     "data": {
      "text/html": [
       "<pre style=\"margin: 0.1em;\n",
       "padding-left: 0.25em;\n",
       "border-left-style: solid;\n",
       "font-family: var(--jp-code-font-family);\n",
       "font-size: var(--jp-code-font-size);\n",
       "line-height: var(--jp-code-line-height);\n",
       "\"><span style=\"color: var(--jp-warn-color2)\">lsst.characterizeImage</span> <span style=\"color: var(--jp-info-color0)\">INFO</span>: iter 1; PSF sigma=6.55, dimensions=(41, 41); median background=5.83</pre>"
      ],
      "text/plain": [
       "<IPython.core.display.HTML object>"
      ]
     },
     "metadata": {},
     "output_type": "display_data"
    },
    {
     "data": {
      "text/html": [
       "<pre style=\"margin: 0.1em;\n",
       "padding-left: 0.25em;\n",
       "border-left-style: solid;\n",
       "font-family: var(--jp-code-font-family);\n",
       "font-size: var(--jp-code-font-size);\n",
       "line-height: var(--jp-code-line-height);\n",
       "\"><span style=\"color: var(--jp-warn-color2)\">timer.lsst.characterizeImage.repair</span> <span style=\"color: var(--jp-success-color0)\">DEBUG</span>: runStartCpuTime=219.212033549; runStartUserTime=201.77393; runStartSystemTime=17.438081; runStartMaxResidentSetSize=1140772864; runStartMinorPageFaults=11077333; runStartMajorPageFaults=14; runStartBlockInputs=5835096; runStartBlockOutputs=2936; runStartVoluntaryContextSwitches=156162; runStartInvoluntaryContextSwitches=67228</pre>"
      ],
      "text/plain": [
       "<IPython.core.display.HTML object>"
      ]
     },
     "metadata": {},
     "output_type": "display_data"
    },
    {
     "data": {
      "text/html": [
       "<pre style=\"margin: 0.1em;\n",
       "padding-left: 0.25em;\n",
       "border-left-style: solid;\n",
       "font-family: var(--jp-code-font-family);\n",
       "font-size: var(--jp-code-font-size);\n",
       "line-height: var(--jp-code-line-height);\n",
       "\"><span style=\"color: var(--jp-warn-color2)\">lsst.characterizeImage.repair</span> <span style=\"color: var(--jp-info-color0)\">INFO</span>: Identified 3 cosmic rays.</pre>"
      ],
      "text/plain": [
       "<IPython.core.display.HTML object>"
      ]
     },
     "metadata": {},
     "output_type": "display_data"
    },
    {
     "data": {
      "text/html": [
       "<pre style=\"margin: 0.1em;\n",
       "padding-left: 0.25em;\n",
       "border-left-style: solid;\n",
       "font-family: var(--jp-code-font-family);\n",
       "font-size: var(--jp-code-font-size);\n",
       "line-height: var(--jp-code-line-height);\n",
       "\"><span style=\"color: var(--jp-warn-color2)\">timer.lsst.characterizeImage.repair</span> <span style=\"color: var(--jp-success-color0)\">DEBUG</span>: runEndCpuTime=219.652062806; runEndUserTime=202.184965; runEndSystemTime=17.467076; runEndMaxResidentSetSize=1140772864; runEndMinorPageFaults=11101433; runEndMajorPageFaults=14; runEndBlockInputs=5835096; runEndBlockOutputs=2936; runEndVoluntaryContextSwitches=156298; runEndInvoluntaryContextSwitches=67228</pre>"
      ],
      "text/plain": [
       "<IPython.core.display.HTML object>"
      ]
     },
     "metadata": {},
     "output_type": "display_data"
    },
    {
     "data": {
      "text/html": [
       "<pre style=\"margin: 0.1em;\n",
       "padding-left: 0.25em;\n",
       "border-left-style: solid;\n",
       "font-family: var(--jp-code-font-family);\n",
       "font-size: var(--jp-code-font-size);\n",
       "line-height: var(--jp-code-line-height);\n",
       "\"><span style=\"color: var(--jp-warn-color2)\">timer.lsst.characterizeImage.measurement</span> <span style=\"color: var(--jp-success-color0)\">DEBUG</span>: runStartCpuTime=219.652930545; runStartUserTime=202.185848; runStartSystemTime=17.467076; runStartMaxResidentSetSize=1140772864; runStartMinorPageFaults=11101433; runStartMajorPageFaults=14; runStartBlockInputs=5835096; runStartBlockOutputs=2936; runStartVoluntaryContextSwitches=156317; runStartInvoluntaryContextSwitches=67228</pre>"
      ],
      "text/plain": [
       "<IPython.core.display.HTML object>"
      ]
     },
     "metadata": {},
     "output_type": "display_data"
    },
    {
     "data": {
      "text/html": [
       "<pre style=\"margin: 0.1em;\n",
       "padding-left: 0.25em;\n",
       "border-left-style: solid;\n",
       "font-family: var(--jp-code-font-family);\n",
       "font-size: var(--jp-code-font-size);\n",
       "line-height: var(--jp-code-line-height);\n",
       "\"><span style=\"color: var(--jp-warn-color2)\">lsst.characterizeImage.measurement</span> <span style=\"color: var(--jp-success-color0)\">DEBUG</span>: Mask plane &quot;THISDET&quot;: plane 10, bitmask 1024 = 0x400</pre>"
      ],
      "text/plain": [
       "<IPython.core.display.HTML object>"
      ]
     },
     "metadata": {},
     "output_type": "display_data"
    },
    {
     "data": {
      "text/html": [
       "<pre style=\"margin: 0.1em;\n",
       "padding-left: 0.25em;\n",
       "border-left-style: solid;\n",
       "font-family: var(--jp-code-font-family);\n",
       "font-size: var(--jp-code-font-size);\n",
       "line-height: var(--jp-code-line-height);\n",
       "\"><span style=\"color: var(--jp-warn-color2)\">lsst.characterizeImage.measurement</span> <span style=\"color: var(--jp-success-color0)\">DEBUG</span>: Mask plane &quot;OTHERDET&quot;: plane 11, bitmask 2048 = 0x800</pre>"
      ],
      "text/plain": [
       "<IPython.core.display.HTML object>"
      ]
     },
     "metadata": {},
     "output_type": "display_data"
    },
    {
     "data": {
      "text/html": [
       "<pre style=\"margin: 0.1em;\n",
       "padding-left: 0.25em;\n",
       "border-left-style: solid;\n",
       "font-family: var(--jp-code-font-family);\n",
       "font-size: var(--jp-code-font-size);\n",
       "line-height: var(--jp-code-line-height);\n",
       "\"><span style=\"color: var(--jp-warn-color2)\">lsst.characterizeImage.measurement</span> <span style=\"color: var(--jp-success-color0)\">DEBUG</span>: Measured from image: clipped mean = 0.114015, stdev = 9.33619</pre>"
      ],
      "text/plain": [
       "<IPython.core.display.HTML object>"
      ]
     },
     "metadata": {},
     "output_type": "display_data"
    },
    {
     "data": {
      "text/html": [
       "<pre style=\"margin: 0.1em;\n",
       "padding-left: 0.25em;\n",
       "border-left-style: solid;\n",
       "font-family: var(--jp-code-font-family);\n",
       "font-size: var(--jp-code-font-size);\n",
       "line-height: var(--jp-code-line-height);\n",
       "\"><span style=\"color: var(--jp-warn-color2)\">lsst.characterizeImage.measurement</span> <span style=\"color: var(--jp-success-color0)\">DEBUG</span>: Using noise generator: FixedGaussianNoiseGenerator: mean=0.114015, std=9.33619</pre>"
      ],
      "text/plain": [
       "<IPython.core.display.HTML object>"
      ]
     },
     "metadata": {},
     "output_type": "display_data"
    },
    {
     "data": {
      "text/html": [
       "<pre style=\"margin: 0.1em;\n",
       "padding-left: 0.25em;\n",
       "border-left-style: solid;\n",
       "font-family: var(--jp-code-font-family);\n",
       "font-size: var(--jp-code-font-size);\n",
       "line-height: var(--jp-code-line-height);\n",
       "\"><span style=\"color: var(--jp-warn-color2)\">lsst.characterizeImage.measurement</span> <span style=\"color: var(--jp-info-color0)\">INFO</span>: Measuring 81 sources (81 parents, 0 children) </pre>"
      ],
      "text/plain": [
       "<IPython.core.display.HTML object>"
      ]
     },
     "metadata": {},
     "output_type": "display_data"
    },
    {
     "data": {
      "text/html": [
       "<pre style=\"margin: 0.1em;\n",
       "padding-left: 0.25em;\n",
       "border-left-style: solid;\n",
       "font-family: var(--jp-code-font-family);\n",
       "font-size: var(--jp-code-font-size);\n",
       "line-height: var(--jp-code-line-height);\n",
       "\"><span style=\"color: var(--jp-warn-color2)\">lsst.characterizeImage.measurement.base_GaussianFlux</span> <span style=\"color: var(--jp-success-color0)\">DEBUG</span>: MeasurementError in base_GaussianFlux.measure on record 80: \n",
       "  File &quot;src/InputUtilities.cc&quot;, line 179, in lsst::afw::geom::ellipses::Quadrupole lsst::meas::base::SafeShapeExtractor::operator()(lsst::afw::table::SourceRecord&amp;, const lsst::meas::base::FlagHandler&amp;) const\n",
       "    base_GaussianFlux: Shape needed, and Shape slot measurement failed. {0}\n",
       "lsst::meas::base::MeasurementError: &#x27;base_GaussianFlux: Shape needed, and Shape slot measurement failed.&#x27;\n",
       "</pre>"
      ],
      "text/plain": [
       "<IPython.core.display.HTML object>"
      ]
     },
     "metadata": {},
     "output_type": "display_data"
    },
    {
     "data": {
      "text/html": [
       "<pre style=\"margin: 0.1em;\n",
       "padding-left: 0.25em;\n",
       "border-left-style: solid;\n",
       "font-family: var(--jp-code-font-family);\n",
       "font-size: var(--jp-code-font-size);\n",
       "line-height: var(--jp-code-line-height);\n",
       "\"><span style=\"color: var(--jp-warn-color2)\">timer.lsst.characterizeImage.measurement</span> <span style=\"color: var(--jp-success-color0)\">DEBUG</span>: runEndCpuTime=220.451059548; runEndUserTime=202.953843; runEndSystemTime=17.497194; runEndMaxResidentSetSize=1140772864; runEndMinorPageFaults=11125533; runEndMajorPageFaults=14; runEndBlockInputs=5835096; runEndBlockOutputs=2936; runEndVoluntaryContextSwitches=156635; runEndInvoluntaryContextSwitches=67229</pre>"
      ],
      "text/plain": [
       "<IPython.core.display.HTML object>"
      ]
     },
     "metadata": {},
     "output_type": "display_data"
    },
    {
     "data": {
      "text/html": [
       "<pre style=\"margin: 0.1em;\n",
       "padding-left: 0.25em;\n",
       "border-left-style: solid;\n",
       "font-family: var(--jp-code-font-family);\n",
       "font-size: var(--jp-code-font-size);\n",
       "line-height: var(--jp-code-line-height);\n",
       "\"><span style=\"color: var(--jp-warn-color2)\">timer.lsst.characterizeImage.catalogCalculation</span> <span style=\"color: var(--jp-success-color0)\">DEBUG</span>: runStartCpuTime=220.45235584; runStartUserTime=202.955131; runStartSystemTime=17.497219; runStartMaxResidentSetSize=1140772864; runStartMinorPageFaults=11125533; runStartMajorPageFaults=14; runStartBlockInputs=5835096; runStartBlockOutputs=2936; runStartVoluntaryContextSwitches=156658; runStartInvoluntaryContextSwitches=67229</pre>"
      ],
      "text/plain": [
       "<IPython.core.display.HTML object>"
      ]
     },
     "metadata": {},
     "output_type": "display_data"
    },
    {
     "data": {
      "text/html": [
       "<pre style=\"margin: 0.1em;\n",
       "padding-left: 0.25em;\n",
       "border-left-style: solid;\n",
       "font-family: var(--jp-code-font-family);\n",
       "font-size: var(--jp-code-font-size);\n",
       "line-height: var(--jp-code-line-height);\n",
       "\"><span style=\"color: var(--jp-warn-color2)\">timer.lsst.characterizeImage.catalogCalculation</span> <span style=\"color: var(--jp-success-color0)\">DEBUG</span>: runEndCpuTime=220.454822751; runEndUserTime=202.957597; runEndSystemTime=17.497219; runEndMaxResidentSetSize=1140772864; runEndMinorPageFaults=11125533; runEndMajorPageFaults=14; runEndBlockInputs=5835096; runEndBlockOutputs=2936; runEndVoluntaryContextSwitches=156677; runEndInvoluntaryContextSwitches=67229</pre>"
      ],
      "text/plain": [
       "<IPython.core.display.HTML object>"
      ]
     },
     "metadata": {},
     "output_type": "display_data"
    },
    {
     "data": {
      "text/html": [
       "<pre style=\"margin: 0.1em;\n",
       "padding-left: 0.25em;\n",
       "border-left-style: solid;\n",
       "font-family: var(--jp-code-font-family);\n",
       "font-size: var(--jp-code-font-size);\n",
       "line-height: var(--jp-code-line-height);\n",
       "\"><span style=\"color: var(--jp-warn-color2)\">timer.lsst.characterizeImage</span> <span style=\"color: var(--jp-success-color0)\">DEBUG</span>: runEndCpuTime=220.455675179; runEndUserTime=202.958425; runEndSystemTime=17.497244; runEndMaxResidentSetSize=1140772864; runEndMinorPageFaults=11125533; runEndMajorPageFaults=14; runEndBlockInputs=5835096; runEndBlockOutputs=2936; runEndVoluntaryContextSwitches=156702; runEndInvoluntaryContextSwitches=67229</pre>"
      ],
      "text/plain": [
       "<IPython.core.display.HTML object>"
      ]
     },
     "metadata": {},
     "output_type": "display_data"
    },
    {
     "name": "stdout",
     "output_type": "stream",
     "text": [
      "Psf shape from imChar task (x,y) = (1.421, 1.536) FWHM arcsec\n"
     ]
    }
   ],
   "source": [
    "fwhmX=None; fwhmY=None; overallFwhm=None\n",
    "result=None\n",
    "psf=None\n",
    "success=False\n",
    "line=[]\n",
    "\n",
    "for i in np.arange(135, 146, dtype=int):\n",
    "    dataId = {'day_obs': 20220526, 'seq_num': i.item(), 'detector': 0, \"instrument\": 'LATISS'}\n",
    "    print(dataId)\n",
    "    best_effort_isr.doWrite = False  # Don't write to butler database\n",
    "    exp = best_effort_isr.getExposure(dataId, skipCosmics=False)\n",
    "    \n",
    "    # Run the methods to get the psf data\n",
    "    try:\n",
    "        fwhmX, fwhmY, overallFwhm, psf = measurePsf(exp)\n",
    "        success=True\n",
    "        pass\n",
    "    except InvalidParameterError as e:\n",
    "        print('Caught the InvalidParameterError, measurePsf was not successful')\n",
    "        pass\n",
    "    except RuntimeError as e:\n",
    "        print('Caught the RuntimeError, measurePsf was not successful')\n",
    "        pass\n",
    "\n",
    "    if not success:\n",
    "        print('Using Merlin\\'s simplified algorithm')\n",
    "        result = qm.run(exp)\n",
    "        if result.success:\n",
    "            fwhmX=result.medianXxYy[0]\n",
    "            fwhmY=result.medianXxYy[1]\n",
    "            overallFwhm=np.sqrt(result.medianXxYy[0]**2 + result.medianXxYy[1]**2)\n",
    "        else:\n",
    "            raise RuntimeError('No PSF could be derived using either method')\n",
    "    \n",
    "    \n",
    "    # Derive corrections for airmass and wavelength\n",
    "    filter_band=exp.getInfo().getFilterLabel().bandLabel \n",
    "    airmass=((exp.getInfo().getMetadata().get('AMSTART')+exp.getInfo().getMetadata().get('AMEND'))/2.0)\n",
    "    elevation=((exp.getInfo().getMetadata().get('ELSTART')+exp.getInfo().getMetadata().get('ELEND'))/2.0)\n",
    "    dimm_seeing=exp.getInfo().getMetadata().get('SEEING')\n",
    "    \n",
    "    \n",
    "    airmass_corr_fwhm = overallFwhm * (airmass ** -0.6)\n",
    "    \n",
    "    filter_wavelength= {'white': 700, 'g': 475, 'r': 623, 'i': 763, 'z': 828.0}\n",
    "    corr_fwhm = airmass_corr_fwhm * ((500. / filter_wavelength[filter_band]) ** -0.2)\n",
    "\n",
    "    \n",
    "    # Build each PD entry \n",
    "    line.append(\n",
    "        {'exposure': i,\n",
    "         'fwhmX': fwhmX,\n",
    "         'fwhmY': fwhmY, \n",
    "         'overallFwhm':overallFwhm,  \n",
    "         'airmass': airmass,\n",
    "         'filter_band' : filter_band,\n",
    "         'dimm_seeing': dimm_seeing,\n",
    "         'corr_fwhm': corr_fwhm\n",
    "        }\n",
    "    )\n",
    "    \n",
    "df = pd.DataFrame(line)   "
   ]
  },
  {
   "cell_type": "code",
   "execution_count": 43,
   "metadata": {},
   "outputs": [],
   "source": [
    "df.to_csv('AuxTel_LTS-337-014_220608b.txt')"
   ]
  },
  {
   "cell_type": "code",
   "execution_count": 44,
   "metadata": {},
   "outputs": [
    {
     "data": {
      "text/html": [
       "<div>\n",
       "<style scoped>\n",
       "    .dataframe tbody tr th:only-of-type {\n",
       "        vertical-align: middle;\n",
       "    }\n",
       "\n",
       "    .dataframe tbody tr th {\n",
       "        vertical-align: top;\n",
       "    }\n",
       "\n",
       "    .dataframe thead th {\n",
       "        text-align: right;\n",
       "    }\n",
       "</style>\n",
       "<table border=\"1\" class=\"dataframe\">\n",
       "  <thead>\n",
       "    <tr style=\"text-align: right;\">\n",
       "      <th></th>\n",
       "      <th>exposure</th>\n",
       "      <th>fwhmX</th>\n",
       "      <th>fwhmY</th>\n",
       "      <th>overallFwhm</th>\n",
       "      <th>airmass</th>\n",
       "      <th>filter_band</th>\n",
       "      <th>dimm_seeing</th>\n",
       "      <th>corr_fwhm</th>\n",
       "    </tr>\n",
       "  </thead>\n",
       "  <tbody>\n",
       "    <tr>\n",
       "      <th>0</th>\n",
       "      <td>135</td>\n",
       "      <td>1.432213</td>\n",
       "      <td>1.480916</td>\n",
       "      <td>1.456356</td>\n",
       "      <td>1.550099</td>\n",
       "      <td>r</td>\n",
       "      <td>1.019236</td>\n",
       "      <td>1.169919</td>\n",
       "    </tr>\n",
       "    <tr>\n",
       "      <th>1</th>\n",
       "      <td>136</td>\n",
       "      <td>1.360024</td>\n",
       "      <td>1.443089</td>\n",
       "      <td>1.400682</td>\n",
       "      <td>1.550136</td>\n",
       "      <td>r</td>\n",
       "      <td>1.224519</td>\n",
       "      <td>1.125178</td>\n",
       "    </tr>\n",
       "    <tr>\n",
       "      <th>2</th>\n",
       "      <td>137</td>\n",
       "      <td>1.273828</td>\n",
       "      <td>1.324774</td>\n",
       "      <td>1.298891</td>\n",
       "      <td>1.550173</td>\n",
       "      <td>r</td>\n",
       "      <td>1.224519</td>\n",
       "      <td>1.043393</td>\n",
       "    </tr>\n",
       "    <tr>\n",
       "      <th>3</th>\n",
       "      <td>138</td>\n",
       "      <td>1.337126</td>\n",
       "      <td>1.393243</td>\n",
       "      <td>1.359064</td>\n",
       "      <td>1.550213</td>\n",
       "      <td>r</td>\n",
       "      <td>0.992373</td>\n",
       "      <td>1.091713</td>\n",
       "    </tr>\n",
       "    <tr>\n",
       "      <th>4</th>\n",
       "      <td>139</td>\n",
       "      <td>1.319926</td>\n",
       "      <td>1.347844</td>\n",
       "      <td>1.333697</td>\n",
       "      <td>1.550255</td>\n",
       "      <td>r</td>\n",
       "      <td>0.992373</td>\n",
       "      <td>1.071320</td>\n",
       "    </tr>\n",
       "    <tr>\n",
       "      <th>5</th>\n",
       "      <td>140</td>\n",
       "      <td>1.417474</td>\n",
       "      <td>1.499312</td>\n",
       "      <td>1.456285</td>\n",
       "      <td>1.550298</td>\n",
       "      <td>r</td>\n",
       "      <td>1.016877</td>\n",
       "      <td>1.169771</td>\n",
       "    </tr>\n",
       "    <tr>\n",
       "      <th>6</th>\n",
       "      <td>141</td>\n",
       "      <td>1.394170</td>\n",
       "      <td>1.453657</td>\n",
       "      <td>1.423504</td>\n",
       "      <td>1.550344</td>\n",
       "      <td>r</td>\n",
       "      <td>1.016877</td>\n",
       "      <td>1.143419</td>\n",
       "    </tr>\n",
       "    <tr>\n",
       "      <th>7</th>\n",
       "      <td>142</td>\n",
       "      <td>1.409938</td>\n",
       "      <td>1.446995</td>\n",
       "      <td>1.428132</td>\n",
       "      <td>1.550392</td>\n",
       "      <td>r</td>\n",
       "      <td>1.027855</td>\n",
       "      <td>1.147115</td>\n",
       "    </tr>\n",
       "    <tr>\n",
       "      <th>8</th>\n",
       "      <td>143</td>\n",
       "      <td>1.681227</td>\n",
       "      <td>1.659198</td>\n",
       "      <td>1.669394</td>\n",
       "      <td>1.550441</td>\n",
       "      <td>r</td>\n",
       "      <td>1.102542</td>\n",
       "      <td>1.340878</td>\n",
       "    </tr>\n",
       "    <tr>\n",
       "      <th>9</th>\n",
       "      <td>144</td>\n",
       "      <td>1.440937</td>\n",
       "      <td>1.566001</td>\n",
       "      <td>1.502029</td>\n",
       "      <td>1.550493</td>\n",
       "      <td>r</td>\n",
       "      <td>1.102542</td>\n",
       "      <td>1.206424</td>\n",
       "    </tr>\n",
       "    <tr>\n",
       "      <th>10</th>\n",
       "      <td>145</td>\n",
       "      <td>1.420804</td>\n",
       "      <td>1.535809</td>\n",
       "      <td>1.477175</td>\n",
       "      <td>1.550546</td>\n",
       "      <td>r</td>\n",
       "      <td>1.183109</td>\n",
       "      <td>1.186437</td>\n",
       "    </tr>\n",
       "  </tbody>\n",
       "</table>\n",
       "</div>"
      ],
      "text/plain": [
       "    exposure     fwhmX     fwhmY  overallFwhm   airmass filter_band  \\\n",
       "0        135  1.432213  1.480916     1.456356  1.550099           r   \n",
       "1        136  1.360024  1.443089     1.400682  1.550136           r   \n",
       "2        137  1.273828  1.324774     1.298891  1.550173           r   \n",
       "3        138  1.337126  1.393243     1.359064  1.550213           r   \n",
       "4        139  1.319926  1.347844     1.333697  1.550255           r   \n",
       "5        140  1.417474  1.499312     1.456285  1.550298           r   \n",
       "6        141  1.394170  1.453657     1.423504  1.550344           r   \n",
       "7        142  1.409938  1.446995     1.428132  1.550392           r   \n",
       "8        143  1.681227  1.659198     1.669394  1.550441           r   \n",
       "9        144  1.440937  1.566001     1.502029  1.550493           r   \n",
       "10       145  1.420804  1.535809     1.477175  1.550546           r   \n",
       "\n",
       "    dimm_seeing  corr_fwhm  \n",
       "0      1.019236   1.169919  \n",
       "1      1.224519   1.125178  \n",
       "2      1.224519   1.043393  \n",
       "3      0.992373   1.091713  \n",
       "4      0.992373   1.071320  \n",
       "5      1.016877   1.169771  \n",
       "6      1.016877   1.143419  \n",
       "7      1.027855   1.147115  \n",
       "8      1.102542   1.340878  \n",
       "9      1.102542   1.206424  \n",
       "10     1.183109   1.186437  "
      ]
     },
     "execution_count": 44,
     "metadata": {},
     "output_type": "execute_result"
    }
   ],
   "source": [
    "df"
   ]
  },
  {
   "cell_type": "markdown",
   "metadata": {},
   "source": [
    "****"
   ]
  },
  {
   "cell_type": "markdown",
   "metadata": {},
   "source": [
    "# Conclusion"
   ]
  },
  {
   "cell_type": "markdown",
   "metadata": {},
   "source": [
    "The dome azimuth rotation speed has been examined in 3 dedicated rotation tests of different rotation angles (210, 90 and 30 degrees) and an offline analysis of an observing night, to replicate the dome operations cadence.\n",
    "In none of these test cases, the azimuth rotational speed has been above the minimum 4 deg/sec speed requirement from LTS-337-030 (Auxiliary Telescope Dome Rotation Requirement). \n"
   ]
  }
 ],
 "metadata": {
  "kernelspec": {
   "display_name": "LSST",
   "language": "python",
   "name": "lsst"
  },
  "language_info": {
   "codemirror_mode": {
    "name": "ipython",
    "version": 3
   },
   "file_extension": ".py",
   "mimetype": "text/x-python",
   "name": "python",
   "nbconvert_exporter": "python",
   "pygments_lexer": "ipython3",
   "version": "3.8.13"
  },
  "toc-autonumbering": true,
  "toc-showcode": false,
  "toc-showmarkdowntxt": false,
  "toc-showtags": false
 },
 "nbformat": 4,
 "nbformat_minor": 4
}
