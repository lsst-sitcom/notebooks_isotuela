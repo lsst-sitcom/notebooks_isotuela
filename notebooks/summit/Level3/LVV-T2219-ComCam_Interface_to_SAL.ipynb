{
 "cells": [
  {
   "cell_type": "markdown",
   "metadata": {},
   "source": [
    "# Test Case LVV-T2219\n",
    "The objective of this test case is to verify the ComCam communication interface with SAL by testing the commands, events and telemetry defined by the latest version of the XML. This test case will exercise the functionality of the ComCam on the 3rd level of the Summit and meets the following criteria:\n",
    "\n",
    "    Only requires the ComCam to be operational\n",
    "    Does not require any communication with other subsystems\n",
    "    Does require the use of SAL and the EFD\n",
    "    \n"
   ]
  },
  {
   "cell_type": "code",
   "execution_count": 1,
   "metadata": {},
   "outputs": [
    {
     "data": {
      "text/html": [
       "<pre style=\"margin: 0.1em;\n",
       "padding-left: 0.25em;\n",
       "border-left-style: solid;\n",
       "font-family: var(--jp-code-font-family);\n",
       "font-size: var(--jp-code-font-size);\n",
       "line-height: var(--jp-code-line-height);\n",
       "\"><span style=\"color: var(--jp-warn-color2)\">lsst.ts.utils.tai</span> <span style=\"color: var(--jp-info-color0)\">INFO</span>: Update leap second table</pre>"
      ],
      "text/plain": [
       "<IPython.core.display.HTML object>"
      ]
     },
     "metadata": {},
     "output_type": "display_data"
    },
    {
     "data": {
      "text/html": [
       "<pre style=\"margin: 0.1em;\n",
       "padding-left: 0.25em;\n",
       "border-left-style: solid;\n",
       "font-family: var(--jp-code-font-family);\n",
       "font-size: var(--jp-code-font-size);\n",
       "line-height: var(--jp-code-line-height);\n",
       "\"><span style=\"color: var(--jp-warn-color2)\">lsst.ts.utils.tai</span> <span style=\"color: var(--jp-info-color0)\">INFO</span>: current_tai uses the system TAI clock</pre>"
      ],
      "text/plain": [
       "<IPython.core.display.HTML object>"
      ]
     },
     "metadata": {},
     "output_type": "display_data"
    },
    {
     "name": "stdout",
     "output_type": "stream",
     "text": [
      "\n",
      "Executed by isotuela on 2022-08-10T17:00:35.922.\n",
      "  Running in pillan04 at tucson\n",
      "\n"
     ]
    }
   ],
   "source": [
    "from lsst.sitcom import vandv\n",
    "\n",
    "exec_info = vandv.ExecutionInfo()\n",
    "print(exec_info)"
   ]
  },
  {
   "cell_type": "markdown",
   "metadata": {},
   "source": [
    "# Setup"
   ]
  },
  {
   "cell_type": "code",
   "execution_count": 1,
   "metadata": {},
   "outputs": [
    {
     "data": {
      "text/html": [
       "<pre style=\"margin: 0.1em;\n",
       "padding-left: 0.25em;\n",
       "border-left-style: solid;\n",
       "font-family: var(--jp-code-font-family);\n",
       "font-size: var(--jp-code-font-size);\n",
       "line-height: var(--jp-code-line-height);\n",
       "\"><span style=\"color: var(--jp-warn-color2)\">lsst.ts.utils.tai</span> <span style=\"color: var(--jp-info-color0)\">INFO</span>: Update leap second table</pre>"
      ],
      "text/plain": [
       "<IPython.core.display.HTML object>"
      ]
     },
     "metadata": {},
     "output_type": "display_data"
    },
    {
     "data": {
      "text/html": [
       "<pre style=\"margin: 0.1em;\n",
       "padding-left: 0.25em;\n",
       "border-left-style: solid;\n",
       "font-family: var(--jp-code-font-family);\n",
       "font-size: var(--jp-code-font-size);\n",
       "line-height: var(--jp-code-line-height);\n",
       "\"><span style=\"color: var(--jp-warn-color2)\">lsst.ts.utils.tai</span> <span style=\"color: var(--jp-info-color0)\">INFO</span>: current_tai uses the system TAI clock</pre>"
      ],
      "text/plain": [
       "<IPython.core.display.HTML object>"
      ]
     },
     "metadata": {},
     "output_type": "display_data"
    }
   ],
   "source": [
    "import asyncio\n",
    "import logging\n",
    "import os\n",
    "import yaml\n",
    "\n",
    "import astropy.units as u\n",
    "import numpy as np\n",
    "import pandas as pd\n",
    "\n",
    "from astropy.time import Time\n",
    "from datetime import datetime, timedelta\n",
    "from matplotlib import pyplot as plt\n",
    "\n",
    "from lsst.ts.observatory.control.maintel import ComCam\n",
    "from lsst_efd_client import EfdClient\n",
    "from lsst.ts import salobj"
   ]
  },
  {
   "cell_type": "markdown",
   "metadata": {},
   "source": [
    "The following block sets the necessary environment variables for setting up the DDS/SAL communication"
   ]
  },
  {
   "cell_type": "code",
   "execution_count": 2,
   "metadata": {},
   "outputs": [],
   "source": [
    "os.environ[\"LSST_DDS_HISTORYSYNC\"] = \"30\""
   ]
  },
  {
   "cell_type": "markdown",
   "metadata": {},
   "source": [
    "Setting up logger"
   ]
  },
  {
   "cell_type": "code",
   "execution_count": 5,
   "metadata": {},
   "outputs": [],
   "source": [
    "logger = logging.getLogger(\"LVV-T2219\")\n",
    "logger.setLevel(logging.DEBUG)"
   ]
  },
  {
   "cell_type": "markdown",
   "metadata": {},
   "source": [
    "Getting unique index for Script"
   ]
  },
  {
   "cell_type": "code",
   "execution_count": 6,
   "metadata": {},
   "outputs": [
    {
     "data": {
      "text/html": [
       "<pre style=\"margin: 0.1em;\n",
       "padding-left: 0.25em;\n",
       "border-left-style: solid;\n",
       "font-family: var(--jp-code-font-family);\n",
       "font-size: var(--jp-code-font-size);\n",
       "line-height: var(--jp-code-line-height);\n",
       "\"><span style=\"color: var(--jp-warn-color2)\">LVV-T2219</span> <span style=\"color: var(--jp-info-color0)\">INFO</span>: Your UID is 87160242</pre>"
      ],
      "text/plain": [
       "<IPython.core.display.HTML object>"
      ]
     },
     "metadata": {},
     "output_type": "display_data"
    },
    {
     "data": {
      "text/html": [
       "<pre style=\"margin: 0.1em;\n",
       "padding-left: 0.25em;\n",
       "border-left-style: solid;\n",
       "font-family: var(--jp-code-font-family);\n",
       "font-size: var(--jp-code-font-size);\n",
       "line-height: var(--jp-code-line-height);\n",
       "\"><span style=\"color: var(--jp-warn-color2)\">LVV-T2219</span> <span style=\"color: var(--jp-info-color0)\">INFO</span>: The generated index is 871602422</pre>"
      ],
      "text/plain": [
       "<IPython.core.display.HTML object>"
      ]
     },
     "metadata": {},
     "output_type": "display_data"
    }
   ],
   "source": [
    "logger.info(f'Your UID is {os.getuid()}')\n",
    "index = os.getuid() * 10 + np.random.randint(0, 9)\n",
    "\n",
    "logger.info(f'The generated index is {index}')"
   ]
  },
  {
   "cell_type": "markdown",
   "metadata": {},
   "source": [
    "Make sure DDS Daemon is running and startup Domain"
   ]
  },
  {
   "cell_type": "code",
   "execution_count": 7,
   "metadata": {},
   "outputs": [],
   "source": [
    "domain = salobj.Domain()"
   ]
  },
  {
   "cell_type": "markdown",
   "metadata": {},
   "source": [
    "Instantiate script for logging into EFD and start script task"
   ]
  },
  {
   "cell_type": "code",
   "execution_count": 8,
   "metadata": {},
   "outputs": [
    {
     "data": {
      "text/html": [
       "<pre style=\"margin: 0.1em;\n",
       "padding-left: 0.25em;\n",
       "border-left-style: solid;\n",
       "font-family: var(--jp-code-font-family);\n",
       "font-size: var(--jp-code-font-size);\n",
       "line-height: var(--jp-code-line-height);\n",
       "\"><span style=\"color: var(--jp-warn-color2)\">Script</span> <span style=\"color: var(--jp-info-color0)\">INFO</span>: Disabling authlist-based command authorization</pre>"
      ],
      "text/plain": [
       "<IPython.core.display.HTML object>"
      ]
     },
     "metadata": {},
     "output_type": "display_data"
    },
    {
     "data": {
      "text/html": [
       "<pre style=\"margin: 0.1em;\n",
       "padding-left: 0.25em;\n",
       "border-left-style: solid;\n",
       "font-family: var(--jp-code-font-family);\n",
       "font-size: var(--jp-code-font-size);\n",
       "line-height: var(--jp-code-line-height);\n",
       "\"><span style=\"color: var(--jp-warn-color2)\">Script</span> <span style=\"color: var(--jp-info-color0)\">INFO</span>: Read historical data in 0.00 sec</pre>"
      ],
      "text/plain": [
       "<IPython.core.display.HTML object>"
      ]
     },
     "metadata": {},
     "output_type": "display_data"
    }
   ],
   "source": [
    "test_message = \"LVV-T2219 ComCam Interface to SAL\"\n",
    "script = salobj.Controller(\"Script\", index=index)\n",
    "await script.start_task"
   ]
  },
  {
   "cell_type": "markdown",
   "metadata": {},
   "source": [
    "EFD setup"
   ]
  },
  {
   "cell_type": "code",
   "execution_count": 8,
   "metadata": {},
   "outputs": [],
   "source": [
    "client = vandv.efd.create_efd_client()"
   ]
  },
  {
   "cell_type": "markdown",
   "metadata": {},
   "source": [
    "ComCam Initialization"
   ]
  },
  {
   "cell_type": "code",
   "execution_count": 9,
   "metadata": {},
   "outputs": [
    {
     "data": {
      "text/html": [
       "<pre style=\"margin: 0.1em;\n",
       "padding-left: 0.25em;\n",
       "border-left-style: solid;\n",
       "font-family: var(--jp-code-font-family);\n",
       "font-size: var(--jp-code-font-size);\n",
       "line-height: var(--jp-code-line-height);\n",
       "\"><span style=\"color: var(--jp-warn-color2)\">ComCam</span> <span style=\"color: var(--jp-success-color0)\">DEBUG</span>: cccamera: Adding all resources.</pre>"
      ],
      "text/plain": [
       "<IPython.core.display.HTML object>"
      ]
     },
     "metadata": {},
     "output_type": "display_data"
    },
    {
     "data": {
      "text/html": [
       "<pre style=\"margin: 0.1em;\n",
       "padding-left: 0.25em;\n",
       "border-left-style: solid;\n",
       "font-family: var(--jp-code-font-family);\n",
       "font-size: var(--jp-code-font-size);\n",
       "line-height: var(--jp-code-line-height);\n",
       "\"><span style=\"color: var(--jp-warn-color2)\">CCCamera</span> <span style=\"color: var(--jp-info-color0)\">INFO</span>: Disabling authlist-based command authorization</pre>"
      ],
      "text/plain": [
       "<IPython.core.display.HTML object>"
      ]
     },
     "metadata": {},
     "output_type": "display_data"
    },
    {
     "data": {
      "text/html": [
       "<pre style=\"margin: 0.1em;\n",
       "padding-left: 0.25em;\n",
       "border-left-style: solid;\n",
       "font-family: var(--jp-code-font-family);\n",
       "font-size: var(--jp-code-font-size);\n",
       "line-height: var(--jp-code-line-height);\n",
       "\"><span style=\"color: var(--jp-warn-color2)\">ComCam</span> <span style=\"color: var(--jp-success-color0)\">DEBUG</span>: ccheaderservice: Adding all resources.</pre>"
      ],
      "text/plain": [
       "<IPython.core.display.HTML object>"
      ]
     },
     "metadata": {},
     "output_type": "display_data"
    },
    {
     "data": {
      "text/html": [
       "<pre style=\"margin: 0.1em;\n",
       "padding-left: 0.25em;\n",
       "border-left-style: solid;\n",
       "font-family: var(--jp-code-font-family);\n",
       "font-size: var(--jp-code-font-size);\n",
       "line-height: var(--jp-code-line-height);\n",
       "\"><span style=\"color: var(--jp-warn-color2)\">CCHeaderService</span> <span style=\"color: var(--jp-info-color0)\">INFO</span>: Disabling authlist-based command authorization</pre>"
      ],
      "text/plain": [
       "<IPython.core.display.HTML object>"
      ]
     },
     "metadata": {},
     "output_type": "display_data"
    },
    {
     "data": {
      "text/html": [
       "<pre style=\"margin: 0.1em;\n",
       "padding-left: 0.25em;\n",
       "border-left-style: solid;\n",
       "font-family: var(--jp-code-font-family);\n",
       "font-size: var(--jp-code-font-size);\n",
       "line-height: var(--jp-code-line-height);\n",
       "\"><span style=\"color: var(--jp-warn-color2)\">ComCam</span> <span style=\"color: var(--jp-success-color0)\">DEBUG</span>: ccoods: Adding all resources.</pre>"
      ],
      "text/plain": [
       "<IPython.core.display.HTML object>"
      ]
     },
     "metadata": {},
     "output_type": "display_data"
    },
    {
     "data": {
      "text/html": [
       "<pre style=\"margin: 0.1em;\n",
       "padding-left: 0.25em;\n",
       "border-left-style: solid;\n",
       "font-family: var(--jp-code-font-family);\n",
       "font-size: var(--jp-code-font-size);\n",
       "line-height: var(--jp-code-line-height);\n",
       "\"><span style=\"color: var(--jp-warn-color2)\">CCOODS</span> <span style=\"color: var(--jp-info-color0)\">INFO</span>: Disabling authlist-based command authorization</pre>"
      ],
      "text/plain": [
       "<IPython.core.display.HTML object>"
      ]
     },
     "metadata": {},
     "output_type": "display_data"
    }
   ],
   "source": [
    "comcam = ComCam(domain=domain)\n",
    "comcam.set_rem_loglevel(40)"
   ]
  },
  {
   "cell_type": "code",
   "execution_count": 10,
   "metadata": {},
   "outputs": [
    {
     "data": {
      "text/plain": [
       "[None, None, None]"
      ]
     },
     "execution_count": 10,
     "metadata": {},
     "output_type": "execute_result"
    }
   ],
   "source": [
    "await comcam.start_task"
   ]
  },
  {
   "cell_type": "code",
   "execution_count": 17,
   "metadata": {},
   "outputs": [
    {
     "data": {
      "text/html": [
       "<pre style=\"margin: 0.1em;\n",
       "padding-left: 0.25em;\n",
       "border-left-style: solid;\n",
       "font-family: var(--jp-code-font-family);\n",
       "font-size: var(--jp-code-font-size);\n",
       "line-height: var(--jp-code-line-height);\n",
       "\"><span style=\"color: var(--jp-warn-color2)\">ComCam</span> <span style=\"color: var(--jp-info-color0)\">INFO</span>: Enabling all components</pre>"
      ],
      "text/plain": [
       "<IPython.core.display.HTML object>"
      ]
     },
     "metadata": {},
     "output_type": "display_data"
    },
    {
     "data": {
      "text/html": [
       "<pre style=\"margin: 0.1em;\n",
       "padding-left: 0.25em;\n",
       "border-left-style: solid;\n",
       "font-family: var(--jp-code-font-family);\n",
       "font-size: var(--jp-code-font-size);\n",
       "line-height: var(--jp-code-line-height);\n",
       "\"><span style=\"color: var(--jp-warn-color2)\">ComCam</span> <span style=\"color: var(--jp-success-color0)\">DEBUG</span>: Expand overrides None</pre>"
      ],
      "text/plain": [
       "<IPython.core.display.HTML object>"
      ]
     },
     "metadata": {},
     "output_type": "display_data"
    },
    {
     "data": {
      "text/html": [
       "<pre style=\"margin: 0.1em;\n",
       "padding-left: 0.25em;\n",
       "border-left-style: solid;\n",
       "font-family: var(--jp-code-font-family);\n",
       "font-size: var(--jp-code-font-size);\n",
       "line-height: var(--jp-code-line-height);\n",
       "\"><span style=\"color: var(--jp-warn-color2)\">ComCam</span> <span style=\"color: var(--jp-success-color0)\">DEBUG</span>: Complete overrides: {&#x27;cccamera&#x27;: &#x27;&#x27;, &#x27;ccheaderservice&#x27;: &#x27;&#x27;, &#x27;ccoods&#x27;: &#x27;&#x27;}</pre>"
      ],
      "text/plain": [
       "<IPython.core.display.HTML object>"
      ]
     },
     "metadata": {},
     "output_type": "display_data"
    },
    {
     "ename": "CancelledError",
     "evalue": "",
     "output_type": "error",
     "traceback": [
      "\u001b[0;31m---------------------------------------------------------------------------\u001b[0m",
      "\u001b[0;31mCancelledError\u001b[0m                            Traceback (most recent call last)",
      "Input \u001b[0;32mIn [17]\u001b[0m, in \u001b[0;36m<cell line: 1>\u001b[0;34m()\u001b[0m\n\u001b[0;32m----> 1\u001b[0m \u001b[38;5;28;01mawait\u001b[39;00m comcam\u001b[38;5;241m.\u001b[39menable()\n",
      "File \u001b[0;32m~/auto-op-env-packages/ts_observatory_control/python/lsst/ts/observatory/control/remote_group.py:836\u001b[0m, in \u001b[0;36mRemoteGroup.enable\u001b[0;34m(self, overrides)\u001b[0m\n\u001b[1;32m    832\u001b[0m \u001b[38;5;28mself\u001b[39m\u001b[38;5;241m.\u001b[39mlog\u001b[38;5;241m.\u001b[39minfo(\u001b[38;5;124m\"\u001b[39m\u001b[38;5;124mEnabling all components\u001b[39m\u001b[38;5;124m\"\u001b[39m)\n\u001b[1;32m    834\u001b[0m complete_overrides \u001b[38;5;241m=\u001b[39m \u001b[38;5;28;01mawait\u001b[39;00m \u001b[38;5;28mself\u001b[39m\u001b[38;5;241m.\u001b[39mexpand_overrides(overrides)\n\u001b[0;32m--> 836\u001b[0m \u001b[38;5;28;01mawait\u001b[39;00m \u001b[38;5;28mself\u001b[39m\u001b[38;5;241m.\u001b[39mset_state(salobj\u001b[38;5;241m.\u001b[39mState\u001b[38;5;241m.\u001b[39mENABLED, overrides\u001b[38;5;241m=\u001b[39mcomplete_overrides)\n",
      "File \u001b[0;32m~/auto-op-env-packages/ts_observatory_control/python/lsst/ts/observatory/control/remote_group.py:701\u001b[0m, in \u001b[0;36mRemoteGroup.set_state\u001b[0;34m(self, state, overrides, components)\u001b[0m\n\u001b[1;32m    697\u001b[0m     \u001b[38;5;28;01melse\u001b[39;00m:\n\u001b[1;32m    698\u001b[0m         set_ss_tasks\u001b[38;5;241m.\u001b[39mappend(\u001b[38;5;28mself\u001b[39m\u001b[38;5;241m.\u001b[39mget_state(comp, ignore_timeout\u001b[38;5;241m=\u001b[39m\u001b[38;5;28;01mTrue\u001b[39;00m))\n\u001b[1;32m    700\u001b[0m ret_val \u001b[38;5;241m=\u001b[39m (\n\u001b[0;32m--> 701\u001b[0m     \u001b[38;5;28;01mawait\u001b[39;00m asyncio\u001b[38;5;241m.\u001b[39mgather(\u001b[38;5;241m*\u001b[39mset_ss_tasks, return_exceptions\u001b[38;5;241m=\u001b[39m\u001b[38;5;28;01mTrue\u001b[39;00m)\n\u001b[1;32m    702\u001b[0m     \u001b[38;5;28;01mif\u001b[39;00m \u001b[38;5;28mself\u001b[39m\u001b[38;5;241m.\u001b[39m_concurrent_operation\n\u001b[1;32m    703\u001b[0m     \u001b[38;5;28;01melse\u001b[39;00m [\n\u001b[1;32m    704\u001b[0m         (\u001b[38;5;28;01mawait\u001b[39;00m asyncio\u001b[38;5;241m.\u001b[39mgather(task, return_exceptions\u001b[38;5;241m=\u001b[39m\u001b[38;5;28;01mTrue\u001b[39;00m))[\u001b[38;5;241m0\u001b[39m]\n\u001b[1;32m    705\u001b[0m         \u001b[38;5;28;01mfor\u001b[39;00m task \u001b[38;5;129;01min\u001b[39;00m set_ss_tasks\n\u001b[1;32m    706\u001b[0m     ]\n\u001b[1;32m    707\u001b[0m )\n\u001b[1;32m    709\u001b[0m error_flag \u001b[38;5;241m=\u001b[39m \u001b[38;5;28;01mFalse\u001b[39;00m\n\u001b[1;32m    710\u001b[0m failed_components \u001b[38;5;241m=\u001b[39m []\n",
      "\u001b[0;31mCancelledError\u001b[0m: "
     ]
    }
   ],
   "source": [
    "await comcam.enable()"
   ]
  },
  {
   "cell_type": "markdown",
   "metadata": {},
   "source": [
    "Helper functions: Event callback and telemetry check"
   ]
  },
  {
   "cell_type": "code",
   "execution_count": 12,
   "metadata": {},
   "outputs": [],
   "source": [
    "def evt_time_callback(evt):\n",
    "    \"\"\"Print event and time when callback event is received.\"\"\"\n",
    "    evt_time = Time(evt.private_sndStamp, format=\"unix\", scale=\"tai\")\n",
    "    evt_time.format = \"iso\"\n",
    "    evt_name = str(evt.__class__).split('_')[2]\n",
    "    print(f'\\n {evt_name} logevent at {evt_time} is \\n \\t{evt}')"
   ]
  },
  {
   "cell_type": "code",
   "execution_count": 13,
   "metadata": {},
   "outputs": [],
   "source": [
    "async def check_telemetry(topic):\n",
    "    \"\"\" Prints the last EFD published telemetry/event \"\"\"\n",
    "    tel = await client.select_top_n(topic,'*',num=1)\n",
    "    tel_time = Time(tel.private_efdStamp, format=\"unix\", scale=\"utc\")\n",
    "    tel_time.format = \"iso\"\n",
    "    print(f'Last {topic} telemetry at {tel_time[0]} UTC (time now {Time.now()}) was \\n\\n {tel}')"
   ]
  },
  {
   "cell_type": "markdown",
   "metadata": {},
   "source": [
    "Publish in the EFD that test is starting"
   ]
  },
  {
   "cell_type": "code",
   "execution_count": 14,
   "metadata": {},
   "outputs": [
    {
     "data": {
      "text/html": [
       "<pre style=\"margin: 0.1em;\n",
       "padding-left: 0.25em;\n",
       "border-left-style: solid;\n",
       "font-family: var(--jp-code-font-family);\n",
       "font-size: var(--jp-code-font-size);\n",
       "line-height: var(--jp-code-line-height);\n",
       "\"><span style=\"color: var(--jp-warn-color2)\">Script</span> <span style=\"color: var(--jp-info-color0)\">INFO</span>: START- LVV-T2219 ComCam Interface to SAL -- at 2022-08-10 17:02:56.379713</pre>"
      ],
      "text/plain": [
       "<IPython.core.display.HTML object>"
      ]
     },
     "metadata": {},
     "output_type": "display_data"
    }
   ],
   "source": [
    "script.log.info(f'START- {test_message} -- at {Time(datetime.now())}')"
   ]
  },
  {
   "cell_type": "markdown",
   "metadata": {},
   "source": [
    "# Start Up"
   ]
  },
  {
   "cell_type": "markdown",
   "metadata": {},
   "source": [
    "--- \n",
    "## 1: ComCam Startup Procedure\n",
    "LVV-T2239 (1.0) ComCam Startup Procedure"
   ]
  },
  {
   "cell_type": "markdown",
   "metadata": {},
   "source": [
    "---\n",
    "## 2: Available Filters \n",
    "Verify the CCCamera_logevent_availableFilters event is published to the EFD. \n",
    "Note: During the successful start up of the system, this event will be published automatically."
   ]
  },
  {
   "cell_type": "code",
   "execution_count": 109,
   "metadata": {},
   "outputs": [
    {
     "data": {
      "text/html": [
       "<pre style=\"margin: 0.1em;\n",
       "padding-left: 0.25em;\n",
       "border-left-style: solid;\n",
       "font-family: var(--jp-code-font-family);\n",
       "font-size: var(--jp-code-font-size);\n",
       "line-height: var(--jp-code-line-height);\n",
       "\"><span style=\"color: var(--jp-warn-color2)\">root</span> <span style=\"color: var(--jp-info-color0)\">INFO</span>: Available filters at 2022-08-10 17:06:09.190 are i_06:r_03:g_07</pre>"
      ],
      "text/plain": [
       "<IPython.core.display.HTML object>"
      ]
     },
     "metadata": {},
     "output_type": "display_data"
    }
   ],
   "source": [
    "available_filters= comcam.rem.cccamera.evt_availableFilters.get()\n",
    "time_available_filters=  Time(available_filters.private_sndStamp, format=\"unix\", scale=\"tai\")\n",
    "time_available_filters.format = \"iso\"\n",
    "logger.info(f'Available filters at {time_available_filters} are {available_filters.filterNames}')"
   ]
  },
  {
   "cell_type": "markdown",
   "metadata": {},
   "source": [
    "---\n",
    "## 3: CCS Command State \n",
    "Initially verify the CCCamera_logevent_ccsCommandState event is publishing to the EFD. \n",
    "\n",
    "As there are no commands at the moment, the CCCamera_logevent_ccsCommandState event publishes IDLE."
   ]
  },
  {
   "cell_type": "code",
   "execution_count": 19,
   "metadata": {},
   "outputs": [
    {
     "data": {
      "text/html": [
       "<pre style=\"margin: 0.1em;\n",
       "padding-left: 0.25em;\n",
       "border-left-style: solid;\n",
       "font-family: var(--jp-code-font-family);\n",
       "font-size: var(--jp-code-font-size);\n",
       "line-height: var(--jp-code-line-height);\n",
       "\"><span style=\"color: var(--jp-warn-color2)\">root</span> <span style=\"color: var(--jp-info-color0)\">INFO</span>: Current Command State Substate at 2022-08-10 17:06:09.236 is \n",
       " private_revCode: d8de8c36, private_sndStamp: 1660151132.236088, private_rcvStamp: 1660151132.23642, private_seqNum: 44, private_identity: CCCamera, private_origin: 89351361, substate: 1, timestampTransition: 0.0</pre>"
      ],
      "text/plain": [
       "<IPython.core.display.HTML object>"
      ]
     },
     "metadata": {},
     "output_type": "display_data"
    }
   ],
   "source": [
    "command_state= comcam.rem.cccamera.evt_ccsCommandState.get()\n",
    "time_command_state = Time(command_state.private_sndStamp, format=\"unix\", scale=\"tai\")\n",
    "time_command_state.format = \"iso\"\n",
    "logger.info(f'Current Command State Substate at {time_command_state} is \\n {command_state}')"
   ]
  },
  {
   "cell_type": "markdown",
   "metadata": {},
   "source": [
    "---\n",
    "## 4: Enable Calibration \n",
    "While the ccsCommandState is in IDLE, send a CCCamera_command_enableCalibration command.\n",
    "\n",
    "Note: By default, the CalibrationDetailedState should be in DISABLED. If the CalibrationDetailedState is already in ENABLED, this command will not be accepted.\n",
    "\n",
    "    Results:\n",
    "    The CCCamera_logevent_ccsCommandState event publishes BUSY\n",
    "    The CCCamera_logevent_calibrationDetailedState publishes ENABLED.\n",
    "    The CCCamera_logevent_ccsConfigured event is published to the EFD noting the time at which the state transition occurred. \n",
    "    ** This CCCamera_logevent_ccsConfigured event does not exist, instead comcam.rem.cccamera.logevent_configurationApplied"
   ]
  },
  {
   "cell_type": "code",
   "execution_count": 20,
   "metadata": {},
   "outputs": [],
   "source": [
    "comcam.rem.cccamera.evt_calibrationDetailedState.callback = evt_time_callback\n",
    "comcam.rem.cccamera.evt_ccsCommandState.callback = evt_time_callback   "
   ]
  },
  {
   "cell_type": "code",
   "execution_count": 21,
   "metadata": {},
   "outputs": [
    {
     "name": "stdout",
     "output_type": "stream",
     "text": [
      "\n",
      " ccsCommandState logevent at 2022-08-10 17:07:47.382 is \n",
      " \tprivate_revCode: d8de8c36, private_sndStamp: 1660151230.38182, private_rcvStamp: 1660151230.3822813, private_seqNum: 45, private_identity: CCCamera, private_origin: 89351361, substate: 2, timestampTransition: 0.0\n",
      "\n",
      " calibrationDetailedState logevent at 2022-08-10 17:07:47.383 is \n",
      " \tprivate_revCode: a610ea82, private_sndStamp: 1660151230.3830585, private_rcvStamp: 1660151230.3833776, private_seqNum: 3, private_identity: CCCamera, private_origin: 89351361, substate: 2, timestampTransition: 0.0\n",
      "\n",
      " ccsCommandState logevent at 2022-08-10 17:07:47.384 is \n",
      " \tprivate_revCode: d8de8c36, private_sndStamp: 1660151230.3839157, private_rcvStamp: 1660151230.3842075, private_seqNum: 46, private_identity: CCCamera, private_origin: 89351361, substate: 1, timestampTransition: 0.0\n"
     ]
    },
    {
     "data": {
      "text/plain": [
       "<ddsutil.CCCamera_ackcmd_ff5ef83c at 0x7f849cb94be0>"
      ]
     },
     "execution_count": 21,
     "metadata": {},
     "output_type": "execute_result"
    }
   ],
   "source": [
    "# Enable Calibration\n",
    "await comcam.rem.cccamera.cmd_enableCalibration.set_start()"
   ]
  },
  {
   "cell_type": "code",
   "execution_count": 22,
   "metadata": {},
   "outputs": [
    {
     "data": {
      "text/html": [
       "<pre style=\"margin: 0.1em;\n",
       "padding-left: 0.25em;\n",
       "border-left-style: solid;\n",
       "font-family: var(--jp-code-font-family);\n",
       "font-size: var(--jp-code-font-size);\n",
       "line-height: var(--jp-code-line-height);\n",
       "\"><span style=\"color: var(--jp-warn-color2)\">root</span> <span style=\"color: var(--jp-info-color0)\">INFO</span>: Current configuration Applied at 2022-08-10 17:06:09.224 is \n",
       " private_revCode: d6c3623d, private_sndStamp: 1660151132.2238126, private_rcvStamp: 1660151132.2241714, private_seqNum: 3, private_identity: CCCamera, private_origin: 89351361, configurations: Normal, version: 1, url: https://lsst-camera-dev.slac.stanford.edu/RestFileServer/config/, schemaVersion: UNKNOWN, otherInfo: vacuum_Rtds_DevicesConfiguration,focal_plane_ImageNameService_GeneralConfiguration,bonn_shutter_PeriodicTasks_timersConfiguration,focal_plane_Reb_LimitsConfiguration,quadbox_BFR_DevicesConfiguration,focal_plane_Ccd_LimitsConfiguration,vacuum_Cold2_CryoconConfiguration,vacuum_PeriodicTasks_timersConfiguration,image_handling_ImageHandler_FitsHandlingConfiguration,bonn_shutter_Device_GeneralConfiguration,bonn_shutter_GeneralConfiguration,rebpower_Rebps_GeneralConfiguration,vacuum_Cold1_DevicesConfiguration,focal_plane_Reb_HardwareIdConfiguration,vacuum_Rtds_LimitsConfiguration,vacuum_VacuumConfiguration,quadbox_PDU_48V_DevicesConfiguration,mpm_Pluto_DevicesConfiguration,mpm_PeriodicTasks_timersConfiguration,quadbox_PDU_24VD_QuadboxConfiguration,rebpower_Rebps_buildConfiguration,focal_plane_Segment_LimitsConfiguration,vacuum_Rtds_DeviceConfiguration,fcs_StepperMotor_MotorConfiguration,quadbox_PDU_5V_DevicesConfiguration,vacuum_VQMonitor_DevicesConfiguration,focal_plane_Ccd_HardwareIdConfiguration,rebpower_PeriodicTasks_timersConfiguration,rebpower_Reb_LimitsConfiguration,vacuum_Turbo_DevicesConfiguration,bonn_shutter_Device_DevicesConfiguration,rebpower_Rebps_DevicesConfiguration,bonn_shutter_PeriodicTasks_GeneralConfiguration,rebpower_GeneralConfiguration,focal_plane_Reb_RaftsLimitsConfiguration,fcs_StepperMotor_LimitsConfiguration,focal_plane_Raft_HardwareIdConfiguration,quadbox_REB_Bulk_PS_DevicesConfiguration,focal_plane_InstrumentConfig_InstrumentConfiguration,focal_plane_Reb_RaftsPowerConfiguration,vacuum_IonPumps_LimitsConfiguration,daq_monitor_StoreConfiguration,focal_plane_Raft_RaftTempControlStatusConfiguration,focal_plane_Raft_RaftTempControlConfiguration,image_handling_Reb_FitsHandlingConfiguration,quadbox_PDU_48V_LimitsConfiguration,quadbox_PDU_24VD_LimitsConfiguration,daq_monitor_Store_StoreConfiguration,fcs_StepperMotor_DevicesConfiguration,fcs_LinearEncoder_DevicesConfiguration,focal_plane_WebHooksConfig_VisualizationConfiguration,focal_plane_SequencerConfig_DAQConfiguration,rebpower_EmergencyResponseManager_GeneralConfiguration,rebpower_Reb_GeneralConfiguration,quadbox_BFR_LimitsConfiguration,vacuum_Turbo_LimitsConfiguration,vacuum_VQMonitor_CryoConfiguration,daq_monitor_Store_LimitsConfiguration,vacuum_Cryo_CryoconConfiguration,quadbox_REB_Bulk_PS_QuadboxConfiguration,vacuum_Turbo_GeneralConfiguration,daq_monitor_Store_DevicesConfiguration,focal_plane_PeriodicTasks_GeneralConfiguration,fcs_GeneralConfiguration,daq_monitor_PeriodicTasks_timersConfiguration,focal_plane_Ccd_RaftsConfiguration,image_handling_ImageHandler_CommandsConfiguration,quadbox_PDU_48V_QuadboxConfiguration,quadbox_PDU_5V_LimitsConfiguration,bonn_shutter_Device_LimitsConfiguration,quadbox_PeriodicTasks_GeneralConfiguration,daq_monitor_Stats_StatisticsConfiguration,quadbox_BFR_QuadboxConfiguration,focal_plane_SequencerConfig_SequencerConfiguration,image_handling_PeriodicTasks_GeneralConfiguration,rebpower_Rebps_PowerConfiguration,focal_plane_PeriodicTasks_timersConfiguration,focal_plane_Reb_timersConfiguration,rebpower_Rebps_LimitsConfiguration,vacuum_VacPluto_DeviceConfiguration,vacuum_Cryo_DevicesConfiguration,quadbox_PDU_24VD_DevicesConfiguration,quadbox_PDU_5V_QuadboxConfiguration,quadbox_PeriodicTasks_timersConfiguration,focal_plane_ImageDatabaseService_GeneralConfiguration,vacuum_Cold1_LimitsConfiguration,vacuum_Cold2_LimitsConfiguration,fcs_PeriodicTasks_GeneralConfiguration,image_handling_Reb_GeneralConfiguration,vacuum_Cold2_DevicesConfiguration,fcs_LinearEncoder_GeneralConfiguration,vacuum_IonPumps_CryoConfiguration,mpm_PeriodicTasks_GeneralConfiguration,vacuum_PeriodicTasks_GeneralConfiguration,focal_plane_Reb_DevicesConfiguration,fcs_StepperMotor_GeneralConfiguration,vacuum_VQMonitor_LimitsConfiguration,quadbox_PDU_24VC_LimitsConfiguration,vacuum_Cold1_CryoconConfiguration,focal_plane_RebTotalPower_LimitsConfiguration,quadbox_PDU_24VC_QuadboxConfiguration,daq_monitor_PeriodicTasks_GeneralConfiguration,mpm_Pluto_DeviceConfiguration,fcs_PeriodicTasks_timersConfiguration,vacuum_IonPumps_DevicesConfiguration,fcs_LinearEncoder_LimitsConfiguration,vacuum_VacPluto_DevicesConfiguration,focal_plane_Reb_RaftsConfiguration,image_handling_ImageHandler_DAQConfiguration,image_handling_PeriodicTasks_timersConfiguration,quadbox_PDU_24VC_DevicesConfiguration,vacuum_Cryo_LimitsConfiguration,rebpower_PeriodicTasks_GeneralConfiguration</pre>"
      ],
      "text/plain": [
       "<IPython.core.display.HTML object>"
      ]
     },
     "metadata": {},
     "output_type": "display_data"
    }
   ],
   "source": [
    "configuration_applied = comcam.rem.cccamera.evt_configurationApplied.get()\n",
    "time_configuration_applied = Time(configuration_applied.private_sndStamp, format=\"unix\", scale=\"tai\")\n",
    "time_configuration_applied.format = \"iso\"\n",
    "logger.info(f'Current configuration Applied at {time_configuration_applied} is \\n {configuration_applied}')"
   ]
  },
  {
   "cell_type": "code",
   "execution_count": 23,
   "metadata": {},
   "outputs": [],
   "source": [
    "comcam.rem.cccamera.evt_calibrationDetailedState.callback = None\n",
    "comcam.rem.cccamera.evt_ccsCommandState.callback = None   "
   ]
  },
  {
   "cell_type": "markdown",
   "metadata": {},
   "source": [
    "---\n",
    "## 5: Clear Command\n",
    "While the CalibrationDetailedState is in ENABLED,, send a CCCamera_command_clear command.\n",
    "\n",
    "    Deviation: The CCCamera_command_clear no longer operational as part of the latest XML release (v12.0.0).\n",
    "    The detector is automatically cleared every time exposure is taken. Therefore, no separate clearing is needed and the   CCCamera_logevent_RaftsDetailedState is not expected to be published as a result of this command. This step was left in order to verify that the CCCamera_command_clear will not do anything. The CLEARING state will show up after an exposure is taken (See the Image Test below).\n",
    "\n",
    "\n",
    "    Results:\n",
    "    The command is accepted but publishes no events    "
   ]
  },
  {
   "cell_type": "code",
   "execution_count": 24,
   "metadata": {},
   "outputs": [
    {
     "ename": "AckError",
     "evalue": "msg='Command failed', ackcmd=(ackcmd private_seqNum=47224006, ack=<SalRetCode.CMD_FAILED: -302>, error=0, result='Error : Timeout waiting for state: QUIESCENT')",
     "output_type": "error",
     "traceback": [
      "\u001b[0;31m---------------------------------------------------------------------------\u001b[0m",
      "\u001b[0;31mAckError\u001b[0m                                  Traceback (most recent call last)",
      "Input \u001b[0;32mIn [24]\u001b[0m, in \u001b[0;36m<cell line: 1>\u001b[0;34m()\u001b[0m\n\u001b[0;32m----> 1\u001b[0m cmd \u001b[38;5;241m=\u001b[39m \u001b[38;5;28;01mawait\u001b[39;00m comcam\u001b[38;5;241m.\u001b[39mrem\u001b[38;5;241m.\u001b[39mcccamera\u001b[38;5;241m.\u001b[39mcmd_clear\u001b[38;5;241m.\u001b[39mset_start(nClears\u001b[38;5;241m=\u001b[39m\u001b[38;5;241m2\u001b[39m)\n\u001b[1;32m      2\u001b[0m logger\u001b[38;5;241m.\u001b[39minfo(cmd)\n",
      "File \u001b[0;32m/opt/lsst/software/stack/conda/miniconda3-py38_4.9.2/envs/lsst-scipipe-4.0.1/lib/python3.10/site-packages/lsst/ts/salobj/topics/remote_command.py:418\u001b[0m, in \u001b[0;36mRemoteCommand.set_start\u001b[0;34m(self, timeout, wait_done, **kwargs)\u001b[0m\n\u001b[1;32m    377\u001b[0m \u001b[38;5;124;03m\"\"\"Create a new ``self.data``, set zero or more fields,\u001b[39;00m\n\u001b[1;32m    378\u001b[0m \u001b[38;5;124;03mand start the command.\u001b[39;00m\n\u001b[1;32m    379\u001b[0m \n\u001b[0;32m   (...)\u001b[0m\n\u001b[1;32m    415\u001b[0m \u001b[38;5;124;03m    If ``data`` is not None and not an instance of `DataType`.\u001b[39;00m\n\u001b[1;32m    416\u001b[0m \u001b[38;5;124;03m\"\"\"\u001b[39;00m\n\u001b[1;32m    417\u001b[0m \u001b[38;5;28mself\u001b[39m\u001b[38;5;241m.\u001b[39mset(\u001b[38;5;241m*\u001b[39m\u001b[38;5;241m*\u001b[39mkwargs)\n\u001b[0;32m--> 418\u001b[0m \u001b[38;5;28;01mreturn\u001b[39;00m \u001b[38;5;28;01mawait\u001b[39;00m \u001b[38;5;28mself\u001b[39m\u001b[38;5;241m.\u001b[39mstart(timeout\u001b[38;5;241m=\u001b[39mtimeout, wait_done\u001b[38;5;241m=\u001b[39mwait_done)\n",
      "File \u001b[0;32m/opt/lsst/software/stack/conda/miniconda3-py38_4.9.2/envs/lsst-scipipe-4.0.1/lib/python3.10/site-packages/lsst/ts/salobj/topics/remote_command.py:485\u001b[0m, in \u001b[0;36mRemoteCommand.start\u001b[0;34m(self, data, timeout, wait_done)\u001b[0m\n\u001b[1;32m    481\u001b[0m cmd_info \u001b[38;5;241m=\u001b[39m CommandInfo(\n\u001b[1;32m    482\u001b[0m     remote_command\u001b[38;5;241m=\u001b[39m\u001b[38;5;28mself\u001b[39m, seq_num\u001b[38;5;241m=\u001b[39mseq_num, wait_done\u001b[38;5;241m=\u001b[39mwait_done\n\u001b[1;32m    483\u001b[0m )\n\u001b[1;32m    484\u001b[0m \u001b[38;5;28mself\u001b[39m\u001b[38;5;241m.\u001b[39msalinfo\u001b[38;5;241m.\u001b[39m_running_cmds[seq_num] \u001b[38;5;241m=\u001b[39m cmd_info\n\u001b[0;32m--> 485\u001b[0m \u001b[38;5;28;01mreturn\u001b[39;00m \u001b[38;5;28;01mawait\u001b[39;00m cmd_info\u001b[38;5;241m.\u001b[39mnext_ackcmd(timeout\u001b[38;5;241m=\u001b[39mtimeout)\n",
      "File \u001b[0;32m/opt/lsst/software/stack/conda/miniconda3-py38_4.9.2/envs/lsst-scipipe-4.0.1/lib/python3.10/site-packages/lsst/ts/salobj/topics/remote_command.py:195\u001b[0m, in \u001b[0;36mCommandInfo.next_ackcmd\u001b[0;34m(self, timeout)\u001b[0m\n\u001b[1;32m    193\u001b[0m     ackcmd \u001b[38;5;241m=\u001b[39m \u001b[38;5;28;01mawait\u001b[39;00m \u001b[38;5;28mself\u001b[39m\u001b[38;5;241m.\u001b[39m_wait_task\n\u001b[1;32m    194\u001b[0m     \u001b[38;5;28;01mif\u001b[39;00m ackcmd\u001b[38;5;241m.\u001b[39mack \u001b[38;5;129;01min\u001b[39;00m \u001b[38;5;28mself\u001b[39m\u001b[38;5;241m.\u001b[39mfailed_ack_codes:\n\u001b[0;32m--> 195\u001b[0m         \u001b[38;5;28;01mraise\u001b[39;00m base\u001b[38;5;241m.\u001b[39mAckError(msg\u001b[38;5;241m=\u001b[39m\u001b[38;5;124m\"\u001b[39m\u001b[38;5;124mCommand failed\u001b[39m\u001b[38;5;124m\"\u001b[39m, ackcmd\u001b[38;5;241m=\u001b[39mackcmd)\n\u001b[1;32m    196\u001b[0m     \u001b[38;5;28;01mreturn\u001b[39;00m ackcmd\n\u001b[1;32m    197\u001b[0m \u001b[38;5;28;01mexcept\u001b[39;00m asyncio\u001b[38;5;241m.\u001b[39mTimeoutError:\n",
      "\u001b[0;31mAckError\u001b[0m: msg='Command failed', ackcmd=(ackcmd private_seqNum=47224006, ack=<SalRetCode.CMD_FAILED: -302>, error=0, result='Error : Timeout waiting for state: QUIESCENT')"
     ]
    }
   ],
   "source": [
    "cmd = await comcam.rem.cccamera.cmd_clear.set_start(nClears=2)\n",
    "logger.info(cmd)"
   ]
  },
  {
   "cell_type": "markdown",
   "metadata": {},
   "source": [
    "---\n",
    "## 6: Focal Plane Summary Info\n",
    "Verify the CCCamera_logevent_focalPlaneSummaryInfo event is published to the EFD."
   ]
  },
  {
   "cell_type": "code",
   "execution_count": 25,
   "metadata": {},
   "outputs": [
    {
     "data": {
      "text/html": [
       "<pre style=\"margin: 0.1em;\n",
       "padding-left: 0.25em;\n",
       "border-left-style: solid;\n",
       "font-family: var(--jp-code-font-family);\n",
       "font-size: var(--jp-code-font-size);\n",
       "line-height: var(--jp-code-line-height);\n",
       "\"><span style=\"color: var(--jp-warn-color2)\">root</span> <span style=\"color: var(--jp-info-color0)\">INFO</span>: Focal plane summary at 2022-08-10 17:06:09.219 is \n",
       " private_revCode: ba53a45d, private_sndStamp: 1660151132.218613, private_rcvStamp: 1660151132.2190065, private_seqNum: 7, private_identity: CCCamera, private_origin: 89351361, ccdLocation: R22S00:R22S01:R22S02:R22S10:R22S11:R22S12:R22S20:R22S21:R22S22, raftBay: R22:R22:R22:R22:R22:R22:R22:R22:R22, ccdSlot: S00:S01:S02:S10:S11:S12:S20:S21:S22, rebSerialNumber: -1:-1:-1:-1:-1:-1:-1:-1:-1, rebLSSTName: LCA-13574-061:LCA-13574-061:LCA-13574-061:LCA-13574-093:LCA-13574-093:LCA-13574-093:LCA-13574-094:LCA-13574-094:LCA-13574-094, ccdLSSTName: ITL-3800C-229:ITL-3800C-251:ITL-3800C-215:ITL-3800C-326:ITL-3800C-283:ITL-3800C-243:ITL-3800C-319:ITL-3800C-209:ITL-3800C-206, raftLSSTName: LCA-11021_RTM-031:LCA-11021_RTM-031:LCA-11021_RTM-031:LCA-11021_RTM-031:LCA-11021_RTM-031:LCA-11021_RTM-031:LCA-11021_RTM-031:LCA-11021_RTM-031:LCA-11021_RTM-031, ccdManSerNum: 23166:23140:22619:23858:22621:22917:24780:23169:22689, ccdManufacturer: ITL:ITL:ITL:ITL:ITL:ITL:ITL:ITL:ITL, ccdType: [2, 2, 2, 2, 2, 2, 2, 2, 2], ccdTempSetPoint: [-100.0, -100.0, -100.0, -100.0, -100.0, -100.0, -100.0, -100.0, -100.0], sequencerKey: FP_ITL_2s_ir2_v26.seq:FP_ITL_2s_ir2_v26.seq:FP_ITL_2s_ir2_v26.seq:FP_ITL_2s_ir2_v26.seq:FP_ITL_2s_ir2_v26.seq:FP_ITL_2s_ir2_v26.seq:FP_ITL_2s_ir2_v26.seq:FP_ITL_2s_ir2_v26.seq:FP_ITL_2s_ir2_v26.seq, sequencerChecksum: 980618532:980618532:980618532:980618532:980618532:980618532:980618532:980618532:980618532</pre>"
      ],
      "text/plain": [
       "<IPython.core.display.HTML object>"
      ]
     },
     "metadata": {},
     "output_type": "display_data"
    }
   ],
   "source": [
    "focal_plane_summary = await comcam.rem.cccamera.evt_focalPlaneSummaryInfo.aget()\n",
    "time_focal_plane_summary = Time(focal_plane_summary.private_sndStamp, format=\"unix\", scale=\"tai\")\n",
    "time_focal_plane_summary.format = \"iso\"\n",
    "logger.info(f'Focal plane summary at {time_focal_plane_summary}' \n",
    "            f' is \\n {focal_plane_summary}')"
   ]
  },
  {
   "cell_type": "markdown",
   "metadata": {},
   "source": [
    "# Image Test"
   ]
  },
  {
   "cell_type": "markdown",
   "metadata": {},
   "source": [
    "---\n",
    "## 7: Start Image\n",
    "While the CalibrationDetailedState is in ENABLED, send a CCCamera_command_startImage command with the following parameters:\n",
    "\n",
    "                            shutter: True\n",
    "                            sensors\n",
    "                            keyValueMap:\n",
    "                                config/requiredKeywords = [groupId, imageType]\n",
    "                            obsNote: Any arbitrary string\n",
    "                            timeout: 30s\n",
    "    \n",
    "    Results:  \n",
    "    The CCCamera_logevent_calibrationDetailedState event publishes INTEGRATING\n",
    "    The CCCamera_logevent_shutterDetailedState event publishes to the EFD updating froom CLOSED to OPEN\n",
    "    A CCCamera_logevent_endShutterOpen event is published at the time the shutter opens\n",
    "    A CCCamera_logevent_startReadout event is published\n",
    "    The CCCamera_logevent_RaftsDetailedState event published to the EFD shows it is in the CLEARING state.\n",
    "    \n",
    "Beware: The next two steps (discardRows and endImage) need to be run while the camera is INTEGRATING (30 s timeout)"
   ]
  },
  {
   "cell_type": "code",
   "execution_count": 26,
   "metadata": {},
   "outputs": [],
   "source": [
    "comcam.rem.cccamera.evt_calibrationDetailedState.callback = evt_time_callback\n",
    "comcam.rem.cccamera.evt_shutterDetailedState.callback = evt_time_callback\n",
    "comcam.rem.cccamera.evt_endShutterOpen.callback = evt_time_callback\n",
    "comcam.rem.cccamera.evt_startReadout.callback = evt_time_callback\n",
    "comcam.rem.cccamera.evt_raftsDetailedState.callback = evt_time_callback"
   ]
  },
  {
   "cell_type": "code",
   "execution_count": 27,
   "metadata": {},
   "outputs": [],
   "source": [
    "keyValueMap = f'groupId:{Time.now().isot},imageType:ENGTEST'"
   ]
  },
  {
   "cell_type": "code",
   "execution_count": 28,
   "metadata": {},
   "outputs": [
    {
     "data": {
      "text/plain": [
       "True"
      ]
     },
     "execution_count": 28,
     "metadata": {},
     "output_type": "execute_result"
    }
   ],
   "source": [
    "# Set parameters\n",
    "comcam.rem.cccamera.cmd_startImage.set(shutter=True, keyValueMap=keyValueMap, timeout=30, obsNote='Test')"
   ]
  },
  {
   "cell_type": "code",
   "execution_count": 29,
   "metadata": {},
   "outputs": [
    {
     "name": "stdout",
     "output_type": "stream",
     "text": [
      "\n",
      " raftsDetailedState logevent at 2022-08-10 17:08:43.311 is \n",
      " \tprivate_revCode: d324a9d8, private_sndStamp: 1660151286.3110867, private_rcvStamp: 1660151286.3114235, private_seqNum: 10, private_identity: CCCamera, private_origin: 89351361, substate: 2, timestampTransition: 0.0\n",
      "\n",
      " raftsDetailedState logevent at 2022-08-10 17:08:43.413 is \n",
      " \tprivate_revCode: d324a9d8, private_sndStamp: 1660151286.4132493, private_rcvStamp: 1660151286.413685, private_seqNum: 11, private_identity: CCCamera, private_origin: 89351361, substate: 3, timestampTransition: 0.0\n"
     ]
    },
    {
     "data": {
      "text/plain": [
       "<ddsutil.CCCamera_ackcmd_ff5ef83c at 0x7f849cb5f850>"
      ]
     },
     "execution_count": 29,
     "metadata": {},
     "output_type": "execute_result"
    },
    {
     "name": "stdout",
     "output_type": "stream",
     "text": [
      "\n",
      " shutterDetailedState logevent at 2022-08-10 17:08:43.417 is \n",
      " \tprivate_revCode: 0ebe7cbe, private_sndStamp: 1660151286.4165206, private_rcvStamp: 1660151286.4168515, private_seqNum: 4, private_identity: CCCamera, private_origin: 89351361, substate: 4, timestampTransition: 0.0\n",
      "\n",
      " calibrationDetailedState logevent at 2022-08-10 17:08:43.417 is \n",
      " \tprivate_revCode: a610ea82, private_sndStamp: 1660151286.4171152, private_rcvStamp: 1660151286.4174254, private_seqNum: 4, private_identity: CCCamera, private_origin: 89351361, substate: 3, timestampTransition: 0.0\n",
      "\n",
      " shutterDetailedState logevent at 2022-08-10 17:08:44.395 is \n",
      " \tprivate_revCode: 0ebe7cbe, private_sndStamp: 1660151287.3954487, private_rcvStamp: 1660151287.3956983, private_seqNum: 5, private_identity: CCCamera, private_origin: 89351361, substate: 2, timestampTransition: 0.0\n",
      "\n",
      " endShutterOpen logevent at 2022-08-10 17:08:44.395 is \n",
      " \tprivate_revCode: dc9d3865, private_sndStamp: 1660151287.395229, private_rcvStamp: 1660151287.3956435, private_seqNum: 1, private_identity: CCCamera, private_origin: 89351361, timestampTransition: 1660151287.3936396\n"
     ]
    }
   ],
   "source": [
    "# Start image\n",
    "await comcam.rem.cccamera.cmd_startImage.start()"
   ]
  },
  {
   "cell_type": "markdown",
   "metadata": {},
   "source": [
    "----\n",
    "## 8: Discard Rows \n",
    "While the CalibrationDetailedState is in INTEGRATING, send a CCCamera_command_discardRows command of 2 rows."
   ]
  },
  {
   "cell_type": "code",
   "execution_count": 30,
   "metadata": {},
   "outputs": [
    {
     "data": {
      "text/html": [
       "<pre style=\"margin: 0.1em;\n",
       "padding-left: 0.25em;\n",
       "border-left-style: solid;\n",
       "font-family: var(--jp-code-font-family);\n",
       "font-size: var(--jp-code-font-size);\n",
       "line-height: var(--jp-code-line-height);\n",
       "\"><span style=\"color: var(--jp-warn-color2)\">root</span> <span style=\"color: var(--jp-info-color0)\">INFO</span>: private_revCode: ff5ef83c, private_sndStamp: 1660151295.9060528, private_rcvStamp: 1660151295.9063542, private_seqNum: 381091692, private_identity: CCCamera, private_origin: 89351361, ack: 303, error: 0, result: Done : OK, identity: isotuela@nb-isotuela, origin: 30766, cmdtype: 0, timeout: 0.0</pre>"
      ],
      "text/plain": [
       "<IPython.core.display.HTML object>"
      ]
     },
     "metadata": {},
     "output_type": "display_data"
    }
   ],
   "source": [
    "cmd = await comcam.rem.cccamera.cmd_discardRows.set_start(2)\n",
    "logger.info(cmd)"
   ]
  },
  {
   "cell_type": "markdown",
   "metadata": {},
   "source": [
    "--- \n",
    "## 9: End Image \n",
    "Before the specified timeout, send a CCCamera_command_endImage command.\n",
    "\n",
    "Note: If the CCCamera_command_endImage command isn't sent before the specified timeout parameter of the previous command, the shutter will close and the command will not be accepted.\n",
    "\n",
    "    Results:\n",
    "    The shutters close \n",
    "    A CCCamera_logevent_imageReadoutParameters event is published\n",
    "    The CCCamera_logevent_shutterDetailedState event publishes to the EFD updating froom OPEN to CLOSED\n",
    "    A CCCamera_logevent_endShutterClose event is published at the time the shutter close\n",
    "    A CCCamera_logevent_endReadout event is published"
   ]
  },
  {
   "cell_type": "code",
   "execution_count": 31,
   "metadata": {},
   "outputs": [],
   "source": [
    "comcam.rem.cccamera.evt_imageReadoutParameters.callback = evt_time_callback\n",
    "comcam.rem.cccamera.evt_shutterDetailedState.callback = evt_time_callback\n",
    "comcam.rem.cccamera.evt_endShutterClose.callback = evt_time_callback\n",
    "comcam.rem.cccamera.evt_endReadout.callback = evt_time_callback"
   ]
  },
  {
   "cell_type": "code",
   "execution_count": 32,
   "metadata": {},
   "outputs": [
    {
     "name": "stdout",
     "output_type": "stream",
     "text": [
      "\n",
      " shutterDetailedState logevent at 2022-08-10 17:08:57.314 is \n",
      " \tprivate_revCode: 0ebe7cbe, private_sndStamp: 1660151300.3139791, private_rcvStamp: 1660151300.3141387, private_seqNum: 6, private_identity: CCCamera, private_origin: 89351361, substate: 3, timestampTransition: 0.0\n",
      "\n",
      " endShutterClose logevent at 2022-08-10 17:08:58.294 is \n",
      " \tprivate_revCode: 1a6c8bc0, private_sndStamp: 1660151301.294318, private_rcvStamp: 1660151301.2946799, private_seqNum: 1, private_identity: CCCamera, private_origin: 89351361, timestampTransition: 1660151301.2926753\n",
      "\n",
      " shutterDetailedState logevent at 2022-08-10 17:08:58.296 is \n",
      " \tprivate_revCode: 0ebe7cbe, private_sndStamp: 1660151301.2962174, private_rcvStamp: 1660151301.2966664, private_seqNum: 7, private_identity: CCCamera, private_origin: 89351361, substate: 1, timestampTransition: 0.0\n",
      "\n",
      " startReadout logevent at 2022-08-10 17:08:59.403 is \n",
      " \tprivate_revCode: 0bfffb9a, private_sndStamp: 1660151302.4029078, private_rcvStamp: 1660151302.403161, private_seqNum: 2, private_identity: CCCamera, private_origin: 89351361, additionalKeys: groupId:imageType, additionalValues: 2022-08-10T17\\:07\\:25.258:ENGTEST, imagesInSequence: 1, imageName: CC_O_20220810_000001, imageIndex: 2, imageSource: CC, imageController: O, imageDate: 20220810, imageNumber: 1, timestampAcquisitionStart: 1660097196.964005, exposureTime: 0.0, timestampStartOfReadout: 1660151302.3982508\n",
      "\n",
      " raftsDetailedState logevent at 2022-08-10 17:08:59.403 is \n",
      " \tprivate_revCode: d324a9d8, private_sndStamp: 1660151302.40326, private_rcvStamp: 1660151302.403597, private_seqNum: 12, private_identity: CCCamera, private_origin: 89351361, substate: 4, timestampTransition: 0.0\n",
      "\n",
      " imageReadoutParameters logevent at 2022-08-10 17:08:59.403 is \n",
      " \tprivate_revCode: d096277e, private_sndStamp: 1660151302.4026883, private_rcvStamp: 1660151302.4031105, private_seqNum: 2, private_identity: CCCamera, private_origin: 89351361, imageName: CC_O_20220810_000001, ccdLocation: R22S00:R22S01:R22S02:R22S10:R22S11:R22S12:R22S20:R22S21:R22S22, raftBay: R22:R22:R22:R22:R22:R22:R22:R22:R22, ccdSlot: S00:S01:S02:S10:S11:S12:S20:S21:S22, ccdType: [2, 2, 2, 2, 2, 2, 2, 2, 2], overRows: [48, 48, 48, 48, 48, 48, 48, 48, 48], overCols: [64, 64, 64, 64, 64, 64, 64, 64, 64], readRows: [2000, 2000, 2000, 2000, 2000, 2000, 2000, 2000, 2000], readCols: [509, 509, 509, 509, 509, 509, 509, 509, 509], readCols2: [0, 0, 0, 0, 0, 0, 0, 0, 0], preCols: [0, 0, 0, 0, 0, 0, 0, 0, 0], preRows: [0, 0, 0, 0, 0, 0, 0, 0, 0], postCols: [0, 0, 0, 0, 0, 0, 0, 0, 0], underCols: [3, 3, 3, 3, 3, 3, 3, 3, 3], daqFolder: raw, daqAnnotation: Test\n",
      "\n",
      " calibrationDetailedState logevent at 2022-08-10 17:08:59.405 is \n",
      " \tprivate_revCode: a610ea82, private_sndStamp: 1660151302.4050357, private_rcvStamp: 1660151302.405387, private_seqNum: 5, private_identity: CCCamera, private_origin: 89351361, substate: 2, timestampTransition: 0.0\n"
     ]
    },
    {
     "data": {
      "text/plain": [
       "<ddsutil.CCCamera_ackcmd_ff5ef83c at 0x7f849cb5c1c0>"
      ]
     },
     "execution_count": 32,
     "metadata": {},
     "output_type": "execute_result"
    },
    {
     "name": "stdout",
     "output_type": "stream",
     "text": [
      "\n",
      " raftsDetailedState logevent at 2022-08-10 17:09:01.398 is \n",
      " \tprivate_revCode: d324a9d8, private_sndStamp: 1660151304.398247, private_rcvStamp: 1660151304.3984876, private_seqNum: 13, private_identity: CCCamera, private_origin: 89351361, substate: 5, timestampTransition: 0.0\n",
      "\n",
      " endReadout logevent at 2022-08-10 17:09:01.398 is \n",
      " \tprivate_revCode: 82211edd, private_sndStamp: 1660151304.3979392, private_rcvStamp: 1660151304.3983154, private_seqNum: 2, private_identity: CCCamera, private_origin: 89351361, additionalKeys: groupId:imageType, additionalValues: 2022-08-10T17\\:07\\:25.258:ENGTEST, imagesInSequence: 1, imageName: CC_O_20220810_000001, imageIndex: 2, imageSource: CC, imageController: O, imageDate: 20220810, imageNumber: 1, timestampAcquisitionStart: 1660097196.964005, requestedExposureTime: 0.0, timestampEndOfReadout: 1660151304.3955965\n",
      "\n",
      " raftsDetailedState logevent at 2022-08-10 17:09:05.399 is \n",
      " \tprivate_revCode: d324a9d8, private_sndStamp: 1660151308.3986669, private_rcvStamp: 1660151308.399083, private_seqNum: 14, private_identity: CCCamera, private_origin: 89351361, substate: 1, timestampTransition: 0.0\n"
     ]
    }
   ],
   "source": [
    "await comcam.rem.cccamera.cmd_endImage.start()"
   ]
  },
  {
   "cell_type": "code",
   "execution_count": 33,
   "metadata": {},
   "outputs": [],
   "source": [
    "comcam.rem.cccamera.evt_imageReadoutParameters.callback = None\n",
    "comcam.rem.cccamera.evt_shutterDetailedState.callback = None\n",
    "comcam.rem.cccamera.evt_endShutterClose.callback = None\n",
    "comcam.rem.cccamera.evt_endReadout.callback = None"
   ]
  },
  {
   "cell_type": "code",
   "execution_count": 34,
   "metadata": {},
   "outputs": [],
   "source": [
    "# Closing callbacks from startImage.\n",
    "comcam.rem.cccamera.evt_calibrationDetailedState.callback = None\n",
    "comcam.rem.cccamera.evt_shutterDetailedState.callback = None\n",
    "comcam.rem.cccamera.evt_endShutterOpen.callback = None\n",
    "comcam.rem.cccamera.evt_startReadout.callback = None\n",
    "comcam.rem.cccamera.evt_raftsDetailedState.callback = None"
   ]
  },
  {
   "cell_type": "markdown",
   "metadata": {},
   "source": [
    "# Set Filter Tests"
   ]
  },
  {
   "cell_type": "markdown",
   "metadata": {},
   "source": [
    "---\n",
    "## 10: Set Filter\n",
    "Send a CCCamera_command_setFilter command for positionFilter1.\n",
    "\n",
    "Note: The filter being set must be one that was returned by the CCCamera_logevent_availableFilters event and cannot be the filter that is already set.\n",
    "    \n",
    "    Results:\n",
    "    The CCCamera_logevent_startSetFilter event is published to the EFD with the name of the filter being set\n",
    "    The CCCamera_logevent_startLoadFilter event is published to the EFD\n",
    "    The CCCamera_logevent_filterChangerDetailedState event is published to the EFD showing UNLOADED\n",
    "    The CCCamera_logevent_endLoadFilter event is published to the EFD\n",
    "    The CCCamera_logevent_startRotateCarousel event is published to the EFD\n",
    "    The CCCamera_logevent_endRotatorCarousel event is published to the EFD\n",
    "    The CCCamera_logevent_filterChangerDetailedState event is published to the EFD and showing LOADING\n",
    "    The CCCamera_logevent_startLoadFilter event is published to the EFD\n",
    "    The CCCamera_logevent_filterChangerDetailedState event is published to the EFD showing LOADED\n",
    "    The CCCamera_logevent_endSetFilter event is published to the EFD"
   ]
  },
  {
   "cell_type": "code",
   "execution_count": 35,
   "metadata": {},
   "outputs": [
    {
     "data": {
      "text/plain": [
       "'r_03'"
      ]
     },
     "execution_count": 35,
     "metadata": {},
     "output_type": "execute_result"
    }
   ],
   "source": [
    "await comcam.get_current_filter()"
   ]
  },
  {
   "cell_type": "code",
   "execution_count": 36,
   "metadata": {},
   "outputs": [],
   "source": [
    "comcam.rem.cccamera.evt_startSetFilter.callback = evt_time_callback\n",
    "comcam.rem.cccamera.evt_startLoadFilter.callback = evt_time_callback\n",
    "comcam.rem.cccamera.evt_filterChangerDetailedState.callback = evt_time_callback\n",
    "comcam.rem.cccamera.evt_endLoadFilter.callback = evt_time_callback\n",
    "comcam.rem.cccamera.evt_startRotateCarousel.callback = evt_time_callback\n",
    "comcam.rem.cccamera.evt_endRotateCarousel.callback = evt_time_callback\n",
    "comcam.rem.cccamera.evt_endSetFilter.callback = evt_time_callback"
   ]
  },
  {
   "cell_type": "code",
   "execution_count": 37,
   "metadata": {},
   "outputs": [
    {
     "name": "stdout",
     "output_type": "stream",
     "text": [
      "\n",
      " startSetFilter logevent at 2022-08-10 17:09:32.985 is \n",
      " \tprivate_revCode: 031a81c3, private_sndStamp: 1660151335.9852293, private_rcvStamp: 1660151335.985533, private_seqNum: 1, private_identity: CCCamera, private_origin: 89351361, filterName: i_06, filterType: i\n",
      "\n",
      " filterChangerDetailedState logevent at 2022-08-10 17:09:32.988 is \n",
      " \tprivate_revCode: 00917c89, private_sndStamp: 1660151335.987648, private_rcvStamp: 1660151335.9879217, private_seqNum: 6, private_identity: CCCamera, private_origin: 89351361, substate: 1, timestampTransition: 0.0\n",
      "\n",
      " filterChangerDetailedState logevent at 2022-08-10 17:09:47.986 is \n",
      " \tprivate_revCode: 00917c89, private_sndStamp: 1660151350.9856045, private_rcvStamp: 1660151350.9858632, private_seqNum: 7, private_identity: CCCamera, private_origin: 89351361, substate: 4, timestampTransition: 0.0\n",
      "\n",
      " startRotateCarousel logevent at 2022-08-10 17:09:47.986 is \n",
      " \tprivate_revCode: dba0ed3b, private_sndStamp: 1660151350.9862163, private_rcvStamp: 1660151350.9864953, private_seqNum: 1, private_identity: CCCamera, private_origin: 89351361, timestampTransition: 1660151350.984035\n",
      "\n",
      " filterChangerDetailedState logevent at 2022-08-10 17:09:47.986 is \n",
      " \tprivate_revCode: 00917c89, private_sndStamp: 1660151350.9864368, private_rcvStamp: 1660151350.9866788, private_seqNum: 8, private_identity: CCCamera, private_origin: 89351361, substate: 5, timestampTransition: 0.0\n",
      "\n",
      " filterChangerDetailedState logevent at 2022-08-10 17:09:55.187 is \n",
      " \tprivate_revCode: 00917c89, private_sndStamp: 1660151358.186679, private_rcvStamp: 1660151358.1869466, private_seqNum: 9, private_identity: CCCamera, private_origin: 89351361, substate: 4, timestampTransition: 0.0\n",
      "\n",
      " startLoadFilter logevent at 2022-08-10 17:09:55.187 is \n",
      " \tprivate_revCode: 13b5a0b1, private_sndStamp: 1660151358.1873474, private_rcvStamp: 1660151358.1876268, private_seqNum: 1, private_identity: CCCamera, private_origin: 89351361, timestampTransition: 1660151358.1852224\n",
      "\n",
      " filterChangerDetailedState logevent at 2022-08-10 17:09:55.188 is \n",
      " \tprivate_revCode: 00917c89, private_sndStamp: 1660151358.1875713, private_rcvStamp: 1660151358.1878169, private_seqNum: 10, private_identity: CCCamera, private_origin: 89351361, substate: 2, timestampTransition: 0.0\n",
      "\n",
      " endRotateCarousel logevent at 2022-08-10 17:09:55.186 is \n",
      " \tprivate_revCode: 28f1b632, private_sndStamp: 1660151358.186405, private_rcvStamp: 1660151358.1867774, private_seqNum: 1, private_identity: CCCamera, private_origin: 89351361, timestampTransition: 1660151358.184717\n",
      "\n",
      " endLoadFilter logevent at 2022-08-10 17:10:10.188 is \n",
      " \tprivate_revCode: cf037da6, private_sndStamp: 1660151373.1877656, private_rcvStamp: 1660151373.1881661, private_seqNum: 1, private_identity: CCCamera, private_origin: 89351361, timestampTransition: 1660151373.1858573\n",
      "\n",
      " filterChangerDetailedState logevent at 2022-08-10 17:10:10.188 is \n",
      " \tprivate_revCode: 00917c89, private_sndStamp: 1660151373.18816, private_rcvStamp: 1660151373.1883438, private_seqNum: 11, private_identity: CCCamera, private_origin: 89351361, substate: 3, timestampTransition: 0.0\n",
      "\n",
      " endSetFilter logevent at 2022-08-10 17:10:10.189 is \n",
      " \tprivate_revCode: e836aa38, private_sndStamp: 1660151373.1885772, private_rcvStamp: 1660151373.1888032, private_seqNum: 1, private_identity: CCCamera, private_origin: 89351361, filterName: i_06, filterType: i, filterSlot: 0, filterPosition: -72.0\n"
     ]
    },
    {
     "data": {
      "text/plain": [
       "<ddsutil.CCCamera_ackcmd_ff5ef83c at 0x7f84557c0ca0>"
      ]
     },
     "execution_count": 37,
     "metadata": {},
     "output_type": "execute_result"
    }
   ],
   "source": [
    "await comcam.rem.cccamera.cmd_setFilter.set_start(name = 'i_06')"
   ]
  },
  {
   "cell_type": "code",
   "execution_count": 38,
   "metadata": {},
   "outputs": [],
   "source": [
    "comcam.rem.cccamera.evt_startSetFilter.callback = None\n",
    "comcam.rem.cccamera.evt_startLoadFilter.callback = None\n",
    "comcam.rem.cccamera.evt_filterChangerDetailedState.callback = None\n",
    "comcam.rem.cccamera.evt_endLoadFilter.callback = None\n",
    "comcam.rem.cccamera.evt_startRotateCarousel.callback = None\n",
    "comcam.rem.cccamera.evt_endRotateCarousel.callback = None\n",
    "comcam.rem.cccamera.evt_endSetFilter.callback = None"
   ]
  },
  {
   "cell_type": "code",
   "execution_count": 39,
   "metadata": {},
   "outputs": [
    {
     "data": {
      "text/plain": [
       "'i_06'"
      ]
     },
     "execution_count": 39,
     "metadata": {},
     "output_type": "execute_result"
    }
   ],
   "source": [
    "await comcam.get_current_filter()"
   ]
  },
  {
   "cell_type": "markdown",
   "metadata": {},
   "source": [
    "---\n",
    "## 11: Set Filter to None \n",
    "Send a CCCamera_command_setFilter command with NONE.\n",
    "\n",
    "Note: This indicates that the loaded filter should be unloaded. However, this will only work if one of the filter positions is EMPTY. If there are no filter positions that are empty, we expect this step to fail.\n",
    "\n",
    "    Results:\n",
    "    The CCCamera_logevent_startSetFilter event is published to the EFD with the name of the filter being set\n",
    "    The CCCamera_logevent_startUnloadFilter event is published to the EFD\n",
    "    The CCCamera_logevent_filterChangerDetailedState event is published to the EFD showing UNLOADING\n",
    "    The CCCamera_logevent_endUnloadFilter event is published to the EFD\n",
    "    The CCCamera_logevent_filterChangerDetailedState event is published to the EFD \n",
    "    The CCCamera_logevent_endSetFilter event is published to the EFD"
   ]
  },
  {
   "cell_type": "code",
   "execution_count": 40,
   "metadata": {},
   "outputs": [],
   "source": [
    "comcam.rem.cccamera.evt_startSetFilter.callback = evt_time_callback\n",
    "comcam.rem.cccamera.evt_startUnloadFilter.callback = evt_time_callback\n",
    "comcam.rem.cccamera.evt_filterChangerDetailedState.callback = evt_time_callback\n",
    "comcam.rem.cccamera.evt_endUnloadFilter.callback = evt_time_callback\n",
    "comcam.rem.cccamera.evt_endSetFilter.callback = evt_time_callback"
   ]
  },
  {
   "cell_type": "code",
   "execution_count": 41,
   "metadata": {},
   "outputs": [
    {
     "ename": "AckError",
     "evalue": "msg='Command failed', ackcmd=(ackcmd private_seqNum=1520055160, ack=<SalRetCode.CMD_NOPERM: -300>, error=0, result='Ack : NO Command rejected: Invalid filter: None')",
     "output_type": "error",
     "traceback": [
      "\u001b[0;31m---------------------------------------------------------------------------\u001b[0m",
      "\u001b[0;31mAckError\u001b[0m                                  Traceback (most recent call last)",
      "Input \u001b[0;32mIn [41]\u001b[0m, in \u001b[0;36m<cell line: 1>\u001b[0;34m()\u001b[0m\n\u001b[0;32m----> 1\u001b[0m \u001b[38;5;28;01mawait\u001b[39;00m comcam\u001b[38;5;241m.\u001b[39mrem\u001b[38;5;241m.\u001b[39mcccamera\u001b[38;5;241m.\u001b[39mcmd_setFilter\u001b[38;5;241m.\u001b[39mset_start(name \u001b[38;5;241m=\u001b[39m \u001b[38;5;124m'\u001b[39m\u001b[38;5;124mNone\u001b[39m\u001b[38;5;124m'\u001b[39m)\n",
      "File \u001b[0;32m/opt/lsst/software/stack/conda/miniconda3-py38_4.9.2/envs/lsst-scipipe-4.0.1/lib/python3.10/site-packages/lsst/ts/salobj/topics/remote_command.py:418\u001b[0m, in \u001b[0;36mRemoteCommand.set_start\u001b[0;34m(self, timeout, wait_done, **kwargs)\u001b[0m\n\u001b[1;32m    377\u001b[0m \u001b[38;5;124;03m\"\"\"Create a new ``self.data``, set zero or more fields,\u001b[39;00m\n\u001b[1;32m    378\u001b[0m \u001b[38;5;124;03mand start the command.\u001b[39;00m\n\u001b[1;32m    379\u001b[0m \n\u001b[0;32m   (...)\u001b[0m\n\u001b[1;32m    415\u001b[0m \u001b[38;5;124;03m    If ``data`` is not None and not an instance of `DataType`.\u001b[39;00m\n\u001b[1;32m    416\u001b[0m \u001b[38;5;124;03m\"\"\"\u001b[39;00m\n\u001b[1;32m    417\u001b[0m \u001b[38;5;28mself\u001b[39m\u001b[38;5;241m.\u001b[39mset(\u001b[38;5;241m*\u001b[39m\u001b[38;5;241m*\u001b[39mkwargs)\n\u001b[0;32m--> 418\u001b[0m \u001b[38;5;28;01mreturn\u001b[39;00m \u001b[38;5;28;01mawait\u001b[39;00m \u001b[38;5;28mself\u001b[39m\u001b[38;5;241m.\u001b[39mstart(timeout\u001b[38;5;241m=\u001b[39mtimeout, wait_done\u001b[38;5;241m=\u001b[39mwait_done)\n",
      "File \u001b[0;32m/opt/lsst/software/stack/conda/miniconda3-py38_4.9.2/envs/lsst-scipipe-4.0.1/lib/python3.10/site-packages/lsst/ts/salobj/topics/remote_command.py:485\u001b[0m, in \u001b[0;36mRemoteCommand.start\u001b[0;34m(self, data, timeout, wait_done)\u001b[0m\n\u001b[1;32m    481\u001b[0m cmd_info \u001b[38;5;241m=\u001b[39m CommandInfo(\n\u001b[1;32m    482\u001b[0m     remote_command\u001b[38;5;241m=\u001b[39m\u001b[38;5;28mself\u001b[39m, seq_num\u001b[38;5;241m=\u001b[39mseq_num, wait_done\u001b[38;5;241m=\u001b[39mwait_done\n\u001b[1;32m    483\u001b[0m )\n\u001b[1;32m    484\u001b[0m \u001b[38;5;28mself\u001b[39m\u001b[38;5;241m.\u001b[39msalinfo\u001b[38;5;241m.\u001b[39m_running_cmds[seq_num] \u001b[38;5;241m=\u001b[39m cmd_info\n\u001b[0;32m--> 485\u001b[0m \u001b[38;5;28;01mreturn\u001b[39;00m \u001b[38;5;28;01mawait\u001b[39;00m cmd_info\u001b[38;5;241m.\u001b[39mnext_ackcmd(timeout\u001b[38;5;241m=\u001b[39mtimeout)\n",
      "File \u001b[0;32m/opt/lsst/software/stack/conda/miniconda3-py38_4.9.2/envs/lsst-scipipe-4.0.1/lib/python3.10/site-packages/lsst/ts/salobj/topics/remote_command.py:195\u001b[0m, in \u001b[0;36mCommandInfo.next_ackcmd\u001b[0;34m(self, timeout)\u001b[0m\n\u001b[1;32m    193\u001b[0m     ackcmd \u001b[38;5;241m=\u001b[39m \u001b[38;5;28;01mawait\u001b[39;00m \u001b[38;5;28mself\u001b[39m\u001b[38;5;241m.\u001b[39m_wait_task\n\u001b[1;32m    194\u001b[0m     \u001b[38;5;28;01mif\u001b[39;00m ackcmd\u001b[38;5;241m.\u001b[39mack \u001b[38;5;129;01min\u001b[39;00m \u001b[38;5;28mself\u001b[39m\u001b[38;5;241m.\u001b[39mfailed_ack_codes:\n\u001b[0;32m--> 195\u001b[0m         \u001b[38;5;28;01mraise\u001b[39;00m base\u001b[38;5;241m.\u001b[39mAckError(msg\u001b[38;5;241m=\u001b[39m\u001b[38;5;124m\"\u001b[39m\u001b[38;5;124mCommand failed\u001b[39m\u001b[38;5;124m\"\u001b[39m, ackcmd\u001b[38;5;241m=\u001b[39mackcmd)\n\u001b[1;32m    196\u001b[0m     \u001b[38;5;28;01mreturn\u001b[39;00m ackcmd\n\u001b[1;32m    197\u001b[0m \u001b[38;5;28;01mexcept\u001b[39;00m asyncio\u001b[38;5;241m.\u001b[39mTimeoutError:\n",
      "\u001b[0;31mAckError\u001b[0m: msg='Command failed', ackcmd=(ackcmd private_seqNum=1520055160, ack=<SalRetCode.CMD_NOPERM: -300>, error=0, result='Ack : NO Command rejected: Invalid filter: None')"
     ]
    }
   ],
   "source": [
    "await comcam.rem.cccamera.cmd_setFilter.set_start(name = 'None')"
   ]
  },
  {
   "cell_type": "code",
   "execution_count": 42,
   "metadata": {},
   "outputs": [],
   "source": [
    "comcam.rem.cccamera.evt_startSetFilter.callback = None\n",
    "comcam.rem.cccamera.evt_startUnloadFilter.callback = None\n",
    "comcam.rem.cccamera.evt_filterChangerDetailedState.callback = None\n",
    "comcam.rem.cccamera.evt_endUnloadFilter.callback = None\n",
    "comcam.rem.cccamera.evt_endSetFilter.callback = None"
   ]
  },
  {
   "cell_type": "markdown",
   "metadata": {},
   "source": [
    "# Take Image test"
   ]
  },
  {
   "cell_type": "markdown",
   "metadata": {},
   "source": [
    "--- \n",
    "## 12: Init Image\n",
    "While in the ENABLED state, send a CCCamera_command_initImage command of 15s.\n",
    "\n",
    "Note: This deltaT value is an estimate of time before sending the CCCamera_command_takeImage command. If the command can be sent sooner/later, adjust the deltaT value.\n",
    "\n",
    "    Results: \n",
    "    The command is accepted\n",
    "    The CCCamera_logevent_ImageReadinesDetailedState event is published to the EFD showing the system transitions into the Getting_Ready state\n",
    "    A CCCamera_logevent_prepareToTakeImage event is published to the EFD at the time of the transition\n",
    "    A CCCamera_logevent_NotReadyToTakeImage event is published before reaching the Ready state.\n",
    "    \n",
    "    \n",
    "**** Not available at EFD `comcam.rem.cccamera.evt_prepareToTakeImage` & `comcam.rem.cccamera.evt_notReadyToTakeImage`"
   ]
  },
  {
   "cell_type": "code",
   "execution_count": 43,
   "metadata": {},
   "outputs": [],
   "source": [
    "comcam.rem.cccamera.evt_imageReadinessDetailedState.callback = evt_time_callback\n",
    "comcam.rem.cccamera.evt_prepareToTakeImage.callback = evt_time_callback\n",
    "comcam.rem.cccamera.evt_notReadyToTakeImage.callback = evt_time_callback"
   ]
  },
  {
   "cell_type": "code",
   "execution_count": 44,
   "metadata": {},
   "outputs": [
    {
     "data": {
      "text/plain": [
       "<ddsutil.CCCamera_ackcmd_ff5ef83c at 0x7f849cb5d690>"
      ]
     },
     "execution_count": 44,
     "metadata": {},
     "output_type": "execute_result"
    },
    {
     "name": "stdout",
     "output_type": "stream",
     "text": [
      "\n",
      " imageReadinessDetailedState logevent at 2022-08-10 17:10:32.943 is \n",
      " \tprivate_revCode: 90d66834, private_sndStamp: 1660151395.9426088, private_rcvStamp: 1660151395.9429963, private_seqNum: 0, private_identity: CCCamera, private_origin: 89351361, substate: 1, timestampTransition: 0.0\n",
      "\n",
      " imageReadinessDetailedState logevent at 2022-08-10 17:10:32.943 is \n",
      " \tprivate_revCode: 90d66834, private_sndStamp: 1660151395.9432936, private_rcvStamp: 1660151395.9436, private_seqNum: 1, private_identity: CCCamera, private_origin: 89351361, substate: 3, timestampTransition: 0.0\n"
     ]
    }
   ],
   "source": [
    "await comcam.rem.cccamera.cmd_initImage.set_start(deltaT = 15)"
   ]
  },
  {
   "cell_type": "code",
   "execution_count": 45,
   "metadata": {},
   "outputs": [],
   "source": [
    "comcam.rem.cccamera.evt_imageReadinessDetailedState.callback = None\n",
    "comcam.rem.cccamera.evt_prepareToTakeImage.callback = None\n",
    "comcam.rem.cccamera.evt_notReadyToTakeImage.callback = None"
   ]
  },
  {
   "cell_type": "markdown",
   "metadata": {},
   "source": [
    "---\n",
    "##  13: Ready to take image.  \n",
    "Verify the Camera is ready to take a picture.\n",
    "    \n",
    "    Results:\n",
    "    The CCCamera_logevent_ImageReadinesDetailedState event is published to the EFD showing the system transitions into the Ready state\n",
    "    A CCCamera_logevent_readyToTakeImage event is published to the EFD at the time of the transition\n",
    "    A CCCamera_logevent_endInitializeImage event is published to the EFD at the time of the transition\n",
    "    \n",
    "**** Not available at EFD `comcam.rem.cccamera.evt_readyToTakeImage` & `comcam.rem.cccamera.evt_endInitializeImage`"
   ]
  },
  {
   "cell_type": "code",
   "execution_count": 46,
   "metadata": {},
   "outputs": [
    {
     "data": {
      "text/html": [
       "<pre style=\"margin: 0.1em;\n",
       "padding-left: 0.25em;\n",
       "border-left-style: solid;\n",
       "font-family: var(--jp-code-font-family);\n",
       "font-size: var(--jp-code-font-size);\n",
       "line-height: var(--jp-code-line-height);\n",
       "\"><span style=\"color: var(--jp-warn-color2)\">root</span> <span style=\"color: var(--jp-info-color0)\">INFO</span>: Image Readiness Detailed State at 2022-08-10 17:10:32.943 is \n",
       " private_revCode: 90d66834, private_sndStamp: 1660151395.9432936, private_rcvStamp: 1660151395.9436, private_seqNum: 1, private_identity: CCCamera, private_origin: 89351361, substate: 3, timestampTransition: 0.0</pre>"
      ],
      "text/plain": [
       "<IPython.core.display.HTML object>"
      ]
     },
     "metadata": {},
     "output_type": "display_data"
    }
   ],
   "source": [
    "readiness = comcam.rem.cccamera.evt_imageReadinessDetailedState.get()\n",
    "time_readiness = Time(readiness.private_sndStamp, format=\"unix\", scale=\"tai\")\n",
    "time_readiness.format = \"iso\"\n",
    "logger.info(f'Image Readiness Detailed State at {time_readiness}' \n",
    "            f' is \\n {readiness}')"
   ]
  },
  {
   "cell_type": "code",
   "execution_count": 47,
   "metadata": {},
   "outputs": [
    {
     "ename": "AttributeError",
     "evalue": "'NoneType' object has no attribute 'private_sndStamp'",
     "output_type": "error",
     "traceback": [
      "\u001b[0;31m---------------------------------------------------------------------------\u001b[0m",
      "\u001b[0;31mAttributeError\u001b[0m                            Traceback (most recent call last)",
      "Input \u001b[0;32mIn [47]\u001b[0m, in \u001b[0;36m<cell line: 2>\u001b[0;34m()\u001b[0m\n\u001b[1;32m      1\u001b[0m ready_to_take_image \u001b[38;5;241m=\u001b[39m comcam\u001b[38;5;241m.\u001b[39mrem\u001b[38;5;241m.\u001b[39mcccamera\u001b[38;5;241m.\u001b[39mevt_readyToTakeImage\u001b[38;5;241m.\u001b[39mget()\n\u001b[0;32m----> 2\u001b[0m time_ready_to_take_image \u001b[38;5;241m=\u001b[39m Time(\u001b[43mready_to_take_image\u001b[49m\u001b[38;5;241;43m.\u001b[39;49m\u001b[43mprivate_sndStamp\u001b[49m, \u001b[38;5;28mformat\u001b[39m\u001b[38;5;241m=\u001b[39m\u001b[38;5;124m\"\u001b[39m\u001b[38;5;124munix\u001b[39m\u001b[38;5;124m\"\u001b[39m, scale\u001b[38;5;241m=\u001b[39m\u001b[38;5;124m\"\u001b[39m\u001b[38;5;124mtai\u001b[39m\u001b[38;5;124m\"\u001b[39m)\n\u001b[1;32m      3\u001b[0m time_ready_to_take_image\u001b[38;5;241m.\u001b[39mformat \u001b[38;5;241m=\u001b[39m \u001b[38;5;124m\"\u001b[39m\u001b[38;5;124miso\u001b[39m\u001b[38;5;124m\"\u001b[39m\n\u001b[1;32m      4\u001b[0m logger\u001b[38;5;241m.\u001b[39minfo(\u001b[38;5;124mf\u001b[39m\u001b[38;5;124m'\u001b[39m\u001b[38;5;124mReady to take image at \u001b[39m\u001b[38;5;132;01m{\u001b[39;00mtime_ready_to_take_image\u001b[38;5;132;01m}\u001b[39;00m\u001b[38;5;124m'\u001b[39m \n\u001b[1;32m      5\u001b[0m             \u001b[38;5;124mf\u001b[39m\u001b[38;5;124m'\u001b[39m\u001b[38;5;124m is \u001b[39m\u001b[38;5;130;01m\\n\u001b[39;00m\u001b[38;5;124m \u001b[39m\u001b[38;5;132;01m{\u001b[39;00mready_to_take_image\u001b[38;5;132;01m}\u001b[39;00m\u001b[38;5;124m'\u001b[39m)\n",
      "\u001b[0;31mAttributeError\u001b[0m: 'NoneType' object has no attribute 'private_sndStamp'"
     ]
    }
   ],
   "source": [
    "ready_to_take_image = comcam.rem.cccamera.evt_readyToTakeImage.get()\n",
    "time_ready_to_take_image = Time(ready_to_take_image.private_sndStamp, format=\"unix\", scale=\"tai\")\n",
    "time_ready_to_take_image.format = \"iso\"\n",
    "logger.info(f'Ready to take image at {time_ready_to_take_image}' \n",
    "            f' is \\n {ready_to_take_image}')\n"
   ]
  },
  {
   "cell_type": "code",
   "execution_count": 48,
   "metadata": {},
   "outputs": [
    {
     "ename": "AttributeError",
     "evalue": "'NoneType' object has no attribute 'private_sndStamp'",
     "output_type": "error",
     "traceback": [
      "\u001b[0;31m---------------------------------------------------------------------------\u001b[0m",
      "\u001b[0;31mAttributeError\u001b[0m                            Traceback (most recent call last)",
      "Input \u001b[0;32mIn [48]\u001b[0m, in \u001b[0;36m<cell line: 2>\u001b[0;34m()\u001b[0m\n\u001b[1;32m      1\u001b[0m end_initialize_image \u001b[38;5;241m=\u001b[39m comcam\u001b[38;5;241m.\u001b[39mrem\u001b[38;5;241m.\u001b[39mcccamera\u001b[38;5;241m.\u001b[39mevt_endInitializeImage\u001b[38;5;241m.\u001b[39mget()\n\u001b[0;32m----> 2\u001b[0m time_end_initialize_image \u001b[38;5;241m=\u001b[39m Time(\u001b[43mend_initialize_image\u001b[49m\u001b[38;5;241;43m.\u001b[39;49m\u001b[43mprivate_sndStamp\u001b[49m, \u001b[38;5;28mformat\u001b[39m\u001b[38;5;241m=\u001b[39m\u001b[38;5;124m\"\u001b[39m\u001b[38;5;124munix\u001b[39m\u001b[38;5;124m\"\u001b[39m, scale\u001b[38;5;241m=\u001b[39m\u001b[38;5;124m\"\u001b[39m\u001b[38;5;124mtai\u001b[39m\u001b[38;5;124m\"\u001b[39m)\n\u001b[1;32m      3\u001b[0m time_end_initialize_image\u001b[38;5;241m.\u001b[39mformat \u001b[38;5;241m=\u001b[39m \u001b[38;5;124m\"\u001b[39m\u001b[38;5;124miso\u001b[39m\u001b[38;5;124m\"\u001b[39m\n\u001b[1;32m      4\u001b[0m logger\u001b[38;5;241m.\u001b[39minfo(\u001b[38;5;124mf\u001b[39m\u001b[38;5;124m'\u001b[39m\u001b[38;5;124mEnd Initialize Image at \u001b[39m\u001b[38;5;132;01m{\u001b[39;00mtime_end_initialize_image\u001b[38;5;132;01m}\u001b[39;00m\u001b[38;5;124m'\u001b[39m \n\u001b[1;32m      5\u001b[0m             \u001b[38;5;124mf\u001b[39m\u001b[38;5;124m'\u001b[39m\u001b[38;5;124m is \u001b[39m\u001b[38;5;130;01m\\n\u001b[39;00m\u001b[38;5;124m \u001b[39m\u001b[38;5;132;01m{\u001b[39;00mend_initialize_image\u001b[38;5;132;01m}\u001b[39;00m\u001b[38;5;124m'\u001b[39m)\n",
      "\u001b[0;31mAttributeError\u001b[0m: 'NoneType' object has no attribute 'private_sndStamp'"
     ]
    }
   ],
   "source": [
    "end_initialize_image = comcam.rem.cccamera.evt_endInitializeImage.get()\n",
    "time_end_initialize_image = Time(end_initialize_image.private_sndStamp, format=\"unix\", scale=\"tai\")\n",
    "time_end_initialize_image.format = \"iso\"\n",
    "logger.info(f'End Initialize Image at {time_end_initialize_image}' \n",
    "            f' is \\n {end_initialize_image}')"
   ]
  },
  {
   "cell_type": "markdown",
   "metadata": {},
   "source": [
    "---\n",
    "## 14: Take Images\n",
    "With the Camera ready to take a picture, send the CCCamera_command_takeImages command.\n",
    "\n",
    "    Results:\n",
    "    A CCCamera_logevent_startIntegration event is published to the EFD\n",
    "    A CCCamera_logevent_startShutterOpen event is published to the EFD.\n",
    "    A CCCamera_logevent_endShutterOpen event is published to the EFD.\n",
    "    The Camera publishes a CCCamera_logevent_startShutterClose event as the camera shutter starts to shut\n",
    "    The Camera publishes a CCCamera_logevent_endShutterClose event when the camera shutter is closed\n",
    "    A CCCamera_logevent_startReadout event is published\n",
    "    A CCCamera_logevent_endReadout event is published"
   ]
  },
  {
   "cell_type": "code",
   "execution_count": 49,
   "metadata": {},
   "outputs": [],
   "source": [
    "comcam.rem.cccamera.evt_startIntegration.callback = evt_time_callback\n",
    "comcam.rem.cccamera.evt_startShutterOpen.callback = evt_time_callback\n",
    "comcam.rem.cccamera.evt_endShutterOpen.callback = evt_time_callback\n",
    "comcam.rem.cccamera.evt_startShutterClose.callback = evt_time_callback\n",
    "comcam.rem.cccamera.evt_endShutterClose.callback = evt_time_callback\n",
    "comcam.rem.cccamera.evt_startReadout.callback = evt_time_callback\n",
    "comcam.rem.cccamera.evt_endReadout.callback = evt_time_callback"
   ]
  },
  {
   "cell_type": "code",
   "execution_count": 50,
   "metadata": {},
   "outputs": [],
   "source": [
    "keyValueMap = f'groupId:{Time.now().isot},imageType:ENGTEST'"
   ]
  },
  {
   "cell_type": "code",
   "execution_count": 51,
   "metadata": {},
   "outputs": [
    {
     "data": {
      "text/plain": [
       "True"
      ]
     },
     "execution_count": 51,
     "metadata": {},
     "output_type": "execute_result"
    }
   ],
   "source": [
    "# Set parameters\n",
    "comcam.rem.cccamera.cmd_takeImages.set(shutter=True, keyValueMap=keyValueMap, numImages=1, expTime=20, obsNote = 'Test')"
   ]
  },
  {
   "cell_type": "code",
   "execution_count": 52,
   "metadata": {},
   "outputs": [
    {
     "name": "stdout",
     "output_type": "stream",
     "text": [
      "\n",
      " startIntegration logevent at 2022-08-10 17:11:13.278 is \n",
      " \tprivate_revCode: ac7ce4ef, private_sndStamp: 1660151436.278296, private_rcvStamp: 1660151436.2786934, private_seqNum: 3, private_identity: CCCamera, private_origin: 89351361, additionalKeys: groupId:imageType, additionalValues: 2022-08-10T17\\:09\\:55.034:ENGTEST, imagesInSequence: 1, imageName: CC_O_20220810_000002, imageIndex: 1, imageSource: CC, imageController: O, imageDate: 20220810, imageNumber: 2, timestampAcquisitionStart: 1660151304.3935397, exposureTime: 20.0, mode: normal, timeout: 20.0\n",
      "\n",
      " startShutterOpen logevent at 2022-08-10 17:11:13.279 is \n",
      " \tprivate_revCode: e26069d4, private_sndStamp: 1660151436.2793167, private_rcvStamp: 1660151436.2796803, private_seqNum: 1, private_identity: CCCamera, private_origin: 89351361, timestampTransition: 1660151436.2781088\n",
      "\n",
      " endShutterOpen logevent at 2022-08-10 17:11:14.260 is \n",
      " \tprivate_revCode: dc9d3865, private_sndStamp: 1660151437.2602115, private_rcvStamp: 1660151437.260584, private_seqNum: 2, private_identity: CCCamera, private_origin: 89351361, timestampTransition: 1660151437.2587473\n",
      "\n",
      " startShutterClose logevent at 2022-08-10 17:11:34.260 is \n",
      " \tprivate_revCode: 50554e50, private_sndStamp: 1660151457.2602787, private_rcvStamp: 1660151457.2606623, private_seqNum: 2, private_identity: CCCamera, private_origin: 89351361, timestampTransition: 1660151457.2587297\n",
      "\n",
      " endShutterClose logevent at 2022-08-10 17:11:35.241 is \n",
      " \tprivate_revCode: 1a6c8bc0, private_sndStamp: 1660151458.2405083, private_rcvStamp: 1660151458.2410383, private_seqNum: 2, private_identity: CCCamera, private_origin: 89351361, timestampTransition: 1660151458.2387335\n",
      "\n",
      " startReadout logevent at 2022-08-10 17:11:36.351 is \n",
      " \tprivate_revCode: 0bfffb9a, private_sndStamp: 1660151459.3507748, private_rcvStamp: 1660151459.3511817, private_seqNum: 3, private_identity: CCCamera, private_origin: 89351361, additionalKeys: groupId:imageType, additionalValues: 2022-08-10T17\\:09\\:55.034:ENGTEST, imagesInSequence: 1, imageName: CC_O_20220810_000002, imageIndex: 1, imageSource: CC, imageController: O, imageDate: 20220810, imageNumber: 2, timestampAcquisitionStart: 1660151304.3935397, exposureTime: 20.0, timestampStartOfReadout: 1660151459.346036\n"
     ]
    },
    {
     "data": {
      "text/plain": [
       "<ddsutil.CCCamera_ackcmd_ff5ef83c at 0x7f849cb5ee60>"
      ]
     },
     "execution_count": 52,
     "metadata": {},
     "output_type": "execute_result"
    },
    {
     "name": "stdout",
     "output_type": "stream",
     "text": [
      "\n",
      " endReadout logevent at 2022-08-10 17:11:38.346 is \n",
      " \tprivate_revCode: 82211edd, private_sndStamp: 1660151461.345527, private_rcvStamp: 1660151461.3459034, private_seqNum: 3, private_identity: CCCamera, private_origin: 89351361, additionalKeys: groupId:imageType, additionalValues: 2022-08-10T17\\:09\\:55.034:ENGTEST, imagesInSequence: 1, imageName: CC_O_20220810_000002, imageIndex: 1, imageSource: CC, imageController: O, imageDate: 20220810, imageNumber: 2, timestampAcquisitionStart: 1660151304.3935397, requestedExposureTime: 20.0, timestampEndOfReadout: 1660151461.3436\n"
     ]
    }
   ],
   "source": [
    "await comcam.rem.cccamera.cmd_takeImages.start()"
   ]
  },
  {
   "cell_type": "code",
   "execution_count": 53,
   "metadata": {},
   "outputs": [],
   "source": [
    "comcam.rem.cccamera.evt_startIntegration.callback = None\n",
    "comcam.rem.cccamera.evt_startShutterOpen.callback = None\n",
    "comcam.rem.cccamera.evt_endShutterOpen.callback = None\n",
    "comcam.rem.cccamera.evt_startShutterClose.callback = None\n",
    "comcam.rem.cccamera.evt_endShutterClose.callback = None\n",
    "comcam.rem.cccamera.evt_startReadout.callback = None\n",
    "comcam.rem.cccamera.evt_endReadout.callback = None"
   ]
  },
  {
   "cell_type": "markdown",
   "metadata": {},
   "source": [
    "---\n",
    "## 15: Camera is done taking images \n",
    "Verify the Camera is done taking pictures.\n",
    "\n",
    "    Results:\n",
    "    A CCCamera_logevent_endTakeImage event is published to the EFD at the time the state transition occurs.\n",
    "    A CCCamera_logevent_endOfImageTelemetry event is published\n",
    "    \n",
    "**** Not available at EFD `comcam.rem.cccamera.evt_endTakeImage` "
   ]
  },
  {
   "cell_type": "code",
   "execution_count": 54,
   "metadata": {},
   "outputs": [
    {
     "ename": "AttributeError",
     "evalue": "'NoneType' object has no attribute 'private_sndStamp'",
     "output_type": "error",
     "traceback": [
      "\u001b[0;31m---------------------------------------------------------------------------\u001b[0m",
      "\u001b[0;31mAttributeError\u001b[0m                            Traceback (most recent call last)",
      "Input \u001b[0;32mIn [54]\u001b[0m, in \u001b[0;36m<cell line: 2>\u001b[0;34m()\u001b[0m\n\u001b[1;32m      1\u001b[0m end_take_image \u001b[38;5;241m=\u001b[39m comcam\u001b[38;5;241m.\u001b[39mrem\u001b[38;5;241m.\u001b[39mcccamera\u001b[38;5;241m.\u001b[39mevt_endTakeImage\u001b[38;5;241m.\u001b[39mget()\n\u001b[0;32m----> 2\u001b[0m time_end_take_image \u001b[38;5;241m=\u001b[39m Time(\u001b[43mend_take_image\u001b[49m\u001b[38;5;241;43m.\u001b[39;49m\u001b[43mprivate_sndStamp\u001b[49m, \u001b[38;5;28mformat\u001b[39m\u001b[38;5;241m=\u001b[39m\u001b[38;5;124m\"\u001b[39m\u001b[38;5;124munix\u001b[39m\u001b[38;5;124m\"\u001b[39m, scale\u001b[38;5;241m=\u001b[39m\u001b[38;5;124m\"\u001b[39m\u001b[38;5;124mtai\u001b[39m\u001b[38;5;124m\"\u001b[39m)\n\u001b[1;32m      3\u001b[0m time_end_take_image\u001b[38;5;241m.\u001b[39mformat \u001b[38;5;241m=\u001b[39m \u001b[38;5;124m\"\u001b[39m\u001b[38;5;124miso\u001b[39m\u001b[38;5;124m\"\u001b[39m\n\u001b[1;32m      4\u001b[0m logger\u001b[38;5;241m.\u001b[39minfo(\u001b[38;5;124mf\u001b[39m\u001b[38;5;124m'\u001b[39m\u001b[38;5;124mEnd Take Image at \u001b[39m\u001b[38;5;132;01m{\u001b[39;00mtime_end_take_image\u001b[38;5;132;01m}\u001b[39;00m\u001b[38;5;124m'\u001b[39m \n\u001b[1;32m      5\u001b[0m             \u001b[38;5;124mf\u001b[39m\u001b[38;5;124m'\u001b[39m\u001b[38;5;124m is \u001b[39m\u001b[38;5;130;01m\\n\u001b[39;00m\u001b[38;5;124m \u001b[39m\u001b[38;5;132;01m{\u001b[39;00mend_take_image\u001b[38;5;132;01m}\u001b[39;00m\u001b[38;5;124m'\u001b[39m)\n",
      "\u001b[0;31mAttributeError\u001b[0m: 'NoneType' object has no attribute 'private_sndStamp'"
     ]
    }
   ],
   "source": [
    "end_take_image = comcam.rem.cccamera.evt_endTakeImage.get()\n",
    "time_end_take_image = Time(end_take_image.private_sndStamp, format=\"unix\", scale=\"tai\")\n",
    "time_end_take_image.format = \"iso\"\n",
    "logger.info(f'End Take Image at {time_end_take_image}' \n",
    "            f' is \\n {end_take_image}')"
   ]
  },
  {
   "cell_type": "code",
   "execution_count": 55,
   "metadata": {},
   "outputs": [
    {
     "data": {
      "text/html": [
       "<pre style=\"margin: 0.1em;\n",
       "padding-left: 0.25em;\n",
       "border-left-style: solid;\n",
       "font-family: var(--jp-code-font-family);\n",
       "font-size: var(--jp-code-font-size);\n",
       "line-height: var(--jp-code-line-height);\n",
       "\"><span style=\"color: var(--jp-warn-color2)\">root</span> <span style=\"color: var(--jp-info-color0)\">INFO</span>: End of Image Telemetry at 2022-08-10 17:11:38.646 is \n",
       " private_revCode: 51d5e2ae, private_sndStamp: 1660151461.6461146, private_rcvStamp: 1660151461.646522, private_seqNum: 3, private_identity: CCCamera, private_origin: 89351361, additionalKeys: groupId:imageType, additionalValues: 2022-08-10T17\\:09\\:55.034:ENGTEST, imagesInSequence: 1, imageName: CC_O_20220810_000002, imageIndex: 1, imageSource: CC, imageController: O, imageDate: 20220810, imageNumber: 2, timestampAcquisitionStart: 1660151436.2733545, exposureTime: 20.0, imageTag: 92cd5fbea74096e1, timestampDateObs: 1660151436.2733545, timestampDateEnd: 1660151459.3441155, measuredShutterOpenTime: 20.0, darkTime: 23.07076096534729, emulatedImage: CC_O_20211123_000004</pre>"
      ],
      "text/plain": [
       "<IPython.core.display.HTML object>"
      ]
     },
     "metadata": {},
     "output_type": "display_data"
    }
   ],
   "source": [
    "end_of_image_telemetry = comcam.rem.cccamera.evt_endOfImageTelemetry.get()\n",
    "time_end_of_image_telemetry = Time(end_of_image_telemetry.private_sndStamp, format=\"unix\", scale=\"tai\")\n",
    "time_end_of_image_telemetry.format = \"iso\"\n",
    "logger.info(f'End of Image Telemetry at {time_end_of_image_telemetry}' \n",
    "            f' is \\n {end_of_image_telemetry}')"
   ]
  },
  {
   "cell_type": "markdown",
   "metadata": {},
   "source": [
    "# Guiders Image Test"
   ]
  },
  {
   "cell_type": "markdown",
   "metadata": {},
   "source": [
    "---\n",
    "## 16: Init Image\n",
    "\n",
    "While in the ENABLED state, send a CCCamera_command_initImage command of 15s.\n",
    "\n",
    "    Results:\n",
    "    The command is accepted\n",
    "    The CCCamera_logevent_ImageReadinesDetailedState event is published to the EFD showing the system transitions into the Getting_Ready state\n",
    "    A CCCamera_logevent_prepareToTakeImage event is published to the EFD at the time of the transition\n",
    "    A CCCamera_logevent_NotReadyToTakeImage event is published before reaching the Ready state."
   ]
  },
  {
   "cell_type": "code",
   "execution_count": 56,
   "metadata": {},
   "outputs": [],
   "source": [
    "comcam.rem.cccamera.evt_imageReadinessDetailedState.callback = evt_time_callback\n",
    "comcam.rem.cccamera.evt_prepareToTakeImage.callback = evt_time_callback\n",
    "comcam.rem.cccamera.evt_notReadyToTakeImage.callback = evt_time_callback"
   ]
  },
  {
   "cell_type": "code",
   "execution_count": 57,
   "metadata": {},
   "outputs": [
    {
     "name": "stdout",
     "output_type": "stream",
     "text": [
      "\n",
      " imageReadinessDetailedState logevent at 2022-08-10 17:12:28.409 is \n",
      " \tprivate_revCode: 90d66834, private_sndStamp: 1660151511.4090407, private_rcvStamp: 1660151511.4093182, private_seqNum: 2, private_identity: CCCamera, private_origin: 89351361, substate: 1, timestampTransition: 0.0\n",
      "\n",
      " imageReadinessDetailedState logevent at 2022-08-10 17:12:28.410 is \n",
      " \tprivate_revCode: 90d66834, private_sndStamp: 1660151511.4099727, private_rcvStamp: 1660151511.410178, private_seqNum: 3, private_identity: CCCamera, private_origin: 89351361, substate: 3, timestampTransition: 0.0\n"
     ]
    },
    {
     "data": {
      "text/plain": [
       "<ddsutil.CCCamera_ackcmd_ff5ef83c at 0x7f849cb5dd80>"
      ]
     },
     "execution_count": 57,
     "metadata": {},
     "output_type": "execute_result"
    }
   ],
   "source": [
    "await comcam.rem.cccamera.cmd_initImage.set_start(deltaT = 15)"
   ]
  },
  {
   "cell_type": "code",
   "execution_count": 58,
   "metadata": {},
   "outputs": [],
   "source": [
    "comcam.rem.cccamera.evt_imageReadinessDetailedState.callback = None\n",
    "comcam.rem.cccamera.evt_prepareToTakeImage.callback = None\n",
    "comcam.rem.cccamera.evt_notReadyToTakeImage.callback = None"
   ]
  },
  {
   "cell_type": "markdown",
   "metadata": {},
   "source": [
    "---\n",
    "## 17: Ready to take image \n",
    "Verify the Camera is ready to take a picture.\n",
    "\n",
    "    Results:\n",
    "    The CCCamera_logevent_ImageReadinesDetailedState event is published to the EFD showing the system transitions into the Ready state\n",
    "    A CCCamera_logevent_readyToTakeImage event is published to the EFD at the time of the transition\n",
    "    A CCCamera_logevent_endInitializeImage event is published to the EFD at the time of the transition"
   ]
  },
  {
   "cell_type": "code",
   "execution_count": 59,
   "metadata": {},
   "outputs": [
    {
     "data": {
      "text/html": [
       "<pre style=\"margin: 0.1em;\n",
       "padding-left: 0.25em;\n",
       "border-left-style: solid;\n",
       "font-family: var(--jp-code-font-family);\n",
       "font-size: var(--jp-code-font-size);\n",
       "line-height: var(--jp-code-line-height);\n",
       "\"><span style=\"color: var(--jp-warn-color2)\">root</span> <span style=\"color: var(--jp-info-color0)\">INFO</span>: Image Readiness Detailed State at 2022-08-10 17:12:28.410 is \n",
       " private_revCode: 90d66834, private_sndStamp: 1660151511.4099727, private_rcvStamp: 1660151511.410178, private_seqNum: 3, private_identity: CCCamera, private_origin: 89351361, substate: 3, timestampTransition: 0.0</pre>"
      ],
      "text/plain": [
       "<IPython.core.display.HTML object>"
      ]
     },
     "metadata": {},
     "output_type": "display_data"
    }
   ],
   "source": [
    "readiness = comcam.rem.cccamera.evt_imageReadinessDetailedState.get()\n",
    "time_readiness = Time(readiness.private_sndStamp, format=\"unix\", scale=\"tai\")\n",
    "time_readiness.format = \"iso\"\n",
    "logger.info(f'Image Readiness Detailed State at {time_readiness}' \n",
    "            f' is \\n {readiness}')"
   ]
  },
  {
   "cell_type": "code",
   "execution_count": 60,
   "metadata": {},
   "outputs": [
    {
     "ename": "AttributeError",
     "evalue": "'NoneType' object has no attribute 'private_sndStamp'",
     "output_type": "error",
     "traceback": [
      "\u001b[0;31m---------------------------------------------------------------------------\u001b[0m",
      "\u001b[0;31mAttributeError\u001b[0m                            Traceback (most recent call last)",
      "Input \u001b[0;32mIn [60]\u001b[0m, in \u001b[0;36m<cell line: 2>\u001b[0;34m()\u001b[0m\n\u001b[1;32m      1\u001b[0m ready_to_take_image \u001b[38;5;241m=\u001b[39m comcam\u001b[38;5;241m.\u001b[39mrem\u001b[38;5;241m.\u001b[39mcccamera\u001b[38;5;241m.\u001b[39mevt_readyToTakeImage\u001b[38;5;241m.\u001b[39mget()\n\u001b[0;32m----> 2\u001b[0m time_ready_to_take_image \u001b[38;5;241m=\u001b[39m Time(\u001b[43mready_to_take_image\u001b[49m\u001b[38;5;241;43m.\u001b[39;49m\u001b[43mprivate_sndStamp\u001b[49m, \u001b[38;5;28mformat\u001b[39m\u001b[38;5;241m=\u001b[39m\u001b[38;5;124m\"\u001b[39m\u001b[38;5;124munix\u001b[39m\u001b[38;5;124m\"\u001b[39m, scale\u001b[38;5;241m=\u001b[39m\u001b[38;5;124m\"\u001b[39m\u001b[38;5;124mtai\u001b[39m\u001b[38;5;124m\"\u001b[39m)\n\u001b[1;32m      3\u001b[0m time_ready_to_take_image\u001b[38;5;241m.\u001b[39mformat \u001b[38;5;241m=\u001b[39m \u001b[38;5;124m\"\u001b[39m\u001b[38;5;124miso\u001b[39m\u001b[38;5;124m\"\u001b[39m\n\u001b[1;32m      4\u001b[0m logger\u001b[38;5;241m.\u001b[39minfo(\u001b[38;5;124mf\u001b[39m\u001b[38;5;124m'\u001b[39m\u001b[38;5;124mReady to take image at \u001b[39m\u001b[38;5;132;01m{\u001b[39;00mtime_ready_to_take_image\u001b[38;5;132;01m}\u001b[39;00m\u001b[38;5;124m'\u001b[39m \n\u001b[1;32m      5\u001b[0m             \u001b[38;5;124mf\u001b[39m\u001b[38;5;124m'\u001b[39m\u001b[38;5;124m is \u001b[39m\u001b[38;5;130;01m\\n\u001b[39;00m\u001b[38;5;124m \u001b[39m\u001b[38;5;132;01m{\u001b[39;00mready_to_take_image\u001b[38;5;132;01m}\u001b[39;00m\u001b[38;5;124m'\u001b[39m)\n",
      "\u001b[0;31mAttributeError\u001b[0m: 'NoneType' object has no attribute 'private_sndStamp'"
     ]
    }
   ],
   "source": [
    "ready_to_take_image = comcam.rem.cccamera.evt_readyToTakeImage.get()\n",
    "time_ready_to_take_image = Time(ready_to_take_image.private_sndStamp, format=\"unix\", scale=\"tai\")\n",
    "time_ready_to_take_image.format = \"iso\"\n",
    "logger.info(f'Ready to take image at {time_ready_to_take_image}' \n",
    "            f' is \\n {ready_to_take_image}')\n"
   ]
  },
  {
   "cell_type": "code",
   "execution_count": 61,
   "metadata": {},
   "outputs": [
    {
     "ename": "AttributeError",
     "evalue": "'NoneType' object has no attribute 'private_sndStamp'",
     "output_type": "error",
     "traceback": [
      "\u001b[0;31m---------------------------------------------------------------------------\u001b[0m",
      "\u001b[0;31mAttributeError\u001b[0m                            Traceback (most recent call last)",
      "Input \u001b[0;32mIn [61]\u001b[0m, in \u001b[0;36m<cell line: 2>\u001b[0;34m()\u001b[0m\n\u001b[1;32m      1\u001b[0m end_initialize_image \u001b[38;5;241m=\u001b[39m comcam\u001b[38;5;241m.\u001b[39mrem\u001b[38;5;241m.\u001b[39mcccamera\u001b[38;5;241m.\u001b[39mevt_endInitializeImage\u001b[38;5;241m.\u001b[39mget()\n\u001b[0;32m----> 2\u001b[0m time_end_initialize_image \u001b[38;5;241m=\u001b[39m Time(\u001b[43mend_initialize_image\u001b[49m\u001b[38;5;241;43m.\u001b[39;49m\u001b[43mprivate_sndStamp\u001b[49m, \u001b[38;5;28mformat\u001b[39m\u001b[38;5;241m=\u001b[39m\u001b[38;5;124m\"\u001b[39m\u001b[38;5;124munix\u001b[39m\u001b[38;5;124m\"\u001b[39m, scale\u001b[38;5;241m=\u001b[39m\u001b[38;5;124m\"\u001b[39m\u001b[38;5;124mtai\u001b[39m\u001b[38;5;124m\"\u001b[39m)\n\u001b[1;32m      3\u001b[0m time_end_initialize_image\u001b[38;5;241m.\u001b[39mformat \u001b[38;5;241m=\u001b[39m \u001b[38;5;124m\"\u001b[39m\u001b[38;5;124miso\u001b[39m\u001b[38;5;124m\"\u001b[39m\n\u001b[1;32m      4\u001b[0m logger\u001b[38;5;241m.\u001b[39minfo(\u001b[38;5;124mf\u001b[39m\u001b[38;5;124m'\u001b[39m\u001b[38;5;124mEnd Initialize Image at \u001b[39m\u001b[38;5;132;01m{\u001b[39;00mtime_end_initialize_image\u001b[38;5;132;01m}\u001b[39;00m\u001b[38;5;124m'\u001b[39m \n\u001b[1;32m      5\u001b[0m             \u001b[38;5;124mf\u001b[39m\u001b[38;5;124m'\u001b[39m\u001b[38;5;124m is \u001b[39m\u001b[38;5;130;01m\\n\u001b[39;00m\u001b[38;5;124m \u001b[39m\u001b[38;5;132;01m{\u001b[39;00mend_initialize_image\u001b[38;5;132;01m}\u001b[39;00m\u001b[38;5;124m'\u001b[39m)\n",
      "\u001b[0;31mAttributeError\u001b[0m: 'NoneType' object has no attribute 'private_sndStamp'"
     ]
    }
   ],
   "source": [
    "end_initialize_image = comcam.rem.cccamera.evt_endInitializeImage.get()\n",
    "time_end_initialize_image = Time(end_initialize_image.private_sndStamp, format=\"unix\", scale=\"tai\")\n",
    "time_end_initialize_image.format = \"iso\"\n",
    "logger.info(f'End Initialize Image at {time_end_initialize_image}' \n",
    "            f' is \\n {end_initialize_image}')"
   ]
  },
  {
   "cell_type": "markdown",
   "metadata": {},
   "source": [
    "---\n",
    "## 18: Init Guider \n",
    "Send a CCCamera_command_initGuider command.\n",
    "\n",
    "Note: Guider Implementation is not complete and so the use of this command at the moment will result in a fail.\n",
    "\n",
    "    Results:\n",
    "    An CCCamera_logevent_endInitializeGuider event is published to the EFD.\n",
    "\n",
    "**** Missing at EFD `comcam.rem.cccamera.evt_endInitializeGuider`"
   ]
  },
  {
   "cell_type": "code",
   "execution_count": 62,
   "metadata": {},
   "outputs": [],
   "source": [
    "comcam.rem.cccamera.evt_endInitializeGuider.callback = evt_time_callback"
   ]
  },
  {
   "cell_type": "code",
   "execution_count": 65,
   "metadata": {},
   "outputs": [
    {
     "data": {
      "text/plain": [
       "<ddsutil.CCCamera_ackcmd_ff5ef83c at 0x7f849c0db9d0>"
      ]
     },
     "execution_count": 65,
     "metadata": {},
     "output_type": "execute_result"
    }
   ],
   "source": [
    "await comcam.rem.cccamera.cmd_initGuiders.set_start()"
   ]
  },
  {
   "cell_type": "code",
   "execution_count": 64,
   "metadata": {},
   "outputs": [],
   "source": [
    "comcam.rem.cccamera.evt_endInitializeGuider.callback = None"
   ]
  },
  {
   "cell_type": "markdown",
   "metadata": {},
   "source": [
    "---\n",
    "## 19: Take Images\n",
    "With the Camera ready to take a picture, send the CCCamera_command_takeImages command.\n",
    "\n",
    "    Results:\n",
    "    A CCCamera_logevent_startIntegration event is published to the EFD\n",
    "    A CCCamera_logevent_startShutterOpen event is published to the EFD.\n",
    "    A CCCamera_logevent_endShutterOpen event is published to the EFD.\n",
    "    The Camera publishes a CCCamera_logevent_startShutterClose event as the camera shutter starts to shut\n",
    "    The Camera publishes a CCCamera_logevent_endShutterClose event when the camera shutter is closed\n",
    "    A CCCamera_logevent_startReadout event is published\n",
    "    A CCCamera_logevent_endReadout event is published"
   ]
  },
  {
   "cell_type": "code",
   "execution_count": 66,
   "metadata": {},
   "outputs": [],
   "source": [
    "comcam.rem.cccamera.evt_startIntegration.callback = evt_time_callback\n",
    "comcam.rem.cccamera.evt_startShutterOpen.callback = evt_time_callback\n",
    "comcam.rem.cccamera.evt_endShutterOpen.callback = evt_time_callback\n",
    "comcam.rem.cccamera.evt_startShutterClose.callback = evt_time_callback\n",
    "comcam.rem.cccamera.evt_endShutterClose.callback = evt_time_callback\n",
    "comcam.rem.cccamera.evt_startReadout.callback = evt_time_callback\n",
    "comcam.rem.cccamera.evt_endReadout.callback = evt_time_callback"
   ]
  },
  {
   "cell_type": "code",
   "execution_count": 67,
   "metadata": {},
   "outputs": [],
   "source": [
    "keyValueMap = f'groupId:{Time.now().isot},imageType:ENGTEST'"
   ]
  },
  {
   "cell_type": "code",
   "execution_count": 68,
   "metadata": {},
   "outputs": [
    {
     "data": {
      "text/plain": [
       "True"
      ]
     },
     "execution_count": 68,
     "metadata": {},
     "output_type": "execute_result"
    }
   ],
   "source": [
    "# Set parameters\n",
    "comcam.rem.cccamera.cmd_takeImages.set(shutter=True, keyValueMap=keyValueMap, numImages=1, expTime=20, obsNote= 'test')"
   ]
  },
  {
   "cell_type": "code",
   "execution_count": 69,
   "metadata": {},
   "outputs": [
    {
     "name": "stdout",
     "output_type": "stream",
     "text": [
      "\n",
      " startIntegration logevent at 2022-08-10 17:13:40.565 is \n",
      " \tprivate_revCode: ac7ce4ef, private_sndStamp: 1660151583.5650425, private_rcvStamp: 1660151583.5652077, private_seqNum: 4, private_identity: CCCamera, private_origin: 89351361, additionalKeys: groupId:imageType, additionalValues: 2022-08-10T17\\:12\\:23.913:ENGTEST, imagesInSequence: 1, imageName: CC_O_20220810_000003, imageIndex: 1, imageSource: CC, imageController: O, imageDate: 20220810, imageNumber: 3, timestampAcquisitionStart: 1660151461.3417122, exposureTime: 20.0, mode: normal, timeout: 20.0\n",
      "\n",
      " startShutterOpen logevent at 2022-08-10 17:13:40.566 is \n",
      " \tprivate_revCode: e26069d4, private_sndStamp: 1660151583.5663595, private_rcvStamp: 1660151583.5665183, private_seqNum: 2, private_identity: CCCamera, private_origin: 89351361, timestampTransition: 1660151583.5650525\n",
      "\n",
      " endShutterOpen logevent at 2022-08-10 17:13:41.547 is \n",
      " \tprivate_revCode: dc9d3865, private_sndStamp: 1660151584.5472245, private_rcvStamp: 1660151584.5475218, private_seqNum: 3, private_identity: CCCamera, private_origin: 89351361, timestampTransition: 1660151584.5456688\n",
      "\n",
      " startShutterClose logevent at 2022-08-10 17:14:01.547 is \n",
      " \tprivate_revCode: 50554e50, private_sndStamp: 1660151604.547136, private_rcvStamp: 1660151604.5475209, private_seqNum: 3, private_identity: CCCamera, private_origin: 89351361, timestampTransition: 1660151604.5456488\n",
      "\n",
      " endShutterClose logevent at 2022-08-10 17:14:02.528 is \n",
      " \tprivate_revCode: 1a6c8bc0, private_sndStamp: 1660151605.5279167, private_rcvStamp: 1660151605.5282464, private_seqNum: 3, private_identity: CCCamera, private_origin: 89351361, timestampTransition: 1660151605.5256438\n",
      "\n",
      " startReadout logevent at 2022-08-10 17:14:03.633 is \n",
      " \tprivate_revCode: 0bfffb9a, private_sndStamp: 1660151606.6330156, private_rcvStamp: 1660151606.6337993, private_seqNum: 4, private_identity: CCCamera, private_origin: 89351361, additionalKeys: groupId:imageType, additionalValues: 2022-08-10T17\\:12\\:23.913:ENGTEST, imagesInSequence: 1, imageName: CC_O_20220810_000003, imageIndex: 1, imageSource: CC, imageController: O, imageDate: 20220810, imageNumber: 3, timestampAcquisitionStart: 1660151461.3417122, exposureTime: 20.0, timestampStartOfReadout: 1660151606.6291163\n"
     ]
    },
    {
     "data": {
      "text/plain": [
       "<ddsutil.CCCamera_ackcmd_ff5ef83c at 0x7f84553b04f0>"
      ]
     },
     "execution_count": 69,
     "metadata": {},
     "output_type": "execute_result"
    }
   ],
   "source": [
    "await comcam.rem.cccamera.cmd_takeImages.start()"
   ]
  },
  {
   "cell_type": "code",
   "execution_count": 70,
   "metadata": {},
   "outputs": [],
   "source": [
    "comcam.rem.cccamera.evt_startIntegration.callback = None\n",
    "comcam.rem.cccamera.evt_startShutterOpen.callback = None\n",
    "comcam.rem.cccamera.evt_endShutterOpen.callback = None\n",
    "comcam.rem.cccamera.evt_startShutterClose.callback = None\n",
    "comcam.rem.cccamera.evt_endShutterClose.callback = None\n",
    "comcam.rem.cccamera.evt_startReadout.callback = None\n",
    "comcam.rem.cccamera.evt_endReadout.callback = None"
   ]
  },
  {
   "cell_type": "markdown",
   "metadata": {},
   "source": [
    "---\n",
    "## 20: Camera is done taking images \n",
    "Verify the Camera is done taking pictures.\n",
    "\n",
    "    Results:\n",
    "    A CCCamera_logevent_endTakeImage event is published to the EFD at the time the state transition occurs.\n",
    "    A CCCamera_logevent_endOfImageTelemetry event is published"
   ]
  },
  {
   "cell_type": "code",
   "execution_count": 71,
   "metadata": {},
   "outputs": [
    {
     "ename": "AttributeError",
     "evalue": "'NoneType' object has no attribute 'private_sndStamp'",
     "output_type": "error",
     "traceback": [
      "\u001b[0;31m---------------------------------------------------------------------------\u001b[0m",
      "\u001b[0;31mAttributeError\u001b[0m                            Traceback (most recent call last)",
      "Input \u001b[0;32mIn [71]\u001b[0m, in \u001b[0;36m<cell line: 2>\u001b[0;34m()\u001b[0m\n\u001b[1;32m      1\u001b[0m end_take_image \u001b[38;5;241m=\u001b[39m comcam\u001b[38;5;241m.\u001b[39mrem\u001b[38;5;241m.\u001b[39mcccamera\u001b[38;5;241m.\u001b[39mevt_endTakeImage\u001b[38;5;241m.\u001b[39mget()\n\u001b[0;32m----> 2\u001b[0m time_end_take_image \u001b[38;5;241m=\u001b[39m Time(\u001b[43mend_take_image\u001b[49m\u001b[38;5;241;43m.\u001b[39;49m\u001b[43mprivate_sndStamp\u001b[49m, \u001b[38;5;28mformat\u001b[39m\u001b[38;5;241m=\u001b[39m\u001b[38;5;124m\"\u001b[39m\u001b[38;5;124munix\u001b[39m\u001b[38;5;124m\"\u001b[39m, scale\u001b[38;5;241m=\u001b[39m\u001b[38;5;124m\"\u001b[39m\u001b[38;5;124mtai\u001b[39m\u001b[38;5;124m\"\u001b[39m)\n\u001b[1;32m      3\u001b[0m time_end_take_image\u001b[38;5;241m.\u001b[39mformat \u001b[38;5;241m=\u001b[39m \u001b[38;5;124m\"\u001b[39m\u001b[38;5;124miso\u001b[39m\u001b[38;5;124m\"\u001b[39m\n\u001b[1;32m      4\u001b[0m logger\u001b[38;5;241m.\u001b[39minfo(\u001b[38;5;124mf\u001b[39m\u001b[38;5;124m'\u001b[39m\u001b[38;5;124mEnd Take Image at \u001b[39m\u001b[38;5;132;01m{\u001b[39;00mtime_end_take_image\u001b[38;5;132;01m}\u001b[39;00m\u001b[38;5;124m'\u001b[39m \n\u001b[1;32m      5\u001b[0m             \u001b[38;5;124mf\u001b[39m\u001b[38;5;124m'\u001b[39m\u001b[38;5;124m is \u001b[39m\u001b[38;5;130;01m\\n\u001b[39;00m\u001b[38;5;124m \u001b[39m\u001b[38;5;132;01m{\u001b[39;00mend_take_image\u001b[38;5;132;01m}\u001b[39;00m\u001b[38;5;124m'\u001b[39m)\n",
      "\u001b[0;31mAttributeError\u001b[0m: 'NoneType' object has no attribute 'private_sndStamp'"
     ]
    }
   ],
   "source": [
    "end_take_image = comcam.rem.cccamera.evt_endTakeImage.get()\n",
    "time_end_take_image = Time(end_take_image.private_sndStamp, format=\"unix\", scale=\"tai\")\n",
    "time_end_take_image.format = \"iso\"\n",
    "logger.info(f'End Take Image at {time_end_take_image}' \n",
    "            f' is \\n {end_take_image}')"
   ]
  },
  {
   "cell_type": "code",
   "execution_count": 72,
   "metadata": {},
   "outputs": [
    {
     "data": {
      "text/html": [
       "<pre style=\"margin: 0.1em;\n",
       "padding-left: 0.25em;\n",
       "border-left-style: solid;\n",
       "font-family: var(--jp-code-font-family);\n",
       "font-size: var(--jp-code-font-size);\n",
       "line-height: var(--jp-code-line-height);\n",
       "\"><span style=\"color: var(--jp-warn-color2)\">root</span> <span style=\"color: var(--jp-info-color0)\">INFO</span>: End of Image Telemetry at 2022-08-10 17:14:05.929 is \n",
       " private_revCode: 51d5e2ae, private_sndStamp: 1660151608.9293852, private_rcvStamp: 1660151608.9297845, private_seqNum: 4, private_identity: CCCamera, private_origin: 89351361, additionalKeys: groupId:imageType, additionalValues: 2022-08-10T17\\:12\\:23.913:ENGTEST, imagesInSequence: 1, imageName: CC_O_20220810_000003, imageIndex: 1, imageSource: CC, imageController: O, imageDate: 20220810, imageNumber: 3, timestampAcquisitionStart: 1660151583.5606117, exposureTime: 20.0, imageTag: 91b3a8e05592a19a, timestampDateObs: 1660151583.5606117, timestampDateEnd: 1660151606.6270099, measuredShutterOpenTime: 20.0, darkTime: 23.06639814376831, emulatedImage: CC_O_20211123_000005</pre>"
      ],
      "text/plain": [
       "<IPython.core.display.HTML object>"
      ]
     },
     "metadata": {},
     "output_type": "display_data"
    }
   ],
   "source": [
    "end_of_image_telemetry = comcam.rem.cccamera.evt_endOfImageTelemetry.get()\n",
    "time_end_of_image_telemetry = Time(end_of_image_telemetry.private_sndStamp, format=\"unix\", scale=\"tai\")\n",
    "time_end_of_image_telemetry.format = \"iso\"\n",
    "logger.info(f'End of Image Telemetry at {time_end_of_image_telemetry}' \n",
    "            f' is \\n {end_of_image_telemetry}')"
   ]
  },
  {
   "cell_type": "markdown",
   "metadata": {},
   "source": [
    "# Check Events in EFD"
   ]
  },
  {
   "cell_type": "markdown",
   "metadata": {},
   "source": [
    "---\n",
    "## 21: Image Visualization\n",
    "Verify the CCCamera_logevent_imageVisualization event is not published into the EFD.    \n",
    "Note: Although this is defined in the latest XML release, this event is not currently implemented and is not expected to be generated to the EFD."
   ]
  },
  {
   "cell_type": "code",
   "execution_count": 73,
   "metadata": {},
   "outputs": [
    {
     "ename": "AttributeError",
     "evalue": "'NoneType' object has no attribute 'private_sndStamp'",
     "output_type": "error",
     "traceback": [
      "\u001b[0;31m---------------------------------------------------------------------------\u001b[0m",
      "\u001b[0;31mAttributeError\u001b[0m                            Traceback (most recent call last)",
      "Input \u001b[0;32mIn [73]\u001b[0m, in \u001b[0;36m<cell line: 2>\u001b[0;34m()\u001b[0m\n\u001b[1;32m      1\u001b[0m image_visualization \u001b[38;5;241m=\u001b[39m comcam\u001b[38;5;241m.\u001b[39mrem\u001b[38;5;241m.\u001b[39mcccamera\u001b[38;5;241m.\u001b[39mevt_imageVisualization\u001b[38;5;241m.\u001b[39mget()\n\u001b[0;32m----> 2\u001b[0m time_image_visualization \u001b[38;5;241m=\u001b[39m Time(\u001b[43mimage_visualization\u001b[49m\u001b[38;5;241;43m.\u001b[39;49m\u001b[43mprivate_sndStamp\u001b[49m, \u001b[38;5;28mformat\u001b[39m\u001b[38;5;241m=\u001b[39m\u001b[38;5;124m\"\u001b[39m\u001b[38;5;124munix\u001b[39m\u001b[38;5;124m\"\u001b[39m, scale\u001b[38;5;241m=\u001b[39m\u001b[38;5;124m\"\u001b[39m\u001b[38;5;124mtai\u001b[39m\u001b[38;5;124m\"\u001b[39m)\n\u001b[1;32m      3\u001b[0m time_image_visualization\u001b[38;5;241m.\u001b[39mformat \u001b[38;5;241m=\u001b[39m \u001b[38;5;124m\"\u001b[39m\u001b[38;5;124miso\u001b[39m\u001b[38;5;124m\"\u001b[39m\n\u001b[1;32m      4\u001b[0m logger\u001b[38;5;241m.\u001b[39minfo(\u001b[38;5;124mf\u001b[39m\u001b[38;5;124m'\u001b[39m\u001b[38;5;124mImage Visualization at \u001b[39m\u001b[38;5;132;01m{\u001b[39;00mtime_image_visualization\u001b[38;5;132;01m}\u001b[39;00m\u001b[38;5;124m'\u001b[39m \n\u001b[1;32m      5\u001b[0m             \u001b[38;5;124mf\u001b[39m\u001b[38;5;124m'\u001b[39m\u001b[38;5;124m is \u001b[39m\u001b[38;5;130;01m\\n\u001b[39;00m\u001b[38;5;124m \u001b[39m\u001b[38;5;132;01m{\u001b[39;00mimage_visualization\u001b[38;5;132;01m}\u001b[39;00m\u001b[38;5;124m'\u001b[39m)\n",
      "\u001b[0;31mAttributeError\u001b[0m: 'NoneType' object has no attribute 'private_sndStamp'"
     ]
    }
   ],
   "source": [
    "image_visualization = comcam.rem.cccamera.evt_imageVisualization.get()\n",
    "time_image_visualization = Time(image_visualization.private_sndStamp, format=\"unix\", scale=\"tai\")\n",
    "time_image_visualization.format = \"iso\"\n",
    "logger.info(f'Image Visualization at {time_image_visualization}' \n",
    "            f' is \\n {image_visualization}')"
   ]
  },
  {
   "cell_type": "markdown",
   "metadata": {},
   "source": [
    "---\n",
    "## 22: Image Stored \n",
    "Verify the CCCamera_logevent_imageStored event is not published into the EFD.\n",
    "Note: Although this is defined in the latest XML release, this event is not currently implemented and is not expected to be generated to the EFD."
   ]
  },
  {
   "cell_type": "code",
   "execution_count": 74,
   "metadata": {},
   "outputs": [
    {
     "ename": "AttributeError",
     "evalue": "'NoneType' object has no attribute 'private_sndStamp'",
     "output_type": "error",
     "traceback": [
      "\u001b[0;31m---------------------------------------------------------------------------\u001b[0m",
      "\u001b[0;31mAttributeError\u001b[0m                            Traceback (most recent call last)",
      "Input \u001b[0;32mIn [74]\u001b[0m, in \u001b[0;36m<cell line: 2>\u001b[0;34m()\u001b[0m\n\u001b[1;32m      1\u001b[0m image_stored \u001b[38;5;241m=\u001b[39m comcam\u001b[38;5;241m.\u001b[39mrem\u001b[38;5;241m.\u001b[39mcccamera\u001b[38;5;241m.\u001b[39mevt_imageStored\u001b[38;5;241m.\u001b[39mget()\n\u001b[0;32m----> 2\u001b[0m time_image_stored \u001b[38;5;241m=\u001b[39m Time(\u001b[43mimage_stored\u001b[49m\u001b[38;5;241;43m.\u001b[39;49m\u001b[43mprivate_sndStamp\u001b[49m, \u001b[38;5;28mformat\u001b[39m\u001b[38;5;241m=\u001b[39m\u001b[38;5;124m\"\u001b[39m\u001b[38;5;124munix\u001b[39m\u001b[38;5;124m\"\u001b[39m, scale\u001b[38;5;241m=\u001b[39m\u001b[38;5;124m\"\u001b[39m\u001b[38;5;124mtai\u001b[39m\u001b[38;5;124m\"\u001b[39m)\n\u001b[1;32m      3\u001b[0m time_image_stored\u001b[38;5;241m.\u001b[39mformat \u001b[38;5;241m=\u001b[39m \u001b[38;5;124m\"\u001b[39m\u001b[38;5;124miso\u001b[39m\u001b[38;5;124m\"\u001b[39m\n\u001b[1;32m      4\u001b[0m logger\u001b[38;5;241m.\u001b[39minfo(\u001b[38;5;124mf\u001b[39m\u001b[38;5;124m'\u001b[39m\u001b[38;5;124mImage Stored at \u001b[39m\u001b[38;5;132;01m{\u001b[39;00mtime_image_stored\u001b[38;5;132;01m}\u001b[39;00m\u001b[38;5;124m'\u001b[39m \n\u001b[1;32m      5\u001b[0m             \u001b[38;5;124mf\u001b[39m\u001b[38;5;124m'\u001b[39m\u001b[38;5;124m is \u001b[39m\u001b[38;5;130;01m\\n\u001b[39;00m\u001b[38;5;124m \u001b[39m\u001b[38;5;132;01m{\u001b[39;00mimage_stored\u001b[38;5;132;01m}\u001b[39;00m\u001b[38;5;124m'\u001b[39m)\n",
      "\u001b[0;31mAttributeError\u001b[0m: 'NoneType' object has no attribute 'private_sndStamp'"
     ]
    }
   ],
   "source": [
    "image_stored = comcam.rem.cccamera.evt_imageStored.get()\n",
    "time_image_stored = Time(image_stored.private_sndStamp, format=\"unix\", scale=\"tai\")\n",
    "time_image_stored.format = \"iso\"\n",
    "logger.info(f'Image Stored at {time_image_stored}' \n",
    "            f' is \\n {image_stored}')"
   ]
  },
  {
   "cell_type": "markdown",
   "metadata": {},
   "source": [
    "# Stop Command"
   ]
  },
  {
   "cell_type": "markdown",
   "metadata": {},
   "source": [
    "---\n",
    "## 23: Set Filter\n",
    "\n",
    "\n",
    "While in the ENABLED state, send CCCamera_command_setFilter command for positionFilter1.\n",
    "    \n",
    "    Results:\n",
    "    The CCCamera_logevent_startSetFilter is published to the EFD with the name of the filter being set\n",
    "    \n",
    "    \n",
    "The next step `24: Stop` should be run right after this one, so the first `setFilter` command can be stopped as it'll be run in the BG. "
   ]
  },
  {
   "cell_type": "code",
   "execution_count": 85,
   "metadata": {},
   "outputs": [
    {
     "data": {
      "text/plain": [
       "'i_06'"
      ]
     },
     "execution_count": 85,
     "metadata": {},
     "output_type": "execute_result"
    }
   ],
   "source": [
    "await comcam.get_current_filter()"
   ]
  },
  {
   "cell_type": "code",
   "execution_count": 86,
   "metadata": {},
   "outputs": [],
   "source": [
    "comcam.rem.cccamera.evt_startSetFilter.callback = evt_time_callback\n",
    "comcam.rem.cccamera.evt_endSetFilter.callback = evt_time_callback"
   ]
  },
  {
   "cell_type": "code",
   "execution_count": 91,
   "metadata": {},
   "outputs": [
    {
     "ename": "CancelledError",
     "evalue": "",
     "output_type": "error",
     "traceback": [
      "\u001b[0;31m---------------------------------------------------------------------------\u001b[0m",
      "\u001b[0;31mCancelledError\u001b[0m                            Traceback (most recent call last)",
      "File \u001b[0;32m/opt/lsst/software/stack/conda/miniconda3-py38_4.9.2/envs/lsst-scipipe-4.0.1/lib/python3.10/site-packages/lsst/ts/salobj/topics/remote_command.py:218\u001b[0m, in \u001b[0;36mCommandInfo._basic_next_ackcmd\u001b[0;34m(self, timeout)\u001b[0m\n\u001b[1;32m    217\u001b[0m \u001b[38;5;28;01mwhile\u001b[39;00m \u001b[38;5;28;01mTrue\u001b[39;00m:\n\u001b[0;32m--> 218\u001b[0m     ackcmd \u001b[38;5;241m=\u001b[39m \u001b[38;5;28;01mawait\u001b[39;00m asyncio\u001b[38;5;241m.\u001b[39mwait_for(\n\u001b[1;32m    219\u001b[0m         \u001b[38;5;28mself\u001b[39m\u001b[38;5;241m.\u001b[39m_get_next_ackcmd(), timeout\u001b[38;5;241m=\u001b[39mtimeout \u001b[38;5;241m-\u001b[39m elapsed_time\n\u001b[1;32m    220\u001b[0m     )\n\u001b[1;32m    221\u001b[0m     \u001b[38;5;28;01mif\u001b[39;00m \u001b[38;5;129;01mnot\u001b[39;00m \u001b[38;5;28mself\u001b[39m\u001b[38;5;241m.\u001b[39mwait_done \u001b[38;5;129;01mor\u001b[39;00m ackcmd\u001b[38;5;241m.\u001b[39mack \u001b[38;5;129;01min\u001b[39;00m \u001b[38;5;28mself\u001b[39m\u001b[38;5;241m.\u001b[39mdone_ack_codes:\n",
      "File \u001b[0;32m/opt/lsst/software/stack/conda/miniconda3-py38_4.9.2/envs/lsst-scipipe-4.0.1/lib/python3.10/asyncio/tasks.py:432\u001b[0m, in \u001b[0;36mwait_for\u001b[0;34m(fut, timeout)\u001b[0m\n\u001b[1;32m    431\u001b[0m \u001b[38;5;28;01mtry\u001b[39;00m:\n\u001b[0;32m--> 432\u001b[0m     \u001b[38;5;28;01mawait\u001b[39;00m waiter\n\u001b[1;32m    433\u001b[0m \u001b[38;5;28;01mexcept\u001b[39;00m exceptions\u001b[38;5;241m.\u001b[39mCancelledError:\n",
      "\u001b[0;31mCancelledError\u001b[0m: ",
      "\nDuring handling of the above exception, another exception occurred:\n",
      "\u001b[0;31mCancelledError\u001b[0m                            Traceback (most recent call last)",
      "Input \u001b[0;32mIn [91]\u001b[0m, in \u001b[0;36m<cell line: 1>\u001b[0;34m()\u001b[0m\n\u001b[0;32m----> 1\u001b[0m \u001b[38;5;28;01mawait\u001b[39;00m comcam\u001b[38;5;241m.\u001b[39mrem\u001b[38;5;241m.\u001b[39mcccamera\u001b[38;5;241m.\u001b[39mcmd_setFilter\u001b[38;5;241m.\u001b[39mset_start(name \u001b[38;5;241m=\u001b[39m \u001b[38;5;124m'\u001b[39m\u001b[38;5;124mr_03\u001b[39m\u001b[38;5;124m'\u001b[39m)\n",
      "File \u001b[0;32m/opt/lsst/software/stack/conda/miniconda3-py38_4.9.2/envs/lsst-scipipe-4.0.1/lib/python3.10/site-packages/lsst/ts/salobj/topics/remote_command.py:418\u001b[0m, in \u001b[0;36mRemoteCommand.set_start\u001b[0;34m(self, timeout, wait_done, **kwargs)\u001b[0m\n\u001b[1;32m    377\u001b[0m \u001b[38;5;124;03m\"\"\"Create a new ``self.data``, set zero or more fields,\u001b[39;00m\n\u001b[1;32m    378\u001b[0m \u001b[38;5;124;03mand start the command.\u001b[39;00m\n\u001b[1;32m    379\u001b[0m \n\u001b[0;32m   (...)\u001b[0m\n\u001b[1;32m    415\u001b[0m \u001b[38;5;124;03m    If ``data`` is not None and not an instance of `DataType`.\u001b[39;00m\n\u001b[1;32m    416\u001b[0m \u001b[38;5;124;03m\"\"\"\u001b[39;00m\n\u001b[1;32m    417\u001b[0m \u001b[38;5;28mself\u001b[39m\u001b[38;5;241m.\u001b[39mset(\u001b[38;5;241m*\u001b[39m\u001b[38;5;241m*\u001b[39mkwargs)\n\u001b[0;32m--> 418\u001b[0m \u001b[38;5;28;01mreturn\u001b[39;00m \u001b[38;5;28;01mawait\u001b[39;00m \u001b[38;5;28mself\u001b[39m\u001b[38;5;241m.\u001b[39mstart(timeout\u001b[38;5;241m=\u001b[39mtimeout, wait_done\u001b[38;5;241m=\u001b[39mwait_done)\n",
      "File \u001b[0;32m/opt/lsst/software/stack/conda/miniconda3-py38_4.9.2/envs/lsst-scipipe-4.0.1/lib/python3.10/site-packages/lsst/ts/salobj/topics/remote_command.py:485\u001b[0m, in \u001b[0;36mRemoteCommand.start\u001b[0;34m(self, data, timeout, wait_done)\u001b[0m\n\u001b[1;32m    481\u001b[0m cmd_info \u001b[38;5;241m=\u001b[39m CommandInfo(\n\u001b[1;32m    482\u001b[0m     remote_command\u001b[38;5;241m=\u001b[39m\u001b[38;5;28mself\u001b[39m, seq_num\u001b[38;5;241m=\u001b[39mseq_num, wait_done\u001b[38;5;241m=\u001b[39mwait_done\n\u001b[1;32m    483\u001b[0m )\n\u001b[1;32m    484\u001b[0m \u001b[38;5;28mself\u001b[39m\u001b[38;5;241m.\u001b[39msalinfo\u001b[38;5;241m.\u001b[39m_running_cmds[seq_num] \u001b[38;5;241m=\u001b[39m cmd_info\n\u001b[0;32m--> 485\u001b[0m \u001b[38;5;28;01mreturn\u001b[39;00m \u001b[38;5;28;01mawait\u001b[39;00m cmd_info\u001b[38;5;241m.\u001b[39mnext_ackcmd(timeout\u001b[38;5;241m=\u001b[39mtimeout)\n",
      "File \u001b[0;32m/opt/lsst/software/stack/conda/miniconda3-py38_4.9.2/envs/lsst-scipipe-4.0.1/lib/python3.10/site-packages/lsst/ts/salobj/topics/remote_command.py:193\u001b[0m, in \u001b[0;36mCommandInfo.next_ackcmd\u001b[0;34m(self, timeout)\u001b[0m\n\u001b[1;32m    189\u001b[0m \u001b[38;5;28;01mtry\u001b[39;00m:\n\u001b[1;32m    190\u001b[0m     \u001b[38;5;28mself\u001b[39m\u001b[38;5;241m.\u001b[39m_wait_task \u001b[38;5;241m=\u001b[39m asyncio\u001b[38;5;241m.\u001b[39mcreate_task(\n\u001b[1;32m    191\u001b[0m         \u001b[38;5;28mself\u001b[39m\u001b[38;5;241m.\u001b[39m_basic_next_ackcmd(timeout\u001b[38;5;241m=\u001b[39mtimeout)\n\u001b[1;32m    192\u001b[0m     )\n\u001b[0;32m--> 193\u001b[0m     ackcmd \u001b[38;5;241m=\u001b[39m \u001b[38;5;28;01mawait\u001b[39;00m \u001b[38;5;28mself\u001b[39m\u001b[38;5;241m.\u001b[39m_wait_task\n\u001b[1;32m    194\u001b[0m     \u001b[38;5;28;01mif\u001b[39;00m ackcmd\u001b[38;5;241m.\u001b[39mack \u001b[38;5;129;01min\u001b[39;00m \u001b[38;5;28mself\u001b[39m\u001b[38;5;241m.\u001b[39mfailed_ack_codes:\n\u001b[1;32m    195\u001b[0m         \u001b[38;5;28;01mraise\u001b[39;00m base\u001b[38;5;241m.\u001b[39mAckError(msg\u001b[38;5;241m=\u001b[39m\u001b[38;5;124m\"\u001b[39m\u001b[38;5;124mCommand failed\u001b[39m\u001b[38;5;124m\"\u001b[39m, ackcmd\u001b[38;5;241m=\u001b[39mackcmd)\n",
      "\u001b[0;31mCancelledError\u001b[0m: "
     ]
    }
   ],
   "source": [
    "comcam.rem.cccamera.cmd_setFilter.set_start(name = 'r_03')"
   ]
  },
  {
   "cell_type": "markdown",
   "metadata": {},
   "source": [
    "---\n",
    "## 24: Stop \n",
    "Before an CCCamera_logevent_endSetFilter event is published, send a CCCamera_command_stop command.\n",
    "\n",
    "Note: The CCCamera_command_setFilter command will stop once it is safe to do so. The CCCamera_command_stop command may not stop the filter from being set if the command was given while in an unsafe position.\n",
    "\n",
    "    Results:\n",
    "    The command is accepted\n",
    "    The CCCamera_logevent_endSetFilter event shows that no filter has been set"
   ]
  },
  {
   "cell_type": "code",
   "execution_count": 92,
   "metadata": {},
   "outputs": [
    {
     "data": {
      "text/plain": [
       "RemoteCommand(CCCamera, 0, stop)"
      ]
     },
     "execution_count": 92,
     "metadata": {},
     "output_type": "execute_result"
    }
   ],
   "source": [
    "comcam.rem.cccamera.cmd_stop"
   ]
  },
  {
   "cell_type": "code",
   "execution_count": 89,
   "metadata": {},
   "outputs": [],
   "source": [
    "comcam.rem.cccamera.evt_startSetFilter.callback = None\n",
    "comcam.rem.cccamera.evt_endSetFilter.callback = None"
   ]
  },
  {
   "cell_type": "code",
   "execution_count": 94,
   "metadata": {},
   "outputs": [
    {
     "data": {
      "text/plain": [
       "'i_06'"
      ]
     },
     "execution_count": 94,
     "metadata": {},
     "output_type": "execute_result"
    }
   ],
   "source": [
    "await comcam.get_current_filter()"
   ]
  },
  {
   "cell_type": "markdown",
   "metadata": {},
   "source": [
    "---\n",
    "## 25: Start Image\n",
    "While the CalibrationDetailedState is in ENABLED, send a CCCamera_command_startImage command with the following parameters:\n",
    "\n",
    "                        shutter: True\n",
    "                        sensors\n",
    "                        keyValueMap\n",
    "                        obsNote: Any arbitrary string\n",
    "                        timeout: 30s\n",
    "\n",
    "The next step `26: Stop` should be run right after this one, so the first `setFilter` command can be stopped as it'll be run in the BG. "
   ]
  },
  {
   "cell_type": "code",
   "execution_count": 96,
   "metadata": {},
   "outputs": [
    {
     "data": {
      "text/html": [
       "<pre style=\"margin: 0.1em;\n",
       "padding-left: 0.25em;\n",
       "border-left-style: solid;\n",
       "font-family: var(--jp-code-font-family);\n",
       "font-size: var(--jp-code-font-size);\n",
       "line-height: var(--jp-code-line-height);\n",
       "\"><span style=\"color: var(--jp-warn-color2)\">root</span> <span style=\"color: var(--jp-info-color0)\">INFO</span>: Calibration Detailed State at 2022-08-10 17:08:59.405 are private_revCode: a610ea82, private_sndStamp: 1660151302.4050357, private_rcvStamp: 1660151302.405387, private_seqNum: 5, private_identity: CCCamera, private_origin: 89351361, substate: 2, timestampTransition: 0.0</pre>"
      ],
      "text/plain": [
       "<IPython.core.display.HTML object>"
      ]
     },
     "metadata": {},
     "output_type": "display_data"
    }
   ],
   "source": [
    "# Check CalibrationDetailedState is ENABLED\n",
    "calibration_detailed_state= comcam.rem.cccamera.evt_calibrationDetailedState.get()\n",
    "time_calibration_detailed_state=  Time(calibration_detailed_state.private_sndStamp, format=\"unix\", scale=\"tai\")\n",
    "time_calibration_detailed_state.format = \"iso\"\n",
    "logger.info(f'Calibration Detailed State at {time_calibration_detailed_state} are {calibration_detailed_state}')"
   ]
  },
  {
   "cell_type": "code",
   "execution_count": 97,
   "metadata": {},
   "outputs": [],
   "source": [
    "keyValueMap = f'groupId:{Time.now().isot},imageType:ENGTEST'"
   ]
  },
  {
   "cell_type": "code",
   "execution_count": 98,
   "metadata": {},
   "outputs": [
    {
     "data": {
      "text/plain": [
       "True"
      ]
     },
     "execution_count": 98,
     "metadata": {},
     "output_type": "execute_result"
    }
   ],
   "source": [
    "# Set parameters\n",
    "comcam.rem.cccamera.cmd_startImage.set(shutter=True, keyValueMap=keyValueMap, timeout=30, obsNote='Test')"
   ]
  },
  {
   "cell_type": "code",
   "execution_count": 99,
   "metadata": {},
   "outputs": [
    {
     "data": {
      "text/plain": [
       "<ddsutil.CCCamera_ackcmd_ff5ef83c at 0x7f849cb5d840>"
      ]
     },
     "execution_count": 99,
     "metadata": {},
     "output_type": "execute_result"
    }
   ],
   "source": [
    "# Start image\n",
    "await comcam.rem.cccamera.cmd_startImage.start()"
   ]
  },
  {
   "cell_type": "markdown",
   "metadata": {},
   "source": [
    "---\n",
    "## 26: Stop \n",
    "Before the specified timeout, send a CCCamera_command_stop command.\n",
    "\n",
    "    Results:\n",
    "    The previous CCCamera_command_startImage command is abandoned."
   ]
  },
  {
   "cell_type": "code",
   "execution_count": 100,
   "metadata": {},
   "outputs": [
    {
     "data": {
      "text/html": [
       "<pre style=\"margin: 0.1em;\n",
       "padding-left: 0.25em;\n",
       "border-left-style: solid;\n",
       "font-family: var(--jp-code-font-family);\n",
       "font-size: var(--jp-code-font-size);\n",
       "line-height: var(--jp-code-line-height);\n",
       "\"><span style=\"color: var(--jp-warn-color2)\">root</span> <span style=\"color: var(--jp-info-color0)\">INFO</span>: Start Integration at 2022-08-10 17:18:43.381 are private_revCode: ac7ce4ef, private_sndStamp: 1660151886.380843, private_rcvStamp: 1660151886.3811057, private_seqNum: 5, private_identity: CCCamera, private_origin: 89351361, additionalKeys: groupId:imageType, additionalValues: 2022-08-10T17\\:17\\:25.795:ENGTEST, imagesInSequence: 1, imageName: CC_O_20220810_000004, imageIndex: 2, imageSource: CC, imageController: O, imageDate: 20220810, imageNumber: 4, timestampAcquisitionStart: 1660151608.6246543, exposureTime: 0.0, mode: calibration, timeout: 30.0</pre>"
      ],
      "text/plain": [
       "<IPython.core.display.HTML object>"
      ]
     },
     "metadata": {},
     "output_type": "display_data"
    }
   ],
   "source": [
    "# Check CalibrationDetailedState is ENABLED\n",
    "start_integration= comcam.rem.cccamera.evt_startIntegration.get()\n",
    "time_start_integration=  Time(start_integration.private_sndStamp, format=\"unix\", scale=\"tai\")\n",
    "time_start_integration.format = \"iso\"\n",
    "logger.info(f'Start Integration at {time_start_integration} are {start_integration}')"
   ]
  },
  {
   "cell_type": "code",
   "execution_count": 101,
   "metadata": {},
   "outputs": [
    {
     "data": {
      "text/html": [
       "<pre style=\"margin: 0.1em;\n",
       "padding-left: 0.25em;\n",
       "border-left-style: solid;\n",
       "font-family: var(--jp-code-font-family);\n",
       "font-size: var(--jp-code-font-size);\n",
       "line-height: var(--jp-code-line-height);\n",
       "\"><span style=\"color: var(--jp-warn-color2)\">root</span> <span style=\"color: var(--jp-info-color0)\">INFO</span>: RemoteCommand(CCCamera, 0, stop) at 2022-08-10 17:17:43.173060</pre>"
      ],
      "text/plain": [
       "<IPython.core.display.HTML object>"
      ]
     },
     "metadata": {},
     "output_type": "display_data"
    }
   ],
   "source": [
    "stop = comcam.rem.cccamera.cmd_stop\n",
    "logger.info(f'{stop} at {Time.now()}')"
   ]
  },
  {
   "cell_type": "code",
   "execution_count": 103,
   "metadata": {},
   "outputs": [
    {
     "data": {
      "text/html": [
       "<pre style=\"margin: 0.1em;\n",
       "padding-left: 0.25em;\n",
       "border-left-style: solid;\n",
       "font-family: var(--jp-code-font-family);\n",
       "font-size: var(--jp-code-font-size);\n",
       "line-height: var(--jp-code-line-height);\n",
       "\"><span style=\"color: var(--jp-warn-color2)\">root</span> <span style=\"color: var(--jp-info-color0)\">INFO</span>: End of Image Telemetry at 2022-08-10 17:18:39.785 is \n",
       " private_revCode: 51d5e2ae, private_sndStamp: 1660151919.785495, private_rcvStamp: 1660151919.7859428, private_seqNum: 5, private_identity: CCCamera, private_origin: 89351361, additionalKeys: groupId:imageType, additionalValues: 2022-08-10T17\\:17\\:25.795:ENGTEST, imagesInSequence: 1, imageName: CC_O_20220810_000004, imageIndex: 2, imageSource: CC, imageController: O, imageDate: 20220810, imageNumber: 4, timestampAcquisitionStart: 1660151886.3763864, exposureTime: 0.0, imageTag: d4389b5eca537930, timestampDateObs: 1660151886.3763864, timestampDateEnd: 1660151917.4829104, measuredShutterOpenTime: 0.0, darkTime: 31.106523990631104, emulatedImage: CC_O_20211123_000006</pre>"
      ],
      "text/plain": [
       "<IPython.core.display.HTML object>"
      ]
     },
     "metadata": {},
     "output_type": "display_data"
    }
   ],
   "source": [
    "end_of_image_telemetry = comcam.rem.cccamera.evt_endOfImageTelemetry.get()\n",
    "time_end_of_image_telemetry = datetime.utcfromtimestamp(end_of_image_telemetry.private_sndStamp).strftime(\"%Y-%m-%d %H:%M:%S.%f\")[:-3]\n",
    "logger.info(f'End of Image Telemetry at {time_end_of_image_telemetry}' \n",
    "            f' is \\n {end_of_image_telemetry}')"
   ]
  },
  {
   "cell_type": "markdown",
   "metadata": {},
   "source": [
    "# Playlist Test - only valid when using emulated DAQ"
   ]
  },
  {
   "cell_type": "markdown",
   "metadata": {},
   "source": [
    "---\n",
    "## 27: Create playlist\n",
    "Send a CCCamera_command_playList command of the playlist to be defined and the current folder of where the images exist.\n",
    "\n",
    "    Results:\n",
    "    The command is accepted and a playlist is created."
   ]
  },
  {
   "cell_type": "code",
   "execution_count": null,
   "metadata": {},
   "outputs": [],
   "source": [
    "await comcam.rem.cccamera.cmd_playlist.set_start(playlist='test.playlist', folder =  , images = :)"
   ]
  },
  {
   "cell_type": "markdown",
   "metadata": {},
   "source": [
    "---\n",
    "## 28: Play playlist in repeat \n",
    "Send a CCCamera_command_play coommand of the playlist and an input of true for the repeat parameter.\n",
    "    \n",
    "    Results:\n",
    "    The command is accepted\n",
    "    The playlist is played and repeats"
   ]
  },
  {
   "cell_type": "code",
   "execution_count": null,
   "metadata": {},
   "outputs": [],
   "source": [
    "await comcam.rem.cccamera.cmd_play.set_start(playlist='tiago-1.playlist', repeat =True)"
   ]
  },
  {
   "cell_type": "code",
   "execution_count": null,
   "metadata": {},
   "outputs": [],
   "source": []
  },
  {
   "cell_type": "markdown",
   "metadata": {},
   "source": [
    "# Disable Calibration "
   ]
  },
  {
   "cell_type": "markdown",
   "metadata": {},
   "source": [
    "---\n",
    "##  29: Disable Calibraiton\n",
    "With the Summary State of the Camera in ENABLED and the CalibrationDetailedState in ENABLED, send a CCCamera_command_disableCalibration command.\n",
    "\n",
    "    Results:\n",
    "    The  CCCamera_logevent_CalibrationDetailedState event publishes DISABLED."
   ]
  },
  {
   "cell_type": "code",
   "execution_count": 104,
   "metadata": {},
   "outputs": [],
   "source": [
    "comcam.rem.cccamera.evt_calibrationDetailedState.callback = evt_time_callback"
   ]
  },
  {
   "cell_type": "code",
   "execution_count": 105,
   "metadata": {},
   "outputs": [
    {
     "name": "stdout",
     "output_type": "stream",
     "text": [
      "\n",
      " calibrationDetailedState logevent at 2022-08-10 17:22:18.979 is \n",
      " \tprivate_revCode: a610ea82, private_sndStamp: 1660152101.9792845, private_rcvStamp: 1660152101.9795775, private_seqNum: 8, private_identity: CCCamera, private_origin: 89351361, substate: 1, timestampTransition: 0.0\n"
     ]
    },
    {
     "data": {
      "text/plain": [
       "<ddsutil.CCCamera_ackcmd_ff5ef83c at 0x7f849c108250>"
      ]
     },
     "execution_count": 105,
     "metadata": {},
     "output_type": "execute_result"
    }
   ],
   "source": [
    "await comcam.rem.cccamera.cmd_disableCalibration.set_start()"
   ]
  },
  {
   "cell_type": "code",
   "execution_count": 106,
   "metadata": {},
   "outputs": [],
   "source": [
    "comcam.rem.cccamera.evt_calibrationDetailedState.callback = None"
   ]
  },
  {
   "cell_type": "markdown",
   "metadata": {},
   "source": [
    "--- \n",
    "# EFD Events"
   ]
  },
  {
   "cell_type": "markdown",
   "metadata": {},
   "source": [
    "---\n",
    "## 31: Shutter Blade Motion Profile Event\n",
    "Verify the CCCamera_logevent_ShutterBladeMotionProfile event is not published to the EFD.\n",
    "\n",
    "Note: Although this is defined in the latest XML release, this event is not currently implemented and is not expected to be generated to the EFD."
   ]
  },
  {
   "cell_type": "code",
   "execution_count": 107,
   "metadata": {},
   "outputs": [
    {
     "data": {
      "text/html": [
       "<pre style=\"margin: 0.1em;\n",
       "padding-left: 0.25em;\n",
       "border-left-style: solid;\n",
       "font-family: var(--jp-code-font-family);\n",
       "font-size: var(--jp-code-font-size);\n",
       "line-height: var(--jp-code-line-height);\n",
       "\"><span style=\"color: var(--jp-warn-color2)\">aioinflux</span> <span style=\"color: var(--jp-success-color0)\">DEBUG</span>: 200: SELECT * FROM &quot;efd&quot;.&quot;autogen&quot;.&quot;lsst.sal.CCCamera.evt_shutterBladeMotionProfile&quot; GROUP BY * ORDER BY DESC LIMIT 1</pre>"
      ],
      "text/plain": [
       "<IPython.core.display.HTML object>"
      ]
     },
     "metadata": {},
     "output_type": "display_data"
    },
    {
     "ename": "AttributeError",
     "evalue": "'DataFrame' object has no attribute 'private_efdStamp'",
     "output_type": "error",
     "traceback": [
      "\u001b[0;31m---------------------------------------------------------------------------\u001b[0m",
      "\u001b[0;31mAttributeError\u001b[0m                            Traceback (most recent call last)",
      "Input \u001b[0;32mIn [107]\u001b[0m, in \u001b[0;36m<cell line: 1>\u001b[0;34m()\u001b[0m\n\u001b[0;32m----> 1\u001b[0m \u001b[38;5;28;01mawait\u001b[39;00m check_telemetry(\u001b[38;5;124m'\u001b[39m\u001b[38;5;124mlsst.sal.CCCamera.evt_shutterBladeMotionProfile\u001b[39m\u001b[38;5;124m'\u001b[39m)\n",
      "Input \u001b[0;32mIn [13]\u001b[0m, in \u001b[0;36mcheck_telemetry\u001b[0;34m(topic)\u001b[0m\n\u001b[1;32m      2\u001b[0m \u001b[38;5;124;03m\"\"\" Prints the last EFD published telemetry/event \"\"\"\u001b[39;00m\n\u001b[1;32m      3\u001b[0m tel \u001b[38;5;241m=\u001b[39m \u001b[38;5;28;01mawait\u001b[39;00m client\u001b[38;5;241m.\u001b[39mselect_top_n(topic,\u001b[38;5;124m'\u001b[39m\u001b[38;5;124m*\u001b[39m\u001b[38;5;124m'\u001b[39m,num\u001b[38;5;241m=\u001b[39m\u001b[38;5;241m1\u001b[39m)\n\u001b[0;32m----> 4\u001b[0m tel_time \u001b[38;5;241m=\u001b[39m Time(\u001b[43mtel\u001b[49m\u001b[38;5;241;43m.\u001b[39;49m\u001b[43mprivate_efdStamp\u001b[49m, \u001b[38;5;28mformat\u001b[39m\u001b[38;5;241m=\u001b[39m\u001b[38;5;124m\"\u001b[39m\u001b[38;5;124munix\u001b[39m\u001b[38;5;124m\"\u001b[39m, scale\u001b[38;5;241m=\u001b[39m\u001b[38;5;124m\"\u001b[39m\u001b[38;5;124mutc\u001b[39m\u001b[38;5;124m\"\u001b[39m)\n\u001b[1;32m      5\u001b[0m tel_time\u001b[38;5;241m.\u001b[39mformat \u001b[38;5;241m=\u001b[39m \u001b[38;5;124m\"\u001b[39m\u001b[38;5;124miso\u001b[39m\u001b[38;5;124m\"\u001b[39m\n\u001b[1;32m      6\u001b[0m \u001b[38;5;28mprint\u001b[39m(\u001b[38;5;124mf\u001b[39m\u001b[38;5;124m'\u001b[39m\u001b[38;5;124mLast \u001b[39m\u001b[38;5;132;01m{\u001b[39;00mtopic\u001b[38;5;132;01m}\u001b[39;00m\u001b[38;5;124m telemetry at \u001b[39m\u001b[38;5;132;01m{\u001b[39;00mtel_time[\u001b[38;5;241m0\u001b[39m]\u001b[38;5;132;01m}\u001b[39;00m\u001b[38;5;124m UTC (time now \u001b[39m\u001b[38;5;132;01m{\u001b[39;00mTime\u001b[38;5;241m.\u001b[39mnow()\u001b[38;5;132;01m}\u001b[39;00m\u001b[38;5;124m) was \u001b[39m\u001b[38;5;130;01m\\n\u001b[39;00m\u001b[38;5;130;01m\\n\u001b[39;00m\u001b[38;5;124m \u001b[39m\u001b[38;5;132;01m{\u001b[39;00mtel\u001b[38;5;132;01m}\u001b[39;00m\u001b[38;5;124m'\u001b[39m)\n",
      "File \u001b[0;32m/opt/lsst/software/stack/conda/miniconda3-py38_4.9.2/envs/lsst-scipipe-4.0.1/lib/python3.10/site-packages/pandas/core/generic.py:5575\u001b[0m, in \u001b[0;36mNDFrame.__getattr__\u001b[0;34m(self, name)\u001b[0m\n\u001b[1;32m   5568\u001b[0m \u001b[38;5;28;01mif\u001b[39;00m (\n\u001b[1;32m   5569\u001b[0m     name \u001b[38;5;129;01mnot\u001b[39;00m \u001b[38;5;129;01min\u001b[39;00m \u001b[38;5;28mself\u001b[39m\u001b[38;5;241m.\u001b[39m_internal_names_set\n\u001b[1;32m   5570\u001b[0m     \u001b[38;5;129;01mand\u001b[39;00m name \u001b[38;5;129;01mnot\u001b[39;00m \u001b[38;5;129;01min\u001b[39;00m \u001b[38;5;28mself\u001b[39m\u001b[38;5;241m.\u001b[39m_metadata\n\u001b[1;32m   5571\u001b[0m     \u001b[38;5;129;01mand\u001b[39;00m name \u001b[38;5;129;01mnot\u001b[39;00m \u001b[38;5;129;01min\u001b[39;00m \u001b[38;5;28mself\u001b[39m\u001b[38;5;241m.\u001b[39m_accessors\n\u001b[1;32m   5572\u001b[0m     \u001b[38;5;129;01mand\u001b[39;00m \u001b[38;5;28mself\u001b[39m\u001b[38;5;241m.\u001b[39m_info_axis\u001b[38;5;241m.\u001b[39m_can_hold_identifiers_and_holds_name(name)\n\u001b[1;32m   5573\u001b[0m ):\n\u001b[1;32m   5574\u001b[0m     \u001b[38;5;28;01mreturn\u001b[39;00m \u001b[38;5;28mself\u001b[39m[name]\n\u001b[0;32m-> 5575\u001b[0m \u001b[38;5;28;01mreturn\u001b[39;00m \u001b[38;5;28;43mobject\u001b[39;49m\u001b[38;5;241;43m.\u001b[39;49m\u001b[38;5;21;43m__getattribute__\u001b[39;49m\u001b[43m(\u001b[49m\u001b[38;5;28;43mself\u001b[39;49m\u001b[43m,\u001b[49m\u001b[43m \u001b[49m\u001b[43mname\u001b[49m\u001b[43m)\u001b[49m\n",
      "\u001b[0;31mAttributeError\u001b[0m: 'DataFrame' object has no attribute 'private_efdStamp'"
     ]
    }
   ],
   "source": [
    "await check_telemetry('lsst.sal.CCCamera.evt_shutterBladeMotionProfile')"
   ]
  },
  {
   "cell_type": "markdown",
   "metadata": {},
   "source": [
    "---\n",
    "## 32: Fits Files Written Event\n",
    "Verify the CCCamera_logevent_fitsFilesWritten event is not published to the EFD.\n",
    "\n",
    "Note: Although this is defined in the latest XML release, this event is not currently implemented and is not expected to be generated to the EFD."
   ]
  },
  {
   "cell_type": "code",
   "execution_count": null,
   "metadata": {},
   "outputs": [],
   "source": [
    "await check_telemetry('lsst.sal.CCCamera.logevent_fitsFilesWritten')"
   ]
  },
  {
   "cell_type": "markdown",
   "metadata": {},
   "source": [
    "---\n",
    "## 32: File Command Execution Event\n",
    "Verify the CCCamera_logevent_FileCommandExecution event is not published to the EFD.\n",
    "\n",
    "Note: Although this is defined in the latest XML release, this event is not currently implemented and is not expected to be generated to the EFD."
   ]
  },
  {
   "cell_type": "code",
   "execution_count": null,
   "metadata": {},
   "outputs": [],
   "source": [
    "await check_telemetry('lsst.sal.CCCamera.logevent_FileCommandExecution')"
   ]
  },
  {
   "cell_type": "markdown",
   "metadata": {},
   "source": [
    "# EFD Telemetry"
   ]
  },
  {
   "cell_type": "markdown",
   "metadata": {},
   "source": [
    "---\n",
    "## 33: FCS\n",
    "Verify the CCCamera_fcs telemetry data is being published to the EFD."
   ]
  },
  {
   "cell_type": "code",
   "execution_count": 108,
   "metadata": {},
   "outputs": [
    {
     "data": {
      "text/html": [
       "<pre style=\"margin: 0.1em;\n",
       "padding-left: 0.25em;\n",
       "border-left-style: solid;\n",
       "font-family: var(--jp-code-font-family);\n",
       "font-size: var(--jp-code-font-size);\n",
       "line-height: var(--jp-code-line-height);\n",
       "\"><span style=\"color: var(--jp-warn-color2)\">aioinflux</span> <span style=\"color: var(--jp-success-color0)\">DEBUG</span>: 200: SELECT * FROM &quot;efd&quot;.&quot;autogen&quot;.&quot;lsst.sal.CCCamera.fcs&quot; GROUP BY * ORDER BY DESC LIMIT 1</pre>"
      ],
      "text/plain": [
       "<IPython.core.display.HTML object>"
      ]
     },
     "metadata": {},
     "output_type": "display_data"
    },
    {
     "ename": "AttributeError",
     "evalue": "'DataFrame' object has no attribute 'private_efdStamp'",
     "output_type": "error",
     "traceback": [
      "\u001b[0;31m---------------------------------------------------------------------------\u001b[0m",
      "\u001b[0;31mAttributeError\u001b[0m                            Traceback (most recent call last)",
      "Input \u001b[0;32mIn [108]\u001b[0m, in \u001b[0;36m<cell line: 1>\u001b[0;34m()\u001b[0m\n\u001b[0;32m----> 1\u001b[0m \u001b[38;5;28;01mawait\u001b[39;00m check_telemetry(\u001b[38;5;124m'\u001b[39m\u001b[38;5;124mlsst.sal.CCCamera.fcs\u001b[39m\u001b[38;5;124m'\u001b[39m)\n",
      "Input \u001b[0;32mIn [13]\u001b[0m, in \u001b[0;36mcheck_telemetry\u001b[0;34m(topic)\u001b[0m\n\u001b[1;32m      2\u001b[0m \u001b[38;5;124;03m\"\"\" Prints the last EFD published telemetry/event \"\"\"\u001b[39;00m\n\u001b[1;32m      3\u001b[0m tel \u001b[38;5;241m=\u001b[39m \u001b[38;5;28;01mawait\u001b[39;00m client\u001b[38;5;241m.\u001b[39mselect_top_n(topic,\u001b[38;5;124m'\u001b[39m\u001b[38;5;124m*\u001b[39m\u001b[38;5;124m'\u001b[39m,num\u001b[38;5;241m=\u001b[39m\u001b[38;5;241m1\u001b[39m)\n\u001b[0;32m----> 4\u001b[0m tel_time \u001b[38;5;241m=\u001b[39m Time(\u001b[43mtel\u001b[49m\u001b[38;5;241;43m.\u001b[39;49m\u001b[43mprivate_efdStamp\u001b[49m, \u001b[38;5;28mformat\u001b[39m\u001b[38;5;241m=\u001b[39m\u001b[38;5;124m\"\u001b[39m\u001b[38;5;124munix\u001b[39m\u001b[38;5;124m\"\u001b[39m, scale\u001b[38;5;241m=\u001b[39m\u001b[38;5;124m\"\u001b[39m\u001b[38;5;124mutc\u001b[39m\u001b[38;5;124m\"\u001b[39m)\n\u001b[1;32m      5\u001b[0m tel_time\u001b[38;5;241m.\u001b[39mformat \u001b[38;5;241m=\u001b[39m \u001b[38;5;124m\"\u001b[39m\u001b[38;5;124miso\u001b[39m\u001b[38;5;124m\"\u001b[39m\n\u001b[1;32m      6\u001b[0m \u001b[38;5;28mprint\u001b[39m(\u001b[38;5;124mf\u001b[39m\u001b[38;5;124m'\u001b[39m\u001b[38;5;124mLast \u001b[39m\u001b[38;5;132;01m{\u001b[39;00mtopic\u001b[38;5;132;01m}\u001b[39;00m\u001b[38;5;124m telemetry at \u001b[39m\u001b[38;5;132;01m{\u001b[39;00mtel_time[\u001b[38;5;241m0\u001b[39m]\u001b[38;5;132;01m}\u001b[39;00m\u001b[38;5;124m UTC (time now \u001b[39m\u001b[38;5;132;01m{\u001b[39;00mTime\u001b[38;5;241m.\u001b[39mnow()\u001b[38;5;132;01m}\u001b[39;00m\u001b[38;5;124m) was \u001b[39m\u001b[38;5;130;01m\\n\u001b[39;00m\u001b[38;5;130;01m\\n\u001b[39;00m\u001b[38;5;124m \u001b[39m\u001b[38;5;132;01m{\u001b[39;00mtel\u001b[38;5;132;01m}\u001b[39;00m\u001b[38;5;124m'\u001b[39m)\n",
      "File \u001b[0;32m/opt/lsst/software/stack/conda/miniconda3-py38_4.9.2/envs/lsst-scipipe-4.0.1/lib/python3.10/site-packages/pandas/core/generic.py:5575\u001b[0m, in \u001b[0;36mNDFrame.__getattr__\u001b[0;34m(self, name)\u001b[0m\n\u001b[1;32m   5568\u001b[0m \u001b[38;5;28;01mif\u001b[39;00m (\n\u001b[1;32m   5569\u001b[0m     name \u001b[38;5;129;01mnot\u001b[39;00m \u001b[38;5;129;01min\u001b[39;00m \u001b[38;5;28mself\u001b[39m\u001b[38;5;241m.\u001b[39m_internal_names_set\n\u001b[1;32m   5570\u001b[0m     \u001b[38;5;129;01mand\u001b[39;00m name \u001b[38;5;129;01mnot\u001b[39;00m \u001b[38;5;129;01min\u001b[39;00m \u001b[38;5;28mself\u001b[39m\u001b[38;5;241m.\u001b[39m_metadata\n\u001b[1;32m   5571\u001b[0m     \u001b[38;5;129;01mand\u001b[39;00m name \u001b[38;5;129;01mnot\u001b[39;00m \u001b[38;5;129;01min\u001b[39;00m \u001b[38;5;28mself\u001b[39m\u001b[38;5;241m.\u001b[39m_accessors\n\u001b[1;32m   5572\u001b[0m     \u001b[38;5;129;01mand\u001b[39;00m \u001b[38;5;28mself\u001b[39m\u001b[38;5;241m.\u001b[39m_info_axis\u001b[38;5;241m.\u001b[39m_can_hold_identifiers_and_holds_name(name)\n\u001b[1;32m   5573\u001b[0m ):\n\u001b[1;32m   5574\u001b[0m     \u001b[38;5;28;01mreturn\u001b[39;00m \u001b[38;5;28mself\u001b[39m[name]\n\u001b[0;32m-> 5575\u001b[0m \u001b[38;5;28;01mreturn\u001b[39;00m \u001b[38;5;28;43mobject\u001b[39;49m\u001b[38;5;241;43m.\u001b[39;49m\u001b[38;5;21;43m__getattribute__\u001b[39;49m\u001b[43m(\u001b[49m\u001b[38;5;28;43mself\u001b[39;49m\u001b[43m,\u001b[49m\u001b[43m \u001b[49m\u001b[43mname\u001b[49m\u001b[43m)\u001b[49m\n",
      "\u001b[0;31mAttributeError\u001b[0m: 'DataFrame' object has no attribute 'private_efdStamp'"
     ]
    }
   ],
   "source": [
    "await check_telemetry('lsst.sal.CCCamera.fcs')"
   ]
  },
  {
   "cell_type": "markdown",
   "metadata": {},
   "source": [
    "---\n",
    "## 34: Bonn Shutter Device\n",
    "Verify the CCCamera_bonn_shutter_Device telemetry data is being published to the EFD."
   ]
  },
  {
   "cell_type": "code",
   "execution_count": 110,
   "metadata": {},
   "outputs": [
    {
     "data": {
      "text/html": [
       "<pre style=\"margin: 0.1em;\n",
       "padding-left: 0.25em;\n",
       "border-left-style: solid;\n",
       "font-family: var(--jp-code-font-family);\n",
       "font-size: var(--jp-code-font-size);\n",
       "line-height: var(--jp-code-line-height);\n",
       "\"><span style=\"color: var(--jp-warn-color2)\">aioinflux</span> <span style=\"color: var(--jp-success-color0)\">DEBUG</span>: 200: SELECT * FROM &quot;efd&quot;.&quot;autogen&quot;.&quot;lsst.sal.CCCamera.bonn_shutter_Device&quot; GROUP BY * ORDER BY DESC LIMIT 1</pre>"
      ],
      "text/plain": [
       "<IPython.core.display.HTML object>"
      ]
     },
     "metadata": {},
     "output_type": "display_data"
    },
    {
     "ename": "AttributeError",
     "evalue": "'DataFrame' object has no attribute 'private_efdStamp'",
     "output_type": "error",
     "traceback": [
      "\u001b[0;31m---------------------------------------------------------------------------\u001b[0m",
      "\u001b[0;31mAttributeError\u001b[0m                            Traceback (most recent call last)",
      "Input \u001b[0;32mIn [110]\u001b[0m, in \u001b[0;36m<cell line: 1>\u001b[0;34m()\u001b[0m\n\u001b[0;32m----> 1\u001b[0m \u001b[38;5;28;01mawait\u001b[39;00m check_telemetry(\u001b[38;5;124m'\u001b[39m\u001b[38;5;124mlsst.sal.CCCamera.bonn_shutter_Device\u001b[39m\u001b[38;5;124m'\u001b[39m)\n",
      "Input \u001b[0;32mIn [13]\u001b[0m, in \u001b[0;36mcheck_telemetry\u001b[0;34m(topic)\u001b[0m\n\u001b[1;32m      2\u001b[0m \u001b[38;5;124;03m\"\"\" Prints the last EFD published telemetry/event \"\"\"\u001b[39;00m\n\u001b[1;32m      3\u001b[0m tel \u001b[38;5;241m=\u001b[39m \u001b[38;5;28;01mawait\u001b[39;00m client\u001b[38;5;241m.\u001b[39mselect_top_n(topic,\u001b[38;5;124m'\u001b[39m\u001b[38;5;124m*\u001b[39m\u001b[38;5;124m'\u001b[39m,num\u001b[38;5;241m=\u001b[39m\u001b[38;5;241m1\u001b[39m)\n\u001b[0;32m----> 4\u001b[0m tel_time \u001b[38;5;241m=\u001b[39m Time(\u001b[43mtel\u001b[49m\u001b[38;5;241;43m.\u001b[39;49m\u001b[43mprivate_efdStamp\u001b[49m, \u001b[38;5;28mformat\u001b[39m\u001b[38;5;241m=\u001b[39m\u001b[38;5;124m\"\u001b[39m\u001b[38;5;124munix\u001b[39m\u001b[38;5;124m\"\u001b[39m, scale\u001b[38;5;241m=\u001b[39m\u001b[38;5;124m\"\u001b[39m\u001b[38;5;124mutc\u001b[39m\u001b[38;5;124m\"\u001b[39m)\n\u001b[1;32m      5\u001b[0m tel_time\u001b[38;5;241m.\u001b[39mformat \u001b[38;5;241m=\u001b[39m \u001b[38;5;124m\"\u001b[39m\u001b[38;5;124miso\u001b[39m\u001b[38;5;124m\"\u001b[39m\n\u001b[1;32m      6\u001b[0m \u001b[38;5;28mprint\u001b[39m(\u001b[38;5;124mf\u001b[39m\u001b[38;5;124m'\u001b[39m\u001b[38;5;124mLast \u001b[39m\u001b[38;5;132;01m{\u001b[39;00mtopic\u001b[38;5;132;01m}\u001b[39;00m\u001b[38;5;124m telemetry at \u001b[39m\u001b[38;5;132;01m{\u001b[39;00mtel_time[\u001b[38;5;241m0\u001b[39m]\u001b[38;5;132;01m}\u001b[39;00m\u001b[38;5;124m UTC (time now \u001b[39m\u001b[38;5;132;01m{\u001b[39;00mTime\u001b[38;5;241m.\u001b[39mnow()\u001b[38;5;132;01m}\u001b[39;00m\u001b[38;5;124m) was \u001b[39m\u001b[38;5;130;01m\\n\u001b[39;00m\u001b[38;5;130;01m\\n\u001b[39;00m\u001b[38;5;124m \u001b[39m\u001b[38;5;132;01m{\u001b[39;00mtel\u001b[38;5;132;01m}\u001b[39;00m\u001b[38;5;124m'\u001b[39m)\n",
      "File \u001b[0;32m/opt/lsst/software/stack/conda/miniconda3-py38_4.9.2/envs/lsst-scipipe-4.0.1/lib/python3.10/site-packages/pandas/core/generic.py:5575\u001b[0m, in \u001b[0;36mNDFrame.__getattr__\u001b[0;34m(self, name)\u001b[0m\n\u001b[1;32m   5568\u001b[0m \u001b[38;5;28;01mif\u001b[39;00m (\n\u001b[1;32m   5569\u001b[0m     name \u001b[38;5;129;01mnot\u001b[39;00m \u001b[38;5;129;01min\u001b[39;00m \u001b[38;5;28mself\u001b[39m\u001b[38;5;241m.\u001b[39m_internal_names_set\n\u001b[1;32m   5570\u001b[0m     \u001b[38;5;129;01mand\u001b[39;00m name \u001b[38;5;129;01mnot\u001b[39;00m \u001b[38;5;129;01min\u001b[39;00m \u001b[38;5;28mself\u001b[39m\u001b[38;5;241m.\u001b[39m_metadata\n\u001b[1;32m   5571\u001b[0m     \u001b[38;5;129;01mand\u001b[39;00m name \u001b[38;5;129;01mnot\u001b[39;00m \u001b[38;5;129;01min\u001b[39;00m \u001b[38;5;28mself\u001b[39m\u001b[38;5;241m.\u001b[39m_accessors\n\u001b[1;32m   5572\u001b[0m     \u001b[38;5;129;01mand\u001b[39;00m \u001b[38;5;28mself\u001b[39m\u001b[38;5;241m.\u001b[39m_info_axis\u001b[38;5;241m.\u001b[39m_can_hold_identifiers_and_holds_name(name)\n\u001b[1;32m   5573\u001b[0m ):\n\u001b[1;32m   5574\u001b[0m     \u001b[38;5;28;01mreturn\u001b[39;00m \u001b[38;5;28mself\u001b[39m[name]\n\u001b[0;32m-> 5575\u001b[0m \u001b[38;5;28;01mreturn\u001b[39;00m \u001b[38;5;28;43mobject\u001b[39;49m\u001b[38;5;241;43m.\u001b[39;49m\u001b[38;5;21;43m__getattribute__\u001b[39;49m\u001b[43m(\u001b[49m\u001b[38;5;28;43mself\u001b[39;49m\u001b[43m,\u001b[49m\u001b[43m \u001b[49m\u001b[43mname\u001b[49m\u001b[43m)\u001b[49m\n",
      "\u001b[0;31mAttributeError\u001b[0m: 'DataFrame' object has no attribute 'private_efdStamp'"
     ]
    }
   ],
   "source": [
    "await check_telemetry('lsst.sal.CCCamera.bonn_shutter_Device')"
   ]
  },
  {
   "cell_type": "markdown",
   "metadata": {},
   "source": [
    "---\n",
    "## 35: DAQ Monitor Store\n",
    "Verify the CCCamera_daq_monitor_Store telemetry data is being published to the EFD."
   ]
  },
  {
   "cell_type": "code",
   "execution_count": 111,
   "metadata": {},
   "outputs": [
    {
     "data": {
      "text/html": [
       "<pre style=\"margin: 0.1em;\n",
       "padding-left: 0.25em;\n",
       "border-left-style: solid;\n",
       "font-family: var(--jp-code-font-family);\n",
       "font-size: var(--jp-code-font-size);\n",
       "line-height: var(--jp-code-line-height);\n",
       "\"><span style=\"color: var(--jp-warn-color2)\">aioinflux</span> <span style=\"color: var(--jp-success-color0)\">DEBUG</span>: 200: SELECT * FROM &quot;efd&quot;.&quot;autogen&quot;.&quot;lsst.sal.CCCamera.daq_monitor_Store&quot; GROUP BY * ORDER BY DESC LIMIT 1</pre>"
      ],
      "text/plain": [
       "<IPython.core.display.HTML object>"
      ]
     },
     "metadata": {},
     "output_type": "display_data"
    },
    {
     "name": "stdout",
     "output_type": "stream",
     "text": [
      "Last lsst.sal.CCCamera.daq_monitor_Store telemetry at 2022-08-10 17:23:48.271 UTC (time now 2022-08-10 17:23:58.087605) was \n",
      "\n",
      "                                       capacity  freeFraction     freeSpace  \\\n",
      "2022-08-10 17:23:48.270542+00:00  12000.405273      0.959062  11509.126953   \n",
      "\n",
      "                                  private_efdStamp private_identity  \\\n",
      "2022-08-10 17:23:48.270542+00:00      1.660152e+09         CCCamera   \n",
      "\n",
      "                                  private_kafkaStamp  private_origin  \\\n",
      "2022-08-10 17:23:48.270542+00:00        1.660152e+09        89351361   \n",
      "\n",
      "                                  private_rcvStamp private_revCode  \\\n",
      "2022-08-10 17:23:48.270542+00:00      1.660152e+09        41517a25   \n",
      "\n",
      "                                  private_seqNum  private_sndStamp  \n",
      "2022-08-10 17:23:48.270542+00:00            8706      1.660152e+09  \n"
     ]
    }
   ],
   "source": [
    "await check_telemetry('lsst.sal.CCCamera.daq_monitor_Store')"
   ]
  },
  {
   "cell_type": "markdown",
   "metadata": {},
   "source": [
    "---\n",
    "## 36: Rebpower REB\n",
    "Verify the CCCamera_rebpower_Reb telemetry data is being published to the EFD."
   ]
  },
  {
   "cell_type": "code",
   "execution_count": 112,
   "metadata": {},
   "outputs": [
    {
     "data": {
      "text/html": [
       "<pre style=\"margin: 0.1em;\n",
       "padding-left: 0.25em;\n",
       "border-left-style: solid;\n",
       "font-family: var(--jp-code-font-family);\n",
       "font-size: var(--jp-code-font-size);\n",
       "line-height: var(--jp-code-line-height);\n",
       "\"><span style=\"color: var(--jp-warn-color2)\">aioinflux</span> <span style=\"color: var(--jp-success-color0)\">DEBUG</span>: 200: SELECT * FROM &quot;efd&quot;.&quot;autogen&quot;.&quot;lsst.sal.CCCamera.rebpower_Reb&quot; GROUP BY * ORDER BY DESC LIMIT 1</pre>"
      ],
      "text/plain": [
       "<IPython.core.display.HTML object>"
      ]
     },
     "metadata": {},
     "output_type": "display_data"
    },
    {
     "ename": "AttributeError",
     "evalue": "'DataFrame' object has no attribute 'private_efdStamp'",
     "output_type": "error",
     "traceback": [
      "\u001b[0;31m---------------------------------------------------------------------------\u001b[0m",
      "\u001b[0;31mAttributeError\u001b[0m                            Traceback (most recent call last)",
      "Input \u001b[0;32mIn [112]\u001b[0m, in \u001b[0;36m<cell line: 1>\u001b[0;34m()\u001b[0m\n\u001b[0;32m----> 1\u001b[0m \u001b[38;5;28;01mawait\u001b[39;00m check_telemetry(\u001b[38;5;124m'\u001b[39m\u001b[38;5;124mlsst.sal.CCCamera.rebpower_Reb\u001b[39m\u001b[38;5;124m'\u001b[39m)\n",
      "Input \u001b[0;32mIn [13]\u001b[0m, in \u001b[0;36mcheck_telemetry\u001b[0;34m(topic)\u001b[0m\n\u001b[1;32m      2\u001b[0m \u001b[38;5;124;03m\"\"\" Prints the last EFD published telemetry/event \"\"\"\u001b[39;00m\n\u001b[1;32m      3\u001b[0m tel \u001b[38;5;241m=\u001b[39m \u001b[38;5;28;01mawait\u001b[39;00m client\u001b[38;5;241m.\u001b[39mselect_top_n(topic,\u001b[38;5;124m'\u001b[39m\u001b[38;5;124m*\u001b[39m\u001b[38;5;124m'\u001b[39m,num\u001b[38;5;241m=\u001b[39m\u001b[38;5;241m1\u001b[39m)\n\u001b[0;32m----> 4\u001b[0m tel_time \u001b[38;5;241m=\u001b[39m Time(\u001b[43mtel\u001b[49m\u001b[38;5;241;43m.\u001b[39;49m\u001b[43mprivate_efdStamp\u001b[49m, \u001b[38;5;28mformat\u001b[39m\u001b[38;5;241m=\u001b[39m\u001b[38;5;124m\"\u001b[39m\u001b[38;5;124munix\u001b[39m\u001b[38;5;124m\"\u001b[39m, scale\u001b[38;5;241m=\u001b[39m\u001b[38;5;124m\"\u001b[39m\u001b[38;5;124mutc\u001b[39m\u001b[38;5;124m\"\u001b[39m)\n\u001b[1;32m      5\u001b[0m tel_time\u001b[38;5;241m.\u001b[39mformat \u001b[38;5;241m=\u001b[39m \u001b[38;5;124m\"\u001b[39m\u001b[38;5;124miso\u001b[39m\u001b[38;5;124m\"\u001b[39m\n\u001b[1;32m      6\u001b[0m \u001b[38;5;28mprint\u001b[39m(\u001b[38;5;124mf\u001b[39m\u001b[38;5;124m'\u001b[39m\u001b[38;5;124mLast \u001b[39m\u001b[38;5;132;01m{\u001b[39;00mtopic\u001b[38;5;132;01m}\u001b[39;00m\u001b[38;5;124m telemetry at \u001b[39m\u001b[38;5;132;01m{\u001b[39;00mtel_time[\u001b[38;5;241m0\u001b[39m]\u001b[38;5;132;01m}\u001b[39;00m\u001b[38;5;124m UTC (time now \u001b[39m\u001b[38;5;132;01m{\u001b[39;00mTime\u001b[38;5;241m.\u001b[39mnow()\u001b[38;5;132;01m}\u001b[39;00m\u001b[38;5;124m) was \u001b[39m\u001b[38;5;130;01m\\n\u001b[39;00m\u001b[38;5;130;01m\\n\u001b[39;00m\u001b[38;5;124m \u001b[39m\u001b[38;5;132;01m{\u001b[39;00mtel\u001b[38;5;132;01m}\u001b[39;00m\u001b[38;5;124m'\u001b[39m)\n",
      "File \u001b[0;32m/opt/lsst/software/stack/conda/miniconda3-py38_4.9.2/envs/lsst-scipipe-4.0.1/lib/python3.10/site-packages/pandas/core/generic.py:5575\u001b[0m, in \u001b[0;36mNDFrame.__getattr__\u001b[0;34m(self, name)\u001b[0m\n\u001b[1;32m   5568\u001b[0m \u001b[38;5;28;01mif\u001b[39;00m (\n\u001b[1;32m   5569\u001b[0m     name \u001b[38;5;129;01mnot\u001b[39;00m \u001b[38;5;129;01min\u001b[39;00m \u001b[38;5;28mself\u001b[39m\u001b[38;5;241m.\u001b[39m_internal_names_set\n\u001b[1;32m   5570\u001b[0m     \u001b[38;5;129;01mand\u001b[39;00m name \u001b[38;5;129;01mnot\u001b[39;00m \u001b[38;5;129;01min\u001b[39;00m \u001b[38;5;28mself\u001b[39m\u001b[38;5;241m.\u001b[39m_metadata\n\u001b[1;32m   5571\u001b[0m     \u001b[38;5;129;01mand\u001b[39;00m name \u001b[38;5;129;01mnot\u001b[39;00m \u001b[38;5;129;01min\u001b[39;00m \u001b[38;5;28mself\u001b[39m\u001b[38;5;241m.\u001b[39m_accessors\n\u001b[1;32m   5572\u001b[0m     \u001b[38;5;129;01mand\u001b[39;00m \u001b[38;5;28mself\u001b[39m\u001b[38;5;241m.\u001b[39m_info_axis\u001b[38;5;241m.\u001b[39m_can_hold_identifiers_and_holds_name(name)\n\u001b[1;32m   5573\u001b[0m ):\n\u001b[1;32m   5574\u001b[0m     \u001b[38;5;28;01mreturn\u001b[39;00m \u001b[38;5;28mself\u001b[39m[name]\n\u001b[0;32m-> 5575\u001b[0m \u001b[38;5;28;01mreturn\u001b[39;00m \u001b[38;5;28;43mobject\u001b[39;49m\u001b[38;5;241;43m.\u001b[39;49m\u001b[38;5;21;43m__getattribute__\u001b[39;49m\u001b[43m(\u001b[49m\u001b[38;5;28;43mself\u001b[39;49m\u001b[43m,\u001b[49m\u001b[43m \u001b[49m\u001b[43mname\u001b[49m\u001b[43m)\u001b[49m\n",
      "\u001b[0;31mAttributeError\u001b[0m: 'DataFrame' object has no attribute 'private_efdStamp'"
     ]
    }
   ],
   "source": [
    "await check_telemetry('lsst.sal.CCCamera.rebpower_Reb')"
   ]
  },
  {
   "cell_type": "markdown",
   "metadata": {},
   "source": [
    "---\n",
    "## 37: Rebpower REBPS \n",
    "Verify the CCCamera_rebpower_Rebps telemetry data is being published to the EFD."
   ]
  },
  {
   "cell_type": "code",
   "execution_count": 113,
   "metadata": {},
   "outputs": [
    {
     "data": {
      "text/html": [
       "<pre style=\"margin: 0.1em;\n",
       "padding-left: 0.25em;\n",
       "border-left-style: solid;\n",
       "font-family: var(--jp-code-font-family);\n",
       "font-size: var(--jp-code-font-size);\n",
       "line-height: var(--jp-code-line-height);\n",
       "\"><span style=\"color: var(--jp-warn-color2)\">aioinflux</span> <span style=\"color: var(--jp-success-color0)\">DEBUG</span>: 200: SELECT * FROM &quot;efd&quot;.&quot;autogen&quot;.&quot;lsst.sal.CCCamera.rebpower_Rebps&quot; GROUP BY * ORDER BY DESC LIMIT 1</pre>"
      ],
      "text/plain": [
       "<IPython.core.display.HTML object>"
      ]
     },
     "metadata": {},
     "output_type": "display_data"
    },
    {
     "ename": "AttributeError",
     "evalue": "'DataFrame' object has no attribute 'private_efdStamp'",
     "output_type": "error",
     "traceback": [
      "\u001b[0;31m---------------------------------------------------------------------------\u001b[0m",
      "\u001b[0;31mAttributeError\u001b[0m                            Traceback (most recent call last)",
      "Input \u001b[0;32mIn [113]\u001b[0m, in \u001b[0;36m<cell line: 1>\u001b[0;34m()\u001b[0m\n\u001b[0;32m----> 1\u001b[0m \u001b[38;5;28;01mawait\u001b[39;00m check_telemetry(\u001b[38;5;124m'\u001b[39m\u001b[38;5;124mlsst.sal.CCCamera.rebpower_Rebps\u001b[39m\u001b[38;5;124m'\u001b[39m)\n",
      "Input \u001b[0;32mIn [13]\u001b[0m, in \u001b[0;36mcheck_telemetry\u001b[0;34m(topic)\u001b[0m\n\u001b[1;32m      2\u001b[0m \u001b[38;5;124;03m\"\"\" Prints the last EFD published telemetry/event \"\"\"\u001b[39;00m\n\u001b[1;32m      3\u001b[0m tel \u001b[38;5;241m=\u001b[39m \u001b[38;5;28;01mawait\u001b[39;00m client\u001b[38;5;241m.\u001b[39mselect_top_n(topic,\u001b[38;5;124m'\u001b[39m\u001b[38;5;124m*\u001b[39m\u001b[38;5;124m'\u001b[39m,num\u001b[38;5;241m=\u001b[39m\u001b[38;5;241m1\u001b[39m)\n\u001b[0;32m----> 4\u001b[0m tel_time \u001b[38;5;241m=\u001b[39m Time(\u001b[43mtel\u001b[49m\u001b[38;5;241;43m.\u001b[39;49m\u001b[43mprivate_efdStamp\u001b[49m, \u001b[38;5;28mformat\u001b[39m\u001b[38;5;241m=\u001b[39m\u001b[38;5;124m\"\u001b[39m\u001b[38;5;124munix\u001b[39m\u001b[38;5;124m\"\u001b[39m, scale\u001b[38;5;241m=\u001b[39m\u001b[38;5;124m\"\u001b[39m\u001b[38;5;124mutc\u001b[39m\u001b[38;5;124m\"\u001b[39m)\n\u001b[1;32m      5\u001b[0m tel_time\u001b[38;5;241m.\u001b[39mformat \u001b[38;5;241m=\u001b[39m \u001b[38;5;124m\"\u001b[39m\u001b[38;5;124miso\u001b[39m\u001b[38;5;124m\"\u001b[39m\n\u001b[1;32m      6\u001b[0m \u001b[38;5;28mprint\u001b[39m(\u001b[38;5;124mf\u001b[39m\u001b[38;5;124m'\u001b[39m\u001b[38;5;124mLast \u001b[39m\u001b[38;5;132;01m{\u001b[39;00mtopic\u001b[38;5;132;01m}\u001b[39;00m\u001b[38;5;124m telemetry at \u001b[39m\u001b[38;5;132;01m{\u001b[39;00mtel_time[\u001b[38;5;241m0\u001b[39m]\u001b[38;5;132;01m}\u001b[39;00m\u001b[38;5;124m UTC (time now \u001b[39m\u001b[38;5;132;01m{\u001b[39;00mTime\u001b[38;5;241m.\u001b[39mnow()\u001b[38;5;132;01m}\u001b[39;00m\u001b[38;5;124m) was \u001b[39m\u001b[38;5;130;01m\\n\u001b[39;00m\u001b[38;5;130;01m\\n\u001b[39;00m\u001b[38;5;124m \u001b[39m\u001b[38;5;132;01m{\u001b[39;00mtel\u001b[38;5;132;01m}\u001b[39;00m\u001b[38;5;124m'\u001b[39m)\n",
      "File \u001b[0;32m/opt/lsst/software/stack/conda/miniconda3-py38_4.9.2/envs/lsst-scipipe-4.0.1/lib/python3.10/site-packages/pandas/core/generic.py:5575\u001b[0m, in \u001b[0;36mNDFrame.__getattr__\u001b[0;34m(self, name)\u001b[0m\n\u001b[1;32m   5568\u001b[0m \u001b[38;5;28;01mif\u001b[39;00m (\n\u001b[1;32m   5569\u001b[0m     name \u001b[38;5;129;01mnot\u001b[39;00m \u001b[38;5;129;01min\u001b[39;00m \u001b[38;5;28mself\u001b[39m\u001b[38;5;241m.\u001b[39m_internal_names_set\n\u001b[1;32m   5570\u001b[0m     \u001b[38;5;129;01mand\u001b[39;00m name \u001b[38;5;129;01mnot\u001b[39;00m \u001b[38;5;129;01min\u001b[39;00m \u001b[38;5;28mself\u001b[39m\u001b[38;5;241m.\u001b[39m_metadata\n\u001b[1;32m   5571\u001b[0m     \u001b[38;5;129;01mand\u001b[39;00m name \u001b[38;5;129;01mnot\u001b[39;00m \u001b[38;5;129;01min\u001b[39;00m \u001b[38;5;28mself\u001b[39m\u001b[38;5;241m.\u001b[39m_accessors\n\u001b[1;32m   5572\u001b[0m     \u001b[38;5;129;01mand\u001b[39;00m \u001b[38;5;28mself\u001b[39m\u001b[38;5;241m.\u001b[39m_info_axis\u001b[38;5;241m.\u001b[39m_can_hold_identifiers_and_holds_name(name)\n\u001b[1;32m   5573\u001b[0m ):\n\u001b[1;32m   5574\u001b[0m     \u001b[38;5;28;01mreturn\u001b[39;00m \u001b[38;5;28mself\u001b[39m[name]\n\u001b[0;32m-> 5575\u001b[0m \u001b[38;5;28;01mreturn\u001b[39;00m \u001b[38;5;28;43mobject\u001b[39;49m\u001b[38;5;241;43m.\u001b[39;49m\u001b[38;5;21;43m__getattribute__\u001b[39;49m\u001b[43m(\u001b[49m\u001b[38;5;28;43mself\u001b[39;49m\u001b[43m,\u001b[49m\u001b[43m \u001b[49m\u001b[43mname\u001b[49m\u001b[43m)\u001b[49m\n",
      "\u001b[0;31mAttributeError\u001b[0m: 'DataFrame' object has no attribute 'private_efdStamp'"
     ]
    }
   ],
   "source": [
    "await check_telemetry('lsst.sal.CCCamera.rebpower_Rebps')"
   ]
  },
  {
   "cell_type": "markdown",
   "metadata": {},
   "source": [
    "---\n",
    "## 38: Vacumm Cold1\n",
    "Verify the CCCamera_vacuum_Cold1 telemetry data is being published to the EFD."
   ]
  },
  {
   "cell_type": "code",
   "execution_count": 114,
   "metadata": {},
   "outputs": [
    {
     "data": {
      "text/html": [
       "<pre style=\"margin: 0.1em;\n",
       "padding-left: 0.25em;\n",
       "border-left-style: solid;\n",
       "font-family: var(--jp-code-font-family);\n",
       "font-size: var(--jp-code-font-size);\n",
       "line-height: var(--jp-code-line-height);\n",
       "\"><span style=\"color: var(--jp-warn-color2)\">aioinflux</span> <span style=\"color: var(--jp-success-color0)\">DEBUG</span>: 200: SELECT * FROM &quot;efd&quot;.&quot;autogen&quot;.&quot;lsst.sal.CCCamera.vacuum_Cold1&quot; GROUP BY * ORDER BY DESC LIMIT 1</pre>"
      ],
      "text/plain": [
       "<IPython.core.display.HTML object>"
      ]
     },
     "metadata": {},
     "output_type": "display_data"
    },
    {
     "ename": "AttributeError",
     "evalue": "'DataFrame' object has no attribute 'private_efdStamp'",
     "output_type": "error",
     "traceback": [
      "\u001b[0;31m---------------------------------------------------------------------------\u001b[0m",
      "\u001b[0;31mAttributeError\u001b[0m                            Traceback (most recent call last)",
      "Input \u001b[0;32mIn [114]\u001b[0m, in \u001b[0;36m<cell line: 1>\u001b[0;34m()\u001b[0m\n\u001b[0;32m----> 1\u001b[0m \u001b[38;5;28;01mawait\u001b[39;00m check_telemetry(\u001b[38;5;124m'\u001b[39m\u001b[38;5;124mlsst.sal.CCCamera.vacuum_Cold1\u001b[39m\u001b[38;5;124m'\u001b[39m)\n",
      "Input \u001b[0;32mIn [13]\u001b[0m, in \u001b[0;36mcheck_telemetry\u001b[0;34m(topic)\u001b[0m\n\u001b[1;32m      2\u001b[0m \u001b[38;5;124;03m\"\"\" Prints the last EFD published telemetry/event \"\"\"\u001b[39;00m\n\u001b[1;32m      3\u001b[0m tel \u001b[38;5;241m=\u001b[39m \u001b[38;5;28;01mawait\u001b[39;00m client\u001b[38;5;241m.\u001b[39mselect_top_n(topic,\u001b[38;5;124m'\u001b[39m\u001b[38;5;124m*\u001b[39m\u001b[38;5;124m'\u001b[39m,num\u001b[38;5;241m=\u001b[39m\u001b[38;5;241m1\u001b[39m)\n\u001b[0;32m----> 4\u001b[0m tel_time \u001b[38;5;241m=\u001b[39m Time(\u001b[43mtel\u001b[49m\u001b[38;5;241;43m.\u001b[39;49m\u001b[43mprivate_efdStamp\u001b[49m, \u001b[38;5;28mformat\u001b[39m\u001b[38;5;241m=\u001b[39m\u001b[38;5;124m\"\u001b[39m\u001b[38;5;124munix\u001b[39m\u001b[38;5;124m\"\u001b[39m, scale\u001b[38;5;241m=\u001b[39m\u001b[38;5;124m\"\u001b[39m\u001b[38;5;124mutc\u001b[39m\u001b[38;5;124m\"\u001b[39m)\n\u001b[1;32m      5\u001b[0m tel_time\u001b[38;5;241m.\u001b[39mformat \u001b[38;5;241m=\u001b[39m \u001b[38;5;124m\"\u001b[39m\u001b[38;5;124miso\u001b[39m\u001b[38;5;124m\"\u001b[39m\n\u001b[1;32m      6\u001b[0m \u001b[38;5;28mprint\u001b[39m(\u001b[38;5;124mf\u001b[39m\u001b[38;5;124m'\u001b[39m\u001b[38;5;124mLast \u001b[39m\u001b[38;5;132;01m{\u001b[39;00mtopic\u001b[38;5;132;01m}\u001b[39;00m\u001b[38;5;124m telemetry at \u001b[39m\u001b[38;5;132;01m{\u001b[39;00mtel_time[\u001b[38;5;241m0\u001b[39m]\u001b[38;5;132;01m}\u001b[39;00m\u001b[38;5;124m UTC (time now \u001b[39m\u001b[38;5;132;01m{\u001b[39;00mTime\u001b[38;5;241m.\u001b[39mnow()\u001b[38;5;132;01m}\u001b[39;00m\u001b[38;5;124m) was \u001b[39m\u001b[38;5;130;01m\\n\u001b[39;00m\u001b[38;5;130;01m\\n\u001b[39;00m\u001b[38;5;124m \u001b[39m\u001b[38;5;132;01m{\u001b[39;00mtel\u001b[38;5;132;01m}\u001b[39;00m\u001b[38;5;124m'\u001b[39m)\n",
      "File \u001b[0;32m/opt/lsst/software/stack/conda/miniconda3-py38_4.9.2/envs/lsst-scipipe-4.0.1/lib/python3.10/site-packages/pandas/core/generic.py:5575\u001b[0m, in \u001b[0;36mNDFrame.__getattr__\u001b[0;34m(self, name)\u001b[0m\n\u001b[1;32m   5568\u001b[0m \u001b[38;5;28;01mif\u001b[39;00m (\n\u001b[1;32m   5569\u001b[0m     name \u001b[38;5;129;01mnot\u001b[39;00m \u001b[38;5;129;01min\u001b[39;00m \u001b[38;5;28mself\u001b[39m\u001b[38;5;241m.\u001b[39m_internal_names_set\n\u001b[1;32m   5570\u001b[0m     \u001b[38;5;129;01mand\u001b[39;00m name \u001b[38;5;129;01mnot\u001b[39;00m \u001b[38;5;129;01min\u001b[39;00m \u001b[38;5;28mself\u001b[39m\u001b[38;5;241m.\u001b[39m_metadata\n\u001b[1;32m   5571\u001b[0m     \u001b[38;5;129;01mand\u001b[39;00m name \u001b[38;5;129;01mnot\u001b[39;00m \u001b[38;5;129;01min\u001b[39;00m \u001b[38;5;28mself\u001b[39m\u001b[38;5;241m.\u001b[39m_accessors\n\u001b[1;32m   5572\u001b[0m     \u001b[38;5;129;01mand\u001b[39;00m \u001b[38;5;28mself\u001b[39m\u001b[38;5;241m.\u001b[39m_info_axis\u001b[38;5;241m.\u001b[39m_can_hold_identifiers_and_holds_name(name)\n\u001b[1;32m   5573\u001b[0m ):\n\u001b[1;32m   5574\u001b[0m     \u001b[38;5;28;01mreturn\u001b[39;00m \u001b[38;5;28mself\u001b[39m[name]\n\u001b[0;32m-> 5575\u001b[0m \u001b[38;5;28;01mreturn\u001b[39;00m \u001b[38;5;28;43mobject\u001b[39;49m\u001b[38;5;241;43m.\u001b[39;49m\u001b[38;5;21;43m__getattribute__\u001b[39;49m\u001b[43m(\u001b[49m\u001b[38;5;28;43mself\u001b[39;49m\u001b[43m,\u001b[49m\u001b[43m \u001b[49m\u001b[43mname\u001b[49m\u001b[43m)\u001b[49m\n",
      "\u001b[0;31mAttributeError\u001b[0m: 'DataFrame' object has no attribute 'private_efdStamp'"
     ]
    }
   ],
   "source": [
    "await check_telemetry('lsst.sal.CCCamera.vacuum_Cold1')"
   ]
  },
  {
   "cell_type": "markdown",
   "metadata": {},
   "source": [
    "---\n",
    "## 39: Vacuum Cold2 \n",
    "Verify the CCCamera_vacuum_Cold2 telemetry data is being published to the EFD."
   ]
  },
  {
   "cell_type": "code",
   "execution_count": null,
   "metadata": {},
   "outputs": [],
   "source": [
    "await check_telemetry('lsst.sal.CCCamera.vacuum_Cold2')"
   ]
  },
  {
   "cell_type": "markdown",
   "metadata": {},
   "source": [
    "---\n",
    "## 40: Vacuum Cryo \n",
    "Verify the CCCamera_vacuum_Cryo telemetry data is being published to the EFD."
   ]
  },
  {
   "cell_type": "code",
   "execution_count": null,
   "metadata": {},
   "outputs": [],
   "source": [
    "await check_telemetry('lsst.sal.CCCamera.vacuum_Cryo')"
   ]
  },
  {
   "cell_type": "markdown",
   "metadata": {},
   "source": [
    "---\n",
    "## 41: Vacuum IonPumps\n",
    "Verify the CCCamera_vacuum_IonPumps telemetry data is being published to the EFD."
   ]
  },
  {
   "cell_type": "code",
   "execution_count": null,
   "metadata": {},
   "outputs": [],
   "source": [
    "await check_telemetry('lsst.sal.CCCamera.vacuum_IonPumps')"
   ]
  },
  {
   "cell_type": "markdown",
   "metadata": {},
   "source": [
    "---\n",
    "## 42: Vacuum RTDS\n",
    "Verify the CCCamera_vacuum_Rtds telemetry data is being published to the EFD."
   ]
  },
  {
   "cell_type": "code",
   "execution_count": null,
   "metadata": {},
   "outputs": [],
   "source": [
    "await check_telemetry('lsst.sal.CCCamera.vacuum_Rtds')"
   ]
  },
  {
   "cell_type": "markdown",
   "metadata": {},
   "source": [
    "---\n",
    "## 43: Vacuum Turbo\n",
    "Verify the CCCamera_vacuum_Turbo telemetry data is being published to the EFD."
   ]
  },
  {
   "cell_type": "code",
   "execution_count": null,
   "metadata": {},
   "outputs": [],
   "source": [
    "await check_telemetry('lsst.sal.CCCamera.vacuum_Turbo')"
   ]
  },
  {
   "cell_type": "markdown",
   "metadata": {},
   "source": [
    "---\n",
    "## 44: Vacuum VQMonitor\n",
    "Verify the CCCamera_vacuum_VQMonitor telemetry data is being published to the EFD."
   ]
  },
  {
   "cell_type": "code",
   "execution_count": null,
   "metadata": {},
   "outputs": [],
   "source": [
    "await check_telemetry('lsst.sal.CCCamera.vacuum_VQMonitor')"
   ]
  },
  {
   "cell_type": "markdown",
   "metadata": {},
   "source": [
    "---\n",
    "## 45: Quadbox BFR\n",
    "Verify the CCCamera_quadbox_BFR telemetry data is being published to the EFD."
   ]
  },
  {
   "cell_type": "code",
   "execution_count": 115,
   "metadata": {},
   "outputs": [
    {
     "data": {
      "text/html": [
       "<pre style=\"margin: 0.1em;\n",
       "padding-left: 0.25em;\n",
       "border-left-style: solid;\n",
       "font-family: var(--jp-code-font-family);\n",
       "font-size: var(--jp-code-font-size);\n",
       "line-height: var(--jp-code-line-height);\n",
       "\"><span style=\"color: var(--jp-warn-color2)\">aioinflux</span> <span style=\"color: var(--jp-success-color0)\">DEBUG</span>: 200: SELECT * FROM &quot;efd&quot;.&quot;autogen&quot;.&quot;lsst.sal.CCCamera.quadbox_BFR&quot; GROUP BY * ORDER BY DESC LIMIT 1</pre>"
      ],
      "text/plain": [
       "<IPython.core.display.HTML object>"
      ]
     },
     "metadata": {},
     "output_type": "display_data"
    },
    {
     "ename": "AttributeError",
     "evalue": "'DataFrame' object has no attribute 'private_efdStamp'",
     "output_type": "error",
     "traceback": [
      "\u001b[0;31m---------------------------------------------------------------------------\u001b[0m",
      "\u001b[0;31mAttributeError\u001b[0m                            Traceback (most recent call last)",
      "Input \u001b[0;32mIn [115]\u001b[0m, in \u001b[0;36m<cell line: 1>\u001b[0;34m()\u001b[0m\n\u001b[0;32m----> 1\u001b[0m \u001b[38;5;28;01mawait\u001b[39;00m check_telemetry(\u001b[38;5;124m'\u001b[39m\u001b[38;5;124mlsst.sal.CCCamera.quadbox_BFR\u001b[39m\u001b[38;5;124m'\u001b[39m)\n",
      "Input \u001b[0;32mIn [13]\u001b[0m, in \u001b[0;36mcheck_telemetry\u001b[0;34m(topic)\u001b[0m\n\u001b[1;32m      2\u001b[0m \u001b[38;5;124;03m\"\"\" Prints the last EFD published telemetry/event \"\"\"\u001b[39;00m\n\u001b[1;32m      3\u001b[0m tel \u001b[38;5;241m=\u001b[39m \u001b[38;5;28;01mawait\u001b[39;00m client\u001b[38;5;241m.\u001b[39mselect_top_n(topic,\u001b[38;5;124m'\u001b[39m\u001b[38;5;124m*\u001b[39m\u001b[38;5;124m'\u001b[39m,num\u001b[38;5;241m=\u001b[39m\u001b[38;5;241m1\u001b[39m)\n\u001b[0;32m----> 4\u001b[0m tel_time \u001b[38;5;241m=\u001b[39m Time(\u001b[43mtel\u001b[49m\u001b[38;5;241;43m.\u001b[39;49m\u001b[43mprivate_efdStamp\u001b[49m, \u001b[38;5;28mformat\u001b[39m\u001b[38;5;241m=\u001b[39m\u001b[38;5;124m\"\u001b[39m\u001b[38;5;124munix\u001b[39m\u001b[38;5;124m\"\u001b[39m, scale\u001b[38;5;241m=\u001b[39m\u001b[38;5;124m\"\u001b[39m\u001b[38;5;124mutc\u001b[39m\u001b[38;5;124m\"\u001b[39m)\n\u001b[1;32m      5\u001b[0m tel_time\u001b[38;5;241m.\u001b[39mformat \u001b[38;5;241m=\u001b[39m \u001b[38;5;124m\"\u001b[39m\u001b[38;5;124miso\u001b[39m\u001b[38;5;124m\"\u001b[39m\n\u001b[1;32m      6\u001b[0m \u001b[38;5;28mprint\u001b[39m(\u001b[38;5;124mf\u001b[39m\u001b[38;5;124m'\u001b[39m\u001b[38;5;124mLast \u001b[39m\u001b[38;5;132;01m{\u001b[39;00mtopic\u001b[38;5;132;01m}\u001b[39;00m\u001b[38;5;124m telemetry at \u001b[39m\u001b[38;5;132;01m{\u001b[39;00mtel_time[\u001b[38;5;241m0\u001b[39m]\u001b[38;5;132;01m}\u001b[39;00m\u001b[38;5;124m UTC (time now \u001b[39m\u001b[38;5;132;01m{\u001b[39;00mTime\u001b[38;5;241m.\u001b[39mnow()\u001b[38;5;132;01m}\u001b[39;00m\u001b[38;5;124m) was \u001b[39m\u001b[38;5;130;01m\\n\u001b[39;00m\u001b[38;5;130;01m\\n\u001b[39;00m\u001b[38;5;124m \u001b[39m\u001b[38;5;132;01m{\u001b[39;00mtel\u001b[38;5;132;01m}\u001b[39;00m\u001b[38;5;124m'\u001b[39m)\n",
      "File \u001b[0;32m/opt/lsst/software/stack/conda/miniconda3-py38_4.9.2/envs/lsst-scipipe-4.0.1/lib/python3.10/site-packages/pandas/core/generic.py:5575\u001b[0m, in \u001b[0;36mNDFrame.__getattr__\u001b[0;34m(self, name)\u001b[0m\n\u001b[1;32m   5568\u001b[0m \u001b[38;5;28;01mif\u001b[39;00m (\n\u001b[1;32m   5569\u001b[0m     name \u001b[38;5;129;01mnot\u001b[39;00m \u001b[38;5;129;01min\u001b[39;00m \u001b[38;5;28mself\u001b[39m\u001b[38;5;241m.\u001b[39m_internal_names_set\n\u001b[1;32m   5570\u001b[0m     \u001b[38;5;129;01mand\u001b[39;00m name \u001b[38;5;129;01mnot\u001b[39;00m \u001b[38;5;129;01min\u001b[39;00m \u001b[38;5;28mself\u001b[39m\u001b[38;5;241m.\u001b[39m_metadata\n\u001b[1;32m   5571\u001b[0m     \u001b[38;5;129;01mand\u001b[39;00m name \u001b[38;5;129;01mnot\u001b[39;00m \u001b[38;5;129;01min\u001b[39;00m \u001b[38;5;28mself\u001b[39m\u001b[38;5;241m.\u001b[39m_accessors\n\u001b[1;32m   5572\u001b[0m     \u001b[38;5;129;01mand\u001b[39;00m \u001b[38;5;28mself\u001b[39m\u001b[38;5;241m.\u001b[39m_info_axis\u001b[38;5;241m.\u001b[39m_can_hold_identifiers_and_holds_name(name)\n\u001b[1;32m   5573\u001b[0m ):\n\u001b[1;32m   5574\u001b[0m     \u001b[38;5;28;01mreturn\u001b[39;00m \u001b[38;5;28mself\u001b[39m[name]\n\u001b[0;32m-> 5575\u001b[0m \u001b[38;5;28;01mreturn\u001b[39;00m \u001b[38;5;28;43mobject\u001b[39;49m\u001b[38;5;241;43m.\u001b[39;49m\u001b[38;5;21;43m__getattribute__\u001b[39;49m\u001b[43m(\u001b[49m\u001b[38;5;28;43mself\u001b[39;49m\u001b[43m,\u001b[49m\u001b[43m \u001b[49m\u001b[43mname\u001b[49m\u001b[43m)\u001b[49m\n",
      "\u001b[0;31mAttributeError\u001b[0m: 'DataFrame' object has no attribute 'private_efdStamp'"
     ]
    }
   ],
   "source": [
    "await check_telemetry('lsst.sal.CCCamera.quadbox_BFR')"
   ]
  },
  {
   "cell_type": "markdown",
   "metadata": {},
   "source": [
    "---\n",
    "## 46: Quadbox PDU 24VD \n",
    "Verify the CCCamera_quadbox_PDU_24VD telemetry data is being published to the EFD."
   ]
  },
  {
   "cell_type": "code",
   "execution_count": null,
   "metadata": {},
   "outputs": [],
   "source": [
    "await check_telemetry('lsst.sal.CCCamera.quadbox_PDU_24VD')"
   ]
  },
  {
   "cell_type": "markdown",
   "metadata": {},
   "source": [
    "---\n",
    "## 47: Quadbox PDF 24VDC\n",
    "Verify the CCCamera_quadbox_PDU_24VDC telemetry data is being published to the EFD."
   ]
  },
  {
   "cell_type": "code",
   "execution_count": null,
   "metadata": {},
   "outputs": [],
   "source": [
    "await check_telemetry('lsst.sal.CCCamera.quadbox_PDU_24VC')"
   ]
  },
  {
   "cell_type": "markdown",
   "metadata": {},
   "source": [
    "---\n",
    "## 48: Quadbox PDU 48V \n",
    "Verify the CCCamera_quadbox_PDU_48V telemetry data is being published to the EFD."
   ]
  },
  {
   "cell_type": "code",
   "execution_count": null,
   "metadata": {},
   "outputs": [],
   "source": [
    "await check_telemetry('lsst.sal.CCCamera.quadbox_PDU_48V')"
   ]
  },
  {
   "cell_type": "markdown",
   "metadata": {},
   "source": [
    "---\n",
    "## 49: Quadbox PDU 5V \n",
    "Verify the CCCamera_quadbox_PDU_5V telemetry data is being published to the EFD."
   ]
  },
  {
   "cell_type": "code",
   "execution_count": null,
   "metadata": {},
   "outputs": [],
   "source": [
    "await check_telemetry('lsst.sal.CCCamera.quadbox_PDU_5V')"
   ]
  },
  {
   "cell_type": "markdown",
   "metadata": {},
   "source": [
    "---\n",
    "## 50: Focal Place CCD \n",
    "Verify the CCCamera_focal_plane_Ccd telemetry data is being published to the EFD."
   ]
  },
  {
   "cell_type": "code",
   "execution_count": null,
   "metadata": {},
   "outputs": [],
   "source": [
    "await check_telemetry('lsst.sal.CCCamera.focal_plane_Ccd')"
   ]
  },
  {
   "cell_type": "markdown",
   "metadata": {},
   "source": [
    "---\n",
    "## 51: Focal Plane Reb\n",
    "Verify the CCCamera_focal_plane_Reb telemetry data is being published to the EFD."
   ]
  },
  {
   "cell_type": "code",
   "execution_count": 116,
   "metadata": {},
   "outputs": [
    {
     "data": {
      "text/html": [
       "<pre style=\"margin: 0.1em;\n",
       "padding-left: 0.25em;\n",
       "border-left-style: solid;\n",
       "font-family: var(--jp-code-font-family);\n",
       "font-size: var(--jp-code-font-size);\n",
       "line-height: var(--jp-code-line-height);\n",
       "\"><span style=\"color: var(--jp-warn-color2)\">aioinflux</span> <span style=\"color: var(--jp-success-color0)\">DEBUG</span>: 200: SELECT * FROM &quot;efd&quot;.&quot;autogen&quot;.&quot;lsst.sal.CCCamera.focal_plane_Reb&quot; GROUP BY * ORDER BY DESC LIMIT 1</pre>"
      ],
      "text/plain": [
       "<IPython.core.display.HTML object>"
      ]
     },
     "metadata": {},
     "output_type": "display_data"
    },
    {
     "name": "stdout",
     "output_type": "stream",
     "text": [
      "Last lsst.sal.CCCamera.focal_plane_Reb telemetry at 2022-08-10 17:24:26.443 UTC (time now 2022-08-10 17:24:28.003491) was \n",
      "\n",
      "                                  anaI0 anaI1 anaI2 anaV0 anaV1 anaV2  \\\n",
      "2022-08-10 17:24:26.442640+00:00  None  None  None  None  None  None   \n",
      "\n",
      "                                 aspicl_Temp00  aspicl_Temp01 aspicl_Temp02  \\\n",
      "2022-08-10 17:24:26.442640+00:00          None     442.321442          None   \n",
      "\n",
      "                                 aspicl_Temp10  ...  temp62 temp70 temp71  \\\n",
      "2022-08-10 17:24:26.442640+00:00          None  ...    None   None   None   \n",
      "\n",
      "                                  temp72 temp80 temp81  temp82 temp90 temp91  \\\n",
      "2022-08-10 17:24:26.442640+00:00    None   None   None    None   None   None   \n",
      "\n",
      "                                  temp92  \n",
      "2022-08-10 17:24:26.442640+00:00    None  \n",
      "\n",
      "[1 rows x 138 columns]\n"
     ]
    }
   ],
   "source": [
    "await check_telemetry('lsst.sal.CCCamera.focal_plane_Reb')"
   ]
  },
  {
   "cell_type": "markdown",
   "metadata": {},
   "source": [
    "---\n",
    "## 52: Focal Plane Reb Total Power\n",
    "Verify the CCCamera_focal_plane_RebTotalPower telemetry data is being published to the EFD."
   ]
  },
  {
   "cell_type": "code",
   "execution_count": null,
   "metadata": {},
   "outputs": [],
   "source": [
    "await check_telemetry('lsst.sal.CCCamera.focal_plane_RebTotalPower')"
   ]
  },
  {
   "cell_type": "markdown",
   "metadata": {},
   "source": [
    "---\n",
    "## 53: Focal Plane Segment\n",
    "Verify the CCCamera_focal_plane_Segment telemetry data is being published to the EFD."
   ]
  },
  {
   "cell_type": "code",
   "execution_count": null,
   "metadata": {},
   "outputs": [],
   "source": [
    "await check_telemetry('lsst.sal.CCCamera.focal_plane_Segment')"
   ]
  },
  {
   "cell_type": "code",
   "execution_count": 117,
   "metadata": {},
   "outputs": [
    {
     "data": {
      "text/html": [
       "<pre style=\"margin: 0.1em;\n",
       "padding-left: 0.25em;\n",
       "border-left-style: solid;\n",
       "font-family: var(--jp-code-font-family);\n",
       "font-size: var(--jp-code-font-size);\n",
       "line-height: var(--jp-code-line-height);\n",
       "\"><span style=\"color: var(--jp-warn-color2)\">Script</span> <span style=\"color: var(--jp-info-color0)\">INFO</span>: STOP- LVV-T2219 ComCam Interface to SAL</pre>"
      ],
      "text/plain": [
       "<IPython.core.display.HTML object>"
      ]
     },
     "metadata": {},
     "output_type": "display_data"
    }
   ],
   "source": [
    "script.log.info(f\"STOP- {test_message}\")"
   ]
  }
 ],
 "metadata": {
  "kernelspec": {
   "display_name": "LSST",
   "language": "python",
   "name": "lsst"
  },
  "language_info": {
   "codemirror_mode": {
    "name": "ipython",
    "version": 3
   },
   "file_extension": ".py",
   "mimetype": "text/x-python",
   "name": "python",
   "nbconvert_exporter": "python",
   "pygments_lexer": "ipython3",
   "version": "3.10.5"
  }
 },
 "nbformat": 4,
 "nbformat_minor": 4
}
