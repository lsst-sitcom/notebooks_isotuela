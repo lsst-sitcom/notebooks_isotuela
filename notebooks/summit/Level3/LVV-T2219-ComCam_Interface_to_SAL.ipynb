{
 "cells": [
  {
   "cell_type": "markdown",
   "metadata": {},
   "source": [
    "# Test Case LVV-T2219\n",
    "The objective of this test case is to verify the ComCam communication interface with SAL by testing the commands, events and telemetry defined by the latest version of the XML. This test case will exercise the functionality of the ComCam on the 3rd level of the Summit and meets the following criteria:\n",
    "\n",
    "    Only requires the ComCam to be operational\n",
    "    Does not require any communication with other subsystems\n",
    "    Does require the use of SAL and the EFD\n",
    "    \n"
   ]
  },
  {
   "cell_type": "markdown",
   "metadata": {},
   "source": [
    "## Setup"
   ]
  },
  {
   "cell_type": "code",
   "execution_count": 1,
   "metadata": {},
   "outputs": [
    {
     "data": {
      "text/html": [
       "<pre style=\"margin: 0.1em;\n",
       "padding-left: 0.25em;\n",
       "border-left-style: solid;\n",
       "font-family: var(--jp-code-font-family);\n",
       "font-size: var(--jp-code-font-size);\n",
       "line-height: var(--jp-code-line-height);\n",
       "\"><span style=\"color: var(--jp-warn-color2)\">lsst.ts.utils.tai</span> <span style=\"color: var(--jp-info-color0)\">INFO</span>: Update leap second table</pre>"
      ],
      "text/plain": [
       "<IPython.core.display.HTML object>"
      ]
     },
     "metadata": {},
     "output_type": "display_data"
    },
    {
     "data": {
      "text/html": [
       "<pre style=\"margin: 0.1em;\n",
       "padding-left: 0.25em;\n",
       "border-left-style: solid;\n",
       "font-family: var(--jp-code-font-family);\n",
       "font-size: var(--jp-code-font-size);\n",
       "line-height: var(--jp-code-line-height);\n",
       "\"><span style=\"color: var(--jp-warn-color2)\">lsst.ts.utils.tai</span> <span style=\"color: var(--jp-info-color0)\">INFO</span>: current_tai uses the system TAI clock</pre>"
      ],
      "text/plain": [
       "<IPython.core.display.HTML object>"
      ]
     },
     "metadata": {},
     "output_type": "display_data"
    },
    {
     "name": "stdout",
     "output_type": "stream",
     "text": [
      "\n",
      "Executed by isotuela on 2022-07-08T16:54:32.642.\n",
      "  At the summit? False\n"
     ]
    }
   ],
   "source": [
    "from lsst.ts import utils\n",
    "\n",
    "# Extract your name from the Jupyter Hub\n",
    "__executed_by__ = os.environ[\"JUPYTERHUB_USER\"]  \n",
    "\n",
    "# Extract execution date\n",
    "__executed_on__ = utils.astropy_time_from_tai_unix(utils.current_tai())\n",
    "__executed_on__.format = \"isot\"\n",
    "\n",
    "# This is used later to define where Butler stores the images\n",
    "summit = os.environ[\"LSST_DDS_PARTITION_PREFIX\"] == \"summit\"\n",
    "\n",
    "print(f\"\\nExecuted by {__executed_by__} on {__executed_on__}.\"\n",
    "      f\"\\n  At the summit? {summit}\")"
   ]
  },
  {
   "cell_type": "code",
   "execution_count": 2,
   "metadata": {},
   "outputs": [],
   "source": [
    "from lsst.ts import salobj\n",
    "import logging\n",
    "import asyncio\n",
    "import os\n",
    "import yaml\n",
    "\n",
    "import numpy as np\n",
    "from matplotlib import pyplot as plt\n",
    "from astropy.time import Time\n",
    "from datetime import datetime, timedelta\n",
    "import pandas as pd\n",
    "import astropy.units as u\n",
    "\n",
    "from lsst.ts.observing.utilities.decorated_logger import DecoratedLogger\n",
    "from lsst_efd_client import EfdClient\n",
    "\n",
    "from lsst.ts.observatory.control.maintel import ComCam"
   ]
  },
  {
   "cell_type": "markdown",
   "metadata": {},
   "source": [
    "The following block sets the necessary environment variables for setting up the DDS/SAL communication"
   ]
  },
  {
   "cell_type": "code",
   "execution_count": 3,
   "metadata": {},
   "outputs": [],
   "source": [
    "os.environ[\"LSST_DDS_HISTORYSYNC\"] = \"30\""
   ]
  },
  {
   "cell_type": "markdown",
   "metadata": {},
   "source": [
    "Setting up logger"
   ]
  },
  {
   "cell_type": "code",
   "execution_count": 4,
   "metadata": {},
   "outputs": [],
   "source": [
    "logger = DecoratedLogger.get_decorated_logger()\n",
    "logger.level = logging.DEBUG"
   ]
  },
  {
   "cell_type": "markdown",
   "metadata": {},
   "source": [
    "Getting unique index for Script"
   ]
  },
  {
   "cell_type": "code",
   "execution_count": 5,
   "metadata": {},
   "outputs": [
    {
     "data": {
      "text/html": [
       "<pre style=\"margin: 0.1em;\n",
       "padding-left: 0.25em;\n",
       "border-left-style: solid;\n",
       "font-family: var(--jp-code-font-family);\n",
       "font-size: var(--jp-code-font-size);\n",
       "line-height: var(--jp-code-line-height);\n",
       "\"><span style=\"color: var(--jp-warn-color2)\">root</span> <span style=\"color: var(--jp-info-color0)\">INFO</span>: Your UID is 87160242</pre>"
      ],
      "text/plain": [
       "<IPython.core.display.HTML object>"
      ]
     },
     "metadata": {},
     "output_type": "display_data"
    },
    {
     "data": {
      "text/html": [
       "<pre style=\"margin: 0.1em;\n",
       "padding-left: 0.25em;\n",
       "border-left-style: solid;\n",
       "font-family: var(--jp-code-font-family);\n",
       "font-size: var(--jp-code-font-size);\n",
       "line-height: var(--jp-code-line-height);\n",
       "\"><span style=\"color: var(--jp-warn-color2)\">root</span> <span style=\"color: var(--jp-info-color0)\">INFO</span>: The generated index is 871602422</pre>"
      ],
      "text/plain": [
       "<IPython.core.display.HTML object>"
      ]
     },
     "metadata": {},
     "output_type": "display_data"
    }
   ],
   "source": [
    "logger.info(f'Your UID is {os.getuid()}')\n",
    "index = os.getuid() * 10 + np.random.randint(0, 9)\n",
    "\n",
    "logger.info(f'The generated index is {index}')"
   ]
  },
  {
   "cell_type": "markdown",
   "metadata": {},
   "source": [
    "Make sure DDS Daemon is running and startup Domain"
   ]
  },
  {
   "cell_type": "code",
   "execution_count": 6,
   "metadata": {},
   "outputs": [],
   "source": [
    "domain = salobj.Domain()"
   ]
  },
  {
   "cell_type": "markdown",
   "metadata": {},
   "source": [
    "Instantiate script for logging into EFD and start script task"
   ]
  },
  {
   "cell_type": "code",
   "execution_count": 7,
   "metadata": {},
   "outputs": [
    {
     "data": {
      "text/html": [
       "<pre style=\"margin: 0.1em;\n",
       "padding-left: 0.25em;\n",
       "border-left-style: solid;\n",
       "font-family: var(--jp-code-font-family);\n",
       "font-size: var(--jp-code-font-size);\n",
       "line-height: var(--jp-code-line-height);\n",
       "\"><span style=\"color: var(--jp-warn-color2)\">Script</span> <span style=\"color: var(--jp-info-color0)\">INFO</span>: Disabling authlist-based command authorization</pre>"
      ],
      "text/plain": [
       "<IPython.core.display.HTML object>"
      ]
     },
     "metadata": {},
     "output_type": "display_data"
    },
    {
     "data": {
      "text/html": [
       "<pre style=\"margin: 0.1em;\n",
       "padding-left: 0.25em;\n",
       "border-left-style: solid;\n",
       "font-family: var(--jp-code-font-family);\n",
       "font-size: var(--jp-code-font-size);\n",
       "line-height: var(--jp-code-line-height);\n",
       "\"><span style=\"color: var(--jp-warn-color2)\">Script</span> <span style=\"color: var(--jp-info-color0)\">INFO</span>: Read historical data in 0.00 sec</pre>"
      ],
      "text/plain": [
       "<IPython.core.display.HTML object>"
      ]
     },
     "metadata": {},
     "output_type": "display_data"
    }
   ],
   "source": [
    "test_message = \"LVV-T2219 ComCam Interface to SAL\"\n",
    "script = salobj.Controller(\"Script\", index=index)\n",
    "await script.start_task"
   ]
  },
  {
   "cell_type": "markdown",
   "metadata": {},
   "source": [
    "EFD setup"
   ]
  },
  {
   "cell_type": "code",
   "execution_count": 8,
   "metadata": {},
   "outputs": [
    {
     "data": {
      "text/html": [
       "<pre style=\"margin: 0.1em;\n",
       "padding-left: 0.25em;\n",
       "border-left-style: solid;\n",
       "font-family: var(--jp-code-font-family);\n",
       "font-size: var(--jp-code-font-size);\n",
       "line-height: var(--jp-code-line-height);\n",
       "\"><span style=\"color: var(--jp-warn-color2)\">urllib3.connectionpool</span> <span style=\"color: var(--jp-success-color0)\">DEBUG</span>: Starting new HTTPS connection (1): roundtable.lsst.codes:443</pre>"
      ],
      "text/plain": [
       "<IPython.core.display.HTML object>"
      ]
     },
     "metadata": {},
     "output_type": "display_data"
    },
    {
     "data": {
      "text/html": [
       "<pre style=\"margin: 0.1em;\n",
       "padding-left: 0.25em;\n",
       "border-left-style: solid;\n",
       "font-family: var(--jp-code-font-family);\n",
       "font-size: var(--jp-code-font-size);\n",
       "line-height: var(--jp-code-line-height);\n",
       "\"><span style=\"color: var(--jp-warn-color2)\">urllib3.connectionpool</span> <span style=\"color: var(--jp-success-color0)\">DEBUG</span>: https://roundtable.lsst.codes:443 &quot;GET /segwarides/ HTTP/1.1&quot; 200 253</pre>"
      ],
      "text/plain": [
       "<IPython.core.display.HTML object>"
      ]
     },
     "metadata": {},
     "output_type": "display_data"
    },
    {
     "data": {
      "text/html": [
       "<pre style=\"margin: 0.1em;\n",
       "padding-left: 0.25em;\n",
       "border-left-style: solid;\n",
       "font-family: var(--jp-code-font-family);\n",
       "font-size: var(--jp-code-font-size);\n",
       "line-height: var(--jp-code-line-height);\n",
       "\"><span style=\"color: var(--jp-warn-color2)\">urllib3.connectionpool</span> <span style=\"color: var(--jp-success-color0)\">DEBUG</span>: Starting new HTTPS connection (1): roundtable.lsst.codes:443</pre>"
      ],
      "text/plain": [
       "<IPython.core.display.HTML object>"
      ]
     },
     "metadata": {},
     "output_type": "display_data"
    },
    {
     "data": {
      "text/html": [
       "<pre style=\"margin: 0.1em;\n",
       "padding-left: 0.25em;\n",
       "border-left-style: solid;\n",
       "font-family: var(--jp-code-font-family);\n",
       "font-size: var(--jp-code-font-size);\n",
       "line-height: var(--jp-code-line-height);\n",
       "\"><span style=\"color: var(--jp-warn-color2)\">urllib3.connectionpool</span> <span style=\"color: var(--jp-success-color0)\">DEBUG</span>: https://roundtable.lsst.codes:443 &quot;GET /segwarides/creds/summit_efd HTTP/1.1&quot; 200 177</pre>"
      ],
      "text/plain": [
       "<IPython.core.display.HTML object>"
      ]
     },
     "metadata": {},
     "output_type": "display_data"
    },
    {
     "data": {
      "text/html": [
       "<pre style=\"margin: 0.1em;\n",
       "padding-left: 0.25em;\n",
       "border-left-style: solid;\n",
       "font-family: var(--jp-code-font-family);\n",
       "font-size: var(--jp-code-font-size);\n",
       "line-height: var(--jp-code-line-height);\n",
       "\"><span style=\"color: var(--jp-warn-color2)\">urllib3.connectionpool</span> <span style=\"color: var(--jp-success-color0)\">DEBUG</span>: Starting new HTTPS connection (1): influxdb-summit-efd.lsst.codes:30828</pre>"
      ],
      "text/plain": [
       "<IPython.core.display.HTML object>"
      ]
     },
     "metadata": {},
     "output_type": "display_data"
    },
    {
     "data": {
      "text/html": [
       "<pre style=\"margin: 0.1em;\n",
       "padding-left: 0.25em;\n",
       "border-left-style: solid;\n",
       "font-family: var(--jp-code-font-family);\n",
       "font-size: var(--jp-code-font-size);\n",
       "line-height: var(--jp-code-line-height);\n",
       "\"><span style=\"color: var(--jp-warn-color2)\">urllib3.connectionpool</span> <span style=\"color: var(--jp-success-color0)\">DEBUG</span>: https://influxdb-summit-efd.lsst.codes:30828 &quot;GET /health HTTP/1.1&quot; 200 106</pre>"
      ],
      "text/plain": [
       "<IPython.core.display.HTML object>"
      ]
     },
     "metadata": {},
     "output_type": "display_data"
    }
   ],
   "source": [
    "#client = EfdClient('ncsa_teststand_efd')\n",
    "client = EfdClient('summit_efd')"
   ]
  },
  {
   "cell_type": "markdown",
   "metadata": {},
   "source": [
    "ComCam Initialization"
   ]
  },
  {
   "cell_type": "code",
   "execution_count": 9,
   "metadata": {},
   "outputs": [
    {
     "data": {
      "text/html": [
       "<pre style=\"margin: 0.1em;\n",
       "padding-left: 0.25em;\n",
       "border-left-style: solid;\n",
       "font-family: var(--jp-code-font-family);\n",
       "font-size: var(--jp-code-font-size);\n",
       "line-height: var(--jp-code-line-height);\n",
       "\"><span style=\"color: var(--jp-warn-color2)\">ComCam</span> <span style=\"color: var(--jp-success-color0)\">DEBUG</span>: cccamera: Adding all resources.</pre>"
      ],
      "text/plain": [
       "<IPython.core.display.HTML object>"
      ]
     },
     "metadata": {},
     "output_type": "display_data"
    },
    {
     "data": {
      "text/html": [
       "<pre style=\"margin: 0.1em;\n",
       "padding-left: 0.25em;\n",
       "border-left-style: solid;\n",
       "font-family: var(--jp-code-font-family);\n",
       "font-size: var(--jp-code-font-size);\n",
       "line-height: var(--jp-code-line-height);\n",
       "\"><span style=\"color: var(--jp-warn-color2)\">CCCamera</span> <span style=\"color: var(--jp-info-color0)\">INFO</span>: Disabling authlist-based command authorization</pre>"
      ],
      "text/plain": [
       "<IPython.core.display.HTML object>"
      ]
     },
     "metadata": {},
     "output_type": "display_data"
    },
    {
     "data": {
      "text/html": [
       "<pre style=\"margin: 0.1em;\n",
       "padding-left: 0.25em;\n",
       "border-left-style: solid;\n",
       "font-family: var(--jp-code-font-family);\n",
       "font-size: var(--jp-code-font-size);\n",
       "line-height: var(--jp-code-line-height);\n",
       "\"><span style=\"color: var(--jp-warn-color2)\">ComCam</span> <span style=\"color: var(--jp-success-color0)\">DEBUG</span>: ccheaderservice: Adding all resources.</pre>"
      ],
      "text/plain": [
       "<IPython.core.display.HTML object>"
      ]
     },
     "metadata": {},
     "output_type": "display_data"
    },
    {
     "data": {
      "text/html": [
       "<pre style=\"margin: 0.1em;\n",
       "padding-left: 0.25em;\n",
       "border-left-style: solid;\n",
       "font-family: var(--jp-code-font-family);\n",
       "font-size: var(--jp-code-font-size);\n",
       "line-height: var(--jp-code-line-height);\n",
       "\"><span style=\"color: var(--jp-warn-color2)\">CCHeaderService</span> <span style=\"color: var(--jp-info-color0)\">INFO</span>: Disabling authlist-based command authorization</pre>"
      ],
      "text/plain": [
       "<IPython.core.display.HTML object>"
      ]
     },
     "metadata": {},
     "output_type": "display_data"
    },
    {
     "data": {
      "text/html": [
       "<pre style=\"margin: 0.1em;\n",
       "padding-left: 0.25em;\n",
       "border-left-style: solid;\n",
       "font-family: var(--jp-code-font-family);\n",
       "font-size: var(--jp-code-font-size);\n",
       "line-height: var(--jp-code-line-height);\n",
       "\"><span style=\"color: var(--jp-warn-color2)\">ComCam</span> <span style=\"color: var(--jp-success-color0)\">DEBUG</span>: ccoods: Adding all resources.</pre>"
      ],
      "text/plain": [
       "<IPython.core.display.HTML object>"
      ]
     },
     "metadata": {},
     "output_type": "display_data"
    },
    {
     "data": {
      "text/html": [
       "<pre style=\"margin: 0.1em;\n",
       "padding-left: 0.25em;\n",
       "border-left-style: solid;\n",
       "font-family: var(--jp-code-font-family);\n",
       "font-size: var(--jp-code-font-size);\n",
       "line-height: var(--jp-code-line-height);\n",
       "\"><span style=\"color: var(--jp-warn-color2)\">CCOODS</span> <span style=\"color: var(--jp-info-color0)\">INFO</span>: Disabling authlist-based command authorization</pre>"
      ],
      "text/plain": [
       "<IPython.core.display.HTML object>"
      ]
     },
     "metadata": {},
     "output_type": "display_data"
    }
   ],
   "source": [
    "comcam = ComCam(domain=domain)\n",
    "comcam.set_rem_loglevel(40)"
   ]
  },
  {
   "cell_type": "code",
   "execution_count": 10,
   "metadata": {},
   "outputs": [
    {
     "data": {
      "text/plain": [
       "[None, None, None]"
      ]
     },
     "execution_count": 10,
     "metadata": {},
     "output_type": "execute_result"
    }
   ],
   "source": [
    "await comcam.start_task"
   ]
  },
  {
   "cell_type": "code",
   "execution_count": 19,
   "metadata": {},
   "outputs": [
    {
     "data": {
      "text/html": [
       "<pre style=\"margin: 0.1em;\n",
       "padding-left: 0.25em;\n",
       "border-left-style: solid;\n",
       "font-family: var(--jp-code-font-family);\n",
       "font-size: var(--jp-code-font-size);\n",
       "line-height: var(--jp-code-line-height);\n",
       "\"><span style=\"color: var(--jp-warn-color2)\">ComCam</span> <span style=\"color: var(--jp-info-color0)\">INFO</span>: Enabling all components</pre>"
      ],
      "text/plain": [
       "<IPython.core.display.HTML object>"
      ]
     },
     "metadata": {},
     "output_type": "display_data"
    },
    {
     "data": {
      "text/html": [
       "<pre style=\"margin: 0.1em;\n",
       "padding-left: 0.25em;\n",
       "border-left-style: solid;\n",
       "font-family: var(--jp-code-font-family);\n",
       "font-size: var(--jp-code-font-size);\n",
       "line-height: var(--jp-code-line-height);\n",
       "\"><span style=\"color: var(--jp-warn-color2)\">ComCam</span> <span style=\"color: var(--jp-success-color0)\">DEBUG</span>: Expand overrides None</pre>"
      ],
      "text/plain": [
       "<IPython.core.display.HTML object>"
      ]
     },
     "metadata": {},
     "output_type": "display_data"
    },
    {
     "data": {
      "text/html": [
       "<pre style=\"margin: 0.1em;\n",
       "padding-left: 0.25em;\n",
       "border-left-style: solid;\n",
       "font-family: var(--jp-code-font-family);\n",
       "font-size: var(--jp-code-font-size);\n",
       "line-height: var(--jp-code-line-height);\n",
       "\"><span style=\"color: var(--jp-warn-color2)\">ComCam</span> <span style=\"color: var(--jp-success-color0)\">DEBUG</span>: Complete overrides: {&#x27;cccamera&#x27;: &#x27;&#x27;, &#x27;ccheaderservice&#x27;: &#x27;&#x27;, &#x27;ccoods&#x27;: &#x27;&#x27;}</pre>"
      ],
      "text/plain": [
       "<IPython.core.display.HTML object>"
      ]
     },
     "metadata": {},
     "output_type": "display_data"
    },
    {
     "data": {
      "text/html": [
       "<pre style=\"margin: 0.1em;\n",
       "padding-left: 0.25em;\n",
       "border-left-style: solid;\n",
       "font-family: var(--jp-code-font-family);\n",
       "font-size: var(--jp-code-font-size);\n",
       "line-height: var(--jp-code-line-height);\n",
       "\"><span style=\"color: var(--jp-warn-color2)\">ComCam</span> <span style=\"color: var(--jp-success-color0)\">DEBUG</span>: [cccamera]::[&lt;State.STANDBY: 5&gt;, &lt;State.DISABLED: 1&gt;, &lt;State.ENABLED: 2&gt;]</pre>"
      ],
      "text/plain": [
       "<IPython.core.display.HTML object>"
      ]
     },
     "metadata": {},
     "output_type": "display_data"
    },
    {
     "data": {
      "text/html": [
       "<pre style=\"margin: 0.1em;\n",
       "padding-left: 0.25em;\n",
       "border-left-style: solid;\n",
       "font-family: var(--jp-code-font-family);\n",
       "font-size: var(--jp-code-font-size);\n",
       "line-height: var(--jp-code-line-height);\n",
       "\"><span style=\"color: var(--jp-warn-color2)\">ComCam</span> <span style=\"color: var(--jp-success-color0)\">DEBUG</span>: [ccheaderservice]::[&lt;State.STANDBY: 5&gt;, &lt;State.DISABLED: 1&gt;, &lt;State.ENABLED: 2&gt;]</pre>"
      ],
      "text/plain": [
       "<IPython.core.display.HTML object>"
      ]
     },
     "metadata": {},
     "output_type": "display_data"
    },
    {
     "data": {
      "text/html": [
       "<pre style=\"margin: 0.1em;\n",
       "padding-left: 0.25em;\n",
       "border-left-style: solid;\n",
       "font-family: var(--jp-code-font-family);\n",
       "font-size: var(--jp-code-font-size);\n",
       "line-height: var(--jp-code-line-height);\n",
       "\"><span style=\"color: var(--jp-warn-color2)\">ComCam</span> <span style=\"color: var(--jp-success-color0)\">DEBUG</span>: [ccoods]::[&lt;State.STANDBY: 5&gt;, &lt;State.DISABLED: 1&gt;, &lt;State.ENABLED: 2&gt;]</pre>"
      ],
      "text/plain": [
       "<IPython.core.display.HTML object>"
      ]
     },
     "metadata": {},
     "output_type": "display_data"
    },
    {
     "data": {
      "text/html": [
       "<pre style=\"margin: 0.1em;\n",
       "padding-left: 0.25em;\n",
       "border-left-style: solid;\n",
       "font-family: var(--jp-code-font-family);\n",
       "font-size: var(--jp-code-font-size);\n",
       "line-height: var(--jp-code-line-height);\n",
       "\"><span style=\"color: var(--jp-warn-color2)\">ComCam</span> <span style=\"color: var(--jp-info-color0)\">INFO</span>: All components in &lt;State.ENABLED: 2&gt;.</pre>"
      ],
      "text/plain": [
       "<IPython.core.display.HTML object>"
      ]
     },
     "metadata": {},
     "output_type": "display_data"
    }
   ],
   "source": [
    "await comcam.enable()"
   ]
  },
  {
   "cell_type": "markdown",
   "metadata": {},
   "source": [
    "Helper functions: Event callback and telemetry check"
   ]
  },
  {
   "cell_type": "code",
   "execution_count": 11,
   "metadata": {},
   "outputs": [],
   "source": [
    "def evt_time_callback(evt):\n",
    "    \"\"\"Print event and time when it is received.\"\"\"\n",
    "    time_evt = datetime.utcfromtimestamp(evt.private_sndStamp).strftime(\"%Y-%m-%d %H:%M:%S.%f\")[:-3]\n",
    "    evt_name = str(evt.__class__).split('_')[2]\n",
    "    print(f'\\n {evt_name} logevent at {time_evt} is \\n \\t{evt}')"
   ]
  },
  {
   "cell_type": "code",
   "execution_count": 12,
   "metadata": {},
   "outputs": [],
   "source": [
    "async def check_telemetry(topic):\n",
    "    tel = await client.select_top_n(topic,'*',num=1)\n",
    "    time_tel = datetime.utcfromtimestamp(tel['private_sndStamp'][0]).strftime(\"%Y-%m-%d %H:%M:%S.%f\")[:-3]\n",
    "\n",
    "    print(f'Last {topic} telemetry was at {time_tel} UTC \\n \\tvs time now is {Time.now()}')"
   ]
  },
  {
   "cell_type": "markdown",
   "metadata": {},
   "source": [
    "Publish in the EFD that test is starting"
   ]
  },
  {
   "cell_type": "code",
   "execution_count": 13,
   "metadata": {},
   "outputs": [
    {
     "data": {
      "text/html": [
       "<pre style=\"margin: 0.1em;\n",
       "padding-left: 0.25em;\n",
       "border-left-style: solid;\n",
       "font-family: var(--jp-code-font-family);\n",
       "font-size: var(--jp-code-font-size);\n",
       "line-height: var(--jp-code-line-height);\n",
       "\"><span style=\"color: var(--jp-warn-color2)\">Script</span> <span style=\"color: var(--jp-info-color0)\">INFO</span>: START- LVV-T2219 ComCam Interface to SAL -- at 2022-07-08 16:54:05.611477</pre>"
      ],
      "text/plain": [
       "<IPython.core.display.HTML object>"
      ]
     },
     "metadata": {},
     "output_type": "display_data"
    }
   ],
   "source": [
    "script.log.info(f'START- {test_message} -- at {Time(datetime.now())}')"
   ]
  },
  {
   "cell_type": "markdown",
   "metadata": {},
   "source": [
    "--- \n",
    "LVV-T2239 (1.0) ComCam Startup Procedure"
   ]
  },
  {
   "cell_type": "markdown",
   "metadata": {},
   "source": [
    "---\n",
    "Verify the CCCamera_logevent_availableFilters event is published to the EFD. \n",
    "Note: During the successful start up of the system, this event will be published automatically."
   ]
  },
  {
   "cell_type": "code",
   "execution_count": 20,
   "metadata": {},
   "outputs": [
    {
     "data": {
      "text/html": [
       "<pre style=\"margin: 0.1em;\n",
       "padding-left: 0.25em;\n",
       "border-left-style: solid;\n",
       "font-family: var(--jp-code-font-family);\n",
       "font-size: var(--jp-code-font-size);\n",
       "line-height: var(--jp-code-line-height);\n",
       "\"><span style=\"color: var(--jp-warn-color2)\">root</span> <span style=\"color: var(--jp-info-color0)\">INFO</span>: Available filters at 2022-07-08 16:55:24.858 are i_06:r_03:g_07</pre>"
      ],
      "text/plain": [
       "<IPython.core.display.HTML object>"
      ]
     },
     "metadata": {},
     "output_type": "display_data"
    }
   ],
   "source": [
    "available_filters= comcam.rem.cccamera.evt_availableFilters.get()\n",
    "time_available_filters=  datetime.utcfromtimestamp(available_filters.private_sndStamp).strftime(\"%Y-%m-%d %H:%M:%S.%f\")[:-3]\n",
    "logger.info(f'Available filters at {time_available_filters} are {available_filters.filterNames}')"
   ]
  },
  {
   "cell_type": "markdown",
   "metadata": {},
   "source": [
    "---\n",
    "Initially verify the CCCamera_logevent_ccsCommandState event is publishing to the EFD. As there are no commands at the moment, the CCCamera_logevent_ccsCommandState event publishes IDLE."
   ]
  },
  {
   "cell_type": "code",
   "execution_count": 21,
   "metadata": {},
   "outputs": [
    {
     "data": {
      "text/html": [
       "<pre style=\"margin: 0.1em;\n",
       "padding-left: 0.25em;\n",
       "border-left-style: solid;\n",
       "font-family: var(--jp-code-font-family);\n",
       "font-size: var(--jp-code-font-size);\n",
       "line-height: var(--jp-code-line-height);\n",
       "\"><span style=\"color: var(--jp-warn-color2)\">root</span> <span style=\"color: var(--jp-info-color0)\">INFO</span>: Current Command State Substate at 2022-07-08 16:55:24.901 is \n",
       " private_revCode: d8de8c36, private_sndStamp: 1657299324.9010894, private_rcvStamp: 1657299324.9014344, private_seqNum: 58, private_identity: CCCamera, private_origin: 35289769, substate: 1, timestampTransition: 0.0</pre>"
      ],
      "text/plain": [
       "<IPython.core.display.HTML object>"
      ]
     },
     "metadata": {},
     "output_type": "display_data"
    }
   ],
   "source": [
    "command_state= comcam.rem.cccamera.evt_ccsCommandState.get()\n",
    "time_command_state = datetime.utcfromtimestamp(command_state.private_sndStamp).strftime(\"%Y-%m-%d %H:%M:%S.%f\")[:-3]\n",
    "logger.info(f'Current Command State Substate at {time_command_state} is \\n {command_state}')"
   ]
  },
  {
   "cell_type": "markdown",
   "metadata": {},
   "source": [
    "---\n",
    "While the ccsCommandState is in IDLE, send a CCCamera_command_enableCalibration command.\n",
    "\n",
    "Note: By default, the CalibrationDetailedState should be in DISABLED. If the CalibrationDetailedState is already in ENABLED, this command will not be accepted.\n",
    "\n",
    "    Results:\n",
    "    The CCCamera_logevent_ccsCommandState event publishes BUSY\n",
    "    The CCCamera_logevent_calibrationDetailedState publishes ENABLED.\n",
    "    The The CCCamera_logevent_ccsConfigured event is published to the EFD noting the time at which the state transition occurred. ** This logevent does not exist, instead comcam.rem.cccamera.logevent_configurationApplied"
   ]
  },
  {
   "cell_type": "code",
   "execution_count": 22,
   "metadata": {},
   "outputs": [],
   "source": [
    "comcam.rem.cccamera.evt_calibrationDetailedState.callback = evt_time_callback\n",
    "comcam.rem.cccamera.evt_ccsCommandState.callback = evt_time_callback   "
   ]
  },
  {
   "cell_type": "code",
   "execution_count": 23,
   "metadata": {},
   "outputs": [
    {
     "name": "stdout",
     "output_type": "stream",
     "text": [
      "\n",
      " ccsCommandState logevent at 2022-07-08 16:55:36.290 is \n",
      " \tprivate_revCode: d8de8c36, private_sndStamp: 1657299336.290601, private_rcvStamp: 1657299336.2911742, private_seqNum: 59, private_identity: CCCamera, private_origin: 35289769, substate: 2, timestampTransition: 0.0\n",
      "\n",
      " calibrationDetailedState logevent at 2022-07-08 16:55:36.290 is \n",
      " \tprivate_revCode: a610ea82, private_sndStamp: 1657299336.2906916, private_rcvStamp: 1657299336.291222, private_seqNum: 6, private_identity: CCCamera, private_origin: 35289769, substate: 2, timestampTransition: 0.0\n",
      "\n",
      " ccsCommandState logevent at 2022-07-08 16:55:36.292 is \n",
      " \tprivate_revCode: d8de8c36, private_sndStamp: 1657299336.2922888, private_rcvStamp: 1657299336.292639, private_seqNum: 60, private_identity: CCCamera, private_origin: 35289769, substate: 1, timestampTransition: 0.0\n"
     ]
    },
    {
     "data": {
      "text/plain": [
       "<ddsutil.CCCamera_ackcmd_ff5ef83c at 0x7fa20c4a6dd0>"
      ]
     },
     "execution_count": 23,
     "metadata": {},
     "output_type": "execute_result"
    }
   ],
   "source": [
    "# Enable Calibration\n",
    "await comcam.rem.cccamera.cmd_enableCalibration.set_start()"
   ]
  },
  {
   "cell_type": "code",
   "execution_count": 24,
   "metadata": {},
   "outputs": [
    {
     "data": {
      "text/html": [
       "<pre style=\"margin: 0.1em;\n",
       "padding-left: 0.25em;\n",
       "border-left-style: solid;\n",
       "font-family: var(--jp-code-font-family);\n",
       "font-size: var(--jp-code-font-size);\n",
       "line-height: var(--jp-code-line-height);\n",
       "\"><span style=\"color: var(--jp-warn-color2)\">root</span> <span style=\"color: var(--jp-info-color0)\">INFO</span>: Current configuration Applied at 2022-07-08 16:55:24.889 is \n",
       " private_revCode: d6c3623d, private_sndStamp: 1657299324.88905, private_rcvStamp: 1657299324.8896496, private_seqNum: 1, private_identity: CCCamera, private_origin: 35289769, configurations: Normal, version: 1, url: https://lsst-camera-dev.slac.stanford.edu/RestFileServer/config/, schemaVersion: UNKNOWN, otherInfo: vacuum_Rtds_DevicesConfiguration,focal_plane_ImageNameService_GeneralConfiguration,bonn_shutter_PeriodicTasks_timersConfiguration,focal_plane_Reb_LimitsConfiguration,quadbox_BFR_DevicesConfiguration,focal_plane_Ccd_LimitsConfiguration,vacuum_Cold2_CryoconConfiguration,vacuum_PeriodicTasks_timersConfiguration,image_handling_ImageHandler_FitsHandlingConfiguration,bonn_shutter_Device_GeneralConfiguration,bonn_shutter_GeneralConfiguration,rebpower_Rebps_GeneralConfiguration,vacuum_Cold1_DevicesConfiguration,focal_plane_Reb_HardwareIdConfiguration,vacuum_Rtds_LimitsConfiguration,vacuum_VacuumConfiguration,quadbox_PDU_48V_DevicesConfiguration,mpm_Pluto_DevicesConfiguration,mpm_PeriodicTasks_timersConfiguration,quadbox_PDU_24VD_QuadboxConfiguration,rebpower_Rebps_buildConfiguration,focal_plane_Segment_LimitsConfiguration,vacuum_Rtds_DeviceConfiguration,fcs_StepperMotor_MotorConfiguration,quadbox_PDU_5V_DevicesConfiguration,vacuum_VQMonitor_DevicesConfiguration,focal_plane_Ccd_HardwareIdConfiguration,rebpower_PeriodicTasks_timersConfiguration,rebpower_Reb_LimitsConfiguration,vacuum_Turbo_DevicesConfiguration,bonn_shutter_Device_DevicesConfiguration,rebpower_Rebps_DevicesConfiguration,bonn_shutter_PeriodicTasks_GeneralConfiguration,rebpower_GeneralConfiguration,focal_plane_Reb_RaftsLimitsConfiguration,fcs_StepperMotor_LimitsConfiguration,focal_plane_Raft_HardwareIdConfiguration,quadbox_REB_Bulk_PS_DevicesConfiguration,focal_plane_InstrumentConfig_InstrumentConfiguration,focal_plane_Reb_RaftsPowerConfiguration,vacuum_IonPumps_LimitsConfiguration,daq_monitor_StoreConfiguration,focal_plane_Raft_RaftTempControlStatusConfiguration,focal_plane_Raft_RaftTempControlConfiguration,image_handling_Reb_FitsHandlingConfiguration,quadbox_PDU_48V_LimitsConfiguration,quadbox_PDU_24VD_LimitsConfiguration,daq_monitor_Store_StoreConfiguration,fcs_StepperMotor_DevicesConfiguration,fcs_LinearEncoder_DevicesConfiguration,focal_plane_WebHooksConfig_VisualizationConfiguration,focal_plane_SequencerConfig_DAQConfiguration,rebpower_EmergencyResponseManager_GeneralConfiguration,rebpower_Reb_GeneralConfiguration,quadbox_BFR_LimitsConfiguration,vacuum_Turbo_LimitsConfiguration,vacuum_VQMonitor_CryoConfiguration,daq_monitor_Store_LimitsConfiguration,vacuum_Cryo_CryoconConfiguration,quadbox_REB_Bulk_PS_QuadboxConfiguration,vacuum_Turbo_GeneralConfiguration,daq_monitor_Store_DevicesConfiguration,focal_plane_PeriodicTasks_GeneralConfiguration,fcs_GeneralConfiguration,daq_monitor_PeriodicTasks_timersConfiguration,focal_plane_Ccd_RaftsConfiguration,image_handling_ImageHandler_CommandsConfiguration,quadbox_PDU_48V_QuadboxConfiguration,quadbox_PDU_5V_LimitsConfiguration,bonn_shutter_Device_LimitsConfiguration,quadbox_PeriodicTasks_GeneralConfiguration,daq_monitor_Stats_StatisticsConfiguration,quadbox_BFR_QuadboxConfiguration,focal_plane_SequencerConfig_SequencerConfiguration,image_handling_PeriodicTasks_GeneralConfiguration,rebpower_Rebps_PowerConfiguration,focal_plane_PeriodicTasks_timersConfiguration,focal_plane_Reb_timersConfiguration,rebpower_Rebps_LimitsConfiguration,vacuum_VacPluto_DeviceConfiguration,vacuum_Cryo_DevicesConfiguration,quadbox_PDU_24VD_DevicesConfiguration,quadbox_PDU_5V_QuadboxConfiguration,quadbox_PeriodicTasks_timersConfiguration,focal_plane_ImageDatabaseService_GeneralConfiguration,vacuum_Cold1_LimitsConfiguration,vacuum_Cold2_LimitsConfiguration,fcs_PeriodicTasks_GeneralConfiguration,image_handling_Reb_GeneralConfiguration,vacuum_Cold2_DevicesConfiguration,fcs_LinearEncoder_GeneralConfiguration,vacuum_IonPumps_CryoConfiguration,mpm_PeriodicTasks_GeneralConfiguration,vacuum_PeriodicTasks_GeneralConfiguration,focal_plane_Reb_DevicesConfiguration,fcs_StepperMotor_GeneralConfiguration,vacuum_VQMonitor_LimitsConfiguration,quadbox_PDU_24VC_LimitsConfiguration,vacuum_Cold1_CryoconConfiguration,focal_plane_RebTotalPower_LimitsConfiguration,quadbox_PDU_24VC_QuadboxConfiguration,daq_monitor_PeriodicTasks_GeneralConfiguration,mpm_Pluto_DeviceConfiguration,fcs_PeriodicTasks_timersConfiguration,vacuum_IonPumps_DevicesConfiguration,fcs_LinearEncoder_LimitsConfiguration,vacuum_VacPluto_DevicesConfiguration,focal_plane_Reb_RaftsConfiguration,image_handling_ImageHandler_DAQConfiguration,image_handling_PeriodicTasks_timersConfiguration,quadbox_PDU_24VC_DevicesConfiguration,vacuum_Cryo_LimitsConfiguration,rebpower_PeriodicTasks_GeneralConfiguration</pre>"
      ],
      "text/plain": [
       "<IPython.core.display.HTML object>"
      ]
     },
     "metadata": {},
     "output_type": "display_data"
    }
   ],
   "source": [
    "configuration_applied = comcam.rem.cccamera.evt_configurationApplied.get()\n",
    "time_configuration_applied = datetime.utcfromtimestamp(configuration_applied.private_sndStamp).strftime(\n",
    "    \"%Y-%m-%d %H:%M:%S.%f\")[:-3]\n",
    "logger.info(f'Current configuration Applied at {time_configuration_applied} is \\n {configuration_applied}')"
   ]
  },
  {
   "cell_type": "code",
   "execution_count": 25,
   "metadata": {},
   "outputs": [],
   "source": [
    "comcam.rem.cccamera.evt_calibrationDetailedState.callback = None\n",
    "comcam.rem.cccamera.evt_ccsCommandState.callback = None   "
   ]
  },
  {
   "cell_type": "markdown",
   "metadata": {},
   "source": [
    "---\n",
    "While the CalibrationDetailedState is in ENABLED,, send a CCCamera_command_clear command.\n",
    "\n",
    "    Results:\n",
    "    The command is accepted\n",
    "    The CCCamera_logevent_RaftsDetailedState event published to the EFD shows it is in the CLEARING state."
   ]
  },
  {
   "cell_type": "code",
   "execution_count": 26,
   "metadata": {},
   "outputs": [],
   "source": [
    "comcam.rem.cccamera.evt_raftsDetailedState.callback = evt_time_callback"
   ]
  },
  {
   "cell_type": "code",
   "execution_count": 34,
   "metadata": {},
   "outputs": [
    {
     "ename": "AckError",
     "evalue": "msg='Command failed', ackcmd=(ackcmd private_seqNum=47224008, ack=<SalRetCode.CMD_FAILED: -302>, error=0, result='Error : Timeout waiting for state: QUIESCENT')",
     "output_type": "error",
     "traceback": [
      "\u001b[0;31m---------------------------------------------------------------------------\u001b[0m",
      "\u001b[0;31mAckError\u001b[0m                                  Traceback (most recent call last)",
      "Input \u001b[0;32mIn [34]\u001b[0m, in \u001b[0;36m<cell line: 1>\u001b[0;34m()\u001b[0m\n\u001b[0;32m----> 1\u001b[0m cmd \u001b[38;5;241m=\u001b[39m \u001b[38;5;28;01mawait\u001b[39;00m comcam\u001b[38;5;241m.\u001b[39mrem\u001b[38;5;241m.\u001b[39mcccamera\u001b[38;5;241m.\u001b[39mcmd_clear\u001b[38;5;241m.\u001b[39mset_start(nClears\u001b[38;5;241m=\u001b[39m\u001b[38;5;241m1\u001b[39m)\n\u001b[1;32m      2\u001b[0m logger\u001b[38;5;241m.\u001b[39minfo(cmd)\n",
      "File \u001b[0;32m/opt/lsst/software/stack/conda/miniconda3-py38_4.9.2/envs/lsst-scipipe-4.0.1/lib/python3.10/site-packages/lsst/ts/salobj/topics/remote_command.py:418\u001b[0m, in \u001b[0;36mRemoteCommand.set_start\u001b[0;34m(self, timeout, wait_done, **kwargs)\u001b[0m\n\u001b[1;32m    377\u001b[0m \u001b[38;5;124;03m\"\"\"Create a new ``self.data``, set zero or more fields,\u001b[39;00m\n\u001b[1;32m    378\u001b[0m \u001b[38;5;124;03mand start the command.\u001b[39;00m\n\u001b[1;32m    379\u001b[0m \n\u001b[0;32m   (...)\u001b[0m\n\u001b[1;32m    415\u001b[0m \u001b[38;5;124;03m    If ``data`` is not None and not an instance of `DataType`.\u001b[39;00m\n\u001b[1;32m    416\u001b[0m \u001b[38;5;124;03m\"\"\"\u001b[39;00m\n\u001b[1;32m    417\u001b[0m \u001b[38;5;28mself\u001b[39m\u001b[38;5;241m.\u001b[39mset(\u001b[38;5;241m*\u001b[39m\u001b[38;5;241m*\u001b[39mkwargs)\n\u001b[0;32m--> 418\u001b[0m \u001b[38;5;28;01mreturn\u001b[39;00m \u001b[38;5;28;01mawait\u001b[39;00m \u001b[38;5;28mself\u001b[39m\u001b[38;5;241m.\u001b[39mstart(timeout\u001b[38;5;241m=\u001b[39mtimeout, wait_done\u001b[38;5;241m=\u001b[39mwait_done)\n",
      "File \u001b[0;32m/opt/lsst/software/stack/conda/miniconda3-py38_4.9.2/envs/lsst-scipipe-4.0.1/lib/python3.10/site-packages/lsst/ts/salobj/topics/remote_command.py:485\u001b[0m, in \u001b[0;36mRemoteCommand.start\u001b[0;34m(self, data, timeout, wait_done)\u001b[0m\n\u001b[1;32m    481\u001b[0m cmd_info \u001b[38;5;241m=\u001b[39m CommandInfo(\n\u001b[1;32m    482\u001b[0m     remote_command\u001b[38;5;241m=\u001b[39m\u001b[38;5;28mself\u001b[39m, seq_num\u001b[38;5;241m=\u001b[39mseq_num, wait_done\u001b[38;5;241m=\u001b[39mwait_done\n\u001b[1;32m    483\u001b[0m )\n\u001b[1;32m    484\u001b[0m \u001b[38;5;28mself\u001b[39m\u001b[38;5;241m.\u001b[39msalinfo\u001b[38;5;241m.\u001b[39m_running_cmds[seq_num] \u001b[38;5;241m=\u001b[39m cmd_info\n\u001b[0;32m--> 485\u001b[0m \u001b[38;5;28;01mreturn\u001b[39;00m \u001b[38;5;28;01mawait\u001b[39;00m cmd_info\u001b[38;5;241m.\u001b[39mnext_ackcmd(timeout\u001b[38;5;241m=\u001b[39mtimeout)\n",
      "File \u001b[0;32m/opt/lsst/software/stack/conda/miniconda3-py38_4.9.2/envs/lsst-scipipe-4.0.1/lib/python3.10/site-packages/lsst/ts/salobj/topics/remote_command.py:195\u001b[0m, in \u001b[0;36mCommandInfo.next_ackcmd\u001b[0;34m(self, timeout)\u001b[0m\n\u001b[1;32m    193\u001b[0m     ackcmd \u001b[38;5;241m=\u001b[39m \u001b[38;5;28;01mawait\u001b[39;00m \u001b[38;5;28mself\u001b[39m\u001b[38;5;241m.\u001b[39m_wait_task\n\u001b[1;32m    194\u001b[0m     \u001b[38;5;28;01mif\u001b[39;00m ackcmd\u001b[38;5;241m.\u001b[39mack \u001b[38;5;129;01min\u001b[39;00m \u001b[38;5;28mself\u001b[39m\u001b[38;5;241m.\u001b[39mfailed_ack_codes:\n\u001b[0;32m--> 195\u001b[0m         \u001b[38;5;28;01mraise\u001b[39;00m base\u001b[38;5;241m.\u001b[39mAckError(msg\u001b[38;5;241m=\u001b[39m\u001b[38;5;124m\"\u001b[39m\u001b[38;5;124mCommand failed\u001b[39m\u001b[38;5;124m\"\u001b[39m, ackcmd\u001b[38;5;241m=\u001b[39mackcmd)\n\u001b[1;32m    196\u001b[0m     \u001b[38;5;28;01mreturn\u001b[39;00m ackcmd\n\u001b[1;32m    197\u001b[0m \u001b[38;5;28;01mexcept\u001b[39;00m asyncio\u001b[38;5;241m.\u001b[39mTimeoutError:\n",
      "\u001b[0;31mAckError\u001b[0m: msg='Command failed', ackcmd=(ackcmd private_seqNum=47224008, ack=<SalRetCode.CMD_FAILED: -302>, error=0, result='Error : Timeout waiting for state: QUIESCENT')"
     ]
    }
   ],
   "source": [
    "cmd = await comcam.rem.cccamera.cmd_clear.set_start(nClears=1)\n",
    "logger.info(cmd)"
   ]
  },
  {
   "cell_type": "code",
   "execution_count": 35,
   "metadata": {},
   "outputs": [],
   "source": [
    "comcam.rem.cccamera.evt_raftsDetailedState.callback = None"
   ]
  },
  {
   "cell_type": "markdown",
   "metadata": {},
   "source": [
    "---\n",
    "Verify the CCCamera_logevent_focalPlaneSummaryInfo event is published to the EFD."
   ]
  },
  {
   "cell_type": "code",
   "execution_count": 36,
   "metadata": {},
   "outputs": [
    {
     "data": {
      "text/html": [
       "<pre style=\"margin: 0.1em;\n",
       "padding-left: 0.25em;\n",
       "border-left-style: solid;\n",
       "font-family: var(--jp-code-font-family);\n",
       "font-size: var(--jp-code-font-size);\n",
       "line-height: var(--jp-code-line-height);\n",
       "\"><span style=\"color: var(--jp-warn-color2)\">root</span> <span style=\"color: var(--jp-info-color0)\">INFO</span>: Focal plane summary at 2022-07-08 16:55:24 is \n",
       " private_revCode: ba53a45d, private_sndStamp: 1657299324.895121, private_rcvStamp: 1657299324.8955247, private_seqNum: 2, private_identity: CCCamera, private_origin: 35289769, ccdLocation: R22S00:R22S01:R22S02:R22S10:R22S11:R22S12:R22S20:R22S21:R22S22, raftBay: R22:R22:R22:R22:R22:R22:R22:R22:R22, ccdSlot: S00:S01:S02:S10:S11:S12:S20:S21:S22, rebSerialNumber: -1:-1:-1:-1:-1:-1:-1:-1:-1, rebLSSTName: LCA-13574-061:LCA-13574-061:LCA-13574-061:LCA-13574-093:LCA-13574-093:LCA-13574-093:LCA-13574-094:LCA-13574-094:LCA-13574-094, ccdLSSTName: ITL-3800C-229:ITL-3800C-251:ITL-3800C-215:ITL-3800C-326:ITL-3800C-283:ITL-3800C-243:ITL-3800C-319:ITL-3800C-209:ITL-3800C-206, raftLSSTName: LCA-11021_RTM-031:LCA-11021_RTM-031:LCA-11021_RTM-031:LCA-11021_RTM-031:LCA-11021_RTM-031:LCA-11021_RTM-031:LCA-11021_RTM-031:LCA-11021_RTM-031:LCA-11021_RTM-031, ccdManSerNum: 23166:23140:22619:23858:22621:22917:24780:23169:22689, ccdManufacturer: ITL:ITL:ITL:ITL:ITL:ITL:ITL:ITL:ITL, ccdType: [2, 2, 2, 2, 2, 2, 2, 2, 2], ccdTempSetPoint: [-100.0, -100.0, -100.0, -100.0, -100.0, -100.0, -100.0, -100.0, -100.0], sequencerKey: FP_ITL_2s_ir2_v26.seq:FP_ITL_2s_ir2_v26.seq:FP_ITL_2s_ir2_v26.seq:FP_ITL_2s_ir2_v26.seq:FP_ITL_2s_ir2_v26.seq:FP_ITL_2s_ir2_v26.seq:FP_ITL_2s_ir2_v26.seq:FP_ITL_2s_ir2_v26.seq:FP_ITL_2s_ir2_v26.seq, sequencerChecksum: 980618532:980618532:980618532:980618532:980618532:980618532:980618532:980618532:980618532</pre>"
      ],
      "text/plain": [
       "<IPython.core.display.HTML object>"
      ]
     },
     "metadata": {},
     "output_type": "display_data"
    }
   ],
   "source": [
    "focal_plane_summary = await comcam.rem.cccamera.evt_focalPlaneSummaryInfo.aget()\n",
    "time_focal_plane_summary = datetime.utcfromtimestamp(focal_plane_summary.private_sndStamp).strftime(\"%Y-%m-%d %H:%M:%S\")\n",
    "logger.info(f'Focal plane summary at {time_focal_plane_summary}' \n",
    "            f' is \\n {focal_plane_summary}')"
   ]
  },
  {
   "cell_type": "markdown",
   "metadata": {},
   "source": [
    "---\n",
    "Image Test\n",
    "While the CalibrationDetailedState is in ENABLED, send a CCCamera_command_startImage command with the following parameters:\n",
    "\n",
    "                        shutter: True\n",
    "                        sensors\n",
    "                        keyValueMap\n",
    "                        obsNote: Any arbitrary string\n",
    "                        timeout: 30s\n",
    "    \n",
    "    \n",
    "    Results: \n",
    "    The CCCamera_logevent_calibrationDetailedState event publishes INTEGRATING\n",
    "    The CCCamera_logevent_shutterDetailedState event publishes to the EFD updating froom CLOSED to OPENING to OPEN\n",
    "    A CCCamera_logevent_endShutterOpen event is published at the time the shutter opens\n",
    "    A CCCamera_logevent_startReadout event is published\n",
    "    \n",
    "Beware: The next two steps (discardRows and endImage) need to be run while the camera is INTEGRATING (30 s timeout)"
   ]
  },
  {
   "cell_type": "code",
   "execution_count": 71,
   "metadata": {},
   "outputs": [],
   "source": [
    "comcam.rem.cccamera.evt_calibrationDetailedState.callback = evt_time_callback\n",
    "comcam.rem.cccamera.evt_shutterDetailedState.callback = evt_time_callback\n",
    "comcam.rem.cccamera.evt_endShutterOpen.callback = evt_time_callback\n",
    "comcam.rem.cccamera.evt_startReadout.callback = evt_time_callback"
   ]
  },
  {
   "cell_type": "code",
   "execution_count": 72,
   "metadata": {},
   "outputs": [],
   "source": [
    "keyValueMap = f'groupId:{Time.now().isot},imageType:ENGTEST'"
   ]
  },
  {
   "cell_type": "code",
   "execution_count": 73,
   "metadata": {},
   "outputs": [
    {
     "data": {
      "text/plain": [
       "True"
      ]
     },
     "execution_count": 73,
     "metadata": {},
     "output_type": "execute_result"
    }
   ],
   "source": [
    "# Set parameters\n",
    "comcam.rem.cccamera.cmd_startImage.set(shutter=True, keyValueMap=keyValueMap, timeout=30)"
   ]
  },
  {
   "cell_type": "code",
   "execution_count": 74,
   "metadata": {},
   "outputs": [
    {
     "name": "stdout",
     "output_type": "stream",
     "text": [
      "\n",
      " shutterDetailedState logevent at 2022-07-08 17:05:24.973 is \n",
      " \tprivate_revCode: 0ebe7cbe, private_sndStamp: 1657299924.973641, private_rcvStamp: 1657299924.9741132, private_seqNum: 32, private_identity: CCCamera, private_origin: 35289769, substate: 4, timestampTransition: 0.0\n"
     ]
    },
    {
     "data": {
      "text/plain": [
       "<ddsutil.CCCamera_ackcmd_ff5ef83c at 0x7fa1cccbcaf0>"
      ]
     },
     "execution_count": 74,
     "metadata": {},
     "output_type": "execute_result"
    }
   ],
   "source": [
    "# Start image\n",
    "await comcam.rem.cccamera.cmd_startImage.start()"
   ]
  },
  {
   "cell_type": "markdown",
   "metadata": {},
   "source": [
    "----\n",
    "While the CalibrationDetailedState is in INTEGRATING, send a CCCamera_command_discardRows command of 2 rows."
   ]
  },
  {
   "cell_type": "code",
   "execution_count": 75,
   "metadata": {},
   "outputs": [
    {
     "name": "stdout",
     "output_type": "stream",
     "text": [
      "\n",
      " calibrationDetailedState logevent at 2022-07-08 17:05:24.975 is \n",
      " \tprivate_revCode: a610ea82, private_sndStamp: 1657299924.9755883, private_rcvStamp: 1657299924.9758685, private_seqNum: 15, private_identity: CCCamera, private_origin: 35289769, substate: 3, timestampTransition: 0.0\n"
     ]
    },
    {
     "data": {
      "text/html": [
       "<pre style=\"margin: 0.1em;\n",
       "padding-left: 0.25em;\n",
       "border-left-style: solid;\n",
       "font-family: var(--jp-code-font-family);\n",
       "font-size: var(--jp-code-font-size);\n",
       "line-height: var(--jp-code-line-height);\n",
       "\"><span style=\"color: var(--jp-warn-color2)\">root</span> <span style=\"color: var(--jp-info-color0)\">INFO</span>: private_revCode: ff5ef83c, private_sndStamp: 1657299924.996771, private_rcvStamp: 1657299924.9970706, private_seqNum: 381091695, private_identity: CCCamera, private_origin: 35289769, ack: 303, error: 0, result: Done : OK, identity: isotuela@nb-isotuela, origin: 14356, cmdtype: 0, timeout: 0.0</pre>"
      ],
      "text/plain": [
       "<IPython.core.display.HTML object>"
      ]
     },
     "metadata": {},
     "output_type": "display_data"
    }
   ],
   "source": [
    "cmd = await comcam.rem.cccamera.cmd_discardRows.set_start(2)\n",
    "logger.info(cmd)"
   ]
  },
  {
   "cell_type": "markdown",
   "metadata": {},
   "source": [
    "--- \n",
    "Before the specified timeout, send a CCCamera_command_endImage command.\n",
    "\n",
    "Note: If the CCCamera_command_endImage command isn't sent before the specified timeout parameter of the previous command, the shutter will close and the command will not be accepted.\n",
    "\n",
    "    Results:\n",
    "    The shutters close \n",
    "    A CCCamera_logevent_imageReadoutParameters event is published\n",
    "    The CCCamera_logevent_shutterDetailedState event publishes to the EFD updating froom OPEN to CLOSING to CLOSED\n",
    "    A CCCamera_logevent_endShutterClose event is published at the time the shutter close\n",
    "    A CCCamera_logevent_endReadout event is published"
   ]
  },
  {
   "cell_type": "code",
   "execution_count": 76,
   "metadata": {},
   "outputs": [],
   "source": [
    "comcam.rem.cccamera.evt_imageReadoutParameters.callback = evt_time_callback\n",
    "comcam.rem.cccamera.evt_shutterDetailedState.callback = evt_time_callback\n",
    "comcam.rem.cccamera.evt_endShutterClose.callback = evt_time_callback\n",
    "comcam.rem.cccamera.evt_endReadout.callback = evt_time_callback"
   ]
  },
  {
   "cell_type": "code",
   "execution_count": 77,
   "metadata": {},
   "outputs": [
    {
     "name": "stdout",
     "output_type": "stream",
     "text": [
      "\n",
      " shutterDetailedState logevent at 2022-07-08 17:05:25.066 is \n",
      " \tprivate_revCode: 0ebe7cbe, private_sndStamp: 1657299925.0662766, private_rcvStamp: 1657299925.066567, private_seqNum: 33, private_identity: CCCamera, private_origin: 35289769, substate: 3, timestampTransition: 0.0\n",
      "\n",
      " shutterDetailedState logevent at 2022-07-08 17:05:25.954 is \n",
      " \tprivate_revCode: 0ebe7cbe, private_sndStamp: 1657299925.9541447, private_rcvStamp: 1657299925.954458, private_seqNum: 34, private_identity: CCCamera, private_origin: 35289769, substate: 2, timestampTransition: 0.0\n",
      "\n",
      " endShutterClose logevent at 2022-07-08 17:05:26.047 is \n",
      " \tprivate_revCode: 1a6c8bc0, private_sndStamp: 1657299926.0471053, private_rcvStamp: 1657299926.0474405, private_seqNum: 8, private_identity: CCCamera, private_origin: 35289769, timestampTransition: 1657299926.045618\n",
      "\n",
      " shutterDetailedState logevent at 2022-07-08 17:05:26.048 is \n",
      " \tprivate_revCode: 0ebe7cbe, private_sndStamp: 1657299926.0488815, private_rcvStamp: 1657299926.0492537, private_seqNum: 35, private_identity: CCCamera, private_origin: 35289769, substate: 1, timestampTransition: 0.0\n",
      "\n",
      " imageReadoutParameters logevent at 2022-07-08 17:05:27.149 is \n",
      " \tprivate_revCode: d096277e, private_sndStamp: 1657299927.1496732, private_rcvStamp: 1657299927.150126, private_seqNum: 8, private_identity: CCCamera, private_origin: 35289769, imageName: CC_O_20220708_000012, ccdLocation: R22S00:R22S01:R22S02:R22S10:R22S11:R22S12:R22S20:R22S21:R22S22, raftBay: R22:R22:R22:R22:R22:R22:R22:R22:R22, ccdSlot: S00:S01:S02:S10:S11:S12:S20:S21:S22, ccdType: [2, 2, 2, 2, 2, 2, 2, 2, 2], overRows: [48, 48, 48, 48, 48, 48, 48, 48, 48], overCols: [64, 64, 64, 64, 64, 64, 64, 64, 64], readRows: [2000, 2000, 2000, 2000, 2000, 2000, 2000, 2000, 2000], readCols: [509, 509, 509, 509, 509, 509, 509, 509, 509], readCols2: [0, 0, 0, 0, 0, 0, 0, 0, 0], preCols: [0, 0, 0, 0, 0, 0, 0, 0, 0], preRows: [0, 0, 0, 0, 0, 0, 0, 0, 0], postCols: [0, 0, 0, 0, 0, 0, 0, 0, 0], underCols: [3, 3, 3, 3, 3, 3, 3, 3, 3], daqFolder: raw, daqAnnotation: \n",
      "\n",
      " startReadout logevent at 2022-07-08 17:05:27.153 is \n",
      " \tprivate_revCode: 0bfffb9a, private_sndStamp: 1657299927.1536243, private_rcvStamp: 1657299927.1539843, private_seqNum: 8, private_identity: CCCamera, private_origin: 35289769, additionalKeys: groupId:imageType, additionalValues: 2022-07-08T17\\:04\\:46.772:ENGTEST, imagesInSequence: 1, imageName: CC_O_20220708_000012, imageIndex: 2, imageSource: CC, imageController: O, imageDate: 20220708, imageNumber: 12, timestampAcquisitionStart: 1657299841.9184716, exposureTime: 0.0, timestampStartOfReadout: 1657299927.1487453\n",
      "\n",
      " calibrationDetailedState logevent at 2022-07-08 17:05:27.155 is \n",
      " \tprivate_revCode: a610ea82, private_sndStamp: 1657299927.1555073, private_rcvStamp: 1657299927.1558435, private_seqNum: 16, private_identity: CCCamera, private_origin: 35289769, substate: 2, timestampTransition: 0.0\n"
     ]
    },
    {
     "data": {
      "text/plain": [
       "<ddsutil.CCCamera_ackcmd_ff5ef83c at 0x7fa1cd396080>"
      ]
     },
     "execution_count": 77,
     "metadata": {},
     "output_type": "execute_result"
    }
   ],
   "source": [
    "await comcam.rem.cccamera.cmd_endImage.start()"
   ]
  },
  {
   "cell_type": "code",
   "execution_count": 78,
   "metadata": {},
   "outputs": [],
   "source": [
    "comcam.rem.cccamera.evt_imageReadoutParameters.callback = None\n",
    "comcam.rem.cccamera.evt_shutterDetailedState.callback = None\n",
    "comcam.rem.cccamera.evt_endShutterClose.callback = None\n",
    "comcam.rem.cccamera.evt_endReadout.callback = None"
   ]
  },
  {
   "cell_type": "code",
   "execution_count": 79,
   "metadata": {},
   "outputs": [],
   "source": [
    "# Closing callbacks from startImage.\n",
    "comcam.rem.cccamera.evt_calibrationDetailedState.callback = None\n",
    "comcam.rem.cccamera.evt_shutterDetailedState.callback = None\n",
    "comcam.rem.cccamera.evt_endShutterOpen.callback = None\n",
    "comcam.rem.cccamera.evt_startReadout.callback = None"
   ]
  },
  {
   "cell_type": "markdown",
   "metadata": {},
   "source": [
    "---\n",
    "Set Filter Test\n",
    "Send a CCCamera_command_setFilter command for positionFilter1.\n",
    "    \n",
    "    Results:\n",
    "    The CCCamera_logevent_startSetFilter event is published to the EFD with the name of the filter being set\n",
    "    The CCCamera_logevent_startLoadFilter event is published to the EFD\n",
    "    The CCCamera_logevent_filterChangerDetailedState event is published to the EFD showing UNLOADED\n",
    "    The CCCamera_logevent_endLoadFilter event is published to the EFD\n",
    "    The CCCamera_logevent_filterChangerDetailedState event is published to the EFD and showing ROTATING\n",
    "    The CCCamera_logevent_startRotateCarousel event is published to the EFD\n",
    "    The CCCamera_logevent_filterChangerDetailedState event is published to the EFD and showing UNLOADED\n",
    "    The CCCamera_logevent_endRotatorCarousel event is published to the EFD\n",
    "    The CCCamera_logevent_filterChangerDetailedState event is published to the EFD and showing LOADING\n",
    "    The CCCamera_logevent_startLoadFilter event is published to the EFD\n",
    "    The CCCamera_logevent_filterChangerDetailedState event is published to the EFD showing LOADED\n",
    "    The CCCamera_logevent_endSetFilter event is published to the EFD"
   ]
  },
  {
   "cell_type": "code",
   "execution_count": 89,
   "metadata": {},
   "outputs": [],
   "source": [
    "comcam.rem.cccamera.evt_startSetFilter.callback = evt_time_callback\n",
    "comcam.rem.cccamera.evt_startLoadFilter.callback = evt_time_callback\n",
    "comcam.rem.cccamera.evt_filterChangerDetailedState.callback = evt_time_callback\n",
    "comcam.rem.cccamera.evt_endLoadFilter.callback = evt_time_callback\n",
    "comcam.rem.cccamera.evt_startRotateCarousel.callback = evt_time_callback\n",
    "comcam.rem.cccamera.evt_endRotateCarousel.callback = evt_time_callback\n",
    "comcam.rem.cccamera.evt_endSetFilter.callback = evt_time_callback"
   ]
  },
  {
   "cell_type": "code",
   "execution_count": 90,
   "metadata": {},
   "outputs": [
    {
     "name": "stdout",
     "output_type": "stream",
     "text": [
      "\n",
      " startSetFilter logevent at 2022-07-08 17:16:08.457 is \n",
      " \tprivate_revCode: 031a81c3, private_sndStamp: 1657300568.4575944, private_rcvStamp: 1657300568.4579308, private_seqNum: 3, private_identity: CCCamera, private_origin: 35289769, filterName: r_03, filterType: r\n",
      "\n",
      " filterChangerDetailedState logevent at 2022-07-08 17:16:08.460 is \n",
      " \tprivate_revCode: 00917c89, private_sndStamp: 1657300568.4601815, private_rcvStamp: 1657300568.4605129, private_seqNum: 6, private_identity: CCCamera, private_origin: 35289769, substate: 1, timestampTransition: 0.0\n",
      "\n",
      " filterChangerDetailedState logevent at 2022-07-08 17:16:23.458 is \n",
      " \tprivate_revCode: 00917c89, private_sndStamp: 1657300583.4589872, private_rcvStamp: 1657300583.4592266, private_seqNum: 7, private_identity: CCCamera, private_origin: 35289769, substate: 4, timestampTransition: 0.0\n",
      "\n",
      " startRotateCarousel logevent at 2022-07-08 17:16:23.459 is \n",
      " \tprivate_revCode: dba0ed3b, private_sndStamp: 1657300583.4598105, private_rcvStamp: 1657300583.46008, private_seqNum: 1, private_identity: CCCamera, private_origin: 35289769, timestampTransition: 1657300583.4578443\n",
      "\n",
      " filterChangerDetailedState logevent at 2022-07-08 17:16:23.460 is \n",
      " \tprivate_revCode: 00917c89, private_sndStamp: 1657300583.460007, private_rcvStamp: 1657300583.4601943, private_seqNum: 8, private_identity: CCCamera, private_origin: 35289769, substate: 5, timestampTransition: 0.0\n",
      "\n",
      " filterChangerDetailedState logevent at 2022-07-08 17:16:30.660 is \n",
      " \tprivate_revCode: 00917c89, private_sndStamp: 1657300590.6602318, private_rcvStamp: 1657300590.6604786, private_seqNum: 9, private_identity: CCCamera, private_origin: 35289769, substate: 4, timestampTransition: 0.0\n",
      "\n",
      " startLoadFilter logevent at 2022-07-08 17:16:30.660 is \n",
      " \tprivate_revCode: 13b5a0b1, private_sndStamp: 1657300590.6608136, private_rcvStamp: 1657300590.6610518, private_seqNum: 1, private_identity: CCCamera, private_origin: 35289769, timestampTransition: 1657300590.6591423\n",
      "\n",
      " filterChangerDetailedState logevent at 2022-07-08 17:16:30.660 is \n",
      " \tprivate_revCode: 00917c89, private_sndStamp: 1657300590.6609936, private_rcvStamp: 1657300590.6611712, private_seqNum: 10, private_identity: CCCamera, private_origin: 35289769, substate: 2, timestampTransition: 0.0\n",
      "\n",
      " endRotateCarousel logevent at 2022-07-08 17:16:30.660 is \n",
      " \tprivate_revCode: 28f1b632, private_sndStamp: 1657300590.6600134, private_rcvStamp: 1657300590.6603966, private_seqNum: 1, private_identity: CCCamera, private_origin: 35289769, timestampTransition: 1657300590.658586\n",
      "\n",
      " endLoadFilter logevent at 2022-07-08 17:16:45.661 is \n",
      " \tprivate_revCode: cf037da6, private_sndStamp: 1657300605.6615682, private_rcvStamp: 1657300605.661927, private_seqNum: 1, private_identity: CCCamera, private_origin: 35289769, timestampTransition: 1657300605.6598\n",
      "\n",
      " filterChangerDetailedState logevent at 2022-07-08 17:16:45.662 is \n",
      " \tprivate_revCode: 00917c89, private_sndStamp: 1657300605.6620035, private_rcvStamp: 1657300605.6621914, private_seqNum: 11, private_identity: CCCamera, private_origin: 35289769, substate: 3, timestampTransition: 0.0\n",
      "\n",
      " endSetFilter logevent at 2022-07-08 17:16:45.662 is \n",
      " \tprivate_revCode: e836aa38, private_sndStamp: 1657300605.6626134, private_rcvStamp: 1657300605.6628895, private_seqNum: 3, private_identity: CCCamera, private_origin: 35289769, filterName: r_03, filterType: r, filterSlot: 1, filterPosition: 0.0\n"
     ]
    },
    {
     "data": {
      "text/plain": [
       "<ddsutil.CCCamera_ackcmd_ff5ef83c at 0x7fa1cccbfe20>"
      ]
     },
     "execution_count": 90,
     "metadata": {},
     "output_type": "execute_result"
    }
   ],
   "source": [
    "await comcam.rem.cccamera.cmd_setFilter.set_start(name = 'r_03')"
   ]
  },
  {
   "cell_type": "code",
   "execution_count": 91,
   "metadata": {},
   "outputs": [],
   "source": [
    "comcam.rem.cccamera.evt_startSetFilter.callback = None\n",
    "comcam.rem.cccamera.evt_startLoadFilter.callback = None\n",
    "comcam.rem.cccamera.evt_filterChangerDetailedState.callback = None\n",
    "comcam.rem.cccamera.evt_endLoadFilter.callback = None\n",
    "comcam.rem.cccamera.evt_startRotateCarousel.callback = None\n",
    "comcam.rem.cccamera.evt_endRotateCarousel.callback = None\n",
    "comcam.rem.cccamera.evt_endSetFilter.callback = None"
   ]
  },
  {
   "cell_type": "code",
   "execution_count": 92,
   "metadata": {},
   "outputs": [
    {
     "data": {
      "text/plain": [
       "'r_03'"
      ]
     },
     "execution_count": 92,
     "metadata": {},
     "output_type": "execute_result"
    }
   ],
   "source": [
    "await comcam.get_current_filter()"
   ]
  },
  {
   "cell_type": "markdown",
   "metadata": {},
   "source": [
    "---\n",
    "Send a CCCamera_command_setFilter command with NONE.\n",
    "\n",
    "    Results:\n",
    "        The CCCamera_logevent_startSetFilter event is published to the EFD with the name of the filter being set\n",
    "    The CCCamera_logevent_startUnloadFilter event is published to the EFD\n",
    "        The CCCamera_logevent_filterChangerDetailedState event is published to the EFD showing UNLOADING\n",
    "    The CCCamera_logevent_endUnloadFilter event is published to the EFD\n",
    "        The CCCamera_logevent_filterChangerDetailedState event is published to the EFD \n",
    "    The CCCamera_logevent_endSetFilter event is published to the EFD"
   ]
  },
  {
   "cell_type": "code",
   "execution_count": 95,
   "metadata": {},
   "outputs": [],
   "source": [
    "comcam.rem.cccamera.evt_startSetFilter.callback = evt_time_callback\n",
    "comcam.rem.cccamera.evt_startUnloadFilter.callback = evt_time_callback\n",
    "comcam.rem.cccamera.evt_filterChangerDetailedState.callback = evt_time_callback\n",
    "comcam.rem.cccamera.evt_endSetFilter.callback = evt_time_callback"
   ]
  },
  {
   "cell_type": "code",
   "execution_count": 101,
   "metadata": {},
   "outputs": [
    {
     "ename": "AckError",
     "evalue": "msg='Command failed', ackcmd=(ackcmd private_seqNum=1520055166, ack=<SalRetCode.CMD_NOPERM: -300>, error=0, result='Ack : NO Command rejected: Invalid filter: ')",
     "output_type": "error",
     "traceback": [
      "\u001b[0;31m---------------------------------------------------------------------------\u001b[0m",
      "\u001b[0;31mAckError\u001b[0m                                  Traceback (most recent call last)",
      "Input \u001b[0;32mIn [101]\u001b[0m, in \u001b[0;36m<cell line: 1>\u001b[0;34m()\u001b[0m\n\u001b[0;32m----> 1\u001b[0m \u001b[38;5;28;01mawait\u001b[39;00m comcam\u001b[38;5;241m.\u001b[39mrem\u001b[38;5;241m.\u001b[39mcccamera\u001b[38;5;241m.\u001b[39mcmd_setFilter\u001b[38;5;241m.\u001b[39mset_start(name\u001b[38;5;241m=\u001b[39m\u001b[38;5;28;01mNone\u001b[39;00m)\n",
      "File \u001b[0;32m/opt/lsst/software/stack/conda/miniconda3-py38_4.9.2/envs/lsst-scipipe-4.0.1/lib/python3.10/site-packages/lsst/ts/salobj/topics/remote_command.py:418\u001b[0m, in \u001b[0;36mRemoteCommand.set_start\u001b[0;34m(self, timeout, wait_done, **kwargs)\u001b[0m\n\u001b[1;32m    377\u001b[0m \u001b[38;5;124;03m\"\"\"Create a new ``self.data``, set zero or more fields,\u001b[39;00m\n\u001b[1;32m    378\u001b[0m \u001b[38;5;124;03mand start the command.\u001b[39;00m\n\u001b[1;32m    379\u001b[0m \n\u001b[0;32m   (...)\u001b[0m\n\u001b[1;32m    415\u001b[0m \u001b[38;5;124;03m    If ``data`` is not None and not an instance of `DataType`.\u001b[39;00m\n\u001b[1;32m    416\u001b[0m \u001b[38;5;124;03m\"\"\"\u001b[39;00m\n\u001b[1;32m    417\u001b[0m \u001b[38;5;28mself\u001b[39m\u001b[38;5;241m.\u001b[39mset(\u001b[38;5;241m*\u001b[39m\u001b[38;5;241m*\u001b[39mkwargs)\n\u001b[0;32m--> 418\u001b[0m \u001b[38;5;28;01mreturn\u001b[39;00m \u001b[38;5;28;01mawait\u001b[39;00m \u001b[38;5;28mself\u001b[39m\u001b[38;5;241m.\u001b[39mstart(timeout\u001b[38;5;241m=\u001b[39mtimeout, wait_done\u001b[38;5;241m=\u001b[39mwait_done)\n",
      "File \u001b[0;32m/opt/lsst/software/stack/conda/miniconda3-py38_4.9.2/envs/lsst-scipipe-4.0.1/lib/python3.10/site-packages/lsst/ts/salobj/topics/remote_command.py:485\u001b[0m, in \u001b[0;36mRemoteCommand.start\u001b[0;34m(self, data, timeout, wait_done)\u001b[0m\n\u001b[1;32m    481\u001b[0m cmd_info \u001b[38;5;241m=\u001b[39m CommandInfo(\n\u001b[1;32m    482\u001b[0m     remote_command\u001b[38;5;241m=\u001b[39m\u001b[38;5;28mself\u001b[39m, seq_num\u001b[38;5;241m=\u001b[39mseq_num, wait_done\u001b[38;5;241m=\u001b[39mwait_done\n\u001b[1;32m    483\u001b[0m )\n\u001b[1;32m    484\u001b[0m \u001b[38;5;28mself\u001b[39m\u001b[38;5;241m.\u001b[39msalinfo\u001b[38;5;241m.\u001b[39m_running_cmds[seq_num] \u001b[38;5;241m=\u001b[39m cmd_info\n\u001b[0;32m--> 485\u001b[0m \u001b[38;5;28;01mreturn\u001b[39;00m \u001b[38;5;28;01mawait\u001b[39;00m cmd_info\u001b[38;5;241m.\u001b[39mnext_ackcmd(timeout\u001b[38;5;241m=\u001b[39mtimeout)\n",
      "File \u001b[0;32m/opt/lsst/software/stack/conda/miniconda3-py38_4.9.2/envs/lsst-scipipe-4.0.1/lib/python3.10/site-packages/lsst/ts/salobj/topics/remote_command.py:195\u001b[0m, in \u001b[0;36mCommandInfo.next_ackcmd\u001b[0;34m(self, timeout)\u001b[0m\n\u001b[1;32m    193\u001b[0m     ackcmd \u001b[38;5;241m=\u001b[39m \u001b[38;5;28;01mawait\u001b[39;00m \u001b[38;5;28mself\u001b[39m\u001b[38;5;241m.\u001b[39m_wait_task\n\u001b[1;32m    194\u001b[0m     \u001b[38;5;28;01mif\u001b[39;00m ackcmd\u001b[38;5;241m.\u001b[39mack \u001b[38;5;129;01min\u001b[39;00m \u001b[38;5;28mself\u001b[39m\u001b[38;5;241m.\u001b[39mfailed_ack_codes:\n\u001b[0;32m--> 195\u001b[0m         \u001b[38;5;28;01mraise\u001b[39;00m base\u001b[38;5;241m.\u001b[39mAckError(msg\u001b[38;5;241m=\u001b[39m\u001b[38;5;124m\"\u001b[39m\u001b[38;5;124mCommand failed\u001b[39m\u001b[38;5;124m\"\u001b[39m, ackcmd\u001b[38;5;241m=\u001b[39mackcmd)\n\u001b[1;32m    196\u001b[0m     \u001b[38;5;28;01mreturn\u001b[39;00m ackcmd\n\u001b[1;32m    197\u001b[0m \u001b[38;5;28;01mexcept\u001b[39;00m asyncio\u001b[38;5;241m.\u001b[39mTimeoutError:\n",
      "\u001b[0;31mAckError\u001b[0m: msg='Command failed', ackcmd=(ackcmd private_seqNum=1520055166, ack=<SalRetCode.CMD_NOPERM: -300>, error=0, result='Ack : NO Command rejected: Invalid filter: ')"
     ]
    }
   ],
   "source": [
    "await comcam.rem.cccamera.cmd_setFilter.set_start(name=None)"
   ]
  },
  {
   "cell_type": "code",
   "execution_count": 102,
   "metadata": {},
   "outputs": [],
   "source": [
    "comcam.rem.cccamera.evt_startSetFilter.callback = None\n",
    "comcam.rem.cccamera.evt_startUnloadFilter.callback = None\n",
    "comcam.rem.cccamera.evt_filterChangerDetailedState.callback = None\n",
    "comcam.rem.cccamera.evt_endSetFilter.callback = None"
   ]
  },
  {
   "cell_type": "markdown",
   "metadata": {},
   "source": [
    "--- \n",
    "Take Image Test\n",
    "While in the ENABLED state, send a CCCamera_command_initImage command of 15s.\n",
    "\n",
    "Note: This deltaT value is an estimate of time before sending the CCCamera_command_takeImage command. If the command can be sent sooner/later, adjust the deltaT value.\n",
    "\n",
    "    Results: \n",
    "    The command is accepted\n",
    "    The CCCamera_logevent_ImageReadinesDetailedState event is published to the EFD showing the system transitions into the Getting_Ready state\n",
    "    A CCCamera_logevent_prepareToTakeImage event is published to the EFD at the time of the transition\n",
    "    A CCCamera_logevent_NotReadyToTakeImage event is published before reaching the Ready state.\n",
    "    \n",
    "    \n",
    "**** Not available at EFD `comcam.rem.cccamera.evt_prepareToTakeImage` & `comcam.rem.cccamera.evt_notReadyToTakeImage`"
   ]
  },
  {
   "cell_type": "code",
   "execution_count": 103,
   "metadata": {},
   "outputs": [],
   "source": [
    "comcam.rem.cccamera.evt_imageReadinessDetailedState.callback = evt_time_callback\n",
    "comcam.rem.cccamera.evt_prepareToTakeImage.callback = evt_time_callback\n",
    "comcam.rem.cccamera.evt_notReadyToTakeImage.callback = evt_time_callback"
   ]
  },
  {
   "cell_type": "code",
   "execution_count": 105,
   "metadata": {},
   "outputs": [
    {
     "name": "stdout",
     "output_type": "stream",
     "text": [
      "\n",
      " imageReadinessDetailedState logevent at 2022-07-08 17:21:20.540 is \n",
      " \tprivate_revCode: 90d66834, private_sndStamp: 1657300880.5404873, private_rcvStamp: 1657300880.5408556, private_seqNum: 7, private_identity: CCCamera, private_origin: 35289769, substate: 1, timestampTransition: 0.0\n"
     ]
    },
    {
     "data": {
      "text/plain": [
       "<ddsutil.CCCamera_ackcmd_ff5ef83c at 0x7fa1cc7e1180>"
      ]
     },
     "execution_count": 105,
     "metadata": {},
     "output_type": "execute_result"
    },
    {
     "name": "stdout",
     "output_type": "stream",
     "text": [
      "\n",
      " imageReadinessDetailedState logevent at 2022-07-08 17:21:20.541 is \n",
      " \tprivate_revCode: 90d66834, private_sndStamp: 1657300880.5413995, private_rcvStamp: 1657300880.5417087, private_seqNum: 8, private_identity: CCCamera, private_origin: 35289769, substate: 3, timestampTransition: 0.0\n"
     ]
    }
   ],
   "source": [
    "await comcam.rem.cccamera.cmd_initImage.set_start(deltaT = 15)"
   ]
  },
  {
   "cell_type": "code",
   "execution_count": 106,
   "metadata": {},
   "outputs": [],
   "source": [
    "comcam.rem.cccamera.evt_imageReadinessDetailedState.callback = None\n",
    "comcam.rem.cccamera.evt_prepareToTakeImage.callback = None\n",
    "comcam.rem.cccamera.evt_notReadyToTakeImage.callback = None"
   ]
  },
  {
   "cell_type": "markdown",
   "metadata": {},
   "source": [
    "---\n",
    "Verify the Camera is ready to take a picture.\n",
    "    \n",
    "    Results:\n",
    "    The CCCamera_logevent_ImageReadinesDetailedState event is published to the EFD showing the system transitions into the Ready state\n",
    "    A CCCamera_logevent_readyToTakeImage event is published to the EFD at the time of the transition\n",
    "    A CCCamera_logevent_endInitializeImage event is published to the EFD at the time of the transition\n",
    "    \n",
    "**** Not available at EFD `comcam.rem.cccamera.evt_readyToTakeImage` & `comcam.rem.cccamera.evt_endInitializeImage`"
   ]
  },
  {
   "cell_type": "code",
   "execution_count": 107,
   "metadata": {},
   "outputs": [
    {
     "data": {
      "text/html": [
       "<pre style=\"margin: 0.1em;\n",
       "padding-left: 0.25em;\n",
       "border-left-style: solid;\n",
       "font-family: var(--jp-code-font-family);\n",
       "font-size: var(--jp-code-font-size);\n",
       "line-height: var(--jp-code-line-height);\n",
       "\"><span style=\"color: var(--jp-warn-color2)\">root</span> <span style=\"color: var(--jp-info-color0)\">INFO</span>: Image Readiness Detailed State at 2022-07-08 17:21:20.541 is \n",
       " private_revCode: 90d66834, private_sndStamp: 1657300880.5413995, private_rcvStamp: 1657300880.5417087, private_seqNum: 8, private_identity: CCCamera, private_origin: 35289769, substate: 3, timestampTransition: 0.0</pre>"
      ],
      "text/plain": [
       "<IPython.core.display.HTML object>"
      ]
     },
     "metadata": {},
     "output_type": "display_data"
    }
   ],
   "source": [
    "readiness = comcam.rem.cccamera.evt_imageReadinessDetailedState.get()\n",
    "time_readiness = datetime.utcfromtimestamp(readiness.private_sndStamp).strftime(\"%Y-%m-%d %H:%M:%S.%f\")[:-3]\n",
    "logger.info(f'Image Readiness Detailed State at {time_readiness}' \n",
    "            f' is \\n {readiness}')"
   ]
  },
  {
   "cell_type": "code",
   "execution_count": 108,
   "metadata": {},
   "outputs": [
    {
     "ename": "AttributeError",
     "evalue": "'NoneType' object has no attribute 'private_sndStamp'",
     "output_type": "error",
     "traceback": [
      "\u001b[0;31m---------------------------------------------------------------------------\u001b[0m",
      "\u001b[0;31mAttributeError\u001b[0m                            Traceback (most recent call last)",
      "Input \u001b[0;32mIn [108]\u001b[0m, in \u001b[0;36m<cell line: 2>\u001b[0;34m()\u001b[0m\n\u001b[1;32m      1\u001b[0m ready_to_take_image \u001b[38;5;241m=\u001b[39m comcam\u001b[38;5;241m.\u001b[39mrem\u001b[38;5;241m.\u001b[39mcccamera\u001b[38;5;241m.\u001b[39mevt_readyToTakeImage\u001b[38;5;241m.\u001b[39mget()\n\u001b[0;32m----> 2\u001b[0m time_ready_to_take_image \u001b[38;5;241m=\u001b[39m datetime\u001b[38;5;241m.\u001b[39mutcfromtimestamp(\u001b[43mready_to_take_image\u001b[49m\u001b[38;5;241;43m.\u001b[39;49m\u001b[43mprivate_sndStamp\u001b[49m)\u001b[38;5;241m.\u001b[39mstrftime(\u001b[38;5;124m\"\u001b[39m\u001b[38;5;124m%\u001b[39m\u001b[38;5;124mY-\u001b[39m\u001b[38;5;124m%\u001b[39m\u001b[38;5;124mm-\u001b[39m\u001b[38;5;132;01m%d\u001b[39;00m\u001b[38;5;124m \u001b[39m\u001b[38;5;124m%\u001b[39m\u001b[38;5;124mH:\u001b[39m\u001b[38;5;124m%\u001b[39m\u001b[38;5;124mM:\u001b[39m\u001b[38;5;124m%\u001b[39m\u001b[38;5;124mS.\u001b[39m\u001b[38;5;132;01m%f\u001b[39;00m\u001b[38;5;124m\"\u001b[39m)[:\u001b[38;5;241m-\u001b[39m\u001b[38;5;241m3\u001b[39m]\n\u001b[1;32m      3\u001b[0m logger\u001b[38;5;241m.\u001b[39minfo(\u001b[38;5;124mf\u001b[39m\u001b[38;5;124m'\u001b[39m\u001b[38;5;124mReady to take image at \u001b[39m\u001b[38;5;132;01m{\u001b[39;00mtime_ready_to_take_image\u001b[38;5;132;01m}\u001b[39;00m\u001b[38;5;124m'\u001b[39m \n\u001b[1;32m      4\u001b[0m             \u001b[38;5;124mf\u001b[39m\u001b[38;5;124m'\u001b[39m\u001b[38;5;124m is \u001b[39m\u001b[38;5;130;01m\\n\u001b[39;00m\u001b[38;5;124m \u001b[39m\u001b[38;5;132;01m{\u001b[39;00mready_to_take_image\u001b[38;5;132;01m}\u001b[39;00m\u001b[38;5;124m'\u001b[39m)\n",
      "\u001b[0;31mAttributeError\u001b[0m: 'NoneType' object has no attribute 'private_sndStamp'"
     ]
    }
   ],
   "source": [
    "ready_to_take_image = comcam.rem.cccamera.evt_readyToTakeImage.get()\n",
    "time_ready_to_take_image = datetime.utcfromtimestamp(ready_to_take_image.private_sndStamp).strftime(\"%Y-%m-%d %H:%M:%S.%f\")[:-3]\n",
    "logger.info(f'Ready to take image at {time_ready_to_take_image}' \n",
    "            f' is \\n {ready_to_take_image}')\n"
   ]
  },
  {
   "cell_type": "code",
   "execution_count": 109,
   "metadata": {},
   "outputs": [
    {
     "ename": "AttributeError",
     "evalue": "'NoneType' object has no attribute 'private_sndStamp'",
     "output_type": "error",
     "traceback": [
      "\u001b[0;31m---------------------------------------------------------------------------\u001b[0m",
      "\u001b[0;31mAttributeError\u001b[0m                            Traceback (most recent call last)",
      "Input \u001b[0;32mIn [109]\u001b[0m, in \u001b[0;36m<cell line: 2>\u001b[0;34m()\u001b[0m\n\u001b[1;32m      1\u001b[0m end_initialize_image \u001b[38;5;241m=\u001b[39m comcam\u001b[38;5;241m.\u001b[39mrem\u001b[38;5;241m.\u001b[39mcccamera\u001b[38;5;241m.\u001b[39mevt_endInitializeImage\u001b[38;5;241m.\u001b[39mget()\n\u001b[0;32m----> 2\u001b[0m time_end_initialize_image \u001b[38;5;241m=\u001b[39m datetime\u001b[38;5;241m.\u001b[39mutcfromtimestamp(\u001b[43mend_initialize_image\u001b[49m\u001b[38;5;241;43m.\u001b[39;49m\u001b[43mprivate_sndStamp\u001b[49m)\u001b[38;5;241m.\u001b[39mstrftime(\u001b[38;5;124m\"\u001b[39m\u001b[38;5;124m%\u001b[39m\u001b[38;5;124mY-\u001b[39m\u001b[38;5;124m%\u001b[39m\u001b[38;5;124mm-\u001b[39m\u001b[38;5;132;01m%d\u001b[39;00m\u001b[38;5;124m \u001b[39m\u001b[38;5;124m%\u001b[39m\u001b[38;5;124mH:\u001b[39m\u001b[38;5;124m%\u001b[39m\u001b[38;5;124mM:\u001b[39m\u001b[38;5;124m%\u001b[39m\u001b[38;5;124mS.\u001b[39m\u001b[38;5;132;01m%f\u001b[39;00m\u001b[38;5;124m\"\u001b[39m)[:\u001b[38;5;241m-\u001b[39m\u001b[38;5;241m3\u001b[39m]\n\u001b[1;32m      3\u001b[0m logger\u001b[38;5;241m.\u001b[39minfo(\u001b[38;5;124mf\u001b[39m\u001b[38;5;124m'\u001b[39m\u001b[38;5;124mEnd Initialize Image at \u001b[39m\u001b[38;5;132;01m{\u001b[39;00mtime_end_initialize_image\u001b[38;5;132;01m}\u001b[39;00m\u001b[38;5;124m'\u001b[39m \n\u001b[1;32m      4\u001b[0m             \u001b[38;5;124mf\u001b[39m\u001b[38;5;124m'\u001b[39m\u001b[38;5;124m is \u001b[39m\u001b[38;5;130;01m\\n\u001b[39;00m\u001b[38;5;124m \u001b[39m\u001b[38;5;132;01m{\u001b[39;00mend_initialize_image\u001b[38;5;132;01m}\u001b[39;00m\u001b[38;5;124m'\u001b[39m)\n",
      "\u001b[0;31mAttributeError\u001b[0m: 'NoneType' object has no attribute 'private_sndStamp'"
     ]
    }
   ],
   "source": [
    "end_initialize_image = comcam.rem.cccamera.evt_endInitializeImage.get()\n",
    "time_end_initialize_image = datetime.utcfromtimestamp(end_initialize_image.private_sndStamp).strftime(\"%Y-%m-%d %H:%M:%S.%f\")[:-3]\n",
    "logger.info(f'End Initialize Image at {time_end_initialize_image}' \n",
    "            f' is \\n {end_initialize_image}')"
   ]
  },
  {
   "cell_type": "markdown",
   "metadata": {},
   "source": [
    "---\n",
    "With the Camera ready to take a picture, send the CCCamera_command_takeImages command.\n",
    "\n",
    "    Results:\n",
    "    A CCCamera_logevent_startIntegration event is published to the EFD\n",
    "    A CCCamera_logevent_startShutterOpen event is published to the EFD.\n",
    "    A CCCamera_logevent_endShutterOpen event is published to the EFD.\n",
    "    The Camera publishes a CCCamera_logevent_startShutterClose event as the camera shutter starts to shut\n",
    "    The Camera publishes a CCCamera_logevent_endShutterClose event when the camera shutter is closed\n",
    "    A CCCamera_logevent_startReadout event is published\n",
    "    A CCCamera_logevent_endReadout event is published"
   ]
  },
  {
   "cell_type": "code",
   "execution_count": 110,
   "metadata": {},
   "outputs": [],
   "source": [
    "comcam.rem.cccamera.evt_startIntegration.callback = evt_time_callback\n",
    "comcam.rem.cccamera.evt_startShutterOpen.callback = evt_time_callback\n",
    "comcam.rem.cccamera.evt_endShutterOpen.callback = evt_time_callback\n",
    "comcam.rem.cccamera.evt_startShutterClose.callback = evt_time_callback\n",
    "comcam.rem.cccamera.evt_endShutterClose.callback = evt_time_callback\n",
    "comcam.rem.cccamera.evt_startReadout.callback = evt_time_callback\n",
    "comcam.rem.cccamera.evt_endReadout.callback = evt_time_callback"
   ]
  },
  {
   "cell_type": "code",
   "execution_count": 111,
   "metadata": {},
   "outputs": [],
   "source": [
    "keyValueMap = f'groupId:{Time.now().isot},imageType:ENGTEST'"
   ]
  },
  {
   "cell_type": "code",
   "execution_count": 112,
   "metadata": {},
   "outputs": [
    {
     "data": {
      "text/plain": [
       "True"
      ]
     },
     "execution_count": 112,
     "metadata": {},
     "output_type": "execute_result"
    }
   ],
   "source": [
    "# Set parameters\n",
    "comcam.rem.cccamera.cmd_takeImages.set(shutter=True, keyValueMap=keyValueMap, numImages=1, expTime=20, obsNote = 'test')"
   ]
  },
  {
   "cell_type": "code",
   "execution_count": 113,
   "metadata": {},
   "outputs": [
    {
     "name": "stdout",
     "output_type": "stream",
     "text": [
      "\n",
      " startIntegration logevent at 2022-07-08 17:25:19.260 is \n",
      " \tprivate_revCode: ac7ce4ef, private_sndStamp: 1657301119.260018, private_rcvStamp: 1657301119.260282, private_seqNum: 9, private_identity: CCCamera, private_origin: 35289769, additionalKeys: groupId:imageType, additionalValues: 2022-07-08T17\\:24\\:33.142:ENGTEST, imagesInSequence: 1, imageName: CC_O_20220708_000013, imageIndex: 1, imageSource: CC, imageController: O, imageDate: 20220708, imageNumber: 13, timestampAcquisitionStart: 1657299929.1440973, exposureTime: 20.0, mode: normal, timeout: 20.0\n",
      "\n",
      " startShutterOpen logevent at 2022-07-08 17:25:19.261 is \n",
      " \tprivate_revCode: e26069d4, private_sndStamp: 1657301119.2611918, private_rcvStamp: 1657301119.261704, private_seqNum: 8, private_identity: CCCamera, private_origin: 35289769, timestampTransition: 1657301119.2599976\n",
      "\n",
      " endShutterOpen logevent at 2022-07-08 17:25:20.242 is \n",
      " \tprivate_revCode: dc9d3865, private_sndStamp: 1657301120.2422593, private_rcvStamp: 1657301120.2426662, private_seqNum: 8, private_identity: CCCamera, private_origin: 35289769, timestampTransition: 1657301120.2407005\n",
      "\n",
      " startShutterClose logevent at 2022-07-08 17:25:40.242 is \n",
      " \tprivate_revCode: 50554e50, private_sndStamp: 1657301140.2422364, private_rcvStamp: 1657301140.242542, private_seqNum: 8, private_identity: CCCamera, private_origin: 35289769, timestampTransition: 1657301140.2407281\n",
      "\n",
      " endShutterClose logevent at 2022-07-08 17:25:41.222 is \n",
      " \tprivate_revCode: 1a6c8bc0, private_sndStamp: 1657301141.2222278, private_rcvStamp: 1657301141.222684, private_seqNum: 9, private_identity: CCCamera, private_origin: 35289769, timestampTransition: 1657301141.2207038\n",
      "\n",
      " startReadout logevent at 2022-07-08 17:25:42.326 is \n",
      " \tprivate_revCode: 0bfffb9a, private_sndStamp: 1657301142.3268445, private_rcvStamp: 1657301142.3271477, private_seqNum: 9, private_identity: CCCamera, private_origin: 35289769, additionalKeys: groupId:imageType, additionalValues: 2022-07-08T17\\:24\\:33.142:ENGTEST, imagesInSequence: 1, imageName: CC_O_20220708_000013, imageIndex: 1, imageSource: CC, imageController: O, imageDate: 20220708, imageNumber: 13, timestampAcquisitionStart: 1657299929.1440973, exposureTime: 20.0, timestampStartOfReadout: 1657301142.3238535\n"
     ]
    },
    {
     "data": {
      "text/plain": [
       "<ddsutil.CCCamera_ackcmd_ff5ef83c at 0x7fa1cd3955d0>"
      ]
     },
     "execution_count": 113,
     "metadata": {},
     "output_type": "execute_result"
    },
    {
     "name": "stdout",
     "output_type": "stream",
     "text": [
      "\n",
      " endReadout logevent at 2022-07-08 17:25:44.323 is \n",
      " \tprivate_revCode: 82211edd, private_sndStamp: 1657301144.323929, private_rcvStamp: 1657301144.324305, private_seqNum: 9, private_identity: CCCamera, private_origin: 35289769, additionalKeys: groupId:imageType, additionalValues: 2022-07-08T17\\:24\\:33.142:ENGTEST, imagesInSequence: 1, imageName: CC_O_20220708_000013, imageIndex: 1, imageSource: CC, imageController: O, imageDate: 20220708, imageNumber: 13, timestampAcquisitionStart: 1657299929.1440973, requestedExposureTime: 20.0, timestampEndOfReadout: 1657301144.3218834\n"
     ]
    }
   ],
   "source": [
    "await comcam.rem.cccamera.cmd_takeImages.start()"
   ]
  },
  {
   "cell_type": "code",
   "execution_count": 114,
   "metadata": {},
   "outputs": [],
   "source": [
    "comcam.rem.cccamera.evt_startIntegration.callback = None\n",
    "comcam.rem.cccamera.evt_startShutterOpen.callback = None\n",
    "comcam.rem.cccamera.evt_endShutterOpen.callback = None\n",
    "comcam.rem.cccamera.evt_startShutterClose.callback = None\n",
    "comcam.rem.cccamera.evt_endShutterClose.callback = None\n",
    "comcam.rem.cccamera.evt_startReadout.callback = None\n",
    "comcam.rem.cccamera.evt_endReadout.callback = None"
   ]
  },
  {
   "cell_type": "markdown",
   "metadata": {},
   "source": [
    "---\n",
    "Verify the Camera is done taking pictures.\n",
    "\n",
    "    Results:\n",
    "    A CCCamera_logevent_endTakeImage event is published to the EFD at the time the state transition occurs.\n",
    "    A CCCamera_logevent_endOfImageTelemetry event is published\n",
    "    \n",
    "**** Not available at EFD `comcam.rem.cccamera.evt_endTakeImage` "
   ]
  },
  {
   "cell_type": "code",
   "execution_count": 115,
   "metadata": {},
   "outputs": [
    {
     "ename": "AttributeError",
     "evalue": "'NoneType' object has no attribute 'private_sndStamp'",
     "output_type": "error",
     "traceback": [
      "\u001b[0;31m---------------------------------------------------------------------------\u001b[0m",
      "\u001b[0;31mAttributeError\u001b[0m                            Traceback (most recent call last)",
      "Input \u001b[0;32mIn [115]\u001b[0m, in \u001b[0;36m<cell line: 2>\u001b[0;34m()\u001b[0m\n\u001b[1;32m      1\u001b[0m end_take_image \u001b[38;5;241m=\u001b[39m comcam\u001b[38;5;241m.\u001b[39mrem\u001b[38;5;241m.\u001b[39mcccamera\u001b[38;5;241m.\u001b[39mevt_endTakeImage\u001b[38;5;241m.\u001b[39mget()\n\u001b[0;32m----> 2\u001b[0m time_end_take_image \u001b[38;5;241m=\u001b[39m datetime\u001b[38;5;241m.\u001b[39mutcfromtimestamp(\u001b[43mend_take_image\u001b[49m\u001b[38;5;241;43m.\u001b[39;49m\u001b[43mprivate_sndStamp\u001b[49m)\u001b[38;5;241m.\u001b[39mstrftime(\u001b[38;5;124m\"\u001b[39m\u001b[38;5;124m%\u001b[39m\u001b[38;5;124mY-\u001b[39m\u001b[38;5;124m%\u001b[39m\u001b[38;5;124mm-\u001b[39m\u001b[38;5;132;01m%d\u001b[39;00m\u001b[38;5;124m \u001b[39m\u001b[38;5;124m%\u001b[39m\u001b[38;5;124mH:\u001b[39m\u001b[38;5;124m%\u001b[39m\u001b[38;5;124mM:\u001b[39m\u001b[38;5;124m%\u001b[39m\u001b[38;5;124mS.\u001b[39m\u001b[38;5;132;01m%f\u001b[39;00m\u001b[38;5;124m\"\u001b[39m)[:\u001b[38;5;241m-\u001b[39m\u001b[38;5;241m3\u001b[39m]\n\u001b[1;32m      3\u001b[0m logger\u001b[38;5;241m.\u001b[39minfo(\u001b[38;5;124mf\u001b[39m\u001b[38;5;124m'\u001b[39m\u001b[38;5;124mEnd Take Image at \u001b[39m\u001b[38;5;132;01m{\u001b[39;00mtime_end_take_image\u001b[38;5;132;01m}\u001b[39;00m\u001b[38;5;124m'\u001b[39m \n\u001b[1;32m      4\u001b[0m             \u001b[38;5;124mf\u001b[39m\u001b[38;5;124m'\u001b[39m\u001b[38;5;124m is \u001b[39m\u001b[38;5;130;01m\\n\u001b[39;00m\u001b[38;5;124m \u001b[39m\u001b[38;5;132;01m{\u001b[39;00mend_take_image\u001b[38;5;132;01m}\u001b[39;00m\u001b[38;5;124m'\u001b[39m)\n",
      "\u001b[0;31mAttributeError\u001b[0m: 'NoneType' object has no attribute 'private_sndStamp'"
     ]
    }
   ],
   "source": [
    "end_take_image = comcam.rem.cccamera.evt_endTakeImage.get()\n",
    "time_end_take_image = datetime.utcfromtimestamp(end_take_image.private_sndStamp).strftime(\"%Y-%m-%d %H:%M:%S.%f\")[:-3]\n",
    "logger.info(f'End Take Image at {time_end_take_image}' \n",
    "            f' is \\n {end_take_image}')"
   ]
  },
  {
   "cell_type": "code",
   "execution_count": 116,
   "metadata": {},
   "outputs": [
    {
     "data": {
      "text/html": [
       "<pre style=\"margin: 0.1em;\n",
       "padding-left: 0.25em;\n",
       "border-left-style: solid;\n",
       "font-family: var(--jp-code-font-family);\n",
       "font-size: var(--jp-code-font-size);\n",
       "line-height: var(--jp-code-line-height);\n",
       "\"><span style=\"color: var(--jp-warn-color2)\">root</span> <span style=\"color: var(--jp-info-color0)\">INFO</span>: End of Image Telemetry at 2022-07-08 17:25:44.624 is \n",
       " private_revCode: 51d5e2ae, private_sndStamp: 1657301144.6243951, private_rcvStamp: 1657301144.6248353, private_seqNum: 9, private_identity: CCCamera, private_origin: 35289769, additionalKeys: groupId:imageType, additionalValues: 2022-07-08T17\\:24\\:33.142:ENGTEST, imagesInSequence: 1, imageName: CC_O_20220708_000013, imageIndex: 1, imageSource: CC, imageController: O, imageDate: 20220708, imageNumber: 13, timestampAcquisitionStart: 1657301119.2552285, exposureTime: 20.0, imageTag: 13a94b7df7e83849, timestampDateObs: 1657301119.2552285, timestampDateEnd: 1657301142.321941, measuredShutterOpenTime: 20.0, darkTime: 23.066712379455566, emulatedImage: CC_H_20211231_006002</pre>"
      ],
      "text/plain": [
       "<IPython.core.display.HTML object>"
      ]
     },
     "metadata": {},
     "output_type": "display_data"
    }
   ],
   "source": [
    "end_of_image_telemetry = comcam.rem.cccamera.evt_endOfImageTelemetry.get()\n",
    "time_end_of_image_telemetry = datetime.utcfromtimestamp(end_of_image_telemetry.private_sndStamp).strftime(\"%Y-%m-%d %H:%M:%S.%f\")[:-3]\n",
    "logger.info(f'End of Image Telemetry at {time_end_of_image_telemetry}' \n",
    "            f' is \\n {end_of_image_telemetry}')"
   ]
  },
  {
   "cell_type": "markdown",
   "metadata": {},
   "source": [
    "---\n",
    "Guiders Image Test\n",
    "\n",
    "While in the ENABLED state, send a CCCamera_command_initImage command of 15s.\n",
    "\n",
    "    Results:\n",
    "    The command is accepted\n",
    "    The CCCamera_logevent_ImageReadinesDetailedState event is published to the EFD showing the system transitions into the Getting_Ready state\n",
    "    A CCCamera_logevent_prepareToTakeImage event is published to the EFD at the time of the transition\n",
    "    A CCCamera_logevent_NotReadyToTakeImage event is published before reaching the Ready state."
   ]
  },
  {
   "cell_type": "code",
   "execution_count": 117,
   "metadata": {},
   "outputs": [],
   "source": [
    "comcam.rem.cccamera.evt_imageReadinessDetailedState.callback = evt_time_callback\n",
    "comcam.rem.cccamera.evt_prepareToTakeImage.callback = evt_time_callback\n",
    "comcam.rem.cccamera.evt_notReadyToTakeImage.callback = evt_time_callback"
   ]
  },
  {
   "cell_type": "code",
   "execution_count": 118,
   "metadata": {},
   "outputs": [
    {
     "data": {
      "text/plain": [
       "<ddsutil.CCCamera_ackcmd_ff5ef83c at 0x7fa1cccbee90>"
      ]
     },
     "execution_count": 118,
     "metadata": {},
     "output_type": "execute_result"
    },
    {
     "name": "stdout",
     "output_type": "stream",
     "text": [
      "\n",
      " imageReadinessDetailedState logevent at 2022-07-08 17:27:38.390 is \n",
      " \tprivate_revCode: 90d66834, private_sndStamp: 1657301258.3901618, private_rcvStamp: 1657301258.3904345, private_seqNum: 9, private_identity: CCCamera, private_origin: 35289769, substate: 1, timestampTransition: 0.0\n",
      "\n",
      " imageReadinessDetailedState logevent at 2022-07-08 17:27:38.391 is \n",
      " \tprivate_revCode: 90d66834, private_sndStamp: 1657301258.3911722, private_rcvStamp: 1657301258.3914313, private_seqNum: 10, private_identity: CCCamera, private_origin: 35289769, substate: 3, timestampTransition: 0.0\n"
     ]
    }
   ],
   "source": [
    "await comcam.rem.cccamera.cmd_initImage.set_start(deltaT = 15)"
   ]
  },
  {
   "cell_type": "code",
   "execution_count": 119,
   "metadata": {},
   "outputs": [],
   "source": [
    "comcam.rem.cccamera.evt_imageReadinessDetailedState.callback = None\n",
    "comcam.rem.cccamera.evt_prepareToTakeImage.callback = None\n",
    "comcam.rem.cccamera.evt_notReadyToTakeImage.callback = None"
   ]
  },
  {
   "cell_type": "markdown",
   "metadata": {},
   "source": [
    "---\n",
    "Verify the Camera is ready to take a picture.\n",
    "\n",
    "    Results:\n",
    "    The CCCamera_logevent_ImageReadinesDetailedState event is published to the EFD showing the system transitions into the Ready state\n",
    "    A CCCamera_logevent_readyToTakeImage event is published to the EFD at the time of the transition\n",
    "    A CCCamera_logevent_endInitializeImage event is published to the EFD at the time of the transition"
   ]
  },
  {
   "cell_type": "code",
   "execution_count": 120,
   "metadata": {},
   "outputs": [
    {
     "data": {
      "text/html": [
       "<pre style=\"margin: 0.1em;\n",
       "padding-left: 0.25em;\n",
       "border-left-style: solid;\n",
       "font-family: var(--jp-code-font-family);\n",
       "font-size: var(--jp-code-font-size);\n",
       "line-height: var(--jp-code-line-height);\n",
       "\"><span style=\"color: var(--jp-warn-color2)\">root</span> <span style=\"color: var(--jp-info-color0)\">INFO</span>: Image Readiness Detailed State at 2022-07-08 17:27:38.391 is \n",
       " private_revCode: 90d66834, private_sndStamp: 1657301258.3911722, private_rcvStamp: 1657301258.3914313, private_seqNum: 10, private_identity: CCCamera, private_origin: 35289769, substate: 3, timestampTransition: 0.0</pre>"
      ],
      "text/plain": [
       "<IPython.core.display.HTML object>"
      ]
     },
     "metadata": {},
     "output_type": "display_data"
    }
   ],
   "source": [
    "readiness = comcam.rem.cccamera.evt_imageReadinessDetailedState.get()\n",
    "time_readiness = datetime.utcfromtimestamp(readiness.private_sndStamp).strftime(\"%Y-%m-%d %H:%M:%S.%f\")[:-3]\n",
    "logger.info(f'Image Readiness Detailed State at {time_readiness}' \n",
    "            f' is \\n {readiness}')"
   ]
  },
  {
   "cell_type": "code",
   "execution_count": 121,
   "metadata": {},
   "outputs": [
    {
     "ename": "AttributeError",
     "evalue": "'NoneType' object has no attribute 'private_sndStamp'",
     "output_type": "error",
     "traceback": [
      "\u001b[0;31m---------------------------------------------------------------------------\u001b[0m",
      "\u001b[0;31mAttributeError\u001b[0m                            Traceback (most recent call last)",
      "Input \u001b[0;32mIn [121]\u001b[0m, in \u001b[0;36m<cell line: 2>\u001b[0;34m()\u001b[0m\n\u001b[1;32m      1\u001b[0m ready_to_take_image \u001b[38;5;241m=\u001b[39m comcam\u001b[38;5;241m.\u001b[39mrem\u001b[38;5;241m.\u001b[39mcccamera\u001b[38;5;241m.\u001b[39mevt_readyToTakeImage\u001b[38;5;241m.\u001b[39mget()\n\u001b[0;32m----> 2\u001b[0m time_ready_to_take_image \u001b[38;5;241m=\u001b[39m datetime\u001b[38;5;241m.\u001b[39mutcfromtimestamp(\u001b[43mready_to_take_image\u001b[49m\u001b[38;5;241;43m.\u001b[39;49m\u001b[43mprivate_sndStamp\u001b[49m)\u001b[38;5;241m.\u001b[39mstrftime(\u001b[38;5;124m\"\u001b[39m\u001b[38;5;124m%\u001b[39m\u001b[38;5;124mY-\u001b[39m\u001b[38;5;124m%\u001b[39m\u001b[38;5;124mm-\u001b[39m\u001b[38;5;132;01m%d\u001b[39;00m\u001b[38;5;124m \u001b[39m\u001b[38;5;124m%\u001b[39m\u001b[38;5;124mH:\u001b[39m\u001b[38;5;124m%\u001b[39m\u001b[38;5;124mM:\u001b[39m\u001b[38;5;124m%\u001b[39m\u001b[38;5;124mS.\u001b[39m\u001b[38;5;132;01m%f\u001b[39;00m\u001b[38;5;124m\"\u001b[39m)[:\u001b[38;5;241m-\u001b[39m\u001b[38;5;241m3\u001b[39m]\n\u001b[1;32m      3\u001b[0m logger\u001b[38;5;241m.\u001b[39minfo(\u001b[38;5;124mf\u001b[39m\u001b[38;5;124m'\u001b[39m\u001b[38;5;124mReady to take image at \u001b[39m\u001b[38;5;132;01m{\u001b[39;00mtime_ready_to_take_image\u001b[38;5;132;01m}\u001b[39;00m\u001b[38;5;124m'\u001b[39m \n\u001b[1;32m      4\u001b[0m             \u001b[38;5;124mf\u001b[39m\u001b[38;5;124m'\u001b[39m\u001b[38;5;124m is \u001b[39m\u001b[38;5;130;01m\\n\u001b[39;00m\u001b[38;5;124m \u001b[39m\u001b[38;5;132;01m{\u001b[39;00mready_to_take_image\u001b[38;5;132;01m}\u001b[39;00m\u001b[38;5;124m'\u001b[39m)\n",
      "\u001b[0;31mAttributeError\u001b[0m: 'NoneType' object has no attribute 'private_sndStamp'"
     ]
    }
   ],
   "source": [
    "ready_to_take_image = comcam.rem.cccamera.evt_readyToTakeImage.get()\n",
    "time_ready_to_take_image = datetime.utcfromtimestamp(ready_to_take_image.private_sndStamp).strftime(\"%Y-%m-%d %H:%M:%S.%f\")[:-3]\n",
    "logger.info(f'Ready to take image at {time_ready_to_take_image}' \n",
    "            f' is \\n {ready_to_take_image}')"
   ]
  },
  {
   "cell_type": "code",
   "execution_count": 122,
   "metadata": {},
   "outputs": [
    {
     "ename": "AttributeError",
     "evalue": "'NoneType' object has no attribute 'private_sndStamp'",
     "output_type": "error",
     "traceback": [
      "\u001b[0;31m---------------------------------------------------------------------------\u001b[0m",
      "\u001b[0;31mAttributeError\u001b[0m                            Traceback (most recent call last)",
      "Input \u001b[0;32mIn [122]\u001b[0m, in \u001b[0;36m<cell line: 2>\u001b[0;34m()\u001b[0m\n\u001b[1;32m      1\u001b[0m end_initialize_image \u001b[38;5;241m=\u001b[39m comcam\u001b[38;5;241m.\u001b[39mrem\u001b[38;5;241m.\u001b[39mcccamera\u001b[38;5;241m.\u001b[39mevt_endInitializeImage\u001b[38;5;241m.\u001b[39mget()\n\u001b[0;32m----> 2\u001b[0m time_end_initialize_image \u001b[38;5;241m=\u001b[39m datetime\u001b[38;5;241m.\u001b[39mutcfromtimestamp(\u001b[43mend_initialize_image\u001b[49m\u001b[38;5;241;43m.\u001b[39;49m\u001b[43mprivate_sndStamp\u001b[49m)\u001b[38;5;241m.\u001b[39mstrftime(\u001b[38;5;124m\"\u001b[39m\u001b[38;5;124m%\u001b[39m\u001b[38;5;124mY-\u001b[39m\u001b[38;5;124m%\u001b[39m\u001b[38;5;124mm-\u001b[39m\u001b[38;5;132;01m%d\u001b[39;00m\u001b[38;5;124m \u001b[39m\u001b[38;5;124m%\u001b[39m\u001b[38;5;124mH:\u001b[39m\u001b[38;5;124m%\u001b[39m\u001b[38;5;124mM:\u001b[39m\u001b[38;5;124m%\u001b[39m\u001b[38;5;124mS.\u001b[39m\u001b[38;5;132;01m%f\u001b[39;00m\u001b[38;5;124m\"\u001b[39m)[:\u001b[38;5;241m-\u001b[39m\u001b[38;5;241m3\u001b[39m]\n\u001b[1;32m      3\u001b[0m logger\u001b[38;5;241m.\u001b[39minfo(\u001b[38;5;124mf\u001b[39m\u001b[38;5;124m'\u001b[39m\u001b[38;5;124mEnd Initialize Image at \u001b[39m\u001b[38;5;132;01m{\u001b[39;00mtime_end_initialize_image\u001b[38;5;132;01m}\u001b[39;00m\u001b[38;5;124m'\u001b[39m \n\u001b[1;32m      4\u001b[0m             \u001b[38;5;124mf\u001b[39m\u001b[38;5;124m'\u001b[39m\u001b[38;5;124m is \u001b[39m\u001b[38;5;130;01m\\n\u001b[39;00m\u001b[38;5;124m \u001b[39m\u001b[38;5;132;01m{\u001b[39;00mend_initialize_image\u001b[38;5;132;01m}\u001b[39;00m\u001b[38;5;124m'\u001b[39m)\n",
      "\u001b[0;31mAttributeError\u001b[0m: 'NoneType' object has no attribute 'private_sndStamp'"
     ]
    }
   ],
   "source": [
    "end_initialize_image = comcam.rem.cccamera.evt_endInitializeImage.get()\n",
    "time_end_initialize_image = datetime.utcfromtimestamp(end_initialize_image.private_sndStamp).strftime(\"%Y-%m-%d %H:%M:%S.%f\")[:-3]\n",
    "logger.info(f'End Initialize Image at {time_end_initialize_image}' \n",
    "            f' is \\n {end_initialize_image}')"
   ]
  },
  {
   "cell_type": "markdown",
   "metadata": {},
   "source": [
    "---\n",
    "Send a CCCamera_command_initGuider command.\n",
    "\n",
    "    Results:\n",
    "    An CCCamera_logevent_endInitializeGuider event is published to the EFD.\n",
    "\n",
    "**** Missing at EFD `comcam.rem.cccamera.evt_endInitializeGuider`"
   ]
  },
  {
   "cell_type": "code",
   "execution_count": 123,
   "metadata": {},
   "outputs": [],
   "source": [
    "comcam.rem.cccamera.evt_endInitializeGuider.callback = evt_time_callback"
   ]
  },
  {
   "cell_type": "code",
   "execution_count": 124,
   "metadata": {},
   "outputs": [
    {
     "data": {
      "text/plain": [
       "<ddsutil.CCCamera_ackcmd_ff5ef83c at 0x7fa1cccbe020>"
      ]
     },
     "execution_count": 124,
     "metadata": {},
     "output_type": "execute_result"
    }
   ],
   "source": [
    "await comcam.rem.cccamera.cmd_initGuiders.start()"
   ]
  },
  {
   "cell_type": "code",
   "execution_count": 125,
   "metadata": {},
   "outputs": [],
   "source": [
    "comcam.rem.cccamera.evt_endInitializeGuider.callback = None"
   ]
  },
  {
   "cell_type": "markdown",
   "metadata": {},
   "source": [
    "---\n",
    "With the Camera ready to take a picture, send the CCCamera_command_takeImages command.\n",
    "\n",
    "    Results:\n",
    "    A CCCamera_logevent_startIntegration event is published to the EFD\n",
    "    A CCCamera_logevent_startShutterOpen event is published to the EFD.\n",
    "    A CCCamera_logevent_endShutterOpen event is published to the EFD.\n",
    "    The Camera publishes a CCCamera_logevent_startShutterClose event as the camera shutter starts to shut\n",
    "    The Camera publishes a CCCamera_logevent_endShutterClose event when the camera shutter is closed\n",
    "    A CCCamera_logevent_startReadout event is published\n",
    "    A CCCamera_logevent_endReadout event is published"
   ]
  },
  {
   "cell_type": "code",
   "execution_count": 126,
   "metadata": {},
   "outputs": [],
   "source": [
    "comcam.rem.cccamera.evt_startIntegration.callback = evt_time_callback\n",
    "comcam.rem.cccamera.evt_startShutterOpen.callback = evt_time_callback\n",
    "comcam.rem.cccamera.evt_endShutterOpen.callback = evt_time_callback\n",
    "comcam.rem.cccamera.evt_startShutterClose.callback = evt_time_callback\n",
    "comcam.rem.cccamera.evt_endShutterClose.callback = evt_time_callback\n",
    "comcam.rem.cccamera.evt_startReadout.callback = evt_time_callback\n",
    "comcam.rem.cccamera.evt_endReadout.callback = evt_time_callback"
   ]
  },
  {
   "cell_type": "code",
   "execution_count": 127,
   "metadata": {},
   "outputs": [],
   "source": [
    "keyValueMap = f'groupId:{Time.now().isot},imageType:ENGTEST'"
   ]
  },
  {
   "cell_type": "code",
   "execution_count": 128,
   "metadata": {},
   "outputs": [
    {
     "data": {
      "text/plain": [
       "True"
      ]
     },
     "execution_count": 128,
     "metadata": {},
     "output_type": "execute_result"
    }
   ],
   "source": [
    "# Set parameters\n",
    "comcam.rem.cccamera.cmd_takeImages.set(shutter=True, keyValueMap=keyValueMap, numImages=1, expTime=20, obsNote = 'test')"
   ]
  },
  {
   "cell_type": "code",
   "execution_count": 129,
   "metadata": {},
   "outputs": [
    {
     "name": "stdout",
     "output_type": "stream",
     "text": [
      "\n",
      " startIntegration logevent at 2022-07-08 17:30:20.866 is \n",
      " \tprivate_revCode: ac7ce4ef, private_sndStamp: 1657301420.8659997, private_rcvStamp: 1657301420.8663218, private_seqNum: 10, private_identity: CCCamera, private_origin: 35289769, additionalKeys: groupId:imageType, additionalValues: 2022-07-08T17\\:29\\:39.646:ENGTEST, imagesInSequence: 1, imageName: CC_O_20220708_000014, imageIndex: 1, imageSource: CC, imageController: O, imageDate: 20220708, imageNumber: 14, timestampAcquisitionStart: 1657301144.319789, exposureTime: 20.0, mode: normal, timeout: 20.0\n",
      "\n",
      " startShutterOpen logevent at 2022-07-08 17:30:20.868 is \n",
      " \tprivate_revCode: e26069d4, private_sndStamp: 1657301420.8680701, private_rcvStamp: 1657301420.8684192, private_seqNum: 9, private_identity: CCCamera, private_origin: 35289769, timestampTransition: 1657301420.8666835\n",
      "\n",
      " endShutterOpen logevent at 2022-07-08 17:30:21.848 is \n",
      " \tprivate_revCode: dc9d3865, private_sndStamp: 1657301421.8486185, private_rcvStamp: 1657301421.848989, private_seqNum: 9, private_identity: CCCamera, private_origin: 35289769, timestampTransition: 1657301421.847412\n",
      "\n",
      " startShutterClose logevent at 2022-07-08 17:30:41.848 is \n",
      " \tprivate_revCode: 50554e50, private_sndStamp: 1657301441.8486118, private_rcvStamp: 1657301441.8489962, private_seqNum: 9, private_identity: CCCamera, private_origin: 35289769, timestampTransition: 1657301441.8473616\n",
      "\n",
      " endShutterClose logevent at 2022-07-08 17:30:42.828 is \n",
      " \tprivate_revCode: 1a6c8bc0, private_sndStamp: 1657301442.8289163, private_rcvStamp: 1657301442.829264, private_seqNum: 10, private_identity: CCCamera, private_origin: 35289769, timestampTransition: 1657301442.8273664\n",
      "\n",
      " startReadout logevent at 2022-07-08 17:30:43.936 is \n",
      " \tprivate_revCode: 0bfffb9a, private_sndStamp: 1657301443.9364965, private_rcvStamp: 1657301443.936867, private_seqNum: 10, private_identity: CCCamera, private_origin: 35289769, additionalKeys: groupId:imageType, additionalValues: 2022-07-08T17\\:29\\:39.646:ENGTEST, imagesInSequence: 1, imageName: CC_O_20220708_000014, imageIndex: 1, imageSource: CC, imageController: O, imageDate: 20220708, imageNumber: 14, timestampAcquisitionStart: 1657301144.319789, exposureTime: 20.0, timestampStartOfReadout: 1657301443.9330633\n"
     ]
    },
    {
     "data": {
      "text/plain": [
       "<ddsutil.CCCamera_ackcmd_ff5ef83c at 0x7fa1cd3954e0>"
      ]
     },
     "execution_count": 129,
     "metadata": {},
     "output_type": "execute_result"
    }
   ],
   "source": [
    "await comcam.rem.cccamera.cmd_takeImages.start()"
   ]
  },
  {
   "cell_type": "code",
   "execution_count": 130,
   "metadata": {},
   "outputs": [],
   "source": [
    "comcam.rem.cccamera.evt_startIntegration.callback = None\n",
    "comcam.rem.cccamera.evt_startShutterOpen.callback = None\n",
    "comcam.rem.cccamera.evt_endShutterOpen.callback = None\n",
    "comcam.rem.cccamera.evt_startShutterClose.callback = None\n",
    "comcam.rem.cccamera.evt_endShutterClose.callback = None\n",
    "comcam.rem.cccamera.evt_startReadout.callback = None\n",
    "comcam.rem.cccamera.evt_endReadout.callback = None"
   ]
  },
  {
   "cell_type": "markdown",
   "metadata": {},
   "source": [
    "---\n",
    "Verify the Camera is done taking pictures.\n",
    "\n",
    "    Results:\n",
    "    A CCCamera_logevent_endTakeImage event is published to the EFD at the time the state transition occurs.\n",
    "    A CCCamera_logevent_endOfImageTelemetry event is published"
   ]
  },
  {
   "cell_type": "code",
   "execution_count": 131,
   "metadata": {},
   "outputs": [
    {
     "ename": "AttributeError",
     "evalue": "'NoneType' object has no attribute 'private_sndStamp'",
     "output_type": "error",
     "traceback": [
      "\u001b[0;31m---------------------------------------------------------------------------\u001b[0m",
      "\u001b[0;31mAttributeError\u001b[0m                            Traceback (most recent call last)",
      "Input \u001b[0;32mIn [131]\u001b[0m, in \u001b[0;36m<cell line: 2>\u001b[0;34m()\u001b[0m\n\u001b[1;32m      1\u001b[0m end_take_image \u001b[38;5;241m=\u001b[39m comcam\u001b[38;5;241m.\u001b[39mrem\u001b[38;5;241m.\u001b[39mcccamera\u001b[38;5;241m.\u001b[39mevt_endTakeImage\u001b[38;5;241m.\u001b[39mget()\n\u001b[0;32m----> 2\u001b[0m time_end_take_image \u001b[38;5;241m=\u001b[39m datetime\u001b[38;5;241m.\u001b[39mutcfromtimestamp(\u001b[43mend_take_image\u001b[49m\u001b[38;5;241;43m.\u001b[39;49m\u001b[43mprivate_sndStamp\u001b[49m)\u001b[38;5;241m.\u001b[39mstrftime(\u001b[38;5;124m\"\u001b[39m\u001b[38;5;124m%\u001b[39m\u001b[38;5;124mY-\u001b[39m\u001b[38;5;124m%\u001b[39m\u001b[38;5;124mm-\u001b[39m\u001b[38;5;132;01m%d\u001b[39;00m\u001b[38;5;124m \u001b[39m\u001b[38;5;124m%\u001b[39m\u001b[38;5;124mH:\u001b[39m\u001b[38;5;124m%\u001b[39m\u001b[38;5;124mM:\u001b[39m\u001b[38;5;124m%\u001b[39m\u001b[38;5;124mS.\u001b[39m\u001b[38;5;132;01m%f\u001b[39;00m\u001b[38;5;124m\"\u001b[39m)[:\u001b[38;5;241m-\u001b[39m\u001b[38;5;241m3\u001b[39m]\n\u001b[1;32m      3\u001b[0m logger\u001b[38;5;241m.\u001b[39minfo(\u001b[38;5;124mf\u001b[39m\u001b[38;5;124m'\u001b[39m\u001b[38;5;124mEnd Take Image at \u001b[39m\u001b[38;5;132;01m{\u001b[39;00mtime_end_take_image\u001b[38;5;132;01m}\u001b[39;00m\u001b[38;5;124m'\u001b[39m \n\u001b[1;32m      4\u001b[0m             \u001b[38;5;124mf\u001b[39m\u001b[38;5;124m'\u001b[39m\u001b[38;5;124m is \u001b[39m\u001b[38;5;130;01m\\n\u001b[39;00m\u001b[38;5;124m \u001b[39m\u001b[38;5;132;01m{\u001b[39;00mend_take_image\u001b[38;5;132;01m}\u001b[39;00m\u001b[38;5;124m'\u001b[39m)\n",
      "\u001b[0;31mAttributeError\u001b[0m: 'NoneType' object has no attribute 'private_sndStamp'"
     ]
    }
   ],
   "source": [
    "end_take_image = comcam.rem.cccamera.evt_endTakeImage.get()\n",
    "time_end_take_image = datetime.utcfromtimestamp(end_take_image.private_sndStamp).strftime(\"%Y-%m-%d %H:%M:%S.%f\")[:-3]\n",
    "logger.info(f'End Take Image at {time_end_take_image}' \n",
    "            f' is \\n {end_take_image}')"
   ]
  },
  {
   "cell_type": "code",
   "execution_count": 132,
   "metadata": {},
   "outputs": [
    {
     "data": {
      "text/html": [
       "<pre style=\"margin: 0.1em;\n",
       "padding-left: 0.25em;\n",
       "border-left-style: solid;\n",
       "font-family: var(--jp-code-font-family);\n",
       "font-size: var(--jp-code-font-size);\n",
       "line-height: var(--jp-code-line-height);\n",
       "\"><span style=\"color: var(--jp-warn-color2)\">root</span> <span style=\"color: var(--jp-info-color0)\">INFO</span>: End of Image Telemetry at 2022-07-08 17:30:46.232 is \n",
       " private_revCode: 51d5e2ae, private_sndStamp: 1657301446.2325947, private_rcvStamp: 1657301446.2330186, private_seqNum: 10, private_identity: CCCamera, private_origin: 35289769, additionalKeys: groupId:imageType, additionalValues: 2022-07-08T17\\:29\\:39.646:ENGTEST, imagesInSequence: 1, imageName: CC_O_20220708_000014, imageIndex: 1, imageSource: CC, imageController: O, imageDate: 20220708, imageNumber: 14, timestampAcquisitionStart: 1657301420.8618002, exposureTime: 20.0, imageTag: 18a5902c0988c57d, timestampDateObs: 1657301420.8618002, timestampDateEnd: 1657301443.9304118, measuredShutterOpenTime: 20.0, darkTime: 23.06861162185669, emulatedImage: CC_H_20211231_006001</pre>"
      ],
      "text/plain": [
       "<IPython.core.display.HTML object>"
      ]
     },
     "metadata": {},
     "output_type": "display_data"
    }
   ],
   "source": [
    "end_of_image_telemetry = comcam.rem.cccamera.evt_endOfImageTelemetry.get()\n",
    "time_end_of_image_telemetry = datetime.utcfromtimestamp(end_of_image_telemetry.private_sndStamp).strftime(\"%Y-%m-%d %H:%M:%S.%f\")[:-3]\n",
    "logger.info(f'End of Image Telemetry at {time_end_of_image_telemetry}' \n",
    "            f' is \\n {end_of_image_telemetry}')"
   ]
  },
  {
   "cell_type": "markdown",
   "metadata": {},
   "source": [
    "---\n",
    "21 Verify the CCCamera_logevent_imageVisualization event is published into the EFD.    "
   ]
  },
  {
   "cell_type": "code",
   "execution_count": 133,
   "metadata": {},
   "outputs": [
    {
     "ename": "AttributeError",
     "evalue": "'NoneType' object has no attribute 'private_sndStamp'",
     "output_type": "error",
     "traceback": [
      "\u001b[0;31m---------------------------------------------------------------------------\u001b[0m",
      "\u001b[0;31mAttributeError\u001b[0m                            Traceback (most recent call last)",
      "Input \u001b[0;32mIn [133]\u001b[0m, in \u001b[0;36m<cell line: 2>\u001b[0;34m()\u001b[0m\n\u001b[1;32m      1\u001b[0m image_visualization \u001b[38;5;241m=\u001b[39m comcam\u001b[38;5;241m.\u001b[39mrem\u001b[38;5;241m.\u001b[39mcccamera\u001b[38;5;241m.\u001b[39mevt_imageVisualization\u001b[38;5;241m.\u001b[39mget()\n\u001b[0;32m----> 2\u001b[0m time_image_visualization \u001b[38;5;241m=\u001b[39m datetime\u001b[38;5;241m.\u001b[39mutcfromtimestamp(\u001b[43mimage_visualization\u001b[49m\u001b[38;5;241;43m.\u001b[39;49m\u001b[43mprivate_sndStamp\u001b[49m)\u001b[38;5;241m.\u001b[39mstrftime(\u001b[38;5;124m\"\u001b[39m\u001b[38;5;124m%\u001b[39m\u001b[38;5;124mY-\u001b[39m\u001b[38;5;124m%\u001b[39m\u001b[38;5;124mm-\u001b[39m\u001b[38;5;132;01m%d\u001b[39;00m\u001b[38;5;124m \u001b[39m\u001b[38;5;124m%\u001b[39m\u001b[38;5;124mH:\u001b[39m\u001b[38;5;124m%\u001b[39m\u001b[38;5;124mM:\u001b[39m\u001b[38;5;124m%\u001b[39m\u001b[38;5;124mS.\u001b[39m\u001b[38;5;132;01m%f\u001b[39;00m\u001b[38;5;124m\"\u001b[39m)[:\u001b[38;5;241m-\u001b[39m\u001b[38;5;241m3\u001b[39m]\n\u001b[1;32m      3\u001b[0m logger\u001b[38;5;241m.\u001b[39minfo(\u001b[38;5;124mf\u001b[39m\u001b[38;5;124m'\u001b[39m\u001b[38;5;124mImage Visualization at \u001b[39m\u001b[38;5;132;01m{\u001b[39;00mtime_image_visualization\u001b[38;5;132;01m}\u001b[39;00m\u001b[38;5;124m'\u001b[39m \n\u001b[1;32m      4\u001b[0m             \u001b[38;5;124mf\u001b[39m\u001b[38;5;124m'\u001b[39m\u001b[38;5;124m is \u001b[39m\u001b[38;5;130;01m\\n\u001b[39;00m\u001b[38;5;124m \u001b[39m\u001b[38;5;132;01m{\u001b[39;00mimage_visualization\u001b[38;5;132;01m}\u001b[39;00m\u001b[38;5;124m'\u001b[39m)\n",
      "\u001b[0;31mAttributeError\u001b[0m: 'NoneType' object has no attribute 'private_sndStamp'"
     ]
    }
   ],
   "source": [
    "image_visualization = comcam.rem.cccamera.evt_imageVisualization.get()\n",
    "time_image_visualization = datetime.utcfromtimestamp(image_visualization.private_sndStamp).strftime(\"%Y-%m-%d %H:%M:%S.%f\")[:-3]\n",
    "logger.info(f'Image Visualization at {time_image_visualization}' \n",
    "            f' is \\n {image_visualization}')"
   ]
  },
  {
   "cell_type": "markdown",
   "metadata": {},
   "source": [
    "---\n",
    "Verify the CCCamera_logevent_imageStored event is published into the EFD."
   ]
  },
  {
   "cell_type": "code",
   "execution_count": 134,
   "metadata": {},
   "outputs": [
    {
     "ename": "AttributeError",
     "evalue": "'NoneType' object has no attribute 'private_sndStamp'",
     "output_type": "error",
     "traceback": [
      "\u001b[0;31m---------------------------------------------------------------------------\u001b[0m",
      "\u001b[0;31mAttributeError\u001b[0m                            Traceback (most recent call last)",
      "Input \u001b[0;32mIn [134]\u001b[0m, in \u001b[0;36m<cell line: 2>\u001b[0;34m()\u001b[0m\n\u001b[1;32m      1\u001b[0m image_stored \u001b[38;5;241m=\u001b[39m comcam\u001b[38;5;241m.\u001b[39mrem\u001b[38;5;241m.\u001b[39mcccamera\u001b[38;5;241m.\u001b[39mevt_imageStored\u001b[38;5;241m.\u001b[39mget()\n\u001b[0;32m----> 2\u001b[0m time_image_stored \u001b[38;5;241m=\u001b[39m datetime\u001b[38;5;241m.\u001b[39mutcfromtimestamp(\u001b[43mimage_stored\u001b[49m\u001b[38;5;241;43m.\u001b[39;49m\u001b[43mprivate_sndStamp\u001b[49m)\u001b[38;5;241m.\u001b[39mstrftime(\u001b[38;5;124m\"\u001b[39m\u001b[38;5;124m%\u001b[39m\u001b[38;5;124mY-\u001b[39m\u001b[38;5;124m%\u001b[39m\u001b[38;5;124mm-\u001b[39m\u001b[38;5;132;01m%d\u001b[39;00m\u001b[38;5;124m \u001b[39m\u001b[38;5;124m%\u001b[39m\u001b[38;5;124mH:\u001b[39m\u001b[38;5;124m%\u001b[39m\u001b[38;5;124mM:\u001b[39m\u001b[38;5;124m%\u001b[39m\u001b[38;5;124mS.\u001b[39m\u001b[38;5;132;01m%f\u001b[39;00m\u001b[38;5;124m\"\u001b[39m)[:\u001b[38;5;241m-\u001b[39m\u001b[38;5;241m3\u001b[39m]\n\u001b[1;32m      3\u001b[0m logger\u001b[38;5;241m.\u001b[39minfo(\u001b[38;5;124mf\u001b[39m\u001b[38;5;124m'\u001b[39m\u001b[38;5;124mImage Stored at \u001b[39m\u001b[38;5;132;01m{\u001b[39;00mtime_image_stored\u001b[38;5;132;01m}\u001b[39;00m\u001b[38;5;124m'\u001b[39m \n\u001b[1;32m      4\u001b[0m             \u001b[38;5;124mf\u001b[39m\u001b[38;5;124m'\u001b[39m\u001b[38;5;124m is \u001b[39m\u001b[38;5;130;01m\\n\u001b[39;00m\u001b[38;5;124m \u001b[39m\u001b[38;5;132;01m{\u001b[39;00mimage_stored\u001b[38;5;132;01m}\u001b[39;00m\u001b[38;5;124m'\u001b[39m)\n",
      "\u001b[0;31mAttributeError\u001b[0m: 'NoneType' object has no attribute 'private_sndStamp'"
     ]
    }
   ],
   "source": [
    "image_stored = comcam.rem.cccamera.evt_imageStored.get()\n",
    "time_image_stored = datetime.utcfromtimestamp(image_stored.private_sndStamp).strftime(\"%Y-%m-%d %H:%M:%S.%f\")[:-3]\n",
    "logger.info(f'Image Stored at {time_image_stored}' \n",
    "            f' is \\n {image_stored}')"
   ]
  },
  {
   "cell_type": "raw",
   "metadata": {},
   "source": [
    "---\n",
    "Stop Command Tests\n",
    "While in the ENABLED state, send CCCamera_command_setFilter command for positionFilter1.\n",
    "    \n",
    "    Results:\n",
    "    The CCCamera_logevent_startSetFilter is published to the EFD with the name of the filter being set\n",
    "    \n",
    "    \n",
    "The next two steps should be run one after another, so the first `setFilter` command can be stopped it'll be run in the BG. "
   ]
  },
  {
   "cell_type": "code",
   "execution_count": 166,
   "metadata": {},
   "outputs": [
    {
     "data": {
      "text/plain": [
       "'r_03'"
      ]
     },
     "execution_count": 166,
     "metadata": {},
     "output_type": "execute_result"
    }
   ],
   "source": [
    "await comcam.get_current_filter()"
   ]
  },
  {
   "cell_type": "code",
   "execution_count": 167,
   "metadata": {},
   "outputs": [],
   "source": [
    "comcam.rem.cccamera.evt_startSetFilter.callback = evt_time_callback\n",
    "comcam.rem.cccamera.evt_endSetFilter.callback = evt_time_callback"
   ]
  },
  {
   "cell_type": "code",
   "execution_count": 168,
   "metadata": {},
   "outputs": [
    {
     "data": {
      "text/plain": [
       "<coroutine object RemoteCommand.set_start at 0x7fa1cc278900>"
      ]
     },
     "execution_count": 168,
     "metadata": {},
     "output_type": "execute_result"
    }
   ],
   "source": [
    "comcam.rem.cccamera.cmd_setFilter.set_start(name = 'i_06')"
   ]
  },
  {
   "cell_type": "markdown",
   "metadata": {},
   "source": [
    "---\n",
    "Before an CCCamera_logevent_endSetFilter event is published, send a CCCamera_command_stop command.\n",
    "\n",
    "Note: The CCCamera_command_setFilter command will stop once it is safe to do so. The CCCamera_command_stop command may not stop the filter from being set if the command was given while in an unsafe position.\n",
    "\n",
    "    Results:\n",
    "    The command is accepted\n",
    "    The CCCamera_logevent_endSetFilter event shows that no filter has been set"
   ]
  },
  {
   "cell_type": "code",
   "execution_count": 174,
   "metadata": {},
   "outputs": [
    {
     "ename": "AckError",
     "evalue": "msg='Command failed', ackcmd=(ackcmd private_seqNum=2007594315, ack=<SalRetCode.CMD_NOPERM: -300>, error=0, result='Ack : NO Command rejected: Unsupported command StopCommand{}')",
     "output_type": "error",
     "traceback": [
      "\u001b[0;31m---------------------------------------------------------------------------\u001b[0m",
      "\u001b[0;31mAckError\u001b[0m                                  Traceback (most recent call last)",
      "Input \u001b[0;32mIn [174]\u001b[0m, in \u001b[0;36m<cell line: 1>\u001b[0;34m()\u001b[0m\n\u001b[0;32m----> 1\u001b[0m \u001b[38;5;28;01mawait\u001b[39;00m comcam\u001b[38;5;241m.\u001b[39mrem\u001b[38;5;241m.\u001b[39mcccamera\u001b[38;5;241m.\u001b[39mcmd_stop\u001b[38;5;241m.\u001b[39mstart()\n",
      "File \u001b[0;32m/opt/lsst/software/stack/conda/miniconda3-py38_4.9.2/envs/lsst-scipipe-4.0.1/lib/python3.10/site-packages/lsst/ts/salobj/topics/remote_command.py:485\u001b[0m, in \u001b[0;36mRemoteCommand.start\u001b[0;34m(self, data, timeout, wait_done)\u001b[0m\n\u001b[1;32m    481\u001b[0m cmd_info \u001b[38;5;241m=\u001b[39m CommandInfo(\n\u001b[1;32m    482\u001b[0m     remote_command\u001b[38;5;241m=\u001b[39m\u001b[38;5;28mself\u001b[39m, seq_num\u001b[38;5;241m=\u001b[39mseq_num, wait_done\u001b[38;5;241m=\u001b[39mwait_done\n\u001b[1;32m    483\u001b[0m )\n\u001b[1;32m    484\u001b[0m \u001b[38;5;28mself\u001b[39m\u001b[38;5;241m.\u001b[39msalinfo\u001b[38;5;241m.\u001b[39m_running_cmds[seq_num] \u001b[38;5;241m=\u001b[39m cmd_info\n\u001b[0;32m--> 485\u001b[0m \u001b[38;5;28;01mreturn\u001b[39;00m \u001b[38;5;28;01mawait\u001b[39;00m cmd_info\u001b[38;5;241m.\u001b[39mnext_ackcmd(timeout\u001b[38;5;241m=\u001b[39mtimeout)\n",
      "File \u001b[0;32m/opt/lsst/software/stack/conda/miniconda3-py38_4.9.2/envs/lsst-scipipe-4.0.1/lib/python3.10/site-packages/lsst/ts/salobj/topics/remote_command.py:195\u001b[0m, in \u001b[0;36mCommandInfo.next_ackcmd\u001b[0;34m(self, timeout)\u001b[0m\n\u001b[1;32m    193\u001b[0m     ackcmd \u001b[38;5;241m=\u001b[39m \u001b[38;5;28;01mawait\u001b[39;00m \u001b[38;5;28mself\u001b[39m\u001b[38;5;241m.\u001b[39m_wait_task\n\u001b[1;32m    194\u001b[0m     \u001b[38;5;28;01mif\u001b[39;00m ackcmd\u001b[38;5;241m.\u001b[39mack \u001b[38;5;129;01min\u001b[39;00m \u001b[38;5;28mself\u001b[39m\u001b[38;5;241m.\u001b[39mfailed_ack_codes:\n\u001b[0;32m--> 195\u001b[0m         \u001b[38;5;28;01mraise\u001b[39;00m base\u001b[38;5;241m.\u001b[39mAckError(msg\u001b[38;5;241m=\u001b[39m\u001b[38;5;124m\"\u001b[39m\u001b[38;5;124mCommand failed\u001b[39m\u001b[38;5;124m\"\u001b[39m, ackcmd\u001b[38;5;241m=\u001b[39mackcmd)\n\u001b[1;32m    196\u001b[0m     \u001b[38;5;28;01mreturn\u001b[39;00m ackcmd\n\u001b[1;32m    197\u001b[0m \u001b[38;5;28;01mexcept\u001b[39;00m asyncio\u001b[38;5;241m.\u001b[39mTimeoutError:\n",
      "\u001b[0;31mAckError\u001b[0m: msg='Command failed', ackcmd=(ackcmd private_seqNum=2007594315, ack=<SalRetCode.CMD_NOPERM: -300>, error=0, result='Ack : NO Command rejected: Unsupported command StopCommand{}')"
     ]
    }
   ],
   "source": [
    "comcam.rem.cccamera.cmd_stop"
   ]
  },
  {
   "cell_type": "code",
   "execution_count": 170,
   "metadata": {},
   "outputs": [],
   "source": [
    "comcam.rem.cccamera.evt_startSetFilter.callback = None\n",
    "comcam.rem.cccamera.evt_endSetFilter.callback = None"
   ]
  },
  {
   "cell_type": "code",
   "execution_count": 171,
   "metadata": {},
   "outputs": [
    {
     "data": {
      "text/plain": [
       "'r_03'"
      ]
     },
     "execution_count": 171,
     "metadata": {},
     "output_type": "execute_result"
    }
   ],
   "source": [
    "await comcam.get_current_filter()"
   ]
  },
  {
   "cell_type": "markdown",
   "metadata": {},
   "source": [
    "---\n",
    "While the CalibrationDetailedState is in ENABLED, send a CCCamera_command_startImage command with the following parameters:\n",
    "\n",
    "                        shutter: True\n",
    "                        sensors\n",
    "                        keyValueMap\n",
    "                        obsNote: Any arbitrary string\n",
    "                        timeout: 30s\n",
    "    "
   ]
  },
  {
   "cell_type": "code",
   "execution_count": 175,
   "metadata": {},
   "outputs": [
    {
     "data": {
      "text/html": [
       "<pre style=\"margin: 0.1em;\n",
       "padding-left: 0.25em;\n",
       "border-left-style: solid;\n",
       "font-family: var(--jp-code-font-family);\n",
       "font-size: var(--jp-code-font-size);\n",
       "line-height: var(--jp-code-line-height);\n",
       "\"><span style=\"color: var(--jp-warn-color2)\">root</span> <span style=\"color: var(--jp-info-color0)\">INFO</span>: Calibration Detailed State at 2022-07-08 17:05:27.155 are private_revCode: a610ea82, private_sndStamp: 1657299927.1555073, private_rcvStamp: 1657299927.1558435, private_seqNum: 16, private_identity: CCCamera, private_origin: 35289769, substate: 2, timestampTransition: 0.0</pre>"
      ],
      "text/plain": [
       "<IPython.core.display.HTML object>"
      ]
     },
     "metadata": {},
     "output_type": "display_data"
    }
   ],
   "source": [
    "# Check CalibrationDetailedState is ENABLED\n",
    "calibration_detailed_state= comcam.rem.cccamera.evt_calibrationDetailedState.get()\n",
    "time_calibration_detailed_state=  datetime.utcfromtimestamp(calibration_detailed_state.private_sndStamp).strftime(\"%Y-%m-%d %H:%M:%S.%f\")[:-3]\n",
    "logger.info(f'Calibration Detailed State at {time_calibration_detailed_state} are {calibration_detailed_state}')"
   ]
  },
  {
   "cell_type": "code",
   "execution_count": 176,
   "metadata": {},
   "outputs": [],
   "source": [
    "keyValueMap = f'groupId:{Time.now().isot},imageType:ENGTEST'"
   ]
  },
  {
   "cell_type": "code",
   "execution_count": 177,
   "metadata": {},
   "outputs": [
    {
     "data": {
      "text/plain": [
       "True"
      ]
     },
     "execution_count": 177,
     "metadata": {},
     "output_type": "execute_result"
    }
   ],
   "source": [
    "# Set parameters\n",
    "comcam.rem.cccamera.cmd_startImage.set(shutter=True, keyValueMap=keyValueMap, timeout=30)"
   ]
  },
  {
   "cell_type": "code",
   "execution_count": 190,
   "metadata": {},
   "outputs": [
    {
     "data": {
      "text/plain": [
       "<ddsutil.CCCamera_ackcmd_ff5ef83c at 0x7fa1bbecd540>"
      ]
     },
     "execution_count": 190,
     "metadata": {},
     "output_type": "execute_result"
    }
   ],
   "source": [
    "# Start image\n",
    "await comcam.rem.cccamera.cmd_startImage.start()"
   ]
  },
  {
   "cell_type": "markdown",
   "metadata": {},
   "source": [
    "---\n",
    "Before the specified timeout, send a CCCamera_command_stop command.\n",
    "\n",
    "    Results:\n",
    "    The previous CCCamera_command_startImage command is abandoned."
   ]
  },
  {
   "cell_type": "code",
   "execution_count": 191,
   "metadata": {},
   "outputs": [
    {
     "data": {
      "text/html": [
       "<pre style=\"margin: 0.1em;\n",
       "padding-left: 0.25em;\n",
       "border-left-style: solid;\n",
       "font-family: var(--jp-code-font-family);\n",
       "font-size: var(--jp-code-font-size);\n",
       "line-height: var(--jp-code-line-height);\n",
       "\"><span style=\"color: var(--jp-warn-color2)\">root</span> <span style=\"color: var(--jp-info-color0)\">INFO</span>: Start Integration at 2022-07-08 17:44:32.527 are private_revCode: ac7ce4ef, private_sndStamp: 1657302272.5272598, private_rcvStamp: 1657302272.5277057, private_seqNum: 13, private_identity: CCCamera, private_origin: 35289769, additionalKeys: groupId:imageType, additionalValues: 2022-07-08T17\\:39\\:40.919:ENGTEST, imagesInSequence: 1, imageName: CC_O_20220708_000017, imageIndex: 2, imageSource: CC, imageController: O, imageDate: 20220708, imageNumber: 17, timestampAcquisitionStart: 1657302192.590797, exposureTime: 0.0, mode: calibration, timeout: 30.0</pre>"
      ],
      "text/plain": [
       "<IPython.core.display.HTML object>"
      ]
     },
     "metadata": {},
     "output_type": "display_data"
    }
   ],
   "source": [
    "# Check CalibrationDetailedState is ENABLED\n",
    "start_integration= comcam.rem.cccamera.evt_startIntegration.get()\n",
    "time_start_integration=  datetime.utcfromtimestamp(start_integration.private_sndStamp).strftime(\"%Y-%m-%d %H:%M:%S.%f\")[:-3]\n",
    "logger.info(f'Start Integration at {time_start_integration} are {start_integration}')"
   ]
  },
  {
   "cell_type": "code",
   "execution_count": 192,
   "metadata": {},
   "outputs": [
    {
     "data": {
      "text/html": [
       "<pre style=\"margin: 0.1em;\n",
       "padding-left: 0.25em;\n",
       "border-left-style: solid;\n",
       "font-family: var(--jp-code-font-family);\n",
       "font-size: var(--jp-code-font-size);\n",
       "line-height: var(--jp-code-line-height);\n",
       "\"><span style=\"color: var(--jp-warn-color2)\">root</span> <span style=\"color: var(--jp-info-color0)\">INFO</span>: RemoteCommand(CCCamera, 0, stop) at 2022-07-08 17:44:00.411796</pre>"
      ],
      "text/plain": [
       "<IPython.core.display.HTML object>"
      ]
     },
     "metadata": {},
     "output_type": "display_data"
    }
   ],
   "source": [
    "stop = comcam.rem.cccamera.cmd_stop\n",
    "logger.info(f'{stop} at {Time.now()}')"
   ]
  },
  {
   "cell_type": "code",
   "execution_count": 195,
   "metadata": {},
   "outputs": [
    {
     "data": {
      "text/html": [
       "<pre style=\"margin: 0.1em;\n",
       "padding-left: 0.25em;\n",
       "border-left-style: solid;\n",
       "font-family: var(--jp-code-font-family);\n",
       "font-size: var(--jp-code-font-size);\n",
       "line-height: var(--jp-code-line-height);\n",
       "\"><span style=\"color: var(--jp-warn-color2)\">root</span> <span style=\"color: var(--jp-info-color0)\">INFO</span>: End of Image Telemetry at 2022-07-08 17:45:05.930 is \n",
       " private_revCode: 51d5e2ae, private_sndStamp: 1657302305.930364, private_rcvStamp: 1657302305.9308877, private_seqNum: 13, private_identity: CCCamera, private_origin: 35289769, additionalKeys: groupId:imageType, additionalValues: 2022-07-08T17\\:39\\:40.919:ENGTEST, imagesInSequence: 1, imageName: CC_O_20220708_000017, imageIndex: 2, imageSource: CC, imageController: O, imageDate: 20220708, imageNumber: 17, timestampAcquisitionStart: 1657302272.5229013, exposureTime: 0.0, imageTag: 37337741d0af6ec6, timestampDateObs: 1657302272.5229013, timestampDateEnd: 1657302303.6282785, measuredShutterOpenTime: 0.0, darkTime: 31.105377197265625, emulatedImage: CC_H_20211231_006002</pre>"
      ],
      "text/plain": [
       "<IPython.core.display.HTML object>"
      ]
     },
     "metadata": {},
     "output_type": "display_data"
    }
   ],
   "source": [
    "end_of_image_telemetry = comcam.rem.cccamera.evt_endOfImageTelemetry.get()\n",
    "time_end_of_image_telemetry = datetime.utcfromtimestamp(end_of_image_telemetry.private_sndStamp).strftime(\"%Y-%m-%d %H:%M:%S.%f\")[:-3]\n",
    "logger.info(f'End of Image Telemetry at {time_end_of_image_telemetry}' \n",
    "            f' is \\n {end_of_image_telemetry}')"
   ]
  },
  {
   "cell_type": "markdown",
   "metadata": {},
   "source": [
    "---\n",
    "Playlist Test - only valid when using emulated DAQ\n",
    "Send a CCCamera_command_playList command of the playlist to be defined and the current folder of where the images exist.\n",
    "\n",
    "    Results:\n",
    "    The command is accepted and a playlist is created."
   ]
  },
  {
   "cell_type": "code",
   "execution_count": null,
   "metadata": {},
   "outputs": [
    {
     "ename": "AckError",
     "evalue": "msg='Command failed', ackcmd=(ackcmd private_seqNum=1232624188, ack=<SalRetCode.CMD_NOPERM: -300>, error=0, result='Ack : NO Command rejected: Invalid folder: ')",
     "output_type": "error",
     "traceback": [
      "\u001b[0;31m---------------------------------------------------------------------------\u001b[0m",
      "\u001b[0;31mAckError\u001b[0m                                  Traceback (most recent call last)",
      "Input \u001b[0;32mIn [196]\u001b[0m, in \u001b[0;36m<cell line: 1>\u001b[0;34m()\u001b[0m\n\u001b[0;32m----> 1\u001b[0m \u001b[38;5;28;01mawait\u001b[39;00m comcam\u001b[38;5;241m.\u001b[39mrem\u001b[38;5;241m.\u001b[39mcccamera\u001b[38;5;241m.\u001b[39mcmd_playlist\u001b[38;5;241m.\u001b[39mset_start(playlist\u001b[38;5;241m=\u001b[39m\u001b[38;5;124m'\u001b[39m\u001b[38;5;124mio.playlist\u001b[39m\u001b[38;5;124m'\u001b[39m)\n",
      "File \u001b[0;32m/opt/lsst/software/stack/conda/miniconda3-py38_4.9.2/envs/lsst-scipipe-4.0.1/lib/python3.10/site-packages/lsst/ts/salobj/topics/remote_command.py:418\u001b[0m, in \u001b[0;36mRemoteCommand.set_start\u001b[0;34m(self, timeout, wait_done, **kwargs)\u001b[0m\n\u001b[1;32m    377\u001b[0m \u001b[38;5;124;03m\"\"\"Create a new ``self.data``, set zero or more fields,\u001b[39;00m\n\u001b[1;32m    378\u001b[0m \u001b[38;5;124;03mand start the command.\u001b[39;00m\n\u001b[1;32m    379\u001b[0m \n\u001b[0;32m   (...)\u001b[0m\n\u001b[1;32m    415\u001b[0m \u001b[38;5;124;03m    If ``data`` is not None and not an instance of `DataType`.\u001b[39;00m\n\u001b[1;32m    416\u001b[0m \u001b[38;5;124;03m\"\"\"\u001b[39;00m\n\u001b[1;32m    417\u001b[0m \u001b[38;5;28mself\u001b[39m\u001b[38;5;241m.\u001b[39mset(\u001b[38;5;241m*\u001b[39m\u001b[38;5;241m*\u001b[39mkwargs)\n\u001b[0;32m--> 418\u001b[0m \u001b[38;5;28;01mreturn\u001b[39;00m \u001b[38;5;28;01mawait\u001b[39;00m \u001b[38;5;28mself\u001b[39m\u001b[38;5;241m.\u001b[39mstart(timeout\u001b[38;5;241m=\u001b[39mtimeout, wait_done\u001b[38;5;241m=\u001b[39mwait_done)\n",
      "File \u001b[0;32m/opt/lsst/software/stack/conda/miniconda3-py38_4.9.2/envs/lsst-scipipe-4.0.1/lib/python3.10/site-packages/lsst/ts/salobj/topics/remote_command.py:485\u001b[0m, in \u001b[0;36mRemoteCommand.start\u001b[0;34m(self, data, timeout, wait_done)\u001b[0m\n\u001b[1;32m    481\u001b[0m cmd_info \u001b[38;5;241m=\u001b[39m CommandInfo(\n\u001b[1;32m    482\u001b[0m     remote_command\u001b[38;5;241m=\u001b[39m\u001b[38;5;28mself\u001b[39m, seq_num\u001b[38;5;241m=\u001b[39mseq_num, wait_done\u001b[38;5;241m=\u001b[39mwait_done\n\u001b[1;32m    483\u001b[0m )\n\u001b[1;32m    484\u001b[0m \u001b[38;5;28mself\u001b[39m\u001b[38;5;241m.\u001b[39msalinfo\u001b[38;5;241m.\u001b[39m_running_cmds[seq_num] \u001b[38;5;241m=\u001b[39m cmd_info\n\u001b[0;32m--> 485\u001b[0m \u001b[38;5;28;01mreturn\u001b[39;00m \u001b[38;5;28;01mawait\u001b[39;00m cmd_info\u001b[38;5;241m.\u001b[39mnext_ackcmd(timeout\u001b[38;5;241m=\u001b[39mtimeout)\n",
      "File \u001b[0;32m/opt/lsst/software/stack/conda/miniconda3-py38_4.9.2/envs/lsst-scipipe-4.0.1/lib/python3.10/site-packages/lsst/ts/salobj/topics/remote_command.py:195\u001b[0m, in \u001b[0;36mCommandInfo.next_ackcmd\u001b[0;34m(self, timeout)\u001b[0m\n\u001b[1;32m    193\u001b[0m     ackcmd \u001b[38;5;241m=\u001b[39m \u001b[38;5;28;01mawait\u001b[39;00m \u001b[38;5;28mself\u001b[39m\u001b[38;5;241m.\u001b[39m_wait_task\n\u001b[1;32m    194\u001b[0m     \u001b[38;5;28;01mif\u001b[39;00m ackcmd\u001b[38;5;241m.\u001b[39mack \u001b[38;5;129;01min\u001b[39;00m \u001b[38;5;28mself\u001b[39m\u001b[38;5;241m.\u001b[39mfailed_ack_codes:\n\u001b[0;32m--> 195\u001b[0m         \u001b[38;5;28;01mraise\u001b[39;00m base\u001b[38;5;241m.\u001b[39mAckError(msg\u001b[38;5;241m=\u001b[39m\u001b[38;5;124m\"\u001b[39m\u001b[38;5;124mCommand failed\u001b[39m\u001b[38;5;124m\"\u001b[39m, ackcmd\u001b[38;5;241m=\u001b[39mackcmd)\n\u001b[1;32m    196\u001b[0m     \u001b[38;5;28;01mreturn\u001b[39;00m ackcmd\n\u001b[1;32m    197\u001b[0m \u001b[38;5;28;01mexcept\u001b[39;00m asyncio\u001b[38;5;241m.\u001b[39mTimeoutError:\n",
      "\u001b[0;31mAckError\u001b[0m: msg='Command failed', ackcmd=(ackcmd private_seqNum=1232624188, ack=<SalRetCode.CMD_NOPERM: -300>, error=0, result='Ack : NO Command rejected: Invalid folder: ')"
     ]
    }
   ],
   "source": [
    "await comcam.rem.cccamera.cmd_playlist.set_start(playlist='tiago-1.playlist')"
   ]
  },
  {
   "cell_type": "markdown",
   "metadata": {},
   "source": [
    "---\n",
    "Send a CCCamera_command_play coommand of the playlist and an input of true for the repeat parameter.\n",
    "    \n",
    "    Results:\n",
    "    The command is accepted\n",
    "    The playlist is played and repeats"
   ]
  },
  {
   "cell_type": "code",
   "execution_count": 197,
   "metadata": {},
   "outputs": [
    {
     "data": {
      "text/plain": [
       "<ddsutil.CCCamera_ackcmd_ff5ef83c at 0x7fa1bbecdd20>"
      ]
     },
     "execution_count": 197,
     "metadata": {},
     "output_type": "execute_result"
    }
   ],
   "source": [
    "await comcam.rem.cccamera.cmd_play.set_start(playlist='tiago-1.playlist', repeat =True)"
   ]
  },
  {
   "cell_type": "markdown",
   "metadata": {},
   "source": [
    "---\n",
    "With the Summary State of the Camera in ENABLED and the CalibrationDetailedState in ENABLED, send a CCCamera_command_disableCalibration command.\n",
    "\n",
    "    Results:\n",
    "    The  CCCamera_logevent_CalibrationDetailedState event publishes DISABLED."
   ]
  },
  {
   "cell_type": "code",
   "execution_count": 198,
   "metadata": {},
   "outputs": [],
   "source": [
    "comcam.rem.cccamera.evt_calibrationDetailedState.callback = evt_time_callback"
   ]
  },
  {
   "cell_type": "code",
   "execution_count": 199,
   "metadata": {},
   "outputs": [
    {
     "name": "stdout",
     "output_type": "stream",
     "text": [
      "\n",
      " calibrationDetailedState logevent at 2022-07-08 17:46:21.132 is \n",
      " \tprivate_revCode: a610ea82, private_sndStamp: 1657302381.132062, private_rcvStamp: 1657302381.132455, private_seqNum: 23, private_identity: CCCamera, private_origin: 35289769, substate: 1, timestampTransition: 0.0\n"
     ]
    },
    {
     "data": {
      "text/plain": [
       "<ddsutil.CCCamera_ackcmd_ff5ef83c at 0x7fa1bbecd840>"
      ]
     },
     "execution_count": 199,
     "metadata": {},
     "output_type": "execute_result"
    }
   ],
   "source": [
    "await comcam.rem.cccamera.cmd_disableCalibration.set_start()"
   ]
  },
  {
   "cell_type": "code",
   "execution_count": 200,
   "metadata": {},
   "outputs": [],
   "source": [
    "comcam.rem.cccamera.evt_calibrationDetailedState.callback = None"
   ]
  },
  {
   "cell_type": "markdown",
   "metadata": {},
   "source": [
    "--- \n",
    "Telemetry\n",
    "\n",
    "\n",
    "Verify the CCCamera_fcs telemetry data is being published to the EFD."
   ]
  },
  {
   "cell_type": "markdown",
   "metadata": {},
   "source": [
    "---\n",
    "Verify the CCCamera_bonn_shutter_Device telemetry data is being published to the EFD."
   ]
  },
  {
   "cell_type": "code",
   "execution_count": 201,
   "metadata": {},
   "outputs": [
    {
     "data": {
      "text/html": [
       "<pre style=\"margin: 0.1em;\n",
       "padding-left: 0.25em;\n",
       "border-left-style: solid;\n",
       "font-family: var(--jp-code-font-family);\n",
       "font-size: var(--jp-code-font-size);\n",
       "line-height: var(--jp-code-line-height);\n",
       "\"><span style=\"color: var(--jp-warn-color2)\">aioinflux</span> <span style=\"color: var(--jp-success-color0)\">DEBUG</span>: 200: SELECT * FROM &quot;efd&quot;.&quot;autogen&quot;.&quot;lsst.sal.CCCamera.bonn_shutter_Device&quot; GROUP BY * ORDER BY DESC LIMIT 1</pre>"
      ],
      "text/plain": [
       "<IPython.core.display.HTML object>"
      ]
     },
     "metadata": {},
     "output_type": "display_data"
    },
    {
     "name": "stdout",
     "output_type": "stream",
     "text": [
      "Last lsst.sal.CCCamera.bonn_shutter_Device telemetry was at 2022-07-08 17:46:31.531 UTC \n",
      " \tvs time now is 2022-07-08 17:46:01.306883\n"
     ]
    }
   ],
   "source": [
    "await check_telemetry('lsst.sal.CCCamera.bonn_shutter_Device')"
   ]
  },
  {
   "cell_type": "markdown",
   "metadata": {},
   "source": [
    "---\n",
    "Verify the CCCamera_daq_monitor_Store telemetry data is being published to the EFD."
   ]
  },
  {
   "cell_type": "code",
   "execution_count": 202,
   "metadata": {},
   "outputs": [
    {
     "data": {
      "text/html": [
       "<pre style=\"margin: 0.1em;\n",
       "padding-left: 0.25em;\n",
       "border-left-style: solid;\n",
       "font-family: var(--jp-code-font-family);\n",
       "font-size: var(--jp-code-font-size);\n",
       "line-height: var(--jp-code-line-height);\n",
       "\"><span style=\"color: var(--jp-warn-color2)\">aioinflux</span> <span style=\"color: var(--jp-success-color0)\">DEBUG</span>: 200: SELECT * FROM &quot;efd&quot;.&quot;autogen&quot;.&quot;lsst.sal.CCCamera.daq_monitor_Store&quot; GROUP BY * ORDER BY DESC LIMIT 1</pre>"
      ],
      "text/plain": [
       "<IPython.core.display.HTML object>"
      ]
     },
     "metadata": {},
     "output_type": "display_data"
    },
    {
     "name": "stdout",
     "output_type": "stream",
     "text": [
      "Last lsst.sal.CCCamera.daq_monitor_Store telemetry was at 2022-07-08 17:46:35.535 UTC \n",
      " \tvs time now is 2022-07-08 17:46:01.568242\n"
     ]
    }
   ],
   "source": [
    "await check_telemetry('lsst.sal.CCCamera.daq_monitor_Store')"
   ]
  },
  {
   "cell_type": "markdown",
   "metadata": {},
   "source": [
    "---\n",
    "Verify the CCCamera_rebpower_Reb telemetry data is being published to the EFD."
   ]
  },
  {
   "cell_type": "code",
   "execution_count": 203,
   "metadata": {},
   "outputs": [
    {
     "data": {
      "text/html": [
       "<pre style=\"margin: 0.1em;\n",
       "padding-left: 0.25em;\n",
       "border-left-style: solid;\n",
       "font-family: var(--jp-code-font-family);\n",
       "font-size: var(--jp-code-font-size);\n",
       "line-height: var(--jp-code-line-height);\n",
       "\"><span style=\"color: var(--jp-warn-color2)\">aioinflux</span> <span style=\"color: var(--jp-success-color0)\">DEBUG</span>: 200: SELECT * FROM &quot;efd&quot;.&quot;autogen&quot;.&quot;lsst.sal.CCCamera.rebpower_Reb&quot; GROUP BY * ORDER BY DESC LIMIT 1</pre>"
      ],
      "text/plain": [
       "<IPython.core.display.HTML object>"
      ]
     },
     "metadata": {},
     "output_type": "display_data"
    },
    {
     "name": "stdout",
     "output_type": "stream",
     "text": [
      "Last lsst.sal.CCCamera.rebpower_Reb telemetry was at 2022-07-08 17:46:37.992 UTC \n",
      " \tvs time now is 2022-07-08 17:46:01.989672\n"
     ]
    }
   ],
   "source": [
    "await check_telemetry('lsst.sal.CCCamera.rebpower_Reb')"
   ]
  },
  {
   "cell_type": "markdown",
   "metadata": {},
   "source": [
    "---\n",
    "Verify the CCCamera_rebpower_Rebps telemetry data is being published to the EFD."
   ]
  },
  {
   "cell_type": "code",
   "execution_count": 204,
   "metadata": {},
   "outputs": [
    {
     "data": {
      "text/html": [
       "<pre style=\"margin: 0.1em;\n",
       "padding-left: 0.25em;\n",
       "border-left-style: solid;\n",
       "font-family: var(--jp-code-font-family);\n",
       "font-size: var(--jp-code-font-size);\n",
       "line-height: var(--jp-code-line-height);\n",
       "\"><span style=\"color: var(--jp-warn-color2)\">aioinflux</span> <span style=\"color: var(--jp-success-color0)\">DEBUG</span>: 200: SELECT * FROM &quot;efd&quot;.&quot;autogen&quot;.&quot;lsst.sal.CCCamera.rebpower_Rebps&quot; GROUP BY * ORDER BY DESC LIMIT 1</pre>"
      ],
      "text/plain": [
       "<IPython.core.display.HTML object>"
      ]
     },
     "metadata": {},
     "output_type": "display_data"
    },
    {
     "name": "stdout",
     "output_type": "stream",
     "text": [
      "Last lsst.sal.CCCamera.rebpower_Rebps telemetry was at 2022-07-06 21:22:33.530 UTC \n",
      " \tvs time now is 2022-07-08 17:46:02.248874\n"
     ]
    }
   ],
   "source": [
    "await check_telemetry('lsst.sal.CCCamera.rebpower_Rebps')"
   ]
  },
  {
   "cell_type": "markdown",
   "metadata": {},
   "source": [
    "---\n",
    "Verify the CCCamera_vacuum_Cold1 telemetry data is being published to the EFD."
   ]
  },
  {
   "cell_type": "code",
   "execution_count": 205,
   "metadata": {},
   "outputs": [
    {
     "data": {
      "text/html": [
       "<pre style=\"margin: 0.1em;\n",
       "padding-left: 0.25em;\n",
       "border-left-style: solid;\n",
       "font-family: var(--jp-code-font-family);\n",
       "font-size: var(--jp-code-font-size);\n",
       "line-height: var(--jp-code-line-height);\n",
       "\"><span style=\"color: var(--jp-warn-color2)\">aioinflux</span> <span style=\"color: var(--jp-success-color0)\">DEBUG</span>: 200: SELECT * FROM &quot;efd&quot;.&quot;autogen&quot;.&quot;lsst.sal.CCCamera.vacuum_Cold1&quot; GROUP BY * ORDER BY DESC LIMIT 1</pre>"
      ],
      "text/plain": [
       "<IPython.core.display.HTML object>"
      ]
     },
     "metadata": {},
     "output_type": "display_data"
    },
    {
     "name": "stdout",
     "output_type": "stream",
     "text": [
      "Last lsst.sal.CCCamera.vacuum_Cold1 telemetry was at 2022-07-08 17:46:33.172 UTC \n",
      " \tvs time now is 2022-07-08 17:46:02.555867\n"
     ]
    }
   ],
   "source": [
    "await check_telemetry('lsst.sal.CCCamera.vacuum_Cold1')"
   ]
  },
  {
   "cell_type": "markdown",
   "metadata": {},
   "source": [
    "---\n",
    "Verify the CCCamera_vacuum_Cold2 telemetry data is being published to the EFD."
   ]
  },
  {
   "cell_type": "code",
   "execution_count": 206,
   "metadata": {},
   "outputs": [
    {
     "data": {
      "text/html": [
       "<pre style=\"margin: 0.1em;\n",
       "padding-left: 0.25em;\n",
       "border-left-style: solid;\n",
       "font-family: var(--jp-code-font-family);\n",
       "font-size: var(--jp-code-font-size);\n",
       "line-height: var(--jp-code-line-height);\n",
       "\"><span style=\"color: var(--jp-warn-color2)\">aioinflux</span> <span style=\"color: var(--jp-success-color0)\">DEBUG</span>: 200: SELECT * FROM &quot;efd&quot;.&quot;autogen&quot;.&quot;lsst.sal.CCCamera.vacuum_Cold2&quot; GROUP BY * ORDER BY DESC LIMIT 1</pre>"
      ],
      "text/plain": [
       "<IPython.core.display.HTML object>"
      ]
     },
     "metadata": {},
     "output_type": "display_data"
    },
    {
     "name": "stdout",
     "output_type": "stream",
     "text": [
      "Last lsst.sal.CCCamera.vacuum_Cold2 telemetry was at 2022-07-08 17:46:33.172 UTC \n",
      " \tvs time now is 2022-07-08 17:46:02.844443\n"
     ]
    }
   ],
   "source": [
    "await check_telemetry('lsst.sal.CCCamera.vacuum_Cold2')"
   ]
  },
  {
   "cell_type": "markdown",
   "metadata": {},
   "source": [
    "---\n",
    "Verify the CCCamera_vacuum_Cryo telemetry data is being published to the EFD."
   ]
  },
  {
   "cell_type": "code",
   "execution_count": 207,
   "metadata": {},
   "outputs": [
    {
     "data": {
      "text/html": [
       "<pre style=\"margin: 0.1em;\n",
       "padding-left: 0.25em;\n",
       "border-left-style: solid;\n",
       "font-family: var(--jp-code-font-family);\n",
       "font-size: var(--jp-code-font-size);\n",
       "line-height: var(--jp-code-line-height);\n",
       "\"><span style=\"color: var(--jp-warn-color2)\">aioinflux</span> <span style=\"color: var(--jp-success-color0)\">DEBUG</span>: 200: SELECT * FROM &quot;efd&quot;.&quot;autogen&quot;.&quot;lsst.sal.CCCamera.vacuum_Cryo&quot; GROUP BY * ORDER BY DESC LIMIT 1</pre>"
      ],
      "text/plain": [
       "<IPython.core.display.HTML object>"
      ]
     },
     "metadata": {},
     "output_type": "display_data"
    },
    {
     "name": "stdout",
     "output_type": "stream",
     "text": [
      "Last lsst.sal.CCCamera.vacuum_Cryo telemetry was at 2022-07-08 17:46:33.172 UTC \n",
      " \tvs time now is 2022-07-08 17:46:03.127831\n"
     ]
    }
   ],
   "source": [
    "await check_telemetry('lsst.sal.CCCamera.vacuum_Cryo')"
   ]
  },
  {
   "cell_type": "markdown",
   "metadata": {},
   "source": [
    "---\n",
    "Verify the CCCamera_vacuum_IonPumps telemetry data is being published to the EFD."
   ]
  },
  {
   "cell_type": "code",
   "execution_count": 208,
   "metadata": {},
   "outputs": [
    {
     "data": {
      "text/html": [
       "<pre style=\"margin: 0.1em;\n",
       "padding-left: 0.25em;\n",
       "border-left-style: solid;\n",
       "font-family: var(--jp-code-font-family);\n",
       "font-size: var(--jp-code-font-size);\n",
       "line-height: var(--jp-code-line-height);\n",
       "\"><span style=\"color: var(--jp-warn-color2)\">aioinflux</span> <span style=\"color: var(--jp-success-color0)\">DEBUG</span>: 200: SELECT * FROM &quot;efd&quot;.&quot;autogen&quot;.&quot;lsst.sal.CCCamera.vacuum_IonPumps&quot; GROUP BY * ORDER BY DESC LIMIT 1</pre>"
      ],
      "text/plain": [
       "<IPython.core.display.HTML object>"
      ]
     },
     "metadata": {},
     "output_type": "display_data"
    },
    {
     "name": "stdout",
     "output_type": "stream",
     "text": [
      "Last lsst.sal.CCCamera.vacuum_IonPumps telemetry was at 2022-07-08 17:46:33.172 UTC \n",
      " \tvs time now is 2022-07-08 17:46:03.374151\n"
     ]
    }
   ],
   "source": [
    "await check_telemetry('lsst.sal.CCCamera.vacuum_IonPumps')"
   ]
  },
  {
   "cell_type": "markdown",
   "metadata": {},
   "source": [
    "---\n",
    "Verify the CCCamera_vacuum_Rtds telemetry data is being published to the EFD."
   ]
  },
  {
   "cell_type": "code",
   "execution_count": 209,
   "metadata": {},
   "outputs": [
    {
     "data": {
      "text/html": [
       "<pre style=\"margin: 0.1em;\n",
       "padding-left: 0.25em;\n",
       "border-left-style: solid;\n",
       "font-family: var(--jp-code-font-family);\n",
       "font-size: var(--jp-code-font-size);\n",
       "line-height: var(--jp-code-line-height);\n",
       "\"><span style=\"color: var(--jp-warn-color2)\">aioinflux</span> <span style=\"color: var(--jp-success-color0)\">DEBUG</span>: 200: SELECT * FROM &quot;efd&quot;.&quot;autogen&quot;.&quot;lsst.sal.CCCamera.vacuum_Rtds&quot; GROUP BY * ORDER BY DESC LIMIT 1</pre>"
      ],
      "text/plain": [
       "<IPython.core.display.HTML object>"
      ]
     },
     "metadata": {},
     "output_type": "display_data"
    },
    {
     "name": "stdout",
     "output_type": "stream",
     "text": [
      "Last lsst.sal.CCCamera.vacuum_Rtds telemetry was at 2022-07-08 17:46:33.172 UTC \n",
      " \tvs time now is 2022-07-08 17:46:03.615487\n"
     ]
    }
   ],
   "source": [
    "await check_telemetry('lsst.sal.CCCamera.vacuum_Rtds')"
   ]
  },
  {
   "cell_type": "markdown",
   "metadata": {},
   "source": [
    "---\n",
    "Verify the CCCamera_vacuum_Turbo telemetry data is being published to the EFD."
   ]
  },
  {
   "cell_type": "code",
   "execution_count": 210,
   "metadata": {},
   "outputs": [
    {
     "data": {
      "text/html": [
       "<pre style=\"margin: 0.1em;\n",
       "padding-left: 0.25em;\n",
       "border-left-style: solid;\n",
       "font-family: var(--jp-code-font-family);\n",
       "font-size: var(--jp-code-font-size);\n",
       "line-height: var(--jp-code-line-height);\n",
       "\"><span style=\"color: var(--jp-warn-color2)\">aioinflux</span> <span style=\"color: var(--jp-success-color0)\">DEBUG</span>: 200: SELECT * FROM &quot;efd&quot;.&quot;autogen&quot;.&quot;lsst.sal.CCCamera.vacuum_Turbo&quot; GROUP BY * ORDER BY DESC LIMIT 1</pre>"
      ],
      "text/plain": [
       "<IPython.core.display.HTML object>"
      ]
     },
     "metadata": {},
     "output_type": "display_data"
    },
    {
     "name": "stdout",
     "output_type": "stream",
     "text": [
      "Last lsst.sal.CCCamera.vacuum_Turbo telemetry was at 2022-07-08 17:46:33.172 UTC \n",
      " \tvs time now is 2022-07-08 17:46:03.888553\n"
     ]
    }
   ],
   "source": [
    "await check_telemetry('lsst.sal.CCCamera.vacuum_Turbo')"
   ]
  },
  {
   "cell_type": "markdown",
   "metadata": {},
   "source": [
    "---\n",
    "Verify the CCCamera_vacuum_VQMonitor telemetry data is being published to the EFD."
   ]
  },
  {
   "cell_type": "code",
   "execution_count": 211,
   "metadata": {},
   "outputs": [
    {
     "data": {
      "text/html": [
       "<pre style=\"margin: 0.1em;\n",
       "padding-left: 0.25em;\n",
       "border-left-style: solid;\n",
       "font-family: var(--jp-code-font-family);\n",
       "font-size: var(--jp-code-font-size);\n",
       "line-height: var(--jp-code-line-height);\n",
       "\"><span style=\"color: var(--jp-warn-color2)\">aioinflux</span> <span style=\"color: var(--jp-success-color0)\">DEBUG</span>: 200: SELECT * FROM &quot;efd&quot;.&quot;autogen&quot;.&quot;lsst.sal.CCCamera.vacuum_VQMonitor&quot; GROUP BY * ORDER BY DESC LIMIT 1</pre>"
      ],
      "text/plain": [
       "<IPython.core.display.HTML object>"
      ]
     },
     "metadata": {},
     "output_type": "display_data"
    },
    {
     "name": "stdout",
     "output_type": "stream",
     "text": [
      "Last lsst.sal.CCCamera.vacuum_VQMonitor telemetry was at 2022-07-08 17:46:33.172 UTC \n",
      " \tvs time now is 2022-07-08 17:46:04.157110\n"
     ]
    }
   ],
   "source": [
    "await check_telemetry('lsst.sal.CCCamera.vacuum_VQMonitor')"
   ]
  },
  {
   "cell_type": "markdown",
   "metadata": {},
   "source": [
    "---\n",
    "Verify the CCCamera_quadbox_BFR telemetry data is being published to the EFD."
   ]
  },
  {
   "cell_type": "code",
   "execution_count": 212,
   "metadata": {},
   "outputs": [
    {
     "data": {
      "text/html": [
       "<pre style=\"margin: 0.1em;\n",
       "padding-left: 0.25em;\n",
       "border-left-style: solid;\n",
       "font-family: var(--jp-code-font-family);\n",
       "font-size: var(--jp-code-font-size);\n",
       "line-height: var(--jp-code-line-height);\n",
       "\"><span style=\"color: var(--jp-warn-color2)\">aioinflux</span> <span style=\"color: var(--jp-success-color0)\">DEBUG</span>: 200: SELECT * FROM &quot;efd&quot;.&quot;autogen&quot;.&quot;lsst.sal.CCCamera.quadbox_BFR&quot; GROUP BY * ORDER BY DESC LIMIT 1</pre>"
      ],
      "text/plain": [
       "<IPython.core.display.HTML object>"
      ]
     },
     "metadata": {},
     "output_type": "display_data"
    },
    {
     "name": "stdout",
     "output_type": "stream",
     "text": [
      "Last lsst.sal.CCCamera.quadbox_BFR telemetry was at 2022-07-08 17:46:34.450 UTC \n",
      " \tvs time now is 2022-07-08 17:46:04.421820\n"
     ]
    }
   ],
   "source": [
    "await check_telemetry('lsst.sal.CCCamera.quadbox_BFR')"
   ]
  },
  {
   "cell_type": "markdown",
   "metadata": {},
   "source": [
    "---\n",
    "Verify the CCCamera_quadbox_PDU_24VD telemetry data is being published to the EFD."
   ]
  },
  {
   "cell_type": "code",
   "execution_count": 213,
   "metadata": {},
   "outputs": [
    {
     "data": {
      "text/html": [
       "<pre style=\"margin: 0.1em;\n",
       "padding-left: 0.25em;\n",
       "border-left-style: solid;\n",
       "font-family: var(--jp-code-font-family);\n",
       "font-size: var(--jp-code-font-size);\n",
       "line-height: var(--jp-code-line-height);\n",
       "\"><span style=\"color: var(--jp-warn-color2)\">aioinflux</span> <span style=\"color: var(--jp-success-color0)\">DEBUG</span>: 200: SELECT * FROM &quot;efd&quot;.&quot;autogen&quot;.&quot;lsst.sal.CCCamera.quadbox_PDU_24VD&quot; GROUP BY * ORDER BY DESC LIMIT 1</pre>"
      ],
      "text/plain": [
       "<IPython.core.display.HTML object>"
      ]
     },
     "metadata": {},
     "output_type": "display_data"
    },
    {
     "name": "stdout",
     "output_type": "stream",
     "text": [
      "Last lsst.sal.CCCamera.quadbox_PDU_24VD telemetry was at 2022-07-08 17:46:34.450 UTC \n",
      " \tvs time now is 2022-07-08 17:46:04.703223\n"
     ]
    }
   ],
   "source": [
    "await check_telemetry('lsst.sal.CCCamera.quadbox_PDU_24VD')"
   ]
  },
  {
   "cell_type": "markdown",
   "metadata": {},
   "source": [
    "---\n",
    "Verify the CCCamera_quadbox_PDU_48V telemetry data is being published to the EFD."
   ]
  },
  {
   "cell_type": "code",
   "execution_count": 214,
   "metadata": {},
   "outputs": [
    {
     "data": {
      "text/html": [
       "<pre style=\"margin: 0.1em;\n",
       "padding-left: 0.25em;\n",
       "border-left-style: solid;\n",
       "font-family: var(--jp-code-font-family);\n",
       "font-size: var(--jp-code-font-size);\n",
       "line-height: var(--jp-code-line-height);\n",
       "\"><span style=\"color: var(--jp-warn-color2)\">aioinflux</span> <span style=\"color: var(--jp-success-color0)\">DEBUG</span>: 200: SELECT * FROM &quot;efd&quot;.&quot;autogen&quot;.&quot;lsst.sal.CCCamera.quadbox_PDU_48V&quot; GROUP BY * ORDER BY DESC LIMIT 1</pre>"
      ],
      "text/plain": [
       "<IPython.core.display.HTML object>"
      ]
     },
     "metadata": {},
     "output_type": "display_data"
    },
    {
     "name": "stdout",
     "output_type": "stream",
     "text": [
      "Last lsst.sal.CCCamera.quadbox_PDU_48V telemetry was at 2022-07-08 17:46:34.450 UTC \n",
      " \tvs time now is 2022-07-08 17:46:04.992532\n"
     ]
    }
   ],
   "source": [
    "await check_telemetry('lsst.sal.CCCamera.quadbox_PDU_48V')"
   ]
  },
  {
   "cell_type": "markdown",
   "metadata": {},
   "source": [
    "---\n",
    "Verify the CCCamera_quadbox_PDU_5V telemetry data is being published to the EFD."
   ]
  },
  {
   "cell_type": "code",
   "execution_count": 215,
   "metadata": {},
   "outputs": [
    {
     "data": {
      "text/html": [
       "<pre style=\"margin: 0.1em;\n",
       "padding-left: 0.25em;\n",
       "border-left-style: solid;\n",
       "font-family: var(--jp-code-font-family);\n",
       "font-size: var(--jp-code-font-size);\n",
       "line-height: var(--jp-code-line-height);\n",
       "\"><span style=\"color: var(--jp-warn-color2)\">aioinflux</span> <span style=\"color: var(--jp-success-color0)\">DEBUG</span>: 200: SELECT * FROM &quot;efd&quot;.&quot;autogen&quot;.&quot;lsst.sal.CCCamera.quadbox_PDU_5V&quot; GROUP BY * ORDER BY DESC LIMIT 1</pre>"
      ],
      "text/plain": [
       "<IPython.core.display.HTML object>"
      ]
     },
     "metadata": {},
     "output_type": "display_data"
    },
    {
     "name": "stdout",
     "output_type": "stream",
     "text": [
      "Last lsst.sal.CCCamera.quadbox_PDU_5V telemetry was at 2022-07-08 17:46:34.450 UTC \n",
      " \tvs time now is 2022-07-08 17:46:05.234315\n"
     ]
    }
   ],
   "source": [
    "await check_telemetry('lsst.sal.CCCamera.quadbox_PDU_5V')"
   ]
  },
  {
   "cell_type": "markdown",
   "metadata": {},
   "source": [
    "---\n",
    "Verify the CCCamera_focal_plane_Ccd telemetry data is being published to the EFD."
   ]
  },
  {
   "cell_type": "code",
   "execution_count": 216,
   "metadata": {},
   "outputs": [
    {
     "data": {
      "text/html": [
       "<pre style=\"margin: 0.1em;\n",
       "padding-left: 0.25em;\n",
       "border-left-style: solid;\n",
       "font-family: var(--jp-code-font-family);\n",
       "font-size: var(--jp-code-font-size);\n",
       "line-height: var(--jp-code-line-height);\n",
       "\"><span style=\"color: var(--jp-warn-color2)\">aioinflux</span> <span style=\"color: var(--jp-success-color0)\">DEBUG</span>: 200: SELECT * FROM &quot;efd&quot;.&quot;autogen&quot;.&quot;lsst.sal.CCCamera.focal_plane_Ccd&quot; GROUP BY * ORDER BY DESC LIMIT 1</pre>"
      ],
      "text/plain": [
       "<IPython.core.display.HTML object>"
      ]
     },
     "metadata": {},
     "output_type": "display_data"
    },
    {
     "name": "stdout",
     "output_type": "stream",
     "text": [
      "Last lsst.sal.CCCamera.focal_plane_Ccd telemetry was at 2022-07-08 17:46:37.992 UTC \n",
      " \tvs time now is 2022-07-08 17:46:05.519602\n"
     ]
    }
   ],
   "source": [
    "await check_telemetry('lsst.sal.CCCamera.focal_plane_Ccd')"
   ]
  },
  {
   "cell_type": "markdown",
   "metadata": {},
   "source": [
    "---\n",
    "Verify the CCCamera_focal_plane_RebTotalPower telemetry data is being published to the EFD."
   ]
  },
  {
   "cell_type": "code",
   "execution_count": 217,
   "metadata": {},
   "outputs": [
    {
     "data": {
      "text/html": [
       "<pre style=\"margin: 0.1em;\n",
       "padding-left: 0.25em;\n",
       "border-left-style: solid;\n",
       "font-family: var(--jp-code-font-family);\n",
       "font-size: var(--jp-code-font-size);\n",
       "line-height: var(--jp-code-line-height);\n",
       "\"><span style=\"color: var(--jp-warn-color2)\">aioinflux</span> <span style=\"color: var(--jp-success-color0)\">DEBUG</span>: 200: SELECT * FROM &quot;efd&quot;.&quot;autogen&quot;.&quot;lsst.sal.CCCamera.focal_plane_RebTotalPower&quot; GROUP BY * ORDER BY DESC LIMIT 1</pre>"
      ],
      "text/plain": [
       "<IPython.core.display.HTML object>"
      ]
     },
     "metadata": {},
     "output_type": "display_data"
    },
    {
     "name": "stdout",
     "output_type": "stream",
     "text": [
      "Last lsst.sal.CCCamera.focal_plane_RebTotalPower telemetry was at 2022-07-08 17:46:34.866 UTC \n",
      " \tvs time now is 2022-07-08 17:46:05.758352\n"
     ]
    }
   ],
   "source": [
    "await check_telemetry('lsst.sal.CCCamera.focal_plane_RebTotalPower')"
   ]
  },
  {
   "cell_type": "markdown",
   "metadata": {},
   "source": [
    "---\n",
    "Verify the CCCamera_focal_plane_Segment telemetry data is being published to the EFD."
   ]
  },
  {
   "cell_type": "code",
   "execution_count": 218,
   "metadata": {},
   "outputs": [
    {
     "data": {
      "text/html": [
       "<pre style=\"margin: 0.1em;\n",
       "padding-left: 0.25em;\n",
       "border-left-style: solid;\n",
       "font-family: var(--jp-code-font-family);\n",
       "font-size: var(--jp-code-font-size);\n",
       "line-height: var(--jp-code-line-height);\n",
       "\"><span style=\"color: var(--jp-warn-color2)\">aioinflux</span> <span style=\"color: var(--jp-success-color0)\">DEBUG</span>: 200: SELECT * FROM &quot;efd&quot;.&quot;autogen&quot;.&quot;lsst.sal.CCCamera.focal_plane_Segment&quot; GROUP BY * ORDER BY DESC LIMIT 1</pre>"
      ],
      "text/plain": [
       "<IPython.core.display.HTML object>"
      ]
     },
     "metadata": {},
     "output_type": "display_data"
    },
    {
     "name": "stdout",
     "output_type": "stream",
     "text": [
      "Last lsst.sal.CCCamera.focal_plane_Segment telemetry was at 2022-07-08 17:46:37.991 UTC \n",
      " \tvs time now is 2022-07-08 17:46:06.129268\n"
     ]
    }
   ],
   "source": [
    "await check_telemetry('lsst.sal.CCCamera.focal_plane_Segment')"
   ]
  },
  {
   "cell_type": "code",
   "execution_count": 219,
   "metadata": {},
   "outputs": [
    {
     "data": {
      "text/html": [
       "<pre style=\"margin: 0.1em;\n",
       "padding-left: 0.25em;\n",
       "border-left-style: solid;\n",
       "font-family: var(--jp-code-font-family);\n",
       "font-size: var(--jp-code-font-size);\n",
       "line-height: var(--jp-code-line-height);\n",
       "\"><span style=\"color: var(--jp-warn-color2)\">Script</span> <span style=\"color: var(--jp-info-color0)\">INFO</span>: STOP- LVV-T2219 ComCam Interface to SAL</pre>"
      ],
      "text/plain": [
       "<IPython.core.display.HTML object>"
      ]
     },
     "metadata": {},
     "output_type": "display_data"
    }
   ],
   "source": [
    "script.log.info(f\"STOP- {test_message}\")"
   ]
  },
  {
   "cell_type": "code",
   "execution_count": null,
   "metadata": {},
   "outputs": [],
   "source": []
  }
 ],
 "metadata": {
  "kernelspec": {
   "display_name": "LSST",
   "language": "python",
   "name": "lsst"
  },
  "language_info": {
   "codemirror_mode": {
    "name": "ipython",
    "version": 3
   },
   "file_extension": ".py",
   "mimetype": "text/x-python",
   "name": "python",
   "nbconvert_exporter": "python",
   "pygments_lexer": "ipython3",
   "version": "3.10.4"
  }
 },
 "nbformat": 4,
 "nbformat_minor": 4
}
