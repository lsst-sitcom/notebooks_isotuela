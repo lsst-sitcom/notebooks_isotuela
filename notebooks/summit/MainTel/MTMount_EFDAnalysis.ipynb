{
 "cells": [
  {
   "cell_type": "markdown",
   "metadata": {},
   "source": [
    "# Main Telescope EFD Analysis"
   ]
  },
  {
   "cell_type": "markdown",
   "metadata": {},
   "source": [
    "This notebook is used to extract the positions, velocities, acceleration, jerk and motor torques for each axis of the Main Telescope for a given time interval. By inputting a time interval, this notebook allows the rapid determination of what caused the fault, particularily in the case of motor slippage, or if a drive was commanded in an unstable fashion. <br>\n",
    "\n",
    "It is expected that the user interacts with the Bokeh plots to better pinpoint the issue they're searching for. The plot ranges as created will most likely be too large, or contain too much data to be useful with zero manipulation of the axes/zooms etc. <br>\n",
    "\n",
    "This notebook extracts data from the DM-EFD using [aioinflux](https://aioinflux.readthedocs.io/en/stable/index.html), a Python client for InfluxDB, and proceed with data analysis using Pandas dataframes. \n",
    "\n",
    "This is complementaty to the [Chronograf](https://test-chronograf-efd.lsst.codes) interface which we use for time-series visualization.\n",
    "\n",
    "In addition to `aioinflux`, you'll need to install `pandas`, `numpy` and `matplotlib` to run this notebook."
   ]
  },
  {
   "cell_type": "code",
   "execution_count": 1,
   "metadata": {
    "execution": {
     "iopub.execute_input": "2023-03-13T19:08:32.840094Z",
     "iopub.status.busy": "2023-03-13T19:08:32.839831Z",
     "iopub.status.idle": "2023-03-13T19:08:33.262254Z",
     "shell.execute_reply": "2023-03-13T19:08:33.261798Z",
     "shell.execute_reply.started": "2023-03-13T19:08:32.840077Z"
    },
    "scrolled": true,
    "tags": []
   },
   "outputs": [
    {
     "data": {
      "text/html": [
       "<div class=\"bk-root\">\n",
       "        <a href=\"https://bokeh.org\" target=\"_blank\" class=\"bk-logo bk-logo-small bk-logo-notebook\"></a>\n",
       "        <span id=\"1002\">Loading BokehJS ...</span>\n",
       "    </div>\n"
      ]
     },
     "metadata": {},
     "output_type": "display_data"
    },
    {
     "data": {
      "application/javascript": [
       "(function(root) {\n",
       "  function now() {\n",
       "    return new Date();\n",
       "  }\n",
       "\n",
       "  const force = true;\n",
       "\n",
       "  if (typeof root._bokeh_onload_callbacks === \"undefined\" || force === true) {\n",
       "    root._bokeh_onload_callbacks = [];\n",
       "    root._bokeh_is_loading = undefined;\n",
       "  }\n",
       "\n",
       "const JS_MIME_TYPE = 'application/javascript';\n",
       "  const HTML_MIME_TYPE = 'text/html';\n",
       "  const EXEC_MIME_TYPE = 'application/vnd.bokehjs_exec.v0+json';\n",
       "  const CLASS_NAME = 'output_bokeh rendered_html';\n",
       "\n",
       "  /**\n",
       "   * Render data to the DOM node\n",
       "   */\n",
       "  function render(props, node) {\n",
       "    const script = document.createElement(\"script\");\n",
       "    node.appendChild(script);\n",
       "  }\n",
       "\n",
       "  /**\n",
       "   * Handle when an output is cleared or removed\n",
       "   */\n",
       "  function handleClearOutput(event, handle) {\n",
       "    const cell = handle.cell;\n",
       "\n",
       "    const id = cell.output_area._bokeh_element_id;\n",
       "    const server_id = cell.output_area._bokeh_server_id;\n",
       "    // Clean up Bokeh references\n",
       "    if (id != null && id in Bokeh.index) {\n",
       "      Bokeh.index[id].model.document.clear();\n",
       "      delete Bokeh.index[id];\n",
       "    }\n",
       "\n",
       "    if (server_id !== undefined) {\n",
       "      // Clean up Bokeh references\n",
       "      const cmd_clean = \"from bokeh.io.state import curstate; print(curstate().uuid_to_server['\" + server_id + \"'].get_sessions()[0].document.roots[0]._id)\";\n",
       "      cell.notebook.kernel.execute(cmd_clean, {\n",
       "        iopub: {\n",
       "          output: function(msg) {\n",
       "            const id = msg.content.text.trim();\n",
       "            if (id in Bokeh.index) {\n",
       "              Bokeh.index[id].model.document.clear();\n",
       "              delete Bokeh.index[id];\n",
       "            }\n",
       "          }\n",
       "        }\n",
       "      });\n",
       "      // Destroy server and session\n",
       "      const cmd_destroy = \"import bokeh.io.notebook as ion; ion.destroy_server('\" + server_id + \"')\";\n",
       "      cell.notebook.kernel.execute(cmd_destroy);\n",
       "    }\n",
       "  }\n",
       "\n",
       "  /**\n",
       "   * Handle when a new output is added\n",
       "   */\n",
       "  function handleAddOutput(event, handle) {\n",
       "    const output_area = handle.output_area;\n",
       "    const output = handle.output;\n",
       "\n",
       "    // limit handleAddOutput to display_data with EXEC_MIME_TYPE content only\n",
       "    if ((output.output_type != \"display_data\") || (!Object.prototype.hasOwnProperty.call(output.data, EXEC_MIME_TYPE))) {\n",
       "      return\n",
       "    }\n",
       "\n",
       "    const toinsert = output_area.element.find(\".\" + CLASS_NAME.split(' ')[0]);\n",
       "\n",
       "    if (output.metadata[EXEC_MIME_TYPE][\"id\"] !== undefined) {\n",
       "      toinsert[toinsert.length - 1].firstChild.textContent = output.data[JS_MIME_TYPE];\n",
       "      // store reference to embed id on output_area\n",
       "      output_area._bokeh_element_id = output.metadata[EXEC_MIME_TYPE][\"id\"];\n",
       "    }\n",
       "    if (output.metadata[EXEC_MIME_TYPE][\"server_id\"] !== undefined) {\n",
       "      const bk_div = document.createElement(\"div\");\n",
       "      bk_div.innerHTML = output.data[HTML_MIME_TYPE];\n",
       "      const script_attrs = bk_div.children[0].attributes;\n",
       "      for (let i = 0; i < script_attrs.length; i++) {\n",
       "        toinsert[toinsert.length - 1].firstChild.setAttribute(script_attrs[i].name, script_attrs[i].value);\n",
       "        toinsert[toinsert.length - 1].firstChild.textContent = bk_div.children[0].textContent\n",
       "      }\n",
       "      // store reference to server id on output_area\n",
       "      output_area._bokeh_server_id = output.metadata[EXEC_MIME_TYPE][\"server_id\"];\n",
       "    }\n",
       "  }\n",
       "\n",
       "  function register_renderer(events, OutputArea) {\n",
       "\n",
       "    function append_mime(data, metadata, element) {\n",
       "      // create a DOM node to render to\n",
       "      const toinsert = this.create_output_subarea(\n",
       "        metadata,\n",
       "        CLASS_NAME,\n",
       "        EXEC_MIME_TYPE\n",
       "      );\n",
       "      this.keyboard_manager.register_events(toinsert);\n",
       "      // Render to node\n",
       "      const props = {data: data, metadata: metadata[EXEC_MIME_TYPE]};\n",
       "      render(props, toinsert[toinsert.length - 1]);\n",
       "      element.append(toinsert);\n",
       "      return toinsert\n",
       "    }\n",
       "\n",
       "    /* Handle when an output is cleared or removed */\n",
       "    events.on('clear_output.CodeCell', handleClearOutput);\n",
       "    events.on('delete.Cell', handleClearOutput);\n",
       "\n",
       "    /* Handle when a new output is added */\n",
       "    events.on('output_added.OutputArea', handleAddOutput);\n",
       "\n",
       "    /**\n",
       "     * Register the mime type and append_mime function with output_area\n",
       "     */\n",
       "    OutputArea.prototype.register_mime_type(EXEC_MIME_TYPE, append_mime, {\n",
       "      /* Is output safe? */\n",
       "      safe: true,\n",
       "      /* Index of renderer in `output_area.display_order` */\n",
       "      index: 0\n",
       "    });\n",
       "  }\n",
       "\n",
       "  // register the mime type if in Jupyter Notebook environment and previously unregistered\n",
       "  if (root.Jupyter !== undefined) {\n",
       "    const events = require('base/js/events');\n",
       "    const OutputArea = require('notebook/js/outputarea').OutputArea;\n",
       "\n",
       "    if (OutputArea.prototype.mime_types().indexOf(EXEC_MIME_TYPE) == -1) {\n",
       "      register_renderer(events, OutputArea);\n",
       "    }\n",
       "  }\n",
       "  if (typeof (root._bokeh_timeout) === \"undefined\" || force === true) {\n",
       "    root._bokeh_timeout = Date.now() + 5000;\n",
       "    root._bokeh_failed_load = false;\n",
       "  }\n",
       "\n",
       "  const NB_LOAD_WARNING = {'data': {'text/html':\n",
       "     \"<div style='background-color: #fdd'>\\n\"+\n",
       "     \"<p>\\n\"+\n",
       "     \"BokehJS does not appear to have successfully loaded. If loading BokehJS from CDN, this \\n\"+\n",
       "     \"may be due to a slow or bad network connection. Possible fixes:\\n\"+\n",
       "     \"</p>\\n\"+\n",
       "     \"<ul>\\n\"+\n",
       "     \"<li>re-rerun `output_notebook()` to attempt to load from CDN again, or</li>\\n\"+\n",
       "     \"<li>use INLINE resources instead, as so:</li>\\n\"+\n",
       "     \"</ul>\\n\"+\n",
       "     \"<code>\\n\"+\n",
       "     \"from bokeh.resources import INLINE\\n\"+\n",
       "     \"output_notebook(resources=INLINE)\\n\"+\n",
       "     \"</code>\\n\"+\n",
       "     \"</div>\"}};\n",
       "\n",
       "  function display_loaded() {\n",
       "    const el = document.getElementById(\"1002\");\n",
       "    if (el != null) {\n",
       "      el.textContent = \"BokehJS is loading...\";\n",
       "    }\n",
       "    if (root.Bokeh !== undefined) {\n",
       "      if (el != null) {\n",
       "        el.textContent = \"BokehJS \" + root.Bokeh.version + \" successfully loaded.\";\n",
       "      }\n",
       "    } else if (Date.now() < root._bokeh_timeout) {\n",
       "      setTimeout(display_loaded, 100)\n",
       "    }\n",
       "  }\n",
       "\n",
       "  function run_callbacks() {\n",
       "    try {\n",
       "      root._bokeh_onload_callbacks.forEach(function(callback) {\n",
       "        if (callback != null)\n",
       "          callback();\n",
       "      });\n",
       "    } finally {\n",
       "      delete root._bokeh_onload_callbacks\n",
       "    }\n",
       "    console.debug(\"Bokeh: all callbacks have finished\");\n",
       "  }\n",
       "\n",
       "  function load_libs(css_urls, js_urls, callback) {\n",
       "    if (css_urls == null) css_urls = [];\n",
       "    if (js_urls == null) js_urls = [];\n",
       "\n",
       "    root._bokeh_onload_callbacks.push(callback);\n",
       "    if (root._bokeh_is_loading > 0) {\n",
       "      console.debug(\"Bokeh: BokehJS is being loaded, scheduling callback at\", now());\n",
       "      return null;\n",
       "    }\n",
       "    if (js_urls == null || js_urls.length === 0) {\n",
       "      run_callbacks();\n",
       "      return null;\n",
       "    }\n",
       "    console.debug(\"Bokeh: BokehJS not loaded, scheduling load and callback at\", now());\n",
       "    root._bokeh_is_loading = css_urls.length + js_urls.length;\n",
       "\n",
       "    function on_load() {\n",
       "      root._bokeh_is_loading--;\n",
       "      if (root._bokeh_is_loading === 0) {\n",
       "        console.debug(\"Bokeh: all BokehJS libraries/stylesheets loaded\");\n",
       "        run_callbacks()\n",
       "      }\n",
       "    }\n",
       "\n",
       "    function on_error(url) {\n",
       "      console.error(\"failed to load \" + url);\n",
       "    }\n",
       "\n",
       "    for (let i = 0; i < css_urls.length; i++) {\n",
       "      const url = css_urls[i];\n",
       "      const element = document.createElement(\"link\");\n",
       "      element.onload = on_load;\n",
       "      element.onerror = on_error.bind(null, url);\n",
       "      element.rel = \"stylesheet\";\n",
       "      element.type = \"text/css\";\n",
       "      element.href = url;\n",
       "      console.debug(\"Bokeh: injecting link tag for BokehJS stylesheet: \", url);\n",
       "      document.body.appendChild(element);\n",
       "    }\n",
       "\n",
       "    for (let i = 0; i < js_urls.length; i++) {\n",
       "      const url = js_urls[i];\n",
       "      const element = document.createElement('script');\n",
       "      element.onload = on_load;\n",
       "      element.onerror = on_error.bind(null, url);\n",
       "      element.async = false;\n",
       "      element.src = url;\n",
       "      console.debug(\"Bokeh: injecting script tag for BokehJS library: \", url);\n",
       "      document.head.appendChild(element);\n",
       "    }\n",
       "  };\n",
       "\n",
       "  function inject_raw_css(css) {\n",
       "    const element = document.createElement(\"style\");\n",
       "    element.appendChild(document.createTextNode(css));\n",
       "    document.body.appendChild(element);\n",
       "  }\n",
       "\n",
       "  const js_urls = [\"https://cdn.bokeh.org/bokeh/release/bokeh-2.4.3.min.js\", \"https://cdn.bokeh.org/bokeh/release/bokeh-gl-2.4.3.min.js\", \"https://cdn.bokeh.org/bokeh/release/bokeh-widgets-2.4.3.min.js\", \"https://cdn.bokeh.org/bokeh/release/bokeh-tables-2.4.3.min.js\", \"https://cdn.bokeh.org/bokeh/release/bokeh-mathjax-2.4.3.min.js\"];\n",
       "  const css_urls = [];\n",
       "\n",
       "  const inline_js = [    function(Bokeh) {\n",
       "      Bokeh.set_log_level(\"info\");\n",
       "    },\n",
       "function(Bokeh) {\n",
       "    }\n",
       "  ];\n",
       "\n",
       "  function run_inline_js() {\n",
       "    if (root.Bokeh !== undefined || force === true) {\n",
       "          for (let i = 0; i < inline_js.length; i++) {\n",
       "      inline_js[i].call(root, root.Bokeh);\n",
       "    }\n",
       "if (force === true) {\n",
       "        display_loaded();\n",
       "      }} else if (Date.now() < root._bokeh_timeout) {\n",
       "      setTimeout(run_inline_js, 100);\n",
       "    } else if (!root._bokeh_failed_load) {\n",
       "      console.log(\"Bokeh: BokehJS failed to load within specified timeout.\");\n",
       "      root._bokeh_failed_load = true;\n",
       "    } else if (force !== true) {\n",
       "      const cell = $(document.getElementById(\"1002\")).parents('.cell').data().cell;\n",
       "      cell.output_area.append_execute_result(NB_LOAD_WARNING)\n",
       "    }\n",
       "  }\n",
       "\n",
       "  if (root._bokeh_is_loading === 0) {\n",
       "    console.debug(\"Bokeh: BokehJS loaded, going straight to plotting\");\n",
       "    run_inline_js();\n",
       "  } else {\n",
       "    load_libs(css_urls, js_urls, function() {\n",
       "      console.debug(\"Bokeh: BokehJS plotting callback run at\", now());\n",
       "      run_inline_js();\n",
       "    });\n",
       "  }\n",
       "}(window));"
      ],
      "application/vnd.bokehjs_load.v0+json": "(function(root) {\n  function now() {\n    return new Date();\n  }\n\n  const force = true;\n\n  if (typeof root._bokeh_onload_callbacks === \"undefined\" || force === true) {\n    root._bokeh_onload_callbacks = [];\n    root._bokeh_is_loading = undefined;\n  }\n\n\n  if (typeof (root._bokeh_timeout) === \"undefined\" || force === true) {\n    root._bokeh_timeout = Date.now() + 5000;\n    root._bokeh_failed_load = false;\n  }\n\n  const NB_LOAD_WARNING = {'data': {'text/html':\n     \"<div style='background-color: #fdd'>\\n\"+\n     \"<p>\\n\"+\n     \"BokehJS does not appear to have successfully loaded. If loading BokehJS from CDN, this \\n\"+\n     \"may be due to a slow or bad network connection. Possible fixes:\\n\"+\n     \"</p>\\n\"+\n     \"<ul>\\n\"+\n     \"<li>re-rerun `output_notebook()` to attempt to load from CDN again, or</li>\\n\"+\n     \"<li>use INLINE resources instead, as so:</li>\\n\"+\n     \"</ul>\\n\"+\n     \"<code>\\n\"+\n     \"from bokeh.resources import INLINE\\n\"+\n     \"output_notebook(resources=INLINE)\\n\"+\n     \"</code>\\n\"+\n     \"</div>\"}};\n\n  function display_loaded() {\n    const el = document.getElementById(\"1002\");\n    if (el != null) {\n      el.textContent = \"BokehJS is loading...\";\n    }\n    if (root.Bokeh !== undefined) {\n      if (el != null) {\n        el.textContent = \"BokehJS \" + root.Bokeh.version + \" successfully loaded.\";\n      }\n    } else if (Date.now() < root._bokeh_timeout) {\n      setTimeout(display_loaded, 100)\n    }\n  }\n\n  function run_callbacks() {\n    try {\n      root._bokeh_onload_callbacks.forEach(function(callback) {\n        if (callback != null)\n          callback();\n      });\n    } finally {\n      delete root._bokeh_onload_callbacks\n    }\n    console.debug(\"Bokeh: all callbacks have finished\");\n  }\n\n  function load_libs(css_urls, js_urls, callback) {\n    if (css_urls == null) css_urls = [];\n    if (js_urls == null) js_urls = [];\n\n    root._bokeh_onload_callbacks.push(callback);\n    if (root._bokeh_is_loading > 0) {\n      console.debug(\"Bokeh: BokehJS is being loaded, scheduling callback at\", now());\n      return null;\n    }\n    if (js_urls == null || js_urls.length === 0) {\n      run_callbacks();\n      return null;\n    }\n    console.debug(\"Bokeh: BokehJS not loaded, scheduling load and callback at\", now());\n    root._bokeh_is_loading = css_urls.length + js_urls.length;\n\n    function on_load() {\n      root._bokeh_is_loading--;\n      if (root._bokeh_is_loading === 0) {\n        console.debug(\"Bokeh: all BokehJS libraries/stylesheets loaded\");\n        run_callbacks()\n      }\n    }\n\n    function on_error(url) {\n      console.error(\"failed to load \" + url);\n    }\n\n    for (let i = 0; i < css_urls.length; i++) {\n      const url = css_urls[i];\n      const element = document.createElement(\"link\");\n      element.onload = on_load;\n      element.onerror = on_error.bind(null, url);\n      element.rel = \"stylesheet\";\n      element.type = \"text/css\";\n      element.href = url;\n      console.debug(\"Bokeh: injecting link tag for BokehJS stylesheet: \", url);\n      document.body.appendChild(element);\n    }\n\n    for (let i = 0; i < js_urls.length; i++) {\n      const url = js_urls[i];\n      const element = document.createElement('script');\n      element.onload = on_load;\n      element.onerror = on_error.bind(null, url);\n      element.async = false;\n      element.src = url;\n      console.debug(\"Bokeh: injecting script tag for BokehJS library: \", url);\n      document.head.appendChild(element);\n    }\n  };\n\n  function inject_raw_css(css) {\n    const element = document.createElement(\"style\");\n    element.appendChild(document.createTextNode(css));\n    document.body.appendChild(element);\n  }\n\n  const js_urls = [\"https://cdn.bokeh.org/bokeh/release/bokeh-2.4.3.min.js\", \"https://cdn.bokeh.org/bokeh/release/bokeh-gl-2.4.3.min.js\", \"https://cdn.bokeh.org/bokeh/release/bokeh-widgets-2.4.3.min.js\", \"https://cdn.bokeh.org/bokeh/release/bokeh-tables-2.4.3.min.js\", \"https://cdn.bokeh.org/bokeh/release/bokeh-mathjax-2.4.3.min.js\"];\n  const css_urls = [];\n\n  const inline_js = [    function(Bokeh) {\n      Bokeh.set_log_level(\"info\");\n    },\nfunction(Bokeh) {\n    }\n  ];\n\n  function run_inline_js() {\n    if (root.Bokeh !== undefined || force === true) {\n          for (let i = 0; i < inline_js.length; i++) {\n      inline_js[i].call(root, root.Bokeh);\n    }\nif (force === true) {\n        display_loaded();\n      }} else if (Date.now() < root._bokeh_timeout) {\n      setTimeout(run_inline_js, 100);\n    } else if (!root._bokeh_failed_load) {\n      console.log(\"Bokeh: BokehJS failed to load within specified timeout.\");\n      root._bokeh_failed_load = true;\n    } else if (force !== true) {\n      const cell = $(document.getElementById(\"1002\")).parents('.cell').data().cell;\n      cell.output_area.append_execute_result(NB_LOAD_WARNING)\n    }\n  }\n\n  if (root._bokeh_is_loading === 0) {\n    console.debug(\"Bokeh: BokehJS loaded, going straight to plotting\");\n    run_inline_js();\n  } else {\n    load_libs(css_urls, js_urls, function() {\n      console.debug(\"Bokeh: BokehJS plotting callback run at\", now());\n      run_inline_js();\n    });\n  }\n}(window));"
     },
     "metadata": {},
     "output_type": "display_data"
    }
   ],
   "source": [
    "import matplotlib\n",
    "%matplotlib widget\n",
    "from matplotlib import pylab as plt\n",
    "import aioinflux\n",
    "import getpass\n",
    "import pandas as pd\n",
    "import asyncio\n",
    "import numpy as np\n",
    "from astropy.time import Time, TimeDelta\n",
    "\n",
    "from bokeh.plotting import figure, output_notebook, show\n",
    "from bokeh.models import LinearAxis, Range1d\n",
    "output_notebook()\n",
    "from bokeh.models import Span, Label\n",
    "\n",
    "from lsst_efd_client import EfdClient, resample"
   ]
  },
  {
   "cell_type": "code",
   "execution_count": null,
   "metadata": {
    "tags": []
   },
   "outputs": [],
   "source": [
    "# Change client if using USDF. \n",
    "client = EfdClient('summit_efd')\n",
    "client.output = 'dataframe'"
   ]
  },
  {
   "cell_type": "markdown",
   "metadata": {},
   "source": [
    "We'll access the DM-EFD instance deployed at the summit. You need to be on site or connected to the NOAO VPN. "
   ]
  },
  {
   "cell_type": "markdown",
   "metadata": {},
   "source": [
    "## Declare timestamps used for EFD queries"
   ]
  },
  {
   "cell_type": "code",
   "execution_count": null,
   "metadata": {
    "tags": []
   },
   "outputs": [],
   "source": [
    "### Example \n",
    "t1 = Time('2023-03-08T03:40:01', scale='utc') \n",
    "window = TimeDelta(300, format='sec')\n",
    "t2=t1+window"
   ]
  },
  {
   "cell_type": "code",
   "execution_count": null,
   "metadata": {
    "tags": []
   },
   "outputs": [],
   "source": [
    "# Declare offset to tai\n",
    "# Used in converting pointing vector data which is in TAI\n",
    "utc_to_tai_offset = TimeDelta(37, format='sec')"
   ]
  },
  {
   "cell_type": "code",
   "execution_count": null,
   "metadata": {
    "tags": []
   },
   "outputs": [],
   "source": [
    "# Find images taken during the time interval\n",
    "image_info = await client.select_time_series(\"lsst.sal.GenericCamera.logevent_endReadout\", \n",
    "                                             [\"imageNumber\", \"timestampAcquisitionStart\", \"timestampEndOfReadout\", \"requestedExposureTime\"], \n",
    "                                             t1, t2)\n",
    "#print(image_info)"
   ]
  },
  {
   "cell_type": "code",
   "execution_count": null,
   "metadata": {
    "tags": []
   },
   "outputs": [],
   "source": [
    "image_info"
   ]
  },
  {
   "cell_type": "code",
   "execution_count": null,
   "metadata": {
    "tags": []
   },
   "outputs": [],
   "source": [
    "# time check verification\n",
    "print(t1.isot)\n",
    "print(t1.datetime64)\n",
    "print(t2.isot)"
   ]
  },
  {
   "cell_type": "code",
   "execution_count": null,
   "metadata": {
    "tags": []
   },
   "outputs": [],
   "source": [
    "# Useful code snippet on how to convert the time strings to a readable format\n",
    "# help(pd.to_datetime(commanded_az_ATPng['private_sndStamp'][0], unit='s'))"
   ]
  },
  {
   "cell_type": "code",
   "execution_count": null,
   "metadata": {
    "tags": []
   },
   "outputs": [],
   "source": [
    "def show_image_boundaries(image_info, yaxis_data):\n",
    "    if len(image_info) > 0:\n",
    "        # Generic camera selection: #0 for Wide Camera, #1 for Narrow Camera & #2 for Fast Camera (DIMM) \n",
    "        cam = 0\n",
    "        for l in range(cam, len(image_info), 3):\n",
    "            # NEED to check the time tai to utc in plot\n",
    "            start = Time(image_info.timestampAcquisitionStart[l], format='unix', scale='tai') + utc_to_tai_offset\n",
    "            #finish = Time(image_info.timestampEndOfReadout[l], format='unix', scale='tai') # issue with timestamps in astropy\n",
    "            finish = start+TimeDelta(image_info.requestedExposureTime[l], format='sec')  # workaround\n",
    "            # print(f\"start for {l} is {start.isot}\")\n",
    "            # print(f\"Exposure time for {l} is {image_info.requestedExposureTime[l]}\")\n",
    "            # print(f\"finish is for {l} is {finish.isot}\")\n",
    "            start_vline = Span(location=start.datetime64, dimension='height', line_color='purple', line_width=0.5, line_dash='dashed')\n",
    "            finish_vline = Span(location=finish.datetime64, dimension='height', line_color='blue', line_width=0.5, line_dash='dashed')\n",
    "            \n",
    "            ylabel_pos = np.median(yaxis_data)\n",
    "            seq_num_label = Label(x=start.datetime64, y=ylabel_pos, text=str(image_info.imageNumber[l]))\n",
    "\n",
    "            p.add_layout(start_vline)\n",
    "            p.add_layout(finish_vline)\n",
    "            p.add_layout(seq_num_label)"
   ]
  },
  {
   "cell_type": "markdown",
   "metadata": {},
   "source": [
    "# Azimuth Analysis"
   ]
  },
  {
   "cell_type": "code",
   "execution_count": null,
   "metadata": {
    "tags": []
   },
   "outputs": [],
   "source": [
    "# query angle of azimuth (4 individual encoder heads)\n",
    "az = await client.select_time_series(\"lsst.sal.MTMount.encoder\",\n",
    "                                      [\"azimuthEncoderPosition0\", \"azimuthEncoderPosition1\", \"azimuthEncoderPosition2\", \"azimuthEncoderPosition3\"], \n",
    "                                      t1, t2)"
   ]
  },
  {
   "cell_type": "code",
   "execution_count": null,
   "metadata": {
    "tags": []
   },
   "outputs": [],
   "source": [
    "# query the angle commanded by the MT Pointing Component \n",
    "commanded_az_ATPng = await client.select_time_series(\"lsst.sal.MTMount.command_trackTarget\", \n",
    "                                                     [\"azimuth\",\"private_sndStamp\", \"private_rcvStamp\"], \n",
    "                                                      t1, t2)"
   ]
  },
  {
   "cell_type": "markdown",
   "metadata": {},
   "source": [
    "## Azimuth Position - Plot commanded position (by pointing component), Calculated encoder position (by MTMount)"
   ]
  },
  {
   "cell_type": "code",
   "execution_count": null,
   "metadata": {
    "tags": []
   },
   "outputs": [],
   "source": [
    "# left plot axis range\n",
    "yr_cen=np.median(commanded_az_ATPng['azimuth'])\n",
    "dy=1.1*(np.max(commanded_az_ATPng['azimuth'])- np.min(commanded_az_ATPng['azimuth']))\n",
    "\n",
    "p = figure(x_axis_type='datetime', y_range=(yr_cen-dy, yr_cen+dy), plot_width=800, plot_height=400)\n",
    "p.yaxis.axis_label = \"Azimuth [deg]\"\n",
    "p.xaxis.axis_label = \"Time\"\n",
    "p.title = \"AZ Position vs Time \\n\"\n",
    "\n",
    "\n",
    "# Measured AZ from encoder0\n",
    "p.cross(x=(Time(az.index.values)).value, \n",
    "        y=az['azimuthEncoderPosition0'], \n",
    "        color='red', alpha=0.5, \n",
    "        legend_label='MTMount Measured Az Position')\n",
    "# MTMount Commanded AZ from MTPtng\n",
    "p.line(x=(Time(commanded_az_ATPng.index.values)).value, \n",
    "       y=commanded_az_ATPng['azimuth'], \n",
    "       color='green', alpha=0.7,\n",
    "       legend_label='MTPtng Commanded Target Az')\n",
    "\n",
    "# plot image boundaries\n",
    "show_image_boundaries(image_info, commanded_az_ATPng['azimuth'])\n",
    "\n",
    "p.legend.location = 'top_left'\n",
    "p.legend.click_policy = 'hide'\n",
    "show(p)"
   ]
  },
  {
   "cell_type": "markdown",
   "metadata": {},
   "source": [
    "## Azimuth velocity "
   ]
  },
  {
   "cell_type": "code",
   "execution_count": null,
   "metadata": {
    "tags": []
   },
   "outputs": [],
   "source": [
    "# Measured Velocity\n",
    "measured_vel_az = await client.select_time_series(\"lsst.sal.MTMount.azimuth\", \n",
    "                                                  [\"actualVelocity\", \"demandVelocity\"], \n",
    "                                                  t1, t2)\n",
    "\n",
    "# Commanded velocity from MTPointing Component\n",
    "commanded_vel_az_ATPng = await client.select_time_series(\"lsst.sal.MTMount.command_trackTarget\", \n",
    "                                                         [\"azimuthVelocity\",\"private_sndStamp\", \"private_rcvStamp\"], \n",
    "                                                         t1, t2)"
   ]
  },
  {
   "cell_type": "code",
   "execution_count": null,
   "metadata": {
    "tags": []
   },
   "outputs": [],
   "source": [
    "p = figure(x_axis_type='datetime', y_range=(yr_cen-dy, yr_cen+dy), plot_width=800, plot_height=400)\n",
    "p.title = \"AZ Velocity and Position vs Time \\n\"\n",
    "p.yaxis.axis_label = \"Azimuth [deg]\"\n",
    "p.xaxis.axis_label = \"Time\"\n",
    "\n",
    "# AZ Positions\n",
    "# Measured AZ from encoder0\n",
    "p.cross(x=(Time(az.index.values)).value, \n",
    "        y=az['azimuthEncoderPosition0'], \n",
    "        color='red', alpha=0.5, \n",
    "        legend_label='MTMount Measured Az Position')\n",
    "# MTMount Commanded AZ from MTPtng\n",
    "p.line(x=(Time(commanded_az_ATPng.index.values)).value, \n",
    "       y=commanded_az_ATPng['azimuth'], \n",
    "       color='green', alpha=0.7,\n",
    "       legend_label='MTPtng Commanded Target Az')\n",
    "\n",
    "# AZ Velocities\n",
    "p.extra_y_ranges = {'Velocity': Range1d(start=-0.1, end=0.1)}\n",
    "p.add_layout(LinearAxis(y_range_name='Velocity', axis_label='Velocity [deg/s]'), 'right')\n",
    "# Measured AZ velocity\n",
    "p.cross(x=(Time(measured_vel_az.index.values)).value, \n",
    "        y=measured_vel_az['actualVelocity'], \n",
    "        color='blue', alpha=0.5, y_range_name='Velocity', \n",
    "        legend_label='MTMount Measured Az Velocity')\n",
    "\n",
    "# vs commanded AZ velocity\n",
    "p.line(x=(Time(commanded_vel_az_ATPng.index.values)).value, \n",
    "       y=commanded_vel_az_ATPng['azimuthVelocity'], \n",
    "       color='orange', alpha=0.7, y_range_name='Velocity', \n",
    "       legend_label='MTPtng Commanded Target Az Velocity')\n",
    "\n",
    "\n",
    "p.legend.location = 'top_left'\n",
    "p.legend.click_policy = 'hide'\n",
    "show(p)"
   ]
  },
  {
   "cell_type": "markdown",
   "metadata": {},
   "source": [
    "## Azimuth Torque "
   ]
  },
  {
   "cell_type": "code",
   "execution_count": null,
   "metadata": {
    "tags": []
   },
   "outputs": [],
   "source": [
    "# Demanded and Measured Torques\n",
    "\n",
    "az_torque_measured = await client.select_time_series(\"lsst.sal.MTMount.azimuth\", \n",
    "                                                     [\"actualTorque\", ], \n",
    "                                                     t1, t2)"
   ]
  },
  {
   "cell_type": "code",
   "execution_count": null,
   "metadata": {
    "tags": []
   },
   "outputs": [],
   "source": [
    "# Torque Plot\n",
    "\n",
    "yr_cen=np.median(measured_vel_az['actualVelocity'])\n",
    "dy=1.1*(np.max(measured_vel_az['actualVelocity'])- np.min(measured_vel_az['actualVelocity']))\n",
    "\n",
    "p = figure(x_axis_type='datetime', y_range=(yr_cen-dy, yr_cen+dy), plot_width=800, plot_height=400)\n",
    "p.yaxis.axis_label = \"Velocity [deg/s]\"\n",
    "p.xaxis.axis_label = \"Time\"\n",
    "p.title = \"AZ Torque and Velocity vs Time \\n\"\n",
    "\n",
    "# AZ velocity\n",
    "p.cross(x=(Time(measured_vel_az.index.values)).value, \n",
    "        y=measured_vel_az['actualVelocity'], \n",
    "        color='blue', alpha=0.5, \n",
    "        legend_label='MTMount Measured Az Velocity')\n",
    "# p.cross(x=(Time(measured_vel_az.index.values)).value, \n",
    "#         y=measured_vel_az['demandVelocity'], \n",
    "#         color='pink', alpha=0.5, y_range_name='Velocity', \n",
    "#         legend_label='MTMount Demand Az Velocity')\n",
    "\n",
    "# vs commanded AZ velocity\n",
    "p.line(x=(Time(commanded_vel_az_ATPng.index.values)).value, \n",
    "       y=commanded_vel_az_ATPng['azimuthVelocity'], \n",
    "       color='orange', alpha=0.7, \n",
    "       legend_label='MTPtng Commanded Target Az Velocity')\n",
    "\n",
    "\n",
    "# Measured AZ Torques\n",
    "yr_cen=np.median(az_torque_measured['actualTorque'])\n",
    "dy=(np.max(az_torque_measured['actualTorque']) - np.min(az_torque_measured['actualTorque']))/2\n",
    "p.extra_y_ranges = {'Torque': Range1d(start=yr_cen-dy, end=yr_cen+dy)}\n",
    "p.add_layout(LinearAxis(y_range_name='Torque', axis_label='Torque [A]'), 'right')\n",
    "\n",
    "p.line(x=(Time(az_torque_measured.index.values)).value, \n",
    "       y=az_torque_measured['actualTorque'], \n",
    "       color='green', alpha=0.5, y_range_name='Torque', \n",
    "       legend_label='MTMount AZ Measured Torque')\n",
    "\n",
    "p.legend.location = 'bottom_left'\n",
    "p.legend.click_policy = 'hide'\n",
    "show(p)"
   ]
  },
  {
   "cell_type": "markdown",
   "metadata": {},
   "source": [
    "## Acceleration and jerk "
   ]
  },
  {
   "cell_type": "code",
   "execution_count": null,
   "metadata": {
    "tags": []
   },
   "outputs": [],
   "source": [
    "# Measured Acceleration\n",
    "measured_acc_az = await client.select_time_series(\"lsst.sal.MTMount.azimuth\", \n",
    "                                                  [\"actualAcceleration\"], \n",
    "                                                  t1, t2)\n"
   ]
  },
  {
   "cell_type": "code",
   "execution_count": null,
   "metadata": {
    "tags": []
   },
   "outputs": [],
   "source": [
    "# No jerk available in EFD  - Derivative\n",
    "acc_az = np.array(measured_acc_az.values.tolist())[:,0]\n",
    "times=(measured_acc_az.index - measured_acc_az.index[0]).total_seconds()\n",
    "acc_derivative = np.gradient(acc_az, times)\n",
    "calculated_jerk_az=pd.DataFrame({'times': measured_acc_az.index, 'jerk':acc_derivative})"
   ]
  },
  {
   "cell_type": "code",
   "execution_count": null,
   "metadata": {
    "tags": []
   },
   "outputs": [],
   "source": [
    "# Acceleration and Jerk Plot\n",
    "\n",
    "yr_cen=np.median(measured_acc_az['actualAcceleration'])\n",
    "dy=1.1*(np.max(measured_acc_az['actualAcceleration'])- np.min(measured_acc_az['actualAcceleration']))\n",
    "\n",
    "p = figure(x_axis_type='datetime', y_range=(yr_cen-dy, yr_cen+dy), plot_width=800, plot_height=400)\n",
    "p.yaxis.axis_label = \"Acceleration [deg/s\\u00b2]\"\n",
    "p.xaxis.axis_label = \"Time\"\n",
    "p.title = \"AZ Acceleration and Jerk vs Time \\n\"\n",
    "\n",
    "# AZ acceleration\n",
    "# Velocity\n",
    "# p.cross(x=(Time(measured_vel_az.index.values)).value, \n",
    "#         y=measured_vel_az['actualVelocity'], \n",
    "#         color='red', alpha=0.5, \n",
    "#         legend_label='MTMount Measured Az Velocity')\n",
    "\n",
    "# Acceleration\n",
    "p.cross(x=(Time(measured_acc_az.index.values)).value, \n",
    "       y=measured_acc_az['ActualAcceleration'], \n",
    "       color='blue', alpha=0.7, \n",
    "       legend_label='MTMount Measured Az Velocity')\n",
    "\n",
    "\n",
    "# Calculated Jerk\n",
    "yr_cen=np.median(calculated_jerk_az['jerk'])\n",
    "dy=(np.max(calculated_jerk_az['jerk']) - np.min(calculated_jerk_az['jerk']))/2\n",
    "p.extra_y_ranges = {'Jerk': Range1d(start=yr_cen-dy, end=yr_cen+dy)}\n",
    "p.add_layout(LinearAxis(y_range_name='Jerk', axis_label='Jerk [deg/s\\u00b3]'), 'right')\n",
    "\n",
    "p.line(x=(Time(calculated_jerk_az['times'])).value, \n",
    "       y=calculated_jerk_az['jerk'], \n",
    "       color='green', alpha=0.5, y_range_name='Jerk', \n",
    "       legend_label='MTMount AZ Jerk')\n",
    "\n",
    "p.legend.location = 'bottom_left'\n",
    "p.legend.click_policy = 'hide'\n",
    "show(p)"
   ]
  },
  {
   "cell_type": "markdown",
   "metadata": {},
   "source": [
    "# Elevation Axis Analysis"
   ]
  },
  {
   "cell_type": "code",
   "execution_count": null,
   "metadata": {
    "tags": []
   },
   "outputs": [],
   "source": [
    "# query angle of elevation (4 individual encoder heads)\n",
    "el = await client.select_time_series(\"lsst.sal.MTMount.encoder\",\n",
    "                                      [\"elevationEncoderPosition0\", \"elevationEncoderPosition1\", \"elevationEncoderPosition2\", \"elevationEncoderPosition3\"], \n",
    "                                      t1, t2)"
   ]
  },
  {
   "cell_type": "code",
   "execution_count": null,
   "metadata": {
    "tags": []
   },
   "outputs": [],
   "source": [
    "# query the angle commanded by the MT Pointing Component \n",
    "commanded_el_ATPng = await client.select_time_series(\"lsst.sal.MTMount.command_trackTarget\", \n",
    "                                                     [\"elevation\",\"private_sndStamp\", \"private_rcvStamp\"], \n",
    "                                                      t1, t2)"
   ]
  },
  {
   "cell_type": "markdown",
   "metadata": {},
   "source": [
    "## Elevation Position -  Plot commanded position (by pointing component), Calculated encoder position (by MTMount)"
   ]
  },
  {
   "cell_type": "code",
   "execution_count": null,
   "metadata": {
    "tags": []
   },
   "outputs": [],
   "source": [
    "#derive principal (left) plot axis range\n",
    "yr_cen=np.median(commanded_el_ATPng['elevation'])\n",
    "dy=1.1*(np.max(commanded_el_ATPng['elevation'])- np.min(commanded_el_ATPng['elevation']))\n",
    "\n",
    "p = figure(x_axis_type='datetime', y_range=(yr_cen-dy, yr_cen+dy), plot_width=800, plot_height=400)\n",
    "p.yaxis.axis_label = \"Elevation [deg]\"\n",
    "p.xaxis.axis_label = \"Time\"\n",
    "p.title = \"El Position vs Time \\n\"\n",
    "\n",
    "# Measured AZ from encoder0\n",
    "p.cross(x=(Time(el.index.values)).value, \n",
    "        y=el['elevationEncoderPosition0'], \n",
    "        color='red', alpha=0.5, \n",
    "        legend_label='MTMount Measured EL Position')\n",
    "# MTMount Commanded AZ from MTPtng\n",
    "p.line(x=(Time(commanded_el_ATPng.index.values)).value, \n",
    "       y=commanded_el_ATPng['elevation'], \n",
    "       color='green', alpha=0.7,\n",
    "       legend_label='MTPtng Commanded Target El')\n",
    "\n",
    "# plot image boundaries\n",
    "show_image_boundaries(image_info, commanded_el_ATPng['elevation'])\n",
    "\n",
    "p.legend.location = 'bottom_left'\n",
    "p.legend.click_policy = 'hide'\n",
    "show(p)"
   ]
  },
  {
   "cell_type": "markdown",
   "metadata": {},
   "source": [
    "## Elevation velocity "
   ]
  },
  {
   "cell_type": "code",
   "execution_count": null,
   "metadata": {
    "tags": []
   },
   "outputs": [],
   "source": [
    "# Measured Velocity\n",
    "measured_vel_el = await client.select_time_series(\"lsst.sal.MTMount.elevation\", \n",
    "                                                  [\"actualVelocity\", \"demandVelocity\"], \n",
    "                                                  t1, t2)\n",
    "\n",
    "# Commanded velocity from MTPointing Component\n",
    "commanded_vel_el_ATPng = await client.select_time_series(\"lsst.sal.MTMount.command_trackTarget\", \n",
    "                                                         [\"elevationVelocity\",\"private_sndStamp\", \"private_rcvStamp\"], \n",
    "                                                         t1, t2)"
   ]
  },
  {
   "cell_type": "code",
   "execution_count": null,
   "metadata": {
    "tags": []
   },
   "outputs": [],
   "source": [
    "p = figure(x_axis_type='datetime', y_range=(yr_cen-dy, yr_cen+dy), plot_width=800, plot_height=400)\n",
    "p.yaxis.axis_label = \"Elevation [deg]\"\n",
    "p.xaxis.axis_label = \"Time\"\n",
    "p.title = \"EL Velocity and Position vs Time \\n\"\n",
    "\n",
    "\n",
    "# EL Positions\n",
    "# Measured EL from encoder0\n",
    "p.cross(x=(Time(el.index.values)).value, \n",
    "        y=el['elevationEncoderPosition0'], \n",
    "        color='red', alpha=0.5, \n",
    "        legend_label='MTMount Measured EL Position')\n",
    "# MTMount Commanded EL from MTPtng\n",
    "p.line(x=(Time(commanded_el_ATPng.index.values)).value, \n",
    "       y=commanded_el_ATPng['elevation'], \n",
    "       color='green', alpha=0.7,\n",
    "       legend_label='MTPtng Commanded Target El')\n",
    "\n",
    "# EL Velocities\n",
    "p.extra_y_ranges = {'Velocity': Range1d(start=-0.1, end=0.1)}\n",
    "p.add_layout(LinearAxis(y_range_name='Velocity', axis_label='Velocity [deg/s]'), 'right')\n",
    "# Measured AZ velocity\n",
    "p.cross(x=(Time(measured_vel_az.index.values)).value, \n",
    "        y=measured_vel_el['actualVelocity'], \n",
    "        color='blue', alpha=0.5, y_range_name='Velocity', \n",
    "        legend_label='MTMount Measured El Velocity')\n",
    "\n",
    "# vs commanded AZ velocity\n",
    "p.line(x=(Time(commanded_vel_el_ATPng.index.values)).value, \n",
    "       y=commanded_vel_el_ATPng['elevationVelocity'], \n",
    "       color='orange', alpha=0.7, y_range_name='Velocity', \n",
    "       legend_label='MTPtng Commanded Target El Velocity')\n",
    "\n",
    "\n",
    "p.legend.location = 'top_left'\n",
    "p.legend.click_policy = 'hide'\n",
    "show(p)"
   ]
  },
  {
   "cell_type": "markdown",
   "metadata": {},
   "source": [
    "## Elevation Torque"
   ]
  },
  {
   "cell_type": "code",
   "execution_count": null,
   "metadata": {
    "tags": []
   },
   "outputs": [],
   "source": [
    "# Demanded and Measured Torques\n",
    "\n",
    "el_torque_measured = await client.select_time_series(\"lsst.sal.MTMount.elevation\", \n",
    "                                                     [\"actualTorque\", ], \n",
    "                                                     t1, t2)"
   ]
  },
  {
   "cell_type": "code",
   "execution_count": null,
   "metadata": {
    "tags": []
   },
   "outputs": [],
   "source": [
    "# Torque Plot\n",
    "\n",
    "yr_cen=np.median(measured_vel_el['actualVelocity'])\n",
    "dy=1.1*(np.max(measured_vel_el['actualVelocity'])- np.min(measured_vel_el['actualVelocity']))\n",
    "\n",
    "p = figure(x_axis_type='datetime', y_range=(yr_cen-dy, yr_cen+dy), plot_width=800, plot_height=400)\n",
    "p.yaxis.axis_label = \"Velocity [deg/s]\"\n",
    "p.xaxis.axis_label = \"Time\"\n",
    "p.title = \"EL Torque and Velocity vs Time \\n\"\n",
    "\n",
    "\n",
    "# EL velocity\n",
    "p.cross(x=(Time(measured_vel_el.index.values)).value, \n",
    "        y=measured_vel_el['actualVelocity'], \n",
    "        color='blue', alpha=0.5, \n",
    "        legend_label='MTMount Measured El Velocity')\n",
    "# p.cross(x=(Time(measured_vel_az.index.values)).value, \n",
    "#         y=measured_vel_az['demandVelocity'], \n",
    "#         color='pink', alpha=0.5, y_range_name='Velocity', \n",
    "#         legend_label='MTMount Demand Az Velocity')\n",
    "\n",
    "# vs commanded EL velocity\n",
    "p.line(x=(Time(commanded_vel_el_ATPng.index.values)).value, \n",
    "       y=commanded_vel_el_ATPng['elevationVelocity'], \n",
    "       color='orange', alpha=0.7, \n",
    "       legend_label='MTPtng Commanded Target el Velocity')\n",
    "\n",
    "\n",
    "# Measured EL Torques\n",
    "yr_cen=np.median(el_torque_measured['actualTorque'])\n",
    "dy=(np.max(el_torque_measured['actualTorque']) - np.min(el_torque_measured['actualTorque']))/2\n",
    "p.extra_y_ranges = {'Torque': Range1d(start=yr_cen-dy, end=yr_cen+dy)}\n",
    "p.add_layout(LinearAxis(y_range_name='Torque', axis_label='Torque [A]'), 'right')\n",
    "\n",
    "#p.line(x=(Time(az_motor1_torque_demand.index.values)).value, y=az_motor1_torque_demand['azimuthMotor1Torque'], color='orange', alpha=0.7, y_range_name='Torque', legend_label='ATMCS Commanded Motor 1 Torque')\n",
    "p.line(x=(Time(el_torque_measured.index.values)).value, \n",
    "       y=el_torque_measured['actualTorque'], \n",
    "       color='green', alpha=0.5, y_range_name='Torque', \n",
    "       legend_label='MTMount EL Measured Torque')\n",
    "\n",
    "p.legend.location = 'bottom_left'\n",
    "p.legend.click_policy = 'hide'\n",
    "show(p)"
   ]
  },
  {
   "cell_type": "markdown",
   "metadata": {},
   "source": [
    "## Acceleration and jerk "
   ]
  },
  {
   "cell_type": "code",
   "execution_count": null,
   "metadata": {
    "tags": []
   },
   "outputs": [],
   "source": [
    "# Measured Acceleration\n",
    "measured_acc_el = await client.select_time_series(\"lsst.sal.MTMount.elevation\", \n",
    "                                                  [\"actualAcceleration\"], \n",
    "                                                  t1, t2)\n"
   ]
  },
  {
   "cell_type": "code",
   "execution_count": null,
   "metadata": {
    "tags": []
   },
   "outputs": [],
   "source": [
    "# No jerk available in EFD  - Derivative\n",
    "acc_el = np.array(measured_acc_el.values.tolist())[:,0]\n",
    "times=(measured_acc_el.index - measured_acc_el.index[0]).total_seconds()\n",
    "acc_derivative = np.gradient(acc_el, times)\n",
    "calculated_jerk_el=pd.DataFrame({'times': measured_acc_el.index, 'jerk':acc_derivative})"
   ]
  },
  {
   "cell_type": "code",
   "execution_count": null,
   "metadata": {
    "tags": []
   },
   "outputs": [],
   "source": [
    "# Acceleration and Jerk Plot\n",
    "\n",
    "# yr_cen=np.median(measured_acc_az['actualAcceleration'])\n",
    "# dy=1.1*(np.max(measured_acc_az['actualAcceleration'])- np.min(measured_acc_az['actualAcceleration']))\n",
    "\n",
    "p = figure(x_axis_type='datetime', y_range=(yr_cen-dy, yr_cen+dy), plot_width=800, plot_height=400)\n",
    "p.yaxis.axis_label = \"Acceleration [deg/s\\u00b2]\"\n",
    "p.xaxis.axis_label = \"Time\"\n",
    "p.title = \"EL Acceleration and Jerk vs Time \\n\"\n",
    "\n",
    "# AZ acceleration\n",
    "# Velocity\n",
    "# p.cross(x=(Time(measured_vel_el.index.values)).value, \n",
    "#         y=measured_vel_el['actualVelocity'], \n",
    "#         color='red', alpha=0.5, \n",
    "#         legend_label='MTMount Measured EL Velocity')\n",
    "\n",
    "# Acceleration\n",
    "# vs actual acceleration\n",
    "p.cross(x=(Time(measured_acc_el.index.values)).value, \n",
    "       y=measured_acc_el['ActualAcceleration'], \n",
    "       color='blue', alpha=0.7, \n",
    "       legend_label='MTMount Measured EL Acceleration')\n",
    "\n",
    "\n",
    "# Calculated Jerk\n",
    "yr_cen=np.median(calculated_jerk_el['jerk'])\n",
    "dy=(np.max(calculated_jerk_el['jerk']) - np.min(calculated_jerk_el['jerk']))/2\n",
    "p.extra_y_ranges = {'Jerk': Range1d(start=yr_cen-dy, end=yr_cen+dy)}\n",
    "p.add_layout(LinearAxis(y_range_name='Jerk', axis_label='Jerk [deg/s\\u00b3]'), 'right')\n",
    "\n",
    "p.line(x=(Time(calculated_jerk_el['times'])).value, \n",
    "       y=calculated_jerk_el['jerk'], \n",
    "       color='green', alpha=0.5, y_range_name='Jerk', \n",
    "       legend_label='MTMount EL Jerk')\n",
    "\n",
    "p.legend.location = 'bottom_left'\n",
    "p.legend.click_policy = 'hide'\n",
    "show(p)"
   ]
  }
 ],
 "metadata": {
  "kernelspec": {
   "display_name": "LSST",
   "language": "python",
   "name": "lsst"
  },
  "language_info": {
   "codemirror_mode": {
    "name": "ipython",
    "version": 3
   },
   "file_extension": ".py",
   "mimetype": "text/x-python",
   "name": "python",
   "nbconvert_exporter": "python",
   "pygments_lexer": "ipython3",
   "version": "3.10.9"
  }
 },
 "nbformat": 4,
 "nbformat_minor": 4
}
