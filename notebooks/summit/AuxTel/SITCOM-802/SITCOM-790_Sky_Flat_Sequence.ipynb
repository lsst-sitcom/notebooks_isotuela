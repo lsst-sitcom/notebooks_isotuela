{
 "cells": [
  {
   "cell_type": "markdown",
   "id": "aae50e6f",
   "metadata": {},
   "source": [
    "# AuxTel - Sky Flats Sequence\n",
    "\n",
    "This notebook is a draft of procedures we can use during twilight to take Sky Flats using different filters as per SITCOM-790. \n",
    "https://jira.lsstcorp.org/browse/SITCOM-790https://jira.lsstcorp.org/browse/SITCOM-790\n",
    "\n",
    "It is meant to be executed between sunset and the time between the end of the civil and nautical twilights, that is, when the Sun's elevation is between 0 and 9 degrees below horizon. At 9 degrees below horizon, AuxTel should go on-sky to absorb zero-point offsets and perform the first WEP mirror alignment and focus of the night.\n",
    "\n",
    "This procedure requires that AuxTel is ready for on-sky in advance. \n",
    "\n",
    "Be prepared to run this notebook at the time of sunset to have enough time for the three available filters. \n",
    "\n",
    "After the setup is completed, we find an empty field in the opposite direction of the Sun, then we slew to this field, and take an image. This image will probably have saturation. We start a loop of taking images in the same position until we get an image that does not saturate. Also start with the bluest filter. \n",
    "\n",
    "Once the image is not saturated anymore, we take a sequence of images with small dithers and increasing exposure times. SITCOM-something like 12 flats per filter."
   ]
  },
  {
   "cell_type": "markdown",
   "id": "34e05910",
   "metadata": {},
   "source": [
    "## Setup"
   ]
  },
  {
   "cell_type": "code",
   "execution_count": 103,
   "id": "b075a005",
   "metadata": {
    "execution": {
     "iopub.execute_input": "2023-05-25T23:57:17.112756Z",
     "iopub.status.busy": "2023-05-25T23:57:17.112508Z",
     "iopub.status.idle": "2023-05-25T23:57:17.118030Z",
     "shell.execute_reply": "2023-05-25T23:57:17.117507Z",
     "shell.execute_reply.started": "2023-05-25T23:57:17.112739Z"
    },
    "tags": []
   },
   "outputs": [],
   "source": [
    "import asyncio\n",
    "import time\n",
    "import os\n",
    "import numpy as np\n",
    "import matplotlib.pyplot as plt\n",
    "import logging\n",
    "import time\n",
    "\n",
    "from astropy import coordinates\n",
    "from astropy.coordinates import SkyCoord, EarthLocation, AltAz\n",
    "from astropy import units as u\n",
    "from astropy.time import Time\n",
    "from astroquery.exceptions import NoResultsWarning\n",
    "from astroquery.vizier import Vizier\n",
    "from datetime import datetime\n",
    "from warnings import warn\n",
    "\n",
    "from lsst.ts import salobj\n",
    "\n",
    "from lsst.ts.observatory.control.auxtel.atcs import ATCS\n",
    "from lsst.ts.observatory.control.auxtel.latiss import LATISS\n",
    "from lsst.ts.observatory.control.utils import RotType\n",
    "\n",
    "from lsst.ts.observing.utilities.auxtel.latiss.getters import get_image\n",
    "from lsst.ts.observing.utilities.auxtel.latiss.utils import parse_visit_id\n",
    "\n",
    "# from lsst.ts.observing.utilities.auxtel.latiss.getters import get_image_sync as get_image\n",
    "\n",
    "from lsst.summit.utils import BestEffortIsr\n",
    "\n",
    "import lsst.daf.butler.cli.cliLog as cliLog\n",
    "import lsst.daf.butler as dafButler"
   ]
  },
  {
   "cell_type": "code",
   "execution_count": 53,
   "id": "aa94f109",
   "metadata": {
    "execution": {
     "iopub.execute_input": "2023-05-25T21:47:02.944907Z",
     "iopub.status.busy": "2023-05-25T21:47:02.944542Z",
     "iopub.status.idle": "2023-05-25T21:47:02.948238Z",
     "shell.execute_reply": "2023-05-25T21:47:02.947733Z",
     "shell.execute_reply.started": "2023-05-25T21:47:02.944890Z"
    },
    "tags": []
   },
   "outputs": [],
   "source": [
    "logger = logging.getLogger(f\"Sky Flats {Time.now()} UT\")\n",
    "logger.level = logging.INFO"
   ]
  },
  {
   "cell_type": "code",
   "execution_count": 54,
   "id": "84b698b1",
   "metadata": {
    "execution": {
     "iopub.execute_input": "2023-05-25T21:47:03.228637Z",
     "iopub.status.busy": "2023-05-25T21:47:03.228255Z",
     "iopub.status.idle": "2023-05-25T21:47:04.714462Z",
     "shell.execute_reply": "2023-05-25T21:47:04.713875Z",
     "shell.execute_reply.started": "2023-05-25T21:47:03.228620Z"
    },
    "tags": []
   },
   "outputs": [
    {
     "data": {
      "text/html": [
       "<pre style=\"margin: 0.1em;\n",
       "padding-left: 0.25em;\n",
       "border-left-style: solid;\n",
       "font-family: var(--jp-code-font-family);\n",
       "font-size: var(--jp-code-font-size);\n",
       "line-height: var(--jp-code-line-height);\n",
       "\"><span style=\"color: var(--jp-warn-color2)\">ATMCS</span> <span style=\"color: var(--jp-info-color0)\">INFO</span>: Disabling authlist-based command authorization</pre>"
      ],
      "text/plain": [
       "<IPython.core.display.HTML object>"
      ]
     },
     "metadata": {},
     "output_type": "display_data"
    },
    {
     "data": {
      "text/html": [
       "<pre style=\"margin: 0.1em;\n",
       "padding-left: 0.25em;\n",
       "border-left-style: solid;\n",
       "font-family: var(--jp-code-font-family);\n",
       "font-size: var(--jp-code-font-size);\n",
       "line-height: var(--jp-code-line-height);\n",
       "\"><span style=\"color: var(--jp-warn-color2)\">ATPtg</span> <span style=\"color: var(--jp-info-color0)\">INFO</span>: Disabling authlist-based command authorization</pre>"
      ],
      "text/plain": [
       "<IPython.core.display.HTML object>"
      ]
     },
     "metadata": {},
     "output_type": "display_data"
    },
    {
     "data": {
      "text/html": [
       "<pre style=\"margin: 0.1em;\n",
       "padding-left: 0.25em;\n",
       "border-left-style: solid;\n",
       "font-family: var(--jp-code-font-family);\n",
       "font-size: var(--jp-code-font-size);\n",
       "line-height: var(--jp-code-line-height);\n",
       "\"><span style=\"color: var(--jp-warn-color2)\">ATAOS</span> <span style=\"color: var(--jp-info-color0)\">INFO</span>: Disabling authlist-based command authorization</pre>"
      ],
      "text/plain": [
       "<IPython.core.display.HTML object>"
      ]
     },
     "metadata": {},
     "output_type": "display_data"
    },
    {
     "data": {
      "text/html": [
       "<pre style=\"margin: 0.1em;\n",
       "padding-left: 0.25em;\n",
       "border-left-style: solid;\n",
       "font-family: var(--jp-code-font-family);\n",
       "font-size: var(--jp-code-font-size);\n",
       "line-height: var(--jp-code-line-height);\n",
       "\"><span style=\"color: var(--jp-warn-color2)\">ATPneumatics</span> <span style=\"color: var(--jp-info-color0)\">INFO</span>: Disabling authlist-based command authorization</pre>"
      ],
      "text/plain": [
       "<IPython.core.display.HTML object>"
      ]
     },
     "metadata": {},
     "output_type": "display_data"
    },
    {
     "data": {
      "text/html": [
       "<pre style=\"margin: 0.1em;\n",
       "padding-left: 0.25em;\n",
       "border-left-style: solid;\n",
       "font-family: var(--jp-code-font-family);\n",
       "font-size: var(--jp-code-font-size);\n",
       "line-height: var(--jp-code-line-height);\n",
       "\"><span style=\"color: var(--jp-warn-color2)\">ATHexapod</span> <span style=\"color: var(--jp-info-color0)\">INFO</span>: Disabling authlist-based command authorization</pre>"
      ],
      "text/plain": [
       "<IPython.core.display.HTML object>"
      ]
     },
     "metadata": {},
     "output_type": "display_data"
    },
    {
     "data": {
      "text/html": [
       "<pre style=\"margin: 0.1em;\n",
       "padding-left: 0.25em;\n",
       "border-left-style: solid;\n",
       "font-family: var(--jp-code-font-family);\n",
       "font-size: var(--jp-code-font-size);\n",
       "line-height: var(--jp-code-line-height);\n",
       "\"><span style=\"color: var(--jp-warn-color2)\">ATDome</span> <span style=\"color: var(--jp-info-color0)\">INFO</span>: Disabling authlist-based command authorization</pre>"
      ],
      "text/plain": [
       "<IPython.core.display.HTML object>"
      ]
     },
     "metadata": {},
     "output_type": "display_data"
    },
    {
     "data": {
      "text/html": [
       "<pre style=\"margin: 0.1em;\n",
       "padding-left: 0.25em;\n",
       "border-left-style: solid;\n",
       "font-family: var(--jp-code-font-family);\n",
       "font-size: var(--jp-code-font-size);\n",
       "line-height: var(--jp-code-line-height);\n",
       "\"><span style=\"color: var(--jp-warn-color2)\">ATDomeTrajectory</span> <span style=\"color: var(--jp-info-color0)\">INFO</span>: Disabling authlist-based command authorization</pre>"
      ],
      "text/plain": [
       "<IPython.core.display.HTML object>"
      ]
     },
     "metadata": {},
     "output_type": "display_data"
    },
    {
     "data": {
      "text/html": [
       "<pre style=\"margin: 0.1em;\n",
       "padding-left: 0.25em;\n",
       "border-left-style: solid;\n",
       "font-family: var(--jp-code-font-family);\n",
       "font-size: var(--jp-code-font-size);\n",
       "line-height: var(--jp-code-line-height);\n",
       "\"><span style=\"color: var(--jp-warn-color2)\">ATCamera</span> <span style=\"color: var(--jp-info-color0)\">INFO</span>: Disabling authlist-based command authorization</pre>"
      ],
      "text/plain": [
       "<IPython.core.display.HTML object>"
      ]
     },
     "metadata": {},
     "output_type": "display_data"
    },
    {
     "data": {
      "text/html": [
       "<pre style=\"margin: 0.1em;\n",
       "padding-left: 0.25em;\n",
       "border-left-style: solid;\n",
       "font-family: var(--jp-code-font-family);\n",
       "font-size: var(--jp-code-font-size);\n",
       "line-height: var(--jp-code-line-height);\n",
       "\"><span style=\"color: var(--jp-warn-color2)\">ATSpectrograph</span> <span style=\"color: var(--jp-info-color0)\">INFO</span>: Disabling authlist-based command authorization</pre>"
      ],
      "text/plain": [
       "<IPython.core.display.HTML object>"
      ]
     },
     "metadata": {},
     "output_type": "display_data"
    },
    {
     "data": {
      "text/html": [
       "<pre style=\"margin: 0.1em;\n",
       "padding-left: 0.25em;\n",
       "border-left-style: solid;\n",
       "font-family: var(--jp-code-font-family);\n",
       "font-size: var(--jp-code-font-size);\n",
       "line-height: var(--jp-code-line-height);\n",
       "\"><span style=\"color: var(--jp-warn-color2)\">ATHeaderService</span> <span style=\"color: var(--jp-info-color0)\">INFO</span>: Disabling authlist-based command authorization</pre>"
      ],
      "text/plain": [
       "<IPython.core.display.HTML object>"
      ]
     },
     "metadata": {},
     "output_type": "display_data"
    },
    {
     "data": {
      "text/html": [
       "<pre style=\"margin: 0.1em;\n",
       "padding-left: 0.25em;\n",
       "border-left-style: solid;\n",
       "font-family: var(--jp-code-font-family);\n",
       "font-size: var(--jp-code-font-size);\n",
       "line-height: var(--jp-code-line-height);\n",
       "\"><span style=\"color: var(--jp-warn-color2)\">ATOODS</span> <span style=\"color: var(--jp-info-color0)\">INFO</span>: Disabling authlist-based command authorization</pre>"
      ],
      "text/plain": [
       "<IPython.core.display.HTML object>"
      ]
     },
     "metadata": {},
     "output_type": "display_data"
    },
    {
     "data": {
      "text/html": [
       "<pre style=\"margin: 0.1em;\n",
       "padding-left: 0.25em;\n",
       "border-left-style: solid;\n",
       "font-family: var(--jp-code-font-family);\n",
       "font-size: var(--jp-code-font-size);\n",
       "line-height: var(--jp-code-line-height);\n",
       "\"><span style=\"color: var(--jp-warn-color2)\">ATOODS</span> <span style=\"color: var(--jp-info-color0)\">INFO</span>: Read historical data in 0.01 sec</pre>"
      ],
      "text/plain": [
       "<IPython.core.display.HTML object>"
      ]
     },
     "metadata": {},
     "output_type": "display_data"
    },
    {
     "data": {
      "text/html": [
       "<pre style=\"margin: 0.1em;\n",
       "padding-left: 0.25em;\n",
       "border-left-style: solid;\n",
       "font-family: var(--jp-code-font-family);\n",
       "font-size: var(--jp-code-font-size);\n",
       "line-height: var(--jp-code-line-height);\n",
       "\"><span style=\"color: var(--jp-warn-color2)\">ATDomeTrajectory</span> <span style=\"color: var(--jp-info-color0)\">INFO</span>: Read historical data in 0.03 sec</pre>"
      ],
      "text/plain": [
       "<IPython.core.display.HTML object>"
      ]
     },
     "metadata": {},
     "output_type": "display_data"
    },
    {
     "data": {
      "text/html": [
       "<pre style=\"margin: 0.1em;\n",
       "padding-left: 0.25em;\n",
       "border-left-style: solid;\n",
       "font-family: var(--jp-code-font-family);\n",
       "font-size: var(--jp-code-font-size);\n",
       "line-height: var(--jp-code-line-height);\n",
       "\"><span style=\"color: var(--jp-warn-color2)\">ATHeaderService</span> <span style=\"color: var(--jp-info-color0)\">INFO</span>: Read historical data in 0.04 sec</pre>"
      ],
      "text/plain": [
       "<IPython.core.display.HTML object>"
      ]
     },
     "metadata": {},
     "output_type": "display_data"
    },
    {
     "data": {
      "text/html": [
       "<pre style=\"margin: 0.1em;\n",
       "padding-left: 0.25em;\n",
       "border-left-style: solid;\n",
       "font-family: var(--jp-code-font-family);\n",
       "font-size: var(--jp-code-font-size);\n",
       "line-height: var(--jp-code-line-height);\n",
       "\"><span style=\"color: var(--jp-warn-color2)\">ATAOS</span> <span style=\"color: var(--jp-info-color0)\">INFO</span>: Read historical data in 0.05 sec</pre>"
      ],
      "text/plain": [
       "<IPython.core.display.HTML object>"
      ]
     },
     "metadata": {},
     "output_type": "display_data"
    },
    {
     "data": {
      "text/html": [
       "<pre style=\"margin: 0.1em;\n",
       "padding-left: 0.25em;\n",
       "border-left-style: solid;\n",
       "font-family: var(--jp-code-font-family);\n",
       "font-size: var(--jp-code-font-size);\n",
       "line-height: var(--jp-code-line-height);\n",
       "\"><span style=\"color: var(--jp-warn-color2)\">ATHexapod</span> <span style=\"color: var(--jp-info-color0)\">INFO</span>: Read historical data in 0.07 sec</pre>"
      ],
      "text/plain": [
       "<IPython.core.display.HTML object>"
      ]
     },
     "metadata": {},
     "output_type": "display_data"
    },
    {
     "data": {
      "text/html": [
       "<pre style=\"margin: 0.1em;\n",
       "padding-left: 0.25em;\n",
       "border-left-style: solid;\n",
       "font-family: var(--jp-code-font-family);\n",
       "font-size: var(--jp-code-font-size);\n",
       "line-height: var(--jp-code-line-height);\n",
       "\"><span style=\"color: var(--jp-warn-color2)\">ATPneumatics</span> <span style=\"color: var(--jp-info-color0)\">INFO</span>: Read historical data in 0.08 sec</pre>"
      ],
      "text/plain": [
       "<IPython.core.display.HTML object>"
      ]
     },
     "metadata": {},
     "output_type": "display_data"
    },
    {
     "data": {
      "text/html": [
       "<pre style=\"margin: 0.1em;\n",
       "padding-left: 0.25em;\n",
       "border-left-style: solid;\n",
       "font-family: var(--jp-code-font-family);\n",
       "font-size: var(--jp-code-font-size);\n",
       "line-height: var(--jp-code-line-height);\n",
       "\"><span style=\"color: var(--jp-warn-color2)\">ATPtg</span> <span style=\"color: var(--jp-info-color0)\">INFO</span>: Read historical data in 0.09 sec</pre>"
      ],
      "text/plain": [
       "<IPython.core.display.HTML object>"
      ]
     },
     "metadata": {},
     "output_type": "display_data"
    },
    {
     "data": {
      "text/html": [
       "<pre style=\"margin: 0.1em;\n",
       "padding-left: 0.25em;\n",
       "border-left-style: solid;\n",
       "font-family: var(--jp-code-font-family);\n",
       "font-size: var(--jp-code-font-size);\n",
       "line-height: var(--jp-code-line-height);\n",
       "\"><span style=\"color: var(--jp-warn-color2)\">ATMCS</span> <span style=\"color: var(--jp-info-color0)\">INFO</span>: Read historical data in 0.11 sec</pre>"
      ],
      "text/plain": [
       "<IPython.core.display.HTML object>"
      ]
     },
     "metadata": {},
     "output_type": "display_data"
    },
    {
     "data": {
      "text/html": [
       "<pre style=\"margin: 0.1em;\n",
       "padding-left: 0.25em;\n",
       "border-left-style: solid;\n",
       "font-family: var(--jp-code-font-family);\n",
       "font-size: var(--jp-code-font-size);\n",
       "line-height: var(--jp-code-line-height);\n",
       "\"><span style=\"color: var(--jp-warn-color2)\">ATSpectrograph</span> <span style=\"color: var(--jp-info-color0)\">INFO</span>: Read historical data in 0.12 sec</pre>"
      ],
      "text/plain": [
       "<IPython.core.display.HTML object>"
      ]
     },
     "metadata": {},
     "output_type": "display_data"
    },
    {
     "data": {
      "text/html": [
       "<pre style=\"margin: 0.1em;\n",
       "padding-left: 0.25em;\n",
       "border-left-style: solid;\n",
       "font-family: var(--jp-code-font-family);\n",
       "font-size: var(--jp-code-font-size);\n",
       "line-height: var(--jp-code-line-height);\n",
       "\"><span style=\"color: var(--jp-warn-color2)\">ATDome</span> <span style=\"color: var(--jp-info-color0)\">INFO</span>: Read historical data in 0.14 sec</pre>"
      ],
      "text/plain": [
       "<IPython.core.display.HTML object>"
      ]
     },
     "metadata": {},
     "output_type": "display_data"
    },
    {
     "data": {
      "text/html": [
       "<pre style=\"margin: 0.1em;\n",
       "padding-left: 0.25em;\n",
       "border-left-style: solid;\n",
       "font-family: var(--jp-code-font-family);\n",
       "font-size: var(--jp-code-font-size);\n",
       "line-height: var(--jp-code-line-height);\n",
       "\"><span style=\"color: var(--jp-warn-color2)\">ATCamera</span> <span style=\"color: var(--jp-info-color0)\">INFO</span>: Read historical data in 0.16 sec</pre>"
      ],
      "text/plain": [
       "<IPython.core.display.HTML object>"
      ]
     },
     "metadata": {},
     "output_type": "display_data"
    },
    {
     "data": {
      "text/plain": [
       "[[None, None, None, None, None, None, None], [None, None, None, None]]"
      ]
     },
     "execution_count": 54,
     "metadata": {},
     "output_type": "execute_result"
    }
   ],
   "source": [
    "# Instantiate the control classes\n",
    "domain = salobj.Domain()\n",
    "atcs = ATCS(domain)\n",
    "atcs.set_rem_loglevel(logging.INFO)\n",
    "latiss = LATISS(domain)\n",
    "latiss.set_rem_loglevel(logging.INFO)\n",
    "await asyncio.gather(atcs.start_task, latiss.start_task)"
   ]
  },
  {
   "cell_type": "code",
   "execution_count": 95,
   "id": "2c2a49ce",
   "metadata": {
    "execution": {
     "iopub.execute_input": "2023-05-25T23:54:47.324428Z",
     "iopub.status.busy": "2023-05-25T23:54:47.324029Z",
     "iopub.status.idle": "2023-05-25T23:54:47.329348Z",
     "shell.execute_reply": "2023-05-25T23:54:47.328852Z",
     "shell.execute_reply.started": "2023-05-25T23:54:47.324410Z"
    },
    "tags": []
   },
   "outputs": [
    {
     "data": {
      "text/html": [
       "<pre style=\"margin: 0.1em;\n",
       "padding-left: 0.25em;\n",
       "border-left-style: solid;\n",
       "font-family: var(--jp-code-font-family);\n",
       "font-size: var(--jp-code-font-size);\n",
       "line-height: var(--jp-code-line-height);\n",
       "\"><span style=\"color: var(--jp-warn-color2)\">Sky Flats 2023-05-25 21:47:02.945729 UT</span> <span style=\"color: var(--jp-info-color0)\">INFO</span>: LATISS filters are: [&#x27;empty_1&#x27;, &#x27;SDSSg_65mm&#x27;, &#x27;SDSSr_65mm&#x27;, &#x27;SDSSi_65mm&#x27;]</pre>"
      ],
      "text/plain": [
       "<IPython.core.display.HTML object>"
      ]
     },
     "metadata": {},
     "output_type": "display_data"
    },
    {
     "data": {
      "text/html": [
       "<pre style=\"margin: 0.1em;\n",
       "padding-left: 0.25em;\n",
       "border-left-style: solid;\n",
       "font-family: var(--jp-code-font-family);\n",
       "font-size: var(--jp-code-font-size);\n",
       "line-height: var(--jp-code-line-height);\n",
       "\"><span style=\"color: var(--jp-warn-color2)\">Sky Flats 2023-05-25 21:47:02.945729 UT</span> <span style=\"color: var(--jp-info-color0)\">INFO</span>: LATISS gratings are: [&#x27;empty_1&#x27;, &#x27;blue300lpmm_qn1&#x27;, &#x27;ronchi170lpmm&#x27;, &#x27;holo4_003&#x27;]</pre>"
      ],
      "text/plain": [
       "<IPython.core.display.HTML object>"
      ]
     },
     "metadata": {},
     "output_type": "display_data"
    }
   ],
   "source": [
    "inst_setup = await latiss.get_available_instrument_setup()\n",
    "logger.info(f'LATISS filters are: {inst_setup[0]}')\n",
    "logger.info(f'LATISS gratings are: {inst_setup[1]}')"
   ]
  },
  {
   "cell_type": "code",
   "execution_count": 56,
   "id": "9ac157d2",
   "metadata": {
    "execution": {
     "iopub.execute_input": "2023-05-25T21:47:07.503506Z",
     "iopub.status.busy": "2023-05-25T21:47:07.503146Z",
     "iopub.status.idle": "2023-05-25T21:47:08.943178Z",
     "shell.execute_reply": "2023-05-25T21:47:08.942543Z",
     "shell.execute_reply.started": "2023-05-25T21:47:07.503488Z"
    },
    "tags": []
   },
   "outputs": [
    {
     "data": {
      "text/html": [
       "<pre style=\"margin: 0.1em;\n",
       "padding-left: 0.25em;\n",
       "border-left-style: solid;\n",
       "font-family: var(--jp-code-font-family);\n",
       "font-size: var(--jp-code-font-size);\n",
       "line-height: var(--jp-code-line-height);\n",
       "\"><span style=\"color: var(--jp-warn-color2)\">lsst.summit.utils.bestEffort</span> <span style=\"color: var(--jp-info-color0)\">INFO</span>: Instantiating butler with collections=[&#x27;LATISS/raw/all&#x27;, &#x27;LATISS/calib&#x27;, &#x27;LATISS/runs/quickLook&#x27;, &#x27;LATISS-test-data&#x27;, &#x27;LATISS-test-data&#x27;, &#x27;LATISS-test-data&#x27;]</pre>"
      ],
      "text/plain": [
       "<IPython.core.display.HTML object>"
      ]
     },
     "metadata": {},
     "output_type": "display_data"
    }
   ],
   "source": [
    "repo = '/repo/LATISS/'\n",
    "collection = 'LATISS/raw/all'\n",
    "\n",
    "# butler = dafButler.Butler(repo, collections=collection)\n",
    "best_effort_isr = BestEffortIsr()"
   ]
  },
  {
   "cell_type": "markdown",
   "id": "55154dbc-a743-436b-8c36-3dbce24642c3",
   "metadata": {},
   "source": [
    "## Helper functions "
   ]
  },
  {
   "cell_type": "code",
   "execution_count": 57,
   "id": "969f7f92-171b-40a2-b04b-486eb2744131",
   "metadata": {
    "execution": {
     "iopub.execute_input": "2023-05-25T21:47:09.090218Z",
     "iopub.status.busy": "2023-05-25T21:47:09.089936Z",
     "iopub.status.idle": "2023-05-25T21:47:09.093998Z",
     "shell.execute_reply": "2023-05-25T21:47:09.093346Z",
     "shell.execute_reply.started": "2023-05-25T21:47:09.090201Z"
    },
    "tags": []
   },
   "outputs": [],
   "source": [
    "def get_target_radec(distance_from_sun=180, target_el=45, time=None):   \n",
    "    \"\"\"\n",
    "    Returns the RADEC of the target area of the sky that's an azimuth `distance_from_sun` away from the Sun, given `elevation`,\n",
    "    and at a given `time`.\n",
    "    \n",
    "    Parameters\n",
    "    ----------\n",
    "    distance_from_sun : float, (-180, 180)\n",
    "        The distance from the Sun in degrees. Positive angles go towards the \n",
    "        North.\n",
    "    elevation : float\n",
    "        Target elevation for Sky Flats.\n",
    "    time : datetime\n",
    "        The time for the calculation in UTC.\n",
    "    \"\"\"\n",
    "    \n",
    "    az_sun, el_sun = atcs.get_sun_azel()\n",
    "    \n",
    "    target_az = (az_sun + distance_from_sun) % 360\n",
    "    \n",
    "    target_radec = atcs.radec_from_azel(target_az, target_el)\n",
    "    \n",
    "    return target_radec"
   ]
  },
  {
   "cell_type": "code",
   "execution_count": 58,
   "id": "528f5372",
   "metadata": {
    "execution": {
     "iopub.execute_input": "2023-05-25T21:47:09.568546Z",
     "iopub.status.busy": "2023-05-25T21:47:09.568221Z",
     "iopub.status.idle": "2023-05-25T21:47:09.573231Z",
     "shell.execute_reply": "2023-05-25T21:47:09.572583Z",
     "shell.execute_reply.started": "2023-05-25T21:47:09.568527Z"
    },
    "tags": []
   },
   "outputs": [],
   "source": [
    "def get_empty_field(target, radius=5):\n",
    "    \"\"\"\n",
    "    Query the \"Deep blank field catalogue : J/MNRAS/427/679\" in Vizier.\n",
    "    \n",
    "    Parameters\n",
    "    ----------\n",
    "    target : astropy.coordinates.SkyCoord\n",
    "        Sky coordinates near the field\n",
    "    radius : float\n",
    "        Search radius in degrees.\n",
    "    \n",
    "    Reference\n",
    "    ---------\n",
    "    http://cdsarc.u-strasbg.fr/viz-bin/Cat?J/MNRAS/427/679\n",
    "    \"\"\"\n",
    "    _table = Vizier.query_region(\n",
    "        catalog='J/MNRAS/427/679/blank_fld', \n",
    "        coordinates=target, \n",
    "        radius=radius*u.deg)\n",
    "\n",
    "    if len(_table) == 0:\n",
    "        warn(f\"Could not find a field near {target} \"\n",
    "              f\"within {radius} deg radius\", category=NoResultsWarning)\n",
    "        return None\n",
    "\n",
    "    _table = _table[\"J/MNRAS/427/679/blank_fld\"]\n",
    "    \n",
    "    coords = coordinates.SkyCoord(\n",
    "        ra=_table[\"RAJ2000\"], \n",
    "        dec=_table[\"DEJ2000\"], \n",
    "        unit=(u.hourangle, u.deg), \n",
    "        frame=coordinates.ICRS)\n",
    "    \n",
    "    arg = target.separation(coords).argmin()\n",
    "    \n",
    "    return coords[arg]"
   ]
  },
  {
   "cell_type": "code",
   "execution_count": 83,
   "id": "4a75222b-ef15-48cd-9ed0-66f9becff498",
   "metadata": {
    "execution": {
     "iopub.execute_input": "2023-05-25T22:05:03.228662Z",
     "iopub.status.busy": "2023-05-25T22:05:03.228269Z",
     "iopub.status.idle": "2023-05-25T22:05:03.233225Z",
     "shell.execute_reply": "2023-05-25T22:05:03.232692Z",
     "shell.execute_reply.started": "2023-05-25T22:05:03.228644Z"
    },
    "tags": []
   },
   "outputs": [],
   "source": [
    "async def take_triplets_with_fixed_dither(time, filt, offset):\n",
    "    # await atcs.offset_xy(x=0, y=0)\n",
    "    \n",
    "    first_flat = await latiss.take_flats(\n",
    "        exptime=time, nflats=1, filter=filt, grating='empty_1', reason=\"Sky_Flat\", program=\"SITCOM-790\")\n",
    "    \n",
    "    await atcs.offset_xy(x=offset, y=0)\n",
    "    \n",
    "    second_flat = await latiss.take_flats(\n",
    "        exptime=time, nflats=1, filter=filt, grating='empty_1', reason=\"Sky_Flat\", program=\"SITCOM-790\")\n",
    "    \n",
    "    await atcs.offset_xy(x=0, y=offset)\n",
    "    \n",
    "    sky_counts = await latiss.take_flats(\n",
    "        exptime=time, nflats=1, filter=filt, grating='empty_1', reason=\"Sky_Flat\", program=\"SITCOM-790\")\n",
    "    \n",
    "    await atcs.reset_offsets()\n",
    "    \n",
    "    logger.info(f\"Sky flats triplets with {time} seconds exposure time and filter {filt} are {first_flat}, {second_flat} and {sky_counts}\")\n",
    "    "
   ]
  },
  {
   "cell_type": "code",
   "execution_count": 88,
   "id": "a9d9ba0e-2d8b-442a-a316-46236905d6ea",
   "metadata": {
    "execution": {
     "iopub.execute_input": "2023-05-25T22:41:27.841854Z",
     "iopub.status.busy": "2023-05-25T22:41:27.841491Z",
     "iopub.status.idle": "2023-05-25T22:41:27.846557Z",
     "shell.execute_reply": "2023-05-25T22:41:27.845981Z",
     "shell.execute_reply.started": "2023-05-25T22:41:27.841836Z"
    },
    "tags": []
   },
   "outputs": [],
   "source": [
    "STD_TIMEOUT = 10  # seconds\n",
    "\n",
    "async def verify_counts(exposure, timeout=STD_TIMEOUT, loop_time=1):\n",
    "    \"\"\"\n",
    "    Retrieve image from butler repository.\n",
    "    If not present, then it will poll at intervals of loop_time (0.1s default)\n",
    "    until the image arrives, or until the timeout is reached.\n",
    "\n",
    "    Parameters\n",
    "    ----------\n",
    "    exp: `float`\n",
    "        exposure number, as 2023041500020 \n",
    "    \n",
    "    loop_time: `float`\n",
    "        Time between polling attempts. Defaults to 0.1s\n",
    "    timeout: `float`\n",
    "        Total time to poll for image before raising an exception\n",
    "\n",
    "    Returns\n",
    "    -------\n",
    "\n",
    "    median: `float`\n",
    "        Exposure counts median across the detector\n",
    "    \"\"\"\n",
    "    \n",
    "    dataId = {'detector': 0, 'exposure': exposure}\n",
    "\n",
    "    exp = await get_image(dataId, best_effort_isr, timeout = STD_TIMEOUT)\n",
    "    \n",
    "    # Measure median, mean and std across the image. \n",
    "    foo = exp.getMaskedImage()\n",
    "    masked_array = np.ma.masked_array(foo.image.array, mask=foo.mask.array)\n",
    "\n",
    "    median = np.ma.median(masked_array)\n",
    "\n",
    "    logger.info(f\"Exposure ID: {exposure}\")\n",
    "    logger.info(f\"    Median: {np.ma.median(masked_array)}\")\n",
    "    logger.info(f\"    Mean: {np.ma.mean(masked_array)}\")\n",
    "    logger.info(f\"    Std: {np.ma.std(masked_array)}\")\n",
    "\n",
    "    return median   "
   ]
  },
  {
   "cell_type": "code",
   "execution_count": 107,
   "id": "929fcfea-4553-40dd-9d29-b2bfe6e53002",
   "metadata": {
    "execution": {
     "iopub.execute_input": "2023-05-25T23:59:16.860697Z",
     "iopub.status.busy": "2023-05-25T23:59:16.860307Z",
     "iopub.status.idle": "2023-05-25T23:59:16.865141Z",
     "shell.execute_reply": "2023-05-25T23:59:16.864737Z",
     "shell.execute_reply.started": "2023-05-25T23:59:16.860678Z"
    },
    "tags": []
   },
   "outputs": [],
   "source": [
    "STD_TIMEOUT = 10  # seconds\n",
    "\n",
    "async def verify_counts(exposure, timeout=STD_TIMEOUT, loop_time=1):\n",
    "    \"\"\"\n",
    "    Retrieve image from butler repository.\n",
    "    If not present, then it will poll at intervals of loop_time (0.1s default)\n",
    "    until the image arrives, or until the timeout is reached.\n",
    "\n",
    "    Parameters\n",
    "    ----------\n",
    "    exp: `float`\n",
    "        exposure number, as 2023041500020 \n",
    "    \n",
    "    loop_time: `float`\n",
    "        Time between polling attempts. Defaults to 0.1s\n",
    "    timeout: `float`\n",
    "        Total time to poll for image before raising an exception\n",
    "\n",
    "    Returns\n",
    "    -------\n",
    "\n",
    "    median: `float`\n",
    "        Exposure counts median across the detector\n",
    "    \"\"\"\n",
    "    \n",
    "    dataId = parse_visit_id(exposure)\n",
    "\n",
    "    exp = await get_image(dataId, best_effort_isr, timeout = STD_TIMEOUT, loop_time = 1.5)\n",
    "    \n",
    "    # Measure median, mean and std across the image. \n",
    "    foo = exp.getMaskedImage()\n",
    "    masked_array = np.ma.masked_array(foo.image.array, mask=foo.mask.array)\n",
    "\n",
    "    median = np.ma.median(masked_array)\n",
    "\n",
    "    logger.info(f\"Exposure ID: {exposure}\")\n",
    "    logger.info(f\"    Median: {np.ma.median(masked_array)}\")\n",
    "    logger.info(f\"    Mean: {np.ma.mean(masked_array)}\")\n",
    "    logger.info(f\"    Std: {np.ma.std(masked_array)}\")\n",
    "\n",
    "    return median   "
   ]
  },
  {
   "cell_type": "markdown",
   "id": "1e62ee84-0e76-42ea-85ed-57a90899082a",
   "metadata": {},
   "source": [
    "## Confirm Sun's elevation is fine to start taking Sky Flats. \n",
    "\n",
    "Check if we can start taking sky flats, that, if the Sun's elevation is between 0 and 9 degrees below the horizon."
   ]
  },
  {
   "cell_type": "code",
   "execution_count": 64,
   "id": "bb777ff6-7f5e-4cd7-8afb-564bbe87140a",
   "metadata": {
    "execution": {
     "iopub.execute_input": "2023-05-25T21:51:32.382319Z",
     "iopub.status.busy": "2023-05-25T21:51:32.382029Z",
     "iopub.status.idle": "2023-05-25T21:51:32.426362Z",
     "shell.execute_reply": "2023-05-25T21:51:32.425756Z",
     "shell.execute_reply.started": "2023-05-25T21:51:32.382294Z"
    },
    "tags": []
   },
   "outputs": [
    {
     "name": "stdout",
     "output_type": "stream",
     "text": [
      " The azimuth of the setting Sun is 294.12 deg \n",
      " The elevation of the Sun is -0.67 deg\n"
     ]
    }
   ],
   "source": [
    "sun_coordinates = atcs.get_sun_azel()\n",
    "\n",
    "where_sun = \"setting\" if (sun_coordinates[0] > 180) else \"rising\"\n",
    "\n",
    "# Print results\n",
    "print(f\" The azimuth of the {where_sun} Sun is {sun_coordinates[0]:.2f} deg \\n\"\n",
    "      f\" The elevation of the Sun is {sun_coordinates[1]:.2f} deg\")"
   ]
  },
  {
   "cell_type": "markdown",
   "id": "14d0a4d6-0d72-4f1b-aec6-d8560b0924f0",
   "metadata": {},
   "source": [
    "Only proceed with the next steps if the elevation of the Sun is between 0 and 3 degrees below the horizon, either rising or setting. "
   ]
  },
  {
   "cell_type": "markdown",
   "id": "3910404b",
   "metadata": {},
   "source": [
    "## Find Field\n",
    "\n",
    "Find a field with not many stars oppposite the Sun. "
   ]
  },
  {
   "cell_type": "code",
   "execution_count": 62,
   "id": "db7005e7",
   "metadata": {
    "execution": {
     "iopub.execute_input": "2023-05-25T21:47:20.977696Z",
     "iopub.status.busy": "2023-05-25T21:47:20.977307Z",
     "iopub.status.idle": "2023-05-25T21:47:23.434878Z",
     "shell.execute_reply": "2023-05-25T21:47:23.434336Z",
     "shell.execute_reply.started": "2023-05-25T21:47:20.977675Z"
    },
    "tags": []
   },
   "outputs": [
    {
     "data": {
      "text/html": [
       "<pre style=\"margin: 0.1em;\n",
       "padding-left: 0.25em;\n",
       "border-left-style: solid;\n",
       "font-family: var(--jp-code-font-family);\n",
       "font-size: var(--jp-code-font-size);\n",
       "line-height: var(--jp-code-line-height);\n",
       "\"><span style=\"color: var(--jp-warn-color2)\">Sky Flats 2023-05-25 21:47:02.945729 UT</span> <span style=\"color: var(--jp-info-color0)\">INFO</span>: ICRS Empty field coordinates:\n",
       "  RA  = 13:07:21.12 ; DEC = -30:04:26.8</pre>"
      ],
      "text/plain": [
       "<IPython.core.display.HTML object>"
      ]
     },
     "metadata": {},
     "output_type": "display_data"
    }
   ],
   "source": [
    "target = get_target_radec()\n",
    "search_area_degrees = 10\n",
    "try: \n",
    "    empty_field_coords = get_empty_field(target, radius=search_area_degrees)\n",
    "    logger.info(f\"ICRS Empty field coordinates:\\n\"\n",
    "                f\"  RA  = {empty_field_coords.ra.to_string(u.hour, sep=':')} ;\"\n",
    "                f\" DEC = {empty_field_coords.dec.to_string(u.degree, alwayssign=True, sep=':')}\")\n",
    "except:\n",
    "    logger.info(\"No empty field was found in the catalog near your target area. \\n\"\n",
    "                \"Try increasing the search area in the variable search_area_degrees\")"
   ]
  },
  {
   "cell_type": "markdown",
   "id": "e8014c0c",
   "metadata": {},
   "source": [
    "## Slew to Field\n",
    "\n",
    "Now that we have our field, let's point the telescope and the dome to that direction."
   ]
  },
  {
   "cell_type": "code",
   "execution_count": 63,
   "id": "bbacd1dd-c70b-4cd6-9af6-f10bb76ac20b",
   "metadata": {
    "execution": {
     "iopub.execute_input": "2023-05-25T21:47:26.293434Z",
     "iopub.status.busy": "2023-05-25T21:47:26.293067Z",
     "iopub.status.idle": "2023-05-25T21:47:26.303073Z",
     "shell.execute_reply": "2023-05-25T21:47:26.302575Z",
     "shell.execute_reply.started": "2023-05-25T21:47:26.293415Z"
    },
    "tags": []
   },
   "outputs": [
    {
     "data": {
      "text/html": [
       "<pre style=\"margin: 0.1em;\n",
       "padding-left: 0.25em;\n",
       "border-left-style: solid;\n",
       "font-family: var(--jp-code-font-family);\n",
       "font-size: var(--jp-code-font-size);\n",
       "line-height: var(--jp-code-line-height);\n",
       "\"><span style=\"color: var(--jp-warn-color2)\">Sky Flats 2023-05-25 21:47:02.945729 UT</span> <span style=\"color: var(--jp-info-color0)\">INFO</span>: The telescope will be pointed to the empty field AzAlt coordinates:\n",
       " AZ = 105.49 deg deg ; EL = 40.61 deg deg</pre>"
      ],
      "text/plain": [
       "<IPython.core.display.HTML object>"
      ]
     },
     "metadata": {},
     "output_type": "display_data"
    }
   ],
   "source": [
    "empty_field_coords_azel = atcs.azel_from_radec(empty_field_coords.ra, empty_field_coords.dec)\n",
    "logger.info(f\"The telescope will be pointed to the empty field AzAlt coordinates:\\n\"\n",
    "            f\" AZ = {empty_field_coords_azel.az:.2f} deg ;\"\n",
    "            f\" EL = {empty_field_coords_azel.alt:.2f} deg\")"
   ]
  },
  {
   "cell_type": "code",
   "execution_count": 65,
   "id": "1ddb3e58",
   "metadata": {
    "execution": {
     "iopub.execute_input": "2023-05-25T21:51:37.358113Z",
     "iopub.status.busy": "2023-05-25T21:51:37.357779Z",
     "iopub.status.idle": "2023-05-25T21:53:14.662317Z",
     "shell.execute_reply": "2023-05-25T21:53:14.661889Z",
     "shell.execute_reply.started": "2023-05-25T21:51:37.358095Z"
    },
    "tags": []
   },
   "outputs": [
    {
     "data": {
      "text/html": [
       "<pre style=\"margin: 0.1em;\n",
       "padding-left: 0.25em;\n",
       "border-left-style: solid;\n",
       "font-family: var(--jp-code-font-family);\n",
       "font-size: var(--jp-code-font-size);\n",
       "line-height: var(--jp-code-line-height);\n",
       "\"><span style=\"color: var(--jp-warn-color2)\">ATCS</span> <span style=\"color: var(--jp-info-color0)\">INFO</span>: [Tel]: Az = +090.004[ +15.1]; El = +079.852[ -38.3] [Nas1]: -000.000[  +0.0] [Nas2]: +001.285[+145.4] [Dome] Az = +090.850[ +14.3]</pre>"
      ],
      "text/plain": [
       "<IPython.core.display.HTML object>"
      ]
     },
     "metadata": {},
     "output_type": "display_data"
    },
    {
     "data": {
      "text/html": [
       "<pre style=\"margin: 0.1em;\n",
       "padding-left: 0.25em;\n",
       "border-left-style: solid;\n",
       "font-family: var(--jp-code-font-family);\n",
       "font-size: var(--jp-code-font-size);\n",
       "line-height: var(--jp-code-line-height);\n",
       "\"><span style=\"color: var(--jp-warn-color2)\">ATCS</span> <span style=\"color: var(--jp-info-color0)\">INFO</span>: [Tel]: Az = +091.769[ +13.4]; El = +074.844[ -33.3] [Nas1]: -000.000[  +0.0] [Nas2]: +007.216[+139.5] [Dome] Az = +093.250[ +11.9]</pre>"
      ],
      "text/plain": [
       "<IPython.core.display.HTML object>"
      ]
     },
     "metadata": {},
     "output_type": "display_data"
    },
    {
     "data": {
      "text/html": [
       "<pre style=\"margin: 0.1em;\n",
       "padding-left: 0.25em;\n",
       "border-left-style: solid;\n",
       "font-family: var(--jp-code-font-family);\n",
       "font-size: var(--jp-code-font-size);\n",
       "line-height: var(--jp-code-line-height);\n",
       "\"><span style=\"color: var(--jp-warn-color2)\">ATCS</span> <span style=\"color: var(--jp-info-color0)\">INFO</span>: [Tel]: Az = +096.823[  +8.3]; El = +068.841[ -27.3] [Nas1]: +000.000[  -0.0] [Nas2]: +013.217[+133.5] [Dome] Az = +097.710[  +7.4]</pre>"
      ],
      "text/plain": [
       "<IPython.core.display.HTML object>"
      ]
     },
     "metadata": {},
     "output_type": "display_data"
    },
    {
     "data": {
      "text/html": [
       "<pre style=\"margin: 0.1em;\n",
       "padding-left: 0.25em;\n",
       "border-left-style: solid;\n",
       "font-family: var(--jp-code-font-family);\n",
       "font-size: var(--jp-code-font-size);\n",
       "line-height: var(--jp-code-line-height);\n",
       "\"><span style=\"color: var(--jp-warn-color2)\">ATCS</span> <span style=\"color: var(--jp-info-color0)\">INFO</span>: [Tel]: Az = +102.355[  +2.8]; El = +062.889[ -21.3] [Nas1]: +000.000[  -0.0] [Nas2]: +019.218[+127.5] [Dome] Az = +101.680[  +3.5]</pre>"
      ],
      "text/plain": [
       "<IPython.core.display.HTML object>"
      ]
     },
     "metadata": {},
     "output_type": "display_data"
    },
    {
     "data": {
      "text/html": [
       "<pre style=\"margin: 0.1em;\n",
       "padding-left: 0.25em;\n",
       "border-left-style: solid;\n",
       "font-family: var(--jp-code-font-family);\n",
       "font-size: var(--jp-code-font-size);\n",
       "line-height: var(--jp-code-line-height);\n",
       "\"><span style=\"color: var(--jp-warn-color2)\">ATCS</span> <span style=\"color: var(--jp-info-color0)\">INFO</span>: ATDome in position.</pre>"
      ],
      "text/plain": [
       "<IPython.core.display.HTML object>"
      ]
     },
     "metadata": {},
     "output_type": "display_data"
    },
    {
     "data": {
      "text/html": [
       "<pre style=\"margin: 0.1em;\n",
       "padding-left: 0.25em;\n",
       "border-left-style: solid;\n",
       "font-family: var(--jp-code-font-family);\n",
       "font-size: var(--jp-code-font-size);\n",
       "line-height: var(--jp-code-line-height);\n",
       "\"><span style=\"color: var(--jp-warn-color2)\">ATCS</span> <span style=\"color: var(--jp-info-color0)\">INFO</span>: [Tel]: Az = +104.978[  +0.1]; El = +057.194[ -15.6] [Nas1]: -000.000[  +0.0] [Nas2]: +025.214[+121.5] [Dome] Az = +103.050[  +2.1]</pre>"
      ],
      "text/plain": [
       "<IPython.core.display.HTML object>"
      ]
     },
     "metadata": {},
     "output_type": "display_data"
    },
    {
     "data": {
      "text/html": [
       "<pre style=\"margin: 0.1em;\n",
       "padding-left: 0.25em;\n",
       "border-left-style: solid;\n",
       "font-family: var(--jp-code-font-family);\n",
       "font-size: var(--jp-code-font-size);\n",
       "line-height: var(--jp-code-line-height);\n",
       "\"><span style=\"color: var(--jp-warn-color2)\">ATCS</span> <span style=\"color: var(--jp-info-color0)\">INFO</span>: [Tel]: Az = +105.117[  -0.0]; El = +052.046[ -10.4] [Nas1]: +000.000[  -0.0] [Nas2]: +031.219[+115.5] [Dome] Az = +104.430[  +0.7]</pre>"
      ],
      "text/plain": [
       "<IPython.core.display.HTML object>"
      ]
     },
     "metadata": {},
     "output_type": "display_data"
    },
    {
     "data": {
      "text/html": [
       "<pre style=\"margin: 0.1em;\n",
       "padding-left: 0.25em;\n",
       "border-left-style: solid;\n",
       "font-family: var(--jp-code-font-family);\n",
       "font-size: var(--jp-code-font-size);\n",
       "line-height: var(--jp-code-line-height);\n",
       "\"><span style=\"color: var(--jp-warn-color2)\">ATCS</span> <span style=\"color: var(--jp-info-color0)\">INFO</span>: [Tel]: Az = +105.112[  +0.0]; El = +047.760[  -6.2] [Nas1]: -000.000[  +0.0] [Nas2]: +037.214[+109.5] [Dome] Az = +104.710[  +0.4]</pre>"
      ],
      "text/plain": [
       "<IPython.core.display.HTML object>"
      ]
     },
     "metadata": {},
     "output_type": "display_data"
    },
    {
     "data": {
      "text/html": [
       "<pre style=\"margin: 0.1em;\n",
       "padding-left: 0.25em;\n",
       "border-left-style: solid;\n",
       "font-family: var(--jp-code-font-family);\n",
       "font-size: var(--jp-code-font-size);\n",
       "line-height: var(--jp-code-line-height);\n",
       "\"><span style=\"color: var(--jp-warn-color2)\">ATCS</span> <span style=\"color: var(--jp-info-color0)\">INFO</span>: [Tel]: Az = +105.108[  +0.0]; El = +044.583[  -3.0] [Nas1]: -000.000[  +0.0] [Nas2]: +043.221[+103.5] [Dome] Az = +104.710[  +0.4]</pre>"
      ],
      "text/plain": [
       "<IPython.core.display.HTML object>"
      ]
     },
     "metadata": {},
     "output_type": "display_data"
    },
    {
     "data": {
      "text/html": [
       "<pre style=\"margin: 0.1em;\n",
       "padding-left: 0.25em;\n",
       "border-left-style: solid;\n",
       "font-family: var(--jp-code-font-family);\n",
       "font-size: var(--jp-code-font-size);\n",
       "line-height: var(--jp-code-line-height);\n",
       "\"><span style=\"color: var(--jp-warn-color2)\">ATCS</span> <span style=\"color: var(--jp-info-color0)\">INFO</span>: [Tel]: Az = +105.105[  +0.0]; El = +042.626[  -1.0] [Nas1]: +000.000[  -0.0] [Nas2]: +049.214[ +97.5] [Dome] Az = +104.710[  +0.4]</pre>"
      ],
      "text/plain": [
       "<IPython.core.display.HTML object>"
      ]
     },
     "metadata": {},
     "output_type": "display_data"
    },
    {
     "data": {
      "text/html": [
       "<pre style=\"margin: 0.1em;\n",
       "padding-left: 0.25em;\n",
       "border-left-style: solid;\n",
       "font-family: var(--jp-code-font-family);\n",
       "font-size: var(--jp-code-font-size);\n",
       "line-height: var(--jp-code-line-height);\n",
       "\"><span style=\"color: var(--jp-warn-color2)\">ATCS</span> <span style=\"color: var(--jp-info-color0)\">INFO</span>: [Tel]: Az = +105.101[  +0.0]; El = +041.780[  -0.1] [Nas1]: +000.000[  -0.0] [Nas2]: +055.216[ +91.5] [Dome] Az = +104.710[  +0.4]</pre>"
      ],
      "text/plain": [
       "<IPython.core.display.HTML object>"
      ]
     },
     "metadata": {},
     "output_type": "display_data"
    },
    {
     "data": {
      "text/html": [
       "<pre style=\"margin: 0.1em;\n",
       "padding-left: 0.25em;\n",
       "border-left-style: solid;\n",
       "font-family: var(--jp-code-font-family);\n",
       "font-size: var(--jp-code-font-size);\n",
       "line-height: var(--jp-code-line-height);\n",
       "\"><span style=\"color: var(--jp-warn-color2)\">ATCS</span> <span style=\"color: var(--jp-info-color0)\">INFO</span>: [Tel]: Az = +105.097[  +0.0]; El = +041.652[  -0.0] [Nas1]: +000.000[  -0.0] [Nas2]: +059.220[ +87.5] [Dome] Az = +104.710[  +0.4]</pre>"
      ],
      "text/plain": [
       "<IPython.core.display.HTML object>"
      ]
     },
     "metadata": {},
     "output_type": "display_data"
    },
    {
     "data": {
      "text/html": [
       "<pre style=\"margin: 0.1em;\n",
       "padding-left: 0.25em;\n",
       "border-left-style: solid;\n",
       "font-family: var(--jp-code-font-family);\n",
       "font-size: var(--jp-code-font-size);\n",
       "line-height: var(--jp-code-line-height);\n",
       "\"><span style=\"color: var(--jp-warn-color2)\">ATCS</span> <span style=\"color: var(--jp-info-color0)\">INFO</span>: [Tel]: Az = +105.094[  +0.0]; El = +041.660[  -0.0] [Nas1]: +000.000[  -0.0] [Nas2]: +063.218[ +83.5] [Dome] Az = +104.710[  +0.4]</pre>"
      ],
      "text/plain": [
       "<IPython.core.display.HTML object>"
      ]
     },
     "metadata": {},
     "output_type": "display_data"
    },
    {
     "data": {
      "text/html": [
       "<pre style=\"margin: 0.1em;\n",
       "padding-left: 0.25em;\n",
       "border-left-style: solid;\n",
       "font-family: var(--jp-code-font-family);\n",
       "font-size: var(--jp-code-font-size);\n",
       "line-height: var(--jp-code-line-height);\n",
       "\"><span style=\"color: var(--jp-warn-color2)\">ATCS</span> <span style=\"color: var(--jp-info-color0)\">INFO</span>: [Tel]: Az = +105.092[  +0.0]; El = +041.667[  -0.0] [Nas1]: +000.000[  -0.0] [Nas2]: +067.215[ +79.6] [Dome] Az = +104.710[  +0.4]</pre>"
      ],
      "text/plain": [
       "<IPython.core.display.HTML object>"
      ]
     },
     "metadata": {},
     "output_type": "display_data"
    },
    {
     "data": {
      "text/html": [
       "<pre style=\"margin: 0.1em;\n",
       "padding-left: 0.25em;\n",
       "border-left-style: solid;\n",
       "font-family: var(--jp-code-font-family);\n",
       "font-size: var(--jp-code-font-size);\n",
       "line-height: var(--jp-code-line-height);\n",
       "\"><span style=\"color: var(--jp-warn-color2)\">ATCS</span> <span style=\"color: var(--jp-info-color0)\">INFO</span>: [Tel]: Az = +105.089[  +0.0]; El = +041.674[  -0.0] [Nas1]: -000.000[  +0.0] [Nas2]: +073.220[ +73.6] [Dome] Az = +104.710[  +0.4]</pre>"
      ],
      "text/plain": [
       "<IPython.core.display.HTML object>"
      ]
     },
     "metadata": {},
     "output_type": "display_data"
    },
    {
     "data": {
      "text/html": [
       "<pre style=\"margin: 0.1em;\n",
       "padding-left: 0.25em;\n",
       "border-left-style: solid;\n",
       "font-family: var(--jp-code-font-family);\n",
       "font-size: var(--jp-code-font-size);\n",
       "line-height: var(--jp-code-line-height);\n",
       "\"><span style=\"color: var(--jp-warn-color2)\">ATCS</span> <span style=\"color: var(--jp-info-color0)\">INFO</span>: [Tel]: Az = +105.085[  +0.0]; El = +041.684[  -0.0] [Nas1]: -000.000[  +0.0] [Nas2]: +079.214[ +67.6] [Dome] Az = +104.710[  +0.4]</pre>"
      ],
      "text/plain": [
       "<IPython.core.display.HTML object>"
      ]
     },
     "metadata": {},
     "output_type": "display_data"
    },
    {
     "data": {
      "text/html": [
       "<pre style=\"margin: 0.1em;\n",
       "padding-left: 0.25em;\n",
       "border-left-style: solid;\n",
       "font-family: var(--jp-code-font-family);\n",
       "font-size: var(--jp-code-font-size);\n",
       "line-height: var(--jp-code-line-height);\n",
       "\"><span style=\"color: var(--jp-warn-color2)\">ATCS</span> <span style=\"color: var(--jp-info-color0)\">INFO</span>: [Tel]: Az = +105.082[  +0.0]; El = +041.695[  -0.0] [Nas1]: +000.000[  -0.0] [Nas2]: +085.221[ +61.6] [Dome] Az = +104.710[  +0.4]</pre>"
      ],
      "text/plain": [
       "<IPython.core.display.HTML object>"
      ]
     },
     "metadata": {},
     "output_type": "display_data"
    },
    {
     "data": {
      "text/html": [
       "<pre style=\"margin: 0.1em;\n",
       "padding-left: 0.25em;\n",
       "border-left-style: solid;\n",
       "font-family: var(--jp-code-font-family);\n",
       "font-size: var(--jp-code-font-size);\n",
       "line-height: var(--jp-code-line-height);\n",
       "\"><span style=\"color: var(--jp-warn-color2)\">ATCS</span> <span style=\"color: var(--jp-info-color0)\">INFO</span>: [Tel]: Az = +105.078[  +0.0]; El = +041.705[  -0.0] [Nas1]: -000.000[  +0.0] [Nas2]: +091.216[ +55.6] [Dome] Az = +104.710[  +0.4]</pre>"
      ],
      "text/plain": [
       "<IPython.core.display.HTML object>"
      ]
     },
     "metadata": {},
     "output_type": "display_data"
    },
    {
     "data": {
      "text/html": [
       "<pre style=\"margin: 0.1em;\n",
       "padding-left: 0.25em;\n",
       "border-left-style: solid;\n",
       "font-family: var(--jp-code-font-family);\n",
       "font-size: var(--jp-code-font-size);\n",
       "line-height: var(--jp-code-line-height);\n",
       "\"><span style=\"color: var(--jp-warn-color2)\">ATCS</span> <span style=\"color: var(--jp-info-color0)\">INFO</span>: [Tel]: Az = +105.074[  +0.0]; El = +041.716[  -0.0] [Nas1]: +000.000[  -0.0] [Nas2]: +097.217[ +49.6] [Dome] Az = +104.710[  +0.4]</pre>"
      ],
      "text/plain": [
       "<IPython.core.display.HTML object>"
      ]
     },
     "metadata": {},
     "output_type": "display_data"
    },
    {
     "data": {
      "text/html": [
       "<pre style=\"margin: 0.1em;\n",
       "padding-left: 0.25em;\n",
       "border-left-style: solid;\n",
       "font-family: var(--jp-code-font-family);\n",
       "font-size: var(--jp-code-font-size);\n",
       "line-height: var(--jp-code-line-height);\n",
       "\"><span style=\"color: var(--jp-warn-color2)\">ATCS</span> <span style=\"color: var(--jp-info-color0)\">INFO</span>: [Tel]: Az = +105.070[  +0.0]; El = +041.726[  -0.0] [Nas1]: -000.000[  +0.0] [Nas2]: +101.221[ +45.6] [Dome] Az = +104.710[  +0.4]</pre>"
      ],
      "text/plain": [
       "<IPython.core.display.HTML object>"
      ]
     },
     "metadata": {},
     "output_type": "display_data"
    },
    {
     "data": {
      "text/html": [
       "<pre style=\"margin: 0.1em;\n",
       "padding-left: 0.25em;\n",
       "border-left-style: solid;\n",
       "font-family: var(--jp-code-font-family);\n",
       "font-size: var(--jp-code-font-size);\n",
       "line-height: var(--jp-code-line-height);\n",
       "\"><span style=\"color: var(--jp-warn-color2)\">ATCS</span> <span style=\"color: var(--jp-info-color0)\">INFO</span>: [Tel]: Az = +105.068[  +0.0]; El = +041.733[  -0.0] [Nas1]: +000.000[  -0.0] [Nas2]: +107.221[ +39.6] [Dome] Az = +104.710[  +0.4]</pre>"
      ],
      "text/plain": [
       "<IPython.core.display.HTML object>"
      ]
     },
     "metadata": {},
     "output_type": "display_data"
    },
    {
     "data": {
      "text/html": [
       "<pre style=\"margin: 0.1em;\n",
       "padding-left: 0.25em;\n",
       "border-left-style: solid;\n",
       "font-family: var(--jp-code-font-family);\n",
       "font-size: var(--jp-code-font-size);\n",
       "line-height: var(--jp-code-line-height);\n",
       "\"><span style=\"color: var(--jp-warn-color2)\">ATCS</span> <span style=\"color: var(--jp-info-color0)\">INFO</span>: [Tel]: Az = +105.064[  +0.0]; El = +041.743[  -0.0] [Nas1]: -000.000[  +0.0] [Nas2]: +113.219[ +33.6] [Dome] Az = +104.710[  +0.4]</pre>"
      ],
      "text/plain": [
       "<IPython.core.display.HTML object>"
      ]
     },
     "metadata": {},
     "output_type": "display_data"
    },
    {
     "data": {
      "text/html": [
       "<pre style=\"margin: 0.1em;\n",
       "padding-left: 0.25em;\n",
       "border-left-style: solid;\n",
       "font-family: var(--jp-code-font-family);\n",
       "font-size: var(--jp-code-font-size);\n",
       "line-height: var(--jp-code-line-height);\n",
       "\"><span style=\"color: var(--jp-warn-color2)\">ATCS</span> <span style=\"color: var(--jp-info-color0)\">INFO</span>: [Tel]: Az = +105.060[  +0.0]; El = +041.754[  -0.0] [Nas1]: +000.000[  -0.0] [Nas2]: +117.222[ +29.6] [Dome] Az = +104.710[  +0.4]</pre>"
      ],
      "text/plain": [
       "<IPython.core.display.HTML object>"
      ]
     },
     "metadata": {},
     "output_type": "display_data"
    },
    {
     "data": {
      "text/html": [
       "<pre style=\"margin: 0.1em;\n",
       "padding-left: 0.25em;\n",
       "border-left-style: solid;\n",
       "font-family: var(--jp-code-font-family);\n",
       "font-size: var(--jp-code-font-size);\n",
       "line-height: var(--jp-code-line-height);\n",
       "\"><span style=\"color: var(--jp-warn-color2)\">ATCS</span> <span style=\"color: var(--jp-info-color0)\">INFO</span>: [Tel]: Az = +105.058[  +0.0]; El = +041.761[  -0.0] [Nas1]: -000.000[  +0.0] [Nas2]: +123.204[ +23.6] [Dome] Az = +104.710[  +0.4]</pre>"
      ],
      "text/plain": [
       "<IPython.core.display.HTML object>"
      ]
     },
     "metadata": {},
     "output_type": "display_data"
    },
    {
     "data": {
      "text/html": [
       "<pre style=\"margin: 0.1em;\n",
       "padding-left: 0.25em;\n",
       "border-left-style: solid;\n",
       "font-family: var(--jp-code-font-family);\n",
       "font-size: var(--jp-code-font-size);\n",
       "line-height: var(--jp-code-line-height);\n",
       "\"><span style=\"color: var(--jp-warn-color2)\">ATCS</span> <span style=\"color: var(--jp-info-color0)\">INFO</span>: [Tel]: Az = +105.054[  +0.0]; El = +041.771[  -0.0] [Nas1]: +000.000[  -0.0] [Nas2]: +129.038[ +17.8] [Dome] Az = +104.710[  +0.4]</pre>"
      ],
      "text/plain": [
       "<IPython.core.display.HTML object>"
      ]
     },
     "metadata": {},
     "output_type": "display_data"
    },
    {
     "data": {
      "text/html": [
       "<pre style=\"margin: 0.1em;\n",
       "padding-left: 0.25em;\n",
       "border-left-style: solid;\n",
       "font-family: var(--jp-code-font-family);\n",
       "font-size: var(--jp-code-font-size);\n",
       "line-height: var(--jp-code-line-height);\n",
       "\"><span style=\"color: var(--jp-warn-color2)\">ATCS</span> <span style=\"color: var(--jp-info-color0)\">INFO</span>: [Tel]: Az = +105.050[  +0.0]; El = +041.782[  -0.0] [Nas1]: +000.000[  -0.0] [Nas2]: +134.445[ +12.4] [Dome] Az = +104.710[  +0.4]</pre>"
      ],
      "text/plain": [
       "<IPython.core.display.HTML object>"
      ]
     },
     "metadata": {},
     "output_type": "display_data"
    },
    {
     "data": {
      "text/html": [
       "<pre style=\"margin: 0.1em;\n",
       "padding-left: 0.25em;\n",
       "border-left-style: solid;\n",
       "font-family: var(--jp-code-font-family);\n",
       "font-size: var(--jp-code-font-size);\n",
       "line-height: var(--jp-code-line-height);\n",
       "\"><span style=\"color: var(--jp-warn-color2)\">ATCS</span> <span style=\"color: var(--jp-info-color0)\">INFO</span>: [Tel]: Az = +105.046[  +0.0]; El = +041.792[  -0.0] [Nas1]: -000.000[  +0.0] [Nas2]: +139.123[  +7.7] [Dome] Az = +104.710[  +0.4]</pre>"
      ],
      "text/plain": [
       "<IPython.core.display.HTML object>"
      ]
     },
     "metadata": {},
     "output_type": "display_data"
    },
    {
     "data": {
      "text/html": [
       "<pre style=\"margin: 0.1em;\n",
       "padding-left: 0.25em;\n",
       "border-left-style: solid;\n",
       "font-family: var(--jp-code-font-family);\n",
       "font-size: var(--jp-code-font-size);\n",
       "line-height: var(--jp-code-line-height);\n",
       "\"><span style=\"color: var(--jp-warn-color2)\">ATCS</span> <span style=\"color: var(--jp-info-color0)\">INFO</span>: [Tel]: Az = +105.043[  +0.0]; El = +041.803[  -0.0] [Nas1]: +000.000[  -0.0] [Nas2]: +142.773[  +4.1] [Dome] Az = +104.710[  +0.4]</pre>"
      ],
      "text/plain": [
       "<IPython.core.display.HTML object>"
      ]
     },
     "metadata": {},
     "output_type": "display_data"
    },
    {
     "data": {
      "text/html": [
       "<pre style=\"margin: 0.1em;\n",
       "padding-left: 0.25em;\n",
       "border-left-style: solid;\n",
       "font-family: var(--jp-code-font-family);\n",
       "font-size: var(--jp-code-font-size);\n",
       "line-height: var(--jp-code-line-height);\n",
       "\"><span style=\"color: var(--jp-warn-color2)\">ATCS</span> <span style=\"color: var(--jp-info-color0)\">INFO</span>: [Tel]: Az = +105.039[  +0.0]; El = +041.813[  -0.0] [Nas1]: +000.000[  -0.0] [Nas2]: +145.236[  +1.6] [Dome] Az = +104.710[  +0.4]</pre>"
      ],
      "text/plain": [
       "<IPython.core.display.HTML object>"
      ]
     },
     "metadata": {},
     "output_type": "display_data"
    },
    {
     "data": {
      "text/html": [
       "<pre style=\"margin: 0.1em;\n",
       "padding-left: 0.25em;\n",
       "border-left-style: solid;\n",
       "font-family: var(--jp-code-font-family);\n",
       "font-size: var(--jp-code-font-size);\n",
       "line-height: var(--jp-code-line-height);\n",
       "\"><span style=\"color: var(--jp-warn-color2)\">ATCS</span> <span style=\"color: var(--jp-info-color0)\">INFO</span>: [Tel]: Az = +105.035[  +0.0]; El = +041.824[  -0.0] [Nas1]: -000.000[  +0.0] [Nas2]: +146.510[  +0.4] [Dome] Az = +104.710[  +0.4]</pre>"
      ],
      "text/plain": [
       "<IPython.core.display.HTML object>"
      ]
     },
     "metadata": {},
     "output_type": "display_data"
    },
    {
     "data": {
      "text/html": [
       "<pre style=\"margin: 0.1em;\n",
       "padding-left: 0.25em;\n",
       "border-left-style: solid;\n",
       "font-family: var(--jp-code-font-family);\n",
       "font-size: var(--jp-code-font-size);\n",
       "line-height: var(--jp-code-line-height);\n",
       "\"><span style=\"color: var(--jp-warn-color2)\">ATCS</span> <span style=\"color: var(--jp-info-color0)\">INFO</span>: [Tel]: Az = +105.031[  +0.0]; El = +041.834[  -0.0] [Nas1]: +000.000[  -0.0] [Nas2]: +146.871[  +0.0] [Dome] Az = +104.710[  +0.4]</pre>"
      ],
      "text/plain": [
       "<IPython.core.display.HTML object>"
      ]
     },
     "metadata": {},
     "output_type": "display_data"
    },
    {
     "data": {
      "text/html": [
       "<pre style=\"margin: 0.1em;\n",
       "padding-left: 0.25em;\n",
       "border-left-style: solid;\n",
       "font-family: var(--jp-code-font-family);\n",
       "font-size: var(--jp-code-font-size);\n",
       "line-height: var(--jp-code-line-height);\n",
       "\"><span style=\"color: var(--jp-warn-color2)\">ATCS</span> <span style=\"color: var(--jp-info-color0)\">INFO</span>: ATMCS in position: True.</pre>"
      ],
      "text/plain": [
       "<IPython.core.display.HTML object>"
      ]
     },
     "metadata": {},
     "output_type": "display_data"
    },
    {
     "data": {
      "text/html": [
       "<pre style=\"margin: 0.1em;\n",
       "padding-left: 0.25em;\n",
       "border-left-style: solid;\n",
       "font-family: var(--jp-code-font-family);\n",
       "font-size: var(--jp-code-font-size);\n",
       "line-height: var(--jp-code-line-height);\n",
       "\"><span style=\"color: var(--jp-warn-color2)\">ATCS</span> <span style=\"color: var(--jp-info-color0)\">INFO</span>: [Tel]: Az = +105.027[  +0.0]; El = +041.844[  -0.0] [Nas1]: +000.000[  -0.0] [Nas2]: +146.885[  -0.0] [Dome] Az = +104.710[  +0.4]</pre>"
      ],
      "text/plain": [
       "<IPython.core.display.HTML object>"
      ]
     },
     "metadata": {},
     "output_type": "display_data"
    },
    {
     "data": {
      "text/html": [
       "<pre style=\"margin: 0.1em;\n",
       "padding-left: 0.25em;\n",
       "border-left-style: solid;\n",
       "font-family: var(--jp-code-font-family);\n",
       "font-size: var(--jp-code-font-size);\n",
       "line-height: var(--jp-code-line-height);\n",
       "\"><span style=\"color: var(--jp-warn-color2)\">ATCS</span> <span style=\"color: var(--jp-info-color0)\">INFO</span>: [Tel]: Az = +105.025[  +0.0]; El = +041.851[  -0.0] [Nas1]: -000.000[  +0.0] [Nas2]: +146.892[  -0.0] [Dome] Az = +104.710[  +0.4]</pre>"
      ],
      "text/plain": [
       "<IPython.core.display.HTML object>"
      ]
     },
     "metadata": {},
     "output_type": "display_data"
    },
    {
     "data": {
      "text/html": [
       "<pre style=\"margin: 0.1em;\n",
       "padding-left: 0.25em;\n",
       "border-left-style: solid;\n",
       "font-family: var(--jp-code-font-family);\n",
       "font-size: var(--jp-code-font-size);\n",
       "line-height: var(--jp-code-line-height);\n",
       "\"><span style=\"color: var(--jp-warn-color2)\">ATCS</span> <span style=\"color: var(--jp-info-color0)\">INFO</span>: [Tel]: Az = +105.021[  +0.0]; El = +041.862[  -0.0] [Nas1]: +000.000[  -0.0] [Nas2]: +146.896[  -0.0] [Dome] Az = +104.710[  +0.4]</pre>"
      ],
      "text/plain": [
       "<IPython.core.display.HTML object>"
      ]
     },
     "metadata": {},
     "output_type": "display_data"
    },
    {
     "data": {
      "text/plain": [
       "(<ICRS Coordinate: (ra, dec) in deg\n",
       "     (196.838, -30.07411111)>,\n",
       " <Angle 0. deg>)"
      ]
     },
     "execution_count": 65,
     "metadata": {},
     "output_type": "execute_result"
    }
   ],
   "source": [
    "await atcs.slew_icrs(empty_field_coords.ra, empty_field_coords.dec)"
   ]
  },
  {
   "cell_type": "markdown",
   "id": "9d711c19-61ca-4f05-bba6-623ae315ecb0",
   "metadata": {},
   "source": [
    "## Define filter, minimum counts and offsets between images\n",
    "\n",
    "Need at least 10K ADU per pixel for each band."
   ]
  },
  {
   "cell_type": "code",
   "execution_count": 94,
   "id": "d84f0863-9925-458b-8c81-56bba8c4b255",
   "metadata": {
    "execution": {
     "iopub.execute_input": "2023-05-25T23:54:39.524353Z",
     "iopub.status.busy": "2023-05-25T23:54:39.523954Z",
     "iopub.status.idle": "2023-05-25T23:54:39.527540Z",
     "shell.execute_reply": "2023-05-25T23:54:39.527021Z",
     "shell.execute_reply.started": "2023-05-25T23:54:39.524334Z"
    },
    "tags": []
   },
   "outputs": [],
   "source": [
    "order = [1,2,3,0]\n",
    "filters = np.array(inst_setup[0])[order]"
   ]
  },
  {
   "cell_type": "code",
   "execution_count": 67,
   "id": "5e95cf3a-0fbf-46af-af8a-560872efc22c",
   "metadata": {
    "execution": {
     "iopub.execute_input": "2023-05-25T21:53:14.672430Z",
     "iopub.status.busy": "2023-05-25T21:53:14.672284Z",
     "iopub.status.idle": "2023-05-25T21:53:14.680831Z",
     "shell.execute_reply": "2023-05-25T21:53:14.680463Z",
     "shell.execute_reply.started": "2023-05-25T21:53:14.672417Z"
    },
    "tags": []
   },
   "outputs": [],
   "source": [
    "dither_offset = 30\n",
    "min_counts_above_bias = 15000\n",
    "multiple_factor = 1.5 "
   ]
  },
  {
   "cell_type": "code",
   "execution_count": 68,
   "id": "bc7dda33-7ad1-4218-b18d-fae0eae11e91",
   "metadata": {
    "execution": {
     "iopub.execute_input": "2023-05-25T21:53:14.681656Z",
     "iopub.status.busy": "2023-05-25T21:53:14.681335Z",
     "iopub.status.idle": "2023-05-25T21:53:14.688425Z",
     "shell.execute_reply": "2023-05-25T21:53:14.688059Z",
     "shell.execute_reply.started": "2023-05-25T21:53:14.681641Z"
    },
    "tags": []
   },
   "outputs": [],
   "source": [
    "# !!!! Change this with Erik \n",
    "starting_exposure_time = {filters[0]:1, filters[1]:2, filters[2]:2, filters[3]:4}"
   ]
  },
  {
   "cell_type": "code",
   "execution_count": 69,
   "id": "495f4f7a-0f3c-49fb-b152-0ed3e45487ca",
   "metadata": {
    "execution": {
     "iopub.execute_input": "2023-05-25T21:53:14.689042Z",
     "iopub.status.busy": "2023-05-25T21:53:14.688911Z",
     "iopub.status.idle": "2023-05-25T21:53:14.696603Z",
     "shell.execute_reply": "2023-05-25T21:53:14.696243Z",
     "shell.execute_reply.started": "2023-05-25T21:53:14.689029Z"
    },
    "tags": []
   },
   "outputs": [
    {
     "data": {
      "text/html": [
       "<pre style=\"margin: 0.1em;\n",
       "padding-left: 0.25em;\n",
       "border-left-style: solid;\n",
       "font-family: var(--jp-code-font-family);\n",
       "font-size: var(--jp-code-font-size);\n",
       "line-height: var(--jp-code-line-height);\n",
       "\"><span style=\"color: var(--jp-warn-color2)\">Sky Flats 2023-05-25 21:47:02.945729 UT</span> <span style=\"color: var(--jp-info-color0)\">INFO</span>: The starting exposure time for each filter is \n",
       "SDSSg_65mm: 1 seconds\n",
       "SDSSr_65mm: 2 seconds\n",
       "SDSSi_65mm: 2 seconds\n",
       "empty_1: 4 seconds</pre>"
      ],
      "text/plain": [
       "<IPython.core.display.HTML object>"
      ]
     },
     "metadata": {},
     "output_type": "display_data"
    }
   ],
   "source": [
    "newline = \"\\n\"  # \\escapes are not allowed inside f-strings\n",
    "logger.info(f'The starting exposure time for each filter is \\n'\n",
    "            f'{newline.join(f\"{key}: {value} seconds\" for key, value in starting_exposure_time.items())}')"
   ]
  },
  {
   "cell_type": "markdown",
   "id": "301ceae4",
   "metadata": {
    "tags": []
   },
   "source": [
    "## Find first image\n",
    "\n",
    "Here is where we check image saturation. We take an image with some short exposure time with the bluest filter, check how many pixels on each detector are saturated, check how many counts do we have in each detector, and once we have high but not saturated signal is all detectors and in most of the pixels, we move forward."
   ]
  },
  {
   "cell_type": "code",
   "execution_count": 102,
   "id": "5e7ae5ea-82ea-4c2f-937f-e38384a3dc3f",
   "metadata": {
    "execution": {
     "iopub.execute_input": "2023-05-25T23:56:44.850164Z",
     "iopub.status.busy": "2023-05-25T23:56:44.849786Z",
     "iopub.status.idle": "2023-05-25T23:56:44.855847Z",
     "shell.execute_reply": "2023-05-25T23:56:44.855261Z",
     "shell.execute_reply.started": "2023-05-25T23:56:44.850146Z"
    },
    "tags": []
   },
   "outputs": [
    {
     "data": {
      "text/plain": [
       "\u001b[0;31mSignature:\u001b[0m \u001b[0mparse_obs_id\u001b[0m\u001b[0;34m(\u001b[0m\u001b[0mobs_id\u001b[0m\u001b[0;34m)\u001b[0m\u001b[0;34m\u001b[0m\u001b[0;34m\u001b[0m\u001b[0m\n",
       "\u001b[0;31mDocstring:\u001b[0m\n",
       "Return a data_id dictionary from a ObsID (which comes from the\n",
       "oods imageInOODS event)\n",
       "The dictionary is formatted for a gen3 butler.\n",
       "\n",
       "Parameters\n",
       "----------\n",
       "obs_id: `str`\n",
       "    ObsId (e.g. 'AT_O_20200219_000212')\n",
       "\n",
       "Returns\n",
       "-------\n",
       "data_id: `dict`\n",
       "    dictionary with newly derived day_obs and seq_num keys to be\n",
       "    used with a butler\n",
       "\u001b[0;31mFile:\u001b[0m      /net/obs-env/auto_base_packages/ts_observing_utilities/python/lsst/ts/observing/utilities/auxtel/latiss/utils.py\n",
       "\u001b[0;31mType:\u001b[0m      function\n"
      ]
     },
     "metadata": {},
     "output_type": "display_data"
    }
   ],
   "source": [
    "parse_obs_id?"
   ]
  },
  {
   "cell_type": "code",
   "execution_count": 109,
   "id": "4d4d575c",
   "metadata": {
    "execution": {
     "iopub.execute_input": "2023-05-26T00:00:37.463697Z",
     "iopub.status.busy": "2023-05-26T00:00:37.463331Z",
     "iopub.status.idle": "2023-05-26T00:01:01.352091Z",
     "shell.execute_reply": "2023-05-26T00:01:01.351559Z",
     "shell.execute_reply.started": "2023-05-26T00:00:37.463677Z"
    },
    "tags": []
   },
   "outputs": [
    {
     "data": {
      "text/html": [
       "<pre style=\"margin: 0.1em;\n",
       "padding-left: 0.25em;\n",
       "border-left-style: solid;\n",
       "font-family: var(--jp-code-font-family);\n",
       "font-size: var(--jp-code-font-size);\n",
       "line-height: var(--jp-code-line-height);\n",
       "\"><span style=\"color: var(--jp-warn-color2)\">ATHeaderService.logevent_logMessage</span> <span style=\"color: var(--jp-warn-color0)\">WARNING</span>: evt_logMessage DDS read queue is filling: 15 of 100 elements</pre>"
      ],
      "text/plain": [
       "<IPython.core.display.HTML object>"
      ]
     },
     "metadata": {},
     "output_type": "display_data"
    },
    {
     "data": {
      "text/html": [
       "<pre style=\"margin: 0.1em;\n",
       "padding-left: 0.25em;\n",
       "border-left-style: solid;\n",
       "font-family: var(--jp-code-font-family);\n",
       "font-size: var(--jp-code-font-size);\n",
       "line-height: var(--jp-code-line-height);\n",
       "\"><span style=\"color: var(--jp-warn-color2)\">ATHeaderService.logevent_logMessage</span> <span style=\"color: var(--jp-warn-color0)\">WARNING</span>: evt_logMessage DDS read queue is filling: 10 of 100 elements</pre>"
      ],
      "text/plain": [
       "<IPython.core.display.HTML object>"
      ]
     },
     "metadata": {},
     "output_type": "display_data"
    },
    {
     "data": {
      "text/html": [
       "<pre style=\"margin: 0.1em;\n",
       "padding-left: 0.25em;\n",
       "border-left-style: solid;\n",
       "font-family: var(--jp-code-font-family);\n",
       "font-size: var(--jp-code-font-size);\n",
       "line-height: var(--jp-code-line-height);\n",
       "\"><span style=\"color: var(--jp-warn-color2)\">ATHeaderService.logevent_logMessage</span> <span style=\"color: var(--jp-warn-color0)\">WARNING</span>: evt_logMessage DDS read queue is filling: 58 of 100 elements</pre>"
      ],
      "text/plain": [
       "<IPython.core.display.HTML object>"
      ]
     },
     "metadata": {},
     "output_type": "display_data"
    },
    {
     "data": {
      "text/html": [
       "<pre style=\"margin: 0.1em;\n",
       "padding-left: 0.25em;\n",
       "border-left-style: solid;\n",
       "font-family: var(--jp-code-font-family);\n",
       "font-size: var(--jp-code-font-size);\n",
       "line-height: var(--jp-code-line-height);\n",
       "\"><span style=\"color: var(--jp-warn-color2)\">ATHeaderService.logevent_logMessage</span> <span style=\"color: var(--jp-warn-color0)\">WARNING</span>: evt_logMessage DDS read queue is filling: 58 of 100 elements</pre>"
      ],
      "text/plain": [
       "<IPython.core.display.HTML object>"
      ]
     },
     "metadata": {},
     "output_type": "display_data"
    },
    {
     "name": "stdout",
     "output_type": "stream",
     "text": [
      "The test exposure is 2023052500129 with SDSSg_65mm\n"
     ]
    },
    {
     "data": {
      "text/html": [
       "<pre style=\"margin: 0.1em;\n",
       "padding-left: 0.25em;\n",
       "border-left-style: solid;\n",
       "font-family: var(--jp-code-font-family);\n",
       "font-size: var(--jp-code-font-size);\n",
       "line-height: var(--jp-code-line-height);\n",
       "\"><span style=\"color: var(--jp-warn-color2)\">get_image</span> <span style=\"color: var(--jp-error-color2)\">ERROR</span>: Could not get new image from butler. Waiting 1 seconds and trying again.</pre><pre style=\"margin: 0.1em;\n",
       "padding-left: 0.25em;\n",
       "border-left-style: solid;\n",
       "font-family: var(--jp-code-font-family);\n",
       "font-size: var(--jp-code-font-size);\n",
       "line-height: var(--jp-code-line-height);\n",
       "\">Traceback (most recent call last):\n",
       "  File \"/net/obs-env/auto_base_packages/ts_observing_utilities/python/lsst/ts/observing/utilities/auxtel/latiss/getters.py\", line 51, in get_image\n",
       "    exp = best_effort_isr.getExposure(data_id, detector=0)\n",
       "  File \"/net/obs-env/auto_base_packages/summit_utils/python/lsst/summit/utils/bestEffort.py\", line 204, in getExposure\n",
       "    exp = self.butler.get(self._datasetName, dataId)\n",
       "  File \"/opt/lsst/software/stack/stack/miniconda3-py38_4.9.2-6.0.0/Linux64/daf_butler/gf80a4f1b81+02c8b8cb00/python/lsst/daf/butler/_butler.py\", line 1446, in get\n",
       "    ref = self._findDatasetRef(datasetRefOrType, dataId, collections=collections, **kwargs)\n",
       "  File \"/opt/lsst/software/stack/stack/miniconda3-py38_4.9.2-6.0.0/Linux64/daf_butler/gf80a4f1b81+02c8b8cb00/python/lsst/daf/butler/_butler.py\", line 1070, in _findDatasetRef\n",
       "    dataId, kwargs = self._rewrite_data_id(dataId, datasetType, **kwargs)\n",
       "  File \"/opt/lsst/software/stack/stack/miniconda3-py38_4.9.2-6.0.0/Linux64/daf_butler/gf80a4f1b81+02c8b8cb00/python/lsst/daf/butler/_butler.py\", line 995, in _rewrite_data_id\n",
       "    raise ValueError(\n",
       "ValueError: DataId specification for dimension exposure matched no records when constrained by {'day_obs': 20230525, 'seq_num': 129}\n",
       "</pre>"
      ],
      "text/plain": [
       "<IPython.core.display.HTML object>"
      ]
     },
     "metadata": {},
     "output_type": "display_data"
    },
    {
     "data": {
      "text/html": [
       "<pre style=\"margin: 0.1em;\n",
       "padding-left: 0.25em;\n",
       "border-left-style: solid;\n",
       "font-family: var(--jp-code-font-family);\n",
       "font-size: var(--jp-code-font-size);\n",
       "line-height: var(--jp-code-line-height);\n",
       "\"><span style=\"color: var(--jp-warn-color2)\">ATHeaderService.logevent_logMessage</span> <span style=\"color: var(--jp-warn-color0)\">WARNING</span>: evt_logMessage DDS read queue is filling: 12 of 100 elements</pre>"
      ],
      "text/plain": [
       "<IPython.core.display.HTML object>"
      ]
     },
     "metadata": {},
     "output_type": "display_data"
    },
    {
     "data": {
      "text/html": [
       "<pre style=\"margin: 0.1em;\n",
       "padding-left: 0.25em;\n",
       "border-left-style: solid;\n",
       "font-family: var(--jp-code-font-family);\n",
       "font-size: var(--jp-code-font-size);\n",
       "line-height: var(--jp-code-line-height);\n",
       "\"><span style=\"color: var(--jp-warn-color2)\">ATHeaderService.logevent_logMessage</span> <span style=\"color: var(--jp-warn-color0)\">WARNING</span>: evt_logMessage DDS read queue is filling: 12 of 100 elements</pre>"
      ],
      "text/plain": [
       "<IPython.core.display.HTML object>"
      ]
     },
     "metadata": {},
     "output_type": "display_data"
    },
    {
     "data": {
      "text/html": [
       "<pre style=\"margin: 0.1em;\n",
       "padding-left: 0.25em;\n",
       "border-left-style: solid;\n",
       "font-family: var(--jp-code-font-family);\n",
       "font-size: var(--jp-code-font-size);\n",
       "line-height: var(--jp-code-line-height);\n",
       "\"><span style=\"color: var(--jp-warn-color2)\">ATHeaderService.logevent_logMessage</span> <span style=\"color: var(--jp-warn-color0)\">WARNING</span>: evt_logMessage DDS read queue is filling: 28 of 100 elements</pre>"
      ],
      "text/plain": [
       "<IPython.core.display.HTML object>"
      ]
     },
     "metadata": {},
     "output_type": "display_data"
    },
    {
     "data": {
      "text/html": [
       "<pre style=\"margin: 0.1em;\n",
       "padding-left: 0.25em;\n",
       "border-left-style: solid;\n",
       "font-family: var(--jp-code-font-family);\n",
       "font-size: var(--jp-code-font-size);\n",
       "line-height: var(--jp-code-line-height);\n",
       "\"><span style=\"color: var(--jp-warn-color2)\">ATHeaderService.logevent_logMessage</span> <span style=\"color: var(--jp-warn-color0)\">WARNING</span>: evt_logMessage DDS read queue is filling: 52 of 100 elements</pre>"
      ],
      "text/plain": [
       "<IPython.core.display.HTML object>"
      ]
     },
     "metadata": {},
     "output_type": "display_data"
    },
    {
     "data": {
      "text/html": [
       "<pre style=\"margin: 0.1em;\n",
       "padding-left: 0.25em;\n",
       "border-left-style: solid;\n",
       "font-family: var(--jp-code-font-family);\n",
       "font-size: var(--jp-code-font-size);\n",
       "line-height: var(--jp-code-line-height);\n",
       "\"><span style=\"color: var(--jp-warn-color2)\">ATHeaderService.logevent_logMessage</span> <span style=\"color: var(--jp-warn-color0)\">WARNING</span>: evt_logMessage DDS read queue is filling: 56 of 100 elements</pre>"
      ],
      "text/plain": [
       "<IPython.core.display.HTML object>"
      ]
     },
     "metadata": {},
     "output_type": "display_data"
    },
    {
     "data": {
      "text/html": [
       "<pre style=\"margin: 0.1em;\n",
       "padding-left: 0.25em;\n",
       "border-left-style: solid;\n",
       "font-family: var(--jp-code-font-family);\n",
       "font-size: var(--jp-code-font-size);\n",
       "line-height: var(--jp-code-line-height);\n",
       "\"><span style=\"color: var(--jp-warn-color2)\">ATHeaderService.logevent_logMessage</span> <span style=\"color: var(--jp-warn-color0)\">WARNING</span>: evt_logMessage DDS read queue is filling: 56 of 100 elements</pre>"
      ],
      "text/plain": [
       "<IPython.core.display.HTML object>"
      ]
     },
     "metadata": {},
     "output_type": "display_data"
    },
    {
     "data": {
      "text/html": [
       "<pre style=\"margin: 0.1em;\n",
       "padding-left: 0.25em;\n",
       "border-left-style: solid;\n",
       "font-family: var(--jp-code-font-family);\n",
       "font-size: var(--jp-code-font-size);\n",
       "line-height: var(--jp-code-line-height);\n",
       "\"><span style=\"color: var(--jp-warn-color2)\">get_image</span> <span style=\"color: var(--jp-error-color2)\">ERROR</span>: Could not get new image from butler. Waiting 1 seconds and trying again.</pre><pre style=\"margin: 0.1em;\n",
       "padding-left: 0.25em;\n",
       "border-left-style: solid;\n",
       "font-family: var(--jp-code-font-family);\n",
       "font-size: var(--jp-code-font-size);\n",
       "line-height: var(--jp-code-line-height);\n",
       "\">Traceback (most recent call last):\n",
       "  File \"/net/obs-env/auto_base_packages/ts_observing_utilities/python/lsst/ts/observing/utilities/auxtel/latiss/getters.py\", line 51, in get_image\n",
       "    exp = best_effort_isr.getExposure(data_id, detector=0)\n",
       "  File \"/net/obs-env/auto_base_packages/summit_utils/python/lsst/summit/utils/bestEffort.py\", line 204, in getExposure\n",
       "    exp = self.butler.get(self._datasetName, dataId)\n",
       "  File \"/opt/lsst/software/stack/stack/miniconda3-py38_4.9.2-6.0.0/Linux64/daf_butler/gf80a4f1b81+02c8b8cb00/python/lsst/daf/butler/_butler.py\", line 1446, in get\n",
       "    ref = self._findDatasetRef(datasetRefOrType, dataId, collections=collections, **kwargs)\n",
       "  File \"/opt/lsst/software/stack/stack/miniconda3-py38_4.9.2-6.0.0/Linux64/daf_butler/gf80a4f1b81+02c8b8cb00/python/lsst/daf/butler/_butler.py\", line 1070, in _findDatasetRef\n",
       "    dataId, kwargs = self._rewrite_data_id(dataId, datasetType, **kwargs)\n",
       "  File \"/opt/lsst/software/stack/stack/miniconda3-py38_4.9.2-6.0.0/Linux64/daf_butler/gf80a4f1b81+02c8b8cb00/python/lsst/daf/butler/_butler.py\", line 995, in _rewrite_data_id\n",
       "    raise ValueError(\n",
       "ValueError: DataId specification for dimension exposure matched no records when constrained by {'day_obs': 20230525, 'seq_num': 129}\n",
       "</pre>"
      ],
      "text/plain": [
       "<IPython.core.display.HTML object>"
      ]
     },
     "metadata": {},
     "output_type": "display_data"
    },
    {
     "data": {
      "text/html": [
       "<pre style=\"margin: 0.1em;\n",
       "padding-left: 0.25em;\n",
       "border-left-style: solid;\n",
       "font-family: var(--jp-code-font-family);\n",
       "font-size: var(--jp-code-font-size);\n",
       "line-height: var(--jp-code-line-height);\n",
       "\"><span style=\"color: var(--jp-warn-color2)\">get_image</span> <span style=\"color: var(--jp-error-color2)\">ERROR</span>: Could not get new image from butler. Waiting 1 seconds and trying again.</pre><pre style=\"margin: 0.1em;\n",
       "padding-left: 0.25em;\n",
       "border-left-style: solid;\n",
       "font-family: var(--jp-code-font-family);\n",
       "font-size: var(--jp-code-font-size);\n",
       "line-height: var(--jp-code-line-height);\n",
       "\">Traceback (most recent call last):\n",
       "  File \"/net/obs-env/auto_base_packages/ts_observing_utilities/python/lsst/ts/observing/utilities/auxtel/latiss/getters.py\", line 51, in get_image\n",
       "    exp = best_effort_isr.getExposure(data_id, detector=0)\n",
       "  File \"/net/obs-env/auto_base_packages/summit_utils/python/lsst/summit/utils/bestEffort.py\", line 204, in getExposure\n",
       "    exp = self.butler.get(self._datasetName, dataId)\n",
       "  File \"/opt/lsst/software/stack/stack/miniconda3-py38_4.9.2-6.0.0/Linux64/daf_butler/gf80a4f1b81+02c8b8cb00/python/lsst/daf/butler/_butler.py\", line 1446, in get\n",
       "    ref = self._findDatasetRef(datasetRefOrType, dataId, collections=collections, **kwargs)\n",
       "  File \"/opt/lsst/software/stack/stack/miniconda3-py38_4.9.2-6.0.0/Linux64/daf_butler/gf80a4f1b81+02c8b8cb00/python/lsst/daf/butler/_butler.py\", line 1070, in _findDatasetRef\n",
       "    dataId, kwargs = self._rewrite_data_id(dataId, datasetType, **kwargs)\n",
       "  File \"/opt/lsst/software/stack/stack/miniconda3-py38_4.9.2-6.0.0/Linux64/daf_butler/gf80a4f1b81+02c8b8cb00/python/lsst/daf/butler/_butler.py\", line 995, in _rewrite_data_id\n",
       "    raise ValueError(\n",
       "ValueError: DataId specification for dimension exposure matched no records when constrained by {'day_obs': 20230525, 'seq_num': 129}\n",
       "</pre>"
      ],
      "text/plain": [
       "<IPython.core.display.HTML object>"
      ]
     },
     "metadata": {},
     "output_type": "display_data"
    },
    {
     "data": {
      "text/html": [
       "<pre style=\"margin: 0.1em;\n",
       "padding-left: 0.25em;\n",
       "border-left-style: solid;\n",
       "font-family: var(--jp-code-font-family);\n",
       "font-size: var(--jp-code-font-size);\n",
       "line-height: var(--jp-code-line-height);\n",
       "\"><span style=\"color: var(--jp-warn-color2)\">get_image</span> <span style=\"color: var(--jp-error-color2)\">ERROR</span>: Could not get new image from butler. Waiting 1 seconds and trying again.</pre><pre style=\"margin: 0.1em;\n",
       "padding-left: 0.25em;\n",
       "border-left-style: solid;\n",
       "font-family: var(--jp-code-font-family);\n",
       "font-size: var(--jp-code-font-size);\n",
       "line-height: var(--jp-code-line-height);\n",
       "\">Traceback (most recent call last):\n",
       "  File \"/net/obs-env/auto_base_packages/ts_observing_utilities/python/lsst/ts/observing/utilities/auxtel/latiss/getters.py\", line 51, in get_image\n",
       "    exp = best_effort_isr.getExposure(data_id, detector=0)\n",
       "  File \"/net/obs-env/auto_base_packages/summit_utils/python/lsst/summit/utils/bestEffort.py\", line 204, in getExposure\n",
       "    exp = self.butler.get(self._datasetName, dataId)\n",
       "  File \"/opt/lsst/software/stack/stack/miniconda3-py38_4.9.2-6.0.0/Linux64/daf_butler/gf80a4f1b81+02c8b8cb00/python/lsst/daf/butler/_butler.py\", line 1446, in get\n",
       "    ref = self._findDatasetRef(datasetRefOrType, dataId, collections=collections, **kwargs)\n",
       "  File \"/opt/lsst/software/stack/stack/miniconda3-py38_4.9.2-6.0.0/Linux64/daf_butler/gf80a4f1b81+02c8b8cb00/python/lsst/daf/butler/_butler.py\", line 1070, in _findDatasetRef\n",
       "    dataId, kwargs = self._rewrite_data_id(dataId, datasetType, **kwargs)\n",
       "  File \"/opt/lsst/software/stack/stack/miniconda3-py38_4.9.2-6.0.0/Linux64/daf_butler/gf80a4f1b81+02c8b8cb00/python/lsst/daf/butler/_butler.py\", line 995, in _rewrite_data_id\n",
       "    raise ValueError(\n",
       "ValueError: DataId specification for dimension exposure matched no records when constrained by {'day_obs': 20230525, 'seq_num': 129}\n",
       "</pre>"
      ],
      "text/plain": [
       "<IPython.core.display.HTML object>"
      ]
     },
     "metadata": {},
     "output_type": "display_data"
    },
    {
     "data": {
      "text/html": [
       "<pre style=\"margin: 0.1em;\n",
       "padding-left: 0.25em;\n",
       "border-left-style: solid;\n",
       "font-family: var(--jp-code-font-family);\n",
       "font-size: var(--jp-code-font-size);\n",
       "line-height: var(--jp-code-line-height);\n",
       "\"><span style=\"color: var(--jp-warn-color2)\">get_image</span> <span style=\"color: var(--jp-error-color2)\">ERROR</span>: Could not get new image from butler. Waiting 1 seconds and trying again.</pre><pre style=\"margin: 0.1em;\n",
       "padding-left: 0.25em;\n",
       "border-left-style: solid;\n",
       "font-family: var(--jp-code-font-family);\n",
       "font-size: var(--jp-code-font-size);\n",
       "line-height: var(--jp-code-line-height);\n",
       "\">Traceback (most recent call last):\n",
       "  File \"/net/obs-env/auto_base_packages/ts_observing_utilities/python/lsst/ts/observing/utilities/auxtel/latiss/getters.py\", line 51, in get_image\n",
       "    exp = best_effort_isr.getExposure(data_id, detector=0)\n",
       "  File \"/net/obs-env/auto_base_packages/summit_utils/python/lsst/summit/utils/bestEffort.py\", line 204, in getExposure\n",
       "    exp = self.butler.get(self._datasetName, dataId)\n",
       "  File \"/opt/lsst/software/stack/stack/miniconda3-py38_4.9.2-6.0.0/Linux64/daf_butler/gf80a4f1b81+02c8b8cb00/python/lsst/daf/butler/_butler.py\", line 1446, in get\n",
       "    ref = self._findDatasetRef(datasetRefOrType, dataId, collections=collections, **kwargs)\n",
       "  File \"/opt/lsst/software/stack/stack/miniconda3-py38_4.9.2-6.0.0/Linux64/daf_butler/gf80a4f1b81+02c8b8cb00/python/lsst/daf/butler/_butler.py\", line 1070, in _findDatasetRef\n",
       "    dataId, kwargs = self._rewrite_data_id(dataId, datasetType, **kwargs)\n",
       "  File \"/opt/lsst/software/stack/stack/miniconda3-py38_4.9.2-6.0.0/Linux64/daf_butler/gf80a4f1b81+02c8b8cb00/python/lsst/daf/butler/_butler.py\", line 995, in _rewrite_data_id\n",
       "    raise ValueError(\n",
       "ValueError: DataId specification for dimension exposure matched no records when constrained by {'day_obs': 20230525, 'seq_num': 129}\n",
       "</pre>"
      ],
      "text/plain": [
       "<IPython.core.display.HTML object>"
      ]
     },
     "metadata": {},
     "output_type": "display_data"
    },
    {
     "data": {
      "text/html": [
       "<pre style=\"margin: 0.1em;\n",
       "padding-left: 0.25em;\n",
       "border-left-style: solid;\n",
       "font-family: var(--jp-code-font-family);\n",
       "font-size: var(--jp-code-font-size);\n",
       "line-height: var(--jp-code-line-height);\n",
       "\"><span style=\"color: var(--jp-warn-color2)\">lsst.obs.base._fitsRawFormatterBase</span> <span style=\"color: var(--jp-warn-color0)\">WARNING</span>: Cannot create a valid WCS from metadata: CRPIX1</pre>"
      ],
      "text/plain": [
       "<IPython.core.display.HTML object>"
      ]
     },
     "metadata": {},
     "output_type": "display_data"
    },
    {
     "data": {
      "text/html": [
       "<pre style=\"margin: 0.1em;\n",
       "padding-left: 0.25em;\n",
       "border-left-style: solid;\n",
       "font-family: var(--jp-code-font-family);\n",
       "font-size: var(--jp-code-font-size);\n",
       "line-height: var(--jp-code-line-height);\n",
       "\"><span style=\"color: var(--jp-warn-color2)\">lsst.summit.utils.bestEffort</span> <span style=\"color: var(--jp-info-color0)\">INFO</span>: Using camera from cache...</pre>"
      ],
      "text/plain": [
       "<IPython.core.display.HTML object>"
      ]
     },
     "metadata": {},
     "output_type": "display_data"
    },
    {
     "data": {
      "text/html": [
       "<pre style=\"margin: 0.1em;\n",
       "padding-left: 0.25em;\n",
       "border-left-style: solid;\n",
       "font-family: var(--jp-code-font-family);\n",
       "font-size: var(--jp-code-font-size);\n",
       "line-height: var(--jp-code-line-height);\n",
       "\"><span style=\"color: var(--jp-warn-color2)\">lsst.summit.utils.bestEffort</span> <span style=\"color: var(--jp-info-color0)\">INFO</span>: Using bias from cache...</pre>"
      ],
      "text/plain": [
       "<IPython.core.display.HTML object>"
      ]
     },
     "metadata": {},
     "output_type": "display_data"
    },
    {
     "data": {
      "text/html": [
       "<pre style=\"margin: 0.1em;\n",
       "padding-left: 0.25em;\n",
       "border-left-style: solid;\n",
       "font-family: var(--jp-code-font-family);\n",
       "font-size: var(--jp-code-font-size);\n",
       "line-height: var(--jp-code-line-height);\n",
       "\"><span style=\"color: var(--jp-warn-color2)\">lsst.summit.utils.bestEffort</span> <span style=\"color: var(--jp-info-color0)\">INFO</span>: Using dark from cache...</pre>"
      ],
      "text/plain": [
       "<IPython.core.display.HTML object>"
      ]
     },
     "metadata": {},
     "output_type": "display_data"
    },
    {
     "data": {
      "text/html": [
       "<pre style=\"margin: 0.1em;\n",
       "padding-left: 0.25em;\n",
       "border-left-style: solid;\n",
       "font-family: var(--jp-code-font-family);\n",
       "font-size: var(--jp-code-font-size);\n",
       "line-height: var(--jp-code-line-height);\n",
       "\"><span style=\"color: var(--jp-warn-color2)\">lsst.summit.utils.bestEffort</span> <span style=\"color: var(--jp-info-color0)\">INFO</span>: Loaded flat to cache</pre>"
      ],
      "text/plain": [
       "<IPython.core.display.HTML object>"
      ]
     },
     "metadata": {},
     "output_type": "display_data"
    },
    {
     "data": {
      "text/html": [
       "<pre style=\"margin: 0.1em;\n",
       "padding-left: 0.25em;\n",
       "border-left-style: solid;\n",
       "font-family: var(--jp-code-font-family);\n",
       "font-size: var(--jp-code-font-size);\n",
       "line-height: var(--jp-code-line-height);\n",
       "\"><span style=\"color: var(--jp-warn-color2)\">lsst.summit.utils.bestEffort</span> <span style=\"color: var(--jp-info-color0)\">INFO</span>: Using defects from cache...</pre>"
      ],
      "text/plain": [
       "<IPython.core.display.HTML object>"
      ]
     },
     "metadata": {},
     "output_type": "display_data"
    },
    {
     "data": {
      "text/html": [
       "<pre style=\"margin: 0.1em;\n",
       "padding-left: 0.25em;\n",
       "border-left-style: solid;\n",
       "font-family: var(--jp-code-font-family);\n",
       "font-size: var(--jp-code-font-size);\n",
       "line-height: var(--jp-code-line-height);\n",
       "\"><span style=\"color: var(--jp-warn-color2)\">lsst.quickLook</span> <span style=\"color: var(--jp-info-color0)\">INFO</span>: Running with bias correction</pre>"
      ],
      "text/plain": [
       "<IPython.core.display.HTML object>"
      ]
     },
     "metadata": {},
     "output_type": "display_data"
    },
    {
     "data": {
      "text/html": [
       "<pre style=\"margin: 0.1em;\n",
       "padding-left: 0.25em;\n",
       "border-left-style: solid;\n",
       "font-family: var(--jp-code-font-family);\n",
       "font-size: var(--jp-code-font-size);\n",
       "line-height: var(--jp-code-line-height);\n",
       "\"><span style=\"color: var(--jp-warn-color2)\">lsst.quickLook</span> <span style=\"color: var(--jp-info-color0)\">INFO</span>: Running with dark correction</pre>"
      ],
      "text/plain": [
       "<IPython.core.display.HTML object>"
      ]
     },
     "metadata": {},
     "output_type": "display_data"
    },
    {
     "data": {
      "text/html": [
       "<pre style=\"margin: 0.1em;\n",
       "padding-left: 0.25em;\n",
       "border-left-style: solid;\n",
       "font-family: var(--jp-code-font-family);\n",
       "font-size: var(--jp-code-font-size);\n",
       "line-height: var(--jp-code-line-height);\n",
       "\"><span style=\"color: var(--jp-warn-color2)\">lsst.quickLook</span> <span style=\"color: var(--jp-info-color0)\">INFO</span>: Running with flat correction</pre>"
      ],
      "text/plain": [
       "<IPython.core.display.HTML object>"
      ]
     },
     "metadata": {},
     "output_type": "display_data"
    },
    {
     "data": {
      "text/html": [
       "<pre style=\"margin: 0.1em;\n",
       "padding-left: 0.25em;\n",
       "border-left-style: solid;\n",
       "font-family: var(--jp-code-font-family);\n",
       "font-size: var(--jp-code-font-size);\n",
       "line-height: var(--jp-code-line-height);\n",
       "\"><span style=\"color: var(--jp-warn-color2)\">lsst.quickLook</span> <span style=\"color: var(--jp-info-color0)\">INFO</span>: Running with defect correction</pre>"
      ],
      "text/plain": [
       "<IPython.core.display.HTML object>"
      ]
     },
     "metadata": {},
     "output_type": "display_data"
    },
    {
     "data": {
      "text/html": [
       "<pre style=\"margin: 0.1em;\n",
       "padding-left: 0.25em;\n",
       "border-left-style: solid;\n",
       "font-family: var(--jp-code-font-family);\n",
       "font-size: var(--jp-code-font-size);\n",
       "line-height: var(--jp-code-line-height);\n",
       "\"><span style=\"color: var(--jp-warn-color2)\">lsst.isr</span> <span style=\"color: var(--jp-info-color0)\">INFO</span>: Converting exposure to floating point values.</pre>"
      ],
      "text/plain": [
       "<IPython.core.display.HTML object>"
      ]
     },
     "metadata": {},
     "output_type": "display_data"
    },
    {
     "data": {
      "text/html": [
       "<pre style=\"margin: 0.1em;\n",
       "padding-left: 0.25em;\n",
       "border-left-style: solid;\n",
       "font-family: var(--jp-code-font-family);\n",
       "font-size: var(--jp-code-font-size);\n",
       "line-height: var(--jp-code-line-height);\n",
       "\"><span style=\"color: var(--jp-warn-color2)\">lsst.isr</span> <span style=\"color: var(--jp-info-color0)\">INFO</span>: Assembling CCD from amplifiers.</pre>"
      ],
      "text/plain": [
       "<IPython.core.display.HTML object>"
      ]
     },
     "metadata": {},
     "output_type": "display_data"
    },
    {
     "data": {
      "text/html": [
       "<pre style=\"margin: 0.1em;\n",
       "padding-left: 0.25em;\n",
       "border-left-style: solid;\n",
       "font-family: var(--jp-code-font-family);\n",
       "font-size: var(--jp-code-font-size);\n",
       "line-height: var(--jp-code-line-height);\n",
       "\"><span style=\"color: var(--jp-warn-color2)\">lsst.isr</span> <span style=\"color: var(--jp-info-color0)\">INFO</span>: Applying bias correction.</pre>"
      ],
      "text/plain": [
       "<IPython.core.display.HTML object>"
      ]
     },
     "metadata": {},
     "output_type": "display_data"
    },
    {
     "data": {
      "text/html": [
       "<pre style=\"margin: 0.1em;\n",
       "padding-left: 0.25em;\n",
       "border-left-style: solid;\n",
       "font-family: var(--jp-code-font-family);\n",
       "font-size: var(--jp-code-font-size);\n",
       "line-height: var(--jp-code-line-height);\n",
       "\"><span style=\"color: var(--jp-warn-color2)\">lsst.isr</span> <span style=\"color: var(--jp-info-color0)\">INFO</span>: Masking defects.</pre>"
      ],
      "text/plain": [
       "<IPython.core.display.HTML object>"
      ]
     },
     "metadata": {},
     "output_type": "display_data"
    },
    {
     "data": {
      "text/html": [
       "<pre style=\"margin: 0.1em;\n",
       "padding-left: 0.25em;\n",
       "border-left-style: solid;\n",
       "font-family: var(--jp-code-font-family);\n",
       "font-size: var(--jp-code-font-size);\n",
       "line-height: var(--jp-code-line-height);\n",
       "\"><span style=\"color: var(--jp-warn-color2)\">lsst.isr</span> <span style=\"color: var(--jp-info-color0)\">INFO</span>: Masking non-finite (NAN, inf) value pixels.</pre>"
      ],
      "text/plain": [
       "<IPython.core.display.HTML object>"
      ]
     },
     "metadata": {},
     "output_type": "display_data"
    },
    {
     "data": {
      "text/html": [
       "<pre style=\"margin: 0.1em;\n",
       "padding-left: 0.25em;\n",
       "border-left-style: solid;\n",
       "font-family: var(--jp-code-font-family);\n",
       "font-size: var(--jp-code-font-size);\n",
       "line-height: var(--jp-code-line-height);\n",
       "\"><span style=\"color: var(--jp-warn-color2)\">lsst.isr</span> <span style=\"color: var(--jp-info-color0)\">INFO</span>: Widening saturation trails.</pre>"
      ],
      "text/plain": [
       "<IPython.core.display.HTML object>"
      ]
     },
     "metadata": {},
     "output_type": "display_data"
    },
    {
     "data": {
      "text/html": [
       "<pre style=\"margin: 0.1em;\n",
       "padding-left: 0.25em;\n",
       "border-left-style: solid;\n",
       "font-family: var(--jp-code-font-family);\n",
       "font-size: var(--jp-code-font-size);\n",
       "line-height: var(--jp-code-line-height);\n",
       "\"><span style=\"color: var(--jp-warn-color2)\">lsst.isr</span> <span style=\"color: var(--jp-info-color0)\">INFO</span>: Applying dark correction.</pre>"
      ],
      "text/plain": [
       "<IPython.core.display.HTML object>"
      ]
     },
     "metadata": {},
     "output_type": "display_data"
    },
    {
     "data": {
      "text/html": [
       "<pre style=\"margin: 0.1em;\n",
       "padding-left: 0.25em;\n",
       "border-left-style: solid;\n",
       "font-family: var(--jp-code-font-family);\n",
       "font-size: var(--jp-code-font-size);\n",
       "line-height: var(--jp-code-line-height);\n",
       "\"><span style=\"color: var(--jp-warn-color2)\">lsst.isr</span> <span style=\"color: var(--jp-info-color0)\">INFO</span>: Applying flat correction.</pre>"
      ],
      "text/plain": [
       "<IPython.core.display.HTML object>"
      ]
     },
     "metadata": {},
     "output_type": "display_data"
    },
    {
     "data": {
      "text/html": [
       "<pre style=\"margin: 0.1em;\n",
       "padding-left: 0.25em;\n",
       "border-left-style: solid;\n",
       "font-family: var(--jp-code-font-family);\n",
       "font-size: var(--jp-code-font-size);\n",
       "line-height: var(--jp-code-line-height);\n",
       "\"><span style=\"color: var(--jp-warn-color2)\">lsst.isr</span> <span style=\"color: var(--jp-info-color0)\">INFO</span>: Set 322444 BAD pixels to 0.085674.</pre>"
      ],
      "text/plain": [
       "<IPython.core.display.HTML object>"
      ]
     },
     "metadata": {},
     "output_type": "display_data"
    },
    {
     "data": {
      "text/html": [
       "<pre style=\"margin: 0.1em;\n",
       "padding-left: 0.25em;\n",
       "border-left-style: solid;\n",
       "font-family: var(--jp-code-font-family);\n",
       "font-size: var(--jp-code-font-size);\n",
       "line-height: var(--jp-code-line-height);\n",
       "\"><span style=\"color: var(--jp-warn-color2)\">lsst.isr</span> <span style=\"color: var(--jp-info-color0)\">INFO</span>: Interpolating masked pixels.</pre>"
      ],
      "text/plain": [
       "<IPython.core.display.HTML object>"
      ]
     },
     "metadata": {},
     "output_type": "display_data"
    },
    {
     "data": {
      "text/html": [
       "<pre style=\"margin: 0.1em;\n",
       "padding-left: 0.25em;\n",
       "border-left-style: solid;\n",
       "font-family: var(--jp-code-font-family);\n",
       "font-size: var(--jp-code-font-size);\n",
       "line-height: var(--jp-code-line-height);\n",
       "\"><span style=\"color: var(--jp-warn-color2)\">lsst.isr</span> <span style=\"color: var(--jp-warn-color0)\">WARNING</span>: No rough magnitude zero point defined for filter SDSSg_65mm~empty.</pre>"
      ],
      "text/plain": [
       "<IPython.core.display.HTML object>"
      ]
     },
     "metadata": {},
     "output_type": "display_data"
    },
    {
     "data": {
      "text/html": [
       "<pre style=\"margin: 0.1em;\n",
       "padding-left: 0.25em;\n",
       "border-left-style: solid;\n",
       "font-family: var(--jp-code-font-family);\n",
       "font-size: var(--jp-code-font-size);\n",
       "line-height: var(--jp-code-line-height);\n",
       "\"><span style=\"color: var(--jp-warn-color2)\">lsst.isr</span> <span style=\"color: var(--jp-info-color0)\">INFO</span>: Setting rough magnitude zero point for filter SDSSg_65mm~empty: 28.000000</pre>"
      ],
      "text/plain": [
       "<IPython.core.display.HTML object>"
      ]
     },
     "metadata": {},
     "output_type": "display_data"
    },
    {
     "data": {
      "text/html": [
       "<pre style=\"margin: 0.1em;\n",
       "padding-left: 0.25em;\n",
       "border-left-style: solid;\n",
       "font-family: var(--jp-code-font-family);\n",
       "font-size: var(--jp-code-font-size);\n",
       "line-height: var(--jp-code-line-height);\n",
       "\"><span style=\"color: var(--jp-warn-color2)\">lsst.quickLook</span> <span style=\"color: var(--jp-info-color0)\">INFO</span>: Repairing cosmics...</pre>"
      ],
      "text/plain": [
       "<IPython.core.display.HTML object>"
      ]
     },
     "metadata": {},
     "output_type": "display_data"
    },
    {
     "data": {
      "text/html": [
       "<pre style=\"margin: 0.1em;\n",
       "padding-left: 0.25em;\n",
       "border-left-style: solid;\n",
       "font-family: var(--jp-code-font-family);\n",
       "font-size: var(--jp-code-font-size);\n",
       "line-height: var(--jp-code-line-height);\n",
       "\"><span style=\"color: var(--jp-warn-color2)\">lsst.characterizeImage.repair</span> <span style=\"color: var(--jp-info-color0)\">INFO</span>: Identified 21 cosmic rays.</pre>"
      ],
      "text/plain": [
       "<IPython.core.display.HTML object>"
      ]
     },
     "metadata": {},
     "output_type": "display_data"
    },
    {
     "data": {
      "text/html": [
       "<pre style=\"margin: 0.1em;\n",
       "padding-left: 0.25em;\n",
       "border-left-style: solid;\n",
       "font-family: var(--jp-code-font-family);\n",
       "font-size: var(--jp-code-font-size);\n",
       "line-height: var(--jp-code-line-height);\n",
       "\"><span style=\"color: var(--jp-warn-color2)\">lsst.summit.utils.bestEffort</span> <span style=\"color: var(--jp-warn-color0)\">WARNING</span>: Skipped putting existing exp into collection! (ignore if there was a race)</pre>"
      ],
      "text/plain": [
       "<IPython.core.display.HTML object>"
      ]
     },
     "metadata": {},
     "output_type": "display_data"
    },
    {
     "data": {
      "text/html": [
       "<pre style=\"margin: 0.1em;\n",
       "padding-left: 0.25em;\n",
       "border-left-style: solid;\n",
       "font-family: var(--jp-code-font-family);\n",
       "font-size: var(--jp-code-font-size);\n",
       "line-height: var(--jp-code-line-height);\n",
       "\"><span style=\"color: var(--jp-warn-color2)\">Sky Flats 2023-05-25 21:47:02.945729 UT</span> <span style=\"color: var(--jp-info-color0)\">INFO</span>: Exposure ID: 2023052500129</pre>"
      ],
      "text/plain": [
       "<IPython.core.display.HTML object>"
      ]
     },
     "metadata": {},
     "output_type": "display_data"
    },
    {
     "data": {
      "text/html": [
       "<pre style=\"margin: 0.1em;\n",
       "padding-left: 0.25em;\n",
       "border-left-style: solid;\n",
       "font-family: var(--jp-code-font-family);\n",
       "font-size: var(--jp-code-font-size);\n",
       "line-height: var(--jp-code-line-height);\n",
       "\"><span style=\"color: var(--jp-warn-color2)\">Sky Flats 2023-05-25 21:47:02.945729 UT</span> <span style=\"color: var(--jp-info-color0)\">INFO</span>:     Median: 0.08559796959161758</pre>"
      ],
      "text/plain": [
       "<IPython.core.display.HTML object>"
      ]
     },
     "metadata": {},
     "output_type": "display_data"
    },
    {
     "data": {
      "text/html": [
       "<pre style=\"margin: 0.1em;\n",
       "padding-left: 0.25em;\n",
       "border-left-style: solid;\n",
       "font-family: var(--jp-code-font-family);\n",
       "font-size: var(--jp-code-font-size);\n",
       "line-height: var(--jp-code-line-height);\n",
       "\"><span style=\"color: var(--jp-warn-color2)\">Sky Flats 2023-05-25 21:47:02.945729 UT</span> <span style=\"color: var(--jp-info-color0)\">INFO</span>:     Mean: 0.9557961713144284</pre>"
      ],
      "text/plain": [
       "<IPython.core.display.HTML object>"
      ]
     },
     "metadata": {},
     "output_type": "display_data"
    },
    {
     "data": {
      "text/html": [
       "<pre style=\"margin: 0.1em;\n",
       "padding-left: 0.25em;\n",
       "border-left-style: solid;\n",
       "font-family: var(--jp-code-font-family);\n",
       "font-size: var(--jp-code-font-size);\n",
       "line-height: var(--jp-code-line-height);\n",
       "\"><span style=\"color: var(--jp-warn-color2)\">Sky Flats 2023-05-25 21:47:02.945729 UT</span> <span style=\"color: var(--jp-info-color0)\">INFO</span>:     Std: 437.10232947439397</pre>"
      ],
      "text/plain": [
       "<IPython.core.display.HTML object>"
      ]
     },
     "metadata": {},
     "output_type": "display_data"
    }
   ],
   "source": [
    "# Take image\n",
    "test_exp = await latiss.take_flats(\n",
    "    exptime=1, nflats=1, filter=filters[0], grating='empty_1', reason=\"test\", program=\"test\")\n",
    "\n",
    "print(f\"The test exposure is {test_exp[0]} with {filters[0]}\")\n",
    "\n",
    "signal_level = await verify_counts(test_exp[0])"
   ]
  },
  {
   "cell_type": "markdown",
   "id": "07627de7",
   "metadata": {},
   "source": [
    "## Start Sequence\n",
    "\n",
    "Now that we have our start point for the bluest filter, we take triplets of sky flats with offsets of 30 arcsec between each. \n",
    "\n",
    "Confirm signal levels as they show up in RubinTv. "
   ]
  },
  {
   "cell_type": "code",
   "execution_count": 84,
   "id": "71298825-0ef7-4b77-94f7-1c56b823de92",
   "metadata": {
    "execution": {
     "iopub.execute_input": "2023-05-25T22:05:12.209939Z",
     "iopub.status.busy": "2023-05-25T22:05:12.209598Z",
     "iopub.status.idle": "2023-05-25T22:05:49.197946Z",
     "shell.execute_reply": "2023-05-25T22:05:49.197432Z",
     "shell.execute_reply.started": "2023-05-25T22:05:12.209922Z"
    },
    "tags": []
   },
   "outputs": [
    {
     "data": {
      "text/html": [
       "<pre style=\"margin: 0.1em;\n",
       "padding-left: 0.25em;\n",
       "border-left-style: solid;\n",
       "font-family: var(--jp-code-font-family);\n",
       "font-size: var(--jp-code-font-size);\n",
       "line-height: var(--jp-code-line-height);\n",
       "\"><span style=\"color: var(--jp-warn-color2)\">Sky Flats 2023-05-25 21:47:02.945729 UT</span> <span style=\"color: var(--jp-info-color0)\">INFO</span>: \n",
       "\n",
       " Filter is now empty_1 \n",
       "\n",
       "</pre>"
      ],
      "text/plain": [
       "<IPython.core.display.HTML object>"
      ]
     },
     "metadata": {},
     "output_type": "display_data"
    },
    {
     "data": {
      "text/html": [
       "<pre style=\"margin: 0.1em;\n",
       "padding-left: 0.25em;\n",
       "border-left-style: solid;\n",
       "font-family: var(--jp-code-font-family);\n",
       "font-size: var(--jp-code-font-size);\n",
       "line-height: var(--jp-code-line-height);\n",
       "\"><span style=\"color: var(--jp-warn-color2)\">ATHeaderService.logevent_logMessage</span> <span style=\"color: var(--jp-warn-color0)\">WARNING</span>: evt_logMessage DDS read queue is filling: 15 of 100 elements</pre>"
      ],
      "text/plain": [
       "<IPython.core.display.HTML object>"
      ]
     },
     "metadata": {},
     "output_type": "display_data"
    },
    {
     "data": {
      "text/html": [
       "<pre style=\"margin: 0.1em;\n",
       "padding-left: 0.25em;\n",
       "border-left-style: solid;\n",
       "font-family: var(--jp-code-font-family);\n",
       "font-size: var(--jp-code-font-size);\n",
       "line-height: var(--jp-code-line-height);\n",
       "\"><span style=\"color: var(--jp-warn-color2)\">ATHeaderService.logevent_logMessage</span> <span style=\"color: var(--jp-warn-color0)\">WARNING</span>: evt_logMessage DDS read queue is filling: 86 of 100 elements</pre>"
      ],
      "text/plain": [
       "<IPython.core.display.HTML object>"
      ]
     },
     "metadata": {},
     "output_type": "display_data"
    },
    {
     "data": {
      "text/html": [
       "<pre style=\"margin: 0.1em;\n",
       "padding-left: 0.25em;\n",
       "border-left-style: solid;\n",
       "font-family: var(--jp-code-font-family);\n",
       "font-size: var(--jp-code-font-size);\n",
       "line-height: var(--jp-code-line-height);\n",
       "\"><span style=\"color: var(--jp-warn-color2)\">ATHeaderService.logevent_logMessage</span> <span style=\"color: var(--jp-warn-color0)\">WARNING</span>: evt_logMessage DDS read queue is filling: 86 of 100 elements</pre>"
      ],
      "text/plain": [
       "<IPython.core.display.HTML object>"
      ]
     },
     "metadata": {},
     "output_type": "display_data"
    },
    {
     "data": {
      "text/html": [
       "<pre style=\"margin: 0.1em;\n",
       "padding-left: 0.25em;\n",
       "border-left-style: solid;\n",
       "font-family: var(--jp-code-font-family);\n",
       "font-size: var(--jp-code-font-size);\n",
       "line-height: var(--jp-code-line-height);\n",
       "\"><span style=\"color: var(--jp-warn-color2)\">ATHeaderService.logevent_logMessage</span> <span style=\"color: var(--jp-warn-color0)\">WARNING</span>: evt_logMessage DDS read queue is filling: 79 of 100 elements</pre>"
      ],
      "text/plain": [
       "<IPython.core.display.HTML object>"
      ]
     },
     "metadata": {},
     "output_type": "display_data"
    },
    {
     "data": {
      "text/html": [
       "<pre style=\"margin: 0.1em;\n",
       "padding-left: 0.25em;\n",
       "border-left-style: solid;\n",
       "font-family: var(--jp-code-font-family);\n",
       "font-size: var(--jp-code-font-size);\n",
       "line-height: var(--jp-code-line-height);\n",
       "\"><span style=\"color: var(--jp-warn-color2)\">ATHeaderService.logevent_logMessage</span> <span style=\"color: var(--jp-warn-color0)\">WARNING</span>: evt_logMessage DDS read queue is filling: 13 of 100 elements</pre>"
      ],
      "text/plain": [
       "<IPython.core.display.HTML object>"
      ]
     },
     "metadata": {},
     "output_type": "display_data"
    },
    {
     "data": {
      "text/html": [
       "<pre style=\"margin: 0.1em;\n",
       "padding-left: 0.25em;\n",
       "border-left-style: solid;\n",
       "font-family: var(--jp-code-font-family);\n",
       "font-size: var(--jp-code-font-size);\n",
       "line-height: var(--jp-code-line-height);\n",
       "\"><span style=\"color: var(--jp-warn-color2)\">ATHeaderService.logevent_logMessage</span> <span style=\"color: var(--jp-warn-color0)\">WARNING</span>: evt_logMessage DDS read queue is filling: 13 of 100 elements</pre>"
      ],
      "text/plain": [
       "<IPython.core.display.HTML object>"
      ]
     },
     "metadata": {},
     "output_type": "display_data"
    },
    {
     "data": {
      "text/html": [
       "<pre style=\"margin: 0.1em;\n",
       "padding-left: 0.25em;\n",
       "border-left-style: solid;\n",
       "font-family: var(--jp-code-font-family);\n",
       "font-size: var(--jp-code-font-size);\n",
       "line-height: var(--jp-code-line-height);\n",
       "\"><span style=\"color: var(--jp-warn-color2)\">ATHeaderService.logevent_logMessage</span> <span style=\"color: var(--jp-warn-color0)\">WARNING</span>: evt_logMessage DDS read queue is filling: 13 of 100 elements</pre>"
      ],
      "text/plain": [
       "<IPython.core.display.HTML object>"
      ]
     },
     "metadata": {},
     "output_type": "display_data"
    },
    {
     "data": {
      "text/html": [
       "<pre style=\"margin: 0.1em;\n",
       "padding-left: 0.25em;\n",
       "border-left-style: solid;\n",
       "font-family: var(--jp-code-font-family);\n",
       "font-size: var(--jp-code-font-size);\n",
       "line-height: var(--jp-code-line-height);\n",
       "\"><span style=\"color: var(--jp-warn-color2)\">ATHeaderService.logevent_logMessage</span> <span style=\"color: var(--jp-warn-color0)\">WARNING</span>: evt_logMessage DDS read queue is filling: 57 of 100 elements</pre>"
      ],
      "text/plain": [
       "<IPython.core.display.HTML object>"
      ]
     },
     "metadata": {},
     "output_type": "display_data"
    },
    {
     "data": {
      "text/html": [
       "<pre style=\"margin: 0.1em;\n",
       "padding-left: 0.25em;\n",
       "border-left-style: solid;\n",
       "font-family: var(--jp-code-font-family);\n",
       "font-size: var(--jp-code-font-size);\n",
       "line-height: var(--jp-code-line-height);\n",
       "\"><span style=\"color: var(--jp-warn-color2)\">ATHeaderService.logevent_logMessage</span> <span style=\"color: var(--jp-warn-color0)\">WARNING</span>: evt_logMessage DDS read queue is filling: 74 of 100 elements</pre>"
      ],
      "text/plain": [
       "<IPython.core.display.HTML object>"
      ]
     },
     "metadata": {},
     "output_type": "display_data"
    },
    {
     "data": {
      "text/html": [
       "<pre style=\"margin: 0.1em;\n",
       "padding-left: 0.25em;\n",
       "border-left-style: solid;\n",
       "font-family: var(--jp-code-font-family);\n",
       "font-size: var(--jp-code-font-size);\n",
       "line-height: var(--jp-code-line-height);\n",
       "\"><span style=\"color: var(--jp-warn-color2)\">ATHeaderService.logevent_logMessage</span> <span style=\"color: var(--jp-warn-color0)\">WARNING</span>: evt_logMessage DDS read queue is filling: 13 of 100 elements</pre>"
      ],
      "text/plain": [
       "<IPython.core.display.HTML object>"
      ]
     },
     "metadata": {},
     "output_type": "display_data"
    },
    {
     "data": {
      "text/html": [
       "<pre style=\"margin: 0.1em;\n",
       "padding-left: 0.25em;\n",
       "border-left-style: solid;\n",
       "font-family: var(--jp-code-font-family);\n",
       "font-size: var(--jp-code-font-size);\n",
       "line-height: var(--jp-code-line-height);\n",
       "\"><span style=\"color: var(--jp-warn-color2)\">ATHeaderService.logevent_logMessage</span> <span style=\"color: var(--jp-warn-color0)\">WARNING</span>: evt_logMessage DDS read queue is filling: 13 of 100 elements</pre>"
      ],
      "text/plain": [
       "<IPython.core.display.HTML object>"
      ]
     },
     "metadata": {},
     "output_type": "display_data"
    },
    {
     "data": {
      "text/html": [
       "<pre style=\"margin: 0.1em;\n",
       "padding-left: 0.25em;\n",
       "border-left-style: solid;\n",
       "font-family: var(--jp-code-font-family);\n",
       "font-size: var(--jp-code-font-size);\n",
       "line-height: var(--jp-code-line-height);\n",
       "\"><span style=\"color: var(--jp-warn-color2)\">ATHeaderService.logevent_logMessage</span> <span style=\"color: var(--jp-warn-color0)\">WARNING</span>: evt_logMessage DDS read queue is filling: 13 of 100 elements</pre>"
      ],
      "text/plain": [
       "<IPython.core.display.HTML object>"
      ]
     },
     "metadata": {},
     "output_type": "display_data"
    },
    {
     "data": {
      "text/html": [
       "<pre style=\"margin: 0.1em;\n",
       "padding-left: 0.25em;\n",
       "border-left-style: solid;\n",
       "font-family: var(--jp-code-font-family);\n",
       "font-size: var(--jp-code-font-size);\n",
       "line-height: var(--jp-code-line-height);\n",
       "\"><span style=\"color: var(--jp-warn-color2)\">ATHeaderService.logevent_logMessage</span> <span style=\"color: var(--jp-warn-color0)\">WARNING</span>: evt_logMessage DDS read queue is filling: 66 of 100 elements</pre>"
      ],
      "text/plain": [
       "<IPython.core.display.HTML object>"
      ]
     },
     "metadata": {},
     "output_type": "display_data"
    },
    {
     "data": {
      "text/html": [
       "<pre style=\"margin: 0.1em;\n",
       "padding-left: 0.25em;\n",
       "border-left-style: solid;\n",
       "font-family: var(--jp-code-font-family);\n",
       "font-size: var(--jp-code-font-size);\n",
       "line-height: var(--jp-code-line-height);\n",
       "\"><span style=\"color: var(--jp-warn-color2)\">ATHeaderService.logevent_logMessage</span> <span style=\"color: var(--jp-warn-color0)\">WARNING</span>: evt_logMessage DDS read queue is filling: 12 of 100 elements</pre>"
      ],
      "text/plain": [
       "<IPython.core.display.HTML object>"
      ]
     },
     "metadata": {},
     "output_type": "display_data"
    },
    {
     "data": {
      "text/html": [
       "<pre style=\"margin: 0.1em;\n",
       "padding-left: 0.25em;\n",
       "border-left-style: solid;\n",
       "font-family: var(--jp-code-font-family);\n",
       "font-size: var(--jp-code-font-size);\n",
       "line-height: var(--jp-code-line-height);\n",
       "\"><span style=\"color: var(--jp-warn-color2)\">ATHeaderService.logevent_logMessage</span> <span style=\"color: var(--jp-warn-color0)\">WARNING</span>: evt_logMessage DDS read queue is filling: 13 of 100 elements</pre>"
      ],
      "text/plain": [
       "<IPython.core.display.HTML object>"
      ]
     },
     "metadata": {},
     "output_type": "display_data"
    },
    {
     "data": {
      "text/html": [
       "<pre style=\"margin: 0.1em;\n",
       "padding-left: 0.25em;\n",
       "border-left-style: solid;\n",
       "font-family: var(--jp-code-font-family);\n",
       "font-size: var(--jp-code-font-size);\n",
       "line-height: var(--jp-code-line-height);\n",
       "\"><span style=\"color: var(--jp-warn-color2)\">ATHeaderService.logevent_logMessage</span> <span style=\"color: var(--jp-warn-color0)\">WARNING</span>: evt_logMessage DDS read queue is filling: 14 of 100 elements</pre>"
      ],
      "text/plain": [
       "<IPython.core.display.HTML object>"
      ]
     },
     "metadata": {},
     "output_type": "display_data"
    },
    {
     "data": {
      "text/html": [
       "<pre style=\"margin: 0.1em;\n",
       "padding-left: 0.25em;\n",
       "border-left-style: solid;\n",
       "font-family: var(--jp-code-font-family);\n",
       "font-size: var(--jp-code-font-size);\n",
       "line-height: var(--jp-code-line-height);\n",
       "\"><span style=\"color: var(--jp-warn-color2)\">ATHeaderService.logevent_logMessage</span> <span style=\"color: var(--jp-warn-color0)\">WARNING</span>: evt_logMessage DDS read queue is filling: 67 of 100 elements</pre>"
      ],
      "text/plain": [
       "<IPython.core.display.HTML object>"
      ]
     },
     "metadata": {},
     "output_type": "display_data"
    },
    {
     "data": {
      "text/html": [
       "<pre style=\"margin: 0.1em;\n",
       "padding-left: 0.25em;\n",
       "border-left-style: solid;\n",
       "font-family: var(--jp-code-font-family);\n",
       "font-size: var(--jp-code-font-size);\n",
       "line-height: var(--jp-code-line-height);\n",
       "\"><span style=\"color: var(--jp-warn-color2)\">ATHeaderService.logevent_logMessage</span> <span style=\"color: var(--jp-warn-color0)\">WARNING</span>: evt_logMessage DDS read queue is filling: 12 of 100 elements</pre>"
      ],
      "text/plain": [
       "<IPython.core.display.HTML object>"
      ]
     },
     "metadata": {},
     "output_type": "display_data"
    },
    {
     "data": {
      "text/html": [
       "<pre style=\"margin: 0.1em;\n",
       "padding-left: 0.25em;\n",
       "border-left-style: solid;\n",
       "font-family: var(--jp-code-font-family);\n",
       "font-size: var(--jp-code-font-size);\n",
       "line-height: var(--jp-code-line-height);\n",
       "\"><span style=\"color: var(--jp-warn-color2)\">ATHeaderService.logevent_logMessage</span> <span style=\"color: var(--jp-warn-color0)\">WARNING</span>: evt_logMessage DDS read queue is filling: 12 of 100 elements</pre>"
      ],
      "text/plain": [
       "<IPython.core.display.HTML object>"
      ]
     },
     "metadata": {},
     "output_type": "display_data"
    },
    {
     "data": {
      "text/html": [
       "<pre style=\"margin: 0.1em;\n",
       "padding-left: 0.25em;\n",
       "border-left-style: solid;\n",
       "font-family: var(--jp-code-font-family);\n",
       "font-size: var(--jp-code-font-size);\n",
       "line-height: var(--jp-code-line-height);\n",
       "\"><span style=\"color: var(--jp-warn-color2)\">ATHeaderService.logevent_logMessage</span> <span style=\"color: var(--jp-warn-color0)\">WARNING</span>: evt_logMessage DDS read queue is filling: 12 of 100 elements</pre>"
      ],
      "text/plain": [
       "<IPython.core.display.HTML object>"
      ]
     },
     "metadata": {},
     "output_type": "display_data"
    },
    {
     "data": {
      "text/html": [
       "<pre style=\"margin: 0.1em;\n",
       "padding-left: 0.25em;\n",
       "border-left-style: solid;\n",
       "font-family: var(--jp-code-font-family);\n",
       "font-size: var(--jp-code-font-size);\n",
       "line-height: var(--jp-code-line-height);\n",
       "\"><span style=\"color: var(--jp-warn-color2)\">ATHeaderService.logevent_logMessage</span> <span style=\"color: var(--jp-warn-color0)\">WARNING</span>: evt_logMessage DDS read queue is filling: 54 of 100 elements</pre>"
      ],
      "text/plain": [
       "<IPython.core.display.HTML object>"
      ]
     },
     "metadata": {},
     "output_type": "display_data"
    },
    {
     "data": {
      "text/html": [
       "<pre style=\"margin: 0.1em;\n",
       "padding-left: 0.25em;\n",
       "border-left-style: solid;\n",
       "font-family: var(--jp-code-font-family);\n",
       "font-size: var(--jp-code-font-size);\n",
       "line-height: var(--jp-code-line-height);\n",
       "\"><span style=\"color: var(--jp-warn-color2)\">ATHeaderService.logevent_logMessage</span> <span style=\"color: var(--jp-warn-color0)\">WARNING</span>: evt_logMessage DDS read queue is filling: 75 of 100 elements</pre>"
      ],
      "text/plain": [
       "<IPython.core.display.HTML object>"
      ]
     },
     "metadata": {},
     "output_type": "display_data"
    },
    {
     "data": {
      "text/html": [
       "<pre style=\"margin: 0.1em;\n",
       "padding-left: 0.25em;\n",
       "border-left-style: solid;\n",
       "font-family: var(--jp-code-font-family);\n",
       "font-size: var(--jp-code-font-size);\n",
       "line-height: var(--jp-code-line-height);\n",
       "\"><span style=\"color: var(--jp-warn-color2)\">ATHeaderService.logevent_logMessage</span> <span style=\"color: var(--jp-warn-color0)\">WARNING</span>: evt_logMessage DDS read queue is filling: 11 of 100 elements</pre>"
      ],
      "text/plain": [
       "<IPython.core.display.HTML object>"
      ]
     },
     "metadata": {},
     "output_type": "display_data"
    },
    {
     "data": {
      "text/html": [
       "<pre style=\"margin: 0.1em;\n",
       "padding-left: 0.25em;\n",
       "border-left-style: solid;\n",
       "font-family: var(--jp-code-font-family);\n",
       "font-size: var(--jp-code-font-size);\n",
       "line-height: var(--jp-code-line-height);\n",
       "\"><span style=\"color: var(--jp-warn-color2)\">ATHeaderService.logevent_logMessage</span> <span style=\"color: var(--jp-warn-color0)\">WARNING</span>: evt_logMessage DDS read queue is filling: 11 of 100 elements</pre>"
      ],
      "text/plain": [
       "<IPython.core.display.HTML object>"
      ]
     },
     "metadata": {},
     "output_type": "display_data"
    },
    {
     "data": {
      "text/html": [
       "<pre style=\"margin: 0.1em;\n",
       "padding-left: 0.25em;\n",
       "border-left-style: solid;\n",
       "font-family: var(--jp-code-font-family);\n",
       "font-size: var(--jp-code-font-size);\n",
       "line-height: var(--jp-code-line-height);\n",
       "\"><span style=\"color: var(--jp-warn-color2)\">ATHeaderService.logevent_logMessage</span> <span style=\"color: var(--jp-warn-color0)\">WARNING</span>: evt_logMessage DDS read queue is filling: 11 of 100 elements</pre>"
      ],
      "text/plain": [
       "<IPython.core.display.HTML object>"
      ]
     },
     "metadata": {},
     "output_type": "display_data"
    },
    {
     "data": {
      "text/html": [
       "<pre style=\"margin: 0.1em;\n",
       "padding-left: 0.25em;\n",
       "border-left-style: solid;\n",
       "font-family: var(--jp-code-font-family);\n",
       "font-size: var(--jp-code-font-size);\n",
       "line-height: var(--jp-code-line-height);\n",
       "\"><span style=\"color: var(--jp-warn-color2)\">ATHeaderService.logevent_logMessage</span> <span style=\"color: var(--jp-warn-color0)\">WARNING</span>: evt_logMessage DDS read queue is filling: 51 of 100 elements</pre>"
      ],
      "text/plain": [
       "<IPython.core.display.HTML object>"
      ]
     },
     "metadata": {},
     "output_type": "display_data"
    },
    {
     "data": {
      "text/html": [
       "<pre style=\"margin: 0.1em;\n",
       "padding-left: 0.25em;\n",
       "border-left-style: solid;\n",
       "font-family: var(--jp-code-font-family);\n",
       "font-size: var(--jp-code-font-size);\n",
       "line-height: var(--jp-code-line-height);\n",
       "\"><span style=\"color: var(--jp-warn-color2)\">ATHeaderService.logevent_logMessage</span> <span style=\"color: var(--jp-warn-color0)\">WARNING</span>: evt_logMessage DDS read queue is filling: 66 of 100 elements</pre>"
      ],
      "text/plain": [
       "<IPython.core.display.HTML object>"
      ]
     },
     "metadata": {},
     "output_type": "display_data"
    },
    {
     "data": {
      "text/html": [
       "<pre style=\"margin: 0.1em;\n",
       "padding-left: 0.25em;\n",
       "border-left-style: solid;\n",
       "font-family: var(--jp-code-font-family);\n",
       "font-size: var(--jp-code-font-size);\n",
       "line-height: var(--jp-code-line-height);\n",
       "\"><span style=\"color: var(--jp-warn-color2)\">ATHeaderService.logevent_logMessage</span> <span style=\"color: var(--jp-warn-color0)\">WARNING</span>: evt_logMessage DDS read queue is filling: 11 of 100 elements</pre>"
      ],
      "text/plain": [
       "<IPython.core.display.HTML object>"
      ]
     },
     "metadata": {},
     "output_type": "display_data"
    },
    {
     "data": {
      "text/html": [
       "<pre style=\"margin: 0.1em;\n",
       "padding-left: 0.25em;\n",
       "border-left-style: solid;\n",
       "font-family: var(--jp-code-font-family);\n",
       "font-size: var(--jp-code-font-size);\n",
       "line-height: var(--jp-code-line-height);\n",
       "\"><span style=\"color: var(--jp-warn-color2)\">ATHeaderService.logevent_logMessage</span> <span style=\"color: var(--jp-warn-color0)\">WARNING</span>: evt_logMessage DDS read queue is filling: 23 of 100 elements</pre>"
      ],
      "text/plain": [
       "<IPython.core.display.HTML object>"
      ]
     },
     "metadata": {},
     "output_type": "display_data"
    },
    {
     "data": {
      "text/html": [
       "<pre style=\"margin: 0.1em;\n",
       "padding-left: 0.25em;\n",
       "border-left-style: solid;\n",
       "font-family: var(--jp-code-font-family);\n",
       "font-size: var(--jp-code-font-size);\n",
       "line-height: var(--jp-code-line-height);\n",
       "\"><span style=\"color: var(--jp-warn-color2)\">ATHeaderService.logevent_logMessage</span> <span style=\"color: var(--jp-warn-color0)\">WARNING</span>: evt_logMessage DDS read queue is filling: 40 of 100 elements</pre>"
      ],
      "text/plain": [
       "<IPython.core.display.HTML object>"
      ]
     },
     "metadata": {},
     "output_type": "display_data"
    },
    {
     "data": {
      "text/html": [
       "<pre style=\"margin: 0.1em;\n",
       "padding-left: 0.25em;\n",
       "border-left-style: solid;\n",
       "font-family: var(--jp-code-font-family);\n",
       "font-size: var(--jp-code-font-size);\n",
       "line-height: var(--jp-code-line-height);\n",
       "\"><span style=\"color: var(--jp-warn-color2)\">ATHeaderService.logevent_logMessage</span> <span style=\"color: var(--jp-warn-color0)\">WARNING</span>: evt_logMessage DDS read queue is filling: 61 of 100 elements</pre>"
      ],
      "text/plain": [
       "<IPython.core.display.HTML object>"
      ]
     },
     "metadata": {},
     "output_type": "display_data"
    },
    {
     "data": {
      "text/html": [
       "<pre style=\"margin: 0.1em;\n",
       "padding-left: 0.25em;\n",
       "border-left-style: solid;\n",
       "font-family: var(--jp-code-font-family);\n",
       "font-size: var(--jp-code-font-size);\n",
       "line-height: var(--jp-code-line-height);\n",
       "\"><span style=\"color: var(--jp-warn-color2)\">Sky Flats 2023-05-25 21:47:02.945729 UT</span> <span style=\"color: var(--jp-info-color0)\">INFO</span>: Sky flats triplets with 1 seconds exposure time and filter empty_1 are [2023052500075], [2023052500076] and [2023052500077]</pre>"
      ],
      "text/plain": [
       "<IPython.core.display.HTML object>"
      ]
     },
     "metadata": {},
     "output_type": "display_data"
    },
    {
     "data": {
      "text/html": [
       "<pre style=\"margin: 0.1em;\n",
       "padding-left: 0.25em;\n",
       "border-left-style: solid;\n",
       "font-family: var(--jp-code-font-family);\n",
       "font-size: var(--jp-code-font-size);\n",
       "line-height: var(--jp-code-line-height);\n",
       "\"><span style=\"color: var(--jp-warn-color2)\">Sky Flats 2023-05-25 21:47:02.945729 UT</span> <span style=\"color: var(--jp-info-color0)\">INFO</span>: Changing filters</pre>"
      ],
      "text/plain": [
       "<IPython.core.display.HTML object>"
      ]
     },
     "metadata": {},
     "output_type": "display_data"
    }
   ],
   "source": [
    "exposure_time = starting_exposure_time[filters[0]]\n",
    "\n",
    "for filter_to_use in filters:\n",
    "    logger.info(f\"\\n\\n Filter is now {filter_to_use} \\n\\n\")    \n",
    "\n",
    "    flats_done = False\n",
    "    is_saturated = True\n",
    "    max_exposure_time = 30 \n",
    "\n",
    "    while not flats_done:\n",
    "        \n",
    "        while is_saturated:\n",
    "            background_level_exposure = await latiss.take_flats(\n",
    "                exptime=exposure_time, nflats=1, filter=filter_to_use, grating='empty_1', reason=\"test_background_level\", program=\"SITCOM-790\")\n",
    "\n",
    "                background_level = await verify_counts(background_level_exposure) \n",
    "            \n",
    "            if np.ma.is_masked(background_level):\n",
    "                logger.info(f\"Test image {background_level_exposure[0]} is saturated. Waiting 30 s\")\n",
    "                time.sleep(30)\n",
    "            elif background_level < max_counts:\n",
    "                logger.info(f\"Brackground level in {filters[0]} in {background_level_exposure[0]} too high. Waiting 2 secs\")\n",
    "                time.sleep(2)\n",
    "            else:\n",
    "                is_saturated = False\n",
    "            \n",
    "        if background_level > min_counts_above_bias:\n",
    "            await take_triplets_with_fixed_dither(exposure_time, filter_to_use, dither_offset)            \n",
    "            logger.info(\"Changing filters\")\n",
    "            flats_done = True\n",
    "\n",
    "        else:\n",
    "            exposure_time = exposure_time * (min_counts_above_bias/background_level) * multiple_factor\n",
    "            logger.info(f\"The exposure time will be increased to {exposure_time} seconds\")\n",
    "\n",
    "            if exposure_time > max_exposure_time:         \n",
    "                logger.info(f\"Sky background in {filter_to_use} too low\")\n",
    "                logger.info(\"Changing filters\")\n",
    "                flats_done = True           "
   ]
  },
  {
   "cell_type": "code",
   "execution_count": 85,
   "id": "f8af4996-1b54-45b7-84a6-e612ecf1fdf5",
   "metadata": {
    "execution": {
     "iopub.execute_input": "2023-05-25T22:09:01.457864Z",
     "iopub.status.busy": "2023-05-25T22:09:01.457566Z",
     "iopub.status.idle": "2023-05-25T22:09:01.756965Z",
     "shell.execute_reply": "2023-05-25T22:09:01.756349Z",
     "shell.execute_reply.started": "2023-05-25T22:09:01.457845Z"
    },
    "tags": []
   },
   "outputs": [],
   "source": [
    "await atcs.stop_tracking()"
   ]
  },
  {
   "cell_type": "code",
   "execution_count": 86,
   "id": "3c061a54-6a18-4cc2-b2ae-39ee8a81081f",
   "metadata": {
    "execution": {
     "iopub.execute_input": "2023-05-25T22:09:03.062505Z",
     "iopub.status.busy": "2023-05-25T22:09:03.062215Z",
     "iopub.status.idle": "2023-05-25T22:09:03.253541Z",
     "shell.execute_reply": "2023-05-25T22:09:03.252928Z",
     "shell.execute_reply.started": "2023-05-25T22:09:03.062488Z"
    },
    "tags": []
   },
   "outputs": [],
   "source": [
    "await atcs.reset_offsets()"
   ]
  }
 ],
 "metadata": {
  "kernelspec": {
   "display_name": "LSST",
   "language": "python",
   "name": "lsst"
  },
  "language_info": {
   "codemirror_mode": {
    "name": "ipython",
    "version": 3
   },
   "file_extension": ".py",
   "mimetype": "text/x-python",
   "name": "python",
   "nbconvert_exporter": "python",
   "pygments_lexer": "ipython3",
   "version": "3.10.10"
  }
 },
 "nbformat": 4,
 "nbformat_minor": 5
}
