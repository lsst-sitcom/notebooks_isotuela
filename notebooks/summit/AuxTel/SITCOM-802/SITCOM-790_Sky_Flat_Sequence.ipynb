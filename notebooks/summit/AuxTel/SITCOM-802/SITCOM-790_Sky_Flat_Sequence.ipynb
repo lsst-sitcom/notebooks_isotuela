{
 "cells": [
  {
   "cell_type": "markdown",
   "id": "aae50e6f",
   "metadata": {},
   "source": [
    "# AuxTel - Sky Flats Sequence\n",
    "\n",
    "This notebook is a draft of procedures we can use during twilight to take Sky Flats using different filters as per SITCOM-790. \n",
    "https://jira.lsstcorp.org/browse/SITCOM-790https://jira.lsstcorp.org/browse/SITCOM-790\n",
    "\n",
    "It is meant to be executed between sunset and the time between the end of the civil and nautical twilights, that is, when the Sun's elevation is between 0 and 9 degrees below horizon. At 9 degrees below horizon, AuxTel should go on-sky to absorb zero-point offsets and perform the first WEP mirror alignment and focus of the night.\n",
    "\n",
    "This procedure requires that AuxTel is ready for on-sky in advance, when the Sun is 25 degrees above horizon. \n",
    "\n",
    "Be prepared to run this notebook at the time of sunset to have enough time for the three available filters. \n",
    "\n",
    "After the setup is completed, we find an empty field in the opposite direction of the Sun, then we slew to this field, and take an image. This image will probably have saturation. We start a loop of taking images in the same position until we get an image that does not saturate. Also start with the bluest filter. \n",
    "\n",
    "Once the image is not saturated anymore, we take a sequence of images with small dithers and increasing exposure times. SITCOM-something like 12 flats per filter."
   ]
  },
  {
   "cell_type": "markdown",
   "id": "34e05910",
   "metadata": {},
   "source": [
    "## Setup"
   ]
  },
  {
   "cell_type": "code",
   "execution_count": 51,
   "id": "b075a005",
   "metadata": {
    "execution": {
     "iopub.execute_input": "2023-05-02T20:37:57.982716Z",
     "iopub.status.busy": "2023-05-02T20:37:57.982457Z",
     "iopub.status.idle": "2023-05-02T20:37:57.987385Z",
     "shell.execute_reply": "2023-05-02T20:37:57.986824Z",
     "shell.execute_reply.started": "2023-05-02T20:37:57.982688Z"
    },
    "tags": []
   },
   "outputs": [],
   "source": [
    "import asyncio\n",
    "import time\n",
    "import os\n",
    "import numpy as np\n",
    "import matplotlib.pyplot as plt\n",
    "import logging\n",
    "import time\n",
    "\n",
    "from astropy import coordinates\n",
    "from astropy import units as u\n",
    "from astropy.time import Time\n",
    "from astroquery.exceptions import NoResultsWarning\n",
    "from astroquery.vizier import Vizier\n",
    "from datetime import datetime\n",
    "from warnings import warn\n",
    "\n",
    "from lsst.ts import salobj\n",
    "\n",
    "from lsst.ts.observatory.control.auxtel.atcs import ATCS\n",
    "from lsst.ts.observatory.control.auxtel.latiss import LATISS\n",
    "from lsst.ts.observatory.control.utils import RotType\n",
    "\n",
    "import lsst.daf.butler.cli.cliLog as cliLog\n",
    "import lsst.daf.butler as dafButler"
   ]
  },
  {
   "cell_type": "code",
   "execution_count": 52,
   "id": "aa94f109",
   "metadata": {
    "execution": {
     "iopub.execute_input": "2023-05-02T20:37:58.654692Z",
     "iopub.status.busy": "2023-05-02T20:37:58.654335Z",
     "iopub.status.idle": "2023-05-02T20:37:58.658142Z",
     "shell.execute_reply": "2023-05-02T20:37:58.657635Z",
     "shell.execute_reply.started": "2023-05-02T20:37:58.654673Z"
    },
    "tags": []
   },
   "outputs": [],
   "source": [
    "logger = logging.getLogger(f\"Sky Flats {Time.now()} UT\")\n",
    "logger.level = logging.INFO"
   ]
  },
  {
   "cell_type": "code",
   "execution_count": 53,
   "id": "84b698b1",
   "metadata": {
    "execution": {
     "iopub.execute_input": "2023-05-02T20:38:01.470604Z",
     "iopub.status.busy": "2023-05-02T20:38:01.470257Z",
     "iopub.status.idle": "2023-05-02T20:38:02.658633Z",
     "shell.execute_reply": "2023-05-02T20:38:02.658101Z",
     "shell.execute_reply.started": "2023-05-02T20:38:01.470587Z"
    },
    "tags": []
   },
   "outputs": [
    {
     "data": {
      "text/html": [
       "<pre style=\"margin: 0.1em;\n",
       "padding-left: 0.25em;\n",
       "border-left-style: solid;\n",
       "font-family: var(--jp-code-font-family);\n",
       "font-size: var(--jp-code-font-size);\n",
       "line-height: var(--jp-code-line-height);\n",
       "\"><span style=\"color: var(--jp-warn-color2)\">ATMCS</span> <span style=\"color: var(--jp-info-color0)\">INFO</span>: Disabling authlist-based command authorization</pre>"
      ],
      "text/plain": [
       "<IPython.core.display.HTML object>"
      ]
     },
     "metadata": {},
     "output_type": "display_data"
    },
    {
     "data": {
      "text/html": [
       "<pre style=\"margin: 0.1em;\n",
       "padding-left: 0.25em;\n",
       "border-left-style: solid;\n",
       "font-family: var(--jp-code-font-family);\n",
       "font-size: var(--jp-code-font-size);\n",
       "line-height: var(--jp-code-line-height);\n",
       "\"><span style=\"color: var(--jp-warn-color2)\">ATPtg</span> <span style=\"color: var(--jp-info-color0)\">INFO</span>: Disabling authlist-based command authorization</pre>"
      ],
      "text/plain": [
       "<IPython.core.display.HTML object>"
      ]
     },
     "metadata": {},
     "output_type": "display_data"
    },
    {
     "data": {
      "text/html": [
       "<pre style=\"margin: 0.1em;\n",
       "padding-left: 0.25em;\n",
       "border-left-style: solid;\n",
       "font-family: var(--jp-code-font-family);\n",
       "font-size: var(--jp-code-font-size);\n",
       "line-height: var(--jp-code-line-height);\n",
       "\"><span style=\"color: var(--jp-warn-color2)\">ATAOS</span> <span style=\"color: var(--jp-info-color0)\">INFO</span>: Disabling authlist-based command authorization</pre>"
      ],
      "text/plain": [
       "<IPython.core.display.HTML object>"
      ]
     },
     "metadata": {},
     "output_type": "display_data"
    },
    {
     "data": {
      "text/html": [
       "<pre style=\"margin: 0.1em;\n",
       "padding-left: 0.25em;\n",
       "border-left-style: solid;\n",
       "font-family: var(--jp-code-font-family);\n",
       "font-size: var(--jp-code-font-size);\n",
       "line-height: var(--jp-code-line-height);\n",
       "\"><span style=\"color: var(--jp-warn-color2)\">ATPneumatics</span> <span style=\"color: var(--jp-info-color0)\">INFO</span>: Disabling authlist-based command authorization</pre>"
      ],
      "text/plain": [
       "<IPython.core.display.HTML object>"
      ]
     },
     "metadata": {},
     "output_type": "display_data"
    },
    {
     "data": {
      "text/html": [
       "<pre style=\"margin: 0.1em;\n",
       "padding-left: 0.25em;\n",
       "border-left-style: solid;\n",
       "font-family: var(--jp-code-font-family);\n",
       "font-size: var(--jp-code-font-size);\n",
       "line-height: var(--jp-code-line-height);\n",
       "\"><span style=\"color: var(--jp-warn-color2)\">ATHexapod</span> <span style=\"color: var(--jp-info-color0)\">INFO</span>: Disabling authlist-based command authorization</pre>"
      ],
      "text/plain": [
       "<IPython.core.display.HTML object>"
      ]
     },
     "metadata": {},
     "output_type": "display_data"
    },
    {
     "data": {
      "text/html": [
       "<pre style=\"margin: 0.1em;\n",
       "padding-left: 0.25em;\n",
       "border-left-style: solid;\n",
       "font-family: var(--jp-code-font-family);\n",
       "font-size: var(--jp-code-font-size);\n",
       "line-height: var(--jp-code-line-height);\n",
       "\"><span style=\"color: var(--jp-warn-color2)\">ATDome</span> <span style=\"color: var(--jp-info-color0)\">INFO</span>: Disabling authlist-based command authorization</pre>"
      ],
      "text/plain": [
       "<IPython.core.display.HTML object>"
      ]
     },
     "metadata": {},
     "output_type": "display_data"
    },
    {
     "data": {
      "text/html": [
       "<pre style=\"margin: 0.1em;\n",
       "padding-left: 0.25em;\n",
       "border-left-style: solid;\n",
       "font-family: var(--jp-code-font-family);\n",
       "font-size: var(--jp-code-font-size);\n",
       "line-height: var(--jp-code-line-height);\n",
       "\"><span style=\"color: var(--jp-warn-color2)\">ATDomeTrajectory</span> <span style=\"color: var(--jp-info-color0)\">INFO</span>: Disabling authlist-based command authorization</pre>"
      ],
      "text/plain": [
       "<IPython.core.display.HTML object>"
      ]
     },
     "metadata": {},
     "output_type": "display_data"
    },
    {
     "data": {
      "text/html": [
       "<pre style=\"margin: 0.1em;\n",
       "padding-left: 0.25em;\n",
       "border-left-style: solid;\n",
       "font-family: var(--jp-code-font-family);\n",
       "font-size: var(--jp-code-font-size);\n",
       "line-height: var(--jp-code-line-height);\n",
       "\"><span style=\"color: var(--jp-warn-color2)\">ATCamera</span> <span style=\"color: var(--jp-info-color0)\">INFO</span>: Disabling authlist-based command authorization</pre>"
      ],
      "text/plain": [
       "<IPython.core.display.HTML object>"
      ]
     },
     "metadata": {},
     "output_type": "display_data"
    },
    {
     "data": {
      "text/html": [
       "<pre style=\"margin: 0.1em;\n",
       "padding-left: 0.25em;\n",
       "border-left-style: solid;\n",
       "font-family: var(--jp-code-font-family);\n",
       "font-size: var(--jp-code-font-size);\n",
       "line-height: var(--jp-code-line-height);\n",
       "\"><span style=\"color: var(--jp-warn-color2)\">ATSpectrograph</span> <span style=\"color: var(--jp-info-color0)\">INFO</span>: Disabling authlist-based command authorization</pre>"
      ],
      "text/plain": [
       "<IPython.core.display.HTML object>"
      ]
     },
     "metadata": {},
     "output_type": "display_data"
    },
    {
     "data": {
      "text/html": [
       "<pre style=\"margin: 0.1em;\n",
       "padding-left: 0.25em;\n",
       "border-left-style: solid;\n",
       "font-family: var(--jp-code-font-family);\n",
       "font-size: var(--jp-code-font-size);\n",
       "line-height: var(--jp-code-line-height);\n",
       "\"><span style=\"color: var(--jp-warn-color2)\">ATHeaderService</span> <span style=\"color: var(--jp-info-color0)\">INFO</span>: Disabling authlist-based command authorization</pre>"
      ],
      "text/plain": [
       "<IPython.core.display.HTML object>"
      ]
     },
     "metadata": {},
     "output_type": "display_data"
    },
    {
     "data": {
      "text/html": [
       "<pre style=\"margin: 0.1em;\n",
       "padding-left: 0.25em;\n",
       "border-left-style: solid;\n",
       "font-family: var(--jp-code-font-family);\n",
       "font-size: var(--jp-code-font-size);\n",
       "line-height: var(--jp-code-line-height);\n",
       "\"><span style=\"color: var(--jp-warn-color2)\">ATOODS</span> <span style=\"color: var(--jp-info-color0)\">INFO</span>: Disabling authlist-based command authorization</pre>"
      ],
      "text/plain": [
       "<IPython.core.display.HTML object>"
      ]
     },
     "metadata": {},
     "output_type": "display_data"
    },
    {
     "data": {
      "text/html": [
       "<pre style=\"margin: 0.1em;\n",
       "padding-left: 0.25em;\n",
       "border-left-style: solid;\n",
       "font-family: var(--jp-code-font-family);\n",
       "font-size: var(--jp-code-font-size);\n",
       "line-height: var(--jp-code-line-height);\n",
       "\"><span style=\"color: var(--jp-warn-color2)\">ATHexapod</span> <span style=\"color: var(--jp-info-color0)\">INFO</span>: Read historical data in 0.00 sec</pre>"
      ],
      "text/plain": [
       "<IPython.core.display.HTML object>"
      ]
     },
     "metadata": {},
     "output_type": "display_data"
    },
    {
     "data": {
      "text/html": [
       "<pre style=\"margin: 0.1em;\n",
       "padding-left: 0.25em;\n",
       "border-left-style: solid;\n",
       "font-family: var(--jp-code-font-family);\n",
       "font-size: var(--jp-code-font-size);\n",
       "line-height: var(--jp-code-line-height);\n",
       "\"><span style=\"color: var(--jp-warn-color2)\">ATDomeTrajectory</span> <span style=\"color: var(--jp-info-color0)\">INFO</span>: Read historical data in 0.02 sec</pre>"
      ],
      "text/plain": [
       "<IPython.core.display.HTML object>"
      ]
     },
     "metadata": {},
     "output_type": "display_data"
    },
    {
     "data": {
      "text/html": [
       "<pre style=\"margin: 0.1em;\n",
       "padding-left: 0.25em;\n",
       "border-left-style: solid;\n",
       "font-family: var(--jp-code-font-family);\n",
       "font-size: var(--jp-code-font-size);\n",
       "line-height: var(--jp-code-line-height);\n",
       "\"><span style=\"color: var(--jp-warn-color2)\">ATHeaderService</span> <span style=\"color: var(--jp-info-color0)\">INFO</span>: Read historical data in 0.03 sec</pre>"
      ],
      "text/plain": [
       "<IPython.core.display.HTML object>"
      ]
     },
     "metadata": {},
     "output_type": "display_data"
    },
    {
     "data": {
      "text/html": [
       "<pre style=\"margin: 0.1em;\n",
       "padding-left: 0.25em;\n",
       "border-left-style: solid;\n",
       "font-family: var(--jp-code-font-family);\n",
       "font-size: var(--jp-code-font-size);\n",
       "line-height: var(--jp-code-line-height);\n",
       "\"><span style=\"color: var(--jp-warn-color2)\">ATPneumatics</span> <span style=\"color: var(--jp-info-color0)\">INFO</span>: Read historical data in 0.04 sec</pre>"
      ],
      "text/plain": [
       "<IPython.core.display.HTML object>"
      ]
     },
     "metadata": {},
     "output_type": "display_data"
    },
    {
     "data": {
      "text/html": [
       "<pre style=\"margin: 0.1em;\n",
       "padding-left: 0.25em;\n",
       "border-left-style: solid;\n",
       "font-family: var(--jp-code-font-family);\n",
       "font-size: var(--jp-code-font-size);\n",
       "line-height: var(--jp-code-line-height);\n",
       "\"><span style=\"color: var(--jp-warn-color2)\">ATOODS</span> <span style=\"color: var(--jp-info-color0)\">INFO</span>: Read historical data in 0.04 sec</pre>"
      ],
      "text/plain": [
       "<IPython.core.display.HTML object>"
      ]
     },
     "metadata": {},
     "output_type": "display_data"
    },
    {
     "data": {
      "text/html": [
       "<pre style=\"margin: 0.1em;\n",
       "padding-left: 0.25em;\n",
       "border-left-style: solid;\n",
       "font-family: var(--jp-code-font-family);\n",
       "font-size: var(--jp-code-font-size);\n",
       "line-height: var(--jp-code-line-height);\n",
       "\"><span style=\"color: var(--jp-warn-color2)\">ATSpectrograph</span> <span style=\"color: var(--jp-info-color0)\">INFO</span>: Read historical data in 0.05 sec</pre>"
      ],
      "text/plain": [
       "<IPython.core.display.HTML object>"
      ]
     },
     "metadata": {},
     "output_type": "display_data"
    },
    {
     "data": {
      "text/html": [
       "<pre style=\"margin: 0.1em;\n",
       "padding-left: 0.25em;\n",
       "border-left-style: solid;\n",
       "font-family: var(--jp-code-font-family);\n",
       "font-size: var(--jp-code-font-size);\n",
       "line-height: var(--jp-code-line-height);\n",
       "\"><span style=\"color: var(--jp-warn-color2)\">ATAOS</span> <span style=\"color: var(--jp-info-color0)\">INFO</span>: Read historical data in 0.06 sec</pre>"
      ],
      "text/plain": [
       "<IPython.core.display.HTML object>"
      ]
     },
     "metadata": {},
     "output_type": "display_data"
    },
    {
     "data": {
      "text/html": [
       "<pre style=\"margin: 0.1em;\n",
       "padding-left: 0.25em;\n",
       "border-left-style: solid;\n",
       "font-family: var(--jp-code-font-family);\n",
       "font-size: var(--jp-code-font-size);\n",
       "line-height: var(--jp-code-line-height);\n",
       "\"><span style=\"color: var(--jp-warn-color2)\">ATDome</span> <span style=\"color: var(--jp-info-color0)\">INFO</span>: Read historical data in 0.08 sec</pre>"
      ],
      "text/plain": [
       "<IPython.core.display.HTML object>"
      ]
     },
     "metadata": {},
     "output_type": "display_data"
    },
    {
     "data": {
      "text/html": [
       "<pre style=\"margin: 0.1em;\n",
       "padding-left: 0.25em;\n",
       "border-left-style: solid;\n",
       "font-family: var(--jp-code-font-family);\n",
       "font-size: var(--jp-code-font-size);\n",
       "line-height: var(--jp-code-line-height);\n",
       "\"><span style=\"color: var(--jp-warn-color2)\">ATMCS.logevent_target</span> <span style=\"color: var(--jp-warn-color0)\">WARNING</span>: evt_target DDS read queue is filling: 16 of 100 elements</pre>"
      ],
      "text/plain": [
       "<IPython.core.display.HTML object>"
      ]
     },
     "metadata": {},
     "output_type": "display_data"
    },
    {
     "data": {
      "text/html": [
       "<pre style=\"margin: 0.1em;\n",
       "padding-left: 0.25em;\n",
       "border-left-style: solid;\n",
       "font-family: var(--jp-code-font-family);\n",
       "font-size: var(--jp-code-font-size);\n",
       "line-height: var(--jp-code-line-height);\n",
       "\"><span style=\"color: var(--jp-warn-color2)\">ATPtg</span> <span style=\"color: var(--jp-info-color0)\">INFO</span>: Read historical data in 0.09 sec</pre>"
      ],
      "text/plain": [
       "<IPython.core.display.HTML object>"
      ]
     },
     "metadata": {},
     "output_type": "display_data"
    },
    {
     "data": {
      "text/html": [
       "<pre style=\"margin: 0.1em;\n",
       "padding-left: 0.25em;\n",
       "border-left-style: solid;\n",
       "font-family: var(--jp-code-font-family);\n",
       "font-size: var(--jp-code-font-size);\n",
       "line-height: var(--jp-code-line-height);\n",
       "\"><span style=\"color: var(--jp-warn-color2)\">ATMCS</span> <span style=\"color: var(--jp-info-color0)\">INFO</span>: Read historical data in 0.11 sec</pre>"
      ],
      "text/plain": [
       "<IPython.core.display.HTML object>"
      ]
     },
     "metadata": {},
     "output_type": "display_data"
    },
    {
     "data": {
      "text/html": [
       "<pre style=\"margin: 0.1em;\n",
       "padding-left: 0.25em;\n",
       "border-left-style: solid;\n",
       "font-family: var(--jp-code-font-family);\n",
       "font-size: var(--jp-code-font-size);\n",
       "line-height: var(--jp-code-line-height);\n",
       "\"><span style=\"color: var(--jp-warn-color2)\">ATMCS.logevent_target</span> <span style=\"color: var(--jp-warn-color0)\">WARNING</span>: evt_target python read queue is filling: 15 of 100 elements</pre>"
      ],
      "text/plain": [
       "<IPython.core.display.HTML object>"
      ]
     },
     "metadata": {},
     "output_type": "display_data"
    },
    {
     "data": {
      "text/html": [
       "<pre style=\"margin: 0.1em;\n",
       "padding-left: 0.25em;\n",
       "border-left-style: solid;\n",
       "font-family: var(--jp-code-font-family);\n",
       "font-size: var(--jp-code-font-size);\n",
       "line-height: var(--jp-code-line-height);\n",
       "\"><span style=\"color: var(--jp-warn-color2)\">ATCamera</span> <span style=\"color: var(--jp-info-color0)\">INFO</span>: Read historical data in 0.13 sec</pre>"
      ],
      "text/plain": [
       "<IPython.core.display.HTML object>"
      ]
     },
     "metadata": {},
     "output_type": "display_data"
    },
    {
     "data": {
      "text/plain": [
       "[[None, None, None, None, None, None, None], [None, None, None, None]]"
      ]
     },
     "execution_count": 53,
     "metadata": {},
     "output_type": "execute_result"
    }
   ],
   "source": [
    "# Instantiate the control classes\n",
    "domain = salobj.Domain()\n",
    "atcs = ATCS(domain)\n",
    "atcs.set_rem_loglevel(logging.INFO)\n",
    "latiss = LATISS(domain)\n",
    "latiss.set_rem_loglevel(logging.INFO)\n",
    "await asyncio.gather(atcs.start_task, latiss.start_task)"
   ]
  },
  {
   "cell_type": "code",
   "execution_count": 54,
   "id": "2c2a49ce",
   "metadata": {
    "execution": {
     "iopub.execute_input": "2023-05-02T20:38:05.646619Z",
     "iopub.status.busy": "2023-05-02T20:38:05.646271Z",
     "iopub.status.idle": "2023-05-02T20:38:05.652193Z",
     "shell.execute_reply": "2023-05-02T20:38:05.651806Z",
     "shell.execute_reply.started": "2023-05-02T20:38:05.646601Z"
    },
    "tags": []
   },
   "outputs": [
    {
     "data": {
      "text/html": [
       "<pre style=\"margin: 0.1em;\n",
       "padding-left: 0.25em;\n",
       "border-left-style: solid;\n",
       "font-family: var(--jp-code-font-family);\n",
       "font-size: var(--jp-code-font-size);\n",
       "line-height: var(--jp-code-line-height);\n",
       "\"><span style=\"color: var(--jp-warn-color2)\">Sky Flats 2023-05-02 20:37:58.655516 UT</span> <span style=\"color: var(--jp-info-color0)\">INFO</span>: LATISS filters are: [&#x27;empty_1&#x27;, &#x27;SDSSg_65mm&#x27;, &#x27;SDSSr_65mm&#x27;, &#x27;SDSSi_65mm&#x27;]</pre>"
      ],
      "text/plain": [
       "<IPython.core.display.HTML object>"
      ]
     },
     "metadata": {},
     "output_type": "display_data"
    },
    {
     "data": {
      "text/html": [
       "<pre style=\"margin: 0.1em;\n",
       "padding-left: 0.25em;\n",
       "border-left-style: solid;\n",
       "font-family: var(--jp-code-font-family);\n",
       "font-size: var(--jp-code-font-size);\n",
       "line-height: var(--jp-code-line-height);\n",
       "\"><span style=\"color: var(--jp-warn-color2)\">Sky Flats 2023-05-02 20:37:58.655516 UT</span> <span style=\"color: var(--jp-info-color0)\">INFO</span>: LATISS gratings are: [&#x27;empty_1&#x27;, &#x27;blue300lpmm_qn1&#x27;, &#x27;ronchi170lpmm&#x27;, &#x27;holo4_003&#x27;]</pre>"
      ],
      "text/plain": [
       "<IPython.core.display.HTML object>"
      ]
     },
     "metadata": {},
     "output_type": "display_data"
    }
   ],
   "source": [
    "inst_setup = await latiss.get_available_instrument_setup()\n",
    "logger.info(f'LATISS filters are: {inst_setup[0]}')\n",
    "logger.info(f'LATISS gratings are: {inst_setup[1]}')"
   ]
  },
  {
   "cell_type": "code",
   "execution_count": 55,
   "id": "9ac157d2",
   "metadata": {
    "execution": {
     "iopub.execute_input": "2023-05-02T20:38:12.447140Z",
     "iopub.status.busy": "2023-05-02T20:38:12.446776Z",
     "iopub.status.idle": "2023-05-02T20:38:13.148125Z",
     "shell.execute_reply": "2023-05-02T20:38:13.147518Z",
     "shell.execute_reply.started": "2023-05-02T20:38:12.447120Z"
    },
    "tags": []
   },
   "outputs": [],
   "source": [
    "repo = '/repo/LATISS/'\n",
    "collection = 'LATISS/raw/all'\n",
    "\n",
    "butler = dafButler.Butler(repo, collections=collection)"
   ]
  },
  {
   "cell_type": "code",
   "execution_count": 49,
   "id": "b420a166-9806-49df-8ebc-91ef3c0a41a2",
   "metadata": {
    "execution": {
     "iopub.execute_input": "2023-05-02T18:48:12.258682Z",
     "iopub.status.busy": "2023-05-02T18:48:12.258399Z",
     "iopub.status.idle": "2023-05-02T18:48:12.262323Z",
     "shell.execute_reply": "2023-05-02T18:48:12.261934Z",
     "shell.execute_reply.started": "2023-05-02T18:48:12.258664Z"
    },
    "tags": []
   },
   "outputs": [],
   "source": [
    "# Vera Rubin Coordinates from https://www.lsst.org/scientists/keynumbers\n",
    "rubin_obs = coordinates.EarthLocation(\n",
    "    lat='-30:14:40.68', lon='-70:44:57.90', height=2647 * u.m)"
   ]
  },
  {
   "cell_type": "markdown",
   "id": "55154dbc-a743-436b-8c36-3dbce24642c3",
   "metadata": {},
   "source": [
    "## Helper functions "
   ]
  },
  {
   "cell_type": "code",
   "execution_count": 45,
   "id": "f40eefcb",
   "metadata": {
    "execution": {
     "iopub.execute_input": "2023-05-02T18:47:38.638616Z",
     "iopub.status.busy": "2023-05-02T18:47:38.638338Z",
     "iopub.status.idle": "2023-05-02T18:47:38.643516Z",
     "shell.execute_reply": "2023-05-02T18:47:38.643124Z",
     "shell.execute_reply.started": "2023-05-02T18:47:38.638599Z"
    },
    "tags": []
   },
   "outputs": [],
   "source": [
    "def get_angle_from_sun(distance_from_sun=180, elevation=45, time=None):\n",
    "    \"\"\"\n",
    "    Returns the azimuth relative to the Sun considering a `distance_from_sun` \n",
    "    and at a given `time`.\n",
    "    \n",
    "    Parameters\n",
    "    ----------\n",
    "    distance_from_sun : float, (-180, 180)\n",
    "        The distance from the Sun in degrees. Positive angles go towards the \n",
    "        North.\n",
    "    elevation : float\n",
    "        Target elevation for Sky Flats.\n",
    "    time : datetime\n",
    "        The time for the calculation in UTC.\n",
    "    \"\"\"\n",
    "    if abs(distance_from_sun) > 180:\n",
    "        raise ValueError(\n",
    "            \"The distance from the Sun should be between -180 and 180 degrees\")\n",
    "    \n",
    "    rubin_obs = coordinates.EarthLocation(\n",
    "        lat='-30:14:40.68', lon='-70:44:57.90', height=2647 * u.m)\n",
    "\n",
    "    if time:\n",
    "        t = Time(time, scale='utc')\n",
    "    else:\n",
    "        t = Time(datetime.utcnow(), scale='utc')\n",
    "\n",
    "    sun_coords = coordinates.get_sun(t)\n",
    "    sun_coords.location = rubin_obs\n",
    "    az = sun_coords.altaz.az.value\n",
    "    \n",
    "    target_az = (az + distance_from_sun) % 360.\n",
    "    \n",
    "    logger = DecoratedLogger.get_decorated_logger('sun_position')\n",
    "    logger.info(f\"Sun azimuth is {sun_coords.altaz.az:.5f} at {t}\")\n",
    "    logger.info(f\"The azimuth {distance_from_sun:.5f} deg\"\n",
    "                f\" from the Sun is {target_az:.5f} deg\")\n",
    "    \n",
    "    target = coordinates.AltAz(\n",
    "        alt=elevation * u.deg, az=target_az * u.deg, location=sun_coords, obstime=t)\n",
    "    \n",
    "    return target.transform_to(coordinates.ICRS)\n"
   ]
  },
  {
   "cell_type": "code",
   "execution_count": 46,
   "id": "528f5372",
   "metadata": {
    "execution": {
     "iopub.execute_input": "2023-05-02T18:47:39.122129Z",
     "iopub.status.busy": "2023-05-02T18:47:39.121849Z",
     "iopub.status.idle": "2023-05-02T18:47:39.126364Z",
     "shell.execute_reply": "2023-05-02T18:47:39.125973Z",
     "shell.execute_reply.started": "2023-05-02T18:47:39.122112Z"
    },
    "tags": []
   },
   "outputs": [],
   "source": [
    "def get_empty_field(target, radius=5):\n",
    "    \"\"\"\n",
    "    Query the \"Deep blank field catalogue : J/MNRAS/427/679\" in Vizier.\n",
    "    \n",
    "    Parameters\n",
    "    ----------\n",
    "    target : astropy.coordinates.SkyCoord\n",
    "        Sky coordinates near the field\n",
    "    radius : float\n",
    "        Search radius in degrees.\n",
    "    elevation : float, default: 45\n",
    "        Start elevation for the Sky Flats.\n",
    "    \n",
    "    Reference\n",
    "    ---------\n",
    "    http://cdsarc.u-strasbg.fr/viz-bin/Cat?J/MNRAS/427/679\n",
    "    \"\"\"\n",
    "    _table = Vizier.query_region(\n",
    "        catalog='J/MNRAS/427/679/blank_fld', \n",
    "        coordinates=target, \n",
    "        radius=radius*u.deg)\n",
    "\n",
    "    if len(_table) == 0:\n",
    "        warn(f\"Could not find a field near {target} \"\n",
    "              f\"within {radius} deg radius\", category=NoResultsWarning)\n",
    "        return None\n",
    "\n",
    "    _table = _table[\"J/MNRAS/427/679/blank_fld\"]\n",
    "    \n",
    "    coords = coordinates.SkyCoord(\n",
    "        ra=_table[\"RAJ2000\"], \n",
    "        dec=_table[\"DEJ2000\"], \n",
    "        unit=(u.hourangle, u.deg), \n",
    "        frame=coordinates.ICRS)\n",
    "    \n",
    "    arg = target.separation(coords).argmin()\n",
    "    \n",
    "    return coords[arg]"
   ]
  },
  {
   "cell_type": "markdown",
   "id": "1e62ee84-0e76-42ea-85ed-57a90899082a",
   "metadata": {},
   "source": [
    "## Confirm Sun's elevation is right to start taking Sky Flats. \n",
    "\n",
    "Check if we can start taking sky flats, that, if the Sun's elevation is between 0 and 9 degrees below the horizon."
   ]
  },
  {
   "cell_type": "code",
   "execution_count": 57,
   "id": "bb777ff6-7f5e-4cd7-8afb-564bbe87140a",
   "metadata": {
    "execution": {
     "iopub.execute_input": "2023-05-02T20:39:32.538826Z",
     "iopub.status.busy": "2023-05-02T20:39:32.538457Z",
     "iopub.status.idle": "2023-05-02T20:39:32.566995Z",
     "shell.execute_reply": "2023-05-02T20:39:32.566273Z",
     "shell.execute_reply.started": "2023-05-02T20:39:32.538808Z"
    },
    "tags": []
   },
   "outputs": [
    {
     "name": "stdout",
     "output_type": "stream",
     "text": [
      " The azimuth of the setting Sun at 2023-05-02 20:39:32.540372 is 299.64 deg \n",
      " The elevation of the Sun at 2023-05-02 20:39:32.540372 is 16.44 deg\n"
     ]
    }
   ],
   "source": [
    "# Define time in UTC\n",
    "#time = Time(\"2023-04-25T17:00:00\", format=\"isot\", scale=\"utc\")\n",
    "# or the current time\n",
    "time = Time(datetime.utcnow(), scale=\"utc\")\n",
    "\n",
    "# Some calculations\n",
    "sun_coordinates = coordinates.get_sun(time)\n",
    "sun_coordinates.location = rubin_obs\n",
    "where_sun = \"setting\" if (sun_coordinates.altaz.az.value > 180) else \"rising\"\n",
    "\n",
    "# Print results\n",
    "print(f\" The azimuth of the {where_sun} Sun at {time} is {sun_coordinates.altaz.az.value:.2f} deg \\n\"\n",
    "      f\" The elevation of the Sun at {time} is {sun_coordinates.altaz.alt.value:.2f} deg\")"
   ]
  },
  {
   "cell_type": "markdown",
   "id": "14d0a4d6-0d72-4f1b-aec6-d8560b0924f0",
   "metadata": {},
   "source": [
    "Only proceed with the next steps if the elevation of the Sun is between 0 and 9 degrees below the horizon, either rising or setting. "
   ]
  },
  {
   "cell_type": "markdown",
   "id": "3910404b",
   "metadata": {},
   "source": [
    "## Find Field\n",
    "\n",
    "Find a field with not many stars oppposite the Sun. "
   ]
  },
  {
   "cell_type": "code",
   "execution_count": 42,
   "id": "db7005e7",
   "metadata": {
    "execution": {
     "iopub.execute_input": "2023-05-02T18:03:34.742765Z",
     "iopub.status.busy": "2023-05-02T18:03:34.742370Z",
     "iopub.status.idle": "2023-05-02T18:03:36.228694Z",
     "shell.execute_reply": "2023-05-02T18:03:36.228059Z",
     "shell.execute_reply.started": "2023-05-02T18:03:34.742748Z"
    },
    "tags": []
   },
   "outputs": [
    {
     "name": "stdout",
     "output_type": "stream",
     "text": [
      " \u001b[1;37m [I 2023-05-02 18:03:34 sun_position] \u001b[0m Sun azimuth is 333.30924 deg at 2023-05-02 18:03:34.759041\n"
     ]
    },
    {
     "data": {
      "text/html": [
       "<pre style=\"margin: 0.1em;\n",
       "padding-left: 0.25em;\n",
       "border-left-style: solid;\n",
       "font-family: var(--jp-code-font-family);\n",
       "font-size: var(--jp-code-font-size);\n",
       "line-height: var(--jp-code-line-height);\n",
       "\"><span style=\"color: var(--jp-warn-color2)\">sun_position</span> <span style=\"color: var(--jp-info-color0)\">INFO</span>: Sun azimuth is 333.30924 deg at 2023-05-02 18:03:34.759041</pre>"
      ],
      "text/plain": [
       "<IPython.core.display.HTML object>"
      ]
     },
     "metadata": {},
     "output_type": "display_data"
    },
    {
     "name": "stdout",
     "output_type": "stream",
     "text": [
      " \u001b[1;37m [I 2023-05-02 18:03:34 sun_position] \u001b[0m The azimuth 180.00000 deg from the Sun is 153.30924 deg\n"
     ]
    },
    {
     "data": {
      "text/html": [
       "<pre style=\"margin: 0.1em;\n",
       "padding-left: 0.25em;\n",
       "border-left-style: solid;\n",
       "font-family: var(--jp-code-font-family);\n",
       "font-size: var(--jp-code-font-size);\n",
       "line-height: var(--jp-code-line-height);\n",
       "\"><span style=\"color: var(--jp-warn-color2)\">sun_position</span> <span style=\"color: var(--jp-info-color0)\">INFO</span>: The azimuth 180.00000 deg from the Sun is 153.30924 deg</pre>"
      ],
      "text/plain": [
       "<IPython.core.display.HTML object>"
      ]
     },
     "metadata": {},
     "output_type": "display_data"
    },
    {
     "name": "stderr",
     "output_type": "stream",
     "text": [
      "WARNING: AstropyDeprecationWarning: Transforming a frame instance to a frame class (as opposed to another frame instance) will not be supported in the future.  Either explicitly instantiate the target frame, or first convert the source frame instance to a `astropy.coordinates.SkyCoord` and use its `transform_to()` method. [astropy.coordinates.baseframe]\n"
     ]
    },
    {
     "data": {
      "text/html": [
       "<pre style=\"margin: 0.1em;\n",
       "padding-left: 0.25em;\n",
       "border-left-style: solid;\n",
       "font-family: var(--jp-code-font-family);\n",
       "font-size: var(--jp-code-font-size);\n",
       "line-height: var(--jp-code-line-height);\n",
       "\"><span style=\"color: var(--jp-warn-color2)\">astroquery</span> <span style=\"color: var(--jp-warn-color0)\">WARNING</span>: AstropyDeprecationWarning: Transforming a frame instance to a frame class (as opposed to another frame instance) will not be supported in the future.  Either explicitly instantiate the target frame, or first convert the source frame instance to a `astropy.coordinates.SkyCoord` and use its `transform_to()` method.</pre>"
      ],
      "text/plain": [
       "<IPython.core.display.HTML object>"
      ]
     },
     "metadata": {},
     "output_type": "display_data"
    },
    {
     "name": "stdout",
     "output_type": "stream",
     "text": [
      "Empty field coordinates:\n",
      "  3:32:42.02 -24:44:56.8\n"
     ]
    }
   ],
   "source": [
    "target = get_angle_from_sun()\n",
    "empty_field_coords = get_empty_field(target)\n",
    "print(f\"Empty field coordinates:\\n\"\n",
    "      f\"  {empty_field_coords.ra.to_string(u.hour, sep=':')}\"\n",
    "      f\" {empty_field_coords.dec.to_string(u.degree, alwayssign=True, sep=':')}\")"
   ]
  },
  {
   "cell_type": "markdown",
   "id": "e8014c0c",
   "metadata": {},
   "source": [
    "## Slew to Field\n",
    "\n",
    "Now that we have our field, let's move the telescope and the dome to that direction."
   ]
  },
  {
   "cell_type": "code",
   "execution_count": null,
   "id": "1ddb3e58",
   "metadata": {},
   "outputs": [],
   "source": [
    "# await atcs.slew_icrs(empty_field_coords.ra.value, empty_field_coords.dec.value)"
   ]
  },
  {
   "cell_type": "markdown",
   "id": "9d711c19-61ca-4f05-bba6-623ae315ecb0",
   "metadata": {},
   "source": [
    "## Define filter and offsets between images\n",
    "\n",
    "Need at least 10K ADU per pixel for each band."
   ]
  },
  {
   "cell_type": "code",
   "execution_count": 24,
   "id": "5e95cf3a-0fbf-46af-af8a-560872efc22c",
   "metadata": {
    "execution": {
     "iopub.execute_input": "2023-05-02T16:42:13.611217Z",
     "iopub.status.busy": "2023-05-02T16:42:13.610487Z",
     "iopub.status.idle": "2023-05-02T16:42:13.613669Z",
     "shell.execute_reply": "2023-05-02T16:42:13.613192Z",
     "shell.execute_reply.started": "2023-05-02T16:42:13.611197Z"
    },
    "tags": []
   },
   "outputs": [],
   "source": [
    "filter_to_use = 'SDSSg_65mm'\n",
    "offset = 30"
   ]
  },
  {
   "cell_type": "markdown",
   "id": "301ceae4",
   "metadata": {},
   "source": [
    "## Find first image\n",
    "\n",
    "Here is where we check image saturation. We take an image with some short exposure time, check how many pixels on each detector are saturated, check how many counts do we have in each detector, and once we have high but not saturated signal is all detectors and in most of the pixels, we move forward."
   ]
  },
  {
   "cell_type": "code",
   "execution_count": 33,
   "id": "4d4d575c",
   "metadata": {
    "execution": {
     "iopub.execute_input": "2023-05-02T16:52:11.738809Z",
     "iopub.status.busy": "2023-05-02T16:52:11.738437Z",
     "iopub.status.idle": "2023-05-02T16:52:19.797623Z",
     "shell.execute_reply": "2023-05-02T16:52:19.797139Z",
     "shell.execute_reply.started": "2023-05-02T16:52:11.738790Z"
    },
    "tags": []
   },
   "outputs": [
    {
     "data": {
      "text/html": [
       "<pre style=\"margin: 0.1em;\n",
       "padding-left: 0.25em;\n",
       "border-left-style: solid;\n",
       "font-family: var(--jp-code-font-family);\n",
       "font-size: var(--jp-code-font-size);\n",
       "line-height: var(--jp-code-line-height);\n",
       "\"><span style=\"color: var(--jp-warn-color2)\">ATHeaderService.logevent_logMessage</span> <span style=\"color: var(--jp-warn-color0)\">WARNING</span>: evt_logMessage DDS read queue is filling: 13 of 100 elements</pre>"
      ],
      "text/plain": [
       "<IPython.core.display.HTML object>"
      ]
     },
     "metadata": {},
     "output_type": "display_data"
    },
    {
     "data": {
      "text/html": [
       "<pre style=\"margin: 0.1em;\n",
       "padding-left: 0.25em;\n",
       "border-left-style: solid;\n",
       "font-family: var(--jp-code-font-family);\n",
       "font-size: var(--jp-code-font-size);\n",
       "line-height: var(--jp-code-line-height);\n",
       "\"><span style=\"color: var(--jp-warn-color2)\">ATHeaderService.logevent_logMessage</span> <span style=\"color: var(--jp-warn-color0)\">WARNING</span>: evt_logMessage DDS read queue is filling: 30 of 100 elements</pre>"
      ],
      "text/plain": [
       "<IPython.core.display.HTML object>"
      ]
     },
     "metadata": {},
     "output_type": "display_data"
    },
    {
     "name": "stdout",
     "output_type": "stream",
     "text": [
      "[2023050200007]\n"
     ]
    },
    {
     "data": {
      "text/html": [
       "<pre style=\"margin: 0.1em;\n",
       "padding-left: 0.25em;\n",
       "border-left-style: solid;\n",
       "font-family: var(--jp-code-font-family);\n",
       "font-size: var(--jp-code-font-size);\n",
       "line-height: var(--jp-code-line-height);\n",
       "\"><span style=\"color: var(--jp-warn-color2)\">lsst.obs.base._fitsRawFormatterBase</span> <span style=\"color: var(--jp-warn-color0)\">WARNING</span>: Cannot create a valid WCS from metadata: CRPIX1</pre>"
      ],
      "text/plain": [
       "<IPython.core.display.HTML object>"
      ]
     },
     "metadata": {},
     "output_type": "display_data"
    },
    {
     "data": {
      "text/html": [
       "<pre style=\"margin: 0.1em;\n",
       "padding-left: 0.25em;\n",
       "border-left-style: solid;\n",
       "font-family: var(--jp-code-font-family);\n",
       "font-size: var(--jp-code-font-size);\n",
       "line-height: var(--jp-code-line-height);\n",
       "\"><span style=\"color: var(--jp-warn-color2)\">root</span> <span style=\"color: var(--jp-info-color0)\">INFO</span>: Observation ID: 2023050200006</pre>"
      ],
      "text/plain": [
       "<IPython.core.display.HTML object>"
      ]
     },
     "metadata": {},
     "output_type": "display_data"
    },
    {
     "data": {
      "text/html": [
       "<pre style=\"margin: 0.1em;\n",
       "padding-left: 0.25em;\n",
       "border-left-style: solid;\n",
       "font-family: var(--jp-code-font-family);\n",
       "font-size: var(--jp-code-font-size);\n",
       "line-height: var(--jp-code-line-height);\n",
       "\"><span style=\"color: var(--jp-warn-color2)\">root</span> <span style=\"color: var(--jp-info-color0)\">INFO</span>:     Median: 13989.0</pre>"
      ],
      "text/plain": [
       "<IPython.core.display.HTML object>"
      ]
     },
     "metadata": {},
     "output_type": "display_data"
    },
    {
     "data": {
      "text/html": [
       "<pre style=\"margin: 0.1em;\n",
       "padding-left: 0.25em;\n",
       "border-left-style: solid;\n",
       "font-family: var(--jp-code-font-family);\n",
       "font-size: var(--jp-code-font-size);\n",
       "line-height: var(--jp-code-line-height);\n",
       "\"><span style=\"color: var(--jp-warn-color2)\">root</span> <span style=\"color: var(--jp-info-color0)\">INFO</span>:     Mean: 14413.496527777777</pre>"
      ],
      "text/plain": [
       "<IPython.core.display.HTML object>"
      ]
     },
     "metadata": {},
     "output_type": "display_data"
    },
    {
     "data": {
      "text/html": [
       "<pre style=\"margin: 0.1em;\n",
       "padding-left: 0.25em;\n",
       "border-left-style: solid;\n",
       "font-family: var(--jp-code-font-family);\n",
       "font-size: var(--jp-code-font-size);\n",
       "line-height: var(--jp-code-line-height);\n",
       "\"><span style=\"color: var(--jp-warn-color2)\">root</span> <span style=\"color: var(--jp-info-color0)\">INFO</span>:     Std: 1992.604805043971</pre>"
      ],
      "text/plain": [
       "<IPython.core.display.HTML object>"
      ]
     },
     "metadata": {},
     "output_type": "display_data"
    }
   ],
   "source": [
    "latiss.rem.atoods.evt_imageInOODS.flush()\n",
    "# Take image\n",
    "test_exp = await latiss.take_flats(\n",
    "    exptime=1, nflats=1, filter=filter_to_use, grating='empty_1', reason=\"Test\", program=\"SITCOM-790\")\n",
    "print(f\"The test exposure is {test_exp[0]}\")\n",
    "\n",
    "# Wait for image ingestion\n",
    "await latiss.rem.atoods.evt_imageInOODS.next(flush=False, timeout=10)\n",
    "\n",
    "# Measure median, mean and std on the image\n",
    "dataId = {'detector': 0, 'exposure': test_exp[0]}\n",
    "exp = butler.get('raw', dataId=dataId)     \n",
    "foo = exp.getMaskedImage()\n",
    "masked_array = np.ma.masked_array(foo.image.array, mask=foo.mask.array)\n",
    "\n",
    "logger.info(f\"Observation ID: {level[0]}\")\n",
    "logger.info(f\"    Median: {np.ma.median(masked_array)}\")\n",
    "logger.info(f\"    Mean: {np.ma.mean(masked_array)}\")\n",
    "logger.info(f\"    Std: {np.ma.std(masked_array)}\")"
   ]
  },
  {
   "cell_type": "markdown",
   "id": "07627de7",
   "metadata": {},
   "source": [
    "## Start Sequence\n",
    "\n",
    "Now that we have our start point for the filter, we take triplets of sky flats with offsets of 30 arcsec between each. We will repeat with the different exposure times defined in the `exp_times` array in the next cell. \n",
    "\n",
    "Confirm signal levels as they show up in the http://ccs.lsst.org/RecentImages/auxtel.htmlhttp://ccs.lsst.org/RecentImages/auxtel.html."
   ]
  },
  {
   "cell_type": "code",
   "execution_count": null,
   "id": "beca1a96-d702-4ffd-863f-7dc55c31344d",
   "metadata": {},
   "outputs": [],
   "source": [
    "exp_times = [2,4,8,16]"
   ]
  },
  {
   "cell_type": "code",
   "execution_count": 37,
   "id": "c50cd2c0-bdfc-429d-84b1-a8176e52f5a4",
   "metadata": {
    "execution": {
     "iopub.execute_input": "2023-05-02T16:57:33.327015Z",
     "iopub.status.busy": "2023-05-02T16:57:33.326537Z",
     "iopub.status.idle": "2023-05-02T16:58:00.238674Z",
     "shell.execute_reply": "2023-05-02T16:58:00.238063Z",
     "shell.execute_reply.started": "2023-05-02T16:57:33.326972Z"
    },
    "tags": []
   },
   "outputs": [
    {
     "data": {
      "text/html": [
       "<pre style=\"margin: 0.1em;\n",
       "padding-left: 0.25em;\n",
       "border-left-style: solid;\n",
       "font-family: var(--jp-code-font-family);\n",
       "font-size: var(--jp-code-font-size);\n",
       "line-height: var(--jp-code-line-height);\n",
       "\"><span style=\"color: var(--jp-warn-color2)\">ATHeaderService.logevent_logMessage</span> <span style=\"color: var(--jp-warn-color0)\">WARNING</span>: evt_logMessage DDS read queue is filling: 14 of 100 elements</pre>"
      ],
      "text/plain": [
       "<IPython.core.display.HTML object>"
      ]
     },
     "metadata": {},
     "output_type": "display_data"
    },
    {
     "data": {
      "text/html": [
       "<pre style=\"margin: 0.1em;\n",
       "padding-left: 0.25em;\n",
       "border-left-style: solid;\n",
       "font-family: var(--jp-code-font-family);\n",
       "font-size: var(--jp-code-font-size);\n",
       "line-height: var(--jp-code-line-height);\n",
       "\"><span style=\"color: var(--jp-warn-color2)\">ATHeaderService.logevent_logMessage</span> <span style=\"color: var(--jp-warn-color0)\">WARNING</span>: evt_logMessage DDS read queue is filling: 14 of 100 elements</pre>"
      ],
      "text/plain": [
       "<IPython.core.display.HTML object>"
      ]
     },
     "metadata": {},
     "output_type": "display_data"
    },
    {
     "data": {
      "text/html": [
       "<pre style=\"margin: 0.1em;\n",
       "padding-left: 0.25em;\n",
       "border-left-style: solid;\n",
       "font-family: var(--jp-code-font-family);\n",
       "font-size: var(--jp-code-font-size);\n",
       "line-height: var(--jp-code-line-height);\n",
       "\"><span style=\"color: var(--jp-warn-color2)\">ATHeaderService.logevent_logMessage</span> <span style=\"color: var(--jp-warn-color0)\">WARNING</span>: evt_logMessage DDS read queue is filling: 11 of 100 elements</pre>"
      ],
      "text/plain": [
       "<IPython.core.display.HTML object>"
      ]
     },
     "metadata": {},
     "output_type": "display_data"
    },
    {
     "data": {
      "text/html": [
       "<pre style=\"margin: 0.1em;\n",
       "padding-left: 0.25em;\n",
       "border-left-style: solid;\n",
       "font-family: var(--jp-code-font-family);\n",
       "font-size: var(--jp-code-font-size);\n",
       "line-height: var(--jp-code-line-height);\n",
       "\"><span style=\"color: var(--jp-warn-color2)\">ATHeaderService.logevent_logMessage</span> <span style=\"color: var(--jp-warn-color0)\">WARNING</span>: evt_logMessage DDS read queue is filling: 12 of 100 elements</pre>"
      ],
      "text/plain": [
       "<IPython.core.display.HTML object>"
      ]
     },
     "metadata": {},
     "output_type": "display_data"
    },
    {
     "data": {
      "text/html": [
       "<pre style=\"margin: 0.1em;\n",
       "padding-left: 0.25em;\n",
       "border-left-style: solid;\n",
       "font-family: var(--jp-code-font-family);\n",
       "font-size: var(--jp-code-font-size);\n",
       "line-height: var(--jp-code-line-height);\n",
       "\"><span style=\"color: var(--jp-warn-color2)\">ATHeaderService.logevent_logMessage</span> <span style=\"color: var(--jp-warn-color0)\">WARNING</span>: evt_logMessage DDS read queue is filling: 10 of 100 elements</pre>"
      ],
      "text/plain": [
       "<IPython.core.display.HTML object>"
      ]
     },
     "metadata": {},
     "output_type": "display_data"
    },
    {
     "data": {
      "text/html": [
       "<pre style=\"margin: 0.1em;\n",
       "padding-left: 0.25em;\n",
       "border-left-style: solid;\n",
       "font-family: var(--jp-code-font-family);\n",
       "font-size: var(--jp-code-font-size);\n",
       "line-height: var(--jp-code-line-height);\n",
       "\"><span style=\"color: var(--jp-warn-color2)\">ATHeaderService.logevent_logMessage</span> <span style=\"color: var(--jp-warn-color0)\">WARNING</span>: evt_logMessage DDS read queue is filling: 17 of 100 elements</pre>"
      ],
      "text/plain": [
       "<IPython.core.display.HTML object>"
      ]
     },
     "metadata": {},
     "output_type": "display_data"
    },
    {
     "data": {
      "text/html": [
       "<pre style=\"margin: 0.1em;\n",
       "padding-left: 0.25em;\n",
       "border-left-style: solid;\n",
       "font-family: var(--jp-code-font-family);\n",
       "font-size: var(--jp-code-font-size);\n",
       "line-height: var(--jp-code-line-height);\n",
       "\"><span style=\"color: var(--jp-warn-color2)\">ATHeaderService.logevent_logMessage</span> <span style=\"color: var(--jp-warn-color0)\">WARNING</span>: evt_logMessage DDS read queue is filling: 59 of 100 elements</pre>"
      ],
      "text/plain": [
       "<IPython.core.display.HTML object>"
      ]
     },
     "metadata": {},
     "output_type": "display_data"
    },
    {
     "data": {
      "text/html": [
       "<pre style=\"margin: 0.1em;\n",
       "padding-left: 0.25em;\n",
       "border-left-style: solid;\n",
       "font-family: var(--jp-code-font-family);\n",
       "font-size: var(--jp-code-font-size);\n",
       "line-height: var(--jp-code-line-height);\n",
       "\"><span style=\"color: var(--jp-warn-color2)\">ATHeaderService.logevent_logMessage</span> <span style=\"color: var(--jp-warn-color0)\">WARNING</span>: evt_logMessage DDS read queue is filling: 11 of 100 elements</pre>"
      ],
      "text/plain": [
       "<IPython.core.display.HTML object>"
      ]
     },
     "metadata": {},
     "output_type": "display_data"
    },
    {
     "data": {
      "text/html": [
       "<pre style=\"margin: 0.1em;\n",
       "padding-left: 0.25em;\n",
       "border-left-style: solid;\n",
       "font-family: var(--jp-code-font-family);\n",
       "font-size: var(--jp-code-font-size);\n",
       "line-height: var(--jp-code-line-height);\n",
       "\"><span style=\"color: var(--jp-warn-color2)\">ATHeaderService.logevent_logMessage</span> <span style=\"color: var(--jp-warn-color0)\">WARNING</span>: evt_logMessage DDS read queue is filling: 11 of 100 elements</pre>"
      ],
      "text/plain": [
       "<IPython.core.display.HTML object>"
      ]
     },
     "metadata": {},
     "output_type": "display_data"
    },
    {
     "data": {
      "text/html": [
       "<pre style=\"margin: 0.1em;\n",
       "padding-left: 0.25em;\n",
       "border-left-style: solid;\n",
       "font-family: var(--jp-code-font-family);\n",
       "font-size: var(--jp-code-font-size);\n",
       "line-height: var(--jp-code-line-height);\n",
       "\"><span style=\"color: var(--jp-warn-color2)\">ATHeaderService.logevent_logMessage</span> <span style=\"color: var(--jp-warn-color0)\">WARNING</span>: evt_logMessage DDS read queue is filling: 13 of 100 elements</pre>"
      ],
      "text/plain": [
       "<IPython.core.display.HTML object>"
      ]
     },
     "metadata": {},
     "output_type": "display_data"
    },
    {
     "data": {
      "text/html": [
       "<pre style=\"margin: 0.1em;\n",
       "padding-left: 0.25em;\n",
       "border-left-style: solid;\n",
       "font-family: var(--jp-code-font-family);\n",
       "font-size: var(--jp-code-font-size);\n",
       "line-height: var(--jp-code-line-height);\n",
       "\"><span style=\"color: var(--jp-warn-color2)\">ATHeaderService.logevent_logMessage</span> <span style=\"color: var(--jp-warn-color0)\">WARNING</span>: evt_logMessage DDS read queue is filling: 13 of 100 elements</pre>"
      ],
      "text/plain": [
       "<IPython.core.display.HTML object>"
      ]
     },
     "metadata": {},
     "output_type": "display_data"
    },
    {
     "data": {
      "text/html": [
       "<pre style=\"margin: 0.1em;\n",
       "padding-left: 0.25em;\n",
       "border-left-style: solid;\n",
       "font-family: var(--jp-code-font-family);\n",
       "font-size: var(--jp-code-font-size);\n",
       "line-height: var(--jp-code-line-height);\n",
       "\"><span style=\"color: var(--jp-warn-color2)\">ATHeaderService.logevent_logMessage</span> <span style=\"color: var(--jp-warn-color0)\">WARNING</span>: evt_logMessage DDS read queue is filling: 16 of 100 elements</pre>"
      ],
      "text/plain": [
       "<IPython.core.display.HTML object>"
      ]
     },
     "metadata": {},
     "output_type": "display_data"
    },
    {
     "data": {
      "text/html": [
       "<pre style=\"margin: 0.1em;\n",
       "padding-left: 0.25em;\n",
       "border-left-style: solid;\n",
       "font-family: var(--jp-code-font-family);\n",
       "font-size: var(--jp-code-font-size);\n",
       "line-height: var(--jp-code-line-height);\n",
       "\"><span style=\"color: var(--jp-warn-color2)\">ATHeaderService.logevent_logMessage</span> <span style=\"color: var(--jp-warn-color0)\">WARNING</span>: evt_logMessage DDS read queue is filling: 10 of 100 elements</pre>"
      ],
      "text/plain": [
       "<IPython.core.display.HTML object>"
      ]
     },
     "metadata": {},
     "output_type": "display_data"
    },
    {
     "data": {
      "text/html": [
       "<pre style=\"margin: 0.1em;\n",
       "padding-left: 0.25em;\n",
       "border-left-style: solid;\n",
       "font-family: var(--jp-code-font-family);\n",
       "font-size: var(--jp-code-font-size);\n",
       "line-height: var(--jp-code-line-height);\n",
       "\"><span style=\"color: var(--jp-warn-color2)\">ATHeaderService.logevent_logMessage</span> <span style=\"color: var(--jp-warn-color0)\">WARNING</span>: evt_logMessage DDS read queue is filling: 10 of 100 elements</pre>"
      ],
      "text/plain": [
       "<IPython.core.display.HTML object>"
      ]
     },
     "metadata": {},
     "output_type": "display_data"
    }
   ],
   "source": [
    "for time in exp_times:\n",
    "    print(f\"Starting with {time} seconds sky-flats exposures\")\n",
    "    \n",
    "    await atcs.offset_xy(x=0, y=0)\n",
    "    await latiss.take_flats(\n",
    "        exptime=time, nflats=1, filter=filter_to_use, grating='empty_1', reason=\"Sky_Flat\", program=\"Test-790\")\n",
    "    \n",
    "    await atcs.offset_xy(x=offset, y=0)\n",
    "    await latiss.take_flats(\n",
    "        exptime=time, nflats=1, filter=filter_to_use, grating='empty_1', reason=\"Sky_Flat\", program=\"Test-790\")\n",
    "    \n",
    "    await atcs.offset_xy(x=0, y=offset)\n",
    "    await latiss.take_flats(\n",
    "        exptime=time, nflats=1, filter=filter_to_use, grating='empty_1', reason=\"Sky_Flat\", program=\"Test-790\")"
   ]
  },
  {
   "cell_type": "markdown",
   "id": "9affc628",
   "metadata": {},
   "source": [
    "## Image Assessment"
   ]
  },
  {
   "cell_type": "markdown",
   "id": "d8fd4a8f-5a1d-4084-b160-cbb309d7882c",
   "metadata": {},
   "source": [
    "The two next cells will serve to check the median, mean and std of the signal across an image. \n",
    "Edit the `day_obs` and `seq_num` in the `dataId` row. "
   ]
  },
  {
   "cell_type": "code",
   "execution_count": 9,
   "id": "9ea97bb9",
   "metadata": {
    "execution": {
     "iopub.execute_input": "2023-05-02T16:16:27.887269Z",
     "iopub.status.busy": "2023-05-02T16:16:27.886900Z",
     "iopub.status.idle": "2023-05-02T16:16:28.743195Z",
     "shell.execute_reply": "2023-05-02T16:16:28.742570Z",
     "shell.execute_reply.started": "2023-05-02T16:16:27.887251Z"
    },
    "tags": []
   },
   "outputs": [
    {
     "data": {
      "text/html": [
       "<pre style=\"margin: 0.1em;\n",
       "padding-left: 0.25em;\n",
       "border-left-style: solid;\n",
       "font-family: var(--jp-code-font-family);\n",
       "font-size: var(--jp-code-font-size);\n",
       "line-height: var(--jp-code-line-height);\n",
       "\"><span style=\"color: var(--jp-warn-color2)\">lsst.obs.base._fitsRawFormatterBase</span> <span style=\"color: var(--jp-warn-color0)\">WARNING</span>: Cannot create a valid WCS from metadata: CRPIX1</pre>"
      ],
      "text/plain": [
       "<IPython.core.display.HTML object>"
      ]
     },
     "metadata": {},
     "output_type": "display_data"
    }
   ],
   "source": [
    "dataId = {'detector': 0, 'day_obs': 20230427, 'seq_num': 87}\n",
    "exp = butler.get('raw', dataId=dataId)"
   ]
  },
  {
   "cell_type": "code",
   "execution_count": 10,
   "id": "2d64ac77",
   "metadata": {
    "execution": {
     "iopub.execute_input": "2023-05-02T16:16:30.430973Z",
     "iopub.status.busy": "2023-05-02T16:16:30.430542Z",
     "iopub.status.idle": "2023-05-02T16:16:32.623384Z",
     "shell.execute_reply": "2023-05-02T16:16:32.622879Z",
     "shell.execute_reply.started": "2023-05-02T16:16:30.430950Z"
    },
    "tags": []
   },
   "outputs": [
    {
     "data": {
      "text/html": [
       "<pre style=\"margin: 0.1em;\n",
       "padding-left: 0.25em;\n",
       "border-left-style: solid;\n",
       "font-family: var(--jp-code-font-family);\n",
       "font-size: var(--jp-code-font-size);\n",
       "line-height: var(--jp-code-line-height);\n",
       "\"><span style=\"color: var(--jp-warn-color2)\">root</span> <span style=\"color: var(--jp-info-color0)\">INFO</span>: Observation ID: AT_O_20230427_000087</pre>"
      ],
      "text/plain": [
       "<IPython.core.display.HTML object>"
      ]
     },
     "metadata": {},
     "output_type": "display_data"
    },
    {
     "data": {
      "text/html": [
       "<pre style=\"margin: 0.1em;\n",
       "padding-left: 0.25em;\n",
       "border-left-style: solid;\n",
       "font-family: var(--jp-code-font-family);\n",
       "font-size: var(--jp-code-font-size);\n",
       "line-height: var(--jp-code-line-height);\n",
       "\"><span style=\"color: var(--jp-warn-color2)\">root</span> <span style=\"color: var(--jp-info-color0)\">INFO</span>:     Median: 49666.0</pre>"
      ],
      "text/plain": [
       "<IPython.core.display.HTML object>"
      ]
     },
     "metadata": {},
     "output_type": "display_data"
    },
    {
     "data": {
      "text/html": [
       "<pre style=\"margin: 0.1em;\n",
       "padding-left: 0.25em;\n",
       "border-left-style: solid;\n",
       "font-family: var(--jp-code-font-family);\n",
       "font-size: var(--jp-code-font-size);\n",
       "line-height: var(--jp-code-line-height);\n",
       "\"><span style=\"color: var(--jp-warn-color2)\">root</span> <span style=\"color: var(--jp-info-color0)\">INFO</span>:     Mean: 45547.62847222222</pre>"
      ],
      "text/plain": [
       "<IPython.core.display.HTML object>"
      ]
     },
     "metadata": {},
     "output_type": "display_data"
    },
    {
     "data": {
      "text/html": [
       "<pre style=\"margin: 0.1em;\n",
       "padding-left: 0.25em;\n",
       "border-left-style: solid;\n",
       "font-family: var(--jp-code-font-family);\n",
       "font-size: var(--jp-code-font-size);\n",
       "line-height: var(--jp-code-line-height);\n",
       "\"><span style=\"color: var(--jp-warn-color2)\">root</span> <span style=\"color: var(--jp-info-color0)\">INFO</span>:     Std: 12628.59856913115</pre>"
      ],
      "text/plain": [
       "<IPython.core.display.HTML object>"
      ]
     },
     "metadata": {},
     "output_type": "display_data"
    }
   ],
   "source": [
    "foo = exp.getMaskedImage()\n",
    "masked_array = np.ma.masked_array(foo.image.array, mask=foo.mask.array)\n",
    "meta = exp.getMetadata()\n",
    "\n",
    "logger.info(f\"Observation ID: {meta['OBSID']}\")\n",
    "logger.info(f\"    Median: {np.ma.median(masked_array)}\")\n",
    "logger.info(f\"    Mean: {np.ma.mean(masked_array)}\")\n",
    "logger.info(f\"    Std: {np.ma.std(masked_array)}\")"
   ]
  }
 ],
 "metadata": {
  "kernelspec": {
   "display_name": "LSST",
   "language": "python",
   "name": "lsst"
  },
  "language_info": {
   "codemirror_mode": {
    "name": "ipython",
    "version": 3
   },
   "file_extension": ".py",
   "mimetype": "text/x-python",
   "name": "python",
   "nbconvert_exporter": "python",
   "pygments_lexer": "ipython3",
   "version": "3.10.10"
  }
 },
 "nbformat": 4,
 "nbformat_minor": 5
}
