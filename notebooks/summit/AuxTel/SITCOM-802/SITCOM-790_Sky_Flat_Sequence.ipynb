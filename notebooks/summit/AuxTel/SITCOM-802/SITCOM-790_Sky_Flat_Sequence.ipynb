{
 "cells": [
  {
   "cell_type": "markdown",
   "id": "aae50e6f",
   "metadata": {},
   "source": [
    "# AuxTel - Sky Flats Sequence\n",
    "\n",
    "This notebook is a draft of procedures we can use during twilight to take Sky Flats using different filters as per SITCOM-790. \n",
    "https://jira.lsstcorp.org/browse/SITCOM-790https://jira.lsstcorp.org/browse/SITCOM-790\n",
    "\n",
    "It is meant to be executed between sunset and the time between the end of the civil and nautical twilights, that is, when the Sun's elevation is between 0 and 9 degrees below horizon. At 9 degrees below horizon, AuxTel should go on-sky to absorb zero-point offsets and perform the first WEP mirror alignment and focus of the night.\n",
    "\n",
    "This procedure requires that AuxTel is ready for on-sky in advance, when the Sun is 25 degrees above horizon. \n",
    "\n",
    "Be prepared to run this notebook at the time of sunset to have enough time for the three available filters. \n",
    "\n",
    "After the setup is completed, we find an empty field in the opposite direction of the Sun, then we slew to this field, and take an image. This image will probably have saturation. We start a loop of taking images in the same position until we get an image that does not saturate. Also start with the bluest filter. \n",
    "\n",
    "Once the image is not saturated anymore, we take a sequence of images with small dithers and increasing exposure times. SITCOM-something like 12 flats per filter."
   ]
  },
  {
   "cell_type": "markdown",
   "id": "34e05910",
   "metadata": {},
   "source": [
    "## Setup"
   ]
  },
  {
   "cell_type": "code",
   "execution_count": 1,
   "id": "b075a005",
   "metadata": {
    "execution": {
     "iopub.execute_input": "2023-05-05T17:01:26.097033Z",
     "iopub.status.busy": "2023-05-05T17:01:26.096880Z",
     "iopub.status.idle": "2023-05-05T17:01:28.725306Z",
     "shell.execute_reply": "2023-05-05T17:01:28.724690Z",
     "shell.execute_reply.started": "2023-05-05T17:01:26.097018Z"
    },
    "tags": []
   },
   "outputs": [
    {
     "data": {
      "text/html": [
       "<pre style=\"margin: 0.1em;\n",
       "padding-left: 0.25em;\n",
       "border-left-style: solid;\n",
       "font-family: var(--jp-code-font-family);\n",
       "font-size: var(--jp-code-font-size);\n",
       "line-height: var(--jp-code-line-height);\n",
       "\"><span style=\"color: var(--jp-warn-color2)\">lsst.ts.utils.tai</span> <span style=\"color: var(--jp-info-color0)\">INFO</span>: Update leap second table</pre>"
      ],
      "text/plain": [
       "<IPython.core.display.HTML object>"
      ]
     },
     "metadata": {},
     "output_type": "display_data"
    },
    {
     "data": {
      "text/html": [
       "<pre style=\"margin: 0.1em;\n",
       "padding-left: 0.25em;\n",
       "border-left-style: solid;\n",
       "font-family: var(--jp-code-font-family);\n",
       "font-size: var(--jp-code-font-size);\n",
       "line-height: var(--jp-code-line-height);\n",
       "\"><span style=\"color: var(--jp-warn-color2)\">lsst.ts.utils.tai</span> <span style=\"color: var(--jp-info-color0)\">INFO</span>: current_tai uses the system TAI clock</pre>"
      ],
      "text/plain": [
       "<IPython.core.display.HTML object>"
      ]
     },
     "metadata": {},
     "output_type": "display_data"
    },
    {
     "name": "stdout",
     "output_type": "stream",
     "text": [
      "WARNING: failed to automatically determine site\n"
     ]
    },
    {
     "name": "stderr",
     "output_type": "stream",
     "text": [
      "/home/isotuela/auto-op-env-packages/ts_observatory_control/python/lsst/ts/observatory/control/utils/extras/dm_target_catalog.py:44: UserWarning: Cannot import required libraries. Module will not work.\n",
      "  warnings.warn(\"Cannot import required libraries. Module will not work.\")\n"
     ]
    }
   ],
   "source": [
    "import asyncio\n",
    "import time\n",
    "import os\n",
    "import numpy as np\n",
    "import matplotlib.pyplot as plt\n",
    "import logging\n",
    "import time\n",
    "\n",
    "from astropy import coordinates\n",
    "from astropy import units as u\n",
    "from astropy.time import Time\n",
    "from astroquery.exceptions import NoResultsWarning\n",
    "from astroquery.vizier import Vizier\n",
    "from datetime import datetime\n",
    "from warnings import warn\n",
    "\n",
    "from lsst.ts import salobj\n",
    "\n",
    "from lsst.ts.observatory.control.auxtel.atcs import ATCS\n",
    "from lsst.ts.observatory.control.auxtel.latiss import LATISS\n",
    "from lsst.ts.observatory.control.utils import RotType\n",
    "\n",
    "import lsst.daf.butler.cli.cliLog as cliLog\n",
    "import lsst.daf.butler as dafButler"
   ]
  },
  {
   "cell_type": "code",
   "execution_count": 2,
   "id": "aa94f109",
   "metadata": {
    "execution": {
     "iopub.execute_input": "2023-05-05T17:01:28.728236Z",
     "iopub.status.busy": "2023-05-05T17:01:28.728065Z",
     "iopub.status.idle": "2023-05-05T17:01:28.731351Z",
     "shell.execute_reply": "2023-05-05T17:01:28.730852Z",
     "shell.execute_reply.started": "2023-05-05T17:01:28.728220Z"
    },
    "tags": []
   },
   "outputs": [],
   "source": [
    "logger = logging.getLogger(f\"Sky Flats {Time.now()} UT\")\n",
    "logger.level = logging.INFO"
   ]
  },
  {
   "cell_type": "code",
   "execution_count": 3,
   "id": "84b698b1",
   "metadata": {
    "execution": {
     "iopub.execute_input": "2023-05-05T17:01:28.733414Z",
     "iopub.status.busy": "2023-05-05T17:01:28.733269Z",
     "iopub.status.idle": "2023-05-05T17:01:30.069008Z",
     "shell.execute_reply": "2023-05-05T17:01:30.068464Z",
     "shell.execute_reply.started": "2023-05-05T17:01:28.733402Z"
    },
    "tags": []
   },
   "outputs": [
    {
     "data": {
      "text/html": [
       "<pre style=\"margin: 0.1em;\n",
       "padding-left: 0.25em;\n",
       "border-left-style: solid;\n",
       "font-family: var(--jp-code-font-family);\n",
       "font-size: var(--jp-code-font-size);\n",
       "line-height: var(--jp-code-line-height);\n",
       "\"><span style=\"color: var(--jp-warn-color2)\">ATMCS</span> <span style=\"color: var(--jp-info-color0)\">INFO</span>: Disabling authlist-based command authorization</pre>"
      ],
      "text/plain": [
       "<IPython.core.display.HTML object>"
      ]
     },
     "metadata": {},
     "output_type": "display_data"
    },
    {
     "data": {
      "text/html": [
       "<pre style=\"margin: 0.1em;\n",
       "padding-left: 0.25em;\n",
       "border-left-style: solid;\n",
       "font-family: var(--jp-code-font-family);\n",
       "font-size: var(--jp-code-font-size);\n",
       "line-height: var(--jp-code-line-height);\n",
       "\"><span style=\"color: var(--jp-warn-color2)\">ATPtg</span> <span style=\"color: var(--jp-info-color0)\">INFO</span>: Disabling authlist-based command authorization</pre>"
      ],
      "text/plain": [
       "<IPython.core.display.HTML object>"
      ]
     },
     "metadata": {},
     "output_type": "display_data"
    },
    {
     "data": {
      "text/html": [
       "<pre style=\"margin: 0.1em;\n",
       "padding-left: 0.25em;\n",
       "border-left-style: solid;\n",
       "font-family: var(--jp-code-font-family);\n",
       "font-size: var(--jp-code-font-size);\n",
       "line-height: var(--jp-code-line-height);\n",
       "\"><span style=\"color: var(--jp-warn-color2)\">ATAOS</span> <span style=\"color: var(--jp-info-color0)\">INFO</span>: Disabling authlist-based command authorization</pre>"
      ],
      "text/plain": [
       "<IPython.core.display.HTML object>"
      ]
     },
     "metadata": {},
     "output_type": "display_data"
    },
    {
     "data": {
      "text/html": [
       "<pre style=\"margin: 0.1em;\n",
       "padding-left: 0.25em;\n",
       "border-left-style: solid;\n",
       "font-family: var(--jp-code-font-family);\n",
       "font-size: var(--jp-code-font-size);\n",
       "line-height: var(--jp-code-line-height);\n",
       "\"><span style=\"color: var(--jp-warn-color2)\">ATPneumatics</span> <span style=\"color: var(--jp-info-color0)\">INFO</span>: Disabling authlist-based command authorization</pre>"
      ],
      "text/plain": [
       "<IPython.core.display.HTML object>"
      ]
     },
     "metadata": {},
     "output_type": "display_data"
    },
    {
     "data": {
      "text/html": [
       "<pre style=\"margin: 0.1em;\n",
       "padding-left: 0.25em;\n",
       "border-left-style: solid;\n",
       "font-family: var(--jp-code-font-family);\n",
       "font-size: var(--jp-code-font-size);\n",
       "line-height: var(--jp-code-line-height);\n",
       "\"><span style=\"color: var(--jp-warn-color2)\">ATHexapod</span> <span style=\"color: var(--jp-info-color0)\">INFO</span>: Disabling authlist-based command authorization</pre>"
      ],
      "text/plain": [
       "<IPython.core.display.HTML object>"
      ]
     },
     "metadata": {},
     "output_type": "display_data"
    },
    {
     "data": {
      "text/html": [
       "<pre style=\"margin: 0.1em;\n",
       "padding-left: 0.25em;\n",
       "border-left-style: solid;\n",
       "font-family: var(--jp-code-font-family);\n",
       "font-size: var(--jp-code-font-size);\n",
       "line-height: var(--jp-code-line-height);\n",
       "\"><span style=\"color: var(--jp-warn-color2)\">ATDome</span> <span style=\"color: var(--jp-info-color0)\">INFO</span>: Disabling authlist-based command authorization</pre>"
      ],
      "text/plain": [
       "<IPython.core.display.HTML object>"
      ]
     },
     "metadata": {},
     "output_type": "display_data"
    },
    {
     "data": {
      "text/html": [
       "<pre style=\"margin: 0.1em;\n",
       "padding-left: 0.25em;\n",
       "border-left-style: solid;\n",
       "font-family: var(--jp-code-font-family);\n",
       "font-size: var(--jp-code-font-size);\n",
       "line-height: var(--jp-code-line-height);\n",
       "\"><span style=\"color: var(--jp-warn-color2)\">ATDomeTrajectory</span> <span style=\"color: var(--jp-info-color0)\">INFO</span>: Disabling authlist-based command authorization</pre>"
      ],
      "text/plain": [
       "<IPython.core.display.HTML object>"
      ]
     },
     "metadata": {},
     "output_type": "display_data"
    },
    {
     "data": {
      "text/html": [
       "<pre style=\"margin: 0.1em;\n",
       "padding-left: 0.25em;\n",
       "border-left-style: solid;\n",
       "font-family: var(--jp-code-font-family);\n",
       "font-size: var(--jp-code-font-size);\n",
       "line-height: var(--jp-code-line-height);\n",
       "\"><span style=\"color: var(--jp-warn-color2)\">ATCamera</span> <span style=\"color: var(--jp-info-color0)\">INFO</span>: Disabling authlist-based command authorization</pre>"
      ],
      "text/plain": [
       "<IPython.core.display.HTML object>"
      ]
     },
     "metadata": {},
     "output_type": "display_data"
    },
    {
     "data": {
      "text/html": [
       "<pre style=\"margin: 0.1em;\n",
       "padding-left: 0.25em;\n",
       "border-left-style: solid;\n",
       "font-family: var(--jp-code-font-family);\n",
       "font-size: var(--jp-code-font-size);\n",
       "line-height: var(--jp-code-line-height);\n",
       "\"><span style=\"color: var(--jp-warn-color2)\">ATSpectrograph</span> <span style=\"color: var(--jp-info-color0)\">INFO</span>: Disabling authlist-based command authorization</pre>"
      ],
      "text/plain": [
       "<IPython.core.display.HTML object>"
      ]
     },
     "metadata": {},
     "output_type": "display_data"
    },
    {
     "data": {
      "text/html": [
       "<pre style=\"margin: 0.1em;\n",
       "padding-left: 0.25em;\n",
       "border-left-style: solid;\n",
       "font-family: var(--jp-code-font-family);\n",
       "font-size: var(--jp-code-font-size);\n",
       "line-height: var(--jp-code-line-height);\n",
       "\"><span style=\"color: var(--jp-warn-color2)\">ATHeaderService</span> <span style=\"color: var(--jp-info-color0)\">INFO</span>: Disabling authlist-based command authorization</pre>"
      ],
      "text/plain": [
       "<IPython.core.display.HTML object>"
      ]
     },
     "metadata": {},
     "output_type": "display_data"
    },
    {
     "data": {
      "text/html": [
       "<pre style=\"margin: 0.1em;\n",
       "padding-left: 0.25em;\n",
       "border-left-style: solid;\n",
       "font-family: var(--jp-code-font-family);\n",
       "font-size: var(--jp-code-font-size);\n",
       "line-height: var(--jp-code-line-height);\n",
       "\"><span style=\"color: var(--jp-warn-color2)\">ATOODS</span> <span style=\"color: var(--jp-info-color0)\">INFO</span>: Disabling authlist-based command authorization</pre>"
      ],
      "text/plain": [
       "<IPython.core.display.HTML object>"
      ]
     },
     "metadata": {},
     "output_type": "display_data"
    },
    {
     "data": {
      "text/html": [
       "<pre style=\"margin: 0.1em;\n",
       "padding-left: 0.25em;\n",
       "border-left-style: solid;\n",
       "font-family: var(--jp-code-font-family);\n",
       "font-size: var(--jp-code-font-size);\n",
       "line-height: var(--jp-code-line-height);\n",
       "\"><span style=\"color: var(--jp-warn-color2)\">ATHexapod</span> <span style=\"color: var(--jp-info-color0)\">INFO</span>: Read historical data in 0.00 sec</pre>"
      ],
      "text/plain": [
       "<IPython.core.display.HTML object>"
      ]
     },
     "metadata": {},
     "output_type": "display_data"
    },
    {
     "data": {
      "text/html": [
       "<pre style=\"margin: 0.1em;\n",
       "padding-left: 0.25em;\n",
       "border-left-style: solid;\n",
       "font-family: var(--jp-code-font-family);\n",
       "font-size: var(--jp-code-font-size);\n",
       "line-height: var(--jp-code-line-height);\n",
       "\"><span style=\"color: var(--jp-warn-color2)\">ATDomeTrajectory</span> <span style=\"color: var(--jp-info-color0)\">INFO</span>: Read historical data in 0.01 sec</pre>"
      ],
      "text/plain": [
       "<IPython.core.display.HTML object>"
      ]
     },
     "metadata": {},
     "output_type": "display_data"
    },
    {
     "data": {
      "text/html": [
       "<pre style=\"margin: 0.1em;\n",
       "padding-left: 0.25em;\n",
       "border-left-style: solid;\n",
       "font-family: var(--jp-code-font-family);\n",
       "font-size: var(--jp-code-font-size);\n",
       "line-height: var(--jp-code-line-height);\n",
       "\"><span style=\"color: var(--jp-warn-color2)\">ATAOS</span> <span style=\"color: var(--jp-info-color0)\">INFO</span>: Read historical data in 0.02 sec</pre>"
      ],
      "text/plain": [
       "<IPython.core.display.HTML object>"
      ]
     },
     "metadata": {},
     "output_type": "display_data"
    },
    {
     "data": {
      "text/html": [
       "<pre style=\"margin: 0.1em;\n",
       "padding-left: 0.25em;\n",
       "border-left-style: solid;\n",
       "font-family: var(--jp-code-font-family);\n",
       "font-size: var(--jp-code-font-size);\n",
       "line-height: var(--jp-code-line-height);\n",
       "\"><span style=\"color: var(--jp-warn-color2)\">ATPtg</span> <span style=\"color: var(--jp-info-color0)\">INFO</span>: Read historical data in 0.04 sec</pre>"
      ],
      "text/plain": [
       "<IPython.core.display.HTML object>"
      ]
     },
     "metadata": {},
     "output_type": "display_data"
    },
    {
     "data": {
      "text/html": [
       "<pre style=\"margin: 0.1em;\n",
       "padding-left: 0.25em;\n",
       "border-left-style: solid;\n",
       "font-family: var(--jp-code-font-family);\n",
       "font-size: var(--jp-code-font-size);\n",
       "line-height: var(--jp-code-line-height);\n",
       "\"><span style=\"color: var(--jp-warn-color2)\">ATDome</span> <span style=\"color: var(--jp-info-color0)\">INFO</span>: Read historical data in 0.06 sec</pre>"
      ],
      "text/plain": [
       "<IPython.core.display.HTML object>"
      ]
     },
     "metadata": {},
     "output_type": "display_data"
    },
    {
     "data": {
      "text/html": [
       "<pre style=\"margin: 0.1em;\n",
       "padding-left: 0.25em;\n",
       "border-left-style: solid;\n",
       "font-family: var(--jp-code-font-family);\n",
       "font-size: var(--jp-code-font-size);\n",
       "line-height: var(--jp-code-line-height);\n",
       "\"><span style=\"color: var(--jp-warn-color2)\">ATMCS</span> <span style=\"color: var(--jp-info-color0)\">INFO</span>: Read historical data in 0.07 sec</pre>"
      ],
      "text/plain": [
       "<IPython.core.display.HTML object>"
      ]
     },
     "metadata": {},
     "output_type": "display_data"
    },
    {
     "data": {
      "text/html": [
       "<pre style=\"margin: 0.1em;\n",
       "padding-left: 0.25em;\n",
       "border-left-style: solid;\n",
       "font-family: var(--jp-code-font-family);\n",
       "font-size: var(--jp-code-font-size);\n",
       "line-height: var(--jp-code-line-height);\n",
       "\"><span style=\"color: var(--jp-warn-color2)\">ATHeaderService</span> <span style=\"color: var(--jp-info-color0)\">INFO</span>: Read historical data in 0.09 sec</pre>"
      ],
      "text/plain": [
       "<IPython.core.display.HTML object>"
      ]
     },
     "metadata": {},
     "output_type": "display_data"
    },
    {
     "data": {
      "text/html": [
       "<pre style=\"margin: 0.1em;\n",
       "padding-left: 0.25em;\n",
       "border-left-style: solid;\n",
       "font-family: var(--jp-code-font-family);\n",
       "font-size: var(--jp-code-font-size);\n",
       "line-height: var(--jp-code-line-height);\n",
       "\"><span style=\"color: var(--jp-warn-color2)\">ATOODS</span> <span style=\"color: var(--jp-info-color0)\">INFO</span>: Read historical data in 0.10 sec</pre>"
      ],
      "text/plain": [
       "<IPython.core.display.HTML object>"
      ]
     },
     "metadata": {},
     "output_type": "display_data"
    },
    {
     "data": {
      "text/html": [
       "<pre style=\"margin: 0.1em;\n",
       "padding-left: 0.25em;\n",
       "border-left-style: solid;\n",
       "font-family: var(--jp-code-font-family);\n",
       "font-size: var(--jp-code-font-size);\n",
       "line-height: var(--jp-code-line-height);\n",
       "\"><span style=\"color: var(--jp-warn-color2)\">ATSpectrograph</span> <span style=\"color: var(--jp-info-color0)\">INFO</span>: Read historical data in 0.10 sec</pre>"
      ],
      "text/plain": [
       "<IPython.core.display.HTML object>"
      ]
     },
     "metadata": {},
     "output_type": "display_data"
    },
    {
     "data": {
      "text/html": [
       "<pre style=\"margin: 0.1em;\n",
       "padding-left: 0.25em;\n",
       "border-left-style: solid;\n",
       "font-family: var(--jp-code-font-family);\n",
       "font-size: var(--jp-code-font-size);\n",
       "line-height: var(--jp-code-line-height);\n",
       "\"><span style=\"color: var(--jp-warn-color2)\">ATPneumatics</span> <span style=\"color: var(--jp-info-color0)\">INFO</span>: Read historical data in 0.12 sec</pre>"
      ],
      "text/plain": [
       "<IPython.core.display.HTML object>"
      ]
     },
     "metadata": {},
     "output_type": "display_data"
    },
    {
     "data": {
      "text/html": [
       "<pre style=\"margin: 0.1em;\n",
       "padding-left: 0.25em;\n",
       "border-left-style: solid;\n",
       "font-family: var(--jp-code-font-family);\n",
       "font-size: var(--jp-code-font-size);\n",
       "line-height: var(--jp-code-line-height);\n",
       "\"><span style=\"color: var(--jp-warn-color2)\">ATCamera</span> <span style=\"color: var(--jp-info-color0)\">INFO</span>: Read historical data in 0.12 sec</pre>"
      ],
      "text/plain": [
       "<IPython.core.display.HTML object>"
      ]
     },
     "metadata": {},
     "output_type": "display_data"
    },
    {
     "data": {
      "text/plain": [
       "[[None, None, None, None, None, None, None], [None, None, None, None]]"
      ]
     },
     "execution_count": 3,
     "metadata": {},
     "output_type": "execute_result"
    }
   ],
   "source": [
    "# Instantiate the control classes\n",
    "domain = salobj.Domain()\n",
    "atcs = ATCS(domain)\n",
    "atcs.set_rem_loglevel(logging.INFO)\n",
    "latiss = LATISS(domain)\n",
    "latiss.set_rem_loglevel(logging.INFO)\n",
    "await asyncio.gather(atcs.start_task, latiss.start_task)"
   ]
  },
  {
   "cell_type": "code",
   "execution_count": 4,
   "id": "2c2a49ce",
   "metadata": {
    "execution": {
     "iopub.execute_input": "2023-05-05T17:01:30.071666Z",
     "iopub.status.busy": "2023-05-05T17:01:30.071369Z",
     "iopub.status.idle": "2023-05-05T17:01:30.076422Z",
     "shell.execute_reply": "2023-05-05T17:01:30.075961Z",
     "shell.execute_reply.started": "2023-05-05T17:01:30.071649Z"
    },
    "tags": []
   },
   "outputs": [
    {
     "data": {
      "text/html": [
       "<pre style=\"margin: 0.1em;\n",
       "padding-left: 0.25em;\n",
       "border-left-style: solid;\n",
       "font-family: var(--jp-code-font-family);\n",
       "font-size: var(--jp-code-font-size);\n",
       "line-height: var(--jp-code-line-height);\n",
       "\"><span style=\"color: var(--jp-warn-color2)\">Sky Flats 2023-05-05 17:01:28.729000 UT</span> <span style=\"color: var(--jp-info-color0)\">INFO</span>: LATISS filters are: [&#x27;empty_1&#x27;, &#x27;SDSSg_65mm&#x27;, &#x27;SDSSr_65mm&#x27;, &#x27;SDSSi_65mm&#x27;]</pre>"
      ],
      "text/plain": [
       "<IPython.core.display.HTML object>"
      ]
     },
     "metadata": {},
     "output_type": "display_data"
    },
    {
     "data": {
      "text/html": [
       "<pre style=\"margin: 0.1em;\n",
       "padding-left: 0.25em;\n",
       "border-left-style: solid;\n",
       "font-family: var(--jp-code-font-family);\n",
       "font-size: var(--jp-code-font-size);\n",
       "line-height: var(--jp-code-line-height);\n",
       "\"><span style=\"color: var(--jp-warn-color2)\">Sky Flats 2023-05-05 17:01:28.729000 UT</span> <span style=\"color: var(--jp-info-color0)\">INFO</span>: LATISS gratings are: [&#x27;empty_1&#x27;, &#x27;blue300lpmm_qn1&#x27;, &#x27;ronchi170lpmm&#x27;, &#x27;holo4_003&#x27;]</pre>"
      ],
      "text/plain": [
       "<IPython.core.display.HTML object>"
      ]
     },
     "metadata": {},
     "output_type": "display_data"
    }
   ],
   "source": [
    "inst_setup = await latiss.get_available_instrument_setup()\n",
    "logger.info(f'LATISS filters are: {inst_setup[0]}')\n",
    "logger.info(f'LATISS gratings are: {inst_setup[1]}')"
   ]
  },
  {
   "cell_type": "code",
   "execution_count": 5,
   "id": "9ac157d2",
   "metadata": {
    "execution": {
     "iopub.execute_input": "2023-05-05T17:01:30.078481Z",
     "iopub.status.busy": "2023-05-05T17:01:30.078345Z",
     "iopub.status.idle": "2023-05-05T17:01:31.013330Z",
     "shell.execute_reply": "2023-05-05T17:01:31.012702Z",
     "shell.execute_reply.started": "2023-05-05T17:01:30.078469Z"
    },
    "tags": []
   },
   "outputs": [],
   "source": [
    "repo = '/repo/LATISS/'\n",
    "collection = 'LATISS/raw/all'\n",
    "\n",
    "butler = dafButler.Butler(repo, collections=collection)"
   ]
  },
  {
   "cell_type": "code",
   "execution_count": 6,
   "id": "b420a166-9806-49df-8ebc-91ef3c0a41a2",
   "metadata": {
    "execution": {
     "iopub.execute_input": "2023-05-05T17:01:31.015679Z",
     "iopub.status.busy": "2023-05-05T17:01:31.015538Z",
     "iopub.status.idle": "2023-05-05T17:01:31.033101Z",
     "shell.execute_reply": "2023-05-05T17:01:31.032616Z",
     "shell.execute_reply.started": "2023-05-05T17:01:31.015664Z"
    },
    "tags": []
   },
   "outputs": [],
   "source": [
    "# Vera Rubin Coordinates from https://www.lsst.org/scientists/keynumbers\n",
    "rubin_obs = coordinates.EarthLocation(\n",
    "    lat='-30:14:40.68', lon='-70:44:57.90', height=2647 * u.m)"
   ]
  },
  {
   "cell_type": "markdown",
   "id": "55154dbc-a743-436b-8c36-3dbce24642c3",
   "metadata": {},
   "source": [
    "## Helper functions "
   ]
  },
  {
   "cell_type": "code",
   "execution_count": 14,
   "id": "f40eefcb",
   "metadata": {
    "execution": {
     "iopub.execute_input": "2023-05-05T17:07:48.368972Z",
     "iopub.status.busy": "2023-05-05T17:07:48.368590Z",
     "iopub.status.idle": "2023-05-05T17:07:48.374137Z",
     "shell.execute_reply": "2023-05-05T17:07:48.373636Z",
     "shell.execute_reply.started": "2023-05-05T17:07:48.368954Z"
    },
    "tags": []
   },
   "outputs": [],
   "source": [
    "def get_angle_from_sun(distance_from_sun=180, elevation=45, time=None):\n",
    "    \"\"\"\n",
    "    Returns the azimuth relative to the Sun considering a `distance_from_sun` \n",
    "    and at a given `time`.\n",
    "    \n",
    "    Parameters\n",
    "    ----------\n",
    "    distance_from_sun : float, (-180, 180)\n",
    "        The distance from the Sun in degrees. Positive angles go towards the \n",
    "        North.\n",
    "    elevation : float\n",
    "        Target elevation for Sky Flats.\n",
    "    time : datetime\n",
    "        The time for the calculation in UTC.\n",
    "    \"\"\"\n",
    "    if abs(distance_from_sun) > 180:\n",
    "        raise ValueError(\n",
    "            \"The distance from the Sun should be between -180 and 180 degrees\")\n",
    "    \n",
    "    rubin_obs = coordinates.EarthLocation(\n",
    "        lat='-30:14:40.68', lon='-70:44:57.90', height=2647 * u.m)\n",
    "\n",
    "    if time:\n",
    "        t = Time(time, scale='utc')\n",
    "    else:\n",
    "        t = Time(datetime.utcnow(), scale='utc')\n",
    "\n",
    "    sun_coords = coordinates.get_sun(t)\n",
    "    sun_coords.location = rubin_obs\n",
    "    az = sun_coords.altaz.az.value\n",
    "    \n",
    "    target_az = (az + distance_from_sun) % 360.\n",
    "    \n",
    "    #logger = DecoratedLogger.get_decorated_logger('sun_position')\n",
    "    logger.info(f\"Sun azimuth is {sun_coords.altaz.az:.5f} at {t}\")\n",
    "    logger.info(f\"The azimuth {distance_from_sun:.5f} deg\"\n",
    "                f\" from the Sun is {target_az:.5f} deg\")\n",
    "    \n",
    "    target = coordinates.AltAz(\n",
    "        alt=elevation * u.deg, az=target_az * u.deg, location=sun_coords, obstime=t)\n",
    "    \n",
    "    return target.transform_to(coordinates.ICRS)\n"
   ]
  },
  {
   "cell_type": "code",
   "execution_count": 8,
   "id": "528f5372",
   "metadata": {
    "execution": {
     "iopub.execute_input": "2023-05-05T17:01:40.949909Z",
     "iopub.status.busy": "2023-05-05T17:01:40.949511Z",
     "iopub.status.idle": "2023-05-05T17:01:40.954235Z",
     "shell.execute_reply": "2023-05-05T17:01:40.953731Z",
     "shell.execute_reply.started": "2023-05-05T17:01:40.949891Z"
    },
    "tags": []
   },
   "outputs": [],
   "source": [
    "def get_empty_field(target, radius=5):\n",
    "    \"\"\"\n",
    "    Query the \"Deep blank field catalogue : J/MNRAS/427/679\" in Vizier.\n",
    "    \n",
    "    Parameters\n",
    "    ----------\n",
    "    target : astropy.coordinates.SkyCoord\n",
    "        Sky coordinates near the field\n",
    "    radius : float\n",
    "        Search radius in degrees.\n",
    "    elevation : float, default: 45\n",
    "        Start elevation for the Sky Flats.\n",
    "    \n",
    "    Reference\n",
    "    ---------\n",
    "    http://cdsarc.u-strasbg.fr/viz-bin/Cat?J/MNRAS/427/679\n",
    "    \"\"\"\n",
    "    _table = Vizier.query_region(\n",
    "        catalog='J/MNRAS/427/679/blank_fld', \n",
    "        coordinates=target, \n",
    "        radius=radius*u.deg)\n",
    "\n",
    "    if len(_table) == 0:\n",
    "        warn(f\"Could not find a field near {target} \"\n",
    "              f\"within {radius} deg radius\", category=NoResultsWarning)\n",
    "        return None\n",
    "\n",
    "    _table = _table[\"J/MNRAS/427/679/blank_fld\"]\n",
    "    \n",
    "    coords = coordinates.SkyCoord(\n",
    "        ra=_table[\"RAJ2000\"], \n",
    "        dec=_table[\"DEJ2000\"], \n",
    "        unit=(u.hourangle, u.deg), \n",
    "        frame=coordinates.ICRS)\n",
    "    \n",
    "    arg = target.separation(coords).argmin()\n",
    "    \n",
    "    return coords[arg]"
   ]
  },
  {
   "cell_type": "code",
   "execution_count": null,
   "id": "cb114688-5629-4ea5-befd-5f7b861247b2",
   "metadata": {
    "tags": []
   },
   "outputs": [],
   "source": [
    "async def take_triplets_with_fixed_dither(time, filt, offset):\n",
    "    await atcs.offset_xy(x=0, y=0)\n",
    "    \n",
    "    first_flat = await latiss.take_flats(\n",
    "        exptime=time, nflats=1, filter=filt, grating='empty_1', reason=\"Sky_Flat\", program=\"SITCOM-790\")\n",
    "    \n",
    "    await atcs.offset_xy(x=offset, y=0)\n",
    "    \n",
    "    second_flat = await latiss.take_flats(\n",
    "        exptime=time, nflats=1, filter=filt, grating='empty_1', reason=\"Sky_Flat\", program=\"SITCOM-790\")\n",
    "    \n",
    "    await atcs.offset_xy(x=0, y=offset)\n",
    "    \n",
    "    # last one wait for image ingestion\n",
    "    # latiss.rem.atoods.evt_imageInOODS.flush()\n",
    "    \n",
    "    sky_counts = await latiss.take_flats(\n",
    "        exptime=time, nflats=1, filter=filt, grating='empty_1', reason=\"Sky_Flat\", program=\"SITCOM-790\")\n",
    "    \n",
    "    # Wait for image ingestion\n",
    "    # await latiss.rem.atoods.evt_imageInOODS.next(flush=False, timeout=10)\n",
    "    \n",
    "    logger.info(f\"Sky flats triplets with {time} seconds exposure time and filter {filt} are {first_flat}, {second_flat} and {sky_counts}\")\n",
    "    return sky_counts[0]"
   ]
  },
  {
   "cell_type": "code",
   "execution_count": 62,
   "id": "ff450388-f907-4629-afff-131c2a46619c",
   "metadata": {
    "execution": {
     "iopub.execute_input": "2023-05-05T18:49:36.235533Z",
     "iopub.status.busy": "2023-05-05T18:49:36.235194Z",
     "iopub.status.idle": "2023-05-05T18:49:36.239701Z",
     "shell.execute_reply": "2023-05-05T18:49:36.239205Z",
     "shell.execute_reply.started": "2023-05-05T18:49:36.235514Z"
    },
    "tags": []
   },
   "outputs": [],
   "source": [
    "# async def take_triplets_with_fixed_dither(time, filt, offset):\n",
    "#     #await atcs.offset_xy(x=0, y=0)\n",
    "    \n",
    "#     first_flat = await latiss.take_darks(\n",
    "#         exptime=time, ndarks=1, reason=\"Sky_Flat\", program=\"test-790\")\n",
    "    \n",
    "#     #await atcs.offset_xy(x=offset, y=0)\n",
    "    \n",
    "#     second_flat = await latiss.take_darks(\n",
    "#         exptime=time, ndarks=1,  reason=\"Sky_Flat\", program=\"test-790\")\n",
    "    \n",
    "#     #await atcs.offset_xy(x=0, y=offset)\n",
    "    \n",
    "#     # last one wait for image ingestion\n",
    "#     # latiss.rem.atoods.evt_imageInOODS.flush()\n",
    "    \n",
    "#     sky_counts = await latiss.take_darks(\n",
    "#         exptime=time, ndarks=1, reason=\"Sky_Flat\", program=\"test-790\")\n",
    "    \n",
    "#     # Wait for image ingestion\n",
    "#     # await latiss.rem.atoods.evt_imageInOODS.next(flush=False, timeout=10)\n",
    "    \n",
    "#     logger.info(f\"Sky flats triplets with {time} seconds exposure time and filter {filt} are {first_flat}, {second_flat} and {sky_counts}\")\n",
    "#     return sky_counts[0]"
   ]
  },
  {
   "cell_type": "code",
   "execution_count": 69,
   "id": "a9d9ba0e-2d8b-442a-a316-46236905d6ea",
   "metadata": {
    "execution": {
     "iopub.execute_input": "2023-05-05T18:58:35.174518Z",
     "iopub.status.busy": "2023-05-05T18:58:35.174231Z",
     "iopub.status.idle": "2023-05-05T18:58:35.179774Z",
     "shell.execute_reply": "2023-05-05T18:58:35.179384Z",
     "shell.execute_reply.started": "2023-05-05T18:58:35.174499Z"
    },
    "tags": []
   },
   "outputs": [],
   "source": [
    "STD_TIMEOUT = 10  # seconds\n",
    "\n",
    "async def verify_counts(exposure, timeout=STD_TIMEOUT, loop_time=1):\n",
    "    \"\"\"\n",
    "    Retrieve image from butler repository.\n",
    "    If not present, then it will poll at intervals of loop_time (0.1s default)\n",
    "    until the image arrives, or until the timeout is reached.\n",
    "\n",
    "    Parameters\n",
    "    ----------\n",
    "    exp: `float`\n",
    "        exposure number, as 2023041500020 \n",
    "    \n",
    "    loop_time: `float`\n",
    "        Time between polling attempts. Defaults to 0.1s\n",
    "    timeout: `float`\n",
    "        Total time to poll for image before raising an exception\n",
    "\n",
    "    Returns\n",
    "    -------\n",
    "\n",
    "    median: `float`\n",
    "        Exposure counts median across the detector\n",
    "    \"\"\"\n",
    "    \n",
    "    # Wait for image ingestion\n",
    "    #await latiss.rem.atoods.evt_imageInOODS.next(flush=False, timeout=10)\n",
    "    \n",
    "    dataId = {'detector': 0, 'exposure': exposure}\n",
    "\n",
    "    while True:\n",
    "        # try to retrieve the image\n",
    "        try:\n",
    "            logger.debug(f\"Pulling exposure with dataId = {dataId}\")\n",
    "            exp = butler.get('raw', dataId=dataId)     \n",
    "            logger.debug(\"Image grabbed successfully\")\n",
    "\n",
    "            # Measure median, mean and std across the image. \n",
    "            foo = exp.getMaskedImage()\n",
    "            masked_array = np.ma.masked_array(foo.image.array, mask=foo.mask.array)\n",
    "\n",
    "            median = np.ma.median(masked_array)\n",
    "\n",
    "            logger.info(f\"Exposure ID: {exposure}\")\n",
    "            logger.info(f\"    Median: {np.ma.median(masked_array)}\")\n",
    "            logger.info(f\"    Mean: {np.ma.mean(masked_array)}\")\n",
    "            logger.info(f\"    Std: {np.ma.std(masked_array)}\")\n",
    "\n",
    "            return median\n",
    "\n",
    "        except LookupError:\n",
    "            logger.exception(\n",
    "                f\"Could not get new image from butler. Waiting \"\n",
    "                f\"{loop_time} seconds and trying again.\"\n",
    "            )\n",
    "            await asyncio.sleep(loop_time)\n",
    "            continue\n",
    "\n",
    "        if time.time() >= endtime:\n",
    "            raise TimeoutError(\n",
    "                f\"Unable to get raw image from butler in {timeout} seconds.\"\n",
    "            )"
   ]
  },
  {
   "cell_type": "markdown",
   "id": "1e62ee84-0e76-42ea-85ed-57a90899082a",
   "metadata": {},
   "source": [
    "## Confirm Sun's elevation is fine to start taking Sky Flats. \n",
    "\n",
    "Check if we can start taking sky flats, that, if the Sun's elevation is between 0 and 9 degrees below the horizon."
   ]
  },
  {
   "cell_type": "code",
   "execution_count": 11,
   "id": "bb777ff6-7f5e-4cd7-8afb-564bbe87140a",
   "metadata": {
    "execution": {
     "iopub.execute_input": "2023-05-05T17:01:55.557113Z",
     "iopub.status.busy": "2023-05-05T17:01:55.556711Z",
     "iopub.status.idle": "2023-05-05T17:01:56.129239Z",
     "shell.execute_reply": "2023-05-05T17:01:56.128642Z",
     "shell.execute_reply.started": "2023-05-05T17:01:55.557094Z"
    },
    "tags": []
   },
   "outputs": [
    {
     "name": "stdout",
     "output_type": "stream",
     "text": [
      " The azimuth of the setting Sun at 2023-05-05 17:01:55.558550 is 352.69 deg \n",
      " The elevation of the Sun at 2023-05-05 17:01:55.558550 is 43.13 deg\n"
     ]
    }
   ],
   "source": [
    "# Define time in UTC\n",
    "#time = Time(\"2023-04-25T17:00:00\", format=\"isot\", scale=\"utc\")\n",
    "# or the current time\n",
    "time = Time(datetime.utcnow(), scale=\"utc\")\n",
    "\n",
    "# Some calculations\n",
    "sun_coordinates = coordinates.get_sun(time)\n",
    "sun_coordinates.location = rubin_obs\n",
    "where_sun = \"setting\" if (sun_coordinates.altaz.az.value > 180) else \"rising\"\n",
    "\n",
    "# Print results\n",
    "print(f\" The azimuth of the {where_sun} Sun at {time} is {sun_coordinates.altaz.az.value:.2f} deg \\n\"\n",
    "      f\" The elevation of the Sun at {time} is {sun_coordinates.altaz.alt.value:.2f} deg\")"
   ]
  },
  {
   "cell_type": "markdown",
   "id": "14d0a4d6-0d72-4f1b-aec6-d8560b0924f0",
   "metadata": {},
   "source": [
    "Only proceed with the next steps if the elevation of the Sun is between 0 and 9 degrees below the horizon, either rising or setting. "
   ]
  },
  {
   "cell_type": "markdown",
   "id": "3910404b",
   "metadata": {},
   "source": [
    "## Find Field\n",
    "\n",
    "Find a field with not many stars oppposite the Sun. "
   ]
  },
  {
   "cell_type": "code",
   "execution_count": 15,
   "id": "db7005e7",
   "metadata": {
    "execution": {
     "iopub.execute_input": "2023-05-05T17:07:53.960916Z",
     "iopub.status.busy": "2023-05-05T17:07:53.960142Z",
     "iopub.status.idle": "2023-05-05T17:07:55.748936Z",
     "shell.execute_reply": "2023-05-05T17:07:55.748492Z",
     "shell.execute_reply.started": "2023-05-05T17:07:53.960888Z"
    },
    "tags": []
   },
   "outputs": [
    {
     "data": {
      "text/html": [
       "<pre style=\"margin: 0.1em;\n",
       "padding-left: 0.25em;\n",
       "border-left-style: solid;\n",
       "font-family: var(--jp-code-font-family);\n",
       "font-size: var(--jp-code-font-size);\n",
       "line-height: var(--jp-code-line-height);\n",
       "\"><span style=\"color: var(--jp-warn-color2)\">Sky Flats 2023-05-05 17:01:28.729000 UT</span> <span style=\"color: var(--jp-info-color0)\">INFO</span>: Sun azimuth is 350.74186 deg at 2023-05-05 17:07:53.963599</pre>"
      ],
      "text/plain": [
       "<IPython.core.display.HTML object>"
      ]
     },
     "metadata": {},
     "output_type": "display_data"
    },
    {
     "data": {
      "text/html": [
       "<pre style=\"margin: 0.1em;\n",
       "padding-left: 0.25em;\n",
       "border-left-style: solid;\n",
       "font-family: var(--jp-code-font-family);\n",
       "font-size: var(--jp-code-font-size);\n",
       "line-height: var(--jp-code-line-height);\n",
       "\"><span style=\"color: var(--jp-warn-color2)\">Sky Flats 2023-05-05 17:01:28.729000 UT</span> <span style=\"color: var(--jp-info-color0)\">INFO</span>: The azimuth 180.00000 deg from the Sun is 170.74186 deg</pre>"
      ],
      "text/plain": [
       "<IPython.core.display.HTML object>"
      ]
     },
     "metadata": {},
     "output_type": "display_data"
    },
    {
     "name": "stderr",
     "output_type": "stream",
     "text": [
      "WARNING: AstropyDeprecationWarning: Transforming a frame instance to a frame class (as opposed to another frame instance) will not be supported in the future.  Either explicitly instantiate the target frame, or first convert the source frame instance to a `astropy.coordinates.SkyCoord` and use its `transform_to()` method. [astropy.coordinates.baseframe]\n"
     ]
    },
    {
     "data": {
      "text/html": [
       "<pre style=\"margin: 0.1em;\n",
       "padding-left: 0.25em;\n",
       "border-left-style: solid;\n",
       "font-family: var(--jp-code-font-family);\n",
       "font-size: var(--jp-code-font-size);\n",
       "line-height: var(--jp-code-line-height);\n",
       "\"><span style=\"color: var(--jp-warn-color2)\">astroquery</span> <span style=\"color: var(--jp-warn-color0)\">WARNING</span>: AstropyDeprecationWarning: Transforming a frame instance to a frame class (as opposed to another frame instance) will not be supported in the future.  Either explicitly instantiate the target frame, or first convert the source frame instance to a `astropy.coordinates.SkyCoord` and use its `transform_to()` method.</pre>"
      ],
      "text/plain": [
       "<IPython.core.display.HTML object>"
      ]
     },
     "metadata": {},
     "output_type": "display_data"
    },
    {
     "name": "stdout",
     "output_type": "stream",
     "text": [
      "Empty field coordinates:\n",
      "  2:53:37.01 -29:36:10.8\n"
     ]
    }
   ],
   "source": [
    "target = get_angle_from_sun()\n",
    "empty_field_coords = get_empty_field(target)\n",
    "print(f\"Empty field coordinates:\\n\"\n",
    "      f\"  {empty_field_coords.ra.to_string(u.hour, sep=':')}\"\n",
    "      f\" {empty_field_coords.dec.to_string(u.degree, alwayssign=True, sep=':')}\")"
   ]
  },
  {
   "cell_type": "markdown",
   "id": "e8014c0c",
   "metadata": {},
   "source": [
    "## Slew to Field\n",
    "\n",
    "Now that we have our field, let's move the telescope and the dome to that direction."
   ]
  },
  {
   "cell_type": "code",
   "execution_count": null,
   "id": "1ddb3e58",
   "metadata": {},
   "outputs": [],
   "source": [
    "# await atcs.slew_icrs(empty_field_coords.ra.value, empty_field_coords.dec.value)"
   ]
  },
  {
   "cell_type": "markdown",
   "id": "9d711c19-61ca-4f05-bba6-623ae315ecb0",
   "metadata": {},
   "source": [
    "## Define filter, minimum counts and offsets between images\n",
    "\n",
    "Need at least 10K ADU per pixel for each band."
   ]
  },
  {
   "cell_type": "code",
   "execution_count": 71,
   "id": "d84f0863-9925-458b-8c81-56bba8c4b255",
   "metadata": {
    "execution": {
     "iopub.execute_input": "2023-05-05T19:05:59.472196Z",
     "iopub.status.busy": "2023-05-05T19:05:59.471736Z",
     "iopub.status.idle": "2023-05-05T19:05:59.475017Z",
     "shell.execute_reply": "2023-05-05T19:05:59.474636Z",
     "shell.execute_reply.started": "2023-05-05T19:05:59.472142Z"
    },
    "tags": []
   },
   "outputs": [],
   "source": [
    "order = [1,2,3,0]\n",
    "filters = np.array(inst_setup[0])[order]"
   ]
  },
  {
   "cell_type": "code",
   "execution_count": 72,
   "id": "5e95cf3a-0fbf-46af-af8a-560872efc22c",
   "metadata": {
    "execution": {
     "iopub.execute_input": "2023-05-05T19:06:00.371973Z",
     "iopub.status.busy": "2023-05-05T19:06:00.371690Z",
     "iopub.status.idle": "2023-05-05T19:06:00.374329Z",
     "shell.execute_reply": "2023-05-05T19:06:00.373937Z",
     "shell.execute_reply.started": "2023-05-05T19:06:00.371956Z"
    },
    "tags": []
   },
   "outputs": [],
   "source": [
    "dither_offset = 30"
   ]
  },
  {
   "cell_type": "code",
   "execution_count": 74,
   "id": "ec1fc102-c7c2-49b4-83af-125af2164a8a",
   "metadata": {
    "execution": {
     "iopub.execute_input": "2023-05-05T19:08:28.124407Z",
     "iopub.status.busy": "2023-05-05T19:08:28.124084Z",
     "iopub.status.idle": "2023-05-05T19:08:28.126764Z",
     "shell.execute_reply": "2023-05-05T19:08:28.126360Z",
     "shell.execute_reply.started": "2023-05-05T19:08:28.124389Z"
    },
    "tags": []
   },
   "outputs": [],
   "source": [
    "min_counts = 15000"
   ]
  },
  {
   "cell_type": "code",
   "execution_count": null,
   "id": "3737a3f7-ce5e-4e09-a719-0cdb75d6904b",
   "metadata": {},
   "outputs": [],
   "source": [
    "max_times_below_mincounts_before_chaging_filter = 3"
   ]
  },
  {
   "cell_type": "markdown",
   "id": "301ceae4",
   "metadata": {
    "tags": []
   },
   "source": [
    "## Find first image\n",
    "\n",
    "Here is where we check image saturation. We take an image with some short exposure time with the bluest filter, check how many pixels on each detector are saturated, check how many counts do we have in each detector, and once we have high but not saturated signal is all detectors and in most of the pixels, we move forward."
   ]
  },
  {
   "cell_type": "code",
   "execution_count": 75,
   "id": "4d4d575c",
   "metadata": {
    "execution": {
     "iopub.execute_input": "2023-05-05T19:09:16.379063Z",
     "iopub.status.busy": "2023-05-05T19:09:16.378708Z",
     "iopub.status.idle": "2023-05-05T19:09:29.846100Z",
     "shell.execute_reply": "2023-05-05T19:09:29.845528Z",
     "shell.execute_reply.started": "2023-05-05T19:09:16.379044Z"
    },
    "tags": []
   },
   "outputs": [
    {
     "name": "stdout",
     "output_type": "stream",
     "text": [
      "The test exposure is 2023050500138 with filter SDSSg_65mm\n"
     ]
    },
    {
     "data": {
      "text/html": [
       "<pre style=\"margin: 0.1em;\n",
       "padding-left: 0.25em;\n",
       "border-left-style: solid;\n",
       "font-family: var(--jp-code-font-family);\n",
       "font-size: var(--jp-code-font-size);\n",
       "line-height: var(--jp-code-line-height);\n",
       "\"><span style=\"color: var(--jp-warn-color2)\">Sky Flats 2023-05-05 17:01:28.729000 UT</span> <span style=\"color: var(--jp-error-color2)\">ERROR</span>: Could not get new image from butler. Waiting 1 seconds and trying again.</pre><pre style=\"margin: 0.1em;\n",
       "padding-left: 0.25em;\n",
       "border-left-style: solid;\n",
       "font-family: var(--jp-code-font-family);\n",
       "font-size: var(--jp-code-font-size);\n",
       "line-height: var(--jp-code-line-height);\n",
       "\">Traceback (most recent call last):\n",
       "  File \"/tmp/ipykernel_8060/3420654075.py\", line 35, in verify_counts\n",
       "    exp = butler.get('raw', dataId=dataId)\n",
       "  File \"/opt/lsst/software/stack/stack/miniconda3-py38_4.9.2-6.0.0/Linux64/daf_butler/g4ebb90a088+3070c2f738/python/lsst/daf/butler/_butler.py\", line 1446, in get\n",
       "    ref = self._findDatasetRef(datasetRefOrType, dataId, collections=collections, **kwargs)\n",
       "  File \"/opt/lsst/software/stack/stack/miniconda3-py38_4.9.2-6.0.0/Linux64/daf_butler/g4ebb90a088+3070c2f738/python/lsst/daf/butler/_butler.py\", line 1102, in _findDatasetRef\n",
       "    raise LookupError(\n",
       "LookupError: Dataset raw with data ID {instrument: 'LATISS', detector: 0, exposure: 2023050500138} could not be found in collections ('LATISS/raw/all',).\n",
       "</pre>"
      ],
      "text/plain": [
       "<IPython.core.display.HTML object>"
      ]
     },
     "metadata": {},
     "output_type": "display_data"
    },
    {
     "data": {
      "text/html": [
       "<pre style=\"margin: 0.1em;\n",
       "padding-left: 0.25em;\n",
       "border-left-style: solid;\n",
       "font-family: var(--jp-code-font-family);\n",
       "font-size: var(--jp-code-font-size);\n",
       "line-height: var(--jp-code-line-height);\n",
       "\"><span style=\"color: var(--jp-warn-color2)\">Sky Flats 2023-05-05 17:01:28.729000 UT</span> <span style=\"color: var(--jp-error-color2)\">ERROR</span>: Could not get new image from butler. Waiting 1 seconds and trying again.</pre><pre style=\"margin: 0.1em;\n",
       "padding-left: 0.25em;\n",
       "border-left-style: solid;\n",
       "font-family: var(--jp-code-font-family);\n",
       "font-size: var(--jp-code-font-size);\n",
       "line-height: var(--jp-code-line-height);\n",
       "\">Traceback (most recent call last):\n",
       "  File \"/tmp/ipykernel_8060/3420654075.py\", line 35, in verify_counts\n",
       "    exp = butler.get('raw', dataId=dataId)\n",
       "  File \"/opt/lsst/software/stack/stack/miniconda3-py38_4.9.2-6.0.0/Linux64/daf_butler/g4ebb90a088+3070c2f738/python/lsst/daf/butler/_butler.py\", line 1446, in get\n",
       "    ref = self._findDatasetRef(datasetRefOrType, dataId, collections=collections, **kwargs)\n",
       "  File \"/opt/lsst/software/stack/stack/miniconda3-py38_4.9.2-6.0.0/Linux64/daf_butler/g4ebb90a088+3070c2f738/python/lsst/daf/butler/_butler.py\", line 1102, in _findDatasetRef\n",
       "    raise LookupError(\n",
       "LookupError: Dataset raw with data ID {instrument: 'LATISS', detector: 0, exposure: 2023050500138} could not be found in collections ('LATISS/raw/all',).\n",
       "</pre>"
      ],
      "text/plain": [
       "<IPython.core.display.HTML object>"
      ]
     },
     "metadata": {},
     "output_type": "display_data"
    },
    {
     "data": {
      "text/html": [
       "<pre style=\"margin: 0.1em;\n",
       "padding-left: 0.25em;\n",
       "border-left-style: solid;\n",
       "font-family: var(--jp-code-font-family);\n",
       "font-size: var(--jp-code-font-size);\n",
       "line-height: var(--jp-code-line-height);\n",
       "\"><span style=\"color: var(--jp-warn-color2)\">Sky Flats 2023-05-05 17:01:28.729000 UT</span> <span style=\"color: var(--jp-error-color2)\">ERROR</span>: Could not get new image from butler. Waiting 1 seconds and trying again.</pre><pre style=\"margin: 0.1em;\n",
       "padding-left: 0.25em;\n",
       "border-left-style: solid;\n",
       "font-family: var(--jp-code-font-family);\n",
       "font-size: var(--jp-code-font-size);\n",
       "line-height: var(--jp-code-line-height);\n",
       "\">Traceback (most recent call last):\n",
       "  File \"/tmp/ipykernel_8060/3420654075.py\", line 35, in verify_counts\n",
       "    exp = butler.get('raw', dataId=dataId)\n",
       "  File \"/opt/lsst/software/stack/stack/miniconda3-py38_4.9.2-6.0.0/Linux64/daf_butler/g4ebb90a088+3070c2f738/python/lsst/daf/butler/_butler.py\", line 1446, in get\n",
       "    ref = self._findDatasetRef(datasetRefOrType, dataId, collections=collections, **kwargs)\n",
       "  File \"/opt/lsst/software/stack/stack/miniconda3-py38_4.9.2-6.0.0/Linux64/daf_butler/g4ebb90a088+3070c2f738/python/lsst/daf/butler/_butler.py\", line 1102, in _findDatasetRef\n",
       "    raise LookupError(\n",
       "LookupError: Dataset raw with data ID {instrument: 'LATISS', detector: 0, exposure: 2023050500138} could not be found in collections ('LATISS/raw/all',).\n",
       "</pre>"
      ],
      "text/plain": [
       "<IPython.core.display.HTML object>"
      ]
     },
     "metadata": {},
     "output_type": "display_data"
    },
    {
     "data": {
      "text/html": [
       "<pre style=\"margin: 0.1em;\n",
       "padding-left: 0.25em;\n",
       "border-left-style: solid;\n",
       "font-family: var(--jp-code-font-family);\n",
       "font-size: var(--jp-code-font-size);\n",
       "line-height: var(--jp-code-line-height);\n",
       "\"><span style=\"color: var(--jp-warn-color2)\">Sky Flats 2023-05-05 17:01:28.729000 UT</span> <span style=\"color: var(--jp-error-color2)\">ERROR</span>: Could not get new image from butler. Waiting 1 seconds and trying again.</pre><pre style=\"margin: 0.1em;\n",
       "padding-left: 0.25em;\n",
       "border-left-style: solid;\n",
       "font-family: var(--jp-code-font-family);\n",
       "font-size: var(--jp-code-font-size);\n",
       "line-height: var(--jp-code-line-height);\n",
       "\">Traceback (most recent call last):\n",
       "  File \"/tmp/ipykernel_8060/3420654075.py\", line 35, in verify_counts\n",
       "    exp = butler.get('raw', dataId=dataId)\n",
       "  File \"/opt/lsst/software/stack/stack/miniconda3-py38_4.9.2-6.0.0/Linux64/daf_butler/g4ebb90a088+3070c2f738/python/lsst/daf/butler/_butler.py\", line 1446, in get\n",
       "    ref = self._findDatasetRef(datasetRefOrType, dataId, collections=collections, **kwargs)\n",
       "  File \"/opt/lsst/software/stack/stack/miniconda3-py38_4.9.2-6.0.0/Linux64/daf_butler/g4ebb90a088+3070c2f738/python/lsst/daf/butler/_butler.py\", line 1102, in _findDatasetRef\n",
       "    raise LookupError(\n",
       "LookupError: Dataset raw with data ID {instrument: 'LATISS', detector: 0, exposure: 2023050500138} could not be found in collections ('LATISS/raw/all',).\n",
       "</pre>"
      ],
      "text/plain": [
       "<IPython.core.display.HTML object>"
      ]
     },
     "metadata": {},
     "output_type": "display_data"
    },
    {
     "data": {
      "text/html": [
       "<pre style=\"margin: 0.1em;\n",
       "padding-left: 0.25em;\n",
       "border-left-style: solid;\n",
       "font-family: var(--jp-code-font-family);\n",
       "font-size: var(--jp-code-font-size);\n",
       "line-height: var(--jp-code-line-height);\n",
       "\"><span style=\"color: var(--jp-warn-color2)\">Sky Flats 2023-05-05 17:01:28.729000 UT</span> <span style=\"color: var(--jp-error-color2)\">ERROR</span>: Could not get new image from butler. Waiting 1 seconds and trying again.</pre><pre style=\"margin: 0.1em;\n",
       "padding-left: 0.25em;\n",
       "border-left-style: solid;\n",
       "font-family: var(--jp-code-font-family);\n",
       "font-size: var(--jp-code-font-size);\n",
       "line-height: var(--jp-code-line-height);\n",
       "\">Traceback (most recent call last):\n",
       "  File \"/tmp/ipykernel_8060/3420654075.py\", line 35, in verify_counts\n",
       "    exp = butler.get('raw', dataId=dataId)\n",
       "  File \"/opt/lsst/software/stack/stack/miniconda3-py38_4.9.2-6.0.0/Linux64/daf_butler/g4ebb90a088+3070c2f738/python/lsst/daf/butler/_butler.py\", line 1446, in get\n",
       "    ref = self._findDatasetRef(datasetRefOrType, dataId, collections=collections, **kwargs)\n",
       "  File \"/opt/lsst/software/stack/stack/miniconda3-py38_4.9.2-6.0.0/Linux64/daf_butler/g4ebb90a088+3070c2f738/python/lsst/daf/butler/_butler.py\", line 1102, in _findDatasetRef\n",
       "    raise LookupError(\n",
       "LookupError: Dataset raw with data ID {instrument: 'LATISS', detector: 0, exposure: 2023050500138} could not be found in collections ('LATISS/raw/all',).\n",
       "</pre>"
      ],
      "text/plain": [
       "<IPython.core.display.HTML object>"
      ]
     },
     "metadata": {},
     "output_type": "display_data"
    },
    {
     "data": {
      "text/html": [
       "<pre style=\"margin: 0.1em;\n",
       "padding-left: 0.25em;\n",
       "border-left-style: solid;\n",
       "font-family: var(--jp-code-font-family);\n",
       "font-size: var(--jp-code-font-size);\n",
       "line-height: var(--jp-code-line-height);\n",
       "\"><span style=\"color: var(--jp-warn-color2)\">lsst.obs.base._fitsRawFormatterBase</span> <span style=\"color: var(--jp-warn-color0)\">WARNING</span>: Cannot create a valid WCS from metadata: CRPIX1</pre>"
      ],
      "text/plain": [
       "<IPython.core.display.HTML object>"
      ]
     },
     "metadata": {},
     "output_type": "display_data"
    },
    {
     "data": {
      "text/html": [
       "<pre style=\"margin: 0.1em;\n",
       "padding-left: 0.25em;\n",
       "border-left-style: solid;\n",
       "font-family: var(--jp-code-font-family);\n",
       "font-size: var(--jp-code-font-size);\n",
       "line-height: var(--jp-code-line-height);\n",
       "\"><span style=\"color: var(--jp-warn-color2)\">Sky Flats 2023-05-05 17:01:28.729000 UT</span> <span style=\"color: var(--jp-info-color0)\">INFO</span>: Exposure ID: 2023050500138</pre>"
      ],
      "text/plain": [
       "<IPython.core.display.HTML object>"
      ]
     },
     "metadata": {},
     "output_type": "display_data"
    },
    {
     "data": {
      "text/html": [
       "<pre style=\"margin: 0.1em;\n",
       "padding-left: 0.25em;\n",
       "border-left-style: solid;\n",
       "font-family: var(--jp-code-font-family);\n",
       "font-size: var(--jp-code-font-size);\n",
       "line-height: var(--jp-code-line-height);\n",
       "\"><span style=\"color: var(--jp-warn-color2)\">Sky Flats 2023-05-05 17:01:28.729000 UT</span> <span style=\"color: var(--jp-info-color0)\">INFO</span>:     Median: 15532.0</pre>"
      ],
      "text/plain": [
       "<IPython.core.display.HTML object>"
      ]
     },
     "metadata": {},
     "output_type": "display_data"
    },
    {
     "data": {
      "text/html": [
       "<pre style=\"margin: 0.1em;\n",
       "padding-left: 0.25em;\n",
       "border-left-style: solid;\n",
       "font-family: var(--jp-code-font-family);\n",
       "font-size: var(--jp-code-font-size);\n",
       "line-height: var(--jp-code-line-height);\n",
       "\"><span style=\"color: var(--jp-warn-color2)\">Sky Flats 2023-05-05 17:01:28.729000 UT</span> <span style=\"color: var(--jp-info-color0)\">INFO</span>:     Mean: 15925.756944444445</pre>"
      ],
      "text/plain": [
       "<IPython.core.display.HTML object>"
      ]
     },
     "metadata": {},
     "output_type": "display_data"
    },
    {
     "data": {
      "text/html": [
       "<pre style=\"margin: 0.1em;\n",
       "padding-left: 0.25em;\n",
       "border-left-style: solid;\n",
       "font-family: var(--jp-code-font-family);\n",
       "font-size: var(--jp-code-font-size);\n",
       "line-height: var(--jp-code-line-height);\n",
       "\"><span style=\"color: var(--jp-warn-color2)\">Sky Flats 2023-05-05 17:01:28.729000 UT</span> <span style=\"color: var(--jp-info-color0)\">INFO</span>:     Std: 2504.9518348320635</pre>"
      ],
      "text/plain": [
       "<IPython.core.display.HTML object>"
      ]
     },
     "metadata": {},
     "output_type": "display_data"
    }
   ],
   "source": [
    "# latiss.rem.atoods.evt_imageInOODS.flush()\n",
    "# Take image\n",
    "test_exp = await latiss.take_flats(\n",
    "    exptime=1, nflats=1, filter=filters[0], grating='empty_1', reason=\"Test\", program=\"SITCOM-790\")\n",
    "\n",
    "print(f\"The test exposure is {test_exp[0]} with filter\")\n",
    "\n",
    "signal_level = await verify_counts(test_exp[0], timeout=10)"
   ]
  },
  {
   "cell_type": "markdown",
   "id": "07627de7",
   "metadata": {},
   "source": [
    "## Start Sequence\n",
    "\n",
    "Now that we have our start point for the filter, we take triplets of sky flats with offsets of 30 arcsec between each. \n",
    "\n",
    "Confirm signal levels as they show up in the http://ccs.lsst.org/RecentImages/auxtel.htmlhttp://ccs.lsst.org/RecentImages/auxtel.html."
   ]
  },
  {
   "cell_type": "code",
   "execution_count": 70,
   "id": "5947d4c2-3312-4a46-97bb-0caad4464536",
   "metadata": {
    "execution": {
     "iopub.execute_input": "2023-05-05T18:58:39.482799Z",
     "iopub.status.busy": "2023-05-05T18:58:39.482431Z",
     "iopub.status.idle": "2023-05-05T19:02:54.442707Z",
     "shell.execute_reply": "2023-05-05T19:02:54.442100Z",
     "shell.execute_reply.started": "2023-05-05T18:58:39.482781Z"
    },
    "tags": []
   },
   "outputs": [
    {
     "data": {
      "text/html": [
       "<pre style=\"margin: 0.1em;\n",
       "padding-left: 0.25em;\n",
       "border-left-style: solid;\n",
       "font-family: var(--jp-code-font-family);\n",
       "font-size: var(--jp-code-font-size);\n",
       "line-height: var(--jp-code-line-height);\n",
       "\"><span style=\"color: var(--jp-warn-color2)\">Sky Flats 2023-05-05 17:01:28.729000 UT</span> <span style=\"color: var(--jp-info-color0)\">INFO</span>: Filter is SDSSg_65mm</pre>"
      ],
      "text/plain": [
       "<IPython.core.display.HTML object>"
      ]
     },
     "metadata": {},
     "output_type": "display_data"
    },
    {
     "data": {
      "text/html": [
       "<pre style=\"margin: 0.1em;\n",
       "padding-left: 0.25em;\n",
       "border-left-style: solid;\n",
       "font-family: var(--jp-code-font-family);\n",
       "font-size: var(--jp-code-font-size);\n",
       "line-height: var(--jp-code-line-height);\n",
       "\"><span style=\"color: var(--jp-warn-color2)\">Sky Flats 2023-05-05 17:01:28.729000 UT</span> <span style=\"color: var(--jp-info-color0)\">INFO</span>: Sky flats triplets with 1 seconds exposure time and filter SDSSg_65mm are [2023050500101], [2023050500102] and [2023050500103]</pre>"
      ],
      "text/plain": [
       "<IPython.core.display.HTML object>"
      ]
     },
     "metadata": {},
     "output_type": "display_data"
    },
    {
     "data": {
      "text/html": [
       "<pre style=\"margin: 0.1em;\n",
       "padding-left: 0.25em;\n",
       "border-left-style: solid;\n",
       "font-family: var(--jp-code-font-family);\n",
       "font-size: var(--jp-code-font-size);\n",
       "line-height: var(--jp-code-line-height);\n",
       "\"><span style=\"color: var(--jp-warn-color2)\">Sky Flats 2023-05-05 17:01:28.729000 UT</span> <span style=\"color: var(--jp-error-color2)\">ERROR</span>: Could not get new image from butler. Waiting 1 seconds and trying again.</pre><pre style=\"margin: 0.1em;\n",
       "padding-left: 0.25em;\n",
       "border-left-style: solid;\n",
       "font-family: var(--jp-code-font-family);\n",
       "font-size: var(--jp-code-font-size);\n",
       "line-height: var(--jp-code-line-height);\n",
       "\">Traceback (most recent call last):\n",
       "  File \"/tmp/ipykernel_8060/3420654075.py\", line 35, in verify_counts\n",
       "    exp = butler.get('raw', dataId=dataId)\n",
       "  File \"/opt/lsst/software/stack/stack/miniconda3-py38_4.9.2-6.0.0/Linux64/daf_butler/g4ebb90a088+3070c2f738/python/lsst/daf/butler/_butler.py\", line 1446, in get\n",
       "    ref = self._findDatasetRef(datasetRefOrType, dataId, collections=collections, **kwargs)\n",
       "  File \"/opt/lsst/software/stack/stack/miniconda3-py38_4.9.2-6.0.0/Linux64/daf_butler/g4ebb90a088+3070c2f738/python/lsst/daf/butler/_butler.py\", line 1102, in _findDatasetRef\n",
       "    raise LookupError(\n",
       "LookupError: Dataset raw with data ID {instrument: 'LATISS', detector: 0, exposure: 2023050500103} could not be found in collections ('LATISS/raw/all',).\n",
       "</pre>"
      ],
      "text/plain": [
       "<IPython.core.display.HTML object>"
      ]
     },
     "metadata": {},
     "output_type": "display_data"
    },
    {
     "data": {
      "text/html": [
       "<pre style=\"margin: 0.1em;\n",
       "padding-left: 0.25em;\n",
       "border-left-style: solid;\n",
       "font-family: var(--jp-code-font-family);\n",
       "font-size: var(--jp-code-font-size);\n",
       "line-height: var(--jp-code-line-height);\n",
       "\"><span style=\"color: var(--jp-warn-color2)\">Sky Flats 2023-05-05 17:01:28.729000 UT</span> <span style=\"color: var(--jp-error-color2)\">ERROR</span>: Could not get new image from butler. Waiting 1 seconds and trying again.</pre><pre style=\"margin: 0.1em;\n",
       "padding-left: 0.25em;\n",
       "border-left-style: solid;\n",
       "font-family: var(--jp-code-font-family);\n",
       "font-size: var(--jp-code-font-size);\n",
       "line-height: var(--jp-code-line-height);\n",
       "\">Traceback (most recent call last):\n",
       "  File \"/tmp/ipykernel_8060/3420654075.py\", line 35, in verify_counts\n",
       "    exp = butler.get('raw', dataId=dataId)\n",
       "  File \"/opt/lsst/software/stack/stack/miniconda3-py38_4.9.2-6.0.0/Linux64/daf_butler/g4ebb90a088+3070c2f738/python/lsst/daf/butler/_butler.py\", line 1446, in get\n",
       "    ref = self._findDatasetRef(datasetRefOrType, dataId, collections=collections, **kwargs)\n",
       "  File \"/opt/lsst/software/stack/stack/miniconda3-py38_4.9.2-6.0.0/Linux64/daf_butler/g4ebb90a088+3070c2f738/python/lsst/daf/butler/_butler.py\", line 1102, in _findDatasetRef\n",
       "    raise LookupError(\n",
       "LookupError: Dataset raw with data ID {instrument: 'LATISS', detector: 0, exposure: 2023050500103} could not be found in collections ('LATISS/raw/all',).\n",
       "</pre>"
      ],
      "text/plain": [
       "<IPython.core.display.HTML object>"
      ]
     },
     "metadata": {},
     "output_type": "display_data"
    },
    {
     "data": {
      "text/html": [
       "<pre style=\"margin: 0.1em;\n",
       "padding-left: 0.25em;\n",
       "border-left-style: solid;\n",
       "font-family: var(--jp-code-font-family);\n",
       "font-size: var(--jp-code-font-size);\n",
       "line-height: var(--jp-code-line-height);\n",
       "\"><span style=\"color: var(--jp-warn-color2)\">Sky Flats 2023-05-05 17:01:28.729000 UT</span> <span style=\"color: var(--jp-error-color2)\">ERROR</span>: Could not get new image from butler. Waiting 1 seconds and trying again.</pre><pre style=\"margin: 0.1em;\n",
       "padding-left: 0.25em;\n",
       "border-left-style: solid;\n",
       "font-family: var(--jp-code-font-family);\n",
       "font-size: var(--jp-code-font-size);\n",
       "line-height: var(--jp-code-line-height);\n",
       "\">Traceback (most recent call last):\n",
       "  File \"/tmp/ipykernel_8060/3420654075.py\", line 35, in verify_counts\n",
       "    exp = butler.get('raw', dataId=dataId)\n",
       "  File \"/opt/lsst/software/stack/stack/miniconda3-py38_4.9.2-6.0.0/Linux64/daf_butler/g4ebb90a088+3070c2f738/python/lsst/daf/butler/_butler.py\", line 1446, in get\n",
       "    ref = self._findDatasetRef(datasetRefOrType, dataId, collections=collections, **kwargs)\n",
       "  File \"/opt/lsst/software/stack/stack/miniconda3-py38_4.9.2-6.0.0/Linux64/daf_butler/g4ebb90a088+3070c2f738/python/lsst/daf/butler/_butler.py\", line 1102, in _findDatasetRef\n",
       "    raise LookupError(\n",
       "LookupError: Dataset raw with data ID {instrument: 'LATISS', detector: 0, exposure: 2023050500103} could not be found in collections ('LATISS/raw/all',).\n",
       "</pre>"
      ],
      "text/plain": [
       "<IPython.core.display.HTML object>"
      ]
     },
     "metadata": {},
     "output_type": "display_data"
    },
    {
     "data": {
      "text/html": [
       "<pre style=\"margin: 0.1em;\n",
       "padding-left: 0.25em;\n",
       "border-left-style: solid;\n",
       "font-family: var(--jp-code-font-family);\n",
       "font-size: var(--jp-code-font-size);\n",
       "line-height: var(--jp-code-line-height);\n",
       "\"><span style=\"color: var(--jp-warn-color2)\">lsst.obs.base._fitsRawFormatterBase</span> <span style=\"color: var(--jp-warn-color0)\">WARNING</span>: Cannot create a valid WCS from metadata: CRPIX1</pre>"
      ],
      "text/plain": [
       "<IPython.core.display.HTML object>"
      ]
     },
     "metadata": {},
     "output_type": "display_data"
    },
    {
     "data": {
      "text/html": [
       "<pre style=\"margin: 0.1em;\n",
       "padding-left: 0.25em;\n",
       "border-left-style: solid;\n",
       "font-family: var(--jp-code-font-family);\n",
       "font-size: var(--jp-code-font-size);\n",
       "line-height: var(--jp-code-line-height);\n",
       "\"><span style=\"color: var(--jp-warn-color2)\">Sky Flats 2023-05-05 17:01:28.729000 UT</span> <span style=\"color: var(--jp-info-color0)\">INFO</span>: Exposure ID: 2023050500103</pre>"
      ],
      "text/plain": [
       "<IPython.core.display.HTML object>"
      ]
     },
     "metadata": {},
     "output_type": "display_data"
    },
    {
     "data": {
      "text/html": [
       "<pre style=\"margin: 0.1em;\n",
       "padding-left: 0.25em;\n",
       "border-left-style: solid;\n",
       "font-family: var(--jp-code-font-family);\n",
       "font-size: var(--jp-code-font-size);\n",
       "line-height: var(--jp-code-line-height);\n",
       "\"><span style=\"color: var(--jp-warn-color2)\">Sky Flats 2023-05-05 17:01:28.729000 UT</span> <span style=\"color: var(--jp-info-color0)\">INFO</span>:     Median: 13991.0</pre>"
      ],
      "text/plain": [
       "<IPython.core.display.HTML object>"
      ]
     },
     "metadata": {},
     "output_type": "display_data"
    },
    {
     "data": {
      "text/html": [
       "<pre style=\"margin: 0.1em;\n",
       "padding-left: 0.25em;\n",
       "border-left-style: solid;\n",
       "font-family: var(--jp-code-font-family);\n",
       "font-size: var(--jp-code-font-size);\n",
       "line-height: var(--jp-code-line-height);\n",
       "\"><span style=\"color: var(--jp-warn-color2)\">Sky Flats 2023-05-05 17:01:28.729000 UT</span> <span style=\"color: var(--jp-info-color0)\">INFO</span>:     Mean: 14406.582465277777</pre>"
      ],
      "text/plain": [
       "<IPython.core.display.HTML object>"
      ]
     },
     "metadata": {},
     "output_type": "display_data"
    },
    {
     "data": {
      "text/html": [
       "<pre style=\"margin: 0.1em;\n",
       "padding-left: 0.25em;\n",
       "border-left-style: solid;\n",
       "font-family: var(--jp-code-font-family);\n",
       "font-size: var(--jp-code-font-size);\n",
       "line-height: var(--jp-code-line-height);\n",
       "\"><span style=\"color: var(--jp-warn-color2)\">Sky Flats 2023-05-05 17:01:28.729000 UT</span> <span style=\"color: var(--jp-info-color0)\">INFO</span>:     Std: 1761.3422324591684</pre>"
      ],
      "text/plain": [
       "<IPython.core.display.HTML object>"
      ]
     },
     "metadata": {},
     "output_type": "display_data"
    },
    {
     "name": "stdout",
     "output_type": "stream",
     "text": [
      " 1 times below target counts\n",
      "The exposure time will be increased to 2\n"
     ]
    },
    {
     "data": {
      "text/html": [
       "<pre style=\"margin: 0.1em;\n",
       "padding-left: 0.25em;\n",
       "border-left-style: solid;\n",
       "font-family: var(--jp-code-font-family);\n",
       "font-size: var(--jp-code-font-size);\n",
       "line-height: var(--jp-code-line-height);\n",
       "\"><span style=\"color: var(--jp-warn-color2)\">ATPtg.timeAndDate</span> <span style=\"color: var(--jp-warn-color0)\">WARNING</span>: tel_timeAndDate DDS read queue is filling: 17 of 100 elements</pre>"
      ],
      "text/plain": [
       "<IPython.core.display.HTML object>"
      ]
     },
     "metadata": {},
     "output_type": "display_data"
    },
    {
     "data": {
      "text/html": [
       "<pre style=\"margin: 0.1em;\n",
       "padding-left: 0.25em;\n",
       "border-left-style: solid;\n",
       "font-family: var(--jp-code-font-family);\n",
       "font-size: var(--jp-code-font-size);\n",
       "line-height: var(--jp-code-line-height);\n",
       "\"><span style=\"color: var(--jp-warn-color2)\">Sky Flats 2023-05-05 17:01:28.729000 UT</span> <span style=\"color: var(--jp-info-color0)\">INFO</span>: Sky flats triplets with 2 seconds exposure time and filter SDSSg_65mm are [2023050500104], [2023050500105] and [2023050500106]</pre>"
      ],
      "text/plain": [
       "<IPython.core.display.HTML object>"
      ]
     },
     "metadata": {},
     "output_type": "display_data"
    },
    {
     "data": {
      "text/html": [
       "<pre style=\"margin: 0.1em;\n",
       "padding-left: 0.25em;\n",
       "border-left-style: solid;\n",
       "font-family: var(--jp-code-font-family);\n",
       "font-size: var(--jp-code-font-size);\n",
       "line-height: var(--jp-code-line-height);\n",
       "\"><span style=\"color: var(--jp-warn-color2)\">Sky Flats 2023-05-05 17:01:28.729000 UT</span> <span style=\"color: var(--jp-error-color2)\">ERROR</span>: Could not get new image from butler. Waiting 1 seconds and trying again.</pre><pre style=\"margin: 0.1em;\n",
       "padding-left: 0.25em;\n",
       "border-left-style: solid;\n",
       "font-family: var(--jp-code-font-family);\n",
       "font-size: var(--jp-code-font-size);\n",
       "line-height: var(--jp-code-line-height);\n",
       "\">Traceback (most recent call last):\n",
       "  File \"/tmp/ipykernel_8060/3420654075.py\", line 35, in verify_counts\n",
       "    exp = butler.get('raw', dataId=dataId)\n",
       "  File \"/opt/lsst/software/stack/stack/miniconda3-py38_4.9.2-6.0.0/Linux64/daf_butler/g4ebb90a088+3070c2f738/python/lsst/daf/butler/_butler.py\", line 1446, in get\n",
       "    ref = self._findDatasetRef(datasetRefOrType, dataId, collections=collections, **kwargs)\n",
       "  File \"/opt/lsst/software/stack/stack/miniconda3-py38_4.9.2-6.0.0/Linux64/daf_butler/g4ebb90a088+3070c2f738/python/lsst/daf/butler/_butler.py\", line 1102, in _findDatasetRef\n",
       "    raise LookupError(\n",
       "LookupError: Dataset raw with data ID {instrument: 'LATISS', detector: 0, exposure: 2023050500106} could not be found in collections ('LATISS/raw/all',).\n",
       "</pre>"
      ],
      "text/plain": [
       "<IPython.core.display.HTML object>"
      ]
     },
     "metadata": {},
     "output_type": "display_data"
    },
    {
     "data": {
      "text/html": [
       "<pre style=\"margin: 0.1em;\n",
       "padding-left: 0.25em;\n",
       "border-left-style: solid;\n",
       "font-family: var(--jp-code-font-family);\n",
       "font-size: var(--jp-code-font-size);\n",
       "line-height: var(--jp-code-line-height);\n",
       "\"><span style=\"color: var(--jp-warn-color2)\">Sky Flats 2023-05-05 17:01:28.729000 UT</span> <span style=\"color: var(--jp-error-color2)\">ERROR</span>: Could not get new image from butler. Waiting 1 seconds and trying again.</pre><pre style=\"margin: 0.1em;\n",
       "padding-left: 0.25em;\n",
       "border-left-style: solid;\n",
       "font-family: var(--jp-code-font-family);\n",
       "font-size: var(--jp-code-font-size);\n",
       "line-height: var(--jp-code-line-height);\n",
       "\">Traceback (most recent call last):\n",
       "  File \"/tmp/ipykernel_8060/3420654075.py\", line 35, in verify_counts\n",
       "    exp = butler.get('raw', dataId=dataId)\n",
       "  File \"/opt/lsst/software/stack/stack/miniconda3-py38_4.9.2-6.0.0/Linux64/daf_butler/g4ebb90a088+3070c2f738/python/lsst/daf/butler/_butler.py\", line 1446, in get\n",
       "    ref = self._findDatasetRef(datasetRefOrType, dataId, collections=collections, **kwargs)\n",
       "  File \"/opt/lsst/software/stack/stack/miniconda3-py38_4.9.2-6.0.0/Linux64/daf_butler/g4ebb90a088+3070c2f738/python/lsst/daf/butler/_butler.py\", line 1102, in _findDatasetRef\n",
       "    raise LookupError(\n",
       "LookupError: Dataset raw with data ID {instrument: 'LATISS', detector: 0, exposure: 2023050500106} could not be found in collections ('LATISS/raw/all',).\n",
       "</pre>"
      ],
      "text/plain": [
       "<IPython.core.display.HTML object>"
      ]
     },
     "metadata": {},
     "output_type": "display_data"
    },
    {
     "data": {
      "text/html": [
       "<pre style=\"margin: 0.1em;\n",
       "padding-left: 0.25em;\n",
       "border-left-style: solid;\n",
       "font-family: var(--jp-code-font-family);\n",
       "font-size: var(--jp-code-font-size);\n",
       "line-height: var(--jp-code-line-height);\n",
       "\"><span style=\"color: var(--jp-warn-color2)\">Sky Flats 2023-05-05 17:01:28.729000 UT</span> <span style=\"color: var(--jp-error-color2)\">ERROR</span>: Could not get new image from butler. Waiting 1 seconds and trying again.</pre><pre style=\"margin: 0.1em;\n",
       "padding-left: 0.25em;\n",
       "border-left-style: solid;\n",
       "font-family: var(--jp-code-font-family);\n",
       "font-size: var(--jp-code-font-size);\n",
       "line-height: var(--jp-code-line-height);\n",
       "\">Traceback (most recent call last):\n",
       "  File \"/tmp/ipykernel_8060/3420654075.py\", line 35, in verify_counts\n",
       "    exp = butler.get('raw', dataId=dataId)\n",
       "  File \"/opt/lsst/software/stack/stack/miniconda3-py38_4.9.2-6.0.0/Linux64/daf_butler/g4ebb90a088+3070c2f738/python/lsst/daf/butler/_butler.py\", line 1446, in get\n",
       "    ref = self._findDatasetRef(datasetRefOrType, dataId, collections=collections, **kwargs)\n",
       "  File \"/opt/lsst/software/stack/stack/miniconda3-py38_4.9.2-6.0.0/Linux64/daf_butler/g4ebb90a088+3070c2f738/python/lsst/daf/butler/_butler.py\", line 1102, in _findDatasetRef\n",
       "    raise LookupError(\n",
       "LookupError: Dataset raw with data ID {instrument: 'LATISS', detector: 0, exposure: 2023050500106} could not be found in collections ('LATISS/raw/all',).\n",
       "</pre>"
      ],
      "text/plain": [
       "<IPython.core.display.HTML object>"
      ]
     },
     "metadata": {},
     "output_type": "display_data"
    },
    {
     "data": {
      "text/html": [
       "<pre style=\"margin: 0.1em;\n",
       "padding-left: 0.25em;\n",
       "border-left-style: solid;\n",
       "font-family: var(--jp-code-font-family);\n",
       "font-size: var(--jp-code-font-size);\n",
       "line-height: var(--jp-code-line-height);\n",
       "\"><span style=\"color: var(--jp-warn-color2)\">lsst.obs.base._fitsRawFormatterBase</span> <span style=\"color: var(--jp-warn-color0)\">WARNING</span>: Cannot create a valid WCS from metadata: CRPIX1</pre>"
      ],
      "text/plain": [
       "<IPython.core.display.HTML object>"
      ]
     },
     "metadata": {},
     "output_type": "display_data"
    },
    {
     "data": {
      "text/html": [
       "<pre style=\"margin: 0.1em;\n",
       "padding-left: 0.25em;\n",
       "border-left-style: solid;\n",
       "font-family: var(--jp-code-font-family);\n",
       "font-size: var(--jp-code-font-size);\n",
       "line-height: var(--jp-code-line-height);\n",
       "\"><span style=\"color: var(--jp-warn-color2)\">Sky Flats 2023-05-05 17:01:28.729000 UT</span> <span style=\"color: var(--jp-info-color0)\">INFO</span>: Exposure ID: 2023050500106</pre>"
      ],
      "text/plain": [
       "<IPython.core.display.HTML object>"
      ]
     },
     "metadata": {},
     "output_type": "display_data"
    },
    {
     "data": {
      "text/html": [
       "<pre style=\"margin: 0.1em;\n",
       "padding-left: 0.25em;\n",
       "border-left-style: solid;\n",
       "font-family: var(--jp-code-font-family);\n",
       "font-size: var(--jp-code-font-size);\n",
       "line-height: var(--jp-code-line-height);\n",
       "\"><span style=\"color: var(--jp-warn-color2)\">Sky Flats 2023-05-05 17:01:28.729000 UT</span> <span style=\"color: var(--jp-info-color0)\">INFO</span>:     Median: 13991.0</pre>"
      ],
      "text/plain": [
       "<IPython.core.display.HTML object>"
      ]
     },
     "metadata": {},
     "output_type": "display_data"
    },
    {
     "data": {
      "text/html": [
       "<pre style=\"margin: 0.1em;\n",
       "padding-left: 0.25em;\n",
       "border-left-style: solid;\n",
       "font-family: var(--jp-code-font-family);\n",
       "font-size: var(--jp-code-font-size);\n",
       "line-height: var(--jp-code-line-height);\n",
       "\"><span style=\"color: var(--jp-warn-color2)\">Sky Flats 2023-05-05 17:01:28.729000 UT</span> <span style=\"color: var(--jp-info-color0)\">INFO</span>:     Mean: 14407.499131944445</pre>"
      ],
      "text/plain": [
       "<IPython.core.display.HTML object>"
      ]
     },
     "metadata": {},
     "output_type": "display_data"
    },
    {
     "data": {
      "text/html": [
       "<pre style=\"margin: 0.1em;\n",
       "padding-left: 0.25em;\n",
       "border-left-style: solid;\n",
       "font-family: var(--jp-code-font-family);\n",
       "font-size: var(--jp-code-font-size);\n",
       "line-height: var(--jp-code-line-height);\n",
       "\"><span style=\"color: var(--jp-warn-color2)\">Sky Flats 2023-05-05 17:01:28.729000 UT</span> <span style=\"color: var(--jp-info-color0)\">INFO</span>:     Std: 1799.7262297863547</pre>"
      ],
      "text/plain": [
       "<IPython.core.display.HTML object>"
      ]
     },
     "metadata": {},
     "output_type": "display_data"
    },
    {
     "name": "stdout",
     "output_type": "stream",
     "text": [
      " 2 times below target counts\n",
      "The exposure time will be increased to 4\n"
     ]
    },
    {
     "data": {
      "text/html": [
       "<pre style=\"margin: 0.1em;\n",
       "padding-left: 0.25em;\n",
       "border-left-style: solid;\n",
       "font-family: var(--jp-code-font-family);\n",
       "font-size: var(--jp-code-font-size);\n",
       "line-height: var(--jp-code-line-height);\n",
       "\"><span style=\"color: var(--jp-warn-color2)\">ATPtg.timeAndDate</span> <span style=\"color: var(--jp-warn-color0)\">WARNING</span>: tel_timeAndDate DDS read queue is filling: 17 of 100 elements</pre>"
      ],
      "text/plain": [
       "<IPython.core.display.HTML object>"
      ]
     },
     "metadata": {},
     "output_type": "display_data"
    },
    {
     "data": {
      "text/html": [
       "<pre style=\"margin: 0.1em;\n",
       "padding-left: 0.25em;\n",
       "border-left-style: solid;\n",
       "font-family: var(--jp-code-font-family);\n",
       "font-size: var(--jp-code-font-size);\n",
       "line-height: var(--jp-code-line-height);\n",
       "\"><span style=\"color: var(--jp-warn-color2)\">Sky Flats 2023-05-05 17:01:28.729000 UT</span> <span style=\"color: var(--jp-info-color0)\">INFO</span>: Sky flats triplets with 4 seconds exposure time and filter SDSSg_65mm are [2023050500107], [2023050500108] and [2023050500109]</pre>"
      ],
      "text/plain": [
       "<IPython.core.display.HTML object>"
      ]
     },
     "metadata": {},
     "output_type": "display_data"
    },
    {
     "data": {
      "text/html": [
       "<pre style=\"margin: 0.1em;\n",
       "padding-left: 0.25em;\n",
       "border-left-style: solid;\n",
       "font-family: var(--jp-code-font-family);\n",
       "font-size: var(--jp-code-font-size);\n",
       "line-height: var(--jp-code-line-height);\n",
       "\"><span style=\"color: var(--jp-warn-color2)\">Sky Flats 2023-05-05 17:01:28.729000 UT</span> <span style=\"color: var(--jp-error-color2)\">ERROR</span>: Could not get new image from butler. Waiting 1 seconds and trying again.</pre><pre style=\"margin: 0.1em;\n",
       "padding-left: 0.25em;\n",
       "border-left-style: solid;\n",
       "font-family: var(--jp-code-font-family);\n",
       "font-size: var(--jp-code-font-size);\n",
       "line-height: var(--jp-code-line-height);\n",
       "\">Traceback (most recent call last):\n",
       "  File \"/tmp/ipykernel_8060/3420654075.py\", line 35, in verify_counts\n",
       "    exp = butler.get('raw', dataId=dataId)\n",
       "  File \"/opt/lsst/software/stack/stack/miniconda3-py38_4.9.2-6.0.0/Linux64/daf_butler/g4ebb90a088+3070c2f738/python/lsst/daf/butler/_butler.py\", line 1446, in get\n",
       "    ref = self._findDatasetRef(datasetRefOrType, dataId, collections=collections, **kwargs)\n",
       "  File \"/opt/lsst/software/stack/stack/miniconda3-py38_4.9.2-6.0.0/Linux64/daf_butler/g4ebb90a088+3070c2f738/python/lsst/daf/butler/_butler.py\", line 1102, in _findDatasetRef\n",
       "    raise LookupError(\n",
       "LookupError: Dataset raw with data ID {instrument: 'LATISS', detector: 0, exposure: 2023050500109} could not be found in collections ('LATISS/raw/all',).\n",
       "</pre>"
      ],
      "text/plain": [
       "<IPython.core.display.HTML object>"
      ]
     },
     "metadata": {},
     "output_type": "display_data"
    },
    {
     "data": {
      "text/html": [
       "<pre style=\"margin: 0.1em;\n",
       "padding-left: 0.25em;\n",
       "border-left-style: solid;\n",
       "font-family: var(--jp-code-font-family);\n",
       "font-size: var(--jp-code-font-size);\n",
       "line-height: var(--jp-code-line-height);\n",
       "\"><span style=\"color: var(--jp-warn-color2)\">Sky Flats 2023-05-05 17:01:28.729000 UT</span> <span style=\"color: var(--jp-error-color2)\">ERROR</span>: Could not get new image from butler. Waiting 1 seconds and trying again.</pre><pre style=\"margin: 0.1em;\n",
       "padding-left: 0.25em;\n",
       "border-left-style: solid;\n",
       "font-family: var(--jp-code-font-family);\n",
       "font-size: var(--jp-code-font-size);\n",
       "line-height: var(--jp-code-line-height);\n",
       "\">Traceback (most recent call last):\n",
       "  File \"/tmp/ipykernel_8060/3420654075.py\", line 35, in verify_counts\n",
       "    exp = butler.get('raw', dataId=dataId)\n",
       "  File \"/opt/lsst/software/stack/stack/miniconda3-py38_4.9.2-6.0.0/Linux64/daf_butler/g4ebb90a088+3070c2f738/python/lsst/daf/butler/_butler.py\", line 1446, in get\n",
       "    ref = self._findDatasetRef(datasetRefOrType, dataId, collections=collections, **kwargs)\n",
       "  File \"/opt/lsst/software/stack/stack/miniconda3-py38_4.9.2-6.0.0/Linux64/daf_butler/g4ebb90a088+3070c2f738/python/lsst/daf/butler/_butler.py\", line 1102, in _findDatasetRef\n",
       "    raise LookupError(\n",
       "LookupError: Dataset raw with data ID {instrument: 'LATISS', detector: 0, exposure: 2023050500109} could not be found in collections ('LATISS/raw/all',).\n",
       "</pre>"
      ],
      "text/plain": [
       "<IPython.core.display.HTML object>"
      ]
     },
     "metadata": {},
     "output_type": "display_data"
    },
    {
     "data": {
      "text/html": [
       "<pre style=\"margin: 0.1em;\n",
       "padding-left: 0.25em;\n",
       "border-left-style: solid;\n",
       "font-family: var(--jp-code-font-family);\n",
       "font-size: var(--jp-code-font-size);\n",
       "line-height: var(--jp-code-line-height);\n",
       "\"><span style=\"color: var(--jp-warn-color2)\">Sky Flats 2023-05-05 17:01:28.729000 UT</span> <span style=\"color: var(--jp-error-color2)\">ERROR</span>: Could not get new image from butler. Waiting 1 seconds and trying again.</pre><pre style=\"margin: 0.1em;\n",
       "padding-left: 0.25em;\n",
       "border-left-style: solid;\n",
       "font-family: var(--jp-code-font-family);\n",
       "font-size: var(--jp-code-font-size);\n",
       "line-height: var(--jp-code-line-height);\n",
       "\">Traceback (most recent call last):\n",
       "  File \"/tmp/ipykernel_8060/3420654075.py\", line 35, in verify_counts\n",
       "    exp = butler.get('raw', dataId=dataId)\n",
       "  File \"/opt/lsst/software/stack/stack/miniconda3-py38_4.9.2-6.0.0/Linux64/daf_butler/g4ebb90a088+3070c2f738/python/lsst/daf/butler/_butler.py\", line 1446, in get\n",
       "    ref = self._findDatasetRef(datasetRefOrType, dataId, collections=collections, **kwargs)\n",
       "  File \"/opt/lsst/software/stack/stack/miniconda3-py38_4.9.2-6.0.0/Linux64/daf_butler/g4ebb90a088+3070c2f738/python/lsst/daf/butler/_butler.py\", line 1102, in _findDatasetRef\n",
       "    raise LookupError(\n",
       "LookupError: Dataset raw with data ID {instrument: 'LATISS', detector: 0, exposure: 2023050500109} could not be found in collections ('LATISS/raw/all',).\n",
       "</pre>"
      ],
      "text/plain": [
       "<IPython.core.display.HTML object>"
      ]
     },
     "metadata": {},
     "output_type": "display_data"
    },
    {
     "data": {
      "text/html": [
       "<pre style=\"margin: 0.1em;\n",
       "padding-left: 0.25em;\n",
       "border-left-style: solid;\n",
       "font-family: var(--jp-code-font-family);\n",
       "font-size: var(--jp-code-font-size);\n",
       "line-height: var(--jp-code-line-height);\n",
       "\"><span style=\"color: var(--jp-warn-color2)\">lsst.obs.base._fitsRawFormatterBase</span> <span style=\"color: var(--jp-warn-color0)\">WARNING</span>: Cannot create a valid WCS from metadata: CRPIX1</pre>"
      ],
      "text/plain": [
       "<IPython.core.display.HTML object>"
      ]
     },
     "metadata": {},
     "output_type": "display_data"
    },
    {
     "data": {
      "text/html": [
       "<pre style=\"margin: 0.1em;\n",
       "padding-left: 0.25em;\n",
       "border-left-style: solid;\n",
       "font-family: var(--jp-code-font-family);\n",
       "font-size: var(--jp-code-font-size);\n",
       "line-height: var(--jp-code-line-height);\n",
       "\"><span style=\"color: var(--jp-warn-color2)\">Sky Flats 2023-05-05 17:01:28.729000 UT</span> <span style=\"color: var(--jp-info-color0)\">INFO</span>: Exposure ID: 2023050500109</pre>"
      ],
      "text/plain": [
       "<IPython.core.display.HTML object>"
      ]
     },
     "metadata": {},
     "output_type": "display_data"
    },
    {
     "data": {
      "text/html": [
       "<pre style=\"margin: 0.1em;\n",
       "padding-left: 0.25em;\n",
       "border-left-style: solid;\n",
       "font-family: var(--jp-code-font-family);\n",
       "font-size: var(--jp-code-font-size);\n",
       "line-height: var(--jp-code-line-height);\n",
       "\"><span style=\"color: var(--jp-warn-color2)\">Sky Flats 2023-05-05 17:01:28.729000 UT</span> <span style=\"color: var(--jp-info-color0)\">INFO</span>:     Median: 13991.0</pre>"
      ],
      "text/plain": [
       "<IPython.core.display.HTML object>"
      ]
     },
     "metadata": {},
     "output_type": "display_data"
    },
    {
     "data": {
      "text/html": [
       "<pre style=\"margin: 0.1em;\n",
       "padding-left: 0.25em;\n",
       "border-left-style: solid;\n",
       "font-family: var(--jp-code-font-family);\n",
       "font-size: var(--jp-code-font-size);\n",
       "line-height: var(--jp-code-line-height);\n",
       "\"><span style=\"color: var(--jp-warn-color2)\">Sky Flats 2023-05-05 17:01:28.729000 UT</span> <span style=\"color: var(--jp-info-color0)\">INFO</span>:     Mean: 14409.355034722223</pre>"
      ],
      "text/plain": [
       "<IPython.core.display.HTML object>"
      ]
     },
     "metadata": {},
     "output_type": "display_data"
    },
    {
     "data": {
      "text/html": [
       "<pre style=\"margin: 0.1em;\n",
       "padding-left: 0.25em;\n",
       "border-left-style: solid;\n",
       "font-family: var(--jp-code-font-family);\n",
       "font-size: var(--jp-code-font-size);\n",
       "line-height: var(--jp-code-line-height);\n",
       "\"><span style=\"color: var(--jp-warn-color2)\">Sky Flats 2023-05-05 17:01:28.729000 UT</span> <span style=\"color: var(--jp-info-color0)\">INFO</span>:     Std: 1873.349403289361</pre>"
      ],
      "text/plain": [
       "<IPython.core.display.HTML object>"
      ]
     },
     "metadata": {},
     "output_type": "display_data"
    },
    {
     "name": "stdout",
     "output_type": "stream",
     "text": [
      " 3 times below target counts\n",
      "Changing filters\n"
     ]
    },
    {
     "data": {
      "text/html": [
       "<pre style=\"margin: 0.1em;\n",
       "padding-left: 0.25em;\n",
       "border-left-style: solid;\n",
       "font-family: var(--jp-code-font-family);\n",
       "font-size: var(--jp-code-font-size);\n",
       "line-height: var(--jp-code-line-height);\n",
       "\"><span style=\"color: var(--jp-warn-color2)\">Sky Flats 2023-05-05 17:01:28.729000 UT</span> <span style=\"color: var(--jp-info-color0)\">INFO</span>: Filter is SDSSr_65mm</pre>"
      ],
      "text/plain": [
       "<IPython.core.display.HTML object>"
      ]
     },
     "metadata": {},
     "output_type": "display_data"
    },
    {
     "data": {
      "text/html": [
       "<pre style=\"margin: 0.1em;\n",
       "padding-left: 0.25em;\n",
       "border-left-style: solid;\n",
       "font-family: var(--jp-code-font-family);\n",
       "font-size: var(--jp-code-font-size);\n",
       "line-height: var(--jp-code-line-height);\n",
       "\"><span style=\"color: var(--jp-warn-color2)\">ATPtg.timeAndDate</span> <span style=\"color: var(--jp-warn-color0)\">WARNING</span>: tel_timeAndDate DDS read queue is filling: 17 of 100 elements</pre>"
      ],
      "text/plain": [
       "<IPython.core.display.HTML object>"
      ]
     },
     "metadata": {},
     "output_type": "display_data"
    },
    {
     "data": {
      "text/html": [
       "<pre style=\"margin: 0.1em;\n",
       "padding-left: 0.25em;\n",
       "border-left-style: solid;\n",
       "font-family: var(--jp-code-font-family);\n",
       "font-size: var(--jp-code-font-size);\n",
       "line-height: var(--jp-code-line-height);\n",
       "\"><span style=\"color: var(--jp-warn-color2)\">Sky Flats 2023-05-05 17:01:28.729000 UT</span> <span style=\"color: var(--jp-info-color0)\">INFO</span>: Sky flats triplets with 1 seconds exposure time and filter SDSSr_65mm are [2023050500110], [2023050500111] and [2023050500112]</pre>"
      ],
      "text/plain": [
       "<IPython.core.display.HTML object>"
      ]
     },
     "metadata": {},
     "output_type": "display_data"
    },
    {
     "data": {
      "text/html": [
       "<pre style=\"margin: 0.1em;\n",
       "padding-left: 0.25em;\n",
       "border-left-style: solid;\n",
       "font-family: var(--jp-code-font-family);\n",
       "font-size: var(--jp-code-font-size);\n",
       "line-height: var(--jp-code-line-height);\n",
       "\"><span style=\"color: var(--jp-warn-color2)\">Sky Flats 2023-05-05 17:01:28.729000 UT</span> <span style=\"color: var(--jp-error-color2)\">ERROR</span>: Could not get new image from butler. Waiting 1 seconds and trying again.</pre><pre style=\"margin: 0.1em;\n",
       "padding-left: 0.25em;\n",
       "border-left-style: solid;\n",
       "font-family: var(--jp-code-font-family);\n",
       "font-size: var(--jp-code-font-size);\n",
       "line-height: var(--jp-code-line-height);\n",
       "\">Traceback (most recent call last):\n",
       "  File \"/tmp/ipykernel_8060/3420654075.py\", line 35, in verify_counts\n",
       "    exp = butler.get('raw', dataId=dataId)\n",
       "  File \"/opt/lsst/software/stack/stack/miniconda3-py38_4.9.2-6.0.0/Linux64/daf_butler/g4ebb90a088+3070c2f738/python/lsst/daf/butler/_butler.py\", line 1446, in get\n",
       "    ref = self._findDatasetRef(datasetRefOrType, dataId, collections=collections, **kwargs)\n",
       "  File \"/opt/lsst/software/stack/stack/miniconda3-py38_4.9.2-6.0.0/Linux64/daf_butler/g4ebb90a088+3070c2f738/python/lsst/daf/butler/_butler.py\", line 1102, in _findDatasetRef\n",
       "    raise LookupError(\n",
       "LookupError: Dataset raw with data ID {instrument: 'LATISS', detector: 0, exposure: 2023050500112} could not be found in collections ('LATISS/raw/all',).\n",
       "</pre>"
      ],
      "text/plain": [
       "<IPython.core.display.HTML object>"
      ]
     },
     "metadata": {},
     "output_type": "display_data"
    },
    {
     "data": {
      "text/html": [
       "<pre style=\"margin: 0.1em;\n",
       "padding-left: 0.25em;\n",
       "border-left-style: solid;\n",
       "font-family: var(--jp-code-font-family);\n",
       "font-size: var(--jp-code-font-size);\n",
       "line-height: var(--jp-code-line-height);\n",
       "\"><span style=\"color: var(--jp-warn-color2)\">Sky Flats 2023-05-05 17:01:28.729000 UT</span> <span style=\"color: var(--jp-error-color2)\">ERROR</span>: Could not get new image from butler. Waiting 1 seconds and trying again.</pre><pre style=\"margin: 0.1em;\n",
       "padding-left: 0.25em;\n",
       "border-left-style: solid;\n",
       "font-family: var(--jp-code-font-family);\n",
       "font-size: var(--jp-code-font-size);\n",
       "line-height: var(--jp-code-line-height);\n",
       "\">Traceback (most recent call last):\n",
       "  File \"/tmp/ipykernel_8060/3420654075.py\", line 35, in verify_counts\n",
       "    exp = butler.get('raw', dataId=dataId)\n",
       "  File \"/opt/lsst/software/stack/stack/miniconda3-py38_4.9.2-6.0.0/Linux64/daf_butler/g4ebb90a088+3070c2f738/python/lsst/daf/butler/_butler.py\", line 1446, in get\n",
       "    ref = self._findDatasetRef(datasetRefOrType, dataId, collections=collections, **kwargs)\n",
       "  File \"/opt/lsst/software/stack/stack/miniconda3-py38_4.9.2-6.0.0/Linux64/daf_butler/g4ebb90a088+3070c2f738/python/lsst/daf/butler/_butler.py\", line 1102, in _findDatasetRef\n",
       "    raise LookupError(\n",
       "LookupError: Dataset raw with data ID {instrument: 'LATISS', detector: 0, exposure: 2023050500112} could not be found in collections ('LATISS/raw/all',).\n",
       "</pre>"
      ],
      "text/plain": [
       "<IPython.core.display.HTML object>"
      ]
     },
     "metadata": {},
     "output_type": "display_data"
    },
    {
     "data": {
      "text/html": [
       "<pre style=\"margin: 0.1em;\n",
       "padding-left: 0.25em;\n",
       "border-left-style: solid;\n",
       "font-family: var(--jp-code-font-family);\n",
       "font-size: var(--jp-code-font-size);\n",
       "line-height: var(--jp-code-line-height);\n",
       "\"><span style=\"color: var(--jp-warn-color2)\">lsst.obs.base._fitsRawFormatterBase</span> <span style=\"color: var(--jp-warn-color0)\">WARNING</span>: Cannot create a valid WCS from metadata: CRPIX1</pre>"
      ],
      "text/plain": [
       "<IPython.core.display.HTML object>"
      ]
     },
     "metadata": {},
     "output_type": "display_data"
    },
    {
     "data": {
      "text/html": [
       "<pre style=\"margin: 0.1em;\n",
       "padding-left: 0.25em;\n",
       "border-left-style: solid;\n",
       "font-family: var(--jp-code-font-family);\n",
       "font-size: var(--jp-code-font-size);\n",
       "line-height: var(--jp-code-line-height);\n",
       "\"><span style=\"color: var(--jp-warn-color2)\">Sky Flats 2023-05-05 17:01:28.729000 UT</span> <span style=\"color: var(--jp-info-color0)\">INFO</span>: Exposure ID: 2023050500112</pre>"
      ],
      "text/plain": [
       "<IPython.core.display.HTML object>"
      ]
     },
     "metadata": {},
     "output_type": "display_data"
    },
    {
     "data": {
      "text/html": [
       "<pre style=\"margin: 0.1em;\n",
       "padding-left: 0.25em;\n",
       "border-left-style: solid;\n",
       "font-family: var(--jp-code-font-family);\n",
       "font-size: var(--jp-code-font-size);\n",
       "line-height: var(--jp-code-line-height);\n",
       "\"><span style=\"color: var(--jp-warn-color2)\">Sky Flats 2023-05-05 17:01:28.729000 UT</span> <span style=\"color: var(--jp-info-color0)\">INFO</span>:     Median: 13990.0</pre>"
      ],
      "text/plain": [
       "<IPython.core.display.HTML object>"
      ]
     },
     "metadata": {},
     "output_type": "display_data"
    },
    {
     "data": {
      "text/html": [
       "<pre style=\"margin: 0.1em;\n",
       "padding-left: 0.25em;\n",
       "border-left-style: solid;\n",
       "font-family: var(--jp-code-font-family);\n",
       "font-size: var(--jp-code-font-size);\n",
       "line-height: var(--jp-code-line-height);\n",
       "\"><span style=\"color: var(--jp-warn-color2)\">Sky Flats 2023-05-05 17:01:28.729000 UT</span> <span style=\"color: var(--jp-info-color0)\">INFO</span>:     Mean: 14406.046875</pre>"
      ],
      "text/plain": [
       "<IPython.core.display.HTML object>"
      ]
     },
     "metadata": {},
     "output_type": "display_data"
    },
    {
     "data": {
      "text/html": [
       "<pre style=\"margin: 0.1em;\n",
       "padding-left: 0.25em;\n",
       "border-left-style: solid;\n",
       "font-family: var(--jp-code-font-family);\n",
       "font-size: var(--jp-code-font-size);\n",
       "line-height: var(--jp-code-line-height);\n",
       "\"><span style=\"color: var(--jp-warn-color2)\">Sky Flats 2023-05-05 17:01:28.729000 UT</span> <span style=\"color: var(--jp-info-color0)\">INFO</span>:     Std: 1762.1738744222696</pre>"
      ],
      "text/plain": [
       "<IPython.core.display.HTML object>"
      ]
     },
     "metadata": {},
     "output_type": "display_data"
    },
    {
     "name": "stdout",
     "output_type": "stream",
     "text": [
      " 1 times below target counts\n",
      "The exposure time will be increased to 2\n"
     ]
    },
    {
     "data": {
      "text/html": [
       "<pre style=\"margin: 0.1em;\n",
       "padding-left: 0.25em;\n",
       "border-left-style: solid;\n",
       "font-family: var(--jp-code-font-family);\n",
       "font-size: var(--jp-code-font-size);\n",
       "line-height: var(--jp-code-line-height);\n",
       "\"><span style=\"color: var(--jp-warn-color2)\">ATPtg.timeAndDate</span> <span style=\"color: var(--jp-warn-color0)\">WARNING</span>: tel_timeAndDate DDS read queue is filling: 17 of 100 elements</pre>"
      ],
      "text/plain": [
       "<IPython.core.display.HTML object>"
      ]
     },
     "metadata": {},
     "output_type": "display_data"
    },
    {
     "data": {
      "text/html": [
       "<pre style=\"margin: 0.1em;\n",
       "padding-left: 0.25em;\n",
       "border-left-style: solid;\n",
       "font-family: var(--jp-code-font-family);\n",
       "font-size: var(--jp-code-font-size);\n",
       "line-height: var(--jp-code-line-height);\n",
       "\"><span style=\"color: var(--jp-warn-color2)\">Sky Flats 2023-05-05 17:01:28.729000 UT</span> <span style=\"color: var(--jp-info-color0)\">INFO</span>: Sky flats triplets with 2 seconds exposure time and filter SDSSr_65mm are [2023050500113], [2023050500114] and [2023050500115]</pre>"
      ],
      "text/plain": [
       "<IPython.core.display.HTML object>"
      ]
     },
     "metadata": {},
     "output_type": "display_data"
    },
    {
     "data": {
      "text/html": [
       "<pre style=\"margin: 0.1em;\n",
       "padding-left: 0.25em;\n",
       "border-left-style: solid;\n",
       "font-family: var(--jp-code-font-family);\n",
       "font-size: var(--jp-code-font-size);\n",
       "line-height: var(--jp-code-line-height);\n",
       "\"><span style=\"color: var(--jp-warn-color2)\">Sky Flats 2023-05-05 17:01:28.729000 UT</span> <span style=\"color: var(--jp-error-color2)\">ERROR</span>: Could not get new image from butler. Waiting 1 seconds and trying again.</pre><pre style=\"margin: 0.1em;\n",
       "padding-left: 0.25em;\n",
       "border-left-style: solid;\n",
       "font-family: var(--jp-code-font-family);\n",
       "font-size: var(--jp-code-font-size);\n",
       "line-height: var(--jp-code-line-height);\n",
       "\">Traceback (most recent call last):\n",
       "  File \"/tmp/ipykernel_8060/3420654075.py\", line 35, in verify_counts\n",
       "    exp = butler.get('raw', dataId=dataId)\n",
       "  File \"/opt/lsst/software/stack/stack/miniconda3-py38_4.9.2-6.0.0/Linux64/daf_butler/g4ebb90a088+3070c2f738/python/lsst/daf/butler/_butler.py\", line 1446, in get\n",
       "    ref = self._findDatasetRef(datasetRefOrType, dataId, collections=collections, **kwargs)\n",
       "  File \"/opt/lsst/software/stack/stack/miniconda3-py38_4.9.2-6.0.0/Linux64/daf_butler/g4ebb90a088+3070c2f738/python/lsst/daf/butler/_butler.py\", line 1102, in _findDatasetRef\n",
       "    raise LookupError(\n",
       "LookupError: Dataset raw with data ID {instrument: 'LATISS', detector: 0, exposure: 2023050500115} could not be found in collections ('LATISS/raw/all',).\n",
       "</pre>"
      ],
      "text/plain": [
       "<IPython.core.display.HTML object>"
      ]
     },
     "metadata": {},
     "output_type": "display_data"
    },
    {
     "data": {
      "text/html": [
       "<pre style=\"margin: 0.1em;\n",
       "padding-left: 0.25em;\n",
       "border-left-style: solid;\n",
       "font-family: var(--jp-code-font-family);\n",
       "font-size: var(--jp-code-font-size);\n",
       "line-height: var(--jp-code-line-height);\n",
       "\"><span style=\"color: var(--jp-warn-color2)\">Sky Flats 2023-05-05 17:01:28.729000 UT</span> <span style=\"color: var(--jp-error-color2)\">ERROR</span>: Could not get new image from butler. Waiting 1 seconds and trying again.</pre><pre style=\"margin: 0.1em;\n",
       "padding-left: 0.25em;\n",
       "border-left-style: solid;\n",
       "font-family: var(--jp-code-font-family);\n",
       "font-size: var(--jp-code-font-size);\n",
       "line-height: var(--jp-code-line-height);\n",
       "\">Traceback (most recent call last):\n",
       "  File \"/tmp/ipykernel_8060/3420654075.py\", line 35, in verify_counts\n",
       "    exp = butler.get('raw', dataId=dataId)\n",
       "  File \"/opt/lsst/software/stack/stack/miniconda3-py38_4.9.2-6.0.0/Linux64/daf_butler/g4ebb90a088+3070c2f738/python/lsst/daf/butler/_butler.py\", line 1446, in get\n",
       "    ref = self._findDatasetRef(datasetRefOrType, dataId, collections=collections, **kwargs)\n",
       "  File \"/opt/lsst/software/stack/stack/miniconda3-py38_4.9.2-6.0.0/Linux64/daf_butler/g4ebb90a088+3070c2f738/python/lsst/daf/butler/_butler.py\", line 1102, in _findDatasetRef\n",
       "    raise LookupError(\n",
       "LookupError: Dataset raw with data ID {instrument: 'LATISS', detector: 0, exposure: 2023050500115} could not be found in collections ('LATISS/raw/all',).\n",
       "</pre>"
      ],
      "text/plain": [
       "<IPython.core.display.HTML object>"
      ]
     },
     "metadata": {},
     "output_type": "display_data"
    },
    {
     "data": {
      "text/html": [
       "<pre style=\"margin: 0.1em;\n",
       "padding-left: 0.25em;\n",
       "border-left-style: solid;\n",
       "font-family: var(--jp-code-font-family);\n",
       "font-size: var(--jp-code-font-size);\n",
       "line-height: var(--jp-code-line-height);\n",
       "\"><span style=\"color: var(--jp-warn-color2)\">Sky Flats 2023-05-05 17:01:28.729000 UT</span> <span style=\"color: var(--jp-error-color2)\">ERROR</span>: Could not get new image from butler. Waiting 1 seconds and trying again.</pre><pre style=\"margin: 0.1em;\n",
       "padding-left: 0.25em;\n",
       "border-left-style: solid;\n",
       "font-family: var(--jp-code-font-family);\n",
       "font-size: var(--jp-code-font-size);\n",
       "line-height: var(--jp-code-line-height);\n",
       "\">Traceback (most recent call last):\n",
       "  File \"/tmp/ipykernel_8060/3420654075.py\", line 35, in verify_counts\n",
       "    exp = butler.get('raw', dataId=dataId)\n",
       "  File \"/opt/lsst/software/stack/stack/miniconda3-py38_4.9.2-6.0.0/Linux64/daf_butler/g4ebb90a088+3070c2f738/python/lsst/daf/butler/_butler.py\", line 1446, in get\n",
       "    ref = self._findDatasetRef(datasetRefOrType, dataId, collections=collections, **kwargs)\n",
       "  File \"/opt/lsst/software/stack/stack/miniconda3-py38_4.9.2-6.0.0/Linux64/daf_butler/g4ebb90a088+3070c2f738/python/lsst/daf/butler/_butler.py\", line 1102, in _findDatasetRef\n",
       "    raise LookupError(\n",
       "LookupError: Dataset raw with data ID {instrument: 'LATISS', detector: 0, exposure: 2023050500115} could not be found in collections ('LATISS/raw/all',).\n",
       "</pre>"
      ],
      "text/plain": [
       "<IPython.core.display.HTML object>"
      ]
     },
     "metadata": {},
     "output_type": "display_data"
    },
    {
     "data": {
      "text/html": [
       "<pre style=\"margin: 0.1em;\n",
       "padding-left: 0.25em;\n",
       "border-left-style: solid;\n",
       "font-family: var(--jp-code-font-family);\n",
       "font-size: var(--jp-code-font-size);\n",
       "line-height: var(--jp-code-line-height);\n",
       "\"><span style=\"color: var(--jp-warn-color2)\">lsst.obs.base._fitsRawFormatterBase</span> <span style=\"color: var(--jp-warn-color0)\">WARNING</span>: Cannot create a valid WCS from metadata: CRPIX1</pre>"
      ],
      "text/plain": [
       "<IPython.core.display.HTML object>"
      ]
     },
     "metadata": {},
     "output_type": "display_data"
    },
    {
     "data": {
      "text/html": [
       "<pre style=\"margin: 0.1em;\n",
       "padding-left: 0.25em;\n",
       "border-left-style: solid;\n",
       "font-family: var(--jp-code-font-family);\n",
       "font-size: var(--jp-code-font-size);\n",
       "line-height: var(--jp-code-line-height);\n",
       "\"><span style=\"color: var(--jp-warn-color2)\">Sky Flats 2023-05-05 17:01:28.729000 UT</span> <span style=\"color: var(--jp-info-color0)\">INFO</span>: Exposure ID: 2023050500115</pre>"
      ],
      "text/plain": [
       "<IPython.core.display.HTML object>"
      ]
     },
     "metadata": {},
     "output_type": "display_data"
    },
    {
     "data": {
      "text/html": [
       "<pre style=\"margin: 0.1em;\n",
       "padding-left: 0.25em;\n",
       "border-left-style: solid;\n",
       "font-family: var(--jp-code-font-family);\n",
       "font-size: var(--jp-code-font-size);\n",
       "line-height: var(--jp-code-line-height);\n",
       "\"><span style=\"color: var(--jp-warn-color2)\">Sky Flats 2023-05-05 17:01:28.729000 UT</span> <span style=\"color: var(--jp-info-color0)\">INFO</span>:     Median: 13990.0</pre>"
      ],
      "text/plain": [
       "<IPython.core.display.HTML object>"
      ]
     },
     "metadata": {},
     "output_type": "display_data"
    },
    {
     "data": {
      "text/html": [
       "<pre style=\"margin: 0.1em;\n",
       "padding-left: 0.25em;\n",
       "border-left-style: solid;\n",
       "font-family: var(--jp-code-font-family);\n",
       "font-size: var(--jp-code-font-size);\n",
       "line-height: var(--jp-code-line-height);\n",
       "\"><span style=\"color: var(--jp-warn-color2)\">Sky Flats 2023-05-05 17:01:28.729000 UT</span> <span style=\"color: var(--jp-info-color0)\">INFO</span>:     Mean: 14406.910590277777</pre>"
      ],
      "text/plain": [
       "<IPython.core.display.HTML object>"
      ]
     },
     "metadata": {},
     "output_type": "display_data"
    },
    {
     "data": {
      "text/html": [
       "<pre style=\"margin: 0.1em;\n",
       "padding-left: 0.25em;\n",
       "border-left-style: solid;\n",
       "font-family: var(--jp-code-font-family);\n",
       "font-size: var(--jp-code-font-size);\n",
       "line-height: var(--jp-code-line-height);\n",
       "\"><span style=\"color: var(--jp-warn-color2)\">Sky Flats 2023-05-05 17:01:28.729000 UT</span> <span style=\"color: var(--jp-info-color0)\">INFO</span>:     Std: 1800.424088500098</pre>"
      ],
      "text/plain": [
       "<IPython.core.display.HTML object>"
      ]
     },
     "metadata": {},
     "output_type": "display_data"
    },
    {
     "name": "stdout",
     "output_type": "stream",
     "text": [
      " 2 times below target counts\n",
      "The exposure time will be increased to 4\n"
     ]
    },
    {
     "data": {
      "text/html": [
       "<pre style=\"margin: 0.1em;\n",
       "padding-left: 0.25em;\n",
       "border-left-style: solid;\n",
       "font-family: var(--jp-code-font-family);\n",
       "font-size: var(--jp-code-font-size);\n",
       "line-height: var(--jp-code-line-height);\n",
       "\"><span style=\"color: var(--jp-warn-color2)\">ATPtg.timeAndDate</span> <span style=\"color: var(--jp-warn-color0)\">WARNING</span>: tel_timeAndDate DDS read queue is filling: 17 of 100 elements</pre>"
      ],
      "text/plain": [
       "<IPython.core.display.HTML object>"
      ]
     },
     "metadata": {},
     "output_type": "display_data"
    },
    {
     "data": {
      "text/html": [
       "<pre style=\"margin: 0.1em;\n",
       "padding-left: 0.25em;\n",
       "border-left-style: solid;\n",
       "font-family: var(--jp-code-font-family);\n",
       "font-size: var(--jp-code-font-size);\n",
       "line-height: var(--jp-code-line-height);\n",
       "\"><span style=\"color: var(--jp-warn-color2)\">Sky Flats 2023-05-05 17:01:28.729000 UT</span> <span style=\"color: var(--jp-info-color0)\">INFO</span>: Sky flats triplets with 4 seconds exposure time and filter SDSSr_65mm are [2023050500116], [2023050500117] and [2023050500118]</pre>"
      ],
      "text/plain": [
       "<IPython.core.display.HTML object>"
      ]
     },
     "metadata": {},
     "output_type": "display_data"
    },
    {
     "data": {
      "text/html": [
       "<pre style=\"margin: 0.1em;\n",
       "padding-left: 0.25em;\n",
       "border-left-style: solid;\n",
       "font-family: var(--jp-code-font-family);\n",
       "font-size: var(--jp-code-font-size);\n",
       "line-height: var(--jp-code-line-height);\n",
       "\"><span style=\"color: var(--jp-warn-color2)\">Sky Flats 2023-05-05 17:01:28.729000 UT</span> <span style=\"color: var(--jp-error-color2)\">ERROR</span>: Could not get new image from butler. Waiting 1 seconds and trying again.</pre><pre style=\"margin: 0.1em;\n",
       "padding-left: 0.25em;\n",
       "border-left-style: solid;\n",
       "font-family: var(--jp-code-font-family);\n",
       "font-size: var(--jp-code-font-size);\n",
       "line-height: var(--jp-code-line-height);\n",
       "\">Traceback (most recent call last):\n",
       "  File \"/tmp/ipykernel_8060/3420654075.py\", line 35, in verify_counts\n",
       "    exp = butler.get('raw', dataId=dataId)\n",
       "  File \"/opt/lsst/software/stack/stack/miniconda3-py38_4.9.2-6.0.0/Linux64/daf_butler/g4ebb90a088+3070c2f738/python/lsst/daf/butler/_butler.py\", line 1446, in get\n",
       "    ref = self._findDatasetRef(datasetRefOrType, dataId, collections=collections, **kwargs)\n",
       "  File \"/opt/lsst/software/stack/stack/miniconda3-py38_4.9.2-6.0.0/Linux64/daf_butler/g4ebb90a088+3070c2f738/python/lsst/daf/butler/_butler.py\", line 1102, in _findDatasetRef\n",
       "    raise LookupError(\n",
       "LookupError: Dataset raw with data ID {instrument: 'LATISS', detector: 0, exposure: 2023050500118} could not be found in collections ('LATISS/raw/all',).\n",
       "</pre>"
      ],
      "text/plain": [
       "<IPython.core.display.HTML object>"
      ]
     },
     "metadata": {},
     "output_type": "display_data"
    },
    {
     "data": {
      "text/html": [
       "<pre style=\"margin: 0.1em;\n",
       "padding-left: 0.25em;\n",
       "border-left-style: solid;\n",
       "font-family: var(--jp-code-font-family);\n",
       "font-size: var(--jp-code-font-size);\n",
       "line-height: var(--jp-code-line-height);\n",
       "\"><span style=\"color: var(--jp-warn-color2)\">Sky Flats 2023-05-05 17:01:28.729000 UT</span> <span style=\"color: var(--jp-error-color2)\">ERROR</span>: Could not get new image from butler. Waiting 1 seconds and trying again.</pre><pre style=\"margin: 0.1em;\n",
       "padding-left: 0.25em;\n",
       "border-left-style: solid;\n",
       "font-family: var(--jp-code-font-family);\n",
       "font-size: var(--jp-code-font-size);\n",
       "line-height: var(--jp-code-line-height);\n",
       "\">Traceback (most recent call last):\n",
       "  File \"/tmp/ipykernel_8060/3420654075.py\", line 35, in verify_counts\n",
       "    exp = butler.get('raw', dataId=dataId)\n",
       "  File \"/opt/lsst/software/stack/stack/miniconda3-py38_4.9.2-6.0.0/Linux64/daf_butler/g4ebb90a088+3070c2f738/python/lsst/daf/butler/_butler.py\", line 1446, in get\n",
       "    ref = self._findDatasetRef(datasetRefOrType, dataId, collections=collections, **kwargs)\n",
       "  File \"/opt/lsst/software/stack/stack/miniconda3-py38_4.9.2-6.0.0/Linux64/daf_butler/g4ebb90a088+3070c2f738/python/lsst/daf/butler/_butler.py\", line 1102, in _findDatasetRef\n",
       "    raise LookupError(\n",
       "LookupError: Dataset raw with data ID {instrument: 'LATISS', detector: 0, exposure: 2023050500118} could not be found in collections ('LATISS/raw/all',).\n",
       "</pre>"
      ],
      "text/plain": [
       "<IPython.core.display.HTML object>"
      ]
     },
     "metadata": {},
     "output_type": "display_data"
    },
    {
     "data": {
      "text/html": [
       "<pre style=\"margin: 0.1em;\n",
       "padding-left: 0.25em;\n",
       "border-left-style: solid;\n",
       "font-family: var(--jp-code-font-family);\n",
       "font-size: var(--jp-code-font-size);\n",
       "line-height: var(--jp-code-line-height);\n",
       "\"><span style=\"color: var(--jp-warn-color2)\">Sky Flats 2023-05-05 17:01:28.729000 UT</span> <span style=\"color: var(--jp-error-color2)\">ERROR</span>: Could not get new image from butler. Waiting 1 seconds and trying again.</pre><pre style=\"margin: 0.1em;\n",
       "padding-left: 0.25em;\n",
       "border-left-style: solid;\n",
       "font-family: var(--jp-code-font-family);\n",
       "font-size: var(--jp-code-font-size);\n",
       "line-height: var(--jp-code-line-height);\n",
       "\">Traceback (most recent call last):\n",
       "  File \"/tmp/ipykernel_8060/3420654075.py\", line 35, in verify_counts\n",
       "    exp = butler.get('raw', dataId=dataId)\n",
       "  File \"/opt/lsst/software/stack/stack/miniconda3-py38_4.9.2-6.0.0/Linux64/daf_butler/g4ebb90a088+3070c2f738/python/lsst/daf/butler/_butler.py\", line 1446, in get\n",
       "    ref = self._findDatasetRef(datasetRefOrType, dataId, collections=collections, **kwargs)\n",
       "  File \"/opt/lsst/software/stack/stack/miniconda3-py38_4.9.2-6.0.0/Linux64/daf_butler/g4ebb90a088+3070c2f738/python/lsst/daf/butler/_butler.py\", line 1102, in _findDatasetRef\n",
       "    raise LookupError(\n",
       "LookupError: Dataset raw with data ID {instrument: 'LATISS', detector: 0, exposure: 2023050500118} could not be found in collections ('LATISS/raw/all',).\n",
       "</pre>"
      ],
      "text/plain": [
       "<IPython.core.display.HTML object>"
      ]
     },
     "metadata": {},
     "output_type": "display_data"
    },
    {
     "data": {
      "text/html": [
       "<pre style=\"margin: 0.1em;\n",
       "padding-left: 0.25em;\n",
       "border-left-style: solid;\n",
       "font-family: var(--jp-code-font-family);\n",
       "font-size: var(--jp-code-font-size);\n",
       "line-height: var(--jp-code-line-height);\n",
       "\"><span style=\"color: var(--jp-warn-color2)\">Sky Flats 2023-05-05 17:01:28.729000 UT</span> <span style=\"color: var(--jp-error-color2)\">ERROR</span>: Could not get new image from butler. Waiting 1 seconds and trying again.</pre><pre style=\"margin: 0.1em;\n",
       "padding-left: 0.25em;\n",
       "border-left-style: solid;\n",
       "font-family: var(--jp-code-font-family);\n",
       "font-size: var(--jp-code-font-size);\n",
       "line-height: var(--jp-code-line-height);\n",
       "\">Traceback (most recent call last):\n",
       "  File \"/tmp/ipykernel_8060/3420654075.py\", line 35, in verify_counts\n",
       "    exp = butler.get('raw', dataId=dataId)\n",
       "  File \"/opt/lsst/software/stack/stack/miniconda3-py38_4.9.2-6.0.0/Linux64/daf_butler/g4ebb90a088+3070c2f738/python/lsst/daf/butler/_butler.py\", line 1446, in get\n",
       "    ref = self._findDatasetRef(datasetRefOrType, dataId, collections=collections, **kwargs)\n",
       "  File \"/opt/lsst/software/stack/stack/miniconda3-py38_4.9.2-6.0.0/Linux64/daf_butler/g4ebb90a088+3070c2f738/python/lsst/daf/butler/_butler.py\", line 1102, in _findDatasetRef\n",
       "    raise LookupError(\n",
       "LookupError: Dataset raw with data ID {instrument: 'LATISS', detector: 0, exposure: 2023050500118} could not be found in collections ('LATISS/raw/all',).\n",
       "</pre>"
      ],
      "text/plain": [
       "<IPython.core.display.HTML object>"
      ]
     },
     "metadata": {},
     "output_type": "display_data"
    },
    {
     "data": {
      "text/html": [
       "<pre style=\"margin: 0.1em;\n",
       "padding-left: 0.25em;\n",
       "border-left-style: solid;\n",
       "font-family: var(--jp-code-font-family);\n",
       "font-size: var(--jp-code-font-size);\n",
       "line-height: var(--jp-code-line-height);\n",
       "\"><span style=\"color: var(--jp-warn-color2)\">lsst.obs.base._fitsRawFormatterBase</span> <span style=\"color: var(--jp-warn-color0)\">WARNING</span>: Cannot create a valid WCS from metadata: CRPIX1</pre>"
      ],
      "text/plain": [
       "<IPython.core.display.HTML object>"
      ]
     },
     "metadata": {},
     "output_type": "display_data"
    },
    {
     "data": {
      "text/html": [
       "<pre style=\"margin: 0.1em;\n",
       "padding-left: 0.25em;\n",
       "border-left-style: solid;\n",
       "font-family: var(--jp-code-font-family);\n",
       "font-size: var(--jp-code-font-size);\n",
       "line-height: var(--jp-code-line-height);\n",
       "\"><span style=\"color: var(--jp-warn-color2)\">Sky Flats 2023-05-05 17:01:28.729000 UT</span> <span style=\"color: var(--jp-info-color0)\">INFO</span>: Exposure ID: 2023050500118</pre>"
      ],
      "text/plain": [
       "<IPython.core.display.HTML object>"
      ]
     },
     "metadata": {},
     "output_type": "display_data"
    },
    {
     "data": {
      "text/html": [
       "<pre style=\"margin: 0.1em;\n",
       "padding-left: 0.25em;\n",
       "border-left-style: solid;\n",
       "font-family: var(--jp-code-font-family);\n",
       "font-size: var(--jp-code-font-size);\n",
       "line-height: var(--jp-code-line-height);\n",
       "\"><span style=\"color: var(--jp-warn-color2)\">Sky Flats 2023-05-05 17:01:28.729000 UT</span> <span style=\"color: var(--jp-info-color0)\">INFO</span>:     Median: 13990.0</pre>"
      ],
      "text/plain": [
       "<IPython.core.display.HTML object>"
      ]
     },
     "metadata": {},
     "output_type": "display_data"
    },
    {
     "data": {
      "text/html": [
       "<pre style=\"margin: 0.1em;\n",
       "padding-left: 0.25em;\n",
       "border-left-style: solid;\n",
       "font-family: var(--jp-code-font-family);\n",
       "font-size: var(--jp-code-font-size);\n",
       "line-height: var(--jp-code-line-height);\n",
       "\"><span style=\"color: var(--jp-warn-color2)\">Sky Flats 2023-05-05 17:01:28.729000 UT</span> <span style=\"color: var(--jp-info-color0)\">INFO</span>:     Mean: 14408.716145833334</pre>"
      ],
      "text/plain": [
       "<IPython.core.display.HTML object>"
      ]
     },
     "metadata": {},
     "output_type": "display_data"
    },
    {
     "data": {
      "text/html": [
       "<pre style=\"margin: 0.1em;\n",
       "padding-left: 0.25em;\n",
       "border-left-style: solid;\n",
       "font-family: var(--jp-code-font-family);\n",
       "font-size: var(--jp-code-font-size);\n",
       "line-height: var(--jp-code-line-height);\n",
       "\"><span style=\"color: var(--jp-warn-color2)\">Sky Flats 2023-05-05 17:01:28.729000 UT</span> <span style=\"color: var(--jp-info-color0)\">INFO</span>:     Std: 1871.5641648828837</pre>"
      ],
      "text/plain": [
       "<IPython.core.display.HTML object>"
      ]
     },
     "metadata": {},
     "output_type": "display_data"
    },
    {
     "name": "stdout",
     "output_type": "stream",
     "text": [
      " 3 times below target counts\n",
      "Changing filters\n"
     ]
    },
    {
     "data": {
      "text/html": [
       "<pre style=\"margin: 0.1em;\n",
       "padding-left: 0.25em;\n",
       "border-left-style: solid;\n",
       "font-family: var(--jp-code-font-family);\n",
       "font-size: var(--jp-code-font-size);\n",
       "line-height: var(--jp-code-line-height);\n",
       "\"><span style=\"color: var(--jp-warn-color2)\">Sky Flats 2023-05-05 17:01:28.729000 UT</span> <span style=\"color: var(--jp-info-color0)\">INFO</span>: Filter is SDSSi_65mm</pre>"
      ],
      "text/plain": [
       "<IPython.core.display.HTML object>"
      ]
     },
     "metadata": {},
     "output_type": "display_data"
    },
    {
     "data": {
      "text/html": [
       "<pre style=\"margin: 0.1em;\n",
       "padding-left: 0.25em;\n",
       "border-left-style: solid;\n",
       "font-family: var(--jp-code-font-family);\n",
       "font-size: var(--jp-code-font-size);\n",
       "line-height: var(--jp-code-line-height);\n",
       "\"><span style=\"color: var(--jp-warn-color2)\">ATPtg.timeAndDate</span> <span style=\"color: var(--jp-warn-color0)\">WARNING</span>: tel_timeAndDate DDS read queue is filling: 17 of 100 elements</pre>"
      ],
      "text/plain": [
       "<IPython.core.display.HTML object>"
      ]
     },
     "metadata": {},
     "output_type": "display_data"
    },
    {
     "data": {
      "text/html": [
       "<pre style=\"margin: 0.1em;\n",
       "padding-left: 0.25em;\n",
       "border-left-style: solid;\n",
       "font-family: var(--jp-code-font-family);\n",
       "font-size: var(--jp-code-font-size);\n",
       "line-height: var(--jp-code-line-height);\n",
       "\"><span style=\"color: var(--jp-warn-color2)\">ATHeaderService.logevent_logMessage</span> <span style=\"color: var(--jp-warn-color0)\">WARNING</span>: evt_logMessage DDS read queue is filling: 23 of 100 elements</pre>"
      ],
      "text/plain": [
       "<IPython.core.display.HTML object>"
      ]
     },
     "metadata": {},
     "output_type": "display_data"
    },
    {
     "data": {
      "text/html": [
       "<pre style=\"margin: 0.1em;\n",
       "padding-left: 0.25em;\n",
       "border-left-style: solid;\n",
       "font-family: var(--jp-code-font-family);\n",
       "font-size: var(--jp-code-font-size);\n",
       "line-height: var(--jp-code-line-height);\n",
       "\"><span style=\"color: var(--jp-warn-color2)\">Sky Flats 2023-05-05 17:01:28.729000 UT</span> <span style=\"color: var(--jp-info-color0)\">INFO</span>: Sky flats triplets with 1 seconds exposure time and filter SDSSi_65mm are [2023050500119], [2023050500120] and [2023050500121]</pre>"
      ],
      "text/plain": [
       "<IPython.core.display.HTML object>"
      ]
     },
     "metadata": {},
     "output_type": "display_data"
    },
    {
     "data": {
      "text/html": [
       "<pre style=\"margin: 0.1em;\n",
       "padding-left: 0.25em;\n",
       "border-left-style: solid;\n",
       "font-family: var(--jp-code-font-family);\n",
       "font-size: var(--jp-code-font-size);\n",
       "line-height: var(--jp-code-line-height);\n",
       "\"><span style=\"color: var(--jp-warn-color2)\">Sky Flats 2023-05-05 17:01:28.729000 UT</span> <span style=\"color: var(--jp-error-color2)\">ERROR</span>: Could not get new image from butler. Waiting 1 seconds and trying again.</pre><pre style=\"margin: 0.1em;\n",
       "padding-left: 0.25em;\n",
       "border-left-style: solid;\n",
       "font-family: var(--jp-code-font-family);\n",
       "font-size: var(--jp-code-font-size);\n",
       "line-height: var(--jp-code-line-height);\n",
       "\">Traceback (most recent call last):\n",
       "  File \"/tmp/ipykernel_8060/3420654075.py\", line 35, in verify_counts\n",
       "    exp = butler.get('raw', dataId=dataId)\n",
       "  File \"/opt/lsst/software/stack/stack/miniconda3-py38_4.9.2-6.0.0/Linux64/daf_butler/g4ebb90a088+3070c2f738/python/lsst/daf/butler/_butler.py\", line 1446, in get\n",
       "    ref = self._findDatasetRef(datasetRefOrType, dataId, collections=collections, **kwargs)\n",
       "  File \"/opt/lsst/software/stack/stack/miniconda3-py38_4.9.2-6.0.0/Linux64/daf_butler/g4ebb90a088+3070c2f738/python/lsst/daf/butler/_butler.py\", line 1102, in _findDatasetRef\n",
       "    raise LookupError(\n",
       "LookupError: Dataset raw with data ID {instrument: 'LATISS', detector: 0, exposure: 2023050500121} could not be found in collections ('LATISS/raw/all',).\n",
       "</pre>"
      ],
      "text/plain": [
       "<IPython.core.display.HTML object>"
      ]
     },
     "metadata": {},
     "output_type": "display_data"
    },
    {
     "data": {
      "text/html": [
       "<pre style=\"margin: 0.1em;\n",
       "padding-left: 0.25em;\n",
       "border-left-style: solid;\n",
       "font-family: var(--jp-code-font-family);\n",
       "font-size: var(--jp-code-font-size);\n",
       "line-height: var(--jp-code-line-height);\n",
       "\"><span style=\"color: var(--jp-warn-color2)\">Sky Flats 2023-05-05 17:01:28.729000 UT</span> <span style=\"color: var(--jp-error-color2)\">ERROR</span>: Could not get new image from butler. Waiting 1 seconds and trying again.</pre><pre style=\"margin: 0.1em;\n",
       "padding-left: 0.25em;\n",
       "border-left-style: solid;\n",
       "font-family: var(--jp-code-font-family);\n",
       "font-size: var(--jp-code-font-size);\n",
       "line-height: var(--jp-code-line-height);\n",
       "\">Traceback (most recent call last):\n",
       "  File \"/tmp/ipykernel_8060/3420654075.py\", line 35, in verify_counts\n",
       "    exp = butler.get('raw', dataId=dataId)\n",
       "  File \"/opt/lsst/software/stack/stack/miniconda3-py38_4.9.2-6.0.0/Linux64/daf_butler/g4ebb90a088+3070c2f738/python/lsst/daf/butler/_butler.py\", line 1446, in get\n",
       "    ref = self._findDatasetRef(datasetRefOrType, dataId, collections=collections, **kwargs)\n",
       "  File \"/opt/lsst/software/stack/stack/miniconda3-py38_4.9.2-6.0.0/Linux64/daf_butler/g4ebb90a088+3070c2f738/python/lsst/daf/butler/_butler.py\", line 1102, in _findDatasetRef\n",
       "    raise LookupError(\n",
       "LookupError: Dataset raw with data ID {instrument: 'LATISS', detector: 0, exposure: 2023050500121} could not be found in collections ('LATISS/raw/all',).\n",
       "</pre>"
      ],
      "text/plain": [
       "<IPython.core.display.HTML object>"
      ]
     },
     "metadata": {},
     "output_type": "display_data"
    },
    {
     "data": {
      "text/html": [
       "<pre style=\"margin: 0.1em;\n",
       "padding-left: 0.25em;\n",
       "border-left-style: solid;\n",
       "font-family: var(--jp-code-font-family);\n",
       "font-size: var(--jp-code-font-size);\n",
       "line-height: var(--jp-code-line-height);\n",
       "\"><span style=\"color: var(--jp-warn-color2)\">Sky Flats 2023-05-05 17:01:28.729000 UT</span> <span style=\"color: var(--jp-error-color2)\">ERROR</span>: Could not get new image from butler. Waiting 1 seconds and trying again.</pre><pre style=\"margin: 0.1em;\n",
       "padding-left: 0.25em;\n",
       "border-left-style: solid;\n",
       "font-family: var(--jp-code-font-family);\n",
       "font-size: var(--jp-code-font-size);\n",
       "line-height: var(--jp-code-line-height);\n",
       "\">Traceback (most recent call last):\n",
       "  File \"/tmp/ipykernel_8060/3420654075.py\", line 35, in verify_counts\n",
       "    exp = butler.get('raw', dataId=dataId)\n",
       "  File \"/opt/lsst/software/stack/stack/miniconda3-py38_4.9.2-6.0.0/Linux64/daf_butler/g4ebb90a088+3070c2f738/python/lsst/daf/butler/_butler.py\", line 1446, in get\n",
       "    ref = self._findDatasetRef(datasetRefOrType, dataId, collections=collections, **kwargs)\n",
       "  File \"/opt/lsst/software/stack/stack/miniconda3-py38_4.9.2-6.0.0/Linux64/daf_butler/g4ebb90a088+3070c2f738/python/lsst/daf/butler/_butler.py\", line 1102, in _findDatasetRef\n",
       "    raise LookupError(\n",
       "LookupError: Dataset raw with data ID {instrument: 'LATISS', detector: 0, exposure: 2023050500121} could not be found in collections ('LATISS/raw/all',).\n",
       "</pre>"
      ],
      "text/plain": [
       "<IPython.core.display.HTML object>"
      ]
     },
     "metadata": {},
     "output_type": "display_data"
    },
    {
     "data": {
      "text/html": [
       "<pre style=\"margin: 0.1em;\n",
       "padding-left: 0.25em;\n",
       "border-left-style: solid;\n",
       "font-family: var(--jp-code-font-family);\n",
       "font-size: var(--jp-code-font-size);\n",
       "line-height: var(--jp-code-line-height);\n",
       "\"><span style=\"color: var(--jp-warn-color2)\">lsst.obs.base._fitsRawFormatterBase</span> <span style=\"color: var(--jp-warn-color0)\">WARNING</span>: Cannot create a valid WCS from metadata: CRPIX1</pre>"
      ],
      "text/plain": [
       "<IPython.core.display.HTML object>"
      ]
     },
     "metadata": {},
     "output_type": "display_data"
    },
    {
     "data": {
      "text/html": [
       "<pre style=\"margin: 0.1em;\n",
       "padding-left: 0.25em;\n",
       "border-left-style: solid;\n",
       "font-family: var(--jp-code-font-family);\n",
       "font-size: var(--jp-code-font-size);\n",
       "line-height: var(--jp-code-line-height);\n",
       "\"><span style=\"color: var(--jp-warn-color2)\">Sky Flats 2023-05-05 17:01:28.729000 UT</span> <span style=\"color: var(--jp-info-color0)\">INFO</span>: Exposure ID: 2023050500121</pre>"
      ],
      "text/plain": [
       "<IPython.core.display.HTML object>"
      ]
     },
     "metadata": {},
     "output_type": "display_data"
    },
    {
     "data": {
      "text/html": [
       "<pre style=\"margin: 0.1em;\n",
       "padding-left: 0.25em;\n",
       "border-left-style: solid;\n",
       "font-family: var(--jp-code-font-family);\n",
       "font-size: var(--jp-code-font-size);\n",
       "line-height: var(--jp-code-line-height);\n",
       "\"><span style=\"color: var(--jp-warn-color2)\">Sky Flats 2023-05-05 17:01:28.729000 UT</span> <span style=\"color: var(--jp-info-color0)\">INFO</span>:     Median: 13990.0</pre>"
      ],
      "text/plain": [
       "<IPython.core.display.HTML object>"
      ]
     },
     "metadata": {},
     "output_type": "display_data"
    },
    {
     "data": {
      "text/html": [
       "<pre style=\"margin: 0.1em;\n",
       "padding-left: 0.25em;\n",
       "border-left-style: solid;\n",
       "font-family: var(--jp-code-font-family);\n",
       "font-size: var(--jp-code-font-size);\n",
       "line-height: var(--jp-code-line-height);\n",
       "\"><span style=\"color: var(--jp-warn-color2)\">Sky Flats 2023-05-05 17:01:28.729000 UT</span> <span style=\"color: var(--jp-info-color0)\">INFO</span>:     Mean: 14405.873263888889</pre>"
      ],
      "text/plain": [
       "<IPython.core.display.HTML object>"
      ]
     },
     "metadata": {},
     "output_type": "display_data"
    },
    {
     "data": {
      "text/html": [
       "<pre style=\"margin: 0.1em;\n",
       "padding-left: 0.25em;\n",
       "border-left-style: solid;\n",
       "font-family: var(--jp-code-font-family);\n",
       "font-size: var(--jp-code-font-size);\n",
       "line-height: var(--jp-code-line-height);\n",
       "\"><span style=\"color: var(--jp-warn-color2)\">Sky Flats 2023-05-05 17:01:28.729000 UT</span> <span style=\"color: var(--jp-info-color0)\">INFO</span>:     Std: 1762.4202973503461</pre>"
      ],
      "text/plain": [
       "<IPython.core.display.HTML object>"
      ]
     },
     "metadata": {},
     "output_type": "display_data"
    },
    {
     "name": "stdout",
     "output_type": "stream",
     "text": [
      " 1 times below target counts\n",
      "The exposure time will be increased to 2\n"
     ]
    },
    {
     "data": {
      "text/html": [
       "<pre style=\"margin: 0.1em;\n",
       "padding-left: 0.25em;\n",
       "border-left-style: solid;\n",
       "font-family: var(--jp-code-font-family);\n",
       "font-size: var(--jp-code-font-size);\n",
       "line-height: var(--jp-code-line-height);\n",
       "\"><span style=\"color: var(--jp-warn-color2)\">ATPtg.timeAndDate</span> <span style=\"color: var(--jp-warn-color0)\">WARNING</span>: tel_timeAndDate DDS read queue is filling: 18 of 100 elements</pre>"
      ],
      "text/plain": [
       "<IPython.core.display.HTML object>"
      ]
     },
     "metadata": {},
     "output_type": "display_data"
    },
    {
     "data": {
      "text/html": [
       "<pre style=\"margin: 0.1em;\n",
       "padding-left: 0.25em;\n",
       "border-left-style: solid;\n",
       "font-family: var(--jp-code-font-family);\n",
       "font-size: var(--jp-code-font-size);\n",
       "line-height: var(--jp-code-line-height);\n",
       "\"><span style=\"color: var(--jp-warn-color2)\">Sky Flats 2023-05-05 17:01:28.729000 UT</span> <span style=\"color: var(--jp-info-color0)\">INFO</span>: Sky flats triplets with 2 seconds exposure time and filter SDSSi_65mm are [2023050500122], [2023050500123] and [2023050500124]</pre>"
      ],
      "text/plain": [
       "<IPython.core.display.HTML object>"
      ]
     },
     "metadata": {},
     "output_type": "display_data"
    },
    {
     "data": {
      "text/html": [
       "<pre style=\"margin: 0.1em;\n",
       "padding-left: 0.25em;\n",
       "border-left-style: solid;\n",
       "font-family: var(--jp-code-font-family);\n",
       "font-size: var(--jp-code-font-size);\n",
       "line-height: var(--jp-code-line-height);\n",
       "\"><span style=\"color: var(--jp-warn-color2)\">Sky Flats 2023-05-05 17:01:28.729000 UT</span> <span style=\"color: var(--jp-error-color2)\">ERROR</span>: Could not get new image from butler. Waiting 1 seconds and trying again.</pre><pre style=\"margin: 0.1em;\n",
       "padding-left: 0.25em;\n",
       "border-left-style: solid;\n",
       "font-family: var(--jp-code-font-family);\n",
       "font-size: var(--jp-code-font-size);\n",
       "line-height: var(--jp-code-line-height);\n",
       "\">Traceback (most recent call last):\n",
       "  File \"/tmp/ipykernel_8060/3420654075.py\", line 35, in verify_counts\n",
       "    exp = butler.get('raw', dataId=dataId)\n",
       "  File \"/opt/lsst/software/stack/stack/miniconda3-py38_4.9.2-6.0.0/Linux64/daf_butler/g4ebb90a088+3070c2f738/python/lsst/daf/butler/_butler.py\", line 1446, in get\n",
       "    ref = self._findDatasetRef(datasetRefOrType, dataId, collections=collections, **kwargs)\n",
       "  File \"/opt/lsst/software/stack/stack/miniconda3-py38_4.9.2-6.0.0/Linux64/daf_butler/g4ebb90a088+3070c2f738/python/lsst/daf/butler/_butler.py\", line 1102, in _findDatasetRef\n",
       "    raise LookupError(\n",
       "LookupError: Dataset raw with data ID {instrument: 'LATISS', detector: 0, exposure: 2023050500124} could not be found in collections ('LATISS/raw/all',).\n",
       "</pre>"
      ],
      "text/plain": [
       "<IPython.core.display.HTML object>"
      ]
     },
     "metadata": {},
     "output_type": "display_data"
    },
    {
     "data": {
      "text/html": [
       "<pre style=\"margin: 0.1em;\n",
       "padding-left: 0.25em;\n",
       "border-left-style: solid;\n",
       "font-family: var(--jp-code-font-family);\n",
       "font-size: var(--jp-code-font-size);\n",
       "line-height: var(--jp-code-line-height);\n",
       "\"><span style=\"color: var(--jp-warn-color2)\">Sky Flats 2023-05-05 17:01:28.729000 UT</span> <span style=\"color: var(--jp-error-color2)\">ERROR</span>: Could not get new image from butler. Waiting 1 seconds and trying again.</pre><pre style=\"margin: 0.1em;\n",
       "padding-left: 0.25em;\n",
       "border-left-style: solid;\n",
       "font-family: var(--jp-code-font-family);\n",
       "font-size: var(--jp-code-font-size);\n",
       "line-height: var(--jp-code-line-height);\n",
       "\">Traceback (most recent call last):\n",
       "  File \"/tmp/ipykernel_8060/3420654075.py\", line 35, in verify_counts\n",
       "    exp = butler.get('raw', dataId=dataId)\n",
       "  File \"/opt/lsst/software/stack/stack/miniconda3-py38_4.9.2-6.0.0/Linux64/daf_butler/g4ebb90a088+3070c2f738/python/lsst/daf/butler/_butler.py\", line 1446, in get\n",
       "    ref = self._findDatasetRef(datasetRefOrType, dataId, collections=collections, **kwargs)\n",
       "  File \"/opt/lsst/software/stack/stack/miniconda3-py38_4.9.2-6.0.0/Linux64/daf_butler/g4ebb90a088+3070c2f738/python/lsst/daf/butler/_butler.py\", line 1102, in _findDatasetRef\n",
       "    raise LookupError(\n",
       "LookupError: Dataset raw with data ID {instrument: 'LATISS', detector: 0, exposure: 2023050500124} could not be found in collections ('LATISS/raw/all',).\n",
       "</pre>"
      ],
      "text/plain": [
       "<IPython.core.display.HTML object>"
      ]
     },
     "metadata": {},
     "output_type": "display_data"
    },
    {
     "data": {
      "text/html": [
       "<pre style=\"margin: 0.1em;\n",
       "padding-left: 0.25em;\n",
       "border-left-style: solid;\n",
       "font-family: var(--jp-code-font-family);\n",
       "font-size: var(--jp-code-font-size);\n",
       "line-height: var(--jp-code-line-height);\n",
       "\"><span style=\"color: var(--jp-warn-color2)\">Sky Flats 2023-05-05 17:01:28.729000 UT</span> <span style=\"color: var(--jp-error-color2)\">ERROR</span>: Could not get new image from butler. Waiting 1 seconds and trying again.</pre><pre style=\"margin: 0.1em;\n",
       "padding-left: 0.25em;\n",
       "border-left-style: solid;\n",
       "font-family: var(--jp-code-font-family);\n",
       "font-size: var(--jp-code-font-size);\n",
       "line-height: var(--jp-code-line-height);\n",
       "\">Traceback (most recent call last):\n",
       "  File \"/tmp/ipykernel_8060/3420654075.py\", line 35, in verify_counts\n",
       "    exp = butler.get('raw', dataId=dataId)\n",
       "  File \"/opt/lsst/software/stack/stack/miniconda3-py38_4.9.2-6.0.0/Linux64/daf_butler/g4ebb90a088+3070c2f738/python/lsst/daf/butler/_butler.py\", line 1446, in get\n",
       "    ref = self._findDatasetRef(datasetRefOrType, dataId, collections=collections, **kwargs)\n",
       "  File \"/opt/lsst/software/stack/stack/miniconda3-py38_4.9.2-6.0.0/Linux64/daf_butler/g4ebb90a088+3070c2f738/python/lsst/daf/butler/_butler.py\", line 1102, in _findDatasetRef\n",
       "    raise LookupError(\n",
       "LookupError: Dataset raw with data ID {instrument: 'LATISS', detector: 0, exposure: 2023050500124} could not be found in collections ('LATISS/raw/all',).\n",
       "</pre>"
      ],
      "text/plain": [
       "<IPython.core.display.HTML object>"
      ]
     },
     "metadata": {},
     "output_type": "display_data"
    },
    {
     "data": {
      "text/html": [
       "<pre style=\"margin: 0.1em;\n",
       "padding-left: 0.25em;\n",
       "border-left-style: solid;\n",
       "font-family: var(--jp-code-font-family);\n",
       "font-size: var(--jp-code-font-size);\n",
       "line-height: var(--jp-code-line-height);\n",
       "\"><span style=\"color: var(--jp-warn-color2)\">lsst.obs.base._fitsRawFormatterBase</span> <span style=\"color: var(--jp-warn-color0)\">WARNING</span>: Cannot create a valid WCS from metadata: CRPIX1</pre>"
      ],
      "text/plain": [
       "<IPython.core.display.HTML object>"
      ]
     },
     "metadata": {},
     "output_type": "display_data"
    },
    {
     "data": {
      "text/html": [
       "<pre style=\"margin: 0.1em;\n",
       "padding-left: 0.25em;\n",
       "border-left-style: solid;\n",
       "font-family: var(--jp-code-font-family);\n",
       "font-size: var(--jp-code-font-size);\n",
       "line-height: var(--jp-code-line-height);\n",
       "\"><span style=\"color: var(--jp-warn-color2)\">Sky Flats 2023-05-05 17:01:28.729000 UT</span> <span style=\"color: var(--jp-info-color0)\">INFO</span>: Exposure ID: 2023050500124</pre>"
      ],
      "text/plain": [
       "<IPython.core.display.HTML object>"
      ]
     },
     "metadata": {},
     "output_type": "display_data"
    },
    {
     "data": {
      "text/html": [
       "<pre style=\"margin: 0.1em;\n",
       "padding-left: 0.25em;\n",
       "border-left-style: solid;\n",
       "font-family: var(--jp-code-font-family);\n",
       "font-size: var(--jp-code-font-size);\n",
       "line-height: var(--jp-code-line-height);\n",
       "\"><span style=\"color: var(--jp-warn-color2)\">Sky Flats 2023-05-05 17:01:28.729000 UT</span> <span style=\"color: var(--jp-info-color0)\">INFO</span>:     Median: 13989.0</pre>"
      ],
      "text/plain": [
       "<IPython.core.display.HTML object>"
      ]
     },
     "metadata": {},
     "output_type": "display_data"
    },
    {
     "data": {
      "text/html": [
       "<pre style=\"margin: 0.1em;\n",
       "padding-left: 0.25em;\n",
       "border-left-style: solid;\n",
       "font-family: var(--jp-code-font-family);\n",
       "font-size: var(--jp-code-font-size);\n",
       "line-height: var(--jp-code-line-height);\n",
       "\"><span style=\"color: var(--jp-warn-color2)\">Sky Flats 2023-05-05 17:01:28.729000 UT</span> <span style=\"color: var(--jp-info-color0)\">INFO</span>:     Mean: 14406.844618055555</pre>"
      ],
      "text/plain": [
       "<IPython.core.display.HTML object>"
      ]
     },
     "metadata": {},
     "output_type": "display_data"
    },
    {
     "data": {
      "text/html": [
       "<pre style=\"margin: 0.1em;\n",
       "padding-left: 0.25em;\n",
       "border-left-style: solid;\n",
       "font-family: var(--jp-code-font-family);\n",
       "font-size: var(--jp-code-font-size);\n",
       "line-height: var(--jp-code-line-height);\n",
       "\"><span style=\"color: var(--jp-warn-color2)\">Sky Flats 2023-05-05 17:01:28.729000 UT</span> <span style=\"color: var(--jp-info-color0)\">INFO</span>:     Std: 1799.1126508932916</pre>"
      ],
      "text/plain": [
       "<IPython.core.display.HTML object>"
      ]
     },
     "metadata": {},
     "output_type": "display_data"
    },
    {
     "name": "stdout",
     "output_type": "stream",
     "text": [
      " 2 times below target counts\n",
      "The exposure time will be increased to 4\n"
     ]
    },
    {
     "data": {
      "text/html": [
       "<pre style=\"margin: 0.1em;\n",
       "padding-left: 0.25em;\n",
       "border-left-style: solid;\n",
       "font-family: var(--jp-code-font-family);\n",
       "font-size: var(--jp-code-font-size);\n",
       "line-height: var(--jp-code-line-height);\n",
       "\"><span style=\"color: var(--jp-warn-color2)\">ATPtg.timeAndDate</span> <span style=\"color: var(--jp-warn-color0)\">WARNING</span>: tel_timeAndDate DDS read queue is filling: 17 of 100 elements</pre>"
      ],
      "text/plain": [
       "<IPython.core.display.HTML object>"
      ]
     },
     "metadata": {},
     "output_type": "display_data"
    },
    {
     "data": {
      "text/html": [
       "<pre style=\"margin: 0.1em;\n",
       "padding-left: 0.25em;\n",
       "border-left-style: solid;\n",
       "font-family: var(--jp-code-font-family);\n",
       "font-size: var(--jp-code-font-size);\n",
       "line-height: var(--jp-code-line-height);\n",
       "\"><span style=\"color: var(--jp-warn-color2)\">Sky Flats 2023-05-05 17:01:28.729000 UT</span> <span style=\"color: var(--jp-info-color0)\">INFO</span>: Sky flats triplets with 4 seconds exposure time and filter SDSSi_65mm are [2023050500125], [2023050500126] and [2023050500127]</pre>"
      ],
      "text/plain": [
       "<IPython.core.display.HTML object>"
      ]
     },
     "metadata": {},
     "output_type": "display_data"
    },
    {
     "data": {
      "text/html": [
       "<pre style=\"margin: 0.1em;\n",
       "padding-left: 0.25em;\n",
       "border-left-style: solid;\n",
       "font-family: var(--jp-code-font-family);\n",
       "font-size: var(--jp-code-font-size);\n",
       "line-height: var(--jp-code-line-height);\n",
       "\"><span style=\"color: var(--jp-warn-color2)\">Sky Flats 2023-05-05 17:01:28.729000 UT</span> <span style=\"color: var(--jp-error-color2)\">ERROR</span>: Could not get new image from butler. Waiting 1 seconds and trying again.</pre><pre style=\"margin: 0.1em;\n",
       "padding-left: 0.25em;\n",
       "border-left-style: solid;\n",
       "font-family: var(--jp-code-font-family);\n",
       "font-size: var(--jp-code-font-size);\n",
       "line-height: var(--jp-code-line-height);\n",
       "\">Traceback (most recent call last):\n",
       "  File \"/tmp/ipykernel_8060/3420654075.py\", line 35, in verify_counts\n",
       "    exp = butler.get('raw', dataId=dataId)\n",
       "  File \"/opt/lsst/software/stack/stack/miniconda3-py38_4.9.2-6.0.0/Linux64/daf_butler/g4ebb90a088+3070c2f738/python/lsst/daf/butler/_butler.py\", line 1446, in get\n",
       "    ref = self._findDatasetRef(datasetRefOrType, dataId, collections=collections, **kwargs)\n",
       "  File \"/opt/lsst/software/stack/stack/miniconda3-py38_4.9.2-6.0.0/Linux64/daf_butler/g4ebb90a088+3070c2f738/python/lsst/daf/butler/_butler.py\", line 1102, in _findDatasetRef\n",
       "    raise LookupError(\n",
       "LookupError: Dataset raw with data ID {instrument: 'LATISS', detector: 0, exposure: 2023050500127} could not be found in collections ('LATISS/raw/all',).\n",
       "</pre>"
      ],
      "text/plain": [
       "<IPython.core.display.HTML object>"
      ]
     },
     "metadata": {},
     "output_type": "display_data"
    },
    {
     "data": {
      "text/html": [
       "<pre style=\"margin: 0.1em;\n",
       "padding-left: 0.25em;\n",
       "border-left-style: solid;\n",
       "font-family: var(--jp-code-font-family);\n",
       "font-size: var(--jp-code-font-size);\n",
       "line-height: var(--jp-code-line-height);\n",
       "\"><span style=\"color: var(--jp-warn-color2)\">Sky Flats 2023-05-05 17:01:28.729000 UT</span> <span style=\"color: var(--jp-error-color2)\">ERROR</span>: Could not get new image from butler. Waiting 1 seconds and trying again.</pre><pre style=\"margin: 0.1em;\n",
       "padding-left: 0.25em;\n",
       "border-left-style: solid;\n",
       "font-family: var(--jp-code-font-family);\n",
       "font-size: var(--jp-code-font-size);\n",
       "line-height: var(--jp-code-line-height);\n",
       "\">Traceback (most recent call last):\n",
       "  File \"/tmp/ipykernel_8060/3420654075.py\", line 35, in verify_counts\n",
       "    exp = butler.get('raw', dataId=dataId)\n",
       "  File \"/opt/lsst/software/stack/stack/miniconda3-py38_4.9.2-6.0.0/Linux64/daf_butler/g4ebb90a088+3070c2f738/python/lsst/daf/butler/_butler.py\", line 1446, in get\n",
       "    ref = self._findDatasetRef(datasetRefOrType, dataId, collections=collections, **kwargs)\n",
       "  File \"/opt/lsst/software/stack/stack/miniconda3-py38_4.9.2-6.0.0/Linux64/daf_butler/g4ebb90a088+3070c2f738/python/lsst/daf/butler/_butler.py\", line 1102, in _findDatasetRef\n",
       "    raise LookupError(\n",
       "LookupError: Dataset raw with data ID {instrument: 'LATISS', detector: 0, exposure: 2023050500127} could not be found in collections ('LATISS/raw/all',).\n",
       "</pre>"
      ],
      "text/plain": [
       "<IPython.core.display.HTML object>"
      ]
     },
     "metadata": {},
     "output_type": "display_data"
    },
    {
     "data": {
      "text/html": [
       "<pre style=\"margin: 0.1em;\n",
       "padding-left: 0.25em;\n",
       "border-left-style: solid;\n",
       "font-family: var(--jp-code-font-family);\n",
       "font-size: var(--jp-code-font-size);\n",
       "line-height: var(--jp-code-line-height);\n",
       "\"><span style=\"color: var(--jp-warn-color2)\">Sky Flats 2023-05-05 17:01:28.729000 UT</span> <span style=\"color: var(--jp-error-color2)\">ERROR</span>: Could not get new image from butler. Waiting 1 seconds and trying again.</pre><pre style=\"margin: 0.1em;\n",
       "padding-left: 0.25em;\n",
       "border-left-style: solid;\n",
       "font-family: var(--jp-code-font-family);\n",
       "font-size: var(--jp-code-font-size);\n",
       "line-height: var(--jp-code-line-height);\n",
       "\">Traceback (most recent call last):\n",
       "  File \"/tmp/ipykernel_8060/3420654075.py\", line 35, in verify_counts\n",
       "    exp = butler.get('raw', dataId=dataId)\n",
       "  File \"/opt/lsst/software/stack/stack/miniconda3-py38_4.9.2-6.0.0/Linux64/daf_butler/g4ebb90a088+3070c2f738/python/lsst/daf/butler/_butler.py\", line 1446, in get\n",
       "    ref = self._findDatasetRef(datasetRefOrType, dataId, collections=collections, **kwargs)\n",
       "  File \"/opt/lsst/software/stack/stack/miniconda3-py38_4.9.2-6.0.0/Linux64/daf_butler/g4ebb90a088+3070c2f738/python/lsst/daf/butler/_butler.py\", line 1102, in _findDatasetRef\n",
       "    raise LookupError(\n",
       "LookupError: Dataset raw with data ID {instrument: 'LATISS', detector: 0, exposure: 2023050500127} could not be found in collections ('LATISS/raw/all',).\n",
       "</pre>"
      ],
      "text/plain": [
       "<IPython.core.display.HTML object>"
      ]
     },
     "metadata": {},
     "output_type": "display_data"
    },
    {
     "data": {
      "text/html": [
       "<pre style=\"margin: 0.1em;\n",
       "padding-left: 0.25em;\n",
       "border-left-style: solid;\n",
       "font-family: var(--jp-code-font-family);\n",
       "font-size: var(--jp-code-font-size);\n",
       "line-height: var(--jp-code-line-height);\n",
       "\"><span style=\"color: var(--jp-warn-color2)\">lsst.obs.base._fitsRawFormatterBase</span> <span style=\"color: var(--jp-warn-color0)\">WARNING</span>: Cannot create a valid WCS from metadata: CRPIX1</pre>"
      ],
      "text/plain": [
       "<IPython.core.display.HTML object>"
      ]
     },
     "metadata": {},
     "output_type": "display_data"
    },
    {
     "data": {
      "text/html": [
       "<pre style=\"margin: 0.1em;\n",
       "padding-left: 0.25em;\n",
       "border-left-style: solid;\n",
       "font-family: var(--jp-code-font-family);\n",
       "font-size: var(--jp-code-font-size);\n",
       "line-height: var(--jp-code-line-height);\n",
       "\"><span style=\"color: var(--jp-warn-color2)\">Sky Flats 2023-05-05 17:01:28.729000 UT</span> <span style=\"color: var(--jp-info-color0)\">INFO</span>: Exposure ID: 2023050500127</pre>"
      ],
      "text/plain": [
       "<IPython.core.display.HTML object>"
      ]
     },
     "metadata": {},
     "output_type": "display_data"
    },
    {
     "data": {
      "text/html": [
       "<pre style=\"margin: 0.1em;\n",
       "padding-left: 0.25em;\n",
       "border-left-style: solid;\n",
       "font-family: var(--jp-code-font-family);\n",
       "font-size: var(--jp-code-font-size);\n",
       "line-height: var(--jp-code-line-height);\n",
       "\"><span style=\"color: var(--jp-warn-color2)\">Sky Flats 2023-05-05 17:01:28.729000 UT</span> <span style=\"color: var(--jp-info-color0)\">INFO</span>:     Median: 13990.0</pre>"
      ],
      "text/plain": [
       "<IPython.core.display.HTML object>"
      ]
     },
     "metadata": {},
     "output_type": "display_data"
    },
    {
     "data": {
      "text/html": [
       "<pre style=\"margin: 0.1em;\n",
       "padding-left: 0.25em;\n",
       "border-left-style: solid;\n",
       "font-family: var(--jp-code-font-family);\n",
       "font-size: var(--jp-code-font-size);\n",
       "line-height: var(--jp-code-line-height);\n",
       "\"><span style=\"color: var(--jp-warn-color2)\">Sky Flats 2023-05-05 17:01:28.729000 UT</span> <span style=\"color: var(--jp-info-color0)\">INFO</span>:     Mean: 14409.112847222223</pre>"
      ],
      "text/plain": [
       "<IPython.core.display.HTML object>"
      ]
     },
     "metadata": {},
     "output_type": "display_data"
    },
    {
     "data": {
      "text/html": [
       "<pre style=\"margin: 0.1em;\n",
       "padding-left: 0.25em;\n",
       "border-left-style: solid;\n",
       "font-family: var(--jp-code-font-family);\n",
       "font-size: var(--jp-code-font-size);\n",
       "line-height: var(--jp-code-line-height);\n",
       "\"><span style=\"color: var(--jp-warn-color2)\">Sky Flats 2023-05-05 17:01:28.729000 UT</span> <span style=\"color: var(--jp-info-color0)\">INFO</span>:     Std: 1870.6471224705417</pre>"
      ],
      "text/plain": [
       "<IPython.core.display.HTML object>"
      ]
     },
     "metadata": {},
     "output_type": "display_data"
    },
    {
     "name": "stdout",
     "output_type": "stream",
     "text": [
      " 3 times below target counts\n",
      "Changing filters\n"
     ]
    },
    {
     "data": {
      "text/html": [
       "<pre style=\"margin: 0.1em;\n",
       "padding-left: 0.25em;\n",
       "border-left-style: solid;\n",
       "font-family: var(--jp-code-font-family);\n",
       "font-size: var(--jp-code-font-size);\n",
       "line-height: var(--jp-code-line-height);\n",
       "\"><span style=\"color: var(--jp-warn-color2)\">Sky Flats 2023-05-05 17:01:28.729000 UT</span> <span style=\"color: var(--jp-info-color0)\">INFO</span>: Filter is empty_1</pre>"
      ],
      "text/plain": [
       "<IPython.core.display.HTML object>"
      ]
     },
     "metadata": {},
     "output_type": "display_data"
    },
    {
     "data": {
      "text/html": [
       "<pre style=\"margin: 0.1em;\n",
       "padding-left: 0.25em;\n",
       "border-left-style: solid;\n",
       "font-family: var(--jp-code-font-family);\n",
       "font-size: var(--jp-code-font-size);\n",
       "line-height: var(--jp-code-line-height);\n",
       "\"><span style=\"color: var(--jp-warn-color2)\">ATPtg.timeAndDate</span> <span style=\"color: var(--jp-warn-color0)\">WARNING</span>: tel_timeAndDate DDS read queue is filling: 17 of 100 elements</pre>"
      ],
      "text/plain": [
       "<IPython.core.display.HTML object>"
      ]
     },
     "metadata": {},
     "output_type": "display_data"
    },
    {
     "data": {
      "text/html": [
       "<pre style=\"margin: 0.1em;\n",
       "padding-left: 0.25em;\n",
       "border-left-style: solid;\n",
       "font-family: var(--jp-code-font-family);\n",
       "font-size: var(--jp-code-font-size);\n",
       "line-height: var(--jp-code-line-height);\n",
       "\"><span style=\"color: var(--jp-warn-color2)\">Sky Flats 2023-05-05 17:01:28.729000 UT</span> <span style=\"color: var(--jp-info-color0)\">INFO</span>: Sky flats triplets with 1 seconds exposure time and filter empty_1 are [2023050500128], [2023050500129] and [2023050500130]</pre>"
      ],
      "text/plain": [
       "<IPython.core.display.HTML object>"
      ]
     },
     "metadata": {},
     "output_type": "display_data"
    },
    {
     "data": {
      "text/html": [
       "<pre style=\"margin: 0.1em;\n",
       "padding-left: 0.25em;\n",
       "border-left-style: solid;\n",
       "font-family: var(--jp-code-font-family);\n",
       "font-size: var(--jp-code-font-size);\n",
       "line-height: var(--jp-code-line-height);\n",
       "\"><span style=\"color: var(--jp-warn-color2)\">Sky Flats 2023-05-05 17:01:28.729000 UT</span> <span style=\"color: var(--jp-error-color2)\">ERROR</span>: Could not get new image from butler. Waiting 1 seconds and trying again.</pre><pre style=\"margin: 0.1em;\n",
       "padding-left: 0.25em;\n",
       "border-left-style: solid;\n",
       "font-family: var(--jp-code-font-family);\n",
       "font-size: var(--jp-code-font-size);\n",
       "line-height: var(--jp-code-line-height);\n",
       "\">Traceback (most recent call last):\n",
       "  File \"/tmp/ipykernel_8060/3420654075.py\", line 35, in verify_counts\n",
       "    exp = butler.get('raw', dataId=dataId)\n",
       "  File \"/opt/lsst/software/stack/stack/miniconda3-py38_4.9.2-6.0.0/Linux64/daf_butler/g4ebb90a088+3070c2f738/python/lsst/daf/butler/_butler.py\", line 1446, in get\n",
       "    ref = self._findDatasetRef(datasetRefOrType, dataId, collections=collections, **kwargs)\n",
       "  File \"/opt/lsst/software/stack/stack/miniconda3-py38_4.9.2-6.0.0/Linux64/daf_butler/g4ebb90a088+3070c2f738/python/lsst/daf/butler/_butler.py\", line 1102, in _findDatasetRef\n",
       "    raise LookupError(\n",
       "LookupError: Dataset raw with data ID {instrument: 'LATISS', detector: 0, exposure: 2023050500130} could not be found in collections ('LATISS/raw/all',).\n",
       "</pre>"
      ],
      "text/plain": [
       "<IPython.core.display.HTML object>"
      ]
     },
     "metadata": {},
     "output_type": "display_data"
    },
    {
     "data": {
      "text/html": [
       "<pre style=\"margin: 0.1em;\n",
       "padding-left: 0.25em;\n",
       "border-left-style: solid;\n",
       "font-family: var(--jp-code-font-family);\n",
       "font-size: var(--jp-code-font-size);\n",
       "line-height: var(--jp-code-line-height);\n",
       "\"><span style=\"color: var(--jp-warn-color2)\">Sky Flats 2023-05-05 17:01:28.729000 UT</span> <span style=\"color: var(--jp-error-color2)\">ERROR</span>: Could not get new image from butler. Waiting 1 seconds and trying again.</pre><pre style=\"margin: 0.1em;\n",
       "padding-left: 0.25em;\n",
       "border-left-style: solid;\n",
       "font-family: var(--jp-code-font-family);\n",
       "font-size: var(--jp-code-font-size);\n",
       "line-height: var(--jp-code-line-height);\n",
       "\">Traceback (most recent call last):\n",
       "  File \"/tmp/ipykernel_8060/3420654075.py\", line 35, in verify_counts\n",
       "    exp = butler.get('raw', dataId=dataId)\n",
       "  File \"/opt/lsst/software/stack/stack/miniconda3-py38_4.9.2-6.0.0/Linux64/daf_butler/g4ebb90a088+3070c2f738/python/lsst/daf/butler/_butler.py\", line 1446, in get\n",
       "    ref = self._findDatasetRef(datasetRefOrType, dataId, collections=collections, **kwargs)\n",
       "  File \"/opt/lsst/software/stack/stack/miniconda3-py38_4.9.2-6.0.0/Linux64/daf_butler/g4ebb90a088+3070c2f738/python/lsst/daf/butler/_butler.py\", line 1102, in _findDatasetRef\n",
       "    raise LookupError(\n",
       "LookupError: Dataset raw with data ID {instrument: 'LATISS', detector: 0, exposure: 2023050500130} could not be found in collections ('LATISS/raw/all',).\n",
       "</pre>"
      ],
      "text/plain": [
       "<IPython.core.display.HTML object>"
      ]
     },
     "metadata": {},
     "output_type": "display_data"
    },
    {
     "data": {
      "text/html": [
       "<pre style=\"margin: 0.1em;\n",
       "padding-left: 0.25em;\n",
       "border-left-style: solid;\n",
       "font-family: var(--jp-code-font-family);\n",
       "font-size: var(--jp-code-font-size);\n",
       "line-height: var(--jp-code-line-height);\n",
       "\"><span style=\"color: var(--jp-warn-color2)\">Sky Flats 2023-05-05 17:01:28.729000 UT</span> <span style=\"color: var(--jp-error-color2)\">ERROR</span>: Could not get new image from butler. Waiting 1 seconds and trying again.</pre><pre style=\"margin: 0.1em;\n",
       "padding-left: 0.25em;\n",
       "border-left-style: solid;\n",
       "font-family: var(--jp-code-font-family);\n",
       "font-size: var(--jp-code-font-size);\n",
       "line-height: var(--jp-code-line-height);\n",
       "\">Traceback (most recent call last):\n",
       "  File \"/tmp/ipykernel_8060/3420654075.py\", line 35, in verify_counts\n",
       "    exp = butler.get('raw', dataId=dataId)\n",
       "  File \"/opt/lsst/software/stack/stack/miniconda3-py38_4.9.2-6.0.0/Linux64/daf_butler/g4ebb90a088+3070c2f738/python/lsst/daf/butler/_butler.py\", line 1446, in get\n",
       "    ref = self._findDatasetRef(datasetRefOrType, dataId, collections=collections, **kwargs)\n",
       "  File \"/opt/lsst/software/stack/stack/miniconda3-py38_4.9.2-6.0.0/Linux64/daf_butler/g4ebb90a088+3070c2f738/python/lsst/daf/butler/_butler.py\", line 1102, in _findDatasetRef\n",
       "    raise LookupError(\n",
       "LookupError: Dataset raw with data ID {instrument: 'LATISS', detector: 0, exposure: 2023050500130} could not be found in collections ('LATISS/raw/all',).\n",
       "</pre>"
      ],
      "text/plain": [
       "<IPython.core.display.HTML object>"
      ]
     },
     "metadata": {},
     "output_type": "display_data"
    },
    {
     "data": {
      "text/html": [
       "<pre style=\"margin: 0.1em;\n",
       "padding-left: 0.25em;\n",
       "border-left-style: solid;\n",
       "font-family: var(--jp-code-font-family);\n",
       "font-size: var(--jp-code-font-size);\n",
       "line-height: var(--jp-code-line-height);\n",
       "\"><span style=\"color: var(--jp-warn-color2)\">Sky Flats 2023-05-05 17:01:28.729000 UT</span> <span style=\"color: var(--jp-error-color2)\">ERROR</span>: Could not get new image from butler. Waiting 1 seconds and trying again.</pre><pre style=\"margin: 0.1em;\n",
       "padding-left: 0.25em;\n",
       "border-left-style: solid;\n",
       "font-family: var(--jp-code-font-family);\n",
       "font-size: var(--jp-code-font-size);\n",
       "line-height: var(--jp-code-line-height);\n",
       "\">Traceback (most recent call last):\n",
       "  File \"/tmp/ipykernel_8060/3420654075.py\", line 35, in verify_counts\n",
       "    exp = butler.get('raw', dataId=dataId)\n",
       "  File \"/opt/lsst/software/stack/stack/miniconda3-py38_4.9.2-6.0.0/Linux64/daf_butler/g4ebb90a088+3070c2f738/python/lsst/daf/butler/_butler.py\", line 1446, in get\n",
       "    ref = self._findDatasetRef(datasetRefOrType, dataId, collections=collections, **kwargs)\n",
       "  File \"/opt/lsst/software/stack/stack/miniconda3-py38_4.9.2-6.0.0/Linux64/daf_butler/g4ebb90a088+3070c2f738/python/lsst/daf/butler/_butler.py\", line 1102, in _findDatasetRef\n",
       "    raise LookupError(\n",
       "LookupError: Dataset raw with data ID {instrument: 'LATISS', detector: 0, exposure: 2023050500130} could not be found in collections ('LATISS/raw/all',).\n",
       "</pre>"
      ],
      "text/plain": [
       "<IPython.core.display.HTML object>"
      ]
     },
     "metadata": {},
     "output_type": "display_data"
    },
    {
     "data": {
      "text/html": [
       "<pre style=\"margin: 0.1em;\n",
       "padding-left: 0.25em;\n",
       "border-left-style: solid;\n",
       "font-family: var(--jp-code-font-family);\n",
       "font-size: var(--jp-code-font-size);\n",
       "line-height: var(--jp-code-line-height);\n",
       "\"><span style=\"color: var(--jp-warn-color2)\">lsst.obs.base._fitsRawFormatterBase</span> <span style=\"color: var(--jp-warn-color0)\">WARNING</span>: Cannot create a valid WCS from metadata: CRPIX1</pre>"
      ],
      "text/plain": [
       "<IPython.core.display.HTML object>"
      ]
     },
     "metadata": {},
     "output_type": "display_data"
    },
    {
     "data": {
      "text/html": [
       "<pre style=\"margin: 0.1em;\n",
       "padding-left: 0.25em;\n",
       "border-left-style: solid;\n",
       "font-family: var(--jp-code-font-family);\n",
       "font-size: var(--jp-code-font-size);\n",
       "line-height: var(--jp-code-line-height);\n",
       "\"><span style=\"color: var(--jp-warn-color2)\">Sky Flats 2023-05-05 17:01:28.729000 UT</span> <span style=\"color: var(--jp-info-color0)\">INFO</span>: Exposure ID: 2023050500130</pre>"
      ],
      "text/plain": [
       "<IPython.core.display.HTML object>"
      ]
     },
     "metadata": {},
     "output_type": "display_data"
    },
    {
     "data": {
      "text/html": [
       "<pre style=\"margin: 0.1em;\n",
       "padding-left: 0.25em;\n",
       "border-left-style: solid;\n",
       "font-family: var(--jp-code-font-family);\n",
       "font-size: var(--jp-code-font-size);\n",
       "line-height: var(--jp-code-line-height);\n",
       "\"><span style=\"color: var(--jp-warn-color2)\">Sky Flats 2023-05-05 17:01:28.729000 UT</span> <span style=\"color: var(--jp-info-color0)\">INFO</span>:     Median: 13990.0</pre>"
      ],
      "text/plain": [
       "<IPython.core.display.HTML object>"
      ]
     },
     "metadata": {},
     "output_type": "display_data"
    },
    {
     "data": {
      "text/html": [
       "<pre style=\"margin: 0.1em;\n",
       "padding-left: 0.25em;\n",
       "border-left-style: solid;\n",
       "font-family: var(--jp-code-font-family);\n",
       "font-size: var(--jp-code-font-size);\n",
       "line-height: var(--jp-code-line-height);\n",
       "\"><span style=\"color: var(--jp-warn-color2)\">Sky Flats 2023-05-05 17:01:28.729000 UT</span> <span style=\"color: var(--jp-info-color0)\">INFO</span>:     Mean: 14406.142361111111</pre>"
      ],
      "text/plain": [
       "<IPython.core.display.HTML object>"
      ]
     },
     "metadata": {},
     "output_type": "display_data"
    },
    {
     "data": {
      "text/html": [
       "<pre style=\"margin: 0.1em;\n",
       "padding-left: 0.25em;\n",
       "border-left-style: solid;\n",
       "font-family: var(--jp-code-font-family);\n",
       "font-size: var(--jp-code-font-size);\n",
       "line-height: var(--jp-code-line-height);\n",
       "\"><span style=\"color: var(--jp-warn-color2)\">Sky Flats 2023-05-05 17:01:28.729000 UT</span> <span style=\"color: var(--jp-info-color0)\">INFO</span>:     Std: 1761.5690623147568</pre>"
      ],
      "text/plain": [
       "<IPython.core.display.HTML object>"
      ]
     },
     "metadata": {},
     "output_type": "display_data"
    },
    {
     "name": "stdout",
     "output_type": "stream",
     "text": [
      " 1 times below target counts\n",
      "The exposure time will be increased to 2\n"
     ]
    },
    {
     "data": {
      "text/html": [
       "<pre style=\"margin: 0.1em;\n",
       "padding-left: 0.25em;\n",
       "border-left-style: solid;\n",
       "font-family: var(--jp-code-font-family);\n",
       "font-size: var(--jp-code-font-size);\n",
       "line-height: var(--jp-code-line-height);\n",
       "\"><span style=\"color: var(--jp-warn-color2)\">ATPtg.timeAndDate</span> <span style=\"color: var(--jp-warn-color0)\">WARNING</span>: tel_timeAndDate DDS read queue is filling: 17 of 100 elements</pre>"
      ],
      "text/plain": [
       "<IPython.core.display.HTML object>"
      ]
     },
     "metadata": {},
     "output_type": "display_data"
    },
    {
     "data": {
      "text/html": [
       "<pre style=\"margin: 0.1em;\n",
       "padding-left: 0.25em;\n",
       "border-left-style: solid;\n",
       "font-family: var(--jp-code-font-family);\n",
       "font-size: var(--jp-code-font-size);\n",
       "line-height: var(--jp-code-line-height);\n",
       "\"><span style=\"color: var(--jp-warn-color2)\">Sky Flats 2023-05-05 17:01:28.729000 UT</span> <span style=\"color: var(--jp-info-color0)\">INFO</span>: Sky flats triplets with 2 seconds exposure time and filter empty_1 are [2023050500131], [2023050500132] and [2023050500133]</pre>"
      ],
      "text/plain": [
       "<IPython.core.display.HTML object>"
      ]
     },
     "metadata": {},
     "output_type": "display_data"
    },
    {
     "data": {
      "text/html": [
       "<pre style=\"margin: 0.1em;\n",
       "padding-left: 0.25em;\n",
       "border-left-style: solid;\n",
       "font-family: var(--jp-code-font-family);\n",
       "font-size: var(--jp-code-font-size);\n",
       "line-height: var(--jp-code-line-height);\n",
       "\"><span style=\"color: var(--jp-warn-color2)\">Sky Flats 2023-05-05 17:01:28.729000 UT</span> <span style=\"color: var(--jp-error-color2)\">ERROR</span>: Could not get new image from butler. Waiting 1 seconds and trying again.</pre><pre style=\"margin: 0.1em;\n",
       "padding-left: 0.25em;\n",
       "border-left-style: solid;\n",
       "font-family: var(--jp-code-font-family);\n",
       "font-size: var(--jp-code-font-size);\n",
       "line-height: var(--jp-code-line-height);\n",
       "\">Traceback (most recent call last):\n",
       "  File \"/tmp/ipykernel_8060/3420654075.py\", line 35, in verify_counts\n",
       "    exp = butler.get('raw', dataId=dataId)\n",
       "  File \"/opt/lsst/software/stack/stack/miniconda3-py38_4.9.2-6.0.0/Linux64/daf_butler/g4ebb90a088+3070c2f738/python/lsst/daf/butler/_butler.py\", line 1446, in get\n",
       "    ref = self._findDatasetRef(datasetRefOrType, dataId, collections=collections, **kwargs)\n",
       "  File \"/opt/lsst/software/stack/stack/miniconda3-py38_4.9.2-6.0.0/Linux64/daf_butler/g4ebb90a088+3070c2f738/python/lsst/daf/butler/_butler.py\", line 1102, in _findDatasetRef\n",
       "    raise LookupError(\n",
       "LookupError: Dataset raw with data ID {instrument: 'LATISS', detector: 0, exposure: 2023050500133} could not be found in collections ('LATISS/raw/all',).\n",
       "</pre>"
      ],
      "text/plain": [
       "<IPython.core.display.HTML object>"
      ]
     },
     "metadata": {},
     "output_type": "display_data"
    },
    {
     "data": {
      "text/html": [
       "<pre style=\"margin: 0.1em;\n",
       "padding-left: 0.25em;\n",
       "border-left-style: solid;\n",
       "font-family: var(--jp-code-font-family);\n",
       "font-size: var(--jp-code-font-size);\n",
       "line-height: var(--jp-code-line-height);\n",
       "\"><span style=\"color: var(--jp-warn-color2)\">Sky Flats 2023-05-05 17:01:28.729000 UT</span> <span style=\"color: var(--jp-error-color2)\">ERROR</span>: Could not get new image from butler. Waiting 1 seconds and trying again.</pre><pre style=\"margin: 0.1em;\n",
       "padding-left: 0.25em;\n",
       "border-left-style: solid;\n",
       "font-family: var(--jp-code-font-family);\n",
       "font-size: var(--jp-code-font-size);\n",
       "line-height: var(--jp-code-line-height);\n",
       "\">Traceback (most recent call last):\n",
       "  File \"/tmp/ipykernel_8060/3420654075.py\", line 35, in verify_counts\n",
       "    exp = butler.get('raw', dataId=dataId)\n",
       "  File \"/opt/lsst/software/stack/stack/miniconda3-py38_4.9.2-6.0.0/Linux64/daf_butler/g4ebb90a088+3070c2f738/python/lsst/daf/butler/_butler.py\", line 1446, in get\n",
       "    ref = self._findDatasetRef(datasetRefOrType, dataId, collections=collections, **kwargs)\n",
       "  File \"/opt/lsst/software/stack/stack/miniconda3-py38_4.9.2-6.0.0/Linux64/daf_butler/g4ebb90a088+3070c2f738/python/lsst/daf/butler/_butler.py\", line 1102, in _findDatasetRef\n",
       "    raise LookupError(\n",
       "LookupError: Dataset raw with data ID {instrument: 'LATISS', detector: 0, exposure: 2023050500133} could not be found in collections ('LATISS/raw/all',).\n",
       "</pre>"
      ],
      "text/plain": [
       "<IPython.core.display.HTML object>"
      ]
     },
     "metadata": {},
     "output_type": "display_data"
    },
    {
     "data": {
      "text/html": [
       "<pre style=\"margin: 0.1em;\n",
       "padding-left: 0.25em;\n",
       "border-left-style: solid;\n",
       "font-family: var(--jp-code-font-family);\n",
       "font-size: var(--jp-code-font-size);\n",
       "line-height: var(--jp-code-line-height);\n",
       "\"><span style=\"color: var(--jp-warn-color2)\">Sky Flats 2023-05-05 17:01:28.729000 UT</span> <span style=\"color: var(--jp-error-color2)\">ERROR</span>: Could not get new image from butler. Waiting 1 seconds and trying again.</pre><pre style=\"margin: 0.1em;\n",
       "padding-left: 0.25em;\n",
       "border-left-style: solid;\n",
       "font-family: var(--jp-code-font-family);\n",
       "font-size: var(--jp-code-font-size);\n",
       "line-height: var(--jp-code-line-height);\n",
       "\">Traceback (most recent call last):\n",
       "  File \"/tmp/ipykernel_8060/3420654075.py\", line 35, in verify_counts\n",
       "    exp = butler.get('raw', dataId=dataId)\n",
       "  File \"/opt/lsst/software/stack/stack/miniconda3-py38_4.9.2-6.0.0/Linux64/daf_butler/g4ebb90a088+3070c2f738/python/lsst/daf/butler/_butler.py\", line 1446, in get\n",
       "    ref = self._findDatasetRef(datasetRefOrType, dataId, collections=collections, **kwargs)\n",
       "  File \"/opt/lsst/software/stack/stack/miniconda3-py38_4.9.2-6.0.0/Linux64/daf_butler/g4ebb90a088+3070c2f738/python/lsst/daf/butler/_butler.py\", line 1102, in _findDatasetRef\n",
       "    raise LookupError(\n",
       "LookupError: Dataset raw with data ID {instrument: 'LATISS', detector: 0, exposure: 2023050500133} could not be found in collections ('LATISS/raw/all',).\n",
       "</pre>"
      ],
      "text/plain": [
       "<IPython.core.display.HTML object>"
      ]
     },
     "metadata": {},
     "output_type": "display_data"
    },
    {
     "data": {
      "text/html": [
       "<pre style=\"margin: 0.1em;\n",
       "padding-left: 0.25em;\n",
       "border-left-style: solid;\n",
       "font-family: var(--jp-code-font-family);\n",
       "font-size: var(--jp-code-font-size);\n",
       "line-height: var(--jp-code-line-height);\n",
       "\"><span style=\"color: var(--jp-warn-color2)\">lsst.obs.base._fitsRawFormatterBase</span> <span style=\"color: var(--jp-warn-color0)\">WARNING</span>: Cannot create a valid WCS from metadata: CRPIX1</pre>"
      ],
      "text/plain": [
       "<IPython.core.display.HTML object>"
      ]
     },
     "metadata": {},
     "output_type": "display_data"
    },
    {
     "data": {
      "text/html": [
       "<pre style=\"margin: 0.1em;\n",
       "padding-left: 0.25em;\n",
       "border-left-style: solid;\n",
       "font-family: var(--jp-code-font-family);\n",
       "font-size: var(--jp-code-font-size);\n",
       "line-height: var(--jp-code-line-height);\n",
       "\"><span style=\"color: var(--jp-warn-color2)\">Sky Flats 2023-05-05 17:01:28.729000 UT</span> <span style=\"color: var(--jp-info-color0)\">INFO</span>: Exposure ID: 2023050500133</pre>"
      ],
      "text/plain": [
       "<IPython.core.display.HTML object>"
      ]
     },
     "metadata": {},
     "output_type": "display_data"
    },
    {
     "data": {
      "text/html": [
       "<pre style=\"margin: 0.1em;\n",
       "padding-left: 0.25em;\n",
       "border-left-style: solid;\n",
       "font-family: var(--jp-code-font-family);\n",
       "font-size: var(--jp-code-font-size);\n",
       "line-height: var(--jp-code-line-height);\n",
       "\"><span style=\"color: var(--jp-warn-color2)\">Sky Flats 2023-05-05 17:01:28.729000 UT</span> <span style=\"color: var(--jp-info-color0)\">INFO</span>:     Median: 13991.0</pre>"
      ],
      "text/plain": [
       "<IPython.core.display.HTML object>"
      ]
     },
     "metadata": {},
     "output_type": "display_data"
    },
    {
     "data": {
      "text/html": [
       "<pre style=\"margin: 0.1em;\n",
       "padding-left: 0.25em;\n",
       "border-left-style: solid;\n",
       "font-family: var(--jp-code-font-family);\n",
       "font-size: var(--jp-code-font-size);\n",
       "line-height: var(--jp-code-line-height);\n",
       "\"><span style=\"color: var(--jp-warn-color2)\">Sky Flats 2023-05-05 17:01:28.729000 UT</span> <span style=\"color: var(--jp-info-color0)\">INFO</span>:     Mean: 14407.365451388889</pre>"
      ],
      "text/plain": [
       "<IPython.core.display.HTML object>"
      ]
     },
     "metadata": {},
     "output_type": "display_data"
    },
    {
     "data": {
      "text/html": [
       "<pre style=\"margin: 0.1em;\n",
       "padding-left: 0.25em;\n",
       "border-left-style: solid;\n",
       "font-family: var(--jp-code-font-family);\n",
       "font-size: var(--jp-code-font-size);\n",
       "line-height: var(--jp-code-line-height);\n",
       "\"><span style=\"color: var(--jp-warn-color2)\">Sky Flats 2023-05-05 17:01:28.729000 UT</span> <span style=\"color: var(--jp-info-color0)\">INFO</span>:     Std: 1800.1697802769258</pre>"
      ],
      "text/plain": [
       "<IPython.core.display.HTML object>"
      ]
     },
     "metadata": {},
     "output_type": "display_data"
    },
    {
     "name": "stdout",
     "output_type": "stream",
     "text": [
      " 2 times below target counts\n",
      "The exposure time will be increased to 4\n"
     ]
    },
    {
     "data": {
      "text/html": [
       "<pre style=\"margin: 0.1em;\n",
       "padding-left: 0.25em;\n",
       "border-left-style: solid;\n",
       "font-family: var(--jp-code-font-family);\n",
       "font-size: var(--jp-code-font-size);\n",
       "line-height: var(--jp-code-line-height);\n",
       "\"><span style=\"color: var(--jp-warn-color2)\">ATPtg.timeAndDate</span> <span style=\"color: var(--jp-warn-color0)\">WARNING</span>: tel_timeAndDate DDS read queue is filling: 18 of 100 elements</pre>"
      ],
      "text/plain": [
       "<IPython.core.display.HTML object>"
      ]
     },
     "metadata": {},
     "output_type": "display_data"
    },
    {
     "data": {
      "text/html": [
       "<pre style=\"margin: 0.1em;\n",
       "padding-left: 0.25em;\n",
       "border-left-style: solid;\n",
       "font-family: var(--jp-code-font-family);\n",
       "font-size: var(--jp-code-font-size);\n",
       "line-height: var(--jp-code-line-height);\n",
       "\"><span style=\"color: var(--jp-warn-color2)\">Sky Flats 2023-05-05 17:01:28.729000 UT</span> <span style=\"color: var(--jp-info-color0)\">INFO</span>: Sky flats triplets with 4 seconds exposure time and filter empty_1 are [2023050500134], [2023050500135] and [2023050500136]</pre>"
      ],
      "text/plain": [
       "<IPython.core.display.HTML object>"
      ]
     },
     "metadata": {},
     "output_type": "display_data"
    },
    {
     "data": {
      "text/html": [
       "<pre style=\"margin: 0.1em;\n",
       "padding-left: 0.25em;\n",
       "border-left-style: solid;\n",
       "font-family: var(--jp-code-font-family);\n",
       "font-size: var(--jp-code-font-size);\n",
       "line-height: var(--jp-code-line-height);\n",
       "\"><span style=\"color: var(--jp-warn-color2)\">Sky Flats 2023-05-05 17:01:28.729000 UT</span> <span style=\"color: var(--jp-error-color2)\">ERROR</span>: Could not get new image from butler. Waiting 1 seconds and trying again.</pre><pre style=\"margin: 0.1em;\n",
       "padding-left: 0.25em;\n",
       "border-left-style: solid;\n",
       "font-family: var(--jp-code-font-family);\n",
       "font-size: var(--jp-code-font-size);\n",
       "line-height: var(--jp-code-line-height);\n",
       "\">Traceback (most recent call last):\n",
       "  File \"/tmp/ipykernel_8060/3420654075.py\", line 35, in verify_counts\n",
       "    exp = butler.get('raw', dataId=dataId)\n",
       "  File \"/opt/lsst/software/stack/stack/miniconda3-py38_4.9.2-6.0.0/Linux64/daf_butler/g4ebb90a088+3070c2f738/python/lsst/daf/butler/_butler.py\", line 1446, in get\n",
       "    ref = self._findDatasetRef(datasetRefOrType, dataId, collections=collections, **kwargs)\n",
       "  File \"/opt/lsst/software/stack/stack/miniconda3-py38_4.9.2-6.0.0/Linux64/daf_butler/g4ebb90a088+3070c2f738/python/lsst/daf/butler/_butler.py\", line 1102, in _findDatasetRef\n",
       "    raise LookupError(\n",
       "LookupError: Dataset raw with data ID {instrument: 'LATISS', detector: 0, exposure: 2023050500136} could not be found in collections ('LATISS/raw/all',).\n",
       "</pre>"
      ],
      "text/plain": [
       "<IPython.core.display.HTML object>"
      ]
     },
     "metadata": {},
     "output_type": "display_data"
    },
    {
     "data": {
      "text/html": [
       "<pre style=\"margin: 0.1em;\n",
       "padding-left: 0.25em;\n",
       "border-left-style: solid;\n",
       "font-family: var(--jp-code-font-family);\n",
       "font-size: var(--jp-code-font-size);\n",
       "line-height: var(--jp-code-line-height);\n",
       "\"><span style=\"color: var(--jp-warn-color2)\">Sky Flats 2023-05-05 17:01:28.729000 UT</span> <span style=\"color: var(--jp-error-color2)\">ERROR</span>: Could not get new image from butler. Waiting 1 seconds and trying again.</pre><pre style=\"margin: 0.1em;\n",
       "padding-left: 0.25em;\n",
       "border-left-style: solid;\n",
       "font-family: var(--jp-code-font-family);\n",
       "font-size: var(--jp-code-font-size);\n",
       "line-height: var(--jp-code-line-height);\n",
       "\">Traceback (most recent call last):\n",
       "  File \"/tmp/ipykernel_8060/3420654075.py\", line 35, in verify_counts\n",
       "    exp = butler.get('raw', dataId=dataId)\n",
       "  File \"/opt/lsst/software/stack/stack/miniconda3-py38_4.9.2-6.0.0/Linux64/daf_butler/g4ebb90a088+3070c2f738/python/lsst/daf/butler/_butler.py\", line 1446, in get\n",
       "    ref = self._findDatasetRef(datasetRefOrType, dataId, collections=collections, **kwargs)\n",
       "  File \"/opt/lsst/software/stack/stack/miniconda3-py38_4.9.2-6.0.0/Linux64/daf_butler/g4ebb90a088+3070c2f738/python/lsst/daf/butler/_butler.py\", line 1102, in _findDatasetRef\n",
       "    raise LookupError(\n",
       "LookupError: Dataset raw with data ID {instrument: 'LATISS', detector: 0, exposure: 2023050500136} could not be found in collections ('LATISS/raw/all',).\n",
       "</pre>"
      ],
      "text/plain": [
       "<IPython.core.display.HTML object>"
      ]
     },
     "metadata": {},
     "output_type": "display_data"
    },
    {
     "data": {
      "text/html": [
       "<pre style=\"margin: 0.1em;\n",
       "padding-left: 0.25em;\n",
       "border-left-style: solid;\n",
       "font-family: var(--jp-code-font-family);\n",
       "font-size: var(--jp-code-font-size);\n",
       "line-height: var(--jp-code-line-height);\n",
       "\"><span style=\"color: var(--jp-warn-color2)\">Sky Flats 2023-05-05 17:01:28.729000 UT</span> <span style=\"color: var(--jp-error-color2)\">ERROR</span>: Could not get new image from butler. Waiting 1 seconds and trying again.</pre><pre style=\"margin: 0.1em;\n",
       "padding-left: 0.25em;\n",
       "border-left-style: solid;\n",
       "font-family: var(--jp-code-font-family);\n",
       "font-size: var(--jp-code-font-size);\n",
       "line-height: var(--jp-code-line-height);\n",
       "\">Traceback (most recent call last):\n",
       "  File \"/tmp/ipykernel_8060/3420654075.py\", line 35, in verify_counts\n",
       "    exp = butler.get('raw', dataId=dataId)\n",
       "  File \"/opt/lsst/software/stack/stack/miniconda3-py38_4.9.2-6.0.0/Linux64/daf_butler/g4ebb90a088+3070c2f738/python/lsst/daf/butler/_butler.py\", line 1446, in get\n",
       "    ref = self._findDatasetRef(datasetRefOrType, dataId, collections=collections, **kwargs)\n",
       "  File \"/opt/lsst/software/stack/stack/miniconda3-py38_4.9.2-6.0.0/Linux64/daf_butler/g4ebb90a088+3070c2f738/python/lsst/daf/butler/_butler.py\", line 1102, in _findDatasetRef\n",
       "    raise LookupError(\n",
       "LookupError: Dataset raw with data ID {instrument: 'LATISS', detector: 0, exposure: 2023050500136} could not be found in collections ('LATISS/raw/all',).\n",
       "</pre>"
      ],
      "text/plain": [
       "<IPython.core.display.HTML object>"
      ]
     },
     "metadata": {},
     "output_type": "display_data"
    },
    {
     "data": {
      "text/html": [
       "<pre style=\"margin: 0.1em;\n",
       "padding-left: 0.25em;\n",
       "border-left-style: solid;\n",
       "font-family: var(--jp-code-font-family);\n",
       "font-size: var(--jp-code-font-size);\n",
       "line-height: var(--jp-code-line-height);\n",
       "\"><span style=\"color: var(--jp-warn-color2)\">lsst.obs.base._fitsRawFormatterBase</span> <span style=\"color: var(--jp-warn-color0)\">WARNING</span>: Cannot create a valid WCS from metadata: CRPIX1</pre>"
      ],
      "text/plain": [
       "<IPython.core.display.HTML object>"
      ]
     },
     "metadata": {},
     "output_type": "display_data"
    },
    {
     "data": {
      "text/html": [
       "<pre style=\"margin: 0.1em;\n",
       "padding-left: 0.25em;\n",
       "border-left-style: solid;\n",
       "font-family: var(--jp-code-font-family);\n",
       "font-size: var(--jp-code-font-size);\n",
       "line-height: var(--jp-code-line-height);\n",
       "\"><span style=\"color: var(--jp-warn-color2)\">Sky Flats 2023-05-05 17:01:28.729000 UT</span> <span style=\"color: var(--jp-info-color0)\">INFO</span>: Exposure ID: 2023050500136</pre>"
      ],
      "text/plain": [
       "<IPython.core.display.HTML object>"
      ]
     },
     "metadata": {},
     "output_type": "display_data"
    },
    {
     "data": {
      "text/html": [
       "<pre style=\"margin: 0.1em;\n",
       "padding-left: 0.25em;\n",
       "border-left-style: solid;\n",
       "font-family: var(--jp-code-font-family);\n",
       "font-size: var(--jp-code-font-size);\n",
       "line-height: var(--jp-code-line-height);\n",
       "\"><span style=\"color: var(--jp-warn-color2)\">Sky Flats 2023-05-05 17:01:28.729000 UT</span> <span style=\"color: var(--jp-info-color0)\">INFO</span>:     Median: 13991.0</pre>"
      ],
      "text/plain": [
       "<IPython.core.display.HTML object>"
      ]
     },
     "metadata": {},
     "output_type": "display_data"
    },
    {
     "data": {
      "text/html": [
       "<pre style=\"margin: 0.1em;\n",
       "padding-left: 0.25em;\n",
       "border-left-style: solid;\n",
       "font-family: var(--jp-code-font-family);\n",
       "font-size: var(--jp-code-font-size);\n",
       "line-height: var(--jp-code-line-height);\n",
       "\"><span style=\"color: var(--jp-warn-color2)\">Sky Flats 2023-05-05 17:01:28.729000 UT</span> <span style=\"color: var(--jp-info-color0)\">INFO</span>:     Mean: 14409.426215277777</pre>"
      ],
      "text/plain": [
       "<IPython.core.display.HTML object>"
      ]
     },
     "metadata": {},
     "output_type": "display_data"
    },
    {
     "data": {
      "text/html": [
       "<pre style=\"margin: 0.1em;\n",
       "padding-left: 0.25em;\n",
       "border-left-style: solid;\n",
       "font-family: var(--jp-code-font-family);\n",
       "font-size: var(--jp-code-font-size);\n",
       "line-height: var(--jp-code-line-height);\n",
       "\"><span style=\"color: var(--jp-warn-color2)\">Sky Flats 2023-05-05 17:01:28.729000 UT</span> <span style=\"color: var(--jp-info-color0)\">INFO</span>:     Std: 1870.9935118176372</pre>"
      ],
      "text/plain": [
       "<IPython.core.display.HTML object>"
      ]
     },
     "metadata": {},
     "output_type": "display_data"
    },
    {
     "name": "stdout",
     "output_type": "stream",
     "text": [
      " 3 times below target counts\n",
      "Changing filters\n"
     ]
    }
   ],
   "source": [
    "exposure_time = 1\n",
    "for filter_to_use in filters:\n",
    "    logger.info(f\"Filter is {filter_to_use}\")\n",
    "    trials = 1\n",
    "    while trials <= max_times_below_mincounts_before_chaging_filter:\n",
    "        exp_level = await take_triplets_with_fixed_dither(exposure_time, filter_to_use, dither_offset)\n",
    "        counts = await verify_counts(exp_level)\n",
    "        if counts > min_counts: \n",
    "             continue\n",
    "        elif counts < min_counts:\n",
    "            trials +=1\n",
    "            exposure_time = 2*exposure_time\n",
    "            logger.info(f\"{trials} times below min counts\")\n",
    "            if trials ==3:\n",
    "                logger.info(\"Changing filters\")\n",
    "            elif trials <3:\n",
    "                logger.info(f\"The exposure time will be increased to {exposure_time} seconds\")"
   ]
  },
  {
   "cell_type": "markdown",
   "id": "9affc628",
   "metadata": {},
   "source": [
    "## Image Assessment"
   ]
  },
  {
   "cell_type": "markdown",
   "id": "d8fd4a8f-5a1d-4084-b160-cbb309d7882c",
   "metadata": {},
   "source": [
    "The two next cells will serve to check the median, mean and std of the signal across an image. \n",
    "Edit the `day_obs` and `seq_num` in the `dataId` row. "
   ]
  },
  {
   "cell_type": "code",
   "execution_count": null,
   "id": "9ea97bb9",
   "metadata": {
    "tags": []
   },
   "outputs": [],
   "source": [
    "dataId = {'detector': 0, 'day_obs': 20230427, 'seq_num': 87}\n",
    "exp = butler.get('raw', dataId=dataId)"
   ]
  },
  {
   "cell_type": "code",
   "execution_count": null,
   "id": "2d64ac77",
   "metadata": {
    "tags": []
   },
   "outputs": [],
   "source": [
    "foo = exp.getMaskedImage()\n",
    "masked_array = np.ma.masked_array(foo.image.array, mask=foo.mask.array)\n",
    "meta = exp.getMetadata()\n",
    "\n",
    "logger.info(f\"Observation ID: {meta['OBSID']}\")\n",
    "logger.info(f\"    Median: {np.ma.median(masked_array)}\")\n",
    "logger.info(f\"    Mean: {np.ma.mean(masked_array)}\")\n",
    "logger.info(f\"    Std: {np.ma.std(masked_array)}\")"
   ]
  }
 ],
 "metadata": {
  "kernelspec": {
   "display_name": "LSST",
   "language": "python",
   "name": "lsst"
  },
  "language_info": {
   "codemirror_mode": {
    "name": "ipython",
    "version": 3
   },
   "file_extension": ".py",
   "mimetype": "text/x-python",
   "name": "python",
   "nbconvert_exporter": "python",
   "pygments_lexer": "ipython3",
   "version": "3.10.10"
  }
 },
 "nbformat": 4,
 "nbformat_minor": 5
}
