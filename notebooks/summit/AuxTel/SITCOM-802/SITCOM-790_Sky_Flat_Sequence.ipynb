{
 "cells": [
  {
   "cell_type": "markdown",
   "id": "aae50e6f",
   "metadata": {},
   "source": [
    "# AuxTel - Sky Flats Sequence\n",
    "\n",
    "This notebook is a draft of procedures we can use during twilight to take Sky Flats using different filters as per SITCOM-790. \n",
    "https://jira.lsstcorp.org/browse/SITCOM-790https://jira.lsstcorp.org/browse/SITCOM-790\n",
    "\n",
    "It is meant to be executed between sunset and the time between the end of the civil and nautical twilights, that is, when the Sun's elevation is between 0 and 9 degrees below horizon. At 9 degrees below horizon, AuxTel should go on-sky to absorb zero-point offsets and perform the first WEP mirror alignment and focus of the night.\n",
    "\n",
    "This procedure requires that AuxTel is ready for on-sky in advance, when the Sun is 25 degrees above horizon. \n",
    "\n",
    "Be prepared to run this notebook at the time of sunset to have enough time for the three available filters. \n",
    "\n",
    "After the setup is completed, we find an empty field in the opposite direction of the Sun, then we slew to this field, and take an image. This image will probably have saturation. We start a loop of taking images in the same position until we get an image that does not saturate. Also start with the bluest filter. \n",
    "\n",
    "Once the image is not saturated anymore, we take a sequence of images with small dithers and increasing exposure times. SITCOM-something like 12 flats per filter."
   ]
  },
  {
   "cell_type": "markdown",
   "id": "34e05910",
   "metadata": {},
   "source": [
    "## Setup"
   ]
  },
  {
   "cell_type": "code",
   "execution_count": 33,
   "id": "b075a005",
   "metadata": {
    "execution": {
     "iopub.execute_input": "2023-05-22T15:42:45.560918Z",
     "iopub.status.busy": "2023-05-22T15:42:45.560529Z",
     "iopub.status.idle": "2023-05-22T15:42:45.605018Z",
     "shell.execute_reply": "2023-05-22T15:42:45.604565Z",
     "shell.execute_reply.started": "2023-05-22T15:42:45.560899Z"
    },
    "tags": []
   },
   "outputs": [],
   "source": [
    "import asyncio\n",
    "import time\n",
    "import os\n",
    "import numpy as np\n",
    "import matplotlib.pyplot as plt\n",
    "import logging\n",
    "import time\n",
    "\n",
    "from astropy import coordinates\n",
    "from astropy.coordinates import SkyCoord, EarthLocation, AltAz\n",
    "from astropy import units as u\n",
    "from astropy.time import Time\n",
    "from astroquery.exceptions import NoResultsWarning\n",
    "from astroquery.vizier import Vizier\n",
    "from datetime import datetime\n",
    "from warnings import warn\n",
    "\n",
    "from lsst.ts import salobj\n",
    "\n",
    "from lsst.ts.observatory.control.auxtel.atcs import ATCS\n",
    "from lsst.ts.observatory.control.auxtel.latiss import LATISS\n",
    "from lsst.ts.observatory.control.utils import RotType\n",
    "\n",
    "from lsst.ts.observing.utilities.auxtel.latiss.getters import get_image\n",
    "\n",
    "import lsst.daf.butler.cli.cliLog as cliLog\n",
    "import lsst.daf.butler as dafButler"
   ]
  },
  {
   "cell_type": "code",
   "execution_count": 2,
   "id": "aa94f109",
   "metadata": {
    "execution": {
     "iopub.execute_input": "2023-05-22T15:16:57.445157Z",
     "iopub.status.busy": "2023-05-22T15:16:57.444876Z",
     "iopub.status.idle": "2023-05-22T15:16:57.447751Z",
     "shell.execute_reply": "2023-05-22T15:16:57.447372Z",
     "shell.execute_reply.started": "2023-05-22T15:16:57.445140Z"
    },
    "tags": []
   },
   "outputs": [],
   "source": [
    "logger = logging.getLogger(f\"Sky Flats {Time.now()} UT\")\n",
    "logger.level = logging.INFO"
   ]
  },
  {
   "cell_type": "code",
   "execution_count": 4,
   "id": "84b698b1",
   "metadata": {
    "execution": {
     "iopub.execute_input": "2023-05-22T15:17:20.129021Z",
     "iopub.status.busy": "2023-05-22T15:17:20.128624Z",
     "iopub.status.idle": "2023-05-22T15:17:25.529547Z",
     "shell.execute_reply": "2023-05-22T15:17:25.529130Z",
     "shell.execute_reply.started": "2023-05-22T15:17:20.129002Z"
    },
    "tags": []
   },
   "outputs": [
    {
     "data": {
      "text/html": [
       "<pre style=\"margin: 0.1em;\n",
       "padding-left: 0.25em;\n",
       "border-left-style: solid;\n",
       "font-family: var(--jp-code-font-family);\n",
       "font-size: var(--jp-code-font-size);\n",
       "line-height: var(--jp-code-line-height);\n",
       "\"><span style=\"color: var(--jp-warn-color2)\">ATMCS</span> <span style=\"color: var(--jp-info-color0)\">INFO</span>: Disabling authlist-based command authorization</pre>"
      ],
      "text/plain": [
       "<IPython.core.display.HTML object>"
      ]
     },
     "metadata": {},
     "output_type": "display_data"
    },
    {
     "data": {
      "text/html": [
       "<pre style=\"margin: 0.1em;\n",
       "padding-left: 0.25em;\n",
       "border-left-style: solid;\n",
       "font-family: var(--jp-code-font-family);\n",
       "font-size: var(--jp-code-font-size);\n",
       "line-height: var(--jp-code-line-height);\n",
       "\"><span style=\"color: var(--jp-warn-color2)\">ATPtg</span> <span style=\"color: var(--jp-info-color0)\">INFO</span>: Disabling authlist-based command authorization</pre>"
      ],
      "text/plain": [
       "<IPython.core.display.HTML object>"
      ]
     },
     "metadata": {},
     "output_type": "display_data"
    },
    {
     "data": {
      "text/html": [
       "<pre style=\"margin: 0.1em;\n",
       "padding-left: 0.25em;\n",
       "border-left-style: solid;\n",
       "font-family: var(--jp-code-font-family);\n",
       "font-size: var(--jp-code-font-size);\n",
       "line-height: var(--jp-code-line-height);\n",
       "\"><span style=\"color: var(--jp-warn-color2)\">ATAOS</span> <span style=\"color: var(--jp-info-color0)\">INFO</span>: Disabling authlist-based command authorization</pre>"
      ],
      "text/plain": [
       "<IPython.core.display.HTML object>"
      ]
     },
     "metadata": {},
     "output_type": "display_data"
    },
    {
     "data": {
      "text/html": [
       "<pre style=\"margin: 0.1em;\n",
       "padding-left: 0.25em;\n",
       "border-left-style: solid;\n",
       "font-family: var(--jp-code-font-family);\n",
       "font-size: var(--jp-code-font-size);\n",
       "line-height: var(--jp-code-line-height);\n",
       "\"><span style=\"color: var(--jp-warn-color2)\">ATPneumatics</span> <span style=\"color: var(--jp-info-color0)\">INFO</span>: Disabling authlist-based command authorization</pre>"
      ],
      "text/plain": [
       "<IPython.core.display.HTML object>"
      ]
     },
     "metadata": {},
     "output_type": "display_data"
    },
    {
     "data": {
      "text/html": [
       "<pre style=\"margin: 0.1em;\n",
       "padding-left: 0.25em;\n",
       "border-left-style: solid;\n",
       "font-family: var(--jp-code-font-family);\n",
       "font-size: var(--jp-code-font-size);\n",
       "line-height: var(--jp-code-line-height);\n",
       "\"><span style=\"color: var(--jp-warn-color2)\">ATHexapod</span> <span style=\"color: var(--jp-info-color0)\">INFO</span>: Disabling authlist-based command authorization</pre>"
      ],
      "text/plain": [
       "<IPython.core.display.HTML object>"
      ]
     },
     "metadata": {},
     "output_type": "display_data"
    },
    {
     "data": {
      "text/html": [
       "<pre style=\"margin: 0.1em;\n",
       "padding-left: 0.25em;\n",
       "border-left-style: solid;\n",
       "font-family: var(--jp-code-font-family);\n",
       "font-size: var(--jp-code-font-size);\n",
       "line-height: var(--jp-code-line-height);\n",
       "\"><span style=\"color: var(--jp-warn-color2)\">ATDome</span> <span style=\"color: var(--jp-info-color0)\">INFO</span>: Disabling authlist-based command authorization</pre>"
      ],
      "text/plain": [
       "<IPython.core.display.HTML object>"
      ]
     },
     "metadata": {},
     "output_type": "display_data"
    },
    {
     "data": {
      "text/html": [
       "<pre style=\"margin: 0.1em;\n",
       "padding-left: 0.25em;\n",
       "border-left-style: solid;\n",
       "font-family: var(--jp-code-font-family);\n",
       "font-size: var(--jp-code-font-size);\n",
       "line-height: var(--jp-code-line-height);\n",
       "\"><span style=\"color: var(--jp-warn-color2)\">ATDomeTrajectory</span> <span style=\"color: var(--jp-info-color0)\">INFO</span>: Disabling authlist-based command authorization</pre>"
      ],
      "text/plain": [
       "<IPython.core.display.HTML object>"
      ]
     },
     "metadata": {},
     "output_type": "display_data"
    },
    {
     "data": {
      "text/html": [
       "<pre style=\"margin: 0.1em;\n",
       "padding-left: 0.25em;\n",
       "border-left-style: solid;\n",
       "font-family: var(--jp-code-font-family);\n",
       "font-size: var(--jp-code-font-size);\n",
       "line-height: var(--jp-code-line-height);\n",
       "\"><span style=\"color: var(--jp-warn-color2)\">ATCamera</span> <span style=\"color: var(--jp-info-color0)\">INFO</span>: Disabling authlist-based command authorization</pre>"
      ],
      "text/plain": [
       "<IPython.core.display.HTML object>"
      ]
     },
     "metadata": {},
     "output_type": "display_data"
    },
    {
     "data": {
      "text/html": [
       "<pre style=\"margin: 0.1em;\n",
       "padding-left: 0.25em;\n",
       "border-left-style: solid;\n",
       "font-family: var(--jp-code-font-family);\n",
       "font-size: var(--jp-code-font-size);\n",
       "line-height: var(--jp-code-line-height);\n",
       "\"><span style=\"color: var(--jp-warn-color2)\">ATSpectrograph</span> <span style=\"color: var(--jp-info-color0)\">INFO</span>: Disabling authlist-based command authorization</pre>"
      ],
      "text/plain": [
       "<IPython.core.display.HTML object>"
      ]
     },
     "metadata": {},
     "output_type": "display_data"
    },
    {
     "data": {
      "text/html": [
       "<pre style=\"margin: 0.1em;\n",
       "padding-left: 0.25em;\n",
       "border-left-style: solid;\n",
       "font-family: var(--jp-code-font-family);\n",
       "font-size: var(--jp-code-font-size);\n",
       "line-height: var(--jp-code-line-height);\n",
       "\"><span style=\"color: var(--jp-warn-color2)\">ATHeaderService</span> <span style=\"color: var(--jp-info-color0)\">INFO</span>: Disabling authlist-based command authorization</pre>"
      ],
      "text/plain": [
       "<IPython.core.display.HTML object>"
      ]
     },
     "metadata": {},
     "output_type": "display_data"
    },
    {
     "data": {
      "text/html": [
       "<pre style=\"margin: 0.1em;\n",
       "padding-left: 0.25em;\n",
       "border-left-style: solid;\n",
       "font-family: var(--jp-code-font-family);\n",
       "font-size: var(--jp-code-font-size);\n",
       "line-height: var(--jp-code-line-height);\n",
       "\"><span style=\"color: var(--jp-warn-color2)\">ATOODS</span> <span style=\"color: var(--jp-info-color0)\">INFO</span>: Disabling authlist-based command authorization</pre>"
      ],
      "text/plain": [
       "<IPython.core.display.HTML object>"
      ]
     },
     "metadata": {},
     "output_type": "display_data"
    },
    {
     "data": {
      "text/html": [
       "<pre style=\"margin: 0.1em;\n",
       "padding-left: 0.25em;\n",
       "border-left-style: solid;\n",
       "font-family: var(--jp-code-font-family);\n",
       "font-size: var(--jp-code-font-size);\n",
       "line-height: var(--jp-code-line-height);\n",
       "\"><span style=\"color: var(--jp-warn-color2)\">ATOODS</span> <span style=\"color: var(--jp-info-color0)\">INFO</span>: Read historical data in 3.00 sec</pre>"
      ],
      "text/plain": [
       "<IPython.core.display.HTML object>"
      ]
     },
     "metadata": {},
     "output_type": "display_data"
    },
    {
     "data": {
      "text/html": [
       "<pre style=\"margin: 0.1em;\n",
       "padding-left: 0.25em;\n",
       "border-left-style: solid;\n",
       "font-family: var(--jp-code-font-family);\n",
       "font-size: var(--jp-code-font-size);\n",
       "line-height: var(--jp-code-line-height);\n",
       "\"><span style=\"color: var(--jp-warn-color2)\">ATDomeTrajectory</span> <span style=\"color: var(--jp-info-color0)\">INFO</span>: Read historical data in 3.01 sec</pre>"
      ],
      "text/plain": [
       "<IPython.core.display.HTML object>"
      ]
     },
     "metadata": {},
     "output_type": "display_data"
    },
    {
     "data": {
      "text/html": [
       "<pre style=\"margin: 0.1em;\n",
       "padding-left: 0.25em;\n",
       "border-left-style: solid;\n",
       "font-family: var(--jp-code-font-family);\n",
       "font-size: var(--jp-code-font-size);\n",
       "line-height: var(--jp-code-line-height);\n",
       "\"><span style=\"color: var(--jp-warn-color2)\">ATAOS</span> <span style=\"color: var(--jp-info-color0)\">INFO</span>: Read historical data in 3.01 sec</pre>"
      ],
      "text/plain": [
       "<IPython.core.display.HTML object>"
      ]
     },
     "metadata": {},
     "output_type": "display_data"
    },
    {
     "data": {
      "text/html": [
       "<pre style=\"margin: 0.1em;\n",
       "padding-left: 0.25em;\n",
       "border-left-style: solid;\n",
       "font-family: var(--jp-code-font-family);\n",
       "font-size: var(--jp-code-font-size);\n",
       "line-height: var(--jp-code-line-height);\n",
       "\"><span style=\"color: var(--jp-warn-color2)\">ATHeaderService</span> <span style=\"color: var(--jp-info-color0)\">INFO</span>: Read historical data in 3.01 sec</pre>"
      ],
      "text/plain": [
       "<IPython.core.display.HTML object>"
      ]
     },
     "metadata": {},
     "output_type": "display_data"
    },
    {
     "data": {
      "text/html": [
       "<pre style=\"margin: 0.1em;\n",
       "padding-left: 0.25em;\n",
       "border-left-style: solid;\n",
       "font-family: var(--jp-code-font-family);\n",
       "font-size: var(--jp-code-font-size);\n",
       "line-height: var(--jp-code-line-height);\n",
       "\"><span style=\"color: var(--jp-warn-color2)\">ATHexapod</span> <span style=\"color: var(--jp-info-color0)\">INFO</span>: Read historical data in 3.02 sec</pre>"
      ],
      "text/plain": [
       "<IPython.core.display.HTML object>"
      ]
     },
     "metadata": {},
     "output_type": "display_data"
    },
    {
     "data": {
      "text/html": [
       "<pre style=\"margin: 0.1em;\n",
       "padding-left: 0.25em;\n",
       "border-left-style: solid;\n",
       "font-family: var(--jp-code-font-family);\n",
       "font-size: var(--jp-code-font-size);\n",
       "line-height: var(--jp-code-line-height);\n",
       "\"><span style=\"color: var(--jp-warn-color2)\">ATSpectrograph</span> <span style=\"color: var(--jp-info-color0)\">INFO</span>: Read historical data in 3.02 sec</pre>"
      ],
      "text/plain": [
       "<IPython.core.display.HTML object>"
      ]
     },
     "metadata": {},
     "output_type": "display_data"
    },
    {
     "data": {
      "text/html": [
       "<pre style=\"margin: 0.1em;\n",
       "padding-left: 0.25em;\n",
       "border-left-style: solid;\n",
       "font-family: var(--jp-code-font-family);\n",
       "font-size: var(--jp-code-font-size);\n",
       "line-height: var(--jp-code-line-height);\n",
       "\"><span style=\"color: var(--jp-warn-color2)\">ATDome</span> <span style=\"color: var(--jp-info-color0)\">INFO</span>: Read historical data in 3.03 sec</pre>"
      ],
      "text/plain": [
       "<IPython.core.display.HTML object>"
      ]
     },
     "metadata": {},
     "output_type": "display_data"
    },
    {
     "data": {
      "text/html": [
       "<pre style=\"margin: 0.1em;\n",
       "padding-left: 0.25em;\n",
       "border-left-style: solid;\n",
       "font-family: var(--jp-code-font-family);\n",
       "font-size: var(--jp-code-font-size);\n",
       "line-height: var(--jp-code-line-height);\n",
       "\"><span style=\"color: var(--jp-warn-color2)\">ATPneumatics</span> <span style=\"color: var(--jp-info-color0)\">INFO</span>: Read historical data in 3.03 sec</pre>"
      ],
      "text/plain": [
       "<IPython.core.display.HTML object>"
      ]
     },
     "metadata": {},
     "output_type": "display_data"
    },
    {
     "data": {
      "text/html": [
       "<pre style=\"margin: 0.1em;\n",
       "padding-left: 0.25em;\n",
       "border-left-style: solid;\n",
       "font-family: var(--jp-code-font-family);\n",
       "font-size: var(--jp-code-font-size);\n",
       "line-height: var(--jp-code-line-height);\n",
       "\"><span style=\"color: var(--jp-warn-color2)\">ATMCS</span> <span style=\"color: var(--jp-info-color0)\">INFO</span>: Read historical data in 3.03 sec</pre>"
      ],
      "text/plain": [
       "<IPython.core.display.HTML object>"
      ]
     },
     "metadata": {},
     "output_type": "display_data"
    },
    {
     "data": {
      "text/html": [
       "<pre style=\"margin: 0.1em;\n",
       "padding-left: 0.25em;\n",
       "border-left-style: solid;\n",
       "font-family: var(--jp-code-font-family);\n",
       "font-size: var(--jp-code-font-size);\n",
       "line-height: var(--jp-code-line-height);\n",
       "\"><span style=\"color: var(--jp-warn-color2)\">ATPtg</span> <span style=\"color: var(--jp-info-color0)\">INFO</span>: Read historical data in 3.04 sec</pre>"
      ],
      "text/plain": [
       "<IPython.core.display.HTML object>"
      ]
     },
     "metadata": {},
     "output_type": "display_data"
    },
    {
     "data": {
      "text/html": [
       "<pre style=\"margin: 0.1em;\n",
       "padding-left: 0.25em;\n",
       "border-left-style: solid;\n",
       "font-family: var(--jp-code-font-family);\n",
       "font-size: var(--jp-code-font-size);\n",
       "line-height: var(--jp-code-line-height);\n",
       "\"><span style=\"color: var(--jp-warn-color2)\">ATCamera</span> <span style=\"color: var(--jp-info-color0)\">INFO</span>: Read historical data in 3.04 sec</pre>"
      ],
      "text/plain": [
       "<IPython.core.display.HTML object>"
      ]
     },
     "metadata": {},
     "output_type": "display_data"
    },
    {
     "data": {
      "text/html": [
       "<pre style=\"margin: 0.1em;\n",
       "padding-left: 0.25em;\n",
       "border-left-style: solid;\n",
       "font-family: var(--jp-code-font-family);\n",
       "font-size: var(--jp-code-font-size);\n",
       "line-height: var(--jp-code-line-height);\n",
       "\"><span style=\"color: var(--jp-warn-color2)\">ATPtg.timeAndDate</span> <span style=\"color: var(--jp-warn-color0)\">WARNING</span>: tel_timeAndDate DDS read queue is filling: 24 of 100 elements</pre>"
      ],
      "text/plain": [
       "<IPython.core.display.HTML object>"
      ]
     },
     "metadata": {},
     "output_type": "display_data"
    },
    {
     "data": {
      "text/plain": [
       "[[None, None, None, None, None, None, None], [None, None, None, None]]"
      ]
     },
     "execution_count": 4,
     "metadata": {},
     "output_type": "execute_result"
    }
   ],
   "source": [
    "# Instantiate the control classes\n",
    "domain = salobj.Domain()\n",
    "atcs = ATCS(domain)\n",
    "atcs.set_rem_loglevel(logging.INFO)\n",
    "latiss = LATISS(domain)\n",
    "latiss.set_rem_loglevel(logging.INFO)\n",
    "await asyncio.gather(atcs.start_task, latiss.start_task)"
   ]
  },
  {
   "cell_type": "code",
   "execution_count": 5,
   "id": "2c2a49ce",
   "metadata": {
    "execution": {
     "iopub.execute_input": "2023-05-22T15:20:13.921452Z",
     "iopub.status.busy": "2023-05-22T15:20:13.921091Z",
     "iopub.status.idle": "2023-05-22T15:20:13.926095Z",
     "shell.execute_reply": "2023-05-22T15:20:13.925657Z",
     "shell.execute_reply.started": "2023-05-22T15:20:13.921434Z"
    },
    "tags": []
   },
   "outputs": [
    {
     "data": {
      "text/html": [
       "<pre style=\"margin: 0.1em;\n",
       "padding-left: 0.25em;\n",
       "border-left-style: solid;\n",
       "font-family: var(--jp-code-font-family);\n",
       "font-size: var(--jp-code-font-size);\n",
       "line-height: var(--jp-code-line-height);\n",
       "\"><span style=\"color: var(--jp-warn-color2)\">Sky Flats 2023-05-22 15:16:57.445793 UT</span> <span style=\"color: var(--jp-info-color0)\">INFO</span>: LATISS filters are: [&#x27;empty_1&#x27;, &#x27;SDSSg_65mm&#x27;, &#x27;SDSSr_65mm&#x27;, &#x27;SDSSi_65mm&#x27;]</pre>"
      ],
      "text/plain": [
       "<IPython.core.display.HTML object>"
      ]
     },
     "metadata": {},
     "output_type": "display_data"
    },
    {
     "data": {
      "text/html": [
       "<pre style=\"margin: 0.1em;\n",
       "padding-left: 0.25em;\n",
       "border-left-style: solid;\n",
       "font-family: var(--jp-code-font-family);\n",
       "font-size: var(--jp-code-font-size);\n",
       "line-height: var(--jp-code-line-height);\n",
       "\"><span style=\"color: var(--jp-warn-color2)\">Sky Flats 2023-05-22 15:16:57.445793 UT</span> <span style=\"color: var(--jp-info-color0)\">INFO</span>: LATISS gratings are: [&#x27;empty_1&#x27;, &#x27;blue300lpmm_qn1&#x27;, &#x27;ronchi170lpmm&#x27;, &#x27;holo4_003&#x27;]</pre>"
      ],
      "text/plain": [
       "<IPython.core.display.HTML object>"
      ]
     },
     "metadata": {},
     "output_type": "display_data"
    }
   ],
   "source": [
    "inst_setup = await latiss.get_available_instrument_setup()\n",
    "logger.info(f'LATISS filters are: {inst_setup[0]}')\n",
    "logger.info(f'LATISS gratings are: {inst_setup[1]}')"
   ]
  },
  {
   "cell_type": "code",
   "execution_count": 6,
   "id": "9ac157d2",
   "metadata": {
    "execution": {
     "iopub.execute_input": "2023-05-22T15:20:30.194319Z",
     "iopub.status.busy": "2023-05-22T15:20:30.193887Z",
     "iopub.status.idle": "2023-05-22T15:20:31.341232Z",
     "shell.execute_reply": "2023-05-22T15:20:31.340616Z",
     "shell.execute_reply.started": "2023-05-22T15:20:30.194291Z"
    },
    "tags": []
   },
   "outputs": [],
   "source": [
    "repo = '/repo/LATISS/'\n",
    "collection = 'LATISS/raw/all'\n",
    "\n",
    "butler = dafButler.Butler(repo, collections=collection)"
   ]
  },
  {
   "cell_type": "markdown",
   "id": "55154dbc-a743-436b-8c36-3dbce24642c3",
   "metadata": {},
   "source": [
    "## Helper functions "
   ]
  },
  {
   "cell_type": "code",
   "execution_count": 58,
   "id": "969f7f92-171b-40a2-b04b-486eb2744131",
   "metadata": {
    "execution": {
     "iopub.execute_input": "2023-05-22T17:06:23.782558Z",
     "iopub.status.busy": "2023-05-22T17:06:23.782195Z",
     "iopub.status.idle": "2023-05-22T17:06:23.786348Z",
     "shell.execute_reply": "2023-05-22T17:06:23.785791Z",
     "shell.execute_reply.started": "2023-05-22T17:06:23.782540Z"
    },
    "tags": []
   },
   "outputs": [],
   "source": [
    "def get_target_radec(distance_from_sun=180, target_el=45, time=None):   \n",
    "    \"\"\"\n",
    "    Returns the RADEC of the target area of the sky that's an azimuth `distance_from_sun` away from the Sun, given `elevation`,\n",
    "    and at a given `time`.\n",
    "    \n",
    "    Parameters\n",
    "    ----------\n",
    "    distance_from_sun : float, (-180, 180)\n",
    "        The distance from the Sun in degrees. Positive angles go towards the \n",
    "        North.\n",
    "    elevation : float\n",
    "        Target elevation for Sky Flats.\n",
    "    time : datetime\n",
    "        The time for the calculation in UTC.\n",
    "    \"\"\"\n",
    "    \n",
    "    az_sun, el_sun = atcs.get_sun_azel()\n",
    "    \n",
    "    target_az = (az + distance_from_sun) % 360\n",
    "    \n",
    "    target_radec = atcs.radec_from_azel(target_az, target_el)\n",
    "    \n",
    "    return target_radec"
   ]
  },
  {
   "cell_type": "code",
   "execution_count": 59,
   "id": "45fac168-a42f-48e9-a6fe-821877218f38",
   "metadata": {
    "execution": {
     "iopub.execute_input": "2023-05-22T17:06:31.065840Z",
     "iopub.status.busy": "2023-05-22T17:06:31.065476Z",
     "iopub.status.idle": "2023-05-22T17:06:31.087106Z",
     "shell.execute_reply": "2023-05-22T17:06:31.086507Z",
     "shell.execute_reply.started": "2023-05-22T17:06:31.065822Z"
    },
    "tags": []
   },
   "outputs": [
    {
     "data": {
      "text/plain": [
       "<SkyCoord (ICRS): (ra, dec) in deg\n",
       "    (72.74906623, -75.16408964)>"
      ]
     },
     "execution_count": 59,
     "metadata": {},
     "output_type": "execute_result"
    }
   ],
   "source": [
    "get_target_radec()"
   ]
  },
  {
   "cell_type": "code",
   "execution_count": 48,
   "id": "528f5372",
   "metadata": {
    "execution": {
     "iopub.execute_input": "2023-05-22T16:51:23.440624Z",
     "iopub.status.busy": "2023-05-22T16:51:23.440230Z",
     "iopub.status.idle": "2023-05-22T16:51:23.445210Z",
     "shell.execute_reply": "2023-05-22T16:51:23.444715Z",
     "shell.execute_reply.started": "2023-05-22T16:51:23.440605Z"
    },
    "tags": []
   },
   "outputs": [],
   "source": [
    "def get_empty_field(target, radius=5):\n",
    "    \"\"\"\n",
    "    Query the \"Deep blank field catalogue : J/MNRAS/427/679\" in Vizier.\n",
    "    \n",
    "    Parameters\n",
    "    ----------\n",
    "    target : astropy.coordinates.SkyCoord\n",
    "        Sky coordinates near the field\n",
    "    radius : float\n",
    "        Search radius in degrees.\n",
    "    \n",
    "    Reference\n",
    "    ---------\n",
    "    http://cdsarc.u-strasbg.fr/viz-bin/Cat?J/MNRAS/427/679\n",
    "    \"\"\"\n",
    "    _table = Vizier.query_region(\n",
    "        catalog='J/MNRAS/427/679/blank_fld', \n",
    "        coordinates=target, \n",
    "        radius=radius*u.deg)\n",
    "\n",
    "    if len(_table) == 0:\n",
    "        warn(f\"Could not find a field near {target} \"\n",
    "              f\"within {radius} deg radius\", category=NoResultsWarning)\n",
    "        return None\n",
    "\n",
    "    _table = _table[\"J/MNRAS/427/679/blank_fld\"]\n",
    "    \n",
    "    coords = coordinates.SkyCoord(\n",
    "        ra=_table[\"RAJ2000\"], \n",
    "        dec=_table[\"DEJ2000\"], \n",
    "        unit=(u.hourangle, u.deg), \n",
    "        frame=coordinates.ICRS)\n",
    "    \n",
    "    arg = target.separation(coords).argmin()\n",
    "    \n",
    "    return coords[arg]"
   ]
  },
  {
   "cell_type": "code",
   "execution_count": 9,
   "id": "4a75222b-ef15-48cd-9ed0-66f9becff498",
   "metadata": {
    "execution": {
     "iopub.execute_input": "2023-05-10T22:07:49.443794Z",
     "iopub.status.busy": "2023-05-10T22:07:49.443408Z",
     "iopub.status.idle": "2023-05-10T22:07:49.448889Z",
     "shell.execute_reply": "2023-05-10T22:07:49.448378Z",
     "shell.execute_reply.started": "2023-05-10T22:07:49.443776Z"
    },
    "tags": []
   },
   "outputs": [],
   "source": [
    "async def take_triplets_with_fixed_dither(time, filt, offset):\n",
    "    # await atcs.offset_xy(x=0, y=0)\n",
    "    \n",
    "    first_flat = await latiss.take_flats(\n",
    "        exptime=time, nflats=1, filter=filt, grating='empty_1', reason=\"Sky_Flat\", program=\"SITCOM-790\")\n",
    "    \n",
    "    await atcs.offset_xy(x=offset, y=0)\n",
    "    \n",
    "    second_flat = await latiss.take_flats(\n",
    "        exptime=time, nflats=1, filter=filt, grating='empty_1', reason=\"Sky_Flat\", program=\"SITCOM-790\")\n",
    "    \n",
    "    await atcs.offset_xy(x=0, y=offset)\n",
    "    \n",
    "    sky_counts = await latiss.take_flats(\n",
    "        exptime=time, nflats=1, filter=filt, grating='empty_1', reason=\"Sky_Flat\", program=\"SITCOM-790\")\n",
    "    \n",
    "    logger.info(f\"Sky flats triplets with {time} seconds exposure time and filter {filt} are {first_flat}, {second_flat} and {sky_counts}\")\n",
    "    "
   ]
  },
  {
   "cell_type": "code",
   "execution_count": 49,
   "id": "a9d9ba0e-2d8b-442a-a316-46236905d6ea",
   "metadata": {
    "execution": {
     "iopub.execute_input": "2023-05-22T16:51:27.235559Z",
     "iopub.status.busy": "2023-05-22T16:51:27.235161Z",
     "iopub.status.idle": "2023-05-22T16:51:27.240190Z",
     "shell.execute_reply": "2023-05-22T16:51:27.239703Z",
     "shell.execute_reply.started": "2023-05-22T16:51:27.235540Z"
    },
    "tags": []
   },
   "outputs": [],
   "source": [
    "STD_TIMEOUT = 10  # seconds\n",
    "\n",
    "async def verify_counts(exposure, timeout=STD_TIMEOUT, loop_time=1):\n",
    "    \"\"\"\n",
    "    Retrieve image from butler repository.\n",
    "    If not present, then it will poll at intervals of loop_time (0.1s default)\n",
    "    until the image arrives, or until the timeout is reached.\n",
    "\n",
    "    Parameters\n",
    "    ----------\n",
    "    exp: `float`\n",
    "        exposure number, as 2023041500020 \n",
    "    \n",
    "    loop_time: `float`\n",
    "        Time between polling attempts. Defaults to 0.1s\n",
    "    timeout: `float`\n",
    "        Total time to poll for image before raising an exception\n",
    "\n",
    "    Returns\n",
    "    -------\n",
    "\n",
    "    median: `float`\n",
    "        Exposure counts median across the detector\n",
    "    \"\"\"\n",
    "    \n",
    "    dataId = {'detector': 0, 'exposure': exposure}\n",
    "\n",
    "    exp = get_image(dataId)\n",
    "    \n",
    "    # Measure median, mean and std across the image. \n",
    "    foo = exp.getMaskedImage()\n",
    "    masked_array = np.ma.masked_array(foo.image.array, mask=foo.mask.array)\n",
    "\n",
    "    median = np.ma.median(masked_array)\n",
    "\n",
    "    logger.info(f\"Exposure ID: {exposure}\")\n",
    "    logger.info(f\"    Median: {np.ma.median(masked_array)}\")\n",
    "    logger.info(f\"    Mean: {np.ma.mean(masked_array)}\")\n",
    "    logger.info(f\"    Std: {np.ma.std(masked_array)}\")\n",
    "\n",
    "    return median   "
   ]
  },
  {
   "cell_type": "markdown",
   "id": "1e62ee84-0e76-42ea-85ed-57a90899082a",
   "metadata": {},
   "source": [
    "## Confirm Sun's elevation is fine to start taking Sky Flats. \n",
    "\n",
    "Check if we can start taking sky flats, that, if the Sun's elevation is between 0 and 9 degrees below the horizon."
   ]
  },
  {
   "cell_type": "code",
   "execution_count": 54,
   "id": "bb777ff6-7f5e-4cd7-8afb-564bbe87140a",
   "metadata": {
    "execution": {
     "iopub.execute_input": "2023-05-22T16:55:49.387287Z",
     "iopub.status.busy": "2023-05-22T16:55:49.386905Z",
     "iopub.status.idle": "2023-05-22T16:55:49.403115Z",
     "shell.execute_reply": "2023-05-22T16:55:49.402703Z",
     "shell.execute_reply.started": "2023-05-22T16:55:49.387268Z"
    },
    "tags": []
   },
   "outputs": [
    {
     "name": "stdout",
     "output_type": "stream",
     "text": [
      " The azimuth of the setting Sun at 2023-05-22 16:49:42.994553 is 355.12 deg \n",
      " The elevation of the Sun at 2023-05-22 16:49:42.994553 is 39.17 deg\n"
     ]
    }
   ],
   "source": [
    "sun_coordinates = atcs.get_sun_azel()\n",
    "\n",
    "where_sun = \"setting\" if (sun_coordinates[0] > 180) else \"rising\"\n",
    "\n",
    "# Print results\n",
    "print(f\" The azimuth of the {where_sun} Sun at {time} is {sun_coordinates[0]:.2f} deg \\n\"\n",
    "      f\" The elevation of the Sun at {time} is {sun_coordinates[1]:.2f} deg\")"
   ]
  },
  {
   "cell_type": "markdown",
   "id": "14d0a4d6-0d72-4f1b-aec6-d8560b0924f0",
   "metadata": {},
   "source": [
    "Only proceed with the next steps if the elevation of the Sun is between 0 and 9 degrees below the horizon, either rising or setting. "
   ]
  },
  {
   "cell_type": "markdown",
   "id": "3910404b",
   "metadata": {},
   "source": [
    "## Find Field\n",
    "\n",
    "Find a field with not many stars oppposite the Sun. "
   ]
  },
  {
   "cell_type": "code",
   "execution_count": 60,
   "id": "db7005e7",
   "metadata": {
    "execution": {
     "iopub.execute_input": "2023-05-22T17:06:40.458473Z",
     "iopub.status.busy": "2023-05-22T17:06:40.458092Z",
     "iopub.status.idle": "2023-05-22T17:06:42.111412Z",
     "shell.execute_reply": "2023-05-22T17:06:42.110897Z",
     "shell.execute_reply.started": "2023-05-22T17:06:40.458455Z"
    },
    "tags": []
   },
   "outputs": [
    {
     "data": {
      "text/html": [
       "<pre style=\"margin: 0.1em;\n",
       "padding-left: 0.25em;\n",
       "border-left-style: solid;\n",
       "font-family: var(--jp-code-font-family);\n",
       "font-size: var(--jp-code-font-size);\n",
       "line-height: var(--jp-code-line-height);\n",
       "\"><span style=\"color: var(--jp-warn-color2)\">Sky Flats 2023-05-22 15:16:57.445793 UT</span> <span style=\"color: var(--jp-info-color0)\">INFO</span>: ICRS Empty field coordinates:\n",
       "  RA  = 4:46:05.76 ; DEC = -74:46:07.3</pre>"
      ],
      "text/plain": [
       "<IPython.core.display.HTML object>"
      ]
     },
     "metadata": {},
     "output_type": "display_data"
    }
   ],
   "source": [
    "target = get_target_radec()\n",
    "empty_field_coords = get_empty_field(target)\n",
    "logger.info(f\"ICRS Empty field coordinates:\\n\"\n",
    "      f\"  RA  = {empty_field_coords.ra.to_string(u.hour, sep=':')} ;\"\n",
    "      f\" DEC = {empty_field_coords.dec.to_string(u.degree, alwayssign=True, sep=':')}\")"
   ]
  },
  {
   "cell_type": "markdown",
   "id": "e8014c0c",
   "metadata": {},
   "source": [
    "## Slew to Field\n",
    "\n",
    "Now that we have our field, let's point the telescope and the dome to that direction."
   ]
  },
  {
   "cell_type": "code",
   "execution_count": 61,
   "id": "bbacd1dd-c70b-4cd6-9af6-f10bb76ac20b",
   "metadata": {
    "execution": {
     "iopub.execute_input": "2023-05-22T17:06:45.194170Z",
     "iopub.status.busy": "2023-05-22T17:06:45.193794Z",
     "iopub.status.idle": "2023-05-22T17:06:45.204343Z",
     "shell.execute_reply": "2023-05-22T17:06:45.203871Z",
     "shell.execute_reply.started": "2023-05-22T17:06:45.194152Z"
    },
    "tags": []
   },
   "outputs": [
    {
     "data": {
      "text/html": [
       "<pre style=\"margin: 0.1em;\n",
       "padding-left: 0.25em;\n",
       "border-left-style: solid;\n",
       "font-family: var(--jp-code-font-family);\n",
       "font-size: var(--jp-code-font-size);\n",
       "line-height: var(--jp-code-line-height);\n",
       "\"><span style=\"color: var(--jp-warn-color2)\">Sky Flats 2023-05-22 15:16:57.445793 UT</span> <span style=\"color: var(--jp-info-color0)\">INFO</span>: The telescope will be pointed to the empty field AzAlt coordinates:\n",
       " AZ = 178.00 deg deg ; EL = 45.44 deg deg</pre>"
      ],
      "text/plain": [
       "<IPython.core.display.HTML object>"
      ]
     },
     "metadata": {},
     "output_type": "display_data"
    }
   ],
   "source": [
    "empty_field_coords_azel = atcs.azel_from_radec(empty_field_coords.ra, empty_field_coords.dec)\n",
    "logger.info(f\"The telescope will be pointed to the empty field AzAlt coordinates:\\n\"\n",
    "            f\" AZ = {empty_field_coords_azel.az:.2f} deg ;\"\n",
    "            f\" EL = {empty_field_coords_azel.alt:.2f} deg\")"
   ]
  },
  {
   "cell_type": "code",
   "execution_count": 28,
   "id": "1ddb3e58",
   "metadata": {
    "execution": {
     "iopub.execute_input": "2023-05-10T22:28:43.062894Z",
     "iopub.status.busy": "2023-05-10T22:28:43.062525Z",
     "iopub.status.idle": "2023-05-10T22:30:21.463661Z",
     "shell.execute_reply": "2023-05-10T22:30:21.463149Z",
     "shell.execute_reply.started": "2023-05-10T22:28:43.062875Z"
    },
    "tags": []
   },
   "outputs": [
    {
     "data": {
      "text/html": [
       "<pre style=\"margin: 0.1em;\n",
       "padding-left: 0.25em;\n",
       "border-left-style: solid;\n",
       "font-family: var(--jp-code-font-family);\n",
       "font-size: var(--jp-code-font-size);\n",
       "line-height: var(--jp-code-line-height);\n",
       "\"><span style=\"color: var(--jp-warn-color2)\">ATCS</span> <span style=\"color: var(--jp-info-color0)\">INFO</span>: [Tel]: Az = +090.000[ +14.3]; El = +079.990[ -34.1] [Nas1]: +000.000[  -0.0] [Nas2]: +000.015[+149.1] [Dome] Az = +090.460[ +13.9]</pre>"
      ],
      "text/plain": [
       "<IPython.core.display.HTML object>"
      ]
     },
     "metadata": {},
     "output_type": "display_data"
    },
    {
     "data": {
      "text/html": [
       "<pre style=\"margin: 0.1em;\n",
       "padding-left: 0.25em;\n",
       "border-left-style: solid;\n",
       "font-family: var(--jp-code-font-family);\n",
       "font-size: var(--jp-code-font-size);\n",
       "line-height: var(--jp-code-line-height);\n",
       "\"><span style=\"color: var(--jp-warn-color2)\">ATCS</span> <span style=\"color: var(--jp-info-color0)\">INFO</span>: [Tel]: Az = +090.550[ +13.8]; El = +077.796[ -31.9] [Nas1]: +000.000[  -0.0] [Nas2]: +002.389[+146.7] [Dome] Az = +091.180[ +13.1]</pre>"
      ],
      "text/plain": [
       "<IPython.core.display.HTML object>"
      ]
     },
     "metadata": {},
     "output_type": "display_data"
    },
    {
     "data": {
      "text/html": [
       "<pre style=\"margin: 0.1em;\n",
       "padding-left: 0.25em;\n",
       "border-left-style: solid;\n",
       "font-family: var(--jp-code-font-family);\n",
       "font-size: var(--jp-code-font-size);\n",
       "line-height: var(--jp-code-line-height);\n",
       "\"><span style=\"color: var(--jp-warn-color2)\">ATCS</span> <span style=\"color: var(--jp-info-color0)\">INFO</span>: [Tel]: Az = +092.745[ +11.6]; El = +073.813[ -27.9] [Nas1]: +000.000[  -0.0] [Nas2]: +006.390[+142.7] [Dome] Az = +092.810[ +11.5]</pre>"
      ],
      "text/plain": [
       "<IPython.core.display.HTML object>"
      ]
     },
     "metadata": {},
     "output_type": "display_data"
    },
    {
     "data": {
      "text/html": [
       "<pre style=\"margin: 0.1em;\n",
       "padding-left: 0.25em;\n",
       "border-left-style: solid;\n",
       "font-family: var(--jp-code-font-family);\n",
       "font-size: var(--jp-code-font-size);\n",
       "line-height: var(--jp-code-line-height);\n",
       "\"><span style=\"color: var(--jp-warn-color2)\">ATCS</span> <span style=\"color: var(--jp-info-color0)\">INFO</span>: [Tel]: Az = +096.355[  +8.0]; El = +069.884[ -23.9] [Nas1]: -000.000[  +0.0] [Nas2]: +012.390[+136.7] [Dome] Az = +096.990[  +7.3]</pre>"
      ],
      "text/plain": [
       "<IPython.core.display.HTML object>"
      ]
     },
     "metadata": {},
     "output_type": "display_data"
    },
    {
     "data": {
      "text/html": [
       "<pre style=\"margin: 0.1em;\n",
       "padding-left: 0.25em;\n",
       "border-left-style: solid;\n",
       "font-family: var(--jp-code-font-family);\n",
       "font-size: var(--jp-code-font-size);\n",
       "line-height: var(--jp-code-line-height);\n",
       "\"><span style=\"color: var(--jp-warn-color2)\">ATCS</span> <span style=\"color: var(--jp-info-color0)\">INFO</span>: [Tel]: Az = +101.857[  +2.4]; El = +064.187[ -18.2] [Nas1]: +000.000[  -0.0] [Nas2]: +016.386[+132.7] [Dome] Az = +100.270[  +4.0]</pre>"
      ],
      "text/plain": [
       "<IPython.core.display.HTML object>"
      ]
     },
     "metadata": {},
     "output_type": "display_data"
    },
    {
     "data": {
      "text/html": [
       "<pre style=\"margin: 0.1em;\n",
       "padding-left: 0.25em;\n",
       "border-left-style: solid;\n",
       "font-family: var(--jp-code-font-family);\n",
       "font-size: var(--jp-code-font-size);\n",
       "line-height: var(--jp-code-line-height);\n",
       "\"><span style=\"color: var(--jp-warn-color2)\">ATCS</span> <span style=\"color: var(--jp-info-color0)\">INFO</span>: ATDome in position.</pre>"
      ],
      "text/plain": [
       "<IPython.core.display.HTML object>"
      ]
     },
     "metadata": {},
     "output_type": "display_data"
    },
    {
     "data": {
      "text/html": [
       "<pre style=\"margin: 0.1em;\n",
       "padding-left: 0.25em;\n",
       "border-left-style: solid;\n",
       "font-family: var(--jp-code-font-family);\n",
       "font-size: var(--jp-code-font-size);\n",
       "line-height: var(--jp-code-line-height);\n",
       "\"><span style=\"color: var(--jp-warn-color2)\">ATCS</span> <span style=\"color: var(--jp-info-color0)\">INFO</span>: [Tel]: Az = +103.873[  +0.4]; El = +060.610[ -14.7] [Nas1]: +000.000[  -0.0] [Nas2]: +020.393[+128.7] [Dome] Az = +101.180[  +3.1]</pre>"
      ],
      "text/plain": [
       "<IPython.core.display.HTML object>"
      ]
     },
     "metadata": {},
     "output_type": "display_data"
    },
    {
     "data": {
      "text/html": [
       "<pre style=\"margin: 0.1em;\n",
       "padding-left: 0.25em;\n",
       "border-left-style: solid;\n",
       "font-family: var(--jp-code-font-family);\n",
       "font-size: var(--jp-code-font-size);\n",
       "line-height: var(--jp-code-line-height);\n",
       "\"><span style=\"color: var(--jp-warn-color2)\">ATCS</span> <span style=\"color: var(--jp-info-color0)\">INFO</span>: [Tel]: Az = +104.298[  +0.0]; El = +057.302[ -11.3] [Nas1]: -000.000[  +0.0] [Nas2]: +024.390[+124.7] [Dome] Az = +102.100[  +2.2]</pre>"
      ],
      "text/plain": [
       "<IPython.core.display.HTML object>"
      ]
     },
     "metadata": {},
     "output_type": "display_data"
    },
    {
     "data": {
      "text/html": [
       "<pre style=\"margin: 0.1em;\n",
       "padding-left: 0.25em;\n",
       "border-left-style: solid;\n",
       "font-family: var(--jp-code-font-family);\n",
       "font-size: var(--jp-code-font-size);\n",
       "line-height: var(--jp-code-line-height);\n",
       "\"><span style=\"color: var(--jp-warn-color2)\">ATCS</span> <span style=\"color: var(--jp-info-color0)\">INFO</span>: [Tel]: Az = +104.298[  -0.0]; El = +054.336[  -8.4] [Nas1]: -000.000[  +0.0] [Nas2]: +030.385[+118.7] [Dome] Az = +103.400[  +0.9]</pre>"
      ],
      "text/plain": [
       "<IPython.core.display.HTML object>"
      ]
     },
     "metadata": {},
     "output_type": "display_data"
    },
    {
     "data": {
      "text/html": [
       "<pre style=\"margin: 0.1em;\n",
       "padding-left: 0.25em;\n",
       "border-left-style: solid;\n",
       "font-family: var(--jp-code-font-family);\n",
       "font-size: var(--jp-code-font-size);\n",
       "line-height: var(--jp-code-line-height);\n",
       "\"><span style=\"color: var(--jp-warn-color2)\">ATCS</span> <span style=\"color: var(--jp-info-color0)\">INFO</span>: [Tel]: Az = +104.294[  +0.0]; El = +050.672[  -4.7] [Nas1]: -000.000[  +0.0] [Nas2]: +034.393[+114.7] [Dome] Az = +103.890[  +0.4]</pre>"
      ],
      "text/plain": [
       "<IPython.core.display.HTML object>"
      ]
     },
     "metadata": {},
     "output_type": "display_data"
    },
    {
     "data": {
      "text/html": [
       "<pre style=\"margin: 0.1em;\n",
       "padding-left: 0.25em;\n",
       "border-left-style: solid;\n",
       "font-family: var(--jp-code-font-family);\n",
       "font-size: var(--jp-code-font-size);\n",
       "line-height: var(--jp-code-line-height);\n",
       "\"><span style=\"color: var(--jp-warn-color2)\">ATCS</span> <span style=\"color: var(--jp-info-color0)\">INFO</span>: [Tel]: Az = +104.291[  +0.0]; El = +048.826[  -2.8] [Nas1]: -000.000[  +0.0] [Nas2]: +038.390[+110.7] [Dome] Az = +103.890[  +0.4]</pre>"
      ],
      "text/plain": [
       "<IPython.core.display.HTML object>"
      ]
     },
     "metadata": {},
     "output_type": "display_data"
    },
    {
     "data": {
      "text/html": [
       "<pre style=\"margin: 0.1em;\n",
       "padding-left: 0.25em;\n",
       "border-left-style: solid;\n",
       "font-family: var(--jp-code-font-family);\n",
       "font-size: var(--jp-code-font-size);\n",
       "line-height: var(--jp-code-line-height);\n",
       "\"><span style=\"color: var(--jp-warn-color2)\">ATCS</span> <span style=\"color: var(--jp-info-color0)\">INFO</span>: [Tel]: Az = +104.289[  +0.0]; El = +047.480[  -1.5] [Nas1]: -000.000[  +0.0] [Nas2]: +042.388[+106.7] [Dome] Az = +103.890[  +0.4]</pre>"
      ],
      "text/plain": [
       "<IPython.core.display.HTML object>"
      ]
     },
     "metadata": {},
     "output_type": "display_data"
    },
    {
     "data": {
      "text/html": [
       "<pre style=\"margin: 0.1em;\n",
       "padding-left: 0.25em;\n",
       "border-left-style: solid;\n",
       "font-family: var(--jp-code-font-family);\n",
       "font-size: var(--jp-code-font-size);\n",
       "line-height: var(--jp-code-line-height);\n",
       "\"><span style=\"color: var(--jp-warn-color2)\">ATCS</span> <span style=\"color: var(--jp-info-color0)\">INFO</span>: [Tel]: Az = +104.286[  +0.0]; El = +046.613[  -0.6] [Nas1]: -000.000[  +0.0] [Nas2]: +046.388[+102.7] [Dome] Az = +103.890[  +0.4]</pre>"
      ],
      "text/plain": [
       "<IPython.core.display.HTML object>"
      ]
     },
     "metadata": {},
     "output_type": "display_data"
    },
    {
     "data": {
      "text/html": [
       "<pre style=\"margin: 0.1em;\n",
       "padding-left: 0.25em;\n",
       "border-left-style: solid;\n",
       "font-family: var(--jp-code-font-family);\n",
       "font-size: var(--jp-code-font-size);\n",
       "line-height: var(--jp-code-line-height);\n",
       "\"><span style=\"color: var(--jp-warn-color2)\">ATCS</span> <span style=\"color: var(--jp-info-color0)\">INFO</span>: [Tel]: Az = +104.284[  +0.0]; El = +046.165[  -0.2] [Nas1]: -000.000[  +0.0] [Nas2]: +050.392[ +98.7] [Dome] Az = +103.890[  +0.4]</pre>"
      ],
      "text/plain": [
       "<IPython.core.display.HTML object>"
      ]
     },
     "metadata": {},
     "output_type": "display_data"
    },
    {
     "data": {
      "text/html": [
       "<pre style=\"margin: 0.1em;\n",
       "padding-left: 0.25em;\n",
       "border-left-style: solid;\n",
       "font-family: var(--jp-code-font-family);\n",
       "font-size: var(--jp-code-font-size);\n",
       "line-height: var(--jp-code-line-height);\n",
       "\"><span style=\"color: var(--jp-warn-color2)\">ATCS</span> <span style=\"color: var(--jp-info-color0)\">INFO</span>: [Tel]: Az = +104.281[  +0.0]; El = +046.027[  -0.0] [Nas1]: -000.000[  +0.0] [Nas2]: +054.392[ +94.7] [Dome] Az = +103.890[  +0.4]</pre>"
      ],
      "text/plain": [
       "<IPython.core.display.HTML object>"
      ]
     },
     "metadata": {},
     "output_type": "display_data"
    },
    {
     "data": {
      "text/html": [
       "<pre style=\"margin: 0.1em;\n",
       "padding-left: 0.25em;\n",
       "border-left-style: solid;\n",
       "font-family: var(--jp-code-font-family);\n",
       "font-size: var(--jp-code-font-size);\n",
       "line-height: var(--jp-code-line-height);\n",
       "\"><span style=\"color: var(--jp-warn-color2)\">ATCS</span> <span style=\"color: var(--jp-info-color0)\">INFO</span>: [Tel]: Az = +104.279[  +0.0]; El = +046.022[  -0.0] [Nas1]: +000.000[  -0.0] [Nas2]: +060.385[ +88.8] [Dome] Az = +103.890[  +0.4]</pre>"
      ],
      "text/plain": [
       "<IPython.core.display.HTML object>"
      ]
     },
     "metadata": {},
     "output_type": "display_data"
    },
    {
     "data": {
      "text/html": [
       "<pre style=\"margin: 0.1em;\n",
       "padding-left: 0.25em;\n",
       "border-left-style: solid;\n",
       "font-family: var(--jp-code-font-family);\n",
       "font-size: var(--jp-code-font-size);\n",
       "line-height: var(--jp-code-line-height);\n",
       "\"><span style=\"color: var(--jp-warn-color2)\">ATCS</span> <span style=\"color: var(--jp-info-color0)\">INFO</span>: [Tel]: Az = +104.277[  -0.0]; El = +046.031[  +0.0] [Nas1]: -000.000[  +0.0] [Nas2]: +064.392[ +84.8] [Dome] Az = +103.890[  +0.4]</pre>"
      ],
      "text/plain": [
       "<IPython.core.display.HTML object>"
      ]
     },
     "metadata": {},
     "output_type": "display_data"
    },
    {
     "data": {
      "text/html": [
       "<pre style=\"margin: 0.1em;\n",
       "padding-left: 0.25em;\n",
       "border-left-style: solid;\n",
       "font-family: var(--jp-code-font-family);\n",
       "font-size: var(--jp-code-font-size);\n",
       "line-height: var(--jp-code-line-height);\n",
       "\"><span style=\"color: var(--jp-warn-color2)\">ATCS</span> <span style=\"color: var(--jp-info-color0)\">INFO</span>: [Tel]: Az = +104.273[  +0.0]; El = +046.041[  -0.0] [Nas1]: +000.000[  -0.0] [Nas2]: +068.390[ +80.8] [Dome] Az = +103.890[  +0.4]</pre>"
      ],
      "text/plain": [
       "<IPython.core.display.HTML object>"
      ]
     },
     "metadata": {},
     "output_type": "display_data"
    },
    {
     "data": {
      "text/html": [
       "<pre style=\"margin: 0.1em;\n",
       "padding-left: 0.25em;\n",
       "border-left-style: solid;\n",
       "font-family: var(--jp-code-font-family);\n",
       "font-size: var(--jp-code-font-size);\n",
       "line-height: var(--jp-code-line-height);\n",
       "\"><span style=\"color: var(--jp-warn-color2)\">ATCS</span> <span style=\"color: var(--jp-info-color0)\">INFO</span>: [Tel]: Az = +104.271[  +0.0]; El = +046.048[  -0.0] [Nas1]: -000.000[  +0.0] [Nas2]: +072.386[ +76.8] [Dome] Az = +103.890[  +0.4]</pre>"
      ],
      "text/plain": [
       "<IPython.core.display.HTML object>"
      ]
     },
     "metadata": {},
     "output_type": "display_data"
    },
    {
     "data": {
      "text/html": [
       "<pre style=\"margin: 0.1em;\n",
       "padding-left: 0.25em;\n",
       "border-left-style: solid;\n",
       "font-family: var(--jp-code-font-family);\n",
       "font-size: var(--jp-code-font-size);\n",
       "line-height: var(--jp-code-line-height);\n",
       "\"><span style=\"color: var(--jp-warn-color2)\">ATCS</span> <span style=\"color: var(--jp-info-color0)\">INFO</span>: [Tel]: Az = +104.269[  +0.0]; El = +046.055[  -0.0] [Nas1]: +000.000[  -0.0] [Nas2]: +076.389[ +72.8] [Dome] Az = +103.890[  +0.4]</pre>"
      ],
      "text/plain": [
       "<IPython.core.display.HTML object>"
      ]
     },
     "metadata": {},
     "output_type": "display_data"
    },
    {
     "data": {
      "text/html": [
       "<pre style=\"margin: 0.1em;\n",
       "padding-left: 0.25em;\n",
       "border-left-style: solid;\n",
       "font-family: var(--jp-code-font-family);\n",
       "font-size: var(--jp-code-font-size);\n",
       "line-height: var(--jp-code-line-height);\n",
       "\"><span style=\"color: var(--jp-warn-color2)\">ATCS</span> <span style=\"color: var(--jp-info-color0)\">INFO</span>: [Tel]: Az = +104.266[  +0.0]; El = +046.062[  -0.0] [Nas1]: -000.000[  +0.0] [Nas2]: +082.391[ +66.8] [Dome] Az = +103.890[  +0.4]</pre>"
      ],
      "text/plain": [
       "<IPython.core.display.HTML object>"
      ]
     },
     "metadata": {},
     "output_type": "display_data"
    },
    {
     "data": {
      "text/html": [
       "<pre style=\"margin: 0.1em;\n",
       "padding-left: 0.25em;\n",
       "border-left-style: solid;\n",
       "font-family: var(--jp-code-font-family);\n",
       "font-size: var(--jp-code-font-size);\n",
       "line-height: var(--jp-code-line-height);\n",
       "\"><span style=\"color: var(--jp-warn-color2)\">ATCS</span> <span style=\"color: var(--jp-info-color0)\">INFO</span>: [Tel]: Az = +104.263[  +0.0]; El = +046.073[  -0.0] [Nas1]: +000.000[  -0.0] [Nas2]: +088.387[ +60.8] [Dome] Az = +103.890[  +0.4]</pre>"
      ],
      "text/plain": [
       "<IPython.core.display.HTML object>"
      ]
     },
     "metadata": {},
     "output_type": "display_data"
    },
    {
     "data": {
      "text/html": [
       "<pre style=\"margin: 0.1em;\n",
       "padding-left: 0.25em;\n",
       "border-left-style: solid;\n",
       "font-family: var(--jp-code-font-family);\n",
       "font-size: var(--jp-code-font-size);\n",
       "line-height: var(--jp-code-line-height);\n",
       "\"><span style=\"color: var(--jp-warn-color2)\">ATCS</span> <span style=\"color: var(--jp-info-color0)\">INFO</span>: [Tel]: Az = +104.259[  +0.0]; El = +046.083[  -0.0] [Nas1]: -000.000[  +0.0] [Nas2]: +092.391[ +56.8] [Dome] Az = +103.890[  +0.4]</pre>"
      ],
      "text/plain": [
       "<IPython.core.display.HTML object>"
      ]
     },
     "metadata": {},
     "output_type": "display_data"
    },
    {
     "data": {
      "text/html": [
       "<pre style=\"margin: 0.1em;\n",
       "padding-left: 0.25em;\n",
       "border-left-style: solid;\n",
       "font-family: var(--jp-code-font-family);\n",
       "font-size: var(--jp-code-font-size);\n",
       "line-height: var(--jp-code-line-height);\n",
       "\"><span style=\"color: var(--jp-warn-color2)\">ATCS</span> <span style=\"color: var(--jp-info-color0)\">INFO</span>: [Tel]: Az = +104.257[  +0.0]; El = +046.090[  -0.0] [Nas1]: +000.000[  -0.0] [Nas2]: +096.391[ +52.8] [Dome] Az = +103.890[  +0.4]</pre>"
      ],
      "text/plain": [
       "<IPython.core.display.HTML object>"
      ]
     },
     "metadata": {},
     "output_type": "display_data"
    },
    {
     "data": {
      "text/html": [
       "<pre style=\"margin: 0.1em;\n",
       "padding-left: 0.25em;\n",
       "border-left-style: solid;\n",
       "font-family: var(--jp-code-font-family);\n",
       "font-size: var(--jp-code-font-size);\n",
       "line-height: var(--jp-code-line-height);\n",
       "\"><span style=\"color: var(--jp-warn-color2)\">ATCS</span> <span style=\"color: var(--jp-info-color0)\">INFO</span>: [Tel]: Az = +104.254[  +0.0]; El = +046.097[  -0.0] [Nas1]: -000.000[  +0.0] [Nas2]: +102.386[ +46.8] [Dome] Az = +103.890[  +0.4]</pre>"
      ],
      "text/plain": [
       "<IPython.core.display.HTML object>"
      ]
     },
     "metadata": {},
     "output_type": "display_data"
    },
    {
     "data": {
      "text/html": [
       "<pre style=\"margin: 0.1em;\n",
       "padding-left: 0.25em;\n",
       "border-left-style: solid;\n",
       "font-family: var(--jp-code-font-family);\n",
       "font-size: var(--jp-code-font-size);\n",
       "line-height: var(--jp-code-line-height);\n",
       "\"><span style=\"color: var(--jp-warn-color2)\">ATCS</span> <span style=\"color: var(--jp-info-color0)\">INFO</span>: [Tel]: Az = +104.251[  +0.0]; El = +046.108[  -0.0] [Nas1]: +000.000[  -0.0] [Nas2]: +106.393[ +42.8] [Dome] Az = +103.890[  +0.4]</pre>"
      ],
      "text/plain": [
       "<IPython.core.display.HTML object>"
      ]
     },
     "metadata": {},
     "output_type": "display_data"
    },
    {
     "data": {
      "text/html": [
       "<pre style=\"margin: 0.1em;\n",
       "padding-left: 0.25em;\n",
       "border-left-style: solid;\n",
       "font-family: var(--jp-code-font-family);\n",
       "font-size: var(--jp-code-font-size);\n",
       "line-height: var(--jp-code-line-height);\n",
       "\"><span style=\"color: var(--jp-warn-color2)\">ATCS</span> <span style=\"color: var(--jp-info-color0)\">INFO</span>: [Tel]: Az = +104.249[  +0.0]; El = +046.115[  -0.0] [Nas1]: +000.000[  -0.0] [Nas2]: +112.389[ +36.8] [Dome] Az = +103.890[  +0.4]</pre>"
      ],
      "text/plain": [
       "<IPython.core.display.HTML object>"
      ]
     },
     "metadata": {},
     "output_type": "display_data"
    },
    {
     "data": {
      "text/html": [
       "<pre style=\"margin: 0.1em;\n",
       "padding-left: 0.25em;\n",
       "border-left-style: solid;\n",
       "font-family: var(--jp-code-font-family);\n",
       "font-size: var(--jp-code-font-size);\n",
       "line-height: var(--jp-code-line-height);\n",
       "\"><span style=\"color: var(--jp-warn-color2)\">ATCS</span> <span style=\"color: var(--jp-info-color0)\">INFO</span>: [Tel]: Az = +104.245[  +0.0]; El = +046.125[  -0.0] [Nas1]: -000.000[  +0.0] [Nas2]: +116.388[ +32.8] [Dome] Az = +103.890[  +0.4]</pre>"
      ],
      "text/plain": [
       "<IPython.core.display.HTML object>"
      ]
     },
     "metadata": {},
     "output_type": "display_data"
    },
    {
     "data": {
      "text/html": [
       "<pre style=\"margin: 0.1em;\n",
       "padding-left: 0.25em;\n",
       "border-left-style: solid;\n",
       "font-family: var(--jp-code-font-family);\n",
       "font-size: var(--jp-code-font-size);\n",
       "line-height: var(--jp-code-line-height);\n",
       "\"><span style=\"color: var(--jp-warn-color2)\">ATCS</span> <span style=\"color: var(--jp-info-color0)\">INFO</span>: [Tel]: Az = +104.243[  +0.0]; El = +046.132[  -0.0] [Nas1]: +000.000[  -0.0] [Nas2]: +120.394[ +28.8] [Dome] Az = +103.890[  +0.4]</pre>"
      ],
      "text/plain": [
       "<IPython.core.display.HTML object>"
      ]
     },
     "metadata": {},
     "output_type": "display_data"
    },
    {
     "data": {
      "text/html": [
       "<pre style=\"margin: 0.1em;\n",
       "padding-left: 0.25em;\n",
       "border-left-style: solid;\n",
       "font-family: var(--jp-code-font-family);\n",
       "font-size: var(--jp-code-font-size);\n",
       "line-height: var(--jp-code-line-height);\n",
       "\"><span style=\"color: var(--jp-warn-color2)\">ATCS</span> <span style=\"color: var(--jp-info-color0)\">INFO</span>: [Tel]: Az = +104.240[  +0.0]; El = +046.139[  -0.0] [Nas1]: -000.000[  +0.0] [Nas2]: +126.370[ +22.8] [Dome] Az = +103.890[  +0.4]</pre>"
      ],
      "text/plain": [
       "<IPython.core.display.HTML object>"
      ]
     },
     "metadata": {},
     "output_type": "display_data"
    },
    {
     "data": {
      "text/html": [
       "<pre style=\"margin: 0.1em;\n",
       "padding-left: 0.25em;\n",
       "border-left-style: solid;\n",
       "font-family: var(--jp-code-font-family);\n",
       "font-size: var(--jp-code-font-size);\n",
       "line-height: var(--jp-code-line-height);\n",
       "\"><span style=\"color: var(--jp-warn-color2)\">ATCS</span> <span style=\"color: var(--jp-info-color0)\">INFO</span>: [Tel]: Az = +104.237[  +0.0]; El = +046.150[  -0.0] [Nas1]: +000.000[  -0.0] [Nas2]: +130.263[ +19.0] [Dome] Az = +103.890[  +0.4]</pre>"
      ],
      "text/plain": [
       "<IPython.core.display.HTML object>"
      ]
     },
     "metadata": {},
     "output_type": "display_data"
    },
    {
     "data": {
      "text/html": [
       "<pre style=\"margin: 0.1em;\n",
       "padding-left: 0.25em;\n",
       "border-left-style: solid;\n",
       "font-family: var(--jp-code-font-family);\n",
       "font-size: var(--jp-code-font-size);\n",
       "line-height: var(--jp-code-line-height);\n",
       "\"><span style=\"color: var(--jp-warn-color2)\">ATCS</span> <span style=\"color: var(--jp-info-color0)\">INFO</span>: [Tel]: Az = +104.234[  +0.0]; El = +046.157[  -0.0] [Nas1]: -000.000[  +0.0] [Nas2]: +134.000[ +15.2] [Dome] Az = +103.890[  +0.4]</pre>"
      ],
      "text/plain": [
       "<IPython.core.display.HTML object>"
      ]
     },
     "metadata": {},
     "output_type": "display_data"
    },
    {
     "data": {
      "text/html": [
       "<pre style=\"margin: 0.1em;\n",
       "padding-left: 0.25em;\n",
       "border-left-style: solid;\n",
       "font-family: var(--jp-code-font-family);\n",
       "font-size: var(--jp-code-font-size);\n",
       "line-height: var(--jp-code-line-height);\n",
       "\"><span style=\"color: var(--jp-warn-color2)\">ATCS</span> <span style=\"color: var(--jp-info-color0)\">INFO</span>: [Tel]: Az = +104.232[  +0.0]; El = +046.164[  -0.0] [Nas1]: +000.000[  -0.0] [Nas2]: +139.116[ +10.1] [Dome] Az = +103.890[  +0.4]</pre>"
      ],
      "text/plain": [
       "<IPython.core.display.HTML object>"
      ]
     },
     "metadata": {},
     "output_type": "display_data"
    },
    {
     "data": {
      "text/html": [
       "<pre style=\"margin: 0.1em;\n",
       "padding-left: 0.25em;\n",
       "border-left-style: solid;\n",
       "font-family: var(--jp-code-font-family);\n",
       "font-size: var(--jp-code-font-size);\n",
       "line-height: var(--jp-code-line-height);\n",
       "\"><span style=\"color: var(--jp-warn-color2)\">ATCS</span> <span style=\"color: var(--jp-info-color0)\">INFO</span>: [Tel]: Az = +104.229[  +0.0]; El = +046.174[  -0.0] [Nas1]: -000.000[  +0.0] [Nas2]: +143.338[  +5.9] [Dome] Az = +103.890[  +0.4]</pre>"
      ],
      "text/plain": [
       "<IPython.core.display.HTML object>"
      ]
     },
     "metadata": {},
     "output_type": "display_data"
    },
    {
     "data": {
      "text/html": [
       "<pre style=\"margin: 0.1em;\n",
       "padding-left: 0.25em;\n",
       "border-left-style: solid;\n",
       "font-family: var(--jp-code-font-family);\n",
       "font-size: var(--jp-code-font-size);\n",
       "line-height: var(--jp-code-line-height);\n",
       "\"><span style=\"color: var(--jp-warn-color2)\">ATCS</span> <span style=\"color: var(--jp-info-color0)\">INFO</span>: [Tel]: Az = +104.225[  +0.0]; El = +046.185[  -0.0] [Nas1]: -000.000[  +0.0] [Nas2]: +145.550[  +3.7] [Dome] Az = +103.890[  +0.4]</pre>"
      ],
      "text/plain": [
       "<IPython.core.display.HTML object>"
      ]
     },
     "metadata": {},
     "output_type": "display_data"
    },
    {
     "data": {
      "text/html": [
       "<pre style=\"margin: 0.1em;\n",
       "padding-left: 0.25em;\n",
       "border-left-style: solid;\n",
       "font-family: var(--jp-code-font-family);\n",
       "font-size: var(--jp-code-font-size);\n",
       "line-height: var(--jp-code-line-height);\n",
       "\"><span style=\"color: var(--jp-warn-color2)\">ATCS</span> <span style=\"color: var(--jp-info-color0)\">INFO</span>: [Tel]: Az = +104.223[  +0.0]; El = +046.192[  -0.0] [Nas1]: -000.000[  +0.0] [Nas2]: +147.216[  +2.0] [Dome] Az = +103.890[  +0.4]</pre>"
      ],
      "text/plain": [
       "<IPython.core.display.HTML object>"
      ]
     },
     "metadata": {},
     "output_type": "display_data"
    },
    {
     "data": {
      "text/html": [
       "<pre style=\"margin: 0.1em;\n",
       "padding-left: 0.25em;\n",
       "border-left-style: solid;\n",
       "font-family: var(--jp-code-font-family);\n",
       "font-size: var(--jp-code-font-size);\n",
       "line-height: var(--jp-code-line-height);\n",
       "\"><span style=\"color: var(--jp-warn-color2)\">ATCS</span> <span style=\"color: var(--jp-info-color0)\">INFO</span>: [Tel]: Az = +104.220[  +0.0]; El = +046.199[  -0.0] [Nas1]: +000.000[  -0.0] [Nas2]: +148.343[  +0.9] [Dome] Az = +103.890[  +0.4]</pre>"
      ],
      "text/plain": [
       "<IPython.core.display.HTML object>"
      ]
     },
     "metadata": {},
     "output_type": "display_data"
    },
    {
     "data": {
      "text/html": [
       "<pre style=\"margin: 0.1em;\n",
       "padding-left: 0.25em;\n",
       "border-left-style: solid;\n",
       "font-family: var(--jp-code-font-family);\n",
       "font-size: var(--jp-code-font-size);\n",
       "line-height: var(--jp-code-line-height);\n",
       "\"><span style=\"color: var(--jp-warn-color2)\">ATCS</span> <span style=\"color: var(--jp-info-color0)\">INFO</span>: [Tel]: Az = +104.218[  +0.0]; El = +046.206[  -0.0] [Nas1]: +000.000[  -0.0] [Nas2]: +149.147[  +0.1] [Dome] Az = +103.890[  +0.4]</pre>"
      ],
      "text/plain": [
       "<IPython.core.display.HTML object>"
      ]
     },
     "metadata": {},
     "output_type": "display_data"
    },
    {
     "data": {
      "text/html": [
       "<pre style=\"margin: 0.1em;\n",
       "padding-left: 0.25em;\n",
       "border-left-style: solid;\n",
       "font-family: var(--jp-code-font-family);\n",
       "font-size: var(--jp-code-font-size);\n",
       "line-height: var(--jp-code-line-height);\n",
       "\"><span style=\"color: var(--jp-warn-color2)\">ATCS</span> <span style=\"color: var(--jp-info-color0)\">INFO</span>: [Tel]: Az = +104.214[  +0.0]; El = +046.216[  -0.0] [Nas1]: -000.000[  +0.0] [Nas2]: +149.267[  -0.0] [Dome] Az = +103.890[  +0.4]</pre>"
      ],
      "text/plain": [
       "<IPython.core.display.HTML object>"
      ]
     },
     "metadata": {},
     "output_type": "display_data"
    },
    {
     "data": {
      "text/html": [
       "<pre style=\"margin: 0.1em;\n",
       "padding-left: 0.25em;\n",
       "border-left-style: solid;\n",
       "font-family: var(--jp-code-font-family);\n",
       "font-size: var(--jp-code-font-size);\n",
       "line-height: var(--jp-code-line-height);\n",
       "\"><span style=\"color: var(--jp-warn-color2)\">ATCS</span> <span style=\"color: var(--jp-info-color0)\">INFO</span>: ATMCS in position: True.</pre>"
      ],
      "text/plain": [
       "<IPython.core.display.HTML object>"
      ]
     },
     "metadata": {},
     "output_type": "display_data"
    },
    {
     "data": {
      "text/html": [
       "<pre style=\"margin: 0.1em;\n",
       "padding-left: 0.25em;\n",
       "border-left-style: solid;\n",
       "font-family: var(--jp-code-font-family);\n",
       "font-size: var(--jp-code-font-size);\n",
       "line-height: var(--jp-code-line-height);\n",
       "\"><span style=\"color: var(--jp-warn-color2)\">ATCS</span> <span style=\"color: var(--jp-info-color0)\">INFO</span>: [Tel]: Az = +104.211[  +0.0]; El = +046.227[  -0.0] [Nas1]: -000.000[  +0.0] [Nas2]: +149.271[  -0.0] [Dome] Az = +103.890[  +0.4]</pre>"
      ],
      "text/plain": [
       "<IPython.core.display.HTML object>"
      ]
     },
     "metadata": {},
     "output_type": "display_data"
    },
    {
     "data": {
      "text/html": [
       "<pre style=\"margin: 0.1em;\n",
       "padding-left: 0.25em;\n",
       "border-left-style: solid;\n",
       "font-family: var(--jp-code-font-family);\n",
       "font-size: var(--jp-code-font-size);\n",
       "line-height: var(--jp-code-line-height);\n",
       "\"><span style=\"color: var(--jp-warn-color2)\">ATCS</span> <span style=\"color: var(--jp-info-color0)\">INFO</span>: [Tel]: Az = +104.209[  +0.0]; El = +046.234[  -0.0] [Nas1]: -000.000[  +0.0] [Nas2]: +149.276[  -0.0] [Dome] Az = +103.890[  +0.4]</pre>"
      ],
      "text/plain": [
       "<IPython.core.display.HTML object>"
      ]
     },
     "metadata": {},
     "output_type": "display_data"
    },
    {
     "data": {
      "text/html": [
       "<pre style=\"margin: 0.1em;\n",
       "padding-left: 0.25em;\n",
       "border-left-style: solid;\n",
       "font-family: var(--jp-code-font-family);\n",
       "font-size: var(--jp-code-font-size);\n",
       "line-height: var(--jp-code-line-height);\n",
       "\"><span style=\"color: var(--jp-warn-color2)\">ATCS</span> <span style=\"color: var(--jp-info-color0)\">INFO</span>: [Tel]: Az = +104.206[  +0.0]; El = +046.241[  -0.0] [Nas1]: -000.000[  +0.0] [Nas2]: +149.280[  -0.0] [Dome] Az = +103.890[  +0.4]</pre>"
      ],
      "text/plain": [
       "<IPython.core.display.HTML object>"
      ]
     },
     "metadata": {},
     "output_type": "display_data"
    },
    {
     "data": {
      "text/plain": [
       "(<ICRS Coordinate: (ra, dec) in deg\n",
       "     (186.277, -30.56830556)>,\n",
       " <Angle 0. deg>)"
      ]
     },
     "execution_count": 28,
     "metadata": {},
     "output_type": "execute_result"
    }
   ],
   "source": [
    "await atcs.slew_icrs(empty_field_coords.ra, empty_field_coords.dec)"
   ]
  },
  {
   "cell_type": "markdown",
   "id": "9d711c19-61ca-4f05-bba6-623ae315ecb0",
   "metadata": {},
   "source": [
    "## Define filter, minimum counts and offsets between images\n",
    "\n",
    "Need at least 10K ADU per pixel for each band."
   ]
  },
  {
   "cell_type": "code",
   "execution_count": 35,
   "id": "d84f0863-9925-458b-8c81-56bba8c4b255",
   "metadata": {
    "execution": {
     "iopub.execute_input": "2023-05-22T16:02:30.253040Z",
     "iopub.status.busy": "2023-05-22T16:02:30.252678Z",
     "iopub.status.idle": "2023-05-22T16:02:30.256106Z",
     "shell.execute_reply": "2023-05-22T16:02:30.255628Z",
     "shell.execute_reply.started": "2023-05-22T16:02:30.253021Z"
    },
    "tags": []
   },
   "outputs": [],
   "source": [
    "order = [1,2,3,0]\n",
    "filters = np.array(inst_setup[0])[order]"
   ]
  },
  {
   "cell_type": "code",
   "execution_count": 37,
   "id": "5e95cf3a-0fbf-46af-af8a-560872efc22c",
   "metadata": {
    "execution": {
     "iopub.execute_input": "2023-05-10T22:34:18.772409Z",
     "iopub.status.busy": "2023-05-10T22:34:18.772052Z",
     "iopub.status.idle": "2023-05-10T22:34:18.775294Z",
     "shell.execute_reply": "2023-05-10T22:34:18.774824Z",
     "shell.execute_reply.started": "2023-05-10T22:34:18.772389Z"
    },
    "tags": []
   },
   "outputs": [],
   "source": [
    "dither_offset = 30\n",
    "min_counts_above_bias = 15000\n",
    "multiple_factor = 1.5 "
   ]
  },
  {
   "cell_type": "code",
   "execution_count": 36,
   "id": "bc7dda33-7ad1-4218-b18d-fae0eae11e91",
   "metadata": {
    "execution": {
     "iopub.execute_input": "2023-05-22T16:02:32.625185Z",
     "iopub.status.busy": "2023-05-22T16:02:32.624805Z",
     "iopub.status.idle": "2023-05-22T16:02:32.628343Z",
     "shell.execute_reply": "2023-05-22T16:02:32.627866Z",
     "shell.execute_reply.started": "2023-05-22T16:02:32.625167Z"
    },
    "tags": []
   },
   "outputs": [],
   "source": [
    "# !!!! Change this with Erik !!!\n",
    "starting_exposure_time = {filters[0]:1, filters[1]:4, filters[2]:8, filters[3]:8}"
   ]
  },
  {
   "cell_type": "code",
   "execution_count": 37,
   "id": "495f4f7a-0f3c-49fb-b152-0ed3e45487ca",
   "metadata": {
    "execution": {
     "iopub.execute_input": "2023-05-22T16:02:35.459124Z",
     "iopub.status.busy": "2023-05-22T16:02:35.458718Z",
     "iopub.status.idle": "2023-05-22T16:02:35.463381Z",
     "shell.execute_reply": "2023-05-22T16:02:35.462892Z",
     "shell.execute_reply.started": "2023-05-22T16:02:35.459106Z"
    },
    "tags": []
   },
   "outputs": [
    {
     "data": {
      "text/html": [
       "<pre style=\"margin: 0.1em;\n",
       "padding-left: 0.25em;\n",
       "border-left-style: solid;\n",
       "font-family: var(--jp-code-font-family);\n",
       "font-size: var(--jp-code-font-size);\n",
       "line-height: var(--jp-code-line-height);\n",
       "\"><span style=\"color: var(--jp-warn-color2)\">Sky Flats 2023-05-22 15:16:57.445793 UT</span> <span style=\"color: var(--jp-info-color0)\">INFO</span>: The starting exposure time for each filter is \n",
       "SDSSg_65mm: 2 seconds\n",
       "SDSSr_65mm: 4 seconds\n",
       "SDSSi_65mm: 8 seconds\n",
       "empty_1: 8 seconds</pre>"
      ],
      "text/plain": [
       "<IPython.core.display.HTML object>"
      ]
     },
     "metadata": {},
     "output_type": "display_data"
    }
   ],
   "source": [
    "newline = \"\\n\"  # \\escapes are not allowed inside f-strings\n",
    "logger.info(f'The starting exposure time for each filter is \\n'\n",
    "            f'{newline.join(f\"{key}: {value} seconds\" for key, value in starting_exposure_time.items())}')"
   ]
  },
  {
   "cell_type": "markdown",
   "id": "301ceae4",
   "metadata": {
    "tags": []
   },
   "source": [
    "## Find first image\n",
    "\n",
    "Here is where we check image saturation. We take an image with some short exposure time with the bluest filter, check how many pixels on each detector are saturated, check how many counts do we have in each detector, and once we have high but not saturated signal is all detectors and in most of the pixels, we move forward."
   ]
  },
  {
   "cell_type": "code",
   "execution_count": 33,
   "id": "4d4d575c",
   "metadata": {
    "execution": {
     "iopub.execute_input": "2023-05-10T22:30:45.917538Z",
     "iopub.status.busy": "2023-05-10T22:30:45.917185Z",
     "iopub.status.idle": "2023-05-10T22:31:00.841653Z",
     "shell.execute_reply": "2023-05-10T22:31:00.841072Z",
     "shell.execute_reply.started": "2023-05-10T22:30:45.917518Z"
    },
    "tags": []
   },
   "outputs": [
    {
     "name": "stdout",
     "output_type": "stream",
     "text": [
      "The test exposure is 2023051000005 with SDSSg_65mm\n"
     ]
    },
    {
     "data": {
      "text/html": [
       "<pre style=\"margin: 0.1em;\n",
       "padding-left: 0.25em;\n",
       "border-left-style: solid;\n",
       "font-family: var(--jp-code-font-family);\n",
       "font-size: var(--jp-code-font-size);\n",
       "line-height: var(--jp-code-line-height);\n",
       "\"><span style=\"color: var(--jp-warn-color2)\">Sky Flats 2023-05-10 22:07:12.149261 UT</span> <span style=\"color: var(--jp-error-color2)\">ERROR</span>: Could not get new image from butler. Waiting 1 seconds and trying again.</pre><pre style=\"margin: 0.1em;\n",
       "padding-left: 0.25em;\n",
       "border-left-style: solid;\n",
       "font-family: var(--jp-code-font-family);\n",
       "font-size: var(--jp-code-font-size);\n",
       "line-height: var(--jp-code-line-height);\n",
       "\">Traceback (most recent call last):\n",
       "  File \"/tmp/ipykernel_13317/3420654075.py\", line 35, in verify_counts\n",
       "    exp = butler.get('raw', dataId=dataId)\n",
       "  File \"/opt/lsst/software/stack/stack/miniconda3-py38_4.9.2-6.0.0/Linux64/daf_butler/gf80a4f1b81+02c8b8cb00/python/lsst/daf/butler/_butler.py\", line 1446, in get\n",
       "    ref = self._findDatasetRef(datasetRefOrType, dataId, collections=collections, **kwargs)\n",
       "  File \"/opt/lsst/software/stack/stack/miniconda3-py38_4.9.2-6.0.0/Linux64/daf_butler/gf80a4f1b81+02c8b8cb00/python/lsst/daf/butler/_butler.py\", line 1102, in _findDatasetRef\n",
       "    raise LookupError(\n",
       "LookupError: Dataset raw with data ID {instrument: 'LATISS', detector: 0, exposure: 2023051000005} could not be found in collections ('LATISS/raw/all',).\n",
       "</pre>"
      ],
      "text/plain": [
       "<IPython.core.display.HTML object>"
      ]
     },
     "metadata": {},
     "output_type": "display_data"
    },
    {
     "data": {
      "text/html": [
       "<pre style=\"margin: 0.1em;\n",
       "padding-left: 0.25em;\n",
       "border-left-style: solid;\n",
       "font-family: var(--jp-code-font-family);\n",
       "font-size: var(--jp-code-font-size);\n",
       "line-height: var(--jp-code-line-height);\n",
       "\"><span style=\"color: var(--jp-warn-color2)\">ATHeaderService.logevent_logMessage</span> <span style=\"color: var(--jp-warn-color0)\">WARNING</span>: evt_logMessage DDS read queue is filling: 11 of 100 elements</pre>"
      ],
      "text/plain": [
       "<IPython.core.display.HTML object>"
      ]
     },
     "metadata": {},
     "output_type": "display_data"
    },
    {
     "data": {
      "text/html": [
       "<pre style=\"margin: 0.1em;\n",
       "padding-left: 0.25em;\n",
       "border-left-style: solid;\n",
       "font-family: var(--jp-code-font-family);\n",
       "font-size: var(--jp-code-font-size);\n",
       "line-height: var(--jp-code-line-height);\n",
       "\"><span style=\"color: var(--jp-warn-color2)\">Sky Flats 2023-05-10 22:07:12.149261 UT</span> <span style=\"color: var(--jp-error-color2)\">ERROR</span>: Could not get new image from butler. Waiting 1 seconds and trying again.</pre><pre style=\"margin: 0.1em;\n",
       "padding-left: 0.25em;\n",
       "border-left-style: solid;\n",
       "font-family: var(--jp-code-font-family);\n",
       "font-size: var(--jp-code-font-size);\n",
       "line-height: var(--jp-code-line-height);\n",
       "\">Traceback (most recent call last):\n",
       "  File \"/tmp/ipykernel_13317/3420654075.py\", line 35, in verify_counts\n",
       "    exp = butler.get('raw', dataId=dataId)\n",
       "  File \"/opt/lsst/software/stack/stack/miniconda3-py38_4.9.2-6.0.0/Linux64/daf_butler/gf80a4f1b81+02c8b8cb00/python/lsst/daf/butler/_butler.py\", line 1446, in get\n",
       "    ref = self._findDatasetRef(datasetRefOrType, dataId, collections=collections, **kwargs)\n",
       "  File \"/opt/lsst/software/stack/stack/miniconda3-py38_4.9.2-6.0.0/Linux64/daf_butler/gf80a4f1b81+02c8b8cb00/python/lsst/daf/butler/_butler.py\", line 1102, in _findDatasetRef\n",
       "    raise LookupError(\n",
       "LookupError: Dataset raw with data ID {instrument: 'LATISS', detector: 0, exposure: 2023051000005} could not be found in collections ('LATISS/raw/all',).\n",
       "</pre>"
      ],
      "text/plain": [
       "<IPython.core.display.HTML object>"
      ]
     },
     "metadata": {},
     "output_type": "display_data"
    },
    {
     "data": {
      "text/html": [
       "<pre style=\"margin: 0.1em;\n",
       "padding-left: 0.25em;\n",
       "border-left-style: solid;\n",
       "font-family: var(--jp-code-font-family);\n",
       "font-size: var(--jp-code-font-size);\n",
       "line-height: var(--jp-code-line-height);\n",
       "\"><span style=\"color: var(--jp-warn-color2)\">Sky Flats 2023-05-10 22:07:12.149261 UT</span> <span style=\"color: var(--jp-error-color2)\">ERROR</span>: Could not get new image from butler. Waiting 1 seconds and trying again.</pre><pre style=\"margin: 0.1em;\n",
       "padding-left: 0.25em;\n",
       "border-left-style: solid;\n",
       "font-family: var(--jp-code-font-family);\n",
       "font-size: var(--jp-code-font-size);\n",
       "line-height: var(--jp-code-line-height);\n",
       "\">Traceback (most recent call last):\n",
       "  File \"/tmp/ipykernel_13317/3420654075.py\", line 35, in verify_counts\n",
       "    exp = butler.get('raw', dataId=dataId)\n",
       "  File \"/opt/lsst/software/stack/stack/miniconda3-py38_4.9.2-6.0.0/Linux64/daf_butler/gf80a4f1b81+02c8b8cb00/python/lsst/daf/butler/_butler.py\", line 1446, in get\n",
       "    ref = self._findDatasetRef(datasetRefOrType, dataId, collections=collections, **kwargs)\n",
       "  File \"/opt/lsst/software/stack/stack/miniconda3-py38_4.9.2-6.0.0/Linux64/daf_butler/gf80a4f1b81+02c8b8cb00/python/lsst/daf/butler/_butler.py\", line 1102, in _findDatasetRef\n",
       "    raise LookupError(\n",
       "LookupError: Dataset raw with data ID {instrument: 'LATISS', detector: 0, exposure: 2023051000005} could not be found in collections ('LATISS/raw/all',).\n",
       "</pre>"
      ],
      "text/plain": [
       "<IPython.core.display.HTML object>"
      ]
     },
     "metadata": {},
     "output_type": "display_data"
    },
    {
     "data": {
      "text/html": [
       "<pre style=\"margin: 0.1em;\n",
       "padding-left: 0.25em;\n",
       "border-left-style: solid;\n",
       "font-family: var(--jp-code-font-family);\n",
       "font-size: var(--jp-code-font-size);\n",
       "line-height: var(--jp-code-line-height);\n",
       "\"><span style=\"color: var(--jp-warn-color2)\">Sky Flats 2023-05-10 22:07:12.149261 UT</span> <span style=\"color: var(--jp-error-color2)\">ERROR</span>: Could not get new image from butler. Waiting 1 seconds and trying again.</pre><pre style=\"margin: 0.1em;\n",
       "padding-left: 0.25em;\n",
       "border-left-style: solid;\n",
       "font-family: var(--jp-code-font-family);\n",
       "font-size: var(--jp-code-font-size);\n",
       "line-height: var(--jp-code-line-height);\n",
       "\">Traceback (most recent call last):\n",
       "  File \"/tmp/ipykernel_13317/3420654075.py\", line 35, in verify_counts\n",
       "    exp = butler.get('raw', dataId=dataId)\n",
       "  File \"/opt/lsst/software/stack/stack/miniconda3-py38_4.9.2-6.0.0/Linux64/daf_butler/gf80a4f1b81+02c8b8cb00/python/lsst/daf/butler/_butler.py\", line 1446, in get\n",
       "    ref = self._findDatasetRef(datasetRefOrType, dataId, collections=collections, **kwargs)\n",
       "  File \"/opt/lsst/software/stack/stack/miniconda3-py38_4.9.2-6.0.0/Linux64/daf_butler/gf80a4f1b81+02c8b8cb00/python/lsst/daf/butler/_butler.py\", line 1102, in _findDatasetRef\n",
       "    raise LookupError(\n",
       "LookupError: Dataset raw with data ID {instrument: 'LATISS', detector: 0, exposure: 2023051000005} could not be found in collections ('LATISS/raw/all',).\n",
       "</pre>"
      ],
      "text/plain": [
       "<IPython.core.display.HTML object>"
      ]
     },
     "metadata": {},
     "output_type": "display_data"
    },
    {
     "data": {
      "text/html": [
       "<pre style=\"margin: 0.1em;\n",
       "padding-left: 0.25em;\n",
       "border-left-style: solid;\n",
       "font-family: var(--jp-code-font-family);\n",
       "font-size: var(--jp-code-font-size);\n",
       "line-height: var(--jp-code-line-height);\n",
       "\"><span style=\"color: var(--jp-warn-color2)\">Sky Flats 2023-05-10 22:07:12.149261 UT</span> <span style=\"color: var(--jp-error-color2)\">ERROR</span>: Could not get new image from butler. Waiting 1 seconds and trying again.</pre><pre style=\"margin: 0.1em;\n",
       "padding-left: 0.25em;\n",
       "border-left-style: solid;\n",
       "font-family: var(--jp-code-font-family);\n",
       "font-size: var(--jp-code-font-size);\n",
       "line-height: var(--jp-code-line-height);\n",
       "\">Traceback (most recent call last):\n",
       "  File \"/tmp/ipykernel_13317/3420654075.py\", line 35, in verify_counts\n",
       "    exp = butler.get('raw', dataId=dataId)\n",
       "  File \"/opt/lsst/software/stack/stack/miniconda3-py38_4.9.2-6.0.0/Linux64/daf_butler/gf80a4f1b81+02c8b8cb00/python/lsst/daf/butler/_butler.py\", line 1446, in get\n",
       "    ref = self._findDatasetRef(datasetRefOrType, dataId, collections=collections, **kwargs)\n",
       "  File \"/opt/lsst/software/stack/stack/miniconda3-py38_4.9.2-6.0.0/Linux64/daf_butler/gf80a4f1b81+02c8b8cb00/python/lsst/daf/butler/_butler.py\", line 1102, in _findDatasetRef\n",
       "    raise LookupError(\n",
       "LookupError: Dataset raw with data ID {instrument: 'LATISS', detector: 0, exposure: 2023051000005} could not be found in collections ('LATISS/raw/all',).\n",
       "</pre>"
      ],
      "text/plain": [
       "<IPython.core.display.HTML object>"
      ]
     },
     "metadata": {},
     "output_type": "display_data"
    },
    {
     "data": {
      "text/html": [
       "<pre style=\"margin: 0.1em;\n",
       "padding-left: 0.25em;\n",
       "border-left-style: solid;\n",
       "font-family: var(--jp-code-font-family);\n",
       "font-size: var(--jp-code-font-size);\n",
       "line-height: var(--jp-code-line-height);\n",
       "\"><span style=\"color: var(--jp-warn-color2)\">Sky Flats 2023-05-10 22:07:12.149261 UT</span> <span style=\"color: var(--jp-error-color2)\">ERROR</span>: Could not get new image from butler. Waiting 1 seconds and trying again.</pre><pre style=\"margin: 0.1em;\n",
       "padding-left: 0.25em;\n",
       "border-left-style: solid;\n",
       "font-family: var(--jp-code-font-family);\n",
       "font-size: var(--jp-code-font-size);\n",
       "line-height: var(--jp-code-line-height);\n",
       "\">Traceback (most recent call last):\n",
       "  File \"/tmp/ipykernel_13317/3420654075.py\", line 35, in verify_counts\n",
       "    exp = butler.get('raw', dataId=dataId)\n",
       "  File \"/opt/lsst/software/stack/stack/miniconda3-py38_4.9.2-6.0.0/Linux64/daf_butler/gf80a4f1b81+02c8b8cb00/python/lsst/daf/butler/_butler.py\", line 1446, in get\n",
       "    ref = self._findDatasetRef(datasetRefOrType, dataId, collections=collections, **kwargs)\n",
       "  File \"/opt/lsst/software/stack/stack/miniconda3-py38_4.9.2-6.0.0/Linux64/daf_butler/gf80a4f1b81+02c8b8cb00/python/lsst/daf/butler/_butler.py\", line 1102, in _findDatasetRef\n",
       "    raise LookupError(\n",
       "LookupError: Dataset raw with data ID {instrument: 'LATISS', detector: 0, exposure: 2023051000005} could not be found in collections ('LATISS/raw/all',).\n",
       "</pre>"
      ],
      "text/plain": [
       "<IPython.core.display.HTML object>"
      ]
     },
     "metadata": {},
     "output_type": "display_data"
    },
    {
     "data": {
      "text/html": [
       "<pre style=\"margin: 0.1em;\n",
       "padding-left: 0.25em;\n",
       "border-left-style: solid;\n",
       "font-family: var(--jp-code-font-family);\n",
       "font-size: var(--jp-code-font-size);\n",
       "line-height: var(--jp-code-line-height);\n",
       "\"><span style=\"color: var(--jp-warn-color2)\">lsst.obs.base._fitsRawFormatterBase</span> <span style=\"color: var(--jp-warn-color0)\">WARNING</span>: Cannot create a valid WCS from metadata: CRPIX1</pre>"
      ],
      "text/plain": [
       "<IPython.core.display.HTML object>"
      ]
     },
     "metadata": {},
     "output_type": "display_data"
    },
    {
     "data": {
      "text/html": [
       "<pre style=\"margin: 0.1em;\n",
       "padding-left: 0.25em;\n",
       "border-left-style: solid;\n",
       "font-family: var(--jp-code-font-family);\n",
       "font-size: var(--jp-code-font-size);\n",
       "line-height: var(--jp-code-line-height);\n",
       "\"><span style=\"color: var(--jp-warn-color2)\">Sky Flats 2023-05-10 22:07:12.149261 UT</span> <span style=\"color: var(--jp-info-color0)\">INFO</span>: Exposure ID: 2023051000005</pre>"
      ],
      "text/plain": [
       "<IPython.core.display.HTML object>"
      ]
     },
     "metadata": {},
     "output_type": "display_data"
    },
    {
     "data": {
      "text/html": [
       "<pre style=\"margin: 0.1em;\n",
       "padding-left: 0.25em;\n",
       "border-left-style: solid;\n",
       "font-family: var(--jp-code-font-family);\n",
       "font-size: var(--jp-code-font-size);\n",
       "line-height: var(--jp-code-line-height);\n",
       "\"><span style=\"color: var(--jp-warn-color2)\">Sky Flats 2023-05-10 22:07:12.149261 UT</span> <span style=\"color: var(--jp-info-color0)\">INFO</span>:     Median: 14002.0</pre>"
      ],
      "text/plain": [
       "<IPython.core.display.HTML object>"
      ]
     },
     "metadata": {},
     "output_type": "display_data"
    },
    {
     "data": {
      "text/html": [
       "<pre style=\"margin: 0.1em;\n",
       "padding-left: 0.25em;\n",
       "border-left-style: solid;\n",
       "font-family: var(--jp-code-font-family);\n",
       "font-size: var(--jp-code-font-size);\n",
       "line-height: var(--jp-code-line-height);\n",
       "\"><span style=\"color: var(--jp-warn-color2)\">Sky Flats 2023-05-10 22:07:12.149261 UT</span> <span style=\"color: var(--jp-info-color0)\">INFO</span>:     Mean: 14565.484375</pre>"
      ],
      "text/plain": [
       "<IPython.core.display.HTML object>"
      ]
     },
     "metadata": {},
     "output_type": "display_data"
    },
    {
     "data": {
      "text/html": [
       "<pre style=\"margin: 0.1em;\n",
       "padding-left: 0.25em;\n",
       "border-left-style: solid;\n",
       "font-family: var(--jp-code-font-family);\n",
       "font-size: var(--jp-code-font-size);\n",
       "line-height: var(--jp-code-line-height);\n",
       "\"><span style=\"color: var(--jp-warn-color2)\">Sky Flats 2023-05-10 22:07:12.149261 UT</span> <span style=\"color: var(--jp-info-color0)\">INFO</span>:     Std: 3422.53166901707</pre>"
      ],
      "text/plain": [
       "<IPython.core.display.HTML object>"
      ]
     },
     "metadata": {},
     "output_type": "display_data"
    }
   ],
   "source": [
    "# Take image\n",
    "test_exp = await latiss.take_flats(\n",
    "    exptime=1, nflats=1, filter=filters[0], grating='empty_1', reason=\"test_saturation\", program=\"SITCOM-790\")\n",
    "\n",
    "print(f\"The test exposure is {test_exp[0]} with {filters[0]}\")\n",
    "\n",
    "signal_level = await verify_counts(test_exp[0], timeout=10)"
   ]
  },
  {
   "cell_type": "markdown",
   "id": "07627de7",
   "metadata": {},
   "source": [
    "## Start Sequence\n",
    "\n",
    "Now that we have our start point for the bluest filter, we take triplets of sky flats with offsets of 30 arcsec between each. \n",
    "\n",
    "Confirm signal levels as they show up in RubinTv. "
   ]
  },
  {
   "cell_type": "code",
   "execution_count": null,
   "id": "71298825-0ef7-4b77-94f7-1c56b823de92",
   "metadata": {},
   "outputs": [],
   "source": [
    "for filter_to_use in filters:\n",
    "    logger.info(f\"\\n\\n Filter is now {filter_to_use} \\n\\n\")    \n",
    "    exposure_time = starting_exposure_time[filter_to_use]\n",
    "    \n",
    "    flats_done = False\n",
    "    max_exposure_time = 30 \n",
    "    \n",
    "    while not flats_done:\n",
    "        background_level_exposure = await latiss.take_flats(\n",
    "            exptime=exposure_time, nflats=1, filter=filter_to_use, grating='empty_1', reason=\"test_background_level\", program=\"SITCOM-790\")\n",
    "\n",
    "        background_level = verify_counts(background_level_exposure) \n",
    "        \n",
    "        if background_level > min_counts:\n",
    "            await take_triplets_with_fixed_dither(exposure_time, filter_to_use, dither_offset)            \n",
    "            logger.info(\"Changing filters\")\n",
    "            flats_done = True\n",
    "\n",
    "        else:\n",
    "            exposure_time = exposure_time * (min_counts/background_level) * multiple_factor\n",
    "            logger.info(f\"The exposure time will be increased to {exposure_time} seconds\")\n",
    "\n",
    "            if exposure_time > max_exposure_time:         \n",
    "                logger.info(f\"Sky background in {filter_to_use} too low\")\n",
    "                logger.info(\"Changing filters\")\n",
    "                flats_done = True           "
   ]
  },
  {
   "cell_type": "markdown",
   "id": "9affc628",
   "metadata": {},
   "source": [
    "## Image Assessment"
   ]
  },
  {
   "cell_type": "markdown",
   "id": "d8fd4a8f-5a1d-4084-b160-cbb309d7882c",
   "metadata": {},
   "source": [
    "The two next cells will serve to check the median, mean and std of the signal across an image. \n",
    "Edit the `day_obs` and `seq_num` in the `dataId` row. "
   ]
  },
  {
   "cell_type": "code",
   "execution_count": null,
   "id": "9ea97bb9",
   "metadata": {
    "tags": []
   },
   "outputs": [],
   "source": [
    "dataId = {'detector': 0, 'day_obs': 20230427, 'seq_num': 87}\n",
    "exp = butler.get('raw', dataId=dataId)"
   ]
  },
  {
   "cell_type": "code",
   "execution_count": null,
   "id": "2d64ac77",
   "metadata": {
    "tags": []
   },
   "outputs": [],
   "source": [
    "foo = exp.getMaskedImage()\n",
    "masked_array = np.ma.masked_array(foo.image.array, mask=foo.mask.array)\n",
    "meta = exp.getMetadata()\n",
    "\n",
    "logger.info(f\"Observation ID: {meta['OBSID']}\")\n",
    "logger.info(f\"    Median: {np.ma.median(masked_array)}\")\n",
    "logger.info(f\"    Mean: {np.ma.mean(masked_array)}\")\n",
    "logger.info(f\"    Std: {np.ma.std(masked_array)}\")"
   ]
  }
 ],
 "metadata": {
  "kernelspec": {
   "display_name": "LSST",
   "language": "python",
   "name": "lsst"
  },
  "language_info": {
   "codemirror_mode": {
    "name": "ipython",
    "version": 3
   },
   "file_extension": ".py",
   "mimetype": "text/x-python",
   "name": "python",
   "nbconvert_exporter": "python",
   "pygments_lexer": "ipython3",
   "version": "3.10.10"
  }
 },
 "nbformat": 4,
 "nbformat_minor": 5
}
