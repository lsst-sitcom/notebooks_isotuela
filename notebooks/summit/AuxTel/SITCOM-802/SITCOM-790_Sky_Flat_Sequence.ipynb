{
 "cells": [
  {
   "cell_type": "markdown",
   "id": "aae50e6f",
   "metadata": {},
   "source": [
    "# AuxTel - Sky Flats Sequence\n",
    "\n",
    "This notebook is a draft of procedures we can use during twilight to take Sky Flats using different filters as per SITCOM-790. \n",
    "https://jira.lsstcorp.org/browse/SITCOM-790https://jira.lsstcorp.org/browse/SITCOM-790\n",
    "\n",
    "It is meant to be executed between sunset and the time between the end of the civil and nautical twilights, that is, when the Sun's elevation is between 0 and 9 degrees below horizon. At 9 degrees below horizon, AuxTel should go on-sky to absorb zero-point offsets and perform the first WEP mirror alignment and focus of the night.\n",
    "\n",
    "This procedure requires that AuxTel is ready for on-sky in advance, when the Sun is 25 degrees above horizon. \n",
    "\n",
    "Be prepared to run this notebook at the time of sunset to have enough time for the three available filters. \n",
    "\n",
    "After the setup is completed, we find an empty field in the opposite direction of the Sun, then we slew to this field, and take an image. This image will probably have saturation. We start a loop of taking images in the same position until we get an image that does not saturate. Also start with the bluest filter. \n",
    "\n",
    "Once the image is not saturated anymore, we take a sequence of images with small dithers and increasing exposure times. SITCOM-something like 12 flats per filter."
   ]
  },
  {
   "cell_type": "markdown",
   "id": "34e05910",
   "metadata": {},
   "source": [
    "## Setup"
   ]
  },
  {
   "cell_type": "code",
   "execution_count": 1,
   "id": "b075a005",
   "metadata": {
    "execution": {
     "iopub.execute_input": "2023-05-09T22:17:32.580864Z",
     "iopub.status.busy": "2023-05-09T22:17:32.580703Z",
     "iopub.status.idle": "2023-05-09T22:17:35.247501Z",
     "shell.execute_reply": "2023-05-09T22:17:35.246890Z",
     "shell.execute_reply.started": "2023-05-09T22:17:32.580848Z"
    },
    "tags": []
   },
   "outputs": [
    {
     "data": {
      "text/html": [
       "<pre style=\"margin: 0.1em;\n",
       "padding-left: 0.25em;\n",
       "border-left-style: solid;\n",
       "font-family: var(--jp-code-font-family);\n",
       "font-size: var(--jp-code-font-size);\n",
       "line-height: var(--jp-code-line-height);\n",
       "\"><span style=\"color: var(--jp-warn-color2)\">lsst.ts.utils.tai</span> <span style=\"color: var(--jp-info-color0)\">INFO</span>: Update leap second table</pre>"
      ],
      "text/plain": [
       "<IPython.core.display.HTML object>"
      ]
     },
     "metadata": {},
     "output_type": "display_data"
    },
    {
     "data": {
      "text/html": [
       "<pre style=\"margin: 0.1em;\n",
       "padding-left: 0.25em;\n",
       "border-left-style: solid;\n",
       "font-family: var(--jp-code-font-family);\n",
       "font-size: var(--jp-code-font-size);\n",
       "line-height: var(--jp-code-line-height);\n",
       "\"><span style=\"color: var(--jp-warn-color2)\">lsst.ts.utils.tai</span> <span style=\"color: var(--jp-info-color0)\">INFO</span>: current_tai uses the system TAI clock</pre>"
      ],
      "text/plain": [
       "<IPython.core.display.HTML object>"
      ]
     },
     "metadata": {},
     "output_type": "display_data"
    },
    {
     "name": "stderr",
     "output_type": "stream",
     "text": [
      "/net/obs-env/auto_base_packages/summit_extras/python/lsst/summit/__init__.py:23: FutureWarning: lsstimport has been a no-op since v19.0 and will be removed after v27.0. Please remove the import from your __init__.py.\n",
      "  import lsstimport\n",
      "/net/obs-env/auto_base_packages/ts_observatory_control/python/lsst/ts/observatory/control/utils/extras/dm_target_catalog.py:44: UserWarning: Cannot import required libraries. Module will not work.\n",
      "  warnings.warn(\"Cannot import required libraries. Module will not work.\")\n"
     ]
    }
   ],
   "source": [
    "import asyncio\n",
    "import time\n",
    "import os\n",
    "import numpy as np\n",
    "import matplotlib.pyplot as plt\n",
    "import logging\n",
    "import time\n",
    "\n",
    "from astropy import coordinates\n",
    "from astropy.coordinates import SkyCoord, EarthLocation, AltAz\n",
    "from astropy import units as u\n",
    "from astropy.time import Time\n",
    "from astroquery.exceptions import NoResultsWarning\n",
    "from astroquery.vizier import Vizier\n",
    "from datetime import datetime\n",
    "from warnings import warn\n",
    "\n",
    "from lsst.ts import salobj\n",
    "\n",
    "from lsst.ts.observatory.control.auxtel.atcs import ATCS\n",
    "from lsst.ts.observatory.control.auxtel.latiss import LATISS\n",
    "from lsst.ts.observatory.control.utils import RotType\n",
    "\n",
    "import lsst.daf.butler.cli.cliLog as cliLog\n",
    "import lsst.daf.butler as dafButler"
   ]
  },
  {
   "cell_type": "code",
   "execution_count": 82,
   "id": "aa94f109",
   "metadata": {
    "execution": {
     "iopub.execute_input": "2023-05-10T02:58:24.055369Z",
     "iopub.status.busy": "2023-05-10T02:58:24.054839Z",
     "iopub.status.idle": "2023-05-10T02:58:24.058246Z",
     "shell.execute_reply": "2023-05-10T02:58:24.057880Z",
     "shell.execute_reply.started": "2023-05-10T02:58:24.055350Z"
    },
    "tags": []
   },
   "outputs": [],
   "source": [
    "logger = logging.getLogger(f\"Sky Flats {Time.now()} UT\")\n",
    "logger.level = logging.INFO"
   ]
  },
  {
   "cell_type": "code",
   "execution_count": 3,
   "id": "84b698b1",
   "metadata": {
    "execution": {
     "iopub.execute_input": "2023-05-09T22:17:35.258404Z",
     "iopub.status.busy": "2023-05-09T22:17:35.258267Z",
     "iopub.status.idle": "2023-05-09T22:17:36.160528Z",
     "shell.execute_reply": "2023-05-09T22:17:36.160004Z",
     "shell.execute_reply.started": "2023-05-09T22:17:35.258389Z"
    },
    "tags": []
   },
   "outputs": [
    {
     "data": {
      "text/html": [
       "<pre style=\"margin: 0.1em;\n",
       "padding-left: 0.25em;\n",
       "border-left-style: solid;\n",
       "font-family: var(--jp-code-font-family);\n",
       "font-size: var(--jp-code-font-size);\n",
       "line-height: var(--jp-code-line-height);\n",
       "\"><span style=\"color: var(--jp-warn-color2)\">ATMCS</span> <span style=\"color: var(--jp-info-color0)\">INFO</span>: Disabling authlist-based command authorization</pre>"
      ],
      "text/plain": [
       "<IPython.core.display.HTML object>"
      ]
     },
     "metadata": {},
     "output_type": "display_data"
    },
    {
     "data": {
      "text/html": [
       "<pre style=\"margin: 0.1em;\n",
       "padding-left: 0.25em;\n",
       "border-left-style: solid;\n",
       "font-family: var(--jp-code-font-family);\n",
       "font-size: var(--jp-code-font-size);\n",
       "line-height: var(--jp-code-line-height);\n",
       "\"><span style=\"color: var(--jp-warn-color2)\">ATPtg</span> <span style=\"color: var(--jp-info-color0)\">INFO</span>: Disabling authlist-based command authorization</pre>"
      ],
      "text/plain": [
       "<IPython.core.display.HTML object>"
      ]
     },
     "metadata": {},
     "output_type": "display_data"
    },
    {
     "data": {
      "text/html": [
       "<pre style=\"margin: 0.1em;\n",
       "padding-left: 0.25em;\n",
       "border-left-style: solid;\n",
       "font-family: var(--jp-code-font-family);\n",
       "font-size: var(--jp-code-font-size);\n",
       "line-height: var(--jp-code-line-height);\n",
       "\"><span style=\"color: var(--jp-warn-color2)\">ATAOS</span> <span style=\"color: var(--jp-info-color0)\">INFO</span>: Disabling authlist-based command authorization</pre>"
      ],
      "text/plain": [
       "<IPython.core.display.HTML object>"
      ]
     },
     "metadata": {},
     "output_type": "display_data"
    },
    {
     "data": {
      "text/html": [
       "<pre style=\"margin: 0.1em;\n",
       "padding-left: 0.25em;\n",
       "border-left-style: solid;\n",
       "font-family: var(--jp-code-font-family);\n",
       "font-size: var(--jp-code-font-size);\n",
       "line-height: var(--jp-code-line-height);\n",
       "\"><span style=\"color: var(--jp-warn-color2)\">ATPneumatics</span> <span style=\"color: var(--jp-info-color0)\">INFO</span>: Disabling authlist-based command authorization</pre>"
      ],
      "text/plain": [
       "<IPython.core.display.HTML object>"
      ]
     },
     "metadata": {},
     "output_type": "display_data"
    },
    {
     "data": {
      "text/html": [
       "<pre style=\"margin: 0.1em;\n",
       "padding-left: 0.25em;\n",
       "border-left-style: solid;\n",
       "font-family: var(--jp-code-font-family);\n",
       "font-size: var(--jp-code-font-size);\n",
       "line-height: var(--jp-code-line-height);\n",
       "\"><span style=\"color: var(--jp-warn-color2)\">ATHexapod</span> <span style=\"color: var(--jp-info-color0)\">INFO</span>: Disabling authlist-based command authorization</pre>"
      ],
      "text/plain": [
       "<IPython.core.display.HTML object>"
      ]
     },
     "metadata": {},
     "output_type": "display_data"
    },
    {
     "data": {
      "text/html": [
       "<pre style=\"margin: 0.1em;\n",
       "padding-left: 0.25em;\n",
       "border-left-style: solid;\n",
       "font-family: var(--jp-code-font-family);\n",
       "font-size: var(--jp-code-font-size);\n",
       "line-height: var(--jp-code-line-height);\n",
       "\"><span style=\"color: var(--jp-warn-color2)\">ATDome</span> <span style=\"color: var(--jp-info-color0)\">INFO</span>: Disabling authlist-based command authorization</pre>"
      ],
      "text/plain": [
       "<IPython.core.display.HTML object>"
      ]
     },
     "metadata": {},
     "output_type": "display_data"
    },
    {
     "data": {
      "text/html": [
       "<pre style=\"margin: 0.1em;\n",
       "padding-left: 0.25em;\n",
       "border-left-style: solid;\n",
       "font-family: var(--jp-code-font-family);\n",
       "font-size: var(--jp-code-font-size);\n",
       "line-height: var(--jp-code-line-height);\n",
       "\"><span style=\"color: var(--jp-warn-color2)\">ATDomeTrajectory</span> <span style=\"color: var(--jp-info-color0)\">INFO</span>: Disabling authlist-based command authorization</pre>"
      ],
      "text/plain": [
       "<IPython.core.display.HTML object>"
      ]
     },
     "metadata": {},
     "output_type": "display_data"
    },
    {
     "data": {
      "text/html": [
       "<pre style=\"margin: 0.1em;\n",
       "padding-left: 0.25em;\n",
       "border-left-style: solid;\n",
       "font-family: var(--jp-code-font-family);\n",
       "font-size: var(--jp-code-font-size);\n",
       "line-height: var(--jp-code-line-height);\n",
       "\"><span style=\"color: var(--jp-warn-color2)\">ATCamera</span> <span style=\"color: var(--jp-info-color0)\">INFO</span>: Disabling authlist-based command authorization</pre>"
      ],
      "text/plain": [
       "<IPython.core.display.HTML object>"
      ]
     },
     "metadata": {},
     "output_type": "display_data"
    },
    {
     "data": {
      "text/html": [
       "<pre style=\"margin: 0.1em;\n",
       "padding-left: 0.25em;\n",
       "border-left-style: solid;\n",
       "font-family: var(--jp-code-font-family);\n",
       "font-size: var(--jp-code-font-size);\n",
       "line-height: var(--jp-code-line-height);\n",
       "\"><span style=\"color: var(--jp-warn-color2)\">ATSpectrograph</span> <span style=\"color: var(--jp-info-color0)\">INFO</span>: Disabling authlist-based command authorization</pre>"
      ],
      "text/plain": [
       "<IPython.core.display.HTML object>"
      ]
     },
     "metadata": {},
     "output_type": "display_data"
    },
    {
     "data": {
      "text/html": [
       "<pre style=\"margin: 0.1em;\n",
       "padding-left: 0.25em;\n",
       "border-left-style: solid;\n",
       "font-family: var(--jp-code-font-family);\n",
       "font-size: var(--jp-code-font-size);\n",
       "line-height: var(--jp-code-line-height);\n",
       "\"><span style=\"color: var(--jp-warn-color2)\">ATHeaderService</span> <span style=\"color: var(--jp-info-color0)\">INFO</span>: Disabling authlist-based command authorization</pre>"
      ],
      "text/plain": [
       "<IPython.core.display.HTML object>"
      ]
     },
     "metadata": {},
     "output_type": "display_data"
    },
    {
     "data": {
      "text/html": [
       "<pre style=\"margin: 0.1em;\n",
       "padding-left: 0.25em;\n",
       "border-left-style: solid;\n",
       "font-family: var(--jp-code-font-family);\n",
       "font-size: var(--jp-code-font-size);\n",
       "line-height: var(--jp-code-line-height);\n",
       "\"><span style=\"color: var(--jp-warn-color2)\">ATOODS</span> <span style=\"color: var(--jp-info-color0)\">INFO</span>: Disabling authlist-based command authorization</pre>"
      ],
      "text/plain": [
       "<IPython.core.display.HTML object>"
      ]
     },
     "metadata": {},
     "output_type": "display_data"
    },
    {
     "data": {
      "text/html": [
       "<pre style=\"margin: 0.1em;\n",
       "padding-left: 0.25em;\n",
       "border-left-style: solid;\n",
       "font-family: var(--jp-code-font-family);\n",
       "font-size: var(--jp-code-font-size);\n",
       "line-height: var(--jp-code-line-height);\n",
       "\"><span style=\"color: var(--jp-warn-color2)\">ATDomeTrajectory</span> <span style=\"color: var(--jp-info-color0)\">INFO</span>: Read historical data in 0.00 sec</pre>"
      ],
      "text/plain": [
       "<IPython.core.display.HTML object>"
      ]
     },
     "metadata": {},
     "output_type": "display_data"
    },
    {
     "data": {
      "text/html": [
       "<pre style=\"margin: 0.1em;\n",
       "padding-left: 0.25em;\n",
       "border-left-style: solid;\n",
       "font-family: var(--jp-code-font-family);\n",
       "font-size: var(--jp-code-font-size);\n",
       "line-height: var(--jp-code-line-height);\n",
       "\"><span style=\"color: var(--jp-warn-color2)\">ATPneumatics</span> <span style=\"color: var(--jp-info-color0)\">INFO</span>: Read historical data in 0.01 sec</pre>"
      ],
      "text/plain": [
       "<IPython.core.display.HTML object>"
      ]
     },
     "metadata": {},
     "output_type": "display_data"
    },
    {
     "data": {
      "text/html": [
       "<pre style=\"margin: 0.1em;\n",
       "padding-left: 0.25em;\n",
       "border-left-style: solid;\n",
       "font-family: var(--jp-code-font-family);\n",
       "font-size: var(--jp-code-font-size);\n",
       "line-height: var(--jp-code-line-height);\n",
       "\"><span style=\"color: var(--jp-warn-color2)\">ATHexapod</span> <span style=\"color: var(--jp-info-color0)\">INFO</span>: Read historical data in 0.01 sec</pre>"
      ],
      "text/plain": [
       "<IPython.core.display.HTML object>"
      ]
     },
     "metadata": {},
     "output_type": "display_data"
    },
    {
     "data": {
      "text/html": [
       "<pre style=\"margin: 0.1em;\n",
       "padding-left: 0.25em;\n",
       "border-left-style: solid;\n",
       "font-family: var(--jp-code-font-family);\n",
       "font-size: var(--jp-code-font-size);\n",
       "line-height: var(--jp-code-line-height);\n",
       "\"><span style=\"color: var(--jp-warn-color2)\">ATAOS</span> <span style=\"color: var(--jp-info-color0)\">INFO</span>: Read historical data in 0.02 sec</pre>"
      ],
      "text/plain": [
       "<IPython.core.display.HTML object>"
      ]
     },
     "metadata": {},
     "output_type": "display_data"
    },
    {
     "data": {
      "text/html": [
       "<pre style=\"margin: 0.1em;\n",
       "padding-left: 0.25em;\n",
       "border-left-style: solid;\n",
       "font-family: var(--jp-code-font-family);\n",
       "font-size: var(--jp-code-font-size);\n",
       "line-height: var(--jp-code-line-height);\n",
       "\"><span style=\"color: var(--jp-warn-color2)\">ATDome</span> <span style=\"color: var(--jp-info-color0)\">INFO</span>: Read historical data in 0.03 sec</pre>"
      ],
      "text/plain": [
       "<IPython.core.display.HTML object>"
      ]
     },
     "metadata": {},
     "output_type": "display_data"
    },
    {
     "data": {
      "text/html": [
       "<pre style=\"margin: 0.1em;\n",
       "padding-left: 0.25em;\n",
       "border-left-style: solid;\n",
       "font-family: var(--jp-code-font-family);\n",
       "font-size: var(--jp-code-font-size);\n",
       "line-height: var(--jp-code-line-height);\n",
       "\"><span style=\"color: var(--jp-warn-color2)\">ATHeaderService</span> <span style=\"color: var(--jp-info-color0)\">INFO</span>: Read historical data in 0.04 sec</pre>"
      ],
      "text/plain": [
       "<IPython.core.display.HTML object>"
      ]
     },
     "metadata": {},
     "output_type": "display_data"
    },
    {
     "data": {
      "text/html": [
       "<pre style=\"margin: 0.1em;\n",
       "padding-left: 0.25em;\n",
       "border-left-style: solid;\n",
       "font-family: var(--jp-code-font-family);\n",
       "font-size: var(--jp-code-font-size);\n",
       "line-height: var(--jp-code-line-height);\n",
       "\"><span style=\"color: var(--jp-warn-color2)\">ATOODS</span> <span style=\"color: var(--jp-info-color0)\">INFO</span>: Read historical data in 0.04 sec</pre>"
      ],
      "text/plain": [
       "<IPython.core.display.HTML object>"
      ]
     },
     "metadata": {},
     "output_type": "display_data"
    },
    {
     "data": {
      "text/html": [
       "<pre style=\"margin: 0.1em;\n",
       "padding-left: 0.25em;\n",
       "border-left-style: solid;\n",
       "font-family: var(--jp-code-font-family);\n",
       "font-size: var(--jp-code-font-size);\n",
       "line-height: var(--jp-code-line-height);\n",
       "\"><span style=\"color: var(--jp-warn-color2)\">ATPtg</span> <span style=\"color: var(--jp-info-color0)\">INFO</span>: Read historical data in 0.05 sec</pre>"
      ],
      "text/plain": [
       "<IPython.core.display.HTML object>"
      ]
     },
     "metadata": {},
     "output_type": "display_data"
    },
    {
     "data": {
      "text/html": [
       "<pre style=\"margin: 0.1em;\n",
       "padding-left: 0.25em;\n",
       "border-left-style: solid;\n",
       "font-family: var(--jp-code-font-family);\n",
       "font-size: var(--jp-code-font-size);\n",
       "line-height: var(--jp-code-line-height);\n",
       "\"><span style=\"color: var(--jp-warn-color2)\">ATMCS</span> <span style=\"color: var(--jp-info-color0)\">INFO</span>: Read historical data in 0.06 sec</pre>"
      ],
      "text/plain": [
       "<IPython.core.display.HTML object>"
      ]
     },
     "metadata": {},
     "output_type": "display_data"
    },
    {
     "data": {
      "text/html": [
       "<pre style=\"margin: 0.1em;\n",
       "padding-left: 0.25em;\n",
       "border-left-style: solid;\n",
       "font-family: var(--jp-code-font-family);\n",
       "font-size: var(--jp-code-font-size);\n",
       "line-height: var(--jp-code-line-height);\n",
       "\"><span style=\"color: var(--jp-warn-color2)\">ATSpectrograph</span> <span style=\"color: var(--jp-info-color0)\">INFO</span>: Read historical data in 0.07 sec</pre>"
      ],
      "text/plain": [
       "<IPython.core.display.HTML object>"
      ]
     },
     "metadata": {},
     "output_type": "display_data"
    },
    {
     "data": {
      "text/html": [
       "<pre style=\"margin: 0.1em;\n",
       "padding-left: 0.25em;\n",
       "border-left-style: solid;\n",
       "font-family: var(--jp-code-font-family);\n",
       "font-size: var(--jp-code-font-size);\n",
       "line-height: var(--jp-code-line-height);\n",
       "\"><span style=\"color: var(--jp-warn-color2)\">ATCamera</span> <span style=\"color: var(--jp-info-color0)\">INFO</span>: Read historical data in 0.07 sec</pre>"
      ],
      "text/plain": [
       "<IPython.core.display.HTML object>"
      ]
     },
     "metadata": {},
     "output_type": "display_data"
    },
    {
     "data": {
      "text/plain": [
       "[[None, None, None, None, None, None, None], [None, None, None, None]]"
      ]
     },
     "execution_count": 3,
     "metadata": {},
     "output_type": "execute_result"
    }
   ],
   "source": [
    "# Instantiate the control classes\n",
    "domain = salobj.Domain()\n",
    "atcs = ATCS(domain)\n",
    "atcs.set_rem_loglevel(logging.INFO)\n",
    "latiss = LATISS(domain)\n",
    "latiss.set_rem_loglevel(logging.INFO)\n",
    "await asyncio.gather(atcs.start_task, latiss.start_task)"
   ]
  },
  {
   "cell_type": "code",
   "execution_count": 4,
   "id": "2c2a49ce",
   "metadata": {
    "execution": {
     "iopub.execute_input": "2023-05-09T22:17:39.615810Z",
     "iopub.status.busy": "2023-05-09T22:17:39.615149Z",
     "iopub.status.idle": "2023-05-09T22:17:39.620407Z",
     "shell.execute_reply": "2023-05-09T22:17:39.619937Z",
     "shell.execute_reply.started": "2023-05-09T22:17:39.615788Z"
    },
    "tags": []
   },
   "outputs": [
    {
     "data": {
      "text/html": [
       "<pre style=\"margin: 0.1em;\n",
       "padding-left: 0.25em;\n",
       "border-left-style: solid;\n",
       "font-family: var(--jp-code-font-family);\n",
       "font-size: var(--jp-code-font-size);\n",
       "line-height: var(--jp-code-line-height);\n",
       "\"><span style=\"color: var(--jp-warn-color2)\">Sky Flats 2023-05-09 22:17:35.254243 UT</span> <span style=\"color: var(--jp-info-color0)\">INFO</span>: LATISS filters are: [&#x27;empty_1&#x27;, &#x27;SDSSg_65mm&#x27;, &#x27;SDSSr_65mm&#x27;, &#x27;SDSSi_65mm&#x27;]</pre>"
      ],
      "text/plain": [
       "<IPython.core.display.HTML object>"
      ]
     },
     "metadata": {},
     "output_type": "display_data"
    },
    {
     "data": {
      "text/html": [
       "<pre style=\"margin: 0.1em;\n",
       "padding-left: 0.25em;\n",
       "border-left-style: solid;\n",
       "font-family: var(--jp-code-font-family);\n",
       "font-size: var(--jp-code-font-size);\n",
       "line-height: var(--jp-code-line-height);\n",
       "\"><span style=\"color: var(--jp-warn-color2)\">Sky Flats 2023-05-09 22:17:35.254243 UT</span> <span style=\"color: var(--jp-info-color0)\">INFO</span>: LATISS gratings are: [&#x27;empty_1&#x27;, &#x27;blue300lpmm_qn1&#x27;, &#x27;ronchi170lpmm&#x27;, &#x27;holo4_003&#x27;]</pre>"
      ],
      "text/plain": [
       "<IPython.core.display.HTML object>"
      ]
     },
     "metadata": {},
     "output_type": "display_data"
    }
   ],
   "source": [
    "inst_setup = await latiss.get_available_instrument_setup()\n",
    "logger.info(f'LATISS filters are: {inst_setup[0]}')\n",
    "logger.info(f'LATISS gratings are: {inst_setup[1]}')"
   ]
  },
  {
   "cell_type": "code",
   "execution_count": 5,
   "id": "9ac157d2",
   "metadata": {
    "execution": {
     "iopub.execute_input": "2023-05-09T22:17:43.245078Z",
     "iopub.status.busy": "2023-05-09T22:17:43.244400Z",
     "iopub.status.idle": "2023-05-09T22:17:44.177481Z",
     "shell.execute_reply": "2023-05-09T22:17:44.176871Z",
     "shell.execute_reply.started": "2023-05-09T22:17:43.245057Z"
    },
    "tags": []
   },
   "outputs": [],
   "source": [
    "repo = '/repo/LATISS/'\n",
    "collection = 'LATISS/raw/all'\n",
    "\n",
    "butler = dafButler.Butler(repo, collections=collection)"
   ]
  },
  {
   "cell_type": "code",
   "execution_count": 6,
   "id": "b420a166-9806-49df-8ebc-91ef3c0a41a2",
   "metadata": {
    "execution": {
     "iopub.execute_input": "2023-05-09T22:17:45.615974Z",
     "iopub.status.busy": "2023-05-09T22:17:45.615309Z",
     "iopub.status.idle": "2023-05-09T22:17:45.633125Z",
     "shell.execute_reply": "2023-05-09T22:17:45.632567Z",
     "shell.execute_reply.started": "2023-05-09T22:17:45.615951Z"
    },
    "tags": []
   },
   "outputs": [],
   "source": [
    "# Vera Rubin Coordinates from https://www.lsst.org/scientists/keynumbers\n",
    "rubin_obs = coordinates.EarthLocation(\n",
    "    lat='-30:14:40.68', lon='-70:44:57.90', height=2647 * u.m)"
   ]
  },
  {
   "cell_type": "markdown",
   "id": "55154dbc-a743-436b-8c36-3dbce24642c3",
   "metadata": {},
   "source": [
    "## Helper functions "
   ]
  },
  {
   "cell_type": "code",
   "execution_count": 51,
   "id": "10b54a60-03c6-4532-8105-28502913eaae",
   "metadata": {
    "execution": {
     "iopub.execute_input": "2023-05-10T01:12:41.546832Z",
     "iopub.status.busy": "2023-05-10T01:12:41.546451Z",
     "iopub.status.idle": "2023-05-10T01:12:41.551898Z",
     "shell.execute_reply": "2023-05-10T01:12:41.551385Z",
     "shell.execute_reply.started": "2023-05-10T01:12:41.546812Z"
    },
    "tags": []
   },
   "outputs": [],
   "source": [
    "def get_angle_from_sun(distance_from_sun=180, elevation=45, time=None):\n",
    "    \"\"\"\n",
    "    Returns the azimuth relative to the Sun considering a `distance_from_sun` \n",
    "    and at a given `time`.\n",
    "    \n",
    "    Parameters\n",
    "    ----------\n",
    "    distance_from_sun : float, (-180, 180)\n",
    "        The distance from the Sun in degrees. Positive angles go towards the \n",
    "        North.\n",
    "    elevation : float\n",
    "        Target elevation for Sky Flats.\n",
    "    time : datetime\n",
    "        The time for the calculation in UTC.\n",
    "    \"\"\"\n",
    "    if abs(distance_from_sun) > 180:\n",
    "        raise ValueError(\n",
    "            \"The distance from the Sun should be between -180 and 180 degrees\")\n",
    "    \n",
    "    rubin_obs = coordinates.EarthLocation(\n",
    "        lat='-30:14:40.68', lon='-70:44:57.90', height=2647 * u.m)\n",
    "\n",
    "    if time:\n",
    "        t = Time(time, scale='utc')\n",
    "    else:\n",
    "        t = Time(datetime.utcnow(), scale='utc')\n",
    "\n",
    "    sun_coords = coordinates.get_sun(t)\n",
    "    sun_coords.location = rubin_obs\n",
    "    az = sun_coords.altaz.az.value\n",
    "    \n",
    "    target_az = (az + distance_from_sun) % 360.\n",
    "    \n",
    "    logger.info(f\"Sun azimuth is {sun_coords.altaz.az:.5f} at {t}\")\n",
    "    logger.info(f\"The azimuth {distance_from_sun:.5f} deg\"\n",
    "                f\" from the Sun is {target_az:.5f} deg\")\n",
    "    \n",
    "    target = coordinates.AltAz(\n",
    "        alt=elevation * u.deg, az=target_az * u.deg, location=rubin_obs, obstime=t)\n",
    "    \n",
    "    return target.transform_to(coordinates.ICRS)\n"
   ]
  },
  {
   "cell_type": "code",
   "execution_count": 52,
   "id": "528f5372",
   "metadata": {
    "execution": {
     "iopub.execute_input": "2023-05-10T01:12:47.346736Z",
     "iopub.status.busy": "2023-05-10T01:12:47.346438Z",
     "iopub.status.idle": "2023-05-10T01:12:47.350868Z",
     "shell.execute_reply": "2023-05-10T01:12:47.350481Z",
     "shell.execute_reply.started": "2023-05-10T01:12:47.346718Z"
    },
    "tags": []
   },
   "outputs": [],
   "source": [
    "def get_empty_field(target, radius=5):\n",
    "    \"\"\"\n",
    "    Query the \"Deep blank field catalogue : J/MNRAS/427/679\" in Vizier.\n",
    "    \n",
    "    Parameters\n",
    "    ----------\n",
    "    target : astropy.coordinates.SkyCoord\n",
    "        Sky coordinates near the field\n",
    "    radius : float\n",
    "        Search radius in degrees.\n",
    "    \n",
    "    Reference\n",
    "    ---------\n",
    "    http://cdsarc.u-strasbg.fr/viz-bin/Cat?J/MNRAS/427/679\n",
    "    \"\"\"\n",
    "    _table = Vizier.query_region(\n",
    "        catalog='J/MNRAS/427/679/blank_fld', \n",
    "        coordinates=target, \n",
    "        radius=radius*u.deg)\n",
    "\n",
    "    if len(_table) == 0:\n",
    "        warn(f\"Could not find a field near {target} \"\n",
    "              f\"within {radius} deg radius\", category=NoResultsWarning)\n",
    "        return None\n",
    "\n",
    "    _table = _table[\"J/MNRAS/427/679/blank_fld\"]\n",
    "    \n",
    "    coords = coordinates.SkyCoord(\n",
    "        ra=_table[\"RAJ2000\"], \n",
    "        dec=_table[\"DEJ2000\"], \n",
    "        unit=(u.hourangle, u.deg), \n",
    "        frame=coordinates.ICRS)\n",
    "    \n",
    "    arg = target.separation(coords).argmin()\n",
    "    \n",
    "    return coords[arg]"
   ]
  },
  {
   "cell_type": "code",
   "execution_count": 9,
   "id": "cb114688-5629-4ea5-befd-5f7b861247b2",
   "metadata": {
    "execution": {
     "iopub.execute_input": "2023-05-09T22:17:50.995127Z",
     "iopub.status.busy": "2023-05-09T22:17:50.994777Z",
     "iopub.status.idle": "2023-05-09T22:17:50.999939Z",
     "shell.execute_reply": "2023-05-09T22:17:50.999425Z",
     "shell.execute_reply.started": "2023-05-09T22:17:50.995108Z"
    },
    "tags": []
   },
   "outputs": [],
   "source": [
    "async def take_triplets_with_fixed_dither(time, filt, offset):\n",
    "    await atcs.offset_xy(x=0, y=0)\n",
    "    \n",
    "    first_flat = await latiss.take_flats(\n",
    "        exptime=time, nflats=1, filter=filt, grating='empty_1', reason=\"Sky_Flat\", program=\"SITCOM-790\")\n",
    "    \n",
    "    await atcs.offset_xy(x=offset, y=0)\n",
    "    \n",
    "    second_flat = await latiss.take_flats(\n",
    "        exptime=time, nflats=1, filter=filt, grating='empty_1', reason=\"Sky_Flat\", program=\"SITCOM-790\")\n",
    "    \n",
    "    await atcs.offset_xy(x=0, y=offset)\n",
    "    \n",
    "    # last one wait for image ingestion\n",
    "    # latiss.rem.atoods.evt_imageInOODS.flush()\n",
    "    \n",
    "    sky_counts = await latiss.take_flats(\n",
    "        exptime=time, nflats=1, filter=filt, grating='empty_1', reason=\"Sky_Flat\", program=\"SITCOM-790\")\n",
    "    \n",
    "    # Wait for image ingestion\n",
    "    # await latiss.rem.atoods.evt_imageInOODS.next(flush=False, timeout=10)\n",
    "    \n",
    "    logger.info(f\"Sky flats triplets with {time} seconds exposure time and filter {filt} are {first_flat}, {second_flat} and {sky_counts}\")\n",
    "    return sky_counts[0]"
   ]
  },
  {
   "cell_type": "code",
   "execution_count": 10,
   "id": "a9d9ba0e-2d8b-442a-a316-46236905d6ea",
   "metadata": {
    "execution": {
     "iopub.execute_input": "2023-05-09T22:17:54.816087Z",
     "iopub.status.busy": "2023-05-09T22:17:54.815733Z",
     "iopub.status.idle": "2023-05-09T22:17:54.821465Z",
     "shell.execute_reply": "2023-05-09T22:17:54.820966Z",
     "shell.execute_reply.started": "2023-05-09T22:17:54.816067Z"
    },
    "tags": []
   },
   "outputs": [],
   "source": [
    "STD_TIMEOUT = 10  # seconds\n",
    "\n",
    "async def verify_counts(exposure, timeout=STD_TIMEOUT, loop_time=1):\n",
    "    \"\"\"\n",
    "    Retrieve image from butler repository.\n",
    "    If not present, then it will poll at intervals of loop_time (0.1s default)\n",
    "    until the image arrives, or until the timeout is reached.\n",
    "\n",
    "    Parameters\n",
    "    ----------\n",
    "    exp: `float`\n",
    "        exposure number, as 2023041500020 \n",
    "    \n",
    "    loop_time: `float`\n",
    "        Time between polling attempts. Defaults to 0.1s\n",
    "    timeout: `float`\n",
    "        Total time to poll for image before raising an exception\n",
    "\n",
    "    Returns\n",
    "    -------\n",
    "\n",
    "    median: `float`\n",
    "        Exposure counts median across the detector\n",
    "    \"\"\"\n",
    "    \n",
    "    # Wait for image ingestion\n",
    "    #await latiss.rem.atoods.evt_imageInOODS.next(flush=False, timeout=10)\n",
    "    \n",
    "    dataId = {'detector': 0, 'exposure': exposure}\n",
    "\n",
    "    while True:\n",
    "        # try to retrieve the image\n",
    "        try:\n",
    "            logger.debug(f\"Pulling exposure with dataId = {dataId}\")\n",
    "            exp = butler.get('raw', dataId=dataId)     \n",
    "            logger.debug(\"Image grabbed successfully\")\n",
    "\n",
    "            # Measure median, mean and std across the image. \n",
    "            foo = exp.getMaskedImage()\n",
    "            masked_array = np.ma.masked_array(foo.image.array, mask=foo.mask.array)\n",
    "\n",
    "            median = np.ma.median(masked_array)\n",
    "\n",
    "            logger.info(f\"Exposure ID: {exposure}\")\n",
    "            logger.info(f\"    Median: {np.ma.median(masked_array)}\")\n",
    "            logger.info(f\"    Mean: {np.ma.mean(masked_array)}\")\n",
    "            logger.info(f\"    Std: {np.ma.std(masked_array)}\")\n",
    "\n",
    "            return median\n",
    "\n",
    "        except LookupError:\n",
    "            logger.exception(\n",
    "                f\"Could not get new image from butler. Waiting \"\n",
    "                f\"{loop_time} seconds and trying again.\"\n",
    "            )\n",
    "            await asyncio.sleep(loop_time)\n",
    "            continue\n",
    "\n",
    "        if time.time() >= endtime:\n",
    "            raise TimeoutError(\n",
    "                f\"Unable to get raw image from butler in {timeout} seconds.\"\n",
    "            )"
   ]
  },
  {
   "cell_type": "markdown",
   "id": "1e62ee84-0e76-42ea-85ed-57a90899082a",
   "metadata": {},
   "source": [
    "## Confirm Sun's elevation is fine to start taking Sky Flats. \n",
    "\n",
    "Check if we can start taking sky flats, that, if the Sun's elevation is between 0 and 9 degrees below the horizon."
   ]
  },
  {
   "cell_type": "code",
   "execution_count": 68,
   "id": "bb777ff6-7f5e-4cd7-8afb-564bbe87140a",
   "metadata": {
    "execution": {
     "iopub.execute_input": "2023-05-10T01:50:25.237302Z",
     "iopub.status.busy": "2023-05-10T01:50:25.236566Z",
     "iopub.status.idle": "2023-05-10T01:50:25.257904Z",
     "shell.execute_reply": "2023-05-10T01:50:25.257292Z",
     "shell.execute_reply.started": "2023-05-10T01:50:25.237281Z"
    },
    "tags": []
   },
   "outputs": [
    {
     "name": "stdout",
     "output_type": "stream",
     "text": [
      " The azimuth of the setting Sun at 2023-05-10 01:50:25.238778 is 261.53 deg \n",
      " The elevation of the Sun at 2023-05-10 01:50:25.238778 is -49.59 deg\n"
     ]
    }
   ],
   "source": [
    "# Define time in UTC\n",
    "# time = Time(\"2023-04-25T17:00:00\", format=\"isot\", scale=\"utc\")\n",
    "# or the current time\n",
    "time = Time(datetime.utcnow(), scale=\"utc\")\n",
    "\n",
    "# Some calculations\n",
    "sun_coordinates = coordinates.get_sun(time)\n",
    "sun_coordinates.location = rubin_obs\n",
    "where_sun = \"setting\" if (sun_coordinates.altaz.az.value > 180) else \"rising\"\n",
    "\n",
    "# Print results\n",
    "print(f\" The azimuth of the {where_sun} Sun at {time} is {sun_coordinates.altaz.az.value:.2f} deg \\n\"\n",
    "      f\" The elevation of the Sun at {time} is {sun_coordinates.altaz.alt.value:.2f} deg\")"
   ]
  },
  {
   "cell_type": "markdown",
   "id": "14d0a4d6-0d72-4f1b-aec6-d8560b0924f0",
   "metadata": {},
   "source": [
    "Only proceed with the next steps if the elevation of the Sun is between 0 and 9 degrees below the horizon, either rising or setting. "
   ]
  },
  {
   "cell_type": "markdown",
   "id": "3910404b",
   "metadata": {},
   "source": [
    "## Find Field\n",
    "\n",
    "Find a field with not many stars oppposite the Sun. "
   ]
  },
  {
   "cell_type": "code",
   "execution_count": 69,
   "id": "db7005e7",
   "metadata": {
    "execution": {
     "iopub.execute_input": "2023-05-10T01:50:32.116928Z",
     "iopub.status.busy": "2023-05-10T01:50:32.116533Z",
     "iopub.status.idle": "2023-05-10T01:50:33.302649Z",
     "shell.execute_reply": "2023-05-10T01:50:33.302124Z",
     "shell.execute_reply.started": "2023-05-10T01:50:32.116907Z"
    },
    "tags": []
   },
   "outputs": [
    {
     "data": {
      "text/html": [
       "<pre style=\"margin: 0.1em;\n",
       "padding-left: 0.25em;\n",
       "border-left-style: solid;\n",
       "font-family: var(--jp-code-font-family);\n",
       "font-size: var(--jp-code-font-size);\n",
       "line-height: var(--jp-code-line-height);\n",
       "\"><span style=\"color: var(--jp-warn-color2)\">Sky Flats 2023-05-09 22:17:35.254243 UT</span> <span style=\"color: var(--jp-info-color0)\">INFO</span>: Sun azimuth is 261.50816 deg at 2023-05-10 01:50:32.118927</pre>"
      ],
      "text/plain": [
       "<IPython.core.display.HTML object>"
      ]
     },
     "metadata": {},
     "output_type": "display_data"
    },
    {
     "data": {
      "text/html": [
       "<pre style=\"margin: 0.1em;\n",
       "padding-left: 0.25em;\n",
       "border-left-style: solid;\n",
       "font-family: var(--jp-code-font-family);\n",
       "font-size: var(--jp-code-font-size);\n",
       "line-height: var(--jp-code-line-height);\n",
       "\"><span style=\"color: var(--jp-warn-color2)\">Sky Flats 2023-05-09 22:17:35.254243 UT</span> <span style=\"color: var(--jp-info-color0)\">INFO</span>: The azimuth 180.00000 deg from the Sun is 81.50816 deg</pre>"
      ],
      "text/plain": [
       "<IPython.core.display.HTML object>"
      ]
     },
     "metadata": {},
     "output_type": "display_data"
    },
    {
     "name": "stderr",
     "output_type": "stream",
     "text": [
      "WARNING: AstropyDeprecationWarning: Transforming a frame instance to a frame class (as opposed to another frame instance) will not be supported in the future.  Either explicitly instantiate the target frame, or first convert the source frame instance to a `astropy.coordinates.SkyCoord` and use its `transform_to()` method. [astropy.coordinates.baseframe]\n"
     ]
    },
    {
     "data": {
      "text/html": [
       "<pre style=\"margin: 0.1em;\n",
       "padding-left: 0.25em;\n",
       "border-left-style: solid;\n",
       "font-family: var(--jp-code-font-family);\n",
       "font-size: var(--jp-code-font-size);\n",
       "line-height: var(--jp-code-line-height);\n",
       "\"><span style=\"color: var(--jp-warn-color2)\">astroquery</span> <span style=\"color: var(--jp-warn-color0)\">WARNING</span>: AstropyDeprecationWarning: Transforming a frame instance to a frame class (as opposed to another frame instance) will not be supported in the future.  Either explicitly instantiate the target frame, or first convert the source frame instance to a `astropy.coordinates.SkyCoord` and use its `transform_to()` method.</pre>"
      ],
      "text/plain": [
       "<IPython.core.display.HTML object>"
      ]
     },
     "metadata": {},
     "output_type": "display_data"
    },
    {
     "data": {
      "text/html": [
       "<pre style=\"margin: 0.1em;\n",
       "padding-left: 0.25em;\n",
       "border-left-style: solid;\n",
       "font-family: var(--jp-code-font-family);\n",
       "font-size: var(--jp-code-font-size);\n",
       "line-height: var(--jp-code-line-height);\n",
       "\"><span style=\"color: var(--jp-warn-color2)\">Sky Flats 2023-05-09 22:17:35.254243 UT</span> <span style=\"color: var(--jp-info-color0)\">INFO</span>: ICRS Empty field coordinates:\n",
       "  RA  = 15:30:29.04 ; DEC = -14:31:26.8</pre>"
      ],
      "text/plain": [
       "<IPython.core.display.HTML object>"
      ]
     },
     "metadata": {},
     "output_type": "display_data"
    }
   ],
   "source": [
    "target = get_angle_from_sun()\n",
    "empty_field_coords = get_empty_field(target)\n",
    "logger.info(f\"ICRS Empty field coordinates:\\n\"\n",
    "      f\"  RA  = {empty_field_coords.ra.to_string(u.hour, sep=':')} ;\"\n",
    "      f\" DEC = {empty_field_coords.dec.to_string(u.degree, alwayssign=True, sep=':')}\")"
   ]
  },
  {
   "cell_type": "markdown",
   "id": "e8014c0c",
   "metadata": {},
   "source": [
    "## Slew to Field\n",
    "\n",
    "Now that we have our field, let's point the telescope and the dome to that direction."
   ]
  },
  {
   "cell_type": "code",
   "execution_count": 86,
   "id": "bbacd1dd-c70b-4cd6-9af6-f10bb76ac20b",
   "metadata": {
    "execution": {
     "iopub.execute_input": "2023-05-10T04:00:37.184012Z",
     "iopub.status.busy": "2023-05-10T04:00:37.183622Z",
     "iopub.status.idle": "2023-05-10T04:00:37.191522Z",
     "shell.execute_reply": "2023-05-10T04:00:37.191047Z",
     "shell.execute_reply.started": "2023-05-10T04:00:37.183994Z"
    },
    "tags": []
   },
   "outputs": [
    {
     "data": {
      "text/html": [
       "<pre style=\"margin: 0.1em;\n",
       "padding-left: 0.25em;\n",
       "border-left-style: solid;\n",
       "font-family: var(--jp-code-font-family);\n",
       "font-size: var(--jp-code-font-size);\n",
       "line-height: var(--jp-code-line-height);\n",
       "\"><span style=\"color: var(--jp-warn-color2)\">Sky Flats 2023-05-10 02:58:24.056213 UT</span> <span style=\"color: var(--jp-info-color0)\">INFO</span>: The telescope will be pointed to the empty field AzAlt coordinates:\n",
       " AZ = 81.73 deg ; EL = 42.93 deg</pre>"
      ],
      "text/plain": [
       "<IPython.core.display.HTML object>"
      ]
     },
     "metadata": {},
     "output_type": "display_data"
    }
   ],
   "source": [
    "empty_field_coords_azel = empty_field_coords.transform_to(AltAz(obstime=time,location=rubin_obs))\n",
    "logger.info(f\"The telescope will be pointed to the empty field AzAlt coordinates:\\n\"\n",
    "            f\" AZ = {empty_field_coords_azel.az.value:.2f} deg ;\"\n",
    "            f\" EL = {empty_field_coords_azel.alt.value:.2f} deg\")"
   ]
  },
  {
   "cell_type": "code",
   "execution_count": 19,
   "id": "1ddb3e58",
   "metadata": {
    "execution": {
     "iopub.execute_input": "2023-05-09T22:40:22.595055Z",
     "iopub.status.busy": "2023-05-09T22:40:22.594707Z",
     "iopub.status.idle": "2023-05-09T22:40:27.705125Z",
     "shell.execute_reply": "2023-05-09T22:40:27.704355Z",
     "shell.execute_reply.started": "2023-05-09T22:40:22.595033Z"
    },
    "tags": []
   },
   "outputs": [
    {
     "data": {
      "text/html": [
       "<pre style=\"margin: 0.1em;\n",
       "padding-left: 0.25em;\n",
       "border-left-style: solid;\n",
       "font-family: var(--jp-code-font-family);\n",
       "font-size: var(--jp-code-font-size);\n",
       "line-height: var(--jp-code-line-height);\n",
       "\"><span style=\"color: var(--jp-warn-color2)\">ATCS</span> <span style=\"color: var(--jp-error-color2)\">ERROR</span>: Command to track target slew_icrs rejected: Rejected : Elevation out of range. Target out of horizon limit (17 degs)</pre>"
      ],
      "text/plain": [
       "<IPython.core.display.HTML object>"
      ]
     },
     "metadata": {},
     "output_type": "display_data"
    },
    {
     "ename": "AckError",
     "evalue": "msg='Command failed', ackcmd=(ackcmd private_seqNum=1630455442, ack=<SalRetCode.CMD_FAILED: -302>, error=6611, result='Rejected : Elevation out of range. Target out of horizon limit (17 degs)')",
     "output_type": "error",
     "traceback": [
      "\u001b[0;31m---------------------------------------------------------------------------\u001b[0m",
      "\u001b[0;31mAckError\u001b[0m                                  Traceback (most recent call last)",
      "Input \u001b[0;32mIn [19]\u001b[0m, in \u001b[0;36m<cell line: 1>\u001b[0;34m()\u001b[0m\n\u001b[0;32m----> 1\u001b[0m \u001b[38;5;28;01mawait\u001b[39;00m atcs\u001b[38;5;241m.\u001b[39mslew_icrs(empty_field_coords\u001b[38;5;241m.\u001b[39mra\u001b[38;5;241m.\u001b[39mvalue, empty_field_coords\u001b[38;5;241m.\u001b[39mdec\u001b[38;5;241m.\u001b[39mvalue)\n",
      "File \u001b[0;32m/net/obs-env/auto_base_packages/ts_observatory_control/python/lsst/ts/observatory/control/base_tcs.py:647\u001b[0m, in \u001b[0;36mBaseTCS.slew_icrs\u001b[0;34m(self, ra, dec, rot, rot_type, target_name, dra, ddec, offset_x, offset_y, az_wrap_strategy, time_on_target, slew_timeout, stop_before_slew, wait_settle)\u001b[0m\n\u001b[1;32m    645\u001b[0m         \u001b[38;5;28;01mcontinue\u001b[39;00m\n\u001b[1;32m    646\u001b[0m     \u001b[38;5;28;01melse\u001b[39;00m:\n\u001b[0;32m--> 647\u001b[0m         \u001b[38;5;28;01mraise\u001b[39;00m ack_error\n\u001b[1;32m    648\u001b[0m \u001b[38;5;28;01mexcept\u001b[39;00m \u001b[38;5;167;01mException\u001b[39;00m \u001b[38;5;28;01mas\u001b[39;00m e:\n\u001b[1;32m    649\u001b[0m     slew_exception \u001b[38;5;241m=\u001b[39m e\n",
      "File \u001b[0;32m/net/obs-env/auto_base_packages/ts_observatory_control/python/lsst/ts/observatory/control/base_tcs.py:615\u001b[0m, in \u001b[0;36mBaseTCS.slew_icrs\u001b[0;34m(self, ra, dec, rot, rot_type, target_name, dra, ddec, offset_x, offset_y, az_wrap_strategy, time_on_target, slew_timeout, stop_before_slew, wait_settle)\u001b[0m\n\u001b[1;32m    613\u001b[0m \u001b[38;5;28;01mfor\u001b[39;00m rot_angle_to_try \u001b[38;5;129;01min\u001b[39;00m \u001b[38;5;28mself\u001b[39m\u001b[38;5;241m.\u001b[39mget_rot_angle_alternatives(rot_angle\u001b[38;5;241m.\u001b[39mdeg):\n\u001b[1;32m    614\u001b[0m     \u001b[38;5;28;01mtry\u001b[39;00m:\n\u001b[0;32m--> 615\u001b[0m         \u001b[38;5;28;01mawait\u001b[39;00m \u001b[38;5;28mself\u001b[39m\u001b[38;5;241m.\u001b[39mslew(\n\u001b[1;32m    616\u001b[0m             radec_icrs\u001b[38;5;241m.\u001b[39mra\u001b[38;5;241m.\u001b[39mhour,\n\u001b[1;32m    617\u001b[0m             radec_icrs\u001b[38;5;241m.\u001b[39mdec\u001b[38;5;241m.\u001b[39mdeg,\n\u001b[1;32m    618\u001b[0m             rotPA\u001b[38;5;241m=\u001b[39mrot_angle_to_try,\n\u001b[1;32m    619\u001b[0m             target_name\u001b[38;5;241m=\u001b[39mtarget_name,\n\u001b[1;32m    620\u001b[0m             frame\u001b[38;5;241m=\u001b[39m\u001b[38;5;28mself\u001b[39m\u001b[38;5;241m.\u001b[39mCoordFrame\u001b[38;5;241m.\u001b[39mICRS,\n\u001b[1;32m    621\u001b[0m             epoch\u001b[38;5;241m=\u001b[39m\u001b[38;5;241m2000\u001b[39m,\n\u001b[1;32m    622\u001b[0m             equinox\u001b[38;5;241m=\u001b[39m\u001b[38;5;241m2000\u001b[39m,\n\u001b[1;32m    623\u001b[0m             parallax\u001b[38;5;241m=\u001b[39m\u001b[38;5;241m0\u001b[39m,\n\u001b[1;32m    624\u001b[0m             pmRA\u001b[38;5;241m=\u001b[39m\u001b[38;5;241m0\u001b[39m,\n\u001b[1;32m    625\u001b[0m             pmDec\u001b[38;5;241m=\u001b[39m\u001b[38;5;241m0\u001b[39m,\n\u001b[1;32m    626\u001b[0m             rv\u001b[38;5;241m=\u001b[39m\u001b[38;5;241m0\u001b[39m,\n\u001b[1;32m    627\u001b[0m             dRA\u001b[38;5;241m=\u001b[39mdra,\n\u001b[1;32m    628\u001b[0m             dDec\u001b[38;5;241m=\u001b[39mddec,\n\u001b[1;32m    629\u001b[0m             rot_frame\u001b[38;5;241m=\u001b[39mrot_frame,\n\u001b[1;32m    630\u001b[0m             rot_track_frame\u001b[38;5;241m=\u001b[39mrot_track_frame,\n\u001b[1;32m    631\u001b[0m             az_wrap_strategy\u001b[38;5;241m=\u001b[39maz_wrap_strategy,\n\u001b[1;32m    632\u001b[0m             time_on_target\u001b[38;5;241m=\u001b[39mtime_on_target,\n\u001b[1;32m    633\u001b[0m             rot_mode\u001b[38;5;241m=\u001b[39m\u001b[38;5;28mself\u001b[39m\u001b[38;5;241m.\u001b[39mRotMode\u001b[38;5;241m.\u001b[39mFIELD,\n\u001b[1;32m    634\u001b[0m             slew_timeout\u001b[38;5;241m=\u001b[39mslew_timeout,\n\u001b[1;32m    635\u001b[0m             stop_before_slew\u001b[38;5;241m=\u001b[39mstop_before_slew,\n\u001b[1;32m    636\u001b[0m             wait_settle\u001b[38;5;241m=\u001b[39mwait_settle,\n\u001b[1;32m    637\u001b[0m             offset_x\u001b[38;5;241m=\u001b[39moffset_x,\n\u001b[1;32m    638\u001b[0m             offset_y\u001b[38;5;241m=\u001b[39moffset_y,\n\u001b[1;32m    639\u001b[0m         )\n\u001b[1;32m    640\u001b[0m     \u001b[38;5;28;01mexcept\u001b[39;00m salobj\u001b[38;5;241m.\u001b[39mAckError \u001b[38;5;28;01mas\u001b[39;00m ack_error:\n\u001b[1;32m    641\u001b[0m         \u001b[38;5;28;01mif\u001b[39;00m \u001b[38;5;124m\"\u001b[39m\u001b[38;5;124mTarget out of rotator limit\u001b[39m\u001b[38;5;124m\"\u001b[39m \u001b[38;5;129;01min\u001b[39;00m ack_error\u001b[38;5;241m.\u001b[39mackcmd\u001b[38;5;241m.\u001b[39mresult:\n",
      "File \u001b[0;32m/net/obs-env/auto_base_packages/ts_observatory_control/python/lsst/ts/observatory/control/base_tcs.py:814\u001b[0m, in \u001b[0;36mBaseTCS.slew\u001b[0;34m(self, ra, dec, rotPA, target_name, frame, epoch, equinox, parallax, pmRA, pmDec, rv, dRA, dDec, rot_frame, rot_track_frame, rot_mode, az_wrap_strategy, time_on_target, slew_timeout, stop_before_slew, wait_settle, offset_x, offset_y)\u001b[0m\n\u001b[1;32m    810\u001b[0m \u001b[38;5;28;01mexcept\u001b[39;00m salobj\u001b[38;5;241m.\u001b[39mAckError \u001b[38;5;28;01mas\u001b[39;00m ack_err:\n\u001b[1;32m    811\u001b[0m     \u001b[38;5;28mself\u001b[39m\u001b[38;5;241m.\u001b[39mlog\u001b[38;5;241m.\u001b[39merror(\n\u001b[1;32m    812\u001b[0m         \u001b[38;5;124mf\u001b[39m\u001b[38;5;124m\"\u001b[39m\u001b[38;5;124mCommand to track target \u001b[39m\u001b[38;5;132;01m{\u001b[39;00mtarget_name\u001b[38;5;132;01m}\u001b[39;00m\u001b[38;5;124m rejected: \u001b[39m\u001b[38;5;132;01m{\u001b[39;00mack_err\u001b[38;5;241m.\u001b[39mackcmd\u001b[38;5;241m.\u001b[39mresult\u001b[38;5;132;01m}\u001b[39;00m\u001b[38;5;124m\"\u001b[39m\n\u001b[1;32m    813\u001b[0m     )\n\u001b[0;32m--> 814\u001b[0m     \u001b[38;5;28;01mraise\u001b[39;00m ack_err\n",
      "File \u001b[0;32m/net/obs-env/auto_base_packages/ts_observatory_control/python/lsst/ts/observatory/control/base_tcs.py:803\u001b[0m, in \u001b[0;36mBaseTCS.slew\u001b[0;34m(self, ra, dec, rotPA, target_name, frame, epoch, equinox, parallax, pmRA, pmDec, rv, dRA, dDec, rot_frame, rot_track_frame, rot_mode, az_wrap_strategy, time_on_target, slew_timeout, stop_before_slew, wait_settle, offset_x, offset_y)\u001b[0m\n\u001b[1;32m    796\u001b[0m \u001b[38;5;28mgetattr\u001b[39m(\u001b[38;5;28mself\u001b[39m\u001b[38;5;241m.\u001b[39mrem, \u001b[38;5;28mself\u001b[39m\u001b[38;5;241m.\u001b[39mptg_name)\u001b[38;5;241m.\u001b[39mcmd_poriginOffset\u001b[38;5;241m.\u001b[39mset(\n\u001b[1;32m    797\u001b[0m     dx\u001b[38;5;241m=\u001b[39moffset_x \u001b[38;5;241m*\u001b[39m \u001b[38;5;28mself\u001b[39m\u001b[38;5;241m.\u001b[39mplate_scale,\n\u001b[1;32m    798\u001b[0m     dy\u001b[38;5;241m=\u001b[39moffset_y \u001b[38;5;241m*\u001b[39m \u001b[38;5;28mself\u001b[39m\u001b[38;5;241m.\u001b[39mplate_scale,\n\u001b[1;32m    799\u001b[0m     num\u001b[38;5;241m=\u001b[39m\u001b[38;5;241m0\u001b[39m,\n\u001b[1;32m    800\u001b[0m )\n\u001b[1;32m    802\u001b[0m \u001b[38;5;28;01mtry\u001b[39;00m:\n\u001b[0;32m--> 803\u001b[0m     \u001b[38;5;28;01mawait\u001b[39;00m \u001b[38;5;28mself\u001b[39m\u001b[38;5;241m.\u001b[39m_slew_to(\n\u001b[1;32m    804\u001b[0m         \u001b[38;5;28mgetattr\u001b[39m(\u001b[38;5;28mself\u001b[39m\u001b[38;5;241m.\u001b[39mrem, \u001b[38;5;28mself\u001b[39m\u001b[38;5;241m.\u001b[39mptg_name)\u001b[38;5;241m.\u001b[39mcmd_raDecTarget,\n\u001b[1;32m    805\u001b[0m         slew_timeout\u001b[38;5;241m=\u001b[39mslew_timeout,\n\u001b[1;32m    806\u001b[0m         offset_cmd\u001b[38;5;241m=\u001b[39m\u001b[38;5;28mgetattr\u001b[39m(\u001b[38;5;28mself\u001b[39m\u001b[38;5;241m.\u001b[39mrem, \u001b[38;5;28mself\u001b[39m\u001b[38;5;241m.\u001b[39mptg_name)\u001b[38;5;241m.\u001b[39mcmd_poriginOffset,\n\u001b[1;32m    807\u001b[0m         stop_before_slew\u001b[38;5;241m=\u001b[39mstop_before_slew,\n\u001b[1;32m    808\u001b[0m         wait_settle\u001b[38;5;241m=\u001b[39mwait_settle,\n\u001b[1;32m    809\u001b[0m     )\n\u001b[1;32m    810\u001b[0m \u001b[38;5;28;01mexcept\u001b[39;00m salobj\u001b[38;5;241m.\u001b[39mAckError \u001b[38;5;28;01mas\u001b[39;00m ack_err:\n\u001b[1;32m    811\u001b[0m     \u001b[38;5;28mself\u001b[39m\u001b[38;5;241m.\u001b[39mlog\u001b[38;5;241m.\u001b[39merror(\n\u001b[1;32m    812\u001b[0m         \u001b[38;5;124mf\u001b[39m\u001b[38;5;124m\"\u001b[39m\u001b[38;5;124mCommand to track target \u001b[39m\u001b[38;5;132;01m{\u001b[39;00mtarget_name\u001b[38;5;132;01m}\u001b[39;00m\u001b[38;5;124m rejected: \u001b[39m\u001b[38;5;132;01m{\u001b[39;00mack_err\u001b[38;5;241m.\u001b[39mackcmd\u001b[38;5;241m.\u001b[39mresult\u001b[38;5;132;01m}\u001b[39;00m\u001b[38;5;124m\"\u001b[39m\n\u001b[1;32m    813\u001b[0m     )\n",
      "File \u001b[0;32m/net/obs-env/auto_base_packages/ts_observatory_control/python/lsst/ts/observatory/control/auxtel/atcs.py:1409\u001b[0m, in \u001b[0;36mATCS._slew_to\u001b[0;34m(self, slew_cmd, slew_timeout, offset_cmd, stop_before_slew, wait_settle, check)\u001b[0m\n\u001b[1;32m   1405\u001b[0m     \u001b[38;5;28;01mpass\u001b[39;00m\n\u001b[1;32m   1407\u001b[0m slew_cmd\u001b[38;5;241m.\u001b[39mdata\u001b[38;5;241m.\u001b[39mtrackId \u001b[38;5;241m=\u001b[39m track_id\n\u001b[0;32m-> 1409\u001b[0m \u001b[38;5;28;01mawait\u001b[39;00m slew_cmd\u001b[38;5;241m.\u001b[39mstart(timeout\u001b[38;5;241m=\u001b[39mslew_timeout)\n\u001b[1;32m   1410\u001b[0m \u001b[38;5;28mself\u001b[39m\u001b[38;5;241m.\u001b[39mdome_az_in_position\u001b[38;5;241m.\u001b[39mclear()\n\u001b[1;32m   1411\u001b[0m \u001b[38;5;28;01mif\u001b[39;00m offset_cmd \u001b[38;5;129;01mis\u001b[39;00m \u001b[38;5;129;01mnot\u001b[39;00m \u001b[38;5;28;01mNone\u001b[39;00m:\n",
      "File \u001b[0;32m/opt/lsst/software/stack/conda/miniconda3-py38_4.9.2/envs/lsst-scipipe-6.0.0/lib/python3.10/site-packages/lsst/ts/salobj/topics/remote_command.py:485\u001b[0m, in \u001b[0;36mRemoteCommand.start\u001b[0;34m(self, data, timeout, wait_done)\u001b[0m\n\u001b[1;32m    482\u001b[0m \u001b[38;5;28;01mfinally\u001b[39;00m:\n\u001b[1;32m    483\u001b[0m     \u001b[38;5;28mself\u001b[39m\u001b[38;5;241m.\u001b[39m_in_start \u001b[38;5;241m=\u001b[39m \u001b[38;5;28;01mFalse\u001b[39;00m\n\u001b[0;32m--> 485\u001b[0m \u001b[38;5;28;01mreturn\u001b[39;00m \u001b[38;5;28;01mawait\u001b[39;00m cmd_info\u001b[38;5;241m.\u001b[39mnext_ackcmd(timeout\u001b[38;5;241m=\u001b[39mtimeout)\n",
      "File \u001b[0;32m/opt/lsst/software/stack/conda/miniconda3-py38_4.9.2/envs/lsst-scipipe-6.0.0/lib/python3.10/site-packages/lsst/ts/salobj/topics/remote_command.py:191\u001b[0m, in \u001b[0;36mCommandInfo.next_ackcmd\u001b[0;34m(self, timeout)\u001b[0m\n\u001b[1;32m    189\u001b[0m     ackcmd \u001b[38;5;241m=\u001b[39m \u001b[38;5;28;01mawait\u001b[39;00m \u001b[38;5;28mself\u001b[39m\u001b[38;5;241m.\u001b[39m_wait_task\n\u001b[1;32m    190\u001b[0m     \u001b[38;5;28;01mif\u001b[39;00m ackcmd\u001b[38;5;241m.\u001b[39mack \u001b[38;5;129;01min\u001b[39;00m \u001b[38;5;28mself\u001b[39m\u001b[38;5;241m.\u001b[39mfailed_ack_codes:\n\u001b[0;32m--> 191\u001b[0m         \u001b[38;5;28;01mraise\u001b[39;00m base\u001b[38;5;241m.\u001b[39mAckError(msg\u001b[38;5;241m=\u001b[39m\u001b[38;5;124m\"\u001b[39m\u001b[38;5;124mCommand failed\u001b[39m\u001b[38;5;124m\"\u001b[39m, ackcmd\u001b[38;5;241m=\u001b[39mackcmd)\n\u001b[1;32m    192\u001b[0m     \u001b[38;5;28;01mreturn\u001b[39;00m ackcmd\n\u001b[1;32m    193\u001b[0m \u001b[38;5;28;01mexcept\u001b[39;00m asyncio\u001b[38;5;241m.\u001b[39mTimeoutError:\n",
      "\u001b[0;31mAckError\u001b[0m: msg='Command failed', ackcmd=(ackcmd private_seqNum=1630455442, ack=<SalRetCode.CMD_FAILED: -302>, error=6611, result='Rejected : Elevation out of range. Target out of horizon limit (17 degs)')"
     ]
    }
   ],
   "source": [
    "await atcs.slew_icrs(empty_field_coords.ra.value, empty_field_coords.dec.value)"
   ]
  },
  {
   "cell_type": "markdown",
   "id": "9d711c19-61ca-4f05-bba6-623ae315ecb0",
   "metadata": {},
   "source": [
    "## Define filter, minimum counts and offsets between images\n",
    "\n",
    "Need at least 10K ADU per pixel for each band."
   ]
  },
  {
   "cell_type": "code",
   "execution_count": 26,
   "id": "d84f0863-9925-458b-8c81-56bba8c4b255",
   "metadata": {
    "execution": {
     "iopub.execute_input": "2023-05-09T22:47:24.176528Z",
     "iopub.status.busy": "2023-05-09T22:47:24.176167Z",
     "iopub.status.idle": "2023-05-09T22:47:24.179569Z",
     "shell.execute_reply": "2023-05-09T22:47:24.179088Z",
     "shell.execute_reply.started": "2023-05-09T22:47:24.176509Z"
    },
    "tags": []
   },
   "outputs": [],
   "source": [
    "order = [1,2,3,0]\n",
    "filters = np.array(inst_setup[0])[order]"
   ]
  },
  {
   "cell_type": "code",
   "execution_count": 27,
   "id": "5e95cf3a-0fbf-46af-af8a-560872efc22c",
   "metadata": {
    "execution": {
     "iopub.execute_input": "2023-05-09T22:47:25.516508Z",
     "iopub.status.busy": "2023-05-09T22:47:25.516125Z",
     "iopub.status.idle": "2023-05-09T22:47:25.519352Z",
     "shell.execute_reply": "2023-05-09T22:47:25.518865Z",
     "shell.execute_reply.started": "2023-05-09T22:47:25.516488Z"
    },
    "tags": []
   },
   "outputs": [],
   "source": [
    "dither_offset = 30\n",
    "min_counts = 15000\n",
    "max_times_below_mincounts_before_changing_filter = 1"
   ]
  },
  {
   "cell_type": "code",
   "execution_count": 72,
   "id": "bc7dda33-7ad1-4218-b18d-fae0eae11e91",
   "metadata": {
    "execution": {
     "iopub.execute_input": "2023-05-10T02:04:46.362800Z",
     "iopub.status.busy": "2023-05-10T02:04:46.362404Z",
     "iopub.status.idle": "2023-05-10T02:04:46.365943Z",
     "shell.execute_reply": "2023-05-10T02:04:46.365415Z",
     "shell.execute_reply.started": "2023-05-10T02:04:46.362780Z"
    },
    "tags": []
   },
   "outputs": [],
   "source": [
    "!!!! Change this with Erik !!!!\n",
    "starting_exposure_time = {filters[0]:1, filters[1]:2, filters[2]:3, filters[3]:4}"
   ]
  },
  {
   "cell_type": "code",
   "execution_count": 87,
   "id": "495f4f7a-0f3c-49fb-b152-0ed3e45487ca",
   "metadata": {
    "execution": {
     "iopub.execute_input": "2023-05-10T04:45:32.148705Z",
     "iopub.status.busy": "2023-05-10T04:45:32.148320Z",
     "iopub.status.idle": "2023-05-10T04:45:32.152777Z",
     "shell.execute_reply": "2023-05-10T04:45:32.152290Z",
     "shell.execute_reply.started": "2023-05-10T04:45:32.148686Z"
    },
    "tags": []
   },
   "outputs": [
    {
     "data": {
      "text/html": [
       "<pre style=\"margin: 0.1em;\n",
       "padding-left: 0.25em;\n",
       "border-left-style: solid;\n",
       "font-family: var(--jp-code-font-family);\n",
       "font-size: var(--jp-code-font-size);\n",
       "line-height: var(--jp-code-line-height);\n",
       "\"><span style=\"color: var(--jp-warn-color2)\">Sky Flats 2023-05-10 02:58:24.056213 UT</span> <span style=\"color: var(--jp-info-color0)\">INFO</span>: The starting exposure time for \n",
       "SDSSg_65mm filter: 1 seconds\n",
       "SDSSr_65mm filter: 3 seconds\n",
       "SDSSi_65mm filter: 5 seconds\n",
       "empty_1 filter: 1 seconds</pre>"
      ],
      "text/plain": [
       "<IPython.core.display.HTML object>"
      ]
     },
     "metadata": {},
     "output_type": "display_data"
    }
   ],
   "source": [
    "newline = \"\\n\"  # \\escapes are not allowed inside f-strings\n",
    "logger.info(f'The starting exposure time for each filter is \\n'\n",
    "            f'{newline.join(f\"{key}: {value} seconds\" for key, value in starting_exposure_time.items())}')"
   ]
  },
  {
   "cell_type": "markdown",
   "id": "301ceae4",
   "metadata": {
    "tags": []
   },
   "source": [
    "## Find first image\n",
    "\n",
    "Here is where we check image saturation. We take an image with some short exposure time with the bluest filter, check how many pixels on each detector are saturated, check how many counts do we have in each detector, and once we have high but not saturated signal is all detectors and in most of the pixels, we move forward."
   ]
  },
  {
   "cell_type": "code",
   "execution_count": 31,
   "id": "4d4d575c",
   "metadata": {
    "execution": {
     "iopub.execute_input": "2023-05-09T22:47:58.145377Z",
     "iopub.status.busy": "2023-05-09T22:47:58.145003Z",
     "iopub.status.idle": "2023-05-09T22:48:10.791899Z",
     "shell.execute_reply": "2023-05-09T22:48:10.791393Z",
     "shell.execute_reply.started": "2023-05-09T22:47:58.145357Z"
    },
    "tags": []
   },
   "outputs": [
    {
     "data": {
      "text/html": [
       "<pre style=\"margin: 0.1em;\n",
       "padding-left: 0.25em;\n",
       "border-left-style: solid;\n",
       "font-family: var(--jp-code-font-family);\n",
       "font-size: var(--jp-code-font-size);\n",
       "line-height: var(--jp-code-line-height);\n",
       "\"><span style=\"color: var(--jp-warn-color2)\">ATHeaderService.logevent_logMessage</span> <span style=\"color: var(--jp-warn-color0)\">WARNING</span>: evt_logMessage DDS read queue is filling: 47 of 100 elements</pre>"
      ],
      "text/plain": [
       "<IPython.core.display.HTML object>"
      ]
     },
     "metadata": {},
     "output_type": "display_data"
    },
    {
     "name": "stdout",
     "output_type": "stream",
     "text": [
      "The test exposure is 2023050900156 with filter\n"
     ]
    },
    {
     "data": {
      "text/html": [
       "<pre style=\"margin: 0.1em;\n",
       "padding-left: 0.25em;\n",
       "border-left-style: solid;\n",
       "font-family: var(--jp-code-font-family);\n",
       "font-size: var(--jp-code-font-size);\n",
       "line-height: var(--jp-code-line-height);\n",
       "\"><span style=\"color: var(--jp-warn-color2)\">Sky Flats 2023-05-09 22:17:35.254243 UT</span> <span style=\"color: var(--jp-error-color2)\">ERROR</span>: Could not get new image from butler. Waiting 1 seconds and trying again.</pre><pre style=\"margin: 0.1em;\n",
       "padding-left: 0.25em;\n",
       "border-left-style: solid;\n",
       "font-family: var(--jp-code-font-family);\n",
       "font-size: var(--jp-code-font-size);\n",
       "line-height: var(--jp-code-line-height);\n",
       "\">Traceback (most recent call last):\n",
       "  File \"/tmp/ipykernel_9830/3420654075.py\", line 35, in verify_counts\n",
       "    exp = butler.get('raw', dataId=dataId)\n",
       "  File \"/opt/lsst/software/stack/stack/miniconda3-py38_4.9.2-6.0.0/Linux64/daf_butler/gf80a4f1b81+02c8b8cb00/python/lsst/daf/butler/_butler.py\", line 1446, in get\n",
       "    ref = self._findDatasetRef(datasetRefOrType, dataId, collections=collections, **kwargs)\n",
       "  File \"/opt/lsst/software/stack/stack/miniconda3-py38_4.9.2-6.0.0/Linux64/daf_butler/gf80a4f1b81+02c8b8cb00/python/lsst/daf/butler/_butler.py\", line 1102, in _findDatasetRef\n",
       "    raise LookupError(\n",
       "LookupError: Dataset raw with data ID {instrument: 'LATISS', detector: 0, exposure: 2023050900156} could not be found in collections ('LATISS/raw/all',).\n",
       "</pre>"
      ],
      "text/plain": [
       "<IPython.core.display.HTML object>"
      ]
     },
     "metadata": {},
     "output_type": "display_data"
    },
    {
     "data": {
      "text/html": [
       "<pre style=\"margin: 0.1em;\n",
       "padding-left: 0.25em;\n",
       "border-left-style: solid;\n",
       "font-family: var(--jp-code-font-family);\n",
       "font-size: var(--jp-code-font-size);\n",
       "line-height: var(--jp-code-line-height);\n",
       "\"><span style=\"color: var(--jp-warn-color2)\">Sky Flats 2023-05-09 22:17:35.254243 UT</span> <span style=\"color: var(--jp-error-color2)\">ERROR</span>: Could not get new image from butler. Waiting 1 seconds and trying again.</pre><pre style=\"margin: 0.1em;\n",
       "padding-left: 0.25em;\n",
       "border-left-style: solid;\n",
       "font-family: var(--jp-code-font-family);\n",
       "font-size: var(--jp-code-font-size);\n",
       "line-height: var(--jp-code-line-height);\n",
       "\">Traceback (most recent call last):\n",
       "  File \"/tmp/ipykernel_9830/3420654075.py\", line 35, in verify_counts\n",
       "    exp = butler.get('raw', dataId=dataId)\n",
       "  File \"/opt/lsst/software/stack/stack/miniconda3-py38_4.9.2-6.0.0/Linux64/daf_butler/gf80a4f1b81+02c8b8cb00/python/lsst/daf/butler/_butler.py\", line 1446, in get\n",
       "    ref = self._findDatasetRef(datasetRefOrType, dataId, collections=collections, **kwargs)\n",
       "  File \"/opt/lsst/software/stack/stack/miniconda3-py38_4.9.2-6.0.0/Linux64/daf_butler/gf80a4f1b81+02c8b8cb00/python/lsst/daf/butler/_butler.py\", line 1102, in _findDatasetRef\n",
       "    raise LookupError(\n",
       "LookupError: Dataset raw with data ID {instrument: 'LATISS', detector: 0, exposure: 2023050900156} could not be found in collections ('LATISS/raw/all',).\n",
       "</pre>"
      ],
      "text/plain": [
       "<IPython.core.display.HTML object>"
      ]
     },
     "metadata": {},
     "output_type": "display_data"
    },
    {
     "data": {
      "text/html": [
       "<pre style=\"margin: 0.1em;\n",
       "padding-left: 0.25em;\n",
       "border-left-style: solid;\n",
       "font-family: var(--jp-code-font-family);\n",
       "font-size: var(--jp-code-font-size);\n",
       "line-height: var(--jp-code-line-height);\n",
       "\"><span style=\"color: var(--jp-warn-color2)\">Sky Flats 2023-05-09 22:17:35.254243 UT</span> <span style=\"color: var(--jp-error-color2)\">ERROR</span>: Could not get new image from butler. Waiting 1 seconds and trying again.</pre><pre style=\"margin: 0.1em;\n",
       "padding-left: 0.25em;\n",
       "border-left-style: solid;\n",
       "font-family: var(--jp-code-font-family);\n",
       "font-size: var(--jp-code-font-size);\n",
       "line-height: var(--jp-code-line-height);\n",
       "\">Traceback (most recent call last):\n",
       "  File \"/tmp/ipykernel_9830/3420654075.py\", line 35, in verify_counts\n",
       "    exp = butler.get('raw', dataId=dataId)\n",
       "  File \"/opt/lsst/software/stack/stack/miniconda3-py38_4.9.2-6.0.0/Linux64/daf_butler/gf80a4f1b81+02c8b8cb00/python/lsst/daf/butler/_butler.py\", line 1446, in get\n",
       "    ref = self._findDatasetRef(datasetRefOrType, dataId, collections=collections, **kwargs)\n",
       "  File \"/opt/lsst/software/stack/stack/miniconda3-py38_4.9.2-6.0.0/Linux64/daf_butler/gf80a4f1b81+02c8b8cb00/python/lsst/daf/butler/_butler.py\", line 1102, in _findDatasetRef\n",
       "    raise LookupError(\n",
       "LookupError: Dataset raw with data ID {instrument: 'LATISS', detector: 0, exposure: 2023050900156} could not be found in collections ('LATISS/raw/all',).\n",
       "</pre>"
      ],
      "text/plain": [
       "<IPython.core.display.HTML object>"
      ]
     },
     "metadata": {},
     "output_type": "display_data"
    },
    {
     "data": {
      "text/html": [
       "<pre style=\"margin: 0.1em;\n",
       "padding-left: 0.25em;\n",
       "border-left-style: solid;\n",
       "font-family: var(--jp-code-font-family);\n",
       "font-size: var(--jp-code-font-size);\n",
       "line-height: var(--jp-code-line-height);\n",
       "\"><span style=\"color: var(--jp-warn-color2)\">Sky Flats 2023-05-09 22:17:35.254243 UT</span> <span style=\"color: var(--jp-error-color2)\">ERROR</span>: Could not get new image from butler. Waiting 1 seconds and trying again.</pre><pre style=\"margin: 0.1em;\n",
       "padding-left: 0.25em;\n",
       "border-left-style: solid;\n",
       "font-family: var(--jp-code-font-family);\n",
       "font-size: var(--jp-code-font-size);\n",
       "line-height: var(--jp-code-line-height);\n",
       "\">Traceback (most recent call last):\n",
       "  File \"/tmp/ipykernel_9830/3420654075.py\", line 35, in verify_counts\n",
       "    exp = butler.get('raw', dataId=dataId)\n",
       "  File \"/opt/lsst/software/stack/stack/miniconda3-py38_4.9.2-6.0.0/Linux64/daf_butler/gf80a4f1b81+02c8b8cb00/python/lsst/daf/butler/_butler.py\", line 1446, in get\n",
       "    ref = self._findDatasetRef(datasetRefOrType, dataId, collections=collections, **kwargs)\n",
       "  File \"/opt/lsst/software/stack/stack/miniconda3-py38_4.9.2-6.0.0/Linux64/daf_butler/gf80a4f1b81+02c8b8cb00/python/lsst/daf/butler/_butler.py\", line 1102, in _findDatasetRef\n",
       "    raise LookupError(\n",
       "LookupError: Dataset raw with data ID {instrument: 'LATISS', detector: 0, exposure: 2023050900156} could not be found in collections ('LATISS/raw/all',).\n",
       "</pre>"
      ],
      "text/plain": [
       "<IPython.core.display.HTML object>"
      ]
     },
     "metadata": {},
     "output_type": "display_data"
    },
    {
     "data": {
      "text/html": [
       "<pre style=\"margin: 0.1em;\n",
       "padding-left: 0.25em;\n",
       "border-left-style: solid;\n",
       "font-family: var(--jp-code-font-family);\n",
       "font-size: var(--jp-code-font-size);\n",
       "line-height: var(--jp-code-line-height);\n",
       "\"><span style=\"color: var(--jp-warn-color2)\">Sky Flats 2023-05-09 22:17:35.254243 UT</span> <span style=\"color: var(--jp-error-color2)\">ERROR</span>: Could not get new image from butler. Waiting 1 seconds and trying again.</pre><pre style=\"margin: 0.1em;\n",
       "padding-left: 0.25em;\n",
       "border-left-style: solid;\n",
       "font-family: var(--jp-code-font-family);\n",
       "font-size: var(--jp-code-font-size);\n",
       "line-height: var(--jp-code-line-height);\n",
       "\">Traceback (most recent call last):\n",
       "  File \"/tmp/ipykernel_9830/3420654075.py\", line 35, in verify_counts\n",
       "    exp = butler.get('raw', dataId=dataId)\n",
       "  File \"/opt/lsst/software/stack/stack/miniconda3-py38_4.9.2-6.0.0/Linux64/daf_butler/gf80a4f1b81+02c8b8cb00/python/lsst/daf/butler/_butler.py\", line 1446, in get\n",
       "    ref = self._findDatasetRef(datasetRefOrType, dataId, collections=collections, **kwargs)\n",
       "  File \"/opt/lsst/software/stack/stack/miniconda3-py38_4.9.2-6.0.0/Linux64/daf_butler/gf80a4f1b81+02c8b8cb00/python/lsst/daf/butler/_butler.py\", line 1102, in _findDatasetRef\n",
       "    raise LookupError(\n",
       "LookupError: Dataset raw with data ID {instrument: 'LATISS', detector: 0, exposure: 2023050900156} could not be found in collections ('LATISS/raw/all',).\n",
       "</pre>"
      ],
      "text/plain": [
       "<IPython.core.display.HTML object>"
      ]
     },
     "metadata": {},
     "output_type": "display_data"
    },
    {
     "data": {
      "text/html": [
       "<pre style=\"margin: 0.1em;\n",
       "padding-left: 0.25em;\n",
       "border-left-style: solid;\n",
       "font-family: var(--jp-code-font-family);\n",
       "font-size: var(--jp-code-font-size);\n",
       "line-height: var(--jp-code-line-height);\n",
       "\"><span style=\"color: var(--jp-warn-color2)\">lsst.obs.base._fitsRawFormatterBase</span> <span style=\"color: var(--jp-warn-color0)\">WARNING</span>: Cannot create a valid WCS from metadata: CRPIX1</pre>"
      ],
      "text/plain": [
       "<IPython.core.display.HTML object>"
      ]
     },
     "metadata": {},
     "output_type": "display_data"
    },
    {
     "data": {
      "text/html": [
       "<pre style=\"margin: 0.1em;\n",
       "padding-left: 0.25em;\n",
       "border-left-style: solid;\n",
       "font-family: var(--jp-code-font-family);\n",
       "font-size: var(--jp-code-font-size);\n",
       "line-height: var(--jp-code-line-height);\n",
       "\"><span style=\"color: var(--jp-warn-color2)\">Sky Flats 2023-05-09 22:17:35.254243 UT</span> <span style=\"color: var(--jp-info-color0)\">INFO</span>: Exposure ID: 2023050900156</pre>"
      ],
      "text/plain": [
       "<IPython.core.display.HTML object>"
      ]
     },
     "metadata": {},
     "output_type": "display_data"
    },
    {
     "data": {
      "text/html": [
       "<pre style=\"margin: 0.1em;\n",
       "padding-left: 0.25em;\n",
       "border-left-style: solid;\n",
       "font-family: var(--jp-code-font-family);\n",
       "font-size: var(--jp-code-font-size);\n",
       "line-height: var(--jp-code-line-height);\n",
       "\"><span style=\"color: var(--jp-warn-color2)\">Sky Flats 2023-05-09 22:17:35.254243 UT</span> <span style=\"color: var(--jp-info-color0)\">INFO</span>:     Median: 13980.0</pre>"
      ],
      "text/plain": [
       "<IPython.core.display.HTML object>"
      ]
     },
     "metadata": {},
     "output_type": "display_data"
    },
    {
     "data": {
      "text/html": [
       "<pre style=\"margin: 0.1em;\n",
       "padding-left: 0.25em;\n",
       "border-left-style: solid;\n",
       "font-family: var(--jp-code-font-family);\n",
       "font-size: var(--jp-code-font-size);\n",
       "line-height: var(--jp-code-line-height);\n",
       "\"><span style=\"color: var(--jp-warn-color2)\">Sky Flats 2023-05-09 22:17:35.254243 UT</span> <span style=\"color: var(--jp-info-color0)\">INFO</span>:     Mean: 14482.206597222223</pre>"
      ],
      "text/plain": [
       "<IPython.core.display.HTML object>"
      ]
     },
     "metadata": {},
     "output_type": "display_data"
    },
    {
     "data": {
      "text/html": [
       "<pre style=\"margin: 0.1em;\n",
       "padding-left: 0.25em;\n",
       "border-left-style: solid;\n",
       "font-family: var(--jp-code-font-family);\n",
       "font-size: var(--jp-code-font-size);\n",
       "line-height: var(--jp-code-line-height);\n",
       "\"><span style=\"color: var(--jp-warn-color2)\">Sky Flats 2023-05-09 22:17:35.254243 UT</span> <span style=\"color: var(--jp-info-color0)\">INFO</span>:     Std: 3448.246021291389</pre>"
      ],
      "text/plain": [
       "<IPython.core.display.HTML object>"
      ]
     },
     "metadata": {},
     "output_type": "display_data"
    }
   ],
   "source": [
    "# Take image\n",
    "test_exp = await latiss.take_flats(\n",
    "    exptime=1, nflats=1, filter=filters[0], grating='empty_1', reason=\"Test\", program=\"SITCOM-790\")\n",
    "\n",
    "print(f\"The test exposure is {test_exp[0]} with {filters[0]}\")\n",
    "\n",
    "signal_level = await verify_counts(test_exp[0], timeout=10)"
   ]
  },
  {
   "cell_type": "markdown",
   "id": "07627de7",
   "metadata": {},
   "source": [
    "## Start Sequence\n",
    "\n",
    "Now that we have our start point for the filter, we take triplets of sky flats with offsets of 30 arcsec between each. \n",
    "\n",
    "Confirm signal levels as they show up in the http://ccs.lsst.org/RecentImages/auxtel.htmlhttp://ccs.lsst.org/RecentImages/auxtel.html."
   ]
  },
  {
   "cell_type": "code",
   "execution_count": 32,
   "id": "5947d4c2-3312-4a46-97bb-0caad4464536",
   "metadata": {
    "execution": {
     "iopub.execute_input": "2023-05-09T22:50:11.507768Z",
     "iopub.status.busy": "2023-05-09T22:50:11.507372Z",
     "iopub.status.idle": "2023-05-09T22:53:16.849966Z",
     "shell.execute_reply": "2023-05-09T22:53:16.849426Z",
     "shell.execute_reply.started": "2023-05-09T22:50:11.507748Z"
    },
    "tags": []
   },
   "outputs": [
    {
     "data": {
      "text/html": [
       "<pre style=\"margin: 0.1em;\n",
       "padding-left: 0.25em;\n",
       "border-left-style: solid;\n",
       "font-family: var(--jp-code-font-family);\n",
       "font-size: var(--jp-code-font-size);\n",
       "line-height: var(--jp-code-line-height);\n",
       "\"><span style=\"color: var(--jp-warn-color2)\">Sky Flats 2023-05-09 22:17:35.254243 UT</span> <span style=\"color: var(--jp-info-color0)\">INFO</span>: Filter is SDSSg_65mm</pre>"
      ],
      "text/plain": [
       "<IPython.core.display.HTML object>"
      ]
     },
     "metadata": {},
     "output_type": "display_data"
    },
    {
     "data": {
      "text/html": [
       "<pre style=\"margin: 0.1em;\n",
       "padding-left: 0.25em;\n",
       "border-left-style: solid;\n",
       "font-family: var(--jp-code-font-family);\n",
       "font-size: var(--jp-code-font-size);\n",
       "line-height: var(--jp-code-line-height);\n",
       "\"><span style=\"color: var(--jp-warn-color2)\">Sky Flats 2023-05-09 22:17:35.254243 UT</span> <span style=\"color: var(--jp-info-color0)\">INFO</span>: Sky flats triplets with 1 seconds exposure time and filter SDSSg_65mm are [2023050900157], [2023050900158] and [2023050900159]</pre>"
      ],
      "text/plain": [
       "<IPython.core.display.HTML object>"
      ]
     },
     "metadata": {},
     "output_type": "display_data"
    },
    {
     "data": {
      "text/html": [
       "<pre style=\"margin: 0.1em;\n",
       "padding-left: 0.25em;\n",
       "border-left-style: solid;\n",
       "font-family: var(--jp-code-font-family);\n",
       "font-size: var(--jp-code-font-size);\n",
       "line-height: var(--jp-code-line-height);\n",
       "\"><span style=\"color: var(--jp-warn-color2)\">Sky Flats 2023-05-09 22:17:35.254243 UT</span> <span style=\"color: var(--jp-error-color2)\">ERROR</span>: Could not get new image from butler. Waiting 1 seconds and trying again.</pre><pre style=\"margin: 0.1em;\n",
       "padding-left: 0.25em;\n",
       "border-left-style: solid;\n",
       "font-family: var(--jp-code-font-family);\n",
       "font-size: var(--jp-code-font-size);\n",
       "line-height: var(--jp-code-line-height);\n",
       "\">Traceback (most recent call last):\n",
       "  File \"/tmp/ipykernel_9830/3420654075.py\", line 35, in verify_counts\n",
       "    exp = butler.get('raw', dataId=dataId)\n",
       "  File \"/opt/lsst/software/stack/stack/miniconda3-py38_4.9.2-6.0.0/Linux64/daf_butler/gf80a4f1b81+02c8b8cb00/python/lsst/daf/butler/_butler.py\", line 1446, in get\n",
       "    ref = self._findDatasetRef(datasetRefOrType, dataId, collections=collections, **kwargs)\n",
       "  File \"/opt/lsst/software/stack/stack/miniconda3-py38_4.9.2-6.0.0/Linux64/daf_butler/gf80a4f1b81+02c8b8cb00/python/lsst/daf/butler/_butler.py\", line 1102, in _findDatasetRef\n",
       "    raise LookupError(\n",
       "LookupError: Dataset raw with data ID {instrument: 'LATISS', detector: 0, exposure: 2023050900159} could not be found in collections ('LATISS/raw/all',).\n",
       "</pre>"
      ],
      "text/plain": [
       "<IPython.core.display.HTML object>"
      ]
     },
     "metadata": {},
     "output_type": "display_data"
    },
    {
     "data": {
      "text/html": [
       "<pre style=\"margin: 0.1em;\n",
       "padding-left: 0.25em;\n",
       "border-left-style: solid;\n",
       "font-family: var(--jp-code-font-family);\n",
       "font-size: var(--jp-code-font-size);\n",
       "line-height: var(--jp-code-line-height);\n",
       "\"><span style=\"color: var(--jp-warn-color2)\">Sky Flats 2023-05-09 22:17:35.254243 UT</span> <span style=\"color: var(--jp-error-color2)\">ERROR</span>: Could not get new image from butler. Waiting 1 seconds and trying again.</pre><pre style=\"margin: 0.1em;\n",
       "padding-left: 0.25em;\n",
       "border-left-style: solid;\n",
       "font-family: var(--jp-code-font-family);\n",
       "font-size: var(--jp-code-font-size);\n",
       "line-height: var(--jp-code-line-height);\n",
       "\">Traceback (most recent call last):\n",
       "  File \"/tmp/ipykernel_9830/3420654075.py\", line 35, in verify_counts\n",
       "    exp = butler.get('raw', dataId=dataId)\n",
       "  File \"/opt/lsst/software/stack/stack/miniconda3-py38_4.9.2-6.0.0/Linux64/daf_butler/gf80a4f1b81+02c8b8cb00/python/lsst/daf/butler/_butler.py\", line 1446, in get\n",
       "    ref = self._findDatasetRef(datasetRefOrType, dataId, collections=collections, **kwargs)\n",
       "  File \"/opt/lsst/software/stack/stack/miniconda3-py38_4.9.2-6.0.0/Linux64/daf_butler/gf80a4f1b81+02c8b8cb00/python/lsst/daf/butler/_butler.py\", line 1102, in _findDatasetRef\n",
       "    raise LookupError(\n",
       "LookupError: Dataset raw with data ID {instrument: 'LATISS', detector: 0, exposure: 2023050900159} could not be found in collections ('LATISS/raw/all',).\n",
       "</pre>"
      ],
      "text/plain": [
       "<IPython.core.display.HTML object>"
      ]
     },
     "metadata": {},
     "output_type": "display_data"
    },
    {
     "data": {
      "text/html": [
       "<pre style=\"margin: 0.1em;\n",
       "padding-left: 0.25em;\n",
       "border-left-style: solid;\n",
       "font-family: var(--jp-code-font-family);\n",
       "font-size: var(--jp-code-font-size);\n",
       "line-height: var(--jp-code-line-height);\n",
       "\"><span style=\"color: var(--jp-warn-color2)\">Sky Flats 2023-05-09 22:17:35.254243 UT</span> <span style=\"color: var(--jp-error-color2)\">ERROR</span>: Could not get new image from butler. Waiting 1 seconds and trying again.</pre><pre style=\"margin: 0.1em;\n",
       "padding-left: 0.25em;\n",
       "border-left-style: solid;\n",
       "font-family: var(--jp-code-font-family);\n",
       "font-size: var(--jp-code-font-size);\n",
       "line-height: var(--jp-code-line-height);\n",
       "\">Traceback (most recent call last):\n",
       "  File \"/tmp/ipykernel_9830/3420654075.py\", line 35, in verify_counts\n",
       "    exp = butler.get('raw', dataId=dataId)\n",
       "  File \"/opt/lsst/software/stack/stack/miniconda3-py38_4.9.2-6.0.0/Linux64/daf_butler/gf80a4f1b81+02c8b8cb00/python/lsst/daf/butler/_butler.py\", line 1446, in get\n",
       "    ref = self._findDatasetRef(datasetRefOrType, dataId, collections=collections, **kwargs)\n",
       "  File \"/opt/lsst/software/stack/stack/miniconda3-py38_4.9.2-6.0.0/Linux64/daf_butler/gf80a4f1b81+02c8b8cb00/python/lsst/daf/butler/_butler.py\", line 1102, in _findDatasetRef\n",
       "    raise LookupError(\n",
       "LookupError: Dataset raw with data ID {instrument: 'LATISS', detector: 0, exposure: 2023050900159} could not be found in collections ('LATISS/raw/all',).\n",
       "</pre>"
      ],
      "text/plain": [
       "<IPython.core.display.HTML object>"
      ]
     },
     "metadata": {},
     "output_type": "display_data"
    },
    {
     "data": {
      "text/html": [
       "<pre style=\"margin: 0.1em;\n",
       "padding-left: 0.25em;\n",
       "border-left-style: solid;\n",
       "font-family: var(--jp-code-font-family);\n",
       "font-size: var(--jp-code-font-size);\n",
       "line-height: var(--jp-code-line-height);\n",
       "\"><span style=\"color: var(--jp-warn-color2)\">lsst.obs.base._fitsRawFormatterBase</span> <span style=\"color: var(--jp-warn-color0)\">WARNING</span>: Cannot create a valid WCS from metadata: CRPIX1</pre>"
      ],
      "text/plain": [
       "<IPython.core.display.HTML object>"
      ]
     },
     "metadata": {},
     "output_type": "display_data"
    },
    {
     "data": {
      "text/html": [
       "<pre style=\"margin: 0.1em;\n",
       "padding-left: 0.25em;\n",
       "border-left-style: solid;\n",
       "font-family: var(--jp-code-font-family);\n",
       "font-size: var(--jp-code-font-size);\n",
       "line-height: var(--jp-code-line-height);\n",
       "\"><span style=\"color: var(--jp-warn-color2)\">Sky Flats 2023-05-09 22:17:35.254243 UT</span> <span style=\"color: var(--jp-info-color0)\">INFO</span>: Exposure ID: 2023050900159</pre>"
      ],
      "text/plain": [
       "<IPython.core.display.HTML object>"
      ]
     },
     "metadata": {},
     "output_type": "display_data"
    },
    {
     "data": {
      "text/html": [
       "<pre style=\"margin: 0.1em;\n",
       "padding-left: 0.25em;\n",
       "border-left-style: solid;\n",
       "font-family: var(--jp-code-font-family);\n",
       "font-size: var(--jp-code-font-size);\n",
       "line-height: var(--jp-code-line-height);\n",
       "\"><span style=\"color: var(--jp-warn-color2)\">Sky Flats 2023-05-09 22:17:35.254243 UT</span> <span style=\"color: var(--jp-info-color0)\">INFO</span>:     Median: 13976.0</pre>"
      ],
      "text/plain": [
       "<IPython.core.display.HTML object>"
      ]
     },
     "metadata": {},
     "output_type": "display_data"
    },
    {
     "data": {
      "text/html": [
       "<pre style=\"margin: 0.1em;\n",
       "padding-left: 0.25em;\n",
       "border-left-style: solid;\n",
       "font-family: var(--jp-code-font-family);\n",
       "font-size: var(--jp-code-font-size);\n",
       "line-height: var(--jp-code-line-height);\n",
       "\"><span style=\"color: var(--jp-warn-color2)\">Sky Flats 2023-05-09 22:17:35.254243 UT</span> <span style=\"color: var(--jp-info-color0)\">INFO</span>:     Mean: 14399.783854166666</pre>"
      ],
      "text/plain": [
       "<IPython.core.display.HTML object>"
      ]
     },
     "metadata": {},
     "output_type": "display_data"
    },
    {
     "data": {
      "text/html": [
       "<pre style=\"margin: 0.1em;\n",
       "padding-left: 0.25em;\n",
       "border-left-style: solid;\n",
       "font-family: var(--jp-code-font-family);\n",
       "font-size: var(--jp-code-font-size);\n",
       "line-height: var(--jp-code-line-height);\n",
       "\"><span style=\"color: var(--jp-warn-color2)\">Sky Flats 2023-05-09 22:17:35.254243 UT</span> <span style=\"color: var(--jp-info-color0)\">INFO</span>:     Std: 1767.8745553664971</pre>"
      ],
      "text/plain": [
       "<IPython.core.display.HTML object>"
      ]
     },
     "metadata": {},
     "output_type": "display_data"
    },
    {
     "data": {
      "text/html": [
       "<pre style=\"margin: 0.1em;\n",
       "padding-left: 0.25em;\n",
       "border-left-style: solid;\n",
       "font-family: var(--jp-code-font-family);\n",
       "font-size: var(--jp-code-font-size);\n",
       "line-height: var(--jp-code-line-height);\n",
       "\"><span style=\"color: var(--jp-warn-color2)\">Sky Flats 2023-05-09 22:17:35.254243 UT</span> <span style=\"color: var(--jp-info-color0)\">INFO</span>: 1 times below min counts</pre>"
      ],
      "text/plain": [
       "<IPython.core.display.HTML object>"
      ]
     },
     "metadata": {},
     "output_type": "display_data"
    },
    {
     "data": {
      "text/html": [
       "<pre style=\"margin: 0.1em;\n",
       "padding-left: 0.25em;\n",
       "border-left-style: solid;\n",
       "font-family: var(--jp-code-font-family);\n",
       "font-size: var(--jp-code-font-size);\n",
       "line-height: var(--jp-code-line-height);\n",
       "\"><span style=\"color: var(--jp-warn-color2)\">Sky Flats 2023-05-09 22:17:35.254243 UT</span> <span style=\"color: var(--jp-info-color0)\">INFO</span>: The exposure time will be increased to 2 seconds</pre>"
      ],
      "text/plain": [
       "<IPython.core.display.HTML object>"
      ]
     },
     "metadata": {},
     "output_type": "display_data"
    },
    {
     "data": {
      "text/html": [
       "<pre style=\"margin: 0.1em;\n",
       "padding-left: 0.25em;\n",
       "border-left-style: solid;\n",
       "font-family: var(--jp-code-font-family);\n",
       "font-size: var(--jp-code-font-size);\n",
       "line-height: var(--jp-code-line-height);\n",
       "\"><span style=\"color: var(--jp-warn-color2)\">Sky Flats 2023-05-09 22:17:35.254243 UT</span> <span style=\"color: var(--jp-info-color0)\">INFO</span>: Filter is SDSSr_65mm</pre>"
      ],
      "text/plain": [
       "<IPython.core.display.HTML object>"
      ]
     },
     "metadata": {},
     "output_type": "display_data"
    },
    {
     "data": {
      "text/html": [
       "<pre style=\"margin: 0.1em;\n",
       "padding-left: 0.25em;\n",
       "border-left-style: solid;\n",
       "font-family: var(--jp-code-font-family);\n",
       "font-size: var(--jp-code-font-size);\n",
       "line-height: var(--jp-code-line-height);\n",
       "\"><span style=\"color: var(--jp-warn-color2)\">ATDome.position</span> <span style=\"color: var(--jp-warn-color0)\">WARNING</span>: tel_position DDS read queue is filling: 16 of 100 elements</pre>"
      ],
      "text/plain": [
       "<IPython.core.display.HTML object>"
      ]
     },
     "metadata": {},
     "output_type": "display_data"
    },
    {
     "data": {
      "text/html": [
       "<pre style=\"margin: 0.1em;\n",
       "padding-left: 0.25em;\n",
       "border-left-style: solid;\n",
       "font-family: var(--jp-code-font-family);\n",
       "font-size: var(--jp-code-font-size);\n",
       "line-height: var(--jp-code-line-height);\n",
       "\"><span style=\"color: var(--jp-warn-color2)\">ATDome.logevent_doorEncoderExtremes</span> <span style=\"color: var(--jp-warn-color0)\">WARNING</span>: evt_doorEncoderExtremes DDS read queue is filling: 16 of 100 elements</pre>"
      ],
      "text/plain": [
       "<IPython.core.display.HTML object>"
      ]
     },
     "metadata": {},
     "output_type": "display_data"
    },
    {
     "data": {
      "text/html": [
       "<pre style=\"margin: 0.1em;\n",
       "padding-left: 0.25em;\n",
       "border-left-style: solid;\n",
       "font-family: var(--jp-code-font-family);\n",
       "font-size: var(--jp-code-font-size);\n",
       "line-height: var(--jp-code-line-height);\n",
       "\"><span style=\"color: var(--jp-warn-color2)\">ATAOS.logevent_detailedState</span> <span style=\"color: var(--jp-warn-color0)\">WARNING</span>: evt_detailedState DDS read queue is filling: 12 of 100 elements</pre>"
      ],
      "text/plain": [
       "<IPython.core.display.HTML object>"
      ]
     },
     "metadata": {},
     "output_type": "display_data"
    },
    {
     "data": {
      "text/html": [
       "<pre style=\"margin: 0.1em;\n",
       "padding-left: 0.25em;\n",
       "border-left-style: solid;\n",
       "font-family: var(--jp-code-font-family);\n",
       "font-size: var(--jp-code-font-size);\n",
       "line-height: var(--jp-code-line-height);\n",
       "\"><span style=\"color: var(--jp-warn-color2)\">ATPtg.timeAndDate</span> <span style=\"color: var(--jp-warn-color0)\">WARNING</span>: tel_timeAndDate DDS read queue is filling: 17 of 100 elements</pre>"
      ],
      "text/plain": [
       "<IPython.core.display.HTML object>"
      ]
     },
     "metadata": {},
     "output_type": "display_data"
    },
    {
     "data": {
      "text/html": [
       "<pre style=\"margin: 0.1em;\n",
       "padding-left: 0.25em;\n",
       "border-left-style: solid;\n",
       "font-family: var(--jp-code-font-family);\n",
       "font-size: var(--jp-code-font-size);\n",
       "line-height: var(--jp-code-line-height);\n",
       "\"><span style=\"color: var(--jp-warn-color2)\">ATPtg.mountStatus</span> <span style=\"color: var(--jp-warn-color0)\">WARNING</span>: tel_mountStatus DDS read queue is filling: 18 of 100 elements</pre>"
      ],
      "text/plain": [
       "<IPython.core.display.HTML object>"
      ]
     },
     "metadata": {},
     "output_type": "display_data"
    },
    {
     "data": {
      "text/html": [
       "<pre style=\"margin: 0.1em;\n",
       "padding-left: 0.25em;\n",
       "border-left-style: solid;\n",
       "font-family: var(--jp-code-font-family);\n",
       "font-size: var(--jp-code-font-size);\n",
       "line-height: var(--jp-code-line-height);\n",
       "\"><span style=\"color: var(--jp-warn-color2)\">ATPtg.currentTargetStatus</span> <span style=\"color: var(--jp-warn-color0)\">WARNING</span>: tel_currentTargetStatus DDS read queue is filling: 17 of 100 elements</pre>"
      ],
      "text/plain": [
       "<IPython.core.display.HTML object>"
      ]
     },
     "metadata": {},
     "output_type": "display_data"
    },
    {
     "data": {
      "text/html": [
       "<pre style=\"margin: 0.1em;\n",
       "padding-left: 0.25em;\n",
       "border-left-style: solid;\n",
       "font-family: var(--jp-code-font-family);\n",
       "font-size: var(--jp-code-font-size);\n",
       "line-height: var(--jp-code-line-height);\n",
       "\"><span style=\"color: var(--jp-warn-color2)\">ATMCS.logevent_target</span> <span style=\"color: var(--jp-warn-color0)\">WARNING</span>: evt_target DDS read queue is filling: 69 of 100 elements</pre>"
      ],
      "text/plain": [
       "<IPython.core.display.HTML object>"
      ]
     },
     "metadata": {},
     "output_type": "display_data"
    },
    {
     "data": {
      "text/html": [
       "<pre style=\"margin: 0.1em;\n",
       "padding-left: 0.25em;\n",
       "border-left-style: solid;\n",
       "font-family: var(--jp-code-font-family);\n",
       "font-size: var(--jp-code-font-size);\n",
       "line-height: var(--jp-code-line-height);\n",
       "\"><span style=\"color: var(--jp-warn-color2)\">ATMCS.logevent_target</span> <span style=\"color: var(--jp-warn-color0)\">WARNING</span>: evt_target python read queue is filling: 68 of 100 elements</pre>"
      ],
      "text/plain": [
       "<IPython.core.display.HTML object>"
      ]
     },
     "metadata": {},
     "output_type": "display_data"
    },
    {
     "data": {
      "text/html": [
       "<pre style=\"margin: 0.1em;\n",
       "padding-left: 0.25em;\n",
       "border-left-style: solid;\n",
       "font-family: var(--jp-code-font-family);\n",
       "font-size: var(--jp-code-font-size);\n",
       "line-height: var(--jp-code-line-height);\n",
       "\"><span style=\"color: var(--jp-warn-color2)\">ATHeaderService.logevent_logMessage</span> <span style=\"color: var(--jp-warn-color0)\">WARNING</span>: evt_logMessage DDS read queue is filling: 11 of 100 elements</pre>"
      ],
      "text/plain": [
       "<IPython.core.display.HTML object>"
      ]
     },
     "metadata": {},
     "output_type": "display_data"
    },
    {
     "data": {
      "text/html": [
       "<pre style=\"margin: 0.1em;\n",
       "padding-left: 0.25em;\n",
       "border-left-style: solid;\n",
       "font-family: var(--jp-code-font-family);\n",
       "font-size: var(--jp-code-font-size);\n",
       "line-height: var(--jp-code-line-height);\n",
       "\"><span style=\"color: var(--jp-warn-color2)\">Sky Flats 2023-05-09 22:17:35.254243 UT</span> <span style=\"color: var(--jp-info-color0)\">INFO</span>: Sky flats triplets with 2 seconds exposure time and filter SDSSr_65mm are [2023050900160], [2023050900161] and [2023050900162]</pre>"
      ],
      "text/plain": [
       "<IPython.core.display.HTML object>"
      ]
     },
     "metadata": {},
     "output_type": "display_data"
    },
    {
     "data": {
      "text/html": [
       "<pre style=\"margin: 0.1em;\n",
       "padding-left: 0.25em;\n",
       "border-left-style: solid;\n",
       "font-family: var(--jp-code-font-family);\n",
       "font-size: var(--jp-code-font-size);\n",
       "line-height: var(--jp-code-line-height);\n",
       "\"><span style=\"color: var(--jp-warn-color2)\">Sky Flats 2023-05-09 22:17:35.254243 UT</span> <span style=\"color: var(--jp-error-color2)\">ERROR</span>: Could not get new image from butler. Waiting 1 seconds and trying again.</pre><pre style=\"margin: 0.1em;\n",
       "padding-left: 0.25em;\n",
       "border-left-style: solid;\n",
       "font-family: var(--jp-code-font-family);\n",
       "font-size: var(--jp-code-font-size);\n",
       "line-height: var(--jp-code-line-height);\n",
       "\">Traceback (most recent call last):\n",
       "  File \"/tmp/ipykernel_9830/3420654075.py\", line 35, in verify_counts\n",
       "    exp = butler.get('raw', dataId=dataId)\n",
       "  File \"/opt/lsst/software/stack/stack/miniconda3-py38_4.9.2-6.0.0/Linux64/daf_butler/gf80a4f1b81+02c8b8cb00/python/lsst/daf/butler/_butler.py\", line 1446, in get\n",
       "    ref = self._findDatasetRef(datasetRefOrType, dataId, collections=collections, **kwargs)\n",
       "  File \"/opt/lsst/software/stack/stack/miniconda3-py38_4.9.2-6.0.0/Linux64/daf_butler/gf80a4f1b81+02c8b8cb00/python/lsst/daf/butler/_butler.py\", line 1102, in _findDatasetRef\n",
       "    raise LookupError(\n",
       "LookupError: Dataset raw with data ID {instrument: 'LATISS', detector: 0, exposure: 2023050900162} could not be found in collections ('LATISS/raw/all',).\n",
       "</pre>"
      ],
      "text/plain": [
       "<IPython.core.display.HTML object>"
      ]
     },
     "metadata": {},
     "output_type": "display_data"
    },
    {
     "data": {
      "text/html": [
       "<pre style=\"margin: 0.1em;\n",
       "padding-left: 0.25em;\n",
       "border-left-style: solid;\n",
       "font-family: var(--jp-code-font-family);\n",
       "font-size: var(--jp-code-font-size);\n",
       "line-height: var(--jp-code-line-height);\n",
       "\"><span style=\"color: var(--jp-warn-color2)\">Sky Flats 2023-05-09 22:17:35.254243 UT</span> <span style=\"color: var(--jp-error-color2)\">ERROR</span>: Could not get new image from butler. Waiting 1 seconds and trying again.</pre><pre style=\"margin: 0.1em;\n",
       "padding-left: 0.25em;\n",
       "border-left-style: solid;\n",
       "font-family: var(--jp-code-font-family);\n",
       "font-size: var(--jp-code-font-size);\n",
       "line-height: var(--jp-code-line-height);\n",
       "\">Traceback (most recent call last):\n",
       "  File \"/tmp/ipykernel_9830/3420654075.py\", line 35, in verify_counts\n",
       "    exp = butler.get('raw', dataId=dataId)\n",
       "  File \"/opt/lsst/software/stack/stack/miniconda3-py38_4.9.2-6.0.0/Linux64/daf_butler/gf80a4f1b81+02c8b8cb00/python/lsst/daf/butler/_butler.py\", line 1446, in get\n",
       "    ref = self._findDatasetRef(datasetRefOrType, dataId, collections=collections, **kwargs)\n",
       "  File \"/opt/lsst/software/stack/stack/miniconda3-py38_4.9.2-6.0.0/Linux64/daf_butler/gf80a4f1b81+02c8b8cb00/python/lsst/daf/butler/_butler.py\", line 1102, in _findDatasetRef\n",
       "    raise LookupError(\n",
       "LookupError: Dataset raw with data ID {instrument: 'LATISS', detector: 0, exposure: 2023050900162} could not be found in collections ('LATISS/raw/all',).\n",
       "</pre>"
      ],
      "text/plain": [
       "<IPython.core.display.HTML object>"
      ]
     },
     "metadata": {},
     "output_type": "display_data"
    },
    {
     "data": {
      "text/html": [
       "<pre style=\"margin: 0.1em;\n",
       "padding-left: 0.25em;\n",
       "border-left-style: solid;\n",
       "font-family: var(--jp-code-font-family);\n",
       "font-size: var(--jp-code-font-size);\n",
       "line-height: var(--jp-code-line-height);\n",
       "\"><span style=\"color: var(--jp-warn-color2)\">Sky Flats 2023-05-09 22:17:35.254243 UT</span> <span style=\"color: var(--jp-error-color2)\">ERROR</span>: Could not get new image from butler. Waiting 1 seconds and trying again.</pre><pre style=\"margin: 0.1em;\n",
       "padding-left: 0.25em;\n",
       "border-left-style: solid;\n",
       "font-family: var(--jp-code-font-family);\n",
       "font-size: var(--jp-code-font-size);\n",
       "line-height: var(--jp-code-line-height);\n",
       "\">Traceback (most recent call last):\n",
       "  File \"/tmp/ipykernel_9830/3420654075.py\", line 35, in verify_counts\n",
       "    exp = butler.get('raw', dataId=dataId)\n",
       "  File \"/opt/lsst/software/stack/stack/miniconda3-py38_4.9.2-6.0.0/Linux64/daf_butler/gf80a4f1b81+02c8b8cb00/python/lsst/daf/butler/_butler.py\", line 1446, in get\n",
       "    ref = self._findDatasetRef(datasetRefOrType, dataId, collections=collections, **kwargs)\n",
       "  File \"/opt/lsst/software/stack/stack/miniconda3-py38_4.9.2-6.0.0/Linux64/daf_butler/gf80a4f1b81+02c8b8cb00/python/lsst/daf/butler/_butler.py\", line 1102, in _findDatasetRef\n",
       "    raise LookupError(\n",
       "LookupError: Dataset raw with data ID {instrument: 'LATISS', detector: 0, exposure: 2023050900162} could not be found in collections ('LATISS/raw/all',).\n",
       "</pre>"
      ],
      "text/plain": [
       "<IPython.core.display.HTML object>"
      ]
     },
     "metadata": {},
     "output_type": "display_data"
    },
    {
     "data": {
      "text/html": [
       "<pre style=\"margin: 0.1em;\n",
       "padding-left: 0.25em;\n",
       "border-left-style: solid;\n",
       "font-family: var(--jp-code-font-family);\n",
       "font-size: var(--jp-code-font-size);\n",
       "line-height: var(--jp-code-line-height);\n",
       "\"><span style=\"color: var(--jp-warn-color2)\">lsst.obs.base._fitsRawFormatterBase</span> <span style=\"color: var(--jp-warn-color0)\">WARNING</span>: Cannot create a valid WCS from metadata: CRPIX1</pre>"
      ],
      "text/plain": [
       "<IPython.core.display.HTML object>"
      ]
     },
     "metadata": {},
     "output_type": "display_data"
    },
    {
     "data": {
      "text/html": [
       "<pre style=\"margin: 0.1em;\n",
       "padding-left: 0.25em;\n",
       "border-left-style: solid;\n",
       "font-family: var(--jp-code-font-family);\n",
       "font-size: var(--jp-code-font-size);\n",
       "line-height: var(--jp-code-line-height);\n",
       "\"><span style=\"color: var(--jp-warn-color2)\">Sky Flats 2023-05-09 22:17:35.254243 UT</span> <span style=\"color: var(--jp-info-color0)\">INFO</span>: Exposure ID: 2023050900162</pre>"
      ],
      "text/plain": [
       "<IPython.core.display.HTML object>"
      ]
     },
     "metadata": {},
     "output_type": "display_data"
    },
    {
     "data": {
      "text/html": [
       "<pre style=\"margin: 0.1em;\n",
       "padding-left: 0.25em;\n",
       "border-left-style: solid;\n",
       "font-family: var(--jp-code-font-family);\n",
       "font-size: var(--jp-code-font-size);\n",
       "line-height: var(--jp-code-line-height);\n",
       "\"><span style=\"color: var(--jp-warn-color2)\">Sky Flats 2023-05-09 22:17:35.254243 UT</span> <span style=\"color: var(--jp-info-color0)\">INFO</span>:     Median: 13981.0</pre>"
      ],
      "text/plain": [
       "<IPython.core.display.HTML object>"
      ]
     },
     "metadata": {},
     "output_type": "display_data"
    },
    {
     "data": {
      "text/html": [
       "<pre style=\"margin: 0.1em;\n",
       "padding-left: 0.25em;\n",
       "border-left-style: solid;\n",
       "font-family: var(--jp-code-font-family);\n",
       "font-size: var(--jp-code-font-size);\n",
       "line-height: var(--jp-code-line-height);\n",
       "\"><span style=\"color: var(--jp-warn-color2)\">Sky Flats 2023-05-09 22:17:35.254243 UT</span> <span style=\"color: var(--jp-info-color0)\">INFO</span>:     Mean: 14411.366319444445</pre>"
      ],
      "text/plain": [
       "<IPython.core.display.HTML object>"
      ]
     },
     "metadata": {},
     "output_type": "display_data"
    },
    {
     "data": {
      "text/html": [
       "<pre style=\"margin: 0.1em;\n",
       "padding-left: 0.25em;\n",
       "border-left-style: solid;\n",
       "font-family: var(--jp-code-font-family);\n",
       "font-size: var(--jp-code-font-size);\n",
       "line-height: var(--jp-code-line-height);\n",
       "\"><span style=\"color: var(--jp-warn-color2)\">Sky Flats 2023-05-09 22:17:35.254243 UT</span> <span style=\"color: var(--jp-info-color0)\">INFO</span>:     Std: 1804.4917630901725</pre>"
      ],
      "text/plain": [
       "<IPython.core.display.HTML object>"
      ]
     },
     "metadata": {},
     "output_type": "display_data"
    },
    {
     "data": {
      "text/html": [
       "<pre style=\"margin: 0.1em;\n",
       "padding-left: 0.25em;\n",
       "border-left-style: solid;\n",
       "font-family: var(--jp-code-font-family);\n",
       "font-size: var(--jp-code-font-size);\n",
       "line-height: var(--jp-code-line-height);\n",
       "\"><span style=\"color: var(--jp-warn-color2)\">Sky Flats 2023-05-09 22:17:35.254243 UT</span> <span style=\"color: var(--jp-info-color0)\">INFO</span>: 1 times below min counts</pre>"
      ],
      "text/plain": [
       "<IPython.core.display.HTML object>"
      ]
     },
     "metadata": {},
     "output_type": "display_data"
    },
    {
     "data": {
      "text/html": [
       "<pre style=\"margin: 0.1em;\n",
       "padding-left: 0.25em;\n",
       "border-left-style: solid;\n",
       "font-family: var(--jp-code-font-family);\n",
       "font-size: var(--jp-code-font-size);\n",
       "line-height: var(--jp-code-line-height);\n",
       "\"><span style=\"color: var(--jp-warn-color2)\">Sky Flats 2023-05-09 22:17:35.254243 UT</span> <span style=\"color: var(--jp-info-color0)\">INFO</span>: The exposure time will be increased to 4 seconds</pre>"
      ],
      "text/plain": [
       "<IPython.core.display.HTML object>"
      ]
     },
     "metadata": {},
     "output_type": "display_data"
    },
    {
     "data": {
      "text/html": [
       "<pre style=\"margin: 0.1em;\n",
       "padding-left: 0.25em;\n",
       "border-left-style: solid;\n",
       "font-family: var(--jp-code-font-family);\n",
       "font-size: var(--jp-code-font-size);\n",
       "line-height: var(--jp-code-line-height);\n",
       "\"><span style=\"color: var(--jp-warn-color2)\">Sky Flats 2023-05-09 22:17:35.254243 UT</span> <span style=\"color: var(--jp-info-color0)\">INFO</span>: Filter is SDSSi_65mm</pre>"
      ],
      "text/plain": [
       "<IPython.core.display.HTML object>"
      ]
     },
     "metadata": {},
     "output_type": "display_data"
    },
    {
     "data": {
      "text/html": [
       "<pre style=\"margin: 0.1em;\n",
       "padding-left: 0.25em;\n",
       "border-left-style: solid;\n",
       "font-family: var(--jp-code-font-family);\n",
       "font-size: var(--jp-code-font-size);\n",
       "line-height: var(--jp-code-line-height);\n",
       "\"><span style=\"color: var(--jp-warn-color2)\">ATAOS.logevent_detailedState</span> <span style=\"color: var(--jp-warn-color0)\">WARNING</span>: evt_detailedState DDS read queue is filling: 15 of 100 elements</pre>"
      ],
      "text/plain": [
       "<IPython.core.display.HTML object>"
      ]
     },
     "metadata": {},
     "output_type": "display_data"
    },
    {
     "data": {
      "text/html": [
       "<pre style=\"margin: 0.1em;\n",
       "padding-left: 0.25em;\n",
       "border-left-style: solid;\n",
       "font-family: var(--jp-code-font-family);\n",
       "font-size: var(--jp-code-font-size);\n",
       "line-height: var(--jp-code-line-height);\n",
       "\"><span style=\"color: var(--jp-warn-color2)\">ATDome.position</span> <span style=\"color: var(--jp-warn-color0)\">WARNING</span>: tel_position DDS read queue is filling: 17 of 100 elements</pre>"
      ],
      "text/plain": [
       "<IPython.core.display.HTML object>"
      ]
     },
     "metadata": {},
     "output_type": "display_data"
    },
    {
     "data": {
      "text/html": [
       "<pre style=\"margin: 0.1em;\n",
       "padding-left: 0.25em;\n",
       "border-left-style: solid;\n",
       "font-family: var(--jp-code-font-family);\n",
       "font-size: var(--jp-code-font-size);\n",
       "line-height: var(--jp-code-line-height);\n",
       "\"><span style=\"color: var(--jp-warn-color2)\">ATDome.logevent_doorEncoderExtremes</span> <span style=\"color: var(--jp-warn-color0)\">WARNING</span>: evt_doorEncoderExtremes DDS read queue is filling: 17 of 100 elements</pre>"
      ],
      "text/plain": [
       "<IPython.core.display.HTML object>"
      ]
     },
     "metadata": {},
     "output_type": "display_data"
    },
    {
     "data": {
      "text/html": [
       "<pre style=\"margin: 0.1em;\n",
       "padding-left: 0.25em;\n",
       "border-left-style: solid;\n",
       "font-family: var(--jp-code-font-family);\n",
       "font-size: var(--jp-code-font-size);\n",
       "line-height: var(--jp-code-line-height);\n",
       "\"><span style=\"color: var(--jp-warn-color2)\">ATPtg.timeAndDate</span> <span style=\"color: var(--jp-warn-color0)\">WARNING</span>: tel_timeAndDate DDS read queue is filling: 17 of 100 elements</pre>"
      ],
      "text/plain": [
       "<IPython.core.display.HTML object>"
      ]
     },
     "metadata": {},
     "output_type": "display_data"
    },
    {
     "data": {
      "text/html": [
       "<pre style=\"margin: 0.1em;\n",
       "padding-left: 0.25em;\n",
       "border-left-style: solid;\n",
       "font-family: var(--jp-code-font-family);\n",
       "font-size: var(--jp-code-font-size);\n",
       "line-height: var(--jp-code-line-height);\n",
       "\"><span style=\"color: var(--jp-warn-color2)\">ATPtg.mountStatus</span> <span style=\"color: var(--jp-warn-color0)\">WARNING</span>: tel_mountStatus DDS read queue is filling: 18 of 100 elements</pre>"
      ],
      "text/plain": [
       "<IPython.core.display.HTML object>"
      ]
     },
     "metadata": {},
     "output_type": "display_data"
    },
    {
     "data": {
      "text/html": [
       "<pre style=\"margin: 0.1em;\n",
       "padding-left: 0.25em;\n",
       "border-left-style: solid;\n",
       "font-family: var(--jp-code-font-family);\n",
       "font-size: var(--jp-code-font-size);\n",
       "line-height: var(--jp-code-line-height);\n",
       "\"><span style=\"color: var(--jp-warn-color2)\">ATPtg.currentTargetStatus</span> <span style=\"color: var(--jp-warn-color0)\">WARNING</span>: tel_currentTargetStatus DDS read queue is filling: 18 of 100 elements</pre>"
      ],
      "text/plain": [
       "<IPython.core.display.HTML object>"
      ]
     },
     "metadata": {},
     "output_type": "display_data"
    },
    {
     "data": {
      "text/html": [
       "<pre style=\"margin: 0.1em;\n",
       "padding-left: 0.25em;\n",
       "border-left-style: solid;\n",
       "font-family: var(--jp-code-font-family);\n",
       "font-size: var(--jp-code-font-size);\n",
       "line-height: var(--jp-code-line-height);\n",
       "\"><span style=\"color: var(--jp-warn-color2)\">ATMCS.logevent_target</span> <span style=\"color: var(--jp-warn-color0)\">WARNING</span>: evt_target DDS read queue is filling: 71 of 100 elements</pre>"
      ],
      "text/plain": [
       "<IPython.core.display.HTML object>"
      ]
     },
     "metadata": {},
     "output_type": "display_data"
    },
    {
     "data": {
      "text/html": [
       "<pre style=\"margin: 0.1em;\n",
       "padding-left: 0.25em;\n",
       "border-left-style: solid;\n",
       "font-family: var(--jp-code-font-family);\n",
       "font-size: var(--jp-code-font-size);\n",
       "line-height: var(--jp-code-line-height);\n",
       "\"><span style=\"color: var(--jp-warn-color2)\">ATMCS.logevent_target</span> <span style=\"color: var(--jp-warn-color0)\">WARNING</span>: evt_target python read queue is filling: 70 of 100 elements</pre>"
      ],
      "text/plain": [
       "<IPython.core.display.HTML object>"
      ]
     },
     "metadata": {},
     "output_type": "display_data"
    },
    {
     "data": {
      "text/html": [
       "<pre style=\"margin: 0.1em;\n",
       "padding-left: 0.25em;\n",
       "border-left-style: solid;\n",
       "font-family: var(--jp-code-font-family);\n",
       "font-size: var(--jp-code-font-size);\n",
       "line-height: var(--jp-code-line-height);\n",
       "\"><span style=\"color: var(--jp-warn-color2)\">Sky Flats 2023-05-09 22:17:35.254243 UT</span> <span style=\"color: var(--jp-info-color0)\">INFO</span>: Sky flats triplets with 4 seconds exposure time and filter SDSSi_65mm are [2023050900163], [2023050900164] and [2023050900165]</pre>"
      ],
      "text/plain": [
       "<IPython.core.display.HTML object>"
      ]
     },
     "metadata": {},
     "output_type": "display_data"
    },
    {
     "data": {
      "text/html": [
       "<pre style=\"margin: 0.1em;\n",
       "padding-left: 0.25em;\n",
       "border-left-style: solid;\n",
       "font-family: var(--jp-code-font-family);\n",
       "font-size: var(--jp-code-font-size);\n",
       "line-height: var(--jp-code-line-height);\n",
       "\"><span style=\"color: var(--jp-warn-color2)\">Sky Flats 2023-05-09 22:17:35.254243 UT</span> <span style=\"color: var(--jp-error-color2)\">ERROR</span>: Could not get new image from butler. Waiting 1 seconds and trying again.</pre><pre style=\"margin: 0.1em;\n",
       "padding-left: 0.25em;\n",
       "border-left-style: solid;\n",
       "font-family: var(--jp-code-font-family);\n",
       "font-size: var(--jp-code-font-size);\n",
       "line-height: var(--jp-code-line-height);\n",
       "\">Traceback (most recent call last):\n",
       "  File \"/tmp/ipykernel_9830/3420654075.py\", line 35, in verify_counts\n",
       "    exp = butler.get('raw', dataId=dataId)\n",
       "  File \"/opt/lsst/software/stack/stack/miniconda3-py38_4.9.2-6.0.0/Linux64/daf_butler/gf80a4f1b81+02c8b8cb00/python/lsst/daf/butler/_butler.py\", line 1446, in get\n",
       "    ref = self._findDatasetRef(datasetRefOrType, dataId, collections=collections, **kwargs)\n",
       "  File \"/opt/lsst/software/stack/stack/miniconda3-py38_4.9.2-6.0.0/Linux64/daf_butler/gf80a4f1b81+02c8b8cb00/python/lsst/daf/butler/_butler.py\", line 1102, in _findDatasetRef\n",
       "    raise LookupError(\n",
       "LookupError: Dataset raw with data ID {instrument: 'LATISS', detector: 0, exposure: 2023050900165} could not be found in collections ('LATISS/raw/all',).\n",
       "</pre>"
      ],
      "text/plain": [
       "<IPython.core.display.HTML object>"
      ]
     },
     "metadata": {},
     "output_type": "display_data"
    },
    {
     "data": {
      "text/html": [
       "<pre style=\"margin: 0.1em;\n",
       "padding-left: 0.25em;\n",
       "border-left-style: solid;\n",
       "font-family: var(--jp-code-font-family);\n",
       "font-size: var(--jp-code-font-size);\n",
       "line-height: var(--jp-code-line-height);\n",
       "\"><span style=\"color: var(--jp-warn-color2)\">Sky Flats 2023-05-09 22:17:35.254243 UT</span> <span style=\"color: var(--jp-error-color2)\">ERROR</span>: Could not get new image from butler. Waiting 1 seconds and trying again.</pre><pre style=\"margin: 0.1em;\n",
       "padding-left: 0.25em;\n",
       "border-left-style: solid;\n",
       "font-family: var(--jp-code-font-family);\n",
       "font-size: var(--jp-code-font-size);\n",
       "line-height: var(--jp-code-line-height);\n",
       "\">Traceback (most recent call last):\n",
       "  File \"/tmp/ipykernel_9830/3420654075.py\", line 35, in verify_counts\n",
       "    exp = butler.get('raw', dataId=dataId)\n",
       "  File \"/opt/lsst/software/stack/stack/miniconda3-py38_4.9.2-6.0.0/Linux64/daf_butler/gf80a4f1b81+02c8b8cb00/python/lsst/daf/butler/_butler.py\", line 1446, in get\n",
       "    ref = self._findDatasetRef(datasetRefOrType, dataId, collections=collections, **kwargs)\n",
       "  File \"/opt/lsst/software/stack/stack/miniconda3-py38_4.9.2-6.0.0/Linux64/daf_butler/gf80a4f1b81+02c8b8cb00/python/lsst/daf/butler/_butler.py\", line 1102, in _findDatasetRef\n",
       "    raise LookupError(\n",
       "LookupError: Dataset raw with data ID {instrument: 'LATISS', detector: 0, exposure: 2023050900165} could not be found in collections ('LATISS/raw/all',).\n",
       "</pre>"
      ],
      "text/plain": [
       "<IPython.core.display.HTML object>"
      ]
     },
     "metadata": {},
     "output_type": "display_data"
    },
    {
     "data": {
      "text/html": [
       "<pre style=\"margin: 0.1em;\n",
       "padding-left: 0.25em;\n",
       "border-left-style: solid;\n",
       "font-family: var(--jp-code-font-family);\n",
       "font-size: var(--jp-code-font-size);\n",
       "line-height: var(--jp-code-line-height);\n",
       "\"><span style=\"color: var(--jp-warn-color2)\">Sky Flats 2023-05-09 22:17:35.254243 UT</span> <span style=\"color: var(--jp-error-color2)\">ERROR</span>: Could not get new image from butler. Waiting 1 seconds and trying again.</pre><pre style=\"margin: 0.1em;\n",
       "padding-left: 0.25em;\n",
       "border-left-style: solid;\n",
       "font-family: var(--jp-code-font-family);\n",
       "font-size: var(--jp-code-font-size);\n",
       "line-height: var(--jp-code-line-height);\n",
       "\">Traceback (most recent call last):\n",
       "  File \"/tmp/ipykernel_9830/3420654075.py\", line 35, in verify_counts\n",
       "    exp = butler.get('raw', dataId=dataId)\n",
       "  File \"/opt/lsst/software/stack/stack/miniconda3-py38_4.9.2-6.0.0/Linux64/daf_butler/gf80a4f1b81+02c8b8cb00/python/lsst/daf/butler/_butler.py\", line 1446, in get\n",
       "    ref = self._findDatasetRef(datasetRefOrType, dataId, collections=collections, **kwargs)\n",
       "  File \"/opt/lsst/software/stack/stack/miniconda3-py38_4.9.2-6.0.0/Linux64/daf_butler/gf80a4f1b81+02c8b8cb00/python/lsst/daf/butler/_butler.py\", line 1102, in _findDatasetRef\n",
       "    raise LookupError(\n",
       "LookupError: Dataset raw with data ID {instrument: 'LATISS', detector: 0, exposure: 2023050900165} could not be found in collections ('LATISS/raw/all',).\n",
       "</pre>"
      ],
      "text/plain": [
       "<IPython.core.display.HTML object>"
      ]
     },
     "metadata": {},
     "output_type": "display_data"
    },
    {
     "data": {
      "text/html": [
       "<pre style=\"margin: 0.1em;\n",
       "padding-left: 0.25em;\n",
       "border-left-style: solid;\n",
       "font-family: var(--jp-code-font-family);\n",
       "font-size: var(--jp-code-font-size);\n",
       "line-height: var(--jp-code-line-height);\n",
       "\"><span style=\"color: var(--jp-warn-color2)\">lsst.obs.base._fitsRawFormatterBase</span> <span style=\"color: var(--jp-warn-color0)\">WARNING</span>: Cannot create a valid WCS from metadata: CRPIX1</pre>"
      ],
      "text/plain": [
       "<IPython.core.display.HTML object>"
      ]
     },
     "metadata": {},
     "output_type": "display_data"
    },
    {
     "data": {
      "text/html": [
       "<pre style=\"margin: 0.1em;\n",
       "padding-left: 0.25em;\n",
       "border-left-style: solid;\n",
       "font-family: var(--jp-code-font-family);\n",
       "font-size: var(--jp-code-font-size);\n",
       "line-height: var(--jp-code-line-height);\n",
       "\"><span style=\"color: var(--jp-warn-color2)\">Sky Flats 2023-05-09 22:17:35.254243 UT</span> <span style=\"color: var(--jp-info-color0)\">INFO</span>: Exposure ID: 2023050900165</pre>"
      ],
      "text/plain": [
       "<IPython.core.display.HTML object>"
      ]
     },
     "metadata": {},
     "output_type": "display_data"
    },
    {
     "data": {
      "text/html": [
       "<pre style=\"margin: 0.1em;\n",
       "padding-left: 0.25em;\n",
       "border-left-style: solid;\n",
       "font-family: var(--jp-code-font-family);\n",
       "font-size: var(--jp-code-font-size);\n",
       "line-height: var(--jp-code-line-height);\n",
       "\"><span style=\"color: var(--jp-warn-color2)\">Sky Flats 2023-05-09 22:17:35.254243 UT</span> <span style=\"color: var(--jp-info-color0)\">INFO</span>:     Median: 13982.0</pre>"
      ],
      "text/plain": [
       "<IPython.core.display.HTML object>"
      ]
     },
     "metadata": {},
     "output_type": "display_data"
    },
    {
     "data": {
      "text/html": [
       "<pre style=\"margin: 0.1em;\n",
       "padding-left: 0.25em;\n",
       "border-left-style: solid;\n",
       "font-family: var(--jp-code-font-family);\n",
       "font-size: var(--jp-code-font-size);\n",
       "line-height: var(--jp-code-line-height);\n",
       "\"><span style=\"color: var(--jp-warn-color2)\">Sky Flats 2023-05-09 22:17:35.254243 UT</span> <span style=\"color: var(--jp-info-color0)\">INFO</span>:     Mean: 14486.441840277777</pre>"
      ],
      "text/plain": [
       "<IPython.core.display.HTML object>"
      ]
     },
     "metadata": {},
     "output_type": "display_data"
    },
    {
     "data": {
      "text/html": [
       "<pre style=\"margin: 0.1em;\n",
       "padding-left: 0.25em;\n",
       "border-left-style: solid;\n",
       "font-family: var(--jp-code-font-family);\n",
       "font-size: var(--jp-code-font-size);\n",
       "line-height: var(--jp-code-line-height);\n",
       "\"><span style=\"color: var(--jp-warn-color2)\">Sky Flats 2023-05-09 22:17:35.254243 UT</span> <span style=\"color: var(--jp-info-color0)\">INFO</span>:     Std: 1874.7965463518406</pre>"
      ],
      "text/plain": [
       "<IPython.core.display.HTML object>"
      ]
     },
     "metadata": {},
     "output_type": "display_data"
    },
    {
     "data": {
      "text/html": [
       "<pre style=\"margin: 0.1em;\n",
       "padding-left: 0.25em;\n",
       "border-left-style: solid;\n",
       "font-family: var(--jp-code-font-family);\n",
       "font-size: var(--jp-code-font-size);\n",
       "line-height: var(--jp-code-line-height);\n",
       "\"><span style=\"color: var(--jp-warn-color2)\">Sky Flats 2023-05-09 22:17:35.254243 UT</span> <span style=\"color: var(--jp-info-color0)\">INFO</span>: 1 times below min counts</pre>"
      ],
      "text/plain": [
       "<IPython.core.display.HTML object>"
      ]
     },
     "metadata": {},
     "output_type": "display_data"
    },
    {
     "data": {
      "text/html": [
       "<pre style=\"margin: 0.1em;\n",
       "padding-left: 0.25em;\n",
       "border-left-style: solid;\n",
       "font-family: var(--jp-code-font-family);\n",
       "font-size: var(--jp-code-font-size);\n",
       "line-height: var(--jp-code-line-height);\n",
       "\"><span style=\"color: var(--jp-warn-color2)\">Sky Flats 2023-05-09 22:17:35.254243 UT</span> <span style=\"color: var(--jp-info-color0)\">INFO</span>: The exposure time will be increased to 8 seconds</pre>"
      ],
      "text/plain": [
       "<IPython.core.display.HTML object>"
      ]
     },
     "metadata": {},
     "output_type": "display_data"
    },
    {
     "data": {
      "text/html": [
       "<pre style=\"margin: 0.1em;\n",
       "padding-left: 0.25em;\n",
       "border-left-style: solid;\n",
       "font-family: var(--jp-code-font-family);\n",
       "font-size: var(--jp-code-font-size);\n",
       "line-height: var(--jp-code-line-height);\n",
       "\"><span style=\"color: var(--jp-warn-color2)\">Sky Flats 2023-05-09 22:17:35.254243 UT</span> <span style=\"color: var(--jp-info-color0)\">INFO</span>: Filter is empty_1</pre>"
      ],
      "text/plain": [
       "<IPython.core.display.HTML object>"
      ]
     },
     "metadata": {},
     "output_type": "display_data"
    },
    {
     "data": {
      "text/html": [
       "<pre style=\"margin: 0.1em;\n",
       "padding-left: 0.25em;\n",
       "border-left-style: solid;\n",
       "font-family: var(--jp-code-font-family);\n",
       "font-size: var(--jp-code-font-size);\n",
       "line-height: var(--jp-code-line-height);\n",
       "\"><span style=\"color: var(--jp-warn-color2)\">ATDome.position</span> <span style=\"color: var(--jp-warn-color0)\">WARNING</span>: tel_position DDS read queue is filling: 18 of 100 elements</pre>"
      ],
      "text/plain": [
       "<IPython.core.display.HTML object>"
      ]
     },
     "metadata": {},
     "output_type": "display_data"
    },
    {
     "data": {
      "text/html": [
       "<pre style=\"margin: 0.1em;\n",
       "padding-left: 0.25em;\n",
       "border-left-style: solid;\n",
       "font-family: var(--jp-code-font-family);\n",
       "font-size: var(--jp-code-font-size);\n",
       "line-height: var(--jp-code-line-height);\n",
       "\"><span style=\"color: var(--jp-warn-color2)\">ATDome.logevent_doorEncoderExtremes</span> <span style=\"color: var(--jp-warn-color0)\">WARNING</span>: evt_doorEncoderExtremes DDS read queue is filling: 18 of 100 elements</pre>"
      ],
      "text/plain": [
       "<IPython.core.display.HTML object>"
      ]
     },
     "metadata": {},
     "output_type": "display_data"
    },
    {
     "data": {
      "text/html": [
       "<pre style=\"margin: 0.1em;\n",
       "padding-left: 0.25em;\n",
       "border-left-style: solid;\n",
       "font-family: var(--jp-code-font-family);\n",
       "font-size: var(--jp-code-font-size);\n",
       "line-height: var(--jp-code-line-height);\n",
       "\"><span style=\"color: var(--jp-warn-color2)\">ATAOS.logevent_detailedState</span> <span style=\"color: var(--jp-warn-color0)\">WARNING</span>: evt_detailedState DDS read queue is filling: 13 of 100 elements</pre>"
      ],
      "text/plain": [
       "<IPython.core.display.HTML object>"
      ]
     },
     "metadata": {},
     "output_type": "display_data"
    },
    {
     "data": {
      "text/html": [
       "<pre style=\"margin: 0.1em;\n",
       "padding-left: 0.25em;\n",
       "border-left-style: solid;\n",
       "font-family: var(--jp-code-font-family);\n",
       "font-size: var(--jp-code-font-size);\n",
       "line-height: var(--jp-code-line-height);\n",
       "\"><span style=\"color: var(--jp-warn-color2)\">ATPtg.timeAndDate</span> <span style=\"color: var(--jp-warn-color0)\">WARNING</span>: tel_timeAndDate DDS read queue is filling: 19 of 100 elements</pre>"
      ],
      "text/plain": [
       "<IPython.core.display.HTML object>"
      ]
     },
     "metadata": {},
     "output_type": "display_data"
    },
    {
     "data": {
      "text/html": [
       "<pre style=\"margin: 0.1em;\n",
       "padding-left: 0.25em;\n",
       "border-left-style: solid;\n",
       "font-family: var(--jp-code-font-family);\n",
       "font-size: var(--jp-code-font-size);\n",
       "line-height: var(--jp-code-line-height);\n",
       "\"><span style=\"color: var(--jp-warn-color2)\">ATPtg.mountStatus</span> <span style=\"color: var(--jp-warn-color0)\">WARNING</span>: tel_mountStatus DDS read queue is filling: 19 of 100 elements</pre>"
      ],
      "text/plain": [
       "<IPython.core.display.HTML object>"
      ]
     },
     "metadata": {},
     "output_type": "display_data"
    },
    {
     "data": {
      "text/html": [
       "<pre style=\"margin: 0.1em;\n",
       "padding-left: 0.25em;\n",
       "border-left-style: solid;\n",
       "font-family: var(--jp-code-font-family);\n",
       "font-size: var(--jp-code-font-size);\n",
       "line-height: var(--jp-code-line-height);\n",
       "\"><span style=\"color: var(--jp-warn-color2)\">ATPtg.currentTargetStatus</span> <span style=\"color: var(--jp-warn-color0)\">WARNING</span>: tel_currentTargetStatus DDS read queue is filling: 18 of 100 elements</pre>"
      ],
      "text/plain": [
       "<IPython.core.display.HTML object>"
      ]
     },
     "metadata": {},
     "output_type": "display_data"
    },
    {
     "data": {
      "text/html": [
       "<pre style=\"margin: 0.1em;\n",
       "padding-left: 0.25em;\n",
       "border-left-style: solid;\n",
       "font-family: var(--jp-code-font-family);\n",
       "font-size: var(--jp-code-font-size);\n",
       "line-height: var(--jp-code-line-height);\n",
       "\"><span style=\"color: var(--jp-warn-color2)\">ATMCS.logevent_target</span> <span style=\"color: var(--jp-warn-color0)\">WARNING</span>: evt_target DDS read queue is filling: 76 of 100 elements</pre>"
      ],
      "text/plain": [
       "<IPython.core.display.HTML object>"
      ]
     },
     "metadata": {},
     "output_type": "display_data"
    },
    {
     "data": {
      "text/html": [
       "<pre style=\"margin: 0.1em;\n",
       "padding-left: 0.25em;\n",
       "border-left-style: solid;\n",
       "font-family: var(--jp-code-font-family);\n",
       "font-size: var(--jp-code-font-size);\n",
       "line-height: var(--jp-code-line-height);\n",
       "\"><span style=\"color: var(--jp-warn-color2)\">ATMCS.logevent_target</span> <span style=\"color: var(--jp-warn-color0)\">WARNING</span>: evt_target python read queue is filling: 75 of 100 elements</pre>"
      ],
      "text/plain": [
       "<IPython.core.display.HTML object>"
      ]
     },
     "metadata": {},
     "output_type": "display_data"
    },
    {
     "data": {
      "text/html": [
       "<pre style=\"margin: 0.1em;\n",
       "padding-left: 0.25em;\n",
       "border-left-style: solid;\n",
       "font-family: var(--jp-code-font-family);\n",
       "font-size: var(--jp-code-font-size);\n",
       "line-height: var(--jp-code-line-height);\n",
       "\"><span style=\"color: var(--jp-warn-color2)\">Sky Flats 2023-05-09 22:17:35.254243 UT</span> <span style=\"color: var(--jp-info-color0)\">INFO</span>: Sky flats triplets with 8 seconds exposure time and filter empty_1 are [2023050900166], [2023050900167] and [2023050900168]</pre>"
      ],
      "text/plain": [
       "<IPython.core.display.HTML object>"
      ]
     },
     "metadata": {},
     "output_type": "display_data"
    },
    {
     "data": {
      "text/html": [
       "<pre style=\"margin: 0.1em;\n",
       "padding-left: 0.25em;\n",
       "border-left-style: solid;\n",
       "font-family: var(--jp-code-font-family);\n",
       "font-size: var(--jp-code-font-size);\n",
       "line-height: var(--jp-code-line-height);\n",
       "\"><span style=\"color: var(--jp-warn-color2)\">Sky Flats 2023-05-09 22:17:35.254243 UT</span> <span style=\"color: var(--jp-error-color2)\">ERROR</span>: Could not get new image from butler. Waiting 1 seconds and trying again.</pre><pre style=\"margin: 0.1em;\n",
       "padding-left: 0.25em;\n",
       "border-left-style: solid;\n",
       "font-family: var(--jp-code-font-family);\n",
       "font-size: var(--jp-code-font-size);\n",
       "line-height: var(--jp-code-line-height);\n",
       "\">Traceback (most recent call last):\n",
       "  File \"/tmp/ipykernel_9830/3420654075.py\", line 35, in verify_counts\n",
       "    exp = butler.get('raw', dataId=dataId)\n",
       "  File \"/opt/lsst/software/stack/stack/miniconda3-py38_4.9.2-6.0.0/Linux64/daf_butler/gf80a4f1b81+02c8b8cb00/python/lsst/daf/butler/_butler.py\", line 1446, in get\n",
       "    ref = self._findDatasetRef(datasetRefOrType, dataId, collections=collections, **kwargs)\n",
       "  File \"/opt/lsst/software/stack/stack/miniconda3-py38_4.9.2-6.0.0/Linux64/daf_butler/gf80a4f1b81+02c8b8cb00/python/lsst/daf/butler/_butler.py\", line 1102, in _findDatasetRef\n",
       "    raise LookupError(\n",
       "LookupError: Dataset raw with data ID {instrument: 'LATISS', detector: 0, exposure: 2023050900168} could not be found in collections ('LATISS/raw/all',).\n",
       "</pre>"
      ],
      "text/plain": [
       "<IPython.core.display.HTML object>"
      ]
     },
     "metadata": {},
     "output_type": "display_data"
    },
    {
     "data": {
      "text/html": [
       "<pre style=\"margin: 0.1em;\n",
       "padding-left: 0.25em;\n",
       "border-left-style: solid;\n",
       "font-family: var(--jp-code-font-family);\n",
       "font-size: var(--jp-code-font-size);\n",
       "line-height: var(--jp-code-line-height);\n",
       "\"><span style=\"color: var(--jp-warn-color2)\">Sky Flats 2023-05-09 22:17:35.254243 UT</span> <span style=\"color: var(--jp-error-color2)\">ERROR</span>: Could not get new image from butler. Waiting 1 seconds and trying again.</pre><pre style=\"margin: 0.1em;\n",
       "padding-left: 0.25em;\n",
       "border-left-style: solid;\n",
       "font-family: var(--jp-code-font-family);\n",
       "font-size: var(--jp-code-font-size);\n",
       "line-height: var(--jp-code-line-height);\n",
       "\">Traceback (most recent call last):\n",
       "  File \"/tmp/ipykernel_9830/3420654075.py\", line 35, in verify_counts\n",
       "    exp = butler.get('raw', dataId=dataId)\n",
       "  File \"/opt/lsst/software/stack/stack/miniconda3-py38_4.9.2-6.0.0/Linux64/daf_butler/gf80a4f1b81+02c8b8cb00/python/lsst/daf/butler/_butler.py\", line 1446, in get\n",
       "    ref = self._findDatasetRef(datasetRefOrType, dataId, collections=collections, **kwargs)\n",
       "  File \"/opt/lsst/software/stack/stack/miniconda3-py38_4.9.2-6.0.0/Linux64/daf_butler/gf80a4f1b81+02c8b8cb00/python/lsst/daf/butler/_butler.py\", line 1102, in _findDatasetRef\n",
       "    raise LookupError(\n",
       "LookupError: Dataset raw with data ID {instrument: 'LATISS', detector: 0, exposure: 2023050900168} could not be found in collections ('LATISS/raw/all',).\n",
       "</pre>"
      ],
      "text/plain": [
       "<IPython.core.display.HTML object>"
      ]
     },
     "metadata": {},
     "output_type": "display_data"
    },
    {
     "data": {
      "text/html": [
       "<pre style=\"margin: 0.1em;\n",
       "padding-left: 0.25em;\n",
       "border-left-style: solid;\n",
       "font-family: var(--jp-code-font-family);\n",
       "font-size: var(--jp-code-font-size);\n",
       "line-height: var(--jp-code-line-height);\n",
       "\"><span style=\"color: var(--jp-warn-color2)\">Sky Flats 2023-05-09 22:17:35.254243 UT</span> <span style=\"color: var(--jp-error-color2)\">ERROR</span>: Could not get new image from butler. Waiting 1 seconds and trying again.</pre><pre style=\"margin: 0.1em;\n",
       "padding-left: 0.25em;\n",
       "border-left-style: solid;\n",
       "font-family: var(--jp-code-font-family);\n",
       "font-size: var(--jp-code-font-size);\n",
       "line-height: var(--jp-code-line-height);\n",
       "\">Traceback (most recent call last):\n",
       "  File \"/tmp/ipykernel_9830/3420654075.py\", line 35, in verify_counts\n",
       "    exp = butler.get('raw', dataId=dataId)\n",
       "  File \"/opt/lsst/software/stack/stack/miniconda3-py38_4.9.2-6.0.0/Linux64/daf_butler/gf80a4f1b81+02c8b8cb00/python/lsst/daf/butler/_butler.py\", line 1446, in get\n",
       "    ref = self._findDatasetRef(datasetRefOrType, dataId, collections=collections, **kwargs)\n",
       "  File \"/opt/lsst/software/stack/stack/miniconda3-py38_4.9.2-6.0.0/Linux64/daf_butler/gf80a4f1b81+02c8b8cb00/python/lsst/daf/butler/_butler.py\", line 1102, in _findDatasetRef\n",
       "    raise LookupError(\n",
       "LookupError: Dataset raw with data ID {instrument: 'LATISS', detector: 0, exposure: 2023050900168} could not be found in collections ('LATISS/raw/all',).\n",
       "</pre>"
      ],
      "text/plain": [
       "<IPython.core.display.HTML object>"
      ]
     },
     "metadata": {},
     "output_type": "display_data"
    },
    {
     "data": {
      "text/html": [
       "<pre style=\"margin: 0.1em;\n",
       "padding-left: 0.25em;\n",
       "border-left-style: solid;\n",
       "font-family: var(--jp-code-font-family);\n",
       "font-size: var(--jp-code-font-size);\n",
       "line-height: var(--jp-code-line-height);\n",
       "\"><span style=\"color: var(--jp-warn-color2)\">lsst.obs.base._fitsRawFormatterBase</span> <span style=\"color: var(--jp-warn-color0)\">WARNING</span>: Cannot create a valid WCS from metadata: CRPIX1</pre>"
      ],
      "text/plain": [
       "<IPython.core.display.HTML object>"
      ]
     },
     "metadata": {},
     "output_type": "display_data"
    },
    {
     "data": {
      "text/html": [
       "<pre style=\"margin: 0.1em;\n",
       "padding-left: 0.25em;\n",
       "border-left-style: solid;\n",
       "font-family: var(--jp-code-font-family);\n",
       "font-size: var(--jp-code-font-size);\n",
       "line-height: var(--jp-code-line-height);\n",
       "\"><span style=\"color: var(--jp-warn-color2)\">Sky Flats 2023-05-09 22:17:35.254243 UT</span> <span style=\"color: var(--jp-info-color0)\">INFO</span>: Exposure ID: 2023050900168</pre>"
      ],
      "text/plain": [
       "<IPython.core.display.HTML object>"
      ]
     },
     "metadata": {},
     "output_type": "display_data"
    },
    {
     "data": {
      "text/html": [
       "<pre style=\"margin: 0.1em;\n",
       "padding-left: 0.25em;\n",
       "border-left-style: solid;\n",
       "font-family: var(--jp-code-font-family);\n",
       "font-size: var(--jp-code-font-size);\n",
       "line-height: var(--jp-code-line-height);\n",
       "\"><span style=\"color: var(--jp-warn-color2)\">Sky Flats 2023-05-09 22:17:35.254243 UT</span> <span style=\"color: var(--jp-info-color0)\">INFO</span>:     Median: 14230.0</pre>"
      ],
      "text/plain": [
       "<IPython.core.display.HTML object>"
      ]
     },
     "metadata": {},
     "output_type": "display_data"
    },
    {
     "data": {
      "text/html": [
       "<pre style=\"margin: 0.1em;\n",
       "padding-left: 0.25em;\n",
       "border-left-style: solid;\n",
       "font-family: var(--jp-code-font-family);\n",
       "font-size: var(--jp-code-font-size);\n",
       "line-height: var(--jp-code-line-height);\n",
       "\"><span style=\"color: var(--jp-warn-color2)\">Sky Flats 2023-05-09 22:17:35.254243 UT</span> <span style=\"color: var(--jp-info-color0)\">INFO</span>:     Mean: 14752.611111111111</pre>"
      ],
      "text/plain": [
       "<IPython.core.display.HTML object>"
      ]
     },
     "metadata": {},
     "output_type": "display_data"
    },
    {
     "data": {
      "text/html": [
       "<pre style=\"margin: 0.1em;\n",
       "padding-left: 0.25em;\n",
       "border-left-style: solid;\n",
       "font-family: var(--jp-code-font-family);\n",
       "font-size: var(--jp-code-font-size);\n",
       "line-height: var(--jp-code-line-height);\n",
       "\"><span style=\"color: var(--jp-warn-color2)\">Sky Flats 2023-05-09 22:17:35.254243 UT</span> <span style=\"color: var(--jp-info-color0)\">INFO</span>:     Std: 2019.35792023572</pre>"
      ],
      "text/plain": [
       "<IPython.core.display.HTML object>"
      ]
     },
     "metadata": {},
     "output_type": "display_data"
    },
    {
     "data": {
      "text/html": [
       "<pre style=\"margin: 0.1em;\n",
       "padding-left: 0.25em;\n",
       "border-left-style: solid;\n",
       "font-family: var(--jp-code-font-family);\n",
       "font-size: var(--jp-code-font-size);\n",
       "line-height: var(--jp-code-line-height);\n",
       "\"><span style=\"color: var(--jp-warn-color2)\">Sky Flats 2023-05-09 22:17:35.254243 UT</span> <span style=\"color: var(--jp-info-color0)\">INFO</span>: 1 times below min counts</pre>"
      ],
      "text/plain": [
       "<IPython.core.display.HTML object>"
      ]
     },
     "metadata": {},
     "output_type": "display_data"
    },
    {
     "data": {
      "text/html": [
       "<pre style=\"margin: 0.1em;\n",
       "padding-left: 0.25em;\n",
       "border-left-style: solid;\n",
       "font-family: var(--jp-code-font-family);\n",
       "font-size: var(--jp-code-font-size);\n",
       "line-height: var(--jp-code-line-height);\n",
       "\"><span style=\"color: var(--jp-warn-color2)\">Sky Flats 2023-05-09 22:17:35.254243 UT</span> <span style=\"color: var(--jp-info-color0)\">INFO</span>: The exposure time will be increased to 16 seconds</pre>"
      ],
      "text/plain": [
       "<IPython.core.display.HTML object>"
      ]
     },
     "metadata": {},
     "output_type": "display_data"
    }
   ],
   "source": [
    "for filter_to_use in filters:\n",
    "    logger.info(f\"\\n\\n Filter is now {filter_to_use} \\n\\n\")    \n",
    "    exposure_time = starting_exposure_time[filter_to_use]\n",
    "    trials = 0\n",
    "    while trials < max_times_below_mincounts_before_changing_filter:\n",
    "        exp_level = await take_triplets_with_fixed_dither(exposure_time, filter_to_use, dither_offset)\n",
    "        counts = await verify_counts(exp_level)\n",
    "        if counts > min_counts: \n",
    "             continue\n",
    "        elif counts < min_counts:\n",
    "            trials +=1\n",
    "            exposure_time = 2*exposure_time\n",
    "            logger.info(f\"{trials} times below min counts\")\n",
    "            if trials == max_times_below_mincounts_before_changing_filter:\n",
    "                logger.info(\"Changing filters\")\n",
    "            elif trials < max_times_below_mincounts_before_changing_filter:\n",
    "                logger.info(f\"The exposure time will be increased to {exposure_time} seconds\")"
   ]
  },
  {
   "cell_type": "markdown",
   "id": "9affc628",
   "metadata": {},
   "source": [
    "## Image Assessment"
   ]
  },
  {
   "cell_type": "markdown",
   "id": "d8fd4a8f-5a1d-4084-b160-cbb309d7882c",
   "metadata": {},
   "source": [
    "The two next cells will serve to check the median, mean and std of the signal across an image. \n",
    "Edit the `day_obs` and `seq_num` in the `dataId` row. "
   ]
  },
  {
   "cell_type": "code",
   "execution_count": null,
   "id": "9ea97bb9",
   "metadata": {
    "tags": []
   },
   "outputs": [],
   "source": [
    "dataId = {'detector': 0, 'day_obs': 20230427, 'seq_num': 87}\n",
    "exp = butler.get('raw', dataId=dataId)"
   ]
  },
  {
   "cell_type": "code",
   "execution_count": null,
   "id": "2d64ac77",
   "metadata": {
    "tags": []
   },
   "outputs": [],
   "source": [
    "foo = exp.getMaskedImage()\n",
    "masked_array = np.ma.masked_array(foo.image.array, mask=foo.mask.array)\n",
    "meta = exp.getMetadata()\n",
    "\n",
    "logger.info(f\"Observation ID: {meta['OBSID']}\")\n",
    "logger.info(f\"    Median: {np.ma.median(masked_array)}\")\n",
    "logger.info(f\"    Mean: {np.ma.mean(masked_array)}\")\n",
    "logger.info(f\"    Std: {np.ma.std(masked_array)}\")"
   ]
  }
 ],
 "metadata": {
  "kernelspec": {
   "display_name": "LSST",
   "language": "python",
   "name": "lsst"
  },
  "language_info": {
   "codemirror_mode": {
    "name": "ipython",
    "version": 3
   },
   "file_extension": ".py",
   "mimetype": "text/x-python",
   "name": "python",
   "nbconvert_exporter": "python",
   "pygments_lexer": "ipython3",
   "version": "3.10.10"
  }
 },
 "nbformat": 4,
 "nbformat_minor": 5
}
