{
 "cells": [
  {
   "cell_type": "markdown",
   "id": "aae50e6f",
   "metadata": {},
   "source": [
    "# AuxTel - Sky Flats Sequence\n",
    "\n",
    "This notebook is a draft of procedures we can use during twilight to take Sky Flats using different filters as per SITCOM-790. \n",
    "https://jira.lsstcorp.org/browse/SITCOM-790https://jira.lsstcorp.org/browse/SITCOM-790\n",
    "\n",
    "It is meant to be executed between sunset and the time between the end of the civil and nautical twilights, that is, when the Sun's elevation is between 0 and 9 degrees below horizon. At 9 degrees below horizon, AuxTel should go on-sky to absorb zero-point offsets and perform the first WEP mirror alignment and focus of the night.\n",
    "\n",
    "This procedure requires that AuxTel is ready for on-sky in advance, when the Sun is 25 degrees above horizon. \n",
    "\n",
    "Be prepared to run this notebook at the time of sunset to have enough time for the three available filters. \n",
    "\n",
    "After the setup is completed, we find an empty field in the opposite direction of the Sun, then we slew to this field, and take an image. This image will probably have saturation. We start a loop of taking images in the same position until we get an image that does not saturate. Also start with the bluest filter. \n",
    "\n",
    "Once the image is not saturated anymore, we take a sequence of images with small dithers and increasing exposure times. SITCOM-something like 12 flats per filter."
   ]
  },
  {
   "cell_type": "markdown",
   "id": "34e05910",
   "metadata": {},
   "source": [
    "## Setup"
   ]
  },
  {
   "cell_type": "code",
   "execution_count": 1,
   "id": "b075a005",
   "metadata": {
    "execution": {
     "iopub.execute_input": "2023-05-23T23:50:40.175663Z",
     "iopub.status.busy": "2023-05-23T23:50:40.175392Z",
     "iopub.status.idle": "2023-05-23T23:50:43.022768Z",
     "shell.execute_reply": "2023-05-23T23:50:43.022083Z",
     "shell.execute_reply.started": "2023-05-23T23:50:40.175646Z"
    },
    "tags": []
   },
   "outputs": [
    {
     "data": {
      "text/html": [
       "<pre style=\"margin: 0.1em;\n",
       "padding-left: 0.25em;\n",
       "border-left-style: solid;\n",
       "font-family: var(--jp-code-font-family);\n",
       "font-size: var(--jp-code-font-size);\n",
       "line-height: var(--jp-code-line-height);\n",
       "\"><span style=\"color: var(--jp-warn-color2)\">lsst.ts.utils.tai</span> <span style=\"color: var(--jp-info-color0)\">INFO</span>: Update leap second table</pre>"
      ],
      "text/plain": [
       "<IPython.core.display.HTML object>"
      ]
     },
     "metadata": {},
     "output_type": "display_data"
    },
    {
     "data": {
      "text/html": [
       "<pre style=\"margin: 0.1em;\n",
       "padding-left: 0.25em;\n",
       "border-left-style: solid;\n",
       "font-family: var(--jp-code-font-family);\n",
       "font-size: var(--jp-code-font-size);\n",
       "line-height: var(--jp-code-line-height);\n",
       "\"><span style=\"color: var(--jp-warn-color2)\">lsst.ts.utils.tai</span> <span style=\"color: var(--jp-info-color0)\">INFO</span>: current_tai uses the system TAI clock</pre>"
      ],
      "text/plain": [
       "<IPython.core.display.HTML object>"
      ]
     },
     "metadata": {},
     "output_type": "display_data"
    },
    {
     "name": "stderr",
     "output_type": "stream",
     "text": [
      "/net/obs-env/auto_base_packages/summit_extras/python/lsst/summit/__init__.py:23: FutureWarning: lsstimport has been a no-op since v19.0 and will be removed after v27.0. Please remove the import from your __init__.py.\n",
      "  import lsstimport\n",
      "/net/obs-env/auto_base_packages/ts_observatory_control/python/lsst/ts/observatory/control/utils/extras/dm_target_catalog.py:44: UserWarning: Cannot import required libraries. Module will not work.\n",
      "  warnings.warn(\"Cannot import required libraries. Module will not work.\")\n"
     ]
    }
   ],
   "source": [
    "import asyncio\n",
    "import time\n",
    "import os\n",
    "import numpy as np\n",
    "import matplotlib.pyplot as plt\n",
    "import logging\n",
    "import time\n",
    "\n",
    "from astropy import coordinates\n",
    "from astropy.coordinates import SkyCoord, EarthLocation, AltAz\n",
    "from astropy import units as u\n",
    "from astropy.time import Time\n",
    "from astroquery.exceptions import NoResultsWarning\n",
    "from astroquery.vizier import Vizier\n",
    "from datetime import datetime\n",
    "from warnings import warn\n",
    "\n",
    "from lsst.ts import salobj\n",
    "\n",
    "from lsst.ts.observatory.control.auxtel.atcs import ATCS\n",
    "from lsst.ts.observatory.control.auxtel.latiss import LATISS\n",
    "from lsst.ts.observatory.control.utils import RotType\n",
    "\n",
    "from lsst.ts.observing.utilities.auxtel.latiss.getters import get_image\n",
    "# from lsst.ts.observing.utilities.auxtel.latiss.getters import get_image_sync as get_image\n",
    "\n",
    "from lsst.summit.utils import BestEffortIsr\n",
    "\n",
    "import lsst.daf.butler.cli.cliLog as cliLog\n",
    "import lsst.daf.butler as dafButler"
   ]
  },
  {
   "cell_type": "code",
   "execution_count": 2,
   "id": "aa94f109",
   "metadata": {
    "execution": {
     "iopub.execute_input": "2023-05-23T23:50:43.029653Z",
     "iopub.status.busy": "2023-05-23T23:50:43.029344Z",
     "iopub.status.idle": "2023-05-23T23:50:43.032390Z",
     "shell.execute_reply": "2023-05-23T23:50:43.031908Z",
     "shell.execute_reply.started": "2023-05-23T23:50:43.029636Z"
    },
    "tags": []
   },
   "outputs": [],
   "source": [
    "logger = logging.getLogger(f\"Sky Flats {Time.now()} UT\")\n",
    "logger.level = logging.INFO"
   ]
  },
  {
   "cell_type": "code",
   "execution_count": 3,
   "id": "84b698b1",
   "metadata": {
    "execution": {
     "iopub.execute_input": "2023-05-23T23:50:43.033727Z",
     "iopub.status.busy": "2023-05-23T23:50:43.033407Z",
     "iopub.status.idle": "2023-05-23T23:50:44.023118Z",
     "shell.execute_reply": "2023-05-23T23:50:44.022590Z",
     "shell.execute_reply.started": "2023-05-23T23:50:43.033711Z"
    },
    "tags": []
   },
   "outputs": [
    {
     "data": {
      "text/html": [
       "<pre style=\"margin: 0.1em;\n",
       "padding-left: 0.25em;\n",
       "border-left-style: solid;\n",
       "font-family: var(--jp-code-font-family);\n",
       "font-size: var(--jp-code-font-size);\n",
       "line-height: var(--jp-code-line-height);\n",
       "\"><span style=\"color: var(--jp-warn-color2)\">ATMCS</span> <span style=\"color: var(--jp-info-color0)\">INFO</span>: Disabling authlist-based command authorization</pre>"
      ],
      "text/plain": [
       "<IPython.core.display.HTML object>"
      ]
     },
     "metadata": {},
     "output_type": "display_data"
    },
    {
     "data": {
      "text/html": [
       "<pre style=\"margin: 0.1em;\n",
       "padding-left: 0.25em;\n",
       "border-left-style: solid;\n",
       "font-family: var(--jp-code-font-family);\n",
       "font-size: var(--jp-code-font-size);\n",
       "line-height: var(--jp-code-line-height);\n",
       "\"><span style=\"color: var(--jp-warn-color2)\">ATPtg</span> <span style=\"color: var(--jp-info-color0)\">INFO</span>: Disabling authlist-based command authorization</pre>"
      ],
      "text/plain": [
       "<IPython.core.display.HTML object>"
      ]
     },
     "metadata": {},
     "output_type": "display_data"
    },
    {
     "data": {
      "text/html": [
       "<pre style=\"margin: 0.1em;\n",
       "padding-left: 0.25em;\n",
       "border-left-style: solid;\n",
       "font-family: var(--jp-code-font-family);\n",
       "font-size: var(--jp-code-font-size);\n",
       "line-height: var(--jp-code-line-height);\n",
       "\"><span style=\"color: var(--jp-warn-color2)\">ATAOS</span> <span style=\"color: var(--jp-info-color0)\">INFO</span>: Disabling authlist-based command authorization</pre>"
      ],
      "text/plain": [
       "<IPython.core.display.HTML object>"
      ]
     },
     "metadata": {},
     "output_type": "display_data"
    },
    {
     "data": {
      "text/html": [
       "<pre style=\"margin: 0.1em;\n",
       "padding-left: 0.25em;\n",
       "border-left-style: solid;\n",
       "font-family: var(--jp-code-font-family);\n",
       "font-size: var(--jp-code-font-size);\n",
       "line-height: var(--jp-code-line-height);\n",
       "\"><span style=\"color: var(--jp-warn-color2)\">ATPneumatics</span> <span style=\"color: var(--jp-info-color0)\">INFO</span>: Disabling authlist-based command authorization</pre>"
      ],
      "text/plain": [
       "<IPython.core.display.HTML object>"
      ]
     },
     "metadata": {},
     "output_type": "display_data"
    },
    {
     "data": {
      "text/html": [
       "<pre style=\"margin: 0.1em;\n",
       "padding-left: 0.25em;\n",
       "border-left-style: solid;\n",
       "font-family: var(--jp-code-font-family);\n",
       "font-size: var(--jp-code-font-size);\n",
       "line-height: var(--jp-code-line-height);\n",
       "\"><span style=\"color: var(--jp-warn-color2)\">ATHexapod</span> <span style=\"color: var(--jp-info-color0)\">INFO</span>: Disabling authlist-based command authorization</pre>"
      ],
      "text/plain": [
       "<IPython.core.display.HTML object>"
      ]
     },
     "metadata": {},
     "output_type": "display_data"
    },
    {
     "data": {
      "text/html": [
       "<pre style=\"margin: 0.1em;\n",
       "padding-left: 0.25em;\n",
       "border-left-style: solid;\n",
       "font-family: var(--jp-code-font-family);\n",
       "font-size: var(--jp-code-font-size);\n",
       "line-height: var(--jp-code-line-height);\n",
       "\"><span style=\"color: var(--jp-warn-color2)\">ATDome</span> <span style=\"color: var(--jp-info-color0)\">INFO</span>: Disabling authlist-based command authorization</pre>"
      ],
      "text/plain": [
       "<IPython.core.display.HTML object>"
      ]
     },
     "metadata": {},
     "output_type": "display_data"
    },
    {
     "data": {
      "text/html": [
       "<pre style=\"margin: 0.1em;\n",
       "padding-left: 0.25em;\n",
       "border-left-style: solid;\n",
       "font-family: var(--jp-code-font-family);\n",
       "font-size: var(--jp-code-font-size);\n",
       "line-height: var(--jp-code-line-height);\n",
       "\"><span style=\"color: var(--jp-warn-color2)\">ATDomeTrajectory</span> <span style=\"color: var(--jp-info-color0)\">INFO</span>: Disabling authlist-based command authorization</pre>"
      ],
      "text/plain": [
       "<IPython.core.display.HTML object>"
      ]
     },
     "metadata": {},
     "output_type": "display_data"
    },
    {
     "data": {
      "text/html": [
       "<pre style=\"margin: 0.1em;\n",
       "padding-left: 0.25em;\n",
       "border-left-style: solid;\n",
       "font-family: var(--jp-code-font-family);\n",
       "font-size: var(--jp-code-font-size);\n",
       "line-height: var(--jp-code-line-height);\n",
       "\"><span style=\"color: var(--jp-warn-color2)\">ATCamera</span> <span style=\"color: var(--jp-info-color0)\">INFO</span>: Disabling authlist-based command authorization</pre>"
      ],
      "text/plain": [
       "<IPython.core.display.HTML object>"
      ]
     },
     "metadata": {},
     "output_type": "display_data"
    },
    {
     "data": {
      "text/html": [
       "<pre style=\"margin: 0.1em;\n",
       "padding-left: 0.25em;\n",
       "border-left-style: solid;\n",
       "font-family: var(--jp-code-font-family);\n",
       "font-size: var(--jp-code-font-size);\n",
       "line-height: var(--jp-code-line-height);\n",
       "\"><span style=\"color: var(--jp-warn-color2)\">ATSpectrograph</span> <span style=\"color: var(--jp-info-color0)\">INFO</span>: Disabling authlist-based command authorization</pre>"
      ],
      "text/plain": [
       "<IPython.core.display.HTML object>"
      ]
     },
     "metadata": {},
     "output_type": "display_data"
    },
    {
     "data": {
      "text/html": [
       "<pre style=\"margin: 0.1em;\n",
       "padding-left: 0.25em;\n",
       "border-left-style: solid;\n",
       "font-family: var(--jp-code-font-family);\n",
       "font-size: var(--jp-code-font-size);\n",
       "line-height: var(--jp-code-line-height);\n",
       "\"><span style=\"color: var(--jp-warn-color2)\">ATHeaderService</span> <span style=\"color: var(--jp-info-color0)\">INFO</span>: Disabling authlist-based command authorization</pre>"
      ],
      "text/plain": [
       "<IPython.core.display.HTML object>"
      ]
     },
     "metadata": {},
     "output_type": "display_data"
    },
    {
     "data": {
      "text/html": [
       "<pre style=\"margin: 0.1em;\n",
       "padding-left: 0.25em;\n",
       "border-left-style: solid;\n",
       "font-family: var(--jp-code-font-family);\n",
       "font-size: var(--jp-code-font-size);\n",
       "line-height: var(--jp-code-line-height);\n",
       "\"><span style=\"color: var(--jp-warn-color2)\">ATOODS</span> <span style=\"color: var(--jp-info-color0)\">INFO</span>: Disabling authlist-based command authorization</pre>"
      ],
      "text/plain": [
       "<IPython.core.display.HTML object>"
      ]
     },
     "metadata": {},
     "output_type": "display_data"
    },
    {
     "data": {
      "text/html": [
       "<pre style=\"margin: 0.1em;\n",
       "padding-left: 0.25em;\n",
       "border-left-style: solid;\n",
       "font-family: var(--jp-code-font-family);\n",
       "font-size: var(--jp-code-font-size);\n",
       "line-height: var(--jp-code-line-height);\n",
       "\"><span style=\"color: var(--jp-warn-color2)\">ATDomeTrajectory</span> <span style=\"color: var(--jp-info-color0)\">INFO</span>: Read historical data in 0.00 sec</pre>"
      ],
      "text/plain": [
       "<IPython.core.display.HTML object>"
      ]
     },
     "metadata": {},
     "output_type": "display_data"
    },
    {
     "data": {
      "text/html": [
       "<pre style=\"margin: 0.1em;\n",
       "padding-left: 0.25em;\n",
       "border-left-style: solid;\n",
       "font-family: var(--jp-code-font-family);\n",
       "font-size: var(--jp-code-font-size);\n",
       "line-height: var(--jp-code-line-height);\n",
       "\"><span style=\"color: var(--jp-warn-color2)\">ATPneumatics</span> <span style=\"color: var(--jp-info-color0)\">INFO</span>: Read historical data in 0.01 sec</pre>"
      ],
      "text/plain": [
       "<IPython.core.display.HTML object>"
      ]
     },
     "metadata": {},
     "output_type": "display_data"
    },
    {
     "data": {
      "text/html": [
       "<pre style=\"margin: 0.1em;\n",
       "padding-left: 0.25em;\n",
       "border-left-style: solid;\n",
       "font-family: var(--jp-code-font-family);\n",
       "font-size: var(--jp-code-font-size);\n",
       "line-height: var(--jp-code-line-height);\n",
       "\"><span style=\"color: var(--jp-warn-color2)\">ATHexapod</span> <span style=\"color: var(--jp-info-color0)\">INFO</span>: Read historical data in 0.02 sec</pre>"
      ],
      "text/plain": [
       "<IPython.core.display.HTML object>"
      ]
     },
     "metadata": {},
     "output_type": "display_data"
    },
    {
     "data": {
      "text/html": [
       "<pre style=\"margin: 0.1em;\n",
       "padding-left: 0.25em;\n",
       "border-left-style: solid;\n",
       "font-family: var(--jp-code-font-family);\n",
       "font-size: var(--jp-code-font-size);\n",
       "line-height: var(--jp-code-line-height);\n",
       "\"><span style=\"color: var(--jp-warn-color2)\">ATAOS</span> <span style=\"color: var(--jp-info-color0)\">INFO</span>: Read historical data in 0.02 sec</pre>"
      ],
      "text/plain": [
       "<IPython.core.display.HTML object>"
      ]
     },
     "metadata": {},
     "output_type": "display_data"
    },
    {
     "data": {
      "text/html": [
       "<pre style=\"margin: 0.1em;\n",
       "padding-left: 0.25em;\n",
       "border-left-style: solid;\n",
       "font-family: var(--jp-code-font-family);\n",
       "font-size: var(--jp-code-font-size);\n",
       "line-height: var(--jp-code-line-height);\n",
       "\"><span style=\"color: var(--jp-warn-color2)\">ATDome</span> <span style=\"color: var(--jp-info-color0)\">INFO</span>: Read historical data in 0.05 sec</pre>"
      ],
      "text/plain": [
       "<IPython.core.display.HTML object>"
      ]
     },
     "metadata": {},
     "output_type": "display_data"
    },
    {
     "data": {
      "text/html": [
       "<pre style=\"margin: 0.1em;\n",
       "padding-left: 0.25em;\n",
       "border-left-style: solid;\n",
       "font-family: var(--jp-code-font-family);\n",
       "font-size: var(--jp-code-font-size);\n",
       "line-height: var(--jp-code-line-height);\n",
       "\"><span style=\"color: var(--jp-warn-color2)\">ATHeaderService</span> <span style=\"color: var(--jp-info-color0)\">INFO</span>: Read historical data in 0.06 sec</pre>"
      ],
      "text/plain": [
       "<IPython.core.display.HTML object>"
      ]
     },
     "metadata": {},
     "output_type": "display_data"
    },
    {
     "data": {
      "text/html": [
       "<pre style=\"margin: 0.1em;\n",
       "padding-left: 0.25em;\n",
       "border-left-style: solid;\n",
       "font-family: var(--jp-code-font-family);\n",
       "font-size: var(--jp-code-font-size);\n",
       "line-height: var(--jp-code-line-height);\n",
       "\"><span style=\"color: var(--jp-warn-color2)\">ATOODS</span> <span style=\"color: var(--jp-info-color0)\">INFO</span>: Read historical data in 0.06 sec</pre>"
      ],
      "text/plain": [
       "<IPython.core.display.HTML object>"
      ]
     },
     "metadata": {},
     "output_type": "display_data"
    },
    {
     "data": {
      "text/html": [
       "<pre style=\"margin: 0.1em;\n",
       "padding-left: 0.25em;\n",
       "border-left-style: solid;\n",
       "font-family: var(--jp-code-font-family);\n",
       "font-size: var(--jp-code-font-size);\n",
       "line-height: var(--jp-code-line-height);\n",
       "\"><span style=\"color: var(--jp-warn-color2)\">ATPtg</span> <span style=\"color: var(--jp-info-color0)\">INFO</span>: Read historical data in 0.07 sec</pre>"
      ],
      "text/plain": [
       "<IPython.core.display.HTML object>"
      ]
     },
     "metadata": {},
     "output_type": "display_data"
    },
    {
     "data": {
      "text/html": [
       "<pre style=\"margin: 0.1em;\n",
       "padding-left: 0.25em;\n",
       "border-left-style: solid;\n",
       "font-family: var(--jp-code-font-family);\n",
       "font-size: var(--jp-code-font-size);\n",
       "line-height: var(--jp-code-line-height);\n",
       "\"><span style=\"color: var(--jp-warn-color2)\">ATSpectrograph</span> <span style=\"color: var(--jp-info-color0)\">INFO</span>: Read historical data in 0.08 sec</pre>"
      ],
      "text/plain": [
       "<IPython.core.display.HTML object>"
      ]
     },
     "metadata": {},
     "output_type": "display_data"
    },
    {
     "data": {
      "text/html": [
       "<pre style=\"margin: 0.1em;\n",
       "padding-left: 0.25em;\n",
       "border-left-style: solid;\n",
       "font-family: var(--jp-code-font-family);\n",
       "font-size: var(--jp-code-font-size);\n",
       "line-height: var(--jp-code-line-height);\n",
       "\"><span style=\"color: var(--jp-warn-color2)\">ATMCS</span> <span style=\"color: var(--jp-info-color0)\">INFO</span>: Read historical data in 0.10 sec</pre>"
      ],
      "text/plain": [
       "<IPython.core.display.HTML object>"
      ]
     },
     "metadata": {},
     "output_type": "display_data"
    },
    {
     "data": {
      "text/html": [
       "<pre style=\"margin: 0.1em;\n",
       "padding-left: 0.25em;\n",
       "border-left-style: solid;\n",
       "font-family: var(--jp-code-font-family);\n",
       "font-size: var(--jp-code-font-size);\n",
       "line-height: var(--jp-code-line-height);\n",
       "\"><span style=\"color: var(--jp-warn-color2)\">ATCamera</span> <span style=\"color: var(--jp-info-color0)\">INFO</span>: Read historical data in 0.11 sec</pre>"
      ],
      "text/plain": [
       "<IPython.core.display.HTML object>"
      ]
     },
     "metadata": {},
     "output_type": "display_data"
    },
    {
     "data": {
      "text/plain": [
       "[[None, None, None, None, None, None, None], [None, None, None, None]]"
      ]
     },
     "execution_count": 3,
     "metadata": {},
     "output_type": "execute_result"
    }
   ],
   "source": [
    "# Instantiate the control classes\n",
    "domain = salobj.Domain()\n",
    "atcs = ATCS(domain)\n",
    "atcs.set_rem_loglevel(logging.INFO)\n",
    "latiss = LATISS(domain)\n",
    "latiss.set_rem_loglevel(logging.INFO)\n",
    "await asyncio.gather(atcs.start_task, latiss.start_task)"
   ]
  },
  {
   "cell_type": "code",
   "execution_count": 4,
   "id": "2c2a49ce",
   "metadata": {
    "execution": {
     "iopub.execute_input": "2023-05-23T23:50:44.024193Z",
     "iopub.status.busy": "2023-05-23T23:50:44.023850Z",
     "iopub.status.idle": "2023-05-23T23:50:44.029296Z",
     "shell.execute_reply": "2023-05-23T23:50:44.028772Z",
     "shell.execute_reply.started": "2023-05-23T23:50:44.024175Z"
    },
    "tags": []
   },
   "outputs": [
    {
     "data": {
      "text/html": [
       "<pre style=\"margin: 0.1em;\n",
       "padding-left: 0.25em;\n",
       "border-left-style: solid;\n",
       "font-family: var(--jp-code-font-family);\n",
       "font-size: var(--jp-code-font-size);\n",
       "line-height: var(--jp-code-line-height);\n",
       "\"><span style=\"color: var(--jp-warn-color2)\">Sky Flats 2023-05-23 23:50:43.030305 UT</span> <span style=\"color: var(--jp-info-color0)\">INFO</span>: LATISS filters are: [&#x27;empty_1&#x27;, &#x27;SDSSg_65mm&#x27;, &#x27;SDSSr_65mm&#x27;, &#x27;SDSSi_65mm&#x27;]</pre>"
      ],
      "text/plain": [
       "<IPython.core.display.HTML object>"
      ]
     },
     "metadata": {},
     "output_type": "display_data"
    },
    {
     "data": {
      "text/html": [
       "<pre style=\"margin: 0.1em;\n",
       "padding-left: 0.25em;\n",
       "border-left-style: solid;\n",
       "font-family: var(--jp-code-font-family);\n",
       "font-size: var(--jp-code-font-size);\n",
       "line-height: var(--jp-code-line-height);\n",
       "\"><span style=\"color: var(--jp-warn-color2)\">Sky Flats 2023-05-23 23:50:43.030305 UT</span> <span style=\"color: var(--jp-info-color0)\">INFO</span>: LATISS gratings are: [&#x27;empty_1&#x27;, &#x27;blue300lpmm_qn1&#x27;, &#x27;ronchi170lpmm&#x27;, &#x27;holo4_003&#x27;]</pre>"
      ],
      "text/plain": [
       "<IPython.core.display.HTML object>"
      ]
     },
     "metadata": {},
     "output_type": "display_data"
    }
   ],
   "source": [
    "inst_setup = await latiss.get_available_instrument_setup()\n",
    "logger.info(f'LATISS filters are: {inst_setup[0]}')\n",
    "logger.info(f'LATISS gratings are: {inst_setup[1]}')"
   ]
  },
  {
   "cell_type": "code",
   "execution_count": 5,
   "id": "9ac157d2",
   "metadata": {
    "execution": {
     "iopub.execute_input": "2023-05-23T23:50:44.030185Z",
     "iopub.status.busy": "2023-05-23T23:50:44.030032Z",
     "iopub.status.idle": "2023-05-23T23:50:45.874014Z",
     "shell.execute_reply": "2023-05-23T23:50:45.873396Z",
     "shell.execute_reply.started": "2023-05-23T23:50:44.030169Z"
    },
    "tags": []
   },
   "outputs": [
    {
     "data": {
      "text/html": [
       "<pre style=\"margin: 0.1em;\n",
       "padding-left: 0.25em;\n",
       "border-left-style: solid;\n",
       "font-family: var(--jp-code-font-family);\n",
       "font-size: var(--jp-code-font-size);\n",
       "line-height: var(--jp-code-line-height);\n",
       "\"><span style=\"color: var(--jp-warn-color2)\">lsst.summit.utils.bestEffort</span> <span style=\"color: var(--jp-info-color0)\">INFO</span>: Instantiating butler with collections=[&#x27;LATISS/raw/all&#x27;, &#x27;LATISS/calib&#x27;, &#x27;LATISS/runs/quickLook&#x27;, &#x27;LATISS-test-data&#x27;]</pre>"
      ],
      "text/plain": [
       "<IPython.core.display.HTML object>"
      ]
     },
     "metadata": {},
     "output_type": "display_data"
    }
   ],
   "source": [
    "repo = '/repo/LATISS/'\n",
    "collection = 'LATISS/raw/all'\n",
    "\n",
    "butler = dafButler.Butler(repo, collections=collection)\n",
    "best_effort_isr = BestEffortIsr()"
   ]
  },
  {
   "cell_type": "markdown",
   "id": "55154dbc-a743-436b-8c36-3dbce24642c3",
   "metadata": {},
   "source": [
    "## Helper functions "
   ]
  },
  {
   "cell_type": "code",
   "execution_count": 6,
   "id": "969f7f92-171b-40a2-b04b-486eb2744131",
   "metadata": {
    "execution": {
     "iopub.execute_input": "2023-05-23T23:50:48.622734Z",
     "iopub.status.busy": "2023-05-23T23:50:48.622387Z",
     "iopub.status.idle": "2023-05-23T23:50:48.626444Z",
     "shell.execute_reply": "2023-05-23T23:50:48.625931Z",
     "shell.execute_reply.started": "2023-05-23T23:50:48.622716Z"
    },
    "tags": []
   },
   "outputs": [],
   "source": [
    "def get_target_radec(distance_from_sun=180, target_el=45, time=None):   \n",
    "    \"\"\"\n",
    "    Returns the RADEC of the target area of the sky that's an azimuth `distance_from_sun` away from the Sun, given `elevation`,\n",
    "    and at a given `time`.\n",
    "    \n",
    "    Parameters\n",
    "    ----------\n",
    "    distance_from_sun : float, (-180, 180)\n",
    "        The distance from the Sun in degrees. Positive angles go towards the \n",
    "        North.\n",
    "    elevation : float\n",
    "        Target elevation for Sky Flats.\n",
    "    time : datetime\n",
    "        The time for the calculation in UTC.\n",
    "    \"\"\"\n",
    "    \n",
    "    az_sun, el_sun = atcs.get_sun_azel()\n",
    "    \n",
    "    target_az = (az_sun + distance_from_sun) % 360\n",
    "    \n",
    "    target_radec = atcs.radec_from_azel(target_az, target_el)\n",
    "    \n",
    "    return target_radec"
   ]
  },
  {
   "cell_type": "code",
   "execution_count": 7,
   "id": "528f5372",
   "metadata": {
    "execution": {
     "iopub.execute_input": "2023-05-23T23:50:48.902599Z",
     "iopub.status.busy": "2023-05-23T23:50:48.902244Z",
     "iopub.status.idle": "2023-05-23T23:50:48.907076Z",
     "shell.execute_reply": "2023-05-23T23:50:48.906601Z",
     "shell.execute_reply.started": "2023-05-23T23:50:48.902581Z"
    },
    "tags": []
   },
   "outputs": [],
   "source": [
    "def get_empty_field(target, radius=5):\n",
    "    \"\"\"\n",
    "    Query the \"Deep blank field catalogue : J/MNRAS/427/679\" in Vizier.\n",
    "    \n",
    "    Parameters\n",
    "    ----------\n",
    "    target : astropy.coordinates.SkyCoord\n",
    "        Sky coordinates near the field\n",
    "    radius : float\n",
    "        Search radius in degrees.\n",
    "    \n",
    "    Reference\n",
    "    ---------\n",
    "    http://cdsarc.u-strasbg.fr/viz-bin/Cat?J/MNRAS/427/679\n",
    "    \"\"\"\n",
    "    _table = Vizier.query_region(\n",
    "        catalog='J/MNRAS/427/679/blank_fld', \n",
    "        coordinates=target, \n",
    "        radius=radius*u.deg)\n",
    "\n",
    "    if len(_table) == 0:\n",
    "        warn(f\"Could not find a field near {target} \"\n",
    "              f\"within {radius} deg radius\", category=NoResultsWarning)\n",
    "        return None\n",
    "\n",
    "    _table = _table[\"J/MNRAS/427/679/blank_fld\"]\n",
    "    \n",
    "    coords = coordinates.SkyCoord(\n",
    "        ra=_table[\"RAJ2000\"], \n",
    "        dec=_table[\"DEJ2000\"], \n",
    "        unit=(u.hourangle, u.deg), \n",
    "        frame=coordinates.ICRS)\n",
    "    \n",
    "    arg = target.separation(coords).argmin()\n",
    "    \n",
    "    return coords[arg]"
   ]
  },
  {
   "cell_type": "code",
   "execution_count": 8,
   "id": "4a75222b-ef15-48cd-9ed0-66f9becff498",
   "metadata": {
    "execution": {
     "iopub.execute_input": "2023-05-23T23:50:50.223129Z",
     "iopub.status.busy": "2023-05-23T23:50:50.222599Z",
     "iopub.status.idle": "2023-05-23T23:50:50.227204Z",
     "shell.execute_reply": "2023-05-23T23:50:50.226709Z",
     "shell.execute_reply.started": "2023-05-23T23:50:50.223111Z"
    },
    "tags": []
   },
   "outputs": [],
   "source": [
    "async def take_triplets_with_fixed_dither(time, filt, offset):\n",
    "    # await atcs.offset_xy(x=0, y=0)\n",
    "    \n",
    "    first_flat = await latiss.take_flats(\n",
    "        exptime=time, nflats=1, filter=filt, grating='empty_1', reason=\"Sky_Flat\", program=\"SITCOM-790\")\n",
    "    \n",
    "    await atcs.offset_xy(x=offset, y=0)\n",
    "    \n",
    "    second_flat = await latiss.take_flats(\n",
    "        exptime=time, nflats=1, filter=filt, grating='empty_1', reason=\"Sky_Flat\", program=\"SITCOM-790\")\n",
    "    \n",
    "    await atcs.offset_xy(x=0, y=offset)\n",
    "    \n",
    "    sky_counts = await latiss.take_flats(\n",
    "        exptime=time, nflats=1, filter=filt, grating='empty_1', reason=\"Sky_Flat\", program=\"SITCOM-790\")\n",
    "    \n",
    "    logger.info(f\"Sky flats triplets with {time} seconds exposure time and filter {filt} are {first_flat}, {second_flat} and {sky_counts}\")\n",
    "    "
   ]
  },
  {
   "cell_type": "code",
   "execution_count": 45,
   "id": "a9d9ba0e-2d8b-442a-a316-46236905d6ea",
   "metadata": {
    "execution": {
     "iopub.execute_input": "2023-05-24T00:32:54.966789Z",
     "iopub.status.busy": "2023-05-24T00:32:54.966420Z",
     "iopub.status.idle": "2023-05-24T00:32:54.971132Z",
     "shell.execute_reply": "2023-05-24T00:32:54.970722Z",
     "shell.execute_reply.started": "2023-05-24T00:32:54.966770Z"
    },
    "tags": []
   },
   "outputs": [],
   "source": [
    "STD_TIMEOUT = 10  # seconds\n",
    "\n",
    "async def verify_counts(exposure, timeout=STD_TIMEOUT, loop_time=1):\n",
    "    \"\"\"\n",
    "    Retrieve image from butler repository.\n",
    "    If not present, then it will poll at intervals of loop_time (0.1s default)\n",
    "    until the image arrives, or until the timeout is reached.\n",
    "\n",
    "    Parameters\n",
    "    ----------\n",
    "    exp: `float`\n",
    "        exposure number, as 2023041500020 \n",
    "    \n",
    "    loop_time: `float`\n",
    "        Time between polling attempts. Defaults to 0.1s\n",
    "    timeout: `float`\n",
    "        Total time to poll for image before raising an exception\n",
    "\n",
    "    Returns\n",
    "    -------\n",
    "\n",
    "    median: `float`\n",
    "        Exposure counts median across the detector\n",
    "    \"\"\"\n",
    "    \n",
    "    dataId = {'detector': 0, 'exposure': exposure}\n",
    "\n",
    "    exp = await get_image(dataId, best_effort_isr, timeout = timeout)\n",
    "    \n",
    "    # Measure median, mean and std across the image. \n",
    "    foo = exp.getMaskedImage()\n",
    "    masked_array = np.ma.masked_array(foo.image.array, mask=foo.mask.array)\n",
    "\n",
    "    median = np.ma.median(masked_array)\n",
    "\n",
    "    logger.info(f\"Exposure ID: {exposure}\")\n",
    "    logger.info(f\"    Median: {np.ma.median(masked_array)}\")\n",
    "    logger.info(f\"    Mean: {np.ma.mean(masked_array)}\")\n",
    "    logger.info(f\"    Std: {np.ma.std(masked_array)}\")\n",
    "\n",
    "    return median   "
   ]
  },
  {
   "cell_type": "markdown",
   "id": "1e62ee84-0e76-42ea-85ed-57a90899082a",
   "metadata": {},
   "source": [
    "## Confirm Sun's elevation is fine to start taking Sky Flats. \n",
    "\n",
    "Check if we can start taking sky flats, that, if the Sun's elevation is between 0 and 9 degrees below the horizon."
   ]
  },
  {
   "cell_type": "code",
   "execution_count": 13,
   "id": "bb777ff6-7f5e-4cd7-8afb-564bbe87140a",
   "metadata": {
    "execution": {
     "iopub.execute_input": "2023-05-23T23:52:33.834726Z",
     "iopub.status.busy": "2023-05-23T23:52:33.834357Z",
     "iopub.status.idle": "2023-05-23T23:52:33.853100Z",
     "shell.execute_reply": "2023-05-23T23:52:33.852427Z",
     "shell.execute_reply.started": "2023-05-23T23:52:33.834708Z"
    },
    "tags": []
   },
   "outputs": [
    {
     "name": "stdout",
     "output_type": "stream",
     "text": [
      " The azimuth of the setting Sun is 280.07 deg \n",
      " The elevation of the Sun is -25.48 deg\n"
     ]
    }
   ],
   "source": [
    "sun_coordinates = atcs.get_sun_azel()\n",
    "\n",
    "where_sun = \"setting\" if (sun_coordinates[0] > 180) else \"rising\"\n",
    "\n",
    "# Print results\n",
    "print(f\" The azimuth of the {where_sun} Sun is {sun_coordinates[0]:.2f} deg \\n\"\n",
    "      f\" The elevation of the Sun is {sun_coordinates[1]:.2f} deg\")"
   ]
  },
  {
   "cell_type": "markdown",
   "id": "14d0a4d6-0d72-4f1b-aec6-d8560b0924f0",
   "metadata": {},
   "source": [
    "Only proceed with the next steps if the elevation of the Sun is between 0 and 9 degrees below the horizon, either rising or setting. "
   ]
  },
  {
   "cell_type": "markdown",
   "id": "3910404b",
   "metadata": {},
   "source": [
    "## Find Field\n",
    "\n",
    "Find a field with not many stars oppposite the Sun. "
   ]
  },
  {
   "cell_type": "code",
   "execution_count": 18,
   "id": "db7005e7",
   "metadata": {
    "execution": {
     "iopub.execute_input": "2023-05-23T23:59:18.126818Z",
     "iopub.status.busy": "2023-05-23T23:59:18.126423Z",
     "iopub.status.idle": "2023-05-23T23:59:19.602985Z",
     "shell.execute_reply": "2023-05-23T23:59:19.602450Z",
     "shell.execute_reply.started": "2023-05-23T23:59:18.126799Z"
    },
    "tags": []
   },
   "outputs": [
    {
     "name": "stderr",
     "output_type": "stream",
     "text": [
      "WARNING: NoResultsWarning: Could not find a field near <SkyCoord (ICRS): (ra, dec) in deg\n",
      "    (221.66725429, -26.99024035)> within 5 deg radius [warnings]\n"
     ]
    },
    {
     "data": {
      "text/html": [
       "<pre style=\"margin: 0.1em;\n",
       "padding-left: 0.25em;\n",
       "border-left-style: solid;\n",
       "font-family: var(--jp-code-font-family);\n",
       "font-size: var(--jp-code-font-size);\n",
       "line-height: var(--jp-code-line-height);\n",
       "\"><span style=\"color: var(--jp-warn-color2)\">astroquery</span> <span style=\"color: var(--jp-warn-color0)\">WARNING</span>: NoResultsWarning: Could not find a field near &lt;SkyCoord (ICRS): (ra, dec) in deg\n",
       "    (221.66725429, -26.99024035)&gt; within 5 deg radius</pre>"
      ],
      "text/plain": [
       "<IPython.core.display.HTML object>"
      ]
     },
     "metadata": {},
     "output_type": "display_data"
    },
    {
     "data": {
      "text/html": [
       "<pre style=\"margin: 0.1em;\n",
       "padding-left: 0.25em;\n",
       "border-left-style: solid;\n",
       "font-family: var(--jp-code-font-family);\n",
       "font-size: var(--jp-code-font-size);\n",
       "line-height: var(--jp-code-line-height);\n",
       "\"><span style=\"color: var(--jp-warn-color2)\">Sky Flats 2023-05-23 23:50:43.030305 UT</span> <span style=\"color: var(--jp-info-color0)\">INFO</span>: No empty field was found in the catalog near your target area. \n",
       "Try increasing the search area.</pre>"
      ],
      "text/plain": [
       "<IPython.core.display.HTML object>"
      ]
     },
     "metadata": {},
     "output_type": "display_data"
    }
   ],
   "source": [
    "target = get_target_radec()\n",
    "search_area_degrees = 5\n",
    "try: \n",
    "    empty_field_coords = get_empty_field(target, radius=search_area_degrees)\n",
    "    logger.info(f\"ICRS Empty field coordinates:\\n\"\n",
    "                f\"  RA  = {empty_field_coords.ra.to_string(u.hour, sep=':')} ;\"\n",
    "                f\" DEC = {empty_field_coords.dec.to_string(u.degree, alwayssign=True, sep=':')}\")\n",
    "except:\n",
    "    logger.info(\"No empty field was found in the catalog near your target area. \\n\"\n",
    "                \"Try increasing the search area in the variable search_area_degrees\")"
   ]
  },
  {
   "cell_type": "markdown",
   "id": "e8014c0c",
   "metadata": {},
   "source": [
    "## Slew to Field\n",
    "\n",
    "Now that we have our field, let's point the telescope and the dome to that direction."
   ]
  },
  {
   "cell_type": "code",
   "execution_count": 19,
   "id": "bbacd1dd-c70b-4cd6-9af6-f10bb76ac20b",
   "metadata": {
    "execution": {
     "iopub.execute_input": "2023-05-23T23:59:45.146900Z",
     "iopub.status.busy": "2023-05-23T23:59:45.146117Z",
     "iopub.status.idle": "2023-05-23T23:59:45.168365Z",
     "shell.execute_reply": "2023-05-23T23:59:45.167527Z",
     "shell.execute_reply.started": "2023-05-23T23:59:45.146874Z"
    },
    "tags": []
   },
   "outputs": [
    {
     "ename": "AttributeError",
     "evalue": "'NoneType' object has no attribute 'ra'",
     "output_type": "error",
     "traceback": [
      "\u001b[0;31m---------------------------------------------------------------------------\u001b[0m",
      "\u001b[0;31mAttributeError\u001b[0m                            Traceback (most recent call last)",
      "Input \u001b[0;32mIn [19]\u001b[0m, in \u001b[0;36m<cell line: 1>\u001b[0;34m()\u001b[0m\n\u001b[0;32m----> 1\u001b[0m empty_field_coords_azel \u001b[38;5;241m=\u001b[39m atcs\u001b[38;5;241m.\u001b[39mazel_from_radec(\u001b[43mempty_field_coords\u001b[49m\u001b[38;5;241;43m.\u001b[39;49m\u001b[43mra\u001b[49m, empty_field_coords\u001b[38;5;241m.\u001b[39mdec)\n\u001b[1;32m      2\u001b[0m logger\u001b[38;5;241m.\u001b[39minfo(\u001b[38;5;124mf\u001b[39m\u001b[38;5;124m\"\u001b[39m\u001b[38;5;124mThe telescope will be pointed to the empty field AzAlt coordinates:\u001b[39m\u001b[38;5;130;01m\\n\u001b[39;00m\u001b[38;5;124m\"\u001b[39m\n\u001b[1;32m      3\u001b[0m             \u001b[38;5;124mf\u001b[39m\u001b[38;5;124m\"\u001b[39m\u001b[38;5;124m AZ = \u001b[39m\u001b[38;5;132;01m{\u001b[39;00mempty_field_coords_azel\u001b[38;5;241m.\u001b[39maz\u001b[38;5;132;01m:\u001b[39;00m\u001b[38;5;124m.2f\u001b[39m\u001b[38;5;132;01m}\u001b[39;00m\u001b[38;5;124m deg ;\u001b[39m\u001b[38;5;124m\"\u001b[39m\n\u001b[1;32m      4\u001b[0m             \u001b[38;5;124mf\u001b[39m\u001b[38;5;124m\"\u001b[39m\u001b[38;5;124m EL = \u001b[39m\u001b[38;5;132;01m{\u001b[39;00mempty_field_coords_azel\u001b[38;5;241m.\u001b[39malt\u001b[38;5;132;01m:\u001b[39;00m\u001b[38;5;124m.2f\u001b[39m\u001b[38;5;132;01m}\u001b[39;00m\u001b[38;5;124m deg\u001b[39m\u001b[38;5;124m\"\u001b[39m)\n",
      "\u001b[0;31mAttributeError\u001b[0m: 'NoneType' object has no attribute 'ra'"
     ]
    }
   ],
   "source": [
    "empty_field_coords_azel = atcs.azel_from_radec(empty_field_coords.ra, empty_field_coords.dec)\n",
    "logger.info(f\"The telescope will be pointed to the empty field AzAlt coordinates:\\n\"\n",
    "            f\" AZ = {empty_field_coords_azel.az:.2f} deg ;\"\n",
    "            f\" EL = {empty_field_coords_azel.alt:.2f} deg\")"
   ]
  },
  {
   "cell_type": "code",
   "execution_count": 17,
   "id": "1ddb3e58",
   "metadata": {
    "execution": {
     "iopub.execute_input": "2023-05-23T21:52:20.970739Z",
     "iopub.status.busy": "2023-05-23T21:52:20.970213Z",
     "iopub.status.idle": "2023-05-23T21:53:57.717515Z",
     "shell.execute_reply": "2023-05-23T21:53:57.716928Z",
     "shell.execute_reply.started": "2023-05-23T21:52:20.970720Z"
    },
    "tags": []
   },
   "outputs": [
    {
     "data": {
      "text/html": [
       "<pre style=\"margin: 0.1em;\n",
       "padding-left: 0.25em;\n",
       "border-left-style: solid;\n",
       "font-family: var(--jp-code-font-family);\n",
       "font-size: var(--jp-code-font-size);\n",
       "line-height: var(--jp-code-line-height);\n",
       "\"><span style=\"color: var(--jp-warn-color2)\">ATCS</span> <span style=\"color: var(--jp-info-color0)\">INFO</span>: [Tel]: Az = +090.000[ +15.7]; El = +080.000[ -39.9] [Nas1]: -000.000[  +0.0] [Nas2]: -000.000[+145.8] [Dome] Az = +090.410[ +15.3]</pre>"
      ],
      "text/plain": [
       "<IPython.core.display.HTML object>"
      ]
     },
     "metadata": {},
     "output_type": "display_data"
    },
    {
     "data": {
      "text/html": [
       "<pre style=\"margin: 0.1em;\n",
       "padding-left: 0.25em;\n",
       "border-left-style: solid;\n",
       "font-family: var(--jp-code-font-family);\n",
       "font-size: var(--jp-code-font-size);\n",
       "line-height: var(--jp-code-line-height);\n",
       "\"><span style=\"color: var(--jp-warn-color2)\">ATCS</span> <span style=\"color: var(--jp-info-color0)\">INFO</span>: [Tel]: Az = +090.006[ +15.7]; El = +079.752[ -39.7] [Nas1]: -000.000[  +0.0] [Nas2]: +000.166[+145.6] [Dome] Az = +090.620[ +15.1]</pre>"
      ],
      "text/plain": [
       "<IPython.core.display.HTML object>"
      ]
     },
     "metadata": {},
     "output_type": "display_data"
    },
    {
     "data": {
      "text/html": [
       "<pre style=\"margin: 0.1em;\n",
       "padding-left: 0.25em;\n",
       "border-left-style: solid;\n",
       "font-family: var(--jp-code-font-family);\n",
       "font-size: var(--jp-code-font-size);\n",
       "line-height: var(--jp-code-line-height);\n",
       "\"><span style=\"color: var(--jp-warn-color2)\">ATCS</span> <span style=\"color: var(--jp-info-color0)\">INFO</span>: [Tel]: Az = +090.781[ +14.9]; El = +076.499[ -36.4] [Nas1]: -000.000[  +0.0] [Nas2]: +005.240[+140.5] [Dome] Az = +092.410[ +13.3]</pre>"
      ],
      "text/plain": [
       "<IPython.core.display.HTML object>"
      ]
     },
     "metadata": {},
     "output_type": "display_data"
    },
    {
     "data": {
      "text/html": [
       "<pre style=\"margin: 0.1em;\n",
       "padding-left: 0.25em;\n",
       "border-left-style: solid;\n",
       "font-family: var(--jp-code-font-family);\n",
       "font-size: var(--jp-code-font-size);\n",
       "line-height: var(--jp-code-line-height);\n",
       "\"><span style=\"color: var(--jp-warn-color2)\">ATCS</span> <span style=\"color: var(--jp-info-color0)\">INFO</span>: [Tel]: Az = +094.802[ +10.9]; El = +070.500[ -30.4] [Nas1]: +000.000[  -0.0] [Nas2]: +009.235[+136.5] [Dome] Az = +094.780[ +10.9]</pre>"
      ],
      "text/plain": [
       "<IPython.core.display.HTML object>"
      ]
     },
     "metadata": {},
     "output_type": "display_data"
    },
    {
     "data": {
      "text/html": [
       "<pre style=\"margin: 0.1em;\n",
       "padding-left: 0.25em;\n",
       "border-left-style: solid;\n",
       "font-family: var(--jp-code-font-family);\n",
       "font-size: var(--jp-code-font-size);\n",
       "line-height: var(--jp-code-line-height);\n",
       "\"><span style=\"color: var(--jp-warn-color2)\">ATCS</span> <span style=\"color: var(--jp-info-color0)\">INFO</span>: [Tel]: Az = +098.711[  +7.0]; El = +066.497[ -26.4] [Nas1]: -000.000[  +0.0] [Nas2]: +013.233[+132.5] [Dome] Az = +097.710[  +8.0]</pre>"
      ],
      "text/plain": [
       "<IPython.core.display.HTML object>"
      ]
     },
     "metadata": {},
     "output_type": "display_data"
    },
    {
     "data": {
      "text/html": [
       "<pre style=\"margin: 0.1em;\n",
       "padding-left: 0.25em;\n",
       "border-left-style: solid;\n",
       "font-family: var(--jp-code-font-family);\n",
       "font-size: var(--jp-code-font-size);\n",
       "line-height: var(--jp-code-line-height);\n",
       "\"><span style=\"color: var(--jp-warn-color2)\">ATCS</span> <span style=\"color: var(--jp-info-color0)\">INFO</span>: [Tel]: Az = +102.368[  +3.3]; El = +062.523[ -22.4] [Nas1]: +000.000[  -0.0] [Nas2]: +017.233[+128.5] [Dome] Az = +101.580[  +4.1]</pre>"
      ],
      "text/plain": [
       "<IPython.core.display.HTML object>"
      ]
     },
     "metadata": {},
     "output_type": "display_data"
    },
    {
     "data": {
      "text/html": [
       "<pre style=\"margin: 0.1em;\n",
       "padding-left: 0.25em;\n",
       "border-left-style: solid;\n",
       "font-family: var(--jp-code-font-family);\n",
       "font-size: var(--jp-code-font-size);\n",
       "line-height: var(--jp-code-line-height);\n",
       "\"><span style=\"color: var(--jp-warn-color2)\">ATCS</span> <span style=\"color: var(--jp-info-color0)\">INFO</span>: ATDome in position.</pre>"
      ],
      "text/plain": [
       "<IPython.core.display.HTML object>"
      ]
     },
     "metadata": {},
     "output_type": "display_data"
    },
    {
     "data": {
      "text/html": [
       "<pre style=\"margin: 0.1em;\n",
       "padding-left: 0.25em;\n",
       "border-left-style: solid;\n",
       "font-family: var(--jp-code-font-family);\n",
       "font-size: var(--jp-code-font-size);\n",
       "line-height: var(--jp-code-line-height);\n",
       "\"><span style=\"color: var(--jp-warn-color2)\">ATCS</span> <span style=\"color: var(--jp-info-color0)\">INFO</span>: [Tel]: Az = +104.788[  +0.9]; El = +058.641[ -18.5] [Nas1]: +000.000[  -0.0] [Nas2]: +023.238[+122.5] [Dome] Az = +103.060[  +2.6]</pre>"
      ],
      "text/plain": [
       "<IPython.core.display.HTML object>"
      ]
     },
     "metadata": {},
     "output_type": "display_data"
    },
    {
     "data": {
      "text/html": [
       "<pre style=\"margin: 0.1em;\n",
       "padding-left: 0.25em;\n",
       "border-left-style: solid;\n",
       "font-family: var(--jp-code-font-family);\n",
       "font-size: var(--jp-code-font-size);\n",
       "line-height: var(--jp-code-line-height);\n",
       "\"><span style=\"color: var(--jp-warn-color2)\">ATCS</span> <span style=\"color: var(--jp-info-color0)\">INFO</span>: [Tel]: Az = +105.661[  +0.0]; El = +053.166[ -13.1] [Nas1]: -000.000[  +0.0] [Nas2]: +029.230[+116.6] [Dome] Az = +104.430[  +1.3]</pre>"
      ],
      "text/plain": [
       "<IPython.core.display.HTML object>"
      ]
     },
     "metadata": {},
     "output_type": "display_data"
    },
    {
     "data": {
      "text/html": [
       "<pre style=\"margin: 0.1em;\n",
       "padding-left: 0.25em;\n",
       "border-left-style: solid;\n",
       "font-family: var(--jp-code-font-family);\n",
       "font-size: var(--jp-code-font-size);\n",
       "line-height: var(--jp-code-line-height);\n",
       "\"><span style=\"color: var(--jp-warn-color2)\">ATCS</span> <span style=\"color: var(--jp-info-color0)\">INFO</span>: [Tel]: Az = +105.659[  -0.0]; El = +048.394[  -8.3] [Nas1]: +000.000[  -0.0] [Nas2]: +033.235[+112.6] [Dome] Az = +105.260[  +0.4]</pre>"
      ],
      "text/plain": [
       "<IPython.core.display.HTML object>"
      ]
     },
     "metadata": {},
     "output_type": "display_data"
    },
    {
     "data": {
      "text/html": [
       "<pre style=\"margin: 0.1em;\n",
       "padding-left: 0.25em;\n",
       "border-left-style: solid;\n",
       "font-family: var(--jp-code-font-family);\n",
       "font-size: var(--jp-code-font-size);\n",
       "line-height: var(--jp-code-line-height);\n",
       "\"><span style=\"color: var(--jp-warn-color2)\">ATCS</span> <span style=\"color: var(--jp-info-color0)\">INFO</span>: [Tel]: Az = +105.656[  +0.0]; El = +045.746[  -5.6] [Nas1]: -000.000[  +0.0] [Nas2]: +037.238[+108.6] [Dome] Az = +105.260[  +0.4]</pre>"
      ],
      "text/plain": [
       "<IPython.core.display.HTML object>"
      ]
     },
     "metadata": {},
     "output_type": "display_data"
    },
    {
     "data": {
      "text/html": [
       "<pre style=\"margin: 0.1em;\n",
       "padding-left: 0.25em;\n",
       "border-left-style: solid;\n",
       "font-family: var(--jp-code-font-family);\n",
       "font-size: var(--jp-code-font-size);\n",
       "line-height: var(--jp-code-line-height);\n",
       "\"><span style=\"color: var(--jp-warn-color2)\">ATCS</span> <span style=\"color: var(--jp-info-color0)\">INFO</span>: [Tel]: Az = +105.654[  -0.0]; El = +044.610[  -4.5] [Nas1]: +000.000[  -0.0] [Nas2]: +041.233[+104.6] [Dome] Az = +105.260[  +0.4]</pre>"
      ],
      "text/plain": [
       "<IPython.core.display.HTML object>"
      ]
     },
     "metadata": {},
     "output_type": "display_data"
    },
    {
     "data": {
      "text/html": [
       "<pre style=\"margin: 0.1em;\n",
       "padding-left: 0.25em;\n",
       "border-left-style: solid;\n",
       "font-family: var(--jp-code-font-family);\n",
       "font-size: var(--jp-code-font-size);\n",
       "line-height: var(--jp-code-line-height);\n",
       "\"><span style=\"color: var(--jp-warn-color2)\">ATCS</span> <span style=\"color: var(--jp-info-color0)\">INFO</span>: [Tel]: Az = +105.650[  +0.0]; El = +042.011[  -1.9] [Nas1]: -000.000[  +0.0] [Nas2]: +045.232[+100.6] [Dome] Az = +105.260[  +0.4]</pre>"
      ],
      "text/plain": [
       "<IPython.core.display.HTML object>"
      ]
     },
     "metadata": {},
     "output_type": "display_data"
    },
    {
     "data": {
      "text/html": [
       "<pre style=\"margin: 0.1em;\n",
       "padding-left: 0.25em;\n",
       "border-left-style: solid;\n",
       "font-family: var(--jp-code-font-family);\n",
       "font-size: var(--jp-code-font-size);\n",
       "line-height: var(--jp-code-line-height);\n",
       "\"><span style=\"color: var(--jp-warn-color2)\">ATCS</span> <span style=\"color: var(--jp-info-color0)\">INFO</span>: [Tel]: Az = +105.648[  +0.0]; El = +040.953[  -0.8] [Nas1]: -000.000[  +0.0] [Nas2]: +049.237[ +96.6] [Dome] Az = +105.260[  +0.4]</pre>"
      ],
      "text/plain": [
       "<IPython.core.display.HTML object>"
      ]
     },
     "metadata": {},
     "output_type": "display_data"
    },
    {
     "data": {
      "text/html": [
       "<pre style=\"margin: 0.1em;\n",
       "padding-left: 0.25em;\n",
       "border-left-style: solid;\n",
       "font-family: var(--jp-code-font-family);\n",
       "font-size: var(--jp-code-font-size);\n",
       "line-height: var(--jp-code-line-height);\n",
       "\"><span style=\"color: var(--jp-warn-color2)\">ATCS</span> <span style=\"color: var(--jp-info-color0)\">INFO</span>: [Tel]: Az = +105.645[  +0.0]; El = +040.377[  -0.2] [Nas1]: -000.000[  +0.0] [Nas2]: +055.233[ +90.6] [Dome] Az = +105.260[  +0.4]</pre>"
      ],
      "text/plain": [
       "<IPython.core.display.HTML object>"
      ]
     },
     "metadata": {},
     "output_type": "display_data"
    },
    {
     "data": {
      "text/html": [
       "<pre style=\"margin: 0.1em;\n",
       "padding-left: 0.25em;\n",
       "border-left-style: solid;\n",
       "font-family: var(--jp-code-font-family);\n",
       "font-size: var(--jp-code-font-size);\n",
       "line-height: var(--jp-code-line-height);\n",
       "\"><span style=\"color: var(--jp-warn-color2)\">ATCS</span> <span style=\"color: var(--jp-info-color0)\">INFO</span>: [Tel]: Az = +105.642[  +0.0]; El = +040.164[  -0.0] [Nas1]: +000.000[  -0.0] [Nas2]: +059.231[ +86.6] [Dome] Az = +105.260[  +0.4]</pre>"
      ],
      "text/plain": [
       "<IPython.core.display.HTML object>"
      ]
     },
     "metadata": {},
     "output_type": "display_data"
    },
    {
     "data": {
      "text/html": [
       "<pre style=\"margin: 0.1em;\n",
       "padding-left: 0.25em;\n",
       "border-left-style: solid;\n",
       "font-family: var(--jp-code-font-family);\n",
       "font-size: var(--jp-code-font-size);\n",
       "line-height: var(--jp-code-line-height);\n",
       "\"><span style=\"color: var(--jp-warn-color2)\">ATCS</span> <span style=\"color: var(--jp-info-color0)\">INFO</span>: [Tel]: Az = +105.639[  +0.0]; El = +040.170[  -0.0] [Nas1]: +000.000[  -0.0] [Nas2]: +063.238[ +82.6] [Dome] Az = +105.260[  +0.4]</pre>"
      ],
      "text/plain": [
       "<IPython.core.display.HTML object>"
      ]
     },
     "metadata": {},
     "output_type": "display_data"
    },
    {
     "data": {
      "text/html": [
       "<pre style=\"margin: 0.1em;\n",
       "padding-left: 0.25em;\n",
       "border-left-style: solid;\n",
       "font-family: var(--jp-code-font-family);\n",
       "font-size: var(--jp-code-font-size);\n",
       "line-height: var(--jp-code-line-height);\n",
       "\"><span style=\"color: var(--jp-warn-color2)\">ATCS</span> <span style=\"color: var(--jp-info-color0)\">INFO</span>: [Tel]: Az = +105.636[  +0.0]; El = +040.177[  -0.0] [Nas1]: +000.000[  -0.0] [Nas2]: +069.236[ +76.6] [Dome] Az = +105.260[  +0.4]</pre>"
      ],
      "text/plain": [
       "<IPython.core.display.HTML object>"
      ]
     },
     "metadata": {},
     "output_type": "display_data"
    },
    {
     "data": {
      "text/html": [
       "<pre style=\"margin: 0.1em;\n",
       "padding-left: 0.25em;\n",
       "border-left-style: solid;\n",
       "font-family: var(--jp-code-font-family);\n",
       "font-size: var(--jp-code-font-size);\n",
       "line-height: var(--jp-code-line-height);\n",
       "\"><span style=\"color: var(--jp-warn-color2)\">ATCS</span> <span style=\"color: var(--jp-info-color0)\">INFO</span>: [Tel]: Az = +105.634[  -0.0]; El = +040.184[  +0.0] [Nas1]: -000.000[  +0.0] [Nas2]: +071.231[ +74.6] [Dome] Az = +105.260[  +0.4]</pre>"
      ],
      "text/plain": [
       "<IPython.core.display.HTML object>"
      ]
     },
     "metadata": {},
     "output_type": "display_data"
    },
    {
     "data": {
      "text/html": [
       "<pre style=\"margin: 0.1em;\n",
       "padding-left: 0.25em;\n",
       "border-left-style: solid;\n",
       "font-family: var(--jp-code-font-family);\n",
       "font-size: var(--jp-code-font-size);\n",
       "line-height: var(--jp-code-line-height);\n",
       "\"><span style=\"color: var(--jp-warn-color2)\">ATCS</span> <span style=\"color: var(--jp-info-color0)\">INFO</span>: [Tel]: Az = +105.631[  +0.0]; El = +040.191[  -0.0] [Nas1]: +000.000[  -0.0] [Nas2]: +075.235[ +70.6] [Dome] Az = +105.260[  +0.4]</pre>"
      ],
      "text/plain": [
       "<IPython.core.display.HTML object>"
      ]
     },
     "metadata": {},
     "output_type": "display_data"
    },
    {
     "data": {
      "text/html": [
       "<pre style=\"margin: 0.1em;\n",
       "padding-left: 0.25em;\n",
       "border-left-style: solid;\n",
       "font-family: var(--jp-code-font-family);\n",
       "font-size: var(--jp-code-font-size);\n",
       "line-height: var(--jp-code-line-height);\n",
       "\"><span style=\"color: var(--jp-warn-color2)\">ATCS</span> <span style=\"color: var(--jp-info-color0)\">INFO</span>: [Tel]: Az = +105.629[  +0.0]; El = +040.198[  -0.0] [Nas1]: +000.000[  -0.0] [Nas2]: +079.235[ +66.6] [Dome] Az = +105.260[  +0.4]</pre>"
      ],
      "text/plain": [
       "<IPython.core.display.HTML object>"
      ]
     },
     "metadata": {},
     "output_type": "display_data"
    },
    {
     "data": {
      "text/html": [
       "<pre style=\"margin: 0.1em;\n",
       "padding-left: 0.25em;\n",
       "border-left-style: solid;\n",
       "font-family: var(--jp-code-font-family);\n",
       "font-size: var(--jp-code-font-size);\n",
       "line-height: var(--jp-code-line-height);\n",
       "\"><span style=\"color: var(--jp-warn-color2)\">ATCS</span> <span style=\"color: var(--jp-info-color0)\">INFO</span>: [Tel]: Az = +105.626[  +0.0]; El = +040.205[  -0.0] [Nas1]: +000.000[  -0.0] [Nas2]: +083.232[ +62.6] [Dome] Az = +105.260[  +0.4]</pre>"
      ],
      "text/plain": [
       "<IPython.core.display.HTML object>"
      ]
     },
     "metadata": {},
     "output_type": "display_data"
    },
    {
     "data": {
      "text/html": [
       "<pre style=\"margin: 0.1em;\n",
       "padding-left: 0.25em;\n",
       "border-left-style: solid;\n",
       "font-family: var(--jp-code-font-family);\n",
       "font-size: var(--jp-code-font-size);\n",
       "line-height: var(--jp-code-line-height);\n",
       "\"><span style=\"color: var(--jp-warn-color2)\">ATCS</span> <span style=\"color: var(--jp-info-color0)\">INFO</span>: [Tel]: Az = +105.624[  +0.0]; El = +040.212[  -0.0] [Nas1]: -000.000[  +0.0] [Nas2]: +089.234[ +56.6] [Dome] Az = +105.260[  +0.4]</pre>"
      ],
      "text/plain": [
       "<IPython.core.display.HTML object>"
      ]
     },
     "metadata": {},
     "output_type": "display_data"
    },
    {
     "data": {
      "text/html": [
       "<pre style=\"margin: 0.1em;\n",
       "padding-left: 0.25em;\n",
       "border-left-style: solid;\n",
       "font-family: var(--jp-code-font-family);\n",
       "font-size: var(--jp-code-font-size);\n",
       "line-height: var(--jp-code-line-height);\n",
       "\"><span style=\"color: var(--jp-warn-color2)\">ATCS</span> <span style=\"color: var(--jp-info-color0)\">INFO</span>: [Tel]: Az = +105.620[  +0.0]; El = +040.223[  -0.0] [Nas1]: +000.000[  -0.0] [Nas2]: +093.236[ +52.6] [Dome] Az = +105.260[  +0.4]</pre>"
      ],
      "text/plain": [
       "<IPython.core.display.HTML object>"
      ]
     },
     "metadata": {},
     "output_type": "display_data"
    },
    {
     "data": {
      "text/html": [
       "<pre style=\"margin: 0.1em;\n",
       "padding-left: 0.25em;\n",
       "border-left-style: solid;\n",
       "font-family: var(--jp-code-font-family);\n",
       "font-size: var(--jp-code-font-size);\n",
       "line-height: var(--jp-code-line-height);\n",
       "\"><span style=\"color: var(--jp-warn-color2)\">ATCS</span> <span style=\"color: var(--jp-info-color0)\">INFO</span>: [Tel]: Az = +105.617[  +0.0]; El = +040.230[  -0.0] [Nas1]: -000.000[  +0.0] [Nas2]: +099.234[ +46.6] [Dome] Az = +105.260[  +0.4]</pre>"
      ],
      "text/plain": [
       "<IPython.core.display.HTML object>"
      ]
     },
     "metadata": {},
     "output_type": "display_data"
    },
    {
     "data": {
      "text/html": [
       "<pre style=\"margin: 0.1em;\n",
       "padding-left: 0.25em;\n",
       "border-left-style: solid;\n",
       "font-family: var(--jp-code-font-family);\n",
       "font-size: var(--jp-code-font-size);\n",
       "line-height: var(--jp-code-line-height);\n",
       "\"><span style=\"color: var(--jp-warn-color2)\">ATCS</span> <span style=\"color: var(--jp-info-color0)\">INFO</span>: [Tel]: Az = +105.613[  +0.0]; El = +040.240[  -0.0] [Nas1]: +000.000[  -0.0] [Nas2]: +103.235[ +42.6] [Dome] Az = +105.260[  +0.4]</pre>"
      ],
      "text/plain": [
       "<IPython.core.display.HTML object>"
      ]
     },
     "metadata": {},
     "output_type": "display_data"
    },
    {
     "data": {
      "text/html": [
       "<pre style=\"margin: 0.1em;\n",
       "padding-left: 0.25em;\n",
       "border-left-style: solid;\n",
       "font-family: var(--jp-code-font-family);\n",
       "font-size: var(--jp-code-font-size);\n",
       "line-height: var(--jp-code-line-height);\n",
       "\"><span style=\"color: var(--jp-warn-color2)\">ATCS</span> <span style=\"color: var(--jp-info-color0)\">INFO</span>: [Tel]: Az = +105.611[  +0.0]; El = +040.247[  -0.0] [Nas1]: -000.000[  +0.0] [Nas2]: +107.237[ +38.6] [Dome] Az = +105.260[  +0.4]</pre>"
      ],
      "text/plain": [
       "<IPython.core.display.HTML object>"
      ]
     },
     "metadata": {},
     "output_type": "display_data"
    },
    {
     "data": {
      "text/html": [
       "<pre style=\"margin: 0.1em;\n",
       "padding-left: 0.25em;\n",
       "border-left-style: solid;\n",
       "font-family: var(--jp-code-font-family);\n",
       "font-size: var(--jp-code-font-size);\n",
       "line-height: var(--jp-code-line-height);\n",
       "\"><span style=\"color: var(--jp-warn-color2)\">ATCS</span> <span style=\"color: var(--jp-info-color0)\">INFO</span>: [Tel]: Az = +105.608[  +0.0]; El = +040.254[  -0.0] [Nas1]: -000.000[  +0.0] [Nas2]: +113.231[ +32.6] [Dome] Az = +105.260[  +0.4]</pre>"
      ],
      "text/plain": [
       "<IPython.core.display.HTML object>"
      ]
     },
     "metadata": {},
     "output_type": "display_data"
    },
    {
     "data": {
      "text/html": [
       "<pre style=\"margin: 0.1em;\n",
       "padding-left: 0.25em;\n",
       "border-left-style: solid;\n",
       "font-family: var(--jp-code-font-family);\n",
       "font-size: var(--jp-code-font-size);\n",
       "line-height: var(--jp-code-line-height);\n",
       "\"><span style=\"color: var(--jp-warn-color2)\">ATCS</span> <span style=\"color: var(--jp-info-color0)\">INFO</span>: [Tel]: Az = +105.604[  +0.0]; El = +040.264[  -0.0] [Nas1]: +000.000[  -0.0] [Nas2]: +119.243[ +26.6] [Dome] Az = +105.260[  +0.4]</pre>"
      ],
      "text/plain": [
       "<IPython.core.display.HTML object>"
      ]
     },
     "metadata": {},
     "output_type": "display_data"
    },
    {
     "data": {
      "text/html": [
       "<pre style=\"margin: 0.1em;\n",
       "padding-left: 0.25em;\n",
       "border-left-style: solid;\n",
       "font-family: var(--jp-code-font-family);\n",
       "font-size: var(--jp-code-font-size);\n",
       "line-height: var(--jp-code-line-height);\n",
       "\"><span style=\"color: var(--jp-warn-color2)\">ATCS</span> <span style=\"color: var(--jp-info-color0)\">INFO</span>: [Tel]: Az = +105.601[  +0.0]; El = +040.275[  -0.0] [Nas1]: -000.000[  +0.0] [Nas2]: +125.173[ +20.7] [Dome] Az = +105.260[  +0.4]</pre>"
      ],
      "text/plain": [
       "<IPython.core.display.HTML object>"
      ]
     },
     "metadata": {},
     "output_type": "display_data"
    },
    {
     "data": {
      "text/html": [
       "<pre style=\"margin: 0.1em;\n",
       "padding-left: 0.25em;\n",
       "border-left-style: solid;\n",
       "font-family: var(--jp-code-font-family);\n",
       "font-size: var(--jp-code-font-size);\n",
       "line-height: var(--jp-code-line-height);\n",
       "\"><span style=\"color: var(--jp-warn-color2)\">ATCS</span> <span style=\"color: var(--jp-info-color0)\">INFO</span>: [Tel]: Az = +105.597[  +0.0]; El = +040.285[  -0.0] [Nas1]: -000.000[  +0.0] [Nas2]: +128.994[ +16.9] [Dome] Az = +105.260[  +0.4]</pre>"
      ],
      "text/plain": [
       "<IPython.core.display.HTML object>"
      ]
     },
     "metadata": {},
     "output_type": "display_data"
    },
    {
     "data": {
      "text/html": [
       "<pre style=\"margin: 0.1em;\n",
       "padding-left: 0.25em;\n",
       "border-left-style: solid;\n",
       "font-family: var(--jp-code-font-family);\n",
       "font-size: var(--jp-code-font-size);\n",
       "line-height: var(--jp-code-line-height);\n",
       "\"><span style=\"color: var(--jp-warn-color2)\">ATCS</span> <span style=\"color: var(--jp-info-color0)\">INFO</span>: [Tel]: Az = +105.594[  +0.0]; El = +040.292[  -0.0] [Nas1]: -000.000[  +0.0] [Nas2]: +132.604[ +13.3] [Dome] Az = +105.260[  +0.4]</pre>"
      ],
      "text/plain": [
       "<IPython.core.display.HTML object>"
      ]
     },
     "metadata": {},
     "output_type": "display_data"
    },
    {
     "data": {
      "text/html": [
       "<pre style=\"margin: 0.1em;\n",
       "padding-left: 0.25em;\n",
       "border-left-style: solid;\n",
       "font-family: var(--jp-code-font-family);\n",
       "font-size: var(--jp-code-font-size);\n",
       "line-height: var(--jp-code-line-height);\n",
       "\"><span style=\"color: var(--jp-warn-color2)\">ATCS</span> <span style=\"color: var(--jp-info-color0)\">INFO</span>: [Tel]: Az = +105.592[  +0.0]; El = +040.299[  -0.0] [Nas1]: +000.000[  -0.0] [Nas2]: +135.912[ +10.0] [Dome] Az = +105.260[  +0.4]</pre>"
      ],
      "text/plain": [
       "<IPython.core.display.HTML object>"
      ]
     },
     "metadata": {},
     "output_type": "display_data"
    },
    {
     "data": {
      "text/html": [
       "<pre style=\"margin: 0.1em;\n",
       "padding-left: 0.25em;\n",
       "border-left-style: solid;\n",
       "font-family: var(--jp-code-font-family);\n",
       "font-size: var(--jp-code-font-size);\n",
       "line-height: var(--jp-code-line-height);\n",
       "\"><span style=\"color: var(--jp-warn-color2)\">ATCS</span> <span style=\"color: var(--jp-info-color0)\">INFO</span>: [Tel]: Az = +105.589[  +0.0]; El = +040.306[  -0.0] [Nas1]: +000.000[  -0.0] [Nas2]: +140.109[  +5.8] [Dome] Az = +105.260[  +0.4]</pre>"
      ],
      "text/plain": [
       "<IPython.core.display.HTML object>"
      ]
     },
     "metadata": {},
     "output_type": "display_data"
    },
    {
     "data": {
      "text/html": [
       "<pre style=\"margin: 0.1em;\n",
       "padding-left: 0.25em;\n",
       "border-left-style: solid;\n",
       "font-family: var(--jp-code-font-family);\n",
       "font-size: var(--jp-code-font-size);\n",
       "line-height: var(--jp-code-line-height);\n",
       "\"><span style=\"color: var(--jp-warn-color2)\">ATCS</span> <span style=\"color: var(--jp-info-color0)\">INFO</span>: [Tel]: Az = +105.585[  +0.0]; El = +040.316[  -0.0] [Nas1]: -000.000[  +0.0] [Nas2]: +142.288[  +3.6] [Dome] Az = +105.260[  +0.4]</pre>"
      ],
      "text/plain": [
       "<IPython.core.display.HTML object>"
      ]
     },
     "metadata": {},
     "output_type": "display_data"
    },
    {
     "data": {
      "text/html": [
       "<pre style=\"margin: 0.1em;\n",
       "padding-left: 0.25em;\n",
       "border-left-style: solid;\n",
       "font-family: var(--jp-code-font-family);\n",
       "font-size: var(--jp-code-font-size);\n",
       "line-height: var(--jp-code-line-height);\n",
       "\"><span style=\"color: var(--jp-warn-color2)\">ATCS</span> <span style=\"color: var(--jp-info-color0)\">INFO</span>: [Tel]: Az = +105.583[  +0.0]; El = +040.323[  -0.0] [Nas1]: +000.000[  -0.0] [Nas2]: +144.560[  +1.4] [Dome] Az = +105.260[  +0.4]</pre>"
      ],
      "text/plain": [
       "<IPython.core.display.HTML object>"
      ]
     },
     "metadata": {},
     "output_type": "display_data"
    },
    {
     "data": {
      "text/html": [
       "<pre style=\"margin: 0.1em;\n",
       "padding-left: 0.25em;\n",
       "border-left-style: solid;\n",
       "font-family: var(--jp-code-font-family);\n",
       "font-size: var(--jp-code-font-size);\n",
       "line-height: var(--jp-code-line-height);\n",
       "\"><span style=\"color: var(--jp-warn-color2)\">ATCS</span> <span style=\"color: var(--jp-info-color0)\">INFO</span>: [Tel]: Az = +105.579[  +0.0]; El = +040.334[  -0.0] [Nas1]: +000.000[  -0.0] [Nas2]: +145.415[  +0.5] [Dome] Az = +105.260[  +0.4]</pre>"
      ],
      "text/plain": [
       "<IPython.core.display.HTML object>"
      ]
     },
     "metadata": {},
     "output_type": "display_data"
    },
    {
     "data": {
      "text/html": [
       "<pre style=\"margin: 0.1em;\n",
       "padding-left: 0.25em;\n",
       "border-left-style: solid;\n",
       "font-family: var(--jp-code-font-family);\n",
       "font-size: var(--jp-code-font-size);\n",
       "line-height: var(--jp-code-line-height);\n",
       "\"><span style=\"color: var(--jp-warn-color2)\">ATCS</span> <span style=\"color: var(--jp-info-color0)\">INFO</span>: [Tel]: Az = +105.576[  +0.0]; El = +040.341[  -0.0] [Nas1]: -000.000[  +0.0] [Nas2]: +145.905[  +0.0] [Dome] Az = +105.260[  +0.4]</pre>"
      ],
      "text/plain": [
       "<IPython.core.display.HTML object>"
      ]
     },
     "metadata": {},
     "output_type": "display_data"
    },
    {
     "data": {
      "text/html": [
       "<pre style=\"margin: 0.1em;\n",
       "padding-left: 0.25em;\n",
       "border-left-style: solid;\n",
       "font-family: var(--jp-code-font-family);\n",
       "font-size: var(--jp-code-font-size);\n",
       "line-height: var(--jp-code-line-height);\n",
       "\"><span style=\"color: var(--jp-warn-color2)\">ATCS</span> <span style=\"color: var(--jp-info-color0)\">INFO</span>: ATMCS in position: True.</pre>"
      ],
      "text/plain": [
       "<IPython.core.display.HTML object>"
      ]
     },
     "metadata": {},
     "output_type": "display_data"
    },
    {
     "data": {
      "text/html": [
       "<pre style=\"margin: 0.1em;\n",
       "padding-left: 0.25em;\n",
       "border-left-style: solid;\n",
       "font-family: var(--jp-code-font-family);\n",
       "font-size: var(--jp-code-font-size);\n",
       "line-height: var(--jp-code-line-height);\n",
       "\"><span style=\"color: var(--jp-warn-color2)\">ATCS</span> <span style=\"color: var(--jp-info-color0)\">INFO</span>: [Tel]: Az = +105.572[  +0.0]; El = +040.351[  -0.0] [Nas1]: +000.000[  -0.0] [Nas2]: +145.939[  -0.0] [Dome] Az = +105.260[  +0.4]</pre>"
      ],
      "text/plain": [
       "<IPython.core.display.HTML object>"
      ]
     },
     "metadata": {},
     "output_type": "display_data"
    },
    {
     "data": {
      "text/html": [
       "<pre style=\"margin: 0.1em;\n",
       "padding-left: 0.25em;\n",
       "border-left-style: solid;\n",
       "font-family: var(--jp-code-font-family);\n",
       "font-size: var(--jp-code-font-size);\n",
       "line-height: var(--jp-code-line-height);\n",
       "\"><span style=\"color: var(--jp-warn-color2)\">ATCS</span> <span style=\"color: var(--jp-info-color0)\">INFO</span>: [Tel]: Az = +105.569[  +0.0]; El = +040.362[  -0.0] [Nas1]: +000.000[  -0.0] [Nas2]: +145.944[  -0.0] [Dome] Az = +105.260[  +0.4]</pre>"
      ],
      "text/plain": [
       "<IPython.core.display.HTML object>"
      ]
     },
     "metadata": {},
     "output_type": "display_data"
    },
    {
     "data": {
      "text/html": [
       "<pre style=\"margin: 0.1em;\n",
       "padding-left: 0.25em;\n",
       "border-left-style: solid;\n",
       "font-family: var(--jp-code-font-family);\n",
       "font-size: var(--jp-code-font-size);\n",
       "line-height: var(--jp-code-line-height);\n",
       "\"><span style=\"color: var(--jp-warn-color2)\">ATCS</span> <span style=\"color: var(--jp-info-color0)\">INFO</span>: [Tel]: Az = +105.566[  +0.0]; El = +040.368[  -0.0] [Nas1]: +000.000[  -0.0] [Nas2]: +145.950[  -0.0] [Dome] Az = +105.260[  +0.4]</pre>"
      ],
      "text/plain": [
       "<IPython.core.display.HTML object>"
      ]
     },
     "metadata": {},
     "output_type": "display_data"
    },
    {
     "data": {
      "text/plain": [
       "(<ICRS Coordinate: (ra, dec) in deg\n",
       "     (196.838, -30.07411111)>,\n",
       " <Angle 0. deg>)"
      ]
     },
     "execution_count": 17,
     "metadata": {},
     "output_type": "execute_result"
    }
   ],
   "source": [
    "await atcs.slew_icrs(empty_field_coords.ra, empty_field_coords.dec)"
   ]
  },
  {
   "cell_type": "markdown",
   "id": "9d711c19-61ca-4f05-bba6-623ae315ecb0",
   "metadata": {},
   "source": [
    "## Define filter, minimum counts and offsets between images\n",
    "\n",
    "Need at least 10K ADU per pixel for each band."
   ]
  },
  {
   "cell_type": "code",
   "execution_count": 38,
   "id": "d84f0863-9925-458b-8c81-56bba8c4b255",
   "metadata": {
    "execution": {
     "iopub.execute_input": "2023-05-24T00:31:35.798660Z",
     "iopub.status.busy": "2023-05-24T00:31:35.798365Z",
     "iopub.status.idle": "2023-05-24T00:31:35.801648Z",
     "shell.execute_reply": "2023-05-24T00:31:35.801112Z",
     "shell.execute_reply.started": "2023-05-24T00:31:35.798642Z"
    },
    "tags": []
   },
   "outputs": [],
   "source": [
    "order = [1,2,3,0]\n",
    "filters = np.array(inst_setup[0])[order]"
   ]
  },
  {
   "cell_type": "code",
   "execution_count": 39,
   "id": "5e95cf3a-0fbf-46af-af8a-560872efc22c",
   "metadata": {
    "execution": {
     "iopub.execute_input": "2023-05-24T00:31:36.122724Z",
     "iopub.status.busy": "2023-05-24T00:31:36.122434Z",
     "iopub.status.idle": "2023-05-24T00:31:36.125506Z",
     "shell.execute_reply": "2023-05-24T00:31:36.124999Z",
     "shell.execute_reply.started": "2023-05-24T00:31:36.122706Z"
    },
    "tags": []
   },
   "outputs": [],
   "source": [
    "dither_offset = 30\n",
    "min_counts_above_bias = 15000\n",
    "multiple_factor = 1.5 "
   ]
  },
  {
   "cell_type": "code",
   "execution_count": 41,
   "id": "bc7dda33-7ad1-4218-b18d-fae0eae11e91",
   "metadata": {
    "execution": {
     "iopub.execute_input": "2023-05-23T22:12:30.815196Z",
     "iopub.status.busy": "2023-05-23T22:12:30.814843Z",
     "iopub.status.idle": "2023-05-23T22:12:30.818799Z",
     "shell.execute_reply": "2023-05-23T22:12:30.818114Z",
     "shell.execute_reply.started": "2023-05-23T22:12:30.815175Z"
    },
    "tags": []
   },
   "outputs": [],
   "source": [
    "# !!!! Change this with Erik \n",
    "starting_exposure_time = {filters[0]:1, filters[1]:2, filters[2]:2, filters[3]:4}"
   ]
  },
  {
   "cell_type": "code",
   "execution_count": 21,
   "id": "495f4f7a-0f3c-49fb-b152-0ed3e45487ca",
   "metadata": {
    "execution": {
     "iopub.execute_input": "2023-05-23T21:54:36.150601Z",
     "iopub.status.busy": "2023-05-23T21:54:36.150326Z",
     "iopub.status.idle": "2023-05-23T21:54:36.154442Z",
     "shell.execute_reply": "2023-05-23T21:54:36.153959Z",
     "shell.execute_reply.started": "2023-05-23T21:54:36.150583Z"
    },
    "tags": []
   },
   "outputs": [
    {
     "data": {
      "text/html": [
       "<pre style=\"margin: 0.1em;\n",
       "padding-left: 0.25em;\n",
       "border-left-style: solid;\n",
       "font-family: var(--jp-code-font-family);\n",
       "font-size: var(--jp-code-font-size);\n",
       "line-height: var(--jp-code-line-height);\n",
       "\"><span style=\"color: var(--jp-warn-color2)\">Sky Flats 2023-05-23 21:49:58.373623 UT</span> <span style=\"color: var(--jp-info-color0)\">INFO</span>: The starting exposure time for each filter is \n",
       "SDSSg_65mm: 1 seconds\n",
       "SDSSr_65mm: 4 seconds\n",
       "SDSSi_65mm: 8 seconds\n",
       "empty_1: 8 seconds</pre>"
      ],
      "text/plain": [
       "<IPython.core.display.HTML object>"
      ]
     },
     "metadata": {},
     "output_type": "display_data"
    }
   ],
   "source": [
    "newline = \"\\n\"  # \\escapes are not allowed inside f-strings\n",
    "logger.info(f'The starting exposure time for each filter is \\n'\n",
    "            f'{newline.join(f\"{key}: {value} seconds\" for key, value in starting_exposure_time.items())}')"
   ]
  },
  {
   "cell_type": "markdown",
   "id": "301ceae4",
   "metadata": {
    "tags": []
   },
   "source": [
    "## Find first image\n",
    "\n",
    "Here is where we check image saturation. We take an image with some short exposure time with the bluest filter, check how many pixels on each detector are saturated, check how many counts do we have in each detector, and once we have high but not saturated signal is all detectors and in most of the pixels, we move forward."
   ]
  },
  {
   "cell_type": "code",
   "execution_count": 32,
   "id": "4d4d575c",
   "metadata": {
    "execution": {
     "iopub.execute_input": "2023-05-23T22:00:40.878919Z",
     "iopub.status.busy": "2023-05-23T22:00:40.878479Z",
     "iopub.status.idle": "2023-05-23T22:00:44.910897Z",
     "shell.execute_reply": "2023-05-23T22:00:44.910203Z",
     "shell.execute_reply.started": "2023-05-23T22:00:40.878874Z"
    },
    "tags": []
   },
   "outputs": [
    {
     "name": "stdout",
     "output_type": "stream",
     "text": [
      "The test exposure is 2023052300051 with SDSSg_65mm\n"
     ]
    },
    {
     "ename": "AttributeError",
     "evalue": "'coroutine' object has no attribute 'getMaskedImage'",
     "output_type": "error",
     "traceback": [
      "\u001b[0;31m---------------------------------------------------------------------------\u001b[0m",
      "\u001b[0;31mAttributeError\u001b[0m                            Traceback (most recent call last)",
      "Input \u001b[0;32mIn [32]\u001b[0m, in \u001b[0;36m<cell line: 7>\u001b[0;34m()\u001b[0m\n\u001b[1;32m      2\u001b[0m test_exp \u001b[38;5;241m=\u001b[39m \u001b[38;5;28;01mawait\u001b[39;00m latiss\u001b[38;5;241m.\u001b[39mtake_flats(\n\u001b[1;32m      3\u001b[0m     exptime\u001b[38;5;241m=\u001b[39m\u001b[38;5;241m1\u001b[39m, nflats\u001b[38;5;241m=\u001b[39m\u001b[38;5;241m1\u001b[39m, \u001b[38;5;28mfilter\u001b[39m\u001b[38;5;241m=\u001b[39mfilters[\u001b[38;5;241m0\u001b[39m], grating\u001b[38;5;241m=\u001b[39m\u001b[38;5;124m'\u001b[39m\u001b[38;5;124mempty_1\u001b[39m\u001b[38;5;124m'\u001b[39m, reason\u001b[38;5;241m=\u001b[39m\u001b[38;5;124m\"\u001b[39m\u001b[38;5;124mtest_saturation\u001b[39m\u001b[38;5;124m\"\u001b[39m, program\u001b[38;5;241m=\u001b[39m\u001b[38;5;124m\"\u001b[39m\u001b[38;5;124mSITCOM-790\u001b[39m\u001b[38;5;124m\"\u001b[39m)\n\u001b[1;32m      5\u001b[0m \u001b[38;5;28mprint\u001b[39m(\u001b[38;5;124mf\u001b[39m\u001b[38;5;124m\"\u001b[39m\u001b[38;5;124mThe test exposure is \u001b[39m\u001b[38;5;132;01m{\u001b[39;00mtest_exp[\u001b[38;5;241m0\u001b[39m]\u001b[38;5;132;01m}\u001b[39;00m\u001b[38;5;124m with \u001b[39m\u001b[38;5;132;01m{\u001b[39;00mfilters[\u001b[38;5;241m0\u001b[39m]\u001b[38;5;132;01m}\u001b[39;00m\u001b[38;5;124m\"\u001b[39m)\n\u001b[0;32m----> 7\u001b[0m signal_level \u001b[38;5;241m=\u001b[39m \u001b[43mverify_counts\u001b[49m\u001b[43m(\u001b[49m\u001b[43mtest_exp\u001b[49m\u001b[43m[\u001b[49m\u001b[38;5;241;43m0\u001b[39;49m\u001b[43m]\u001b[49m\u001b[43m,\u001b[49m\u001b[43m \u001b[49m\u001b[43mtimeout\u001b[49m\u001b[38;5;241;43m=\u001b[39;49m\u001b[38;5;241;43m10\u001b[39;49m\u001b[43m)\u001b[49m\n",
      "Input \u001b[0;32mIn [31]\u001b[0m, in \u001b[0;36mverify_counts\u001b[0;34m(exposure, timeout, loop_time)\u001b[0m\n\u001b[1;32m     28\u001b[0m exp \u001b[38;5;241m=\u001b[39m get_image(dataId, best_effort_isr)\n\u001b[1;32m     30\u001b[0m \u001b[38;5;66;03m# Measure median, mean and std across the image. \u001b[39;00m\n\u001b[0;32m---> 31\u001b[0m foo \u001b[38;5;241m=\u001b[39m \u001b[43mexp\u001b[49m\u001b[38;5;241;43m.\u001b[39;49m\u001b[43mgetMaskedImage\u001b[49m()\n\u001b[1;32m     32\u001b[0m masked_array \u001b[38;5;241m=\u001b[39m np\u001b[38;5;241m.\u001b[39mma\u001b[38;5;241m.\u001b[39mmasked_array(foo\u001b[38;5;241m.\u001b[39mimage\u001b[38;5;241m.\u001b[39marray, mask\u001b[38;5;241m=\u001b[39mfoo\u001b[38;5;241m.\u001b[39mmask\u001b[38;5;241m.\u001b[39marray)\n\u001b[1;32m     34\u001b[0m median \u001b[38;5;241m=\u001b[39m np\u001b[38;5;241m.\u001b[39mma\u001b[38;5;241m.\u001b[39mmedian(masked_array)\n",
      "\u001b[0;31mAttributeError\u001b[0m: 'coroutine' object has no attribute 'getMaskedImage'"
     ]
    }
   ],
   "source": [
    "# Take image\n",
    "test_exp = await latiss.take_flats(\n",
    "    exptime=1, nflats=1, filter=filters[0], grating='empty_1', reason=\"test_saturation\", program=\"SITCOM-790\")\n",
    "\n",
    "print(f\"The test exposure is {test_exp[0]} with {filters[0]}\")\n",
    "\n",
    "signal_level = await verify_counts(test_exp[0], timeout=10)"
   ]
  },
  {
   "cell_type": "markdown",
   "id": "07627de7",
   "metadata": {},
   "source": [
    "## Start Sequence\n",
    "\n",
    "Now that we have our start point for the bluest filter, we take triplets of sky flats with offsets of 30 arcsec between each. \n",
    "\n",
    "Confirm signal levels as they show up in RubinTv. "
   ]
  },
  {
   "cell_type": "code",
   "execution_count": null,
   "id": "71298825-0ef7-4b77-94f7-1c56b823de92",
   "metadata": {},
   "outputs": [],
   "source": [
    "exposure_time = starting_exposure_time[filters[0]]\n",
    "\n",
    "for filter_to_use in filters:\n",
    "    logger.info(f\"\\n\\n Filter is now {filter_to_use} \\n\\n\")    \n",
    "    \n",
    "    flats_done = False\n",
    "    max_exposure_time = 30 \n",
    "    \n",
    "    while not flats_done:\n",
    "        background_level_exposure = await latiss.take_flats(\n",
    "            exptime=exposure_time, nflats=1, filter=filter_to_use, grating='empty_1', reason=\"test_background_level\", program=\"SITCOM-790\")\n",
    "\n",
    "        background_level = await verify_counts(background_level_exposure) \n",
    "        \n",
    "        if background_level > min_counts_above_bias:\n",
    "            await take_triplets_with_fixed_dither(exposure_time, filter_to_use, dither_offset)            \n",
    "            logger.info(\"Changing filters\")\n",
    "            flats_done = True\n",
    "\n",
    "        else:\n",
    "            exposure_time = exposure_time * (min_counts_above_bias/background_level) * multiple_factor\n",
    "            logger.info(f\"The exposure time will be increased to {exposure_time} seconds\")\n",
    "\n",
    "            if exposure_time > max_exposure_time:         \n",
    "                logger.info(f\"Sky background in {filter_to_use} too low\")\n",
    "                logger.info(\"Changing filters\")\n",
    "                flats_done = True           "
   ]
  },
  {
   "cell_type": "markdown",
   "id": "9affc628",
   "metadata": {},
   "source": [
    "## Image Assessment"
   ]
  },
  {
   "cell_type": "markdown",
   "id": "d8fd4a8f-5a1d-4084-b160-cbb309d7882c",
   "metadata": {},
   "source": [
    "The two next cells will serve to check the median, mean and std of the signal across an image. \n",
    "Edit the `day_obs` and `seq_num` in the `dataId` row. "
   ]
  },
  {
   "cell_type": "code",
   "execution_count": null,
   "id": "9ea97bb9",
   "metadata": {
    "tags": []
   },
   "outputs": [],
   "source": [
    "dataId = {'detector': 0, 'day_obs': 20230427, 'seq_num': 87}\n",
    "exp = butler.get('raw', dataId=dataId)"
   ]
  },
  {
   "cell_type": "code",
   "execution_count": null,
   "id": "2d64ac77",
   "metadata": {
    "tags": []
   },
   "outputs": [],
   "source": [
    "foo = exp.getMaskedImage()\n",
    "masked_array = np.ma.masked_array(foo.image.array, mask=foo.mask.array)\n",
    "meta = exp.getMetadata()\n",
    "\n",
    "logger.info(f\"Observation ID: {meta['OBSID']}\")\n",
    "logger.info(f\"    Median: {np.ma.median(masked_array)}\")\n",
    "logger.info(f\"    Mean: {np.ma.mean(masked_array)}\")\n",
    "logger.info(f\"    Std: {np.ma.std(masked_array)}\")"
   ]
  }
 ],
 "metadata": {
  "kernelspec": {
   "display_name": "LSST",
   "language": "python",
   "name": "lsst"
  },
  "language_info": {
   "codemirror_mode": {
    "name": "ipython",
    "version": 3
   },
   "file_extension": ".py",
   "mimetype": "text/x-python",
   "name": "python",
   "nbconvert_exporter": "python",
   "pygments_lexer": "ipython3",
   "version": "3.10.10"
  }
 },
 "nbformat": 4,
 "nbformat_minor": 5
}
