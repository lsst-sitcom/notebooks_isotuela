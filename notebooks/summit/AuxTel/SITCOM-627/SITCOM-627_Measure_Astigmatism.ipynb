{
 "cells": [
  {
   "cell_type": "markdown",
   "id": "5c65fc0f-bc50-4028-a0fb-8487fd8e6c1a",
   "metadata": {},
   "source": [
    "# Measure Astigmatism on AuxTel - SITCOM-527\n",
    "\n",
    "This notebook contains the execution for the measuring of astigmatism described in https://jira.lsstcorp.org/browse/SITCOM-627.\n",
    "                \n",
    "The notebook is organized in 6 sections:\n",
    "\n",
    "    1.1 Conditions assessment\n",
    "    1.2 Setup notebook\n",
    "    1.3 Declare target and filter\n",
    "    1.4 Slew to target object.\n",
    "    1.5 Check target star field, signal level and declare exposure time. \n",
    "    1.6  Perform the data acquisition sequence. \n",
    "    \n",
    "\n",
    "\n",
    "Goal: Directly measure image degradation due to astigmatism on AuxTel by sweeping through focus.\n",
    "\n",
    "Idea: If we sweep through focus we will be able to measure image degradation due to astigmatism by (a) comparing the FWHM of each individual axis at its best focus to the FWHM of the circle of least confusion and (b) measuring the distance between the best focus of each axis (these measurements should agree, and hopefully also agree with Zernikes).\n",
    "\n",
    "Observing sequence:\n",
    "\n",
    "    On a night with decent seeing (< 1.5 arcsec), focus on star field with medium to low density of stars.\n",
    "    Sweep through focus by moving M2 in steps of 0.02 mm from -0.1 mm to +0.1 mm (the idea is to move the focal plane in steps of ~1mm)."
   ]
  },
  {
   "cell_type": "markdown",
   "id": "6b7dc22e-3199-40b0-ad21-e71eb6a3ecdc",
   "metadata": {
    "tags": []
   },
   "source": [
    "----\n",
    "## Assess that conditions meet criteria\n",
    "This test should be performed when the seeing is \"decent\", under 1.5 arcsec. Run this execution later in the night, when dome seeing has settled down and seeing is more stable. Confirm that the temperatures in and outside the dome are within 1 degree. \n"
   ]
  },
  {
   "cell_type": "markdown",
   "id": "68c7a700-8fd6-4d75-b369-2af649a9f2a8",
   "metadata": {},
   "source": [
    "-----\n",
    "## Setup"
   ]
  },
  {
   "cell_type": "markdown",
   "id": "7e10be17-700c-4520-9591-02cb7611a2ec",
   "metadata": {},
   "source": [
    "### Import libraries"
   ]
  },
  {
   "cell_type": "code",
   "execution_count": null,
   "id": "8e14fd2e-c93a-4ef4-86a5-7dcc4dcce04f",
   "metadata": {},
   "outputs": [],
   "source": [
    "import sys\n",
    "import asyncio\n",
    "import time\n",
    "import os\n",
    "\n",
    "import numpy as np\n",
    "import logging \n",
    "import yaml\n",
    "import matplotlib.pyplot as plt\n",
    "from astropy.time import Time\n",
    "import astropy\n",
    "\n",
    "from lsst.ts import salobj\n",
    "from lsst.ts.externalscripts.auxtel.latiss_cwfs_align import LatissCWFSAlign\n",
    "from lsst.ts.observatory.control.utils import RotType\n",
    "\n",
    "from lsst.ts.idl.enums.Script import ScriptState"
   ]
  },
  {
   "cell_type": "markdown",
   "id": "1113ceca-0fd3-46ed-a20b-2f950b2b622a",
   "metadata": {},
   "source": [
    "### Setting up logger"
   ]
  },
  {
   "cell_type": "code",
   "execution_count": null,
   "id": "886a4c54-b7e0-414a-979b-7ec6d79c254a",
   "metadata": {},
   "outputs": [],
   "source": [
    "logger = logging.getLogger(\"SITCOM-627\")\n",
    "logger.level = logging.DEBUG"
   ]
  },
  {
   "cell_type": "markdown",
   "id": "526343b3-78e1-48f3-8814-74d0636a4444",
   "metadata": {},
   "source": [
    "### Getting unique index for script"
   ]
  },
  {
   "cell_type": "code",
   "execution_count": null,
   "id": "94e4d66f-119f-4a3b-87fb-59cfa07477ad",
   "metadata": {},
   "outputs": [],
   "source": [
    "logger.info(f'Your UID is {os.getuid()}')\n",
    "index = os.getuid() * 10 + np.random.randint(0, 9)\n",
    "\n",
    "logger.info(f'The generated index is {index}')"
   ]
  },
  {
   "cell_type": "markdown",
   "id": "533bcc80-cb1c-4f65-9d47-d1eb9ff7a722",
   "metadata": {},
   "source": [
    "### Instantiate CWFS Script"
   ]
  },
  {
   "cell_type": "code",
   "execution_count": null,
   "id": "73b621b9-d49d-4f07-9b35-fbb8254beb4b",
   "metadata": {
    "tags": []
   },
   "outputs": [],
   "source": [
    "script = LatissCWFSAlign(index=index, remotes=True)  # this essentially calls the init method\n",
    "await script.start_task"
   ]
  },
  {
   "cell_type": "markdown",
   "id": "3662037a-d691-4edd-ada4-8bd7471e3689",
   "metadata": {},
   "source": [
    "### Forward ATCS and LATISS"
   ]
  },
  {
   "cell_type": "code",
   "execution_count": null,
   "id": "534388d8-9ae8-4cab-8c32-4c281a8585f8",
   "metadata": {},
   "outputs": [],
   "source": [
    "atcs = script.atcs\n",
    "latiss = script.latiss"
   ]
  },
  {
   "cell_type": "markdown",
   "id": "56300b5f-cc8d-4663-b364-b086b505e702",
   "metadata": {},
   "source": [
    "### Set up script log level"
   ]
  },
  {
   "cell_type": "code",
   "execution_count": null,
   "id": "02f80095-4a07-45fa-9cff-3c960a6da132",
   "metadata": {},
   "outputs": [],
   "source": [
    "script.log.level = logging.DEBUG"
   ]
  },
  {
   "cell_type": "markdown",
   "id": "386b390b-f364-411b-8542-f8a1e5b9fbc2",
   "metadata": {
    "tags": []
   },
   "source": [
    "### Write start info into EFD"
   ]
  },
  {
   "cell_type": "code",
   "execution_count": null,
   "id": "2ef26e83-3ca0-4175-8bc9-c257204094d2",
   "metadata": {},
   "outputs": [],
   "source": [
    "script.log.info(f'START -- SITCOM-627 Astigmatism test -- at {Time.now()}')"
   ]
  },
  {
   "cell_type": "markdown",
   "id": "ce5f9e64-1356-4e06-bb42-cd9009c60048",
   "metadata": {},
   "source": [
    "----\n",
    "## Target and filter"
   ]
  },
  {
   "cell_type": "markdown",
   "id": "fb7e290e-3060-4d6a-8a4b-02e8b665a9ce",
   "metadata": {
    "tags": []
   },
   "source": [
    "### Declare target: Choose target - Star field needs to be low to medium density. \n",
    "ATCS will query SIMBAD for a `maglim_target` 8.0 maximum magnitude target around `az_target` 180 and `el_target` 65 with a `radius_target` of 2 degrees\n",
    "\n",
    "Modify cell below to choose different target coordinates. "
   ]
  },
  {
   "cell_type": "code",
   "execution_count": null,
   "id": "043bf102-e58a-403b-a2f8-070ba8f366f7",
   "metadata": {},
   "outputs": [],
   "source": [
    "az_target = 182\n",
    "el_target = 65\n",
    "maglim_target = 8.0\n",
    "radius_target = 2"
   ]
  },
  {
   "cell_type": "code",
   "execution_count": null,
   "id": "f3bbe041-d6bd-4b75-9169-d3c9eb12abc6",
   "metadata": {},
   "outputs": [],
   "source": [
    "target = await script.atcs.find_target(az=az_target, el=el_target, mag_limit=cwfs_mag_limit, radius = cwfs_radius)\n",
    "logger.info(f'Target with magnitude limit {maglim_target} is {target}')"
   ]
  },
  {
   "cell_type": "markdown",
   "id": "a30da414-ddec-40c0-9817-fd09324b21c6",
   "metadata": {},
   "source": [
    "### Declare filter - Set up with reddest band in filter wheel (to get best image quality) and no disperser"
   ]
  },
  {
   "cell_type": "code",
   "execution_count": null,
   "id": "d65568de-4aae-415f-a54e-6b7385ffc021",
   "metadata": {},
   "outputs": [],
   "source": [
    "inst_setup = await script.latiss.get_available_instrument_setup()\n",
    "logger.info(f'Available filters are: {inst_setup[0]},\\n Gratings are: {inst_setup[1]}')"
   ]
  },
  {
   "cell_type": "code",
   "execution_count": null,
   "id": "38de6631-fde8-4caf-817e-d680427370fd",
   "metadata": {},
   "outputs": [],
   "source": [
    "filter_to_use = 'SDSSi_65mm'"
   ]
  },
  {
   "cell_type": "markdown",
   "id": "57334a12-4c82-470a-82ef-d1857d40f331",
   "metadata": {},
   "source": [
    "------\n",
    "## Slew to target"
   ]
  },
  {
   "cell_type": "code",
   "execution_count": null,
   "id": "834a8435-6f5d-459c-a419-befb24767f53",
   "metadata": {},
   "outputs": [],
   "source": [
    "await script.atcs.slew_object(target, rot_type=RotType.PhysicalSky)"
   ]
  },
  {
   "cell_type": "markdown",
   "id": "6b91fd74-17bc-4aaa-8404-66f7bd7399c0",
   "metadata": {},
   "source": [
    "-------\n",
    "## Check star field and signal levels. Declare exposure time"
   ]
  },
  {
   "cell_type": "markdown",
   "id": "e78ff051-1c07-4557-98ba-d89fdf3ca703",
   "metadata": {},
   "source": [
    "Take an image to check the star field. It should have a low to medium density of stars. \n",
    "If you want to change the field, re-run from section 1.3 with different coordinates. "
   ]
  },
  {
   "cell_type": "code",
   "execution_count": null,
   "id": "f3731c8a-7a71-43e5-bb25-44a307c56937",
   "metadata": {},
   "outputs": [],
   "source": [
    "acq_exposure = await latiss.take_acq(\n",
    "        exptime=20, n=1, filter=filter_to_use, grating='empty_1', reason='Acquisition', program=\"SITCOM-627\")\n",
    "logger.info(f'Acquisition exposure is {acq_exposure}')"
   ]
  },
  {
   "cell_type": "markdown",
   "id": "8fb7d675-b59e-4cab-adfd-4ab94bb690ee",
   "metadata": {},
   "source": [
    "To offset the telescope and center the source (if required) uncomment the following line. <br>\n",
    "Offsets are in detector X/Y coordinates and in arcseconds. "
   ]
  },
  {
   "cell_type": "code",
   "execution_count": null,
   "id": "78d5edf0-c3b1-45f6-8111-b43370235844",
   "metadata": {},
   "outputs": [],
   "source": [
    "# await script.atcs.offset_xy(x=20, y=20)"
   ]
  },
  {
   "cell_type": "markdown",
   "id": "57e8c236-ab61-4e1c-b881-8dca621d02ea",
   "metadata": {},
   "source": [
    "### Declare exposure time"
   ]
  },
  {
   "cell_type": "markdown",
   "id": "5a71ed10-16fb-4285-807c-97e559a1f57e",
   "metadata": {},
   "source": [
    "Once happy with the field and signal level, declare the exposure time for the rest of the test. "
   ]
  },
  {
   "cell_type": "code",
   "execution_count": null,
   "id": "cd032568-e8d4-4145-9a3c-c7d915ab8bf7",
   "metadata": {},
   "outputs": [],
   "source": [
    "exp_time = 15"
   ]
  },
  {
   "cell_type": "markdown",
   "id": "dac88c51-0384-4f35-aaee-ab41ee22def9",
   "metadata": {},
   "source": [
    "------\n",
    "## CWFS\n",
    "A CWFS is recommended just before the test to ensure the system is in focus. The same target will be used to perform the CWFS.  "
   ]
  },
  {
   "cell_type": "markdown",
   "id": "87807e50-5710-45e9-b4a1-da4ca450fe54",
   "metadata": {},
   "source": [
    "### Set up configuration"
   ]
  },
  {
   "cell_type": "code",
   "execution_count": null,
   "id": "b1a776d9-6c66-42f6-a9f2-5fef17290c51",
   "metadata": {},
   "outputs": [],
   "source": [
    "configuration = yaml.safe_dump({\"filter\": filter_to_use, \n",
    "                                \"grating\": 'empty_1',\n",
    "                                \"exposure_time\": 20,\n",
    "                                \"program\" : \"SITCOM-627\"})"
   ]
  },
  {
   "cell_type": "markdown",
   "id": "6fe7c085-e02c-4b17-9891-7fb2e21908ee",
   "metadata": {},
   "source": [
    "The next line is not required the first time the script is run, however, in each additional instance the cell is run, an error will be thrown if it is not included.  \n",
    "Therefore, it is included here despite being a non-operation in the first instance.  "
   ]
  },
  {
   "cell_type": "code",
   "execution_count": null,
   "id": "182f8a1c-f681-4462-b392-7ec008d3200b",
   "metadata": {},
   "outputs": [],
   "source": [
    "await script.set_state(ScriptState.UNCONFIGURED)"
   ]
  },
  {
   "cell_type": "markdown",
   "id": "f994dd6d-bdd1-4004-b65f-edd426d88e0e",
   "metadata": {},
   "source": [
    "### Put the ScriptState to CONFIGURED"
   ]
  },
  {
   "cell_type": "code",
   "execution_count": null,
   "id": "0a79ad4b-13c1-4a5c-b023-75b040b87a21",
   "metadata": {
    "tags": []
   },
   "outputs": [],
   "source": [
    "config_data = script.cmd_configure.DataType()\n",
    "config_data.config = configuration\n",
    "await script.do_configure(config_data)"
   ]
  },
  {
   "cell_type": "markdown",
   "id": "6cc86eb6-b295-4d0b-9890-02d476598b70",
   "metadata": {},
   "source": [
    "Set these script parameters to None to verify a re-reduction does not happen of the images."
   ]
  },
  {
   "cell_type": "code",
   "execution_count": null,
   "id": "35f5434a-17c5-47d4-8fb2-b499692d9266",
   "metadata": {},
   "outputs": [],
   "source": [
    "script.intra_visit_id = None\n",
    "script.extra_visit_id = None\n",
    "script.short_timeout = 10"
   ]
  },
  {
   "cell_type": "markdown",
   "id": "571bb441-c40a-4251-8c46-46ad15e63d06",
   "metadata": {
    "tags": []
   },
   "source": [
    "### Set groupID and launch the script\n",
    "This sets the same group ID for all exposures taken in the script."
   ]
  },
  {
   "cell_type": "code",
   "execution_count": null,
   "id": "08d6eb38-23a7-4968-926c-1d57707ba4a0",
   "metadata": {
    "tags": []
   },
   "outputs": [],
   "source": [
    "group_id_data = script.cmd_setGroupId.DataType(\n",
    "    groupId=astropy.time.Time.now().isot)\n",
    "\n",
    "await script.do_setGroupId(group_id_data)\n",
    "await script.arun()"
   ]
  },
  {
   "cell_type": "markdown",
   "id": "66b33b8d-9b73-4b15-af05-8103675f947f",
   "metadata": {
    "tags": []
   },
   "source": [
    "----\n",
    "## Data Acquisition Sequence: Sweep through focus by moving M2 in steps of 0.02 mm from -0.1 mm to +0.1 mm "
   ]
  },
  {
   "cell_type": "markdown",
   "id": "3fd588c7-5c74-412b-95dc-38699dc2f5f2",
   "metadata": {
    "tags": []
   },
   "source": [
    "###  Define sweep \n",
    "Acquire data in steps of `z_offset_step` in the range of `z_offset_start` to `z_offset_end` relative to the current focus position."
   ]
  },
  {
   "cell_type": "code",
   "execution_count": 1,
   "id": "2f0c1302-5864-4360-9dc6-0e7281bf556b",
   "metadata": {
    "execution": {
     "iopub.execute_input": "2023-02-08T10:14:55.391179Z",
     "iopub.status.busy": "2023-02-08T10:14:55.390897Z",
     "iopub.status.idle": "2023-02-08T10:14:55.505929Z",
     "shell.execute_reply": "2023-02-08T10:14:55.505187Z",
     "shell.execute_reply.started": "2023-02-08T10:14:55.391152Z"
    }
   },
   "outputs": [
    {
     "ename": "NameError",
     "evalue": "name 'np' is not defined",
     "output_type": "error",
     "traceback": [
      "\u001b[0;31m---------------------------------------------------------------------------\u001b[0m",
      "\u001b[0;31mNameError\u001b[0m                                 Traceback (most recent call last)",
      "Input \u001b[0;32mIn [1]\u001b[0m, in \u001b[0;36m<cell line: 5>\u001b[0;34m()\u001b[0m\n\u001b[1;32m      2\u001b[0m z_offset_step \u001b[38;5;241m=\u001b[39m \u001b[38;5;241m0.025\u001b[39m \u001b[38;5;66;03m# mm\u001b[39;00m\n\u001b[1;32m      3\u001b[0m z_offset_end \u001b[38;5;241m=\u001b[39m \u001b[38;5;241m-\u001b[39mz_offset_start\n\u001b[0;32m----> 5\u001b[0m steps \u001b[38;5;241m=\u001b[39m \u001b[43mnp\u001b[49m\u001b[38;5;241m.\u001b[39marange(z_offset_start, z_offset_end \u001b[38;5;241m+\u001b[39m \u001b[38;5;241m0.01\u001b[39m, z_offset_step)\n\u001b[1;32m      7\u001b[0m logger\u001b[38;5;241m.\u001b[39minfo(\u001b[38;5;124mf\u001b[39m\u001b[38;5;124m'\u001b[39m\u001b[38;5;124mThe hexapod will be moved the following z offset steps \u001b[39m\u001b[38;5;130;01m\\n\u001b[39;00m\u001b[38;5;124m \u001b[39m\u001b[38;5;132;01m{\u001b[39;00msteps\u001b[38;5;132;01m}\u001b[39;00m\u001b[38;5;124m [mm]. \u001b[39m\u001b[38;5;130;01m\\n\u001b[39;00m\u001b[38;5;124m If you disagree, change the parameters above and run this cell again\u001b[39m\u001b[38;5;124m'\u001b[39m)\n",
      "\u001b[0;31mNameError\u001b[0m: name 'np' is not defined"
     ]
    }
   ],
   "source": [
    "z_offset_start = -0.1 # mm\n",
    "z_offset_step = 0.025 # mm\n",
    "z_offset_end = -z_offset_start\n",
    "\n",
    "steps = np.arange(z_offset_start, z_offset_end + 0.01, z_offset_step)\n",
    "\n",
    "logger.info(f'The hexapod will be moved the following z offset steps \\n {steps} [mm]. \\n To modify the sweep, change the parameters above and run this cell again')"
   ]
  },
  {
   "cell_type": "markdown",
   "id": "e45966d6-a1e9-409e-be24-08aa2d8752c9",
   "metadata": {},
   "source": [
    "## Original focus offset"
   ]
  },
  {
   "cell_type": "code",
   "execution_count": null,
   "id": "e9f4ef7a-23fe-4816-a82d-77188c7ffc14",
   "metadata": {},
   "outputs": [],
   "source": [
    "original_focus_offset = await script.atcs.rem.ataos.evt_focusOffsetSummary.aget()\n",
    "script.log.info(f'Original focus offset is {original_focus_offset}')"
   ]
  },
  {
   "cell_type": "markdown",
   "id": "112818be-fce7-4df9-b69d-d762fcd6e5a6",
   "metadata": {
    "tags": []
   },
   "source": [
    "### Data Acquisition Loop\n",
    "This loop will take n_images in each of the defined hexapod position. "
   ]
  },
  {
   "cell_type": "code",
   "execution_count": null,
   "id": "36e7ca6d-d6d8-4e0d-bc19-427b458ce20a",
   "metadata": {
    "tags": []
   },
   "outputs": [],
   "source": [
    "data = []\n",
    "\n",
    "await atcs.rem.ataos.cmd_offset.set_start(z=z_offset_start)\n",
    "    \n",
    "await asyncio.sleep(2)\n",
    "for step in steps:\n",
    "        \n",
    "    exposure = await latiss.take_engtest(\n",
    "        exptime=exp_times, n=2, filter=filter_to_focus, grating='empty_1', reason='Focus_sweep', program=\"SITCOM-627\")\n",
    "    data.append(exposure[0])\n",
    "    script.log.info(f'Total z offset = {step:.3f} mm -- Image expId = {exposure[0]}')\n",
    "    \n",
    "    logger.info(f'Current focus offset is \\n {await script.atcs.rem.ataos.evt_focusOffsetSummary.aget()}')\n",
    "    \n",
    "    await atcs.rem.ataos.cmd_offset.set_start(z=z_offset_step)\n",
    "\n",
    "# Move back to the original focus offset position\n",
    "await atcs.rem.ataos.cmd_offset.set_start(z= -(z_offset_end + z_offset_step))\n",
    "logger.info(f'Back to the original focus offset position \\n {await script.atcs.rem.ataos.evt_focusOffsetSummary.aget()}')"
   ]
  },
  {
   "cell_type": "code",
   "execution_count": null,
   "id": "71457520-e4ac-41bc-b977-8c749da2f0ce",
   "metadata": {},
   "outputs": [],
   "source": [
    "logger.info(f'Images are {data}')"
   ]
  },
  {
   "cell_type": "markdown",
   "id": "476403ae-b02a-4891-894a-4aa5c7afd73a",
   "metadata": {},
   "source": [
    "### Write end info into EFD"
   ]
  },
  {
   "cell_type": "code",
   "execution_count": null,
   "id": "2f6d9f5f-0fa1-4993-8925-e0de3d270770",
   "metadata": {},
   "outputs": [],
   "source": [
    "script.log.info(f'END -- SITCOM-627 Astigmatism test -- at {Time.now()}')"
   ]
  }
 ],
 "metadata": {
  "kernelspec": {
   "display_name": "LSST",
   "language": "python",
   "name": "lsst"
  },
  "language_info": {
   "codemirror_mode": {
    "name": "ipython",
    "version": 3
   },
   "file_extension": ".py",
   "mimetype": "text/x-python",
   "name": "python",
   "nbconvert_exporter": "python",
   "pygments_lexer": "ipython3",
   "version": "3.10.8"
  },
  "toc-autonumbering": true,
  "toc-showmarkdowntxt": false
 },
 "nbformat": 4,
 "nbformat_minor": 5
}
