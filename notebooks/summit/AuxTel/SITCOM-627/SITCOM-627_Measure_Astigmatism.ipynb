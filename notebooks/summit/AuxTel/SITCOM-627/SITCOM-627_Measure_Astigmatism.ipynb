{
 "cells": [
  {
   "cell_type": "markdown",
   "id": "5c65fc0f-bc50-4028-a0fb-8487fd8e6c1a",
   "metadata": {},
   "source": [
    "# Measure Astigmatism on AuxTel --- SITCOM-627\n",
    "\n",
    "This notebook contains the execution for the measuring of astigmatism described in https://jira.lsstcorp.org/browse/SITCOM-627.\n",
    "                \n",
    "The notebook is organized in 6 sections:\n",
    "\n",
    "    1.1 Conditions assessment\n",
    "    1.2 Setup notebook\n",
    "    1.3 Declare target and filter\n",
    "    1.4 Slew to target object.\n",
    "    1.5 Check target star field, signal level and declare exposure time. \n",
    "    1.6 Perform the data acquisition sequence. \n",
    "    \n",
    "\n",
    "\n",
    "Goal: Directly measure image degradation due to astigmatism on AuxTel by sweeping through focus.\n",
    "\n",
    "Idea: If we sweep through focus we will be able to measure image degradation due to astigmatism by (a) comparing the FWHM of each individual axis at its best focus to the FWHM of the circle of least confusion and (b) measuring the distance between the best focus of each axis (these measurements should agree, and hopefully also agree with Zernikes).\n",
    "\n",
    "Observing sequence:\n",
    "\n",
    "    On a night with decent seeing (< 1.5 arcsec), focus on star field with medium to low density of stars.\n",
    "    Sweep through focus by moving M2 in steps of 0.02 mm from -0.1 mm to +0.1 mm (the idea is to move the focal plane in steps of ~1mm). Take 2 x 30s exposures at each position with the red filter in. Then take 2x 30s exposures with the holo disperser and no blocking filter in. \n",
    "    Slew to a nearby bright star and perform CWFS/WEP (or this can be done as step one)"
   ]
  },
  {
   "cell_type": "markdown",
   "id": "6b7dc22e-3199-40b0-ad21-e71eb6a3ecdc",
   "metadata": {
    "tags": []
   },
   "source": [
    "----\n",
    "## Assess that conditions meet criteria\n",
    "This test should be performed when the seeing is \"decent\", under 1.5 arcsec. \n",
    "\n",
    "Preferably, run this execution later in the night, when dome seeing has settled down and seeing is more stable. Confirm that the temperatures in and outside the dome are within 1 degree. "
   ]
  },
  {
   "cell_type": "markdown",
   "id": "68c7a700-8fd6-4d75-b369-2af649a9f2a8",
   "metadata": {},
   "source": [
    "-----\n",
    "## Setup"
   ]
  },
  {
   "cell_type": "markdown",
   "id": "7e10be17-700c-4520-9591-02cb7611a2ec",
   "metadata": {},
   "source": [
    "### Import libraries"
   ]
  },
  {
   "cell_type": "code",
   "execution_count": 1,
   "id": "8e14fd2e-c93a-4ef4-86a5-7dcc4dcce04f",
   "metadata": {
    "execution": {
     "iopub.execute_input": "2023-02-09T02:20:49.956771Z",
     "iopub.status.busy": "2023-02-09T02:20:49.956272Z",
     "iopub.status.idle": "2023-02-09T02:20:53.189325Z",
     "shell.execute_reply": "2023-02-09T02:20:53.188219Z",
     "shell.execute_reply.started": "2023-02-09T02:20:49.956739Z"
    }
   },
   "outputs": [
    {
     "data": {
      "text/html": [
       "<pre style=\"margin: 0.1em;\n",
       "padding-left: 0.25em;\n",
       "border-left-style: solid;\n",
       "font-family: var(--jp-code-font-family);\n",
       "font-size: var(--jp-code-font-size);\n",
       "line-height: var(--jp-code-line-height);\n",
       "\"><span style=\"color: var(--jp-warn-color2)\">lsst.ts.utils.tai</span> <span style=\"color: var(--jp-info-color0)\">INFO</span>: Update leap second table</pre>"
      ],
      "text/plain": [
       "<IPython.core.display.HTML object>"
      ]
     },
     "metadata": {},
     "output_type": "display_data"
    },
    {
     "data": {
      "text/html": [
       "<pre style=\"margin: 0.1em;\n",
       "padding-left: 0.25em;\n",
       "border-left-style: solid;\n",
       "font-family: var(--jp-code-font-family);\n",
       "font-size: var(--jp-code-font-size);\n",
       "line-height: var(--jp-code-line-height);\n",
       "\"><span style=\"color: var(--jp-warn-color2)\">lsst.ts.utils.tai</span> <span style=\"color: var(--jp-info-color0)\">INFO</span>: current_tai uses the system TAI clock</pre>"
      ],
      "text/plain": [
       "<IPython.core.display.HTML object>"
      ]
     },
     "metadata": {},
     "output_type": "display_data"
    },
    {
     "name": "stdout",
     "output_type": "stream",
     "text": [
      "WARNING: failed to automatically determine site\n"
     ]
    },
    {
     "name": "stderr",
     "output_type": "stream",
     "text": [
      "/home/isotuela/auto-op-env-packages/ts_externalscripts/python/lsst/ts/externalscripts/auxtel/latiss_acquire_and_take_sequence.py:49: UserWarning: Cannot import required libraries. Script will not work.\n",
      "  warnings.warn(\"Cannot import required libraries. Script will not work.\")\n",
      "/home/isotuela/auto-op-env-packages/ts_externalscripts/python/lsst/ts/externalscripts/auxtel/latiss_cwfs_align.py:47: UserWarning: Cannot import required libraries. Script will not work.\n",
      "  warnings.warn(\"Cannot import required libraries. Script will not work.\")\n"
     ]
    }
   ],
   "source": [
    "import sys\n",
    "import asyncio\n",
    "import time\n",
    "import os\n",
    "\n",
    "import numpy as np\n",
    "import logging \n",
    "import yaml\n",
    "import matplotlib.pyplot as plt\n",
    "from astropy.time import Time\n",
    "import astropy\n",
    "\n",
    "from lsst.ts import salobj\n",
    "from lsst.ts.externalscripts.auxtel.latiss_cwfs_align import LatissCWFSAlign\n",
    "from lsst.ts.observatory.control.utils import RotType\n",
    "\n",
    "from lsst.ts.idl.enums.Script import ScriptState"
   ]
  },
  {
   "cell_type": "markdown",
   "id": "1113ceca-0fd3-46ed-a20b-2f950b2b622a",
   "metadata": {},
   "source": [
    "### Setting up logger"
   ]
  },
  {
   "cell_type": "code",
   "execution_count": 2,
   "id": "886a4c54-b7e0-414a-979b-7ec6d79c254a",
   "metadata": {
    "execution": {
     "iopub.execute_input": "2023-02-09T02:20:53.200247Z",
     "iopub.status.busy": "2023-02-09T02:20:53.199582Z",
     "iopub.status.idle": "2023-02-09T02:20:53.203215Z",
     "shell.execute_reply": "2023-02-09T02:20:53.202585Z",
     "shell.execute_reply.started": "2023-02-09T02:20:53.200224Z"
    }
   },
   "outputs": [],
   "source": [
    "logger = logging.getLogger(\"SITCOM-627\")\n",
    "logger.level = logging.DEBUG"
   ]
  },
  {
   "cell_type": "markdown",
   "id": "526343b3-78e1-48f3-8814-74d0636a4444",
   "metadata": {},
   "source": [
    "### Getting unique index for script"
   ]
  },
  {
   "cell_type": "code",
   "execution_count": 3,
   "id": "94e4d66f-119f-4a3b-87fb-59cfa07477ad",
   "metadata": {
    "execution": {
     "iopub.execute_input": "2023-02-09T02:20:53.204699Z",
     "iopub.status.busy": "2023-02-09T02:20:53.204486Z",
     "iopub.status.idle": "2023-02-09T02:20:53.240503Z",
     "shell.execute_reply": "2023-02-09T02:20:53.239681Z",
     "shell.execute_reply.started": "2023-02-09T02:20:53.204679Z"
    }
   },
   "outputs": [
    {
     "data": {
      "text/html": [
       "<pre style=\"margin: 0.1em;\n",
       "padding-left: 0.25em;\n",
       "border-left-style: solid;\n",
       "font-family: var(--jp-code-font-family);\n",
       "font-size: var(--jp-code-font-size);\n",
       "line-height: var(--jp-code-line-height);\n",
       "\"><span style=\"color: var(--jp-warn-color2)\">SITCOM-627</span> <span style=\"color: var(--jp-info-color0)\">INFO</span>: Your UID is 87160242</pre>"
      ],
      "text/plain": [
       "<IPython.core.display.HTML object>"
      ]
     },
     "metadata": {},
     "output_type": "display_data"
    },
    {
     "data": {
      "text/html": [
       "<pre style=\"margin: 0.1em;\n",
       "padding-left: 0.25em;\n",
       "border-left-style: solid;\n",
       "font-family: var(--jp-code-font-family);\n",
       "font-size: var(--jp-code-font-size);\n",
       "line-height: var(--jp-code-line-height);\n",
       "\"><span style=\"color: var(--jp-warn-color2)\">SITCOM-627</span> <span style=\"color: var(--jp-info-color0)\">INFO</span>: The generated index is 871602425</pre>"
      ],
      "text/plain": [
       "<IPython.core.display.HTML object>"
      ]
     },
     "metadata": {},
     "output_type": "display_data"
    }
   ],
   "source": [
    "logger.info(f'Your UID is {os.getuid()}')\n",
    "index = os.getuid() * 10 + np.random.randint(0, 9)\n",
    "\n",
    "logger.info(f'The generated index is {index}')"
   ]
  },
  {
   "cell_type": "markdown",
   "id": "533bcc80-cb1c-4f65-9d47-d1eb9ff7a722",
   "metadata": {},
   "source": [
    "### Instantiate CWFS Script"
   ]
  },
  {
   "cell_type": "code",
   "execution_count": 4,
   "id": "73b621b9-d49d-4f07-9b35-fbb8254beb4b",
   "metadata": {
    "execution": {
     "iopub.execute_input": "2023-02-09T02:21:01.720474Z",
     "iopub.status.busy": "2023-02-09T02:21:01.720056Z",
     "iopub.status.idle": "2023-02-09T02:21:03.082899Z",
     "shell.execute_reply": "2023-02-09T02:21:03.082221Z",
     "shell.execute_reply.started": "2023-02-09T02:21:01.720442Z"
    },
    "tags": []
   },
   "outputs": [
    {
     "data": {
      "text/html": [
       "<pre style=\"margin: 0.1em;\n",
       "padding-left: 0.25em;\n",
       "border-left-style: solid;\n",
       "font-family: var(--jp-code-font-family);\n",
       "font-size: var(--jp-code-font-size);\n",
       "line-height: var(--jp-code-line-height);\n",
       "\"><span style=\"color: var(--jp-warn-color2)\">Script</span> <span style=\"color: var(--jp-info-color0)\">INFO</span>: Disabling authlist-based command authorization</pre>"
      ],
      "text/plain": [
       "<IPython.core.display.HTML object>"
      ]
     },
     "metadata": {},
     "output_type": "display_data"
    },
    {
     "data": {
      "text/html": [
       "<pre style=\"margin: 0.1em;\n",
       "padding-left: 0.25em;\n",
       "border-left-style: solid;\n",
       "font-family: var(--jp-code-font-family);\n",
       "font-size: var(--jp-code-font-size);\n",
       "line-height: var(--jp-code-line-height);\n",
       "\"><span style=\"color: var(--jp-warn-color2)\">ATMCS</span> <span style=\"color: var(--jp-info-color0)\">INFO</span>: Disabling authlist-based command authorization</pre>"
      ],
      "text/plain": [
       "<IPython.core.display.HTML object>"
      ]
     },
     "metadata": {},
     "output_type": "display_data"
    },
    {
     "data": {
      "text/html": [
       "<pre style=\"margin: 0.1em;\n",
       "padding-left: 0.25em;\n",
       "border-left-style: solid;\n",
       "font-family: var(--jp-code-font-family);\n",
       "font-size: var(--jp-code-font-size);\n",
       "line-height: var(--jp-code-line-height);\n",
       "\"><span style=\"color: var(--jp-warn-color2)\">ATPtg</span> <span style=\"color: var(--jp-info-color0)\">INFO</span>: Disabling authlist-based command authorization</pre>"
      ],
      "text/plain": [
       "<IPython.core.display.HTML object>"
      ]
     },
     "metadata": {},
     "output_type": "display_data"
    },
    {
     "data": {
      "text/html": [
       "<pre style=\"margin: 0.1em;\n",
       "padding-left: 0.25em;\n",
       "border-left-style: solid;\n",
       "font-family: var(--jp-code-font-family);\n",
       "font-size: var(--jp-code-font-size);\n",
       "line-height: var(--jp-code-line-height);\n",
       "\"><span style=\"color: var(--jp-warn-color2)\">ATAOS</span> <span style=\"color: var(--jp-info-color0)\">INFO</span>: Disabling authlist-based command authorization</pre>"
      ],
      "text/plain": [
       "<IPython.core.display.HTML object>"
      ]
     },
     "metadata": {},
     "output_type": "display_data"
    },
    {
     "data": {
      "text/html": [
       "<pre style=\"margin: 0.1em;\n",
       "padding-left: 0.25em;\n",
       "border-left-style: solid;\n",
       "font-family: var(--jp-code-font-family);\n",
       "font-size: var(--jp-code-font-size);\n",
       "line-height: var(--jp-code-line-height);\n",
       "\"><span style=\"color: var(--jp-warn-color2)\">ATPneumatics</span> <span style=\"color: var(--jp-info-color0)\">INFO</span>: Disabling authlist-based command authorization</pre>"
      ],
      "text/plain": [
       "<IPython.core.display.HTML object>"
      ]
     },
     "metadata": {},
     "output_type": "display_data"
    },
    {
     "data": {
      "text/html": [
       "<pre style=\"margin: 0.1em;\n",
       "padding-left: 0.25em;\n",
       "border-left-style: solid;\n",
       "font-family: var(--jp-code-font-family);\n",
       "font-size: var(--jp-code-font-size);\n",
       "line-height: var(--jp-code-line-height);\n",
       "\"><span style=\"color: var(--jp-warn-color2)\">ATHexapod</span> <span style=\"color: var(--jp-info-color0)\">INFO</span>: Disabling authlist-based command authorization</pre>"
      ],
      "text/plain": [
       "<IPython.core.display.HTML object>"
      ]
     },
     "metadata": {},
     "output_type": "display_data"
    },
    {
     "data": {
      "text/html": [
       "<pre style=\"margin: 0.1em;\n",
       "padding-left: 0.25em;\n",
       "border-left-style: solid;\n",
       "font-family: var(--jp-code-font-family);\n",
       "font-size: var(--jp-code-font-size);\n",
       "line-height: var(--jp-code-line-height);\n",
       "\"><span style=\"color: var(--jp-warn-color2)\">ATDome</span> <span style=\"color: var(--jp-info-color0)\">INFO</span>: Disabling authlist-based command authorization</pre>"
      ],
      "text/plain": [
       "<IPython.core.display.HTML object>"
      ]
     },
     "metadata": {},
     "output_type": "display_data"
    },
    {
     "data": {
      "text/html": [
       "<pre style=\"margin: 0.1em;\n",
       "padding-left: 0.25em;\n",
       "border-left-style: solid;\n",
       "font-family: var(--jp-code-font-family);\n",
       "font-size: var(--jp-code-font-size);\n",
       "line-height: var(--jp-code-line-height);\n",
       "\"><span style=\"color: var(--jp-warn-color2)\">ATDomeTrajectory</span> <span style=\"color: var(--jp-info-color0)\">INFO</span>: Disabling authlist-based command authorization</pre>"
      ],
      "text/plain": [
       "<IPython.core.display.HTML object>"
      ]
     },
     "metadata": {},
     "output_type": "display_data"
    },
    {
     "data": {
      "text/html": [
       "<pre style=\"margin: 0.1em;\n",
       "padding-left: 0.25em;\n",
       "border-left-style: solid;\n",
       "font-family: var(--jp-code-font-family);\n",
       "font-size: var(--jp-code-font-size);\n",
       "line-height: var(--jp-code-line-height);\n",
       "\"><span style=\"color: var(--jp-warn-color2)\">ATCamera</span> <span style=\"color: var(--jp-info-color0)\">INFO</span>: Disabling authlist-based command authorization</pre>"
      ],
      "text/plain": [
       "<IPython.core.display.HTML object>"
      ]
     },
     "metadata": {},
     "output_type": "display_data"
    },
    {
     "data": {
      "text/html": [
       "<pre style=\"margin: 0.1em;\n",
       "padding-left: 0.25em;\n",
       "border-left-style: solid;\n",
       "font-family: var(--jp-code-font-family);\n",
       "font-size: var(--jp-code-font-size);\n",
       "line-height: var(--jp-code-line-height);\n",
       "\"><span style=\"color: var(--jp-warn-color2)\">ATSpectrograph</span> <span style=\"color: var(--jp-info-color0)\">INFO</span>: Disabling authlist-based command authorization</pre>"
      ],
      "text/plain": [
       "<IPython.core.display.HTML object>"
      ]
     },
     "metadata": {},
     "output_type": "display_data"
    },
    {
     "data": {
      "text/html": [
       "<pre style=\"margin: 0.1em;\n",
       "padding-left: 0.25em;\n",
       "border-left-style: solid;\n",
       "font-family: var(--jp-code-font-family);\n",
       "font-size: var(--jp-code-font-size);\n",
       "line-height: var(--jp-code-line-height);\n",
       "\"><span style=\"color: var(--jp-warn-color2)\">ATHeaderService</span> <span style=\"color: var(--jp-info-color0)\">INFO</span>: Disabling authlist-based command authorization</pre>"
      ],
      "text/plain": [
       "<IPython.core.display.HTML object>"
      ]
     },
     "metadata": {},
     "output_type": "display_data"
    },
    {
     "data": {
      "text/html": [
       "<pre style=\"margin: 0.1em;\n",
       "padding-left: 0.25em;\n",
       "border-left-style: solid;\n",
       "font-family: var(--jp-code-font-family);\n",
       "font-size: var(--jp-code-font-size);\n",
       "line-height: var(--jp-code-line-height);\n",
       "\"><span style=\"color: var(--jp-warn-color2)\">ATOODS</span> <span style=\"color: var(--jp-info-color0)\">INFO</span>: Disabling authlist-based command authorization</pre>"
      ],
      "text/plain": [
       "<IPython.core.display.HTML object>"
      ]
     },
     "metadata": {},
     "output_type": "display_data"
    },
    {
     "data": {
      "text/html": [
       "<pre style=\"margin: 0.1em;\n",
       "padding-left: 0.25em;\n",
       "border-left-style: solid;\n",
       "font-family: var(--jp-code-font-family);\n",
       "font-size: var(--jp-code-font-size);\n",
       "line-height: var(--jp-code-line-height);\n",
       "\"><span style=\"color: var(--jp-warn-color2)\">Script</span> <span style=\"color: var(--jp-info-color0)\">INFO</span>: latiss_cwfs_align initialized!</pre>"
      ],
      "text/plain": [
       "<IPython.core.display.HTML object>"
      ]
     },
     "metadata": {},
     "output_type": "display_data"
    },
    {
     "data": {
      "text/html": [
       "<pre style=\"margin: 0.1em;\n",
       "padding-left: 0.25em;\n",
       "border-left-style: solid;\n",
       "font-family: var(--jp-code-font-family);\n",
       "font-size: var(--jp-code-font-size);\n",
       "line-height: var(--jp-code-line-height);\n",
       "\"><span style=\"color: var(--jp-warn-color2)\">ATDomeTrajectory</span> <span style=\"color: var(--jp-info-color0)\">INFO</span>: Read historical data in 0.00 sec</pre>"
      ],
      "text/plain": [
       "<IPython.core.display.HTML object>"
      ]
     },
     "metadata": {},
     "output_type": "display_data"
    },
    {
     "data": {
      "text/html": [
       "<pre style=\"margin: 0.1em;\n",
       "padding-left: 0.25em;\n",
       "border-left-style: solid;\n",
       "font-family: var(--jp-code-font-family);\n",
       "font-size: var(--jp-code-font-size);\n",
       "line-height: var(--jp-code-line-height);\n",
       "\"><span style=\"color: var(--jp-warn-color2)\">ATHexapod</span> <span style=\"color: var(--jp-info-color0)\">INFO</span>: Read historical data in 0.01 sec</pre>"
      ],
      "text/plain": [
       "<IPython.core.display.HTML object>"
      ]
     },
     "metadata": {},
     "output_type": "display_data"
    },
    {
     "data": {
      "text/html": [
       "<pre style=\"margin: 0.1em;\n",
       "padding-left: 0.25em;\n",
       "border-left-style: solid;\n",
       "font-family: var(--jp-code-font-family);\n",
       "font-size: var(--jp-code-font-size);\n",
       "line-height: var(--jp-code-line-height);\n",
       "\"><span style=\"color: var(--jp-warn-color2)\">ATPneumatics</span> <span style=\"color: var(--jp-info-color0)\">INFO</span>: Read historical data in 0.02 sec</pre>"
      ],
      "text/plain": [
       "<IPython.core.display.HTML object>"
      ]
     },
     "metadata": {},
     "output_type": "display_data"
    },
    {
     "data": {
      "text/html": [
       "<pre style=\"margin: 0.1em;\n",
       "padding-left: 0.25em;\n",
       "border-left-style: solid;\n",
       "font-family: var(--jp-code-font-family);\n",
       "font-size: var(--jp-code-font-size);\n",
       "line-height: var(--jp-code-line-height);\n",
       "\"><span style=\"color: var(--jp-warn-color2)\">ATHeaderService</span> <span style=\"color: var(--jp-info-color0)\">INFO</span>: Read historical data in 0.02 sec</pre>"
      ],
      "text/plain": [
       "<IPython.core.display.HTML object>"
      ]
     },
     "metadata": {},
     "output_type": "display_data"
    },
    {
     "data": {
      "text/html": [
       "<pre style=\"margin: 0.1em;\n",
       "padding-left: 0.25em;\n",
       "border-left-style: solid;\n",
       "font-family: var(--jp-code-font-family);\n",
       "font-size: var(--jp-code-font-size);\n",
       "line-height: var(--jp-code-line-height);\n",
       "\"><span style=\"color: var(--jp-warn-color2)\">ATOODS</span> <span style=\"color: var(--jp-info-color0)\">INFO</span>: Read historical data in 0.03 sec</pre>"
      ],
      "text/plain": [
       "<IPython.core.display.HTML object>"
      ]
     },
     "metadata": {},
     "output_type": "display_data"
    },
    {
     "data": {
      "text/html": [
       "<pre style=\"margin: 0.1em;\n",
       "padding-left: 0.25em;\n",
       "border-left-style: solid;\n",
       "font-family: var(--jp-code-font-family);\n",
       "font-size: var(--jp-code-font-size);\n",
       "line-height: var(--jp-code-line-height);\n",
       "\"><span style=\"color: var(--jp-warn-color2)\">ATAOS</span> <span style=\"color: var(--jp-info-color0)\">INFO</span>: Read historical data in 0.03 sec</pre>"
      ],
      "text/plain": [
       "<IPython.core.display.HTML object>"
      ]
     },
     "metadata": {},
     "output_type": "display_data"
    },
    {
     "data": {
      "text/html": [
       "<pre style=\"margin: 0.1em;\n",
       "padding-left: 0.25em;\n",
       "border-left-style: solid;\n",
       "font-family: var(--jp-code-font-family);\n",
       "font-size: var(--jp-code-font-size);\n",
       "line-height: var(--jp-code-line-height);\n",
       "\"><span style=\"color: var(--jp-warn-color2)\">ATDome</span> <span style=\"color: var(--jp-info-color0)\">INFO</span>: Read historical data in 0.04 sec</pre>"
      ],
      "text/plain": [
       "<IPython.core.display.HTML object>"
      ]
     },
     "metadata": {},
     "output_type": "display_data"
    },
    {
     "data": {
      "text/html": [
       "<pre style=\"margin: 0.1em;\n",
       "padding-left: 0.25em;\n",
       "border-left-style: solid;\n",
       "font-family: var(--jp-code-font-family);\n",
       "font-size: var(--jp-code-font-size);\n",
       "line-height: var(--jp-code-line-height);\n",
       "\"><span style=\"color: var(--jp-warn-color2)\">ATMCS</span> <span style=\"color: var(--jp-info-color0)\">INFO</span>: Read historical data in 0.05 sec</pre>"
      ],
      "text/plain": [
       "<IPython.core.display.HTML object>"
      ]
     },
     "metadata": {},
     "output_type": "display_data"
    },
    {
     "data": {
      "text/html": [
       "<pre style=\"margin: 0.1em;\n",
       "padding-left: 0.25em;\n",
       "border-left-style: solid;\n",
       "font-family: var(--jp-code-font-family);\n",
       "font-size: var(--jp-code-font-size);\n",
       "line-height: var(--jp-code-line-height);\n",
       "\"><span style=\"color: var(--jp-warn-color2)\">ATPtg</span> <span style=\"color: var(--jp-info-color0)\">INFO</span>: Read historical data in 0.06 sec</pre>"
      ],
      "text/plain": [
       "<IPython.core.display.HTML object>"
      ]
     },
     "metadata": {},
     "output_type": "display_data"
    },
    {
     "data": {
      "text/html": [
       "<pre style=\"margin: 0.1em;\n",
       "padding-left: 0.25em;\n",
       "border-left-style: solid;\n",
       "font-family: var(--jp-code-font-family);\n",
       "font-size: var(--jp-code-font-size);\n",
       "line-height: var(--jp-code-line-height);\n",
       "\"><span style=\"color: var(--jp-warn-color2)\">ATSpectrograph</span> <span style=\"color: var(--jp-info-color0)\">INFO</span>: Read historical data in 0.06 sec</pre>"
      ],
      "text/plain": [
       "<IPython.core.display.HTML object>"
      ]
     },
     "metadata": {},
     "output_type": "display_data"
    },
    {
     "data": {
      "text/html": [
       "<pre style=\"margin: 0.1em;\n",
       "padding-left: 0.25em;\n",
       "border-left-style: solid;\n",
       "font-family: var(--jp-code-font-family);\n",
       "font-size: var(--jp-code-font-size);\n",
       "line-height: var(--jp-code-line-height);\n",
       "\"><span style=\"color: var(--jp-warn-color2)\">ATCamera</span> <span style=\"color: var(--jp-info-color0)\">INFO</span>: Read historical data in 0.07 sec</pre>"
      ],
      "text/plain": [
       "<IPython.core.display.HTML object>"
      ]
     },
     "metadata": {},
     "output_type": "display_data"
    },
    {
     "data": {
      "text/html": [
       "<pre style=\"margin: 0.1em;\n",
       "padding-left: 0.25em;\n",
       "border-left-style: solid;\n",
       "font-family: var(--jp-code-font-family);\n",
       "font-size: var(--jp-code-font-size);\n",
       "line-height: var(--jp-code-line-height);\n",
       "\"><span style=\"color: var(--jp-warn-color2)\">Script</span> <span style=\"color: var(--jp-info-color0)\">INFO</span>: Read historical data in 0.00 sec</pre>"
      ],
      "text/plain": [
       "<IPython.core.display.HTML object>"
      ]
     },
     "metadata": {},
     "output_type": "display_data"
    }
   ],
   "source": [
    "script = LatissCWFSAlign(index=index, remotes=True)  # this essentially calls the init method\n",
    "await script.start_task"
   ]
  },
  {
   "cell_type": "markdown",
   "id": "3662037a-d691-4edd-ada4-8bd7471e3689",
   "metadata": {},
   "source": [
    "### Forward ATCS and LATISS"
   ]
  },
  {
   "cell_type": "code",
   "execution_count": 5,
   "id": "534388d8-9ae8-4cab-8c32-4c281a8585f8",
   "metadata": {
    "execution": {
     "iopub.execute_input": "2023-02-09T02:21:03.089504Z",
     "iopub.status.busy": "2023-02-09T02:21:03.089011Z",
     "iopub.status.idle": "2023-02-09T02:21:03.092311Z",
     "shell.execute_reply": "2023-02-09T02:21:03.091657Z",
     "shell.execute_reply.started": "2023-02-09T02:21:03.089489Z"
    }
   },
   "outputs": [],
   "source": [
    "atcs = script.atcs\n",
    "latiss = script.latiss"
   ]
  },
  {
   "cell_type": "markdown",
   "id": "56300b5f-cc8d-4663-b364-b086b505e702",
   "metadata": {},
   "source": [
    "### Set up script log level"
   ]
  },
  {
   "cell_type": "code",
   "execution_count": 6,
   "id": "02f80095-4a07-45fa-9cff-3c960a6da132",
   "metadata": {
    "execution": {
     "iopub.execute_input": "2023-02-09T02:21:05.856676Z",
     "iopub.status.busy": "2023-02-09T02:21:05.856163Z",
     "iopub.status.idle": "2023-02-09T02:21:05.860419Z",
     "shell.execute_reply": "2023-02-09T02:21:05.859859Z",
     "shell.execute_reply.started": "2023-02-09T02:21:05.856642Z"
    }
   },
   "outputs": [],
   "source": [
    "script.log.level = logging.DEBUG"
   ]
  },
  {
   "cell_type": "markdown",
   "id": "386b390b-f364-411b-8542-f8a1e5b9fbc2",
   "metadata": {
    "tags": []
   },
   "source": [
    "### Write start info into EFD"
   ]
  },
  {
   "cell_type": "code",
   "execution_count": null,
   "id": "2ef26e83-3ca0-4175-8bc9-c257204094d2",
   "metadata": {},
   "outputs": [],
   "source": [
    "script.log.info(f'START -- SITCOM-627 Astigmatism test -- at {Time.now()}')"
   ]
  },
  {
   "cell_type": "markdown",
   "id": "ce5f9e64-1356-4e06-bb42-cd9009c60048",
   "metadata": {},
   "source": [
    "----\n",
    "## Target and filter"
   ]
  },
  {
   "cell_type": "markdown",
   "id": "fb7e290e-3060-4d6a-8a4b-02e8b665a9ce",
   "metadata": {
    "tags": []
   },
   "source": [
    "### Declare target: Choose target - Star field needs to be low to medium density. \n",
    "ATCS will query SIMBAD for a `maglim_target` 8.0 maximum magnitude target around `az_target` 182 and `el_target` 65 with a `radius_target` of 2 degrees\n",
    "\n",
    "Modify cell below to choose different target coordinates. "
   ]
  },
  {
   "cell_type": "code",
   "execution_count": null,
   "id": "043bf102-e58a-403b-a2f8-070ba8f366f7",
   "metadata": {},
   "outputs": [],
   "source": [
    "az_target = 182\n",
    "el_target = 65\n",
    "maglim_target = 8.0\n",
    "radius_target = 2"
   ]
  },
  {
   "cell_type": "code",
   "execution_count": null,
   "id": "f3bbe041-d6bd-4b75-9169-d3c9eb12abc6",
   "metadata": {
    "tags": []
   },
   "outputs": [],
   "source": [
    "target = await script.atcs.find_target(az=az_target, el=el_target, mag_limit=maglim_target, radius = radius_target)\n",
    "logger.info(f'Target with magnitude limit {maglim_target} is {target}')"
   ]
  },
  {
   "cell_type": "markdown",
   "id": "a30da414-ddec-40c0-9817-fd09324b21c6",
   "metadata": {},
   "source": [
    "### Declare filter - Set up with reddest band in filter wheel (to get best image quality) and no disperser"
   ]
  },
  {
   "cell_type": "code",
   "execution_count": 7,
   "id": "d65568de-4aae-415f-a54e-6b7385ffc021",
   "metadata": {
    "execution": {
     "iopub.execute_input": "2023-02-09T02:21:10.552663Z",
     "iopub.status.busy": "2023-02-09T02:21:10.552155Z",
     "iopub.status.idle": "2023-02-09T02:21:10.558821Z",
     "shell.execute_reply": "2023-02-09T02:21:10.558062Z",
     "shell.execute_reply.started": "2023-02-09T02:21:10.552630Z"
    }
   },
   "outputs": [
    {
     "data": {
      "text/html": [
       "<pre style=\"margin: 0.1em;\n",
       "padding-left: 0.25em;\n",
       "border-left-style: solid;\n",
       "font-family: var(--jp-code-font-family);\n",
       "font-size: var(--jp-code-font-size);\n",
       "line-height: var(--jp-code-line-height);\n",
       "\"><span style=\"color: var(--jp-warn-color2)\">SITCOM-627</span> <span style=\"color: var(--jp-info-color0)\">INFO</span>: Available filters are: [&#x27;empty_1&#x27;, &#x27;BG40_65mm_1&#x27;, &#x27;SDSSr_65mm&#x27;, &#x27;OG550_65mm_1&#x27;],\n",
       " Gratings are: [&#x27;empty_1&#x27;, &#x27;ronchi90lpmm&#x27;, &#x27;ronchi170lpmm&#x27;, &#x27;holo4_003&#x27;]</pre>"
      ],
      "text/plain": [
       "<IPython.core.display.HTML object>"
      ]
     },
     "metadata": {},
     "output_type": "display_data"
    }
   ],
   "source": [
    "inst_setup = await script.latiss.get_available_instrument_setup()\n",
    "logger.info(f'Available filters are: {inst_setup[0]},\\n Gratings are: {inst_setup[1]}')"
   ]
  },
  {
   "cell_type": "code",
   "execution_count": null,
   "id": "38de6631-fde8-4caf-817e-d680427370fd",
   "metadata": {},
   "outputs": [],
   "source": [
    "filter_to_use = 'OG550_65mm_1'"
   ]
  },
  {
   "cell_type": "markdown",
   "id": "57334a12-4c82-470a-82ef-d1857d40f331",
   "metadata": {},
   "source": [
    "------\n",
    "## Slew to target"
   ]
  },
  {
   "cell_type": "code",
   "execution_count": null,
   "id": "834a8435-6f5d-459c-a419-befb24767f53",
   "metadata": {
    "tags": []
   },
   "outputs": [],
   "source": [
    "await script.atcs.slew_object(target, rot_type=RotType.PhysicalSky)"
   ]
  },
  {
   "cell_type": "markdown",
   "id": "d191afff-de53-46ab-9010-daabd6a265be",
   "metadata": {},
   "source": [
    "### ATAOS corrections"
   ]
  },
  {
   "cell_type": "markdown",
   "id": "723669c7-27bc-4b99-bbd8-35f60eb82ef2",
   "metadata": {},
   "source": [
    "ATAOS corrections must be enabled for this test. In the cell below, ATAOS corrections will be enabled, in case they were not. "
   ]
  },
  {
   "cell_type": "code",
   "execution_count": null,
   "id": "3e28286e-7f01-4c63-bc16-18402d0a68fc",
   "metadata": {
    "tags": []
   },
   "outputs": [],
   "source": [
    "corrections_enabled = await script.atcs.rem.ataos.evt_correctionEnabled.aget()\n",
    "if not (corrections_enabled.m1 and corrections_enabled.hexapod and corrections_enabled.atspectrograph):\n",
    "    cmd = await script.atcs.rem.ataos.cmd_enableCorrection.set_start(m1=True, hexapod=True, atspectrograph=True)\n",
    "    logger.info(f'ATAOS corrections enabled: {cmd.result}')\n",
    "else:\n",
    "    logger.info(f'ATAOS corrections already enabled')"
   ]
  },
  {
   "cell_type": "markdown",
   "id": "6b91fd74-17bc-4aaa-8404-66f7bd7399c0",
   "metadata": {},
   "source": [
    "-------\n",
    "## Check star field and signal levels. Declare exposure time"
   ]
  },
  {
   "cell_type": "markdown",
   "id": "e78ff051-1c07-4557-98ba-d89fdf3ca703",
   "metadata": {},
   "source": [
    "Take an image to check the star field. It should have a low to medium density of stars with a range of magnitudes will be important. \n",
    "To change the field, re-run this notebook from section 1.3 with different coordinates. "
   ]
  },
  {
   "cell_type": "code",
   "execution_count": null,
   "id": "f3731c8a-7a71-43e5-bb25-44a307c56937",
   "metadata": {
    "tags": []
   },
   "outputs": [],
   "source": [
    "acq_exposure = await latiss.take_acq(\n",
    "        exptime=30, n=1, filter=filter_to_use, grating='empty_1', reason='Acquisition', program=\"SITCOM-627\")\n",
    "logger.info(f'Acquisition exposure is {acq_exposure}')"
   ]
  },
  {
   "cell_type": "markdown",
   "id": "8fb7d675-b59e-4cab-adfd-4ab94bb690ee",
   "metadata": {},
   "source": [
    "To offset the telescope and center the source (if required) uncomment the following line. <br>\n",
    "Offsets are in detector X/Y coordinates and in arcseconds. "
   ]
  },
  {
   "cell_type": "code",
   "execution_count": null,
   "id": "78d5edf0-c3b1-45f6-8111-b43370235844",
   "metadata": {},
   "outputs": [],
   "source": [
    "# await script.atcs.offset_xy(x=20, y=20)"
   ]
  },
  {
   "cell_type": "markdown",
   "id": "57e8c236-ab61-4e1c-b881-8dca621d02ea",
   "metadata": {},
   "source": [
    "### Declare exposure time"
   ]
  },
  {
   "cell_type": "markdown",
   "id": "5a71ed10-16fb-4285-807c-97e559a1f57e",
   "metadata": {},
   "source": [
    "Once happy with the chosen star field, declare the exposure time for the data acquisition loop. It should be 30 seconds. "
   ]
  },
  {
   "cell_type": "code",
   "execution_count": null,
   "id": "cd032568-e8d4-4145-9a3c-c7d915ab8bf7",
   "metadata": {
    "tags": []
   },
   "outputs": [],
   "source": [
    "exp_time = 30"
   ]
  },
  {
   "cell_type": "markdown",
   "id": "dac88c51-0384-4f35-aaee-ab41ee22def9",
   "metadata": {},
   "source": [
    "------\n",
    "## CWFS\n",
    "A CWFS is recommended just before the test to ensure the system is in focus. The same target will be used to perform the CWFS.  "
   ]
  },
  {
   "cell_type": "markdown",
   "id": "87807e50-5710-45e9-b4a1-da4ca450fe54",
   "metadata": {},
   "source": [
    "### Set up configuration"
   ]
  },
  {
   "cell_type": "code",
   "execution_count": null,
   "id": "b1a776d9-6c66-42f6-a9f2-5fef17290c51",
   "metadata": {},
   "outputs": [],
   "source": [
    "configuration = yaml.safe_dump({\"filter\": filter_to_use, \n",
    "                                \"grating\": 'empty_1',\n",
    "                                \"exposure_time\": 20,\n",
    "                                \"program\" : \"SITCOM-627\"})"
   ]
  },
  {
   "cell_type": "markdown",
   "id": "6fe7c085-e02c-4b17-9891-7fb2e21908ee",
   "metadata": {},
   "source": [
    "The next line is not required the first time the script is run, however, in each additional instance the cell is run, an error will be thrown if it is not included.  \n",
    "Therefore, it is included here despite being a non-operation in the first instance.  "
   ]
  },
  {
   "cell_type": "code",
   "execution_count": null,
   "id": "182f8a1c-f681-4462-b392-7ec008d3200b",
   "metadata": {},
   "outputs": [],
   "source": [
    "await script.set_state(ScriptState.UNCONFIGURED)"
   ]
  },
  {
   "cell_type": "markdown",
   "id": "f994dd6d-bdd1-4004-b65f-edd426d88e0e",
   "metadata": {},
   "source": [
    "### Put the ScriptState to CONFIGURED"
   ]
  },
  {
   "cell_type": "code",
   "execution_count": null,
   "id": "0a79ad4b-13c1-4a5c-b023-75b040b87a21",
   "metadata": {
    "tags": []
   },
   "outputs": [],
   "source": [
    "config_data = script.cmd_configure.DataType()\n",
    "config_data.config = configuration\n",
    "await script.do_configure(config_data)"
   ]
  },
  {
   "cell_type": "markdown",
   "id": "6cc86eb6-b295-4d0b-9890-02d476598b70",
   "metadata": {},
   "source": [
    "Set these script parameters to None to verify a re-reduction does not happen of the images."
   ]
  },
  {
   "cell_type": "code",
   "execution_count": null,
   "id": "35f5434a-17c5-47d4-8fb2-b499692d9266",
   "metadata": {},
   "outputs": [],
   "source": [
    "script.intra_visit_id = None\n",
    "script.extra_visit_id = None\n",
    "script.short_timeout = 10"
   ]
  },
  {
   "cell_type": "markdown",
   "id": "571bb441-c40a-4251-8c46-46ad15e63d06",
   "metadata": {
    "tags": []
   },
   "source": [
    "### Set groupID and launch the script\n",
    "This sets the same group ID for all exposures taken in the script."
   ]
  },
  {
   "cell_type": "code",
   "execution_count": null,
   "id": "08d6eb38-23a7-4968-926c-1d57707ba4a0",
   "metadata": {
    "tags": []
   },
   "outputs": [],
   "source": [
    "group_id_data = script.cmd_setGroupId.DataType(\n",
    "    groupId=astropy.time.Time.now().isot)\n",
    "\n",
    "await script.do_setGroupId(group_id_data)\n",
    "await script.arun()"
   ]
  },
  {
   "cell_type": "markdown",
   "id": "66b33b8d-9b73-4b15-af05-8103675f947f",
   "metadata": {
    "tags": []
   },
   "source": [
    "----\n",
    "## Data Acquisition Sequence: \n",
    "Sweep through focus by moving M2 in steps of 0.02 mm from -0.1 mm to +0.1 mm "
   ]
  },
  {
   "cell_type": "markdown",
   "id": "3fd588c7-5c74-412b-95dc-38699dc2f5f2",
   "metadata": {
    "tags": []
   },
   "source": [
    "###  Define sweep \n",
    "Acquire data in steps of `z_offset_step` in the range of `z_offset_start` to `z_offset_end` relative to the current focus position."
   ]
  },
  {
   "cell_type": "code",
   "execution_count": 8,
   "id": "2f0c1302-5864-4360-9dc6-0e7281bf556b",
   "metadata": {
    "execution": {
     "iopub.execute_input": "2023-02-09T02:27:21.125476Z",
     "iopub.status.busy": "2023-02-09T02:27:21.124851Z",
     "iopub.status.idle": "2023-02-09T02:27:21.133457Z",
     "shell.execute_reply": "2023-02-09T02:27:21.132659Z",
     "shell.execute_reply.started": "2023-02-09T02:27:21.125442Z"
    },
    "tags": []
   },
   "outputs": [
    {
     "data": {
      "text/html": [
       "<pre style=\"margin: 0.1em;\n",
       "padding-left: 0.25em;\n",
       "border-left-style: solid;\n",
       "font-family: var(--jp-code-font-family);\n",
       "font-size: var(--jp-code-font-size);\n",
       "line-height: var(--jp-code-line-height);\n",
       "\"><span style=\"color: var(--jp-warn-color2)\">SITCOM-627</span> <span style=\"color: var(--jp-info-color0)\">INFO</span>: The hexapod will be moved the following z offset steps \n",
       " [-1.00000000e-01 -7.50000000e-02 -5.00000000e-02 -2.50000000e-02\n",
       " -2.77555756e-17  2.50000000e-02  5.00000000e-02  7.50000000e-02\n",
       "  1.00000000e-01] [mm]. \n",
       " To modify the sweep size or range, change the parameters above and run this cell again</pre>"
      ],
      "text/plain": [
       "<IPython.core.display.HTML object>"
      ]
     },
     "metadata": {},
     "output_type": "display_data"
    }
   ],
   "source": [
    "z_offset_start = -0.1 # mm\n",
    "z_offset_step = 0.025 # mm\n",
    "z_offset_end = -z_offset_start\n",
    "\n",
    "steps = np.arange(z_offset_start, z_offset_end + 0.01, z_offset_step)\n",
    "\n",
    "logger.info(f'The hexapod will be moved the following z offset steps \\n {steps} [mm]. \\n To modify the sweep size or range, change the parameters above and run this cell again')"
   ]
  },
  {
   "cell_type": "markdown",
   "id": "e45966d6-a1e9-409e-be24-08aa2d8752c9",
   "metadata": {},
   "source": [
    "### Original focus offset"
   ]
  },
  {
   "cell_type": "code",
   "execution_count": 9,
   "id": "e9f4ef7a-23fe-4816-a82d-77188c7ffc14",
   "metadata": {
    "execution": {
     "iopub.execute_input": "2023-02-09T02:27:35.313420Z",
     "iopub.status.busy": "2023-02-09T02:27:35.312813Z",
     "iopub.status.idle": "2023-02-09T02:27:35.320228Z",
     "shell.execute_reply": "2023-02-09T02:27:35.319350Z",
     "shell.execute_reply.started": "2023-02-09T02:27:35.313387Z"
    }
   },
   "outputs": [
    {
     "data": {
      "text/html": [
       "<pre style=\"margin: 0.1em;\n",
       "padding-left: 0.25em;\n",
       "border-left-style: solid;\n",
       "font-family: var(--jp-code-font-family);\n",
       "font-size: var(--jp-code-font-size);\n",
       "line-height: var(--jp-code-line-height);\n",
       "\"><span style=\"color: var(--jp-warn-color2)\">Script</span> <span style=\"color: var(--jp-info-color0)\">INFO</span>: Original focus offset is private_revCode: f61cd046, private_sndStamp: 1675896854.987074, private_rcvStamp: 1675909299.1093643, private_seqNum: 4, private_identity: ATAOS, private_origin: 1490194, total: 0.0, userApplied: 0.0, filter: 0.0, disperser: 0.0, wavelength: 0.0</pre>"
      ],
      "text/plain": [
       "<IPython.core.display.HTML object>"
      ]
     },
     "metadata": {},
     "output_type": "display_data"
    }
   ],
   "source": [
    "original_focus_offset = await script.atcs.rem.ataos.evt_focusOffsetSummary.aget()\n",
    "script.log.info(f'Original focus offset is {original_focus_offset}')"
   ]
  },
  {
   "cell_type": "markdown",
   "id": "112818be-fce7-4df9-b69d-d762fcd6e5a6",
   "metadata": {
    "tags": []
   },
   "source": [
    "### Data Acquisition Loop\n",
    "This loop will take n_images=2 with the chosen `filter_to_use` and no disperser in each of the defined hexapod position. "
   ]
  },
  {
   "cell_type": "markdown",
   "id": "349d0a9f-4542-4d9e-9594-611b14d1b5a9",
   "metadata": {},
   "source": [
    "#### Filter and no grating"
   ]
  },
  {
   "cell_type": "code",
   "execution_count": null,
   "id": "36e7ca6d-d6d8-4e0d-bc19-427b458ce20a",
   "metadata": {
    "tags": []
   },
   "outputs": [],
   "source": [
    "data = []\n",
    "\n",
    "await atcs.rem.ataos.cmd_offset.set_start(z=z_offset_start)\n",
    "    \n",
    "await asyncio.sleep(2)\n",
    "for step in steps:\n",
    "        \n",
    "    exposure = await latiss.take_engtest(\n",
    "        exptime=exp_time, n=2, filter=filter_to_use, grating='empty_1', reason='Focus_sweep', program=\"SITCOM-627\")\n",
    "    data.append(exposure)\n",
    "    script.log.info(f'Total z offset = {step:.3f} mm -- Image expId = {exposure}')\n",
    "    \n",
    "    logger.info(f'Current focus offset is \\n {await script.atcs.rem.ataos.evt_focusOffsetSummary.aget()}')\n",
    "    \n",
    "    await atcs.rem.ataos.cmd_offset.set_start(z=z_offset_step)\n",
    "\n",
    "# Move back to the original focus offset position\n",
    "await atcs.rem.ataos.cmd_offset.set_start(z= -(z_offset_end + z_offset_step))\n",
    "logger.info(f'Back to the original focus offset position \\n {await script.atcs.rem.ataos.evt_focusOffsetSummary.aget()}')"
   ]
  },
  {
   "cell_type": "code",
   "execution_count": null,
   "id": "71457520-e4ac-41bc-b977-8c749da2f0ce",
   "metadata": {
    "tags": []
   },
   "outputs": [],
   "source": [
    "logger.info(f'Images with filter {filter_to_use} are {data}')"
   ]
  },
  {
   "cell_type": "markdown",
   "id": "a58f8393-46b2-48c1-b60e-8595ffb567b5",
   "metadata": {},
   "source": [
    "##### Check that hexapod is back to the original focus"
   ]
  },
  {
   "cell_type": "code",
   "execution_count": null,
   "id": "1faaa113-3e7f-4338-a63b-2759aa069a2b",
   "metadata": {},
   "outputs": [],
   "source": [
    "current_focus_offset = await script.atcs.rem.ataos.evt_focusOffsetSummary.aget()\n",
    "script.log.info(f'Current focus offset is {current_focus_offset}'"
   ]
  },
  {
   "cell_type": "code",
   "execution_count": null,
   "id": "0387b119-33a4-4ac5-8333-05aefd129ce0",
   "metadata": {},
   "outputs": [],
   "source": [
    "diff = current_focus_offset.userApplied - original_focus_offset.userApplied\n",
    "print(f'Difference between current and original user Applied focus is {diff:0.2f} mm')"
   ]
  },
  {
   "cell_type": "markdown",
   "id": "a8f7c4ff-5d77-49db-a2be-b262800fc7e1",
   "metadata": {},
   "source": [
    "#### No blocking filter and holo disperser on"
   ]
  },
  {
   "cell_type": "markdown",
   "id": "5db1a4a6-7b2f-4286-bbc6-f5d1f6c41344",
   "metadata": {},
   "source": [
    "Now, run the same focus sweep with no blocking filter and the holo disperser on. "
   ]
  },
  {
   "cell_type": "code",
   "execution_count": null,
   "id": "11eb90c4-9c6b-48d6-88e8-432bdb93e4ec",
   "metadata": {
    "tags": []
   },
   "outputs": [],
   "source": [
    "data_holo = []\n",
    "\n",
    "await atcs.rem.ataos.cmd_offset.set_start(z=z_offset_start)\n",
    "    \n",
    "await asyncio.sleep(2)\n",
    "for step in steps:\n",
    "        \n",
    "    exposure = await latiss.take_engtest(\n",
    "        exptime=exp_time, n=2, filter='empty_1', grating='holo4_003', reason='Focus_sweep', program=\"SITCOM-627\")\n",
    "    data_holo.append(exposure)\n",
    "    script.log.info(f'Total z offset = {step:.3f} mm -- Image expId = {exposure}')\n",
    "    \n",
    "    logger.info(f'Current focus offset is \\n {await script.atcs.rem.ataos.evt_focusOffsetSummary.aget()}')\n",
    "    \n",
    "    await atcs.rem.ataos.cmd_offset.set_start(z=z_offset_step)\n",
    "\n",
    "# Move back to the original focus offset position\n",
    "await atcs.rem.ataos.cmd_offset.set_start(z= -(z_offset_end + z_offset_step))\n",
    "logger.info(f'Back to the original focus offset position \\n {await script.atcs.rem.ataos.evt_focusOffsetSummary.aget()}')"
   ]
  },
  {
   "cell_type": "code",
   "execution_count": null,
   "id": "5f6e4e5f-bc5a-4e31-9f5a-8575417f5fb6",
   "metadata": {
    "tags": []
   },
   "outputs": [],
   "source": [
    "logger.info(f'Images with no blocking filter and the holo grating are {data_holo}')"
   ]
  },
  {
   "cell_type": "markdown",
   "id": "49c7ae04-6d91-4df7-954f-23164303383a",
   "metadata": {},
   "source": [
    "##### Check that hexapod is back to the original focus"
   ]
  },
  {
   "cell_type": "code",
   "execution_count": null,
   "id": "58373565-5467-45c4-8704-e806cd547b58",
   "metadata": {},
   "outputs": [],
   "source": [
    "current_focus_offset = await script.atcs.rem.ataos.evt_focusOffsetSummary.aget()\n",
    "script.log.info(f'Current focus offset is {current_focus_offset}'"
   ]
  },
  {
   "cell_type": "code",
   "execution_count": null,
   "id": "98862323-36e3-4779-aef5-9403560c6995",
   "metadata": {},
   "outputs": [],
   "source": [
    "diff = current_focus_offset.userApplied - original_focus_offset.userApplied\n",
    "print(f'Difference between current and original user Applied focus is {diff:0.2f} mm')"
   ]
  },
  {
   "cell_type": "markdown",
   "id": "4c4f02c8-d0d6-47fa-8fe8-eb9843162e62",
   "metadata": {},
   "source": [
    "### Stop tracking"
   ]
  },
  {
   "cell_type": "code",
   "execution_count": null,
   "id": "92129a68-4ae7-48cc-ab19-1e1fa334d351",
   "metadata": {},
   "outputs": [],
   "source": [
    "await atcs.stop_tracking()"
   ]
  },
  {
   "cell_type": "markdown",
   "id": "476403ae-b02a-4891-894a-4aa5c7afd73a",
   "metadata": {},
   "source": [
    "### Write end info into EFD"
   ]
  },
  {
   "cell_type": "code",
   "execution_count": null,
   "id": "2f6d9f5f-0fa1-4993-8925-e0de3d270770",
   "metadata": {},
   "outputs": [],
   "source": [
    "script.log.info(f'END -- SITCOM-627 Astigmatism test -- at {Time.now()}')"
   ]
  }
 ],
 "metadata": {
  "kernelspec": {
   "display_name": "LSST",
   "language": "python",
   "name": "lsst"
  },
  "language_info": {
   "codemirror_mode": {
    "name": "ipython",
    "version": 3
   },
   "file_extension": ".py",
   "mimetype": "text/x-python",
   "name": "python",
   "nbconvert_exporter": "python",
   "pygments_lexer": "ipython3",
   "version": "3.10.8"
  },
  "toc-autonumbering": true,
  "toc-showmarkdowntxt": false
 },
 "nbformat": 4,
 "nbformat_minor": 5
}
