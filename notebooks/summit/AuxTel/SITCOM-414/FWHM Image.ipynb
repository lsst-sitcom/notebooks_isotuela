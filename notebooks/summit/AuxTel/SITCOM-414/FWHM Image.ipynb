{
 "cells": [
  {
   "cell_type": "raw",
   "id": "bab3794a",
   "metadata": {},
   "source": [
    "# Analysis of IQ - Aaron Goodman's plots\n"
   ]
  },
  {
   "cell_type": "code",
   "execution_count": 1,
   "id": "a67de883",
   "metadata": {},
   "outputs": [
    {
     "data": {
      "text/html": [
       "<pre style=\"margin: 0.1em;\n",
       "padding-left: 0.25em;\n",
       "border-left-style: solid;\n",
       "font-family: var(--jp-code-font-family);\n",
       "font-size: var(--jp-code-font-size);\n",
       "line-height: var(--jp-code-line-height);\n",
       "\"><span style=\"color: var(--jp-warn-color2)\">lsst.ts.utils.tai</span> <span style=\"color: var(--jp-info-color0)\">INFO</span>: Update leap second table</pre>"
      ],
      "text/plain": [
       "<IPython.core.display.HTML object>"
      ]
     },
     "metadata": {},
     "output_type": "display_data"
    },
    {
     "data": {
      "text/html": [
       "<pre style=\"margin: 0.1em;\n",
       "padding-left: 0.25em;\n",
       "border-left-style: solid;\n",
       "font-family: var(--jp-code-font-family);\n",
       "font-size: var(--jp-code-font-size);\n",
       "line-height: var(--jp-code-line-height);\n",
       "\"><span style=\"color: var(--jp-warn-color2)\">lsst.ts.utils.tai</span> <span style=\"color: var(--jp-info-color0)\">INFO</span>: current_tai uses the system TAI clock</pre>"
      ],
      "text/plain": [
       "<IPython.core.display.HTML object>"
      ]
     },
     "metadata": {},
     "output_type": "display_data"
    }
   ],
   "source": [
    "from astropy.time import Time, TimeDelta\n",
    "from datetime import datetime\n",
    "import pandas as pd\n",
    "import numpy as np\n",
    "from astropy import units as u\n",
    "from matplotlib import pyplot as plt\n",
    "\n",
    "import lsst.daf.butler as dafButler\n",
    "\n",
    "from lsst.summit.utils import BestEffortIsr, makeDefaultLatissButler\n",
    "from lsst.pipe.tasks.quickFrameMeasurement import QuickFrameMeasurementTask\n",
    "from lsst.pipe.tasks.characterizeImage import CharacterizeImageTask\n",
    "from lsst.meas.algorithms.installGaussianPsf import InstallGaussianPsfConfig\n",
    "from lsst.pex.exceptions import InvalidParameterError\n",
    "from lsst.ts.observatory.control.constants import latiss_constants\n",
    "from lsst.geom import PointD\n",
    "# below is an unused import, but is required to use the `psfex` fitter\n",
    "import lsst.meas.extensions.psfex.psfexPsfDeterminer # noqa: F401\n",
    "\n",
    "from lsst_efd_client import EfdClient\n",
    "\n",
    "%matplotlib inline"
   ]
  },
  {
   "cell_type": "code",
   "execution_count": 2,
   "id": "b731d003-412b-4120-9987-be146a580839",
   "metadata": {},
   "outputs": [
    {
     "data": {
      "text/html": [
       "<pre style=\"margin: 0.1em;\n",
       "padding-left: 0.25em;\n",
       "border-left-style: solid;\n",
       "font-family: var(--jp-code-font-family);\n",
       "font-size: var(--jp-code-font-size);\n",
       "line-height: var(--jp-code-line-height);\n",
       "\"><span style=\"color: var(--jp-warn-color2)\">lsst.summit.utils.bestEffort</span> <span style=\"color: var(--jp-info-color0)\">INFO</span>: Instantiating butler with collections=[&#x27;LATISS/raw/all&#x27;, &#x27;LATISS/calib&#x27;, &#x27;LATISS/runs/quickLook&#x27;, &#x27;LATISS_test_data&#x27;, &#x27;LATISS_test_data&#x27;]</pre>"
      ],
      "text/plain": [
       "<IPython.core.display.HTML object>"
      ]
     },
     "metadata": {},
     "output_type": "display_data"
    }
   ],
   "source": [
    "REPO_DIR = '/repo/LATISS'\n",
    "\n",
    "#butler = dafButler.Butler(REPO_DIR, instrument='LATISS', collections = 'LATISS/raw/all')\n",
    "butler = makeDefaultLatissButler()\n",
    "# Instantiate bestEffort \n",
    "best_effort_isr = BestEffortIsr()"
   ]
  },
  {
   "cell_type": "markdown",
   "id": "ee306ad3-0119-4805-a0f2-8dcc4aef90ba",
   "metadata": {},
   "source": [
    "### Declare QuickFrameMeasurement tasks\n",
    "These are run if the measurePsf method fails. It provides a reasonable yet less-accurate representation."
   ]
  },
  {
   "cell_type": "code",
   "execution_count": 3,
   "id": "fbb411c8-1122-4e6b-a81f-619ea18b03cc",
   "metadata": {},
   "outputs": [],
   "source": [
    "qm_config = QuickFrameMeasurementTask.ConfigClass()\n",
    "qm = QuickFrameMeasurementTask(config=qm_config)"
   ]
  },
  {
   "cell_type": "markdown",
   "id": "fb27517c-f73d-4296-becc-c9c3505ead8f",
   "metadata": {},
   "source": [
    "Test image"
   ]
  },
  {
   "cell_type": "code",
   "execution_count": 6,
   "id": "3b040ecf-febf-439e-a1a2-224b7c1b65da",
   "metadata": {},
   "outputs": [],
   "source": [
    "registry = butler.registry"
   ]
  },
  {
   "cell_type": "code",
   "execution_count": null,
   "id": "1f478d6a-e584-4435-84fa-c5e879d1f357",
   "metadata": {},
   "outputs": [],
   "source": [
    "dataset_refs"
   ]
  },
  {
   "cell_type": "markdown",
   "id": "bb0760c9-e3b4-42ed-8b34-6221444c833d",
   "metadata": {},
   "source": [
    "Define "
   ]
  },
  {
   "cell_type": "code",
   "execution_count": 4,
   "id": "7f1051c9-fda0-4144-b7c6-cd147f52c85a",
   "metadata": {},
   "outputs": [],
   "source": [
    "client = EfdClient('summit_efd')"
   ]
  },
  {
   "cell_type": "code",
   "execution_count": 6,
   "id": "799162b3-3d88-4452-a594-014e38dafabc",
   "metadata": {},
   "outputs": [],
   "source": [
    "dataId = {'detector': 0, 'day_obs': 20220929, 'seq_num': 126}"
   ]
  },
  {
   "cell_type": "code",
   "execution_count": 7,
   "id": "00ab611a-6721-43ea-9a9d-0e143d36aaf3",
   "metadata": {},
   "outputs": [
    {
     "data": {
      "text/html": [
       "<pre style=\"margin: 0.1em;\n",
       "padding-left: 0.25em;\n",
       "border-left-style: solid;\n",
       "font-family: var(--jp-code-font-family);\n",
       "font-size: var(--jp-code-font-size);\n",
       "line-height: var(--jp-code-line-height);\n",
       "\"><span style=\"color: var(--jp-warn-color2)\">lsst.summit.utils.bestEffort</span> <span style=\"color: var(--jp-info-color0)\">INFO</span>: Found a ready-made quickLookExp in the repo. Returning that.</pre>"
      ],
      "text/plain": [
       "<IPython.core.display.HTML object>"
      ]
     },
     "metadata": {},
     "output_type": "display_data"
    }
   ],
   "source": [
    "best_effort_isr.doWrite = False  # Don't write to butler database\n",
    "exp = best_effort_isr.getExposure(dataId, skipCosmics=False)"
   ]
  },
  {
   "cell_type": "code",
   "execution_count": 8,
   "id": "21bc6444",
   "metadata": {
    "tags": []
   },
   "outputs": [],
   "source": [
    "def measurePsf(exp):\n",
    "    platescale = latiss_constants.pixel_scale\n",
    "\n",
    "    imCharConfig = CharacterizeImageTask.ConfigClass()\n",
    "    imCharConfig.doMeasurePsf = True\n",
    "    imCharConfig.useSimplePsf = True\n",
    "    \n",
    "    imCharConfig.doApCorr = False\n",
    "    imCharConfig.doDeblend = False\n",
    "    \n",
    "    installConfig = InstallGaussianPsfConfig()\n",
    "    exp.setPsf(None)  # if not set to none, fwhm max para is ignored\n",
    "    installConfig.fwhm = 15\n",
    "    installConfig.width = 61\n",
    "    \n",
    "    imCharConfig.installSimplePsf = installConfig    \n",
    "    \n",
    "    imCharConfig.detection.includeThresholdMultiplier = 5\n",
    "    imCharConfig.measurePsf.starSelector['objectSize'].doFluxLimit = True\n",
    "    imCharConfig.measurePsf.starSelector['objectSize'].fluxMin = 12500.0\n",
    "    imCharConfig.measurePsf.starSelector['objectSize'].fluxMax = 0.0\n",
    "    imCharConfig.measurePsf.starSelector['objectSize'].doSignalToNoiseLimit = False\n",
    "    imCharConfig.measurePsf.starSelector['objectSize'].signalToNoiseMin = 20.0\n",
    "    imCharConfig.measurePsf.starSelector['objectSize'].signalToNoiseMax = 0.0\n",
    "    imCharConfig.measurePsf.starSelector['objectSize'].widthMin = 0.0\n",
    "    imCharConfig.measurePsf.starSelector['objectSize'].widthMax = 80.0  # default 10\n",
    "    imCharConfig.measurePsf.starSelector['objectSize'].sourceFluxField = \"base_GaussianFlux_instFlux\"\n",
    "    imCharConfig.measurePsf.starSelector['objectSize'].widthStdAllowed = 0.15 # 0.15 default\n",
    "    imCharConfig.measurePsf.starSelector['objectSize'].nSigmaClip = 2.0\n",
    "    \n",
    "    imCharConfig.measurePsf.psfDeterminer.name = 'psfex'\n",
    "    imCharConfig.measurePsf.psfDeterminer['psfex'].spatialOrder = 1\n",
    "    imCharConfig.psfIterations=1\n",
    "    \n",
    "    imCharConfig.background.binSize = 2000\n",
    "    imCharConfig.background.approxOrderX = 2\n",
    "\n",
    "    imCharConfig.detection.background = imCharConfig.background\n",
    "    \n",
    "    imCharTask = CharacterizeImageTask(config=imCharConfig)\n",
    "\n",
    "    result = imCharTask.run(exp)\n",
    "\n",
    "    psf = exp.getPsf()\n",
    "    ixx = psf.computeShape(exp.getBBox().getCenter()).getIxx()\n",
    "    iyy = psf.computeShape(exp.getBBox().getCenter()).getIyy()\n",
    "    psfShape = psf.computeShape(exp.getBBox().getCenter()).getDeterminantRadius()\n",
    "    \n",
    "    fwhmX = np.sqrt(ixx)*2.355*platescale\n",
    "    fwhmY = np.sqrt(iyy)*2.355*platescale\n",
    "    \n",
    "    overallFwhm = psfShape * 2.355 * platescale\n",
    "    print(f\"Psf shape from imChar task (x,y) = ({fwhmX:.3f}, {fwhmY:.3f}) FWHM arcsec\")\n",
    "    return fwhmX, fwhmY, overallFwhm, psf"
   ]
  },
  {
   "cell_type": "code",
   "execution_count": 9,
   "id": "3b810841-8afe-40ed-90cf-87eb2e9dca08",
   "metadata": {},
   "outputs": [],
   "source": [
    "def get_FWHM(exp):\n",
    "    brightest_source_centroid = []\n",
    "    fwhmX=None; fwhmY=None; overallFwhm=None\n",
    "    result=None\n",
    "    psf=None\n",
    "    success=False\n",
    "    try:\n",
    "        fwhmX, fwhmY, overallFwhm, psf = measurePsf(exp)\n",
    "        success=True\n",
    "        pass\n",
    "    except InvalidParameterError as e:\n",
    "        print('Caught the InvalidParameterError, measurePsf was not successful')\n",
    "        #print(f'error is {e}')\n",
    "        pass\n",
    "    except RuntimeError as e:\n",
    "        print('Caught the RuntimeError, measurePsf was not successful')\n",
    "        #print(f'error is {e}')\n",
    "        pass\n",
    "\n",
    "    if not success:\n",
    "        print('Using Merlin\\'s simplified algorithm')\n",
    "        exp = best_effort_isr.getExposure(dataId, skipCosmics=False)\n",
    "        result = qm.run(exp)\n",
    "        brightest_source_centroid.append(result)\n",
    "        if result.success:\n",
    "            fwhmX=result.medianXxYy[0]\n",
    "            fwhmY=result.medianXxYy[1]\n",
    "            overallFwhm=np.sqrt(result.medianXxYy[0]**2 + result.medianXxYy[1]**2)\n",
    "            print(f\"Psf shape from QuickFrameMeasurementTask task (x,y) = ({fwhmX:.3f}, {fwhmY:.3f}) FWHM arcsec\")\n",
    "        else:\n",
    "            raise RuntimeError('No PSF could be derived using either method')\n",
    "            \n",
    "    return fwhmX, fwhmY, overallFwhm, corr_dimm_seeing"
   ]
  },
  {
   "cell_type": "code",
   "execution_count": 22,
   "id": "fecb437e-0809-4d19-8604-41c6e1526372",
   "metadata": {},
   "outputs": [],
   "source": [
    "def corr_dimm_seeing(exp):\n",
    "    filter_band=exp.getInfo().getFilterLabel().bandLabel \n",
    "    airmass=exp.getInfo().getMetadata().get('AMSTART')#+exp.getInfo().getMetadata().get('AMEND'))/2.0)\n",
    "    elevation=exp.getInfo().getMetadata().get('ELSTART')#+exp.getInfo().getMetadata().get('ELEND'))/2.0)\n",
    "    dimm_seeing=exp.getInfo().getMetadata().get('SEEING')\n",
    "    \n",
    "    airmass_corr_dimm_seing = dimm_seeing * (airmass ** -0.6)\n",
    "    \n",
    "    filter_wavelength= {'white': 700, 'g': 475, 'r': 623, 'i': 763, 'z': 828.0}\n",
    "    \n",
    "    corr_dimm_seeing = airmass_corr_dimm_seeing * ((500. / filter_wavelength[filter_band]) ** -0.2)\n"
   ]
  },
  {
   "cell_type": "code",
   "execution_count": null,
   "id": "32bc3f99-6990-4054-9d78-704442c2fdd9",
   "metadata": {},
   "outputs": [],
   "source": [
    "dimm_seeing = 1.8\n",
    "airmass = 1.3\n",
    "\n",
    "filter_wavelength= {'white': 700, 'g': 475, 'r': 623, 'i': 763, 'z': 828.0}\n",
    "filter_band='g'\n",
    "\n",
    "airmass_corr_dimm_seeing = dimm_seeing * (airmass ** 0.6)\n",
    "print(airmass_corr_dimm_seing)\n",
    "corr_dimm_seeing = airmass_corr_dimm_seeing * ((500. / filter_wavelength[filter_band]) ** -0.2)\n"
   ]
  },
  {
   "cell_type": "code",
   "execution_count": 23,
   "id": "ad5a3b5e-b6cd-40b8-8c2a-9db2f950c560",
   "metadata": {},
   "outputs": [
    {
     "name": "stderr",
     "output_type": "stream",
     "text": [
      "/tmp/ipykernel_20782/1950371799.py:2: FutureWarning: Call to deprecated method getFilterLabel. (Replaced by getFilter. Will be removed after v24.) -- Deprecated since version v24.0.\n",
      "  filter_band=exp.getInfo().getFilterLabel().bandLabel\n"
     ]
    },
    {
     "ename": "ZeroDivisionError",
     "evalue": "0.0 cannot be raised to a negative power",
     "output_type": "error",
     "traceback": [
      "\u001b[0;31m---------------------------------------------------------------------------\u001b[0m",
      "\u001b[0;31mZeroDivisionError\u001b[0m                         Traceback (most recent call last)",
      "Input \u001b[0;32mIn [23]\u001b[0m, in \u001b[0;36m<cell line: 1>\u001b[0;34m()\u001b[0m\n\u001b[0;32m----> 1\u001b[0m corr_dimm_seeing(exp)\n",
      "Input \u001b[0;32mIn [22]\u001b[0m, in \u001b[0;36mcorr_dimm_seeing\u001b[0;34m(exp)\u001b[0m\n\u001b[1;32m      4\u001b[0m elevation\u001b[38;5;241m=\u001b[39mexp\u001b[38;5;241m.\u001b[39mgetInfo()\u001b[38;5;241m.\u001b[39mgetMetadata()\u001b[38;5;241m.\u001b[39mget(\u001b[38;5;124m'\u001b[39m\u001b[38;5;124mELSTART\u001b[39m\u001b[38;5;124m'\u001b[39m)\u001b[38;5;66;03m#+exp.getInfo().getMetadata().get('ELEND'))/2.0)\u001b[39;00m\n\u001b[1;32m      5\u001b[0m dimm_seeing\u001b[38;5;241m=\u001b[39mexp\u001b[38;5;241m.\u001b[39mgetInfo()\u001b[38;5;241m.\u001b[39mgetMetadata()\u001b[38;5;241m.\u001b[39mget(\u001b[38;5;124m'\u001b[39m\u001b[38;5;124mSEEING\u001b[39m\u001b[38;5;124m'\u001b[39m)\n\u001b[0;32m----> 7\u001b[0m airmass_corr_dimm_seing \u001b[38;5;241m=\u001b[39m dimm_seeing \u001b[38;5;241m*\u001b[39m (\u001b[43mairmass\u001b[49m\u001b[43m \u001b[49m\u001b[38;5;241;43m*\u001b[39;49m\u001b[38;5;241;43m*\u001b[39;49m\u001b[43m \u001b[49m\u001b[38;5;241;43m-\u001b[39;49m\u001b[38;5;241;43m0.6\u001b[39;49m)\n\u001b[1;32m      9\u001b[0m filter_wavelength\u001b[38;5;241m=\u001b[39m {\u001b[38;5;124m'\u001b[39m\u001b[38;5;124mwhite\u001b[39m\u001b[38;5;124m'\u001b[39m: \u001b[38;5;241m700\u001b[39m, \u001b[38;5;124m'\u001b[39m\u001b[38;5;124mg\u001b[39m\u001b[38;5;124m'\u001b[39m: \u001b[38;5;241m475\u001b[39m, \u001b[38;5;124m'\u001b[39m\u001b[38;5;124mr\u001b[39m\u001b[38;5;124m'\u001b[39m: \u001b[38;5;241m623\u001b[39m, \u001b[38;5;124m'\u001b[39m\u001b[38;5;124mi\u001b[39m\u001b[38;5;124m'\u001b[39m: \u001b[38;5;241m763\u001b[39m, \u001b[38;5;124m'\u001b[39m\u001b[38;5;124mz\u001b[39m\u001b[38;5;124m'\u001b[39m: \u001b[38;5;241m828.0\u001b[39m}\n\u001b[1;32m     11\u001b[0m corr_dimm_seeing \u001b[38;5;241m=\u001b[39m airmass_corr_dimm_seeing \u001b[38;5;241m*\u001b[39m ((\u001b[38;5;241m500.\u001b[39m \u001b[38;5;241m/\u001b[39m filter_wavelength[filter_band]) \u001b[38;5;241m*\u001b[39m\u001b[38;5;241m*\u001b[39m \u001b[38;5;241m-\u001b[39m\u001b[38;5;241m0.2\u001b[39m)\n",
      "\u001b[0;31mZeroDivisionError\u001b[0m: 0.0 cannot be raised to a negative power"
     ]
    }
   ],
   "source": [
    "corr_dimm_seeing(exp)"
   ]
  },
  {
   "cell_type": "markdown",
   "id": "619b3bc8-7b49-4fa3-ba92-43dbe372bbbc",
   "metadata": {},
   "source": [
    "#### Derive Corrections for elevation (airmass) and wavelength"
   ]
  },
  {
   "cell_type": "markdown",
   "id": "e4d9eeb7-871e-4595-9982-f75d70fd3fce",
   "metadata": {},
   "source": [
    "Capture metadata for calculation and comparison"
   ]
  },
  {
   "cell_type": "code",
   "execution_count": null,
   "id": "d6530084-b875-41be-9c29-67f98be3a698",
   "metadata": {},
   "outputs": [],
   "source": [
    "filter_band=exp.getInfo().getFilterLabel().bandLabel \n",
    "airmass=((exp.getInfo().getMetadata().get('AMSTART')+exp.getInfo().getMetadata().get('AMEND'))/2.0)\n",
    "elevation=((exp.getInfo().getMetadata().get('ELSTART')+exp.getInfo().getMetadata().get('ELEND'))/2.0)\n",
    "dimm_seeing=exp.getInfo().getMetadata().get('SEEING')"
   ]
  },
  {
   "cell_type": "code",
   "execution_count": null,
   "id": "b9a32cc4-44d3-4672-ab6a-9678195ada49",
   "metadata": {},
   "outputs": [],
   "source": [
    "print(f\"Target at elevation = {elevation:0.1f}, airmass = {airmass:0.3f}\")\n",
    "print(f\"PSF FWHM (x,y) = ({fwhmX:.3f}, {fwhmY:.3f}) FWHM [arcsec]\")\n",
    "print(f\"Overall PSF FWHM is = {overallFwhm:.3f} FWHM [arcsec]\")"
   ]
  },
  {
   "cell_type": "markdown",
   "id": "3db988e4-d839-4bff-b13d-df126a2ff188",
   "metadata": {},
   "source": [
    "Calculate airmass corrected FWHM"
   ]
  },
  {
   "cell_type": "code",
   "execution_count": null,
   "id": "2e7faf20-7069-4ffa-8dea-d50c3fba9437",
   "metadata": {},
   "outputs": [],
   "source": [
    "airmass_corr_fwhm = overallFwhm * (airmass ** -0.6)"
   ]
  },
  {
   "cell_type": "markdown",
   "id": "009ec4cc-f79e-432b-bcf3-5e1f57f68e25",
   "metadata": {},
   "source": [
    "Filter wavelengths are not currently in the fits headers.\n",
    "Must use an ugly dictionary until this is implemented."
   ]
  },
  {
   "cell_type": "code",
   "execution_count": null,
   "id": "4a82a3c7-3b30-4183-976b-a75e8be3136f",
   "metadata": {},
   "outputs": [],
   "source": [
    "filter_wavelength= {'white': 700, 'g': 475, 'r': 623, 'i': 763, 'z': 828.0}"
   ]
  },
  {
   "cell_type": "markdown",
   "id": "22b49619-2f31-49df-83f9-06dc4f091a9e",
   "metadata": {},
   "source": [
    "#### Derive airmass+wavelength corrected FWHM"
   ]
  },
  {
   "cell_type": "code",
   "execution_count": null,
   "id": "96b21eb8-6532-41ef-8af8-cc26c2d0a744",
   "metadata": {},
   "outputs": [],
   "source": [
    "corr_fwhm = airmass_corr_fwhm * ((500. / filter_wavelength[filter_band]) ** -0.2)\n",
    "print(f'Airmass and wavelength corrected FWHM: {corr_fwhm:0.3f} [arcsec]')\n",
    "print(f'DIMM reported FWHM: {dimm_seeing:0.3f} [arcsec]')"
   ]
  },
  {
   "cell_type": "markdown",
   "id": "251d8b76-7c87-4fe0-98ea-c379db5b8fc1",
   "metadata": {},
   "source": [
    "*** Define here the sequences and the observation day dayObs"
   ]
  },
  {
   "cell_type": "code",
   "execution_count": null,
   "id": "41aed792-2a62-43f9-9149-6ea0e0e302e8",
   "metadata": {
    "tags": []
   },
   "outputs": [],
   "source": [
    "dayObs = '2021-10-05'\n",
    "expList = range(456, 507+1)\n",
    "print(expList)"
   ]
  },
  {
   "cell_type": "markdown",
   "id": "93944302",
   "metadata": {},
   "source": [
    "Loop through the data [456 - 507+1]"
   ]
  },
  {
   "cell_type": "code",
   "execution_count": null,
   "id": "e3f20e24",
   "metadata": {
    "tags": []
   },
   "outputs": [],
   "source": [
    "#Initialize the lists\n",
    "exposiciones, comienzo, fin, azimuth, elevation, masaAire, filtros, tiempoExposicion, seeing, fwhm, fwhmX, fwhmY = [], [], [], [], [], [], [], [], [], [], [], []\n",
    "\n",
    "for exposure in expList:\n",
    "    print(f'The sequence is', exposure)\n",
    "    \n",
    "    expId = int(str(dayObs[0:4])+str(dayObs[5:7])+str(dayObs[8:10])+'00'+str(exposure))\n",
    "    \n",
    "    exposiciones.append(expId)\n",
    "    \n",
    "    data_id = {'instrument': 'LATISS', 'exposure': expId , 'detector':0}\n",
    "\n",
    "    postIsr = bestEffort.getExposure(data_id)   \n",
    "\n",
    "    mData = postIsr.getMetadata()        \n",
    "    \n",
    "    comienzo.append(mData['DATE-BEG'])\n",
    "    fin.append(mData['DATE-END'])\n",
    "    \n",
    "    azimuth.append(mData['AZSTART'])\n",
    "    elevation.append(mData['ELSTART'])\n",
    "    \n",
    "    masaAire.append(mData['AMSTART'])\n",
    "    seeing.append(mData['SEEING'])\n",
    "    \n",
    "    filtros.append(mData['FILTER'])\n",
    "    tiempoExposicion.append(mData['EXPTIME'])\n",
    "    \n",
    "    # Compute PSF/FWHM\n",
    "    try:\n",
    "        fwhm_in_x, fwhm_in_y, overallFwhm = measurePsf(postIsr)        \n",
    "        fwhm.append(overallFwhm)\n",
    "        fwhmX.append(fwhm_in_x)\n",
    "        fwmhY.append(fwhm_in_y)\n",
    "        \n",
    "    except:\n",
    "        print('No hay datos suficientes para obtener PSF')\n",
    "        fwhm.append('PSF computation not possible')\n",
    "print(fwhm)   \n",
    "    "
   ]
  },
  {
   "cell_type": "code",
   "execution_count": null,
   "id": "99b2622b",
   "metadata": {},
   "outputs": [],
   "source": [
    "# Build Panda Frame and save it to a file\n",
    "#import pickle\n",
    "exposure_frame = pd.DataFrame(list(zip(exposiciones, comienzo, fin, azimuth, elevation, masaAire, filtros, tiempoExposicion, seeing, fwhm, fwmhX, fwmhY)),columns =['expId', 'timeStart', 'timeEnd', 'AzStart', 'ElStart', 'Airmass', 'Filter', 'ExpTime', 'Seeing', 'FWHMImage', 'FWMH_X', 'FWHM_Y'])       \n",
    "exposure_frame.to_pickle('upanddown_felh0600_ellipticity.txt')"
   ]
  },
  {
   "cell_type": "markdown",
   "id": "33177bfc",
   "metadata": {},
   "source": [
    "***\n",
    "Read Panda Frame "
   ]
  },
  {
   "cell_type": "code",
   "execution_count": null,
   "id": "3ca28583",
   "metadata": {
    "tags": []
   },
   "outputs": [],
   "source": [
    "exposure_frame = pd.read_pickle('upanddown_felh0600_ellipticity.txt')\n",
    "exposure_frame\n",
    "#plt.plot(exposure_frame.Airmass, exposure_fram)"
   ]
  },
  {
   "cell_type": "code",
   "execution_count": null,
   "id": "ff35be18",
   "metadata": {},
   "outputs": [],
   "source": [
    "the_ones_with_PSF = exposure_frame.loc[exposure_frame['FWHMImage'] != 'PSF computation not possible']\n",
    "the_ones_with_PSF"
   ]
  },
  {
   "cell_type": "markdown",
   "id": "8e56b6a8",
   "metadata": {},
   "source": [
    "Now we plot: "
   ]
  },
  {
   "cell_type": "code",
   "execution_count": null,
   "id": "b1132156",
   "metadata": {},
   "outputs": [],
   "source": [
    "#the_ones_with_PSF.plot.scatter(x ='Airmass', y='FWHMImage')\n",
    "plt.plot(the_ones_with_PSF.Airmass, the_ones_with_PSF.FWHMImage, linestyle = '', marker = 'o')\n",
    "plt.plot(the_ones_with_PSF.Airmass, the_ones_with_PSF.Seeing, linestyle = '', marker = '*')\n",
    "\n",
    "plt.legend(['FWHM Image', 'DIMM Seeing'])\n",
    "plt.xlabel('Airmass')\n",
    "plt.ylabel('FWHM (arcsec)')\n",
    "plt.title('FWHM (arcsec) vs Airmass', fontsize = 14)\n",
    "plt.show()\n",
    "plt.savefig('FWHM_Image and DIMM Seeing vs Airmass')\n",
    "\n",
    "# DIMM seeing is to 1.0 airmass. Correct DIMM Seeing to the observed airmass. \n",
    "plt.plot(the_ones_with_PSF.Airmass, the_ones_with_PSF.FWHMImage, linestyle = '', marker = 'o')\n",
    "plt.plot(the_ones_with_PSF.Airmass, the_ones_with_PSF.Seeing*the_ones_with_PSF.Airmass**0.6, linestyle = '', marker = '*')\n",
    "plt.legend(['FWHM Image', 'DIMM Airmass-corrected Seeing'])\n",
    "plt.xlabel('Airmass')\n",
    "plt.ylabel('FWHM (arcsec)')\n",
    "plt.title('FWHM (arcsec) vs Airmass', fontsize = 14)\n",
    "plt.show()\n",
    "plt.savefig('FWHM_Image and Airmass-Corrected DIMM Seeing vs Airmass')\n"
   ]
  },
  {
   "cell_type": "code",
   "execution_count": null,
   "id": "d4b67cc0-031b-4b5f-b95a-a7aa3cc1e0c9",
   "metadata": {},
   "outputs": [],
   "source": [
    "# DIMM seeing is to 1.0 airmass. Correct DIMM Seeing to the observed airmass. \n",
    "%matplotlib inline\n",
    "plt.plot(the_ones_with_PSF.Seeing*the_ones_with_PSF.Airmass**0.6, the_ones_with_PSF.FWHMImage, linestyle = '', marker = 'o')\n",
    "plt.xlabel('DIMM Airmass-corrected Seeing')\n",
    "plt.ylabel('FWHM Image (arcsec)')\n",
    "plt.title('Image FWHM (arcsec) vs DIMM Airmass-corrected Seeing', fontsize = 14)\n",
    "plt.show()\n",
    "plt.savefig('FWHM_Image vs DIMM Airmass-Corrected Seeing')\n"
   ]
  },
  {
   "cell_type": "code",
   "execution_count": null,
   "id": "f586af3b",
   "metadata": {},
   "outputs": [],
   "source": [
    "# El FWHM de la imagen frente al azimuth\n",
    "plt.plot(exposure_frame.Airmass, linestyle = '', marker = '*')\n",
    "#plt.plot(elevation, fwhm_dimm, linestyle = '', marker = 'o')\n",
    "plt.xlabel('Azimuth (deg)')\n",
    "plt.ylabel('FWHM Image (arcsec)')\n",
    "plt.title('20210817 \\n Computed image FWHM vs. Azimuth (deg)', fontsize = 14)\n",
    "#print(fwhm_dimm)\n",
    "plt.show()"
   ]
  },
  {
   "cell_type": "code",
   "execution_count": null,
   "id": "6e9ccd63",
   "metadata": {
    "tags": []
   },
   "outputs": [],
   "source": [
    "import matplotlib.dates as mdates\n",
    "\n",
    "# Versus time\n",
    "fig, ax = plt.subplots(num=\"FWHM Image & FWHM measured by DIMM\", dpi=120)\n",
    "\n",
    "# Plot Data\n",
    "#if exposure_frame.FWHM_image.item != 'PSF computation not possible':\n",
    "plt.plot(the_ones_with_PSF.timeStart, the_ones_with_PSF.Airmass)\n",
    "plt.plot(the_ones_with_PSF.timeStart, the_ones_with_PSF.FWHMImage)\n",
    "plt.plot(the_ones_with_PSF.timeStart, the_ones_with_PSF.Seeing)\n",
    "plt.plot(the_ones_with_PSF.timeStart, the_ones_with_PSF.Seeing*the_ones_with_PSF.Airmass**0.6)\n",
    "\n",
    "plt.legend(['Airmass', 'FWHMImage', 'Seeing', 'Airmass-Corrected Seeing'])\n",
    "plt.xticks(range(1,50,5),rotation=45)\n",
    "plt.show()\n",
    "#ax.plot(exposure_frame.timeStart,exposure_frame.FWHM_image)\n",
    "\n",
    "\n",
    "# Display title and sub-title\n",
    "#ax.set_title(f\"Weather Station\\nWind Speed on {df.index[0]:%Y-%m-%d}\")\n",
    "\n",
    "# Setting grid\n",
    "ax.grid(lw='0.5', alpha=0.2, ls='-')\n",
    "\n",
    "# Rotates and right aligns the x labels, and moves the bottom of the\n",
    "# axes up to make room for them.\n",
    "#fig.autofmt_xdate()\n",
    "\n",
    "# Display Plot\n"
   ]
  },
  {
   "cell_type": "code",
   "execution_count": null,
   "id": "923d456d",
   "metadata": {},
   "outputs": [],
   "source": [
    "#  FWHM frente a elevacion\n",
    "plt.plot(the_ones_with_PSF.ElStart, the_ones_with_PSF.FWHMImage, linestyle = '', marker = '*')\n",
    "plt.plot(the_ones_with_PSF.ElStart, the_ones_with_PSF.Seeing*the_ones_with_PSF.Airmass**0.6, linestyle = '', marker = 'o')\n",
    "plt.legend(['FWHM Image', 'DIMM Airmass-corrected Seeing'])\n",
    "plt.xlabel('Elevation (deg)')\n",
    "plt.ylabel('FWHM Image (arcsec)')\n",
    "plt.title('Computed image FWHM and seeing vs. Elevation (deg)', fontsize = 14)\n",
    "#plt.show()"
   ]
  },
  {
   "cell_type": "code",
   "execution_count": null,
   "id": "bda46036",
   "metadata": {},
   "outputs": [],
   "source": [
    "# Both FWHM vs time \n",
    "plt.plot(comienzo, fwhm_image, linestyle = '--', marker = '*')\n",
    "plt.plot(comienzo, fwhm_dimm, linestyle = '--', marker = 'o')\n",
    "plt.legend(['FWHM Image', 'DIMM Airmass-corrected Seeing'])\n",
    "plt.xticks(range(1,len(comienzo),10),rotation=45)\n",
    "plt.xlabel('Time')\n",
    "plt.ylabel('FWHM (arcsec)')\n",
    "plt.title('20210817 \\n Image and DIMM FWHM vs. Time', fontsize = 14)\n"
   ]
  },
  {
   "cell_type": "markdown",
   "id": "23647113",
   "metadata": {},
   "source": [
    "Now, let's try to find more DIMM data expanding the interval +-15 s"
   ]
  },
  {
   "cell_type": "code",
   "execution_count": null,
   "id": "6cafced7",
   "metadata": {},
   "outputs": [],
   "source": [
    "from lsst_efd_client import EfdClient\n",
    "\n",
    "exposiciones2 = []\n",
    "comienzo2 = []\n",
    "fin2 = []\n",
    "azimuth2 = []\n",
    "elevation2 = []\n",
    "fwhm_dimm2 = []\n",
    "fwhm_image2 = []\n",
    "\n",
    "for i, exposure in enumerate(exposure_15s): \n",
    "    print(f'15 second exposure is', i,exposure)\n",
    "    expId = exposure[0]\n",
    "    print(expId)\n",
    "    exposiciones2.append(expId)\n",
    "\n",
    "    mData = butler.get('raw', dataId={'detector':0, 'expId':expId}).getMetadata()\n",
    "    \n",
    "    tStart = mData['DATE-BEG']\n",
    "    tEnd = mData['DATE-END']\n",
    "    \n",
    "    comienzo2.append(mData['DATE-BEG'])\n",
    "    fin2.append(mData['DATE-END'])\n",
    "    \n",
    "    azimuth2.append(mData['AZSTART'])\n",
    "    elevation2.append(mData['ELSTART'])\n",
    "    \n",
    "    \n",
    "#     #get dimm data\n",
    "    client = EfdClient('summit_efd')\n",
    "    t_start = Time(tStart, scale='tai')\n",
    "    t_start2 = t_start - TimeDelta(25, format='sec')\n",
    "    print(t_start2)\n",
    "    t_end = Time(tEnd, scale='tai')\n",
    "    t_end2 = t_end + TimeDelta(25, format='sec')\n",
    "    print(t_end2)\n",
    "    try:\n",
    "        dimm = await client.select_time_series(\"lsst.sal.DIMM.logevent_dimmMeasurement\", ['*'], t_start2, t_end2)\n",
    "        fwhmDi = dimm.fwhm.tolist()[0]\n",
    "        fwhm_dimm2.append(fwhmDi)  \n",
    "        print(fwhmDi)\n",
    "    except:\n",
    "        print(f'No hay valores del DIMM')\n",
    "        fwhm_dimm2.append(0)\n",
    "\n",
    "\n",
    "\n",
    "# #     #Measure PSF and FWHM from image - continue the for loop\n",
    "#     # First ISR task\n",
    "    raw = butler.get('raw', expId=expId)\n",
    "    bias = butler.get('bias', expId=expId)\n",
    "    defects = butler.get('defects', expId=expId)\n",
    "    postIsr = isrTask.run(raw, bias=bias, defects=defects).exposure\n",
    "    plt.figure(figsize=(5,5))\n",
    "    data = postIsr.image.array\n",
    "    plt.imshow(data, vmin=np.percentile(data, 2),vmax=np.percentile(data, 98))\n",
    "    plt.show()\n",
    "    \n",
    "# #   # Characterize image task and compute PSF/FWHM\n",
    "    imCharTask = CharacterizeImageTask()\n",
    "    try:\n",
    "        imCharTask.run(postIsr)\n",
    "        psf = postIsr.getPsf()\n",
    "        shape = psf.computeShape()\n",
    "        fwhmIm = shape.getDeterminantRadius()*2.355*0.097\n",
    "        fwhm_image2.append(fwhmIm)\n",
    "    except:\n",
    "        print('No hay datos suficientes para obtener PSF')\n",
    "        fwhm_image2.append(0)\n",
    "print(fwhm_image2)   "
   ]
  },
  {
   "cell_type": "code",
   "execution_count": null,
   "id": "16fbd2a4",
   "metadata": {},
   "outputs": [],
   "source": [
    "print(len(fwhm_dimm2))"
   ]
  },
  {
   "cell_type": "code",
   "execution_count": null,
   "id": "e1e04908",
   "metadata": {},
   "outputs": [],
   "source": [
    "# #print(fwhm_image2)\n",
    "# print(len(fwhm_image2))\n",
    "# fwhm_image3 = fwhm_image2\n",
    "# for value in range(0,len(fwhm_image3)):\n",
    "#     if fwhm_image3[value] == 0:\n",
    "#         del fwhm_image3[value]\n",
    "#         #print(fwhm_image3)\n",
    "# median_image3 = np.median(fwhm_image3)\n",
    "# print(len(fwhm_image2))\n",
    "# print(len(fwhm_image3))\n",
    "\n",
    "# print(len(fwhm_dimm2))\n",
    "# fwhm_dimm3 = fwhm_dimm2\n",
    "# for value in range(0,len(fwhm_dimm3)):\n",
    "#     if fwhm_dimm3[value] == 0:\n",
    "#         del fwhm_dimm3[value]\n",
    "#         #print(fwhm_dimm3)\n",
    "# median_dimm3 = np.median(fwhm_dimm3)\n",
    "# print(len(fwhm_image2))\n",
    "# print(len(fwhm_image3))\n",
    "\n",
    "# print(median_image3, median_dimm3)"
   ]
  },
  {
   "cell_type": "code",
   "execution_count": null,
   "id": "6903bb3a",
   "metadata": {},
   "outputs": [],
   "source": [
    "# Both FWHM vs time \n",
    "plt.plot(comienzo2, fwhm_image2, linestyle = '', marker = '*')\n",
    "plt.plot(comienzo2, fwhm_dimm2, linestyle = '', marker = 'o')\n",
    "plt.legend(['PSF FWHM', 'DIMM FWHM'])\n",
    "plt.xticks(range(1,len(comienzo),10),rotation=45)\n",
    "plt.xlabel('Time')\n",
    "plt.ylabel('FWHM (arcsec)')\n",
    "plt.title('20210817 \\n PSF & DIMM FWHM Image vs. Time', fontsize = 14)\n",
    "plt.show()\n",
    "\n",
    "\n",
    "#Plots (when extended search for DIMM measurements +-20 seconds around image exposure)\n",
    "# Plot the FWHM \n",
    "print(len(fwhm_image))\n",
    "print(len(fwhm_dimm))\n",
    "plt.plot(fwhm_dimm2, fwhm_image2, linestyle = '', marker = 'x')\n",
    "plt.xlabel('DIMM FWHM (arcsec)')\n",
    "plt.ylabel('PSF FWHM (arcsec)')\n",
    "plt.title('20210817 15-second exposures \\n PSF FWHM vs. DIMM FWHM', fontsize = 14)\n",
    "#print(fwhm_dimm)\n",
    "plt.show()\n",
    "\n",
    "# FWHM frente al azimuth\n",
    "plt.plot(azimuth2, fwhm_image2, linestyle = '', marker = '*')\n",
    "plt.plot(elevation2, fwhm_dimm2, linestyle = '', marker = 'o')\n",
    "plt.xlabel('Azimuth (deg)')\n",
    "plt.ylabel('FWHM (arcsec)')\n",
    "plt.legend(['PSF FWHM', 'DIMM FWHM'])\n",
    "plt.title('20210817 \\n PSF FWHM vs. Azimuth', fontsize = 14)\n",
    "plt.show()\n",
    "\n",
    "# FWHM  frente a elevacion\n",
    "plt.plot(elevation2, fwhm_image2, linestyle = '', marker = '*')\n",
    "plt.plot(elevation2, fwhm_dimm2, linestyle = '', marker = 'o')\n",
    "plt.xlabel('Elevation (deg)')\n",
    "plt.ylabel('FWHM (arcsec)')\n",
    "plt.legend(['PSF FWHM', 'DIMM FWHM'])\n",
    "plt.title('20210817 \\n PSF FWHM vs. Elevation', fontsize = 14)\n",
    "#print(fwhm_dimm)\n",
    "plt.show()\n",
    "\n",
    "plt.savefig('/home/isotuela/notebooks/Analysis_Notebooks/20210817_FWHM/' + 'fwhm')"
   ]
  },
  {
   "cell_type": "markdown",
   "id": "e982c316",
   "metadata": {},
   "source": [
    "Now with an interval of +- 25. Does it change that much? How often does the DIMM publish a new value? "
   ]
  },
  {
   "cell_type": "code",
   "execution_count": null,
   "id": "a34bf0e1",
   "metadata": {},
   "outputs": [],
   "source": [
    "exp = butler.get('raw', detector =0, expId= expId)"
   ]
  },
  {
   "cell_type": "code",
   "execution_count": null,
   "id": "62680d8e",
   "metadata": {},
   "outputs": [],
   "source": [
    "import numpy as np\n",
    "import matplotlib.pyplot as plt\n",
    "%matplotlib inline"
   ]
  },
  {
   "cell_type": "code",
   "execution_count": null,
   "id": "48eacb83",
   "metadata": {},
   "outputs": [],
   "source": [
    "plt.figure(figsize=(10,10))\n",
    "data = exp.image.array\n",
    "plt.imshow(data, vmin=np.percentile(data, 2),vmax=np.percentile(data, 98))"
   ]
  },
  {
   "cell_type": "code",
   "execution_count": null,
   "id": "09a9f1ae",
   "metadata": {},
   "outputs": [],
   "source": [
    "del(exp)"
   ]
  },
  {
   "cell_type": "code",
   "execution_count": null,
   "id": "725e544b",
   "metadata": {},
   "outputs": [],
   "source": [
    "from lsst.ip.isr.isrTask import IsrTask\n",
    "isrConfig = IsrTask.ConfigClass()\n",
    "isrConfig.doLinearize = False\n",
    "isrConfig.doBias = True\n",
    "isrConfig.doFlat = False\n",
    "isrConfig.doDark = False\n",
    "isrConfig.doFringe = False\n",
    "isrConfig.doDefect = False\n",
    "isrConfig.doWrite = False\n",
    "\n",
    "isrTask = IsrTask(config=isrConfig)"
   ]
  },
  {
   "cell_type": "code",
   "execution_count": null,
   "id": "f980768b",
   "metadata": {},
   "outputs": [],
   "source": [
    "raw = butler.get('raw', expId=expId)\n",
    "bias = butler.get('bias', expId=expId)\n",
    "defects = butler.get('defects', expId=expId)"
   ]
  },
  {
   "cell_type": "code",
   "execution_count": null,
   "id": "9ca3539e",
   "metadata": {},
   "outputs": [],
   "source": [
    "postIsr = isrTask.run(raw, bias=bias, defects=defects).exposure"
   ]
  },
  {
   "cell_type": "code",
   "execution_count": null,
   "id": "e16123f6",
   "metadata": {},
   "outputs": [],
   "source": [
    "plt.figure(figsize=(10,10))\n",
    "data = postIsr.image.array\n",
    "plt.imshow(data, vmin=np.percentile(data, 2),vmax=np.percentile(data, 98))"
   ]
  },
  {
   "cell_type": "code",
   "execution_count": null,
   "id": "f53efadf",
   "metadata": {},
   "outputs": [],
   "source": [
    "import lsst.afw.display as afwDisplay\n",
    "afwDisplay.setDefaultBackend('firefly')\n",
    "display1 = afwDisplay.Display(frame=1)"
   ]
  },
  {
   "cell_type": "code",
   "execution_count": null,
   "id": "b1327983",
   "metadata": {},
   "outputs": [],
   "source": [
    "display1.mtv(postIsr)"
   ]
  },
  {
   "cell_type": "code",
   "execution_count": null,
   "id": "15bbf154",
   "metadata": {},
   "outputs": [],
   "source": [
    "from lsst.rapid.analysis import ImageExaminer\n",
    "#from lsst.imageExaminer import ImageExaminer\n",
    "#exp.getMaskedImage().getArrays()"
   ]
  },
  {
   "cell_type": "code",
   "execution_count": null,
   "id": "b0cba19f",
   "metadata": {},
   "outputs": [],
   "source": [
    "imExam = ImageExaminer(postIsr)"
   ]
  },
  {
   "cell_type": "code",
   "execution_count": null,
   "id": "54baf187",
   "metadata": {},
   "outputs": [],
   "source": [
    "%matplotlib inline"
   ]
  },
  {
   "cell_type": "code",
   "execution_count": null,
   "id": "bcf69383",
   "metadata": {},
   "outputs": [],
   "source": [
    "imExam.plot()"
   ]
  },
  {
   "cell_type": "code",
   "execution_count": null,
   "id": "ccb9bfef",
   "metadata": {},
   "outputs": [],
   "source": [
    "imExam = ImageExaminer(postIsr[0:2000, 0:2000])\n",
    "imExam.plot()"
   ]
  },
  {
   "cell_type": "code",
   "execution_count": null,
   "id": "3fd7e0da",
   "metadata": {},
   "outputs": [],
   "source": [
    "postIsr.mask.getMaskPlaneDict()"
   ]
  },
  {
   "cell_type": "code",
   "execution_count": null,
   "id": "d60ca381",
   "metadata": {},
   "outputs": [],
   "source": [
    "postIsr.mask[2000,2000]"
   ]
  },
  {
   "cell_type": "code",
   "execution_count": null,
   "id": "93b464f8",
   "metadata": {},
   "outputs": [],
   "source": [
    "postIsr.mask.interpret(postIsr.mask[1848,2307])"
   ]
  },
  {
   "cell_type": "code",
   "execution_count": null,
   "id": "d81509ef",
   "metadata": {},
   "outputs": [],
   "source": [
    "md = postIsr.getMetadata()"
   ]
  },
  {
   "cell_type": "code",
   "execution_count": null,
   "id": "52488ae0",
   "metadata": {},
   "outputs": [],
   "source": [
    "md.toDict()"
   ]
  },
  {
   "cell_type": "code",
   "execution_count": null,
   "id": "2d8a541d",
   "metadata": {},
   "outputs": [],
   "source": [
    "info = postIsr.getInfo()"
   ]
  },
  {
   "cell_type": "code",
   "execution_count": null,
   "id": "e28d7d44",
   "metadata": {},
   "outputs": [],
   "source": [
    "from astro_metadata_translator import ObservationInfo"
   ]
  },
  {
   "cell_type": "code",
   "execution_count": null,
   "id": "e601851f",
   "metadata": {},
   "outputs": [],
   "source": [
    "obsInfo = ObservationInfo(postIsr.getMetadata())"
   ]
  },
  {
   "cell_type": "code",
   "execution_count": null,
   "id": "47216fb4",
   "metadata": {},
   "outputs": [],
   "source": [
    "obsInfo.boresight_airmass"
   ]
  },
  {
   "cell_type": "code",
   "execution_count": null,
   "id": "c9a47210",
   "metadata": {},
   "outputs": [],
   "source": [
    "from lsst.pipe.tasks.characterizeImage import CharacterizeImageTask"
   ]
  },
  {
   "cell_type": "code",
   "execution_count": null,
   "id": "6871fb4a",
   "metadata": {},
   "outputs": [],
   "source": [
    "imCharTask = CharacterizeImageTask()"
   ]
  },
  {
   "cell_type": "code",
   "execution_count": null,
   "id": "ee9ae37e",
   "metadata": {},
   "outputs": [],
   "source": [
    "imCharTask.run(postIsr)"
   ]
  },
  {
   "cell_type": "code",
   "execution_count": null,
   "id": "5617b5e7",
   "metadata": {},
   "outputs": [],
   "source": [
    "psf = postIsr.getPsf()"
   ]
  },
  {
   "cell_type": "code",
   "execution_count": null,
   "id": "2443e33a",
   "metadata": {},
   "outputs": [],
   "source": [
    "kernelImage = psf.computeKernelImage()"
   ]
  },
  {
   "cell_type": "code",
   "execution_count": null,
   "id": "9ece70dd",
   "metadata": {},
   "outputs": [],
   "source": [
    "plt.imshow(kernelImage.array)"
   ]
  },
  {
   "cell_type": "code",
   "execution_count": null,
   "id": "6951ec9c",
   "metadata": {},
   "outputs": [],
   "source": [
    "psf.computeShape()"
   ]
  },
  {
   "cell_type": "code",
   "execution_count": null,
   "id": "a122522d",
   "metadata": {},
   "outputs": [],
   "source": [
    "shape = psf.computeShape()"
   ]
  },
  {
   "cell_type": "code",
   "execution_count": null,
   "id": "ee8ea6fb",
   "metadata": {},
   "outputs": [],
   "source": [
    "shape.getDeterminantRadius()*2.355*0.097"
   ]
  },
  {
   "cell_type": "code",
   "execution_count": null,
   "id": "184a4f65",
   "metadata": {},
   "outputs": [],
   "source": [
    "from lsst.geom import Point2D"
   ]
  },
  {
   "cell_type": "code",
   "execution_count": null,
   "id": "eca5eefe",
   "metadata": {},
   "outputs": [],
   "source": [
    "psf.computeShape(position=Point2D(123.4,234.5))"
   ]
  },
  {
   "cell_type": "code",
   "execution_count": null,
   "id": "ce4f46b1",
   "metadata": {},
   "outputs": [],
   "source": []
  },
  {
   "cell_type": "code",
   "execution_count": null,
   "id": "4d10bf3c",
   "metadata": {},
   "outputs": [],
   "source": [
    "expId = 2021081700142\n",
    "mData = butler.get('raw', dataId={'detector':0, 'expId':expId}).getMetadata()\n",
    "    \n",
    "t1 = mData['DATE-BEG']\n",
    "\n",
    "expId2 = 2021081700541\n",
    "mData = butler.get('raw', dataId={'detector':0, 'expId':expId2}).getMetadata()\n",
    "\n",
    "    \n",
    "t2 = mData['DATE-END']\n",
    "    \n",
    "    \n",
    "#     #get dimm data\n",
    "client = EfdClient('summit_efd')\n",
    "t_t1 = Time(t1, scale='tai')\n",
    "t_t2 = Time(t2, scale='tai')\n",
    "alldimm = await client.select_time_series(\"lsst.sal.DIMM.logevent_dimmMeasurement\", ['*'], t_t1, t_t2)\n",
    "        "
   ]
  },
  {
   "cell_type": "code",
   "execution_count": null,
   "id": "e58778c4",
   "metadata": {},
   "outputs": [],
   "source": [
    "alldimm.columns"
   ]
  },
  {
   "cell_type": "code",
   "execution_count": null,
   "id": "054a6f7a",
   "metadata": {},
   "outputs": [],
   "source": [
    "alldimm.fwhm"
   ]
  },
  {
   "cell_type": "code",
   "execution_count": null,
   "id": "7d1ce13b",
   "metadata": {},
   "outputs": [],
   "source": []
  }
 ],
 "metadata": {
  "kernelspec": {
   "display_name": "LSST",
   "language": "python",
   "name": "lsst"
  },
  "language_info": {
   "codemirror_mode": {
    "name": "ipython",
    "version": 3
   },
   "file_extension": ".py",
   "mimetype": "text/x-python",
   "name": "python",
   "nbconvert_exporter": "python",
   "pygments_lexer": "ipython3",
   "version": "3.10.5"
  },
  "toc-autonumbering": true,
  "toc-showmarkdowntxt": true
 },
 "nbformat": 4,
 "nbformat_minor": 5
}
