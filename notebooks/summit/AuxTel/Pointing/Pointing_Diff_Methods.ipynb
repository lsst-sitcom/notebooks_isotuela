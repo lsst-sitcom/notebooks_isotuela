{
 "cells": [
  {
   "cell_type": "code",
   "execution_count": null,
   "id": "67d5e48d-e29a-4279-9cf5-e07a9176fb4a",
   "metadata": {},
   "outputs": [],
   "source": [
    "# In this notebook we will examine the pointing data used to build the pointing model on Apr Run. "
   ]
  },
  {
   "cell_type": "markdown",
   "id": "3628a1fd-1c98-4bab-b61c-2e2f42f0dcef",
   "metadata": {},
   "source": [
    "## Pointing accuracy"
   ]
  },
  {
   "cell_type": "code",
   "execution_count": 1,
   "id": "a879d6b5-0a2b-47fa-9f4a-d9cd718fbfcc",
   "metadata": {},
   "outputs": [
    {
     "name": "stderr",
     "output_type": "stream",
     "text": [
      "\n",
      "WARNING: version mismatch between CFITSIO header (v4.000999999999999) and linked library (v4.01).\n",
      "\n",
      "\n",
      "WARNING: version mismatch between CFITSIO header (v4.000999999999999) and linked library (v4.01).\n",
      "\n",
      "\n",
      "WARNING: version mismatch between CFITSIO header (v4.000999999999999) and linked library (v4.01).\n",
      "\n"
     ]
    }
   ],
   "source": [
    "from lsst.pipe.tasks.quickFrameMeasurement import QuickFrameMeasurementTask\n",
    "from lsst.summit.utils.bestEffort import BestEffortIsr\n",
    "from lsst.geom import PointD\n",
    "import pandas as pd \n",
    "import numpy as np\n",
    "\n",
    "import matplotlib.pyplot as plt\n",
    "import lsst.daf.butler as dafButler\n",
    "\n",
    "from astropy import units as u \n",
    "from astropy.coordinates import SkyCoord, AltAz\n",
    "from lsst.obs.lsst.translators.latiss import AUXTEL_LOCATION\n",
    "import lsst.geom as geom"
   ]
  },
  {
   "cell_type": "code",
   "execution_count": 2,
   "id": "c0052fab-4c97-434d-a33b-de43e2ec16bc",
   "metadata": {},
   "outputs": [],
   "source": [
    "# Call butler\n",
    "REPO_DIR = '/repo/LATISS'\n",
    "butler = dafButler.Butler(REPO_DIR, instrument='LATISS', collections = 'LATISS/raw/all')"
   ]
  },
  {
   "cell_type": "code",
   "execution_count": 3,
   "id": "4de12b35-615b-49be-94ea-c130a088d4f8",
   "metadata": {},
   "outputs": [
    {
     "data": {
      "text/html": [
       "<pre style=\"margin: 0.1em;\n",
       "padding-left: 0.25em;\n",
       "border-left-style: solid;\n",
       "font-family: var(--jp-code-font-family);\n",
       "font-size: var(--jp-code-font-size);\n",
       "line-height: var(--jp-code-line-height);\n",
       "\"><span style=\"color: var(--jp-warn-color2)\">lsst.summit.utils.bestEffort</span> <span style=\"color: var(--jp-info-color0)\">INFO</span>: Instantiating butler with collections=[&#x27;LATISS/raw/all&#x27;, &#x27;LATISS/calib&#x27;, &#x27;LATISS/runs/quickLook&#x27;]</pre>"
      ],
      "text/plain": [
       "<IPython.core.display.HTML object>"
      ]
     },
     "metadata": {},
     "output_type": "display_data"
    }
   ],
   "source": [
    "# BestEffort ISR\n",
    "bestEffort = BestEffortIsr()\n",
    "\n",
    "# Configure quickFrameMeasurement Task\n",
    "qm_config = QuickFrameMeasurementTask.ConfigClass()\n",
    "qm = QuickFrameMeasurementTask(config=qm_config)"
   ]
  },
  {
   "cell_type": "markdown",
   "id": "1873180a-c97d-4ffe-8023-9a869e66acfb",
   "metadata": {},
   "source": [
    "# Using Centroid - boresight position. (Center of detector) "
   ]
  },
  {
   "cell_type": "code",
   "execution_count": 4,
   "id": "5e945653-3d91-451e-8ff0-5c3d4eddee60",
   "metadata": {},
   "outputs": [],
   "source": [
    "def centroid_coordinates(exp):\n",
    "    \n",
    "    \"\"\"Returns wcs sky centroid coordinates (degrees) \"\"\"\n",
    "\n",
    "    #Measure Centroids\n",
    "    result = qm.run(exp)\n",
    "\n",
    "    #wcs centroid RADEC\n",
    "    wcs = exp.getWcs()\n",
    "    centroid_radec = wcs.pixelToSky(result.brightestObjCentroid[0], result.brightestObjCentroid[1])\n",
    "    centroid_ra = centroid_radec[0].asDegrees()\n",
    "    centroid_dec = centroid_radec[1].asDegrees()\n",
    "    \n",
    "    vi = exp.getInfo().getVisitInfo()\n",
    "\n",
    "    # AltAz via astropy\n",
    "    skyLocation = SkyCoord(centroid_ra, centroid_dec, unit=u.deg)\n",
    "    altAz = AltAz(obstime=vi.date.toPython(), location=AUXTEL_LOCATION)\n",
    "    obsAltAz = skyLocation.transform_to(altAz)\n",
    "    centroid_alt = geom.Angle(obsAltAz.alt.degree, geom.degrees).asDegrees()\n",
    "    centroid_az = geom.Angle(obsAltAz.az.degree, geom.degrees).asDegrees()\n",
    "\n",
    "    return centroid_ra, centroid_dec, centroid_radec, centroid_az, centroid_alt"
   ]
  },
  {
   "cell_type": "code",
   "execution_count": 5,
   "id": "8f1171cc-3578-42c7-b8d8-9ee4d12562ee",
   "metadata": {},
   "outputs": [],
   "source": [
    "def origin_coordinates(exp):\n",
    "    \"\"\"Returns wcs sky origin coordinates (degrees) \"\"\"\n",
    "\n",
    "    wcs = exp.getWcs()\n",
    "    origin_radec = wcs.getSkyOrigin()   \n",
    "    print(origin_radec)\n",
    "    origin_ra = origin_radec[0].asDegrees()\n",
    "    origin_dec = origin_radec[1].asDegrees()\n",
    "\n",
    "    vi = exp.getInfo().getVisitInfo()\n",
    "\n",
    "    # AltAz via astropy\n",
    "    skyLocation = SkyCoord(origin_ra, origin_dec, unit=u.deg)\n",
    "    altAz = AltAz(obstime=vi.date.toPython(), location=AUXTEL_LOCATION)\n",
    "    obsAltAz = skyLocation.transform_to(altAz)\n",
    "    origin_alt = geom.Angle(obsAltAz.alt.degree, geom.degrees).asDegrees()\n",
    "    origin_az = geom.Angle(obsAltAz.az.degree, geom.degrees).asDegrees()\n",
    "\n",
    "    return origin_ra, origin_dec, origin_radec, origin_az, origin_alt"
   ]
  },
  {
   "cell_type": "code",
   "execution_count": 6,
   "id": "db2bd11a-b7ac-46ec-95bb-f88689c39491",
   "metadata": {},
   "outputs": [],
   "source": [
    "def origin2_coordinates(exp):\n",
    "    \"\"\"Returns wcs sky origin coordinates (degrees) \"\"\"\n",
    "\n",
    "    wcs = exp.getWcs()\n",
    "    origin_radec = wcs.pixelToSky(2036, 2000)\n",
    "    print(origin_radec)\n",
    "    origin_ra = origin_radec[0].asDegrees()\n",
    "    origin_dec = origin_radec[1].asDegrees()\n",
    "\n",
    "    vi = exp.getInfo().getVisitInfo()\n",
    "\n",
    "    # AltAz via astropy\n",
    "    skyLocation = SkyCoord(origin_ra, origin_dec, unit=u.deg)\n",
    "    altAz = AltAz(obstime=vi.date.toPython(), location=AUXTEL_LOCATION)\n",
    "    obsAltAz = skyLocation.transform_to(altAz)\n",
    "    origin_alt = geom.Angle(obsAltAz.alt.degree, geom.degrees).asDegrees()\n",
    "    origin_az = geom.Angle(obsAltAz.az.degree, geom.degrees).asDegrees()\n",
    "\n",
    "    return origin_ra, origin_dec, origin_radec, origin_az, origin_alt"
   ]
  },
  {
   "cell_type": "code",
   "execution_count": 7,
   "id": "cf10bf20-a455-44de-9e0f-8e482dffdccd",
   "metadata": {},
   "outputs": [],
   "source": [
    "def dm_coordinates(exp):\n",
    "    info = exp.getInfo()\n",
    "    vi = info.getVisitInfo()\n",
    "    \n",
    "    boresight_radec = vi.getBoresightRaDec()\n",
    "    boresight_ra = boresight_radec[0].asDegrees()\n",
    "    boresight_dec = boresight_radec[1].asDegrees()\n",
    "    \n",
    "    boresight_azel = vi.getBoresightAzAlt()\n",
    "    boresight_az = boresight_azel[0].asDegrees()\n",
    "    boresight_alt = boresight_azel[1].asDegrees()\n",
    "       \n",
    "    return boresight_ra, boresight_dec, boresight_radec, boresight_az, boresight_alt"
   ]
  },
  {
   "cell_type": "code",
   "execution_count": 8,
   "id": "f9b883ff-a0e5-4cfd-89b1-3e03566b57ce",
   "metadata": {},
   "outputs": [],
   "source": [
    "def calculate_xy_offsets(exp):\n",
    "    pixel_scale = 0.09569  # arcsec/pixel\n",
    "    #boresight_position = PointD(2036.5, 2000.5)\n",
    "    boresight_position = PointD(2088.5, 2006.5)\n",
    "\n",
    "    \"\"\"Returns x/y offset in arcseconds from an exp based on current centroid\n",
    "    and desired position (which is the boresight position in pixels)\"\"\"\n",
    "\n",
    "    #Measure Centroids\n",
    "    result = qm.run(exp)\n",
    "    centroids = PointD(result.brightestObjCentroid[0], result.brightestObjCentroid[1])\n",
    "\n",
    "\n",
    "    dx_arcsec, dy_arcsec = pixel_scale * (\n",
    "        centroids - boresight_position\n",
    "    )\n",
    "\n",
    "    dr_arcsec = np.sqrt(dx_arcsec**2 + dy_arcsec**2)\n",
    "\n",
    "    return dx_arcsec, dy_arcsec, dr_arcsec"
   ]
  },
  {
   "cell_type": "code",
   "execution_count": 25,
   "id": "7686aed8-891b-4bb4-9573-ddebb3e2beea",
   "metadata": {},
   "outputs": [
    {
     "data": {
      "text/html": [
       "<pre style=\"margin: 0.1em;\n",
       "padding-left: 0.25em;\n",
       "border-left-style: solid;\n",
       "font-family: var(--jp-code-font-family);\n",
       "font-size: var(--jp-code-font-size);\n",
       "line-height: var(--jp-code-line-height);\n",
       "\"><span style=\"color: var(--jp-warn-color2)\">lsst.summit.utils.bestEffort</span> <span style=\"color: var(--jp-info-color0)\">INFO</span>: Found a ready-made quickLookExp in the repo. Returning that.</pre>"
      ],
      "text/plain": [
       "<IPython.core.display.HTML object>"
      ]
     },
     "metadata": {},
     "output_type": "display_data"
    },
    {
     "name": "stdout",
     "output_type": "stream",
     "text": [
      "Boresight (144.9948190921, +10.5102893005)\n",
      "WCS raw exp Sky Origin (144.9958851277, +10.5112044335)\n",
      "RA commmanded is 144.994545\n",
      "RA START 144.994819092123 and RA END 144.994707052616\n",
      "deltaRA 0.5833894176703325\n"
     ]
    }
   ],
   "source": [
    "data_id = {'instrument': 'LATISS', 'exposure': 2022050500293, 'detector':0}\n",
    "\n",
    "exp = bestEffort.getExposure(data_id)\n",
    "\n",
    "#From the ObsInfo\n",
    "info = exp.getInfo()\n",
    "vi = info.getVisitInfo()\n",
    "boresight_radec = vi.getBoresightRaDec()\n",
    "\n",
    "#From raw exp WCS\n",
    "wcs = exp.getWcs()\n",
    "boresight_radec_wcs = wcs.pixelToSky(2036, 2000)\n",
    "\n",
    "print(f'Boresight {boresight_radec}')\n",
    "print(f'WCS raw exp Sky Origin {boresight_radec_wcs}')\n",
    "\n",
    "ra_off =  boresight_radec[0] - boresight_radec_wcs[0]\n",
    "dec_off = boresight_radec[1] - boresight_radec_wcs[1]\n",
    "\n",
    "RA_commanded = exp.getInfo().getMetadata().get('RA')\n",
    "RA_Start = exp.getInfo().getMetadata().get('RASTART')\n",
    "RA_End = exp.getInfo().getMetadata().get('RAEND')\n",
    "\n",
    "delta_ra = RA_End - RA_commanded \n",
    "\n",
    "print(f'RA commmanded is {RA_commanded}')\n",
    "print(f'RA START {RA_Start} and RA END {RA_End}')\n",
    "print(f'deltaRA {delta_ra*3600}')"
   ]
  },
  {
   "cell_type": "code",
   "execution_count": null,
   "id": "133f8925-76ba-4913-a83f-80beb80d0371",
   "metadata": {},
   "outputs": [],
   "source": []
  },
  {
   "cell_type": "code",
   "execution_count": 30,
   "id": "c22e421b-5251-44dc-9cf2-239f73930d79",
   "metadata": {},
   "outputs": [
    {
     "name": "stdout",
     "output_type": "stream",
     "text": [
      "1.007599723087642e-09 9.159997482614928e-11\n"
     ]
    },
    {
     "data": {
      "text/plain": [
       "1.0117547911200836e-09"
      ]
     },
     "execution_count": 30,
     "metadata": {},
     "output_type": "execute_result"
    }
   ],
   "source": [
    "print((ra_off).asArcseconds(), (dec_off).asArcseconds())\n",
    "np.sqrt((ra_off).asArcseconds()**2 + (dec_off).asArcseconds()**2) "
   ]
  },
  {
   "cell_type": "code",
   "execution_count": 11,
   "id": "efa81d8d-5c30-4d5f-9625-2bd1d1f73c5b",
   "metadata": {},
   "outputs": [
    {
     "data": {
      "text/plain": [
       "Point2D(2088.0000000000005, 2005.9999999999998)"
      ]
     },
     "execution_count": 11,
     "metadata": {},
     "output_type": "execute_result"
    }
   ],
   "source": [
    "wcs.skyToPixel(origin_radec)"
   ]
  },
  {
   "cell_type": "code",
   "execution_count": 139,
   "id": "226bf593-abb5-441f-9a79-41f19f6f571f",
   "metadata": {},
   "outputs": [],
   "source": [
    "ddf['az_diff']=ddf['originAz']-ddf['boresightAz']"
   ]
  },
  {
   "cell_type": "code",
   "execution_count": 143,
   "id": "30ec98fe-18b0-408e-a6ff-b59187dc740c",
   "metadata": {},
   "outputs": [],
   "source": [
    "ddf['el_diff']=ddf['originEL']-ddf['boresightEl']"
   ]
  },
  {
   "cell_type": "code",
   "execution_count": 144,
   "id": "0f0f30eb-4799-49d9-a950-62c28baeb75e",
   "metadata": {},
   "outputs": [
    {
     "data": {
      "text/plain": [
       "0    -0.090229\n",
       "1    -0.036371\n",
       "2    -0.015753\n",
       "3    -0.023238\n",
       "4     0.009782\n",
       "5     0.024749\n",
       "6     0.041698\n",
       "7     0.049015\n",
       "8     0.054216\n",
       "9     0.070870\n",
       "10    0.080602\n",
       "11    0.087982\n",
       "12    0.085567\n",
       "13    0.083903\n",
       "14    0.092593\n",
       "15    0.093487\n",
       "16    0.072534\n",
       "17    0.088846\n",
       "18    0.073844\n",
       "19    0.046502\n",
       "20    0.054780\n",
       "21    0.061120\n",
       "22    0.018673\n",
       "23    0.029271\n",
       "24    0.006496\n",
       "25   -0.002159\n",
       "26   -0.016168\n",
       "27   -0.028027\n",
       "28   -0.073396\n",
       "29   -0.089191\n",
       "30   -0.097940\n",
       "31   -0.133526\n",
       "32   -0.115957\n",
       "33   -0.150170\n",
       "34   -0.175095\n",
       "35   -0.183494\n",
       "36   -0.178797\n",
       "37   -0.201754\n",
       "38   -0.208711\n",
       "39   -0.211826\n",
       "40   -0.228967\n",
       "41   -0.231189\n",
       "42   -0.246567\n",
       "43   -0.234072\n",
       "44   -0.246222\n",
       "45   -0.224092\n",
       "46   -0.217930\n",
       "47   -0.237411\n",
       "48   -0.211029\n",
       "49   -0.188584\n",
       "50   -0.196748\n",
       "51   -0.186164\n",
       "52   -0.166605\n",
       "53   -0.148327\n",
       "54   -0.135384\n",
       "55   -0.112048\n",
       "56   -0.159802\n",
       "57   -0.162637\n",
       "Name: el_diff, dtype: float64"
      ]
     },
     "execution_count": 144,
     "metadata": {},
     "output_type": "execute_result"
    }
   ],
   "source": [
    "ddf.el_diff"
   ]
  },
  {
   "cell_type": "code",
   "execution_count": 26,
   "id": "e600e952-87a5-4682-ac62-2f228191fdc9",
   "metadata": {},
   "outputs": [
    {
     "ename": "NameError",
     "evalue": "name 'ddf' is not defined",
     "output_type": "error",
     "traceback": [
      "\u001b[0;31m---------------------------------------------------------------------------\u001b[0m",
      "\u001b[0;31mNameError\u001b[0m                                 Traceback (most recent call last)",
      "Input \u001b[0;32mIn [26]\u001b[0m, in \u001b[0;36m<cell line: 3>\u001b[0;34m()\u001b[0m\n\u001b[1;32m      1\u001b[0m get_ipython()\u001b[38;5;241m.\u001b[39mrun_line_magic(\u001b[38;5;124m'\u001b[39m\u001b[38;5;124mmatplotlib\u001b[39m\u001b[38;5;124m'\u001b[39m, \u001b[38;5;124m'\u001b[39m\u001b[38;5;124minline\u001b[39m\u001b[38;5;124m'\u001b[39m)\n\u001b[1;32m      2\u001b[0m fig \u001b[38;5;241m=\u001b[39m plt\u001b[38;5;241m.\u001b[39mfigure(figsize\u001b[38;5;241m=\u001b[39m(\u001b[38;5;241m16\u001b[39m,\u001b[38;5;241m8\u001b[39m))\n\u001b[0;32m----> 3\u001b[0m plt\u001b[38;5;241m.\u001b[39mscatter(\u001b[43mddf\u001b[49m[\u001b[38;5;124m'\u001b[39m\u001b[38;5;124mboresightEl\u001b[39m\u001b[38;5;124m'\u001b[39m], (ddf[\u001b[38;5;124m'\u001b[39m\u001b[38;5;124mel_diff\u001b[39m\u001b[38;5;124m'\u001b[39m]\u001b[38;5;241m*\u001b[39m\u001b[38;5;241m60\u001b[39m))\n\u001b[1;32m      4\u001b[0m \u001b[38;5;66;03m#plt.plot(np.linspace(0,2*np.pi,100)*180/np.pi,5*np.sin(np.linspace(0,2*np.pi,100)+3*np.pi/10))\u001b[39;00m\n\u001b[1;32m      5\u001b[0m \u001b[38;5;66;03m#plt.title('2022 April 7th Pointing', fontsize = 16)\u001b[39;00m\n\u001b[1;32m      6\u001b[0m plt\u001b[38;5;241m.\u001b[39mylabel(\u001b[38;5;124m'\u001b[39m\u001b[38;5;124mdelta EL [deg]\u001b[39m\u001b[38;5;124m'\u001b[39m,fontsize\u001b[38;5;241m=\u001b[39m\u001b[38;5;241m12\u001b[39m)\n",
      "\u001b[0;31mNameError\u001b[0m: name 'ddf' is not defined"
     ]
    },
    {
     "data": {
      "text/plain": [
       "<Figure size 1152x576 with 0 Axes>"
      ]
     },
     "metadata": {},
     "output_type": "display_data"
    }
   ],
   "source": [
    "%matplotlib inline\n",
    "fig = plt.figure(figsize=(16,8))\n",
    "plt.scatter(ddf['boresightEl'], (ddf['el_diff']*60))\n",
    "#plt.plot(np.linspace(0,2*np.pi,100)*180/np.pi,5*np.sin(np.linspace(0,2*np.pi,100)+3*np.pi/10))\n",
    "#plt.title('2022 April 7th Pointing', fontsize = 16)\n",
    "plt.ylabel('delta EL [deg]',fontsize=12)\n",
    "plt.xlabel('Azimuth [deg]',fontsize=12)\n",
    "plt.show()"
   ]
  },
  {
   "cell_type": "code",
   "execution_count": 150,
   "id": "e0ab9bbc-0a85-4aad-9310-ae26476ab9ee",
   "metadata": {},
   "outputs": [
    {
     "data": {
      "image/png": "[encoded data removed]",
      "text/plain": [
       "<Figure size 1152x576 with 1 Axes>"
      ]
     },
     "metadata": {
      "needs_background": "light"
     },
     "output_type": "display_data"
    }
   ],
   "source": [
    "%matplotlib inline\n",
    "fig = plt.figure(figsize=(16,8))\n",
    "plt.scatter(ddf['boresightRa'], (ddf['originRa']-ddf['boresightRa']))\n",
    "#plt.title('2022 April 7th Pointing', fontsize = 16)\n",
    "plt.ylabel('delta EL [deg]',fontsize=12)\n",
    "plt.xlabel('Azimuth [deg]',fontsize=12)\n",
    "plt.show()"
   ]
  },
  {
   "cell_type": "code",
   "execution_count": null,
   "id": "260ea24f-681f-42c5-8a54-f2d8f54c1ea3",
   "metadata": {},
   "outputs": [],
   "source": []
  },
  {
   "cell_type": "code",
   "execution_count": 50,
   "id": "429d23e1-4c17-4742-9c4d-6fd1bfbb9c47",
   "metadata": {},
   "outputs": [],
   "source": [
    "#exposures = [2022040700159, 2022040700312]\n",
    "exposures = [2022040700159, 2022040700163]"
   ]
  },
  {
   "cell_type": "code",
   "execution_count": 32,
   "id": "8db741d4-0199-458c-8b10-134aa969df3c",
   "metadata": {
    "tags": []
   },
   "outputs": [
    {
     "name": "stdout",
     "output_type": "stream",
     "text": [
      "2022050500291\n"
     ]
    },
    {
     "data": {
      "text/html": [
       "<pre style=\"margin: 0.1em;\n",
       "padding-left: 0.25em;\n",
       "border-left-style: solid;\n",
       "font-family: var(--jp-code-font-family);\n",
       "font-size: var(--jp-code-font-size);\n",
       "line-height: var(--jp-code-line-height);\n",
       "\"><span style=\"color: var(--jp-warn-color2)\">lsst.summit.utils.bestEffort</span> <span style=\"color: var(--jp-info-color0)\">INFO</span>: Found a ready-made quickLookExp in the repo. Returning that.</pre>"
      ],
      "text/plain": [
       "<IPython.core.display.HTML object>"
      ]
     },
     "metadata": {},
     "output_type": "display_data"
    },
    {
     "name": "stderr",
     "output_type": "stream",
     "text": [
      "/opt/lsst/software/stack/stack/miniconda3-py38_4.9.2-3.0.0/Linux64/meas_algorithms/gf36ae6ace1+dd0c26d1c5/python/lsst/meas/algorithms/installGaussianPsf.py:77: FutureWarning: Default position argument overload is deprecated and will be removed in version 24.0.  Please explicitly specify a position.\n",
      "  psfSigma = psfModel.computeShape().getDeterminantRadius()\n",
      "/opt/lsst/software/stack/stack/miniconda3-py38_4.9.2-3.0.0/Linux64/meas_algorithms/gf36ae6ace1+dd0c26d1c5/python/lsst/meas/algorithms/installGaussianPsf.py:78: FutureWarning: Default position argument overload is deprecated and will be removed in version 24.0.  Please explicitly specify a position.\n",
      "  width, height = psfModel.computeImage().getDimensions()\n"
     ]
    },
    {
     "data": {
      "text/html": [
       "<pre style=\"margin: 0.1em;\n",
       "padding-left: 0.25em;\n",
       "border-left-style: solid;\n",
       "font-family: var(--jp-code-font-family);\n",
       "font-size: var(--jp-code-font-size);\n",
       "line-height: var(--jp-code-line-height);\n",
       "\"><span style=\"color: var(--jp-warn-color2)\">lsst.quickFrameMeasurementTask</span> <span style=\"color: var(--jp-info-color0)\">INFO</span>: Found 9 sources in exposure</pre>"
      ],
      "text/plain": [
       "<IPython.core.display.HTML object>"
      ]
     },
     "metadata": {},
     "output_type": "display_data"
    },
    {
     "data": {
      "text/html": [
       "<pre style=\"margin: 0.1em;\n",
       "padding-left: 0.25em;\n",
       "border-left-style: solid;\n",
       "font-family: var(--jp-code-font-family);\n",
       "font-size: var(--jp-code-font-size);\n",
       "line-height: var(--jp-code-line-height);\n",
       "\"><span style=\"color: var(--jp-warn-color2)\">lsst.quickFrameMeasurementTask</span> <span style=\"color: var(--jp-info-color0)\">INFO</span>: Measured 9 of 9 sources in exposure</pre>"
      ],
      "text/plain": [
       "<IPython.core.display.HTML object>"
      ]
     },
     "metadata": {},
     "output_type": "display_data"
    },
    {
     "name": "stdout",
     "output_type": "stream",
     "text": [
      "(133.5990620213, +30.2186712523)\n"
     ]
    },
    {
     "data": {
      "text/html": [
       "<pre style=\"margin: 0.1em;\n",
       "padding-left: 0.25em;\n",
       "border-left-style: solid;\n",
       "font-family: var(--jp-code-font-family);\n",
       "font-size: var(--jp-code-font-size);\n",
       "line-height: var(--jp-code-line-height);\n",
       "\"><span style=\"color: var(--jp-warn-color2)\">lsst.quickFrameMeasurementTask</span> <span style=\"color: var(--jp-info-color0)\">INFO</span>: Found 9 sources in exposure</pre>"
      ],
      "text/plain": [
       "<IPython.core.display.HTML object>"
      ]
     },
     "metadata": {},
     "output_type": "display_data"
    },
    {
     "data": {
      "text/html": [
       "<pre style=\"margin: 0.1em;\n",
       "padding-left: 0.25em;\n",
       "border-left-style: solid;\n",
       "font-family: var(--jp-code-font-family);\n",
       "font-size: var(--jp-code-font-size);\n",
       "line-height: var(--jp-code-line-height);\n",
       "\"><span style=\"color: var(--jp-warn-color2)\">lsst.quickFrameMeasurementTask</span> <span style=\"color: var(--jp-info-color0)\">INFO</span>: Measured 9 of 9 sources in exposure</pre>"
      ],
      "text/plain": [
       "<IPython.core.display.HTML object>"
      ]
     },
     "metadata": {},
     "output_type": "display_data"
    },
    {
     "name": "stdout",
     "output_type": "stream",
     "text": [
      "2022050500293\n"
     ]
    },
    {
     "data": {
      "text/html": [
       "<pre style=\"margin: 0.1em;\n",
       "padding-left: 0.25em;\n",
       "border-left-style: solid;\n",
       "font-family: var(--jp-code-font-family);\n",
       "font-size: var(--jp-code-font-size);\n",
       "line-height: var(--jp-code-line-height);\n",
       "\"><span style=\"color: var(--jp-warn-color2)\">lsst.summit.utils.bestEffort</span> <span style=\"color: var(--jp-info-color0)\">INFO</span>: Found a ready-made quickLookExp in the repo. Returning that.</pre>"
      ],
      "text/plain": [
       "<IPython.core.display.HTML object>"
      ]
     },
     "metadata": {},
     "output_type": "display_data"
    },
    {
     "data": {
      "text/html": [
       "<pre style=\"margin: 0.1em;\n",
       "padding-left: 0.25em;\n",
       "border-left-style: solid;\n",
       "font-family: var(--jp-code-font-family);\n",
       "font-size: var(--jp-code-font-size);\n",
       "line-height: var(--jp-code-line-height);\n",
       "\"><span style=\"color: var(--jp-warn-color2)\">lsst.quickFrameMeasurementTask</span> <span style=\"color: var(--jp-info-color0)\">INFO</span>: Found 3 sources in exposure</pre>"
      ],
      "text/plain": [
       "<IPython.core.display.HTML object>"
      ]
     },
     "metadata": {},
     "output_type": "display_data"
    },
    {
     "data": {
      "text/html": [
       "<pre style=\"margin: 0.1em;\n",
       "padding-left: 0.25em;\n",
       "border-left-style: solid;\n",
       "font-family: var(--jp-code-font-family);\n",
       "font-size: var(--jp-code-font-size);\n",
       "line-height: var(--jp-code-line-height);\n",
       "\"><span style=\"color: var(--jp-warn-color2)\">lsst.quickFrameMeasurementTask</span> <span style=\"color: var(--jp-info-color0)\">INFO</span>: Measured 3 of 3 sources in exposure</pre>"
      ],
      "text/plain": [
       "<IPython.core.display.HTML object>"
      ]
     },
     "metadata": {},
     "output_type": "display_data"
    },
    {
     "name": "stdout",
     "output_type": "stream",
     "text": [
      "(144.9958851277, +10.5112044335)\n"
     ]
    },
    {
     "data": {
      "text/html": [
       "<pre style=\"margin: 0.1em;\n",
       "padding-left: 0.25em;\n",
       "border-left-style: solid;\n",
       "font-family: var(--jp-code-font-family);\n",
       "font-size: var(--jp-code-font-size);\n",
       "line-height: var(--jp-code-line-height);\n",
       "\"><span style=\"color: var(--jp-warn-color2)\">lsst.quickFrameMeasurementTask</span> <span style=\"color: var(--jp-info-color0)\">INFO</span>: Found 3 sources in exposure</pre>"
      ],
      "text/plain": [
       "<IPython.core.display.HTML object>"
      ]
     },
     "metadata": {},
     "output_type": "display_data"
    },
    {
     "data": {
      "text/html": [
       "<pre style=\"margin: 0.1em;\n",
       "padding-left: 0.25em;\n",
       "border-left-style: solid;\n",
       "font-family: var(--jp-code-font-family);\n",
       "font-size: var(--jp-code-font-size);\n",
       "line-height: var(--jp-code-line-height);\n",
       "\"><span style=\"color: var(--jp-warn-color2)\">lsst.quickFrameMeasurementTask</span> <span style=\"color: var(--jp-info-color0)\">INFO</span>: Measured 3 of 3 sources in exposure</pre>"
      ],
      "text/plain": [
       "<IPython.core.display.HTML object>"
      ]
     },
     "metadata": {},
     "output_type": "display_data"
    },
    {
     "name": "stdout",
     "output_type": "stream",
     "text": [
      "2022050500295\n"
     ]
    },
    {
     "data": {
      "text/html": [
       "<pre style=\"margin: 0.1em;\n",
       "padding-left: 0.25em;\n",
       "border-left-style: solid;\n",
       "font-family: var(--jp-code-font-family);\n",
       "font-size: var(--jp-code-font-size);\n",
       "line-height: var(--jp-code-line-height);\n",
       "\"><span style=\"color: var(--jp-warn-color2)\">lsst.summit.utils.bestEffort</span> <span style=\"color: var(--jp-info-color0)\">INFO</span>: Found a ready-made quickLookExp in the repo. Returning that.</pre>"
      ],
      "text/plain": [
       "<IPython.core.display.HTML object>"
      ]
     },
     "metadata": {},
     "output_type": "display_data"
    },
    {
     "data": {
      "text/html": [
       "<pre style=\"margin: 0.1em;\n",
       "padding-left: 0.25em;\n",
       "border-left-style: solid;\n",
       "font-family: var(--jp-code-font-family);\n",
       "font-size: var(--jp-code-font-size);\n",
       "line-height: var(--jp-code-line-height);\n",
       "\"><span style=\"color: var(--jp-warn-color2)\">lsst.quickFrameMeasurementTask</span> <span style=\"color: var(--jp-info-color0)\">INFO</span>: Found 4 sources in exposure</pre>"
      ],
      "text/plain": [
       "<IPython.core.display.HTML object>"
      ]
     },
     "metadata": {},
     "output_type": "display_data"
    },
    {
     "data": {
      "text/html": [
       "<pre style=\"margin: 0.1em;\n",
       "padding-left: 0.25em;\n",
       "border-left-style: solid;\n",
       "font-family: var(--jp-code-font-family);\n",
       "font-size: var(--jp-code-font-size);\n",
       "line-height: var(--jp-code-line-height);\n",
       "\"><span style=\"color: var(--jp-warn-color2)\">lsst.quickFrameMeasurementTask</span> <span style=\"color: var(--jp-info-color0)\">INFO</span>: Measured 4 of 4 sources in exposure</pre>"
      ],
      "text/plain": [
       "<IPython.core.display.HTML object>"
      ]
     },
     "metadata": {},
     "output_type": "display_data"
    },
    {
     "name": "stdout",
     "output_type": "stream",
     "text": [
      "(141.4043988648, -13.3299894825)\n"
     ]
    },
    {
     "data": {
      "text/html": [
       "<pre style=\"margin: 0.1em;\n",
       "padding-left: 0.25em;\n",
       "border-left-style: solid;\n",
       "font-family: var(--jp-code-font-family);\n",
       "font-size: var(--jp-code-font-size);\n",
       "line-height: var(--jp-code-line-height);\n",
       "\"><span style=\"color: var(--jp-warn-color2)\">lsst.quickFrameMeasurementTask</span> <span style=\"color: var(--jp-info-color0)\">INFO</span>: Found 4 sources in exposure</pre>"
      ],
      "text/plain": [
       "<IPython.core.display.HTML object>"
      ]
     },
     "metadata": {},
     "output_type": "display_data"
    },
    {
     "data": {
      "text/html": [
       "<pre style=\"margin: 0.1em;\n",
       "padding-left: 0.25em;\n",
       "border-left-style: solid;\n",
       "font-family: var(--jp-code-font-family);\n",
       "font-size: var(--jp-code-font-size);\n",
       "line-height: var(--jp-code-line-height);\n",
       "\"><span style=\"color: var(--jp-warn-color2)\">lsst.quickFrameMeasurementTask</span> <span style=\"color: var(--jp-info-color0)\">INFO</span>: Measured 4 of 4 sources in exposure</pre>"
      ],
      "text/plain": [
       "<IPython.core.display.HTML object>"
      ]
     },
     "metadata": {},
     "output_type": "display_data"
    },
    {
     "name": "stdout",
     "output_type": "stream",
     "text": [
      "2022050500297\n"
     ]
    },
    {
     "data": {
      "text/html": [
       "<pre style=\"margin: 0.1em;\n",
       "padding-left: 0.25em;\n",
       "border-left-style: solid;\n",
       "font-family: var(--jp-code-font-family);\n",
       "font-size: var(--jp-code-font-size);\n",
       "line-height: var(--jp-code-line-height);\n",
       "\"><span style=\"color: var(--jp-warn-color2)\">lsst.summit.utils.bestEffort</span> <span style=\"color: var(--jp-info-color0)\">INFO</span>: Found a ready-made quickLookExp in the repo. Returning that.</pre>"
      ],
      "text/plain": [
       "<IPython.core.display.HTML object>"
      ]
     },
     "metadata": {},
     "output_type": "display_data"
    },
    {
     "data": {
      "text/html": [
       "<pre style=\"margin: 0.1em;\n",
       "padding-left: 0.25em;\n",
       "border-left-style: solid;\n",
       "font-family: var(--jp-code-font-family);\n",
       "font-size: var(--jp-code-font-size);\n",
       "line-height: var(--jp-code-line-height);\n",
       "\"><span style=\"color: var(--jp-warn-color2)\">lsst.quickFrameMeasurementTask</span> <span style=\"color: var(--jp-info-color0)\">INFO</span>: Found 4 sources in exposure</pre>"
      ],
      "text/plain": [
       "<IPython.core.display.HTML object>"
      ]
     },
     "metadata": {},
     "output_type": "display_data"
    },
    {
     "data": {
      "text/html": [
       "<pre style=\"margin: 0.1em;\n",
       "padding-left: 0.25em;\n",
       "border-left-style: solid;\n",
       "font-family: var(--jp-code-font-family);\n",
       "font-size: var(--jp-code-font-size);\n",
       "line-height: var(--jp-code-line-height);\n",
       "\"><span style=\"color: var(--jp-warn-color2)\">lsst.quickFrameMeasurementTask</span> <span style=\"color: var(--jp-info-color0)\">INFO</span>: Measured 4 of 4 sources in exposure</pre>"
      ],
      "text/plain": [
       "<IPython.core.display.HTML object>"
      ]
     },
     "metadata": {},
     "output_type": "display_data"
    },
    {
     "name": "stdout",
     "output_type": "stream",
     "text": [
      "(154.9137386857, +22.5072004983)\n"
     ]
    },
    {
     "data": {
      "text/html": [
       "<pre style=\"margin: 0.1em;\n",
       "padding-left: 0.25em;\n",
       "border-left-style: solid;\n",
       "font-family: var(--jp-code-font-family);\n",
       "font-size: var(--jp-code-font-size);\n",
       "line-height: var(--jp-code-line-height);\n",
       "\"><span style=\"color: var(--jp-warn-color2)\">lsst.quickFrameMeasurementTask</span> <span style=\"color: var(--jp-info-color0)\">INFO</span>: Found 4 sources in exposure</pre>"
      ],
      "text/plain": [
       "<IPython.core.display.HTML object>"
      ]
     },
     "metadata": {},
     "output_type": "display_data"
    },
    {
     "data": {
      "text/html": [
       "<pre style=\"margin: 0.1em;\n",
       "padding-left: 0.25em;\n",
       "border-left-style: solid;\n",
       "font-family: var(--jp-code-font-family);\n",
       "font-size: var(--jp-code-font-size);\n",
       "line-height: var(--jp-code-line-height);\n",
       "\"><span style=\"color: var(--jp-warn-color2)\">lsst.quickFrameMeasurementTask</span> <span style=\"color: var(--jp-info-color0)\">INFO</span>: Measured 4 of 4 sources in exposure</pre>"
      ],
      "text/plain": [
       "<IPython.core.display.HTML object>"
      ]
     },
     "metadata": {},
     "output_type": "display_data"
    },
    {
     "name": "stdout",
     "output_type": "stream",
     "text": [
      "2022050500299\n"
     ]
    },
    {
     "data": {
      "text/html": [
       "<pre style=\"margin: 0.1em;\n",
       "padding-left: 0.25em;\n",
       "border-left-style: solid;\n",
       "font-family: var(--jp-code-font-family);\n",
       "font-size: var(--jp-code-font-size);\n",
       "line-height: var(--jp-code-line-height);\n",
       "\"><span style=\"color: var(--jp-warn-color2)\">lsst.summit.utils.bestEffort</span> <span style=\"color: var(--jp-info-color0)\">INFO</span>: Found a ready-made quickLookExp in the repo. Returning that.</pre>"
      ],
      "text/plain": [
       "<IPython.core.display.HTML object>"
      ]
     },
     "metadata": {},
     "output_type": "display_data"
    },
    {
     "data": {
      "text/html": [
       "<pre style=\"margin: 0.1em;\n",
       "padding-left: 0.25em;\n",
       "border-left-style: solid;\n",
       "font-family: var(--jp-code-font-family);\n",
       "font-size: var(--jp-code-font-size);\n",
       "line-height: var(--jp-code-line-height);\n",
       "\"><span style=\"color: var(--jp-warn-color2)\">lsst.quickFrameMeasurementTask</span> <span style=\"color: var(--jp-info-color0)\">INFO</span>: Found 4 sources in exposure</pre>"
      ],
      "text/plain": [
       "<IPython.core.display.HTML object>"
      ]
     },
     "metadata": {},
     "output_type": "display_data"
    },
    {
     "data": {
      "text/html": [
       "<pre style=\"margin: 0.1em;\n",
       "padding-left: 0.25em;\n",
       "border-left-style: solid;\n",
       "font-family: var(--jp-code-font-family);\n",
       "font-size: var(--jp-code-font-size);\n",
       "line-height: var(--jp-code-line-height);\n",
       "\"><span style=\"color: var(--jp-warn-color2)\">lsst.quickFrameMeasurementTask</span> <span style=\"color: var(--jp-info-color0)\">INFO</span>: Measured 4 of 4 sources in exposure</pre>"
      ],
      "text/plain": [
       "<IPython.core.display.HTML object>"
      ]
     },
     "metadata": {},
     "output_type": "display_data"
    },
    {
     "name": "stdout",
     "output_type": "stream",
     "text": [
      "(159.0480358249, +9.6076957388)\n"
     ]
    },
    {
     "data": {
      "text/html": [
       "<pre style=\"margin: 0.1em;\n",
       "padding-left: 0.25em;\n",
       "border-left-style: solid;\n",
       "font-family: var(--jp-code-font-family);\n",
       "font-size: var(--jp-code-font-size);\n",
       "line-height: var(--jp-code-line-height);\n",
       "\"><span style=\"color: var(--jp-warn-color2)\">lsst.quickFrameMeasurementTask</span> <span style=\"color: var(--jp-info-color0)\">INFO</span>: Found 4 sources in exposure</pre>"
      ],
      "text/plain": [
       "<IPython.core.display.HTML object>"
      ]
     },
     "metadata": {},
     "output_type": "display_data"
    },
    {
     "data": {
      "text/html": [
       "<pre style=\"margin: 0.1em;\n",
       "padding-left: 0.25em;\n",
       "border-left-style: solid;\n",
       "font-family: var(--jp-code-font-family);\n",
       "font-size: var(--jp-code-font-size);\n",
       "line-height: var(--jp-code-line-height);\n",
       "\"><span style=\"color: var(--jp-warn-color2)\">lsst.quickFrameMeasurementTask</span> <span style=\"color: var(--jp-info-color0)\">INFO</span>: Measured 4 of 4 sources in exposure</pre>"
      ],
      "text/plain": [
       "<IPython.core.display.HTML object>"
      ]
     },
     "metadata": {},
     "output_type": "display_data"
    },
    {
     "name": "stdout",
     "output_type": "stream",
     "text": [
      "2022050500301\n"
     ]
    },
    {
     "data": {
      "text/html": [
       "<pre style=\"margin: 0.1em;\n",
       "padding-left: 0.25em;\n",
       "border-left-style: solid;\n",
       "font-family: var(--jp-code-font-family);\n",
       "font-size: var(--jp-code-font-size);\n",
       "line-height: var(--jp-code-line-height);\n",
       "\"><span style=\"color: var(--jp-warn-color2)\">lsst.summit.utils.bestEffort</span> <span style=\"color: var(--jp-info-color0)\">INFO</span>: Found a ready-made quickLookExp in the repo. Returning that.</pre>"
      ],
      "text/plain": [
       "<IPython.core.display.HTML object>"
      ]
     },
     "metadata": {},
     "output_type": "display_data"
    },
    {
     "data": {
      "text/html": [
       "<pre style=\"margin: 0.1em;\n",
       "padding-left: 0.25em;\n",
       "border-left-style: solid;\n",
       "font-family: var(--jp-code-font-family);\n",
       "font-size: var(--jp-code-font-size);\n",
       "line-height: var(--jp-code-line-height);\n",
       "\"><span style=\"color: var(--jp-warn-color2)\">lsst.quickFrameMeasurementTask</span> <span style=\"color: var(--jp-info-color0)\">INFO</span>: Found 3 sources in exposure</pre>"
      ],
      "text/plain": [
       "<IPython.core.display.HTML object>"
      ]
     },
     "metadata": {},
     "output_type": "display_data"
    },
    {
     "data": {
      "text/html": [
       "<pre style=\"margin: 0.1em;\n",
       "padding-left: 0.25em;\n",
       "border-left-style: solid;\n",
       "font-family: var(--jp-code-font-family);\n",
       "font-size: var(--jp-code-font-size);\n",
       "line-height: var(--jp-code-line-height);\n",
       "\"><span style=\"color: var(--jp-warn-color2)\">lsst.quickFrameMeasurementTask</span> <span style=\"color: var(--jp-info-color0)\">INFO</span>: Measured 3 of 3 sources in exposure</pre>"
      ],
      "text/plain": [
       "<IPython.core.display.HTML object>"
      ]
     },
     "metadata": {},
     "output_type": "display_data"
    },
    {
     "name": "stdout",
     "output_type": "stream",
     "text": [
      "(178.4684491247, +20.3359741033)\n"
     ]
    },
    {
     "data": {
      "text/html": [
       "<pre style=\"margin: 0.1em;\n",
       "padding-left: 0.25em;\n",
       "border-left-style: solid;\n",
       "font-family: var(--jp-code-font-family);\n",
       "font-size: var(--jp-code-font-size);\n",
       "line-height: var(--jp-code-line-height);\n",
       "\"><span style=\"color: var(--jp-warn-color2)\">lsst.quickFrameMeasurementTask</span> <span style=\"color: var(--jp-info-color0)\">INFO</span>: Found 3 sources in exposure</pre>"
      ],
      "text/plain": [
       "<IPython.core.display.HTML object>"
      ]
     },
     "metadata": {},
     "output_type": "display_data"
    },
    {
     "data": {
      "text/html": [
       "<pre style=\"margin: 0.1em;\n",
       "padding-left: 0.25em;\n",
       "border-left-style: solid;\n",
       "font-family: var(--jp-code-font-family);\n",
       "font-size: var(--jp-code-font-size);\n",
       "line-height: var(--jp-code-line-height);\n",
       "\"><span style=\"color: var(--jp-warn-color2)\">lsst.quickFrameMeasurementTask</span> <span style=\"color: var(--jp-info-color0)\">INFO</span>: Measured 3 of 3 sources in exposure</pre>"
      ],
      "text/plain": [
       "<IPython.core.display.HTML object>"
      ]
     },
     "metadata": {},
     "output_type": "display_data"
    },
    {
     "name": "stdout",
     "output_type": "stream",
     "text": [
      "2022050500303\n"
     ]
    },
    {
     "data": {
      "text/html": [
       "<pre style=\"margin: 0.1em;\n",
       "padding-left: 0.25em;\n",
       "border-left-style: solid;\n",
       "font-family: var(--jp-code-font-family);\n",
       "font-size: var(--jp-code-font-size);\n",
       "line-height: var(--jp-code-line-height);\n",
       "\"><span style=\"color: var(--jp-warn-color2)\">lsst.summit.utils.bestEffort</span> <span style=\"color: var(--jp-info-color0)\">INFO</span>: Found a ready-made quickLookExp in the repo. Returning that.</pre>"
      ],
      "text/plain": [
       "<IPython.core.display.HTML object>"
      ]
     },
     "metadata": {},
     "output_type": "display_data"
    },
    {
     "data": {
      "text/html": [
       "<pre style=\"margin: 0.1em;\n",
       "padding-left: 0.25em;\n",
       "border-left-style: solid;\n",
       "font-family: var(--jp-code-font-family);\n",
       "font-size: var(--jp-code-font-size);\n",
       "line-height: var(--jp-code-line-height);\n",
       "\"><span style=\"color: var(--jp-warn-color2)\">lsst.quickFrameMeasurementTask</span> <span style=\"color: var(--jp-info-color0)\">INFO</span>: Found 4 sources in exposure</pre>"
      ],
      "text/plain": [
       "<IPython.core.display.HTML object>"
      ]
     },
     "metadata": {},
     "output_type": "display_data"
    },
    {
     "data": {
      "text/html": [
       "<pre style=\"margin: 0.1em;\n",
       "padding-left: 0.25em;\n",
       "border-left-style: solid;\n",
       "font-family: var(--jp-code-font-family);\n",
       "font-size: var(--jp-code-font-size);\n",
       "line-height: var(--jp-code-line-height);\n",
       "\"><span style=\"color: var(--jp-warn-color2)\">lsst.quickFrameMeasurementTask</span> <span style=\"color: var(--jp-info-color0)\">INFO</span>: Measured 4 of 4 sources in exposure</pre>"
      ],
      "text/plain": [
       "<IPython.core.display.HTML object>"
      ]
     },
     "metadata": {},
     "output_type": "display_data"
    },
    {
     "name": "stdout",
     "output_type": "stream",
     "text": [
      "(160.6383315532, -2.5212460042)\n"
     ]
    },
    {
     "data": {
      "text/html": [
       "<pre style=\"margin: 0.1em;\n",
       "padding-left: 0.25em;\n",
       "border-left-style: solid;\n",
       "font-family: var(--jp-code-font-family);\n",
       "font-size: var(--jp-code-font-size);\n",
       "line-height: var(--jp-code-line-height);\n",
       "\"><span style=\"color: var(--jp-warn-color2)\">lsst.quickFrameMeasurementTask</span> <span style=\"color: var(--jp-info-color0)\">INFO</span>: Found 4 sources in exposure</pre>"
      ],
      "text/plain": [
       "<IPython.core.display.HTML object>"
      ]
     },
     "metadata": {},
     "output_type": "display_data"
    },
    {
     "data": {
      "text/html": [
       "<pre style=\"margin: 0.1em;\n",
       "padding-left: 0.25em;\n",
       "border-left-style: solid;\n",
       "font-family: var(--jp-code-font-family);\n",
       "font-size: var(--jp-code-font-size);\n",
       "line-height: var(--jp-code-line-height);\n",
       "\"><span style=\"color: var(--jp-warn-color2)\">lsst.quickFrameMeasurementTask</span> <span style=\"color: var(--jp-info-color0)\">INFO</span>: Measured 4 of 4 sources in exposure</pre>"
      ],
      "text/plain": [
       "<IPython.core.display.HTML object>"
      ]
     },
     "metadata": {},
     "output_type": "display_data"
    },
    {
     "name": "stdout",
     "output_type": "stream",
     "text": [
      "2022050500305\n"
     ]
    },
    {
     "data": {
      "text/html": [
       "<pre style=\"margin: 0.1em;\n",
       "padding-left: 0.25em;\n",
       "border-left-style: solid;\n",
       "font-family: var(--jp-code-font-family);\n",
       "font-size: var(--jp-code-font-size);\n",
       "line-height: var(--jp-code-line-height);\n",
       "\"><span style=\"color: var(--jp-warn-color2)\">lsst.summit.utils.bestEffort</span> <span style=\"color: var(--jp-info-color0)\">INFO</span>: Found a ready-made quickLookExp in the repo. Returning that.</pre>"
      ],
      "text/plain": [
       "<IPython.core.display.HTML object>"
      ]
     },
     "metadata": {},
     "output_type": "display_data"
    },
    {
     "data": {
      "text/html": [
       "<pre style=\"margin: 0.1em;\n",
       "padding-left: 0.25em;\n",
       "border-left-style: solid;\n",
       "font-family: var(--jp-code-font-family);\n",
       "font-size: var(--jp-code-font-size);\n",
       "line-height: var(--jp-code-line-height);\n",
       "\"><span style=\"color: var(--jp-warn-color2)\">lsst.quickFrameMeasurementTask</span> <span style=\"color: var(--jp-info-color0)\">INFO</span>: Found 4 sources in exposure</pre>"
      ],
      "text/plain": [
       "<IPython.core.display.HTML object>"
      ]
     },
     "metadata": {},
     "output_type": "display_data"
    },
    {
     "data": {
      "text/html": [
       "<pre style=\"margin: 0.1em;\n",
       "padding-left: 0.25em;\n",
       "border-left-style: solid;\n",
       "font-family: var(--jp-code-font-family);\n",
       "font-size: var(--jp-code-font-size);\n",
       "line-height: var(--jp-code-line-height);\n",
       "\"><span style=\"color: var(--jp-warn-color2)\">lsst.quickFrameMeasurementTask</span> <span style=\"color: var(--jp-info-color0)\">INFO</span>: Measured 4 of 4 sources in exposure</pre>"
      ],
      "text/plain": [
       "<IPython.core.display.HTML object>"
      ]
     },
     "metadata": {},
     "output_type": "display_data"
    },
    {
     "name": "stdout",
     "output_type": "stream",
     "text": [
      "(141.5855024490, -25.1046591149)\n"
     ]
    },
    {
     "data": {
      "text/html": [
       "<pre style=\"margin: 0.1em;\n",
       "padding-left: 0.25em;\n",
       "border-left-style: solid;\n",
       "font-family: var(--jp-code-font-family);\n",
       "font-size: var(--jp-code-font-size);\n",
       "line-height: var(--jp-code-line-height);\n",
       "\"><span style=\"color: var(--jp-warn-color2)\">lsst.quickFrameMeasurementTask</span> <span style=\"color: var(--jp-info-color0)\">INFO</span>: Found 4 sources in exposure</pre>"
      ],
      "text/plain": [
       "<IPython.core.display.HTML object>"
      ]
     },
     "metadata": {},
     "output_type": "display_data"
    },
    {
     "data": {
      "text/html": [
       "<pre style=\"margin: 0.1em;\n",
       "padding-left: 0.25em;\n",
       "border-left-style: solid;\n",
       "font-family: var(--jp-code-font-family);\n",
       "font-size: var(--jp-code-font-size);\n",
       "line-height: var(--jp-code-line-height);\n",
       "\"><span style=\"color: var(--jp-warn-color2)\">lsst.quickFrameMeasurementTask</span> <span style=\"color: var(--jp-info-color0)\">INFO</span>: Measured 4 of 4 sources in exposure</pre>"
      ],
      "text/plain": [
       "<IPython.core.display.HTML object>"
      ]
     },
     "metadata": {},
     "output_type": "display_data"
    },
    {
     "name": "stdout",
     "output_type": "stream",
     "text": [
      "2022050500307\n"
     ]
    },
    {
     "data": {
      "text/html": [
       "<pre style=\"margin: 0.1em;\n",
       "padding-left: 0.25em;\n",
       "border-left-style: solid;\n",
       "font-family: var(--jp-code-font-family);\n",
       "font-size: var(--jp-code-font-size);\n",
       "line-height: var(--jp-code-line-height);\n",
       "\"><span style=\"color: var(--jp-warn-color2)\">lsst.summit.utils.bestEffort</span> <span style=\"color: var(--jp-info-color0)\">INFO</span>: Found a ready-made quickLookExp in the repo. Returning that.</pre>"
      ],
      "text/plain": [
       "<IPython.core.display.HTML object>"
      ]
     },
     "metadata": {},
     "output_type": "display_data"
    },
    {
     "data": {
      "text/html": [
       "<pre style=\"margin: 0.1em;\n",
       "padding-left: 0.25em;\n",
       "border-left-style: solid;\n",
       "font-family: var(--jp-code-font-family);\n",
       "font-size: var(--jp-code-font-size);\n",
       "line-height: var(--jp-code-line-height);\n",
       "\"><span style=\"color: var(--jp-warn-color2)\">lsst.quickFrameMeasurementTask</span> <span style=\"color: var(--jp-info-color0)\">INFO</span>: Found 3 sources in exposure</pre>"
      ],
      "text/plain": [
       "<IPython.core.display.HTML object>"
      ]
     },
     "metadata": {},
     "output_type": "display_data"
    },
    {
     "data": {
      "text/html": [
       "<pre style=\"margin: 0.1em;\n",
       "padding-left: 0.25em;\n",
       "border-left-style: solid;\n",
       "font-family: var(--jp-code-font-family);\n",
       "font-size: var(--jp-code-font-size);\n",
       "line-height: var(--jp-code-line-height);\n",
       "\"><span style=\"color: var(--jp-warn-color2)\">lsst.quickFrameMeasurementTask</span> <span style=\"color: var(--jp-info-color0)\">INFO</span>: Measured 3 of 3 sources in exposure</pre>"
      ],
      "text/plain": [
       "<IPython.core.display.HTML object>"
      ]
     },
     "metadata": {},
     "output_type": "display_data"
    },
    {
     "name": "stdout",
     "output_type": "stream",
     "text": [
      "(178.8690942769, +5.8198412024)\n"
     ]
    },
    {
     "data": {
      "text/html": [
       "<pre style=\"margin: 0.1em;\n",
       "padding-left: 0.25em;\n",
       "border-left-style: solid;\n",
       "font-family: var(--jp-code-font-family);\n",
       "font-size: var(--jp-code-font-size);\n",
       "line-height: var(--jp-code-line-height);\n",
       "\"><span style=\"color: var(--jp-warn-color2)\">lsst.quickFrameMeasurementTask</span> <span style=\"color: var(--jp-info-color0)\">INFO</span>: Found 3 sources in exposure</pre>"
      ],
      "text/plain": [
       "<IPython.core.display.HTML object>"
      ]
     },
     "metadata": {},
     "output_type": "display_data"
    },
    {
     "data": {
      "text/html": [
       "<pre style=\"margin: 0.1em;\n",
       "padding-left: 0.25em;\n",
       "border-left-style: solid;\n",
       "font-family: var(--jp-code-font-family);\n",
       "font-size: var(--jp-code-font-size);\n",
       "line-height: var(--jp-code-line-height);\n",
       "\"><span style=\"color: var(--jp-warn-color2)\">lsst.quickFrameMeasurementTask</span> <span style=\"color: var(--jp-info-color0)\">INFO</span>: Measured 3 of 3 sources in exposure</pre>"
      ],
      "text/plain": [
       "<IPython.core.display.HTML object>"
      ]
     },
     "metadata": {},
     "output_type": "display_data"
    },
    {
     "name": "stdout",
     "output_type": "stream",
     "text": [
      "2022050500309\n"
     ]
    },
    {
     "data": {
      "text/html": [
       "<pre style=\"margin: 0.1em;\n",
       "padding-left: 0.25em;\n",
       "border-left-style: solid;\n",
       "font-family: var(--jp-code-font-family);\n",
       "font-size: var(--jp-code-font-size);\n",
       "line-height: var(--jp-code-line-height);\n",
       "\"><span style=\"color: var(--jp-warn-color2)\">lsst.summit.utils.bestEffort</span> <span style=\"color: var(--jp-info-color0)\">INFO</span>: Found a ready-made quickLookExp in the repo. Returning that.</pre>"
      ],
      "text/plain": [
       "<IPython.core.display.HTML object>"
      ]
     },
     "metadata": {},
     "output_type": "display_data"
    },
    {
     "data": {
      "text/html": [
       "<pre style=\"margin: 0.1em;\n",
       "padding-left: 0.25em;\n",
       "border-left-style: solid;\n",
       "font-family: var(--jp-code-font-family);\n",
       "font-size: var(--jp-code-font-size);\n",
       "line-height: var(--jp-code-line-height);\n",
       "\"><span style=\"color: var(--jp-warn-color2)\">lsst.quickFrameMeasurementTask</span> <span style=\"color: var(--jp-info-color0)\">INFO</span>: Found 6 sources in exposure</pre>"
      ],
      "text/plain": [
       "<IPython.core.display.HTML object>"
      ]
     },
     "metadata": {},
     "output_type": "display_data"
    },
    {
     "data": {
      "text/html": [
       "<pre style=\"margin: 0.1em;\n",
       "padding-left: 0.25em;\n",
       "border-left-style: solid;\n",
       "font-family: var(--jp-code-font-family);\n",
       "font-size: var(--jp-code-font-size);\n",
       "line-height: var(--jp-code-line-height);\n",
       "\"><span style=\"color: var(--jp-warn-color2)\">lsst.quickFrameMeasurementTask</span> <span style=\"color: var(--jp-info-color0)\">INFO</span>: Measured 6 of 6 sources in exposure</pre>"
      ],
      "text/plain": [
       "<IPython.core.display.HTML object>"
      ]
     },
     "metadata": {},
     "output_type": "display_data"
    },
    {
     "name": "stdout",
     "output_type": "stream",
     "text": [
      "(186.7541942754, +0.1186763761)\n"
     ]
    },
    {
     "data": {
      "text/html": [
       "<pre style=\"margin: 0.1em;\n",
       "padding-left: 0.25em;\n",
       "border-left-style: solid;\n",
       "font-family: var(--jp-code-font-family);\n",
       "font-size: var(--jp-code-font-size);\n",
       "line-height: var(--jp-code-line-height);\n",
       "\"><span style=\"color: var(--jp-warn-color2)\">lsst.quickFrameMeasurementTask</span> <span style=\"color: var(--jp-info-color0)\">INFO</span>: Found 6 sources in exposure</pre>"
      ],
      "text/plain": [
       "<IPython.core.display.HTML object>"
      ]
     },
     "metadata": {},
     "output_type": "display_data"
    },
    {
     "data": {
      "text/html": [
       "<pre style=\"margin: 0.1em;\n",
       "padding-left: 0.25em;\n",
       "border-left-style: solid;\n",
       "font-family: var(--jp-code-font-family);\n",
       "font-size: var(--jp-code-font-size);\n",
       "line-height: var(--jp-code-line-height);\n",
       "\"><span style=\"color: var(--jp-warn-color2)\">lsst.quickFrameMeasurementTask</span> <span style=\"color: var(--jp-info-color0)\">INFO</span>: Measured 6 of 6 sources in exposure</pre>"
      ],
      "text/plain": [
       "<IPython.core.display.HTML object>"
      ]
     },
     "metadata": {},
     "output_type": "display_data"
    },
    {
     "name": "stdout",
     "output_type": "stream",
     "text": [
      "2022050500311\n"
     ]
    },
    {
     "data": {
      "text/html": [
       "<pre style=\"margin: 0.1em;\n",
       "padding-left: 0.25em;\n",
       "border-left-style: solid;\n",
       "font-family: var(--jp-code-font-family);\n",
       "font-size: var(--jp-code-font-size);\n",
       "line-height: var(--jp-code-line-height);\n",
       "\"><span style=\"color: var(--jp-warn-color2)\">lsst.summit.utils.bestEffort</span> <span style=\"color: var(--jp-info-color0)\">INFO</span>: Found a ready-made quickLookExp in the repo. Returning that.</pre>"
      ],
      "text/plain": [
       "<IPython.core.display.HTML object>"
      ]
     },
     "metadata": {},
     "output_type": "display_data"
    },
    {
     "data": {
      "text/html": [
       "<pre style=\"margin: 0.1em;\n",
       "padding-left: 0.25em;\n",
       "border-left-style: solid;\n",
       "font-family: var(--jp-code-font-family);\n",
       "font-size: var(--jp-code-font-size);\n",
       "line-height: var(--jp-code-line-height);\n",
       "\"><span style=\"color: var(--jp-warn-color2)\">lsst.quickFrameMeasurementTask</span> <span style=\"color: var(--jp-info-color0)\">INFO</span>: Found 3 sources in exposure</pre>"
      ],
      "text/plain": [
       "<IPython.core.display.HTML object>"
      ]
     },
     "metadata": {},
     "output_type": "display_data"
    },
    {
     "data": {
      "text/html": [
       "<pre style=\"margin: 0.1em;\n",
       "padding-left: 0.25em;\n",
       "border-left-style: solid;\n",
       "font-family: var(--jp-code-font-family);\n",
       "font-size: var(--jp-code-font-size);\n",
       "line-height: var(--jp-code-line-height);\n",
       "\"><span style=\"color: var(--jp-warn-color2)\">lsst.quickFrameMeasurementTask</span> <span style=\"color: var(--jp-info-color0)\">INFO</span>: Measured 3 of 3 sources in exposure</pre>"
      ],
      "text/plain": [
       "<IPython.core.display.HTML object>"
      ]
     },
     "metadata": {},
     "output_type": "display_data"
    },
    {
     "name": "stdout",
     "output_type": "stream",
     "text": [
      "(156.6582640193, -20.4532802576)\n"
     ]
    },
    {
     "data": {
      "text/html": [
       "<pre style=\"margin: 0.1em;\n",
       "padding-left: 0.25em;\n",
       "border-left-style: solid;\n",
       "font-family: var(--jp-code-font-family);\n",
       "font-size: var(--jp-code-font-size);\n",
       "line-height: var(--jp-code-line-height);\n",
       "\"><span style=\"color: var(--jp-warn-color2)\">lsst.quickFrameMeasurementTask</span> <span style=\"color: var(--jp-info-color0)\">INFO</span>: Found 3 sources in exposure</pre>"
      ],
      "text/plain": [
       "<IPython.core.display.HTML object>"
      ]
     },
     "metadata": {},
     "output_type": "display_data"
    },
    {
     "data": {
      "text/html": [
       "<pre style=\"margin: 0.1em;\n",
       "padding-left: 0.25em;\n",
       "border-left-style: solid;\n",
       "font-family: var(--jp-code-font-family);\n",
       "font-size: var(--jp-code-font-size);\n",
       "line-height: var(--jp-code-line-height);\n",
       "\"><span style=\"color: var(--jp-warn-color2)\">lsst.quickFrameMeasurementTask</span> <span style=\"color: var(--jp-info-color0)\">INFO</span>: Measured 3 of 3 sources in exposure</pre>"
      ],
      "text/plain": [
       "<IPython.core.display.HTML object>"
      ]
     },
     "metadata": {},
     "output_type": "display_data"
    },
    {
     "name": "stdout",
     "output_type": "stream",
     "text": [
      "2022050500313\n"
     ]
    },
    {
     "data": {
      "text/html": [
       "<pre style=\"margin: 0.1em;\n",
       "padding-left: 0.25em;\n",
       "border-left-style: solid;\n",
       "font-family: var(--jp-code-font-family);\n",
       "font-size: var(--jp-code-font-size);\n",
       "line-height: var(--jp-code-line-height);\n",
       "\"><span style=\"color: var(--jp-warn-color2)\">lsst.summit.utils.bestEffort</span> <span style=\"color: var(--jp-info-color0)\">INFO</span>: Found a ready-made quickLookExp in the repo. Returning that.</pre>"
      ],
      "text/plain": [
       "<IPython.core.display.HTML object>"
      ]
     },
     "metadata": {},
     "output_type": "display_data"
    },
    {
     "data": {
      "text/html": [
       "<pre style=\"margin: 0.1em;\n",
       "padding-left: 0.25em;\n",
       "border-left-style: solid;\n",
       "font-family: var(--jp-code-font-family);\n",
       "font-size: var(--jp-code-font-size);\n",
       "line-height: var(--jp-code-line-height);\n",
       "\"><span style=\"color: var(--jp-warn-color2)\">lsst.quickFrameMeasurementTask</span> <span style=\"color: var(--jp-info-color0)\">INFO</span>: Found 3 sources in exposure</pre>"
      ],
      "text/plain": [
       "<IPython.core.display.HTML object>"
      ]
     },
     "metadata": {},
     "output_type": "display_data"
    },
    {
     "data": {
      "text/html": [
       "<pre style=\"margin: 0.1em;\n",
       "padding-left: 0.25em;\n",
       "border-left-style: solid;\n",
       "font-family: var(--jp-code-font-family);\n",
       "font-size: var(--jp-code-font-size);\n",
       "line-height: var(--jp-code-line-height);\n",
       "\"><span style=\"color: var(--jp-warn-color2)\">lsst.quickFrameMeasurementTask</span> <span style=\"color: var(--jp-info-color0)\">INFO</span>: Measured 3 of 3 sources in exposure</pre>"
      ],
      "text/plain": [
       "<IPython.core.display.HTML object>"
      ]
     },
     "metadata": {},
     "output_type": "display_data"
    },
    {
     "name": "stdout",
     "output_type": "stream",
     "text": [
      "(170.1079304030, -17.4748528389)\n"
     ]
    },
    {
     "data": {
      "text/html": [
       "<pre style=\"margin: 0.1em;\n",
       "padding-left: 0.25em;\n",
       "border-left-style: solid;\n",
       "font-family: var(--jp-code-font-family);\n",
       "font-size: var(--jp-code-font-size);\n",
       "line-height: var(--jp-code-line-height);\n",
       "\"><span style=\"color: var(--jp-warn-color2)\">lsst.quickFrameMeasurementTask</span> <span style=\"color: var(--jp-info-color0)\">INFO</span>: Found 3 sources in exposure</pre>"
      ],
      "text/plain": [
       "<IPython.core.display.HTML object>"
      ]
     },
     "metadata": {},
     "output_type": "display_data"
    },
    {
     "data": {
      "text/html": [
       "<pre style=\"margin: 0.1em;\n",
       "padding-left: 0.25em;\n",
       "border-left-style: solid;\n",
       "font-family: var(--jp-code-font-family);\n",
       "font-size: var(--jp-code-font-size);\n",
       "line-height: var(--jp-code-line-height);\n",
       "\"><span style=\"color: var(--jp-warn-color2)\">lsst.quickFrameMeasurementTask</span> <span style=\"color: var(--jp-info-color0)\">INFO</span>: Measured 3 of 3 sources in exposure</pre>"
      ],
      "text/plain": [
       "<IPython.core.display.HTML object>"
      ]
     },
     "metadata": {},
     "output_type": "display_data"
    },
    {
     "name": "stdout",
     "output_type": "stream",
     "text": [
      "2022050500315\n"
     ]
    },
    {
     "data": {
      "text/html": [
       "<pre style=\"margin: 0.1em;\n",
       "padding-left: 0.25em;\n",
       "border-left-style: solid;\n",
       "font-family: var(--jp-code-font-family);\n",
       "font-size: var(--jp-code-font-size);\n",
       "line-height: var(--jp-code-line-height);\n",
       "\"><span style=\"color: var(--jp-warn-color2)\">lsst.summit.utils.bestEffort</span> <span style=\"color: var(--jp-info-color0)\">INFO</span>: Found a ready-made quickLookExp in the repo. Returning that.</pre>"
      ],
      "text/plain": [
       "<IPython.core.display.HTML object>"
      ]
     },
     "metadata": {},
     "output_type": "display_data"
    },
    {
     "data": {
      "text/html": [
       "<pre style=\"margin: 0.1em;\n",
       "padding-left: 0.25em;\n",
       "border-left-style: solid;\n",
       "font-family: var(--jp-code-font-family);\n",
       "font-size: var(--jp-code-font-size);\n",
       "line-height: var(--jp-code-line-height);\n",
       "\"><span style=\"color: var(--jp-warn-color2)\">lsst.quickFrameMeasurementTask</span> <span style=\"color: var(--jp-info-color0)\">INFO</span>: Found 3 sources in exposure</pre>"
      ],
      "text/plain": [
       "<IPython.core.display.HTML object>"
      ]
     },
     "metadata": {},
     "output_type": "display_data"
    },
    {
     "data": {
      "text/html": [
       "<pre style=\"margin: 0.1em;\n",
       "padding-left: 0.25em;\n",
       "border-left-style: solid;\n",
       "font-family: var(--jp-code-font-family);\n",
       "font-size: var(--jp-code-font-size);\n",
       "line-height: var(--jp-code-line-height);\n",
       "\"><span style=\"color: var(--jp-warn-color2)\">lsst.quickFrameMeasurementTask</span> <span style=\"color: var(--jp-info-color0)\">INFO</span>: Measured 3 of 3 sources in exposure</pre>"
      ],
      "text/plain": [
       "<IPython.core.display.HTML object>"
      ]
     },
     "metadata": {},
     "output_type": "display_data"
    },
    {
     "name": "stdout",
     "output_type": "stream",
     "text": [
      "(187.1542720363, -11.0225020788)\n"
     ]
    },
    {
     "data": {
      "text/html": [
       "<pre style=\"margin: 0.1em;\n",
       "padding-left: 0.25em;\n",
       "border-left-style: solid;\n",
       "font-family: var(--jp-code-font-family);\n",
       "font-size: var(--jp-code-font-size);\n",
       "line-height: var(--jp-code-line-height);\n",
       "\"><span style=\"color: var(--jp-warn-color2)\">lsst.quickFrameMeasurementTask</span> <span style=\"color: var(--jp-info-color0)\">INFO</span>: Found 3 sources in exposure</pre>"
      ],
      "text/plain": [
       "<IPython.core.display.HTML object>"
      ]
     },
     "metadata": {},
     "output_type": "display_data"
    },
    {
     "data": {
      "text/html": [
       "<pre style=\"margin: 0.1em;\n",
       "padding-left: 0.25em;\n",
       "border-left-style: solid;\n",
       "font-family: var(--jp-code-font-family);\n",
       "font-size: var(--jp-code-font-size);\n",
       "line-height: var(--jp-code-line-height);\n",
       "\"><span style=\"color: var(--jp-warn-color2)\">lsst.quickFrameMeasurementTask</span> <span style=\"color: var(--jp-info-color0)\">INFO</span>: Measured 3 of 3 sources in exposure</pre>"
      ],
      "text/plain": [
       "<IPython.core.display.HTML object>"
      ]
     },
     "metadata": {},
     "output_type": "display_data"
    },
    {
     "name": "stdout",
     "output_type": "stream",
     "text": [
      "2022050500317\n"
     ]
    },
    {
     "data": {
      "text/html": [
       "<pre style=\"margin: 0.1em;\n",
       "padding-left: 0.25em;\n",
       "border-left-style: solid;\n",
       "font-family: var(--jp-code-font-family);\n",
       "font-size: var(--jp-code-font-size);\n",
       "line-height: var(--jp-code-line-height);\n",
       "\"><span style=\"color: var(--jp-warn-color2)\">lsst.summit.utils.bestEffort</span> <span style=\"color: var(--jp-info-color0)\">INFO</span>: Found a ready-made quickLookExp in the repo. Returning that.</pre>"
      ],
      "text/plain": [
       "<IPython.core.display.HTML object>"
      ]
     },
     "metadata": {},
     "output_type": "display_data"
    },
    {
     "data": {
      "text/html": [
       "<pre style=\"margin: 0.1em;\n",
       "padding-left: 0.25em;\n",
       "border-left-style: solid;\n",
       "font-family: var(--jp-code-font-family);\n",
       "font-size: var(--jp-code-font-size);\n",
       "line-height: var(--jp-code-line-height);\n",
       "\"><span style=\"color: var(--jp-warn-color2)\">lsst.quickFrameMeasurementTask</span> <span style=\"color: var(--jp-info-color0)\">INFO</span>: Found 3 sources in exposure</pre>"
      ],
      "text/plain": [
       "<IPython.core.display.HTML object>"
      ]
     },
     "metadata": {},
     "output_type": "display_data"
    },
    {
     "data": {
      "text/html": [
       "<pre style=\"margin: 0.1em;\n",
       "padding-left: 0.25em;\n",
       "border-left-style: solid;\n",
       "font-family: var(--jp-code-font-family);\n",
       "font-size: var(--jp-code-font-size);\n",
       "line-height: var(--jp-code-line-height);\n",
       "\"><span style=\"color: var(--jp-warn-color2)\">lsst.quickFrameMeasurementTask</span> <span style=\"color: var(--jp-info-color0)\">INFO</span>: Measured 3 of 3 sources in exposure</pre>"
      ],
      "text/plain": [
       "<IPython.core.display.HTML object>"
      ]
     },
     "metadata": {},
     "output_type": "display_data"
    },
    {
     "name": "stdout",
     "output_type": "stream",
     "text": [
      "(204.8259802891, -12.0929369888)\n"
     ]
    },
    {
     "data": {
      "text/html": [
       "<pre style=\"margin: 0.1em;\n",
       "padding-left: 0.25em;\n",
       "border-left-style: solid;\n",
       "font-family: var(--jp-code-font-family);\n",
       "font-size: var(--jp-code-font-size);\n",
       "line-height: var(--jp-code-line-height);\n",
       "\"><span style=\"color: var(--jp-warn-color2)\">lsst.quickFrameMeasurementTask</span> <span style=\"color: var(--jp-info-color0)\">INFO</span>: Found 3 sources in exposure</pre>"
      ],
      "text/plain": [
       "<IPython.core.display.HTML object>"
      ]
     },
     "metadata": {},
     "output_type": "display_data"
    },
    {
     "data": {
      "text/html": [
       "<pre style=\"margin: 0.1em;\n",
       "padding-left: 0.25em;\n",
       "border-left-style: solid;\n",
       "font-family: var(--jp-code-font-family);\n",
       "font-size: var(--jp-code-font-size);\n",
       "line-height: var(--jp-code-line-height);\n",
       "\"><span style=\"color: var(--jp-warn-color2)\">lsst.quickFrameMeasurementTask</span> <span style=\"color: var(--jp-info-color0)\">INFO</span>: Measured 3 of 3 sources in exposure</pre>"
      ],
      "text/plain": [
       "<IPython.core.display.HTML object>"
      ]
     },
     "metadata": {},
     "output_type": "display_data"
    },
    {
     "name": "stdout",
     "output_type": "stream",
     "text": [
      "2022050500319\n"
     ]
    },
    {
     "data": {
      "text/html": [
       "<pre style=\"margin: 0.1em;\n",
       "padding-left: 0.25em;\n",
       "border-left-style: solid;\n",
       "font-family: var(--jp-code-font-family);\n",
       "font-size: var(--jp-code-font-size);\n",
       "line-height: var(--jp-code-line-height);\n",
       "\"><span style=\"color: var(--jp-warn-color2)\">lsst.summit.utils.bestEffort</span> <span style=\"color: var(--jp-info-color0)\">INFO</span>: Found a ready-made quickLookExp in the repo. Returning that.</pre>"
      ],
      "text/plain": [
       "<IPython.core.display.HTML object>"
      ]
     },
     "metadata": {},
     "output_type": "display_data"
    },
    {
     "data": {
      "text/html": [
       "<pre style=\"margin: 0.1em;\n",
       "padding-left: 0.25em;\n",
       "border-left-style: solid;\n",
       "font-family: var(--jp-code-font-family);\n",
       "font-size: var(--jp-code-font-size);\n",
       "line-height: var(--jp-code-line-height);\n",
       "\"><span style=\"color: var(--jp-warn-color2)\">lsst.quickFrameMeasurementTask</span> <span style=\"color: var(--jp-info-color0)\">INFO</span>: Found 3 sources in exposure</pre>"
      ],
      "text/plain": [
       "<IPython.core.display.HTML object>"
      ]
     },
     "metadata": {},
     "output_type": "display_data"
    },
    {
     "data": {
      "text/html": [
       "<pre style=\"margin: 0.1em;\n",
       "padding-left: 0.25em;\n",
       "border-left-style: solid;\n",
       "font-family: var(--jp-code-font-family);\n",
       "font-size: var(--jp-code-font-size);\n",
       "line-height: var(--jp-code-line-height);\n",
       "\"><span style=\"color: var(--jp-warn-color2)\">lsst.quickFrameMeasurementTask</span> <span style=\"color: var(--jp-info-color0)\">INFO</span>: Measured 3 of 3 sources in exposure</pre>"
      ],
      "text/plain": [
       "<IPython.core.display.HTML object>"
      ]
     },
     "metadata": {},
     "output_type": "display_data"
    },
    {
     "name": "stdout",
     "output_type": "stream",
     "text": [
      "(186.1699807444, -28.9451518781)\n"
     ]
    },
    {
     "data": {
      "text/html": [
       "<pre style=\"margin: 0.1em;\n",
       "padding-left: 0.25em;\n",
       "border-left-style: solid;\n",
       "font-family: var(--jp-code-font-family);\n",
       "font-size: var(--jp-code-font-size);\n",
       "line-height: var(--jp-code-line-height);\n",
       "\"><span style=\"color: var(--jp-warn-color2)\">lsst.quickFrameMeasurementTask</span> <span style=\"color: var(--jp-info-color0)\">INFO</span>: Found 3 sources in exposure</pre>"
      ],
      "text/plain": [
       "<IPython.core.display.HTML object>"
      ]
     },
     "metadata": {},
     "output_type": "display_data"
    },
    {
     "data": {
      "text/html": [
       "<pre style=\"margin: 0.1em;\n",
       "padding-left: 0.25em;\n",
       "border-left-style: solid;\n",
       "font-family: var(--jp-code-font-family);\n",
       "font-size: var(--jp-code-font-size);\n",
       "line-height: var(--jp-code-line-height);\n",
       "\"><span style=\"color: var(--jp-warn-color2)\">lsst.quickFrameMeasurementTask</span> <span style=\"color: var(--jp-info-color0)\">INFO</span>: Measured 3 of 3 sources in exposure</pre>"
      ],
      "text/plain": [
       "<IPython.core.display.HTML object>"
      ]
     },
     "metadata": {},
     "output_type": "display_data"
    },
    {
     "name": "stdout",
     "output_type": "stream",
     "text": [
      "2022050500321\n"
     ]
    },
    {
     "data": {
      "text/html": [
       "<pre style=\"margin: 0.1em;\n",
       "padding-left: 0.25em;\n",
       "border-left-style: solid;\n",
       "font-family: var(--jp-code-font-family);\n",
       "font-size: var(--jp-code-font-size);\n",
       "line-height: var(--jp-code-line-height);\n",
       "\"><span style=\"color: var(--jp-warn-color2)\">lsst.summit.utils.bestEffort</span> <span style=\"color: var(--jp-info-color0)\">INFO</span>: Found a ready-made quickLookExp in the repo. Returning that.</pre>"
      ],
      "text/plain": [
       "<IPython.core.display.HTML object>"
      ]
     },
     "metadata": {},
     "output_type": "display_data"
    },
    {
     "data": {
      "text/html": [
       "<pre style=\"margin: 0.1em;\n",
       "padding-left: 0.25em;\n",
       "border-left-style: solid;\n",
       "font-family: var(--jp-code-font-family);\n",
       "font-size: var(--jp-code-font-size);\n",
       "line-height: var(--jp-code-line-height);\n",
       "\"><span style=\"color: var(--jp-warn-color2)\">lsst.quickFrameMeasurementTask</span> <span style=\"color: var(--jp-info-color0)\">INFO</span>: Found 1 sources in exposure</pre>"
      ],
      "text/plain": [
       "<IPython.core.display.HTML object>"
      ]
     },
     "metadata": {},
     "output_type": "display_data"
    },
    {
     "data": {
      "text/html": [
       "<pre style=\"margin: 0.1em;\n",
       "padding-left: 0.25em;\n",
       "border-left-style: solid;\n",
       "font-family: var(--jp-code-font-family);\n",
       "font-size: var(--jp-code-font-size);\n",
       "line-height: var(--jp-code-line-height);\n",
       "\"><span style=\"color: var(--jp-warn-color2)\">lsst.quickFrameMeasurementTask</span> <span style=\"color: var(--jp-info-color0)\">INFO</span>: Measured 1 of 1 sources in exposure</pre>"
      ],
      "text/plain": [
       "<IPython.core.display.HTML object>"
      ]
     },
     "metadata": {},
     "output_type": "display_data"
    },
    {
     "name": "stdout",
     "output_type": "stream",
     "text": [
      "(185.5209036304, -31.9474858479)\n"
     ]
    },
    {
     "data": {
      "text/html": [
       "<pre style=\"margin: 0.1em;\n",
       "padding-left: 0.25em;\n",
       "border-left-style: solid;\n",
       "font-family: var(--jp-code-font-family);\n",
       "font-size: var(--jp-code-font-size);\n",
       "line-height: var(--jp-code-line-height);\n",
       "\"><span style=\"color: var(--jp-warn-color2)\">lsst.quickFrameMeasurementTask</span> <span style=\"color: var(--jp-info-color0)\">INFO</span>: Found 1 sources in exposure</pre>"
      ],
      "text/plain": [
       "<IPython.core.display.HTML object>"
      ]
     },
     "metadata": {},
     "output_type": "display_data"
    },
    {
     "data": {
      "text/html": [
       "<pre style=\"margin: 0.1em;\n",
       "padding-left: 0.25em;\n",
       "border-left-style: solid;\n",
       "font-family: var(--jp-code-font-family);\n",
       "font-size: var(--jp-code-font-size);\n",
       "line-height: var(--jp-code-line-height);\n",
       "\"><span style=\"color: var(--jp-warn-color2)\">lsst.quickFrameMeasurementTask</span> <span style=\"color: var(--jp-info-color0)\">INFO</span>: Measured 1 of 1 sources in exposure</pre>"
      ],
      "text/plain": [
       "<IPython.core.display.HTML object>"
      ]
     },
     "metadata": {},
     "output_type": "display_data"
    },
    {
     "name": "stdout",
     "output_type": "stream",
     "text": [
      "2022050500323\n"
     ]
    },
    {
     "data": {
      "text/html": [
       "<pre style=\"margin: 0.1em;\n",
       "padding-left: 0.25em;\n",
       "border-left-style: solid;\n",
       "font-family: var(--jp-code-font-family);\n",
       "font-size: var(--jp-code-font-size);\n",
       "line-height: var(--jp-code-line-height);\n",
       "\"><span style=\"color: var(--jp-warn-color2)\">lsst.summit.utils.bestEffort</span> <span style=\"color: var(--jp-info-color0)\">INFO</span>: Found a ready-made quickLookExp in the repo. Returning that.</pre>"
      ],
      "text/plain": [
       "<IPython.core.display.HTML object>"
      ]
     },
     "metadata": {},
     "output_type": "display_data"
    },
    {
     "data": {
      "text/html": [
       "<pre style=\"margin: 0.1em;\n",
       "padding-left: 0.25em;\n",
       "border-left-style: solid;\n",
       "font-family: var(--jp-code-font-family);\n",
       "font-size: var(--jp-code-font-size);\n",
       "line-height: var(--jp-code-line-height);\n",
       "\"><span style=\"color: var(--jp-warn-color2)\">lsst.quickFrameMeasurementTask</span> <span style=\"color: var(--jp-info-color0)\">INFO</span>: Found 4 sources in exposure</pre>"
      ],
      "text/plain": [
       "<IPython.core.display.HTML object>"
      ]
     },
     "metadata": {},
     "output_type": "display_data"
    },
    {
     "data": {
      "text/html": [
       "<pre style=\"margin: 0.1em;\n",
       "padding-left: 0.25em;\n",
       "border-left-style: solid;\n",
       "font-family: var(--jp-code-font-family);\n",
       "font-size: var(--jp-code-font-size);\n",
       "line-height: var(--jp-code-line-height);\n",
       "\"><span style=\"color: var(--jp-warn-color2)\">lsst.quickFrameMeasurementTask</span> <span style=\"color: var(--jp-info-color0)\">INFO</span>: Measured 4 of 4 sources in exposure</pre>"
      ],
      "text/plain": [
       "<IPython.core.display.HTML object>"
      ]
     },
     "metadata": {},
     "output_type": "display_data"
    },
    {
     "name": "stdout",
     "output_type": "stream",
     "text": [
      "(216.5021607706, -30.2868985458)\n"
     ]
    },
    {
     "data": {
      "text/html": [
       "<pre style=\"margin: 0.1em;\n",
       "padding-left: 0.25em;\n",
       "border-left-style: solid;\n",
       "font-family: var(--jp-code-font-family);\n",
       "font-size: var(--jp-code-font-size);\n",
       "line-height: var(--jp-code-line-height);\n",
       "\"><span style=\"color: var(--jp-warn-color2)\">lsst.quickFrameMeasurementTask</span> <span style=\"color: var(--jp-info-color0)\">INFO</span>: Found 4 sources in exposure</pre>"
      ],
      "text/plain": [
       "<IPython.core.display.HTML object>"
      ]
     },
     "metadata": {},
     "output_type": "display_data"
    },
    {
     "data": {
      "text/html": [
       "<pre style=\"margin: 0.1em;\n",
       "padding-left: 0.25em;\n",
       "border-left-style: solid;\n",
       "font-family: var(--jp-code-font-family);\n",
       "font-size: var(--jp-code-font-size);\n",
       "line-height: var(--jp-code-line-height);\n",
       "\"><span style=\"color: var(--jp-warn-color2)\">lsst.quickFrameMeasurementTask</span> <span style=\"color: var(--jp-info-color0)\">INFO</span>: Measured 4 of 4 sources in exposure</pre>"
      ],
      "text/plain": [
       "<IPython.core.display.HTML object>"
      ]
     },
     "metadata": {},
     "output_type": "display_data"
    },
    {
     "name": "stdout",
     "output_type": "stream",
     "text": [
      "2022050500325\n"
     ]
    },
    {
     "data": {
      "text/html": [
       "<pre style=\"margin: 0.1em;\n",
       "padding-left: 0.25em;\n",
       "border-left-style: solid;\n",
       "font-family: var(--jp-code-font-family);\n",
       "font-size: var(--jp-code-font-size);\n",
       "line-height: var(--jp-code-line-height);\n",
       "\"><span style=\"color: var(--jp-warn-color2)\">lsst.summit.utils.bestEffort</span> <span style=\"color: var(--jp-info-color0)\">INFO</span>: Found a ready-made quickLookExp in the repo. Returning that.</pre>"
      ],
      "text/plain": [
       "<IPython.core.display.HTML object>"
      ]
     },
     "metadata": {},
     "output_type": "display_data"
    },
    {
     "data": {
      "text/html": [
       "<pre style=\"margin: 0.1em;\n",
       "padding-left: 0.25em;\n",
       "border-left-style: solid;\n",
       "font-family: var(--jp-code-font-family);\n",
       "font-size: var(--jp-code-font-size);\n",
       "line-height: var(--jp-code-line-height);\n",
       "\"><span style=\"color: var(--jp-warn-color2)\">lsst.quickFrameMeasurementTask</span> <span style=\"color: var(--jp-info-color0)\">INFO</span>: Found 4 sources in exposure</pre>"
      ],
      "text/plain": [
       "<IPython.core.display.HTML object>"
      ]
     },
     "metadata": {},
     "output_type": "display_data"
    },
    {
     "data": {
      "text/html": [
       "<pre style=\"margin: 0.1em;\n",
       "padding-left: 0.25em;\n",
       "border-left-style: solid;\n",
       "font-family: var(--jp-code-font-family);\n",
       "font-size: var(--jp-code-font-size);\n",
       "line-height: var(--jp-code-line-height);\n",
       "\"><span style=\"color: var(--jp-warn-color2)\">lsst.quickFrameMeasurementTask</span> <span style=\"color: var(--jp-info-color0)\">INFO</span>: Measured 4 of 4 sources in exposure</pre>"
      ],
      "text/plain": [
       "<IPython.core.display.HTML object>"
      ]
     },
     "metadata": {},
     "output_type": "display_data"
    },
    {
     "name": "stdout",
     "output_type": "stream",
     "text": [
      "(169.4941966796, -36.5971858480)\n"
     ]
    },
    {
     "data": {
      "text/html": [
       "<pre style=\"margin: 0.1em;\n",
       "padding-left: 0.25em;\n",
       "border-left-style: solid;\n",
       "font-family: var(--jp-code-font-family);\n",
       "font-size: var(--jp-code-font-size);\n",
       "line-height: var(--jp-code-line-height);\n",
       "\"><span style=\"color: var(--jp-warn-color2)\">lsst.quickFrameMeasurementTask</span> <span style=\"color: var(--jp-info-color0)\">INFO</span>: Found 4 sources in exposure</pre>"
      ],
      "text/plain": [
       "<IPython.core.display.HTML object>"
      ]
     },
     "metadata": {},
     "output_type": "display_data"
    },
    {
     "data": {
      "text/html": [
       "<pre style=\"margin: 0.1em;\n",
       "padding-left: 0.25em;\n",
       "border-left-style: solid;\n",
       "font-family: var(--jp-code-font-family);\n",
       "font-size: var(--jp-code-font-size);\n",
       "line-height: var(--jp-code-line-height);\n",
       "\"><span style=\"color: var(--jp-warn-color2)\">lsst.quickFrameMeasurementTask</span> <span style=\"color: var(--jp-info-color0)\">INFO</span>: Measured 4 of 4 sources in exposure</pre>"
      ],
      "text/plain": [
       "<IPython.core.display.HTML object>"
      ]
     },
     "metadata": {},
     "output_type": "display_data"
    },
    {
     "name": "stdout",
     "output_type": "stream",
     "text": [
      "2022050500327\n"
     ]
    },
    {
     "data": {
      "text/html": [
       "<pre style=\"margin: 0.1em;\n",
       "padding-left: 0.25em;\n",
       "border-left-style: solid;\n",
       "font-family: var(--jp-code-font-family);\n",
       "font-size: var(--jp-code-font-size);\n",
       "line-height: var(--jp-code-line-height);\n",
       "\"><span style=\"color: var(--jp-warn-color2)\">lsst.summit.utils.bestEffort</span> <span style=\"color: var(--jp-info-color0)\">INFO</span>: Found a ready-made quickLookExp in the repo. Returning that.</pre>"
      ],
      "text/plain": [
       "<IPython.core.display.HTML object>"
      ]
     },
     "metadata": {},
     "output_type": "display_data"
    },
    {
     "data": {
      "text/html": [
       "<pre style=\"margin: 0.1em;\n",
       "padding-left: 0.25em;\n",
       "border-left-style: solid;\n",
       "font-family: var(--jp-code-font-family);\n",
       "font-size: var(--jp-code-font-size);\n",
       "line-height: var(--jp-code-line-height);\n",
       "\"><span style=\"color: var(--jp-warn-color2)\">lsst.quickFrameMeasurementTask</span> <span style=\"color: var(--jp-info-color0)\">INFO</span>: Found 3 sources in exposure</pre>"
      ],
      "text/plain": [
       "<IPython.core.display.HTML object>"
      ]
     },
     "metadata": {},
     "output_type": "display_data"
    },
    {
     "data": {
      "text/html": [
       "<pre style=\"margin: 0.1em;\n",
       "padding-left: 0.25em;\n",
       "border-left-style: solid;\n",
       "font-family: var(--jp-code-font-family);\n",
       "font-size: var(--jp-code-font-size);\n",
       "line-height: var(--jp-code-line-height);\n",
       "\"><span style=\"color: var(--jp-warn-color2)\">lsst.quickFrameMeasurementTask</span> <span style=\"color: var(--jp-info-color0)\">INFO</span>: Measured 3 of 3 sources in exposure</pre>"
      ],
      "text/plain": [
       "<IPython.core.display.HTML object>"
      ]
     },
     "metadata": {},
     "output_type": "display_data"
    },
    {
     "name": "stdout",
     "output_type": "stream",
     "text": [
      "(192.2682970190, -43.9502198306)\n"
     ]
    },
    {
     "data": {
      "text/html": [
       "<pre style=\"margin: 0.1em;\n",
       "padding-left: 0.25em;\n",
       "border-left-style: solid;\n",
       "font-family: var(--jp-code-font-family);\n",
       "font-size: var(--jp-code-font-size);\n",
       "line-height: var(--jp-code-line-height);\n",
       "\"><span style=\"color: var(--jp-warn-color2)\">lsst.quickFrameMeasurementTask</span> <span style=\"color: var(--jp-info-color0)\">INFO</span>: Found 3 sources in exposure</pre>"
      ],
      "text/plain": [
       "<IPython.core.display.HTML object>"
      ]
     },
     "metadata": {},
     "output_type": "display_data"
    },
    {
     "data": {
      "text/html": [
       "<pre style=\"margin: 0.1em;\n",
       "padding-left: 0.25em;\n",
       "border-left-style: solid;\n",
       "font-family: var(--jp-code-font-family);\n",
       "font-size: var(--jp-code-font-size);\n",
       "line-height: var(--jp-code-line-height);\n",
       "\"><span style=\"color: var(--jp-warn-color2)\">lsst.quickFrameMeasurementTask</span> <span style=\"color: var(--jp-info-color0)\">INFO</span>: Measured 3 of 3 sources in exposure</pre>"
      ],
      "text/plain": [
       "<IPython.core.display.HTML object>"
      ]
     },
     "metadata": {},
     "output_type": "display_data"
    },
    {
     "name": "stdout",
     "output_type": "stream",
     "text": [
      "2022050500329\n"
     ]
    },
    {
     "data": {
      "text/html": [
       "<pre style=\"margin: 0.1em;\n",
       "padding-left: 0.25em;\n",
       "border-left-style: solid;\n",
       "font-family: var(--jp-code-font-family);\n",
       "font-size: var(--jp-code-font-size);\n",
       "line-height: var(--jp-code-line-height);\n",
       "\"><span style=\"color: var(--jp-warn-color2)\">lsst.summit.utils.bestEffort</span> <span style=\"color: var(--jp-info-color0)\">INFO</span>: Found a ready-made quickLookExp in the repo. Returning that.</pre>"
      ],
      "text/plain": [
       "<IPython.core.display.HTML object>"
      ]
     },
     "metadata": {},
     "output_type": "display_data"
    },
    {
     "data": {
      "text/html": [
       "<pre style=\"margin: 0.1em;\n",
       "padding-left: 0.25em;\n",
       "border-left-style: solid;\n",
       "font-family: var(--jp-code-font-family);\n",
       "font-size: var(--jp-code-font-size);\n",
       "line-height: var(--jp-code-line-height);\n",
       "\"><span style=\"color: var(--jp-warn-color2)\">lsst.quickFrameMeasurementTask</span> <span style=\"color: var(--jp-info-color0)\">INFO</span>: Found 2 sources in exposure</pre>"
      ],
      "text/plain": [
       "<IPython.core.display.HTML object>"
      ]
     },
     "metadata": {},
     "output_type": "display_data"
    },
    {
     "data": {
      "text/html": [
       "<pre style=\"margin: 0.1em;\n",
       "padding-left: 0.25em;\n",
       "border-left-style: solid;\n",
       "font-family: var(--jp-code-font-family);\n",
       "font-size: var(--jp-code-font-size);\n",
       "line-height: var(--jp-code-line-height);\n",
       "\"><span style=\"color: var(--jp-warn-color2)\">lsst.quickFrameMeasurementTask</span> <span style=\"color: var(--jp-info-color0)\">INFO</span>: Measured 2 of 2 sources in exposure</pre>"
      ],
      "text/plain": [
       "<IPython.core.display.HTML object>"
      ]
     },
     "metadata": {},
     "output_type": "display_data"
    },
    {
     "name": "stdout",
     "output_type": "stream",
     "text": [
      "(218.3099029709, -50.9339682280)\n"
     ]
    },
    {
     "data": {
      "text/html": [
       "<pre style=\"margin: 0.1em;\n",
       "padding-left: 0.25em;\n",
       "border-left-style: solid;\n",
       "font-family: var(--jp-code-font-family);\n",
       "font-size: var(--jp-code-font-size);\n",
       "line-height: var(--jp-code-line-height);\n",
       "\"><span style=\"color: var(--jp-warn-color2)\">lsst.quickFrameMeasurementTask</span> <span style=\"color: var(--jp-info-color0)\">INFO</span>: Found 2 sources in exposure</pre>"
      ],
      "text/plain": [
       "<IPython.core.display.HTML object>"
      ]
     },
     "metadata": {},
     "output_type": "display_data"
    },
    {
     "data": {
      "text/html": [
       "<pre style=\"margin: 0.1em;\n",
       "padding-left: 0.25em;\n",
       "border-left-style: solid;\n",
       "font-family: var(--jp-code-font-family);\n",
       "font-size: var(--jp-code-font-size);\n",
       "line-height: var(--jp-code-line-height);\n",
       "\"><span style=\"color: var(--jp-warn-color2)\">lsst.quickFrameMeasurementTask</span> <span style=\"color: var(--jp-info-color0)\">INFO</span>: Measured 2 of 2 sources in exposure</pre>"
      ],
      "text/plain": [
       "<IPython.core.display.HTML object>"
      ]
     },
     "metadata": {},
     "output_type": "display_data"
    },
    {
     "name": "stdout",
     "output_type": "stream",
     "text": [
      "2022050500331\n"
     ]
    },
    {
     "data": {
      "text/html": [
       "<pre style=\"margin: 0.1em;\n",
       "padding-left: 0.25em;\n",
       "border-left-style: solid;\n",
       "font-family: var(--jp-code-font-family);\n",
       "font-size: var(--jp-code-font-size);\n",
       "line-height: var(--jp-code-line-height);\n",
       "\"><span style=\"color: var(--jp-warn-color2)\">lsst.summit.utils.bestEffort</span> <span style=\"color: var(--jp-info-color0)\">INFO</span>: Found a ready-made quickLookExp in the repo. Returning that.</pre>"
      ],
      "text/plain": [
       "<IPython.core.display.HTML object>"
      ]
     },
     "metadata": {},
     "output_type": "display_data"
    },
    {
     "data": {
      "text/html": [
       "<pre style=\"margin: 0.1em;\n",
       "padding-left: 0.25em;\n",
       "border-left-style: solid;\n",
       "font-family: var(--jp-code-font-family);\n",
       "font-size: var(--jp-code-font-size);\n",
       "line-height: var(--jp-code-line-height);\n",
       "\"><span style=\"color: var(--jp-warn-color2)\">lsst.quickFrameMeasurementTask</span> <span style=\"color: var(--jp-info-color0)\">INFO</span>: Found 5 sources in exposure</pre>"
      ],
      "text/plain": [
       "<IPython.core.display.HTML object>"
      ]
     },
     "metadata": {},
     "output_type": "display_data"
    },
    {
     "data": {
      "text/html": [
       "<pre style=\"margin: 0.1em;\n",
       "padding-left: 0.25em;\n",
       "border-left-style: solid;\n",
       "font-family: var(--jp-code-font-family);\n",
       "font-size: var(--jp-code-font-size);\n",
       "line-height: var(--jp-code-line-height);\n",
       "\"><span style=\"color: var(--jp-warn-color2)\">lsst.quickFrameMeasurementTask</span> <span style=\"color: var(--jp-info-color0)\">INFO</span>: Measured 5 of 5 sources in exposure</pre>"
      ],
      "text/plain": [
       "<IPython.core.display.HTML object>"
      ]
     },
     "metadata": {},
     "output_type": "display_data"
    },
    {
     "name": "stdout",
     "output_type": "stream",
     "text": [
      "(186.8606201531, -51.6672636854)\n"
     ]
    },
    {
     "data": {
      "text/html": [
       "<pre style=\"margin: 0.1em;\n",
       "padding-left: 0.25em;\n",
       "border-left-style: solid;\n",
       "font-family: var(--jp-code-font-family);\n",
       "font-size: var(--jp-code-font-size);\n",
       "line-height: var(--jp-code-line-height);\n",
       "\"><span style=\"color: var(--jp-warn-color2)\">lsst.quickFrameMeasurementTask</span> <span style=\"color: var(--jp-info-color0)\">INFO</span>: Found 5 sources in exposure</pre>"
      ],
      "text/plain": [
       "<IPython.core.display.HTML object>"
      ]
     },
     "metadata": {},
     "output_type": "display_data"
    },
    {
     "data": {
      "text/html": [
       "<pre style=\"margin: 0.1em;\n",
       "padding-left: 0.25em;\n",
       "border-left-style: solid;\n",
       "font-family: var(--jp-code-font-family);\n",
       "font-size: var(--jp-code-font-size);\n",
       "line-height: var(--jp-code-line-height);\n",
       "\"><span style=\"color: var(--jp-warn-color2)\">lsst.quickFrameMeasurementTask</span> <span style=\"color: var(--jp-info-color0)\">INFO</span>: Measured 5 of 5 sources in exposure</pre>"
      ],
      "text/plain": [
       "<IPython.core.display.HTML object>"
      ]
     },
     "metadata": {},
     "output_type": "display_data"
    },
    {
     "name": "stdout",
     "output_type": "stream",
     "text": [
      "2022050500333\n"
     ]
    },
    {
     "data": {
      "text/html": [
       "<pre style=\"margin: 0.1em;\n",
       "padding-left: 0.25em;\n",
       "border-left-style: solid;\n",
       "font-family: var(--jp-code-font-family);\n",
       "font-size: var(--jp-code-font-size);\n",
       "line-height: var(--jp-code-line-height);\n",
       "\"><span style=\"color: var(--jp-warn-color2)\">lsst.summit.utils.bestEffort</span> <span style=\"color: var(--jp-info-color0)\">INFO</span>: Found a ready-made quickLookExp in the repo. Returning that.</pre>"
      ],
      "text/plain": [
       "<IPython.core.display.HTML object>"
      ]
     },
     "metadata": {},
     "output_type": "display_data"
    },
    {
     "data": {
      "text/html": [
       "<pre style=\"margin: 0.1em;\n",
       "padding-left: 0.25em;\n",
       "border-left-style: solid;\n",
       "font-family: var(--jp-code-font-family);\n",
       "font-size: var(--jp-code-font-size);\n",
       "line-height: var(--jp-code-line-height);\n",
       "\"><span style=\"color: var(--jp-warn-color2)\">lsst.quickFrameMeasurementTask</span> <span style=\"color: var(--jp-info-color0)\">INFO</span>: Found 5 sources in exposure</pre>"
      ],
      "text/plain": [
       "<IPython.core.display.HTML object>"
      ]
     },
     "metadata": {},
     "output_type": "display_data"
    },
    {
     "data": {
      "text/html": [
       "<pre style=\"margin: 0.1em;\n",
       "padding-left: 0.25em;\n",
       "border-left-style: solid;\n",
       "font-family: var(--jp-code-font-family);\n",
       "font-size: var(--jp-code-font-size);\n",
       "line-height: var(--jp-code-line-height);\n",
       "\"><span style=\"color: var(--jp-warn-color2)\">lsst.quickFrameMeasurementTask</span> <span style=\"color: var(--jp-info-color0)\">INFO</span>: Measured 5 of 5 sources in exposure</pre>"
      ],
      "text/plain": [
       "<IPython.core.display.HTML object>"
      ]
     },
     "metadata": {},
     "output_type": "display_data"
    },
    {
     "name": "stdout",
     "output_type": "stream",
     "text": [
      "(148.3112811536, -37.4288569826)\n"
     ]
    },
    {
     "data": {
      "text/html": [
       "<pre style=\"margin: 0.1em;\n",
       "padding-left: 0.25em;\n",
       "border-left-style: solid;\n",
       "font-family: var(--jp-code-font-family);\n",
       "font-size: var(--jp-code-font-size);\n",
       "line-height: var(--jp-code-line-height);\n",
       "\"><span style=\"color: var(--jp-warn-color2)\">lsst.quickFrameMeasurementTask</span> <span style=\"color: var(--jp-info-color0)\">INFO</span>: Found 5 sources in exposure</pre>"
      ],
      "text/plain": [
       "<IPython.core.display.HTML object>"
      ]
     },
     "metadata": {},
     "output_type": "display_data"
    },
    {
     "data": {
      "text/html": [
       "<pre style=\"margin: 0.1em;\n",
       "padding-left: 0.25em;\n",
       "border-left-style: solid;\n",
       "font-family: var(--jp-code-font-family);\n",
       "font-size: var(--jp-code-font-size);\n",
       "line-height: var(--jp-code-line-height);\n",
       "\"><span style=\"color: var(--jp-warn-color2)\">lsst.quickFrameMeasurementTask</span> <span style=\"color: var(--jp-info-color0)\">INFO</span>: Measured 5 of 5 sources in exposure</pre>"
      ],
      "text/plain": [
       "<IPython.core.display.HTML object>"
      ]
     },
     "metadata": {},
     "output_type": "display_data"
    },
    {
     "name": "stdout",
     "output_type": "stream",
     "text": [
      "2022050500335\n"
     ]
    },
    {
     "data": {
      "text/html": [
       "<pre style=\"margin: 0.1em;\n",
       "padding-left: 0.25em;\n",
       "border-left-style: solid;\n",
       "font-family: var(--jp-code-font-family);\n",
       "font-size: var(--jp-code-font-size);\n",
       "line-height: var(--jp-code-line-height);\n",
       "\"><span style=\"color: var(--jp-warn-color2)\">lsst.summit.utils.bestEffort</span> <span style=\"color: var(--jp-info-color0)\">INFO</span>: Found a ready-made quickLookExp in the repo. Returning that.</pre>"
      ],
      "text/plain": [
       "<IPython.core.display.HTML object>"
      ]
     },
     "metadata": {},
     "output_type": "display_data"
    },
    {
     "data": {
      "text/html": [
       "<pre style=\"margin: 0.1em;\n",
       "padding-left: 0.25em;\n",
       "border-left-style: solid;\n",
       "font-family: var(--jp-code-font-family);\n",
       "font-size: var(--jp-code-font-size);\n",
       "line-height: var(--jp-code-line-height);\n",
       "\"><span style=\"color: var(--jp-warn-color2)\">lsst.quickFrameMeasurementTask</span> <span style=\"color: var(--jp-info-color0)\">INFO</span>: Found 3 sources in exposure</pre>"
      ],
      "text/plain": [
       "<IPython.core.display.HTML object>"
      ]
     },
     "metadata": {},
     "output_type": "display_data"
    },
    {
     "data": {
      "text/html": [
       "<pre style=\"margin: 0.1em;\n",
       "padding-left: 0.25em;\n",
       "border-left-style: solid;\n",
       "font-family: var(--jp-code-font-family);\n",
       "font-size: var(--jp-code-font-size);\n",
       "line-height: var(--jp-code-line-height);\n",
       "\"><span style=\"color: var(--jp-warn-color2)\">lsst.quickFrameMeasurementTask</span> <span style=\"color: var(--jp-info-color0)\">INFO</span>: Measured 3 of 3 sources in exposure</pre>"
      ],
      "text/plain": [
       "<IPython.core.display.HTML object>"
      ]
     },
     "metadata": {},
     "output_type": "display_data"
    },
    {
     "name": "stdout",
     "output_type": "stream",
     "text": [
      "(231.1223613948, -59.7525235849)\n"
     ]
    },
    {
     "data": {
      "text/html": [
       "<pre style=\"margin: 0.1em;\n",
       "padding-left: 0.25em;\n",
       "border-left-style: solid;\n",
       "font-family: var(--jp-code-font-family);\n",
       "font-size: var(--jp-code-font-size);\n",
       "line-height: var(--jp-code-line-height);\n",
       "\"><span style=\"color: var(--jp-warn-color2)\">lsst.quickFrameMeasurementTask</span> <span style=\"color: var(--jp-info-color0)\">INFO</span>: Found 3 sources in exposure</pre>"
      ],
      "text/plain": [
       "<IPython.core.display.HTML object>"
      ]
     },
     "metadata": {},
     "output_type": "display_data"
    },
    {
     "data": {
      "text/html": [
       "<pre style=\"margin: 0.1em;\n",
       "padding-left: 0.25em;\n",
       "border-left-style: solid;\n",
       "font-family: var(--jp-code-font-family);\n",
       "font-size: var(--jp-code-font-size);\n",
       "line-height: var(--jp-code-line-height);\n",
       "\"><span style=\"color: var(--jp-warn-color2)\">lsst.quickFrameMeasurementTask</span> <span style=\"color: var(--jp-info-color0)\">INFO</span>: Measured 3 of 3 sources in exposure</pre>"
      ],
      "text/plain": [
       "<IPython.core.display.HTML object>"
      ]
     },
     "metadata": {},
     "output_type": "display_data"
    },
    {
     "name": "stdout",
     "output_type": "stream",
     "text": [
      "2022050500337\n"
     ]
    },
    {
     "data": {
      "text/html": [
       "<pre style=\"margin: 0.1em;\n",
       "padding-left: 0.25em;\n",
       "border-left-style: solid;\n",
       "font-family: var(--jp-code-font-family);\n",
       "font-size: var(--jp-code-font-size);\n",
       "line-height: var(--jp-code-line-height);\n",
       "\"><span style=\"color: var(--jp-warn-color2)\">lsst.summit.utils.bestEffort</span> <span style=\"color: var(--jp-info-color0)\">INFO</span>: Found a ready-made quickLookExp in the repo. Returning that.</pre>"
      ],
      "text/plain": [
       "<IPython.core.display.HTML object>"
      ]
     },
     "metadata": {},
     "output_type": "display_data"
    },
    {
     "data": {
      "text/html": [
       "<pre style=\"margin: 0.1em;\n",
       "padding-left: 0.25em;\n",
       "border-left-style: solid;\n",
       "font-family: var(--jp-code-font-family);\n",
       "font-size: var(--jp-code-font-size);\n",
       "line-height: var(--jp-code-line-height);\n",
       "\"><span style=\"color: var(--jp-warn-color2)\">lsst.quickFrameMeasurementTask</span> <span style=\"color: var(--jp-info-color0)\">INFO</span>: Found 3 sources in exposure</pre>"
      ],
      "text/plain": [
       "<IPython.core.display.HTML object>"
      ]
     },
     "metadata": {},
     "output_type": "display_data"
    },
    {
     "data": {
      "text/html": [
       "<pre style=\"margin: 0.1em;\n",
       "padding-left: 0.25em;\n",
       "border-left-style: solid;\n",
       "font-family: var(--jp-code-font-family);\n",
       "font-size: var(--jp-code-font-size);\n",
       "line-height: var(--jp-code-line-height);\n",
       "\"><span style=\"color: var(--jp-warn-color2)\">lsst.quickFrameMeasurementTask</span> <span style=\"color: var(--jp-info-color0)\">INFO</span>: Measured 3 of 3 sources in exposure</pre>"
      ],
      "text/plain": [
       "<IPython.core.display.HTML object>"
      ]
     },
     "metadata": {},
     "output_type": "display_data"
    },
    {
     "name": "stdout",
     "output_type": "stream",
     "text": [
      "(190.3602645620, -59.7953455282)\n"
     ]
    },
    {
     "data": {
      "text/html": [
       "<pre style=\"margin: 0.1em;\n",
       "padding-left: 0.25em;\n",
       "border-left-style: solid;\n",
       "font-family: var(--jp-code-font-family);\n",
       "font-size: var(--jp-code-font-size);\n",
       "line-height: var(--jp-code-line-height);\n",
       "\"><span style=\"color: var(--jp-warn-color2)\">lsst.quickFrameMeasurementTask</span> <span style=\"color: var(--jp-info-color0)\">INFO</span>: Found 3 sources in exposure</pre>"
      ],
      "text/plain": [
       "<IPython.core.display.HTML object>"
      ]
     },
     "metadata": {},
     "output_type": "display_data"
    },
    {
     "data": {
      "text/html": [
       "<pre style=\"margin: 0.1em;\n",
       "padding-left: 0.25em;\n",
       "border-left-style: solid;\n",
       "font-family: var(--jp-code-font-family);\n",
       "font-size: var(--jp-code-font-size);\n",
       "line-height: var(--jp-code-line-height);\n",
       "\"><span style=\"color: var(--jp-warn-color2)\">lsst.quickFrameMeasurementTask</span> <span style=\"color: var(--jp-info-color0)\">INFO</span>: Measured 3 of 3 sources in exposure</pre>"
      ],
      "text/plain": [
       "<IPython.core.display.HTML object>"
      ]
     },
     "metadata": {},
     "output_type": "display_data"
    },
    {
     "name": "stdout",
     "output_type": "stream",
     "text": [
      "2022050500339\n"
     ]
    },
    {
     "data": {
      "text/html": [
       "<pre style=\"margin: 0.1em;\n",
       "padding-left: 0.25em;\n",
       "border-left-style: solid;\n",
       "font-family: var(--jp-code-font-family);\n",
       "font-size: var(--jp-code-font-size);\n",
       "line-height: var(--jp-code-line-height);\n",
       "\"><span style=\"color: var(--jp-warn-color2)\">lsst.summit.utils.bestEffort</span> <span style=\"color: var(--jp-info-color0)\">INFO</span>: Found a ready-made quickLookExp in the repo. Returning that.</pre>"
      ],
      "text/plain": [
       "<IPython.core.display.HTML object>"
      ]
     },
     "metadata": {},
     "output_type": "display_data"
    },
    {
     "data": {
      "text/html": [
       "<pre style=\"margin: 0.1em;\n",
       "padding-left: 0.25em;\n",
       "border-left-style: solid;\n",
       "font-family: var(--jp-code-font-family);\n",
       "font-size: var(--jp-code-font-size);\n",
       "line-height: var(--jp-code-line-height);\n",
       "\"><span style=\"color: var(--jp-warn-color2)\">lsst.quickFrameMeasurementTask</span> <span style=\"color: var(--jp-info-color0)\">INFO</span>: Found 5 sources in exposure</pre>"
      ],
      "text/plain": [
       "<IPython.core.display.HTML object>"
      ]
     },
     "metadata": {},
     "output_type": "display_data"
    },
    {
     "data": {
      "text/html": [
       "<pre style=\"margin: 0.1em;\n",
       "padding-left: 0.25em;\n",
       "border-left-style: solid;\n",
       "font-family: var(--jp-code-font-family);\n",
       "font-size: var(--jp-code-font-size);\n",
       "line-height: var(--jp-code-line-height);\n",
       "\"><span style=\"color: var(--jp-warn-color2)\">lsst.quickFrameMeasurementTask</span> <span style=\"color: var(--jp-info-color0)\">INFO</span>: Measured 5 of 5 sources in exposure</pre>"
      ],
      "text/plain": [
       "<IPython.core.display.HTML object>"
      ]
     },
     "metadata": {},
     "output_type": "display_data"
    },
    {
     "name": "stdout",
     "output_type": "stream",
     "text": [
      "(149.2837044378, -46.6792881225)\n"
     ]
    },
    {
     "data": {
      "text/html": [
       "<pre style=\"margin: 0.1em;\n",
       "padding-left: 0.25em;\n",
       "border-left-style: solid;\n",
       "font-family: var(--jp-code-font-family);\n",
       "font-size: var(--jp-code-font-size);\n",
       "line-height: var(--jp-code-line-height);\n",
       "\"><span style=\"color: var(--jp-warn-color2)\">lsst.quickFrameMeasurementTask</span> <span style=\"color: var(--jp-info-color0)\">INFO</span>: Found 5 sources in exposure</pre>"
      ],
      "text/plain": [
       "<IPython.core.display.HTML object>"
      ]
     },
     "metadata": {},
     "output_type": "display_data"
    },
    {
     "data": {
      "text/html": [
       "<pre style=\"margin: 0.1em;\n",
       "padding-left: 0.25em;\n",
       "border-left-style: solid;\n",
       "font-family: var(--jp-code-font-family);\n",
       "font-size: var(--jp-code-font-size);\n",
       "line-height: var(--jp-code-line-height);\n",
       "\"><span style=\"color: var(--jp-warn-color2)\">lsst.quickFrameMeasurementTask</span> <span style=\"color: var(--jp-info-color0)\">INFO</span>: Measured 5 of 5 sources in exposure</pre>"
      ],
      "text/plain": [
       "<IPython.core.display.HTML object>"
      ]
     },
     "metadata": {},
     "output_type": "display_data"
    },
    {
     "name": "stdout",
     "output_type": "stream",
     "text": [
      "2022050500341\n"
     ]
    },
    {
     "data": {
      "text/html": [
       "<pre style=\"margin: 0.1em;\n",
       "padding-left: 0.25em;\n",
       "border-left-style: solid;\n",
       "font-family: var(--jp-code-font-family);\n",
       "font-size: var(--jp-code-font-size);\n",
       "line-height: var(--jp-code-line-height);\n",
       "\"><span style=\"color: var(--jp-warn-color2)\">lsst.summit.utils.bestEffort</span> <span style=\"color: var(--jp-info-color0)\">INFO</span>: Found a ready-made quickLookExp in the repo. Returning that.</pre>"
      ],
      "text/plain": [
       "<IPython.core.display.HTML object>"
      ]
     },
     "metadata": {},
     "output_type": "display_data"
    },
    {
     "data": {
      "text/html": [
       "<pre style=\"margin: 0.1em;\n",
       "padding-left: 0.25em;\n",
       "border-left-style: solid;\n",
       "font-family: var(--jp-code-font-family);\n",
       "font-size: var(--jp-code-font-size);\n",
       "line-height: var(--jp-code-line-height);\n",
       "\"><span style=\"color: var(--jp-warn-color2)\">lsst.quickFrameMeasurementTask</span> <span style=\"color: var(--jp-info-color0)\">INFO</span>: Found 5 sources in exposure</pre>"
      ],
      "text/plain": [
       "<IPython.core.display.HTML object>"
      ]
     },
     "metadata": {},
     "output_type": "display_data"
    },
    {
     "data": {
      "text/html": [
       "<pre style=\"margin: 0.1em;\n",
       "padding-left: 0.25em;\n",
       "border-left-style: solid;\n",
       "font-family: var(--jp-code-font-family);\n",
       "font-size: var(--jp-code-font-size);\n",
       "line-height: var(--jp-code-line-height);\n",
       "\"><span style=\"color: var(--jp-warn-color2)\">lsst.quickFrameMeasurementTask</span> <span style=\"color: var(--jp-info-color0)\">INFO</span>: Measured 5 of 5 sources in exposure</pre>"
      ],
      "text/plain": [
       "<IPython.core.display.HTML object>"
      ]
     },
     "metadata": {},
     "output_type": "display_data"
    },
    {
     "name": "stdout",
     "output_type": "stream",
     "text": [
      "(207.9837896460, -70.7567786020)\n"
     ]
    },
    {
     "data": {
      "text/html": [
       "<pre style=\"margin: 0.1em;\n",
       "padding-left: 0.25em;\n",
       "border-left-style: solid;\n",
       "font-family: var(--jp-code-font-family);\n",
       "font-size: var(--jp-code-font-size);\n",
       "line-height: var(--jp-code-line-height);\n",
       "\"><span style=\"color: var(--jp-warn-color2)\">lsst.quickFrameMeasurementTask</span> <span style=\"color: var(--jp-info-color0)\">INFO</span>: Found 5 sources in exposure</pre>"
      ],
      "text/plain": [
       "<IPython.core.display.HTML object>"
      ]
     },
     "metadata": {},
     "output_type": "display_data"
    },
    {
     "data": {
      "text/html": [
       "<pre style=\"margin: 0.1em;\n",
       "padding-left: 0.25em;\n",
       "border-left-style: solid;\n",
       "font-family: var(--jp-code-font-family);\n",
       "font-size: var(--jp-code-font-size);\n",
       "line-height: var(--jp-code-line-height);\n",
       "\"><span style=\"color: var(--jp-warn-color2)\">lsst.quickFrameMeasurementTask</span> <span style=\"color: var(--jp-info-color0)\">INFO</span>: Measured 5 of 5 sources in exposure</pre>"
      ],
      "text/plain": [
       "<IPython.core.display.HTML object>"
      ]
     },
     "metadata": {},
     "output_type": "display_data"
    },
    {
     "name": "stdout",
     "output_type": "stream",
     "text": [
      "2022050500343\n"
     ]
    },
    {
     "data": {
      "text/html": [
       "<pre style=\"margin: 0.1em;\n",
       "padding-left: 0.25em;\n",
       "border-left-style: solid;\n",
       "font-family: var(--jp-code-font-family);\n",
       "font-size: var(--jp-code-font-size);\n",
       "line-height: var(--jp-code-line-height);\n",
       "\"><span style=\"color: var(--jp-warn-color2)\">lsst.summit.utils.bestEffort</span> <span style=\"color: var(--jp-info-color0)\">INFO</span>: Found a ready-made quickLookExp in the repo. Returning that.</pre>"
      ],
      "text/plain": [
       "<IPython.core.display.HTML object>"
      ]
     },
     "metadata": {},
     "output_type": "display_data"
    },
    {
     "data": {
      "text/html": [
       "<pre style=\"margin: 0.1em;\n",
       "padding-left: 0.25em;\n",
       "border-left-style: solid;\n",
       "font-family: var(--jp-code-font-family);\n",
       "font-size: var(--jp-code-font-size);\n",
       "line-height: var(--jp-code-line-height);\n",
       "\"><span style=\"color: var(--jp-warn-color2)\">lsst.quickFrameMeasurementTask</span> <span style=\"color: var(--jp-info-color0)\">INFO</span>: Found 5 sources in exposure</pre>"
      ],
      "text/plain": [
       "<IPython.core.display.HTML object>"
      ]
     },
     "metadata": {},
     "output_type": "display_data"
    },
    {
     "data": {
      "text/html": [
       "<pre style=\"margin: 0.1em;\n",
       "padding-left: 0.25em;\n",
       "border-left-style: solid;\n",
       "font-family: var(--jp-code-font-family);\n",
       "font-size: var(--jp-code-font-size);\n",
       "line-height: var(--jp-code-line-height);\n",
       "\"><span style=\"color: var(--jp-warn-color2)\">lsst.quickFrameMeasurementTask</span> <span style=\"color: var(--jp-info-color0)\">INFO</span>: Measured 5 of 5 sources in exposure</pre>"
      ],
      "text/plain": [
       "<IPython.core.display.HTML object>"
      ]
     },
     "metadata": {},
     "output_type": "display_data"
    },
    {
     "name": "stdout",
     "output_type": "stream",
     "text": [
      "(157.5489588696, -62.4908176680)\n"
     ]
    },
    {
     "data": {
      "text/html": [
       "<pre style=\"margin: 0.1em;\n",
       "padding-left: 0.25em;\n",
       "border-left-style: solid;\n",
       "font-family: var(--jp-code-font-family);\n",
       "font-size: var(--jp-code-font-size);\n",
       "line-height: var(--jp-code-line-height);\n",
       "\"><span style=\"color: var(--jp-warn-color2)\">lsst.quickFrameMeasurementTask</span> <span style=\"color: var(--jp-info-color0)\">INFO</span>: Found 5 sources in exposure</pre>"
      ],
      "text/plain": [
       "<IPython.core.display.HTML object>"
      ]
     },
     "metadata": {},
     "output_type": "display_data"
    },
    {
     "data": {
      "text/html": [
       "<pre style=\"margin: 0.1em;\n",
       "padding-left: 0.25em;\n",
       "border-left-style: solid;\n",
       "font-family: var(--jp-code-font-family);\n",
       "font-size: var(--jp-code-font-size);\n",
       "line-height: var(--jp-code-line-height);\n",
       "\"><span style=\"color: var(--jp-warn-color2)\">lsst.quickFrameMeasurementTask</span> <span style=\"color: var(--jp-info-color0)\">INFO</span>: Measured 5 of 5 sources in exposure</pre>"
      ],
      "text/plain": [
       "<IPython.core.display.HTML object>"
      ]
     },
     "metadata": {},
     "output_type": "display_data"
    },
    {
     "name": "stdout",
     "output_type": "stream",
     "text": [
      "2022050500345\n"
     ]
    },
    {
     "data": {
      "text/html": [
       "<pre style=\"margin: 0.1em;\n",
       "padding-left: 0.25em;\n",
       "border-left-style: solid;\n",
       "font-family: var(--jp-code-font-family);\n",
       "font-size: var(--jp-code-font-size);\n",
       "line-height: var(--jp-code-line-height);\n",
       "\"><span style=\"color: var(--jp-warn-color2)\">lsst.summit.utils.bestEffort</span> <span style=\"color: var(--jp-info-color0)\">INFO</span>: Found a ready-made quickLookExp in the repo. Returning that.</pre>"
      ],
      "text/plain": [
       "<IPython.core.display.HTML object>"
      ]
     },
     "metadata": {},
     "output_type": "display_data"
    },
    {
     "data": {
      "text/html": [
       "<pre style=\"margin: 0.1em;\n",
       "padding-left: 0.25em;\n",
       "border-left-style: solid;\n",
       "font-family: var(--jp-code-font-family);\n",
       "font-size: var(--jp-code-font-size);\n",
       "line-height: var(--jp-code-line-height);\n",
       "\"><span style=\"color: var(--jp-warn-color2)\">lsst.quickFrameMeasurementTask</span> <span style=\"color: var(--jp-info-color0)\">INFO</span>: Found 8 sources in exposure</pre>"
      ],
      "text/plain": [
       "<IPython.core.display.HTML object>"
      ]
     },
     "metadata": {},
     "output_type": "display_data"
    },
    {
     "data": {
      "text/html": [
       "<pre style=\"margin: 0.1em;\n",
       "padding-left: 0.25em;\n",
       "border-left-style: solid;\n",
       "font-family: var(--jp-code-font-family);\n",
       "font-size: var(--jp-code-font-size);\n",
       "line-height: var(--jp-code-line-height);\n",
       "\"><span style=\"color: var(--jp-warn-color2)\">lsst.quickFrameMeasurementTask</span> <span style=\"color: var(--jp-info-color0)\">INFO</span>: Measured 8 of 8 sources in exposure</pre>"
      ],
      "text/plain": [
       "<IPython.core.display.HTML object>"
      ]
     },
     "metadata": {},
     "output_type": "display_data"
    },
    {
     "name": "stdout",
     "output_type": "stream",
     "text": [
      "(168.4602634535, -73.0913269728)\n"
     ]
    },
    {
     "data": {
      "text/html": [
       "<pre style=\"margin: 0.1em;\n",
       "padding-left: 0.25em;\n",
       "border-left-style: solid;\n",
       "font-family: var(--jp-code-font-family);\n",
       "font-size: var(--jp-code-font-size);\n",
       "line-height: var(--jp-code-line-height);\n",
       "\"><span style=\"color: var(--jp-warn-color2)\">lsst.quickFrameMeasurementTask</span> <span style=\"color: var(--jp-info-color0)\">INFO</span>: Found 8 sources in exposure</pre>"
      ],
      "text/plain": [
       "<IPython.core.display.HTML object>"
      ]
     },
     "metadata": {},
     "output_type": "display_data"
    },
    {
     "data": {
      "text/html": [
       "<pre style=\"margin: 0.1em;\n",
       "padding-left: 0.25em;\n",
       "border-left-style: solid;\n",
       "font-family: var(--jp-code-font-family);\n",
       "font-size: var(--jp-code-font-size);\n",
       "line-height: var(--jp-code-line-height);\n",
       "\"><span style=\"color: var(--jp-warn-color2)\">lsst.quickFrameMeasurementTask</span> <span style=\"color: var(--jp-info-color0)\">INFO</span>: Measured 8 of 8 sources in exposure</pre>"
      ],
      "text/plain": [
       "<IPython.core.display.HTML object>"
      ]
     },
     "metadata": {},
     "output_type": "display_data"
    },
    {
     "name": "stdout",
     "output_type": "stream",
     "text": [
      "2022050500347\n"
     ]
    },
    {
     "data": {
      "text/html": [
       "<pre style=\"margin: 0.1em;\n",
       "padding-left: 0.25em;\n",
       "border-left-style: solid;\n",
       "font-family: var(--jp-code-font-family);\n",
       "font-size: var(--jp-code-font-size);\n",
       "line-height: var(--jp-code-line-height);\n",
       "\"><span style=\"color: var(--jp-warn-color2)\">lsst.summit.utils.bestEffort</span> <span style=\"color: var(--jp-info-color0)\">INFO</span>: Found a ready-made quickLookExp in the repo. Returning that.</pre>"
      ],
      "text/plain": [
       "<IPython.core.display.HTML object>"
      ]
     },
     "metadata": {},
     "output_type": "display_data"
    },
    {
     "data": {
      "text/html": [
       "<pre style=\"margin: 0.1em;\n",
       "padding-left: 0.25em;\n",
       "border-left-style: solid;\n",
       "font-family: var(--jp-code-font-family);\n",
       "font-size: var(--jp-code-font-size);\n",
       "line-height: var(--jp-code-line-height);\n",
       "\"><span style=\"color: var(--jp-warn-color2)\">lsst.quickFrameMeasurementTask</span> <span style=\"color: var(--jp-info-color0)\">INFO</span>: Found 3 sources in exposure</pre>"
      ],
      "text/plain": [
       "<IPython.core.display.HTML object>"
      ]
     },
     "metadata": {},
     "output_type": "display_data"
    },
    {
     "data": {
      "text/html": [
       "<pre style=\"margin: 0.1em;\n",
       "padding-left: 0.25em;\n",
       "border-left-style: solid;\n",
       "font-family: var(--jp-code-font-family);\n",
       "font-size: var(--jp-code-font-size);\n",
       "line-height: var(--jp-code-line-height);\n",
       "\"><span style=\"color: var(--jp-warn-color2)\">lsst.quickFrameMeasurementTask</span> <span style=\"color: var(--jp-info-color0)\">INFO</span>: Measured 3 of 3 sources in exposure</pre>"
      ],
      "text/plain": [
       "<IPython.core.display.HTML object>"
      ]
     },
     "metadata": {},
     "output_type": "display_data"
    },
    {
     "name": "stdout",
     "output_type": "stream",
     "text": [
      "(319.9433606516, -82.2044097443)\n"
     ]
    },
    {
     "data": {
      "text/html": [
       "<pre style=\"margin: 0.1em;\n",
       "padding-left: 0.25em;\n",
       "border-left-style: solid;\n",
       "font-family: var(--jp-code-font-family);\n",
       "font-size: var(--jp-code-font-size);\n",
       "line-height: var(--jp-code-line-height);\n",
       "\"><span style=\"color: var(--jp-warn-color2)\">lsst.quickFrameMeasurementTask</span> <span style=\"color: var(--jp-info-color0)\">INFO</span>: Found 3 sources in exposure</pre>"
      ],
      "text/plain": [
       "<IPython.core.display.HTML object>"
      ]
     },
     "metadata": {},
     "output_type": "display_data"
    },
    {
     "data": {
      "text/html": [
       "<pre style=\"margin: 0.1em;\n",
       "padding-left: 0.25em;\n",
       "border-left-style: solid;\n",
       "font-family: var(--jp-code-font-family);\n",
       "font-size: var(--jp-code-font-size);\n",
       "line-height: var(--jp-code-line-height);\n",
       "\"><span style=\"color: var(--jp-warn-color2)\">lsst.quickFrameMeasurementTask</span> <span style=\"color: var(--jp-info-color0)\">INFO</span>: Measured 3 of 3 sources in exposure</pre>"
      ],
      "text/plain": [
       "<IPython.core.display.HTML object>"
      ]
     },
     "metadata": {},
     "output_type": "display_data"
    },
    {
     "name": "stdout",
     "output_type": "stream",
     "text": [
      "2022050500349\n"
     ]
    },
    {
     "data": {
      "text/html": [
       "<pre style=\"margin: 0.1em;\n",
       "padding-left: 0.25em;\n",
       "border-left-style: solid;\n",
       "font-family: var(--jp-code-font-family);\n",
       "font-size: var(--jp-code-font-size);\n",
       "line-height: var(--jp-code-line-height);\n",
       "\"><span style=\"color: var(--jp-warn-color2)\">lsst.summit.utils.bestEffort</span> <span style=\"color: var(--jp-info-color0)\">INFO</span>: Found a ready-made quickLookExp in the repo. Returning that.</pre>"
      ],
      "text/plain": [
       "<IPython.core.display.HTML object>"
      ]
     },
     "metadata": {},
     "output_type": "display_data"
    },
    {
     "data": {
      "text/html": [
       "<pre style=\"margin: 0.1em;\n",
       "padding-left: 0.25em;\n",
       "border-left-style: solid;\n",
       "font-family: var(--jp-code-font-family);\n",
       "font-size: var(--jp-code-font-size);\n",
       "line-height: var(--jp-code-line-height);\n",
       "\"><span style=\"color: var(--jp-warn-color2)\">lsst.quickFrameMeasurementTask</span> <span style=\"color: var(--jp-info-color0)\">INFO</span>: Found 4 sources in exposure</pre>"
      ],
      "text/plain": [
       "<IPython.core.display.HTML object>"
      ]
     },
     "metadata": {},
     "output_type": "display_data"
    },
    {
     "data": {
      "text/html": [
       "<pre style=\"margin: 0.1em;\n",
       "padding-left: 0.25em;\n",
       "border-left-style: solid;\n",
       "font-family: var(--jp-code-font-family);\n",
       "font-size: var(--jp-code-font-size);\n",
       "line-height: var(--jp-code-line-height);\n",
       "\"><span style=\"color: var(--jp-warn-color2)\">lsst.quickFrameMeasurementTask</span> <span style=\"color: var(--jp-info-color0)\">INFO</span>: Measured 4 of 4 sources in exposure</pre>"
      ],
      "text/plain": [
       "<IPython.core.display.HTML object>"
      ]
     },
     "metadata": {},
     "output_type": "display_data"
    },
    {
     "name": "stdout",
     "output_type": "stream",
     "text": [
      "(119.0652981183, -69.6462058677)\n"
     ]
    },
    {
     "data": {
      "text/html": [
       "<pre style=\"margin: 0.1em;\n",
       "padding-left: 0.25em;\n",
       "border-left-style: solid;\n",
       "font-family: var(--jp-code-font-family);\n",
       "font-size: var(--jp-code-font-size);\n",
       "line-height: var(--jp-code-line-height);\n",
       "\"><span style=\"color: var(--jp-warn-color2)\">lsst.quickFrameMeasurementTask</span> <span style=\"color: var(--jp-info-color0)\">INFO</span>: Found 4 sources in exposure</pre>"
      ],
      "text/plain": [
       "<IPython.core.display.HTML object>"
      ]
     },
     "metadata": {},
     "output_type": "display_data"
    },
    {
     "data": {
      "text/html": [
       "<pre style=\"margin: 0.1em;\n",
       "padding-left: 0.25em;\n",
       "border-left-style: solid;\n",
       "font-family: var(--jp-code-font-family);\n",
       "font-size: var(--jp-code-font-size);\n",
       "line-height: var(--jp-code-line-height);\n",
       "\"><span style=\"color: var(--jp-warn-color2)\">lsst.quickFrameMeasurementTask</span> <span style=\"color: var(--jp-info-color0)\">INFO</span>: Measured 4 of 4 sources in exposure</pre>"
      ],
      "text/plain": [
       "<IPython.core.display.HTML object>"
      ]
     },
     "metadata": {},
     "output_type": "display_data"
    },
    {
     "name": "stdout",
     "output_type": "stream",
     "text": [
      "2022050500351\n"
     ]
    },
    {
     "data": {
      "text/html": [
       "<pre style=\"margin: 0.1em;\n",
       "padding-left: 0.25em;\n",
       "border-left-style: solid;\n",
       "font-family: var(--jp-code-font-family);\n",
       "font-size: var(--jp-code-font-size);\n",
       "line-height: var(--jp-code-line-height);\n",
       "\"><span style=\"color: var(--jp-warn-color2)\">lsst.summit.utils.bestEffort</span> <span style=\"color: var(--jp-info-color0)\">INFO</span>: Found a ready-made quickLookExp in the repo. Returning that.</pre>"
      ],
      "text/plain": [
       "<IPython.core.display.HTML object>"
      ]
     },
     "metadata": {},
     "output_type": "display_data"
    },
    {
     "data": {
      "text/html": [
       "<pre style=\"margin: 0.1em;\n",
       "padding-left: 0.25em;\n",
       "border-left-style: solid;\n",
       "font-family: var(--jp-code-font-family);\n",
       "font-size: var(--jp-code-font-size);\n",
       "line-height: var(--jp-code-line-height);\n",
       "\"><span style=\"color: var(--jp-warn-color2)\">lsst.quickFrameMeasurementTask</span> <span style=\"color: var(--jp-info-color0)\">INFO</span>: Found 1 sources in exposure</pre>"
      ],
      "text/plain": [
       "<IPython.core.display.HTML object>"
      ]
     },
     "metadata": {},
     "output_type": "display_data"
    },
    {
     "data": {
      "text/html": [
       "<pre style=\"margin: 0.1em;\n",
       "padding-left: 0.25em;\n",
       "border-left-style: solid;\n",
       "font-family: var(--jp-code-font-family);\n",
       "font-size: var(--jp-code-font-size);\n",
       "line-height: var(--jp-code-line-height);\n",
       "\"><span style=\"color: var(--jp-warn-color2)\">lsst.quickFrameMeasurementTask</span> <span style=\"color: var(--jp-info-color0)\">INFO</span>: Measured 1 of 1 sources in exposure</pre>"
      ],
      "text/plain": [
       "<IPython.core.display.HTML object>"
      ]
     },
     "metadata": {},
     "output_type": "display_data"
    },
    {
     "name": "stdout",
     "output_type": "stream",
     "text": [
      "(116.4218913337, -67.0703683499)\n"
     ]
    },
    {
     "data": {
      "text/html": [
       "<pre style=\"margin: 0.1em;\n",
       "padding-left: 0.25em;\n",
       "border-left-style: solid;\n",
       "font-family: var(--jp-code-font-family);\n",
       "font-size: var(--jp-code-font-size);\n",
       "line-height: var(--jp-code-line-height);\n",
       "\"><span style=\"color: var(--jp-warn-color2)\">lsst.quickFrameMeasurementTask</span> <span style=\"color: var(--jp-info-color0)\">INFO</span>: Found 1 sources in exposure</pre>"
      ],
      "text/plain": [
       "<IPython.core.display.HTML object>"
      ]
     },
     "metadata": {},
     "output_type": "display_data"
    },
    {
     "data": {
      "text/html": [
       "<pre style=\"margin: 0.1em;\n",
       "padding-left: 0.25em;\n",
       "border-left-style: solid;\n",
       "font-family: var(--jp-code-font-family);\n",
       "font-size: var(--jp-code-font-size);\n",
       "line-height: var(--jp-code-line-height);\n",
       "\"><span style=\"color: var(--jp-warn-color2)\">lsst.quickFrameMeasurementTask</span> <span style=\"color: var(--jp-info-color0)\">INFO</span>: Measured 1 of 1 sources in exposure</pre>"
      ],
      "text/plain": [
       "<IPython.core.display.HTML object>"
      ]
     },
     "metadata": {},
     "output_type": "display_data"
    },
    {
     "name": "stdout",
     "output_type": "stream",
     "text": [
      "2022050500353\n"
     ]
    },
    {
     "data": {
      "text/html": [
       "<pre style=\"margin: 0.1em;\n",
       "padding-left: 0.25em;\n",
       "border-left-style: solid;\n",
       "font-family: var(--jp-code-font-family);\n",
       "font-size: var(--jp-code-font-size);\n",
       "line-height: var(--jp-code-line-height);\n",
       "\"><span style=\"color: var(--jp-warn-color2)\">lsst.summit.utils.bestEffort</span> <span style=\"color: var(--jp-info-color0)\">INFO</span>: Found a ready-made quickLookExp in the repo. Returning that.</pre>"
      ],
      "text/plain": [
       "<IPython.core.display.HTML object>"
      ]
     },
     "metadata": {},
     "output_type": "display_data"
    },
    {
     "data": {
      "text/html": [
       "<pre style=\"margin: 0.1em;\n",
       "padding-left: 0.25em;\n",
       "border-left-style: solid;\n",
       "font-family: var(--jp-code-font-family);\n",
       "font-size: var(--jp-code-font-size);\n",
       "line-height: var(--jp-code-line-height);\n",
       "\"><span style=\"color: var(--jp-warn-color2)\">lsst.quickFrameMeasurementTask</span> <span style=\"color: var(--jp-info-color0)\">INFO</span>: Found 4 sources in exposure</pre>"
      ],
      "text/plain": [
       "<IPython.core.display.HTML object>"
      ]
     },
     "metadata": {},
     "output_type": "display_data"
    },
    {
     "data": {
      "text/html": [
       "<pre style=\"margin: 0.1em;\n",
       "padding-left: 0.25em;\n",
       "border-left-style: solid;\n",
       "font-family: var(--jp-code-font-family);\n",
       "font-size: var(--jp-code-font-size);\n",
       "line-height: var(--jp-code-line-height);\n",
       "\"><span style=\"color: var(--jp-warn-color2)\">lsst.quickFrameMeasurementTask</span> <span style=\"color: var(--jp-info-color0)\">INFO</span>: Measured 4 of 4 sources in exposure</pre>"
      ],
      "text/plain": [
       "<IPython.core.display.HTML object>"
      ]
     },
     "metadata": {},
     "output_type": "display_data"
    },
    {
     "name": "stdout",
     "output_type": "stream",
     "text": [
      "(40.1566650924, -69.0817951085)\n"
     ]
    },
    {
     "data": {
      "text/html": [
       "<pre style=\"margin: 0.1em;\n",
       "padding-left: 0.25em;\n",
       "border-left-style: solid;\n",
       "font-family: var(--jp-code-font-family);\n",
       "font-size: var(--jp-code-font-size);\n",
       "line-height: var(--jp-code-line-height);\n",
       "\"><span style=\"color: var(--jp-warn-color2)\">lsst.quickFrameMeasurementTask</span> <span style=\"color: var(--jp-info-color0)\">INFO</span>: Found 4 sources in exposure</pre>"
      ],
      "text/plain": [
       "<IPython.core.display.HTML object>"
      ]
     },
     "metadata": {},
     "output_type": "display_data"
    },
    {
     "data": {
      "text/html": [
       "<pre style=\"margin: 0.1em;\n",
       "padding-left: 0.25em;\n",
       "border-left-style: solid;\n",
       "font-family: var(--jp-code-font-family);\n",
       "font-size: var(--jp-code-font-size);\n",
       "line-height: var(--jp-code-line-height);\n",
       "\"><span style=\"color: var(--jp-warn-color2)\">lsst.quickFrameMeasurementTask</span> <span style=\"color: var(--jp-info-color0)\">INFO</span>: Measured 4 of 4 sources in exposure</pre>"
      ],
      "text/plain": [
       "<IPython.core.display.HTML object>"
      ]
     },
     "metadata": {},
     "output_type": "display_data"
    },
    {
     "name": "stdout",
     "output_type": "stream",
     "text": [
      "2022050500355\n"
     ]
    },
    {
     "data": {
      "text/html": [
       "<pre style=\"margin: 0.1em;\n",
       "padding-left: 0.25em;\n",
       "border-left-style: solid;\n",
       "font-family: var(--jp-code-font-family);\n",
       "font-size: var(--jp-code-font-size);\n",
       "line-height: var(--jp-code-line-height);\n",
       "\"><span style=\"color: var(--jp-warn-color2)\">lsst.summit.utils.bestEffort</span> <span style=\"color: var(--jp-info-color0)\">INFO</span>: Found a ready-made quickLookExp in the repo. Returning that.</pre>"
      ],
      "text/plain": [
       "<IPython.core.display.HTML object>"
      ]
     },
     "metadata": {},
     "output_type": "display_data"
    },
    {
     "data": {
      "text/html": [
       "<pre style=\"margin: 0.1em;\n",
       "padding-left: 0.25em;\n",
       "border-left-style: solid;\n",
       "font-family: var(--jp-code-font-family);\n",
       "font-size: var(--jp-code-font-size);\n",
       "line-height: var(--jp-code-line-height);\n",
       "\"><span style=\"color: var(--jp-warn-color2)\">lsst.quickFrameMeasurementTask</span> <span style=\"color: var(--jp-info-color0)\">INFO</span>: Found 6 sources in exposure</pre>"
      ],
      "text/plain": [
       "<IPython.core.display.HTML object>"
      ]
     },
     "metadata": {},
     "output_type": "display_data"
    },
    {
     "data": {
      "text/html": [
       "<pre style=\"margin: 0.1em;\n",
       "padding-left: 0.25em;\n",
       "border-left-style: solid;\n",
       "font-family: var(--jp-code-font-family);\n",
       "font-size: var(--jp-code-font-size);\n",
       "line-height: var(--jp-code-line-height);\n",
       "\"><span style=\"color: var(--jp-warn-color2)\">lsst.quickFrameMeasurementTask</span> <span style=\"color: var(--jp-info-color0)\">INFO</span>: Measured 6 of 6 sources in exposure</pre>"
      ],
      "text/plain": [
       "<IPython.core.display.HTML object>"
      ]
     },
     "metadata": {},
     "output_type": "display_data"
    },
    {
     "name": "stdout",
     "output_type": "stream",
     "text": [
      "(129.3172338497, -48.9113385189)\n"
     ]
    },
    {
     "data": {
      "text/html": [
       "<pre style=\"margin: 0.1em;\n",
       "padding-left: 0.25em;\n",
       "border-left-style: solid;\n",
       "font-family: var(--jp-code-font-family);\n",
       "font-size: var(--jp-code-font-size);\n",
       "line-height: var(--jp-code-line-height);\n",
       "\"><span style=\"color: var(--jp-warn-color2)\">lsst.quickFrameMeasurementTask</span> <span style=\"color: var(--jp-info-color0)\">INFO</span>: Found 6 sources in exposure</pre>"
      ],
      "text/plain": [
       "<IPython.core.display.HTML object>"
      ]
     },
     "metadata": {},
     "output_type": "display_data"
    },
    {
     "data": {
      "text/html": [
       "<pre style=\"margin: 0.1em;\n",
       "padding-left: 0.25em;\n",
       "border-left-style: solid;\n",
       "font-family: var(--jp-code-font-family);\n",
       "font-size: var(--jp-code-font-size);\n",
       "line-height: var(--jp-code-line-height);\n",
       "\"><span style=\"color: var(--jp-warn-color2)\">lsst.quickFrameMeasurementTask</span> <span style=\"color: var(--jp-info-color0)\">INFO</span>: Measured 6 of 6 sources in exposure</pre>"
      ],
      "text/plain": [
       "<IPython.core.display.HTML object>"
      ]
     },
     "metadata": {},
     "output_type": "display_data"
    },
    {
     "name": "stdout",
     "output_type": "stream",
     "text": [
      "2022050500357\n"
     ]
    },
    {
     "data": {
      "text/html": [
       "<pre style=\"margin: 0.1em;\n",
       "padding-left: 0.25em;\n",
       "border-left-style: solid;\n",
       "font-family: var(--jp-code-font-family);\n",
       "font-size: var(--jp-code-font-size);\n",
       "line-height: var(--jp-code-line-height);\n",
       "\"><span style=\"color: var(--jp-warn-color2)\">lsst.summit.utils.bestEffort</span> <span style=\"color: var(--jp-info-color0)\">INFO</span>: Found a ready-made quickLookExp in the repo. Returning that.</pre>"
      ],
      "text/plain": [
       "<IPython.core.display.HTML object>"
      ]
     },
     "metadata": {},
     "output_type": "display_data"
    },
    {
     "data": {
      "text/html": [
       "<pre style=\"margin: 0.1em;\n",
       "padding-left: 0.25em;\n",
       "border-left-style: solid;\n",
       "font-family: var(--jp-code-font-family);\n",
       "font-size: var(--jp-code-font-size);\n",
       "line-height: var(--jp-code-line-height);\n",
       "\"><span style=\"color: var(--jp-warn-color2)\">lsst.quickFrameMeasurementTask</span> <span style=\"color: var(--jp-info-color0)\">INFO</span>: Found 3 sources in exposure</pre>"
      ],
      "text/plain": [
       "<IPython.core.display.HTML object>"
      ]
     },
     "metadata": {},
     "output_type": "display_data"
    },
    {
     "data": {
      "text/html": [
       "<pre style=\"margin: 0.1em;\n",
       "padding-left: 0.25em;\n",
       "border-left-style: solid;\n",
       "font-family: var(--jp-code-font-family);\n",
       "font-size: var(--jp-code-font-size);\n",
       "line-height: var(--jp-code-line-height);\n",
       "\"><span style=\"color: var(--jp-warn-color2)\">lsst.quickFrameMeasurementTask</span> <span style=\"color: var(--jp-info-color0)\">INFO</span>: Measured 3 of 3 sources in exposure</pre>"
      ],
      "text/plain": [
       "<IPython.core.display.HTML object>"
      ]
     },
     "metadata": {},
     "output_type": "display_data"
    },
    {
     "name": "stdout",
     "output_type": "stream",
     "text": [
      "(92.9062387176, -59.2430395911)\n"
     ]
    },
    {
     "data": {
      "text/html": [
       "<pre style=\"margin: 0.1em;\n",
       "padding-left: 0.25em;\n",
       "border-left-style: solid;\n",
       "font-family: var(--jp-code-font-family);\n",
       "font-size: var(--jp-code-font-size);\n",
       "line-height: var(--jp-code-line-height);\n",
       "\"><span style=\"color: var(--jp-warn-color2)\">lsst.quickFrameMeasurementTask</span> <span style=\"color: var(--jp-info-color0)\">INFO</span>: Found 3 sources in exposure</pre>"
      ],
      "text/plain": [
       "<IPython.core.display.HTML object>"
      ]
     },
     "metadata": {},
     "output_type": "display_data"
    },
    {
     "data": {
      "text/html": [
       "<pre style=\"margin: 0.1em;\n",
       "padding-left: 0.25em;\n",
       "border-left-style: solid;\n",
       "font-family: var(--jp-code-font-family);\n",
       "font-size: var(--jp-code-font-size);\n",
       "line-height: var(--jp-code-line-height);\n",
       "\"><span style=\"color: var(--jp-warn-color2)\">lsst.quickFrameMeasurementTask</span> <span style=\"color: var(--jp-info-color0)\">INFO</span>: Measured 3 of 3 sources in exposure</pre>"
      ],
      "text/plain": [
       "<IPython.core.display.HTML object>"
      ]
     },
     "metadata": {},
     "output_type": "display_data"
    },
    {
     "name": "stdout",
     "output_type": "stream",
     "text": [
      "2022050500359\n"
     ]
    },
    {
     "data": {
      "text/html": [
       "<pre style=\"margin: 0.1em;\n",
       "padding-left: 0.25em;\n",
       "border-left-style: solid;\n",
       "font-family: var(--jp-code-font-family);\n",
       "font-size: var(--jp-code-font-size);\n",
       "line-height: var(--jp-code-line-height);\n",
       "\"><span style=\"color: var(--jp-warn-color2)\">lsst.summit.utils.bestEffort</span> <span style=\"color: var(--jp-info-color0)\">INFO</span>: Found a ready-made quickLookExp in the repo. Returning that.</pre>"
      ],
      "text/plain": [
       "<IPython.core.display.HTML object>"
      ]
     },
     "metadata": {},
     "output_type": "display_data"
    },
    {
     "data": {
      "text/html": [
       "<pre style=\"margin: 0.1em;\n",
       "padding-left: 0.25em;\n",
       "border-left-style: solid;\n",
       "font-family: var(--jp-code-font-family);\n",
       "font-size: var(--jp-code-font-size);\n",
       "line-height: var(--jp-code-line-height);\n",
       "\"><span style=\"color: var(--jp-warn-color2)\">lsst.quickFrameMeasurementTask</span> <span style=\"color: var(--jp-info-color0)\">INFO</span>: Found 1 sources in exposure</pre>"
      ],
      "text/plain": [
       "<IPython.core.display.HTML object>"
      ]
     },
     "metadata": {},
     "output_type": "display_data"
    },
    {
     "data": {
      "text/html": [
       "<pre style=\"margin: 0.1em;\n",
       "padding-left: 0.25em;\n",
       "border-left-style: solid;\n",
       "font-family: var(--jp-code-font-family);\n",
       "font-size: var(--jp-code-font-size);\n",
       "line-height: var(--jp-code-line-height);\n",
       "\"><span style=\"color: var(--jp-warn-color2)\">lsst.quickFrameMeasurementTask</span> <span style=\"color: var(--jp-info-color0)\">INFO</span>: Measured 1 of 1 sources in exposure</pre>"
      ],
      "text/plain": [
       "<IPython.core.display.HTML object>"
      ]
     },
     "metadata": {},
     "output_type": "display_data"
    },
    {
     "name": "stdout",
     "output_type": "stream",
     "text": [
      "(94.4566377643, -51.2722798235)\n"
     ]
    },
    {
     "data": {
      "text/html": [
       "<pre style=\"margin: 0.1em;\n",
       "padding-left: 0.25em;\n",
       "border-left-style: solid;\n",
       "font-family: var(--jp-code-font-family);\n",
       "font-size: var(--jp-code-font-size);\n",
       "line-height: var(--jp-code-line-height);\n",
       "\"><span style=\"color: var(--jp-warn-color2)\">lsst.quickFrameMeasurementTask</span> <span style=\"color: var(--jp-info-color0)\">INFO</span>: Found 1 sources in exposure</pre>"
      ],
      "text/plain": [
       "<IPython.core.display.HTML object>"
      ]
     },
     "metadata": {},
     "output_type": "display_data"
    },
    {
     "data": {
      "text/html": [
       "<pre style=\"margin: 0.1em;\n",
       "padding-left: 0.25em;\n",
       "border-left-style: solid;\n",
       "font-family: var(--jp-code-font-family);\n",
       "font-size: var(--jp-code-font-size);\n",
       "line-height: var(--jp-code-line-height);\n",
       "\"><span style=\"color: var(--jp-warn-color2)\">lsst.quickFrameMeasurementTask</span> <span style=\"color: var(--jp-info-color0)\">INFO</span>: Measured 1 of 1 sources in exposure</pre>"
      ],
      "text/plain": [
       "<IPython.core.display.HTML object>"
      ]
     },
     "metadata": {},
     "output_type": "display_data"
    },
    {
     "name": "stdout",
     "output_type": "stream",
     "text": [
      "2022050500361\n"
     ]
    },
    {
     "data": {
      "text/html": [
       "<pre style=\"margin: 0.1em;\n",
       "padding-left: 0.25em;\n",
       "border-left-style: solid;\n",
       "font-family: var(--jp-code-font-family);\n",
       "font-size: var(--jp-code-font-size);\n",
       "line-height: var(--jp-code-line-height);\n",
       "\"><span style=\"color: var(--jp-warn-color2)\">lsst.summit.utils.bestEffort</span> <span style=\"color: var(--jp-info-color0)\">INFO</span>: Found a ready-made quickLookExp in the repo. Returning that.</pre>"
      ],
      "text/plain": [
       "<IPython.core.display.HTML object>"
      ]
     },
     "metadata": {},
     "output_type": "display_data"
    },
    {
     "data": {
      "text/html": [
       "<pre style=\"margin: 0.1em;\n",
       "padding-left: 0.25em;\n",
       "border-left-style: solid;\n",
       "font-family: var(--jp-code-font-family);\n",
       "font-size: var(--jp-code-font-size);\n",
       "line-height: var(--jp-code-line-height);\n",
       "\"><span style=\"color: var(--jp-warn-color2)\">lsst.quickFrameMeasurementTask</span> <span style=\"color: var(--jp-info-color0)\">INFO</span>: Found 3 sources in exposure</pre>"
      ],
      "text/plain": [
       "<IPython.core.display.HTML object>"
      ]
     },
     "metadata": {},
     "output_type": "display_data"
    },
    {
     "data": {
      "text/html": [
       "<pre style=\"margin: 0.1em;\n",
       "padding-left: 0.25em;\n",
       "border-left-style: solid;\n",
       "font-family: var(--jp-code-font-family);\n",
       "font-size: var(--jp-code-font-size);\n",
       "line-height: var(--jp-code-line-height);\n",
       "\"><span style=\"color: var(--jp-warn-color2)\">lsst.quickFrameMeasurementTask</span> <span style=\"color: var(--jp-info-color0)\">INFO</span>: Measured 3 of 3 sources in exposure</pre>"
      ],
      "text/plain": [
       "<IPython.core.display.HTML object>"
      ]
     },
     "metadata": {},
     "output_type": "display_data"
    },
    {
     "name": "stdout",
     "output_type": "stream",
     "text": [
      "(65.4549233530, -51.8159966062)\n"
     ]
    },
    {
     "data": {
      "text/html": [
       "<pre style=\"margin: 0.1em;\n",
       "padding-left: 0.25em;\n",
       "border-left-style: solid;\n",
       "font-family: var(--jp-code-font-family);\n",
       "font-size: var(--jp-code-font-size);\n",
       "line-height: var(--jp-code-line-height);\n",
       "\"><span style=\"color: var(--jp-warn-color2)\">lsst.quickFrameMeasurementTask</span> <span style=\"color: var(--jp-info-color0)\">INFO</span>: Found 3 sources in exposure</pre>"
      ],
      "text/plain": [
       "<IPython.core.display.HTML object>"
      ]
     },
     "metadata": {},
     "output_type": "display_data"
    },
    {
     "data": {
      "text/html": [
       "<pre style=\"margin: 0.1em;\n",
       "padding-left: 0.25em;\n",
       "border-left-style: solid;\n",
       "font-family: var(--jp-code-font-family);\n",
       "font-size: var(--jp-code-font-size);\n",
       "line-height: var(--jp-code-line-height);\n",
       "\"><span style=\"color: var(--jp-warn-color2)\">lsst.quickFrameMeasurementTask</span> <span style=\"color: var(--jp-info-color0)\">INFO</span>: Measured 3 of 3 sources in exposure</pre>"
      ],
      "text/plain": [
       "<IPython.core.display.HTML object>"
      ]
     },
     "metadata": {},
     "output_type": "display_data"
    },
    {
     "name": "stdout",
     "output_type": "stream",
     "text": [
      "2022050500363\n"
     ]
    },
    {
     "data": {
      "text/html": [
       "<pre style=\"margin: 0.1em;\n",
       "padding-left: 0.25em;\n",
       "border-left-style: solid;\n",
       "font-family: var(--jp-code-font-family);\n",
       "font-size: var(--jp-code-font-size);\n",
       "line-height: var(--jp-code-line-height);\n",
       "\"><span style=\"color: var(--jp-warn-color2)\">lsst.summit.utils.bestEffort</span> <span style=\"color: var(--jp-info-color0)\">INFO</span>: Found a ready-made quickLookExp in the repo. Returning that.</pre>"
      ],
      "text/plain": [
       "<IPython.core.display.HTML object>"
      ]
     },
     "metadata": {},
     "output_type": "display_data"
    },
    {
     "data": {
      "text/html": [
       "<pre style=\"margin: 0.1em;\n",
       "padding-left: 0.25em;\n",
       "border-left-style: solid;\n",
       "font-family: var(--jp-code-font-family);\n",
       "font-size: var(--jp-code-font-size);\n",
       "line-height: var(--jp-code-line-height);\n",
       "\"><span style=\"color: var(--jp-warn-color2)\">lsst.quickFrameMeasurementTask</span> <span style=\"color: var(--jp-info-color0)\">INFO</span>: Found 3 sources in exposure</pre>"
      ],
      "text/plain": [
       "<IPython.core.display.HTML object>"
      ]
     },
     "metadata": {},
     "output_type": "display_data"
    },
    {
     "data": {
      "text/html": [
       "<pre style=\"margin: 0.1em;\n",
       "padding-left: 0.25em;\n",
       "border-left-style: solid;\n",
       "font-family: var(--jp-code-font-family);\n",
       "font-size: var(--jp-code-font-size);\n",
       "line-height: var(--jp-code-line-height);\n",
       "\"><span style=\"color: var(--jp-warn-color2)\">lsst.quickFrameMeasurementTask</span> <span style=\"color: var(--jp-info-color0)\">INFO</span>: Measured 3 of 3 sources in exposure</pre>"
      ],
      "text/plain": [
       "<IPython.core.display.HTML object>"
      ]
     },
     "metadata": {},
     "output_type": "display_data"
    },
    {
     "name": "stdout",
     "output_type": "stream",
     "text": [
      "(137.6601338582, -33.1024733642)\n"
     ]
    },
    {
     "data": {
      "text/html": [
       "<pre style=\"margin: 0.1em;\n",
       "padding-left: 0.25em;\n",
       "border-left-style: solid;\n",
       "font-family: var(--jp-code-font-family);\n",
       "font-size: var(--jp-code-font-size);\n",
       "line-height: var(--jp-code-line-height);\n",
       "\"><span style=\"color: var(--jp-warn-color2)\">lsst.quickFrameMeasurementTask</span> <span style=\"color: var(--jp-info-color0)\">INFO</span>: Found 3 sources in exposure</pre>"
      ],
      "text/plain": [
       "<IPython.core.display.HTML object>"
      ]
     },
     "metadata": {},
     "output_type": "display_data"
    },
    {
     "data": {
      "text/html": [
       "<pre style=\"margin: 0.1em;\n",
       "padding-left: 0.25em;\n",
       "border-left-style: solid;\n",
       "font-family: var(--jp-code-font-family);\n",
       "font-size: var(--jp-code-font-size);\n",
       "line-height: var(--jp-code-line-height);\n",
       "\"><span style=\"color: var(--jp-warn-color2)\">lsst.quickFrameMeasurementTask</span> <span style=\"color: var(--jp-info-color0)\">INFO</span>: Measured 3 of 3 sources in exposure</pre>"
      ],
      "text/plain": [
       "<IPython.core.display.HTML object>"
      ]
     },
     "metadata": {},
     "output_type": "display_data"
    },
    {
     "name": "stdout",
     "output_type": "stream",
     "text": [
      "2022050500365\n"
     ]
    },
    {
     "data": {
      "text/html": [
       "<pre style=\"margin: 0.1em;\n",
       "padding-left: 0.25em;\n",
       "border-left-style: solid;\n",
       "font-family: var(--jp-code-font-family);\n",
       "font-size: var(--jp-code-font-size);\n",
       "line-height: var(--jp-code-line-height);\n",
       "\"><span style=\"color: var(--jp-warn-color2)\">lsst.summit.utils.bestEffort</span> <span style=\"color: var(--jp-info-color0)\">INFO</span>: Found a ready-made quickLookExp in the repo. Returning that.</pre>"
      ],
      "text/plain": [
       "<IPython.core.display.HTML object>"
      ]
     },
     "metadata": {},
     "output_type": "display_data"
    },
    {
     "data": {
      "text/html": [
       "<pre style=\"margin: 0.1em;\n",
       "padding-left: 0.25em;\n",
       "border-left-style: solid;\n",
       "font-family: var(--jp-code-font-family);\n",
       "font-size: var(--jp-code-font-size);\n",
       "line-height: var(--jp-code-line-height);\n",
       "\"><span style=\"color: var(--jp-warn-color2)\">lsst.quickFrameMeasurementTask</span> <span style=\"color: var(--jp-info-color0)\">INFO</span>: Found 3 sources in exposure</pre>"
      ],
      "text/plain": [
       "<IPython.core.display.HTML object>"
      ]
     },
     "metadata": {},
     "output_type": "display_data"
    },
    {
     "data": {
      "text/html": [
       "<pre style=\"margin: 0.1em;\n",
       "padding-left: 0.25em;\n",
       "border-left-style: solid;\n",
       "font-family: var(--jp-code-font-family);\n",
       "font-size: var(--jp-code-font-size);\n",
       "line-height: var(--jp-code-line-height);\n",
       "\"><span style=\"color: var(--jp-warn-color2)\">lsst.quickFrameMeasurementTask</span> <span style=\"color: var(--jp-info-color0)\">INFO</span>: Measured 3 of 3 sources in exposure</pre>"
      ],
      "text/plain": [
       "<IPython.core.display.HTML object>"
      ]
     },
     "metadata": {},
     "output_type": "display_data"
    },
    {
     "name": "stdout",
     "output_type": "stream",
     "text": [
      "(76.9548449187, -43.1867855596)\n"
     ]
    },
    {
     "data": {
      "text/html": [
       "<pre style=\"margin: 0.1em;\n",
       "padding-left: 0.25em;\n",
       "border-left-style: solid;\n",
       "font-family: var(--jp-code-font-family);\n",
       "font-size: var(--jp-code-font-size);\n",
       "line-height: var(--jp-code-line-height);\n",
       "\"><span style=\"color: var(--jp-warn-color2)\">lsst.quickFrameMeasurementTask</span> <span style=\"color: var(--jp-info-color0)\">INFO</span>: Found 3 sources in exposure</pre>"
      ],
      "text/plain": [
       "<IPython.core.display.HTML object>"
      ]
     },
     "metadata": {},
     "output_type": "display_data"
    },
    {
     "data": {
      "text/html": [
       "<pre style=\"margin: 0.1em;\n",
       "padding-left: 0.25em;\n",
       "border-left-style: solid;\n",
       "font-family: var(--jp-code-font-family);\n",
       "font-size: var(--jp-code-font-size);\n",
       "line-height: var(--jp-code-line-height);\n",
       "\"><span style=\"color: var(--jp-warn-color2)\">lsst.quickFrameMeasurementTask</span> <span style=\"color: var(--jp-info-color0)\">INFO</span>: Measured 3 of 3 sources in exposure</pre>"
      ],
      "text/plain": [
       "<IPython.core.display.HTML object>"
      ]
     },
     "metadata": {},
     "output_type": "display_data"
    },
    {
     "name": "stdout",
     "output_type": "stream",
     "text": [
      "2022050500367\n"
     ]
    },
    {
     "data": {
      "text/html": [
       "<pre style=\"margin: 0.1em;\n",
       "padding-left: 0.25em;\n",
       "border-left-style: solid;\n",
       "font-family: var(--jp-code-font-family);\n",
       "font-size: var(--jp-code-font-size);\n",
       "line-height: var(--jp-code-line-height);\n",
       "\"><span style=\"color: var(--jp-warn-color2)\">lsst.summit.utils.bestEffort</span> <span style=\"color: var(--jp-info-color0)\">INFO</span>: Found a ready-made quickLookExp in the repo. Returning that.</pre>"
      ],
      "text/plain": [
       "<IPython.core.display.HTML object>"
      ]
     },
     "metadata": {},
     "output_type": "display_data"
    },
    {
     "data": {
      "text/html": [
       "<pre style=\"margin: 0.1em;\n",
       "padding-left: 0.25em;\n",
       "border-left-style: solid;\n",
       "font-family: var(--jp-code-font-family);\n",
       "font-size: var(--jp-code-font-size);\n",
       "line-height: var(--jp-code-line-height);\n",
       "\"><span style=\"color: var(--jp-warn-color2)\">lsst.quickFrameMeasurementTask</span> <span style=\"color: var(--jp-info-color0)\">INFO</span>: Found 3 sources in exposure</pre>"
      ],
      "text/plain": [
       "<IPython.core.display.HTML object>"
      ]
     },
     "metadata": {},
     "output_type": "display_data"
    },
    {
     "data": {
      "text/html": [
       "<pre style=\"margin: 0.1em;\n",
       "padding-left: 0.25em;\n",
       "border-left-style: solid;\n",
       "font-family: var(--jp-code-font-family);\n",
       "font-size: var(--jp-code-font-size);\n",
       "line-height: var(--jp-code-line-height);\n",
       "\"><span style=\"color: var(--jp-warn-color2)\">lsst.quickFrameMeasurementTask</span> <span style=\"color: var(--jp-info-color0)\">INFO</span>: Measured 3 of 3 sources in exposure</pre>"
      ],
      "text/plain": [
       "<IPython.core.display.HTML object>"
      ]
     },
     "metadata": {},
     "output_type": "display_data"
    },
    {
     "name": "stdout",
     "output_type": "stream",
     "text": [
      "(61.4217935992, -40.5256671578)\n"
     ]
    },
    {
     "data": {
      "text/html": [
       "<pre style=\"margin: 0.1em;\n",
       "padding-left: 0.25em;\n",
       "border-left-style: solid;\n",
       "font-family: var(--jp-code-font-family);\n",
       "font-size: var(--jp-code-font-size);\n",
       "line-height: var(--jp-code-line-height);\n",
       "\"><span style=\"color: var(--jp-warn-color2)\">lsst.quickFrameMeasurementTask</span> <span style=\"color: var(--jp-info-color0)\">INFO</span>: Found 3 sources in exposure</pre>"
      ],
      "text/plain": [
       "<IPython.core.display.HTML object>"
      ]
     },
     "metadata": {},
     "output_type": "display_data"
    },
    {
     "data": {
      "text/html": [
       "<pre style=\"margin: 0.1em;\n",
       "padding-left: 0.25em;\n",
       "border-left-style: solid;\n",
       "font-family: var(--jp-code-font-family);\n",
       "font-size: var(--jp-code-font-size);\n",
       "line-height: var(--jp-code-line-height);\n",
       "\"><span style=\"color: var(--jp-warn-color2)\">lsst.quickFrameMeasurementTask</span> <span style=\"color: var(--jp-info-color0)\">INFO</span>: Measured 3 of 3 sources in exposure</pre>"
      ],
      "text/plain": [
       "<IPython.core.display.HTML object>"
      ]
     },
     "metadata": {},
     "output_type": "display_data"
    },
    {
     "name": "stdout",
     "output_type": "stream",
     "text": [
      "2022050500369\n"
     ]
    },
    {
     "data": {
      "text/html": [
       "<pre style=\"margin: 0.1em;\n",
       "padding-left: 0.25em;\n",
       "border-left-style: solid;\n",
       "font-family: var(--jp-code-font-family);\n",
       "font-size: var(--jp-code-font-size);\n",
       "line-height: var(--jp-code-line-height);\n",
       "\"><span style=\"color: var(--jp-warn-color2)\">lsst.summit.utils.bestEffort</span> <span style=\"color: var(--jp-info-color0)\">INFO</span>: Found a ready-made quickLookExp in the repo. Returning that.</pre>"
      ],
      "text/plain": [
       "<IPython.core.display.HTML object>"
      ]
     },
     "metadata": {},
     "output_type": "display_data"
    },
    {
     "data": {
      "text/html": [
       "<pre style=\"margin: 0.1em;\n",
       "padding-left: 0.25em;\n",
       "border-left-style: solid;\n",
       "font-family: var(--jp-code-font-family);\n",
       "font-size: var(--jp-code-font-size);\n",
       "line-height: var(--jp-code-line-height);\n",
       "\"><span style=\"color: var(--jp-warn-color2)\">lsst.quickFrameMeasurementTask</span> <span style=\"color: var(--jp-info-color0)\">INFO</span>: Found 4 sources in exposure</pre>"
      ],
      "text/plain": [
       "<IPython.core.display.HTML object>"
      ]
     },
     "metadata": {},
     "output_type": "display_data"
    },
    {
     "data": {
      "text/html": [
       "<pre style=\"margin: 0.1em;\n",
       "padding-left: 0.25em;\n",
       "border-left-style: solid;\n",
       "font-family: var(--jp-code-font-family);\n",
       "font-size: var(--jp-code-font-size);\n",
       "line-height: var(--jp-code-line-height);\n",
       "\"><span style=\"color: var(--jp-warn-color2)\">lsst.quickFrameMeasurementTask</span> <span style=\"color: var(--jp-info-color0)\">INFO</span>: Measured 4 of 4 sources in exposure</pre>"
      ],
      "text/plain": [
       "<IPython.core.display.HTML object>"
      ]
     },
     "metadata": {},
     "output_type": "display_data"
    },
    {
     "name": "stdout",
     "output_type": "stream",
     "text": [
      "(120.9614918415, -35.5116890664)\n"
     ]
    },
    {
     "data": {
      "text/html": [
       "<pre style=\"margin: 0.1em;\n",
       "padding-left: 0.25em;\n",
       "border-left-style: solid;\n",
       "font-family: var(--jp-code-font-family);\n",
       "font-size: var(--jp-code-font-size);\n",
       "line-height: var(--jp-code-line-height);\n",
       "\"><span style=\"color: var(--jp-warn-color2)\">lsst.quickFrameMeasurementTask</span> <span style=\"color: var(--jp-info-color0)\">INFO</span>: Found 4 sources in exposure</pre>"
      ],
      "text/plain": [
       "<IPython.core.display.HTML object>"
      ]
     },
     "metadata": {},
     "output_type": "display_data"
    },
    {
     "data": {
      "text/html": [
       "<pre style=\"margin: 0.1em;\n",
       "padding-left: 0.25em;\n",
       "border-left-style: solid;\n",
       "font-family: var(--jp-code-font-family);\n",
       "font-size: var(--jp-code-font-size);\n",
       "line-height: var(--jp-code-line-height);\n",
       "\"><span style=\"color: var(--jp-warn-color2)\">lsst.quickFrameMeasurementTask</span> <span style=\"color: var(--jp-info-color0)\">INFO</span>: Measured 4 of 4 sources in exposure</pre>"
      ],
      "text/plain": [
       "<IPython.core.display.HTML object>"
      ]
     },
     "metadata": {},
     "output_type": "display_data"
    },
    {
     "name": "stdout",
     "output_type": "stream",
     "text": [
      "2022050500371\n"
     ]
    },
    {
     "data": {
      "text/html": [
       "<pre style=\"margin: 0.1em;\n",
       "padding-left: 0.25em;\n",
       "border-left-style: solid;\n",
       "font-family: var(--jp-code-font-family);\n",
       "font-size: var(--jp-code-font-size);\n",
       "line-height: var(--jp-code-line-height);\n",
       "\"><span style=\"color: var(--jp-warn-color2)\">lsst.summit.utils.bestEffort</span> <span style=\"color: var(--jp-info-color0)\">INFO</span>: Found a ready-made quickLookExp in the repo. Returning that.</pre>"
      ],
      "text/plain": [
       "<IPython.core.display.HTML object>"
      ]
     },
     "metadata": {},
     "output_type": "display_data"
    },
    {
     "data": {
      "text/html": [
       "<pre style=\"margin: 0.1em;\n",
       "padding-left: 0.25em;\n",
       "border-left-style: solid;\n",
       "font-family: var(--jp-code-font-family);\n",
       "font-size: var(--jp-code-font-size);\n",
       "line-height: var(--jp-code-line-height);\n",
       "\"><span style=\"color: var(--jp-warn-color2)\">lsst.quickFrameMeasurementTask</span> <span style=\"color: var(--jp-info-color0)\">INFO</span>: Found 3 sources in exposure</pre>"
      ],
      "text/plain": [
       "<IPython.core.display.HTML object>"
      ]
     },
     "metadata": {},
     "output_type": "display_data"
    },
    {
     "data": {
      "text/html": [
       "<pre style=\"margin: 0.1em;\n",
       "padding-left: 0.25em;\n",
       "border-left-style: solid;\n",
       "font-family: var(--jp-code-font-family);\n",
       "font-size: var(--jp-code-font-size);\n",
       "line-height: var(--jp-code-line-height);\n",
       "\"><span style=\"color: var(--jp-warn-color2)\">lsst.quickFrameMeasurementTask</span> <span style=\"color: var(--jp-info-color0)\">INFO</span>: Measured 3 of 3 sources in exposure</pre>"
      ],
      "text/plain": [
       "<IPython.core.display.HTML object>"
      ]
     },
     "metadata": {},
     "output_type": "display_data"
    },
    {
     "name": "stdout",
     "output_type": "stream",
     "text": [
      "(63.9181989066, -30.5550839816)\n"
     ]
    },
    {
     "data": {
      "text/html": [
       "<pre style=\"margin: 0.1em;\n",
       "padding-left: 0.25em;\n",
       "border-left-style: solid;\n",
       "font-family: var(--jp-code-font-family);\n",
       "font-size: var(--jp-code-font-size);\n",
       "line-height: var(--jp-code-line-height);\n",
       "\"><span style=\"color: var(--jp-warn-color2)\">lsst.quickFrameMeasurementTask</span> <span style=\"color: var(--jp-info-color0)\">INFO</span>: Found 3 sources in exposure</pre>"
      ],
      "text/plain": [
       "<IPython.core.display.HTML object>"
      ]
     },
     "metadata": {},
     "output_type": "display_data"
    },
    {
     "data": {
      "text/html": [
       "<pre style=\"margin: 0.1em;\n",
       "padding-left: 0.25em;\n",
       "border-left-style: solid;\n",
       "font-family: var(--jp-code-font-family);\n",
       "font-size: var(--jp-code-font-size);\n",
       "line-height: var(--jp-code-line-height);\n",
       "\"><span style=\"color: var(--jp-warn-color2)\">lsst.quickFrameMeasurementTask</span> <span style=\"color: var(--jp-info-color0)\">INFO</span>: Measured 3 of 3 sources in exposure</pre>"
      ],
      "text/plain": [
       "<IPython.core.display.HTML object>"
      ]
     },
     "metadata": {},
     "output_type": "display_data"
    },
    {
     "name": "stdout",
     "output_type": "stream",
     "text": [
      "2022050500373\n"
     ]
    },
    {
     "data": {
      "text/html": [
       "<pre style=\"margin: 0.1em;\n",
       "padding-left: 0.25em;\n",
       "border-left-style: solid;\n",
       "font-family: var(--jp-code-font-family);\n",
       "font-size: var(--jp-code-font-size);\n",
       "line-height: var(--jp-code-line-height);\n",
       "\"><span style=\"color: var(--jp-warn-color2)\">lsst.summit.utils.bestEffort</span> <span style=\"color: var(--jp-info-color0)\">INFO</span>: Found a ready-made quickLookExp in the repo. Returning that.</pre>"
      ],
      "text/plain": [
       "<IPython.core.display.HTML object>"
      ]
     },
     "metadata": {},
     "output_type": "display_data"
    },
    {
     "data": {
      "text/html": [
       "<pre style=\"margin: 0.1em;\n",
       "padding-left: 0.25em;\n",
       "border-left-style: solid;\n",
       "font-family: var(--jp-code-font-family);\n",
       "font-size: var(--jp-code-font-size);\n",
       "line-height: var(--jp-code-line-height);\n",
       "\"><span style=\"color: var(--jp-warn-color2)\">lsst.quickFrameMeasurementTask</span> <span style=\"color: var(--jp-info-color0)\">INFO</span>: Found 2 sources in exposure</pre>"
      ],
      "text/plain": [
       "<IPython.core.display.HTML object>"
      ]
     },
     "metadata": {},
     "output_type": "display_data"
    },
    {
     "data": {
      "text/html": [
       "<pre style=\"margin: 0.1em;\n",
       "padding-left: 0.25em;\n",
       "border-left-style: solid;\n",
       "font-family: var(--jp-code-font-family);\n",
       "font-size: var(--jp-code-font-size);\n",
       "line-height: var(--jp-code-line-height);\n",
       "\"><span style=\"color: var(--jp-warn-color2)\">lsst.quickFrameMeasurementTask</span> <span style=\"color: var(--jp-info-color0)\">INFO</span>: Measured 2 of 2 sources in exposure</pre>"
      ],
      "text/plain": [
       "<IPython.core.display.HTML object>"
      ]
     },
     "metadata": {},
     "output_type": "display_data"
    },
    {
     "name": "stdout",
     "output_type": "stream",
     "text": [
      "(86.2898668123, -26.9905118122)\n"
     ]
    },
    {
     "data": {
      "text/html": [
       "<pre style=\"margin: 0.1em;\n",
       "padding-left: 0.25em;\n",
       "border-left-style: solid;\n",
       "font-family: var(--jp-code-font-family);\n",
       "font-size: var(--jp-code-font-size);\n",
       "line-height: var(--jp-code-line-height);\n",
       "\"><span style=\"color: var(--jp-warn-color2)\">lsst.quickFrameMeasurementTask</span> <span style=\"color: var(--jp-info-color0)\">INFO</span>: Found 2 sources in exposure</pre>"
      ],
      "text/plain": [
       "<IPython.core.display.HTML object>"
      ]
     },
     "metadata": {},
     "output_type": "display_data"
    },
    {
     "data": {
      "text/html": [
       "<pre style=\"margin: 0.1em;\n",
       "padding-left: 0.25em;\n",
       "border-left-style: solid;\n",
       "font-family: var(--jp-code-font-family);\n",
       "font-size: var(--jp-code-font-size);\n",
       "line-height: var(--jp-code-line-height);\n",
       "\"><span style=\"color: var(--jp-warn-color2)\">lsst.quickFrameMeasurementTask</span> <span style=\"color: var(--jp-info-color0)\">INFO</span>: Measured 2 of 2 sources in exposure</pre>"
      ],
      "text/plain": [
       "<IPython.core.display.HTML object>"
      ]
     },
     "metadata": {},
     "output_type": "display_data"
    },
    {
     "name": "stdout",
     "output_type": "stream",
     "text": [
      "2022050500375\n"
     ]
    },
    {
     "data": {
      "text/html": [
       "<pre style=\"margin: 0.1em;\n",
       "padding-left: 0.25em;\n",
       "border-left-style: solid;\n",
       "font-family: var(--jp-code-font-family);\n",
       "font-size: var(--jp-code-font-size);\n",
       "line-height: var(--jp-code-line-height);\n",
       "\"><span style=\"color: var(--jp-warn-color2)\">lsst.summit.utils.bestEffort</span> <span style=\"color: var(--jp-info-color0)\">INFO</span>: Found a ready-made quickLookExp in the repo. Returning that.</pre>"
      ],
      "text/plain": [
       "<IPython.core.display.HTML object>"
      ]
     },
     "metadata": {},
     "output_type": "display_data"
    },
    {
     "data": {
      "text/html": [
       "<pre style=\"margin: 0.1em;\n",
       "padding-left: 0.25em;\n",
       "border-left-style: solid;\n",
       "font-family: var(--jp-code-font-family);\n",
       "font-size: var(--jp-code-font-size);\n",
       "line-height: var(--jp-code-line-height);\n",
       "\"><span style=\"color: var(--jp-warn-color2)\">lsst.quickFrameMeasurementTask</span> <span style=\"color: var(--jp-info-color0)\">INFO</span>: Found 4 sources in exposure</pre>"
      ],
      "text/plain": [
       "<IPython.core.display.HTML object>"
      ]
     },
     "metadata": {},
     "output_type": "display_data"
    },
    {
     "data": {
      "text/html": [
       "<pre style=\"margin: 0.1em;\n",
       "padding-left: 0.25em;\n",
       "border-left-style: solid;\n",
       "font-family: var(--jp-code-font-family);\n",
       "font-size: var(--jp-code-font-size);\n",
       "line-height: var(--jp-code-line-height);\n",
       "\"><span style=\"color: var(--jp-warn-color2)\">lsst.quickFrameMeasurementTask</span> <span style=\"color: var(--jp-info-color0)\">INFO</span>: Measured 4 of 4 sources in exposure</pre>"
      ],
      "text/plain": [
       "<IPython.core.display.HTML object>"
      ]
     },
     "metadata": {},
     "output_type": "display_data"
    },
    {
     "name": "stdout",
     "output_type": "stream",
     "text": [
      "(73.7772788344, -11.7485542208)\n"
     ]
    },
    {
     "data": {
      "text/html": [
       "<pre style=\"margin: 0.1em;\n",
       "padding-left: 0.25em;\n",
       "border-left-style: solid;\n",
       "font-family: var(--jp-code-font-family);\n",
       "font-size: var(--jp-code-font-size);\n",
       "line-height: var(--jp-code-line-height);\n",
       "\"><span style=\"color: var(--jp-warn-color2)\">lsst.quickFrameMeasurementTask</span> <span style=\"color: var(--jp-info-color0)\">INFO</span>: Found 4 sources in exposure</pre>"
      ],
      "text/plain": [
       "<IPython.core.display.HTML object>"
      ]
     },
     "metadata": {},
     "output_type": "display_data"
    },
    {
     "data": {
      "text/html": [
       "<pre style=\"margin: 0.1em;\n",
       "padding-left: 0.25em;\n",
       "border-left-style: solid;\n",
       "font-family: var(--jp-code-font-family);\n",
       "font-size: var(--jp-code-font-size);\n",
       "line-height: var(--jp-code-line-height);\n",
       "\"><span style=\"color: var(--jp-warn-color2)\">lsst.quickFrameMeasurementTask</span> <span style=\"color: var(--jp-info-color0)\">INFO</span>: Measured 4 of 4 sources in exposure</pre>"
      ],
      "text/plain": [
       "<IPython.core.display.HTML object>"
      ]
     },
     "metadata": {},
     "output_type": "display_data"
    },
    {
     "name": "stdout",
     "output_type": "stream",
     "text": [
      "2022050500377\n"
     ]
    },
    {
     "data": {
      "text/html": [
       "<pre style=\"margin: 0.1em;\n",
       "padding-left: 0.25em;\n",
       "border-left-style: solid;\n",
       "font-family: var(--jp-code-font-family);\n",
       "font-size: var(--jp-code-font-size);\n",
       "line-height: var(--jp-code-line-height);\n",
       "\"><span style=\"color: var(--jp-warn-color2)\">lsst.summit.utils.bestEffort</span> <span style=\"color: var(--jp-info-color0)\">INFO</span>: Found a ready-made quickLookExp in the repo. Returning that.</pre>"
      ],
      "text/plain": [
       "<IPython.core.display.HTML object>"
      ]
     },
     "metadata": {},
     "output_type": "display_data"
    },
    {
     "data": {
      "text/html": [
       "<pre style=\"margin: 0.1em;\n",
       "padding-left: 0.25em;\n",
       "border-left-style: solid;\n",
       "font-family: var(--jp-code-font-family);\n",
       "font-size: var(--jp-code-font-size);\n",
       "line-height: var(--jp-code-line-height);\n",
       "\"><span style=\"color: var(--jp-warn-color2)\">lsst.quickFrameMeasurementTask</span> <span style=\"color: var(--jp-info-color0)\">INFO</span>: Found 2 sources in exposure</pre>"
      ],
      "text/plain": [
       "<IPython.core.display.HTML object>"
      ]
     },
     "metadata": {},
     "output_type": "display_data"
    },
    {
     "data": {
      "text/html": [
       "<pre style=\"margin: 0.1em;\n",
       "padding-left: 0.25em;\n",
       "border-left-style: solid;\n",
       "font-family: var(--jp-code-font-family);\n",
       "font-size: var(--jp-code-font-size);\n",
       "line-height: var(--jp-code-line-height);\n",
       "\"><span style=\"color: var(--jp-warn-color2)\">lsst.quickFrameMeasurementTask</span> <span style=\"color: var(--jp-info-color0)\">INFO</span>: Measured 2 of 2 sources in exposure</pre>"
      ],
      "text/plain": [
       "<IPython.core.display.HTML object>"
      ]
     },
     "metadata": {},
     "output_type": "display_data"
    },
    {
     "name": "stdout",
     "output_type": "stream",
     "text": [
      "(94.3448930616, -11.3789883959)\n"
     ]
    },
    {
     "data": {
      "text/html": [
       "<pre style=\"margin: 0.1em;\n",
       "padding-left: 0.25em;\n",
       "border-left-style: solid;\n",
       "font-family: var(--jp-code-font-family);\n",
       "font-size: var(--jp-code-font-size);\n",
       "line-height: var(--jp-code-line-height);\n",
       "\"><span style=\"color: var(--jp-warn-color2)\">lsst.quickFrameMeasurementTask</span> <span style=\"color: var(--jp-info-color0)\">INFO</span>: Found 2 sources in exposure</pre>"
      ],
      "text/plain": [
       "<IPython.core.display.HTML object>"
      ]
     },
     "metadata": {},
     "output_type": "display_data"
    },
    {
     "data": {
      "text/html": [
       "<pre style=\"margin: 0.1em;\n",
       "padding-left: 0.25em;\n",
       "border-left-style: solid;\n",
       "font-family: var(--jp-code-font-family);\n",
       "font-size: var(--jp-code-font-size);\n",
       "line-height: var(--jp-code-line-height);\n",
       "\"><span style=\"color: var(--jp-warn-color2)\">lsst.quickFrameMeasurementTask</span> <span style=\"color: var(--jp-info-color0)\">INFO</span>: Measured 2 of 2 sources in exposure</pre>"
      ],
      "text/plain": [
       "<IPython.core.display.HTML object>"
      ]
     },
     "metadata": {},
     "output_type": "display_data"
    },
    {
     "name": "stdout",
     "output_type": "stream",
     "text": [
      "2022050500379\n"
     ]
    },
    {
     "data": {
      "text/html": [
       "<pre style=\"margin: 0.1em;\n",
       "padding-left: 0.25em;\n",
       "border-left-style: solid;\n",
       "font-family: var(--jp-code-font-family);\n",
       "font-size: var(--jp-code-font-size);\n",
       "line-height: var(--jp-code-line-height);\n",
       "\"><span style=\"color: var(--jp-warn-color2)\">lsst.summit.utils.bestEffort</span> <span style=\"color: var(--jp-info-color0)\">INFO</span>: Found a ready-made quickLookExp in the repo. Returning that.</pre>"
      ],
      "text/plain": [
       "<IPython.core.display.HTML object>"
      ]
     },
     "metadata": {},
     "output_type": "display_data"
    },
    {
     "data": {
      "text/html": [
       "<pre style=\"margin: 0.1em;\n",
       "padding-left: 0.25em;\n",
       "border-left-style: solid;\n",
       "font-family: var(--jp-code-font-family);\n",
       "font-size: var(--jp-code-font-size);\n",
       "line-height: var(--jp-code-line-height);\n",
       "\"><span style=\"color: var(--jp-warn-color2)\">lsst.quickFrameMeasurementTask</span> <span style=\"color: var(--jp-info-color0)\">INFO</span>: Found 2 sources in exposure</pre>"
      ],
      "text/plain": [
       "<IPython.core.display.HTML object>"
      ]
     },
     "metadata": {},
     "output_type": "display_data"
    },
    {
     "data": {
      "text/html": [
       "<pre style=\"margin: 0.1em;\n",
       "padding-left: 0.25em;\n",
       "border-left-style: solid;\n",
       "font-family: var(--jp-code-font-family);\n",
       "font-size: var(--jp-code-font-size);\n",
       "line-height: var(--jp-code-line-height);\n",
       "\"><span style=\"color: var(--jp-warn-color2)\">lsst.quickFrameMeasurementTask</span> <span style=\"color: var(--jp-info-color0)\">INFO</span>: Measured 2 of 2 sources in exposure</pre>"
      ],
      "text/plain": [
       "<IPython.core.display.HTML object>"
      ]
     },
     "metadata": {},
     "output_type": "display_data"
    },
    {
     "name": "stdout",
     "output_type": "stream",
     "text": [
      "(79.6017276597, -2.5341065973)\n"
     ]
    },
    {
     "data": {
      "text/html": [
       "<pre style=\"margin: 0.1em;\n",
       "padding-left: 0.25em;\n",
       "border-left-style: solid;\n",
       "font-family: var(--jp-code-font-family);\n",
       "font-size: var(--jp-code-font-size);\n",
       "line-height: var(--jp-code-line-height);\n",
       "\"><span style=\"color: var(--jp-warn-color2)\">lsst.quickFrameMeasurementTask</span> <span style=\"color: var(--jp-info-color0)\">INFO</span>: Found 2 sources in exposure</pre>"
      ],
      "text/plain": [
       "<IPython.core.display.HTML object>"
      ]
     },
     "metadata": {},
     "output_type": "display_data"
    },
    {
     "data": {
      "text/html": [
       "<pre style=\"margin: 0.1em;\n",
       "padding-left: 0.25em;\n",
       "border-left-style: solid;\n",
       "font-family: var(--jp-code-font-family);\n",
       "font-size: var(--jp-code-font-size);\n",
       "line-height: var(--jp-code-line-height);\n",
       "\"><span style=\"color: var(--jp-warn-color2)\">lsst.quickFrameMeasurementTask</span> <span style=\"color: var(--jp-info-color0)\">INFO</span>: Measured 2 of 2 sources in exposure</pre>"
      ],
      "text/plain": [
       "<IPython.core.display.HTML object>"
      ]
     },
     "metadata": {},
     "output_type": "display_data"
    },
    {
     "name": "stdout",
     "output_type": "stream",
     "text": [
      "2022050500381\n"
     ]
    },
    {
     "data": {
      "text/html": [
       "<pre style=\"margin: 0.1em;\n",
       "padding-left: 0.25em;\n",
       "border-left-style: solid;\n",
       "font-family: var(--jp-code-font-family);\n",
       "font-size: var(--jp-code-font-size);\n",
       "line-height: var(--jp-code-line-height);\n",
       "\"><span style=\"color: var(--jp-warn-color2)\">lsst.summit.utils.bestEffort</span> <span style=\"color: var(--jp-info-color0)\">INFO</span>: Found a ready-made quickLookExp in the repo. Returning that.</pre>"
      ],
      "text/plain": [
       "<IPython.core.display.HTML object>"
      ]
     },
     "metadata": {},
     "output_type": "display_data"
    },
    {
     "data": {
      "text/html": [
       "<pre style=\"margin: 0.1em;\n",
       "padding-left: 0.25em;\n",
       "border-left-style: solid;\n",
       "font-family: var(--jp-code-font-family);\n",
       "font-size: var(--jp-code-font-size);\n",
       "line-height: var(--jp-code-line-height);\n",
       "\"><span style=\"color: var(--jp-warn-color2)\">lsst.quickFrameMeasurementTask</span> <span style=\"color: var(--jp-info-color0)\">INFO</span>: Found 5 sources in exposure</pre>"
      ],
      "text/plain": [
       "<IPython.core.display.HTML object>"
      ]
     },
     "metadata": {},
     "output_type": "display_data"
    },
    {
     "data": {
      "text/html": [
       "<pre style=\"margin: 0.1em;\n",
       "padding-left: 0.25em;\n",
       "border-left-style: solid;\n",
       "font-family: var(--jp-code-font-family);\n",
       "font-size: var(--jp-code-font-size);\n",
       "line-height: var(--jp-code-line-height);\n",
       "\"><span style=\"color: var(--jp-warn-color2)\">lsst.quickFrameMeasurementTask</span> <span style=\"color: var(--jp-info-color0)\">INFO</span>: Measured 5 of 5 sources in exposure</pre>"
      ],
      "text/plain": [
       "<IPython.core.display.HTML object>"
      ]
     },
     "metadata": {},
     "output_type": "display_data"
    },
    {
     "name": "stdout",
     "output_type": "stream",
     "text": [
      "(114.9931481434, -19.0584372719)\n"
     ]
    },
    {
     "data": {
      "text/html": [
       "<pre style=\"margin: 0.1em;\n",
       "padding-left: 0.25em;\n",
       "border-left-style: solid;\n",
       "font-family: var(--jp-code-font-family);\n",
       "font-size: var(--jp-code-font-size);\n",
       "line-height: var(--jp-code-line-height);\n",
       "\"><span style=\"color: var(--jp-warn-color2)\">lsst.quickFrameMeasurementTask</span> <span style=\"color: var(--jp-info-color0)\">INFO</span>: Found 5 sources in exposure</pre>"
      ],
      "text/plain": [
       "<IPython.core.display.HTML object>"
      ]
     },
     "metadata": {},
     "output_type": "display_data"
    },
    {
     "data": {
      "text/html": [
       "<pre style=\"margin: 0.1em;\n",
       "padding-left: 0.25em;\n",
       "border-left-style: solid;\n",
       "font-family: var(--jp-code-font-family);\n",
       "font-size: var(--jp-code-font-size);\n",
       "line-height: var(--jp-code-line-height);\n",
       "\"><span style=\"color: var(--jp-warn-color2)\">lsst.quickFrameMeasurementTask</span> <span style=\"color: var(--jp-info-color0)\">INFO</span>: Measured 5 of 5 sources in exposure</pre>"
      ],
      "text/plain": [
       "<IPython.core.display.HTML object>"
      ]
     },
     "metadata": {},
     "output_type": "display_data"
    },
    {
     "name": "stdout",
     "output_type": "stream",
     "text": [
      "2022050500383\n"
     ]
    },
    {
     "data": {
      "text/html": [
       "<pre style=\"margin: 0.1em;\n",
       "padding-left: 0.25em;\n",
       "border-left-style: solid;\n",
       "font-family: var(--jp-code-font-family);\n",
       "font-size: var(--jp-code-font-size);\n",
       "line-height: var(--jp-code-line-height);\n",
       "\"><span style=\"color: var(--jp-warn-color2)\">lsst.summit.utils.bestEffort</span> <span style=\"color: var(--jp-info-color0)\">INFO</span>: Found a ready-made quickLookExp in the repo. Returning that.</pre>"
      ],
      "text/plain": [
       "<IPython.core.display.HTML object>"
      ]
     },
     "metadata": {},
     "output_type": "display_data"
    },
    {
     "data": {
      "text/html": [
       "<pre style=\"margin: 0.1em;\n",
       "padding-left: 0.25em;\n",
       "border-left-style: solid;\n",
       "font-family: var(--jp-code-font-family);\n",
       "font-size: var(--jp-code-font-size);\n",
       "line-height: var(--jp-code-line-height);\n",
       "\"><span style=\"color: var(--jp-warn-color2)\">lsst.quickFrameMeasurementTask</span> <span style=\"color: var(--jp-info-color0)\">INFO</span>: Found 2 sources in exposure</pre>"
      ],
      "text/plain": [
       "<IPython.core.display.HTML object>"
      ]
     },
     "metadata": {},
     "output_type": "display_data"
    },
    {
     "data": {
      "text/html": [
       "<pre style=\"margin: 0.1em;\n",
       "padding-left: 0.25em;\n",
       "border-left-style: solid;\n",
       "font-family: var(--jp-code-font-family);\n",
       "font-size: var(--jp-code-font-size);\n",
       "line-height: var(--jp-code-line-height);\n",
       "\"><span style=\"color: var(--jp-warn-color2)\">lsst.quickFrameMeasurementTask</span> <span style=\"color: var(--jp-info-color0)\">INFO</span>: Measured 2 of 2 sources in exposure</pre>"
      ],
      "text/plain": [
       "<IPython.core.display.HTML object>"
      ]
     },
     "metadata": {},
     "output_type": "display_data"
    },
    {
     "name": "stdout",
     "output_type": "stream",
     "text": [
      "(125.5981075294, -21.0070671090)\n"
     ]
    },
    {
     "data": {
      "text/html": [
       "<pre style=\"margin: 0.1em;\n",
       "padding-left: 0.25em;\n",
       "border-left-style: solid;\n",
       "font-family: var(--jp-code-font-family);\n",
       "font-size: var(--jp-code-font-size);\n",
       "line-height: var(--jp-code-line-height);\n",
       "\"><span style=\"color: var(--jp-warn-color2)\">lsst.quickFrameMeasurementTask</span> <span style=\"color: var(--jp-info-color0)\">INFO</span>: Found 2 sources in exposure</pre>"
      ],
      "text/plain": [
       "<IPython.core.display.HTML object>"
      ]
     },
     "metadata": {},
     "output_type": "display_data"
    },
    {
     "data": {
      "text/html": [
       "<pre style=\"margin: 0.1em;\n",
       "padding-left: 0.25em;\n",
       "border-left-style: solid;\n",
       "font-family: var(--jp-code-font-family);\n",
       "font-size: var(--jp-code-font-size);\n",
       "line-height: var(--jp-code-line-height);\n",
       "\"><span style=\"color: var(--jp-warn-color2)\">lsst.quickFrameMeasurementTask</span> <span style=\"color: var(--jp-info-color0)\">INFO</span>: Measured 2 of 2 sources in exposure</pre>"
      ],
      "text/plain": [
       "<IPython.core.display.HTML object>"
      ]
     },
     "metadata": {},
     "output_type": "display_data"
    },
    {
     "name": "stdout",
     "output_type": "stream",
     "text": [
      "2022050500385\n"
     ]
    },
    {
     "data": {
      "text/html": [
       "<pre style=\"margin: 0.1em;\n",
       "padding-left: 0.25em;\n",
       "border-left-style: solid;\n",
       "font-family: var(--jp-code-font-family);\n",
       "font-size: var(--jp-code-font-size);\n",
       "line-height: var(--jp-code-line-height);\n",
       "\"><span style=\"color: var(--jp-warn-color2)\">lsst.summit.utils.bestEffort</span> <span style=\"color: var(--jp-info-color0)\">INFO</span>: Found a ready-made quickLookExp in the repo. Returning that.</pre>"
      ],
      "text/plain": [
       "<IPython.core.display.HTML object>"
      ]
     },
     "metadata": {},
     "output_type": "display_data"
    },
    {
     "data": {
      "text/html": [
       "<pre style=\"margin: 0.1em;\n",
       "padding-left: 0.25em;\n",
       "border-left-style: solid;\n",
       "font-family: var(--jp-code-font-family);\n",
       "font-size: var(--jp-code-font-size);\n",
       "line-height: var(--jp-code-line-height);\n",
       "\"><span style=\"color: var(--jp-warn-color2)\">lsst.quickFrameMeasurementTask</span> <span style=\"color: var(--jp-info-color0)\">INFO</span>: Found 4 sources in exposure</pre>"
      ],
      "text/plain": [
       "<IPython.core.display.HTML object>"
      ]
     },
     "metadata": {},
     "output_type": "display_data"
    },
    {
     "data": {
      "text/html": [
       "<pre style=\"margin: 0.1em;\n",
       "padding-left: 0.25em;\n",
       "border-left-style: solid;\n",
       "font-family: var(--jp-code-font-family);\n",
       "font-size: var(--jp-code-font-size);\n",
       "line-height: var(--jp-code-line-height);\n",
       "\"><span style=\"color: var(--jp-warn-color2)\">lsst.quickFrameMeasurementTask</span> <span style=\"color: var(--jp-info-color0)\">INFO</span>: Measured 4 of 4 sources in exposure</pre>"
      ],
      "text/plain": [
       "<IPython.core.display.HTML object>"
      ]
     },
     "metadata": {},
     "output_type": "display_data"
    },
    {
     "name": "stdout",
     "output_type": "stream",
     "text": [
      "(87.9395254169, +4.3589760682)\n"
     ]
    },
    {
     "data": {
      "text/html": [
       "<pre style=\"margin: 0.1em;\n",
       "padding-left: 0.25em;\n",
       "border-left-style: solid;\n",
       "font-family: var(--jp-code-font-family);\n",
       "font-size: var(--jp-code-font-size);\n",
       "line-height: var(--jp-code-line-height);\n",
       "\"><span style=\"color: var(--jp-warn-color2)\">lsst.quickFrameMeasurementTask</span> <span style=\"color: var(--jp-info-color0)\">INFO</span>: Found 4 sources in exposure</pre>"
      ],
      "text/plain": [
       "<IPython.core.display.HTML object>"
      ]
     },
     "metadata": {},
     "output_type": "display_data"
    },
    {
     "data": {
      "text/html": [
       "<pre style=\"margin: 0.1em;\n",
       "padding-left: 0.25em;\n",
       "border-left-style: solid;\n",
       "font-family: var(--jp-code-font-family);\n",
       "font-size: var(--jp-code-font-size);\n",
       "line-height: var(--jp-code-line-height);\n",
       "\"><span style=\"color: var(--jp-warn-color2)\">lsst.quickFrameMeasurementTask</span> <span style=\"color: var(--jp-info-color0)\">INFO</span>: Measured 4 of 4 sources in exposure</pre>"
      ],
      "text/plain": [
       "<IPython.core.display.HTML object>"
      ]
     },
     "metadata": {},
     "output_type": "display_data"
    },
    {
     "name": "stdout",
     "output_type": "stream",
     "text": [
      "2022050500387\n"
     ]
    },
    {
     "data": {
      "text/html": [
       "<pre style=\"margin: 0.1em;\n",
       "padding-left: 0.25em;\n",
       "border-left-style: solid;\n",
       "font-family: var(--jp-code-font-family);\n",
       "font-size: var(--jp-code-font-size);\n",
       "line-height: var(--jp-code-line-height);\n",
       "\"><span style=\"color: var(--jp-warn-color2)\">lsst.summit.utils.bestEffort</span> <span style=\"color: var(--jp-info-color0)\">INFO</span>: Found a ready-made quickLookExp in the repo. Returning that.</pre>"
      ],
      "text/plain": [
       "<IPython.core.display.HTML object>"
      ]
     },
     "metadata": {},
     "output_type": "display_data"
    },
    {
     "data": {
      "text/html": [
       "<pre style=\"margin: 0.1em;\n",
       "padding-left: 0.25em;\n",
       "border-left-style: solid;\n",
       "font-family: var(--jp-code-font-family);\n",
       "font-size: var(--jp-code-font-size);\n",
       "line-height: var(--jp-code-line-height);\n",
       "\"><span style=\"color: var(--jp-warn-color2)\">lsst.quickFrameMeasurementTask</span> <span style=\"color: var(--jp-info-color0)\">INFO</span>: Found 3 sources in exposure</pre>"
      ],
      "text/plain": [
       "<IPython.core.display.HTML object>"
      ]
     },
     "metadata": {},
     "output_type": "display_data"
    },
    {
     "data": {
      "text/html": [
       "<pre style=\"margin: 0.1em;\n",
       "padding-left: 0.25em;\n",
       "border-left-style: solid;\n",
       "font-family: var(--jp-code-font-family);\n",
       "font-size: var(--jp-code-font-size);\n",
       "line-height: var(--jp-code-line-height);\n",
       "\"><span style=\"color: var(--jp-warn-color2)\">lsst.quickFrameMeasurementTask</span> <span style=\"color: var(--jp-info-color0)\">INFO</span>: Measured 3 of 3 sources in exposure</pre>"
      ],
      "text/plain": [
       "<IPython.core.display.HTML object>"
      ]
     },
     "metadata": {},
     "output_type": "display_data"
    },
    {
     "name": "stdout",
     "output_type": "stream",
     "text": [
      "(108.1397138081, +0.5827942186)\n"
     ]
    },
    {
     "data": {
      "text/html": [
       "<pre style=\"margin: 0.1em;\n",
       "padding-left: 0.25em;\n",
       "border-left-style: solid;\n",
       "font-family: var(--jp-code-font-family);\n",
       "font-size: var(--jp-code-font-size);\n",
       "line-height: var(--jp-code-line-height);\n",
       "\"><span style=\"color: var(--jp-warn-color2)\">lsst.quickFrameMeasurementTask</span> <span style=\"color: var(--jp-info-color0)\">INFO</span>: Found 3 sources in exposure</pre>"
      ],
      "text/plain": [
       "<IPython.core.display.HTML object>"
      ]
     },
     "metadata": {},
     "output_type": "display_data"
    },
    {
     "data": {
      "text/html": [
       "<pre style=\"margin: 0.1em;\n",
       "padding-left: 0.25em;\n",
       "border-left-style: solid;\n",
       "font-family: var(--jp-code-font-family);\n",
       "font-size: var(--jp-code-font-size);\n",
       "line-height: var(--jp-code-line-height);\n",
       "\"><span style=\"color: var(--jp-warn-color2)\">lsst.quickFrameMeasurementTask</span> <span style=\"color: var(--jp-info-color0)\">INFO</span>: Measured 3 of 3 sources in exposure</pre>"
      ],
      "text/plain": [
       "<IPython.core.display.HTML object>"
      ]
     },
     "metadata": {},
     "output_type": "display_data"
    },
    {
     "name": "stdout",
     "output_type": "stream",
     "text": [
      "2022050500389\n"
     ]
    },
    {
     "data": {
      "text/html": [
       "<pre style=\"margin: 0.1em;\n",
       "padding-left: 0.25em;\n",
       "border-left-style: solid;\n",
       "font-family: var(--jp-code-font-family);\n",
       "font-size: var(--jp-code-font-size);\n",
       "line-height: var(--jp-code-line-height);\n",
       "\"><span style=\"color: var(--jp-warn-color2)\">lsst.summit.utils.bestEffort</span> <span style=\"color: var(--jp-info-color0)\">INFO</span>: Found a ready-made quickLookExp in the repo. Returning that.</pre>"
      ],
      "text/plain": [
       "<IPython.core.display.HTML object>"
      ]
     },
     "metadata": {},
     "output_type": "display_data"
    },
    {
     "data": {
      "text/html": [
       "<pre style=\"margin: 0.1em;\n",
       "padding-left: 0.25em;\n",
       "border-left-style: solid;\n",
       "font-family: var(--jp-code-font-family);\n",
       "font-size: var(--jp-code-font-size);\n",
       "line-height: var(--jp-code-line-height);\n",
       "\"><span style=\"color: var(--jp-warn-color2)\">lsst.quickFrameMeasurementTask</span> <span style=\"color: var(--jp-info-color0)\">INFO</span>: Found 4 sources in exposure</pre>"
      ],
      "text/plain": [
       "<IPython.core.display.HTML object>"
      ]
     },
     "metadata": {},
     "output_type": "display_data"
    },
    {
     "data": {
      "text/html": [
       "<pre style=\"margin: 0.1em;\n",
       "padding-left: 0.25em;\n",
       "border-left-style: solid;\n",
       "font-family: var(--jp-code-font-family);\n",
       "font-size: var(--jp-code-font-size);\n",
       "line-height: var(--jp-code-line-height);\n",
       "\"><span style=\"color: var(--jp-warn-color2)\">lsst.quickFrameMeasurementTask</span> <span style=\"color: var(--jp-info-color0)\">INFO</span>: Measured 4 of 4 sources in exposure</pre>"
      ],
      "text/plain": [
       "<IPython.core.display.HTML object>"
      ]
     },
     "metadata": {},
     "output_type": "display_data"
    },
    {
     "name": "stdout",
     "output_type": "stream",
     "text": [
      "(134.1867640344, -19.4752509164)\n"
     ]
    },
    {
     "data": {
      "text/html": [
       "<pre style=\"margin: 0.1em;\n",
       "padding-left: 0.25em;\n",
       "border-left-style: solid;\n",
       "font-family: var(--jp-code-font-family);\n",
       "font-size: var(--jp-code-font-size);\n",
       "line-height: var(--jp-code-line-height);\n",
       "\"><span style=\"color: var(--jp-warn-color2)\">lsst.quickFrameMeasurementTask</span> <span style=\"color: var(--jp-info-color0)\">INFO</span>: Found 4 sources in exposure</pre>"
      ],
      "text/plain": [
       "<IPython.core.display.HTML object>"
      ]
     },
     "metadata": {},
     "output_type": "display_data"
    },
    {
     "data": {
      "text/html": [
       "<pre style=\"margin: 0.1em;\n",
       "padding-left: 0.25em;\n",
       "border-left-style: solid;\n",
       "font-family: var(--jp-code-font-family);\n",
       "font-size: var(--jp-code-font-size);\n",
       "line-height: var(--jp-code-line-height);\n",
       "\"><span style=\"color: var(--jp-warn-color2)\">lsst.quickFrameMeasurementTask</span> <span style=\"color: var(--jp-info-color0)\">INFO</span>: Measured 4 of 4 sources in exposure</pre>"
      ],
      "text/plain": [
       "<IPython.core.display.HTML object>"
      ]
     },
     "metadata": {},
     "output_type": "display_data"
    },
    {
     "name": "stdout",
     "output_type": "stream",
     "text": [
      "2022050500391\n"
     ]
    },
    {
     "data": {
      "text/html": [
       "<pre style=\"margin: 0.1em;\n",
       "padding-left: 0.25em;\n",
       "border-left-style: solid;\n",
       "font-family: var(--jp-code-font-family);\n",
       "font-size: var(--jp-code-font-size);\n",
       "line-height: var(--jp-code-line-height);\n",
       "\"><span style=\"color: var(--jp-warn-color2)\">lsst.summit.utils.bestEffort</span> <span style=\"color: var(--jp-info-color0)\">INFO</span>: Found a ready-made quickLookExp in the repo. Returning that.</pre>"
      ],
      "text/plain": [
       "<IPython.core.display.HTML object>"
      ]
     },
     "metadata": {},
     "output_type": "display_data"
    },
    {
     "data": {
      "text/html": [
       "<pre style=\"margin: 0.1em;\n",
       "padding-left: 0.25em;\n",
       "border-left-style: solid;\n",
       "font-family: var(--jp-code-font-family);\n",
       "font-size: var(--jp-code-font-size);\n",
       "line-height: var(--jp-code-line-height);\n",
       "\"><span style=\"color: var(--jp-warn-color2)\">lsst.quickFrameMeasurementTask</span> <span style=\"color: var(--jp-info-color0)\">INFO</span>: Found 4 sources in exposure</pre>"
      ],
      "text/plain": [
       "<IPython.core.display.HTML object>"
      ]
     },
     "metadata": {},
     "output_type": "display_data"
    },
    {
     "data": {
      "text/html": [
       "<pre style=\"margin: 0.1em;\n",
       "padding-left: 0.25em;\n",
       "border-left-style: solid;\n",
       "font-family: var(--jp-code-font-family);\n",
       "font-size: var(--jp-code-font-size);\n",
       "line-height: var(--jp-code-line-height);\n",
       "\"><span style=\"color: var(--jp-warn-color2)\">lsst.quickFrameMeasurementTask</span> <span style=\"color: var(--jp-info-color0)\">INFO</span>: Measured 4 of 4 sources in exposure</pre>"
      ],
      "text/plain": [
       "<IPython.core.display.HTML object>"
      ]
     },
     "metadata": {},
     "output_type": "display_data"
    },
    {
     "name": "stdout",
     "output_type": "stream",
     "text": [
      "(107.2406064309, +14.5671797562)\n"
     ]
    },
    {
     "data": {
      "text/html": [
       "<pre style=\"margin: 0.1em;\n",
       "padding-left: 0.25em;\n",
       "border-left-style: solid;\n",
       "font-family: var(--jp-code-font-family);\n",
       "font-size: var(--jp-code-font-size);\n",
       "line-height: var(--jp-code-line-height);\n",
       "\"><span style=\"color: var(--jp-warn-color2)\">lsst.quickFrameMeasurementTask</span> <span style=\"color: var(--jp-info-color0)\">INFO</span>: Found 4 sources in exposure</pre>"
      ],
      "text/plain": [
       "<IPython.core.display.HTML object>"
      ]
     },
     "metadata": {},
     "output_type": "display_data"
    },
    {
     "data": {
      "text/html": [
       "<pre style=\"margin: 0.1em;\n",
       "padding-left: 0.25em;\n",
       "border-left-style: solid;\n",
       "font-family: var(--jp-code-font-family);\n",
       "font-size: var(--jp-code-font-size);\n",
       "line-height: var(--jp-code-line-height);\n",
       "\"><span style=\"color: var(--jp-warn-color2)\">lsst.quickFrameMeasurementTask</span> <span style=\"color: var(--jp-info-color0)\">INFO</span>: Measured 4 of 4 sources in exposure</pre>"
      ],
      "text/plain": [
       "<IPython.core.display.HTML object>"
      ]
     },
     "metadata": {},
     "output_type": "display_data"
    },
    {
     "name": "stdout",
     "output_type": "stream",
     "text": [
      "2022050500393\n"
     ]
    },
    {
     "data": {
      "text/html": [
       "<pre style=\"margin: 0.1em;\n",
       "padding-left: 0.25em;\n",
       "border-left-style: solid;\n",
       "font-family: var(--jp-code-font-family);\n",
       "font-size: var(--jp-code-font-size);\n",
       "line-height: var(--jp-code-line-height);\n",
       "\"><span style=\"color: var(--jp-warn-color2)\">lsst.summit.utils.bestEffort</span> <span style=\"color: var(--jp-info-color0)\">INFO</span>: Found a ready-made quickLookExp in the repo. Returning that.</pre>"
      ],
      "text/plain": [
       "<IPython.core.display.HTML object>"
      ]
     },
     "metadata": {},
     "output_type": "display_data"
    },
    {
     "data": {
      "text/html": [
       "<pre style=\"margin: 0.1em;\n",
       "padding-left: 0.25em;\n",
       "border-left-style: solid;\n",
       "font-family: var(--jp-code-font-family);\n",
       "font-size: var(--jp-code-font-size);\n",
       "line-height: var(--jp-code-line-height);\n",
       "\"><span style=\"color: var(--jp-warn-color2)\">lsst.quickFrameMeasurementTask</span> <span style=\"color: var(--jp-info-color0)\">INFO</span>: Found 4 sources in exposure</pre>"
      ],
      "text/plain": [
       "<IPython.core.display.HTML object>"
      ]
     },
     "metadata": {},
     "output_type": "display_data"
    },
    {
     "data": {
      "text/html": [
       "<pre style=\"margin: 0.1em;\n",
       "padding-left: 0.25em;\n",
       "border-left-style: solid;\n",
       "font-family: var(--jp-code-font-family);\n",
       "font-size: var(--jp-code-font-size);\n",
       "line-height: var(--jp-code-line-height);\n",
       "\"><span style=\"color: var(--jp-warn-color2)\">lsst.quickFrameMeasurementTask</span> <span style=\"color: var(--jp-info-color0)\">INFO</span>: Measured 4 of 4 sources in exposure</pre>"
      ],
      "text/plain": [
       "<IPython.core.display.HTML object>"
      ]
     },
     "metadata": {},
     "output_type": "display_data"
    },
    {
     "name": "stdout",
     "output_type": "stream",
     "text": [
      "(125.7469612398, -7.7217782979)\n"
     ]
    },
    {
     "data": {
      "text/html": [
       "<pre style=\"margin: 0.1em;\n",
       "padding-left: 0.25em;\n",
       "border-left-style: solid;\n",
       "font-family: var(--jp-code-font-family);\n",
       "font-size: var(--jp-code-font-size);\n",
       "line-height: var(--jp-code-line-height);\n",
       "\"><span style=\"color: var(--jp-warn-color2)\">lsst.quickFrameMeasurementTask</span> <span style=\"color: var(--jp-info-color0)\">INFO</span>: Found 4 sources in exposure</pre>"
      ],
      "text/plain": [
       "<IPython.core.display.HTML object>"
      ]
     },
     "metadata": {},
     "output_type": "display_data"
    },
    {
     "data": {
      "text/html": [
       "<pre style=\"margin: 0.1em;\n",
       "padding-left: 0.25em;\n",
       "border-left-style: solid;\n",
       "font-family: var(--jp-code-font-family);\n",
       "font-size: var(--jp-code-font-size);\n",
       "line-height: var(--jp-code-line-height);\n",
       "\"><span style=\"color: var(--jp-warn-color2)\">lsst.quickFrameMeasurementTask</span> <span style=\"color: var(--jp-info-color0)\">INFO</span>: Measured 4 of 4 sources in exposure</pre>"
      ],
      "text/plain": [
       "<IPython.core.display.HTML object>"
      ]
     },
     "metadata": {},
     "output_type": "display_data"
    },
    {
     "name": "stdout",
     "output_type": "stream",
     "text": [
      "2022050500395\n"
     ]
    },
    {
     "data": {
      "text/html": [
       "<pre style=\"margin: 0.1em;\n",
       "padding-left: 0.25em;\n",
       "border-left-style: solid;\n",
       "font-family: var(--jp-code-font-family);\n",
       "font-size: var(--jp-code-font-size);\n",
       "line-height: var(--jp-code-line-height);\n",
       "\"><span style=\"color: var(--jp-warn-color2)\">lsst.summit.utils.bestEffort</span> <span style=\"color: var(--jp-info-color0)\">INFO</span>: Found a ready-made quickLookExp in the repo. Returning that.</pre>"
      ],
      "text/plain": [
       "<IPython.core.display.HTML object>"
      ]
     },
     "metadata": {},
     "output_type": "display_data"
    },
    {
     "data": {
      "text/html": [
       "<pre style=\"margin: 0.1em;\n",
       "padding-left: 0.25em;\n",
       "border-left-style: solid;\n",
       "font-family: var(--jp-code-font-family);\n",
       "font-size: var(--jp-code-font-size);\n",
       "line-height: var(--jp-code-line-height);\n",
       "\"><span style=\"color: var(--jp-warn-color2)\">lsst.quickFrameMeasurementTask</span> <span style=\"color: var(--jp-info-color0)\">INFO</span>: Found 2 sources in exposure</pre>"
      ],
      "text/plain": [
       "<IPython.core.display.HTML object>"
      ]
     },
     "metadata": {},
     "output_type": "display_data"
    },
    {
     "data": {
      "text/html": [
       "<pre style=\"margin: 0.1em;\n",
       "padding-left: 0.25em;\n",
       "border-left-style: solid;\n",
       "font-family: var(--jp-code-font-family);\n",
       "font-size: var(--jp-code-font-size);\n",
       "line-height: var(--jp-code-line-height);\n",
       "\"><span style=\"color: var(--jp-warn-color2)\">lsst.quickFrameMeasurementTask</span> <span style=\"color: var(--jp-info-color0)\">INFO</span>: Measured 2 of 2 sources in exposure</pre>"
      ],
      "text/plain": [
       "<IPython.core.display.HTML object>"
      ]
     },
     "metadata": {},
     "output_type": "display_data"
    },
    {
     "name": "stdout",
     "output_type": "stream",
     "text": [
      "(122.2699369852, +10.5111010787)\n"
     ]
    },
    {
     "data": {
      "text/html": [
       "<pre style=\"margin: 0.1em;\n",
       "padding-left: 0.25em;\n",
       "border-left-style: solid;\n",
       "font-family: var(--jp-code-font-family);\n",
       "font-size: var(--jp-code-font-size);\n",
       "line-height: var(--jp-code-line-height);\n",
       "\"><span style=\"color: var(--jp-warn-color2)\">lsst.quickFrameMeasurementTask</span> <span style=\"color: var(--jp-info-color0)\">INFO</span>: Found 2 sources in exposure</pre>"
      ],
      "text/plain": [
       "<IPython.core.display.HTML object>"
      ]
     },
     "metadata": {},
     "output_type": "display_data"
    },
    {
     "data": {
      "text/html": [
       "<pre style=\"margin: 0.1em;\n",
       "padding-left: 0.25em;\n",
       "border-left-style: solid;\n",
       "font-family: var(--jp-code-font-family);\n",
       "font-size: var(--jp-code-font-size);\n",
       "line-height: var(--jp-code-line-height);\n",
       "\"><span style=\"color: var(--jp-warn-color2)\">lsst.quickFrameMeasurementTask</span> <span style=\"color: var(--jp-info-color0)\">INFO</span>: Measured 2 of 2 sources in exposure</pre>"
      ],
      "text/plain": [
       "<IPython.core.display.HTML object>"
      ]
     },
     "metadata": {},
     "output_type": "display_data"
    },
    {
     "name": "stdout",
     "output_type": "stream",
     "text": [
      "2022050500397\n"
     ]
    },
    {
     "data": {
      "text/html": [
       "<pre style=\"margin: 0.1em;\n",
       "padding-left: 0.25em;\n",
       "border-left-style: solid;\n",
       "font-family: var(--jp-code-font-family);\n",
       "font-size: var(--jp-code-font-size);\n",
       "line-height: var(--jp-code-line-height);\n",
       "\"><span style=\"color: var(--jp-warn-color2)\">lsst.summit.utils.bestEffort</span> <span style=\"color: var(--jp-info-color0)\">INFO</span>: Found a ready-made quickLookExp in the repo. Returning that.</pre>"
      ],
      "text/plain": [
       "<IPython.core.display.HTML object>"
      ]
     },
     "metadata": {},
     "output_type": "display_data"
    },
    {
     "data": {
      "text/html": [
       "<pre style=\"margin: 0.1em;\n",
       "padding-left: 0.25em;\n",
       "border-left-style: solid;\n",
       "font-family: var(--jp-code-font-family);\n",
       "font-size: var(--jp-code-font-size);\n",
       "line-height: var(--jp-code-line-height);\n",
       "\"><span style=\"color: var(--jp-warn-color2)\">lsst.quickFrameMeasurementTask</span> <span style=\"color: var(--jp-info-color0)\">INFO</span>: Found 4 sources in exposure</pre>"
      ],
      "text/plain": [
       "<IPython.core.display.HTML object>"
      ]
     },
     "metadata": {},
     "output_type": "display_data"
    },
    {
     "data": {
      "text/html": [
       "<pre style=\"margin: 0.1em;\n",
       "padding-left: 0.25em;\n",
       "border-left-style: solid;\n",
       "font-family: var(--jp-code-font-family);\n",
       "font-size: var(--jp-code-font-size);\n",
       "line-height: var(--jp-code-line-height);\n",
       "\"><span style=\"color: var(--jp-warn-color2)\">lsst.quickFrameMeasurementTask</span> <span style=\"color: var(--jp-info-color0)\">INFO</span>: Measured 4 of 4 sources in exposure</pre>"
      ],
      "text/plain": [
       "<IPython.core.display.HTML object>"
      ]
     },
     "metadata": {},
     "output_type": "display_data"
    },
    {
     "name": "stdout",
     "output_type": "stream",
     "text": [
      "(124.9627034369, +24.7562472959)\n"
     ]
    },
    {
     "data": {
      "text/html": [
       "<pre style=\"margin: 0.1em;\n",
       "padding-left: 0.25em;\n",
       "border-left-style: solid;\n",
       "font-family: var(--jp-code-font-family);\n",
       "font-size: var(--jp-code-font-size);\n",
       "line-height: var(--jp-code-line-height);\n",
       "\"><span style=\"color: var(--jp-warn-color2)\">lsst.quickFrameMeasurementTask</span> <span style=\"color: var(--jp-info-color0)\">INFO</span>: Found 4 sources in exposure</pre>"
      ],
      "text/plain": [
       "<IPython.core.display.HTML object>"
      ]
     },
     "metadata": {},
     "output_type": "display_data"
    },
    {
     "data": {
      "text/html": [
       "<pre style=\"margin: 0.1em;\n",
       "padding-left: 0.25em;\n",
       "border-left-style: solid;\n",
       "font-family: var(--jp-code-font-family);\n",
       "font-size: var(--jp-code-font-size);\n",
       "line-height: var(--jp-code-line-height);\n",
       "\"><span style=\"color: var(--jp-warn-color2)\">lsst.quickFrameMeasurementTask</span> <span style=\"color: var(--jp-info-color0)\">INFO</span>: Measured 4 of 4 sources in exposure</pre>"
      ],
      "text/plain": [
       "<IPython.core.display.HTML object>"
      ]
     },
     "metadata": {},
     "output_type": "display_data"
    },
    {
     "name": "stdout",
     "output_type": "stream",
     "text": [
      "2022050500399\n"
     ]
    },
    {
     "data": {
      "text/html": [
       "<pre style=\"margin: 0.1em;\n",
       "padding-left: 0.25em;\n",
       "border-left-style: solid;\n",
       "font-family: var(--jp-code-font-family);\n",
       "font-size: var(--jp-code-font-size);\n",
       "line-height: var(--jp-code-line-height);\n",
       "\"><span style=\"color: var(--jp-warn-color2)\">lsst.summit.utils.bestEffort</span> <span style=\"color: var(--jp-info-color0)\">INFO</span>: Found a ready-made quickLookExp in the repo. Returning that.</pre>"
      ],
      "text/plain": [
       "<IPython.core.display.HTML object>"
      ]
     },
     "metadata": {},
     "output_type": "display_data"
    },
    {
     "data": {
      "text/html": [
       "<pre style=\"margin: 0.1em;\n",
       "padding-left: 0.25em;\n",
       "border-left-style: solid;\n",
       "font-family: var(--jp-code-font-family);\n",
       "font-size: var(--jp-code-font-size);\n",
       "line-height: var(--jp-code-line-height);\n",
       "\"><span style=\"color: var(--jp-warn-color2)\">lsst.quickFrameMeasurementTask</span> <span style=\"color: var(--jp-info-color0)\">INFO</span>: Found 5 sources in exposure</pre>"
      ],
      "text/plain": [
       "<IPython.core.display.HTML object>"
      ]
     },
     "metadata": {},
     "output_type": "display_data"
    },
    {
     "data": {
      "text/html": [
       "<pre style=\"margin: 0.1em;\n",
       "padding-left: 0.25em;\n",
       "border-left-style: solid;\n",
       "font-family: var(--jp-code-font-family);\n",
       "font-size: var(--jp-code-font-size);\n",
       "line-height: var(--jp-code-line-height);\n",
       "\"><span style=\"color: var(--jp-warn-color2)\">lsst.quickFrameMeasurementTask</span> <span style=\"color: var(--jp-info-color0)\">INFO</span>: Measured 5 of 5 sources in exposure</pre>"
      ],
      "text/plain": [
       "<IPython.core.display.HTML object>"
      ]
     },
     "metadata": {},
     "output_type": "display_data"
    },
    {
     "name": "stdout",
     "output_type": "stream",
     "text": [
      "(136.9279242240, -5.2561295499)\n"
     ]
    },
    {
     "data": {
      "text/html": [
       "<pre style=\"margin: 0.1em;\n",
       "padding-left: 0.25em;\n",
       "border-left-style: solid;\n",
       "font-family: var(--jp-code-font-family);\n",
       "font-size: var(--jp-code-font-size);\n",
       "line-height: var(--jp-code-line-height);\n",
       "\"><span style=\"color: var(--jp-warn-color2)\">lsst.quickFrameMeasurementTask</span> <span style=\"color: var(--jp-info-color0)\">INFO</span>: Found 5 sources in exposure</pre>"
      ],
      "text/plain": [
       "<IPython.core.display.HTML object>"
      ]
     },
     "metadata": {},
     "output_type": "display_data"
    },
    {
     "data": {
      "text/html": [
       "<pre style=\"margin: 0.1em;\n",
       "padding-left: 0.25em;\n",
       "border-left-style: solid;\n",
       "font-family: var(--jp-code-font-family);\n",
       "font-size: var(--jp-code-font-size);\n",
       "line-height: var(--jp-code-line-height);\n",
       "\"><span style=\"color: var(--jp-warn-color2)\">lsst.quickFrameMeasurementTask</span> <span style=\"color: var(--jp-info-color0)\">INFO</span>: Measured 5 of 5 sources in exposure</pre>"
      ],
      "text/plain": [
       "<IPython.core.display.HTML object>"
      ]
     },
     "metadata": {},
     "output_type": "display_data"
    },
    {
     "name": "stdout",
     "output_type": "stream",
     "text": [
      "2022050500401\n"
     ]
    },
    {
     "data": {
      "text/html": [
       "<pre style=\"margin: 0.1em;\n",
       "padding-left: 0.25em;\n",
       "border-left-style: solid;\n",
       "font-family: var(--jp-code-font-family);\n",
       "font-size: var(--jp-code-font-size);\n",
       "line-height: var(--jp-code-line-height);\n",
       "\"><span style=\"color: var(--jp-warn-color2)\">lsst.summit.utils.bestEffort</span> <span style=\"color: var(--jp-info-color0)\">INFO</span>: Found a ready-made quickLookExp in the repo. Returning that.</pre>"
      ],
      "text/plain": [
       "<IPython.core.display.HTML object>"
      ]
     },
     "metadata": {},
     "output_type": "display_data"
    },
    {
     "data": {
      "text/html": [
       "<pre style=\"margin: 0.1em;\n",
       "padding-left: 0.25em;\n",
       "border-left-style: solid;\n",
       "font-family: var(--jp-code-font-family);\n",
       "font-size: var(--jp-code-font-size);\n",
       "line-height: var(--jp-code-line-height);\n",
       "\"><span style=\"color: var(--jp-warn-color2)\">lsst.quickFrameMeasurementTask</span> <span style=\"color: var(--jp-info-color0)\">INFO</span>: Found 3 sources in exposure</pre>"
      ],
      "text/plain": [
       "<IPython.core.display.HTML object>"
      ]
     },
     "metadata": {},
     "output_type": "display_data"
    },
    {
     "data": {
      "text/html": [
       "<pre style=\"margin: 0.1em;\n",
       "padding-left: 0.25em;\n",
       "border-left-style: solid;\n",
       "font-family: var(--jp-code-font-family);\n",
       "font-size: var(--jp-code-font-size);\n",
       "line-height: var(--jp-code-line-height);\n",
       "\"><span style=\"color: var(--jp-warn-color2)\">lsst.quickFrameMeasurementTask</span> <span style=\"color: var(--jp-info-color0)\">INFO</span>: Measured 3 of 3 sources in exposure</pre>"
      ],
      "text/plain": [
       "<IPython.core.display.HTML object>"
      ]
     },
     "metadata": {},
     "output_type": "display_data"
    },
    {
     "name": "stdout",
     "output_type": "stream",
     "text": [
      "(138.2277814293, +17.4777748776)\n"
     ]
    },
    {
     "data": {
      "text/html": [
       "<pre style=\"margin: 0.1em;\n",
       "padding-left: 0.25em;\n",
       "border-left-style: solid;\n",
       "font-family: var(--jp-code-font-family);\n",
       "font-size: var(--jp-code-font-size);\n",
       "line-height: var(--jp-code-line-height);\n",
       "\"><span style=\"color: var(--jp-warn-color2)\">lsst.quickFrameMeasurementTask</span> <span style=\"color: var(--jp-info-color0)\">INFO</span>: Found 3 sources in exposure</pre>"
      ],
      "text/plain": [
       "<IPython.core.display.HTML object>"
      ]
     },
     "metadata": {},
     "output_type": "display_data"
    },
    {
     "data": {
      "text/html": [
       "<pre style=\"margin: 0.1em;\n",
       "padding-left: 0.25em;\n",
       "border-left-style: solid;\n",
       "font-family: var(--jp-code-font-family);\n",
       "font-size: var(--jp-code-font-size);\n",
       "line-height: var(--jp-code-line-height);\n",
       "\"><span style=\"color: var(--jp-warn-color2)\">lsst.quickFrameMeasurementTask</span> <span style=\"color: var(--jp-info-color0)\">INFO</span>: Measured 3 of 3 sources in exposure</pre>"
      ],
      "text/plain": [
       "<IPython.core.display.HTML object>"
      ]
     },
     "metadata": {},
     "output_type": "display_data"
    },
    {
     "name": "stdout",
     "output_type": "stream",
     "text": [
      "2022050500403\n"
     ]
    },
    {
     "data": {
      "text/html": [
       "<pre style=\"margin: 0.1em;\n",
       "padding-left: 0.25em;\n",
       "border-left-style: solid;\n",
       "font-family: var(--jp-code-font-family);\n",
       "font-size: var(--jp-code-font-size);\n",
       "line-height: var(--jp-code-line-height);\n",
       "\"><span style=\"color: var(--jp-warn-color2)\">lsst.summit.utils.bestEffort</span> <span style=\"color: var(--jp-info-color0)\">INFO</span>: Found a ready-made quickLookExp in the repo. Returning that.</pre>"
      ],
      "text/plain": [
       "<IPython.core.display.HTML object>"
      ]
     },
     "metadata": {},
     "output_type": "display_data"
    },
    {
     "data": {
      "text/html": [
       "<pre style=\"margin: 0.1em;\n",
       "padding-left: 0.25em;\n",
       "border-left-style: solid;\n",
       "font-family: var(--jp-code-font-family);\n",
       "font-size: var(--jp-code-font-size);\n",
       "line-height: var(--jp-code-line-height);\n",
       "\"><span style=\"color: var(--jp-warn-color2)\">lsst.quickFrameMeasurementTask</span> <span style=\"color: var(--jp-info-color0)\">INFO</span>: Found 18 sources in exposure</pre>"
      ],
      "text/plain": [
       "<IPython.core.display.HTML object>"
      ]
     },
     "metadata": {},
     "output_type": "display_data"
    },
    {
     "data": {
      "text/html": [
       "<pre style=\"margin: 0.1em;\n",
       "padding-left: 0.25em;\n",
       "border-left-style: solid;\n",
       "font-family: var(--jp-code-font-family);\n",
       "font-size: var(--jp-code-font-size);\n",
       "line-height: var(--jp-code-line-height);\n",
       "\"><span style=\"color: var(--jp-warn-color2)\">lsst.quickFrameMeasurementTask</span> <span style=\"color: var(--jp-info-color0)\">INFO</span>: Measured 18 of 18 sources in exposure</pre>"
      ],
      "text/plain": [
       "<IPython.core.display.HTML object>"
      ]
     },
     "metadata": {},
     "output_type": "display_data"
    },
    {
     "name": "stdout",
     "output_type": "stream",
     "text": [
      "(136.7988203413, +18.1444772943)\n"
     ]
    },
    {
     "data": {
      "text/html": [
       "<pre style=\"margin: 0.1em;\n",
       "padding-left: 0.25em;\n",
       "border-left-style: solid;\n",
       "font-family: var(--jp-code-font-family);\n",
       "font-size: var(--jp-code-font-size);\n",
       "line-height: var(--jp-code-line-height);\n",
       "\"><span style=\"color: var(--jp-warn-color2)\">lsst.quickFrameMeasurementTask</span> <span style=\"color: var(--jp-info-color0)\">INFO</span>: Found 18 sources in exposure</pre>"
      ],
      "text/plain": [
       "<IPython.core.display.HTML object>"
      ]
     },
     "metadata": {},
     "output_type": "display_data"
    },
    {
     "data": {
      "text/html": [
       "<pre style=\"margin: 0.1em;\n",
       "padding-left: 0.25em;\n",
       "border-left-style: solid;\n",
       "font-family: var(--jp-code-font-family);\n",
       "font-size: var(--jp-code-font-size);\n",
       "line-height: var(--jp-code-line-height);\n",
       "\"><span style=\"color: var(--jp-warn-color2)\">lsst.quickFrameMeasurementTask</span> <span style=\"color: var(--jp-info-color0)\">INFO</span>: Measured 18 of 18 sources in exposure</pre>"
      ],
      "text/plain": [
       "<IPython.core.display.HTML object>"
      ]
     },
     "metadata": {},
     "output_type": "display_data"
    },
    {
     "name": "stdout",
     "output_type": "stream",
     "text": [
      "2022050500405\n"
     ]
    },
    {
     "data": {
      "text/html": [
       "<pre style=\"margin: 0.1em;\n",
       "padding-left: 0.25em;\n",
       "border-left-style: solid;\n",
       "font-family: var(--jp-code-font-family);\n",
       "font-size: var(--jp-code-font-size);\n",
       "line-height: var(--jp-code-line-height);\n",
       "\"><span style=\"color: var(--jp-warn-color2)\">lsst.summit.utils.bestEffort</span> <span style=\"color: var(--jp-info-color0)\">INFO</span>: Found a ready-made quickLookExp in the repo. Returning that.</pre>"
      ],
      "text/plain": [
       "<IPython.core.display.HTML object>"
      ]
     },
     "metadata": {},
     "output_type": "display_data"
    },
    {
     "data": {
      "text/html": [
       "<pre style=\"margin: 0.1em;\n",
       "padding-left: 0.25em;\n",
       "border-left-style: solid;\n",
       "font-family: var(--jp-code-font-family);\n",
       "font-size: var(--jp-code-font-size);\n",
       "line-height: var(--jp-code-line-height);\n",
       "\"><span style=\"color: var(--jp-warn-color2)\">lsst.quickFrameMeasurementTask</span> <span style=\"color: var(--jp-info-color0)\">INFO</span>: Found 3 sources in exposure</pre>"
      ],
      "text/plain": [
       "<IPython.core.display.HTML object>"
      ]
     },
     "metadata": {},
     "output_type": "display_data"
    },
    {
     "data": {
      "text/html": [
       "<pre style=\"margin: 0.1em;\n",
       "padding-left: 0.25em;\n",
       "border-left-style: solid;\n",
       "font-family: var(--jp-code-font-family);\n",
       "font-size: var(--jp-code-font-size);\n",
       "line-height: var(--jp-code-line-height);\n",
       "\"><span style=\"color: var(--jp-warn-color2)\">lsst.quickFrameMeasurementTask</span> <span style=\"color: var(--jp-info-color0)\">INFO</span>: Measured 3 of 3 sources in exposure</pre>"
      ],
      "text/plain": [
       "<IPython.core.display.HTML object>"
      ]
     },
     "metadata": {},
     "output_type": "display_data"
    },
    {
     "data": {
      "text/html": [
       "<pre style=\"margin: 0.1em;\n",
       "padding-left: 0.25em;\n",
       "border-left-style: solid;\n",
       "font-family: var(--jp-code-font-family);\n",
       "font-size: var(--jp-code-font-size);\n",
       "line-height: var(--jp-code-line-height);\n",
       "\"><span style=\"color: var(--jp-warn-color2)\">lsst.quickFrameMeasurementTask</span> <span style=\"color: var(--jp-warn-color0)\">WARNING</span>: WARNING! Max apFlux70 for different object than with max apFlux25</pre>"
      ],
      "text/plain": [
       "<IPython.core.display.HTML object>"
      ]
     },
     "metadata": {},
     "output_type": "display_data"
    },
    {
     "name": "stdout",
     "output_type": "stream",
     "text": [
      "(136.7987586569, +18.1444398061)\n"
     ]
    },
    {
     "data": {
      "text/html": [
       "<pre style=\"margin: 0.1em;\n",
       "padding-left: 0.25em;\n",
       "border-left-style: solid;\n",
       "font-family: var(--jp-code-font-family);\n",
       "font-size: var(--jp-code-font-size);\n",
       "line-height: var(--jp-code-line-height);\n",
       "\"><span style=\"color: var(--jp-warn-color2)\">lsst.quickFrameMeasurementTask</span> <span style=\"color: var(--jp-info-color0)\">INFO</span>: Found 3 sources in exposure</pre>"
      ],
      "text/plain": [
       "<IPython.core.display.HTML object>"
      ]
     },
     "metadata": {},
     "output_type": "display_data"
    },
    {
     "data": {
      "text/html": [
       "<pre style=\"margin: 0.1em;\n",
       "padding-left: 0.25em;\n",
       "border-left-style: solid;\n",
       "font-family: var(--jp-code-font-family);\n",
       "font-size: var(--jp-code-font-size);\n",
       "line-height: var(--jp-code-line-height);\n",
       "\"><span style=\"color: var(--jp-warn-color2)\">lsst.quickFrameMeasurementTask</span> <span style=\"color: var(--jp-info-color0)\">INFO</span>: Measured 3 of 3 sources in exposure</pre>"
      ],
      "text/plain": [
       "<IPython.core.display.HTML object>"
      ]
     },
     "metadata": {},
     "output_type": "display_data"
    },
    {
     "data": {
      "text/html": [
       "<pre style=\"margin: 0.1em;\n",
       "padding-left: 0.25em;\n",
       "border-left-style: solid;\n",
       "font-family: var(--jp-code-font-family);\n",
       "font-size: var(--jp-code-font-size);\n",
       "line-height: var(--jp-code-line-height);\n",
       "\"><span style=\"color: var(--jp-warn-color2)\">lsst.quickFrameMeasurementTask</span> <span style=\"color: var(--jp-warn-color0)\">WARNING</span>: WARNING! Max apFlux70 for different object than with max apFlux25</pre>"
      ],
      "text/plain": [
       "<IPython.core.display.HTML object>"
      ]
     },
     "metadata": {},
     "output_type": "display_data"
    }
   ],
   "source": [
    "# Measure x, y and r pointing error in origin and target images for each slew test.\n",
    "\n",
    "line= [] \n",
    "\n",
    "for exposure in np.arange(2022050500291,2022050500407, 2):\n",
    "    print(exposure) \n",
    "    \n",
    "    data_id = {'instrument': 'LATISS', 'exposure': exposure, 'detector':0}\n",
    "\n",
    "    exp = bestEffort.getExposure(data_id)\n",
    "    \n",
    "    # Get the centroid WCS position\n",
    "    centroid_ra, centroid_dec, centroid_radec, centroid_az, centroid_alt = centroid_coordinates(exp)\n",
    "    \n",
    "    \n",
    "    # Get the origin coordinates from 2036, 2000\n",
    "    origin_ra, origin_dec, origin_radec, origin_az, origin_alt = origin2_coordinates(exp) \n",
    "    \n",
    "    \n",
    "    # Calculate distance boresight to centroid\n",
    "    distance = centroid_radec.separation(origin_radec).asArcseconds()\n",
    "    \n",
    "    # in the detector coordinates \n",
    "    dx, dy, dr = calculate_xy_offsets(exp)\n",
    "    \n",
    "    # Measure offsets \n",
    "    \n",
    "    delta_ra = (centroid_ra - origin_ra)*3600\n",
    "    delta_dec = (centroid_dec - origin_dec)*3600\n",
    "    delta_radec = np.sqrt(delta_ra**2 + delta_dec**2)\n",
    "    \n",
    "    delta_az = (centroid_az - origin_az)*3600\n",
    "    delta_el = (centroid_alt - origin_alt)*3600\n",
    "    delta_azel = np.sqrt(delta_az**2 + delta_el**2)\n",
    "    \n",
    "    line.append(\n",
    "        {'exposures': exposure,\n",
    "         'azimuth': origin_az,\n",
    "         'elevation': origin_alt, \n",
    "         'delta_ra': delta_ra,  \n",
    "         'delta_dec': delta_dec,\n",
    "         'delta_radec': delta_radec,\n",
    "         'pointing_distance_radec': distance, \n",
    "         'delta_az': delta_az,\n",
    "         'delta_el': delta_el,\n",
    "         'delta_azel': delta_azel,\n",
    "         'delta_x [pixels]': dx,\n",
    "         'delta_y [pixels]': dy, \n",
    "         'delta_xy [pixels]': dr,\n",
    "        }\n",
    "    )\n",
    "    \n",
    "df = pd.DataFrame(line)   "
   ]
  },
  {
   "cell_type": "code",
   "execution_count": 20,
   "id": "9ce43f1e-0249-4587-b157-c2dbc4608c0d",
   "metadata": {},
   "outputs": [
    {
     "data": {
      "text/html": [
       "<div>\n",
       "<style scoped>\n",
       "    .dataframe tbody tr th:only-of-type {\n",
       "        vertical-align: middle;\n",
       "    }\n",
       "\n",
       "    .dataframe tbody tr th {\n",
       "        vertical-align: top;\n",
       "    }\n",
       "\n",
       "    .dataframe thead th {\n",
       "        text-align: right;\n",
       "    }\n",
       "</style>\n",
       "<table border=\"1\" class=\"dataframe\">\n",
       "  <thead>\n",
       "    <tr style=\"text-align: right;\">\n",
       "      <th></th>\n",
       "      <th>exposures</th>\n",
       "      <th>azimuth</th>\n",
       "      <th>elevation</th>\n",
       "      <th>delta_ra</th>\n",
       "      <th>delta_dec</th>\n",
       "      <th>delta_radec</th>\n",
       "      <th>pointing_distance_radec</th>\n",
       "      <th>delta_az</th>\n",
       "      <th>delta_el</th>\n",
       "      <th>delta_azel</th>\n",
       "      <th>delta_x [pixels]</th>\n",
       "      <th>delta_y [pixels]</th>\n",
       "      <th>delta_xy [pixels]</th>\n",
       "    </tr>\n",
       "  </thead>\n",
       "  <tbody>\n",
       "    <tr>\n",
       "      <th>0</th>\n",
       "      <td>2022050500291</td>\n",
       "      <td>359.055148</td>\n",
       "      <td>29.613289</td>\n",
       "      <td>2.463334</td>\n",
       "      <td>1.508394</td>\n",
       "      <td>2.888471</td>\n",
       "      <td>2.608873</td>\n",
       "      <td>2.479948</td>\n",
       "      <td>-1.469384</td>\n",
       "      <td>2.882574</td>\n",
       "      <td>-2.645981</td>\n",
       "      <td>-0.282791</td>\n",
       "      <td>2.661050</td>\n",
       "    </tr>\n",
       "    <tr>\n",
       "      <th>1</th>\n",
       "      <td>2022050500293</td>\n",
       "      <td>15.157747</td>\n",
       "      <td>48.175773</td>\n",
       "      <td>4.248525</td>\n",
       "      <td>3.019193</td>\n",
       "      <td>5.212053</td>\n",
       "      <td>5.154110</td>\n",
       "      <td>5.064676</td>\n",
       "      <td>-3.893988</td>\n",
       "      <td>6.388590</td>\n",
       "      <td>-5.200326</td>\n",
       "      <td>-0.166235</td>\n",
       "      <td>5.202982</td>\n",
       "    </tr>\n",
       "    <tr>\n",
       "      <th>2</th>\n",
       "      <td>2022050500295</td>\n",
       "      <td>20.650756</td>\n",
       "      <td>72.186331</td>\n",
       "      <td>3.157603</td>\n",
       "      <td>4.952406</td>\n",
       "      <td>5.873397</td>\n",
       "      <td>5.828099</td>\n",
       "      <td>4.493091</td>\n",
       "      <td>-5.664186</td>\n",
       "      <td>7.229860</td>\n",
       "      <td>-5.853166</td>\n",
       "      <td>-0.559158</td>\n",
       "      <td>5.879814</td>\n",
       "    </tr>\n",
       "    <tr>\n",
       "      <th>3</th>\n",
       "      <td>2022050500297</td>\n",
       "      <td>22.059438</td>\n",
       "      <td>34.071946</td>\n",
       "      <td>5.151414</td>\n",
       "      <td>2.042975</td>\n",
       "      <td>5.541734</td>\n",
       "      <td>5.179020</td>\n",
       "      <td>4.519200</td>\n",
       "      <td>-3.579660</td>\n",
       "      <td>5.765166</td>\n",
       "      <td>-5.146613</td>\n",
       "      <td>-0.954501</td>\n",
       "      <td>5.234377</td>\n",
       "    </tr>\n",
       "    <tr>\n",
       "      <th>4</th>\n",
       "      <td>2022050500299</td>\n",
       "      <td>33.456644</td>\n",
       "      <td>44.242190</td>\n",
       "      <td>3.276523</td>\n",
       "      <td>2.201542</td>\n",
       "      <td>3.947454</td>\n",
       "      <td>3.909393</td>\n",
       "      <td>2.469061</td>\n",
       "      <td>-3.486733</td>\n",
       "      <td>4.272420</td>\n",
       "      <td>-3.739163</td>\n",
       "      <td>-1.334673</td>\n",
       "      <td>3.970226</td>\n",
       "    </tr>\n",
       "  </tbody>\n",
       "</table>\n",
       "</div>"
      ],
      "text/plain": [
       "       exposures     azimuth  elevation  delta_ra  delta_dec  delta_radec  \\\n",
       "0  2022050500291  359.055148  29.613289  2.463334   1.508394     2.888471   \n",
       "1  2022050500293   15.157747  48.175773  4.248525   3.019193     5.212053   \n",
       "2  2022050500295   20.650756  72.186331  3.157603   4.952406     5.873397   \n",
       "3  2022050500297   22.059438  34.071946  5.151414   2.042975     5.541734   \n",
       "4  2022050500299   33.456644  44.242190  3.276523   2.201542     3.947454   \n",
       "\n",
       "   pointing_distance_radec  delta_az  delta_el  delta_azel  delta_x [pixels]  \\\n",
       "0                 2.608873  2.479948 -1.469384    2.882574         -2.645981   \n",
       "1                 5.154110  5.064676 -3.893988    6.388590         -5.200326   \n",
       "2                 5.828099  4.493091 -5.664186    7.229860         -5.853166   \n",
       "3                 5.179020  4.519200 -3.579660    5.765166         -5.146613   \n",
       "4                 3.909393  2.469061 -3.486733    4.272420         -3.739163   \n",
       "\n",
       "   delta_y [pixels]  delta_xy [pixels]  \n",
       "0         -0.282791           2.661050  \n",
       "1         -0.166235           5.202982  \n",
       "2         -0.559158           5.879814  \n",
       "3         -0.954501           5.234377  \n",
       "4         -1.334673           3.970226  "
      ]
     },
     "execution_count": 20,
     "metadata": {},
     "output_type": "execute_result"
    }
   ],
   "source": [
    "df.head()"
   ]
  },
  {
   "cell_type": "code",
   "execution_count": 23,
   "id": "574a7514-20ef-43cf-8bed-d8e0e7d4e561",
   "metadata": {},
   "outputs": [
    {
     "data": {
      "text/plain": [
       "Index(['exposures', 'azimuth', 'elevation', 'delta_ra', 'delta_dec',\n",
       "       'delta_radec', 'pointing_distance_radec', 'delta_az', 'delta_el',\n",
       "       'delta_azel', 'delta_x [pixels]', 'delta_y [pixels]',\n",
       "       'delta_xy [pixels]'],\n",
       "      dtype='object')"
      ]
     },
     "execution_count": 23,
     "metadata": {},
     "output_type": "execute_result"
    }
   ],
   "source": [
    "df.columns"
   ]
  },
  {
   "cell_type": "code",
   "execution_count": 1,
   "id": "7c0596c3-1f1e-4c4f-97d0-9d7e68bb4108",
   "metadata": {},
   "outputs": [
    {
     "ename": "NameError",
     "evalue": "name 'plt' is not defined",
     "output_type": "error",
     "traceback": [
      "\u001b[0;31m---------------------------------------------------------------------------\u001b[0m",
      "\u001b[0;31mNameError\u001b[0m                                 Traceback (most recent call last)",
      "Input \u001b[0;32mIn [1]\u001b[0m, in \u001b[0;36m<cell line: 1>\u001b[0;34m()\u001b[0m\n\u001b[0;32m----> 1\u001b[0m fig, axs \u001b[38;5;241m=\u001b[39m \u001b[43mplt\u001b[49m\u001b[38;5;241m.\u001b[39msubplots(\u001b[38;5;241m1\u001b[39m, \u001b[38;5;241m3\u001b[39m, figsize\u001b[38;5;241m=\u001b[39m(\u001b[38;5;241m16\u001b[39m\u001b[38;5;241m*\u001b[39m\u001b[38;5;241m0.5\u001b[39m\u001b[38;5;241m+\u001b[39m\u001b[38;5;241m3\u001b[39m, \u001b[38;5;241m9\u001b[39m\u001b[38;5;241m*\u001b[39m\u001b[38;5;241m0.5\u001b[39m))\n\u001b[1;32m      2\u001b[0m plt\u001b[38;5;241m.\u001b[39msubplots_adjust(wspace\u001b[38;5;241m=\u001b[39m\u001b[38;5;241m0.4\u001b[39m)\n\u001b[1;32m      4\u001b[0m az, el \u001b[38;5;241m=\u001b[39m df\u001b[38;5;241m.\u001b[39mazimuth\u001b[38;5;241m.\u001b[39mto_numpy(), df\u001b[38;5;241m.\u001b[39melevation\u001b[38;5;241m.\u001b[39mto_numpy()\n",
      "\u001b[0;31mNameError\u001b[0m: name 'plt' is not defined"
     ]
    }
   ],
   "source": [
    "fig, axs = plt.subplots(1, 3, figsize=(16*0.5+3, 9*0.5))\n",
    "plt.subplots_adjust(wspace=0.4)\n",
    "\n",
    "az, el = df.azimuth.to_numpy(), df.elevation.to_numpy()\n",
    "off = df.delta_azel.to_numpy()\n",
    "dAZ, dEL = df.delta_az.to_numpy(), df.delta_el.to_numpy()\n",
    "\n",
    "im0 = axs[0].scatter(az, el, s=100, alpha=0.8, c=dAZ, vmin=0, vmax=10, label=f'{len(df)} Fields', cmap='jet')\n",
    "axs[0].set_ylabel('Elevation [deg]',fontsize=16)\n",
    "axs[0].set_title(r'Azimuth [deg]',fontsize=16)\n",
    "axs[0].xaxis.set_ticks_position('top')\n",
    "\n",
    "im1 = axs[1].scatter(dEL, el, s=100, c=az, cmap='jet')#, vmin=-40, vmax=40)\n",
    "axs[1].set_ylabel('Elevation [deg]',fontsize=16)\n",
    "axs[1].set_title(r'$\\Delta$ EL [arcsec]',fontsize=16)\n",
    "axs[1].xaxis.set_ticks_position('top')\n",
    "\n",
    "im2 = axs[2].scatter(dAZ, az,s=100, c=el, cmap='jet',vmin=35, vmax=80)#, vmin=-30., vmax=0.)\n",
    "axs[2].set_ylabel('Azimuth [deg]',fontsize=16)\n",
    "axs[2].set_title(r'$\\Delta$ Az [arcsec]',fontsize=16)\n",
    "axs[2].xaxis.set_ticks_position('top')\n",
    "\n",
    "plt.colorbar(im0, ax=axs[0], pad=0.025, orientation='horizontal').set_label(r'PNT_Offset [arcsec]',fontsize=12)\n",
    "plt.colorbar(im1, ax=axs[1], pad=0.025, orientation='horizontal').set_label(r'Az [deg]',fontsize=12)\n",
    "plt.colorbar(im2, ax=axs[2], pad=0.025, orientation='horizontal').set_label(r'El [deg]',fontsize=12)\n",
    "plt.tight_layout()\n",
    "# fig.savefig(f'figures/AzEl_pannel_{month}.png',facecolor='w',transparent=False,dpi=100)"
   ]
  },
  {
   "cell_type": "code",
   "execution_count": 34,
   "id": "754c9b4c-d329-474c-8875-7695b51948aa",
   "metadata": {},
   "outputs": [
    {
     "data": {
      "image/png": "[encoded data removed]",
      "text/plain": [
       "<Figure size 792x324 with 6 Axes>"
      ]
     },
     "metadata": {
      "needs_background": "light"
     },
     "output_type": "display_data"
    }
   ],
   "source": [
    "fig, axs = plt.subplots(1, 3, figsize=(16*0.5+3, 9*0.5))\n",
    "plt.subplots_adjust(wspace=0.4)\n",
    "\n",
    "az, el = df.azimuth.to_numpy(), df.elevation.to_numpy()\n",
    "off = df['delta_xy [pixels]'].to_numpy()\n",
    "dAZ, dEL = df['delta_x [pixels]'].to_numpy(), df['delta_y [pixels]'].to_numpy()\n",
    "\n",
    "im0 = axs[0].scatter(az, el, s=100, alpha=0.8, c=off, vmin=0, vmax=10, label=f'{len(df)} Fields', cmap='jet')\n",
    "axs[0].set_ylabel('Elevation [deg]',fontsize=16)\n",
    "axs[0].set_title(r'Azimuth [deg]',fontsize=16)\n",
    "axs[0].xaxis.set_ticks_position('top')\n",
    "\n",
    "im1 = axs[1].scatter(dEL, el, s=100, c=az, cmap='jet')#, vmin=-40, vmax=40)\n",
    "axs[1].set_ylabel('Elevation [deg]',fontsize=16)\n",
    "axs[1].set_title(r'$\\Delta$ Y [pixel]',fontsize=16)\n",
    "axs[1].xaxis.set_ticks_position('top')\n",
    "\n",
    "im2 = axs[2].scatter(dAZ, az,s=100, c=el, cmap='jet',vmin=35, vmax=80)#, vmin=-30., vmax=0.)\n",
    "axs[2].set_ylabel('Azimuth [deg]',fontsize=16)\n",
    "axs[2].set_title(r'$\\Delta$ X [pixel]',fontsize=16)\n",
    "axs[2].xaxis.set_ticks_position('top')\n",
    "\n",
    "plt.colorbar(im0, ax=axs[0], pad=0.025, orientation='horizontal').set_label(r'PNT_Offset [arcsec]',fontsize=12)\n",
    "plt.colorbar(im1, ax=axs[1], pad=0.025, orientation='horizontal').set_label(r'Az [deg]',fontsize=12)\n",
    "plt.colorbar(im2, ax=axs[2], pad=0.025, orientation='horizontal').set_label(r'El [deg]',fontsize=12)\n",
    "plt.tight_layout()\n",
    "# fig.savefig(f'figures/AzEl_pannel_{month}.png',facecolor='w',transparent=False,dpi=100)"
   ]
  },
  {
   "cell_type": "code",
   "execution_count": 35,
   "id": "5d83dac5-85b9-487c-9c16-24421246be52",
   "metadata": {},
   "outputs": [
    {
     "data": {
      "image/png": "[encoded data removed]",
      "text/plain": [
       "<Figure size 792x324 with 6 Axes>"
      ]
     },
     "metadata": {
      "needs_background": "light"
     },
     "output_type": "display_data"
    }
   ],
   "source": [
    "fig, axs = plt.subplots(1, 3, figsize=(16*0.5+3, 9*0.5))\n",
    "plt.subplots_adjust(wspace=0.4)\n",
    "\n",
    "az, el = df.azimuth.to_numpy(), df.elevation.to_numpy()\n",
    "off = df.delta_radec.to_numpy()\n",
    "dAZ, dEL = df.delta_ra.to_numpy(), df.delta_dec.to_numpy()\n",
    "\n",
    "im0 = axs[0].scatter(az, el, s=100, alpha=0.8, c=off, vmin=0, vmax=10, label=f'{len(df)} Fields', cmap='jet')\n",
    "axs[0].set_ylabel('Elevation [deg]',fontsize=16)\n",
    "axs[0].set_title(r'Azimuth [deg]',fontsize=16)\n",
    "axs[0].xaxis.set_ticks_position('top')\n",
    "\n",
    "im1 = axs[1].scatter(dEL, el, s=100, c=az, cmap='jet')#, vmin=-40, vmax=40)\n",
    "axs[1].set_ylabel('Elevation [deg]',fontsize=16)\n",
    "axs[1].set_title(r'$\\Delta$ RA [arcsec]',fontsize=16)\n",
    "axs[1].xaxis.set_ticks_position('top')\n",
    "\n",
    "im2 = axs[2].scatter(dAZ, az,s=100, c=el, cmap='jet',vmin=35, vmax=80)#, vmin=-30., vmax=0.)\n",
    "axs[2].set_ylabel('Azimuth [deg]',fontsize=16)\n",
    "axs[2].set_title(r'$\\Delta$ DEC [arcsec]',fontsize=16)\n",
    "axs[2].xaxis.set_ticks_position('top')\n",
    "\n",
    "plt.colorbar(im0, ax=axs[0], pad=0.025, orientation='horizontal').set_label(r'PNT_Offset [arcsec]',fontsize=12)\n",
    "plt.colorbar(im1, ax=axs[1], pad=0.025, orientation='horizontal').set_label(r'Az [deg]',fontsize=12)\n",
    "plt.colorbar(im2, ax=axs[2], pad=0.025, orientation='horizontal').set_label(r'El [deg]',fontsize=12)\n",
    "plt.tight_layout()\n",
    "# fig.savefig(f'figures/AzEl_pannel_{month}.png',facecolor='w',transparent=False,dpi=100)"
   ]
  },
  {
   "cell_type": "code",
   "execution_count": 39,
   "id": "3ea2611b-074d-4f63-8147-6deda0e1d3c5",
   "metadata": {},
   "outputs": [
    {
     "data": {
      "text/html": [
       "<div>\n",
       "<style scoped>\n",
       "    .dataframe tbody tr th:only-of-type {\n",
       "        vertical-align: middle;\n",
       "    }\n",
       "\n",
       "    .dataframe tbody tr th {\n",
       "        vertical-align: top;\n",
       "    }\n",
       "\n",
       "    .dataframe thead th {\n",
       "        text-align: right;\n",
       "    }\n",
       "</style>\n",
       "<table border=\"1\" class=\"dataframe\">\n",
       "  <thead>\n",
       "    <tr style=\"text-align: right;\">\n",
       "      <th></th>\n",
       "      <th>exposures</th>\n",
       "      <th>azimuth</th>\n",
       "      <th>elevation</th>\n",
       "      <th>delta_ra</th>\n",
       "      <th>delta_dec</th>\n",
       "      <th>delta_radec</th>\n",
       "      <th>pointing_distance_radec</th>\n",
       "      <th>delta_az</th>\n",
       "      <th>delta_el</th>\n",
       "      <th>delta_azel</th>\n",
       "      <th>delta_x [pixels]</th>\n",
       "      <th>delta_y [pixels]</th>\n",
       "      <th>delta_xy [pixels]</th>\n",
       "    </tr>\n",
       "  </thead>\n",
       "  <tbody>\n",
       "    <tr>\n",
       "      <th>0</th>\n",
       "      <td>2022050500291</td>\n",
       "      <td>359.056448</td>\n",
       "      <td>29.612477</td>\n",
       "      <td>-2.182202</td>\n",
       "      <td>-1.487810</td>\n",
       "      <td>2.641133</td>\n",
       "      <td>2.401941</td>\n",
       "      <td>-2.200068</td>\n",
       "      <td>1.453264</td>\n",
       "      <td>2.636717</td>\n",
       "      <td>-2.645981</td>\n",
       "      <td>-0.282791</td>\n",
       "      <td>2.661050</td>\n",
       "    </tr>\n",
       "    <tr>\n",
       "      <th>1</th>\n",
       "      <td>2022050500293</td>\n",
       "      <td>15.158964</td>\n",
       "      <td>48.174643</td>\n",
       "      <td>0.410797</td>\n",
       "      <td>-0.275286</td>\n",
       "      <td>0.494507</td>\n",
       "      <td>0.488795</td>\n",
       "      <td>0.684034</td>\n",
       "      <td>0.175752</td>\n",
       "      <td>0.706251</td>\n",
       "      <td>-5.200326</td>\n",
       "      <td>-0.166235</td>\n",
       "      <td>5.202982</td>\n",
       "    </tr>\n",
       "    <tr>\n",
       "      <th>2</th>\n",
       "      <td>2022050500295</td>\n",
       "      <td>20.651709</td>\n",
       "      <td>72.184971</td>\n",
       "      <td>0.562895</td>\n",
       "      <td>0.626087</td>\n",
       "      <td>0.841923</td>\n",
       "      <td>0.831861</td>\n",
       "      <td>1.062722</td>\n",
       "      <td>-0.765765</td>\n",
       "      <td>1.309876</td>\n",
       "      <td>-5.853166</td>\n",
       "      <td>-0.559158</td>\n",
       "      <td>5.879814</td>\n",
       "    </tr>\n",
       "    <tr>\n",
       "      <th>3</th>\n",
       "      <td>2022050500297</td>\n",
       "      <td>22.060721</td>\n",
       "      <td>34.071047</td>\n",
       "      <td>0.047650</td>\n",
       "      <td>0.351771</td>\n",
       "      <td>0.354983</td>\n",
       "      <td>0.354514</td>\n",
       "      <td>-0.098856</td>\n",
       "      <td>-0.344962</td>\n",
       "      <td>0.358847</td>\n",
       "      <td>-5.146613</td>\n",
       "      <td>-0.954501</td>\n",
       "      <td>5.234377</td>\n",
       "    </tr>\n",
       "    <tr>\n",
       "      <th>4</th>\n",
       "      <td>2022050500299</td>\n",
       "      <td>33.457881</td>\n",
       "      <td>44.241117</td>\n",
       "      <td>-1.445941</td>\n",
       "      <td>0.354606</td>\n",
       "      <td>1.488789</td>\n",
       "      <td>1.469099</td>\n",
       "      <td>-1.982233</td>\n",
       "      <td>0.376807</td>\n",
       "      <td>2.017729</td>\n",
       "      <td>-3.739163</td>\n",
       "      <td>-1.334673</td>\n",
       "      <td>3.970226</td>\n",
       "    </tr>\n",
       "    <tr>\n",
       "      <th>5</th>\n",
       "      <td>2022050500301</td>\n",
       "      <td>44.676145</td>\n",
       "      <td>24.868847</td>\n",
       "      <td>-7.321805</td>\n",
       "      <td>6.205670</td>\n",
       "      <td>9.597873</td>\n",
       "      <td>9.254411</td>\n",
       "      <td>-10.196078</td>\n",
       "      <td>-0.287885</td>\n",
       "      <td>10.200141</td>\n",
       "      <td>3.269333</td>\n",
       "      <td>-4.728122</td>\n",
       "      <td>5.748363</td>\n",
       "    </tr>\n",
       "    <tr>\n",
       "      <th>6</th>\n",
       "      <td>2022050500303</td>\n",
       "      <td>45.076480</td>\n",
       "      <td>53.790429</td>\n",
       "      <td>-0.462833</td>\n",
       "      <td>2.720501</td>\n",
       "      <td>2.759591</td>\n",
       "      <td>2.759516</td>\n",
       "      <td>-3.436656</td>\n",
       "      <td>-1.869375</td>\n",
       "      <td>3.912183</td>\n",
       "      <td>-5.308771</td>\n",
       "      <td>-3.366595</td>\n",
       "      <td>6.286255</td>\n",
       "    </tr>\n",
       "    <tr>\n",
       "      <th>7</th>\n",
       "      <td>2022050500305</td>\n",
       "      <td>44.959548</td>\n",
       "      <td>83.034205</td>\n",
       "      <td>3.286379</td>\n",
       "      <td>-1.772305</td>\n",
       "      <td>3.733812</td>\n",
       "      <td>3.463695</td>\n",
       "      <td>27.981575</td>\n",
       "      <td>-0.694749</td>\n",
       "      <td>27.990199</td>\n",
       "      <td>-6.219566</td>\n",
       "      <td>2.628537</td>\n",
       "      <td>6.752200</td>\n",
       "    </tr>\n",
       "    <tr>\n",
       "      <th>8</th>\n",
       "      <td>2022050500307</td>\n",
       "      <td>55.877435</td>\n",
       "      <td>35.730455</td>\n",
       "      <td>-3.550586</td>\n",
       "      <td>-0.246383</td>\n",
       "      <td>3.559125</td>\n",
       "      <td>3.540868</td>\n",
       "      <td>-2.807868</td>\n",
       "      <td>2.710009</td>\n",
       "      <td>3.902341</td>\n",
       "      <td>-1.597583</td>\n",
       "      <td>0.271317</td>\n",
       "      <td>1.620458</td>\n",
       "    </tr>\n",
       "    <tr>\n",
       "      <th>9</th>\n",
       "      <td>2022050500309</td>\n",
       "      <td>67.241002</td>\n",
       "      <td>33.572339</td>\n",
       "      <td>-3.717024</td>\n",
       "      <td>-0.156551</td>\n",
       "      <td>3.720319</td>\n",
       "      <td>3.720311</td>\n",
       "      <td>-2.546346</td>\n",
       "      <td>3.056352</td>\n",
       "      <td>3.978086</td>\n",
       "      <td>-1.572013</td>\n",
       "      <td>0.765441</td>\n",
       "      <td>1.748463</td>\n",
       "    </tr>\n",
       "    <tr>\n",
       "      <th>10</th>\n",
       "      <td>2022050500311</td>\n",
       "      <td>66.209921</td>\n",
       "      <td>69.679867</td>\n",
       "      <td>-1.270809</td>\n",
       "      <td>-4.315006</td>\n",
       "      <td>4.498248</td>\n",
       "      <td>4.476273</td>\n",
       "      <td>8.645937</td>\n",
       "      <td>3.320502</td>\n",
       "      <td>9.261639</td>\n",
       "      <td>-2.992400</td>\n",
       "      <td>3.366579</td>\n",
       "      <td>4.504255</td>\n",
       "    </tr>\n",
       "    <tr>\n",
       "      <th>11</th>\n",
       "      <td>2022050500313</td>\n",
       "      <td>74.872215</td>\n",
       "      <td>57.334566</td>\n",
       "      <td>0.768488</td>\n",
       "      <td>-1.331737</td>\n",
       "      <td>1.537562</td>\n",
       "      <td>1.520146</td>\n",
       "      <td>2.816655</td>\n",
       "      <td>0.004256</td>\n",
       "      <td>2.816658</td>\n",
       "      <td>-5.847064</td>\n",
       "      <td>0.655792</td>\n",
       "      <td>5.883725</td>\n",
       "    </tr>\n",
       "    <tr>\n",
       "      <th>12</th>\n",
       "      <td>2022050500315</td>\n",
       "      <td>78.662947</td>\n",
       "      <td>39.958962</td>\n",
       "      <td>-0.350013</td>\n",
       "      <td>-1.543418</td>\n",
       "      <td>1.582608</td>\n",
       "      <td>1.581192</td>\n",
       "      <td>1.512609</td>\n",
       "      <td>1.075258</td>\n",
       "      <td>1.855846</td>\n",
       "      <td>-5.228224</td>\n",
       "      <td>0.945844</td>\n",
       "      <td>5.313092</td>\n",
       "    </tr>\n",
       "    <tr>\n",
       "      <th>13</th>\n",
       "      <td>2022050500317</td>\n",
       "      <td>89.630963</td>\n",
       "      <td>25.452120</td>\n",
       "      <td>-0.512759</td>\n",
       "      <td>-2.531798</td>\n",
       "      <td>2.583200</td>\n",
       "      <td>2.580965</td>\n",
       "      <td>2.220238</td>\n",
       "      <td>1.625648</td>\n",
       "      <td>2.751761</td>\n",
       "      <td>-6.140969</td>\n",
       "      <td>1.704482</td>\n",
       "      <td>6.373128</td>\n",
       "    </tr>\n",
       "    <tr>\n",
       "      <th>14</th>\n",
       "      <td>2022050500319</td>\n",
       "      <td>101.104986</td>\n",
       "      <td>48.062011</td>\n",
       "      <td>-2.396814</td>\n",
       "      <td>-3.605980</td>\n",
       "      <td>4.329874</td>\n",
       "      <td>4.171593</td>\n",
       "      <td>4.470272</td>\n",
       "      <td>2.911692</td>\n",
       "      <td>5.334912</td>\n",
       "      <td>-4.864356</td>\n",
       "      <td>3.546344</td>\n",
       "      <td>6.019844</td>\n",
       "    </tr>\n",
       "    <tr>\n",
       "      <th>15</th>\n",
       "      <td>2022050500321</td>\n",
       "      <td>105.331830</td>\n",
       "      <td>49.367127</td>\n",
       "      <td>-4.865328</td>\n",
       "      <td>-4.321714</td>\n",
       "      <td>6.507582</td>\n",
       "      <td>5.976673</td>\n",
       "      <td>5.370217</td>\n",
       "      <td>4.847024</td>\n",
       "      <td>7.234146</td>\n",
       "      <td>-3.630412</td>\n",
       "      <td>5.189689</td>\n",
       "      <td>6.333464</td>\n",
       "    </tr>\n",
       "    <tr>\n",
       "      <th>16</th>\n",
       "      <td>2022050500323</td>\n",
       "      <td>112.558119</td>\n",
       "      <td>23.690015</td>\n",
       "      <td>-2.491268</td>\n",
       "      <td>-4.721948</td>\n",
       "      <td>5.338840</td>\n",
       "      <td>5.188888</td>\n",
       "      <td>3.881719</td>\n",
       "      <td>3.780121</td>\n",
       "      <td>5.418215</td>\n",
       "      <td>-6.763109</td>\n",
       "      <td>4.266397</td>\n",
       "      <td>7.996361</td>\n",
       "    </tr>\n",
       "    <tr>\n",
       "      <th>17</th>\n",
       "      <td>2022050500325</td>\n",
       "      <td>112.391513</td>\n",
       "      <td>63.231309</td>\n",
       "      <td>-10.591615</td>\n",
       "      <td>-4.624986</td>\n",
       "      <td>11.557370</td>\n",
       "      <td>9.679765</td>\n",
       "      <td>11.803323</td>\n",
       "      <td>8.089987</td>\n",
       "      <td>14.309658</td>\n",
       "      <td>-0.202181</td>\n",
       "      <td>7.770914</td>\n",
       "      <td>7.773544</td>\n",
       "    </tr>\n",
       "    <tr>\n",
       "      <th>18</th>\n",
       "      <td>2022050500327</td>\n",
       "      <td>123.737360</td>\n",
       "      <td>45.709193</td>\n",
       "      <td>-3.007608</td>\n",
       "      <td>-2.193986</td>\n",
       "      <td>3.722805</td>\n",
       "      <td>3.082544</td>\n",
       "      <td>3.108134</td>\n",
       "      <td>2.189016</td>\n",
       "      <td>3.801617</td>\n",
       "      <td>-4.970914</td>\n",
       "      <td>2.459945</td>\n",
       "      <td>5.546289</td>\n",
       "    </tr>\n",
       "    <tr>\n",
       "      <th>19</th>\n",
       "      <td>2022050500329</td>\n",
       "      <td>134.851281</td>\n",
       "      <td>29.170560</td>\n",
       "      <td>-6.735123</td>\n",
       "      <td>-2.930618</td>\n",
       "      <td>7.345094</td>\n",
       "      <td>5.157971</td>\n",
       "      <td>2.176565</td>\n",
       "      <td>4.794998</td>\n",
       "      <td>5.265875</td>\n",
       "      <td>-4.334536</td>\n",
       "      <td>4.489463</td>\n",
       "      <td>6.240471</td>\n",
       "    </tr>\n",
       "    <tr>\n",
       "      <th>20</th>\n",
       "      <td>2022050500331</td>\n",
       "      <td>135.635393</td>\n",
       "      <td>48.803296</td>\n",
       "      <td>-6.472646</td>\n",
       "      <td>-0.082590</td>\n",
       "      <td>6.473172</td>\n",
       "      <td>4.015360</td>\n",
       "      <td>1.435608</td>\n",
       "      <td>3.902504</td>\n",
       "      <td>4.158186</td>\n",
       "      <td>-2.704356</td>\n",
       "      <td>2.655507</td>\n",
       "      <td>3.790153</td>\n",
       "    </tr>\n",
       "    <tr>\n",
       "      <th>21</th>\n",
       "      <td>2022050500333</td>\n",
       "      <td>135.974862</td>\n",
       "      <td>79.409419</td>\n",
       "      <td>-3.588474</td>\n",
       "      <td>3.429871</td>\n",
       "      <td>4.963986</td>\n",
       "      <td>4.459210</td>\n",
       "      <td>-4.035501</td>\n",
       "      <td>4.397358</td>\n",
       "      <td>5.968419</td>\n",
       "      <td>-0.564817</td>\n",
       "      <td>-0.597178</td>\n",
       "      <td>0.821973</td>\n",
       "    </tr>\n",
       "    <tr>\n",
       "      <th>22</th>\n",
       "      <td>2022050500335</td>\n",
       "      <td>146.395244</td>\n",
       "      <td>24.843422</td>\n",
       "      <td>-8.253755</td>\n",
       "      <td>-2.690820</td>\n",
       "      <td>8.681301</td>\n",
       "      <td>4.952444</td>\n",
       "      <td>1.428199</td>\n",
       "      <td>4.779710</td>\n",
       "      <td>4.988524</td>\n",
       "      <td>-4.168690</td>\n",
       "      <td>4.255827</td>\n",
       "      <td>5.957352</td>\n",
       "    </tr>\n",
       "    <tr>\n",
       "      <th>23</th>\n",
       "      <td>2022050500337</td>\n",
       "      <td>146.523217</td>\n",
       "      <td>45.134147</td>\n",
       "      <td>-8.419289</td>\n",
       "      <td>1.129827</td>\n",
       "      <td>8.494759</td>\n",
       "      <td>4.383778</td>\n",
       "      <td>0.344208</td>\n",
       "      <td>4.377063</td>\n",
       "      <td>4.390576</td>\n",
       "      <td>-2.083189</td>\n",
       "      <td>2.628976</td>\n",
       "      <td>3.354279</td>\n",
       "    </tr>\n",
       "    <tr>\n",
       "      <th>24</th>\n",
       "      <td>2022050500339</td>\n",
       "      <td>158.635081</td>\n",
       "      <td>71.888068</td>\n",
       "      <td>-2.250392</td>\n",
       "      <td>3.961763</td>\n",
       "      <td>4.556296</td>\n",
       "      <td>4.251988</td>\n",
       "      <td>-1.468907</td>\n",
       "      <td>4.227581</td>\n",
       "      <td>4.475503</td>\n",
       "      <td>-0.855997</td>\n",
       "      <td>0.219176</td>\n",
       "      <td>0.883611</td>\n",
       "    </tr>\n",
       "    <tr>\n",
       "      <th>25</th>\n",
       "      <td>2022050500341</td>\n",
       "      <td>158.042124</td>\n",
       "      <td>35.514080</td>\n",
       "      <td>-16.339279</td>\n",
       "      <td>0.348964</td>\n",
       "      <td>16.343005</td>\n",
       "      <td>5.396391</td>\n",
       "      <td>0.718289</td>\n",
       "      <td>5.364533</td>\n",
       "      <td>5.412408</td>\n",
       "      <td>-2.355621</td>\n",
       "      <td>4.068345</td>\n",
       "      <td>4.701105</td>\n",
       "    </tr>\n",
       "    <tr>\n",
       "      <th>26</th>\n",
       "      <td>2022050500343</td>\n",
       "      <td>165.907079</td>\n",
       "      <td>55.753308</td>\n",
       "      <td>-6.155589</td>\n",
       "      <td>5.149607</td>\n",
       "      <td>8.025568</td>\n",
       "      <td>5.882405</td>\n",
       "      <td>0.291279</td>\n",
       "      <td>5.880213</td>\n",
       "      <td>5.887423</td>\n",
       "      <td>-0.242495</td>\n",
       "      <td>2.804222</td>\n",
       "      <td>2.814688</td>\n",
       "    </tr>\n",
       "    <tr>\n",
       "      <th>27</th>\n",
       "      <td>2022050500345</td>\n",
       "      <td>168.988813</td>\n",
       "      <td>44.612376</td>\n",
       "      <td>-8.365193</td>\n",
       "      <td>3.567831</td>\n",
       "      <td>9.094277</td>\n",
       "      <td>4.318472</td>\n",
       "      <td>-0.067274</td>\n",
       "      <td>4.318191</td>\n",
       "      <td>4.318715</td>\n",
       "      <td>-1.950630</td>\n",
       "      <td>2.411715</td>\n",
       "      <td>3.101826</td>\n",
       "    </tr>\n",
       "    <tr>\n",
       "      <th>28</th>\n",
       "      <td>2022050500347</td>\n",
       "      <td>180.001043</td>\n",
       "      <td>22.350285</td>\n",
       "      <td>-3.405263</td>\n",
       "      <td>-3.755830</td>\n",
       "      <td>5.069722</td>\n",
       "      <td>3.784121</td>\n",
       "      <td>-0.458718</td>\n",
       "      <td>3.760109</td>\n",
       "      <td>3.787986</td>\n",
       "      <td>-3.153578</td>\n",
       "      <td>2.667486</td>\n",
       "      <td>4.130440</td>\n",
       "    </tr>\n",
       "    <tr>\n",
       "      <th>29</th>\n",
       "      <td>2022050500349</td>\n",
       "      <td>191.312332</td>\n",
       "      <td>48.613921</td>\n",
       "      <td>-1.734292</td>\n",
       "      <td>8.016290</td>\n",
       "      <td>8.201748</td>\n",
       "      <td>8.038956</td>\n",
       "      <td>6.665701</td>\n",
       "      <td>6.723503</td>\n",
       "      <td>9.467685</td>\n",
       "      <td>-2.877406</td>\n",
       "      <td>7.124714</td>\n",
       "      <td>7.683815</td>\n",
       "    </tr>\n",
       "    <tr>\n",
       "      <th>30</th>\n",
       "      <td>2022050500351</td>\n",
       "      <td>194.729357</td>\n",
       "      <td>50.272350</td>\n",
       "      <td>3.417727</td>\n",
       "      <td>4.989377</td>\n",
       "      <td>6.047706</td>\n",
       "      <td>5.164011</td>\n",
       "      <td>2.654542</td>\n",
       "      <td>4.877401</td>\n",
       "      <td>5.552984</td>\n",
       "      <td>-2.354328</td>\n",
       "      <td>3.798256</td>\n",
       "      <td>4.468737</td>\n",
       "    </tr>\n",
       "    <tr>\n",
       "      <th>31</th>\n",
       "      <td>2022050500353</td>\n",
       "      <td>202.690739</td>\n",
       "      <td>24.220611</td>\n",
       "      <td>12.376116</td>\n",
       "      <td>-1.099117</td>\n",
       "      <td>12.424826</td>\n",
       "      <td>4.553321</td>\n",
       "      <td>0.648403</td>\n",
       "      <td>4.514625</td>\n",
       "      <td>4.560950</td>\n",
       "      <td>-3.697989</td>\n",
       "      <td>3.733814</td>\n",
       "      <td>5.255139</td>\n",
       "    </tr>\n",
       "    <tr>\n",
       "      <th>32</th>\n",
       "      <td>2022050500355</td>\n",
       "      <td>202.791182</td>\n",
       "      <td>69.103860</td>\n",
       "      <td>-2.792064</td>\n",
       "      <td>7.375403</td>\n",
       "      <td>7.886202</td>\n",
       "      <td>7.600262</td>\n",
       "      <td>14.934522</td>\n",
       "      <td>5.421821</td>\n",
       "      <td>15.888238</td>\n",
       "      <td>-1.776460</td>\n",
       "      <td>6.249202</td>\n",
       "      <td>6.496795</td>\n",
       "    </tr>\n",
       "    <tr>\n",
       "      <th>33</th>\n",
       "      <td>2022050500357</td>\n",
       "      <td>213.903947</td>\n",
       "      <td>46.330651</td>\n",
       "      <td>5.028415</td>\n",
       "      <td>3.628262</td>\n",
       "      <td>6.200746</td>\n",
       "      <td>4.447155</td>\n",
       "      <td>3.685528</td>\n",
       "      <td>3.647127</td>\n",
       "      <td>5.185042</td>\n",
       "      <td>-4.128752</td>\n",
       "      <td>3.733947</td>\n",
       "      <td>5.566772</td>\n",
       "    </tr>\n",
       "    <tr>\n",
       "      <th>34</th>\n",
       "      <td>2022050500359</td>\n",
       "      <td>224.982760</td>\n",
       "      <td>49.326773</td>\n",
       "      <td>5.551627</td>\n",
       "      <td>3.681584</td>\n",
       "      <td>6.661428</td>\n",
       "      <td>5.061375</td>\n",
       "      <td>4.341374</td>\n",
       "      <td>4.196782</td>\n",
       "      <td>6.038254</td>\n",
       "      <td>-3.671093</td>\n",
       "      <td>4.255025</td>\n",
       "      <td>5.619801</td>\n",
       "    </tr>\n",
       "    <tr>\n",
       "      <th>35</th>\n",
       "      <td>2022050500361</td>\n",
       "      <td>224.792358</td>\n",
       "      <td>31.286225</td>\n",
       "      <td>9.103812</td>\n",
       "      <td>2.185296</td>\n",
       "      <td>9.362420</td>\n",
       "      <td>6.037295</td>\n",
       "      <td>3.687853</td>\n",
       "      <td>5.149412</td>\n",
       "      <td>6.333775</td>\n",
       "      <td>-5.024940</td>\n",
       "      <td>5.414994</td>\n",
       "      <td>7.387299</td>\n",
       "    </tr>\n",
       "    <tr>\n",
       "      <th>36</th>\n",
       "      <td>2022050500363</td>\n",
       "      <td>231.835503</td>\n",
       "      <td>85.092223</td>\n",
       "      <td>1.521341</td>\n",
       "      <td>-1.128200</td>\n",
       "      <td>1.894020</td>\n",
       "      <td>1.702050</td>\n",
       "      <td>-19.414051</td>\n",
       "      <td>0.372516</td>\n",
       "      <td>19.417624</td>\n",
       "      <td>-4.576579</td>\n",
       "      <td>-2.264159</td>\n",
       "      <td>5.106025</td>\n",
       "    </tr>\n",
       "    <tr>\n",
       "      <th>37</th>\n",
       "      <td>2022050500365</td>\n",
       "      <td>236.523965</td>\n",
       "      <td>37.181991</td>\n",
       "      <td>9.510435</td>\n",
       "      <td>0.157469</td>\n",
       "      <td>9.511738</td>\n",
       "      <td>6.936100</td>\n",
       "      <td>1.522245</td>\n",
       "      <td>6.829363</td>\n",
       "      <td>6.996958</td>\n",
       "      <td>-1.832915</td>\n",
       "      <td>5.536195</td>\n",
       "      <td>5.831727</td>\n",
       "    </tr>\n",
       "    <tr>\n",
       "      <th>38</th>\n",
       "      <td>2022050500367</td>\n",
       "      <td>236.228932</td>\n",
       "      <td>25.211925</td>\n",
       "      <td>8.736130</td>\n",
       "      <td>-0.240514</td>\n",
       "      <td>8.739440</td>\n",
       "      <td>6.644814</td>\n",
       "      <td>2.154254</td>\n",
       "      <td>6.352554</td>\n",
       "      <td>6.707888</td>\n",
       "      <td>-4.063352</td>\n",
       "      <td>5.952710</td>\n",
       "      <td>7.207328</td>\n",
       "    </tr>\n",
       "    <tr>\n",
       "      <th>39</th>\n",
       "      <td>2022050500369</td>\n",
       "      <td>248.066460</td>\n",
       "      <td>70.793510</td>\n",
       "      <td>7.544032</td>\n",
       "      <td>2.897354</td>\n",
       "      <td>8.081280</td>\n",
       "      <td>6.790045</td>\n",
       "      <td>5.441895</td>\n",
       "      <td>6.550221</td>\n",
       "      <td>8.515845</td>\n",
       "      <td>0.602396</td>\n",
       "      <td>3.178889</td>\n",
       "      <td>3.235463</td>\n",
       "    </tr>\n",
       "    <tr>\n",
       "      <th>40</th>\n",
       "      <td>2022050500371</td>\n",
       "      <td>247.068671</td>\n",
       "      <td>23.160426</td>\n",
       "      <td>8.281240</td>\n",
       "      <td>0.361856</td>\n",
       "      <td>8.289142</td>\n",
       "      <td>7.140492</td>\n",
       "      <td>3.324648</td>\n",
       "      <td>6.453248</td>\n",
       "      <td>7.259318</td>\n",
       "      <td>-5.263467</td>\n",
       "      <td>6.514107</td>\n",
       "      <td>8.374824</td>\n",
       "    </tr>\n",
       "    <tr>\n",
       "      <th>41</th>\n",
       "      <td>2022050500373</td>\n",
       "      <td>258.777083</td>\n",
       "      <td>40.244401</td>\n",
       "      <td>6.244885</td>\n",
       "      <td>7.793618</td>\n",
       "      <td>9.986945</td>\n",
       "      <td>9.576376</td>\n",
       "      <td>11.957101</td>\n",
       "      <td>2.901228</td>\n",
       "      <td>12.304040</td>\n",
       "      <td>-10.096698</td>\n",
       "      <td>7.499736</td>\n",
       "      <td>12.577335</td>\n",
       "    </tr>\n",
       "    <tr>\n",
       "      <th>42</th>\n",
       "      <td>2022050500375</td>\n",
       "      <td>269.312853</td>\n",
       "      <td>22.589452</td>\n",
       "      <td>3.876425</td>\n",
       "      <td>1.594432</td>\n",
       "      <td>4.191526</td>\n",
       "      <td>4.116541</td>\n",
       "      <td>3.453263</td>\n",
       "      <td>2.604184</td>\n",
       "      <td>4.325135</td>\n",
       "      <td>-6.921599</td>\n",
       "      <td>3.030713</td>\n",
       "      <td>7.556041</td>\n",
       "    </tr>\n",
       "    <tr>\n",
       "      <th>43</th>\n",
       "      <td>2022050500377</td>\n",
       "      <td>280.956761</td>\n",
       "      <td>39.940693</td>\n",
       "      <td>6.144007</td>\n",
       "      <td>1.024808</td>\n",
       "      <td>6.228889</td>\n",
       "      <td>6.109801</td>\n",
       "      <td>5.082934</td>\n",
       "      <td>4.706068</td>\n",
       "      <td>6.926997</td>\n",
       "      <td>-4.986824</td>\n",
       "      <td>5.487385</td>\n",
       "      <td>7.414837</td>\n",
       "    </tr>\n",
       "    <tr>\n",
       "      <th>44</th>\n",
       "      <td>2022050500379</td>\n",
       "      <td>280.886582</td>\n",
       "      <td>22.697667</td>\n",
       "      <td>4.866877</td>\n",
       "      <td>0.201473</td>\n",
       "      <td>4.871046</td>\n",
       "      <td>4.866291</td>\n",
       "      <td>2.959907</td>\n",
       "      <td>4.028236</td>\n",
       "      <td>4.998773</td>\n",
       "      <td>-5.984877</td>\n",
       "      <td>4.148182</td>\n",
       "      <td>7.281907</td>\n",
       "    </tr>\n",
       "    <tr>\n",
       "      <th>45</th>\n",
       "      <td>2022050500381</td>\n",
       "      <td>285.345545</td>\n",
       "      <td>60.706209</td>\n",
       "      <td>7.658781</td>\n",
       "      <td>3.067999</td>\n",
       "      <td>8.250427</td>\n",
       "      <td>7.862291</td>\n",
       "      <td>12.489762</td>\n",
       "      <td>4.947827</td>\n",
       "      <td>13.434104</td>\n",
       "      <td>-3.699424</td>\n",
       "      <td>7.127556</td>\n",
       "      <td>8.030429</td>\n",
       "    </tr>\n",
       "    <tr>\n",
       "      <th>46</th>\n",
       "      <td>2022050500383</td>\n",
       "      <td>292.994008</td>\n",
       "      <td>70.209752</td>\n",
       "      <td>8.261196</td>\n",
       "      <td>4.356445</td>\n",
       "      <td>9.339484</td>\n",
       "      <td>8.857538</td>\n",
       "      <td>22.860015</td>\n",
       "      <td>4.308778</td>\n",
       "      <td>23.262542</td>\n",
       "      <td>-3.612716</td>\n",
       "      <td>8.121975</td>\n",
       "      <td>8.889218</td>\n",
       "    </tr>\n",
       "    <tr>\n",
       "      <th>47</th>\n",
       "      <td>2022050500385</td>\n",
       "      <td>291.825115</td>\n",
       "      <td>25.205977</td>\n",
       "      <td>3.932592</td>\n",
       "      <td>1.051235</td>\n",
       "      <td>4.070673</td>\n",
       "      <td>4.059684</td>\n",
       "      <td>3.504067</td>\n",
       "      <td>2.536076</td>\n",
       "      <td>4.325525</td>\n",
       "      <td>-6.811048</td>\n",
       "      <td>3.022844</td>\n",
       "      <td>7.451709</td>\n",
       "    </tr>\n",
       "    <tr>\n",
       "      <th>48</th>\n",
       "      <td>2022050500387</td>\n",
       "      <td>303.919805</td>\n",
       "      <td>42.963195</td>\n",
       "      <td>5.520847</td>\n",
       "      <td>-0.297594</td>\n",
       "      <td>5.528861</td>\n",
       "      <td>5.528576</td>\n",
       "      <td>4.956769</td>\n",
       "      <td>4.172897</td>\n",
       "      <td>6.479400</td>\n",
       "      <td>-4.844018</td>\n",
       "      <td>4.903381</td>\n",
       "      <td>6.892580</td>\n",
       "    </tr>\n",
       "    <tr>\n",
       "      <th>49</th>\n",
       "      <td>2022050500389</td>\n",
       "      <td>312.790852</td>\n",
       "      <td>75.017040</td>\n",
       "      <td>8.097714</td>\n",
       "      <td>1.343157</td>\n",
       "      <td>8.208352</td>\n",
       "      <td>7.751671</td>\n",
       "      <td>25.319994</td>\n",
       "      <td>4.153409</td>\n",
       "      <td>25.658388</td>\n",
       "      <td>-2.780211</td>\n",
       "      <td>6.797500</td>\n",
       "      <td>7.344085</td>\n",
       "    </tr>\n",
       "    <tr>\n",
       "      <th>50</th>\n",
       "      <td>2022050500391</td>\n",
       "      <td>314.566238</td>\n",
       "      <td>31.714235</td>\n",
       "      <td>4.987934</td>\n",
       "      <td>-2.008397</td>\n",
       "      <td>5.377094</td>\n",
       "      <td>5.228703</td>\n",
       "      <td>2.867997</td>\n",
       "      <td>4.625129</td>\n",
       "      <td>5.442171</td>\n",
       "      <td>-4.681909</td>\n",
       "      <td>4.595259</td>\n",
       "      <td>6.560234</td>\n",
       "    </tr>\n",
       "    <tr>\n",
       "      <th>51</th>\n",
       "      <td>2022050500393</td>\n",
       "      <td>315.217488</td>\n",
       "      <td>60.439507</td>\n",
       "      <td>7.539719</td>\n",
       "      <td>-0.390505</td>\n",
       "      <td>7.549824</td>\n",
       "      <td>7.481547</td>\n",
       "      <td>11.448767</td>\n",
       "      <td>4.907452</td>\n",
       "      <td>12.456218</td>\n",
       "      <td>-3.577835</td>\n",
       "      <td>6.718118</td>\n",
       "      <td>7.611439</td>\n",
       "    </tr>\n",
       "    <tr>\n",
       "      <th>52</th>\n",
       "      <td>2022050500395</td>\n",
       "      <td>326.514949</td>\n",
       "      <td>43.141126</td>\n",
       "      <td>5.415982</td>\n",
       "      <td>-0.847114</td>\n",
       "      <td>5.481831</td>\n",
       "      <td>5.392060</td>\n",
       "      <td>5.813122</td>\n",
       "      <td>3.329921</td>\n",
       "      <td>6.699310</td>\n",
       "      <td>-5.862849</td>\n",
       "      <td>4.704096</td>\n",
       "      <td>7.516749</td>\n",
       "    </tr>\n",
       "    <tr>\n",
       "      <th>53</th>\n",
       "      <td>2022050500397</td>\n",
       "      <td>336.943834</td>\n",
       "      <td>31.289217</td>\n",
       "      <td>5.677466</td>\n",
       "      <td>-1.836885</td>\n",
       "      <td>5.967224</td>\n",
       "      <td>5.473155</td>\n",
       "      <td>4.791252</td>\n",
       "      <td>3.632806</td>\n",
       "      <td>6.012768</td>\n",
       "      <td>-6.657798</td>\n",
       "      <td>4.601241</td>\n",
       "      <td>8.093065</td>\n",
       "    </tr>\n",
       "    <tr>\n",
       "      <th>54</th>\n",
       "      <td>2022050500399</td>\n",
       "      <td>337.414728</td>\n",
       "      <td>63.397338</td>\n",
       "      <td>5.074800</td>\n",
       "      <td>-1.942987</td>\n",
       "      <td>5.434041</td>\n",
       "      <td>5.414116</td>\n",
       "      <td>9.183672</td>\n",
       "      <td>3.522261</td>\n",
       "      <td>9.835962</td>\n",
       "      <td>-3.763370</td>\n",
       "      <td>4.643097</td>\n",
       "      <td>5.976730</td>\n",
       "    </tr>\n",
       "    <tr>\n",
       "      <th>55</th>\n",
       "      <td>2022050500401</td>\n",
       "      <td>348.711635</td>\n",
       "      <td>41.616598</td>\n",
       "      <td>4.845960</td>\n",
       "      <td>-2.498416</td>\n",
       "      <td>5.452102</td>\n",
       "      <td>5.254261</td>\n",
       "      <td>5.486707</td>\n",
       "      <td>3.284420</td>\n",
       "      <td>6.394636</td>\n",
       "      <td>-5.938911</td>\n",
       "      <td>4.551680</td>\n",
       "      <td>7.482543</td>\n",
       "    </tr>\n",
       "    <tr>\n",
       "      <th>56</th>\n",
       "      <td>2022050500403</td>\n",
       "      <td>338.234163</td>\n",
       "      <td>38.780612</td>\n",
       "      <td>5.008662</td>\n",
       "      <td>3.179764</td>\n",
       "      <td>5.932756</td>\n",
       "      <td>5.724037</td>\n",
       "      <td>7.126332</td>\n",
       "      <td>-1.381737</td>\n",
       "      <td>7.259050</td>\n",
       "      <td>-10.230876</td>\n",
       "      <td>1.754361</td>\n",
       "      <td>10.380203</td>\n",
       "    </tr>\n",
       "    <tr>\n",
       "      <th>57</th>\n",
       "      <td>2022050500405</td>\n",
       "      <td>337.682849</td>\n",
       "      <td>38.624589</td>\n",
       "      <td>-2.000077</td>\n",
       "      <td>-5.100132</td>\n",
       "      <td>5.478289</td>\n",
       "      <td>5.442770</td>\n",
       "      <td>-4.544616</td>\n",
       "      <td>4.125991</td>\n",
       "      <td>6.138187</td>\n",
       "      <td>0.313556</td>\n",
       "      <td>0.443091</td>\n",
       "      <td>0.542814</td>\n",
       "    </tr>\n",
       "  </tbody>\n",
       "</table>\n",
       "</div>"
      ],
      "text/plain": [
       "        exposures     azimuth  elevation   delta_ra  delta_dec  delta_radec  \\\n",
       "0   2022050500291  359.056448  29.612477  -2.182202  -1.487810     2.641133   \n",
       "1   2022050500293   15.158964  48.174643   0.410797  -0.275286     0.494507   \n",
       "2   2022050500295   20.651709  72.184971   0.562895   0.626087     0.841923   \n",
       "3   2022050500297   22.060721  34.071047   0.047650   0.351771     0.354983   \n",
       "4   2022050500299   33.457881  44.241117  -1.445941   0.354606     1.488789   \n",
       "5   2022050500301   44.676145  24.868847  -7.321805   6.205670     9.597873   \n",
       "6   2022050500303   45.076480  53.790429  -0.462833   2.720501     2.759591   \n",
       "7   2022050500305   44.959548  83.034205   3.286379  -1.772305     3.733812   \n",
       "8   2022050500307   55.877435  35.730455  -3.550586  -0.246383     3.559125   \n",
       "9   2022050500309   67.241002  33.572339  -3.717024  -0.156551     3.720319   \n",
       "10  2022050500311   66.209921  69.679867  -1.270809  -4.315006     4.498248   \n",
       "11  2022050500313   74.872215  57.334566   0.768488  -1.331737     1.537562   \n",
       "12  2022050500315   78.662947  39.958962  -0.350013  -1.543418     1.582608   \n",
       "13  2022050500317   89.630963  25.452120  -0.512759  -2.531798     2.583200   \n",
       "14  2022050500319  101.104986  48.062011  -2.396814  -3.605980     4.329874   \n",
       "15  2022050500321  105.331830  49.367127  -4.865328  -4.321714     6.507582   \n",
       "16  2022050500323  112.558119  23.690015  -2.491268  -4.721948     5.338840   \n",
       "17  2022050500325  112.391513  63.231309 -10.591615  -4.624986    11.557370   \n",
       "18  2022050500327  123.737360  45.709193  -3.007608  -2.193986     3.722805   \n",
       "19  2022050500329  134.851281  29.170560  -6.735123  -2.930618     7.345094   \n",
       "20  2022050500331  135.635393  48.803296  -6.472646  -0.082590     6.473172   \n",
       "21  2022050500333  135.974862  79.409419  -3.588474   3.429871     4.963986   \n",
       "22  2022050500335  146.395244  24.843422  -8.253755  -2.690820     8.681301   \n",
       "23  2022050500337  146.523217  45.134147  -8.419289   1.129827     8.494759   \n",
       "24  2022050500339  158.635081  71.888068  -2.250392   3.961763     4.556296   \n",
       "25  2022050500341  158.042124  35.514080 -16.339279   0.348964    16.343005   \n",
       "26  2022050500343  165.907079  55.753308  -6.155589   5.149607     8.025568   \n",
       "27  2022050500345  168.988813  44.612376  -8.365193   3.567831     9.094277   \n",
       "28  2022050500347  180.001043  22.350285  -3.405263  -3.755830     5.069722   \n",
       "29  2022050500349  191.312332  48.613921  -1.734292   8.016290     8.201748   \n",
       "30  2022050500351  194.729357  50.272350   3.417727   4.989377     6.047706   \n",
       "31  2022050500353  202.690739  24.220611  12.376116  -1.099117    12.424826   \n",
       "32  2022050500355  202.791182  69.103860  -2.792064   7.375403     7.886202   \n",
       "33  2022050500357  213.903947  46.330651   5.028415   3.628262     6.200746   \n",
       "34  2022050500359  224.982760  49.326773   5.551627   3.681584     6.661428   \n",
       "35  2022050500361  224.792358  31.286225   9.103812   2.185296     9.362420   \n",
       "36  2022050500363  231.835503  85.092223   1.521341  -1.128200     1.894020   \n",
       "37  2022050500365  236.523965  37.181991   9.510435   0.157469     9.511738   \n",
       "38  2022050500367  236.228932  25.211925   8.736130  -0.240514     8.739440   \n",
       "39  2022050500369  248.066460  70.793510   7.544032   2.897354     8.081280   \n",
       "40  2022050500371  247.068671  23.160426   8.281240   0.361856     8.289142   \n",
       "41  2022050500373  258.777083  40.244401   6.244885   7.793618     9.986945   \n",
       "42  2022050500375  269.312853  22.589452   3.876425   1.594432     4.191526   \n",
       "43  2022050500377  280.956761  39.940693   6.144007   1.024808     6.228889   \n",
       "44  2022050500379  280.886582  22.697667   4.866877   0.201473     4.871046   \n",
       "45  2022050500381  285.345545  60.706209   7.658781   3.067999     8.250427   \n",
       "46  2022050500383  292.994008  70.209752   8.261196   4.356445     9.339484   \n",
       "47  2022050500385  291.825115  25.205977   3.932592   1.051235     4.070673   \n",
       "48  2022050500387  303.919805  42.963195   5.520847  -0.297594     5.528861   \n",
       "49  2022050500389  312.790852  75.017040   8.097714   1.343157     8.208352   \n",
       "50  2022050500391  314.566238  31.714235   4.987934  -2.008397     5.377094   \n",
       "51  2022050500393  315.217488  60.439507   7.539719  -0.390505     7.549824   \n",
       "52  2022050500395  326.514949  43.141126   5.415982  -0.847114     5.481831   \n",
       "53  2022050500397  336.943834  31.289217   5.677466  -1.836885     5.967224   \n",
       "54  2022050500399  337.414728  63.397338   5.074800  -1.942987     5.434041   \n",
       "55  2022050500401  348.711635  41.616598   4.845960  -2.498416     5.452102   \n",
       "56  2022050500403  338.234163  38.780612   5.008662   3.179764     5.932756   \n",
       "57  2022050500405  337.682849  38.624589  -2.000077  -5.100132     5.478289   \n",
       "\n",
       "    pointing_distance_radec   delta_az  delta_el  delta_azel  \\\n",
       "0                  2.401941  -2.200068  1.453264    2.636717   \n",
       "1                  0.488795   0.684034  0.175752    0.706251   \n",
       "2                  0.831861   1.062722 -0.765765    1.309876   \n",
       "3                  0.354514  -0.098856 -0.344962    0.358847   \n",
       "4                  1.469099  -1.982233  0.376807    2.017729   \n",
       "5                  9.254411 -10.196078 -0.287885   10.200141   \n",
       "6                  2.759516  -3.436656 -1.869375    3.912183   \n",
       "7                  3.463695  27.981575 -0.694749   27.990199   \n",
       "8                  3.540868  -2.807868  2.710009    3.902341   \n",
       "9                  3.720311  -2.546346  3.056352    3.978086   \n",
       "10                 4.476273   8.645937  3.320502    9.261639   \n",
       "11                 1.520146   2.816655  0.004256    2.816658   \n",
       "12                 1.581192   1.512609  1.075258    1.855846   \n",
       "13                 2.580965   2.220238  1.625648    2.751761   \n",
       "14                 4.171593   4.470272  2.911692    5.334912   \n",
       "15                 5.976673   5.370217  4.847024    7.234146   \n",
       "16                 5.188888   3.881719  3.780121    5.418215   \n",
       "17                 9.679765  11.803323  8.089987   14.309658   \n",
       "18                 3.082544   3.108134  2.189016    3.801617   \n",
       "19                 5.157971   2.176565  4.794998    5.265875   \n",
       "20                 4.015360   1.435608  3.902504    4.158186   \n",
       "21                 4.459210  -4.035501  4.397358    5.968419   \n",
       "22                 4.952444   1.428199  4.779710    4.988524   \n",
       "23                 4.383778   0.344208  4.377063    4.390576   \n",
       "24                 4.251988  -1.468907  4.227581    4.475503   \n",
       "25                 5.396391   0.718289  5.364533    5.412408   \n",
       "26                 5.882405   0.291279  5.880213    5.887423   \n",
       "27                 4.318472  -0.067274  4.318191    4.318715   \n",
       "28                 3.784121  -0.458718  3.760109    3.787986   \n",
       "29                 8.038956   6.665701  6.723503    9.467685   \n",
       "30                 5.164011   2.654542  4.877401    5.552984   \n",
       "31                 4.553321   0.648403  4.514625    4.560950   \n",
       "32                 7.600262  14.934522  5.421821   15.888238   \n",
       "33                 4.447155   3.685528  3.647127    5.185042   \n",
       "34                 5.061375   4.341374  4.196782    6.038254   \n",
       "35                 6.037295   3.687853  5.149412    6.333775   \n",
       "36                 1.702050 -19.414051  0.372516   19.417624   \n",
       "37                 6.936100   1.522245  6.829363    6.996958   \n",
       "38                 6.644814   2.154254  6.352554    6.707888   \n",
       "39                 6.790045   5.441895  6.550221    8.515845   \n",
       "40                 7.140492   3.324648  6.453248    7.259318   \n",
       "41                 9.576376  11.957101  2.901228   12.304040   \n",
       "42                 4.116541   3.453263  2.604184    4.325135   \n",
       "43                 6.109801   5.082934  4.706068    6.926997   \n",
       "44                 4.866291   2.959907  4.028236    4.998773   \n",
       "45                 7.862291  12.489762  4.947827   13.434104   \n",
       "46                 8.857538  22.860015  4.308778   23.262542   \n",
       "47                 4.059684   3.504067  2.536076    4.325525   \n",
       "48                 5.528576   4.956769  4.172897    6.479400   \n",
       "49                 7.751671  25.319994  4.153409   25.658388   \n",
       "50                 5.228703   2.867997  4.625129    5.442171   \n",
       "51                 7.481547  11.448767  4.907452   12.456218   \n",
       "52                 5.392060   5.813122  3.329921    6.699310   \n",
       "53                 5.473155   4.791252  3.632806    6.012768   \n",
       "54                 5.414116   9.183672  3.522261    9.835962   \n",
       "55                 5.254261   5.486707  3.284420    6.394636   \n",
       "56                 5.724037   7.126332 -1.381737    7.259050   \n",
       "57                 5.442770  -4.544616  4.125991    6.138187   \n",
       "\n",
       "    delta_x [pixels]  delta_y [pixels]  delta_xy [pixels]  \n",
       "0          -2.645981         -0.282791           2.661050  \n",
       "1          -5.200326         -0.166235           5.202982  \n",
       "2          -5.853166         -0.559158           5.879814  \n",
       "3          -5.146613         -0.954501           5.234377  \n",
       "4          -3.739163         -1.334673           3.970226  \n",
       "5           3.269333         -4.728122           5.748363  \n",
       "6          -5.308771         -3.366595           6.286255  \n",
       "7          -6.219566          2.628537           6.752200  \n",
       "8          -1.597583          0.271317           1.620458  \n",
       "9          -1.572013          0.765441           1.748463  \n",
       "10         -2.992400          3.366579           4.504255  \n",
       "11         -5.847064          0.655792           5.883725  \n",
       "12         -5.228224          0.945844           5.313092  \n",
       "13         -6.140969          1.704482           6.373128  \n",
       "14         -4.864356          3.546344           6.019844  \n",
       "15         -3.630412          5.189689           6.333464  \n",
       "16         -6.763109          4.266397           7.996361  \n",
       "17         -0.202181          7.770914           7.773544  \n",
       "18         -4.970914          2.459945           5.546289  \n",
       "19         -4.334536          4.489463           6.240471  \n",
       "20         -2.704356          2.655507           3.790153  \n",
       "21         -0.564817         -0.597178           0.821973  \n",
       "22         -4.168690          4.255827           5.957352  \n",
       "23         -2.083189          2.628976           3.354279  \n",
       "24         -0.855997          0.219176           0.883611  \n",
       "25         -2.355621          4.068345           4.701105  \n",
       "26         -0.242495          2.804222           2.814688  \n",
       "27         -1.950630          2.411715           3.101826  \n",
       "28         -3.153578          2.667486           4.130440  \n",
       "29         -2.877406          7.124714           7.683815  \n",
       "30         -2.354328          3.798256           4.468737  \n",
       "31         -3.697989          3.733814           5.255139  \n",
       "32         -1.776460          6.249202           6.496795  \n",
       "33         -4.128752          3.733947           5.566772  \n",
       "34         -3.671093          4.255025           5.619801  \n",
       "35         -5.024940          5.414994           7.387299  \n",
       "36         -4.576579         -2.264159           5.106025  \n",
       "37         -1.832915          5.536195           5.831727  \n",
       "38         -4.063352          5.952710           7.207328  \n",
       "39          0.602396          3.178889           3.235463  \n",
       "40         -5.263467          6.514107           8.374824  \n",
       "41        -10.096698          7.499736          12.577335  \n",
       "42         -6.921599          3.030713           7.556041  \n",
       "43         -4.986824          5.487385           7.414837  \n",
       "44         -5.984877          4.148182           7.281907  \n",
       "45         -3.699424          7.127556           8.030429  \n",
       "46         -3.612716          8.121975           8.889218  \n",
       "47         -6.811048          3.022844           7.451709  \n",
       "48         -4.844018          4.903381           6.892580  \n",
       "49         -2.780211          6.797500           7.344085  \n",
       "50         -4.681909          4.595259           6.560234  \n",
       "51         -3.577835          6.718118           7.611439  \n",
       "52         -5.862849          4.704096           7.516749  \n",
       "53         -6.657798          4.601241           8.093065  \n",
       "54         -3.763370          4.643097           5.976730  \n",
       "55         -5.938911          4.551680           7.482543  \n",
       "56        -10.230876          1.754361          10.380203  \n",
       "57          0.313556          0.443091           0.542814  "
      ]
     },
     "execution_count": 39,
     "metadata": {},
     "output_type": "execute_result"
    }
   ],
   "source": [
    "df"
   ]
  },
  {
   "cell_type": "code",
   "execution_count": null,
   "id": "d6ac6a60-d852-4386-8c00-64964195183c",
   "metadata": {},
   "outputs": [],
   "source": []
  },
  {
   "cell_type": "code",
   "execution_count": 17,
   "id": "c9cc8b6c-91cc-4739-afc0-7c1cc73d54a0",
   "metadata": {},
   "outputs": [
    {
     "data": {
      "text/plain": [
       "<bound method PyCapsule.asArcminutes of Angle(0.00016933932697857945, degrees)>"
      ]
     },
     "execution_count": 17,
     "metadata": {},
     "output_type": "execute_result"
    }
   ],
   "source": [
    "boresight_radec.separation(centroid_radec).as\n",
    "distance"
   ]
  },
  {
   "cell_type": "code",
   "execution_count": 42,
   "id": "b57c663e-d1b3-47ad-8f07-aa70c4de09c6",
   "metadata": {},
   "outputs": [
    {
     "name": "stdout",
     "output_type": "stream",
     "text": [
      "38.62573476456108\n"
     ]
    }
   ],
   "source": [
    "info = exp.getInfo()\n",
    "vi = info.getVisitInfo()\n",
    "    \n",
    "skyLocation = SkyCoord(centroid_ra, centroid_dec, unit=u.deg)\n",
    "altAz = AltAz(obstime=vi.date.toPython(), location=AUXTEL_LOCATION)\n",
    "obsAltAz = skyLocation.transform_to(altAz)\n",
    "centroid_alt = geom.Angle(obsAltAz.alt.degree, geom.degrees).asDegrees()\n",
    "centroid_az = geom.Angle(obsAltAz.az.degree, geom.degrees).asDegrees()\n",
    "print(centroid_alt)"
   ]
  },
  {
   "cell_type": "code",
   "execution_count": 43,
   "id": "0a7dcf94-2855-4e2a-8e28-2513bd0cf914",
   "metadata": {},
   "outputs": [
    {
     "name": "stdout",
     "output_type": "stream",
     "text": [
      "38.7882023139973\n"
     ]
    }
   ],
   "source": [
    "boresight_azel = vi.getBoresightAzAlt()\n",
    "boresight_az = boresight_azel[0].asDegrees()\n",
    "boresight_alt = boresight_azel[1].asDegrees()\n",
    "print((boresight_alt))"
   ]
  },
  {
   "cell_type": "code",
   "execution_count": 63,
   "id": "1ba272e2-f392-4be4-b5d8-46a3ae1b4d10",
   "metadata": {},
   "outputs": [
    {
     "data": {
      "text/plain": [
       "0.125"
      ]
     },
     "execution_count": 63,
     "metadata": {},
     "output_type": "execute_result"
    }
   ],
   "source": [
    "(15*30)/3600"
   ]
  },
  {
   "cell_type": "code",
   "execution_count": 36,
   "id": "7912bf79-33cd-4591-a65e-358a430ce88b",
   "metadata": {},
   "outputs": [],
   "source": [
    "df.to_csv('PointingMay-wcs.txt', index='exposures')"
   ]
  },
  {
   "cell_type": "code",
   "execution_count": 56,
   "id": "d49182ca-db74-4346-95d9-55cc058c340a",
   "metadata": {},
   "outputs": [],
   "source": [
    "df = pd.read_csv('PointingMay_radec_azel_xy.txt') "
   ]
  },
  {
   "cell_type": "code",
   "execution_count": 37,
   "id": "d3423de9-e227-48d7-bf58-f4e524a456fe",
   "metadata": {},
   "outputs": [
    {
     "data": {
      "text/html": [
       "<div>\n",
       "<style scoped>\n",
       "    .dataframe tbody tr th:only-of-type {\n",
       "        vertical-align: middle;\n",
       "    }\n",
       "\n",
       "    .dataframe tbody tr th {\n",
       "        vertical-align: top;\n",
       "    }\n",
       "\n",
       "    .dataframe thead th {\n",
       "        text-align: right;\n",
       "    }\n",
       "</style>\n",
       "<table border=\"1\" class=\"dataframe\">\n",
       "  <thead>\n",
       "    <tr style=\"text-align: right;\">\n",
       "      <th></th>\n",
       "      <th>exposures</th>\n",
       "      <th>azimuth</th>\n",
       "      <th>elevation</th>\n",
       "      <th>delta_ra</th>\n",
       "      <th>delta_dec</th>\n",
       "      <th>delta_radec</th>\n",
       "      <th>pointing_distance_radec</th>\n",
       "      <th>delta_az</th>\n",
       "      <th>delta_el</th>\n",
       "      <th>delta_azel</th>\n",
       "      <th>delta_x [pixels]</th>\n",
       "      <th>delta_y [pixels]</th>\n",
       "      <th>delta_xy [pixels]</th>\n",
       "    </tr>\n",
       "  </thead>\n",
       "  <tbody>\n",
       "    <tr>\n",
       "      <th>27</th>\n",
       "      <td>2022050500345</td>\n",
       "      <td>168.988813</td>\n",
       "      <td>44.612376</td>\n",
       "      <td>-8.365193</td>\n",
       "      <td>3.567831</td>\n",
       "      <td>9.094277</td>\n",
       "      <td>4.318472</td>\n",
       "      <td>-0.067274</td>\n",
       "      <td>4.318191</td>\n",
       "      <td>4.318715</td>\n",
       "      <td>-1.950630</td>\n",
       "      <td>2.411715</td>\n",
       "      <td>3.101826</td>\n",
       "    </tr>\n",
       "    <tr>\n",
       "      <th>3</th>\n",
       "      <td>2022050500297</td>\n",
       "      <td>22.060721</td>\n",
       "      <td>34.071047</td>\n",
       "      <td>0.047650</td>\n",
       "      <td>0.351771</td>\n",
       "      <td>0.354983</td>\n",
       "      <td>0.354514</td>\n",
       "      <td>-0.098856</td>\n",
       "      <td>-0.344962</td>\n",
       "      <td>0.358847</td>\n",
       "      <td>-5.146613</td>\n",
       "      <td>-0.954501</td>\n",
       "      <td>5.234377</td>\n",
       "    </tr>\n",
       "    <tr>\n",
       "      <th>26</th>\n",
       "      <td>2022050500343</td>\n",
       "      <td>165.907079</td>\n",
       "      <td>55.753308</td>\n",
       "      <td>-6.155589</td>\n",
       "      <td>5.149607</td>\n",
       "      <td>8.025568</td>\n",
       "      <td>5.882405</td>\n",
       "      <td>0.291279</td>\n",
       "      <td>5.880213</td>\n",
       "      <td>5.887423</td>\n",
       "      <td>-0.242495</td>\n",
       "      <td>2.804222</td>\n",
       "      <td>2.814688</td>\n",
       "    </tr>\n",
       "    <tr>\n",
       "      <th>23</th>\n",
       "      <td>2022050500337</td>\n",
       "      <td>146.523217</td>\n",
       "      <td>45.134147</td>\n",
       "      <td>-8.419289</td>\n",
       "      <td>1.129827</td>\n",
       "      <td>8.494759</td>\n",
       "      <td>4.383778</td>\n",
       "      <td>0.344208</td>\n",
       "      <td>4.377063</td>\n",
       "      <td>4.390576</td>\n",
       "      <td>-2.083189</td>\n",
       "      <td>2.628976</td>\n",
       "      <td>3.354279</td>\n",
       "    </tr>\n",
       "    <tr>\n",
       "      <th>28</th>\n",
       "      <td>2022050500347</td>\n",
       "      <td>180.001043</td>\n",
       "      <td>22.350285</td>\n",
       "      <td>-3.405263</td>\n",
       "      <td>-3.755830</td>\n",
       "      <td>5.069722</td>\n",
       "      <td>3.784121</td>\n",
       "      <td>-0.458718</td>\n",
       "      <td>3.760109</td>\n",
       "      <td>3.787986</td>\n",
       "      <td>-3.153578</td>\n",
       "      <td>2.667486</td>\n",
       "      <td>4.130440</td>\n",
       "    </tr>\n",
       "    <tr>\n",
       "      <th>31</th>\n",
       "      <td>2022050500353</td>\n",
       "      <td>202.690739</td>\n",
       "      <td>24.220611</td>\n",
       "      <td>12.376116</td>\n",
       "      <td>-1.099117</td>\n",
       "      <td>12.424826</td>\n",
       "      <td>4.553321</td>\n",
       "      <td>0.648403</td>\n",
       "      <td>4.514625</td>\n",
       "      <td>4.560950</td>\n",
       "      <td>-3.697989</td>\n",
       "      <td>3.733814</td>\n",
       "      <td>5.255139</td>\n",
       "    </tr>\n",
       "    <tr>\n",
       "      <th>1</th>\n",
       "      <td>2022050500293</td>\n",
       "      <td>15.158964</td>\n",
       "      <td>48.174643</td>\n",
       "      <td>0.410797</td>\n",
       "      <td>-0.275286</td>\n",
       "      <td>0.494507</td>\n",
       "      <td>0.488795</td>\n",
       "      <td>0.684034</td>\n",
       "      <td>0.175752</td>\n",
       "      <td>0.706251</td>\n",
       "      <td>-5.200326</td>\n",
       "      <td>-0.166235</td>\n",
       "      <td>5.202982</td>\n",
       "    </tr>\n",
       "    <tr>\n",
       "      <th>25</th>\n",
       "      <td>2022050500341</td>\n",
       "      <td>158.042124</td>\n",
       "      <td>35.514080</td>\n",
       "      <td>-16.339279</td>\n",
       "      <td>0.348964</td>\n",
       "      <td>16.343005</td>\n",
       "      <td>5.396391</td>\n",
       "      <td>0.718289</td>\n",
       "      <td>5.364533</td>\n",
       "      <td>5.412408</td>\n",
       "      <td>-2.355621</td>\n",
       "      <td>4.068345</td>\n",
       "      <td>4.701105</td>\n",
       "    </tr>\n",
       "    <tr>\n",
       "      <th>2</th>\n",
       "      <td>2022050500295</td>\n",
       "      <td>20.651709</td>\n",
       "      <td>72.184971</td>\n",
       "      <td>0.562895</td>\n",
       "      <td>0.626087</td>\n",
       "      <td>0.841923</td>\n",
       "      <td>0.831861</td>\n",
       "      <td>1.062722</td>\n",
       "      <td>-0.765765</td>\n",
       "      <td>1.309876</td>\n",
       "      <td>-5.853166</td>\n",
       "      <td>-0.559158</td>\n",
       "      <td>5.879814</td>\n",
       "    </tr>\n",
       "    <tr>\n",
       "      <th>22</th>\n",
       "      <td>2022050500335</td>\n",
       "      <td>146.395244</td>\n",
       "      <td>24.843422</td>\n",
       "      <td>-8.253755</td>\n",
       "      <td>-2.690820</td>\n",
       "      <td>8.681301</td>\n",
       "      <td>4.952444</td>\n",
       "      <td>1.428199</td>\n",
       "      <td>4.779710</td>\n",
       "      <td>4.988524</td>\n",
       "      <td>-4.168690</td>\n",
       "      <td>4.255827</td>\n",
       "      <td>5.957352</td>\n",
       "    </tr>\n",
       "    <tr>\n",
       "      <th>20</th>\n",
       "      <td>2022050500331</td>\n",
       "      <td>135.635393</td>\n",
       "      <td>48.803296</td>\n",
       "      <td>-6.472646</td>\n",
       "      <td>-0.082590</td>\n",
       "      <td>6.473172</td>\n",
       "      <td>4.015360</td>\n",
       "      <td>1.435608</td>\n",
       "      <td>3.902504</td>\n",
       "      <td>4.158186</td>\n",
       "      <td>-2.704356</td>\n",
       "      <td>2.655507</td>\n",
       "      <td>3.790153</td>\n",
       "    </tr>\n",
       "    <tr>\n",
       "      <th>24</th>\n",
       "      <td>2022050500339</td>\n",
       "      <td>158.635081</td>\n",
       "      <td>71.888068</td>\n",
       "      <td>-2.250392</td>\n",
       "      <td>3.961763</td>\n",
       "      <td>4.556296</td>\n",
       "      <td>4.251988</td>\n",
       "      <td>-1.468907</td>\n",
       "      <td>4.227581</td>\n",
       "      <td>4.475503</td>\n",
       "      <td>-0.855997</td>\n",
       "      <td>0.219176</td>\n",
       "      <td>0.883611</td>\n",
       "    </tr>\n",
       "    <tr>\n",
       "      <th>12</th>\n",
       "      <td>2022050500315</td>\n",
       "      <td>78.662947</td>\n",
       "      <td>39.958962</td>\n",
       "      <td>-0.350013</td>\n",
       "      <td>-1.543418</td>\n",
       "      <td>1.582608</td>\n",
       "      <td>1.581192</td>\n",
       "      <td>1.512609</td>\n",
       "      <td>1.075258</td>\n",
       "      <td>1.855846</td>\n",
       "      <td>-5.228224</td>\n",
       "      <td>0.945844</td>\n",
       "      <td>5.313092</td>\n",
       "    </tr>\n",
       "    <tr>\n",
       "      <th>37</th>\n",
       "      <td>2022050500365</td>\n",
       "      <td>236.523965</td>\n",
       "      <td>37.181991</td>\n",
       "      <td>9.510435</td>\n",
       "      <td>0.157469</td>\n",
       "      <td>9.511738</td>\n",
       "      <td>6.936100</td>\n",
       "      <td>1.522245</td>\n",
       "      <td>6.829363</td>\n",
       "      <td>6.996958</td>\n",
       "      <td>-1.832915</td>\n",
       "      <td>5.536195</td>\n",
       "      <td>5.831727</td>\n",
       "    </tr>\n",
       "    <tr>\n",
       "      <th>4</th>\n",
       "      <td>2022050500299</td>\n",
       "      <td>33.457881</td>\n",
       "      <td>44.241117</td>\n",
       "      <td>-1.445941</td>\n",
       "      <td>0.354606</td>\n",
       "      <td>1.488789</td>\n",
       "      <td>1.469099</td>\n",
       "      <td>-1.982233</td>\n",
       "      <td>0.376807</td>\n",
       "      <td>2.017729</td>\n",
       "      <td>-3.739163</td>\n",
       "      <td>-1.334673</td>\n",
       "      <td>3.970226</td>\n",
       "    </tr>\n",
       "    <tr>\n",
       "      <th>38</th>\n",
       "      <td>2022050500367</td>\n",
       "      <td>236.228932</td>\n",
       "      <td>25.211925</td>\n",
       "      <td>8.736130</td>\n",
       "      <td>-0.240514</td>\n",
       "      <td>8.739440</td>\n",
       "      <td>6.644814</td>\n",
       "      <td>2.154254</td>\n",
       "      <td>6.352554</td>\n",
       "      <td>6.707888</td>\n",
       "      <td>-4.063352</td>\n",
       "      <td>5.952710</td>\n",
       "      <td>7.207328</td>\n",
       "    </tr>\n",
       "    <tr>\n",
       "      <th>19</th>\n",
       "      <td>2022050500329</td>\n",
       "      <td>134.851281</td>\n",
       "      <td>29.170560</td>\n",
       "      <td>-6.735123</td>\n",
       "      <td>-2.930618</td>\n",
       "      <td>7.345094</td>\n",
       "      <td>5.157971</td>\n",
       "      <td>2.176565</td>\n",
       "      <td>4.794998</td>\n",
       "      <td>5.265875</td>\n",
       "      <td>-4.334536</td>\n",
       "      <td>4.489463</td>\n",
       "      <td>6.240471</td>\n",
       "    </tr>\n",
       "    <tr>\n",
       "      <th>0</th>\n",
       "      <td>2022050500291</td>\n",
       "      <td>359.056448</td>\n",
       "      <td>29.612477</td>\n",
       "      <td>-2.182202</td>\n",
       "      <td>-1.487810</td>\n",
       "      <td>2.641133</td>\n",
       "      <td>2.401941</td>\n",
       "      <td>-2.200068</td>\n",
       "      <td>1.453264</td>\n",
       "      <td>2.636717</td>\n",
       "      <td>-2.645981</td>\n",
       "      <td>-0.282791</td>\n",
       "      <td>2.661050</td>\n",
       "    </tr>\n",
       "    <tr>\n",
       "      <th>13</th>\n",
       "      <td>2022050500317</td>\n",
       "      <td>89.630963</td>\n",
       "      <td>25.452120</td>\n",
       "      <td>-0.512759</td>\n",
       "      <td>-2.531798</td>\n",
       "      <td>2.583200</td>\n",
       "      <td>2.580965</td>\n",
       "      <td>2.220238</td>\n",
       "      <td>1.625648</td>\n",
       "      <td>2.751761</td>\n",
       "      <td>-6.140969</td>\n",
       "      <td>1.704482</td>\n",
       "      <td>6.373128</td>\n",
       "    </tr>\n",
       "    <tr>\n",
       "      <th>9</th>\n",
       "      <td>2022050500309</td>\n",
       "      <td>67.241002</td>\n",
       "      <td>33.572339</td>\n",
       "      <td>-3.717024</td>\n",
       "      <td>-0.156551</td>\n",
       "      <td>3.720319</td>\n",
       "      <td>3.720311</td>\n",
       "      <td>-2.546346</td>\n",
       "      <td>3.056352</td>\n",
       "      <td>3.978086</td>\n",
       "      <td>-1.572013</td>\n",
       "      <td>0.765441</td>\n",
       "      <td>1.748463</td>\n",
       "    </tr>\n",
       "    <tr>\n",
       "      <th>30</th>\n",
       "      <td>2022050500351</td>\n",
       "      <td>194.729357</td>\n",
       "      <td>50.272350</td>\n",
       "      <td>3.417727</td>\n",
       "      <td>4.989377</td>\n",
       "      <td>6.047706</td>\n",
       "      <td>5.164011</td>\n",
       "      <td>2.654542</td>\n",
       "      <td>4.877401</td>\n",
       "      <td>5.552984</td>\n",
       "      <td>-2.354328</td>\n",
       "      <td>3.798256</td>\n",
       "      <td>4.468737</td>\n",
       "    </tr>\n",
       "    <tr>\n",
       "      <th>8</th>\n",
       "      <td>2022050500307</td>\n",
       "      <td>55.877435</td>\n",
       "      <td>35.730455</td>\n",
       "      <td>-3.550586</td>\n",
       "      <td>-0.246383</td>\n",
       "      <td>3.559125</td>\n",
       "      <td>3.540868</td>\n",
       "      <td>-2.807868</td>\n",
       "      <td>2.710009</td>\n",
       "      <td>3.902341</td>\n",
       "      <td>-1.597583</td>\n",
       "      <td>0.271317</td>\n",
       "      <td>1.620458</td>\n",
       "    </tr>\n",
       "    <tr>\n",
       "      <th>11</th>\n",
       "      <td>2022050500313</td>\n",
       "      <td>74.872215</td>\n",
       "      <td>57.334566</td>\n",
       "      <td>0.768488</td>\n",
       "      <td>-1.331737</td>\n",
       "      <td>1.537562</td>\n",
       "      <td>1.520146</td>\n",
       "      <td>2.816655</td>\n",
       "      <td>0.004256</td>\n",
       "      <td>2.816658</td>\n",
       "      <td>-5.847064</td>\n",
       "      <td>0.655792</td>\n",
       "      <td>5.883725</td>\n",
       "    </tr>\n",
       "    <tr>\n",
       "      <th>50</th>\n",
       "      <td>2022050500391</td>\n",
       "      <td>314.566238</td>\n",
       "      <td>31.714235</td>\n",
       "      <td>4.987934</td>\n",
       "      <td>-2.008397</td>\n",
       "      <td>5.377094</td>\n",
       "      <td>5.228703</td>\n",
       "      <td>2.867997</td>\n",
       "      <td>4.625129</td>\n",
       "      <td>5.442171</td>\n",
       "      <td>-4.681909</td>\n",
       "      <td>4.595259</td>\n",
       "      <td>6.560234</td>\n",
       "    </tr>\n",
       "    <tr>\n",
       "      <th>44</th>\n",
       "      <td>2022050500379</td>\n",
       "      <td>280.886582</td>\n",
       "      <td>22.697667</td>\n",
       "      <td>4.866877</td>\n",
       "      <td>0.201473</td>\n",
       "      <td>4.871046</td>\n",
       "      <td>4.866291</td>\n",
       "      <td>2.959907</td>\n",
       "      <td>4.028236</td>\n",
       "      <td>4.998773</td>\n",
       "      <td>-5.984877</td>\n",
       "      <td>4.148182</td>\n",
       "      <td>7.281907</td>\n",
       "    </tr>\n",
       "    <tr>\n",
       "      <th>18</th>\n",
       "      <td>2022050500327</td>\n",
       "      <td>123.737360</td>\n",
       "      <td>45.709193</td>\n",
       "      <td>-3.007608</td>\n",
       "      <td>-2.193986</td>\n",
       "      <td>3.722805</td>\n",
       "      <td>3.082544</td>\n",
       "      <td>3.108134</td>\n",
       "      <td>2.189016</td>\n",
       "      <td>3.801617</td>\n",
       "      <td>-4.970914</td>\n",
       "      <td>2.459945</td>\n",
       "      <td>5.546289</td>\n",
       "    </tr>\n",
       "    <tr>\n",
       "      <th>40</th>\n",
       "      <td>2022050500371</td>\n",
       "      <td>247.068671</td>\n",
       "      <td>23.160426</td>\n",
       "      <td>8.281240</td>\n",
       "      <td>0.361856</td>\n",
       "      <td>8.289142</td>\n",
       "      <td>7.140492</td>\n",
       "      <td>3.324648</td>\n",
       "      <td>6.453248</td>\n",
       "      <td>7.259318</td>\n",
       "      <td>-5.263467</td>\n",
       "      <td>6.514107</td>\n",
       "      <td>8.374824</td>\n",
       "    </tr>\n",
       "    <tr>\n",
       "      <th>6</th>\n",
       "      <td>2022050500303</td>\n",
       "      <td>45.076480</td>\n",
       "      <td>53.790429</td>\n",
       "      <td>-0.462833</td>\n",
       "      <td>2.720501</td>\n",
       "      <td>2.759591</td>\n",
       "      <td>2.759516</td>\n",
       "      <td>-3.436656</td>\n",
       "      <td>-1.869375</td>\n",
       "      <td>3.912183</td>\n",
       "      <td>-5.308771</td>\n",
       "      <td>-3.366595</td>\n",
       "      <td>6.286255</td>\n",
       "    </tr>\n",
       "    <tr>\n",
       "      <th>42</th>\n",
       "      <td>2022050500375</td>\n",
       "      <td>269.312853</td>\n",
       "      <td>22.589452</td>\n",
       "      <td>3.876425</td>\n",
       "      <td>1.594432</td>\n",
       "      <td>4.191526</td>\n",
       "      <td>4.116541</td>\n",
       "      <td>3.453263</td>\n",
       "      <td>2.604184</td>\n",
       "      <td>4.325135</td>\n",
       "      <td>-6.921599</td>\n",
       "      <td>3.030713</td>\n",
       "      <td>7.556041</td>\n",
       "    </tr>\n",
       "    <tr>\n",
       "      <th>47</th>\n",
       "      <td>2022050500385</td>\n",
       "      <td>291.825115</td>\n",
       "      <td>25.205977</td>\n",
       "      <td>3.932592</td>\n",
       "      <td>1.051235</td>\n",
       "      <td>4.070673</td>\n",
       "      <td>4.059684</td>\n",
       "      <td>3.504067</td>\n",
       "      <td>2.536076</td>\n",
       "      <td>4.325525</td>\n",
       "      <td>-6.811048</td>\n",
       "      <td>3.022844</td>\n",
       "      <td>7.451709</td>\n",
       "    </tr>\n",
       "    <tr>\n",
       "      <th>33</th>\n",
       "      <td>2022050500357</td>\n",
       "      <td>213.903947</td>\n",
       "      <td>46.330651</td>\n",
       "      <td>5.028415</td>\n",
       "      <td>3.628262</td>\n",
       "      <td>6.200746</td>\n",
       "      <td>4.447155</td>\n",
       "      <td>3.685528</td>\n",
       "      <td>3.647127</td>\n",
       "      <td>5.185042</td>\n",
       "      <td>-4.128752</td>\n",
       "      <td>3.733947</td>\n",
       "      <td>5.566772</td>\n",
       "    </tr>\n",
       "    <tr>\n",
       "      <th>35</th>\n",
       "      <td>2022050500361</td>\n",
       "      <td>224.792358</td>\n",
       "      <td>31.286225</td>\n",
       "      <td>9.103812</td>\n",
       "      <td>2.185296</td>\n",
       "      <td>9.362420</td>\n",
       "      <td>6.037295</td>\n",
       "      <td>3.687853</td>\n",
       "      <td>5.149412</td>\n",
       "      <td>6.333775</td>\n",
       "      <td>-5.024940</td>\n",
       "      <td>5.414994</td>\n",
       "      <td>7.387299</td>\n",
       "    </tr>\n",
       "    <tr>\n",
       "      <th>16</th>\n",
       "      <td>2022050500323</td>\n",
       "      <td>112.558119</td>\n",
       "      <td>23.690015</td>\n",
       "      <td>-2.491268</td>\n",
       "      <td>-4.721948</td>\n",
       "      <td>5.338840</td>\n",
       "      <td>5.188888</td>\n",
       "      <td>3.881719</td>\n",
       "      <td>3.780121</td>\n",
       "      <td>5.418215</td>\n",
       "      <td>-6.763109</td>\n",
       "      <td>4.266397</td>\n",
       "      <td>7.996361</td>\n",
       "    </tr>\n",
       "    <tr>\n",
       "      <th>21</th>\n",
       "      <td>2022050500333</td>\n",
       "      <td>135.974862</td>\n",
       "      <td>79.409419</td>\n",
       "      <td>-3.588474</td>\n",
       "      <td>3.429871</td>\n",
       "      <td>4.963986</td>\n",
       "      <td>4.459210</td>\n",
       "      <td>-4.035501</td>\n",
       "      <td>4.397358</td>\n",
       "      <td>5.968419</td>\n",
       "      <td>-0.564817</td>\n",
       "      <td>-0.597178</td>\n",
       "      <td>0.821973</td>\n",
       "    </tr>\n",
       "    <tr>\n",
       "      <th>34</th>\n",
       "      <td>2022050500359</td>\n",
       "      <td>224.982760</td>\n",
       "      <td>49.326773</td>\n",
       "      <td>5.551627</td>\n",
       "      <td>3.681584</td>\n",
       "      <td>6.661428</td>\n",
       "      <td>5.061375</td>\n",
       "      <td>4.341374</td>\n",
       "      <td>4.196782</td>\n",
       "      <td>6.038254</td>\n",
       "      <td>-3.671093</td>\n",
       "      <td>4.255025</td>\n",
       "      <td>5.619801</td>\n",
       "    </tr>\n",
       "    <tr>\n",
       "      <th>14</th>\n",
       "      <td>2022050500319</td>\n",
       "      <td>101.104986</td>\n",
       "      <td>48.062011</td>\n",
       "      <td>-2.396814</td>\n",
       "      <td>-3.605980</td>\n",
       "      <td>4.329874</td>\n",
       "      <td>4.171593</td>\n",
       "      <td>4.470272</td>\n",
       "      <td>2.911692</td>\n",
       "      <td>5.334912</td>\n",
       "      <td>-4.864356</td>\n",
       "      <td>3.546344</td>\n",
       "      <td>6.019844</td>\n",
       "    </tr>\n",
       "    <tr>\n",
       "      <th>57</th>\n",
       "      <td>2022050500405</td>\n",
       "      <td>337.682849</td>\n",
       "      <td>38.624589</td>\n",
       "      <td>-2.000077</td>\n",
       "      <td>-5.100132</td>\n",
       "      <td>5.478289</td>\n",
       "      <td>5.442770</td>\n",
       "      <td>-4.544616</td>\n",
       "      <td>4.125991</td>\n",
       "      <td>6.138187</td>\n",
       "      <td>0.313556</td>\n",
       "      <td>0.443091</td>\n",
       "      <td>0.542814</td>\n",
       "    </tr>\n",
       "    <tr>\n",
       "      <th>53</th>\n",
       "      <td>2022050500397</td>\n",
       "      <td>336.943834</td>\n",
       "      <td>31.289217</td>\n",
       "      <td>5.677466</td>\n",
       "      <td>-1.836885</td>\n",
       "      <td>5.967224</td>\n",
       "      <td>5.473155</td>\n",
       "      <td>4.791252</td>\n",
       "      <td>3.632806</td>\n",
       "      <td>6.012768</td>\n",
       "      <td>-6.657798</td>\n",
       "      <td>4.601241</td>\n",
       "      <td>8.093065</td>\n",
       "    </tr>\n",
       "    <tr>\n",
       "      <th>48</th>\n",
       "      <td>2022050500387</td>\n",
       "      <td>303.919805</td>\n",
       "      <td>42.963195</td>\n",
       "      <td>5.520847</td>\n",
       "      <td>-0.297594</td>\n",
       "      <td>5.528861</td>\n",
       "      <td>5.528576</td>\n",
       "      <td>4.956769</td>\n",
       "      <td>4.172897</td>\n",
       "      <td>6.479400</td>\n",
       "      <td>-4.844018</td>\n",
       "      <td>4.903381</td>\n",
       "      <td>6.892580</td>\n",
       "    </tr>\n",
       "    <tr>\n",
       "      <th>43</th>\n",
       "      <td>2022050500377</td>\n",
       "      <td>280.956761</td>\n",
       "      <td>39.940693</td>\n",
       "      <td>6.144007</td>\n",
       "      <td>1.024808</td>\n",
       "      <td>6.228889</td>\n",
       "      <td>6.109801</td>\n",
       "      <td>5.082934</td>\n",
       "      <td>4.706068</td>\n",
       "      <td>6.926997</td>\n",
       "      <td>-4.986824</td>\n",
       "      <td>5.487385</td>\n",
       "      <td>7.414837</td>\n",
       "    </tr>\n",
       "    <tr>\n",
       "      <th>15</th>\n",
       "      <td>2022050500321</td>\n",
       "      <td>105.331830</td>\n",
       "      <td>49.367127</td>\n",
       "      <td>-4.865328</td>\n",
       "      <td>-4.321714</td>\n",
       "      <td>6.507582</td>\n",
       "      <td>5.976673</td>\n",
       "      <td>5.370217</td>\n",
       "      <td>4.847024</td>\n",
       "      <td>7.234146</td>\n",
       "      <td>-3.630412</td>\n",
       "      <td>5.189689</td>\n",
       "      <td>6.333464</td>\n",
       "    </tr>\n",
       "    <tr>\n",
       "      <th>39</th>\n",
       "      <td>2022050500369</td>\n",
       "      <td>248.066460</td>\n",
       "      <td>70.793510</td>\n",
       "      <td>7.544032</td>\n",
       "      <td>2.897354</td>\n",
       "      <td>8.081280</td>\n",
       "      <td>6.790045</td>\n",
       "      <td>5.441895</td>\n",
       "      <td>6.550221</td>\n",
       "      <td>8.515845</td>\n",
       "      <td>0.602396</td>\n",
       "      <td>3.178889</td>\n",
       "      <td>3.235463</td>\n",
       "    </tr>\n",
       "    <tr>\n",
       "      <th>55</th>\n",
       "      <td>2022050500401</td>\n",
       "      <td>348.711635</td>\n",
       "      <td>41.616598</td>\n",
       "      <td>4.845960</td>\n",
       "      <td>-2.498416</td>\n",
       "      <td>5.452102</td>\n",
       "      <td>5.254261</td>\n",
       "      <td>5.486707</td>\n",
       "      <td>3.284420</td>\n",
       "      <td>6.394636</td>\n",
       "      <td>-5.938911</td>\n",
       "      <td>4.551680</td>\n",
       "      <td>7.482543</td>\n",
       "    </tr>\n",
       "    <tr>\n",
       "      <th>52</th>\n",
       "      <td>2022050500395</td>\n",
       "      <td>326.514949</td>\n",
       "      <td>43.141126</td>\n",
       "      <td>5.415982</td>\n",
       "      <td>-0.847114</td>\n",
       "      <td>5.481831</td>\n",
       "      <td>5.392060</td>\n",
       "      <td>5.813122</td>\n",
       "      <td>3.329921</td>\n",
       "      <td>6.699310</td>\n",
       "      <td>-5.862849</td>\n",
       "      <td>4.704096</td>\n",
       "      <td>7.516749</td>\n",
       "    </tr>\n",
       "    <tr>\n",
       "      <th>29</th>\n",
       "      <td>2022050500349</td>\n",
       "      <td>191.312332</td>\n",
       "      <td>48.613921</td>\n",
       "      <td>-1.734292</td>\n",
       "      <td>8.016290</td>\n",
       "      <td>8.201748</td>\n",
       "      <td>8.038956</td>\n",
       "      <td>6.665701</td>\n",
       "      <td>6.723503</td>\n",
       "      <td>9.467685</td>\n",
       "      <td>-2.877406</td>\n",
       "      <td>7.124714</td>\n",
       "      <td>7.683815</td>\n",
       "    </tr>\n",
       "    <tr>\n",
       "      <th>56</th>\n",
       "      <td>2022050500403</td>\n",
       "      <td>338.234163</td>\n",
       "      <td>38.780612</td>\n",
       "      <td>5.008662</td>\n",
       "      <td>3.179764</td>\n",
       "      <td>5.932756</td>\n",
       "      <td>5.724037</td>\n",
       "      <td>7.126332</td>\n",
       "      <td>-1.381737</td>\n",
       "      <td>7.259050</td>\n",
       "      <td>-10.230876</td>\n",
       "      <td>1.754361</td>\n",
       "      <td>10.380203</td>\n",
       "    </tr>\n",
       "    <tr>\n",
       "      <th>10</th>\n",
       "      <td>2022050500311</td>\n",
       "      <td>66.209921</td>\n",
       "      <td>69.679867</td>\n",
       "      <td>-1.270809</td>\n",
       "      <td>-4.315006</td>\n",
       "      <td>4.498248</td>\n",
       "      <td>4.476273</td>\n",
       "      <td>8.645937</td>\n",
       "      <td>3.320502</td>\n",
       "      <td>9.261639</td>\n",
       "      <td>-2.992400</td>\n",
       "      <td>3.366579</td>\n",
       "      <td>4.504255</td>\n",
       "    </tr>\n",
       "    <tr>\n",
       "      <th>54</th>\n",
       "      <td>2022050500399</td>\n",
       "      <td>337.414728</td>\n",
       "      <td>63.397338</td>\n",
       "      <td>5.074800</td>\n",
       "      <td>-1.942987</td>\n",
       "      <td>5.434041</td>\n",
       "      <td>5.414116</td>\n",
       "      <td>9.183672</td>\n",
       "      <td>3.522261</td>\n",
       "      <td>9.835962</td>\n",
       "      <td>-3.763370</td>\n",
       "      <td>4.643097</td>\n",
       "      <td>5.976730</td>\n",
       "    </tr>\n",
       "    <tr>\n",
       "      <th>5</th>\n",
       "      <td>2022050500301</td>\n",
       "      <td>44.676145</td>\n",
       "      <td>24.868847</td>\n",
       "      <td>-7.321805</td>\n",
       "      <td>6.205670</td>\n",
       "      <td>9.597873</td>\n",
       "      <td>9.254411</td>\n",
       "      <td>-10.196078</td>\n",
       "      <td>-0.287885</td>\n",
       "      <td>10.200141</td>\n",
       "      <td>3.269333</td>\n",
       "      <td>-4.728122</td>\n",
       "      <td>5.748363</td>\n",
       "    </tr>\n",
       "    <tr>\n",
       "      <th>51</th>\n",
       "      <td>2022050500393</td>\n",
       "      <td>315.217488</td>\n",
       "      <td>60.439507</td>\n",
       "      <td>7.539719</td>\n",
       "      <td>-0.390505</td>\n",
       "      <td>7.549824</td>\n",
       "      <td>7.481547</td>\n",
       "      <td>11.448767</td>\n",
       "      <td>4.907452</td>\n",
       "      <td>12.456218</td>\n",
       "      <td>-3.577835</td>\n",
       "      <td>6.718118</td>\n",
       "      <td>7.611439</td>\n",
       "    </tr>\n",
       "    <tr>\n",
       "      <th>17</th>\n",
       "      <td>2022050500325</td>\n",
       "      <td>112.391513</td>\n",
       "      <td>63.231309</td>\n",
       "      <td>-10.591615</td>\n",
       "      <td>-4.624986</td>\n",
       "      <td>11.557370</td>\n",
       "      <td>9.679765</td>\n",
       "      <td>11.803323</td>\n",
       "      <td>8.089987</td>\n",
       "      <td>14.309658</td>\n",
       "      <td>-0.202181</td>\n",
       "      <td>7.770914</td>\n",
       "      <td>7.773544</td>\n",
       "    </tr>\n",
       "    <tr>\n",
       "      <th>41</th>\n",
       "      <td>2022050500373</td>\n",
       "      <td>258.777083</td>\n",
       "      <td>40.244401</td>\n",
       "      <td>6.244885</td>\n",
       "      <td>7.793618</td>\n",
       "      <td>9.986945</td>\n",
       "      <td>9.576376</td>\n",
       "      <td>11.957101</td>\n",
       "      <td>2.901228</td>\n",
       "      <td>12.304040</td>\n",
       "      <td>-10.096698</td>\n",
       "      <td>7.499736</td>\n",
       "      <td>12.577335</td>\n",
       "    </tr>\n",
       "    <tr>\n",
       "      <th>45</th>\n",
       "      <td>2022050500381</td>\n",
       "      <td>285.345545</td>\n",
       "      <td>60.706209</td>\n",
       "      <td>7.658781</td>\n",
       "      <td>3.067999</td>\n",
       "      <td>8.250427</td>\n",
       "      <td>7.862291</td>\n",
       "      <td>12.489762</td>\n",
       "      <td>4.947827</td>\n",
       "      <td>13.434104</td>\n",
       "      <td>-3.699424</td>\n",
       "      <td>7.127556</td>\n",
       "      <td>8.030429</td>\n",
       "    </tr>\n",
       "    <tr>\n",
       "      <th>32</th>\n",
       "      <td>2022050500355</td>\n",
       "      <td>202.791182</td>\n",
       "      <td>69.103860</td>\n",
       "      <td>-2.792064</td>\n",
       "      <td>7.375403</td>\n",
       "      <td>7.886202</td>\n",
       "      <td>7.600262</td>\n",
       "      <td>14.934522</td>\n",
       "      <td>5.421821</td>\n",
       "      <td>15.888238</td>\n",
       "      <td>-1.776460</td>\n",
       "      <td>6.249202</td>\n",
       "      <td>6.496795</td>\n",
       "    </tr>\n",
       "    <tr>\n",
       "      <th>36</th>\n",
       "      <td>2022050500363</td>\n",
       "      <td>231.835503</td>\n",
       "      <td>85.092223</td>\n",
       "      <td>1.521341</td>\n",
       "      <td>-1.128200</td>\n",
       "      <td>1.894020</td>\n",
       "      <td>1.702050</td>\n",
       "      <td>-19.414051</td>\n",
       "      <td>0.372516</td>\n",
       "      <td>19.417624</td>\n",
       "      <td>-4.576579</td>\n",
       "      <td>-2.264159</td>\n",
       "      <td>5.106025</td>\n",
       "    </tr>\n",
       "    <tr>\n",
       "      <th>46</th>\n",
       "      <td>2022050500383</td>\n",
       "      <td>292.994008</td>\n",
       "      <td>70.209752</td>\n",
       "      <td>8.261196</td>\n",
       "      <td>4.356445</td>\n",
       "      <td>9.339484</td>\n",
       "      <td>8.857538</td>\n",
       "      <td>22.860015</td>\n",
       "      <td>4.308778</td>\n",
       "      <td>23.262542</td>\n",
       "      <td>-3.612716</td>\n",
       "      <td>8.121975</td>\n",
       "      <td>8.889218</td>\n",
       "    </tr>\n",
       "    <tr>\n",
       "      <th>49</th>\n",
       "      <td>2022050500389</td>\n",
       "      <td>312.790852</td>\n",
       "      <td>75.017040</td>\n",
       "      <td>8.097714</td>\n",
       "      <td>1.343157</td>\n",
       "      <td>8.208352</td>\n",
       "      <td>7.751671</td>\n",
       "      <td>25.319994</td>\n",
       "      <td>4.153409</td>\n",
       "      <td>25.658388</td>\n",
       "      <td>-2.780211</td>\n",
       "      <td>6.797500</td>\n",
       "      <td>7.344085</td>\n",
       "    </tr>\n",
       "    <tr>\n",
       "      <th>7</th>\n",
       "      <td>2022050500305</td>\n",
       "      <td>44.959548</td>\n",
       "      <td>83.034205</td>\n",
       "      <td>3.286379</td>\n",
       "      <td>-1.772305</td>\n",
       "      <td>3.733812</td>\n",
       "      <td>3.463695</td>\n",
       "      <td>27.981575</td>\n",
       "      <td>-0.694749</td>\n",
       "      <td>27.990199</td>\n",
       "      <td>-6.219566</td>\n",
       "      <td>2.628537</td>\n",
       "      <td>6.752200</td>\n",
       "    </tr>\n",
       "  </tbody>\n",
       "</table>\n",
       "</div>"
      ],
      "text/plain": [
       "        exposures     azimuth  elevation   delta_ra  delta_dec  delta_radec  \\\n",
       "27  2022050500345  168.988813  44.612376  -8.365193   3.567831     9.094277   \n",
       "3   2022050500297   22.060721  34.071047   0.047650   0.351771     0.354983   \n",
       "26  2022050500343  165.907079  55.753308  -6.155589   5.149607     8.025568   \n",
       "23  2022050500337  146.523217  45.134147  -8.419289   1.129827     8.494759   \n",
       "28  2022050500347  180.001043  22.350285  -3.405263  -3.755830     5.069722   \n",
       "31  2022050500353  202.690739  24.220611  12.376116  -1.099117    12.424826   \n",
       "1   2022050500293   15.158964  48.174643   0.410797  -0.275286     0.494507   \n",
       "25  2022050500341  158.042124  35.514080 -16.339279   0.348964    16.343005   \n",
       "2   2022050500295   20.651709  72.184971   0.562895   0.626087     0.841923   \n",
       "22  2022050500335  146.395244  24.843422  -8.253755  -2.690820     8.681301   \n",
       "20  2022050500331  135.635393  48.803296  -6.472646  -0.082590     6.473172   \n",
       "24  2022050500339  158.635081  71.888068  -2.250392   3.961763     4.556296   \n",
       "12  2022050500315   78.662947  39.958962  -0.350013  -1.543418     1.582608   \n",
       "37  2022050500365  236.523965  37.181991   9.510435   0.157469     9.511738   \n",
       "4   2022050500299   33.457881  44.241117  -1.445941   0.354606     1.488789   \n",
       "38  2022050500367  236.228932  25.211925   8.736130  -0.240514     8.739440   \n",
       "19  2022050500329  134.851281  29.170560  -6.735123  -2.930618     7.345094   \n",
       "0   2022050500291  359.056448  29.612477  -2.182202  -1.487810     2.641133   \n",
       "13  2022050500317   89.630963  25.452120  -0.512759  -2.531798     2.583200   \n",
       "9   2022050500309   67.241002  33.572339  -3.717024  -0.156551     3.720319   \n",
       "30  2022050500351  194.729357  50.272350   3.417727   4.989377     6.047706   \n",
       "8   2022050500307   55.877435  35.730455  -3.550586  -0.246383     3.559125   \n",
       "11  2022050500313   74.872215  57.334566   0.768488  -1.331737     1.537562   \n",
       "50  2022050500391  314.566238  31.714235   4.987934  -2.008397     5.377094   \n",
       "44  2022050500379  280.886582  22.697667   4.866877   0.201473     4.871046   \n",
       "18  2022050500327  123.737360  45.709193  -3.007608  -2.193986     3.722805   \n",
       "40  2022050500371  247.068671  23.160426   8.281240   0.361856     8.289142   \n",
       "6   2022050500303   45.076480  53.790429  -0.462833   2.720501     2.759591   \n",
       "42  2022050500375  269.312853  22.589452   3.876425   1.594432     4.191526   \n",
       "47  2022050500385  291.825115  25.205977   3.932592   1.051235     4.070673   \n",
       "33  2022050500357  213.903947  46.330651   5.028415   3.628262     6.200746   \n",
       "35  2022050500361  224.792358  31.286225   9.103812   2.185296     9.362420   \n",
       "16  2022050500323  112.558119  23.690015  -2.491268  -4.721948     5.338840   \n",
       "21  2022050500333  135.974862  79.409419  -3.588474   3.429871     4.963986   \n",
       "34  2022050500359  224.982760  49.326773   5.551627   3.681584     6.661428   \n",
       "14  2022050500319  101.104986  48.062011  -2.396814  -3.605980     4.329874   \n",
       "57  2022050500405  337.682849  38.624589  -2.000077  -5.100132     5.478289   \n",
       "53  2022050500397  336.943834  31.289217   5.677466  -1.836885     5.967224   \n",
       "48  2022050500387  303.919805  42.963195   5.520847  -0.297594     5.528861   \n",
       "43  2022050500377  280.956761  39.940693   6.144007   1.024808     6.228889   \n",
       "15  2022050500321  105.331830  49.367127  -4.865328  -4.321714     6.507582   \n",
       "39  2022050500369  248.066460  70.793510   7.544032   2.897354     8.081280   \n",
       "55  2022050500401  348.711635  41.616598   4.845960  -2.498416     5.452102   \n",
       "52  2022050500395  326.514949  43.141126   5.415982  -0.847114     5.481831   \n",
       "29  2022050500349  191.312332  48.613921  -1.734292   8.016290     8.201748   \n",
       "56  2022050500403  338.234163  38.780612   5.008662   3.179764     5.932756   \n",
       "10  2022050500311   66.209921  69.679867  -1.270809  -4.315006     4.498248   \n",
       "54  2022050500399  337.414728  63.397338   5.074800  -1.942987     5.434041   \n",
       "5   2022050500301   44.676145  24.868847  -7.321805   6.205670     9.597873   \n",
       "51  2022050500393  315.217488  60.439507   7.539719  -0.390505     7.549824   \n",
       "17  2022050500325  112.391513  63.231309 -10.591615  -4.624986    11.557370   \n",
       "41  2022050500373  258.777083  40.244401   6.244885   7.793618     9.986945   \n",
       "45  2022050500381  285.345545  60.706209   7.658781   3.067999     8.250427   \n",
       "32  2022050500355  202.791182  69.103860  -2.792064   7.375403     7.886202   \n",
       "36  2022050500363  231.835503  85.092223   1.521341  -1.128200     1.894020   \n",
       "46  2022050500383  292.994008  70.209752   8.261196   4.356445     9.339484   \n",
       "49  2022050500389  312.790852  75.017040   8.097714   1.343157     8.208352   \n",
       "7   2022050500305   44.959548  83.034205   3.286379  -1.772305     3.733812   \n",
       "\n",
       "    pointing_distance_radec   delta_az  delta_el  delta_azel  \\\n",
       "27                 4.318472  -0.067274  4.318191    4.318715   \n",
       "3                  0.354514  -0.098856 -0.344962    0.358847   \n",
       "26                 5.882405   0.291279  5.880213    5.887423   \n",
       "23                 4.383778   0.344208  4.377063    4.390576   \n",
       "28                 3.784121  -0.458718  3.760109    3.787986   \n",
       "31                 4.553321   0.648403  4.514625    4.560950   \n",
       "1                  0.488795   0.684034  0.175752    0.706251   \n",
       "25                 5.396391   0.718289  5.364533    5.412408   \n",
       "2                  0.831861   1.062722 -0.765765    1.309876   \n",
       "22                 4.952444   1.428199  4.779710    4.988524   \n",
       "20                 4.015360   1.435608  3.902504    4.158186   \n",
       "24                 4.251988  -1.468907  4.227581    4.475503   \n",
       "12                 1.581192   1.512609  1.075258    1.855846   \n",
       "37                 6.936100   1.522245  6.829363    6.996958   \n",
       "4                  1.469099  -1.982233  0.376807    2.017729   \n",
       "38                 6.644814   2.154254  6.352554    6.707888   \n",
       "19                 5.157971   2.176565  4.794998    5.265875   \n",
       "0                  2.401941  -2.200068  1.453264    2.636717   \n",
       "13                 2.580965   2.220238  1.625648    2.751761   \n",
       "9                  3.720311  -2.546346  3.056352    3.978086   \n",
       "30                 5.164011   2.654542  4.877401    5.552984   \n",
       "8                  3.540868  -2.807868  2.710009    3.902341   \n",
       "11                 1.520146   2.816655  0.004256    2.816658   \n",
       "50                 5.228703   2.867997  4.625129    5.442171   \n",
       "44                 4.866291   2.959907  4.028236    4.998773   \n",
       "18                 3.082544   3.108134  2.189016    3.801617   \n",
       "40                 7.140492   3.324648  6.453248    7.259318   \n",
       "6                  2.759516  -3.436656 -1.869375    3.912183   \n",
       "42                 4.116541   3.453263  2.604184    4.325135   \n",
       "47                 4.059684   3.504067  2.536076    4.325525   \n",
       "33                 4.447155   3.685528  3.647127    5.185042   \n",
       "35                 6.037295   3.687853  5.149412    6.333775   \n",
       "16                 5.188888   3.881719  3.780121    5.418215   \n",
       "21                 4.459210  -4.035501  4.397358    5.968419   \n",
       "34                 5.061375   4.341374  4.196782    6.038254   \n",
       "14                 4.171593   4.470272  2.911692    5.334912   \n",
       "57                 5.442770  -4.544616  4.125991    6.138187   \n",
       "53                 5.473155   4.791252  3.632806    6.012768   \n",
       "48                 5.528576   4.956769  4.172897    6.479400   \n",
       "43                 6.109801   5.082934  4.706068    6.926997   \n",
       "15                 5.976673   5.370217  4.847024    7.234146   \n",
       "39                 6.790045   5.441895  6.550221    8.515845   \n",
       "55                 5.254261   5.486707  3.284420    6.394636   \n",
       "52                 5.392060   5.813122  3.329921    6.699310   \n",
       "29                 8.038956   6.665701  6.723503    9.467685   \n",
       "56                 5.724037   7.126332 -1.381737    7.259050   \n",
       "10                 4.476273   8.645937  3.320502    9.261639   \n",
       "54                 5.414116   9.183672  3.522261    9.835962   \n",
       "5                  9.254411 -10.196078 -0.287885   10.200141   \n",
       "51                 7.481547  11.448767  4.907452   12.456218   \n",
       "17                 9.679765  11.803323  8.089987   14.309658   \n",
       "41                 9.576376  11.957101  2.901228   12.304040   \n",
       "45                 7.862291  12.489762  4.947827   13.434104   \n",
       "32                 7.600262  14.934522  5.421821   15.888238   \n",
       "36                 1.702050 -19.414051  0.372516   19.417624   \n",
       "46                 8.857538  22.860015  4.308778   23.262542   \n",
       "49                 7.751671  25.319994  4.153409   25.658388   \n",
       "7                  3.463695  27.981575 -0.694749   27.990199   \n",
       "\n",
       "    delta_x [pixels]  delta_y [pixels]  delta_xy [pixels]  \n",
       "27         -1.950630          2.411715           3.101826  \n",
       "3          -5.146613         -0.954501           5.234377  \n",
       "26         -0.242495          2.804222           2.814688  \n",
       "23         -2.083189          2.628976           3.354279  \n",
       "28         -3.153578          2.667486           4.130440  \n",
       "31         -3.697989          3.733814           5.255139  \n",
       "1          -5.200326         -0.166235           5.202982  \n",
       "25         -2.355621          4.068345           4.701105  \n",
       "2          -5.853166         -0.559158           5.879814  \n",
       "22         -4.168690          4.255827           5.957352  \n",
       "20         -2.704356          2.655507           3.790153  \n",
       "24         -0.855997          0.219176           0.883611  \n",
       "12         -5.228224          0.945844           5.313092  \n",
       "37         -1.832915          5.536195           5.831727  \n",
       "4          -3.739163         -1.334673           3.970226  \n",
       "38         -4.063352          5.952710           7.207328  \n",
       "19         -4.334536          4.489463           6.240471  \n",
       "0          -2.645981         -0.282791           2.661050  \n",
       "13         -6.140969          1.704482           6.373128  \n",
       "9          -1.572013          0.765441           1.748463  \n",
       "30         -2.354328          3.798256           4.468737  \n",
       "8          -1.597583          0.271317           1.620458  \n",
       "11         -5.847064          0.655792           5.883725  \n",
       "50         -4.681909          4.595259           6.560234  \n",
       "44         -5.984877          4.148182           7.281907  \n",
       "18         -4.970914          2.459945           5.546289  \n",
       "40         -5.263467          6.514107           8.374824  \n",
       "6          -5.308771         -3.366595           6.286255  \n",
       "42         -6.921599          3.030713           7.556041  \n",
       "47         -6.811048          3.022844           7.451709  \n",
       "33         -4.128752          3.733947           5.566772  \n",
       "35         -5.024940          5.414994           7.387299  \n",
       "16         -6.763109          4.266397           7.996361  \n",
       "21         -0.564817         -0.597178           0.821973  \n",
       "34         -3.671093          4.255025           5.619801  \n",
       "14         -4.864356          3.546344           6.019844  \n",
       "57          0.313556          0.443091           0.542814  \n",
       "53         -6.657798          4.601241           8.093065  \n",
       "48         -4.844018          4.903381           6.892580  \n",
       "43         -4.986824          5.487385           7.414837  \n",
       "15         -3.630412          5.189689           6.333464  \n",
       "39          0.602396          3.178889           3.235463  \n",
       "55         -5.938911          4.551680           7.482543  \n",
       "52         -5.862849          4.704096           7.516749  \n",
       "29         -2.877406          7.124714           7.683815  \n",
       "56        -10.230876          1.754361          10.380203  \n",
       "10         -2.992400          3.366579           4.504255  \n",
       "54         -3.763370          4.643097           5.976730  \n",
       "5           3.269333         -4.728122           5.748363  \n",
       "51         -3.577835          6.718118           7.611439  \n",
       "17         -0.202181          7.770914           7.773544  \n",
       "41        -10.096698          7.499736          12.577335  \n",
       "45         -3.699424          7.127556           8.030429  \n",
       "32         -1.776460          6.249202           6.496795  \n",
       "36         -4.576579         -2.264159           5.106025  \n",
       "46         -3.612716          8.121975           8.889218  \n",
       "49         -2.780211          6.797500           7.344085  \n",
       "7          -6.219566          2.628537           6.752200  "
      ]
     },
     "execution_count": 37,
     "metadata": {},
     "output_type": "execute_result"
    }
   ],
   "source": [
    "df.iloc[df.delta_az.abs().argsort()]"
   ]
  },
  {
   "cell_type": "code",
   "execution_count": 81,
   "id": "0406f601-7363-49eb-a868-7d9dc5aaa85f",
   "metadata": {},
   "outputs": [
    {
     "data": {
      "image/png": "[encoded data removed]",
      "text/plain": [
       "<Figure size 1152x576 with 1 Axes>"
      ]
     },
     "metadata": {
      "needs_background": "light"
     },
     "output_type": "display_data"
    }
   ],
   "source": [
    "%matplotlib inline\n",
    "fig = plt.figure(figsize=(16,8))\n",
    "plt.scatter(df['azimuth'], df['delta_el']*np.cos(df['azimuth'].to_numpy()*180/np.pi))\n",
    "#plt.title('2022 April 7th Pointing', fontsize = 16)\n",
    "plt.ylabel('delta EL [deg]',fontsize=12)\n",
    "plt.xlabel('Azimuth [deg]',fontsize=12)\n",
    "plt.show()"
   ]
  },
  {
   "cell_type": "code",
   "execution_count": 36,
   "id": "1587a61b-c421-4f23-aaa0-cf6d190a7d41",
   "metadata": {},
   "outputs": [
    {
     "data": {
      "text/plain": [
       "11.43627863561008"
      ]
     },
     "execution_count": 36,
     "metadata": {},
     "output_type": "execute_result"
    }
   ],
   "source": [
    "np.sqrt(((df['pointing_origin']**2).sum())/len(df))"
   ]
  },
  {
   "cell_type": "code",
   "execution_count": 38,
   "id": "d4f1a100-382a-4d7b-8f1a-47403c8c5bc5",
   "metadata": {},
   "outputs": [
    {
     "ename": "KeyError",
     "evalue": "'pointing_origin'",
     "output_type": "error",
     "traceback": [
      "\u001b[0;31m---------------------------------------------------------------------------\u001b[0m",
      "\u001b[0;31mKeyError\u001b[0m                                  Traceback (most recent call last)",
      "File \u001b[0;32m/opt/lsst/software/stack/conda/miniconda3-py38_4.9.2/envs/lsst-scipipe-3.0.0/lib/python3.8/site-packages/pandas/core/indexes/base.py:3621\u001b[0m, in \u001b[0;36mIndex.get_loc\u001b[0;34m(self, key, method, tolerance)\u001b[0m\n\u001b[1;32m   3620\u001b[0m \u001b[38;5;28;01mtry\u001b[39;00m:\n\u001b[0;32m-> 3621\u001b[0m     \u001b[38;5;28;01mreturn\u001b[39;00m \u001b[38;5;28;43mself\u001b[39;49m\u001b[38;5;241;43m.\u001b[39;49m\u001b[43m_engine\u001b[49m\u001b[38;5;241;43m.\u001b[39;49m\u001b[43mget_loc\u001b[49m\u001b[43m(\u001b[49m\u001b[43mcasted_key\u001b[49m\u001b[43m)\u001b[49m\n\u001b[1;32m   3622\u001b[0m \u001b[38;5;28;01mexcept\u001b[39;00m \u001b[38;5;167;01mKeyError\u001b[39;00m \u001b[38;5;28;01mas\u001b[39;00m err:\n",
      "File \u001b[0;32m/opt/lsst/software/stack/conda/miniconda3-py38_4.9.2/envs/lsst-scipipe-3.0.0/lib/python3.8/site-packages/pandas/_libs/index.pyx:136\u001b[0m, in \u001b[0;36mpandas._libs.index.IndexEngine.get_loc\u001b[0;34m()\u001b[0m\n",
      "File \u001b[0;32m/opt/lsst/software/stack/conda/miniconda3-py38_4.9.2/envs/lsst-scipipe-3.0.0/lib/python3.8/site-packages/pandas/_libs/index.pyx:163\u001b[0m, in \u001b[0;36mpandas._libs.index.IndexEngine.get_loc\u001b[0;34m()\u001b[0m\n",
      "File \u001b[0;32mpandas/_libs/hashtable_class_helper.pxi:5198\u001b[0m, in \u001b[0;36mpandas._libs.hashtable.PyObjectHashTable.get_item\u001b[0;34m()\u001b[0m\n",
      "File \u001b[0;32mpandas/_libs/hashtable_class_helper.pxi:5206\u001b[0m, in \u001b[0;36mpandas._libs.hashtable.PyObjectHashTable.get_item\u001b[0;34m()\u001b[0m\n",
      "\u001b[0;31mKeyError\u001b[0m: 'pointing_origin'",
      "\nThe above exception was the direct cause of the following exception:\n",
      "\u001b[0;31mKeyError\u001b[0m                                  Traceback (most recent call last)",
      "Input \u001b[0;32mIn [38]\u001b[0m, in \u001b[0;36m<cell line: 4>\u001b[0;34m()\u001b[0m\n\u001b[1;32m      1\u001b[0m \u001b[38;5;66;03m# Calculate the relative pointing difference between origin and target position or pointing accuracy after each slew. \u001b[39;00m\n\u001b[1;32m      2\u001b[0m \u001b[38;5;28mlen\u001b[39m(df)\n\u001b[0;32m----> 4\u001b[0m (df[\u001b[43mdf\u001b[49m\u001b[43m[\u001b[49m\u001b[38;5;124;43m'\u001b[39;49m\u001b[38;5;124;43mpointing_origin\u001b[39;49m\u001b[38;5;124;43m'\u001b[39;49m\u001b[43m]\u001b[49m\u001b[38;5;241m>\u001b[39m\u001b[38;5;241m10\u001b[39m])\n",
      "File \u001b[0;32m/opt/lsst/software/stack/conda/miniconda3-py38_4.9.2/envs/lsst-scipipe-3.0.0/lib/python3.8/site-packages/pandas/core/frame.py:3505\u001b[0m, in \u001b[0;36mDataFrame.__getitem__\u001b[0;34m(self, key)\u001b[0m\n\u001b[1;32m   3503\u001b[0m \u001b[38;5;28;01mif\u001b[39;00m \u001b[38;5;28mself\u001b[39m\u001b[38;5;241m.\u001b[39mcolumns\u001b[38;5;241m.\u001b[39mnlevels \u001b[38;5;241m>\u001b[39m \u001b[38;5;241m1\u001b[39m:\n\u001b[1;32m   3504\u001b[0m     \u001b[38;5;28;01mreturn\u001b[39;00m \u001b[38;5;28mself\u001b[39m\u001b[38;5;241m.\u001b[39m_getitem_multilevel(key)\n\u001b[0;32m-> 3505\u001b[0m indexer \u001b[38;5;241m=\u001b[39m \u001b[38;5;28;43mself\u001b[39;49m\u001b[38;5;241;43m.\u001b[39;49m\u001b[43mcolumns\u001b[49m\u001b[38;5;241;43m.\u001b[39;49m\u001b[43mget_loc\u001b[49m\u001b[43m(\u001b[49m\u001b[43mkey\u001b[49m\u001b[43m)\u001b[49m\n\u001b[1;32m   3506\u001b[0m \u001b[38;5;28;01mif\u001b[39;00m is_integer(indexer):\n\u001b[1;32m   3507\u001b[0m     indexer \u001b[38;5;241m=\u001b[39m [indexer]\n",
      "File \u001b[0;32m/opt/lsst/software/stack/conda/miniconda3-py38_4.9.2/envs/lsst-scipipe-3.0.0/lib/python3.8/site-packages/pandas/core/indexes/base.py:3623\u001b[0m, in \u001b[0;36mIndex.get_loc\u001b[0;34m(self, key, method, tolerance)\u001b[0m\n\u001b[1;32m   3621\u001b[0m     \u001b[38;5;28;01mreturn\u001b[39;00m \u001b[38;5;28mself\u001b[39m\u001b[38;5;241m.\u001b[39m_engine\u001b[38;5;241m.\u001b[39mget_loc(casted_key)\n\u001b[1;32m   3622\u001b[0m \u001b[38;5;28;01mexcept\u001b[39;00m \u001b[38;5;167;01mKeyError\u001b[39;00m \u001b[38;5;28;01mas\u001b[39;00m err:\n\u001b[0;32m-> 3623\u001b[0m     \u001b[38;5;28;01mraise\u001b[39;00m \u001b[38;5;167;01mKeyError\u001b[39;00m(key) \u001b[38;5;28;01mfrom\u001b[39;00m \u001b[38;5;21;01merr\u001b[39;00m\n\u001b[1;32m   3624\u001b[0m \u001b[38;5;28;01mexcept\u001b[39;00m \u001b[38;5;167;01mTypeError\u001b[39;00m:\n\u001b[1;32m   3625\u001b[0m     \u001b[38;5;66;03m# If we have a listlike key, _check_indexing_error will raise\u001b[39;00m\n\u001b[1;32m   3626\u001b[0m     \u001b[38;5;66;03m#  InvalidIndexError. Otherwise we fall through and re-raise\u001b[39;00m\n\u001b[1;32m   3627\u001b[0m     \u001b[38;5;66;03m#  the TypeError.\u001b[39;00m\n\u001b[1;32m   3628\u001b[0m     \u001b[38;5;28mself\u001b[39m\u001b[38;5;241m.\u001b[39m_check_indexing_error(key)\n",
      "\u001b[0;31mKeyError\u001b[0m: 'pointing_origin'"
     ]
    }
   ],
   "source": [
    "# Calculate the relative pointing difference between origin and target position or pointing accuracy after each slew. \n",
    "len(df)\n",
    "\n",
    "(df[df['pointing_origin']>10]) "
   ]
  },
  {
   "cell_type": "markdown",
   "id": "8fba8659-bd28-4134-bda0-93816af395b9",
   "metadata": {},
   "source": [
    "***"
   ]
  },
  {
   "cell_type": "code",
   "execution_count": 21,
   "id": "b0922226-951f-4876-9a0e-61b0d66a5b0e",
   "metadata": {},
   "outputs": [
    {
     "name": "stdout",
     "output_type": "stream",
     "text": [
      "The pointing accuracy RMS for the analyzed large slew and settle tests is 30.34 arcsec\n"
     ]
    }
   ],
   "source": [
    "# Calculate pointing accuracy RMS. \n",
    "rms = np.sqrt(((df['Relative_pointing[arcsec]']**2).sum())/len(df))\n",
    "print(f'The pointing accuracy RMS for the analyzed large slew and settle tests is {rms:0.2f} arcsec')"
   ]
  },
  {
   "cell_type": "markdown",
   "id": "f5c8f2f4-06eb-4828-8879-76cce823cd1b",
   "metadata": {},
   "source": [
    "# WCS sky origin - boresight. "
   ]
  },
  {
   "cell_type": "code",
   "execution_count": 48,
   "id": "90c61c03-1024-4f11-ae71-6faf2700d18f",
   "metadata": {},
   "outputs": [],
   "source": [
    "def calculate_xy_offsets(exp):\n",
    "    pixel_scale = 0.09569  # arcsec/pixel\n",
    "    #boresight_position = PointD(2036.5, 2000.5)\n",
    "    boresight_position = PointD(2088.5, 2006.5)\n",
    "\n",
    "    \"\"\"Returns x/y offset in arcseconds from an exp based on current centroid\n",
    "    and desired position (which is the boresight position in pixels)\"\"\"\n",
    "\n",
    "    #Measure Centroids\n",
    "    result = qm.run(exp)\n",
    "    centroids = PointD(result.brightestObjCentroid[0], result.brightestObjCentroid[1])\n",
    "\n",
    "\n",
    "    dx_arcsec, dy_arcsec = pixel_scale * (\n",
    "        centroids - boresight_position\n",
    "    )\n",
    "\n",
    "    dr_arcsec = np.sqrt(dx_arcsec**2 + dy_arcsec**2)\n",
    "\n",
    "    return dx_arcsec, dy_arcsec, dr_arcsec"
   ]
  },
  {
   "cell_type": "code",
   "execution_count": 49,
   "id": "edf3cf1e-6ad0-42b4-9e96-f05bdad426ee",
   "metadata": {},
   "outputs": [],
   "source": [
    "def get_azel(exp):\n",
    "    info = exp.getInfo()\n",
    "    vi = info.getVisitInfo()\n",
    "    \n",
    "    azAlt = vi.getBoresightAzAlt()\n",
    "    az = azAlt[0].asDegrees()\n",
    "    el = azAlt[1].asDegrees()\n",
    "    \n",
    "    return az, el"
   ]
  },
  {
   "cell_type": "code",
   "execution_count": 50,
   "id": "2179a627-573a-4bce-bf9b-7cae4084fc78",
   "metadata": {},
   "outputs": [],
   "source": [
    "#exposures = [2022040700159, 2022040700312]\n",
    "exposures = [2022040700159, 2022040700163]"
   ]
  },
  {
   "cell_type": "code",
   "execution_count": null,
   "id": "02bf45e4-0832-4cfb-b0e8-b312fd15f7cb",
   "metadata": {},
   "outputs": [],
   "source": []
  },
  {
   "cell_type": "code",
   "execution_count": 50,
   "id": "229947db-463f-4235-a5a0-2b49cf1b0881",
   "metadata": {
    "collapsed": true,
    "jupyter": {
     "outputs_hidden": true
    },
    "tags": []
   },
   "outputs": [
    {
     "name": "stdout",
     "output_type": "stream",
     "text": [
      "2022040700159\n"
     ]
    },
    {
     "data": {
      "text/html": [
       "<pre style=\"margin: 0.1em;\n",
       "padding-left: 0.25em;\n",
       "border-left-style: solid;\n",
       "font-family: var(--jp-code-font-family);\n",
       "font-size: var(--jp-code-font-size);\n",
       "line-height: var(--jp-code-line-height);\n",
       "\"><span style=\"color: var(--jp-warn-color2)\">lsst.summit.utils.bestEffort</span> <span style=\"color: var(--jp-info-color0)\">INFO</span>: Found a ready-made quickLookExp in the repo. Returning that.</pre>"
      ],
      "text/plain": [
       "<IPython.core.display.HTML object>"
      ]
     },
     "metadata": {},
     "output_type": "display_data"
    },
    {
     "name": "stderr",
     "output_type": "stream",
     "text": [
      "/opt/lsst/software/stack/stack/miniconda3-py38_4.9.2-3.0.0/Linux64/meas_algorithms/gf36ae6ace1+1d7ae49801/python/lsst/meas/algorithms/installGaussianPsf.py:77: FutureWarning: Default position argument overload is deprecated and will be removed in version 24.0.  Please explicitly specify a position.\n",
      "  psfSigma = psfModel.computeShape().getDeterminantRadius()\n",
      "/opt/lsst/software/stack/stack/miniconda3-py38_4.9.2-3.0.0/Linux64/meas_algorithms/gf36ae6ace1+1d7ae49801/python/lsst/meas/algorithms/installGaussianPsf.py:78: FutureWarning: Default position argument overload is deprecated and will be removed in version 24.0.  Please explicitly specify a position.\n",
      "  width, height = psfModel.computeImage().getDimensions()\n"
     ]
    },
    {
     "data": {
      "text/html": [
       "<pre style=\"margin: 0.1em;\n",
       "padding-left: 0.25em;\n",
       "border-left-style: solid;\n",
       "font-family: var(--jp-code-font-family);\n",
       "font-size: var(--jp-code-font-size);\n",
       "line-height: var(--jp-code-line-height);\n",
       "\"><span style=\"color: var(--jp-warn-color2)\">lsst.quickFrameMeasurementTask</span> <span style=\"color: var(--jp-info-color0)\">INFO</span>: Found 8 sources in exposure</pre>"
      ],
      "text/plain": [
       "<IPython.core.display.HTML object>"
      ]
     },
     "metadata": {},
     "output_type": "display_data"
    },
    {
     "data": {
      "text/html": [
       "<pre style=\"margin: 0.1em;\n",
       "padding-left: 0.25em;\n",
       "border-left-style: solid;\n",
       "font-family: var(--jp-code-font-family);\n",
       "font-size: var(--jp-code-font-size);\n",
       "line-height: var(--jp-code-line-height);\n",
       "\"><span style=\"color: var(--jp-warn-color2)\">lsst.quickFrameMeasurementTask</span> <span style=\"color: var(--jp-info-color0)\">INFO</span>: Measured 8 of 8 sources in exposure</pre>"
      ],
      "text/plain": [
       "<IPython.core.display.HTML object>"
      ]
     },
     "metadata": {},
     "output_type": "display_data"
    },
    {
     "name": "stdout",
     "output_type": "stream",
     "text": [
      "2022040700161\n"
     ]
    },
    {
     "data": {
      "text/html": [
       "<pre style=\"margin: 0.1em;\n",
       "padding-left: 0.25em;\n",
       "border-left-style: solid;\n",
       "font-family: var(--jp-code-font-family);\n",
       "font-size: var(--jp-code-font-size);\n",
       "line-height: var(--jp-code-line-height);\n",
       "\"><span style=\"color: var(--jp-warn-color2)\">lsst.summit.utils.bestEffort</span> <span style=\"color: var(--jp-info-color0)\">INFO</span>: Found a ready-made quickLookExp in the repo. Returning that.</pre>"
      ],
      "text/plain": [
       "<IPython.core.display.HTML object>"
      ]
     },
     "metadata": {},
     "output_type": "display_data"
    },
    {
     "data": {
      "text/html": [
       "<pre style=\"margin: 0.1em;\n",
       "padding-left: 0.25em;\n",
       "border-left-style: solid;\n",
       "font-family: var(--jp-code-font-family);\n",
       "font-size: var(--jp-code-font-size);\n",
       "line-height: var(--jp-code-line-height);\n",
       "\"><span style=\"color: var(--jp-warn-color2)\">lsst.quickFrameMeasurementTask</span> <span style=\"color: var(--jp-info-color0)\">INFO</span>: Found 4 sources in exposure</pre>"
      ],
      "text/plain": [
       "<IPython.core.display.HTML object>"
      ]
     },
     "metadata": {},
     "output_type": "display_data"
    },
    {
     "data": {
      "text/html": [
       "<pre style=\"margin: 0.1em;\n",
       "padding-left: 0.25em;\n",
       "border-left-style: solid;\n",
       "font-family: var(--jp-code-font-family);\n",
       "font-size: var(--jp-code-font-size);\n",
       "line-height: var(--jp-code-line-height);\n",
       "\"><span style=\"color: var(--jp-warn-color2)\">lsst.quickFrameMeasurementTask</span> <span style=\"color: var(--jp-info-color0)\">INFO</span>: Measured 4 of 4 sources in exposure</pre>"
      ],
      "text/plain": [
       "<IPython.core.display.HTML object>"
      ]
     },
     "metadata": {},
     "output_type": "display_data"
    },
    {
     "name": "stdout",
     "output_type": "stream",
     "text": [
      "2022040700163\n"
     ]
    },
    {
     "data": {
      "text/html": [
       "<pre style=\"margin: 0.1em;\n",
       "padding-left: 0.25em;\n",
       "border-left-style: solid;\n",
       "font-family: var(--jp-code-font-family);\n",
       "font-size: var(--jp-code-font-size);\n",
       "line-height: var(--jp-code-line-height);\n",
       "\"><span style=\"color: var(--jp-warn-color2)\">lsst.summit.utils.bestEffort</span> <span style=\"color: var(--jp-info-color0)\">INFO</span>: Found a ready-made quickLookExp in the repo. Returning that.</pre>"
      ],
      "text/plain": [
       "<IPython.core.display.HTML object>"
      ]
     },
     "metadata": {},
     "output_type": "display_data"
    },
    {
     "data": {
      "text/html": [
       "<pre style=\"margin: 0.1em;\n",
       "padding-left: 0.25em;\n",
       "border-left-style: solid;\n",
       "font-family: var(--jp-code-font-family);\n",
       "font-size: var(--jp-code-font-size);\n",
       "line-height: var(--jp-code-line-height);\n",
       "\"><span style=\"color: var(--jp-warn-color2)\">lsst.quickFrameMeasurementTask</span> <span style=\"color: var(--jp-info-color0)\">INFO</span>: Found 10 sources in exposure</pre>"
      ],
      "text/plain": [
       "<IPython.core.display.HTML object>"
      ]
     },
     "metadata": {},
     "output_type": "display_data"
    },
    {
     "data": {
      "text/html": [
       "<pre style=\"margin: 0.1em;\n",
       "padding-left: 0.25em;\n",
       "border-left-style: solid;\n",
       "font-family: var(--jp-code-font-family);\n",
       "font-size: var(--jp-code-font-size);\n",
       "line-height: var(--jp-code-line-height);\n",
       "\"><span style=\"color: var(--jp-warn-color2)\">lsst.quickFrameMeasurementTask</span> <span style=\"color: var(--jp-info-color0)\">INFO</span>: Measured 10 of 10 sources in exposure</pre>"
      ],
      "text/plain": [
       "<IPython.core.display.HTML object>"
      ]
     },
     "metadata": {},
     "output_type": "display_data"
    },
    {
     "name": "stdout",
     "output_type": "stream",
     "text": [
      "2022040700165\n"
     ]
    },
    {
     "data": {
      "text/html": [
       "<pre style=\"margin: 0.1em;\n",
       "padding-left: 0.25em;\n",
       "border-left-style: solid;\n",
       "font-family: var(--jp-code-font-family);\n",
       "font-size: var(--jp-code-font-size);\n",
       "line-height: var(--jp-code-line-height);\n",
       "\"><span style=\"color: var(--jp-warn-color2)\">lsst.summit.utils.bestEffort</span> <span style=\"color: var(--jp-info-color0)\">INFO</span>: Found a ready-made quickLookExp in the repo. Returning that.</pre>"
      ],
      "text/plain": [
       "<IPython.core.display.HTML object>"
      ]
     },
     "metadata": {},
     "output_type": "display_data"
    },
    {
     "data": {
      "text/html": [
       "<pre style=\"margin: 0.1em;\n",
       "padding-left: 0.25em;\n",
       "border-left-style: solid;\n",
       "font-family: var(--jp-code-font-family);\n",
       "font-size: var(--jp-code-font-size);\n",
       "line-height: var(--jp-code-line-height);\n",
       "\"><span style=\"color: var(--jp-warn-color2)\">lsst.quickFrameMeasurementTask</span> <span style=\"color: var(--jp-info-color0)\">INFO</span>: Found 6 sources in exposure</pre>"
      ],
      "text/plain": [
       "<IPython.core.display.HTML object>"
      ]
     },
     "metadata": {},
     "output_type": "display_data"
    },
    {
     "data": {
      "text/html": [
       "<pre style=\"margin: 0.1em;\n",
       "padding-left: 0.25em;\n",
       "border-left-style: solid;\n",
       "font-family: var(--jp-code-font-family);\n",
       "font-size: var(--jp-code-font-size);\n",
       "line-height: var(--jp-code-line-height);\n",
       "\"><span style=\"color: var(--jp-warn-color2)\">lsst.quickFrameMeasurementTask</span> <span style=\"color: var(--jp-info-color0)\">INFO</span>: Measured 6 of 6 sources in exposure</pre>"
      ],
      "text/plain": [
       "<IPython.core.display.HTML object>"
      ]
     },
     "metadata": {},
     "output_type": "display_data"
    },
    {
     "name": "stdout",
     "output_type": "stream",
     "text": [
      "2022040700167\n"
     ]
    },
    {
     "data": {
      "text/html": [
       "<pre style=\"margin: 0.1em;\n",
       "padding-left: 0.25em;\n",
       "border-left-style: solid;\n",
       "font-family: var(--jp-code-font-family);\n",
       "font-size: var(--jp-code-font-size);\n",
       "line-height: var(--jp-code-line-height);\n",
       "\"><span style=\"color: var(--jp-warn-color2)\">lsst.summit.utils.bestEffort</span> <span style=\"color: var(--jp-info-color0)\">INFO</span>: Found a ready-made quickLookExp in the repo. Returning that.</pre>"
      ],
      "text/plain": [
       "<IPython.core.display.HTML object>"
      ]
     },
     "metadata": {},
     "output_type": "display_data"
    },
    {
     "data": {
      "text/html": [
       "<pre style=\"margin: 0.1em;\n",
       "padding-left: 0.25em;\n",
       "border-left-style: solid;\n",
       "font-family: var(--jp-code-font-family);\n",
       "font-size: var(--jp-code-font-size);\n",
       "line-height: var(--jp-code-line-height);\n",
       "\"><span style=\"color: var(--jp-warn-color2)\">lsst.quickFrameMeasurementTask</span> <span style=\"color: var(--jp-info-color0)\">INFO</span>: Found 8 sources in exposure</pre>"
      ],
      "text/plain": [
       "<IPython.core.display.HTML object>"
      ]
     },
     "metadata": {},
     "output_type": "display_data"
    },
    {
     "data": {
      "text/html": [
       "<pre style=\"margin: 0.1em;\n",
       "padding-left: 0.25em;\n",
       "border-left-style: solid;\n",
       "font-family: var(--jp-code-font-family);\n",
       "font-size: var(--jp-code-font-size);\n",
       "line-height: var(--jp-code-line-height);\n",
       "\"><span style=\"color: var(--jp-warn-color2)\">lsst.quickFrameMeasurementTask</span> <span style=\"color: var(--jp-info-color0)\">INFO</span>: Measured 8 of 8 sources in exposure</pre>"
      ],
      "text/plain": [
       "<IPython.core.display.HTML object>"
      ]
     },
     "metadata": {},
     "output_type": "display_data"
    },
    {
     "name": "stdout",
     "output_type": "stream",
     "text": [
      "2022040700169\n"
     ]
    },
    {
     "data": {
      "text/html": [
       "<pre style=\"margin: 0.1em;\n",
       "padding-left: 0.25em;\n",
       "border-left-style: solid;\n",
       "font-family: var(--jp-code-font-family);\n",
       "font-size: var(--jp-code-font-size);\n",
       "line-height: var(--jp-code-line-height);\n",
       "\"><span style=\"color: var(--jp-warn-color2)\">lsst.summit.utils.bestEffort</span> <span style=\"color: var(--jp-info-color0)\">INFO</span>: Found a ready-made quickLookExp in the repo. Returning that.</pre>"
      ],
      "text/plain": [
       "<IPython.core.display.HTML object>"
      ]
     },
     "metadata": {},
     "output_type": "display_data"
    },
    {
     "data": {
      "text/html": [
       "<pre style=\"margin: 0.1em;\n",
       "padding-left: 0.25em;\n",
       "border-left-style: solid;\n",
       "font-family: var(--jp-code-font-family);\n",
       "font-size: var(--jp-code-font-size);\n",
       "line-height: var(--jp-code-line-height);\n",
       "\"><span style=\"color: var(--jp-warn-color2)\">lsst.quickFrameMeasurementTask</span> <span style=\"color: var(--jp-info-color0)\">INFO</span>: Found 9 sources in exposure</pre>"
      ],
      "text/plain": [
       "<IPython.core.display.HTML object>"
      ]
     },
     "metadata": {},
     "output_type": "display_data"
    },
    {
     "data": {
      "text/html": [
       "<pre style=\"margin: 0.1em;\n",
       "padding-left: 0.25em;\n",
       "border-left-style: solid;\n",
       "font-family: var(--jp-code-font-family);\n",
       "font-size: var(--jp-code-font-size);\n",
       "line-height: var(--jp-code-line-height);\n",
       "\"><span style=\"color: var(--jp-warn-color2)\">lsst.quickFrameMeasurementTask</span> <span style=\"color: var(--jp-info-color0)\">INFO</span>: Measured 9 of 9 sources in exposure</pre>"
      ],
      "text/plain": [
       "<IPython.core.display.HTML object>"
      ]
     },
     "metadata": {},
     "output_type": "display_data"
    },
    {
     "name": "stdout",
     "output_type": "stream",
     "text": [
      "2022040700171\n"
     ]
    },
    {
     "data": {
      "text/html": [
       "<pre style=\"margin: 0.1em;\n",
       "padding-left: 0.25em;\n",
       "border-left-style: solid;\n",
       "font-family: var(--jp-code-font-family);\n",
       "font-size: var(--jp-code-font-size);\n",
       "line-height: var(--jp-code-line-height);\n",
       "\"><span style=\"color: var(--jp-warn-color2)\">lsst.summit.utils.bestEffort</span> <span style=\"color: var(--jp-info-color0)\">INFO</span>: Found a ready-made quickLookExp in the repo. Returning that.</pre>"
      ],
      "text/plain": [
       "<IPython.core.display.HTML object>"
      ]
     },
     "metadata": {},
     "output_type": "display_data"
    },
    {
     "data": {
      "text/html": [
       "<pre style=\"margin: 0.1em;\n",
       "padding-left: 0.25em;\n",
       "border-left-style: solid;\n",
       "font-family: var(--jp-code-font-family);\n",
       "font-size: var(--jp-code-font-size);\n",
       "line-height: var(--jp-code-line-height);\n",
       "\"><span style=\"color: var(--jp-warn-color2)\">lsst.quickFrameMeasurementTask</span> <span style=\"color: var(--jp-info-color0)\">INFO</span>: Found 3 sources in exposure</pre>"
      ],
      "text/plain": [
       "<IPython.core.display.HTML object>"
      ]
     },
     "metadata": {},
     "output_type": "display_data"
    },
    {
     "data": {
      "text/html": [
       "<pre style=\"margin: 0.1em;\n",
       "padding-left: 0.25em;\n",
       "border-left-style: solid;\n",
       "font-family: var(--jp-code-font-family);\n",
       "font-size: var(--jp-code-font-size);\n",
       "line-height: var(--jp-code-line-height);\n",
       "\"><span style=\"color: var(--jp-warn-color2)\">lsst.quickFrameMeasurementTask</span> <span style=\"color: var(--jp-info-color0)\">INFO</span>: Measured 3 of 3 sources in exposure</pre>"
      ],
      "text/plain": [
       "<IPython.core.display.HTML object>"
      ]
     },
     "metadata": {},
     "output_type": "display_data"
    },
    {
     "name": "stdout",
     "output_type": "stream",
     "text": [
      "2022040700173\n"
     ]
    },
    {
     "data": {
      "text/html": [
       "<pre style=\"margin: 0.1em;\n",
       "padding-left: 0.25em;\n",
       "border-left-style: solid;\n",
       "font-family: var(--jp-code-font-family);\n",
       "font-size: var(--jp-code-font-size);\n",
       "line-height: var(--jp-code-line-height);\n",
       "\"><span style=\"color: var(--jp-warn-color2)\">lsst.summit.utils.bestEffort</span> <span style=\"color: var(--jp-info-color0)\">INFO</span>: Found a ready-made quickLookExp in the repo. Returning that.</pre>"
      ],
      "text/plain": [
       "<IPython.core.display.HTML object>"
      ]
     },
     "metadata": {},
     "output_type": "display_data"
    },
    {
     "data": {
      "text/html": [
       "<pre style=\"margin: 0.1em;\n",
       "padding-left: 0.25em;\n",
       "border-left-style: solid;\n",
       "font-family: var(--jp-code-font-family);\n",
       "font-size: var(--jp-code-font-size);\n",
       "line-height: var(--jp-code-line-height);\n",
       "\"><span style=\"color: var(--jp-warn-color2)\">lsst.quickFrameMeasurementTask</span> <span style=\"color: var(--jp-info-color0)\">INFO</span>: Found 9 sources in exposure</pre>"
      ],
      "text/plain": [
       "<IPython.core.display.HTML object>"
      ]
     },
     "metadata": {},
     "output_type": "display_data"
    },
    {
     "data": {
      "text/html": [
       "<pre style=\"margin: 0.1em;\n",
       "padding-left: 0.25em;\n",
       "border-left-style: solid;\n",
       "font-family: var(--jp-code-font-family);\n",
       "font-size: var(--jp-code-font-size);\n",
       "line-height: var(--jp-code-line-height);\n",
       "\"><span style=\"color: var(--jp-warn-color2)\">lsst.quickFrameMeasurementTask</span> <span style=\"color: var(--jp-info-color0)\">INFO</span>: Measured 9 of 9 sources in exposure</pre>"
      ],
      "text/plain": [
       "<IPython.core.display.HTML object>"
      ]
     },
     "metadata": {},
     "output_type": "display_data"
    },
    {
     "name": "stdout",
     "output_type": "stream",
     "text": [
      "2022040700175\n"
     ]
    },
    {
     "data": {
      "text/html": [
       "<pre style=\"margin: 0.1em;\n",
       "padding-left: 0.25em;\n",
       "border-left-style: solid;\n",
       "font-family: var(--jp-code-font-family);\n",
       "font-size: var(--jp-code-font-size);\n",
       "line-height: var(--jp-code-line-height);\n",
       "\"><span style=\"color: var(--jp-warn-color2)\">lsst.summit.utils.bestEffort</span> <span style=\"color: var(--jp-info-color0)\">INFO</span>: Found a ready-made quickLookExp in the repo. Returning that.</pre>"
      ],
      "text/plain": [
       "<IPython.core.display.HTML object>"
      ]
     },
     "metadata": {},
     "output_type": "display_data"
    },
    {
     "data": {
      "text/html": [
       "<pre style=\"margin: 0.1em;\n",
       "padding-left: 0.25em;\n",
       "border-left-style: solid;\n",
       "font-family: var(--jp-code-font-family);\n",
       "font-size: var(--jp-code-font-size);\n",
       "line-height: var(--jp-code-line-height);\n",
       "\"><span style=\"color: var(--jp-warn-color2)\">lsst.quickFrameMeasurementTask</span> <span style=\"color: var(--jp-info-color0)\">INFO</span>: Found 4 sources in exposure</pre>"
      ],
      "text/plain": [
       "<IPython.core.display.HTML object>"
      ]
     },
     "metadata": {},
     "output_type": "display_data"
    },
    {
     "data": {
      "text/html": [
       "<pre style=\"margin: 0.1em;\n",
       "padding-left: 0.25em;\n",
       "border-left-style: solid;\n",
       "font-family: var(--jp-code-font-family);\n",
       "font-size: var(--jp-code-font-size);\n",
       "line-height: var(--jp-code-line-height);\n",
       "\"><span style=\"color: var(--jp-warn-color2)\">lsst.quickFrameMeasurementTask</span> <span style=\"color: var(--jp-info-color0)\">INFO</span>: Measured 4 of 4 sources in exposure</pre>"
      ],
      "text/plain": [
       "<IPython.core.display.HTML object>"
      ]
     },
     "metadata": {},
     "output_type": "display_data"
    },
    {
     "name": "stdout",
     "output_type": "stream",
     "text": [
      "2022040700177\n"
     ]
    },
    {
     "data": {
      "text/html": [
       "<pre style=\"margin: 0.1em;\n",
       "padding-left: 0.25em;\n",
       "border-left-style: solid;\n",
       "font-family: var(--jp-code-font-family);\n",
       "font-size: var(--jp-code-font-size);\n",
       "line-height: var(--jp-code-line-height);\n",
       "\"><span style=\"color: var(--jp-warn-color2)\">lsst.summit.utils.bestEffort</span> <span style=\"color: var(--jp-info-color0)\">INFO</span>: Found a ready-made quickLookExp in the repo. Returning that.</pre>"
      ],
      "text/plain": [
       "<IPython.core.display.HTML object>"
      ]
     },
     "metadata": {},
     "output_type": "display_data"
    },
    {
     "data": {
      "text/html": [
       "<pre style=\"margin: 0.1em;\n",
       "padding-left: 0.25em;\n",
       "border-left-style: solid;\n",
       "font-family: var(--jp-code-font-family);\n",
       "font-size: var(--jp-code-font-size);\n",
       "line-height: var(--jp-code-line-height);\n",
       "\"><span style=\"color: var(--jp-warn-color2)\">lsst.quickFrameMeasurementTask</span> <span style=\"color: var(--jp-info-color0)\">INFO</span>: Found 3 sources in exposure</pre>"
      ],
      "text/plain": [
       "<IPython.core.display.HTML object>"
      ]
     },
     "metadata": {},
     "output_type": "display_data"
    },
    {
     "data": {
      "text/html": [
       "<pre style=\"margin: 0.1em;\n",
       "padding-left: 0.25em;\n",
       "border-left-style: solid;\n",
       "font-family: var(--jp-code-font-family);\n",
       "font-size: var(--jp-code-font-size);\n",
       "line-height: var(--jp-code-line-height);\n",
       "\"><span style=\"color: var(--jp-warn-color2)\">lsst.quickFrameMeasurementTask</span> <span style=\"color: var(--jp-info-color0)\">INFO</span>: Measured 3 of 3 sources in exposure</pre>"
      ],
      "text/plain": [
       "<IPython.core.display.HTML object>"
      ]
     },
     "metadata": {},
     "output_type": "display_data"
    },
    {
     "name": "stdout",
     "output_type": "stream",
     "text": [
      "2022040700179\n"
     ]
    },
    {
     "data": {
      "text/html": [
       "<pre style=\"margin: 0.1em;\n",
       "padding-left: 0.25em;\n",
       "border-left-style: solid;\n",
       "font-family: var(--jp-code-font-family);\n",
       "font-size: var(--jp-code-font-size);\n",
       "line-height: var(--jp-code-line-height);\n",
       "\"><span style=\"color: var(--jp-warn-color2)\">lsst.summit.utils.bestEffort</span> <span style=\"color: var(--jp-info-color0)\">INFO</span>: Found a ready-made quickLookExp in the repo. Returning that.</pre>"
      ],
      "text/plain": [
       "<IPython.core.display.HTML object>"
      ]
     },
     "metadata": {},
     "output_type": "display_data"
    },
    {
     "data": {
      "text/html": [
       "<pre style=\"margin: 0.1em;\n",
       "padding-left: 0.25em;\n",
       "border-left-style: solid;\n",
       "font-family: var(--jp-code-font-family);\n",
       "font-size: var(--jp-code-font-size);\n",
       "line-height: var(--jp-code-line-height);\n",
       "\"><span style=\"color: var(--jp-warn-color2)\">lsst.quickFrameMeasurementTask</span> <span style=\"color: var(--jp-info-color0)\">INFO</span>: Found 4 sources in exposure</pre>"
      ],
      "text/plain": [
       "<IPython.core.display.HTML object>"
      ]
     },
     "metadata": {},
     "output_type": "display_data"
    },
    {
     "data": {
      "text/html": [
       "<pre style=\"margin: 0.1em;\n",
       "padding-left: 0.25em;\n",
       "border-left-style: solid;\n",
       "font-family: var(--jp-code-font-family);\n",
       "font-size: var(--jp-code-font-size);\n",
       "line-height: var(--jp-code-line-height);\n",
       "\"><span style=\"color: var(--jp-warn-color2)\">lsst.quickFrameMeasurementTask</span> <span style=\"color: var(--jp-info-color0)\">INFO</span>: Measured 4 of 4 sources in exposure</pre>"
      ],
      "text/plain": [
       "<IPython.core.display.HTML object>"
      ]
     },
     "metadata": {},
     "output_type": "display_data"
    },
    {
     "name": "stdout",
     "output_type": "stream",
     "text": [
      "2022040700181\n"
     ]
    },
    {
     "data": {
      "text/html": [
       "<pre style=\"margin: 0.1em;\n",
       "padding-left: 0.25em;\n",
       "border-left-style: solid;\n",
       "font-family: var(--jp-code-font-family);\n",
       "font-size: var(--jp-code-font-size);\n",
       "line-height: var(--jp-code-line-height);\n",
       "\"><span style=\"color: var(--jp-warn-color2)\">lsst.summit.utils.bestEffort</span> <span style=\"color: var(--jp-info-color0)\">INFO</span>: Found a ready-made quickLookExp in the repo. Returning that.</pre>"
      ],
      "text/plain": [
       "<IPython.core.display.HTML object>"
      ]
     },
     "metadata": {},
     "output_type": "display_data"
    },
    {
     "data": {
      "text/html": [
       "<pre style=\"margin: 0.1em;\n",
       "padding-left: 0.25em;\n",
       "border-left-style: solid;\n",
       "font-family: var(--jp-code-font-family);\n",
       "font-size: var(--jp-code-font-size);\n",
       "line-height: var(--jp-code-line-height);\n",
       "\"><span style=\"color: var(--jp-warn-color2)\">lsst.quickFrameMeasurementTask</span> <span style=\"color: var(--jp-info-color0)\">INFO</span>: Found 5 sources in exposure</pre>"
      ],
      "text/plain": [
       "<IPython.core.display.HTML object>"
      ]
     },
     "metadata": {},
     "output_type": "display_data"
    },
    {
     "data": {
      "text/html": [
       "<pre style=\"margin: 0.1em;\n",
       "padding-left: 0.25em;\n",
       "border-left-style: solid;\n",
       "font-family: var(--jp-code-font-family);\n",
       "font-size: var(--jp-code-font-size);\n",
       "line-height: var(--jp-code-line-height);\n",
       "\"><span style=\"color: var(--jp-warn-color2)\">lsst.quickFrameMeasurementTask</span> <span style=\"color: var(--jp-info-color0)\">INFO</span>: Measured 5 of 5 sources in exposure</pre>"
      ],
      "text/plain": [
       "<IPython.core.display.HTML object>"
      ]
     },
     "metadata": {},
     "output_type": "display_data"
    },
    {
     "name": "stdout",
     "output_type": "stream",
     "text": [
      "2022040700183\n"
     ]
    },
    {
     "data": {
      "text/html": [
       "<pre style=\"margin: 0.1em;\n",
       "padding-left: 0.25em;\n",
       "border-left-style: solid;\n",
       "font-family: var(--jp-code-font-family);\n",
       "font-size: var(--jp-code-font-size);\n",
       "line-height: var(--jp-code-line-height);\n",
       "\"><span style=\"color: var(--jp-warn-color2)\">lsst.summit.utils.bestEffort</span> <span style=\"color: var(--jp-info-color0)\">INFO</span>: Found a ready-made quickLookExp in the repo. Returning that.</pre>"
      ],
      "text/plain": [
       "<IPython.core.display.HTML object>"
      ]
     },
     "metadata": {},
     "output_type": "display_data"
    },
    {
     "data": {
      "text/html": [
       "<pre style=\"margin: 0.1em;\n",
       "padding-left: 0.25em;\n",
       "border-left-style: solid;\n",
       "font-family: var(--jp-code-font-family);\n",
       "font-size: var(--jp-code-font-size);\n",
       "line-height: var(--jp-code-line-height);\n",
       "\"><span style=\"color: var(--jp-warn-color2)\">lsst.quickFrameMeasurementTask</span> <span style=\"color: var(--jp-info-color0)\">INFO</span>: Found 10 sources in exposure</pre>"
      ],
      "text/plain": [
       "<IPython.core.display.HTML object>"
      ]
     },
     "metadata": {},
     "output_type": "display_data"
    },
    {
     "data": {
      "text/html": [
       "<pre style=\"margin: 0.1em;\n",
       "padding-left: 0.25em;\n",
       "border-left-style: solid;\n",
       "font-family: var(--jp-code-font-family);\n",
       "font-size: var(--jp-code-font-size);\n",
       "line-height: var(--jp-code-line-height);\n",
       "\"><span style=\"color: var(--jp-warn-color2)\">lsst.quickFrameMeasurementTask</span> <span style=\"color: var(--jp-info-color0)\">INFO</span>: Measured 10 of 10 sources in exposure</pre>"
      ],
      "text/plain": [
       "<IPython.core.display.HTML object>"
      ]
     },
     "metadata": {},
     "output_type": "display_data"
    },
    {
     "name": "stdout",
     "output_type": "stream",
     "text": [
      "2022040700185\n"
     ]
    },
    {
     "data": {
      "text/html": [
       "<pre style=\"margin: 0.1em;\n",
       "padding-left: 0.25em;\n",
       "border-left-style: solid;\n",
       "font-family: var(--jp-code-font-family);\n",
       "font-size: var(--jp-code-font-size);\n",
       "line-height: var(--jp-code-line-height);\n",
       "\"><span style=\"color: var(--jp-warn-color2)\">lsst.summit.utils.bestEffort</span> <span style=\"color: var(--jp-info-color0)\">INFO</span>: Found a ready-made quickLookExp in the repo. Returning that.</pre>"
      ],
      "text/plain": [
       "<IPython.core.display.HTML object>"
      ]
     },
     "metadata": {},
     "output_type": "display_data"
    },
    {
     "data": {
      "text/html": [
       "<pre style=\"margin: 0.1em;\n",
       "padding-left: 0.25em;\n",
       "border-left-style: solid;\n",
       "font-family: var(--jp-code-font-family);\n",
       "font-size: var(--jp-code-font-size);\n",
       "line-height: var(--jp-code-line-height);\n",
       "\"><span style=\"color: var(--jp-warn-color2)\">lsst.quickFrameMeasurementTask</span> <span style=\"color: var(--jp-info-color0)\">INFO</span>: Found 10 sources in exposure</pre>"
      ],
      "text/plain": [
       "<IPython.core.display.HTML object>"
      ]
     },
     "metadata": {},
     "output_type": "display_data"
    },
    {
     "data": {
      "text/html": [
       "<pre style=\"margin: 0.1em;\n",
       "padding-left: 0.25em;\n",
       "border-left-style: solid;\n",
       "font-family: var(--jp-code-font-family);\n",
       "font-size: var(--jp-code-font-size);\n",
       "line-height: var(--jp-code-line-height);\n",
       "\"><span style=\"color: var(--jp-warn-color2)\">lsst.quickFrameMeasurementTask</span> <span style=\"color: var(--jp-info-color0)\">INFO</span>: Measured 10 of 10 sources in exposure</pre>"
      ],
      "text/plain": [
       "<IPython.core.display.HTML object>"
      ]
     },
     "metadata": {},
     "output_type": "display_data"
    },
    {
     "name": "stdout",
     "output_type": "stream",
     "text": [
      "2022040700187\n"
     ]
    },
    {
     "data": {
      "text/html": [
       "<pre style=\"margin: 0.1em;\n",
       "padding-left: 0.25em;\n",
       "border-left-style: solid;\n",
       "font-family: var(--jp-code-font-family);\n",
       "font-size: var(--jp-code-font-size);\n",
       "line-height: var(--jp-code-line-height);\n",
       "\"><span style=\"color: var(--jp-warn-color2)\">lsst.summit.utils.bestEffort</span> <span style=\"color: var(--jp-info-color0)\">INFO</span>: Found a ready-made quickLookExp in the repo. Returning that.</pre>"
      ],
      "text/plain": [
       "<IPython.core.display.HTML object>"
      ]
     },
     "metadata": {},
     "output_type": "display_data"
    },
    {
     "data": {
      "text/html": [
       "<pre style=\"margin: 0.1em;\n",
       "padding-left: 0.25em;\n",
       "border-left-style: solid;\n",
       "font-family: var(--jp-code-font-family);\n",
       "font-size: var(--jp-code-font-size);\n",
       "line-height: var(--jp-code-line-height);\n",
       "\"><span style=\"color: var(--jp-warn-color2)\">lsst.quickFrameMeasurementTask</span> <span style=\"color: var(--jp-info-color0)\">INFO</span>: Found 15 sources in exposure</pre>"
      ],
      "text/plain": [
       "<IPython.core.display.HTML object>"
      ]
     },
     "metadata": {},
     "output_type": "display_data"
    },
    {
     "data": {
      "text/html": [
       "<pre style=\"margin: 0.1em;\n",
       "padding-left: 0.25em;\n",
       "border-left-style: solid;\n",
       "font-family: var(--jp-code-font-family);\n",
       "font-size: var(--jp-code-font-size);\n",
       "line-height: var(--jp-code-line-height);\n",
       "\"><span style=\"color: var(--jp-warn-color2)\">lsst.quickFrameMeasurementTask</span> <span style=\"color: var(--jp-info-color0)\">INFO</span>: Measured 15 of 15 sources in exposure</pre>"
      ],
      "text/plain": [
       "<IPython.core.display.HTML object>"
      ]
     },
     "metadata": {},
     "output_type": "display_data"
    },
    {
     "name": "stdout",
     "output_type": "stream",
     "text": [
      "2022040700189\n"
     ]
    },
    {
     "data": {
      "text/html": [
       "<pre style=\"margin: 0.1em;\n",
       "padding-left: 0.25em;\n",
       "border-left-style: solid;\n",
       "font-family: var(--jp-code-font-family);\n",
       "font-size: var(--jp-code-font-size);\n",
       "line-height: var(--jp-code-line-height);\n",
       "\"><span style=\"color: var(--jp-warn-color2)\">lsst.summit.utils.bestEffort</span> <span style=\"color: var(--jp-info-color0)\">INFO</span>: Found a ready-made quickLookExp in the repo. Returning that.</pre>"
      ],
      "text/plain": [
       "<IPython.core.display.HTML object>"
      ]
     },
     "metadata": {},
     "output_type": "display_data"
    },
    {
     "data": {
      "text/html": [
       "<pre style=\"margin: 0.1em;\n",
       "padding-left: 0.25em;\n",
       "border-left-style: solid;\n",
       "font-family: var(--jp-code-font-family);\n",
       "font-size: var(--jp-code-font-size);\n",
       "line-height: var(--jp-code-line-height);\n",
       "\"><span style=\"color: var(--jp-warn-color2)\">lsst.quickFrameMeasurementTask</span> <span style=\"color: var(--jp-info-color0)\">INFO</span>: Found 10 sources in exposure</pre>"
      ],
      "text/plain": [
       "<IPython.core.display.HTML object>"
      ]
     },
     "metadata": {},
     "output_type": "display_data"
    },
    {
     "data": {
      "text/html": [
       "<pre style=\"margin: 0.1em;\n",
       "padding-left: 0.25em;\n",
       "border-left-style: solid;\n",
       "font-family: var(--jp-code-font-family);\n",
       "font-size: var(--jp-code-font-size);\n",
       "line-height: var(--jp-code-line-height);\n",
       "\"><span style=\"color: var(--jp-warn-color2)\">lsst.quickFrameMeasurementTask</span> <span style=\"color: var(--jp-info-color0)\">INFO</span>: Measured 10 of 10 sources in exposure</pre>"
      ],
      "text/plain": [
       "<IPython.core.display.HTML object>"
      ]
     },
     "metadata": {},
     "output_type": "display_data"
    },
    {
     "name": "stdout",
     "output_type": "stream",
     "text": [
      "2022040700191\n"
     ]
    },
    {
     "data": {
      "text/html": [
       "<pre style=\"margin: 0.1em;\n",
       "padding-left: 0.25em;\n",
       "border-left-style: solid;\n",
       "font-family: var(--jp-code-font-family);\n",
       "font-size: var(--jp-code-font-size);\n",
       "line-height: var(--jp-code-line-height);\n",
       "\"><span style=\"color: var(--jp-warn-color2)\">lsst.summit.utils.bestEffort</span> <span style=\"color: var(--jp-info-color0)\">INFO</span>: Found a ready-made quickLookExp in the repo. Returning that.</pre>"
      ],
      "text/plain": [
       "<IPython.core.display.HTML object>"
      ]
     },
     "metadata": {},
     "output_type": "display_data"
    },
    {
     "data": {
      "text/html": [
       "<pre style=\"margin: 0.1em;\n",
       "padding-left: 0.25em;\n",
       "border-left-style: solid;\n",
       "font-family: var(--jp-code-font-family);\n",
       "font-size: var(--jp-code-font-size);\n",
       "line-height: var(--jp-code-line-height);\n",
       "\"><span style=\"color: var(--jp-warn-color2)\">lsst.quickFrameMeasurementTask</span> <span style=\"color: var(--jp-info-color0)\">INFO</span>: Found 35 sources in exposure</pre>"
      ],
      "text/plain": [
       "<IPython.core.display.HTML object>"
      ]
     },
     "metadata": {},
     "output_type": "display_data"
    },
    {
     "data": {
      "text/html": [
       "<pre style=\"margin: 0.1em;\n",
       "padding-left: 0.25em;\n",
       "border-left-style: solid;\n",
       "font-family: var(--jp-code-font-family);\n",
       "font-size: var(--jp-code-font-size);\n",
       "line-height: var(--jp-code-line-height);\n",
       "\"><span style=\"color: var(--jp-warn-color2)\">lsst.quickFrameMeasurementTask</span> <span style=\"color: var(--jp-info-color0)\">INFO</span>: Measured 35 of 35 sources in exposure</pre>"
      ],
      "text/plain": [
       "<IPython.core.display.HTML object>"
      ]
     },
     "metadata": {},
     "output_type": "display_data"
    },
    {
     "name": "stdout",
     "output_type": "stream",
     "text": [
      "2022040700193\n"
     ]
    },
    {
     "data": {
      "text/html": [
       "<pre style=\"margin: 0.1em;\n",
       "padding-left: 0.25em;\n",
       "border-left-style: solid;\n",
       "font-family: var(--jp-code-font-family);\n",
       "font-size: var(--jp-code-font-size);\n",
       "line-height: var(--jp-code-line-height);\n",
       "\"><span style=\"color: var(--jp-warn-color2)\">lsst.summit.utils.bestEffort</span> <span style=\"color: var(--jp-info-color0)\">INFO</span>: Found a ready-made quickLookExp in the repo. Returning that.</pre>"
      ],
      "text/plain": [
       "<IPython.core.display.HTML object>"
      ]
     },
     "metadata": {},
     "output_type": "display_data"
    },
    {
     "data": {
      "text/html": [
       "<pre style=\"margin: 0.1em;\n",
       "padding-left: 0.25em;\n",
       "border-left-style: solid;\n",
       "font-family: var(--jp-code-font-family);\n",
       "font-size: var(--jp-code-font-size);\n",
       "line-height: var(--jp-code-line-height);\n",
       "\"><span style=\"color: var(--jp-warn-color2)\">lsst.quickFrameMeasurementTask</span> <span style=\"color: var(--jp-info-color0)\">INFO</span>: Found 11 sources in exposure</pre>"
      ],
      "text/plain": [
       "<IPython.core.display.HTML object>"
      ]
     },
     "metadata": {},
     "output_type": "display_data"
    },
    {
     "data": {
      "text/html": [
       "<pre style=\"margin: 0.1em;\n",
       "padding-left: 0.25em;\n",
       "border-left-style: solid;\n",
       "font-family: var(--jp-code-font-family);\n",
       "font-size: var(--jp-code-font-size);\n",
       "line-height: var(--jp-code-line-height);\n",
       "\"><span style=\"color: var(--jp-warn-color2)\">lsst.quickFrameMeasurementTask</span> <span style=\"color: var(--jp-info-color0)\">INFO</span>: Measured 11 of 11 sources in exposure</pre>"
      ],
      "text/plain": [
       "<IPython.core.display.HTML object>"
      ]
     },
     "metadata": {},
     "output_type": "display_data"
    },
    {
     "name": "stdout",
     "output_type": "stream",
     "text": [
      "2022040700195\n"
     ]
    },
    {
     "data": {
      "text/html": [
       "<pre style=\"margin: 0.1em;\n",
       "padding-left: 0.25em;\n",
       "border-left-style: solid;\n",
       "font-family: var(--jp-code-font-family);\n",
       "font-size: var(--jp-code-font-size);\n",
       "line-height: var(--jp-code-line-height);\n",
       "\"><span style=\"color: var(--jp-warn-color2)\">lsst.summit.utils.bestEffort</span> <span style=\"color: var(--jp-info-color0)\">INFO</span>: Found a ready-made quickLookExp in the repo. Returning that.</pre>"
      ],
      "text/plain": [
       "<IPython.core.display.HTML object>"
      ]
     },
     "metadata": {},
     "output_type": "display_data"
    },
    {
     "data": {
      "text/html": [
       "<pre style=\"margin: 0.1em;\n",
       "padding-left: 0.25em;\n",
       "border-left-style: solid;\n",
       "font-family: var(--jp-code-font-family);\n",
       "font-size: var(--jp-code-font-size);\n",
       "line-height: var(--jp-code-line-height);\n",
       "\"><span style=\"color: var(--jp-warn-color2)\">lsst.quickFrameMeasurementTask</span> <span style=\"color: var(--jp-info-color0)\">INFO</span>: Found 21 sources in exposure</pre>"
      ],
      "text/plain": [
       "<IPython.core.display.HTML object>"
      ]
     },
     "metadata": {},
     "output_type": "display_data"
    },
    {
     "data": {
      "text/html": [
       "<pre style=\"margin: 0.1em;\n",
       "padding-left: 0.25em;\n",
       "border-left-style: solid;\n",
       "font-family: var(--jp-code-font-family);\n",
       "font-size: var(--jp-code-font-size);\n",
       "line-height: var(--jp-code-line-height);\n",
       "\"><span style=\"color: var(--jp-warn-color2)\">lsst.quickFrameMeasurementTask</span> <span style=\"color: var(--jp-info-color0)\">INFO</span>: Measured 21 of 21 sources in exposure</pre>"
      ],
      "text/plain": [
       "<IPython.core.display.HTML object>"
      ]
     },
     "metadata": {},
     "output_type": "display_data"
    },
    {
     "name": "stdout",
     "output_type": "stream",
     "text": [
      "2022040700197\n"
     ]
    },
    {
     "data": {
      "text/html": [
       "<pre style=\"margin: 0.1em;\n",
       "padding-left: 0.25em;\n",
       "border-left-style: solid;\n",
       "font-family: var(--jp-code-font-family);\n",
       "font-size: var(--jp-code-font-size);\n",
       "line-height: var(--jp-code-line-height);\n",
       "\"><span style=\"color: var(--jp-warn-color2)\">lsst.summit.utils.bestEffort</span> <span style=\"color: var(--jp-info-color0)\">INFO</span>: Found a ready-made quickLookExp in the repo. Returning that.</pre>"
      ],
      "text/plain": [
       "<IPython.core.display.HTML object>"
      ]
     },
     "metadata": {},
     "output_type": "display_data"
    },
    {
     "data": {
      "text/html": [
       "<pre style=\"margin: 0.1em;\n",
       "padding-left: 0.25em;\n",
       "border-left-style: solid;\n",
       "font-family: var(--jp-code-font-family);\n",
       "font-size: var(--jp-code-font-size);\n",
       "line-height: var(--jp-code-line-height);\n",
       "\"><span style=\"color: var(--jp-warn-color2)\">lsst.quickFrameMeasurementTask</span> <span style=\"color: var(--jp-info-color0)\">INFO</span>: Found 54 sources in exposure</pre>"
      ],
      "text/plain": [
       "<IPython.core.display.HTML object>"
      ]
     },
     "metadata": {},
     "output_type": "display_data"
    },
    {
     "data": {
      "text/html": [
       "<pre style=\"margin: 0.1em;\n",
       "padding-left: 0.25em;\n",
       "border-left-style: solid;\n",
       "font-family: var(--jp-code-font-family);\n",
       "font-size: var(--jp-code-font-size);\n",
       "line-height: var(--jp-code-line-height);\n",
       "\"><span style=\"color: var(--jp-warn-color2)\">lsst.quickFrameMeasurementTask</span> <span style=\"color: var(--jp-info-color0)\">INFO</span>: Measured 54 of 54 sources in exposure</pre>"
      ],
      "text/plain": [
       "<IPython.core.display.HTML object>"
      ]
     },
     "metadata": {},
     "output_type": "display_data"
    },
    {
     "name": "stdout",
     "output_type": "stream",
     "text": [
      "2022040700199\n"
     ]
    },
    {
     "data": {
      "text/html": [
       "<pre style=\"margin: 0.1em;\n",
       "padding-left: 0.25em;\n",
       "border-left-style: solid;\n",
       "font-family: var(--jp-code-font-family);\n",
       "font-size: var(--jp-code-font-size);\n",
       "line-height: var(--jp-code-line-height);\n",
       "\"><span style=\"color: var(--jp-warn-color2)\">lsst.summit.utils.bestEffort</span> <span style=\"color: var(--jp-info-color0)\">INFO</span>: Found a ready-made quickLookExp in the repo. Returning that.</pre>"
      ],
      "text/plain": [
       "<IPython.core.display.HTML object>"
      ]
     },
     "metadata": {},
     "output_type": "display_data"
    },
    {
     "data": {
      "text/html": [
       "<pre style=\"margin: 0.1em;\n",
       "padding-left: 0.25em;\n",
       "border-left-style: solid;\n",
       "font-family: var(--jp-code-font-family);\n",
       "font-size: var(--jp-code-font-size);\n",
       "line-height: var(--jp-code-line-height);\n",
       "\"><span style=\"color: var(--jp-warn-color2)\">lsst.quickFrameMeasurementTask</span> <span style=\"color: var(--jp-info-color0)\">INFO</span>: Found 83 sources in exposure</pre>"
      ],
      "text/plain": [
       "<IPython.core.display.HTML object>"
      ]
     },
     "metadata": {},
     "output_type": "display_data"
    },
    {
     "data": {
      "text/html": [
       "<pre style=\"margin: 0.1em;\n",
       "padding-left: 0.25em;\n",
       "border-left-style: solid;\n",
       "font-family: var(--jp-code-font-family);\n",
       "font-size: var(--jp-code-font-size);\n",
       "line-height: var(--jp-code-line-height);\n",
       "\"><span style=\"color: var(--jp-warn-color2)\">lsst.quickFrameMeasurementTask</span> <span style=\"color: var(--jp-info-color0)\">INFO</span>: Measured 83 of 83 sources in exposure</pre>"
      ],
      "text/plain": [
       "<IPython.core.display.HTML object>"
      ]
     },
     "metadata": {},
     "output_type": "display_data"
    },
    {
     "name": "stdout",
     "output_type": "stream",
     "text": [
      "2022040700201\n"
     ]
    },
    {
     "data": {
      "text/html": [
       "<pre style=\"margin: 0.1em;\n",
       "padding-left: 0.25em;\n",
       "border-left-style: solid;\n",
       "font-family: var(--jp-code-font-family);\n",
       "font-size: var(--jp-code-font-size);\n",
       "line-height: var(--jp-code-line-height);\n",
       "\"><span style=\"color: var(--jp-warn-color2)\">lsst.summit.utils.bestEffort</span> <span style=\"color: var(--jp-info-color0)\">INFO</span>: Found a ready-made quickLookExp in the repo. Returning that.</pre>"
      ],
      "text/plain": [
       "<IPython.core.display.HTML object>"
      ]
     },
     "metadata": {},
     "output_type": "display_data"
    },
    {
     "data": {
      "text/html": [
       "<pre style=\"margin: 0.1em;\n",
       "padding-left: 0.25em;\n",
       "border-left-style: solid;\n",
       "font-family: var(--jp-code-font-family);\n",
       "font-size: var(--jp-code-font-size);\n",
       "line-height: var(--jp-code-line-height);\n",
       "\"><span style=\"color: var(--jp-warn-color2)\">lsst.quickFrameMeasurementTask</span> <span style=\"color: var(--jp-info-color0)\">INFO</span>: Found 30 sources in exposure</pre>"
      ],
      "text/plain": [
       "<IPython.core.display.HTML object>"
      ]
     },
     "metadata": {},
     "output_type": "display_data"
    },
    {
     "data": {
      "text/html": [
       "<pre style=\"margin: 0.1em;\n",
       "padding-left: 0.25em;\n",
       "border-left-style: solid;\n",
       "font-family: var(--jp-code-font-family);\n",
       "font-size: var(--jp-code-font-size);\n",
       "line-height: var(--jp-code-line-height);\n",
       "\"><span style=\"color: var(--jp-warn-color2)\">lsst.quickFrameMeasurementTask</span> <span style=\"color: var(--jp-info-color0)\">INFO</span>: Measured 30 of 30 sources in exposure</pre>"
      ],
      "text/plain": [
       "<IPython.core.display.HTML object>"
      ]
     },
     "metadata": {},
     "output_type": "display_data"
    },
    {
     "name": "stdout",
     "output_type": "stream",
     "text": [
      "2022040700203\n"
     ]
    },
    {
     "data": {
      "text/html": [
       "<pre style=\"margin: 0.1em;\n",
       "padding-left: 0.25em;\n",
       "border-left-style: solid;\n",
       "font-family: var(--jp-code-font-family);\n",
       "font-size: var(--jp-code-font-size);\n",
       "line-height: var(--jp-code-line-height);\n",
       "\"><span style=\"color: var(--jp-warn-color2)\">lsst.summit.utils.bestEffort</span> <span style=\"color: var(--jp-info-color0)\">INFO</span>: Found a ready-made quickLookExp in the repo. Returning that.</pre>"
      ],
      "text/plain": [
       "<IPython.core.display.HTML object>"
      ]
     },
     "metadata": {},
     "output_type": "display_data"
    },
    {
     "data": {
      "text/html": [
       "<pre style=\"margin: 0.1em;\n",
       "padding-left: 0.25em;\n",
       "border-left-style: solid;\n",
       "font-family: var(--jp-code-font-family);\n",
       "font-size: var(--jp-code-font-size);\n",
       "line-height: var(--jp-code-line-height);\n",
       "\"><span style=\"color: var(--jp-warn-color2)\">lsst.quickFrameMeasurementTask</span> <span style=\"color: var(--jp-info-color0)\">INFO</span>: Found 50 sources in exposure</pre>"
      ],
      "text/plain": [
       "<IPython.core.display.HTML object>"
      ]
     },
     "metadata": {},
     "output_type": "display_data"
    },
    {
     "data": {
      "text/html": [
       "<pre style=\"margin: 0.1em;\n",
       "padding-left: 0.25em;\n",
       "border-left-style: solid;\n",
       "font-family: var(--jp-code-font-family);\n",
       "font-size: var(--jp-code-font-size);\n",
       "line-height: var(--jp-code-line-height);\n",
       "\"><span style=\"color: var(--jp-warn-color2)\">lsst.quickFrameMeasurementTask</span> <span style=\"color: var(--jp-info-color0)\">INFO</span>: Measured 50 of 50 sources in exposure</pre>"
      ],
      "text/plain": [
       "<IPython.core.display.HTML object>"
      ]
     },
     "metadata": {},
     "output_type": "display_data"
    },
    {
     "name": "stdout",
     "output_type": "stream",
     "text": [
      "2022040700205\n"
     ]
    },
    {
     "data": {
      "text/html": [
       "<pre style=\"margin: 0.1em;\n",
       "padding-left: 0.25em;\n",
       "border-left-style: solid;\n",
       "font-family: var(--jp-code-font-family);\n",
       "font-size: var(--jp-code-font-size);\n",
       "line-height: var(--jp-code-line-height);\n",
       "\"><span style=\"color: var(--jp-warn-color2)\">lsst.summit.utils.bestEffort</span> <span style=\"color: var(--jp-info-color0)\">INFO</span>: Found a ready-made quickLookExp in the repo. Returning that.</pre>"
      ],
      "text/plain": [
       "<IPython.core.display.HTML object>"
      ]
     },
     "metadata": {},
     "output_type": "display_data"
    },
    {
     "data": {
      "text/html": [
       "<pre style=\"margin: 0.1em;\n",
       "padding-left: 0.25em;\n",
       "border-left-style: solid;\n",
       "font-family: var(--jp-code-font-family);\n",
       "font-size: var(--jp-code-font-size);\n",
       "line-height: var(--jp-code-line-height);\n",
       "\"><span style=\"color: var(--jp-warn-color2)\">lsst.quickFrameMeasurementTask</span> <span style=\"color: var(--jp-info-color0)\">INFO</span>: Found 36 sources in exposure</pre>"
      ],
      "text/plain": [
       "<IPython.core.display.HTML object>"
      ]
     },
     "metadata": {},
     "output_type": "display_data"
    },
    {
     "data": {
      "text/html": [
       "<pre style=\"margin: 0.1em;\n",
       "padding-left: 0.25em;\n",
       "border-left-style: solid;\n",
       "font-family: var(--jp-code-font-family);\n",
       "font-size: var(--jp-code-font-size);\n",
       "line-height: var(--jp-code-line-height);\n",
       "\"><span style=\"color: var(--jp-warn-color2)\">lsst.quickFrameMeasurementTask</span> <span style=\"color: var(--jp-info-color0)\">INFO</span>: Measured 36 of 36 sources in exposure</pre>"
      ],
      "text/plain": [
       "<IPython.core.display.HTML object>"
      ]
     },
     "metadata": {},
     "output_type": "display_data"
    },
    {
     "name": "stdout",
     "output_type": "stream",
     "text": [
      "2022040700207\n"
     ]
    },
    {
     "data": {
      "text/html": [
       "<pre style=\"margin: 0.1em;\n",
       "padding-left: 0.25em;\n",
       "border-left-style: solid;\n",
       "font-family: var(--jp-code-font-family);\n",
       "font-size: var(--jp-code-font-size);\n",
       "line-height: var(--jp-code-line-height);\n",
       "\"><span style=\"color: var(--jp-warn-color2)\">lsst.summit.utils.bestEffort</span> <span style=\"color: var(--jp-info-color0)\">INFO</span>: Found a ready-made quickLookExp in the repo. Returning that.</pre>"
      ],
      "text/plain": [
       "<IPython.core.display.HTML object>"
      ]
     },
     "metadata": {},
     "output_type": "display_data"
    },
    {
     "data": {
      "text/html": [
       "<pre style=\"margin: 0.1em;\n",
       "padding-left: 0.25em;\n",
       "border-left-style: solid;\n",
       "font-family: var(--jp-code-font-family);\n",
       "font-size: var(--jp-code-font-size);\n",
       "line-height: var(--jp-code-line-height);\n",
       "\"><span style=\"color: var(--jp-warn-color2)\">lsst.quickFrameMeasurementTask</span> <span style=\"color: var(--jp-info-color0)\">INFO</span>: Found 9 sources in exposure</pre>"
      ],
      "text/plain": [
       "<IPython.core.display.HTML object>"
      ]
     },
     "metadata": {},
     "output_type": "display_data"
    },
    {
     "data": {
      "text/html": [
       "<pre style=\"margin: 0.1em;\n",
       "padding-left: 0.25em;\n",
       "border-left-style: solid;\n",
       "font-family: var(--jp-code-font-family);\n",
       "font-size: var(--jp-code-font-size);\n",
       "line-height: var(--jp-code-line-height);\n",
       "\"><span style=\"color: var(--jp-warn-color2)\">lsst.quickFrameMeasurementTask</span> <span style=\"color: var(--jp-info-color0)\">INFO</span>: Measured 9 of 9 sources in exposure</pre>"
      ],
      "text/plain": [
       "<IPython.core.display.HTML object>"
      ]
     },
     "metadata": {},
     "output_type": "display_data"
    },
    {
     "name": "stdout",
     "output_type": "stream",
     "text": [
      "2022040700209\n"
     ]
    },
    {
     "data": {
      "text/html": [
       "<pre style=\"margin: 0.1em;\n",
       "padding-left: 0.25em;\n",
       "border-left-style: solid;\n",
       "font-family: var(--jp-code-font-family);\n",
       "font-size: var(--jp-code-font-size);\n",
       "line-height: var(--jp-code-line-height);\n",
       "\"><span style=\"color: var(--jp-warn-color2)\">lsst.summit.utils.bestEffort</span> <span style=\"color: var(--jp-info-color0)\">INFO</span>: Found a ready-made quickLookExp in the repo. Returning that.</pre>"
      ],
      "text/plain": [
       "<IPython.core.display.HTML object>"
      ]
     },
     "metadata": {},
     "output_type": "display_data"
    },
    {
     "data": {
      "text/html": [
       "<pre style=\"margin: 0.1em;\n",
       "padding-left: 0.25em;\n",
       "border-left-style: solid;\n",
       "font-family: var(--jp-code-font-family);\n",
       "font-size: var(--jp-code-font-size);\n",
       "line-height: var(--jp-code-line-height);\n",
       "\"><span style=\"color: var(--jp-warn-color2)\">lsst.quickFrameMeasurementTask</span> <span style=\"color: var(--jp-info-color0)\">INFO</span>: Found 30 sources in exposure</pre>"
      ],
      "text/plain": [
       "<IPython.core.display.HTML object>"
      ]
     },
     "metadata": {},
     "output_type": "display_data"
    },
    {
     "data": {
      "text/html": [
       "<pre style=\"margin: 0.1em;\n",
       "padding-left: 0.25em;\n",
       "border-left-style: solid;\n",
       "font-family: var(--jp-code-font-family);\n",
       "font-size: var(--jp-code-font-size);\n",
       "line-height: var(--jp-code-line-height);\n",
       "\"><span style=\"color: var(--jp-warn-color2)\">lsst.quickFrameMeasurementTask</span> <span style=\"color: var(--jp-info-color0)\">INFO</span>: Measured 30 of 30 sources in exposure</pre>"
      ],
      "text/plain": [
       "<IPython.core.display.HTML object>"
      ]
     },
     "metadata": {},
     "output_type": "display_data"
    },
    {
     "name": "stdout",
     "output_type": "stream",
     "text": [
      "2022040700211\n"
     ]
    },
    {
     "data": {
      "text/html": [
       "<pre style=\"margin: 0.1em;\n",
       "padding-left: 0.25em;\n",
       "border-left-style: solid;\n",
       "font-family: var(--jp-code-font-family);\n",
       "font-size: var(--jp-code-font-size);\n",
       "line-height: var(--jp-code-line-height);\n",
       "\"><span style=\"color: var(--jp-warn-color2)\">lsst.summit.utils.bestEffort</span> <span style=\"color: var(--jp-info-color0)\">INFO</span>: Found a ready-made quickLookExp in the repo. Returning that.</pre>"
      ],
      "text/plain": [
       "<IPython.core.display.HTML object>"
      ]
     },
     "metadata": {},
     "output_type": "display_data"
    },
    {
     "data": {
      "text/html": [
       "<pre style=\"margin: 0.1em;\n",
       "padding-left: 0.25em;\n",
       "border-left-style: solid;\n",
       "font-family: var(--jp-code-font-family);\n",
       "font-size: var(--jp-code-font-size);\n",
       "line-height: var(--jp-code-line-height);\n",
       "\"><span style=\"color: var(--jp-warn-color2)\">lsst.quickFrameMeasurementTask</span> <span style=\"color: var(--jp-info-color0)\">INFO</span>: Found 7 sources in exposure</pre>"
      ],
      "text/plain": [
       "<IPython.core.display.HTML object>"
      ]
     },
     "metadata": {},
     "output_type": "display_data"
    },
    {
     "data": {
      "text/html": [
       "<pre style=\"margin: 0.1em;\n",
       "padding-left: 0.25em;\n",
       "border-left-style: solid;\n",
       "font-family: var(--jp-code-font-family);\n",
       "font-size: var(--jp-code-font-size);\n",
       "line-height: var(--jp-code-line-height);\n",
       "\"><span style=\"color: var(--jp-warn-color2)\">lsst.quickFrameMeasurementTask</span> <span style=\"color: var(--jp-info-color0)\">INFO</span>: Measured 7 of 7 sources in exposure</pre>"
      ],
      "text/plain": [
       "<IPython.core.display.HTML object>"
      ]
     },
     "metadata": {},
     "output_type": "display_data"
    },
    {
     "name": "stdout",
     "output_type": "stream",
     "text": [
      "2022040700213\n"
     ]
    },
    {
     "data": {
      "text/html": [
       "<pre style=\"margin: 0.1em;\n",
       "padding-left: 0.25em;\n",
       "border-left-style: solid;\n",
       "font-family: var(--jp-code-font-family);\n",
       "font-size: var(--jp-code-font-size);\n",
       "line-height: var(--jp-code-line-height);\n",
       "\"><span style=\"color: var(--jp-warn-color2)\">lsst.summit.utils.bestEffort</span> <span style=\"color: var(--jp-info-color0)\">INFO</span>: Found a ready-made quickLookExp in the repo. Returning that.</pre>"
      ],
      "text/plain": [
       "<IPython.core.display.HTML object>"
      ]
     },
     "metadata": {},
     "output_type": "display_data"
    },
    {
     "data": {
      "text/html": [
       "<pre style=\"margin: 0.1em;\n",
       "padding-left: 0.25em;\n",
       "border-left-style: solid;\n",
       "font-family: var(--jp-code-font-family);\n",
       "font-size: var(--jp-code-font-size);\n",
       "line-height: var(--jp-code-line-height);\n",
       "\"><span style=\"color: var(--jp-warn-color2)\">lsst.quickFrameMeasurementTask</span> <span style=\"color: var(--jp-info-color0)\">INFO</span>: Found 11 sources in exposure</pre>"
      ],
      "text/plain": [
       "<IPython.core.display.HTML object>"
      ]
     },
     "metadata": {},
     "output_type": "display_data"
    },
    {
     "data": {
      "text/html": [
       "<pre style=\"margin: 0.1em;\n",
       "padding-left: 0.25em;\n",
       "border-left-style: solid;\n",
       "font-family: var(--jp-code-font-family);\n",
       "font-size: var(--jp-code-font-size);\n",
       "line-height: var(--jp-code-line-height);\n",
       "\"><span style=\"color: var(--jp-warn-color2)\">lsst.quickFrameMeasurementTask</span> <span style=\"color: var(--jp-info-color0)\">INFO</span>: Measured 11 of 11 sources in exposure</pre>"
      ],
      "text/plain": [
       "<IPython.core.display.HTML object>"
      ]
     },
     "metadata": {},
     "output_type": "display_data"
    },
    {
     "name": "stdout",
     "output_type": "stream",
     "text": [
      "2022040700215\n"
     ]
    },
    {
     "data": {
      "text/html": [
       "<pre style=\"margin: 0.1em;\n",
       "padding-left: 0.25em;\n",
       "border-left-style: solid;\n",
       "font-family: var(--jp-code-font-family);\n",
       "font-size: var(--jp-code-font-size);\n",
       "line-height: var(--jp-code-line-height);\n",
       "\"><span style=\"color: var(--jp-warn-color2)\">lsst.summit.utils.bestEffort</span> <span style=\"color: var(--jp-info-color0)\">INFO</span>: Found a ready-made quickLookExp in the repo. Returning that.</pre>"
      ],
      "text/plain": [
       "<IPython.core.display.HTML object>"
      ]
     },
     "metadata": {},
     "output_type": "display_data"
    },
    {
     "data": {
      "text/html": [
       "<pre style=\"margin: 0.1em;\n",
       "padding-left: 0.25em;\n",
       "border-left-style: solid;\n",
       "font-family: var(--jp-code-font-family);\n",
       "font-size: var(--jp-code-font-size);\n",
       "line-height: var(--jp-code-line-height);\n",
       "\"><span style=\"color: var(--jp-warn-color2)\">lsst.quickFrameMeasurementTask</span> <span style=\"color: var(--jp-info-color0)\">INFO</span>: Found 17 sources in exposure</pre>"
      ],
      "text/plain": [
       "<IPython.core.display.HTML object>"
      ]
     },
     "metadata": {},
     "output_type": "display_data"
    },
    {
     "data": {
      "text/html": [
       "<pre style=\"margin: 0.1em;\n",
       "padding-left: 0.25em;\n",
       "border-left-style: solid;\n",
       "font-family: var(--jp-code-font-family);\n",
       "font-size: var(--jp-code-font-size);\n",
       "line-height: var(--jp-code-line-height);\n",
       "\"><span style=\"color: var(--jp-warn-color2)\">lsst.quickFrameMeasurementTask</span> <span style=\"color: var(--jp-info-color0)\">INFO</span>: Measured 17 of 17 sources in exposure</pre>"
      ],
      "text/plain": [
       "<IPython.core.display.HTML object>"
      ]
     },
     "metadata": {},
     "output_type": "display_data"
    },
    {
     "name": "stdout",
     "output_type": "stream",
     "text": [
      "2022040700217\n"
     ]
    },
    {
     "data": {
      "text/html": [
       "<pre style=\"margin: 0.1em;\n",
       "padding-left: 0.25em;\n",
       "border-left-style: solid;\n",
       "font-family: var(--jp-code-font-family);\n",
       "font-size: var(--jp-code-font-size);\n",
       "line-height: var(--jp-code-line-height);\n",
       "\"><span style=\"color: var(--jp-warn-color2)\">lsst.summit.utils.bestEffort</span> <span style=\"color: var(--jp-info-color0)\">INFO</span>: Found a ready-made quickLookExp in the repo. Returning that.</pre>"
      ],
      "text/plain": [
       "<IPython.core.display.HTML object>"
      ]
     },
     "metadata": {},
     "output_type": "display_data"
    },
    {
     "data": {
      "text/html": [
       "<pre style=\"margin: 0.1em;\n",
       "padding-left: 0.25em;\n",
       "border-left-style: solid;\n",
       "font-family: var(--jp-code-font-family);\n",
       "font-size: var(--jp-code-font-size);\n",
       "line-height: var(--jp-code-line-height);\n",
       "\"><span style=\"color: var(--jp-warn-color2)\">lsst.quickFrameMeasurementTask</span> <span style=\"color: var(--jp-info-color0)\">INFO</span>: Found 11 sources in exposure</pre>"
      ],
      "text/plain": [
       "<IPython.core.display.HTML object>"
      ]
     },
     "metadata": {},
     "output_type": "display_data"
    },
    {
     "data": {
      "text/html": [
       "<pre style=\"margin: 0.1em;\n",
       "padding-left: 0.25em;\n",
       "border-left-style: solid;\n",
       "font-family: var(--jp-code-font-family);\n",
       "font-size: var(--jp-code-font-size);\n",
       "line-height: var(--jp-code-line-height);\n",
       "\"><span style=\"color: var(--jp-warn-color2)\">lsst.quickFrameMeasurementTask</span> <span style=\"color: var(--jp-info-color0)\">INFO</span>: Measured 11 of 11 sources in exposure</pre>"
      ],
      "text/plain": [
       "<IPython.core.display.HTML object>"
      ]
     },
     "metadata": {},
     "output_type": "display_data"
    },
    {
     "name": "stdout",
     "output_type": "stream",
     "text": [
      "2022040700219\n"
     ]
    },
    {
     "data": {
      "text/html": [
       "<pre style=\"margin: 0.1em;\n",
       "padding-left: 0.25em;\n",
       "border-left-style: solid;\n",
       "font-family: var(--jp-code-font-family);\n",
       "font-size: var(--jp-code-font-size);\n",
       "line-height: var(--jp-code-line-height);\n",
       "\"><span style=\"color: var(--jp-warn-color2)\">lsst.summit.utils.bestEffort</span> <span style=\"color: var(--jp-info-color0)\">INFO</span>: Found a ready-made quickLookExp in the repo. Returning that.</pre>"
      ],
      "text/plain": [
       "<IPython.core.display.HTML object>"
      ]
     },
     "metadata": {},
     "output_type": "display_data"
    },
    {
     "data": {
      "text/html": [
       "<pre style=\"margin: 0.1em;\n",
       "padding-left: 0.25em;\n",
       "border-left-style: solid;\n",
       "font-family: var(--jp-code-font-family);\n",
       "font-size: var(--jp-code-font-size);\n",
       "line-height: var(--jp-code-line-height);\n",
       "\"><span style=\"color: var(--jp-warn-color2)\">lsst.quickFrameMeasurementTask</span> <span style=\"color: var(--jp-info-color0)\">INFO</span>: Found 19 sources in exposure</pre>"
      ],
      "text/plain": [
       "<IPython.core.display.HTML object>"
      ]
     },
     "metadata": {},
     "output_type": "display_data"
    },
    {
     "data": {
      "text/html": [
       "<pre style=\"margin: 0.1em;\n",
       "padding-left: 0.25em;\n",
       "border-left-style: solid;\n",
       "font-family: var(--jp-code-font-family);\n",
       "font-size: var(--jp-code-font-size);\n",
       "line-height: var(--jp-code-line-height);\n",
       "\"><span style=\"color: var(--jp-warn-color2)\">lsst.quickFrameMeasurementTask</span> <span style=\"color: var(--jp-info-color0)\">INFO</span>: Measured 19 of 19 sources in exposure</pre>"
      ],
      "text/plain": [
       "<IPython.core.display.HTML object>"
      ]
     },
     "metadata": {},
     "output_type": "display_data"
    },
    {
     "name": "stdout",
     "output_type": "stream",
     "text": [
      "2022040700221\n"
     ]
    },
    {
     "data": {
      "text/html": [
       "<pre style=\"margin: 0.1em;\n",
       "padding-left: 0.25em;\n",
       "border-left-style: solid;\n",
       "font-family: var(--jp-code-font-family);\n",
       "font-size: var(--jp-code-font-size);\n",
       "line-height: var(--jp-code-line-height);\n",
       "\"><span style=\"color: var(--jp-warn-color2)\">lsst.summit.utils.bestEffort</span> <span style=\"color: var(--jp-info-color0)\">INFO</span>: Found a ready-made quickLookExp in the repo. Returning that.</pre>"
      ],
      "text/plain": [
       "<IPython.core.display.HTML object>"
      ]
     },
     "metadata": {},
     "output_type": "display_data"
    },
    {
     "data": {
      "text/html": [
       "<pre style=\"margin: 0.1em;\n",
       "padding-left: 0.25em;\n",
       "border-left-style: solid;\n",
       "font-family: var(--jp-code-font-family);\n",
       "font-size: var(--jp-code-font-size);\n",
       "line-height: var(--jp-code-line-height);\n",
       "\"><span style=\"color: var(--jp-warn-color2)\">lsst.quickFrameMeasurementTask</span> <span style=\"color: var(--jp-info-color0)\">INFO</span>: Found 3 sources in exposure</pre>"
      ],
      "text/plain": [
       "<IPython.core.display.HTML object>"
      ]
     },
     "metadata": {},
     "output_type": "display_data"
    },
    {
     "data": {
      "text/html": [
       "<pre style=\"margin: 0.1em;\n",
       "padding-left: 0.25em;\n",
       "border-left-style: solid;\n",
       "font-family: var(--jp-code-font-family);\n",
       "font-size: var(--jp-code-font-size);\n",
       "line-height: var(--jp-code-line-height);\n",
       "\"><span style=\"color: var(--jp-warn-color2)\">lsst.quickFrameMeasurementTask</span> <span style=\"color: var(--jp-info-color0)\">INFO</span>: Measured 3 of 3 sources in exposure</pre>"
      ],
      "text/plain": [
       "<IPython.core.display.HTML object>"
      ]
     },
     "metadata": {},
     "output_type": "display_data"
    },
    {
     "name": "stdout",
     "output_type": "stream",
     "text": [
      "2022040700223\n"
     ]
    },
    {
     "data": {
      "text/html": [
       "<pre style=\"margin: 0.1em;\n",
       "padding-left: 0.25em;\n",
       "border-left-style: solid;\n",
       "font-family: var(--jp-code-font-family);\n",
       "font-size: var(--jp-code-font-size);\n",
       "line-height: var(--jp-code-line-height);\n",
       "\"><span style=\"color: var(--jp-warn-color2)\">lsst.summit.utils.bestEffort</span> <span style=\"color: var(--jp-info-color0)\">INFO</span>: Found a ready-made quickLookExp in the repo. Returning that.</pre>"
      ],
      "text/plain": [
       "<IPython.core.display.HTML object>"
      ]
     },
     "metadata": {},
     "output_type": "display_data"
    },
    {
     "data": {
      "text/html": [
       "<pre style=\"margin: 0.1em;\n",
       "padding-left: 0.25em;\n",
       "border-left-style: solid;\n",
       "font-family: var(--jp-code-font-family);\n",
       "font-size: var(--jp-code-font-size);\n",
       "line-height: var(--jp-code-line-height);\n",
       "\"><span style=\"color: var(--jp-warn-color2)\">lsst.quickFrameMeasurementTask</span> <span style=\"color: var(--jp-info-color0)\">INFO</span>: Found 4 sources in exposure</pre>"
      ],
      "text/plain": [
       "<IPython.core.display.HTML object>"
      ]
     },
     "metadata": {},
     "output_type": "display_data"
    },
    {
     "data": {
      "text/html": [
       "<pre style=\"margin: 0.1em;\n",
       "padding-left: 0.25em;\n",
       "border-left-style: solid;\n",
       "font-family: var(--jp-code-font-family);\n",
       "font-size: var(--jp-code-font-size);\n",
       "line-height: var(--jp-code-line-height);\n",
       "\"><span style=\"color: var(--jp-warn-color2)\">lsst.quickFrameMeasurementTask</span> <span style=\"color: var(--jp-info-color0)\">INFO</span>: Measured 4 of 4 sources in exposure</pre>"
      ],
      "text/plain": [
       "<IPython.core.display.HTML object>"
      ]
     },
     "metadata": {},
     "output_type": "display_data"
    },
    {
     "name": "stdout",
     "output_type": "stream",
     "text": [
      "2022040700225\n"
     ]
    },
    {
     "data": {
      "text/html": [
       "<pre style=\"margin: 0.1em;\n",
       "padding-left: 0.25em;\n",
       "border-left-style: solid;\n",
       "font-family: var(--jp-code-font-family);\n",
       "font-size: var(--jp-code-font-size);\n",
       "line-height: var(--jp-code-line-height);\n",
       "\"><span style=\"color: var(--jp-warn-color2)\">lsst.summit.utils.bestEffort</span> <span style=\"color: var(--jp-info-color0)\">INFO</span>: Found a ready-made quickLookExp in the repo. Returning that.</pre>"
      ],
      "text/plain": [
       "<IPython.core.display.HTML object>"
      ]
     },
     "metadata": {},
     "output_type": "display_data"
    },
    {
     "data": {
      "text/html": [
       "<pre style=\"margin: 0.1em;\n",
       "padding-left: 0.25em;\n",
       "border-left-style: solid;\n",
       "font-family: var(--jp-code-font-family);\n",
       "font-size: var(--jp-code-font-size);\n",
       "line-height: var(--jp-code-line-height);\n",
       "\"><span style=\"color: var(--jp-warn-color2)\">lsst.quickFrameMeasurementTask</span> <span style=\"color: var(--jp-info-color0)\">INFO</span>: Found 22 sources in exposure</pre>"
      ],
      "text/plain": [
       "<IPython.core.display.HTML object>"
      ]
     },
     "metadata": {},
     "output_type": "display_data"
    },
    {
     "data": {
      "text/html": [
       "<pre style=\"margin: 0.1em;\n",
       "padding-left: 0.25em;\n",
       "border-left-style: solid;\n",
       "font-family: var(--jp-code-font-family);\n",
       "font-size: var(--jp-code-font-size);\n",
       "line-height: var(--jp-code-line-height);\n",
       "\"><span style=\"color: var(--jp-warn-color2)\">lsst.quickFrameMeasurementTask</span> <span style=\"color: var(--jp-info-color0)\">INFO</span>: Measured 22 of 22 sources in exposure</pre>"
      ],
      "text/plain": [
       "<IPython.core.display.HTML object>"
      ]
     },
     "metadata": {},
     "output_type": "display_data"
    },
    {
     "name": "stdout",
     "output_type": "stream",
     "text": [
      "2022040700227\n"
     ]
    },
    {
     "data": {
      "text/html": [
       "<pre style=\"margin: 0.1em;\n",
       "padding-left: 0.25em;\n",
       "border-left-style: solid;\n",
       "font-family: var(--jp-code-font-family);\n",
       "font-size: var(--jp-code-font-size);\n",
       "line-height: var(--jp-code-line-height);\n",
       "\"><span style=\"color: var(--jp-warn-color2)\">lsst.summit.utils.bestEffort</span> <span style=\"color: var(--jp-info-color0)\">INFO</span>: Found a ready-made quickLookExp in the repo. Returning that.</pre>"
      ],
      "text/plain": [
       "<IPython.core.display.HTML object>"
      ]
     },
     "metadata": {},
     "output_type": "display_data"
    },
    {
     "data": {
      "text/html": [
       "<pre style=\"margin: 0.1em;\n",
       "padding-left: 0.25em;\n",
       "border-left-style: solid;\n",
       "font-family: var(--jp-code-font-family);\n",
       "font-size: var(--jp-code-font-size);\n",
       "line-height: var(--jp-code-line-height);\n",
       "\"><span style=\"color: var(--jp-warn-color2)\">lsst.quickFrameMeasurementTask</span> <span style=\"color: var(--jp-info-color0)\">INFO</span>: Found 7 sources in exposure</pre>"
      ],
      "text/plain": [
       "<IPython.core.display.HTML object>"
      ]
     },
     "metadata": {},
     "output_type": "display_data"
    },
    {
     "data": {
      "text/html": [
       "<pre style=\"margin: 0.1em;\n",
       "padding-left: 0.25em;\n",
       "border-left-style: solid;\n",
       "font-family: var(--jp-code-font-family);\n",
       "font-size: var(--jp-code-font-size);\n",
       "line-height: var(--jp-code-line-height);\n",
       "\"><span style=\"color: var(--jp-warn-color2)\">lsst.quickFrameMeasurementTask</span> <span style=\"color: var(--jp-info-color0)\">INFO</span>: Measured 7 of 7 sources in exposure</pre>"
      ],
      "text/plain": [
       "<IPython.core.display.HTML object>"
      ]
     },
     "metadata": {},
     "output_type": "display_data"
    },
    {
     "name": "stdout",
     "output_type": "stream",
     "text": [
      "2022040700229\n"
     ]
    },
    {
     "data": {
      "text/html": [
       "<pre style=\"margin: 0.1em;\n",
       "padding-left: 0.25em;\n",
       "border-left-style: solid;\n",
       "font-family: var(--jp-code-font-family);\n",
       "font-size: var(--jp-code-font-size);\n",
       "line-height: var(--jp-code-line-height);\n",
       "\"><span style=\"color: var(--jp-warn-color2)\">lsst.summit.utils.bestEffort</span> <span style=\"color: var(--jp-info-color0)\">INFO</span>: Found a ready-made quickLookExp in the repo. Returning that.</pre>"
      ],
      "text/plain": [
       "<IPython.core.display.HTML object>"
      ]
     },
     "metadata": {},
     "output_type": "display_data"
    },
    {
     "data": {
      "text/html": [
       "<pre style=\"margin: 0.1em;\n",
       "padding-left: 0.25em;\n",
       "border-left-style: solid;\n",
       "font-family: var(--jp-code-font-family);\n",
       "font-size: var(--jp-code-font-size);\n",
       "line-height: var(--jp-code-line-height);\n",
       "\"><span style=\"color: var(--jp-warn-color2)\">lsst.quickFrameMeasurementTask</span> <span style=\"color: var(--jp-info-color0)\">INFO</span>: Found 35 sources in exposure</pre>"
      ],
      "text/plain": [
       "<IPython.core.display.HTML object>"
      ]
     },
     "metadata": {},
     "output_type": "display_data"
    },
    {
     "data": {
      "text/html": [
       "<pre style=\"margin: 0.1em;\n",
       "padding-left: 0.25em;\n",
       "border-left-style: solid;\n",
       "font-family: var(--jp-code-font-family);\n",
       "font-size: var(--jp-code-font-size);\n",
       "line-height: var(--jp-code-line-height);\n",
       "\"><span style=\"color: var(--jp-warn-color2)\">lsst.quickFrameMeasurementTask</span> <span style=\"color: var(--jp-info-color0)\">INFO</span>: Measured 35 of 35 sources in exposure</pre>"
      ],
      "text/plain": [
       "<IPython.core.display.HTML object>"
      ]
     },
     "metadata": {},
     "output_type": "display_data"
    },
    {
     "name": "stdout",
     "output_type": "stream",
     "text": [
      "2022040700231\n"
     ]
    },
    {
     "data": {
      "text/html": [
       "<pre style=\"margin: 0.1em;\n",
       "padding-left: 0.25em;\n",
       "border-left-style: solid;\n",
       "font-family: var(--jp-code-font-family);\n",
       "font-size: var(--jp-code-font-size);\n",
       "line-height: var(--jp-code-line-height);\n",
       "\"><span style=\"color: var(--jp-warn-color2)\">lsst.summit.utils.bestEffort</span> <span style=\"color: var(--jp-info-color0)\">INFO</span>: Found a ready-made quickLookExp in the repo. Returning that.</pre>"
      ],
      "text/plain": [
       "<IPython.core.display.HTML object>"
      ]
     },
     "metadata": {},
     "output_type": "display_data"
    },
    {
     "data": {
      "text/html": [
       "<pre style=\"margin: 0.1em;\n",
       "padding-left: 0.25em;\n",
       "border-left-style: solid;\n",
       "font-family: var(--jp-code-font-family);\n",
       "font-size: var(--jp-code-font-size);\n",
       "line-height: var(--jp-code-line-height);\n",
       "\"><span style=\"color: var(--jp-warn-color2)\">lsst.quickFrameMeasurementTask</span> <span style=\"color: var(--jp-info-color0)\">INFO</span>: Found 11 sources in exposure</pre>"
      ],
      "text/plain": [
       "<IPython.core.display.HTML object>"
      ]
     },
     "metadata": {},
     "output_type": "display_data"
    },
    {
     "data": {
      "text/html": [
       "<pre style=\"margin: 0.1em;\n",
       "padding-left: 0.25em;\n",
       "border-left-style: solid;\n",
       "font-family: var(--jp-code-font-family);\n",
       "font-size: var(--jp-code-font-size);\n",
       "line-height: var(--jp-code-line-height);\n",
       "\"><span style=\"color: var(--jp-warn-color2)\">lsst.quickFrameMeasurementTask</span> <span style=\"color: var(--jp-info-color0)\">INFO</span>: Measured 11 of 11 sources in exposure</pre>"
      ],
      "text/plain": [
       "<IPython.core.display.HTML object>"
      ]
     },
     "metadata": {},
     "output_type": "display_data"
    },
    {
     "name": "stdout",
     "output_type": "stream",
     "text": [
      "2022040700233\n"
     ]
    },
    {
     "data": {
      "text/html": [
       "<pre style=\"margin: 0.1em;\n",
       "padding-left: 0.25em;\n",
       "border-left-style: solid;\n",
       "font-family: var(--jp-code-font-family);\n",
       "font-size: var(--jp-code-font-size);\n",
       "line-height: var(--jp-code-line-height);\n",
       "\"><span style=\"color: var(--jp-warn-color2)\">lsst.summit.utils.bestEffort</span> <span style=\"color: var(--jp-info-color0)\">INFO</span>: Found a ready-made quickLookExp in the repo. Returning that.</pre>"
      ],
      "text/plain": [
       "<IPython.core.display.HTML object>"
      ]
     },
     "metadata": {},
     "output_type": "display_data"
    },
    {
     "data": {
      "text/html": [
       "<pre style=\"margin: 0.1em;\n",
       "padding-left: 0.25em;\n",
       "border-left-style: solid;\n",
       "font-family: var(--jp-code-font-family);\n",
       "font-size: var(--jp-code-font-size);\n",
       "line-height: var(--jp-code-line-height);\n",
       "\"><span style=\"color: var(--jp-warn-color2)\">lsst.quickFrameMeasurementTask</span> <span style=\"color: var(--jp-info-color0)\">INFO</span>: Found 9 sources in exposure</pre>"
      ],
      "text/plain": [
       "<IPython.core.display.HTML object>"
      ]
     },
     "metadata": {},
     "output_type": "display_data"
    },
    {
     "data": {
      "text/html": [
       "<pre style=\"margin: 0.1em;\n",
       "padding-left: 0.25em;\n",
       "border-left-style: solid;\n",
       "font-family: var(--jp-code-font-family);\n",
       "font-size: var(--jp-code-font-size);\n",
       "line-height: var(--jp-code-line-height);\n",
       "\"><span style=\"color: var(--jp-warn-color2)\">lsst.quickFrameMeasurementTask</span> <span style=\"color: var(--jp-info-color0)\">INFO</span>: Measured 9 of 9 sources in exposure</pre>"
      ],
      "text/plain": [
       "<IPython.core.display.HTML object>"
      ]
     },
     "metadata": {},
     "output_type": "display_data"
    },
    {
     "name": "stdout",
     "output_type": "stream",
     "text": [
      "2022040700235\n"
     ]
    },
    {
     "data": {
      "text/html": [
       "<pre style=\"margin: 0.1em;\n",
       "padding-left: 0.25em;\n",
       "border-left-style: solid;\n",
       "font-family: var(--jp-code-font-family);\n",
       "font-size: var(--jp-code-font-size);\n",
       "line-height: var(--jp-code-line-height);\n",
       "\"><span style=\"color: var(--jp-warn-color2)\">lsst.summit.utils.bestEffort</span> <span style=\"color: var(--jp-info-color0)\">INFO</span>: Found a ready-made quickLookExp in the repo. Returning that.</pre>"
      ],
      "text/plain": [
       "<IPython.core.display.HTML object>"
      ]
     },
     "metadata": {},
     "output_type": "display_data"
    },
    {
     "data": {
      "text/html": [
       "<pre style=\"margin: 0.1em;\n",
       "padding-left: 0.25em;\n",
       "border-left-style: solid;\n",
       "font-family: var(--jp-code-font-family);\n",
       "font-size: var(--jp-code-font-size);\n",
       "line-height: var(--jp-code-line-height);\n",
       "\"><span style=\"color: var(--jp-warn-color2)\">lsst.quickFrameMeasurementTask</span> <span style=\"color: var(--jp-info-color0)\">INFO</span>: Found 33 sources in exposure</pre>"
      ],
      "text/plain": [
       "<IPython.core.display.HTML object>"
      ]
     },
     "metadata": {},
     "output_type": "display_data"
    },
    {
     "data": {
      "text/html": [
       "<pre style=\"margin: 0.1em;\n",
       "padding-left: 0.25em;\n",
       "border-left-style: solid;\n",
       "font-family: var(--jp-code-font-family);\n",
       "font-size: var(--jp-code-font-size);\n",
       "line-height: var(--jp-code-line-height);\n",
       "\"><span style=\"color: var(--jp-warn-color2)\">lsst.quickFrameMeasurementTask</span> <span style=\"color: var(--jp-info-color0)\">INFO</span>: Measured 33 of 33 sources in exposure</pre>"
      ],
      "text/plain": [
       "<IPython.core.display.HTML object>"
      ]
     },
     "metadata": {},
     "output_type": "display_data"
    },
    {
     "name": "stdout",
     "output_type": "stream",
     "text": [
      "2022040700237\n"
     ]
    },
    {
     "data": {
      "text/html": [
       "<pre style=\"margin: 0.1em;\n",
       "padding-left: 0.25em;\n",
       "border-left-style: solid;\n",
       "font-family: var(--jp-code-font-family);\n",
       "font-size: var(--jp-code-font-size);\n",
       "line-height: var(--jp-code-line-height);\n",
       "\"><span style=\"color: var(--jp-warn-color2)\">lsst.summit.utils.bestEffort</span> <span style=\"color: var(--jp-info-color0)\">INFO</span>: Found a ready-made quickLookExp in the repo. Returning that.</pre>"
      ],
      "text/plain": [
       "<IPython.core.display.HTML object>"
      ]
     },
     "metadata": {},
     "output_type": "display_data"
    },
    {
     "data": {
      "text/html": [
       "<pre style=\"margin: 0.1em;\n",
       "padding-left: 0.25em;\n",
       "border-left-style: solid;\n",
       "font-family: var(--jp-code-font-family);\n",
       "font-size: var(--jp-code-font-size);\n",
       "line-height: var(--jp-code-line-height);\n",
       "\"><span style=\"color: var(--jp-warn-color2)\">lsst.quickFrameMeasurementTask</span> <span style=\"color: var(--jp-info-color0)\">INFO</span>: Found 27 sources in exposure</pre>"
      ],
      "text/plain": [
       "<IPython.core.display.HTML object>"
      ]
     },
     "metadata": {},
     "output_type": "display_data"
    },
    {
     "data": {
      "text/html": [
       "<pre style=\"margin: 0.1em;\n",
       "padding-left: 0.25em;\n",
       "border-left-style: solid;\n",
       "font-family: var(--jp-code-font-family);\n",
       "font-size: var(--jp-code-font-size);\n",
       "line-height: var(--jp-code-line-height);\n",
       "\"><span style=\"color: var(--jp-warn-color2)\">lsst.quickFrameMeasurementTask</span> <span style=\"color: var(--jp-info-color0)\">INFO</span>: Measured 27 of 27 sources in exposure</pre>"
      ],
      "text/plain": [
       "<IPython.core.display.HTML object>"
      ]
     },
     "metadata": {},
     "output_type": "display_data"
    },
    {
     "name": "stdout",
     "output_type": "stream",
     "text": [
      "2022040700239\n"
     ]
    },
    {
     "data": {
      "text/html": [
       "<pre style=\"margin: 0.1em;\n",
       "padding-left: 0.25em;\n",
       "border-left-style: solid;\n",
       "font-family: var(--jp-code-font-family);\n",
       "font-size: var(--jp-code-font-size);\n",
       "line-height: var(--jp-code-line-height);\n",
       "\"><span style=\"color: var(--jp-warn-color2)\">lsst.summit.utils.bestEffort</span> <span style=\"color: var(--jp-info-color0)\">INFO</span>: Found a ready-made quickLookExp in the repo. Returning that.</pre>"
      ],
      "text/plain": [
       "<IPython.core.display.HTML object>"
      ]
     },
     "metadata": {},
     "output_type": "display_data"
    },
    {
     "data": {
      "text/html": [
       "<pre style=\"margin: 0.1em;\n",
       "padding-left: 0.25em;\n",
       "border-left-style: solid;\n",
       "font-family: var(--jp-code-font-family);\n",
       "font-size: var(--jp-code-font-size);\n",
       "line-height: var(--jp-code-line-height);\n",
       "\"><span style=\"color: var(--jp-warn-color2)\">lsst.quickFrameMeasurementTask</span> <span style=\"color: var(--jp-info-color0)\">INFO</span>: Found 7 sources in exposure</pre>"
      ],
      "text/plain": [
       "<IPython.core.display.HTML object>"
      ]
     },
     "metadata": {},
     "output_type": "display_data"
    },
    {
     "data": {
      "text/html": [
       "<pre style=\"margin: 0.1em;\n",
       "padding-left: 0.25em;\n",
       "border-left-style: solid;\n",
       "font-family: var(--jp-code-font-family);\n",
       "font-size: var(--jp-code-font-size);\n",
       "line-height: var(--jp-code-line-height);\n",
       "\"><span style=\"color: var(--jp-warn-color2)\">lsst.quickFrameMeasurementTask</span> <span style=\"color: var(--jp-info-color0)\">INFO</span>: Measured 7 of 7 sources in exposure</pre>"
      ],
      "text/plain": [
       "<IPython.core.display.HTML object>"
      ]
     },
     "metadata": {},
     "output_type": "display_data"
    },
    {
     "name": "stdout",
     "output_type": "stream",
     "text": [
      "2022040700241\n"
     ]
    },
    {
     "data": {
      "text/html": [
       "<pre style=\"margin: 0.1em;\n",
       "padding-left: 0.25em;\n",
       "border-left-style: solid;\n",
       "font-family: var(--jp-code-font-family);\n",
       "font-size: var(--jp-code-font-size);\n",
       "line-height: var(--jp-code-line-height);\n",
       "\"><span style=\"color: var(--jp-warn-color2)\">lsst.summit.utils.bestEffort</span> <span style=\"color: var(--jp-info-color0)\">INFO</span>: Found a ready-made quickLookExp in the repo. Returning that.</pre>"
      ],
      "text/plain": [
       "<IPython.core.display.HTML object>"
      ]
     },
     "metadata": {},
     "output_type": "display_data"
    },
    {
     "data": {
      "text/html": [
       "<pre style=\"margin: 0.1em;\n",
       "padding-left: 0.25em;\n",
       "border-left-style: solid;\n",
       "font-family: var(--jp-code-font-family);\n",
       "font-size: var(--jp-code-font-size);\n",
       "line-height: var(--jp-code-line-height);\n",
       "\"><span style=\"color: var(--jp-warn-color2)\">lsst.quickFrameMeasurementTask</span> <span style=\"color: var(--jp-info-color0)\">INFO</span>: Found 20 sources in exposure</pre>"
      ],
      "text/plain": [
       "<IPython.core.display.HTML object>"
      ]
     },
     "metadata": {},
     "output_type": "display_data"
    },
    {
     "data": {
      "text/html": [
       "<pre style=\"margin: 0.1em;\n",
       "padding-left: 0.25em;\n",
       "border-left-style: solid;\n",
       "font-family: var(--jp-code-font-family);\n",
       "font-size: var(--jp-code-font-size);\n",
       "line-height: var(--jp-code-line-height);\n",
       "\"><span style=\"color: var(--jp-warn-color2)\">lsst.quickFrameMeasurementTask</span> <span style=\"color: var(--jp-info-color0)\">INFO</span>: Measured 20 of 20 sources in exposure</pre>"
      ],
      "text/plain": [
       "<IPython.core.display.HTML object>"
      ]
     },
     "metadata": {},
     "output_type": "display_data"
    },
    {
     "name": "stdout",
     "output_type": "stream",
     "text": [
      "2022040700243\n"
     ]
    },
    {
     "data": {
      "text/html": [
       "<pre style=\"margin: 0.1em;\n",
       "padding-left: 0.25em;\n",
       "border-left-style: solid;\n",
       "font-family: var(--jp-code-font-family);\n",
       "font-size: var(--jp-code-font-size);\n",
       "line-height: var(--jp-code-line-height);\n",
       "\"><span style=\"color: var(--jp-warn-color2)\">lsst.summit.utils.bestEffort</span> <span style=\"color: var(--jp-info-color0)\">INFO</span>: Found a ready-made quickLookExp in the repo. Returning that.</pre>"
      ],
      "text/plain": [
       "<IPython.core.display.HTML object>"
      ]
     },
     "metadata": {},
     "output_type": "display_data"
    },
    {
     "data": {
      "text/html": [
       "<pre style=\"margin: 0.1em;\n",
       "padding-left: 0.25em;\n",
       "border-left-style: solid;\n",
       "font-family: var(--jp-code-font-family);\n",
       "font-size: var(--jp-code-font-size);\n",
       "line-height: var(--jp-code-line-height);\n",
       "\"><span style=\"color: var(--jp-warn-color2)\">lsst.quickFrameMeasurementTask</span> <span style=\"color: var(--jp-info-color0)\">INFO</span>: Found 42 sources in exposure</pre>"
      ],
      "text/plain": [
       "<IPython.core.display.HTML object>"
      ]
     },
     "metadata": {},
     "output_type": "display_data"
    },
    {
     "data": {
      "text/html": [
       "<pre style=\"margin: 0.1em;\n",
       "padding-left: 0.25em;\n",
       "border-left-style: solid;\n",
       "font-family: var(--jp-code-font-family);\n",
       "font-size: var(--jp-code-font-size);\n",
       "line-height: var(--jp-code-line-height);\n",
       "\"><span style=\"color: var(--jp-warn-color2)\">lsst.quickFrameMeasurementTask</span> <span style=\"color: var(--jp-info-color0)\">INFO</span>: Measured 42 of 42 sources in exposure</pre>"
      ],
      "text/plain": [
       "<IPython.core.display.HTML object>"
      ]
     },
     "metadata": {},
     "output_type": "display_data"
    },
    {
     "name": "stdout",
     "output_type": "stream",
     "text": [
      "2022040700245\n"
     ]
    },
    {
     "data": {
      "text/html": [
       "<pre style=\"margin: 0.1em;\n",
       "padding-left: 0.25em;\n",
       "border-left-style: solid;\n",
       "font-family: var(--jp-code-font-family);\n",
       "font-size: var(--jp-code-font-size);\n",
       "line-height: var(--jp-code-line-height);\n",
       "\"><span style=\"color: var(--jp-warn-color2)\">lsst.summit.utils.bestEffort</span> <span style=\"color: var(--jp-info-color0)\">INFO</span>: Found a ready-made quickLookExp in the repo. Returning that.</pre>"
      ],
      "text/plain": [
       "<IPython.core.display.HTML object>"
      ]
     },
     "metadata": {},
     "output_type": "display_data"
    },
    {
     "data": {
      "text/html": [
       "<pre style=\"margin: 0.1em;\n",
       "padding-left: 0.25em;\n",
       "border-left-style: solid;\n",
       "font-family: var(--jp-code-font-family);\n",
       "font-size: var(--jp-code-font-size);\n",
       "line-height: var(--jp-code-line-height);\n",
       "\"><span style=\"color: var(--jp-warn-color2)\">lsst.quickFrameMeasurementTask</span> <span style=\"color: var(--jp-info-color0)\">INFO</span>: Found 12 sources in exposure</pre>"
      ],
      "text/plain": [
       "<IPython.core.display.HTML object>"
      ]
     },
     "metadata": {},
     "output_type": "display_data"
    },
    {
     "data": {
      "text/html": [
       "<pre style=\"margin: 0.1em;\n",
       "padding-left: 0.25em;\n",
       "border-left-style: solid;\n",
       "font-family: var(--jp-code-font-family);\n",
       "font-size: var(--jp-code-font-size);\n",
       "line-height: var(--jp-code-line-height);\n",
       "\"><span style=\"color: var(--jp-warn-color2)\">lsst.quickFrameMeasurementTask</span> <span style=\"color: var(--jp-info-color0)\">INFO</span>: Measured 12 of 12 sources in exposure</pre>"
      ],
      "text/plain": [
       "<IPython.core.display.HTML object>"
      ]
     },
     "metadata": {},
     "output_type": "display_data"
    },
    {
     "name": "stdout",
     "output_type": "stream",
     "text": [
      "2022040700247\n"
     ]
    },
    {
     "data": {
      "text/html": [
       "<pre style=\"margin: 0.1em;\n",
       "padding-left: 0.25em;\n",
       "border-left-style: solid;\n",
       "font-family: var(--jp-code-font-family);\n",
       "font-size: var(--jp-code-font-size);\n",
       "line-height: var(--jp-code-line-height);\n",
       "\"><span style=\"color: var(--jp-warn-color2)\">lsst.summit.utils.bestEffort</span> <span style=\"color: var(--jp-info-color0)\">INFO</span>: Found a ready-made quickLookExp in the repo. Returning that.</pre>"
      ],
      "text/plain": [
       "<IPython.core.display.HTML object>"
      ]
     },
     "metadata": {},
     "output_type": "display_data"
    },
    {
     "data": {
      "text/html": [
       "<pre style=\"margin: 0.1em;\n",
       "padding-left: 0.25em;\n",
       "border-left-style: solid;\n",
       "font-family: var(--jp-code-font-family);\n",
       "font-size: var(--jp-code-font-size);\n",
       "line-height: var(--jp-code-line-height);\n",
       "\"><span style=\"color: var(--jp-warn-color2)\">lsst.quickFrameMeasurementTask</span> <span style=\"color: var(--jp-info-color0)\">INFO</span>: Found 40 sources in exposure</pre>"
      ],
      "text/plain": [
       "<IPython.core.display.HTML object>"
      ]
     },
     "metadata": {},
     "output_type": "display_data"
    },
    {
     "data": {
      "text/html": [
       "<pre style=\"margin: 0.1em;\n",
       "padding-left: 0.25em;\n",
       "border-left-style: solid;\n",
       "font-family: var(--jp-code-font-family);\n",
       "font-size: var(--jp-code-font-size);\n",
       "line-height: var(--jp-code-line-height);\n",
       "\"><span style=\"color: var(--jp-warn-color2)\">lsst.quickFrameMeasurementTask</span> <span style=\"color: var(--jp-info-color0)\">INFO</span>: Measured 40 of 40 sources in exposure</pre>"
      ],
      "text/plain": [
       "<IPython.core.display.HTML object>"
      ]
     },
     "metadata": {},
     "output_type": "display_data"
    },
    {
     "name": "stdout",
     "output_type": "stream",
     "text": [
      "2022040700249\n"
     ]
    },
    {
     "data": {
      "text/html": [
       "<pre style=\"margin: 0.1em;\n",
       "padding-left: 0.25em;\n",
       "border-left-style: solid;\n",
       "font-family: var(--jp-code-font-family);\n",
       "font-size: var(--jp-code-font-size);\n",
       "line-height: var(--jp-code-line-height);\n",
       "\"><span style=\"color: var(--jp-warn-color2)\">lsst.summit.utils.bestEffort</span> <span style=\"color: var(--jp-info-color0)\">INFO</span>: Found a ready-made quickLookExp in the repo. Returning that.</pre>"
      ],
      "text/plain": [
       "<IPython.core.display.HTML object>"
      ]
     },
     "metadata": {},
     "output_type": "display_data"
    },
    {
     "data": {
      "text/html": [
       "<pre style=\"margin: 0.1em;\n",
       "padding-left: 0.25em;\n",
       "border-left-style: solid;\n",
       "font-family: var(--jp-code-font-family);\n",
       "font-size: var(--jp-code-font-size);\n",
       "line-height: var(--jp-code-line-height);\n",
       "\"><span style=\"color: var(--jp-warn-color2)\">lsst.quickFrameMeasurementTask</span> <span style=\"color: var(--jp-info-color0)\">INFO</span>: Found 28 sources in exposure</pre>"
      ],
      "text/plain": [
       "<IPython.core.display.HTML object>"
      ]
     },
     "metadata": {},
     "output_type": "display_data"
    },
    {
     "data": {
      "text/html": [
       "<pre style=\"margin: 0.1em;\n",
       "padding-left: 0.25em;\n",
       "border-left-style: solid;\n",
       "font-family: var(--jp-code-font-family);\n",
       "font-size: var(--jp-code-font-size);\n",
       "line-height: var(--jp-code-line-height);\n",
       "\"><span style=\"color: var(--jp-warn-color2)\">lsst.quickFrameMeasurementTask</span> <span style=\"color: var(--jp-info-color0)\">INFO</span>: Measured 28 of 28 sources in exposure</pre>"
      ],
      "text/plain": [
       "<IPython.core.display.HTML object>"
      ]
     },
     "metadata": {},
     "output_type": "display_data"
    },
    {
     "name": "stdout",
     "output_type": "stream",
     "text": [
      "2022040700251\n"
     ]
    },
    {
     "data": {
      "text/html": [
       "<pre style=\"margin: 0.1em;\n",
       "padding-left: 0.25em;\n",
       "border-left-style: solid;\n",
       "font-family: var(--jp-code-font-family);\n",
       "font-size: var(--jp-code-font-size);\n",
       "line-height: var(--jp-code-line-height);\n",
       "\"><span style=\"color: var(--jp-warn-color2)\">lsst.summit.utils.bestEffort</span> <span style=\"color: var(--jp-info-color0)\">INFO</span>: Found a ready-made quickLookExp in the repo. Returning that.</pre>"
      ],
      "text/plain": [
       "<IPython.core.display.HTML object>"
      ]
     },
     "metadata": {},
     "output_type": "display_data"
    },
    {
     "data": {
      "text/html": [
       "<pre style=\"margin: 0.1em;\n",
       "padding-left: 0.25em;\n",
       "border-left-style: solid;\n",
       "font-family: var(--jp-code-font-family);\n",
       "font-size: var(--jp-code-font-size);\n",
       "line-height: var(--jp-code-line-height);\n",
       "\"><span style=\"color: var(--jp-warn-color2)\">lsst.quickFrameMeasurementTask</span> <span style=\"color: var(--jp-info-color0)\">INFO</span>: Found 29 sources in exposure</pre>"
      ],
      "text/plain": [
       "<IPython.core.display.HTML object>"
      ]
     },
     "metadata": {},
     "output_type": "display_data"
    },
    {
     "data": {
      "text/html": [
       "<pre style=\"margin: 0.1em;\n",
       "padding-left: 0.25em;\n",
       "border-left-style: solid;\n",
       "font-family: var(--jp-code-font-family);\n",
       "font-size: var(--jp-code-font-size);\n",
       "line-height: var(--jp-code-line-height);\n",
       "\"><span style=\"color: var(--jp-warn-color2)\">lsst.quickFrameMeasurementTask</span> <span style=\"color: var(--jp-info-color0)\">INFO</span>: Measured 29 of 29 sources in exposure</pre>"
      ],
      "text/plain": [
       "<IPython.core.display.HTML object>"
      ]
     },
     "metadata": {},
     "output_type": "display_data"
    },
    {
     "name": "stdout",
     "output_type": "stream",
     "text": [
      "2022040700253\n"
     ]
    },
    {
     "data": {
      "text/html": [
       "<pre style=\"margin: 0.1em;\n",
       "padding-left: 0.25em;\n",
       "border-left-style: solid;\n",
       "font-family: var(--jp-code-font-family);\n",
       "font-size: var(--jp-code-font-size);\n",
       "line-height: var(--jp-code-line-height);\n",
       "\"><span style=\"color: var(--jp-warn-color2)\">lsst.summit.utils.bestEffort</span> <span style=\"color: var(--jp-info-color0)\">INFO</span>: Found a ready-made quickLookExp in the repo. Returning that.</pre>"
      ],
      "text/plain": [
       "<IPython.core.display.HTML object>"
      ]
     },
     "metadata": {},
     "output_type": "display_data"
    },
    {
     "data": {
      "text/html": [
       "<pre style=\"margin: 0.1em;\n",
       "padding-left: 0.25em;\n",
       "border-left-style: solid;\n",
       "font-family: var(--jp-code-font-family);\n",
       "font-size: var(--jp-code-font-size);\n",
       "line-height: var(--jp-code-line-height);\n",
       "\"><span style=\"color: var(--jp-warn-color2)\">lsst.quickFrameMeasurementTask</span> <span style=\"color: var(--jp-info-color0)\">INFO</span>: Found 22 sources in exposure</pre>"
      ],
      "text/plain": [
       "<IPython.core.display.HTML object>"
      ]
     },
     "metadata": {},
     "output_type": "display_data"
    },
    {
     "data": {
      "text/html": [
       "<pre style=\"margin: 0.1em;\n",
       "padding-left: 0.25em;\n",
       "border-left-style: solid;\n",
       "font-family: var(--jp-code-font-family);\n",
       "font-size: var(--jp-code-font-size);\n",
       "line-height: var(--jp-code-line-height);\n",
       "\"><span style=\"color: var(--jp-warn-color2)\">lsst.quickFrameMeasurementTask</span> <span style=\"color: var(--jp-info-color0)\">INFO</span>: Measured 22 of 22 sources in exposure</pre>"
      ],
      "text/plain": [
       "<IPython.core.display.HTML object>"
      ]
     },
     "metadata": {},
     "output_type": "display_data"
    },
    {
     "name": "stdout",
     "output_type": "stream",
     "text": [
      "2022040700255\n"
     ]
    },
    {
     "data": {
      "text/html": [
       "<pre style=\"margin: 0.1em;\n",
       "padding-left: 0.25em;\n",
       "border-left-style: solid;\n",
       "font-family: var(--jp-code-font-family);\n",
       "font-size: var(--jp-code-font-size);\n",
       "line-height: var(--jp-code-line-height);\n",
       "\"><span style=\"color: var(--jp-warn-color2)\">lsst.summit.utils.bestEffort</span> <span style=\"color: var(--jp-info-color0)\">INFO</span>: Found a ready-made quickLookExp in the repo. Returning that.</pre>"
      ],
      "text/plain": [
       "<IPython.core.display.HTML object>"
      ]
     },
     "metadata": {},
     "output_type": "display_data"
    },
    {
     "data": {
      "text/html": [
       "<pre style=\"margin: 0.1em;\n",
       "padding-left: 0.25em;\n",
       "border-left-style: solid;\n",
       "font-family: var(--jp-code-font-family);\n",
       "font-size: var(--jp-code-font-size);\n",
       "line-height: var(--jp-code-line-height);\n",
       "\"><span style=\"color: var(--jp-warn-color2)\">lsst.quickFrameMeasurementTask</span> <span style=\"color: var(--jp-info-color0)\">INFO</span>: Found 14 sources in exposure</pre>"
      ],
      "text/plain": [
       "<IPython.core.display.HTML object>"
      ]
     },
     "metadata": {},
     "output_type": "display_data"
    },
    {
     "data": {
      "text/html": [
       "<pre style=\"margin: 0.1em;\n",
       "padding-left: 0.25em;\n",
       "border-left-style: solid;\n",
       "font-family: var(--jp-code-font-family);\n",
       "font-size: var(--jp-code-font-size);\n",
       "line-height: var(--jp-code-line-height);\n",
       "\"><span style=\"color: var(--jp-warn-color2)\">lsst.quickFrameMeasurementTask</span> <span style=\"color: var(--jp-info-color0)\">INFO</span>: Measured 14 of 14 sources in exposure</pre>"
      ],
      "text/plain": [
       "<IPython.core.display.HTML object>"
      ]
     },
     "metadata": {},
     "output_type": "display_data"
    },
    {
     "name": "stdout",
     "output_type": "stream",
     "text": [
      "2022040700257\n"
     ]
    },
    {
     "data": {
      "text/html": [
       "<pre style=\"margin: 0.1em;\n",
       "padding-left: 0.25em;\n",
       "border-left-style: solid;\n",
       "font-family: var(--jp-code-font-family);\n",
       "font-size: var(--jp-code-font-size);\n",
       "line-height: var(--jp-code-line-height);\n",
       "\"><span style=\"color: var(--jp-warn-color2)\">lsst.summit.utils.bestEffort</span> <span style=\"color: var(--jp-info-color0)\">INFO</span>: Found a ready-made quickLookExp in the repo. Returning that.</pre>"
      ],
      "text/plain": [
       "<IPython.core.display.HTML object>"
      ]
     },
     "metadata": {},
     "output_type": "display_data"
    },
    {
     "data": {
      "text/html": [
       "<pre style=\"margin: 0.1em;\n",
       "padding-left: 0.25em;\n",
       "border-left-style: solid;\n",
       "font-family: var(--jp-code-font-family);\n",
       "font-size: var(--jp-code-font-size);\n",
       "line-height: var(--jp-code-line-height);\n",
       "\"><span style=\"color: var(--jp-warn-color2)\">lsst.quickFrameMeasurementTask</span> <span style=\"color: var(--jp-info-color0)\">INFO</span>: Found 8 sources in exposure</pre>"
      ],
      "text/plain": [
       "<IPython.core.display.HTML object>"
      ]
     },
     "metadata": {},
     "output_type": "display_data"
    },
    {
     "data": {
      "text/html": [
       "<pre style=\"margin: 0.1em;\n",
       "padding-left: 0.25em;\n",
       "border-left-style: solid;\n",
       "font-family: var(--jp-code-font-family);\n",
       "font-size: var(--jp-code-font-size);\n",
       "line-height: var(--jp-code-line-height);\n",
       "\"><span style=\"color: var(--jp-warn-color2)\">lsst.quickFrameMeasurementTask</span> <span style=\"color: var(--jp-info-color0)\">INFO</span>: Measured 8 of 8 sources in exposure</pre>"
      ],
      "text/plain": [
       "<IPython.core.display.HTML object>"
      ]
     },
     "metadata": {},
     "output_type": "display_data"
    },
    {
     "name": "stdout",
     "output_type": "stream",
     "text": [
      "2022040700259\n"
     ]
    },
    {
     "data": {
      "text/html": [
       "<pre style=\"margin: 0.1em;\n",
       "padding-left: 0.25em;\n",
       "border-left-style: solid;\n",
       "font-family: var(--jp-code-font-family);\n",
       "font-size: var(--jp-code-font-size);\n",
       "line-height: var(--jp-code-line-height);\n",
       "\"><span style=\"color: var(--jp-warn-color2)\">lsst.summit.utils.bestEffort</span> <span style=\"color: var(--jp-info-color0)\">INFO</span>: Found a ready-made quickLookExp in the repo. Returning that.</pre>"
      ],
      "text/plain": [
       "<IPython.core.display.HTML object>"
      ]
     },
     "metadata": {},
     "output_type": "display_data"
    },
    {
     "data": {
      "text/html": [
       "<pre style=\"margin: 0.1em;\n",
       "padding-left: 0.25em;\n",
       "border-left-style: solid;\n",
       "font-family: var(--jp-code-font-family);\n",
       "font-size: var(--jp-code-font-size);\n",
       "line-height: var(--jp-code-line-height);\n",
       "\"><span style=\"color: var(--jp-warn-color2)\">lsst.quickFrameMeasurementTask</span> <span style=\"color: var(--jp-info-color0)\">INFO</span>: Found 6 sources in exposure</pre>"
      ],
      "text/plain": [
       "<IPython.core.display.HTML object>"
      ]
     },
     "metadata": {},
     "output_type": "display_data"
    },
    {
     "data": {
      "text/html": [
       "<pre style=\"margin: 0.1em;\n",
       "padding-left: 0.25em;\n",
       "border-left-style: solid;\n",
       "font-family: var(--jp-code-font-family);\n",
       "font-size: var(--jp-code-font-size);\n",
       "line-height: var(--jp-code-line-height);\n",
       "\"><span style=\"color: var(--jp-warn-color2)\">lsst.quickFrameMeasurementTask</span> <span style=\"color: var(--jp-info-color0)\">INFO</span>: Measured 6 of 6 sources in exposure</pre>"
      ],
      "text/plain": [
       "<IPython.core.display.HTML object>"
      ]
     },
     "metadata": {},
     "output_type": "display_data"
    },
    {
     "name": "stdout",
     "output_type": "stream",
     "text": [
      "2022040700261\n"
     ]
    },
    {
     "data": {
      "text/html": [
       "<pre style=\"margin: 0.1em;\n",
       "padding-left: 0.25em;\n",
       "border-left-style: solid;\n",
       "font-family: var(--jp-code-font-family);\n",
       "font-size: var(--jp-code-font-size);\n",
       "line-height: var(--jp-code-line-height);\n",
       "\"><span style=\"color: var(--jp-warn-color2)\">lsst.summit.utils.bestEffort</span> <span style=\"color: var(--jp-info-color0)\">INFO</span>: Found a ready-made quickLookExp in the repo. Returning that.</pre>"
      ],
      "text/plain": [
       "<IPython.core.display.HTML object>"
      ]
     },
     "metadata": {},
     "output_type": "display_data"
    },
    {
     "data": {
      "text/html": [
       "<pre style=\"margin: 0.1em;\n",
       "padding-left: 0.25em;\n",
       "border-left-style: solid;\n",
       "font-family: var(--jp-code-font-family);\n",
       "font-size: var(--jp-code-font-size);\n",
       "line-height: var(--jp-code-line-height);\n",
       "\"><span style=\"color: var(--jp-warn-color2)\">lsst.quickFrameMeasurementTask</span> <span style=\"color: var(--jp-info-color0)\">INFO</span>: Found 8 sources in exposure</pre>"
      ],
      "text/plain": [
       "<IPython.core.display.HTML object>"
      ]
     },
     "metadata": {},
     "output_type": "display_data"
    },
    {
     "data": {
      "text/html": [
       "<pre style=\"margin: 0.1em;\n",
       "padding-left: 0.25em;\n",
       "border-left-style: solid;\n",
       "font-family: var(--jp-code-font-family);\n",
       "font-size: var(--jp-code-font-size);\n",
       "line-height: var(--jp-code-line-height);\n",
       "\"><span style=\"color: var(--jp-warn-color2)\">lsst.quickFrameMeasurementTask</span> <span style=\"color: var(--jp-info-color0)\">INFO</span>: Measured 8 of 8 sources in exposure</pre>"
      ],
      "text/plain": [
       "<IPython.core.display.HTML object>"
      ]
     },
     "metadata": {},
     "output_type": "display_data"
    },
    {
     "name": "stdout",
     "output_type": "stream",
     "text": [
      "2022040700263\n"
     ]
    },
    {
     "data": {
      "text/html": [
       "<pre style=\"margin: 0.1em;\n",
       "padding-left: 0.25em;\n",
       "border-left-style: solid;\n",
       "font-family: var(--jp-code-font-family);\n",
       "font-size: var(--jp-code-font-size);\n",
       "line-height: var(--jp-code-line-height);\n",
       "\"><span style=\"color: var(--jp-warn-color2)\">lsst.summit.utils.bestEffort</span> <span style=\"color: var(--jp-info-color0)\">INFO</span>: Found a ready-made quickLookExp in the repo. Returning that.</pre>"
      ],
      "text/plain": [
       "<IPython.core.display.HTML object>"
      ]
     },
     "metadata": {},
     "output_type": "display_data"
    },
    {
     "data": {
      "text/html": [
       "<pre style=\"margin: 0.1em;\n",
       "padding-left: 0.25em;\n",
       "border-left-style: solid;\n",
       "font-family: var(--jp-code-font-family);\n",
       "font-size: var(--jp-code-font-size);\n",
       "line-height: var(--jp-code-line-height);\n",
       "\"><span style=\"color: var(--jp-warn-color2)\">lsst.quickFrameMeasurementTask</span> <span style=\"color: var(--jp-info-color0)\">INFO</span>: Found 7 sources in exposure</pre>"
      ],
      "text/plain": [
       "<IPython.core.display.HTML object>"
      ]
     },
     "metadata": {},
     "output_type": "display_data"
    },
    {
     "data": {
      "text/html": [
       "<pre style=\"margin: 0.1em;\n",
       "padding-left: 0.25em;\n",
       "border-left-style: solid;\n",
       "font-family: var(--jp-code-font-family);\n",
       "font-size: var(--jp-code-font-size);\n",
       "line-height: var(--jp-code-line-height);\n",
       "\"><span style=\"color: var(--jp-warn-color2)\">lsst.quickFrameMeasurementTask</span> <span style=\"color: var(--jp-info-color0)\">INFO</span>: Measured 7 of 7 sources in exposure</pre>"
      ],
      "text/plain": [
       "<IPython.core.display.HTML object>"
      ]
     },
     "metadata": {},
     "output_type": "display_data"
    },
    {
     "name": "stdout",
     "output_type": "stream",
     "text": [
      "2022040700265\n"
     ]
    },
    {
     "data": {
      "text/html": [
       "<pre style=\"margin: 0.1em;\n",
       "padding-left: 0.25em;\n",
       "border-left-style: solid;\n",
       "font-family: var(--jp-code-font-family);\n",
       "font-size: var(--jp-code-font-size);\n",
       "line-height: var(--jp-code-line-height);\n",
       "\"><span style=\"color: var(--jp-warn-color2)\">lsst.summit.utils.bestEffort</span> <span style=\"color: var(--jp-info-color0)\">INFO</span>: Found a ready-made quickLookExp in the repo. Returning that.</pre>"
      ],
      "text/plain": [
       "<IPython.core.display.HTML object>"
      ]
     },
     "metadata": {},
     "output_type": "display_data"
    },
    {
     "data": {
      "text/html": [
       "<pre style=\"margin: 0.1em;\n",
       "padding-left: 0.25em;\n",
       "border-left-style: solid;\n",
       "font-family: var(--jp-code-font-family);\n",
       "font-size: var(--jp-code-font-size);\n",
       "line-height: var(--jp-code-line-height);\n",
       "\"><span style=\"color: var(--jp-warn-color2)\">lsst.quickFrameMeasurementTask</span> <span style=\"color: var(--jp-info-color0)\">INFO</span>: Found 6 sources in exposure</pre>"
      ],
      "text/plain": [
       "<IPython.core.display.HTML object>"
      ]
     },
     "metadata": {},
     "output_type": "display_data"
    },
    {
     "data": {
      "text/html": [
       "<pre style=\"margin: 0.1em;\n",
       "padding-left: 0.25em;\n",
       "border-left-style: solid;\n",
       "font-family: var(--jp-code-font-family);\n",
       "font-size: var(--jp-code-font-size);\n",
       "line-height: var(--jp-code-line-height);\n",
       "\"><span style=\"color: var(--jp-warn-color2)\">lsst.quickFrameMeasurementTask</span> <span style=\"color: var(--jp-info-color0)\">INFO</span>: Measured 6 of 6 sources in exposure</pre>"
      ],
      "text/plain": [
       "<IPython.core.display.HTML object>"
      ]
     },
     "metadata": {},
     "output_type": "display_data"
    },
    {
     "name": "stdout",
     "output_type": "stream",
     "text": [
      "2022040700267\n"
     ]
    },
    {
     "data": {
      "text/html": [
       "<pre style=\"margin: 0.1em;\n",
       "padding-left: 0.25em;\n",
       "border-left-style: solid;\n",
       "font-family: var(--jp-code-font-family);\n",
       "font-size: var(--jp-code-font-size);\n",
       "line-height: var(--jp-code-line-height);\n",
       "\"><span style=\"color: var(--jp-warn-color2)\">lsst.summit.utils.bestEffort</span> <span style=\"color: var(--jp-info-color0)\">INFO</span>: Found a ready-made quickLookExp in the repo. Returning that.</pre>"
      ],
      "text/plain": [
       "<IPython.core.display.HTML object>"
      ]
     },
     "metadata": {},
     "output_type": "display_data"
    },
    {
     "data": {
      "text/html": [
       "<pre style=\"margin: 0.1em;\n",
       "padding-left: 0.25em;\n",
       "border-left-style: solid;\n",
       "font-family: var(--jp-code-font-family);\n",
       "font-size: var(--jp-code-font-size);\n",
       "line-height: var(--jp-code-line-height);\n",
       "\"><span style=\"color: var(--jp-warn-color2)\">lsst.quickFrameMeasurementTask</span> <span style=\"color: var(--jp-info-color0)\">INFO</span>: Found 29 sources in exposure</pre>"
      ],
      "text/plain": [
       "<IPython.core.display.HTML object>"
      ]
     },
     "metadata": {},
     "output_type": "display_data"
    },
    {
     "data": {
      "text/html": [
       "<pre style=\"margin: 0.1em;\n",
       "padding-left: 0.25em;\n",
       "border-left-style: solid;\n",
       "font-family: var(--jp-code-font-family);\n",
       "font-size: var(--jp-code-font-size);\n",
       "line-height: var(--jp-code-line-height);\n",
       "\"><span style=\"color: var(--jp-warn-color2)\">lsst.quickFrameMeasurementTask</span> <span style=\"color: var(--jp-info-color0)\">INFO</span>: Measured 29 of 29 sources in exposure</pre>"
      ],
      "text/plain": [
       "<IPython.core.display.HTML object>"
      ]
     },
     "metadata": {},
     "output_type": "display_data"
    },
    {
     "name": "stdout",
     "output_type": "stream",
     "text": [
      "2022040700269\n"
     ]
    },
    {
     "data": {
      "text/html": [
       "<pre style=\"margin: 0.1em;\n",
       "padding-left: 0.25em;\n",
       "border-left-style: solid;\n",
       "font-family: var(--jp-code-font-family);\n",
       "font-size: var(--jp-code-font-size);\n",
       "line-height: var(--jp-code-line-height);\n",
       "\"><span style=\"color: var(--jp-warn-color2)\">lsst.summit.utils.bestEffort</span> <span style=\"color: var(--jp-info-color0)\">INFO</span>: Found a ready-made quickLookExp in the repo. Returning that.</pre>"
      ],
      "text/plain": [
       "<IPython.core.display.HTML object>"
      ]
     },
     "metadata": {},
     "output_type": "display_data"
    },
    {
     "data": {
      "text/html": [
       "<pre style=\"margin: 0.1em;\n",
       "padding-left: 0.25em;\n",
       "border-left-style: solid;\n",
       "font-family: var(--jp-code-font-family);\n",
       "font-size: var(--jp-code-font-size);\n",
       "line-height: var(--jp-code-line-height);\n",
       "\"><span style=\"color: var(--jp-warn-color2)\">lsst.quickFrameMeasurementTask</span> <span style=\"color: var(--jp-info-color0)\">INFO</span>: Found 24 sources in exposure</pre>"
      ],
      "text/plain": [
       "<IPython.core.display.HTML object>"
      ]
     },
     "metadata": {},
     "output_type": "display_data"
    },
    {
     "data": {
      "text/html": [
       "<pre style=\"margin: 0.1em;\n",
       "padding-left: 0.25em;\n",
       "border-left-style: solid;\n",
       "font-family: var(--jp-code-font-family);\n",
       "font-size: var(--jp-code-font-size);\n",
       "line-height: var(--jp-code-line-height);\n",
       "\"><span style=\"color: var(--jp-warn-color2)\">lsst.quickFrameMeasurementTask</span> <span style=\"color: var(--jp-info-color0)\">INFO</span>: Measured 24 of 24 sources in exposure</pre>"
      ],
      "text/plain": [
       "<IPython.core.display.HTML object>"
      ]
     },
     "metadata": {},
     "output_type": "display_data"
    },
    {
     "name": "stdout",
     "output_type": "stream",
     "text": [
      "2022040700271\n"
     ]
    },
    {
     "data": {
      "text/html": [
       "<pre style=\"margin: 0.1em;\n",
       "padding-left: 0.25em;\n",
       "border-left-style: solid;\n",
       "font-family: var(--jp-code-font-family);\n",
       "font-size: var(--jp-code-font-size);\n",
       "line-height: var(--jp-code-line-height);\n",
       "\"><span style=\"color: var(--jp-warn-color2)\">lsst.summit.utils.bestEffort</span> <span style=\"color: var(--jp-info-color0)\">INFO</span>: Found a ready-made quickLookExp in the repo. Returning that.</pre>"
      ],
      "text/plain": [
       "<IPython.core.display.HTML object>"
      ]
     },
     "metadata": {},
     "output_type": "display_data"
    },
    {
     "data": {
      "text/html": [
       "<pre style=\"margin: 0.1em;\n",
       "padding-left: 0.25em;\n",
       "border-left-style: solid;\n",
       "font-family: var(--jp-code-font-family);\n",
       "font-size: var(--jp-code-font-size);\n",
       "line-height: var(--jp-code-line-height);\n",
       "\"><span style=\"color: var(--jp-warn-color2)\">lsst.quickFrameMeasurementTask</span> <span style=\"color: var(--jp-info-color0)\">INFO</span>: Found 4 sources in exposure</pre>"
      ],
      "text/plain": [
       "<IPython.core.display.HTML object>"
      ]
     },
     "metadata": {},
     "output_type": "display_data"
    },
    {
     "data": {
      "text/html": [
       "<pre style=\"margin: 0.1em;\n",
       "padding-left: 0.25em;\n",
       "border-left-style: solid;\n",
       "font-family: var(--jp-code-font-family);\n",
       "font-size: var(--jp-code-font-size);\n",
       "line-height: var(--jp-code-line-height);\n",
       "\"><span style=\"color: var(--jp-warn-color2)\">lsst.quickFrameMeasurementTask</span> <span style=\"color: var(--jp-info-color0)\">INFO</span>: Measured 4 of 4 sources in exposure</pre>"
      ],
      "text/plain": [
       "<IPython.core.display.HTML object>"
      ]
     },
     "metadata": {},
     "output_type": "display_data"
    },
    {
     "data": {
      "text/html": [
       "<pre style=\"margin: 0.1em;\n",
       "padding-left: 0.25em;\n",
       "border-left-style: solid;\n",
       "font-family: var(--jp-code-font-family);\n",
       "font-size: var(--jp-code-font-size);\n",
       "line-height: var(--jp-code-line-height);\n",
       "\"><span style=\"color: var(--jp-warn-color2)\">lsst.quickFrameMeasurementTask</span> <span style=\"color: var(--jp-warn-color0)\">WARNING</span>: Failed to find main source centroid No sources in image passed cuts</pre>"
      ],
      "text/plain": [
       "<IPython.core.display.HTML object>"
      ]
     },
     "metadata": {},
     "output_type": "display_data"
    },
    {
     "name": "stdout",
     "output_type": "stream",
     "text": [
      "2022040700273\n"
     ]
    },
    {
     "data": {
      "text/html": [
       "<pre style=\"margin: 0.1em;\n",
       "padding-left: 0.25em;\n",
       "border-left-style: solid;\n",
       "font-family: var(--jp-code-font-family);\n",
       "font-size: var(--jp-code-font-size);\n",
       "line-height: var(--jp-code-line-height);\n",
       "\"><span style=\"color: var(--jp-warn-color2)\">lsst.summit.utils.bestEffort</span> <span style=\"color: var(--jp-info-color0)\">INFO</span>: Found a ready-made quickLookExp in the repo. Returning that.</pre>"
      ],
      "text/plain": [
       "<IPython.core.display.HTML object>"
      ]
     },
     "metadata": {},
     "output_type": "display_data"
    },
    {
     "data": {
      "text/html": [
       "<pre style=\"margin: 0.1em;\n",
       "padding-left: 0.25em;\n",
       "border-left-style: solid;\n",
       "font-family: var(--jp-code-font-family);\n",
       "font-size: var(--jp-code-font-size);\n",
       "line-height: var(--jp-code-line-height);\n",
       "\"><span style=\"color: var(--jp-warn-color2)\">lsst.quickFrameMeasurementTask</span> <span style=\"color: var(--jp-info-color0)\">INFO</span>: Found 29 sources in exposure</pre>"
      ],
      "text/plain": [
       "<IPython.core.display.HTML object>"
      ]
     },
     "metadata": {},
     "output_type": "display_data"
    },
    {
     "data": {
      "text/html": [
       "<pre style=\"margin: 0.1em;\n",
       "padding-left: 0.25em;\n",
       "border-left-style: solid;\n",
       "font-family: var(--jp-code-font-family);\n",
       "font-size: var(--jp-code-font-size);\n",
       "line-height: var(--jp-code-line-height);\n",
       "\"><span style=\"color: var(--jp-warn-color2)\">lsst.quickFrameMeasurementTask</span> <span style=\"color: var(--jp-info-color0)\">INFO</span>: Measured 29 of 29 sources in exposure</pre>"
      ],
      "text/plain": [
       "<IPython.core.display.HTML object>"
      ]
     },
     "metadata": {},
     "output_type": "display_data"
    },
    {
     "name": "stdout",
     "output_type": "stream",
     "text": [
      "2022040700275\n"
     ]
    },
    {
     "data": {
      "text/html": [
       "<pre style=\"margin: 0.1em;\n",
       "padding-left: 0.25em;\n",
       "border-left-style: solid;\n",
       "font-family: var(--jp-code-font-family);\n",
       "font-size: var(--jp-code-font-size);\n",
       "line-height: var(--jp-code-line-height);\n",
       "\"><span style=\"color: var(--jp-warn-color2)\">lsst.summit.utils.bestEffort</span> <span style=\"color: var(--jp-info-color0)\">INFO</span>: Found a ready-made quickLookExp in the repo. Returning that.</pre>"
      ],
      "text/plain": [
       "<IPython.core.display.HTML object>"
      ]
     },
     "metadata": {},
     "output_type": "display_data"
    },
    {
     "data": {
      "text/html": [
       "<pre style=\"margin: 0.1em;\n",
       "padding-left: 0.25em;\n",
       "border-left-style: solid;\n",
       "font-family: var(--jp-code-font-family);\n",
       "font-size: var(--jp-code-font-size);\n",
       "line-height: var(--jp-code-line-height);\n",
       "\"><span style=\"color: var(--jp-warn-color2)\">lsst.quickFrameMeasurementTask</span> <span style=\"color: var(--jp-info-color0)\">INFO</span>: Found 36 sources in exposure</pre>"
      ],
      "text/plain": [
       "<IPython.core.display.HTML object>"
      ]
     },
     "metadata": {},
     "output_type": "display_data"
    },
    {
     "data": {
      "text/html": [
       "<pre style=\"margin: 0.1em;\n",
       "padding-left: 0.25em;\n",
       "border-left-style: solid;\n",
       "font-family: var(--jp-code-font-family);\n",
       "font-size: var(--jp-code-font-size);\n",
       "line-height: var(--jp-code-line-height);\n",
       "\"><span style=\"color: var(--jp-warn-color2)\">lsst.quickFrameMeasurementTask</span> <span style=\"color: var(--jp-info-color0)\">INFO</span>: Measured 36 of 36 sources in exposure</pre>"
      ],
      "text/plain": [
       "<IPython.core.display.HTML object>"
      ]
     },
     "metadata": {},
     "output_type": "display_data"
    },
    {
     "name": "stdout",
     "output_type": "stream",
     "text": [
      "2022040700277\n"
     ]
    },
    {
     "data": {
      "text/html": [
       "<pre style=\"margin: 0.1em;\n",
       "padding-left: 0.25em;\n",
       "border-left-style: solid;\n",
       "font-family: var(--jp-code-font-family);\n",
       "font-size: var(--jp-code-font-size);\n",
       "line-height: var(--jp-code-line-height);\n",
       "\"><span style=\"color: var(--jp-warn-color2)\">lsst.summit.utils.bestEffort</span> <span style=\"color: var(--jp-info-color0)\">INFO</span>: Found a ready-made quickLookExp in the repo. Returning that.</pre>"
      ],
      "text/plain": [
       "<IPython.core.display.HTML object>"
      ]
     },
     "metadata": {},
     "output_type": "display_data"
    },
    {
     "data": {
      "text/html": [
       "<pre style=\"margin: 0.1em;\n",
       "padding-left: 0.25em;\n",
       "border-left-style: solid;\n",
       "font-family: var(--jp-code-font-family);\n",
       "font-size: var(--jp-code-font-size);\n",
       "line-height: var(--jp-code-line-height);\n",
       "\"><span style=\"color: var(--jp-warn-color2)\">lsst.quickFrameMeasurementTask</span> <span style=\"color: var(--jp-info-color0)\">INFO</span>: Found 9 sources in exposure</pre>"
      ],
      "text/plain": [
       "<IPython.core.display.HTML object>"
      ]
     },
     "metadata": {},
     "output_type": "display_data"
    },
    {
     "data": {
      "text/html": [
       "<pre style=\"margin: 0.1em;\n",
       "padding-left: 0.25em;\n",
       "border-left-style: solid;\n",
       "font-family: var(--jp-code-font-family);\n",
       "font-size: var(--jp-code-font-size);\n",
       "line-height: var(--jp-code-line-height);\n",
       "\"><span style=\"color: var(--jp-warn-color2)\">lsst.quickFrameMeasurementTask</span> <span style=\"color: var(--jp-info-color0)\">INFO</span>: Measured 9 of 9 sources in exposure</pre>"
      ],
      "text/plain": [
       "<IPython.core.display.HTML object>"
      ]
     },
     "metadata": {},
     "output_type": "display_data"
    },
    {
     "name": "stdout",
     "output_type": "stream",
     "text": [
      "2022040700279\n"
     ]
    },
    {
     "data": {
      "text/html": [
       "<pre style=\"margin: 0.1em;\n",
       "padding-left: 0.25em;\n",
       "border-left-style: solid;\n",
       "font-family: var(--jp-code-font-family);\n",
       "font-size: var(--jp-code-font-size);\n",
       "line-height: var(--jp-code-line-height);\n",
       "\"><span style=\"color: var(--jp-warn-color2)\">lsst.summit.utils.bestEffort</span> <span style=\"color: var(--jp-info-color0)\">INFO</span>: Found a ready-made quickLookExp in the repo. Returning that.</pre>"
      ],
      "text/plain": [
       "<IPython.core.display.HTML object>"
      ]
     },
     "metadata": {},
     "output_type": "display_data"
    },
    {
     "data": {
      "text/html": [
       "<pre style=\"margin: 0.1em;\n",
       "padding-left: 0.25em;\n",
       "border-left-style: solid;\n",
       "font-family: var(--jp-code-font-family);\n",
       "font-size: var(--jp-code-font-size);\n",
       "line-height: var(--jp-code-line-height);\n",
       "\"><span style=\"color: var(--jp-warn-color2)\">lsst.quickFrameMeasurementTask</span> <span style=\"color: var(--jp-info-color0)\">INFO</span>: Found 4 sources in exposure</pre>"
      ],
      "text/plain": [
       "<IPython.core.display.HTML object>"
      ]
     },
     "metadata": {},
     "output_type": "display_data"
    },
    {
     "data": {
      "text/html": [
       "<pre style=\"margin: 0.1em;\n",
       "padding-left: 0.25em;\n",
       "border-left-style: solid;\n",
       "font-family: var(--jp-code-font-family);\n",
       "font-size: var(--jp-code-font-size);\n",
       "line-height: var(--jp-code-line-height);\n",
       "\"><span style=\"color: var(--jp-warn-color2)\">lsst.quickFrameMeasurementTask</span> <span style=\"color: var(--jp-info-color0)\">INFO</span>: Measured 4 of 4 sources in exposure</pre>"
      ],
      "text/plain": [
       "<IPython.core.display.HTML object>"
      ]
     },
     "metadata": {},
     "output_type": "display_data"
    },
    {
     "name": "stdout",
     "output_type": "stream",
     "text": [
      "2022040700281\n"
     ]
    },
    {
     "data": {
      "text/html": [
       "<pre style=\"margin: 0.1em;\n",
       "padding-left: 0.25em;\n",
       "border-left-style: solid;\n",
       "font-family: var(--jp-code-font-family);\n",
       "font-size: var(--jp-code-font-size);\n",
       "line-height: var(--jp-code-line-height);\n",
       "\"><span style=\"color: var(--jp-warn-color2)\">lsst.summit.utils.bestEffort</span> <span style=\"color: var(--jp-info-color0)\">INFO</span>: Found a ready-made quickLookExp in the repo. Returning that.</pre>"
      ],
      "text/plain": [
       "<IPython.core.display.HTML object>"
      ]
     },
     "metadata": {},
     "output_type": "display_data"
    },
    {
     "data": {
      "text/html": [
       "<pre style=\"margin: 0.1em;\n",
       "padding-left: 0.25em;\n",
       "border-left-style: solid;\n",
       "font-family: var(--jp-code-font-family);\n",
       "font-size: var(--jp-code-font-size);\n",
       "line-height: var(--jp-code-line-height);\n",
       "\"><span style=\"color: var(--jp-warn-color2)\">lsst.quickFrameMeasurementTask</span> <span style=\"color: var(--jp-info-color0)\">INFO</span>: Found 14 sources in exposure</pre>"
      ],
      "text/plain": [
       "<IPython.core.display.HTML object>"
      ]
     },
     "metadata": {},
     "output_type": "display_data"
    },
    {
     "data": {
      "text/html": [
       "<pre style=\"margin: 0.1em;\n",
       "padding-left: 0.25em;\n",
       "border-left-style: solid;\n",
       "font-family: var(--jp-code-font-family);\n",
       "font-size: var(--jp-code-font-size);\n",
       "line-height: var(--jp-code-line-height);\n",
       "\"><span style=\"color: var(--jp-warn-color2)\">lsst.quickFrameMeasurementTask</span> <span style=\"color: var(--jp-info-color0)\">INFO</span>: Measured 14 of 14 sources in exposure</pre>"
      ],
      "text/plain": [
       "<IPython.core.display.HTML object>"
      ]
     },
     "metadata": {},
     "output_type": "display_data"
    },
    {
     "name": "stdout",
     "output_type": "stream",
     "text": [
      "2022040700283\n"
     ]
    },
    {
     "data": {
      "text/html": [
       "<pre style=\"margin: 0.1em;\n",
       "padding-left: 0.25em;\n",
       "border-left-style: solid;\n",
       "font-family: var(--jp-code-font-family);\n",
       "font-size: var(--jp-code-font-size);\n",
       "line-height: var(--jp-code-line-height);\n",
       "\"><span style=\"color: var(--jp-warn-color2)\">lsst.summit.utils.bestEffort</span> <span style=\"color: var(--jp-info-color0)\">INFO</span>: Found a ready-made quickLookExp in the repo. Returning that.</pre>"
      ],
      "text/plain": [
       "<IPython.core.display.HTML object>"
      ]
     },
     "metadata": {},
     "output_type": "display_data"
    },
    {
     "data": {
      "text/html": [
       "<pre style=\"margin: 0.1em;\n",
       "padding-left: 0.25em;\n",
       "border-left-style: solid;\n",
       "font-family: var(--jp-code-font-family);\n",
       "font-size: var(--jp-code-font-size);\n",
       "line-height: var(--jp-code-line-height);\n",
       "\"><span style=\"color: var(--jp-warn-color2)\">lsst.quickFrameMeasurementTask</span> <span style=\"color: var(--jp-info-color0)\">INFO</span>: Found 23 sources in exposure</pre>"
      ],
      "text/plain": [
       "<IPython.core.display.HTML object>"
      ]
     },
     "metadata": {},
     "output_type": "display_data"
    },
    {
     "data": {
      "text/html": [
       "<pre style=\"margin: 0.1em;\n",
       "padding-left: 0.25em;\n",
       "border-left-style: solid;\n",
       "font-family: var(--jp-code-font-family);\n",
       "font-size: var(--jp-code-font-size);\n",
       "line-height: var(--jp-code-line-height);\n",
       "\"><span style=\"color: var(--jp-warn-color2)\">lsst.quickFrameMeasurementTask</span> <span style=\"color: var(--jp-info-color0)\">INFO</span>: Measured 23 of 23 sources in exposure</pre>"
      ],
      "text/plain": [
       "<IPython.core.display.HTML object>"
      ]
     },
     "metadata": {},
     "output_type": "display_data"
    },
    {
     "name": "stdout",
     "output_type": "stream",
     "text": [
      "2022040700285\n"
     ]
    },
    {
     "data": {
      "text/html": [
       "<pre style=\"margin: 0.1em;\n",
       "padding-left: 0.25em;\n",
       "border-left-style: solid;\n",
       "font-family: var(--jp-code-font-family);\n",
       "font-size: var(--jp-code-font-size);\n",
       "line-height: var(--jp-code-line-height);\n",
       "\"><span style=\"color: var(--jp-warn-color2)\">lsst.summit.utils.bestEffort</span> <span style=\"color: var(--jp-info-color0)\">INFO</span>: Found a ready-made quickLookExp in the repo. Returning that.</pre>"
      ],
      "text/plain": [
       "<IPython.core.display.HTML object>"
      ]
     },
     "metadata": {},
     "output_type": "display_data"
    },
    {
     "data": {
      "text/html": [
       "<pre style=\"margin: 0.1em;\n",
       "padding-left: 0.25em;\n",
       "border-left-style: solid;\n",
       "font-family: var(--jp-code-font-family);\n",
       "font-size: var(--jp-code-font-size);\n",
       "line-height: var(--jp-code-line-height);\n",
       "\"><span style=\"color: var(--jp-warn-color2)\">lsst.quickFrameMeasurementTask</span> <span style=\"color: var(--jp-info-color0)\">INFO</span>: Found 26 sources in exposure</pre>"
      ],
      "text/plain": [
       "<IPython.core.display.HTML object>"
      ]
     },
     "metadata": {},
     "output_type": "display_data"
    },
    {
     "data": {
      "text/html": [
       "<pre style=\"margin: 0.1em;\n",
       "padding-left: 0.25em;\n",
       "border-left-style: solid;\n",
       "font-family: var(--jp-code-font-family);\n",
       "font-size: var(--jp-code-font-size);\n",
       "line-height: var(--jp-code-line-height);\n",
       "\"><span style=\"color: var(--jp-warn-color2)\">lsst.quickFrameMeasurementTask</span> <span style=\"color: var(--jp-info-color0)\">INFO</span>: Measured 26 of 26 sources in exposure</pre>"
      ],
      "text/plain": [
       "<IPython.core.display.HTML object>"
      ]
     },
     "metadata": {},
     "output_type": "display_data"
    },
    {
     "name": "stdout",
     "output_type": "stream",
     "text": [
      "2022040700287\n"
     ]
    },
    {
     "data": {
      "text/html": [
       "<pre style=\"margin: 0.1em;\n",
       "padding-left: 0.25em;\n",
       "border-left-style: solid;\n",
       "font-family: var(--jp-code-font-family);\n",
       "font-size: var(--jp-code-font-size);\n",
       "line-height: var(--jp-code-line-height);\n",
       "\"><span style=\"color: var(--jp-warn-color2)\">lsst.summit.utils.bestEffort</span> <span style=\"color: var(--jp-info-color0)\">INFO</span>: Found a ready-made quickLookExp in the repo. Returning that.</pre>"
      ],
      "text/plain": [
       "<IPython.core.display.HTML object>"
      ]
     },
     "metadata": {},
     "output_type": "display_data"
    },
    {
     "data": {
      "text/html": [
       "<pre style=\"margin: 0.1em;\n",
       "padding-left: 0.25em;\n",
       "border-left-style: solid;\n",
       "font-family: var(--jp-code-font-family);\n",
       "font-size: var(--jp-code-font-size);\n",
       "line-height: var(--jp-code-line-height);\n",
       "\"><span style=\"color: var(--jp-warn-color2)\">lsst.quickFrameMeasurementTask</span> <span style=\"color: var(--jp-info-color0)\">INFO</span>: Found 19 sources in exposure</pre>"
      ],
      "text/plain": [
       "<IPython.core.display.HTML object>"
      ]
     },
     "metadata": {},
     "output_type": "display_data"
    },
    {
     "data": {
      "text/html": [
       "<pre style=\"margin: 0.1em;\n",
       "padding-left: 0.25em;\n",
       "border-left-style: solid;\n",
       "font-family: var(--jp-code-font-family);\n",
       "font-size: var(--jp-code-font-size);\n",
       "line-height: var(--jp-code-line-height);\n",
       "\"><span style=\"color: var(--jp-warn-color2)\">lsst.quickFrameMeasurementTask</span> <span style=\"color: var(--jp-info-color0)\">INFO</span>: Measured 19 of 19 sources in exposure</pre>"
      ],
      "text/plain": [
       "<IPython.core.display.HTML object>"
      ]
     },
     "metadata": {},
     "output_type": "display_data"
    },
    {
     "name": "stdout",
     "output_type": "stream",
     "text": [
      "2022040700289\n"
     ]
    },
    {
     "data": {
      "text/html": [
       "<pre style=\"margin: 0.1em;\n",
       "padding-left: 0.25em;\n",
       "border-left-style: solid;\n",
       "font-family: var(--jp-code-font-family);\n",
       "font-size: var(--jp-code-font-size);\n",
       "line-height: var(--jp-code-line-height);\n",
       "\"><span style=\"color: var(--jp-warn-color2)\">lsst.summit.utils.bestEffort</span> <span style=\"color: var(--jp-info-color0)\">INFO</span>: Found a ready-made quickLookExp in the repo. Returning that.</pre>"
      ],
      "text/plain": [
       "<IPython.core.display.HTML object>"
      ]
     },
     "metadata": {},
     "output_type": "display_data"
    },
    {
     "data": {
      "text/html": [
       "<pre style=\"margin: 0.1em;\n",
       "padding-left: 0.25em;\n",
       "border-left-style: solid;\n",
       "font-family: var(--jp-code-font-family);\n",
       "font-size: var(--jp-code-font-size);\n",
       "line-height: var(--jp-code-line-height);\n",
       "\"><span style=\"color: var(--jp-warn-color2)\">lsst.quickFrameMeasurementTask</span> <span style=\"color: var(--jp-info-color0)\">INFO</span>: Found 16 sources in exposure</pre>"
      ],
      "text/plain": [
       "<IPython.core.display.HTML object>"
      ]
     },
     "metadata": {},
     "output_type": "display_data"
    },
    {
     "data": {
      "text/html": [
       "<pre style=\"margin: 0.1em;\n",
       "padding-left: 0.25em;\n",
       "border-left-style: solid;\n",
       "font-family: var(--jp-code-font-family);\n",
       "font-size: var(--jp-code-font-size);\n",
       "line-height: var(--jp-code-line-height);\n",
       "\"><span style=\"color: var(--jp-warn-color2)\">lsst.quickFrameMeasurementTask</span> <span style=\"color: var(--jp-info-color0)\">INFO</span>: Measured 16 of 16 sources in exposure</pre>"
      ],
      "text/plain": [
       "<IPython.core.display.HTML object>"
      ]
     },
     "metadata": {},
     "output_type": "display_data"
    },
    {
     "name": "stdout",
     "output_type": "stream",
     "text": [
      "2022040700291\n"
     ]
    },
    {
     "data": {
      "text/html": [
       "<pre style=\"margin: 0.1em;\n",
       "padding-left: 0.25em;\n",
       "border-left-style: solid;\n",
       "font-family: var(--jp-code-font-family);\n",
       "font-size: var(--jp-code-font-size);\n",
       "line-height: var(--jp-code-line-height);\n",
       "\"><span style=\"color: var(--jp-warn-color2)\">lsst.summit.utils.bestEffort</span> <span style=\"color: var(--jp-info-color0)\">INFO</span>: Found a ready-made quickLookExp in the repo. Returning that.</pre>"
      ],
      "text/plain": [
       "<IPython.core.display.HTML object>"
      ]
     },
     "metadata": {},
     "output_type": "display_data"
    },
    {
     "data": {
      "text/html": [
       "<pre style=\"margin: 0.1em;\n",
       "padding-left: 0.25em;\n",
       "border-left-style: solid;\n",
       "font-family: var(--jp-code-font-family);\n",
       "font-size: var(--jp-code-font-size);\n",
       "line-height: var(--jp-code-line-height);\n",
       "\"><span style=\"color: var(--jp-warn-color2)\">lsst.quickFrameMeasurementTask</span> <span style=\"color: var(--jp-info-color0)\">INFO</span>: Found 11 sources in exposure</pre>"
      ],
      "text/plain": [
       "<IPython.core.display.HTML object>"
      ]
     },
     "metadata": {},
     "output_type": "display_data"
    },
    {
     "data": {
      "text/html": [
       "<pre style=\"margin: 0.1em;\n",
       "padding-left: 0.25em;\n",
       "border-left-style: solid;\n",
       "font-family: var(--jp-code-font-family);\n",
       "font-size: var(--jp-code-font-size);\n",
       "line-height: var(--jp-code-line-height);\n",
       "\"><span style=\"color: var(--jp-warn-color2)\">lsst.quickFrameMeasurementTask</span> <span style=\"color: var(--jp-info-color0)\">INFO</span>: Measured 11 of 11 sources in exposure</pre>"
      ],
      "text/plain": [
       "<IPython.core.display.HTML object>"
      ]
     },
     "metadata": {},
     "output_type": "display_data"
    },
    {
     "name": "stdout",
     "output_type": "stream",
     "text": [
      "2022040700293\n"
     ]
    },
    {
     "data": {
      "text/html": [
       "<pre style=\"margin: 0.1em;\n",
       "padding-left: 0.25em;\n",
       "border-left-style: solid;\n",
       "font-family: var(--jp-code-font-family);\n",
       "font-size: var(--jp-code-font-size);\n",
       "line-height: var(--jp-code-line-height);\n",
       "\"><span style=\"color: var(--jp-warn-color2)\">lsst.summit.utils.bestEffort</span> <span style=\"color: var(--jp-info-color0)\">INFO</span>: Found a ready-made quickLookExp in the repo. Returning that.</pre>"
      ],
      "text/plain": [
       "<IPython.core.display.HTML object>"
      ]
     },
     "metadata": {},
     "output_type": "display_data"
    },
    {
     "data": {
      "text/html": [
       "<pre style=\"margin: 0.1em;\n",
       "padding-left: 0.25em;\n",
       "border-left-style: solid;\n",
       "font-family: var(--jp-code-font-family);\n",
       "font-size: var(--jp-code-font-size);\n",
       "line-height: var(--jp-code-line-height);\n",
       "\"><span style=\"color: var(--jp-warn-color2)\">lsst.quickFrameMeasurementTask</span> <span style=\"color: var(--jp-info-color0)\">INFO</span>: Found 123 sources in exposure</pre>"
      ],
      "text/plain": [
       "<IPython.core.display.HTML object>"
      ]
     },
     "metadata": {},
     "output_type": "display_data"
    },
    {
     "data": {
      "text/html": [
       "<pre style=\"margin: 0.1em;\n",
       "padding-left: 0.25em;\n",
       "border-left-style: solid;\n",
       "font-family: var(--jp-code-font-family);\n",
       "font-size: var(--jp-code-font-size);\n",
       "line-height: var(--jp-code-line-height);\n",
       "\"><span style=\"color: var(--jp-warn-color2)\">lsst.quickFrameMeasurementTask</span> <span style=\"color: var(--jp-info-color0)\">INFO</span>: Measured 123 of 123 sources in exposure</pre>"
      ],
      "text/plain": [
       "<IPython.core.display.HTML object>"
      ]
     },
     "metadata": {},
     "output_type": "display_data"
    },
    {
     "name": "stdout",
     "output_type": "stream",
     "text": [
      "2022040700295\n"
     ]
    },
    {
     "data": {
      "text/html": [
       "<pre style=\"margin: 0.1em;\n",
       "padding-left: 0.25em;\n",
       "border-left-style: solid;\n",
       "font-family: var(--jp-code-font-family);\n",
       "font-size: var(--jp-code-font-size);\n",
       "line-height: var(--jp-code-line-height);\n",
       "\"><span style=\"color: var(--jp-warn-color2)\">lsst.summit.utils.bestEffort</span> <span style=\"color: var(--jp-info-color0)\">INFO</span>: Found a ready-made quickLookExp in the repo. Returning that.</pre>"
      ],
      "text/plain": [
       "<IPython.core.display.HTML object>"
      ]
     },
     "metadata": {},
     "output_type": "display_data"
    },
    {
     "data": {
      "text/html": [
       "<pre style=\"margin: 0.1em;\n",
       "padding-left: 0.25em;\n",
       "border-left-style: solid;\n",
       "font-family: var(--jp-code-font-family);\n",
       "font-size: var(--jp-code-font-size);\n",
       "line-height: var(--jp-code-line-height);\n",
       "\"><span style=\"color: var(--jp-warn-color2)\">lsst.quickFrameMeasurementTask</span> <span style=\"color: var(--jp-info-color0)\">INFO</span>: Found 74 sources in exposure</pre>"
      ],
      "text/plain": [
       "<IPython.core.display.HTML object>"
      ]
     },
     "metadata": {},
     "output_type": "display_data"
    },
    {
     "data": {
      "text/html": [
       "<pre style=\"margin: 0.1em;\n",
       "padding-left: 0.25em;\n",
       "border-left-style: solid;\n",
       "font-family: var(--jp-code-font-family);\n",
       "font-size: var(--jp-code-font-size);\n",
       "line-height: var(--jp-code-line-height);\n",
       "\"><span style=\"color: var(--jp-warn-color2)\">lsst.quickFrameMeasurementTask</span> <span style=\"color: var(--jp-info-color0)\">INFO</span>: Measured 74 of 74 sources in exposure</pre>"
      ],
      "text/plain": [
       "<IPython.core.display.HTML object>"
      ]
     },
     "metadata": {},
     "output_type": "display_data"
    },
    {
     "name": "stdout",
     "output_type": "stream",
     "text": [
      "2022040700297\n"
     ]
    },
    {
     "data": {
      "text/html": [
       "<pre style=\"margin: 0.1em;\n",
       "padding-left: 0.25em;\n",
       "border-left-style: solid;\n",
       "font-family: var(--jp-code-font-family);\n",
       "font-size: var(--jp-code-font-size);\n",
       "line-height: var(--jp-code-line-height);\n",
       "\"><span style=\"color: var(--jp-warn-color2)\">lsst.summit.utils.bestEffort</span> <span style=\"color: var(--jp-info-color0)\">INFO</span>: Found a ready-made quickLookExp in the repo. Returning that.</pre>"
      ],
      "text/plain": [
       "<IPython.core.display.HTML object>"
      ]
     },
     "metadata": {},
     "output_type": "display_data"
    },
    {
     "data": {
      "text/html": [
       "<pre style=\"margin: 0.1em;\n",
       "padding-left: 0.25em;\n",
       "border-left-style: solid;\n",
       "font-family: var(--jp-code-font-family);\n",
       "font-size: var(--jp-code-font-size);\n",
       "line-height: var(--jp-code-line-height);\n",
       "\"><span style=\"color: var(--jp-warn-color2)\">lsst.quickFrameMeasurementTask</span> <span style=\"color: var(--jp-info-color0)\">INFO</span>: Found 96 sources in exposure</pre>"
      ],
      "text/plain": [
       "<IPython.core.display.HTML object>"
      ]
     },
     "metadata": {},
     "output_type": "display_data"
    },
    {
     "data": {
      "text/html": [
       "<pre style=\"margin: 0.1em;\n",
       "padding-left: 0.25em;\n",
       "border-left-style: solid;\n",
       "font-family: var(--jp-code-font-family);\n",
       "font-size: var(--jp-code-font-size);\n",
       "line-height: var(--jp-code-line-height);\n",
       "\"><span style=\"color: var(--jp-warn-color2)\">lsst.quickFrameMeasurementTask</span> <span style=\"color: var(--jp-info-color0)\">INFO</span>: Measured 96 of 96 sources in exposure</pre>"
      ],
      "text/plain": [
       "<IPython.core.display.HTML object>"
      ]
     },
     "metadata": {},
     "output_type": "display_data"
    },
    {
     "name": "stdout",
     "output_type": "stream",
     "text": [
      "2022040700299\n"
     ]
    },
    {
     "data": {
      "text/html": [
       "<pre style=\"margin: 0.1em;\n",
       "padding-left: 0.25em;\n",
       "border-left-style: solid;\n",
       "font-family: var(--jp-code-font-family);\n",
       "font-size: var(--jp-code-font-size);\n",
       "line-height: var(--jp-code-line-height);\n",
       "\"><span style=\"color: var(--jp-warn-color2)\">lsst.summit.utils.bestEffort</span> <span style=\"color: var(--jp-info-color0)\">INFO</span>: Found a ready-made quickLookExp in the repo. Returning that.</pre>"
      ],
      "text/plain": [
       "<IPython.core.display.HTML object>"
      ]
     },
     "metadata": {},
     "output_type": "display_data"
    },
    {
     "data": {
      "text/html": [
       "<pre style=\"margin: 0.1em;\n",
       "padding-left: 0.25em;\n",
       "border-left-style: solid;\n",
       "font-family: var(--jp-code-font-family);\n",
       "font-size: var(--jp-code-font-size);\n",
       "line-height: var(--jp-code-line-height);\n",
       "\"><span style=\"color: var(--jp-warn-color2)\">lsst.quickFrameMeasurementTask</span> <span style=\"color: var(--jp-info-color0)\">INFO</span>: Found 130 sources in exposure</pre>"
      ],
      "text/plain": [
       "<IPython.core.display.HTML object>"
      ]
     },
     "metadata": {},
     "output_type": "display_data"
    },
    {
     "data": {
      "text/html": [
       "<pre style=\"margin: 0.1em;\n",
       "padding-left: 0.25em;\n",
       "border-left-style: solid;\n",
       "font-family: var(--jp-code-font-family);\n",
       "font-size: var(--jp-code-font-size);\n",
       "line-height: var(--jp-code-line-height);\n",
       "\"><span style=\"color: var(--jp-warn-color2)\">lsst.quickFrameMeasurementTask</span> <span style=\"color: var(--jp-info-color0)\">INFO</span>: Measured 130 of 130 sources in exposure</pre>"
      ],
      "text/plain": [
       "<IPython.core.display.HTML object>"
      ]
     },
     "metadata": {},
     "output_type": "display_data"
    },
    {
     "name": "stdout",
     "output_type": "stream",
     "text": [
      "2022040700301\n"
     ]
    },
    {
     "data": {
      "text/html": [
       "<pre style=\"margin: 0.1em;\n",
       "padding-left: 0.25em;\n",
       "border-left-style: solid;\n",
       "font-family: var(--jp-code-font-family);\n",
       "font-size: var(--jp-code-font-size);\n",
       "line-height: var(--jp-code-line-height);\n",
       "\"><span style=\"color: var(--jp-warn-color2)\">lsst.summit.utils.bestEffort</span> <span style=\"color: var(--jp-info-color0)\">INFO</span>: Found a ready-made quickLookExp in the repo. Returning that.</pre>"
      ],
      "text/plain": [
       "<IPython.core.display.HTML object>"
      ]
     },
     "metadata": {},
     "output_type": "display_data"
    },
    {
     "data": {
      "text/html": [
       "<pre style=\"margin: 0.1em;\n",
       "padding-left: 0.25em;\n",
       "border-left-style: solid;\n",
       "font-family: var(--jp-code-font-family);\n",
       "font-size: var(--jp-code-font-size);\n",
       "line-height: var(--jp-code-line-height);\n",
       "\"><span style=\"color: var(--jp-warn-color2)\">lsst.quickFrameMeasurementTask</span> <span style=\"color: var(--jp-info-color0)\">INFO</span>: Found 103 sources in exposure</pre>"
      ],
      "text/plain": [
       "<IPython.core.display.HTML object>"
      ]
     },
     "metadata": {},
     "output_type": "display_data"
    },
    {
     "data": {
      "text/html": [
       "<pre style=\"margin: 0.1em;\n",
       "padding-left: 0.25em;\n",
       "border-left-style: solid;\n",
       "font-family: var(--jp-code-font-family);\n",
       "font-size: var(--jp-code-font-size);\n",
       "line-height: var(--jp-code-line-height);\n",
       "\"><span style=\"color: var(--jp-warn-color2)\">lsst.quickFrameMeasurementTask</span> <span style=\"color: var(--jp-info-color0)\">INFO</span>: Measured 103 of 103 sources in exposure</pre>"
      ],
      "text/plain": [
       "<IPython.core.display.HTML object>"
      ]
     },
     "metadata": {},
     "output_type": "display_data"
    },
    {
     "name": "stdout",
     "output_type": "stream",
     "text": [
      "2022040700303\n"
     ]
    },
    {
     "data": {
      "text/html": [
       "<pre style=\"margin: 0.1em;\n",
       "padding-left: 0.25em;\n",
       "border-left-style: solid;\n",
       "font-family: var(--jp-code-font-family);\n",
       "font-size: var(--jp-code-font-size);\n",
       "line-height: var(--jp-code-line-height);\n",
       "\"><span style=\"color: var(--jp-warn-color2)\">lsst.summit.utils.bestEffort</span> <span style=\"color: var(--jp-info-color0)\">INFO</span>: Found a ready-made quickLookExp in the repo. Returning that.</pre>"
      ],
      "text/plain": [
       "<IPython.core.display.HTML object>"
      ]
     },
     "metadata": {},
     "output_type": "display_data"
    },
    {
     "data": {
      "text/html": [
       "<pre style=\"margin: 0.1em;\n",
       "padding-left: 0.25em;\n",
       "border-left-style: solid;\n",
       "font-family: var(--jp-code-font-family);\n",
       "font-size: var(--jp-code-font-size);\n",
       "line-height: var(--jp-code-line-height);\n",
       "\"><span style=\"color: var(--jp-warn-color2)\">lsst.quickFrameMeasurementTask</span> <span style=\"color: var(--jp-info-color0)\">INFO</span>: Found 122 sources in exposure</pre>"
      ],
      "text/plain": [
       "<IPython.core.display.HTML object>"
      ]
     },
     "metadata": {},
     "output_type": "display_data"
    },
    {
     "data": {
      "text/html": [
       "<pre style=\"margin: 0.1em;\n",
       "padding-left: 0.25em;\n",
       "border-left-style: solid;\n",
       "font-family: var(--jp-code-font-family);\n",
       "font-size: var(--jp-code-font-size);\n",
       "line-height: var(--jp-code-line-height);\n",
       "\"><span style=\"color: var(--jp-warn-color2)\">lsst.quickFrameMeasurementTask</span> <span style=\"color: var(--jp-info-color0)\">INFO</span>: Measured 122 of 122 sources in exposure</pre>"
      ],
      "text/plain": [
       "<IPython.core.display.HTML object>"
      ]
     },
     "metadata": {},
     "output_type": "display_data"
    },
    {
     "name": "stdout",
     "output_type": "stream",
     "text": [
      "2022040700305\n"
     ]
    },
    {
     "data": {
      "text/html": [
       "<pre style=\"margin: 0.1em;\n",
       "padding-left: 0.25em;\n",
       "border-left-style: solid;\n",
       "font-family: var(--jp-code-font-family);\n",
       "font-size: var(--jp-code-font-size);\n",
       "line-height: var(--jp-code-line-height);\n",
       "\"><span style=\"color: var(--jp-warn-color2)\">lsst.summit.utils.bestEffort</span> <span style=\"color: var(--jp-info-color0)\">INFO</span>: Found a ready-made quickLookExp in the repo. Returning that.</pre>"
      ],
      "text/plain": [
       "<IPython.core.display.HTML object>"
      ]
     },
     "metadata": {},
     "output_type": "display_data"
    },
    {
     "data": {
      "text/html": [
       "<pre style=\"margin: 0.1em;\n",
       "padding-left: 0.25em;\n",
       "border-left-style: solid;\n",
       "font-family: var(--jp-code-font-family);\n",
       "font-size: var(--jp-code-font-size);\n",
       "line-height: var(--jp-code-line-height);\n",
       "\"><span style=\"color: var(--jp-warn-color2)\">lsst.quickFrameMeasurementTask</span> <span style=\"color: var(--jp-info-color0)\">INFO</span>: Found 34 sources in exposure</pre>"
      ],
      "text/plain": [
       "<IPython.core.display.HTML object>"
      ]
     },
     "metadata": {},
     "output_type": "display_data"
    },
    {
     "data": {
      "text/html": [
       "<pre style=\"margin: 0.1em;\n",
       "padding-left: 0.25em;\n",
       "border-left-style: solid;\n",
       "font-family: var(--jp-code-font-family);\n",
       "font-size: var(--jp-code-font-size);\n",
       "line-height: var(--jp-code-line-height);\n",
       "\"><span style=\"color: var(--jp-warn-color2)\">lsst.quickFrameMeasurementTask</span> <span style=\"color: var(--jp-info-color0)\">INFO</span>: Measured 34 of 34 sources in exposure</pre>"
      ],
      "text/plain": [
       "<IPython.core.display.HTML object>"
      ]
     },
     "metadata": {},
     "output_type": "display_data"
    },
    {
     "name": "stdout",
     "output_type": "stream",
     "text": [
      "2022040700307\n"
     ]
    },
    {
     "data": {
      "text/html": [
       "<pre style=\"margin: 0.1em;\n",
       "padding-left: 0.25em;\n",
       "border-left-style: solid;\n",
       "font-family: var(--jp-code-font-family);\n",
       "font-size: var(--jp-code-font-size);\n",
       "line-height: var(--jp-code-line-height);\n",
       "\"><span style=\"color: var(--jp-warn-color2)\">lsst.summit.utils.bestEffort</span> <span style=\"color: var(--jp-info-color0)\">INFO</span>: Found a ready-made quickLookExp in the repo. Returning that.</pre>"
      ],
      "text/plain": [
       "<IPython.core.display.HTML object>"
      ]
     },
     "metadata": {},
     "output_type": "display_data"
    },
    {
     "data": {
      "text/html": [
       "<pre style=\"margin: 0.1em;\n",
       "padding-left: 0.25em;\n",
       "border-left-style: solid;\n",
       "font-family: var(--jp-code-font-family);\n",
       "font-size: var(--jp-code-font-size);\n",
       "line-height: var(--jp-code-line-height);\n",
       "\"><span style=\"color: var(--jp-warn-color2)\">lsst.quickFrameMeasurementTask</span> <span style=\"color: var(--jp-info-color0)\">INFO</span>: Found 10 sources in exposure</pre>"
      ],
      "text/plain": [
       "<IPython.core.display.HTML object>"
      ]
     },
     "metadata": {},
     "output_type": "display_data"
    },
    {
     "data": {
      "text/html": [
       "<pre style=\"margin: 0.1em;\n",
       "padding-left: 0.25em;\n",
       "border-left-style: solid;\n",
       "font-family: var(--jp-code-font-family);\n",
       "font-size: var(--jp-code-font-size);\n",
       "line-height: var(--jp-code-line-height);\n",
       "\"><span style=\"color: var(--jp-warn-color2)\">lsst.quickFrameMeasurementTask</span> <span style=\"color: var(--jp-info-color0)\">INFO</span>: Measured 10 of 10 sources in exposure</pre>"
      ],
      "text/plain": [
       "<IPython.core.display.HTML object>"
      ]
     },
     "metadata": {},
     "output_type": "display_data"
    },
    {
     "name": "stdout",
     "output_type": "stream",
     "text": [
      "2022040700309\n"
     ]
    },
    {
     "data": {
      "text/html": [
       "<pre style=\"margin: 0.1em;\n",
       "padding-left: 0.25em;\n",
       "border-left-style: solid;\n",
       "font-family: var(--jp-code-font-family);\n",
       "font-size: var(--jp-code-font-size);\n",
       "line-height: var(--jp-code-line-height);\n",
       "\"><span style=\"color: var(--jp-warn-color2)\">lsst.summit.utils.bestEffort</span> <span style=\"color: var(--jp-info-color0)\">INFO</span>: Found a ready-made quickLookExp in the repo. Returning that.</pre>"
      ],
      "text/plain": [
       "<IPython.core.display.HTML object>"
      ]
     },
     "metadata": {},
     "output_type": "display_data"
    },
    {
     "data": {
      "text/html": [
       "<pre style=\"margin: 0.1em;\n",
       "padding-left: 0.25em;\n",
       "border-left-style: solid;\n",
       "font-family: var(--jp-code-font-family);\n",
       "font-size: var(--jp-code-font-size);\n",
       "line-height: var(--jp-code-line-height);\n",
       "\"><span style=\"color: var(--jp-warn-color2)\">lsst.quickFrameMeasurementTask</span> <span style=\"color: var(--jp-info-color0)\">INFO</span>: Found 15 sources in exposure</pre>"
      ],
      "text/plain": [
       "<IPython.core.display.HTML object>"
      ]
     },
     "metadata": {},
     "output_type": "display_data"
    },
    {
     "data": {
      "text/html": [
       "<pre style=\"margin: 0.1em;\n",
       "padding-left: 0.25em;\n",
       "border-left-style: solid;\n",
       "font-family: var(--jp-code-font-family);\n",
       "font-size: var(--jp-code-font-size);\n",
       "line-height: var(--jp-code-line-height);\n",
       "\"><span style=\"color: var(--jp-warn-color2)\">lsst.quickFrameMeasurementTask</span> <span style=\"color: var(--jp-info-color0)\">INFO</span>: Measured 15 of 15 sources in exposure</pre>"
      ],
      "text/plain": [
       "<IPython.core.display.HTML object>"
      ]
     },
     "metadata": {},
     "output_type": "display_data"
    }
   ],
   "source": [
    "# Measure x, y and r pointing error in origin and target images for each slew test.\n",
    "# pointing_origin, exposures = [], []\n",
    "# dx_origin, dx_target = [], []\n",
    "# az, el = [], []\n",
    "\n",
    "line= [] \n",
    "\n",
    "for exposure in np.arange(2022040700159,2022040700311, 2):\n",
    "    print(exposure) \n",
    "    \n",
    "    data_id = {'instrument': 'LATISS', 'exposure': exposure, 'detector':0}\n",
    "\n",
    "    exp = bestEffort.getExposure(data_id)\n",
    "    \n",
    "    dx, dy, dr = calculate_xy_offsets(exp)\n",
    "    \n",
    "    az, el = get_azel(exp)\n",
    "    \n",
    "    line.append(\n",
    "        {'exposures': exposure,\n",
    "         'azimuth': az,\n",
    "         'elevation': el, \n",
    "         'dx_origin':dx,  \n",
    "         'dy_origin': dy,\n",
    "         'pointing_origin' : dr\n",
    "        }\n",
    "    )\n",
    "    \n",
    "df = pd.DataFrame(line)   "
   ]
  },
  {
   "cell_type": "code",
   "execution_count": 40,
   "id": "b95babf6-277c-488c-88f3-59dd0c45374c",
   "metadata": {},
   "outputs": [
    {
     "data": {
      "text/html": [
       "<div>\n",
       "<style scoped>\n",
       "    .dataframe tbody tr th:only-of-type {\n",
       "        vertical-align: middle;\n",
       "    }\n",
       "\n",
       "    .dataframe tbody tr th {\n",
       "        vertical-align: top;\n",
       "    }\n",
       "\n",
       "    .dataframe thead th {\n",
       "        text-align: right;\n",
       "    }\n",
       "</style>\n",
       "<table border=\"1\" class=\"dataframe\">\n",
       "  <thead>\n",
       "    <tr style=\"text-align: right;\">\n",
       "      <th></th>\n",
       "      <th>exposures</th>\n",
       "      <th>azimuth</th>\n",
       "      <th>elevation</th>\n",
       "      <th>delta_ra</th>\n",
       "      <th>delta_dec</th>\n",
       "      <th>delta_radec</th>\n",
       "      <th>pointing_distance_radec</th>\n",
       "      <th>delta_az</th>\n",
       "      <th>delta_el</th>\n",
       "      <th>delta_azel</th>\n",
       "      <th>delta_x [pixels]</th>\n",
       "      <th>delta_y [pixels]</th>\n",
       "      <th>delta_xy [pixels]</th>\n",
       "    </tr>\n",
       "  </thead>\n",
       "  <tbody>\n",
       "    <tr>\n",
       "      <th>0</th>\n",
       "      <td>2022050500291</td>\n",
       "      <td>359.056448</td>\n",
       "      <td>29.612477</td>\n",
       "      <td>-2.182202</td>\n",
       "      <td>-1.487810</td>\n",
       "      <td>2.641133</td>\n",
       "      <td>2.401941</td>\n",
       "      <td>-2.200068</td>\n",
       "      <td>1.453264</td>\n",
       "      <td>2.636717</td>\n",
       "      <td>-2.645981</td>\n",
       "      <td>-0.282791</td>\n",
       "      <td>2.661050</td>\n",
       "    </tr>\n",
       "    <tr>\n",
       "      <th>1</th>\n",
       "      <td>2022050500293</td>\n",
       "      <td>15.158964</td>\n",
       "      <td>48.174643</td>\n",
       "      <td>0.410797</td>\n",
       "      <td>-0.275286</td>\n",
       "      <td>0.494507</td>\n",
       "      <td>0.488795</td>\n",
       "      <td>0.684034</td>\n",
       "      <td>0.175752</td>\n",
       "      <td>0.706251</td>\n",
       "      <td>-5.200326</td>\n",
       "      <td>-0.166235</td>\n",
       "      <td>5.202982</td>\n",
       "    </tr>\n",
       "    <tr>\n",
       "      <th>2</th>\n",
       "      <td>2022050500295</td>\n",
       "      <td>20.651709</td>\n",
       "      <td>72.184971</td>\n",
       "      <td>0.562895</td>\n",
       "      <td>0.626087</td>\n",
       "      <td>0.841923</td>\n",
       "      <td>0.831861</td>\n",
       "      <td>1.062722</td>\n",
       "      <td>-0.765765</td>\n",
       "      <td>1.309876</td>\n",
       "      <td>-5.853166</td>\n",
       "      <td>-0.559158</td>\n",
       "      <td>5.879814</td>\n",
       "    </tr>\n",
       "    <tr>\n",
       "      <th>3</th>\n",
       "      <td>2022050500297</td>\n",
       "      <td>22.060721</td>\n",
       "      <td>34.071047</td>\n",
       "      <td>0.047650</td>\n",
       "      <td>0.351771</td>\n",
       "      <td>0.354983</td>\n",
       "      <td>0.354514</td>\n",
       "      <td>-0.098856</td>\n",
       "      <td>-0.344962</td>\n",
       "      <td>0.358847</td>\n",
       "      <td>-5.146613</td>\n",
       "      <td>-0.954501</td>\n",
       "      <td>5.234377</td>\n",
       "    </tr>\n",
       "    <tr>\n",
       "      <th>4</th>\n",
       "      <td>2022050500299</td>\n",
       "      <td>33.457881</td>\n",
       "      <td>44.241117</td>\n",
       "      <td>-1.445941</td>\n",
       "      <td>0.354606</td>\n",
       "      <td>1.488789</td>\n",
       "      <td>1.469099</td>\n",
       "      <td>-1.982233</td>\n",
       "      <td>0.376807</td>\n",
       "      <td>2.017729</td>\n",
       "      <td>-3.739163</td>\n",
       "      <td>-1.334673</td>\n",
       "      <td>3.970226</td>\n",
       "    </tr>\n",
       "    <tr>\n",
       "      <th>5</th>\n",
       "      <td>2022050500301</td>\n",
       "      <td>44.676145</td>\n",
       "      <td>24.868847</td>\n",
       "      <td>-7.321805</td>\n",
       "      <td>6.205670</td>\n",
       "      <td>9.597873</td>\n",
       "      <td>9.254411</td>\n",
       "      <td>-10.196078</td>\n",
       "      <td>-0.287885</td>\n",
       "      <td>10.200141</td>\n",
       "      <td>3.269333</td>\n",
       "      <td>-4.728122</td>\n",
       "      <td>5.748363</td>\n",
       "    </tr>\n",
       "    <tr>\n",
       "      <th>6</th>\n",
       "      <td>2022050500303</td>\n",
       "      <td>45.076480</td>\n",
       "      <td>53.790429</td>\n",
       "      <td>-0.462833</td>\n",
       "      <td>2.720501</td>\n",
       "      <td>2.759591</td>\n",
       "      <td>2.759516</td>\n",
       "      <td>-3.436656</td>\n",
       "      <td>-1.869375</td>\n",
       "      <td>3.912183</td>\n",
       "      <td>-5.308771</td>\n",
       "      <td>-3.366595</td>\n",
       "      <td>6.286255</td>\n",
       "    </tr>\n",
       "    <tr>\n",
       "      <th>7</th>\n",
       "      <td>2022050500305</td>\n",
       "      <td>44.959548</td>\n",
       "      <td>83.034205</td>\n",
       "      <td>3.286379</td>\n",
       "      <td>-1.772305</td>\n",
       "      <td>3.733812</td>\n",
       "      <td>3.463695</td>\n",
       "      <td>27.981575</td>\n",
       "      <td>-0.694749</td>\n",
       "      <td>27.990199</td>\n",
       "      <td>-6.219566</td>\n",
       "      <td>2.628537</td>\n",
       "      <td>6.752200</td>\n",
       "    </tr>\n",
       "    <tr>\n",
       "      <th>8</th>\n",
       "      <td>2022050500307</td>\n",
       "      <td>55.877435</td>\n",
       "      <td>35.730455</td>\n",
       "      <td>-3.550586</td>\n",
       "      <td>-0.246383</td>\n",
       "      <td>3.559125</td>\n",
       "      <td>3.540868</td>\n",
       "      <td>-2.807868</td>\n",
       "      <td>2.710009</td>\n",
       "      <td>3.902341</td>\n",
       "      <td>-1.597583</td>\n",
       "      <td>0.271317</td>\n",
       "      <td>1.620458</td>\n",
       "    </tr>\n",
       "    <tr>\n",
       "      <th>9</th>\n",
       "      <td>2022050500309</td>\n",
       "      <td>67.241002</td>\n",
       "      <td>33.572339</td>\n",
       "      <td>-3.717024</td>\n",
       "      <td>-0.156551</td>\n",
       "      <td>3.720319</td>\n",
       "      <td>3.720311</td>\n",
       "      <td>-2.546346</td>\n",
       "      <td>3.056352</td>\n",
       "      <td>3.978086</td>\n",
       "      <td>-1.572013</td>\n",
       "      <td>0.765441</td>\n",
       "      <td>1.748463</td>\n",
       "    </tr>\n",
       "    <tr>\n",
       "      <th>10</th>\n",
       "      <td>2022050500311</td>\n",
       "      <td>66.209921</td>\n",
       "      <td>69.679867</td>\n",
       "      <td>-1.270809</td>\n",
       "      <td>-4.315006</td>\n",
       "      <td>4.498248</td>\n",
       "      <td>4.476273</td>\n",
       "      <td>8.645937</td>\n",
       "      <td>3.320502</td>\n",
       "      <td>9.261639</td>\n",
       "      <td>-2.992400</td>\n",
       "      <td>3.366579</td>\n",
       "      <td>4.504255</td>\n",
       "    </tr>\n",
       "    <tr>\n",
       "      <th>11</th>\n",
       "      <td>2022050500313</td>\n",
       "      <td>74.872215</td>\n",
       "      <td>57.334566</td>\n",
       "      <td>0.768488</td>\n",
       "      <td>-1.331737</td>\n",
       "      <td>1.537562</td>\n",
       "      <td>1.520146</td>\n",
       "      <td>2.816655</td>\n",
       "      <td>0.004256</td>\n",
       "      <td>2.816658</td>\n",
       "      <td>-5.847064</td>\n",
       "      <td>0.655792</td>\n",
       "      <td>5.883725</td>\n",
       "    </tr>\n",
       "    <tr>\n",
       "      <th>12</th>\n",
       "      <td>2022050500315</td>\n",
       "      <td>78.662947</td>\n",
       "      <td>39.958962</td>\n",
       "      <td>-0.350013</td>\n",
       "      <td>-1.543418</td>\n",
       "      <td>1.582608</td>\n",
       "      <td>1.581192</td>\n",
       "      <td>1.512609</td>\n",
       "      <td>1.075258</td>\n",
       "      <td>1.855846</td>\n",
       "      <td>-5.228224</td>\n",
       "      <td>0.945844</td>\n",
       "      <td>5.313092</td>\n",
       "    </tr>\n",
       "    <tr>\n",
       "      <th>13</th>\n",
       "      <td>2022050500317</td>\n",
       "      <td>89.630963</td>\n",
       "      <td>25.452120</td>\n",
       "      <td>-0.512759</td>\n",
       "      <td>-2.531798</td>\n",
       "      <td>2.583200</td>\n",
       "      <td>2.580965</td>\n",
       "      <td>2.220238</td>\n",
       "      <td>1.625648</td>\n",
       "      <td>2.751761</td>\n",
       "      <td>-6.140969</td>\n",
       "      <td>1.704482</td>\n",
       "      <td>6.373128</td>\n",
       "    </tr>\n",
       "    <tr>\n",
       "      <th>14</th>\n",
       "      <td>2022050500319</td>\n",
       "      <td>101.104986</td>\n",
       "      <td>48.062011</td>\n",
       "      <td>-2.396814</td>\n",
       "      <td>-3.605980</td>\n",
       "      <td>4.329874</td>\n",
       "      <td>4.171593</td>\n",
       "      <td>4.470272</td>\n",
       "      <td>2.911692</td>\n",
       "      <td>5.334912</td>\n",
       "      <td>-4.864356</td>\n",
       "      <td>3.546344</td>\n",
       "      <td>6.019844</td>\n",
       "    </tr>\n",
       "    <tr>\n",
       "      <th>15</th>\n",
       "      <td>2022050500321</td>\n",
       "      <td>105.331830</td>\n",
       "      <td>49.367127</td>\n",
       "      <td>-4.865328</td>\n",
       "      <td>-4.321714</td>\n",
       "      <td>6.507582</td>\n",
       "      <td>5.976673</td>\n",
       "      <td>5.370217</td>\n",
       "      <td>4.847024</td>\n",
       "      <td>7.234146</td>\n",
       "      <td>-3.630412</td>\n",
       "      <td>5.189689</td>\n",
       "      <td>6.333464</td>\n",
       "    </tr>\n",
       "    <tr>\n",
       "      <th>16</th>\n",
       "      <td>2022050500323</td>\n",
       "      <td>112.558119</td>\n",
       "      <td>23.690015</td>\n",
       "      <td>-2.491268</td>\n",
       "      <td>-4.721948</td>\n",
       "      <td>5.338840</td>\n",
       "      <td>5.188888</td>\n",
       "      <td>3.881719</td>\n",
       "      <td>3.780121</td>\n",
       "      <td>5.418215</td>\n",
       "      <td>-6.763109</td>\n",
       "      <td>4.266397</td>\n",
       "      <td>7.996361</td>\n",
       "    </tr>\n",
       "    <tr>\n",
       "      <th>17</th>\n",
       "      <td>2022050500325</td>\n",
       "      <td>112.391513</td>\n",
       "      <td>63.231309</td>\n",
       "      <td>-10.591615</td>\n",
       "      <td>-4.624986</td>\n",
       "      <td>11.557370</td>\n",
       "      <td>9.679765</td>\n",
       "      <td>11.803323</td>\n",
       "      <td>8.089987</td>\n",
       "      <td>14.309658</td>\n",
       "      <td>-0.202181</td>\n",
       "      <td>7.770914</td>\n",
       "      <td>7.773544</td>\n",
       "    </tr>\n",
       "    <tr>\n",
       "      <th>18</th>\n",
       "      <td>2022050500327</td>\n",
       "      <td>123.737360</td>\n",
       "      <td>45.709193</td>\n",
       "      <td>-3.007608</td>\n",
       "      <td>-2.193986</td>\n",
       "      <td>3.722805</td>\n",
       "      <td>3.082544</td>\n",
       "      <td>3.108134</td>\n",
       "      <td>2.189016</td>\n",
       "      <td>3.801617</td>\n",
       "      <td>-4.970914</td>\n",
       "      <td>2.459945</td>\n",
       "      <td>5.546289</td>\n",
       "    </tr>\n",
       "    <tr>\n",
       "      <th>19</th>\n",
       "      <td>2022050500329</td>\n",
       "      <td>134.851281</td>\n",
       "      <td>29.170560</td>\n",
       "      <td>-6.735123</td>\n",
       "      <td>-2.930618</td>\n",
       "      <td>7.345094</td>\n",
       "      <td>5.157971</td>\n",
       "      <td>2.176565</td>\n",
       "      <td>4.794998</td>\n",
       "      <td>5.265875</td>\n",
       "      <td>-4.334536</td>\n",
       "      <td>4.489463</td>\n",
       "      <td>6.240471</td>\n",
       "    </tr>\n",
       "    <tr>\n",
       "      <th>20</th>\n",
       "      <td>2022050500331</td>\n",
       "      <td>135.635393</td>\n",
       "      <td>48.803296</td>\n",
       "      <td>-6.472646</td>\n",
       "      <td>-0.082590</td>\n",
       "      <td>6.473172</td>\n",
       "      <td>4.015360</td>\n",
       "      <td>1.435608</td>\n",
       "      <td>3.902504</td>\n",
       "      <td>4.158186</td>\n",
       "      <td>-2.704356</td>\n",
       "      <td>2.655507</td>\n",
       "      <td>3.790153</td>\n",
       "    </tr>\n",
       "    <tr>\n",
       "      <th>21</th>\n",
       "      <td>2022050500333</td>\n",
       "      <td>135.974862</td>\n",
       "      <td>79.409419</td>\n",
       "      <td>-3.588474</td>\n",
       "      <td>3.429871</td>\n",
       "      <td>4.963986</td>\n",
       "      <td>4.459210</td>\n",
       "      <td>-4.035501</td>\n",
       "      <td>4.397358</td>\n",
       "      <td>5.968419</td>\n",
       "      <td>-0.564817</td>\n",
       "      <td>-0.597178</td>\n",
       "      <td>0.821973</td>\n",
       "    </tr>\n",
       "    <tr>\n",
       "      <th>22</th>\n",
       "      <td>2022050500335</td>\n",
       "      <td>146.395244</td>\n",
       "      <td>24.843422</td>\n",
       "      <td>-8.253755</td>\n",
       "      <td>-2.690820</td>\n",
       "      <td>8.681301</td>\n",
       "      <td>4.952444</td>\n",
       "      <td>1.428199</td>\n",
       "      <td>4.779710</td>\n",
       "      <td>4.988524</td>\n",
       "      <td>-4.168690</td>\n",
       "      <td>4.255827</td>\n",
       "      <td>5.957352</td>\n",
       "    </tr>\n",
       "    <tr>\n",
       "      <th>23</th>\n",
       "      <td>2022050500337</td>\n",
       "      <td>146.523217</td>\n",
       "      <td>45.134147</td>\n",
       "      <td>-8.419289</td>\n",
       "      <td>1.129827</td>\n",
       "      <td>8.494759</td>\n",
       "      <td>4.383778</td>\n",
       "      <td>0.344208</td>\n",
       "      <td>4.377063</td>\n",
       "      <td>4.390576</td>\n",
       "      <td>-2.083189</td>\n",
       "      <td>2.628976</td>\n",
       "      <td>3.354279</td>\n",
       "    </tr>\n",
       "    <tr>\n",
       "      <th>24</th>\n",
       "      <td>2022050500339</td>\n",
       "      <td>158.635081</td>\n",
       "      <td>71.888068</td>\n",
       "      <td>-2.250392</td>\n",
       "      <td>3.961763</td>\n",
       "      <td>4.556296</td>\n",
       "      <td>4.251988</td>\n",
       "      <td>-1.468907</td>\n",
       "      <td>4.227581</td>\n",
       "      <td>4.475503</td>\n",
       "      <td>-0.855997</td>\n",
       "      <td>0.219176</td>\n",
       "      <td>0.883611</td>\n",
       "    </tr>\n",
       "    <tr>\n",
       "      <th>25</th>\n",
       "      <td>2022050500341</td>\n",
       "      <td>158.042124</td>\n",
       "      <td>35.514080</td>\n",
       "      <td>-16.339279</td>\n",
       "      <td>0.348964</td>\n",
       "      <td>16.343005</td>\n",
       "      <td>5.396391</td>\n",
       "      <td>0.718289</td>\n",
       "      <td>5.364533</td>\n",
       "      <td>5.412408</td>\n",
       "      <td>-2.355621</td>\n",
       "      <td>4.068345</td>\n",
       "      <td>4.701105</td>\n",
       "    </tr>\n",
       "    <tr>\n",
       "      <th>26</th>\n",
       "      <td>2022050500343</td>\n",
       "      <td>165.907079</td>\n",
       "      <td>55.753308</td>\n",
       "      <td>-6.155589</td>\n",
       "      <td>5.149607</td>\n",
       "      <td>8.025568</td>\n",
       "      <td>5.882405</td>\n",
       "      <td>0.291279</td>\n",
       "      <td>5.880213</td>\n",
       "      <td>5.887423</td>\n",
       "      <td>-0.242495</td>\n",
       "      <td>2.804222</td>\n",
       "      <td>2.814688</td>\n",
       "    </tr>\n",
       "    <tr>\n",
       "      <th>27</th>\n",
       "      <td>2022050500345</td>\n",
       "      <td>168.988813</td>\n",
       "      <td>44.612376</td>\n",
       "      <td>-8.365193</td>\n",
       "      <td>3.567831</td>\n",
       "      <td>9.094277</td>\n",
       "      <td>4.318472</td>\n",
       "      <td>-0.067274</td>\n",
       "      <td>4.318191</td>\n",
       "      <td>4.318715</td>\n",
       "      <td>-1.950630</td>\n",
       "      <td>2.411715</td>\n",
       "      <td>3.101826</td>\n",
       "    </tr>\n",
       "    <tr>\n",
       "      <th>28</th>\n",
       "      <td>2022050500347</td>\n",
       "      <td>180.001043</td>\n",
       "      <td>22.350285</td>\n",
       "      <td>-3.405263</td>\n",
       "      <td>-3.755830</td>\n",
       "      <td>5.069722</td>\n",
       "      <td>3.784121</td>\n",
       "      <td>-0.458718</td>\n",
       "      <td>3.760109</td>\n",
       "      <td>3.787986</td>\n",
       "      <td>-3.153578</td>\n",
       "      <td>2.667486</td>\n",
       "      <td>4.130440</td>\n",
       "    </tr>\n",
       "    <tr>\n",
       "      <th>29</th>\n",
       "      <td>2022050500349</td>\n",
       "      <td>191.312332</td>\n",
       "      <td>48.613921</td>\n",
       "      <td>-1.734292</td>\n",
       "      <td>8.016290</td>\n",
       "      <td>8.201748</td>\n",
       "      <td>8.038956</td>\n",
       "      <td>6.665701</td>\n",
       "      <td>6.723503</td>\n",
       "      <td>9.467685</td>\n",
       "      <td>-2.877406</td>\n",
       "      <td>7.124714</td>\n",
       "      <td>7.683815</td>\n",
       "    </tr>\n",
       "    <tr>\n",
       "      <th>30</th>\n",
       "      <td>2022050500351</td>\n",
       "      <td>194.729357</td>\n",
       "      <td>50.272350</td>\n",
       "      <td>3.417727</td>\n",
       "      <td>4.989377</td>\n",
       "      <td>6.047706</td>\n",
       "      <td>5.164011</td>\n",
       "      <td>2.654542</td>\n",
       "      <td>4.877401</td>\n",
       "      <td>5.552984</td>\n",
       "      <td>-2.354328</td>\n",
       "      <td>3.798256</td>\n",
       "      <td>4.468737</td>\n",
       "    </tr>\n",
       "    <tr>\n",
       "      <th>31</th>\n",
       "      <td>2022050500353</td>\n",
       "      <td>202.690739</td>\n",
       "      <td>24.220611</td>\n",
       "      <td>12.376116</td>\n",
       "      <td>-1.099117</td>\n",
       "      <td>12.424826</td>\n",
       "      <td>4.553321</td>\n",
       "      <td>0.648403</td>\n",
       "      <td>4.514625</td>\n",
       "      <td>4.560950</td>\n",
       "      <td>-3.697989</td>\n",
       "      <td>3.733814</td>\n",
       "      <td>5.255139</td>\n",
       "    </tr>\n",
       "    <tr>\n",
       "      <th>32</th>\n",
       "      <td>2022050500355</td>\n",
       "      <td>202.791182</td>\n",
       "      <td>69.103860</td>\n",
       "      <td>-2.792064</td>\n",
       "      <td>7.375403</td>\n",
       "      <td>7.886202</td>\n",
       "      <td>7.600262</td>\n",
       "      <td>14.934522</td>\n",
       "      <td>5.421821</td>\n",
       "      <td>15.888238</td>\n",
       "      <td>-1.776460</td>\n",
       "      <td>6.249202</td>\n",
       "      <td>6.496795</td>\n",
       "    </tr>\n",
       "    <tr>\n",
       "      <th>33</th>\n",
       "      <td>2022050500357</td>\n",
       "      <td>213.903947</td>\n",
       "      <td>46.330651</td>\n",
       "      <td>5.028415</td>\n",
       "      <td>3.628262</td>\n",
       "      <td>6.200746</td>\n",
       "      <td>4.447155</td>\n",
       "      <td>3.685528</td>\n",
       "      <td>3.647127</td>\n",
       "      <td>5.185042</td>\n",
       "      <td>-4.128752</td>\n",
       "      <td>3.733947</td>\n",
       "      <td>5.566772</td>\n",
       "    </tr>\n",
       "    <tr>\n",
       "      <th>34</th>\n",
       "      <td>2022050500359</td>\n",
       "      <td>224.982760</td>\n",
       "      <td>49.326773</td>\n",
       "      <td>5.551627</td>\n",
       "      <td>3.681584</td>\n",
       "      <td>6.661428</td>\n",
       "      <td>5.061375</td>\n",
       "      <td>4.341374</td>\n",
       "      <td>4.196782</td>\n",
       "      <td>6.038254</td>\n",
       "      <td>-3.671093</td>\n",
       "      <td>4.255025</td>\n",
       "      <td>5.619801</td>\n",
       "    </tr>\n",
       "    <tr>\n",
       "      <th>35</th>\n",
       "      <td>2022050500361</td>\n",
       "      <td>224.792358</td>\n",
       "      <td>31.286225</td>\n",
       "      <td>9.103812</td>\n",
       "      <td>2.185296</td>\n",
       "      <td>9.362420</td>\n",
       "      <td>6.037295</td>\n",
       "      <td>3.687853</td>\n",
       "      <td>5.149412</td>\n",
       "      <td>6.333775</td>\n",
       "      <td>-5.024940</td>\n",
       "      <td>5.414994</td>\n",
       "      <td>7.387299</td>\n",
       "    </tr>\n",
       "    <tr>\n",
       "      <th>36</th>\n",
       "      <td>2022050500363</td>\n",
       "      <td>231.835503</td>\n",
       "      <td>85.092223</td>\n",
       "      <td>1.521341</td>\n",
       "      <td>-1.128200</td>\n",
       "      <td>1.894020</td>\n",
       "      <td>1.702050</td>\n",
       "      <td>-19.414051</td>\n",
       "      <td>0.372516</td>\n",
       "      <td>19.417624</td>\n",
       "      <td>-4.576579</td>\n",
       "      <td>-2.264159</td>\n",
       "      <td>5.106025</td>\n",
       "    </tr>\n",
       "    <tr>\n",
       "      <th>37</th>\n",
       "      <td>2022050500365</td>\n",
       "      <td>236.523965</td>\n",
       "      <td>37.181991</td>\n",
       "      <td>9.510435</td>\n",
       "      <td>0.157469</td>\n",
       "      <td>9.511738</td>\n",
       "      <td>6.936100</td>\n",
       "      <td>1.522245</td>\n",
       "      <td>6.829363</td>\n",
       "      <td>6.996958</td>\n",
       "      <td>-1.832915</td>\n",
       "      <td>5.536195</td>\n",
       "      <td>5.831727</td>\n",
       "    </tr>\n",
       "    <tr>\n",
       "      <th>38</th>\n",
       "      <td>2022050500367</td>\n",
       "      <td>236.228932</td>\n",
       "      <td>25.211925</td>\n",
       "      <td>8.736130</td>\n",
       "      <td>-0.240514</td>\n",
       "      <td>8.739440</td>\n",
       "      <td>6.644814</td>\n",
       "      <td>2.154254</td>\n",
       "      <td>6.352554</td>\n",
       "      <td>6.707888</td>\n",
       "      <td>-4.063352</td>\n",
       "      <td>5.952710</td>\n",
       "      <td>7.207328</td>\n",
       "    </tr>\n",
       "    <tr>\n",
       "      <th>39</th>\n",
       "      <td>2022050500369</td>\n",
       "      <td>248.066460</td>\n",
       "      <td>70.793510</td>\n",
       "      <td>7.544032</td>\n",
       "      <td>2.897354</td>\n",
       "      <td>8.081280</td>\n",
       "      <td>6.790045</td>\n",
       "      <td>5.441895</td>\n",
       "      <td>6.550221</td>\n",
       "      <td>8.515845</td>\n",
       "      <td>0.602396</td>\n",
       "      <td>3.178889</td>\n",
       "      <td>3.235463</td>\n",
       "    </tr>\n",
       "    <tr>\n",
       "      <th>40</th>\n",
       "      <td>2022050500371</td>\n",
       "      <td>247.068671</td>\n",
       "      <td>23.160426</td>\n",
       "      <td>8.281240</td>\n",
       "      <td>0.361856</td>\n",
       "      <td>8.289142</td>\n",
       "      <td>7.140492</td>\n",
       "      <td>3.324648</td>\n",
       "      <td>6.453248</td>\n",
       "      <td>7.259318</td>\n",
       "      <td>-5.263467</td>\n",
       "      <td>6.514107</td>\n",
       "      <td>8.374824</td>\n",
       "    </tr>\n",
       "    <tr>\n",
       "      <th>41</th>\n",
       "      <td>2022050500373</td>\n",
       "      <td>258.777083</td>\n",
       "      <td>40.244401</td>\n",
       "      <td>6.244885</td>\n",
       "      <td>7.793618</td>\n",
       "      <td>9.986945</td>\n",
       "      <td>9.576376</td>\n",
       "      <td>11.957101</td>\n",
       "      <td>2.901228</td>\n",
       "      <td>12.304040</td>\n",
       "      <td>-10.096698</td>\n",
       "      <td>7.499736</td>\n",
       "      <td>12.577335</td>\n",
       "    </tr>\n",
       "    <tr>\n",
       "      <th>42</th>\n",
       "      <td>2022050500375</td>\n",
       "      <td>269.312853</td>\n",
       "      <td>22.589452</td>\n",
       "      <td>3.876425</td>\n",
       "      <td>1.594432</td>\n",
       "      <td>4.191526</td>\n",
       "      <td>4.116541</td>\n",
       "      <td>3.453263</td>\n",
       "      <td>2.604184</td>\n",
       "      <td>4.325135</td>\n",
       "      <td>-6.921599</td>\n",
       "      <td>3.030713</td>\n",
       "      <td>7.556041</td>\n",
       "    </tr>\n",
       "    <tr>\n",
       "      <th>43</th>\n",
       "      <td>2022050500377</td>\n",
       "      <td>280.956761</td>\n",
       "      <td>39.940693</td>\n",
       "      <td>6.144007</td>\n",
       "      <td>1.024808</td>\n",
       "      <td>6.228889</td>\n",
       "      <td>6.109801</td>\n",
       "      <td>5.082934</td>\n",
       "      <td>4.706068</td>\n",
       "      <td>6.926997</td>\n",
       "      <td>-4.986824</td>\n",
       "      <td>5.487385</td>\n",
       "      <td>7.414837</td>\n",
       "    </tr>\n",
       "    <tr>\n",
       "      <th>44</th>\n",
       "      <td>2022050500379</td>\n",
       "      <td>280.886582</td>\n",
       "      <td>22.697667</td>\n",
       "      <td>4.866877</td>\n",
       "      <td>0.201473</td>\n",
       "      <td>4.871046</td>\n",
       "      <td>4.866291</td>\n",
       "      <td>2.959907</td>\n",
       "      <td>4.028236</td>\n",
       "      <td>4.998773</td>\n",
       "      <td>-5.984877</td>\n",
       "      <td>4.148182</td>\n",
       "      <td>7.281907</td>\n",
       "    </tr>\n",
       "    <tr>\n",
       "      <th>45</th>\n",
       "      <td>2022050500381</td>\n",
       "      <td>285.345545</td>\n",
       "      <td>60.706209</td>\n",
       "      <td>7.658781</td>\n",
       "      <td>3.067999</td>\n",
       "      <td>8.250427</td>\n",
       "      <td>7.862291</td>\n",
       "      <td>12.489762</td>\n",
       "      <td>4.947827</td>\n",
       "      <td>13.434104</td>\n",
       "      <td>-3.699424</td>\n",
       "      <td>7.127556</td>\n",
       "      <td>8.030429</td>\n",
       "    </tr>\n",
       "    <tr>\n",
       "      <th>46</th>\n",
       "      <td>2022050500383</td>\n",
       "      <td>292.994008</td>\n",
       "      <td>70.209752</td>\n",
       "      <td>8.261196</td>\n",
       "      <td>4.356445</td>\n",
       "      <td>9.339484</td>\n",
       "      <td>8.857538</td>\n",
       "      <td>22.860015</td>\n",
       "      <td>4.308778</td>\n",
       "      <td>23.262542</td>\n",
       "      <td>-3.612716</td>\n",
       "      <td>8.121975</td>\n",
       "      <td>8.889218</td>\n",
       "    </tr>\n",
       "    <tr>\n",
       "      <th>47</th>\n",
       "      <td>2022050500385</td>\n",
       "      <td>291.825115</td>\n",
       "      <td>25.205977</td>\n",
       "      <td>3.932592</td>\n",
       "      <td>1.051235</td>\n",
       "      <td>4.070673</td>\n",
       "      <td>4.059684</td>\n",
       "      <td>3.504067</td>\n",
       "      <td>2.536076</td>\n",
       "      <td>4.325525</td>\n",
       "      <td>-6.811048</td>\n",
       "      <td>3.022844</td>\n",
       "      <td>7.451709</td>\n",
       "    </tr>\n",
       "    <tr>\n",
       "      <th>48</th>\n",
       "      <td>2022050500387</td>\n",
       "      <td>303.919805</td>\n",
       "      <td>42.963195</td>\n",
       "      <td>5.520847</td>\n",
       "      <td>-0.297594</td>\n",
       "      <td>5.528861</td>\n",
       "      <td>5.528576</td>\n",
       "      <td>4.956769</td>\n",
       "      <td>4.172897</td>\n",
       "      <td>6.479400</td>\n",
       "      <td>-4.844018</td>\n",
       "      <td>4.903381</td>\n",
       "      <td>6.892580</td>\n",
       "    </tr>\n",
       "    <tr>\n",
       "      <th>49</th>\n",
       "      <td>2022050500389</td>\n",
       "      <td>312.790852</td>\n",
       "      <td>75.017040</td>\n",
       "      <td>8.097714</td>\n",
       "      <td>1.343157</td>\n",
       "      <td>8.208352</td>\n",
       "      <td>7.751671</td>\n",
       "      <td>25.319994</td>\n",
       "      <td>4.153409</td>\n",
       "      <td>25.658388</td>\n",
       "      <td>-2.780211</td>\n",
       "      <td>6.797500</td>\n",
       "      <td>7.344085</td>\n",
       "    </tr>\n",
       "    <tr>\n",
       "      <th>50</th>\n",
       "      <td>2022050500391</td>\n",
       "      <td>314.566238</td>\n",
       "      <td>31.714235</td>\n",
       "      <td>4.987934</td>\n",
       "      <td>-2.008397</td>\n",
       "      <td>5.377094</td>\n",
       "      <td>5.228703</td>\n",
       "      <td>2.867997</td>\n",
       "      <td>4.625129</td>\n",
       "      <td>5.442171</td>\n",
       "      <td>-4.681909</td>\n",
       "      <td>4.595259</td>\n",
       "      <td>6.560234</td>\n",
       "    </tr>\n",
       "    <tr>\n",
       "      <th>51</th>\n",
       "      <td>2022050500393</td>\n",
       "      <td>315.217488</td>\n",
       "      <td>60.439507</td>\n",
       "      <td>7.539719</td>\n",
       "      <td>-0.390505</td>\n",
       "      <td>7.549824</td>\n",
       "      <td>7.481547</td>\n",
       "      <td>11.448767</td>\n",
       "      <td>4.907452</td>\n",
       "      <td>12.456218</td>\n",
       "      <td>-3.577835</td>\n",
       "      <td>6.718118</td>\n",
       "      <td>7.611439</td>\n",
       "    </tr>\n",
       "    <tr>\n",
       "      <th>52</th>\n",
       "      <td>2022050500395</td>\n",
       "      <td>326.514949</td>\n",
       "      <td>43.141126</td>\n",
       "      <td>5.415982</td>\n",
       "      <td>-0.847114</td>\n",
       "      <td>5.481831</td>\n",
       "      <td>5.392060</td>\n",
       "      <td>5.813122</td>\n",
       "      <td>3.329921</td>\n",
       "      <td>6.699310</td>\n",
       "      <td>-5.862849</td>\n",
       "      <td>4.704096</td>\n",
       "      <td>7.516749</td>\n",
       "    </tr>\n",
       "    <tr>\n",
       "      <th>53</th>\n",
       "      <td>2022050500397</td>\n",
       "      <td>336.943834</td>\n",
       "      <td>31.289217</td>\n",
       "      <td>5.677466</td>\n",
       "      <td>-1.836885</td>\n",
       "      <td>5.967224</td>\n",
       "      <td>5.473155</td>\n",
       "      <td>4.791252</td>\n",
       "      <td>3.632806</td>\n",
       "      <td>6.012768</td>\n",
       "      <td>-6.657798</td>\n",
       "      <td>4.601241</td>\n",
       "      <td>8.093065</td>\n",
       "    </tr>\n",
       "    <tr>\n",
       "      <th>54</th>\n",
       "      <td>2022050500399</td>\n",
       "      <td>337.414728</td>\n",
       "      <td>63.397338</td>\n",
       "      <td>5.074800</td>\n",
       "      <td>-1.942987</td>\n",
       "      <td>5.434041</td>\n",
       "      <td>5.414116</td>\n",
       "      <td>9.183672</td>\n",
       "      <td>3.522261</td>\n",
       "      <td>9.835962</td>\n",
       "      <td>-3.763370</td>\n",
       "      <td>4.643097</td>\n",
       "      <td>5.976730</td>\n",
       "    </tr>\n",
       "    <tr>\n",
       "      <th>55</th>\n",
       "      <td>2022050500401</td>\n",
       "      <td>348.711635</td>\n",
       "      <td>41.616598</td>\n",
       "      <td>4.845960</td>\n",
       "      <td>-2.498416</td>\n",
       "      <td>5.452102</td>\n",
       "      <td>5.254261</td>\n",
       "      <td>5.486707</td>\n",
       "      <td>3.284420</td>\n",
       "      <td>6.394636</td>\n",
       "      <td>-5.938911</td>\n",
       "      <td>4.551680</td>\n",
       "      <td>7.482543</td>\n",
       "    </tr>\n",
       "    <tr>\n",
       "      <th>56</th>\n",
       "      <td>2022050500403</td>\n",
       "      <td>338.234163</td>\n",
       "      <td>38.780612</td>\n",
       "      <td>5.008662</td>\n",
       "      <td>3.179764</td>\n",
       "      <td>5.932756</td>\n",
       "      <td>5.724037</td>\n",
       "      <td>7.126332</td>\n",
       "      <td>-1.381737</td>\n",
       "      <td>7.259050</td>\n",
       "      <td>-10.230876</td>\n",
       "      <td>1.754361</td>\n",
       "      <td>10.380203</td>\n",
       "    </tr>\n",
       "    <tr>\n",
       "      <th>57</th>\n",
       "      <td>2022050500405</td>\n",
       "      <td>337.682849</td>\n",
       "      <td>38.624589</td>\n",
       "      <td>-2.000077</td>\n",
       "      <td>-5.100132</td>\n",
       "      <td>5.478289</td>\n",
       "      <td>5.442770</td>\n",
       "      <td>-4.544616</td>\n",
       "      <td>4.125991</td>\n",
       "      <td>6.138187</td>\n",
       "      <td>0.313556</td>\n",
       "      <td>0.443091</td>\n",
       "      <td>0.542814</td>\n",
       "    </tr>\n",
       "  </tbody>\n",
       "</table>\n",
       "</div>"
      ],
      "text/plain": [
       "        exposures     azimuth  elevation   delta_ra  delta_dec  delta_radec  \\\n",
       "0   2022050500291  359.056448  29.612477  -2.182202  -1.487810     2.641133   \n",
       "1   2022050500293   15.158964  48.174643   0.410797  -0.275286     0.494507   \n",
       "2   2022050500295   20.651709  72.184971   0.562895   0.626087     0.841923   \n",
       "3   2022050500297   22.060721  34.071047   0.047650   0.351771     0.354983   \n",
       "4   2022050500299   33.457881  44.241117  -1.445941   0.354606     1.488789   \n",
       "5   2022050500301   44.676145  24.868847  -7.321805   6.205670     9.597873   \n",
       "6   2022050500303   45.076480  53.790429  -0.462833   2.720501     2.759591   \n",
       "7   2022050500305   44.959548  83.034205   3.286379  -1.772305     3.733812   \n",
       "8   2022050500307   55.877435  35.730455  -3.550586  -0.246383     3.559125   \n",
       "9   2022050500309   67.241002  33.572339  -3.717024  -0.156551     3.720319   \n",
       "10  2022050500311   66.209921  69.679867  -1.270809  -4.315006     4.498248   \n",
       "11  2022050500313   74.872215  57.334566   0.768488  -1.331737     1.537562   \n",
       "12  2022050500315   78.662947  39.958962  -0.350013  -1.543418     1.582608   \n",
       "13  2022050500317   89.630963  25.452120  -0.512759  -2.531798     2.583200   \n",
       "14  2022050500319  101.104986  48.062011  -2.396814  -3.605980     4.329874   \n",
       "15  2022050500321  105.331830  49.367127  -4.865328  -4.321714     6.507582   \n",
       "16  2022050500323  112.558119  23.690015  -2.491268  -4.721948     5.338840   \n",
       "17  2022050500325  112.391513  63.231309 -10.591615  -4.624986    11.557370   \n",
       "18  2022050500327  123.737360  45.709193  -3.007608  -2.193986     3.722805   \n",
       "19  2022050500329  134.851281  29.170560  -6.735123  -2.930618     7.345094   \n",
       "20  2022050500331  135.635393  48.803296  -6.472646  -0.082590     6.473172   \n",
       "21  2022050500333  135.974862  79.409419  -3.588474   3.429871     4.963986   \n",
       "22  2022050500335  146.395244  24.843422  -8.253755  -2.690820     8.681301   \n",
       "23  2022050500337  146.523217  45.134147  -8.419289   1.129827     8.494759   \n",
       "24  2022050500339  158.635081  71.888068  -2.250392   3.961763     4.556296   \n",
       "25  2022050500341  158.042124  35.514080 -16.339279   0.348964    16.343005   \n",
       "26  2022050500343  165.907079  55.753308  -6.155589   5.149607     8.025568   \n",
       "27  2022050500345  168.988813  44.612376  -8.365193   3.567831     9.094277   \n",
       "28  2022050500347  180.001043  22.350285  -3.405263  -3.755830     5.069722   \n",
       "29  2022050500349  191.312332  48.613921  -1.734292   8.016290     8.201748   \n",
       "30  2022050500351  194.729357  50.272350   3.417727   4.989377     6.047706   \n",
       "31  2022050500353  202.690739  24.220611  12.376116  -1.099117    12.424826   \n",
       "32  2022050500355  202.791182  69.103860  -2.792064   7.375403     7.886202   \n",
       "33  2022050500357  213.903947  46.330651   5.028415   3.628262     6.200746   \n",
       "34  2022050500359  224.982760  49.326773   5.551627   3.681584     6.661428   \n",
       "35  2022050500361  224.792358  31.286225   9.103812   2.185296     9.362420   \n",
       "36  2022050500363  231.835503  85.092223   1.521341  -1.128200     1.894020   \n",
       "37  2022050500365  236.523965  37.181991   9.510435   0.157469     9.511738   \n",
       "38  2022050500367  236.228932  25.211925   8.736130  -0.240514     8.739440   \n",
       "39  2022050500369  248.066460  70.793510   7.544032   2.897354     8.081280   \n",
       "40  2022050500371  247.068671  23.160426   8.281240   0.361856     8.289142   \n",
       "41  2022050500373  258.777083  40.244401   6.244885   7.793618     9.986945   \n",
       "42  2022050500375  269.312853  22.589452   3.876425   1.594432     4.191526   \n",
       "43  2022050500377  280.956761  39.940693   6.144007   1.024808     6.228889   \n",
       "44  2022050500379  280.886582  22.697667   4.866877   0.201473     4.871046   \n",
       "45  2022050500381  285.345545  60.706209   7.658781   3.067999     8.250427   \n",
       "46  2022050500383  292.994008  70.209752   8.261196   4.356445     9.339484   \n",
       "47  2022050500385  291.825115  25.205977   3.932592   1.051235     4.070673   \n",
       "48  2022050500387  303.919805  42.963195   5.520847  -0.297594     5.528861   \n",
       "49  2022050500389  312.790852  75.017040   8.097714   1.343157     8.208352   \n",
       "50  2022050500391  314.566238  31.714235   4.987934  -2.008397     5.377094   \n",
       "51  2022050500393  315.217488  60.439507   7.539719  -0.390505     7.549824   \n",
       "52  2022050500395  326.514949  43.141126   5.415982  -0.847114     5.481831   \n",
       "53  2022050500397  336.943834  31.289217   5.677466  -1.836885     5.967224   \n",
       "54  2022050500399  337.414728  63.397338   5.074800  -1.942987     5.434041   \n",
       "55  2022050500401  348.711635  41.616598   4.845960  -2.498416     5.452102   \n",
       "56  2022050500403  338.234163  38.780612   5.008662   3.179764     5.932756   \n",
       "57  2022050500405  337.682849  38.624589  -2.000077  -5.100132     5.478289   \n",
       "\n",
       "    pointing_distance_radec   delta_az  delta_el  delta_azel  \\\n",
       "0                  2.401941  -2.200068  1.453264    2.636717   \n",
       "1                  0.488795   0.684034  0.175752    0.706251   \n",
       "2                  0.831861   1.062722 -0.765765    1.309876   \n",
       "3                  0.354514  -0.098856 -0.344962    0.358847   \n",
       "4                  1.469099  -1.982233  0.376807    2.017729   \n",
       "5                  9.254411 -10.196078 -0.287885   10.200141   \n",
       "6                  2.759516  -3.436656 -1.869375    3.912183   \n",
       "7                  3.463695  27.981575 -0.694749   27.990199   \n",
       "8                  3.540868  -2.807868  2.710009    3.902341   \n",
       "9                  3.720311  -2.546346  3.056352    3.978086   \n",
       "10                 4.476273   8.645937  3.320502    9.261639   \n",
       "11                 1.520146   2.816655  0.004256    2.816658   \n",
       "12                 1.581192   1.512609  1.075258    1.855846   \n",
       "13                 2.580965   2.220238  1.625648    2.751761   \n",
       "14                 4.171593   4.470272  2.911692    5.334912   \n",
       "15                 5.976673   5.370217  4.847024    7.234146   \n",
       "16                 5.188888   3.881719  3.780121    5.418215   \n",
       "17                 9.679765  11.803323  8.089987   14.309658   \n",
       "18                 3.082544   3.108134  2.189016    3.801617   \n",
       "19                 5.157971   2.176565  4.794998    5.265875   \n",
       "20                 4.015360   1.435608  3.902504    4.158186   \n",
       "21                 4.459210  -4.035501  4.397358    5.968419   \n",
       "22                 4.952444   1.428199  4.779710    4.988524   \n",
       "23                 4.383778   0.344208  4.377063    4.390576   \n",
       "24                 4.251988  -1.468907  4.227581    4.475503   \n",
       "25                 5.396391   0.718289  5.364533    5.412408   \n",
       "26                 5.882405   0.291279  5.880213    5.887423   \n",
       "27                 4.318472  -0.067274  4.318191    4.318715   \n",
       "28                 3.784121  -0.458718  3.760109    3.787986   \n",
       "29                 8.038956   6.665701  6.723503    9.467685   \n",
       "30                 5.164011   2.654542  4.877401    5.552984   \n",
       "31                 4.553321   0.648403  4.514625    4.560950   \n",
       "32                 7.600262  14.934522  5.421821   15.888238   \n",
       "33                 4.447155   3.685528  3.647127    5.185042   \n",
       "34                 5.061375   4.341374  4.196782    6.038254   \n",
       "35                 6.037295   3.687853  5.149412    6.333775   \n",
       "36                 1.702050 -19.414051  0.372516   19.417624   \n",
       "37                 6.936100   1.522245  6.829363    6.996958   \n",
       "38                 6.644814   2.154254  6.352554    6.707888   \n",
       "39                 6.790045   5.441895  6.550221    8.515845   \n",
       "40                 7.140492   3.324648  6.453248    7.259318   \n",
       "41                 9.576376  11.957101  2.901228   12.304040   \n",
       "42                 4.116541   3.453263  2.604184    4.325135   \n",
       "43                 6.109801   5.082934  4.706068    6.926997   \n",
       "44                 4.866291   2.959907  4.028236    4.998773   \n",
       "45                 7.862291  12.489762  4.947827   13.434104   \n",
       "46                 8.857538  22.860015  4.308778   23.262542   \n",
       "47                 4.059684   3.504067  2.536076    4.325525   \n",
       "48                 5.528576   4.956769  4.172897    6.479400   \n",
       "49                 7.751671  25.319994  4.153409   25.658388   \n",
       "50                 5.228703   2.867997  4.625129    5.442171   \n",
       "51                 7.481547  11.448767  4.907452   12.456218   \n",
       "52                 5.392060   5.813122  3.329921    6.699310   \n",
       "53                 5.473155   4.791252  3.632806    6.012768   \n",
       "54                 5.414116   9.183672  3.522261    9.835962   \n",
       "55                 5.254261   5.486707  3.284420    6.394636   \n",
       "56                 5.724037   7.126332 -1.381737    7.259050   \n",
       "57                 5.442770  -4.544616  4.125991    6.138187   \n",
       "\n",
       "    delta_x [pixels]  delta_y [pixels]  delta_xy [pixels]  \n",
       "0          -2.645981         -0.282791           2.661050  \n",
       "1          -5.200326         -0.166235           5.202982  \n",
       "2          -5.853166         -0.559158           5.879814  \n",
       "3          -5.146613         -0.954501           5.234377  \n",
       "4          -3.739163         -1.334673           3.970226  \n",
       "5           3.269333         -4.728122           5.748363  \n",
       "6          -5.308771         -3.366595           6.286255  \n",
       "7          -6.219566          2.628537           6.752200  \n",
       "8          -1.597583          0.271317           1.620458  \n",
       "9          -1.572013          0.765441           1.748463  \n",
       "10         -2.992400          3.366579           4.504255  \n",
       "11         -5.847064          0.655792           5.883725  \n",
       "12         -5.228224          0.945844           5.313092  \n",
       "13         -6.140969          1.704482           6.373128  \n",
       "14         -4.864356          3.546344           6.019844  \n",
       "15         -3.630412          5.189689           6.333464  \n",
       "16         -6.763109          4.266397           7.996361  \n",
       "17         -0.202181          7.770914           7.773544  \n",
       "18         -4.970914          2.459945           5.546289  \n",
       "19         -4.334536          4.489463           6.240471  \n",
       "20         -2.704356          2.655507           3.790153  \n",
       "21         -0.564817         -0.597178           0.821973  \n",
       "22         -4.168690          4.255827           5.957352  \n",
       "23         -2.083189          2.628976           3.354279  \n",
       "24         -0.855997          0.219176           0.883611  \n",
       "25         -2.355621          4.068345           4.701105  \n",
       "26         -0.242495          2.804222           2.814688  \n",
       "27         -1.950630          2.411715           3.101826  \n",
       "28         -3.153578          2.667486           4.130440  \n",
       "29         -2.877406          7.124714           7.683815  \n",
       "30         -2.354328          3.798256           4.468737  \n",
       "31         -3.697989          3.733814           5.255139  \n",
       "32         -1.776460          6.249202           6.496795  \n",
       "33         -4.128752          3.733947           5.566772  \n",
       "34         -3.671093          4.255025           5.619801  \n",
       "35         -5.024940          5.414994           7.387299  \n",
       "36         -4.576579         -2.264159           5.106025  \n",
       "37         -1.832915          5.536195           5.831727  \n",
       "38         -4.063352          5.952710           7.207328  \n",
       "39          0.602396          3.178889           3.235463  \n",
       "40         -5.263467          6.514107           8.374824  \n",
       "41        -10.096698          7.499736          12.577335  \n",
       "42         -6.921599          3.030713           7.556041  \n",
       "43         -4.986824          5.487385           7.414837  \n",
       "44         -5.984877          4.148182           7.281907  \n",
       "45         -3.699424          7.127556           8.030429  \n",
       "46         -3.612716          8.121975           8.889218  \n",
       "47         -6.811048          3.022844           7.451709  \n",
       "48         -4.844018          4.903381           6.892580  \n",
       "49         -2.780211          6.797500           7.344085  \n",
       "50         -4.681909          4.595259           6.560234  \n",
       "51         -3.577835          6.718118           7.611439  \n",
       "52         -5.862849          4.704096           7.516749  \n",
       "53         -6.657798          4.601241           8.093065  \n",
       "54         -3.763370          4.643097           5.976730  \n",
       "55         -5.938911          4.551680           7.482543  \n",
       "56        -10.230876          1.754361          10.380203  \n",
       "57          0.313556          0.443091           0.542814  "
      ]
     },
     "execution_count": 40,
     "metadata": {},
     "output_type": "execute_result"
    }
   ],
   "source": [
    "df"
   ]
  },
  {
   "cell_type": "code",
   "execution_count": 12,
   "id": "bfbb45eb-6ea5-4e21-ac0f-d211442e6d7d",
   "metadata": {},
   "outputs": [],
   "source": [
    "df.to_csv('PointingApril.txt')"
   ]
  },
  {
   "cell_type": "code",
   "execution_count": 5,
   "id": "792b894d-8909-4b98-9399-a48031732ade",
   "metadata": {},
   "outputs": [
    {
     "ename": "SyntaxError",
     "evalue": "invalid character in identifier (1416278915.py, line 1)",
     "output_type": "error",
     "traceback": [
      "\u001b[0;36m  Input \u001b[0;32mIn [5]\u001b[0;36m\u001b[0m\n\u001b[0;31m    df = pd.read_csv(´PointingApril.txt´)\u001b[0m\n\u001b[0m                                  ^\u001b[0m\n\u001b[0;31mSyntaxError\u001b[0m\u001b[0;31m:\u001b[0m invalid character in identifier\n"
     ]
    }
   ],
   "source": [
    "df = pd.read_csv(´PointingApril.txt´) "
   ]
  },
  {
   "cell_type": "code",
   "execution_count": 53,
   "id": "7071e2b6-9f73-49a2-9511-8f14486fa9ac",
   "metadata": {},
   "outputs": [
    {
     "data": {
      "image/png": "[encoded data removed]",
      "text/plain": [
       "<Figure size 1152x576 with 2 Axes>"
      ]
     },
     "metadata": {
      "needs_background": "light"
     },
     "output_type": "display_data"
    }
   ],
   "source": [
    "%matplotlib inline\n",
    "fig = plt.figure(figsize=(16,8))\n",
    "plt.scatter(df['azimuth'], df['elevation'], \n",
    "            s=50, alpha=0.5, c=df['delta_dec'], label=f'Pointing Error', cmap='jet')\n",
    "plt.title('2022 April 7th Pointing', fontsize = 16)\n",
    "plt.colorbar().set_label('Pointing Error [arcsec]',fontsize=16)\n",
    "plt.ylabel('Elevation [deg]',fontsize=12)\n",
    "plt.xlabel('Azimuth [deg]',fontsize=12)\n",
    "plt.show()"
   ]
  },
  {
   "cell_type": "code",
   "execution_count": 53,
   "id": "ba0eed69-8894-4852-903f-fff7b5a67434",
   "metadata": {},
   "outputs": [
    {
     "data": {
      "text/plain": [
       "15.28117219217928"
      ]
     },
     "execution_count": 53,
     "metadata": {},
     "output_type": "execute_result"
    }
   ],
   "source": [
    "np.sqrt(((df['pointing_origin']**2).sum())/len(df))"
   ]
  },
  {
   "cell_type": "code",
   "execution_count": 54,
   "id": "28d3d44f-1048-44cf-9c9b-e99b949ecdf8",
   "metadata": {},
   "outputs": [
    {
     "data": {
      "text/html": [
       "<div>\n",
       "<style scoped>\n",
       "    .dataframe tbody tr th:only-of-type {\n",
       "        vertical-align: middle;\n",
       "    }\n",
       "\n",
       "    .dataframe tbody tr th {\n",
       "        vertical-align: top;\n",
       "    }\n",
       "\n",
       "    .dataframe thead th {\n",
       "        text-align: right;\n",
       "    }\n",
       "</style>\n",
       "<table border=\"1\" class=\"dataframe\">\n",
       "  <thead>\n",
       "    <tr style=\"text-align: right;\">\n",
       "      <th></th>\n",
       "      <th>exposures</th>\n",
       "      <th>azimuth</th>\n",
       "      <th>elevation</th>\n",
       "      <th>dx_origin</th>\n",
       "      <th>dy_origin</th>\n",
       "      <th>pointing_origin</th>\n",
       "    </tr>\n",
       "  </thead>\n",
       "  <tbody>\n",
       "    <tr>\n",
       "      <th>2</th>\n",
       "      <td>2022040700163</td>\n",
       "      <td>22.657208</td>\n",
       "      <td>63.482507</td>\n",
       "      <td>-11.938966</td>\n",
       "      <td>1.746821</td>\n",
       "      <td>12.066080</td>\n",
       "    </tr>\n",
       "    <tr>\n",
       "      <th>5</th>\n",
       "      <td>2022040700169</td>\n",
       "      <td>42.837597</td>\n",
       "      <td>79.642034</td>\n",
       "      <td>-28.857139</td>\n",
       "      <td>1.960139</td>\n",
       "      <td>28.923634</td>\n",
       "    </tr>\n",
       "    <tr>\n",
       "      <th>6</th>\n",
       "      <td>2022040700171</td>\n",
       "      <td>45.388340</td>\n",
       "      <td>57.268978</td>\n",
       "      <td>-12.080630</td>\n",
       "      <td>3.833643</td>\n",
       "      <td>12.674322</td>\n",
       "    </tr>\n",
       "    <tr>\n",
       "      <th>7</th>\n",
       "      <td>2022040700173</td>\n",
       "      <td>68.216398</td>\n",
       "      <td>67.838822</td>\n",
       "      <td>-18.640733</td>\n",
       "      <td>2.598924</td>\n",
       "      <td>18.821034</td>\n",
       "    </tr>\n",
       "    <tr>\n",
       "      <th>8</th>\n",
       "      <td>2022040700175</td>\n",
       "      <td>67.709831</td>\n",
       "      <td>36.129588</td>\n",
       "      <td>-10.548647</td>\n",
       "      <td>0.218469</td>\n",
       "      <td>10.550909</td>\n",
       "    </tr>\n",
       "    <tr>\n",
       "      <th>9</th>\n",
       "      <td>2022040700177</td>\n",
       "      <td>75.333283</td>\n",
       "      <td>47.294385</td>\n",
       "      <td>-10.728641</td>\n",
       "      <td>2.706948</td>\n",
       "      <td>11.064868</td>\n",
       "    </tr>\n",
       "    <tr>\n",
       "      <th>10</th>\n",
       "      <td>2022040700179</td>\n",
       "      <td>90.000282</td>\n",
       "      <td>24.990776</td>\n",
       "      <td>-16.156700</td>\n",
       "      <td>-19.051145</td>\n",
       "      <td>24.979694</td>\n",
       "    </tr>\n",
       "    <tr>\n",
       "      <th>14</th>\n",
       "      <td>2022040700187</td>\n",
       "      <td>112.002506</td>\n",
       "      <td>70.632324</td>\n",
       "      <td>-18.438678</td>\n",
       "      <td>-2.943649</td>\n",
       "      <td>18.672170</td>\n",
       "    </tr>\n",
       "    <tr>\n",
       "      <th>18</th>\n",
       "      <td>2022040700195</td>\n",
       "      <td>136.106829</td>\n",
       "      <td>72.081512</td>\n",
       "      <td>-19.384137</td>\n",
       "      <td>-6.168262</td>\n",
       "      <td>20.341884</td>\n",
       "    </tr>\n",
       "    <tr>\n",
       "      <th>19</th>\n",
       "      <td>2022040700197</td>\n",
       "      <td>146.653490</td>\n",
       "      <td>22.075075</td>\n",
       "      <td>-16.521149</td>\n",
       "      <td>-25.344972</td>\n",
       "      <td>30.254189</td>\n",
       "    </tr>\n",
       "    <tr>\n",
       "      <th>21</th>\n",
       "      <td>2022040700201</td>\n",
       "      <td>157.056037</td>\n",
       "      <td>70.074182</td>\n",
       "      <td>-16.487897</td>\n",
       "      <td>-4.899728</td>\n",
       "      <td>17.200525</td>\n",
       "    </tr>\n",
       "    <tr>\n",
       "      <th>24</th>\n",
       "      <td>2022040700207</td>\n",
       "      <td>168.296290</td>\n",
       "      <td>23.449488</td>\n",
       "      <td>-15.042729</td>\n",
       "      <td>-18.681095</td>\n",
       "      <td>23.984725</td>\n",
       "    </tr>\n",
       "    <tr>\n",
       "      <th>26</th>\n",
       "      <td>2022040700211</td>\n",
       "      <td>179.844063</td>\n",
       "      <td>33.614872</td>\n",
       "      <td>-9.704641</td>\n",
       "      <td>-3.248266</td>\n",
       "      <td>10.233830</td>\n",
       "    </tr>\n",
       "    <tr>\n",
       "      <th>27</th>\n",
       "      <td>2022040700213</td>\n",
       "      <td>191.285889</td>\n",
       "      <td>40.198602</td>\n",
       "      <td>-8.868921</td>\n",
       "      <td>4.707054</td>\n",
       "      <td>10.040623</td>\n",
       "    </tr>\n",
       "    <tr>\n",
       "      <th>29</th>\n",
       "      <td>2022040700217</td>\n",
       "      <td>202.360473</td>\n",
       "      <td>26.051482</td>\n",
       "      <td>-14.338125</td>\n",
       "      <td>-13.481731</td>\n",
       "      <td>19.680928</td>\n",
       "    </tr>\n",
       "    <tr>\n",
       "      <th>30</th>\n",
       "      <td>2022040700219</td>\n",
       "      <td>202.634310</td>\n",
       "      <td>59.597511</td>\n",
       "      <td>-10.304115</td>\n",
       "      <td>0.778561</td>\n",
       "      <td>10.333486</td>\n",
       "    </tr>\n",
       "    <tr>\n",
       "      <th>31</th>\n",
       "      <td>2022040700221</td>\n",
       "      <td>213.846699</td>\n",
       "      <td>22.052111</td>\n",
       "      <td>-17.127924</td>\n",
       "      <td>-23.236608</td>\n",
       "      <td>28.867035</td>\n",
       "    </tr>\n",
       "    <tr>\n",
       "      <th>35</th>\n",
       "      <td>2022040700229</td>\n",
       "      <td>226.032989</td>\n",
       "      <td>77.015262</td>\n",
       "      <td>-21.591620</td>\n",
       "      <td>-3.427240</td>\n",
       "      <td>21.861931</td>\n",
       "    </tr>\n",
       "    <tr>\n",
       "      <th>40</th>\n",
       "      <td>2022040700239</td>\n",
       "      <td>258.391779</td>\n",
       "      <td>21.799651</td>\n",
       "      <td>-14.015223</td>\n",
       "      <td>-17.074905</td>\n",
       "      <td>22.090244</td>\n",
       "    </tr>\n",
       "    <tr>\n",
       "      <th>43</th>\n",
       "      <td>2022040700245</td>\n",
       "      <td>280.909956</td>\n",
       "      <td>26.813839</td>\n",
       "      <td>-12.538206</td>\n",
       "      <td>-7.604354</td>\n",
       "      <td>14.663997</td>\n",
       "    </tr>\n",
       "    <tr>\n",
       "      <th>45</th>\n",
       "      <td>2022040700249</td>\n",
       "      <td>292.063196</td>\n",
       "      <td>63.102435</td>\n",
       "      <td>-11.034724</td>\n",
       "      <td>5.279847</td>\n",
       "      <td>12.232821</td>\n",
       "    </tr>\n",
       "    <tr>\n",
       "      <th>46</th>\n",
       "      <td>2022040700251</td>\n",
       "      <td>292.039465</td>\n",
       "      <td>29.114268</td>\n",
       "      <td>-12.430958</td>\n",
       "      <td>-3.983729</td>\n",
       "      <td>13.053690</td>\n",
       "    </tr>\n",
       "    <tr>\n",
       "      <th>48</th>\n",
       "      <td>2022040700255</td>\n",
       "      <td>315.143609</td>\n",
       "      <td>32.226785</td>\n",
       "      <td>-11.681893</td>\n",
       "      <td>-3.393605</td>\n",
       "      <td>12.164834</td>\n",
       "    </tr>\n",
       "    <tr>\n",
       "      <th>49</th>\n",
       "      <td>2022040700257</td>\n",
       "      <td>312.895131</td>\n",
       "      <td>74.209672</td>\n",
       "      <td>-23.530123</td>\n",
       "      <td>-0.048462</td>\n",
       "      <td>23.530173</td>\n",
       "    </tr>\n",
       "    <tr>\n",
       "      <th>52</th>\n",
       "      <td>2022040700263</td>\n",
       "      <td>337.092609</td>\n",
       "      <td>66.298069</td>\n",
       "      <td>-16.617803</td>\n",
       "      <td>-0.455782</td>\n",
       "      <td>16.624052</td>\n",
       "    </tr>\n",
       "    <tr>\n",
       "      <th>54</th>\n",
       "      <td>2022040700267</td>\n",
       "      <td>99.580207</td>\n",
       "      <td>80.776030</td>\n",
       "      <td>-31.337983</td>\n",
       "      <td>-0.632662</td>\n",
       "      <td>31.344369</td>\n",
       "    </tr>\n",
       "    <tr>\n",
       "      <th>55</th>\n",
       "      <td>2022040700269</td>\n",
       "      <td>99.875808</td>\n",
       "      <td>81.373994</td>\n",
       "      <td>-29.936087</td>\n",
       "      <td>-0.381988</td>\n",
       "      <td>29.938524</td>\n",
       "    </tr>\n",
       "    <tr>\n",
       "      <th>57</th>\n",
       "      <td>2022040700273</td>\n",
       "      <td>185.082649</td>\n",
       "      <td>82.074378</td>\n",
       "      <td>-32.203078</td>\n",
       "      <td>1.451521</td>\n",
       "      <td>32.235774</td>\n",
       "    </tr>\n",
       "    <tr>\n",
       "      <th>58</th>\n",
       "      <td>2022040700275</td>\n",
       "      <td>269.464008</td>\n",
       "      <td>20.949165</td>\n",
       "      <td>-13.283189</td>\n",
       "      <td>-20.402512</td>\n",
       "      <td>24.345546</td>\n",
       "    </tr>\n",
       "    <tr>\n",
       "      <th>59</th>\n",
       "      <td>2022040700277</td>\n",
       "      <td>19.139395</td>\n",
       "      <td>23.455764</td>\n",
       "      <td>-15.227819</td>\n",
       "      <td>-17.102805</td>\n",
       "      <td>22.899616</td>\n",
       "    </tr>\n",
       "    <tr>\n",
       "      <th>60</th>\n",
       "      <td>2022040700279</td>\n",
       "      <td>18.630404</td>\n",
       "      <td>23.621900</td>\n",
       "      <td>-12.730632</td>\n",
       "      <td>-14.146054</td>\n",
       "      <td>19.031022</td>\n",
       "    </tr>\n",
       "    <tr>\n",
       "      <th>61</th>\n",
       "      <td>2022040700281</td>\n",
       "      <td>110.186835</td>\n",
       "      <td>81.808773</td>\n",
       "      <td>-32.110488</td>\n",
       "      <td>-3.096298</td>\n",
       "      <td>32.259425</td>\n",
       "    </tr>\n",
       "    <tr>\n",
       "      <th>62</th>\n",
       "      <td>2022040700283</td>\n",
       "      <td>249.953710</td>\n",
       "      <td>24.038310</td>\n",
       "      <td>-9.882886</td>\n",
       "      <td>-11.994691</td>\n",
       "      <td>15.541687</td>\n",
       "    </tr>\n",
       "    <tr>\n",
       "      <th>63</th>\n",
       "      <td>2022040700285</td>\n",
       "      <td>249.441415</td>\n",
       "      <td>22.929568</td>\n",
       "      <td>-10.727480</td>\n",
       "      <td>-15.265808</td>\n",
       "      <td>18.658074</td>\n",
       "    </tr>\n",
       "    <tr>\n",
       "      <th>65</th>\n",
       "      <td>2022040700289</td>\n",
       "      <td>239.974088</td>\n",
       "      <td>69.581070</td>\n",
       "      <td>-10.952898</td>\n",
       "      <td>-3.428724</td>\n",
       "      <td>11.477026</td>\n",
       "    </tr>\n",
       "    <tr>\n",
       "      <th>66</th>\n",
       "      <td>2022040700291</td>\n",
       "      <td>240.076700</td>\n",
       "      <td>69.455981</td>\n",
       "      <td>-10.797597</td>\n",
       "      <td>-3.163365</td>\n",
       "      <td>11.251444</td>\n",
       "    </tr>\n",
       "    <tr>\n",
       "      <th>67</th>\n",
       "      <td>2022040700293</td>\n",
       "      <td>179.969092</td>\n",
       "      <td>60.100632</td>\n",
       "      <td>-10.489076</td>\n",
       "      <td>-1.033028</td>\n",
       "      <td>10.539823</td>\n",
       "    </tr>\n",
       "    <tr>\n",
       "      <th>73</th>\n",
       "      <td>2022040700305</td>\n",
       "      <td>109.370980</td>\n",
       "      <td>30.289896</td>\n",
       "      <td>-11.121801</td>\n",
       "      <td>-9.677096</td>\n",
       "      <td>14.742478</td>\n",
       "    </tr>\n",
       "  </tbody>\n",
       "</table>\n",
       "</div>"
      ],
      "text/plain": [
       "        exposures     azimuth  elevation  dx_origin  dy_origin  \\\n",
       "2   2022040700163   22.657208  63.482507 -11.938966   1.746821   \n",
       "5   2022040700169   42.837597  79.642034 -28.857139   1.960139   \n",
       "6   2022040700171   45.388340  57.268978 -12.080630   3.833643   \n",
       "7   2022040700173   68.216398  67.838822 -18.640733   2.598924   \n",
       "8   2022040700175   67.709831  36.129588 -10.548647   0.218469   \n",
       "9   2022040700177   75.333283  47.294385 -10.728641   2.706948   \n",
       "10  2022040700179   90.000282  24.990776 -16.156700 -19.051145   \n",
       "14  2022040700187  112.002506  70.632324 -18.438678  -2.943649   \n",
       "18  2022040700195  136.106829  72.081512 -19.384137  -6.168262   \n",
       "19  2022040700197  146.653490  22.075075 -16.521149 -25.344972   \n",
       "21  2022040700201  157.056037  70.074182 -16.487897  -4.899728   \n",
       "24  2022040700207  168.296290  23.449488 -15.042729 -18.681095   \n",
       "26  2022040700211  179.844063  33.614872  -9.704641  -3.248266   \n",
       "27  2022040700213  191.285889  40.198602  -8.868921   4.707054   \n",
       "29  2022040700217  202.360473  26.051482 -14.338125 -13.481731   \n",
       "30  2022040700219  202.634310  59.597511 -10.304115   0.778561   \n",
       "31  2022040700221  213.846699  22.052111 -17.127924 -23.236608   \n",
       "35  2022040700229  226.032989  77.015262 -21.591620  -3.427240   \n",
       "40  2022040700239  258.391779  21.799651 -14.015223 -17.074905   \n",
       "43  2022040700245  280.909956  26.813839 -12.538206  -7.604354   \n",
       "45  2022040700249  292.063196  63.102435 -11.034724   5.279847   \n",
       "46  2022040700251  292.039465  29.114268 -12.430958  -3.983729   \n",
       "48  2022040700255  315.143609  32.226785 -11.681893  -3.393605   \n",
       "49  2022040700257  312.895131  74.209672 -23.530123  -0.048462   \n",
       "52  2022040700263  337.092609  66.298069 -16.617803  -0.455782   \n",
       "54  2022040700267   99.580207  80.776030 -31.337983  -0.632662   \n",
       "55  2022040700269   99.875808  81.373994 -29.936087  -0.381988   \n",
       "57  2022040700273  185.082649  82.074378 -32.203078   1.451521   \n",
       "58  2022040700275  269.464008  20.949165 -13.283189 -20.402512   \n",
       "59  2022040700277   19.139395  23.455764 -15.227819 -17.102805   \n",
       "60  2022040700279   18.630404  23.621900 -12.730632 -14.146054   \n",
       "61  2022040700281  110.186835  81.808773 -32.110488  -3.096298   \n",
       "62  2022040700283  249.953710  24.038310  -9.882886 -11.994691   \n",
       "63  2022040700285  249.441415  22.929568 -10.727480 -15.265808   \n",
       "65  2022040700289  239.974088  69.581070 -10.952898  -3.428724   \n",
       "66  2022040700291  240.076700  69.455981 -10.797597  -3.163365   \n",
       "67  2022040700293  179.969092  60.100632 -10.489076  -1.033028   \n",
       "73  2022040700305  109.370980  30.289896 -11.121801  -9.677096   \n",
       "\n",
       "    pointing_origin  \n",
       "2         12.066080  \n",
       "5         28.923634  \n",
       "6         12.674322  \n",
       "7         18.821034  \n",
       "8         10.550909  \n",
       "9         11.064868  \n",
       "10        24.979694  \n",
       "14        18.672170  \n",
       "18        20.341884  \n",
       "19        30.254189  \n",
       "21        17.200525  \n",
       "24        23.984725  \n",
       "26        10.233830  \n",
       "27        10.040623  \n",
       "29        19.680928  \n",
       "30        10.333486  \n",
       "31        28.867035  \n",
       "35        21.861931  \n",
       "40        22.090244  \n",
       "43        14.663997  \n",
       "45        12.232821  \n",
       "46        13.053690  \n",
       "48        12.164834  \n",
       "49        23.530173  \n",
       "52        16.624052  \n",
       "54        31.344369  \n",
       "55        29.938524  \n",
       "57        32.235774  \n",
       "58        24.345546  \n",
       "59        22.899616  \n",
       "60        19.031022  \n",
       "61        32.259425  \n",
       "62        15.541687  \n",
       "63        18.658074  \n",
       "65        11.477026  \n",
       "66        11.251444  \n",
       "67        10.539823  \n",
       "73        14.742478  "
      ]
     },
     "execution_count": 54,
     "metadata": {},
     "output_type": "execute_result"
    }
   ],
   "source": [
    "# Calculate the relative pointing difference between origin and target position or pointing accuracy after each slew. \n",
    "len(df)\n",
    "\n",
    "(df[df['pointing_origin']>10]) "
   ]
  },
  {
   "cell_type": "markdown",
   "id": "33c910f9-015c-4d7b-9e88-eb872dbe4d64",
   "metadata": {},
   "source": [
    "***"
   ]
  },
  {
   "cell_type": "code",
   "execution_count": 21,
   "id": "84b39295-171b-4933-9773-068589545218",
   "metadata": {},
   "outputs": [
    {
     "name": "stdout",
     "output_type": "stream",
     "text": [
      "The pointing accuracy RMS for the analyzed large slew and settle tests is 30.34 arcsec\n"
     ]
    }
   ],
   "source": [
    "# Calculate pointing accuracy RMS. \n",
    "rms = np.sqrt(((df['Relative_pointing[arcsec]']**2).sum())/len(df))\n",
    "print(f'The pointing accuracy RMS for the analyzed large slew and settle tests is {rms:0.2f} arcsec')"
   ]
  },
  {
   "cell_type": "code",
   "execution_count": null,
   "id": "1076a15c-f061-44c9-a01e-77fe1fdd827a",
   "metadata": {},
   "outputs": [],
   "source": []
  },
  {
   "cell_type": "markdown",
   "id": "7dfcb0e9-765b-40c2-884e-f30ac091667f",
   "metadata": {},
   "source": [
    "# Pointing difference from images using wcs and Merlin's code"
   ]
  },
  {
   "cell_type": "code",
   "execution_count": 12,
   "id": "15a26833-64b7-4a7c-91e0-fdd971713d67",
   "metadata": {},
   "outputs": [],
   "source": [
    "def getExpPositionOffset(exp1, exp2):\n",
    "    # need the exps if we want altAz because we need the observation times\n",
    "    wcs1 = exp1.getWcs()\n",
    "    wcs2 = exp2.getWcs()\n",
    "    p1 = wcs1.getSkyOrigin()\n",
    "    p2 = wcs2.getSkyOrigin()\n",
    "\n",
    "    vi1 = exp1.getInfo().getVisitInfo()\n",
    "    vi2 = exp2.getInfo().getVisitInfo()\n",
    "\n",
    "    # AltAz via astropy\n",
    "    skyLocation1 = SkyCoord(p1.getRa().asRadians(), p1.getDec().asRadians(), unit=u.rad)\n",
    "    altAz1 = AltAz(obstime=vi1.date.toPython(), location=AUXTEL_LOCATION)\n",
    "    obsAltAz1 = skyLocation1.transform_to(altAz1)\n",
    "    alt1 = geom.Angle(obsAltAz1.alt.degree, geom.degrees)\n",
    "    az1 = geom.Angle(obsAltAz1.az.degree, geom.degrees)\n",
    "\n",
    "    skyLocation2 = SkyCoord(p2.getRa().asRadians(), p2.getDec().asRadians(), unit=u.rad)\n",
    "    altAz2 = AltAz(obstime=vi2.date.toPython(), location=AUXTEL_LOCATION)\n",
    "    obsAltAz2 = skyLocation2.transform_to(altAz2)\n",
    "    alt2 = geom.Angle(obsAltAz2.alt.degree, geom.degrees)\n",
    "    az2 = geom.Angle(obsAltAz2.az.degree, geom.degrees)\n",
    "\n",
    "    # ra/dec via the stack\n",
    "    # NB using the wcs not the exp visitInfo as that's unfitted\n",
    "    # and so is always identical for a given object/pointing\n",
    "    ra1 = p1[0]\n",
    "    ra2 = p2[0]\n",
    "    dec1 = p1[1]\n",
    "    dec2 = p2[1]\n",
    "\n",
    "    angular_offset = p1.separation(p2).asArcseconds()\n",
    "    delta_pixels = angular_offset / wcs1.getPixelScale().asArcseconds()\n",
    "\n",
    "    ret = pipeBase.Struct(deltaRa=ra1-ra2,\n",
    "                          deltaDec=dec1-dec2,\n",
    "                          deltaAlt=alt1-alt2,\n",
    "                          deltaAz=az1-az2,\n",
    "                          delta_pixel_magnitude=delta_pixels,\n",
    "                          angular_offset_arcsec=angular_offset\n",
    "                          )\n",
    "\n",
    "    return ret"
   ]
  },
  {
   "cell_type": "code",
   "execution_count": 22,
   "id": "eada7b63-bf9f-4d27-9f56-ce3227b75bd9",
   "metadata": {},
   "outputs": [
    {
     "data": {
      "text/html": [
       "<pre style=\"margin: 0.1em;\n",
       "padding-left: 0.25em;\n",
       "border-left-style: solid;\n",
       "font-family: var(--jp-code-font-family);\n",
       "font-size: var(--jp-code-font-size);\n",
       "line-height: var(--jp-code-line-height);\n",
       "\"><span style=\"color: var(--jp-warn-color2)\">lsst.rapid.analysis.bestEffort</span> <span style=\"color: var(--jp-info-color0)\">INFO</span>: Found a ready-made quickLookExp in the repo. Returning that.</pre>"
      ],
      "text/plain": [
       "<IPython.core.display.HTML object>"
      ]
     },
     "metadata": {},
     "output_type": "display_data"
    },
    {
     "data": {
      "text/html": [
       "<pre style=\"margin: 0.1em;\n",
       "padding-left: 0.25em;\n",
       "border-left-style: solid;\n",
       "font-family: var(--jp-code-font-family);\n",
       "font-size: var(--jp-code-font-size);\n",
       "line-height: var(--jp-code-line-height);\n",
       "\"><span style=\"color: var(--jp-warn-color2)\">lsst.rapid.analysis.bestEffort</span> <span style=\"color: var(--jp-info-color0)\">INFO</span>: Found a ready-made quickLookExp in the repo. Returning that.</pre>"
      ],
      "text/plain": [
       "<IPython.core.display.HTML object>"
      ]
     },
     "metadata": {},
     "output_type": "display_data"
    },
    {
     "name": "stdout",
     "output_type": "stream",
     "text": [
      "Struct(deltaRa=4.87839e-07 rad; deltaDec=-7.26963e-08 rad; deltaAlt=-0.000832188 rad; deltaAz=0.000206465 rad; delta_pixel_magnitude=0.7141095566194752; angular_offset_arcsec=0.06833671397775147)\n"
     ]
    },
    {
     "data": {
      "text/html": [
       "<pre style=\"margin: 0.1em;\n",
       "padding-left: 0.25em;\n",
       "border-left-style: solid;\n",
       "font-family: var(--jp-code-font-family);\n",
       "font-size: var(--jp-code-font-size);\n",
       "line-height: var(--jp-code-line-height);\n",
       "\"><span style=\"color: var(--jp-warn-color2)\">lsst.rapid.analysis.bestEffort</span> <span style=\"color: var(--jp-info-color0)\">INFO</span>: Found a ready-made quickLookExp in the repo. Returning that.</pre>"
      ],
      "text/plain": [
       "<IPython.core.display.HTML object>"
      ]
     },
     "metadata": {},
     "output_type": "display_data"
    },
    {
     "data": {
      "text/html": [
       "<pre style=\"margin: 0.1em;\n",
       "padding-left: 0.25em;\n",
       "border-left-style: solid;\n",
       "font-family: var(--jp-code-font-family);\n",
       "font-size: var(--jp-code-font-size);\n",
       "line-height: var(--jp-code-line-height);\n",
       "\"><span style=\"color: var(--jp-warn-color2)\">lsst.rapid.analysis.bestEffort</span> <span style=\"color: var(--jp-info-color0)\">INFO</span>: Found a ready-made quickLookExp in the repo. Returning that.</pre>"
      ],
      "text/plain": [
       "<IPython.core.display.HTML object>"
      ]
     },
     "metadata": {},
     "output_type": "display_data"
    },
    {
     "name": "stdout",
     "output_type": "stream",
     "text": [
      "Struct(deltaRa=-1.81154e-06 rad; deltaDec=-2.43979e-08 rad; deltaAlt=-0.00083027 rad; deltaAz=0.000205164 rad; delta_pixel_magnitude=2.5876836078883008; angular_offset_arcsec=0.2476283826922847)\n"
     ]
    },
    {
     "data": {
      "text/html": [
       "<pre style=\"margin: 0.1em;\n",
       "padding-left: 0.25em;\n",
       "border-left-style: solid;\n",
       "font-family: var(--jp-code-font-family);\n",
       "font-size: var(--jp-code-font-size);\n",
       "line-height: var(--jp-code-line-height);\n",
       "\"><span style=\"color: var(--jp-warn-color2)\">lsst.rapid.analysis.bestEffort</span> <span style=\"color: var(--jp-info-color0)\">INFO</span>: Found a ready-made quickLookExp in the repo. Returning that.</pre>"
      ],
      "text/plain": [
       "<IPython.core.display.HTML object>"
      ]
     },
     "metadata": {},
     "output_type": "display_data"
    },
    {
     "data": {
      "text/html": [
       "<pre style=\"margin: 0.1em;\n",
       "padding-left: 0.25em;\n",
       "border-left-style: solid;\n",
       "font-family: var(--jp-code-font-family);\n",
       "font-size: var(--jp-code-font-size);\n",
       "line-height: var(--jp-code-line-height);\n",
       "\"><span style=\"color: var(--jp-warn-color2)\">lsst.rapid.analysis.bestEffort</span> <span style=\"color: var(--jp-info-color0)\">INFO</span>: Found a ready-made quickLookExp in the repo. Returning that.</pre>"
      ],
      "text/plain": [
       "<IPython.core.display.HTML object>"
      ]
     },
     "metadata": {},
     "output_type": "display_data"
    },
    {
     "name": "stdout",
     "output_type": "stream",
     "text": [
      "Struct(deltaRa=1.50157e-07 rad; deltaDec=7.46367e-08 rad; deltaAlt=-0.000832304 rad; deltaAz=0.000204781 rad; delta_pixel_magnitude=0.2680822017770324; angular_offset_arcsec=0.025654126274476555)\n"
     ]
    }
   ],
   "source": [
    "for i in np.arange(2021110400857, 2021110400860):\n",
    "    expo1 = i\n",
    "    expo2 = i+1\n",
    "\n",
    "    data_id = {'instrument': 'LATISS', 'exposure': expo1, 'detector':0}\n",
    "\n",
    "    exp1 = bestEffort.getExposure(data_id)\n",
    "\n",
    "    data_id = {'instrument': 'LATISS', 'exposure': expo2, 'detector':0}\n",
    "\n",
    "    exp2 = bestEffort.getExposure(data_id)\n",
    "\n",
    "\n",
    "    print(getExpPositionOffset(exp1, exp2))"
   ]
  },
  {
   "cell_type": "code",
   "execution_count": null,
   "id": "84f01a9c-ab69-4660-ac36-db6f1868b505",
   "metadata": {},
   "outputs": [],
   "source": []
  },
  {
   "cell_type": "code",
   "execution_count": 120,
   "id": "8ae7369e-7aaf-4983-b14a-789b3c1111da",
   "metadata": {},
   "outputs": [
    {
     "name": "stdout",
     "output_type": "stream",
     "text": [
      "2022050500291\n"
     ]
    },
    {
     "data": {
      "text/html": [
       "<pre style=\"margin: 0.1em;\n",
       "padding-left: 0.25em;\n",
       "border-left-style: solid;\n",
       "font-family: var(--jp-code-font-family);\n",
       "font-size: var(--jp-code-font-size);\n",
       "line-height: var(--jp-code-line-height);\n",
       "\"><span style=\"color: var(--jp-warn-color2)\">lsst.summit.utils.bestEffort</span> <span style=\"color: var(--jp-info-color0)\">INFO</span>: Found a ready-made quickLookExp in the repo. Returning that.</pre>"
      ],
      "text/plain": [
       "<IPython.core.display.HTML object>"
      ]
     },
     "metadata": {},
     "output_type": "display_data"
    },
    {
     "name": "stdout",
     "output_type": "stream",
     "text": [
      "(133.5977715947, +30.2178389734)\n",
      "2022050500293\n"
     ]
    },
    {
     "data": {
      "text/html": [
       "<pre style=\"margin: 0.1em;\n",
       "padding-left: 0.25em;\n",
       "border-left-style: solid;\n",
       "font-family: var(--jp-code-font-family);\n",
       "font-size: var(--jp-code-font-size);\n",
       "line-height: var(--jp-code-line-height);\n",
       "\"><span style=\"color: var(--jp-warn-color2)\">lsst.summit.utils.bestEffort</span> <span style=\"color: var(--jp-info-color0)\">INFO</span>: Found a ready-made quickLookExp in the repo. Returning that.</pre>"
      ],
      "text/plain": [
       "<IPython.core.display.HTML object>"
      ]
     },
     "metadata": {},
     "output_type": "display_data"
    },
    {
     "name": "stdout",
     "output_type": "stream",
     "text": [
      "(144.9948190921, +10.5102893005)\n",
      "2022050500295\n"
     ]
    },
    {
     "data": {
      "text/html": [
       "<pre style=\"margin: 0.1em;\n",
       "padding-left: 0.25em;\n",
       "border-left-style: solid;\n",
       "font-family: var(--jp-code-font-family);\n",
       "font-size: var(--jp-code-font-size);\n",
       "line-height: var(--jp-code-line-height);\n",
       "\"><span style=\"color: var(--jp-warn-color2)\">lsst.summit.utils.bestEffort</span> <span style=\"color: var(--jp-info-color0)\">INFO</span>: Found a ready-made quickLookExp in the repo. Returning that.</pre>"
      ],
      "text/plain": [
       "<IPython.core.display.HTML object>"
      ]
     },
     "metadata": {},
     "output_type": "display_data"
    },
    {
     "name": "stdout",
     "output_type": "stream",
     "text": [
      "(141.4036781124, -13.3311912380)\n",
      "2022050500297\n"
     ]
    },
    {
     "data": {
      "text/html": [
       "<pre style=\"margin: 0.1em;\n",
       "padding-left: 0.25em;\n",
       "border-left-style: solid;\n",
       "font-family: var(--jp-code-font-family);\n",
       "font-size: var(--jp-code-font-size);\n",
       "line-height: var(--jp-code-line-height);\n",
       "\"><span style=\"color: var(--jp-warn-color2)\">lsst.summit.utils.bestEffort</span> <span style=\"color: var(--jp-info-color0)\">INFO</span>: Found a ready-made quickLookExp in the repo. Returning that.</pre>"
      ],
      "text/plain": [
       "<IPython.core.display.HTML object>"
      ]
     },
     "metadata": {},
     "output_type": "display_data"
    },
    {
     "name": "stdout",
     "output_type": "stream",
     "text": [
      "(154.9123209734, +22.5067307192)\n",
      "2022050500299\n"
     ]
    },
    {
     "data": {
      "text/html": [
       "<pre style=\"margin: 0.1em;\n",
       "padding-left: 0.25em;\n",
       "border-left-style: solid;\n",
       "font-family: var(--jp-code-font-family);\n",
       "font-size: var(--jp-code-font-size);\n",
       "line-height: var(--jp-code-line-height);\n",
       "\"><span style=\"color: var(--jp-warn-color2)\">lsst.summit.utils.bestEffort</span> <span style=\"color: var(--jp-info-color0)\">INFO</span>: Found a ready-made quickLookExp in the repo. Returning that.</pre>"
      ],
      "text/plain": [
       "<IPython.core.display.HTML object>"
      ]
     },
     "metadata": {},
     "output_type": "display_data"
    },
    {
     "name": "stdout",
     "output_type": "stream",
     "text": [
      "(159.0467240292, +9.6071827010)\n",
      "2022050500301\n"
     ]
    },
    {
     "data": {
      "text/html": [
       "<pre style=\"margin: 0.1em;\n",
       "padding-left: 0.25em;\n",
       "border-left-style: solid;\n",
       "font-family: var(--jp-code-font-family);\n",
       "font-size: var(--jp-code-font-size);\n",
       "line-height: var(--jp-code-line-height);\n",
       "\"><span style=\"color: var(--jp-warn-color2)\">lsst.summit.utils.bestEffort</span> <span style=\"color: var(--jp-info-color0)\">INFO</span>: Found a ready-made quickLookExp in the repo. Returning that.</pre>"
      ],
      "text/plain": [
       "<IPython.core.display.HTML object>"
      ]
     },
     "metadata": {},
     "output_type": "display_data"
    },
    {
     "name": "stdout",
     "output_type": "stream",
     "text": [
      "(178.4669842364, +20.3361962640)\n",
      "2022050500303\n"
     ]
    },
    {
     "data": {
      "text/html": [
       "<pre style=\"margin: 0.1em;\n",
       "padding-left: 0.25em;\n",
       "border-left-style: solid;\n",
       "font-family: var(--jp-code-font-family);\n",
       "font-size: var(--jp-code-font-size);\n",
       "line-height: var(--jp-code-line-height);\n",
       "\"><span style=\"color: var(--jp-warn-color2)\">lsst.summit.utils.bestEffort</span> <span style=\"color: var(--jp-info-color0)\">INFO</span>: Found a ready-made quickLookExp in the repo. Returning that.</pre>"
      ],
      "text/plain": [
       "<IPython.core.display.HTML object>"
      ]
     },
     "metadata": {},
     "output_type": "display_data"
    },
    {
     "name": "stdout",
     "output_type": "stream",
     "text": [
      "(160.6370416258, -2.5217707813)\n",
      "2022050500305\n"
     ]
    },
    {
     "data": {
      "text/html": [
       "<pre style=\"margin: 0.1em;\n",
       "padding-left: 0.25em;\n",
       "border-left-style: solid;\n",
       "font-family: var(--jp-code-font-family);\n",
       "font-size: var(--jp-code-font-size);\n",
       "line-height: var(--jp-code-line-height);\n",
       "\"><span style=\"color: var(--jp-warn-color2)\">lsst.summit.utils.bestEffort</span> <span style=\"color: var(--jp-info-color0)\">INFO</span>: Found a ready-made quickLookExp in the repo. Returning that.</pre>"
      ],
      "text/plain": [
       "<IPython.core.display.HTML object>"
      ]
     },
     "metadata": {},
     "output_type": "display_data"
    },
    {
     "name": "stdout",
     "output_type": "stream",
     "text": [
      "(141.5844274953, -25.1056533830)\n",
      "2022050500307\n"
     ]
    },
    {
     "data": {
      "text/html": [
       "<pre style=\"margin: 0.1em;\n",
       "padding-left: 0.25em;\n",
       "border-left-style: solid;\n",
       "font-family: var(--jp-code-font-family);\n",
       "font-size: var(--jp-code-font-size);\n",
       "line-height: var(--jp-code-line-height);\n",
       "\"><span style=\"color: var(--jp-warn-color2)\">lsst.summit.utils.bestEffort</span> <span style=\"color: var(--jp-info-color0)\">INFO</span>: Found a ready-made quickLookExp in the repo. Returning that.</pre>"
      ],
      "text/plain": [
       "<IPython.core.display.HTML object>"
      ]
     },
     "metadata": {},
     "output_type": "display_data"
    },
    {
     "name": "stdout",
     "output_type": "stream",
     "text": [
      "(178.8676991136, +5.8199392684)\n",
      "2022050500309\n"
     ]
    },
    {
     "data": {
      "text/html": [
       "<pre style=\"margin: 0.1em;\n",
       "padding-left: 0.25em;\n",
       "border-left-style: solid;\n",
       "font-family: var(--jp-code-font-family);\n",
       "font-size: var(--jp-code-font-size);\n",
       "line-height: var(--jp-code-line-height);\n",
       "\"><span style=\"color: var(--jp-warn-color2)\">lsst.summit.utils.bestEffort</span> <span style=\"color: var(--jp-info-color0)\">INFO</span>: Found a ready-made quickLookExp in the repo. Returning that.</pre>"
      ],
      "text/plain": [
       "<IPython.core.display.HTML object>"
      ]
     },
     "metadata": {},
     "output_type": "display_data"
    },
    {
     "name": "stdout",
     "output_type": "stream",
     "text": [
      "(186.7528379808, +0.1189871112)\n",
      "2022050500311\n"
     ]
    },
    {
     "data": {
      "text/html": [
       "<pre style=\"margin: 0.1em;\n",
       "padding-left: 0.25em;\n",
       "border-left-style: solid;\n",
       "font-family: var(--jp-code-font-family);\n",
       "font-size: var(--jp-code-font-size);\n",
       "line-height: var(--jp-code-line-height);\n",
       "\"><span style=\"color: var(--jp-warn-color2)\">lsst.summit.utils.bestEffort</span> <span style=\"color: var(--jp-info-color0)\">INFO</span>: Found a ready-made quickLookExp in the repo. Returning that.</pre>"
      ],
      "text/plain": [
       "<IPython.core.display.HTML object>"
      ]
     },
     "metadata": {},
     "output_type": "display_data"
    },
    {
     "name": "stdout",
     "output_type": "stream",
     "text": [
      "(156.6568528095, -20.4537135708)\n",
      "2022050500313\n"
     ]
    },
    {
     "data": {
      "text/html": [
       "<pre style=\"margin: 0.1em;\n",
       "padding-left: 0.25em;\n",
       "border-left-style: solid;\n",
       "font-family: var(--jp-code-font-family);\n",
       "font-size: var(--jp-code-font-size);\n",
       "line-height: var(--jp-code-line-height);\n",
       "\"><span style=\"color: var(--jp-warn-color2)\">lsst.summit.utils.bestEffort</span> <span style=\"color: var(--jp-info-color0)\">INFO</span>: Found a ready-made quickLookExp in the repo. Returning that.</pre>"
      ],
      "text/plain": [
       "<IPython.core.display.HTML object>"
      ]
     },
     "metadata": {},
     "output_type": "display_data"
    },
    {
     "name": "stdout",
     "output_type": "stream",
     "text": [
      "(170.1064731668, -17.4749163294)\n",
      "2022050500315\n"
     ]
    },
    {
     "data": {
      "text/html": [
       "<pre style=\"margin: 0.1em;\n",
       "padding-left: 0.25em;\n",
       "border-left-style: solid;\n",
       "font-family: var(--jp-code-font-family);\n",
       "font-size: var(--jp-code-font-size);\n",
       "line-height: var(--jp-code-line-height);\n",
       "\"><span style=\"color: var(--jp-warn-color2)\">lsst.summit.utils.bestEffort</span> <span style=\"color: var(--jp-info-color0)\">INFO</span>: Found a ready-made quickLookExp in the repo. Returning that.</pre>"
      ],
      "text/plain": [
       "<IPython.core.display.HTML object>"
      ]
     },
     "metadata": {},
     "output_type": "display_data"
    },
    {
     "name": "stdout",
     "output_type": "stream",
     "text": [
      "(187.1528930385, -11.0221796484)\n",
      "2022050500317\n"
     ]
    },
    {
     "data": {
      "text/html": [
       "<pre style=\"margin: 0.1em;\n",
       "padding-left: 0.25em;\n",
       "border-left-style: solid;\n",
       "font-family: var(--jp-code-font-family);\n",
       "font-size: var(--jp-code-font-size);\n",
       "line-height: var(--jp-code-line-height);\n",
       "\"><span style=\"color: var(--jp-warn-color2)\">lsst.summit.utils.bestEffort</span> <span style=\"color: var(--jp-info-color0)\">INFO</span>: Found a ready-made quickLookExp in the repo. Returning that.</pre>"
      ],
      "text/plain": [
       "<IPython.core.display.HTML object>"
      ]
     },
     "metadata": {},
     "output_type": "display_data"
    },
    {
     "name": "stdout",
     "output_type": "stream",
     "text": [
      "(204.8247513132, -12.0922355706)\n",
      "2022050500319\n"
     ]
    },
    {
     "data": {
      "text/html": [
       "<pre style=\"margin: 0.1em;\n",
       "padding-left: 0.25em;\n",
       "border-left-style: solid;\n",
       "font-family: var(--jp-code-font-family);\n",
       "font-size: var(--jp-code-font-size);\n",
       "line-height: var(--jp-code-line-height);\n",
       "\"><span style=\"color: var(--jp-warn-color2)\">lsst.summit.utils.bestEffort</span> <span style=\"color: var(--jp-info-color0)\">INFO</span>: Found a ready-made quickLookExp in the repo. Returning that.</pre>"
      ],
      "text/plain": [
       "<IPython.core.display.HTML object>"
      ]
     },
     "metadata": {},
     "output_type": "display_data"
    },
    {
     "name": "stdout",
     "output_type": "stream",
     "text": [
      "(186.1685004476, -28.9446438843)\n",
      "2022050500321\n"
     ]
    },
    {
     "data": {
      "text/html": [
       "<pre style=\"margin: 0.1em;\n",
       "padding-left: 0.25em;\n",
       "border-left-style: solid;\n",
       "font-family: var(--jp-code-font-family);\n",
       "font-size: var(--jp-code-font-size);\n",
       "line-height: var(--jp-code-line-height);\n",
       "\"><span style=\"color: var(--jp-warn-color2)\">lsst.summit.utils.bestEffort</span> <span style=\"color: var(--jp-info-color0)\">INFO</span>: Found a ready-made quickLookExp in the repo. Returning that.</pre>"
      ],
      "text/plain": [
       "<IPython.core.display.HTML object>"
      ]
     },
     "metadata": {},
     "output_type": "display_data"
    },
    {
     "name": "stdout",
     "output_type": "stream",
     "text": [
      "(185.5194012679, -31.9469282224)\n",
      "2022050500323\n"
     ]
    },
    {
     "data": {
      "text/html": [
       "<pre style=\"margin: 0.1em;\n",
       "padding-left: 0.25em;\n",
       "border-left-style: solid;\n",
       "font-family: var(--jp-code-font-family);\n",
       "font-size: var(--jp-code-font-size);\n",
       "line-height: var(--jp-code-line-height);\n",
       "\"><span style=\"color: var(--jp-warn-color2)\">lsst.summit.utils.bestEffort</span> <span style=\"color: var(--jp-info-color0)\">INFO</span>: Found a ready-made quickLookExp in the repo. Returning that.</pre>"
      ],
      "text/plain": [
       "<IPython.core.display.HTML object>"
      ]
     },
     "metadata": {},
     "output_type": "display_data"
    },
    {
     "name": "stdout",
     "output_type": "stream",
     "text": [
      "(216.5008823561, -30.2860515376)\n",
      "2022050500325\n"
     ]
    },
    {
     "data": {
      "text/html": [
       "<pre style=\"margin: 0.1em;\n",
       "padding-left: 0.25em;\n",
       "border-left-style: solid;\n",
       "font-family: var(--jp-code-font-family);\n",
       "font-size: var(--jp-code-font-size);\n",
       "line-height: var(--jp-code-line-height);\n",
       "\"><span style=\"color: var(--jp-warn-color2)\">lsst.summit.utils.bestEffort</span> <span style=\"color: var(--jp-info-color0)\">INFO</span>: Found a ready-made quickLookExp in the repo. Returning that.</pre>"
      ],
      "text/plain": [
       "<IPython.core.display.HTML object>"
      ]
     },
     "metadata": {},
     "output_type": "display_data"
    },
    {
     "name": "stdout",
     "output_type": "stream",
     "text": [
      "(169.4926259351, -36.5965978165)\n",
      "2022050500327\n"
     ]
    },
    {
     "data": {
      "text/html": [
       "<pre style=\"margin: 0.1em;\n",
       "padding-left: 0.25em;\n",
       "border-left-style: solid;\n",
       "font-family: var(--jp-code-font-family);\n",
       "font-size: var(--jp-code-font-size);\n",
       "line-height: var(--jp-code-line-height);\n",
       "\"><span style=\"color: var(--jp-warn-color2)\">lsst.summit.utils.bestEffort</span> <span style=\"color: var(--jp-info-color0)\">INFO</span>: Found a ready-made quickLookExp in the repo. Returning that.</pre>"
      ],
      "text/plain": [
       "<IPython.core.display.HTML object>"
      ]
     },
     "metadata": {},
     "output_type": "display_data"
    },
    {
     "name": "stdout",
     "output_type": "stream",
     "text": [
      "(192.2667547180, -43.9493812921)\n",
      "2022050500329\n"
     ]
    },
    {
     "data": {
      "text/html": [
       "<pre style=\"margin: 0.1em;\n",
       "padding-left: 0.25em;\n",
       "border-left-style: solid;\n",
       "font-family: var(--jp-code-font-family);\n",
       "font-size: var(--jp-code-font-size);\n",
       "line-height: var(--jp-code-line-height);\n",
       "\"><span style=\"color: var(--jp-warn-color2)\">lsst.summit.utils.bestEffort</span> <span style=\"color: var(--jp-info-color0)\">INFO</span>: Found a ready-made quickLookExp in the repo. Returning that.</pre>"
      ],
      "text/plain": [
       "<IPython.core.display.HTML object>"
      ]
     },
     "metadata": {},
     "output_type": "display_data"
    },
    {
     "name": "stdout",
     "output_type": "stream",
     "text": [
      "(218.3082396266, -50.9330532411)\n",
      "2022050500331\n"
     ]
    },
    {
     "data": {
      "text/html": [
       "<pre style=\"margin: 0.1em;\n",
       "padding-left: 0.25em;\n",
       "border-left-style: solid;\n",
       "font-family: var(--jp-code-font-family);\n",
       "font-size: var(--jp-code-font-size);\n",
       "line-height: var(--jp-code-line-height);\n",
       "\"><span style=\"color: var(--jp-warn-color2)\">lsst.summit.utils.bestEffort</span> <span style=\"color: var(--jp-info-color0)\">INFO</span>: Found a ready-made quickLookExp in the repo. Returning that.</pre>"
      ],
      "text/plain": [
       "<IPython.core.display.HTML object>"
      ]
     },
     "metadata": {},
     "output_type": "display_data"
    },
    {
     "name": "stdout",
     "output_type": "stream",
     "text": [
      "(186.8590888326, -51.6662468245)\n",
      "2022050500333\n"
     ]
    },
    {
     "data": {
      "text/html": [
       "<pre style=\"margin: 0.1em;\n",
       "padding-left: 0.25em;\n",
       "border-left-style: solid;\n",
       "font-family: var(--jp-code-font-family);\n",
       "font-size: var(--jp-code-font-size);\n",
       "line-height: var(--jp-code-line-height);\n",
       "\"><span style=\"color: var(--jp-warn-color2)\">lsst.summit.utils.bestEffort</span> <span style=\"color: var(--jp-info-color0)\">INFO</span>: Found a ready-made quickLookExp in the repo. Returning that.</pre>"
      ],
      "text/plain": [
       "<IPython.core.display.HTML object>"
      ]
     },
     "metadata": {},
     "output_type": "display_data"
    },
    {
     "name": "stdout",
     "output_type": "stream",
     "text": [
      "(148.3100210771, -37.4278901348)\n",
      "2022050500335\n"
     ]
    },
    {
     "data": {
      "text/html": [
       "<pre style=\"margin: 0.1em;\n",
       "padding-left: 0.25em;\n",
       "border-left-style: solid;\n",
       "font-family: var(--jp-code-font-family);\n",
       "font-size: var(--jp-code-font-size);\n",
       "line-height: var(--jp-code-line-height);\n",
       "\"><span style=\"color: var(--jp-warn-color2)\">lsst.summit.utils.bestEffort</span> <span style=\"color: var(--jp-info-color0)\">INFO</span>: Found a ready-made quickLookExp in the repo. Returning that.</pre>"
      ],
      "text/plain": [
       "<IPython.core.display.HTML object>"
      ]
     },
     "metadata": {},
     "output_type": "display_data"
    },
    {
     "name": "stdout",
     "output_type": "stream",
     "text": [
      "(231.1202630418, -59.7516187254)\n",
      "2022050500337\n"
     ]
    },
    {
     "data": {
      "text/html": [
       "<pre style=\"margin: 0.1em;\n",
       "padding-left: 0.25em;\n",
       "border-left-style: solid;\n",
       "font-family: var(--jp-code-font-family);\n",
       "font-size: var(--jp-code-font-size);\n",
       "line-height: var(--jp-code-line-height);\n",
       "\"><span style=\"color: var(--jp-warn-color2)\">lsst.summit.utils.bestEffort</span> <span style=\"color: var(--jp-info-color0)\">INFO</span>: Found a ready-made quickLookExp in the repo. Returning that.</pre>"
      ],
      "text/plain": [
       "<IPython.core.display.HTML object>"
      ]
     },
     "metadata": {},
     "output_type": "display_data"
    },
    {
     "name": "stdout",
     "output_type": "stream",
     "text": [
      "(190.3587269377, -59.7941889548)\n",
      "2022050500339\n"
     ]
    },
    {
     "data": {
      "text/html": [
       "<pre style=\"margin: 0.1em;\n",
       "padding-left: 0.25em;\n",
       "border-left-style: solid;\n",
       "font-family: var(--jp-code-font-family);\n",
       "font-size: var(--jp-code-font-size);\n",
       "line-height: var(--jp-code-line-height);\n",
       "\"><span style=\"color: var(--jp-warn-color2)\">lsst.summit.utils.bestEffort</span> <span style=\"color: var(--jp-info-color0)\">INFO</span>: Found a ready-made quickLookExp in the repo. Returning that.</pre>"
      ],
      "text/plain": [
       "<IPython.core.display.HTML object>"
      ]
     },
     "metadata": {},
     "output_type": "display_data"
    },
    {
     "name": "stdout",
     "output_type": "stream",
     "text": [
      "(149.2831296889, -46.6779537359)\n",
      "2022050500341\n"
     ]
    },
    {
     "data": {
      "text/html": [
       "<pre style=\"margin: 0.1em;\n",
       "padding-left: 0.25em;\n",
       "border-left-style: solid;\n",
       "font-family: var(--jp-code-font-family);\n",
       "font-size: var(--jp-code-font-size);\n",
       "line-height: var(--jp-code-line-height);\n",
       "\"><span style=\"color: var(--jp-warn-color2)\">lsst.summit.utils.bestEffort</span> <span style=\"color: var(--jp-info-color0)\">INFO</span>: Found a ready-made quickLookExp in the repo. Returning that.</pre>"
      ],
      "text/plain": [
       "<IPython.core.display.HTML object>"
      ]
     },
     "metadata": {},
     "output_type": "display_data"
    },
    {
     "name": "stdout",
     "output_type": "stream",
     "text": [
      "(207.9815207687, -70.7556051948)\n",
      "2022050500343\n"
     ]
    },
    {
     "data": {
      "text/html": [
       "<pre style=\"margin: 0.1em;\n",
       "padding-left: 0.25em;\n",
       "border-left-style: solid;\n",
       "font-family: var(--jp-code-font-family);\n",
       "font-size: var(--jp-code-font-size);\n",
       "line-height: var(--jp-code-line-height);\n",
       "\"><span style=\"color: var(--jp-warn-color2)\">lsst.summit.utils.bestEffort</span> <span style=\"color: var(--jp-info-color0)\">INFO</span>: Found a ready-made quickLookExp in the repo. Returning that.</pre>"
      ],
      "text/plain": [
       "<IPython.core.display.HTML object>"
      ]
     },
     "metadata": {},
     "output_type": "display_data"
    },
    {
     "name": "stdout",
     "output_type": "stream",
     "text": [
      "(157.5489661184, -62.4894262399)\n",
      "2022050500345\n"
     ]
    },
    {
     "data": {
      "text/html": [
       "<pre style=\"margin: 0.1em;\n",
       "padding-left: 0.25em;\n",
       "border-left-style: solid;\n",
       "font-family: var(--jp-code-font-family);\n",
       "font-size: var(--jp-code-font-size);\n",
       "line-height: var(--jp-code-line-height);\n",
       "\"><span style=\"color: var(--jp-warn-color2)\">lsst.summit.utils.bestEffort</span> <span style=\"color: var(--jp-info-color0)\">INFO</span>: Found a ready-made quickLookExp in the repo. Returning that.</pre>"
      ],
      "text/plain": [
       "<IPython.core.display.HTML object>"
      ]
     },
     "metadata": {},
     "output_type": "display_data"
    },
    {
     "name": "stdout",
     "output_type": "stream",
     "text": [
      "(168.4605767818, -73.0899385284)\n",
      "2022050500347\n"
     ]
    },
    {
     "data": {
      "text/html": [
       "<pre style=\"margin: 0.1em;\n",
       "padding-left: 0.25em;\n",
       "border-left-style: solid;\n",
       "font-family: var(--jp-code-font-family);\n",
       "font-size: var(--jp-code-font-size);\n",
       "line-height: var(--jp-code-line-height);\n",
       "\"><span style=\"color: var(--jp-warn-color2)\">lsst.summit.utils.bestEffort</span> <span style=\"color: var(--jp-info-color0)\">INFO</span>: Found a ready-made quickLookExp in the repo. Returning that.</pre>"
      ],
      "text/plain": [
       "<IPython.core.display.HTML object>"
      ]
     },
     "metadata": {},
     "output_type": "display_data"
    },
    {
     "name": "stdout",
     "output_type": "stream",
     "text": [
      "(319.9344043919, -82.2050882876)\n",
      "2022050500349\n"
     ]
    },
    {
     "data": {
      "text/html": [
       "<pre style=\"margin: 0.1em;\n",
       "padding-left: 0.25em;\n",
       "border-left-style: solid;\n",
       "font-family: var(--jp-code-font-family);\n",
       "font-size: var(--jp-code-font-size);\n",
       "line-height: var(--jp-code-line-height);\n",
       "\"><span style=\"color: var(--jp-warn-color2)\">lsst.summit.utils.bestEffort</span> <span style=\"color: var(--jp-info-color0)\">INFO</span>: Found a ready-made quickLookExp in the repo. Returning that.</pre>"
      ],
      "text/plain": [
       "<IPython.core.display.HTML object>"
      ]
     },
     "metadata": {},
     "output_type": "display_data"
    },
    {
     "name": "stdout",
     "output_type": "stream",
     "text": [
      "(119.0688821693, -69.6455877656)\n",
      "2022050500351\n"
     ]
    },
    {
     "data": {
      "text/html": [
       "<pre style=\"margin: 0.1em;\n",
       "padding-left: 0.25em;\n",
       "border-left-style: solid;\n",
       "font-family: var(--jp-code-font-family);\n",
       "font-size: var(--jp-code-font-size);\n",
       "line-height: var(--jp-code-line-height);\n",
       "\"><span style=\"color: var(--jp-warn-color2)\">lsst.summit.utils.bestEffort</span> <span style=\"color: var(--jp-info-color0)\">INFO</span>: Found a ready-made quickLookExp in the repo. Returning that.</pre>"
      ],
      "text/plain": [
       "<IPython.core.display.HTML object>"
      ]
     },
     "metadata": {},
     "output_type": "display_data"
    },
    {
     "name": "stdout",
     "output_type": "stream",
     "text": [
      "(116.4251844467, -67.0698298675)\n",
      "2022050500353\n"
     ]
    },
    {
     "data": {
      "text/html": [
       "<pre style=\"margin: 0.1em;\n",
       "padding-left: 0.25em;\n",
       "border-left-style: solid;\n",
       "font-family: var(--jp-code-font-family);\n",
       "font-size: var(--jp-code-font-size);\n",
       "line-height: var(--jp-code-line-height);\n",
       "\"><span style=\"color: var(--jp-warn-color2)\">lsst.summit.utils.bestEffort</span> <span style=\"color: var(--jp-info-color0)\">INFO</span>: Found a ready-made quickLookExp in the repo. Returning that.</pre>"
      ],
      "text/plain": [
       "<IPython.core.display.HTML object>"
      ]
     },
     "metadata": {},
     "output_type": "display_data"
    },
    {
     "name": "stdout",
     "output_type": "stream",
     "text": [
      "(40.1573110430, -69.0831672958)\n",
      "2022050500355\n"
     ]
    },
    {
     "data": {
      "text/html": [
       "<pre style=\"margin: 0.1em;\n",
       "padding-left: 0.25em;\n",
       "border-left-style: solid;\n",
       "font-family: var(--jp-code-font-family);\n",
       "font-size: var(--jp-code-font-size);\n",
       "line-height: var(--jp-code-line-height);\n",
       "\"><span style=\"color: var(--jp-warn-color2)\">lsst.summit.utils.bestEffort</span> <span style=\"color: var(--jp-info-color0)\">INFO</span>: Found a ready-made quickLookExp in the repo. Returning that.</pre>"
      ],
      "text/plain": [
       "<IPython.core.display.HTML object>"
      ]
     },
     "metadata": {},
     "output_type": "display_data"
    },
    {
     "name": "stdout",
     "output_type": "stream",
     "text": [
      "(129.3187085050, -48.9103401448)\n",
      "2022050500357\n"
     ]
    },
    {
     "data": {
      "text/html": [
       "<pre style=\"margin: 0.1em;\n",
       "padding-left: 0.25em;\n",
       "border-left-style: solid;\n",
       "font-family: var(--jp-code-font-family);\n",
       "font-size: var(--jp-code-font-size);\n",
       "line-height: var(--jp-code-line-height);\n",
       "\"><span style=\"color: var(--jp-warn-color2)\">lsst.summit.utils.bestEffort</span> <span style=\"color: var(--jp-info-color0)\">INFO</span>: Found a ready-made quickLookExp in the repo. Returning that.</pre>"
      ],
      "text/plain": [
       "<IPython.core.display.HTML object>"
      ]
     },
     "metadata": {},
     "output_type": "display_data"
    },
    {
     "name": "stdout",
     "output_type": "stream",
     "text": [
      "(92.9088388139, -59.2434495282)\n",
      "2022050500359\n"
     ]
    },
    {
     "data": {
      "text/html": [
       "<pre style=\"margin: 0.1em;\n",
       "padding-left: 0.25em;\n",
       "border-left-style: solid;\n",
       "font-family: var(--jp-code-font-family);\n",
       "font-size: var(--jp-code-font-size);\n",
       "line-height: var(--jp-code-line-height);\n",
       "\"><span style=\"color: var(--jp-warn-color2)\">lsst.summit.utils.bestEffort</span> <span style=\"color: var(--jp-info-color0)\">INFO</span>: Found a ready-made quickLookExp in the repo. Returning that.</pre>"
      ],
      "text/plain": [
       "<IPython.core.display.HTML object>"
      ]
     },
     "metadata": {},
     "output_type": "display_data"
    },
    {
     "name": "stdout",
     "output_type": "stream",
     "text": [
      "(94.4587106584, -51.2727841018)\n",
      "2022050500361\n"
     ]
    },
    {
     "data": {
      "text/html": [
       "<pre style=\"margin: 0.1em;\n",
       "padding-left: 0.25em;\n",
       "border-left-style: solid;\n",
       "font-family: var(--jp-code-font-family);\n",
       "font-size: var(--jp-code-font-size);\n",
       "line-height: var(--jp-code-line-height);\n",
       "\"><span style=\"color: var(--jp-warn-color2)\">lsst.summit.utils.bestEffort</span> <span style=\"color: var(--jp-info-color0)\">INFO</span>: Found a ready-made quickLookExp in the repo. Returning that.</pre>"
      ],
      "text/plain": [
       "<IPython.core.display.HTML object>"
      ]
     },
     "metadata": {},
     "output_type": "display_data"
    },
    {
     "name": "stdout",
     "output_type": "stream",
     "text": [
      "(65.4559728008, -51.8172275446)\n",
      "2022050500363\n"
     ]
    },
    {
     "data": {
      "text/html": [
       "<pre style=\"margin: 0.1em;\n",
       "padding-left: 0.25em;\n",
       "border-left-style: solid;\n",
       "font-family: var(--jp-code-font-family);\n",
       "font-size: var(--jp-code-font-size);\n",
       "line-height: var(--jp-code-line-height);\n",
       "\"><span style=\"color: var(--jp-warn-color2)\">lsst.summit.utils.bestEffort</span> <span style=\"color: var(--jp-info-color0)\">INFO</span>: Found a ready-made quickLookExp in the repo. Returning that.</pre>"
      ],
      "text/plain": [
       "<IPython.core.display.HTML object>"
      ]
     },
     "metadata": {},
     "output_type": "display_data"
    },
    {
     "name": "stdout",
     "output_type": "stream",
     "text": [
      "(137.6614093763, -33.1015820788)\n",
      "2022050500365\n"
     ]
    },
    {
     "data": {
      "text/html": [
       "<pre style=\"margin: 0.1em;\n",
       "padding-left: 0.25em;\n",
       "border-left-style: solid;\n",
       "font-family: var(--jp-code-font-family);\n",
       "font-size: var(--jp-code-font-size);\n",
       "line-height: var(--jp-code-line-height);\n",
       "\"><span style=\"color: var(--jp-warn-color2)\">lsst.summit.utils.bestEffort</span> <span style=\"color: var(--jp-info-color0)\">INFO</span>: Found a ready-made quickLookExp in the repo. Returning that.</pre>"
      ],
      "text/plain": [
       "<IPython.core.display.HTML object>"
      ]
     },
     "metadata": {},
     "output_type": "display_data"
    },
    {
     "name": "stdout",
     "output_type": "stream",
     "text": [
      "(76.9559469486, -43.1879215403)\n",
      "2022050500367\n"
     ]
    },
    {
     "data": {
      "text/html": [
       "<pre style=\"margin: 0.1em;\n",
       "padding-left: 0.25em;\n",
       "border-left-style: solid;\n",
       "font-family: var(--jp-code-font-family);\n",
       "font-size: var(--jp-code-font-size);\n",
       "line-height: var(--jp-code-line-height);\n",
       "\"><span style=\"color: var(--jp-warn-color2)\">lsst.summit.utils.bestEffort</span> <span style=\"color: var(--jp-info-color0)\">INFO</span>: Found a ready-made quickLookExp in the repo. Returning that.</pre>"
      ],
      "text/plain": [
       "<IPython.core.display.HTML object>"
      ]
     },
     "metadata": {},
     "output_type": "display_data"
    },
    {
     "name": "stdout",
     "output_type": "stream",
     "text": [
      "(61.4221997039, -40.5270239180)\n",
      "2022050500369\n"
     ]
    },
    {
     "data": {
      "text/html": [
       "<pre style=\"margin: 0.1em;\n",
       "padding-left: 0.25em;\n",
       "border-left-style: solid;\n",
       "font-family: var(--jp-code-font-family);\n",
       "font-size: var(--jp-code-font-size);\n",
       "line-height: var(--jp-code-line-height);\n",
       "\"><span style=\"color: var(--jp-warn-color2)\">lsst.summit.utils.bestEffort</span> <span style=\"color: var(--jp-info-color0)\">INFO</span>: Found a ready-made quickLookExp in the repo. Returning that.</pre>"
      ],
      "text/plain": [
       "<IPython.core.display.HTML object>"
      ]
     },
     "metadata": {},
     "output_type": "display_data"
    },
    {
     "name": "stdout",
     "output_type": "stream",
     "text": [
      "(120.9631999627, -35.5117425168)\n",
      "2022050500371\n"
     ]
    },
    {
     "data": {
      "text/html": [
       "<pre style=\"margin: 0.1em;\n",
       "padding-left: 0.25em;\n",
       "border-left-style: solid;\n",
       "font-family: var(--jp-code-font-family);\n",
       "font-size: var(--jp-code-font-size);\n",
       "line-height: var(--jp-code-line-height);\n",
       "\"><span style=\"color: var(--jp-warn-color2)\">lsst.summit.utils.bestEffort</span> <span style=\"color: var(--jp-info-color0)\">INFO</span>: Found a ready-made quickLookExp in the repo. Returning that.</pre>"
      ],
      "text/plain": [
       "<IPython.core.display.HTML object>"
      ]
     },
     "metadata": {},
     "output_type": "display_data"
    },
    {
     "name": "stdout",
     "output_type": "stream",
     "text": [
      "(63.9184115472, -30.5564633123)\n",
      "2022050500373\n"
     ]
    },
    {
     "data": {
      "text/html": [
       "<pre style=\"margin: 0.1em;\n",
       "padding-left: 0.25em;\n",
       "border-left-style: solid;\n",
       "font-family: var(--jp-code-font-family);\n",
       "font-size: var(--jp-code-font-size);\n",
       "line-height: var(--jp-code-line-height);\n",
       "\"><span style=\"color: var(--jp-warn-color2)\">lsst.summit.utils.bestEffort</span> <span style=\"color: var(--jp-info-color0)\">INFO</span>: Found a ready-made quickLookExp in the repo. Returning that.</pre>"
      ],
      "text/plain": [
       "<IPython.core.display.HTML object>"
      ]
     },
     "metadata": {},
     "output_type": "display_data"
    },
    {
     "name": "stdout",
     "output_type": "stream",
     "text": [
      "(86.2906253925, -26.9917280237)\n",
      "2022050500375\n"
     ]
    },
    {
     "data": {
      "text/html": [
       "<pre style=\"margin: 0.1em;\n",
       "padding-left: 0.25em;\n",
       "border-left-style: solid;\n",
       "font-family: var(--jp-code-font-family);\n",
       "font-size: var(--jp-code-font-size);\n",
       "line-height: var(--jp-code-line-height);\n",
       "\"><span style=\"color: var(--jp-warn-color2)\">lsst.summit.utils.bestEffort</span> <span style=\"color: var(--jp-info-color0)\">INFO</span>: Found a ready-made quickLookExp in the repo. Returning that.</pre>"
      ],
      "text/plain": [
       "<IPython.core.display.HTML object>"
      ]
     },
     "metadata": {},
     "output_type": "display_data"
    },
    {
     "name": "stdout",
     "output_type": "stream",
     "text": [
      "(73.7773263109, -11.7499448763)\n",
      "2022050500377\n"
     ]
    },
    {
     "data": {
      "text/html": [
       "<pre style=\"margin: 0.1em;\n",
       "padding-left: 0.25em;\n",
       "border-left-style: solid;\n",
       "font-family: var(--jp-code-font-family);\n",
       "font-size: var(--jp-code-font-size);\n",
       "line-height: var(--jp-code-line-height);\n",
       "\"><span style=\"color: var(--jp-warn-color2)\">lsst.summit.utils.bestEffort</span> <span style=\"color: var(--jp-info-color0)\">INFO</span>: Found a ready-made quickLookExp in the repo. Returning that.</pre>"
      ],
      "text/plain": [
       "<IPython.core.display.HTML object>"
      ]
     },
     "metadata": {},
     "output_type": "display_data"
    },
    {
     "name": "stdout",
     "output_type": "stream",
     "text": [
      "(94.3452981656, -11.3803219487)\n",
      "2022050500379\n"
     ]
    },
    {
     "data": {
      "text/html": [
       "<pre style=\"margin: 0.1em;\n",
       "padding-left: 0.25em;\n",
       "border-left-style: solid;\n",
       "font-family: var(--jp-code-font-family);\n",
       "font-size: var(--jp-code-font-size);\n",
       "line-height: var(--jp-code-line-height);\n",
       "\"><span style=\"color: var(--jp-warn-color2)\">lsst.summit.utils.bestEffort</span> <span style=\"color: var(--jp-info-color0)\">INFO</span>: Found a ready-made quickLookExp in the repo. Returning that.</pre>"
      ],
      "text/plain": [
       "<IPython.core.display.HTML object>"
      ]
     },
     "metadata": {},
     "output_type": "display_data"
    },
    {
     "name": "stdout",
     "output_type": "stream",
     "text": [
      "(79.6016684277, -2.5354967706)\n",
      "2022050500381\n"
     ]
    },
    {
     "data": {
      "text/html": [
       "<pre style=\"margin: 0.1em;\n",
       "padding-left: 0.25em;\n",
       "border-left-style: solid;\n",
       "font-family: var(--jp-code-font-family);\n",
       "font-size: var(--jp-code-font-size);\n",
       "line-height: var(--jp-code-line-height);\n",
       "\"><span style=\"color: var(--jp-warn-color2)\">lsst.summit.utils.bestEffort</span> <span style=\"color: var(--jp-info-color0)\">INFO</span>: Found a ready-made quickLookExp in the repo. Returning that.</pre>"
      ],
      "text/plain": [
       "<IPython.core.display.HTML object>"
      ]
     },
     "metadata": {},
     "output_type": "display_data"
    },
    {
     "name": "stdout",
     "output_type": "stream",
     "text": [
      "(114.9940795125, -19.0595148294)\n",
      "2022050500383\n"
     ]
    },
    {
     "data": {
      "text/html": [
       "<pre style=\"margin: 0.1em;\n",
       "padding-left: 0.25em;\n",
       "border-left-style: solid;\n",
       "font-family: var(--jp-code-font-family);\n",
       "font-size: var(--jp-code-font-size);\n",
       "line-height: var(--jp-code-line-height);\n",
       "\"><span style=\"color: var(--jp-warn-color2)\">lsst.summit.utils.bestEffort</span> <span style=\"color: var(--jp-info-color0)\">INFO</span>: Found a ready-made quickLookExp in the repo. Returning that.</pre>"
      ],
      "text/plain": [
       "<IPython.core.display.HTML object>"
      ]
     },
     "metadata": {},
     "output_type": "display_data"
    },
    {
     "name": "stdout",
     "output_type": "stream",
     "text": [
      "(125.5991653240, -21.0080473916)\n",
      "2022050500385\n"
     ]
    },
    {
     "data": {
      "text/html": [
       "<pre style=\"margin: 0.1em;\n",
       "padding-left: 0.25em;\n",
       "border-left-style: solid;\n",
       "font-family: var(--jp-code-font-family);\n",
       "font-size: var(--jp-code-font-size);\n",
       "line-height: var(--jp-code-line-height);\n",
       "\"><span style=\"color: var(--jp-warn-color2)\">lsst.summit.utils.bestEffort</span> <span style=\"color: var(--jp-info-color0)\">INFO</span>: Found a ready-made quickLookExp in the repo. Returning that.</pre>"
      ],
      "text/plain": [
       "<IPython.core.display.HTML object>"
      ]
     },
     "metadata": {},
     "output_type": "display_data"
    },
    {
     "name": "stdout",
     "output_type": "stream",
     "text": [
      "(87.9394151386, +4.3575889877)\n",
      "2022050500387\n"
     ]
    },
    {
     "data": {
      "text/html": [
       "<pre style=\"margin: 0.1em;\n",
       "padding-left: 0.25em;\n",
       "border-left-style: solid;\n",
       "font-family: var(--jp-code-font-family);\n",
       "font-size: var(--jp-code-font-size);\n",
       "line-height: var(--jp-code-line-height);\n",
       "\"><span style=\"color: var(--jp-warn-color2)\">lsst.summit.utils.bestEffort</span> <span style=\"color: var(--jp-info-color0)\">INFO</span>: Found a ready-made quickLookExp in the repo. Returning that.</pre>"
      ],
      "text/plain": [
       "<IPython.core.display.HTML object>"
      ]
     },
     "metadata": {},
     "output_type": "display_data"
    },
    {
     "name": "stdout",
     "output_type": "stream",
     "text": [
      "(108.1398437726, +0.5814088687)\n",
      "2022050500389\n"
     ]
    },
    {
     "data": {
      "text/html": [
       "<pre style=\"margin: 0.1em;\n",
       "padding-left: 0.25em;\n",
       "border-left-style: solid;\n",
       "font-family: var(--jp-code-font-family);\n",
       "font-size: var(--jp-code-font-size);\n",
       "line-height: var(--jp-code-line-height);\n",
       "\"><span style=\"color: var(--jp-warn-color2)\">lsst.summit.utils.bestEffort</span> <span style=\"color: var(--jp-info-color0)\">INFO</span>: Found a ready-made quickLookExp in the repo. Returning that.</pre>"
      ],
      "text/plain": [
       "<IPython.core.display.HTML object>"
      ]
     },
     "metadata": {},
     "output_type": "display_data"
    },
    {
     "name": "stdout",
     "output_type": "stream",
     "text": [
      "(134.1875761380, -19.4764127613)\n",
      "2022050500391\n"
     ]
    },
    {
     "data": {
      "text/html": [
       "<pre style=\"margin: 0.1em;\n",
       "padding-left: 0.25em;\n",
       "border-left-style: solid;\n",
       "font-family: var(--jp-code-font-family);\n",
       "font-size: var(--jp-code-font-size);\n",
       "line-height: var(--jp-code-line-height);\n",
       "\"><span style=\"color: var(--jp-warn-color2)\">lsst.summit.utils.bestEffort</span> <span style=\"color: var(--jp-info-color0)\">INFO</span>: Found a ready-made quickLookExp in the repo. Returning that.</pre>"
      ],
      "text/plain": [
       "<IPython.core.display.HTML object>"
      ]
     },
     "metadata": {},
     "output_type": "display_data"
    },
    {
     "name": "stdout",
     "output_type": "stream",
     "text": [
      "(107.2403012021, +14.5658200460)\n",
      "2022050500393\n"
     ]
    },
    {
     "data": {
      "text/html": [
       "<pre style=\"margin: 0.1em;\n",
       "padding-left: 0.25em;\n",
       "border-left-style: solid;\n",
       "font-family: var(--jp-code-font-family);\n",
       "font-size: var(--jp-code-font-size);\n",
       "line-height: var(--jp-code-line-height);\n",
       "\"><span style=\"color: var(--jp-warn-color2)\">lsst.summit.utils.bestEffort</span> <span style=\"color: var(--jp-info-color0)\">INFO</span>: Found a ready-made quickLookExp in the repo. Returning that.</pre>"
      ],
      "text/plain": [
       "<IPython.core.display.HTML object>"
      ]
     },
     "metadata": {},
     "output_type": "display_data"
    },
    {
     "name": "stdout",
     "output_type": "stream",
     "text": [
      "(125.7473183545, -7.7231239781)\n",
      "2022050500395\n"
     ]
    },
    {
     "data": {
      "text/html": [
       "<pre style=\"margin: 0.1em;\n",
       "padding-left: 0.25em;\n",
       "border-left-style: solid;\n",
       "font-family: var(--jp-code-font-family);\n",
       "font-size: var(--jp-code-font-size);\n",
       "line-height: var(--jp-code-line-height);\n",
       "\"><span style=\"color: var(--jp-warn-color2)\">lsst.summit.utils.bestEffort</span> <span style=\"color: var(--jp-info-color0)\">INFO</span>: Found a ready-made quickLookExp in the repo. Returning that.</pre>"
      ],
      "text/plain": [
       "<IPython.core.display.HTML object>"
      ]
     },
     "metadata": {},
     "output_type": "display_data"
    },
    {
     "name": "stdout",
     "output_type": "stream",
     "text": [
      "(122.2696570210, +10.5097371464)\n",
      "2022050500397\n"
     ]
    },
    {
     "data": {
      "text/html": [
       "<pre style=\"margin: 0.1em;\n",
       "padding-left: 0.25em;\n",
       "border-left-style: solid;\n",
       "font-family: var(--jp-code-font-family);\n",
       "font-size: var(--jp-code-font-size);\n",
       "line-height: var(--jp-code-line-height);\n",
       "\"><span style=\"color: var(--jp-warn-color2)\">lsst.summit.utils.bestEffort</span> <span style=\"color: var(--jp-info-color0)\">INFO</span>: Found a ready-made quickLookExp in the repo. Returning that.</pre>"
      ],
      "text/plain": [
       "<IPython.core.display.HTML object>"
      ]
     },
     "metadata": {},
     "output_type": "display_data"
    },
    {
     "name": "stdout",
     "output_type": "stream",
     "text": [
      "(124.9619280754, +24.7550471641)\n",
      "2022050500399\n"
     ]
    },
    {
     "data": {
      "text/html": [
       "<pre style=\"margin: 0.1em;\n",
       "padding-left: 0.25em;\n",
       "border-left-style: solid;\n",
       "font-family: var(--jp-code-font-family);\n",
       "font-size: var(--jp-code-font-size);\n",
       "line-height: var(--jp-code-line-height);\n",
       "\"><span style=\"color: var(--jp-warn-color2)\">lsst.summit.utils.bestEffort</span> <span style=\"color: var(--jp-info-color0)\">INFO</span>: Found a ready-made quickLookExp in the repo. Returning that.</pre>"
      ],
      "text/plain": [
       "<IPython.core.display.HTML object>"
      ]
     },
     "metadata": {},
     "output_type": "display_data"
    },
    {
     "name": "stdout",
     "output_type": "stream",
     "text": [
      "(136.9279001531, -5.2575207755)\n",
      "2022050500401\n"
     ]
    },
    {
     "data": {
      "text/html": [
       "<pre style=\"margin: 0.1em;\n",
       "padding-left: 0.25em;\n",
       "border-left-style: solid;\n",
       "font-family: var(--jp-code-font-family);\n",
       "font-size: var(--jp-code-font-size);\n",
       "line-height: var(--jp-code-line-height);\n",
       "\"><span style=\"color: var(--jp-warn-color2)\">lsst.summit.utils.bestEffort</span> <span style=\"color: var(--jp-info-color0)\">INFO</span>: Found a ready-made quickLookExp in the repo. Returning that.</pre>"
      ],
      "text/plain": [
       "<IPython.core.display.HTML object>"
      ]
     },
     "metadata": {},
     "output_type": "display_data"
    },
    {
     "name": "stdout",
     "output_type": "stream",
     "text": [
      "(138.2270118265, +17.4765928384)\n",
      "2022050500403\n"
     ]
    },
    {
     "data": {
      "text/html": [
       "<pre style=\"margin: 0.1em;\n",
       "padding-left: 0.25em;\n",
       "border-left-style: solid;\n",
       "font-family: var(--jp-code-font-family);\n",
       "font-size: var(--jp-code-font-size);\n",
       "line-height: var(--jp-code-line-height);\n",
       "\"><span style=\"color: var(--jp-warn-color2)\">lsst.summit.utils.bestEffort</span> <span style=\"color: var(--jp-info-color0)\">INFO</span>: Found a ready-made quickLookExp in the repo. Returning that.</pre>"
      ],
      "text/plain": [
       "<IPython.core.display.HTML object>"
      ]
     },
     "metadata": {},
     "output_type": "display_data"
    },
    {
     "name": "stdout",
     "output_type": "stream",
     "text": [
      "(136.7981982499, +18.1432176857)\n",
      "2022050500405\n"
     ]
    },
    {
     "data": {
      "text/html": [
       "<pre style=\"margin: 0.1em;\n",
       "padding-left: 0.25em;\n",
       "border-left-style: solid;\n",
       "font-family: var(--jp-code-font-family);\n",
       "font-size: var(--jp-code-font-size);\n",
       "line-height: var(--jp-code-line-height);\n",
       "\"><span style=\"color: var(--jp-warn-color2)\">lsst.summit.utils.bestEffort</span> <span style=\"color: var(--jp-info-color0)\">INFO</span>: Found a ready-made quickLookExp in the repo. Returning that.</pre>"
      ],
      "text/plain": [
       "<IPython.core.display.HTML object>"
      ]
     },
     "metadata": {},
     "output_type": "display_data"
    },
    {
     "name": "stdout",
     "output_type": "stream",
     "text": [
      "(136.7981365584, +18.1431802007)\n"
     ]
    }
   ],
   "source": [
    "# Measure x, y and r pointing error in origin and target images for each slew test.\n",
    "\n",
    "line= [] \n",
    "\n",
    "for exposure in np.arange(2022050500291,2022050500407, 2):\n",
    "    print(exposure) \n",
    "    \n",
    "    data_id = {'instrument': 'LATISS', 'exposure': exposure, 'detector':0}\n",
    "\n",
    "    exp = bestEffort.getExposure(data_id)\n",
    "    \n",
    "    # Get the sky origin \n",
    "    origin_ra, origin_dec, origin_radec, origin_az, origin_alt = origin(exp)\n",
    "    \n",
    "    # Get the boresight coordinates \n",
    "    boresight_ra, boresight_dec, boresight_radec, boresight_az, boresight_alt = boresight_coordinates(exp)\n",
    "    \n",
    "    distance = boresight_radec.separation(origin_radec).asArcseconds()\n",
    "\n",
    "    # RADEC from metadata: \n",
    "    exp.getEx\n",
    "    line.append(\n",
    "        {'exposures': exposure,\n",
    "         'boresightAz': boresight_az,\n",
    "         'boresightEl':boresight_alt, \n",
    "         'wcsAz': origin_az, \n",
    "         'wcsEL': origin_alt,\n",
    "         'boresightRa': boresight_ra,\n",
    "         'boresightDec':boresight_dec, \n",
    "         'wcsRa': origin_ra, \n",
    "         'wcsDec': origin_dec,\n",
    "         'distance':distance\n",
    "        }\n",
    "    )\n",
    "    \n",
    "ddf = pd.DataFrame(line)   "
   ]
  },
  {
   "cell_type": "code",
   "execution_count": null,
   "id": "e7a323cf-0c45-4c25-aab2-bb4867a4ed19",
   "metadata": {},
   "outputs": [],
   "source": []
  },
  {
   "cell_type": "code",
   "execution_count": null,
   "id": "7568c179-9318-4c50-bddf-d0939ee54515",
   "metadata": {},
   "outputs": [],
   "source": [
    "# Using Johnny's code"
   ]
  },
  {
   "cell_type": "code",
   "execution_count": null,
   "id": "7ec7f4f3-d99b-40d8-ab36-813e25a15467",
   "metadata": {},
   "outputs": [],
   "source": [
    "import numpy as np\n",
    "import pandas as pd\n",
    "from datetime import date\n",
    "# from lsst.rapid.analysis.utils import getExpPositionOffset\n",
    "import lsst.pipe.base as pipeBase\n",
    "import lsst.geom as geom\n",
    "from astropy.coordinates import SkyCoord, AltAz\n",
    "import astropy.units as u\n",
    "from lsst.obs.lsst.translators.latiss import AUXTEL_LOCATION\n"
   ]
  },
  {
   "cell_type": "code",
   "execution_count": null,
   "id": "e00201bc-7a07-4c34-ae4a-8aee91fc260a",
   "metadata": {},
   "outputs": [],
   "source": [
    "def getExpPositionOffset(exp1, exp2):\n",
    "    # need the exps if we want altAz because we need the observation times\n",
    "    wcs1 = exp1.getWcs()\n",
    "    wcs2 = exp2.getWcs()\n",
    "    p1 = wcs1.getSkyOrigin()\n",
    "    p2 = wcs2.getSkyOrigin()\n",
    "\n",
    "    vi1 = exp1.getInfo().getVisitInfo()\n",
    "    vi2 = exp2.getInfo().getVisitInfo()\n",
    "\n",
    "    # AltAz via astropy\n",
    "    skyLocation1 = SkyCoord(p1.getRa().asRadians(), p1.getDec().asRadians(), unit=u.rad)\n",
    "    altAz1 = AltAz(obstime=vi1.date.toPython(), location=AUXTEL_LOCATION)\n",
    "    obsAltAz1 = skyLocation1.transform_to(altAz1)\n",
    "    alt1 = geom.Angle(obsAltAz1.alt.degree, geom.degrees)\n",
    "    az1 = geom.Angle(obsAltAz1.az.degree, geom.degrees)\n",
    "\n",
    "    skyLocation2 = SkyCoord(p2.getRa().asRadians(), p2.getDec().asRadians(), unit=u.rad)\n",
    "    altAz2 = AltAz(obstime=vi2.date.toPython(), location=AUXTEL_LOCATION)\n",
    "    obsAltAz2 = skyLocation2.transform_to(altAz2)\n",
    "    alt2 = geom.Angle(obsAltAz2.alt.degree, geom.degrees)\n",
    "    az2 = geom.Angle(obsAltAz2.az.degree, geom.degrees)\n",
    "\n",
    "    # ra/dec via the stack\n",
    "    # NB using the wcs not the exp visitInfo as that's unfitted\n",
    "    # and so is always identical for a given object/pointing\n",
    "    ra1 = p1[0]\n",
    "    ra2 = p2[0]\n",
    "    dec1 = p1[1]\n",
    "    dec2 = p2[1]\n",
    "\n",
    "    angular_offset = p1.separation(p2).asArcseconds()\n",
    "    delta_pixels = angular_offset / wcs1.getPixelScale().asArcseconds()\n",
    "\n",
    "    ret = pipeBase.Struct(deltaRa=ra1-ra2,\n",
    "                          deltaDec=dec1-dec2,\n",
    "                          deltaAlt=alt1-alt2,\n",
    "                          deltaAz=az1-az2,\n",
    "                          delta_pixel_magnitude=delta_pixels,\n",
    "                          angular_offset_arcsec=angular_offset\n",
    "                          )\n",
    "\n",
    "    return ret"
   ]
  },
  {
   "cell_type": "code",
   "execution_count": null,
   "id": "ba91b7f9-5749-4054-b550-229b11e75c04",
   "metadata": {},
   "outputs": [],
   "source": [
    "def getSkyOriginValues(wcsInfo):\n",
    "    ra = wcsInfo.getSkyOrigin().getRa().asDegrees()\n",
    "    dec = wcsInfo.getSkyOrigin().getDec().asDegrees()\n",
    "    return ra, dec"
   ]
  },
  {
   "cell_type": "code",
   "execution_count": null,
   "id": "900f76c5-4372-45ec-9595-2db9a223f5ff",
   "metadata": {},
   "outputs": [],
   "source": [
    "def get_exposure_info(exposure):\n",
    "    info = exposure.getInfo()\n",
    "    vi = info.getVisitInfo()\n",
    "\n",
    "    expTime = vi.getExposureTime()\n",
    "    date = vi.getDate().toPython()\n",
    "    mjd = vi.getDate().get()\n",
    "\n",
    "    airmass = vi.getBoresightAirmass()\n",
    "    rotangle = vi.getBoresightRotAngle().asDegrees()\n",
    "    \n",
    "    raDec = vi.boresightRaDec\n",
    "    ra = raDec[0].asDegrees()\n",
    "    dec = raDec[1].asDegrees()\n",
    "    \n",
    "    azAlt = vi.getBoresightAzAlt()\n",
    "    az = azAlt[0].asDegrees()\n",
    "    el = azAlt[1].asDegrees()\n",
    "    \n",
    "    info = {'DATE': date, 'MJD': mjd, 'EXPTIME': expTime, 'RA': ra, 'DEC': dec,\n",
    "            'AIRMASS': airmass, 'ROT_ANGLE': rotangle, 'AZ':az, 'EL':el}\n",
    "    return info\n"
   ]
  },
  {
   "cell_type": "code",
   "execution_count": null,
   "id": "84cded6f-0f35-4b77-a389-d4b5997eeae1",
   "metadata": {},
   "outputs": [],
   "source": [
    "def query_main_pointing_info(expId):\n",
    "    day_obs = int(str(expId)[:8])\n",
    "    dataId = {\"instrument\": instrument, \"exposure.day_obs\": day_obs, \"visit\": expId, \"detector\": 0}\n",
    "    \n",
    "    raw = butler.get('raw', dataId)\n",
    "    fitted = butler.get('calexp', dataId)\n",
    "    offset = getExpPositionOffset(raw, fitted)\n",
    "    \n",
    "    # get offset\n",
    "    dRa = offset.deltaRa.asArcminutes()\n",
    "    dDec = offset.deltaDec.asArcminutes()\n",
    "    dAz = offset.deltaAz.asArcminutes()\n",
    "    dEl = offset.deltaAlt.asArcminutes()\n",
    "    angular_offset = offset.angular_offset_arcsec/60. # arcminutes\n",
    "    \n",
    "    # get pointing\n",
    "    wcsFitted = fitted.getWcs()\n",
    "    ra, dec = getSkyOriginValues(wcsFitted)\n",
    "    \n",
    "    # get metadata\n",
    "    mData = raw.getMetadata().toDict()#butler.get('raw.metadata', dataId).toDict()\n",
    "        \n",
    "    # querying some basic info about the exposure\n",
    "    info = get_exposure_info(raw)\n",
    "    \n",
    "    for col in mylist:\n",
    "        info[col+'_MD'] = mData[col] \n",
    "\n",
    "    info['RA_WCS'] = ra\n",
    "    info['DEC_WCS'] = dec\n",
    "    info['dRA'] = dRa\n",
    "    info['dDEC'] = dDec\n",
    "    info['dAZ'] = dAz\n",
    "    info['dEL'] = dEl\n",
    "    info['PNT_OFFSET'] = angular_offset\n",
    "    return info"
   ]
  },
  {
   "cell_type": "code",
   "execution_count": null,
   "id": "1dbfeb0f-470a-4ce1-9aa5-26b2289f10cf",
   "metadata": {},
   "outputs": [],
   "source": [
    "nCores = 10\n",
    "# metada columns it would be stored\n",
    "mylist = ['RA','DEC','EXPTIME','TEMP_SET','CCDTEMP','FILTER',\n",
    "          'ELSTART','ELEND','AZSTART','AZEND','ELSTART']\n",
    "\n",
    "# initializating the butler repo\n",
    "repo = '/repo/main/butler.yaml'\n",
    "repo_2 = '/project/edennihy/auxtelImagingSurveys/data/'\n",
    "instrument = 'LATISS'\n",
    "# collection = 'u/mfl/testProcessCcd'\n",
    "# collection = 'u/mfl/testProcessCcd_srcMatchFull_181e6356'\n",
    "# collection = 'u/edennihy/tickets/CAP-868_20220321a'\n",
    "# collection = 'u/edennihy/tickets/CAP-851'\n",
    "# collection = 'u/edennihy/tickets/SITCOM-266_20220419'\n",
    "collection = 'u/edennihy/CAP-886_partial'\n",
    "\n",
    "print('\\n')\n",
    "print('Querying WCS Poiting')\n",
    "print(f'repo: {repo}')\n",
    "print(f'collection: {collection} \\n')\n",
    "\n",
    "# import lsst.rapid.analysis.butlerUtils as bu\n",
    "# butler = bu.makeDefaultLatissButler('NCSA', extraCollections=[collection])\n",
    "# registry=butler.registry\n",
    "\n",
    "import lsst.daf.butler as dafButler #Gen3 butler\n",
    "butler = dafButler.Butler(repo_2, collections=[collection])\n",
    "registry=butler.registry\n",
    "\n",
    "# querying all exposure ids in this collection\n",
    "dataset_refs = list(registry.queryDatasets('calexp', collections=collection))\n",
    "dataset_refs = sorted(dataset_refs, key=lambda x : x.dataId['visit'])\n",
    "expIds = [int(ref.dataId['visit']) for ref in dataset_refs]\n",
    "\n",
    "# for test purposes only\n",
    "# expIds = expIds[:10]\n",
    "\n",
    "print('\\nStarting Query')\n",
    "print(f'Number of exposures: {len(expIds)}')\n",
    "\n",
    "# querying the wcs poiting and the metadata info\n",
    "# tables = []\n",
    "# for expId in expIds:\n",
    "#     print(f'exposure: {expId}')\n",
    "#     tables.append(query_main_pointing_info(expId))\n",
    "#     print('\\n')\n",
    "\n",
    "from joblib import Parallel, delayed\n",
    "tables = Parallel(n_jobs=nCores)(delayed(query_main_pointing_info)(expId) for expId in expIds)\n",
    "                   \n",
    "# saving output as pandas dataframe\n",
    "df = pd.DataFrame(tables, index=np.array(expIds))\n",
    "\n",
    "date = date.today().strftime(\"%d%m%Y\")\n",
    "print(f'Date: {date}')\n",
    "df.to_csv(f'data/2022_May_partial03.csv')\n",
    "print(f'Saved file: data/2022_May_partial03.csv')"
   ]
  },
  {
   "cell_type": "code",
   "execution_count": null,
   "id": "224a2967-85d7-4858-aed9-386cd9bea2c6",
   "metadata": {},
   "outputs": [],
   "source": [
    "import numpy as np\n",
    "import matplotlib.pyplot as plt\n",
    "from matplotlib.colors import LogNorm, PowerNorm\n",
    "\n",
    "from astropy.table import Table, join"
   ]
  },
  {
   "cell_type": "code",
   "execution_count": null,
   "id": "60a26116-ba53-468d-9661-2e177399dc92",
   "metadata": {},
   "outputs": [],
   "source": [
    "%matplotlib inline\n"
   ]
  },
  {
   "cell_type": "code",
   "execution_count": null,
   "id": "751a76b8-8b08-43b1-9c8b-a380e0466ffc",
   "metadata": {},
   "outputs": [],
   "source": [
    "from datetime import date\n",
    "date = date.today().strftime(\"%d%m%Y\")\n",
    "print(f'Today is: {date}')"
   ]
  },
  {
   "cell_type": "markdown",
   "id": "a1b554c3-cd0f-497a-b0ac-37e310a56110",
   "metadata": {},
   "source": [
    "The Dataset\n",
    "\n",
    "Basically, we query the WCS solution from the bulter calibrate task, the boresight pointing position and some information from the exposure metadata. The sample was queried using the script query_pointing_bluter_reviewed.py.\n",
    "\n",
    "The main quantities of this dataset are:\n",
    "\n",
    "RA, DEC : pointing sky position from the boersight\n",
    "RA_WCS, DEC_WCS : pointing sky position from the wcs solutions\n",
    "PNT_OFFSET: angular distance between the two pointings.\n",
    "The other columns are exclusively from the metadata and the end with _MD: RA, DEC,MJD,EXPTIME,TEMP_SET,CCDTEMP,FILTER,ELSTART,ELEND,AZSTART,AZEND\n",
    "\n",
    "The file data/rev_checking_auxtel_pointing_{date}.csv contains info about 1421 exposures taken from Feb 2020 up to Nov 2021. The collection used to generate this file was u/mfl/testProcessCcd_srcMatchFull_181e6356. And it's from the lsst.rapid.analysis.butlerUtils.\n",
    "\n",
    "\n",
    "Caveat: Not all the images from the observation nights. The calibration filters exposures selecting preferentially crowded fields."
   ]
  },
  {
   "cell_type": "code",
   "execution_count": null,
   "id": "c50caa83-f142-40b2-8a4d-b8d44cd3623e",
   "metadata": {},
   "outputs": [],
   "source": [
    "month = 'May2022'\n",
    "title = 'Feb 2022 - May 2022'\n"
   ]
  },
  {
   "cell_type": "code",
   "execution_count": null,
   "id": "1c117485-3961-4768-8157-0bdc97854a78",
   "metadata": {},
   "outputs": [],
   "source": [
    "import pandas as pd\n",
    "\n",
    "df0 = pd.read_csv('data/rev_checking_auxtel_pointing_24032022.csv',index_col=0)\n",
    "df1 = pd.read_csv('data/rev_checking_auxtel_pointing_Feb2022.csv',index_col=0)\n",
    "df2 = pd.read_csv('data/rev_checking_auxtel_pointing_Mar2022.csv',index_col=0)\n",
    "df3 = pd.read_csv('data/2022_Apr.csv',index_col=0)\n",
    "df4 = pd.read_csv('data/2022_May_partial03.csv',index_col=0)\n",
    "\n",
    "df = pd.concat([df1,df2,df3,df4])\n",
    "df.DATE = pd.to_datetime(df.DATE)#.dt.date\n",
    "\n",
    "cols = df.columns.tolist()\n",
    "cols = cols[-1:] + cols[:-1]\n",
    "df2 = df[cols].copy()"
   ]
  },
  {
   "cell_type": "code",
   "execution_count": null,
   "id": "a47480c2-a3e2-4fc4-9bcd-d94ad0249954",
   "metadata": {},
   "outputs": [],
   "source": [
    "df['month_year'] = df['DATE'].apply(lambda x: x.strftime('%Y %b')) # e.g. Jul 2021\n",
    "df['month'] = df['DATE'].dt.month\n",
    "df['year'] = df['DATE'].dt.year + df.month/12\n",
    "\n",
    "df1 = df[~outliers]"
   ]
  },
  {
   "cell_type": "code",
   "execution_count": null,
   "id": "12c608f4-d606-4bf8-8238-9fa6ce516428",
   "metadata": {},
   "outputs": [],
   "source": [
    "sns.set_context('talk', font_scale=0.9)\n"
   ]
  },
  {
   "cell_type": "code",
   "execution_count": null,
   "id": "36014085-a10a-4047-a4ad-88d2522540e4",
   "metadata": {},
   "outputs": [],
   "source": [
    "# fig.autofmt_xdate(rotation=45)\n",
    "fig = plt.figure(figsize=(10,5))\n",
    "sns.stripplot(x=df.month_year, y=df.PNT_OFFSET*60,color=\"black\", data=df, dodge=True, alpha=.25, zorder=1)\n",
    "# ax = sns.pointplot(x=df.month_year, y='PNT_OFFSET', data=df, markers=\"d\", palette=\"magma\", scale=.75, ci=99)\n",
    "\n",
    "# sns.stripplot(x=df.month_year, y='PNT_OFFSET', color=\"black\", data=df, dodge=True, alpha=.25, zorder=1)\n",
    "ax = sns.pointplot(x=df.month_year, y=df.PNT_OFFSET*60, data=df, markers=\"d\", color=\"#016CE4\", scale=.75, ci=99, join=False)\n",
    "\n",
    "ax.axhline(10,color='k',ls='--',lw=3, label='Pointing Req.\\n 10 arcsec')\n",
    "# ax.set_title('Joliette')\n",
    "ax.set_ylabel('Pointing Offset [arcsec]')\n",
    "ax.set_xlabel('')\n",
    "ax.set_title('AuxTel Observation Runs')\n",
    "ax.legend(fontsize=12)\n",
    "ax.tick_params(axis='x', rotation=60)\n",
    "fig.tight_layout()\n",
    "# fig.savefig(f'figures/pointing_offset_monthly_{month}.png',facecolor='w',transparent=False,dpi=100)\n"
   ]
  },
  {
   "cell_type": "code",
   "execution_count": null,
   "id": "be169480-0e48-433a-8f46-e65d74411dae",
   "metadata": {},
   "outputs": [],
   "source": [
    "df['PNT_OFFSET'].hist(bins=mybins,label=title,density=False,lw=4)\n",
    "df3['PNT_OFFSET'].hist(bins=mybins,label=month,density=False, histtype='step',lw=4)\n",
    "\n",
    "plt.axvline(pm,color='gray',ls='--',lw=3, label=r'median = %.2f arcsec'%(pm*60))\n",
    "plt.axvline(pm+s68,color='k',ls='--',lw=3, label=r'RMS = %.2f arcsec'%((s68)*60))\n",
    "\n",
    "plt.xlabel('Pointing Offset [arcmin]',fontsize=16)\n",
    "\n",
    "plt.legend(fontsize=10)\n",
    "plt.title(f'AuxTel Observation Runs',fontsize=16)\n",
    "plt.tight_layout()\n",
    "plt.savefig(f'figures/rev_pointing_offset_distribution_{month}.png',facecolor='w',transparent=False,dpi=100)"
   ]
  },
  {
   "cell_type": "code",
   "execution_count": null,
   "id": "cb934cf2-d71c-4c0d-95dc-17edd41de26a",
   "metadata": {},
   "outputs": [],
   "source": [
    "# fig = plt.figure(figsize=(10,4))\n",
    "# plt.subplot(1, 2, 1)\n",
    "\n",
    "fig, axs = plt.subplots(1,2, figsize=(8, 4.5), sharey='all')\n",
    "plt.subplots_adjust(wspace=0.)\n",
    "im =axs[0].scatter(df.dEL, df.EL, alpha=0.75, s=50, c=df.month, cmap='cool_r')\n",
    "# plt.scatter(df1.dEL[outliers2], df1.EL[outliers2], s=50, alpha=0.6)\n",
    "axs[0].set_ylabel('Elevation [deg]',fontsize=16)\n",
    "axs[0].set_xlabel('delta(Elevation) [arcmin]',fontsize=16)\n",
    "axs[1].scatter(df.dAZ, df.EL, alpha=0.75, s=50,label=f'{len(df3)} Fields', c=df.month, cmap='cool_r')\n",
    "axs[1].set_xlabel('delta(Azimuth) [arcmin]',fontsize=16)\n",
    "\n",
    "plt.draw()\n",
    "p0 = axs[0].get_position().get_points().flatten()\n",
    "p1 = axs[1].get_position().get_points().flatten()\n",
    "ax_cbar = fig.add_axes([p1[2]-0.015, 0.125, 0.025, p1[2]-p0[0]-0.025])\n",
    "fig.colorbar(im, cax=ax_cbar).set_label('Month',fontsize=14)\n",
    "fig.subplots_adjust(wspace=0.)\n",
    "fig.suptitle(f'AuxTel Observation - 2022')\n",
    "fig.savefig(f'figures/elevation_offsets_{month}.png',facecolor='w',transparent=False,dpi=100)"
   ]
  },
  {
   "cell_type": "code",
   "execution_count": null,
   "id": "c240aef8-8b61-4ac8-918c-cb8450da59a3",
   "metadata": {},
   "outputs": [],
   "source": []
  }
 ],
 "metadata": {
  "kernelspec": {
   "display_name": "LSST",
   "language": "python",
   "name": "lsst"
  },
  "language_info": {
   "codemirror_mode": {
    "name": "ipython",
    "version": 3
   },
   "file_extension": ".py",
   "mimetype": "text/x-python",
   "name": "python",
   "nbconvert_exporter": "python",
   "pygments_lexer": "ipython3",
   "version": "3.10.5"
  }
 },
 "nbformat": 4,
 "nbformat_minor": 5
}
