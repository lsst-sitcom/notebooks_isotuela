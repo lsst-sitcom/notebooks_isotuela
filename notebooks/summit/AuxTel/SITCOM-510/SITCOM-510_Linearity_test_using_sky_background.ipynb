{
 "cells": [
  {
   "cell_type": "markdown",
   "id": "5c65fc0f-bc50-4028-a0fb-8487fd8e6c1a",
   "metadata": {},
   "source": [
    "# Linearity test using sky background - SITCOM-510\n",
    "\n",
    "This notebook contains the execution for the linearity tests using sky background described in https://jira.lsstcorp.org/browse/SITCOM-510.\n",
    "                \n",
    "The notebook is organized in 6 sections:\n",
    "\n",
    "    1.1 Setup\n",
    "    1.2 Conditions assessment\n",
    "    1.3. Choose target from list of targets in ticket. \n",
    "    1.4. CWFS nearby\n",
    "    1.5. Slew to target object.\n",
    "    1.6  Perform the data acquisition sequence. \n",
    "    \n",
    "    \n",
    "Warning! This test must start at the beginning of the astronomical dawn (Sun at 18 deg below the horizon), to allow enough time to perform CWFS and slew to the target, and commence the data sequence at -15 degree morning twilight. \n",
    "\n",
    "End of dark time- Beginning of astronomical twilight (Sun at -18 deg) for November's observing nights:\n",
    "Tue 8th - 05:18\n",
    "Wed 9th - 05:17\n",
    "Thu 10th - 05:16\n",
    "\n",
    "Tue 22nd - 05:06\n",
    "Wed 23rd - 05:05\n",
    "Thu 24th - 05:05"
   ]
  },
  {
   "cell_type": "markdown",
   "id": "68c7a700-8fd6-4d75-b369-2af649a9f2a8",
   "metadata": {},
   "source": [
    "-----\n",
    "## Setup"
   ]
  },
  {
   "cell_type": "markdown",
   "id": "7e10be17-700c-4520-9591-02cb7611a2ec",
   "metadata": {},
   "source": [
    "### Import libraries"
   ]
  },
  {
   "cell_type": "code",
   "execution_count": null,
   "id": "8e14fd2e-c93a-4ef4-86a5-7dcc4dcce04f",
   "metadata": {},
   "outputs": [],
   "source": [
    "import sys\n",
    "import asyncio\n",
    "import time\n",
    "import os\n",
    "\n",
    "import numpy as np\n",
    "import logging \n",
    "import yaml\n",
    "import matplotlib.pyplot as plt\n",
    "from astropy.time import Time\n",
    "import astropy\n",
    "\n",
    "from lsst.ts import salobj\n",
    "from lsst.ts.externalscripts.auxtel.latiss_cwfs_align import LatissCWFSAlign\n",
    "from lsst.ts.observatory.control.utils import RotType\n",
    "\n",
    "from lsst.ts.idl.enums.Script import ScriptState"
   ]
  },
  {
   "cell_type": "markdown",
   "id": "1113ceca-0fd3-46ed-a20b-2f950b2b622a",
   "metadata": {},
   "source": [
    "### Setting up logger"
   ]
  },
  {
   "cell_type": "code",
   "execution_count": null,
   "id": "886a4c54-b7e0-414a-979b-7ec6d79c254a",
   "metadata": {},
   "outputs": [],
   "source": [
    "logger = logging.getLogger(\"SITCOM-510\")\n",
    "logger.level = logging.DEBUG"
   ]
  },
  {
   "cell_type": "markdown",
   "id": "526343b3-78e1-48f3-8814-74d0636a4444",
   "metadata": {},
   "source": [
    "### Getting unique index for script"
   ]
  },
  {
   "cell_type": "code",
   "execution_count": null,
   "id": "94e4d66f-119f-4a3b-87fb-59cfa07477ad",
   "metadata": {},
   "outputs": [],
   "source": [
    "logger.info(f'Your UID is {os.getuid()}')\n",
    "index = os.getuid() * 10 + np.random.randint(0, 9)\n",
    "\n",
    "logger.info(f'The generated index is {index}')"
   ]
  },
  {
   "cell_type": "markdown",
   "id": "533bcc80-cb1c-4f65-9d47-d1eb9ff7a722",
   "metadata": {},
   "source": [
    "### Instantiate CWFS Script"
   ]
  },
  {
   "cell_type": "code",
   "execution_count": null,
   "id": "73b621b9-d49d-4f07-9b35-fbb8254beb4b",
   "metadata": {
    "tags": []
   },
   "outputs": [],
   "source": [
    "script = LatissCWFSAlign(index=index, remotes=True)  # this essentially calls the init method\n",
    "await script.start_task"
   ]
  },
  {
   "cell_type": "markdown",
   "id": "3662037a-d691-4edd-ada4-8bd7471e3689",
   "metadata": {},
   "source": [
    "### Forward ATCS and LATISS"
   ]
  },
  {
   "cell_type": "code",
   "execution_count": null,
   "id": "534388d8-9ae8-4cab-8c32-4c281a8585f8",
   "metadata": {},
   "outputs": [],
   "source": [
    "atcs = script.atcs\n",
    "latiss = script.latiss"
   ]
  },
  {
   "cell_type": "markdown",
   "id": "56300b5f-cc8d-4663-b364-b086b505e702",
   "metadata": {},
   "source": [
    "### Set up script log level"
   ]
  },
  {
   "cell_type": "code",
   "execution_count": null,
   "id": "02f80095-4a07-45fa-9cff-3c960a6da132",
   "metadata": {},
   "outputs": [],
   "source": [
    "script.log.level = logging.DEBUG"
   ]
  },
  {
   "cell_type": "markdown",
   "id": "386b390b-f364-411b-8542-f8a1e5b9fbc2",
   "metadata": {
    "tags": []
   },
   "source": [
    "### Write start info into EFD"
   ]
  },
  {
   "cell_type": "code",
   "execution_count": null,
   "id": "219d43b6-efc4-463f-8bb1-c0d9046b7d6e",
   "metadata": {},
   "outputs": [],
   "source": [
    "script.log.info(f'START- SITCOM-510 Linearity test using sky background -- at {Time.now()}')"
   ]
  },
  {
   "cell_type": "markdown",
   "id": "6f8b8c28-10c1-4612-829b-b1776036513c",
   "metadata": {
    "tags": []
   },
   "source": [
    "----\n",
    "## Assess that conditions meet criteria\n",
    "This must be performed during morning twilight, and requires photometric conditions.\n",
    "\n",
    "Best to do this with fixed shutter-open time so we don’t introduce any shutter artifacts. Also best to do this during morning twilight so that any dome seeing has settled down and seeing is stable.\n",
    "\n",
    "If we begin this entire operation at around 15 degree morning twilight then we should be able to run until sun is something like (this is a guess) 8-10 degrees below horizon, so we should get 20-30 minutes of data from this. That should be enough for 10 cycles through the data acquisition loop.  "
   ]
  },
  {
   "cell_type": "markdown",
   "id": "ce5f9e64-1356-4e06-bb42-cd9009c60048",
   "metadata": {},
   "source": [
    "----\n",
    "## Target and filter"
   ]
  },
  {
   "cell_type": "markdown",
   "id": "fb7e290e-3060-4d6a-8a4b-02e8b665a9ce",
   "metadata": {},
   "source": [
    "### Declare target: Choose target - Fields need to be reasonably dense with stars. \n",
    "Fields appropriate for this, for morning twilight for each month of the year, are listed in Table 1 of the PDF attached in https://jira.lsstcorp.org/browse/SITCOM-510"
   ]
  },
  {
   "cell_type": "code",
   "execution_count": null,
   "id": "62c95168-5f6d-4887-9194-23c3c55af3b7",
   "metadata": {},
   "outputs": [],
   "source": [
    "targets = {'Nov': {'target_name':'LinTest0513' , 'target_ra' : '05:13:36.52', 'target_dec' :'-40:02:44.2'}, \n",
    "          'Dec': {'target_name' :'LinTest0800', 'target_ra': '08:10:00' , 'target_dec' : '-36:10:00'},\n",
    "          'Jan': {'target_name' :'LinTest1000', 'target_ra': '10:00:00' , 'target_dec' : '-45:20:00'},\n",
    "          'Feb': {'target_name' :'LinTest1200', 'target_ra': '12:00:00' , 'target_dec' : '-50:30:00'},\n",
    "          'Mar': {'target_name' :'LinTest1400', 'target_ra': '14:00:00' , 'target_dec' : '-55:00:00'},\n",
    "          'Apr': {'target_name' :'LinTest1600', 'target_ra': '16:00:00' , 'target_dec' : '-28:30:00'},\n",
    "          'May': {'target_name' :'LinTest1800', 'target_ra': '18:00:00' , 'target_dec' : '-25:00:00'},\n",
    "          'Jun': {'target_name' :'LinTest2000', 'target_ra': '20:00:00' , 'target_dec' : '-36:10:00'},\n",
    "          'Jul': {'target_name' :'LinTest2133', 'target_ra': '21:33:02.06' , 'target_dec' : '-00:50:11.7'},\n",
    "          'Aug': {'target_name' :'LinTest2308', 'target_ra': '23:08:10.65' , 'target_dec' : '-15:37:13.7'},\n",
    "          'Sep': {'target_name' :'LinTest0052', 'target_ra': '00:52:45.55' , 'target_dec' : '-26:28:00.4'},\n",
    "          'Oct': {'target_name' :'LinTest0311', 'target_ra': '03:11:42.23' , 'target_dec' : '-55:18:08.8'},\n",
    "          }"
   ]
  },
  {
   "cell_type": "markdown",
   "id": "87f21c52-260f-4ecd-a3b0-b22631121f5e",
   "metadata": {},
   "source": [
    "Declare the month of observation and confirm that the target is correct. "
   ]
  },
  {
   "cell_type": "code",
   "execution_count": null,
   "id": "cc18a3bb-eb78-47b4-94e1-754a2d8d319c",
   "metadata": {},
   "outputs": [],
   "source": [
    "month = 'Nov'"
   ]
  },
  {
   "cell_type": "code",
   "execution_count": null,
   "id": "9a14f047-0b0d-419d-8f57-d6c6b82fcc75",
   "metadata": {},
   "outputs": [],
   "source": [
    "logger.info(f'The target name is {targets[month][\"target_name\"]}, \\n'\n",
    "            f'target RA is {targets[month][\"target_ra\"]} & target DEC is {targets[month][\"target_dec\"]},\\n'\n",
    "            f'Month of observation is {month}')"
   ]
  },
  {
   "cell_type": "markdown",
   "id": "a30da414-ddec-40c0-9817-fd09324b21c6",
   "metadata": {},
   "source": [
    "### Declare filter - Set up with reddest band in filter wheel (to get best image quality) and no disperser"
   ]
  },
  {
   "cell_type": "code",
   "execution_count": null,
   "id": "38de6631-fde8-4caf-817e-d680427370fd",
   "metadata": {},
   "outputs": [],
   "source": [
    "filter_to_use = 'SDSSr_65mm'"
   ]
  },
  {
   "cell_type": "markdown",
   "id": "dac88c51-0384-4f35-aaee-ab41ee22def9",
   "metadata": {},
   "source": [
    "------\n",
    "## CWFS\n",
    "A CWFS is recommended just before the test to ensure the system is in focus. Based on the target, choose a nearby source to perform CWFS on. "
   ]
  },
  {
   "cell_type": "markdown",
   "id": "7c19d8a6-d8d4-4012-aa02-91ad6448b443",
   "metadata": {
    "tags": []
   },
   "source": [
    "### Declare CWFS target "
   ]
  },
  {
   "cell_type": "markdown",
   "id": "b73650fb-ece7-4005-9fd8-dd525b8779c2",
   "metadata": {},
   "source": [
    "Query for a source around the same area of the sky as the target source."
   ]
  },
  {
   "cell_type": "code",
   "execution_count": null,
   "id": "5af29aa0-37ec-4ba8-9bd8-18b9f9fdc387",
   "metadata": {},
   "outputs": [],
   "source": [
    "cwfs_az = 110\n",
    "cwfs_el = 60\n",
    "cwfs_mag_limit = 8"
   ]
  },
  {
   "cell_type": "code",
   "execution_count": null,
   "id": "9d50f041-07f2-4643-bfde-18d33ee60c53",
   "metadata": {},
   "outputs": [],
   "source": [
    "cwfs_target = await script.atcs.find_target(az=cwfs_az, el=cwfs_el, mag_limit=cwfs_mag_limit)\n",
    "logger.info(f'Target for CWFS with magnitude limit {cwfs_mag_limit} is {cwfs_target}')"
   ]
  },
  {
   "cell_type": "markdown",
   "id": "a56989dc-7038-4c42-8cbf-621b30d5cc6f",
   "metadata": {},
   "source": [
    "### Slew to the CWFS target"
   ]
  },
  {
   "cell_type": "code",
   "execution_count": null,
   "id": "834a8435-6f5d-459c-a419-befb24767f53",
   "metadata": {},
   "outputs": [],
   "source": [
    "await script.atcs.slew_object(cwfs_target, rot_type=RotType.PhysicalSky)"
   ]
  },
  {
   "cell_type": "markdown",
   "id": "71fbb6be-1599-4d22-a58e-0adbb0f6bf6e",
   "metadata": {},
   "source": [
    "Uncomment the following line to take a snapshot to verify the target is positioned as expected "
   ]
  },
  {
   "cell_type": "code",
   "execution_count": null,
   "id": "f3731c8a-7a71-43e5-bb25-44a307c56937",
   "metadata": {},
   "outputs": [],
   "source": [
    "# exposure = await latiss.take_acq(\n",
    "#         exptime=5, n=1, filter=filter_to_use, grating='empty_1', reason='Acquisition', program=\"SITCOM-510\")\n",
    "# logger.info(f'Acquisition exposure is {exposure}')"
   ]
  },
  {
   "cell_type": "markdown",
   "id": "8fb7d675-b59e-4cab-adfd-4ab94bb690ee",
   "metadata": {},
   "source": [
    "To offset the telescope and center the source (if required) uncomment the following line. <br>\n",
    "Offsets are in detector X/Y coordinates and in arcseconds. "
   ]
  },
  {
   "cell_type": "code",
   "execution_count": null,
   "id": "78d5edf0-c3b1-45f6-8111-b43370235844",
   "metadata": {},
   "outputs": [],
   "source": [
    "# await script.atcs.offset_xy(x=20, y=20)"
   ]
  },
  {
   "cell_type": "markdown",
   "id": "87807e50-5710-45e9-b4a1-da4ca450fe54",
   "metadata": {},
   "source": [
    "### Set up configuration"
   ]
  },
  {
   "cell_type": "code",
   "execution_count": null,
   "id": "b1a776d9-6c66-42f6-a9f2-5fef17290c51",
   "metadata": {},
   "outputs": [],
   "source": [
    "configuration = yaml.safe_dump({\"filter\": filter_to_use, \n",
    "                                \"grating\": 'empty_1',\n",
    "                                \"exposure_time\": 20,\n",
    "                                \"program\" : \"SITCOM-510\"})"
   ]
  },
  {
   "cell_type": "markdown",
   "id": "6fe7c085-e02c-4b17-9891-7fb2e21908ee",
   "metadata": {},
   "source": [
    "The next line is not required the first time the script is run, however, in each additional instance the cell is run, an error will be thrown if it is not included.  \n",
    "Therefore, it is included here despite being a non-operation in the first instance.  "
   ]
  },
  {
   "cell_type": "code",
   "execution_count": null,
   "id": "182f8a1c-f681-4462-b392-7ec008d3200b",
   "metadata": {},
   "outputs": [],
   "source": [
    "await script.set_state(ScriptState.UNCONFIGURED)"
   ]
  },
  {
   "cell_type": "markdown",
   "id": "f994dd6d-bdd1-4004-b65f-edd426d88e0e",
   "metadata": {},
   "source": [
    "### Put the ScriptState to CONFIGURED"
   ]
  },
  {
   "cell_type": "code",
   "execution_count": null,
   "id": "0a79ad4b-13c1-4a5c-b023-75b040b87a21",
   "metadata": {
    "tags": []
   },
   "outputs": [],
   "source": [
    "config_data = script.cmd_configure.DataType()\n",
    "config_data.config = configuration\n",
    "await script.do_configure(config_data)"
   ]
  },
  {
   "cell_type": "markdown",
   "id": "6cc86eb6-b295-4d0b-9890-02d476598b70",
   "metadata": {},
   "source": [
    "Set these script parameters to None to verify a re-reduction does not happen of the images."
   ]
  },
  {
   "cell_type": "code",
   "execution_count": null,
   "id": "35f5434a-17c5-47d4-8fb2-b499692d9266",
   "metadata": {},
   "outputs": [],
   "source": [
    "script.intra_visit_id = None\n",
    "script.extra_visit_id = None\n",
    "script.short_timeout = 10"
   ]
  },
  {
   "cell_type": "markdown",
   "id": "571bb441-c40a-4251-8c46-46ad15e63d06",
   "metadata": {
    "tags": []
   },
   "source": [
    "### Set groupID and launch the script\n",
    "This sets the same group ID for all exposures taken in the script."
   ]
  },
  {
   "cell_type": "code",
   "execution_count": null,
   "id": "08d6eb38-23a7-4968-926c-1d57707ba4a0",
   "metadata": {
    "tags": []
   },
   "outputs": [],
   "source": [
    "group_id_data = script.cmd_setGroupId.DataType(\n",
    "    groupId=astropy.time.Time.now().isot)\n",
    "\n",
    "await script.do_setGroupId(group_id_data)\n",
    "await script.arun()"
   ]
  },
  {
   "cell_type": "markdown",
   "id": "e2597145-c899-42f9-b167-ac8d8aed77d5",
   "metadata": {},
   "source": [
    "### Stop tracking: If required, then uncomment and use the following cell to stop the telescope from tracking, but you will lose your acquisition."
   ]
  },
  {
   "cell_type": "code",
   "execution_count": null,
   "id": "9e661de6-70a7-42d2-9e1e-64e420268370",
   "metadata": {},
   "outputs": [],
   "source": [
    "# await script.atcs.stop_tracking()"
   ]
  },
  {
   "cell_type": "markdown",
   "id": "39ea8e11-e822-4e7c-8a07-aa85b61e1db5",
   "metadata": {},
   "source": [
    "-------\n",
    "## Slew to target object"
   ]
  },
  {
   "cell_type": "markdown",
   "id": "4bd20528-9121-4ff5-8c3f-2ada9925e0d8",
   "metadata": {},
   "source": [
    "### Confirm that the target is correct"
   ]
  },
  {
   "cell_type": "code",
   "execution_count": null,
   "id": "5c0339ef-f4aa-401b-92a3-de25cac32353",
   "metadata": {},
   "outputs": [],
   "source": [
    "logger.info(f'Target is {targets[month][\"target_name\"]}')"
   ]
  },
  {
   "cell_type": "markdown",
   "id": "e04587d0-28ef-4edb-9ec2-8a8e236c5b89",
   "metadata": {},
   "source": [
    "### Slew to the target object"
   ]
  },
  {
   "cell_type": "code",
   "execution_count": null,
   "id": "20304593-1acb-4e9c-a72e-87db312a208a",
   "metadata": {},
   "outputs": [],
   "source": [
    "await script.atcs.slew_icrs(ra = targets[month]['target_ra'], dec = targets[month]['target_dec'], rot_type = RotType.Physical, rot=0)"
   ]
  },
  {
   "cell_type": "markdown",
   "id": "fabc2846-ed33-4688-9c9e-3605b84975ac",
   "metadata": {},
   "source": [
    "To offset the telescope and move the source (if required) uncomment the following line. <br>\n",
    "Offsets are in detector X/Y coordinates and in arcseconds. "
   ]
  },
  {
   "cell_type": "code",
   "execution_count": null,
   "id": "f5ca3233-2980-4df3-8acb-39f9f5ff1d8f",
   "metadata": {},
   "outputs": [],
   "source": [
    "await script.atcs.offset_xy(x=20, y=20)"
   ]
  },
  {
   "cell_type": "markdown",
   "id": "66b33b8d-9b73-4b15-af05-8103675f947f",
   "metadata": {
    "tags": []
   },
   "source": [
    "----\n",
    "## Data Acquisition Sequence: Once sky brightness level reaches 1000 ADU above bias level in a red band (SDSSr) in a 10 second exposure, begin the following sequence, to be looped until sky reaches saturation in a 5 second image:  "
   ]
  },
  {
   "cell_type": "markdown",
   "id": "3fd588c7-5c74-412b-95dc-38699dc2f5f2",
   "metadata": {},
   "source": [
    "###  Check signal level: \n",
    "Take a 10-s image to check that the sky brightness is around 1000 ADU above bias level. To check signal levels, use the new CCS feature http://ccs.lsst.org/RecentImages/auxtel.html. As you hover over the image, the pixel and counts are displayed on the bottom right. "
   ]
  },
  {
   "cell_type": "code",
   "execution_count": null,
   "id": "a9e37e72-8b98-480e-b238-fbabe9cc2835",
   "metadata": {},
   "outputs": [],
   "source": [
    "sky_brightness_test = await latiss.take_engtest(\n",
    "        exptime=10, n=1, filter=filter_to_use, grating='empty_1', reason='Sky_Brightness_Level_Test', program = \"SITCOM-510\")\n",
    "logger.info(f'Sky Brightness test exposure is {sky_brightness_test}')"
   ]
  },
  {
   "cell_type": "markdown",
   "id": "112818be-fce7-4df9-b69d-d762fcd6e5a6",
   "metadata": {
    "tags": []
   },
   "source": [
    "### Data Acquisition Loop\n",
    "This will run for 10 iterations. In case saturation is detected in the 5sec image, you may stop the execution manually. "
   ]
  },
  {
   "cell_type": "code",
   "execution_count": null,
   "id": "36e7ca6d-d6d8-4e0d-bc19-427b458ce20a",
   "metadata": {
    "tags": []
   },
   "outputs": [],
   "source": [
    "i=1\n",
    "while i<11:\n",
    "    logger.info(f'Loop cycle number {i}')\n",
    "    \n",
    "    darks_5sec = await latiss.take_darks(\n",
    "        exptime=5, ndarks=3, reason='5sec_Darks_for_Linearity_using_sky_background', program =\"SITCOM-510\")\n",
    "    logger.info(f'5sec darks in loop {i} are {darks_5sec}')\n",
    "    \n",
    "    exp_5sec = await latiss.take_engtest(\n",
    "        exptime=5, n=3, filter=filter_to_use, grating='empty_1', reason='5sec_Images_for_Linearity_using_sky_background', program =\"SITCOM-510\")\n",
    "    logger.info(f'5sec images in loop {i} are {exp_5sec}')\n",
    "    \n",
    "    exp_10sec = await latiss.take_engtest(\n",
    "        exptime=5, n=3, filter=filter_to_use, grating='empty_1', reason='10sec_Images_for_Linearity_using_sky_background', program =\"SITCOM-510\")\n",
    "    logger.info(f'10sec images in loop {i} are {exp_10sec}')\n",
    "    \n",
    "    exp_30sec = await latiss.take_engtest(\n",
    "        exptime=30, n=3, filter=filter_to_use, grating='empty_1', reason='30sec_Images_for_Linearity_using_sky_background', program =\"SITCOM-510\")\n",
    "    logger.info(f'30sec images in loop {i} are {exp_30sec}')\n",
    "    \n",
    "    i +=1 "
   ]
  },
  {
   "cell_type": "markdown",
   "id": "476403ae-b02a-4891-894a-4aa5c7afd73a",
   "metadata": {},
   "source": [
    "### Write end info into EFD"
   ]
  },
  {
   "cell_type": "code",
   "execution_count": null,
   "id": "2f6d9f5f-0fa1-4993-8925-e0de3d270770",
   "metadata": {},
   "outputs": [],
   "source": [
    "script.log.info(f'END- SITCOM-510 Linearity test using sky background -- at {Time.now()}')"
   ]
  }
 ],
 "metadata": {
  "kernelspec": {
   "display_name": "LSST",
   "language": "python",
   "name": "lsst"
  },
  "language_info": {
   "codemirror_mode": {
    "name": "ipython",
    "version": 3
   },
   "file_extension": ".py",
   "mimetype": "text/x-python",
   "name": "python",
   "nbconvert_exporter": "python",
   "pygments_lexer": "ipython3",
   "version": "3.10.5"
  },
  "toc-autonumbering": true,
  "toc-showmarkdowntxt": false
 },
 "nbformat": 4,
 "nbformat_minor": 5
}
