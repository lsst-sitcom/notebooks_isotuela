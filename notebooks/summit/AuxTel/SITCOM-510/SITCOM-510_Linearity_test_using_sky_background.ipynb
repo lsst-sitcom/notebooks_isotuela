{
 "cells": [
  {
   "cell_type": "markdown",
   "id": "5c65fc0f-bc50-4028-a0fb-8487fd8e6c1a",
   "metadata": {},
   "source": [
    "# Linearity test using sky background - SITCOM-510\n",
    "\n",
    "This notebook contains the execution for the linearity tests using sky background described in https://jira.lsstcorp.org/browse/SITCOM-510.\n",
    "                \n",
    "The notebook is organized in 6 sections:\n",
    "\n",
    "    1.1 Setup\n",
    "    1.2 Conditions assessment\n",
    "    1.3. Choose target from list of targets in ticket. \n",
    "    1.4. CWFS nearby\n",
    "    1.5. Slew to target object.\n",
    "    1.6  Perform the data acquisition sequence. \n",
    "    \n",
    "    \n",
    "Warning! This test must start at the beginning of the astronomical dawn (Sun at 18 deg below the horizon), to allow enough time to perform CWFS and slew to the target, and commence the data sequence at -15 degree morning twilight. \n",
    "\n",
    "End of dark time- Beginning of astronomical twilight (Sun at -18 deg) for November's observing nights:\n",
    "Tue 8th - 05:18\n",
    "Wed 9th - 05:17\n",
    "Thu 10th - 05:16\n",
    "\n",
    "Tue 22nd - 05:06\n",
    "Wed 23rd - 05:05\n",
    "Thu 24th - 05:05"
   ]
  },
  {
   "cell_type": "markdown",
   "id": "6b7dc22e-3199-40b0-ad21-e71eb6a3ecdc",
   "metadata": {
    "tags": []
   },
   "source": [
    "----\n",
    "## Assess that conditions meet criteria\n",
    "This must be performed during morning twilight, and requires photometric conditions.\n",
    "\n",
    "Best to do this with fixed shutter-open time so we don’t introduce any shutter artifacts. Also best to do this during morning twilight so that any dome seeing has settled down and seeing is stable.\n",
    "\n",
    "If we begin this entire operation at around 15 degree morning twilight then we should be able to run until sun is something like (this is a guess) 8-10 degrees below horizon, so we should get 20-30 minutes of data from this. That should be enough for 10 cycles through the data acquisition loop.  "
   ]
  },
  {
   "cell_type": "markdown",
   "id": "68c7a700-8fd6-4d75-b369-2af649a9f2a8",
   "metadata": {},
   "source": [
    "-----\n",
    "## Setup"
   ]
  },
  {
   "cell_type": "markdown",
   "id": "7e10be17-700c-4520-9591-02cb7611a2ec",
   "metadata": {},
   "source": [
    "### Import libraries"
   ]
  },
  {
   "cell_type": "code",
   "execution_count": 1,
   "id": "8e14fd2e-c93a-4ef4-86a5-7dcc4dcce04f",
   "metadata": {},
   "outputs": [
    {
     "data": {
      "text/html": [
       "<pre style=\"margin: 0.1em;\n",
       "padding-left: 0.25em;\n",
       "border-left-style: solid;\n",
       "font-family: var(--jp-code-font-family);\n",
       "font-size: var(--jp-code-font-size);\n",
       "line-height: var(--jp-code-line-height);\n",
       "\"><span style=\"color: var(--jp-warn-color2)\">lsst.ts.utils.tai</span> <span style=\"color: var(--jp-info-color0)\">INFO</span>: Update leap second table</pre>"
      ],
      "text/plain": [
       "<IPython.core.display.HTML object>"
      ]
     },
     "metadata": {},
     "output_type": "display_data"
    },
    {
     "data": {
      "text/html": [
       "<pre style=\"margin: 0.1em;\n",
       "padding-left: 0.25em;\n",
       "border-left-style: solid;\n",
       "font-family: var(--jp-code-font-family);\n",
       "font-size: var(--jp-code-font-size);\n",
       "line-height: var(--jp-code-line-height);\n",
       "\"><span style=\"color: var(--jp-warn-color2)\">lsst.ts.utils.tai</span> <span style=\"color: var(--jp-info-color0)\">INFO</span>: current_tai uses the system TAI clock</pre>"
      ],
      "text/plain": [
       "<IPython.core.display.HTML object>"
      ]
     },
     "metadata": {},
     "output_type": "display_data"
    },
    {
     "data": {
      "text/html": [
       "<pre style=\"margin: 0.1em;\n",
       "padding-left: 0.25em;\n",
       "border-left-style: solid;\n",
       "font-family: var(--jp-code-font-family);\n",
       "font-size: var(--jp-code-font-size);\n",
       "line-height: var(--jp-code-line-height);\n",
       "\"><span style=\"color: var(--jp-warn-color2)\">numexpr.utils</span> <span style=\"color: var(--jp-info-color0)\">INFO</span>: Note: NumExpr detected 64 cores but &quot;NUMEXPR_MAX_THREADS&quot; not set, so enforcing safe limit of 8.</pre>"
      ],
      "text/plain": [
       "<IPython.core.display.HTML object>"
      ]
     },
     "metadata": {},
     "output_type": "display_data"
    },
    {
     "data": {
      "text/html": [
       "<pre style=\"margin: 0.1em;\n",
       "padding-left: 0.25em;\n",
       "border-left-style: solid;\n",
       "font-family: var(--jp-code-font-family);\n",
       "font-size: var(--jp-code-font-size);\n",
       "line-height: var(--jp-code-line-height);\n",
       "\"><span style=\"color: var(--jp-warn-color2)\">numexpr.utils</span> <span style=\"color: var(--jp-info-color0)\">INFO</span>: NumExpr defaulting to 8 threads.</pre>"
      ],
      "text/plain": [
       "<IPython.core.display.HTML object>"
      ]
     },
     "metadata": {},
     "output_type": "display_data"
    }
   ],
   "source": [
    "import sys\n",
    "import asyncio\n",
    "import time\n",
    "import os\n",
    "\n",
    "import numpy as np\n",
    "import logging \n",
    "import yaml\n",
    "import matplotlib.pyplot as plt\n",
    "from astropy.time import Time\n",
    "import astropy\n",
    "\n",
    "from lsst.ts import salobj\n",
    "from lsst.ts.externalscripts.auxtel.latiss_cwfs_align import LatissCWFSAlign\n",
    "from lsst.ts.observatory.control.utils import RotType\n",
    "\n",
    "from lsst.ts.idl.enums.Script import ScriptState"
   ]
  },
  {
   "cell_type": "markdown",
   "id": "1113ceca-0fd3-46ed-a20b-2f950b2b622a",
   "metadata": {},
   "source": [
    "### Setting up logger"
   ]
  },
  {
   "cell_type": "code",
   "execution_count": 2,
   "id": "886a4c54-b7e0-414a-979b-7ec6d79c254a",
   "metadata": {},
   "outputs": [],
   "source": [
    "logger = logging.getLogger(\"SITCOM-510\")\n",
    "logger.level = logging.DEBUG"
   ]
  },
  {
   "cell_type": "markdown",
   "id": "526343b3-78e1-48f3-8814-74d0636a4444",
   "metadata": {},
   "source": [
    "### Getting unique index for script"
   ]
  },
  {
   "cell_type": "code",
   "execution_count": 3,
   "id": "94e4d66f-119f-4a3b-87fb-59cfa07477ad",
   "metadata": {},
   "outputs": [
    {
     "data": {
      "text/html": [
       "<pre style=\"margin: 0.1em;\n",
       "padding-left: 0.25em;\n",
       "border-left-style: solid;\n",
       "font-family: var(--jp-code-font-family);\n",
       "font-size: var(--jp-code-font-size);\n",
       "line-height: var(--jp-code-line-height);\n",
       "\"><span style=\"color: var(--jp-warn-color2)\">SITCOM-510</span> <span style=\"color: var(--jp-info-color0)\">INFO</span>: Your UID is 87160242</pre>"
      ],
      "text/plain": [
       "<IPython.core.display.HTML object>"
      ]
     },
     "metadata": {},
     "output_type": "display_data"
    },
    {
     "data": {
      "text/html": [
       "<pre style=\"margin: 0.1em;\n",
       "padding-left: 0.25em;\n",
       "border-left-style: solid;\n",
       "font-family: var(--jp-code-font-family);\n",
       "font-size: var(--jp-code-font-size);\n",
       "line-height: var(--jp-code-line-height);\n",
       "\"><span style=\"color: var(--jp-warn-color2)\">SITCOM-510</span> <span style=\"color: var(--jp-info-color0)\">INFO</span>: The generated index is 871602428</pre>"
      ],
      "text/plain": [
       "<IPython.core.display.HTML object>"
      ]
     },
     "metadata": {},
     "output_type": "display_data"
    }
   ],
   "source": [
    "logger.info(f'Your UID is {os.getuid()}')\n",
    "index = os.getuid() * 10 + np.random.randint(0, 9)\n",
    "\n",
    "logger.info(f'The generated index is {index}')"
   ]
  },
  {
   "cell_type": "markdown",
   "id": "533bcc80-cb1c-4f65-9d47-d1eb9ff7a722",
   "metadata": {},
   "source": [
    "### Instantiate CWFS Script"
   ]
  },
  {
   "cell_type": "code",
   "execution_count": 4,
   "id": "73b621b9-d49d-4f07-9b35-fbb8254beb4b",
   "metadata": {
    "tags": []
   },
   "outputs": [
    {
     "data": {
      "text/html": [
       "<pre style=\"margin: 0.1em;\n",
       "padding-left: 0.25em;\n",
       "border-left-style: solid;\n",
       "font-family: var(--jp-code-font-family);\n",
       "font-size: var(--jp-code-font-size);\n",
       "line-height: var(--jp-code-line-height);\n",
       "\"><span style=\"color: var(--jp-warn-color2)\">Script</span> <span style=\"color: var(--jp-info-color0)\">INFO</span>: Disabling authlist-based command authorization</pre>"
      ],
      "text/plain": [
       "<IPython.core.display.HTML object>"
      ]
     },
     "metadata": {},
     "output_type": "display_data"
    },
    {
     "data": {
      "text/html": [
       "<pre style=\"margin: 0.1em;\n",
       "padding-left: 0.25em;\n",
       "border-left-style: solid;\n",
       "font-family: var(--jp-code-font-family);\n",
       "font-size: var(--jp-code-font-size);\n",
       "line-height: var(--jp-code-line-height);\n",
       "\"><span style=\"color: var(--jp-warn-color2)\">ATMCS</span> <span style=\"color: var(--jp-info-color0)\">INFO</span>: Disabling authlist-based command authorization</pre>"
      ],
      "text/plain": [
       "<IPython.core.display.HTML object>"
      ]
     },
     "metadata": {},
     "output_type": "display_data"
    },
    {
     "data": {
      "text/html": [
       "<pre style=\"margin: 0.1em;\n",
       "padding-left: 0.25em;\n",
       "border-left-style: solid;\n",
       "font-family: var(--jp-code-font-family);\n",
       "font-size: var(--jp-code-font-size);\n",
       "line-height: var(--jp-code-line-height);\n",
       "\"><span style=\"color: var(--jp-warn-color2)\">ATPtg</span> <span style=\"color: var(--jp-info-color0)\">INFO</span>: Disabling authlist-based command authorization</pre>"
      ],
      "text/plain": [
       "<IPython.core.display.HTML object>"
      ]
     },
     "metadata": {},
     "output_type": "display_data"
    },
    {
     "data": {
      "text/html": [
       "<pre style=\"margin: 0.1em;\n",
       "padding-left: 0.25em;\n",
       "border-left-style: solid;\n",
       "font-family: var(--jp-code-font-family);\n",
       "font-size: var(--jp-code-font-size);\n",
       "line-height: var(--jp-code-line-height);\n",
       "\"><span style=\"color: var(--jp-warn-color2)\">ATAOS</span> <span style=\"color: var(--jp-info-color0)\">INFO</span>: Disabling authlist-based command authorization</pre>"
      ],
      "text/plain": [
       "<IPython.core.display.HTML object>"
      ]
     },
     "metadata": {},
     "output_type": "display_data"
    },
    {
     "data": {
      "text/html": [
       "<pre style=\"margin: 0.1em;\n",
       "padding-left: 0.25em;\n",
       "border-left-style: solid;\n",
       "font-family: var(--jp-code-font-family);\n",
       "font-size: var(--jp-code-font-size);\n",
       "line-height: var(--jp-code-line-height);\n",
       "\"><span style=\"color: var(--jp-warn-color2)\">ATPneumatics</span> <span style=\"color: var(--jp-info-color0)\">INFO</span>: Disabling authlist-based command authorization</pre>"
      ],
      "text/plain": [
       "<IPython.core.display.HTML object>"
      ]
     },
     "metadata": {},
     "output_type": "display_data"
    },
    {
     "data": {
      "text/html": [
       "<pre style=\"margin: 0.1em;\n",
       "padding-left: 0.25em;\n",
       "border-left-style: solid;\n",
       "font-family: var(--jp-code-font-family);\n",
       "font-size: var(--jp-code-font-size);\n",
       "line-height: var(--jp-code-line-height);\n",
       "\"><span style=\"color: var(--jp-warn-color2)\">ATHexapod</span> <span style=\"color: var(--jp-info-color0)\">INFO</span>: Disabling authlist-based command authorization</pre>"
      ],
      "text/plain": [
       "<IPython.core.display.HTML object>"
      ]
     },
     "metadata": {},
     "output_type": "display_data"
    },
    {
     "data": {
      "text/html": [
       "<pre style=\"margin: 0.1em;\n",
       "padding-left: 0.25em;\n",
       "border-left-style: solid;\n",
       "font-family: var(--jp-code-font-family);\n",
       "font-size: var(--jp-code-font-size);\n",
       "line-height: var(--jp-code-line-height);\n",
       "\"><span style=\"color: var(--jp-warn-color2)\">ATDome</span> <span style=\"color: var(--jp-info-color0)\">INFO</span>: Disabling authlist-based command authorization</pre>"
      ],
      "text/plain": [
       "<IPython.core.display.HTML object>"
      ]
     },
     "metadata": {},
     "output_type": "display_data"
    },
    {
     "data": {
      "text/html": [
       "<pre style=\"margin: 0.1em;\n",
       "padding-left: 0.25em;\n",
       "border-left-style: solid;\n",
       "font-family: var(--jp-code-font-family);\n",
       "font-size: var(--jp-code-font-size);\n",
       "line-height: var(--jp-code-line-height);\n",
       "\"><span style=\"color: var(--jp-warn-color2)\">ATDomeTrajectory</span> <span style=\"color: var(--jp-info-color0)\">INFO</span>: Disabling authlist-based command authorization</pre>"
      ],
      "text/plain": [
       "<IPython.core.display.HTML object>"
      ]
     },
     "metadata": {},
     "output_type": "display_data"
    },
    {
     "data": {
      "text/html": [
       "<pre style=\"margin: 0.1em;\n",
       "padding-left: 0.25em;\n",
       "border-left-style: solid;\n",
       "font-family: var(--jp-code-font-family);\n",
       "font-size: var(--jp-code-font-size);\n",
       "line-height: var(--jp-code-line-height);\n",
       "\"><span style=\"color: var(--jp-warn-color2)\">ATCamera</span> <span style=\"color: var(--jp-info-color0)\">INFO</span>: Disabling authlist-based command authorization</pre>"
      ],
      "text/plain": [
       "<IPython.core.display.HTML object>"
      ]
     },
     "metadata": {},
     "output_type": "display_data"
    },
    {
     "data": {
      "text/html": [
       "<pre style=\"margin: 0.1em;\n",
       "padding-left: 0.25em;\n",
       "border-left-style: solid;\n",
       "font-family: var(--jp-code-font-family);\n",
       "font-size: var(--jp-code-font-size);\n",
       "line-height: var(--jp-code-line-height);\n",
       "\"><span style=\"color: var(--jp-warn-color2)\">ATSpectrograph</span> <span style=\"color: var(--jp-info-color0)\">INFO</span>: Disabling authlist-based command authorization</pre>"
      ],
      "text/plain": [
       "<IPython.core.display.HTML object>"
      ]
     },
     "metadata": {},
     "output_type": "display_data"
    },
    {
     "data": {
      "text/html": [
       "<pre style=\"margin: 0.1em;\n",
       "padding-left: 0.25em;\n",
       "border-left-style: solid;\n",
       "font-family: var(--jp-code-font-family);\n",
       "font-size: var(--jp-code-font-size);\n",
       "line-height: var(--jp-code-line-height);\n",
       "\"><span style=\"color: var(--jp-warn-color2)\">ATHeaderService</span> <span style=\"color: var(--jp-info-color0)\">INFO</span>: Disabling authlist-based command authorization</pre>"
      ],
      "text/plain": [
       "<IPython.core.display.HTML object>"
      ]
     },
     "metadata": {},
     "output_type": "display_data"
    },
    {
     "data": {
      "text/html": [
       "<pre style=\"margin: 0.1em;\n",
       "padding-left: 0.25em;\n",
       "border-left-style: solid;\n",
       "font-family: var(--jp-code-font-family);\n",
       "font-size: var(--jp-code-font-size);\n",
       "line-height: var(--jp-code-line-height);\n",
       "\"><span style=\"color: var(--jp-warn-color2)\">ATOODS</span> <span style=\"color: var(--jp-info-color0)\">INFO</span>: Disabling authlist-based command authorization</pre>"
      ],
      "text/plain": [
       "<IPython.core.display.HTML object>"
      ]
     },
     "metadata": {},
     "output_type": "display_data"
    },
    {
     "data": {
      "text/html": [
       "<pre style=\"margin: 0.1em;\n",
       "padding-left: 0.25em;\n",
       "border-left-style: solid;\n",
       "font-family: var(--jp-code-font-family);\n",
       "font-size: var(--jp-code-font-size);\n",
       "line-height: var(--jp-code-line-height);\n",
       "\"><span style=\"color: var(--jp-warn-color2)\">Script</span> <span style=\"color: var(--jp-info-color0)\">INFO</span>: latiss_cwfs_align initialized!</pre>"
      ],
      "text/plain": [
       "<IPython.core.display.HTML object>"
      ]
     },
     "metadata": {},
     "output_type": "display_data"
    },
    {
     "data": {
      "text/html": [
       "<pre style=\"margin: 0.1em;\n",
       "padding-left: 0.25em;\n",
       "border-left-style: solid;\n",
       "font-family: var(--jp-code-font-family);\n",
       "font-size: var(--jp-code-font-size);\n",
       "line-height: var(--jp-code-line-height);\n",
       "\"><span style=\"color: var(--jp-warn-color2)\">ATOODS</span> <span style=\"color: var(--jp-info-color0)\">INFO</span>: Read historical data in 0.12 sec</pre>"
      ],
      "text/plain": [
       "<IPython.core.display.HTML object>"
      ]
     },
     "metadata": {},
     "output_type": "display_data"
    },
    {
     "data": {
      "text/html": [
       "<pre style=\"margin: 0.1em;\n",
       "padding-left: 0.25em;\n",
       "border-left-style: solid;\n",
       "font-family: var(--jp-code-font-family);\n",
       "font-size: var(--jp-code-font-size);\n",
       "line-height: var(--jp-code-line-height);\n",
       "\"><span style=\"color: var(--jp-warn-color2)\">ATSpectrograph</span> <span style=\"color: var(--jp-info-color0)\">INFO</span>: Read historical data in 0.13 sec</pre>"
      ],
      "text/plain": [
       "<IPython.core.display.HTML object>"
      ]
     },
     "metadata": {},
     "output_type": "display_data"
    },
    {
     "data": {
      "text/html": [
       "<pre style=\"margin: 0.1em;\n",
       "padding-left: 0.25em;\n",
       "border-left-style: solid;\n",
       "font-family: var(--jp-code-font-family);\n",
       "font-size: var(--jp-code-font-size);\n",
       "line-height: var(--jp-code-line-height);\n",
       "\"><span style=\"color: var(--jp-warn-color2)\">ATAOS</span> <span style=\"color: var(--jp-info-color0)\">INFO</span>: Read historical data in 0.13 sec</pre>"
      ],
      "text/plain": [
       "<IPython.core.display.HTML object>"
      ]
     },
     "metadata": {},
     "output_type": "display_data"
    },
    {
     "data": {
      "text/html": [
       "<pre style=\"margin: 0.1em;\n",
       "padding-left: 0.25em;\n",
       "border-left-style: solid;\n",
       "font-family: var(--jp-code-font-family);\n",
       "font-size: var(--jp-code-font-size);\n",
       "line-height: var(--jp-code-line-height);\n",
       "\"><span style=\"color: var(--jp-warn-color2)\">ATHexapod</span> <span style=\"color: var(--jp-info-color0)\">INFO</span>: Read historical data in 0.14 sec</pre>"
      ],
      "text/plain": [
       "<IPython.core.display.HTML object>"
      ]
     },
     "metadata": {},
     "output_type": "display_data"
    },
    {
     "data": {
      "text/html": [
       "<pre style=\"margin: 0.1em;\n",
       "padding-left: 0.25em;\n",
       "border-left-style: solid;\n",
       "font-family: var(--jp-code-font-family);\n",
       "font-size: var(--jp-code-font-size);\n",
       "line-height: var(--jp-code-line-height);\n",
       "\"><span style=\"color: var(--jp-warn-color2)\">ATHeaderService</span> <span style=\"color: var(--jp-info-color0)\">INFO</span>: Read historical data in 0.14 sec</pre>"
      ],
      "text/plain": [
       "<IPython.core.display.HTML object>"
      ]
     },
     "metadata": {},
     "output_type": "display_data"
    },
    {
     "data": {
      "text/html": [
       "<pre style=\"margin: 0.1em;\n",
       "padding-left: 0.25em;\n",
       "border-left-style: solid;\n",
       "font-family: var(--jp-code-font-family);\n",
       "font-size: var(--jp-code-font-size);\n",
       "line-height: var(--jp-code-line-height);\n",
       "\"><span style=\"color: var(--jp-warn-color2)\">ATDomeTrajectory</span> <span style=\"color: var(--jp-info-color0)\">INFO</span>: Read historical data in 0.14 sec</pre>"
      ],
      "text/plain": [
       "<IPython.core.display.HTML object>"
      ]
     },
     "metadata": {},
     "output_type": "display_data"
    },
    {
     "data": {
      "text/html": [
       "<pre style=\"margin: 0.1em;\n",
       "padding-left: 0.25em;\n",
       "border-left-style: solid;\n",
       "font-family: var(--jp-code-font-family);\n",
       "font-size: var(--jp-code-font-size);\n",
       "line-height: var(--jp-code-line-height);\n",
       "\"><span style=\"color: var(--jp-warn-color2)\">ATPneumatics</span> <span style=\"color: var(--jp-info-color0)\">INFO</span>: Read historical data in 0.15 sec</pre>"
      ],
      "text/plain": [
       "<IPython.core.display.HTML object>"
      ]
     },
     "metadata": {},
     "output_type": "display_data"
    },
    {
     "data": {
      "text/html": [
       "<pre style=\"margin: 0.1em;\n",
       "padding-left: 0.25em;\n",
       "border-left-style: solid;\n",
       "font-family: var(--jp-code-font-family);\n",
       "font-size: var(--jp-code-font-size);\n",
       "line-height: var(--jp-code-line-height);\n",
       "\"><span style=\"color: var(--jp-warn-color2)\">ATMCS</span> <span style=\"color: var(--jp-info-color0)\">INFO</span>: Read historical data in 0.16 sec</pre>"
      ],
      "text/plain": [
       "<IPython.core.display.HTML object>"
      ]
     },
     "metadata": {},
     "output_type": "display_data"
    },
    {
     "data": {
      "text/html": [
       "<pre style=\"margin: 0.1em;\n",
       "padding-left: 0.25em;\n",
       "border-left-style: solid;\n",
       "font-family: var(--jp-code-font-family);\n",
       "font-size: var(--jp-code-font-size);\n",
       "line-height: var(--jp-code-line-height);\n",
       "\"><span style=\"color: var(--jp-warn-color2)\">ATDome</span> <span style=\"color: var(--jp-info-color0)\">INFO</span>: Read historical data in 0.17 sec</pre>"
      ],
      "text/plain": [
       "<IPython.core.display.HTML object>"
      ]
     },
     "metadata": {},
     "output_type": "display_data"
    },
    {
     "data": {
      "text/html": [
       "<pre style=\"margin: 0.1em;\n",
       "padding-left: 0.25em;\n",
       "border-left-style: solid;\n",
       "font-family: var(--jp-code-font-family);\n",
       "font-size: var(--jp-code-font-size);\n",
       "line-height: var(--jp-code-line-height);\n",
       "\"><span style=\"color: var(--jp-warn-color2)\">ATPtg</span> <span style=\"color: var(--jp-info-color0)\">INFO</span>: Read historical data in 0.17 sec</pre>"
      ],
      "text/plain": [
       "<IPython.core.display.HTML object>"
      ]
     },
     "metadata": {},
     "output_type": "display_data"
    },
    {
     "data": {
      "text/html": [
       "<pre style=\"margin: 0.1em;\n",
       "padding-left: 0.25em;\n",
       "border-left-style: solid;\n",
       "font-family: var(--jp-code-font-family);\n",
       "font-size: var(--jp-code-font-size);\n",
       "line-height: var(--jp-code-line-height);\n",
       "\"><span style=\"color: var(--jp-warn-color2)\">ATHeaderService.logevent_logMessage</span> <span style=\"color: var(--jp-warn-color0)\">WARNING</span>: evt_logMessage DDS read queue is filling: 11 of 100 elements</pre>"
      ],
      "text/plain": [
       "<IPython.core.display.HTML object>"
      ]
     },
     "metadata": {},
     "output_type": "display_data"
    },
    {
     "data": {
      "text/html": [
       "<pre style=\"margin: 0.1em;\n",
       "padding-left: 0.25em;\n",
       "border-left-style: solid;\n",
       "font-family: var(--jp-code-font-family);\n",
       "font-size: var(--jp-code-font-size);\n",
       "line-height: var(--jp-code-line-height);\n",
       "\"><span style=\"color: var(--jp-warn-color2)\">ATHeaderService.logevent_heartbeat</span> <span style=\"color: var(--jp-warn-color0)\">WARNING</span>: evt_heartbeat DDS read queue is filling: 66 of 100 elements</pre>"
      ],
      "text/plain": [
       "<IPython.core.display.HTML object>"
      ]
     },
     "metadata": {},
     "output_type": "display_data"
    },
    {
     "data": {
      "text/html": [
       "<pre style=\"margin: 0.1em;\n",
       "padding-left: 0.25em;\n",
       "border-left-style: solid;\n",
       "font-family: var(--jp-code-font-family);\n",
       "font-size: var(--jp-code-font-size);\n",
       "line-height: var(--jp-code-line-height);\n",
       "\"><span style=\"color: var(--jp-warn-color2)\">ATOODS.logevent_heartbeat</span> <span style=\"color: var(--jp-warn-color0)\">WARNING</span>: evt_heartbeat DDS read queue is filling: 99 of 100 elements</pre>"
      ],
      "text/plain": [
       "<IPython.core.display.HTML object>"
      ]
     },
     "metadata": {},
     "output_type": "display_data"
    },
    {
     "data": {
      "text/html": [
       "<pre style=\"margin: 0.1em;\n",
       "padding-left: 0.25em;\n",
       "border-left-style: solid;\n",
       "font-family: var(--jp-code-font-family);\n",
       "font-size: var(--jp-code-font-size);\n",
       "line-height: var(--jp-code-line-height);\n",
       "\"><span style=\"color: var(--jp-warn-color2)\">ATSpectrograph.logevent_heartbeat</span> <span style=\"color: var(--jp-error-color2)\">ERROR</span>: evt_heartbeat DDS read queue is full (100 elements); data may be lost</pre>"
      ],
      "text/plain": [
       "<IPython.core.display.HTML object>"
      ]
     },
     "metadata": {},
     "output_type": "display_data"
    },
    {
     "data": {
      "text/html": [
       "<pre style=\"margin: 0.1em;\n",
       "padding-left: 0.25em;\n",
       "border-left-style: solid;\n",
       "font-family: var(--jp-code-font-family);\n",
       "font-size: var(--jp-code-font-size);\n",
       "line-height: var(--jp-code-line-height);\n",
       "\"><span style=\"color: var(--jp-warn-color2)\">ATHeaderService.logevent_logMessage</span> <span style=\"color: var(--jp-warn-color0)\">WARNING</span>: evt_logMessage DDS read queue is filling: 53 of 100 elements</pre>"
      ],
      "text/plain": [
       "<IPython.core.display.HTML object>"
      ]
     },
     "metadata": {},
     "output_type": "display_data"
    },
    {
     "data": {
      "text/html": [
       "<pre style=\"margin: 0.1em;\n",
       "padding-left: 0.25em;\n",
       "border-left-style: solid;\n",
       "font-family: var(--jp-code-font-family);\n",
       "font-size: var(--jp-code-font-size);\n",
       "line-height: var(--jp-code-line-height);\n",
       "\"><span style=\"color: var(--jp-warn-color2)\">ATCamera</span> <span style=\"color: var(--jp-info-color0)\">INFO</span>: Read historical data in 0.32 sec</pre>"
      ],
      "text/plain": [
       "<IPython.core.display.HTML object>"
      ]
     },
     "metadata": {},
     "output_type": "display_data"
    },
    {
     "data": {
      "text/html": [
       "<pre style=\"margin: 0.1em;\n",
       "padding-left: 0.25em;\n",
       "border-left-style: solid;\n",
       "font-family: var(--jp-code-font-family);\n",
       "font-size: var(--jp-code-font-size);\n",
       "line-height: var(--jp-code-line-height);\n",
       "\"><span style=\"color: var(--jp-warn-color2)\">Script</span> <span style=\"color: var(--jp-info-color0)\">INFO</span>: Read historical data in 0.00 sec</pre>"
      ],
      "text/plain": [
       "<IPython.core.display.HTML object>"
      ]
     },
     "metadata": {},
     "output_type": "display_data"
    }
   ],
   "source": [
    "script = LatissCWFSAlign(index=index, remotes=True)  # this essentially calls the init method\n",
    "await script.start_task"
   ]
  },
  {
   "cell_type": "markdown",
   "id": "3662037a-d691-4edd-ada4-8bd7471e3689",
   "metadata": {},
   "source": [
    "### Forward ATCS and LATISS"
   ]
  },
  {
   "cell_type": "code",
   "execution_count": 5,
   "id": "534388d8-9ae8-4cab-8c32-4c281a8585f8",
   "metadata": {},
   "outputs": [],
   "source": [
    "atcs = script.atcs\n",
    "latiss = script.latiss"
   ]
  },
  {
   "cell_type": "markdown",
   "id": "56300b5f-cc8d-4663-b364-b086b505e702",
   "metadata": {},
   "source": [
    "### Set up script log level"
   ]
  },
  {
   "cell_type": "code",
   "execution_count": 6,
   "id": "02f80095-4a07-45fa-9cff-3c960a6da132",
   "metadata": {},
   "outputs": [],
   "source": [
    "script.log.level = logging.DEBUG"
   ]
  },
  {
   "cell_type": "markdown",
   "id": "386b390b-f364-411b-8542-f8a1e5b9fbc2",
   "metadata": {
    "tags": []
   },
   "source": [
    "### Write start info into EFD"
   ]
  },
  {
   "cell_type": "code",
   "execution_count": 7,
   "id": "219d43b6-efc4-463f-8bb1-c0d9046b7d6e",
   "metadata": {},
   "outputs": [
    {
     "data": {
      "text/html": [
       "<pre style=\"margin: 0.1em;\n",
       "padding-left: 0.25em;\n",
       "border-left-style: solid;\n",
       "font-family: var(--jp-code-font-family);\n",
       "font-size: var(--jp-code-font-size);\n",
       "line-height: var(--jp-code-line-height);\n",
       "\"><span style=\"color: var(--jp-warn-color2)\">Script</span> <span style=\"color: var(--jp-info-color0)\">INFO</span>: START- SITCOM-510 Linearity test using sky background -- at 2022-11-11 06:51:45.959675</pre>"
      ],
      "text/plain": [
       "<IPython.core.display.HTML object>"
      ]
     },
     "metadata": {},
     "output_type": "display_data"
    }
   ],
   "source": [
    "script.log.info(f'START- SITCOM-510 Linearity test using sky background -- at {Time.now()}')"
   ]
  },
  {
   "cell_type": "markdown",
   "id": "ce5f9e64-1356-4e06-bb42-cd9009c60048",
   "metadata": {},
   "source": [
    "----\n",
    "## Target and filter"
   ]
  },
  {
   "cell_type": "markdown",
   "id": "fb7e290e-3060-4d6a-8a4b-02e8b665a9ce",
   "metadata": {},
   "source": [
    "### Declare target: Choose target - Fields need to be reasonably dense with stars. \n",
    "Fields appropriate for this, for morning twilight for each month of the year, are listed in Table 1 of the PDF attached in https://jira.lsstcorp.org/browse/SITCOM-510"
   ]
  },
  {
   "cell_type": "code",
   "execution_count": 8,
   "id": "62c95168-5f6d-4887-9194-23c3c55af3b7",
   "metadata": {},
   "outputs": [],
   "source": [
    "targets = {'Nov': {'target_name':'LinTest0513' , 'target_ra' : '05:13:36.52', 'target_dec' :'-40:02:44.2'}, \n",
    "          'Dec': {'target_name' :'LinTest0800', 'target_ra': '08:10:00' , 'target_dec' : '-36:10:00'},\n",
    "          'Jan': {'target_name' :'LinTest1000', 'target_ra': '10:00:00' , 'target_dec' : '-45:20:00'},\n",
    "          'Feb': {'target_name' :'LinTest1200', 'target_ra': '12:00:00' , 'target_dec' : '-50:30:00'},\n",
    "          'Mar': {'target_name' :'LinTest1400', 'target_ra': '14:00:00' , 'target_dec' : '-55:00:00'},\n",
    "          'Apr': {'target_name' :'LinTest1600', 'target_ra': '16:00:00' , 'target_dec' : '-28:30:00'},\n",
    "          'May': {'target_name' :'LinTest1800', 'target_ra': '18:00:00' , 'target_dec' : '-25:00:00'},\n",
    "          'Jun': {'target_name' :'LinTest2000', 'target_ra': '20:00:00' , 'target_dec' : '-36:10:00'},\n",
    "          'Jul': {'target_name' :'LinTest2133', 'target_ra': '21:33:02.06' , 'target_dec' : '-00:50:11.7'},\n",
    "          'Aug': {'target_name' :'LinTest2308', 'target_ra': '23:08:10.65' , 'target_dec' : '-15:37:13.7'},\n",
    "          'Sep': {'target_name' :'LinTest0052', 'target_ra': '00:52:45.55' , 'target_dec' : '-26:28:00.4'},\n",
    "          'Oct': {'target_name' :'LinTest0311', 'target_ra': '03:11:42.23' , 'target_dec' : '-55:18:08.8'},\n",
    "          }"
   ]
  },
  {
   "cell_type": "markdown",
   "id": "87f21c52-260f-4ecd-a3b0-b22631121f5e",
   "metadata": {},
   "source": [
    "Declare the month of observation and confirm that the target is correct. "
   ]
  },
  {
   "cell_type": "code",
   "execution_count": 9,
   "id": "cc18a3bb-eb78-47b4-94e1-754a2d8d319c",
   "metadata": {},
   "outputs": [],
   "source": [
    "month = 'Nov'"
   ]
  },
  {
   "cell_type": "code",
   "execution_count": 10,
   "id": "9a14f047-0b0d-419d-8f57-d6c6b82fcc75",
   "metadata": {},
   "outputs": [
    {
     "data": {
      "text/html": [
       "<pre style=\"margin: 0.1em;\n",
       "padding-left: 0.25em;\n",
       "border-left-style: solid;\n",
       "font-family: var(--jp-code-font-family);\n",
       "font-size: var(--jp-code-font-size);\n",
       "line-height: var(--jp-code-line-height);\n",
       "\"><span style=\"color: var(--jp-warn-color2)\">SITCOM-510</span> <span style=\"color: var(--jp-info-color0)\">INFO</span>: The target name is LinTest0513, \n",
       "target RA is 05:13:36.52 &amp; target DEC is -40:02:44.2,\n",
       "Month of observation is Nov</pre>"
      ],
      "text/plain": [
       "<IPython.core.display.HTML object>"
      ]
     },
     "metadata": {},
     "output_type": "display_data"
    }
   ],
   "source": [
    "logger.info(f'The target name is {targets[month][\"target_name\"]}, \\n'\n",
    "            f'target RA is {targets[month][\"target_ra\"]} & target DEC is {targets[month][\"target_dec\"]},\\n'\n",
    "            f'Month of observation is {month}')"
   ]
  },
  {
   "cell_type": "markdown",
   "id": "a30da414-ddec-40c0-9817-fd09324b21c6",
   "metadata": {},
   "source": [
    "### Declare filter - Set up with reddest band in filter wheel (to get best image quality) and no disperser"
   ]
  },
  {
   "cell_type": "code",
   "execution_count": 35,
   "id": "d65568de-4aae-415f-a54e-6b7385ffc021",
   "metadata": {},
   "outputs": [
    {
     "data": {
      "text/html": [
       "<pre style=\"margin: 0.1em;\n",
       "padding-left: 0.25em;\n",
       "border-left-style: solid;\n",
       "font-family: var(--jp-code-font-family);\n",
       "font-size: var(--jp-code-font-size);\n",
       "line-height: var(--jp-code-line-height);\n",
       "\"><span style=\"color: var(--jp-warn-color2)\">SITCOM-510</span> <span style=\"color: var(--jp-info-color0)\">INFO</span>: Available filters are: [&#x27;empty_1&#x27;, &#x27;SDSSg_65mm&#x27;, &#x27;SDSSr_65mm&#x27;, &#x27;SDSSi_65mm&#x27;],\n",
       " Gratings are: [&#x27;empty_1&#x27;, &#x27;ronchi90lpmm&#x27;, &#x27;ronchi170lpmm&#x27;, &#x27;holo4_003&#x27;]</pre>"
      ],
      "text/plain": [
       "<IPython.core.display.HTML object>"
      ]
     },
     "metadata": {},
     "output_type": "display_data"
    }
   ],
   "source": [
    "inst_setup = await script.latiss.get_available_instrument_setup()\n",
    "logger.info(f'Available filters are: {inst_setup[0]},\\n Gratings are: {inst_setup[1]}')"
   ]
  },
  {
   "cell_type": "code",
   "execution_count": 11,
   "id": "38de6631-fde8-4caf-817e-d680427370fd",
   "metadata": {},
   "outputs": [],
   "source": [
    "filter_to_use = 'SDSSr_65mm'"
   ]
  },
  {
   "cell_type": "markdown",
   "id": "dac88c51-0384-4f35-aaee-ab41ee22def9",
   "metadata": {},
   "source": [
    "------\n",
    "## CWFS\n",
    "A CWFS is recommended just before the test to ensure the system is in focus. A bright source near the target will be selected to perform CWFS on. "
   ]
  },
  {
   "cell_type": "markdown",
   "id": "7c19d8a6-d8d4-4012-aa02-91ad6448b443",
   "metadata": {
    "tags": []
   },
   "source": [
    "### Declare CWFS target "
   ]
  },
  {
   "cell_type": "markdown",
   "id": "b73650fb-ece7-4005-9fd8-dd525b8779c2",
   "metadata": {},
   "source": [
    "Query for a source around the same area of the sky as the target source."
   ]
  },
  {
   "cell_type": "code",
   "execution_count": 22,
   "id": "18168db9-7841-4114-a80d-05a0d9d70703",
   "metadata": {},
   "outputs": [],
   "source": [
    "target_azel= atcs.azel_from_radec(ra=targets[month][\"target_ra\"], dec=targets[month][\"target_dec\"])"
   ]
  },
  {
   "cell_type": "code",
   "execution_count": 24,
   "id": "5af29aa0-37ec-4ba8-9bd8-18b9f9fdc387",
   "metadata": {},
   "outputs": [],
   "source": [
    "cwfs_az = target_azel.az.degree\n",
    "cwfs_el = target_azel.alt.degree\n",
    "cwfs_mag_limit = 8\n",
    "cwfs_radius= 4"
   ]
  },
  {
   "cell_type": "code",
   "execution_count": 25,
   "id": "9d50f041-07f2-4643-bfde-18d33ee60c53",
   "metadata": {},
   "outputs": [
    {
     "name": "stderr",
     "output_type": "stream",
     "text": [
      "WARNING: AstropyDeprecationWarning: Transforming a frame instance to a frame class (as opposed to another frame instance) will not be supported in the future.  Either explicitly instantiate the target frame, or first convert the source frame instance to a `astropy.coordinates.SkyCoord` and use its `transform_to()` method. [astropy.coordinates.baseframe]\n"
     ]
    },
    {
     "data": {
      "text/html": [
       "<pre style=\"margin: 0.1em;\n",
       "padding-left: 0.25em;\n",
       "border-left-style: solid;\n",
       "font-family: var(--jp-code-font-family);\n",
       "font-size: var(--jp-code-font-size);\n",
       "line-height: var(--jp-code-line-height);\n",
       "\"><span style=\"color: var(--jp-warn-color2)\">astroquery</span> <span style=\"color: var(--jp-warn-color0)\">WARNING</span>: AstropyDeprecationWarning: Transforming a frame instance to a frame class (as opposed to another frame instance) will not be supported in the future.  Either explicitly instantiate the target frame, or first convert the source frame instance to a `astropy.coordinates.SkyCoord` and use its `transform_to()` method.</pre>"
      ],
      "text/plain": [
       "<IPython.core.display.HTML object>"
      ]
     },
     "metadata": {},
     "output_type": "display_data"
    },
    {
     "data": {
      "text/html": [
       "<pre style=\"margin: 0.1em;\n",
       "padding-left: 0.25em;\n",
       "border-left-style: solid;\n",
       "font-family: var(--jp-code-font-family);\n",
       "font-size: var(--jp-code-font-size);\n",
       "line-height: var(--jp-code-line-height);\n",
       "\"><span style=\"color: var(--jp-warn-color2)\">SITCOM-510</span> <span style=\"color: var(--jp-info-color0)\">INFO</span>: Target for CWFS with magnitude limit 8 is HD  33952</pre>"
      ],
      "text/plain": [
       "<IPython.core.display.HTML object>"
      ]
     },
     "metadata": {},
     "output_type": "display_data"
    }
   ],
   "source": [
    "cwfs_target = await script.atcs.find_target(az=cwfs_az, el=cwfs_el, mag_limit=cwfs_mag_limit, radius = cwfs_radius)\n",
    "logger.info(f'Target for CWFS with magnitude limit {cwfs_mag_limit} is {cwfs_target}')"
   ]
  },
  {
   "cell_type": "markdown",
   "id": "a56989dc-7038-4c42-8cbf-621b30d5cc6f",
   "metadata": {},
   "source": [
    "### Slew to the CWFS target"
   ]
  },
  {
   "cell_type": "code",
   "execution_count": 26,
   "id": "834a8435-6f5d-459c-a419-befb24767f53",
   "metadata": {},
   "outputs": [
    {
     "data": {
      "text/html": [
       "<pre style=\"margin: 0.1em;\n",
       "padding-left: 0.25em;\n",
       "border-left-style: solid;\n",
       "font-family: var(--jp-code-font-family);\n",
       "font-size: var(--jp-code-font-size);\n",
       "line-height: var(--jp-code-line-height);\n",
       "\"><span style=\"color: var(--jp-warn-color2)\">Script.ATCS</span> <span style=\"color: var(--jp-info-color0)\">INFO</span>: Slewing to HD  33952: 05 12 01.8017 -40 20 53.393</pre>"
      ],
      "text/plain": [
       "<IPython.core.display.HTML object>"
      ]
     },
     "metadata": {},
     "output_type": "display_data"
    },
    {
     "data": {
      "text/html": [
       "<pre style=\"margin: 0.1em;\n",
       "padding-left: 0.25em;\n",
       "border-left-style: solid;\n",
       "font-family: var(--jp-code-font-family);\n",
       "font-size: var(--jp-code-font-size);\n",
       "line-height: var(--jp-code-line-height);\n",
       "\"><span style=\"color: var(--jp-warn-color2)\">Script.ATCS</span> <span style=\"color: var(--jp-info-color0)\">INFO</span>: ATDome in position.</pre>"
      ],
      "text/plain": [
       "<IPython.core.display.HTML object>"
      ]
     },
     "metadata": {},
     "output_type": "display_data"
    },
    {
     "data": {
      "text/html": [
       "<pre style=\"margin: 0.1em;\n",
       "padding-left: 0.25em;\n",
       "border-left-style: solid;\n",
       "font-family: var(--jp-code-font-family);\n",
       "font-size: var(--jp-code-font-size);\n",
       "line-height: var(--jp-code-line-height);\n",
       "\"><span style=\"color: var(--jp-warn-color2)\">Script.ATCS</span> <span style=\"color: var(--jp-warn-color0)\">WARNING</span>: Dome following disabled and check dome enabled. Disabling dome check.</pre>"
      ],
      "text/plain": [
       "<IPython.core.display.HTML object>"
      ]
     },
     "metadata": {},
     "output_type": "display_data"
    },
    {
     "data": {
      "text/html": [
       "<pre style=\"margin: 0.1em;\n",
       "padding-left: 0.25em;\n",
       "border-left-style: solid;\n",
       "font-family: var(--jp-code-font-family);\n",
       "font-size: var(--jp-code-font-size);\n",
       "line-height: var(--jp-code-line-height);\n",
       "\"><span style=\"color: var(--jp-warn-color2)\">Script.ATCS</span> <span style=\"color: var(--jp-info-color0)\">INFO</span>: [Telescope] delta Alt = -000.328 deg; delta Az= -155.868 deg; delta N1 = +000.000 deg; delta N2 = +000.014 deg </pre>"
      ],
      "text/plain": [
       "<IPython.core.display.HTML object>"
      ]
     },
     "metadata": {},
     "output_type": "display_data"
    },
    {
     "data": {
      "text/html": [
       "<pre style=\"margin: 0.1em;\n",
       "padding-left: 0.25em;\n",
       "border-left-style: solid;\n",
       "font-family: var(--jp-code-font-family);\n",
       "font-size: var(--jp-code-font-size);\n",
       "line-height: var(--jp-code-line-height);\n",
       "\"><span style=\"color: var(--jp-warn-color2)\">Script.ATCS</span> <span style=\"color: var(--jp-info-color0)\">INFO</span>: [Telescope] delta Alt = -000.000 deg; delta Az= -159.930 deg; delta N1 = +000.000 deg; delta N2 = -000.001 deg </pre>"
      ],
      "text/plain": [
       "<IPython.core.display.HTML object>"
      ]
     },
     "metadata": {},
     "output_type": "display_data"
    },
    {
     "data": {
      "text/html": [
       "<pre style=\"margin: 0.1em;\n",
       "padding-left: 0.25em;\n",
       "border-left-style: solid;\n",
       "font-family: var(--jp-code-font-family);\n",
       "font-size: var(--jp-code-font-size);\n",
       "line-height: var(--jp-code-line-height);\n",
       "\"><span style=\"color: var(--jp-warn-color2)\">Script.ATCS</span> <span style=\"color: var(--jp-info-color0)\">INFO</span>: [Telescope] delta Alt = -000.000 deg; delta Az= -164.960 deg; delta N1 = +000.000 deg; delta N2 = -000.001 deg </pre>"
      ],
      "text/plain": [
       "<IPython.core.display.HTML object>"
      ]
     },
     "metadata": {},
     "output_type": "display_data"
    },
    {
     "data": {
      "text/html": [
       "<pre style=\"margin: 0.1em;\n",
       "padding-left: 0.25em;\n",
       "border-left-style: solid;\n",
       "font-family: var(--jp-code-font-family);\n",
       "font-size: var(--jp-code-font-size);\n",
       "line-height: var(--jp-code-line-height);\n",
       "\"><span style=\"color: var(--jp-warn-color2)\">Script.ATCS</span> <span style=\"color: var(--jp-info-color0)\">INFO</span>: [Telescope] delta Alt = -000.000 deg; delta Az= -170.056 deg; delta N1 = +000.000 deg; delta N2 = -000.001 deg </pre>"
      ],
      "text/plain": [
       "<IPython.core.display.HTML object>"
      ]
     },
     "metadata": {},
     "output_type": "display_data"
    },
    {
     "data": {
      "text/html": [
       "<pre style=\"margin: 0.1em;\n",
       "padding-left: 0.25em;\n",
       "border-left-style: solid;\n",
       "font-family: var(--jp-code-font-family);\n",
       "font-size: var(--jp-code-font-size);\n",
       "line-height: var(--jp-code-line-height);\n",
       "\"><span style=\"color: var(--jp-warn-color2)\">Script.ATCS</span> <span style=\"color: var(--jp-info-color0)\">INFO</span>: [Telescope] delta Alt = +000.002 deg; delta Az= +179.818 deg; delta N1 = +000.000 deg; delta N2 = +000.018 deg </pre>"
      ],
      "text/plain": [
       "<IPython.core.display.HTML object>"
      ]
     },
     "metadata": {},
     "output_type": "display_data"
    },
    {
     "data": {
      "text/html": [
       "<pre style=\"margin: 0.1em;\n",
       "padding-left: 0.25em;\n",
       "border-left-style: solid;\n",
       "font-family: var(--jp-code-font-family);\n",
       "font-size: var(--jp-code-font-size);\n",
       "line-height: var(--jp-code-line-height);\n",
       "\"><span style=\"color: var(--jp-warn-color2)\">Script.ATCS</span> <span style=\"color: var(--jp-info-color0)\">INFO</span>: [Telescope] delta Alt = +000.002 deg; delta Az= +169.718 deg; delta N1 = +000.000 deg; delta N2 = +000.018 deg </pre>"
      ],
      "text/plain": [
       "<IPython.core.display.HTML object>"
      ]
     },
     "metadata": {},
     "output_type": "display_data"
    },
    {
     "data": {
      "text/html": [
       "<pre style=\"margin: 0.1em;\n",
       "padding-left: 0.25em;\n",
       "border-left-style: solid;\n",
       "font-family: var(--jp-code-font-family);\n",
       "font-size: var(--jp-code-font-size);\n",
       "line-height: var(--jp-code-line-height);\n",
       "\"><span style=\"color: var(--jp-warn-color2)\">Script.ATCS</span> <span style=\"color: var(--jp-info-color0)\">INFO</span>: [Telescope] delta Alt = +000.001 deg; delta Az= +159.758 deg; delta N1 = +000.000 deg; delta N2 = +000.017 deg </pre>"
      ],
      "text/plain": [
       "<IPython.core.display.HTML object>"
      ]
     },
     "metadata": {},
     "output_type": "display_data"
    },
    {
     "data": {
      "text/html": [
       "<pre style=\"margin: 0.1em;\n",
       "padding-left: 0.25em;\n",
       "border-left-style: solid;\n",
       "font-family: var(--jp-code-font-family);\n",
       "font-size: var(--jp-code-font-size);\n",
       "line-height: var(--jp-code-line-height);\n",
       "\"><span style=\"color: var(--jp-warn-color2)\">Script.ATCS</span> <span style=\"color: var(--jp-info-color0)\">INFO</span>: [Telescope] delta Alt = -000.000 deg; delta Az= +154.707 deg; delta N1 = +000.000 deg; delta N2 = -000.001 deg </pre>"
      ],
      "text/plain": [
       "<IPython.core.display.HTML object>"
      ]
     },
     "metadata": {},
     "output_type": "display_data"
    },
    {
     "data": {
      "text/html": [
       "<pre style=\"margin: 0.1em;\n",
       "padding-left: 0.25em;\n",
       "border-left-style: solid;\n",
       "font-family: var(--jp-code-font-family);\n",
       "font-size: var(--jp-code-font-size);\n",
       "line-height: var(--jp-code-line-height);\n",
       "\"><span style=\"color: var(--jp-warn-color2)\">Script.ATCS</span> <span style=\"color: var(--jp-info-color0)\">INFO</span>: [Telescope] delta Alt = +000.001 deg; delta Az= +144.693 deg; delta N1 = +000.000 deg; delta N2 = +000.036 deg </pre>"
      ],
      "text/plain": [
       "<IPython.core.display.HTML object>"
      ]
     },
     "metadata": {},
     "output_type": "display_data"
    },
    {
     "data": {
      "text/html": [
       "<pre style=\"margin: 0.1em;\n",
       "padding-left: 0.25em;\n",
       "border-left-style: solid;\n",
       "font-family: var(--jp-code-font-family);\n",
       "font-size: var(--jp-code-font-size);\n",
       "line-height: var(--jp-code-line-height);\n",
       "\"><span style=\"color: var(--jp-warn-color2)\">Script.ATCS</span> <span style=\"color: var(--jp-info-color0)\">INFO</span>: [Telescope] delta Alt = +000.002 deg; delta Az= +129.638 deg; delta N1 = +000.000 deg; delta N2 = +000.018 deg </pre>"
      ],
      "text/plain": [
       "<IPython.core.display.HTML object>"
      ]
     },
     "metadata": {},
     "output_type": "display_data"
    },
    {
     "data": {
      "text/html": [
       "<pre style=\"margin: 0.1em;\n",
       "padding-left: 0.25em;\n",
       "border-left-style: solid;\n",
       "font-family: var(--jp-code-font-family);\n",
       "font-size: var(--jp-code-font-size);\n",
       "line-height: var(--jp-code-line-height);\n",
       "\"><span style=\"color: var(--jp-warn-color2)\">Script.ATCS</span> <span style=\"color: var(--jp-info-color0)\">INFO</span>: [Telescope] delta Alt = +000.002 deg; delta Az= +119.525 deg; delta N1 = +000.000 deg; delta N2 = +000.018 deg </pre>"
      ],
      "text/plain": [
       "<IPython.core.display.HTML object>"
      ]
     },
     "metadata": {},
     "output_type": "display_data"
    },
    {
     "data": {
      "text/html": [
       "<pre style=\"margin: 0.1em;\n",
       "padding-left: 0.25em;\n",
       "border-left-style: solid;\n",
       "font-family: var(--jp-code-font-family);\n",
       "font-size: var(--jp-code-font-size);\n",
       "line-height: var(--jp-code-line-height);\n",
       "\"><span style=\"color: var(--jp-warn-color2)\">Script.ATCS</span> <span style=\"color: var(--jp-info-color0)\">INFO</span>: [Telescope] delta Alt = +000.001 deg; delta Az= +109.449 deg; delta N1 = +000.000 deg; delta N2 = +000.017 deg </pre>"
      ],
      "text/plain": [
       "<IPython.core.display.HTML object>"
      ]
     },
     "metadata": {},
     "output_type": "display_data"
    },
    {
     "data": {
      "text/html": [
       "<pre style=\"margin: 0.1em;\n",
       "padding-left: 0.25em;\n",
       "border-left-style: solid;\n",
       "font-family: var(--jp-code-font-family);\n",
       "font-size: var(--jp-code-font-size);\n",
       "line-height: var(--jp-code-line-height);\n",
       "\"><span style=\"color: var(--jp-warn-color2)\">Script.ATCS</span> <span style=\"color: var(--jp-info-color0)\">INFO</span>: [Telescope] delta Alt = -000.000 deg; delta Az= +104.410 deg; delta N1 = +000.000 deg; delta N2 = -000.001 deg </pre>"
      ],
      "text/plain": [
       "<IPython.core.display.HTML object>"
      ]
     },
     "metadata": {},
     "output_type": "display_data"
    },
    {
     "data": {
      "text/html": [
       "<pre style=\"margin: 0.1em;\n",
       "padding-left: 0.25em;\n",
       "border-left-style: solid;\n",
       "font-family: var(--jp-code-font-family);\n",
       "font-size: var(--jp-code-font-size);\n",
       "line-height: var(--jp-code-line-height);\n",
       "\"><span style=\"color: var(--jp-warn-color2)\">Script.ATCS</span> <span style=\"color: var(--jp-info-color0)\">INFO</span>: [Telescope] delta Alt = -000.000 deg; delta Az= +099.364 deg; delta N1 = +000.000 deg; delta N2 = -000.001 deg </pre>"
      ],
      "text/plain": [
       "<IPython.core.display.HTML object>"
      ]
     },
     "metadata": {},
     "output_type": "display_data"
    },
    {
     "data": {
      "text/html": [
       "<pre style=\"margin: 0.1em;\n",
       "padding-left: 0.25em;\n",
       "border-left-style: solid;\n",
       "font-family: var(--jp-code-font-family);\n",
       "font-size: var(--jp-code-font-size);\n",
       "line-height: var(--jp-code-line-height);\n",
       "\"><span style=\"color: var(--jp-warn-color2)\">Script.ATCS</span> <span style=\"color: var(--jp-info-color0)\">INFO</span>: [Telescope] delta Alt = -000.000 deg; delta Az= +094.327 deg; delta N1 = +000.000 deg; delta N2 = -000.001 deg </pre>"
      ],
      "text/plain": [
       "<IPython.core.display.HTML object>"
      ]
     },
     "metadata": {},
     "output_type": "display_data"
    },
    {
     "data": {
      "text/html": [
       "<pre style=\"margin: 0.1em;\n",
       "padding-left: 0.25em;\n",
       "border-left-style: solid;\n",
       "font-family: var(--jp-code-font-family);\n",
       "font-size: var(--jp-code-font-size);\n",
       "line-height: var(--jp-code-line-height);\n",
       "\"><span style=\"color: var(--jp-warn-color2)\">Script.ATCS</span> <span style=\"color: var(--jp-info-color0)\">INFO</span>: [Telescope] delta Alt = +000.002 deg; delta Az= +084.205 deg; delta N1 = +000.000 deg; delta N2 = +000.018 deg </pre>"
      ],
      "text/plain": [
       "<IPython.core.display.HTML object>"
      ]
     },
     "metadata": {},
     "output_type": "display_data"
    },
    {
     "data": {
      "text/html": [
       "<pre style=\"margin: 0.1em;\n",
       "padding-left: 0.25em;\n",
       "border-left-style: solid;\n",
       "font-family: var(--jp-code-font-family);\n",
       "font-size: var(--jp-code-font-size);\n",
       "line-height: var(--jp-code-line-height);\n",
       "\"><span style=\"color: var(--jp-warn-color2)\">Script.ATCS</span> <span style=\"color: var(--jp-info-color0)\">INFO</span>: [Telescope] delta Alt = +000.002 deg; delta Az= +074.149 deg; delta N1 = +000.000 deg; delta N2 = +000.018 deg </pre>"
      ],
      "text/plain": [
       "<IPython.core.display.HTML object>"
      ]
     },
     "metadata": {},
     "output_type": "display_data"
    },
    {
     "data": {
      "text/html": [
       "<pre style=\"margin: 0.1em;\n",
       "padding-left: 0.25em;\n",
       "border-left-style: solid;\n",
       "font-family: var(--jp-code-font-family);\n",
       "font-size: var(--jp-code-font-size);\n",
       "line-height: var(--jp-code-line-height);\n",
       "\"><span style=\"color: var(--jp-warn-color2)\">Script.ATCS</span> <span style=\"color: var(--jp-info-color0)\">INFO</span>: [Telescope] delta Alt = +000.002 deg; delta Az= +064.053 deg; delta N1 = +000.000 deg; delta N2 = +000.018 deg </pre>"
      ],
      "text/plain": [
       "<IPython.core.display.HTML object>"
      ]
     },
     "metadata": {},
     "output_type": "display_data"
    },
    {
     "data": {
      "text/html": [
       "<pre style=\"margin: 0.1em;\n",
       "padding-left: 0.25em;\n",
       "border-left-style: solid;\n",
       "font-family: var(--jp-code-font-family);\n",
       "font-size: var(--jp-code-font-size);\n",
       "line-height: var(--jp-code-line-height);\n",
       "\"><span style=\"color: var(--jp-warn-color2)\">Script.ATCS</span> <span style=\"color: var(--jp-info-color0)\">INFO</span>: [Telescope] delta Alt = -000.000 deg; delta Az= +059.043 deg; delta N1 = +000.000 deg; delta N2 = -000.001 deg </pre>"
      ],
      "text/plain": [
       "<IPython.core.display.HTML object>"
      ]
     },
     "metadata": {},
     "output_type": "display_data"
    },
    {
     "data": {
      "text/html": [
       "<pre style=\"margin: 0.1em;\n",
       "padding-left: 0.25em;\n",
       "border-left-style: solid;\n",
       "font-family: var(--jp-code-font-family);\n",
       "font-size: var(--jp-code-font-size);\n",
       "line-height: var(--jp-code-line-height);\n",
       "\"><span style=\"color: var(--jp-warn-color2)\">Script.ATCS</span> <span style=\"color: var(--jp-info-color0)\">INFO</span>: [Telescope] delta Alt = +000.002 deg; delta Az= +048.984 deg; delta N1 = +000.000 deg; delta N2 = +000.018 deg </pre>"
      ],
      "text/plain": [
       "<IPython.core.display.HTML object>"
      ]
     },
     "metadata": {},
     "output_type": "display_data"
    },
    {
     "data": {
      "text/html": [
       "<pre style=\"margin: 0.1em;\n",
       "padding-left: 0.25em;\n",
       "border-left-style: solid;\n",
       "font-family: var(--jp-code-font-family);\n",
       "font-size: var(--jp-code-font-size);\n",
       "line-height: var(--jp-code-line-height);\n",
       "\"><span style=\"color: var(--jp-warn-color2)\">Script.ATCS</span> <span style=\"color: var(--jp-info-color0)\">INFO</span>: [Telescope] delta Alt = +000.002 deg; delta Az= +038.884 deg; delta N1 = +000.000 deg; delta N2 = +000.018 deg </pre>"
      ],
      "text/plain": [
       "<IPython.core.display.HTML object>"
      ]
     },
     "metadata": {},
     "output_type": "display_data"
    },
    {
     "data": {
      "text/html": [
       "<pre style=\"margin: 0.1em;\n",
       "padding-left: 0.25em;\n",
       "border-left-style: solid;\n",
       "font-family: var(--jp-code-font-family);\n",
       "font-size: var(--jp-code-font-size);\n",
       "line-height: var(--jp-code-line-height);\n",
       "\"><span style=\"color: var(--jp-warn-color2)\">Script.ATCS</span> <span style=\"color: var(--jp-info-color0)\">INFO</span>: [Telescope] delta Alt = +000.002 deg; delta Az= +028.769 deg; delta N1 = +000.000 deg; delta N2 = +000.018 deg </pre>"
      ],
      "text/plain": [
       "<IPython.core.display.HTML object>"
      ]
     },
     "metadata": {},
     "output_type": "display_data"
    },
    {
     "data": {
      "text/html": [
       "<pre style=\"margin: 0.1em;\n",
       "padding-left: 0.25em;\n",
       "border-left-style: solid;\n",
       "font-family: var(--jp-code-font-family);\n",
       "font-size: var(--jp-code-font-size);\n",
       "line-height: var(--jp-code-line-height);\n",
       "\"><span style=\"color: var(--jp-warn-color2)\">Script.ATCS</span> <span style=\"color: var(--jp-info-color0)\">INFO</span>: [Telescope] delta Alt = +000.002 deg; delta Az= +018.673 deg; delta N1 = +000.000 deg; delta N2 = +000.018 deg </pre>"
      ],
      "text/plain": [
       "<IPython.core.display.HTML object>"
      ]
     },
     "metadata": {},
     "output_type": "display_data"
    },
    {
     "data": {
      "text/html": [
       "<pre style=\"margin: 0.1em;\n",
       "padding-left: 0.25em;\n",
       "border-left-style: solid;\n",
       "font-family: var(--jp-code-font-family);\n",
       "font-size: var(--jp-code-font-size);\n",
       "line-height: var(--jp-code-line-height);\n",
       "\"><span style=\"color: var(--jp-warn-color2)\">Script.ATCS</span> <span style=\"color: var(--jp-info-color0)\">INFO</span>: [Telescope] delta Alt = +000.002 deg; delta Az= +008.625 deg; delta N1 = +000.000 deg; delta N2 = +000.017 deg </pre>"
      ],
      "text/plain": [
       "<IPython.core.display.HTML object>"
      ]
     },
     "metadata": {},
     "output_type": "display_data"
    },
    {
     "data": {
      "text/html": [
       "<pre style=\"margin: 0.1em;\n",
       "padding-left: 0.25em;\n",
       "border-left-style: solid;\n",
       "font-family: var(--jp-code-font-family);\n",
       "font-size: var(--jp-code-font-size);\n",
       "line-height: var(--jp-code-line-height);\n",
       "\"><span style=\"color: var(--jp-warn-color2)\">Script.ATCS</span> <span style=\"color: var(--jp-info-color0)\">INFO</span>: [Telescope] delta Alt = -000.000 deg; delta Az= +003.624 deg; delta N1 = +000.000 deg; delta N2 = -000.001 deg </pre>"
      ],
      "text/plain": [
       "<IPython.core.display.HTML object>"
      ]
     },
     "metadata": {},
     "output_type": "display_data"
    },
    {
     "data": {
      "text/html": [
       "<pre style=\"margin: 0.1em;\n",
       "padding-left: 0.25em;\n",
       "border-left-style: solid;\n",
       "font-family: var(--jp-code-font-family);\n",
       "font-size: var(--jp-code-font-size);\n",
       "line-height: var(--jp-code-line-height);\n",
       "\"><span style=\"color: var(--jp-warn-color2)\">Script.ATCS</span> <span style=\"color: var(--jp-info-color0)\">INFO</span>: [Telescope] delta Alt = -000.000 deg; delta Az= +000.357 deg; delta N1 = +000.000 deg; delta N2 = -000.001 deg </pre>"
      ],
      "text/plain": [
       "<IPython.core.display.HTML object>"
      ]
     },
     "metadata": {},
     "output_type": "display_data"
    },
    {
     "data": {
      "text/html": [
       "<pre style=\"margin: 0.1em;\n",
       "padding-left: 0.25em;\n",
       "border-left-style: solid;\n",
       "font-family: var(--jp-code-font-family);\n",
       "font-size: var(--jp-code-font-size);\n",
       "line-height: var(--jp-code-line-height);\n",
       "\"><span style=\"color: var(--jp-warn-color2)\">Script.ATCS</span> <span style=\"color: var(--jp-info-color0)\">INFO</span>: ATMCS in position: True.</pre>"
      ],
      "text/plain": [
       "<IPython.core.display.HTML object>"
      ]
     },
     "metadata": {},
     "output_type": "display_data"
    },
    {
     "data": {
      "text/html": [
       "<pre style=\"margin: 0.1em;\n",
       "padding-left: 0.25em;\n",
       "border-left-style: solid;\n",
       "font-family: var(--jp-code-font-family);\n",
       "font-size: var(--jp-code-font-size);\n",
       "line-height: var(--jp-code-line-height);\n",
       "\"><span style=\"color: var(--jp-warn-color2)\">Script.ATCS</span> <span style=\"color: var(--jp-info-color0)\">INFO</span>: [Telescope] delta Alt = -000.000 deg; delta Az= +000.001 deg; delta N1 = +000.000 deg; delta N2 = -000.001 deg </pre>"
      ],
      "text/plain": [
       "<IPython.core.display.HTML object>"
      ]
     },
     "metadata": {},
     "output_type": "display_data"
    },
    {
     "data": {
      "text/html": [
       "<pre style=\"margin: 0.1em;\n",
       "padding-left: 0.25em;\n",
       "border-left-style: solid;\n",
       "font-family: var(--jp-code-font-family);\n",
       "font-size: var(--jp-code-font-size);\n",
       "line-height: var(--jp-code-line-height);\n",
       "\"><span style=\"color: var(--jp-warn-color2)\">Script.ATCS</span> <span style=\"color: var(--jp-info-color0)\">INFO</span>: [Telescope] delta Alt = +000.002 deg; delta Az= -000.014 deg; delta N1 = +000.000 deg; delta N2 = +000.018 deg </pre>"
      ],
      "text/plain": [
       "<IPython.core.display.HTML object>"
      ]
     },
     "metadata": {},
     "output_type": "display_data"
    },
    {
     "data": {
      "text/html": [
       "<pre style=\"margin: 0.1em;\n",
       "padding-left: 0.25em;\n",
       "border-left-style: solid;\n",
       "font-family: var(--jp-code-font-family);\n",
       "font-size: var(--jp-code-font-size);\n",
       "line-height: var(--jp-code-line-height);\n",
       "\"><span style=\"color: var(--jp-warn-color2)\">Script.ATCS</span> <span style=\"color: var(--jp-warn-color0)\">WARNING</span>: Setting monitor flag to false.</pre>"
      ],
      "text/plain": [
       "<IPython.core.display.HTML object>"
      ]
     },
     "metadata": {},
     "output_type": "display_data"
    }
   ],
   "source": [
    "await script.atcs.slew_object(cwfs_target, rot_type=RotType.PhysicalSky)"
   ]
  },
  {
   "cell_type": "markdown",
   "id": "71fbb6be-1599-4d22-a58e-0adbb0f6bf6e",
   "metadata": {},
   "source": [
    "Uncomment the following line to take a snapshot to verify the target is positioned as expected "
   ]
  },
  {
   "cell_type": "code",
   "execution_count": null,
   "id": "f3731c8a-7a71-43e5-bb25-44a307c56937",
   "metadata": {},
   "outputs": [],
   "source": [
    "# exposure = await latiss.take_acq(\n",
    "#         exptime=5, n=1, filter=filter_to_use, grating='empty_1', reason='Acquisition', program=\"SITCOM-510\")\n",
    "# logger.info(f'Acquisition exposure is {exposure}')"
   ]
  },
  {
   "cell_type": "markdown",
   "id": "8fb7d675-b59e-4cab-adfd-4ab94bb690ee",
   "metadata": {},
   "source": [
    "To offset the telescope and center the source (if required) uncomment the following line. <br>\n",
    "Offsets are in detector X/Y coordinates and in arcseconds. "
   ]
  },
  {
   "cell_type": "code",
   "execution_count": null,
   "id": "78d5edf0-c3b1-45f6-8111-b43370235844",
   "metadata": {},
   "outputs": [],
   "source": [
    "# await script.atcs.offset_xy(x=20, y=20)"
   ]
  },
  {
   "cell_type": "markdown",
   "id": "87807e50-5710-45e9-b4a1-da4ca450fe54",
   "metadata": {},
   "source": [
    "### Set up configuration"
   ]
  },
  {
   "cell_type": "code",
   "execution_count": 27,
   "id": "b1a776d9-6c66-42f6-a9f2-5fef17290c51",
   "metadata": {},
   "outputs": [],
   "source": [
    "configuration = yaml.safe_dump({\"filter\": filter_to_use, \n",
    "                                \"grating\": 'empty_1',\n",
    "                                \"exposure_time\": 20,\n",
    "                                \"program\" : \"SITCOM-510\"})"
   ]
  },
  {
   "cell_type": "markdown",
   "id": "6fe7c085-e02c-4b17-9891-7fb2e21908ee",
   "metadata": {},
   "source": [
    "The next line is not required the first time the script is run, however, in each additional instance the cell is run, an error will be thrown if it is not included.  \n",
    "Therefore, it is included here despite being a non-operation in the first instance.  "
   ]
  },
  {
   "cell_type": "code",
   "execution_count": 28,
   "id": "182f8a1c-f681-4462-b392-7ec008d3200b",
   "metadata": {},
   "outputs": [],
   "source": [
    "await script.set_state(ScriptState.UNCONFIGURED)"
   ]
  },
  {
   "cell_type": "markdown",
   "id": "f994dd6d-bdd1-4004-b65f-edd426d88e0e",
   "metadata": {},
   "source": [
    "### Put the ScriptState to CONFIGURED"
   ]
  },
  {
   "cell_type": "code",
   "execution_count": 29,
   "id": "0a79ad4b-13c1-4a5c-b023-75b040b87a21",
   "metadata": {
    "tags": []
   },
   "outputs": [
    {
     "data": {
      "text/html": [
       "<pre style=\"margin: 0.1em;\n",
       "padding-left: 0.25em;\n",
       "border-left-style: solid;\n",
       "font-family: var(--jp-code-font-family);\n",
       "font-size: var(--jp-code-font-size);\n",
       "line-height: var(--jp-code-line-height);\n",
       "\"><span style=\"color: var(--jp-warn-color2)\">Script</span> <span style=\"color: var(--jp-success-color0)\">DEBUG</span>: No target configured.</pre>"
      ],
      "text/plain": [
       "<IPython.core.display.HTML object>"
      ]
     },
     "metadata": {},
     "output_type": "display_data"
    },
    {
     "data": {
      "text/html": [
       "<pre style=\"margin: 0.1em;\n",
       "padding-left: 0.25em;\n",
       "border-left-style: solid;\n",
       "font-family: var(--jp-code-font-family);\n",
       "font-size: var(--jp-code-font-size);\n",
       "line-height: var(--jp-code-line-height);\n",
       "\"><span style=\"color: var(--jp-warn-color2)\">Script</span> <span style=\"color: var(--jp-info-color0)\">INFO</span>: Using binning factor of 1</pre>"
      ],
      "text/plain": [
       "<IPython.core.display.HTML object>"
      ]
     },
     "metadata": {},
     "output_type": "display_data"
    },
    {
     "data": {
      "text/html": [
       "<pre style=\"margin: 0.1em;\n",
       "padding-left: 0.25em;\n",
       "border-left-style: solid;\n",
       "font-family: var(--jp-code-font-family);\n",
       "font-size: var(--jp-code-font-size);\n",
       "line-height: var(--jp-code-line-height);\n",
       "\"><span style=\"color: var(--jp-warn-color2)\">lsst.summit.utils.bestEffort</span> <span style=\"color: var(--jp-info-color0)\">INFO</span>: Instantiating butler with collections=[&#x27;LATISS/raw/all&#x27;, &#x27;LATISS/calib&#x27;, &#x27;LATISS/runs/quickLook&#x27;, &#x27;LATISS-test-data-tts&#x27;]</pre>"
      ],
      "text/plain": [
       "<IPython.core.display.HTML object>"
      ]
     },
     "metadata": {},
     "output_type": "display_data"
    },
    {
     "data": {
      "text/html": [
       "<pre style=\"margin: 0.1em;\n",
       "padding-left: 0.25em;\n",
       "border-left-style: solid;\n",
       "font-family: var(--jp-code-font-family);\n",
       "font-size: var(--jp-code-font-size);\n",
       "line-height: var(--jp-code-line-height);\n",
       "\"><span style=\"color: var(--jp-warn-color2)\">Script.ATCS</span> <span style=\"color: var(--jp-warn-color0)\">WARNING</span>: Nothing to check.</pre>"
      ],
      "text/plain": [
       "<IPython.core.display.HTML object>"
      ]
     },
     "metadata": {},
     "output_type": "display_data"
    },
    {
     "data": {
      "text/html": [
       "<pre style=\"margin: 0.1em;\n",
       "padding-left: 0.25em;\n",
       "border-left-style: solid;\n",
       "font-family: var(--jp-code-font-family);\n",
       "font-size: var(--jp-code-font-size);\n",
       "line-height: var(--jp-code-line-height);\n",
       "\"><span style=\"color: var(--jp-warn-color2)\">ATMCS.logevent_target</span> <span style=\"color: var(--jp-warn-color0)\">WARNING</span>: evt_target DDS read queue is filling: 14 of 100 elements</pre>"
      ],
      "text/plain": [
       "<IPython.core.display.HTML object>"
      ]
     },
     "metadata": {},
     "output_type": "display_data"
    },
    {
     "data": {
      "text/html": [
       "<pre style=\"margin: 0.1em;\n",
       "padding-left: 0.25em;\n",
       "border-left-style: solid;\n",
       "font-family: var(--jp-code-font-family);\n",
       "font-size: var(--jp-code-font-size);\n",
       "line-height: var(--jp-code-line-height);\n",
       "\"><span style=\"color: var(--jp-warn-color2)\">ATMCS.logevent_target</span> <span style=\"color: var(--jp-warn-color0)\">WARNING</span>: evt_target python read queue is filling: 13 of 100 elements</pre>"
      ],
      "text/plain": [
       "<IPython.core.display.HTML object>"
      ]
     },
     "metadata": {},
     "output_type": "display_data"
    }
   ],
   "source": [
    "config_data = script.cmd_configure.DataType()\n",
    "config_data.config = configuration\n",
    "await script.do_configure(config_data)"
   ]
  },
  {
   "cell_type": "markdown",
   "id": "6cc86eb6-b295-4d0b-9890-02d476598b70",
   "metadata": {},
   "source": [
    "Set these script parameters to None to verify a re-reduction does not happen of the images."
   ]
  },
  {
   "cell_type": "code",
   "execution_count": 30,
   "id": "35f5434a-17c5-47d4-8fb2-b499692d9266",
   "metadata": {},
   "outputs": [],
   "source": [
    "script.intra_visit_id = None\n",
    "script.extra_visit_id = None\n",
    "script.short_timeout = 10"
   ]
  },
  {
   "cell_type": "markdown",
   "id": "571bb441-c40a-4251-8c46-46ad15e63d06",
   "metadata": {
    "tags": []
   },
   "source": [
    "### Set groupID and launch the script\n",
    "This sets the same group ID for all exposures taken in the script."
   ]
  },
  {
   "cell_type": "code",
   "execution_count": 31,
   "id": "08d6eb38-23a7-4968-926c-1d57707ba4a0",
   "metadata": {
    "tags": []
   },
   "outputs": [
    {
     "data": {
      "text/html": [
       "<pre style=\"margin: 0.1em;\n",
       "padding-left: 0.25em;\n",
       "border-left-style: solid;\n",
       "font-family: var(--jp-code-font-family);\n",
       "font-size: var(--jp-code-font-size);\n",
       "line-height: var(--jp-code-line-height);\n",
       "\"><span style=\"color: var(--jp-warn-color2)\">Script</span> <span style=\"color: var(--jp-success-color0)\">DEBUG</span>: CWFS iteration 1 starting...</pre>"
      ],
      "text/plain": [
       "<IPython.core.display.HTML object>"
      ]
     },
     "metadata": {},
     "output_type": "display_data"
    },
    {
     "data": {
      "text/html": [
       "<pre style=\"margin: 0.1em;\n",
       "padding-left: 0.25em;\n",
       "border-left-style: solid;\n",
       "font-family: var(--jp-code-font-family);\n",
       "font-size: var(--jp-code-font-size);\n",
       "line-height: var(--jp-code-line-height);\n",
       "\"><span style=\"color: var(--jp-warn-color2)\">Script</span> <span style=\"color: var(--jp-warn-color0)\">WARNING</span>: Intra/Extra images not taken. Running take image sequence.</pre>"
      ],
      "text/plain": [
       "<IPython.core.display.HTML object>"
      ]
     },
     "metadata": {},
     "output_type": "display_data"
    },
    {
     "data": {
      "text/html": [
       "<pre style=\"margin: 0.1em;\n",
       "padding-left: 0.25em;\n",
       "border-left-style: solid;\n",
       "font-family: var(--jp-code-font-family);\n",
       "font-size: var(--jp-code-font-size);\n",
       "line-height: var(--jp-code-line-height);\n",
       "\"><span style=\"color: var(--jp-warn-color2)\">Script</span> <span style=\"color: var(--jp-success-color0)\">DEBUG</span>: Moving to intra-focal position</pre>"
      ],
      "text/plain": [
       "<IPython.core.display.HTML object>"
      ]
     },
     "metadata": {},
     "output_type": "display_data"
    },
    {
     "ename": "AckError",
     "evalue": "msg='Command failed', ackcmd=(ackcmd private_seqNum=1070028783, ack=<SalRetCode.CMD_FAILED: -302>, error=1, result='Failed: Hexapod correction is not enabled. Offsets cannot be applied. See the enableCorrection to close the correction loop.')",
     "output_type": "error",
     "traceback": [
      "\u001b[0;31m---------------------------------------------------------------------------\u001b[0m",
      "\u001b[0;31mAckError\u001b[0m                                  Traceback (most recent call last)",
      "Input \u001b[0;32mIn [31]\u001b[0m, in \u001b[0;36m<cell line: 5>\u001b[0;34m()\u001b[0m\n\u001b[1;32m      1\u001b[0m group_id_data \u001b[38;5;241m=\u001b[39m script\u001b[38;5;241m.\u001b[39mcmd_setGroupId\u001b[38;5;241m.\u001b[39mDataType(\n\u001b[1;32m      2\u001b[0m     groupId\u001b[38;5;241m=\u001b[39mastropy\u001b[38;5;241m.\u001b[39mtime\u001b[38;5;241m.\u001b[39mTime\u001b[38;5;241m.\u001b[39mnow()\u001b[38;5;241m.\u001b[39misot)\n\u001b[1;32m      4\u001b[0m \u001b[38;5;28;01mawait\u001b[39;00m script\u001b[38;5;241m.\u001b[39mdo_setGroupId(group_id_data)\n\u001b[0;32m----> 5\u001b[0m \u001b[38;5;28;01mawait\u001b[39;00m script\u001b[38;5;241m.\u001b[39marun()\n",
      "File \u001b[0;32m~/auto-op-env-packages/ts_externalscripts/python/lsst/ts/externalscripts/auxtel/latiss_cwfs_align.py:903\u001b[0m, in \u001b[0;36mLatissCWFSAlign.arun\u001b[0;34m(self, checkpoint)\u001b[0m\n\u001b[1;32m    901\u001b[0m \u001b[38;5;28mself\u001b[39m\u001b[38;5;241m.\u001b[39mintra_visit_id \u001b[38;5;241m=\u001b[39m \u001b[38;5;28;01mNone\u001b[39;00m\n\u001b[1;32m    902\u001b[0m \u001b[38;5;28mself\u001b[39m\u001b[38;5;241m.\u001b[39mextra_visit_id \u001b[38;5;241m=\u001b[39m \u001b[38;5;28;01mNone\u001b[39;00m\n\u001b[0;32m--> 903\u001b[0m results \u001b[38;5;241m=\u001b[39m \u001b[38;5;28;01mawait\u001b[39;00m \u001b[38;5;28mself\u001b[39m\u001b[38;5;241m.\u001b[39mrun_cwfs()\n\u001b[1;32m    904\u001b[0m coma_x \u001b[38;5;241m=\u001b[39m results[\u001b[38;5;124m\"\u001b[39m\u001b[38;5;124mhex_offset\u001b[39m\u001b[38;5;124m\"\u001b[39m][\u001b[38;5;241m0\u001b[39m]\n\u001b[1;32m    905\u001b[0m coma_y \u001b[38;5;241m=\u001b[39m results[\u001b[38;5;124m\"\u001b[39m\u001b[38;5;124mhex_offset\u001b[39m\u001b[38;5;124m\"\u001b[39m][\u001b[38;5;241m1\u001b[39m]\n",
      "File \u001b[0;32m~/auto-op-env-packages/ts_externalscripts/python/lsst/ts/externalscripts/auxtel/latiss_cwfs_align.py:383\u001b[0m, in \u001b[0;36mLatissCWFSAlign.run_cwfs\u001b[0;34m(self)\u001b[0m\n\u001b[1;32m    379\u001b[0m \u001b[38;5;28;01mif\u001b[39;00m \u001b[38;5;28mself\u001b[39m\u001b[38;5;241m.\u001b[39mintra_visit_id \u001b[38;5;129;01mis\u001b[39;00m \u001b[38;5;28;01mNone\u001b[39;00m \u001b[38;5;129;01mor\u001b[39;00m \u001b[38;5;28mself\u001b[39m\u001b[38;5;241m.\u001b[39mextra_visit_id \u001b[38;5;129;01mis\u001b[39;00m \u001b[38;5;28;01mNone\u001b[39;00m:\n\u001b[1;32m    380\u001b[0m     \u001b[38;5;28mself\u001b[39m\u001b[38;5;241m.\u001b[39mlog\u001b[38;5;241m.\u001b[39mwarning(\n\u001b[1;32m    381\u001b[0m         \u001b[38;5;124m\"\u001b[39m\u001b[38;5;124mIntra/Extra images not taken. Running take image sequence.\u001b[39m\u001b[38;5;124m\"\u001b[39m\n\u001b[1;32m    382\u001b[0m     )\n\u001b[0;32m--> 383\u001b[0m     \u001b[38;5;28;01mawait\u001b[39;00m \u001b[38;5;28mself\u001b[39m\u001b[38;5;241m.\u001b[39mtake_intra_extra()\n\u001b[1;32m    384\u001b[0m \u001b[38;5;28;01melse\u001b[39;00m:\n\u001b[1;32m    385\u001b[0m     \u001b[38;5;28mself\u001b[39m\u001b[38;5;241m.\u001b[39mlog\u001b[38;5;241m.\u001b[39minfo(\n\u001b[1;32m    386\u001b[0m         \u001b[38;5;124mf\u001b[39m\u001b[38;5;124m\"\u001b[39m\u001b[38;5;124mRunning cwfs on \u001b[39m\u001b[38;5;132;01m{\u001b[39;00m\u001b[38;5;28mself\u001b[39m\u001b[38;5;241m.\u001b[39mintra_visit_id\u001b[38;5;132;01m}\u001b[39;00m\u001b[38;5;124m and \u001b[39m\u001b[38;5;132;01m{\u001b[39;00m\u001b[38;5;28mself\u001b[39m\u001b[38;5;241m.\u001b[39mextra_visit_id\u001b[38;5;132;01m}\u001b[39;00m\u001b[38;5;124m.\u001b[39m\u001b[38;5;124m\"\u001b[39m\n\u001b[1;32m    387\u001b[0m     )\n",
      "File \u001b[0;32m~/auto-op-env-packages/ts_externalscripts/python/lsst/ts/externalscripts/auxtel/latiss_cwfs_align.py:284\u001b[0m, in \u001b[0;36mLatissCWFSAlign.take_intra_extra\u001b[0;34m(self)\u001b[0m\n\u001b[1;32m    268\u001b[0m \u001b[38;5;124;03m\"\"\"Take pair of Intra/Extra focal images to be used to determine\u001b[39;00m\n\u001b[1;32m    269\u001b[0m \u001b[38;5;124;03mthe measured wavefront error. Because m2 is being moved, the intra\u001b[39;00m\n\u001b[1;32m    270\u001b[0m \u001b[38;5;124;03mfocal image occurs when the hexapod receives a positive offset and\u001b[39;00m\n\u001b[0;32m   (...)\u001b[0m\n\u001b[1;32m    279\u001b[0m \n\u001b[1;32m    280\u001b[0m \u001b[38;5;124;03m\"\"\"\u001b[39;00m\n\u001b[1;32m    282\u001b[0m \u001b[38;5;28mself\u001b[39m\u001b[38;5;241m.\u001b[39mlog\u001b[38;5;241m.\u001b[39mdebug(\u001b[38;5;124m\"\u001b[39m\u001b[38;5;124mMoving to intra-focal position\u001b[39m\u001b[38;5;124m\"\u001b[39m)\n\u001b[0;32m--> 284\u001b[0m \u001b[38;5;28;01mawait\u001b[39;00m \u001b[38;5;28mself\u001b[39m\u001b[38;5;241m.\u001b[39mhexapod_offset(\u001b[38;5;28mself\u001b[39m\u001b[38;5;241m.\u001b[39mdz)\n\u001b[1;32m    286\u001b[0m intra_image \u001b[38;5;241m=\u001b[39m \u001b[38;5;28;01mawait\u001b[39;00m \u001b[38;5;28mself\u001b[39m\u001b[38;5;241m.\u001b[39mlatiss\u001b[38;5;241m.\u001b[39mtake_cwfs(\n\u001b[1;32m    287\u001b[0m     exptime\u001b[38;5;241m=\u001b[39m\u001b[38;5;28mself\u001b[39m\u001b[38;5;241m.\u001b[39mexposure_time,\n\u001b[1;32m    288\u001b[0m     n\u001b[38;5;241m=\u001b[39m\u001b[38;5;241m1\u001b[39m,\n\u001b[0;32m   (...)\u001b[0m\n\u001b[1;32m    293\u001b[0m     program\u001b[38;5;241m=\u001b[39m\u001b[38;5;28mself\u001b[39m\u001b[38;5;241m.\u001b[39mprogram,\n\u001b[1;32m    294\u001b[0m )\n\u001b[1;32m    296\u001b[0m \u001b[38;5;28mself\u001b[39m\u001b[38;5;241m.\u001b[39mlog\u001b[38;5;241m.\u001b[39mdebug(\u001b[38;5;124m\"\u001b[39m\u001b[38;5;124mMoving to extra-focal position\u001b[39m\u001b[38;5;124m\"\u001b[39m)\n",
      "File \u001b[0;32m~/auto-op-env-packages/ts_externalscripts/python/lsst/ts/externalscripts/auxtel/latiss_cwfs_align.py:353\u001b[0m, in \u001b[0;36mLatissCWFSAlign.hexapod_offset\u001b[0;34m(self, offset, x, y)\u001b[0m\n\u001b[1;32m    342\u001b[0m offset \u001b[38;5;241m=\u001b[39m {\n\u001b[1;32m    343\u001b[0m     \u001b[38;5;124m\"\u001b[39m\u001b[38;5;124mm1\u001b[39m\u001b[38;5;124m\"\u001b[39m: \u001b[38;5;241m0.0\u001b[39m,\n\u001b[1;32m    344\u001b[0m     \u001b[38;5;124m\"\u001b[39m\u001b[38;5;124mm2\u001b[39m\u001b[38;5;124m\"\u001b[39m: \u001b[38;5;241m0.0\u001b[39m,\n\u001b[0;32m   (...)\u001b[0m\n\u001b[1;32m    349\u001b[0m     \u001b[38;5;124m\"\u001b[39m\u001b[38;5;124mv\u001b[39m\u001b[38;5;124m\"\u001b[39m: \u001b[38;5;241m0.0\u001b[39m,\n\u001b[1;32m    350\u001b[0m }\n\u001b[1;32m    352\u001b[0m \u001b[38;5;28mself\u001b[39m\u001b[38;5;241m.\u001b[39matcs\u001b[38;5;241m.\u001b[39mrem\u001b[38;5;241m.\u001b[39mathexapod\u001b[38;5;241m.\u001b[39mevt_positionUpdate\u001b[38;5;241m.\u001b[39mflush()\n\u001b[0;32m--> 353\u001b[0m \u001b[38;5;28;01mawait\u001b[39;00m \u001b[38;5;28mself\u001b[39m\u001b[38;5;241m.\u001b[39matcs\u001b[38;5;241m.\u001b[39mrem\u001b[38;5;241m.\u001b[39mataos\u001b[38;5;241m.\u001b[39mcmd_offset\u001b[38;5;241m.\u001b[39mset_start(\n\u001b[1;32m    354\u001b[0m     \u001b[38;5;241m*\u001b[39m\u001b[38;5;241m*\u001b[39moffset, timeout\u001b[38;5;241m=\u001b[39m\u001b[38;5;28mself\u001b[39m\u001b[38;5;241m.\u001b[39mlong_timeout\n\u001b[1;32m    355\u001b[0m )\n\u001b[1;32m    356\u001b[0m \u001b[38;5;28;01mawait\u001b[39;00m \u001b[38;5;28mself\u001b[39m\u001b[38;5;241m.\u001b[39matcs\u001b[38;5;241m.\u001b[39mrem\u001b[38;5;241m.\u001b[39mathexapod\u001b[38;5;241m.\u001b[39mevt_positionUpdate\u001b[38;5;241m.\u001b[39mnext(\n\u001b[1;32m    357\u001b[0m     flush\u001b[38;5;241m=\u001b[39m\u001b[38;5;28;01mFalse\u001b[39;00m, timeout\u001b[38;5;241m=\u001b[39m\u001b[38;5;28mself\u001b[39m\u001b[38;5;241m.\u001b[39mlong_timeout\n\u001b[1;32m    358\u001b[0m )\n",
      "File \u001b[0;32m/opt/lsst/software/stack/conda/miniconda3-py38_4.9.2/envs/lsst-scipipe-4.1.0/lib/python3.10/site-packages/lsst/ts/salobj/topics/remote_command.py:414\u001b[0m, in \u001b[0;36mRemoteCommand.set_start\u001b[0;34m(self, timeout, wait_done, **kwargs)\u001b[0m\n\u001b[1;32m    373\u001b[0m \u001b[38;5;124;03m\"\"\"Create a new ``self.data``, set zero or more fields,\u001b[39;00m\n\u001b[1;32m    374\u001b[0m \u001b[38;5;124;03mand start the command.\u001b[39;00m\n\u001b[1;32m    375\u001b[0m \n\u001b[0;32m   (...)\u001b[0m\n\u001b[1;32m    411\u001b[0m \u001b[38;5;124;03m    If ``data`` is not None and not an instance of `DataType`.\u001b[39;00m\n\u001b[1;32m    412\u001b[0m \u001b[38;5;124;03m\"\"\"\u001b[39;00m\n\u001b[1;32m    413\u001b[0m \u001b[38;5;28mself\u001b[39m\u001b[38;5;241m.\u001b[39mset(\u001b[38;5;241m*\u001b[39m\u001b[38;5;241m*\u001b[39mkwargs)\n\u001b[0;32m--> 414\u001b[0m \u001b[38;5;28;01mreturn\u001b[39;00m \u001b[38;5;28;01mawait\u001b[39;00m \u001b[38;5;28mself\u001b[39m\u001b[38;5;241m.\u001b[39mstart(timeout\u001b[38;5;241m=\u001b[39mtimeout, wait_done\u001b[38;5;241m=\u001b[39mwait_done)\n",
      "File \u001b[0;32m/opt/lsst/software/stack/conda/miniconda3-py38_4.9.2/envs/lsst-scipipe-4.1.0/lib/python3.10/site-packages/lsst/ts/salobj/topics/remote_command.py:485\u001b[0m, in \u001b[0;36mRemoteCommand.start\u001b[0;34m(self, data, timeout, wait_done)\u001b[0m\n\u001b[1;32m    482\u001b[0m \u001b[38;5;28;01mfinally\u001b[39;00m:\n\u001b[1;32m    483\u001b[0m     \u001b[38;5;28mself\u001b[39m\u001b[38;5;241m.\u001b[39m_in_start \u001b[38;5;241m=\u001b[39m \u001b[38;5;28;01mFalse\u001b[39;00m\n\u001b[0;32m--> 485\u001b[0m \u001b[38;5;28;01mreturn\u001b[39;00m \u001b[38;5;28;01mawait\u001b[39;00m cmd_info\u001b[38;5;241m.\u001b[39mnext_ackcmd(timeout\u001b[38;5;241m=\u001b[39mtimeout)\n",
      "File \u001b[0;32m/opt/lsst/software/stack/conda/miniconda3-py38_4.9.2/envs/lsst-scipipe-4.1.0/lib/python3.10/site-packages/lsst/ts/salobj/topics/remote_command.py:191\u001b[0m, in \u001b[0;36mCommandInfo.next_ackcmd\u001b[0;34m(self, timeout)\u001b[0m\n\u001b[1;32m    189\u001b[0m     ackcmd \u001b[38;5;241m=\u001b[39m \u001b[38;5;28;01mawait\u001b[39;00m \u001b[38;5;28mself\u001b[39m\u001b[38;5;241m.\u001b[39m_wait_task\n\u001b[1;32m    190\u001b[0m     \u001b[38;5;28;01mif\u001b[39;00m ackcmd\u001b[38;5;241m.\u001b[39mack \u001b[38;5;129;01min\u001b[39;00m \u001b[38;5;28mself\u001b[39m\u001b[38;5;241m.\u001b[39mfailed_ack_codes:\n\u001b[0;32m--> 191\u001b[0m         \u001b[38;5;28;01mraise\u001b[39;00m base\u001b[38;5;241m.\u001b[39mAckError(msg\u001b[38;5;241m=\u001b[39m\u001b[38;5;124m\"\u001b[39m\u001b[38;5;124mCommand failed\u001b[39m\u001b[38;5;124m\"\u001b[39m, ackcmd\u001b[38;5;241m=\u001b[39mackcmd)\n\u001b[1;32m    192\u001b[0m     \u001b[38;5;28;01mreturn\u001b[39;00m ackcmd\n\u001b[1;32m    193\u001b[0m \u001b[38;5;28;01mexcept\u001b[39;00m asyncio\u001b[38;5;241m.\u001b[39mTimeoutError:\n",
      "\u001b[0;31mAckError\u001b[0m: msg='Command failed', ackcmd=(ackcmd private_seqNum=1070028783, ack=<SalRetCode.CMD_FAILED: -302>, error=1, result='Failed: Hexapod correction is not enabled. Offsets cannot be applied. See the enableCorrection to close the correction loop.')"
     ]
    }
   ],
   "source": [
    "group_id_data = script.cmd_setGroupId.DataType(\n",
    "    groupId=astropy.time.Time.now().isot)\n",
    "\n",
    "await script.do_setGroupId(group_id_data)\n",
    "await script.arun()"
   ]
  },
  {
   "cell_type": "markdown",
   "id": "39ea8e11-e822-4e7c-8a07-aa85b61e1db5",
   "metadata": {},
   "source": [
    "-------\n",
    "## Slew to target object"
   ]
  },
  {
   "cell_type": "markdown",
   "id": "4bd20528-9121-4ff5-8c3f-2ada9925e0d8",
   "metadata": {},
   "source": [
    "### Confirm that the target is correct"
   ]
  },
  {
   "cell_type": "code",
   "execution_count": 32,
   "id": "5c0339ef-f4aa-401b-92a3-de25cac32353",
   "metadata": {},
   "outputs": [
    {
     "data": {
      "text/html": [
       "<pre style=\"margin: 0.1em;\n",
       "padding-left: 0.25em;\n",
       "border-left-style: solid;\n",
       "font-family: var(--jp-code-font-family);\n",
       "font-size: var(--jp-code-font-size);\n",
       "line-height: var(--jp-code-line-height);\n",
       "\"><span style=\"color: var(--jp-warn-color2)\">SITCOM-510</span> <span style=\"color: var(--jp-info-color0)\">INFO</span>: Target is LinTest0513</pre>"
      ],
      "text/plain": [
       "<IPython.core.display.HTML object>"
      ]
     },
     "metadata": {},
     "output_type": "display_data"
    }
   ],
   "source": [
    "logger.info(f'Target is {targets[month][\"target_name\"]}')"
   ]
  },
  {
   "cell_type": "markdown",
   "id": "e04587d0-28ef-4edb-9ec2-8a8e236c5b89",
   "metadata": {},
   "source": [
    "### Slew to the target object"
   ]
  },
  {
   "cell_type": "code",
   "execution_count": 36,
   "id": "20304593-1acb-4e9c-a72e-87db312a208a",
   "metadata": {},
   "outputs": [
    {
     "data": {
      "text/html": [
       "<pre style=\"margin: 0.1em;\n",
       "padding-left: 0.25em;\n",
       "border-left-style: solid;\n",
       "font-family: var(--jp-code-font-family);\n",
       "font-size: var(--jp-code-font-size);\n",
       "line-height: var(--jp-code-line-height);\n",
       "\"><span style=\"color: var(--jp-warn-color2)\">Script.ATCS</span> <span style=\"color: var(--jp-info-color0)\">INFO</span>: ATDome in position.</pre>"
      ],
      "text/plain": [
       "<IPython.core.display.HTML object>"
      ]
     },
     "metadata": {},
     "output_type": "display_data"
    },
    {
     "data": {
      "text/html": [
       "<pre style=\"margin: 0.1em;\n",
       "padding-left: 0.25em;\n",
       "border-left-style: solid;\n",
       "font-family: var(--jp-code-font-family);\n",
       "font-size: var(--jp-code-font-size);\n",
       "line-height: var(--jp-code-line-height);\n",
       "\"><span style=\"color: var(--jp-warn-color2)\">Script.ATCS</span> <span style=\"color: var(--jp-warn-color0)\">WARNING</span>: Dome following disabled and check dome enabled. Disabling dome check.</pre>"
      ],
      "text/plain": [
       "<IPython.core.display.HTML object>"
      ]
     },
     "metadata": {},
     "output_type": "display_data"
    },
    {
     "data": {
      "text/html": [
       "<pre style=\"margin: 0.1em;\n",
       "padding-left: 0.25em;\n",
       "border-left-style: solid;\n",
       "font-family: var(--jp-code-font-family);\n",
       "font-size: var(--jp-code-font-size);\n",
       "line-height: var(--jp-code-line-height);\n",
       "\"><span style=\"color: var(--jp-warn-color2)\">Script.ATCS</span> <span style=\"color: var(--jp-warn-color0)\">WARNING</span>: Monitor disabled. Enabling and starting monitoring loop.</pre>"
      ],
      "text/plain": [
       "<IPython.core.display.HTML object>"
      ]
     },
     "metadata": {},
     "output_type": "display_data"
    },
    {
     "data": {
      "text/html": [
       "<pre style=\"margin: 0.1em;\n",
       "padding-left: 0.25em;\n",
       "border-left-style: solid;\n",
       "font-family: var(--jp-code-font-family);\n",
       "font-size: var(--jp-code-font-size);\n",
       "line-height: var(--jp-code-line-height);\n",
       "\"><span style=\"color: var(--jp-warn-color2)\">Script.ATCS</span> <span style=\"color: var(--jp-info-color0)\">INFO</span>: [Telescope] delta Alt = +000.002 deg; delta Az= -000.011 deg; delta N1 = +000.000 deg; delta N2 = +000.015 deg </pre>"
      ],
      "text/plain": [
       "<IPython.core.display.HTML object>"
      ]
     },
     "metadata": {},
     "output_type": "display_data"
    },
    {
     "data": {
      "text/html": [
       "<pre style=\"margin: 0.1em;\n",
       "padding-left: 0.25em;\n",
       "border-left-style: solid;\n",
       "font-family: var(--jp-code-font-family);\n",
       "font-size: var(--jp-code-font-size);\n",
       "line-height: var(--jp-code-line-height);\n",
       "\"><span style=\"color: var(--jp-warn-color2)\">Script.ATCS</span> <span style=\"color: var(--jp-info-color0)\">INFO</span>: [Telescope] delta Alt = -000.000 deg; delta Az= +000.001 deg; delta N1 = +000.000 deg; delta N2 = -000.001 deg </pre>"
      ],
      "text/plain": [
       "<IPython.core.display.HTML object>"
      ]
     },
     "metadata": {},
     "output_type": "display_data"
    },
    {
     "data": {
      "text/html": [
       "<pre style=\"margin: 0.1em;\n",
       "padding-left: 0.25em;\n",
       "border-left-style: solid;\n",
       "font-family: var(--jp-code-font-family);\n",
       "font-size: var(--jp-code-font-size);\n",
       "line-height: var(--jp-code-line-height);\n",
       "\"><span style=\"color: var(--jp-warn-color2)\">Script.ATCS</span> <span style=\"color: var(--jp-info-color0)\">INFO</span>: [Telescope] delta Alt = -000.000 deg; delta Az= +000.001 deg; delta N1 = +000.000 deg; delta N2 = -000.001 deg </pre>"
      ],
      "text/plain": [
       "<IPython.core.display.HTML object>"
      ]
     },
     "metadata": {},
     "output_type": "display_data"
    },
    {
     "data": {
      "text/html": [
       "<pre style=\"margin: 0.1em;\n",
       "padding-left: 0.25em;\n",
       "border-left-style: solid;\n",
       "font-family: var(--jp-code-font-family);\n",
       "font-size: var(--jp-code-font-size);\n",
       "line-height: var(--jp-code-line-height);\n",
       "\"><span style=\"color: var(--jp-warn-color2)\">Script.ATCS</span> <span style=\"color: var(--jp-info-color0)\">INFO</span>: [Telescope] delta Alt = +000.002 deg; delta Az= -000.012 deg; delta N1 = +000.000 deg; delta N2 = +000.017 deg </pre>"
      ],
      "text/plain": [
       "<IPython.core.display.HTML object>"
      ]
     },
     "metadata": {},
     "output_type": "display_data"
    },
    {
     "data": {
      "text/html": [
       "<pre style=\"margin: 0.1em;\n",
       "padding-left: 0.25em;\n",
       "border-left-style: solid;\n",
       "font-family: var(--jp-code-font-family);\n",
       "font-size: var(--jp-code-font-size);\n",
       "line-height: var(--jp-code-line-height);\n",
       "\"><span style=\"color: var(--jp-warn-color2)\">Script.ATCS</span> <span style=\"color: var(--jp-warn-color0)\">WARNING</span>: Setting monitor flag to false.</pre>"
      ],
      "text/plain": [
       "<IPython.core.display.HTML object>"
      ]
     },
     "metadata": {},
     "output_type": "display_data"
    },
    {
     "data": {
      "text/plain": [
       "(<ICRS Coordinate: (ra, dec) in deg\n",
       "     (78.40216667, -40.04561111)>,\n",
       " <Angle 0. deg>)"
      ]
     },
     "execution_count": 36,
     "metadata": {},
     "output_type": "execute_result"
    }
   ],
   "source": [
    "await script.atcs.slew_icrs(ra = targets[month]['target_ra'], dec = targets[month]['target_dec'], rot_type = RotType.PhysicalSky)"
   ]
  },
  {
   "cell_type": "markdown",
   "id": "fabc2846-ed33-4688-9c9e-3605b84975ac",
   "metadata": {},
   "source": [
    "To offset the telescope and move the source (if required) uncomment the following line. <br>\n",
    "Offsets are in detector X/Y coordinates and in arcseconds. "
   ]
  },
  {
   "cell_type": "code",
   "execution_count": null,
   "id": "f5ca3233-2980-4df3-8acb-39f9f5ff1d8f",
   "metadata": {},
   "outputs": [],
   "source": [
    "#await script.atcs.offset_xy(x=20, y=20)"
   ]
  },
  {
   "cell_type": "markdown",
   "id": "66b33b8d-9b73-4b15-af05-8103675f947f",
   "metadata": {
    "tags": []
   },
   "source": [
    "----\n",
    "## Data Acquisition Sequence: Once sky brightness level reaches 1000 ADU above bias level in a red band (SDSSr) in a 10 second exposure, begin the following sequence, to be looped until sky reaches saturation in a 5 second image:  "
   ]
  },
  {
   "cell_type": "markdown",
   "id": "3fd588c7-5c74-412b-95dc-38699dc2f5f2",
   "metadata": {},
   "source": [
    "###  Check signal level: \n",
    "Take a 10-s image to check that the sky brightness is around 1000 ADU above bias level, that is around 13000 ADUs. \n",
    "To check signal levels, use the new CCS feature http://ccs.lsst.org/RecentImages/auxtel.html. As you hover over the Simple Overscan Correction` image, readings in true counts will displayed on the bottom right. "
   ]
  },
  {
   "cell_type": "code",
   "execution_count": null,
   "id": "a9e37e72-8b98-480e-b238-fbabe9cc2835",
   "metadata": {},
   "outputs": [],
   "source": [
    "sky_brightness_test = await latiss.take_engtest(\n",
    "        exptime=10, n=1, filter=filter_to_use, grating='empty_1', reason='Sky_Brightness_Level_Test', program = \"SITCOM-510\")\n",
    "logger.info(f'Sky Brightness test exposure is {sky_brightness_test}')"
   ]
  },
  {
   "cell_type": "markdown",
   "id": "112818be-fce7-4df9-b69d-d762fcd6e5a6",
   "metadata": {
    "tags": []
   },
   "source": [
    "### Data Acquisition Loop\n",
    "This will run for 10 iterations. In case saturation is detected in the 5sec image, you may stop the execution manually. Otherwise, repeat the loop until saturation is seen. "
   ]
  },
  {
   "cell_type": "code",
   "execution_count": null,
   "id": "36e7ca6d-d6d8-4e0d-bc19-427b458ce20a",
   "metadata": {
    "tags": []
   },
   "outputs": [],
   "source": [
    "i=1\n",
    "while i<11:\n",
    "    logger.info(f'Loop cycle number {i}')\n",
    "    \n",
    "    darks_5sec = await latiss.take_darks(\n",
    "        exptime=5, ndarks=3, reason='5sec_Darks_for_Linearity_using_sky_background', program =\"SITCOM-510\")\n",
    "    logger.info(f'5sec darks in loop {i} are {darks_5sec}')\n",
    "    \n",
    "    exp_5sec = await latiss.take_engtest(\n",
    "        exptime=5, n=3, filter=filter_to_use, grating='empty_1', reason='5sec_Images_for_Linearity_using_sky_background', program =\"SITCOM-510\")\n",
    "    logger.info(f'5sec images in loop {i} are {exp_5sec}')\n",
    "    \n",
    "    exp_10sec = await latiss.take_engtest(\n",
    "        exptime=5, n=3, filter=filter_to_use, grating='empty_1', reason='10sec_Images_for_Linearity_using_sky_background', program =\"SITCOM-510\")\n",
    "    logger.info(f'10sec images in loop {i} are {exp_10sec}')\n",
    "    \n",
    "    exp_30sec = await latiss.take_engtest(\n",
    "        exptime=30, n=3, filter=filter_to_use, grating='empty_1', reason='30sec_Images_for_Linearity_using_sky_background', program =\"SITCOM-510\")\n",
    "    logger.info(f'30sec images in loop {i} are {exp_30sec}')\n",
    "    \n",
    "    i +=1 "
   ]
  },
  {
   "cell_type": "markdown",
   "id": "476403ae-b02a-4891-894a-4aa5c7afd73a",
   "metadata": {},
   "source": [
    "### Write end info into EFD"
   ]
  },
  {
   "cell_type": "code",
   "execution_count": null,
   "id": "2f6d9f5f-0fa1-4993-8925-e0de3d270770",
   "metadata": {},
   "outputs": [],
   "source": [
    "script.log.info(f'END- SITCOM-510 Linearity test using sky background -- at {Time.now()}')"
   ]
  }
 ],
 "metadata": {
  "kernelspec": {
   "display_name": "LSST",
   "language": "python",
   "name": "lsst"
  },
  "language_info": {
   "codemirror_mode": {
    "name": "ipython",
    "version": 3
   },
   "file_extension": ".py",
   "mimetype": "text/x-python",
   "name": "python",
   "nbconvert_exporter": "python",
   "pygments_lexer": "ipython3",
   "version": "3.10.5"
  },
  "toc-autonumbering": true,
  "toc-showmarkdowntxt": false
 },
 "nbformat": 4,
 "nbformat_minor": 5
}
