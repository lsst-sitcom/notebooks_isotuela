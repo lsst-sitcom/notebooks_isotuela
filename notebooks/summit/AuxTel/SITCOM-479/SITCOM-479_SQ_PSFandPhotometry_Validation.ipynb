{
 "cells": [
  {
   "cell_type": "markdown",
   "id": "398e92f1-51b2-4db3-a116-19cad9778a16",
   "metadata": {
    "tags": []
   },
   "source": [
    "# SITCOM-379: PSF & Photometry Validation \n",
    "\n",
    "This notebook contains the execution of the PSF & Photometry Validation SITCOM-479 test described in https://jira.lsstcorp.org/browse/SITCOM-479, expected to run during the 2022-09B AuxTel Observing Run. \n",
    "                \n",
    "The execution is performed by sending the scripts that perform the necessary operation to the AT ScriptQueue. \n",
    "\n",
    "This notebook is organized as follows, each section including a configuration, configuration validation and send to script queue command.\n",
    "    \n",
    "    1.1. Setup\n",
    "    1.2. Find and Track Target\n",
    "    1.3. Take Acquisition Image - Check counts\n",
    "    1.4  Two iterations of the following sequence:\n",
    "        1.4.1  CWFS\n",
    "        1.4.2 Take Image Sequence 1 (25 x 2s)\n",
    "        1.4.3 Take Image Sequence 2 (25 x 10s)\n",
    "        1.4.4 Take Image Sequence 3 (10 x 25s)\n",
    "        1.4.5 Take Image Sequence 4 (5 x 50s)\n",
    "        1.4.6 Take Image Sequence 5 (3 x 100s)\n",
    "        1.4.7 Take Image Sequence 6 (25 x 2s)"
   ]
  },
  {
   "cell_type": "markdown",
   "id": "d6a4c950-a892-4915-91a4-b46a5de181d5",
   "metadata": {},
   "source": [
    "---\n",
    "## Setup"
   ]
  },
  {
   "cell_type": "code",
   "execution_count": 1,
   "id": "629be495-4933-4e1b-875e-952ec37bb4ef",
   "metadata": {},
   "outputs": [
    {
     "data": {
      "text/html": [
       "<pre style=\"margin: 0.1em;\n",
       "padding-left: 0.25em;\n",
       "border-left-style: solid;\n",
       "font-family: var(--jp-code-font-family);\n",
       "font-size: var(--jp-code-font-size);\n",
       "line-height: var(--jp-code-line-height);\n",
       "\"><span style=\"color: var(--jp-warn-color2)\">lsst.ts.utils.tai</span> <span style=\"color: var(--jp-info-color0)\">INFO</span>: Update leap second table</pre>"
      ],
      "text/plain": [
       "<IPython.core.display.HTML object>"
      ]
     },
     "metadata": {},
     "output_type": "display_data"
    },
    {
     "data": {
      "text/html": [
       "<pre style=\"margin: 0.1em;\n",
       "padding-left: 0.25em;\n",
       "border-left-style: solid;\n",
       "font-family: var(--jp-code-font-family);\n",
       "font-size: var(--jp-code-font-size);\n",
       "line-height: var(--jp-code-line-height);\n",
       "\"><span style=\"color: var(--jp-warn-color2)\">lsst.ts.utils.tai</span> <span style=\"color: var(--jp-info-color0)\">INFO</span>: current_tai uses the system TAI clock</pre>"
      ],
      "text/plain": [
       "<IPython.core.display.HTML object>"
      ]
     },
     "metadata": {},
     "output_type": "display_data"
    }
   ],
   "source": [
    "import yaml\n",
    "import logging\n",
    "import jsonschema\n",
    "\n",
    "from lsst.ts import salobj\n",
    "from lsst.ts.observatory.control.auxtel import ATQueue"
   ]
  },
  {
   "cell_type": "code",
   "execution_count": 2,
   "id": "6914edc9-91e0-403a-8b5e-affccdd59a61",
   "metadata": {},
   "outputs": [],
   "source": [
    "domain = salobj.Domain()"
   ]
  },
  {
   "cell_type": "code",
   "execution_count": 3,
   "id": "8744dd35-e908-40f8-86f7-c27d1226068b",
   "metadata": {},
   "outputs": [
    {
     "data": {
      "text/html": [
       "<pre style=\"margin: 0.1em;\n",
       "padding-left: 0.25em;\n",
       "border-left-style: solid;\n",
       "font-family: var(--jp-code-font-family);\n",
       "font-size: var(--jp-code-font-size);\n",
       "line-height: var(--jp-code-line-height);\n",
       "\"><span style=\"color: var(--jp-warn-color2)\">ScriptQueue</span> <span style=\"color: var(--jp-info-color0)\">INFO</span>: Disabling authlist-based command authorization</pre>"
      ],
      "text/plain": [
       "<IPython.core.display.HTML object>"
      ]
     },
     "metadata": {},
     "output_type": "display_data"
    },
    {
     "data": {
      "text/html": [
       "<pre style=\"margin: 0.1em;\n",
       "padding-left: 0.25em;\n",
       "border-left-style: solid;\n",
       "font-family: var(--jp-code-font-family);\n",
       "font-size: var(--jp-code-font-size);\n",
       "line-height: var(--jp-code-line-height);\n",
       "\"><span style=\"color: var(--jp-warn-color2)\">ScriptQueue</span> <span style=\"color: var(--jp-info-color0)\">INFO</span>: Read historical data in 0.00 sec</pre>"
      ],
      "text/plain": [
       "<IPython.core.display.HTML object>"
      ]
     },
     "metadata": {},
     "output_type": "display_data"
    }
   ],
   "source": [
    "queue = ATQueue(domain)"
   ]
  },
  {
   "cell_type": "code",
   "execution_count": 4,
   "id": "71f14a88-4e27-4fc6-a049-9e59762d320b",
   "metadata": {},
   "outputs": [],
   "source": [
    "script_description=\"Executing SITCOM-479 PSF & Photometry Validation\""
   ]
  },
  {
   "cell_type": "markdown",
   "id": "1cd132ff-d2da-4881-81fa-e1ce276413e9",
   "metadata": {},
   "source": [
    "------"
   ]
  },
  {
   "cell_type": "markdown",
   "id": "97222b2e-c423-4729-94a6-c340885f4bf2",
   "metadata": {},
   "source": [
    "Choose the target with the following criteria:\n",
    "\n",
    "        Select a target object with -35 < dec < -25 and hour angle 0:10:00 < HA < 0:20:00 (in other words an RA slightly less than LST so that it's just past the zenith and is setting) and mag 8.5 < Vmag < 9.5 for the SDSS_r filter. \n",
    "  \n",
    "The easiest way to find an appropriate target would be to submit a `Criteria Query` in CDS SIMBAD https://simbad.u-strasbg.fr/simbad/sim-fsam, similar to the following but changing LST:\n",
    "\n",
    "                    Vmag > 8.5 & Vmag < 9.5\n",
    "                    & dec > -35 & dec < -25\n",
    "                    & ra > LST - 20min & ra < `LST - 10min`\n",
    "\n",
    "Edit the cell below with your chosen target."
   ]
  },
  {
   "cell_type": "markdown",
   "id": "6ca0638c-f5aa-4d16-b693-a1b6c3c3b996",
   "metadata": {},
   "source": [
    "---\n",
    "## Track target"
   ]
  },
  {
   "cell_type": "code",
   "execution_count": 176,
   "id": "86336b4e-9fb3-4806-ac66-5b92b466eb2e",
   "metadata": {},
   "outputs": [],
   "source": [
    "target = 'HD  34125'"
   ]
  },
  {
   "cell_type": "markdown",
   "id": "a6330e45-1f3d-49fc-926e-edab9a10a711",
   "metadata": {},
   "source": [
    "### Configuration"
   ]
  },
  {
   "cell_type": "code",
   "execution_count": 177,
   "id": "0b143714-98ba-4a06-8c42-1607c34328f9",
   "metadata": {},
   "outputs": [],
   "source": [
    "track_target_is_standard = True\n",
    "track_target_script_path = \"auxtel/track_target.py\"\n",
    "track_target_script_config = dict(\n",
    "    target_name = target\n",
    "    )\n"
   ]
  },
  {
   "cell_type": "markdown",
   "id": "1e4c4e29-1545-4434-aa16-d8b8f80d067d",
   "metadata": {},
   "source": [
    "### Configuration Validation"
   ]
  },
  {
   "cell_type": "code",
   "execution_count": 178,
   "id": "72bcdf60-d2fb-4b52-9edc-79d00c43d431",
   "metadata": {},
   "outputs": [],
   "source": [
    "is_standard = track_target_is_standard\n",
    "script_path = track_target_script_path\n",
    "script_config = track_target_script_config"
   ]
  },
  {
   "cell_type": "code",
   "execution_count": 179,
   "id": "0a956af2-bcd2-4c55-9c14-8baa0ed6f21a",
   "metadata": {},
   "outputs": [
    {
     "data": {
      "text/html": [
       "<pre style=\"margin: 0.1em;\n",
       "padding-left: 0.25em;\n",
       "border-left-style: solid;\n",
       "font-family: var(--jp-code-font-family);\n",
       "font-size: var(--jp-code-font-size);\n",
       "line-height: var(--jp-code-line-height);\n",
       "\"><span style=\"color: var(--jp-warn-color2)\">ATQueue</span> <span style=\"color: var(--jp-info-color0)\">INFO</span>: Configuration OK!</pre>"
      ],
      "text/plain": [
       "<IPython.core.display.HTML object>"
      ]
     },
     "metadata": {},
     "output_type": "display_data"
    }
   ],
   "source": [
    "await queue.validate_config(is_standard = is_standard,\n",
    "                      script = script_path,\n",
    "                      config = script_config)"
   ]
  },
  {
   "cell_type": "markdown",
   "id": "b15104c5-d9da-4342-a36e-c9328362aa54",
   "metadata": {},
   "source": [
    "### Add Script to AT SQ"
   ]
  },
  {
   "cell_type": "code",
   "execution_count": 180,
   "id": "f5380328-2c81-425e-9ecc-7d86f613f3bc",
   "metadata": {},
   "outputs": [],
   "source": [
    "await queue.add(is_standard, script_path, script_config)"
   ]
  },
  {
   "cell_type": "markdown",
   "id": "bc0a79a2-3fd9-4681-9d7b-6fbe3f9ffc70",
   "metadata": {},
   "source": [
    "-----"
   ]
  },
  {
   "cell_type": "markdown",
   "id": "22aef173-a355-4347-b191-83cece702e21",
   "metadata": {},
   "source": [
    "We want a target star that saturates in 30 sec, which implies a peak pixel of ~3300 ADU per second above the bias.\n",
    "Take a snap and verify the count rate."
   ]
  },
  {
   "cell_type": "markdown",
   "id": "b9b42ec0-af08-46ca-827c-1aaf70082aa4",
   "metadata": {
    "tags": []
   },
   "source": [
    "---\n",
    "## Take Acq Image"
   ]
  },
  {
   "cell_type": "markdown",
   "id": "3c08ed11-45ae-441b-b008-46fc7d7486f1",
   "metadata": {},
   "source": [
    "### Configuration"
   ]
  },
  {
   "cell_type": "code",
   "execution_count": 36,
   "id": "6b798854-1a16-4bd4-8c79-59fc6961ac30",
   "metadata": {},
   "outputs": [],
   "source": [
    "# Take acq image\n",
    "take_testimage_is_standard = True\n",
    "take_testimage_script_path = \"auxtel/take_image_latiss.py\"\n",
    "take_testimage_script_config = dict(\n",
    "    nimages=1,\n",
    "    exp_times=30,\n",
    "    filter=\"SDSSr\",\n",
    "    grating = \"empty_1\",\n",
    "    image_type=\"ACQ\",\n",
    "    program=\"SITCOM-479\",\n",
    "    reason=\"PSF+Photometry_Validation\"\n",
    ")"
   ]
  },
  {
   "cell_type": "markdown",
   "id": "88f55e08-b12f-4cce-a4ce-4b2cd7dfc214",
   "metadata": {},
   "source": [
    "### Configuration Validation"
   ]
  },
  {
   "cell_type": "code",
   "execution_count": 40,
   "id": "6740256d-710f-4e12-a236-6141f461d1ee",
   "metadata": {},
   "outputs": [],
   "source": [
    "is_standard = take_testimage_is_standard\n",
    "script_path = take_testimage_script_path\n",
    "script_config = take_testimage_script_config"
   ]
  },
  {
   "cell_type": "code",
   "execution_count": 41,
   "id": "0f5b4cd1-d963-4c75-87b3-990acd8d4b19",
   "metadata": {},
   "outputs": [
    {
     "data": {
      "text/html": [
       "<pre style=\"margin: 0.1em;\n",
       "padding-left: 0.25em;\n",
       "border-left-style: solid;\n",
       "font-family: var(--jp-code-font-family);\n",
       "font-size: var(--jp-code-font-size);\n",
       "line-height: var(--jp-code-line-height);\n",
       "\"><span style=\"color: var(--jp-warn-color2)\">ATQueue</span> <span style=\"color: var(--jp-info-color0)\">INFO</span>: Configuration OK!</pre>"
      ],
      "text/plain": [
       "<IPython.core.display.HTML object>"
      ]
     },
     "metadata": {},
     "output_type": "display_data"
    }
   ],
   "source": [
    "await queue.validate_config(is_standard = is_standard,\n",
    "                      script = script_path,\n",
    "                      config = script_config)"
   ]
  },
  {
   "cell_type": "markdown",
   "id": "b6cfe74f-8ddd-4993-a480-bac6268c16dc",
   "metadata": {
    "tags": []
   },
   "source": [
    "### Add Script to AT SQ"
   ]
  },
  {
   "cell_type": "code",
   "execution_count": 42,
   "id": "3c532038-fa01-4056-bb6a-ea6557c9b11b",
   "metadata": {},
   "outputs": [],
   "source": [
    "await queue.add(is_standard, script_path, script_config)"
   ]
  },
  {
   "cell_type": "markdown",
   "id": "e8d76f80-ced1-4529-9b21-321eb8d9fd2f",
   "metadata": {},
   "source": [
    "---"
   ]
  },
  {
   "cell_type": "markdown",
   "id": "2ad1b8ce-e187-441a-8c32-5d4d86b3ed9b",
   "metadata": {},
   "source": [
    "Pause here to verify the target saturates as expected at the 30 second exposure.\n",
    "Otherwise, find a different target, that is, re-run `Track Target` and `Take Acq Image` script sections. "
   ]
  },
  {
   "cell_type": "markdown",
   "id": "bf0eb24b-e7d7-4568-bb2c-997fa15b84b2",
   "metadata": {},
   "source": [
    "---\n",
    "## Two iterations of the follwoing data sequence"
   ]
  },
  {
   "cell_type": "markdown",
   "id": "2b90f0c2-4e3b-4114-96fe-bdaa7f4a4999",
   "metadata": {},
   "source": [
    "### CWFS "
   ]
  },
  {
   "cell_type": "markdown",
   "id": "eaad2364-c035-4b4e-af28-c3566c119845",
   "metadata": {},
   "source": [
    "#### Configuration"
   ]
  },
  {
   "cell_type": "code",
   "execution_count": 75,
   "id": "7d2754c6-ddb3-48d4-8828-00695834b1d0",
   "metadata": {},
   "outputs": [],
   "source": [
    "# CWFS to be performed in near target object.\n",
    "take_cwfs_is_standard = False\n",
    "take_cwfs_script_path = \"auxtel/latiss_cwfs_align.py\"\n",
    "take_cwfs_script_config = dict(\n",
    ")"
   ]
  },
  {
   "cell_type": "markdown",
   "id": "0effd8b6-0cff-4be3-9e2b-567a37944c98",
   "metadata": {},
   "source": [
    "#### Configuration Validation"
   ]
  },
  {
   "cell_type": "code",
   "execution_count": 76,
   "id": "656deb34-534d-43af-9451-caa8b071a9e6",
   "metadata": {},
   "outputs": [],
   "source": [
    "is_standard = take_cwfs_is_standard\n",
    "script_path = take_cwfs_script_path\n",
    "script_config = take_cwfs_script_config"
   ]
  },
  {
   "cell_type": "code",
   "execution_count": 77,
   "id": "e33b0a04-bac0-4d57-b5c0-19e6ad51124c",
   "metadata": {},
   "outputs": [
    {
     "data": {
      "text/html": [
       "<pre style=\"margin: 0.1em;\n",
       "padding-left: 0.25em;\n",
       "border-left-style: solid;\n",
       "font-family: var(--jp-code-font-family);\n",
       "font-size: var(--jp-code-font-size);\n",
       "line-height: var(--jp-code-line-height);\n",
       "\"><span style=\"color: var(--jp-warn-color2)\">ATQueue</span> <span style=\"color: var(--jp-info-color0)\">INFO</span>: Configuration OK!</pre>"
      ],
      "text/plain": [
       "<IPython.core.display.HTML object>"
      ]
     },
     "metadata": {},
     "output_type": "display_data"
    }
   ],
   "source": [
    "await queue.validate_config(is_standard = is_standard,\n",
    "                      script = script_path,\n",
    "                      config = script_config)"
   ]
  },
  {
   "cell_type": "markdown",
   "id": "ccb51e78-cef3-4f06-bf68-75b2e3d1b0a8",
   "metadata": {},
   "source": [
    "#### Add Script to AT SQ"
   ]
  },
  {
   "cell_type": "code",
   "execution_count": 78,
   "id": "d29499e0-f1dd-48b2-b2d0-b8159e73c845",
   "metadata": {},
   "outputs": [],
   "source": [
    "await queue.add(is_standard, script_path, script_config)"
   ]
  },
  {
   "cell_type": "markdown",
   "id": "f571a670-82f3-46c8-bd92-460e69a90e2c",
   "metadata": {},
   "source": [
    "---\n",
    "### Take Sequence 1 (25 x 2s)"
   ]
  },
  {
   "cell_type": "markdown",
   "id": "f51d3ef1-4a23-434c-8496-7219766dc8a4",
   "metadata": {},
   "source": [
    "#### Configuration"
   ]
  },
  {
   "cell_type": "code",
   "execution_count": 83,
   "id": "0512bb5d-36f2-4a13-8dd4-29ee7bd7d0da",
   "metadata": {},
   "outputs": [],
   "source": [
    "take_sequence1_is_standard = True\n",
    "take_sequence1_script_path = \"auxtel/take_image_latiss.py\"\n",
    "take_sequence1_script_config = dict(\n",
    "    nimages=25,\n",
    "    exp_times=2,\n",
    "    filter=\"SDSSr\",\n",
    "    grating = \"empty_1\",\n",
    "    image_type=\"OBJECT\",\n",
    "    program=\"SITCOM-479\",\n",
    "    reason=\"PSF+Photometry_Validation\"\n",
    ")"
   ]
  },
  {
   "cell_type": "markdown",
   "id": "66010a4c-07d8-46bb-aad0-531f48cf5e32",
   "metadata": {},
   "source": [
    "#### Configuration Validation"
   ]
  },
  {
   "cell_type": "code",
   "execution_count": 84,
   "id": "7949976b-0402-4b44-aa44-8a8f18d92cb9",
   "metadata": {},
   "outputs": [],
   "source": [
    "is_standard = take_sequence1_is_standard\n",
    "script_path = take_sequence1_script_path\n",
    "script_config = take_sequence1_script_config"
   ]
  },
  {
   "cell_type": "code",
   "execution_count": 85,
   "id": "1871e3bd-92d6-447e-8c80-822cb91648b4",
   "metadata": {},
   "outputs": [
    {
     "data": {
      "text/html": [
       "<pre style=\"margin: 0.1em;\n",
       "padding-left: 0.25em;\n",
       "border-left-style: solid;\n",
       "font-family: var(--jp-code-font-family);\n",
       "font-size: var(--jp-code-font-size);\n",
       "line-height: var(--jp-code-line-height);\n",
       "\"><span style=\"color: var(--jp-warn-color2)\">ATQueue</span> <span style=\"color: var(--jp-info-color0)\">INFO</span>: Configuration OK!</pre>"
      ],
      "text/plain": [
       "<IPython.core.display.HTML object>"
      ]
     },
     "metadata": {},
     "output_type": "display_data"
    }
   ],
   "source": [
    "await queue.validate_config(is_standard = is_standard,\n",
    "                      script = script_path,\n",
    "                      config = script_config)"
   ]
  },
  {
   "cell_type": "markdown",
   "id": "6d4d4619-634c-4ba2-a9ed-413d5d8c714c",
   "metadata": {},
   "source": [
    "#### Add Script to AT SQ"
   ]
  },
  {
   "cell_type": "code",
   "execution_count": 86,
   "id": "54fc9047-7655-4702-91a0-6995365b5d27",
   "metadata": {},
   "outputs": [],
   "source": [
    "await queue.add(is_standard, script_path, script_config)"
   ]
  },
  {
   "cell_type": "markdown",
   "id": "3da71491-e456-40ff-bbf4-0dc2bc84c20f",
   "metadata": {},
   "source": [
    "---\n",
    "### Take Sequence 2 (25 x 10s)"
   ]
  },
  {
   "cell_type": "markdown",
   "id": "99a6cead-90a7-4e68-9f72-fa8b7ec58aa4",
   "metadata": {},
   "source": [
    "#### Configuration"
   ]
  },
  {
   "cell_type": "code",
   "execution_count": 87,
   "id": "d7ac2294-8c6d-4ae0-a6fc-982dd83e1af8",
   "metadata": {},
   "outputs": [],
   "source": [
    "take_sequence2_is_standard = True\n",
    "take_sequence2_script_path = \"auxtel/take_image_latiss.py\"\n",
    "take_sequence2_script_config = dict(\n",
    "    nimages=25,\n",
    "    exp_times=10,\n",
    "    filter=\"SDSSr\",\n",
    "    grating = \"empty_1\",\n",
    "    image_type=\"OBJECT\",\n",
    "    program=\"SITCOM-479\",\n",
    "    reason=\"PSF+Photometry_Validation\"\n",
    ")"
   ]
  },
  {
   "cell_type": "markdown",
   "id": "543f2d4c-3fbe-405d-acf4-b4e9ba33caf8",
   "metadata": {},
   "source": [
    "#### Configuration Validation"
   ]
  },
  {
   "cell_type": "code",
   "execution_count": 88,
   "id": "736b4297-9b43-464e-8eac-211b377e6c05",
   "metadata": {},
   "outputs": [],
   "source": [
    "is_standard = take_sequence2_is_standard\n",
    "script_path = take_sequence2_script_path\n",
    "script_config = take_sequence2_script_config"
   ]
  },
  {
   "cell_type": "code",
   "execution_count": 89,
   "id": "5169fb6f-228d-4285-977a-155c2dbc5733",
   "metadata": {},
   "outputs": [
    {
     "data": {
      "text/html": [
       "<pre style=\"margin: 0.1em;\n",
       "padding-left: 0.25em;\n",
       "border-left-style: solid;\n",
       "font-family: var(--jp-code-font-family);\n",
       "font-size: var(--jp-code-font-size);\n",
       "line-height: var(--jp-code-line-height);\n",
       "\"><span style=\"color: var(--jp-warn-color2)\">ATQueue</span> <span style=\"color: var(--jp-info-color0)\">INFO</span>: Configuration OK!</pre>"
      ],
      "text/plain": [
       "<IPython.core.display.HTML object>"
      ]
     },
     "metadata": {},
     "output_type": "display_data"
    }
   ],
   "source": [
    "await queue.validate_config(is_standard = is_standard,\n",
    "                      script = script_path,\n",
    "                      config = script_config)"
   ]
  },
  {
   "cell_type": "markdown",
   "id": "7698ade7-a9a9-4f36-84be-0375eeffcba3",
   "metadata": {},
   "source": [
    "#### Add Script to AT SQ"
   ]
  },
  {
   "cell_type": "code",
   "execution_count": 90,
   "id": "171f2e2e-8a14-4e0d-b297-49e1d45fa797",
   "metadata": {},
   "outputs": [],
   "source": [
    "await queue.add(is_standard, script_path, script_config)"
   ]
  },
  {
   "cell_type": "markdown",
   "id": "9cac4907-48a7-4809-8b49-9a5b833872e6",
   "metadata": {},
   "source": [
    "---\n",
    "### Take Sequence 3 (10 x 25s)"
   ]
  },
  {
   "cell_type": "markdown",
   "id": "d2b03667-146f-4bf4-b0c3-6499f399cda8",
   "metadata": {},
   "source": [
    "#### Configuration"
   ]
  },
  {
   "cell_type": "code",
   "execution_count": 91,
   "id": "22edbe61-dfb6-410a-a0e1-63c51a182160",
   "metadata": {},
   "outputs": [],
   "source": [
    "# Take sequence \n",
    "take_sequence3_is_standard = True\n",
    "take_sequence3_script_path = \"auxtel/take_image_latiss.py\"\n",
    "take_sequence3_script_config = dict(\n",
    "    nimages=10,\n",
    "    exp_times=25,\n",
    "    filter=\"SDSSr\",\n",
    "    grating = \"empty_1\",\n",
    "    image_type=\"OBJECT\",\n",
    "    program=\"SITCOM-479\",\n",
    "    reason=\"PSF+Photometry_Validation\"\n",
    ")"
   ]
  },
  {
   "cell_type": "markdown",
   "id": "a26e922b-1641-4fe5-af56-1256ddd7ff81",
   "metadata": {},
   "source": [
    "#### Configuration Validation"
   ]
  },
  {
   "cell_type": "code",
   "execution_count": 92,
   "id": "96632b07-5a6a-45af-9c51-74ff9d656635",
   "metadata": {},
   "outputs": [],
   "source": [
    "is_standard = take_sequence3_is_standard\n",
    "script_path = take_sequence3_script_path\n",
    "script_config = take_sequence3_script_config"
   ]
  },
  {
   "cell_type": "code",
   "execution_count": 93,
   "id": "d2205159-c88c-4a9d-beec-dbb76e89482f",
   "metadata": {},
   "outputs": [
    {
     "data": {
      "text/html": [
       "<pre style=\"margin: 0.1em;\n",
       "padding-left: 0.25em;\n",
       "border-left-style: solid;\n",
       "font-family: var(--jp-code-font-family);\n",
       "font-size: var(--jp-code-font-size);\n",
       "line-height: var(--jp-code-line-height);\n",
       "\"><span style=\"color: var(--jp-warn-color2)\">ATQueue</span> <span style=\"color: var(--jp-info-color0)\">INFO</span>: Configuration OK!</pre>"
      ],
      "text/plain": [
       "<IPython.core.display.HTML object>"
      ]
     },
     "metadata": {},
     "output_type": "display_data"
    }
   ],
   "source": [
    "await queue.validate_config(is_standard = is_standard,\n",
    "                      script = script_path,\n",
    "                      config = script_config)"
   ]
  },
  {
   "cell_type": "markdown",
   "id": "ccb46ad2-1bc3-4a93-8726-4f45bc440aa1",
   "metadata": {},
   "source": [
    "#### Add Script to AT SQ"
   ]
  },
  {
   "cell_type": "code",
   "execution_count": 94,
   "id": "b71681e5-4a75-4e36-9c9b-a657d8019aa0",
   "metadata": {},
   "outputs": [],
   "source": [
    "await queue.add(is_standard, script_path, script_config)"
   ]
  },
  {
   "cell_type": "markdown",
   "id": "9ea302b3-0aea-4e6b-b92a-140c26cd55ff",
   "metadata": {},
   "source": [
    "---\n",
    "### Take Sequence 4 (5 x 50s)"
   ]
  },
  {
   "cell_type": "markdown",
   "id": "1b348809-230b-4072-ae0d-1b124fef6dab",
   "metadata": {},
   "source": [
    "#### Configuration"
   ]
  },
  {
   "cell_type": "code",
   "execution_count": 95,
   "id": "9d541ba9-49e0-4be3-b31c-22bfeb61951b",
   "metadata": {},
   "outputs": [],
   "source": [
    "# Take sequence \n",
    "take_sequence4_is_standard = True\n",
    "take_sequence4_script_path = \"auxtel/take_image_latiss.py\"\n",
    "take_sequence4_script_config = dict(\n",
    "    nimages=5,\n",
    "    exp_times=50,\n",
    "    filter=\"SDSSr\",\n",
    "    grating = \"empty_1\",\n",
    "    image_type=\"OBJECT\",\n",
    "    program=\"SITCOM-479\",\n",
    "    reason=\"PSF+Photometry_Validation\"\n",
    ")"
   ]
  },
  {
   "cell_type": "markdown",
   "id": "66740b07-de57-452e-a5f4-5c500f24332a",
   "metadata": {},
   "source": [
    "#### Configuration Validation"
   ]
  },
  {
   "cell_type": "code",
   "execution_count": 96,
   "id": "fb976c0c-0414-451f-b5e9-5031c0d06746",
   "metadata": {},
   "outputs": [],
   "source": [
    "is_standard = take_sequence4_is_standard\n",
    "script_path = take_sequence4_script_path\n",
    "script_config = take_sequence4_script_config"
   ]
  },
  {
   "cell_type": "code",
   "execution_count": 97,
   "id": "ccf41f72-3021-4017-8659-4e17d43481f4",
   "metadata": {},
   "outputs": [
    {
     "data": {
      "text/html": [
       "<pre style=\"margin: 0.1em;\n",
       "padding-left: 0.25em;\n",
       "border-left-style: solid;\n",
       "font-family: var(--jp-code-font-family);\n",
       "font-size: var(--jp-code-font-size);\n",
       "line-height: var(--jp-code-line-height);\n",
       "\"><span style=\"color: var(--jp-warn-color2)\">ATQueue</span> <span style=\"color: var(--jp-info-color0)\">INFO</span>: Configuration OK!</pre>"
      ],
      "text/plain": [
       "<IPython.core.display.HTML object>"
      ]
     },
     "metadata": {},
     "output_type": "display_data"
    }
   ],
   "source": [
    "await queue.validate_config(is_standard = is_standard,\n",
    "                      script = script_path,\n",
    "                      config = script_config)"
   ]
  },
  {
   "cell_type": "markdown",
   "id": "d2ceedec-ee30-43ae-8a10-4afdc3935cb3",
   "metadata": {},
   "source": [
    "#### Add Script to AT SQ"
   ]
  },
  {
   "cell_type": "code",
   "execution_count": 98,
   "id": "93ada765-b969-42a1-9cd2-f60f38c9eba1",
   "metadata": {},
   "outputs": [],
   "source": [
    "await queue.add(is_standard, script_path, script_config)"
   ]
  },
  {
   "cell_type": "markdown",
   "id": "4d06b664-ba77-4a15-a995-b7da846dfb2d",
   "metadata": {},
   "source": [
    "---\n",
    "### Take Sequence 5 (3 x 100s)"
   ]
  },
  {
   "cell_type": "markdown",
   "id": "f4ef0efa-f62d-4ddb-8c70-28a2f238b461",
   "metadata": {},
   "source": [
    "#### Configuration"
   ]
  },
  {
   "cell_type": "code",
   "execution_count": 99,
   "id": "2fef45eb-0c93-412e-ac29-565e769e4c6c",
   "metadata": {},
   "outputs": [],
   "source": [
    "# Take sequence \n",
    "take_sequence5_is_standard = True\n",
    "take_sequence5_script_path = \"auxtel/take_image_latiss.py\"\n",
    "take_sequence5_script_config = dict(\n",
    "    nimages=3,\n",
    "    exp_times=100,\n",
    "    filter=\"SDSSr\",\n",
    "    grating = \"empty_1\",\n",
    "    image_type=\"OBJECT\",\n",
    "    program=\"SITCOM-479\",\n",
    "    reason=\"PSF+Photometry_Validation\"\n",
    ")"
   ]
  },
  {
   "cell_type": "markdown",
   "id": "633a0a08-92d1-43ad-9f6e-8afecb0a8778",
   "metadata": {},
   "source": [
    "#### Configuration Validation"
   ]
  },
  {
   "cell_type": "code",
   "execution_count": 100,
   "id": "5d70f76d-a0f8-4f9f-a70d-55b880e15e1c",
   "metadata": {},
   "outputs": [],
   "source": [
    "is_standard = take_sequence5_is_standard\n",
    "script_path = take_sequence5_script_path\n",
    "script_config = take_sequence5_script_config"
   ]
  },
  {
   "cell_type": "code",
   "execution_count": 101,
   "id": "6d8ba5f5-b662-4094-96e1-914d041c8dce",
   "metadata": {},
   "outputs": [
    {
     "data": {
      "text/html": [
       "<pre style=\"margin: 0.1em;\n",
       "padding-left: 0.25em;\n",
       "border-left-style: solid;\n",
       "font-family: var(--jp-code-font-family);\n",
       "font-size: var(--jp-code-font-size);\n",
       "line-height: var(--jp-code-line-height);\n",
       "\"><span style=\"color: var(--jp-warn-color2)\">ATQueue</span> <span style=\"color: var(--jp-info-color0)\">INFO</span>: Configuration OK!</pre>"
      ],
      "text/plain": [
       "<IPython.core.display.HTML object>"
      ]
     },
     "metadata": {},
     "output_type": "display_data"
    }
   ],
   "source": [
    "await queue.validate_config(is_standard = is_standard,\n",
    "                      script = script_path,\n",
    "                      config = script_config)"
   ]
  },
  {
   "cell_type": "markdown",
   "id": "4ade6650-22b2-4855-aa12-04fc79a0c771",
   "metadata": {},
   "source": [
    "#### Add Script to AT SQ"
   ]
  },
  {
   "cell_type": "code",
   "execution_count": 102,
   "id": "7d57a004-6d00-4f6c-83db-376314b442bb",
   "metadata": {},
   "outputs": [],
   "source": [
    "await queue.add(is_standard, script_path, script_config)"
   ]
  },
  {
   "cell_type": "markdown",
   "id": "d164cf5c-bd78-477b-a554-ba2edf3e655a",
   "metadata": {},
   "source": [
    "---\n",
    "### Take Sequence 6 (25 x 2s)"
   ]
  },
  {
   "cell_type": "markdown",
   "id": "5f1fa40c-8f69-470f-8251-05a308bc6384",
   "metadata": {},
   "source": [
    "#### Configuration"
   ]
  },
  {
   "cell_type": "code",
   "execution_count": 154,
   "id": "42945c43-a940-4e6a-b1ed-beccaceb4b67",
   "metadata": {},
   "outputs": [],
   "source": [
    "# Take sequence \n",
    "take_sequence6_is_standard = True\n",
    "take_sequence6_script_path = \"auxtel/take_image_latiss.py\"\n",
    "take_sequence6_script_config = dict(\n",
    "    nimages=1,\n",
    "    exp_times=2,\n",
    "    filter=\"SDSSr\",\n",
    "    grating = \"empty_1\",\n",
    "    image_type=\"OBJECT\",\n",
    "    program=\"SITCOM-479\",\n",
    "    reason=\"PSF+Photometry_Validation\"\n",
    ")"
   ]
  },
  {
   "cell_type": "markdown",
   "id": "146f91ef-5798-4e0d-a3b9-0a6a7c793a2d",
   "metadata": {},
   "source": [
    "#### Configuration Validation"
   ]
  },
  {
   "cell_type": "code",
   "execution_count": 155,
   "id": "060b6904-13f0-48a6-9186-5d0ddab32be3",
   "metadata": {},
   "outputs": [],
   "source": [
    "is_standard = take_sequence6_is_standard\n",
    "script_path = take_sequence6_script_path\n",
    "script_config = take_sequence6_script_config"
   ]
  },
  {
   "cell_type": "code",
   "execution_count": 156,
   "id": "afcf8b41-89f7-4c44-84b5-6e81ee1863d6",
   "metadata": {},
   "outputs": [
    {
     "data": {
      "text/html": [
       "<pre style=\"margin: 0.1em;\n",
       "padding-left: 0.25em;\n",
       "border-left-style: solid;\n",
       "font-family: var(--jp-code-font-family);\n",
       "font-size: var(--jp-code-font-size);\n",
       "line-height: var(--jp-code-line-height);\n",
       "\"><span style=\"color: var(--jp-warn-color2)\">ATQueue</span> <span style=\"color: var(--jp-info-color0)\">INFO</span>: Configuration OK!</pre>"
      ],
      "text/plain": [
       "<IPython.core.display.HTML object>"
      ]
     },
     "metadata": {},
     "output_type": "display_data"
    }
   ],
   "source": [
    "await queue.validate_config(is_standard = is_standard,\n",
    "                      script = script_path,\n",
    "                      config = script_config)"
   ]
  },
  {
   "cell_type": "markdown",
   "id": "e0ce5337-7876-44b1-84e9-fbc045f4014e",
   "metadata": {},
   "source": [
    "#### Add Script to AT SQ"
   ]
  },
  {
   "cell_type": "code",
   "execution_count": 157,
   "id": "800c66bb-0354-4a09-b7c7-6bfd3d5078b1",
   "metadata": {},
   "outputs": [],
   "source": [
    "await queue.add(is_standard, script_path, script_config)"
   ]
  }
 ],
 "metadata": {
  "kernelspec": {
   "display_name": "LSST",
   "language": "python",
   "name": "lsst"
  },
  "language_info": {
   "codemirror_mode": {
    "name": "ipython",
    "version": 3
   },
   "file_extension": ".py",
   "mimetype": "text/x-python",
   "name": "python",
   "nbconvert_exporter": "python",
   "pygments_lexer": "ipython3",
   "version": "3.10.5"
  },
  "toc-autonumbering": true,
  "toc-showmarkdowntxt": false
 },
 "nbformat": 4,
 "nbformat_minor": 5
}
