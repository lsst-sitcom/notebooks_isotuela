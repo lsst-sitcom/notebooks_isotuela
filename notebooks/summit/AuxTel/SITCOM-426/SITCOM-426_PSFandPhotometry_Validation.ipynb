{
 "cells": [
  {
   "cell_type": "markdown",
   "id": "398e92f1-51b2-4db3-a116-19cad9778a16",
   "metadata": {},
   "source": [
    "# PSF & Photometry Validation - SITCOM-426 \n",
    "\n",
    "This notebook contains the execution of the PSF & Photometry Validation SITCOM-426 test described in https://jira.lsstcorp.org/browse/SITCOM-426, expected to run during the 2022-07A AuxTel Observing Run. \n",
    "                \n",
    "This notebook is organized in  sections:\n",
    "\n",
    "    i. Setup\n",
    "    ii. Conditions assessment\n",
    "    iii. CWFS\n",
    "    iv. Find target object and slew.\n",
    "    v. Confirm signal level\n",
    "    vi. Perform the data acquisition sequence. "
   ]
  },
  {
   "cell_type": "markdown",
   "id": "d6a4c950-a892-4915-91a4-b46a5de181d5",
   "metadata": {},
   "source": [
    "## Set up"
   ]
  },
  {
   "cell_type": "markdown",
   "id": "35571f7a-3c5d-44fc-9809-614fdb2364c4",
   "metadata": {},
   "source": [
    "### Import libraries"
   ]
  },
  {
   "cell_type": "code",
   "execution_count": null,
   "id": "07cea8b7-fac8-40e5-87e5-6e50b09f1db7",
   "metadata": {},
   "outputs": [],
   "source": [
    "import sys\n",
    "import asyncio\n",
    "import time\n",
    "import os\n",
    "\n",
    "import numpy as np\n",
    "import logging \n",
    "import yaml\n",
    "import matplotlib.pyplot as plt\n",
    "from astropy.time import Time\n",
    "import astropy\n",
    "\n",
    "from lsst.ts import salobj\n",
    "from lsst.ts.externalscripts.auxtel.latiss_cwfs_align import LatissCWFSAlign\n",
    "from lsst.ts.observatory.control.utils import RotType\n",
    "\n",
    "from lsst.ts.idl.enums.Script import ScriptState\n",
    "\n",
    "from lsst.ts.observing.utilities.decorated_logger import DecoratedLogger\n",
    "\n",
    "import lsst_efd_client\n",
    "\n",
    "from lsst.summit.extras import SpectralFocusAnalyzer"
   ]
  },
  {
   "cell_type": "markdown",
   "id": "5c110a43-49c9-459c-a833-02d745cd86d8",
   "metadata": {},
   "source": [
    "### Setting up logger"
   ]
  },
  {
   "cell_type": "code",
   "execution_count": null,
   "id": "f4f722d2-dee7-4c32-ade1-83f981fe7a6a",
   "metadata": {},
   "outputs": [],
   "source": [
    "logger = DecoratedLogger.get_decorated_logger()\n",
    "logger.level = logging.DEBUG"
   ]
  },
  {
   "cell_type": "markdown",
   "id": "156a7f96-6352-4cde-8805-7e84eff2754c",
   "metadata": {},
   "source": [
    "### Getting unique index for script"
   ]
  },
  {
   "cell_type": "code",
   "execution_count": null,
   "id": "46290f24-0c4d-4977-a2b8-663293d2b55f",
   "metadata": {},
   "outputs": [],
   "source": [
    "logger.info(f'Your UID is {os.getuid()}')\n",
    "index = os.getuid() * 10 + np.random.randint(0, 9)\n",
    "\n",
    "logger.info(f'The generated index is {index}')"
   ]
  },
  {
   "cell_type": "markdown",
   "id": "30730d48-244d-462f-82e3-faa05d844aa9",
   "metadata": {},
   "source": [
    "### Instantiate CWFS Script"
   ]
  },
  {
   "cell_type": "code",
   "execution_count": null,
   "id": "a01e1162-5f4e-47be-b496-cad7ca7fb8ec",
   "metadata": {
    "tags": []
   },
   "outputs": [],
   "source": [
    "script = LatissCWFSAlign(index=index, remotes=True)  # this essentially calls the init method\n",
    "await script.start_task"
   ]
  },
  {
   "cell_type": "markdown",
   "id": "65e2e62d-41f8-497d-9c7e-2c216de55ae4",
   "metadata": {},
   "source": [
    "### Forward ATCS and LATISS"
   ]
  },
  {
   "cell_type": "code",
   "execution_count": null,
   "id": "04cc2f4f-69e2-4ddf-93fd-70613ba0ef32",
   "metadata": {},
   "outputs": [],
   "source": [
    "atcs = script.atcs\n",
    "latiss = script.latiss"
   ]
  },
  {
   "cell_type": "markdown",
   "id": "7e32035a-d01e-481e-a466-365bf8aeef83",
   "metadata": {
    "tags": []
   },
   "source": [
    "### EFD "
   ]
  },
  {
   "cell_type": "code",
   "execution_count": 3,
   "id": "e9acaa92-5d02-4e73-a840-0c4af1fbf6c7",
   "metadata": {},
   "outputs": [],
   "source": [
    "efd_name = \"summit_efd\"\n",
    "client = lsst_efd_client.EfdClient(efd_name)"
   ]
  },
  {
   "cell_type": "markdown",
   "id": "cc18e727-5d4d-4c04-83bb-15aff9ec4d54",
   "metadata": {},
   "source": [
    "### Set up script log level"
   ]
  },
  {
   "cell_type": "code",
   "execution_count": null,
   "id": "0735e70c-d746-4165-a131-327d1709b8f3",
   "metadata": {},
   "outputs": [],
   "source": [
    "script.log.level = logging.DEBUG"
   ]
  },
  {
   "cell_type": "markdown",
   "id": "d1edef79-5812-4f67-9ef8-dd9d3f1a405a",
   "metadata": {
    "tags": []
   },
   "source": [
    "### Write start info into EFD"
   ]
  },
  {
   "cell_type": "code",
   "execution_count": null,
   "id": "4b7a35e4-1564-43fa-9edc-554f394664c3",
   "metadata": {},
   "outputs": [],
   "source": [
    "script.log.info(f'START- SITCOM-426 PSF&Photometry Validation -- at {Time.now()}')"
   ]
  },
  {
   "cell_type": "markdown",
   "id": "0ec420c4-c86c-4068-a4a7-58fbbef41103",
   "metadata": {},
   "source": [
    "## Assess that conditions meet criteria- sub-arcsec seeing and photometric\n",
    "Photometric conditions clear definition?"
   ]
  },
  {
   "cell_type": "markdown",
   "id": "434431e1-96e3-44f4-8667-38cb0b2f039d",
   "metadata": {},
   "source": [
    "## CWFS\n",
    "A CWFS is recommended just before the test to ensure the system is in focus and the parabolic focus sweep is symmetrical."
   ]
  },
  {
   "cell_type": "markdown",
   "id": "c26aff69-a5ba-414f-ae90-5b7afff2ae3b",
   "metadata": {},
   "source": [
    "### Slew to target"
   ]
  },
  {
   "cell_type": "markdown",
   "id": "be80f78c-8ff9-4cee-ade3-cb6b46f92616",
   "metadata": {
    "tags": []
   },
   "source": [
    "#### Declare target "
   ]
  },
  {
   "cell_type": "markdown",
   "id": "77bea4ae-f3b1-4671-b127-390e2bd435d1",
   "metadata": {},
   "source": [
    "Query for a target with a magnitud limit of Vmag of 8 and around the same area of the sky as the target source."
   ]
  },
  {
   "cell_type": "code",
   "execution_count": null,
   "id": "6cfbf353-52a0-4de9-97ee-c22289f0bc92",
   "metadata": {},
   "outputs": [],
   "source": [
    "target = await script.atcs.find_target(az=180.2, el=75, mag_limit=8)\n",
    "logger.info(f'Target for CWFS with mag_lim 8 is {target}')"
   ]
  },
  {
   "cell_type": "markdown",
   "id": "fa2a9f54-82b1-44df-af4b-380044c702f6",
   "metadata": {},
   "source": [
    "#### Slew to the defined target"
   ]
  },
  {
   "cell_type": "code",
   "execution_count": null,
   "id": "f3f6d290-1645-4836-93a0-bcba0fab4ef9",
   "metadata": {},
   "outputs": [],
   "source": [
    "await script.atcs.slew_object(target, rot_type=RotType.PhysicalSky)"
   ]
  },
  {
   "cell_type": "markdown",
   "id": "1d2319e9-9be1-4c08-9930-5e457f29ae55",
   "metadata": {},
   "source": [
    "Uncomment the following line to take a snapshot to verify the target is positioned as expected "
   ]
  },
  {
   "cell_type": "code",
   "execution_count": null,
   "id": "bd4c8b32-d03c-48b2-a2cf-61df3b9ad6b1",
   "metadata": {},
   "outputs": [],
   "source": [
    "# exposure = await latiss.take_engtest(\n",
    "#         exptime=5, n=1, filter='SDSSr', grating='empty_0', reason='Acquisition')\n",
    "# logger.info(f'Acquisition exposure is {exposure}')"
   ]
  },
  {
   "cell_type": "markdown",
   "id": "450e0ef6-1334-4090-89ea-5e341106d135",
   "metadata": {},
   "source": [
    "To offset the telescope and center the source (if required) uncomment the following line. <br>\n",
    "Offsets are in detector X/Y coordinates and in arcseconds. "
   ]
  },
  {
   "cell_type": "code",
   "execution_count": null,
   "id": "d2457418-602c-488f-bc75-602042a7b422",
   "metadata": {},
   "outputs": [],
   "source": [
    "# await script.atcs.offset_xy(x=20, y=20)"
   ]
  },
  {
   "cell_type": "markdown",
   "id": "7aa054fe-171e-4baf-a09c-92c23435c904",
   "metadata": {},
   "source": [
    "### Set up configuration"
   ]
  },
  {
   "cell_type": "code",
   "execution_count": null,
   "id": "918c28c4-8dc0-410f-aa53-83b59e06f09e",
   "metadata": {},
   "outputs": [],
   "source": [
    "configuration = yaml.safe_dump({\"filter\": 'SDSSr', \n",
    "                                \"grating\": 'empty_0',\n",
    "                                \"exposure_time\": 20,})"
   ]
  },
  {
   "cell_type": "markdown",
   "id": "9fbe93e1-2867-4836-8862-4522b28d1cdb",
   "metadata": {},
   "source": [
    "The next line is not required the first time the script is run, however, in each additional instance the cell is run, an error will be thrown if it is not included.  \n",
    "Therefore, it is included here despite being a non-operation in the first instance.  "
   ]
  },
  {
   "cell_type": "code",
   "execution_count": null,
   "id": "a34af096-9769-40ce-a626-402d8dcfed61",
   "metadata": {},
   "outputs": [],
   "source": [
    "await script.set_state(ScriptState.UNCONFIGURED)"
   ]
  },
  {
   "cell_type": "markdown",
   "id": "7c777329-4549-4b80-8aee-72305ee251b8",
   "metadata": {},
   "source": [
    "### Put the ScriptState to CONFIGURED"
   ]
  },
  {
   "cell_type": "code",
   "execution_count": null,
   "id": "a0151f75-826c-4ad6-aaa8-f4717896ef95",
   "metadata": {
    "tags": []
   },
   "outputs": [],
   "source": [
    "config_data = script.cmd_configure.DataType()\n",
    "config_data.config = configuration\n",
    "await script.do_configure(config_data)"
   ]
  },
  {
   "cell_type": "markdown",
   "id": "5c7f8d03-f057-4a58-b90c-1c59886ebbc9",
   "metadata": {},
   "source": [
    "Set these script parameters to None to verify a re-reduction does not happen of the images."
   ]
  },
  {
   "cell_type": "code",
   "execution_count": null,
   "id": "b85082b9-c6ec-419b-8945-8926d1b02502",
   "metadata": {},
   "outputs": [],
   "source": [
    "script.intra_visit_id = None\n",
    "script.extra_visit_id = None\n",
    "script.short_timeout = 10"
   ]
  },
  {
   "cell_type": "markdown",
   "id": "3e8f21cf-6d8a-4439-99d2-5ce1074e9610",
   "metadata": {},
   "source": [
    "### Set groupID and launch the script\n",
    "\n",
    "This sets the same group ID for all exposures taken in the script."
   ]
  },
  {
   "cell_type": "code",
   "execution_count": null,
   "id": "4efb0aea-4bdf-48b6-ace1-88eee3f83661",
   "metadata": {
    "tags": []
   },
   "outputs": [],
   "source": [
    "group_id_data = script.cmd_setGroupId.DataType(\n",
    "    groupId=astropy.time.Time.now().isot)\n",
    "\n",
    "await script.do_setGroupId(group_id_data)\n",
    "await script.arun()"
   ]
  },
  {
   "cell_type": "markdown",
   "id": "edcdd8fd-4578-4d4e-81cb-88cc03a85b5e",
   "metadata": {},
   "source": [
    "### Stop tracking"
   ]
  },
  {
   "cell_type": "markdown",
   "id": "916e4046-0524-4820-9566-d2b8cbb712fe",
   "metadata": {},
   "source": [
    "If required, then uncomment and use the following cell to stop the telescope from tracking, but you will lose your acquisition."
   ]
  },
  {
   "cell_type": "code",
   "execution_count": null,
   "id": "4f911796-500f-416f-9cfc-fbaa7e87ca91",
   "metadata": {},
   "outputs": [],
   "source": [
    "# await script.atcs.stop_tracking()"
   ]
  },
  {
   "cell_type": "markdown",
   "id": "a71dfd14-ace6-4587-bb88-b8cd489f0393",
   "metadata": {},
   "source": [
    "---\n",
    "## Find and slew to target object\n",
    "\"-35 < dec < -25 and hour angle 0:10:00 < HA < 0:20:00 (in other words an RA slightly less than LST so that it's just past the zenith and is setting) and mag 11< Vmag < 13. We want a target star that saturates in 30 sec. Patrick says                   saturation limit in 5 sec is   around 8th mag, so we should pick a target star that is (5/30~ 2 mag fainter).                 That should saturate in 50 sec. \" "
   ]
  },
  {
   "cell_type": "markdown",
   "id": "5879b65b-5e51-40e7-87f5-66574115a164",
   "metadata": {
    "tags": []
   },
   "source": [
    "### Declare target "
   ]
  },
  {
   "cell_type": "code",
   "execution_count": null,
   "id": "0c88d973-652f-49ce-a8f2-5f67869abf9e",
   "metadata": {},
   "outputs": [],
   "source": [
    "azimuth = 180.2\n",
    "elevation = 80\n",
    "magnitude = 11\n",
    "search_radius = 4"
   ]
  },
  {
   "cell_type": "markdown",
   "id": "f14787ea-5a2d-4ea9-98c2-fb0ba0e4e12a",
   "metadata": {},
   "source": [
    "Query for target"
   ]
  },
  {
   "cell_type": "code",
   "execution_count": null,
   "id": "b11b9a74-86e7-471a-86c9-0882f85d21e8",
   "metadata": {},
   "outputs": [],
   "source": [
    "target = await script.atcs.find_target(az=azimuth, el=elevation, mag_limit=magnitude, radius = search_radius)\n",
    "logger.info(f'Target object with mag_lim {magnitude} at {azimuth} Az and {elevation} EL deg is {target}')"
   ]
  },
  {
   "cell_type": "markdown",
   "id": "5ca2b8cd-2df6-49dd-94b1-b81c7de64b52",
   "metadata": {},
   "source": [
    "### Slew to the defined target"
   ]
  },
  {
   "cell_type": "code",
   "execution_count": null,
   "id": "fe4672e7-dcb7-472e-8060-a82155391550",
   "metadata": {},
   "outputs": [],
   "source": [
    "await script.atcs.slew_object(target, rot_type=RotType.PhysicalSky)"
   ]
  },
  {
   "cell_type": "markdown",
   "id": "fd05e756-8e53-45bf-89d8-d07df8773d39",
   "metadata": {},
   "source": [
    "To offset the telescope and move the source (if required) uncomment the following line. <br>\n",
    "Offsets are in detector X/Y coordinates and in arcseconds. "
   ]
  },
  {
   "cell_type": "code",
   "execution_count": null,
   "id": "85dd5b90-cffb-464d-bbcb-54c2d4e24cb1",
   "metadata": {},
   "outputs": [],
   "source": [
    "# await script.atcs.offset_xy(x=20, y=20)"
   ]
  },
  {
   "cell_type": "markdown",
   "id": "8d794f17-cffc-4143-9040-997b6ce89a33",
   "metadata": {},
   "source": [
    "---\n",
    "## Check signal level\n",
    "Take a snapshot to verify the target saturates as expected, at 30 second exposure time."
   ]
  },
  {
   "cell_type": "code",
   "execution_count": null,
   "id": "a06a666f-fd11-45a2-bebb-c2f402f04df7",
   "metadata": {},
   "outputs": [],
   "source": [
    "saturation_test = await latiss.take_engtest(\n",
    "        exptime=30, n=1, filter='SDSSr', grating='empty_0', reason='Exposure_Time_Test')\n",
    "logger.info(f'Saturation test exposure is {saturation_test}')"
   ]
  },
  {
   "cell_type": "markdown",
   "id": "16c93096-060d-4c7d-b338-402690b4aec7",
   "metadata": {},
   "source": [
    "----\n",
    "## Data Acquisition Sequence"
   ]
  },
  {
   "cell_type": "markdown",
   "id": "cd8695e5-a62d-40b0-93ac-a857df4d26ca",
   "metadata": {},
   "source": [
    "### Focus Sweep"
   ]
  },
  {
   "cell_type": "markdown",
   "id": "fab8d1f7-f6f2-4b9b-a298-df915f1123b5",
   "metadata": {},
   "source": [
    "#### Parabolic Focus Data Acquisition"
   ]
  },
  {
   "cell_type": "markdown",
   "id": "10c8f910-bd1b-478d-9420-6580b8686f0d",
   "metadata": {
    "tags": []
   },
   "source": [
    "Acquire data in steps of `z_offset_step` in the range of `z_offset_start` to `z_offset_end` relative to the current focus position."
   ]
  },
  {
   "cell_type": "code",
   "execution_count": null,
   "id": "8aea8f6f-ea59-4515-af0c-6b4f3f9f6262",
   "metadata": {},
   "outputs": [],
   "source": [
    "original_focus_offset = await script.atcs.rem.ataos.evt_focusOffsetSummary.aget()\n",
    "logger.info(f'Original focus offset is \\n {original_focus_offset}')"
   ]
  },
  {
   "cell_type": "code",
   "execution_count": null,
   "id": "7b3066a1-4c67-4b23-82cf-7f18b37ec0b6",
   "metadata": {
    "tags": []
   },
   "outputs": [],
   "source": [
    "script.log.info(f'START -- Focus Determination SDSSr \\n'\n",
    "                    f'Time UTC -- {astropy.time.Time(astropy.time.Time.now())}') \n",
    "\n",
    "z_offset_start = -0.1 # mm\n",
    "z_offset_step = 0.025 # mm\n",
    "z_offset_end = -z_offset_start\n",
    "\n",
    "steps = np.arange(z_offset_start, z_offset_end + 0.01, z_offset_step)\n",
    "parabolic_focus_data = []\n",
    "\n",
    "await atcs.rem.ataos.cmd_offset.set_start(z=z_offset_start)\n",
    "    \n",
    "await asyncio.sleep(2)\n",
    "for step in steps:\n",
    "        \n",
    "    exposure = await latiss.take_engtest(\n",
    "        exptime=20, n=1, filter='SDSSr', grating='empty_0', reason='Parabolic_focus_sequence-SITCOM-426')\n",
    "    parabolic_focus_data.append(exposure[0])\n",
    "    logger.info(f'Total z offset = {step:.3f} -- Image expId = {exposure[0]}')\n",
    "    \n",
    "    logger.info(f'Current focus offset is \\n {await script.atcs.rem.ataos.evt_focusOffsetSummary.aget()}')\n",
    "    \n",
    "    await atcs.rem.ataos.cmd_offset.set_start(z=z_offset_step)\n",
    "\n",
    "# Move back to the original focus offset position\n",
    "await atcs.rem.ataos.cmd_offset.set_start(z= -(z_offset_end + z_offset_step))\n",
    "logger.info(f'Back to the original focus offset position \\n {await script.atcs.rem.ataos.evt_focusOffsetSummary.aget()}')\n",
    "\n",
    "# Log results into EFD for later analysis\n",
    "script.log.info(f'END -- Focus Determination SDSSr \\n'\n",
    "                    f'Images expId -- {parabolic_focus_data} \\n'\n",
    "                    f'Time UTC -- {astropy.time.Time(astropy.time.Time.now())}') "
   ]
  },
  {
   "cell_type": "code",
   "execution_count": null,
   "id": "408b7707-9812-441d-9c6a-8e6492d0c7a8",
   "metadata": {},
   "outputs": [],
   "source": [
    "current_focus_offset = await script.atcs.rem.ataos.evt_focusOffsetSummary.aget()\n",
    "logger.info(current_focus_offset)"
   ]
  },
  {
   "cell_type": "code",
   "execution_count": null,
   "id": "e70551a9-ee8f-4bf9-865b-59696cf5a284",
   "metadata": {},
   "outputs": [],
   "source": [
    "# Original and current focus offset's user comparison "
   ]
  },
  {
   "cell_type": "code",
   "execution_count": null,
   "id": "9414f26a-b713-4b5b-883b-eef17ab5f12d",
   "metadata": {},
   "outputs": [],
   "source": [
    "logger.info(f'Current {current_focus_offset.userApplied} focus vs. original {original_focus_offset.userApplied} focus offsets')"
   ]
  },
  {
   "cell_type": "markdown",
   "id": "c18395a5-2ec7-49b4-8fbc-75bc614d84cb",
   "metadata": {},
   "source": [
    "#### Parabolic Data Analysis"
   ]
  },
  {
   "cell_type": "code",
   "execution_count": 2,
   "id": "7da6dd61-9ca9-4056-9368-ddf53912666e",
   "metadata": {},
   "outputs": [],
   "source": [
    "%matplotlib inline"
   ]
  },
  {
   "cell_type": "markdown",
   "id": "42363646-56c8-4c81-a532-4b5e62430fec",
   "metadata": {},
   "source": [
    "dayObs format is yyyymmdd. <br>\n",
    "SeqNums is a list of integers, containing the first and last image of the focus sweep sequence. "
   ]
  },
  {
   "cell_type": "code",
   "execution_count": null,
   "id": "fbbb23c0-3bae-4b0a-9003-d6fc60902468",
   "metadata": {},
   "outputs": [],
   "source": [
    "dayObs = 20220715\n",
    "seqNums = [s for s in range(286, 294+1)]\n",
    "print(f'Observation day is {dayObs} \\n'\n",
    "      f'Sequence numbers are {seqNums}')"
   ]
  },
  {
   "cell_type": "markdown",
   "id": "ac51cd1a-89b1-4ac5-97e1-21afd989c18a",
   "metadata": {},
   "source": [
    "In case one or more of the images from the sequence are invalid, you can drop them from the seqNums array. Uncomment the cell below after you have replaced the images_to_discard values.   "
   ]
  },
  {
   "cell_type": "code",
   "execution_count": null,
   "id": "c2f74d3a-7214-4085-86b2-38861851e148",
   "metadata": {},
   "outputs": [],
   "source": [
    "# images_to_discard = [286,288]\n",
    "# for k in range(len(images_to_discard)):\n",
    "#     try:\n",
    "#         seqNums.remove(images_to_discard[k])\n",
    "#     except:\n",
    "#         print(f'{images_to_discard[k]} image not in original seqNums list')\n",
    "        \n",
    "print(f'\\nObservation day is {dayObs} \\n'\n",
    "      f'New sequence numbers are {seqNums}')"
   ]
  },
  {
   "cell_type": "code",
   "execution_count": null,
   "id": "01f89712-fc24-4809-81cb-8922064971e4",
   "metadata": {
    "tags": []
   },
   "outputs": [],
   "source": [
    "focusAnalyzer = NonSpectralFocusAnalyzer()\n",
    "\n",
    "focusAnalyzer.getFocusData(dayObs, seqNums, doDisplay=True)\n",
    "focusAnalyzer.fitDataAndPlot()"
   ]
  },
  {
   "cell_type": "markdown",
   "id": "efa28481-83f1-4f57-bc59-c0923ce02b78",
   "metadata": {},
   "source": [
    "#### Set system to best focus, if required"
   ]
  },
  {
   "cell_type": "code",
   "execution_count": null,
   "id": "8e19a707-d026-4640-90c4-34d60b94f111",
   "metadata": {},
   "outputs": [],
   "source": [
    "z_best_focus = "
   ]
  },
  {
   "cell_type": "code",
   "execution_count": null,
   "id": "b6bcd76e-6a14-411d-a466-b31017841d03",
   "metadata": {},
   "outputs": [],
   "source": [
    "await atcs.rem.ataos.cmd_offset.set_start(z=z_best_focus)"
   ]
  },
  {
   "cell_type": "markdown",
   "id": "8f72375b-3dc1-45d0-a2b6-1728804d402b",
   "metadata": {},
   "source": [
    "### Image Sequence"
   ]
  },
  {
   "cell_type": "code",
   "execution_count": null,
   "id": "e62e70c2-b45d-4a96-98e0-eedba84b038d",
   "metadata": {},
   "outputs": [],
   "source": [
    "# 2 sec exposures\n",
    "await latiss.take_engtest(\n",
    "        exptime=2, n=25, filter='SDSSr', grating='empty_0', reason='SITCOM-426')"
   ]
  },
  {
   "cell_type": "code",
   "execution_count": null,
   "id": "fa0ff24d-9cc7-4ef1-a328-e93e6f2a88b7",
   "metadata": {},
   "outputs": [],
   "source": [
    "# 10 sec exposures\n",
    "await latiss.take_engtest(\n",
    "        exptime=10, n=25, filter='SDSSr', grating='empty_0', reason='SITCOM-426')"
   ]
  },
  {
   "cell_type": "code",
   "execution_count": null,
   "id": "fa8f7bb6-bb5a-420a-be0b-947c36f8452a",
   "metadata": {},
   "outputs": [],
   "source": [
    "# 25 sec exposures\n",
    "await latiss.take_engtest(\n",
    "        exptime=25, n=10, filter='SDSSr', grating='empty_0', reason='SITCOM-426')"
   ]
  },
  {
   "cell_type": "code",
   "execution_count": null,
   "id": "d2b96921-ad14-4091-8812-3f460c724600",
   "metadata": {},
   "outputs": [],
   "source": [
    "# 50 sec exposures\n",
    "await latiss.take_engtest(\n",
    "        exptime=50, n=5, filter='SDSSr', grating='empty_0', reason='SITCOM-426')"
   ]
  },
  {
   "cell_type": "code",
   "execution_count": null,
   "id": "74e923be-5660-4d2a-a58d-d5da4d43e372",
   "metadata": {},
   "outputs": [],
   "source": [
    "# 100 sec exposures\n",
    "await latiss.take_engtest(\n",
    "        exptime=100, n=3, filter='SDSSr', grating='empty_0', reason='SITCOM-426')"
   ]
  },
  {
   "cell_type": "code",
   "execution_count": null,
   "id": "51ba29d3-c995-4d33-853f-9e7ef363d554",
   "metadata": {},
   "outputs": [],
   "source": [
    "# 2 sec exposures\n",
    "await latiss.take_engtest(\n",
    "        exptime=2, n=25, filter='SDSSr', grating='empty_0', reason='SITCOM-426')"
   ]
  },
  {
   "cell_type": "code",
   "execution_count": null,
   "id": "e4358628-8a1c-4711-b3db-9d9979b0e9ed",
   "metadata": {},
   "outputs": [],
   "source": [
    "### Ending Test"
   ]
  },
  {
   "cell_type": "code",
   "execution_count": null,
   "id": "420bbc3b-654b-44ba-894f-ca10820573c7",
   "metadata": {},
   "outputs": [],
   "source": [
    "script.log.info(f'END- SITCOM-426 PSF&Photometry Validation -- at {Time.now()}')"
   ]
  }
 ],
 "metadata": {
  "kernelspec": {
   "display_name": "LSST",
   "language": "python",
   "name": "lsst"
  },
  "language_info": {
   "codemirror_mode": {
    "name": "ipython",
    "version": 3
   },
   "file_extension": ".py",
   "mimetype": "text/x-python",
   "name": "python",
   "nbconvert_exporter": "python",
   "pygments_lexer": "ipython3",
   "version": "3.10.4"
  },
  "toc-autonumbering": true,
  "toc-showmarkdowntxt": false
 },
 "nbformat": 4,
 "nbformat_minor": 5
}
