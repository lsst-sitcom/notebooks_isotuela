{
 "cells": [
  {
   "cell_type": "markdown",
   "id": "5c65fc0f-bc50-4028-a0fb-8487fd8e6c1a",
   "metadata": {},
   "source": [
    "# Large Donuts - SITCOM-476\n",
    "\n",
    "This notebook contains the execution of the Large Donut SITCOM-476 test described in https://jira.lsstcorp.org/browse/SITCOM-476, expected to run during the 2022-10A AuxTel Observing Run. \n",
    "                \n",
    "This notebook is organized in  sections:\n",
    "\n",
    "    1.1 Setup\n",
    "    1.2 Conditions assessment\n",
    "    1.3. Choose target from list of targets in ticket\n",
    "    1.4. CWFS nearby\n",
    "    1.5. Slew to target object.\n",
    "    1.6  Perform the data acquisition sequence. "
   ]
  },
  {
   "cell_type": "markdown",
   "id": "68c7a700-8fd6-4d75-b369-2af649a9f2a8",
   "metadata": {},
   "source": [
    "-----\n",
    "## Setup"
   ]
  },
  {
   "cell_type": "markdown",
   "id": "7e10be17-700c-4520-9591-02cb7611a2ec",
   "metadata": {},
   "source": [
    "### Import libraries"
   ]
  },
  {
   "cell_type": "code",
   "execution_count": null,
   "id": "8e14fd2e-c93a-4ef4-86a5-7dcc4dcce04f",
   "metadata": {},
   "outputs": [],
   "source": [
    "import sys\n",
    "import asyncio\n",
    "import time\n",
    "import os\n",
    "\n",
    "import numpy as np\n",
    "import logging \n",
    "import yaml\n",
    "import matplotlib.pyplot as plt\n",
    "from astropy.time import Time\n",
    "import astropy\n",
    "\n",
    "from lsst.ts import salobj\n",
    "from lsst.ts.externalscripts.auxtel.latiss_cwfs_align import LatissCWFSAlign\n",
    "from lsst.ts.observatory.control.utils import RotType\n",
    "\n",
    "from lsst.ts.idl.enums.Script import ScriptState"
   ]
  },
  {
   "cell_type": "markdown",
   "id": "1113ceca-0fd3-46ed-a20b-2f950b2b622a",
   "metadata": {},
   "source": [
    "### Setting up logger"
   ]
  },
  {
   "cell_type": "code",
   "execution_count": null,
   "id": "886a4c54-b7e0-414a-979b-7ec6d79c254a",
   "metadata": {},
   "outputs": [],
   "source": [
    "logger = logging.getLogger(\"SITCOM-476\")\n",
    "log.level = logging.DEBUG"
   ]
  },
  {
   "cell_type": "markdown",
   "id": "526343b3-78e1-48f3-8814-74d0636a4444",
   "metadata": {},
   "source": [
    "### Getting unique index for script"
   ]
  },
  {
   "cell_type": "code",
   "execution_count": null,
   "id": "94e4d66f-119f-4a3b-87fb-59cfa07477ad",
   "metadata": {},
   "outputs": [],
   "source": [
    "logger.info(f'Your UID is {os.getuid()}')\n",
    "index = int(date + str(np.random.randint(0, 9)))\n",
    "\n",
    "logger.info(f'The generated index is {index}')"
   ]
  },
  {
   "cell_type": "markdown",
   "id": "533bcc80-cb1c-4f65-9d47-d1eb9ff7a722",
   "metadata": {},
   "source": [
    "### Instantiate CWFS Script"
   ]
  },
  {
   "cell_type": "code",
   "execution_count": null,
   "id": "73b621b9-d49d-4f07-9b35-fbb8254beb4b",
   "metadata": {
    "tags": []
   },
   "outputs": [],
   "source": [
    "script = LatissCWFSAlign(index=index, remotes=True)  # this essentially calls the init method\n",
    "await script.start_task"
   ]
  },
  {
   "cell_type": "markdown",
   "id": "3662037a-d691-4edd-ada4-8bd7471e3689",
   "metadata": {},
   "source": [
    "### Forward ATCS and LATISS"
   ]
  },
  {
   "cell_type": "code",
   "execution_count": null,
   "id": "534388d8-9ae8-4cab-8c32-4c281a8585f8",
   "metadata": {},
   "outputs": [],
   "source": [
    "atcs = script.atcs\n",
    "latiss = script.latiss"
   ]
  },
  {
   "cell_type": "markdown",
   "id": "56300b5f-cc8d-4663-b364-b086b505e702",
   "metadata": {},
   "source": [
    "### Set up script log level"
   ]
  },
  {
   "cell_type": "code",
   "execution_count": null,
   "id": "02f80095-4a07-45fa-9cff-3c960a6da132",
   "metadata": {},
   "outputs": [],
   "source": [
    "script.log.level = logging.DEBUG"
   ]
  },
  {
   "cell_type": "markdown",
   "id": "386b390b-f364-411b-8542-f8a1e5b9fbc2",
   "metadata": {
    "tags": []
   },
   "source": [
    "### Write start info into EFD"
   ]
  },
  {
   "cell_type": "code",
   "execution_count": null,
   "id": "219d43b6-efc4-463f-8bb1-c0d9046b7d6e",
   "metadata": {},
   "outputs": [],
   "source": [
    "script.log.info(f'START- SITCOM-476 Large Donuts -- at {Time.now()}')"
   ]
  },
  {
   "cell_type": "markdown",
   "id": "6f8b8c28-10c1-4612-829b-b1776036513c",
   "metadata": {
    "tags": []
   },
   "source": [
    "----\n",
    "## Assess that conditions meet criteria\n",
    "Seeing? \n",
    "Photometry?\n",
    "None?"
   ]
  },
  {
   "cell_type": "markdown",
   "id": "ce5f9e64-1356-4e06-bb42-cd9009c60048",
   "metadata": {},
   "source": [
    "----\n",
    "## Choose target: Source needs to be above 70 degrees to safely move the hexapod z-axis the requested amount to obtain large donuts. See plots attached by Eske to choose the target, depending on the time of the night. "
   ]
  },
  {
   "cell_type": "markdown",
   "id": "fb7e290e-3060-4d6a-8a4b-02e8b665a9ce",
   "metadata": {},
   "source": [
    "### Declare target and filter"
   ]
  },
  {
   "cell_type": "code",
   "execution_count": null,
   "id": "62c95168-5f6d-4887-9194-23c3c55af3b7",
   "metadata": {},
   "outputs": [],
   "source": [
    "target = "
   ]
  },
  {
   "cell_type": "code",
   "execution_count": null,
   "id": "38de6631-fde8-4caf-817e-d680427370fd",
   "metadata": {},
   "outputs": [],
   "source": [
    "filter_to_use = "
   ]
  },
  {
   "cell_type": "markdown",
   "id": "dac88c51-0384-4f35-aaee-ab41ee22def9",
   "metadata": {},
   "source": [
    "------\n",
    "## CWFS\n",
    "A CWFS is recommended just before the test to ensure the system is in focus. Based on the target, choose a nearby target to perform CWFS on. "
   ]
  },
  {
   "cell_type": "markdown",
   "id": "af3926fe-2629-4852-ae53-25a746f68a07",
   "metadata": {},
   "source": [
    "### Slew to target"
   ]
  },
  {
   "cell_type": "markdown",
   "id": "7c19d8a6-d8d4-4012-aa02-91ad6448b443",
   "metadata": {
    "tags": []
   },
   "source": [
    "#### Declare target "
   ]
  },
  {
   "cell_type": "markdown",
   "id": "b73650fb-ece7-4005-9fd8-dd525b8779c2",
   "metadata": {},
   "source": [
    "Query for a target with a magnitud limit of Vmag of 8 and around the same area of the sky as the target source."
   ]
  },
  {
   "cell_type": "code",
   "execution_count": null,
   "id": "9d50f041-07f2-4643-bfde-18d33ee60c53",
   "metadata": {},
   "outputs": [],
   "source": [
    "cwfs_target = await script.atcs.find_target(az=180.2, el=75, mag_limit=8)\n",
    "logger.info(f'Target for CWFS with mag_lim 8 is {cwfs_target}')"
   ]
  },
  {
   "cell_type": "markdown",
   "id": "a56989dc-7038-4c42-8cbf-621b30d5cc6f",
   "metadata": {},
   "source": [
    "#### Slew to the cwfs target"
   ]
  },
  {
   "cell_type": "code",
   "execution_count": null,
   "id": "834a8435-6f5d-459c-a419-befb24767f53",
   "metadata": {},
   "outputs": [],
   "source": [
    "await script.atcs.slew_object(cwfs_target, rot_type=RotType.PhysicalSky)"
   ]
  },
  {
   "cell_type": "markdown",
   "id": "71fbb6be-1599-4d22-a58e-0adbb0f6bf6e",
   "metadata": {},
   "source": [
    "Uncomment the following line to take a snapshot to verify the target is positioned as expected "
   ]
  },
  {
   "cell_type": "code",
   "execution_count": null,
   "id": "f3731c8a-7a71-43e5-bb25-44a307c56937",
   "metadata": {},
   "outputs": [],
   "source": [
    "# exposure = await latiss.take_acq(\n",
    "#         exptime=5, n=1, filter=filter_to_use, grating='empty_0', reason='Acquisition', program=\"SITCOM-476\")\n",
    "# logger.info(f'Acquisition exposure is {exposure}')"
   ]
  },
  {
   "cell_type": "markdown",
   "id": "8fb7d675-b59e-4cab-adfd-4ab94bb690ee",
   "metadata": {},
   "source": [
    "To offset the telescope and center the source (if required) uncomment the following line. <br>\n",
    "Offsets are in detector X/Y coordinates and in arcseconds. "
   ]
  },
  {
   "cell_type": "code",
   "execution_count": null,
   "id": "78d5edf0-c3b1-45f6-8111-b43370235844",
   "metadata": {},
   "outputs": [],
   "source": [
    "# await script.atcs.offset_xy(x=20, y=20)"
   ]
  },
  {
   "cell_type": "markdown",
   "id": "87807e50-5710-45e9-b4a1-da4ca450fe54",
   "metadata": {},
   "source": [
    "### Set up configuration"
   ]
  },
  {
   "cell_type": "code",
   "execution_count": null,
   "id": "b1a776d9-6c66-42f6-a9f2-5fef17290c51",
   "metadata": {},
   "outputs": [],
   "source": [
    "configuration = yaml.safe_dump({\"filter\": filter_to_use, \n",
    "                                \"grating\": 'empty_0',\n",
    "                                \"exposure_time\": 20,})"
   ]
  },
  {
   "cell_type": "markdown",
   "id": "6fe7c085-e02c-4b17-9891-7fb2e21908ee",
   "metadata": {},
   "source": [
    "The next line is not required the first time the script is run, however, in each additional instance the cell is run, an error will be thrown if it is not included.  \n",
    "Therefore, it is included here despite being a non-operation in the first instance.  "
   ]
  },
  {
   "cell_type": "code",
   "execution_count": null,
   "id": "182f8a1c-f681-4462-b392-7ec008d3200b",
   "metadata": {},
   "outputs": [],
   "source": [
    "await script.set_state(ScriptState.UNCONFIGURED)"
   ]
  },
  {
   "cell_type": "markdown",
   "id": "f994dd6d-bdd1-4004-b65f-edd426d88e0e",
   "metadata": {},
   "source": [
    "### Put the ScriptState to CONFIGURED"
   ]
  },
  {
   "cell_type": "code",
   "execution_count": null,
   "id": "0a79ad4b-13c1-4a5c-b023-75b040b87a21",
   "metadata": {
    "tags": []
   },
   "outputs": [],
   "source": [
    "config_data = script.cmd_configure.DataType()\n",
    "config_data.config = configuration\n",
    "await script.do_configure(config_data)"
   ]
  },
  {
   "cell_type": "markdown",
   "id": "6cc86eb6-b295-4d0b-9890-02d476598b70",
   "metadata": {},
   "source": [
    "Set these script parameters to None to verify a re-reduction does not happen of the images."
   ]
  },
  {
   "cell_type": "code",
   "execution_count": null,
   "id": "35f5434a-17c5-47d4-8fb2-b499692d9266",
   "metadata": {},
   "outputs": [],
   "source": [
    "script.intra_visit_id = None\n",
    "script.extra_visit_id = None\n",
    "script.short_timeout = 10"
   ]
  },
  {
   "cell_type": "markdown",
   "id": "571bb441-c40a-4251-8c46-46ad15e63d06",
   "metadata": {
    "tags": []
   },
   "source": [
    "### Set groupID and launch the script\n",
    "This sets the same group ID for all exposures taken in the script."
   ]
  },
  {
   "cell_type": "code",
   "execution_count": null,
   "id": "08d6eb38-23a7-4968-926c-1d57707ba4a0",
   "metadata": {
    "tags": []
   },
   "outputs": [],
   "source": [
    "group_id_data = script.cmd_setGroupId.DataType(\n",
    "    groupId=astropy.time.Time.now().isot)\n",
    "\n",
    "await script.do_setGroupId(group_id_data)\n",
    "await script.arun()"
   ]
  },
  {
   "cell_type": "markdown",
   "id": "e2597145-c899-42f9-b167-ac8d8aed77d5",
   "metadata": {},
   "source": [
    "### Stop tracking:If required, then uncomment and use the following cell to stop the telescope from tracking, but you will lose your acquisition."
   ]
  },
  {
   "cell_type": "code",
   "execution_count": null,
   "id": "9e661de6-70a7-42d2-9e1e-64e420268370",
   "metadata": {},
   "outputs": [],
   "source": [
    "# await script.atcs.stop_tracking()"
   ]
  },
  {
   "cell_type": "markdown",
   "id": "39ea8e11-e822-4e7c-8a07-aa85b61e1db5",
   "metadata": {},
   "source": [
    "-------\n",
    "## Slew to target object"
   ]
  },
  {
   "cell_type": "markdown",
   "id": "4bd20528-9121-4ff5-8c3f-2ada9925e0d8",
   "metadata": {},
   "source": [
    "### Confirm that the target is correct"
   ]
  },
  {
   "cell_type": "code",
   "execution_count": 1,
   "id": "5c0339ef-f4aa-401b-92a3-de25cac32353",
   "metadata": {},
   "outputs": [
    {
     "ename": "NameError",
     "evalue": "name 'logger' is not defined",
     "output_type": "error",
     "traceback": [
      "\u001b[0;31m---------------------------------------------------------------------------\u001b[0m",
      "\u001b[0;31mNameError\u001b[0m                                 Traceback (most recent call last)",
      "Input \u001b[0;32mIn [1]\u001b[0m, in \u001b[0;36m<cell line: 1>\u001b[0;34m()\u001b[0m\n\u001b[0;32m----> 1\u001b[0m logger\u001b[38;5;241m.\u001b[39minfo(\u001b[38;5;124mf\u001b[39m\u001b[38;5;124m'\u001b[39m\u001b[38;5;124mTarget is \u001b[39m\u001b[38;5;132;01m{\u001b[39;00mtarget\u001b[38;5;132;01m}\u001b[39;00m\u001b[38;5;124m'\u001b[39m)\n",
      "\u001b[0;31mNameError\u001b[0m: name 'logger' is not defined"
     ]
    }
   ],
   "source": [
    "logger.info(f'Target is {target}')"
   ]
  },
  {
   "cell_type": "markdown",
   "id": "e04587d0-28ef-4edb-9ec2-8a8e236c5b89",
   "metadata": {},
   "source": [
    "### Slew to the target object"
   ]
  },
  {
   "cell_type": "code",
   "execution_count": null,
   "id": "20304593-1acb-4e9c-a72e-87db312a208a",
   "metadata": {},
   "outputs": [],
   "source": [
    "await script.atcs.slew_object(target, rot_type=RotType.PhysicalSky)"
   ]
  },
  {
   "cell_type": "markdown",
   "id": "fabc2846-ed33-4688-9c9e-3605b84975ac",
   "metadata": {},
   "source": [
    "To offset the telescope and move the source (if required) uncomment the following line. <br>\n",
    "Offsets are in detector X/Y coordinates and in arcseconds. "
   ]
  },
  {
   "cell_type": "code",
   "execution_count": null,
   "id": "f5ca3233-2980-4df3-8acb-39f9f5ff1d8f",
   "metadata": {},
   "outputs": [],
   "source": [
    "# await script.atcs.offset_xy(x=20, y=20)"
   ]
  },
  {
   "cell_type": "markdown",
   "id": "66b33b8d-9b73-4b15-af05-8103675f947f",
   "metadata": {},
   "source": [
    "----\n",
    "## Data Acquisition Sequence"
   ]
  },
  {
   "cell_type": "markdown",
   "id": "8df4be1d-f43d-4571-9527-685f05a23e9f",
   "metadata": {},
   "source": [
    "### Declare z offset "
   ]
  },
  {
   "cell_type": "code",
   "execution_count": null,
   "id": "d7a93c95-1521-4a10-bd93-ffa2ff50511a",
   "metadata": {},
   "outputs": [],
   "source": [
    "z_offset = 7.5"
   ]
  },
  {
   "cell_type": "markdown",
   "id": "2d266d42-c5aa-4e31-93f2-40310d4309d6",
   "metadata": {
    "tags": []
   },
   "source": [
    "### Check focus summary"
   ]
  },
  {
   "cell_type": "code",
   "execution_count": null,
   "id": "92796f29-06f5-4276-91e2-a2aa20db58f7",
   "metadata": {},
   "outputs": [],
   "source": [
    "original_focus_offset = await script.atcs.rem.ataos.evt_focusOffsetSummary.aget()\n",
    "logger.info(f'Original focus offset is \\n {original_focus_offset}')"
   ]
  },
  {
   "cell_type": "markdown",
   "id": "e34f7209-f2f4-44c1-9d20-b8968405ff3b",
   "metadata": {},
   "source": [
    "### Going extra focus with +z_offset"
   ]
  },
  {
   "cell_type": "code",
   "execution_count": null,
   "id": "b0aa7ea8-a9cf-4ce8-842a-ac513a6d24e0",
   "metadata": {},
   "outputs": [],
   "source": [
    "await script.atcs.rem.ataos.cmd_offset.set_start(z=z_offset)"
   ]
  },
  {
   "cell_type": "markdown",
   "id": "3fd588c7-5c74-412b-95dc-38699dc2f5f2",
   "metadata": {},
   "source": [
    "###  Check signal level : Take an image and make sure few thousand counts per pixel in the illuminated annulus are present. "
   ]
  },
  {
   "cell_type": "code",
   "execution_count": null,
   "id": "a9e37e72-8b98-480e-b238-fbabe9cc2835",
   "metadata": {},
   "outputs": [],
   "source": [
    "saturation_test = await latiss.take_engtest(\n",
    "        exptime=30, n=1, filter=filter_to_use, grating='empty_0', reason='Exposure_Time_Test', program = \"SITCOM-476\")\n",
    "logger.info(f'Saturation test exposure is {saturation_test}')"
   ]
  },
  {
   "cell_type": "markdown",
   "id": "112818be-fce7-4df9-b69d-d762fcd6e5a6",
   "metadata": {
    "tags": []
   },
   "source": [
    "### Data Acquisition Extra Focus"
   ]
  },
  {
   "cell_type": "code",
   "execution_count": null,
   "id": "36e7ca6d-d6d8-4e0d-bc19-427b458ce20a",
   "metadata": {
    "tags": []
   },
   "outputs": [],
   "source": [
    "extra_images = await latiss.take_focus(\n",
    "    exptime=20, n=5, filter=filter_to_use, grating='empty_0', reason='Large_Donuts_extra', program =\"SITCOM-476\")"
   ]
  },
  {
   "cell_type": "markdown",
   "id": "bb865d40-eb54-40f2-be5f-20d5f036dd1a",
   "metadata": {},
   "source": [
    "### Going intra focus with -z_offset"
   ]
  },
  {
   "cell_type": "code",
   "execution_count": null,
   "id": "d37bb586-e010-4fc6-9465-6291e4459941",
   "metadata": {},
   "outputs": [],
   "source": [
    "await script.atcs.rem.ataos.cmd_offset.set_start(z=-2*z_offset)"
   ]
  },
  {
   "cell_type": "markdown",
   "id": "97718184-6ebe-4702-a852-17cc2c1079ad",
   "metadata": {
    "tags": []
   },
   "source": [
    "### Data Acquisition Intra Focus"
   ]
  },
  {
   "cell_type": "code",
   "execution_count": null,
   "id": "e8b900db-19cf-4aa2-81ed-a4cff33418c3",
   "metadata": {
    "tags": []
   },
   "outputs": [],
   "source": [
    "extra_images = await latiss.take_focus(\n",
    "    exptime=20, n=5, filter=filter_to_use, grating='empty_0', reason='Large_Donuts_intra', program =\"SITCOM-476\")"
   ]
  },
  {
   "cell_type": "markdown",
   "id": "797432fd-3ca2-46db-b0a1-50128d3738f6",
   "metadata": {},
   "source": [
    "### Clear z-offset"
   ]
  },
  {
   "cell_type": "code",
   "execution_count": null,
   "id": "f36bbdfd-2100-4bd7-95cb-b2ee789e74a0",
   "metadata": {},
   "outputs": [],
   "source": [
    "await script.atcs.rem.ataos.cmd_offset.set_start(z=z_offset)"
   ]
  },
  {
   "cell_type": "markdown",
   "id": "e51c1384-016b-493c-97ac-544b7c2b0a76",
   "metadata": {},
   "source": [
    "### Confirm the focus offset is back to where it was and wrap up. "
   ]
  },
  {
   "cell_type": "code",
   "execution_count": null,
   "id": "50ecc81a-97bd-4550-9d06-9359585e35ae",
   "metadata": {},
   "outputs": [],
   "source": [
    "current_focus_offset = await script.atcs.rem.ataos.evt_focusOffsetSummary.aget()\n",
    "logger.info(current_focus_offset)"
   ]
  },
  {
   "cell_type": "code",
   "execution_count": null,
   "id": "193f20f9-1bac-425a-8261-9cea009118fb",
   "metadata": {},
   "outputs": [],
   "source": [
    "# Original and current focus offset's user comparison "
   ]
  },
  {
   "cell_type": "code",
   "execution_count": null,
   "id": "f8d5626a-517c-4d04-ba10-daf9389905db",
   "metadata": {},
   "outputs": [],
   "source": [
    "logger.info(f'Current {current_focus_offset.userApplied} focus vs. original {original_focus_offset.userApplied} focus offsets')"
   ]
  },
  {
   "cell_type": "code",
   "execution_count": null,
   "id": "2f6d9f5f-0fa1-4993-8925-e0de3d270770",
   "metadata": {},
   "outputs": [],
   "source": [
    "script.log.info(f'END- SITCOM-476 Large Donuts -- at {Time.now()}')"
   ]
  }
 ],
 "metadata": {
  "kernelspec": {
   "display_name": "LSST",
   "language": "python",
   "name": "lsst"
  },
  "language_info": {
   "codemirror_mode": {
    "name": "ipython",
    "version": 3
   },
   "file_extension": ".py",
   "mimetype": "text/x-python",
   "name": "python",
   "nbconvert_exporter": "python",
   "pygments_lexer": "ipython3",
   "version": "3.10.5"
  },
  "toc-autonumbering": true,
  "toc-showmarkdowntxt": false
 },
 "nbformat": 4,
 "nbformat_minor": 5
}
