{
 "cells": [
  {
   "cell_type": "code",
   "execution_count": null,
   "id": "67d5e48d-e29a-4279-9cf5-e07a9176fb4a",
   "metadata": {},
   "outputs": [],
   "source": [
    "# In this notebook the pointing model built during April's run is evaluated. "
   ]
  },
  {
   "cell_type": "markdown",
   "id": "3628a1fd-1c98-4bab-b61c-2e2f42f0dcef",
   "metadata": {},
   "source": [
    "## Pointing accuracy"
   ]
  },
  {
   "cell_type": "code",
   "execution_count": 4,
   "id": "a879d6b5-0a2b-47fa-9f4a-d9cd718fbfcc",
   "metadata": {},
   "outputs": [
    {
     "name": "stderr",
     "output_type": "stream",
     "text": [
      "\n",
      "WARNING: version mismatch between CFITSIO header (v4.000999999999999) and linked library (v4.01).\n",
      "\n",
      "\n",
      "WARNING: version mismatch between CFITSIO header (v4.000999999999999) and linked library (v4.01).\n",
      "\n",
      "\n",
      "WARNING: version mismatch between CFITSIO header (v4.000999999999999) and linked library (v4.01).\n",
      "\n"
     ]
    }
   ],
   "source": [
    "\n",
    "from lsst.pipe.tasks.quickFrameMeasurement import QuickFrameMeasurementTask\n",
    "from lsst.summit.utils.bestEffort import BestEffortIsr\n",
    "from lsst.geom import PointD\n",
    "import pandas as pd \n",
    "import numpy as np\n",
    "\n",
    "import matplotlib.pyplot as plt\n",
    "import lsst.daf.butler as dafButler\n"
   ]
  },
  {
   "cell_type": "code",
   "execution_count": 5,
   "id": "c0052fab-4c97-434d-a33b-de43e2ec16bc",
   "metadata": {},
   "outputs": [],
   "source": [
    "# Call butler\n",
    "REPO_DIR = '/repo/LATISS'\n",
    "butler = dafButler.Butler(REPO_DIR, instrument='LATISS', collections = 'LATISS/raw/all')"
   ]
  },
  {
   "cell_type": "code",
   "execution_count": 6,
   "id": "4de12b35-615b-49be-94ea-c130a088d4f8",
   "metadata": {},
   "outputs": [
    {
     "data": {
      "text/html": [
       "<pre style=\"margin: 0.1em;\n",
       "padding-left: 0.25em;\n",
       "border-left-style: solid;\n",
       "font-family: var(--jp-code-font-family);\n",
       "font-size: var(--jp-code-font-size);\n",
       "line-height: var(--jp-code-line-height);\n",
       "\"><span style=\"color: var(--jp-warn-color2)\">lsst.summit.utils.bestEffort</span> <span style=\"color: var(--jp-info-color0)\">INFO</span>: Instantiating butler with collections=[&#x27;LATISS/raw/all&#x27;, &#x27;LATISS/calib&#x27;, &#x27;LATISS/runs/quickLook&#x27;]</pre>"
      ],
      "text/plain": [
       "<IPython.core.display.HTML object>"
      ]
     },
     "metadata": {},
     "output_type": "display_data"
    }
   ],
   "source": [
    "# BestEffort ISR\n",
    "bestEffort = BestEffortIsr()\n",
    "\n",
    "# Configure quickFrameMeasurement Task\n",
    "qm_config = QuickFrameMeasurementTask.ConfigClass()\n",
    "qm = QuickFrameMeasurementTask(config=qm_config)"
   ]
  },
  {
   "cell_type": "markdown",
   "id": "1873180a-c97d-4ffe-8023-9a869e66acfb",
   "metadata": {},
   "source": [
    "# Brightest Centroid - boresight position. (Center of detector) "
   ]
  },
  {
   "cell_type": "code",
   "execution_count": 7,
   "id": "88ed71ae-7f72-4656-b729-95ffb1732c18",
   "metadata": {},
   "outputs": [],
   "source": [
    "def calculate_xy_offsets(exp):\n",
    "    pixel_scale = 0.09569  # arcsec/pixel\n",
    "    boresight_position = PointD(2036.5, 2000.5)\n",
    "    #boresight_position = PointD(2088.5, 2006.5)\n",
    "\n",
    "\n",
    "    \"\"\"Returns x/y offset in arcseconds from an exp based on current centroid\n",
    "    and desired position (which is the boresight position in pixels)\"\"\"\n",
    "\n",
    "    #Measure Centroids\n",
    "    result = qm.run(exp)\n",
    "    centroids = PointD(result.brightestObjCentroid[0], result.brightestObjCentroid[1])\n",
    "\n",
    "\n",
    "    dx_arcsec, dy_arcsec = pixel_scale * (\n",
    "        centroids - boresight_position\n",
    "    )\n",
    "\n",
    "    dr_arcsec = np.sqrt(dx_arcsec**2 + dy_arcsec**2)\n",
    "\n",
    "    return dx_arcsec, dy_arcsec, dr_arcsec"
   ]
  },
  {
   "cell_type": "code",
   "execution_count": 8,
   "id": "edf3cf1e-6ad0-42b4-9e96-f05bdad426ee",
   "metadata": {},
   "outputs": [],
   "source": [
    "def get_azel(exp):\n",
    "    info = exp.getInfo()\n",
    "    vi = info.getVisitInfo()\n",
    "    \n",
    "    azAlt = vi.getBoresightAzAlt()\n",
    "    az = azAlt[0].asDegrees()\n",
    "    el = azAlt[1].asDegrees()\n",
    "    \n",
    "    return az, el"
   ]
  },
  {
   "cell_type": "code",
   "execution_count": null,
   "id": "f1284618-610c-4bd1-bbb3-5f442f0c7adc",
   "metadata": {},
   "outputs": [],
   "source": [
    "# Exposures 2022050300186 to 2022050300243"
   ]
  },
  {
   "cell_type": "code",
   "execution_count": 9,
   "id": "8db741d4-0199-458c-8b10-134aa969df3c",
   "metadata": {
    "collapsed": true,
    "jupyter": {
     "outputs_hidden": true
    },
    "tags": []
   },
   "outputs": [
    {
     "name": "stdout",
     "output_type": "stream",
     "text": [
      "2022050500291\n"
     ]
    },
    {
     "data": {
      "text/html": [
       "<pre style=\"margin: 0.1em;\n",
       "padding-left: 0.25em;\n",
       "border-left-style: solid;\n",
       "font-family: var(--jp-code-font-family);\n",
       "font-size: var(--jp-code-font-size);\n",
       "line-height: var(--jp-code-line-height);\n",
       "\"><span style=\"color: var(--jp-warn-color2)\">lsst.summit.utils.bestEffort</span> <span style=\"color: var(--jp-info-color0)\">INFO</span>: Found a ready-made quickLookExp in the repo. Returning that.</pre>"
      ],
      "text/plain": [
       "<IPython.core.display.HTML object>"
      ]
     },
     "metadata": {},
     "output_type": "display_data"
    },
    {
     "name": "stderr",
     "output_type": "stream",
     "text": [
      "/opt/lsst/software/stack/stack/miniconda3-py38_4.9.2-3.0.0/Linux64/meas_algorithms/gf36ae6ace1+dd0c26d1c5/python/lsst/meas/algorithms/installGaussianPsf.py:77: FutureWarning: Default position argument overload is deprecated and will be removed in version 24.0.  Please explicitly specify a position.\n",
      "  psfSigma = psfModel.computeShape().getDeterminantRadius()\n",
      "/opt/lsst/software/stack/stack/miniconda3-py38_4.9.2-3.0.0/Linux64/meas_algorithms/gf36ae6ace1+dd0c26d1c5/python/lsst/meas/algorithms/installGaussianPsf.py:78: FutureWarning: Default position argument overload is deprecated and will be removed in version 24.0.  Please explicitly specify a position.\n",
      "  width, height = psfModel.computeImage().getDimensions()\n"
     ]
    },
    {
     "data": {
      "text/html": [
       "<pre style=\"margin: 0.1em;\n",
       "padding-left: 0.25em;\n",
       "border-left-style: solid;\n",
       "font-family: var(--jp-code-font-family);\n",
       "font-size: var(--jp-code-font-size);\n",
       "line-height: var(--jp-code-line-height);\n",
       "\"><span style=\"color: var(--jp-warn-color2)\">lsst.quickFrameMeasurementTask</span> <span style=\"color: var(--jp-info-color0)\">INFO</span>: Found 9 sources in exposure</pre>"
      ],
      "text/plain": [
       "<IPython.core.display.HTML object>"
      ]
     },
     "metadata": {},
     "output_type": "display_data"
    },
    {
     "data": {
      "text/html": [
       "<pre style=\"margin: 0.1em;\n",
       "padding-left: 0.25em;\n",
       "border-left-style: solid;\n",
       "font-family: var(--jp-code-font-family);\n",
       "font-size: var(--jp-code-font-size);\n",
       "line-height: var(--jp-code-line-height);\n",
       "\"><span style=\"color: var(--jp-warn-color2)\">lsst.quickFrameMeasurementTask</span> <span style=\"color: var(--jp-info-color0)\">INFO</span>: Measured 9 of 9 sources in exposure</pre>"
      ],
      "text/plain": [
       "<IPython.core.display.HTML object>"
      ]
     },
     "metadata": {},
     "output_type": "display_data"
    },
    {
     "name": "stdout",
     "output_type": "stream",
     "text": [
      "2022050500293\n"
     ]
    },
    {
     "data": {
      "text/html": [
       "<pre style=\"margin: 0.1em;\n",
       "padding-left: 0.25em;\n",
       "border-left-style: solid;\n",
       "font-family: var(--jp-code-font-family);\n",
       "font-size: var(--jp-code-font-size);\n",
       "line-height: var(--jp-code-line-height);\n",
       "\"><span style=\"color: var(--jp-warn-color2)\">lsst.summit.utils.bestEffort</span> <span style=\"color: var(--jp-info-color0)\">INFO</span>: Found a ready-made quickLookExp in the repo. Returning that.</pre>"
      ],
      "text/plain": [
       "<IPython.core.display.HTML object>"
      ]
     },
     "metadata": {},
     "output_type": "display_data"
    },
    {
     "data": {
      "text/html": [
       "<pre style=\"margin: 0.1em;\n",
       "padding-left: 0.25em;\n",
       "border-left-style: solid;\n",
       "font-family: var(--jp-code-font-family);\n",
       "font-size: var(--jp-code-font-size);\n",
       "line-height: var(--jp-code-line-height);\n",
       "\"><span style=\"color: var(--jp-warn-color2)\">lsst.quickFrameMeasurementTask</span> <span style=\"color: var(--jp-info-color0)\">INFO</span>: Found 3 sources in exposure</pre>"
      ],
      "text/plain": [
       "<IPython.core.display.HTML object>"
      ]
     },
     "metadata": {},
     "output_type": "display_data"
    },
    {
     "data": {
      "text/html": [
       "<pre style=\"margin: 0.1em;\n",
       "padding-left: 0.25em;\n",
       "border-left-style: solid;\n",
       "font-family: var(--jp-code-font-family);\n",
       "font-size: var(--jp-code-font-size);\n",
       "line-height: var(--jp-code-line-height);\n",
       "\"><span style=\"color: var(--jp-warn-color2)\">lsst.quickFrameMeasurementTask</span> <span style=\"color: var(--jp-info-color0)\">INFO</span>: Measured 3 of 3 sources in exposure</pre>"
      ],
      "text/plain": [
       "<IPython.core.display.HTML object>"
      ]
     },
     "metadata": {},
     "output_type": "display_data"
    },
    {
     "name": "stdout",
     "output_type": "stream",
     "text": [
      "2022050500295\n"
     ]
    },
    {
     "data": {
      "text/html": [
       "<pre style=\"margin: 0.1em;\n",
       "padding-left: 0.25em;\n",
       "border-left-style: solid;\n",
       "font-family: var(--jp-code-font-family);\n",
       "font-size: var(--jp-code-font-size);\n",
       "line-height: var(--jp-code-line-height);\n",
       "\"><span style=\"color: var(--jp-warn-color2)\">lsst.summit.utils.bestEffort</span> <span style=\"color: var(--jp-info-color0)\">INFO</span>: Found a ready-made quickLookExp in the repo. Returning that.</pre>"
      ],
      "text/plain": [
       "<IPython.core.display.HTML object>"
      ]
     },
     "metadata": {},
     "output_type": "display_data"
    },
    {
     "data": {
      "text/html": [
       "<pre style=\"margin: 0.1em;\n",
       "padding-left: 0.25em;\n",
       "border-left-style: solid;\n",
       "font-family: var(--jp-code-font-family);\n",
       "font-size: var(--jp-code-font-size);\n",
       "line-height: var(--jp-code-line-height);\n",
       "\"><span style=\"color: var(--jp-warn-color2)\">lsst.quickFrameMeasurementTask</span> <span style=\"color: var(--jp-info-color0)\">INFO</span>: Found 4 sources in exposure</pre>"
      ],
      "text/plain": [
       "<IPython.core.display.HTML object>"
      ]
     },
     "metadata": {},
     "output_type": "display_data"
    },
    {
     "data": {
      "text/html": [
       "<pre style=\"margin: 0.1em;\n",
       "padding-left: 0.25em;\n",
       "border-left-style: solid;\n",
       "font-family: var(--jp-code-font-family);\n",
       "font-size: var(--jp-code-font-size);\n",
       "line-height: var(--jp-code-line-height);\n",
       "\"><span style=\"color: var(--jp-warn-color2)\">lsst.quickFrameMeasurementTask</span> <span style=\"color: var(--jp-info-color0)\">INFO</span>: Measured 4 of 4 sources in exposure</pre>"
      ],
      "text/plain": [
       "<IPython.core.display.HTML object>"
      ]
     },
     "metadata": {},
     "output_type": "display_data"
    },
    {
     "name": "stdout",
     "output_type": "stream",
     "text": [
      "2022050500297\n"
     ]
    },
    {
     "data": {
      "text/html": [
       "<pre style=\"margin: 0.1em;\n",
       "padding-left: 0.25em;\n",
       "border-left-style: solid;\n",
       "font-family: var(--jp-code-font-family);\n",
       "font-size: var(--jp-code-font-size);\n",
       "line-height: var(--jp-code-line-height);\n",
       "\"><span style=\"color: var(--jp-warn-color2)\">lsst.summit.utils.bestEffort</span> <span style=\"color: var(--jp-info-color0)\">INFO</span>: Found a ready-made quickLookExp in the repo. Returning that.</pre>"
      ],
      "text/plain": [
       "<IPython.core.display.HTML object>"
      ]
     },
     "metadata": {},
     "output_type": "display_data"
    },
    {
     "data": {
      "text/html": [
       "<pre style=\"margin: 0.1em;\n",
       "padding-left: 0.25em;\n",
       "border-left-style: solid;\n",
       "font-family: var(--jp-code-font-family);\n",
       "font-size: var(--jp-code-font-size);\n",
       "line-height: var(--jp-code-line-height);\n",
       "\"><span style=\"color: var(--jp-warn-color2)\">lsst.quickFrameMeasurementTask</span> <span style=\"color: var(--jp-info-color0)\">INFO</span>: Found 4 sources in exposure</pre>"
      ],
      "text/plain": [
       "<IPython.core.display.HTML object>"
      ]
     },
     "metadata": {},
     "output_type": "display_data"
    },
    {
     "data": {
      "text/html": [
       "<pre style=\"margin: 0.1em;\n",
       "padding-left: 0.25em;\n",
       "border-left-style: solid;\n",
       "font-family: var(--jp-code-font-family);\n",
       "font-size: var(--jp-code-font-size);\n",
       "line-height: var(--jp-code-line-height);\n",
       "\"><span style=\"color: var(--jp-warn-color2)\">lsst.quickFrameMeasurementTask</span> <span style=\"color: var(--jp-info-color0)\">INFO</span>: Measured 4 of 4 sources in exposure</pre>"
      ],
      "text/plain": [
       "<IPython.core.display.HTML object>"
      ]
     },
     "metadata": {},
     "output_type": "display_data"
    },
    {
     "name": "stdout",
     "output_type": "stream",
     "text": [
      "2022050500299\n"
     ]
    },
    {
     "data": {
      "text/html": [
       "<pre style=\"margin: 0.1em;\n",
       "padding-left: 0.25em;\n",
       "border-left-style: solid;\n",
       "font-family: var(--jp-code-font-family);\n",
       "font-size: var(--jp-code-font-size);\n",
       "line-height: var(--jp-code-line-height);\n",
       "\"><span style=\"color: var(--jp-warn-color2)\">lsst.summit.utils.bestEffort</span> <span style=\"color: var(--jp-info-color0)\">INFO</span>: Found a ready-made quickLookExp in the repo. Returning that.</pre>"
      ],
      "text/plain": [
       "<IPython.core.display.HTML object>"
      ]
     },
     "metadata": {},
     "output_type": "display_data"
    },
    {
     "data": {
      "text/html": [
       "<pre style=\"margin: 0.1em;\n",
       "padding-left: 0.25em;\n",
       "border-left-style: solid;\n",
       "font-family: var(--jp-code-font-family);\n",
       "font-size: var(--jp-code-font-size);\n",
       "line-height: var(--jp-code-line-height);\n",
       "\"><span style=\"color: var(--jp-warn-color2)\">lsst.quickFrameMeasurementTask</span> <span style=\"color: var(--jp-info-color0)\">INFO</span>: Found 4 sources in exposure</pre>"
      ],
      "text/plain": [
       "<IPython.core.display.HTML object>"
      ]
     },
     "metadata": {},
     "output_type": "display_data"
    },
    {
     "data": {
      "text/html": [
       "<pre style=\"margin: 0.1em;\n",
       "padding-left: 0.25em;\n",
       "border-left-style: solid;\n",
       "font-family: var(--jp-code-font-family);\n",
       "font-size: var(--jp-code-font-size);\n",
       "line-height: var(--jp-code-line-height);\n",
       "\"><span style=\"color: var(--jp-warn-color2)\">lsst.quickFrameMeasurementTask</span> <span style=\"color: var(--jp-info-color0)\">INFO</span>: Measured 4 of 4 sources in exposure</pre>"
      ],
      "text/plain": [
       "<IPython.core.display.HTML object>"
      ]
     },
     "metadata": {},
     "output_type": "display_data"
    },
    {
     "name": "stdout",
     "output_type": "stream",
     "text": [
      "2022050500301\n"
     ]
    },
    {
     "data": {
      "text/html": [
       "<pre style=\"margin: 0.1em;\n",
       "padding-left: 0.25em;\n",
       "border-left-style: solid;\n",
       "font-family: var(--jp-code-font-family);\n",
       "font-size: var(--jp-code-font-size);\n",
       "line-height: var(--jp-code-line-height);\n",
       "\"><span style=\"color: var(--jp-warn-color2)\">lsst.summit.utils.bestEffort</span> <span style=\"color: var(--jp-info-color0)\">INFO</span>: Found a ready-made quickLookExp in the repo. Returning that.</pre>"
      ],
      "text/plain": [
       "<IPython.core.display.HTML object>"
      ]
     },
     "metadata": {},
     "output_type": "display_data"
    },
    {
     "data": {
      "text/html": [
       "<pre style=\"margin: 0.1em;\n",
       "padding-left: 0.25em;\n",
       "border-left-style: solid;\n",
       "font-family: var(--jp-code-font-family);\n",
       "font-size: var(--jp-code-font-size);\n",
       "line-height: var(--jp-code-line-height);\n",
       "\"><span style=\"color: var(--jp-warn-color2)\">lsst.quickFrameMeasurementTask</span> <span style=\"color: var(--jp-info-color0)\">INFO</span>: Found 3 sources in exposure</pre>"
      ],
      "text/plain": [
       "<IPython.core.display.HTML object>"
      ]
     },
     "metadata": {},
     "output_type": "display_data"
    },
    {
     "data": {
      "text/html": [
       "<pre style=\"margin: 0.1em;\n",
       "padding-left: 0.25em;\n",
       "border-left-style: solid;\n",
       "font-family: var(--jp-code-font-family);\n",
       "font-size: var(--jp-code-font-size);\n",
       "line-height: var(--jp-code-line-height);\n",
       "\"><span style=\"color: var(--jp-warn-color2)\">lsst.quickFrameMeasurementTask</span> <span style=\"color: var(--jp-info-color0)\">INFO</span>: Measured 3 of 3 sources in exposure</pre>"
      ],
      "text/plain": [
       "<IPython.core.display.HTML object>"
      ]
     },
     "metadata": {},
     "output_type": "display_data"
    },
    {
     "name": "stdout",
     "output_type": "stream",
     "text": [
      "2022050500303\n"
     ]
    },
    {
     "data": {
      "text/html": [
       "<pre style=\"margin: 0.1em;\n",
       "padding-left: 0.25em;\n",
       "border-left-style: solid;\n",
       "font-family: var(--jp-code-font-family);\n",
       "font-size: var(--jp-code-font-size);\n",
       "line-height: var(--jp-code-line-height);\n",
       "\"><span style=\"color: var(--jp-warn-color2)\">lsst.summit.utils.bestEffort</span> <span style=\"color: var(--jp-info-color0)\">INFO</span>: Found a ready-made quickLookExp in the repo. Returning that.</pre>"
      ],
      "text/plain": [
       "<IPython.core.display.HTML object>"
      ]
     },
     "metadata": {},
     "output_type": "display_data"
    },
    {
     "data": {
      "text/html": [
       "<pre style=\"margin: 0.1em;\n",
       "padding-left: 0.25em;\n",
       "border-left-style: solid;\n",
       "font-family: var(--jp-code-font-family);\n",
       "font-size: var(--jp-code-font-size);\n",
       "line-height: var(--jp-code-line-height);\n",
       "\"><span style=\"color: var(--jp-warn-color2)\">lsst.quickFrameMeasurementTask</span> <span style=\"color: var(--jp-info-color0)\">INFO</span>: Found 4 sources in exposure</pre>"
      ],
      "text/plain": [
       "<IPython.core.display.HTML object>"
      ]
     },
     "metadata": {},
     "output_type": "display_data"
    },
    {
     "data": {
      "text/html": [
       "<pre style=\"margin: 0.1em;\n",
       "padding-left: 0.25em;\n",
       "border-left-style: solid;\n",
       "font-family: var(--jp-code-font-family);\n",
       "font-size: var(--jp-code-font-size);\n",
       "line-height: var(--jp-code-line-height);\n",
       "\"><span style=\"color: var(--jp-warn-color2)\">lsst.quickFrameMeasurementTask</span> <span style=\"color: var(--jp-info-color0)\">INFO</span>: Measured 4 of 4 sources in exposure</pre>"
      ],
      "text/plain": [
       "<IPython.core.display.HTML object>"
      ]
     },
     "metadata": {},
     "output_type": "display_data"
    },
    {
     "name": "stdout",
     "output_type": "stream",
     "text": [
      "2022050500305\n"
     ]
    },
    {
     "data": {
      "text/html": [
       "<pre style=\"margin: 0.1em;\n",
       "padding-left: 0.25em;\n",
       "border-left-style: solid;\n",
       "font-family: var(--jp-code-font-family);\n",
       "font-size: var(--jp-code-font-size);\n",
       "line-height: var(--jp-code-line-height);\n",
       "\"><span style=\"color: var(--jp-warn-color2)\">lsst.summit.utils.bestEffort</span> <span style=\"color: var(--jp-info-color0)\">INFO</span>: Found a ready-made quickLookExp in the repo. Returning that.</pre>"
      ],
      "text/plain": [
       "<IPython.core.display.HTML object>"
      ]
     },
     "metadata": {},
     "output_type": "display_data"
    },
    {
     "data": {
      "text/html": [
       "<pre style=\"margin: 0.1em;\n",
       "padding-left: 0.25em;\n",
       "border-left-style: solid;\n",
       "font-family: var(--jp-code-font-family);\n",
       "font-size: var(--jp-code-font-size);\n",
       "line-height: var(--jp-code-line-height);\n",
       "\"><span style=\"color: var(--jp-warn-color2)\">lsst.quickFrameMeasurementTask</span> <span style=\"color: var(--jp-info-color0)\">INFO</span>: Found 4 sources in exposure</pre>"
      ],
      "text/plain": [
       "<IPython.core.display.HTML object>"
      ]
     },
     "metadata": {},
     "output_type": "display_data"
    },
    {
     "data": {
      "text/html": [
       "<pre style=\"margin: 0.1em;\n",
       "padding-left: 0.25em;\n",
       "border-left-style: solid;\n",
       "font-family: var(--jp-code-font-family);\n",
       "font-size: var(--jp-code-font-size);\n",
       "line-height: var(--jp-code-line-height);\n",
       "\"><span style=\"color: var(--jp-warn-color2)\">lsst.quickFrameMeasurementTask</span> <span style=\"color: var(--jp-info-color0)\">INFO</span>: Measured 4 of 4 sources in exposure</pre>"
      ],
      "text/plain": [
       "<IPython.core.display.HTML object>"
      ]
     },
     "metadata": {},
     "output_type": "display_data"
    },
    {
     "name": "stdout",
     "output_type": "stream",
     "text": [
      "2022050500307\n"
     ]
    },
    {
     "data": {
      "text/html": [
       "<pre style=\"margin: 0.1em;\n",
       "padding-left: 0.25em;\n",
       "border-left-style: solid;\n",
       "font-family: var(--jp-code-font-family);\n",
       "font-size: var(--jp-code-font-size);\n",
       "line-height: var(--jp-code-line-height);\n",
       "\"><span style=\"color: var(--jp-warn-color2)\">lsst.summit.utils.bestEffort</span> <span style=\"color: var(--jp-info-color0)\">INFO</span>: Found a ready-made quickLookExp in the repo. Returning that.</pre>"
      ],
      "text/plain": [
       "<IPython.core.display.HTML object>"
      ]
     },
     "metadata": {},
     "output_type": "display_data"
    },
    {
     "data": {
      "text/html": [
       "<pre style=\"margin: 0.1em;\n",
       "padding-left: 0.25em;\n",
       "border-left-style: solid;\n",
       "font-family: var(--jp-code-font-family);\n",
       "font-size: var(--jp-code-font-size);\n",
       "line-height: var(--jp-code-line-height);\n",
       "\"><span style=\"color: var(--jp-warn-color2)\">lsst.quickFrameMeasurementTask</span> <span style=\"color: var(--jp-info-color0)\">INFO</span>: Found 3 sources in exposure</pre>"
      ],
      "text/plain": [
       "<IPython.core.display.HTML object>"
      ]
     },
     "metadata": {},
     "output_type": "display_data"
    },
    {
     "data": {
      "text/html": [
       "<pre style=\"margin: 0.1em;\n",
       "padding-left: 0.25em;\n",
       "border-left-style: solid;\n",
       "font-family: var(--jp-code-font-family);\n",
       "font-size: var(--jp-code-font-size);\n",
       "line-height: var(--jp-code-line-height);\n",
       "\"><span style=\"color: var(--jp-warn-color2)\">lsst.quickFrameMeasurementTask</span> <span style=\"color: var(--jp-info-color0)\">INFO</span>: Measured 3 of 3 sources in exposure</pre>"
      ],
      "text/plain": [
       "<IPython.core.display.HTML object>"
      ]
     },
     "metadata": {},
     "output_type": "display_data"
    },
    {
     "name": "stdout",
     "output_type": "stream",
     "text": [
      "2022050500309\n"
     ]
    },
    {
     "data": {
      "text/html": [
       "<pre style=\"margin: 0.1em;\n",
       "padding-left: 0.25em;\n",
       "border-left-style: solid;\n",
       "font-family: var(--jp-code-font-family);\n",
       "font-size: var(--jp-code-font-size);\n",
       "line-height: var(--jp-code-line-height);\n",
       "\"><span style=\"color: var(--jp-warn-color2)\">lsst.summit.utils.bestEffort</span> <span style=\"color: var(--jp-info-color0)\">INFO</span>: Found a ready-made quickLookExp in the repo. Returning that.</pre>"
      ],
      "text/plain": [
       "<IPython.core.display.HTML object>"
      ]
     },
     "metadata": {},
     "output_type": "display_data"
    },
    {
     "data": {
      "text/html": [
       "<pre style=\"margin: 0.1em;\n",
       "padding-left: 0.25em;\n",
       "border-left-style: solid;\n",
       "font-family: var(--jp-code-font-family);\n",
       "font-size: var(--jp-code-font-size);\n",
       "line-height: var(--jp-code-line-height);\n",
       "\"><span style=\"color: var(--jp-warn-color2)\">lsst.quickFrameMeasurementTask</span> <span style=\"color: var(--jp-info-color0)\">INFO</span>: Found 6 sources in exposure</pre>"
      ],
      "text/plain": [
       "<IPython.core.display.HTML object>"
      ]
     },
     "metadata": {},
     "output_type": "display_data"
    },
    {
     "data": {
      "text/html": [
       "<pre style=\"margin: 0.1em;\n",
       "padding-left: 0.25em;\n",
       "border-left-style: solid;\n",
       "font-family: var(--jp-code-font-family);\n",
       "font-size: var(--jp-code-font-size);\n",
       "line-height: var(--jp-code-line-height);\n",
       "\"><span style=\"color: var(--jp-warn-color2)\">lsst.quickFrameMeasurementTask</span> <span style=\"color: var(--jp-info-color0)\">INFO</span>: Measured 6 of 6 sources in exposure</pre>"
      ],
      "text/plain": [
       "<IPython.core.display.HTML object>"
      ]
     },
     "metadata": {},
     "output_type": "display_data"
    },
    {
     "name": "stdout",
     "output_type": "stream",
     "text": [
      "2022050500311\n"
     ]
    },
    {
     "data": {
      "text/html": [
       "<pre style=\"margin: 0.1em;\n",
       "padding-left: 0.25em;\n",
       "border-left-style: solid;\n",
       "font-family: var(--jp-code-font-family);\n",
       "font-size: var(--jp-code-font-size);\n",
       "line-height: var(--jp-code-line-height);\n",
       "\"><span style=\"color: var(--jp-warn-color2)\">lsst.summit.utils.bestEffort</span> <span style=\"color: var(--jp-info-color0)\">INFO</span>: Found a ready-made quickLookExp in the repo. Returning that.</pre>"
      ],
      "text/plain": [
       "<IPython.core.display.HTML object>"
      ]
     },
     "metadata": {},
     "output_type": "display_data"
    },
    {
     "data": {
      "text/html": [
       "<pre style=\"margin: 0.1em;\n",
       "padding-left: 0.25em;\n",
       "border-left-style: solid;\n",
       "font-family: var(--jp-code-font-family);\n",
       "font-size: var(--jp-code-font-size);\n",
       "line-height: var(--jp-code-line-height);\n",
       "\"><span style=\"color: var(--jp-warn-color2)\">lsst.quickFrameMeasurementTask</span> <span style=\"color: var(--jp-info-color0)\">INFO</span>: Found 3 sources in exposure</pre>"
      ],
      "text/plain": [
       "<IPython.core.display.HTML object>"
      ]
     },
     "metadata": {},
     "output_type": "display_data"
    },
    {
     "data": {
      "text/html": [
       "<pre style=\"margin: 0.1em;\n",
       "padding-left: 0.25em;\n",
       "border-left-style: solid;\n",
       "font-family: var(--jp-code-font-family);\n",
       "font-size: var(--jp-code-font-size);\n",
       "line-height: var(--jp-code-line-height);\n",
       "\"><span style=\"color: var(--jp-warn-color2)\">lsst.quickFrameMeasurementTask</span> <span style=\"color: var(--jp-info-color0)\">INFO</span>: Measured 3 of 3 sources in exposure</pre>"
      ],
      "text/plain": [
       "<IPython.core.display.HTML object>"
      ]
     },
     "metadata": {},
     "output_type": "display_data"
    },
    {
     "name": "stdout",
     "output_type": "stream",
     "text": [
      "2022050500313\n"
     ]
    },
    {
     "data": {
      "text/html": [
       "<pre style=\"margin: 0.1em;\n",
       "padding-left: 0.25em;\n",
       "border-left-style: solid;\n",
       "font-family: var(--jp-code-font-family);\n",
       "font-size: var(--jp-code-font-size);\n",
       "line-height: var(--jp-code-line-height);\n",
       "\"><span style=\"color: var(--jp-warn-color2)\">lsst.summit.utils.bestEffort</span> <span style=\"color: var(--jp-info-color0)\">INFO</span>: Found a ready-made quickLookExp in the repo. Returning that.</pre>"
      ],
      "text/plain": [
       "<IPython.core.display.HTML object>"
      ]
     },
     "metadata": {},
     "output_type": "display_data"
    },
    {
     "data": {
      "text/html": [
       "<pre style=\"margin: 0.1em;\n",
       "padding-left: 0.25em;\n",
       "border-left-style: solid;\n",
       "font-family: var(--jp-code-font-family);\n",
       "font-size: var(--jp-code-font-size);\n",
       "line-height: var(--jp-code-line-height);\n",
       "\"><span style=\"color: var(--jp-warn-color2)\">lsst.quickFrameMeasurementTask</span> <span style=\"color: var(--jp-info-color0)\">INFO</span>: Found 3 sources in exposure</pre>"
      ],
      "text/plain": [
       "<IPython.core.display.HTML object>"
      ]
     },
     "metadata": {},
     "output_type": "display_data"
    },
    {
     "data": {
      "text/html": [
       "<pre style=\"margin: 0.1em;\n",
       "padding-left: 0.25em;\n",
       "border-left-style: solid;\n",
       "font-family: var(--jp-code-font-family);\n",
       "font-size: var(--jp-code-font-size);\n",
       "line-height: var(--jp-code-line-height);\n",
       "\"><span style=\"color: var(--jp-warn-color2)\">lsst.quickFrameMeasurementTask</span> <span style=\"color: var(--jp-info-color0)\">INFO</span>: Measured 3 of 3 sources in exposure</pre>"
      ],
      "text/plain": [
       "<IPython.core.display.HTML object>"
      ]
     },
     "metadata": {},
     "output_type": "display_data"
    },
    {
     "name": "stdout",
     "output_type": "stream",
     "text": [
      "2022050500315\n"
     ]
    },
    {
     "data": {
      "text/html": [
       "<pre style=\"margin: 0.1em;\n",
       "padding-left: 0.25em;\n",
       "border-left-style: solid;\n",
       "font-family: var(--jp-code-font-family);\n",
       "font-size: var(--jp-code-font-size);\n",
       "line-height: var(--jp-code-line-height);\n",
       "\"><span style=\"color: var(--jp-warn-color2)\">lsst.summit.utils.bestEffort</span> <span style=\"color: var(--jp-info-color0)\">INFO</span>: Found a ready-made quickLookExp in the repo. Returning that.</pre>"
      ],
      "text/plain": [
       "<IPython.core.display.HTML object>"
      ]
     },
     "metadata": {},
     "output_type": "display_data"
    },
    {
     "data": {
      "text/html": [
       "<pre style=\"margin: 0.1em;\n",
       "padding-left: 0.25em;\n",
       "border-left-style: solid;\n",
       "font-family: var(--jp-code-font-family);\n",
       "font-size: var(--jp-code-font-size);\n",
       "line-height: var(--jp-code-line-height);\n",
       "\"><span style=\"color: var(--jp-warn-color2)\">lsst.quickFrameMeasurementTask</span> <span style=\"color: var(--jp-info-color0)\">INFO</span>: Found 3 sources in exposure</pre>"
      ],
      "text/plain": [
       "<IPython.core.display.HTML object>"
      ]
     },
     "metadata": {},
     "output_type": "display_data"
    },
    {
     "data": {
      "text/html": [
       "<pre style=\"margin: 0.1em;\n",
       "padding-left: 0.25em;\n",
       "border-left-style: solid;\n",
       "font-family: var(--jp-code-font-family);\n",
       "font-size: var(--jp-code-font-size);\n",
       "line-height: var(--jp-code-line-height);\n",
       "\"><span style=\"color: var(--jp-warn-color2)\">lsst.quickFrameMeasurementTask</span> <span style=\"color: var(--jp-info-color0)\">INFO</span>: Measured 3 of 3 sources in exposure</pre>"
      ],
      "text/plain": [
       "<IPython.core.display.HTML object>"
      ]
     },
     "metadata": {},
     "output_type": "display_data"
    },
    {
     "name": "stdout",
     "output_type": "stream",
     "text": [
      "2022050500317\n"
     ]
    },
    {
     "data": {
      "text/html": [
       "<pre style=\"margin: 0.1em;\n",
       "padding-left: 0.25em;\n",
       "border-left-style: solid;\n",
       "font-family: var(--jp-code-font-family);\n",
       "font-size: var(--jp-code-font-size);\n",
       "line-height: var(--jp-code-line-height);\n",
       "\"><span style=\"color: var(--jp-warn-color2)\">lsst.summit.utils.bestEffort</span> <span style=\"color: var(--jp-info-color0)\">INFO</span>: Found a ready-made quickLookExp in the repo. Returning that.</pre>"
      ],
      "text/plain": [
       "<IPython.core.display.HTML object>"
      ]
     },
     "metadata": {},
     "output_type": "display_data"
    },
    {
     "data": {
      "text/html": [
       "<pre style=\"margin: 0.1em;\n",
       "padding-left: 0.25em;\n",
       "border-left-style: solid;\n",
       "font-family: var(--jp-code-font-family);\n",
       "font-size: var(--jp-code-font-size);\n",
       "line-height: var(--jp-code-line-height);\n",
       "\"><span style=\"color: var(--jp-warn-color2)\">lsst.quickFrameMeasurementTask</span> <span style=\"color: var(--jp-info-color0)\">INFO</span>: Found 3 sources in exposure</pre>"
      ],
      "text/plain": [
       "<IPython.core.display.HTML object>"
      ]
     },
     "metadata": {},
     "output_type": "display_data"
    },
    {
     "data": {
      "text/html": [
       "<pre style=\"margin: 0.1em;\n",
       "padding-left: 0.25em;\n",
       "border-left-style: solid;\n",
       "font-family: var(--jp-code-font-family);\n",
       "font-size: var(--jp-code-font-size);\n",
       "line-height: var(--jp-code-line-height);\n",
       "\"><span style=\"color: var(--jp-warn-color2)\">lsst.quickFrameMeasurementTask</span> <span style=\"color: var(--jp-info-color0)\">INFO</span>: Measured 3 of 3 sources in exposure</pre>"
      ],
      "text/plain": [
       "<IPython.core.display.HTML object>"
      ]
     },
     "metadata": {},
     "output_type": "display_data"
    },
    {
     "name": "stdout",
     "output_type": "stream",
     "text": [
      "2022050500319\n"
     ]
    },
    {
     "data": {
      "text/html": [
       "<pre style=\"margin: 0.1em;\n",
       "padding-left: 0.25em;\n",
       "border-left-style: solid;\n",
       "font-family: var(--jp-code-font-family);\n",
       "font-size: var(--jp-code-font-size);\n",
       "line-height: var(--jp-code-line-height);\n",
       "\"><span style=\"color: var(--jp-warn-color2)\">lsst.summit.utils.bestEffort</span> <span style=\"color: var(--jp-info-color0)\">INFO</span>: Found a ready-made quickLookExp in the repo. Returning that.</pre>"
      ],
      "text/plain": [
       "<IPython.core.display.HTML object>"
      ]
     },
     "metadata": {},
     "output_type": "display_data"
    },
    {
     "data": {
      "text/html": [
       "<pre style=\"margin: 0.1em;\n",
       "padding-left: 0.25em;\n",
       "border-left-style: solid;\n",
       "font-family: var(--jp-code-font-family);\n",
       "font-size: var(--jp-code-font-size);\n",
       "line-height: var(--jp-code-line-height);\n",
       "\"><span style=\"color: var(--jp-warn-color2)\">lsst.quickFrameMeasurementTask</span> <span style=\"color: var(--jp-info-color0)\">INFO</span>: Found 3 sources in exposure</pre>"
      ],
      "text/plain": [
       "<IPython.core.display.HTML object>"
      ]
     },
     "metadata": {},
     "output_type": "display_data"
    },
    {
     "data": {
      "text/html": [
       "<pre style=\"margin: 0.1em;\n",
       "padding-left: 0.25em;\n",
       "border-left-style: solid;\n",
       "font-family: var(--jp-code-font-family);\n",
       "font-size: var(--jp-code-font-size);\n",
       "line-height: var(--jp-code-line-height);\n",
       "\"><span style=\"color: var(--jp-warn-color2)\">lsst.quickFrameMeasurementTask</span> <span style=\"color: var(--jp-info-color0)\">INFO</span>: Measured 3 of 3 sources in exposure</pre>"
      ],
      "text/plain": [
       "<IPython.core.display.HTML object>"
      ]
     },
     "metadata": {},
     "output_type": "display_data"
    },
    {
     "name": "stdout",
     "output_type": "stream",
     "text": [
      "2022050500321\n"
     ]
    },
    {
     "data": {
      "text/html": [
       "<pre style=\"margin: 0.1em;\n",
       "padding-left: 0.25em;\n",
       "border-left-style: solid;\n",
       "font-family: var(--jp-code-font-family);\n",
       "font-size: var(--jp-code-font-size);\n",
       "line-height: var(--jp-code-line-height);\n",
       "\"><span style=\"color: var(--jp-warn-color2)\">lsst.summit.utils.bestEffort</span> <span style=\"color: var(--jp-info-color0)\">INFO</span>: Found a ready-made quickLookExp in the repo. Returning that.</pre>"
      ],
      "text/plain": [
       "<IPython.core.display.HTML object>"
      ]
     },
     "metadata": {},
     "output_type": "display_data"
    },
    {
     "data": {
      "text/html": [
       "<pre style=\"margin: 0.1em;\n",
       "padding-left: 0.25em;\n",
       "border-left-style: solid;\n",
       "font-family: var(--jp-code-font-family);\n",
       "font-size: var(--jp-code-font-size);\n",
       "line-height: var(--jp-code-line-height);\n",
       "\"><span style=\"color: var(--jp-warn-color2)\">lsst.quickFrameMeasurementTask</span> <span style=\"color: var(--jp-info-color0)\">INFO</span>: Found 1 sources in exposure</pre>"
      ],
      "text/plain": [
       "<IPython.core.display.HTML object>"
      ]
     },
     "metadata": {},
     "output_type": "display_data"
    },
    {
     "data": {
      "text/html": [
       "<pre style=\"margin: 0.1em;\n",
       "padding-left: 0.25em;\n",
       "border-left-style: solid;\n",
       "font-family: var(--jp-code-font-family);\n",
       "font-size: var(--jp-code-font-size);\n",
       "line-height: var(--jp-code-line-height);\n",
       "\"><span style=\"color: var(--jp-warn-color2)\">lsst.quickFrameMeasurementTask</span> <span style=\"color: var(--jp-info-color0)\">INFO</span>: Measured 1 of 1 sources in exposure</pre>"
      ],
      "text/plain": [
       "<IPython.core.display.HTML object>"
      ]
     },
     "metadata": {},
     "output_type": "display_data"
    },
    {
     "name": "stdout",
     "output_type": "stream",
     "text": [
      "2022050500323\n"
     ]
    },
    {
     "data": {
      "text/html": [
       "<pre style=\"margin: 0.1em;\n",
       "padding-left: 0.25em;\n",
       "border-left-style: solid;\n",
       "font-family: var(--jp-code-font-family);\n",
       "font-size: var(--jp-code-font-size);\n",
       "line-height: var(--jp-code-line-height);\n",
       "\"><span style=\"color: var(--jp-warn-color2)\">lsst.summit.utils.bestEffort</span> <span style=\"color: var(--jp-info-color0)\">INFO</span>: Found a ready-made quickLookExp in the repo. Returning that.</pre>"
      ],
      "text/plain": [
       "<IPython.core.display.HTML object>"
      ]
     },
     "metadata": {},
     "output_type": "display_data"
    },
    {
     "data": {
      "text/html": [
       "<pre style=\"margin: 0.1em;\n",
       "padding-left: 0.25em;\n",
       "border-left-style: solid;\n",
       "font-family: var(--jp-code-font-family);\n",
       "font-size: var(--jp-code-font-size);\n",
       "line-height: var(--jp-code-line-height);\n",
       "\"><span style=\"color: var(--jp-warn-color2)\">lsst.quickFrameMeasurementTask</span> <span style=\"color: var(--jp-info-color0)\">INFO</span>: Found 4 sources in exposure</pre>"
      ],
      "text/plain": [
       "<IPython.core.display.HTML object>"
      ]
     },
     "metadata": {},
     "output_type": "display_data"
    },
    {
     "data": {
      "text/html": [
       "<pre style=\"margin: 0.1em;\n",
       "padding-left: 0.25em;\n",
       "border-left-style: solid;\n",
       "font-family: var(--jp-code-font-family);\n",
       "font-size: var(--jp-code-font-size);\n",
       "line-height: var(--jp-code-line-height);\n",
       "\"><span style=\"color: var(--jp-warn-color2)\">lsst.quickFrameMeasurementTask</span> <span style=\"color: var(--jp-info-color0)\">INFO</span>: Measured 4 of 4 sources in exposure</pre>"
      ],
      "text/plain": [
       "<IPython.core.display.HTML object>"
      ]
     },
     "metadata": {},
     "output_type": "display_data"
    },
    {
     "name": "stdout",
     "output_type": "stream",
     "text": [
      "2022050500325\n"
     ]
    },
    {
     "data": {
      "text/html": [
       "<pre style=\"margin: 0.1em;\n",
       "padding-left: 0.25em;\n",
       "border-left-style: solid;\n",
       "font-family: var(--jp-code-font-family);\n",
       "font-size: var(--jp-code-font-size);\n",
       "line-height: var(--jp-code-line-height);\n",
       "\"><span style=\"color: var(--jp-warn-color2)\">lsst.summit.utils.bestEffort</span> <span style=\"color: var(--jp-info-color0)\">INFO</span>: Found a ready-made quickLookExp in the repo. Returning that.</pre>"
      ],
      "text/plain": [
       "<IPython.core.display.HTML object>"
      ]
     },
     "metadata": {},
     "output_type": "display_data"
    },
    {
     "data": {
      "text/html": [
       "<pre style=\"margin: 0.1em;\n",
       "padding-left: 0.25em;\n",
       "border-left-style: solid;\n",
       "font-family: var(--jp-code-font-family);\n",
       "font-size: var(--jp-code-font-size);\n",
       "line-height: var(--jp-code-line-height);\n",
       "\"><span style=\"color: var(--jp-warn-color2)\">lsst.quickFrameMeasurementTask</span> <span style=\"color: var(--jp-info-color0)\">INFO</span>: Found 4 sources in exposure</pre>"
      ],
      "text/plain": [
       "<IPython.core.display.HTML object>"
      ]
     },
     "metadata": {},
     "output_type": "display_data"
    },
    {
     "data": {
      "text/html": [
       "<pre style=\"margin: 0.1em;\n",
       "padding-left: 0.25em;\n",
       "border-left-style: solid;\n",
       "font-family: var(--jp-code-font-family);\n",
       "font-size: var(--jp-code-font-size);\n",
       "line-height: var(--jp-code-line-height);\n",
       "\"><span style=\"color: var(--jp-warn-color2)\">lsst.quickFrameMeasurementTask</span> <span style=\"color: var(--jp-info-color0)\">INFO</span>: Measured 4 of 4 sources in exposure</pre>"
      ],
      "text/plain": [
       "<IPython.core.display.HTML object>"
      ]
     },
     "metadata": {},
     "output_type": "display_data"
    },
    {
     "name": "stdout",
     "output_type": "stream",
     "text": [
      "2022050500327\n"
     ]
    },
    {
     "data": {
      "text/html": [
       "<pre style=\"margin: 0.1em;\n",
       "padding-left: 0.25em;\n",
       "border-left-style: solid;\n",
       "font-family: var(--jp-code-font-family);\n",
       "font-size: var(--jp-code-font-size);\n",
       "line-height: var(--jp-code-line-height);\n",
       "\"><span style=\"color: var(--jp-warn-color2)\">lsst.summit.utils.bestEffort</span> <span style=\"color: var(--jp-info-color0)\">INFO</span>: Found a ready-made quickLookExp in the repo. Returning that.</pre>"
      ],
      "text/plain": [
       "<IPython.core.display.HTML object>"
      ]
     },
     "metadata": {},
     "output_type": "display_data"
    },
    {
     "data": {
      "text/html": [
       "<pre style=\"margin: 0.1em;\n",
       "padding-left: 0.25em;\n",
       "border-left-style: solid;\n",
       "font-family: var(--jp-code-font-family);\n",
       "font-size: var(--jp-code-font-size);\n",
       "line-height: var(--jp-code-line-height);\n",
       "\"><span style=\"color: var(--jp-warn-color2)\">lsst.quickFrameMeasurementTask</span> <span style=\"color: var(--jp-info-color0)\">INFO</span>: Found 3 sources in exposure</pre>"
      ],
      "text/plain": [
       "<IPython.core.display.HTML object>"
      ]
     },
     "metadata": {},
     "output_type": "display_data"
    },
    {
     "data": {
      "text/html": [
       "<pre style=\"margin: 0.1em;\n",
       "padding-left: 0.25em;\n",
       "border-left-style: solid;\n",
       "font-family: var(--jp-code-font-family);\n",
       "font-size: var(--jp-code-font-size);\n",
       "line-height: var(--jp-code-line-height);\n",
       "\"><span style=\"color: var(--jp-warn-color2)\">lsst.quickFrameMeasurementTask</span> <span style=\"color: var(--jp-info-color0)\">INFO</span>: Measured 3 of 3 sources in exposure</pre>"
      ],
      "text/plain": [
       "<IPython.core.display.HTML object>"
      ]
     },
     "metadata": {},
     "output_type": "display_data"
    },
    {
     "name": "stdout",
     "output_type": "stream",
     "text": [
      "2022050500329\n"
     ]
    },
    {
     "data": {
      "text/html": [
       "<pre style=\"margin: 0.1em;\n",
       "padding-left: 0.25em;\n",
       "border-left-style: solid;\n",
       "font-family: var(--jp-code-font-family);\n",
       "font-size: var(--jp-code-font-size);\n",
       "line-height: var(--jp-code-line-height);\n",
       "\"><span style=\"color: var(--jp-warn-color2)\">lsst.summit.utils.bestEffort</span> <span style=\"color: var(--jp-info-color0)\">INFO</span>: Found a ready-made quickLookExp in the repo. Returning that.</pre>"
      ],
      "text/plain": [
       "<IPython.core.display.HTML object>"
      ]
     },
     "metadata": {},
     "output_type": "display_data"
    },
    {
     "data": {
      "text/html": [
       "<pre style=\"margin: 0.1em;\n",
       "padding-left: 0.25em;\n",
       "border-left-style: solid;\n",
       "font-family: var(--jp-code-font-family);\n",
       "font-size: var(--jp-code-font-size);\n",
       "line-height: var(--jp-code-line-height);\n",
       "\"><span style=\"color: var(--jp-warn-color2)\">lsst.quickFrameMeasurementTask</span> <span style=\"color: var(--jp-info-color0)\">INFO</span>: Found 2 sources in exposure</pre>"
      ],
      "text/plain": [
       "<IPython.core.display.HTML object>"
      ]
     },
     "metadata": {},
     "output_type": "display_data"
    },
    {
     "data": {
      "text/html": [
       "<pre style=\"margin: 0.1em;\n",
       "padding-left: 0.25em;\n",
       "border-left-style: solid;\n",
       "font-family: var(--jp-code-font-family);\n",
       "font-size: var(--jp-code-font-size);\n",
       "line-height: var(--jp-code-line-height);\n",
       "\"><span style=\"color: var(--jp-warn-color2)\">lsst.quickFrameMeasurementTask</span> <span style=\"color: var(--jp-info-color0)\">INFO</span>: Measured 2 of 2 sources in exposure</pre>"
      ],
      "text/plain": [
       "<IPython.core.display.HTML object>"
      ]
     },
     "metadata": {},
     "output_type": "display_data"
    },
    {
     "name": "stdout",
     "output_type": "stream",
     "text": [
      "2022050500331\n"
     ]
    },
    {
     "data": {
      "text/html": [
       "<pre style=\"margin: 0.1em;\n",
       "padding-left: 0.25em;\n",
       "border-left-style: solid;\n",
       "font-family: var(--jp-code-font-family);\n",
       "font-size: var(--jp-code-font-size);\n",
       "line-height: var(--jp-code-line-height);\n",
       "\"><span style=\"color: var(--jp-warn-color2)\">lsst.summit.utils.bestEffort</span> <span style=\"color: var(--jp-info-color0)\">INFO</span>: Found a ready-made quickLookExp in the repo. Returning that.</pre>"
      ],
      "text/plain": [
       "<IPython.core.display.HTML object>"
      ]
     },
     "metadata": {},
     "output_type": "display_data"
    },
    {
     "data": {
      "text/html": [
       "<pre style=\"margin: 0.1em;\n",
       "padding-left: 0.25em;\n",
       "border-left-style: solid;\n",
       "font-family: var(--jp-code-font-family);\n",
       "font-size: var(--jp-code-font-size);\n",
       "line-height: var(--jp-code-line-height);\n",
       "\"><span style=\"color: var(--jp-warn-color2)\">lsst.quickFrameMeasurementTask</span> <span style=\"color: var(--jp-info-color0)\">INFO</span>: Found 5 sources in exposure</pre>"
      ],
      "text/plain": [
       "<IPython.core.display.HTML object>"
      ]
     },
     "metadata": {},
     "output_type": "display_data"
    },
    {
     "data": {
      "text/html": [
       "<pre style=\"margin: 0.1em;\n",
       "padding-left: 0.25em;\n",
       "border-left-style: solid;\n",
       "font-family: var(--jp-code-font-family);\n",
       "font-size: var(--jp-code-font-size);\n",
       "line-height: var(--jp-code-line-height);\n",
       "\"><span style=\"color: var(--jp-warn-color2)\">lsst.quickFrameMeasurementTask</span> <span style=\"color: var(--jp-info-color0)\">INFO</span>: Measured 5 of 5 sources in exposure</pre>"
      ],
      "text/plain": [
       "<IPython.core.display.HTML object>"
      ]
     },
     "metadata": {},
     "output_type": "display_data"
    },
    {
     "name": "stdout",
     "output_type": "stream",
     "text": [
      "2022050500333\n"
     ]
    },
    {
     "data": {
      "text/html": [
       "<pre style=\"margin: 0.1em;\n",
       "padding-left: 0.25em;\n",
       "border-left-style: solid;\n",
       "font-family: var(--jp-code-font-family);\n",
       "font-size: var(--jp-code-font-size);\n",
       "line-height: var(--jp-code-line-height);\n",
       "\"><span style=\"color: var(--jp-warn-color2)\">lsst.summit.utils.bestEffort</span> <span style=\"color: var(--jp-info-color0)\">INFO</span>: Found a ready-made quickLookExp in the repo. Returning that.</pre>"
      ],
      "text/plain": [
       "<IPython.core.display.HTML object>"
      ]
     },
     "metadata": {},
     "output_type": "display_data"
    },
    {
     "data": {
      "text/html": [
       "<pre style=\"margin: 0.1em;\n",
       "padding-left: 0.25em;\n",
       "border-left-style: solid;\n",
       "font-family: var(--jp-code-font-family);\n",
       "font-size: var(--jp-code-font-size);\n",
       "line-height: var(--jp-code-line-height);\n",
       "\"><span style=\"color: var(--jp-warn-color2)\">lsst.quickFrameMeasurementTask</span> <span style=\"color: var(--jp-info-color0)\">INFO</span>: Found 5 sources in exposure</pre>"
      ],
      "text/plain": [
       "<IPython.core.display.HTML object>"
      ]
     },
     "metadata": {},
     "output_type": "display_data"
    },
    {
     "data": {
      "text/html": [
       "<pre style=\"margin: 0.1em;\n",
       "padding-left: 0.25em;\n",
       "border-left-style: solid;\n",
       "font-family: var(--jp-code-font-family);\n",
       "font-size: var(--jp-code-font-size);\n",
       "line-height: var(--jp-code-line-height);\n",
       "\"><span style=\"color: var(--jp-warn-color2)\">lsst.quickFrameMeasurementTask</span> <span style=\"color: var(--jp-info-color0)\">INFO</span>: Measured 5 of 5 sources in exposure</pre>"
      ],
      "text/plain": [
       "<IPython.core.display.HTML object>"
      ]
     },
     "metadata": {},
     "output_type": "display_data"
    },
    {
     "name": "stdout",
     "output_type": "stream",
     "text": [
      "2022050500335\n"
     ]
    },
    {
     "data": {
      "text/html": [
       "<pre style=\"margin: 0.1em;\n",
       "padding-left: 0.25em;\n",
       "border-left-style: solid;\n",
       "font-family: var(--jp-code-font-family);\n",
       "font-size: var(--jp-code-font-size);\n",
       "line-height: var(--jp-code-line-height);\n",
       "\"><span style=\"color: var(--jp-warn-color2)\">lsst.summit.utils.bestEffort</span> <span style=\"color: var(--jp-info-color0)\">INFO</span>: Found a ready-made quickLookExp in the repo. Returning that.</pre>"
      ],
      "text/plain": [
       "<IPython.core.display.HTML object>"
      ]
     },
     "metadata": {},
     "output_type": "display_data"
    },
    {
     "data": {
      "text/html": [
       "<pre style=\"margin: 0.1em;\n",
       "padding-left: 0.25em;\n",
       "border-left-style: solid;\n",
       "font-family: var(--jp-code-font-family);\n",
       "font-size: var(--jp-code-font-size);\n",
       "line-height: var(--jp-code-line-height);\n",
       "\"><span style=\"color: var(--jp-warn-color2)\">lsst.quickFrameMeasurementTask</span> <span style=\"color: var(--jp-info-color0)\">INFO</span>: Found 3 sources in exposure</pre>"
      ],
      "text/plain": [
       "<IPython.core.display.HTML object>"
      ]
     },
     "metadata": {},
     "output_type": "display_data"
    },
    {
     "data": {
      "text/html": [
       "<pre style=\"margin: 0.1em;\n",
       "padding-left: 0.25em;\n",
       "border-left-style: solid;\n",
       "font-family: var(--jp-code-font-family);\n",
       "font-size: var(--jp-code-font-size);\n",
       "line-height: var(--jp-code-line-height);\n",
       "\"><span style=\"color: var(--jp-warn-color2)\">lsst.quickFrameMeasurementTask</span> <span style=\"color: var(--jp-info-color0)\">INFO</span>: Measured 3 of 3 sources in exposure</pre>"
      ],
      "text/plain": [
       "<IPython.core.display.HTML object>"
      ]
     },
     "metadata": {},
     "output_type": "display_data"
    },
    {
     "name": "stdout",
     "output_type": "stream",
     "text": [
      "2022050500337\n"
     ]
    },
    {
     "data": {
      "text/html": [
       "<pre style=\"margin: 0.1em;\n",
       "padding-left: 0.25em;\n",
       "border-left-style: solid;\n",
       "font-family: var(--jp-code-font-family);\n",
       "font-size: var(--jp-code-font-size);\n",
       "line-height: var(--jp-code-line-height);\n",
       "\"><span style=\"color: var(--jp-warn-color2)\">lsst.summit.utils.bestEffort</span> <span style=\"color: var(--jp-info-color0)\">INFO</span>: Found a ready-made quickLookExp in the repo. Returning that.</pre>"
      ],
      "text/plain": [
       "<IPython.core.display.HTML object>"
      ]
     },
     "metadata": {},
     "output_type": "display_data"
    },
    {
     "data": {
      "text/html": [
       "<pre style=\"margin: 0.1em;\n",
       "padding-left: 0.25em;\n",
       "border-left-style: solid;\n",
       "font-family: var(--jp-code-font-family);\n",
       "font-size: var(--jp-code-font-size);\n",
       "line-height: var(--jp-code-line-height);\n",
       "\"><span style=\"color: var(--jp-warn-color2)\">lsst.quickFrameMeasurementTask</span> <span style=\"color: var(--jp-info-color0)\">INFO</span>: Found 3 sources in exposure</pre>"
      ],
      "text/plain": [
       "<IPython.core.display.HTML object>"
      ]
     },
     "metadata": {},
     "output_type": "display_data"
    },
    {
     "data": {
      "text/html": [
       "<pre style=\"margin: 0.1em;\n",
       "padding-left: 0.25em;\n",
       "border-left-style: solid;\n",
       "font-family: var(--jp-code-font-family);\n",
       "font-size: var(--jp-code-font-size);\n",
       "line-height: var(--jp-code-line-height);\n",
       "\"><span style=\"color: var(--jp-warn-color2)\">lsst.quickFrameMeasurementTask</span> <span style=\"color: var(--jp-info-color0)\">INFO</span>: Measured 3 of 3 sources in exposure</pre>"
      ],
      "text/plain": [
       "<IPython.core.display.HTML object>"
      ]
     },
     "metadata": {},
     "output_type": "display_data"
    },
    {
     "name": "stdout",
     "output_type": "stream",
     "text": [
      "2022050500339\n"
     ]
    },
    {
     "data": {
      "text/html": [
       "<pre style=\"margin: 0.1em;\n",
       "padding-left: 0.25em;\n",
       "border-left-style: solid;\n",
       "font-family: var(--jp-code-font-family);\n",
       "font-size: var(--jp-code-font-size);\n",
       "line-height: var(--jp-code-line-height);\n",
       "\"><span style=\"color: var(--jp-warn-color2)\">lsst.summit.utils.bestEffort</span> <span style=\"color: var(--jp-info-color0)\">INFO</span>: Found a ready-made quickLookExp in the repo. Returning that.</pre>"
      ],
      "text/plain": [
       "<IPython.core.display.HTML object>"
      ]
     },
     "metadata": {},
     "output_type": "display_data"
    },
    {
     "data": {
      "text/html": [
       "<pre style=\"margin: 0.1em;\n",
       "padding-left: 0.25em;\n",
       "border-left-style: solid;\n",
       "font-family: var(--jp-code-font-family);\n",
       "font-size: var(--jp-code-font-size);\n",
       "line-height: var(--jp-code-line-height);\n",
       "\"><span style=\"color: var(--jp-warn-color2)\">lsst.quickFrameMeasurementTask</span> <span style=\"color: var(--jp-info-color0)\">INFO</span>: Found 5 sources in exposure</pre>"
      ],
      "text/plain": [
       "<IPython.core.display.HTML object>"
      ]
     },
     "metadata": {},
     "output_type": "display_data"
    },
    {
     "data": {
      "text/html": [
       "<pre style=\"margin: 0.1em;\n",
       "padding-left: 0.25em;\n",
       "border-left-style: solid;\n",
       "font-family: var(--jp-code-font-family);\n",
       "font-size: var(--jp-code-font-size);\n",
       "line-height: var(--jp-code-line-height);\n",
       "\"><span style=\"color: var(--jp-warn-color2)\">lsst.quickFrameMeasurementTask</span> <span style=\"color: var(--jp-info-color0)\">INFO</span>: Measured 5 of 5 sources in exposure</pre>"
      ],
      "text/plain": [
       "<IPython.core.display.HTML object>"
      ]
     },
     "metadata": {},
     "output_type": "display_data"
    },
    {
     "name": "stdout",
     "output_type": "stream",
     "text": [
      "2022050500341\n"
     ]
    },
    {
     "data": {
      "text/html": [
       "<pre style=\"margin: 0.1em;\n",
       "padding-left: 0.25em;\n",
       "border-left-style: solid;\n",
       "font-family: var(--jp-code-font-family);\n",
       "font-size: var(--jp-code-font-size);\n",
       "line-height: var(--jp-code-line-height);\n",
       "\"><span style=\"color: var(--jp-warn-color2)\">lsst.summit.utils.bestEffort</span> <span style=\"color: var(--jp-info-color0)\">INFO</span>: Found a ready-made quickLookExp in the repo. Returning that.</pre>"
      ],
      "text/plain": [
       "<IPython.core.display.HTML object>"
      ]
     },
     "metadata": {},
     "output_type": "display_data"
    },
    {
     "data": {
      "text/html": [
       "<pre style=\"margin: 0.1em;\n",
       "padding-left: 0.25em;\n",
       "border-left-style: solid;\n",
       "font-family: var(--jp-code-font-family);\n",
       "font-size: var(--jp-code-font-size);\n",
       "line-height: var(--jp-code-line-height);\n",
       "\"><span style=\"color: var(--jp-warn-color2)\">lsst.quickFrameMeasurementTask</span> <span style=\"color: var(--jp-info-color0)\">INFO</span>: Found 5 sources in exposure</pre>"
      ],
      "text/plain": [
       "<IPython.core.display.HTML object>"
      ]
     },
     "metadata": {},
     "output_type": "display_data"
    },
    {
     "data": {
      "text/html": [
       "<pre style=\"margin: 0.1em;\n",
       "padding-left: 0.25em;\n",
       "border-left-style: solid;\n",
       "font-family: var(--jp-code-font-family);\n",
       "font-size: var(--jp-code-font-size);\n",
       "line-height: var(--jp-code-line-height);\n",
       "\"><span style=\"color: var(--jp-warn-color2)\">lsst.quickFrameMeasurementTask</span> <span style=\"color: var(--jp-info-color0)\">INFO</span>: Measured 5 of 5 sources in exposure</pre>"
      ],
      "text/plain": [
       "<IPython.core.display.HTML object>"
      ]
     },
     "metadata": {},
     "output_type": "display_data"
    },
    {
     "name": "stdout",
     "output_type": "stream",
     "text": [
      "2022050500343\n"
     ]
    },
    {
     "data": {
      "text/html": [
       "<pre style=\"margin: 0.1em;\n",
       "padding-left: 0.25em;\n",
       "border-left-style: solid;\n",
       "font-family: var(--jp-code-font-family);\n",
       "font-size: var(--jp-code-font-size);\n",
       "line-height: var(--jp-code-line-height);\n",
       "\"><span style=\"color: var(--jp-warn-color2)\">lsst.summit.utils.bestEffort</span> <span style=\"color: var(--jp-info-color0)\">INFO</span>: Found a ready-made quickLookExp in the repo. Returning that.</pre>"
      ],
      "text/plain": [
       "<IPython.core.display.HTML object>"
      ]
     },
     "metadata": {},
     "output_type": "display_data"
    },
    {
     "data": {
      "text/html": [
       "<pre style=\"margin: 0.1em;\n",
       "padding-left: 0.25em;\n",
       "border-left-style: solid;\n",
       "font-family: var(--jp-code-font-family);\n",
       "font-size: var(--jp-code-font-size);\n",
       "line-height: var(--jp-code-line-height);\n",
       "\"><span style=\"color: var(--jp-warn-color2)\">lsst.quickFrameMeasurementTask</span> <span style=\"color: var(--jp-info-color0)\">INFO</span>: Found 5 sources in exposure</pre>"
      ],
      "text/plain": [
       "<IPython.core.display.HTML object>"
      ]
     },
     "metadata": {},
     "output_type": "display_data"
    },
    {
     "data": {
      "text/html": [
       "<pre style=\"margin: 0.1em;\n",
       "padding-left: 0.25em;\n",
       "border-left-style: solid;\n",
       "font-family: var(--jp-code-font-family);\n",
       "font-size: var(--jp-code-font-size);\n",
       "line-height: var(--jp-code-line-height);\n",
       "\"><span style=\"color: var(--jp-warn-color2)\">lsst.quickFrameMeasurementTask</span> <span style=\"color: var(--jp-info-color0)\">INFO</span>: Measured 5 of 5 sources in exposure</pre>"
      ],
      "text/plain": [
       "<IPython.core.display.HTML object>"
      ]
     },
     "metadata": {},
     "output_type": "display_data"
    },
    {
     "name": "stdout",
     "output_type": "stream",
     "text": [
      "2022050500345\n"
     ]
    },
    {
     "data": {
      "text/html": [
       "<pre style=\"margin: 0.1em;\n",
       "padding-left: 0.25em;\n",
       "border-left-style: solid;\n",
       "font-family: var(--jp-code-font-family);\n",
       "font-size: var(--jp-code-font-size);\n",
       "line-height: var(--jp-code-line-height);\n",
       "\"><span style=\"color: var(--jp-warn-color2)\">lsst.summit.utils.bestEffort</span> <span style=\"color: var(--jp-info-color0)\">INFO</span>: Found a ready-made quickLookExp in the repo. Returning that.</pre>"
      ],
      "text/plain": [
       "<IPython.core.display.HTML object>"
      ]
     },
     "metadata": {},
     "output_type": "display_data"
    },
    {
     "data": {
      "text/html": [
       "<pre style=\"margin: 0.1em;\n",
       "padding-left: 0.25em;\n",
       "border-left-style: solid;\n",
       "font-family: var(--jp-code-font-family);\n",
       "font-size: var(--jp-code-font-size);\n",
       "line-height: var(--jp-code-line-height);\n",
       "\"><span style=\"color: var(--jp-warn-color2)\">lsst.quickFrameMeasurementTask</span> <span style=\"color: var(--jp-info-color0)\">INFO</span>: Found 8 sources in exposure</pre>"
      ],
      "text/plain": [
       "<IPython.core.display.HTML object>"
      ]
     },
     "metadata": {},
     "output_type": "display_data"
    },
    {
     "data": {
      "text/html": [
       "<pre style=\"margin: 0.1em;\n",
       "padding-left: 0.25em;\n",
       "border-left-style: solid;\n",
       "font-family: var(--jp-code-font-family);\n",
       "font-size: var(--jp-code-font-size);\n",
       "line-height: var(--jp-code-line-height);\n",
       "\"><span style=\"color: var(--jp-warn-color2)\">lsst.quickFrameMeasurementTask</span> <span style=\"color: var(--jp-info-color0)\">INFO</span>: Measured 8 of 8 sources in exposure</pre>"
      ],
      "text/plain": [
       "<IPython.core.display.HTML object>"
      ]
     },
     "metadata": {},
     "output_type": "display_data"
    },
    {
     "name": "stdout",
     "output_type": "stream",
     "text": [
      "2022050500347\n"
     ]
    },
    {
     "data": {
      "text/html": [
       "<pre style=\"margin: 0.1em;\n",
       "padding-left: 0.25em;\n",
       "border-left-style: solid;\n",
       "font-family: var(--jp-code-font-family);\n",
       "font-size: var(--jp-code-font-size);\n",
       "line-height: var(--jp-code-line-height);\n",
       "\"><span style=\"color: var(--jp-warn-color2)\">lsst.summit.utils.bestEffort</span> <span style=\"color: var(--jp-info-color0)\">INFO</span>: Found a ready-made quickLookExp in the repo. Returning that.</pre>"
      ],
      "text/plain": [
       "<IPython.core.display.HTML object>"
      ]
     },
     "metadata": {},
     "output_type": "display_data"
    },
    {
     "data": {
      "text/html": [
       "<pre style=\"margin: 0.1em;\n",
       "padding-left: 0.25em;\n",
       "border-left-style: solid;\n",
       "font-family: var(--jp-code-font-family);\n",
       "font-size: var(--jp-code-font-size);\n",
       "line-height: var(--jp-code-line-height);\n",
       "\"><span style=\"color: var(--jp-warn-color2)\">lsst.quickFrameMeasurementTask</span> <span style=\"color: var(--jp-info-color0)\">INFO</span>: Found 3 sources in exposure</pre>"
      ],
      "text/plain": [
       "<IPython.core.display.HTML object>"
      ]
     },
     "metadata": {},
     "output_type": "display_data"
    },
    {
     "data": {
      "text/html": [
       "<pre style=\"margin: 0.1em;\n",
       "padding-left: 0.25em;\n",
       "border-left-style: solid;\n",
       "font-family: var(--jp-code-font-family);\n",
       "font-size: var(--jp-code-font-size);\n",
       "line-height: var(--jp-code-line-height);\n",
       "\"><span style=\"color: var(--jp-warn-color2)\">lsst.quickFrameMeasurementTask</span> <span style=\"color: var(--jp-info-color0)\">INFO</span>: Measured 3 of 3 sources in exposure</pre>"
      ],
      "text/plain": [
       "<IPython.core.display.HTML object>"
      ]
     },
     "metadata": {},
     "output_type": "display_data"
    },
    {
     "name": "stdout",
     "output_type": "stream",
     "text": [
      "2022050500349\n"
     ]
    },
    {
     "data": {
      "text/html": [
       "<pre style=\"margin: 0.1em;\n",
       "padding-left: 0.25em;\n",
       "border-left-style: solid;\n",
       "font-family: var(--jp-code-font-family);\n",
       "font-size: var(--jp-code-font-size);\n",
       "line-height: var(--jp-code-line-height);\n",
       "\"><span style=\"color: var(--jp-warn-color2)\">lsst.summit.utils.bestEffort</span> <span style=\"color: var(--jp-info-color0)\">INFO</span>: Found a ready-made quickLookExp in the repo. Returning that.</pre>"
      ],
      "text/plain": [
       "<IPython.core.display.HTML object>"
      ]
     },
     "metadata": {},
     "output_type": "display_data"
    },
    {
     "data": {
      "text/html": [
       "<pre style=\"margin: 0.1em;\n",
       "padding-left: 0.25em;\n",
       "border-left-style: solid;\n",
       "font-family: var(--jp-code-font-family);\n",
       "font-size: var(--jp-code-font-size);\n",
       "line-height: var(--jp-code-line-height);\n",
       "\"><span style=\"color: var(--jp-warn-color2)\">lsst.quickFrameMeasurementTask</span> <span style=\"color: var(--jp-info-color0)\">INFO</span>: Found 4 sources in exposure</pre>"
      ],
      "text/plain": [
       "<IPython.core.display.HTML object>"
      ]
     },
     "metadata": {},
     "output_type": "display_data"
    },
    {
     "data": {
      "text/html": [
       "<pre style=\"margin: 0.1em;\n",
       "padding-left: 0.25em;\n",
       "border-left-style: solid;\n",
       "font-family: var(--jp-code-font-family);\n",
       "font-size: var(--jp-code-font-size);\n",
       "line-height: var(--jp-code-line-height);\n",
       "\"><span style=\"color: var(--jp-warn-color2)\">lsst.quickFrameMeasurementTask</span> <span style=\"color: var(--jp-info-color0)\">INFO</span>: Measured 4 of 4 sources in exposure</pre>"
      ],
      "text/plain": [
       "<IPython.core.display.HTML object>"
      ]
     },
     "metadata": {},
     "output_type": "display_data"
    },
    {
     "name": "stdout",
     "output_type": "stream",
     "text": [
      "2022050500351\n"
     ]
    },
    {
     "data": {
      "text/html": [
       "<pre style=\"margin: 0.1em;\n",
       "padding-left: 0.25em;\n",
       "border-left-style: solid;\n",
       "font-family: var(--jp-code-font-family);\n",
       "font-size: var(--jp-code-font-size);\n",
       "line-height: var(--jp-code-line-height);\n",
       "\"><span style=\"color: var(--jp-warn-color2)\">lsst.summit.utils.bestEffort</span> <span style=\"color: var(--jp-info-color0)\">INFO</span>: Found a ready-made quickLookExp in the repo. Returning that.</pre>"
      ],
      "text/plain": [
       "<IPython.core.display.HTML object>"
      ]
     },
     "metadata": {},
     "output_type": "display_data"
    },
    {
     "data": {
      "text/html": [
       "<pre style=\"margin: 0.1em;\n",
       "padding-left: 0.25em;\n",
       "border-left-style: solid;\n",
       "font-family: var(--jp-code-font-family);\n",
       "font-size: var(--jp-code-font-size);\n",
       "line-height: var(--jp-code-line-height);\n",
       "\"><span style=\"color: var(--jp-warn-color2)\">lsst.quickFrameMeasurementTask</span> <span style=\"color: var(--jp-info-color0)\">INFO</span>: Found 1 sources in exposure</pre>"
      ],
      "text/plain": [
       "<IPython.core.display.HTML object>"
      ]
     },
     "metadata": {},
     "output_type": "display_data"
    },
    {
     "data": {
      "text/html": [
       "<pre style=\"margin: 0.1em;\n",
       "padding-left: 0.25em;\n",
       "border-left-style: solid;\n",
       "font-family: var(--jp-code-font-family);\n",
       "font-size: var(--jp-code-font-size);\n",
       "line-height: var(--jp-code-line-height);\n",
       "\"><span style=\"color: var(--jp-warn-color2)\">lsst.quickFrameMeasurementTask</span> <span style=\"color: var(--jp-info-color0)\">INFO</span>: Measured 1 of 1 sources in exposure</pre>"
      ],
      "text/plain": [
       "<IPython.core.display.HTML object>"
      ]
     },
     "metadata": {},
     "output_type": "display_data"
    },
    {
     "name": "stdout",
     "output_type": "stream",
     "text": [
      "2022050500353\n"
     ]
    },
    {
     "data": {
      "text/html": [
       "<pre style=\"margin: 0.1em;\n",
       "padding-left: 0.25em;\n",
       "border-left-style: solid;\n",
       "font-family: var(--jp-code-font-family);\n",
       "font-size: var(--jp-code-font-size);\n",
       "line-height: var(--jp-code-line-height);\n",
       "\"><span style=\"color: var(--jp-warn-color2)\">lsst.summit.utils.bestEffort</span> <span style=\"color: var(--jp-info-color0)\">INFO</span>: Found a ready-made quickLookExp in the repo. Returning that.</pre>"
      ],
      "text/plain": [
       "<IPython.core.display.HTML object>"
      ]
     },
     "metadata": {},
     "output_type": "display_data"
    },
    {
     "data": {
      "text/html": [
       "<pre style=\"margin: 0.1em;\n",
       "padding-left: 0.25em;\n",
       "border-left-style: solid;\n",
       "font-family: var(--jp-code-font-family);\n",
       "font-size: var(--jp-code-font-size);\n",
       "line-height: var(--jp-code-line-height);\n",
       "\"><span style=\"color: var(--jp-warn-color2)\">lsst.quickFrameMeasurementTask</span> <span style=\"color: var(--jp-info-color0)\">INFO</span>: Found 4 sources in exposure</pre>"
      ],
      "text/plain": [
       "<IPython.core.display.HTML object>"
      ]
     },
     "metadata": {},
     "output_type": "display_data"
    },
    {
     "data": {
      "text/html": [
       "<pre style=\"margin: 0.1em;\n",
       "padding-left: 0.25em;\n",
       "border-left-style: solid;\n",
       "font-family: var(--jp-code-font-family);\n",
       "font-size: var(--jp-code-font-size);\n",
       "line-height: var(--jp-code-line-height);\n",
       "\"><span style=\"color: var(--jp-warn-color2)\">lsst.quickFrameMeasurementTask</span> <span style=\"color: var(--jp-info-color0)\">INFO</span>: Measured 4 of 4 sources in exposure</pre>"
      ],
      "text/plain": [
       "<IPython.core.display.HTML object>"
      ]
     },
     "metadata": {},
     "output_type": "display_data"
    },
    {
     "name": "stdout",
     "output_type": "stream",
     "text": [
      "2022050500355\n"
     ]
    },
    {
     "data": {
      "text/html": [
       "<pre style=\"margin: 0.1em;\n",
       "padding-left: 0.25em;\n",
       "border-left-style: solid;\n",
       "font-family: var(--jp-code-font-family);\n",
       "font-size: var(--jp-code-font-size);\n",
       "line-height: var(--jp-code-line-height);\n",
       "\"><span style=\"color: var(--jp-warn-color2)\">lsst.summit.utils.bestEffort</span> <span style=\"color: var(--jp-info-color0)\">INFO</span>: Found a ready-made quickLookExp in the repo. Returning that.</pre>"
      ],
      "text/plain": [
       "<IPython.core.display.HTML object>"
      ]
     },
     "metadata": {},
     "output_type": "display_data"
    },
    {
     "data": {
      "text/html": [
       "<pre style=\"margin: 0.1em;\n",
       "padding-left: 0.25em;\n",
       "border-left-style: solid;\n",
       "font-family: var(--jp-code-font-family);\n",
       "font-size: var(--jp-code-font-size);\n",
       "line-height: var(--jp-code-line-height);\n",
       "\"><span style=\"color: var(--jp-warn-color2)\">lsst.quickFrameMeasurementTask</span> <span style=\"color: var(--jp-info-color0)\">INFO</span>: Found 6 sources in exposure</pre>"
      ],
      "text/plain": [
       "<IPython.core.display.HTML object>"
      ]
     },
     "metadata": {},
     "output_type": "display_data"
    },
    {
     "data": {
      "text/html": [
       "<pre style=\"margin: 0.1em;\n",
       "padding-left: 0.25em;\n",
       "border-left-style: solid;\n",
       "font-family: var(--jp-code-font-family);\n",
       "font-size: var(--jp-code-font-size);\n",
       "line-height: var(--jp-code-line-height);\n",
       "\"><span style=\"color: var(--jp-warn-color2)\">lsst.quickFrameMeasurementTask</span> <span style=\"color: var(--jp-info-color0)\">INFO</span>: Measured 6 of 6 sources in exposure</pre>"
      ],
      "text/plain": [
       "<IPython.core.display.HTML object>"
      ]
     },
     "metadata": {},
     "output_type": "display_data"
    },
    {
     "name": "stdout",
     "output_type": "stream",
     "text": [
      "2022050500357\n"
     ]
    },
    {
     "data": {
      "text/html": [
       "<pre style=\"margin: 0.1em;\n",
       "padding-left: 0.25em;\n",
       "border-left-style: solid;\n",
       "font-family: var(--jp-code-font-family);\n",
       "font-size: var(--jp-code-font-size);\n",
       "line-height: var(--jp-code-line-height);\n",
       "\"><span style=\"color: var(--jp-warn-color2)\">lsst.summit.utils.bestEffort</span> <span style=\"color: var(--jp-info-color0)\">INFO</span>: Found a ready-made quickLookExp in the repo. Returning that.</pre>"
      ],
      "text/plain": [
       "<IPython.core.display.HTML object>"
      ]
     },
     "metadata": {},
     "output_type": "display_data"
    },
    {
     "data": {
      "text/html": [
       "<pre style=\"margin: 0.1em;\n",
       "padding-left: 0.25em;\n",
       "border-left-style: solid;\n",
       "font-family: var(--jp-code-font-family);\n",
       "font-size: var(--jp-code-font-size);\n",
       "line-height: var(--jp-code-line-height);\n",
       "\"><span style=\"color: var(--jp-warn-color2)\">lsst.quickFrameMeasurementTask</span> <span style=\"color: var(--jp-info-color0)\">INFO</span>: Found 3 sources in exposure</pre>"
      ],
      "text/plain": [
       "<IPython.core.display.HTML object>"
      ]
     },
     "metadata": {},
     "output_type": "display_data"
    },
    {
     "data": {
      "text/html": [
       "<pre style=\"margin: 0.1em;\n",
       "padding-left: 0.25em;\n",
       "border-left-style: solid;\n",
       "font-family: var(--jp-code-font-family);\n",
       "font-size: var(--jp-code-font-size);\n",
       "line-height: var(--jp-code-line-height);\n",
       "\"><span style=\"color: var(--jp-warn-color2)\">lsst.quickFrameMeasurementTask</span> <span style=\"color: var(--jp-info-color0)\">INFO</span>: Measured 3 of 3 sources in exposure</pre>"
      ],
      "text/plain": [
       "<IPython.core.display.HTML object>"
      ]
     },
     "metadata": {},
     "output_type": "display_data"
    },
    {
     "name": "stdout",
     "output_type": "stream",
     "text": [
      "2022050500359\n"
     ]
    },
    {
     "data": {
      "text/html": [
       "<pre style=\"margin: 0.1em;\n",
       "padding-left: 0.25em;\n",
       "border-left-style: solid;\n",
       "font-family: var(--jp-code-font-family);\n",
       "font-size: var(--jp-code-font-size);\n",
       "line-height: var(--jp-code-line-height);\n",
       "\"><span style=\"color: var(--jp-warn-color2)\">lsst.summit.utils.bestEffort</span> <span style=\"color: var(--jp-info-color0)\">INFO</span>: Found a ready-made quickLookExp in the repo. Returning that.</pre>"
      ],
      "text/plain": [
       "<IPython.core.display.HTML object>"
      ]
     },
     "metadata": {},
     "output_type": "display_data"
    },
    {
     "data": {
      "text/html": [
       "<pre style=\"margin: 0.1em;\n",
       "padding-left: 0.25em;\n",
       "border-left-style: solid;\n",
       "font-family: var(--jp-code-font-family);\n",
       "font-size: var(--jp-code-font-size);\n",
       "line-height: var(--jp-code-line-height);\n",
       "\"><span style=\"color: var(--jp-warn-color2)\">lsst.quickFrameMeasurementTask</span> <span style=\"color: var(--jp-info-color0)\">INFO</span>: Found 1 sources in exposure</pre>"
      ],
      "text/plain": [
       "<IPython.core.display.HTML object>"
      ]
     },
     "metadata": {},
     "output_type": "display_data"
    },
    {
     "data": {
      "text/html": [
       "<pre style=\"margin: 0.1em;\n",
       "padding-left: 0.25em;\n",
       "border-left-style: solid;\n",
       "font-family: var(--jp-code-font-family);\n",
       "font-size: var(--jp-code-font-size);\n",
       "line-height: var(--jp-code-line-height);\n",
       "\"><span style=\"color: var(--jp-warn-color2)\">lsst.quickFrameMeasurementTask</span> <span style=\"color: var(--jp-info-color0)\">INFO</span>: Measured 1 of 1 sources in exposure</pre>"
      ],
      "text/plain": [
       "<IPython.core.display.HTML object>"
      ]
     },
     "metadata": {},
     "output_type": "display_data"
    },
    {
     "name": "stdout",
     "output_type": "stream",
     "text": [
      "2022050500361\n"
     ]
    },
    {
     "data": {
      "text/html": [
       "<pre style=\"margin: 0.1em;\n",
       "padding-left: 0.25em;\n",
       "border-left-style: solid;\n",
       "font-family: var(--jp-code-font-family);\n",
       "font-size: var(--jp-code-font-size);\n",
       "line-height: var(--jp-code-line-height);\n",
       "\"><span style=\"color: var(--jp-warn-color2)\">lsst.summit.utils.bestEffort</span> <span style=\"color: var(--jp-info-color0)\">INFO</span>: Found a ready-made quickLookExp in the repo. Returning that.</pre>"
      ],
      "text/plain": [
       "<IPython.core.display.HTML object>"
      ]
     },
     "metadata": {},
     "output_type": "display_data"
    },
    {
     "data": {
      "text/html": [
       "<pre style=\"margin: 0.1em;\n",
       "padding-left: 0.25em;\n",
       "border-left-style: solid;\n",
       "font-family: var(--jp-code-font-family);\n",
       "font-size: var(--jp-code-font-size);\n",
       "line-height: var(--jp-code-line-height);\n",
       "\"><span style=\"color: var(--jp-warn-color2)\">lsst.quickFrameMeasurementTask</span> <span style=\"color: var(--jp-info-color0)\">INFO</span>: Found 3 sources in exposure</pre>"
      ],
      "text/plain": [
       "<IPython.core.display.HTML object>"
      ]
     },
     "metadata": {},
     "output_type": "display_data"
    },
    {
     "data": {
      "text/html": [
       "<pre style=\"margin: 0.1em;\n",
       "padding-left: 0.25em;\n",
       "border-left-style: solid;\n",
       "font-family: var(--jp-code-font-family);\n",
       "font-size: var(--jp-code-font-size);\n",
       "line-height: var(--jp-code-line-height);\n",
       "\"><span style=\"color: var(--jp-warn-color2)\">lsst.quickFrameMeasurementTask</span> <span style=\"color: var(--jp-info-color0)\">INFO</span>: Measured 3 of 3 sources in exposure</pre>"
      ],
      "text/plain": [
       "<IPython.core.display.HTML object>"
      ]
     },
     "metadata": {},
     "output_type": "display_data"
    },
    {
     "name": "stdout",
     "output_type": "stream",
     "text": [
      "2022050500363\n"
     ]
    },
    {
     "data": {
      "text/html": [
       "<pre style=\"margin: 0.1em;\n",
       "padding-left: 0.25em;\n",
       "border-left-style: solid;\n",
       "font-family: var(--jp-code-font-family);\n",
       "font-size: var(--jp-code-font-size);\n",
       "line-height: var(--jp-code-line-height);\n",
       "\"><span style=\"color: var(--jp-warn-color2)\">lsst.summit.utils.bestEffort</span> <span style=\"color: var(--jp-info-color0)\">INFO</span>: Found a ready-made quickLookExp in the repo. Returning that.</pre>"
      ],
      "text/plain": [
       "<IPython.core.display.HTML object>"
      ]
     },
     "metadata": {},
     "output_type": "display_data"
    },
    {
     "data": {
      "text/html": [
       "<pre style=\"margin: 0.1em;\n",
       "padding-left: 0.25em;\n",
       "border-left-style: solid;\n",
       "font-family: var(--jp-code-font-family);\n",
       "font-size: var(--jp-code-font-size);\n",
       "line-height: var(--jp-code-line-height);\n",
       "\"><span style=\"color: var(--jp-warn-color2)\">lsst.quickFrameMeasurementTask</span> <span style=\"color: var(--jp-info-color0)\">INFO</span>: Found 3 sources in exposure</pre>"
      ],
      "text/plain": [
       "<IPython.core.display.HTML object>"
      ]
     },
     "metadata": {},
     "output_type": "display_data"
    },
    {
     "data": {
      "text/html": [
       "<pre style=\"margin: 0.1em;\n",
       "padding-left: 0.25em;\n",
       "border-left-style: solid;\n",
       "font-family: var(--jp-code-font-family);\n",
       "font-size: var(--jp-code-font-size);\n",
       "line-height: var(--jp-code-line-height);\n",
       "\"><span style=\"color: var(--jp-warn-color2)\">lsst.quickFrameMeasurementTask</span> <span style=\"color: var(--jp-info-color0)\">INFO</span>: Measured 3 of 3 sources in exposure</pre>"
      ],
      "text/plain": [
       "<IPython.core.display.HTML object>"
      ]
     },
     "metadata": {},
     "output_type": "display_data"
    },
    {
     "name": "stdout",
     "output_type": "stream",
     "text": [
      "2022050500365\n"
     ]
    },
    {
     "data": {
      "text/html": [
       "<pre style=\"margin: 0.1em;\n",
       "padding-left: 0.25em;\n",
       "border-left-style: solid;\n",
       "font-family: var(--jp-code-font-family);\n",
       "font-size: var(--jp-code-font-size);\n",
       "line-height: var(--jp-code-line-height);\n",
       "\"><span style=\"color: var(--jp-warn-color2)\">lsst.summit.utils.bestEffort</span> <span style=\"color: var(--jp-info-color0)\">INFO</span>: Found a ready-made quickLookExp in the repo. Returning that.</pre>"
      ],
      "text/plain": [
       "<IPython.core.display.HTML object>"
      ]
     },
     "metadata": {},
     "output_type": "display_data"
    },
    {
     "data": {
      "text/html": [
       "<pre style=\"margin: 0.1em;\n",
       "padding-left: 0.25em;\n",
       "border-left-style: solid;\n",
       "font-family: var(--jp-code-font-family);\n",
       "font-size: var(--jp-code-font-size);\n",
       "line-height: var(--jp-code-line-height);\n",
       "\"><span style=\"color: var(--jp-warn-color2)\">lsst.quickFrameMeasurementTask</span> <span style=\"color: var(--jp-info-color0)\">INFO</span>: Found 3 sources in exposure</pre>"
      ],
      "text/plain": [
       "<IPython.core.display.HTML object>"
      ]
     },
     "metadata": {},
     "output_type": "display_data"
    },
    {
     "data": {
      "text/html": [
       "<pre style=\"margin: 0.1em;\n",
       "padding-left: 0.25em;\n",
       "border-left-style: solid;\n",
       "font-family: var(--jp-code-font-family);\n",
       "font-size: var(--jp-code-font-size);\n",
       "line-height: var(--jp-code-line-height);\n",
       "\"><span style=\"color: var(--jp-warn-color2)\">lsst.quickFrameMeasurementTask</span> <span style=\"color: var(--jp-info-color0)\">INFO</span>: Measured 3 of 3 sources in exposure</pre>"
      ],
      "text/plain": [
       "<IPython.core.display.HTML object>"
      ]
     },
     "metadata": {},
     "output_type": "display_data"
    },
    {
     "name": "stdout",
     "output_type": "stream",
     "text": [
      "2022050500367\n"
     ]
    },
    {
     "data": {
      "text/html": [
       "<pre style=\"margin: 0.1em;\n",
       "padding-left: 0.25em;\n",
       "border-left-style: solid;\n",
       "font-family: var(--jp-code-font-family);\n",
       "font-size: var(--jp-code-font-size);\n",
       "line-height: var(--jp-code-line-height);\n",
       "\"><span style=\"color: var(--jp-warn-color2)\">lsst.summit.utils.bestEffort</span> <span style=\"color: var(--jp-info-color0)\">INFO</span>: Found a ready-made quickLookExp in the repo. Returning that.</pre>"
      ],
      "text/plain": [
       "<IPython.core.display.HTML object>"
      ]
     },
     "metadata": {},
     "output_type": "display_data"
    },
    {
     "data": {
      "text/html": [
       "<pre style=\"margin: 0.1em;\n",
       "padding-left: 0.25em;\n",
       "border-left-style: solid;\n",
       "font-family: var(--jp-code-font-family);\n",
       "font-size: var(--jp-code-font-size);\n",
       "line-height: var(--jp-code-line-height);\n",
       "\"><span style=\"color: var(--jp-warn-color2)\">lsst.quickFrameMeasurementTask</span> <span style=\"color: var(--jp-info-color0)\">INFO</span>: Found 3 sources in exposure</pre>"
      ],
      "text/plain": [
       "<IPython.core.display.HTML object>"
      ]
     },
     "metadata": {},
     "output_type": "display_data"
    },
    {
     "data": {
      "text/html": [
       "<pre style=\"margin: 0.1em;\n",
       "padding-left: 0.25em;\n",
       "border-left-style: solid;\n",
       "font-family: var(--jp-code-font-family);\n",
       "font-size: var(--jp-code-font-size);\n",
       "line-height: var(--jp-code-line-height);\n",
       "\"><span style=\"color: var(--jp-warn-color2)\">lsst.quickFrameMeasurementTask</span> <span style=\"color: var(--jp-info-color0)\">INFO</span>: Measured 3 of 3 sources in exposure</pre>"
      ],
      "text/plain": [
       "<IPython.core.display.HTML object>"
      ]
     },
     "metadata": {},
     "output_type": "display_data"
    },
    {
     "name": "stdout",
     "output_type": "stream",
     "text": [
      "2022050500369\n"
     ]
    },
    {
     "data": {
      "text/html": [
       "<pre style=\"margin: 0.1em;\n",
       "padding-left: 0.25em;\n",
       "border-left-style: solid;\n",
       "font-family: var(--jp-code-font-family);\n",
       "font-size: var(--jp-code-font-size);\n",
       "line-height: var(--jp-code-line-height);\n",
       "\"><span style=\"color: var(--jp-warn-color2)\">lsst.summit.utils.bestEffort</span> <span style=\"color: var(--jp-info-color0)\">INFO</span>: Found a ready-made quickLookExp in the repo. Returning that.</pre>"
      ],
      "text/plain": [
       "<IPython.core.display.HTML object>"
      ]
     },
     "metadata": {},
     "output_type": "display_data"
    },
    {
     "data": {
      "text/html": [
       "<pre style=\"margin: 0.1em;\n",
       "padding-left: 0.25em;\n",
       "border-left-style: solid;\n",
       "font-family: var(--jp-code-font-family);\n",
       "font-size: var(--jp-code-font-size);\n",
       "line-height: var(--jp-code-line-height);\n",
       "\"><span style=\"color: var(--jp-warn-color2)\">lsst.quickFrameMeasurementTask</span> <span style=\"color: var(--jp-info-color0)\">INFO</span>: Found 4 sources in exposure</pre>"
      ],
      "text/plain": [
       "<IPython.core.display.HTML object>"
      ]
     },
     "metadata": {},
     "output_type": "display_data"
    },
    {
     "data": {
      "text/html": [
       "<pre style=\"margin: 0.1em;\n",
       "padding-left: 0.25em;\n",
       "border-left-style: solid;\n",
       "font-family: var(--jp-code-font-family);\n",
       "font-size: var(--jp-code-font-size);\n",
       "line-height: var(--jp-code-line-height);\n",
       "\"><span style=\"color: var(--jp-warn-color2)\">lsst.quickFrameMeasurementTask</span> <span style=\"color: var(--jp-info-color0)\">INFO</span>: Measured 4 of 4 sources in exposure</pre>"
      ],
      "text/plain": [
       "<IPython.core.display.HTML object>"
      ]
     },
     "metadata": {},
     "output_type": "display_data"
    },
    {
     "name": "stdout",
     "output_type": "stream",
     "text": [
      "2022050500371\n"
     ]
    },
    {
     "data": {
      "text/html": [
       "<pre style=\"margin: 0.1em;\n",
       "padding-left: 0.25em;\n",
       "border-left-style: solid;\n",
       "font-family: var(--jp-code-font-family);\n",
       "font-size: var(--jp-code-font-size);\n",
       "line-height: var(--jp-code-line-height);\n",
       "\"><span style=\"color: var(--jp-warn-color2)\">lsst.summit.utils.bestEffort</span> <span style=\"color: var(--jp-info-color0)\">INFO</span>: Found a ready-made quickLookExp in the repo. Returning that.</pre>"
      ],
      "text/plain": [
       "<IPython.core.display.HTML object>"
      ]
     },
     "metadata": {},
     "output_type": "display_data"
    },
    {
     "data": {
      "text/html": [
       "<pre style=\"margin: 0.1em;\n",
       "padding-left: 0.25em;\n",
       "border-left-style: solid;\n",
       "font-family: var(--jp-code-font-family);\n",
       "font-size: var(--jp-code-font-size);\n",
       "line-height: var(--jp-code-line-height);\n",
       "\"><span style=\"color: var(--jp-warn-color2)\">lsst.quickFrameMeasurementTask</span> <span style=\"color: var(--jp-info-color0)\">INFO</span>: Found 3 sources in exposure</pre>"
      ],
      "text/plain": [
       "<IPython.core.display.HTML object>"
      ]
     },
     "metadata": {},
     "output_type": "display_data"
    },
    {
     "data": {
      "text/html": [
       "<pre style=\"margin: 0.1em;\n",
       "padding-left: 0.25em;\n",
       "border-left-style: solid;\n",
       "font-family: var(--jp-code-font-family);\n",
       "font-size: var(--jp-code-font-size);\n",
       "line-height: var(--jp-code-line-height);\n",
       "\"><span style=\"color: var(--jp-warn-color2)\">lsst.quickFrameMeasurementTask</span> <span style=\"color: var(--jp-info-color0)\">INFO</span>: Measured 3 of 3 sources in exposure</pre>"
      ],
      "text/plain": [
       "<IPython.core.display.HTML object>"
      ]
     },
     "metadata": {},
     "output_type": "display_data"
    },
    {
     "name": "stdout",
     "output_type": "stream",
     "text": [
      "2022050500373\n"
     ]
    },
    {
     "data": {
      "text/html": [
       "<pre style=\"margin: 0.1em;\n",
       "padding-left: 0.25em;\n",
       "border-left-style: solid;\n",
       "font-family: var(--jp-code-font-family);\n",
       "font-size: var(--jp-code-font-size);\n",
       "line-height: var(--jp-code-line-height);\n",
       "\"><span style=\"color: var(--jp-warn-color2)\">lsst.summit.utils.bestEffort</span> <span style=\"color: var(--jp-info-color0)\">INFO</span>: Found a ready-made quickLookExp in the repo. Returning that.</pre>"
      ],
      "text/plain": [
       "<IPython.core.display.HTML object>"
      ]
     },
     "metadata": {},
     "output_type": "display_data"
    },
    {
     "data": {
      "text/html": [
       "<pre style=\"margin: 0.1em;\n",
       "padding-left: 0.25em;\n",
       "border-left-style: solid;\n",
       "font-family: var(--jp-code-font-family);\n",
       "font-size: var(--jp-code-font-size);\n",
       "line-height: var(--jp-code-line-height);\n",
       "\"><span style=\"color: var(--jp-warn-color2)\">lsst.quickFrameMeasurementTask</span> <span style=\"color: var(--jp-info-color0)\">INFO</span>: Found 2 sources in exposure</pre>"
      ],
      "text/plain": [
       "<IPython.core.display.HTML object>"
      ]
     },
     "metadata": {},
     "output_type": "display_data"
    },
    {
     "data": {
      "text/html": [
       "<pre style=\"margin: 0.1em;\n",
       "padding-left: 0.25em;\n",
       "border-left-style: solid;\n",
       "font-family: var(--jp-code-font-family);\n",
       "font-size: var(--jp-code-font-size);\n",
       "line-height: var(--jp-code-line-height);\n",
       "\"><span style=\"color: var(--jp-warn-color2)\">lsst.quickFrameMeasurementTask</span> <span style=\"color: var(--jp-info-color0)\">INFO</span>: Measured 2 of 2 sources in exposure</pre>"
      ],
      "text/plain": [
       "<IPython.core.display.HTML object>"
      ]
     },
     "metadata": {},
     "output_type": "display_data"
    },
    {
     "name": "stdout",
     "output_type": "stream",
     "text": [
      "2022050500375\n"
     ]
    },
    {
     "data": {
      "text/html": [
       "<pre style=\"margin: 0.1em;\n",
       "padding-left: 0.25em;\n",
       "border-left-style: solid;\n",
       "font-family: var(--jp-code-font-family);\n",
       "font-size: var(--jp-code-font-size);\n",
       "line-height: var(--jp-code-line-height);\n",
       "\"><span style=\"color: var(--jp-warn-color2)\">lsst.summit.utils.bestEffort</span> <span style=\"color: var(--jp-info-color0)\">INFO</span>: Found a ready-made quickLookExp in the repo. Returning that.</pre>"
      ],
      "text/plain": [
       "<IPython.core.display.HTML object>"
      ]
     },
     "metadata": {},
     "output_type": "display_data"
    },
    {
     "data": {
      "text/html": [
       "<pre style=\"margin: 0.1em;\n",
       "padding-left: 0.25em;\n",
       "border-left-style: solid;\n",
       "font-family: var(--jp-code-font-family);\n",
       "font-size: var(--jp-code-font-size);\n",
       "line-height: var(--jp-code-line-height);\n",
       "\"><span style=\"color: var(--jp-warn-color2)\">lsst.quickFrameMeasurementTask</span> <span style=\"color: var(--jp-info-color0)\">INFO</span>: Found 4 sources in exposure</pre>"
      ],
      "text/plain": [
       "<IPython.core.display.HTML object>"
      ]
     },
     "metadata": {},
     "output_type": "display_data"
    },
    {
     "data": {
      "text/html": [
       "<pre style=\"margin: 0.1em;\n",
       "padding-left: 0.25em;\n",
       "border-left-style: solid;\n",
       "font-family: var(--jp-code-font-family);\n",
       "font-size: var(--jp-code-font-size);\n",
       "line-height: var(--jp-code-line-height);\n",
       "\"><span style=\"color: var(--jp-warn-color2)\">lsst.quickFrameMeasurementTask</span> <span style=\"color: var(--jp-info-color0)\">INFO</span>: Measured 4 of 4 sources in exposure</pre>"
      ],
      "text/plain": [
       "<IPython.core.display.HTML object>"
      ]
     },
     "metadata": {},
     "output_type": "display_data"
    },
    {
     "name": "stdout",
     "output_type": "stream",
     "text": [
      "2022050500377\n"
     ]
    },
    {
     "data": {
      "text/html": [
       "<pre style=\"margin: 0.1em;\n",
       "padding-left: 0.25em;\n",
       "border-left-style: solid;\n",
       "font-family: var(--jp-code-font-family);\n",
       "font-size: var(--jp-code-font-size);\n",
       "line-height: var(--jp-code-line-height);\n",
       "\"><span style=\"color: var(--jp-warn-color2)\">lsst.summit.utils.bestEffort</span> <span style=\"color: var(--jp-info-color0)\">INFO</span>: Found a ready-made quickLookExp in the repo. Returning that.</pre>"
      ],
      "text/plain": [
       "<IPython.core.display.HTML object>"
      ]
     },
     "metadata": {},
     "output_type": "display_data"
    },
    {
     "data": {
      "text/html": [
       "<pre style=\"margin: 0.1em;\n",
       "padding-left: 0.25em;\n",
       "border-left-style: solid;\n",
       "font-family: var(--jp-code-font-family);\n",
       "font-size: var(--jp-code-font-size);\n",
       "line-height: var(--jp-code-line-height);\n",
       "\"><span style=\"color: var(--jp-warn-color2)\">lsst.quickFrameMeasurementTask</span> <span style=\"color: var(--jp-info-color0)\">INFO</span>: Found 2 sources in exposure</pre>"
      ],
      "text/plain": [
       "<IPython.core.display.HTML object>"
      ]
     },
     "metadata": {},
     "output_type": "display_data"
    },
    {
     "data": {
      "text/html": [
       "<pre style=\"margin: 0.1em;\n",
       "padding-left: 0.25em;\n",
       "border-left-style: solid;\n",
       "font-family: var(--jp-code-font-family);\n",
       "font-size: var(--jp-code-font-size);\n",
       "line-height: var(--jp-code-line-height);\n",
       "\"><span style=\"color: var(--jp-warn-color2)\">lsst.quickFrameMeasurementTask</span> <span style=\"color: var(--jp-info-color0)\">INFO</span>: Measured 2 of 2 sources in exposure</pre>"
      ],
      "text/plain": [
       "<IPython.core.display.HTML object>"
      ]
     },
     "metadata": {},
     "output_type": "display_data"
    },
    {
     "name": "stdout",
     "output_type": "stream",
     "text": [
      "2022050500379\n"
     ]
    },
    {
     "data": {
      "text/html": [
       "<pre style=\"margin: 0.1em;\n",
       "padding-left: 0.25em;\n",
       "border-left-style: solid;\n",
       "font-family: var(--jp-code-font-family);\n",
       "font-size: var(--jp-code-font-size);\n",
       "line-height: var(--jp-code-line-height);\n",
       "\"><span style=\"color: var(--jp-warn-color2)\">lsst.summit.utils.bestEffort</span> <span style=\"color: var(--jp-info-color0)\">INFO</span>: Found a ready-made quickLookExp in the repo. Returning that.</pre>"
      ],
      "text/plain": [
       "<IPython.core.display.HTML object>"
      ]
     },
     "metadata": {},
     "output_type": "display_data"
    },
    {
     "data": {
      "text/html": [
       "<pre style=\"margin: 0.1em;\n",
       "padding-left: 0.25em;\n",
       "border-left-style: solid;\n",
       "font-family: var(--jp-code-font-family);\n",
       "font-size: var(--jp-code-font-size);\n",
       "line-height: var(--jp-code-line-height);\n",
       "\"><span style=\"color: var(--jp-warn-color2)\">lsst.quickFrameMeasurementTask</span> <span style=\"color: var(--jp-info-color0)\">INFO</span>: Found 2 sources in exposure</pre>"
      ],
      "text/plain": [
       "<IPython.core.display.HTML object>"
      ]
     },
     "metadata": {},
     "output_type": "display_data"
    },
    {
     "data": {
      "text/html": [
       "<pre style=\"margin: 0.1em;\n",
       "padding-left: 0.25em;\n",
       "border-left-style: solid;\n",
       "font-family: var(--jp-code-font-family);\n",
       "font-size: var(--jp-code-font-size);\n",
       "line-height: var(--jp-code-line-height);\n",
       "\"><span style=\"color: var(--jp-warn-color2)\">lsst.quickFrameMeasurementTask</span> <span style=\"color: var(--jp-info-color0)\">INFO</span>: Measured 2 of 2 sources in exposure</pre>"
      ],
      "text/plain": [
       "<IPython.core.display.HTML object>"
      ]
     },
     "metadata": {},
     "output_type": "display_data"
    },
    {
     "name": "stdout",
     "output_type": "stream",
     "text": [
      "2022050500381\n"
     ]
    },
    {
     "data": {
      "text/html": [
       "<pre style=\"margin: 0.1em;\n",
       "padding-left: 0.25em;\n",
       "border-left-style: solid;\n",
       "font-family: var(--jp-code-font-family);\n",
       "font-size: var(--jp-code-font-size);\n",
       "line-height: var(--jp-code-line-height);\n",
       "\"><span style=\"color: var(--jp-warn-color2)\">lsst.summit.utils.bestEffort</span> <span style=\"color: var(--jp-info-color0)\">INFO</span>: Found a ready-made quickLookExp in the repo. Returning that.</pre>"
      ],
      "text/plain": [
       "<IPython.core.display.HTML object>"
      ]
     },
     "metadata": {},
     "output_type": "display_data"
    },
    {
     "data": {
      "text/html": [
       "<pre style=\"margin: 0.1em;\n",
       "padding-left: 0.25em;\n",
       "border-left-style: solid;\n",
       "font-family: var(--jp-code-font-family);\n",
       "font-size: var(--jp-code-font-size);\n",
       "line-height: var(--jp-code-line-height);\n",
       "\"><span style=\"color: var(--jp-warn-color2)\">lsst.quickFrameMeasurementTask</span> <span style=\"color: var(--jp-info-color0)\">INFO</span>: Found 5 sources in exposure</pre>"
      ],
      "text/plain": [
       "<IPython.core.display.HTML object>"
      ]
     },
     "metadata": {},
     "output_type": "display_data"
    },
    {
     "data": {
      "text/html": [
       "<pre style=\"margin: 0.1em;\n",
       "padding-left: 0.25em;\n",
       "border-left-style: solid;\n",
       "font-family: var(--jp-code-font-family);\n",
       "font-size: var(--jp-code-font-size);\n",
       "line-height: var(--jp-code-line-height);\n",
       "\"><span style=\"color: var(--jp-warn-color2)\">lsst.quickFrameMeasurementTask</span> <span style=\"color: var(--jp-info-color0)\">INFO</span>: Measured 5 of 5 sources in exposure</pre>"
      ],
      "text/plain": [
       "<IPython.core.display.HTML object>"
      ]
     },
     "metadata": {},
     "output_type": "display_data"
    },
    {
     "name": "stdout",
     "output_type": "stream",
     "text": [
      "2022050500383\n"
     ]
    },
    {
     "data": {
      "text/html": [
       "<pre style=\"margin: 0.1em;\n",
       "padding-left: 0.25em;\n",
       "border-left-style: solid;\n",
       "font-family: var(--jp-code-font-family);\n",
       "font-size: var(--jp-code-font-size);\n",
       "line-height: var(--jp-code-line-height);\n",
       "\"><span style=\"color: var(--jp-warn-color2)\">lsst.summit.utils.bestEffort</span> <span style=\"color: var(--jp-info-color0)\">INFO</span>: Found a ready-made quickLookExp in the repo. Returning that.</pre>"
      ],
      "text/plain": [
       "<IPython.core.display.HTML object>"
      ]
     },
     "metadata": {},
     "output_type": "display_data"
    },
    {
     "data": {
      "text/html": [
       "<pre style=\"margin: 0.1em;\n",
       "padding-left: 0.25em;\n",
       "border-left-style: solid;\n",
       "font-family: var(--jp-code-font-family);\n",
       "font-size: var(--jp-code-font-size);\n",
       "line-height: var(--jp-code-line-height);\n",
       "\"><span style=\"color: var(--jp-warn-color2)\">lsst.quickFrameMeasurementTask</span> <span style=\"color: var(--jp-info-color0)\">INFO</span>: Found 2 sources in exposure</pre>"
      ],
      "text/plain": [
       "<IPython.core.display.HTML object>"
      ]
     },
     "metadata": {},
     "output_type": "display_data"
    },
    {
     "data": {
      "text/html": [
       "<pre style=\"margin: 0.1em;\n",
       "padding-left: 0.25em;\n",
       "border-left-style: solid;\n",
       "font-family: var(--jp-code-font-family);\n",
       "font-size: var(--jp-code-font-size);\n",
       "line-height: var(--jp-code-line-height);\n",
       "\"><span style=\"color: var(--jp-warn-color2)\">lsst.quickFrameMeasurementTask</span> <span style=\"color: var(--jp-info-color0)\">INFO</span>: Measured 2 of 2 sources in exposure</pre>"
      ],
      "text/plain": [
       "<IPython.core.display.HTML object>"
      ]
     },
     "metadata": {},
     "output_type": "display_data"
    },
    {
     "name": "stdout",
     "output_type": "stream",
     "text": [
      "2022050500385\n"
     ]
    },
    {
     "data": {
      "text/html": [
       "<pre style=\"margin: 0.1em;\n",
       "padding-left: 0.25em;\n",
       "border-left-style: solid;\n",
       "font-family: var(--jp-code-font-family);\n",
       "font-size: var(--jp-code-font-size);\n",
       "line-height: var(--jp-code-line-height);\n",
       "\"><span style=\"color: var(--jp-warn-color2)\">lsst.summit.utils.bestEffort</span> <span style=\"color: var(--jp-info-color0)\">INFO</span>: Found a ready-made quickLookExp in the repo. Returning that.</pre>"
      ],
      "text/plain": [
       "<IPython.core.display.HTML object>"
      ]
     },
     "metadata": {},
     "output_type": "display_data"
    },
    {
     "data": {
      "text/html": [
       "<pre style=\"margin: 0.1em;\n",
       "padding-left: 0.25em;\n",
       "border-left-style: solid;\n",
       "font-family: var(--jp-code-font-family);\n",
       "font-size: var(--jp-code-font-size);\n",
       "line-height: var(--jp-code-line-height);\n",
       "\"><span style=\"color: var(--jp-warn-color2)\">lsst.quickFrameMeasurementTask</span> <span style=\"color: var(--jp-info-color0)\">INFO</span>: Found 4 sources in exposure</pre>"
      ],
      "text/plain": [
       "<IPython.core.display.HTML object>"
      ]
     },
     "metadata": {},
     "output_type": "display_data"
    },
    {
     "data": {
      "text/html": [
       "<pre style=\"margin: 0.1em;\n",
       "padding-left: 0.25em;\n",
       "border-left-style: solid;\n",
       "font-family: var(--jp-code-font-family);\n",
       "font-size: var(--jp-code-font-size);\n",
       "line-height: var(--jp-code-line-height);\n",
       "\"><span style=\"color: var(--jp-warn-color2)\">lsst.quickFrameMeasurementTask</span> <span style=\"color: var(--jp-info-color0)\">INFO</span>: Measured 4 of 4 sources in exposure</pre>"
      ],
      "text/plain": [
       "<IPython.core.display.HTML object>"
      ]
     },
     "metadata": {},
     "output_type": "display_data"
    },
    {
     "name": "stdout",
     "output_type": "stream",
     "text": [
      "2022050500387\n"
     ]
    },
    {
     "data": {
      "text/html": [
       "<pre style=\"margin: 0.1em;\n",
       "padding-left: 0.25em;\n",
       "border-left-style: solid;\n",
       "font-family: var(--jp-code-font-family);\n",
       "font-size: var(--jp-code-font-size);\n",
       "line-height: var(--jp-code-line-height);\n",
       "\"><span style=\"color: var(--jp-warn-color2)\">lsst.summit.utils.bestEffort</span> <span style=\"color: var(--jp-info-color0)\">INFO</span>: Found a ready-made quickLookExp in the repo. Returning that.</pre>"
      ],
      "text/plain": [
       "<IPython.core.display.HTML object>"
      ]
     },
     "metadata": {},
     "output_type": "display_data"
    },
    {
     "data": {
      "text/html": [
       "<pre style=\"margin: 0.1em;\n",
       "padding-left: 0.25em;\n",
       "border-left-style: solid;\n",
       "font-family: var(--jp-code-font-family);\n",
       "font-size: var(--jp-code-font-size);\n",
       "line-height: var(--jp-code-line-height);\n",
       "\"><span style=\"color: var(--jp-warn-color2)\">lsst.quickFrameMeasurementTask</span> <span style=\"color: var(--jp-info-color0)\">INFO</span>: Found 3 sources in exposure</pre>"
      ],
      "text/plain": [
       "<IPython.core.display.HTML object>"
      ]
     },
     "metadata": {},
     "output_type": "display_data"
    },
    {
     "data": {
      "text/html": [
       "<pre style=\"margin: 0.1em;\n",
       "padding-left: 0.25em;\n",
       "border-left-style: solid;\n",
       "font-family: var(--jp-code-font-family);\n",
       "font-size: var(--jp-code-font-size);\n",
       "line-height: var(--jp-code-line-height);\n",
       "\"><span style=\"color: var(--jp-warn-color2)\">lsst.quickFrameMeasurementTask</span> <span style=\"color: var(--jp-info-color0)\">INFO</span>: Measured 3 of 3 sources in exposure</pre>"
      ],
      "text/plain": [
       "<IPython.core.display.HTML object>"
      ]
     },
     "metadata": {},
     "output_type": "display_data"
    },
    {
     "name": "stdout",
     "output_type": "stream",
     "text": [
      "2022050500389\n"
     ]
    },
    {
     "data": {
      "text/html": [
       "<pre style=\"margin: 0.1em;\n",
       "padding-left: 0.25em;\n",
       "border-left-style: solid;\n",
       "font-family: var(--jp-code-font-family);\n",
       "font-size: var(--jp-code-font-size);\n",
       "line-height: var(--jp-code-line-height);\n",
       "\"><span style=\"color: var(--jp-warn-color2)\">lsst.summit.utils.bestEffort</span> <span style=\"color: var(--jp-info-color0)\">INFO</span>: Found a ready-made quickLookExp in the repo. Returning that.</pre>"
      ],
      "text/plain": [
       "<IPython.core.display.HTML object>"
      ]
     },
     "metadata": {},
     "output_type": "display_data"
    },
    {
     "data": {
      "text/html": [
       "<pre style=\"margin: 0.1em;\n",
       "padding-left: 0.25em;\n",
       "border-left-style: solid;\n",
       "font-family: var(--jp-code-font-family);\n",
       "font-size: var(--jp-code-font-size);\n",
       "line-height: var(--jp-code-line-height);\n",
       "\"><span style=\"color: var(--jp-warn-color2)\">lsst.quickFrameMeasurementTask</span> <span style=\"color: var(--jp-info-color0)\">INFO</span>: Found 4 sources in exposure</pre>"
      ],
      "text/plain": [
       "<IPython.core.display.HTML object>"
      ]
     },
     "metadata": {},
     "output_type": "display_data"
    },
    {
     "data": {
      "text/html": [
       "<pre style=\"margin: 0.1em;\n",
       "padding-left: 0.25em;\n",
       "border-left-style: solid;\n",
       "font-family: var(--jp-code-font-family);\n",
       "font-size: var(--jp-code-font-size);\n",
       "line-height: var(--jp-code-line-height);\n",
       "\"><span style=\"color: var(--jp-warn-color2)\">lsst.quickFrameMeasurementTask</span> <span style=\"color: var(--jp-info-color0)\">INFO</span>: Measured 4 of 4 sources in exposure</pre>"
      ],
      "text/plain": [
       "<IPython.core.display.HTML object>"
      ]
     },
     "metadata": {},
     "output_type": "display_data"
    },
    {
     "name": "stdout",
     "output_type": "stream",
     "text": [
      "2022050500391\n"
     ]
    },
    {
     "data": {
      "text/html": [
       "<pre style=\"margin: 0.1em;\n",
       "padding-left: 0.25em;\n",
       "border-left-style: solid;\n",
       "font-family: var(--jp-code-font-family);\n",
       "font-size: var(--jp-code-font-size);\n",
       "line-height: var(--jp-code-line-height);\n",
       "\"><span style=\"color: var(--jp-warn-color2)\">lsst.summit.utils.bestEffort</span> <span style=\"color: var(--jp-info-color0)\">INFO</span>: Found a ready-made quickLookExp in the repo. Returning that.</pre>"
      ],
      "text/plain": [
       "<IPython.core.display.HTML object>"
      ]
     },
     "metadata": {},
     "output_type": "display_data"
    },
    {
     "data": {
      "text/html": [
       "<pre style=\"margin: 0.1em;\n",
       "padding-left: 0.25em;\n",
       "border-left-style: solid;\n",
       "font-family: var(--jp-code-font-family);\n",
       "font-size: var(--jp-code-font-size);\n",
       "line-height: var(--jp-code-line-height);\n",
       "\"><span style=\"color: var(--jp-warn-color2)\">lsst.quickFrameMeasurementTask</span> <span style=\"color: var(--jp-info-color0)\">INFO</span>: Found 4 sources in exposure</pre>"
      ],
      "text/plain": [
       "<IPython.core.display.HTML object>"
      ]
     },
     "metadata": {},
     "output_type": "display_data"
    },
    {
     "data": {
      "text/html": [
       "<pre style=\"margin: 0.1em;\n",
       "padding-left: 0.25em;\n",
       "border-left-style: solid;\n",
       "font-family: var(--jp-code-font-family);\n",
       "font-size: var(--jp-code-font-size);\n",
       "line-height: var(--jp-code-line-height);\n",
       "\"><span style=\"color: var(--jp-warn-color2)\">lsst.quickFrameMeasurementTask</span> <span style=\"color: var(--jp-info-color0)\">INFO</span>: Measured 4 of 4 sources in exposure</pre>"
      ],
      "text/plain": [
       "<IPython.core.display.HTML object>"
      ]
     },
     "metadata": {},
     "output_type": "display_data"
    },
    {
     "name": "stdout",
     "output_type": "stream",
     "text": [
      "2022050500393\n"
     ]
    },
    {
     "data": {
      "text/html": [
       "<pre style=\"margin: 0.1em;\n",
       "padding-left: 0.25em;\n",
       "border-left-style: solid;\n",
       "font-family: var(--jp-code-font-family);\n",
       "font-size: var(--jp-code-font-size);\n",
       "line-height: var(--jp-code-line-height);\n",
       "\"><span style=\"color: var(--jp-warn-color2)\">lsst.summit.utils.bestEffort</span> <span style=\"color: var(--jp-info-color0)\">INFO</span>: Found a ready-made quickLookExp in the repo. Returning that.</pre>"
      ],
      "text/plain": [
       "<IPython.core.display.HTML object>"
      ]
     },
     "metadata": {},
     "output_type": "display_data"
    },
    {
     "data": {
      "text/html": [
       "<pre style=\"margin: 0.1em;\n",
       "padding-left: 0.25em;\n",
       "border-left-style: solid;\n",
       "font-family: var(--jp-code-font-family);\n",
       "font-size: var(--jp-code-font-size);\n",
       "line-height: var(--jp-code-line-height);\n",
       "\"><span style=\"color: var(--jp-warn-color2)\">lsst.quickFrameMeasurementTask</span> <span style=\"color: var(--jp-info-color0)\">INFO</span>: Found 4 sources in exposure</pre>"
      ],
      "text/plain": [
       "<IPython.core.display.HTML object>"
      ]
     },
     "metadata": {},
     "output_type": "display_data"
    },
    {
     "data": {
      "text/html": [
       "<pre style=\"margin: 0.1em;\n",
       "padding-left: 0.25em;\n",
       "border-left-style: solid;\n",
       "font-family: var(--jp-code-font-family);\n",
       "font-size: var(--jp-code-font-size);\n",
       "line-height: var(--jp-code-line-height);\n",
       "\"><span style=\"color: var(--jp-warn-color2)\">lsst.quickFrameMeasurementTask</span> <span style=\"color: var(--jp-info-color0)\">INFO</span>: Measured 4 of 4 sources in exposure</pre>"
      ],
      "text/plain": [
       "<IPython.core.display.HTML object>"
      ]
     },
     "metadata": {},
     "output_type": "display_data"
    },
    {
     "name": "stdout",
     "output_type": "stream",
     "text": [
      "2022050500395\n"
     ]
    },
    {
     "data": {
      "text/html": [
       "<pre style=\"margin: 0.1em;\n",
       "padding-left: 0.25em;\n",
       "border-left-style: solid;\n",
       "font-family: var(--jp-code-font-family);\n",
       "font-size: var(--jp-code-font-size);\n",
       "line-height: var(--jp-code-line-height);\n",
       "\"><span style=\"color: var(--jp-warn-color2)\">lsst.summit.utils.bestEffort</span> <span style=\"color: var(--jp-info-color0)\">INFO</span>: Found a ready-made quickLookExp in the repo. Returning that.</pre>"
      ],
      "text/plain": [
       "<IPython.core.display.HTML object>"
      ]
     },
     "metadata": {},
     "output_type": "display_data"
    },
    {
     "data": {
      "text/html": [
       "<pre style=\"margin: 0.1em;\n",
       "padding-left: 0.25em;\n",
       "border-left-style: solid;\n",
       "font-family: var(--jp-code-font-family);\n",
       "font-size: var(--jp-code-font-size);\n",
       "line-height: var(--jp-code-line-height);\n",
       "\"><span style=\"color: var(--jp-warn-color2)\">lsst.quickFrameMeasurementTask</span> <span style=\"color: var(--jp-info-color0)\">INFO</span>: Found 2 sources in exposure</pre>"
      ],
      "text/plain": [
       "<IPython.core.display.HTML object>"
      ]
     },
     "metadata": {},
     "output_type": "display_data"
    },
    {
     "data": {
      "text/html": [
       "<pre style=\"margin: 0.1em;\n",
       "padding-left: 0.25em;\n",
       "border-left-style: solid;\n",
       "font-family: var(--jp-code-font-family);\n",
       "font-size: var(--jp-code-font-size);\n",
       "line-height: var(--jp-code-line-height);\n",
       "\"><span style=\"color: var(--jp-warn-color2)\">lsst.quickFrameMeasurementTask</span> <span style=\"color: var(--jp-info-color0)\">INFO</span>: Measured 2 of 2 sources in exposure</pre>"
      ],
      "text/plain": [
       "<IPython.core.display.HTML object>"
      ]
     },
     "metadata": {},
     "output_type": "display_data"
    },
    {
     "name": "stdout",
     "output_type": "stream",
     "text": [
      "2022050500397\n"
     ]
    },
    {
     "data": {
      "text/html": [
       "<pre style=\"margin: 0.1em;\n",
       "padding-left: 0.25em;\n",
       "border-left-style: solid;\n",
       "font-family: var(--jp-code-font-family);\n",
       "font-size: var(--jp-code-font-size);\n",
       "line-height: var(--jp-code-line-height);\n",
       "\"><span style=\"color: var(--jp-warn-color2)\">lsst.summit.utils.bestEffort</span> <span style=\"color: var(--jp-info-color0)\">INFO</span>: Found a ready-made quickLookExp in the repo. Returning that.</pre>"
      ],
      "text/plain": [
       "<IPython.core.display.HTML object>"
      ]
     },
     "metadata": {},
     "output_type": "display_data"
    },
    {
     "data": {
      "text/html": [
       "<pre style=\"margin: 0.1em;\n",
       "padding-left: 0.25em;\n",
       "border-left-style: solid;\n",
       "font-family: var(--jp-code-font-family);\n",
       "font-size: var(--jp-code-font-size);\n",
       "line-height: var(--jp-code-line-height);\n",
       "\"><span style=\"color: var(--jp-warn-color2)\">lsst.quickFrameMeasurementTask</span> <span style=\"color: var(--jp-info-color0)\">INFO</span>: Found 4 sources in exposure</pre>"
      ],
      "text/plain": [
       "<IPython.core.display.HTML object>"
      ]
     },
     "metadata": {},
     "output_type": "display_data"
    },
    {
     "data": {
      "text/html": [
       "<pre style=\"margin: 0.1em;\n",
       "padding-left: 0.25em;\n",
       "border-left-style: solid;\n",
       "font-family: var(--jp-code-font-family);\n",
       "font-size: var(--jp-code-font-size);\n",
       "line-height: var(--jp-code-line-height);\n",
       "\"><span style=\"color: var(--jp-warn-color2)\">lsst.quickFrameMeasurementTask</span> <span style=\"color: var(--jp-info-color0)\">INFO</span>: Measured 4 of 4 sources in exposure</pre>"
      ],
      "text/plain": [
       "<IPython.core.display.HTML object>"
      ]
     },
     "metadata": {},
     "output_type": "display_data"
    },
    {
     "name": "stdout",
     "output_type": "stream",
     "text": [
      "2022050500399\n"
     ]
    },
    {
     "data": {
      "text/html": [
       "<pre style=\"margin: 0.1em;\n",
       "padding-left: 0.25em;\n",
       "border-left-style: solid;\n",
       "font-family: var(--jp-code-font-family);\n",
       "font-size: var(--jp-code-font-size);\n",
       "line-height: var(--jp-code-line-height);\n",
       "\"><span style=\"color: var(--jp-warn-color2)\">lsst.summit.utils.bestEffort</span> <span style=\"color: var(--jp-info-color0)\">INFO</span>: Found a ready-made quickLookExp in the repo. Returning that.</pre>"
      ],
      "text/plain": [
       "<IPython.core.display.HTML object>"
      ]
     },
     "metadata": {},
     "output_type": "display_data"
    },
    {
     "data": {
      "text/html": [
       "<pre style=\"margin: 0.1em;\n",
       "padding-left: 0.25em;\n",
       "border-left-style: solid;\n",
       "font-family: var(--jp-code-font-family);\n",
       "font-size: var(--jp-code-font-size);\n",
       "line-height: var(--jp-code-line-height);\n",
       "\"><span style=\"color: var(--jp-warn-color2)\">lsst.quickFrameMeasurementTask</span> <span style=\"color: var(--jp-info-color0)\">INFO</span>: Found 5 sources in exposure</pre>"
      ],
      "text/plain": [
       "<IPython.core.display.HTML object>"
      ]
     },
     "metadata": {},
     "output_type": "display_data"
    },
    {
     "data": {
      "text/html": [
       "<pre style=\"margin: 0.1em;\n",
       "padding-left: 0.25em;\n",
       "border-left-style: solid;\n",
       "font-family: var(--jp-code-font-family);\n",
       "font-size: var(--jp-code-font-size);\n",
       "line-height: var(--jp-code-line-height);\n",
       "\"><span style=\"color: var(--jp-warn-color2)\">lsst.quickFrameMeasurementTask</span> <span style=\"color: var(--jp-info-color0)\">INFO</span>: Measured 5 of 5 sources in exposure</pre>"
      ],
      "text/plain": [
       "<IPython.core.display.HTML object>"
      ]
     },
     "metadata": {},
     "output_type": "display_data"
    },
    {
     "name": "stdout",
     "output_type": "stream",
     "text": [
      "2022050500401\n"
     ]
    },
    {
     "data": {
      "text/html": [
       "<pre style=\"margin: 0.1em;\n",
       "padding-left: 0.25em;\n",
       "border-left-style: solid;\n",
       "font-family: var(--jp-code-font-family);\n",
       "font-size: var(--jp-code-font-size);\n",
       "line-height: var(--jp-code-line-height);\n",
       "\"><span style=\"color: var(--jp-warn-color2)\">lsst.summit.utils.bestEffort</span> <span style=\"color: var(--jp-info-color0)\">INFO</span>: Found a ready-made quickLookExp in the repo. Returning that.</pre>"
      ],
      "text/plain": [
       "<IPython.core.display.HTML object>"
      ]
     },
     "metadata": {},
     "output_type": "display_data"
    },
    {
     "data": {
      "text/html": [
       "<pre style=\"margin: 0.1em;\n",
       "padding-left: 0.25em;\n",
       "border-left-style: solid;\n",
       "font-family: var(--jp-code-font-family);\n",
       "font-size: var(--jp-code-font-size);\n",
       "line-height: var(--jp-code-line-height);\n",
       "\"><span style=\"color: var(--jp-warn-color2)\">lsst.quickFrameMeasurementTask</span> <span style=\"color: var(--jp-info-color0)\">INFO</span>: Found 3 sources in exposure</pre>"
      ],
      "text/plain": [
       "<IPython.core.display.HTML object>"
      ]
     },
     "metadata": {},
     "output_type": "display_data"
    },
    {
     "data": {
      "text/html": [
       "<pre style=\"margin: 0.1em;\n",
       "padding-left: 0.25em;\n",
       "border-left-style: solid;\n",
       "font-family: var(--jp-code-font-family);\n",
       "font-size: var(--jp-code-font-size);\n",
       "line-height: var(--jp-code-line-height);\n",
       "\"><span style=\"color: var(--jp-warn-color2)\">lsst.quickFrameMeasurementTask</span> <span style=\"color: var(--jp-info-color0)\">INFO</span>: Measured 3 of 3 sources in exposure</pre>"
      ],
      "text/plain": [
       "<IPython.core.display.HTML object>"
      ]
     },
     "metadata": {},
     "output_type": "display_data"
    }
   ],
   "source": [
    "# Measure x, y and r pointing error for each sequence.\n",
    "\n",
    "line= [] \n",
    "\n",
    "for exposure in np.arange(2022050500291,2022050500402,2):\n",
    "    print(exposure) \n",
    "    \n",
    "    data_id = {'instrument': 'LATISS', 'exposure': exposure, 'detector':0}\n",
    "\n",
    "    exp = bestEffort.getExposure(data_id)\n",
    "    \n",
    "    dx, dy, dr = calculate_xy_offsets(exp)\n",
    "    \n",
    "    az, el = get_azel(exp)\n",
    "    \n",
    "    line.append(\n",
    "        {'exposures': exposure,\n",
    "         'azimuth': az,\n",
    "         'elevation': el, \n",
    "         'dx_origin':dx,  \n",
    "         'dy_origin': dy,\n",
    "         'pointing_origin' : dr\n",
    "        }\n",
    "    )\n",
    "    \n",
    "df = pd.DataFrame(line)   "
   ]
  },
  {
   "cell_type": "code",
   "execution_count": 10,
   "id": "b57c663e-d1b3-47ad-8f07-aa70c4de09c6",
   "metadata": {},
   "outputs": [
    {
     "data": {
      "text/html": [
       "<div>\n",
       "<style scoped>\n",
       "    .dataframe tbody tr th:only-of-type {\n",
       "        vertical-align: middle;\n",
       "    }\n",
       "\n",
       "    .dataframe tbody tr th {\n",
       "        vertical-align: top;\n",
       "    }\n",
       "\n",
       "    .dataframe thead th {\n",
       "        text-align: right;\n",
       "    }\n",
       "</style>\n",
       "<table border=\"1\" class=\"dataframe\">\n",
       "  <thead>\n",
       "    <tr style=\"text-align: right;\">\n",
       "      <th></th>\n",
       "      <th>exposures</th>\n",
       "      <th>azimuth</th>\n",
       "      <th>elevation</th>\n",
       "      <th>dx_origin</th>\n",
       "      <th>dy_origin</th>\n",
       "      <th>pointing_origin</th>\n",
       "    </tr>\n",
       "  </thead>\n",
       "  <tbody>\n",
       "    <tr>\n",
       "      <th>0</th>\n",
       "      <td>2022050500291</td>\n",
       "      <td>359.176665</td>\n",
       "      <td>29.703517</td>\n",
       "      <td>2.329899</td>\n",
       "      <td>0.291350</td>\n",
       "      <td>2.348045</td>\n",
       "    </tr>\n",
       "    <tr>\n",
       "      <th>1</th>\n",
       "      <td>2022050500293</td>\n",
       "      <td>15.376505</td>\n",
       "      <td>48.212144</td>\n",
       "      <td>-0.224445</td>\n",
       "      <td>0.407905</td>\n",
       "      <td>0.465577</td>\n",
       "    </tr>\n",
       "    <tr>\n",
       "      <th>2</th>\n",
       "      <td>2022050500295</td>\n",
       "      <td>21.215347</td>\n",
       "      <td>72.202084</td>\n",
       "      <td>-0.877286</td>\n",
       "      <td>0.014982</td>\n",
       "      <td>0.877414</td>\n",
       "    </tr>\n",
       "    <tr>\n",
       "      <th>3</th>\n",
       "      <td>2022050500297</td>\n",
       "      <td>22.197029</td>\n",
       "      <td>34.095184</td>\n",
       "      <td>-0.170732</td>\n",
       "      <td>-0.380360</td>\n",
       "      <td>0.416921</td>\n",
       "    </tr>\n",
       "    <tr>\n",
       "      <th>4</th>\n",
       "      <td>2022050500299</td>\n",
       "      <td>33.629942</td>\n",
       "      <td>44.232408</td>\n",
       "      <td>1.236717</td>\n",
       "      <td>-0.760534</td>\n",
       "      <td>1.451854</td>\n",
       "    </tr>\n",
       "    <tr>\n",
       "      <th>5</th>\n",
       "      <td>2022050500301</td>\n",
       "      <td>44.761899</td>\n",
       "      <td>24.844817</td>\n",
       "      <td>8.245214</td>\n",
       "      <td>-4.153982</td>\n",
       "      <td>9.232503</td>\n",
       "    </tr>\n",
       "    <tr>\n",
       "      <th>6</th>\n",
       "      <td>2022050500303</td>\n",
       "      <td>45.290434</td>\n",
       "      <td>53.749934</td>\n",
       "      <td>-0.332890</td>\n",
       "      <td>-2.792454</td>\n",
       "      <td>2.812226</td>\n",
       "    </tr>\n",
       "    <tr>\n",
       "      <th>7</th>\n",
       "      <td>2022050500305</td>\n",
       "      <td>46.163913</td>\n",
       "      <td>82.986581</td>\n",
       "      <td>-1.243686</td>\n",
       "      <td>3.202677</td>\n",
       "      <td>3.435680</td>\n",
       "    </tr>\n",
       "    <tr>\n",
       "      <th>8</th>\n",
       "      <td>2022050500307</td>\n",
       "      <td>55.981129</td>\n",
       "      <td>35.677169</td>\n",
       "      <td>3.378297</td>\n",
       "      <td>0.845457</td>\n",
       "      <td>3.482483</td>\n",
       "    </tr>\n",
       "    <tr>\n",
       "      <th>9</th>\n",
       "      <td>2022050500309</td>\n",
       "      <td>67.320862</td>\n",
       "      <td>33.502362</td>\n",
       "      <td>3.403868</td>\n",
       "      <td>1.339581</td>\n",
       "      <td>3.657976</td>\n",
       "    </tr>\n",
       "    <tr>\n",
       "      <th>10</th>\n",
       "      <td>2022050500311</td>\n",
       "      <td>66.485379</td>\n",
       "      <td>69.600614</td>\n",
       "      <td>1.983480</td>\n",
       "      <td>3.940719</td>\n",
       "      <td>4.411741</td>\n",
       "    </tr>\n",
       "    <tr>\n",
       "      <th>11</th>\n",
       "      <td>2022050500313</td>\n",
       "      <td>75.002577</td>\n",
       "      <td>57.247830</td>\n",
       "      <td>-0.871185</td>\n",
       "      <td>1.229931</td>\n",
       "      <td>1.507214</td>\n",
       "    </tr>\n",
       "    <tr>\n",
       "      <th>12</th>\n",
       "      <td>2022050500315</td>\n",
       "      <td>78.732530</td>\n",
       "      <td>39.874401</td>\n",
       "      <td>-0.252344</td>\n",
       "      <td>1.519984</td>\n",
       "      <td>1.540788</td>\n",
       "    </tr>\n",
       "    <tr>\n",
       "      <th>13</th>\n",
       "      <td>2022050500317</td>\n",
       "      <td>89.666280</td>\n",
       "      <td>25.368953</td>\n",
       "      <td>-1.165088</td>\n",
       "      <td>2.278623</td>\n",
       "      <td>2.559209</td>\n",
       "    </tr>\n",
       "    <tr>\n",
       "      <th>14</th>\n",
       "      <td>2022050500319</td>\n",
       "      <td>101.119920</td>\n",
       "      <td>47.970552</td>\n",
       "      <td>0.111525</td>\n",
       "      <td>4.120484</td>\n",
       "      <td>4.121993</td>\n",
       "    </tr>\n",
       "    <tr>\n",
       "      <th>15</th>\n",
       "      <td>2022050500321</td>\n",
       "      <td>105.333521</td>\n",
       "      <td>49.274791</td>\n",
       "      <td>1.345469</td>\n",
       "      <td>5.763830</td>\n",
       "      <td>5.918786</td>\n",
       "    </tr>\n",
       "    <tr>\n",
       "      <th>16</th>\n",
       "      <td>2022050500323</td>\n",
       "      <td>112.562575</td>\n",
       "      <td>23.618182</td>\n",
       "      <td>-1.787230</td>\n",
       "      <td>4.840537</td>\n",
       "      <td>5.159941</td>\n",
       "    </tr>\n",
       "    <tr>\n",
       "      <th>17</th>\n",
       "      <td>2022050500325</td>\n",
       "      <td>112.345301</td>\n",
       "      <td>63.143768</td>\n",
       "      <td>4.773700</td>\n",
       "      <td>8.345054</td>\n",
       "      <td>9.613956</td>\n",
       "    </tr>\n",
       "    <tr>\n",
       "      <th>18</th>\n",
       "      <td>2022050500327</td>\n",
       "      <td>123.690382</td>\n",
       "      <td>45.636451</td>\n",
       "      <td>0.004966</td>\n",
       "      <td>3.034086</td>\n",
       "      <td>3.034090</td>\n",
       "    </tr>\n",
       "    <tr>\n",
       "      <th>19</th>\n",
       "      <td>2022050500329</td>\n",
       "      <td>134.820538</td>\n",
       "      <td>29.124873</td>\n",
       "      <td>0.641344</td>\n",
       "      <td>5.063603</td>\n",
       "      <td>5.104057</td>\n",
       "    </tr>\n",
       "    <tr>\n",
       "      <th>20</th>\n",
       "      <td>2022050500331</td>\n",
       "      <td>135.549783</td>\n",
       "      <td>48.749662</td>\n",
       "      <td>2.271524</td>\n",
       "      <td>3.229647</td>\n",
       "      <td>3.948474</td>\n",
       "    </tr>\n",
       "    <tr>\n",
       "      <th>21</th>\n",
       "      <td>2022050500333</td>\n",
       "      <td>135.527745</td>\n",
       "      <td>79.349688</td>\n",
       "      <td>4.411063</td>\n",
       "      <td>-0.023038</td>\n",
       "      <td>4.411123</td>\n",
       "    </tr>\n",
       "    <tr>\n",
       "      <th>22</th>\n",
       "      <td>2022050500335</td>\n",
       "      <td>146.363709</td>\n",
       "      <td>24.825480</td>\n",
       "      <td>0.807190</td>\n",
       "      <td>4.829968</td>\n",
       "      <td>4.896953</td>\n",
       "    </tr>\n",
       "    <tr>\n",
       "      <th>23</th>\n",
       "      <td>2022050500337</td>\n",
       "      <td>146.429792</td>\n",
       "      <td>45.105970</td>\n",
       "      <td>2.892691</td>\n",
       "      <td>3.203115</td>\n",
       "      <td>4.315972</td>\n",
       "    </tr>\n",
       "    <tr>\n",
       "      <th>24</th>\n",
       "      <td>2022050500339</td>\n",
       "      <td>158.269904</td>\n",
       "      <td>71.882938</td>\n",
       "      <td>4.119884</td>\n",
       "      <td>0.793316</td>\n",
       "      <td>4.195568</td>\n",
       "    </tr>\n",
       "    <tr>\n",
       "      <th>25</th>\n",
       "      <td>2022050500341</td>\n",
       "      <td>157.969427</td>\n",
       "      <td>35.517178</td>\n",
       "      <td>2.620260</td>\n",
       "      <td>4.642486</td>\n",
       "      <td>5.330895</td>\n",
       "    </tr>\n",
       "    <tr>\n",
       "      <th>26</th>\n",
       "      <td>2022050500343</td>\n",
       "      <td>165.726263</td>\n",
       "      <td>55.770711</td>\n",
       "      <td>4.733386</td>\n",
       "      <td>3.378362</td>\n",
       "      <td>5.815349</td>\n",
       "    </tr>\n",
       "    <tr>\n",
       "      <th>27</th>\n",
       "      <td>2022050500345</td>\n",
       "      <td>168.870953</td>\n",
       "      <td>44.641490</td>\n",
       "      <td>3.025251</td>\n",
       "      <td>2.985855</td>\n",
       "      <td>4.250585</td>\n",
       "    </tr>\n",
       "    <tr>\n",
       "      <th>28</th>\n",
       "      <td>2022050500347</td>\n",
       "      <td>179.963162</td>\n",
       "      <td>22.424372</td>\n",
       "      <td>1.822302</td>\n",
       "      <td>3.241627</td>\n",
       "      <td>3.718727</td>\n",
       "    </tr>\n",
       "    <tr>\n",
       "      <th>29</th>\n",
       "      <td>2022050500349</td>\n",
       "      <td>191.168964</td>\n",
       "      <td>48.704255</td>\n",
       "      <td>2.098475</td>\n",
       "      <td>7.698855</td>\n",
       "      <td>7.979722</td>\n",
       "    </tr>\n",
       "    <tr>\n",
       "      <th>30</th>\n",
       "      <td>2022050500351</td>\n",
       "      <td>194.578642</td>\n",
       "      <td>50.371455</td>\n",
       "      <td>2.621552</td>\n",
       "      <td>4.372397</td>\n",
       "      <td>5.098077</td>\n",
       "    </tr>\n",
       "    <tr>\n",
       "      <th>31</th>\n",
       "      <td>2022050500353</td>\n",
       "      <td>202.649915</td>\n",
       "      <td>24.354852</td>\n",
       "      <td>1.277891</td>\n",
       "      <td>4.307955</td>\n",
       "      <td>4.493493</td>\n",
       "    </tr>\n",
       "    <tr>\n",
       "      <th>32</th>\n",
       "      <td>2022050500355</td>\n",
       "      <td>202.456915</td>\n",
       "      <td>69.221169</td>\n",
       "      <td>3.199421</td>\n",
       "      <td>6.823342</td>\n",
       "      <td>7.536199</td>\n",
       "    </tr>\n",
       "    <tr>\n",
       "      <th>33</th>\n",
       "      <td>2022050500357</td>\n",
       "      <td>213.793768</td>\n",
       "      <td>46.481933</td>\n",
       "      <td>0.847128</td>\n",
       "      <td>4.308087</td>\n",
       "      <td>4.390586</td>\n",
       "    </tr>\n",
       "    <tr>\n",
       "      <th>34</th>\n",
       "      <td>2022050500359</td>\n",
       "      <td>224.879352</td>\n",
       "      <td>49.503022</td>\n",
       "      <td>1.304787</td>\n",
       "      <td>4.829165</td>\n",
       "      <td>5.002330</td>\n",
       "    </tr>\n",
       "    <tr>\n",
       "      <th>35</th>\n",
       "      <td>2022050500361</td>\n",
       "      <td>224.747805</td>\n",
       "      <td>31.470576</td>\n",
       "      <td>-0.049060</td>\n",
       "      <td>5.989135</td>\n",
       "      <td>5.989336</td>\n",
       "    </tr>\n",
       "    <tr>\n",
       "      <th>36</th>\n",
       "      <td>2022050500363</td>\n",
       "      <td>230.841005</td>\n",
       "      <td>85.272408</td>\n",
       "      <td>0.399300</td>\n",
       "      <td>-1.690018</td>\n",
       "      <td>1.736549</td>\n",
       "    </tr>\n",
       "    <tr>\n",
       "      <th>37</th>\n",
       "      <td>2022050500365</td>\n",
       "      <td>236.480979</td>\n",
       "      <td>37.384713</td>\n",
       "      <td>3.142965</td>\n",
       "      <td>6.110335</td>\n",
       "      <td>6.871276</td>\n",
       "    </tr>\n",
       "    <tr>\n",
       "      <th>38</th>\n",
       "      <td>2022050500367</td>\n",
       "      <td>236.209645</td>\n",
       "      <td>25.421372</td>\n",
       "      <td>0.912529</td>\n",
       "      <td>6.526850</td>\n",
       "      <td>6.590333</td>\n",
       "    </tr>\n",
       "    <tr>\n",
       "      <th>39</th>\n",
       "      <td>2022050500369</td>\n",
       "      <td>247.938935</td>\n",
       "      <td>71.006696</td>\n",
       "      <td>5.578276</td>\n",
       "      <td>3.753030</td>\n",
       "      <td>6.723273</td>\n",
       "    </tr>\n",
       "    <tr>\n",
       "      <th>40</th>\n",
       "      <td>2022050500371</td>\n",
       "      <td>247.064746</td>\n",
       "      <td>23.390089</td>\n",
       "      <td>-0.287587</td>\n",
       "      <td>7.088248</td>\n",
       "      <td>7.094079</td>\n",
       "    </tr>\n",
       "    <tr>\n",
       "      <th>41</th>\n",
       "      <td>2022050500373</td>\n",
       "      <td>258.775812</td>\n",
       "      <td>40.476607</td>\n",
       "      <td>-5.120818</td>\n",
       "      <td>8.073876</td>\n",
       "      <td>9.560871</td>\n",
       "    </tr>\n",
       "    <tr>\n",
       "      <th>42</th>\n",
       "      <td>2022050500375</td>\n",
       "      <td>269.335173</td>\n",
       "      <td>22.836712</td>\n",
       "      <td>-1.945718</td>\n",
       "      <td>3.604854</td>\n",
       "      <td>4.096437</td>\n",
       "    </tr>\n",
       "    <tr>\n",
       "      <th>43</th>\n",
       "      <td>2022050500377</td>\n",
       "      <td>281.008579</td>\n",
       "      <td>40.175776</td>\n",
       "      <td>-0.010944</td>\n",
       "      <td>6.061525</td>\n",
       "      <td>6.061535</td>\n",
       "    </tr>\n",
       "    <tr>\n",
       "      <th>44</th>\n",
       "      <td>2022050500379</td>\n",
       "      <td>280.923590</td>\n",
       "      <td>22.944570</td>\n",
       "      <td>-1.008996</td>\n",
       "      <td>4.722322</td>\n",
       "      <td>4.828913</td>\n",
       "    </tr>\n",
       "    <tr>\n",
       "      <th>45</th>\n",
       "      <td>2022050500381</td>\n",
       "      <td>285.456506</td>\n",
       "      <td>60.931585</td>\n",
       "      <td>1.276456</td>\n",
       "      <td>7.701696</td>\n",
       "      <td>7.806757</td>\n",
       "    </tr>\n",
       "    <tr>\n",
       "      <th>46</th>\n",
       "      <td>2022050500383</td>\n",
       "      <td>293.222726</td>\n",
       "      <td>70.429036</td>\n",
       "      <td>1.363165</td>\n",
       "      <td>8.696114</td>\n",
       "      <td>8.802308</td>\n",
       "    </tr>\n",
       "    <tr>\n",
       "      <th>47</th>\n",
       "      <td>2022050500385</td>\n",
       "      <td>291.879534</td>\n",
       "      <td>25.444122</td>\n",
       "      <td>-1.835169</td>\n",
       "      <td>3.596985</td>\n",
       "      <td>4.038087</td>\n",
       "    </tr>\n",
       "    <tr>\n",
       "      <th>48</th>\n",
       "      <td>2022050500387</td>\n",
       "      <td>304.033565</td>\n",
       "      <td>43.175282</td>\n",
       "      <td>0.131862</td>\n",
       "      <td>5.477521</td>\n",
       "      <td>5.479108</td>\n",
       "    </tr>\n",
       "    <tr>\n",
       "      <th>49</th>\n",
       "      <td>2022050500389</td>\n",
       "      <td>313.282392</td>\n",
       "      <td>75.206999</td>\n",
       "      <td>2.195670</td>\n",
       "      <td>7.371640</td>\n",
       "      <td>7.691687</td>\n",
       "    </tr>\n",
       "    <tr>\n",
       "      <th>50</th>\n",
       "      <td>2022050500391</td>\n",
       "      <td>314.661804</td>\n",
       "      <td>31.911843</td>\n",
       "      <td>0.293972</td>\n",
       "      <td>5.169399</td>\n",
       "      <td>5.177751</td>\n",
       "    </tr>\n",
       "    <tr>\n",
       "      <th>51</th>\n",
       "      <td>2022050500393</td>\n",
       "      <td>315.461958</td>\n",
       "      <td>60.626950</td>\n",
       "      <td>1.398043</td>\n",
       "      <td>7.292258</td>\n",
       "      <td>7.425062</td>\n",
       "    </tr>\n",
       "    <tr>\n",
       "      <th>52</th>\n",
       "      <td>2022050500395</td>\n",
       "      <td>326.670844</td>\n",
       "      <td>43.308789</td>\n",
       "      <td>-0.886969</td>\n",
       "      <td>5.278237</td>\n",
       "      <td>5.352242</td>\n",
       "    </tr>\n",
       "    <tr>\n",
       "      <th>53</th>\n",
       "      <td>2022050500397</td>\n",
       "      <td>337.062682</td>\n",
       "      <td>31.438394</td>\n",
       "      <td>-1.681917</td>\n",
       "      <td>5.175382</td>\n",
       "      <td>5.441822</td>\n",
       "    </tr>\n",
       "    <tr>\n",
       "      <th>54</th>\n",
       "      <td>2022050500399</td>\n",
       "      <td>337.763255</td>\n",
       "      <td>63.534025</td>\n",
       "      <td>1.212511</td>\n",
       "      <td>5.217237</td>\n",
       "      <td>5.356281</td>\n",
       "    </tr>\n",
       "    <tr>\n",
       "      <th>55</th>\n",
       "      <td>2022050500401</td>\n",
       "      <td>348.883902</td>\n",
       "      <td>41.729678</td>\n",
       "      <td>-0.963032</td>\n",
       "      <td>5.125820</td>\n",
       "      <td>5.215502</td>\n",
       "    </tr>\n",
       "  </tbody>\n",
       "</table>\n",
       "</div>"
      ],
      "text/plain": [
       "        exposures     azimuth  elevation  dx_origin  dy_origin  \\\n",
       "0   2022050500291  359.176665  29.703517   2.329899   0.291350   \n",
       "1   2022050500293   15.376505  48.212144  -0.224445   0.407905   \n",
       "2   2022050500295   21.215347  72.202084  -0.877286   0.014982   \n",
       "3   2022050500297   22.197029  34.095184  -0.170732  -0.380360   \n",
       "4   2022050500299   33.629942  44.232408   1.236717  -0.760534   \n",
       "5   2022050500301   44.761899  24.844817   8.245214  -4.153982   \n",
       "6   2022050500303   45.290434  53.749934  -0.332890  -2.792454   \n",
       "7   2022050500305   46.163913  82.986581  -1.243686   3.202677   \n",
       "8   2022050500307   55.981129  35.677169   3.378297   0.845457   \n",
       "9   2022050500309   67.320862  33.502362   3.403868   1.339581   \n",
       "10  2022050500311   66.485379  69.600614   1.983480   3.940719   \n",
       "11  2022050500313   75.002577  57.247830  -0.871185   1.229931   \n",
       "12  2022050500315   78.732530  39.874401  -0.252344   1.519984   \n",
       "13  2022050500317   89.666280  25.368953  -1.165088   2.278623   \n",
       "14  2022050500319  101.119920  47.970552   0.111525   4.120484   \n",
       "15  2022050500321  105.333521  49.274791   1.345469   5.763830   \n",
       "16  2022050500323  112.562575  23.618182  -1.787230   4.840537   \n",
       "17  2022050500325  112.345301  63.143768   4.773700   8.345054   \n",
       "18  2022050500327  123.690382  45.636451   0.004966   3.034086   \n",
       "19  2022050500329  134.820538  29.124873   0.641344   5.063603   \n",
       "20  2022050500331  135.549783  48.749662   2.271524   3.229647   \n",
       "21  2022050500333  135.527745  79.349688   4.411063  -0.023038   \n",
       "22  2022050500335  146.363709  24.825480   0.807190   4.829968   \n",
       "23  2022050500337  146.429792  45.105970   2.892691   3.203115   \n",
       "24  2022050500339  158.269904  71.882938   4.119884   0.793316   \n",
       "25  2022050500341  157.969427  35.517178   2.620260   4.642486   \n",
       "26  2022050500343  165.726263  55.770711   4.733386   3.378362   \n",
       "27  2022050500345  168.870953  44.641490   3.025251   2.985855   \n",
       "28  2022050500347  179.963162  22.424372   1.822302   3.241627   \n",
       "29  2022050500349  191.168964  48.704255   2.098475   7.698855   \n",
       "30  2022050500351  194.578642  50.371455   2.621552   4.372397   \n",
       "31  2022050500353  202.649915  24.354852   1.277891   4.307955   \n",
       "32  2022050500355  202.456915  69.221169   3.199421   6.823342   \n",
       "33  2022050500357  213.793768  46.481933   0.847128   4.308087   \n",
       "34  2022050500359  224.879352  49.503022   1.304787   4.829165   \n",
       "35  2022050500361  224.747805  31.470576  -0.049060   5.989135   \n",
       "36  2022050500363  230.841005  85.272408   0.399300  -1.690018   \n",
       "37  2022050500365  236.480979  37.384713   3.142965   6.110335   \n",
       "38  2022050500367  236.209645  25.421372   0.912529   6.526850   \n",
       "39  2022050500369  247.938935  71.006696   5.578276   3.753030   \n",
       "40  2022050500371  247.064746  23.390089  -0.287587   7.088248   \n",
       "41  2022050500373  258.775812  40.476607  -5.120818   8.073876   \n",
       "42  2022050500375  269.335173  22.836712  -1.945718   3.604854   \n",
       "43  2022050500377  281.008579  40.175776  -0.010944   6.061525   \n",
       "44  2022050500379  280.923590  22.944570  -1.008996   4.722322   \n",
       "45  2022050500381  285.456506  60.931585   1.276456   7.701696   \n",
       "46  2022050500383  293.222726  70.429036   1.363165   8.696114   \n",
       "47  2022050500385  291.879534  25.444122  -1.835169   3.596985   \n",
       "48  2022050500387  304.033565  43.175282   0.131862   5.477521   \n",
       "49  2022050500389  313.282392  75.206999   2.195670   7.371640   \n",
       "50  2022050500391  314.661804  31.911843   0.293972   5.169399   \n",
       "51  2022050500393  315.461958  60.626950   1.398043   7.292258   \n",
       "52  2022050500395  326.670844  43.308789  -0.886969   5.278237   \n",
       "53  2022050500397  337.062682  31.438394  -1.681917   5.175382   \n",
       "54  2022050500399  337.763255  63.534025   1.212511   5.217237   \n",
       "55  2022050500401  348.883902  41.729678  -0.963032   5.125820   \n",
       "\n",
       "    pointing_origin  \n",
       "0          2.348045  \n",
       "1          0.465577  \n",
       "2          0.877414  \n",
       "3          0.416921  \n",
       "4          1.451854  \n",
       "5          9.232503  \n",
       "6          2.812226  \n",
       "7          3.435680  \n",
       "8          3.482483  \n",
       "9          3.657976  \n",
       "10         4.411741  \n",
       "11         1.507214  \n",
       "12         1.540788  \n",
       "13         2.559209  \n",
       "14         4.121993  \n",
       "15         5.918786  \n",
       "16         5.159941  \n",
       "17         9.613956  \n",
       "18         3.034090  \n",
       "19         5.104057  \n",
       "20         3.948474  \n",
       "21         4.411123  \n",
       "22         4.896953  \n",
       "23         4.315972  \n",
       "24         4.195568  \n",
       "25         5.330895  \n",
       "26         5.815349  \n",
       "27         4.250585  \n",
       "28         3.718727  \n",
       "29         7.979722  \n",
       "30         5.098077  \n",
       "31         4.493493  \n",
       "32         7.536199  \n",
       "33         4.390586  \n",
       "34         5.002330  \n",
       "35         5.989336  \n",
       "36         1.736549  \n",
       "37         6.871276  \n",
       "38         6.590333  \n",
       "39         6.723273  \n",
       "40         7.094079  \n",
       "41         9.560871  \n",
       "42         4.096437  \n",
       "43         6.061535  \n",
       "44         4.828913  \n",
       "45         7.806757  \n",
       "46         8.802308  \n",
       "47         4.038087  \n",
       "48         5.479108  \n",
       "49         7.691687  \n",
       "50         5.177751  \n",
       "51         7.425062  \n",
       "52         5.352242  \n",
       "53         5.441822  \n",
       "54         5.356281  \n",
       "55         5.215502  "
      ]
     },
     "execution_count": 10,
     "metadata": {},
     "output_type": "execute_result"
    }
   ],
   "source": [
    "df"
   ]
  },
  {
   "cell_type": "code",
   "execution_count": 71,
   "id": "8d3234fe-1513-4dbb-942e-ce4b7eab0b55",
   "metadata": {},
   "outputs": [],
   "source": [
    "# Delete sequence 210  (two bright stars) \n",
    "df = df.drop([11,12])"
   ]
  },
  {
   "cell_type": "code",
   "execution_count": 11,
   "id": "7912bf79-33cd-4591-a65e-358a430ce88b",
   "metadata": {},
   "outputs": [],
   "source": [
    "df.to_csv('PointingMay5th.txt')"
   ]
  },
  {
   "cell_type": "code",
   "execution_count": 64,
   "id": "d49182ca-db74-4346-95d9-55cc058c340a",
   "metadata": {},
   "outputs": [],
   "source": [
    "df = pd.read_csv('PointingMay5th.txt') "
   ]
  },
  {
   "cell_type": "code",
   "execution_count": 65,
   "id": "ee043297-44ba-4bdf-a783-e35e8ac4f69b",
   "metadata": {},
   "outputs": [
    {
     "data": {
      "text/html": [
       "<div>\n",
       "<style scoped>\n",
       "    .dataframe tbody tr th:only-of-type {\n",
       "        vertical-align: middle;\n",
       "    }\n",
       "\n",
       "    .dataframe tbody tr th {\n",
       "        vertical-align: top;\n",
       "    }\n",
       "\n",
       "    .dataframe thead th {\n",
       "        text-align: right;\n",
       "    }\n",
       "</style>\n",
       "<table border=\"1\" class=\"dataframe\">\n",
       "  <thead>\n",
       "    <tr style=\"text-align: right;\">\n",
       "      <th></th>\n",
       "      <th>Unnamed: 0.3</th>\n",
       "      <th>Unnamed: 0.2</th>\n",
       "      <th>Unnamed: 0.1</th>\n",
       "      <th>Unnamed: 0</th>\n",
       "      <th>exposures</th>\n",
       "      <th>azimuth</th>\n",
       "      <th>elevation</th>\n",
       "      <th>dx_origin</th>\n",
       "      <th>dy_origin</th>\n",
       "      <th>pointing_origin</th>\n",
       "    </tr>\n",
       "  </thead>\n",
       "  <tbody>\n",
       "    <tr>\n",
       "      <th>0</th>\n",
       "      <td>0</td>\n",
       "      <td>0</td>\n",
       "      <td>0</td>\n",
       "      <td>0</td>\n",
       "      <td>2022050300186</td>\n",
       "      <td>15.179452</td>\n",
       "      <td>38.574614</td>\n",
       "      <td>9.067422</td>\n",
       "      <td>-14.778805</td>\n",
       "      <td>17.338720</td>\n",
       "    </tr>\n",
       "    <tr>\n",
       "      <th>1</th>\n",
       "      <td>1</td>\n",
       "      <td>1</td>\n",
       "      <td>1</td>\n",
       "      <td>1</td>\n",
       "      <td>2022050300188</td>\n",
       "      <td>22.688426</td>\n",
       "      <td>65.954237</td>\n",
       "      <td>0.250600</td>\n",
       "      <td>-14.561527</td>\n",
       "      <td>14.563683</td>\n",
       "    </tr>\n",
       "    <tr>\n",
       "      <th>2</th>\n",
       "      <td>2</td>\n",
       "      <td>2</td>\n",
       "      <td>2</td>\n",
       "      <td>2</td>\n",
       "      <td>2022050300190</td>\n",
       "      <td>45.131015</td>\n",
       "      <td>70.651670</td>\n",
       "      <td>-1.851978</td>\n",
       "      <td>-12.663460</td>\n",
       "      <td>12.798165</td>\n",
       "    </tr>\n",
       "    <tr>\n",
       "      <th>3</th>\n",
       "      <td>3</td>\n",
       "      <td>3</td>\n",
       "      <td>3</td>\n",
       "      <td>3</td>\n",
       "      <td>2022050300192</td>\n",
       "      <td>60.328573</td>\n",
       "      <td>33.119514</td>\n",
       "      <td>6.976247</td>\n",
       "      <td>-14.624754</td>\n",
       "      <td>16.203440</td>\n",
       "    </tr>\n",
       "    <tr>\n",
       "      <th>4</th>\n",
       "      <td>4</td>\n",
       "      <td>4</td>\n",
       "      <td>4</td>\n",
       "      <td>4</td>\n",
       "      <td>2022050300194</td>\n",
       "      <td>74.956338</td>\n",
       "      <td>48.491493</td>\n",
       "      <td>1.696785</td>\n",
       "      <td>-15.492281</td>\n",
       "      <td>15.584924</td>\n",
       "    </tr>\n",
       "    <tr>\n",
       "      <th>5</th>\n",
       "      <td>5</td>\n",
       "      <td>5</td>\n",
       "      <td>5</td>\n",
       "      <td>5</td>\n",
       "      <td>2022050300196</td>\n",
       "      <td>105.188835</td>\n",
       "      <td>35.626345</td>\n",
       "      <td>7.565717</td>\n",
       "      <td>-18.945330</td>\n",
       "      <td>20.400137</td>\n",
       "    </tr>\n",
       "    <tr>\n",
       "      <th>6</th>\n",
       "      <td>6</td>\n",
       "      <td>6</td>\n",
       "      <td>6</td>\n",
       "      <td>6</td>\n",
       "      <td>2022050300198</td>\n",
       "      <td>112.206536</td>\n",
       "      <td>52.255204</td>\n",
       "      <td>2.340396</td>\n",
       "      <td>-18.334392</td>\n",
       "      <td>18.483165</td>\n",
       "    </tr>\n",
       "    <tr>\n",
       "      <th>7</th>\n",
       "      <td>7</td>\n",
       "      <td>7</td>\n",
       "      <td>7</td>\n",
       "      <td>7</td>\n",
       "      <td>2022050300200</td>\n",
       "      <td>119.534492</td>\n",
       "      <td>26.572608</td>\n",
       "      <td>11.843504</td>\n",
       "      <td>-21.493764</td>\n",
       "      <td>24.540792</td>\n",
       "    </tr>\n",
       "    <tr>\n",
       "      <th>8</th>\n",
       "      <td>8</td>\n",
       "      <td>8</td>\n",
       "      <td>8</td>\n",
       "      <td>8</td>\n",
       "      <td>2022050300202</td>\n",
       "      <td>135.336476</td>\n",
       "      <td>47.146137</td>\n",
       "      <td>4.964627</td>\n",
       "      <td>-22.501140</td>\n",
       "      <td>23.042326</td>\n",
       "    </tr>\n",
       "    <tr>\n",
       "      <th>9</th>\n",
       "      <td>9</td>\n",
       "      <td>9</td>\n",
       "      <td>9</td>\n",
       "      <td>9</td>\n",
       "      <td>2022050300204</td>\n",
       "      <td>134.794695</td>\n",
       "      <td>20.689605</td>\n",
       "      <td>16.165042</td>\n",
       "      <td>-17.917245</td>\n",
       "      <td>24.131644</td>\n",
       "    </tr>\n",
       "    <tr>\n",
       "      <th>10</th>\n",
       "      <td>10</td>\n",
       "      <td>10</td>\n",
       "      <td>10</td>\n",
       "      <td>10</td>\n",
       "      <td>2022050300206</td>\n",
       "      <td>135.149385</td>\n",
       "      <td>73.194058</td>\n",
       "      <td>-2.089521</td>\n",
       "      <td>-19.777990</td>\n",
       "      <td>19.888062</td>\n",
       "    </tr>\n",
       "    <tr>\n",
       "      <th>11</th>\n",
       "      <td>13</td>\n",
       "      <td>14</td>\n",
       "      <td>14</td>\n",
       "      <td>14</td>\n",
       "      <td>2022050300214</td>\n",
       "      <td>179.904273</td>\n",
       "      <td>24.484786</td>\n",
       "      <td>9.886412</td>\n",
       "      <td>-16.549434</td>\n",
       "      <td>19.277575</td>\n",
       "    </tr>\n",
       "    <tr>\n",
       "      <th>12</th>\n",
       "      <td>14</td>\n",
       "      <td>15</td>\n",
       "      <td>15</td>\n",
       "      <td>15</td>\n",
       "      <td>2022050300216</td>\n",
       "      <td>194.962118</td>\n",
       "      <td>48.416924</td>\n",
       "      <td>0.351196</td>\n",
       "      <td>-15.745923</td>\n",
       "      <td>15.749839</td>\n",
       "    </tr>\n",
       "    <tr>\n",
       "      <th>13</th>\n",
       "      <td>15</td>\n",
       "      <td>16</td>\n",
       "      <td>16</td>\n",
       "      <td>16</td>\n",
       "      <td>2022050300218</td>\n",
       "      <td>203.724759</td>\n",
       "      <td>67.962207</td>\n",
       "      <td>-3.764197</td>\n",
       "      <td>-13.834219</td>\n",
       "      <td>14.337183</td>\n",
       "    </tr>\n",
       "    <tr>\n",
       "      <th>14</th>\n",
       "      <td>16</td>\n",
       "      <td>17</td>\n",
       "      <td>17</td>\n",
       "      <td>17</td>\n",
       "      <td>2022050300220</td>\n",
       "      <td>209.674838</td>\n",
       "      <td>27.952359</td>\n",
       "      <td>6.511534</td>\n",
       "      <td>-17.110924</td>\n",
       "      <td>18.308025</td>\n",
       "    </tr>\n",
       "    <tr>\n",
       "      <th>15</th>\n",
       "      <td>17</td>\n",
       "      <td>18</td>\n",
       "      <td>18</td>\n",
       "      <td>18</td>\n",
       "      <td>2022050300222</td>\n",
       "      <td>224.452705</td>\n",
       "      <td>37.322689</td>\n",
       "      <td>4.659486</td>\n",
       "      <td>-17.129422</td>\n",
       "      <td>17.751842</td>\n",
       "    </tr>\n",
       "    <tr>\n",
       "      <th>16</th>\n",
       "      <td>18</td>\n",
       "      <td>19</td>\n",
       "      <td>19</td>\n",
       "      <td>19</td>\n",
       "      <td>2022050300224</td>\n",
       "      <td>225.140530</td>\n",
       "      <td>67.676557</td>\n",
       "      <td>-2.624281</td>\n",
       "      <td>-12.986116</td>\n",
       "      <td>13.248625</td>\n",
       "    </tr>\n",
       "    <tr>\n",
       "      <th>17</th>\n",
       "      <td>19</td>\n",
       "      <td>20</td>\n",
       "      <td>20</td>\n",
       "      <td>20</td>\n",
       "      <td>2022050300226</td>\n",
       "      <td>240.214543</td>\n",
       "      <td>23.361968</td>\n",
       "      <td>9.625577</td>\n",
       "      <td>-13.022871</td>\n",
       "      <td>16.194039</td>\n",
       "    </tr>\n",
       "    <tr>\n",
       "      <th>18</th>\n",
       "      <td>20</td>\n",
       "      <td>21</td>\n",
       "      <td>21</td>\n",
       "      <td>21</td>\n",
       "      <td>2022050300228</td>\n",
       "      <td>247.441682</td>\n",
       "      <td>65.448784</td>\n",
       "      <td>3.097590</td>\n",
       "      <td>-13.577553</td>\n",
       "      <td>13.926415</td>\n",
       "    </tr>\n",
       "    <tr>\n",
       "      <th>19</th>\n",
       "      <td>21</td>\n",
       "      <td>22</td>\n",
       "      <td>22</td>\n",
       "      <td>22</td>\n",
       "      <td>2022050300230</td>\n",
       "      <td>284.354740</td>\n",
       "      <td>40.479341</td>\n",
       "      <td>0.488219</td>\n",
       "      <td>-16.907632</td>\n",
       "      <td>16.914679</td>\n",
       "    </tr>\n",
       "    <tr>\n",
       "      <th>20</th>\n",
       "      <td>22</td>\n",
       "      <td>23</td>\n",
       "      <td>23</td>\n",
       "      <td>23</td>\n",
       "      <td>2022050300232</td>\n",
       "      <td>293.245424</td>\n",
       "      <td>62.778451</td>\n",
       "      <td>-4.606518</td>\n",
       "      <td>-12.797884</td>\n",
       "      <td>13.601686</td>\n",
       "    </tr>\n",
       "    <tr>\n",
       "      <th>21</th>\n",
       "      <td>23</td>\n",
       "      <td>24</td>\n",
       "      <td>24</td>\n",
       "      <td>24</td>\n",
       "      <td>2022050300234</td>\n",
       "      <td>300.276675</td>\n",
       "      <td>30.364758</td>\n",
       "      <td>4.585786</td>\n",
       "      <td>-17.939072</td>\n",
       "      <td>18.515932</td>\n",
       "    </tr>\n",
       "    <tr>\n",
       "      <th>22</th>\n",
       "      <td>24</td>\n",
       "      <td>25</td>\n",
       "      <td>25</td>\n",
       "      <td>25</td>\n",
       "      <td>2022050300236</td>\n",
       "      <td>313.840595</td>\n",
       "      <td>79.232795</td>\n",
       "      <td>-9.104473</td>\n",
       "      <td>-13.064478</td>\n",
       "      <td>15.923945</td>\n",
       "    </tr>\n",
       "    <tr>\n",
       "      <th>23</th>\n",
       "      <td>25</td>\n",
       "      <td>26</td>\n",
       "      <td>26</td>\n",
       "      <td>26</td>\n",
       "      <td>2022050300238</td>\n",
       "      <td>314.354951</td>\n",
       "      <td>40.998817</td>\n",
       "      <td>0.239830</td>\n",
       "      <td>-14.877615</td>\n",
       "      <td>14.879548</td>\n",
       "    </tr>\n",
       "    <tr>\n",
       "      <th>24</th>\n",
       "      <td>26</td>\n",
       "      <td>27</td>\n",
       "      <td>27</td>\n",
       "      <td>27</td>\n",
       "      <td>2022050300240</td>\n",
       "      <td>337.455464</td>\n",
       "      <td>65.975967</td>\n",
       "      <td>-3.688914</td>\n",
       "      <td>-14.578785</td>\n",
       "      <td>15.038253</td>\n",
       "    </tr>\n",
       "    <tr>\n",
       "      <th>25</th>\n",
       "      <td>27</td>\n",
       "      <td>28</td>\n",
       "      <td>28</td>\n",
       "      <td>28</td>\n",
       "      <td>2022050300242</td>\n",
       "      <td>344.819128</td>\n",
       "      <td>37.373214</td>\n",
       "      <td>3.467912</td>\n",
       "      <td>-15.669252</td>\n",
       "      <td>16.048423</td>\n",
       "    </tr>\n",
       "  </tbody>\n",
       "</table>\n",
       "</div>"
      ],
      "text/plain": [
       "    Unnamed: 0.3  Unnamed: 0.2  Unnamed: 0.1  Unnamed: 0      exposures  \\\n",
       "0              0             0             0           0  2022050300186   \n",
       "1              1             1             1           1  2022050300188   \n",
       "2              2             2             2           2  2022050300190   \n",
       "3              3             3             3           3  2022050300192   \n",
       "4              4             4             4           4  2022050300194   \n",
       "5              5             5             5           5  2022050300196   \n",
       "6              6             6             6           6  2022050300198   \n",
       "7              7             7             7           7  2022050300200   \n",
       "8              8             8             8           8  2022050300202   \n",
       "9              9             9             9           9  2022050300204   \n",
       "10            10            10            10          10  2022050300206   \n",
       "11            13            14            14          14  2022050300214   \n",
       "12            14            15            15          15  2022050300216   \n",
       "13            15            16            16          16  2022050300218   \n",
       "14            16            17            17          17  2022050300220   \n",
       "15            17            18            18          18  2022050300222   \n",
       "16            18            19            19          19  2022050300224   \n",
       "17            19            20            20          20  2022050300226   \n",
       "18            20            21            21          21  2022050300228   \n",
       "19            21            22            22          22  2022050300230   \n",
       "20            22            23            23          23  2022050300232   \n",
       "21            23            24            24          24  2022050300234   \n",
       "22            24            25            25          25  2022050300236   \n",
       "23            25            26            26          26  2022050300238   \n",
       "24            26            27            27          27  2022050300240   \n",
       "25            27            28            28          28  2022050300242   \n",
       "\n",
       "       azimuth  elevation  dx_origin  dy_origin  pointing_origin  \n",
       "0    15.179452  38.574614   9.067422 -14.778805        17.338720  \n",
       "1    22.688426  65.954237   0.250600 -14.561527        14.563683  \n",
       "2    45.131015  70.651670  -1.851978 -12.663460        12.798165  \n",
       "3    60.328573  33.119514   6.976247 -14.624754        16.203440  \n",
       "4    74.956338  48.491493   1.696785 -15.492281        15.584924  \n",
       "5   105.188835  35.626345   7.565717 -18.945330        20.400137  \n",
       "6   112.206536  52.255204   2.340396 -18.334392        18.483165  \n",
       "7   119.534492  26.572608  11.843504 -21.493764        24.540792  \n",
       "8   135.336476  47.146137   4.964627 -22.501140        23.042326  \n",
       "9   134.794695  20.689605  16.165042 -17.917245        24.131644  \n",
       "10  135.149385  73.194058  -2.089521 -19.777990        19.888062  \n",
       "11  179.904273  24.484786   9.886412 -16.549434        19.277575  \n",
       "12  194.962118  48.416924   0.351196 -15.745923        15.749839  \n",
       "13  203.724759  67.962207  -3.764197 -13.834219        14.337183  \n",
       "14  209.674838  27.952359   6.511534 -17.110924        18.308025  \n",
       "15  224.452705  37.322689   4.659486 -17.129422        17.751842  \n",
       "16  225.140530  67.676557  -2.624281 -12.986116        13.248625  \n",
       "17  240.214543  23.361968   9.625577 -13.022871        16.194039  \n",
       "18  247.441682  65.448784   3.097590 -13.577553        13.926415  \n",
       "19  284.354740  40.479341   0.488219 -16.907632        16.914679  \n",
       "20  293.245424  62.778451  -4.606518 -12.797884        13.601686  \n",
       "21  300.276675  30.364758   4.585786 -17.939072        18.515932  \n",
       "22  313.840595  79.232795  -9.104473 -13.064478        15.923945  \n",
       "23  314.354951  40.998817   0.239830 -14.877615        14.879548  \n",
       "24  337.455464  65.975967  -3.688914 -14.578785        15.038253  \n",
       "25  344.819128  37.373214   3.467912 -15.669252        16.048423  "
      ]
     },
     "execution_count": 65,
     "metadata": {},
     "output_type": "execute_result"
    }
   ],
   "source": [
    "df"
   ]
  },
  {
   "cell_type": "code",
   "execution_count": 13,
   "id": "0406f601-7363-49eb-a868-7d9dc5aaa85f",
   "metadata": {},
   "outputs": [
    {
     "data": {
      "image/png": "[encoded data removed]",
      "text/plain": [
       "<Figure size 1152x576 with 2 Axes>"
      ]
     },
     "metadata": {
      "needs_background": "light"
     },
     "output_type": "display_data"
    }
   ],
   "source": [
    "%matplotlib inline\n",
    "fig = plt.figure(figsize=(16,8))\n",
    "plt.scatter(df['azimuth'], df['elevation'], \n",
    "            s=50, alpha=0.5, c=df['pointing_origin'], label=f'Pointing Error', cmap='plasma')\n",
    "plt.title('2022 May 5th Pointing', fontsize = 16)\n",
    "plt.colorbar().set_label('Pointing Error [arcsec]',fontsize=16)\n",
    "plt.ylabel('Elevation [deg]',fontsize=12)\n",
    "plt.xlabel('Azimuth [deg]',fontsize=12)\n",
    "plt.show()"
   ]
  },
  {
   "cell_type": "code",
   "execution_count": 14,
   "id": "d4f1a100-382a-4d7b-8f1a-47403c8c5bc5",
   "metadata": {},
   "outputs": [
    {
     "data": {
      "text/html": [
       "<div>\n",
       "<style scoped>\n",
       "    .dataframe tbody tr th:only-of-type {\n",
       "        vertical-align: middle;\n",
       "    }\n",
       "\n",
       "    .dataframe tbody tr th {\n",
       "        vertical-align: top;\n",
       "    }\n",
       "\n",
       "    .dataframe thead th {\n",
       "        text-align: right;\n",
       "    }\n",
       "</style>\n",
       "<table border=\"1\" class=\"dataframe\">\n",
       "  <thead>\n",
       "    <tr style=\"text-align: right;\">\n",
       "      <th></th>\n",
       "      <th>exposures</th>\n",
       "      <th>azimuth</th>\n",
       "      <th>elevation</th>\n",
       "      <th>dx_origin</th>\n",
       "      <th>dy_origin</th>\n",
       "      <th>pointing_origin</th>\n",
       "    </tr>\n",
       "  </thead>\n",
       "  <tbody>\n",
       "  </tbody>\n",
       "</table>\n",
       "</div>"
      ],
      "text/plain": [
       "Empty DataFrame\n",
       "Columns: [exposures, azimuth, elevation, dx_origin, dy_origin, pointing_origin]\n",
       "Index: []"
      ]
     },
     "execution_count": 14,
     "metadata": {},
     "output_type": "execute_result"
    }
   ],
   "source": [
    "# Points with offset larger than 10 arcsec\n",
    "(df[df['pointing_origin']>30]) "
   ]
  },
  {
   "cell_type": "markdown",
   "id": "8fba8659-bd28-4134-bda0-93816af395b9",
   "metadata": {},
   "source": [
    "***"
   ]
  },
  {
   "cell_type": "code",
   "execution_count": 16,
   "id": "b0922226-951f-4876-9a0e-61b0d66a5b0e",
   "metadata": {},
   "outputs": [
    {
     "name": "stdout",
     "output_type": "stream",
     "text": [
      "The pointing accuracy RMS for the data is 5.36 arcsec\n"
     ]
    }
   ],
   "source": [
    "# Calculate pointing accuracy RMS. \n",
    "rms = np.sqrt(((df['pointing_origin']**2).sum())/len(df))\n",
    "print(f'The pointing accuracy RMS for the data is {rms:0.2f} arcsec')"
   ]
  },
  {
   "cell_type": "code",
   "execution_count": null,
   "id": "99f72052-e78f-4088-8022-12e94567e980",
   "metadata": {},
   "outputs": [],
   "source": []
  }
 ],
 "metadata": {
  "kernelspec": {
   "display_name": "LSST",
   "language": "python",
   "name": "lsst"
  },
  "language_info": {
   "codemirror_mode": {
    "name": "ipython",
    "version": 3
   },
   "file_extension": ".py",
   "mimetype": "text/x-python",
   "name": "python",
   "nbconvert_exporter": "python",
   "pygments_lexer": "ipython3",
   "version": "3.10.5"
  }
 },
 "nbformat": 4,
 "nbformat_minor": 5
}
